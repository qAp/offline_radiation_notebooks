{
 "cells": [
  {
   "cell_type": "code",
   "execution_count": 1,
   "metadata": {
    "collapsed": true
   },
   "outputs": [],
   "source": [
    "%matplotlib inline\n",
    "import os\n",
    "import re\n",
    "import io\n",
    "import itertools\n",
    "import pprint\n",
    "\n",
    "from bokeh.io import output_notebook, show\n",
    "from bokeh.layouts import gridplot\n",
    "from bokeh.plotting import figure\n",
    "from bokeh.models import Range1d, Legend\n",
    "from bokeh.palettes import all_palettes\n",
    "\n",
    "import matplotlib\n",
    "import matplotlib.pyplot as plt\n",
    "import numpy as np\n",
    "import pandas as pd\n",
    "import xarray as xr\n",
    "\n",
    "import climatools.lblnew.bestfit_params as bestfits\n",
    "from climatools.lblnew import setup_bestfit, setup_overlap\n",
    "import climatools.lblnew.pipeline as pipe_lblnew\n",
    "import climatools.cliradlw.setup as setup_cliradlw\n",
    "import climatools.cliradlw.pipeline as pipe_cliradlw\n",
    "\n",
    "import climatools.html.html as climahtml\n",
    "from climatools.lblnew.dataio import *\n",
    "from climatools.plot.plot import *\n",
    "\n",
    "\n",
    "import IPython.display as display"
   ]
  },
  {
   "cell_type": "code",
   "execution_count": 2,
   "metadata": {
    "collapsed": true
   },
   "outputs": [],
   "source": [
    "%run param.py"
   ]
  },
  {
   "cell_type": "code",
   "execution_count": 3,
   "metadata": {
    "collapsed": true
   },
   "outputs": [
    {
     "name": "stdout",
     "output_type": "stream",
     "text": [
      "The history saving thread hit an unexpected error (OperationalError('database is locked',)).History will not be written to the database.\n"
     ]
    }
   ],
   "source": [
    "def load_output_file(path_csv):\n",
    "    '''\n",
    "    Load lblnew output .csv file to xarray.Dataset\n",
    "    \n",
    "    Parameters\n",
    "    ----------\n",
    "    path_csv: str\n",
    "              Path to the .csv file to be loaded.\n",
    "    ds: xarray.Dataset\n",
    "        Data in the input file in the form of an xarray.Dataset.\n",
    "    '''\n",
    "    toindex = ['band', 'pressure', 'igg', 'g']    \n",
    "    df = pd.read_csv(path_csv, sep=r'\\s+')\n",
    "    df = df.set_index([i for i in toindex if i in df.columns])\n",
    "    df = df.rename(columns={'sfu': 'flug',\n",
    "                            'sfd': 'fldg',\n",
    "                            'fnet': 'fnetg',\n",
    "                            'coolr': 'coolrg'})\n",
    "    ds = xr.Dataset.from_dataframe(df)\n",
    "\n",
    "    for l in ('level', 'layer'):\n",
    "        if l in ds.data_vars:\n",
    "            if len(ds[l].dims) > 1:\n",
    "                surface = {d: 0 for d in ds.dims if d != 'pressure'}\n",
    "                coord_level = ds[l][surface]\n",
    "                ds.coords[l] = ('pressure', coord_level)\n",
    "            else:\n",
    "                ds.coords[l] = ('pressure', ds[l])\n",
    "    \n",
    "    return ds"
   ]
  },
  {
   "cell_type": "code",
   "execution_count": 4,
   "metadata": {
    "collapsed": true
   },
   "outputs": [],
   "source": [
    "def lblnew_setup(param=None):\n",
    "    if 'ng_refs' in param:\n",
    "        return {'setup': setup_bestfit,\n",
    "                'fname_flux_crd': 'output_flux.dat',\n",
    "                'fname_cool_crd': 'output_coolr.dat',\n",
    "                'fname_flux_wgt': 'output_wfluxg.dat',\n",
    "                'fname_cool_wgt': 'output_wcoolrg.dat'}\n",
    "    else:\n",
    "        return {'setup': setup_overlap,\n",
    "                'fname_flux_crd': 'output_flux.dat',\n",
    "                'fname_cool_crd': 'output_coolr.dat',\n",
    "                'fname_flux_wgt': 'output_wflux.dat',\n",
    "                'fname_cool_wgt': 'output_wcoolr.dat'}\n",
    "\n",
    "    \n",
    "def load_lblnew_data(param):\n",
    "    \n",
    "    fname_dsname = [('fname_flux_crd', 'ds_flux_crd'),\n",
    "                    ('fname_cool_crd', 'ds_cool_crd'),\n",
    "                    ('fname_flux_wgt', 'ds_flux_wgt'),\n",
    "                    ('fname_cool_wgt', 'ds_cool_wgt')]\n",
    "    \n",
    "    d = lblnew_setup(param)\n",
    "    dir_fortran = pipe_lblnew.get_dir_case(param, setup=d['setup'])\n",
    "    \n",
    "    data_dict = {}\n",
    "    for fname, dsname in fname_dsname:\n",
    "        fpath = os.path.join(dir_fortran, d[fname])\n",
    "        data_dict[dsname] = load_output_file(fpath)\n",
    "    return data_dict\n",
    "    \n",
    "\n",
    "    \n",
    "    "
   ]
  },
  {
   "cell_type": "code",
   "execution_count": 5,
   "metadata": {
    "collapsed": true
   },
   "outputs": [],
   "source": [
    "d = load_lblnew_data(PARAM_LBLNEW)\n",
    "\n",
    "DS_FLUX_CRD = d['ds_flux_crd']\n",
    "DS_COOL_CRD = d['ds_cool_crd']\n",
    "DS_FLUX_WGT = d['ds_flux_wgt']\n",
    "DS_COOL_WGT = d['ds_cool_wgt']"
   ]
  },
  {
   "cell_type": "code",
   "execution_count": 6,
   "metadata": {
    "collapsed": true
   },
   "outputs": [],
   "source": [
    "DIR_FORTRAN = pipe_cliradlw.get_fortran_dir(PARAM, \n",
    "                                            setup=setup_cliradlw)\n",
    "\n",
    "PATH_FLUX = os.path.join(DIR_FORTRAN, 'output_flux.dat')\n",
    "PATH_COOL = os.path.join(DIR_FORTRAN, 'output_coolr.dat')\n",
    "\n",
    "DS_FLUX = load_output_file(PATH_FLUX)\n",
    "DS_COOL = load_output_file(PATH_COOL)"
   ]
  },
  {
   "cell_type": "code",
   "execution_count": 7,
   "metadata": {
    "collapsed": true
   },
   "outputs": [
    {
     "data": {
      "text/html": [
       "\n",
       "    <div class=\"bk-root\">\n",
       "        <a href=\"https://bokeh.pydata.org\" target=\"_blank\" class=\"bk-logo bk-logo-small bk-logo-notebook\"></a>\n",
       "        <span id=\"3102bd64-c529-4d81-aff1-8f0fd0530fdf\">Loading BokehJS ...</span>\n",
       "    </div>"
      ]
     },
     "metadata": {},
     "output_type": "display_data"
    },
    {
     "data": {
      "application/javascript": [
       "\n",
       "(function(root) {\n",
       "  function now() {\n",
       "    return new Date();\n",
       "  }\n",
       "\n",
       "  var force = true;\n",
       "\n",
       "  if (typeof (root._bokeh_onload_callbacks) === \"undefined\" || force === true) {\n",
       "    root._bokeh_onload_callbacks = [];\n",
       "    root._bokeh_is_loading = undefined;\n",
       "  }\n",
       "\n",
       "  var JS_MIME_TYPE = 'application/javascript';\n",
       "  var HTML_MIME_TYPE = 'text/html';\n",
       "  var EXEC_MIME_TYPE = 'application/vnd.bokehjs_exec.v0+json';\n",
       "  var CLASS_NAME = 'output_bokeh rendered_html';\n",
       "\n",
       "  /**\n",
       "   * Render data to the DOM node\n",
       "   */\n",
       "  function render(props, node) {\n",
       "    var script = document.createElement(\"script\");\n",
       "    node.appendChild(script);\n",
       "  }\n",
       "\n",
       "  /**\n",
       "   * Handle when an output is cleared or removed\n",
       "   */\n",
       "  function handleClearOutput(event, handle) {\n",
       "    var cell = handle.cell;\n",
       "\n",
       "    var id = cell.output_area._bokeh_element_id;\n",
       "    var server_id = cell.output_area._bokeh_server_id;\n",
       "    // Clean up Bokeh references\n",
       "    if (id !== undefined) {\n",
       "      Bokeh.index[id].model.document.clear();\n",
       "      delete Bokeh.index[id];\n",
       "    }\n",
       "\n",
       "    if (server_id !== undefined) {\n",
       "      // Clean up Bokeh references\n",
       "      var cmd = \"from bokeh.io.state import curstate; print(curstate().uuid_to_server['\" + server_id + \"'].get_sessions()[0].document.roots[0]._id)\";\n",
       "      cell.notebook.kernel.execute(cmd, {\n",
       "        iopub: {\n",
       "          output: function(msg) {\n",
       "            var element_id = msg.content.text.trim();\n",
       "            Bokeh.index[element_id].model.document.clear();\n",
       "            delete Bokeh.index[element_id];\n",
       "          }\n",
       "        }\n",
       "      });\n",
       "      // Destroy server and session\n",
       "      var cmd = \"import bokeh.io.notebook as ion; ion.destroy_server('\" + server_id + \"')\";\n",
       "      cell.notebook.kernel.execute(cmd);\n",
       "    }\n",
       "  }\n",
       "\n",
       "  /**\n",
       "   * Handle when a new output is added\n",
       "   */\n",
       "  function handleAddOutput(event, handle) {\n",
       "    var output_area = handle.output_area;\n",
       "    var output = handle.output;\n",
       "\n",
       "    // limit handleAddOutput to display_data with EXEC_MIME_TYPE content only\n",
       "    if ((output.output_type != \"display_data\") || (!output.data.hasOwnProperty(EXEC_MIME_TYPE))) {\n",
       "      return\n",
       "    }\n",
       "\n",
       "    var toinsert = output_area.element.find(\".\" + CLASS_NAME.split(' ')[0]);\n",
       "\n",
       "    if (output.metadata[EXEC_MIME_TYPE][\"id\"] !== undefined) {\n",
       "      toinsert[0].firstChild.textContent = output.data[JS_MIME_TYPE];\n",
       "      // store reference to embed id on output_area\n",
       "      output_area._bokeh_element_id = output.metadata[EXEC_MIME_TYPE][\"id\"];\n",
       "    }\n",
       "    if (output.metadata[EXEC_MIME_TYPE][\"server_id\"] !== undefined) {\n",
       "      var bk_div = document.createElement(\"div\");\n",
       "      bk_div.innerHTML = output.data[HTML_MIME_TYPE];\n",
       "      var script_attrs = bk_div.children[0].attributes;\n",
       "      for (var i = 0; i < script_attrs.length; i++) {\n",
       "        toinsert[0].firstChild.setAttribute(script_attrs[i].name, script_attrs[i].value);\n",
       "      }\n",
       "      // store reference to server id on output_area\n",
       "      output_area._bokeh_server_id = output.metadata[EXEC_MIME_TYPE][\"server_id\"];\n",
       "    }\n",
       "  }\n",
       "\n",
       "  function register_renderer(events, OutputArea) {\n",
       "\n",
       "    function append_mime(data, metadata, element) {\n",
       "      // create a DOM node to render to\n",
       "      var toinsert = this.create_output_subarea(\n",
       "        metadata,\n",
       "        CLASS_NAME,\n",
       "        EXEC_MIME_TYPE\n",
       "      );\n",
       "      this.keyboard_manager.register_events(toinsert);\n",
       "      // Render to node\n",
       "      var props = {data: data, metadata: metadata[EXEC_MIME_TYPE]};\n",
       "      render(props, toinsert[0]);\n",
       "      element.append(toinsert);\n",
       "      return toinsert\n",
       "    }\n",
       "\n",
       "    /* Handle when an output is cleared or removed */\n",
       "    events.on('clear_output.CodeCell', handleClearOutput);\n",
       "    events.on('delete.Cell', handleClearOutput);\n",
       "\n",
       "    /* Handle when a new output is added */\n",
       "    events.on('output_added.OutputArea', handleAddOutput);\n",
       "\n",
       "    /**\n",
       "     * Register the mime type and append_mime function with output_area\n",
       "     */\n",
       "    OutputArea.prototype.register_mime_type(EXEC_MIME_TYPE, append_mime, {\n",
       "      /* Is output safe? */\n",
       "      safe: true,\n",
       "      /* Index of renderer in `output_area.display_order` */\n",
       "      index: 0\n",
       "    });\n",
       "  }\n",
       "\n",
       "  // register the mime type if in Jupyter Notebook environment and previously unregistered\n",
       "  if (root.Jupyter !== undefined) {\n",
       "    var events = require('base/js/events');\n",
       "    var OutputArea = require('notebook/js/outputarea').OutputArea;\n",
       "\n",
       "    if (OutputArea.prototype.mime_types().indexOf(EXEC_MIME_TYPE) == -1) {\n",
       "      register_renderer(events, OutputArea);\n",
       "    }\n",
       "  }\n",
       "\n",
       "  \n",
       "  if (typeof (root._bokeh_timeout) === \"undefined\" || force === true) {\n",
       "    root._bokeh_timeout = Date.now() + 5000;\n",
       "    root._bokeh_failed_load = false;\n",
       "  }\n",
       "\n",
       "  var NB_LOAD_WARNING = {'data': {'text/html':\n",
       "     \"<div style='background-color: #fdd'>\\n\"+\n",
       "     \"<p>\\n\"+\n",
       "     \"BokehJS does not appear to have successfully loaded. If loading BokehJS from CDN, this \\n\"+\n",
       "     \"may be due to a slow or bad network connection. Possible fixes:\\n\"+\n",
       "     \"</p>\\n\"+\n",
       "     \"<ul>\\n\"+\n",
       "     \"<li>re-rerun `output_notebook()` to attempt to load from CDN again, or</li>\\n\"+\n",
       "     \"<li>use INLINE resources instead, as so:</li>\\n\"+\n",
       "     \"</ul>\\n\"+\n",
       "     \"<code>\\n\"+\n",
       "     \"from bokeh.resources import INLINE\\n\"+\n",
       "     \"output_notebook(resources=INLINE)\\n\"+\n",
       "     \"</code>\\n\"+\n",
       "     \"</div>\"}};\n",
       "\n",
       "  function display_loaded() {\n",
       "    var el = document.getElementById(\"3102bd64-c529-4d81-aff1-8f0fd0530fdf\");\n",
       "    if (el != null) {\n",
       "      el.textContent = \"BokehJS is loading...\";\n",
       "    }\n",
       "    if (root.Bokeh !== undefined) {\n",
       "      if (el != null) {\n",
       "        el.textContent = \"BokehJS \" + root.Bokeh.version + \" successfully loaded.\";\n",
       "      }\n",
       "    } else if (Date.now() < root._bokeh_timeout) {\n",
       "      setTimeout(display_loaded, 100)\n",
       "    }\n",
       "  }\n",
       "\n",
       "\n",
       "  function run_callbacks() {\n",
       "    try {\n",
       "      root._bokeh_onload_callbacks.forEach(function(callback) { callback() });\n",
       "    }\n",
       "    finally {\n",
       "      delete root._bokeh_onload_callbacks\n",
       "    }\n",
       "    console.info(\"Bokeh: all callbacks have finished\");\n",
       "  }\n",
       "\n",
       "  function load_libs(js_urls, callback) {\n",
       "    root._bokeh_onload_callbacks.push(callback);\n",
       "    if (root._bokeh_is_loading > 0) {\n",
       "      console.log(\"Bokeh: BokehJS is being loaded, scheduling callback at\", now());\n",
       "      return null;\n",
       "    }\n",
       "    if (js_urls == null || js_urls.length === 0) {\n",
       "      run_callbacks();\n",
       "      return null;\n",
       "    }\n",
       "    console.log(\"Bokeh: BokehJS not loaded, scheduling load and callback at\", now());\n",
       "    root._bokeh_is_loading = js_urls.length;\n",
       "    for (var i = 0; i < js_urls.length; i++) {\n",
       "      var url = js_urls[i];\n",
       "      var s = document.createElement('script');\n",
       "      s.src = url;\n",
       "      s.async = false;\n",
       "      s.onreadystatechange = s.onload = function() {\n",
       "        root._bokeh_is_loading--;\n",
       "        if (root._bokeh_is_loading === 0) {\n",
       "          console.log(\"Bokeh: all BokehJS libraries loaded\");\n",
       "          run_callbacks()\n",
       "        }\n",
       "      };\n",
       "      s.onerror = function() {\n",
       "        console.warn(\"failed to load library \" + url);\n",
       "      };\n",
       "      console.log(\"Bokeh: injecting script tag for BokehJS library: \", url);\n",
       "      document.getElementsByTagName(\"head\")[0].appendChild(s);\n",
       "    }\n",
       "  };var element = document.getElementById(\"3102bd64-c529-4d81-aff1-8f0fd0530fdf\");\n",
       "  if (element == null) {\n",
       "    console.log(\"Bokeh: ERROR: autoload.js configured with elementid '3102bd64-c529-4d81-aff1-8f0fd0530fdf' but no matching script tag was found. \")\n",
       "    return false;\n",
       "  }\n",
       "\n",
       "  var js_urls = [\"https://cdn.pydata.org/bokeh/release/bokeh-0.12.14.min.js\", \"https://cdn.pydata.org/bokeh/release/bokeh-widgets-0.12.14.min.js\", \"https://cdn.pydata.org/bokeh/release/bokeh-tables-0.12.14.min.js\", \"https://cdn.pydata.org/bokeh/release/bokeh-gl-0.12.14.min.js\"];\n",
       "\n",
       "  var inline_js = [\n",
       "    function(Bokeh) {\n",
       "      Bokeh.set_log_level(\"info\");\n",
       "    },\n",
       "    \n",
       "    function(Bokeh) {\n",
       "      \n",
       "    },\n",
       "    function(Bokeh) {\n",
       "      console.log(\"Bokeh: injecting CSS: https://cdn.pydata.org/bokeh/release/bokeh-0.12.14.min.css\");\n",
       "      Bokeh.embed.inject_css(\"https://cdn.pydata.org/bokeh/release/bokeh-0.12.14.min.css\");\n",
       "      console.log(\"Bokeh: injecting CSS: https://cdn.pydata.org/bokeh/release/bokeh-widgets-0.12.14.min.css\");\n",
       "      Bokeh.embed.inject_css(\"https://cdn.pydata.org/bokeh/release/bokeh-widgets-0.12.14.min.css\");\n",
       "      console.log(\"Bokeh: injecting CSS: https://cdn.pydata.org/bokeh/release/bokeh-tables-0.12.14.min.css\");\n",
       "      Bokeh.embed.inject_css(\"https://cdn.pydata.org/bokeh/release/bokeh-tables-0.12.14.min.css\");\n",
       "    }\n",
       "  ];\n",
       "\n",
       "  function run_inline_js() {\n",
       "    \n",
       "    if ((root.Bokeh !== undefined) || (force === true)) {\n",
       "      for (var i = 0; i < inline_js.length; i++) {\n",
       "        inline_js[i].call(root, root.Bokeh);\n",
       "      }if (force === true) {\n",
       "        display_loaded();\n",
       "      }} else if (Date.now() < root._bokeh_timeout) {\n",
       "      setTimeout(run_inline_js, 100);\n",
       "    } else if (!root._bokeh_failed_load) {\n",
       "      console.log(\"Bokeh: BokehJS failed to load within specified timeout.\");\n",
       "      root._bokeh_failed_load = true;\n",
       "    } else if (force !== true) {\n",
       "      var cell = $(document.getElementById(\"3102bd64-c529-4d81-aff1-8f0fd0530fdf\")).parents('.cell').data().cell;\n",
       "      cell.output_area.append_execute_result(NB_LOAD_WARNING)\n",
       "    }\n",
       "\n",
       "  }\n",
       "\n",
       "  if (root._bokeh_is_loading === 0) {\n",
       "    console.log(\"Bokeh: BokehJS loaded, going straight to plotting\");\n",
       "    run_inline_js();\n",
       "  } else {\n",
       "    load_libs(js_urls, function() {\n",
       "      console.log(\"Bokeh: BokehJS plotting callback run at\", now());\n",
       "      run_inline_js();\n",
       "    });\n",
       "  }\n",
       "}(window));"
      ],
      "application/vnd.bokehjs_load.v0+json": "\n(function(root) {\n  function now() {\n    return new Date();\n  }\n\n  var force = true;\n\n  if (typeof (root._bokeh_onload_callbacks) === \"undefined\" || force === true) {\n    root._bokeh_onload_callbacks = [];\n    root._bokeh_is_loading = undefined;\n  }\n\n  \n\n  \n  if (typeof (root._bokeh_timeout) === \"undefined\" || force === true) {\n    root._bokeh_timeout = Date.now() + 5000;\n    root._bokeh_failed_load = false;\n  }\n\n  var NB_LOAD_WARNING = {'data': {'text/html':\n     \"<div style='background-color: #fdd'>\\n\"+\n     \"<p>\\n\"+\n     \"BokehJS does not appear to have successfully loaded. If loading BokehJS from CDN, this \\n\"+\n     \"may be due to a slow or bad network connection. Possible fixes:\\n\"+\n     \"</p>\\n\"+\n     \"<ul>\\n\"+\n     \"<li>re-rerun `output_notebook()` to attempt to load from CDN again, or</li>\\n\"+\n     \"<li>use INLINE resources instead, as so:</li>\\n\"+\n     \"</ul>\\n\"+\n     \"<code>\\n\"+\n     \"from bokeh.resources import INLINE\\n\"+\n     \"output_notebook(resources=INLINE)\\n\"+\n     \"</code>\\n\"+\n     \"</div>\"}};\n\n  function display_loaded() {\n    var el = document.getElementById(\"3102bd64-c529-4d81-aff1-8f0fd0530fdf\");\n    if (el != null) {\n      el.textContent = \"BokehJS is loading...\";\n    }\n    if (root.Bokeh !== undefined) {\n      if (el != null) {\n        el.textContent = \"BokehJS \" + root.Bokeh.version + \" successfully loaded.\";\n      }\n    } else if (Date.now() < root._bokeh_timeout) {\n      setTimeout(display_loaded, 100)\n    }\n  }\n\n\n  function run_callbacks() {\n    try {\n      root._bokeh_onload_callbacks.forEach(function(callback) { callback() });\n    }\n    finally {\n      delete root._bokeh_onload_callbacks\n    }\n    console.info(\"Bokeh: all callbacks have finished\");\n  }\n\n  function load_libs(js_urls, callback) {\n    root._bokeh_onload_callbacks.push(callback);\n    if (root._bokeh_is_loading > 0) {\n      console.log(\"Bokeh: BokehJS is being loaded, scheduling callback at\", now());\n      return null;\n    }\n    if (js_urls == null || js_urls.length === 0) {\n      run_callbacks();\n      return null;\n    }\n    console.log(\"Bokeh: BokehJS not loaded, scheduling load and callback at\", now());\n    root._bokeh_is_loading = js_urls.length;\n    for (var i = 0; i < js_urls.length; i++) {\n      var url = js_urls[i];\n      var s = document.createElement('script');\n      s.src = url;\n      s.async = false;\n      s.onreadystatechange = s.onload = function() {\n        root._bokeh_is_loading--;\n        if (root._bokeh_is_loading === 0) {\n          console.log(\"Bokeh: all BokehJS libraries loaded\");\n          run_callbacks()\n        }\n      };\n      s.onerror = function() {\n        console.warn(\"failed to load library \" + url);\n      };\n      console.log(\"Bokeh: injecting script tag for BokehJS library: \", url);\n      document.getElementsByTagName(\"head\")[0].appendChild(s);\n    }\n  };var element = document.getElementById(\"3102bd64-c529-4d81-aff1-8f0fd0530fdf\");\n  if (element == null) {\n    console.log(\"Bokeh: ERROR: autoload.js configured with elementid '3102bd64-c529-4d81-aff1-8f0fd0530fdf' but no matching script tag was found. \")\n    return false;\n  }\n\n  var js_urls = [\"https://cdn.pydata.org/bokeh/release/bokeh-0.12.14.min.js\", \"https://cdn.pydata.org/bokeh/release/bokeh-widgets-0.12.14.min.js\", \"https://cdn.pydata.org/bokeh/release/bokeh-tables-0.12.14.min.js\", \"https://cdn.pydata.org/bokeh/release/bokeh-gl-0.12.14.min.js\"];\n\n  var inline_js = [\n    function(Bokeh) {\n      Bokeh.set_log_level(\"info\");\n    },\n    \n    function(Bokeh) {\n      \n    },\n    function(Bokeh) {\n      console.log(\"Bokeh: injecting CSS: https://cdn.pydata.org/bokeh/release/bokeh-0.12.14.min.css\");\n      Bokeh.embed.inject_css(\"https://cdn.pydata.org/bokeh/release/bokeh-0.12.14.min.css\");\n      console.log(\"Bokeh: injecting CSS: https://cdn.pydata.org/bokeh/release/bokeh-widgets-0.12.14.min.css\");\n      Bokeh.embed.inject_css(\"https://cdn.pydata.org/bokeh/release/bokeh-widgets-0.12.14.min.css\");\n      console.log(\"Bokeh: injecting CSS: https://cdn.pydata.org/bokeh/release/bokeh-tables-0.12.14.min.css\");\n      Bokeh.embed.inject_css(\"https://cdn.pydata.org/bokeh/release/bokeh-tables-0.12.14.min.css\");\n    }\n  ];\n\n  function run_inline_js() {\n    \n    if ((root.Bokeh !== undefined) || (force === true)) {\n      for (var i = 0; i < inline_js.length; i++) {\n        inline_js[i].call(root, root.Bokeh);\n      }if (force === true) {\n        display_loaded();\n      }} else if (Date.now() < root._bokeh_timeout) {\n      setTimeout(run_inline_js, 100);\n    } else if (!root._bokeh_failed_load) {\n      console.log(\"Bokeh: BokehJS failed to load within specified timeout.\");\n      root._bokeh_failed_load = true;\n    } else if (force !== true) {\n      var cell = $(document.getElementById(\"3102bd64-c529-4d81-aff1-8f0fd0530fdf\")).parents('.cell').data().cell;\n      cell.output_area.append_execute_result(NB_LOAD_WARNING)\n    }\n\n  }\n\n  if (root._bokeh_is_loading === 0) {\n    console.log(\"Bokeh: BokehJS loaded, going straight to plotting\");\n    run_inline_js();\n  } else {\n    load_libs(js_urls, function() {\n      console.log(\"Bokeh: BokehJS plotting callback run at\", now());\n      run_inline_js();\n    });\n  }\n}(window));"
     },
     "metadata": {},
     "output_type": "display_data"
    }
   ],
   "source": [
    "output_notebook()"
   ]
  },
  {
   "cell_type": "code",
   "execution_count": 8,
   "metadata": {
    "collapsed": true
   },
   "outputs": [],
   "source": [
    "def fmt_cool(ds_in):\n",
    "    ds = ds_in.copy(deep=True)\n",
    "    if 'igg' in ds.dims:\n",
    "        ds = ds.sel(igg=1)\n",
    "\n",
    "    if 'g' in ds.dims:\n",
    "        ds = ds.sum('g')\n",
    "            \n",
    "    if 'band' in ds.dims:\n",
    "        try:\n",
    "            ds = ds.squeeze('band')\n",
    "        except ValueError:\n",
    "            ds = ds.sum('band')\n",
    "                \n",
    "    return ds['coolrg']\n",
    "\n",
    "\n",
    "def pltdata_cooling_1(ds_cool=None,\n",
    "                      ds_cool_crd=None, ds_cool_wgt=None):\n",
    "    \n",
    "\n",
    "\n",
    "    colors = all_palettes['Set1'][4]\n",
    "    data = [{'label': 'CLIRAD `coolr_bands`',\n",
    "             'srs': fmt_cool(ds_cool),\n",
    "             'line_dash': 'dashed', 'line_width': 5,\n",
    "             'color': colors[0], 'alpha': .6},\n",
    "            {'label': 'CRD',\n",
    "             'srs': fmt_cool(ds_cool_crd),\n",
    "             'line_dash': 'solid', 'line_width': 1.5,\n",
    "             'marker': 'circle', 'marker_size': 5,\n",
    "             'color': colors[2], 'alpha': 1,},\n",
    "            {'label': 'WGT igg=10 wgt_flux=2',\n",
    "             'srs': fmt_cool(ds_cool_wgt),\n",
    "             'line_dash': 'solid', 'line_width': 3,\n",
    "             'marker': 'square', 'marker_size': 5,\n",
    "             'color': colors[3], 'alpha': .6}]\n",
    "    return data\n",
    "\n",
    "\n",
    "def nice_xlims(pltdata=None, prange=None):\n",
    "    \n",
    "    def get_slice(srs):\n",
    "        return srs.sel(pressure=slice(*prange))\n",
    "    \n",
    "    srss = [d['srs'] for d in pltdata]\n",
    "    vmin = min([get_slice(srs).min() for srs in srss])\n",
    "    vmax = max([get_slice(srs).max() for srs in srss])\n",
    "    dv = (vmax - vmin) * .01\n",
    "    return float(vmin - dv), float(vmax + dv)\n",
    "    \n",
    "\n",
    "def plt_cooling_bokeh(pltdata=None):\n",
    "    '''\n",
    "    Plot a list of cooling rate profiles using bokeh.\n",
    "    '''\n",
    "    ymin = 1e-2 \n",
    "    ymax = 1020 \n",
    "        \n",
    "    p1 = figure(title=\"Linear pressure scale\", \n",
    "                plot_width=400)        \n",
    "    xmin, xmax = nice_xlims(pltdata, prange=(50, 1050))\n",
    "    for d in pltdata:\n",
    "        if 'marker' in d:\n",
    "            getattr(p1, d['marker'])(d['srs'].values, \n",
    "                    d['srs'].coords['pressure'].values,\n",
    "                    color=d['color'], alpha=.7)\n",
    "        p1.line(d['srs'].values, \n",
    "                d['srs'].coords['pressure'].values,\n",
    "                color=d['color'], alpha=d['alpha'], \n",
    "                line_width=d['line_width'], line_dash=d['line_dash'])\n",
    "    \n",
    "    p1.y_range = Range1d(ymax, ymin)\n",
    "    p1.yaxis.axis_label = 'pressure [mb]'   \n",
    "    p1.x_range = Range1d(xmin, xmax)\n",
    "    p1.xaxis.axis_label = 'cooling rate [K/day]'\n",
    "            \n",
    "    p2 = figure(title='Log pressure scale', y_axis_type='log',\n",
    "                plot_width=560)\n",
    "    xmin, xmax = nice_xlims(pltdata, prange=(.01, 200))\n",
    "    \n",
    "    rs = []\n",
    "    for d in pltdata:\n",
    "        rd = []\n",
    "        if 'marker' in d:\n",
    "            r_mark = getattr(p2, d['marker'])(d['srs'].values, \n",
    "                        d['srs'].coords['pressure'].values,\n",
    "                        color=d['color'], alpha=.7)\n",
    "            rd.append(r_mark)\n",
    "        r_line = p2.line(d['srs'].values, \n",
    "                    d['srs'].coords['pressure'].values,\n",
    "                    color=d['color'], alpha=d['alpha'], \n",
    "                    line_width=d['line_width'], line_dash=d['line_dash'])\n",
    "        rd.append(r_line)\n",
    "      \n",
    "        rs.append(rd)\n",
    "        \n",
    "    p2.y_range = Range1d(ymax, ymin)  \n",
    "    p2.yaxis.axis_label = 'pressure [mb]'\n",
    "    \n",
    "    p2.x_range = Range1d(xmin, xmax)\n",
    "    p2.xaxis.axis_label = 'cooling rate [K/day]'\n",
    "    \n",
    "    items = [(d['label'], r) for r, d in zip(rs, pltdata)]\n",
    "    legend = Legend(items=items, location=(10, -30))\n",
    "    legend.label_text_font_size = '8pt'\n",
    "    \n",
    "    p2.add_layout(legend, 'right')  \n",
    "    \n",
    "    show(gridplot(p1, p2, ncols=2, plot_height=500))\n",
    "    \n",
    "\n",
    "def script_plt_cooling():\n",
    "    pltdata = pltdata_cooling_1(\n",
    "        ds_cool=DS_COOL,\n",
    "        ds_cool_crd=DS_COOL_CRD,\n",
    "        ds_cool_wgt=DS_COOL_WGT)\n",
    "    plt_cooling_bokeh(pltdata=pltdata)\n",
    "    print('''FIGURE. Cooling rate profiles.''')"
   ]
  },
  {
   "cell_type": "code",
   "execution_count": 9,
   "metadata": {
    "collapsed": true
   },
   "outputs": [],
   "source": [
    "def fmt_flux(ds_in):\n",
    "    ds = ds_in.copy(deep=True)\n",
    "    \n",
    "    for l in ('level', 'layer'):\n",
    "        if l in ds.data_vars:\n",
    "            if len(ds[l].dims) > 1:\n",
    "                surface = {d: 0 for d in ds.dims if d != 'pressure'}\n",
    "                coord_level = ds[l][surface]\n",
    "                ds.coords[l] = ('pressure', coord_level)\n",
    "            else:\n",
    "                ds.coords[l] = ('pressure', ds[l])\n",
    "        \n",
    "    ds = ds.isel(pressure=[0, 23, -1])\n",
    "        \n",
    "    if 'igg' in ds.dims:\n",
    "        ds = ds.sel(igg=[1])\n",
    "        ds = ds.squeeze('igg').drop('igg')\n",
    "    \n",
    "    if 'g' in ds.dims:\n",
    "        ds = ds.sum('g')\n",
    "            \n",
    "    if 'band' in ds.dims:\n",
    "        try:\n",
    "            ds = ds.squeeze('band').drop('band')\n",
    "        except ValueError:\n",
    "            ds = ds.sum('band')\n",
    "                \n",
    "    df = ds.to_dataframe()\n",
    "    df = df.set_index('level', append=True)               \n",
    "    return df\n",
    "\n",
    "\n",
    "def tbdata_flux(ds_flux=None, ds_flux_crd=None, ds_flux_wgt=None):\n",
    "    ilevels = [0, 23, -1]\n",
    "            \n",
    "    benchmark = {'label': 'WGT igg=10 wgt_flux=1',\n",
    "                 'df': fmt_flux(ds_flux_wgt)}\n",
    "    \n",
    "    tbs = [{'label': 'CRD',\n",
    "            'df': fmt_flux(ds_flux_crd)},\n",
    "           {'label': 'CLIRAD',\n",
    "            'df': fmt_flux(ds_flux)}]\n",
    "    \n",
    "    data = {'benchmark': benchmark, 'others': tbs}\n",
    "    return data\n",
    "\n",
    "\n",
    "def tb_flux(tbdata=None):\n",
    "    benchmark = tbdata['benchmark']\n",
    "    others = tbdata['others']\n",
    "    \n",
    "    def show_tb(d=None):\n",
    "        display.display(d['df'])\n",
    "        print('Table.', 'Fluxes.', d['label'])\n",
    "        \n",
    "    def show_tbdiff(d0=None, d=None):\n",
    "        df = d['df']\n",
    "        df.index = d0['df'].index\n",
    "        display.display(df - d0['df'])\n",
    "        print('Table.', 'Fluxes.', \n",
    "              '({}) - ({})'.format(d['label'], d0['label']))\n",
    "        \n",
    "    show_tb(benchmark)\n",
    "    for d in others:\n",
    "        show_tb(d)\n",
    "        \n",
    "    for d in others:\n",
    "        show_tbdiff(d=d, d0=benchmark)\n",
    "        \n",
    "        \n",
    "def script_tb_flux():\n",
    "    data = tbdata_flux(ds_flux=DS_FLUX,\n",
    "                       ds_flux_crd=DS_FLUX_CRD,\n",
    "                       ds_flux_wgt=DS_FLUX_WGT)\n",
    "    tb_flux(tbdata=data)"
   ]
  },
  {
   "cell_type": "code",
   "execution_count": 10,
   "metadata": {
    "collapsed": true
   },
   "outputs": [],
   "source": [
    "def band_map():\n",
    "    '''\n",
    "    Maps spectral bands in lblnew to spectral bands in clirad.\n",
    "    '''\n",
    "    lblnew2clirad = {'1': '1',\n",
    "            '2': '2',\n",
    "            '3a': '3',\n",
    "            '3b': '4',\n",
    "            '3c': '5',\n",
    "            '4': '6', \n",
    "            '5': '7',\n",
    "            '6': '8',\n",
    "            '7': '9', \n",
    "            '8': '10',\n",
    "            '9': '11'}\n",
    "    \n",
    "    clirad2lblnew = {clirad: lblnew \n",
    "                     for lblnew, clirad in lblnew2clirad.items()}\n",
    "    return clirad2lblnew\n",
    "\n",
    "\n",
    "def gasbands():\n",
    "    bmap = band_map()\n",
    "    gases = list(PARAM['molecule'].keys())\n",
    "    \n",
    "    bands = [bmap[str(b)] for b in PARAM['band']]\n",
    "    return list(itertools.product(gases, bands))\n",
    "\n",
    "\n",
    "def print_bestfit_params():\n",
    "    print('Best-fit values for each (gas, band)')\n",
    "    print('------------------------------------')\n",
    "    for gas, band in gasbands():\n",
    "        print('o {} band{}'.format(gas, band))\n",
    "        param = bestfits.kdist_params(molecule=gas, band=band)\n",
    "        for name, value in sorted(param.items()):\n",
    "            print(2 * ' ' + '{} = {}'.format(name, value))\n",
    "\n",
    "        \n",
    "def print_input_param():        \n",
    "    for name, value in PARAM.items():\n",
    "        print('{} = {}'.format(name, value))\n",
    "        \n",
    "        \n",
    "def print_lblnew_param():\n",
    "    for name, value in sorted(PARAM_LBLNEW.items()):\n",
    "        print('{} = {}'.format(name, value))\n"
   ]
  },
  {
   "cell_type": "code",
   "execution_count": 11,
   "metadata": {
    "collapsed": true,
    "scrolled": false
   },
   "outputs": [],
   "source": [
    "def show_html(s):\n",
    "    display.display(display.HTML(s))\n",
    "\n",
    "    \n",
    "def show_markdown(s):\n",
    "    display.display(display.Markdown(s))\n",
    "\n",
    "    \n",
    "def script():\n",
    "    \n",
    "    title = '### CLIRAD-LW'\n",
    "    s_input = 'Input Parameters'\n",
    "    s_lblnew_param = 'LBLNEW case compaired against'\n",
    "    s_bestfits = 'Best-fit Parameters'\n",
    "    s_plt_cooling = 'Cooling Rate Profiles'\n",
    "    s_tb_flux = 'Flux Comparison'\n",
    "    \n",
    "    # title\n",
    "    show_markdown('### CLIRAD-LW')\n",
    "    \n",
    "    # TOC\n",
    "    show_markdown('### Table of Contents')\n",
    "    show_html(climahtml.getHTML_hrefanchor(s_input))\n",
    "    show_html(climahtml.getHTML_hrefanchor(s_lblnew_param))\n",
    "    show_html(climahtml.getHTML_hrefanchor(s_plt_cooling))\n",
    "    show_html(climahtml.getHTML_hrefanchor(s_tb_flux))\n",
    "    show_html(climahtml.getHTML_hrefanchor(s_bestfits))\n",
    "    \n",
    "    # Input parameters\n",
    "    show_html(climahtml.getHTML_idanchor(s_input))\n",
    "    show_markdown(climahtml.getMarkdown_sectitle(s_input))\n",
    "    print_input_param()\n",
    "    \n",
    "    # LBLNEW parameters \n",
    "    show_html(climahtml.getHTML_idanchor(s_lblnew_param))\n",
    "    show_markdown(climahtml.getMarkdown_sectitle(s_lblnew_param))\n",
    "    print_lblnew_param()\n",
    "    \n",
    "    # Cooling rate profiles\n",
    "    show_html(climahtml.getHTML_idanchor(s_plt_cooling))\n",
    "    show_markdown(climahtml.getMarkdown_sectitle(s_plt_cooling))\n",
    "    script_plt_cooling()\n",
    "    \n",
    "    # Flux comparison\n",
    "    show_html(climahtml.getHTML_idanchor(s_tb_flux))\n",
    "    show_markdown(climahtml.getMarkdown_sectitle(s_tb_flux))\n",
    "    script_tb_flux()\n",
    "    \n",
    "    # Best-fit values\n",
    "    show_html(climahtml.getHTML_idanchor(s_bestfits))\n",
    "    show_markdown(climahtml.getMarkdown_sectitle(s_bestfits))\n",
    "    print_bestfit_params()\n",
    "   \n",
    "    "
   ]
  },
  {
   "cell_type": "code",
   "execution_count": 12,
   "metadata": {
    "collapsed": true,
    "scrolled": false
   },
   "outputs": [
    {
     "data": {
      "text/markdown": [
       "### CLIRAD-LW"
      ],
      "text/plain": [
       "<IPython.core.display.Markdown object>"
      ]
     },
     "metadata": {},
     "output_type": "display_data"
    },
    {
     "data": {
      "text/markdown": [
       "### Table of Contents"
      ],
      "text/plain": [
       "<IPython.core.display.Markdown object>"
      ]
     },
     "metadata": {},
     "output_type": "display_data"
    },
    {
     "data": {
      "text/html": [
       "<a href=\"#Input_Parameters\">Input Parameters</a>"
      ],
      "text/plain": [
       "<IPython.core.display.HTML object>"
      ]
     },
     "metadata": {},
     "output_type": "display_data"
    },
    {
     "data": {
      "text/html": [
       "<a href=\"#LBLNEW_case_compaired_against\">LBLNEW case compaired against</a>"
      ],
      "text/plain": [
       "<IPython.core.display.HTML object>"
      ]
     },
     "metadata": {},
     "output_type": "display_data"
    },
    {
     "data": {
      "text/html": [
       "<a href=\"#Cooling_Rate_Profiles\">Cooling Rate Profiles</a>"
      ],
      "text/plain": [
       "<IPython.core.display.HTML object>"
      ]
     },
     "metadata": {},
     "output_type": "display_data"
    },
    {
     "data": {
      "text/html": [
       "<a href=\"#Flux_Comparison\">Flux Comparison</a>"
      ],
      "text/plain": [
       "<IPython.core.display.HTML object>"
      ]
     },
     "metadata": {},
     "output_type": "display_data"
    },
    {
     "data": {
      "text/html": [
       "<a href=\"#Best-fit_Parameters\">Best-fit Parameters</a>"
      ],
      "text/plain": [
       "<IPython.core.display.HTML object>"
      ]
     },
     "metadata": {},
     "output_type": "display_data"
    },
    {
     "data": {
      "text/html": [
       "<a id=\"Input_Parameters\"></a>"
      ],
      "text/plain": [
       "<IPython.core.display.HTML object>"
      ]
     },
     "metadata": {},
     "output_type": "display_data"
    },
    {
     "data": {
      "text/markdown": [
       "# Input Parameters"
      ],
      "text/plain": [
       "<IPython.core.display.Markdown object>"
      ]
     },
     "metadata": {},
     "output_type": "display_data"
    },
    {
     "name": "stdout",
     "output_type": "stream",
     "text": [
      "atmpro = trp\n",
      "band = [3]\n",
      "commitnumber = 9a64c27_r8\n",
      "molecule = {'n2o': 3.2e-07}\n",
      "tsfc = 300\n"
     ]
    },
    {
     "data": {
      "text/html": [
       "<a id=\"LBLNEW_case_compaired_against\"></a>"
      ],
      "text/plain": [
       "<IPython.core.display.HTML object>"
      ]
     },
     "metadata": {},
     "output_type": "display_data"
    },
    {
     "data": {
      "text/markdown": [
       "# LBLNEW case compaired against"
      ],
      "text/plain": [
       "<IPython.core.display.Markdown object>"
      ]
     },
     "metadata": {},
     "output_type": "display_data"
    },
    {
     "name": "stdout",
     "output_type": "stream",
     "text": [
      "atmpro = trp\n",
      "band = 3a\n",
      "commitnumber = 2bd1f75\n",
      "conc = 3.2e-07\n",
      "dv = 0.01\n",
      "klin = 2.22e-20\n",
      "molecule = n2o\n",
      "ng_adju = [0, 0]\n",
      "ng_refs = [1, 2]\n",
      "nv = 100\n",
      "option_compute_btable = 0\n",
      "option_compute_ktable = 0\n",
      "option_wgt_flux = 1\n",
      "option_wgt_k = 1\n",
      "ref_pts = [(1, 250), (500, 250)]\n",
      "tsfc = 300\n",
      "vmax = 620\n",
      "vmin = 540\n",
      "w_diffuse = [(1.8,), (1.66, 1.8)]\n",
      "wgt = [(0.9,), (0.5, 0.95)]\n"
     ]
    },
    {
     "data": {
      "text/html": [
       "<a id=\"Cooling_Rate_Profiles\"></a>"
      ],
      "text/plain": [
       "<IPython.core.display.HTML object>"
      ]
     },
     "metadata": {},
     "output_type": "display_data"
    },
    {
     "data": {
      "text/markdown": [
       "# Cooling Rate Profiles"
      ],
      "text/plain": [
       "<IPython.core.display.Markdown object>"
      ]
     },
     "metadata": {},
     "output_type": "display_data"
    },
    {
     "data": {
      "text/html": [
       "\n",
       "<div class=\"bk-root\">\n",
       "    <div class=\"bk-plotdiv\" id=\"64841b17-642a-4fc6-b03b-1d4d9590d41f\"></div>\n",
       "</div>"
      ]
     },
     "metadata": {},
     "output_type": "display_data"
    },
    {
     "data": {
      "application/javascript": [
       "(function(root) {\n",
       "  function embed_document(root) {\n",
       "    \n",
       "  var docs_json = {\"37c56849-acd9-406c-9851-d5d0d1bec1cf\":{\"roots\":{\"references\":[{\"attributes\":{\"callback\":null,\"end\":0.034131018661999996,\"start\":-0.015376023862},\"id\":\"3a9f6ab4-5228-41f2-b01b-2b24d91d91a9\",\"type\":\"Range1d\"},{\"attributes\":{\"data_source\":{\"id\":\"5343d61c-a637-4b6c-8c36-30a3940a9dd4\",\"type\":\"ColumnDataSource\"},\"glyph\":{\"id\":\"029e9ad4-c783-419e-a2ba-27c6266cd253\",\"type\":\"Square\"},\"hover_glyph\":null,\"muted_glyph\":null,\"nonselection_glyph\":{\"id\":\"006ab059-470c-4d24-be1f-e841c8ac4dc9\",\"type\":\"Square\"},\"selection_glyph\":null,\"view\":{\"id\":\"be92a567-2073-4d11-9097-9e32cef72230\",\"type\":\"CDSView\"}},\"id\":\"1d434d5a-deb0-48d6-972a-cebc9cb8bed3\",\"type\":\"GlyphRenderer\"},{\"attributes\":{\"axis_label\":\"cooling rate [K/day]\",\"formatter\":{\"id\":\"00cb04d7-71bd-4068-8943-cb1a792d5b0a\",\"type\":\"BasicTickFormatter\"},\"plot\":{\"id\":\"28bf22da-c431-4d55-9a08-8702ececbb01\",\"subtype\":\"Figure\",\"type\":\"Plot\"},\"ticker\":{\"id\":\"fa388bd3-6aa0-4c39-a21d-ad262c216d7c\",\"type\":\"BasicTicker\"}},\"id\":\"0df9e3bb-29c4-4d8b-a953-60a4b3c5fa82\",\"type\":\"LinearAxis\"},{\"attributes\":{\"fill_alpha\":{\"value\":0.7},\"fill_color\":{\"value\":\"#4daf4a\"},\"line_alpha\":{\"value\":0.7},\"line_color\":{\"value\":\"#4daf4a\"},\"x\":{\"field\":\"x\"},\"y\":{\"field\":\"y\"}},\"id\":\"21f85435-21a6-4736-8bad-e6672ccc5acb\",\"type\":\"Circle\"},{\"attributes\":{\"fill_alpha\":{\"value\":0.1},\"fill_color\":{\"value\":\"#1f77b4\"},\"line_alpha\":{\"value\":0.1},\"line_color\":{\"value\":\"#1f77b4\"},\"x\":{\"field\":\"x\"},\"y\":{\"field\":\"y\"}},\"id\":\"073937c8-611c-4622-be01-869cdf5ce0b6\",\"type\":\"Circle\"},{\"attributes\":{\"data_source\":{\"id\":\"6d32b70d-859b-416d-a6d3-ad0cb6afbeb8\",\"type\":\"ColumnDataSource\"},\"glyph\":{\"id\":\"449613a7-55b4-4f85-9245-5416b4708a27\",\"type\":\"Circle\"},\"hover_glyph\":null,\"muted_glyph\":null,\"nonselection_glyph\":{\"id\":\"073937c8-611c-4622-be01-869cdf5ce0b6\",\"type\":\"Circle\"},\"selection_glyph\":null,\"view\":{\"id\":\"d1a7a2af-5c45-4764-a9ac-edbbc80ef7f2\",\"type\":\"CDSView\"}},\"id\":\"fe16af5e-d57f-4e76-929e-13230ff56b11\",\"type\":\"GlyphRenderer\"},{\"attributes\":{\"callback\":null,\"column_names\":[\"x\",\"y\"],\"data\":{\"x\":{\"__ndarray__\":\"VTm6OJQbUT9jfCnX83BUP1iI/OaGbls/zWaZO7ZCYT9vZBEYoddkP/t1tmZ8dmg/nCXSwzoYbD8gdaGU9cRvP+gOKeGltnE/szqIiUWNcz+ePbncV1t1P399xp8OBnc/Tzya/Ky4eD81/2+xCcV6PzGl1PI6k4E/4/MbCsV0ij988JPQgdiSP1oLSewu3pg/y7RbnSxNnz/Ix39lyxCjP0ATEHzUq6Y/5YWuI5IRqj8Vep/Yeu6qP0+fAxxZMak/8hQHCpuFpj8TSLmW8TijP/hEwurUBKA/B06cLTdQmj9QwqWTB0qVP604BZSu4pA/8yAuGuHWiT/5OjnbjVKCPxzVxuiioHU/LzriEvz9Vj+4ZEXrKTRvv1pRdj8WvoS/FHu+H+Tgjb+xaof0GDuOvyVUZgbOcom/ahoeP3cphb8dSLngNTSBvyRnS9jq8nq/QPW6RoXRc7+0wYpWHPVpvzaly8qOh1m/995/z5bZqz6261CXjdFYP+VyViCHfGg/j36Nwjsicj9S/2L3EuN3PxEV+eFfhX0/bfnlaN6FgT9pWiKTrDyEP3RrmsMq6IY/YcU3gdqJiT+vuEKcqiKMP9g4IcjPs44/1ZBixxmfkD/gXTGayt+RPwUWDCPHGpM/gC32MftJlD/Xn2ku3F6VP4GIzfqmRpY/S6h2DOP8lj/7ZfibxZWXP6nzfXhjL5g/hGmF2lDgmD87TT70366ZP+IBNRqYk5o/Xi3pu2qEmz+fZ2CiSXucP6zD7arpdZ0/aaE58g1znj/REX9odHSfPwxLWvbGPqA/\",\"dtype\":\"float64\",\"shape\":[75]},\"y\":{\"__ndarray__\":\"GhExyth1ND/Sv8nbtpRIP2vylNV0PVE/aTum7souWD/At0SJ8fVgPw3Iuahxymc/MSNhhJWvcD/bTfBN02d3P2zb5nxnaoA/CD5h5MAGhz8NmeH1TyaQP+zrCsc9p5Y/LbKd76fGnz/bLW5ISEmmPww9YvTcQq8/JV2OstnstT8Er5Y7M8G+P0c+r3jqkcU/5h99k6ZBzj88bCIzFzjVP4enV8oyxN0//yH99nXg5D8qOpLLf0jtP5kqGJXUifQ/c9cS8kHP/D+/DpwzojQEQIEmwoanVwxA4lgXt9HgE0BSSZ2AJuIbQAMJih9jjiNA5q4l5INuK0AwTKYKRj0zQNv5fmq8/DpAaCJseHrtQkB/+zpwzoxKQM3MzMzMeFJAZmZmZmZqWEAAAAAAAFxeQM3MzMzMJmJAmpmZmZkfZUBmZmZmZhhoQDMzMzMzEWtAAAAAAAAKbkBmZmZmZoFwQM3MzMzM/XFAMzMzMzN6c0CamZmZmfZ0QAAAAAAAc3ZAZmZmZmbvd0DNzMzMzGt5QDMzMzMz6HpAmpmZmZlkfEAAAAAAAOF9QGZmZmZmXX9AZmZmZuZsgECamZmZGSuBQM3MzMxM6YFAAAAAAICngkAzMzMzs2WDQGZmZmbmI4RAmpmZmRnihEDNzMzMTKCFQAAAAACAXoZAMzMzM7Mch0BmZmZm5tqHQJqZmZkZmYhAzczMzExXiUAAAAAAgBWKQDMzMzOz04pAZmZmZuaRi0CamZmZGVCMQM3MzMxMDo1AAAAAAIDMjUAzMzMzs4qOQGZmZmbmSI9A\",\"dtype\":\"float64\",\"shape\":[75]}}},\"id\":\"6d32b70d-859b-416d-a6d3-ad0cb6afbeb8\",\"type\":\"ColumnDataSource\"},{\"attributes\":{\"line_alpha\":0.1,\"line_color\":\"#1f77b4\",\"line_dash\":[6],\"line_width\":5,\"x\":{\"field\":\"x\"},\"y\":{\"field\":\"y\"}},\"id\":\"06694ed7-283e-4027-bd2b-e4dab0fa2d14\",\"type\":\"Line\"},{\"attributes\":{\"callback\":null,\"column_names\":[\"x\",\"y\"],\"data\":{\"x\":{\"__ndarray__\":\"gcrmmYJDdz+idBjfMAZ4P+NbK9VWk3k/iRTKGW0pez84OlpZBcN8PwSNAe/9X34/xbGgUSMAgD9Tf96+C9KAP5kQ0UWdpYE/RxWkzuB6gj/21vr1kVGDP2CdoGs2KoQ/TV1O2+wEhT+2jZ6sVh6GP6fyk9TFEoo/hf3CGdkmkT+3okmeGFWWP/tVKPEj+Zs/pMBKMGYGoT8QA6X1szCkP07IYHkxnqc/wEkPljzdqj+g4p/ER+CrP1vOyR92iqo/zF9OnLhIqD88FRnAolSlP9m2pYk1RaI/cYeb+s6Rnj8Uo6SiMMyYP/iXjHiiQJM/QnVbBAPpiz9d7jXaytqBP1VvyQV5inA/6PePSIX4Or+Itgls7sB2v/NJnI2E2oa/qRA7Dl17jr8/Vsel/n6Ov6FqhYQHCIq/sg2J8PDUhb+z+snlduCBv17kSq9gKny/jcR5sLSwdL/SELm8Tf5qv6q41MtBAFq/FncmdduKCT/YM1fbllFbP85W7DratWo/hr1d6niwcz8qu6lN/MN5P6cgnJOv4X8/Gt0gaSrtgj9iZj2sBdGFPwaTIoqBrIg/o2OTrGaFiz9QNgz3tkaOP2h/5kP+f5A/7xIpyVLdkT+60v6ERCyTP39O3AkxeZQ/VwtCMkq7lT/WOsXvzNmWP1oRxupu2Zc/8g1dvumlmD9a75eVvVOZP/8JfC5kCJo/uzw0bM/Fmj9LZ/i30aWbP9FoZ+OMkpw/hKP0JYyInT9Hc/dIaYeeP/Achur4fJ8/j04KaOM+oD/2+NXF+rmgP4LKDNwAOqE/\",\"dtype\":\"float64\",\"shape\":[75]},\"y\":{\"__ndarray__\":\"GhExyth1ND/Sv8nbtpRIP2vylNV0PVE/aTum7souWD/At0SJ8fVgPw3Iuahxymc/MSNhhJWvcD/bTfBN02d3P2zb5nxnaoA/CD5h5MAGhz8NmeH1TyaQP+zrCsc9p5Y/LbKd76fGnz/bLW5ISEmmPww9YvTcQq8/JV2OstnstT8Er5Y7M8G+P0c+r3jqkcU/5h99k6ZBzj88bCIzFzjVP4enV8oyxN0//yH99nXg5D8qOpLLf0jtP5kqGJXUifQ/c9cS8kHP/D+/DpwzojQEQIEmwoanVwxA4lgXt9HgE0BSSZ2AJuIbQAMJih9jjiNA5q4l5INuK0AwTKYKRj0zQNv5fmq8/DpAaCJseHrtQkB/+zpwzoxKQM3MzMzMeFJAZmZmZmZqWEAAAAAAAFxeQM3MzMzMJmJAmpmZmZkfZUBmZmZmZhhoQDMzMzMzEWtAAAAAAAAKbkBmZmZmZoFwQM3MzMzM/XFAMzMzMzN6c0CamZmZmfZ0QAAAAAAAc3ZAZmZmZmbvd0DNzMzMzGt5QDMzMzMz6HpAmpmZmZlkfEAAAAAAAOF9QGZmZmZmXX9AZmZmZuZsgECamZmZGSuBQM3MzMxM6YFAAAAAAICngkAzMzMzs2WDQGZmZmbmI4RAmpmZmRnihEDNzMzMTKCFQAAAAACAXoZAMzMzM7Mch0BmZmZm5tqHQJqZmZkZmYhAzczMzExXiUAAAAAAgBWKQDMzMzOz04pAZmZmZuaRi0CamZmZGVCMQM3MzMxMDo1AAAAAAIDMjUAzMzMzs4qOQGZmZmbmSI9A\",\"dtype\":\"float64\",\"shape\":[75]}}},\"id\":\"5343d61c-a637-4b6c-8c36-30a3940a9dd4\",\"type\":\"ColumnDataSource\"},{\"attributes\":{\"data_source\":{\"id\":\"b19132b8-164a-4d73-83ad-8d4275a457a4\",\"type\":\"ColumnDataSource\"},\"glyph\":{\"id\":\"d022359d-df36-44cc-a434-987cd0da0857\",\"type\":\"Line\"},\"hover_glyph\":null,\"muted_glyph\":null,\"nonselection_glyph\":{\"id\":\"d120bc4e-c07b-4128-982f-a77b2ca23c08\",\"type\":\"Line\"},\"selection_glyph\":null,\"view\":{\"id\":\"22b856ba-2b5e-4bc0-a3ca-65b3d30d49f0\",\"type\":\"CDSView\"}},\"id\":\"57672750-4bb1-4d3a-8692-e26e52b37323\",\"type\":\"GlyphRenderer\"},{\"attributes\":{\"fill_alpha\":{\"value\":0.7},\"fill_color\":{\"value\":\"#4daf4a\"},\"line_alpha\":{\"value\":0.7},\"line_color\":{\"value\":\"#4daf4a\"},\"x\":{\"field\":\"x\"},\"y\":{\"field\":\"y\"}},\"id\":\"449613a7-55b4-4f85-9245-5416b4708a27\",\"type\":\"Circle\"},{\"attributes\":{\"data_source\":{\"id\":\"fa197301-ae30-41ba-9e7f-943113b469c9\",\"type\":\"ColumnDataSource\"},\"glyph\":{\"id\":\"2b11607f-02c7-4fc1-9da1-062d7e583d05\",\"type\":\"Line\"},\"hover_glyph\":null,\"muted_glyph\":null,\"nonselection_glyph\":{\"id\":\"d1524544-7a50-43ae-8ad2-3a623ff2a2c0\",\"type\":\"Line\"},\"selection_glyph\":null,\"view\":{\"id\":\"12e0b49b-cbfc-4c5b-8ff5-97c905f830c4\",\"type\":\"CDSView\"}},\"id\":\"20937846-d79a-4ec0-8203-584ef1b5c490\",\"type\":\"GlyphRenderer\"},{\"attributes\":{},\"id\":\"00cb04d7-71bd-4068-8943-cb1a792d5b0a\",\"type\":\"BasicTickFormatter\"},{\"attributes\":{\"fill_alpha\":{\"value\":0.1},\"fill_color\":{\"value\":\"#1f77b4\"},\"line_alpha\":{\"value\":0.1},\"line_color\":{\"value\":\"#1f77b4\"},\"x\":{\"field\":\"x\"},\"y\":{\"field\":\"y\"}},\"id\":\"7f68e47f-ae37-46f9-8bdb-96db31f66ce5\",\"type\":\"Circle\"},{\"attributes\":{\"line_alpha\":0.6,\"line_color\":\"#984ea3\",\"line_width\":3,\"x\":{\"field\":\"x\"},\"y\":{\"field\":\"y\"}},\"id\":\"2b11607f-02c7-4fc1-9da1-062d7e583d05\",\"type\":\"Line\"},{\"attributes\":{},\"id\":\"8f63a82a-beac-4c47-b803-5d6176c270f1\",\"type\":\"LinearScale\"},{\"attributes\":{\"plot\":{\"id\":\"28bf22da-c431-4d55-9a08-8702ececbb01\",\"subtype\":\"Figure\",\"type\":\"Plot\"},\"ticker\":{\"id\":\"fa388bd3-6aa0-4c39-a21d-ad262c216d7c\",\"type\":\"BasicTicker\"}},\"id\":\"6f1ee98f-038c-475c-8516-75d701b13d1e\",\"type\":\"Grid\"},{\"attributes\":{\"callback\":null,\"column_names\":[\"x\",\"y\"],\"data\":{\"x\":{\"__ndarray__\":\"gcrmmYJDdz+idBjfMAZ4P+NbK9VWk3k/iRTKGW0pez84OlpZBcN8PwSNAe/9X34/xbGgUSMAgD9Tf96+C9KAP5kQ0UWdpYE/RxWkzuB6gj/21vr1kVGDP2CdoGs2KoQ/TV1O2+wEhT+2jZ6sVh6GP6fyk9TFEoo/hf3CGdkmkT+3okmeGFWWP/tVKPEj+Zs/pMBKMGYGoT8QA6X1szCkP07IYHkxnqc/wEkPljzdqj+g4p/ER+CrP1vOyR92iqo/zF9OnLhIqD88FRnAolSlP9m2pYk1RaI/cYeb+s6Rnj8Uo6SiMMyYP/iXjHiiQJM/QnVbBAPpiz9d7jXaytqBP1VvyQV5inA/6PePSIX4Or+Itgls7sB2v/NJnI2E2oa/qRA7Dl17jr8/Vsel/n6Ov6FqhYQHCIq/sg2J8PDUhb+z+snlduCBv17kSq9gKny/jcR5sLSwdL/SELm8Tf5qv6q41MtBAFq/FncmdduKCT/YM1fbllFbP85W7DratWo/hr1d6niwcz8qu6lN/MN5P6cgnJOv4X8/Gt0gaSrtgj9iZj2sBdGFPwaTIoqBrIg/o2OTrGaFiz9QNgz3tkaOP2h/5kP+f5A/7xIpyVLdkT+60v6ERCyTP39O3AkxeZQ/VwtCMkq7lT/WOsXvzNmWP1oRxupu2Zc/8g1dvumlmD9a75eVvVOZP/8JfC5kCJo/uzw0bM/Fmj9LZ/i30aWbP9FoZ+OMkpw/hKP0JYyInT9Hc/dIaYeeP/Achur4fJ8/j04KaOM+oD/2+NXF+rmgP4LKDNwAOqE/\",\"dtype\":\"float64\",\"shape\":[75]},\"y\":{\"__ndarray__\":\"GhExyth1ND/Sv8nbtpRIP2vylNV0PVE/aTum7souWD/At0SJ8fVgPw3Iuahxymc/MSNhhJWvcD/bTfBN02d3P2zb5nxnaoA/CD5h5MAGhz8NmeH1TyaQP+zrCsc9p5Y/LbKd76fGnz/bLW5ISEmmPww9YvTcQq8/JV2OstnstT8Er5Y7M8G+P0c+r3jqkcU/5h99k6ZBzj88bCIzFzjVP4enV8oyxN0//yH99nXg5D8qOpLLf0jtP5kqGJXUifQ/c9cS8kHP/D+/DpwzojQEQIEmwoanVwxA4lgXt9HgE0BSSZ2AJuIbQAMJih9jjiNA5q4l5INuK0AwTKYKRj0zQNv5fmq8/DpAaCJseHrtQkB/+zpwzoxKQM3MzMzMeFJAZmZmZmZqWEAAAAAAAFxeQM3MzMzMJmJAmpmZmZkfZUBmZmZmZhhoQDMzMzMzEWtAAAAAAAAKbkBmZmZmZoFwQM3MzMzM/XFAMzMzMzN6c0CamZmZmfZ0QAAAAAAAc3ZAZmZmZmbvd0DNzMzMzGt5QDMzMzMz6HpAmpmZmZlkfEAAAAAAAOF9QGZmZmZmXX9AZmZmZuZsgECamZmZGSuBQM3MzMxM6YFAAAAAAICngkAzMzMzs2WDQGZmZmbmI4RAmpmZmRnihEDNzMzMTKCFQAAAAACAXoZAMzMzM7Mch0BmZmZm5tqHQJqZmZkZmYhAzczMzExXiUAAAAAAgBWKQDMzMzOz04pAZmZmZuaRi0CamZmZGVCMQM3MzMxMDo1AAAAAAIDMjUAzMzMzs4qOQGZmZmbmSI9A\",\"dtype\":\"float64\",\"shape\":[75]}}},\"id\":\"455c7878-62da-4815-857d-d12e433a956e\",\"type\":\"ColumnDataSource\"},{\"attributes\":{\"source\":{\"id\":\"fa197301-ae30-41ba-9e7f-943113b469c9\",\"type\":\"ColumnDataSource\"}},\"id\":\"12e0b49b-cbfc-4c5b-8ff5-97c905f830c4\",\"type\":\"CDSView\"},{\"attributes\":{\"callback\":null,\"column_names\":[\"x\",\"y\"],\"data\":{\"x\":{\"__ndarray__\":\"VTm6OJQbUT9jfCnX83BUP1iI/OaGbls/zWaZO7ZCYT9vZBEYoddkP/t1tmZ8dmg/nCXSwzoYbD8gdaGU9cRvP+gOKeGltnE/szqIiUWNcz+ePbncV1t1P399xp8OBnc/Tzya/Ky4eD81/2+xCcV6PzGl1PI6k4E/4/MbCsV0ij988JPQgdiSP1oLSewu3pg/y7RbnSxNnz/Ix39lyxCjP0ATEHzUq6Y/5YWuI5IRqj8Vep/Yeu6qP0+fAxxZMak/8hQHCpuFpj8TSLmW8TijP/hEwurUBKA/B06cLTdQmj9QwqWTB0qVP604BZSu4pA/8yAuGuHWiT/5OjnbjVKCPxzVxuiioHU/LzriEvz9Vj+4ZEXrKTRvv1pRdj8WvoS/FHu+H+Tgjb+xaof0GDuOvyVUZgbOcom/ahoeP3cphb8dSLngNTSBvyRnS9jq8nq/QPW6RoXRc7+0wYpWHPVpvzaly8qOh1m/995/z5bZqz6261CXjdFYP+VyViCHfGg/j36Nwjsicj9S/2L3EuN3PxEV+eFfhX0/bfnlaN6FgT9pWiKTrDyEP3RrmsMq6IY/YcU3gdqJiT+vuEKcqiKMP9g4IcjPs44/1ZBixxmfkD/gXTGayt+RPwUWDCPHGpM/gC32MftJlD/Xn2ku3F6VP4GIzfqmRpY/S6h2DOP8lj/7ZfibxZWXP6nzfXhjL5g/hGmF2lDgmD87TT70366ZP+IBNRqYk5o/Xi3pu2qEmz+fZ2CiSXucP6zD7arpdZ0/aaE58g1znj/REX9odHSfPwxLWvbGPqA/\",\"dtype\":\"float64\",\"shape\":[75]},\"y\":{\"__ndarray__\":\"GhExyth1ND/Sv8nbtpRIP2vylNV0PVE/aTum7souWD/At0SJ8fVgPw3Iuahxymc/MSNhhJWvcD/bTfBN02d3P2zb5nxnaoA/CD5h5MAGhz8NmeH1TyaQP+zrCsc9p5Y/LbKd76fGnz/bLW5ISEmmPww9YvTcQq8/JV2OstnstT8Er5Y7M8G+P0c+r3jqkcU/5h99k6ZBzj88bCIzFzjVP4enV8oyxN0//yH99nXg5D8qOpLLf0jtP5kqGJXUifQ/c9cS8kHP/D+/DpwzojQEQIEmwoanVwxA4lgXt9HgE0BSSZ2AJuIbQAMJih9jjiNA5q4l5INuK0AwTKYKRj0zQNv5fmq8/DpAaCJseHrtQkB/+zpwzoxKQM3MzMzMeFJAZmZmZmZqWEAAAAAAAFxeQM3MzMzMJmJAmpmZmZkfZUBmZmZmZhhoQDMzMzMzEWtAAAAAAAAKbkBmZmZmZoFwQM3MzMzM/XFAMzMzMzN6c0CamZmZmfZ0QAAAAAAAc3ZAZmZmZmbvd0DNzMzMzGt5QDMzMzMz6HpAmpmZmZlkfEAAAAAAAOF9QGZmZmZmXX9AZmZmZuZsgECamZmZGSuBQM3MzMxM6YFAAAAAAICngkAzMzMzs2WDQGZmZmbmI4RAmpmZmRnihEDNzMzMTKCFQAAAAACAXoZAMzMzM7Mch0BmZmZm5tqHQJqZmZkZmYhAzczMzExXiUAAAAAAgBWKQDMzMzOz04pAZmZmZuaRi0CamZmZGVCMQM3MzMxMDo1AAAAAAIDMjUAzMzMzs4qOQGZmZmbmSI9A\",\"dtype\":\"float64\",\"shape\":[75]}}},\"id\":\"dbc46c58-8de5-4b3c-b198-27314daa989a\",\"type\":\"ColumnDataSource\"},{\"attributes\":{},\"id\":\"fa388bd3-6aa0-4c39-a21d-ad262c216d7c\",\"type\":\"BasicTicker\"},{\"attributes\":{\"callback\":null,\"column_names\":[\"x\",\"y\"],\"data\":{\"x\":{\"__ndarray__\":\"gcrmmYJDdz+idBjfMAZ4P+NbK9VWk3k/iRTKGW0pez84OlpZBcN8PwSNAe/9X34/xbGgUSMAgD9Tf96+C9KAP5kQ0UWdpYE/RxWkzuB6gj/21vr1kVGDP2CdoGs2KoQ/TV1O2+wEhT+2jZ6sVh6GP6fyk9TFEoo/hf3CGdkmkT+3okmeGFWWP/tVKPEj+Zs/pMBKMGYGoT8QA6X1szCkP07IYHkxnqc/wEkPljzdqj+g4p/ER+CrP1vOyR92iqo/zF9OnLhIqD88FRnAolSlP9m2pYk1RaI/cYeb+s6Rnj8Uo6SiMMyYP/iXjHiiQJM/QnVbBAPpiz9d7jXaytqBP1VvyQV5inA/6PePSIX4Or+Itgls7sB2v/NJnI2E2oa/qRA7Dl17jr8/Vsel/n6Ov6FqhYQHCIq/sg2J8PDUhb+z+snlduCBv17kSq9gKny/jcR5sLSwdL/SELm8Tf5qv6q41MtBAFq/FncmdduKCT/YM1fbllFbP85W7DratWo/hr1d6niwcz8qu6lN/MN5P6cgnJOv4X8/Gt0gaSrtgj9iZj2sBdGFPwaTIoqBrIg/o2OTrGaFiz9QNgz3tkaOP2h/5kP+f5A/7xIpyVLdkT+60v6ERCyTP39O3AkxeZQ/VwtCMkq7lT/WOsXvzNmWP1oRxupu2Zc/8g1dvumlmD9a75eVvVOZP/8JfC5kCJo/uzw0bM/Fmj9LZ/i30aWbP9FoZ+OMkpw/hKP0JYyInT9Hc/dIaYeeP/Achur4fJ8/j04KaOM+oD/2+NXF+rmgP4LKDNwAOqE/\",\"dtype\":\"float64\",\"shape\":[75]},\"y\":{\"__ndarray__\":\"GhExyth1ND/Sv8nbtpRIP2vylNV0PVE/aTum7souWD/At0SJ8fVgPw3Iuahxymc/MSNhhJWvcD/bTfBN02d3P2zb5nxnaoA/CD5h5MAGhz8NmeH1TyaQP+zrCsc9p5Y/LbKd76fGnz/bLW5ISEmmPww9YvTcQq8/JV2OstnstT8Er5Y7M8G+P0c+r3jqkcU/5h99k6ZBzj88bCIzFzjVP4enV8oyxN0//yH99nXg5D8qOpLLf0jtP5kqGJXUifQ/c9cS8kHP/D+/DpwzojQEQIEmwoanVwxA4lgXt9HgE0BSSZ2AJuIbQAMJih9jjiNA5q4l5INuK0AwTKYKRj0zQNv5fmq8/DpAaCJseHrtQkB/+zpwzoxKQM3MzMzMeFJAZmZmZmZqWEAAAAAAAFxeQM3MzMzMJmJAmpmZmZkfZUBmZmZmZhhoQDMzMzMzEWtAAAAAAAAKbkBmZmZmZoFwQM3MzMzM/XFAMzMzMzN6c0CamZmZmfZ0QAAAAAAAc3ZAZmZmZmbvd0DNzMzMzGt5QDMzMzMz6HpAmpmZmZlkfEAAAAAAAOF9QGZmZmZmXX9AZmZmZuZsgECamZmZGSuBQM3MzMxM6YFAAAAAAICngkAzMzMzs2WDQGZmZmbmI4RAmpmZmRnihEDNzMzMTKCFQAAAAACAXoZAMzMzM7Mch0BmZmZm5tqHQJqZmZkZmYhAzczMzExXiUAAAAAAgBWKQDMzMzOz04pAZmZmZuaRi0CamZmZGVCMQM3MzMxMDo1AAAAAAIDMjUAzMzMzs4qOQGZmZmbmSI9A\",\"dtype\":\"float64\",\"shape\":[75]}}},\"id\":\"aa16e7ae-ddc9-45ab-a0ab-16bed185f618\",\"type\":\"ColumnDataSource\"},{\"attributes\":{\"axis_label\":\"pressure [mb]\",\"formatter\":{\"id\":\"2bd2a90a-184b-4c1e-998b-5f6607ccbfe0\",\"type\":\"LogTickFormatter\"},\"plot\":{\"id\":\"28bf22da-c431-4d55-9a08-8702ececbb01\",\"subtype\":\"Figure\",\"type\":\"Plot\"},\"ticker\":{\"id\":\"716b1d47-4a93-49bf-9585-92a2345cd5ff\",\"type\":\"LogTicker\"}},\"id\":\"7e358f40-f17b-4ca7-82e8-fef1ae51e205\",\"type\":\"LogAxis\"},{\"attributes\":{\"plot\":null,\"text\":\"Log pressure scale\"},\"id\":\"9d632552-3814-4f6b-bf6f-25d2031956d1\",\"type\":\"Title\"},{\"attributes\":{\"source\":{\"id\":\"6d32b70d-859b-416d-a6d3-ad0cb6afbeb8\",\"type\":\"ColumnDataSource\"}},\"id\":\"d1a7a2af-5c45-4764-a9ac-edbbc80ef7f2\",\"type\":\"CDSView\"},{\"attributes\":{\"below\":[{\"id\":\"0df9e3bb-29c4-4d8b-a953-60a4b3c5fa82\",\"type\":\"LinearAxis\"}],\"left\":[{\"id\":\"7e358f40-f17b-4ca7-82e8-fef1ae51e205\",\"type\":\"LogAxis\"}],\"plot_height\":500,\"plot_width\":560,\"renderers\":[{\"id\":\"0df9e3bb-29c4-4d8b-a953-60a4b3c5fa82\",\"type\":\"LinearAxis\"},{\"id\":\"6f1ee98f-038c-475c-8516-75d701b13d1e\",\"type\":\"Grid\"},{\"id\":\"7e358f40-f17b-4ca7-82e8-fef1ae51e205\",\"type\":\"LogAxis\"},{\"id\":\"8f2dcc37-75de-4f5d-8e4e-a94bb36b63a7\",\"type\":\"Grid\"},{\"id\":\"0748c609-fa12-4d2b-b7d2-07bbd058002d\",\"type\":\"BoxAnnotation\"},{\"id\":\"b93a21af-7c19-4958-845a-de481dffbc6a\",\"type\":\"GlyphRenderer\"},{\"id\":\"fe16af5e-d57f-4e76-929e-13230ff56b11\",\"type\":\"GlyphRenderer\"},{\"id\":\"289200d1-386d-4219-b7a6-08fadf7f4ee1\",\"type\":\"GlyphRenderer\"},{\"id\":\"b616ef22-cf20-4ef1-be02-f63ca3df42bb\",\"type\":\"GlyphRenderer\"},{\"id\":\"eaa87765-8693-41bc-a7e3-86ec6d3cbcdb\",\"type\":\"GlyphRenderer\"},{\"id\":\"64aee644-0db4-4b3b-9de0-d397f12f14df\",\"type\":\"Legend\"}],\"right\":[{\"id\":\"64aee644-0db4-4b3b-9de0-d397f12f14df\",\"type\":\"Legend\"}],\"title\":{\"id\":\"9d632552-3814-4f6b-bf6f-25d2031956d1\",\"type\":\"Title\"},\"toolbar\":{\"id\":\"9d20eeb8-f16e-4504-888b-93cf3ccccd3a\",\"type\":\"Toolbar\"},\"toolbar_location\":null,\"x_range\":{\"id\":\"938ba223-c556-4583-b3da-889de8838451\",\"type\":\"Range1d\"},\"x_scale\":{\"id\":\"8f63a82a-beac-4c47-b803-5d6176c270f1\",\"type\":\"LinearScale\"},\"y_range\":{\"id\":\"984e6fce-601f-4270-bd6a-8cb4d85ddeb0\",\"type\":\"Range1d\"},\"y_scale\":{\"id\":\"138df715-a224-4f2a-a5e4-440268b1dedb\",\"type\":\"LogScale\"}},\"id\":\"28bf22da-c431-4d55-9a08-8702ececbb01\",\"subtype\":\"Figure\",\"type\":\"Plot\"},{\"attributes\":{\"line_color\":\"#4daf4a\",\"line_width\":1.5,\"x\":{\"field\":\"x\"},\"y\":{\"field\":\"y\"}},\"id\":\"a31febfa-feb2-4489-a08a-f20286f04a78\",\"type\":\"Line\"},{\"attributes\":{\"active_drag\":\"auto\",\"active_inspect\":\"auto\",\"active_scroll\":\"auto\",\"active_tap\":\"auto\",\"tools\":[{\"id\":\"a60e0c16-89a4-4098-aaa8-3bb6fb12890c\",\"type\":\"PanTool\"},{\"id\":\"6accb6ea-5a86-4204-b3de-1dcec5f79e28\",\"type\":\"WheelZoomTool\"},{\"id\":\"746e3a7c-b7ea-4374-9133-a21efd4c638d\",\"type\":\"BoxZoomTool\"},{\"id\":\"346edf52-981a-435f-a3ef-bd9357021860\",\"type\":\"SaveTool\"},{\"id\":\"5628dc2d-9696-4909-b00f-008904afd652\",\"type\":\"ResetTool\"},{\"id\":\"69caf82c-e8da-4980-b9b7-823336d49161\",\"type\":\"HelpTool\"}]},\"id\":\"9d20eeb8-f16e-4504-888b-93cf3ccccd3a\",\"type\":\"Toolbar\"},{\"attributes\":{\"line_alpha\":0.1,\"line_color\":\"#1f77b4\",\"line_width\":1.5,\"x\":{\"field\":\"x\"},\"y\":{\"field\":\"y\"}},\"id\":\"23bda328-4f27-4d00-8682-42052820da8d\",\"type\":\"Line\"},{\"attributes\":{\"fill_alpha\":{\"value\":0.1},\"fill_color\":{\"value\":\"#1f77b4\"},\"line_alpha\":{\"value\":0.1},\"line_color\":{\"value\":\"#1f77b4\"},\"x\":{\"field\":\"x\"},\"y\":{\"field\":\"y\"}},\"id\":\"ff50036a-f0a0-4886-96c4-e4c54fe4ffc2\",\"type\":\"Square\"},{\"attributes\":{\"data_source\":{\"id\":\"dbc46c58-8de5-4b3c-b198-27314daa989a\",\"type\":\"ColumnDataSource\"},\"glyph\":{\"id\":\"a31febfa-feb2-4489-a08a-f20286f04a78\",\"type\":\"Line\"},\"hover_glyph\":null,\"muted_glyph\":null,\"nonselection_glyph\":{\"id\":\"23bda328-4f27-4d00-8682-42052820da8d\",\"type\":\"Line\"},\"selection_glyph\":null,\"view\":{\"id\":\"38f8b963-dc07-4187-a4aa-65693fb47694\",\"type\":\"CDSView\"}},\"id\":\"289200d1-386d-4219-b7a6-08fadf7f4ee1\",\"type\":\"GlyphRenderer\"},{\"attributes\":{\"source\":{\"id\":\"5343d61c-a637-4b6c-8c36-30a3940a9dd4\",\"type\":\"ColumnDataSource\"}},\"id\":\"be92a567-2073-4d11-9097-9e32cef72230\",\"type\":\"CDSView\"},{\"attributes\":{\"source\":{\"id\":\"dbc46c58-8de5-4b3c-b198-27314daa989a\",\"type\":\"ColumnDataSource\"}},\"id\":\"38f8b963-dc07-4187-a4aa-65693fb47694\",\"type\":\"CDSView\"},{\"attributes\":{\"fill_alpha\":{\"value\":0.7},\"fill_color\":{\"value\":\"#984ea3\"},\"line_alpha\":{\"value\":0.7},\"line_color\":{\"value\":\"#984ea3\"},\"x\":{\"field\":\"x\"},\"y\":{\"field\":\"y\"}},\"id\":\"5a98c726-9331-4bab-8df6-3437363e2a4b\",\"type\":\"Square\"},{\"attributes\":{\"callback\":null,\"end\":0.0551388598193,\"start\":-0.0155840222893},\"id\":\"938ba223-c556-4583-b3da-889de8838451\",\"type\":\"Range1d\"},{\"attributes\":{\"data_source\":{\"id\":\"aa16e7ae-ddc9-45ab-a0ab-16bed185f618\",\"type\":\"ColumnDataSource\"},\"glyph\":{\"id\":\"5a98c726-9331-4bab-8df6-3437363e2a4b\",\"type\":\"Square\"},\"hover_glyph\":null,\"muted_glyph\":null,\"nonselection_glyph\":{\"id\":\"ff50036a-f0a0-4886-96c4-e4c54fe4ffc2\",\"type\":\"Square\"},\"selection_glyph\":null,\"view\":{\"id\":\"0523aa19-32ee-4219-9a70-6fed236e655c\",\"type\":\"CDSView\"}},\"id\":\"b616ef22-cf20-4ef1-be02-f63ca3df42bb\",\"type\":\"GlyphRenderer\"},{\"attributes\":{\"line_alpha\":0.1,\"line_color\":\"#1f77b4\",\"line_width\":3,\"x\":{\"field\":\"x\"},\"y\":{\"field\":\"y\"}},\"id\":\"14504bee-03c4-43a1-aa2c-d35170d34ced\",\"type\":\"Line\"},{\"attributes\":{\"plot\":{\"id\":\"ab1c5992-c3e5-4ee4-96ed-2178565adbdc\",\"subtype\":\"Figure\",\"type\":\"Plot\"},\"ticker\":{\"id\":\"a1088af7-d9e7-4025-a9e6-d4a9ecc28e64\",\"type\":\"BasicTicker\"}},\"id\":\"454945b2-9e51-4f03-b176-8ce2a330b14d\",\"type\":\"Grid\"},{\"attributes\":{\"source\":{\"id\":\"aa16e7ae-ddc9-45ab-a0ab-16bed185f618\",\"type\":\"ColumnDataSource\"}},\"id\":\"0523aa19-32ee-4219-9a70-6fed236e655c\",\"type\":\"CDSView\"},{\"attributes\":{\"fill_alpha\":{\"value\":0.1},\"fill_color\":{\"value\":\"#1f77b4\"},\"line_alpha\":{\"value\":0.1},\"line_color\":{\"value\":\"#1f77b4\"},\"x\":{\"field\":\"x\"},\"y\":{\"field\":\"y\"}},\"id\":\"006ab059-470c-4d24-be1f-e841c8ac4dc9\",\"type\":\"Square\"},{\"attributes\":{\"line_alpha\":0.6,\"line_color\":\"#984ea3\",\"line_width\":3,\"x\":{\"field\":\"x\"},\"y\":{\"field\":\"y\"}},\"id\":\"eae1c2ec-dc1e-44fc-8514-1ec94b79d526\",\"type\":\"Line\"},{\"attributes\":{\"toolbar\":{\"id\":\"2ac68c83-a862-4f71-a922-55e60809e7df\",\"type\":\"ProxyToolbar\"},\"toolbar_location\":\"above\"},\"id\":\"5904847b-f052-4e8d-be85-492bfb351483\",\"type\":\"ToolbarBox\"},{\"attributes\":{\"data_source\":{\"id\":\"455c7878-62da-4815-857d-d12e433a956e\",\"type\":\"ColumnDataSource\"},\"glyph\":{\"id\":\"eae1c2ec-dc1e-44fc-8514-1ec94b79d526\",\"type\":\"Line\"},\"hover_glyph\":null,\"muted_glyph\":null,\"nonselection_glyph\":{\"id\":\"14504bee-03c4-43a1-aa2c-d35170d34ced\",\"type\":\"Line\"},\"selection_glyph\":null,\"view\":{\"id\":\"9176bc57-fc99-4bb0-87d0-64b11d4f9892\",\"type\":\"CDSView\"}},\"id\":\"eaa87765-8693-41bc-a7e3-86ec6d3cbcdb\",\"type\":\"GlyphRenderer\"},{\"attributes\":{\"source\":{\"id\":\"a0efdac6-243a-4972-a51f-a89ba18109eb\",\"type\":\"ColumnDataSource\"}},\"id\":\"ed14148f-58f3-403f-ada6-be046fc3f62e\",\"type\":\"CDSView\"},{\"attributes\":{\"source\":{\"id\":\"455c7878-62da-4815-857d-d12e433a956e\",\"type\":\"ColumnDataSource\"}},\"id\":\"9176bc57-fc99-4bb0-87d0-64b11d4f9892\",\"type\":\"CDSView\"},{\"attributes\":{\"items\":[{\"id\":\"41019772-1da3-48ce-a54c-203c430d890b\",\"type\":\"LegendItem\"},{\"id\":\"25e3b16c-f4ab-46fd-b308-204fb0d882ae\",\"type\":\"LegendItem\"},{\"id\":\"b1ab4d64-b702-4f3e-ac08-3f90452549f5\",\"type\":\"LegendItem\"}],\"label_text_font_size\":{\"value\":\"8pt\"},\"location\":[10,-30],\"plot\":{\"id\":\"28bf22da-c431-4d55-9a08-8702ececbb01\",\"subtype\":\"Figure\",\"type\":\"Plot\"}},\"id\":\"64aee644-0db4-4b3b-9de0-d397f12f14df\",\"type\":\"Legend\"},{\"attributes\":{\"line_alpha\":0.1,\"line_color\":\"#1f77b4\",\"line_width\":3,\"x\":{\"field\":\"x\"},\"y\":{\"field\":\"y\"}},\"id\":\"d1524544-7a50-43ae-8ad2-3a623ff2a2c0\",\"type\":\"Line\"},{\"attributes\":{\"tools\":[{\"id\":\"5ed4faf5-967e-4372-bc43-8f83aacb4f2c\",\"type\":\"PanTool\"},{\"id\":\"88d64bfb-36c4-411b-b2a0-8103153bd196\",\"type\":\"WheelZoomTool\"},{\"id\":\"5e1aa738-a8e5-415a-b6da-94550f5dd729\",\"type\":\"BoxZoomTool\"},{\"id\":\"9a87ef20-3656-4e56-95cf-50e06086ad3b\",\"type\":\"SaveTool\"},{\"id\":\"047bd976-0efc-4caf-aaa1-310d60249947\",\"type\":\"ResetTool\"},{\"id\":\"fb2aa576-f646-48e8-befa-131948b8437f\",\"type\":\"HelpTool\"},{\"id\":\"a60e0c16-89a4-4098-aaa8-3bb6fb12890c\",\"type\":\"PanTool\"},{\"id\":\"6accb6ea-5a86-4204-b3de-1dcec5f79e28\",\"type\":\"WheelZoomTool\"},{\"id\":\"746e3a7c-b7ea-4374-9133-a21efd4c638d\",\"type\":\"BoxZoomTool\"},{\"id\":\"346edf52-981a-435f-a3ef-bd9357021860\",\"type\":\"SaveTool\"},{\"id\":\"5628dc2d-9696-4909-b00f-008904afd652\",\"type\":\"ResetTool\"},{\"id\":\"69caf82c-e8da-4980-b9b7-823336d49161\",\"type\":\"HelpTool\"}]},\"id\":\"2ac68c83-a862-4f71-a922-55e60809e7df\",\"type\":\"ProxyToolbar\"},{\"attributes\":{\"callback\":null,\"column_names\":[\"x\",\"y\"],\"data\":{\"x\":{\"__ndarray__\":\"gcrmmYJDdz+idBjfMAZ4P+NbK9VWk3k/iRTKGW0pez84OlpZBcN8PwSNAe/9X34/xbGgUSMAgD9Tf96+C9KAP5kQ0UWdpYE/RxWkzuB6gj/21vr1kVGDP2CdoGs2KoQ/TV1O2+wEhT+2jZ6sVh6GP6fyk9TFEoo/hf3CGdkmkT+3okmeGFWWP/tVKPEj+Zs/pMBKMGYGoT8QA6X1szCkP07IYHkxnqc/wEkPljzdqj+g4p/ER+CrP1vOyR92iqo/zF9OnLhIqD88FRnAolSlP9m2pYk1RaI/cYeb+s6Rnj8Uo6SiMMyYP/iXjHiiQJM/QnVbBAPpiz9d7jXaytqBP1VvyQV5inA/6PePSIX4Or+Itgls7sB2v/NJnI2E2oa/qRA7Dl17jr8/Vsel/n6Ov6FqhYQHCIq/sg2J8PDUhb+z+snlduCBv17kSq9gKny/jcR5sLSwdL/SELm8Tf5qv6q41MtBAFq/FncmdduKCT/YM1fbllFbP85W7DratWo/hr1d6niwcz8qu6lN/MN5P6cgnJOv4X8/Gt0gaSrtgj9iZj2sBdGFPwaTIoqBrIg/o2OTrGaFiz9QNgz3tkaOP2h/5kP+f5A/7xIpyVLdkT+60v6ERCyTP39O3AkxeZQ/VwtCMkq7lT/WOsXvzNmWP1oRxupu2Zc/8g1dvumlmD9a75eVvVOZP/8JfC5kCJo/uzw0bM/Fmj9LZ/i30aWbP9FoZ+OMkpw/hKP0JYyInT9Hc/dIaYeeP/Achur4fJ8/j04KaOM+oD/2+NXF+rmgP4LKDNwAOqE/\",\"dtype\":\"float64\",\"shape\":[75]},\"y\":{\"__ndarray__\":\"GhExyth1ND/Sv8nbtpRIP2vylNV0PVE/aTum7souWD/At0SJ8fVgPw3Iuahxymc/MSNhhJWvcD/bTfBN02d3P2zb5nxnaoA/CD5h5MAGhz8NmeH1TyaQP+zrCsc9p5Y/LbKd76fGnz/bLW5ISEmmPww9YvTcQq8/JV2OstnstT8Er5Y7M8G+P0c+r3jqkcU/5h99k6ZBzj88bCIzFzjVP4enV8oyxN0//yH99nXg5D8qOpLLf0jtP5kqGJXUifQ/c9cS8kHP/D+/DpwzojQEQIEmwoanVwxA4lgXt9HgE0BSSZ2AJuIbQAMJih9jjiNA5q4l5INuK0AwTKYKRj0zQNv5fmq8/DpAaCJseHrtQkB/+zpwzoxKQM3MzMzMeFJAZmZmZmZqWEAAAAAAAFxeQM3MzMzMJmJAmpmZmZkfZUBmZmZmZhhoQDMzMzMzEWtAAAAAAAAKbkBmZmZmZoFwQM3MzMzM/XFAMzMzMzN6c0CamZmZmfZ0QAAAAAAAc3ZAZmZmZmbvd0DNzMzMzGt5QDMzMzMz6HpAmpmZmZlkfEAAAAAAAOF9QGZmZmZmXX9AZmZmZuZsgECamZmZGSuBQM3MzMxM6YFAAAAAAICngkAzMzMzs2WDQGZmZmbmI4RAmpmZmRnihEDNzMzMTKCFQAAAAACAXoZAMzMzM7Mch0BmZmZm5tqHQJqZmZkZmYhAzczMzExXiUAAAAAAgBWKQDMzMzOz04pAZmZmZuaRi0CamZmZGVCMQM3MzMxMDo1AAAAAAIDMjUAzMzMzs4qOQGZmZmbmSI9A\",\"dtype\":\"float64\",\"shape\":[75]}}},\"id\":\"fa197301-ae30-41ba-9e7f-943113b469c9\",\"type\":\"ColumnDataSource\"},{\"attributes\":{\"label\":{\"value\":\"CLIRAD `coolr_bands`\"},\"renderers\":[{\"id\":\"b93a21af-7c19-4958-845a-de481dffbc6a\",\"type\":\"GlyphRenderer\"}]},\"id\":\"41019772-1da3-48ce-a54c-203c430d890b\",\"type\":\"LegendItem\"},{\"attributes\":{},\"id\":\"313eb006-c3f2-4316-b11b-65481ef1efd8\",\"type\":\"BasicTickFormatter\"},{\"attributes\":{\"children\":[{\"id\":\"5904847b-f052-4e8d-be85-492bfb351483\",\"type\":\"ToolbarBox\"},{\"id\":\"3ae47ffe-d95d-4f8a-a5fd-3e573d80a659\",\"type\":\"Column\"}]},\"id\":\"6000e2fa-1d9d-4c40-9e48-bf33b691628c\",\"type\":\"Column\"},{\"attributes\":{\"source\":{\"id\":\"5e1f0e73-b9a9-4faa-ad5e-d9c56e7ea651\",\"type\":\"ColumnDataSource\"}},\"id\":\"144c2629-4841-40a6-99a8-58e94b4f360b\",\"type\":\"CDSView\"},{\"attributes\":{\"fill_alpha\":{\"value\":0.7},\"fill_color\":{\"value\":\"#984ea3\"},\"line_alpha\":{\"value\":0.7},\"line_color\":{\"value\":\"#984ea3\"},\"x\":{\"field\":\"x\"},\"y\":{\"field\":\"y\"}},\"id\":\"029e9ad4-c783-419e-a2ba-27c6266cd253\",\"type\":\"Square\"},{\"attributes\":{\"source\":{\"id\":\"b19132b8-164a-4d73-83ad-8d4275a457a4\",\"type\":\"ColumnDataSource\"}},\"id\":\"22b856ba-2b5e-4bc0-a3ca-65b3d30d49f0\",\"type\":\"CDSView\"},{\"attributes\":{\"line_alpha\":0.6,\"line_color\":\"#e41a1c\",\"line_dash\":[6],\"line_width\":5,\"x\":{\"field\":\"x\"},\"y\":{\"field\":\"y\"}},\"id\":\"ffc1d0ca-c2a7-4325-88ce-2e0682a62283\",\"type\":\"Line\"},{\"attributes\":{\"callback\":null,\"end\":0.01,\"start\":1020},\"id\":\"984e6fce-601f-4270-bd6a-8cb4d85ddeb0\",\"type\":\"Range1d\"},{\"attributes\":{},\"id\":\"138df715-a224-4f2a-a5e4-440268b1dedb\",\"type\":\"LogScale\"},{\"attributes\":{\"num_minor_ticks\":10},\"id\":\"716b1d47-4a93-49bf-9585-92a2345cd5ff\",\"type\":\"LogTicker\"},{\"attributes\":{},\"id\":\"88d64bfb-36c4-411b-b2a0-8103153bd196\",\"type\":\"WheelZoomTool\"},{\"attributes\":{},\"id\":\"047bd976-0efc-4caf-aaa1-310d60249947\",\"type\":\"ResetTool\"},{\"attributes\":{},\"id\":\"fb2aa576-f646-48e8-befa-131948b8437f\",\"type\":\"HelpTool\"},{\"attributes\":{\"overlay\":{\"id\":\"8f0cacee-0f04-4c16-b3e2-aa4967d2c2bb\",\"type\":\"BoxAnnotation\"}},\"id\":\"5e1aa738-a8e5-415a-b6da-94550f5dd729\",\"type\":\"BoxZoomTool\"},{\"attributes\":{\"data_source\":{\"id\":\"a0efdac6-243a-4972-a51f-a89ba18109eb\",\"type\":\"ColumnDataSource\"},\"glyph\":{\"id\":\"ffc1d0ca-c2a7-4325-88ce-2e0682a62283\",\"type\":\"Line\"},\"hover_glyph\":null,\"muted_glyph\":null,\"nonselection_glyph\":{\"id\":\"06694ed7-283e-4027-bd2b-e4dab0fa2d14\",\"type\":\"Line\"},\"selection_glyph\":null,\"view\":{\"id\":\"ed14148f-58f3-403f-ada6-be046fc3f62e\",\"type\":\"CDSView\"}},\"id\":\"b2b496ea-ab57-41d0-b223-78666cf43ecc\",\"type\":\"GlyphRenderer\"},{\"attributes\":{\"line_alpha\":0.1,\"line_color\":\"#1f77b4\",\"line_dash\":[6],\"line_width\":5,\"x\":{\"field\":\"x\"},\"y\":{\"field\":\"y\"}},\"id\":\"82368f24-5296-4efd-aa64-45a974f4085b\",\"type\":\"Line\"},{\"attributes\":{\"ticker\":null},\"id\":\"2bd2a90a-184b-4c1e-998b-5f6607ccbfe0\",\"type\":\"LogTickFormatter\"},{\"attributes\":{\"data_source\":{\"id\":\"5e1f0e73-b9a9-4faa-ad5e-d9c56e7ea651\",\"type\":\"ColumnDataSource\"},\"glyph\":{\"id\":\"21f85435-21a6-4736-8bad-e6672ccc5acb\",\"type\":\"Circle\"},\"hover_glyph\":null,\"muted_glyph\":null,\"nonselection_glyph\":{\"id\":\"7f68e47f-ae37-46f9-8bdb-96db31f66ce5\",\"type\":\"Circle\"},\"selection_glyph\":null,\"view\":{\"id\":\"144c2629-4841-40a6-99a8-58e94b4f360b\",\"type\":\"CDSView\"}},\"id\":\"e61f411b-a403-41db-91de-9b6de05c41e6\",\"type\":\"GlyphRenderer\"},{\"attributes\":{\"line_color\":\"#4daf4a\",\"line_width\":1.5,\"x\":{\"field\":\"x\"},\"y\":{\"field\":\"y\"}},\"id\":\"d022359d-df36-44cc-a434-987cd0da0857\",\"type\":\"Line\"},{\"attributes\":{\"callback\":null,\"end\":0.01,\"start\":1020},\"id\":\"a51fda58-2820-4508-b255-b57ae6507d19\",\"type\":\"Range1d\"},{\"attributes\":{},\"id\":\"346edf52-981a-435f-a3ef-bd9357021860\",\"type\":\"SaveTool\"},{\"attributes\":{\"dimension\":1,\"plot\":{\"id\":\"28bf22da-c431-4d55-9a08-8702ececbb01\",\"subtype\":\"Figure\",\"type\":\"Plot\"},\"ticker\":{\"id\":\"716b1d47-4a93-49bf-9585-92a2345cd5ff\",\"type\":\"LogTicker\"}},\"id\":\"8f2dcc37-75de-4f5d-8e4e-a94bb36b63a7\",\"type\":\"Grid\"},{\"attributes\":{\"below\":[{\"id\":\"4fc9c3a2-89bd-4d09-90c9-0569df5c6514\",\"type\":\"LinearAxis\"}],\"left\":[{\"id\":\"4e5c55de-cbaf-407b-a6ed-3b90168f99fc\",\"type\":\"LinearAxis\"}],\"plot_height\":500,\"plot_width\":400,\"renderers\":[{\"id\":\"4fc9c3a2-89bd-4d09-90c9-0569df5c6514\",\"type\":\"LinearAxis\"},{\"id\":\"454945b2-9e51-4f03-b176-8ce2a330b14d\",\"type\":\"Grid\"},{\"id\":\"4e5c55de-cbaf-407b-a6ed-3b90168f99fc\",\"type\":\"LinearAxis\"},{\"id\":\"af2d1e6c-59ab-4259-9c8a-aacf3c423b09\",\"type\":\"Grid\"},{\"id\":\"8f0cacee-0f04-4c16-b3e2-aa4967d2c2bb\",\"type\":\"BoxAnnotation\"},{\"id\":\"b2b496ea-ab57-41d0-b223-78666cf43ecc\",\"type\":\"GlyphRenderer\"},{\"id\":\"e61f411b-a403-41db-91de-9b6de05c41e6\",\"type\":\"GlyphRenderer\"},{\"id\":\"57672750-4bb1-4d3a-8692-e26e52b37323\",\"type\":\"GlyphRenderer\"},{\"id\":\"1d434d5a-deb0-48d6-972a-cebc9cb8bed3\",\"type\":\"GlyphRenderer\"},{\"id\":\"20937846-d79a-4ec0-8203-584ef1b5c490\",\"type\":\"GlyphRenderer\"}],\"title\":{\"id\":\"9167ea58-5445-47e3-b6ba-a687f692e7e9\",\"type\":\"Title\"},\"toolbar\":{\"id\":\"edcbfe41-442a-43ec-93a7-bac1e34270b3\",\"type\":\"Toolbar\"},\"toolbar_location\":null,\"x_range\":{\"id\":\"3a9f6ab4-5228-41f2-b01b-2b24d91d91a9\",\"type\":\"Range1d\"},\"x_scale\":{\"id\":\"37fdccbf-6c06-48c6-bb53-ef37d303a484\",\"type\":\"LinearScale\"},\"y_range\":{\"id\":\"a51fda58-2820-4508-b255-b57ae6507d19\",\"type\":\"Range1d\"},\"y_scale\":{\"id\":\"0dc062b5-4b47-4e28-9c1a-f9ab35b92e2c\",\"type\":\"LinearScale\"}},\"id\":\"ab1c5992-c3e5-4ee4-96ed-2178565adbdc\",\"subtype\":\"Figure\",\"type\":\"Plot\"},{\"attributes\":{\"callback\":null,\"column_names\":[\"x\",\"y\"],\"data\":{\"x\":{\"__ndarray__\":\"VTm6OJQbUT9jfCnX83BUP1iI/OaGbls/zWaZO7ZCYT9vZBEYoddkP/t1tmZ8dmg/nCXSwzoYbD8gdaGU9cRvP+gOKeGltnE/szqIiUWNcz+ePbncV1t1P399xp8OBnc/Tzya/Ky4eD81/2+xCcV6PzGl1PI6k4E/4/MbCsV0ij988JPQgdiSP1oLSewu3pg/y7RbnSxNnz/Ix39lyxCjP0ATEHzUq6Y/5YWuI5IRqj8Vep/Yeu6qP0+fAxxZMak/8hQHCpuFpj8TSLmW8TijP/hEwurUBKA/B06cLTdQmj9QwqWTB0qVP604BZSu4pA/8yAuGuHWiT/5OjnbjVKCPxzVxuiioHU/LzriEvz9Vj+4ZEXrKTRvv1pRdj8WvoS/FHu+H+Tgjb+xaof0GDuOvyVUZgbOcom/ahoeP3cphb8dSLngNTSBvyRnS9jq8nq/QPW6RoXRc7+0wYpWHPVpvzaly8qOh1m/995/z5bZqz6261CXjdFYP+VyViCHfGg/j36Nwjsicj9S/2L3EuN3PxEV+eFfhX0/bfnlaN6FgT9pWiKTrDyEP3RrmsMq6IY/YcU3gdqJiT+vuEKcqiKMP9g4IcjPs44/1ZBixxmfkD/gXTGayt+RPwUWDCPHGpM/gC32MftJlD/Xn2ku3F6VP4GIzfqmRpY/S6h2DOP8lj/7ZfibxZWXP6nzfXhjL5g/hGmF2lDgmD87TT70366ZP+IBNRqYk5o/Xi3pu2qEmz+fZ2CiSXucP6zD7arpdZ0/aaE58g1znj/REX9odHSfPwxLWvbGPqA/\",\"dtype\":\"float64\",\"shape\":[75]},\"y\":{\"__ndarray__\":\"GhExyth1ND/Sv8nbtpRIP2vylNV0PVE/aTum7souWD/At0SJ8fVgPw3Iuahxymc/MSNhhJWvcD/bTfBN02d3P2zb5nxnaoA/CD5h5MAGhz8NmeH1TyaQP+zrCsc9p5Y/LbKd76fGnz/bLW5ISEmmPww9YvTcQq8/JV2OstnstT8Er5Y7M8G+P0c+r3jqkcU/5h99k6ZBzj88bCIzFzjVP4enV8oyxN0//yH99nXg5D8qOpLLf0jtP5kqGJXUifQ/c9cS8kHP/D+/DpwzojQEQIEmwoanVwxA4lgXt9HgE0BSSZ2AJuIbQAMJih9jjiNA5q4l5INuK0AwTKYKRj0zQNv5fmq8/DpAaCJseHrtQkB/+zpwzoxKQM3MzMzMeFJAZmZmZmZqWEAAAAAAAFxeQM3MzMzMJmJAmpmZmZkfZUBmZmZmZhhoQDMzMzMzEWtAAAAAAAAKbkBmZmZmZoFwQM3MzMzM/XFAMzMzMzN6c0CamZmZmfZ0QAAAAAAAc3ZAZmZmZmbvd0DNzMzMzGt5QDMzMzMz6HpAmpmZmZlkfEAAAAAAAOF9QGZmZmZmXX9AZmZmZuZsgECamZmZGSuBQM3MzMxM6YFAAAAAAICngkAzMzMzs2WDQGZmZmbmI4RAmpmZmRnihEDNzMzMTKCFQAAAAACAXoZAMzMzM7Mch0BmZmZm5tqHQJqZmZkZmYhAzczMzExXiUAAAAAAgBWKQDMzMzOz04pAZmZmZuaRi0CamZmZGVCMQM3MzMxMDo1AAAAAAIDMjUAzMzMzs4qOQGZmZmbmSI9A\",\"dtype\":\"float64\",\"shape\":[75]}}},\"id\":\"5e1f0e73-b9a9-4faa-ad5e-d9c56e7ea651\",\"type\":\"ColumnDataSource\"},{\"attributes\":{},\"id\":\"0dc062b5-4b47-4e28-9c1a-f9ab35b92e2c\",\"type\":\"LinearScale\"},{\"attributes\":{\"axis_label\":\"pressure [mb]\",\"formatter\":{\"id\":\"da5135ff-62d5-4320-a4b9-b953bcf10484\",\"type\":\"BasicTickFormatter\"},\"plot\":{\"id\":\"ab1c5992-c3e5-4ee4-96ed-2178565adbdc\",\"subtype\":\"Figure\",\"type\":\"Plot\"},\"ticker\":{\"id\":\"64e5f87b-3fd4-49a2-841c-b01f46e44824\",\"type\":\"BasicTicker\"}},\"id\":\"4e5c55de-cbaf-407b-a6ed-3b90168f99fc\",\"type\":\"LinearAxis\"},{\"attributes\":{\"line_alpha\":0.6,\"line_color\":\"#e41a1c\",\"line_dash\":[6],\"line_width\":5,\"x\":{\"field\":\"x\"},\"y\":{\"field\":\"y\"}},\"id\":\"515f76c6-784a-4fb3-b4ec-70b7139b65ce\",\"type\":\"Line\"},{\"attributes\":{},\"id\":\"37fdccbf-6c06-48c6-bb53-ef37d303a484\",\"type\":\"LinearScale\"},{\"attributes\":{\"data_source\":{\"id\":\"de779930-60e7-4f80-a34c-07adeadfb744\",\"type\":\"ColumnDataSource\"},\"glyph\":{\"id\":\"515f76c6-784a-4fb3-b4ec-70b7139b65ce\",\"type\":\"Line\"},\"hover_glyph\":null,\"muted_glyph\":null,\"nonselection_glyph\":{\"id\":\"82368f24-5296-4efd-aa64-45a974f4085b\",\"type\":\"Line\"},\"selection_glyph\":null,\"view\":{\"id\":\"2b98ccf2-86b4-4abe-95bb-61e9fe4e10b3\",\"type\":\"CDSView\"}},\"id\":\"b93a21af-7c19-4958-845a-de481dffbc6a\",\"type\":\"GlyphRenderer\"},{\"attributes\":{\"line_alpha\":0.1,\"line_color\":\"#1f77b4\",\"line_width\":1.5,\"x\":{\"field\":\"x\"},\"y\":{\"field\":\"y\"}},\"id\":\"d120bc4e-c07b-4128-982f-a77b2ca23c08\",\"type\":\"Line\"},{\"attributes\":{},\"id\":\"64e5f87b-3fd4-49a2-841c-b01f46e44824\",\"type\":\"BasicTicker\"},{\"attributes\":{\"children\":[{\"id\":\"21587e0d-1001-4dd6-8693-3d468ec11bed\",\"type\":\"Row\"}]},\"id\":\"3ae47ffe-d95d-4f8a-a5fd-3e573d80a659\",\"type\":\"Column\"},{\"attributes\":{\"callback\":null,\"column_names\":[\"x\",\"y\"],\"data\":{\"x\":{\"__ndarray__\":\"iDkYHOsDeT8nDhA0tVh5P/E7mBj8Uns/BXEKIVrBfD95F2X6iTF+P5lO2502pX8/hNw+TH+NgD/JuyCrJkuBP0TEha+zCYI/ifYaQlrKgj9D4dNeNIuDP7Llhi4CTYQ/NLCpgVMQhT+Z9ybwyASGP8zwB1IVkok/qcKkmoeDkD+4hm0Z3TKVP78oQX+hR5o/4JfwB+C/nz+F6v1+5cyiP2dMUcap6qU/s9OdlDriqD8lkhtXudapP9H9PBDQsqg/lSKwdGm8pj+J1yVFjCCkP+gHBvToZKE/TsZR6cJwnT9wfrFhxyuYP4ZY/RGGAZM/q7+s8DHPiz9jyLzVxNCBP/ckggEcLHA/L4Di+ugMRr/XttL7pxN4v935VeuKOoe/nTdLUmRwjr9hIYwC8XiOv1EwhBi/W4q/EaioQWtahr/Q2hHw4nuCv/NAwG++d32/3eBzvz0qdr8feK0iMhxuv7+ch0KsP2C/If7QBe61Nb+w2wOP2PdUP501USquYWc/dYwauRYAcj+BYb21eix4P5vrsb7TNX4/6AAk/tgQgj81OWM16fiEPwyrTaOW1Ic/2EPx5k2eij9vWeE911yNPwHetnpECJA/qbhBUuNckT/aPAFZ96uSPwvpHkmx8pM/du+mMPYrlT8GGnOkIU2WP7arVZCmR5c/E5pUz6oYmD/GAKLD8M+YP+Opju9nhZk/1hWCCLBJmj/tHeLdmSKbP230DhD8Cpw//kPF+xv7nD/H35iTh+2dP6r4KQjK354/3KBHozrRnz9T7ByOpGCgPw9Kiz/516A/\",\"dtype\":\"float64\",\"shape\":[75]},\"y\":{\"__ndarray__\":\"S/O/Q+51ND/Sv8nbtpRIP2vylNV0PVE/aTum7souWD/At0SJ8fVgPw3Iuahxymc/MSNhhJWvcD/bTfBN02d3P2zb5nxnaoA/CD5h5MAGhz8NmeH1TyaQP+zrCsc9p5Y/LbKd76fGnz/bLW5ISEmmPww9YvTcQq8/JV2OstnstT8Er5Y7M8G+P0c+r3jqkcU/5h99k6ZBzj88bCIzFzjVP4enV8oyxN0//yH99nXg5D8qOpLLf0jtP5kqGJXUifQ/c9cS8kHP/D+/DpwzojQEQIEmwoanVwxA4lgXt9HgE0BSSZ2AJuIbQAMJih9jjiNA5q4l5INuK0AwTKYKRj0zQNv5fmq8/DpAaCJseHrtQkB/+zpwzoxKQM3MzMzMeFJAZmZmZmZqWEAAAAAAAFxeQM3MzMzMJmJAmpmZmZkfZUBmZmZmZhhoQDMzMzMzEWtAAAAAAAAKbkBmZmZmZoFwQM3MzMzM/XFAMzMzMzN6c0CamZmZmfZ0QAAAAAAAc3ZAZmZmZmbvd0DNzMzMzGt5QDMzMzMz6HpAmpmZmZlkfEAAAAAAAOF9QGZmZmZmXX9AZmZmZuZsgECamZmZGSuBQM3MzMxM6YFAAAAAAICngkAzMzMzs2WDQGZmZmbmI4RAmpmZmRnihEDNzMzMTKCFQAAAAACAXoZAMzMzM7Mch0BmZmZm5tqHQJqZmZkZmYhAzczMzExXiUAAAAAAgBWKQDMzMzOz04pAZmZmZuaRi0CamZmZGVCMQM3MzMxMDo1AAAAAAIDMjUAzMzMzs4qOQGZmZmbmSI9A\",\"dtype\":\"float64\",\"shape\":[75]}}},\"id\":\"a0efdac6-243a-4972-a51f-a89ba18109eb\",\"type\":\"ColumnDataSource\"},{\"attributes\":{},\"id\":\"69caf82c-e8da-4980-b9b7-823336d49161\",\"type\":\"HelpTool\"},{\"attributes\":{\"label\":{\"value\":\"WGT igg=10 wgt_flux=2\"},\"renderers\":[{\"id\":\"b616ef22-cf20-4ef1-be02-f63ca3df42bb\",\"type\":\"GlyphRenderer\"},{\"id\":\"eaa87765-8693-41bc-a7e3-86ec6d3cbcdb\",\"type\":\"GlyphRenderer\"}]},\"id\":\"b1ab4d64-b702-4f3e-ac08-3f90452549f5\",\"type\":\"LegendItem\"},{\"attributes\":{\"callback\":null,\"column_names\":[\"x\",\"y\"],\"data\":{\"x\":{\"__ndarray__\":\"iDkYHOsDeT8nDhA0tVh5P/E7mBj8Uns/BXEKIVrBfD95F2X6iTF+P5lO2502pX8/hNw+TH+NgD/JuyCrJkuBP0TEha+zCYI/ifYaQlrKgj9D4dNeNIuDP7Llhi4CTYQ/NLCpgVMQhT+Z9ybwyASGP8zwB1IVkok/qcKkmoeDkD+4hm0Z3TKVP78oQX+hR5o/4JfwB+C/nz+F6v1+5cyiP2dMUcap6qU/s9OdlDriqD8lkhtXudapP9H9PBDQsqg/lSKwdGm8pj+J1yVFjCCkP+gHBvToZKE/TsZR6cJwnT9wfrFhxyuYP4ZY/RGGAZM/q7+s8DHPiz9jyLzVxNCBP/ckggEcLHA/L4Di+ugMRr/XttL7pxN4v935VeuKOoe/nTdLUmRwjr9hIYwC8XiOv1EwhBi/W4q/EaioQWtahr/Q2hHw4nuCv/NAwG++d32/3eBzvz0qdr8feK0iMhxuv7+ch0KsP2C/If7QBe61Nb+w2wOP2PdUP501USquYWc/dYwauRYAcj+BYb21eix4P5vrsb7TNX4/6AAk/tgQgj81OWM16fiEPwyrTaOW1Ic/2EPx5k2eij9vWeE911yNPwHetnpECJA/qbhBUuNckT/aPAFZ96uSPwvpHkmx8pM/du+mMPYrlT8GGnOkIU2WP7arVZCmR5c/E5pUz6oYmD/GAKLD8M+YP+Opju9nhZk/1hWCCLBJmj/tHeLdmSKbP230DhD8Cpw//kPF+xv7nD/H35iTh+2dP6r4KQjK354/3KBHozrRnz9T7ByOpGCgPw9Kiz/516A/\",\"dtype\":\"float64\",\"shape\":[75]},\"y\":{\"__ndarray__\":\"S/O/Q+51ND/Sv8nbtpRIP2vylNV0PVE/aTum7souWD/At0SJ8fVgPw3Iuahxymc/MSNhhJWvcD/bTfBN02d3P2zb5nxnaoA/CD5h5MAGhz8NmeH1TyaQP+zrCsc9p5Y/LbKd76fGnz/bLW5ISEmmPww9YvTcQq8/JV2OstnstT8Er5Y7M8G+P0c+r3jqkcU/5h99k6ZBzj88bCIzFzjVP4enV8oyxN0//yH99nXg5D8qOpLLf0jtP5kqGJXUifQ/c9cS8kHP/D+/DpwzojQEQIEmwoanVwxA4lgXt9HgE0BSSZ2AJuIbQAMJih9jjiNA5q4l5INuK0AwTKYKRj0zQNv5fmq8/DpAaCJseHrtQkB/+zpwzoxKQM3MzMzMeFJAZmZmZmZqWEAAAAAAAFxeQM3MzMzMJmJAmpmZmZkfZUBmZmZmZhhoQDMzMzMzEWtAAAAAAAAKbkBmZmZmZoFwQM3MzMzM/XFAMzMzMzN6c0CamZmZmfZ0QAAAAAAAc3ZAZmZmZmbvd0DNzMzMzGt5QDMzMzMz6HpAmpmZmZlkfEAAAAAAAOF9QGZmZmZmXX9AZmZmZuZsgECamZmZGSuBQM3MzMxM6YFAAAAAAICngkAzMzMzs2WDQGZmZmbmI4RAmpmZmRnihEDNzMzMTKCFQAAAAACAXoZAMzMzM7Mch0BmZmZm5tqHQJqZmZkZmYhAzczMzExXiUAAAAAAgBWKQDMzMzOz04pAZmZmZuaRi0CamZmZGVCMQM3MzMxMDo1AAAAAAIDMjUAzMzMzs4qOQGZmZmbmSI9A\",\"dtype\":\"float64\",\"shape\":[75]}}},\"id\":\"de779930-60e7-4f80-a34c-07adeadfb744\",\"type\":\"ColumnDataSource\"},{\"attributes\":{\"plot\":null,\"text\":\"Linear pressure scale\"},\"id\":\"9167ea58-5445-47e3-b6ba-a687f692e7e9\",\"type\":\"Title\"},{\"attributes\":{\"children\":[{\"id\":\"ab1c5992-c3e5-4ee4-96ed-2178565adbdc\",\"subtype\":\"Figure\",\"type\":\"Plot\"},{\"id\":\"28bf22da-c431-4d55-9a08-8702ececbb01\",\"subtype\":\"Figure\",\"type\":\"Plot\"}]},\"id\":\"21587e0d-1001-4dd6-8693-3d468ec11bed\",\"type\":\"Row\"},{\"attributes\":{\"active_drag\":\"auto\",\"active_inspect\":\"auto\",\"active_scroll\":\"auto\",\"active_tap\":\"auto\",\"tools\":[{\"id\":\"5ed4faf5-967e-4372-bc43-8f83aacb4f2c\",\"type\":\"PanTool\"},{\"id\":\"88d64bfb-36c4-411b-b2a0-8103153bd196\",\"type\":\"WheelZoomTool\"},{\"id\":\"5e1aa738-a8e5-415a-b6da-94550f5dd729\",\"type\":\"BoxZoomTool\"},{\"id\":\"9a87ef20-3656-4e56-95cf-50e06086ad3b\",\"type\":\"SaveTool\"},{\"id\":\"047bd976-0efc-4caf-aaa1-310d60249947\",\"type\":\"ResetTool\"},{\"id\":\"fb2aa576-f646-48e8-befa-131948b8437f\",\"type\":\"HelpTool\"}]},\"id\":\"edcbfe41-442a-43ec-93a7-bac1e34270b3\",\"type\":\"Toolbar\"},{\"attributes\":{},\"id\":\"5628dc2d-9696-4909-b00f-008904afd652\",\"type\":\"ResetTool\"},{\"attributes\":{\"overlay\":{\"id\":\"0748c609-fa12-4d2b-b7d2-07bbd058002d\",\"type\":\"BoxAnnotation\"}},\"id\":\"746e3a7c-b7ea-4374-9133-a21efd4c638d\",\"type\":\"BoxZoomTool\"},{\"attributes\":{\"axis_label\":\"cooling rate [K/day]\",\"formatter\":{\"id\":\"313eb006-c3f2-4316-b11b-65481ef1efd8\",\"type\":\"BasicTickFormatter\"},\"plot\":{\"id\":\"ab1c5992-c3e5-4ee4-96ed-2178565adbdc\",\"subtype\":\"Figure\",\"type\":\"Plot\"},\"ticker\":{\"id\":\"a1088af7-d9e7-4025-a9e6-d4a9ecc28e64\",\"type\":\"BasicTicker\"}},\"id\":\"4fc9c3a2-89bd-4d09-90c9-0569df5c6514\",\"type\":\"LinearAxis\"},{\"attributes\":{},\"id\":\"a60e0c16-89a4-4098-aaa8-3bb6fb12890c\",\"type\":\"PanTool\"},{\"attributes\":{\"callback\":null,\"column_names\":[\"x\",\"y\"],\"data\":{\"x\":{\"__ndarray__\":\"VTm6OJQbUT9jfCnX83BUP1iI/OaGbls/zWaZO7ZCYT9vZBEYoddkP/t1tmZ8dmg/nCXSwzoYbD8gdaGU9cRvP+gOKeGltnE/szqIiUWNcz+ePbncV1t1P399xp8OBnc/Tzya/Ky4eD81/2+xCcV6PzGl1PI6k4E/4/MbCsV0ij988JPQgdiSP1oLSewu3pg/y7RbnSxNnz/Ix39lyxCjP0ATEHzUq6Y/5YWuI5IRqj8Vep/Yeu6qP0+fAxxZMak/8hQHCpuFpj8TSLmW8TijP/hEwurUBKA/B06cLTdQmj9QwqWTB0qVP604BZSu4pA/8yAuGuHWiT/5OjnbjVKCPxzVxuiioHU/LzriEvz9Vj+4ZEXrKTRvv1pRdj8WvoS/FHu+H+Tgjb+xaof0GDuOvyVUZgbOcom/ahoeP3cphb8dSLngNTSBvyRnS9jq8nq/QPW6RoXRc7+0wYpWHPVpvzaly8qOh1m/995/z5bZqz6261CXjdFYP+VyViCHfGg/j36Nwjsicj9S/2L3EuN3PxEV+eFfhX0/bfnlaN6FgT9pWiKTrDyEP3RrmsMq6IY/YcU3gdqJiT+vuEKcqiKMP9g4IcjPs44/1ZBixxmfkD/gXTGayt+RPwUWDCPHGpM/gC32MftJlD/Xn2ku3F6VP4GIzfqmRpY/S6h2DOP8lj/7ZfibxZWXP6nzfXhjL5g/hGmF2lDgmD87TT70366ZP+IBNRqYk5o/Xi3pu2qEmz+fZ2CiSXucP6zD7arpdZ0/aaE58g1znj/REX9odHSfPwxLWvbGPqA/\",\"dtype\":\"float64\",\"shape\":[75]},\"y\":{\"__ndarray__\":\"GhExyth1ND/Sv8nbtpRIP2vylNV0PVE/aTum7souWD/At0SJ8fVgPw3Iuahxymc/MSNhhJWvcD/bTfBN02d3P2zb5nxnaoA/CD5h5MAGhz8NmeH1TyaQP+zrCsc9p5Y/LbKd76fGnz/bLW5ISEmmPww9YvTcQq8/JV2OstnstT8Er5Y7M8G+P0c+r3jqkcU/5h99k6ZBzj88bCIzFzjVP4enV8oyxN0//yH99nXg5D8qOpLLf0jtP5kqGJXUifQ/c9cS8kHP/D+/DpwzojQEQIEmwoanVwxA4lgXt9HgE0BSSZ2AJuIbQAMJih9jjiNA5q4l5INuK0AwTKYKRj0zQNv5fmq8/DpAaCJseHrtQkB/+zpwzoxKQM3MzMzMeFJAZmZmZmZqWEAAAAAAAFxeQM3MzMzMJmJAmpmZmZkfZUBmZmZmZhhoQDMzMzMzEWtAAAAAAAAKbkBmZmZmZoFwQM3MzMzM/XFAMzMzMzN6c0CamZmZmfZ0QAAAAAAAc3ZAZmZmZmbvd0DNzMzMzGt5QDMzMzMz6HpAmpmZmZlkfEAAAAAAAOF9QGZmZmZmXX9AZmZmZuZsgECamZmZGSuBQM3MzMxM6YFAAAAAAICngkAzMzMzs2WDQGZmZmbmI4RAmpmZmRnihEDNzMzMTKCFQAAAAACAXoZAMzMzM7Mch0BmZmZm5tqHQJqZmZkZmYhAzczMzExXiUAAAAAAgBWKQDMzMzOz04pAZmZmZuaRi0CamZmZGVCMQM3MzMxMDo1AAAAAAIDMjUAzMzMzs4qOQGZmZmbmSI9A\",\"dtype\":\"float64\",\"shape\":[75]}}},\"id\":\"b19132b8-164a-4d73-83ad-8d4275a457a4\",\"type\":\"ColumnDataSource\"},{\"attributes\":{},\"id\":\"9a87ef20-3656-4e56-95cf-50e06086ad3b\",\"type\":\"SaveTool\"},{\"attributes\":{\"dimension\":1,\"plot\":{\"id\":\"ab1c5992-c3e5-4ee4-96ed-2178565adbdc\",\"subtype\":\"Figure\",\"type\":\"Plot\"},\"ticker\":{\"id\":\"64e5f87b-3fd4-49a2-841c-b01f46e44824\",\"type\":\"BasicTicker\"}},\"id\":\"af2d1e6c-59ab-4259-9c8a-aacf3c423b09\",\"type\":\"Grid\"},{\"attributes\":{},\"id\":\"da5135ff-62d5-4320-a4b9-b953bcf10484\",\"type\":\"BasicTickFormatter\"},{\"attributes\":{\"bottom_units\":\"screen\",\"fill_alpha\":{\"value\":0.5},\"fill_color\":{\"value\":\"lightgrey\"},\"left_units\":\"screen\",\"level\":\"overlay\",\"line_alpha\":{\"value\":1.0},\"line_color\":{\"value\":\"black\"},\"line_dash\":[4,4],\"line_width\":{\"value\":2},\"plot\":null,\"render_mode\":\"css\",\"right_units\":\"screen\",\"top_units\":\"screen\"},\"id\":\"8f0cacee-0f04-4c16-b3e2-aa4967d2c2bb\",\"type\":\"BoxAnnotation\"},{\"attributes\":{\"bottom_units\":\"screen\",\"fill_alpha\":{\"value\":0.5},\"fill_color\":{\"value\":\"lightgrey\"},\"left_units\":\"screen\",\"level\":\"overlay\",\"line_alpha\":{\"value\":1.0},\"line_color\":{\"value\":\"black\"},\"line_dash\":[4,4],\"line_width\":{\"value\":2},\"plot\":null,\"render_mode\":\"css\",\"right_units\":\"screen\",\"top_units\":\"screen\"},\"id\":\"0748c609-fa12-4d2b-b7d2-07bbd058002d\",\"type\":\"BoxAnnotation\"},{\"attributes\":{\"label\":{\"value\":\"CRD\"},\"renderers\":[{\"id\":\"fe16af5e-d57f-4e76-929e-13230ff56b11\",\"type\":\"GlyphRenderer\"},{\"id\":\"289200d1-386d-4219-b7a6-08fadf7f4ee1\",\"type\":\"GlyphRenderer\"}]},\"id\":\"25e3b16c-f4ab-46fd-b308-204fb0d882ae\",\"type\":\"LegendItem\"},{\"attributes\":{},\"id\":\"5ed4faf5-967e-4372-bc43-8f83aacb4f2c\",\"type\":\"PanTool\"},{\"attributes\":{\"source\":{\"id\":\"de779930-60e7-4f80-a34c-07adeadfb744\",\"type\":\"ColumnDataSource\"}},\"id\":\"2b98ccf2-86b4-4abe-95bb-61e9fe4e10b3\",\"type\":\"CDSView\"},{\"attributes\":{},\"id\":\"a1088af7-d9e7-4025-a9e6-d4a9ecc28e64\",\"type\":\"BasicTicker\"},{\"attributes\":{},\"id\":\"6accb6ea-5a86-4204-b3de-1dcec5f79e28\",\"type\":\"WheelZoomTool\"}],\"root_ids\":[\"6000e2fa-1d9d-4c40-9e48-bf33b691628c\"]},\"title\":\"Bokeh Application\",\"version\":\"0.12.14\"}};\n",
       "  var render_items = [{\"docid\":\"37c56849-acd9-406c-9851-d5d0d1bec1cf\",\"elementid\":\"64841b17-642a-4fc6-b03b-1d4d9590d41f\",\"modelid\":\"6000e2fa-1d9d-4c40-9e48-bf33b691628c\"}];\n",
       "  root.Bokeh.embed.embed_items_notebook(docs_json, render_items);\n",
       "\n",
       "  }\n",
       "  if (root.Bokeh !== undefined) {\n",
       "    embed_document(root);\n",
       "  } else {\n",
       "    var attempts = 0;\n",
       "    var timer = setInterval(function(root) {\n",
       "      if (root.Bokeh !== undefined) {\n",
       "        embed_document(root);\n",
       "        clearInterval(timer);\n",
       "      }\n",
       "      attempts++;\n",
       "      if (attempts > 100) {\n",
       "        console.log(\"Bokeh: ERROR: Unable to run BokehJS code because BokehJS library is missing\")\n",
       "        clearInterval(timer);\n",
       "      }\n",
       "    }, 10, root)\n",
       "  }\n",
       "})(window);"
      ],
      "application/vnd.bokehjs_exec.v0+json": ""
     },
     "metadata": {
      "application/vnd.bokehjs_exec.v0+json": {
       "id": "6000e2fa-1d9d-4c40-9e48-bf33b691628c"
      }
     },
     "output_type": "display_data"
    },
    {
     "name": "stdout",
     "output_type": "stream",
     "text": [
      "FIGURE. Cooling rate profiles.\n"
     ]
    },
    {
     "data": {
      "text/html": [
       "<a id=\"Flux_Comparison\"></a>"
      ],
      "text/plain": [
       "<IPython.core.display.HTML object>"
      ]
     },
     "metadata": {},
     "output_type": "display_data"
    },
    {
     "data": {
      "text/markdown": [
       "# Flux Comparison"
      ],
      "text/plain": [
       "<IPython.core.display.Markdown object>"
      ]
     },
     "metadata": {},
     "output_type": "display_data"
    },
    {
     "data": {
      "text/html": [
       "<div>\n",
       "<style>\n",
       "    .dataframe thead tr:only-child th {\n",
       "        text-align: right;\n",
       "    }\n",
       "\n",
       "    .dataframe thead th {\n",
       "        text-align: left;\n",
       "    }\n",
       "\n",
       "    .dataframe tbody tr th {\n",
       "        vertical-align: top;\n",
       "    }\n",
       "</style>\n",
       "<table border=\"1\" class=\"dataframe\">\n",
       "  <thead>\n",
       "    <tr style=\"text-align: right;\">\n",
       "      <th></th>\n",
       "      <th></th>\n",
       "      <th>flug</th>\n",
       "      <th>fldg</th>\n",
       "      <th>fnetg</th>\n",
       "    </tr>\n",
       "    <tr>\n",
       "      <th>pressure</th>\n",
       "      <th>level</th>\n",
       "      <th></th>\n",
       "      <th></th>\n",
       "      <th></th>\n",
       "    </tr>\n",
       "  </thead>\n",
       "  <tbody>\n",
       "    <tr>\n",
       "      <th>0.0000</th>\n",
       "      <th>1</th>\n",
       "      <td>-37.080242</td>\n",
       "      <td>0.000000</td>\n",
       "      <td>-37.080242</td>\n",
       "    </tr>\n",
       "    <tr>\n",
       "      <th>1.0685</th>\n",
       "      <th>24</th>\n",
       "      <td>-37.079405</td>\n",
       "      <td>0.004616</td>\n",
       "      <td>-37.074788</td>\n",
       "    </tr>\n",
       "    <tr>\n",
       "      <th>1013.0000</th>\n",
       "      <th>76</th>\n",
       "      <td>-38.491734</td>\n",
       "      <td>2.798733</td>\n",
       "      <td>-35.693002</td>\n",
       "    </tr>\n",
       "  </tbody>\n",
       "</table>\n",
       "</div>"
      ],
      "text/plain": [
       "                      flug      fldg      fnetg\n",
       "pressure  level                                \n",
       "0.0000    1     -37.080242  0.000000 -37.080242\n",
       "1.0685    24    -37.079405  0.004616 -37.074788\n",
       "1013.0000 76    -38.491734  2.798733 -35.693002"
      ]
     },
     "metadata": {},
     "output_type": "display_data"
    },
    {
     "name": "stdout",
     "output_type": "stream",
     "text": [
      "Table. Fluxes. WGT igg=10 wgt_flux=1\n"
     ]
    },
    {
     "data": {
      "text/html": [
       "<div>\n",
       "<style>\n",
       "    .dataframe thead tr:only-child th {\n",
       "        text-align: right;\n",
       "    }\n",
       "\n",
       "    .dataframe thead th {\n",
       "        text-align: left;\n",
       "    }\n",
       "\n",
       "    .dataframe tbody tr th {\n",
       "        vertical-align: top;\n",
       "    }\n",
       "</style>\n",
       "<table border=\"1\" class=\"dataframe\">\n",
       "  <thead>\n",
       "    <tr style=\"text-align: right;\">\n",
       "      <th></th>\n",
       "      <th></th>\n",
       "      <th>flug</th>\n",
       "      <th>fldg</th>\n",
       "      <th>fnetg</th>\n",
       "    </tr>\n",
       "    <tr>\n",
       "      <th>pressure</th>\n",
       "      <th>level</th>\n",
       "      <th></th>\n",
       "      <th></th>\n",
       "      <th></th>\n",
       "    </tr>\n",
       "  </thead>\n",
       "  <tbody>\n",
       "    <tr>\n",
       "      <th>0.0000</th>\n",
       "      <th>1</th>\n",
       "      <td>-37.083828</td>\n",
       "      <td>0.000000</td>\n",
       "      <td>-37.083828</td>\n",
       "    </tr>\n",
       "    <tr>\n",
       "      <th>1.0685</th>\n",
       "      <th>24</th>\n",
       "      <td>-37.083479</td>\n",
       "      <td>0.004824</td>\n",
       "      <td>-37.078655</td>\n",
       "    </tr>\n",
       "    <tr>\n",
       "      <th>1013.0000</th>\n",
       "      <th>76</th>\n",
       "      <td>-38.491734</td>\n",
       "      <td>2.699166</td>\n",
       "      <td>-35.792568</td>\n",
       "    </tr>\n",
       "  </tbody>\n",
       "</table>\n",
       "</div>"
      ],
      "text/plain": [
       "                      flug      fldg      fnetg\n",
       "pressure  level                                \n",
       "0.0000    1     -37.083828  0.000000 -37.083828\n",
       "1.0685    24    -37.083479  0.004824 -37.078655\n",
       "1013.0000 76    -38.491734  2.699166 -35.792568"
      ]
     },
     "metadata": {},
     "output_type": "display_data"
    },
    {
     "name": "stdout",
     "output_type": "stream",
     "text": [
      "Table. Fluxes. CRD\n"
     ]
    },
    {
     "data": {
      "text/html": [
       "<div>\n",
       "<style>\n",
       "    .dataframe thead tr:only-child th {\n",
       "        text-align: right;\n",
       "    }\n",
       "\n",
       "    .dataframe thead th {\n",
       "        text-align: left;\n",
       "    }\n",
       "\n",
       "    .dataframe tbody tr th {\n",
       "        vertical-align: top;\n",
       "    }\n",
       "</style>\n",
       "<table border=\"1\" class=\"dataframe\">\n",
       "  <thead>\n",
       "    <tr style=\"text-align: right;\">\n",
       "      <th></th>\n",
       "      <th></th>\n",
       "      <th>flug</th>\n",
       "      <th>fldg</th>\n",
       "      <th>fnetg</th>\n",
       "    </tr>\n",
       "    <tr>\n",
       "      <th>pressure</th>\n",
       "      <th>level</th>\n",
       "      <th></th>\n",
       "      <th></th>\n",
       "      <th></th>\n",
       "    </tr>\n",
       "  </thead>\n",
       "  <tbody>\n",
       "    <tr>\n",
       "      <th>1.000000e-08</th>\n",
       "      <th>1</th>\n",
       "      <td>-37.130763</td>\n",
       "      <td>0.000002</td>\n",
       "      <td>-37.130760</td>\n",
       "    </tr>\n",
       "    <tr>\n",
       "      <th>1.068500e+00</th>\n",
       "      <th>24</th>\n",
       "      <td>-37.129896</td>\n",
       "      <td>0.004209</td>\n",
       "      <td>-37.125688</td>\n",
       "    </tr>\n",
       "    <tr>\n",
       "      <th>1.013000e+03</th>\n",
       "      <th>76</th>\n",
       "      <td>-38.491730</td>\n",
       "      <td>2.696774</td>\n",
       "      <td>-35.794956</td>\n",
       "    </tr>\n",
       "  </tbody>\n",
       "</table>\n",
       "</div>"
      ],
      "text/plain": [
       "                         flug      fldg      fnetg\n",
       "pressure     level                                \n",
       "1.000000e-08 1     -37.130763  0.000002 -37.130760\n",
       "1.068500e+00 24    -37.129896  0.004209 -37.125688\n",
       "1.013000e+03 76    -38.491730  2.696774 -35.794956"
      ]
     },
     "metadata": {},
     "output_type": "display_data"
    },
    {
     "name": "stdout",
     "output_type": "stream",
     "text": [
      "Table. Fluxes. CLIRAD\n"
     ]
    },
    {
     "data": {
      "text/html": [
       "<div>\n",
       "<style>\n",
       "    .dataframe thead tr:only-child th {\n",
       "        text-align: right;\n",
       "    }\n",
       "\n",
       "    .dataframe thead th {\n",
       "        text-align: left;\n",
       "    }\n",
       "\n",
       "    .dataframe tbody tr th {\n",
       "        vertical-align: top;\n",
       "    }\n",
       "</style>\n",
       "<table border=\"1\" class=\"dataframe\">\n",
       "  <thead>\n",
       "    <tr style=\"text-align: right;\">\n",
       "      <th></th>\n",
       "      <th></th>\n",
       "      <th>flug</th>\n",
       "      <th>fldg</th>\n",
       "      <th>fnetg</th>\n",
       "    </tr>\n",
       "    <tr>\n",
       "      <th>pressure</th>\n",
       "      <th>level</th>\n",
       "      <th></th>\n",
       "      <th></th>\n",
       "      <th></th>\n",
       "    </tr>\n",
       "  </thead>\n",
       "  <tbody>\n",
       "    <tr>\n",
       "      <th>0.0000</th>\n",
       "      <th>1</th>\n",
       "      <td>-3.585590e-03</td>\n",
       "      <td>0.000000</td>\n",
       "      <td>-0.003586</td>\n",
       "    </tr>\n",
       "    <tr>\n",
       "      <th>1.0685</th>\n",
       "      <th>24</th>\n",
       "      <td>-4.073800e-03</td>\n",
       "      <td>0.000207</td>\n",
       "      <td>-0.003867</td>\n",
       "    </tr>\n",
       "    <tr>\n",
       "      <th>1013.0000</th>\n",
       "      <th>76</th>\n",
       "      <td>4.000000e-08</td>\n",
       "      <td>-0.099567</td>\n",
       "      <td>-0.099566</td>\n",
       "    </tr>\n",
       "  </tbody>\n",
       "</table>\n",
       "</div>"
      ],
      "text/plain": [
       "                         flug      fldg     fnetg\n",
       "pressure  level                                  \n",
       "0.0000    1     -3.585590e-03  0.000000 -0.003586\n",
       "1.0685    24    -4.073800e-03  0.000207 -0.003867\n",
       "1013.0000 76     4.000000e-08 -0.099567 -0.099566"
      ]
     },
     "metadata": {},
     "output_type": "display_data"
    },
    {
     "name": "stdout",
     "output_type": "stream",
     "text": [
      "Table. Fluxes. (CRD) - (WGT igg=10 wgt_flux=1)\n"
     ]
    },
    {
     "data": {
      "text/html": [
       "<div>\n",
       "<style>\n",
       "    .dataframe thead tr:only-child th {\n",
       "        text-align: right;\n",
       "    }\n",
       "\n",
       "    .dataframe thead th {\n",
       "        text-align: left;\n",
       "    }\n",
       "\n",
       "    .dataframe tbody tr th {\n",
       "        vertical-align: top;\n",
       "    }\n",
       "</style>\n",
       "<table border=\"1\" class=\"dataframe\">\n",
       "  <thead>\n",
       "    <tr style=\"text-align: right;\">\n",
       "      <th></th>\n",
       "      <th></th>\n",
       "      <th>flug</th>\n",
       "      <th>fldg</th>\n",
       "      <th>fnetg</th>\n",
       "    </tr>\n",
       "    <tr>\n",
       "      <th>pressure</th>\n",
       "      <th>level</th>\n",
       "      <th></th>\n",
       "      <th></th>\n",
       "      <th></th>\n",
       "    </tr>\n",
       "  </thead>\n",
       "  <tbody>\n",
       "    <tr>\n",
       "      <th>0.0000</th>\n",
       "      <th>1</th>\n",
       "      <td>-0.050521</td>\n",
       "      <td>0.000002</td>\n",
       "      <td>-0.050518</td>\n",
       "    </tr>\n",
       "    <tr>\n",
       "      <th>1.0685</th>\n",
       "      <th>24</th>\n",
       "      <td>-0.050491</td>\n",
       "      <td>-0.000408</td>\n",
       "      <td>-0.050900</td>\n",
       "    </tr>\n",
       "    <tr>\n",
       "      <th>1013.0000</th>\n",
       "      <th>76</th>\n",
       "      <td>0.000004</td>\n",
       "      <td>-0.101959</td>\n",
       "      <td>-0.101954</td>\n",
       "    </tr>\n",
       "  </tbody>\n",
       "</table>\n",
       "</div>"
      ],
      "text/plain": [
       "                     flug      fldg     fnetg\n",
       "pressure  level                              \n",
       "0.0000    1     -0.050521  0.000002 -0.050518\n",
       "1.0685    24    -0.050491 -0.000408 -0.050900\n",
       "1013.0000 76     0.000004 -0.101959 -0.101954"
      ]
     },
     "metadata": {},
     "output_type": "display_data"
    },
    {
     "name": "stdout",
     "output_type": "stream",
     "text": [
      "Table. Fluxes. (CLIRAD) - (WGT igg=10 wgt_flux=1)\n"
     ]
    },
    {
     "data": {
      "text/html": [
       "<a id=\"Best-fit_Parameters\"></a>"
      ],
      "text/plain": [
       "<IPython.core.display.HTML object>"
      ]
     },
     "metadata": {},
     "output_type": "display_data"
    },
    {
     "data": {
      "text/markdown": [
       "# Best-fit Parameters"
      ],
      "text/plain": [
       "<IPython.core.display.Markdown object>"
      ]
     },
     "metadata": {},
     "output_type": "display_data"
    },
    {
     "name": "stdout",
     "output_type": "stream",
     "text": [
      "Best-fit values for each (gas, band)\n",
      "------------------------------------\n",
      "o n2o band3a\n",
      "  atmpro = mls\n",
      "  band = 3a\n",
      "  commitnumber = 2bd1f75\n",
      "  conc = 3.2e-07\n",
      "  dv = 0.01\n",
      "  klin = 2.22e-20\n",
      "  molecule = n2o\n",
      "  ng_adju = [0, 0]\n",
      "  ng_refs = [1, 2]\n",
      "  nv = 100\n",
      "  option_compute_btable = 0\n",
      "  option_compute_ktable = 1\n",
      "  option_wgt_flux = 1\n",
      "  option_wgt_k = 1\n",
      "  ref_pts = [(1, 250), (500, 250)]\n",
      "  tsfc = 294\n",
      "  vmax = 620\n",
      "  vmin = 540\n",
      "  w_diffuse = [(1.8,), (1.66, 1.8)]\n",
      "  wgt = [(0.9,), (0.5, 0.95)]\n"
     ]
    }
   ],
   "source": [
    "script()"
   ]
  },
  {
   "cell_type": "code",
   "execution_count": 13,
   "metadata": {
    "collapsed": true
   },
   "outputs": [
    {
     "data": {
      "text/html": [
       "<script>\n",
       "code_show=true; \n",
       "function code_toggle() {\n",
       " if (code_show){\n",
       " $('div.input').hide();\n",
       " } else {\n",
       " $('div.input').show();\n",
       " }\n",
       " code_show = !code_show\n",
       "} \n",
       "$( document ).ready(code_toggle);\n",
       "</script>\n",
       "<form action=\"javascript:code_toggle()\"><input type=\"submit\" value=\"Click here to toggle on/off the raw code.\"></form>"
      ],
      "text/plain": [
       "<IPython.core.display.HTML object>"
      ]
     },
     "execution_count": 13,
     "metadata": {},
     "output_type": "execute_result"
    }
   ],
   "source": [
    "display.HTML('''<script>\n",
    "code_show=true; \n",
    "function code_toggle() {\n",
    " if (code_show){\n",
    " $('div.input').hide();\n",
    " } else {\n",
    " $('div.input').show();\n",
    " }\n",
    " code_show = !code_show\n",
    "} \n",
    "$( document ).ready(code_toggle);\n",
    "</script>\n",
    "<form action=\"javascript:code_toggle()\"><input type=\"submit\" value=\"Click here to toggle on/off the raw code.\"></form>''')"
   ]
  }
 ],
 "metadata": {
  "kernelspec": {
   "display_name": "Python 3",
   "language": "python",
   "name": "python3"
  },
  "language_info": {
   "codemirror_mode": {
    "name": "ipython",
    "version": 3
   },
   "file_extension": ".py",
   "mimetype": "text/x-python",
   "name": "python",
   "nbconvert_exporter": "python",
   "pygments_lexer": "ipython3",
   "version": "3.6.1"
  }
 },
 "nbformat": 4,
 "nbformat_minor": 2
}
