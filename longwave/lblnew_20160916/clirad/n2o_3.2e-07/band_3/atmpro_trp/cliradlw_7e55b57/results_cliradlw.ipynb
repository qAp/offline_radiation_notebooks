{
 "cells": [
  {
   "cell_type": "code",
   "execution_count": 1,
   "metadata": {
    "collapsed": true
   },
   "outputs": [],
   "source": [
    "%matplotlib inline\n",
    "import os\n",
    "import re\n",
    "import io\n",
    "import itertools\n",
    "import pprint\n",
    "\n",
    "from bokeh.io import output_notebook, show\n",
    "from bokeh.layouts import gridplot\n",
    "from bokeh.plotting import figure\n",
    "from bokeh.models import Range1d, Legend\n",
    "from bokeh.palettes import all_palettes\n",
    "\n",
    "import matplotlib\n",
    "import matplotlib.pyplot as plt\n",
    "import numpy as np\n",
    "import pandas as pd\n",
    "import xarray as xr\n",
    "\n",
    "import climatools.lblnew.bestfit_params as bestfits\n",
    "from climatools.lblnew import setup_bestfit, setup_overlap\n",
    "import climatools.lblnew.pipeline as pipe_lblnew\n",
    "import climatools.cliradlw.setup as setup_cliradlw\n",
    "import climatools.cliradlw.pipeline as pipe_cliradlw\n",
    "\n",
    "import climatools.html.html as climahtml\n",
    "from climatools.lblnew.dataio import *\n",
    "from climatools.plot.plot import *\n",
    "\n",
    "\n",
    "import IPython.display as display"
   ]
  },
  {
   "cell_type": "code",
   "execution_count": 2,
   "metadata": {
    "collapsed": true
   },
   "outputs": [],
   "source": [
    "%run param.py"
   ]
  },
  {
   "cell_type": "code",
   "execution_count": 3,
   "metadata": {
    "collapsed": true
   },
   "outputs": [
    {
     "name": "stdout",
     "output_type": "stream",
     "text": [
      "The history saving thread hit an unexpected error (OperationalError('database is locked',)).History will not be written to the database.\n"
     ]
    }
   ],
   "source": [
    "def load_output_file(path_csv):\n",
    "    '''\n",
    "    Load lblnew output .csv file to xarray.Dataset\n",
    "    \n",
    "    Parameters\n",
    "    ----------\n",
    "    path_csv: str\n",
    "              Path to the .csv file to be loaded.\n",
    "    ds: xarray.Dataset\n",
    "        Data in the input file in the form of an xarray.Dataset.\n",
    "    '''\n",
    "    toindex = ['band', 'pressure', 'igg', 'g']    \n",
    "    df = pd.read_csv(path_csv, sep=r'\\s+')\n",
    "    df = df.set_index([i for i in toindex if i in df.columns])\n",
    "    df = df.rename(columns={'sfu': 'flug',\n",
    "                            'sfd': 'fldg',\n",
    "                            'fnet': 'fnetg',\n",
    "                            'coolr': 'coolrg'})\n",
    "    ds = xr.Dataset.from_dataframe(df)\n",
    "\n",
    "    for l in ('level', 'layer'):\n",
    "        if l in ds.data_vars:\n",
    "            if len(ds[l].dims) > 1:\n",
    "                surface = {d: 0 for d in ds.dims if d != 'pressure'}\n",
    "                coord_level = ds[l][surface]\n",
    "                ds.coords[l] = ('pressure', coord_level)\n",
    "            else:\n",
    "                ds.coords[l] = ('pressure', ds[l])\n",
    "    \n",
    "    return ds"
   ]
  },
  {
   "cell_type": "code",
   "execution_count": 4,
   "metadata": {
    "collapsed": true
   },
   "outputs": [],
   "source": [
    "def lblnew_setup(param=None):\n",
    "    if 'ng_refs' in param:\n",
    "        return {'setup': setup_bestfit,\n",
    "                'fname_flux_crd': 'output_flux.dat',\n",
    "                'fname_cool_crd': 'output_coolr.dat',\n",
    "                'fname_flux_wgt': 'output_wfluxg.dat',\n",
    "                'fname_cool_wgt': 'output_wcoolrg.dat'}\n",
    "    else:\n",
    "        return {'setup': setup_overlap,\n",
    "                'fname_flux_crd': 'output_flux.dat',\n",
    "                'fname_cool_crd': 'output_coolr.dat',\n",
    "                'fname_flux_wgt': 'output_wflux.dat',\n",
    "                'fname_cool_wgt': 'output_wcoolr.dat'}\n",
    "\n",
    "    \n",
    "def load_lblnew_data(param):\n",
    "    \n",
    "    fname_dsname = [('fname_flux_crd', 'ds_flux_crd'),\n",
    "                    ('fname_cool_crd', 'ds_cool_crd'),\n",
    "                    ('fname_flux_wgt', 'ds_flux_wgt'),\n",
    "                    ('fname_cool_wgt', 'ds_cool_wgt')]\n",
    "    \n",
    "    d = lblnew_setup(param)\n",
    "    dir_fortran = pipe_lblnew.get_dir_case(param, setup=d['setup'])\n",
    "    \n",
    "    data_dict = {}\n",
    "    for fname, dsname in fname_dsname:\n",
    "        fpath = os.path.join(dir_fortran, d[fname])\n",
    "        data_dict[dsname] = load_output_file(fpath)\n",
    "    return data_dict\n",
    "    \n",
    "\n",
    "    \n",
    "    "
   ]
  },
  {
   "cell_type": "code",
   "execution_count": 5,
   "metadata": {
    "collapsed": true
   },
   "outputs": [],
   "source": [
    "d = load_lblnew_data(PARAM_LBLNEW)\n",
    "\n",
    "DS_FLUX_CRD = d['ds_flux_crd']\n",
    "DS_COOL_CRD = d['ds_cool_crd']\n",
    "DS_FLUX_WGT = d['ds_flux_wgt']\n",
    "DS_COOL_WGT = d['ds_cool_wgt']"
   ]
  },
  {
   "cell_type": "code",
   "execution_count": 6,
   "metadata": {
    "collapsed": true
   },
   "outputs": [],
   "source": [
    "DIR_FORTRAN = pipe_cliradlw.get_fortran_dir(PARAM, \n",
    "                                            setup=setup_cliradlw)\n",
    "\n",
    "PATH_FLUX = os.path.join(DIR_FORTRAN, 'output_flux.dat')\n",
    "PATH_COOL = os.path.join(DIR_FORTRAN, 'output_coolr.dat')\n",
    "\n",
    "DS_FLUX = load_output_file(PATH_FLUX)\n",
    "DS_COOL = load_output_file(PATH_COOL)"
   ]
  },
  {
   "cell_type": "code",
   "execution_count": 7,
   "metadata": {
    "collapsed": true
   },
   "outputs": [
    {
     "data": {
      "text/html": [
       "\n",
       "    <div class=\"bk-root\">\n",
       "        <a href=\"https://bokeh.pydata.org\" target=\"_blank\" class=\"bk-logo bk-logo-small bk-logo-notebook\"></a>\n",
       "        <span id=\"c38606c2-db5a-47bb-8c35-9657d4e2f1b4\">Loading BokehJS ...</span>\n",
       "    </div>"
      ]
     },
     "metadata": {},
     "output_type": "display_data"
    },
    {
     "data": {
      "application/javascript": [
       "\n",
       "(function(root) {\n",
       "  function now() {\n",
       "    return new Date();\n",
       "  }\n",
       "\n",
       "  var force = true;\n",
       "\n",
       "  if (typeof (root._bokeh_onload_callbacks) === \"undefined\" || force === true) {\n",
       "    root._bokeh_onload_callbacks = [];\n",
       "    root._bokeh_is_loading = undefined;\n",
       "  }\n",
       "\n",
       "  var JS_MIME_TYPE = 'application/javascript';\n",
       "  var HTML_MIME_TYPE = 'text/html';\n",
       "  var EXEC_MIME_TYPE = 'application/vnd.bokehjs_exec.v0+json';\n",
       "  var CLASS_NAME = 'output_bokeh rendered_html';\n",
       "\n",
       "  /**\n",
       "   * Render data to the DOM node\n",
       "   */\n",
       "  function render(props, node) {\n",
       "    var script = document.createElement(\"script\");\n",
       "    node.appendChild(script);\n",
       "  }\n",
       "\n",
       "  /**\n",
       "   * Handle when an output is cleared or removed\n",
       "   */\n",
       "  function handleClearOutput(event, handle) {\n",
       "    var cell = handle.cell;\n",
       "\n",
       "    var id = cell.output_area._bokeh_element_id;\n",
       "    var server_id = cell.output_area._bokeh_server_id;\n",
       "    // Clean up Bokeh references\n",
       "    if (id !== undefined) {\n",
       "      Bokeh.index[id].model.document.clear();\n",
       "      delete Bokeh.index[id];\n",
       "    }\n",
       "\n",
       "    if (server_id !== undefined) {\n",
       "      // Clean up Bokeh references\n",
       "      var cmd = \"from bokeh.io.state import curstate; print(curstate().uuid_to_server['\" + server_id + \"'].get_sessions()[0].document.roots[0]._id)\";\n",
       "      cell.notebook.kernel.execute(cmd, {\n",
       "        iopub: {\n",
       "          output: function(msg) {\n",
       "            var element_id = msg.content.text.trim();\n",
       "            Bokeh.index[element_id].model.document.clear();\n",
       "            delete Bokeh.index[element_id];\n",
       "          }\n",
       "        }\n",
       "      });\n",
       "      // Destroy server and session\n",
       "      var cmd = \"import bokeh.io.notebook as ion; ion.destroy_server('\" + server_id + \"')\";\n",
       "      cell.notebook.kernel.execute(cmd);\n",
       "    }\n",
       "  }\n",
       "\n",
       "  /**\n",
       "   * Handle when a new output is added\n",
       "   */\n",
       "  function handleAddOutput(event, handle) {\n",
       "    var output_area = handle.output_area;\n",
       "    var output = handle.output;\n",
       "\n",
       "    // limit handleAddOutput to display_data with EXEC_MIME_TYPE content only\n",
       "    if ((output.output_type != \"display_data\") || (!output.data.hasOwnProperty(EXEC_MIME_TYPE))) {\n",
       "      return\n",
       "    }\n",
       "\n",
       "    var toinsert = output_area.element.find(\".\" + CLASS_NAME.split(' ')[0]);\n",
       "\n",
       "    if (output.metadata[EXEC_MIME_TYPE][\"id\"] !== undefined) {\n",
       "      toinsert[0].firstChild.textContent = output.data[JS_MIME_TYPE];\n",
       "      // store reference to embed id on output_area\n",
       "      output_area._bokeh_element_id = output.metadata[EXEC_MIME_TYPE][\"id\"];\n",
       "    }\n",
       "    if (output.metadata[EXEC_MIME_TYPE][\"server_id\"] !== undefined) {\n",
       "      var bk_div = document.createElement(\"div\");\n",
       "      bk_div.innerHTML = output.data[HTML_MIME_TYPE];\n",
       "      var script_attrs = bk_div.children[0].attributes;\n",
       "      for (var i = 0; i < script_attrs.length; i++) {\n",
       "        toinsert[0].firstChild.setAttribute(script_attrs[i].name, script_attrs[i].value);\n",
       "      }\n",
       "      // store reference to server id on output_area\n",
       "      output_area._bokeh_server_id = output.metadata[EXEC_MIME_TYPE][\"server_id\"];\n",
       "    }\n",
       "  }\n",
       "\n",
       "  function register_renderer(events, OutputArea) {\n",
       "\n",
       "    function append_mime(data, metadata, element) {\n",
       "      // create a DOM node to render to\n",
       "      var toinsert = this.create_output_subarea(\n",
       "        metadata,\n",
       "        CLASS_NAME,\n",
       "        EXEC_MIME_TYPE\n",
       "      );\n",
       "      this.keyboard_manager.register_events(toinsert);\n",
       "      // Render to node\n",
       "      var props = {data: data, metadata: metadata[EXEC_MIME_TYPE]};\n",
       "      render(props, toinsert[0]);\n",
       "      element.append(toinsert);\n",
       "      return toinsert\n",
       "    }\n",
       "\n",
       "    /* Handle when an output is cleared or removed */\n",
       "    events.on('clear_output.CodeCell', handleClearOutput);\n",
       "    events.on('delete.Cell', handleClearOutput);\n",
       "\n",
       "    /* Handle when a new output is added */\n",
       "    events.on('output_added.OutputArea', handleAddOutput);\n",
       "\n",
       "    /**\n",
       "     * Register the mime type and append_mime function with output_area\n",
       "     */\n",
       "    OutputArea.prototype.register_mime_type(EXEC_MIME_TYPE, append_mime, {\n",
       "      /* Is output safe? */\n",
       "      safe: true,\n",
       "      /* Index of renderer in `output_area.display_order` */\n",
       "      index: 0\n",
       "    });\n",
       "  }\n",
       "\n",
       "  // register the mime type if in Jupyter Notebook environment and previously unregistered\n",
       "  if (root.Jupyter !== undefined) {\n",
       "    var events = require('base/js/events');\n",
       "    var OutputArea = require('notebook/js/outputarea').OutputArea;\n",
       "\n",
       "    if (OutputArea.prototype.mime_types().indexOf(EXEC_MIME_TYPE) == -1) {\n",
       "      register_renderer(events, OutputArea);\n",
       "    }\n",
       "  }\n",
       "\n",
       "  \n",
       "  if (typeof (root._bokeh_timeout) === \"undefined\" || force === true) {\n",
       "    root._bokeh_timeout = Date.now() + 5000;\n",
       "    root._bokeh_failed_load = false;\n",
       "  }\n",
       "\n",
       "  var NB_LOAD_WARNING = {'data': {'text/html':\n",
       "     \"<div style='background-color: #fdd'>\\n\"+\n",
       "     \"<p>\\n\"+\n",
       "     \"BokehJS does not appear to have successfully loaded. If loading BokehJS from CDN, this \\n\"+\n",
       "     \"may be due to a slow or bad network connection. Possible fixes:\\n\"+\n",
       "     \"</p>\\n\"+\n",
       "     \"<ul>\\n\"+\n",
       "     \"<li>re-rerun `output_notebook()` to attempt to load from CDN again, or</li>\\n\"+\n",
       "     \"<li>use INLINE resources instead, as so:</li>\\n\"+\n",
       "     \"</ul>\\n\"+\n",
       "     \"<code>\\n\"+\n",
       "     \"from bokeh.resources import INLINE\\n\"+\n",
       "     \"output_notebook(resources=INLINE)\\n\"+\n",
       "     \"</code>\\n\"+\n",
       "     \"</div>\"}};\n",
       "\n",
       "  function display_loaded() {\n",
       "    var el = document.getElementById(\"c38606c2-db5a-47bb-8c35-9657d4e2f1b4\");\n",
       "    if (el != null) {\n",
       "      el.textContent = \"BokehJS is loading...\";\n",
       "    }\n",
       "    if (root.Bokeh !== undefined) {\n",
       "      if (el != null) {\n",
       "        el.textContent = \"BokehJS \" + root.Bokeh.version + \" successfully loaded.\";\n",
       "      }\n",
       "    } else if (Date.now() < root._bokeh_timeout) {\n",
       "      setTimeout(display_loaded, 100)\n",
       "    }\n",
       "  }\n",
       "\n",
       "\n",
       "  function run_callbacks() {\n",
       "    try {\n",
       "      root._bokeh_onload_callbacks.forEach(function(callback) { callback() });\n",
       "    }\n",
       "    finally {\n",
       "      delete root._bokeh_onload_callbacks\n",
       "    }\n",
       "    console.info(\"Bokeh: all callbacks have finished\");\n",
       "  }\n",
       "\n",
       "  function load_libs(js_urls, callback) {\n",
       "    root._bokeh_onload_callbacks.push(callback);\n",
       "    if (root._bokeh_is_loading > 0) {\n",
       "      console.log(\"Bokeh: BokehJS is being loaded, scheduling callback at\", now());\n",
       "      return null;\n",
       "    }\n",
       "    if (js_urls == null || js_urls.length === 0) {\n",
       "      run_callbacks();\n",
       "      return null;\n",
       "    }\n",
       "    console.log(\"Bokeh: BokehJS not loaded, scheduling load and callback at\", now());\n",
       "    root._bokeh_is_loading = js_urls.length;\n",
       "    for (var i = 0; i < js_urls.length; i++) {\n",
       "      var url = js_urls[i];\n",
       "      var s = document.createElement('script');\n",
       "      s.src = url;\n",
       "      s.async = false;\n",
       "      s.onreadystatechange = s.onload = function() {\n",
       "        root._bokeh_is_loading--;\n",
       "        if (root._bokeh_is_loading === 0) {\n",
       "          console.log(\"Bokeh: all BokehJS libraries loaded\");\n",
       "          run_callbacks()\n",
       "        }\n",
       "      };\n",
       "      s.onerror = function() {\n",
       "        console.warn(\"failed to load library \" + url);\n",
       "      };\n",
       "      console.log(\"Bokeh: injecting script tag for BokehJS library: \", url);\n",
       "      document.getElementsByTagName(\"head\")[0].appendChild(s);\n",
       "    }\n",
       "  };var element = document.getElementById(\"c38606c2-db5a-47bb-8c35-9657d4e2f1b4\");\n",
       "  if (element == null) {\n",
       "    console.log(\"Bokeh: ERROR: autoload.js configured with elementid 'c38606c2-db5a-47bb-8c35-9657d4e2f1b4' but no matching script tag was found. \")\n",
       "    return false;\n",
       "  }\n",
       "\n",
       "  var js_urls = [\"https://cdn.pydata.org/bokeh/release/bokeh-0.12.14.min.js\", \"https://cdn.pydata.org/bokeh/release/bokeh-widgets-0.12.14.min.js\", \"https://cdn.pydata.org/bokeh/release/bokeh-tables-0.12.14.min.js\", \"https://cdn.pydata.org/bokeh/release/bokeh-gl-0.12.14.min.js\"];\n",
       "\n",
       "  var inline_js = [\n",
       "    function(Bokeh) {\n",
       "      Bokeh.set_log_level(\"info\");\n",
       "    },\n",
       "    \n",
       "    function(Bokeh) {\n",
       "      \n",
       "    },\n",
       "    function(Bokeh) {\n",
       "      console.log(\"Bokeh: injecting CSS: https://cdn.pydata.org/bokeh/release/bokeh-0.12.14.min.css\");\n",
       "      Bokeh.embed.inject_css(\"https://cdn.pydata.org/bokeh/release/bokeh-0.12.14.min.css\");\n",
       "      console.log(\"Bokeh: injecting CSS: https://cdn.pydata.org/bokeh/release/bokeh-widgets-0.12.14.min.css\");\n",
       "      Bokeh.embed.inject_css(\"https://cdn.pydata.org/bokeh/release/bokeh-widgets-0.12.14.min.css\");\n",
       "      console.log(\"Bokeh: injecting CSS: https://cdn.pydata.org/bokeh/release/bokeh-tables-0.12.14.min.css\");\n",
       "      Bokeh.embed.inject_css(\"https://cdn.pydata.org/bokeh/release/bokeh-tables-0.12.14.min.css\");\n",
       "    }\n",
       "  ];\n",
       "\n",
       "  function run_inline_js() {\n",
       "    \n",
       "    if ((root.Bokeh !== undefined) || (force === true)) {\n",
       "      for (var i = 0; i < inline_js.length; i++) {\n",
       "        inline_js[i].call(root, root.Bokeh);\n",
       "      }if (force === true) {\n",
       "        display_loaded();\n",
       "      }} else if (Date.now() < root._bokeh_timeout) {\n",
       "      setTimeout(run_inline_js, 100);\n",
       "    } else if (!root._bokeh_failed_load) {\n",
       "      console.log(\"Bokeh: BokehJS failed to load within specified timeout.\");\n",
       "      root._bokeh_failed_load = true;\n",
       "    } else if (force !== true) {\n",
       "      var cell = $(document.getElementById(\"c38606c2-db5a-47bb-8c35-9657d4e2f1b4\")).parents('.cell').data().cell;\n",
       "      cell.output_area.append_execute_result(NB_LOAD_WARNING)\n",
       "    }\n",
       "\n",
       "  }\n",
       "\n",
       "  if (root._bokeh_is_loading === 0) {\n",
       "    console.log(\"Bokeh: BokehJS loaded, going straight to plotting\");\n",
       "    run_inline_js();\n",
       "  } else {\n",
       "    load_libs(js_urls, function() {\n",
       "      console.log(\"Bokeh: BokehJS plotting callback run at\", now());\n",
       "      run_inline_js();\n",
       "    });\n",
       "  }\n",
       "}(window));"
      ],
      "application/vnd.bokehjs_load.v0+json": "\n(function(root) {\n  function now() {\n    return new Date();\n  }\n\n  var force = true;\n\n  if (typeof (root._bokeh_onload_callbacks) === \"undefined\" || force === true) {\n    root._bokeh_onload_callbacks = [];\n    root._bokeh_is_loading = undefined;\n  }\n\n  \n\n  \n  if (typeof (root._bokeh_timeout) === \"undefined\" || force === true) {\n    root._bokeh_timeout = Date.now() + 5000;\n    root._bokeh_failed_load = false;\n  }\n\n  var NB_LOAD_WARNING = {'data': {'text/html':\n     \"<div style='background-color: #fdd'>\\n\"+\n     \"<p>\\n\"+\n     \"BokehJS does not appear to have successfully loaded. If loading BokehJS from CDN, this \\n\"+\n     \"may be due to a slow or bad network connection. Possible fixes:\\n\"+\n     \"</p>\\n\"+\n     \"<ul>\\n\"+\n     \"<li>re-rerun `output_notebook()` to attempt to load from CDN again, or</li>\\n\"+\n     \"<li>use INLINE resources instead, as so:</li>\\n\"+\n     \"</ul>\\n\"+\n     \"<code>\\n\"+\n     \"from bokeh.resources import INLINE\\n\"+\n     \"output_notebook(resources=INLINE)\\n\"+\n     \"</code>\\n\"+\n     \"</div>\"}};\n\n  function display_loaded() {\n    var el = document.getElementById(\"c38606c2-db5a-47bb-8c35-9657d4e2f1b4\");\n    if (el != null) {\n      el.textContent = \"BokehJS is loading...\";\n    }\n    if (root.Bokeh !== undefined) {\n      if (el != null) {\n        el.textContent = \"BokehJS \" + root.Bokeh.version + \" successfully loaded.\";\n      }\n    } else if (Date.now() < root._bokeh_timeout) {\n      setTimeout(display_loaded, 100)\n    }\n  }\n\n\n  function run_callbacks() {\n    try {\n      root._bokeh_onload_callbacks.forEach(function(callback) { callback() });\n    }\n    finally {\n      delete root._bokeh_onload_callbacks\n    }\n    console.info(\"Bokeh: all callbacks have finished\");\n  }\n\n  function load_libs(js_urls, callback) {\n    root._bokeh_onload_callbacks.push(callback);\n    if (root._bokeh_is_loading > 0) {\n      console.log(\"Bokeh: BokehJS is being loaded, scheduling callback at\", now());\n      return null;\n    }\n    if (js_urls == null || js_urls.length === 0) {\n      run_callbacks();\n      return null;\n    }\n    console.log(\"Bokeh: BokehJS not loaded, scheduling load and callback at\", now());\n    root._bokeh_is_loading = js_urls.length;\n    for (var i = 0; i < js_urls.length; i++) {\n      var url = js_urls[i];\n      var s = document.createElement('script');\n      s.src = url;\n      s.async = false;\n      s.onreadystatechange = s.onload = function() {\n        root._bokeh_is_loading--;\n        if (root._bokeh_is_loading === 0) {\n          console.log(\"Bokeh: all BokehJS libraries loaded\");\n          run_callbacks()\n        }\n      };\n      s.onerror = function() {\n        console.warn(\"failed to load library \" + url);\n      };\n      console.log(\"Bokeh: injecting script tag for BokehJS library: \", url);\n      document.getElementsByTagName(\"head\")[0].appendChild(s);\n    }\n  };var element = document.getElementById(\"c38606c2-db5a-47bb-8c35-9657d4e2f1b4\");\n  if (element == null) {\n    console.log(\"Bokeh: ERROR: autoload.js configured with elementid 'c38606c2-db5a-47bb-8c35-9657d4e2f1b4' but no matching script tag was found. \")\n    return false;\n  }\n\n  var js_urls = [\"https://cdn.pydata.org/bokeh/release/bokeh-0.12.14.min.js\", \"https://cdn.pydata.org/bokeh/release/bokeh-widgets-0.12.14.min.js\", \"https://cdn.pydata.org/bokeh/release/bokeh-tables-0.12.14.min.js\", \"https://cdn.pydata.org/bokeh/release/bokeh-gl-0.12.14.min.js\"];\n\n  var inline_js = [\n    function(Bokeh) {\n      Bokeh.set_log_level(\"info\");\n    },\n    \n    function(Bokeh) {\n      \n    },\n    function(Bokeh) {\n      console.log(\"Bokeh: injecting CSS: https://cdn.pydata.org/bokeh/release/bokeh-0.12.14.min.css\");\n      Bokeh.embed.inject_css(\"https://cdn.pydata.org/bokeh/release/bokeh-0.12.14.min.css\");\n      console.log(\"Bokeh: injecting CSS: https://cdn.pydata.org/bokeh/release/bokeh-widgets-0.12.14.min.css\");\n      Bokeh.embed.inject_css(\"https://cdn.pydata.org/bokeh/release/bokeh-widgets-0.12.14.min.css\");\n      console.log(\"Bokeh: injecting CSS: https://cdn.pydata.org/bokeh/release/bokeh-tables-0.12.14.min.css\");\n      Bokeh.embed.inject_css(\"https://cdn.pydata.org/bokeh/release/bokeh-tables-0.12.14.min.css\");\n    }\n  ];\n\n  function run_inline_js() {\n    \n    if ((root.Bokeh !== undefined) || (force === true)) {\n      for (var i = 0; i < inline_js.length; i++) {\n        inline_js[i].call(root, root.Bokeh);\n      }if (force === true) {\n        display_loaded();\n      }} else if (Date.now() < root._bokeh_timeout) {\n      setTimeout(run_inline_js, 100);\n    } else if (!root._bokeh_failed_load) {\n      console.log(\"Bokeh: BokehJS failed to load within specified timeout.\");\n      root._bokeh_failed_load = true;\n    } else if (force !== true) {\n      var cell = $(document.getElementById(\"c38606c2-db5a-47bb-8c35-9657d4e2f1b4\")).parents('.cell').data().cell;\n      cell.output_area.append_execute_result(NB_LOAD_WARNING)\n    }\n\n  }\n\n  if (root._bokeh_is_loading === 0) {\n    console.log(\"Bokeh: BokehJS loaded, going straight to plotting\");\n    run_inline_js();\n  } else {\n    load_libs(js_urls, function() {\n      console.log(\"Bokeh: BokehJS plotting callback run at\", now());\n      run_inline_js();\n    });\n  }\n}(window));"
     },
     "metadata": {},
     "output_type": "display_data"
    }
   ],
   "source": [
    "output_notebook()"
   ]
  },
  {
   "cell_type": "code",
   "execution_count": 8,
   "metadata": {
    "collapsed": true
   },
   "outputs": [],
   "source": [
    "def fmt_cool(ds_in):\n",
    "    ds = ds_in.copy(deep=True)\n",
    "    if 'igg' in ds.dims:\n",
    "        ds = ds.sel(igg=1)\n",
    "\n",
    "    if 'g' in ds.dims:\n",
    "        ds = ds.sum('g')\n",
    "            \n",
    "    if 'band' in ds.dims:\n",
    "        try:\n",
    "            ds = ds.squeeze('band')\n",
    "        except ValueError:\n",
    "            ds = ds.sum('band')\n",
    "                \n",
    "    return ds['coolrg']\n",
    "\n",
    "\n",
    "def pltdata_cooling_1(ds_cool=None,\n",
    "                      ds_cool_crd=None, ds_cool_wgt=None):\n",
    "    \n",
    "\n",
    "\n",
    "    colors = all_palettes['Set1'][4]\n",
    "    data = [{'label': 'CLIRAD `coolr_bands`',\n",
    "             'srs': fmt_cool(ds_cool),\n",
    "             'line_dash': 'dashed', 'line_width': 5,\n",
    "             'color': colors[0], 'alpha': .6},\n",
    "            {'label': 'CRD',\n",
    "             'srs': fmt_cool(ds_cool_crd),\n",
    "             'line_dash': 'solid', 'line_width': 1.5,\n",
    "             'marker': 'circle', 'marker_size': 5,\n",
    "             'color': colors[2], 'alpha': 1,},\n",
    "            {'label': 'WGT igg=10 wgt_flux=2',\n",
    "             'srs': fmt_cool(ds_cool_wgt),\n",
    "             'line_dash': 'solid', 'line_width': 3,\n",
    "             'marker': 'square', 'marker_size': 5,\n",
    "             'color': colors[3], 'alpha': .6}]\n",
    "    return data\n",
    "\n",
    "\n",
    "def nice_xlims(pltdata=None, prange=None):\n",
    "    \n",
    "    def get_slice(srs):\n",
    "        return srs.sel(pressure=slice(*prange))\n",
    "    \n",
    "    srss = [d['srs'] for d in pltdata]\n",
    "    vmin = min([get_slice(srs).min() for srs in srss])\n",
    "    vmax = max([get_slice(srs).max() for srs in srss])\n",
    "    dv = (vmax - vmin) * .01\n",
    "    return float(vmin - dv), float(vmax + dv)\n",
    "    \n",
    "\n",
    "def plt_cooling_bokeh(pltdata=None):\n",
    "    '''\n",
    "    Plot a list of cooling rate profiles using bokeh.\n",
    "    '''\n",
    "    ymin = 1e-2 \n",
    "    ymax = 1020 \n",
    "        \n",
    "    p1 = figure(title=\"Linear pressure scale\", \n",
    "                plot_width=400)        \n",
    "    xmin, xmax = nice_xlims(pltdata, prange=(50, 1050))\n",
    "    for d in pltdata:\n",
    "        if 'marker' in d:\n",
    "            getattr(p1, d['marker'])(d['srs'].values, \n",
    "                    d['srs'].coords['pressure'].values,\n",
    "                    color=d['color'], alpha=.7)\n",
    "        p1.line(d['srs'].values, \n",
    "                d['srs'].coords['pressure'].values,\n",
    "                color=d['color'], alpha=d['alpha'], \n",
    "                line_width=d['line_width'], line_dash=d['line_dash'])\n",
    "    \n",
    "    p1.y_range = Range1d(ymax, ymin)\n",
    "    p1.yaxis.axis_label = 'pressure [mb]'   \n",
    "    p1.x_range = Range1d(xmin, xmax)\n",
    "    p1.xaxis.axis_label = 'cooling rate [K/day]'\n",
    "            \n",
    "    p2 = figure(title='Log pressure scale', y_axis_type='log',\n",
    "                plot_width=560)\n",
    "    xmin, xmax = nice_xlims(pltdata, prange=(.01, 200))\n",
    "    \n",
    "    rs = []\n",
    "    for d in pltdata:\n",
    "        rd = []\n",
    "        if 'marker' in d:\n",
    "            r_mark = getattr(p2, d['marker'])(d['srs'].values, \n",
    "                        d['srs'].coords['pressure'].values,\n",
    "                        color=d['color'], alpha=.7)\n",
    "            rd.append(r_mark)\n",
    "        r_line = p2.line(d['srs'].values, \n",
    "                    d['srs'].coords['pressure'].values,\n",
    "                    color=d['color'], alpha=d['alpha'], \n",
    "                    line_width=d['line_width'], line_dash=d['line_dash'])\n",
    "        rd.append(r_line)\n",
    "      \n",
    "        rs.append(rd)\n",
    "        \n",
    "    p2.y_range = Range1d(ymax, ymin)  \n",
    "    p2.yaxis.axis_label = 'pressure [mb]'\n",
    "    \n",
    "    p2.x_range = Range1d(xmin, xmax)\n",
    "    p2.xaxis.axis_label = 'cooling rate [K/day]'\n",
    "    \n",
    "    items = [(d['label'], r) for r, d in zip(rs, pltdata)]\n",
    "    legend = Legend(items=items, location=(10, -30))\n",
    "    legend.label_text_font_size = '8pt'\n",
    "    \n",
    "    p2.add_layout(legend, 'right')  \n",
    "    \n",
    "    show(gridplot(p1, p2, ncols=2, plot_height=500))\n",
    "    \n",
    "\n",
    "def script_plt_cooling():\n",
    "    pltdata = pltdata_cooling_1(\n",
    "        ds_cool=DS_COOL,\n",
    "        ds_cool_crd=DS_COOL_CRD,\n",
    "        ds_cool_wgt=DS_COOL_WGT)\n",
    "    plt_cooling_bokeh(pltdata=pltdata)\n",
    "    print('''FIGURE. Cooling rate profiles.''')"
   ]
  },
  {
   "cell_type": "code",
   "execution_count": 9,
   "metadata": {
    "collapsed": true
   },
   "outputs": [],
   "source": [
    "def fmt_flux(ds_in):\n",
    "    ds = ds_in.copy(deep=True)\n",
    "    \n",
    "    for l in ('level', 'layer'):\n",
    "        if l in ds.data_vars:\n",
    "            if len(ds[l].dims) > 1:\n",
    "                surface = {d: 0 for d in ds.dims if d != 'pressure'}\n",
    "                coord_level = ds[l][surface]\n",
    "                ds.coords[l] = ('pressure', coord_level)\n",
    "            else:\n",
    "                ds.coords[l] = ('pressure', ds[l])\n",
    "        \n",
    "    ds = ds.isel(pressure=[0, 23, -1])\n",
    "        \n",
    "    if 'igg' in ds.dims:\n",
    "        ds = ds.sel(igg=[1])\n",
    "        ds = ds.squeeze('igg').drop('igg')\n",
    "    \n",
    "    if 'g' in ds.dims:\n",
    "        ds = ds.sum('g')\n",
    "            \n",
    "    if 'band' in ds.dims:\n",
    "        try:\n",
    "            ds = ds.squeeze('band').drop('band')\n",
    "        except ValueError:\n",
    "            ds = ds.sum('band')\n",
    "                \n",
    "    df = ds.to_dataframe()\n",
    "    df = df.set_index('level', append=True)               \n",
    "    return df\n",
    "\n",
    "\n",
    "def tbdata_flux(ds_flux=None, ds_flux_crd=None, ds_flux_wgt=None):\n",
    "    ilevels = [0, 23, -1]\n",
    "            \n",
    "    benchmark = {'label': 'WGT igg=10 wgt_flux=1',\n",
    "                 'df': fmt_flux(ds_flux_wgt)}\n",
    "    \n",
    "    tbs = [{'label': 'CRD',\n",
    "            'df': fmt_flux(ds_flux_crd)},\n",
    "           {'label': 'CLIRAD',\n",
    "            'df': fmt_flux(ds_flux)}]\n",
    "    \n",
    "    data = {'benchmark': benchmark, 'others': tbs}\n",
    "    return data\n",
    "\n",
    "\n",
    "def tb_flux(tbdata=None):\n",
    "    benchmark = tbdata['benchmark']\n",
    "    others = tbdata['others']\n",
    "    \n",
    "    def show_tb(d=None):\n",
    "        display.display(d['df'])\n",
    "        print('Table.', 'Fluxes.', d['label'])\n",
    "        \n",
    "    def show_tbdiff(d0=None, d=None):\n",
    "        df = d['df']\n",
    "        df.index = d0['df'].index\n",
    "        display.display(df - d0['df'])\n",
    "        print('Table.', 'Fluxes.', \n",
    "              '({}) - ({})'.format(d['label'], d0['label']))\n",
    "        \n",
    "    show_tb(benchmark)\n",
    "    for d in others:\n",
    "        show_tb(d)\n",
    "        \n",
    "    for d in others:\n",
    "        show_tbdiff(d=d, d0=benchmark)\n",
    "        \n",
    "        \n",
    "def script_tb_flux():\n",
    "    data = tbdata_flux(ds_flux=DS_FLUX,\n",
    "                       ds_flux_crd=DS_FLUX_CRD,\n",
    "                       ds_flux_wgt=DS_FLUX_WGT)\n",
    "    tb_flux(tbdata=data)"
   ]
  },
  {
   "cell_type": "code",
   "execution_count": 10,
   "metadata": {
    "collapsed": true
   },
   "outputs": [],
   "source": [
    "def band_map():\n",
    "    '''\n",
    "    Maps spectral bands in lblnew to spectral bands in clirad.\n",
    "    '''\n",
    "    lblnew2clirad = {'1': '1',\n",
    "            '2': '2',\n",
    "            '3a': '3',\n",
    "            '3b': '4',\n",
    "            '3c': '5',\n",
    "            '4': '6', \n",
    "            '5': '7',\n",
    "            '6': '8',\n",
    "            '7': '9', \n",
    "            '8': '10',\n",
    "            '9': '11'}\n",
    "    \n",
    "    clirad2lblnew = {clirad: lblnew \n",
    "                     for lblnew, clirad in lblnew2clirad.items()}\n",
    "    return clirad2lblnew\n",
    "\n",
    "\n",
    "def gasbands():\n",
    "    bmap = band_map()\n",
    "    gases = list(PARAM['molecule'].keys())\n",
    "    \n",
    "    bands = [bmap[str(b)] for b in PARAM['band']]\n",
    "    return list(itertools.product(gases, bands))\n",
    "\n",
    "\n",
    "def print_bestfit_params():\n",
    "    print('Best-fit values for each (gas, band)')\n",
    "    print('------------------------------------')\n",
    "    for gas, band in gasbands():\n",
    "        print('o {} band{}'.format(gas, band))\n",
    "        param = bestfits.kdist_params(molecule=gas, band=band)\n",
    "        for name, value in sorted(param.items()):\n",
    "            print(2 * ' ' + '{} = {}'.format(name, value))\n",
    "\n",
    "        \n",
    "def print_input_param():        \n",
    "    for name, value in PARAM.items():\n",
    "        print('{} = {}'.format(name, value))\n",
    "        \n",
    "        \n",
    "def print_lblnew_param():\n",
    "    for name, value in sorted(PARAM_LBLNEW.items()):\n",
    "        print('{} = {}'.format(name, value))\n"
   ]
  },
  {
   "cell_type": "code",
   "execution_count": 11,
   "metadata": {
    "collapsed": true,
    "scrolled": false
   },
   "outputs": [],
   "source": [
    "def show_html(s):\n",
    "    display.display(display.HTML(s))\n",
    "\n",
    "    \n",
    "def show_markdown(s):\n",
    "    display.display(display.Markdown(s))\n",
    "\n",
    "    \n",
    "def script():\n",
    "    \n",
    "    title = '### CLIRAD-LW'\n",
    "    s_input = 'Input Parameters'\n",
    "    s_lblnew_param = 'LBLNEW case compaired against'\n",
    "    s_bestfits = 'Best-fit Parameters'\n",
    "    s_plt_cooling = 'Cooling Rate Profiles'\n",
    "    s_tb_flux = 'Flux Comparison'\n",
    "    \n",
    "    # title\n",
    "    show_markdown('### CLIRAD-LW')\n",
    "    \n",
    "    # TOC\n",
    "    show_markdown('### Table of Contents')\n",
    "    show_html(climahtml.getHTML_hrefanchor(s_input))\n",
    "    show_html(climahtml.getHTML_hrefanchor(s_lblnew_param))\n",
    "    show_html(climahtml.getHTML_hrefanchor(s_plt_cooling))\n",
    "    show_html(climahtml.getHTML_hrefanchor(s_tb_flux))\n",
    "    show_html(climahtml.getHTML_hrefanchor(s_bestfits))\n",
    "    \n",
    "    # Input parameters\n",
    "    show_html(climahtml.getHTML_idanchor(s_input))\n",
    "    show_markdown(climahtml.getMarkdown_sectitle(s_input))\n",
    "    print_input_param()\n",
    "    \n",
    "    # LBLNEW parameters \n",
    "    show_html(climahtml.getHTML_idanchor(s_lblnew_param))\n",
    "    show_markdown(climahtml.getMarkdown_sectitle(s_lblnew_param))\n",
    "    print_lblnew_param()\n",
    "    \n",
    "    # Cooling rate profiles\n",
    "    show_html(climahtml.getHTML_idanchor(s_plt_cooling))\n",
    "    show_markdown(climahtml.getMarkdown_sectitle(s_plt_cooling))\n",
    "    script_plt_cooling()\n",
    "    \n",
    "    # Flux comparison\n",
    "    show_html(climahtml.getHTML_idanchor(s_tb_flux))\n",
    "    show_markdown(climahtml.getMarkdown_sectitle(s_tb_flux))\n",
    "    script_tb_flux()\n",
    "    \n",
    "    # Best-fit values\n",
    "    show_html(climahtml.getHTML_idanchor(s_bestfits))\n",
    "    show_markdown(climahtml.getMarkdown_sectitle(s_bestfits))\n",
    "    print_bestfit_params()\n",
    "   \n",
    "    "
   ]
  },
  {
   "cell_type": "code",
   "execution_count": 12,
   "metadata": {
    "collapsed": true,
    "scrolled": false
   },
   "outputs": [
    {
     "data": {
      "text/markdown": [
       "### CLIRAD-LW"
      ],
      "text/plain": [
       "<IPython.core.display.Markdown object>"
      ]
     },
     "metadata": {},
     "output_type": "display_data"
    },
    {
     "data": {
      "text/markdown": [
       "### Table of Contents"
      ],
      "text/plain": [
       "<IPython.core.display.Markdown object>"
      ]
     },
     "metadata": {},
     "output_type": "display_data"
    },
    {
     "data": {
      "text/html": [
       "<a href=\"#Input_Parameters\">Input Parameters</a>"
      ],
      "text/plain": [
       "<IPython.core.display.HTML object>"
      ]
     },
     "metadata": {},
     "output_type": "display_data"
    },
    {
     "data": {
      "text/html": [
       "<a href=\"#LBLNEW_case_compaired_against\">LBLNEW case compaired against</a>"
      ],
      "text/plain": [
       "<IPython.core.display.HTML object>"
      ]
     },
     "metadata": {},
     "output_type": "display_data"
    },
    {
     "data": {
      "text/html": [
       "<a href=\"#Cooling_Rate_Profiles\">Cooling Rate Profiles</a>"
      ],
      "text/plain": [
       "<IPython.core.display.HTML object>"
      ]
     },
     "metadata": {},
     "output_type": "display_data"
    },
    {
     "data": {
      "text/html": [
       "<a href=\"#Flux_Comparison\">Flux Comparison</a>"
      ],
      "text/plain": [
       "<IPython.core.display.HTML object>"
      ]
     },
     "metadata": {},
     "output_type": "display_data"
    },
    {
     "data": {
      "text/html": [
       "<a href=\"#Best-fit_Parameters\">Best-fit Parameters</a>"
      ],
      "text/plain": [
       "<IPython.core.display.HTML object>"
      ]
     },
     "metadata": {},
     "output_type": "display_data"
    },
    {
     "data": {
      "text/html": [
       "<a id=\"Input_Parameters\"></a>"
      ],
      "text/plain": [
       "<IPython.core.display.HTML object>"
      ]
     },
     "metadata": {},
     "output_type": "display_data"
    },
    {
     "data": {
      "text/markdown": [
       "# Input Parameters"
      ],
      "text/plain": [
       "<IPython.core.display.Markdown object>"
      ]
     },
     "metadata": {},
     "output_type": "display_data"
    },
    {
     "name": "stdout",
     "output_type": "stream",
     "text": [
      "atmpro = trp\n",
      "band = [3]\n",
      "commitnumber = 7e55b57\n",
      "molecule = {'n2o': 3.2e-07}\n",
      "tsfc = 300\n"
     ]
    },
    {
     "data": {
      "text/html": [
       "<a id=\"LBLNEW_case_compaired_against\"></a>"
      ],
      "text/plain": [
       "<IPython.core.display.HTML object>"
      ]
     },
     "metadata": {},
     "output_type": "display_data"
    },
    {
     "data": {
      "text/markdown": [
       "# LBLNEW case compaired against"
      ],
      "text/plain": [
       "<IPython.core.display.Markdown object>"
      ]
     },
     "metadata": {},
     "output_type": "display_data"
    },
    {
     "name": "stdout",
     "output_type": "stream",
     "text": [
      "atmpro = trp\n",
      "band = 3a\n",
      "commitnumber = 5014a19\n",
      "conc = 3.2e-07\n",
      "dv = 0.01\n",
      "klin = 2.22e-20\n",
      "molecule = n2o\n",
      "ng_adju = [0, 0]\n",
      "ng_refs = [1, 2]\n",
      "nv = 100\n",
      "option_compute_btable = 0\n",
      "option_compute_ktable = 0\n",
      "option_wgt_flux = 1\n",
      "option_wgt_k = 1\n",
      "ref_pts = [(1, 250), (500, 250)]\n",
      "tsfc = 300\n",
      "vmax = 620\n",
      "vmin = 540\n",
      "w_diffuse = [(1.8,), (1.66, 1.8)]\n",
      "wgt = [(0.9,), (0.5, 0.95)]\n"
     ]
    },
    {
     "data": {
      "text/html": [
       "<a id=\"Cooling_Rate_Profiles\"></a>"
      ],
      "text/plain": [
       "<IPython.core.display.HTML object>"
      ]
     },
     "metadata": {},
     "output_type": "display_data"
    },
    {
     "data": {
      "text/markdown": [
       "# Cooling Rate Profiles"
      ],
      "text/plain": [
       "<IPython.core.display.Markdown object>"
      ]
     },
     "metadata": {},
     "output_type": "display_data"
    },
    {
     "data": {
      "text/html": [
       "\n",
       "<div class=\"bk-root\">\n",
       "    <div class=\"bk-plotdiv\" id=\"deacd1c2-5c98-4dab-b5cd-157ba3a0f12e\"></div>\n",
       "</div>"
      ]
     },
     "metadata": {},
     "output_type": "display_data"
    },
    {
     "data": {
      "application/javascript": [
       "(function(root) {\n",
       "  function embed_document(root) {\n",
       "    \n",
       "  var docs_json = {\"f89a3d61-89a5-40e1-a96d-7693044d6501\":{\"roots\":{\"references\":[{\"attributes\":{},\"id\":\"aaf20e35-69bb-46c7-ad30-cd86aeda51d7\",\"type\":\"WheelZoomTool\"},{\"attributes\":{\"overlay\":{\"id\":\"d48064d8-2452-4a2d-9ad2-2b107856f11f\",\"type\":\"BoxAnnotation\"}},\"id\":\"5df314b7-9385-4504-b722-504e1c9e838e\",\"type\":\"BoxZoomTool\"},{\"attributes\":{\"line_color\":\"#4daf4a\",\"line_width\":1.5,\"x\":{\"field\":\"x\"},\"y\":{\"field\":\"y\"}},\"id\":\"5711d90a-10d9-43c9-826a-6e6b630b5263\",\"type\":\"Line\"},{\"attributes\":{\"callback\":null,\"end\":0.01,\"start\":1020},\"id\":\"43ab5565-c8c9-4189-a1b8-48d80e9f3cf3\",\"type\":\"Range1d\"},{\"attributes\":{\"callback\":null,\"column_names\":[\"x\",\"y\"],\"data\":{\"x\":{\"__ndarray__\":\"VTm6OJQbUT9jfCnX83BUP1iI/OaGbls/zWaZO7ZCYT9vZBEYoddkP/t1tmZ8dmg/nCXSwzoYbD8gdaGU9cRvP+gOKeGltnE/szqIiUWNcz+ePbncV1t1P399xp8OBnc/Tzya/Ky4eD81/2+xCcV6PzGl1PI6k4E/4/MbCsV0ij988JPQgdiSP1oLSewu3pg/y7RbnSxNnz/Ix39lyxCjP0ATEHzUq6Y/5YWuI5IRqj8Vep/Yeu6qP0+fAxxZMak/8hQHCpuFpj8TSLmW8TijP/hEwurUBKA/B06cLTdQmj9QwqWTB0qVP604BZSu4pA/8yAuGuHWiT/5OjnbjVKCPxzVxuiioHU/LzriEvz9Vj+4ZEXrKTRvv1pRdj8WvoS/FHu+H+Tgjb+xaof0GDuOvyVUZgbOcom/ahoeP3cphb8dSLngNTSBvyRnS9jq8nq/QPW6RoXRc7+0wYpWHPVpvzaly8qOh1m/995/z5bZqz6261CXjdFYP+VyViCHfGg/j36Nwjsicj9S/2L3EuN3PxEV+eFfhX0/bfnlaN6FgT9pWiKTrDyEP3RrmsMq6IY/YcU3gdqJiT+vuEKcqiKMP9g4IcjPs44/1ZBixxmfkD/gXTGayt+RPwUWDCPHGpM/gC32MftJlD/Xn2ku3F6VP4GIzfqmRpY/S6h2DOP8lj/7ZfibxZWXP6nzfXhjL5g/hGmF2lDgmD87TT70366ZP+IBNRqYk5o/Xi3pu2qEmz+fZ2CiSXucP6zD7arpdZ0/aaE58g1znj/REX9odHSfPwxLWvbGPqA/\",\"dtype\":\"float64\",\"shape\":[75]},\"y\":{\"__ndarray__\":\"GhExyth1ND/Sv8nbtpRIP2vylNV0PVE/aTum7souWD/At0SJ8fVgPw3Iuahxymc/MSNhhJWvcD/bTfBN02d3P2zb5nxnaoA/CD5h5MAGhz8NmeH1TyaQP+zrCsc9p5Y/LbKd76fGnz/bLW5ISEmmPww9YvTcQq8/JV2OstnstT8Er5Y7M8G+P0c+r3jqkcU/5h99k6ZBzj88bCIzFzjVP4enV8oyxN0//yH99nXg5D8qOpLLf0jtP5kqGJXUifQ/c9cS8kHP/D+/DpwzojQEQIEmwoanVwxA4lgXt9HgE0BSSZ2AJuIbQAMJih9jjiNA5q4l5INuK0AwTKYKRj0zQNv5fmq8/DpAaCJseHrtQkB/+zpwzoxKQM3MzMzMeFJAZmZmZmZqWEAAAAAAAFxeQM3MzMzMJmJAmpmZmZkfZUBmZmZmZhhoQDMzMzMzEWtAAAAAAAAKbkBmZmZmZoFwQM3MzMzM/XFAMzMzMzN6c0CamZmZmfZ0QAAAAAAAc3ZAZmZmZmbvd0DNzMzMzGt5QDMzMzMz6HpAmpmZmZlkfEAAAAAAAOF9QGZmZmZmXX9AZmZmZuZsgECamZmZGSuBQM3MzMxM6YFAAAAAAICngkAzMzMzs2WDQGZmZmbmI4RAmpmZmRnihEDNzMzMTKCFQAAAAACAXoZAMzMzM7Mch0BmZmZm5tqHQJqZmZkZmYhAzczMzExXiUAAAAAAgBWKQDMzMzOz04pAZmZmZuaRi0CamZmZGVCMQM3MzMxMDo1AAAAAAIDMjUAzMzMzs4qOQGZmZmbmSI9A\",\"dtype\":\"float64\",\"shape\":[75]}}},\"id\":\"f71b59f4-6bce-499b-8743-974989dd0602\",\"type\":\"ColumnDataSource\"},{\"attributes\":{\"data_source\":{\"id\":\"f93d10ae-e8a1-4e98-9ed6-3946ecfcad44\",\"type\":\"ColumnDataSource\"},\"glyph\":{\"id\":\"30b9e8da-b018-4737-b35d-6c3e3914b2e5\",\"type\":\"Line\"},\"hover_glyph\":null,\"muted_glyph\":null,\"nonselection_glyph\":{\"id\":\"bccf98d8-7a4e-40dc-930f-dd45b25fdc0b\",\"type\":\"Line\"},\"selection_glyph\":null,\"view\":{\"id\":\"e50319e6-f8cd-44f7-8c1a-185a2c537fc2\",\"type\":\"CDSView\"}},\"id\":\"afb1b4ce-6fe5-4e3d-8f68-2ba7c1022ad4\",\"type\":\"GlyphRenderer\"},{\"attributes\":{\"data_source\":{\"id\":\"bb52138d-99a1-4b35-b49b-632187ffc965\",\"type\":\"ColumnDataSource\"},\"glyph\":{\"id\":\"a247da02-6137-40b7-8cf5-2110f574362c\",\"type\":\"Circle\"},\"hover_glyph\":null,\"muted_glyph\":null,\"nonselection_glyph\":{\"id\":\"ebd78beb-cadc-4bb7-b0bb-ecdef8bb0ef5\",\"type\":\"Circle\"},\"selection_glyph\":null,\"view\":{\"id\":\"33641efb-01a4-4dd6-8a09-ccd5fd54a52a\",\"type\":\"CDSView\"}},\"id\":\"3126858a-d178-4d7b-a132-f43a673c577f\",\"type\":\"GlyphRenderer\"},{\"attributes\":{},\"id\":\"5f755a52-0e70-4a5e-9490-5add4fda0e80\",\"type\":\"BasicTickFormatter\"},{\"attributes\":{\"fill_alpha\":{\"value\":0.7},\"fill_color\":{\"value\":\"#4daf4a\"},\"line_alpha\":{\"value\":0.7},\"line_color\":{\"value\":\"#4daf4a\"},\"x\":{\"field\":\"x\"},\"y\":{\"field\":\"y\"}},\"id\":\"a247da02-6137-40b7-8cf5-2110f574362c\",\"type\":\"Circle\"},{\"attributes\":{\"fill_alpha\":{\"value\":0.1},\"fill_color\":{\"value\":\"#1f77b4\"},\"line_alpha\":{\"value\":0.1},\"line_color\":{\"value\":\"#1f77b4\"},\"x\":{\"field\":\"x\"},\"y\":{\"field\":\"y\"}},\"id\":\"ebd78beb-cadc-4bb7-b0bb-ecdef8bb0ef5\",\"type\":\"Circle\"},{\"attributes\":{},\"id\":\"0bf03967-2bc1-46c5-a2b5-3638d0792d18\",\"type\":\"ResetTool\"},{\"attributes\":{\"callback\":null,\"column_names\":[\"x\",\"y\"],\"data\":{\"x\":{\"__ndarray__\":\"VTm6OJQbUT9jfCnX83BUP1iI/OaGbls/zWaZO7ZCYT9vZBEYoddkP/t1tmZ8dmg/nCXSwzoYbD8gdaGU9cRvP+gOKeGltnE/szqIiUWNcz+ePbncV1t1P399xp8OBnc/Tzya/Ky4eD81/2+xCcV6PzGl1PI6k4E/4/MbCsV0ij988JPQgdiSP1oLSewu3pg/y7RbnSxNnz/Ix39lyxCjP0ATEHzUq6Y/5YWuI5IRqj8Vep/Yeu6qP0+fAxxZMak/8hQHCpuFpj8TSLmW8TijP/hEwurUBKA/B06cLTdQmj9QwqWTB0qVP604BZSu4pA/8yAuGuHWiT/5OjnbjVKCPxzVxuiioHU/LzriEvz9Vj+4ZEXrKTRvv1pRdj8WvoS/FHu+H+Tgjb+xaof0GDuOvyVUZgbOcom/ahoeP3cphb8dSLngNTSBvyRnS9jq8nq/QPW6RoXRc7+0wYpWHPVpvzaly8qOh1m/995/z5bZqz6261CXjdFYP+VyViCHfGg/j36Nwjsicj9S/2L3EuN3PxEV+eFfhX0/bfnlaN6FgT9pWiKTrDyEP3RrmsMq6IY/YcU3gdqJiT+vuEKcqiKMP9g4IcjPs44/1ZBixxmfkD/gXTGayt+RPwUWDCPHGpM/gC32MftJlD/Xn2ku3F6VP4GIzfqmRpY/S6h2DOP8lj/7ZfibxZWXP6nzfXhjL5g/hGmF2lDgmD87TT70366ZP+IBNRqYk5o/Xi3pu2qEmz+fZ2CiSXucP6zD7arpdZ0/aaE58g1znj/REX9odHSfPwxLWvbGPqA/\",\"dtype\":\"float64\",\"shape\":[75]},\"y\":{\"__ndarray__\":\"GhExyth1ND/Sv8nbtpRIP2vylNV0PVE/aTum7souWD/At0SJ8fVgPw3Iuahxymc/MSNhhJWvcD/bTfBN02d3P2zb5nxnaoA/CD5h5MAGhz8NmeH1TyaQP+zrCsc9p5Y/LbKd76fGnz/bLW5ISEmmPww9YvTcQq8/JV2OstnstT8Er5Y7M8G+P0c+r3jqkcU/5h99k6ZBzj88bCIzFzjVP4enV8oyxN0//yH99nXg5D8qOpLLf0jtP5kqGJXUifQ/c9cS8kHP/D+/DpwzojQEQIEmwoanVwxA4lgXt9HgE0BSSZ2AJuIbQAMJih9jjiNA5q4l5INuK0AwTKYKRj0zQNv5fmq8/DpAaCJseHrtQkB/+zpwzoxKQM3MzMzMeFJAZmZmZmZqWEAAAAAAAFxeQM3MzMzMJmJAmpmZmZkfZUBmZmZmZhhoQDMzMzMzEWtAAAAAAAAKbkBmZmZmZoFwQM3MzMzM/XFAMzMzMzN6c0CamZmZmfZ0QAAAAAAAc3ZAZmZmZmbvd0DNzMzMzGt5QDMzMzMz6HpAmpmZmZlkfEAAAAAAAOF9QGZmZmZmXX9AZmZmZuZsgECamZmZGSuBQM3MzMxM6YFAAAAAAICngkAzMzMzs2WDQGZmZmbmI4RAmpmZmRnihEDNzMzMTKCFQAAAAACAXoZAMzMzM7Mch0BmZmZm5tqHQJqZmZkZmYhAzczMzExXiUAAAAAAgBWKQDMzMzOz04pAZmZmZuaRi0CamZmZGVCMQM3MzMxMDo1AAAAAAIDMjUAzMzMzs4qOQGZmZmbmSI9A\",\"dtype\":\"float64\",\"shape\":[75]}}},\"id\":\"d007ae66-0f95-4cf3-aa89-cf53fd20aca6\",\"type\":\"ColumnDataSource\"},{\"attributes\":{},\"id\":\"5168ce09-3677-4a85-84f2-656f245f6390\",\"type\":\"HelpTool\"},{\"attributes\":{},\"id\":\"0a2079f0-f929-4a5b-8464-a8d7ab6bc295\",\"type\":\"SaveTool\"},{\"attributes\":{\"callback\":null,\"column_names\":[\"x\",\"y\"],\"data\":{\"x\":{\"__ndarray__\":\"gcrmmYJDdz+idBjfMAZ4P+NbK9VWk3k/iRTKGW0pez84OlpZBcN8PwSNAe/9X34/xbGgUSMAgD9Tf96+C9KAP5kQ0UWdpYE/RxWkzuB6gj/21vr1kVGDP2CdoGs2KoQ/TV1O2+wEhT+2jZ6sVh6GP6fyk9TFEoo/hf3CGdkmkT+3okmeGFWWP/tVKPEj+Zs/pMBKMGYGoT8QA6X1szCkP07IYHkxnqc/wEkPljzdqj+g4p/ER+CrP1vOyR92iqo/zF9OnLhIqD88FRnAolSlP9m2pYk1RaI/cYeb+s6Rnj8Uo6SiMMyYP/iXjHiiQJM/QnVbBAPpiz9d7jXaytqBP1VvyQV5inA/6PePSIX4Or+Itgls7sB2v/NJnI2E2oa/qRA7Dl17jr8/Vsel/n6Ov6FqhYQHCIq/sg2J8PDUhb+z+snlduCBv17kSq9gKny/jcR5sLSwdL/SELm8Tf5qv6q41MtBAFq/FncmdduKCT/YM1fbllFbP85W7DratWo/hr1d6niwcz8qu6lN/MN5P6cgnJOv4X8/Gt0gaSrtgj9iZj2sBdGFPwaTIoqBrIg/o2OTrGaFiz9QNgz3tkaOP2h/5kP+f5A/7xIpyVLdkT+60v6ERCyTP39O3AkxeZQ/VwtCMkq7lT/WOsXvzNmWP1oRxupu2Zc/8g1dvumlmD9a75eVvVOZP/8JfC5kCJo/uzw0bM/Fmj9LZ/i30aWbP9FoZ+OMkpw/hKP0JYyInT9Hc/dIaYeeP/Achur4fJ8/j04KaOM+oD/2+NXF+rmgP4LKDNwAOqE/\",\"dtype\":\"float64\",\"shape\":[75]},\"y\":{\"__ndarray__\":\"GhExyth1ND/Sv8nbtpRIP2vylNV0PVE/aTum7souWD/At0SJ8fVgPw3Iuahxymc/MSNhhJWvcD/bTfBN02d3P2zb5nxnaoA/CD5h5MAGhz8NmeH1TyaQP+zrCsc9p5Y/LbKd76fGnz/bLW5ISEmmPww9YvTcQq8/JV2OstnstT8Er5Y7M8G+P0c+r3jqkcU/5h99k6ZBzj88bCIzFzjVP4enV8oyxN0//yH99nXg5D8qOpLLf0jtP5kqGJXUifQ/c9cS8kHP/D+/DpwzojQEQIEmwoanVwxA4lgXt9HgE0BSSZ2AJuIbQAMJih9jjiNA5q4l5INuK0AwTKYKRj0zQNv5fmq8/DpAaCJseHrtQkB/+zpwzoxKQM3MzMzMeFJAZmZmZmZqWEAAAAAAAFxeQM3MzMzMJmJAmpmZmZkfZUBmZmZmZhhoQDMzMzMzEWtAAAAAAAAKbkBmZmZmZoFwQM3MzMzM/XFAMzMzMzN6c0CamZmZmfZ0QAAAAAAAc3ZAZmZmZmbvd0DNzMzMzGt5QDMzMzMz6HpAmpmZmZlkfEAAAAAAAOF9QGZmZmZmXX9AZmZmZuZsgECamZmZGSuBQM3MzMxM6YFAAAAAAICngkAzMzMzs2WDQGZmZmbmI4RAmpmZmRnihEDNzMzMTKCFQAAAAACAXoZAMzMzM7Mch0BmZmZm5tqHQJqZmZkZmYhAzczMzExXiUAAAAAAgBWKQDMzMzOz04pAZmZmZuaRi0CamZmZGVCMQM3MzMxMDo1AAAAAAIDMjUAzMzMzs4qOQGZmZmbmSI9A\",\"dtype\":\"float64\",\"shape\":[75]}}},\"id\":\"fda906e9-62ad-4f35-9e7b-c4127b3561ec\",\"type\":\"ColumnDataSource\"},{\"attributes\":{\"data_source\":{\"id\":\"c3ad2652-62aa-4828-9b7d-69747f3640dc\",\"type\":\"ColumnDataSource\"},\"glyph\":{\"id\":\"0b7ccb0d-f108-44e5-b664-a04b75ac81c2\",\"type\":\"Circle\"},\"hover_glyph\":null,\"muted_glyph\":null,\"nonselection_glyph\":{\"id\":\"d1df51a9-ba67-4653-ac71-b3432c0558c1\",\"type\":\"Circle\"},\"selection_glyph\":null,\"view\":{\"id\":\"acf5525d-3d6f-45fa-aacf-fe5d6033e6f0\",\"type\":\"CDSView\"}},\"id\":\"6e98bf36-d54f-4c74-af3d-914179e707e1\",\"type\":\"GlyphRenderer\"},{\"attributes\":{\"callback\":null,\"column_names\":[\"x\",\"y\"],\"data\":{\"x\":{\"__ndarray__\":\"VTm6OJQbUT9jfCnX83BUP1iI/OaGbls/zWaZO7ZCYT9vZBEYoddkP/t1tmZ8dmg/nCXSwzoYbD8gdaGU9cRvP+gOKeGltnE/szqIiUWNcz+ePbncV1t1P399xp8OBnc/Tzya/Ky4eD81/2+xCcV6PzGl1PI6k4E/4/MbCsV0ij988JPQgdiSP1oLSewu3pg/y7RbnSxNnz/Ix39lyxCjP0ATEHzUq6Y/5YWuI5IRqj8Vep/Yeu6qP0+fAxxZMak/8hQHCpuFpj8TSLmW8TijP/hEwurUBKA/B06cLTdQmj9QwqWTB0qVP604BZSu4pA/8yAuGuHWiT/5OjnbjVKCPxzVxuiioHU/LzriEvz9Vj+4ZEXrKTRvv1pRdj8WvoS/FHu+H+Tgjb+xaof0GDuOvyVUZgbOcom/ahoeP3cphb8dSLngNTSBvyRnS9jq8nq/QPW6RoXRc7+0wYpWHPVpvzaly8qOh1m/995/z5bZqz6261CXjdFYP+VyViCHfGg/j36Nwjsicj9S/2L3EuN3PxEV+eFfhX0/bfnlaN6FgT9pWiKTrDyEP3RrmsMq6IY/YcU3gdqJiT+vuEKcqiKMP9g4IcjPs44/1ZBixxmfkD/gXTGayt+RPwUWDCPHGpM/gC32MftJlD/Xn2ku3F6VP4GIzfqmRpY/S6h2DOP8lj/7ZfibxZWXP6nzfXhjL5g/hGmF2lDgmD87TT70366ZP+IBNRqYk5o/Xi3pu2qEmz+fZ2CiSXucP6zD7arpdZ0/aaE58g1znj/REX9odHSfPwxLWvbGPqA/\",\"dtype\":\"float64\",\"shape\":[75]},\"y\":{\"__ndarray__\":\"GhExyth1ND/Sv8nbtpRIP2vylNV0PVE/aTum7souWD/At0SJ8fVgPw3Iuahxymc/MSNhhJWvcD/bTfBN02d3P2zb5nxnaoA/CD5h5MAGhz8NmeH1TyaQP+zrCsc9p5Y/LbKd76fGnz/bLW5ISEmmPww9YvTcQq8/JV2OstnstT8Er5Y7M8G+P0c+r3jqkcU/5h99k6ZBzj88bCIzFzjVP4enV8oyxN0//yH99nXg5D8qOpLLf0jtP5kqGJXUifQ/c9cS8kHP/D+/DpwzojQEQIEmwoanVwxA4lgXt9HgE0BSSZ2AJuIbQAMJih9jjiNA5q4l5INuK0AwTKYKRj0zQNv5fmq8/DpAaCJseHrtQkB/+zpwzoxKQM3MzMzMeFJAZmZmZmZqWEAAAAAAAFxeQM3MzMzMJmJAmpmZmZkfZUBmZmZmZhhoQDMzMzMzEWtAAAAAAAAKbkBmZmZmZoFwQM3MzMzM/XFAMzMzMzN6c0CamZmZmfZ0QAAAAAAAc3ZAZmZmZmbvd0DNzMzMzGt5QDMzMzMz6HpAmpmZmZlkfEAAAAAAAOF9QGZmZmZmXX9AZmZmZuZsgECamZmZGSuBQM3MzMxM6YFAAAAAAICngkAzMzMzs2WDQGZmZmbmI4RAmpmZmRnihEDNzMzMTKCFQAAAAACAXoZAMzMzM7Mch0BmZmZm5tqHQJqZmZkZmYhAzczMzExXiUAAAAAAgBWKQDMzMzOz04pAZmZmZuaRi0CamZmZGVCMQM3MzMxMDo1AAAAAAIDMjUAzMzMzs4qOQGZmZmbmSI9A\",\"dtype\":\"float64\",\"shape\":[75]}}},\"id\":\"bb52138d-99a1-4b35-b49b-632187ffc965\",\"type\":\"ColumnDataSource\"},{\"attributes\":{\"callback\":null,\"column_names\":[\"x\",\"y\"],\"data\":{\"x\":{\"__ndarray__\":\"gcrmmYJDdz+idBjfMAZ4P+NbK9VWk3k/iRTKGW0pez84OlpZBcN8PwSNAe/9X34/xbGgUSMAgD9Tf96+C9KAP5kQ0UWdpYE/RxWkzuB6gj/21vr1kVGDP2CdoGs2KoQ/TV1O2+wEhT+2jZ6sVh6GP6fyk9TFEoo/hf3CGdkmkT+3okmeGFWWP/tVKPEj+Zs/pMBKMGYGoT8QA6X1szCkP07IYHkxnqc/wEkPljzdqj+g4p/ER+CrP1vOyR92iqo/zF9OnLhIqD88FRnAolSlP9m2pYk1RaI/cYeb+s6Rnj8Uo6SiMMyYP/iXjHiiQJM/QnVbBAPpiz9d7jXaytqBP1VvyQV5inA/6PePSIX4Or+Itgls7sB2v/NJnI2E2oa/qRA7Dl17jr8/Vsel/n6Ov6FqhYQHCIq/sg2J8PDUhb+z+snlduCBv17kSq9gKny/jcR5sLSwdL/SELm8Tf5qv6q41MtBAFq/FncmdduKCT/YM1fbllFbP85W7DratWo/hr1d6niwcz8qu6lN/MN5P6cgnJOv4X8/Gt0gaSrtgj9iZj2sBdGFPwaTIoqBrIg/o2OTrGaFiz9QNgz3tkaOP2h/5kP+f5A/7xIpyVLdkT+60v6ERCyTP39O3AkxeZQ/VwtCMkq7lT/WOsXvzNmWP1oRxupu2Zc/8g1dvumlmD9a75eVvVOZP/8JfC5kCJo/uzw0bM/Fmj9LZ/i30aWbP9FoZ+OMkpw/hKP0JYyInT9Hc/dIaYeeP/Achur4fJ8/j04KaOM+oD/2+NXF+rmgP4LKDNwAOqE/\",\"dtype\":\"float64\",\"shape\":[75]},\"y\":{\"__ndarray__\":\"GhExyth1ND/Sv8nbtpRIP2vylNV0PVE/aTum7souWD/At0SJ8fVgPw3Iuahxymc/MSNhhJWvcD/bTfBN02d3P2zb5nxnaoA/CD5h5MAGhz8NmeH1TyaQP+zrCsc9p5Y/LbKd76fGnz/bLW5ISEmmPww9YvTcQq8/JV2OstnstT8Er5Y7M8G+P0c+r3jqkcU/5h99k6ZBzj88bCIzFzjVP4enV8oyxN0//yH99nXg5D8qOpLLf0jtP5kqGJXUifQ/c9cS8kHP/D+/DpwzojQEQIEmwoanVwxA4lgXt9HgE0BSSZ2AJuIbQAMJih9jjiNA5q4l5INuK0AwTKYKRj0zQNv5fmq8/DpAaCJseHrtQkB/+zpwzoxKQM3MzMzMeFJAZmZmZmZqWEAAAAAAAFxeQM3MzMzMJmJAmpmZmZkfZUBmZmZmZhhoQDMzMzMzEWtAAAAAAAAKbkBmZmZmZoFwQM3MzMzM/XFAMzMzMzN6c0CamZmZmfZ0QAAAAAAAc3ZAZmZmZmbvd0DNzMzMzGt5QDMzMzMz6HpAmpmZmZlkfEAAAAAAAOF9QGZmZmZmXX9AZmZmZuZsgECamZmZGSuBQM3MzMxM6YFAAAAAAICngkAzMzMzs2WDQGZmZmbmI4RAmpmZmRnihEDNzMzMTKCFQAAAAACAXoZAMzMzM7Mch0BmZmZm5tqHQJqZmZkZmYhAzczMzExXiUAAAAAAgBWKQDMzMzOz04pAZmZmZuaRi0CamZmZGVCMQM3MzMxMDo1AAAAAAIDMjUAzMzMzs4qOQGZmZmbmSI9A\",\"dtype\":\"float64\",\"shape\":[75]}}},\"id\":\"4df49bf8-1cf8-42a3-a042-713409591854\",\"type\":\"ColumnDataSource\"},{\"attributes\":{\"tools\":[{\"id\":\"264a8685-b79c-44e2-a588-0dc2bcfd2eb3\",\"type\":\"PanTool\"},{\"id\":\"aaf20e35-69bb-46c7-ad30-cd86aeda51d7\",\"type\":\"WheelZoomTool\"},{\"id\":\"5df314b7-9385-4504-b722-504e1c9e838e\",\"type\":\"BoxZoomTool\"},{\"id\":\"0a2079f0-f929-4a5b-8464-a8d7ab6bc295\",\"type\":\"SaveTool\"},{\"id\":\"0bf03967-2bc1-46c5-a2b5-3638d0792d18\",\"type\":\"ResetTool\"},{\"id\":\"5168ce09-3677-4a85-84f2-656f245f6390\",\"type\":\"HelpTool\"},{\"id\":\"6ca5e1e6-d3df-4424-9ff5-8c4253af39cb\",\"type\":\"PanTool\"},{\"id\":\"88ac62a4-f2ff-4592-9b42-41785f89182c\",\"type\":\"WheelZoomTool\"},{\"id\":\"84b73dc9-d9aa-4e1b-a90b-6e4ea733f00c\",\"type\":\"BoxZoomTool\"},{\"id\":\"61dd4d43-4f32-4fa4-bead-5e62e8446438\",\"type\":\"SaveTool\"},{\"id\":\"b592b187-4022-4ebe-a06d-462abb7c6a7f\",\"type\":\"ResetTool\"},{\"id\":\"455ac369-d640-4676-b77c-b84dc4e4c95a\",\"type\":\"HelpTool\"}]},\"id\":\"4396545f-1af8-4562-8080-fbda2f5ba72b\",\"type\":\"ProxyToolbar\"},{\"attributes\":{\"source\":{\"id\":\"bb52138d-99a1-4b35-b49b-632187ffc965\",\"type\":\"ColumnDataSource\"}},\"id\":\"33641efb-01a4-4dd6-8a09-ccd5fd54a52a\",\"type\":\"CDSView\"},{\"attributes\":{\"callback\":null,\"column_names\":[\"x\",\"y\"],\"data\":{\"x\":{\"__ndarray__\":\"8F/Nv2Vnqr8AAAAAAAAAAAAAAAAAAAAAbMGc6tqowD/XN75jacGnP6lzJhxj76C/AAAAAAAAAAC/B/6jrjahP0kAzO8Ti4i/HtNCYUp/gT8nLgf+l/J4PxIiJeUKyZE/YadqGMRbiT8Mu8wJCh6LP2VKhR/+VIM/YRlGOjYUkD/6gLK8ukmVP5wO+lgVb5s/8qkavxvLnj/i+kr8Xv6iPycg635V+6U/vo0ZHZr2qD9LlGxena+pP0Tj3yCHrKg/zUG0fHvcpj9rMVxDxxOkPwkMrdx4aKE/jmsqKJhznT/VYo0GMjOYP4cXtvmOAJM/+XfogbDPiz+ESDcfpt+BP+fgiYDSLnA/2Lu2YYfzRb+cdpcdgBp4v15GdzFJPIe/dE+36Vhwjr/Qd78jjX6Ov9BrjqHTW4q/DTvG9Ahehr+z2c3fD36CvzMcC10UfH2/UHse4Ogqdr/F6ssl4BZuv5vVq56NSWC/N/nWn0GoNb+r5FoqMwlVP5vJpsFVY2c/ZRsloKMEcj9oMQMdvih4P7AJvB6LN34/ETGtXiESgj/qVdTI/fqEP2Tz0d/U0oc/klX40JGeij9UuNmwil2NP+d3Jb8BCpA/3IdZuy9fkT9KxVzY7qySP9XKWd+N85M/8Dt05MItlT+D5LEnAE2WP50KTgNaSJc/b5RzZBAYmD873Q/+mc+YP48zwuX1g5k/uCGgpLtJmj/AjyECOSGbP4ruBdjaCpw/A9NNiNf6nD80tp3XVO2dP0NAaoV8354/N6z1uk/Snz+EvCi+/WCgP7pJI56g2KA/\",\"dtype\":\"float64\",\"shape\":[75]},\"y\":{\"__ndarray__\":\"S/O/Q+51ND/430zAtpRIP2vylNV0PVE/QxsjCssuWD/TR4Z78fVgP+inNsRxymc/OuuBfZWvcD/u3TFA02d3P2d3VoBnaoA/CD5h5MAGhz/1pA8HUCaQP+zrCsc9p5Y/Fb7LAKjGnz/nJ9c/SEmmPwBD+fzcQq8/FOZwv9nstT8Er5Y7M8G+P0c+r3jqkcU/yK72qKZBzj+tM989FzjVPxbgmr8yxN0/cOm5AXbg5D+5ctXAf0jtP5kqGJXUifQ/DsrqDELP/D8MCAhBojQEQDItVnmnVwxAiFXNvdHgE0BSSZ2AJuIbQAMJih9jjiNA5q4l5INuK0CPVN/5RT0zQHzxRXu8/DpAOZ7PgHrtQkAg8wGBzoxKQBSTN8DMeFJA2NmQf2ZqWEAAAAAAAFxeQEQX1LfMJmJAmpmZmZkfZUBmZmZmZhhoQLzoK0gzEWtAAAAAAAAKbkCiC+pbZoFwQAhyUMLM/XFA+I2vPTN6c0AQ5KCEmfZ0QAAAAAAAc3ZA8Btfe2bvd0AIclDCzGt5QPeNrz0z6HpAEOSghJlkfEAAAAAAAOF9QKML6ltmXX9ABTkoYeZsgED7xteeGSuBQAhyUMJM6YFAAAAAAICngkD4ja89s2WDQAU5KGHmI4RA+8bXnhnihEAIclDCTKCFQAAAAACAXoZA+I2vPbMch0AFOShh5tqHQPvG154ZmYhACHJQwkxXiUAAAAAAgBWKQPeNrz2z04pABTkoYeaRi0D7xteeGVCMQAlyUMJMDo1AAAAAAIDMjUD3ja89s4qOQGZmZmbmSI9A\",\"dtype\":\"float64\",\"shape\":[75]}}},\"id\":\"c3eb4298-d505-4402-aec2-a36cf4ddd347\",\"type\":\"ColumnDataSource\"},{\"attributes\":{\"line_color\":\"#4daf4a\",\"line_width\":1.5,\"x\":{\"field\":\"x\"},\"y\":{\"field\":\"y\"}},\"id\":\"ad0b7772-cd64-4c52-b453-44ff87b005d7\",\"type\":\"Line\"},{\"attributes\":{\"callback\":null,\"end\":0.0551388598193,\"start\":-0.0155840222893},\"id\":\"206cb371-058d-4122-8395-88ba27fd65a9\",\"type\":\"Range1d\"},{\"attributes\":{\"line_alpha\":0.1,\"line_color\":\"#1f77b4\",\"line_width\":1.5,\"x\":{\"field\":\"x\"},\"y\":{\"field\":\"y\"}},\"id\":\"dbe44b71-8e09-4cf8-9093-89811850b733\",\"type\":\"Line\"},{\"attributes\":{\"data_source\":{\"id\":\"d007ae66-0f95-4cf3-aa89-cf53fd20aca6\",\"type\":\"ColumnDataSource\"},\"glyph\":{\"id\":\"ad0b7772-cd64-4c52-b453-44ff87b005d7\",\"type\":\"Line\"},\"hover_glyph\":null,\"muted_glyph\":null,\"nonselection_glyph\":{\"id\":\"e1da51a6-048c-4e72-90fc-060b04d75831\",\"type\":\"Line\"},\"selection_glyph\":null,\"view\":{\"id\":\"4a2ed534-113e-4c60-af19-8a02f8e0440d\",\"type\":\"CDSView\"}},\"id\":\"e12ac42c-a62b-45bc-ab9a-22d986c2d256\",\"type\":\"GlyphRenderer\"},{\"attributes\":{\"below\":[{\"id\":\"b944323e-c31e-432c-902a-1b2b7bdf989b\",\"type\":\"LinearAxis\"}],\"left\":[{\"id\":\"d620f6ad-5430-4616-92ef-863d55d282f7\",\"type\":\"LinearAxis\"}],\"plot_height\":500,\"plot_width\":400,\"renderers\":[{\"id\":\"b944323e-c31e-432c-902a-1b2b7bdf989b\",\"type\":\"LinearAxis\"},{\"id\":\"90445aa9-5901-49a1-87e6-063b7219ccf8\",\"type\":\"Grid\"},{\"id\":\"d620f6ad-5430-4616-92ef-863d55d282f7\",\"type\":\"LinearAxis\"},{\"id\":\"3e58ed41-5d7a-4f20-bbd2-9f4ae0a8536a\",\"type\":\"Grid\"},{\"id\":\"d48064d8-2452-4a2d-9ad2-2b107856f11f\",\"type\":\"BoxAnnotation\"},{\"id\":\"afb1b4ce-6fe5-4e3d-8f68-2ba7c1022ad4\",\"type\":\"GlyphRenderer\"},{\"id\":\"6e98bf36-d54f-4c74-af3d-914179e707e1\",\"type\":\"GlyphRenderer\"},{\"id\":\"b10ea425-d2f7-4f33-bda7-cfcd1c77af23\",\"type\":\"GlyphRenderer\"},{\"id\":\"81eb7920-39d2-4c20-a00d-ae6d367a417f\",\"type\":\"GlyphRenderer\"},{\"id\":\"449ad7d1-d8f2-4a77-af81-5feb1d4f7717\",\"type\":\"GlyphRenderer\"}],\"title\":{\"id\":\"2f6a6192-8db5-4683-8a70-f3e0fd408014\",\"type\":\"Title\"},\"toolbar\":{\"id\":\"7d1b7611-34d1-4abc-aade-21f5c9bc7ebc\",\"type\":\"Toolbar\"},\"toolbar_location\":null,\"x_range\":{\"id\":\"beecf1be-1e34-4bfb-bad6-07f4045a35e5\",\"type\":\"Range1d\"},\"x_scale\":{\"id\":\"0105c79b-e938-45f6-9a7d-a8991b8c8c3b\",\"type\":\"LinearScale\"},\"y_range\":{\"id\":\"43ab5565-c8c9-4189-a1b8-48d80e9f3cf3\",\"type\":\"Range1d\"},\"y_scale\":{\"id\":\"0d782e50-6094-4ca8-ba30-1ea46fac230c\",\"type\":\"LinearScale\"}},\"id\":\"a28ba48a-3728-4ab2-8fb3-68c5aa941006\",\"subtype\":\"Figure\",\"type\":\"Plot\"},{\"attributes\":{\"line_alpha\":0.1,\"line_color\":\"#1f77b4\",\"line_width\":1.5,\"x\":{\"field\":\"x\"},\"y\":{\"field\":\"y\"}},\"id\":\"e1da51a6-048c-4e72-90fc-060b04d75831\",\"type\":\"Line\"},{\"attributes\":{\"callback\":null,\"column_names\":[\"x\",\"y\"],\"data\":{\"x\":{\"__ndarray__\":\"VTm6OJQbUT9jfCnX83BUP1iI/OaGbls/zWaZO7ZCYT9vZBEYoddkP/t1tmZ8dmg/nCXSwzoYbD8gdaGU9cRvP+gOKeGltnE/szqIiUWNcz+ePbncV1t1P399xp8OBnc/Tzya/Ky4eD81/2+xCcV6PzGl1PI6k4E/4/MbCsV0ij988JPQgdiSP1oLSewu3pg/y7RbnSxNnz/Ix39lyxCjP0ATEHzUq6Y/5YWuI5IRqj8Vep/Yeu6qP0+fAxxZMak/8hQHCpuFpj8TSLmW8TijP/hEwurUBKA/B06cLTdQmj9QwqWTB0qVP604BZSu4pA/8yAuGuHWiT/5OjnbjVKCPxzVxuiioHU/LzriEvz9Vj+4ZEXrKTRvv1pRdj8WvoS/FHu+H+Tgjb+xaof0GDuOvyVUZgbOcom/ahoeP3cphb8dSLngNTSBvyRnS9jq8nq/QPW6RoXRc7+0wYpWHPVpvzaly8qOh1m/995/z5bZqz6261CXjdFYP+VyViCHfGg/j36Nwjsicj9S/2L3EuN3PxEV+eFfhX0/bfnlaN6FgT9pWiKTrDyEP3RrmsMq6IY/YcU3gdqJiT+vuEKcqiKMP9g4IcjPs44/1ZBixxmfkD/gXTGayt+RPwUWDCPHGpM/gC32MftJlD/Xn2ku3F6VP4GIzfqmRpY/S6h2DOP8lj/7ZfibxZWXP6nzfXhjL5g/hGmF2lDgmD87TT70366ZP+IBNRqYk5o/Xi3pu2qEmz+fZ2CiSXucP6zD7arpdZ0/aaE58g1znj/REX9odHSfPwxLWvbGPqA/\",\"dtype\":\"float64\",\"shape\":[75]},\"y\":{\"__ndarray__\":\"GhExyth1ND/Sv8nbtpRIP2vylNV0PVE/aTum7souWD/At0SJ8fVgPw3Iuahxymc/MSNhhJWvcD/bTfBN02d3P2zb5nxnaoA/CD5h5MAGhz8NmeH1TyaQP+zrCsc9p5Y/LbKd76fGnz/bLW5ISEmmPww9YvTcQq8/JV2OstnstT8Er5Y7M8G+P0c+r3jqkcU/5h99k6ZBzj88bCIzFzjVP4enV8oyxN0//yH99nXg5D8qOpLLf0jtP5kqGJXUifQ/c9cS8kHP/D+/DpwzojQEQIEmwoanVwxA4lgXt9HgE0BSSZ2AJuIbQAMJih9jjiNA5q4l5INuK0AwTKYKRj0zQNv5fmq8/DpAaCJseHrtQkB/+zpwzoxKQM3MzMzMeFJAZmZmZmZqWEAAAAAAAFxeQM3MzMzMJmJAmpmZmZkfZUBmZmZmZhhoQDMzMzMzEWtAAAAAAAAKbkBmZmZmZoFwQM3MzMzM/XFAMzMzMzN6c0CamZmZmfZ0QAAAAAAAc3ZAZmZmZmbvd0DNzMzMzGt5QDMzMzMz6HpAmpmZmZlkfEAAAAAAAOF9QGZmZmZmXX9AZmZmZuZsgECamZmZGSuBQM3MzMxM6YFAAAAAAICngkAzMzMzs2WDQGZmZmbmI4RAmpmZmRnihEDNzMzMTKCFQAAAAACAXoZAMzMzM7Mch0BmZmZm5tqHQJqZmZkZmYhAzczMzExXiUAAAAAAgBWKQDMzMzOz04pAZmZmZuaRi0CamZmZGVCMQM3MzMxMDo1AAAAAAIDMjUAzMzMzs4qOQGZmZmbmSI9A\",\"dtype\":\"float64\",\"shape\":[75]}}},\"id\":\"c3ad2652-62aa-4828-9b7d-69747f3640dc\",\"type\":\"ColumnDataSource\"},{\"attributes\":{\"source\":{\"id\":\"d007ae66-0f95-4cf3-aa89-cf53fd20aca6\",\"type\":\"ColumnDataSource\"}},\"id\":\"4a2ed534-113e-4c60-af19-8a02f8e0440d\",\"type\":\"CDSView\"},{\"attributes\":{\"plot\":null,\"text\":\"Linear pressure scale\"},\"id\":\"2f6a6192-8db5-4683-8a70-f3e0fd408014\",\"type\":\"Title\"},{\"attributes\":{\"fill_alpha\":{\"value\":0.7},\"fill_color\":{\"value\":\"#984ea3\"},\"line_alpha\":{\"value\":0.7},\"line_color\":{\"value\":\"#984ea3\"},\"x\":{\"field\":\"x\"},\"y\":{\"field\":\"y\"}},\"id\":\"fdfc868b-c66a-462d-9d07-09bb43e2a562\",\"type\":\"Square\"},{\"attributes\":{\"children\":[{\"id\":\"2d5561fa-10ce-44aa-b43d-fa10e8c24f88\",\"type\":\"ToolbarBox\"},{\"id\":\"e0ef2282-1094-4ea2-abef-ad71f61566ee\",\"type\":\"Column\"}]},\"id\":\"d9953f36-5f16-4666-8a90-933f3d969f4d\",\"type\":\"Column\"},{\"attributes\":{\"axis_label\":\"cooling rate [K/day]\",\"formatter\":{\"id\":\"5888fdd2-8153-499d-980e-597139237cce\",\"type\":\"BasicTickFormatter\"},\"plot\":{\"id\":\"a28ba48a-3728-4ab2-8fb3-68c5aa941006\",\"subtype\":\"Figure\",\"type\":\"Plot\"},\"ticker\":{\"id\":\"eb83390e-0229-4a4c-8065-33f54fc92d6d\",\"type\":\"BasicTicker\"}},\"id\":\"b944323e-c31e-432c-902a-1b2b7bdf989b\",\"type\":\"LinearAxis\"},{\"attributes\":{},\"id\":\"0d782e50-6094-4ca8-ba30-1ea46fac230c\",\"type\":\"LinearScale\"},{\"attributes\":{\"line_alpha\":0.6,\"line_color\":\"#984ea3\",\"line_width\":3,\"x\":{\"field\":\"x\"},\"y\":{\"field\":\"y\"}},\"id\":\"edd85268-8a11-4e99-8308-a0d3de2d7777\",\"type\":\"Line\"},{\"attributes\":{},\"id\":\"0105c79b-e938-45f6-9a7d-a8991b8c8c3b\",\"type\":\"LinearScale\"},{\"attributes\":{\"source\":{\"id\":\"fda906e9-62ad-4f35-9e7b-c4127b3561ec\",\"type\":\"ColumnDataSource\"}},\"id\":\"dd1ac693-e84c-4cbe-be15-08f10be16fe9\",\"type\":\"CDSView\"},{\"attributes\":{\"fill_alpha\":{\"value\":0.1},\"fill_color\":{\"value\":\"#1f77b4\"},\"line_alpha\":{\"value\":0.1},\"line_color\":{\"value\":\"#1f77b4\"},\"x\":{\"field\":\"x\"},\"y\":{\"field\":\"y\"}},\"id\":\"6cc19283-fba0-4f5b-b89b-6fb672dd0924\",\"type\":\"Square\"},{\"attributes\":{\"data_source\":{\"id\":\"fda906e9-62ad-4f35-9e7b-c4127b3561ec\",\"type\":\"ColumnDataSource\"},\"glyph\":{\"id\":\"fdfc868b-c66a-462d-9d07-09bb43e2a562\",\"type\":\"Square\"},\"hover_glyph\":null,\"muted_glyph\":null,\"nonselection_glyph\":{\"id\":\"6cc19283-fba0-4f5b-b89b-6fb672dd0924\",\"type\":\"Square\"},\"selection_glyph\":null,\"view\":{\"id\":\"dd1ac693-e84c-4cbe-be15-08f10be16fe9\",\"type\":\"CDSView\"}},\"id\":\"b2f3db04-87dd-4643-aad3-268e9c2eb42e\",\"type\":\"GlyphRenderer\"},{\"attributes\":{\"dimension\":1,\"plot\":{\"id\":\"a28ba48a-3728-4ab2-8fb3-68c5aa941006\",\"subtype\":\"Figure\",\"type\":\"Plot\"},\"ticker\":{\"id\":\"5deae6d0-f06c-44f6-8f32-d1e62e8d0459\",\"type\":\"BasicTicker\"}},\"id\":\"3e58ed41-5d7a-4f20-bbd2-9f4ae0a8536a\",\"type\":\"Grid\"},{\"attributes\":{\"items\":[{\"id\":\"090dc3e3-0a47-4e1e-98fc-6f1529c397c0\",\"type\":\"LegendItem\"},{\"id\":\"5d212f5c-fb57-4fcb-91b7-f7153544e60f\",\"type\":\"LegendItem\"},{\"id\":\"b544c0f4-7bce-45b0-a438-26b0d1bb0776\",\"type\":\"LegendItem\"}],\"label_text_font_size\":{\"value\":\"8pt\"},\"location\":[10,-30],\"plot\":{\"id\":\"8050d447-863f-4727-9c61-918e5fc5d9a2\",\"subtype\":\"Figure\",\"type\":\"Plot\"}},\"id\":\"fa0cd64e-b071-4aa5-af5f-d9d30160c1d0\",\"type\":\"Legend\"},{\"attributes\":{\"source\":{\"id\":\"4df49bf8-1cf8-42a3-a042-713409591854\",\"type\":\"ColumnDataSource\"}},\"id\":\"008dd81e-6e94-47b1-b084-9abc7c5c8434\",\"type\":\"CDSView\"},{\"attributes\":{},\"id\":\"2afbe13a-db0e-4e9c-b35f-5dc9f8cfdd8f\",\"type\":\"LinearScale\"},{\"attributes\":{\"line_alpha\":0.1,\"line_color\":\"#1f77b4\",\"line_width\":3,\"x\":{\"field\":\"x\"},\"y\":{\"field\":\"y\"}},\"id\":\"4332fa58-ae60-4328-ac38-3c5471558782\",\"type\":\"Line\"},{\"attributes\":{\"data_source\":{\"id\":\"4df49bf8-1cf8-42a3-a042-713409591854\",\"type\":\"ColumnDataSource\"},\"glyph\":{\"id\":\"edd85268-8a11-4e99-8308-a0d3de2d7777\",\"type\":\"Line\"},\"hover_glyph\":null,\"muted_glyph\":null,\"nonselection_glyph\":{\"id\":\"4332fa58-ae60-4328-ac38-3c5471558782\",\"type\":\"Line\"},\"selection_glyph\":null,\"view\":{\"id\":\"008dd81e-6e94-47b1-b084-9abc7c5c8434\",\"type\":\"CDSView\"}},\"id\":\"091495d0-58d1-44a9-9e94-c5594b423eeb\",\"type\":\"GlyphRenderer\"},{\"attributes\":{\"toolbar\":{\"id\":\"4396545f-1af8-4562-8080-fbda2f5ba72b\",\"type\":\"ProxyToolbar\"},\"toolbar_location\":\"above\"},\"id\":\"2d5561fa-10ce-44aa-b43d-fa10e8c24f88\",\"type\":\"ToolbarBox\"},{\"attributes\":{\"fill_alpha\":{\"value\":0.1},\"fill_color\":{\"value\":\"#1f77b4\"},\"line_alpha\":{\"value\":0.1},\"line_color\":{\"value\":\"#1f77b4\"},\"x\":{\"field\":\"x\"},\"y\":{\"field\":\"y\"}},\"id\":\"d1df51a9-ba67-4653-ac71-b3432c0558c1\",\"type\":\"Circle\"},{\"attributes\":{\"label\":{\"value\":\"CLIRAD `coolr_bands`\"},\"renderers\":[{\"id\":\"3f10c4d8-1c14-4b63-800c-de430cc978a1\",\"type\":\"GlyphRenderer\"}]},\"id\":\"090dc3e3-0a47-4e1e-98fc-6f1529c397c0\",\"type\":\"LegendItem\"},{\"attributes\":{\"dimension\":1,\"plot\":{\"id\":\"8050d447-863f-4727-9c61-918e5fc5d9a2\",\"subtype\":\"Figure\",\"type\":\"Plot\"},\"ticker\":{\"id\":\"a8f7593b-b788-447d-baa8-c9bc713efb8c\",\"type\":\"LogTicker\"}},\"id\":\"d3eda9be-5a4c-468d-80a2-1140b7012fa5\",\"type\":\"Grid\"},{\"attributes\":{\"axis_label\":\"pressure [mb]\",\"formatter\":{\"id\":\"39c72af5-9ecc-479a-85ef-eaffd3f11d53\",\"type\":\"LogTickFormatter\"},\"plot\":{\"id\":\"8050d447-863f-4727-9c61-918e5fc5d9a2\",\"subtype\":\"Figure\",\"type\":\"Plot\"},\"ticker\":{\"id\":\"a8f7593b-b788-447d-baa8-c9bc713efb8c\",\"type\":\"LogTicker\"}},\"id\":\"54506c09-6421-4bda-b1cd-e819a5cc9e4e\",\"type\":\"LogAxis\"},{\"attributes\":{\"active_drag\":\"auto\",\"active_inspect\":\"auto\",\"active_scroll\":\"auto\",\"active_tap\":\"auto\",\"tools\":[{\"id\":\"264a8685-b79c-44e2-a588-0dc2bcfd2eb3\",\"type\":\"PanTool\"},{\"id\":\"aaf20e35-69bb-46c7-ad30-cd86aeda51d7\",\"type\":\"WheelZoomTool\"},{\"id\":\"5df314b7-9385-4504-b722-504e1c9e838e\",\"type\":\"BoxZoomTool\"},{\"id\":\"0a2079f0-f929-4a5b-8464-a8d7ab6bc295\",\"type\":\"SaveTool\"},{\"id\":\"0bf03967-2bc1-46c5-a2b5-3638d0792d18\",\"type\":\"ResetTool\"},{\"id\":\"5168ce09-3677-4a85-84f2-656f245f6390\",\"type\":\"HelpTool\"}]},\"id\":\"7d1b7611-34d1-4abc-aade-21f5c9bc7ebc\",\"type\":\"Toolbar\"},{\"attributes\":{\"plot\":{\"id\":\"8050d447-863f-4727-9c61-918e5fc5d9a2\",\"subtype\":\"Figure\",\"type\":\"Plot\"},\"ticker\":{\"id\":\"520f935d-797b-42b3-9e45-0fdfcf291cb2\",\"type\":\"BasicTicker\"}},\"id\":\"53cb2e9a-901e-43cc-857a-49644131e520\",\"type\":\"Grid\"},{\"attributes\":{\"fill_alpha\":{\"value\":0.7},\"fill_color\":{\"value\":\"#4daf4a\"},\"line_alpha\":{\"value\":0.7},\"line_color\":{\"value\":\"#4daf4a\"},\"x\":{\"field\":\"x\"},\"y\":{\"field\":\"y\"}},\"id\":\"0b7ccb0d-f108-44e5-b664-a04b75ac81c2\",\"type\":\"Circle\"},{\"attributes\":{},\"id\":\"eb83390e-0229-4a4c-8065-33f54fc92d6d\",\"type\":\"BasicTicker\"},{\"attributes\":{},\"id\":\"520f935d-797b-42b3-9e45-0fdfcf291cb2\",\"type\":\"BasicTicker\"},{\"attributes\":{\"plot\":{\"id\":\"a28ba48a-3728-4ab2-8fb3-68c5aa941006\",\"subtype\":\"Figure\",\"type\":\"Plot\"},\"ticker\":{\"id\":\"eb83390e-0229-4a4c-8065-33f54fc92d6d\",\"type\":\"BasicTicker\"}},\"id\":\"90445aa9-5901-49a1-87e6-063b7219ccf8\",\"type\":\"Grid\"},{\"attributes\":{\"axis_label\":\"cooling rate [K/day]\",\"formatter\":{\"id\":\"5f755a52-0e70-4a5e-9490-5add4fda0e80\",\"type\":\"BasicTickFormatter\"},\"plot\":{\"id\":\"8050d447-863f-4727-9c61-918e5fc5d9a2\",\"subtype\":\"Figure\",\"type\":\"Plot\"},\"ticker\":{\"id\":\"520f935d-797b-42b3-9e45-0fdfcf291cb2\",\"type\":\"BasicTicker\"}},\"id\":\"d6e14cc5-2c47-4f53-8f64-9900fe6e32e0\",\"type\":\"LinearAxis\"},{\"attributes\":{\"bottom_units\":\"screen\",\"fill_alpha\":{\"value\":0.5},\"fill_color\":{\"value\":\"lightgrey\"},\"left_units\":\"screen\",\"level\":\"overlay\",\"line_alpha\":{\"value\":1.0},\"line_color\":{\"value\":\"black\"},\"line_dash\":[4,4],\"line_width\":{\"value\":2},\"plot\":null,\"render_mode\":\"css\",\"right_units\":\"screen\",\"top_units\":\"screen\"},\"id\":\"d48064d8-2452-4a2d-9ad2-2b107856f11f\",\"type\":\"BoxAnnotation\"},{\"attributes\":{},\"id\":\"264a8685-b79c-44e2-a588-0dc2bcfd2eb3\",\"type\":\"PanTool\"},{\"attributes\":{\"axis_label\":\"pressure [mb]\",\"formatter\":{\"id\":\"5a0d4339-39bd-4d7f-9492-23a7633ca6ec\",\"type\":\"BasicTickFormatter\"},\"plot\":{\"id\":\"a28ba48a-3728-4ab2-8fb3-68c5aa941006\",\"subtype\":\"Figure\",\"type\":\"Plot\"},\"ticker\":{\"id\":\"5deae6d0-f06c-44f6-8f32-d1e62e8d0459\",\"type\":\"BasicTicker\"}},\"id\":\"d620f6ad-5430-4616-92ef-863d55d282f7\",\"type\":\"LinearAxis\"},{\"attributes\":{\"callback\":null,\"column_names\":[\"x\",\"y\"],\"data\":{\"x\":{\"__ndarray__\":\"8F/Nv2Vnqr8AAAAAAAAAAAAAAAAAAAAAbMGc6tqowD/XN75jacGnP6lzJhxj76C/AAAAAAAAAAC/B/6jrjahP0kAzO8Ti4i/HtNCYUp/gT8nLgf+l/J4PxIiJeUKyZE/YadqGMRbiT8Mu8wJCh6LP2VKhR/+VIM/YRlGOjYUkD/6gLK8ukmVP5wO+lgVb5s/8qkavxvLnj/i+kr8Xv6iPycg635V+6U/vo0ZHZr2qD9LlGxena+pP0Tj3yCHrKg/zUG0fHvcpj9rMVxDxxOkPwkMrdx4aKE/jmsqKJhznT/VYo0GMjOYP4cXtvmOAJM/+XfogbDPiz+ESDcfpt+BP+fgiYDSLnA/2Lu2YYfzRb+cdpcdgBp4v15GdzFJPIe/dE+36Vhwjr/Qd78jjX6Ov9BrjqHTW4q/DTvG9Ahehr+z2c3fD36CvzMcC10UfH2/UHse4Ogqdr/F6ssl4BZuv5vVq56NSWC/N/nWn0GoNb+r5FoqMwlVP5vJpsFVY2c/ZRsloKMEcj9oMQMdvih4P7AJvB6LN34/ETGtXiESgj/qVdTI/fqEP2Tz0d/U0oc/klX40JGeij9UuNmwil2NP+d3Jb8BCpA/3IdZuy9fkT9KxVzY7qySP9XKWd+N85M/8Dt05MItlT+D5LEnAE2WP50KTgNaSJc/b5RzZBAYmD873Q/+mc+YP48zwuX1g5k/uCGgpLtJmj/AjyECOSGbP4ruBdjaCpw/A9NNiNf6nD80tp3XVO2dP0NAaoV8354/N6z1uk/Snz+EvCi+/WCgP7pJI56g2KA/\",\"dtype\":\"float64\",\"shape\":[75]},\"y\":{\"__ndarray__\":\"S/O/Q+51ND/430zAtpRIP2vylNV0PVE/QxsjCssuWD/TR4Z78fVgP+inNsRxymc/OuuBfZWvcD/u3TFA02d3P2d3VoBnaoA/CD5h5MAGhz/1pA8HUCaQP+zrCsc9p5Y/Fb7LAKjGnz/nJ9c/SEmmPwBD+fzcQq8/FOZwv9nstT8Er5Y7M8G+P0c+r3jqkcU/yK72qKZBzj+tM989FzjVPxbgmr8yxN0/cOm5AXbg5D+5ctXAf0jtP5kqGJXUifQ/DsrqDELP/D8MCAhBojQEQDItVnmnVwxAiFXNvdHgE0BSSZ2AJuIbQAMJih9jjiNA5q4l5INuK0CPVN/5RT0zQHzxRXu8/DpAOZ7PgHrtQkAg8wGBzoxKQBSTN8DMeFJA2NmQf2ZqWEAAAAAAAFxeQEQX1LfMJmJAmpmZmZkfZUBmZmZmZhhoQLzoK0gzEWtAAAAAAAAKbkCiC+pbZoFwQAhyUMLM/XFA+I2vPTN6c0AQ5KCEmfZ0QAAAAAAAc3ZA8Btfe2bvd0AIclDCzGt5QPeNrz0z6HpAEOSghJlkfEAAAAAAAOF9QKML6ltmXX9ABTkoYeZsgED7xteeGSuBQAhyUMJM6YFAAAAAAICngkD4ja89s2WDQAU5KGHmI4RA+8bXnhnihEAIclDCTKCFQAAAAACAXoZA+I2vPbMch0AFOShh5tqHQPvG154ZmYhACHJQwkxXiUAAAAAAgBWKQPeNrz2z04pABTkoYeaRi0D7xteeGVCMQAlyUMJMDo1AAAAAAIDMjUD3ja89s4qOQGZmZmbmSI9A\",\"dtype\":\"float64\",\"shape\":[75]}}},\"id\":\"f93d10ae-e8a1-4e98-9ed6-3946ecfcad44\",\"type\":\"ColumnDataSource\"},{\"attributes\":{},\"id\":\"5deae6d0-f06c-44f6-8f32-d1e62e8d0459\",\"type\":\"BasicTicker\"},{\"attributes\":{\"active_drag\":\"auto\",\"active_inspect\":\"auto\",\"active_scroll\":\"auto\",\"active_tap\":\"auto\",\"tools\":[{\"id\":\"6ca5e1e6-d3df-4424-9ff5-8c4253af39cb\",\"type\":\"PanTool\"},{\"id\":\"88ac62a4-f2ff-4592-9b42-41785f89182c\",\"type\":\"WheelZoomTool\"},{\"id\":\"84b73dc9-d9aa-4e1b-a90b-6e4ea733f00c\",\"type\":\"BoxZoomTool\"},{\"id\":\"61dd4d43-4f32-4fa4-bead-5e62e8446438\",\"type\":\"SaveTool\"},{\"id\":\"b592b187-4022-4ebe-a06d-462abb7c6a7f\",\"type\":\"ResetTool\"},{\"id\":\"455ac369-d640-4676-b77c-b84dc4e4c95a\",\"type\":\"HelpTool\"}]},\"id\":\"ab5f6d9c-22d8-41c8-91a5-e713e84607c5\",\"type\":\"Toolbar\"},{\"attributes\":{\"source\":{\"id\":\"9cd1b882-e656-40e0-ad14-9d75336c0ab0\",\"type\":\"ColumnDataSource\"}},\"id\":\"41e962b3-591c-4d8d-8e33-98433048372c\",\"type\":\"CDSView\"},{\"attributes\":{},\"id\":\"5a0d4339-39bd-4d7f-9492-23a7633ca6ec\",\"type\":\"BasicTickFormatter\"},{\"attributes\":{\"fill_alpha\":{\"value\":0.1},\"fill_color\":{\"value\":\"#1f77b4\"},\"line_alpha\":{\"value\":0.1},\"line_color\":{\"value\":\"#1f77b4\"},\"x\":{\"field\":\"x\"},\"y\":{\"field\":\"y\"}},\"id\":\"4989b9b0-70b0-4f99-bd0b-a9736a9e2318\",\"type\":\"Square\"},{\"attributes\":{},\"id\":\"6ca5e1e6-d3df-4424-9ff5-8c4253af39cb\",\"type\":\"PanTool\"},{\"attributes\":{\"line_alpha\":0.1,\"line_color\":\"#1f77b4\",\"line_dash\":[6],\"line_width\":5,\"x\":{\"field\":\"x\"},\"y\":{\"field\":\"y\"}},\"id\":\"bccf98d8-7a4e-40dc-930f-dd45b25fdc0b\",\"type\":\"Line\"},{\"attributes\":{\"overlay\":{\"id\":\"a0952840-f083-4c4a-bc7e-aac8aa8b53cf\",\"type\":\"BoxAnnotation\"}},\"id\":\"84b73dc9-d9aa-4e1b-a90b-6e4ea733f00c\",\"type\":\"BoxZoomTool\"},{\"attributes\":{\"callback\":null,\"column_names\":[\"x\",\"y\"],\"data\":{\"x\":{\"__ndarray__\":\"gcrmmYJDdz+idBjfMAZ4P+NbK9VWk3k/iRTKGW0pez84OlpZBcN8PwSNAe/9X34/xbGgUSMAgD9Tf96+C9KAP5kQ0UWdpYE/RxWkzuB6gj/21vr1kVGDP2CdoGs2KoQ/TV1O2+wEhT+2jZ6sVh6GP6fyk9TFEoo/hf3CGdkmkT+3okmeGFWWP/tVKPEj+Zs/pMBKMGYGoT8QA6X1szCkP07IYHkxnqc/wEkPljzdqj+g4p/ER+CrP1vOyR92iqo/zF9OnLhIqD88FRnAolSlP9m2pYk1RaI/cYeb+s6Rnj8Uo6SiMMyYP/iXjHiiQJM/QnVbBAPpiz9d7jXaytqBP1VvyQV5inA/6PePSIX4Or+Itgls7sB2v/NJnI2E2oa/qRA7Dl17jr8/Vsel/n6Ov6FqhYQHCIq/sg2J8PDUhb+z+snlduCBv17kSq9gKny/jcR5sLSwdL/SELm8Tf5qv6q41MtBAFq/FncmdduKCT/YM1fbllFbP85W7DratWo/hr1d6niwcz8qu6lN/MN5P6cgnJOv4X8/Gt0gaSrtgj9iZj2sBdGFPwaTIoqBrIg/o2OTrGaFiz9QNgz3tkaOP2h/5kP+f5A/7xIpyVLdkT+60v6ERCyTP39O3AkxeZQ/VwtCMkq7lT/WOsXvzNmWP1oRxupu2Zc/8g1dvumlmD9a75eVvVOZP/8JfC5kCJo/uzw0bM/Fmj9LZ/i30aWbP9FoZ+OMkpw/hKP0JYyInT9Hc/dIaYeeP/Achur4fJ8/j04KaOM+oD/2+NXF+rmgP4LKDNwAOqE/\",\"dtype\":\"float64\",\"shape\":[75]},\"y\":{\"__ndarray__\":\"GhExyth1ND/Sv8nbtpRIP2vylNV0PVE/aTum7souWD/At0SJ8fVgPw3Iuahxymc/MSNhhJWvcD/bTfBN02d3P2zb5nxnaoA/CD5h5MAGhz8NmeH1TyaQP+zrCsc9p5Y/LbKd76fGnz/bLW5ISEmmPww9YvTcQq8/JV2OstnstT8Er5Y7M8G+P0c+r3jqkcU/5h99k6ZBzj88bCIzFzjVP4enV8oyxN0//yH99nXg5D8qOpLLf0jtP5kqGJXUifQ/c9cS8kHP/D+/DpwzojQEQIEmwoanVwxA4lgXt9HgE0BSSZ2AJuIbQAMJih9jjiNA5q4l5INuK0AwTKYKRj0zQNv5fmq8/DpAaCJseHrtQkB/+zpwzoxKQM3MzMzMeFJAZmZmZmZqWEAAAAAAAFxeQM3MzMzMJmJAmpmZmZkfZUBmZmZmZhhoQDMzMzMzEWtAAAAAAAAKbkBmZmZmZoFwQM3MzMzM/XFAMzMzMzN6c0CamZmZmfZ0QAAAAAAAc3ZAZmZmZmbvd0DNzMzMzGt5QDMzMzMz6HpAmpmZmZlkfEAAAAAAAOF9QGZmZmZmXX9AZmZmZuZsgECamZmZGSuBQM3MzMxM6YFAAAAAAICngkAzMzMzs2WDQGZmZmbmI4RAmpmZmRnihEDNzMzMTKCFQAAAAACAXoZAMzMzM7Mch0BmZmZm5tqHQJqZmZkZmYhAzczMzExXiUAAAAAAgBWKQDMzMzOz04pAZmZmZuaRi0CamZmZGVCMQM3MzMxMDo1AAAAAAIDMjUAzMzMzs4qOQGZmZmbmSI9A\",\"dtype\":\"float64\",\"shape\":[75]}}},\"id\":\"9896b23f-8344-4042-9f10-e61cea5d25c5\",\"type\":\"ColumnDataSource\"},{\"attributes\":{\"source\":{\"id\":\"9896b23f-8344-4042-9f10-e61cea5d25c5\",\"type\":\"ColumnDataSource\"}},\"id\":\"1327bc19-5a0b-4df7-9761-400a97f1de91\",\"type\":\"CDSView\"},{\"attributes\":{},\"id\":\"88ac62a4-f2ff-4592-9b42-41785f89182c\",\"type\":\"WheelZoomTool\"},{\"attributes\":{\"data_source\":{\"id\":\"f71b59f4-6bce-499b-8743-974989dd0602\",\"type\":\"ColumnDataSource\"},\"glyph\":{\"id\":\"5711d90a-10d9-43c9-826a-6e6b630b5263\",\"type\":\"Line\"},\"hover_glyph\":null,\"muted_glyph\":null,\"nonselection_glyph\":{\"id\":\"dbe44b71-8e09-4cf8-9093-89811850b733\",\"type\":\"Line\"},\"selection_glyph\":null,\"view\":{\"id\":\"a3804d29-3dc2-4366-8fa0-646304d26768\",\"type\":\"CDSView\"}},\"id\":\"b10ea425-d2f7-4f33-bda7-cfcd1c77af23\",\"type\":\"GlyphRenderer\"},{\"attributes\":{\"label\":{\"value\":\"WGT igg=10 wgt_flux=2\"},\"renderers\":[{\"id\":\"b2f3db04-87dd-4643-aad3-268e9c2eb42e\",\"type\":\"GlyphRenderer\"},{\"id\":\"091495d0-58d1-44a9-9e94-c5594b423eeb\",\"type\":\"GlyphRenderer\"}]},\"id\":\"b544c0f4-7bce-45b0-a438-26b0d1bb0776\",\"type\":\"LegendItem\"},{\"attributes\":{\"fill_alpha\":{\"value\":0.7},\"fill_color\":{\"value\":\"#984ea3\"},\"line_alpha\":{\"value\":0.7},\"line_color\":{\"value\":\"#984ea3\"},\"x\":{\"field\":\"x\"},\"y\":{\"field\":\"y\"}},\"id\":\"3783e64d-3224-4bf9-919d-24ff9e765220\",\"type\":\"Square\"},{\"attributes\":{},\"id\":\"455ac369-d640-4676-b77c-b84dc4e4c95a\",\"type\":\"HelpTool\"},{\"attributes\":{\"below\":[{\"id\":\"d6e14cc5-2c47-4f53-8f64-9900fe6e32e0\",\"type\":\"LinearAxis\"}],\"left\":[{\"id\":\"54506c09-6421-4bda-b1cd-e819a5cc9e4e\",\"type\":\"LogAxis\"}],\"plot_height\":500,\"plot_width\":560,\"renderers\":[{\"id\":\"d6e14cc5-2c47-4f53-8f64-9900fe6e32e0\",\"type\":\"LinearAxis\"},{\"id\":\"53cb2e9a-901e-43cc-857a-49644131e520\",\"type\":\"Grid\"},{\"id\":\"54506c09-6421-4bda-b1cd-e819a5cc9e4e\",\"type\":\"LogAxis\"},{\"id\":\"d3eda9be-5a4c-468d-80a2-1140b7012fa5\",\"type\":\"Grid\"},{\"id\":\"a0952840-f083-4c4a-bc7e-aac8aa8b53cf\",\"type\":\"BoxAnnotation\"},{\"id\":\"3f10c4d8-1c14-4b63-800c-de430cc978a1\",\"type\":\"GlyphRenderer\"},{\"id\":\"3126858a-d178-4d7b-a132-f43a673c577f\",\"type\":\"GlyphRenderer\"},{\"id\":\"e12ac42c-a62b-45bc-ab9a-22d986c2d256\",\"type\":\"GlyphRenderer\"},{\"id\":\"b2f3db04-87dd-4643-aad3-268e9c2eb42e\",\"type\":\"GlyphRenderer\"},{\"id\":\"091495d0-58d1-44a9-9e94-c5594b423eeb\",\"type\":\"GlyphRenderer\"},{\"id\":\"fa0cd64e-b071-4aa5-af5f-d9d30160c1d0\",\"type\":\"Legend\"}],\"right\":[{\"id\":\"fa0cd64e-b071-4aa5-af5f-d9d30160c1d0\",\"type\":\"Legend\"}],\"title\":{\"id\":\"9d4ceb71-7494-4836-b8cf-6964b72d2fa0\",\"type\":\"Title\"},\"toolbar\":{\"id\":\"ab5f6d9c-22d8-41c8-91a5-e713e84607c5\",\"type\":\"Toolbar\"},\"toolbar_location\":null,\"x_range\":{\"id\":\"206cb371-058d-4122-8395-88ba27fd65a9\",\"type\":\"Range1d\"},\"x_scale\":{\"id\":\"2afbe13a-db0e-4e9c-b35f-5dc9f8cfdd8f\",\"type\":\"LinearScale\"},\"y_range\":{\"id\":\"b67da286-55e0-4790-81bb-c1aedb3adcd9\",\"type\":\"Range1d\"},\"y_scale\":{\"id\":\"a18305bd-5859-46f5-839f-482c120b60da\",\"type\":\"LogScale\"}},\"id\":\"8050d447-863f-4727-9c61-918e5fc5d9a2\",\"subtype\":\"Figure\",\"type\":\"Plot\"},{\"attributes\":{},\"id\":\"b592b187-4022-4ebe-a06d-462abb7c6a7f\",\"type\":\"ResetTool\"},{\"attributes\":{\"bottom_units\":\"screen\",\"fill_alpha\":{\"value\":0.5},\"fill_color\":{\"value\":\"lightgrey\"},\"left_units\":\"screen\",\"level\":\"overlay\",\"line_alpha\":{\"value\":1.0},\"line_color\":{\"value\":\"black\"},\"line_dash\":[4,4],\"line_width\":{\"value\":2},\"plot\":null,\"render_mode\":\"css\",\"right_units\":\"screen\",\"top_units\":\"screen\"},\"id\":\"a0952840-f083-4c4a-bc7e-aac8aa8b53cf\",\"type\":\"BoxAnnotation\"},{\"attributes\":{\"callback\":null,\"end\":0.034131018661999996,\"start\":-0.015376023862},\"id\":\"beecf1be-1e34-4bfb-bad6-07f4045a35e5\",\"type\":\"Range1d\"},{\"attributes\":{\"callback\":null,\"end\":0.01,\"start\":1020},\"id\":\"b67da286-55e0-4790-81bb-c1aedb3adcd9\",\"type\":\"Range1d\"},{\"attributes\":{\"source\":{\"id\":\"f71b59f4-6bce-499b-8743-974989dd0602\",\"type\":\"ColumnDataSource\"}},\"id\":\"a3804d29-3dc2-4366-8fa0-646304d26768\",\"type\":\"CDSView\"},{\"attributes\":{\"source\":{\"id\":\"f93d10ae-e8a1-4e98-9ed6-3946ecfcad44\",\"type\":\"ColumnDataSource\"}},\"id\":\"e50319e6-f8cd-44f7-8c1a-185a2c537fc2\",\"type\":\"CDSView\"},{\"attributes\":{\"line_alpha\":0.1,\"line_color\":\"#1f77b4\",\"line_width\":3,\"x\":{\"field\":\"x\"},\"y\":{\"field\":\"y\"}},\"id\":\"5c78f144-5f02-4993-84e0-2f11c5414cd3\",\"type\":\"Line\"},{\"attributes\":{\"plot\":null,\"text\":\"Log pressure scale\"},\"id\":\"9d4ceb71-7494-4836-b8cf-6964b72d2fa0\",\"type\":\"Title\"},{\"attributes\":{\"line_alpha\":0.6,\"line_color\":\"#984ea3\",\"line_width\":3,\"x\":{\"field\":\"x\"},\"y\":{\"field\":\"y\"}},\"id\":\"37d1ce67-290f-4417-9249-9bee993eb15e\",\"type\":\"Line\"},{\"attributes\":{\"label\":{\"value\":\"CRD\"},\"renderers\":[{\"id\":\"3126858a-d178-4d7b-a132-f43a673c577f\",\"type\":\"GlyphRenderer\"},{\"id\":\"e12ac42c-a62b-45bc-ab9a-22d986c2d256\",\"type\":\"GlyphRenderer\"}]},\"id\":\"5d212f5c-fb57-4fcb-91b7-f7153544e60f\",\"type\":\"LegendItem\"},{\"attributes\":{},\"id\":\"5888fdd2-8153-499d-980e-597139237cce\",\"type\":\"BasicTickFormatter\"},{\"attributes\":{\"ticker\":null},\"id\":\"39c72af5-9ecc-479a-85ef-eaffd3f11d53\",\"type\":\"LogTickFormatter\"},{\"attributes\":{\"children\":[{\"id\":\"c2b08a9d-bb20-4f08-aa5d-4d83669a6105\",\"type\":\"Row\"}]},\"id\":\"e0ef2282-1094-4ea2-abef-ad71f61566ee\",\"type\":\"Column\"},{\"attributes\":{\"source\":{\"id\":\"c3ad2652-62aa-4828-9b7d-69747f3640dc\",\"type\":\"ColumnDataSource\"}},\"id\":\"acf5525d-3d6f-45fa-aacf-fe5d6033e6f0\",\"type\":\"CDSView\"},{\"attributes\":{\"line_alpha\":0.1,\"line_color\":\"#1f77b4\",\"line_dash\":[6],\"line_width\":5,\"x\":{\"field\":\"x\"},\"y\":{\"field\":\"y\"}},\"id\":\"2d17c5a9-6b01-4abc-ae78-f8a45368af6b\",\"type\":\"Line\"},{\"attributes\":{\"callback\":null,\"column_names\":[\"x\",\"y\"],\"data\":{\"x\":{\"__ndarray__\":\"gcrmmYJDdz+idBjfMAZ4P+NbK9VWk3k/iRTKGW0pez84OlpZBcN8PwSNAe/9X34/xbGgUSMAgD9Tf96+C9KAP5kQ0UWdpYE/RxWkzuB6gj/21vr1kVGDP2CdoGs2KoQ/TV1O2+wEhT+2jZ6sVh6GP6fyk9TFEoo/hf3CGdkmkT+3okmeGFWWP/tVKPEj+Zs/pMBKMGYGoT8QA6X1szCkP07IYHkxnqc/wEkPljzdqj+g4p/ER+CrP1vOyR92iqo/zF9OnLhIqD88FRnAolSlP9m2pYk1RaI/cYeb+s6Rnj8Uo6SiMMyYP/iXjHiiQJM/QnVbBAPpiz9d7jXaytqBP1VvyQV5inA/6PePSIX4Or+Itgls7sB2v/NJnI2E2oa/qRA7Dl17jr8/Vsel/n6Ov6FqhYQHCIq/sg2J8PDUhb+z+snlduCBv17kSq9gKny/jcR5sLSwdL/SELm8Tf5qv6q41MtBAFq/FncmdduKCT/YM1fbllFbP85W7DratWo/hr1d6niwcz8qu6lN/MN5P6cgnJOv4X8/Gt0gaSrtgj9iZj2sBdGFPwaTIoqBrIg/o2OTrGaFiz9QNgz3tkaOP2h/5kP+f5A/7xIpyVLdkT+60v6ERCyTP39O3AkxeZQ/VwtCMkq7lT/WOsXvzNmWP1oRxupu2Zc/8g1dvumlmD9a75eVvVOZP/8JfC5kCJo/uzw0bM/Fmj9LZ/i30aWbP9FoZ+OMkpw/hKP0JYyInT9Hc/dIaYeeP/Achur4fJ8/j04KaOM+oD/2+NXF+rmgP4LKDNwAOqE/\",\"dtype\":\"float64\",\"shape\":[75]},\"y\":{\"__ndarray__\":\"GhExyth1ND/Sv8nbtpRIP2vylNV0PVE/aTum7souWD/At0SJ8fVgPw3Iuahxymc/MSNhhJWvcD/bTfBN02d3P2zb5nxnaoA/CD5h5MAGhz8NmeH1TyaQP+zrCsc9p5Y/LbKd76fGnz/bLW5ISEmmPww9YvTcQq8/JV2OstnstT8Er5Y7M8G+P0c+r3jqkcU/5h99k6ZBzj88bCIzFzjVP4enV8oyxN0//yH99nXg5D8qOpLLf0jtP5kqGJXUifQ/c9cS8kHP/D+/DpwzojQEQIEmwoanVwxA4lgXt9HgE0BSSZ2AJuIbQAMJih9jjiNA5q4l5INuK0AwTKYKRj0zQNv5fmq8/DpAaCJseHrtQkB/+zpwzoxKQM3MzMzMeFJAZmZmZmZqWEAAAAAAAFxeQM3MzMzMJmJAmpmZmZkfZUBmZmZmZhhoQDMzMzMzEWtAAAAAAAAKbkBmZmZmZoFwQM3MzMzM/XFAMzMzMzN6c0CamZmZmfZ0QAAAAAAAc3ZAZmZmZmbvd0DNzMzMzGt5QDMzMzMz6HpAmpmZmZlkfEAAAAAAAOF9QGZmZmZmXX9AZmZmZuZsgECamZmZGSuBQM3MzMxM6YFAAAAAAICngkAzMzMzs2WDQGZmZmbmI4RAmpmZmRnihEDNzMzMTKCFQAAAAACAXoZAMzMzM7Mch0BmZmZm5tqHQJqZmZkZmYhAzczMzExXiUAAAAAAgBWKQDMzMzOz04pAZmZmZuaRi0CamZmZGVCMQM3MzMxMDo1AAAAAAIDMjUAzMzMzs4qOQGZmZmbmSI9A\",\"dtype\":\"float64\",\"shape\":[75]}}},\"id\":\"9cd1b882-e656-40e0-ad14-9d75336c0ab0\",\"type\":\"ColumnDataSource\"},{\"attributes\":{\"data_source\":{\"id\":\"9896b23f-8344-4042-9f10-e61cea5d25c5\",\"type\":\"ColumnDataSource\"},\"glyph\":{\"id\":\"37d1ce67-290f-4417-9249-9bee993eb15e\",\"type\":\"Line\"},\"hover_glyph\":null,\"muted_glyph\":null,\"nonselection_glyph\":{\"id\":\"5c78f144-5f02-4993-84e0-2f11c5414cd3\",\"type\":\"Line\"},\"selection_glyph\":null,\"view\":{\"id\":\"1327bc19-5a0b-4df7-9761-400a97f1de91\",\"type\":\"CDSView\"}},\"id\":\"449ad7d1-d8f2-4a77-af81-5feb1d4f7717\",\"type\":\"GlyphRenderer\"},{\"attributes\":{\"data_source\":{\"id\":\"c3eb4298-d505-4402-aec2-a36cf4ddd347\",\"type\":\"ColumnDataSource\"},\"glyph\":{\"id\":\"f3871c75-984e-4ee8-a751-57b0ccff5d66\",\"type\":\"Line\"},\"hover_glyph\":null,\"muted_glyph\":null,\"nonselection_glyph\":{\"id\":\"2d17c5a9-6b01-4abc-ae78-f8a45368af6b\",\"type\":\"Line\"},\"selection_glyph\":null,\"view\":{\"id\":\"00479c0c-ba52-4a49-a876-f7fa50d0cb70\",\"type\":\"CDSView\"}},\"id\":\"3f10c4d8-1c14-4b63-800c-de430cc978a1\",\"type\":\"GlyphRenderer\"},{\"attributes\":{\"line_alpha\":0.6,\"line_color\":\"#e41a1c\",\"line_dash\":[6],\"line_width\":5,\"x\":{\"field\":\"x\"},\"y\":{\"field\":\"y\"}},\"id\":\"f3871c75-984e-4ee8-a751-57b0ccff5d66\",\"type\":\"Line\"},{\"attributes\":{},\"id\":\"a18305bd-5859-46f5-839f-482c120b60da\",\"type\":\"LogScale\"},{\"attributes\":{\"line_alpha\":0.6,\"line_color\":\"#e41a1c\",\"line_dash\":[6],\"line_width\":5,\"x\":{\"field\":\"x\"},\"y\":{\"field\":\"y\"}},\"id\":\"30b9e8da-b018-4737-b35d-6c3e3914b2e5\",\"type\":\"Line\"},{\"attributes\":{\"source\":{\"id\":\"c3eb4298-d505-4402-aec2-a36cf4ddd347\",\"type\":\"ColumnDataSource\"}},\"id\":\"00479c0c-ba52-4a49-a876-f7fa50d0cb70\",\"type\":\"CDSView\"},{\"attributes\":{},\"id\":\"61dd4d43-4f32-4fa4-bead-5e62e8446438\",\"type\":\"SaveTool\"},{\"attributes\":{\"children\":[{\"id\":\"a28ba48a-3728-4ab2-8fb3-68c5aa941006\",\"subtype\":\"Figure\",\"type\":\"Plot\"},{\"id\":\"8050d447-863f-4727-9c61-918e5fc5d9a2\",\"subtype\":\"Figure\",\"type\":\"Plot\"}]},\"id\":\"c2b08a9d-bb20-4f08-aa5d-4d83669a6105\",\"type\":\"Row\"},{\"attributes\":{\"data_source\":{\"id\":\"9cd1b882-e656-40e0-ad14-9d75336c0ab0\",\"type\":\"ColumnDataSource\"},\"glyph\":{\"id\":\"3783e64d-3224-4bf9-919d-24ff9e765220\",\"type\":\"Square\"},\"hover_glyph\":null,\"muted_glyph\":null,\"nonselection_glyph\":{\"id\":\"4989b9b0-70b0-4f99-bd0b-a9736a9e2318\",\"type\":\"Square\"},\"selection_glyph\":null,\"view\":{\"id\":\"41e962b3-591c-4d8d-8e33-98433048372c\",\"type\":\"CDSView\"}},\"id\":\"81eb7920-39d2-4c20-a00d-ae6d367a417f\",\"type\":\"GlyphRenderer\"},{\"attributes\":{\"num_minor_ticks\":10},\"id\":\"a8f7593b-b788-447d-baa8-c9bc713efb8c\",\"type\":\"LogTicker\"}],\"root_ids\":[\"d9953f36-5f16-4666-8a90-933f3d969f4d\"]},\"title\":\"Bokeh Application\",\"version\":\"0.12.14\"}};\n",
       "  var render_items = [{\"docid\":\"f89a3d61-89a5-40e1-a96d-7693044d6501\",\"elementid\":\"deacd1c2-5c98-4dab-b5cd-157ba3a0f12e\",\"modelid\":\"d9953f36-5f16-4666-8a90-933f3d969f4d\"}];\n",
       "  root.Bokeh.embed.embed_items_notebook(docs_json, render_items);\n",
       "\n",
       "  }\n",
       "  if (root.Bokeh !== undefined) {\n",
       "    embed_document(root);\n",
       "  } else {\n",
       "    var attempts = 0;\n",
       "    var timer = setInterval(function(root) {\n",
       "      if (root.Bokeh !== undefined) {\n",
       "        embed_document(root);\n",
       "        clearInterval(timer);\n",
       "      }\n",
       "      attempts++;\n",
       "      if (attempts > 100) {\n",
       "        console.log(\"Bokeh: ERROR: Unable to run BokehJS code because BokehJS library is missing\")\n",
       "        clearInterval(timer);\n",
       "      }\n",
       "    }, 10, root)\n",
       "  }\n",
       "})(window);"
      ],
      "application/vnd.bokehjs_exec.v0+json": ""
     },
     "metadata": {
      "application/vnd.bokehjs_exec.v0+json": {
       "id": "d9953f36-5f16-4666-8a90-933f3d969f4d"
      }
     },
     "output_type": "display_data"
    },
    {
     "name": "stdout",
     "output_type": "stream",
     "text": [
      "FIGURE. Cooling rate profiles.\n"
     ]
    },
    {
     "data": {
      "text/html": [
       "<a id=\"Flux_Comparison\"></a>"
      ],
      "text/plain": [
       "<IPython.core.display.HTML object>"
      ]
     },
     "metadata": {},
     "output_type": "display_data"
    },
    {
     "data": {
      "text/markdown": [
       "# Flux Comparison"
      ],
      "text/plain": [
       "<IPython.core.display.Markdown object>"
      ]
     },
     "metadata": {},
     "output_type": "display_data"
    },
    {
     "data": {
      "text/html": [
       "<div>\n",
       "<style>\n",
       "    .dataframe thead tr:only-child th {\n",
       "        text-align: right;\n",
       "    }\n",
       "\n",
       "    .dataframe thead th {\n",
       "        text-align: left;\n",
       "    }\n",
       "\n",
       "    .dataframe tbody tr th {\n",
       "        vertical-align: top;\n",
       "    }\n",
       "</style>\n",
       "<table border=\"1\" class=\"dataframe\">\n",
       "  <thead>\n",
       "    <tr style=\"text-align: right;\">\n",
       "      <th></th>\n",
       "      <th></th>\n",
       "      <th>flug</th>\n",
       "      <th>fldg</th>\n",
       "      <th>fnetg</th>\n",
       "    </tr>\n",
       "    <tr>\n",
       "      <th>pressure</th>\n",
       "      <th>level</th>\n",
       "      <th></th>\n",
       "      <th></th>\n",
       "      <th></th>\n",
       "    </tr>\n",
       "  </thead>\n",
       "  <tbody>\n",
       "    <tr>\n",
       "      <th>0.0000</th>\n",
       "      <th>1</th>\n",
       "      <td>-37.080242</td>\n",
       "      <td>0.000000</td>\n",
       "      <td>-37.080242</td>\n",
       "    </tr>\n",
       "    <tr>\n",
       "      <th>1.0685</th>\n",
       "      <th>24</th>\n",
       "      <td>-37.079405</td>\n",
       "      <td>0.004616</td>\n",
       "      <td>-37.074788</td>\n",
       "    </tr>\n",
       "    <tr>\n",
       "      <th>1013.0000</th>\n",
       "      <th>76</th>\n",
       "      <td>-38.491734</td>\n",
       "      <td>2.798733</td>\n",
       "      <td>-35.693002</td>\n",
       "    </tr>\n",
       "  </tbody>\n",
       "</table>\n",
       "</div>"
      ],
      "text/plain": [
       "                      flug      fldg      fnetg\n",
       "pressure  level                                \n",
       "0.0000    1     -37.080242  0.000000 -37.080242\n",
       "1.0685    24    -37.079405  0.004616 -37.074788\n",
       "1013.0000 76    -38.491734  2.798733 -35.693002"
      ]
     },
     "metadata": {},
     "output_type": "display_data"
    },
    {
     "name": "stdout",
     "output_type": "stream",
     "text": [
      "Table. Fluxes. WGT igg=10 wgt_flux=1\n"
     ]
    },
    {
     "data": {
      "text/html": [
       "<div>\n",
       "<style>\n",
       "    .dataframe thead tr:only-child th {\n",
       "        text-align: right;\n",
       "    }\n",
       "\n",
       "    .dataframe thead th {\n",
       "        text-align: left;\n",
       "    }\n",
       "\n",
       "    .dataframe tbody tr th {\n",
       "        vertical-align: top;\n",
       "    }\n",
       "</style>\n",
       "<table border=\"1\" class=\"dataframe\">\n",
       "  <thead>\n",
       "    <tr style=\"text-align: right;\">\n",
       "      <th></th>\n",
       "      <th></th>\n",
       "      <th>flug</th>\n",
       "      <th>fldg</th>\n",
       "      <th>fnetg</th>\n",
       "    </tr>\n",
       "    <tr>\n",
       "      <th>pressure</th>\n",
       "      <th>level</th>\n",
       "      <th></th>\n",
       "      <th></th>\n",
       "      <th></th>\n",
       "    </tr>\n",
       "  </thead>\n",
       "  <tbody>\n",
       "    <tr>\n",
       "      <th>0.0000</th>\n",
       "      <th>1</th>\n",
       "      <td>-37.083828</td>\n",
       "      <td>0.000000</td>\n",
       "      <td>-37.083828</td>\n",
       "    </tr>\n",
       "    <tr>\n",
       "      <th>1.0685</th>\n",
       "      <th>24</th>\n",
       "      <td>-37.083479</td>\n",
       "      <td>0.004824</td>\n",
       "      <td>-37.078655</td>\n",
       "    </tr>\n",
       "    <tr>\n",
       "      <th>1013.0000</th>\n",
       "      <th>76</th>\n",
       "      <td>-38.491734</td>\n",
       "      <td>2.699166</td>\n",
       "      <td>-35.792568</td>\n",
       "    </tr>\n",
       "  </tbody>\n",
       "</table>\n",
       "</div>"
      ],
      "text/plain": [
       "                      flug      fldg      fnetg\n",
       "pressure  level                                \n",
       "0.0000    1     -37.083828  0.000000 -37.083828\n",
       "1.0685    24    -37.083479  0.004824 -37.078655\n",
       "1013.0000 76    -38.491734  2.699166 -35.792568"
      ]
     },
     "metadata": {},
     "output_type": "display_data"
    },
    {
     "name": "stdout",
     "output_type": "stream",
     "text": [
      "Table. Fluxes. CRD\n"
     ]
    },
    {
     "data": {
      "text/html": [
       "<div>\n",
       "<style>\n",
       "    .dataframe thead tr:only-child th {\n",
       "        text-align: right;\n",
       "    }\n",
       "\n",
       "    .dataframe thead th {\n",
       "        text-align: left;\n",
       "    }\n",
       "\n",
       "    .dataframe tbody tr th {\n",
       "        vertical-align: top;\n",
       "    }\n",
       "</style>\n",
       "<table border=\"1\" class=\"dataframe\">\n",
       "  <thead>\n",
       "    <tr style=\"text-align: right;\">\n",
       "      <th></th>\n",
       "      <th></th>\n",
       "      <th>flug</th>\n",
       "      <th>fldg</th>\n",
       "      <th>fnetg</th>\n",
       "    </tr>\n",
       "    <tr>\n",
       "      <th>pressure</th>\n",
       "      <th>level</th>\n",
       "      <th></th>\n",
       "      <th></th>\n",
       "      <th></th>\n",
       "    </tr>\n",
       "  </thead>\n",
       "  <tbody>\n",
       "    <tr>\n",
       "      <th>1.000000e-08</th>\n",
       "      <th>1</th>\n",
       "      <td>-37.130428</td>\n",
       "      <td>0.000002</td>\n",
       "      <td>-37.130424</td>\n",
       "    </tr>\n",
       "    <tr>\n",
       "      <th>1.068500e+00</th>\n",
       "      <th>24</th>\n",
       "      <td>-37.129559</td>\n",
       "      <td>0.004208</td>\n",
       "      <td>-37.125351</td>\n",
       "    </tr>\n",
       "    <tr>\n",
       "      <th>1.013000e+03</th>\n",
       "      <th>76</th>\n",
       "      <td>-38.491730</td>\n",
       "      <td>2.697161</td>\n",
       "      <td>-35.794567</td>\n",
       "    </tr>\n",
       "  </tbody>\n",
       "</table>\n",
       "</div>"
      ],
      "text/plain": [
       "                         flug      fldg      fnetg\n",
       "pressure     level                                \n",
       "1.000000e-08 1     -37.130428  0.000002 -37.130424\n",
       "1.068500e+00 24    -37.129559  0.004208 -37.125351\n",
       "1.013000e+03 76    -38.491730  2.697161 -35.794567"
      ]
     },
     "metadata": {},
     "output_type": "display_data"
    },
    {
     "name": "stdout",
     "output_type": "stream",
     "text": [
      "Table. Fluxes. CLIRAD\n"
     ]
    },
    {
     "data": {
      "text/html": [
       "<div>\n",
       "<style>\n",
       "    .dataframe thead tr:only-child th {\n",
       "        text-align: right;\n",
       "    }\n",
       "\n",
       "    .dataframe thead th {\n",
       "        text-align: left;\n",
       "    }\n",
       "\n",
       "    .dataframe tbody tr th {\n",
       "        vertical-align: top;\n",
       "    }\n",
       "</style>\n",
       "<table border=\"1\" class=\"dataframe\">\n",
       "  <thead>\n",
       "    <tr style=\"text-align: right;\">\n",
       "      <th></th>\n",
       "      <th></th>\n",
       "      <th>flug</th>\n",
       "      <th>fldg</th>\n",
       "      <th>fnetg</th>\n",
       "    </tr>\n",
       "    <tr>\n",
       "      <th>pressure</th>\n",
       "      <th>level</th>\n",
       "      <th></th>\n",
       "      <th></th>\n",
       "      <th></th>\n",
       "    </tr>\n",
       "  </thead>\n",
       "  <tbody>\n",
       "    <tr>\n",
       "      <th>0.0000</th>\n",
       "      <th>1</th>\n",
       "      <td>-3.585590e-03</td>\n",
       "      <td>0.000000</td>\n",
       "      <td>-0.003586</td>\n",
       "    </tr>\n",
       "    <tr>\n",
       "      <th>1.0685</th>\n",
       "      <th>24</th>\n",
       "      <td>-4.073800e-03</td>\n",
       "      <td>0.000207</td>\n",
       "      <td>-0.003867</td>\n",
       "    </tr>\n",
       "    <tr>\n",
       "      <th>1013.0000</th>\n",
       "      <th>76</th>\n",
       "      <td>4.000000e-08</td>\n",
       "      <td>-0.099567</td>\n",
       "      <td>-0.099566</td>\n",
       "    </tr>\n",
       "  </tbody>\n",
       "</table>\n",
       "</div>"
      ],
      "text/plain": [
       "                         flug      fldg     fnetg\n",
       "pressure  level                                  \n",
       "0.0000    1     -3.585590e-03  0.000000 -0.003586\n",
       "1.0685    24    -4.073800e-03  0.000207 -0.003867\n",
       "1013.0000 76     4.000000e-08 -0.099567 -0.099566"
      ]
     },
     "metadata": {},
     "output_type": "display_data"
    },
    {
     "name": "stdout",
     "output_type": "stream",
     "text": [
      "Table. Fluxes. (CRD) - (WGT igg=10 wgt_flux=1)\n"
     ]
    },
    {
     "data": {
      "text/html": [
       "<div>\n",
       "<style>\n",
       "    .dataframe thead tr:only-child th {\n",
       "        text-align: right;\n",
       "    }\n",
       "\n",
       "    .dataframe thead th {\n",
       "        text-align: left;\n",
       "    }\n",
       "\n",
       "    .dataframe tbody tr th {\n",
       "        vertical-align: top;\n",
       "    }\n",
       "</style>\n",
       "<table border=\"1\" class=\"dataframe\">\n",
       "  <thead>\n",
       "    <tr style=\"text-align: right;\">\n",
       "      <th></th>\n",
       "      <th></th>\n",
       "      <th>flug</th>\n",
       "      <th>fldg</th>\n",
       "      <th>fnetg</th>\n",
       "    </tr>\n",
       "    <tr>\n",
       "      <th>pressure</th>\n",
       "      <th>level</th>\n",
       "      <th></th>\n",
       "      <th></th>\n",
       "      <th></th>\n",
       "    </tr>\n",
       "  </thead>\n",
       "  <tbody>\n",
       "    <tr>\n",
       "      <th>0.0000</th>\n",
       "      <th>1</th>\n",
       "      <td>-0.050186</td>\n",
       "      <td>0.000002</td>\n",
       "      <td>-0.050182</td>\n",
       "    </tr>\n",
       "    <tr>\n",
       "      <th>1.0685</th>\n",
       "      <th>24</th>\n",
       "      <td>-0.050154</td>\n",
       "      <td>-0.000409</td>\n",
       "      <td>-0.050563</td>\n",
       "    </tr>\n",
       "    <tr>\n",
       "      <th>1013.0000</th>\n",
       "      <th>76</th>\n",
       "      <td>0.000004</td>\n",
       "      <td>-0.101572</td>\n",
       "      <td>-0.101565</td>\n",
       "    </tr>\n",
       "  </tbody>\n",
       "</table>\n",
       "</div>"
      ],
      "text/plain": [
       "                     flug      fldg     fnetg\n",
       "pressure  level                              \n",
       "0.0000    1     -0.050186  0.000002 -0.050182\n",
       "1.0685    24    -0.050154 -0.000409 -0.050563\n",
       "1013.0000 76     0.000004 -0.101572 -0.101565"
      ]
     },
     "metadata": {},
     "output_type": "display_data"
    },
    {
     "name": "stdout",
     "output_type": "stream",
     "text": [
      "Table. Fluxes. (CLIRAD) - (WGT igg=10 wgt_flux=1)\n"
     ]
    },
    {
     "data": {
      "text/html": [
       "<a id=\"Best-fit_Parameters\"></a>"
      ],
      "text/plain": [
       "<IPython.core.display.HTML object>"
      ]
     },
     "metadata": {},
     "output_type": "display_data"
    },
    {
     "data": {
      "text/markdown": [
       "# Best-fit Parameters"
      ],
      "text/plain": [
       "<IPython.core.display.Markdown object>"
      ]
     },
     "metadata": {},
     "output_type": "display_data"
    },
    {
     "name": "stdout",
     "output_type": "stream",
     "text": [
      "Best-fit values for each (gas, band)\n",
      "------------------------------------\n",
      "o n2o band3a\n",
      "  atmpro = mls\n",
      "  band = 3a\n",
      "  commitnumber = 5014a19\n",
      "  conc = 3.2e-07\n",
      "  dv = 0.01\n",
      "  klin = 2.22e-20\n",
      "  molecule = n2o\n",
      "  ng_adju = [0, 0]\n",
      "  ng_refs = [1, 2]\n",
      "  nv = 100\n",
      "  option_compute_btable = 0\n",
      "  option_compute_ktable = 1\n",
      "  option_wgt_flux = 1\n",
      "  option_wgt_k = 1\n",
      "  ref_pts = [(1, 250), (500, 250)]\n",
      "  tsfc = 294\n",
      "  vmax = 620\n",
      "  vmin = 540\n",
      "  w_diffuse = [(1.8,), (1.66, 1.8)]\n",
      "  wgt = [(0.9,), (0.5, 0.95)]\n"
     ]
    }
   ],
   "source": [
    "script()"
   ]
  },
  {
   "cell_type": "code",
   "execution_count": 13,
   "metadata": {
    "collapsed": true
   },
   "outputs": [
    {
     "data": {
      "text/html": [
       "<script>\n",
       "code_show=true; \n",
       "function code_toggle() {\n",
       " if (code_show){\n",
       " $('div.input').hide();\n",
       " } else {\n",
       " $('div.input').show();\n",
       " }\n",
       " code_show = !code_show\n",
       "} \n",
       "$( document ).ready(code_toggle);\n",
       "</script>\n",
       "<form action=\"javascript:code_toggle()\"><input type=\"submit\" value=\"Click here to toggle on/off the raw code.\"></form>"
      ],
      "text/plain": [
       "<IPython.core.display.HTML object>"
      ]
     },
     "execution_count": 13,
     "metadata": {},
     "output_type": "execute_result"
    }
   ],
   "source": [
    "display.HTML('''<script>\n",
    "code_show=true; \n",
    "function code_toggle() {\n",
    " if (code_show){\n",
    " $('div.input').hide();\n",
    " } else {\n",
    " $('div.input').show();\n",
    " }\n",
    " code_show = !code_show\n",
    "} \n",
    "$( document ).ready(code_toggle);\n",
    "</script>\n",
    "<form action=\"javascript:code_toggle()\"><input type=\"submit\" value=\"Click here to toggle on/off the raw code.\"></form>''')"
   ]
  }
 ],
 "metadata": {
  "kernelspec": {
   "display_name": "Python 3",
   "language": "python",
   "name": "python3"
  },
  "language_info": {
   "codemirror_mode": {
    "name": "ipython",
    "version": 3
   },
   "file_extension": ".py",
   "mimetype": "text/x-python",
   "name": "python",
   "nbconvert_exporter": "python",
   "pygments_lexer": "ipython3",
   "version": "3.6.1"
  }
 },
 "nbformat": 4,
 "nbformat_minor": 2
}
