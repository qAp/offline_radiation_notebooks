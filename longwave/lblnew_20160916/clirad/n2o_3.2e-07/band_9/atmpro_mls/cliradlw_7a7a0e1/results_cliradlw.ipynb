{
 "cells": [
  {
   "cell_type": "code",
   "execution_count": 1,
   "metadata": {
    "collapsed": true
   },
   "outputs": [],
   "source": [
    "%matplotlib inline\n",
    "import os\n",
    "import re\n",
    "import io\n",
    "import itertools\n",
    "import pprint\n",
    "\n",
    "from bokeh.io import output_notebook, show\n",
    "from bokeh.layouts import gridplot\n",
    "from bokeh.plotting import figure\n",
    "from bokeh.models import Range1d, Legend\n",
    "from bokeh.palettes import all_palettes\n",
    "\n",
    "import matplotlib\n",
    "import matplotlib.pyplot as plt\n",
    "import numpy as np\n",
    "import pandas as pd\n",
    "import xarray as xr\n",
    "\n",
    "import climatools.lblnew.bestfit_params as bestfits\n",
    "from climatools.lblnew import setup_bestfit, setup_overlap\n",
    "import climatools.lblnew.pipeline as pipe_lblnew\n",
    "import climatools.cliradlw.setup as setup_cliradlw\n",
    "import climatools.cliradlw.pipeline as pipe_cliradlw\n",
    "\n",
    "import climatools.html.html as climahtml\n",
    "from climatools.lblnew.dataio import *\n",
    "from climatools.plot.plot import *\n",
    "\n",
    "\n",
    "import IPython.display as display"
   ]
  },
  {
   "cell_type": "code",
   "execution_count": 2,
   "metadata": {
    "collapsed": true
   },
   "outputs": [],
   "source": [
    "%run param.py"
   ]
  },
  {
   "cell_type": "code",
   "execution_count": 3,
   "metadata": {
    "collapsed": true
   },
   "outputs": [],
   "source": [
    "def load_output_file(path_csv):\n",
    "    '''\n",
    "    Load lblnew output .csv file to xarray.Dataset\n",
    "    \n",
    "    Parameters\n",
    "    ----------\n",
    "    path_csv: str\n",
    "              Path to the .csv file to be loaded.\n",
    "    ds: xarray.Dataset\n",
    "        Data in the input file in the form of an xarray.Dataset.\n",
    "    '''\n",
    "    toindex = ['band', 'pressure', 'igg', 'g']    \n",
    "    df = pd.read_csv(path_csv, sep=r'\\s+')\n",
    "    df = df.set_index([i for i in toindex if i in df.columns])\n",
    "    df = df.rename(columns={'sfu': 'flug',\n",
    "                            'sfd': 'fldg',\n",
    "                            'fnet': 'fnetg',\n",
    "                            'coolr': 'coolrg'})\n",
    "    ds = xr.Dataset.from_dataframe(df)\n",
    "\n",
    "    for l in ('level', 'layer'):\n",
    "        if l in ds.data_vars:\n",
    "            if len(ds[l].dims) > 1:\n",
    "                surface = {d: 0 for d in ds.dims if d != 'pressure'}\n",
    "                coord_level = ds[l][surface]\n",
    "                ds.coords[l] = ('pressure', coord_level)\n",
    "            else:\n",
    "                ds.coords[l] = ('pressure', ds[l])\n",
    "    \n",
    "    return ds"
   ]
  },
  {
   "cell_type": "code",
   "execution_count": 4,
   "metadata": {
    "collapsed": true
   },
   "outputs": [],
   "source": [
    "def lblnew_setup(param=None):\n",
    "    if 'ng_refs' in param:\n",
    "        return {'setup': setup_bestfit,\n",
    "                'fname_flux_crd': 'output_flux.dat',\n",
    "                'fname_cool_crd': 'output_coolr.dat',\n",
    "                'fname_flux_wgt': 'output_wfluxg.dat',\n",
    "                'fname_cool_wgt': 'output_wcoolrg.dat'}\n",
    "    else:\n",
    "        return {'setup': setup_overlap,\n",
    "                'fname_flux_crd': 'output_flux.dat',\n",
    "                'fname_cool_crd': 'output_coolr.dat',\n",
    "                'fname_flux_wgt': 'output_wflux.dat',\n",
    "                'fname_cool_wgt': 'output_wcoolr.dat'}\n",
    "\n",
    "    \n",
    "def load_lblnew_data(param):\n",
    "    \n",
    "    fname_dsname = [('fname_flux_crd', 'ds_flux_crd'),\n",
    "                    ('fname_cool_crd', 'ds_cool_crd'),\n",
    "                    ('fname_flux_wgt', 'ds_flux_wgt'),\n",
    "                    ('fname_cool_wgt', 'ds_cool_wgt')]\n",
    "    \n",
    "    d = lblnew_setup(param)\n",
    "    dir_fortran = pipe_lblnew.get_dir_case(param, setup=d['setup'])\n",
    "    \n",
    "    data_dict = {}\n",
    "    for fname, dsname in fname_dsname:\n",
    "        fpath = os.path.join(dir_fortran, d[fname])\n",
    "        data_dict[dsname] = load_output_file(fpath)\n",
    "    return data_dict\n",
    "    \n",
    "\n",
    "    \n",
    "    "
   ]
  },
  {
   "cell_type": "code",
   "execution_count": 5,
   "metadata": {
    "collapsed": true
   },
   "outputs": [],
   "source": [
    "d = load_lblnew_data(PARAM_LBLNEW)\n",
    "\n",
    "DS_FLUX_CRD = d['ds_flux_crd']\n",
    "DS_COOL_CRD = d['ds_cool_crd']\n",
    "DS_FLUX_WGT = d['ds_flux_wgt']\n",
    "DS_COOL_WGT = d['ds_cool_wgt']"
   ]
  },
  {
   "cell_type": "code",
   "execution_count": 6,
   "metadata": {
    "collapsed": true
   },
   "outputs": [],
   "source": [
    "DIR_FORTRAN = pipe_cliradlw.get_fortran_dir(PARAM, \n",
    "                                            setup=setup_cliradlw)\n",
    "\n",
    "PATH_FLUX = os.path.join(DIR_FORTRAN, 'output_flux.dat')\n",
    "PATH_COOL = os.path.join(DIR_FORTRAN, 'output_coolr.dat')\n",
    "\n",
    "DS_FLUX = load_output_file(PATH_FLUX)\n",
    "DS_COOL = load_output_file(PATH_COOL)"
   ]
  },
  {
   "cell_type": "code",
   "execution_count": 7,
   "metadata": {},
   "outputs": [
    {
     "data": {
      "text/html": [
       "\n",
       "    <div class=\"bk-root\">\n",
       "        <a href=\"https://bokeh.pydata.org\" target=\"_blank\" class=\"bk-logo bk-logo-small bk-logo-notebook\"></a>\n",
       "        <span id=\"7cf70ad0-0dc7-446e-aae9-3ecd1eb04107\">Loading BokehJS ...</span>\n",
       "    </div>"
      ]
     },
     "metadata": {},
     "output_type": "display_data"
    },
    {
     "data": {
      "application/javascript": [
       "\n",
       "(function(root) {\n",
       "  function now() {\n",
       "    return new Date();\n",
       "  }\n",
       "\n",
       "  var force = true;\n",
       "\n",
       "  if (typeof (root._bokeh_onload_callbacks) === \"undefined\" || force === true) {\n",
       "    root._bokeh_onload_callbacks = [];\n",
       "    root._bokeh_is_loading = undefined;\n",
       "  }\n",
       "\n",
       "  var JS_MIME_TYPE = 'application/javascript';\n",
       "  var HTML_MIME_TYPE = 'text/html';\n",
       "  var EXEC_MIME_TYPE = 'application/vnd.bokehjs_exec.v0+json';\n",
       "  var CLASS_NAME = 'output_bokeh rendered_html';\n",
       "\n",
       "  /**\n",
       "   * Render data to the DOM node\n",
       "   */\n",
       "  function render(props, node) {\n",
       "    var script = document.createElement(\"script\");\n",
       "    node.appendChild(script);\n",
       "  }\n",
       "\n",
       "  /**\n",
       "   * Handle when an output is cleared or removed\n",
       "   */\n",
       "  function handleClearOutput(event, handle) {\n",
       "    var cell = handle.cell;\n",
       "\n",
       "    var id = cell.output_area._bokeh_element_id;\n",
       "    var server_id = cell.output_area._bokeh_server_id;\n",
       "    // Clean up Bokeh references\n",
       "    if (id !== undefined) {\n",
       "      Bokeh.index[id].model.document.clear();\n",
       "      delete Bokeh.index[id];\n",
       "    }\n",
       "\n",
       "    if (server_id !== undefined) {\n",
       "      // Clean up Bokeh references\n",
       "      var cmd = \"from bokeh.io.state import curstate; print(curstate().uuid_to_server['\" + server_id + \"'].get_sessions()[0].document.roots[0]._id)\";\n",
       "      cell.notebook.kernel.execute(cmd, {\n",
       "        iopub: {\n",
       "          output: function(msg) {\n",
       "            var element_id = msg.content.text.trim();\n",
       "            Bokeh.index[element_id].model.document.clear();\n",
       "            delete Bokeh.index[element_id];\n",
       "          }\n",
       "        }\n",
       "      });\n",
       "      // Destroy server and session\n",
       "      var cmd = \"import bokeh.io.notebook as ion; ion.destroy_server('\" + server_id + \"')\";\n",
       "      cell.notebook.kernel.execute(cmd);\n",
       "    }\n",
       "  }\n",
       "\n",
       "  /**\n",
       "   * Handle when a new output is added\n",
       "   */\n",
       "  function handleAddOutput(event, handle) {\n",
       "    var output_area = handle.output_area;\n",
       "    var output = handle.output;\n",
       "\n",
       "    // limit handleAddOutput to display_data with EXEC_MIME_TYPE content only\n",
       "    if ((output.output_type != \"display_data\") || (!output.data.hasOwnProperty(EXEC_MIME_TYPE))) {\n",
       "      return\n",
       "    }\n",
       "\n",
       "    var toinsert = output_area.element.find(\".\" + CLASS_NAME.split(' ')[0]);\n",
       "\n",
       "    if (output.metadata[EXEC_MIME_TYPE][\"id\"] !== undefined) {\n",
       "      toinsert[0].firstChild.textContent = output.data[JS_MIME_TYPE];\n",
       "      // store reference to embed id on output_area\n",
       "      output_area._bokeh_element_id = output.metadata[EXEC_MIME_TYPE][\"id\"];\n",
       "    }\n",
       "    if (output.metadata[EXEC_MIME_TYPE][\"server_id\"] !== undefined) {\n",
       "      var bk_div = document.createElement(\"div\");\n",
       "      bk_div.innerHTML = output.data[HTML_MIME_TYPE];\n",
       "      var script_attrs = bk_div.children[0].attributes;\n",
       "      for (var i = 0; i < script_attrs.length; i++) {\n",
       "        toinsert[0].firstChild.setAttribute(script_attrs[i].name, script_attrs[i].value);\n",
       "      }\n",
       "      // store reference to server id on output_area\n",
       "      output_area._bokeh_server_id = output.metadata[EXEC_MIME_TYPE][\"server_id\"];\n",
       "    }\n",
       "  }\n",
       "\n",
       "  function register_renderer(events, OutputArea) {\n",
       "\n",
       "    function append_mime(data, metadata, element) {\n",
       "      // create a DOM node to render to\n",
       "      var toinsert = this.create_output_subarea(\n",
       "        metadata,\n",
       "        CLASS_NAME,\n",
       "        EXEC_MIME_TYPE\n",
       "      );\n",
       "      this.keyboard_manager.register_events(toinsert);\n",
       "      // Render to node\n",
       "      var props = {data: data, metadata: metadata[EXEC_MIME_TYPE]};\n",
       "      render(props, toinsert[0]);\n",
       "      element.append(toinsert);\n",
       "      return toinsert\n",
       "    }\n",
       "\n",
       "    /* Handle when an output is cleared or removed */\n",
       "    events.on('clear_output.CodeCell', handleClearOutput);\n",
       "    events.on('delete.Cell', handleClearOutput);\n",
       "\n",
       "    /* Handle when a new output is added */\n",
       "    events.on('output_added.OutputArea', handleAddOutput);\n",
       "\n",
       "    /**\n",
       "     * Register the mime type and append_mime function with output_area\n",
       "     */\n",
       "    OutputArea.prototype.register_mime_type(EXEC_MIME_TYPE, append_mime, {\n",
       "      /* Is output safe? */\n",
       "      safe: true,\n",
       "      /* Index of renderer in `output_area.display_order` */\n",
       "      index: 0\n",
       "    });\n",
       "  }\n",
       "\n",
       "  // register the mime type if in Jupyter Notebook environment and previously unregistered\n",
       "  if (root.Jupyter !== undefined) {\n",
       "    var events = require('base/js/events');\n",
       "    var OutputArea = require('notebook/js/outputarea').OutputArea;\n",
       "\n",
       "    if (OutputArea.prototype.mime_types().indexOf(EXEC_MIME_TYPE) == -1) {\n",
       "      register_renderer(events, OutputArea);\n",
       "    }\n",
       "  }\n",
       "\n",
       "  \n",
       "  if (typeof (root._bokeh_timeout) === \"undefined\" || force === true) {\n",
       "    root._bokeh_timeout = Date.now() + 5000;\n",
       "    root._bokeh_failed_load = false;\n",
       "  }\n",
       "\n",
       "  var NB_LOAD_WARNING = {'data': {'text/html':\n",
       "     \"<div style='background-color: #fdd'>\\n\"+\n",
       "     \"<p>\\n\"+\n",
       "     \"BokehJS does not appear to have successfully loaded. If loading BokehJS from CDN, this \\n\"+\n",
       "     \"may be due to a slow or bad network connection. Possible fixes:\\n\"+\n",
       "     \"</p>\\n\"+\n",
       "     \"<ul>\\n\"+\n",
       "     \"<li>re-rerun `output_notebook()` to attempt to load from CDN again, or</li>\\n\"+\n",
       "     \"<li>use INLINE resources instead, as so:</li>\\n\"+\n",
       "     \"</ul>\\n\"+\n",
       "     \"<code>\\n\"+\n",
       "     \"from bokeh.resources import INLINE\\n\"+\n",
       "     \"output_notebook(resources=INLINE)\\n\"+\n",
       "     \"</code>\\n\"+\n",
       "     \"</div>\"}};\n",
       "\n",
       "  function display_loaded() {\n",
       "    var el = document.getElementById(\"7cf70ad0-0dc7-446e-aae9-3ecd1eb04107\");\n",
       "    if (el != null) {\n",
       "      el.textContent = \"BokehJS is loading...\";\n",
       "    }\n",
       "    if (root.Bokeh !== undefined) {\n",
       "      if (el != null) {\n",
       "        el.textContent = \"BokehJS \" + root.Bokeh.version + \" successfully loaded.\";\n",
       "      }\n",
       "    } else if (Date.now() < root._bokeh_timeout) {\n",
       "      setTimeout(display_loaded, 100)\n",
       "    }\n",
       "  }\n",
       "\n",
       "\n",
       "  function run_callbacks() {\n",
       "    try {\n",
       "      root._bokeh_onload_callbacks.forEach(function(callback) { callback() });\n",
       "    }\n",
       "    finally {\n",
       "      delete root._bokeh_onload_callbacks\n",
       "    }\n",
       "    console.info(\"Bokeh: all callbacks have finished\");\n",
       "  }\n",
       "\n",
       "  function load_libs(js_urls, callback) {\n",
       "    root._bokeh_onload_callbacks.push(callback);\n",
       "    if (root._bokeh_is_loading > 0) {\n",
       "      console.log(\"Bokeh: BokehJS is being loaded, scheduling callback at\", now());\n",
       "      return null;\n",
       "    }\n",
       "    if (js_urls == null || js_urls.length === 0) {\n",
       "      run_callbacks();\n",
       "      return null;\n",
       "    }\n",
       "    console.log(\"Bokeh: BokehJS not loaded, scheduling load and callback at\", now());\n",
       "    root._bokeh_is_loading = js_urls.length;\n",
       "    for (var i = 0; i < js_urls.length; i++) {\n",
       "      var url = js_urls[i];\n",
       "      var s = document.createElement('script');\n",
       "      s.src = url;\n",
       "      s.async = false;\n",
       "      s.onreadystatechange = s.onload = function() {\n",
       "        root._bokeh_is_loading--;\n",
       "        if (root._bokeh_is_loading === 0) {\n",
       "          console.log(\"Bokeh: all BokehJS libraries loaded\");\n",
       "          run_callbacks()\n",
       "        }\n",
       "      };\n",
       "      s.onerror = function() {\n",
       "        console.warn(\"failed to load library \" + url);\n",
       "      };\n",
       "      console.log(\"Bokeh: injecting script tag for BokehJS library: \", url);\n",
       "      document.getElementsByTagName(\"head\")[0].appendChild(s);\n",
       "    }\n",
       "  };var element = document.getElementById(\"7cf70ad0-0dc7-446e-aae9-3ecd1eb04107\");\n",
       "  if (element == null) {\n",
       "    console.log(\"Bokeh: ERROR: autoload.js configured with elementid '7cf70ad0-0dc7-446e-aae9-3ecd1eb04107' but no matching script tag was found. \")\n",
       "    return false;\n",
       "  }\n",
       "\n",
       "  var js_urls = [\"https://cdn.pydata.org/bokeh/release/bokeh-0.12.14.min.js\", \"https://cdn.pydata.org/bokeh/release/bokeh-widgets-0.12.14.min.js\", \"https://cdn.pydata.org/bokeh/release/bokeh-tables-0.12.14.min.js\", \"https://cdn.pydata.org/bokeh/release/bokeh-gl-0.12.14.min.js\"];\n",
       "\n",
       "  var inline_js = [\n",
       "    function(Bokeh) {\n",
       "      Bokeh.set_log_level(\"info\");\n",
       "    },\n",
       "    \n",
       "    function(Bokeh) {\n",
       "      \n",
       "    },\n",
       "    function(Bokeh) {\n",
       "      console.log(\"Bokeh: injecting CSS: https://cdn.pydata.org/bokeh/release/bokeh-0.12.14.min.css\");\n",
       "      Bokeh.embed.inject_css(\"https://cdn.pydata.org/bokeh/release/bokeh-0.12.14.min.css\");\n",
       "      console.log(\"Bokeh: injecting CSS: https://cdn.pydata.org/bokeh/release/bokeh-widgets-0.12.14.min.css\");\n",
       "      Bokeh.embed.inject_css(\"https://cdn.pydata.org/bokeh/release/bokeh-widgets-0.12.14.min.css\");\n",
       "      console.log(\"Bokeh: injecting CSS: https://cdn.pydata.org/bokeh/release/bokeh-tables-0.12.14.min.css\");\n",
       "      Bokeh.embed.inject_css(\"https://cdn.pydata.org/bokeh/release/bokeh-tables-0.12.14.min.css\");\n",
       "    }\n",
       "  ];\n",
       "\n",
       "  function run_inline_js() {\n",
       "    \n",
       "    if ((root.Bokeh !== undefined) || (force === true)) {\n",
       "      for (var i = 0; i < inline_js.length; i++) {\n",
       "        inline_js[i].call(root, root.Bokeh);\n",
       "      }if (force === true) {\n",
       "        display_loaded();\n",
       "      }} else if (Date.now() < root._bokeh_timeout) {\n",
       "      setTimeout(run_inline_js, 100);\n",
       "    } else if (!root._bokeh_failed_load) {\n",
       "      console.log(\"Bokeh: BokehJS failed to load within specified timeout.\");\n",
       "      root._bokeh_failed_load = true;\n",
       "    } else if (force !== true) {\n",
       "      var cell = $(document.getElementById(\"7cf70ad0-0dc7-446e-aae9-3ecd1eb04107\")).parents('.cell').data().cell;\n",
       "      cell.output_area.append_execute_result(NB_LOAD_WARNING)\n",
       "    }\n",
       "\n",
       "  }\n",
       "\n",
       "  if (root._bokeh_is_loading === 0) {\n",
       "    console.log(\"Bokeh: BokehJS loaded, going straight to plotting\");\n",
       "    run_inline_js();\n",
       "  } else {\n",
       "    load_libs(js_urls, function() {\n",
       "      console.log(\"Bokeh: BokehJS plotting callback run at\", now());\n",
       "      run_inline_js();\n",
       "    });\n",
       "  }\n",
       "}(window));"
      ],
      "application/vnd.bokehjs_load.v0+json": "\n(function(root) {\n  function now() {\n    return new Date();\n  }\n\n  var force = true;\n\n  if (typeof (root._bokeh_onload_callbacks) === \"undefined\" || force === true) {\n    root._bokeh_onload_callbacks = [];\n    root._bokeh_is_loading = undefined;\n  }\n\n  \n\n  \n  if (typeof (root._bokeh_timeout) === \"undefined\" || force === true) {\n    root._bokeh_timeout = Date.now() + 5000;\n    root._bokeh_failed_load = false;\n  }\n\n  var NB_LOAD_WARNING = {'data': {'text/html':\n     \"<div style='background-color: #fdd'>\\n\"+\n     \"<p>\\n\"+\n     \"BokehJS does not appear to have successfully loaded. If loading BokehJS from CDN, this \\n\"+\n     \"may be due to a slow or bad network connection. Possible fixes:\\n\"+\n     \"</p>\\n\"+\n     \"<ul>\\n\"+\n     \"<li>re-rerun `output_notebook()` to attempt to load from CDN again, or</li>\\n\"+\n     \"<li>use INLINE resources instead, as so:</li>\\n\"+\n     \"</ul>\\n\"+\n     \"<code>\\n\"+\n     \"from bokeh.resources import INLINE\\n\"+\n     \"output_notebook(resources=INLINE)\\n\"+\n     \"</code>\\n\"+\n     \"</div>\"}};\n\n  function display_loaded() {\n    var el = document.getElementById(\"7cf70ad0-0dc7-446e-aae9-3ecd1eb04107\");\n    if (el != null) {\n      el.textContent = \"BokehJS is loading...\";\n    }\n    if (root.Bokeh !== undefined) {\n      if (el != null) {\n        el.textContent = \"BokehJS \" + root.Bokeh.version + \" successfully loaded.\";\n      }\n    } else if (Date.now() < root._bokeh_timeout) {\n      setTimeout(display_loaded, 100)\n    }\n  }\n\n\n  function run_callbacks() {\n    try {\n      root._bokeh_onload_callbacks.forEach(function(callback) { callback() });\n    }\n    finally {\n      delete root._bokeh_onload_callbacks\n    }\n    console.info(\"Bokeh: all callbacks have finished\");\n  }\n\n  function load_libs(js_urls, callback) {\n    root._bokeh_onload_callbacks.push(callback);\n    if (root._bokeh_is_loading > 0) {\n      console.log(\"Bokeh: BokehJS is being loaded, scheduling callback at\", now());\n      return null;\n    }\n    if (js_urls == null || js_urls.length === 0) {\n      run_callbacks();\n      return null;\n    }\n    console.log(\"Bokeh: BokehJS not loaded, scheduling load and callback at\", now());\n    root._bokeh_is_loading = js_urls.length;\n    for (var i = 0; i < js_urls.length; i++) {\n      var url = js_urls[i];\n      var s = document.createElement('script');\n      s.src = url;\n      s.async = false;\n      s.onreadystatechange = s.onload = function() {\n        root._bokeh_is_loading--;\n        if (root._bokeh_is_loading === 0) {\n          console.log(\"Bokeh: all BokehJS libraries loaded\");\n          run_callbacks()\n        }\n      };\n      s.onerror = function() {\n        console.warn(\"failed to load library \" + url);\n      };\n      console.log(\"Bokeh: injecting script tag for BokehJS library: \", url);\n      document.getElementsByTagName(\"head\")[0].appendChild(s);\n    }\n  };var element = document.getElementById(\"7cf70ad0-0dc7-446e-aae9-3ecd1eb04107\");\n  if (element == null) {\n    console.log(\"Bokeh: ERROR: autoload.js configured with elementid '7cf70ad0-0dc7-446e-aae9-3ecd1eb04107' but no matching script tag was found. \")\n    return false;\n  }\n\n  var js_urls = [\"https://cdn.pydata.org/bokeh/release/bokeh-0.12.14.min.js\", \"https://cdn.pydata.org/bokeh/release/bokeh-widgets-0.12.14.min.js\", \"https://cdn.pydata.org/bokeh/release/bokeh-tables-0.12.14.min.js\", \"https://cdn.pydata.org/bokeh/release/bokeh-gl-0.12.14.min.js\"];\n\n  var inline_js = [\n    function(Bokeh) {\n      Bokeh.set_log_level(\"info\");\n    },\n    \n    function(Bokeh) {\n      \n    },\n    function(Bokeh) {\n      console.log(\"Bokeh: injecting CSS: https://cdn.pydata.org/bokeh/release/bokeh-0.12.14.min.css\");\n      Bokeh.embed.inject_css(\"https://cdn.pydata.org/bokeh/release/bokeh-0.12.14.min.css\");\n      console.log(\"Bokeh: injecting CSS: https://cdn.pydata.org/bokeh/release/bokeh-widgets-0.12.14.min.css\");\n      Bokeh.embed.inject_css(\"https://cdn.pydata.org/bokeh/release/bokeh-widgets-0.12.14.min.css\");\n      console.log(\"Bokeh: injecting CSS: https://cdn.pydata.org/bokeh/release/bokeh-tables-0.12.14.min.css\");\n      Bokeh.embed.inject_css(\"https://cdn.pydata.org/bokeh/release/bokeh-tables-0.12.14.min.css\");\n    }\n  ];\n\n  function run_inline_js() {\n    \n    if ((root.Bokeh !== undefined) || (force === true)) {\n      for (var i = 0; i < inline_js.length; i++) {\n        inline_js[i].call(root, root.Bokeh);\n      }if (force === true) {\n        display_loaded();\n      }} else if (Date.now() < root._bokeh_timeout) {\n      setTimeout(run_inline_js, 100);\n    } else if (!root._bokeh_failed_load) {\n      console.log(\"Bokeh: BokehJS failed to load within specified timeout.\");\n      root._bokeh_failed_load = true;\n    } else if (force !== true) {\n      var cell = $(document.getElementById(\"7cf70ad0-0dc7-446e-aae9-3ecd1eb04107\")).parents('.cell').data().cell;\n      cell.output_area.append_execute_result(NB_LOAD_WARNING)\n    }\n\n  }\n\n  if (root._bokeh_is_loading === 0) {\n    console.log(\"Bokeh: BokehJS loaded, going straight to plotting\");\n    run_inline_js();\n  } else {\n    load_libs(js_urls, function() {\n      console.log(\"Bokeh: BokehJS plotting callback run at\", now());\n      run_inline_js();\n    });\n  }\n}(window));"
     },
     "metadata": {},
     "output_type": "display_data"
    }
   ],
   "source": [
    "output_notebook()"
   ]
  },
  {
   "cell_type": "code",
   "execution_count": 8,
   "metadata": {
    "collapsed": true
   },
   "outputs": [],
   "source": [
    "def fmt_cool(ds_in):\n",
    "    ds = ds_in.copy(deep=True)\n",
    "    if 'igg' in ds.dims:\n",
    "        ds = ds.sel(igg=1)\n",
    "\n",
    "    if 'g' in ds.dims:\n",
    "        ds = ds.sum('g')\n",
    "            \n",
    "    if 'band' in ds.dims:\n",
    "        try:\n",
    "            ds = ds.squeeze('band')\n",
    "        except ValueError:\n",
    "            ds = ds.sum('band')\n",
    "                \n",
    "    return ds['coolrg']\n",
    "\n",
    "\n",
    "def pltdata_cooling_1(ds_cool=None,\n",
    "                      ds_cool_crd=None, ds_cool_wgt=None):\n",
    "    \n",
    "\n",
    "\n",
    "    colors = all_palettes['Set1'][4]\n",
    "    data = [{'label': 'CLIRAD `coolr_bands`',\n",
    "             'srs': fmt_cool(ds_cool),\n",
    "             'line_dash': 'dashed', 'line_width': 5,\n",
    "             'color': colors[0], 'alpha': .6},\n",
    "            {'label': 'CRD',\n",
    "             'srs': fmt_cool(ds_cool_crd),\n",
    "             'line_dash': 'solid', 'line_width': 1.5,\n",
    "             'marker': 'circle', 'marker_size': 5,\n",
    "             'color': colors[2], 'alpha': 1,},\n",
    "            {'label': 'WGT igg=10 wgt_flux=2',\n",
    "             'srs': fmt_cool(ds_cool_wgt),\n",
    "             'line_dash': 'solid', 'line_width': 3,\n",
    "             'marker': 'square', 'marker_size': 5,\n",
    "             'color': colors[3], 'alpha': .6}]\n",
    "    return data\n",
    "\n",
    "\n",
    "def nice_xlims(pltdata=None, prange=None):\n",
    "    \n",
    "    def get_slice(srs):\n",
    "        return srs.sel(pressure=slice(*prange))\n",
    "    \n",
    "    srss = [d['srs'] for d in pltdata]\n",
    "    vmin = min([get_slice(srs).min() for srs in srss])\n",
    "    vmax = max([get_slice(srs).max() for srs in srss])\n",
    "    dv = (vmax - vmin) * .01\n",
    "    return float(vmin - dv), float(vmax + dv)\n",
    "    \n",
    "\n",
    "def plt_cooling_bokeh(pltdata=None):\n",
    "    '''\n",
    "    Plot a list of cooling rate profiles using bokeh.\n",
    "    '''\n",
    "    ymin = 1e-2 \n",
    "    ymax = 1020 \n",
    "        \n",
    "    p1 = figure(title=\"Linear pressure scale\", \n",
    "                plot_width=400)        \n",
    "    xmin, xmax = nice_xlims(pltdata, prange=(50, 1050))\n",
    "    for d in pltdata:\n",
    "        if 'marker' in d:\n",
    "            getattr(p1, d['marker'])(d['srs'].values, \n",
    "                    d['srs'].coords['pressure'].values,\n",
    "                    color=d['color'], alpha=.7)\n",
    "        p1.line(d['srs'].values, \n",
    "                d['srs'].coords['pressure'].values,\n",
    "                color=d['color'], alpha=d['alpha'], \n",
    "                line_width=d['line_width'], line_dash=d['line_dash'])\n",
    "    \n",
    "    p1.y_range = Range1d(ymax, ymin)\n",
    "    p1.yaxis.axis_label = 'pressure [mb]'   \n",
    "    p1.x_range = Range1d(xmin, xmax)\n",
    "    p1.xaxis.axis_label = 'cooling rate [K/day]'\n",
    "            \n",
    "    p2 = figure(title='Log pressure scale', y_axis_type='log',\n",
    "                plot_width=560)\n",
    "    xmin, xmax = nice_xlims(pltdata, prange=(.01, 200))\n",
    "    \n",
    "    rs = []\n",
    "    for d in pltdata:\n",
    "        rd = []\n",
    "        if 'marker' in d:\n",
    "            r_mark = getattr(p2, d['marker'])(d['srs'].values, \n",
    "                        d['srs'].coords['pressure'].values,\n",
    "                        color=d['color'], alpha=.7)\n",
    "            rd.append(r_mark)\n",
    "        r_line = p2.line(d['srs'].values, \n",
    "                    d['srs'].coords['pressure'].values,\n",
    "                    color=d['color'], alpha=d['alpha'], \n",
    "                    line_width=d['line_width'], line_dash=d['line_dash'])\n",
    "        rd.append(r_line)\n",
    "      \n",
    "        rs.append(rd)\n",
    "        \n",
    "    p2.y_range = Range1d(ymax, ymin)  \n",
    "    p2.yaxis.axis_label = 'pressure [mb]'\n",
    "    \n",
    "    p2.x_range = Range1d(xmin, xmax)\n",
    "    p2.xaxis.axis_label = 'cooling rate [K/day]'\n",
    "    \n",
    "    items = [(d['label'], r) for r, d in zip(rs, pltdata)]\n",
    "    legend = Legend(items=items, location=(10, -30))\n",
    "    legend.label_text_font_size = '8pt'\n",
    "    \n",
    "    p2.add_layout(legend, 'right')  \n",
    "    \n",
    "    show(gridplot(p1, p2, ncols=2, plot_height=500))\n",
    "    \n",
    "\n",
    "def script_plt_cooling():\n",
    "    pltdata = pltdata_cooling_1(\n",
    "        ds_cool=DS_COOL,\n",
    "        ds_cool_crd=DS_COOL_CRD,\n",
    "        ds_cool_wgt=DS_COOL_WGT)\n",
    "    plt_cooling_bokeh(pltdata=pltdata)\n",
    "    print('''FIGURE. Cooling rate profiles.''')"
   ]
  },
  {
   "cell_type": "code",
   "execution_count": 9,
   "metadata": {
    "collapsed": true
   },
   "outputs": [],
   "source": [
    "def fmt_flux(ds_in):\n",
    "    ds = ds_in.copy(deep=True)\n",
    "    \n",
    "    for l in ('level', 'layer'):\n",
    "        if l in ds.data_vars:\n",
    "            if len(ds[l].dims) > 1:\n",
    "                surface = {d: 0 for d in ds.dims if d != 'pressure'}\n",
    "                coord_level = ds[l][surface]\n",
    "                ds.coords[l] = ('pressure', coord_level)\n",
    "            else:\n",
    "                ds.coords[l] = ('pressure', ds[l])\n",
    "        \n",
    "    ds = ds.isel(pressure=[0, 23, -1])\n",
    "        \n",
    "    if 'igg' in ds.dims:\n",
    "        ds = ds.sel(igg=[1])\n",
    "        ds = ds.squeeze('igg').drop('igg')\n",
    "    \n",
    "    if 'g' in ds.dims:\n",
    "        ds = ds.sum('g')\n",
    "            \n",
    "    if 'band' in ds.dims:\n",
    "        try:\n",
    "            ds = ds.squeeze('band').drop('band')\n",
    "        except ValueError:\n",
    "            ds = ds.sum('band')\n",
    "                \n",
    "    df = ds.to_dataframe()\n",
    "    df = df.set_index('level', append=True)               \n",
    "    return df\n",
    "\n",
    "\n",
    "def tbdata_flux(ds_flux=None, ds_flux_crd=None, ds_flux_wgt=None):\n",
    "    ilevels = [0, 23, -1]\n",
    "            \n",
    "    benchmark = {'label': 'WGT igg=10 wgt_flux=1',\n",
    "                 'df': fmt_flux(ds_flux_wgt)}\n",
    "    \n",
    "    tbs = [{'label': 'CRD',\n",
    "            'df': fmt_flux(ds_flux_crd)},\n",
    "           {'label': 'CLIRAD',\n",
    "            'df': fmt_flux(ds_flux)}]\n",
    "    \n",
    "    data = {'benchmark': benchmark, 'others': tbs}\n",
    "    return data\n",
    "\n",
    "\n",
    "def tb_flux(tbdata=None):\n",
    "    benchmark = tbdata['benchmark']\n",
    "    others = tbdata['others']\n",
    "    \n",
    "    def show_tb(d=None):\n",
    "        display.display(d['df'])\n",
    "        print('Table.', 'Fluxes.', d['label'])\n",
    "        \n",
    "    def show_tbdiff(d0=None, d=None):\n",
    "        df = d['df']\n",
    "        df.index = d0['df'].index\n",
    "        display.display(df - d0['df'])\n",
    "        print('Table.', 'Fluxes.', \n",
    "              '({}) - ({})'.format(d['label'], d0['label']))\n",
    "        \n",
    "    show_tb(benchmark)\n",
    "    for d in others:\n",
    "        show_tb(d)\n",
    "        \n",
    "    for d in others:\n",
    "        show_tbdiff(d=d, d0=benchmark)\n",
    "        \n",
    "        \n",
    "def script_tb_flux():\n",
    "    data = tbdata_flux(ds_flux=DS_FLUX,\n",
    "                       ds_flux_crd=DS_FLUX_CRD,\n",
    "                       ds_flux_wgt=DS_FLUX_WGT)\n",
    "    tb_flux(tbdata=data)"
   ]
  },
  {
   "cell_type": "code",
   "execution_count": 10,
   "metadata": {
    "collapsed": true
   },
   "outputs": [],
   "source": [
    "def band_map():\n",
    "    '''\n",
    "    Maps spectral bands in lblnew to spectral bands in clirad.\n",
    "    '''\n",
    "    lblnew2clirad = {'1': '1',\n",
    "            '2': '2',\n",
    "            '3a': '3',\n",
    "            '3b': '4',\n",
    "            '3c': '5',\n",
    "            '4': '6', \n",
    "            '5': '7',\n",
    "            '6': '8',\n",
    "            '7': '9', \n",
    "            '8': '10',\n",
    "            '9': '11'}\n",
    "    \n",
    "    clirad2lblnew = {clirad: lblnew \n",
    "                     for lblnew, clirad in lblnew2clirad.items()}\n",
    "    return clirad2lblnew\n",
    "\n",
    "\n",
    "def gasbands():\n",
    "    bmap = band_map()\n",
    "    gases = list(PARAM['molecule'].keys())\n",
    "    \n",
    "    bands = [bmap[str(b)] for b in PARAM['band']]\n",
    "    return list(itertools.product(gases, bands))\n",
    "\n",
    "\n",
    "def print_bestfit_params():\n",
    "    print('Best-fit values for each (gas, band)')\n",
    "    print('------------------------------------')\n",
    "    for gas, band in gasbands():\n",
    "        print('o {} band{}'.format(gas, band))\n",
    "        param = bestfits.kdist_params(molecule=gas, band=band)\n",
    "        for name, value in param.items():\n",
    "            print(2 * ' ' + '{} = {}'.format(name, value))\n",
    "\n",
    "        \n",
    "def print_input_param():        \n",
    "    for name, value in PARAM.items():\n",
    "        print('{} = {}'.format(name, value))\n",
    "        \n",
    "        \n",
    "def print_lblnew_param():\n",
    "    for name, value in PARAM_LBLNEW.items():\n",
    "        print('{} = {}'.format(name, value))\n"
   ]
  },
  {
   "cell_type": "code",
   "execution_count": 11,
   "metadata": {
    "collapsed": true,
    "scrolled": false
   },
   "outputs": [],
   "source": [
    "def show_html(s):\n",
    "    display.display(display.HTML(s))\n",
    "\n",
    "    \n",
    "def show_markdown(s):\n",
    "    display.display(display.Markdown(s))\n",
    "\n",
    "    \n",
    "def script():\n",
    "    \n",
    "    title = '### CLIRAD-LW'\n",
    "    s_input = 'Input Parameters'\n",
    "    s_lblnew_param = 'LBLNEW case compaired against'\n",
    "    s_bestfits = 'Best-fit Parameters'\n",
    "    s_plt_cooling = 'Cooling Rate Profiles'\n",
    "    s_tb_flux = 'Flux Comparison'\n",
    "    \n",
    "    # title\n",
    "    show_markdown('### CLIRAD-LW')\n",
    "    \n",
    "    # TOC\n",
    "    show_markdown('### Table of Contents')\n",
    "    show_html(climahtml.getHTML_hrefanchor(s_input))\n",
    "    show_html(climahtml.getHTML_hrefanchor(s_lblnew_param))\n",
    "    show_html(climahtml.getHTML_hrefanchor(s_plt_cooling))\n",
    "    show_html(climahtml.getHTML_hrefanchor(s_tb_flux))\n",
    "    show_html(climahtml.getHTML_hrefanchor(s_bestfits))\n",
    "    \n",
    "    # Input parameters\n",
    "    show_html(climahtml.getHTML_idanchor(s_input))\n",
    "    show_markdown(climahtml.getMarkdown_sectitle(s_input))\n",
    "    print_input_param()\n",
    "    \n",
    "    # LBLNEW parameters \n",
    "    show_html(climahtml.getHTML_idanchor(s_lblnew_param))\n",
    "    show_markdown(climahtml.getMarkdown_sectitle(s_lblnew_param))\n",
    "    print_lblnew_param()\n",
    "    \n",
    "    # Cooling rate profiles\n",
    "    show_html(climahtml.getHTML_idanchor(s_plt_cooling))\n",
    "    show_markdown(climahtml.getMarkdown_sectitle(s_plt_cooling))\n",
    "    script_plt_cooling()\n",
    "    \n",
    "    # Flux comparison\n",
    "    show_html(climahtml.getHTML_idanchor(s_tb_flux))\n",
    "    show_markdown(climahtml.getMarkdown_sectitle(s_tb_flux))\n",
    "    script_tb_flux()\n",
    "    \n",
    "    # Best-fit values\n",
    "    show_html(climahtml.getHTML_idanchor(s_bestfits))\n",
    "    show_markdown(climahtml.getMarkdown_sectitle(s_bestfits))\n",
    "    print_bestfit_params()\n",
    "   \n",
    "    "
   ]
  },
  {
   "cell_type": "code",
   "execution_count": 12,
   "metadata": {
    "scrolled": false
   },
   "outputs": [
    {
     "data": {
      "text/markdown": [
       "### CLIRAD-LW"
      ],
      "text/plain": [
       "<IPython.core.display.Markdown object>"
      ]
     },
     "metadata": {},
     "output_type": "display_data"
    },
    {
     "data": {
      "text/markdown": [
       "### Table of Contents"
      ],
      "text/plain": [
       "<IPython.core.display.Markdown object>"
      ]
     },
     "metadata": {},
     "output_type": "display_data"
    },
    {
     "data": {
      "text/html": [
       "<a href=\"#Input_Parameters\">Input Parameters</a>"
      ],
      "text/plain": [
       "<IPython.core.display.HTML object>"
      ]
     },
     "metadata": {},
     "output_type": "display_data"
    },
    {
     "data": {
      "text/html": [
       "<a href=\"#LBLNEW_case_compaired_against\">LBLNEW case compaired against</a>"
      ],
      "text/plain": [
       "<IPython.core.display.HTML object>"
      ]
     },
     "metadata": {},
     "output_type": "display_data"
    },
    {
     "data": {
      "text/html": [
       "<a href=\"#Cooling_Rate_Profiles\">Cooling Rate Profiles</a>"
      ],
      "text/plain": [
       "<IPython.core.display.HTML object>"
      ]
     },
     "metadata": {},
     "output_type": "display_data"
    },
    {
     "data": {
      "text/html": [
       "<a href=\"#Flux_Comparison\">Flux Comparison</a>"
      ],
      "text/plain": [
       "<IPython.core.display.HTML object>"
      ]
     },
     "metadata": {},
     "output_type": "display_data"
    },
    {
     "data": {
      "text/html": [
       "<a href=\"#Best-fit_Parameters\">Best-fit Parameters</a>"
      ],
      "text/plain": [
       "<IPython.core.display.HTML object>"
      ]
     },
     "metadata": {},
     "output_type": "display_data"
    },
    {
     "data": {
      "text/html": [
       "<a id=\"Input_Parameters\"></a>"
      ],
      "text/plain": [
       "<IPython.core.display.HTML object>"
      ]
     },
     "metadata": {},
     "output_type": "display_data"
    },
    {
     "data": {
      "text/markdown": [
       "# Input Parameters"
      ],
      "text/plain": [
       "<IPython.core.display.Markdown object>"
      ]
     },
     "metadata": {},
     "output_type": "display_data"
    },
    {
     "name": "stdout",
     "output_type": "stream",
     "text": [
      "atmpro = mls\n",
      "band = [9]\n",
      "commitnumber = 7a7a0e1\n",
      "molecule = {'n2o': 3.2e-07}\n",
      "tsfc = 294\n"
     ]
    },
    {
     "data": {
      "text/html": [
       "<a id=\"LBLNEW_case_compaired_against\"></a>"
      ],
      "text/plain": [
       "<IPython.core.display.HTML object>"
      ]
     },
     "metadata": {},
     "output_type": "display_data"
    },
    {
     "data": {
      "text/markdown": [
       "# LBLNEW case compaired against"
      ],
      "text/plain": [
       "<IPython.core.display.Markdown object>"
      ]
     },
     "metadata": {},
     "output_type": "display_data"
    },
    {
     "name": "stdout",
     "output_type": "stream",
     "text": [
      "molecule = n2o\n",
      "band = 7\n",
      "commitnumber = d62b618\n",
      "vmin = 1215\n",
      "vmax = 1380\n",
      "dv = 0.001\n",
      "nv = 1000\n",
      "ref_pts = [(1, 250), (500, 250)]\n",
      "ng_refs = [2, 2]\n",
      "ng_adju = [0, 0]\n",
      "klin = 2.22e-20\n",
      "option_wgt_k = 1\n",
      "wgt = [(0.6, 0.5), (0.6, 0.9)]\n",
      "w_diffuse = [(1.8, 1.66), (1.6, 1.8)]\n",
      "option_wgt_flux = 1\n",
      "atmpro = mls\n",
      "tsfc = 294\n",
      "conc = 3.2e-07\n",
      "option_compute_btable = 0\n",
      "option_compute_ktable = 1\n"
     ]
    },
    {
     "data": {
      "text/html": [
       "<a id=\"Cooling_Rate_Profiles\"></a>"
      ],
      "text/plain": [
       "<IPython.core.display.HTML object>"
      ]
     },
     "metadata": {},
     "output_type": "display_data"
    },
    {
     "data": {
      "text/markdown": [
       "# Cooling Rate Profiles"
      ],
      "text/plain": [
       "<IPython.core.display.Markdown object>"
      ]
     },
     "metadata": {},
     "output_type": "display_data"
    },
    {
     "data": {
      "text/html": [
       "\n",
       "<div class=\"bk-root\">\n",
       "    <div class=\"bk-plotdiv\" id=\"4783bdd5-9a8d-4218-9fbd-efa0aae9276d\"></div>\n",
       "</div>"
      ]
     },
     "metadata": {},
     "output_type": "display_data"
    },
    {
     "data": {
      "application/javascript": [
       "(function(root) {\n",
       "  function embed_document(root) {\n",
       "    \n",
       "  var docs_json = {\"7569a2b5-516d-4c36-bd4b-2ae2c448c5df\":{\"roots\":{\"references\":[{\"attributes\":{},\"id\":\"5a46acaa-032b-4520-9588-798856e1d5ab\",\"type\":\"HelpTool\"},{\"attributes\":{\"source\":{\"id\":\"db5495d4-8f93-409c-a449-3080a4d8eb6f\",\"type\":\"ColumnDataSource\"}},\"id\":\"c786f884-3d8e-4578-bab9-9a87f0a51001\",\"type\":\"CDSView\"},{\"attributes\":{\"line_alpha\":0.1,\"line_color\":\"#1f77b4\",\"line_dash\":[6],\"line_width\":5,\"x\":{\"field\":\"x\"},\"y\":{\"field\":\"y\"}},\"id\":\"9b4a3067-26d7-4484-83bd-712184b5de57\",\"type\":\"Line\"},{\"attributes\":{},\"id\":\"3e9aaebb-6278-46b9-b280-74d3b7e09b34\",\"type\":\"WheelZoomTool\"},{\"attributes\":{\"callback\":null,\"end\":0.01,\"start\":1020},\"id\":\"c45cdd15-dfc9-46fc-a867-c1e04dc56e08\",\"type\":\"Range1d\"},{\"attributes\":{\"bottom_units\":\"screen\",\"fill_alpha\":{\"value\":0.5},\"fill_color\":{\"value\":\"lightgrey\"},\"left_units\":\"screen\",\"level\":\"overlay\",\"line_alpha\":{\"value\":1.0},\"line_color\":{\"value\":\"black\"},\"line_dash\":[4,4],\"line_width\":{\"value\":2},\"plot\":null,\"render_mode\":\"css\",\"right_units\":\"screen\",\"top_units\":\"screen\"},\"id\":\"21995504-f70a-4cb5-8168-d1edff37f49e\",\"type\":\"BoxAnnotation\"},{\"attributes\":{\"axis_label\":\"cooling rate [K/day]\",\"formatter\":{\"id\":\"44990942-e3c6-4a2c-b2ec-a40c9822778b\",\"type\":\"BasicTickFormatter\"},\"plot\":{\"id\":\"13a4e602-d028-4d19-8050-34031da7ab2b\",\"subtype\":\"Figure\",\"type\":\"Plot\"},\"ticker\":{\"id\":\"573d9132-4d1c-4073-b3db-243d495989a5\",\"type\":\"BasicTicker\"}},\"id\":\"b49ee1d7-8621-40ec-a545-66587619970c\",\"type\":\"LinearAxis\"},{\"attributes\":{\"data_source\":{\"id\":\"9e6325c0-5170-4858-8785-5cf41f3a0ad7\",\"type\":\"ColumnDataSource\"},\"glyph\":{\"id\":\"d0b43077-932e-4285-bc83-fe01c35598c6\",\"type\":\"Line\"},\"hover_glyph\":null,\"muted_glyph\":null,\"nonselection_glyph\":{\"id\":\"e316dcab-2265-46b6-9437-398cdbdaf9c2\",\"type\":\"Line\"},\"selection_glyph\":null,\"view\":{\"id\":\"4c31cf53-e4a3-4921-8e08-458717b68123\",\"type\":\"CDSView\"}},\"id\":\"73ba0851-d148-4ca9-8cd9-c5d8af492538\",\"type\":\"GlyphRenderer\"},{\"attributes\":{\"fill_alpha\":{\"value\":0.1},\"fill_color\":{\"value\":\"#1f77b4\"},\"line_alpha\":{\"value\":0.1},\"line_color\":{\"value\":\"#1f77b4\"},\"x\":{\"field\":\"x\"},\"y\":{\"field\":\"y\"}},\"id\":\"0159f959-5ae7-4a1e-8c35-dc407f32cf3c\",\"type\":\"Circle\"},{\"attributes\":{\"below\":[{\"id\":\"b49ee1d7-8621-40ec-a545-66587619970c\",\"type\":\"LinearAxis\"}],\"left\":[{\"id\":\"3f2f4c93-29dd-4b2e-a740-c9df4839568d\",\"type\":\"LogAxis\"}],\"plot_height\":500,\"plot_width\":560,\"renderers\":[{\"id\":\"b49ee1d7-8621-40ec-a545-66587619970c\",\"type\":\"LinearAxis\"},{\"id\":\"a073d9e2-3150-446b-9fac-d6c19dd264ac\",\"type\":\"Grid\"},{\"id\":\"3f2f4c93-29dd-4b2e-a740-c9df4839568d\",\"type\":\"LogAxis\"},{\"id\":\"e3f7e4ca-8fed-4e6c-8c3f-b88a15814ba1\",\"type\":\"Grid\"},{\"id\":\"21995504-f70a-4cb5-8168-d1edff37f49e\",\"type\":\"BoxAnnotation\"},{\"id\":\"44d1c2cb-dd2c-4db0-b4b6-3e8f9d4d0858\",\"type\":\"GlyphRenderer\"},{\"id\":\"7911ec0b-30ed-448a-8129-17f7fdb479b5\",\"type\":\"GlyphRenderer\"},{\"id\":\"718942d7-356a-4783-bf2f-4c222f3f2ab8\",\"type\":\"GlyphRenderer\"},{\"id\":\"18475f6f-89be-4aa4-aa66-91e4a7c174e8\",\"type\":\"GlyphRenderer\"},{\"id\":\"e13b2d26-715e-4c72-8a51-1bb37fefda10\",\"type\":\"GlyphRenderer\"},{\"id\":\"22002647-aca9-405c-a4da-3bf2cc071352\",\"type\":\"Legend\"}],\"right\":[{\"id\":\"22002647-aca9-405c-a4da-3bf2cc071352\",\"type\":\"Legend\"}],\"title\":{\"id\":\"70a79687-a5de-4afd-b100-1f96867e0f17\",\"type\":\"Title\"},\"toolbar\":{\"id\":\"af8962a7-5b95-432d-b299-34a617e335bf\",\"type\":\"Toolbar\"},\"toolbar_location\":null,\"x_range\":{\"id\":\"7ea83620-3f3f-4014-9e09-3ade160ebe9f\",\"type\":\"Range1d\"},\"x_scale\":{\"id\":\"4c2a238f-1c09-46b4-9b94-6018b846d45d\",\"type\":\"LinearScale\"},\"y_range\":{\"id\":\"332e08f7-48fc-4428-b0a7-ae6b15126245\",\"type\":\"Range1d\"},\"y_scale\":{\"id\":\"30e82a5e-137e-4fce-8ec3-54de9ead4e87\",\"type\":\"LogScale\"}},\"id\":\"13a4e602-d028-4d19-8050-34031da7ab2b\",\"subtype\":\"Figure\",\"type\":\"Plot\"},{\"attributes\":{\"data_source\":{\"id\":\"8c3c7437-0715-4c03-a2eb-70e59365bce4\",\"type\":\"ColumnDataSource\"},\"glyph\":{\"id\":\"8f5bbda7-9f70-48c1-a5fa-1bfa3ea09bae\",\"type\":\"Square\"},\"hover_glyph\":null,\"muted_glyph\":null,\"nonselection_glyph\":{\"id\":\"b67c60d1-3088-4ac1-93fc-ee5522be0137\",\"type\":\"Square\"},\"selection_glyph\":null,\"view\":{\"id\":\"32c0c45d-a387-45a9-8dda-5f4858cdf6c9\",\"type\":\"CDSView\"}},\"id\":\"88cb6c5e-e536-4421-84b7-23ca57e658cd\",\"type\":\"GlyphRenderer\"},{\"attributes\":{},\"id\":\"b1ebb11f-3e4e-438b-b7df-5bbcce991ef2\",\"type\":\"PanTool\"},{\"attributes\":{\"source\":{\"id\":\"c87ea0b7-ce5e-4208-aa42-d770643dc450\",\"type\":\"ColumnDataSource\"}},\"id\":\"50068d43-f9bf-482d-8c9c-2214a9964750\",\"type\":\"CDSView\"},{\"attributes\":{\"data_source\":{\"id\":\"db5495d4-8f93-409c-a449-3080a4d8eb6f\",\"type\":\"ColumnDataSource\"},\"glyph\":{\"id\":\"5d2037af-ee0b-4712-9d9f-8e742dc828e9\",\"type\":\"Line\"},\"hover_glyph\":null,\"muted_glyph\":null,\"nonselection_glyph\":{\"id\":\"0b3ba1c1-619e-4176-87a9-a492532b6002\",\"type\":\"Line\"},\"selection_glyph\":null,\"view\":{\"id\":\"c786f884-3d8e-4578-bab9-9a87f0a51001\",\"type\":\"CDSView\"}},\"id\":\"f12635b8-4379-4bb9-ae44-6dbb7d7b01ed\",\"type\":\"GlyphRenderer\"},{\"attributes\":{\"fill_alpha\":{\"value\":0.1},\"fill_color\":{\"value\":\"#1f77b4\"},\"line_alpha\":{\"value\":0.1},\"line_color\":{\"value\":\"#1f77b4\"},\"x\":{\"field\":\"x\"},\"y\":{\"field\":\"y\"}},\"id\":\"b67c60d1-3088-4ac1-93fc-ee5522be0137\",\"type\":\"Square\"},{\"attributes\":{\"callback\":null,\"column_names\":[\"x\",\"y\"],\"data\":{\"x\":{\"__ndarray__\":\"8F/Nv2Vnqr8L32UAVGOwPwAAAAAAAAAAAAAAAAAAAADXN75jacGnv555vSRj75A/TKoH498bor/GndaerjaBvwAAAAAAAAAAr24skO8+ir8nLgf+l/J4vxeGteEKyYG/C5spP7Wyf78DqVagC6N/vyr05h3TjXa/hLrCHj5gYr+ZXlnfhKZzPxXYHwWo2Yo/VbRTInLCmD+HxmlBVXCjPyb+16LNvas/8CUxYWTksj9sN/nhq5O3P160N2Cm2bc/wqtwwdXesz/WXxTcxqGuP5RPbl8wTaY/iScRmop4nj+0WpWBWVqTP3muUu78qoU/bn+iAoQncT8haeC+LQFGv3ucyqJnbHC/nUiZ3WZ0e78KZSMIPqOEvwP4bPKbj42/Fj2mpD0Uk794A64mrcqWv69lS7lvc5q/DFA0vhiSnb+gsSwh6gGfvwvlJmWwtJ6/mmhsvC+/nb+j4ei4h3Wcv9x6BDlT4Zq/RFYhX+4Fmb8+SrXn4+6Wv5A3f2cJn5S/v50ZBCMdkr/QYdCfvOOOvwDZNWs6TIm/+Dt2wXCPg79wV3fBY2V7v6X/yOBf/m6/an0JwrYuS7/DwhRfUApiP34Lsxxdr3U/xOEdQAVXgT/PH1kUBPyHP/MiJ9RSx44/05vBRxPbkj+o6liE5mOWPw8xmJ40/Zk/fKOkJy+pnT/n+a1/0q6gPytBB9xBjKI/SoOCIntcpD9mAswclRKmP+vZKsPjm6c/xhxuAU32qD863KnhpC6qP94tywLmVKs/u8+lQ511rD/0PDm8gJStPy0OUOK/ta4/\",\"dtype\":\"float64\",\"shape\":[75]},\"y\":{\"__ndarray__\":\"S/O/Q+51ND/430zAtpRIP2vylNV0PVE/QxsjCssuWD/TR4Z78fVgP+inNsRxymc/OuuBfZWvcD/u3TFA02d3P2d3VoBnaoA/CD5h5MAGhz/1pA8HUCaQP+zrCsc9p5Y/Fb7LAKjGnz/nJ9c/SEmmPwBD+fzcQq8/FOZwv9nstT8Er5Y7M8G+P0c+r3jqkcU/yK72qKZBzj+tM989FzjVPxbgmr8yxN0/cOm5AXbg5D+5ctXAf0jtP5kqGJXUifQ/DsrqDELP/D8MCAhBojQEQDItVnmnVwxAiFXNvdHgE0BSSZ2AJuIbQAMJih9jjiNA5q4l5INuK0CPVN/5RT0zQHzxRXu8/DpAOZ7PgHrtQkAg8wGBzoxKQBSTN8DMeFJA2NmQf2ZqWEAAAAAAAFxeQEQX1LfMJmJAmpmZmZkfZUBmZmZmZhhoQLzoK0gzEWtAAAAAAAAKbkCiC+pbZoFwQAhyUMLM/XFA+I2vPTN6c0AQ5KCEmfZ0QAAAAAAAc3ZA8Btfe2bvd0AIclDCzGt5QPeNrz0z6HpAEOSghJlkfEAAAAAAAOF9QKML6ltmXX9ABTkoYeZsgED7xteeGSuBQAhyUMJM6YFAAAAAAICngkD4ja89s2WDQAU5KGHmI4RA+8bXnhnihEAIclDCTKCFQAAAAACAXoZA+I2vPbMch0AFOShh5tqHQPvG154ZmYhACHJQwkxXiUAAAAAAgBWKQPeNrz2z04pABTkoYeaRi0D7xteeGVCMQAlyUMJMDo1AAAAAAIDMjUD3ja89s4qOQGZmZmbmSI9A\",\"dtype\":\"float64\",\"shape\":[75]}}},\"id\":\"9e6325c0-5170-4858-8785-5cf41f3a0ad7\",\"type\":\"ColumnDataSource\"},{\"attributes\":{\"bottom_units\":\"screen\",\"fill_alpha\":{\"value\":0.5},\"fill_color\":{\"value\":\"lightgrey\"},\"left_units\":\"screen\",\"level\":\"overlay\",\"line_alpha\":{\"value\":1.0},\"line_color\":{\"value\":\"black\"},\"line_dash\":[4,4],\"line_width\":{\"value\":2},\"plot\":null,\"render_mode\":\"css\",\"right_units\":\"screen\",\"top_units\":\"screen\"},\"id\":\"11557720-a6ed-4149-9a88-7eb7d2263e2d\",\"type\":\"BoxAnnotation\"},{\"attributes\":{\"callback\":null,\"column_names\":[\"x\",\"y\"],\"data\":{\"x\":{\"__ndarray__\":\"xIKY8LFtkL9xIH+bwUOQvw/xN2xn0I+/toB2DCMLj79DP6LVWUKOv/8ZsiNvdo2/+dpWBbOnjL8ICPV1nNaLvw7wRBDOA4u/L6V6WEswir+axIiNRWCJv6P4vHa6M4m/wjxWfjHFiL8keK4BCfuHvzdaMyc3J4W/RPIOakvgeL9AzoAbW5xZP72qObfWyYY/fIXFRgoZlz8UrqUDu8SiP/ckyzZ/qKs/TKJC5Fkqsz9Rv2aJXxi4P6zqkQPTLLg/wBc4lW2/sz+yjfI1T7etPySZGAiaC6U/bFU/YQdFnD9tm3YmYvaRP07sP0z8BIU/ejRUiB38cT+4Y95fy08kP3YiLX7XkWK/vi+4DEAUer/k6tJ76pKDv4lT2zJ+nIy/DcxL80fHkr9g2kLXD3+Wv61s1a2bJJq/+YOOyMFtnb/e26SOhPCev8UVv0UBhJ6/7uK3UbZinb/TJKt93vabv876HpDCUpq/qjy4qsZpmL8deJKa8zOWvxdnGyl235O/50GsOZdKkb/fdKYNxxiMv5jmTf0DwYe/zswX10Dogb8RZRxW9uJ4v2Z1AE7/Bmq/bqSr666IN7+Rlwu1NV9lP7ZzIyNSzXY/0k7rbvOvgT8h3u6WqSOIP5SHypkkmI4/25kdEia6kj9CCHk77x2WP2vHgSs8qZk/+Je0nxw6nT+EC/7WOXegP8fcL3fHRaI/YkC3oXofpD9UC5xuY86lP/QFZjWLSac/1HXuy8SiqD+V/vXO4sepP0VLBz4c7ao/pORRYA4MrD8HMZy18imtP9SBEb2vZK4/\",\"dtype\":\"float64\",\"shape\":[75]},\"y\":{\"__ndarray__\":\"GhExyth1ND/Sv8nbtpRIP2vylNV0PVE/aTum7souWD/At0SJ8fVgPw3Iuahxymc/MSNhhJWvcD/bTfBN02d3P2zb5nxnaoA/CD5h5MAGhz8NmeH1TyaQP+zrCsc9p5Y/LbKd76fGnz/bLW5ISEmmPww9YvTcQq8/JV2OstnstT8Er5Y7M8G+P0c+r3jqkcU/5h99k6ZBzj88bCIzFzjVP4enV8oyxN0//yH99nXg5D8qOpLLf0jtP5kqGJXUifQ/c9cS8kHP/D+/DpwzojQEQIEmwoanVwxA4lgXt9HgE0BSSZ2AJuIbQAMJih9jjiNA5q4l5INuK0AwTKYKRj0zQNv5fmq8/DpAaCJseHrtQkB/+zpwzoxKQM3MzMzMeFJAZmZmZmZqWEAAAAAAAFxeQM3MzMzMJmJAmpmZmZkfZUBmZmZmZhhoQDMzMzMzEWtAAAAAAAAKbkBmZmZmZoFwQM3MzMzM/XFAMzMzMzN6c0CamZmZmfZ0QAAAAAAAc3ZAZmZmZmbvd0DNzMzMzGt5QDMzMzMz6HpAmpmZmZlkfEAAAAAAAOF9QGZmZmZmXX9AZmZmZuZsgECamZmZGSuBQM3MzMxM6YFAAAAAAICngkAzMzMzs2WDQGZmZmbmI4RAmpmZmRnihEDNzMzMTKCFQAAAAACAXoZAMzMzM7Mch0BmZmZm5tqHQJqZmZkZmYhAzczMzExXiUAAAAAAgBWKQDMzMzOz04pAZmZmZuaRi0CamZmZGVCMQM3MzMxMDo1AAAAAAIDMjUAzMzMzs4qOQGZmZmbmSI9A\",\"dtype\":\"float64\",\"shape\":[75]}}},\"id\":\"c87ea0b7-ce5e-4208-aa42-d770643dc450\",\"type\":\"ColumnDataSource\"},{\"attributes\":{\"source\":{\"id\":\"bd8edc40-e2c2-4c43-bea4-67f8bc9b9bf5\",\"type\":\"ColumnDataSource\"}},\"id\":\"e0568c3b-19e1-4d6a-ab04-c29241dcecdf\",\"type\":\"CDSView\"},{\"attributes\":{\"data_source\":{\"id\":\"51e583b1-0540-4288-ad41-0597e4f1d528\",\"type\":\"ColumnDataSource\"},\"glyph\":{\"id\":\"52167f64-6016-45eb-b890-d936c854c814\",\"type\":\"Circle\"},\"hover_glyph\":null,\"muted_glyph\":null,\"nonselection_glyph\":{\"id\":\"0159f959-5ae7-4a1e-8c35-dc407f32cf3c\",\"type\":\"Circle\"},\"selection_glyph\":null,\"view\":{\"id\":\"142a69e6-02e1-4cfd-ac67-12c49c50b339\",\"type\":\"CDSView\"}},\"id\":\"deb57508-256d-4b18-b6d2-5a6373714ed5\",\"type\":\"GlyphRenderer\"},{\"attributes\":{\"callback\":null,\"end\":0.060883000300000004,\"start\":-0.0311833523},\"id\":\"57e1e9cf-af50-4451-a354-93cda4cd805a\",\"type\":\"Range1d\"},{\"attributes\":{},\"id\":\"0ecc9b7f-7216-4083-805b-8ca57ef03dd6\",\"type\":\"LinearScale\"},{\"attributes\":{},\"id\":\"63ac0ad9-8a06-45e8-90d9-e8c6ae31ed81\",\"type\":\"BasicTickFormatter\"},{\"attributes\":{},\"id\":\"568490e1-e95a-4a9b-873a-db4081fa0225\",\"type\":\"LinearScale\"},{\"attributes\":{\"line_alpha\":0.6,\"line_color\":\"#984ea3\",\"line_width\":3,\"x\":{\"field\":\"x\"},\"y\":{\"field\":\"y\"}},\"id\":\"37454261-1a26-4ddb-8cd2-1367ff6d3e16\",\"type\":\"Line\"},{\"attributes\":{\"callback\":null,\"column_names\":[\"x\",\"y\"],\"data\":{\"x\":{\"__ndarray__\":\"UP/sVrX1or9gXExhFdeiv9R0QIkEkKK/vkFvglNFor8wFQkQf/mhv5mh0DYnxKG/IP4OA2Vsob/k9/5Sexuhvy90ZGYY16C/Q6X9ThSaoL+5ccDriWegv8g7lFxWRaC/dieYZPYPoL9G1G8f7CagvwW94YVH956/WnMGml1kmb8Jz+lRb0iOv/qphH8+/mS/GdM1W8VXiT/RrCVKZuieP6pdUDUzYKo//1R8RpnCsz+kX66HJ6K5P5NjtXCO97g/raGfbHSVsj+m5mvJvOuoPxpIM/CFxJ8/KEj/2uCVkz9CXAlCUVeJP17bc0pUMIE/KZXRwL/sdT8+0b8lA25kP1yLmI7HMDE/B2bA8otGWr8gJ+Q0WPlwvx/kabdl2X6/Yn2o2ajzhb9X4N0qhcmLv9x0no1pYZG/mrBlSAHhlL9pf1ZPnJKWv4Aj33ecOpa/mddToz5mlb+9DnRr1G6Uv7WM6F8RSpO/vIL9b9b0kb/8Ppjrn22Qv/JLBHeOa42/4Tum+Dyiib83TisBCIqFvxK4ZgwiO4G/bkntEgyYeb/mAnNKQpZwv5FOzJaGw12/jpyySTsOPz+JQXrwtUxnP2JEqRzWvXU/0u6zcZQhgD9wVnKF35yFP0hjqhw3VYs/58796celkD9rPkniLsCTP6TpNTsn/ZY/3Pl2+XNdmj//+ePhMN2dP70jcuAmuqA/OpP0OCWDoj/w2ilGKzGkP89l7kpgraU/jy8R14D0pj/QmCjGIhuoP00d3IQYO6k/Ed4wZzxlqj9TvZrbO6WrP+AOz3DVBa0/\",\"dtype\":\"float64\",\"shape\":[75]},\"y\":{\"__ndarray__\":\"GhExyth1ND/Sv8nbtpRIP2vylNV0PVE/aTum7souWD/At0SJ8fVgPw3Iuahxymc/MSNhhJWvcD/bTfBN02d3P2zb5nxnaoA/CD5h5MAGhz8NmeH1TyaQP+zrCsc9p5Y/LbKd76fGnz/bLW5ISEmmPww9YvTcQq8/JV2OstnstT8Er5Y7M8G+P0c+r3jqkcU/5h99k6ZBzj88bCIzFzjVP4enV8oyxN0//yH99nXg5D8qOpLLf0jtP5kqGJXUifQ/c9cS8kHP/D+/DpwzojQEQIEmwoanVwxA4lgXt9HgE0BSSZ2AJuIbQAMJih9jjiNA5q4l5INuK0AwTKYKRj0zQNv5fmq8/DpAaCJseHrtQkB/+zpwzoxKQM3MzMzMeFJAZmZmZmZqWEAAAAAAAFxeQM3MzMzMJmJAmpmZmZkfZUBmZmZmZhhoQDMzMzMzEWtAAAAAAAAKbkBmZmZmZoFwQM3MzMzM/XFAMzMzMzN6c0CamZmZmfZ0QAAAAAAAc3ZAZmZmZmbvd0DNzMzMzGt5QDMzMzMz6HpAmpmZmZlkfEAAAAAAAOF9QGZmZmZmXX9AZmZmZuZsgECamZmZGSuBQM3MzMxM6YFAAAAAAICngkAzMzMzs2WDQGZmZmbmI4RAmpmZmRnihEDNzMzMTKCFQAAAAACAXoZAMzMzM7Mch0BmZmZm5tqHQJqZmZkZmYhAzczMzExXiUAAAAAAgBWKQDMzMzOz04pAZmZmZuaRi0CamZmZGVCMQM3MzMxMDo1AAAAAAIDMjUAzMzMzs4qOQGZmZmbmSI9A\",\"dtype\":\"float64\",\"shape\":[75]}}},\"id\":\"c5e47ad2-8cb4-475c-81c0-84d01c94b5ea\",\"type\":\"ColumnDataSource\"},{\"attributes\":{\"callback\":null,\"column_names\":[\"x\",\"y\"],\"data\":{\"x\":{\"__ndarray__\":\"8F/Nv2Vnqr8L32UAVGOwPwAAAAAAAAAAAAAAAAAAAADXN75jacGnv555vSRj75A/TKoH498bor/GndaerjaBvwAAAAAAAAAAr24skO8+ir8nLgf+l/J4vxeGteEKyYG/C5spP7Wyf78DqVagC6N/vyr05h3TjXa/hLrCHj5gYr+ZXlnfhKZzPxXYHwWo2Yo/VbRTInLCmD+HxmlBVXCjPyb+16LNvas/8CUxYWTksj9sN/nhq5O3P160N2Cm2bc/wqtwwdXesz/WXxTcxqGuP5RPbl8wTaY/iScRmop4nj+0WpWBWVqTP3muUu78qoU/bn+iAoQncT8haeC+LQFGv3ucyqJnbHC/nUiZ3WZ0e78KZSMIPqOEvwP4bPKbj42/Fj2mpD0Uk794A64mrcqWv69lS7lvc5q/DFA0vhiSnb+gsSwh6gGfvwvlJmWwtJ6/mmhsvC+/nb+j4ei4h3Wcv9x6BDlT4Zq/RFYhX+4Fmb8+SrXn4+6Wv5A3f2cJn5S/v50ZBCMdkr/QYdCfvOOOvwDZNWs6TIm/+Dt2wXCPg79wV3fBY2V7v6X/yOBf/m6/an0JwrYuS7/DwhRfUApiP34Lsxxdr3U/xOEdQAVXgT/PH1kUBPyHP/MiJ9RSx44/05vBRxPbkj+o6liE5mOWPw8xmJ40/Zk/fKOkJy+pnT/n+a1/0q6gPytBB9xBjKI/SoOCIntcpD9mAswclRKmP+vZKsPjm6c/xhxuAU32qD863KnhpC6qP94tywLmVKs/u8+lQ511rD/0PDm8gJStPy0OUOK/ta4/\",\"dtype\":\"float64\",\"shape\":[75]},\"y\":{\"__ndarray__\":\"S/O/Q+51ND/430zAtpRIP2vylNV0PVE/QxsjCssuWD/TR4Z78fVgP+inNsRxymc/OuuBfZWvcD/u3TFA02d3P2d3VoBnaoA/CD5h5MAGhz/1pA8HUCaQP+zrCsc9p5Y/Fb7LAKjGnz/nJ9c/SEmmPwBD+fzcQq8/FOZwv9nstT8Er5Y7M8G+P0c+r3jqkcU/yK72qKZBzj+tM989FzjVPxbgmr8yxN0/cOm5AXbg5D+5ctXAf0jtP5kqGJXUifQ/DsrqDELP/D8MCAhBojQEQDItVnmnVwxAiFXNvdHgE0BSSZ2AJuIbQAMJih9jjiNA5q4l5INuK0CPVN/5RT0zQHzxRXu8/DpAOZ7PgHrtQkAg8wGBzoxKQBSTN8DMeFJA2NmQf2ZqWEAAAAAAAFxeQEQX1LfMJmJAmpmZmZkfZUBmZmZmZhhoQLzoK0gzEWtAAAAAAAAKbkCiC+pbZoFwQAhyUMLM/XFA+I2vPTN6c0AQ5KCEmfZ0QAAAAAAAc3ZA8Btfe2bvd0AIclDCzGt5QPeNrz0z6HpAEOSghJlkfEAAAAAAAOF9QKML6ltmXX9ABTkoYeZsgED7xteeGSuBQAhyUMJM6YFAAAAAAICngkD4ja89s2WDQAU5KGHmI4RA+8bXnhnihEAIclDCTKCFQAAAAACAXoZA+I2vPbMch0AFOShh5tqHQPvG154ZmYhACHJQwkxXiUAAAAAAgBWKQPeNrz2z04pABTkoYeaRi0D7xteeGVCMQAlyUMJMDo1AAAAAAIDMjUD3ja89s4qOQGZmZmbmSI9A\",\"dtype\":\"float64\",\"shape\":[75]}}},\"id\":\"bd8edc40-e2c2-4c43-bea4-67f8bc9b9bf5\",\"type\":\"ColumnDataSource\"},{\"attributes\":{\"data_source\":{\"id\":\"bd8edc40-e2c2-4c43-bea4-67f8bc9b9bf5\",\"type\":\"ColumnDataSource\"},\"glyph\":{\"id\":\"614fc458-15ac-498c-bcc3-4839d3d2f5c6\",\"type\":\"Line\"},\"hover_glyph\":null,\"muted_glyph\":null,\"nonselection_glyph\":{\"id\":\"9b4a3067-26d7-4484-83bd-712184b5de57\",\"type\":\"Line\"},\"selection_glyph\":null,\"view\":{\"id\":\"e0568c3b-19e1-4d6a-ab04-c29241dcecdf\",\"type\":\"CDSView\"}},\"id\":\"44d1c2cb-dd2c-4db0-b4b6-3e8f9d4d0858\",\"type\":\"GlyphRenderer\"},{\"attributes\":{\"callback\":null,\"end\":0.01,\"start\":1020},\"id\":\"332e08f7-48fc-4428-b0a7-ae6b15126245\",\"type\":\"Range1d\"},{\"attributes\":{\"active_drag\":\"auto\",\"active_inspect\":\"auto\",\"active_scroll\":\"auto\",\"active_tap\":\"auto\",\"tools\":[{\"id\":\"8c6c897b-8eeb-4abb-84a0-317bd0621321\",\"type\":\"PanTool\"},{\"id\":\"088ab813-b0d8-4346-8ca0-159104379e0e\",\"type\":\"WheelZoomTool\"},{\"id\":\"9d253d5d-de76-4c1b-8565-4d19f9879d49\",\"type\":\"BoxZoomTool\"},{\"id\":\"3d168039-a65a-4b93-aa8f-677929c8c64f\",\"type\":\"SaveTool\"},{\"id\":\"898afc42-e675-4584-9633-07f596bdc47a\",\"type\":\"ResetTool\"},{\"id\":\"2e80dbb9-0c2e-4ecf-aee0-d702b9854d39\",\"type\":\"HelpTool\"}]},\"id\":\"179580db-0a3c-457a-b51f-168db5c1af24\",\"type\":\"Toolbar\"},{\"attributes\":{\"plot\":{\"id\":\"9ac9ce46-d524-4a41-be60-3cea26acf5b9\",\"subtype\":\"Figure\",\"type\":\"Plot\"},\"ticker\":{\"id\":\"e5c6bed7-f608-4719-a3ae-a1fb1ab1a603\",\"type\":\"BasicTicker\"}},\"id\":\"156cca37-1faf-4870-bd33-5dea47989ff1\",\"type\":\"Grid\"},{\"attributes\":{\"plot\":null,\"text\":\"Linear pressure scale\"},\"id\":\"f593e8d5-585f-4309-8118-4c079cf19925\",\"type\":\"Title\"},{\"attributes\":{\"plot\":null,\"text\":\"Log pressure scale\"},\"id\":\"70a79687-a5de-4afd-b100-1f96867e0f17\",\"type\":\"Title\"},{\"attributes\":{\"axis_label\":\"cooling rate [K/day]\",\"formatter\":{\"id\":\"63ac0ad9-8a06-45e8-90d9-e8c6ae31ed81\",\"type\":\"BasicTickFormatter\"},\"plot\":{\"id\":\"9ac9ce46-d524-4a41-be60-3cea26acf5b9\",\"subtype\":\"Figure\",\"type\":\"Plot\"},\"ticker\":{\"id\":\"e5c6bed7-f608-4719-a3ae-a1fb1ab1a603\",\"type\":\"BasicTicker\"}},\"id\":\"4de323b5-843b-4100-93a2-98fcd4902919\",\"type\":\"LinearAxis\"},{\"attributes\":{},\"id\":\"573d9132-4d1c-4073-b3db-243d495989a5\",\"type\":\"BasicTicker\"},{\"attributes\":{\"children\":[{\"id\":\"4ce27d6f-f8cc-49ad-a2ca-6089e3a0f4b4\",\"type\":\"Row\"}]},\"id\":\"34890f39-32ae-4385-a699-e2f63312c07c\",\"type\":\"Column\"},{\"attributes\":{\"axis_label\":\"pressure [mb]\",\"formatter\":{\"id\":\"4b0fac88-98c1-46dc-a5e8-16cb0fc6d298\",\"type\":\"LogTickFormatter\"},\"plot\":{\"id\":\"13a4e602-d028-4d19-8050-34031da7ab2b\",\"subtype\":\"Figure\",\"type\":\"Plot\"},\"ticker\":{\"id\":\"3727825f-1732-4494-afcc-be0358f97323\",\"type\":\"LogTicker\"}},\"id\":\"3f2f4c93-29dd-4b2e-a740-c9df4839568d\",\"type\":\"LogAxis\"},{\"attributes\":{\"callback\":null,\"column_names\":[\"x\",\"y\"],\"data\":{\"x\":{\"__ndarray__\":\"UP/sVrX1or9gXExhFdeiv9R0QIkEkKK/vkFvglNFor8wFQkQf/mhv5mh0DYnxKG/IP4OA2Vsob/k9/5Sexuhvy90ZGYY16C/Q6X9ThSaoL+5ccDriWegv8g7lFxWRaC/dieYZPYPoL9G1G8f7CagvwW94YVH956/WnMGml1kmb8Jz+lRb0iOv/qphH8+/mS/GdM1W8VXiT/RrCVKZuieP6pdUDUzYKo//1R8RpnCsz+kX66HJ6K5P5NjtXCO97g/raGfbHSVsj+m5mvJvOuoPxpIM/CFxJ8/KEj/2uCVkz9CXAlCUVeJP17bc0pUMIE/KZXRwL/sdT8+0b8lA25kP1yLmI7HMDE/B2bA8otGWr8gJ+Q0WPlwvx/kabdl2X6/Yn2o2ajzhb9X4N0qhcmLv9x0no1pYZG/mrBlSAHhlL9pf1ZPnJKWv4Aj33ecOpa/mddToz5mlb+9DnRr1G6Uv7WM6F8RSpO/vIL9b9b0kb/8Ppjrn22Qv/JLBHeOa42/4Tum+Dyiib83TisBCIqFvxK4ZgwiO4G/bkntEgyYeb/mAnNKQpZwv5FOzJaGw12/jpyySTsOPz+JQXrwtUxnP2JEqRzWvXU/0u6zcZQhgD9wVnKF35yFP0hjqhw3VYs/58796celkD9rPkniLsCTP6TpNTsn/ZY/3Pl2+XNdmj//+ePhMN2dP70jcuAmuqA/OpP0OCWDoj/w2ilGKzGkP89l7kpgraU/jy8R14D0pj/QmCjGIhuoP00d3IQYO6k/Ed4wZzxlqj9TvZrbO6WrP+AOz3DVBa0/\",\"dtype\":\"float64\",\"shape\":[75]},\"y\":{\"__ndarray__\":\"GhExyth1ND/Sv8nbtpRIP2vylNV0PVE/aTum7souWD/At0SJ8fVgPw3Iuahxymc/MSNhhJWvcD/bTfBN02d3P2zb5nxnaoA/CD5h5MAGhz8NmeH1TyaQP+zrCsc9p5Y/LbKd76fGnz/bLW5ISEmmPww9YvTcQq8/JV2OstnstT8Er5Y7M8G+P0c+r3jqkcU/5h99k6ZBzj88bCIzFzjVP4enV8oyxN0//yH99nXg5D8qOpLLf0jtP5kqGJXUifQ/c9cS8kHP/D+/DpwzojQEQIEmwoanVwxA4lgXt9HgE0BSSZ2AJuIbQAMJih9jjiNA5q4l5INuK0AwTKYKRj0zQNv5fmq8/DpAaCJseHrtQkB/+zpwzoxKQM3MzMzMeFJAZmZmZmZqWEAAAAAAAFxeQM3MzMzMJmJAmpmZmZkfZUBmZmZmZhhoQDMzMzMzEWtAAAAAAAAKbkBmZmZmZoFwQM3MzMzM/XFAMzMzMzN6c0CamZmZmfZ0QAAAAAAAc3ZAZmZmZmbvd0DNzMzMzGt5QDMzMzMz6HpAmpmZmZlkfEAAAAAAAOF9QGZmZmZmXX9AZmZmZuZsgECamZmZGSuBQM3MzMxM6YFAAAAAAICngkAzMzMzs2WDQGZmZmbmI4RAmpmZmRnihEDNzMzMTKCFQAAAAACAXoZAMzMzM7Mch0BmZmZm5tqHQJqZmZkZmYhAzczMzExXiUAAAAAAgBWKQDMzMzOz04pAZmZmZuaRi0CamZmZGVCMQM3MzMxMDo1AAAAAAIDMjUAzMzMzs4qOQGZmZmbmSI9A\",\"dtype\":\"float64\",\"shape\":[75]}}},\"id\":\"db5495d4-8f93-409c-a449-3080a4d8eb6f\",\"type\":\"ColumnDataSource\"},{\"attributes\":{\"fill_alpha\":{\"value\":0.7},\"fill_color\":{\"value\":\"#984ea3\"},\"line_alpha\":{\"value\":0.7},\"line_color\":{\"value\":\"#984ea3\"},\"x\":{\"field\":\"x\"},\"y\":{\"field\":\"y\"}},\"id\":\"8f5bbda7-9f70-48c1-a5fa-1bfa3ea09bae\",\"type\":\"Square\"},{\"attributes\":{},\"id\":\"4b73591a-5bf9-48b9-98b8-704533ec1dd1\",\"type\":\"SaveTool\"},{\"attributes\":{},\"id\":\"30e82a5e-137e-4fce-8ec3-54de9ead4e87\",\"type\":\"LogScale\"},{\"attributes\":{\"active_drag\":\"auto\",\"active_inspect\":\"auto\",\"active_scroll\":\"auto\",\"active_tap\":\"auto\",\"tools\":[{\"id\":\"b1ebb11f-3e4e-438b-b7df-5bbcce991ef2\",\"type\":\"PanTool\"},{\"id\":\"3e9aaebb-6278-46b9-b280-74d3b7e09b34\",\"type\":\"WheelZoomTool\"},{\"id\":\"9cacdc27-fc9a-4499-a8d1-02ef224de5c9\",\"type\":\"BoxZoomTool\"},{\"id\":\"4b73591a-5bf9-48b9-98b8-704533ec1dd1\",\"type\":\"SaveTool\"},{\"id\":\"7affc56a-f44f-4220-90d6-863f366a65c2\",\"type\":\"ResetTool\"},{\"id\":\"5a46acaa-032b-4520-9588-798856e1d5ab\",\"type\":\"HelpTool\"}]},\"id\":\"af8962a7-5b95-432d-b299-34a617e335bf\",\"type\":\"Toolbar\"},{\"attributes\":{},\"id\":\"e5c6bed7-f608-4719-a3ae-a1fb1ab1a603\",\"type\":\"BasicTicker\"},{\"attributes\":{},\"id\":\"8c6c897b-8eeb-4abb-84a0-317bd0621321\",\"type\":\"PanTool\"},{\"attributes\":{\"line_alpha\":0.6,\"line_color\":\"#e41a1c\",\"line_dash\":[6],\"line_width\":5,\"x\":{\"field\":\"x\"},\"y\":{\"field\":\"y\"}},\"id\":\"d0b43077-932e-4285-bc83-fe01c35598c6\",\"type\":\"Line\"},{\"attributes\":{},\"id\":\"44990942-e3c6-4a2c-b2ec-a40c9822778b\",\"type\":\"BasicTickFormatter\"},{\"attributes\":{\"line_alpha\":0.1,\"line_color\":\"#1f77b4\",\"line_width\":1.5,\"x\":{\"field\":\"x\"},\"y\":{\"field\":\"y\"}},\"id\":\"0b3ba1c1-619e-4176-87a9-a492532b6002\",\"type\":\"Line\"},{\"attributes\":{},\"id\":\"2e80dbb9-0c2e-4ecf-aee0-d702b9854d39\",\"type\":\"HelpTool\"},{\"attributes\":{},\"id\":\"7affc56a-f44f-4220-90d6-863f366a65c2\",\"type\":\"ResetTool\"},{\"attributes\":{\"label\":{\"value\":\"CRD\"},\"renderers\":[{\"id\":\"7911ec0b-30ed-448a-8129-17f7fdb479b5\",\"type\":\"GlyphRenderer\"},{\"id\":\"718942d7-356a-4783-bf2f-4c222f3f2ab8\",\"type\":\"GlyphRenderer\"}]},\"id\":\"82eee820-60ef-418a-8abf-6dd6ce77f1e6\",\"type\":\"LegendItem\"},{\"attributes\":{\"overlay\":{\"id\":\"11557720-a6ed-4149-9a88-7eb7d2263e2d\",\"type\":\"BoxAnnotation\"}},\"id\":\"9d253d5d-de76-4c1b-8565-4d19f9879d49\",\"type\":\"BoxZoomTool\"},{\"attributes\":{\"overlay\":{\"id\":\"21995504-f70a-4cb5-8168-d1edff37f49e\",\"type\":\"BoxAnnotation\"}},\"id\":\"9cacdc27-fc9a-4499-a8d1-02ef224de5c9\",\"type\":\"BoxZoomTool\"},{\"attributes\":{\"source\":{\"id\":\"8c3c7437-0715-4c03-a2eb-70e59365bce4\",\"type\":\"ColumnDataSource\"}},\"id\":\"32c0c45d-a387-45a9-8dda-5f4858cdf6c9\",\"type\":\"CDSView\"},{\"attributes\":{},\"id\":\"4c2a238f-1c09-46b4-9b94-6018b846d45d\",\"type\":\"LinearScale\"},{\"attributes\":{\"label\":{\"value\":\"WGT igg=10 wgt_flux=2\"},\"renderers\":[{\"id\":\"18475f6f-89be-4aa4-aa66-91e4a7c174e8\",\"type\":\"GlyphRenderer\"},{\"id\":\"e13b2d26-715e-4c72-8a51-1bb37fefda10\",\"type\":\"GlyphRenderer\"}]},\"id\":\"e3e9c6d9-629e-4a22-a240-24c76fd1aa60\",\"type\":\"LegendItem\"},{\"attributes\":{\"children\":[{\"id\":\"9ac9ce46-d524-4a41-be60-3cea26acf5b9\",\"subtype\":\"Figure\",\"type\":\"Plot\"},{\"id\":\"13a4e602-d028-4d19-8050-34031da7ab2b\",\"subtype\":\"Figure\",\"type\":\"Plot\"}]},\"id\":\"4ce27d6f-f8cc-49ad-a2ca-6089e3a0f4b4\",\"type\":\"Row\"},{\"attributes\":{\"line_alpha\":0.6,\"line_color\":\"#e41a1c\",\"line_dash\":[6],\"line_width\":5,\"x\":{\"field\":\"x\"},\"y\":{\"field\":\"y\"}},\"id\":\"614fc458-15ac-498c-bcc3-4839d3d2f5c6\",\"type\":\"Line\"},{\"attributes\":{\"data_source\":{\"id\":\"c87ea0b7-ce5e-4208-aa42-d770643dc450\",\"type\":\"ColumnDataSource\"},\"glyph\":{\"id\":\"37454261-1a26-4ddb-8cd2-1367ff6d3e16\",\"type\":\"Line\"},\"hover_glyph\":null,\"muted_glyph\":null,\"nonselection_glyph\":{\"id\":\"44ab0de6-ffb6-4954-afe1-0c698145ab3f\",\"type\":\"Line\"},\"selection_glyph\":null,\"view\":{\"id\":\"50068d43-f9bf-482d-8c9c-2214a9964750\",\"type\":\"CDSView\"}},\"id\":\"565f697f-4e1e-414c-889c-ff38995cbda1\",\"type\":\"GlyphRenderer\"},{\"attributes\":{},\"id\":\"297694a1-885c-425f-a8f7-52839456a1cc\",\"type\":\"BasicTicker\"},{\"attributes\":{\"tools\":[{\"id\":\"8c6c897b-8eeb-4abb-84a0-317bd0621321\",\"type\":\"PanTool\"},{\"id\":\"088ab813-b0d8-4346-8ca0-159104379e0e\",\"type\":\"WheelZoomTool\"},{\"id\":\"9d253d5d-de76-4c1b-8565-4d19f9879d49\",\"type\":\"BoxZoomTool\"},{\"id\":\"3d168039-a65a-4b93-aa8f-677929c8c64f\",\"type\":\"SaveTool\"},{\"id\":\"898afc42-e675-4584-9633-07f596bdc47a\",\"type\":\"ResetTool\"},{\"id\":\"2e80dbb9-0c2e-4ecf-aee0-d702b9854d39\",\"type\":\"HelpTool\"},{\"id\":\"b1ebb11f-3e4e-438b-b7df-5bbcce991ef2\",\"type\":\"PanTool\"},{\"id\":\"3e9aaebb-6278-46b9-b280-74d3b7e09b34\",\"type\":\"WheelZoomTool\"},{\"id\":\"9cacdc27-fc9a-4499-a8d1-02ef224de5c9\",\"type\":\"BoxZoomTool\"},{\"id\":\"4b73591a-5bf9-48b9-98b8-704533ec1dd1\",\"type\":\"SaveTool\"},{\"id\":\"7affc56a-f44f-4220-90d6-863f366a65c2\",\"type\":\"ResetTool\"},{\"id\":\"5a46acaa-032b-4520-9588-798856e1d5ab\",\"type\":\"HelpTool\"}]},\"id\":\"a16d8d03-48bb-48d7-96e3-0aa270b8f68e\",\"type\":\"ProxyToolbar\"},{\"attributes\":{\"callback\":null,\"column_names\":[\"x\",\"y\"],\"data\":{\"x\":{\"__ndarray__\":\"xIKY8LFtkL9xIH+bwUOQvw/xN2xn0I+/toB2DCMLj79DP6LVWUKOv/8ZsiNvdo2/+dpWBbOnjL8ICPV1nNaLvw7wRBDOA4u/L6V6WEswir+axIiNRWCJv6P4vHa6M4m/wjxWfjHFiL8keK4BCfuHvzdaMyc3J4W/RPIOakvgeL9AzoAbW5xZP72qObfWyYY/fIXFRgoZlz8UrqUDu8SiP/ckyzZ/qKs/TKJC5Fkqsz9Rv2aJXxi4P6zqkQPTLLg/wBc4lW2/sz+yjfI1T7etPySZGAiaC6U/bFU/YQdFnD9tm3YmYvaRP07sP0z8BIU/ejRUiB38cT+4Y95fy08kP3YiLX7XkWK/vi+4DEAUer/k6tJ76pKDv4lT2zJ+nIy/DcxL80fHkr9g2kLXD3+Wv61s1a2bJJq/+YOOyMFtnb/e26SOhPCev8UVv0UBhJ6/7uK3UbZinb/TJKt93vabv876HpDCUpq/qjy4qsZpmL8deJKa8zOWvxdnGyl235O/50GsOZdKkb/fdKYNxxiMv5jmTf0DwYe/zswX10Dogb8RZRxW9uJ4v2Z1AE7/Bmq/bqSr666IN7+Rlwu1NV9lP7ZzIyNSzXY/0k7rbvOvgT8h3u6WqSOIP5SHypkkmI4/25kdEia6kj9CCHk77x2WP2vHgSs8qZk/+Je0nxw6nT+EC/7WOXegP8fcL3fHRaI/YkC3oXofpD9UC5xuY86lP/QFZjWLSac/1HXuy8SiqD+V/vXO4sepP0VLBz4c7ao/pORRYA4MrD8HMZy18imtP9SBEb2vZK4/\",\"dtype\":\"float64\",\"shape\":[75]},\"y\":{\"__ndarray__\":\"GhExyth1ND/Sv8nbtpRIP2vylNV0PVE/aTum7souWD/At0SJ8fVgPw3Iuahxymc/MSNhhJWvcD/bTfBN02d3P2zb5nxnaoA/CD5h5MAGhz8NmeH1TyaQP+zrCsc9p5Y/LbKd76fGnz/bLW5ISEmmPww9YvTcQq8/JV2OstnstT8Er5Y7M8G+P0c+r3jqkcU/5h99k6ZBzj88bCIzFzjVP4enV8oyxN0//yH99nXg5D8qOpLLf0jtP5kqGJXUifQ/c9cS8kHP/D+/DpwzojQEQIEmwoanVwxA4lgXt9HgE0BSSZ2AJuIbQAMJih9jjiNA5q4l5INuK0AwTKYKRj0zQNv5fmq8/DpAaCJseHrtQkB/+zpwzoxKQM3MzMzMeFJAZmZmZmZqWEAAAAAAAFxeQM3MzMzMJmJAmpmZmZkfZUBmZmZmZhhoQDMzMzMzEWtAAAAAAAAKbkBmZmZmZoFwQM3MzMzM/XFAMzMzMzN6c0CamZmZmfZ0QAAAAAAAc3ZAZmZmZmbvd0DNzMzMzGt5QDMzMzMz6HpAmpmZmZlkfEAAAAAAAOF9QGZmZmZmXX9AZmZmZuZsgECamZmZGSuBQM3MzMxM6YFAAAAAAICngkAzMzMzs2WDQGZmZmbmI4RAmpmZmRnihEDNzMzMTKCFQAAAAACAXoZAMzMzM7Mch0BmZmZm5tqHQJqZmZkZmYhAzczMzExXiUAAAAAAgBWKQDMzMzOz04pAZmZmZuaRi0CamZmZGVCMQM3MzMxMDo1AAAAAAIDMjUAzMzMzs4qOQGZmZmbmSI9A\",\"dtype\":\"float64\",\"shape\":[75]}}},\"id\":\"8c3c7437-0715-4c03-a2eb-70e59365bce4\",\"type\":\"ColumnDataSource\"},{\"attributes\":{\"plot\":{\"id\":\"13a4e602-d028-4d19-8050-34031da7ab2b\",\"subtype\":\"Figure\",\"type\":\"Plot\"},\"ticker\":{\"id\":\"573d9132-4d1c-4073-b3db-243d495989a5\",\"type\":\"BasicTicker\"}},\"id\":\"a073d9e2-3150-446b-9fac-d6c19dd264ac\",\"type\":\"Grid\"},{\"attributes\":{\"line_color\":\"#4daf4a\",\"line_width\":1.5,\"x\":{\"field\":\"x\"},\"y\":{\"field\":\"y\"}},\"id\":\"5d2037af-ee0b-4712-9d9f-8e742dc828e9\",\"type\":\"Line\"},{\"attributes\":{},\"id\":\"898afc42-e675-4584-9633-07f596bdc47a\",\"type\":\"ResetTool\"},{\"attributes\":{\"num_minor_ticks\":10},\"id\":\"3727825f-1732-4494-afcc-be0358f97323\",\"type\":\"LogTicker\"},{\"attributes\":{},\"id\":\"3d168039-a65a-4b93-aa8f-677929c8c64f\",\"type\":\"SaveTool\"},{\"attributes\":{\"line_alpha\":0.1,\"line_color\":\"#1f77b4\",\"line_width\":3,\"x\":{\"field\":\"x\"},\"y\":{\"field\":\"y\"}},\"id\":\"44ab0de6-ffb6-4954-afe1-0c698145ab3f\",\"type\":\"Line\"},{\"attributes\":{\"axis_label\":\"pressure [mb]\",\"formatter\":{\"id\":\"da1a3b63-4156-428a-934b-d35cb17c8b37\",\"type\":\"BasicTickFormatter\"},\"plot\":{\"id\":\"9ac9ce46-d524-4a41-be60-3cea26acf5b9\",\"subtype\":\"Figure\",\"type\":\"Plot\"},\"ticker\":{\"id\":\"297694a1-885c-425f-a8f7-52839456a1cc\",\"type\":\"BasicTicker\"}},\"id\":\"5feddf46-c9dd-45bf-a627-b0fcc7296a76\",\"type\":\"LinearAxis\"},{\"attributes\":{\"dimension\":1,\"plot\":{\"id\":\"9ac9ce46-d524-4a41-be60-3cea26acf5b9\",\"subtype\":\"Figure\",\"type\":\"Plot\"},\"ticker\":{\"id\":\"297694a1-885c-425f-a8f7-52839456a1cc\",\"type\":\"BasicTicker\"}},\"id\":\"708b9b43-c3fa-40f7-8cc6-78e9cf3f8bb1\",\"type\":\"Grid\"},{\"attributes\":{\"toolbar\":{\"id\":\"a16d8d03-48bb-48d7-96e3-0aa270b8f68e\",\"type\":\"ProxyToolbar\"},\"toolbar_location\":\"above\"},\"id\":\"08588c5e-fb4d-4776-ba8d-5779b3f55874\",\"type\":\"ToolbarBox\"},{\"attributes\":{\"ticker\":null},\"id\":\"4b0fac88-98c1-46dc-a5e8-16cb0fc6d298\",\"type\":\"LogTickFormatter\"},{\"attributes\":{\"data_source\":{\"id\":\"c5e47ad2-8cb4-475c-81c0-84d01c94b5ea\",\"type\":\"ColumnDataSource\"},\"glyph\":{\"id\":\"0463f502-092f-4448-994e-72a2aa56311c\",\"type\":\"Circle\"},\"hover_glyph\":null,\"muted_glyph\":null,\"nonselection_glyph\":{\"id\":\"fc44c8ce-5e70-4b90-a285-0176b976f182\",\"type\":\"Circle\"},\"selection_glyph\":null,\"view\":{\"id\":\"f243a206-a8e1-4682-b9ea-566a53e1a33f\",\"type\":\"CDSView\"}},\"id\":\"7911ec0b-30ed-448a-8129-17f7fdb479b5\",\"type\":\"GlyphRenderer\"},{\"attributes\":{\"line_alpha\":0.1,\"line_color\":\"#1f77b4\",\"line_dash\":[6],\"line_width\":5,\"x\":{\"field\":\"x\"},\"y\":{\"field\":\"y\"}},\"id\":\"e316dcab-2265-46b6-9437-398cdbdaf9c2\",\"type\":\"Line\"},{\"attributes\":{\"callback\":null,\"column_names\":[\"x\",\"y\"],\"data\":{\"x\":{\"__ndarray__\":\"UP/sVrX1or9gXExhFdeiv9R0QIkEkKK/vkFvglNFor8wFQkQf/mhv5mh0DYnxKG/IP4OA2Vsob/k9/5Sexuhvy90ZGYY16C/Q6X9ThSaoL+5ccDriWegv8g7lFxWRaC/dieYZPYPoL9G1G8f7CagvwW94YVH956/WnMGml1kmb8Jz+lRb0iOv/qphH8+/mS/GdM1W8VXiT/RrCVKZuieP6pdUDUzYKo//1R8RpnCsz+kX66HJ6K5P5NjtXCO97g/raGfbHSVsj+m5mvJvOuoPxpIM/CFxJ8/KEj/2uCVkz9CXAlCUVeJP17bc0pUMIE/KZXRwL/sdT8+0b8lA25kP1yLmI7HMDE/B2bA8otGWr8gJ+Q0WPlwvx/kabdl2X6/Yn2o2ajzhb9X4N0qhcmLv9x0no1pYZG/mrBlSAHhlL9pf1ZPnJKWv4Aj33ecOpa/mddToz5mlb+9DnRr1G6Uv7WM6F8RSpO/vIL9b9b0kb/8Ppjrn22Qv/JLBHeOa42/4Tum+Dyiib83TisBCIqFvxK4ZgwiO4G/bkntEgyYeb/mAnNKQpZwv5FOzJaGw12/jpyySTsOPz+JQXrwtUxnP2JEqRzWvXU/0u6zcZQhgD9wVnKF35yFP0hjqhw3VYs/58796celkD9rPkniLsCTP6TpNTsn/ZY/3Pl2+XNdmj//+ePhMN2dP70jcuAmuqA/OpP0OCWDoj/w2ilGKzGkP89l7kpgraU/jy8R14D0pj/QmCjGIhuoP00d3IQYO6k/Ed4wZzxlqj9TvZrbO6WrP+AOz3DVBa0/\",\"dtype\":\"float64\",\"shape\":[75]},\"y\":{\"__ndarray__\":\"GhExyth1ND/Sv8nbtpRIP2vylNV0PVE/aTum7souWD/At0SJ8fVgPw3Iuahxymc/MSNhhJWvcD/bTfBN02d3P2zb5nxnaoA/CD5h5MAGhz8NmeH1TyaQP+zrCsc9p5Y/LbKd76fGnz/bLW5ISEmmPww9YvTcQq8/JV2OstnstT8Er5Y7M8G+P0c+r3jqkcU/5h99k6ZBzj88bCIzFzjVP4enV8oyxN0//yH99nXg5D8qOpLLf0jtP5kqGJXUifQ/c9cS8kHP/D+/DpwzojQEQIEmwoanVwxA4lgXt9HgE0BSSZ2AJuIbQAMJih9jjiNA5q4l5INuK0AwTKYKRj0zQNv5fmq8/DpAaCJseHrtQkB/+zpwzoxKQM3MzMzMeFJAZmZmZmZqWEAAAAAAAFxeQM3MzMzMJmJAmpmZmZkfZUBmZmZmZhhoQDMzMzMzEWtAAAAAAAAKbkBmZmZmZoFwQM3MzMzM/XFAMzMzMzN6c0CamZmZmfZ0QAAAAAAAc3ZAZmZmZmbvd0DNzMzMzGt5QDMzMzMz6HpAmpmZmZlkfEAAAAAAAOF9QGZmZmZmXX9AZmZmZuZsgECamZmZGSuBQM3MzMxM6YFAAAAAAICngkAzMzMzs2WDQGZmZmbmI4RAmpmZmRnihEDNzMzMTKCFQAAAAACAXoZAMzMzM7Mch0BmZmZm5tqHQJqZmZkZmYhAzczMzExXiUAAAAAAgBWKQDMzMzOz04pAZmZmZuaRi0CamZmZGVCMQM3MzMxMDo1AAAAAAIDMjUAzMzMzs4qOQGZmZmbmSI9A\",\"dtype\":\"float64\",\"shape\":[75]}}},\"id\":\"7cbb02fa-1626-4508-be1b-39502ecffb14\",\"type\":\"ColumnDataSource\"},{\"attributes\":{\"source\":{\"id\":\"c5e47ad2-8cb4-475c-81c0-84d01c94b5ea\",\"type\":\"ColumnDataSource\"}},\"id\":\"f243a206-a8e1-4682-b9ea-566a53e1a33f\",\"type\":\"CDSView\"},{\"attributes\":{\"callback\":null,\"end\":0.10145609062,\"start\":-0.03375109262},\"id\":\"7ea83620-3f3f-4014-9e09-3ade160ebe9f\",\"type\":\"Range1d\"},{\"attributes\":{\"fill_alpha\":{\"value\":0.7},\"fill_color\":{\"value\":\"#4daf4a\"},\"line_alpha\":{\"value\":0.7},\"line_color\":{\"value\":\"#4daf4a\"},\"x\":{\"field\":\"x\"},\"y\":{\"field\":\"y\"}},\"id\":\"0463f502-092f-4448-994e-72a2aa56311c\",\"type\":\"Circle\"},{\"attributes\":{\"fill_alpha\":{\"value\":0.1},\"fill_color\":{\"value\":\"#1f77b4\"},\"line_alpha\":{\"value\":0.1},\"line_color\":{\"value\":\"#1f77b4\"},\"x\":{\"field\":\"x\"},\"y\":{\"field\":\"y\"}},\"id\":\"fc44c8ce-5e70-4b90-a285-0176b976f182\",\"type\":\"Circle\"},{\"attributes\":{\"callback\":null,\"column_names\":[\"x\",\"y\"],\"data\":{\"x\":{\"__ndarray__\":\"xIKY8LFtkL9xIH+bwUOQvw/xN2xn0I+/toB2DCMLj79DP6LVWUKOv/8ZsiNvdo2/+dpWBbOnjL8ICPV1nNaLvw7wRBDOA4u/L6V6WEswir+axIiNRWCJv6P4vHa6M4m/wjxWfjHFiL8keK4BCfuHvzdaMyc3J4W/RPIOakvgeL9AzoAbW5xZP72qObfWyYY/fIXFRgoZlz8UrqUDu8SiP/ckyzZ/qKs/TKJC5Fkqsz9Rv2aJXxi4P6zqkQPTLLg/wBc4lW2/sz+yjfI1T7etPySZGAiaC6U/bFU/YQdFnD9tm3YmYvaRP07sP0z8BIU/ejRUiB38cT+4Y95fy08kP3YiLX7XkWK/vi+4DEAUer/k6tJ76pKDv4lT2zJ+nIy/DcxL80fHkr9g2kLXD3+Wv61s1a2bJJq/+YOOyMFtnb/e26SOhPCev8UVv0UBhJ6/7uK3UbZinb/TJKt93vabv876HpDCUpq/qjy4qsZpmL8deJKa8zOWvxdnGyl235O/50GsOZdKkb/fdKYNxxiMv5jmTf0DwYe/zswX10Dogb8RZRxW9uJ4v2Z1AE7/Bmq/bqSr666IN7+Rlwu1NV9lP7ZzIyNSzXY/0k7rbvOvgT8h3u6WqSOIP5SHypkkmI4/25kdEia6kj9CCHk77x2WP2vHgSs8qZk/+Je0nxw6nT+EC/7WOXegP8fcL3fHRaI/YkC3oXofpD9UC5xuY86lP/QFZjWLSac/1HXuy8SiqD+V/vXO4sepP0VLBz4c7ao/pORRYA4MrD8HMZy18imtP9SBEb2vZK4/\",\"dtype\":\"float64\",\"shape\":[75]},\"y\":{\"__ndarray__\":\"GhExyth1ND/Sv8nbtpRIP2vylNV0PVE/aTum7souWD/At0SJ8fVgPw3Iuahxymc/MSNhhJWvcD/bTfBN02d3P2zb5nxnaoA/CD5h5MAGhz8NmeH1TyaQP+zrCsc9p5Y/LbKd76fGnz/bLW5ISEmmPww9YvTcQq8/JV2OstnstT8Er5Y7M8G+P0c+r3jqkcU/5h99k6ZBzj88bCIzFzjVP4enV8oyxN0//yH99nXg5D8qOpLLf0jtP5kqGJXUifQ/c9cS8kHP/D+/DpwzojQEQIEmwoanVwxA4lgXt9HgE0BSSZ2AJuIbQAMJih9jjiNA5q4l5INuK0AwTKYKRj0zQNv5fmq8/DpAaCJseHrtQkB/+zpwzoxKQM3MzMzMeFJAZmZmZmZqWEAAAAAAAFxeQM3MzMzMJmJAmpmZmZkfZUBmZmZmZhhoQDMzMzMzEWtAAAAAAAAKbkBmZmZmZoFwQM3MzMzM/XFAMzMzMzN6c0CamZmZmfZ0QAAAAAAAc3ZAZmZmZmbvd0DNzMzMzGt5QDMzMzMz6HpAmpmZmZlkfEAAAAAAAOF9QGZmZmZmXX9AZmZmZuZsgECamZmZGSuBQM3MzMxM6YFAAAAAAICngkAzMzMzs2WDQGZmZmbmI4RAmpmZmRnihEDNzMzMTKCFQAAAAACAXoZAMzMzM7Mch0BmZmZm5tqHQJqZmZkZmYhAzczMzExXiUAAAAAAgBWKQDMzMzOz04pAZmZmZuaRi0CamZmZGVCMQM3MzMxMDo1AAAAAAIDMjUAzMzMzs4qOQGZmZmbmSI9A\",\"dtype\":\"float64\",\"shape\":[75]}}},\"id\":\"8c2b2fdb-5423-409d-836b-381959adad45\",\"type\":\"ColumnDataSource\"},{\"attributes\":{},\"id\":\"da1a3b63-4156-428a-934b-d35cb17c8b37\",\"type\":\"BasicTickFormatter\"},{\"attributes\":{\"line_color\":\"#4daf4a\",\"line_width\":1.5,\"x\":{\"field\":\"x\"},\"y\":{\"field\":\"y\"}},\"id\":\"97987f6b-5161-4a42-aa94-26d94dd4f22b\",\"type\":\"Line\"},{\"attributes\":{\"callback\":null,\"column_names\":[\"x\",\"y\"],\"data\":{\"x\":{\"__ndarray__\":\"xIKY8LFtkL9xIH+bwUOQvw/xN2xn0I+/toB2DCMLj79DP6LVWUKOv/8ZsiNvdo2/+dpWBbOnjL8ICPV1nNaLvw7wRBDOA4u/L6V6WEswir+axIiNRWCJv6P4vHa6M4m/wjxWfjHFiL8keK4BCfuHvzdaMyc3J4W/RPIOakvgeL9AzoAbW5xZP72qObfWyYY/fIXFRgoZlz8UrqUDu8SiP/ckyzZ/qKs/TKJC5Fkqsz9Rv2aJXxi4P6zqkQPTLLg/wBc4lW2/sz+yjfI1T7etPySZGAiaC6U/bFU/YQdFnD9tm3YmYvaRP07sP0z8BIU/ejRUiB38cT+4Y95fy08kP3YiLX7XkWK/vi+4DEAUer/k6tJ76pKDv4lT2zJ+nIy/DcxL80fHkr9g2kLXD3+Wv61s1a2bJJq/+YOOyMFtnb/e26SOhPCev8UVv0UBhJ6/7uK3UbZinb/TJKt93vabv876HpDCUpq/qjy4qsZpmL8deJKa8zOWvxdnGyl235O/50GsOZdKkb/fdKYNxxiMv5jmTf0DwYe/zswX10Dogb8RZRxW9uJ4v2Z1AE7/Bmq/bqSr666IN7+Rlwu1NV9lP7ZzIyNSzXY/0k7rbvOvgT8h3u6WqSOIP5SHypkkmI4/25kdEia6kj9CCHk77x2WP2vHgSs8qZk/+Je0nxw6nT+EC/7WOXegP8fcL3fHRaI/YkC3oXofpD9UC5xuY86lP/QFZjWLSac/1HXuy8SiqD+V/vXO4sepP0VLBz4c7ao/pORRYA4MrD8HMZy18imtP9SBEb2vZK4/\",\"dtype\":\"float64\",\"shape\":[75]},\"y\":{\"__ndarray__\":\"GhExyth1ND/Sv8nbtpRIP2vylNV0PVE/aTum7souWD/At0SJ8fVgPw3Iuahxymc/MSNhhJWvcD/bTfBN02d3P2zb5nxnaoA/CD5h5MAGhz8NmeH1TyaQP+zrCsc9p5Y/LbKd76fGnz/bLW5ISEmmPww9YvTcQq8/JV2OstnstT8Er5Y7M8G+P0c+r3jqkcU/5h99k6ZBzj88bCIzFzjVP4enV8oyxN0//yH99nXg5D8qOpLLf0jtP5kqGJXUifQ/c9cS8kHP/D+/DpwzojQEQIEmwoanVwxA4lgXt9HgE0BSSZ2AJuIbQAMJih9jjiNA5q4l5INuK0AwTKYKRj0zQNv5fmq8/DpAaCJseHrtQkB/+zpwzoxKQM3MzMzMeFJAZmZmZmZqWEAAAAAAAFxeQM3MzMzMJmJAmpmZmZkfZUBmZmZmZhhoQDMzMzMzEWtAAAAAAAAKbkBmZmZmZoFwQM3MzMzM/XFAMzMzMzN6c0CamZmZmfZ0QAAAAAAAc3ZAZmZmZmbvd0DNzMzMzGt5QDMzMzMz6HpAmpmZmZlkfEAAAAAAAOF9QGZmZmZmXX9AZmZmZuZsgECamZmZGSuBQM3MzMxM6YFAAAAAAICngkAzMzMzs2WDQGZmZmbmI4RAmpmZmRnihEDNzMzMTKCFQAAAAACAXoZAMzMzM7Mch0BmZmZm5tqHQJqZmZkZmYhAzczMzExXiUAAAAAAgBWKQDMzMzOz04pAZmZmZuaRi0CamZmZGVCMQM3MzMxMDo1AAAAAAIDMjUAzMzMzs4qOQGZmZmbmSI9A\",\"dtype\":\"float64\",\"shape\":[75]}}},\"id\":\"4b614df0-f23a-49dc-b2e6-3beacb95c6f4\",\"type\":\"ColumnDataSource\"},{\"attributes\":{\"data_source\":{\"id\":\"7cbb02fa-1626-4508-be1b-39502ecffb14\",\"type\":\"ColumnDataSource\"},\"glyph\":{\"id\":\"97987f6b-5161-4a42-aa94-26d94dd4f22b\",\"type\":\"Line\"},\"hover_glyph\":null,\"muted_glyph\":null,\"nonselection_glyph\":{\"id\":\"796f35ae-4036-4793-ba2b-2bc27c54325b\",\"type\":\"Line\"},\"selection_glyph\":null,\"view\":{\"id\":\"455b4a80-e5c5-4120-aa4b-80faccd4c956\",\"type\":\"CDSView\"}},\"id\":\"718942d7-356a-4783-bf2f-4c222f3f2ab8\",\"type\":\"GlyphRenderer\"},{\"attributes\":{\"line_alpha\":0.1,\"line_color\":\"#1f77b4\",\"line_width\":1.5,\"x\":{\"field\":\"x\"},\"y\":{\"field\":\"y\"}},\"id\":\"796f35ae-4036-4793-ba2b-2bc27c54325b\",\"type\":\"Line\"},{\"attributes\":{\"source\":{\"id\":\"7cbb02fa-1626-4508-be1b-39502ecffb14\",\"type\":\"ColumnDataSource\"}},\"id\":\"455b4a80-e5c5-4120-aa4b-80faccd4c956\",\"type\":\"CDSView\"},{\"attributes\":{\"fill_alpha\":{\"value\":0.7},\"fill_color\":{\"value\":\"#984ea3\"},\"line_alpha\":{\"value\":0.7},\"line_color\":{\"value\":\"#984ea3\"},\"x\":{\"field\":\"x\"},\"y\":{\"field\":\"y\"}},\"id\":\"15d3445c-bd47-4a94-800b-2305189dd008\",\"type\":\"Square\"},{\"attributes\":{\"line_alpha\":0.6,\"line_color\":\"#984ea3\",\"line_width\":3,\"x\":{\"field\":\"x\"},\"y\":{\"field\":\"y\"}},\"id\":\"9465f75b-930a-4a3f-9398-0f249118039d\",\"type\":\"Line\"},{\"attributes\":{\"source\":{\"id\":\"4b614df0-f23a-49dc-b2e6-3beacb95c6f4\",\"type\":\"ColumnDataSource\"}},\"id\":\"c2494d17-240b-4978-b57b-d6e285463df0\",\"type\":\"CDSView\"},{\"attributes\":{\"fill_alpha\":{\"value\":0.1},\"fill_color\":{\"value\":\"#1f77b4\"},\"line_alpha\":{\"value\":0.1},\"line_color\":{\"value\":\"#1f77b4\"},\"x\":{\"field\":\"x\"},\"y\":{\"field\":\"y\"}},\"id\":\"56bed893-886b-4ad5-82ac-886811873f74\",\"type\":\"Square\"},{\"attributes\":{\"data_source\":{\"id\":\"4b614df0-f23a-49dc-b2e6-3beacb95c6f4\",\"type\":\"ColumnDataSource\"},\"glyph\":{\"id\":\"15d3445c-bd47-4a94-800b-2305189dd008\",\"type\":\"Square\"},\"hover_glyph\":null,\"muted_glyph\":null,\"nonselection_glyph\":{\"id\":\"56bed893-886b-4ad5-82ac-886811873f74\",\"type\":\"Square\"},\"selection_glyph\":null,\"view\":{\"id\":\"c2494d17-240b-4978-b57b-d6e285463df0\",\"type\":\"CDSView\"}},\"id\":\"18475f6f-89be-4aa4-aa66-91e4a7c174e8\",\"type\":\"GlyphRenderer\"},{\"attributes\":{\"items\":[{\"id\":\"de287d9e-dd26-43f7-ba47-9d5b7101f922\",\"type\":\"LegendItem\"},{\"id\":\"82eee820-60ef-418a-8abf-6dd6ce77f1e6\",\"type\":\"LegendItem\"},{\"id\":\"e3e9c6d9-629e-4a22-a240-24c76fd1aa60\",\"type\":\"LegendItem\"}],\"label_text_font_size\":{\"value\":\"8pt\"},\"location\":[10,-30],\"plot\":{\"id\":\"13a4e602-d028-4d19-8050-34031da7ab2b\",\"subtype\":\"Figure\",\"type\":\"Plot\"}},\"id\":\"22002647-aca9-405c-a4da-3bf2cc071352\",\"type\":\"Legend\"},{\"attributes\":{\"source\":{\"id\":\"8c2b2fdb-5423-409d-836b-381959adad45\",\"type\":\"ColumnDataSource\"}},\"id\":\"16c57b7c-96f2-45b6-bb53-973645eabc80\",\"type\":\"CDSView\"},{\"attributes\":{\"line_alpha\":0.1,\"line_color\":\"#1f77b4\",\"line_width\":3,\"x\":{\"field\":\"x\"},\"y\":{\"field\":\"y\"}},\"id\":\"c8e70ea3-b9a0-45d6-b92d-7b5b07ae7490\",\"type\":\"Line\"},{\"attributes\":{\"data_source\":{\"id\":\"8c2b2fdb-5423-409d-836b-381959adad45\",\"type\":\"ColumnDataSource\"},\"glyph\":{\"id\":\"9465f75b-930a-4a3f-9398-0f249118039d\",\"type\":\"Line\"},\"hover_glyph\":null,\"muted_glyph\":null,\"nonselection_glyph\":{\"id\":\"c8e70ea3-b9a0-45d6-b92d-7b5b07ae7490\",\"type\":\"Line\"},\"selection_glyph\":null,\"view\":{\"id\":\"16c57b7c-96f2-45b6-bb53-973645eabc80\",\"type\":\"CDSView\"}},\"id\":\"e13b2d26-715e-4c72-8a51-1bb37fefda10\",\"type\":\"GlyphRenderer\"},{\"attributes\":{\"children\":[{\"id\":\"08588c5e-fb4d-4776-ba8d-5779b3f55874\",\"type\":\"ToolbarBox\"},{\"id\":\"34890f39-32ae-4385-a699-e2f63312c07c\",\"type\":\"Column\"}]},\"id\":\"89fd523b-b238-4cd3-8f8d-d61434928ad6\",\"type\":\"Column\"},{\"attributes\":{\"source\":{\"id\":\"9e6325c0-5170-4858-8785-5cf41f3a0ad7\",\"type\":\"ColumnDataSource\"}},\"id\":\"4c31cf53-e4a3-4921-8e08-458717b68123\",\"type\":\"CDSView\"},{\"attributes\":{\"label\":{\"value\":\"CLIRAD `coolr_bands`\"},\"renderers\":[{\"id\":\"44d1c2cb-dd2c-4db0-b4b6-3e8f9d4d0858\",\"type\":\"GlyphRenderer\"}]},\"id\":\"de287d9e-dd26-43f7-ba47-9d5b7101f922\",\"type\":\"LegendItem\"},{\"attributes\":{},\"id\":\"088ab813-b0d8-4346-8ca0-159104379e0e\",\"type\":\"WheelZoomTool\"},{\"attributes\":{\"source\":{\"id\":\"51e583b1-0540-4288-ad41-0597e4f1d528\",\"type\":\"ColumnDataSource\"}},\"id\":\"142a69e6-02e1-4cfd-ac67-12c49c50b339\",\"type\":\"CDSView\"},{\"attributes\":{\"fill_alpha\":{\"value\":0.7},\"fill_color\":{\"value\":\"#4daf4a\"},\"line_alpha\":{\"value\":0.7},\"line_color\":{\"value\":\"#4daf4a\"},\"x\":{\"field\":\"x\"},\"y\":{\"field\":\"y\"}},\"id\":\"52167f64-6016-45eb-b890-d936c854c814\",\"type\":\"Circle\"},{\"attributes\":{\"below\":[{\"id\":\"4de323b5-843b-4100-93a2-98fcd4902919\",\"type\":\"LinearAxis\"}],\"left\":[{\"id\":\"5feddf46-c9dd-45bf-a627-b0fcc7296a76\",\"type\":\"LinearAxis\"}],\"plot_height\":500,\"plot_width\":400,\"renderers\":[{\"id\":\"4de323b5-843b-4100-93a2-98fcd4902919\",\"type\":\"LinearAxis\"},{\"id\":\"156cca37-1faf-4870-bd33-5dea47989ff1\",\"type\":\"Grid\"},{\"id\":\"5feddf46-c9dd-45bf-a627-b0fcc7296a76\",\"type\":\"LinearAxis\"},{\"id\":\"708b9b43-c3fa-40f7-8cc6-78e9cf3f8bb1\",\"type\":\"Grid\"},{\"id\":\"11557720-a6ed-4149-9a88-7eb7d2263e2d\",\"type\":\"BoxAnnotation\"},{\"id\":\"73ba0851-d148-4ca9-8cd9-c5d8af492538\",\"type\":\"GlyphRenderer\"},{\"id\":\"deb57508-256d-4b18-b6d2-5a6373714ed5\",\"type\":\"GlyphRenderer\"},{\"id\":\"f12635b8-4379-4bb9-ae44-6dbb7d7b01ed\",\"type\":\"GlyphRenderer\"},{\"id\":\"88cb6c5e-e536-4421-84b7-23ca57e658cd\",\"type\":\"GlyphRenderer\"},{\"id\":\"565f697f-4e1e-414c-889c-ff38995cbda1\",\"type\":\"GlyphRenderer\"}],\"title\":{\"id\":\"f593e8d5-585f-4309-8118-4c079cf19925\",\"type\":\"Title\"},\"toolbar\":{\"id\":\"179580db-0a3c-457a-b51f-168db5c1af24\",\"type\":\"Toolbar\"},\"toolbar_location\":null,\"x_range\":{\"id\":\"57e1e9cf-af50-4451-a354-93cda4cd805a\",\"type\":\"Range1d\"},\"x_scale\":{\"id\":\"568490e1-e95a-4a9b-873a-db4081fa0225\",\"type\":\"LinearScale\"},\"y_range\":{\"id\":\"c45cdd15-dfc9-46fc-a867-c1e04dc56e08\",\"type\":\"Range1d\"},\"y_scale\":{\"id\":\"0ecc9b7f-7216-4083-805b-8ca57ef03dd6\",\"type\":\"LinearScale\"}},\"id\":\"9ac9ce46-d524-4a41-be60-3cea26acf5b9\",\"subtype\":\"Figure\",\"type\":\"Plot\"},{\"attributes\":{\"dimension\":1,\"plot\":{\"id\":\"13a4e602-d028-4d19-8050-34031da7ab2b\",\"subtype\":\"Figure\",\"type\":\"Plot\"},\"ticker\":{\"id\":\"3727825f-1732-4494-afcc-be0358f97323\",\"type\":\"LogTicker\"}},\"id\":\"e3f7e4ca-8fed-4e6c-8c3f-b88a15814ba1\",\"type\":\"Grid\"},{\"attributes\":{\"callback\":null,\"column_names\":[\"x\",\"y\"],\"data\":{\"x\":{\"__ndarray__\":\"UP/sVrX1or9gXExhFdeiv9R0QIkEkKK/vkFvglNFor8wFQkQf/mhv5mh0DYnxKG/IP4OA2Vsob/k9/5Sexuhvy90ZGYY16C/Q6X9ThSaoL+5ccDriWegv8g7lFxWRaC/dieYZPYPoL9G1G8f7CagvwW94YVH956/WnMGml1kmb8Jz+lRb0iOv/qphH8+/mS/GdM1W8VXiT/RrCVKZuieP6pdUDUzYKo//1R8RpnCsz+kX66HJ6K5P5NjtXCO97g/raGfbHSVsj+m5mvJvOuoPxpIM/CFxJ8/KEj/2uCVkz9CXAlCUVeJP17bc0pUMIE/KZXRwL/sdT8+0b8lA25kP1yLmI7HMDE/B2bA8otGWr8gJ+Q0WPlwvx/kabdl2X6/Yn2o2ajzhb9X4N0qhcmLv9x0no1pYZG/mrBlSAHhlL9pf1ZPnJKWv4Aj33ecOpa/mddToz5mlb+9DnRr1G6Uv7WM6F8RSpO/vIL9b9b0kb/8Ppjrn22Qv/JLBHeOa42/4Tum+Dyiib83TisBCIqFvxK4ZgwiO4G/bkntEgyYeb/mAnNKQpZwv5FOzJaGw12/jpyySTsOPz+JQXrwtUxnP2JEqRzWvXU/0u6zcZQhgD9wVnKF35yFP0hjqhw3VYs/58796celkD9rPkniLsCTP6TpNTsn/ZY/3Pl2+XNdmj//+ePhMN2dP70jcuAmuqA/OpP0OCWDoj/w2ilGKzGkP89l7kpgraU/jy8R14D0pj/QmCjGIhuoP00d3IQYO6k/Ed4wZzxlqj9TvZrbO6WrP+AOz3DVBa0/\",\"dtype\":\"float64\",\"shape\":[75]},\"y\":{\"__ndarray__\":\"GhExyth1ND/Sv8nbtpRIP2vylNV0PVE/aTum7souWD/At0SJ8fVgPw3Iuahxymc/MSNhhJWvcD/bTfBN02d3P2zb5nxnaoA/CD5h5MAGhz8NmeH1TyaQP+zrCsc9p5Y/LbKd76fGnz/bLW5ISEmmPww9YvTcQq8/JV2OstnstT8Er5Y7M8G+P0c+r3jqkcU/5h99k6ZBzj88bCIzFzjVP4enV8oyxN0//yH99nXg5D8qOpLLf0jtP5kqGJXUifQ/c9cS8kHP/D+/DpwzojQEQIEmwoanVwxA4lgXt9HgE0BSSZ2AJuIbQAMJih9jjiNA5q4l5INuK0AwTKYKRj0zQNv5fmq8/DpAaCJseHrtQkB/+zpwzoxKQM3MzMzMeFJAZmZmZmZqWEAAAAAAAFxeQM3MzMzMJmJAmpmZmZkfZUBmZmZmZhhoQDMzMzMzEWtAAAAAAAAKbkBmZmZmZoFwQM3MzMzM/XFAMzMzMzN6c0CamZmZmfZ0QAAAAAAAc3ZAZmZmZmbvd0DNzMzMzGt5QDMzMzMz6HpAmpmZmZlkfEAAAAAAAOF9QGZmZmZmXX9AZmZmZuZsgECamZmZGSuBQM3MzMxM6YFAAAAAAICngkAzMzMzs2WDQGZmZmbmI4RAmpmZmRnihEDNzMzMTKCFQAAAAACAXoZAMzMzM7Mch0BmZmZm5tqHQJqZmZkZmYhAzczMzExXiUAAAAAAgBWKQDMzMzOz04pAZmZmZuaRi0CamZmZGVCMQM3MzMxMDo1AAAAAAIDMjUAzMzMzs4qOQGZmZmbmSI9A\",\"dtype\":\"float64\",\"shape\":[75]}}},\"id\":\"51e583b1-0540-4288-ad41-0597e4f1d528\",\"type\":\"ColumnDataSource\"}],\"root_ids\":[\"89fd523b-b238-4cd3-8f8d-d61434928ad6\"]},\"title\":\"Bokeh Application\",\"version\":\"0.12.14\"}};\n",
       "  var render_items = [{\"docid\":\"7569a2b5-516d-4c36-bd4b-2ae2c448c5df\",\"elementid\":\"4783bdd5-9a8d-4218-9fbd-efa0aae9276d\",\"modelid\":\"89fd523b-b238-4cd3-8f8d-d61434928ad6\"}];\n",
       "  root.Bokeh.embed.embed_items_notebook(docs_json, render_items);\n",
       "\n",
       "  }\n",
       "  if (root.Bokeh !== undefined) {\n",
       "    embed_document(root);\n",
       "  } else {\n",
       "    var attempts = 0;\n",
       "    var timer = setInterval(function(root) {\n",
       "      if (root.Bokeh !== undefined) {\n",
       "        embed_document(root);\n",
       "        clearInterval(timer);\n",
       "      }\n",
       "      attempts++;\n",
       "      if (attempts > 100) {\n",
       "        console.log(\"Bokeh: ERROR: Unable to run BokehJS code because BokehJS library is missing\")\n",
       "        clearInterval(timer);\n",
       "      }\n",
       "    }, 10, root)\n",
       "  }\n",
       "})(window);"
      ],
      "application/vnd.bokehjs_exec.v0+json": ""
     },
     "metadata": {
      "application/vnd.bokehjs_exec.v0+json": {
       "id": "89fd523b-b238-4cd3-8f8d-d61434928ad6"
      }
     },
     "output_type": "display_data"
    },
    {
     "name": "stdout",
     "output_type": "stream",
     "text": [
      "FIGURE. Cooling rate profiles.\n"
     ]
    },
    {
     "data": {
      "text/html": [
       "<a id=\"Flux_Comparison\"></a>"
      ],
      "text/plain": [
       "<IPython.core.display.HTML object>"
      ]
     },
     "metadata": {},
     "output_type": "display_data"
    },
    {
     "data": {
      "text/markdown": [
       "# Flux Comparison"
      ],
      "text/plain": [
       "<IPython.core.display.Markdown object>"
      ]
     },
     "metadata": {},
     "output_type": "display_data"
    },
    {
     "data": {
      "text/html": [
       "<div>\n",
       "<style>\n",
       "    .dataframe thead tr:only-child th {\n",
       "        text-align: right;\n",
       "    }\n",
       "\n",
       "    .dataframe thead th {\n",
       "        text-align: left;\n",
       "    }\n",
       "\n",
       "    .dataframe tbody tr th {\n",
       "        vertical-align: top;\n",
       "    }\n",
       "</style>\n",
       "<table border=\"1\" class=\"dataframe\">\n",
       "  <thead>\n",
       "    <tr style=\"text-align: right;\">\n",
       "      <th></th>\n",
       "      <th></th>\n",
       "      <th>flug</th>\n",
       "      <th>fldg</th>\n",
       "      <th>fnetg</th>\n",
       "    </tr>\n",
       "    <tr>\n",
       "      <th>pressure</th>\n",
       "      <th>level</th>\n",
       "      <th></th>\n",
       "      <th></th>\n",
       "      <th></th>\n",
       "    </tr>\n",
       "  </thead>\n",
       "  <tbody>\n",
       "    <tr>\n",
       "      <th>0.0000</th>\n",
       "      <th>1</th>\n",
       "      <td>-20.593795</td>\n",
       "      <td>0.000000</td>\n",
       "      <td>-20.593795</td>\n",
       "    </tr>\n",
       "    <tr>\n",
       "      <th>1.0685</th>\n",
       "      <th>24</th>\n",
       "      <td>-20.592316</td>\n",
       "      <td>0.005533</td>\n",
       "      <td>-20.586782</td>\n",
       "    </tr>\n",
       "    <tr>\n",
       "      <th>1013.0000</th>\n",
       "      <th>76</th>\n",
       "      <td>-23.755176</td>\n",
       "      <td>3.959733</td>\n",
       "      <td>-19.795443</td>\n",
       "    </tr>\n",
       "  </tbody>\n",
       "</table>\n",
       "</div>"
      ],
      "text/plain": [
       "                      flug      fldg      fnetg\n",
       "pressure  level                                \n",
       "0.0000    1     -20.593795  0.000000 -20.593795\n",
       "1.0685    24    -20.592316  0.005533 -20.586782\n",
       "1013.0000 76    -23.755176  3.959733 -19.795443"
      ]
     },
     "metadata": {},
     "output_type": "display_data"
    },
    {
     "name": "stdout",
     "output_type": "stream",
     "text": [
      "Table. Fluxes. WGT igg=10 wgt_flux=1\n"
     ]
    },
    {
     "data": {
      "text/html": [
       "<div>\n",
       "<style>\n",
       "    .dataframe thead tr:only-child th {\n",
       "        text-align: right;\n",
       "    }\n",
       "\n",
       "    .dataframe thead th {\n",
       "        text-align: left;\n",
       "    }\n",
       "\n",
       "    .dataframe tbody tr th {\n",
       "        vertical-align: top;\n",
       "    }\n",
       "</style>\n",
       "<table border=\"1\" class=\"dataframe\">\n",
       "  <thead>\n",
       "    <tr style=\"text-align: right;\">\n",
       "      <th></th>\n",
       "      <th></th>\n",
       "      <th>flug</th>\n",
       "      <th>fldg</th>\n",
       "      <th>fnetg</th>\n",
       "    </tr>\n",
       "    <tr>\n",
       "      <th>pressure</th>\n",
       "      <th>level</th>\n",
       "      <th></th>\n",
       "      <th></th>\n",
       "      <th></th>\n",
       "    </tr>\n",
       "  </thead>\n",
       "  <tbody>\n",
       "    <tr>\n",
       "      <th>0.0000</th>\n",
       "      <th>1</th>\n",
       "      <td>-20.869343</td>\n",
       "      <td>0.000000</td>\n",
       "      <td>-20.869343</td>\n",
       "    </tr>\n",
       "    <tr>\n",
       "      <th>1.0685</th>\n",
       "      <th>24</th>\n",
       "      <td>-20.869696</td>\n",
       "      <td>0.007017</td>\n",
       "      <td>-20.862678</td>\n",
       "    </tr>\n",
       "    <tr>\n",
       "      <th>1013.0000</th>\n",
       "      <th>76</th>\n",
       "      <td>-23.755175</td>\n",
       "      <td>3.882912</td>\n",
       "      <td>-19.872264</td>\n",
       "    </tr>\n",
       "  </tbody>\n",
       "</table>\n",
       "</div>"
      ],
      "text/plain": [
       "                      flug      fldg      fnetg\n",
       "pressure  level                                \n",
       "0.0000    1     -20.869343  0.000000 -20.869343\n",
       "1.0685    24    -20.869696  0.007017 -20.862678\n",
       "1013.0000 76    -23.755175  3.882912 -19.872264"
      ]
     },
     "metadata": {},
     "output_type": "display_data"
    },
    {
     "name": "stdout",
     "output_type": "stream",
     "text": [
      "Table. Fluxes. CRD\n"
     ]
    },
    {
     "data": {
      "text/html": [
       "<div>\n",
       "<style>\n",
       "    .dataframe thead tr:only-child th {\n",
       "        text-align: right;\n",
       "    }\n",
       "\n",
       "    .dataframe thead th {\n",
       "        text-align: left;\n",
       "    }\n",
       "\n",
       "    .dataframe tbody tr th {\n",
       "        vertical-align: top;\n",
       "    }\n",
       "</style>\n",
       "<table border=\"1\" class=\"dataframe\">\n",
       "  <thead>\n",
       "    <tr style=\"text-align: right;\">\n",
       "      <th></th>\n",
       "      <th></th>\n",
       "      <th>flug</th>\n",
       "      <th>fldg</th>\n",
       "      <th>fnetg</th>\n",
       "    </tr>\n",
       "    <tr>\n",
       "      <th>pressure</th>\n",
       "      <th>level</th>\n",
       "      <th></th>\n",
       "      <th></th>\n",
       "      <th></th>\n",
       "    </tr>\n",
       "  </thead>\n",
       "  <tbody>\n",
       "    <tr>\n",
       "      <th>1.000000e-08</th>\n",
       "      <th>1</th>\n",
       "      <td>-20.696033</td>\n",
       "      <td>2.384186e-07</td>\n",
       "      <td>-20.696033</td>\n",
       "    </tr>\n",
       "    <tr>\n",
       "      <th>1.068500e+00</th>\n",
       "      <th>24</th>\n",
       "      <td>-20.694220</td>\n",
       "      <td>5.210877e-03</td>\n",
       "      <td>-20.689009</td>\n",
       "    </tr>\n",
       "    <tr>\n",
       "      <th>1.013000e+03</th>\n",
       "      <th>76</th>\n",
       "      <td>-23.755180</td>\n",
       "      <td>3.845657e+00</td>\n",
       "      <td>-19.909523</td>\n",
       "    </tr>\n",
       "  </tbody>\n",
       "</table>\n",
       "</div>"
      ],
      "text/plain": [
       "                         flug          fldg      fnetg\n",
       "pressure     level                                    \n",
       "1.000000e-08 1     -20.696033  2.384186e-07 -20.696033\n",
       "1.068500e+00 24    -20.694220  5.210877e-03 -20.689009\n",
       "1.013000e+03 76    -23.755180  3.845657e+00 -19.909523"
      ]
     },
     "metadata": {},
     "output_type": "display_data"
    },
    {
     "name": "stdout",
     "output_type": "stream",
     "text": [
      "Table. Fluxes. CLIRAD\n"
     ]
    },
    {
     "data": {
      "text/html": [
       "<div>\n",
       "<style>\n",
       "    .dataframe thead tr:only-child th {\n",
       "        text-align: right;\n",
       "    }\n",
       "\n",
       "    .dataframe thead th {\n",
       "        text-align: left;\n",
       "    }\n",
       "\n",
       "    .dataframe tbody tr th {\n",
       "        vertical-align: top;\n",
       "    }\n",
       "</style>\n",
       "<table border=\"1\" class=\"dataframe\">\n",
       "  <thead>\n",
       "    <tr style=\"text-align: right;\">\n",
       "      <th></th>\n",
       "      <th></th>\n",
       "      <th>flug</th>\n",
       "      <th>fldg</th>\n",
       "      <th>fnetg</th>\n",
       "    </tr>\n",
       "    <tr>\n",
       "      <th>pressure</th>\n",
       "      <th>level</th>\n",
       "      <th></th>\n",
       "      <th></th>\n",
       "      <th></th>\n",
       "    </tr>\n",
       "  </thead>\n",
       "  <tbody>\n",
       "    <tr>\n",
       "      <th>0.0000</th>\n",
       "      <th>1</th>\n",
       "      <td>-2.755481e-01</td>\n",
       "      <td>0.000000</td>\n",
       "      <td>-0.275548</td>\n",
       "    </tr>\n",
       "    <tr>\n",
       "      <th>1.0685</th>\n",
       "      <th>24</th>\n",
       "      <td>-2.773805e-01</td>\n",
       "      <td>0.001484</td>\n",
       "      <td>-0.275896</td>\n",
       "    </tr>\n",
       "    <tr>\n",
       "      <th>1013.0000</th>\n",
       "      <th>76</th>\n",
       "      <td>9.000000e-07</td>\n",
       "      <td>-0.076821</td>\n",
       "      <td>-0.076821</td>\n",
       "    </tr>\n",
       "  </tbody>\n",
       "</table>\n",
       "</div>"
      ],
      "text/plain": [
       "                         flug      fldg     fnetg\n",
       "pressure  level                                  \n",
       "0.0000    1     -2.755481e-01  0.000000 -0.275548\n",
       "1.0685    24    -2.773805e-01  0.001484 -0.275896\n",
       "1013.0000 76     9.000000e-07 -0.076821 -0.076821"
      ]
     },
     "metadata": {},
     "output_type": "display_data"
    },
    {
     "name": "stdout",
     "output_type": "stream",
     "text": [
      "Table. Fluxes. (CRD) - (WGT igg=10 wgt_flux=1)\n"
     ]
    },
    {
     "data": {
      "text/html": [
       "<div>\n",
       "<style>\n",
       "    .dataframe thead tr:only-child th {\n",
       "        text-align: right;\n",
       "    }\n",
       "\n",
       "    .dataframe thead th {\n",
       "        text-align: left;\n",
       "    }\n",
       "\n",
       "    .dataframe tbody tr th {\n",
       "        vertical-align: top;\n",
       "    }\n",
       "</style>\n",
       "<table border=\"1\" class=\"dataframe\">\n",
       "  <thead>\n",
       "    <tr style=\"text-align: right;\">\n",
       "      <th></th>\n",
       "      <th></th>\n",
       "      <th>flug</th>\n",
       "      <th>fldg</th>\n",
       "      <th>fnetg</th>\n",
       "    </tr>\n",
       "    <tr>\n",
       "      <th>pressure</th>\n",
       "      <th>level</th>\n",
       "      <th></th>\n",
       "      <th></th>\n",
       "      <th></th>\n",
       "    </tr>\n",
       "  </thead>\n",
       "  <tbody>\n",
       "    <tr>\n",
       "      <th>0.0000</th>\n",
       "      <th>1</th>\n",
       "      <td>-0.102238</td>\n",
       "      <td>2.384186e-07</td>\n",
       "      <td>-0.102238</td>\n",
       "    </tr>\n",
       "    <tr>\n",
       "      <th>1.0685</th>\n",
       "      <th>24</th>\n",
       "      <td>-0.101904</td>\n",
       "      <td>-3.226155e-04</td>\n",
       "      <td>-0.102227</td>\n",
       "    </tr>\n",
       "    <tr>\n",
       "      <th>1013.0000</th>\n",
       "      <th>76</th>\n",
       "      <td>-0.000004</td>\n",
       "      <td>-1.140757e-01</td>\n",
       "      <td>-0.114080</td>\n",
       "    </tr>\n",
       "  </tbody>\n",
       "</table>\n",
       "</div>"
      ],
      "text/plain": [
       "                     flug          fldg     fnetg\n",
       "pressure  level                                  \n",
       "0.0000    1     -0.102238  2.384186e-07 -0.102238\n",
       "1.0685    24    -0.101904 -3.226155e-04 -0.102227\n",
       "1013.0000 76    -0.000004 -1.140757e-01 -0.114080"
      ]
     },
     "metadata": {},
     "output_type": "display_data"
    },
    {
     "name": "stdout",
     "output_type": "stream",
     "text": [
      "Table. Fluxes. (CLIRAD) - (WGT igg=10 wgt_flux=1)\n"
     ]
    },
    {
     "data": {
      "text/html": [
       "<a id=\"Best-fit_Parameters\"></a>"
      ],
      "text/plain": [
       "<IPython.core.display.HTML object>"
      ]
     },
     "metadata": {},
     "output_type": "display_data"
    },
    {
     "data": {
      "text/markdown": [
       "# Best-fit Parameters"
      ],
      "text/plain": [
       "<IPython.core.display.Markdown object>"
      ]
     },
     "metadata": {},
     "output_type": "display_data"
    },
    {
     "name": "stdout",
     "output_type": "stream",
     "text": [
      "Best-fit values for each (gas, band)\n",
      "------------------------------------\n",
      "o n2o band7\n",
      "  molecule = n2o\n",
      "  band = 7\n",
      "  commitnumber = d62b618\n",
      "  vmin = 1215\n",
      "  vmax = 1380\n",
      "  dv = 0.001\n",
      "  nv = 1000\n",
      "  ref_pts = [(1, 250), (500, 250)]\n",
      "  ng_refs = [2, 2]\n",
      "  ng_adju = [0, 0]\n",
      "  klin = 2.22e-20\n",
      "  option_wgt_k = 1\n",
      "  wgt = [(0.6, 0.5), (0.6, 0.9)]\n",
      "  w_diffuse = [(1.8, 1.66), (1.6, 1.8)]\n",
      "  option_wgt_flux = 1\n",
      "  atmpro = mls\n",
      "  tsfc = 294\n",
      "  conc = 3.2e-07\n",
      "  option_compute_btable = 0\n",
      "  option_compute_ktable = 1\n"
     ]
    }
   ],
   "source": [
    "script()"
   ]
  },
  {
   "cell_type": "code",
   "execution_count": 13,
   "metadata": {},
   "outputs": [
    {
     "data": {
      "text/html": [
       "<script>\n",
       "code_show=true; \n",
       "function code_toggle() {\n",
       " if (code_show){\n",
       " $('div.input').hide();\n",
       " } else {\n",
       " $('div.input').show();\n",
       " }\n",
       " code_show = !code_show\n",
       "} \n",
       "$( document ).ready(code_toggle);\n",
       "</script>\n",
       "<form action=\"javascript:code_toggle()\"><input type=\"submit\" value=\"Click here to toggle on/off the raw code.\"></form>"
      ],
      "text/plain": [
       "<IPython.core.display.HTML object>"
      ]
     },
     "execution_count": 13,
     "metadata": {},
     "output_type": "execute_result"
    }
   ],
   "source": [
    "display.HTML('''<script>\n",
    "code_show=true; \n",
    "function code_toggle() {\n",
    " if (code_show){\n",
    " $('div.input').hide();\n",
    " } else {\n",
    " $('div.input').show();\n",
    " }\n",
    " code_show = !code_show\n",
    "} \n",
    "$( document ).ready(code_toggle);\n",
    "</script>\n",
    "<form action=\"javascript:code_toggle()\"><input type=\"submit\" value=\"Click here to toggle on/off the raw code.\"></form>''')"
   ]
  }
 ],
 "metadata": {
  "kernelspec": {
   "display_name": "Python 3",
   "language": "python",
   "name": "python3"
  },
  "language_info": {
   "codemirror_mode": {
    "name": "ipython",
    "version": 3
   },
   "file_extension": ".py",
   "mimetype": "text/x-python",
   "name": "python",
   "nbconvert_exporter": "python",
   "pygments_lexer": "ipython3",
   "version": "3.6.1"
  }
 },
 "nbformat": 4,
 "nbformat_minor": 2
}
