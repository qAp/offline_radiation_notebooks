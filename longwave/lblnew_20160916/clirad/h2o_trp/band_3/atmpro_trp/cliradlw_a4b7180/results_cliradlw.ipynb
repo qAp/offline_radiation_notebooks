{
 "cells": [
  {
   "cell_type": "code",
   "execution_count": 1,
   "metadata": {
    "collapsed": true
   },
   "outputs": [],
   "source": [
    "%matplotlib inline\n",
    "import os\n",
    "import re\n",
    "import io\n",
    "import itertools\n",
    "import pprint\n",
    "\n",
    "from bokeh.io import output_notebook, show\n",
    "from bokeh.layouts import gridplot\n",
    "from bokeh.plotting import figure\n",
    "from bokeh.models import Range1d, Legend\n",
    "from bokeh.palettes import all_palettes\n",
    "\n",
    "import matplotlib\n",
    "import matplotlib.pyplot as plt\n",
    "import numpy as np\n",
    "import pandas as pd\n",
    "import xarray as xr\n",
    "\n",
    "import climatools.lblnew.bestfit_params as bestfits\n",
    "from climatools.lblnew import setup_bestfit, setup_overlap\n",
    "import climatools.lblnew.pipeline as pipe_lblnew\n",
    "import climatools.cliradlw.setup as setup_cliradlw\n",
    "import climatools.cliradlw.pipeline as pipe_cliradlw\n",
    "\n",
    "import climatools.html.html as climahtml\n",
    "from climatools.lblnew.dataio import *\n",
    "from climatools.plot.plot import *\n",
    "\n",
    "\n",
    "import IPython.display as display"
   ]
  },
  {
   "cell_type": "code",
   "execution_count": 2,
   "metadata": {
    "collapsed": true
   },
   "outputs": [],
   "source": [
    "%run param.py"
   ]
  },
  {
   "cell_type": "code",
   "execution_count": 3,
   "metadata": {
    "collapsed": true
   },
   "outputs": [],
   "source": [
    "def load_output_file(path_csv):\n",
    "    '''\n",
    "    Load lblnew output .csv file to xarray.Dataset\n",
    "    \n",
    "    Parameters\n",
    "    ----------\n",
    "    path_csv: str\n",
    "              Path to the .csv file to be loaded.\n",
    "    ds: xarray.Dataset\n",
    "        Data in the input file in the form of an xarray.Dataset.\n",
    "    '''\n",
    "    toindex = ['band', 'pressure', 'igg', 'g']    \n",
    "    df = pd.read_csv(path_csv, sep=r'\\s+')\n",
    "    df = df.set_index([i for i in toindex if i in df.columns])\n",
    "    df = df.rename(columns={'sfu': 'flug',\n",
    "                            'sfd': 'fldg',\n",
    "                            'fnet': 'fnetg',\n",
    "                            'coolr': 'coolrg'})\n",
    "    ds = xr.Dataset.from_dataframe(df)\n",
    "\n",
    "    for l in ('level', 'layer'):\n",
    "        if l in ds.data_vars:\n",
    "            if len(ds[l].dims) > 1:\n",
    "                surface = {d: 0 for d in ds.dims if d != 'pressure'}\n",
    "                coord_level = ds[l][surface]\n",
    "                ds.coords[l] = ('pressure', coord_level)\n",
    "            else:\n",
    "                ds.coords[l] = ('pressure', ds[l])\n",
    "    \n",
    "    return ds"
   ]
  },
  {
   "cell_type": "code",
   "execution_count": 4,
   "metadata": {
    "collapsed": true
   },
   "outputs": [],
   "source": [
    "def lblnew_setup(param=None):\n",
    "    if 'ng_refs' in param:\n",
    "        return {'setup': setup_bestfit,\n",
    "                'fname_flux_crd': 'output_flux.dat',\n",
    "                'fname_cool_crd': 'output_coolr.dat',\n",
    "                'fname_flux_wgt': 'output_wfluxg.dat',\n",
    "                'fname_cool_wgt': 'output_wcoolrg.dat'}\n",
    "    else:\n",
    "        return {'setup': setup_overlap,\n",
    "                'fname_flux_crd': 'output_flux.dat',\n",
    "                'fname_cool_crd': 'output_coolr.dat',\n",
    "                'fname_flux_wgt': 'output_wflux.dat',\n",
    "                'fname_cool_wgt': 'output_wcoolr.dat'}\n",
    "\n",
    "    \n",
    "def load_lblnew_data(param):\n",
    "    \n",
    "    fname_dsname = [('fname_flux_crd', 'ds_flux_crd'),\n",
    "                    ('fname_cool_crd', 'ds_cool_crd'),\n",
    "                    ('fname_flux_wgt', 'ds_flux_wgt'),\n",
    "                    ('fname_cool_wgt', 'ds_cool_wgt')]\n",
    "    \n",
    "    d = lblnew_setup(param)\n",
    "    dir_fortran = pipe_lblnew.get_dir_case(param, setup=d['setup'])\n",
    "    \n",
    "    data_dict = {}\n",
    "    for fname, dsname in fname_dsname:\n",
    "        fpath = os.path.join(dir_fortran, d[fname])\n",
    "        data_dict[dsname] = load_output_file(fpath)\n",
    "    return data_dict\n",
    "    \n",
    "\n",
    "    \n",
    "    "
   ]
  },
  {
   "cell_type": "code",
   "execution_count": 5,
   "metadata": {
    "collapsed": true
   },
   "outputs": [
    {
     "name": "stdout",
     "output_type": "stream",
     "text": [
      "The history saving thread hit an unexpected error (OperationalError('disk I/O error',)).History will not be written to the database.\n"
     ]
    }
   ],
   "source": [
    "d = load_lblnew_data(PARAM_LBLNEW)\n",
    "\n",
    "DS_FLUX_CRD = d['ds_flux_crd']\n",
    "DS_COOL_CRD = d['ds_cool_crd']\n",
    "DS_FLUX_WGT = d['ds_flux_wgt']\n",
    "DS_COOL_WGT = d['ds_cool_wgt']"
   ]
  },
  {
   "cell_type": "code",
   "execution_count": 6,
   "metadata": {
    "collapsed": true
   },
   "outputs": [],
   "source": [
    "DIR_FORTRAN = pipe_cliradlw.get_fortran_dir(PARAM, \n",
    "                                            setup=setup_cliradlw)\n",
    "\n",
    "PATH_FLUX = os.path.join(DIR_FORTRAN, 'output_flux.dat')\n",
    "PATH_COOL = os.path.join(DIR_FORTRAN, 'output_coolr.dat')\n",
    "\n",
    "DS_FLUX = load_output_file(PATH_FLUX)\n",
    "DS_COOL = load_output_file(PATH_COOL)"
   ]
  },
  {
   "cell_type": "code",
   "execution_count": 7,
   "metadata": {
    "collapsed": true
   },
   "outputs": [
    {
     "data": {
      "text/html": [
       "\n",
       "    <div class=\"bk-root\">\n",
       "        <a href=\"https://bokeh.pydata.org\" target=\"_blank\" class=\"bk-logo bk-logo-small bk-logo-notebook\"></a>\n",
       "        <span id=\"0b47651e-c213-4dc0-b3c1-b91a1270be00\">Loading BokehJS ...</span>\n",
       "    </div>"
      ]
     },
     "metadata": {},
     "output_type": "display_data"
    },
    {
     "data": {
      "application/javascript": [
       "\n",
       "(function(root) {\n",
       "  function now() {\n",
       "    return new Date();\n",
       "  }\n",
       "\n",
       "  var force = true;\n",
       "\n",
       "  if (typeof (root._bokeh_onload_callbacks) === \"undefined\" || force === true) {\n",
       "    root._bokeh_onload_callbacks = [];\n",
       "    root._bokeh_is_loading = undefined;\n",
       "  }\n",
       "\n",
       "  var JS_MIME_TYPE = 'application/javascript';\n",
       "  var HTML_MIME_TYPE = 'text/html';\n",
       "  var EXEC_MIME_TYPE = 'application/vnd.bokehjs_exec.v0+json';\n",
       "  var CLASS_NAME = 'output_bokeh rendered_html';\n",
       "\n",
       "  /**\n",
       "   * Render data to the DOM node\n",
       "   */\n",
       "  function render(props, node) {\n",
       "    var script = document.createElement(\"script\");\n",
       "    node.appendChild(script);\n",
       "  }\n",
       "\n",
       "  /**\n",
       "   * Handle when an output is cleared or removed\n",
       "   */\n",
       "  function handleClearOutput(event, handle) {\n",
       "    var cell = handle.cell;\n",
       "\n",
       "    var id = cell.output_area._bokeh_element_id;\n",
       "    var server_id = cell.output_area._bokeh_server_id;\n",
       "    // Clean up Bokeh references\n",
       "    if (id !== undefined) {\n",
       "      Bokeh.index[id].model.document.clear();\n",
       "      delete Bokeh.index[id];\n",
       "    }\n",
       "\n",
       "    if (server_id !== undefined) {\n",
       "      // Clean up Bokeh references\n",
       "      var cmd = \"from bokeh.io.state import curstate; print(curstate().uuid_to_server['\" + server_id + \"'].get_sessions()[0].document.roots[0]._id)\";\n",
       "      cell.notebook.kernel.execute(cmd, {\n",
       "        iopub: {\n",
       "          output: function(msg) {\n",
       "            var element_id = msg.content.text.trim();\n",
       "            Bokeh.index[element_id].model.document.clear();\n",
       "            delete Bokeh.index[element_id];\n",
       "          }\n",
       "        }\n",
       "      });\n",
       "      // Destroy server and session\n",
       "      var cmd = \"import bokeh.io.notebook as ion; ion.destroy_server('\" + server_id + \"')\";\n",
       "      cell.notebook.kernel.execute(cmd);\n",
       "    }\n",
       "  }\n",
       "\n",
       "  /**\n",
       "   * Handle when a new output is added\n",
       "   */\n",
       "  function handleAddOutput(event, handle) {\n",
       "    var output_area = handle.output_area;\n",
       "    var output = handle.output;\n",
       "\n",
       "    // limit handleAddOutput to display_data with EXEC_MIME_TYPE content only\n",
       "    if ((output.output_type != \"display_data\") || (!output.data.hasOwnProperty(EXEC_MIME_TYPE))) {\n",
       "      return\n",
       "    }\n",
       "\n",
       "    var toinsert = output_area.element.find(\".\" + CLASS_NAME.split(' ')[0]);\n",
       "\n",
       "    if (output.metadata[EXEC_MIME_TYPE][\"id\"] !== undefined) {\n",
       "      toinsert[0].firstChild.textContent = output.data[JS_MIME_TYPE];\n",
       "      // store reference to embed id on output_area\n",
       "      output_area._bokeh_element_id = output.metadata[EXEC_MIME_TYPE][\"id\"];\n",
       "    }\n",
       "    if (output.metadata[EXEC_MIME_TYPE][\"server_id\"] !== undefined) {\n",
       "      var bk_div = document.createElement(\"div\");\n",
       "      bk_div.innerHTML = output.data[HTML_MIME_TYPE];\n",
       "      var script_attrs = bk_div.children[0].attributes;\n",
       "      for (var i = 0; i < script_attrs.length; i++) {\n",
       "        toinsert[0].firstChild.setAttribute(script_attrs[i].name, script_attrs[i].value);\n",
       "      }\n",
       "      // store reference to server id on output_area\n",
       "      output_area._bokeh_server_id = output.metadata[EXEC_MIME_TYPE][\"server_id\"];\n",
       "    }\n",
       "  }\n",
       "\n",
       "  function register_renderer(events, OutputArea) {\n",
       "\n",
       "    function append_mime(data, metadata, element) {\n",
       "      // create a DOM node to render to\n",
       "      var toinsert = this.create_output_subarea(\n",
       "        metadata,\n",
       "        CLASS_NAME,\n",
       "        EXEC_MIME_TYPE\n",
       "      );\n",
       "      this.keyboard_manager.register_events(toinsert);\n",
       "      // Render to node\n",
       "      var props = {data: data, metadata: metadata[EXEC_MIME_TYPE]};\n",
       "      render(props, toinsert[0]);\n",
       "      element.append(toinsert);\n",
       "      return toinsert\n",
       "    }\n",
       "\n",
       "    /* Handle when an output is cleared or removed */\n",
       "    events.on('clear_output.CodeCell', handleClearOutput);\n",
       "    events.on('delete.Cell', handleClearOutput);\n",
       "\n",
       "    /* Handle when a new output is added */\n",
       "    events.on('output_added.OutputArea', handleAddOutput);\n",
       "\n",
       "    /**\n",
       "     * Register the mime type and append_mime function with output_area\n",
       "     */\n",
       "    OutputArea.prototype.register_mime_type(EXEC_MIME_TYPE, append_mime, {\n",
       "      /* Is output safe? */\n",
       "      safe: true,\n",
       "      /* Index of renderer in `output_area.display_order` */\n",
       "      index: 0\n",
       "    });\n",
       "  }\n",
       "\n",
       "  // register the mime type if in Jupyter Notebook environment and previously unregistered\n",
       "  if (root.Jupyter !== undefined) {\n",
       "    var events = require('base/js/events');\n",
       "    var OutputArea = require('notebook/js/outputarea').OutputArea;\n",
       "\n",
       "    if (OutputArea.prototype.mime_types().indexOf(EXEC_MIME_TYPE) == -1) {\n",
       "      register_renderer(events, OutputArea);\n",
       "    }\n",
       "  }\n",
       "\n",
       "  \n",
       "  if (typeof (root._bokeh_timeout) === \"undefined\" || force === true) {\n",
       "    root._bokeh_timeout = Date.now() + 5000;\n",
       "    root._bokeh_failed_load = false;\n",
       "  }\n",
       "\n",
       "  var NB_LOAD_WARNING = {'data': {'text/html':\n",
       "     \"<div style='background-color: #fdd'>\\n\"+\n",
       "     \"<p>\\n\"+\n",
       "     \"BokehJS does not appear to have successfully loaded. If loading BokehJS from CDN, this \\n\"+\n",
       "     \"may be due to a slow or bad network connection. Possible fixes:\\n\"+\n",
       "     \"</p>\\n\"+\n",
       "     \"<ul>\\n\"+\n",
       "     \"<li>re-rerun `output_notebook()` to attempt to load from CDN again, or</li>\\n\"+\n",
       "     \"<li>use INLINE resources instead, as so:</li>\\n\"+\n",
       "     \"</ul>\\n\"+\n",
       "     \"<code>\\n\"+\n",
       "     \"from bokeh.resources import INLINE\\n\"+\n",
       "     \"output_notebook(resources=INLINE)\\n\"+\n",
       "     \"</code>\\n\"+\n",
       "     \"</div>\"}};\n",
       "\n",
       "  function display_loaded() {\n",
       "    var el = document.getElementById(\"0b47651e-c213-4dc0-b3c1-b91a1270be00\");\n",
       "    if (el != null) {\n",
       "      el.textContent = \"BokehJS is loading...\";\n",
       "    }\n",
       "    if (root.Bokeh !== undefined) {\n",
       "      if (el != null) {\n",
       "        el.textContent = \"BokehJS \" + root.Bokeh.version + \" successfully loaded.\";\n",
       "      }\n",
       "    } else if (Date.now() < root._bokeh_timeout) {\n",
       "      setTimeout(display_loaded, 100)\n",
       "    }\n",
       "  }\n",
       "\n",
       "\n",
       "  function run_callbacks() {\n",
       "    try {\n",
       "      root._bokeh_onload_callbacks.forEach(function(callback) { callback() });\n",
       "    }\n",
       "    finally {\n",
       "      delete root._bokeh_onload_callbacks\n",
       "    }\n",
       "    console.info(\"Bokeh: all callbacks have finished\");\n",
       "  }\n",
       "\n",
       "  function load_libs(js_urls, callback) {\n",
       "    root._bokeh_onload_callbacks.push(callback);\n",
       "    if (root._bokeh_is_loading > 0) {\n",
       "      console.log(\"Bokeh: BokehJS is being loaded, scheduling callback at\", now());\n",
       "      return null;\n",
       "    }\n",
       "    if (js_urls == null || js_urls.length === 0) {\n",
       "      run_callbacks();\n",
       "      return null;\n",
       "    }\n",
       "    console.log(\"Bokeh: BokehJS not loaded, scheduling load and callback at\", now());\n",
       "    root._bokeh_is_loading = js_urls.length;\n",
       "    for (var i = 0; i < js_urls.length; i++) {\n",
       "      var url = js_urls[i];\n",
       "      var s = document.createElement('script');\n",
       "      s.src = url;\n",
       "      s.async = false;\n",
       "      s.onreadystatechange = s.onload = function() {\n",
       "        root._bokeh_is_loading--;\n",
       "        if (root._bokeh_is_loading === 0) {\n",
       "          console.log(\"Bokeh: all BokehJS libraries loaded\");\n",
       "          run_callbacks()\n",
       "        }\n",
       "      };\n",
       "      s.onerror = function() {\n",
       "        console.warn(\"failed to load library \" + url);\n",
       "      };\n",
       "      console.log(\"Bokeh: injecting script tag for BokehJS library: \", url);\n",
       "      document.getElementsByTagName(\"head\")[0].appendChild(s);\n",
       "    }\n",
       "  };var element = document.getElementById(\"0b47651e-c213-4dc0-b3c1-b91a1270be00\");\n",
       "  if (element == null) {\n",
       "    console.log(\"Bokeh: ERROR: autoload.js configured with elementid '0b47651e-c213-4dc0-b3c1-b91a1270be00' but no matching script tag was found. \")\n",
       "    return false;\n",
       "  }\n",
       "\n",
       "  var js_urls = [\"https://cdn.pydata.org/bokeh/release/bokeh-0.12.14.min.js\", \"https://cdn.pydata.org/bokeh/release/bokeh-widgets-0.12.14.min.js\", \"https://cdn.pydata.org/bokeh/release/bokeh-tables-0.12.14.min.js\", \"https://cdn.pydata.org/bokeh/release/bokeh-gl-0.12.14.min.js\"];\n",
       "\n",
       "  var inline_js = [\n",
       "    function(Bokeh) {\n",
       "      Bokeh.set_log_level(\"info\");\n",
       "    },\n",
       "    \n",
       "    function(Bokeh) {\n",
       "      \n",
       "    },\n",
       "    function(Bokeh) {\n",
       "      console.log(\"Bokeh: injecting CSS: https://cdn.pydata.org/bokeh/release/bokeh-0.12.14.min.css\");\n",
       "      Bokeh.embed.inject_css(\"https://cdn.pydata.org/bokeh/release/bokeh-0.12.14.min.css\");\n",
       "      console.log(\"Bokeh: injecting CSS: https://cdn.pydata.org/bokeh/release/bokeh-widgets-0.12.14.min.css\");\n",
       "      Bokeh.embed.inject_css(\"https://cdn.pydata.org/bokeh/release/bokeh-widgets-0.12.14.min.css\");\n",
       "      console.log(\"Bokeh: injecting CSS: https://cdn.pydata.org/bokeh/release/bokeh-tables-0.12.14.min.css\");\n",
       "      Bokeh.embed.inject_css(\"https://cdn.pydata.org/bokeh/release/bokeh-tables-0.12.14.min.css\");\n",
       "    }\n",
       "  ];\n",
       "\n",
       "  function run_inline_js() {\n",
       "    \n",
       "    if ((root.Bokeh !== undefined) || (force === true)) {\n",
       "      for (var i = 0; i < inline_js.length; i++) {\n",
       "        inline_js[i].call(root, root.Bokeh);\n",
       "      }if (force === true) {\n",
       "        display_loaded();\n",
       "      }} else if (Date.now() < root._bokeh_timeout) {\n",
       "      setTimeout(run_inline_js, 100);\n",
       "    } else if (!root._bokeh_failed_load) {\n",
       "      console.log(\"Bokeh: BokehJS failed to load within specified timeout.\");\n",
       "      root._bokeh_failed_load = true;\n",
       "    } else if (force !== true) {\n",
       "      var cell = $(document.getElementById(\"0b47651e-c213-4dc0-b3c1-b91a1270be00\")).parents('.cell').data().cell;\n",
       "      cell.output_area.append_execute_result(NB_LOAD_WARNING)\n",
       "    }\n",
       "\n",
       "  }\n",
       "\n",
       "  if (root._bokeh_is_loading === 0) {\n",
       "    console.log(\"Bokeh: BokehJS loaded, going straight to plotting\");\n",
       "    run_inline_js();\n",
       "  } else {\n",
       "    load_libs(js_urls, function() {\n",
       "      console.log(\"Bokeh: BokehJS plotting callback run at\", now());\n",
       "      run_inline_js();\n",
       "    });\n",
       "  }\n",
       "}(window));"
      ],
      "application/vnd.bokehjs_load.v0+json": "\n(function(root) {\n  function now() {\n    return new Date();\n  }\n\n  var force = true;\n\n  if (typeof (root._bokeh_onload_callbacks) === \"undefined\" || force === true) {\n    root._bokeh_onload_callbacks = [];\n    root._bokeh_is_loading = undefined;\n  }\n\n  \n\n  \n  if (typeof (root._bokeh_timeout) === \"undefined\" || force === true) {\n    root._bokeh_timeout = Date.now() + 5000;\n    root._bokeh_failed_load = false;\n  }\n\n  var NB_LOAD_WARNING = {'data': {'text/html':\n     \"<div style='background-color: #fdd'>\\n\"+\n     \"<p>\\n\"+\n     \"BokehJS does not appear to have successfully loaded. If loading BokehJS from CDN, this \\n\"+\n     \"may be due to a slow or bad network connection. Possible fixes:\\n\"+\n     \"</p>\\n\"+\n     \"<ul>\\n\"+\n     \"<li>re-rerun `output_notebook()` to attempt to load from CDN again, or</li>\\n\"+\n     \"<li>use INLINE resources instead, as so:</li>\\n\"+\n     \"</ul>\\n\"+\n     \"<code>\\n\"+\n     \"from bokeh.resources import INLINE\\n\"+\n     \"output_notebook(resources=INLINE)\\n\"+\n     \"</code>\\n\"+\n     \"</div>\"}};\n\n  function display_loaded() {\n    var el = document.getElementById(\"0b47651e-c213-4dc0-b3c1-b91a1270be00\");\n    if (el != null) {\n      el.textContent = \"BokehJS is loading...\";\n    }\n    if (root.Bokeh !== undefined) {\n      if (el != null) {\n        el.textContent = \"BokehJS \" + root.Bokeh.version + \" successfully loaded.\";\n      }\n    } else if (Date.now() < root._bokeh_timeout) {\n      setTimeout(display_loaded, 100)\n    }\n  }\n\n\n  function run_callbacks() {\n    try {\n      root._bokeh_onload_callbacks.forEach(function(callback) { callback() });\n    }\n    finally {\n      delete root._bokeh_onload_callbacks\n    }\n    console.info(\"Bokeh: all callbacks have finished\");\n  }\n\n  function load_libs(js_urls, callback) {\n    root._bokeh_onload_callbacks.push(callback);\n    if (root._bokeh_is_loading > 0) {\n      console.log(\"Bokeh: BokehJS is being loaded, scheduling callback at\", now());\n      return null;\n    }\n    if (js_urls == null || js_urls.length === 0) {\n      run_callbacks();\n      return null;\n    }\n    console.log(\"Bokeh: BokehJS not loaded, scheduling load and callback at\", now());\n    root._bokeh_is_loading = js_urls.length;\n    for (var i = 0; i < js_urls.length; i++) {\n      var url = js_urls[i];\n      var s = document.createElement('script');\n      s.src = url;\n      s.async = false;\n      s.onreadystatechange = s.onload = function() {\n        root._bokeh_is_loading--;\n        if (root._bokeh_is_loading === 0) {\n          console.log(\"Bokeh: all BokehJS libraries loaded\");\n          run_callbacks()\n        }\n      };\n      s.onerror = function() {\n        console.warn(\"failed to load library \" + url);\n      };\n      console.log(\"Bokeh: injecting script tag for BokehJS library: \", url);\n      document.getElementsByTagName(\"head\")[0].appendChild(s);\n    }\n  };var element = document.getElementById(\"0b47651e-c213-4dc0-b3c1-b91a1270be00\");\n  if (element == null) {\n    console.log(\"Bokeh: ERROR: autoload.js configured with elementid '0b47651e-c213-4dc0-b3c1-b91a1270be00' but no matching script tag was found. \")\n    return false;\n  }\n\n  var js_urls = [\"https://cdn.pydata.org/bokeh/release/bokeh-0.12.14.min.js\", \"https://cdn.pydata.org/bokeh/release/bokeh-widgets-0.12.14.min.js\", \"https://cdn.pydata.org/bokeh/release/bokeh-tables-0.12.14.min.js\", \"https://cdn.pydata.org/bokeh/release/bokeh-gl-0.12.14.min.js\"];\n\n  var inline_js = [\n    function(Bokeh) {\n      Bokeh.set_log_level(\"info\");\n    },\n    \n    function(Bokeh) {\n      \n    },\n    function(Bokeh) {\n      console.log(\"Bokeh: injecting CSS: https://cdn.pydata.org/bokeh/release/bokeh-0.12.14.min.css\");\n      Bokeh.embed.inject_css(\"https://cdn.pydata.org/bokeh/release/bokeh-0.12.14.min.css\");\n      console.log(\"Bokeh: injecting CSS: https://cdn.pydata.org/bokeh/release/bokeh-widgets-0.12.14.min.css\");\n      Bokeh.embed.inject_css(\"https://cdn.pydata.org/bokeh/release/bokeh-widgets-0.12.14.min.css\");\n      console.log(\"Bokeh: injecting CSS: https://cdn.pydata.org/bokeh/release/bokeh-tables-0.12.14.min.css\");\n      Bokeh.embed.inject_css(\"https://cdn.pydata.org/bokeh/release/bokeh-tables-0.12.14.min.css\");\n    }\n  ];\n\n  function run_inline_js() {\n    \n    if ((root.Bokeh !== undefined) || (force === true)) {\n      for (var i = 0; i < inline_js.length; i++) {\n        inline_js[i].call(root, root.Bokeh);\n      }if (force === true) {\n        display_loaded();\n      }} else if (Date.now() < root._bokeh_timeout) {\n      setTimeout(run_inline_js, 100);\n    } else if (!root._bokeh_failed_load) {\n      console.log(\"Bokeh: BokehJS failed to load within specified timeout.\");\n      root._bokeh_failed_load = true;\n    } else if (force !== true) {\n      var cell = $(document.getElementById(\"0b47651e-c213-4dc0-b3c1-b91a1270be00\")).parents('.cell').data().cell;\n      cell.output_area.append_execute_result(NB_LOAD_WARNING)\n    }\n\n  }\n\n  if (root._bokeh_is_loading === 0) {\n    console.log(\"Bokeh: BokehJS loaded, going straight to plotting\");\n    run_inline_js();\n  } else {\n    load_libs(js_urls, function() {\n      console.log(\"Bokeh: BokehJS plotting callback run at\", now());\n      run_inline_js();\n    });\n  }\n}(window));"
     },
     "metadata": {},
     "output_type": "display_data"
    }
   ],
   "source": [
    "output_notebook()"
   ]
  },
  {
   "cell_type": "code",
   "execution_count": 8,
   "metadata": {
    "collapsed": true
   },
   "outputs": [],
   "source": [
    "def fmt_cool(ds_in):\n",
    "    ds = ds_in.copy(deep=True)\n",
    "    if 'igg' in ds.dims:\n",
    "        ds = ds.sel(igg=1)\n",
    "\n",
    "    if 'g' in ds.dims:\n",
    "        ds = ds.sum('g')\n",
    "            \n",
    "    if 'band' in ds.dims:\n",
    "        try:\n",
    "            ds = ds.squeeze('band')\n",
    "        except ValueError:\n",
    "            ds = ds.sum('band')\n",
    "                \n",
    "    return ds['coolrg']\n",
    "\n",
    "\n",
    "def pltdata_cooling_1(ds_cool=None,\n",
    "                      ds_cool_crd=None, ds_cool_wgt=None):\n",
    "    \n",
    "\n",
    "\n",
    "    colors = all_palettes['Set1'][4]\n",
    "    data = [{'label': 'CLIRAD `coolr_bands`',\n",
    "             'srs': fmt_cool(ds_cool),\n",
    "             'line_dash': 'dashed', 'line_width': 5,\n",
    "             'color': colors[0], 'alpha': .6},\n",
    "            {'label': 'CRD',\n",
    "             'srs': fmt_cool(ds_cool_crd),\n",
    "             'line_dash': 'solid', 'line_width': 1.5,\n",
    "             'marker': 'circle', 'marker_size': 5,\n",
    "             'color': colors[2], 'alpha': 1,},\n",
    "            {'label': 'WGT igg=10 wgt_flux=2',\n",
    "             'srs': fmt_cool(ds_cool_wgt),\n",
    "             'line_dash': 'solid', 'line_width': 3,\n",
    "             'marker': 'square', 'marker_size': 5,\n",
    "             'color': colors[3], 'alpha': .6}]\n",
    "    return data\n",
    "\n",
    "\n",
    "def nice_xlims(pltdata=None, prange=None):\n",
    "    \n",
    "    def get_slice(srs):\n",
    "        return srs.sel(pressure=slice(*prange))\n",
    "    \n",
    "    srss = [d['srs'] for d in pltdata]\n",
    "    vmin = min([get_slice(srs).min() for srs in srss])\n",
    "    vmax = max([get_slice(srs).max() for srs in srss])\n",
    "    dv = (vmax - vmin) * .01\n",
    "    return float(vmin - dv), float(vmax + dv)\n",
    "    \n",
    "\n",
    "def plt_cooling_bokeh(pltdata=None):\n",
    "    '''\n",
    "    Plot a list of cooling rate profiles using bokeh.\n",
    "    '''\n",
    "    ymin = 1e-2 \n",
    "    ymax = 1020 \n",
    "        \n",
    "    p1 = figure(title=\"Linear pressure scale\", \n",
    "                plot_width=400)        \n",
    "    xmin, xmax = nice_xlims(pltdata, prange=(50, 1050))\n",
    "    for d in pltdata:\n",
    "        if 'marker' in d:\n",
    "            getattr(p1, d['marker'])(d['srs'].values, \n",
    "                    d['srs'].coords['pressure'].values,\n",
    "                    color=d['color'], alpha=.7)\n",
    "        p1.line(d['srs'].values, \n",
    "                d['srs'].coords['pressure'].values,\n",
    "                color=d['color'], alpha=d['alpha'], \n",
    "                line_width=d['line_width'], line_dash=d['line_dash'])\n",
    "    \n",
    "    p1.y_range = Range1d(ymax, ymin)\n",
    "    p1.yaxis.axis_label = 'pressure [mb]'   \n",
    "    p1.x_range = Range1d(xmin, xmax)\n",
    "    p1.xaxis.axis_label = 'cooling rate [K/day]'\n",
    "            \n",
    "    p2 = figure(title='Log pressure scale', y_axis_type='log',\n",
    "                plot_width=560)\n",
    "    xmin, xmax = nice_xlims(pltdata, prange=(.01, 200))\n",
    "    \n",
    "    rs = []\n",
    "    for d in pltdata:\n",
    "        rd = []\n",
    "        if 'marker' in d:\n",
    "            r_mark = getattr(p2, d['marker'])(d['srs'].values, \n",
    "                        d['srs'].coords['pressure'].values,\n",
    "                        color=d['color'], alpha=.7)\n",
    "            rd.append(r_mark)\n",
    "        r_line = p2.line(d['srs'].values, \n",
    "                    d['srs'].coords['pressure'].values,\n",
    "                    color=d['color'], alpha=d['alpha'], \n",
    "                    line_width=d['line_width'], line_dash=d['line_dash'])\n",
    "        rd.append(r_line)\n",
    "      \n",
    "        rs.append(rd)\n",
    "        \n",
    "    p2.y_range = Range1d(ymax, ymin)  \n",
    "    p2.yaxis.axis_label = 'pressure [mb]'\n",
    "    \n",
    "    p2.x_range = Range1d(xmin, xmax)\n",
    "    p2.xaxis.axis_label = 'cooling rate [K/day]'\n",
    "    \n",
    "    items = [(d['label'], r) for r, d in zip(rs, pltdata)]\n",
    "    legend = Legend(items=items, location=(10, -30))\n",
    "    legend.label_text_font_size = '8pt'\n",
    "    \n",
    "    p2.add_layout(legend, 'right')  \n",
    "    \n",
    "    show(gridplot(p1, p2, ncols=2, plot_height=500))\n",
    "    \n",
    "\n",
    "def script_plt_cooling():\n",
    "    pltdata = pltdata_cooling_1(\n",
    "        ds_cool=DS_COOL,\n",
    "        ds_cool_crd=DS_COOL_CRD,\n",
    "        ds_cool_wgt=DS_COOL_WGT)\n",
    "    plt_cooling_bokeh(pltdata=pltdata)\n",
    "    print('''FIGURE. Cooling rate profiles.''')"
   ]
  },
  {
   "cell_type": "code",
   "execution_count": 9,
   "metadata": {
    "collapsed": true
   },
   "outputs": [],
   "source": [
    "def fmt_flux(ds_in):\n",
    "    ds = ds_in.copy(deep=True)\n",
    "    \n",
    "    for l in ('level', 'layer'):\n",
    "        if l in ds.data_vars:\n",
    "            if len(ds[l].dims) > 1:\n",
    "                surface = {d: 0 for d in ds.dims if d != 'pressure'}\n",
    "                coord_level = ds[l][surface]\n",
    "                ds.coords[l] = ('pressure', coord_level)\n",
    "            else:\n",
    "                ds.coords[l] = ('pressure', ds[l])\n",
    "        \n",
    "    ds = ds.isel(pressure=[0, 23, -1])\n",
    "        \n",
    "    if 'igg' in ds.dims:\n",
    "        ds = ds.sel(igg=[1])\n",
    "        ds = ds.squeeze('igg').drop('igg')\n",
    "    \n",
    "    if 'g' in ds.dims:\n",
    "        ds = ds.sum('g')\n",
    "            \n",
    "    if 'band' in ds.dims:\n",
    "        try:\n",
    "            ds = ds.squeeze('band').drop('band')\n",
    "        except ValueError:\n",
    "            ds = ds.sum('band')\n",
    "                \n",
    "    df = ds.to_dataframe()\n",
    "    df = df.set_index('level', append=True)               \n",
    "    return df\n",
    "\n",
    "\n",
    "def tbdata_flux(ds_flux=None, ds_flux_crd=None, ds_flux_wgt=None):\n",
    "    ilevels = [0, 23, -1]\n",
    "            \n",
    "    benchmark = {'label': 'WGT igg=10 wgt_flux=1',\n",
    "                 'df': fmt_flux(ds_flux_wgt)}\n",
    "    \n",
    "    tbs = [{'label': 'CRD',\n",
    "            'df': fmt_flux(ds_flux_crd)},\n",
    "           {'label': 'CLIRAD',\n",
    "            'df': fmt_flux(ds_flux)}]\n",
    "    \n",
    "    data = {'benchmark': benchmark, 'others': tbs}\n",
    "    return data\n",
    "\n",
    "\n",
    "def tb_flux(tbdata=None):\n",
    "    benchmark = tbdata['benchmark']\n",
    "    others = tbdata['others']\n",
    "    \n",
    "    def show_tb(d=None):\n",
    "        display.display(d['df'])\n",
    "        print('Table.', 'Fluxes.', d['label'])\n",
    "        \n",
    "    def show_tbdiff(d0=None, d=None):\n",
    "        df = d['df']\n",
    "        df.index = d0['df'].index\n",
    "        display.display(df - d0['df'])\n",
    "        print('Table.', 'Fluxes.', \n",
    "              '({}) - ({})'.format(d['label'], d0['label']))\n",
    "        \n",
    "    show_tb(benchmark)\n",
    "    for d in others:\n",
    "        show_tb(d)\n",
    "        \n",
    "    for d in others:\n",
    "        show_tbdiff(d=d, d0=benchmark)\n",
    "        \n",
    "        \n",
    "def script_tb_flux():\n",
    "    data = tbdata_flux(ds_flux=DS_FLUX,\n",
    "                       ds_flux_crd=DS_FLUX_CRD,\n",
    "                       ds_flux_wgt=DS_FLUX_WGT)\n",
    "    tb_flux(tbdata=data)"
   ]
  },
  {
   "cell_type": "code",
   "execution_count": 10,
   "metadata": {
    "collapsed": true
   },
   "outputs": [],
   "source": [
    "def band_map():\n",
    "    '''\n",
    "    Maps spectral bands in lblnew to spectral bands in clirad.\n",
    "    '''\n",
    "    lblnew2clirad = {'1': '1',\n",
    "            '2': '2',\n",
    "            '3a': '3',\n",
    "            '3b': '4',\n",
    "            '3c': '5',\n",
    "            '4': '6', \n",
    "            '5': '7',\n",
    "            '6': '8',\n",
    "            '7': '9', \n",
    "            '8': '10',\n",
    "            '9': '11'}\n",
    "    \n",
    "    clirad2lblnew = {clirad: lblnew \n",
    "                     for lblnew, clirad in lblnew2clirad.items()}\n",
    "    return clirad2lblnew\n",
    "\n",
    "\n",
    "def gasbands():\n",
    "    bmap = band_map()\n",
    "    gases = list(PARAM['molecule'].keys())\n",
    "    \n",
    "    bands = [bmap[str(b)] for b in PARAM['band']]\n",
    "    return list(itertools.product(gases, bands))\n",
    "\n",
    "\n",
    "def print_bestfit_params():\n",
    "    print('Best-fit values for each (gas, band)')\n",
    "    print('------------------------------------')\n",
    "    for gas, band in gasbands():\n",
    "        print('o {} band{}'.format(gas, band))\n",
    "        param = bestfits.kdist_params(molecule=gas, band=band)\n",
    "        for name, value in sorted(param.items()):\n",
    "            print(2 * ' ' + '{} = {}'.format(name, value))\n",
    "\n",
    "        \n",
    "def print_input_param():        \n",
    "    for name, value in PARAM.items():\n",
    "        print('{} = {}'.format(name, value))\n",
    "        \n",
    "        \n",
    "def print_lblnew_param():\n",
    "    for name, value in sorted(PARAM_LBLNEW.items()):\n",
    "        print('{} = {}'.format(name, value))\n"
   ]
  },
  {
   "cell_type": "code",
   "execution_count": 11,
   "metadata": {
    "collapsed": true,
    "scrolled": false
   },
   "outputs": [],
   "source": [
    "def show_html(s):\n",
    "    display.display(display.HTML(s))\n",
    "\n",
    "    \n",
    "def show_markdown(s):\n",
    "    display.display(display.Markdown(s))\n",
    "\n",
    "    \n",
    "def script():\n",
    "    \n",
    "    title = '### CLIRAD-LW'\n",
    "    s_input = 'Input Parameters'\n",
    "    s_lblnew_param = 'LBLNEW case compaired against'\n",
    "    s_bestfits = 'Best-fit Parameters'\n",
    "    s_plt_cooling = 'Cooling Rate Profiles'\n",
    "    s_tb_flux = 'Flux Comparison'\n",
    "    \n",
    "    # title\n",
    "    show_markdown('### CLIRAD-LW')\n",
    "    \n",
    "    # TOC\n",
    "    show_markdown('### Table of Contents')\n",
    "    show_html(climahtml.getHTML_hrefanchor(s_input))\n",
    "    show_html(climahtml.getHTML_hrefanchor(s_lblnew_param))\n",
    "    show_html(climahtml.getHTML_hrefanchor(s_plt_cooling))\n",
    "    show_html(climahtml.getHTML_hrefanchor(s_tb_flux))\n",
    "    show_html(climahtml.getHTML_hrefanchor(s_bestfits))\n",
    "    \n",
    "    # Input parameters\n",
    "    show_html(climahtml.getHTML_idanchor(s_input))\n",
    "    show_markdown(climahtml.getMarkdown_sectitle(s_input))\n",
    "    print_input_param()\n",
    "    \n",
    "    # LBLNEW parameters \n",
    "    show_html(climahtml.getHTML_idanchor(s_lblnew_param))\n",
    "    show_markdown(climahtml.getMarkdown_sectitle(s_lblnew_param))\n",
    "    print_lblnew_param()\n",
    "    \n",
    "    # Cooling rate profiles\n",
    "    show_html(climahtml.getHTML_idanchor(s_plt_cooling))\n",
    "    show_markdown(climahtml.getMarkdown_sectitle(s_plt_cooling))\n",
    "    script_plt_cooling()\n",
    "    \n",
    "    # Flux comparison\n",
    "    show_html(climahtml.getHTML_idanchor(s_tb_flux))\n",
    "    show_markdown(climahtml.getMarkdown_sectitle(s_tb_flux))\n",
    "    script_tb_flux()\n",
    "    \n",
    "    # Best-fit values\n",
    "    show_html(climahtml.getHTML_idanchor(s_bestfits))\n",
    "    show_markdown(climahtml.getMarkdown_sectitle(s_bestfits))\n",
    "    print_bestfit_params()\n",
    "   \n",
    "    "
   ]
  },
  {
   "cell_type": "code",
   "execution_count": 12,
   "metadata": {
    "collapsed": true,
    "scrolled": false
   },
   "outputs": [
    {
     "data": {
      "text/markdown": [
       "### CLIRAD-LW"
      ],
      "text/plain": [
       "<IPython.core.display.Markdown object>"
      ]
     },
     "metadata": {},
     "output_type": "display_data"
    },
    {
     "data": {
      "text/markdown": [
       "### Table of Contents"
      ],
      "text/plain": [
       "<IPython.core.display.Markdown object>"
      ]
     },
     "metadata": {},
     "output_type": "display_data"
    },
    {
     "data": {
      "text/html": [
       "<a href=\"#Input_Parameters\">Input Parameters</a>"
      ],
      "text/plain": [
       "<IPython.core.display.HTML object>"
      ]
     },
     "metadata": {},
     "output_type": "display_data"
    },
    {
     "data": {
      "text/html": [
       "<a href=\"#LBLNEW_case_compaired_against\">LBLNEW case compaired against</a>"
      ],
      "text/plain": [
       "<IPython.core.display.HTML object>"
      ]
     },
     "metadata": {},
     "output_type": "display_data"
    },
    {
     "data": {
      "text/html": [
       "<a href=\"#Cooling_Rate_Profiles\">Cooling Rate Profiles</a>"
      ],
      "text/plain": [
       "<IPython.core.display.HTML object>"
      ]
     },
     "metadata": {},
     "output_type": "display_data"
    },
    {
     "data": {
      "text/html": [
       "<a href=\"#Flux_Comparison\">Flux Comparison</a>"
      ],
      "text/plain": [
       "<IPython.core.display.HTML object>"
      ]
     },
     "metadata": {},
     "output_type": "display_data"
    },
    {
     "data": {
      "text/html": [
       "<a href=\"#Best-fit_Parameters\">Best-fit Parameters</a>"
      ],
      "text/plain": [
       "<IPython.core.display.HTML object>"
      ]
     },
     "metadata": {},
     "output_type": "display_data"
    },
    {
     "data": {
      "text/html": [
       "<a id=\"Input_Parameters\"></a>"
      ],
      "text/plain": [
       "<IPython.core.display.HTML object>"
      ]
     },
     "metadata": {},
     "output_type": "display_data"
    },
    {
     "data": {
      "text/markdown": [
       "# Input Parameters"
      ],
      "text/plain": [
       "<IPython.core.display.Markdown object>"
      ]
     },
     "metadata": {},
     "output_type": "display_data"
    },
    {
     "name": "stdout",
     "output_type": "stream",
     "text": [
      "atmpro = trp\n",
      "band = [3]\n",
      "commitnumber = a4b7180\n",
      "molecule = {'h2o': 'atmpro'}\n",
      "tsfc = 300\n"
     ]
    },
    {
     "data": {
      "text/html": [
       "<a id=\"LBLNEW_case_compaired_against\"></a>"
      ],
      "text/plain": [
       "<IPython.core.display.HTML object>"
      ]
     },
     "metadata": {},
     "output_type": "display_data"
    },
    {
     "data": {
      "text/markdown": [
       "# LBLNEW case compaired against"
      ],
      "text/plain": [
       "<IPython.core.display.Markdown object>"
      ]
     },
     "metadata": {},
     "output_type": "display_data"
    },
    {
     "name": "stdout",
     "output_type": "stream",
     "text": [
      "atmpro = trp\n",
      "band = 3a\n",
      "commitnumber = 2bd1f75\n",
      "conc = None\n",
      "dv = 0.01\n",
      "klin = 0\n",
      "molecule = h2o\n",
      "ng_adju = [0, 0]\n",
      "ng_refs = [2, 6]\n",
      "nv = 100\n",
      "option_compute_btable = 0\n",
      "option_compute_ktable = 0\n",
      "option_wgt_flux = 1\n",
      "option_wgt_k = 1\n",
      "ref_pts = [(10, 250), (600, 250)]\n",
      "tsfc = 300\n",
      "vmax = 620\n",
      "vmin = 540\n",
      "w_diffuse = [(1.9, 1.7), (1.4, 1.4, 1.4, 1.55, 1.6, 1.66)]\n",
      "wgt = [(0.7, 0.7), (0.7, 0.5, 0.5, 0.5, 0.5, 0.5)]\n"
     ]
    },
    {
     "data": {
      "text/html": [
       "<a id=\"Cooling_Rate_Profiles\"></a>"
      ],
      "text/plain": [
       "<IPython.core.display.HTML object>"
      ]
     },
     "metadata": {},
     "output_type": "display_data"
    },
    {
     "data": {
      "text/markdown": [
       "# Cooling Rate Profiles"
      ],
      "text/plain": [
       "<IPython.core.display.Markdown object>"
      ]
     },
     "metadata": {},
     "output_type": "display_data"
    },
    {
     "data": {
      "text/html": [
       "\n",
       "<div class=\"bk-root\">\n",
       "    <div class=\"bk-plotdiv\" id=\"56dff05c-40d0-4303-9517-a380684b29a5\"></div>\n",
       "</div>"
      ]
     },
     "metadata": {},
     "output_type": "display_data"
    },
    {
     "data": {
      "application/javascript": [
       "(function(root) {\n",
       "  function embed_document(root) {\n",
       "    \n",
       "  var docs_json = {\"4783b13c-ffb7-4598-b776-327061fe77bb\":{\"roots\":{\"references\":[{\"attributes\":{\"fill_alpha\":{\"value\":0.7},\"fill_color\":{\"value\":\"#4daf4a\"},\"line_alpha\":{\"value\":0.7},\"line_color\":{\"value\":\"#4daf4a\"},\"x\":{\"field\":\"x\"},\"y\":{\"field\":\"y\"}},\"id\":\"05b0f75c-c309-4a1f-b573-bc022d44aaf6\",\"type\":\"Circle\"},{\"attributes\":{\"data_source\":{\"id\":\"c8a294a5-b0ea-428e-8ab0-b73a2f2fb996\",\"type\":\"ColumnDataSource\"},\"glyph\":{\"id\":\"5ad47fd4-f0e9-4204-9b25-fbd02a4076a1\",\"type\":\"Circle\"},\"hover_glyph\":null,\"muted_glyph\":null,\"nonselection_glyph\":{\"id\":\"3dbcef0f-e5a5-455f-b090-d6a363c2aa60\",\"type\":\"Circle\"},\"selection_glyph\":null,\"view\":{\"id\":\"4d58f9e4-8add-4510-9c68-6f27c27c99b9\",\"type\":\"CDSView\"}},\"id\":\"0d0203d2-8224-49b9-84e9-9876e787df9c\",\"type\":\"GlyphRenderer\"},{\"attributes\":{\"callback\":null,\"column_names\":[\"x\",\"y\"],\"data\":{\"x\":{\"__ndarray__\":\"T13RvDW0Qz/BXp+L4j5FP9BIl3qrXUg/hl/oanG8Sz9ezodb2DpPP/XSRaioalE/Wu5QPWdFUz+k+BO19i5VP8vdrN+aJFc/cJFWGD0gWT9eTN64OC5bP3eULCLoOl0/iOSCOLG1Xj/Dwdrn3KVgP/ePZiRypWU/YeuZr2AMcT8VWqegUzZ6P3ENbXFm44I/Nd4t+zv8iT/XAGg+LkSRP7sKWXi/U5Y/0pCO/tmHmz/O3nyXEHucPxjrDG2v7pg/8YWyuEtXlD8C4J1R+g+PP8I47WacP4c/Nj8xeyh0gT/V4IzJemR6Py9R4I3jCHQ/zz/CM884bj+st3sxg1VmP5bB8hKl/l8/ilFwZcuhVT/oIUdPtPpDP0O5mShKdA2/C0SmTi9rN7+vbdvbsjwov4E2LOQOtjg/gHViONpWUz8PbXf7ondoP+Qs3mN/zYI/KKDDW2sYlT9p9KqbedyiPygRsycZ6qw/2mKvXuIbtD/rME987066P98PiYxYVcA/W1W8sofNwj8ze4/pv73FP+MVyrpmD8k/IjIPDUm1zD8+vABeE1DQP2SYj3slVtI/clAld5Zo1D+6wnlA8nHWP2+E4hrhZdg/A2VsS5E62j8buyPn7d3bP31R7ZlGT90/Jxtqb0t/3j9D1Z5I5kffPy2f/hYRg98/ET6M94Bs4D/b9uIwPSbgP0UhVVbLhN4/MSfkWh8c3D9VnZtX8Z3YP8f/FeBYo9U/YkSqQftF0z+CIeUGx1XRP7i4W8yuf88/he4OAIcWzT8J/MDZ1uTLP2vobvDoc9A/\",\"dtype\":\"float64\",\"shape\":[75]},\"y\":{\"__ndarray__\":\"GhExyth1ND/Sv8nbtpRIP2vylNV0PVE/aTum7souWD/At0SJ8fVgPw3Iuahxymc/MSNhhJWvcD/bTfBN02d3P2zb5nxnaoA/CD5h5MAGhz8NmeH1TyaQP+zrCsc9p5Y/LbKd76fGnz/bLW5ISEmmPww9YvTcQq8/JV2OstnstT8Er5Y7M8G+P0c+r3jqkcU/5h99k6ZBzj88bCIzFzjVP4enV8oyxN0//yH99nXg5D8qOpLLf0jtP5kqGJXUifQ/c9cS8kHP/D+/DpwzojQEQIEmwoanVwxA4lgXt9HgE0BSSZ2AJuIbQAMJih9jjiNA5q4l5INuK0AwTKYKRj0zQNv5fmq8/DpAaCJseHrtQkB/+zpwzoxKQM3MzMzMeFJAZmZmZmZqWEAAAAAAAFxeQM3MzMzMJmJAmpmZmZkfZUBmZmZmZhhoQDMzMzMzEWtAAAAAAAAKbkBmZmZmZoFwQM3MzMzM/XFAMzMzMzN6c0CamZmZmfZ0QAAAAAAAc3ZAZmZmZmbvd0DNzMzMzGt5QDMzMzMz6HpAmpmZmZlkfEAAAAAAAOF9QGZmZmZmXX9AZmZmZuZsgECamZmZGSuBQM3MzMxM6YFAAAAAAICngkAzMzMzs2WDQGZmZmbmI4RAmpmZmRnihEDNzMzMTKCFQAAAAACAXoZAMzMzM7Mch0BmZmZm5tqHQJqZmZkZmYhAzczMzExXiUAAAAAAgBWKQDMzMzOz04pAZmZmZuaRi0CamZmZGVCMQM3MzMxMDo1AAAAAAIDMjUAzMzMzs4qOQGZmZmbmSI9A\",\"dtype\":\"float64\",\"shape\":[75]}}},\"id\":\"c8a294a5-b0ea-428e-8ab0-b73a2f2fb996\",\"type\":\"ColumnDataSource\"},{\"attributes\":{\"callback\":null,\"column_names\":[\"x\",\"y\"],\"data\":{\"x\":{\"__ndarray__\":\"T13RvDW0Qz/BXp+L4j5FP9BIl3qrXUg/hl/oanG8Sz9ezodb2DpPP/XSRaioalE/Wu5QPWdFUz+k+BO19i5VP8vdrN+aJFc/cJFWGD0gWT9eTN64OC5bP3eULCLoOl0/iOSCOLG1Xj/Dwdrn3KVgP/ePZiRypWU/YeuZr2AMcT8VWqegUzZ6P3ENbXFm44I/Nd4t+zv8iT/XAGg+LkSRP7sKWXi/U5Y/0pCO/tmHmz/O3nyXEHucPxjrDG2v7pg/8YWyuEtXlD8C4J1R+g+PP8I47WacP4c/Nj8xeyh0gT/V4IzJemR6Py9R4I3jCHQ/zz/CM884bj+st3sxg1VmP5bB8hKl/l8/ilFwZcuhVT/oIUdPtPpDP0O5mShKdA2/C0SmTi9rN7+vbdvbsjwov4E2LOQOtjg/gHViONpWUz8PbXf7ondoP+Qs3mN/zYI/KKDDW2sYlT9p9KqbedyiPygRsycZ6qw/2mKvXuIbtD/rME987066P98PiYxYVcA/W1W8sofNwj8ze4/pv73FP+MVyrpmD8k/IjIPDUm1zD8+vABeE1DQP2SYj3slVtI/clAld5Zo1D+6wnlA8nHWP2+E4hrhZdg/A2VsS5E62j8buyPn7d3bP31R7ZlGT90/Jxtqb0t/3j9D1Z5I5kffPy2f/hYRg98/ET6M94Bs4D/b9uIwPSbgP0UhVVbLhN4/MSfkWh8c3D9VnZtX8Z3YP8f/FeBYo9U/YkSqQftF0z+CIeUGx1XRP7i4W8yuf88/he4OAIcWzT8J/MDZ1uTLP2vobvDoc9A/\",\"dtype\":\"float64\",\"shape\":[75]},\"y\":{\"__ndarray__\":\"GhExyth1ND/Sv8nbtpRIP2vylNV0PVE/aTum7souWD/At0SJ8fVgPw3Iuahxymc/MSNhhJWvcD/bTfBN02d3P2zb5nxnaoA/CD5h5MAGhz8NmeH1TyaQP+zrCsc9p5Y/LbKd76fGnz/bLW5ISEmmPww9YvTcQq8/JV2OstnstT8Er5Y7M8G+P0c+r3jqkcU/5h99k6ZBzj88bCIzFzjVP4enV8oyxN0//yH99nXg5D8qOpLLf0jtP5kqGJXUifQ/c9cS8kHP/D+/DpwzojQEQIEmwoanVwxA4lgXt9HgE0BSSZ2AJuIbQAMJih9jjiNA5q4l5INuK0AwTKYKRj0zQNv5fmq8/DpAaCJseHrtQkB/+zpwzoxKQM3MzMzMeFJAZmZmZmZqWEAAAAAAAFxeQM3MzMzMJmJAmpmZmZkfZUBmZmZmZhhoQDMzMzMzEWtAAAAAAAAKbkBmZmZmZoFwQM3MzMzM/XFAMzMzMzN6c0CamZmZmfZ0QAAAAAAAc3ZAZmZmZmbvd0DNzMzMzGt5QDMzMzMz6HpAmpmZmZlkfEAAAAAAAOF9QGZmZmZmXX9AZmZmZuZsgECamZmZGSuBQM3MzMxM6YFAAAAAAICngkAzMzMzs2WDQGZmZmbmI4RAmpmZmRnihEDNzMzMTKCFQAAAAACAXoZAMzMzM7Mch0BmZmZm5tqHQJqZmZkZmYhAzczMzExXiUAAAAAAgBWKQDMzMzOz04pAZmZmZuaRi0CamZmZGVCMQM3MzMxMDo1AAAAAAIDMjUAzMzMzs4qOQGZmZmbmSI9A\",\"dtype\":\"float64\",\"shape\":[75]}}},\"id\":\"78a93abf-bf9a-4091-99e2-270a09f85ad6\",\"type\":\"ColumnDataSource\"},{\"attributes\":{\"callback\":null,\"column_names\":[\"x\",\"y\"],\"data\":{\"x\":{\"__ndarray__\":\"TCk7HAF3Uj94nccPdCdTP8uvv82ylFQ/YiCOo0b7VT/8IuS49YFXP8zHd1/BE1k/hBj9LtWwWj/3XCtIq1lcPzd5nFlVDl4/SLMcemrNXz8BeOLcMstgP5R7ce6PuGE/vHQGcfmtYj8/ERxZq+pjP05aME+MfGg/6apV+CzIcT8HjINzObl5P/Ycg7Li84E/X9Tdn75DiD/3Ni3XUv+PP5KNl4/krZQ/L9E3NtSrmT+23bWYYDebP7yNABpE1pg/Hwjm74w+lT8lh6LOaA2RPwEdDQeVk4o/QSKsclxVhD8w/wSXE29+P8kRBj20JnY/NVOJAIUtbz+15uSNvhNlP7q7N0vIX1s/881i2mSoUD9bF5pEjFE4P++fsHmPBCm/VNcuM0GyO7/4A4gWV3Ivv4J2OuLSSDM/sKqR4hBeUT/tTv/q0tpmP9DGPmgqJ4I/n2fK4E8FlT8DVS+NuRujP7SwptUxPq0/8SX5kI1OtD8HlcpLtay6P2md1WrpZ8A/xKpKZ31vwj8BiJBmwv/EP6oyIuqgQcg/YQLQYj4HzD/95AwD5/vPP1kji7AF79E/jmGhYXDl0z+sZG6OleLVPx/TsSvX5Nc/pcXd6Jva2T8QnP4JjqDbP/uQRlf4Kt0/uHhL32Jn3j9oTT4u10DfP3KuxAXlmd8/rb6FsIqT4D8rswaWnHHgP4wzfdk2Wd8/EZ1KfncI3T/LeTMXd27ZPzL4LGtSMtY/3+r950Sa0z92S8Gz13vRP3gSpzdKmM8/Zk/iczUqzT+oqlqzzR7MP2fQ1fWpmdA/\",\"dtype\":\"float64\",\"shape\":[75]},\"y\":{\"__ndarray__\":\"GhExyth1ND/Sv8nbtpRIP2vylNV0PVE/aTum7souWD/At0SJ8fVgPw3Iuahxymc/MSNhhJWvcD/bTfBN02d3P2zb5nxnaoA/CD5h5MAGhz8NmeH1TyaQP+zrCsc9p5Y/LbKd76fGnz/bLW5ISEmmPww9YvTcQq8/JV2OstnstT8Er5Y7M8G+P0c+r3jqkcU/5h99k6ZBzj88bCIzFzjVP4enV8oyxN0//yH99nXg5D8qOpLLf0jtP5kqGJXUifQ/c9cS8kHP/D+/DpwzojQEQIEmwoanVwxA4lgXt9HgE0BSSZ2AJuIbQAMJih9jjiNA5q4l5INuK0AwTKYKRj0zQNv5fmq8/DpAaCJseHrtQkB/+zpwzoxKQM3MzMzMeFJAZmZmZmZqWEAAAAAAAFxeQM3MzMzMJmJAmpmZmZkfZUBmZmZmZhhoQDMzMzMzEWtAAAAAAAAKbkBmZmZmZoFwQM3MzMzM/XFAMzMzMzN6c0CamZmZmfZ0QAAAAAAAc3ZAZmZmZmbvd0DNzMzMzGt5QDMzMzMz6HpAmpmZmZlkfEAAAAAAAOF9QGZmZmZmXX9AZmZmZuZsgECamZmZGSuBQM3MzMxM6YFAAAAAAICngkAzMzMzs2WDQGZmZmbmI4RAmpmZmRnihEDNzMzMTKCFQAAAAACAXoZAMzMzM7Mch0BmZmZm5tqHQJqZmZkZmYhAzczMzExXiUAAAAAAgBWKQDMzMzOz04pAZmZmZuaRi0CamZmZGVCMQM3MzMxMDo1AAAAAAIDMjUAzMzMzs4qOQGZmZmbmSI9A\",\"dtype\":\"float64\",\"shape\":[75]}}},\"id\":\"095455ad-65aa-4309-bacd-cf872780df66\",\"type\":\"ColumnDataSource\"},{\"attributes\":{\"line_alpha\":0.1,\"line_color\":\"#1f77b4\",\"line_width\":1.5,\"x\":{\"field\":\"x\"},\"y\":{\"field\":\"y\"}},\"id\":\"ad33b9d9-3e91-46c5-8671-82fb5fb8f712\",\"type\":\"Line\"},{\"attributes\":{\"fill_alpha\":{\"value\":0.7},\"fill_color\":{\"value\":\"#4daf4a\"},\"line_alpha\":{\"value\":0.7},\"line_color\":{\"value\":\"#4daf4a\"},\"x\":{\"field\":\"x\"},\"y\":{\"field\":\"y\"}},\"id\":\"5ad47fd4-f0e9-4204-9b25-fbd02a4076a1\",\"type\":\"Circle\"},{\"attributes\":{\"ticker\":null},\"id\":\"2c6afd3e-69bb-4aa2-ad94-b4029ac0e66e\",\"type\":\"LogTickFormatter\"},{\"attributes\":{\"line_alpha\":0.6,\"line_color\":\"#e41a1c\",\"line_dash\":[6],\"line_width\":5,\"x\":{\"field\":\"x\"},\"y\":{\"field\":\"y\"}},\"id\":\"0f248c69-5b99-4abe-af1a-e05258bf21ca\",\"type\":\"Line\"},{\"attributes\":{\"fill_alpha\":{\"value\":0.1},\"fill_color\":{\"value\":\"#1f77b4\"},\"line_alpha\":{\"value\":0.1},\"line_color\":{\"value\":\"#1f77b4\"},\"x\":{\"field\":\"x\"},\"y\":{\"field\":\"y\"}},\"id\":\"3dbcef0f-e5a5-455f-b090-d6a363c2aa60\",\"type\":\"Circle\"},{\"attributes\":{\"source\":{\"id\":\"c8a294a5-b0ea-428e-8ab0-b73a2f2fb996\",\"type\":\"ColumnDataSource\"}},\"id\":\"4d58f9e4-8add-4510-9c68-6f27c27c99b9\",\"type\":\"CDSView\"},{\"attributes\":{\"line_color\":\"#4daf4a\",\"line_width\":1.5,\"x\":{\"field\":\"x\"},\"y\":{\"field\":\"y\"}},\"id\":\"4524e8e2-6a1e-4308-a415-2035d02ff2f0\",\"type\":\"Line\"},{\"attributes\":{\"data_source\":{\"id\":\"78a93abf-bf9a-4091-99e2-270a09f85ad6\",\"type\":\"ColumnDataSource\"},\"glyph\":{\"id\":\"4524e8e2-6a1e-4308-a415-2035d02ff2f0\",\"type\":\"Line\"},\"hover_glyph\":null,\"muted_glyph\":null,\"nonselection_glyph\":{\"id\":\"ad33b9d9-3e91-46c5-8671-82fb5fb8f712\",\"type\":\"Line\"},\"selection_glyph\":null,\"view\":{\"id\":\"32f78082-b31f-4a5b-9f6b-744c8c6d0d56\",\"type\":\"CDSView\"}},\"id\":\"04945501-9054-42ea-adc7-d6aa8ee0743b\",\"type\":\"GlyphRenderer\"},{\"attributes\":{\"callback\":null,\"end\":0.040077202244,\"start\":-0.006547838644},\"id\":\"7597e8d3-e187-407e-ac9d-e3564bfb1d96\",\"type\":\"Range1d\"},{\"attributes\":{\"callback\":null,\"end\":0.01,\"start\":1020},\"id\":\"0f812563-e8df-47fc-a2e8-b0931891934d\",\"type\":\"Range1d\"},{\"attributes\":{\"callback\":null,\"column_names\":[\"x\",\"y\"],\"data\":{\"x\":{\"__ndarray__\":\"TCk7HAF3Uj94nccPdCdTP8uvv82ylFQ/YiCOo0b7VT/8IuS49YFXP8zHd1/BE1k/hBj9LtWwWj/3XCtIq1lcPzd5nFlVDl4/SLMcemrNXz8BeOLcMstgP5R7ce6PuGE/vHQGcfmtYj8/ERxZq+pjP05aME+MfGg/6apV+CzIcT8HjINzObl5P/Ycg7Li84E/X9Tdn75DiD/3Ni3XUv+PP5KNl4/krZQ/L9E3NtSrmT+23bWYYDebP7yNABpE1pg/Hwjm74w+lT8lh6LOaA2RPwEdDQeVk4o/QSKsclxVhD8w/wSXE29+P8kRBj20JnY/NVOJAIUtbz+15uSNvhNlP7q7N0vIX1s/881i2mSoUD9bF5pEjFE4P++fsHmPBCm/VNcuM0GyO7/4A4gWV3Ivv4J2OuLSSDM/sKqR4hBeUT/tTv/q0tpmP9DGPmgqJ4I/n2fK4E8FlT8DVS+NuRujP7SwptUxPq0/8SX5kI1OtD8HlcpLtay6P2md1WrpZ8A/xKpKZ31vwj8BiJBmwv/EP6oyIuqgQcg/YQLQYj4HzD/95AwD5/vPP1kji7AF79E/jmGhYXDl0z+sZG6OleLVPx/TsSvX5Nc/pcXd6Jva2T8QnP4JjqDbP/uQRlf4Kt0/uHhL32Jn3j9oTT4u10DfP3KuxAXlmd8/rb6FsIqT4D8rswaWnHHgP4wzfdk2Wd8/EZ1KfncI3T/LeTMXd27ZPzL4LGtSMtY/3+r950Sa0z92S8Gz13vRP3gSpzdKmM8/Zk/iczUqzT+oqlqzzR7MP2fQ1fWpmdA/\",\"dtype\":\"float64\",\"shape\":[75]},\"y\":{\"__ndarray__\":\"GhExyth1ND/Sv8nbtpRIP2vylNV0PVE/aTum7souWD/At0SJ8fVgPw3Iuahxymc/MSNhhJWvcD/bTfBN02d3P2zb5nxnaoA/CD5h5MAGhz8NmeH1TyaQP+zrCsc9p5Y/LbKd76fGnz/bLW5ISEmmPww9YvTcQq8/JV2OstnstT8Er5Y7M8G+P0c+r3jqkcU/5h99k6ZBzj88bCIzFzjVP4enV8oyxN0//yH99nXg5D8qOpLLf0jtP5kqGJXUifQ/c9cS8kHP/D+/DpwzojQEQIEmwoanVwxA4lgXt9HgE0BSSZ2AJuIbQAMJih9jjiNA5q4l5INuK0AwTKYKRj0zQNv5fmq8/DpAaCJseHrtQkB/+zpwzoxKQM3MzMzMeFJAZmZmZmZqWEAAAAAAAFxeQM3MzMzMJmJAmpmZmZkfZUBmZmZmZhhoQDMzMzMzEWtAAAAAAAAKbkBmZmZmZoFwQM3MzMzM/XFAMzMzMzN6c0CamZmZmfZ0QAAAAAAAc3ZAZmZmZmbvd0DNzMzMzGt5QDMzMzMz6HpAmpmZmZlkfEAAAAAAAOF9QGZmZmZmXX9AZmZmZuZsgECamZmZGSuBQM3MzMxM6YFAAAAAAICngkAzMzMzs2WDQGZmZmbmI4RAmpmZmRnihEDNzMzMTKCFQAAAAACAXoZAMzMzM7Mch0BmZmZm5tqHQJqZmZkZmYhAzczMzExXiUAAAAAAgBWKQDMzMzOz04pAZmZmZuaRi0CamZmZGVCMQM3MzMxMDo1AAAAAAIDMjUAzMzMzs4qOQGZmZmbmSI9A\",\"dtype\":\"float64\",\"shape\":[75]}}},\"id\":\"38d07d2b-0241-4378-a5ef-1a445e2e2a35\",\"type\":\"ColumnDataSource\"},{\"attributes\":{\"source\":{\"id\":\"78a93abf-bf9a-4091-99e2-270a09f85ad6\",\"type\":\"ColumnDataSource\"}},\"id\":\"32f78082-b31f-4a5b-9f6b-744c8c6d0d56\",\"type\":\"CDSView\"},{\"attributes\":{\"fill_alpha\":{\"value\":0.7},\"fill_color\":{\"value\":\"#984ea3\"},\"line_alpha\":{\"value\":0.7},\"line_color\":{\"value\":\"#984ea3\"},\"x\":{\"field\":\"x\"},\"y\":{\"field\":\"y\"}},\"id\":\"f793b1be-253a-41f8-a76c-6d4cd4682934\",\"type\":\"Square\"},{\"attributes\":{\"data_source\":{\"id\":\"095455ad-65aa-4309-bacd-cf872780df66\",\"type\":\"ColumnDataSource\"},\"glyph\":{\"id\":\"f793b1be-253a-41f8-a76c-6d4cd4682934\",\"type\":\"Square\"},\"hover_glyph\":null,\"muted_glyph\":null,\"nonselection_glyph\":{\"id\":\"aaee9aff-150b-4f91-980c-8f671df07707\",\"type\":\"Square\"},\"selection_glyph\":null,\"view\":{\"id\":\"285659f1-faec-49ef-8102-25795f21883d\",\"type\":\"CDSView\"}},\"id\":\"a43d2666-4aab-4405-bc9b-3d5fe2bb66f1\",\"type\":\"GlyphRenderer\"},{\"attributes\":{\"fill_alpha\":{\"value\":0.1},\"fill_color\":{\"value\":\"#1f77b4\"},\"line_alpha\":{\"value\":0.1},\"line_color\":{\"value\":\"#1f77b4\"},\"x\":{\"field\":\"x\"},\"y\":{\"field\":\"y\"}},\"id\":\"aaee9aff-150b-4f91-980c-8f671df07707\",\"type\":\"Square\"},{\"attributes\":{\"source\":{\"id\":\"095455ad-65aa-4309-bacd-cf872780df66\",\"type\":\"ColumnDataSource\"}},\"id\":\"285659f1-faec-49ef-8102-25795f21883d\",\"type\":\"CDSView\"},{\"attributes\":{\"line_alpha\":0.6,\"line_color\":\"#984ea3\",\"line_width\":3,\"x\":{\"field\":\"x\"},\"y\":{\"field\":\"y\"}},\"id\":\"24e68878-2160-4da0-9075-72a9e6bfa971\",\"type\":\"Line\"},{\"attributes\":{\"toolbar\":{\"id\":\"9649001f-d008-4b8e-afa5-e00c5937f3ac\",\"type\":\"ProxyToolbar\"},\"toolbar_location\":\"above\"},\"id\":\"6edb28f2-00e4-473f-b0ba-9150cbf7830c\",\"type\":\"ToolbarBox\"},{\"attributes\":{\"data_source\":{\"id\":\"38d07d2b-0241-4378-a5ef-1a445e2e2a35\",\"type\":\"ColumnDataSource\"},\"glyph\":{\"id\":\"24e68878-2160-4da0-9075-72a9e6bfa971\",\"type\":\"Line\"},\"hover_glyph\":null,\"muted_glyph\":null,\"nonselection_glyph\":{\"id\":\"7c28b4be-51a1-4e14-9a01-f8fa4c28ba84\",\"type\":\"Line\"},\"selection_glyph\":null,\"view\":{\"id\":\"7506f178-e9a6-4d50-a67a-ff6938c79a05\",\"type\":\"CDSView\"}},\"id\":\"39730740-2bfa-449b-b33c-3a0cdda3bd22\",\"type\":\"GlyphRenderer\"},{\"attributes\":{\"line_alpha\":0.1,\"line_color\":\"#1f77b4\",\"line_width\":3,\"x\":{\"field\":\"x\"},\"y\":{\"field\":\"y\"}},\"id\":\"7c28b4be-51a1-4e14-9a01-f8fa4c28ba84\",\"type\":\"Line\"},{\"attributes\":{\"source\":{\"id\":\"89f368e3-583c-4ca3-bbbf-36a14b13ffe2\",\"type\":\"ColumnDataSource\"}},\"id\":\"416b1f29-e20e-4e9a-99d0-303f64b1ab30\",\"type\":\"CDSView\"},{\"attributes\":{\"source\":{\"id\":\"38d07d2b-0241-4378-a5ef-1a445e2e2a35\",\"type\":\"ColumnDataSource\"}},\"id\":\"7506f178-e9a6-4d50-a67a-ff6938c79a05\",\"type\":\"CDSView\"},{\"attributes\":{\"items\":[{\"id\":\"6c86ace1-6926-4078-86a6-69ad7d3d74c7\",\"type\":\"LegendItem\"},{\"id\":\"e14fccf7-f7a8-4dd0-9019-9492c3d3e704\",\"type\":\"LegendItem\"},{\"id\":\"66eba903-6ca0-462b-9890-6aba33c1dcdd\",\"type\":\"LegendItem\"}],\"label_text_font_size\":{\"value\":\"8pt\"},\"location\":[10,-30],\"plot\":{\"id\":\"d2d0245b-9351-4ebc-b1ff-67f9e3552804\",\"subtype\":\"Figure\",\"type\":\"Plot\"}},\"id\":\"d3cb8a51-b63a-4a2e-ae69-0da5f6165e23\",\"type\":\"Legend\"},{\"attributes\":{\"label\":{\"value\":\"CLIRAD `coolr_bands`\"},\"renderers\":[{\"id\":\"ea3aa85d-cf13-45f9-bfce-508082b3a5f2\",\"type\":\"GlyphRenderer\"}]},\"id\":\"6c86ace1-6926-4078-86a6-69ad7d3d74c7\",\"type\":\"LegendItem\"},{\"attributes\":{\"children\":[{\"id\":\"6edb28f2-00e4-473f-b0ba-9150cbf7830c\",\"type\":\"ToolbarBox\"},{\"id\":\"dc3a5b91-267a-482a-80e6-d8aeddcd6f31\",\"type\":\"Column\"}]},\"id\":\"e910fbc5-ea5d-4eb6-8154-e9c6cae29f8e\",\"type\":\"Column\"},{\"attributes\":{},\"id\":\"a7148ddc-10b6-4287-b812-37bfb5dc66db\",\"type\":\"BasicTickFormatter\"},{\"attributes\":{\"callback\":null,\"column_names\":[\"x\",\"y\"],\"data\":{\"x\":{\"__ndarray__\":\"T13RvDW0Qz/BXp+L4j5FP9BIl3qrXUg/hl/oanG8Sz9ezodb2DpPP/XSRaioalE/Wu5QPWdFUz+k+BO19i5VP8vdrN+aJFc/cJFWGD0gWT9eTN64OC5bP3eULCLoOl0/iOSCOLG1Xj/Dwdrn3KVgP/ePZiRypWU/YeuZr2AMcT8VWqegUzZ6P3ENbXFm44I/Nd4t+zv8iT/XAGg+LkSRP7sKWXi/U5Y/0pCO/tmHmz/O3nyXEHucPxjrDG2v7pg/8YWyuEtXlD8C4J1R+g+PP8I47WacP4c/Nj8xeyh0gT/V4IzJemR6Py9R4I3jCHQ/zz/CM884bj+st3sxg1VmP5bB8hKl/l8/ilFwZcuhVT/oIUdPtPpDP0O5mShKdA2/C0SmTi9rN7+vbdvbsjwov4E2LOQOtjg/gHViONpWUz8PbXf7ondoP+Qs3mN/zYI/KKDDW2sYlT9p9KqbedyiPygRsycZ6qw/2mKvXuIbtD/rME987066P98PiYxYVcA/W1W8sofNwj8ze4/pv73FP+MVyrpmD8k/IjIPDUm1zD8+vABeE1DQP2SYj3slVtI/clAld5Zo1D+6wnlA8nHWP2+E4hrhZdg/A2VsS5E62j8buyPn7d3bP31R7ZlGT90/Jxtqb0t/3j9D1Z5I5kffPy2f/hYRg98/ET6M94Bs4D/b9uIwPSbgP0UhVVbLhN4/MSfkWh8c3D9VnZtX8Z3YP8f/FeBYo9U/YkSqQftF0z+CIeUGx1XRP7i4W8yuf88/he4OAIcWzT8J/MDZ1uTLP2vobvDoc9A/\",\"dtype\":\"float64\",\"shape\":[75]},\"y\":{\"__ndarray__\":\"GhExyth1ND/Sv8nbtpRIP2vylNV0PVE/aTum7souWD/At0SJ8fVgPw3Iuahxymc/MSNhhJWvcD/bTfBN02d3P2zb5nxnaoA/CD5h5MAGhz8NmeH1TyaQP+zrCsc9p5Y/LbKd76fGnz/bLW5ISEmmPww9YvTcQq8/JV2OstnstT8Er5Y7M8G+P0c+r3jqkcU/5h99k6ZBzj88bCIzFzjVP4enV8oyxN0//yH99nXg5D8qOpLLf0jtP5kqGJXUifQ/c9cS8kHP/D+/DpwzojQEQIEmwoanVwxA4lgXt9HgE0BSSZ2AJuIbQAMJih9jjiNA5q4l5INuK0AwTKYKRj0zQNv5fmq8/DpAaCJseHrtQkB/+zpwzoxKQM3MzMzMeFJAZmZmZmZqWEAAAAAAAFxeQM3MzMzMJmJAmpmZmZkfZUBmZmZmZhhoQDMzMzMzEWtAAAAAAAAKbkBmZmZmZoFwQM3MzMzM/XFAMzMzMzN6c0CamZmZmfZ0QAAAAAAAc3ZAZmZmZmbvd0DNzMzMzGt5QDMzMzMz6HpAmpmZmZlkfEAAAAAAAOF9QGZmZmZmXX9AZmZmZuZsgECamZmZGSuBQM3MzMxM6YFAAAAAAICngkAzMzMzs2WDQGZmZmbmI4RAmpmZmRnihEDNzMzMTKCFQAAAAACAXoZAMzMzM7Mch0BmZmZm5tqHQJqZmZkZmYhAzczMzExXiUAAAAAAgBWKQDMzMzOz04pAZmZmZuaRi0CamZmZGVCMQM3MzMxMDo1AAAAAAIDMjUAzMzMzs4qOQGZmZmbmSI9A\",\"dtype\":\"float64\",\"shape\":[75]}}},\"id\":\"309bd747-d2ef-40c0-9217-7e5d828735b3\",\"type\":\"ColumnDataSource\"},{\"attributes\":{\"line_alpha\":0.6,\"line_color\":\"#e41a1c\",\"line_dash\":[6],\"line_width\":5,\"x\":{\"field\":\"x\"},\"y\":{\"field\":\"y\"}},\"id\":\"8de4c682-2c8a-4b80-ae16-5e3abfe1d0d4\",\"type\":\"Line\"},{\"attributes\":{\"label\":{\"value\":\"CRD\"},\"renderers\":[{\"id\":\"0d0203d2-8224-49b9-84e9-9876e787df9c\",\"type\":\"GlyphRenderer\"},{\"id\":\"04945501-9054-42ea-adc7-d6aa8ee0743b\",\"type\":\"GlyphRenderer\"}]},\"id\":\"e14fccf7-f7a8-4dd0-9019-9492c3d3e704\",\"type\":\"LegendItem\"},{\"attributes\":{\"line_alpha\":0.1,\"line_color\":\"#1f77b4\",\"line_dash\":[6],\"line_width\":5,\"x\":{\"field\":\"x\"},\"y\":{\"field\":\"y\"}},\"id\":\"198da73c-f9a7-4f42-9383-1f37be385277\",\"type\":\"Line\"},{\"attributes\":{\"dimension\":1,\"plot\":{\"id\":\"d2d0245b-9351-4ebc-b1ff-67f9e3552804\",\"subtype\":\"Figure\",\"type\":\"Plot\"},\"ticker\":{\"id\":\"3d7d2887-0eba-480b-8546-e3aada410324\",\"type\":\"LogTicker\"}},\"id\":\"f1d51b1e-e56c-4234-825b-9cc9ed1445ab\",\"type\":\"Grid\"},{\"attributes\":{},\"id\":\"73e2010c-2999-4b89-9913-d9ee0553af97\",\"type\":\"BasicTickFormatter\"},{\"attributes\":{\"fill_alpha\":{\"value\":0.1},\"fill_color\":{\"value\":\"#1f77b4\"},\"line_alpha\":{\"value\":0.1},\"line_color\":{\"value\":\"#1f77b4\"},\"x\":{\"field\":\"x\"},\"y\":{\"field\":\"y\"}},\"id\":\"37135737-f293-426e-87e2-9a25534f049f\",\"type\":\"Square\"},{\"attributes\":{\"line_alpha\":0.1,\"line_color\":\"#1f77b4\",\"line_dash\":[6],\"line_width\":5,\"x\":{\"field\":\"x\"},\"y\":{\"field\":\"y\"}},\"id\":\"3bb0ba41-48e5-4459-88b0-e4cc4c2045e4\",\"type\":\"Line\"},{\"attributes\":{\"data_source\":{\"id\":\"89f368e3-583c-4ca3-bbbf-36a14b13ffe2\",\"type\":\"ColumnDataSource\"},\"glyph\":{\"id\":\"8de4c682-2c8a-4b80-ae16-5e3abfe1d0d4\",\"type\":\"Line\"},\"hover_glyph\":null,\"muted_glyph\":null,\"nonselection_glyph\":{\"id\":\"198da73c-f9a7-4f42-9383-1f37be385277\",\"type\":\"Line\"},\"selection_glyph\":null,\"view\":{\"id\":\"416b1f29-e20e-4e9a-99d0-303f64b1ab30\",\"type\":\"CDSView\"}},\"id\":\"4606a738-86f8-4c22-8335-3c75d97b34ee\",\"type\":\"GlyphRenderer\"},{\"attributes\":{\"overlay\":{\"id\":\"c3428520-1286-4304-82f8-d4c4f2e3dd4d\",\"type\":\"BoxAnnotation\"}},\"id\":\"7bccfe1c-8ade-495c-a335-7013c814fe4a\",\"type\":\"BoxZoomTool\"},{\"attributes\":{\"dimension\":1,\"plot\":{\"id\":\"055bd0ef-5342-417e-abaa-bf2862ea6456\",\"subtype\":\"Figure\",\"type\":\"Plot\"},\"ticker\":{\"id\":\"fec03331-c763-44dc-a4a8-645b9999b0a7\",\"type\":\"BasicTicker\"}},\"id\":\"9682d4d3-40b8-4f2f-9d96-e6ad98311b7e\",\"type\":\"Grid\"},{\"attributes\":{\"line_alpha\":0.6,\"line_color\":\"#984ea3\",\"line_width\":3,\"x\":{\"field\":\"x\"},\"y\":{\"field\":\"y\"}},\"id\":\"7d4fa496-d0b1-459b-a847-411e8591e0c7\",\"type\":\"Line\"},{\"attributes\":{\"callback\":null,\"column_names\":[\"x\",\"y\"],\"data\":{\"x\":{\"__ndarray__\":\"T13RvDW0Qz/BXp+L4j5FP9BIl3qrXUg/hl/oanG8Sz9ezodb2DpPP/XSRaioalE/Wu5QPWdFUz+k+BO19i5VP8vdrN+aJFc/cJFWGD0gWT9eTN64OC5bP3eULCLoOl0/iOSCOLG1Xj/Dwdrn3KVgP/ePZiRypWU/YeuZr2AMcT8VWqegUzZ6P3ENbXFm44I/Nd4t+zv8iT/XAGg+LkSRP7sKWXi/U5Y/0pCO/tmHmz/O3nyXEHucPxjrDG2v7pg/8YWyuEtXlD8C4J1R+g+PP8I47WacP4c/Nj8xeyh0gT/V4IzJemR6Py9R4I3jCHQ/zz/CM884bj+st3sxg1VmP5bB8hKl/l8/ilFwZcuhVT/oIUdPtPpDP0O5mShKdA2/C0SmTi9rN7+vbdvbsjwov4E2LOQOtjg/gHViONpWUz8PbXf7ondoP+Qs3mN/zYI/KKDDW2sYlT9p9KqbedyiPygRsycZ6qw/2mKvXuIbtD/rME987066P98PiYxYVcA/W1W8sofNwj8ze4/pv73FP+MVyrpmD8k/IjIPDUm1zD8+vABeE1DQP2SYj3slVtI/clAld5Zo1D+6wnlA8nHWP2+E4hrhZdg/A2VsS5E62j8buyPn7d3bP31R7ZlGT90/Jxtqb0t/3j9D1Z5I5kffPy2f/hYRg98/ET6M94Bs4D/b9uIwPSbgP0UhVVbLhN4/MSfkWh8c3D9VnZtX8Z3YP8f/FeBYo9U/YkSqQftF0z+CIeUGx1XRP7i4W8yuf88/he4OAIcWzT8J/MDZ1uTLP2vobvDoc9A/\",\"dtype\":\"float64\",\"shape\":[75]},\"y\":{\"__ndarray__\":\"GhExyth1ND/Sv8nbtpRIP2vylNV0PVE/aTum7souWD/At0SJ8fVgPw3Iuahxymc/MSNhhJWvcD/bTfBN02d3P2zb5nxnaoA/CD5h5MAGhz8NmeH1TyaQP+zrCsc9p5Y/LbKd76fGnz/bLW5ISEmmPww9YvTcQq8/JV2OstnstT8Er5Y7M8G+P0c+r3jqkcU/5h99k6ZBzj88bCIzFzjVP4enV8oyxN0//yH99nXg5D8qOpLLf0jtP5kqGJXUifQ/c9cS8kHP/D+/DpwzojQEQIEmwoanVwxA4lgXt9HgE0BSSZ2AJuIbQAMJih9jjiNA5q4l5INuK0AwTKYKRj0zQNv5fmq8/DpAaCJseHrtQkB/+zpwzoxKQM3MzMzMeFJAZmZmZmZqWEAAAAAAAFxeQM3MzMzMJmJAmpmZmZkfZUBmZmZmZhhoQDMzMzMzEWtAAAAAAAAKbkBmZmZmZoFwQM3MzMzM/XFAMzMzMzN6c0CamZmZmfZ0QAAAAAAAc3ZAZmZmZmbvd0DNzMzMzGt5QDMzMzMz6HpAmpmZmZlkfEAAAAAAAOF9QGZmZmZmXX9AZmZmZuZsgECamZmZGSuBQM3MzMxM6YFAAAAAAICngkAzMzMzs2WDQGZmZmbmI4RAmpmZmRnihEDNzMzMTKCFQAAAAACAXoZAMzMzM7Mch0BmZmZm5tqHQJqZmZkZmYhAzczMzExXiUAAAAAAgBWKQDMzMzOz04pAZmZmZuaRi0CamZmZGVCMQM3MzMxMDo1AAAAAAIDMjUAzMzMzs4qOQGZmZmbmSI9A\",\"dtype\":\"float64\",\"shape\":[75]}}},\"id\":\"148ebd9a-0fc5-4a10-939e-35c54fbc38a8\",\"type\":\"ColumnDataSource\"},{\"attributes\":{\"callback\":null,\"end\":0.01,\"start\":1020},\"id\":\"06630067-88d5-4542-b4c9-c07be9ab8fad\",\"type\":\"Range1d\"},{\"attributes\":{\"source\":{\"id\":\"e499e6d5-7659-4d61-89e2-47068521a8b2\",\"type\":\"ColumnDataSource\"}},\"id\":\"cd4163b2-ff22-42a4-8450-183c759024c0\",\"type\":\"CDSView\"},{\"attributes\":{\"tools\":[{\"id\":\"65f681ce-9773-4980-8a44-21548f460806\",\"type\":\"PanTool\"},{\"id\":\"1784a528-fc0c-48c3-adc9-178717ddaf68\",\"type\":\"WheelZoomTool\"},{\"id\":\"7bccfe1c-8ade-495c-a335-7013c814fe4a\",\"type\":\"BoxZoomTool\"},{\"id\":\"805044a2-9614-42cc-9864-0864fe0cf722\",\"type\":\"SaveTool\"},{\"id\":\"b72d00de-487c-49c0-acc1-b04765520005\",\"type\":\"ResetTool\"},{\"id\":\"87a529d6-26ad-47d3-9b4f-5ca91017db3b\",\"type\":\"HelpTool\"},{\"id\":\"209b8c04-b7df-42ff-9471-4c42ddf7affd\",\"type\":\"PanTool\"},{\"id\":\"5b6cf8bd-0cba-4e4c-ad9c-1c000b3cc3c4\",\"type\":\"WheelZoomTool\"},{\"id\":\"6e3f6756-c872-4e09-b5d4-d4761b1aa910\",\"type\":\"BoxZoomTool\"},{\"id\":\"4f2e5cd2-8cfc-475e-928d-0066ed571fc5\",\"type\":\"SaveTool\"},{\"id\":\"5513f58c-3bdd-421d-beb1-3831d6aae186\",\"type\":\"ResetTool\"},{\"id\":\"d45be259-af45-4204-ad94-c02fa12d7d98\",\"type\":\"HelpTool\"}]},\"id\":\"9649001f-d008-4b8e-afa5-e00c5937f3ac\",\"type\":\"ProxyToolbar\"},{\"attributes\":{},\"id\":\"fec03331-c763-44dc-a4a8-645b9999b0a7\",\"type\":\"BasicTicker\"},{\"attributes\":{\"below\":[{\"id\":\"cadd2306-6cb0-4411-80c0-b9f938191bde\",\"type\":\"LinearAxis\"}],\"left\":[{\"id\":\"07bf001c-b5af-4665-9f91-3560357dc285\",\"type\":\"LogAxis\"}],\"plot_height\":500,\"plot_width\":560,\"renderers\":[{\"id\":\"cadd2306-6cb0-4411-80c0-b9f938191bde\",\"type\":\"LinearAxis\"},{\"id\":\"2e6153e4-40f0-4ac5-9a05-cffabc7bedb8\",\"type\":\"Grid\"},{\"id\":\"07bf001c-b5af-4665-9f91-3560357dc285\",\"type\":\"LogAxis\"},{\"id\":\"f1d51b1e-e56c-4234-825b-9cc9ed1445ab\",\"type\":\"Grid\"},{\"id\":\"141b73aa-69a6-4e1e-b540-8eb80e7eef86\",\"type\":\"BoxAnnotation\"},{\"id\":\"ea3aa85d-cf13-45f9-bfce-508082b3a5f2\",\"type\":\"GlyphRenderer\"},{\"id\":\"0d0203d2-8224-49b9-84e9-9876e787df9c\",\"type\":\"GlyphRenderer\"},{\"id\":\"04945501-9054-42ea-adc7-d6aa8ee0743b\",\"type\":\"GlyphRenderer\"},{\"id\":\"a43d2666-4aab-4405-bc9b-3d5fe2bb66f1\",\"type\":\"GlyphRenderer\"},{\"id\":\"39730740-2bfa-449b-b33c-3a0cdda3bd22\",\"type\":\"GlyphRenderer\"},{\"id\":\"d3cb8a51-b63a-4a2e-ae69-0da5f6165e23\",\"type\":\"Legend\"}],\"right\":[{\"id\":\"d3cb8a51-b63a-4a2e-ae69-0da5f6165e23\",\"type\":\"Legend\"}],\"title\":{\"id\":\"31e6dd23-3b7d-463d-993d-d2846579e5e1\",\"type\":\"Title\"},\"toolbar\":{\"id\":\"6565c7d9-95f3-424b-85dc-8f52a426a5e3\",\"type\":\"Toolbar\"},\"toolbar_location\":null,\"x_range\":{\"id\":\"7597e8d3-e187-407e-ac9d-e3564bfb1d96\",\"type\":\"Range1d\"},\"x_scale\":{\"id\":\"6eefde71-de45-4d84-885b-ddcfc9771eb0\",\"type\":\"LinearScale\"},\"y_range\":{\"id\":\"0f812563-e8df-47fc-a2e8-b0931891934d\",\"type\":\"Range1d\"},\"y_scale\":{\"id\":\"c9bff5a4-06bd-4b08-851b-5171c9411617\",\"type\":\"LogScale\"}},\"id\":\"d2d0245b-9351-4ebc-b1ff-67f9e3552804\",\"subtype\":\"Figure\",\"type\":\"Plot\"},{\"attributes\":{\"data_source\":{\"id\":\"148ebd9a-0fc5-4a10-939e-35c54fbc38a8\",\"type\":\"ColumnDataSource\"},\"glyph\":{\"id\":\"5e209dad-498f-40bd-b5f1-e2863f243b54\",\"type\":\"Line\"},\"hover_glyph\":null,\"muted_glyph\":null,\"nonselection_glyph\":{\"id\":\"a8487208-7e33-44b6-a5f9-6b12794d65df\",\"type\":\"Line\"},\"selection_glyph\":null,\"view\":{\"id\":\"4c270c5f-7d2f-43eb-bb08-957d9732b855\",\"type\":\"CDSView\"}},\"id\":\"7a913328-fe76-4edc-ba28-93d59b972740\",\"type\":\"GlyphRenderer\"},{\"attributes\":{\"line_color\":\"#4daf4a\",\"line_width\":1.5,\"x\":{\"field\":\"x\"},\"y\":{\"field\":\"y\"}},\"id\":\"5e209dad-498f-40bd-b5f1-e2863f243b54\",\"type\":\"Line\"},{\"attributes\":{\"source\":{\"id\":\"bb8ebaa0-10e0-403f-ae0e-9bb50f052f89\",\"type\":\"ColumnDataSource\"}},\"id\":\"ac787687-b30c-417e-8ddc-ba1f3062575a\",\"type\":\"CDSView\"},{\"attributes\":{\"axis_label\":\"cooling rate [K/day]\",\"formatter\":{\"id\":\"07ddd615-d6da-4edf-a4eb-d6a36d2d28b5\",\"type\":\"BasicTickFormatter\"},\"plot\":{\"id\":\"055bd0ef-5342-417e-abaa-bf2862ea6456\",\"subtype\":\"Figure\",\"type\":\"Plot\"},\"ticker\":{\"id\":\"be85adb7-6f20-42b3-872d-098e5e0810d9\",\"type\":\"BasicTicker\"}},\"id\":\"e4e83c29-1913-425c-9cb4-134dbdb2b00c\",\"type\":\"LinearAxis\"},{\"attributes\":{\"line_alpha\":0.1,\"line_color\":\"#1f77b4\",\"line_width\":3,\"x\":{\"field\":\"x\"},\"y\":{\"field\":\"y\"}},\"id\":\"39498b25-3bb6-467f-a968-a76e24606d91\",\"type\":\"Line\"},{\"attributes\":{\"source\":{\"id\":\"5f599c31-ef77-4d11-bc65-0456bd0a809c\",\"type\":\"ColumnDataSource\"}},\"id\":\"86984c13-94ce-4434-9d19-d8fec3361bf9\",\"type\":\"CDSView\"},{\"attributes\":{},\"id\":\"b72d00de-487c-49c0-acc1-b04765520005\",\"type\":\"ResetTool\"},{\"attributes\":{\"callback\":null,\"end\":0.59101861372112,\"start\":-0.00627846583312},\"id\":\"c7709b08-8bb6-44a6-baeb-9ec149ceaf6c\",\"type\":\"Range1d\"},{\"attributes\":{\"plot\":null,\"text\":\"Log pressure scale\"},\"id\":\"31e6dd23-3b7d-463d-993d-d2846579e5e1\",\"type\":\"Title\"},{\"attributes\":{\"data_source\":{\"id\":\"5f599c31-ef77-4d11-bc65-0456bd0a809c\",\"type\":\"ColumnDataSource\"},\"glyph\":{\"id\":\"7d4fa496-d0b1-459b-a847-411e8591e0c7\",\"type\":\"Line\"},\"hover_glyph\":null,\"muted_glyph\":null,\"nonselection_glyph\":{\"id\":\"39498b25-3bb6-467f-a968-a76e24606d91\",\"type\":\"Line\"},\"selection_glyph\":null,\"view\":{\"id\":\"86984c13-94ce-4434-9d19-d8fec3361bf9\",\"type\":\"CDSView\"}},\"id\":\"e1c79fe4-d6f1-4186-8fe7-7090a4e2c3c0\",\"type\":\"GlyphRenderer\"},{\"attributes\":{\"callback\":null,\"column_names\":[\"x\",\"y\"],\"data\":{\"x\":{\"__ndarray__\":\"AAAAAAAAAAAAAAAAAAAAAAAAAAAAAAAAAAAAAAAAAADXN75jacGnPwAAAAAAAAAAbjRQfiolmD8AAAAAAAAAADZwiv0Ti3i/AAAAAAAAAAAnLgf+l/J4vzs9YkGQrXo/V99JH8RbaT9Rx1y6BhRiP+6dSByoxmk/WFElQTYUgD9Dc8ehkdZ7PxXYHwWo2Yo/gCPfd5w6kD9E3EsDBwCXP+R1POcgSJ8/QqXDo4proz8BKP2/FUmkP6P1XwP8/KE/fS3lBaNVnT+YTS8a+nOWP4BzZaG0b5A/fBsen+lVhz87LWteNjqAP/Qt8148kXU/ewFDPPW0aj8EG7zYAJhePxIaGsHkH1A/tiPmo9ZFOz/soY29XI76voedGr5qujK/q3i8Huy4Nr+SbePc77Uuv4zd9T8GkxE/dy7knVKjQz+WcIngFmxePxo74dwYH3s/iukKAqCUkT8Kh6F/yWChPy8fZ59pt6s/hfF6APCnsz9hTUy0Nzq7PxMC4kPDQcE/++BCP892wz9uLXpE2LLGP3TE7+AGgMs/Nk/gY9Fw0D/P+QiAGgzTPzNdgGTXidU/uFcHvKNx2D8ipiME1GnbPz1jPqQIPt4/PzBPAChT4D/Lgok/ijrhPw/TfJ3t9OE/sxEEn1GA4j/mL6FAp7niPyy7gX62gOI/Jy90HZGs4j/VrBohj2LhPwG3WYKtTt4/xzI3vnpF2T+c8Pn+WfXTP5GmMKXkC9A/wPCEPXGpyj+a37x6DajGP1XGXKX9h8M/Z7q2O5Q2wT+b8GSaXTXAP1W59T9locY/\",\"dtype\":\"float64\",\"shape\":[75]},\"y\":{\"__ndarray__\":\"S/O/Q+51ND/430zAtpRIP2vylNV0PVE/QxsjCssuWD/TR4Z78fVgP+inNsRxymc/OuuBfZWvcD/u3TFA02d3P2d3VoBnaoA/CD5h5MAGhz/1pA8HUCaQP+zrCsc9p5Y/Fb7LAKjGnz/nJ9c/SEmmPwBD+fzcQq8/FOZwv9nstT8Er5Y7M8G+P0c+r3jqkcU/yK72qKZBzj+tM989FzjVPxbgmr8yxN0/cOm5AXbg5D+5ctXAf0jtP5kqGJXUifQ/DsrqDELP/D8MCAhBojQEQDItVnmnVwxAiFXNvdHgE0BSSZ2AJuIbQAMJih9jjiNA5q4l5INuK0CPVN/5RT0zQHzxRXu8/DpAOZ7PgHrtQkAg8wGBzoxKQBSTN8DMeFJA2NmQf2ZqWEAAAAAAAFxeQEQX1LfMJmJAmpmZmZkfZUBmZmZmZhhoQLzoK0gzEWtAAAAAAAAKbkCiC+pbZoFwQAhyUMLM/XFA+I2vPTN6c0AQ5KCEmfZ0QAAAAAAAc3ZA8Btfe2bvd0AIclDCzGt5QPeNrz0z6HpAEOSghJlkfEAAAAAAAOF9QKML6ltmXX9ABTkoYeZsgED7xteeGSuBQAhyUMJM6YFAAAAAAICngkD4ja89s2WDQAU5KGHmI4RA+8bXnhnihEAIclDCTKCFQAAAAACAXoZA+I2vPbMch0AFOShh5tqHQPvG154ZmYhACHJQwkxXiUAAAAAAgBWKQPeNrz2z04pABTkoYeaRi0D7xteeGVCMQAlyUMJMDo1AAAAAAIDMjUD3ja89s4qOQGZmZmbmSI9A\",\"dtype\":\"float64\",\"shape\":[75]}}},\"id\":\"89f368e3-583c-4ca3-bbbf-36a14b13ffe2\",\"type\":\"ColumnDataSource\"},{\"attributes\":{\"plot\":null,\"text\":\"Linear pressure scale\"},\"id\":\"8cdce1a7-adba-4932-8c06-4db5abf1b3ce\",\"type\":\"Title\"},{\"attributes\":{\"axis_label\":\"pressure [mb]\",\"formatter\":{\"id\":\"a7148ddc-10b6-4287-b812-37bfb5dc66db\",\"type\":\"BasicTickFormatter\"},\"plot\":{\"id\":\"055bd0ef-5342-417e-abaa-bf2862ea6456\",\"subtype\":\"Figure\",\"type\":\"Plot\"},\"ticker\":{\"id\":\"fec03331-c763-44dc-a4a8-645b9999b0a7\",\"type\":\"BasicTicker\"}},\"id\":\"1266a855-a43d-46a1-a0d3-7ddb5e283451\",\"type\":\"LinearAxis\"},{\"attributes\":{},\"id\":\"c1c7ea84-2e83-4e98-ba86-1ecf6a08e525\",\"type\":\"LinearScale\"},{\"attributes\":{\"source\":{\"id\":\"148ebd9a-0fc5-4a10-939e-35c54fbc38a8\",\"type\":\"ColumnDataSource\"}},\"id\":\"4c270c5f-7d2f-43eb-bb08-957d9732b855\",\"type\":\"CDSView\"},{\"attributes\":{},\"id\":\"5513f58c-3bdd-421d-beb1-3831d6aae186\",\"type\":\"ResetTool\"},{\"attributes\":{\"num_minor_ticks\":10},\"id\":\"3d7d2887-0eba-480b-8546-e3aada410324\",\"type\":\"LogTicker\"},{\"attributes\":{\"fill_alpha\":{\"value\":0.1},\"fill_color\":{\"value\":\"#1f77b4\"},\"line_alpha\":{\"value\":0.1},\"line_color\":{\"value\":\"#1f77b4\"},\"x\":{\"field\":\"x\"},\"y\":{\"field\":\"y\"}},\"id\":\"d565e84d-cd4d-40f1-858f-0d4061546e39\",\"type\":\"Circle\"},{\"attributes\":{},\"id\":\"618214a5-53c9-4650-8131-6bb4e6462399\",\"type\":\"LinearScale\"},{\"attributes\":{},\"id\":\"2523f358-dae7-417c-97a3-91bdaad7d8a4\",\"type\":\"BasicTicker\"},{\"attributes\":{},\"id\":\"1784a528-fc0c-48c3-adc9-178717ddaf68\",\"type\":\"WheelZoomTool\"},{\"attributes\":{},\"id\":\"c9bff5a4-06bd-4b08-851b-5171c9411617\",\"type\":\"LogScale\"},{\"attributes\":{\"callback\":null,\"column_names\":[\"x\",\"y\"],\"data\":{\"x\":{\"__ndarray__\":\"TCk7HAF3Uj94nccPdCdTP8uvv82ylFQ/YiCOo0b7VT/8IuS49YFXP8zHd1/BE1k/hBj9LtWwWj/3XCtIq1lcPzd5nFlVDl4/SLMcemrNXz8BeOLcMstgP5R7ce6PuGE/vHQGcfmtYj8/ERxZq+pjP05aME+MfGg/6apV+CzIcT8HjINzObl5P/Ycg7Li84E/X9Tdn75DiD/3Ni3XUv+PP5KNl4/krZQ/L9E3NtSrmT+23bWYYDebP7yNABpE1pg/Hwjm74w+lT8lh6LOaA2RPwEdDQeVk4o/QSKsclxVhD8w/wSXE29+P8kRBj20JnY/NVOJAIUtbz+15uSNvhNlP7q7N0vIX1s/881i2mSoUD9bF5pEjFE4P++fsHmPBCm/VNcuM0GyO7/4A4gWV3Ivv4J2OuLSSDM/sKqR4hBeUT/tTv/q0tpmP9DGPmgqJ4I/n2fK4E8FlT8DVS+NuRujP7SwptUxPq0/8SX5kI1OtD8HlcpLtay6P2md1WrpZ8A/xKpKZ31vwj8BiJBmwv/EP6oyIuqgQcg/YQLQYj4HzD/95AwD5/vPP1kji7AF79E/jmGhYXDl0z+sZG6OleLVPx/TsSvX5Nc/pcXd6Jva2T8QnP4JjqDbP/uQRlf4Kt0/uHhL32Jn3j9oTT4u10DfP3KuxAXlmd8/rb6FsIqT4D8rswaWnHHgP4wzfdk2Wd8/EZ1KfncI3T/LeTMXd27ZPzL4LGtSMtY/3+r950Sa0z92S8Gz13vRP3gSpzdKmM8/Zk/iczUqzT+oqlqzzR7MP2fQ1fWpmdA/\",\"dtype\":\"float64\",\"shape\":[75]},\"y\":{\"__ndarray__\":\"GhExyth1ND/Sv8nbtpRIP2vylNV0PVE/aTum7souWD/At0SJ8fVgPw3Iuahxymc/MSNhhJWvcD/bTfBN02d3P2zb5nxnaoA/CD5h5MAGhz8NmeH1TyaQP+zrCsc9p5Y/LbKd76fGnz/bLW5ISEmmPww9YvTcQq8/JV2OstnstT8Er5Y7M8G+P0c+r3jqkcU/5h99k6ZBzj88bCIzFzjVP4enV8oyxN0//yH99nXg5D8qOpLLf0jtP5kqGJXUifQ/c9cS8kHP/D+/DpwzojQEQIEmwoanVwxA4lgXt9HgE0BSSZ2AJuIbQAMJih9jjiNA5q4l5INuK0AwTKYKRj0zQNv5fmq8/DpAaCJseHrtQkB/+zpwzoxKQM3MzMzMeFJAZmZmZmZqWEAAAAAAAFxeQM3MzMzMJmJAmpmZmZkfZUBmZmZmZhhoQDMzMzMzEWtAAAAAAAAKbkBmZmZmZoFwQM3MzMzM/XFAMzMzMzN6c0CamZmZmfZ0QAAAAAAAc3ZAZmZmZmbvd0DNzMzMzGt5QDMzMzMz6HpAmpmZmZlkfEAAAAAAAOF9QGZmZmZmXX9AZmZmZuZsgECamZmZGSuBQM3MzMxM6YFAAAAAAICngkAzMzMzs2WDQGZmZmbmI4RAmpmZmRnihEDNzMzMTKCFQAAAAACAXoZAMzMzM7Mch0BmZmZm5tqHQJqZmZkZmYhAzczMzExXiUAAAAAAgBWKQDMzMzOz04pAZmZmZuaRi0CamZmZGVCMQM3MzMxMDo1AAAAAAIDMjUAzMzMzs4qOQGZmZmbmSI9A\",\"dtype\":\"float64\",\"shape\":[75]}}},\"id\":\"5f599c31-ef77-4d11-bc65-0456bd0a809c\",\"type\":\"ColumnDataSource\"},{\"attributes\":{\"axis_label\":\"pressure [mb]\",\"formatter\":{\"id\":\"2c6afd3e-69bb-4aa2-ad94-b4029ac0e66e\",\"type\":\"LogTickFormatter\"},\"plot\":{\"id\":\"d2d0245b-9351-4ebc-b1ff-67f9e3552804\",\"subtype\":\"Figure\",\"type\":\"Plot\"},\"ticker\":{\"id\":\"3d7d2887-0eba-480b-8546-e3aada410324\",\"type\":\"LogTicker\"}},\"id\":\"07bf001c-b5af-4665-9f91-3560357dc285\",\"type\":\"LogAxis\"},{\"attributes\":{\"fill_alpha\":{\"value\":0.7},\"fill_color\":{\"value\":\"#984ea3\"},\"line_alpha\":{\"value\":0.7},\"line_color\":{\"value\":\"#984ea3\"},\"x\":{\"field\":\"x\"},\"y\":{\"field\":\"y\"}},\"id\":\"930d53bb-3ecb-4b96-ab2d-555e70d5f201\",\"type\":\"Square\"},{\"attributes\":{\"children\":[{\"id\":\"055bd0ef-5342-417e-abaa-bf2862ea6456\",\"subtype\":\"Figure\",\"type\":\"Plot\"},{\"id\":\"d2d0245b-9351-4ebc-b1ff-67f9e3552804\",\"subtype\":\"Figure\",\"type\":\"Plot\"}]},\"id\":\"8ad48c9a-a1ec-4c45-9630-ac3c913880f1\",\"type\":\"Row\"},{\"attributes\":{},\"id\":\"805044a2-9614-42cc-9864-0864fe0cf722\",\"type\":\"SaveTool\"},{\"attributes\":{},\"id\":\"be85adb7-6f20-42b3-872d-098e5e0810d9\",\"type\":\"BasicTicker\"},{\"attributes\":{\"bottom_units\":\"screen\",\"fill_alpha\":{\"value\":0.5},\"fill_color\":{\"value\":\"lightgrey\"},\"left_units\":\"screen\",\"level\":\"overlay\",\"line_alpha\":{\"value\":1.0},\"line_color\":{\"value\":\"black\"},\"line_dash\":[4,4],\"line_width\":{\"value\":2},\"plot\":null,\"render_mode\":\"css\",\"right_units\":\"screen\",\"top_units\":\"screen\"},\"id\":\"c3428520-1286-4304-82f8-d4c4f2e3dd4d\",\"type\":\"BoxAnnotation\"},{\"attributes\":{\"overlay\":{\"id\":\"141b73aa-69a6-4e1e-b540-8eb80e7eef86\",\"type\":\"BoxAnnotation\"}},\"id\":\"6e3f6756-c872-4e09-b5d4-d4761b1aa910\",\"type\":\"BoxZoomTool\"},{\"attributes\":{\"callback\":null,\"column_names\":[\"x\",\"y\"],\"data\":{\"x\":{\"__ndarray__\":\"AAAAAAAAAAAAAAAAAAAAAAAAAAAAAAAAAAAAAAAAAADXN75jacGnPwAAAAAAAAAAbjRQfiolmD8AAAAAAAAAADZwiv0Ti3i/AAAAAAAAAAAnLgf+l/J4vzs9YkGQrXo/V99JH8RbaT9Rx1y6BhRiP+6dSByoxmk/WFElQTYUgD9Dc8ehkdZ7PxXYHwWo2Yo/gCPfd5w6kD9E3EsDBwCXP+R1POcgSJ8/QqXDo4proz8BKP2/FUmkP6P1XwP8/KE/fS3lBaNVnT+YTS8a+nOWP4BzZaG0b5A/fBsen+lVhz87LWteNjqAP/Qt8148kXU/ewFDPPW0aj8EG7zYAJhePxIaGsHkH1A/tiPmo9ZFOz/soY29XI76voedGr5qujK/q3i8Huy4Nr+SbePc77Uuv4zd9T8GkxE/dy7knVKjQz+WcIngFmxePxo74dwYH3s/iukKAqCUkT8Kh6F/yWChPy8fZ59pt6s/hfF6APCnsz9hTUy0Nzq7PxMC4kPDQcE/++BCP892wz9uLXpE2LLGP3TE7+AGgMs/Nk/gY9Fw0D/P+QiAGgzTPzNdgGTXidU/uFcHvKNx2D8ipiME1GnbPz1jPqQIPt4/PzBPAChT4D/Lgok/ijrhPw/TfJ3t9OE/sxEEn1GA4j/mL6FAp7niPyy7gX62gOI/Jy90HZGs4j/VrBohj2LhPwG3WYKtTt4/xzI3vnpF2T+c8Pn+WfXTP5GmMKXkC9A/wPCEPXGpyj+a37x6DajGP1XGXKX9h8M/Z7q2O5Q2wT+b8GSaXTXAP1W59T9locY/\",\"dtype\":\"float64\",\"shape\":[75]},\"y\":{\"__ndarray__\":\"S/O/Q+51ND/430zAtpRIP2vylNV0PVE/QxsjCssuWD/TR4Z78fVgP+inNsRxymc/OuuBfZWvcD/u3TFA02d3P2d3VoBnaoA/CD5h5MAGhz/1pA8HUCaQP+zrCsc9p5Y/Fb7LAKjGnz/nJ9c/SEmmPwBD+fzcQq8/FOZwv9nstT8Er5Y7M8G+P0c+r3jqkcU/yK72qKZBzj+tM989FzjVPxbgmr8yxN0/cOm5AXbg5D+5ctXAf0jtP5kqGJXUifQ/DsrqDELP/D8MCAhBojQEQDItVnmnVwxAiFXNvdHgE0BSSZ2AJuIbQAMJih9jjiNA5q4l5INuK0CPVN/5RT0zQHzxRXu8/DpAOZ7PgHrtQkAg8wGBzoxKQBSTN8DMeFJA2NmQf2ZqWEAAAAAAAFxeQEQX1LfMJmJAmpmZmZkfZUBmZmZmZhhoQLzoK0gzEWtAAAAAAAAKbkCiC+pbZoFwQAhyUMLM/XFA+I2vPTN6c0AQ5KCEmfZ0QAAAAAAAc3ZA8Btfe2bvd0AIclDCzGt5QPeNrz0z6HpAEOSghJlkfEAAAAAAAOF9QKML6ltmXX9ABTkoYeZsgED7xteeGSuBQAhyUMJM6YFAAAAAAICngkD4ja89s2WDQAU5KGHmI4RA+8bXnhnihEAIclDCTKCFQAAAAACAXoZA+I2vPbMch0AFOShh5tqHQPvG154ZmYhACHJQwkxXiUAAAAAAgBWKQPeNrz2z04pABTkoYeaRi0D7xteeGVCMQAlyUMJMDo1AAAAAAIDMjUD3ja89s4qOQGZmZmbmSI9A\",\"dtype\":\"float64\",\"shape\":[75]}}},\"id\":\"bb8ebaa0-10e0-403f-ae0e-9bb50f052f89\",\"type\":\"ColumnDataSource\"},{\"attributes\":{\"bottom_units\":\"screen\",\"fill_alpha\":{\"value\":0.5},\"fill_color\":{\"value\":\"lightgrey\"},\"left_units\":\"screen\",\"level\":\"overlay\",\"line_alpha\":{\"value\":1.0},\"line_color\":{\"value\":\"black\"},\"line_dash\":[4,4],\"line_width\":{\"value\":2},\"plot\":null,\"render_mode\":\"css\",\"right_units\":\"screen\",\"top_units\":\"screen\"},\"id\":\"141b73aa-69a6-4e1e-b540-8eb80e7eef86\",\"type\":\"BoxAnnotation\"},{\"attributes\":{\"plot\":{\"id\":\"d2d0245b-9351-4ebc-b1ff-67f9e3552804\",\"subtype\":\"Figure\",\"type\":\"Plot\"},\"ticker\":{\"id\":\"2523f358-dae7-417c-97a3-91bdaad7d8a4\",\"type\":\"BasicTicker\"}},\"id\":\"2e6153e4-40f0-4ac5-9a05-cffabc7bedb8\",\"type\":\"Grid\"},{\"attributes\":{},\"id\":\"5b6cf8bd-0cba-4e4c-ad9c-1c000b3cc3c4\",\"type\":\"WheelZoomTool\"},{\"attributes\":{\"below\":[{\"id\":\"e4e83c29-1913-425c-9cb4-134dbdb2b00c\",\"type\":\"LinearAxis\"}],\"left\":[{\"id\":\"1266a855-a43d-46a1-a0d3-7ddb5e283451\",\"type\":\"LinearAxis\"}],\"plot_height\":500,\"plot_width\":400,\"renderers\":[{\"id\":\"e4e83c29-1913-425c-9cb4-134dbdb2b00c\",\"type\":\"LinearAxis\"},{\"id\":\"1b750bd7-dd59-4da0-bf09-93c00ea59c57\",\"type\":\"Grid\"},{\"id\":\"1266a855-a43d-46a1-a0d3-7ddb5e283451\",\"type\":\"LinearAxis\"},{\"id\":\"9682d4d3-40b8-4f2f-9d96-e6ad98311b7e\",\"type\":\"Grid\"},{\"id\":\"c3428520-1286-4304-82f8-d4c4f2e3dd4d\",\"type\":\"BoxAnnotation\"},{\"id\":\"4606a738-86f8-4c22-8335-3c75d97b34ee\",\"type\":\"GlyphRenderer\"},{\"id\":\"3be46f28-48fc-417c-abbe-711cc01b51a7\",\"type\":\"GlyphRenderer\"},{\"id\":\"7a913328-fe76-4edc-ba28-93d59b972740\",\"type\":\"GlyphRenderer\"},{\"id\":\"b65e25bf-021d-47ac-ade5-2ddf5ba32669\",\"type\":\"GlyphRenderer\"},{\"id\":\"e1c79fe4-d6f1-4186-8fe7-7090a4e2c3c0\",\"type\":\"GlyphRenderer\"}],\"title\":{\"id\":\"8cdce1a7-adba-4932-8c06-4db5abf1b3ce\",\"type\":\"Title\"},\"toolbar\":{\"id\":\"90535884-96af-4235-b58e-e0551de1952b\",\"type\":\"Toolbar\"},\"toolbar_location\":null,\"x_range\":{\"id\":\"c7709b08-8bb6-44a6-baeb-9ec149ceaf6c\",\"type\":\"Range1d\"},\"x_scale\":{\"id\":\"618214a5-53c9-4650-8131-6bb4e6462399\",\"type\":\"LinearScale\"},\"y_range\":{\"id\":\"06630067-88d5-4542-b4c9-c07be9ab8fad\",\"type\":\"Range1d\"},\"y_scale\":{\"id\":\"c1c7ea84-2e83-4e98-ba86-1ecf6a08e525\",\"type\":\"LinearScale\"}},\"id\":\"055bd0ef-5342-417e-abaa-bf2862ea6456\",\"subtype\":\"Figure\",\"type\":\"Plot\"},{\"attributes\":{\"plot\":{\"id\":\"055bd0ef-5342-417e-abaa-bf2862ea6456\",\"subtype\":\"Figure\",\"type\":\"Plot\"},\"ticker\":{\"id\":\"be85adb7-6f20-42b3-872d-098e5e0810d9\",\"type\":\"BasicTicker\"}},\"id\":\"1b750bd7-dd59-4da0-bf09-93c00ea59c57\",\"type\":\"Grid\"},{\"attributes\":{\"children\":[{\"id\":\"8ad48c9a-a1ec-4c45-9630-ac3c913880f1\",\"type\":\"Row\"}]},\"id\":\"dc3a5b91-267a-482a-80e6-d8aeddcd6f31\",\"type\":\"Column\"},{\"attributes\":{\"axis_label\":\"cooling rate [K/day]\",\"formatter\":{\"id\":\"73e2010c-2999-4b89-9913-d9ee0553af97\",\"type\":\"BasicTickFormatter\"},\"plot\":{\"id\":\"d2d0245b-9351-4ebc-b1ff-67f9e3552804\",\"subtype\":\"Figure\",\"type\":\"Plot\"},\"ticker\":{\"id\":\"2523f358-dae7-417c-97a3-91bdaad7d8a4\",\"type\":\"BasicTicker\"}},\"id\":\"cadd2306-6cb0-4411-80c0-b9f938191bde\",\"type\":\"LinearAxis\"},{\"attributes\":{\"data_source\":{\"id\":\"309bd747-d2ef-40c0-9217-7e5d828735b3\",\"type\":\"ColumnDataSource\"},\"glyph\":{\"id\":\"05b0f75c-c309-4a1f-b573-bc022d44aaf6\",\"type\":\"Circle\"},\"hover_glyph\":null,\"muted_glyph\":null,\"nonselection_glyph\":{\"id\":\"d565e84d-cd4d-40f1-858f-0d4061546e39\",\"type\":\"Circle\"},\"selection_glyph\":null,\"view\":{\"id\":\"df9e2b2a-da29-4258-b616-28644588ff95\",\"type\":\"CDSView\"}},\"id\":\"3be46f28-48fc-417c-abbe-711cc01b51a7\",\"type\":\"GlyphRenderer\"},{\"attributes\":{},\"id\":\"87a529d6-26ad-47d3-9b4f-5ca91017db3b\",\"type\":\"HelpTool\"},{\"attributes\":{},\"id\":\"6eefde71-de45-4d84-885b-ddcfc9771eb0\",\"type\":\"LinearScale\"},{\"attributes\":{},\"id\":\"4f2e5cd2-8cfc-475e-928d-0066ed571fc5\",\"type\":\"SaveTool\"},{\"attributes\":{\"active_drag\":\"auto\",\"active_inspect\":\"auto\",\"active_scroll\":\"auto\",\"active_tap\":\"auto\",\"tools\":[{\"id\":\"65f681ce-9773-4980-8a44-21548f460806\",\"type\":\"PanTool\"},{\"id\":\"1784a528-fc0c-48c3-adc9-178717ddaf68\",\"type\":\"WheelZoomTool\"},{\"id\":\"7bccfe1c-8ade-495c-a335-7013c814fe4a\",\"type\":\"BoxZoomTool\"},{\"id\":\"805044a2-9614-42cc-9864-0864fe0cf722\",\"type\":\"SaveTool\"},{\"id\":\"b72d00de-487c-49c0-acc1-b04765520005\",\"type\":\"ResetTool\"},{\"id\":\"87a529d6-26ad-47d3-9b4f-5ca91017db3b\",\"type\":\"HelpTool\"}]},\"id\":\"90535884-96af-4235-b58e-e0551de1952b\",\"type\":\"Toolbar\"},{\"attributes\":{\"data_source\":{\"id\":\"e499e6d5-7659-4d61-89e2-47068521a8b2\",\"type\":\"ColumnDataSource\"},\"glyph\":{\"id\":\"930d53bb-3ecb-4b96-ab2d-555e70d5f201\",\"type\":\"Square\"},\"hover_glyph\":null,\"muted_glyph\":null,\"nonselection_glyph\":{\"id\":\"37135737-f293-426e-87e2-9a25534f049f\",\"type\":\"Square\"},\"selection_glyph\":null,\"view\":{\"id\":\"cd4163b2-ff22-42a4-8450-183c759024c0\",\"type\":\"CDSView\"}},\"id\":\"b65e25bf-021d-47ac-ade5-2ddf5ba32669\",\"type\":\"GlyphRenderer\"},{\"attributes\":{},\"id\":\"209b8c04-b7df-42ff-9471-4c42ddf7affd\",\"type\":\"PanTool\"},{\"attributes\":{},\"id\":\"65f681ce-9773-4980-8a44-21548f460806\",\"type\":\"PanTool\"},{\"attributes\":{\"label\":{\"value\":\"WGT igg=10 wgt_flux=2\"},\"renderers\":[{\"id\":\"a43d2666-4aab-4405-bc9b-3d5fe2bb66f1\",\"type\":\"GlyphRenderer\"},{\"id\":\"39730740-2bfa-449b-b33c-3a0cdda3bd22\",\"type\":\"GlyphRenderer\"}]},\"id\":\"66eba903-6ca0-462b-9890-6aba33c1dcdd\",\"type\":\"LegendItem\"},{\"attributes\":{},\"id\":\"07ddd615-d6da-4edf-a4eb-d6a36d2d28b5\",\"type\":\"BasicTickFormatter\"},{\"attributes\":{\"line_alpha\":0.1,\"line_color\":\"#1f77b4\",\"line_width\":1.5,\"x\":{\"field\":\"x\"},\"y\":{\"field\":\"y\"}},\"id\":\"a8487208-7e33-44b6-a5f9-6b12794d65df\",\"type\":\"Line\"},{\"attributes\":{\"active_drag\":\"auto\",\"active_inspect\":\"auto\",\"active_scroll\":\"auto\",\"active_tap\":\"auto\",\"tools\":[{\"id\":\"209b8c04-b7df-42ff-9471-4c42ddf7affd\",\"type\":\"PanTool\"},{\"id\":\"5b6cf8bd-0cba-4e4c-ad9c-1c000b3cc3c4\",\"type\":\"WheelZoomTool\"},{\"id\":\"6e3f6756-c872-4e09-b5d4-d4761b1aa910\",\"type\":\"BoxZoomTool\"},{\"id\":\"4f2e5cd2-8cfc-475e-928d-0066ed571fc5\",\"type\":\"SaveTool\"},{\"id\":\"5513f58c-3bdd-421d-beb1-3831d6aae186\",\"type\":\"ResetTool\"},{\"id\":\"d45be259-af45-4204-ad94-c02fa12d7d98\",\"type\":\"HelpTool\"}]},\"id\":\"6565c7d9-95f3-424b-85dc-8f52a426a5e3\",\"type\":\"Toolbar\"},{\"attributes\":{\"source\":{\"id\":\"309bd747-d2ef-40c0-9217-7e5d828735b3\",\"type\":\"ColumnDataSource\"}},\"id\":\"df9e2b2a-da29-4258-b616-28644588ff95\",\"type\":\"CDSView\"},{\"attributes\":{\"callback\":null,\"column_names\":[\"x\",\"y\"],\"data\":{\"x\":{\"__ndarray__\":\"TCk7HAF3Uj94nccPdCdTP8uvv82ylFQ/YiCOo0b7VT/8IuS49YFXP8zHd1/BE1k/hBj9LtWwWj/3XCtIq1lcPzd5nFlVDl4/SLMcemrNXz8BeOLcMstgP5R7ce6PuGE/vHQGcfmtYj8/ERxZq+pjP05aME+MfGg/6apV+CzIcT8HjINzObl5P/Ycg7Li84E/X9Tdn75DiD/3Ni3XUv+PP5KNl4/krZQ/L9E3NtSrmT+23bWYYDebP7yNABpE1pg/Hwjm74w+lT8lh6LOaA2RPwEdDQeVk4o/QSKsclxVhD8w/wSXE29+P8kRBj20JnY/NVOJAIUtbz+15uSNvhNlP7q7N0vIX1s/881i2mSoUD9bF5pEjFE4P++fsHmPBCm/VNcuM0GyO7/4A4gWV3Ivv4J2OuLSSDM/sKqR4hBeUT/tTv/q0tpmP9DGPmgqJ4I/n2fK4E8FlT8DVS+NuRujP7SwptUxPq0/8SX5kI1OtD8HlcpLtay6P2md1WrpZ8A/xKpKZ31vwj8BiJBmwv/EP6oyIuqgQcg/YQLQYj4HzD/95AwD5/vPP1kji7AF79E/jmGhYXDl0z+sZG6OleLVPx/TsSvX5Nc/pcXd6Jva2T8QnP4JjqDbP/uQRlf4Kt0/uHhL32Jn3j9oTT4u10DfP3KuxAXlmd8/rb6FsIqT4D8rswaWnHHgP4wzfdk2Wd8/EZ1KfncI3T/LeTMXd27ZPzL4LGtSMtY/3+r950Sa0z92S8Gz13vRP3gSpzdKmM8/Zk/iczUqzT+oqlqzzR7MP2fQ1fWpmdA/\",\"dtype\":\"float64\",\"shape\":[75]},\"y\":{\"__ndarray__\":\"GhExyth1ND/Sv8nbtpRIP2vylNV0PVE/aTum7souWD/At0SJ8fVgPw3Iuahxymc/MSNhhJWvcD/bTfBN02d3P2zb5nxnaoA/CD5h5MAGhz8NmeH1TyaQP+zrCsc9p5Y/LbKd76fGnz/bLW5ISEmmPww9YvTcQq8/JV2OstnstT8Er5Y7M8G+P0c+r3jqkcU/5h99k6ZBzj88bCIzFzjVP4enV8oyxN0//yH99nXg5D8qOpLLf0jtP5kqGJXUifQ/c9cS8kHP/D+/DpwzojQEQIEmwoanVwxA4lgXt9HgE0BSSZ2AJuIbQAMJih9jjiNA5q4l5INuK0AwTKYKRj0zQNv5fmq8/DpAaCJseHrtQkB/+zpwzoxKQM3MzMzMeFJAZmZmZmZqWEAAAAAAAFxeQM3MzMzMJmJAmpmZmZkfZUBmZmZmZhhoQDMzMzMzEWtAAAAAAAAKbkBmZmZmZoFwQM3MzMzM/XFAMzMzMzN6c0CamZmZmfZ0QAAAAAAAc3ZAZmZmZmbvd0DNzMzMzGt5QDMzMzMz6HpAmpmZmZlkfEAAAAAAAOF9QGZmZmZmXX9AZmZmZuZsgECamZmZGSuBQM3MzMxM6YFAAAAAAICngkAzMzMzs2WDQGZmZmbmI4RAmpmZmRnihEDNzMzMTKCFQAAAAACAXoZAMzMzM7Mch0BmZmZm5tqHQJqZmZkZmYhAzczMzExXiUAAAAAAgBWKQDMzMzOz04pAZmZmZuaRi0CamZmZGVCMQM3MzMxMDo1AAAAAAIDMjUAzMzMzs4qOQGZmZmbmSI9A\",\"dtype\":\"float64\",\"shape\":[75]}}},\"id\":\"e499e6d5-7659-4d61-89e2-47068521a8b2\",\"type\":\"ColumnDataSource\"},{\"attributes\":{},\"id\":\"d45be259-af45-4204-ad94-c02fa12d7d98\",\"type\":\"HelpTool\"},{\"attributes\":{\"data_source\":{\"id\":\"bb8ebaa0-10e0-403f-ae0e-9bb50f052f89\",\"type\":\"ColumnDataSource\"},\"glyph\":{\"id\":\"0f248c69-5b99-4abe-af1a-e05258bf21ca\",\"type\":\"Line\"},\"hover_glyph\":null,\"muted_glyph\":null,\"nonselection_glyph\":{\"id\":\"3bb0ba41-48e5-4459-88b0-e4cc4c2045e4\",\"type\":\"Line\"},\"selection_glyph\":null,\"view\":{\"id\":\"ac787687-b30c-417e-8ddc-ba1f3062575a\",\"type\":\"CDSView\"}},\"id\":\"ea3aa85d-cf13-45f9-bfce-508082b3a5f2\",\"type\":\"GlyphRenderer\"}],\"root_ids\":[\"e910fbc5-ea5d-4eb6-8154-e9c6cae29f8e\"]},\"title\":\"Bokeh Application\",\"version\":\"0.12.14\"}};\n",
       "  var render_items = [{\"docid\":\"4783b13c-ffb7-4598-b776-327061fe77bb\",\"elementid\":\"56dff05c-40d0-4303-9517-a380684b29a5\",\"modelid\":\"e910fbc5-ea5d-4eb6-8154-e9c6cae29f8e\"}];\n",
       "  root.Bokeh.embed.embed_items_notebook(docs_json, render_items);\n",
       "\n",
       "  }\n",
       "  if (root.Bokeh !== undefined) {\n",
       "    embed_document(root);\n",
       "  } else {\n",
       "    var attempts = 0;\n",
       "    var timer = setInterval(function(root) {\n",
       "      if (root.Bokeh !== undefined) {\n",
       "        embed_document(root);\n",
       "        clearInterval(timer);\n",
       "      }\n",
       "      attempts++;\n",
       "      if (attempts > 100) {\n",
       "        console.log(\"Bokeh: ERROR: Unable to run BokehJS code because BokehJS library is missing\")\n",
       "        clearInterval(timer);\n",
       "      }\n",
       "    }, 10, root)\n",
       "  }\n",
       "})(window);"
      ],
      "application/vnd.bokehjs_exec.v0+json": ""
     },
     "metadata": {
      "application/vnd.bokehjs_exec.v0+json": {
       "id": "e910fbc5-ea5d-4eb6-8154-e9c6cae29f8e"
      }
     },
     "output_type": "display_data"
    },
    {
     "name": "stdout",
     "output_type": "stream",
     "text": [
      "FIGURE. Cooling rate profiles.\n"
     ]
    },
    {
     "data": {
      "text/html": [
       "<a id=\"Flux_Comparison\"></a>"
      ],
      "text/plain": [
       "<IPython.core.display.HTML object>"
      ]
     },
     "metadata": {},
     "output_type": "display_data"
    },
    {
     "data": {
      "text/markdown": [
       "# Flux Comparison"
      ],
      "text/plain": [
       "<IPython.core.display.Markdown object>"
      ]
     },
     "metadata": {},
     "output_type": "display_data"
    },
    {
     "data": {
      "text/html": [
       "<div>\n",
       "<style>\n",
       "    .dataframe thead tr:only-child th {\n",
       "        text-align: right;\n",
       "    }\n",
       "\n",
       "    .dataframe thead th {\n",
       "        text-align: left;\n",
       "    }\n",
       "\n",
       "    .dataframe tbody tr th {\n",
       "        vertical-align: top;\n",
       "    }\n",
       "</style>\n",
       "<table border=\"1\" class=\"dataframe\">\n",
       "  <thead>\n",
       "    <tr style=\"text-align: right;\">\n",
       "      <th></th>\n",
       "      <th></th>\n",
       "      <th>flug</th>\n",
       "      <th>fldg</th>\n",
       "      <th>fnetg</th>\n",
       "    </tr>\n",
       "    <tr>\n",
       "      <th>pressure</th>\n",
       "      <th>level</th>\n",
       "      <th></th>\n",
       "      <th></th>\n",
       "      <th></th>\n",
       "    </tr>\n",
       "  </thead>\n",
       "  <tbody>\n",
       "    <tr>\n",
       "      <th>0.0000</th>\n",
       "      <th>1</th>\n",
       "      <td>-29.999447</td>\n",
       "      <td>0.000000</td>\n",
       "      <td>-29.999447</td>\n",
       "    </tr>\n",
       "    <tr>\n",
       "      <th>1.0685</th>\n",
       "      <th>24</th>\n",
       "      <td>-29.998932</td>\n",
       "      <td>0.001912</td>\n",
       "      <td>-29.997019</td>\n",
       "    </tr>\n",
       "    <tr>\n",
       "      <th>1013.0000</th>\n",
       "      <th>76</th>\n",
       "      <td>-38.491735</td>\n",
       "      <td>35.869918</td>\n",
       "      <td>-2.621816</td>\n",
       "    </tr>\n",
       "  </tbody>\n",
       "</table>\n",
       "</div>"
      ],
      "text/plain": [
       "                      flug       fldg      fnetg\n",
       "pressure  level                                 \n",
       "0.0000    1     -29.999447   0.000000 -29.999447\n",
       "1.0685    24    -29.998932   0.001912 -29.997019\n",
       "1013.0000 76    -38.491735  35.869918  -2.621816"
      ]
     },
     "metadata": {},
     "output_type": "display_data"
    },
    {
     "name": "stdout",
     "output_type": "stream",
     "text": [
      "Table. Fluxes. WGT igg=10 wgt_flux=1\n"
     ]
    },
    {
     "data": {
      "text/html": [
       "<div>\n",
       "<style>\n",
       "    .dataframe thead tr:only-child th {\n",
       "        text-align: right;\n",
       "    }\n",
       "\n",
       "    .dataframe thead th {\n",
       "        text-align: left;\n",
       "    }\n",
       "\n",
       "    .dataframe tbody tr th {\n",
       "        vertical-align: top;\n",
       "    }\n",
       "</style>\n",
       "<table border=\"1\" class=\"dataframe\">\n",
       "  <thead>\n",
       "    <tr style=\"text-align: right;\">\n",
       "      <th></th>\n",
       "      <th></th>\n",
       "      <th>flug</th>\n",
       "      <th>fldg</th>\n",
       "      <th>fnetg</th>\n",
       "    </tr>\n",
       "    <tr>\n",
       "      <th>pressure</th>\n",
       "      <th>level</th>\n",
       "      <th></th>\n",
       "      <th></th>\n",
       "      <th></th>\n",
       "    </tr>\n",
       "  </thead>\n",
       "  <tbody>\n",
       "    <tr>\n",
       "      <th>0.0000</th>\n",
       "      <th>1</th>\n",
       "      <td>-30.009778</td>\n",
       "      <td>0.000000</td>\n",
       "      <td>-30.009778</td>\n",
       "    </tr>\n",
       "    <tr>\n",
       "      <th>1.0685</th>\n",
       "      <th>24</th>\n",
       "      <td>-30.009411</td>\n",
       "      <td>0.002207</td>\n",
       "      <td>-30.007204</td>\n",
       "    </tr>\n",
       "    <tr>\n",
       "      <th>1013.0000</th>\n",
       "      <th>76</th>\n",
       "      <td>-38.491734</td>\n",
       "      <td>35.831584</td>\n",
       "      <td>-2.660150</td>\n",
       "    </tr>\n",
       "  </tbody>\n",
       "</table>\n",
       "</div>"
      ],
      "text/plain": [
       "                      flug       fldg      fnetg\n",
       "pressure  level                                 \n",
       "0.0000    1     -30.009778   0.000000 -30.009778\n",
       "1.0685    24    -30.009411   0.002207 -30.007204\n",
       "1013.0000 76    -38.491734  35.831584  -2.660150"
      ]
     },
     "metadata": {},
     "output_type": "display_data"
    },
    {
     "name": "stdout",
     "output_type": "stream",
     "text": [
      "Table. Fluxes. CRD\n"
     ]
    },
    {
     "data": {
      "text/html": [
       "<div>\n",
       "<style>\n",
       "    .dataframe thead tr:only-child th {\n",
       "        text-align: right;\n",
       "    }\n",
       "\n",
       "    .dataframe thead th {\n",
       "        text-align: left;\n",
       "    }\n",
       "\n",
       "    .dataframe tbody tr th {\n",
       "        vertical-align: top;\n",
       "    }\n",
       "</style>\n",
       "<table border=\"1\" class=\"dataframe\">\n",
       "  <thead>\n",
       "    <tr style=\"text-align: right;\">\n",
       "      <th></th>\n",
       "      <th></th>\n",
       "      <th>flug</th>\n",
       "      <th>fldg</th>\n",
       "      <th>fnetg</th>\n",
       "    </tr>\n",
       "    <tr>\n",
       "      <th>pressure</th>\n",
       "      <th>level</th>\n",
       "      <th></th>\n",
       "      <th></th>\n",
       "      <th></th>\n",
       "    </tr>\n",
       "  </thead>\n",
       "  <tbody>\n",
       "    <tr>\n",
       "      <th>1.000000e-08</th>\n",
       "      <th>1</th>\n",
       "      <td>-29.171646</td>\n",
       "      <td>9.536743e-07</td>\n",
       "      <td>-29.171646</td>\n",
       "    </tr>\n",
       "    <tr>\n",
       "      <th>1.068500e+00</th>\n",
       "      <th>24</th>\n",
       "      <td>-29.170839</td>\n",
       "      <td>2.793729e-03</td>\n",
       "      <td>-29.168045</td>\n",
       "    </tr>\n",
       "    <tr>\n",
       "      <th>1.013000e+03</th>\n",
       "      <th>76</th>\n",
       "      <td>-38.491730</td>\n",
       "      <td>3.760638e+01</td>\n",
       "      <td>-0.885353</td>\n",
       "    </tr>\n",
       "  </tbody>\n",
       "</table>\n",
       "</div>"
      ],
      "text/plain": [
       "                         flug          fldg      fnetg\n",
       "pressure     level                                    \n",
       "1.000000e-08 1     -29.171646  9.536743e-07 -29.171646\n",
       "1.068500e+00 24    -29.170839  2.793729e-03 -29.168045\n",
       "1.013000e+03 76    -38.491730  3.760638e+01  -0.885353"
      ]
     },
     "metadata": {},
     "output_type": "display_data"
    },
    {
     "name": "stdout",
     "output_type": "stream",
     "text": [
      "Table. Fluxes. CLIRAD\n"
     ]
    },
    {
     "data": {
      "text/html": [
       "<div>\n",
       "<style>\n",
       "    .dataframe thead tr:only-child th {\n",
       "        text-align: right;\n",
       "    }\n",
       "\n",
       "    .dataframe thead th {\n",
       "        text-align: left;\n",
       "    }\n",
       "\n",
       "    .dataframe tbody tr th {\n",
       "        vertical-align: top;\n",
       "    }\n",
       "</style>\n",
       "<table border=\"1\" class=\"dataframe\">\n",
       "  <thead>\n",
       "    <tr style=\"text-align: right;\">\n",
       "      <th></th>\n",
       "      <th></th>\n",
       "      <th>flug</th>\n",
       "      <th>fldg</th>\n",
       "      <th>fnetg</th>\n",
       "    </tr>\n",
       "    <tr>\n",
       "      <th>pressure</th>\n",
       "      <th>level</th>\n",
       "      <th></th>\n",
       "      <th></th>\n",
       "      <th></th>\n",
       "    </tr>\n",
       "  </thead>\n",
       "  <tbody>\n",
       "    <tr>\n",
       "      <th>0.0000</th>\n",
       "      <th>1</th>\n",
       "      <td>-1.033057e-02</td>\n",
       "      <td>0.000000</td>\n",
       "      <td>-0.010331</td>\n",
       "    </tr>\n",
       "    <tr>\n",
       "      <th>1.0685</th>\n",
       "      <th>24</th>\n",
       "      <td>-1.047910e-02</td>\n",
       "      <td>0.000295</td>\n",
       "      <td>-0.010185</td>\n",
       "    </tr>\n",
       "    <tr>\n",
       "      <th>1013.0000</th>\n",
       "      <th>76</th>\n",
       "      <td>5.600000e-07</td>\n",
       "      <td>-0.038334</td>\n",
       "      <td>-0.038334</td>\n",
       "    </tr>\n",
       "  </tbody>\n",
       "</table>\n",
       "</div>"
      ],
      "text/plain": [
       "                         flug      fldg     fnetg\n",
       "pressure  level                                  \n",
       "0.0000    1     -1.033057e-02  0.000000 -0.010331\n",
       "1.0685    24    -1.047910e-02  0.000295 -0.010185\n",
       "1013.0000 76     5.600000e-07 -0.038334 -0.038334"
      ]
     },
     "metadata": {},
     "output_type": "display_data"
    },
    {
     "name": "stdout",
     "output_type": "stream",
     "text": [
      "Table. Fluxes. (CRD) - (WGT igg=10 wgt_flux=1)\n"
     ]
    },
    {
     "data": {
      "text/html": [
       "<div>\n",
       "<style>\n",
       "    .dataframe thead tr:only-child th {\n",
       "        text-align: right;\n",
       "    }\n",
       "\n",
       "    .dataframe thead th {\n",
       "        text-align: left;\n",
       "    }\n",
       "\n",
       "    .dataframe tbody tr th {\n",
       "        vertical-align: top;\n",
       "    }\n",
       "</style>\n",
       "<table border=\"1\" class=\"dataframe\">\n",
       "  <thead>\n",
       "    <tr style=\"text-align: right;\">\n",
       "      <th></th>\n",
       "      <th></th>\n",
       "      <th>flug</th>\n",
       "      <th>fldg</th>\n",
       "      <th>fnetg</th>\n",
       "    </tr>\n",
       "    <tr>\n",
       "      <th>pressure</th>\n",
       "      <th>level</th>\n",
       "      <th></th>\n",
       "      <th></th>\n",
       "      <th></th>\n",
       "    </tr>\n",
       "  </thead>\n",
       "  <tbody>\n",
       "    <tr>\n",
       "      <th>0.0000</th>\n",
       "      <th>1</th>\n",
       "      <td>0.827801</td>\n",
       "      <td>9.536743e-07</td>\n",
       "      <td>0.827801</td>\n",
       "    </tr>\n",
       "    <tr>\n",
       "      <th>1.0685</th>\n",
       "      <th>24</th>\n",
       "      <td>0.828093</td>\n",
       "      <td>8.812455e-04</td>\n",
       "      <td>0.828974</td>\n",
       "    </tr>\n",
       "    <tr>\n",
       "      <th>1013.0000</th>\n",
       "      <th>76</th>\n",
       "      <td>0.000005</td>\n",
       "      <td>1.736459e+00</td>\n",
       "      <td>1.736463</td>\n",
       "    </tr>\n",
       "  </tbody>\n",
       "</table>\n",
       "</div>"
      ],
      "text/plain": [
       "                     flug          fldg     fnetg\n",
       "pressure  level                                  \n",
       "0.0000    1      0.827801  9.536743e-07  0.827801\n",
       "1.0685    24     0.828093  8.812455e-04  0.828974\n",
       "1013.0000 76     0.000005  1.736459e+00  1.736463"
      ]
     },
     "metadata": {},
     "output_type": "display_data"
    },
    {
     "name": "stdout",
     "output_type": "stream",
     "text": [
      "Table. Fluxes. (CLIRAD) - (WGT igg=10 wgt_flux=1)\n"
     ]
    },
    {
     "data": {
      "text/html": [
       "<a id=\"Best-fit_Parameters\"></a>"
      ],
      "text/plain": [
       "<IPython.core.display.HTML object>"
      ]
     },
     "metadata": {},
     "output_type": "display_data"
    },
    {
     "data": {
      "text/markdown": [
       "# Best-fit Parameters"
      ],
      "text/plain": [
       "<IPython.core.display.Markdown object>"
      ]
     },
     "metadata": {},
     "output_type": "display_data"
    },
    {
     "name": "stdout",
     "output_type": "stream",
     "text": [
      "Best-fit values for each (gas, band)\n",
      "------------------------------------\n",
      "o h2o band3a\n",
      "  atmpro = mls\n",
      "  band = 3a\n",
      "  commitnumber = 2bd1f75\n",
      "  conc = None\n",
      "  dv = 0.01\n",
      "  klin = 0\n",
      "  molecule = h2o\n",
      "  ng_adju = [0, 0]\n",
      "  ng_refs = [2, 6]\n",
      "  nv = 100\n",
      "  option_compute_btable = 0\n",
      "  option_compute_ktable = 1\n",
      "  option_wgt_flux = 1\n",
      "  option_wgt_k = 1\n",
      "  ref_pts = [(10, 250), (600, 250)]\n",
      "  tsfc = 294\n",
      "  vmax = 620\n",
      "  vmin = 540\n",
      "  w_diffuse = [(1.9, 1.7), (1.4, 1.4, 1.4, 1.55, 1.6, 1.66)]\n",
      "  wgt = [(0.7, 0.7), (0.7, 0.5, 0.5, 0.5, 0.5, 0.5)]\n"
     ]
    }
   ],
   "source": [
    "script()"
   ]
  },
  {
   "cell_type": "code",
   "execution_count": 13,
   "metadata": {
    "collapsed": true
   },
   "outputs": [
    {
     "data": {
      "text/html": [
       "<script>\n",
       "code_show=true; \n",
       "function code_toggle() {\n",
       " if (code_show){\n",
       " $('div.input').hide();\n",
       " } else {\n",
       " $('div.input').show();\n",
       " }\n",
       " code_show = !code_show\n",
       "} \n",
       "$( document ).ready(code_toggle);\n",
       "</script>\n",
       "<form action=\"javascript:code_toggle()\"><input type=\"submit\" value=\"Click here to toggle on/off the raw code.\"></form>"
      ],
      "text/plain": [
       "<IPython.core.display.HTML object>"
      ]
     },
     "execution_count": 13,
     "metadata": {},
     "output_type": "execute_result"
    }
   ],
   "source": [
    "display.HTML('''<script>\n",
    "code_show=true; \n",
    "function code_toggle() {\n",
    " if (code_show){\n",
    " $('div.input').hide();\n",
    " } else {\n",
    " $('div.input').show();\n",
    " }\n",
    " code_show = !code_show\n",
    "} \n",
    "$( document ).ready(code_toggle);\n",
    "</script>\n",
    "<form action=\"javascript:code_toggle()\"><input type=\"submit\" value=\"Click here to toggle on/off the raw code.\"></form>''')"
   ]
  }
 ],
 "metadata": {
  "kernelspec": {
   "display_name": "Python 3",
   "language": "python",
   "name": "python3"
  },
  "language_info": {
   "codemirror_mode": {
    "name": "ipython",
    "version": 3
   },
   "file_extension": ".py",
   "mimetype": "text/x-python",
   "name": "python",
   "nbconvert_exporter": "python",
   "pygments_lexer": "ipython3",
   "version": "3.6.1"
  }
 },
 "nbformat": 4,
 "nbformat_minor": 2
}
