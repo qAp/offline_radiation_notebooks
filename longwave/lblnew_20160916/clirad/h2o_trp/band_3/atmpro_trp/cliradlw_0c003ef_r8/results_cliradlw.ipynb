{
 "cells": [
  {
   "cell_type": "code",
   "execution_count": 1,
   "metadata": {
    "collapsed": true
   },
   "outputs": [],
   "source": [
    "%matplotlib inline\n",
    "import os\n",
    "import re\n",
    "import io\n",
    "import itertools\n",
    "import pprint\n",
    "\n",
    "from bokeh.io import output_notebook, show\n",
    "from bokeh.layouts import gridplot\n",
    "from bokeh.plotting import figure\n",
    "from bokeh.models import Range1d, Legend\n",
    "from bokeh.palettes import all_palettes\n",
    "\n",
    "import matplotlib\n",
    "import matplotlib.pyplot as plt\n",
    "import numpy as np\n",
    "import pandas as pd\n",
    "import xarray as xr\n",
    "\n",
    "import climatools.lblnew.bestfit_params as bestfits\n",
    "from climatools.lblnew import setup_bestfit, setup_overlap\n",
    "import climatools.lblnew.pipeline as pipe_lblnew\n",
    "import climatools.cliradlw.setup as setup_cliradlw\n",
    "import climatools.cliradlw.pipeline as pipe_cliradlw\n",
    "\n",
    "import climatools.html.html as climahtml\n",
    "from climatools.lblnew.dataio import *\n",
    "from climatools.plot.plot import *\n",
    "\n",
    "\n",
    "import IPython.display as display"
   ]
  },
  {
   "cell_type": "code",
   "execution_count": 2,
   "metadata": {
    "collapsed": true
   },
   "outputs": [],
   "source": [
    "%run param.py"
   ]
  },
  {
   "cell_type": "code",
   "execution_count": 3,
   "metadata": {
    "collapsed": true
   },
   "outputs": [
    {
     "name": "stdout",
     "output_type": "stream",
     "text": [
      "The history saving thread hit an unexpected error (OperationalError('database is locked',)).History will not be written to the database.\n"
     ]
    }
   ],
   "source": [
    "def load_output_file(path_csv):\n",
    "    '''\n",
    "    Load lblnew output .csv file to xarray.Dataset\n",
    "    \n",
    "    Parameters\n",
    "    ----------\n",
    "    path_csv: str\n",
    "              Path to the .csv file to be loaded.\n",
    "    ds: xarray.Dataset\n",
    "        Data in the input file in the form of an xarray.Dataset.\n",
    "    '''\n",
    "    toindex = ['band', 'pressure', 'igg', 'g']    \n",
    "    df = pd.read_csv(path_csv, sep=r'\\s+')\n",
    "    df = df.set_index([i for i in toindex if i in df.columns])\n",
    "    df = df.rename(columns={'sfu': 'flug',\n",
    "                            'sfd': 'fldg',\n",
    "                            'fnet': 'fnetg',\n",
    "                            'coolr': 'coolrg'})\n",
    "    ds = xr.Dataset.from_dataframe(df)\n",
    "\n",
    "    for l in ('level', 'layer'):\n",
    "        if l in ds.data_vars:\n",
    "            if len(ds[l].dims) > 1:\n",
    "                surface = {d: 0 for d in ds.dims if d != 'pressure'}\n",
    "                coord_level = ds[l][surface]\n",
    "                ds.coords[l] = ('pressure', coord_level)\n",
    "            else:\n",
    "                ds.coords[l] = ('pressure', ds[l])\n",
    "    \n",
    "    return ds"
   ]
  },
  {
   "cell_type": "code",
   "execution_count": 4,
   "metadata": {
    "collapsed": true
   },
   "outputs": [],
   "source": [
    "def lblnew_setup(param=None):\n",
    "    if 'ng_refs' in param:\n",
    "        return {'setup': setup_bestfit,\n",
    "                'fname_flux_crd': 'output_flux.dat',\n",
    "                'fname_cool_crd': 'output_coolr.dat',\n",
    "                'fname_flux_wgt': 'output_wfluxg.dat',\n",
    "                'fname_cool_wgt': 'output_wcoolrg.dat'}\n",
    "    else:\n",
    "        return {'setup': setup_overlap,\n",
    "                'fname_flux_crd': 'output_flux.dat',\n",
    "                'fname_cool_crd': 'output_coolr.dat',\n",
    "                'fname_flux_wgt': 'output_wflux.dat',\n",
    "                'fname_cool_wgt': 'output_wcoolr.dat'}\n",
    "\n",
    "    \n",
    "def load_lblnew_data(param):\n",
    "    \n",
    "    fname_dsname = [('fname_flux_crd', 'ds_flux_crd'),\n",
    "                    ('fname_cool_crd', 'ds_cool_crd'),\n",
    "                    ('fname_flux_wgt', 'ds_flux_wgt'),\n",
    "                    ('fname_cool_wgt', 'ds_cool_wgt')]\n",
    "    \n",
    "    d = lblnew_setup(param)\n",
    "    dir_fortran = pipe_lblnew.get_dir_case(param, setup=d['setup'])\n",
    "    \n",
    "    data_dict = {}\n",
    "    for fname, dsname in fname_dsname:\n",
    "        fpath = os.path.join(dir_fortran, d[fname])\n",
    "        data_dict[dsname] = load_output_file(fpath)\n",
    "    return data_dict\n",
    "    \n",
    "\n",
    "    \n",
    "    "
   ]
  },
  {
   "cell_type": "code",
   "execution_count": 5,
   "metadata": {
    "collapsed": true
   },
   "outputs": [],
   "source": [
    "d = load_lblnew_data(PARAM_LBLNEW)\n",
    "\n",
    "DS_FLUX_CRD = d['ds_flux_crd']\n",
    "DS_COOL_CRD = d['ds_cool_crd']\n",
    "DS_FLUX_WGT = d['ds_flux_wgt']\n",
    "DS_COOL_WGT = d['ds_cool_wgt']"
   ]
  },
  {
   "cell_type": "code",
   "execution_count": 6,
   "metadata": {
    "collapsed": true
   },
   "outputs": [],
   "source": [
    "DIR_FORTRAN = pipe_cliradlw.get_fortran_dir(PARAM, \n",
    "                                            setup=setup_cliradlw)\n",
    "\n",
    "PATH_FLUX = os.path.join(DIR_FORTRAN, 'output_flux.dat')\n",
    "PATH_COOL = os.path.join(DIR_FORTRAN, 'output_coolr.dat')\n",
    "\n",
    "DS_FLUX = load_output_file(PATH_FLUX)\n",
    "DS_COOL = load_output_file(PATH_COOL)"
   ]
  },
  {
   "cell_type": "code",
   "execution_count": 7,
   "metadata": {
    "collapsed": true
   },
   "outputs": [
    {
     "data": {
      "text/html": [
       "\n",
       "    <div class=\"bk-root\">\n",
       "        <a href=\"https://bokeh.pydata.org\" target=\"_blank\" class=\"bk-logo bk-logo-small bk-logo-notebook\"></a>\n",
       "        <span id=\"290252a1-e485-449b-9bda-eaee91cbb776\">Loading BokehJS ...</span>\n",
       "    </div>"
      ]
     },
     "metadata": {},
     "output_type": "display_data"
    },
    {
     "data": {
      "application/javascript": [
       "\n",
       "(function(root) {\n",
       "  function now() {\n",
       "    return new Date();\n",
       "  }\n",
       "\n",
       "  var force = true;\n",
       "\n",
       "  if (typeof (root._bokeh_onload_callbacks) === \"undefined\" || force === true) {\n",
       "    root._bokeh_onload_callbacks = [];\n",
       "    root._bokeh_is_loading = undefined;\n",
       "  }\n",
       "\n",
       "  var JS_MIME_TYPE = 'application/javascript';\n",
       "  var HTML_MIME_TYPE = 'text/html';\n",
       "  var EXEC_MIME_TYPE = 'application/vnd.bokehjs_exec.v0+json';\n",
       "  var CLASS_NAME = 'output_bokeh rendered_html';\n",
       "\n",
       "  /**\n",
       "   * Render data to the DOM node\n",
       "   */\n",
       "  function render(props, node) {\n",
       "    var script = document.createElement(\"script\");\n",
       "    node.appendChild(script);\n",
       "  }\n",
       "\n",
       "  /**\n",
       "   * Handle when an output is cleared or removed\n",
       "   */\n",
       "  function handleClearOutput(event, handle) {\n",
       "    var cell = handle.cell;\n",
       "\n",
       "    var id = cell.output_area._bokeh_element_id;\n",
       "    var server_id = cell.output_area._bokeh_server_id;\n",
       "    // Clean up Bokeh references\n",
       "    if (id !== undefined) {\n",
       "      Bokeh.index[id].model.document.clear();\n",
       "      delete Bokeh.index[id];\n",
       "    }\n",
       "\n",
       "    if (server_id !== undefined) {\n",
       "      // Clean up Bokeh references\n",
       "      var cmd = \"from bokeh.io.state import curstate; print(curstate().uuid_to_server['\" + server_id + \"'].get_sessions()[0].document.roots[0]._id)\";\n",
       "      cell.notebook.kernel.execute(cmd, {\n",
       "        iopub: {\n",
       "          output: function(msg) {\n",
       "            var element_id = msg.content.text.trim();\n",
       "            Bokeh.index[element_id].model.document.clear();\n",
       "            delete Bokeh.index[element_id];\n",
       "          }\n",
       "        }\n",
       "      });\n",
       "      // Destroy server and session\n",
       "      var cmd = \"import bokeh.io.notebook as ion; ion.destroy_server('\" + server_id + \"')\";\n",
       "      cell.notebook.kernel.execute(cmd);\n",
       "    }\n",
       "  }\n",
       "\n",
       "  /**\n",
       "   * Handle when a new output is added\n",
       "   */\n",
       "  function handleAddOutput(event, handle) {\n",
       "    var output_area = handle.output_area;\n",
       "    var output = handle.output;\n",
       "\n",
       "    // limit handleAddOutput to display_data with EXEC_MIME_TYPE content only\n",
       "    if ((output.output_type != \"display_data\") || (!output.data.hasOwnProperty(EXEC_MIME_TYPE))) {\n",
       "      return\n",
       "    }\n",
       "\n",
       "    var toinsert = output_area.element.find(\".\" + CLASS_NAME.split(' ')[0]);\n",
       "\n",
       "    if (output.metadata[EXEC_MIME_TYPE][\"id\"] !== undefined) {\n",
       "      toinsert[0].firstChild.textContent = output.data[JS_MIME_TYPE];\n",
       "      // store reference to embed id on output_area\n",
       "      output_area._bokeh_element_id = output.metadata[EXEC_MIME_TYPE][\"id\"];\n",
       "    }\n",
       "    if (output.metadata[EXEC_MIME_TYPE][\"server_id\"] !== undefined) {\n",
       "      var bk_div = document.createElement(\"div\");\n",
       "      bk_div.innerHTML = output.data[HTML_MIME_TYPE];\n",
       "      var script_attrs = bk_div.children[0].attributes;\n",
       "      for (var i = 0; i < script_attrs.length; i++) {\n",
       "        toinsert[0].firstChild.setAttribute(script_attrs[i].name, script_attrs[i].value);\n",
       "      }\n",
       "      // store reference to server id on output_area\n",
       "      output_area._bokeh_server_id = output.metadata[EXEC_MIME_TYPE][\"server_id\"];\n",
       "    }\n",
       "  }\n",
       "\n",
       "  function register_renderer(events, OutputArea) {\n",
       "\n",
       "    function append_mime(data, metadata, element) {\n",
       "      // create a DOM node to render to\n",
       "      var toinsert = this.create_output_subarea(\n",
       "        metadata,\n",
       "        CLASS_NAME,\n",
       "        EXEC_MIME_TYPE\n",
       "      );\n",
       "      this.keyboard_manager.register_events(toinsert);\n",
       "      // Render to node\n",
       "      var props = {data: data, metadata: metadata[EXEC_MIME_TYPE]};\n",
       "      render(props, toinsert[0]);\n",
       "      element.append(toinsert);\n",
       "      return toinsert\n",
       "    }\n",
       "\n",
       "    /* Handle when an output is cleared or removed */\n",
       "    events.on('clear_output.CodeCell', handleClearOutput);\n",
       "    events.on('delete.Cell', handleClearOutput);\n",
       "\n",
       "    /* Handle when a new output is added */\n",
       "    events.on('output_added.OutputArea', handleAddOutput);\n",
       "\n",
       "    /**\n",
       "     * Register the mime type and append_mime function with output_area\n",
       "     */\n",
       "    OutputArea.prototype.register_mime_type(EXEC_MIME_TYPE, append_mime, {\n",
       "      /* Is output safe? */\n",
       "      safe: true,\n",
       "      /* Index of renderer in `output_area.display_order` */\n",
       "      index: 0\n",
       "    });\n",
       "  }\n",
       "\n",
       "  // register the mime type if in Jupyter Notebook environment and previously unregistered\n",
       "  if (root.Jupyter !== undefined) {\n",
       "    var events = require('base/js/events');\n",
       "    var OutputArea = require('notebook/js/outputarea').OutputArea;\n",
       "\n",
       "    if (OutputArea.prototype.mime_types().indexOf(EXEC_MIME_TYPE) == -1) {\n",
       "      register_renderer(events, OutputArea);\n",
       "    }\n",
       "  }\n",
       "\n",
       "  \n",
       "  if (typeof (root._bokeh_timeout) === \"undefined\" || force === true) {\n",
       "    root._bokeh_timeout = Date.now() + 5000;\n",
       "    root._bokeh_failed_load = false;\n",
       "  }\n",
       "\n",
       "  var NB_LOAD_WARNING = {'data': {'text/html':\n",
       "     \"<div style='background-color: #fdd'>\\n\"+\n",
       "     \"<p>\\n\"+\n",
       "     \"BokehJS does not appear to have successfully loaded. If loading BokehJS from CDN, this \\n\"+\n",
       "     \"may be due to a slow or bad network connection. Possible fixes:\\n\"+\n",
       "     \"</p>\\n\"+\n",
       "     \"<ul>\\n\"+\n",
       "     \"<li>re-rerun `output_notebook()` to attempt to load from CDN again, or</li>\\n\"+\n",
       "     \"<li>use INLINE resources instead, as so:</li>\\n\"+\n",
       "     \"</ul>\\n\"+\n",
       "     \"<code>\\n\"+\n",
       "     \"from bokeh.resources import INLINE\\n\"+\n",
       "     \"output_notebook(resources=INLINE)\\n\"+\n",
       "     \"</code>\\n\"+\n",
       "     \"</div>\"}};\n",
       "\n",
       "  function display_loaded() {\n",
       "    var el = document.getElementById(\"290252a1-e485-449b-9bda-eaee91cbb776\");\n",
       "    if (el != null) {\n",
       "      el.textContent = \"BokehJS is loading...\";\n",
       "    }\n",
       "    if (root.Bokeh !== undefined) {\n",
       "      if (el != null) {\n",
       "        el.textContent = \"BokehJS \" + root.Bokeh.version + \" successfully loaded.\";\n",
       "      }\n",
       "    } else if (Date.now() < root._bokeh_timeout) {\n",
       "      setTimeout(display_loaded, 100)\n",
       "    }\n",
       "  }\n",
       "\n",
       "\n",
       "  function run_callbacks() {\n",
       "    try {\n",
       "      root._bokeh_onload_callbacks.forEach(function(callback) { callback() });\n",
       "    }\n",
       "    finally {\n",
       "      delete root._bokeh_onload_callbacks\n",
       "    }\n",
       "    console.info(\"Bokeh: all callbacks have finished\");\n",
       "  }\n",
       "\n",
       "  function load_libs(js_urls, callback) {\n",
       "    root._bokeh_onload_callbacks.push(callback);\n",
       "    if (root._bokeh_is_loading > 0) {\n",
       "      console.log(\"Bokeh: BokehJS is being loaded, scheduling callback at\", now());\n",
       "      return null;\n",
       "    }\n",
       "    if (js_urls == null || js_urls.length === 0) {\n",
       "      run_callbacks();\n",
       "      return null;\n",
       "    }\n",
       "    console.log(\"Bokeh: BokehJS not loaded, scheduling load and callback at\", now());\n",
       "    root._bokeh_is_loading = js_urls.length;\n",
       "    for (var i = 0; i < js_urls.length; i++) {\n",
       "      var url = js_urls[i];\n",
       "      var s = document.createElement('script');\n",
       "      s.src = url;\n",
       "      s.async = false;\n",
       "      s.onreadystatechange = s.onload = function() {\n",
       "        root._bokeh_is_loading--;\n",
       "        if (root._bokeh_is_loading === 0) {\n",
       "          console.log(\"Bokeh: all BokehJS libraries loaded\");\n",
       "          run_callbacks()\n",
       "        }\n",
       "      };\n",
       "      s.onerror = function() {\n",
       "        console.warn(\"failed to load library \" + url);\n",
       "      };\n",
       "      console.log(\"Bokeh: injecting script tag for BokehJS library: \", url);\n",
       "      document.getElementsByTagName(\"head\")[0].appendChild(s);\n",
       "    }\n",
       "  };var element = document.getElementById(\"290252a1-e485-449b-9bda-eaee91cbb776\");\n",
       "  if (element == null) {\n",
       "    console.log(\"Bokeh: ERROR: autoload.js configured with elementid '290252a1-e485-449b-9bda-eaee91cbb776' but no matching script tag was found. \")\n",
       "    return false;\n",
       "  }\n",
       "\n",
       "  var js_urls = [\"https://cdn.pydata.org/bokeh/release/bokeh-0.12.14.min.js\", \"https://cdn.pydata.org/bokeh/release/bokeh-widgets-0.12.14.min.js\", \"https://cdn.pydata.org/bokeh/release/bokeh-tables-0.12.14.min.js\", \"https://cdn.pydata.org/bokeh/release/bokeh-gl-0.12.14.min.js\"];\n",
       "\n",
       "  var inline_js = [\n",
       "    function(Bokeh) {\n",
       "      Bokeh.set_log_level(\"info\");\n",
       "    },\n",
       "    \n",
       "    function(Bokeh) {\n",
       "      \n",
       "    },\n",
       "    function(Bokeh) {\n",
       "      console.log(\"Bokeh: injecting CSS: https://cdn.pydata.org/bokeh/release/bokeh-0.12.14.min.css\");\n",
       "      Bokeh.embed.inject_css(\"https://cdn.pydata.org/bokeh/release/bokeh-0.12.14.min.css\");\n",
       "      console.log(\"Bokeh: injecting CSS: https://cdn.pydata.org/bokeh/release/bokeh-widgets-0.12.14.min.css\");\n",
       "      Bokeh.embed.inject_css(\"https://cdn.pydata.org/bokeh/release/bokeh-widgets-0.12.14.min.css\");\n",
       "      console.log(\"Bokeh: injecting CSS: https://cdn.pydata.org/bokeh/release/bokeh-tables-0.12.14.min.css\");\n",
       "      Bokeh.embed.inject_css(\"https://cdn.pydata.org/bokeh/release/bokeh-tables-0.12.14.min.css\");\n",
       "    }\n",
       "  ];\n",
       "\n",
       "  function run_inline_js() {\n",
       "    \n",
       "    if ((root.Bokeh !== undefined) || (force === true)) {\n",
       "      for (var i = 0; i < inline_js.length; i++) {\n",
       "        inline_js[i].call(root, root.Bokeh);\n",
       "      }if (force === true) {\n",
       "        display_loaded();\n",
       "      }} else if (Date.now() < root._bokeh_timeout) {\n",
       "      setTimeout(run_inline_js, 100);\n",
       "    } else if (!root._bokeh_failed_load) {\n",
       "      console.log(\"Bokeh: BokehJS failed to load within specified timeout.\");\n",
       "      root._bokeh_failed_load = true;\n",
       "    } else if (force !== true) {\n",
       "      var cell = $(document.getElementById(\"290252a1-e485-449b-9bda-eaee91cbb776\")).parents('.cell').data().cell;\n",
       "      cell.output_area.append_execute_result(NB_LOAD_WARNING)\n",
       "    }\n",
       "\n",
       "  }\n",
       "\n",
       "  if (root._bokeh_is_loading === 0) {\n",
       "    console.log(\"Bokeh: BokehJS loaded, going straight to plotting\");\n",
       "    run_inline_js();\n",
       "  } else {\n",
       "    load_libs(js_urls, function() {\n",
       "      console.log(\"Bokeh: BokehJS plotting callback run at\", now());\n",
       "      run_inline_js();\n",
       "    });\n",
       "  }\n",
       "}(window));"
      ],
      "application/vnd.bokehjs_load.v0+json": "\n(function(root) {\n  function now() {\n    return new Date();\n  }\n\n  var force = true;\n\n  if (typeof (root._bokeh_onload_callbacks) === \"undefined\" || force === true) {\n    root._bokeh_onload_callbacks = [];\n    root._bokeh_is_loading = undefined;\n  }\n\n  \n\n  \n  if (typeof (root._bokeh_timeout) === \"undefined\" || force === true) {\n    root._bokeh_timeout = Date.now() + 5000;\n    root._bokeh_failed_load = false;\n  }\n\n  var NB_LOAD_WARNING = {'data': {'text/html':\n     \"<div style='background-color: #fdd'>\\n\"+\n     \"<p>\\n\"+\n     \"BokehJS does not appear to have successfully loaded. If loading BokehJS from CDN, this \\n\"+\n     \"may be due to a slow or bad network connection. Possible fixes:\\n\"+\n     \"</p>\\n\"+\n     \"<ul>\\n\"+\n     \"<li>re-rerun `output_notebook()` to attempt to load from CDN again, or</li>\\n\"+\n     \"<li>use INLINE resources instead, as so:</li>\\n\"+\n     \"</ul>\\n\"+\n     \"<code>\\n\"+\n     \"from bokeh.resources import INLINE\\n\"+\n     \"output_notebook(resources=INLINE)\\n\"+\n     \"</code>\\n\"+\n     \"</div>\"}};\n\n  function display_loaded() {\n    var el = document.getElementById(\"290252a1-e485-449b-9bda-eaee91cbb776\");\n    if (el != null) {\n      el.textContent = \"BokehJS is loading...\";\n    }\n    if (root.Bokeh !== undefined) {\n      if (el != null) {\n        el.textContent = \"BokehJS \" + root.Bokeh.version + \" successfully loaded.\";\n      }\n    } else if (Date.now() < root._bokeh_timeout) {\n      setTimeout(display_loaded, 100)\n    }\n  }\n\n\n  function run_callbacks() {\n    try {\n      root._bokeh_onload_callbacks.forEach(function(callback) { callback() });\n    }\n    finally {\n      delete root._bokeh_onload_callbacks\n    }\n    console.info(\"Bokeh: all callbacks have finished\");\n  }\n\n  function load_libs(js_urls, callback) {\n    root._bokeh_onload_callbacks.push(callback);\n    if (root._bokeh_is_loading > 0) {\n      console.log(\"Bokeh: BokehJS is being loaded, scheduling callback at\", now());\n      return null;\n    }\n    if (js_urls == null || js_urls.length === 0) {\n      run_callbacks();\n      return null;\n    }\n    console.log(\"Bokeh: BokehJS not loaded, scheduling load and callback at\", now());\n    root._bokeh_is_loading = js_urls.length;\n    for (var i = 0; i < js_urls.length; i++) {\n      var url = js_urls[i];\n      var s = document.createElement('script');\n      s.src = url;\n      s.async = false;\n      s.onreadystatechange = s.onload = function() {\n        root._bokeh_is_loading--;\n        if (root._bokeh_is_loading === 0) {\n          console.log(\"Bokeh: all BokehJS libraries loaded\");\n          run_callbacks()\n        }\n      };\n      s.onerror = function() {\n        console.warn(\"failed to load library \" + url);\n      };\n      console.log(\"Bokeh: injecting script tag for BokehJS library: \", url);\n      document.getElementsByTagName(\"head\")[0].appendChild(s);\n    }\n  };var element = document.getElementById(\"290252a1-e485-449b-9bda-eaee91cbb776\");\n  if (element == null) {\n    console.log(\"Bokeh: ERROR: autoload.js configured with elementid '290252a1-e485-449b-9bda-eaee91cbb776' but no matching script tag was found. \")\n    return false;\n  }\n\n  var js_urls = [\"https://cdn.pydata.org/bokeh/release/bokeh-0.12.14.min.js\", \"https://cdn.pydata.org/bokeh/release/bokeh-widgets-0.12.14.min.js\", \"https://cdn.pydata.org/bokeh/release/bokeh-tables-0.12.14.min.js\", \"https://cdn.pydata.org/bokeh/release/bokeh-gl-0.12.14.min.js\"];\n\n  var inline_js = [\n    function(Bokeh) {\n      Bokeh.set_log_level(\"info\");\n    },\n    \n    function(Bokeh) {\n      \n    },\n    function(Bokeh) {\n      console.log(\"Bokeh: injecting CSS: https://cdn.pydata.org/bokeh/release/bokeh-0.12.14.min.css\");\n      Bokeh.embed.inject_css(\"https://cdn.pydata.org/bokeh/release/bokeh-0.12.14.min.css\");\n      console.log(\"Bokeh: injecting CSS: https://cdn.pydata.org/bokeh/release/bokeh-widgets-0.12.14.min.css\");\n      Bokeh.embed.inject_css(\"https://cdn.pydata.org/bokeh/release/bokeh-widgets-0.12.14.min.css\");\n      console.log(\"Bokeh: injecting CSS: https://cdn.pydata.org/bokeh/release/bokeh-tables-0.12.14.min.css\");\n      Bokeh.embed.inject_css(\"https://cdn.pydata.org/bokeh/release/bokeh-tables-0.12.14.min.css\");\n    }\n  ];\n\n  function run_inline_js() {\n    \n    if ((root.Bokeh !== undefined) || (force === true)) {\n      for (var i = 0; i < inline_js.length; i++) {\n        inline_js[i].call(root, root.Bokeh);\n      }if (force === true) {\n        display_loaded();\n      }} else if (Date.now() < root._bokeh_timeout) {\n      setTimeout(run_inline_js, 100);\n    } else if (!root._bokeh_failed_load) {\n      console.log(\"Bokeh: BokehJS failed to load within specified timeout.\");\n      root._bokeh_failed_load = true;\n    } else if (force !== true) {\n      var cell = $(document.getElementById(\"290252a1-e485-449b-9bda-eaee91cbb776\")).parents('.cell').data().cell;\n      cell.output_area.append_execute_result(NB_LOAD_WARNING)\n    }\n\n  }\n\n  if (root._bokeh_is_loading === 0) {\n    console.log(\"Bokeh: BokehJS loaded, going straight to plotting\");\n    run_inline_js();\n  } else {\n    load_libs(js_urls, function() {\n      console.log(\"Bokeh: BokehJS plotting callback run at\", now());\n      run_inline_js();\n    });\n  }\n}(window));"
     },
     "metadata": {},
     "output_type": "display_data"
    }
   ],
   "source": [
    "output_notebook()"
   ]
  },
  {
   "cell_type": "code",
   "execution_count": 8,
   "metadata": {
    "collapsed": true
   },
   "outputs": [],
   "source": [
    "def fmt_cool(ds_in):\n",
    "    ds = ds_in.copy(deep=True)\n",
    "    if 'igg' in ds.dims:\n",
    "        ds = ds.sel(igg=1)\n",
    "\n",
    "    if 'g' in ds.dims:\n",
    "        ds = ds.sum('g')\n",
    "            \n",
    "    if 'band' in ds.dims:\n",
    "        try:\n",
    "            ds = ds.squeeze('band')\n",
    "        except ValueError:\n",
    "            ds = ds.sum('band')\n",
    "                \n",
    "    return ds['coolrg']\n",
    "\n",
    "\n",
    "def pltdata_cooling_1(ds_cool=None,\n",
    "                      ds_cool_crd=None, ds_cool_wgt=None):\n",
    "    \n",
    "\n",
    "\n",
    "    colors = all_palettes['Set1'][4]\n",
    "    data = [{'label': 'CLIRAD `coolr_bands`',\n",
    "             'srs': fmt_cool(ds_cool),\n",
    "             'line_dash': 'dashed', 'line_width': 5,\n",
    "             'color': colors[0], 'alpha': .6},\n",
    "            {'label': 'CRD',\n",
    "             'srs': fmt_cool(ds_cool_crd),\n",
    "             'line_dash': 'solid', 'line_width': 1.5,\n",
    "             'marker': 'circle', 'marker_size': 5,\n",
    "             'color': colors[2], 'alpha': 1,},\n",
    "            {'label': 'WGT igg=10 wgt_flux=2',\n",
    "             'srs': fmt_cool(ds_cool_wgt),\n",
    "             'line_dash': 'solid', 'line_width': 3,\n",
    "             'marker': 'square', 'marker_size': 5,\n",
    "             'color': colors[3], 'alpha': .6}]\n",
    "    return data\n",
    "\n",
    "\n",
    "def nice_xlims(pltdata=None, prange=None):\n",
    "    \n",
    "    def get_slice(srs):\n",
    "        return srs.sel(pressure=slice(*prange))\n",
    "    \n",
    "    srss = [d['srs'] for d in pltdata]\n",
    "    vmin = min([get_slice(srs).min() for srs in srss])\n",
    "    vmax = max([get_slice(srs).max() for srs in srss])\n",
    "    dv = (vmax - vmin) * .01\n",
    "    return float(vmin - dv), float(vmax + dv)\n",
    "    \n",
    "\n",
    "def plt_cooling_bokeh(pltdata=None):\n",
    "    '''\n",
    "    Plot a list of cooling rate profiles using bokeh.\n",
    "    '''\n",
    "    ymin = 1e-2 \n",
    "    ymax = 1020 \n",
    "        \n",
    "    p1 = figure(title=\"Linear pressure scale\", \n",
    "                plot_width=400)        \n",
    "    xmin, xmax = nice_xlims(pltdata, prange=(50, 1050))\n",
    "    for d in pltdata:\n",
    "        if 'marker' in d:\n",
    "            getattr(p1, d['marker'])(d['srs'].values, \n",
    "                    d['srs'].coords['pressure'].values,\n",
    "                    color=d['color'], alpha=.7)\n",
    "        p1.line(d['srs'].values, \n",
    "                d['srs'].coords['pressure'].values,\n",
    "                color=d['color'], alpha=d['alpha'], \n",
    "                line_width=d['line_width'], line_dash=d['line_dash'])\n",
    "    \n",
    "    p1.y_range = Range1d(ymax, ymin)\n",
    "    p1.yaxis.axis_label = 'pressure [mb]'   \n",
    "    p1.x_range = Range1d(xmin, xmax)\n",
    "    p1.xaxis.axis_label = 'cooling rate [K/day]'\n",
    "            \n",
    "    p2 = figure(title='Log pressure scale', y_axis_type='log',\n",
    "                plot_width=560)\n",
    "    xmin, xmax = nice_xlims(pltdata, prange=(.01, 200))\n",
    "    \n",
    "    rs = []\n",
    "    for d in pltdata:\n",
    "        rd = []\n",
    "        if 'marker' in d:\n",
    "            r_mark = getattr(p2, d['marker'])(d['srs'].values, \n",
    "                        d['srs'].coords['pressure'].values,\n",
    "                        color=d['color'], alpha=.7)\n",
    "            rd.append(r_mark)\n",
    "        r_line = p2.line(d['srs'].values, \n",
    "                    d['srs'].coords['pressure'].values,\n",
    "                    color=d['color'], alpha=d['alpha'], \n",
    "                    line_width=d['line_width'], line_dash=d['line_dash'])\n",
    "        rd.append(r_line)\n",
    "      \n",
    "        rs.append(rd)\n",
    "        \n",
    "    p2.y_range = Range1d(ymax, ymin)  \n",
    "    p2.yaxis.axis_label = 'pressure [mb]'\n",
    "    \n",
    "    p2.x_range = Range1d(xmin, xmax)\n",
    "    p2.xaxis.axis_label = 'cooling rate [K/day]'\n",
    "    \n",
    "    items = [(d['label'], r) for r, d in zip(rs, pltdata)]\n",
    "    legend = Legend(items=items, location=(10, -30))\n",
    "    legend.label_text_font_size = '8pt'\n",
    "    \n",
    "    p2.add_layout(legend, 'right')  \n",
    "    \n",
    "    show(gridplot(p1, p2, ncols=2, plot_height=500))\n",
    "    \n",
    "\n",
    "def script_plt_cooling():\n",
    "    pltdata = pltdata_cooling_1(\n",
    "        ds_cool=DS_COOL,\n",
    "        ds_cool_crd=DS_COOL_CRD,\n",
    "        ds_cool_wgt=DS_COOL_WGT)\n",
    "    plt_cooling_bokeh(pltdata=pltdata)\n",
    "    print('''FIGURE. Cooling rate profiles.''')"
   ]
  },
  {
   "cell_type": "code",
   "execution_count": 9,
   "metadata": {
    "collapsed": true
   },
   "outputs": [],
   "source": [
    "def fmt_flux(ds_in):\n",
    "    ds = ds_in.copy(deep=True)\n",
    "    \n",
    "    for l in ('level', 'layer'):\n",
    "        if l in ds.data_vars:\n",
    "            if len(ds[l].dims) > 1:\n",
    "                surface = {d: 0 for d in ds.dims if d != 'pressure'}\n",
    "                coord_level = ds[l][surface]\n",
    "                ds.coords[l] = ('pressure', coord_level)\n",
    "            else:\n",
    "                ds.coords[l] = ('pressure', ds[l])\n",
    "        \n",
    "    ds = ds.isel(pressure=[0, 23, -1])\n",
    "        \n",
    "    if 'igg' in ds.dims:\n",
    "        ds = ds.sel(igg=[1])\n",
    "        ds = ds.squeeze('igg').drop('igg')\n",
    "    \n",
    "    if 'g' in ds.dims:\n",
    "        ds = ds.sum('g')\n",
    "            \n",
    "    if 'band' in ds.dims:\n",
    "        try:\n",
    "            ds = ds.squeeze('band').drop('band')\n",
    "        except ValueError:\n",
    "            ds = ds.sum('band')\n",
    "                \n",
    "    df = ds.to_dataframe()\n",
    "    df = df.set_index('level', append=True)               \n",
    "    return df\n",
    "\n",
    "\n",
    "def tbdata_flux(ds_flux=None, ds_flux_crd=None, ds_flux_wgt=None):\n",
    "    ilevels = [0, 23, -1]\n",
    "            \n",
    "    benchmark = {'label': 'WGT igg=10 wgt_flux=1',\n",
    "                 'df': fmt_flux(ds_flux_wgt)}\n",
    "    \n",
    "    tbs = [{'label': 'CRD',\n",
    "            'df': fmt_flux(ds_flux_crd)},\n",
    "           {'label': 'CLIRAD',\n",
    "            'df': fmt_flux(ds_flux)}]\n",
    "    \n",
    "    data = {'benchmark': benchmark, 'others': tbs}\n",
    "    return data\n",
    "\n",
    "\n",
    "def tb_flux(tbdata=None):\n",
    "    benchmark = tbdata['benchmark']\n",
    "    others = tbdata['others']\n",
    "    \n",
    "    def show_tb(d=None):\n",
    "        display.display(d['df'])\n",
    "        print('Table.', 'Fluxes.', d['label'])\n",
    "        \n",
    "    def show_tbdiff(d0=None, d=None):\n",
    "        df = d['df']\n",
    "        df.index = d0['df'].index\n",
    "        display.display(df - d0['df'])\n",
    "        print('Table.', 'Fluxes.', \n",
    "              '({}) - ({})'.format(d['label'], d0['label']))\n",
    "        \n",
    "    show_tb(benchmark)\n",
    "    for d in others:\n",
    "        show_tb(d)\n",
    "        \n",
    "    for d in others:\n",
    "        show_tbdiff(d=d, d0=benchmark)\n",
    "        \n",
    "        \n",
    "def script_tb_flux():\n",
    "    data = tbdata_flux(ds_flux=DS_FLUX,\n",
    "                       ds_flux_crd=DS_FLUX_CRD,\n",
    "                       ds_flux_wgt=DS_FLUX_WGT)\n",
    "    tb_flux(tbdata=data)"
   ]
  },
  {
   "cell_type": "code",
   "execution_count": 10,
   "metadata": {
    "collapsed": true
   },
   "outputs": [],
   "source": [
    "def band_map():\n",
    "    '''\n",
    "    Maps spectral bands in lblnew to spectral bands in clirad.\n",
    "    '''\n",
    "    lblnew2clirad = {'1': '1',\n",
    "            '2': '2',\n",
    "            '3a': '3',\n",
    "            '3b': '4',\n",
    "            '3c': '5',\n",
    "            '4': '6', \n",
    "            '5': '7',\n",
    "            '6': '8',\n",
    "            '7': '9', \n",
    "            '8': '10',\n",
    "            '9': '11'}\n",
    "    \n",
    "    clirad2lblnew = {clirad: lblnew \n",
    "                     for lblnew, clirad in lblnew2clirad.items()}\n",
    "    return clirad2lblnew\n",
    "\n",
    "\n",
    "def gasbands():\n",
    "    bmap = band_map()\n",
    "    gases = list(PARAM['molecule'].keys())\n",
    "    \n",
    "    bands = [bmap[str(b)] for b in PARAM['band']]\n",
    "    return list(itertools.product(gases, bands))\n",
    "\n",
    "\n",
    "def print_bestfit_params():\n",
    "    print('Best-fit values for each (gas, band)')\n",
    "    print('------------------------------------')\n",
    "    for gas, band in gasbands():\n",
    "        print('o {} band{}'.format(gas, band))\n",
    "        param = bestfits.kdist_params(molecule=gas, band=band)\n",
    "        for name, value in sorted(param.items()):\n",
    "            print(2 * ' ' + '{} = {}'.format(name, value))\n",
    "\n",
    "        \n",
    "def print_input_param():        \n",
    "    for name, value in PARAM.items():\n",
    "        print('{} = {}'.format(name, value))\n",
    "        \n",
    "        \n",
    "def print_lblnew_param():\n",
    "    for name, value in sorted(PARAM_LBLNEW.items()):\n",
    "        print('{} = {}'.format(name, value))\n"
   ]
  },
  {
   "cell_type": "code",
   "execution_count": 11,
   "metadata": {
    "collapsed": true,
    "scrolled": false
   },
   "outputs": [],
   "source": [
    "def show_html(s):\n",
    "    display.display(display.HTML(s))\n",
    "\n",
    "    \n",
    "def show_markdown(s):\n",
    "    display.display(display.Markdown(s))\n",
    "\n",
    "    \n",
    "def script():\n",
    "    \n",
    "    title = '### CLIRAD-LW'\n",
    "    s_input = 'Input Parameters'\n",
    "    s_lblnew_param = 'LBLNEW case compaired against'\n",
    "    s_bestfits = 'Best-fit Parameters'\n",
    "    s_plt_cooling = 'Cooling Rate Profiles'\n",
    "    s_tb_flux = 'Flux Comparison'\n",
    "    \n",
    "    # title\n",
    "    show_markdown('### CLIRAD-LW')\n",
    "    \n",
    "    # TOC\n",
    "    show_markdown('### Table of Contents')\n",
    "    show_html(climahtml.getHTML_hrefanchor(s_input))\n",
    "    show_html(climahtml.getHTML_hrefanchor(s_lblnew_param))\n",
    "    show_html(climahtml.getHTML_hrefanchor(s_plt_cooling))\n",
    "    show_html(climahtml.getHTML_hrefanchor(s_tb_flux))\n",
    "    show_html(climahtml.getHTML_hrefanchor(s_bestfits))\n",
    "    \n",
    "    # Input parameters\n",
    "    show_html(climahtml.getHTML_idanchor(s_input))\n",
    "    show_markdown(climahtml.getMarkdown_sectitle(s_input))\n",
    "    print_input_param()\n",
    "    \n",
    "    # LBLNEW parameters \n",
    "    show_html(climahtml.getHTML_idanchor(s_lblnew_param))\n",
    "    show_markdown(climahtml.getMarkdown_sectitle(s_lblnew_param))\n",
    "    print_lblnew_param()\n",
    "    \n",
    "    # Cooling rate profiles\n",
    "    show_html(climahtml.getHTML_idanchor(s_plt_cooling))\n",
    "    show_markdown(climahtml.getMarkdown_sectitle(s_plt_cooling))\n",
    "    script_plt_cooling()\n",
    "    \n",
    "    # Flux comparison\n",
    "    show_html(climahtml.getHTML_idanchor(s_tb_flux))\n",
    "    show_markdown(climahtml.getMarkdown_sectitle(s_tb_flux))\n",
    "    script_tb_flux()\n",
    "    \n",
    "    # Best-fit values\n",
    "    show_html(climahtml.getHTML_idanchor(s_bestfits))\n",
    "    show_markdown(climahtml.getMarkdown_sectitle(s_bestfits))\n",
    "    print_bestfit_params()\n",
    "   \n",
    "    "
   ]
  },
  {
   "cell_type": "code",
   "execution_count": 12,
   "metadata": {
    "collapsed": true,
    "scrolled": false
   },
   "outputs": [
    {
     "data": {
      "text/markdown": [
       "### CLIRAD-LW"
      ],
      "text/plain": [
       "<IPython.core.display.Markdown object>"
      ]
     },
     "metadata": {},
     "output_type": "display_data"
    },
    {
     "data": {
      "text/markdown": [
       "### Table of Contents"
      ],
      "text/plain": [
       "<IPython.core.display.Markdown object>"
      ]
     },
     "metadata": {},
     "output_type": "display_data"
    },
    {
     "data": {
      "text/html": [
       "<a href=\"#Input_Parameters\">Input Parameters</a>"
      ],
      "text/plain": [
       "<IPython.core.display.HTML object>"
      ]
     },
     "metadata": {},
     "output_type": "display_data"
    },
    {
     "data": {
      "text/html": [
       "<a href=\"#LBLNEW_case_compaired_against\">LBLNEW case compaired against</a>"
      ],
      "text/plain": [
       "<IPython.core.display.HTML object>"
      ]
     },
     "metadata": {},
     "output_type": "display_data"
    },
    {
     "data": {
      "text/html": [
       "<a href=\"#Cooling_Rate_Profiles\">Cooling Rate Profiles</a>"
      ],
      "text/plain": [
       "<IPython.core.display.HTML object>"
      ]
     },
     "metadata": {},
     "output_type": "display_data"
    },
    {
     "data": {
      "text/html": [
       "<a href=\"#Flux_Comparison\">Flux Comparison</a>"
      ],
      "text/plain": [
       "<IPython.core.display.HTML object>"
      ]
     },
     "metadata": {},
     "output_type": "display_data"
    },
    {
     "data": {
      "text/html": [
       "<a href=\"#Best-fit_Parameters\">Best-fit Parameters</a>"
      ],
      "text/plain": [
       "<IPython.core.display.HTML object>"
      ]
     },
     "metadata": {},
     "output_type": "display_data"
    },
    {
     "data": {
      "text/html": [
       "<a id=\"Input_Parameters\"></a>"
      ],
      "text/plain": [
       "<IPython.core.display.HTML object>"
      ]
     },
     "metadata": {},
     "output_type": "display_data"
    },
    {
     "data": {
      "text/markdown": [
       "# Input Parameters"
      ],
      "text/plain": [
       "<IPython.core.display.Markdown object>"
      ]
     },
     "metadata": {},
     "output_type": "display_data"
    },
    {
     "name": "stdout",
     "output_type": "stream",
     "text": [
      "atmpro = trp\n",
      "band = [3]\n",
      "commitnumber = 0c003ef_r8\n",
      "molecule = {'h2o': 'atmpro'}\n",
      "tsfc = 300\n"
     ]
    },
    {
     "data": {
      "text/html": [
       "<a id=\"LBLNEW_case_compaired_against\"></a>"
      ],
      "text/plain": [
       "<IPython.core.display.HTML object>"
      ]
     },
     "metadata": {},
     "output_type": "display_data"
    },
    {
     "data": {
      "text/markdown": [
       "# LBLNEW case compaired against"
      ],
      "text/plain": [
       "<IPython.core.display.Markdown object>"
      ]
     },
     "metadata": {},
     "output_type": "display_data"
    },
    {
     "name": "stdout",
     "output_type": "stream",
     "text": [
      "atmpro = trp\n",
      "band = 3a\n",
      "commitnumber = 2bd1f75\n",
      "conc = None\n",
      "dv = 0.01\n",
      "klin = 0\n",
      "molecule = h2o\n",
      "ng_adju = [0, 0]\n",
      "ng_refs = [2, 6]\n",
      "nv = 100\n",
      "option_compute_btable = 0\n",
      "option_compute_ktable = 0\n",
      "option_wgt_flux = 1\n",
      "option_wgt_k = 1\n",
      "ref_pts = [(10, 250), (600, 250)]\n",
      "tsfc = 300\n",
      "vmax = 620\n",
      "vmin = 540\n",
      "w_diffuse = [(1.9, 1.7), (1.4, 1.4, 1.4, 1.55, 1.6, 1.66)]\n",
      "wgt = [(0.7, 0.7), (0.7, 0.5, 0.5, 0.5, 0.5, 0.5)]\n"
     ]
    },
    {
     "data": {
      "text/html": [
       "<a id=\"Cooling_Rate_Profiles\"></a>"
      ],
      "text/plain": [
       "<IPython.core.display.HTML object>"
      ]
     },
     "metadata": {},
     "output_type": "display_data"
    },
    {
     "data": {
      "text/markdown": [
       "# Cooling Rate Profiles"
      ],
      "text/plain": [
       "<IPython.core.display.Markdown object>"
      ]
     },
     "metadata": {},
     "output_type": "display_data"
    },
    {
     "data": {
      "text/html": [
       "\n",
       "<div class=\"bk-root\">\n",
       "    <div class=\"bk-plotdiv\" id=\"a57ec2db-acdc-4298-94e7-ea78280f1e0b\"></div>\n",
       "</div>"
      ]
     },
     "metadata": {},
     "output_type": "display_data"
    },
    {
     "data": {
      "application/javascript": [
       "(function(root) {\n",
       "  function embed_document(root) {\n",
       "    \n",
       "  var docs_json = {\"62d5bc7e-9e27-453b-bff7-601631de9dc3\":{\"roots\":{\"references\":[{\"attributes\":{},\"id\":\"8e387b13-f227-4bd3-b474-9800e0ebb957\",\"type\":\"LinearScale\"},{\"attributes\":{\"axis_label\":\"cooling rate [K/day]\",\"formatter\":{\"id\":\"4310054f-6725-4d51-af36-236a666b24be\",\"type\":\"BasicTickFormatter\"},\"plot\":{\"id\":\"a69c2cc1-df5e-4331-bd98-c33f2faeacd5\",\"subtype\":\"Figure\",\"type\":\"Plot\"},\"ticker\":{\"id\":\"f2e2a159-8c91-4b55-b737-917e42866f0b\",\"type\":\"BasicTicker\"}},\"id\":\"f6894d54-a8a2-4666-86ca-8917f9d6fb82\",\"type\":\"LinearAxis\"},{\"attributes\":{\"fill_alpha\":{\"value\":0.7},\"fill_color\":{\"value\":\"#4daf4a\"},\"line_alpha\":{\"value\":0.7},\"line_color\":{\"value\":\"#4daf4a\"},\"x\":{\"field\":\"x\"},\"y\":{\"field\":\"y\"}},\"id\":\"50e94236-3dcc-4552-966f-2decb5ce9261\",\"type\":\"Circle\"},{\"attributes\":{\"children\":[{\"id\":\"b5bcac47-76cf-438d-a250-dd16e09dfe7a\",\"type\":\"Row\"}]},\"id\":\"40281c78-4405-4ea9-9a63-c746e8d2d35c\",\"type\":\"Column\"},{\"attributes\":{\"plot\":{\"id\":\"a69c2cc1-df5e-4331-bd98-c33f2faeacd5\",\"subtype\":\"Figure\",\"type\":\"Plot\"},\"ticker\":{\"id\":\"f2e2a159-8c91-4b55-b737-917e42866f0b\",\"type\":\"BasicTicker\"}},\"id\":\"164b8045-5850-4f5f-92f1-eeef91f1685a\",\"type\":\"Grid\"},{\"attributes\":{\"num_minor_ticks\":10},\"id\":\"3fa3f764-43a0-4f95-be77-f756b12b1ef5\",\"type\":\"LogTicker\"},{\"attributes\":{\"line_alpha\":0.1,\"line_color\":\"#1f77b4\",\"line_dash\":[6],\"line_width\":5,\"x\":{\"field\":\"x\"},\"y\":{\"field\":\"y\"}},\"id\":\"c1cf3efe-617a-4c2f-b492-63a9e1543f07\",\"type\":\"Line\"},{\"attributes\":{},\"id\":\"f2e2a159-8c91-4b55-b737-917e42866f0b\",\"type\":\"BasicTicker\"},{\"attributes\":{},\"id\":\"14c8f1da-7920-439a-860c-44cbc4850ee9\",\"type\":\"LogScale\"},{\"attributes\":{\"axis_label\":\"pressure [mb]\",\"formatter\":{\"id\":\"a1484538-1c54-4c8f-afd7-760b57219ad3\",\"type\":\"LogTickFormatter\"},\"plot\":{\"id\":\"a69c2cc1-df5e-4331-bd98-c33f2faeacd5\",\"subtype\":\"Figure\",\"type\":\"Plot\"},\"ticker\":{\"id\":\"3fa3f764-43a0-4f95-be77-f756b12b1ef5\",\"type\":\"LogTicker\"}},\"id\":\"ee966f50-bfb0-40f1-9a81-2fab4c69cb73\",\"type\":\"LogAxis\"},{\"attributes\":{\"overlay\":{\"id\":\"d5a34fad-9aa6-4562-97fa-36323ff47e6d\",\"type\":\"BoxAnnotation\"}},\"id\":\"7dd9ca53-4932-4dab-becd-7fa27047ccd4\",\"type\":\"BoxZoomTool\"},{\"attributes\":{\"bottom_units\":\"screen\",\"fill_alpha\":{\"value\":0.5},\"fill_color\":{\"value\":\"lightgrey\"},\"left_units\":\"screen\",\"level\":\"overlay\",\"line_alpha\":{\"value\":1.0},\"line_color\":{\"value\":\"black\"},\"line_dash\":[4,4],\"line_width\":{\"value\":2},\"plot\":null,\"render_mode\":\"css\",\"right_units\":\"screen\",\"top_units\":\"screen\"},\"id\":\"d5a34fad-9aa6-4562-97fa-36323ff47e6d\",\"type\":\"BoxAnnotation\"},{\"attributes\":{},\"id\":\"5bd94d42-7ef8-41a9-b30a-dcf4e7bcdcfc\",\"type\":\"WheelZoomTool\"},{\"attributes\":{},\"id\":\"34e0a2a8-0821-4ae8-ab69-fad7116b5cc0\",\"type\":\"PanTool\"},{\"attributes\":{},\"id\":\"a57460f0-0f88-4213-a427-10e958db01c4\",\"type\":\"SaveTool\"},{\"attributes\":{},\"id\":\"43b248a5-3ea5-4789-8b44-cb4b93c2459f\",\"type\":\"ResetTool\"},{\"attributes\":{\"children\":[{\"id\":\"9ab4140e-489f-428c-8b9b-93e5a4fbadfa\",\"subtype\":\"Figure\",\"type\":\"Plot\"},{\"id\":\"a69c2cc1-df5e-4331-bd98-c33f2faeacd5\",\"subtype\":\"Figure\",\"type\":\"Plot\"}]},\"id\":\"b5bcac47-76cf-438d-a250-dd16e09dfe7a\",\"type\":\"Row\"},{\"attributes\":{},\"id\":\"b6f80593-5be6-4ba8-8734-6ea7bdd6e64c\",\"type\":\"HelpTool\"},{\"attributes\":{\"line_alpha\":0.6,\"line_color\":\"#e41a1c\",\"line_dash\":[6],\"line_width\":5,\"x\":{\"field\":\"x\"},\"y\":{\"field\":\"y\"}},\"id\":\"8c6039b8-2b9f-4127-b29c-52a926d697e4\",\"type\":\"Line\"},{\"attributes\":{\"callback\":null,\"column_names\":[\"x\",\"y\"],\"data\":{\"x\":{\"__ndarray__\":\"HWPfeDTaVT/V1z0xpxZVP+vzkGGAwVg/L8Zx9LlZWj9PmMslkPRbP0mvc3scmV0/5t0aEfpEXz+X+rH9735gP/gp+sPXXmE/3UpYX8lDYj+JHt97Cy1jP2PjsjStGWQ/pwUehZMHZT9Ulsn6UiJmP1EzGU860Wo/xVMSSDfxcj+zMqqk//l6P2IkmpFYioI/LpCy2+3OiD8fCU92oD+QP5SxN7dd9pQ/yb4fD2Eimj96MO+StPKbP1owbQ+t25k/xqC9QU50lj+cWLLzzlKSP5V2BQNR9Yw/K+rvTDhZhj+Z19LZCbOAPxWwLgFQ8nc/uPGUfSo6cD8SKNSvyodkP4ycCpu2xFc/LyNB5PCqRz93b5EGVQ8cPzv6tF2/8Da/DqPU6TZkQL+g3kuNdbc1vzf/9NtAoBo/TKa0uqUdRz8p0XG56s9gPxG5lez8hXw/yY7Ko9SLkT+jPX9WcKqgP0M2SVmq/qk/r4t6P3BAsj8VPPL416G4PzE3SiTy2b4/sETapZE/wT/s+dwBhZfDP8m8I51gA8c/4/mQ4Nsuyz/OabuuBHfPP+gE4cgLwtE/7mdGecXX0z9NEQEDGAHWP4MxhXsjQtg/xvCeJNl62j8/xIpDy3TcP4qD+H5yLd4/sV1v1VSa3z/1c3WNt1HgP/BEGFgqnOA/4wff4n6T4T8Rm34/65DhP6F3dG25xOA/7+OJnJXf3j9CSw0jc5vaP1QzMX6WvtY/p+C21/6l0z9GFpscXzfRP/GK2A7jwc4/bGzhP/5OzD8a52fR2GrLPw6c+fYqSdA/\",\"dtype\":\"float64\",\"shape\":[75]},\"y\":{\"__ndarray__\":\"S/O/Q+51ND/Sv8nbtpRIP2vylNV0PVE/aTum7souWD/At0SJ8fVgPw3Iuahxymc/MSNhhJWvcD/bTfBN02d3P2zb5nxnaoA/CD5h5MAGhz8NmeH1TyaQP+zrCsc9p5Y/LbKd76fGnz/bLW5ISEmmPww9YvTcQq8/JV2OstnstT8Er5Y7M8G+P0c+r3jqkcU/5h99k6ZBzj88bCIzFzjVP4enV8oyxN0//yH99nXg5D8qOpLLf0jtP5kqGJXUifQ/c9cS8kHP/D+/DpwzojQEQIEmwoanVwxA4lgXt9HgE0BSSZ2AJuIbQAMJih9jjiNA5q4l5INuK0AwTKYKRj0zQNv5fmq8/DpAaCJseHrtQkB/+zpwzoxKQM3MzMzMeFJAZmZmZmZqWEAAAAAAAFxeQM3MzMzMJmJAmpmZmZkfZUBmZmZmZhhoQDMzMzMzEWtAAAAAAAAKbkBmZmZmZoFwQM3MzMzM/XFAMzMzMzN6c0CamZmZmfZ0QAAAAAAAc3ZAZmZmZmbvd0DNzMzMzGt5QDMzMzMz6HpAmpmZmZlkfEAAAAAAAOF9QGZmZmZmXX9AZmZmZuZsgECamZmZGSuBQM3MzMxM6YFAAAAAAICngkAzMzMzs2WDQGZmZmbmI4RAmpmZmRnihEDNzMzMTKCFQAAAAACAXoZAMzMzM7Mch0BmZmZm5tqHQJqZmZkZmYhAzczMzExXiUAAAAAAgBWKQDMzMzOz04pAZmZmZuaRi0CamZmZGVCMQM3MzMxMDo1AAAAAAIDMjUAzMzMzs4qOQGZmZmbmSI9A\",\"dtype\":\"float64\",\"shape\":[75]}}},\"id\":\"789acd84-f34b-4931-950c-962184b0a798\",\"type\":\"ColumnDataSource\"},{\"attributes\":{},\"id\":\"9f660805-7590-44e4-9e3d-3483b92f25f6\",\"type\":\"BasicTickFormatter\"},{\"attributes\":{\"label\":{\"value\":\"WGT igg=10 wgt_flux=2\"},\"renderers\":[{\"id\":\"763ca625-392d-45c8-bc25-ab3580f51a44\",\"type\":\"GlyphRenderer\"},{\"id\":\"b0b77f09-2aa6-4c60-ab29-983387f8a0ba\",\"type\":\"GlyphRenderer\"}]},\"id\":\"872373fd-ea2f-4993-90d1-f6519428855d\",\"type\":\"LegendItem\"},{\"attributes\":{\"tools\":[{\"id\":\"a5c7fb52-4da2-408d-a47f-62b50b365bd9\",\"type\":\"PanTool\"},{\"id\":\"4d0cb02c-c5ba-4a0b-ab45-f4d43c16bcc4\",\"type\":\"WheelZoomTool\"},{\"id\":\"663d1fe8-c8af-428b-8956-1a258fb62c45\",\"type\":\"BoxZoomTool\"},{\"id\":\"aa90a754-85ae-44fa-afb6-99bb6f070f4c\",\"type\":\"SaveTool\"},{\"id\":\"34a34687-c405-4d46-a33e-c03cb42458e9\",\"type\":\"ResetTool\"},{\"id\":\"4545af10-760e-482e-9c66-119844157c90\",\"type\":\"HelpTool\"},{\"id\":\"34e0a2a8-0821-4ae8-ab69-fad7116b5cc0\",\"type\":\"PanTool\"},{\"id\":\"5bd94d42-7ef8-41a9-b30a-dcf4e7bcdcfc\",\"type\":\"WheelZoomTool\"},{\"id\":\"7dd9ca53-4932-4dab-becd-7fa27047ccd4\",\"type\":\"BoxZoomTool\"},{\"id\":\"a57460f0-0f88-4213-a427-10e958db01c4\",\"type\":\"SaveTool\"},{\"id\":\"43b248a5-3ea5-4789-8b44-cb4b93c2459f\",\"type\":\"ResetTool\"},{\"id\":\"b6f80593-5be6-4ba8-8734-6ea7bdd6e64c\",\"type\":\"HelpTool\"}]},\"id\":\"664fae28-9691-4b1e-a57a-0c9c484492b8\",\"type\":\"ProxyToolbar\"},{\"attributes\":{\"line_alpha\":0.6,\"line_color\":\"#e41a1c\",\"line_dash\":[6],\"line_width\":5,\"x\":{\"field\":\"x\"},\"y\":{\"field\":\"y\"}},\"id\":\"e8b4b9fd-c3b5-4a09-8a97-b61cecc343cb\",\"type\":\"Line\"},{\"attributes\":{\"data_source\":{\"id\":\"789acd84-f34b-4931-950c-962184b0a798\",\"type\":\"ColumnDataSource\"},\"glyph\":{\"id\":\"8c6039b8-2b9f-4127-b29c-52a926d697e4\",\"type\":\"Line\"},\"hover_glyph\":null,\"muted_glyph\":null,\"nonselection_glyph\":{\"id\":\"12248975-adfc-4610-a433-f57596e72917\",\"type\":\"Line\"},\"selection_glyph\":null,\"view\":{\"id\":\"f3a358e8-cf72-4e49-bf12-a1d7cfd37de7\",\"type\":\"CDSView\"}},\"id\":\"f6715a8c-70ec-4dd4-97de-da6a0038aa0d\",\"type\":\"GlyphRenderer\"},{\"attributes\":{\"callback\":null,\"end\":0.01,\"start\":1020},\"id\":\"f2960015-2fe5-400f-b7ff-52eaa00cd4c7\",\"type\":\"Range1d\"},{\"attributes\":{\"line_alpha\":0.1,\"line_color\":\"#1f77b4\",\"line_dash\":[6],\"line_width\":5,\"x\":{\"field\":\"x\"},\"y\":{\"field\":\"y\"}},\"id\":\"12248975-adfc-4610-a433-f57596e72917\",\"type\":\"Line\"},{\"attributes\":{\"label\":{\"value\":\"CRD\"},\"renderers\":[{\"id\":\"bf66c9da-a0e3-406b-9aa4-6860c2f0442d\",\"type\":\"GlyphRenderer\"},{\"id\":\"f29248a6-6a7a-4d18-8543-d3d3879ba57c\",\"type\":\"GlyphRenderer\"}]},\"id\":\"a27043ca-2900-42ba-86fa-e435d9623e98\",\"type\":\"LegendItem\"},{\"attributes\":{\"overlay\":{\"id\":\"ec413035-ae51-46fe-89cc-8600b812c8d3\",\"type\":\"BoxAnnotation\"}},\"id\":\"663d1fe8-c8af-428b-8956-1a258fb62c45\",\"type\":\"BoxZoomTool\"},{\"attributes\":{\"line_alpha\":0.1,\"line_color\":\"#1f77b4\",\"line_width\":1.5,\"x\":{\"field\":\"x\"},\"y\":{\"field\":\"y\"}},\"id\":\"63822ed9-edc3-44a2-824d-f2ad32803194\",\"type\":\"Line\"},{\"attributes\":{\"callback\":null,\"column_names\":[\"x\",\"y\"],\"data\":{\"x\":{\"__ndarray__\":\"HWPfeDTaVT/V1z0xpxZVP+vzkGGAwVg/L8Zx9LlZWj9PmMslkPRbP0mvc3scmV0/5t0aEfpEXz+X+rH9735gP/gp+sPXXmE/3UpYX8lDYj+JHt97Cy1jP2PjsjStGWQ/pwUehZMHZT9Ulsn6UiJmP1EzGU860Wo/xVMSSDfxcj+zMqqk//l6P2IkmpFYioI/LpCy2+3OiD8fCU92oD+QP5SxN7dd9pQ/yb4fD2Eimj96MO+StPKbP1owbQ+t25k/xqC9QU50lj+cWLLzzlKSP5V2BQNR9Yw/K+rvTDhZhj+Z19LZCbOAPxWwLgFQ8nc/uPGUfSo6cD8SKNSvyodkP4ycCpu2xFc/LyNB5PCqRz93b5EGVQ8cPzv6tF2/8Da/DqPU6TZkQL+g3kuNdbc1vzf/9NtAoBo/TKa0uqUdRz8p0XG56s9gPxG5lez8hXw/yY7Ko9SLkT+jPX9WcKqgP0M2SVmq/qk/r4t6P3BAsj8VPPL416G4PzE3SiTy2b4/sETapZE/wT/s+dwBhZfDP8m8I51gA8c/4/mQ4Nsuyz/OabuuBHfPP+gE4cgLwtE/7mdGecXX0z9NEQEDGAHWP4MxhXsjQtg/xvCeJNl62j8/xIpDy3TcP4qD+H5yLd4/sV1v1VSa3z/1c3WNt1HgP/BEGFgqnOA/4wff4n6T4T8Rm34/65DhP6F3dG25xOA/7+OJnJXf3j9CSw0jc5vaP1QzMX6WvtY/p+C21/6l0z9GFpscXzfRP/GK2A7jwc4/bGzhP/5OzD8a52fR2GrLPw6c+fYqSdA/\",\"dtype\":\"float64\",\"shape\":[75]},\"y\":{\"__ndarray__\":\"S/O/Q+51ND/Sv8nbtpRIP2vylNV0PVE/aTum7souWD/At0SJ8fVgPw3Iuahxymc/MSNhhJWvcD/bTfBN02d3P2zb5nxnaoA/CD5h5MAGhz8NmeH1TyaQP+zrCsc9p5Y/LbKd76fGnz/bLW5ISEmmPww9YvTcQq8/JV2OstnstT8Er5Y7M8G+P0c+r3jqkcU/5h99k6ZBzj88bCIzFzjVP4enV8oyxN0//yH99nXg5D8qOpLLf0jtP5kqGJXUifQ/c9cS8kHP/D+/DpwzojQEQIEmwoanVwxA4lgXt9HgE0BSSZ2AJuIbQAMJih9jjiNA5q4l5INuK0AwTKYKRj0zQNv5fmq8/DpAaCJseHrtQkB/+zpwzoxKQM3MzMzMeFJAZmZmZmZqWEAAAAAAAFxeQM3MzMzMJmJAmpmZmZkfZUBmZmZmZhhoQDMzMzMzEWtAAAAAAAAKbkBmZmZmZoFwQM3MzMzM/XFAMzMzMzN6c0CamZmZmfZ0QAAAAAAAc3ZAZmZmZmbvd0DNzMzMzGt5QDMzMzMz6HpAmpmZmZlkfEAAAAAAAOF9QGZmZmZmXX9AZmZmZuZsgECamZmZGSuBQM3MzMxM6YFAAAAAAICngkAzMzMzs2WDQGZmZmbmI4RAmpmZmRnihEDNzMzMTKCFQAAAAACAXoZAMzMzM7Mch0BmZmZm5tqHQJqZmZkZmYhAzczMzExXiUAAAAAAgBWKQDMzMzOz04pAZmZmZuaRi0CamZmZGVCMQM3MzMxMDo1AAAAAAIDMjUAzMzMzs4qOQGZmZmbmSI9A\",\"dtype\":\"float64\",\"shape\":[75]}}},\"id\":\"25ad6fe4-58c5-4c19-a0d6-90750ebf7ca5\",\"type\":\"ColumnDataSource\"},{\"attributes\":{},\"id\":\"aa90a754-85ae-44fa-afb6-99bb6f070f4c\",\"type\":\"SaveTool\"},{\"attributes\":{\"callback\":null,\"column_names\":[\"x\",\"y\"],\"data\":{\"x\":{\"__ndarray__\":\"T13RvDW0Qz/BXp+L4j5FP9BIl3qrXUg/hl/oanG8Sz9ezodb2DpPP/XSRaioalE/Wu5QPWdFUz+k+BO19i5VP8vdrN+aJFc/cJFWGD0gWT9eTN64OC5bP3eULCLoOl0/iOSCOLG1Xj/Dwdrn3KVgP/ePZiRypWU/YeuZr2AMcT8VWqegUzZ6P3ENbXFm44I/Nd4t+zv8iT/XAGg+LkSRP7sKWXi/U5Y/0pCO/tmHmz/O3nyXEHucPxjrDG2v7pg/8YWyuEtXlD8C4J1R+g+PP8I47WacP4c/Nj8xeyh0gT/V4IzJemR6Py9R4I3jCHQ/zz/CM884bj+st3sxg1VmP5bB8hKl/l8/ilFwZcuhVT/oIUdPtPpDP0O5mShKdA2/C0SmTi9rN7+vbdvbsjwov4E2LOQOtjg/gHViONpWUz8PbXf7ondoP+Qs3mN/zYI/KKDDW2sYlT9p9KqbedyiPygRsycZ6qw/2mKvXuIbtD/rME987066P98PiYxYVcA/W1W8sofNwj8ze4/pv73FP+MVyrpmD8k/IjIPDUm1zD8+vABeE1DQP2SYj3slVtI/clAld5Zo1D+6wnlA8nHWP2+E4hrhZdg/A2VsS5E62j8buyPn7d3bP31R7ZlGT90/Jxtqb0t/3j9D1Z5I5kffPy2f/hYRg98/ET6M94Bs4D/b9uIwPSbgP0UhVVbLhN4/MSfkWh8c3D9VnZtX8Z3YP8f/FeBYo9U/YkSqQftF0z+CIeUGx1XRP7i4W8yuf88/he4OAIcWzT8J/MDZ1uTLP2vobvDoc9A/\",\"dtype\":\"float64\",\"shape\":[75]},\"y\":{\"__ndarray__\":\"GhExyth1ND/Sv8nbtpRIP2vylNV0PVE/aTum7souWD/At0SJ8fVgPw3Iuahxymc/MSNhhJWvcD/bTfBN02d3P2zb5nxnaoA/CD5h5MAGhz8NmeH1TyaQP+zrCsc9p5Y/LbKd76fGnz/bLW5ISEmmPww9YvTcQq8/JV2OstnstT8Er5Y7M8G+P0c+r3jqkcU/5h99k6ZBzj88bCIzFzjVP4enV8oyxN0//yH99nXg5D8qOpLLf0jtP5kqGJXUifQ/c9cS8kHP/D+/DpwzojQEQIEmwoanVwxA4lgXt9HgE0BSSZ2AJuIbQAMJih9jjiNA5q4l5INuK0AwTKYKRj0zQNv5fmq8/DpAaCJseHrtQkB/+zpwzoxKQM3MzMzMeFJAZmZmZmZqWEAAAAAAAFxeQM3MzMzMJmJAmpmZmZkfZUBmZmZmZhhoQDMzMzMzEWtAAAAAAAAKbkBmZmZmZoFwQM3MzMzM/XFAMzMzMzN6c0CamZmZmfZ0QAAAAAAAc3ZAZmZmZmbvd0DNzMzMzGt5QDMzMzMz6HpAmpmZmZlkfEAAAAAAAOF9QGZmZmZmXX9AZmZmZuZsgECamZmZGSuBQM3MzMxM6YFAAAAAAICngkAzMzMzs2WDQGZmZmbmI4RAmpmZmRnihEDNzMzMTKCFQAAAAACAXoZAMzMzM7Mch0BmZmZm5tqHQJqZmZkZmYhAzczMzExXiUAAAAAAgBWKQDMzMzOz04pAZmZmZuaRi0CamZmZGVCMQM3MzMxMDo1AAAAAAIDMjUAzMzMzs4qOQGZmZmbmSI9A\",\"dtype\":\"float64\",\"shape\":[75]}}},\"id\":\"2c7e3881-aae3-4947-89a8-0d27e193a639\",\"type\":\"ColumnDataSource\"},{\"attributes\":{\"callback\":null,\"column_names\":[\"x\",\"y\"],\"data\":{\"x\":{\"__ndarray__\":\"TCk7HAF3Uj94nccPdCdTP8uvv82ylFQ/YiCOo0b7VT/8IuS49YFXP8zHd1/BE1k/hBj9LtWwWj/3XCtIq1lcPzd5nFlVDl4/SLMcemrNXz8BeOLcMstgP5R7ce6PuGE/vHQGcfmtYj8/ERxZq+pjP05aME+MfGg/6apV+CzIcT8HjINzObl5P/Ycg7Li84E/X9Tdn75DiD/3Ni3XUv+PP5KNl4/krZQ/L9E3NtSrmT+23bWYYDebP7yNABpE1pg/Hwjm74w+lT8lh6LOaA2RPwEdDQeVk4o/QSKsclxVhD8w/wSXE29+P8kRBj20JnY/NVOJAIUtbz+15uSNvhNlP7q7N0vIX1s/881i2mSoUD9bF5pEjFE4P++fsHmPBCm/VNcuM0GyO7/4A4gWV3Ivv4J2OuLSSDM/sKqR4hBeUT/tTv/q0tpmP9DGPmgqJ4I/n2fK4E8FlT8DVS+NuRujP7SwptUxPq0/8SX5kI1OtD8HlcpLtay6P2md1WrpZ8A/xKpKZ31vwj8BiJBmwv/EP6oyIuqgQcg/YQLQYj4HzD/95AwD5/vPP1kji7AF79E/jmGhYXDl0z+sZG6OleLVPx/TsSvX5Nc/pcXd6Jva2T8QnP4JjqDbP/uQRlf4Kt0/uHhL32Jn3j9oTT4u10DfP3KuxAXlmd8/rb6FsIqT4D8rswaWnHHgP4wzfdk2Wd8/EZ1KfncI3T/LeTMXd27ZPzL4LGtSMtY/3+r950Sa0z92S8Gz13vRP3gSpzdKmM8/Zk/iczUqzT+oqlqzzR7MP2fQ1fWpmdA/\",\"dtype\":\"float64\",\"shape\":[75]},\"y\":{\"__ndarray__\":\"GhExyth1ND/Sv8nbtpRIP2vylNV0PVE/aTum7souWD/At0SJ8fVgPw3Iuahxymc/MSNhhJWvcD/bTfBN02d3P2zb5nxnaoA/CD5h5MAGhz8NmeH1TyaQP+zrCsc9p5Y/LbKd76fGnz/bLW5ISEmmPww9YvTcQq8/JV2OstnstT8Er5Y7M8G+P0c+r3jqkcU/5h99k6ZBzj88bCIzFzjVP4enV8oyxN0//yH99nXg5D8qOpLLf0jtP5kqGJXUifQ/c9cS8kHP/D+/DpwzojQEQIEmwoanVwxA4lgXt9HgE0BSSZ2AJuIbQAMJih9jjiNA5q4l5INuK0AwTKYKRj0zQNv5fmq8/DpAaCJseHrtQkB/+zpwzoxKQM3MzMzMeFJAZmZmZmZqWEAAAAAAAFxeQM3MzMzMJmJAmpmZmZkfZUBmZmZmZhhoQDMzMzMzEWtAAAAAAAAKbkBmZmZmZoFwQM3MzMzM/XFAMzMzMzN6c0CamZmZmfZ0QAAAAAAAc3ZAZmZmZmbvd0DNzMzMzGt5QDMzMzMz6HpAmpmZmZlkfEAAAAAAAOF9QGZmZmZmXX9AZmZmZuZsgECamZmZGSuBQM3MzMxM6YFAAAAAAICngkAzMzMzs2WDQGZmZmbmI4RAmpmZmRnihEDNzMzMTKCFQAAAAACAXoZAMzMzM7Mch0BmZmZm5tqHQJqZmZkZmYhAzczMzExXiUAAAAAAgBWKQDMzMzOz04pAZmZmZuaRi0CamZmZGVCMQM3MzMxMDo1AAAAAAIDMjUAzMzMzs4qOQGZmZmbmSI9A\",\"dtype\":\"float64\",\"shape\":[75]}}},\"id\":\"aa23527d-21eb-465d-9aec-f06756847458\",\"type\":\"ColumnDataSource\"},{\"attributes\":{\"callback\":null,\"column_names\":[\"x\",\"y\"],\"data\":{\"x\":{\"__ndarray__\":\"TCk7HAF3Uj94nccPdCdTP8uvv82ylFQ/YiCOo0b7VT/8IuS49YFXP8zHd1/BE1k/hBj9LtWwWj/3XCtIq1lcPzd5nFlVDl4/SLMcemrNXz8BeOLcMstgP5R7ce6PuGE/vHQGcfmtYj8/ERxZq+pjP05aME+MfGg/6apV+CzIcT8HjINzObl5P/Ycg7Li84E/X9Tdn75DiD/3Ni3XUv+PP5KNl4/krZQ/L9E3NtSrmT+23bWYYDebP7yNABpE1pg/Hwjm74w+lT8lh6LOaA2RPwEdDQeVk4o/QSKsclxVhD8w/wSXE29+P8kRBj20JnY/NVOJAIUtbz+15uSNvhNlP7q7N0vIX1s/881i2mSoUD9bF5pEjFE4P++fsHmPBCm/VNcuM0GyO7/4A4gWV3Ivv4J2OuLSSDM/sKqR4hBeUT/tTv/q0tpmP9DGPmgqJ4I/n2fK4E8FlT8DVS+NuRujP7SwptUxPq0/8SX5kI1OtD8HlcpLtay6P2md1WrpZ8A/xKpKZ31vwj8BiJBmwv/EP6oyIuqgQcg/YQLQYj4HzD/95AwD5/vPP1kji7AF79E/jmGhYXDl0z+sZG6OleLVPx/TsSvX5Nc/pcXd6Jva2T8QnP4JjqDbP/uQRlf4Kt0/uHhL32Jn3j9oTT4u10DfP3KuxAXlmd8/rb6FsIqT4D8rswaWnHHgP4wzfdk2Wd8/EZ1KfncI3T/LeTMXd27ZPzL4LGtSMtY/3+r950Sa0z92S8Gz13vRP3gSpzdKmM8/Zk/iczUqzT+oqlqzzR7MP2fQ1fWpmdA/\",\"dtype\":\"float64\",\"shape\":[75]},\"y\":{\"__ndarray__\":\"GhExyth1ND/Sv8nbtpRIP2vylNV0PVE/aTum7souWD/At0SJ8fVgPw3Iuahxymc/MSNhhJWvcD/bTfBN02d3P2zb5nxnaoA/CD5h5MAGhz8NmeH1TyaQP+zrCsc9p5Y/LbKd76fGnz/bLW5ISEmmPww9YvTcQq8/JV2OstnstT8Er5Y7M8G+P0c+r3jqkcU/5h99k6ZBzj88bCIzFzjVP4enV8oyxN0//yH99nXg5D8qOpLLf0jtP5kqGJXUifQ/c9cS8kHP/D+/DpwzojQEQIEmwoanVwxA4lgXt9HgE0BSSZ2AJuIbQAMJih9jjiNA5q4l5INuK0AwTKYKRj0zQNv5fmq8/DpAaCJseHrtQkB/+zpwzoxKQM3MzMzMeFJAZmZmZmZqWEAAAAAAAFxeQM3MzMzMJmJAmpmZmZkfZUBmZmZmZhhoQDMzMzMzEWtAAAAAAAAKbkBmZmZmZoFwQM3MzMzM/XFAMzMzMzN6c0CamZmZmfZ0QAAAAAAAc3ZAZmZmZmbvd0DNzMzMzGt5QDMzMzMz6HpAmpmZmZlkfEAAAAAAAOF9QGZmZmZmXX9AZmZmZuZsgECamZmZGSuBQM3MzMxM6YFAAAAAAICngkAzMzMzs2WDQGZmZmbmI4RAmpmZmRnihEDNzMzMTKCFQAAAAACAXoZAMzMzM7Mch0BmZmZm5tqHQJqZmZkZmYhAzczMzExXiUAAAAAAgBWKQDMzMzOz04pAZmZmZuaRi0CamZmZGVCMQM3MzMxMDo1AAAAAAIDMjUAzMzMzs4qOQGZmZmbmSI9A\",\"dtype\":\"float64\",\"shape\":[75]}}},\"id\":\"acddd848-96a8-4645-88e6-e2a62082c6a6\",\"type\":\"ColumnDataSource\"},{\"attributes\":{\"callback\":null,\"column_names\":[\"x\",\"y\"],\"data\":{\"x\":{\"__ndarray__\":\"TCk7HAF3Uj94nccPdCdTP8uvv82ylFQ/YiCOo0b7VT/8IuS49YFXP8zHd1/BE1k/hBj9LtWwWj/3XCtIq1lcPzd5nFlVDl4/SLMcemrNXz8BeOLcMstgP5R7ce6PuGE/vHQGcfmtYj8/ERxZq+pjP05aME+MfGg/6apV+CzIcT8HjINzObl5P/Ycg7Li84E/X9Tdn75DiD/3Ni3XUv+PP5KNl4/krZQ/L9E3NtSrmT+23bWYYDebP7yNABpE1pg/Hwjm74w+lT8lh6LOaA2RPwEdDQeVk4o/QSKsclxVhD8w/wSXE29+P8kRBj20JnY/NVOJAIUtbz+15uSNvhNlP7q7N0vIX1s/881i2mSoUD9bF5pEjFE4P++fsHmPBCm/VNcuM0GyO7/4A4gWV3Ivv4J2OuLSSDM/sKqR4hBeUT/tTv/q0tpmP9DGPmgqJ4I/n2fK4E8FlT8DVS+NuRujP7SwptUxPq0/8SX5kI1OtD8HlcpLtay6P2md1WrpZ8A/xKpKZ31vwj8BiJBmwv/EP6oyIuqgQcg/YQLQYj4HzD/95AwD5/vPP1kji7AF79E/jmGhYXDl0z+sZG6OleLVPx/TsSvX5Nc/pcXd6Jva2T8QnP4JjqDbP/uQRlf4Kt0/uHhL32Jn3j9oTT4u10DfP3KuxAXlmd8/rb6FsIqT4D8rswaWnHHgP4wzfdk2Wd8/EZ1KfncI3T/LeTMXd27ZPzL4LGtSMtY/3+r950Sa0z92S8Gz13vRP3gSpzdKmM8/Zk/iczUqzT+oqlqzzR7MP2fQ1fWpmdA/\",\"dtype\":\"float64\",\"shape\":[75]},\"y\":{\"__ndarray__\":\"GhExyth1ND/Sv8nbtpRIP2vylNV0PVE/aTum7souWD/At0SJ8fVgPw3Iuahxymc/MSNhhJWvcD/bTfBN02d3P2zb5nxnaoA/CD5h5MAGhz8NmeH1TyaQP+zrCsc9p5Y/LbKd76fGnz/bLW5ISEmmPww9YvTcQq8/JV2OstnstT8Er5Y7M8G+P0c+r3jqkcU/5h99k6ZBzj88bCIzFzjVP4enV8oyxN0//yH99nXg5D8qOpLLf0jtP5kqGJXUifQ/c9cS8kHP/D+/DpwzojQEQIEmwoanVwxA4lgXt9HgE0BSSZ2AJuIbQAMJih9jjiNA5q4l5INuK0AwTKYKRj0zQNv5fmq8/DpAaCJseHrtQkB/+zpwzoxKQM3MzMzMeFJAZmZmZmZqWEAAAAAAAFxeQM3MzMzMJmJAmpmZmZkfZUBmZmZmZhhoQDMzMzMzEWtAAAAAAAAKbkBmZmZmZoFwQM3MzMzM/XFAMzMzMzN6c0CamZmZmfZ0QAAAAAAAc3ZAZmZmZmbvd0DNzMzMzGt5QDMzMzMz6HpAmpmZmZlkfEAAAAAAAOF9QGZmZmZmXX9AZmZmZuZsgECamZmZGSuBQM3MzMxM6YFAAAAAAICngkAzMzMzs2WDQGZmZmbmI4RAmpmZmRnihEDNzMzMTKCFQAAAAACAXoZAMzMzM7Mch0BmZmZm5tqHQJqZmZkZmYhAzczMzExXiUAAAAAAgBWKQDMzMzOz04pAZmZmZuaRi0CamZmZGVCMQM3MzMxMDo1AAAAAAIDMjUAzMzMzs4qOQGZmZmbmSI9A\",\"dtype\":\"float64\",\"shape\":[75]}}},\"id\":\"fa303d7f-6a60-49bc-9116-52eda397c9fc\",\"type\":\"ColumnDataSource\"},{\"attributes\":{\"data_source\":{\"id\":\"25ad6fe4-58c5-4c19-a0d6-90750ebf7ca5\",\"type\":\"ColumnDataSource\"},\"glyph\":{\"id\":\"e8b4b9fd-c3b5-4a09-8a97-b61cecc343cb\",\"type\":\"Line\"},\"hover_glyph\":null,\"muted_glyph\":null,\"nonselection_glyph\":{\"id\":\"c1cf3efe-617a-4c2f-b492-63a9e1543f07\",\"type\":\"Line\"},\"selection_glyph\":null,\"view\":{\"id\":\"7e6d478a-6dcb-482b-847f-b60358c53367\",\"type\":\"CDSView\"}},\"id\":\"653e7325-a60d-4ee7-bcd1-85a559efe9b6\",\"type\":\"GlyphRenderer\"},{\"attributes\":{\"data_source\":{\"id\":\"9245554c-dfab-4107-9913-821611bba82d\",\"type\":\"ColumnDataSource\"},\"glyph\":{\"id\":\"4cad7160-cdc7-4ea9-bfdf-28f5a0cd3d5b\",\"type\":\"Circle\"},\"hover_glyph\":null,\"muted_glyph\":null,\"nonselection_glyph\":{\"id\":\"526aab96-4321-439e-9798-55c878c8c1fc\",\"type\":\"Circle\"},\"selection_glyph\":null,\"view\":{\"id\":\"2e4a6fff-a96f-4bda-b1ab-a6f6d32e8d88\",\"type\":\"CDSView\"}},\"id\":\"bf66c9da-a0e3-406b-9aa4-6860c2f0442d\",\"type\":\"GlyphRenderer\"},{\"attributes\":{\"callback\":null,\"column_names\":[\"x\",\"y\"],\"data\":{\"x\":{\"__ndarray__\":\"T13RvDW0Qz/BXp+L4j5FP9BIl3qrXUg/hl/oanG8Sz9ezodb2DpPP/XSRaioalE/Wu5QPWdFUz+k+BO19i5VP8vdrN+aJFc/cJFWGD0gWT9eTN64OC5bP3eULCLoOl0/iOSCOLG1Xj/Dwdrn3KVgP/ePZiRypWU/YeuZr2AMcT8VWqegUzZ6P3ENbXFm44I/Nd4t+zv8iT/XAGg+LkSRP7sKWXi/U5Y/0pCO/tmHmz/O3nyXEHucPxjrDG2v7pg/8YWyuEtXlD8C4J1R+g+PP8I47WacP4c/Nj8xeyh0gT/V4IzJemR6Py9R4I3jCHQ/zz/CM884bj+st3sxg1VmP5bB8hKl/l8/ilFwZcuhVT/oIUdPtPpDP0O5mShKdA2/C0SmTi9rN7+vbdvbsjwov4E2LOQOtjg/gHViONpWUz8PbXf7ondoP+Qs3mN/zYI/KKDDW2sYlT9p9KqbedyiPygRsycZ6qw/2mKvXuIbtD/rME987066P98PiYxYVcA/W1W8sofNwj8ze4/pv73FP+MVyrpmD8k/IjIPDUm1zD8+vABeE1DQP2SYj3slVtI/clAld5Zo1D+6wnlA8nHWP2+E4hrhZdg/A2VsS5E62j8buyPn7d3bP31R7ZlGT90/Jxtqb0t/3j9D1Z5I5kffPy2f/hYRg98/ET6M94Bs4D/b9uIwPSbgP0UhVVbLhN4/MSfkWh8c3D9VnZtX8Z3YP8f/FeBYo9U/YkSqQftF0z+CIeUGx1XRP7i4W8yuf88/he4OAIcWzT8J/MDZ1uTLP2vobvDoc9A/\",\"dtype\":\"float64\",\"shape\":[75]},\"y\":{\"__ndarray__\":\"GhExyth1ND/Sv8nbtpRIP2vylNV0PVE/aTum7souWD/At0SJ8fVgPw3Iuahxymc/MSNhhJWvcD/bTfBN02d3P2zb5nxnaoA/CD5h5MAGhz8NmeH1TyaQP+zrCsc9p5Y/LbKd76fGnz/bLW5ISEmmPww9YvTcQq8/JV2OstnstT8Er5Y7M8G+P0c+r3jqkcU/5h99k6ZBzj88bCIzFzjVP4enV8oyxN0//yH99nXg5D8qOpLLf0jtP5kqGJXUifQ/c9cS8kHP/D+/DpwzojQEQIEmwoanVwxA4lgXt9HgE0BSSZ2AJuIbQAMJih9jjiNA5q4l5INuK0AwTKYKRj0zQNv5fmq8/DpAaCJseHrtQkB/+zpwzoxKQM3MzMzMeFJAZmZmZmZqWEAAAAAAAFxeQM3MzMzMJmJAmpmZmZkfZUBmZmZmZhhoQDMzMzMzEWtAAAAAAAAKbkBmZmZmZoFwQM3MzMzM/XFAMzMzMzN6c0CamZmZmfZ0QAAAAAAAc3ZAZmZmZmbvd0DNzMzMzGt5QDMzMzMz6HpAmpmZmZlkfEAAAAAAAOF9QGZmZmZmXX9AZmZmZuZsgECamZmZGSuBQM3MzMxM6YFAAAAAAICngkAzMzMzs2WDQGZmZmbmI4RAmpmZmRnihEDNzMzMTKCFQAAAAACAXoZAMzMzM7Mch0BmZmZm5tqHQJqZmZkZmYhAzczMzExXiUAAAAAAgBWKQDMzMzOz04pAZmZmZuaRi0CamZmZGVCMQM3MzMxMDo1AAAAAAIDMjUAzMzMzs4qOQGZmZmbmSI9A\",\"dtype\":\"float64\",\"shape\":[75]}}},\"id\":\"9245554c-dfab-4107-9913-821611bba82d\",\"type\":\"ColumnDataSource\"},{\"attributes\":{},\"id\":\"34a34687-c405-4d46-a33e-c03cb42458e9\",\"type\":\"ResetTool\"},{\"attributes\":{\"source\":{\"id\":\"f642eeaf-de4c-432e-b331-5b6c935d4a8b\",\"type\":\"ColumnDataSource\"}},\"id\":\"7d278007-6893-4294-be0e-1256bfb1d184\",\"type\":\"CDSView\"},{\"attributes\":{\"fill_alpha\":{\"value\":0.7},\"fill_color\":{\"value\":\"#4daf4a\"},\"line_alpha\":{\"value\":0.7},\"line_color\":{\"value\":\"#4daf4a\"},\"x\":{\"field\":\"x\"},\"y\":{\"field\":\"y\"}},\"id\":\"4cad7160-cdc7-4ea9-bfdf-28f5a0cd3d5b\",\"type\":\"Circle\"},{\"attributes\":{\"source\":{\"id\":\"c0dffb3d-ca30-4b4d-bdd2-f25f47bda087\",\"type\":\"ColumnDataSource\"}},\"id\":\"0fbd9d0c-a591-4910-9089-47a13ebf50c2\",\"type\":\"CDSView\"},{\"attributes\":{\"line_alpha\":0.1,\"line_color\":\"#1f77b4\",\"line_width\":3,\"x\":{\"field\":\"x\"},\"y\":{\"field\":\"y\"}},\"id\":\"03a6fdff-7dcb-47fd-8864-56c4153a8f53\",\"type\":\"Line\"},{\"attributes\":{\"fill_alpha\":{\"value\":0.1},\"fill_color\":{\"value\":\"#1f77b4\"},\"line_alpha\":{\"value\":0.1},\"line_color\":{\"value\":\"#1f77b4\"},\"x\":{\"field\":\"x\"},\"y\":{\"field\":\"y\"}},\"id\":\"526aab96-4321-439e-9798-55c878c8c1fc\",\"type\":\"Circle\"},{\"attributes\":{},\"id\":\"4545af10-760e-482e-9c66-119844157c90\",\"type\":\"HelpTool\"},{\"attributes\":{\"source\":{\"id\":\"9245554c-dfab-4107-9913-821611bba82d\",\"type\":\"ColumnDataSource\"}},\"id\":\"2e4a6fff-a96f-4bda-b1ab-a6f6d32e8d88\",\"type\":\"CDSView\"},{\"attributes\":{\"fill_alpha\":{\"value\":0.1},\"fill_color\":{\"value\":\"#1f77b4\"},\"line_alpha\":{\"value\":0.1},\"line_color\":{\"value\":\"#1f77b4\"},\"x\":{\"field\":\"x\"},\"y\":{\"field\":\"y\"}},\"id\":\"e2ee4954-815d-411c-9669-b9a9c828f7be\",\"type\":\"Square\"},{\"attributes\":{\"data_source\":{\"id\":\"acddd848-96a8-4645-88e6-e2a62082c6a6\",\"type\":\"ColumnDataSource\"},\"glyph\":{\"id\":\"1b073c4b-7431-4114-8515-4c89bc2ba6eb\",\"type\":\"Square\"},\"hover_glyph\":null,\"muted_glyph\":null,\"nonselection_glyph\":{\"id\":\"e2ee4954-815d-411c-9669-b9a9c828f7be\",\"type\":\"Square\"},\"selection_glyph\":null,\"view\":{\"id\":\"059aaf12-3238-4801-968d-d3f088de39fa\",\"type\":\"CDSView\"}},\"id\":\"447e7ac7-c252-4d5c-9e63-2c601f825f63\",\"type\":\"GlyphRenderer\"},{\"attributes\":{\"line_color\":\"#4daf4a\",\"line_width\":1.5,\"x\":{\"field\":\"x\"},\"y\":{\"field\":\"y\"}},\"id\":\"47cc34d2-ace1-4e71-a350-f835942f0008\",\"type\":\"Line\"},{\"attributes\":{\"callback\":null,\"end\":0.0280963393275,\"start\":-0.0007833620775},\"id\":\"22bedc66-6a75-4909-b7fc-83c0f73af2a3\",\"type\":\"Range1d\"},{\"attributes\":{\"data_source\":{\"id\":\"18784725-7ee1-4957-a3d9-58c3e0b7e423\",\"type\":\"ColumnDataSource\"},\"glyph\":{\"id\":\"3f82f8be-3b9f-4166-b17e-a95559dc6129\",\"type\":\"Line\"},\"hover_glyph\":null,\"muted_glyph\":null,\"nonselection_glyph\":{\"id\":\"03a6fdff-7dcb-47fd-8864-56c4153a8f53\",\"type\":\"Line\"},\"selection_glyph\":null,\"view\":{\"id\":\"df85e8c1-4c2a-4489-84f8-fa569a055ba3\",\"type\":\"CDSView\"}},\"id\":\"b76736b9-fb8d-466b-ac7b-48e13780ba91\",\"type\":\"GlyphRenderer\"},{\"attributes\":{\"data_source\":{\"id\":\"2c7e3881-aae3-4947-89a8-0d27e193a639\",\"type\":\"ColumnDataSource\"},\"glyph\":{\"id\":\"47cc34d2-ace1-4e71-a350-f835942f0008\",\"type\":\"Line\"},\"hover_glyph\":null,\"muted_glyph\":null,\"nonselection_glyph\":{\"id\":\"b318eb04-325b-4fad-8fa2-5aa9b14212dc\",\"type\":\"Line\"},\"selection_glyph\":null,\"view\":{\"id\":\"215caa13-7ae8-4861-b79e-5587eb273286\",\"type\":\"CDSView\"}},\"id\":\"f29248a6-6a7a-4d18-8543-d3d3879ba57c\",\"type\":\"GlyphRenderer\"},{\"attributes\":{\"line_alpha\":0.1,\"line_color\":\"#1f77b4\",\"line_width\":1.5,\"x\":{\"field\":\"x\"},\"y\":{\"field\":\"y\"}},\"id\":\"b318eb04-325b-4fad-8fa2-5aa9b14212dc\",\"type\":\"Line\"},{\"attributes\":{\"active_drag\":\"auto\",\"active_inspect\":\"auto\",\"active_scroll\":\"auto\",\"active_tap\":\"auto\",\"tools\":[{\"id\":\"34e0a2a8-0821-4ae8-ab69-fad7116b5cc0\",\"type\":\"PanTool\"},{\"id\":\"5bd94d42-7ef8-41a9-b30a-dcf4e7bcdcfc\",\"type\":\"WheelZoomTool\"},{\"id\":\"7dd9ca53-4932-4dab-becd-7fa27047ccd4\",\"type\":\"BoxZoomTool\"},{\"id\":\"a57460f0-0f88-4213-a427-10e958db01c4\",\"type\":\"SaveTool\"},{\"id\":\"43b248a5-3ea5-4789-8b44-cb4b93c2459f\",\"type\":\"ResetTool\"},{\"id\":\"b6f80593-5be6-4ba8-8734-6ea7bdd6e64c\",\"type\":\"HelpTool\"}]},\"id\":\"d77b5b2d-775d-45f3-a743-c0b4e95ee1e7\",\"type\":\"Toolbar\"},{\"attributes\":{\"source\":{\"id\":\"2c7e3881-aae3-4947-89a8-0d27e193a639\",\"type\":\"ColumnDataSource\"}},\"id\":\"215caa13-7ae8-4861-b79e-5587eb273286\",\"type\":\"CDSView\"},{\"attributes\":{\"below\":[{\"id\":\"20c04398-7f59-45e5-9534-e7690605a2bb\",\"type\":\"LinearAxis\"}],\"left\":[{\"id\":\"3cd5782e-c5fd-4a47-baa0-83c27545de7c\",\"type\":\"LinearAxis\"}],\"plot_height\":500,\"plot_width\":400,\"renderers\":[{\"id\":\"20c04398-7f59-45e5-9534-e7690605a2bb\",\"type\":\"LinearAxis\"},{\"id\":\"390e0065-e50b-4de6-a3e1-d715662333e4\",\"type\":\"Grid\"},{\"id\":\"3cd5782e-c5fd-4a47-baa0-83c27545de7c\",\"type\":\"LinearAxis\"},{\"id\":\"14c0e06a-f4ba-4305-baee-b02e807038e1\",\"type\":\"Grid\"},{\"id\":\"ec413035-ae51-46fe-89cc-8600b812c8d3\",\"type\":\"BoxAnnotation\"},{\"id\":\"653e7325-a60d-4ee7-bcd1-85a559efe9b6\",\"type\":\"GlyphRenderer\"},{\"id\":\"ef2d9e11-abee-429d-bf59-b83bec7b022f\",\"type\":\"GlyphRenderer\"},{\"id\":\"2308b6fd-28c9-4992-8fcc-f8cfe9dc6659\",\"type\":\"GlyphRenderer\"},{\"id\":\"447e7ac7-c252-4d5c-9e63-2c601f825f63\",\"type\":\"GlyphRenderer\"},{\"id\":\"b76736b9-fb8d-466b-ac7b-48e13780ba91\",\"type\":\"GlyphRenderer\"}],\"title\":{\"id\":\"50bbab35-7323-45a1-8ef3-f974641376c8\",\"type\":\"Title\"},\"toolbar\":{\"id\":\"e4e577bd-85f5-4586-b353-3f3fde33aec2\",\"type\":\"Toolbar\"},\"toolbar_location\":null,\"x_range\":{\"id\":\"a5a2195b-cb8f-4317-89fe-d2eb8ab741b9\",\"type\":\"Range1d\"},\"x_scale\":{\"id\":\"801fba79-d27e-45c3-8ec9-dd69d0b0d7e0\",\"type\":\"LinearScale\"},\"y_range\":{\"id\":\"52a6b5b8-dd09-4321-817d-24e18253a800\",\"type\":\"Range1d\"},\"y_scale\":{\"id\":\"5e70f34e-b7b9-49ee-8a43-6ba6821c20de\",\"type\":\"LinearScale\"}},\"id\":\"9ab4140e-489f-428c-8b9b-93e5a4fbadfa\",\"subtype\":\"Figure\",\"type\":\"Plot\"},{\"attributes\":{\"source\":{\"id\":\"acddd848-96a8-4645-88e6-e2a62082c6a6\",\"type\":\"ColumnDataSource\"}},\"id\":\"059aaf12-3238-4801-968d-d3f088de39fa\",\"type\":\"CDSView\"},{\"attributes\":{\"fill_alpha\":{\"value\":0.7},\"fill_color\":{\"value\":\"#984ea3\"},\"line_alpha\":{\"value\":0.7},\"line_color\":{\"value\":\"#984ea3\"},\"x\":{\"field\":\"x\"},\"y\":{\"field\":\"y\"}},\"id\":\"b79c528f-aee5-4d15-a171-30d1f160c648\",\"type\":\"Square\"},{\"attributes\":{\"data_source\":{\"id\":\"f642eeaf-de4c-432e-b331-5b6c935d4a8b\",\"type\":\"ColumnDataSource\"},\"glyph\":{\"id\":\"884d1295-d9db-43c8-8cb2-2a1129b046c7\",\"type\":\"Line\"},\"hover_glyph\":null,\"muted_glyph\":null,\"nonselection_glyph\":{\"id\":\"63822ed9-edc3-44a2-824d-f2ad32803194\",\"type\":\"Line\"},\"selection_glyph\":null,\"view\":{\"id\":\"7d278007-6893-4294-be0e-1256bfb1d184\",\"type\":\"CDSView\"}},\"id\":\"2308b6fd-28c9-4992-8fcc-f8cfe9dc6659\",\"type\":\"GlyphRenderer\"},{\"attributes\":{\"line_alpha\":0.6,\"line_color\":\"#984ea3\",\"line_width\":3,\"x\":{\"field\":\"x\"},\"y\":{\"field\":\"y\"}},\"id\":\"9682cff1-0c28-48a6-a6c4-a7a7a8a4c22b\",\"type\":\"Line\"},{\"attributes\":{\"source\":{\"id\":\"aa23527d-21eb-465d-9aec-f06756847458\",\"type\":\"ColumnDataSource\"}},\"id\":\"20554c0a-6d08-4af9-96cd-75dc2a3b941c\",\"type\":\"CDSView\"},{\"attributes\":{\"callback\":null,\"end\":0.5547523906775,\"start\":-0.005997778427500001},\"id\":\"a5a2195b-cb8f-4317-89fe-d2eb8ab741b9\",\"type\":\"Range1d\"},{\"attributes\":{\"dimension\":1,\"plot\":{\"id\":\"a69c2cc1-df5e-4331-bd98-c33f2faeacd5\",\"subtype\":\"Figure\",\"type\":\"Plot\"},\"ticker\":{\"id\":\"3fa3f764-43a0-4f95-be77-f756b12b1ef5\",\"type\":\"LogTicker\"}},\"id\":\"8c8f3117-533a-4cab-945c-9e88fe103e7e\",\"type\":\"Grid\"},{\"attributes\":{\"fill_alpha\":{\"value\":0.1},\"fill_color\":{\"value\":\"#1f77b4\"},\"line_alpha\":{\"value\":0.1},\"line_color\":{\"value\":\"#1f77b4\"},\"x\":{\"field\":\"x\"},\"y\":{\"field\":\"y\"}},\"id\":\"f293961b-c70a-46bf-b3fe-a085f77b1d4a\",\"type\":\"Circle\"},{\"attributes\":{},\"id\":\"5e70f34e-b7b9-49ee-8a43-6ba6821c20de\",\"type\":\"LinearScale\"},{\"attributes\":{\"data_source\":{\"id\":\"aa23527d-21eb-465d-9aec-f06756847458\",\"type\":\"ColumnDataSource\"},\"glyph\":{\"id\":\"b79c528f-aee5-4d15-a171-30d1f160c648\",\"type\":\"Square\"},\"hover_glyph\":null,\"muted_glyph\":null,\"nonselection_glyph\":{\"id\":\"5a62068b-0507-494e-9971-c91cd883f94a\",\"type\":\"Square\"},\"selection_glyph\":null,\"view\":{\"id\":\"20554c0a-6d08-4af9-96cd-75dc2a3b941c\",\"type\":\"CDSView\"}},\"id\":\"763ca625-392d-45c8-bc25-ab3580f51a44\",\"type\":\"GlyphRenderer\"},{\"attributes\":{\"fill_alpha\":{\"value\":0.1},\"fill_color\":{\"value\":\"#1f77b4\"},\"line_alpha\":{\"value\":0.1},\"line_color\":{\"value\":\"#1f77b4\"},\"x\":{\"field\":\"x\"},\"y\":{\"field\":\"y\"}},\"id\":\"5a62068b-0507-494e-9971-c91cd883f94a\",\"type\":\"Square\"},{\"attributes\":{\"items\":[{\"id\":\"4f5b0cb5-58f0-465d-98b5-b3b1b3aed67f\",\"type\":\"LegendItem\"},{\"id\":\"a27043ca-2900-42ba-86fa-e435d9623e98\",\"type\":\"LegendItem\"},{\"id\":\"872373fd-ea2f-4993-90d1-f6519428855d\",\"type\":\"LegendItem\"}],\"label_text_font_size\":{\"value\":\"8pt\"},\"location\":[10,-30],\"plot\":{\"id\":\"a69c2cc1-df5e-4331-bd98-c33f2faeacd5\",\"subtype\":\"Figure\",\"type\":\"Plot\"}},\"id\":\"095bef55-74b4-461a-b244-f580e3cc0849\",\"type\":\"Legend\"},{\"attributes\":{\"callback\":null,\"end\":0.01,\"start\":1020},\"id\":\"52a6b5b8-dd09-4321-817d-24e18253a800\",\"type\":\"Range1d\"},{\"attributes\":{\"source\":{\"id\":\"fa303d7f-6a60-49bc-9116-52eda397c9fc\",\"type\":\"ColumnDataSource\"}},\"id\":\"af595284-cdc9-4bed-93c2-21b2c76458bb\",\"type\":\"CDSView\"},{\"attributes\":{\"line_alpha\":0.1,\"line_color\":\"#1f77b4\",\"line_width\":3,\"x\":{\"field\":\"x\"},\"y\":{\"field\":\"y\"}},\"id\":\"ef520a5d-a106-450d-aadb-8e0c2f625d35\",\"type\":\"Line\"},{\"attributes\":{\"data_source\":{\"id\":\"fa303d7f-6a60-49bc-9116-52eda397c9fc\",\"type\":\"ColumnDataSource\"},\"glyph\":{\"id\":\"9682cff1-0c28-48a6-a6c4-a7a7a8a4c22b\",\"type\":\"Line\"},\"hover_glyph\":null,\"muted_glyph\":null,\"nonselection_glyph\":{\"id\":\"ef520a5d-a106-450d-aadb-8e0c2f625d35\",\"type\":\"Line\"},\"selection_glyph\":null,\"view\":{\"id\":\"af595284-cdc9-4bed-93c2-21b2c76458bb\",\"type\":\"CDSView\"}},\"id\":\"b0b77f09-2aa6-4c60-ab29-983387f8a0ba\",\"type\":\"GlyphRenderer\"},{\"attributes\":{\"toolbar\":{\"id\":\"664fae28-9691-4b1e-a57a-0c9c484492b8\",\"type\":\"ProxyToolbar\"},\"toolbar_location\":\"above\"},\"id\":\"585681b7-2a45-45b4-853c-c54d8d06c299\",\"type\":\"ToolbarBox\"},{\"attributes\":{\"fill_alpha\":{\"value\":0.7},\"fill_color\":{\"value\":\"#984ea3\"},\"line_alpha\":{\"value\":0.7},\"line_color\":{\"value\":\"#984ea3\"},\"x\":{\"field\":\"x\"},\"y\":{\"field\":\"y\"}},\"id\":\"1b073c4b-7431-4114-8515-4c89bc2ba6eb\",\"type\":\"Square\"},{\"attributes\":{\"line_color\":\"#4daf4a\",\"line_width\":1.5,\"x\":{\"field\":\"x\"},\"y\":{\"field\":\"y\"}},\"id\":\"884d1295-d9db-43c8-8cb2-2a1129b046c7\",\"type\":\"Line\"},{\"attributes\":{\"label\":{\"value\":\"CLIRAD `coolr_bands`\"},\"renderers\":[{\"id\":\"f6715a8c-70ec-4dd4-97de-da6a0038aa0d\",\"type\":\"GlyphRenderer\"}]},\"id\":\"4f5b0cb5-58f0-465d-98b5-b3b1b3aed67f\",\"type\":\"LegendItem\"},{\"attributes\":{\"plot\":null,\"text\":\"Log pressure scale\"},\"id\":\"9be8e672-18ea-48b0-8da8-fc3ceac9f653\",\"type\":\"Title\"},{\"attributes\":{\"children\":[{\"id\":\"585681b7-2a45-45b4-853c-c54d8d06c299\",\"type\":\"ToolbarBox\"},{\"id\":\"40281c78-4405-4ea9-9a63-c746e8d2d35c\",\"type\":\"Column\"}]},\"id\":\"88fb6416-4cf5-42be-9952-5fa87650bdbf\",\"type\":\"Column\"},{\"attributes\":{\"axis_label\":\"pressure [mb]\",\"formatter\":{\"id\":\"5784b286-9d9c-40f0-814d-744ed38b6a0b\",\"type\":\"BasicTickFormatter\"},\"plot\":{\"id\":\"9ab4140e-489f-428c-8b9b-93e5a4fbadfa\",\"subtype\":\"Figure\",\"type\":\"Plot\"},\"ticker\":{\"id\":\"f17f35db-14c7-43b7-8fef-b7535ea5c0a0\",\"type\":\"BasicTicker\"}},\"id\":\"3cd5782e-c5fd-4a47-baa0-83c27545de7c\",\"type\":\"LinearAxis\"},{\"attributes\":{\"line_alpha\":0.6,\"line_color\":\"#984ea3\",\"line_width\":3,\"x\":{\"field\":\"x\"},\"y\":{\"field\":\"y\"}},\"id\":\"3f82f8be-3b9f-4166-b17e-a95559dc6129\",\"type\":\"Line\"},{\"attributes\":{\"callback\":null,\"column_names\":[\"x\",\"y\"],\"data\":{\"x\":{\"__ndarray__\":\"T13RvDW0Qz/BXp+L4j5FP9BIl3qrXUg/hl/oanG8Sz9ezodb2DpPP/XSRaioalE/Wu5QPWdFUz+k+BO19i5VP8vdrN+aJFc/cJFWGD0gWT9eTN64OC5bP3eULCLoOl0/iOSCOLG1Xj/Dwdrn3KVgP/ePZiRypWU/YeuZr2AMcT8VWqegUzZ6P3ENbXFm44I/Nd4t+zv8iT/XAGg+LkSRP7sKWXi/U5Y/0pCO/tmHmz/O3nyXEHucPxjrDG2v7pg/8YWyuEtXlD8C4J1R+g+PP8I47WacP4c/Nj8xeyh0gT/V4IzJemR6Py9R4I3jCHQ/zz/CM884bj+st3sxg1VmP5bB8hKl/l8/ilFwZcuhVT/oIUdPtPpDP0O5mShKdA2/C0SmTi9rN7+vbdvbsjwov4E2LOQOtjg/gHViONpWUz8PbXf7ondoP+Qs3mN/zYI/KKDDW2sYlT9p9KqbedyiPygRsycZ6qw/2mKvXuIbtD/rME987066P98PiYxYVcA/W1W8sofNwj8ze4/pv73FP+MVyrpmD8k/IjIPDUm1zD8+vABeE1DQP2SYj3slVtI/clAld5Zo1D+6wnlA8nHWP2+E4hrhZdg/A2VsS5E62j8buyPn7d3bP31R7ZlGT90/Jxtqb0t/3j9D1Z5I5kffPy2f/hYRg98/ET6M94Bs4D/b9uIwPSbgP0UhVVbLhN4/MSfkWh8c3D9VnZtX8Z3YP8f/FeBYo9U/YkSqQftF0z+CIeUGx1XRP7i4W8yuf88/he4OAIcWzT8J/MDZ1uTLP2vobvDoc9A/\",\"dtype\":\"float64\",\"shape\":[75]},\"y\":{\"__ndarray__\":\"GhExyth1ND/Sv8nbtpRIP2vylNV0PVE/aTum7souWD/At0SJ8fVgPw3Iuahxymc/MSNhhJWvcD/bTfBN02d3P2zb5nxnaoA/CD5h5MAGhz8NmeH1TyaQP+zrCsc9p5Y/LbKd76fGnz/bLW5ISEmmPww9YvTcQq8/JV2OstnstT8Er5Y7M8G+P0c+r3jqkcU/5h99k6ZBzj88bCIzFzjVP4enV8oyxN0//yH99nXg5D8qOpLLf0jtP5kqGJXUifQ/c9cS8kHP/D+/DpwzojQEQIEmwoanVwxA4lgXt9HgE0BSSZ2AJuIbQAMJih9jjiNA5q4l5INuK0AwTKYKRj0zQNv5fmq8/DpAaCJseHrtQkB/+zpwzoxKQM3MzMzMeFJAZmZmZmZqWEAAAAAAAFxeQM3MzMzMJmJAmpmZmZkfZUBmZmZmZhhoQDMzMzMzEWtAAAAAAAAKbkBmZmZmZoFwQM3MzMzM/XFAMzMzMzN6c0CamZmZmfZ0QAAAAAAAc3ZAZmZmZmbvd0DNzMzMzGt5QDMzMzMz6HpAmpmZmZlkfEAAAAAAAOF9QGZmZmZmXX9AZmZmZuZsgECamZmZGSuBQM3MzMxM6YFAAAAAAICngkAzMzMzs2WDQGZmZmbmI4RAmpmZmRnihEDNzMzMTKCFQAAAAACAXoZAMzMzM7Mch0BmZmZm5tqHQJqZmZkZmYhAzczMzExXiUAAAAAAgBWKQDMzMzOz04pAZmZmZuaRi0CamZmZGVCMQM3MzMxMDo1AAAAAAIDMjUAzMzMzs4qOQGZmZmbmSI9A\",\"dtype\":\"float64\",\"shape\":[75]}}},\"id\":\"c0dffb3d-ca30-4b4d-bdd2-f25f47bda087\",\"type\":\"ColumnDataSource\"},{\"attributes\":{},\"id\":\"4d0cb02c-c5ba-4a0b-ab45-f4d43c16bcc4\",\"type\":\"WheelZoomTool\"},{\"attributes\":{},\"id\":\"5784b286-9d9c-40f0-814d-744ed38b6a0b\",\"type\":\"BasicTickFormatter\"},{\"attributes\":{},\"id\":\"801fba79-d27e-45c3-8ec9-dd69d0b0d7e0\",\"type\":\"LinearScale\"},{\"attributes\":{},\"id\":\"4310054f-6725-4d51-af36-236a666b24be\",\"type\":\"BasicTickFormatter\"},{\"attributes\":{},\"id\":\"ee5d5de7-a63a-479b-8b62-dcb8dd4abd3d\",\"type\":\"BasicTicker\"},{\"attributes\":{\"active_drag\":\"auto\",\"active_inspect\":\"auto\",\"active_scroll\":\"auto\",\"active_tap\":\"auto\",\"tools\":[{\"id\":\"a5c7fb52-4da2-408d-a47f-62b50b365bd9\",\"type\":\"PanTool\"},{\"id\":\"4d0cb02c-c5ba-4a0b-ab45-f4d43c16bcc4\",\"type\":\"WheelZoomTool\"},{\"id\":\"663d1fe8-c8af-428b-8956-1a258fb62c45\",\"type\":\"BoxZoomTool\"},{\"id\":\"aa90a754-85ae-44fa-afb6-99bb6f070f4c\",\"type\":\"SaveTool\"},{\"id\":\"34a34687-c405-4d46-a33e-c03cb42458e9\",\"type\":\"ResetTool\"},{\"id\":\"4545af10-760e-482e-9c66-119844157c90\",\"type\":\"HelpTool\"}]},\"id\":\"e4e577bd-85f5-4586-b353-3f3fde33aec2\",\"type\":\"Toolbar\"},{\"attributes\":{\"axis_label\":\"cooling rate [K/day]\",\"formatter\":{\"id\":\"9f660805-7590-44e4-9e3d-3483b92f25f6\",\"type\":\"BasicTickFormatter\"},\"plot\":{\"id\":\"9ab4140e-489f-428c-8b9b-93e5a4fbadfa\",\"subtype\":\"Figure\",\"type\":\"Plot\"},\"ticker\":{\"id\":\"ee5d5de7-a63a-479b-8b62-dcb8dd4abd3d\",\"type\":\"BasicTicker\"}},\"id\":\"20c04398-7f59-45e5-9534-e7690605a2bb\",\"type\":\"LinearAxis\"},{\"attributes\":{\"plot\":{\"id\":\"9ab4140e-489f-428c-8b9b-93e5a4fbadfa\",\"subtype\":\"Figure\",\"type\":\"Plot\"},\"ticker\":{\"id\":\"ee5d5de7-a63a-479b-8b62-dcb8dd4abd3d\",\"type\":\"BasicTicker\"}},\"id\":\"390e0065-e50b-4de6-a3e1-d715662333e4\",\"type\":\"Grid\"},{\"attributes\":{\"data_source\":{\"id\":\"c0dffb3d-ca30-4b4d-bdd2-f25f47bda087\",\"type\":\"ColumnDataSource\"},\"glyph\":{\"id\":\"50e94236-3dcc-4552-966f-2decb5ce9261\",\"type\":\"Circle\"},\"hover_glyph\":null,\"muted_glyph\":null,\"nonselection_glyph\":{\"id\":\"f293961b-c70a-46bf-b3fe-a085f77b1d4a\",\"type\":\"Circle\"},\"selection_glyph\":null,\"view\":{\"id\":\"0fbd9d0c-a591-4910-9089-47a13ebf50c2\",\"type\":\"CDSView\"}},\"id\":\"ef2d9e11-abee-429d-bf59-b83bec7b022f\",\"type\":\"GlyphRenderer\"},{\"attributes\":{},\"id\":\"a5c7fb52-4da2-408d-a47f-62b50b365bd9\",\"type\":\"PanTool\"},{\"attributes\":{\"callback\":null,\"column_names\":[\"x\",\"y\"],\"data\":{\"x\":{\"__ndarray__\":\"TCk7HAF3Uj94nccPdCdTP8uvv82ylFQ/YiCOo0b7VT/8IuS49YFXP8zHd1/BE1k/hBj9LtWwWj/3XCtIq1lcPzd5nFlVDl4/SLMcemrNXz8BeOLcMstgP5R7ce6PuGE/vHQGcfmtYj8/ERxZq+pjP05aME+MfGg/6apV+CzIcT8HjINzObl5P/Ycg7Li84E/X9Tdn75DiD/3Ni3XUv+PP5KNl4/krZQ/L9E3NtSrmT+23bWYYDebP7yNABpE1pg/Hwjm74w+lT8lh6LOaA2RPwEdDQeVk4o/QSKsclxVhD8w/wSXE29+P8kRBj20JnY/NVOJAIUtbz+15uSNvhNlP7q7N0vIX1s/881i2mSoUD9bF5pEjFE4P++fsHmPBCm/VNcuM0GyO7/4A4gWV3Ivv4J2OuLSSDM/sKqR4hBeUT/tTv/q0tpmP9DGPmgqJ4I/n2fK4E8FlT8DVS+NuRujP7SwptUxPq0/8SX5kI1OtD8HlcpLtay6P2md1WrpZ8A/xKpKZ31vwj8BiJBmwv/EP6oyIuqgQcg/YQLQYj4HzD/95AwD5/vPP1kji7AF79E/jmGhYXDl0z+sZG6OleLVPx/TsSvX5Nc/pcXd6Jva2T8QnP4JjqDbP/uQRlf4Kt0/uHhL32Jn3j9oTT4u10DfP3KuxAXlmd8/rb6FsIqT4D8rswaWnHHgP4wzfdk2Wd8/EZ1KfncI3T/LeTMXd27ZPzL4LGtSMtY/3+r950Sa0z92S8Gz13vRP3gSpzdKmM8/Zk/iczUqzT+oqlqzzR7MP2fQ1fWpmdA/\",\"dtype\":\"float64\",\"shape\":[75]},\"y\":{\"__ndarray__\":\"GhExyth1ND/Sv8nbtpRIP2vylNV0PVE/aTum7souWD/At0SJ8fVgPw3Iuahxymc/MSNhhJWvcD/bTfBN02d3P2zb5nxnaoA/CD5h5MAGhz8NmeH1TyaQP+zrCsc9p5Y/LbKd76fGnz/bLW5ISEmmPww9YvTcQq8/JV2OstnstT8Er5Y7M8G+P0c+r3jqkcU/5h99k6ZBzj88bCIzFzjVP4enV8oyxN0//yH99nXg5D8qOpLLf0jtP5kqGJXUifQ/c9cS8kHP/D+/DpwzojQEQIEmwoanVwxA4lgXt9HgE0BSSZ2AJuIbQAMJih9jjiNA5q4l5INuK0AwTKYKRj0zQNv5fmq8/DpAaCJseHrtQkB/+zpwzoxKQM3MzMzMeFJAZmZmZmZqWEAAAAAAAFxeQM3MzMzMJmJAmpmZmZkfZUBmZmZmZhhoQDMzMzMzEWtAAAAAAAAKbkBmZmZmZoFwQM3MzMzM/XFAMzMzMzN6c0CamZmZmfZ0QAAAAAAAc3ZAZmZmZmbvd0DNzMzMzGt5QDMzMzMz6HpAmpmZmZlkfEAAAAAAAOF9QGZmZmZmXX9AZmZmZuZsgECamZmZGSuBQM3MzMxM6YFAAAAAAICngkAzMzMzs2WDQGZmZmbmI4RAmpmZmRnihEDNzMzMTKCFQAAAAACAXoZAMzMzM7Mch0BmZmZm5tqHQJqZmZkZmYhAzczMzExXiUAAAAAAgBWKQDMzMzOz04pAZmZmZuaRi0CamZmZGVCMQM3MzMxMDo1AAAAAAIDMjUAzMzMzs4qOQGZmZmbmSI9A\",\"dtype\":\"float64\",\"shape\":[75]}}},\"id\":\"18784725-7ee1-4957-a3d9-58c3e0b7e423\",\"type\":\"ColumnDataSource\"},{\"attributes\":{\"callback\":null,\"column_names\":[\"x\",\"y\"],\"data\":{\"x\":{\"__ndarray__\":\"T13RvDW0Qz/BXp+L4j5FP9BIl3qrXUg/hl/oanG8Sz9ezodb2DpPP/XSRaioalE/Wu5QPWdFUz+k+BO19i5VP8vdrN+aJFc/cJFWGD0gWT9eTN64OC5bP3eULCLoOl0/iOSCOLG1Xj/Dwdrn3KVgP/ePZiRypWU/YeuZr2AMcT8VWqegUzZ6P3ENbXFm44I/Nd4t+zv8iT/XAGg+LkSRP7sKWXi/U5Y/0pCO/tmHmz/O3nyXEHucPxjrDG2v7pg/8YWyuEtXlD8C4J1R+g+PP8I47WacP4c/Nj8xeyh0gT/V4IzJemR6Py9R4I3jCHQ/zz/CM884bj+st3sxg1VmP5bB8hKl/l8/ilFwZcuhVT/oIUdPtPpDP0O5mShKdA2/C0SmTi9rN7+vbdvbsjwov4E2LOQOtjg/gHViONpWUz8PbXf7ondoP+Qs3mN/zYI/KKDDW2sYlT9p9KqbedyiPygRsycZ6qw/2mKvXuIbtD/rME987066P98PiYxYVcA/W1W8sofNwj8ze4/pv73FP+MVyrpmD8k/IjIPDUm1zD8+vABeE1DQP2SYj3slVtI/clAld5Zo1D+6wnlA8nHWP2+E4hrhZdg/A2VsS5E62j8buyPn7d3bP31R7ZlGT90/Jxtqb0t/3j9D1Z5I5kffPy2f/hYRg98/ET6M94Bs4D/b9uIwPSbgP0UhVVbLhN4/MSfkWh8c3D9VnZtX8Z3YP8f/FeBYo9U/YkSqQftF0z+CIeUGx1XRP7i4W8yuf88/he4OAIcWzT8J/MDZ1uTLP2vobvDoc9A/\",\"dtype\":\"float64\",\"shape\":[75]},\"y\":{\"__ndarray__\":\"GhExyth1ND/Sv8nbtpRIP2vylNV0PVE/aTum7souWD/At0SJ8fVgPw3Iuahxymc/MSNhhJWvcD/bTfBN02d3P2zb5nxnaoA/CD5h5MAGhz8NmeH1TyaQP+zrCsc9p5Y/LbKd76fGnz/bLW5ISEmmPww9YvTcQq8/JV2OstnstT8Er5Y7M8G+P0c+r3jqkcU/5h99k6ZBzj88bCIzFzjVP4enV8oyxN0//yH99nXg5D8qOpLLf0jtP5kqGJXUifQ/c9cS8kHP/D+/DpwzojQEQIEmwoanVwxA4lgXt9HgE0BSSZ2AJuIbQAMJih9jjiNA5q4l5INuK0AwTKYKRj0zQNv5fmq8/DpAaCJseHrtQkB/+zpwzoxKQM3MzMzMeFJAZmZmZmZqWEAAAAAAAFxeQM3MzMzMJmJAmpmZmZkfZUBmZmZmZhhoQDMzMzMzEWtAAAAAAAAKbkBmZmZmZoFwQM3MzMzM/XFAMzMzMzN6c0CamZmZmfZ0QAAAAAAAc3ZAZmZmZmbvd0DNzMzMzGt5QDMzMzMz6HpAmpmZmZlkfEAAAAAAAOF9QGZmZmZmXX9AZmZmZuZsgECamZmZGSuBQM3MzMxM6YFAAAAAAICngkAzMzMzs2WDQGZmZmbmI4RAmpmZmRnihEDNzMzMTKCFQAAAAACAXoZAMzMzM7Mch0BmZmZm5tqHQJqZmZkZmYhAzczMzExXiUAAAAAAgBWKQDMzMzOz04pAZmZmZuaRi0CamZmZGVCMQM3MzMxMDo1AAAAAAIDMjUAzMzMzs4qOQGZmZmbmSI9A\",\"dtype\":\"float64\",\"shape\":[75]}}},\"id\":\"f642eeaf-de4c-432e-b331-5b6c935d4a8b\",\"type\":\"ColumnDataSource\"},{\"attributes\":{\"source\":{\"id\":\"789acd84-f34b-4931-950c-962184b0a798\",\"type\":\"ColumnDataSource\"}},\"id\":\"f3a358e8-cf72-4e49-bf12-a1d7cfd37de7\",\"type\":\"CDSView\"},{\"attributes\":{\"bottom_units\":\"screen\",\"fill_alpha\":{\"value\":0.5},\"fill_color\":{\"value\":\"lightgrey\"},\"left_units\":\"screen\",\"level\":\"overlay\",\"line_alpha\":{\"value\":1.0},\"line_color\":{\"value\":\"black\"},\"line_dash\":[4,4],\"line_width\":{\"value\":2},\"plot\":null,\"render_mode\":\"css\",\"right_units\":\"screen\",\"top_units\":\"screen\"},\"id\":\"ec413035-ae51-46fe-89cc-8600b812c8d3\",\"type\":\"BoxAnnotation\"},{\"attributes\":{\"below\":[{\"id\":\"f6894d54-a8a2-4666-86ca-8917f9d6fb82\",\"type\":\"LinearAxis\"}],\"left\":[{\"id\":\"ee966f50-bfb0-40f1-9a81-2fab4c69cb73\",\"type\":\"LogAxis\"}],\"plot_height\":500,\"plot_width\":560,\"renderers\":[{\"id\":\"f6894d54-a8a2-4666-86ca-8917f9d6fb82\",\"type\":\"LinearAxis\"},{\"id\":\"164b8045-5850-4f5f-92f1-eeef91f1685a\",\"type\":\"Grid\"},{\"id\":\"ee966f50-bfb0-40f1-9a81-2fab4c69cb73\",\"type\":\"LogAxis\"},{\"id\":\"8c8f3117-533a-4cab-945c-9e88fe103e7e\",\"type\":\"Grid\"},{\"id\":\"d5a34fad-9aa6-4562-97fa-36323ff47e6d\",\"type\":\"BoxAnnotation\"},{\"id\":\"f6715a8c-70ec-4dd4-97de-da6a0038aa0d\",\"type\":\"GlyphRenderer\"},{\"id\":\"bf66c9da-a0e3-406b-9aa4-6860c2f0442d\",\"type\":\"GlyphRenderer\"},{\"id\":\"f29248a6-6a7a-4d18-8543-d3d3879ba57c\",\"type\":\"GlyphRenderer\"},{\"id\":\"763ca625-392d-45c8-bc25-ab3580f51a44\",\"type\":\"GlyphRenderer\"},{\"id\":\"b0b77f09-2aa6-4c60-ab29-983387f8a0ba\",\"type\":\"GlyphRenderer\"},{\"id\":\"095bef55-74b4-461a-b244-f580e3cc0849\",\"type\":\"Legend\"}],\"right\":[{\"id\":\"095bef55-74b4-461a-b244-f580e3cc0849\",\"type\":\"Legend\"}],\"title\":{\"id\":\"9be8e672-18ea-48b0-8da8-fc3ceac9f653\",\"type\":\"Title\"},\"toolbar\":{\"id\":\"d77b5b2d-775d-45f3-a743-c0b4e95ee1e7\",\"type\":\"Toolbar\"},\"toolbar_location\":null,\"x_range\":{\"id\":\"22bedc66-6a75-4909-b7fc-83c0f73af2a3\",\"type\":\"Range1d\"},\"x_scale\":{\"id\":\"8e387b13-f227-4bd3-b474-9800e0ebb957\",\"type\":\"LinearScale\"},\"y_range\":{\"id\":\"f2960015-2fe5-400f-b7ff-52eaa00cd4c7\",\"type\":\"Range1d\"},\"y_scale\":{\"id\":\"14c8f1da-7920-439a-860c-44cbc4850ee9\",\"type\":\"LogScale\"}},\"id\":\"a69c2cc1-df5e-4331-bd98-c33f2faeacd5\",\"subtype\":\"Figure\",\"type\":\"Plot\"},{\"attributes\":{},\"id\":\"f17f35db-14c7-43b7-8fef-b7535ea5c0a0\",\"type\":\"BasicTicker\"},{\"attributes\":{\"dimension\":1,\"plot\":{\"id\":\"9ab4140e-489f-428c-8b9b-93e5a4fbadfa\",\"subtype\":\"Figure\",\"type\":\"Plot\"},\"ticker\":{\"id\":\"f17f35db-14c7-43b7-8fef-b7535ea5c0a0\",\"type\":\"BasicTicker\"}},\"id\":\"14c0e06a-f4ba-4305-baee-b02e807038e1\",\"type\":\"Grid\"},{\"attributes\":{\"plot\":null,\"text\":\"Linear pressure scale\"},\"id\":\"50bbab35-7323-45a1-8ef3-f974641376c8\",\"type\":\"Title\"},{\"attributes\":{\"source\":{\"id\":\"25ad6fe4-58c5-4c19-a0d6-90750ebf7ca5\",\"type\":\"ColumnDataSource\"}},\"id\":\"7e6d478a-6dcb-482b-847f-b60358c53367\",\"type\":\"CDSView\"},{\"attributes\":{\"source\":{\"id\":\"18784725-7ee1-4957-a3d9-58c3e0b7e423\",\"type\":\"ColumnDataSource\"}},\"id\":\"df85e8c1-4c2a-4489-84f8-fa569a055ba3\",\"type\":\"CDSView\"},{\"attributes\":{\"ticker\":null},\"id\":\"a1484538-1c54-4c8f-afd7-760b57219ad3\",\"type\":\"LogTickFormatter\"}],\"root_ids\":[\"88fb6416-4cf5-42be-9952-5fa87650bdbf\"]},\"title\":\"Bokeh Application\",\"version\":\"0.12.14\"}};\n",
       "  var render_items = [{\"docid\":\"62d5bc7e-9e27-453b-bff7-601631de9dc3\",\"elementid\":\"a57ec2db-acdc-4298-94e7-ea78280f1e0b\",\"modelid\":\"88fb6416-4cf5-42be-9952-5fa87650bdbf\"}];\n",
       "  root.Bokeh.embed.embed_items_notebook(docs_json, render_items);\n",
       "\n",
       "  }\n",
       "  if (root.Bokeh !== undefined) {\n",
       "    embed_document(root);\n",
       "  } else {\n",
       "    var attempts = 0;\n",
       "    var timer = setInterval(function(root) {\n",
       "      if (root.Bokeh !== undefined) {\n",
       "        embed_document(root);\n",
       "        clearInterval(timer);\n",
       "      }\n",
       "      attempts++;\n",
       "      if (attempts > 100) {\n",
       "        console.log(\"Bokeh: ERROR: Unable to run BokehJS code because BokehJS library is missing\")\n",
       "        clearInterval(timer);\n",
       "      }\n",
       "    }, 10, root)\n",
       "  }\n",
       "})(window);"
      ],
      "application/vnd.bokehjs_exec.v0+json": ""
     },
     "metadata": {
      "application/vnd.bokehjs_exec.v0+json": {
       "id": "88fb6416-4cf5-42be-9952-5fa87650bdbf"
      }
     },
     "output_type": "display_data"
    },
    {
     "name": "stdout",
     "output_type": "stream",
     "text": [
      "FIGURE. Cooling rate profiles.\n"
     ]
    },
    {
     "data": {
      "text/html": [
       "<a id=\"Flux_Comparison\"></a>"
      ],
      "text/plain": [
       "<IPython.core.display.HTML object>"
      ]
     },
     "metadata": {},
     "output_type": "display_data"
    },
    {
     "data": {
      "text/markdown": [
       "# Flux Comparison"
      ],
      "text/plain": [
       "<IPython.core.display.Markdown object>"
      ]
     },
     "metadata": {},
     "output_type": "display_data"
    },
    {
     "data": {
      "text/html": [
       "<div>\n",
       "<style>\n",
       "    .dataframe thead tr:only-child th {\n",
       "        text-align: right;\n",
       "    }\n",
       "\n",
       "    .dataframe thead th {\n",
       "        text-align: left;\n",
       "    }\n",
       "\n",
       "    .dataframe tbody tr th {\n",
       "        vertical-align: top;\n",
       "    }\n",
       "</style>\n",
       "<table border=\"1\" class=\"dataframe\">\n",
       "  <thead>\n",
       "    <tr style=\"text-align: right;\">\n",
       "      <th></th>\n",
       "      <th></th>\n",
       "      <th>flug</th>\n",
       "      <th>fldg</th>\n",
       "      <th>fnetg</th>\n",
       "    </tr>\n",
       "    <tr>\n",
       "      <th>pressure</th>\n",
       "      <th>level</th>\n",
       "      <th></th>\n",
       "      <th></th>\n",
       "      <th></th>\n",
       "    </tr>\n",
       "  </thead>\n",
       "  <tbody>\n",
       "    <tr>\n",
       "      <th>0.0000</th>\n",
       "      <th>1</th>\n",
       "      <td>-29.999447</td>\n",
       "      <td>0.000000</td>\n",
       "      <td>-29.999447</td>\n",
       "    </tr>\n",
       "    <tr>\n",
       "      <th>1.0685</th>\n",
       "      <th>24</th>\n",
       "      <td>-29.998932</td>\n",
       "      <td>0.001912</td>\n",
       "      <td>-29.997019</td>\n",
       "    </tr>\n",
       "    <tr>\n",
       "      <th>1013.0000</th>\n",
       "      <th>76</th>\n",
       "      <td>-38.491735</td>\n",
       "      <td>35.869918</td>\n",
       "      <td>-2.621816</td>\n",
       "    </tr>\n",
       "  </tbody>\n",
       "</table>\n",
       "</div>"
      ],
      "text/plain": [
       "                      flug       fldg      fnetg\n",
       "pressure  level                                 \n",
       "0.0000    1     -29.999447   0.000000 -29.999447\n",
       "1.0685    24    -29.998932   0.001912 -29.997019\n",
       "1013.0000 76    -38.491735  35.869918  -2.621816"
      ]
     },
     "metadata": {},
     "output_type": "display_data"
    },
    {
     "name": "stdout",
     "output_type": "stream",
     "text": [
      "Table. Fluxes. WGT igg=10 wgt_flux=1\n"
     ]
    },
    {
     "data": {
      "text/html": [
       "<div>\n",
       "<style>\n",
       "    .dataframe thead tr:only-child th {\n",
       "        text-align: right;\n",
       "    }\n",
       "\n",
       "    .dataframe thead th {\n",
       "        text-align: left;\n",
       "    }\n",
       "\n",
       "    .dataframe tbody tr th {\n",
       "        vertical-align: top;\n",
       "    }\n",
       "</style>\n",
       "<table border=\"1\" class=\"dataframe\">\n",
       "  <thead>\n",
       "    <tr style=\"text-align: right;\">\n",
       "      <th></th>\n",
       "      <th></th>\n",
       "      <th>flug</th>\n",
       "      <th>fldg</th>\n",
       "      <th>fnetg</th>\n",
       "    </tr>\n",
       "    <tr>\n",
       "      <th>pressure</th>\n",
       "      <th>level</th>\n",
       "      <th></th>\n",
       "      <th></th>\n",
       "      <th></th>\n",
       "    </tr>\n",
       "  </thead>\n",
       "  <tbody>\n",
       "    <tr>\n",
       "      <th>0.0000</th>\n",
       "      <th>1</th>\n",
       "      <td>-30.009778</td>\n",
       "      <td>0.000000</td>\n",
       "      <td>-30.009778</td>\n",
       "    </tr>\n",
       "    <tr>\n",
       "      <th>1.0685</th>\n",
       "      <th>24</th>\n",
       "      <td>-30.009411</td>\n",
       "      <td>0.002207</td>\n",
       "      <td>-30.007204</td>\n",
       "    </tr>\n",
       "    <tr>\n",
       "      <th>1013.0000</th>\n",
       "      <th>76</th>\n",
       "      <td>-38.491734</td>\n",
       "      <td>35.831584</td>\n",
       "      <td>-2.660150</td>\n",
       "    </tr>\n",
       "  </tbody>\n",
       "</table>\n",
       "</div>"
      ],
      "text/plain": [
       "                      flug       fldg      fnetg\n",
       "pressure  level                                 \n",
       "0.0000    1     -30.009778   0.000000 -30.009778\n",
       "1.0685    24    -30.009411   0.002207 -30.007204\n",
       "1013.0000 76    -38.491734  35.831584  -2.660150"
      ]
     },
     "metadata": {},
     "output_type": "display_data"
    },
    {
     "name": "stdout",
     "output_type": "stream",
     "text": [
      "Table. Fluxes. CRD\n"
     ]
    },
    {
     "data": {
      "text/html": [
       "<div>\n",
       "<style>\n",
       "    .dataframe thead tr:only-child th {\n",
       "        text-align: right;\n",
       "    }\n",
       "\n",
       "    .dataframe thead th {\n",
       "        text-align: left;\n",
       "    }\n",
       "\n",
       "    .dataframe tbody tr th {\n",
       "        vertical-align: top;\n",
       "    }\n",
       "</style>\n",
       "<table border=\"1\" class=\"dataframe\">\n",
       "  <thead>\n",
       "    <tr style=\"text-align: right;\">\n",
       "      <th></th>\n",
       "      <th></th>\n",
       "      <th>flug</th>\n",
       "      <th>fldg</th>\n",
       "      <th>fnetg</th>\n",
       "    </tr>\n",
       "    <tr>\n",
       "      <th>pressure</th>\n",
       "      <th>level</th>\n",
       "      <th></th>\n",
       "      <th></th>\n",
       "      <th></th>\n",
       "    </tr>\n",
       "  </thead>\n",
       "  <tbody>\n",
       "    <tr>\n",
       "      <th>1.000000e-08</th>\n",
       "      <th>1</th>\n",
       "      <td>-30.078400</td>\n",
       "      <td>0.000002</td>\n",
       "      <td>-30.078398</td>\n",
       "    </tr>\n",
       "    <tr>\n",
       "      <th>1.068500e+00</th>\n",
       "      <th>24</th>\n",
       "      <td>-30.077812</td>\n",
       "      <td>0.001898</td>\n",
       "      <td>-30.075914</td>\n",
       "    </tr>\n",
       "    <tr>\n",
       "      <th>1.013000e+03</th>\n",
       "      <th>76</th>\n",
       "      <td>-38.491730</td>\n",
       "      <td>36.230018</td>\n",
       "      <td>-2.261712</td>\n",
       "    </tr>\n",
       "  </tbody>\n",
       "</table>\n",
       "</div>"
      ],
      "text/plain": [
       "                         flug       fldg      fnetg\n",
       "pressure     level                                 \n",
       "1.000000e-08 1     -30.078400   0.000002 -30.078398\n",
       "1.068500e+00 24    -30.077812   0.001898 -30.075914\n",
       "1.013000e+03 76    -38.491730  36.230018  -2.261712"
      ]
     },
     "metadata": {},
     "output_type": "display_data"
    },
    {
     "name": "stdout",
     "output_type": "stream",
     "text": [
      "Table. Fluxes. CLIRAD\n"
     ]
    },
    {
     "data": {
      "text/html": [
       "<div>\n",
       "<style>\n",
       "    .dataframe thead tr:only-child th {\n",
       "        text-align: right;\n",
       "    }\n",
       "\n",
       "    .dataframe thead th {\n",
       "        text-align: left;\n",
       "    }\n",
       "\n",
       "    .dataframe tbody tr th {\n",
       "        vertical-align: top;\n",
       "    }\n",
       "</style>\n",
       "<table border=\"1\" class=\"dataframe\">\n",
       "  <thead>\n",
       "    <tr style=\"text-align: right;\">\n",
       "      <th></th>\n",
       "      <th></th>\n",
       "      <th>flug</th>\n",
       "      <th>fldg</th>\n",
       "      <th>fnetg</th>\n",
       "    </tr>\n",
       "    <tr>\n",
       "      <th>pressure</th>\n",
       "      <th>level</th>\n",
       "      <th></th>\n",
       "      <th></th>\n",
       "      <th></th>\n",
       "    </tr>\n",
       "  </thead>\n",
       "  <tbody>\n",
       "    <tr>\n",
       "      <th>0.0000</th>\n",
       "      <th>1</th>\n",
       "      <td>-1.033057e-02</td>\n",
       "      <td>0.000000</td>\n",
       "      <td>-0.010331</td>\n",
       "    </tr>\n",
       "    <tr>\n",
       "      <th>1.0685</th>\n",
       "      <th>24</th>\n",
       "      <td>-1.047910e-02</td>\n",
       "      <td>0.000295</td>\n",
       "      <td>-0.010185</td>\n",
       "    </tr>\n",
       "    <tr>\n",
       "      <th>1013.0000</th>\n",
       "      <th>76</th>\n",
       "      <td>5.600000e-07</td>\n",
       "      <td>-0.038334</td>\n",
       "      <td>-0.038334</td>\n",
       "    </tr>\n",
       "  </tbody>\n",
       "</table>\n",
       "</div>"
      ],
      "text/plain": [
       "                         flug      fldg     fnetg\n",
       "pressure  level                                  \n",
       "0.0000    1     -1.033057e-02  0.000000 -0.010331\n",
       "1.0685    24    -1.047910e-02  0.000295 -0.010185\n",
       "1013.0000 76     5.600000e-07 -0.038334 -0.038334"
      ]
     },
     "metadata": {},
     "output_type": "display_data"
    },
    {
     "name": "stdout",
     "output_type": "stream",
     "text": [
      "Table. Fluxes. (CRD) - (WGT igg=10 wgt_flux=1)\n"
     ]
    },
    {
     "data": {
      "text/html": [
       "<div>\n",
       "<style>\n",
       "    .dataframe thead tr:only-child th {\n",
       "        text-align: right;\n",
       "    }\n",
       "\n",
       "    .dataframe thead th {\n",
       "        text-align: left;\n",
       "    }\n",
       "\n",
       "    .dataframe tbody tr th {\n",
       "        vertical-align: top;\n",
       "    }\n",
       "</style>\n",
       "<table border=\"1\" class=\"dataframe\">\n",
       "  <thead>\n",
       "    <tr style=\"text-align: right;\">\n",
       "      <th></th>\n",
       "      <th></th>\n",
       "      <th>flug</th>\n",
       "      <th>fldg</th>\n",
       "      <th>fnetg</th>\n",
       "    </tr>\n",
       "    <tr>\n",
       "      <th>pressure</th>\n",
       "      <th>level</th>\n",
       "      <th></th>\n",
       "      <th></th>\n",
       "      <th></th>\n",
       "    </tr>\n",
       "  </thead>\n",
       "  <tbody>\n",
       "    <tr>\n",
       "      <th>0.0000</th>\n",
       "      <th>1</th>\n",
       "      <td>-0.078953</td>\n",
       "      <td>0.000002</td>\n",
       "      <td>-0.078951</td>\n",
       "    </tr>\n",
       "    <tr>\n",
       "      <th>1.0685</th>\n",
       "      <th>24</th>\n",
       "      <td>-0.078880</td>\n",
       "      <td>-0.000014</td>\n",
       "      <td>-0.078895</td>\n",
       "    </tr>\n",
       "    <tr>\n",
       "      <th>1013.0000</th>\n",
       "      <th>76</th>\n",
       "      <td>0.000005</td>\n",
       "      <td>0.360100</td>\n",
       "      <td>0.360104</td>\n",
       "    </tr>\n",
       "  </tbody>\n",
       "</table>\n",
       "</div>"
      ],
      "text/plain": [
       "                     flug      fldg     fnetg\n",
       "pressure  level                              \n",
       "0.0000    1     -0.078953  0.000002 -0.078951\n",
       "1.0685    24    -0.078880 -0.000014 -0.078895\n",
       "1013.0000 76     0.000005  0.360100  0.360104"
      ]
     },
     "metadata": {},
     "output_type": "display_data"
    },
    {
     "name": "stdout",
     "output_type": "stream",
     "text": [
      "Table. Fluxes. (CLIRAD) - (WGT igg=10 wgt_flux=1)\n"
     ]
    },
    {
     "data": {
      "text/html": [
       "<a id=\"Best-fit_Parameters\"></a>"
      ],
      "text/plain": [
       "<IPython.core.display.HTML object>"
      ]
     },
     "metadata": {},
     "output_type": "display_data"
    },
    {
     "data": {
      "text/markdown": [
       "# Best-fit Parameters"
      ],
      "text/plain": [
       "<IPython.core.display.Markdown object>"
      ]
     },
     "metadata": {},
     "output_type": "display_data"
    },
    {
     "name": "stdout",
     "output_type": "stream",
     "text": [
      "Best-fit values for each (gas, band)\n",
      "------------------------------------\n",
      "o h2o band3a\n",
      "  atmpro = mls\n",
      "  band = 3a\n",
      "  commitnumber = 2bd1f75\n",
      "  conc = None\n",
      "  dv = 0.01\n",
      "  klin = 0\n",
      "  molecule = h2o\n",
      "  ng_adju = [0, 0]\n",
      "  ng_refs = [2, 6]\n",
      "  nv = 100\n",
      "  option_compute_btable = 0\n",
      "  option_compute_ktable = 1\n",
      "  option_wgt_flux = 1\n",
      "  option_wgt_k = 1\n",
      "  ref_pts = [(10, 250), (600, 250)]\n",
      "  tsfc = 294\n",
      "  vmax = 620\n",
      "  vmin = 540\n",
      "  w_diffuse = [(1.9, 1.7), (1.4, 1.4, 1.4, 1.55, 1.6, 1.66)]\n",
      "  wgt = [(0.7, 0.7), (0.7, 0.5, 0.5, 0.5, 0.5, 0.5)]\n"
     ]
    }
   ],
   "source": [
    "script()"
   ]
  },
  {
   "cell_type": "code",
   "execution_count": 13,
   "metadata": {
    "collapsed": true
   },
   "outputs": [
    {
     "data": {
      "text/html": [
       "<script>\n",
       "code_show=true; \n",
       "function code_toggle() {\n",
       " if (code_show){\n",
       " $('div.input').hide();\n",
       " } else {\n",
       " $('div.input').show();\n",
       " }\n",
       " code_show = !code_show\n",
       "} \n",
       "$( document ).ready(code_toggle);\n",
       "</script>\n",
       "<form action=\"javascript:code_toggle()\"><input type=\"submit\" value=\"Click here to toggle on/off the raw code.\"></form>"
      ],
      "text/plain": [
       "<IPython.core.display.HTML object>"
      ]
     },
     "execution_count": 13,
     "metadata": {},
     "output_type": "execute_result"
    }
   ],
   "source": [
    "display.HTML('''<script>\n",
    "code_show=true; \n",
    "function code_toggle() {\n",
    " if (code_show){\n",
    " $('div.input').hide();\n",
    " } else {\n",
    " $('div.input').show();\n",
    " }\n",
    " code_show = !code_show\n",
    "} \n",
    "$( document ).ready(code_toggle);\n",
    "</script>\n",
    "<form action=\"javascript:code_toggle()\"><input type=\"submit\" value=\"Click here to toggle on/off the raw code.\"></form>''')"
   ]
  }
 ],
 "metadata": {
  "kernelspec": {
   "display_name": "Python 3",
   "language": "python",
   "name": "python3"
  },
  "language_info": {
   "codemirror_mode": {
    "name": "ipython",
    "version": 3
   },
   "file_extension": ".py",
   "mimetype": "text/x-python",
   "name": "python",
   "nbconvert_exporter": "python",
   "pygments_lexer": "ipython3",
   "version": "3.6.1"
  }
 },
 "nbformat": 4,
 "nbformat_minor": 2
}
