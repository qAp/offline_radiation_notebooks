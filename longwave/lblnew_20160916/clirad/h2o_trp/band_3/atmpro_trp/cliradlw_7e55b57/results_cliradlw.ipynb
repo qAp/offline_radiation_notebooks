{
 "cells": [
  {
   "cell_type": "code",
   "execution_count": 1,
   "metadata": {
    "collapsed": true
   },
   "outputs": [],
   "source": [
    "%matplotlib inline\n",
    "import os\n",
    "import re\n",
    "import io\n",
    "import itertools\n",
    "import pprint\n",
    "\n",
    "from bokeh.io import output_notebook, show\n",
    "from bokeh.layouts import gridplot\n",
    "from bokeh.plotting import figure\n",
    "from bokeh.models import Range1d, Legend\n",
    "from bokeh.palettes import all_palettes\n",
    "\n",
    "import matplotlib\n",
    "import matplotlib.pyplot as plt\n",
    "import numpy as np\n",
    "import pandas as pd\n",
    "import xarray as xr\n",
    "\n",
    "import climatools.lblnew.bestfit_params as bestfits\n",
    "from climatools.lblnew import setup_bestfit, setup_overlap\n",
    "import climatools.lblnew.pipeline as pipe_lblnew\n",
    "import climatools.cliradlw.setup as setup_cliradlw\n",
    "import climatools.cliradlw.pipeline as pipe_cliradlw\n",
    "\n",
    "import climatools.html.html as climahtml\n",
    "from climatools.lblnew.dataio import *\n",
    "from climatools.plot.plot import *\n",
    "\n",
    "\n",
    "import IPython.display as display"
   ]
  },
  {
   "cell_type": "code",
   "execution_count": 2,
   "metadata": {
    "collapsed": true
   },
   "outputs": [],
   "source": [
    "%run param.py"
   ]
  },
  {
   "cell_type": "code",
   "execution_count": 3,
   "metadata": {
    "collapsed": true
   },
   "outputs": [],
   "source": [
    "def load_output_file(path_csv):\n",
    "    '''\n",
    "    Load lblnew output .csv file to xarray.Dataset\n",
    "    \n",
    "    Parameters\n",
    "    ----------\n",
    "    path_csv: str\n",
    "              Path to the .csv file to be loaded.\n",
    "    ds: xarray.Dataset\n",
    "        Data in the input file in the form of an xarray.Dataset.\n",
    "    '''\n",
    "    toindex = ['band', 'pressure', 'igg', 'g']    \n",
    "    df = pd.read_csv(path_csv, sep=r'\\s+')\n",
    "    df = df.set_index([i for i in toindex if i in df.columns])\n",
    "    df = df.rename(columns={'sfu': 'flug',\n",
    "                            'sfd': 'fldg',\n",
    "                            'fnet': 'fnetg',\n",
    "                            'coolr': 'coolrg'})\n",
    "    ds = xr.Dataset.from_dataframe(df)\n",
    "\n",
    "    for l in ('level', 'layer'):\n",
    "        if l in ds.data_vars:\n",
    "            if len(ds[l].dims) > 1:\n",
    "                surface = {d: 0 for d in ds.dims if d != 'pressure'}\n",
    "                coord_level = ds[l][surface]\n",
    "                ds.coords[l] = ('pressure', coord_level)\n",
    "            else:\n",
    "                ds.coords[l] = ('pressure', ds[l])\n",
    "    \n",
    "    return ds"
   ]
  },
  {
   "cell_type": "code",
   "execution_count": 4,
   "metadata": {
    "collapsed": true
   },
   "outputs": [],
   "source": [
    "def lblnew_setup(param=None):\n",
    "    if 'ng_refs' in param:\n",
    "        return {'setup': setup_bestfit,\n",
    "                'fname_flux_crd': 'output_flux.dat',\n",
    "                'fname_cool_crd': 'output_coolr.dat',\n",
    "                'fname_flux_wgt': 'output_wfluxg.dat',\n",
    "                'fname_cool_wgt': 'output_wcoolrg.dat'}\n",
    "    else:\n",
    "        return {'setup': setup_overlap,\n",
    "                'fname_flux_crd': 'output_flux.dat',\n",
    "                'fname_cool_crd': 'output_coolr.dat',\n",
    "                'fname_flux_wgt': 'output_wflux.dat',\n",
    "                'fname_cool_wgt': 'output_wcoolr.dat'}\n",
    "\n",
    "    \n",
    "def load_lblnew_data(param):\n",
    "    \n",
    "    fname_dsname = [('fname_flux_crd', 'ds_flux_crd'),\n",
    "                    ('fname_cool_crd', 'ds_cool_crd'),\n",
    "                    ('fname_flux_wgt', 'ds_flux_wgt'),\n",
    "                    ('fname_cool_wgt', 'ds_cool_wgt')]\n",
    "    \n",
    "    d = lblnew_setup(param)\n",
    "    dir_fortran = pipe_lblnew.get_dir_case(param, setup=d['setup'])\n",
    "    \n",
    "    data_dict = {}\n",
    "    for fname, dsname in fname_dsname:\n",
    "        fpath = os.path.join(dir_fortran, d[fname])\n",
    "        data_dict[dsname] = load_output_file(fpath)\n",
    "    return data_dict\n",
    "    \n",
    "\n",
    "    \n",
    "    "
   ]
  },
  {
   "cell_type": "code",
   "execution_count": 5,
   "metadata": {
    "collapsed": true
   },
   "outputs": [
    {
     "name": "stdout",
     "output_type": "stream",
     "text": [
      "The history saving thread hit an unexpected error (OperationalError('database is locked',)).History will not be written to the database.\n"
     ]
    }
   ],
   "source": [
    "d = load_lblnew_data(PARAM_LBLNEW)\n",
    "\n",
    "DS_FLUX_CRD = d['ds_flux_crd']\n",
    "DS_COOL_CRD = d['ds_cool_crd']\n",
    "DS_FLUX_WGT = d['ds_flux_wgt']\n",
    "DS_COOL_WGT = d['ds_cool_wgt']"
   ]
  },
  {
   "cell_type": "code",
   "execution_count": 6,
   "metadata": {
    "collapsed": true
   },
   "outputs": [],
   "source": [
    "DIR_FORTRAN = pipe_cliradlw.get_fortran_dir(PARAM, \n",
    "                                            setup=setup_cliradlw)\n",
    "\n",
    "PATH_FLUX = os.path.join(DIR_FORTRAN, 'output_flux.dat')\n",
    "PATH_COOL = os.path.join(DIR_FORTRAN, 'output_coolr.dat')\n",
    "\n",
    "DS_FLUX = load_output_file(PATH_FLUX)\n",
    "DS_COOL = load_output_file(PATH_COOL)"
   ]
  },
  {
   "cell_type": "code",
   "execution_count": 7,
   "metadata": {
    "collapsed": true
   },
   "outputs": [
    {
     "data": {
      "text/html": [
       "\n",
       "    <div class=\"bk-root\">\n",
       "        <a href=\"https://bokeh.pydata.org\" target=\"_blank\" class=\"bk-logo bk-logo-small bk-logo-notebook\"></a>\n",
       "        <span id=\"0135c305-c2fa-4b49-b8b2-35cb473d0107\">Loading BokehJS ...</span>\n",
       "    </div>"
      ]
     },
     "metadata": {},
     "output_type": "display_data"
    },
    {
     "data": {
      "application/javascript": [
       "\n",
       "(function(root) {\n",
       "  function now() {\n",
       "    return new Date();\n",
       "  }\n",
       "\n",
       "  var force = true;\n",
       "\n",
       "  if (typeof (root._bokeh_onload_callbacks) === \"undefined\" || force === true) {\n",
       "    root._bokeh_onload_callbacks = [];\n",
       "    root._bokeh_is_loading = undefined;\n",
       "  }\n",
       "\n",
       "  var JS_MIME_TYPE = 'application/javascript';\n",
       "  var HTML_MIME_TYPE = 'text/html';\n",
       "  var EXEC_MIME_TYPE = 'application/vnd.bokehjs_exec.v0+json';\n",
       "  var CLASS_NAME = 'output_bokeh rendered_html';\n",
       "\n",
       "  /**\n",
       "   * Render data to the DOM node\n",
       "   */\n",
       "  function render(props, node) {\n",
       "    var script = document.createElement(\"script\");\n",
       "    node.appendChild(script);\n",
       "  }\n",
       "\n",
       "  /**\n",
       "   * Handle when an output is cleared or removed\n",
       "   */\n",
       "  function handleClearOutput(event, handle) {\n",
       "    var cell = handle.cell;\n",
       "\n",
       "    var id = cell.output_area._bokeh_element_id;\n",
       "    var server_id = cell.output_area._bokeh_server_id;\n",
       "    // Clean up Bokeh references\n",
       "    if (id !== undefined) {\n",
       "      Bokeh.index[id].model.document.clear();\n",
       "      delete Bokeh.index[id];\n",
       "    }\n",
       "\n",
       "    if (server_id !== undefined) {\n",
       "      // Clean up Bokeh references\n",
       "      var cmd = \"from bokeh.io.state import curstate; print(curstate().uuid_to_server['\" + server_id + \"'].get_sessions()[0].document.roots[0]._id)\";\n",
       "      cell.notebook.kernel.execute(cmd, {\n",
       "        iopub: {\n",
       "          output: function(msg) {\n",
       "            var element_id = msg.content.text.trim();\n",
       "            Bokeh.index[element_id].model.document.clear();\n",
       "            delete Bokeh.index[element_id];\n",
       "          }\n",
       "        }\n",
       "      });\n",
       "      // Destroy server and session\n",
       "      var cmd = \"import bokeh.io.notebook as ion; ion.destroy_server('\" + server_id + \"')\";\n",
       "      cell.notebook.kernel.execute(cmd);\n",
       "    }\n",
       "  }\n",
       "\n",
       "  /**\n",
       "   * Handle when a new output is added\n",
       "   */\n",
       "  function handleAddOutput(event, handle) {\n",
       "    var output_area = handle.output_area;\n",
       "    var output = handle.output;\n",
       "\n",
       "    // limit handleAddOutput to display_data with EXEC_MIME_TYPE content only\n",
       "    if ((output.output_type != \"display_data\") || (!output.data.hasOwnProperty(EXEC_MIME_TYPE))) {\n",
       "      return\n",
       "    }\n",
       "\n",
       "    var toinsert = output_area.element.find(\".\" + CLASS_NAME.split(' ')[0]);\n",
       "\n",
       "    if (output.metadata[EXEC_MIME_TYPE][\"id\"] !== undefined) {\n",
       "      toinsert[0].firstChild.textContent = output.data[JS_MIME_TYPE];\n",
       "      // store reference to embed id on output_area\n",
       "      output_area._bokeh_element_id = output.metadata[EXEC_MIME_TYPE][\"id\"];\n",
       "    }\n",
       "    if (output.metadata[EXEC_MIME_TYPE][\"server_id\"] !== undefined) {\n",
       "      var bk_div = document.createElement(\"div\");\n",
       "      bk_div.innerHTML = output.data[HTML_MIME_TYPE];\n",
       "      var script_attrs = bk_div.children[0].attributes;\n",
       "      for (var i = 0; i < script_attrs.length; i++) {\n",
       "        toinsert[0].firstChild.setAttribute(script_attrs[i].name, script_attrs[i].value);\n",
       "      }\n",
       "      // store reference to server id on output_area\n",
       "      output_area._bokeh_server_id = output.metadata[EXEC_MIME_TYPE][\"server_id\"];\n",
       "    }\n",
       "  }\n",
       "\n",
       "  function register_renderer(events, OutputArea) {\n",
       "\n",
       "    function append_mime(data, metadata, element) {\n",
       "      // create a DOM node to render to\n",
       "      var toinsert = this.create_output_subarea(\n",
       "        metadata,\n",
       "        CLASS_NAME,\n",
       "        EXEC_MIME_TYPE\n",
       "      );\n",
       "      this.keyboard_manager.register_events(toinsert);\n",
       "      // Render to node\n",
       "      var props = {data: data, metadata: metadata[EXEC_MIME_TYPE]};\n",
       "      render(props, toinsert[0]);\n",
       "      element.append(toinsert);\n",
       "      return toinsert\n",
       "    }\n",
       "\n",
       "    /* Handle when an output is cleared or removed */\n",
       "    events.on('clear_output.CodeCell', handleClearOutput);\n",
       "    events.on('delete.Cell', handleClearOutput);\n",
       "\n",
       "    /* Handle when a new output is added */\n",
       "    events.on('output_added.OutputArea', handleAddOutput);\n",
       "\n",
       "    /**\n",
       "     * Register the mime type and append_mime function with output_area\n",
       "     */\n",
       "    OutputArea.prototype.register_mime_type(EXEC_MIME_TYPE, append_mime, {\n",
       "      /* Is output safe? */\n",
       "      safe: true,\n",
       "      /* Index of renderer in `output_area.display_order` */\n",
       "      index: 0\n",
       "    });\n",
       "  }\n",
       "\n",
       "  // register the mime type if in Jupyter Notebook environment and previously unregistered\n",
       "  if (root.Jupyter !== undefined) {\n",
       "    var events = require('base/js/events');\n",
       "    var OutputArea = require('notebook/js/outputarea').OutputArea;\n",
       "\n",
       "    if (OutputArea.prototype.mime_types().indexOf(EXEC_MIME_TYPE) == -1) {\n",
       "      register_renderer(events, OutputArea);\n",
       "    }\n",
       "  }\n",
       "\n",
       "  \n",
       "  if (typeof (root._bokeh_timeout) === \"undefined\" || force === true) {\n",
       "    root._bokeh_timeout = Date.now() + 5000;\n",
       "    root._bokeh_failed_load = false;\n",
       "  }\n",
       "\n",
       "  var NB_LOAD_WARNING = {'data': {'text/html':\n",
       "     \"<div style='background-color: #fdd'>\\n\"+\n",
       "     \"<p>\\n\"+\n",
       "     \"BokehJS does not appear to have successfully loaded. If loading BokehJS from CDN, this \\n\"+\n",
       "     \"may be due to a slow or bad network connection. Possible fixes:\\n\"+\n",
       "     \"</p>\\n\"+\n",
       "     \"<ul>\\n\"+\n",
       "     \"<li>re-rerun `output_notebook()` to attempt to load from CDN again, or</li>\\n\"+\n",
       "     \"<li>use INLINE resources instead, as so:</li>\\n\"+\n",
       "     \"</ul>\\n\"+\n",
       "     \"<code>\\n\"+\n",
       "     \"from bokeh.resources import INLINE\\n\"+\n",
       "     \"output_notebook(resources=INLINE)\\n\"+\n",
       "     \"</code>\\n\"+\n",
       "     \"</div>\"}};\n",
       "\n",
       "  function display_loaded() {\n",
       "    var el = document.getElementById(\"0135c305-c2fa-4b49-b8b2-35cb473d0107\");\n",
       "    if (el != null) {\n",
       "      el.textContent = \"BokehJS is loading...\";\n",
       "    }\n",
       "    if (root.Bokeh !== undefined) {\n",
       "      if (el != null) {\n",
       "        el.textContent = \"BokehJS \" + root.Bokeh.version + \" successfully loaded.\";\n",
       "      }\n",
       "    } else if (Date.now() < root._bokeh_timeout) {\n",
       "      setTimeout(display_loaded, 100)\n",
       "    }\n",
       "  }\n",
       "\n",
       "\n",
       "  function run_callbacks() {\n",
       "    try {\n",
       "      root._bokeh_onload_callbacks.forEach(function(callback) { callback() });\n",
       "    }\n",
       "    finally {\n",
       "      delete root._bokeh_onload_callbacks\n",
       "    }\n",
       "    console.info(\"Bokeh: all callbacks have finished\");\n",
       "  }\n",
       "\n",
       "  function load_libs(js_urls, callback) {\n",
       "    root._bokeh_onload_callbacks.push(callback);\n",
       "    if (root._bokeh_is_loading > 0) {\n",
       "      console.log(\"Bokeh: BokehJS is being loaded, scheduling callback at\", now());\n",
       "      return null;\n",
       "    }\n",
       "    if (js_urls == null || js_urls.length === 0) {\n",
       "      run_callbacks();\n",
       "      return null;\n",
       "    }\n",
       "    console.log(\"Bokeh: BokehJS not loaded, scheduling load and callback at\", now());\n",
       "    root._bokeh_is_loading = js_urls.length;\n",
       "    for (var i = 0; i < js_urls.length; i++) {\n",
       "      var url = js_urls[i];\n",
       "      var s = document.createElement('script');\n",
       "      s.src = url;\n",
       "      s.async = false;\n",
       "      s.onreadystatechange = s.onload = function() {\n",
       "        root._bokeh_is_loading--;\n",
       "        if (root._bokeh_is_loading === 0) {\n",
       "          console.log(\"Bokeh: all BokehJS libraries loaded\");\n",
       "          run_callbacks()\n",
       "        }\n",
       "      };\n",
       "      s.onerror = function() {\n",
       "        console.warn(\"failed to load library \" + url);\n",
       "      };\n",
       "      console.log(\"Bokeh: injecting script tag for BokehJS library: \", url);\n",
       "      document.getElementsByTagName(\"head\")[0].appendChild(s);\n",
       "    }\n",
       "  };var element = document.getElementById(\"0135c305-c2fa-4b49-b8b2-35cb473d0107\");\n",
       "  if (element == null) {\n",
       "    console.log(\"Bokeh: ERROR: autoload.js configured with elementid '0135c305-c2fa-4b49-b8b2-35cb473d0107' but no matching script tag was found. \")\n",
       "    return false;\n",
       "  }\n",
       "\n",
       "  var js_urls = [\"https://cdn.pydata.org/bokeh/release/bokeh-0.12.14.min.js\", \"https://cdn.pydata.org/bokeh/release/bokeh-widgets-0.12.14.min.js\", \"https://cdn.pydata.org/bokeh/release/bokeh-tables-0.12.14.min.js\", \"https://cdn.pydata.org/bokeh/release/bokeh-gl-0.12.14.min.js\"];\n",
       "\n",
       "  var inline_js = [\n",
       "    function(Bokeh) {\n",
       "      Bokeh.set_log_level(\"info\");\n",
       "    },\n",
       "    \n",
       "    function(Bokeh) {\n",
       "      \n",
       "    },\n",
       "    function(Bokeh) {\n",
       "      console.log(\"Bokeh: injecting CSS: https://cdn.pydata.org/bokeh/release/bokeh-0.12.14.min.css\");\n",
       "      Bokeh.embed.inject_css(\"https://cdn.pydata.org/bokeh/release/bokeh-0.12.14.min.css\");\n",
       "      console.log(\"Bokeh: injecting CSS: https://cdn.pydata.org/bokeh/release/bokeh-widgets-0.12.14.min.css\");\n",
       "      Bokeh.embed.inject_css(\"https://cdn.pydata.org/bokeh/release/bokeh-widgets-0.12.14.min.css\");\n",
       "      console.log(\"Bokeh: injecting CSS: https://cdn.pydata.org/bokeh/release/bokeh-tables-0.12.14.min.css\");\n",
       "      Bokeh.embed.inject_css(\"https://cdn.pydata.org/bokeh/release/bokeh-tables-0.12.14.min.css\");\n",
       "    }\n",
       "  ];\n",
       "\n",
       "  function run_inline_js() {\n",
       "    \n",
       "    if ((root.Bokeh !== undefined) || (force === true)) {\n",
       "      for (var i = 0; i < inline_js.length; i++) {\n",
       "        inline_js[i].call(root, root.Bokeh);\n",
       "      }if (force === true) {\n",
       "        display_loaded();\n",
       "      }} else if (Date.now() < root._bokeh_timeout) {\n",
       "      setTimeout(run_inline_js, 100);\n",
       "    } else if (!root._bokeh_failed_load) {\n",
       "      console.log(\"Bokeh: BokehJS failed to load within specified timeout.\");\n",
       "      root._bokeh_failed_load = true;\n",
       "    } else if (force !== true) {\n",
       "      var cell = $(document.getElementById(\"0135c305-c2fa-4b49-b8b2-35cb473d0107\")).parents('.cell').data().cell;\n",
       "      cell.output_area.append_execute_result(NB_LOAD_WARNING)\n",
       "    }\n",
       "\n",
       "  }\n",
       "\n",
       "  if (root._bokeh_is_loading === 0) {\n",
       "    console.log(\"Bokeh: BokehJS loaded, going straight to plotting\");\n",
       "    run_inline_js();\n",
       "  } else {\n",
       "    load_libs(js_urls, function() {\n",
       "      console.log(\"Bokeh: BokehJS plotting callback run at\", now());\n",
       "      run_inline_js();\n",
       "    });\n",
       "  }\n",
       "}(window));"
      ],
      "application/vnd.bokehjs_load.v0+json": "\n(function(root) {\n  function now() {\n    return new Date();\n  }\n\n  var force = true;\n\n  if (typeof (root._bokeh_onload_callbacks) === \"undefined\" || force === true) {\n    root._bokeh_onload_callbacks = [];\n    root._bokeh_is_loading = undefined;\n  }\n\n  \n\n  \n  if (typeof (root._bokeh_timeout) === \"undefined\" || force === true) {\n    root._bokeh_timeout = Date.now() + 5000;\n    root._bokeh_failed_load = false;\n  }\n\n  var NB_LOAD_WARNING = {'data': {'text/html':\n     \"<div style='background-color: #fdd'>\\n\"+\n     \"<p>\\n\"+\n     \"BokehJS does not appear to have successfully loaded. If loading BokehJS from CDN, this \\n\"+\n     \"may be due to a slow or bad network connection. Possible fixes:\\n\"+\n     \"</p>\\n\"+\n     \"<ul>\\n\"+\n     \"<li>re-rerun `output_notebook()` to attempt to load from CDN again, or</li>\\n\"+\n     \"<li>use INLINE resources instead, as so:</li>\\n\"+\n     \"</ul>\\n\"+\n     \"<code>\\n\"+\n     \"from bokeh.resources import INLINE\\n\"+\n     \"output_notebook(resources=INLINE)\\n\"+\n     \"</code>\\n\"+\n     \"</div>\"}};\n\n  function display_loaded() {\n    var el = document.getElementById(\"0135c305-c2fa-4b49-b8b2-35cb473d0107\");\n    if (el != null) {\n      el.textContent = \"BokehJS is loading...\";\n    }\n    if (root.Bokeh !== undefined) {\n      if (el != null) {\n        el.textContent = \"BokehJS \" + root.Bokeh.version + \" successfully loaded.\";\n      }\n    } else if (Date.now() < root._bokeh_timeout) {\n      setTimeout(display_loaded, 100)\n    }\n  }\n\n\n  function run_callbacks() {\n    try {\n      root._bokeh_onload_callbacks.forEach(function(callback) { callback() });\n    }\n    finally {\n      delete root._bokeh_onload_callbacks\n    }\n    console.info(\"Bokeh: all callbacks have finished\");\n  }\n\n  function load_libs(js_urls, callback) {\n    root._bokeh_onload_callbacks.push(callback);\n    if (root._bokeh_is_loading > 0) {\n      console.log(\"Bokeh: BokehJS is being loaded, scheduling callback at\", now());\n      return null;\n    }\n    if (js_urls == null || js_urls.length === 0) {\n      run_callbacks();\n      return null;\n    }\n    console.log(\"Bokeh: BokehJS not loaded, scheduling load and callback at\", now());\n    root._bokeh_is_loading = js_urls.length;\n    for (var i = 0; i < js_urls.length; i++) {\n      var url = js_urls[i];\n      var s = document.createElement('script');\n      s.src = url;\n      s.async = false;\n      s.onreadystatechange = s.onload = function() {\n        root._bokeh_is_loading--;\n        if (root._bokeh_is_loading === 0) {\n          console.log(\"Bokeh: all BokehJS libraries loaded\");\n          run_callbacks()\n        }\n      };\n      s.onerror = function() {\n        console.warn(\"failed to load library \" + url);\n      };\n      console.log(\"Bokeh: injecting script tag for BokehJS library: \", url);\n      document.getElementsByTagName(\"head\")[0].appendChild(s);\n    }\n  };var element = document.getElementById(\"0135c305-c2fa-4b49-b8b2-35cb473d0107\");\n  if (element == null) {\n    console.log(\"Bokeh: ERROR: autoload.js configured with elementid '0135c305-c2fa-4b49-b8b2-35cb473d0107' but no matching script tag was found. \")\n    return false;\n  }\n\n  var js_urls = [\"https://cdn.pydata.org/bokeh/release/bokeh-0.12.14.min.js\", \"https://cdn.pydata.org/bokeh/release/bokeh-widgets-0.12.14.min.js\", \"https://cdn.pydata.org/bokeh/release/bokeh-tables-0.12.14.min.js\", \"https://cdn.pydata.org/bokeh/release/bokeh-gl-0.12.14.min.js\"];\n\n  var inline_js = [\n    function(Bokeh) {\n      Bokeh.set_log_level(\"info\");\n    },\n    \n    function(Bokeh) {\n      \n    },\n    function(Bokeh) {\n      console.log(\"Bokeh: injecting CSS: https://cdn.pydata.org/bokeh/release/bokeh-0.12.14.min.css\");\n      Bokeh.embed.inject_css(\"https://cdn.pydata.org/bokeh/release/bokeh-0.12.14.min.css\");\n      console.log(\"Bokeh: injecting CSS: https://cdn.pydata.org/bokeh/release/bokeh-widgets-0.12.14.min.css\");\n      Bokeh.embed.inject_css(\"https://cdn.pydata.org/bokeh/release/bokeh-widgets-0.12.14.min.css\");\n      console.log(\"Bokeh: injecting CSS: https://cdn.pydata.org/bokeh/release/bokeh-tables-0.12.14.min.css\");\n      Bokeh.embed.inject_css(\"https://cdn.pydata.org/bokeh/release/bokeh-tables-0.12.14.min.css\");\n    }\n  ];\n\n  function run_inline_js() {\n    \n    if ((root.Bokeh !== undefined) || (force === true)) {\n      for (var i = 0; i < inline_js.length; i++) {\n        inline_js[i].call(root, root.Bokeh);\n      }if (force === true) {\n        display_loaded();\n      }} else if (Date.now() < root._bokeh_timeout) {\n      setTimeout(run_inline_js, 100);\n    } else if (!root._bokeh_failed_load) {\n      console.log(\"Bokeh: BokehJS failed to load within specified timeout.\");\n      root._bokeh_failed_load = true;\n    } else if (force !== true) {\n      var cell = $(document.getElementById(\"0135c305-c2fa-4b49-b8b2-35cb473d0107\")).parents('.cell').data().cell;\n      cell.output_area.append_execute_result(NB_LOAD_WARNING)\n    }\n\n  }\n\n  if (root._bokeh_is_loading === 0) {\n    console.log(\"Bokeh: BokehJS loaded, going straight to plotting\");\n    run_inline_js();\n  } else {\n    load_libs(js_urls, function() {\n      console.log(\"Bokeh: BokehJS plotting callback run at\", now());\n      run_inline_js();\n    });\n  }\n}(window));"
     },
     "metadata": {},
     "output_type": "display_data"
    }
   ],
   "source": [
    "output_notebook()"
   ]
  },
  {
   "cell_type": "code",
   "execution_count": 8,
   "metadata": {
    "collapsed": true
   },
   "outputs": [],
   "source": [
    "def fmt_cool(ds_in):\n",
    "    ds = ds_in.copy(deep=True)\n",
    "    if 'igg' in ds.dims:\n",
    "        ds = ds.sel(igg=1)\n",
    "\n",
    "    if 'g' in ds.dims:\n",
    "        ds = ds.sum('g')\n",
    "            \n",
    "    if 'band' in ds.dims:\n",
    "        try:\n",
    "            ds = ds.squeeze('band')\n",
    "        except ValueError:\n",
    "            ds = ds.sum('band')\n",
    "                \n",
    "    return ds['coolrg']\n",
    "\n",
    "\n",
    "def pltdata_cooling_1(ds_cool=None,\n",
    "                      ds_cool_crd=None, ds_cool_wgt=None):\n",
    "    \n",
    "\n",
    "\n",
    "    colors = all_palettes['Set1'][4]\n",
    "    data = [{'label': 'CLIRAD `coolr_bands`',\n",
    "             'srs': fmt_cool(ds_cool),\n",
    "             'line_dash': 'dashed', 'line_width': 5,\n",
    "             'color': colors[0], 'alpha': .6},\n",
    "            {'label': 'CRD',\n",
    "             'srs': fmt_cool(ds_cool_crd),\n",
    "             'line_dash': 'solid', 'line_width': 1.5,\n",
    "             'marker': 'circle', 'marker_size': 5,\n",
    "             'color': colors[2], 'alpha': 1,},\n",
    "            {'label': 'WGT igg=10 wgt_flux=2',\n",
    "             'srs': fmt_cool(ds_cool_wgt),\n",
    "             'line_dash': 'solid', 'line_width': 3,\n",
    "             'marker': 'square', 'marker_size': 5,\n",
    "             'color': colors[3], 'alpha': .6}]\n",
    "    return data\n",
    "\n",
    "\n",
    "def nice_xlims(pltdata=None, prange=None):\n",
    "    \n",
    "    def get_slice(srs):\n",
    "        return srs.sel(pressure=slice(*prange))\n",
    "    \n",
    "    srss = [d['srs'] for d in pltdata]\n",
    "    vmin = min([get_slice(srs).min() for srs in srss])\n",
    "    vmax = max([get_slice(srs).max() for srs in srss])\n",
    "    dv = (vmax - vmin) * .01\n",
    "    return float(vmin - dv), float(vmax + dv)\n",
    "    \n",
    "\n",
    "def plt_cooling_bokeh(pltdata=None):\n",
    "    '''\n",
    "    Plot a list of cooling rate profiles using bokeh.\n",
    "    '''\n",
    "    ymin = 1e-2 \n",
    "    ymax = 1020 \n",
    "        \n",
    "    p1 = figure(title=\"Linear pressure scale\", \n",
    "                plot_width=400)        \n",
    "    xmin, xmax = nice_xlims(pltdata, prange=(50, 1050))\n",
    "    for d in pltdata:\n",
    "        if 'marker' in d:\n",
    "            getattr(p1, d['marker'])(d['srs'].values, \n",
    "                    d['srs'].coords['pressure'].values,\n",
    "                    color=d['color'], alpha=.7)\n",
    "        p1.line(d['srs'].values, \n",
    "                d['srs'].coords['pressure'].values,\n",
    "                color=d['color'], alpha=d['alpha'], \n",
    "                line_width=d['line_width'], line_dash=d['line_dash'])\n",
    "    \n",
    "    p1.y_range = Range1d(ymax, ymin)\n",
    "    p1.yaxis.axis_label = 'pressure [mb]'   \n",
    "    p1.x_range = Range1d(xmin, xmax)\n",
    "    p1.xaxis.axis_label = 'cooling rate [K/day]'\n",
    "            \n",
    "    p2 = figure(title='Log pressure scale', y_axis_type='log',\n",
    "                plot_width=560)\n",
    "    xmin, xmax = nice_xlims(pltdata, prange=(.01, 200))\n",
    "    \n",
    "    rs = []\n",
    "    for d in pltdata:\n",
    "        rd = []\n",
    "        if 'marker' in d:\n",
    "            r_mark = getattr(p2, d['marker'])(d['srs'].values, \n",
    "                        d['srs'].coords['pressure'].values,\n",
    "                        color=d['color'], alpha=.7)\n",
    "            rd.append(r_mark)\n",
    "        r_line = p2.line(d['srs'].values, \n",
    "                    d['srs'].coords['pressure'].values,\n",
    "                    color=d['color'], alpha=d['alpha'], \n",
    "                    line_width=d['line_width'], line_dash=d['line_dash'])\n",
    "        rd.append(r_line)\n",
    "      \n",
    "        rs.append(rd)\n",
    "        \n",
    "    p2.y_range = Range1d(ymax, ymin)  \n",
    "    p2.yaxis.axis_label = 'pressure [mb]'\n",
    "    \n",
    "    p2.x_range = Range1d(xmin, xmax)\n",
    "    p2.xaxis.axis_label = 'cooling rate [K/day]'\n",
    "    \n",
    "    items = [(d['label'], r) for r, d in zip(rs, pltdata)]\n",
    "    legend = Legend(items=items, location=(10, -30))\n",
    "    legend.label_text_font_size = '8pt'\n",
    "    \n",
    "    p2.add_layout(legend, 'right')  \n",
    "    \n",
    "    show(gridplot(p1, p2, ncols=2, plot_height=500))\n",
    "    \n",
    "\n",
    "def script_plt_cooling():\n",
    "    pltdata = pltdata_cooling_1(\n",
    "        ds_cool=DS_COOL,\n",
    "        ds_cool_crd=DS_COOL_CRD,\n",
    "        ds_cool_wgt=DS_COOL_WGT)\n",
    "    plt_cooling_bokeh(pltdata=pltdata)\n",
    "    print('''FIGURE. Cooling rate profiles.''')"
   ]
  },
  {
   "cell_type": "code",
   "execution_count": 9,
   "metadata": {
    "collapsed": true
   },
   "outputs": [],
   "source": [
    "def fmt_flux(ds_in):\n",
    "    ds = ds_in.copy(deep=True)\n",
    "    \n",
    "    for l in ('level', 'layer'):\n",
    "        if l in ds.data_vars:\n",
    "            if len(ds[l].dims) > 1:\n",
    "                surface = {d: 0 for d in ds.dims if d != 'pressure'}\n",
    "                coord_level = ds[l][surface]\n",
    "                ds.coords[l] = ('pressure', coord_level)\n",
    "            else:\n",
    "                ds.coords[l] = ('pressure', ds[l])\n",
    "        \n",
    "    ds = ds.isel(pressure=[0, 23, -1])\n",
    "        \n",
    "    if 'igg' in ds.dims:\n",
    "        ds = ds.sel(igg=[1])\n",
    "        ds = ds.squeeze('igg').drop('igg')\n",
    "    \n",
    "    if 'g' in ds.dims:\n",
    "        ds = ds.sum('g')\n",
    "            \n",
    "    if 'band' in ds.dims:\n",
    "        try:\n",
    "            ds = ds.squeeze('band').drop('band')\n",
    "        except ValueError:\n",
    "            ds = ds.sum('band')\n",
    "                \n",
    "    df = ds.to_dataframe()\n",
    "    df = df.set_index('level', append=True)               \n",
    "    return df\n",
    "\n",
    "\n",
    "def tbdata_flux(ds_flux=None, ds_flux_crd=None, ds_flux_wgt=None):\n",
    "    ilevels = [0, 23, -1]\n",
    "            \n",
    "    benchmark = {'label': 'WGT igg=10 wgt_flux=1',\n",
    "                 'df': fmt_flux(ds_flux_wgt)}\n",
    "    \n",
    "    tbs = [{'label': 'CRD',\n",
    "            'df': fmt_flux(ds_flux_crd)},\n",
    "           {'label': 'CLIRAD',\n",
    "            'df': fmt_flux(ds_flux)}]\n",
    "    \n",
    "    data = {'benchmark': benchmark, 'others': tbs}\n",
    "    return data\n",
    "\n",
    "\n",
    "def tb_flux(tbdata=None):\n",
    "    benchmark = tbdata['benchmark']\n",
    "    others = tbdata['others']\n",
    "    \n",
    "    def show_tb(d=None):\n",
    "        display.display(d['df'])\n",
    "        print('Table.', 'Fluxes.', d['label'])\n",
    "        \n",
    "    def show_tbdiff(d0=None, d=None):\n",
    "        df = d['df']\n",
    "        df.index = d0['df'].index\n",
    "        display.display(df - d0['df'])\n",
    "        print('Table.', 'Fluxes.', \n",
    "              '({}) - ({})'.format(d['label'], d0['label']))\n",
    "        \n",
    "    show_tb(benchmark)\n",
    "    for d in others:\n",
    "        show_tb(d)\n",
    "        \n",
    "    for d in others:\n",
    "        show_tbdiff(d=d, d0=benchmark)\n",
    "        \n",
    "        \n",
    "def script_tb_flux():\n",
    "    data = tbdata_flux(ds_flux=DS_FLUX,\n",
    "                       ds_flux_crd=DS_FLUX_CRD,\n",
    "                       ds_flux_wgt=DS_FLUX_WGT)\n",
    "    tb_flux(tbdata=data)"
   ]
  },
  {
   "cell_type": "code",
   "execution_count": 10,
   "metadata": {
    "collapsed": true
   },
   "outputs": [],
   "source": [
    "def band_map():\n",
    "    '''\n",
    "    Maps spectral bands in lblnew to spectral bands in clirad.\n",
    "    '''\n",
    "    lblnew2clirad = {'1': '1',\n",
    "            '2': '2',\n",
    "            '3a': '3',\n",
    "            '3b': '4',\n",
    "            '3c': '5',\n",
    "            '4': '6', \n",
    "            '5': '7',\n",
    "            '6': '8',\n",
    "            '7': '9', \n",
    "            '8': '10',\n",
    "            '9': '11'}\n",
    "    \n",
    "    clirad2lblnew = {clirad: lblnew \n",
    "                     for lblnew, clirad in lblnew2clirad.items()}\n",
    "    return clirad2lblnew\n",
    "\n",
    "\n",
    "def gasbands():\n",
    "    bmap = band_map()\n",
    "    gases = list(PARAM['molecule'].keys())\n",
    "    \n",
    "    bands = [bmap[str(b)] for b in PARAM['band']]\n",
    "    return list(itertools.product(gases, bands))\n",
    "\n",
    "\n",
    "def print_bestfit_params():\n",
    "    print('Best-fit values for each (gas, band)')\n",
    "    print('------------------------------------')\n",
    "    for gas, band in gasbands():\n",
    "        print('o {} band{}'.format(gas, band))\n",
    "        param = bestfits.kdist_params(molecule=gas, band=band)\n",
    "        for name, value in sorted(param.items()):\n",
    "            print(2 * ' ' + '{} = {}'.format(name, value))\n",
    "\n",
    "        \n",
    "def print_input_param():        \n",
    "    for name, value in PARAM.items():\n",
    "        print('{} = {}'.format(name, value))\n",
    "        \n",
    "        \n",
    "def print_lblnew_param():\n",
    "    for name, value in sorted(PARAM_LBLNEW.items()):\n",
    "        print('{} = {}'.format(name, value))\n"
   ]
  },
  {
   "cell_type": "code",
   "execution_count": 11,
   "metadata": {
    "collapsed": true,
    "scrolled": false
   },
   "outputs": [],
   "source": [
    "def show_html(s):\n",
    "    display.display(display.HTML(s))\n",
    "\n",
    "    \n",
    "def show_markdown(s):\n",
    "    display.display(display.Markdown(s))\n",
    "\n",
    "    \n",
    "def script():\n",
    "    \n",
    "    title = '### CLIRAD-LW'\n",
    "    s_input = 'Input Parameters'\n",
    "    s_lblnew_param = 'LBLNEW case compaired against'\n",
    "    s_bestfits = 'Best-fit Parameters'\n",
    "    s_plt_cooling = 'Cooling Rate Profiles'\n",
    "    s_tb_flux = 'Flux Comparison'\n",
    "    \n",
    "    # title\n",
    "    show_markdown('### CLIRAD-LW')\n",
    "    \n",
    "    # TOC\n",
    "    show_markdown('### Table of Contents')\n",
    "    show_html(climahtml.getHTML_hrefanchor(s_input))\n",
    "    show_html(climahtml.getHTML_hrefanchor(s_lblnew_param))\n",
    "    show_html(climahtml.getHTML_hrefanchor(s_plt_cooling))\n",
    "    show_html(climahtml.getHTML_hrefanchor(s_tb_flux))\n",
    "    show_html(climahtml.getHTML_hrefanchor(s_bestfits))\n",
    "    \n",
    "    # Input parameters\n",
    "    show_html(climahtml.getHTML_idanchor(s_input))\n",
    "    show_markdown(climahtml.getMarkdown_sectitle(s_input))\n",
    "    print_input_param()\n",
    "    \n",
    "    # LBLNEW parameters \n",
    "    show_html(climahtml.getHTML_idanchor(s_lblnew_param))\n",
    "    show_markdown(climahtml.getMarkdown_sectitle(s_lblnew_param))\n",
    "    print_lblnew_param()\n",
    "    \n",
    "    # Cooling rate profiles\n",
    "    show_html(climahtml.getHTML_idanchor(s_plt_cooling))\n",
    "    show_markdown(climahtml.getMarkdown_sectitle(s_plt_cooling))\n",
    "    script_plt_cooling()\n",
    "    \n",
    "    # Flux comparison\n",
    "    show_html(climahtml.getHTML_idanchor(s_tb_flux))\n",
    "    show_markdown(climahtml.getMarkdown_sectitle(s_tb_flux))\n",
    "    script_tb_flux()\n",
    "    \n",
    "    # Best-fit values\n",
    "    show_html(climahtml.getHTML_idanchor(s_bestfits))\n",
    "    show_markdown(climahtml.getMarkdown_sectitle(s_bestfits))\n",
    "    print_bestfit_params()\n",
    "   \n",
    "    "
   ]
  },
  {
   "cell_type": "code",
   "execution_count": 12,
   "metadata": {
    "collapsed": true,
    "scrolled": false
   },
   "outputs": [
    {
     "data": {
      "text/markdown": [
       "### CLIRAD-LW"
      ],
      "text/plain": [
       "<IPython.core.display.Markdown object>"
      ]
     },
     "metadata": {},
     "output_type": "display_data"
    },
    {
     "data": {
      "text/markdown": [
       "### Table of Contents"
      ],
      "text/plain": [
       "<IPython.core.display.Markdown object>"
      ]
     },
     "metadata": {},
     "output_type": "display_data"
    },
    {
     "data": {
      "text/html": [
       "<a href=\"#Input_Parameters\">Input Parameters</a>"
      ],
      "text/plain": [
       "<IPython.core.display.HTML object>"
      ]
     },
     "metadata": {},
     "output_type": "display_data"
    },
    {
     "data": {
      "text/html": [
       "<a href=\"#LBLNEW_case_compaired_against\">LBLNEW case compaired against</a>"
      ],
      "text/plain": [
       "<IPython.core.display.HTML object>"
      ]
     },
     "metadata": {},
     "output_type": "display_data"
    },
    {
     "data": {
      "text/html": [
       "<a href=\"#Cooling_Rate_Profiles\">Cooling Rate Profiles</a>"
      ],
      "text/plain": [
       "<IPython.core.display.HTML object>"
      ]
     },
     "metadata": {},
     "output_type": "display_data"
    },
    {
     "data": {
      "text/html": [
       "<a href=\"#Flux_Comparison\">Flux Comparison</a>"
      ],
      "text/plain": [
       "<IPython.core.display.HTML object>"
      ]
     },
     "metadata": {},
     "output_type": "display_data"
    },
    {
     "data": {
      "text/html": [
       "<a href=\"#Best-fit_Parameters\">Best-fit Parameters</a>"
      ],
      "text/plain": [
       "<IPython.core.display.HTML object>"
      ]
     },
     "metadata": {},
     "output_type": "display_data"
    },
    {
     "data": {
      "text/html": [
       "<a id=\"Input_Parameters\"></a>"
      ],
      "text/plain": [
       "<IPython.core.display.HTML object>"
      ]
     },
     "metadata": {},
     "output_type": "display_data"
    },
    {
     "data": {
      "text/markdown": [
       "# Input Parameters"
      ],
      "text/plain": [
       "<IPython.core.display.Markdown object>"
      ]
     },
     "metadata": {},
     "output_type": "display_data"
    },
    {
     "name": "stdout",
     "output_type": "stream",
     "text": [
      "atmpro = trp\n",
      "band = [3]\n",
      "commitnumber = 7e55b57\n",
      "molecule = {'h2o': 'atmpro'}\n",
      "tsfc = 300\n"
     ]
    },
    {
     "data": {
      "text/html": [
       "<a id=\"LBLNEW_case_compaired_against\"></a>"
      ],
      "text/plain": [
       "<IPython.core.display.HTML object>"
      ]
     },
     "metadata": {},
     "output_type": "display_data"
    },
    {
     "data": {
      "text/markdown": [
       "# LBLNEW case compaired against"
      ],
      "text/plain": [
       "<IPython.core.display.Markdown object>"
      ]
     },
     "metadata": {},
     "output_type": "display_data"
    },
    {
     "name": "stdout",
     "output_type": "stream",
     "text": [
      "atmpro = trp\n",
      "band = 3a\n",
      "commitnumber = 5014a19\n",
      "conc = None\n",
      "dv = 0.01\n",
      "klin = 0\n",
      "molecule = h2o\n",
      "ng_adju = [0, 0]\n",
      "ng_refs = [2, 6]\n",
      "nv = 100\n",
      "option_compute_btable = 0\n",
      "option_compute_ktable = 0\n",
      "option_wgt_flux = 1\n",
      "option_wgt_k = 1\n",
      "ref_pts = [(10, 250), (600, 250)]\n",
      "tsfc = 300\n",
      "vmax = 620\n",
      "vmin = 540\n",
      "w_diffuse = [(1.9, 1.7), (1.4, 1.4, 1.4, 1.55, 1.6, 1.66)]\n",
      "wgt = [(0.7, 0.7), (0.7, 0.5, 0.5, 0.5, 0.5, 0.5)]\n"
     ]
    },
    {
     "data": {
      "text/html": [
       "<a id=\"Cooling_Rate_Profiles\"></a>"
      ],
      "text/plain": [
       "<IPython.core.display.HTML object>"
      ]
     },
     "metadata": {},
     "output_type": "display_data"
    },
    {
     "data": {
      "text/markdown": [
       "# Cooling Rate Profiles"
      ],
      "text/plain": [
       "<IPython.core.display.Markdown object>"
      ]
     },
     "metadata": {},
     "output_type": "display_data"
    },
    {
     "data": {
      "text/html": [
       "\n",
       "<div class=\"bk-root\">\n",
       "    <div class=\"bk-plotdiv\" id=\"b3513ce7-bd45-40da-91a8-27de53eef485\"></div>\n",
       "</div>"
      ]
     },
     "metadata": {},
     "output_type": "display_data"
    },
    {
     "data": {
      "application/javascript": [
       "(function(root) {\n",
       "  function embed_document(root) {\n",
       "    \n",
       "  var docs_json = {\"7796090d-0cc0-4402-a1c9-812be7474133\":{\"roots\":{\"references\":[{\"attributes\":{\"data_source\":{\"id\":\"53ba31e6-bf08-4775-9175-54a7dd33cd87\",\"type\":\"ColumnDataSource\"},\"glyph\":{\"id\":\"0e48254f-4abb-4c94-b0c8-a9a199d1a34d\",\"type\":\"Line\"},\"hover_glyph\":null,\"muted_glyph\":null,\"nonselection_glyph\":{\"id\":\"93de3e53-0924-443f-8532-8b3328fb60e1\",\"type\":\"Line\"},\"selection_glyph\":null,\"view\":{\"id\":\"a39734bc-362d-44ca-ab7e-985987f37943\",\"type\":\"CDSView\"}},\"id\":\"6d80d9e9-de7f-4fa8-9c8a-359430c5ab74\",\"type\":\"GlyphRenderer\"},{\"attributes\":{\"fill_alpha\":{\"value\":0.1},\"fill_color\":{\"value\":\"#1f77b4\"},\"line_alpha\":{\"value\":0.1},\"line_color\":{\"value\":\"#1f77b4\"},\"x\":{\"field\":\"x\"},\"y\":{\"field\":\"y\"}},\"id\":\"fd5af361-63eb-4d91-8831-8cdd102f0e91\",\"type\":\"Circle\"},{\"attributes\":{\"line_alpha\":0.6,\"line_color\":\"#984ea3\",\"line_width\":3,\"x\":{\"field\":\"x\"},\"y\":{\"field\":\"y\"}},\"id\":\"0e48254f-4abb-4c94-b0c8-a9a199d1a34d\",\"type\":\"Line\"},{\"attributes\":{\"line_alpha\":0.1,\"line_color\":\"#1f77b4\",\"line_dash\":[6],\"line_width\":5,\"x\":{\"field\":\"x\"},\"y\":{\"field\":\"y\"}},\"id\":\"75508156-0b4f-4933-acfb-5165a04b8f9e\",\"type\":\"Line\"},{\"attributes\":{\"axis_label\":\"pressure [mb]\",\"formatter\":{\"id\":\"af1ee058-025c-449a-a52f-2b472d79fd66\",\"type\":\"LogTickFormatter\"},\"plot\":{\"id\":\"7f5f731f-784b-4427-8ea0-f319323d39a3\",\"subtype\":\"Figure\",\"type\":\"Plot\"},\"ticker\":{\"id\":\"72b8ceec-c0b4-4aa2-a5b3-895016363554\",\"type\":\"LogTicker\"}},\"id\":\"bd741c7f-ddc3-4dd2-93b2-bf33411437e5\",\"type\":\"LogAxis\"},{\"attributes\":{\"callback\":null,\"column_names\":[\"x\",\"y\"],\"data\":{\"x\":{\"__ndarray__\":\"TCk7HAF3Uj94nccPdCdTP8uvv82ylFQ/YiCOo0b7VT/8IuS49YFXP8zHd1/BE1k/hBj9LtWwWj/3XCtIq1lcPzd5nFlVDl4/SLMcemrNXz8BeOLcMstgP5R7ce6PuGE/vHQGcfmtYj8/ERxZq+pjP05aME+MfGg/6apV+CzIcT8HjINzObl5P/Ycg7Li84E/X9Tdn75DiD/3Ni3XUv+PP5KNl4/krZQ/L9E3NtSrmT+23bWYYDebP7yNABpE1pg/Hwjm74w+lT8lh6LOaA2RPwEdDQeVk4o/QSKsclxVhD8w/wSXE29+P8kRBj20JnY/NVOJAIUtbz+15uSNvhNlP7q7N0vIX1s/881i2mSoUD9bF5pEjFE4P++fsHmPBCm/VNcuM0GyO7/4A4gWV3Ivv4J2OuLSSDM/sKqR4hBeUT/tTv/q0tpmP9DGPmgqJ4I/n2fK4E8FlT8DVS+NuRujP7SwptUxPq0/8SX5kI1OtD8HlcpLtay6P2md1WrpZ8A/xKpKZ31vwj8BiJBmwv/EP6oyIuqgQcg/YQLQYj4HzD/95AwD5/vPP1kji7AF79E/jmGhYXDl0z+sZG6OleLVPx/TsSvX5Nc/pcXd6Jva2T8QnP4JjqDbP/uQRlf4Kt0/uHhL32Jn3j9oTT4u10DfP3KuxAXlmd8/rb6FsIqT4D8rswaWnHHgP4wzfdk2Wd8/EZ1KfncI3T/LeTMXd27ZPzL4LGtSMtY/3+r950Sa0z92S8Gz13vRP3gSpzdKmM8/Zk/iczUqzT+oqlqzzR7MP2fQ1fWpmdA/\",\"dtype\":\"float64\",\"shape\":[75]},\"y\":{\"__ndarray__\":\"GhExyth1ND/Sv8nbtpRIP2vylNV0PVE/aTum7souWD/At0SJ8fVgPw3Iuahxymc/MSNhhJWvcD/bTfBN02d3P2zb5nxnaoA/CD5h5MAGhz8NmeH1TyaQP+zrCsc9p5Y/LbKd76fGnz/bLW5ISEmmPww9YvTcQq8/JV2OstnstT8Er5Y7M8G+P0c+r3jqkcU/5h99k6ZBzj88bCIzFzjVP4enV8oyxN0//yH99nXg5D8qOpLLf0jtP5kqGJXUifQ/c9cS8kHP/D+/DpwzojQEQIEmwoanVwxA4lgXt9HgE0BSSZ2AJuIbQAMJih9jjiNA5q4l5INuK0AwTKYKRj0zQNv5fmq8/DpAaCJseHrtQkB/+zpwzoxKQM3MzMzMeFJAZmZmZmZqWEAAAAAAAFxeQM3MzMzMJmJAmpmZmZkfZUBmZmZmZhhoQDMzMzMzEWtAAAAAAAAKbkBmZmZmZoFwQM3MzMzM/XFAMzMzMzN6c0CamZmZmfZ0QAAAAAAAc3ZAZmZmZmbvd0DNzMzMzGt5QDMzMzMz6HpAmpmZmZlkfEAAAAAAAOF9QGZmZmZmXX9AZmZmZuZsgECamZmZGSuBQM3MzMxM6YFAAAAAAICngkAzMzMzs2WDQGZmZmbmI4RAmpmZmRnihEDNzMzMTKCFQAAAAACAXoZAMzMzM7Mch0BmZmZm5tqHQJqZmZkZmYhAzczMzExXiUAAAAAAgBWKQDMzMzOz04pAZmZmZuaRi0CamZmZGVCMQM3MzMxMDo1AAAAAAIDMjUAzMzMzs4qOQGZmZmbmSI9A\",\"dtype\":\"float64\",\"shape\":[75]}}},\"id\":\"9e5f5706-2fe7-468b-ab56-4343021597cb\",\"type\":\"ColumnDataSource\"},{\"attributes\":{},\"id\":\"a6924439-d04e-4849-97fa-d61e20ad38de\",\"type\":\"BasicTicker\"},{\"attributes\":{\"label\":{\"value\":\"WGT igg=10 wgt_flux=2\"},\"renderers\":[{\"id\":\"0f86d042-42ec-43bf-ac45-b4d79f70e519\",\"type\":\"GlyphRenderer\"},{\"id\":\"46a275b1-2f8c-46d6-bc1c-d0722d23d8a8\",\"type\":\"GlyphRenderer\"}]},\"id\":\"1578c4e7-b045-4807-ba07-ef51d1ede277\",\"type\":\"LegendItem\"},{\"attributes\":{\"dimension\":1,\"plot\":{\"id\":\"7f5f731f-784b-4427-8ea0-f319323d39a3\",\"subtype\":\"Figure\",\"type\":\"Plot\"},\"ticker\":{\"id\":\"72b8ceec-c0b4-4aa2-a5b3-895016363554\",\"type\":\"LogTicker\"}},\"id\":\"bb3ab6a4-aa90-47fe-8bad-065a3d21dd38\",\"type\":\"Grid\"},{\"attributes\":{},\"id\":\"fbc088cd-b723-43af-8a75-2abd05629398\",\"type\":\"LogScale\"},{\"attributes\":{\"fill_alpha\":{\"value\":0.7},\"fill_color\":{\"value\":\"#984ea3\"},\"line_alpha\":{\"value\":0.7},\"line_color\":{\"value\":\"#984ea3\"},\"x\":{\"field\":\"x\"},\"y\":{\"field\":\"y\"}},\"id\":\"dea327ec-a03d-4c1a-b04c-2ea6789a0fc2\",\"type\":\"Square\"},{\"attributes\":{\"axis_label\":\"cooling rate [K/day]\",\"formatter\":{\"id\":\"50871848-0106-4442-be9c-11c859d07af5\",\"type\":\"BasicTickFormatter\"},\"plot\":{\"id\":\"7f5f731f-784b-4427-8ea0-f319323d39a3\",\"subtype\":\"Figure\",\"type\":\"Plot\"},\"ticker\":{\"id\":\"a6924439-d04e-4849-97fa-d61e20ad38de\",\"type\":\"BasicTicker\"}},\"id\":\"3708b120-6ed8-4542-ba79-a3a00e40462a\",\"type\":\"LinearAxis\"},{\"attributes\":{\"source\":{\"id\":\"f0d8fe17-b9b7-4898-b88e-14998d3003e9\",\"type\":\"ColumnDataSource\"}},\"id\":\"c62b1d0d-7e0d-4625-b026-72ae7c151ff7\",\"type\":\"CDSView\"},{\"attributes\":{\"data_source\":{\"id\":\"9e5f5706-2fe7-468b-ab56-4343021597cb\",\"type\":\"ColumnDataSource\"},\"glyph\":{\"id\":\"dea327ec-a03d-4c1a-b04c-2ea6789a0fc2\",\"type\":\"Square\"},\"hover_glyph\":null,\"muted_glyph\":null,\"nonselection_glyph\":{\"id\":\"a4a2bbd0-25b4-4a92-a022-f1732b27838b\",\"type\":\"Square\"},\"selection_glyph\":null,\"view\":{\"id\":\"0d38ce28-0328-4527-a7c8-9d9983a827f9\",\"type\":\"CDSView\"}},\"id\":\"2fb17073-5d40-4177-9408-136d8ce9de70\",\"type\":\"GlyphRenderer\"},{\"attributes\":{\"num_minor_ticks\":10},\"id\":\"72b8ceec-c0b4-4aa2-a5b3-895016363554\",\"type\":\"LogTicker\"},{\"attributes\":{\"plot\":null,\"text\":\"Log pressure scale\"},\"id\":\"32774081-84db-4f34-a871-c493afa51242\",\"type\":\"Title\"},{\"attributes\":{\"plot\":{\"id\":\"7f5f731f-784b-4427-8ea0-f319323d39a3\",\"subtype\":\"Figure\",\"type\":\"Plot\"},\"ticker\":{\"id\":\"a6924439-d04e-4849-97fa-d61e20ad38de\",\"type\":\"BasicTicker\"}},\"id\":\"cdad60da-c7ea-4098-af9e-f9618d1576a2\",\"type\":\"Grid\"},{\"attributes\":{\"callback\":null,\"column_names\":[\"x\",\"y\"],\"data\":{\"x\":{\"__ndarray__\":\"T13RvDW0Qz/BXp+L4j5FP9BIl3qrXUg/hl/oanG8Sz9ezodb2DpPP/XSRaioalE/Wu5QPWdFUz+k+BO19i5VP8vdrN+aJFc/cJFWGD0gWT9eTN64OC5bP3eULCLoOl0/iOSCOLG1Xj/Dwdrn3KVgP/ePZiRypWU/YeuZr2AMcT8VWqegUzZ6P3ENbXFm44I/Nd4t+zv8iT/XAGg+LkSRP7sKWXi/U5Y/0pCO/tmHmz/O3nyXEHucPxjrDG2v7pg/8YWyuEtXlD8C4J1R+g+PP8I47WacP4c/Nj8xeyh0gT/V4IzJemR6Py9R4I3jCHQ/zz/CM884bj+st3sxg1VmP5bB8hKl/l8/ilFwZcuhVT/oIUdPtPpDP0O5mShKdA2/C0SmTi9rN7+vbdvbsjwov4E2LOQOtjg/gHViONpWUz8PbXf7ondoP+Qs3mN/zYI/KKDDW2sYlT9p9KqbedyiPygRsycZ6qw/2mKvXuIbtD/rME987066P98PiYxYVcA/W1W8sofNwj8ze4/pv73FP+MVyrpmD8k/IjIPDUm1zD8+vABeE1DQP2SYj3slVtI/clAld5Zo1D+6wnlA8nHWP2+E4hrhZdg/A2VsS5E62j8buyPn7d3bP31R7ZlGT90/Jxtqb0t/3j9D1Z5I5kffPy2f/hYRg98/ET6M94Bs4D/b9uIwPSbgP0UhVVbLhN4/MSfkWh8c3D9VnZtX8Z3YP8f/FeBYo9U/YkSqQftF0z+CIeUGx1XRP7i4W8yuf88/he4OAIcWzT8J/MDZ1uTLP2vobvDoc9A/\",\"dtype\":\"float64\",\"shape\":[75]},\"y\":{\"__ndarray__\":\"GhExyth1ND/Sv8nbtpRIP2vylNV0PVE/aTum7souWD/At0SJ8fVgPw3Iuahxymc/MSNhhJWvcD/bTfBN02d3P2zb5nxnaoA/CD5h5MAGhz8NmeH1TyaQP+zrCsc9p5Y/LbKd76fGnz/bLW5ISEmmPww9YvTcQq8/JV2OstnstT8Er5Y7M8G+P0c+r3jqkcU/5h99k6ZBzj88bCIzFzjVP4enV8oyxN0//yH99nXg5D8qOpLLf0jtP5kqGJXUifQ/c9cS8kHP/D+/DpwzojQEQIEmwoanVwxA4lgXt9HgE0BSSZ2AJuIbQAMJih9jjiNA5q4l5INuK0AwTKYKRj0zQNv5fmq8/DpAaCJseHrtQkB/+zpwzoxKQM3MzMzMeFJAZmZmZmZqWEAAAAAAAFxeQM3MzMzMJmJAmpmZmZkfZUBmZmZmZhhoQDMzMzMzEWtAAAAAAAAKbkBmZmZmZoFwQM3MzMzM/XFAMzMzMzN6c0CamZmZmfZ0QAAAAAAAc3ZAZmZmZmbvd0DNzMzMzGt5QDMzMzMz6HpAmpmZmZlkfEAAAAAAAOF9QGZmZmZmXX9AZmZmZuZsgECamZmZGSuBQM3MzMxM6YFAAAAAAICngkAzMzMzs2WDQGZmZmbmI4RAmpmZmRnihEDNzMzMTKCFQAAAAACAXoZAMzMzM7Mch0BmZmZm5tqHQJqZmZkZmYhAzczMzExXiUAAAAAAgBWKQDMzMzOz04pAZmZmZuaRi0CamZmZGVCMQM3MzMxMDo1AAAAAAIDMjUAzMzMzs4qOQGZmZmbmSI9A\",\"dtype\":\"float64\",\"shape\":[75]}}},\"id\":\"297be74e-040b-4d48-8426-fa1a961ede5c\",\"type\":\"ColumnDataSource\"},{\"attributes\":{\"fill_alpha\":{\"value\":0.1},\"fill_color\":{\"value\":\"#1f77b4\"},\"line_alpha\":{\"value\":0.1},\"line_color\":{\"value\":\"#1f77b4\"},\"x\":{\"field\":\"x\"},\"y\":{\"field\":\"y\"}},\"id\":\"a4a2bbd0-25b4-4a92-a022-f1732b27838b\",\"type\":\"Square\"},{\"attributes\":{\"callback\":null,\"column_names\":[\"x\",\"y\"],\"data\":{\"x\":{\"__ndarray__\":\"TCk7HAF3Uj94nccPdCdTP8uvv82ylFQ/YiCOo0b7VT/8IuS49YFXP8zHd1/BE1k/hBj9LtWwWj/3XCtIq1lcPzd5nFlVDl4/SLMcemrNXz8BeOLcMstgP5R7ce6PuGE/vHQGcfmtYj8/ERxZq+pjP05aME+MfGg/6apV+CzIcT8HjINzObl5P/Ycg7Li84E/X9Tdn75DiD/3Ni3XUv+PP5KNl4/krZQ/L9E3NtSrmT+23bWYYDebP7yNABpE1pg/Hwjm74w+lT8lh6LOaA2RPwEdDQeVk4o/QSKsclxVhD8w/wSXE29+P8kRBj20JnY/NVOJAIUtbz+15uSNvhNlP7q7N0vIX1s/881i2mSoUD9bF5pEjFE4P++fsHmPBCm/VNcuM0GyO7/4A4gWV3Ivv4J2OuLSSDM/sKqR4hBeUT/tTv/q0tpmP9DGPmgqJ4I/n2fK4E8FlT8DVS+NuRujP7SwptUxPq0/8SX5kI1OtD8HlcpLtay6P2md1WrpZ8A/xKpKZ31vwj8BiJBmwv/EP6oyIuqgQcg/YQLQYj4HzD/95AwD5/vPP1kji7AF79E/jmGhYXDl0z+sZG6OleLVPx/TsSvX5Nc/pcXd6Jva2T8QnP4JjqDbP/uQRlf4Kt0/uHhL32Jn3j9oTT4u10DfP3KuxAXlmd8/rb6FsIqT4D8rswaWnHHgP4wzfdk2Wd8/EZ1KfncI3T/LeTMXd27ZPzL4LGtSMtY/3+r950Sa0z92S8Gz13vRP3gSpzdKmM8/Zk/iczUqzT+oqlqzzR7MP2fQ1fWpmdA/\",\"dtype\":\"float64\",\"shape\":[75]},\"y\":{\"__ndarray__\":\"GhExyth1ND/Sv8nbtpRIP2vylNV0PVE/aTum7souWD/At0SJ8fVgPw3Iuahxymc/MSNhhJWvcD/bTfBN02d3P2zb5nxnaoA/CD5h5MAGhz8NmeH1TyaQP+zrCsc9p5Y/LbKd76fGnz/bLW5ISEmmPww9YvTcQq8/JV2OstnstT8Er5Y7M8G+P0c+r3jqkcU/5h99k6ZBzj88bCIzFzjVP4enV8oyxN0//yH99nXg5D8qOpLLf0jtP5kqGJXUifQ/c9cS8kHP/D+/DpwzojQEQIEmwoanVwxA4lgXt9HgE0BSSZ2AJuIbQAMJih9jjiNA5q4l5INuK0AwTKYKRj0zQNv5fmq8/DpAaCJseHrtQkB/+zpwzoxKQM3MzMzMeFJAZmZmZmZqWEAAAAAAAFxeQM3MzMzMJmJAmpmZmZkfZUBmZmZmZhhoQDMzMzMzEWtAAAAAAAAKbkBmZmZmZoFwQM3MzMzM/XFAMzMzMzN6c0CamZmZmfZ0QAAAAAAAc3ZAZmZmZmbvd0DNzMzMzGt5QDMzMzMz6HpAmpmZmZlkfEAAAAAAAOF9QGZmZmZmXX9AZmZmZuZsgECamZmZGSuBQM3MzMxM6YFAAAAAAICngkAzMzMzs2WDQGZmZmbmI4RAmpmZmRnihEDNzMzMTKCFQAAAAACAXoZAMzMzM7Mch0BmZmZm5tqHQJqZmZkZmYhAzczMzExXiUAAAAAAgBWKQDMzMzOz04pAZmZmZuaRi0CamZmZGVCMQM3MzMxMDo1AAAAAAIDMjUAzMzMzs4qOQGZmZmbmSI9A\",\"dtype\":\"float64\",\"shape\":[75]}}},\"id\":\"53ba31e6-bf08-4775-9175-54a7dd33cd87\",\"type\":\"ColumnDataSource\"},{\"attributes\":{},\"id\":\"fdc46655-1e33-4a8e-8d58-2e005d58192a\",\"type\":\"BasicTickFormatter\"},{\"attributes\":{\"below\":[{\"id\":\"3708b120-6ed8-4542-ba79-a3a00e40462a\",\"type\":\"LinearAxis\"}],\"left\":[{\"id\":\"bd741c7f-ddc3-4dd2-93b2-bf33411437e5\",\"type\":\"LogAxis\"}],\"plot_height\":500,\"plot_width\":560,\"renderers\":[{\"id\":\"3708b120-6ed8-4542-ba79-a3a00e40462a\",\"type\":\"LinearAxis\"},{\"id\":\"cdad60da-c7ea-4098-af9e-f9618d1576a2\",\"type\":\"Grid\"},{\"id\":\"bd741c7f-ddc3-4dd2-93b2-bf33411437e5\",\"type\":\"LogAxis\"},{\"id\":\"bb3ab6a4-aa90-47fe-8bad-065a3d21dd38\",\"type\":\"Grid\"},{\"id\":\"15d6f656-47b5-4be7-89cc-6f92386b6968\",\"type\":\"BoxAnnotation\"},{\"id\":\"c1754de6-cb24-489f-b132-084efc3054bb\",\"type\":\"GlyphRenderer\"},{\"id\":\"4488c14a-1490-4555-8a0e-28c3a8f1d861\",\"type\":\"GlyphRenderer\"},{\"id\":\"824f2e8d-bf49-420d-91b3-358fd8ea9aa0\",\"type\":\"GlyphRenderer\"},{\"id\":\"0f86d042-42ec-43bf-ac45-b4d79f70e519\",\"type\":\"GlyphRenderer\"},{\"id\":\"46a275b1-2f8c-46d6-bc1c-d0722d23d8a8\",\"type\":\"GlyphRenderer\"},{\"id\":\"39d44e2c-1498-4313-93cb-9c6d79a1ad8a\",\"type\":\"Legend\"}],\"right\":[{\"id\":\"39d44e2c-1498-4313-93cb-9c6d79a1ad8a\",\"type\":\"Legend\"}],\"title\":{\"id\":\"32774081-84db-4f34-a871-c493afa51242\",\"type\":\"Title\"},\"toolbar\":{\"id\":\"8f899156-fb57-4d59-982b-526d844ec541\",\"type\":\"Toolbar\"},\"toolbar_location\":null,\"x_range\":{\"id\":\"187eb412-38a3-47ff-9cd9-20ce8a50277f\",\"type\":\"Range1d\"},\"x_scale\":{\"id\":\"2de21310-650c-4e79-aa08-85f32188f7c2\",\"type\":\"LinearScale\"},\"y_range\":{\"id\":\"93a4ae92-9a0d-4cd9-9655-5b0220050c77\",\"type\":\"Range1d\"},\"y_scale\":{\"id\":\"fbc088cd-b723-43af-8a75-2abd05629398\",\"type\":\"LogScale\"}},\"id\":\"7f5f731f-784b-4427-8ea0-f319323d39a3\",\"subtype\":\"Figure\",\"type\":\"Plot\"},{\"attributes\":{\"data_source\":{\"id\":\"47849cfb-2367-4ea6-b6ce-e810c9bc012c\",\"type\":\"ColumnDataSource\"},\"glyph\":{\"id\":\"65bce3c0-f4a4-4f27-9dd7-fdb447e433b7\",\"type\":\"Line\"},\"hover_glyph\":null,\"muted_glyph\":null,\"nonselection_glyph\":{\"id\":\"d1548d7b-df0b-4123-8ae3-5700afa9bc34\",\"type\":\"Line\"},\"selection_glyph\":null,\"view\":{\"id\":\"a654bed3-832b-49fc-ae9a-d96e5e0a04a5\",\"type\":\"CDSView\"}},\"id\":\"c1754de6-cb24-489f-b132-084efc3054bb\",\"type\":\"GlyphRenderer\"},{\"attributes\":{\"source\":{\"id\":\"9e5f5706-2fe7-468b-ab56-4343021597cb\",\"type\":\"ColumnDataSource\"}},\"id\":\"0d38ce28-0328-4527-a7c8-9d9983a827f9\",\"type\":\"CDSView\"},{\"attributes\":{\"source\":{\"id\":\"53ba31e6-bf08-4775-9175-54a7dd33cd87\",\"type\":\"ColumnDataSource\"}},\"id\":\"a39734bc-362d-44ca-ab7e-985987f37943\",\"type\":\"CDSView\"},{\"attributes\":{\"line_alpha\":0.1,\"line_color\":\"#1f77b4\",\"line_width\":3,\"x\":{\"field\":\"x\"},\"y\":{\"field\":\"y\"}},\"id\":\"93de3e53-0924-443f-8532-8b3328fb60e1\",\"type\":\"Line\"},{\"attributes\":{\"line_alpha\":0.6,\"line_color\":\"#e41a1c\",\"line_dash\":[6],\"line_width\":5,\"x\":{\"field\":\"x\"},\"y\":{\"field\":\"y\"}},\"id\":\"cf3047f5-70ce-4d48-b8dd-a4d858cf03ec\",\"type\":\"Line\"},{\"attributes\":{\"callback\":null,\"column_names\":[\"x\",\"y\"],\"data\":{\"x\":{\"__ndarray__\":\"T13RvDW0Qz/BXp+L4j5FP9BIl3qrXUg/hl/oanG8Sz9ezodb2DpPP/XSRaioalE/Wu5QPWdFUz+k+BO19i5VP8vdrN+aJFc/cJFWGD0gWT9eTN64OC5bP3eULCLoOl0/iOSCOLG1Xj/Dwdrn3KVgP/ePZiRypWU/YeuZr2AMcT8VWqegUzZ6P3ENbXFm44I/Nd4t+zv8iT/XAGg+LkSRP7sKWXi/U5Y/0pCO/tmHmz/O3nyXEHucPxjrDG2v7pg/8YWyuEtXlD8C4J1R+g+PP8I47WacP4c/Nj8xeyh0gT/V4IzJemR6Py9R4I3jCHQ/zz/CM884bj+st3sxg1VmP5bB8hKl/l8/ilFwZcuhVT/oIUdPtPpDP0O5mShKdA2/C0SmTi9rN7+vbdvbsjwov4E2LOQOtjg/gHViONpWUz8PbXf7ondoP+Qs3mN/zYI/KKDDW2sYlT9p9KqbedyiPygRsycZ6qw/2mKvXuIbtD/rME987066P98PiYxYVcA/W1W8sofNwj8ze4/pv73FP+MVyrpmD8k/IjIPDUm1zD8+vABeE1DQP2SYj3slVtI/clAld5Zo1D+6wnlA8nHWP2+E4hrhZdg/A2VsS5E62j8buyPn7d3bP31R7ZlGT90/Jxtqb0t/3j9D1Z5I5kffPy2f/hYRg98/ET6M94Bs4D/b9uIwPSbgP0UhVVbLhN4/MSfkWh8c3D9VnZtX8Z3YP8f/FeBYo9U/YkSqQftF0z+CIeUGx1XRP7i4W8yuf88/he4OAIcWzT8J/MDZ1uTLP2vobvDoc9A/\",\"dtype\":\"float64\",\"shape\":[75]},\"y\":{\"__ndarray__\":\"GhExyth1ND/Sv8nbtpRIP2vylNV0PVE/aTum7souWD/At0SJ8fVgPw3Iuahxymc/MSNhhJWvcD/bTfBN02d3P2zb5nxnaoA/CD5h5MAGhz8NmeH1TyaQP+zrCsc9p5Y/LbKd76fGnz/bLW5ISEmmPww9YvTcQq8/JV2OstnstT8Er5Y7M8G+P0c+r3jqkcU/5h99k6ZBzj88bCIzFzjVP4enV8oyxN0//yH99nXg5D8qOpLLf0jtP5kqGJXUifQ/c9cS8kHP/D+/DpwzojQEQIEmwoanVwxA4lgXt9HgE0BSSZ2AJuIbQAMJih9jjiNA5q4l5INuK0AwTKYKRj0zQNv5fmq8/DpAaCJseHrtQkB/+zpwzoxKQM3MzMzMeFJAZmZmZmZqWEAAAAAAAFxeQM3MzMzMJmJAmpmZmZkfZUBmZmZmZhhoQDMzMzMzEWtAAAAAAAAKbkBmZmZmZoFwQM3MzMzM/XFAMzMzMzN6c0CamZmZmfZ0QAAAAAAAc3ZAZmZmZmbvd0DNzMzMzGt5QDMzMzMz6HpAmpmZmZlkfEAAAAAAAOF9QGZmZmZmXX9AZmZmZuZsgECamZmZGSuBQM3MzMxM6YFAAAAAAICngkAzMzMzs2WDQGZmZmbmI4RAmpmZmRnihEDNzMzMTKCFQAAAAACAXoZAMzMzM7Mch0BmZmZm5tqHQJqZmZkZmYhAzczMzExXiUAAAAAAgBWKQDMzMzOz04pAZmZmZuaRi0CamZmZGVCMQM3MzMxMDo1AAAAAAIDMjUAzMzMzs4qOQGZmZmbmSI9A\",\"dtype\":\"float64\",\"shape\":[75]}}},\"id\":\"6c70cac2-33cb-402d-afee-c73a20fe8012\",\"type\":\"ColumnDataSource\"},{\"attributes\":{\"callback\":null,\"end\":0.5563634127601,\"start\":-0.0060016287701},\"id\":\"d6113137-5f96-41f0-8684-c4fb8acb9410\",\"type\":\"Range1d\"},{\"attributes\":{\"ticker\":null},\"id\":\"af1ee058-025c-449a-a52f-2b472d79fd66\",\"type\":\"LogTickFormatter\"},{\"attributes\":{\"active_drag\":\"auto\",\"active_inspect\":\"auto\",\"active_scroll\":\"auto\",\"active_tap\":\"auto\",\"tools\":[{\"id\":\"a7c562ef-2cdb-4aec-a6ef-6e53babd0382\",\"type\":\"PanTool\"},{\"id\":\"76feea63-3500-45fc-8579-684cf9ff2529\",\"type\":\"WheelZoomTool\"},{\"id\":\"0a48acaa-5131-4c8f-8970-a39656e23d84\",\"type\":\"BoxZoomTool\"},{\"id\":\"e1095024-c125-4fe0-8bd4-457f4d4f87af\",\"type\":\"SaveTool\"},{\"id\":\"f8eefeb5-4fdf-4c78-9ad3-d67c049ca8e1\",\"type\":\"ResetTool\"},{\"id\":\"e73066b4-d208-441f-96bd-dadd2e75a367\",\"type\":\"HelpTool\"}]},\"id\":\"8f899156-fb57-4d59-982b-526d844ec541\",\"type\":\"Toolbar\"},{\"attributes\":{},\"id\":\"2de21310-650c-4e79-aa08-85f32188f7c2\",\"type\":\"LinearScale\"},{\"attributes\":{\"line_alpha\":0.1,\"line_color\":\"#1f77b4\",\"line_dash\":[6],\"line_width\":5,\"x\":{\"field\":\"x\"},\"y\":{\"field\":\"y\"}},\"id\":\"d1548d7b-df0b-4123-8ae3-5700afa9bc34\",\"type\":\"Line\"},{\"attributes\":{},\"id\":\"b318259c-11f5-4002-81fc-4ee1c253deb3\",\"type\":\"ResetTool\"},{\"attributes\":{\"data_source\":{\"id\":\"7c68a013-94d1-427a-bfbf-177dfd409ace\",\"type\":\"ColumnDataSource\"},\"glyph\":{\"id\":\"78280a89-160f-4351-9d48-cebc152ea000\",\"type\":\"Circle\"},\"hover_glyph\":null,\"muted_glyph\":null,\"nonselection_glyph\":{\"id\":\"456f1454-f7db-4586-83cb-1d0279f32ccf\",\"type\":\"Circle\"},\"selection_glyph\":null,\"view\":{\"id\":\"2e40202a-2e43-48f2-8ea5-82635d031164\",\"type\":\"CDSView\"}},\"id\":\"4488c14a-1490-4555-8a0e-28c3a8f1d861\",\"type\":\"GlyphRenderer\"},{\"attributes\":{\"line_alpha\":0.6,\"line_color\":\"#e41a1c\",\"line_dash\":[6],\"line_width\":5,\"x\":{\"field\":\"x\"},\"y\":{\"field\":\"y\"}},\"id\":\"65bce3c0-f4a4-4f27-9dd7-fdb447e433b7\",\"type\":\"Line\"},{\"attributes\":{\"data_source\":{\"id\":\"297be74e-040b-4d48-8426-fa1a961ede5c\",\"type\":\"ColumnDataSource\"},\"glyph\":{\"id\":\"f32d744c-eaaa-404b-84e3-a5621f66df02\",\"type\":\"Line\"},\"hover_glyph\":null,\"muted_glyph\":null,\"nonselection_glyph\":{\"id\":\"b02efb65-ed9c-4456-aea3-f97326c467b7\",\"type\":\"Line\"},\"selection_glyph\":null,\"view\":{\"id\":\"64ab32a7-852e-4f8a-b837-ed8aa8586ca6\",\"type\":\"CDSView\"}},\"id\":\"8a907cc6-623b-45d7-ac62-95dc6e528bf6\",\"type\":\"GlyphRenderer\"},{\"attributes\":{\"children\":[{\"id\":\"7bb27ba8-d599-4bd0-9b88-e4c2738592ad\",\"type\":\"Row\"}]},\"id\":\"94ef1f56-97d1-4da3-968b-8f5448d53ea1\",\"type\":\"Column\"},{\"attributes\":{},\"id\":\"5b84fb6d-c63c-4326-bff7-ea0bf15a762f\",\"type\":\"HelpTool\"},{\"attributes\":{\"source\":{\"id\":\"47849cfb-2367-4ea6-b6ce-e810c9bc012c\",\"type\":\"ColumnDataSource\"}},\"id\":\"a654bed3-832b-49fc-ae9a-d96e5e0a04a5\",\"type\":\"CDSView\"},{\"attributes\":{\"callback\":null,\"column_names\":[\"x\",\"y\"],\"data\":{\"x\":{\"__ndarray__\":\"TCk7HAF3Uj94nccPdCdTP8uvv82ylFQ/YiCOo0b7VT/8IuS49YFXP8zHd1/BE1k/hBj9LtWwWj/3XCtIq1lcPzd5nFlVDl4/SLMcemrNXz8BeOLcMstgP5R7ce6PuGE/vHQGcfmtYj8/ERxZq+pjP05aME+MfGg/6apV+CzIcT8HjINzObl5P/Ycg7Li84E/X9Tdn75DiD/3Ni3XUv+PP5KNl4/krZQ/L9E3NtSrmT+23bWYYDebP7yNABpE1pg/Hwjm74w+lT8lh6LOaA2RPwEdDQeVk4o/QSKsclxVhD8w/wSXE29+P8kRBj20JnY/NVOJAIUtbz+15uSNvhNlP7q7N0vIX1s/881i2mSoUD9bF5pEjFE4P++fsHmPBCm/VNcuM0GyO7/4A4gWV3Ivv4J2OuLSSDM/sKqR4hBeUT/tTv/q0tpmP9DGPmgqJ4I/n2fK4E8FlT8DVS+NuRujP7SwptUxPq0/8SX5kI1OtD8HlcpLtay6P2md1WrpZ8A/xKpKZ31vwj8BiJBmwv/EP6oyIuqgQcg/YQLQYj4HzD/95AwD5/vPP1kji7AF79E/jmGhYXDl0z+sZG6OleLVPx/TsSvX5Nc/pcXd6Jva2T8QnP4JjqDbP/uQRlf4Kt0/uHhL32Jn3j9oTT4u10DfP3KuxAXlmd8/rb6FsIqT4D8rswaWnHHgP4wzfdk2Wd8/EZ1KfncI3T/LeTMXd27ZPzL4LGtSMtY/3+r950Sa0z92S8Gz13vRP3gSpzdKmM8/Zk/iczUqzT+oqlqzzR7MP2fQ1fWpmdA/\",\"dtype\":\"float64\",\"shape\":[75]},\"y\":{\"__ndarray__\":\"GhExyth1ND/Sv8nbtpRIP2vylNV0PVE/aTum7souWD/At0SJ8fVgPw3Iuahxymc/MSNhhJWvcD/bTfBN02d3P2zb5nxnaoA/CD5h5MAGhz8NmeH1TyaQP+zrCsc9p5Y/LbKd76fGnz/bLW5ISEmmPww9YvTcQq8/JV2OstnstT8Er5Y7M8G+P0c+r3jqkcU/5h99k6ZBzj88bCIzFzjVP4enV8oyxN0//yH99nXg5D8qOpLLf0jtP5kqGJXUifQ/c9cS8kHP/D+/DpwzojQEQIEmwoanVwxA4lgXt9HgE0BSSZ2AJuIbQAMJih9jjiNA5q4l5INuK0AwTKYKRj0zQNv5fmq8/DpAaCJseHrtQkB/+zpwzoxKQM3MzMzMeFJAZmZmZmZqWEAAAAAAAFxeQM3MzMzMJmJAmpmZmZkfZUBmZmZmZhhoQDMzMzMzEWtAAAAAAAAKbkBmZmZmZoFwQM3MzMzM/XFAMzMzMzN6c0CamZmZmfZ0QAAAAAAAc3ZAZmZmZmbvd0DNzMzMzGt5QDMzMzMz6HpAmpmZmZlkfEAAAAAAAOF9QGZmZmZmXX9AZmZmZuZsgECamZmZGSuBQM3MzMxM6YFAAAAAAICngkAzMzMzs2WDQGZmZmbmI4RAmpmZmRnihEDNzMzMTKCFQAAAAACAXoZAMzMzM7Mch0BmZmZm5tqHQJqZmZkZmYhAzczMzExXiUAAAAAAgBWKQDMzMzOz04pAZmZmZuaRi0CamZmZGVCMQM3MzMxMDo1AAAAAAIDMjUAzMzMzs4qOQGZmZmbmSI9A\",\"dtype\":\"float64\",\"shape\":[75]}}},\"id\":\"80dcd09b-a1da-4ab1-862f-b074eab660a9\",\"type\":\"ColumnDataSource\"},{\"attributes\":{\"data_source\":{\"id\":\"f0d8fe17-b9b7-4898-b88e-14998d3003e9\",\"type\":\"ColumnDataSource\"},\"glyph\":{\"id\":\"cf3047f5-70ce-4d48-b8dd-a4d858cf03ec\",\"type\":\"Line\"},\"hover_glyph\":null,\"muted_glyph\":null,\"nonselection_glyph\":{\"id\":\"75508156-0b4f-4933-acfb-5165a04b8f9e\",\"type\":\"Line\"},\"selection_glyph\":null,\"view\":{\"id\":\"c62b1d0d-7e0d-4625-b026-72ae7c151ff7\",\"type\":\"CDSView\"}},\"id\":\"81377587-0b30-4cb1-91a1-c416f33d88bb\",\"type\":\"GlyphRenderer\"},{\"attributes\":{\"line_color\":\"#4daf4a\",\"line_width\":1.5,\"x\":{\"field\":\"x\"},\"y\":{\"field\":\"y\"}},\"id\":\"f32d744c-eaaa-404b-84e3-a5621f66df02\",\"type\":\"Line\"},{\"attributes\":{\"callback\":null,\"column_names\":[\"x\",\"y\"],\"data\":{\"x\":{\"__ndarray__\":\"T13RvDW0Qz/BXp+L4j5FP9BIl3qrXUg/hl/oanG8Sz9ezodb2DpPP/XSRaioalE/Wu5QPWdFUz+k+BO19i5VP8vdrN+aJFc/cJFWGD0gWT9eTN64OC5bP3eULCLoOl0/iOSCOLG1Xj/Dwdrn3KVgP/ePZiRypWU/YeuZr2AMcT8VWqegUzZ6P3ENbXFm44I/Nd4t+zv8iT/XAGg+LkSRP7sKWXi/U5Y/0pCO/tmHmz/O3nyXEHucPxjrDG2v7pg/8YWyuEtXlD8C4J1R+g+PP8I47WacP4c/Nj8xeyh0gT/V4IzJemR6Py9R4I3jCHQ/zz/CM884bj+st3sxg1VmP5bB8hKl/l8/ilFwZcuhVT/oIUdPtPpDP0O5mShKdA2/C0SmTi9rN7+vbdvbsjwov4E2LOQOtjg/gHViONpWUz8PbXf7ondoP+Qs3mN/zYI/KKDDW2sYlT9p9KqbedyiPygRsycZ6qw/2mKvXuIbtD/rME987066P98PiYxYVcA/W1W8sofNwj8ze4/pv73FP+MVyrpmD8k/IjIPDUm1zD8+vABeE1DQP2SYj3slVtI/clAld5Zo1D+6wnlA8nHWP2+E4hrhZdg/A2VsS5E62j8buyPn7d3bP31R7ZlGT90/Jxtqb0t/3j9D1Z5I5kffPy2f/hYRg98/ET6M94Bs4D/b9uIwPSbgP0UhVVbLhN4/MSfkWh8c3D9VnZtX8Z3YP8f/FeBYo9U/YkSqQftF0z+CIeUGx1XRP7i4W8yuf88/he4OAIcWzT8J/MDZ1uTLP2vobvDoc9A/\",\"dtype\":\"float64\",\"shape\":[75]},\"y\":{\"__ndarray__\":\"GhExyth1ND/Sv8nbtpRIP2vylNV0PVE/aTum7souWD/At0SJ8fVgPw3Iuahxymc/MSNhhJWvcD/bTfBN02d3P2zb5nxnaoA/CD5h5MAGhz8NmeH1TyaQP+zrCsc9p5Y/LbKd76fGnz/bLW5ISEmmPww9YvTcQq8/JV2OstnstT8Er5Y7M8G+P0c+r3jqkcU/5h99k6ZBzj88bCIzFzjVP4enV8oyxN0//yH99nXg5D8qOpLLf0jtP5kqGJXUifQ/c9cS8kHP/D+/DpwzojQEQIEmwoanVwxA4lgXt9HgE0BSSZ2AJuIbQAMJih9jjiNA5q4l5INuK0AwTKYKRj0zQNv5fmq8/DpAaCJseHrtQkB/+zpwzoxKQM3MzMzMeFJAZmZmZmZqWEAAAAAAAFxeQM3MzMzMJmJAmpmZmZkfZUBmZmZmZhhoQDMzMzMzEWtAAAAAAAAKbkBmZmZmZoFwQM3MzMzM/XFAMzMzMzN6c0CamZmZmfZ0QAAAAAAAc3ZAZmZmZmbvd0DNzMzMzGt5QDMzMzMz6HpAmpmZmZlkfEAAAAAAAOF9QGZmZmZmXX9AZmZmZuZsgECamZmZGSuBQM3MzMxM6YFAAAAAAICngkAzMzMzs2WDQGZmZmbmI4RAmpmZmRnihEDNzMzMTKCFQAAAAACAXoZAMzMzM7Mch0BmZmZm5tqHQJqZmZkZmYhAzczMzExXiUAAAAAAgBWKQDMzMzOz04pAZmZmZuaRi0CamZmZGVCMQM3MzMxMDo1AAAAAAIDMjUAzMzMzs4qOQGZmZmbmSI9A\",\"dtype\":\"float64\",\"shape\":[75]}}},\"id\":\"cac972d9-4a5f-4d93-8f4e-57dba5619c3f\",\"type\":\"ColumnDataSource\"},{\"attributes\":{\"source\":{\"id\":\"7c68a013-94d1-427a-bfbf-177dfd409ace\",\"type\":\"ColumnDataSource\"}},\"id\":\"2e40202a-2e43-48f2-8ea5-82635d031164\",\"type\":\"CDSView\"},{\"attributes\":{\"fill_alpha\":{\"value\":0.1},\"fill_color\":{\"value\":\"#1f77b4\"},\"line_alpha\":{\"value\":0.1},\"line_color\":{\"value\":\"#1f77b4\"},\"x\":{\"field\":\"x\"},\"y\":{\"field\":\"y\"}},\"id\":\"456f1454-f7db-4586-83cb-1d0279f32ccf\",\"type\":\"Circle\"},{\"attributes\":{},\"id\":\"2af332f9-80cf-40c8-8bdf-dcc5e966d1d3\",\"type\":\"BasicTickFormatter\"},{\"attributes\":{\"children\":[{\"id\":\"b4504f0e-1e68-456c-85d7-a8565d5a30e9\",\"type\":\"ToolbarBox\"},{\"id\":\"94ef1f56-97d1-4da3-968b-8f5448d53ea1\",\"type\":\"Column\"}]},\"id\":\"f099c5a4-a183-4c10-a4f1-d123490e2963\",\"type\":\"Column\"},{\"attributes\":{\"bottom_units\":\"screen\",\"fill_alpha\":{\"value\":0.5},\"fill_color\":{\"value\":\"lightgrey\"},\"left_units\":\"screen\",\"level\":\"overlay\",\"line_alpha\":{\"value\":1.0},\"line_color\":{\"value\":\"black\"},\"line_dash\":[4,4],\"line_width\":{\"value\":2},\"plot\":null,\"render_mode\":\"css\",\"right_units\":\"screen\",\"top_units\":\"screen\"},\"id\":\"15d6f656-47b5-4be7-89cc-6f92386b6968\",\"type\":\"BoxAnnotation\"},{\"attributes\":{\"data_source\":{\"id\":\"6c70cac2-33cb-402d-afee-c73a20fe8012\",\"type\":\"ColumnDataSource\"},\"glyph\":{\"id\":\"993d5ed8-1414-40d4-a14c-cea05269bd6c\",\"type\":\"Circle\"},\"hover_glyph\":null,\"muted_glyph\":null,\"nonselection_glyph\":{\"id\":\"fd5af361-63eb-4d91-8831-8cdd102f0e91\",\"type\":\"Circle\"},\"selection_glyph\":null,\"view\":{\"id\":\"11f9d576-c30d-45f0-8bb2-32b25d69eac8\",\"type\":\"CDSView\"}},\"id\":\"f1c254bd-fe46-43bc-9f24-049fa3bb77eb\",\"type\":\"GlyphRenderer\"},{\"attributes\":{\"callback\":null,\"end\":0.01,\"start\":1020},\"id\":\"93a4ae92-9a0d-4cd9-9655-5b0220050c77\",\"type\":\"Range1d\"},{\"attributes\":{\"fill_alpha\":{\"value\":0.7},\"fill_color\":{\"value\":\"#4daf4a\"},\"line_alpha\":{\"value\":0.7},\"line_color\":{\"value\":\"#4daf4a\"},\"x\":{\"field\":\"x\"},\"y\":{\"field\":\"y\"}},\"id\":\"78280a89-160f-4351-9d48-cebc152ea000\",\"type\":\"Circle\"},{\"attributes\":{\"line_color\":\"#4daf4a\",\"line_width\":1.5,\"x\":{\"field\":\"x\"},\"y\":{\"field\":\"y\"}},\"id\":\"68e01e2d-d671-466d-b8f3-afd7ffdb0688\",\"type\":\"Line\"},{\"attributes\":{\"callback\":null,\"column_names\":[\"x\",\"y\"],\"data\":{\"x\":{\"__ndarray__\":\"AAAAAAAAAAAAAAAAAAAAAAAAAAAAAAAAfji63dqooD/iMSdbacGXvwAAAAAAAAAAAAAAAAAAAAAAAAAAAAAAAAAAAAAAAAAAIzfTXUp/cT8eZuYEmPKIPxeGteEKyXG/Q08ILcRbWT9H/zvBBhRyP+tNCB+oxkk/K80Do034dj9awKAe/Rx/PxyF6r7RgoE/UgNjAz1iiT8bctvanCyQP0LmtrzzPZU/weFM5jQYmj/JU3IoJf+bP5/g4cT3yJk/DN+kZJd6lj8K6TXlJkSSP94qsEl8w4w/PsU3NUxEhj8VYwlBCLWAP2X9tV9vAHg/dWiFn4AxcD8yrQL6Wl5kP/2f5tSstFc/xzJIHWXyRz/aT+rqwgcbP6t4vB7suDa/GtI1pWj/P79xZJLaXU01vxgJamt7Vhs/cVS5gPBGRz9p29MGxeVgP2VPV78mZ3w/0cE6Wy6FkT+YviOfYa6gP1q85sI5BKo/77bBP1s9sj9lKCQix5m4PzkTqgYnw74/vbxKiAMywT9JqM/EKpTDP5u/z9l+Ccc//yluP405yz8qDICnf3/PPw2ap4RxwdE/PfcWvfDW0z8zvvWCy/rVPzW6vYMjMdg/KzrthPJZ2j/jl9H6IVfcP3MCR8DwI94/JaMUvgik3z9metM+Z1zgP5yXeWEhqeA/RTj7PZCg4T96uVf/SpvhP9FBdmL/yuA/KAns3kjo3j8bBCUes6DaP9Kvxjyfv9Y/jakFQCaj0z/IUevDmzHRP0hvVWUhss4/FatIfUA9zD/NqUtjB1fLP6hH6KGVP9A/\",\"dtype\":\"float64\",\"shape\":[75]},\"y\":{\"__ndarray__\":\"S/O/Q+51ND/430zAtpRIP2vylNV0PVE/QxsjCssuWD/TR4Z78fVgP+inNsRxymc/OuuBfZWvcD/u3TFA02d3P2d3VoBnaoA/CD5h5MAGhz/1pA8HUCaQP+zrCsc9p5Y/Fb7LAKjGnz/nJ9c/SEmmPwBD+fzcQq8/FOZwv9nstT8Er5Y7M8G+P0c+r3jqkcU/yK72qKZBzj+tM989FzjVPxbgmr8yxN0/cOm5AXbg5D+5ctXAf0jtP5kqGJXUifQ/DsrqDELP/D8MCAhBojQEQDItVnmnVwxAiFXNvdHgE0BSSZ2AJuIbQAMJih9jjiNA5q4l5INuK0CPVN/5RT0zQHzxRXu8/DpAOZ7PgHrtQkAg8wGBzoxKQBSTN8DMeFJA2NmQf2ZqWEAAAAAAAFxeQEQX1LfMJmJAmpmZmZkfZUBmZmZmZhhoQLzoK0gzEWtAAAAAAAAKbkCiC+pbZoFwQAhyUMLM/XFA+I2vPTN6c0AQ5KCEmfZ0QAAAAAAAc3ZA8Btfe2bvd0AIclDCzGt5QPeNrz0z6HpAEOSghJlkfEAAAAAAAOF9QKML6ltmXX9ABTkoYeZsgED7xteeGSuBQAhyUMJM6YFAAAAAAICngkD4ja89s2WDQAU5KGHmI4RA+8bXnhnihEAIclDCTKCFQAAAAACAXoZA+I2vPbMch0AFOShh5tqHQPvG154ZmYhACHJQwkxXiUAAAAAAgBWKQPeNrz2z04pABTkoYeaRi0D7xteeGVCMQAlyUMJMDo1AAAAAAIDMjUD3ja89s4qOQGZmZmbmSI9A\",\"dtype\":\"float64\",\"shape\":[75]}}},\"id\":\"f0d8fe17-b9b7-4898-b88e-14998d3003e9\",\"type\":\"ColumnDataSource\"},{\"attributes\":{\"callback\":null,\"column_names\":[\"x\",\"y\"],\"data\":{\"x\":{\"__ndarray__\":\"T13RvDW0Qz/BXp+L4j5FP9BIl3qrXUg/hl/oanG8Sz9ezodb2DpPP/XSRaioalE/Wu5QPWdFUz+k+BO19i5VP8vdrN+aJFc/cJFWGD0gWT9eTN64OC5bP3eULCLoOl0/iOSCOLG1Xj/Dwdrn3KVgP/ePZiRypWU/YeuZr2AMcT8VWqegUzZ6P3ENbXFm44I/Nd4t+zv8iT/XAGg+LkSRP7sKWXi/U5Y/0pCO/tmHmz/O3nyXEHucPxjrDG2v7pg/8YWyuEtXlD8C4J1R+g+PP8I47WacP4c/Nj8xeyh0gT/V4IzJemR6Py9R4I3jCHQ/zz/CM884bj+st3sxg1VmP5bB8hKl/l8/ilFwZcuhVT/oIUdPtPpDP0O5mShKdA2/C0SmTi9rN7+vbdvbsjwov4E2LOQOtjg/gHViONpWUz8PbXf7ondoP+Qs3mN/zYI/KKDDW2sYlT9p9KqbedyiPygRsycZ6qw/2mKvXuIbtD/rME987066P98PiYxYVcA/W1W8sofNwj8ze4/pv73FP+MVyrpmD8k/IjIPDUm1zD8+vABeE1DQP2SYj3slVtI/clAld5Zo1D+6wnlA8nHWP2+E4hrhZdg/A2VsS5E62j8buyPn7d3bP31R7ZlGT90/Jxtqb0t/3j9D1Z5I5kffPy2f/hYRg98/ET6M94Bs4D/b9uIwPSbgP0UhVVbLhN4/MSfkWh8c3D9VnZtX8Z3YP8f/FeBYo9U/YkSqQftF0z+CIeUGx1XRP7i4W8yuf88/he4OAIcWzT8J/MDZ1uTLP2vobvDoc9A/\",\"dtype\":\"float64\",\"shape\":[75]},\"y\":{\"__ndarray__\":\"GhExyth1ND/Sv8nbtpRIP2vylNV0PVE/aTum7souWD/At0SJ8fVgPw3Iuahxymc/MSNhhJWvcD/bTfBN02d3P2zb5nxnaoA/CD5h5MAGhz8NmeH1TyaQP+zrCsc9p5Y/LbKd76fGnz/bLW5ISEmmPww9YvTcQq8/JV2OstnstT8Er5Y7M8G+P0c+r3jqkcU/5h99k6ZBzj88bCIzFzjVP4enV8oyxN0//yH99nXg5D8qOpLLf0jtP5kqGJXUifQ/c9cS8kHP/D+/DpwzojQEQIEmwoanVwxA4lgXt9HgE0BSSZ2AJuIbQAMJih9jjiNA5q4l5INuK0AwTKYKRj0zQNv5fmq8/DpAaCJseHrtQkB/+zpwzoxKQM3MzMzMeFJAZmZmZmZqWEAAAAAAAFxeQM3MzMzMJmJAmpmZmZkfZUBmZmZmZhhoQDMzMzMzEWtAAAAAAAAKbkBmZmZmZoFwQM3MzMzM/XFAMzMzMzN6c0CamZmZmfZ0QAAAAAAAc3ZAZmZmZmbvd0DNzMzMzGt5QDMzMzMz6HpAmpmZmZlkfEAAAAAAAOF9QGZmZmZmXX9AZmZmZuZsgECamZmZGSuBQM3MzMxM6YFAAAAAAICngkAzMzMzs2WDQGZmZmbmI4RAmpmZmRnihEDNzMzMTKCFQAAAAACAXoZAMzMzM7Mch0BmZmZm5tqHQJqZmZkZmYhAzczMzExXiUAAAAAAgBWKQDMzMzOz04pAZmZmZuaRi0CamZmZGVCMQM3MzMxMDo1AAAAAAIDMjUAzMzMzs4qOQGZmZmbmSI9A\",\"dtype\":\"float64\",\"shape\":[75]}}},\"id\":\"7c68a013-94d1-427a-bfbf-177dfd409ace\",\"type\":\"ColumnDataSource\"},{\"attributes\":{},\"id\":\"76feea63-3500-45fc-8579-684cf9ff2529\",\"type\":\"WheelZoomTool\"},{\"attributes\":{\"callback\":null,\"column_names\":[\"x\",\"y\"],\"data\":{\"x\":{\"__ndarray__\":\"TCk7HAF3Uj94nccPdCdTP8uvv82ylFQ/YiCOo0b7VT/8IuS49YFXP8zHd1/BE1k/hBj9LtWwWj/3XCtIq1lcPzd5nFlVDl4/SLMcemrNXz8BeOLcMstgP5R7ce6PuGE/vHQGcfmtYj8/ERxZq+pjP05aME+MfGg/6apV+CzIcT8HjINzObl5P/Ycg7Li84E/X9Tdn75DiD/3Ni3XUv+PP5KNl4/krZQ/L9E3NtSrmT+23bWYYDebP7yNABpE1pg/Hwjm74w+lT8lh6LOaA2RPwEdDQeVk4o/QSKsclxVhD8w/wSXE29+P8kRBj20JnY/NVOJAIUtbz+15uSNvhNlP7q7N0vIX1s/881i2mSoUD9bF5pEjFE4P++fsHmPBCm/VNcuM0GyO7/4A4gWV3Ivv4J2OuLSSDM/sKqR4hBeUT/tTv/q0tpmP9DGPmgqJ4I/n2fK4E8FlT8DVS+NuRujP7SwptUxPq0/8SX5kI1OtD8HlcpLtay6P2md1WrpZ8A/xKpKZ31vwj8BiJBmwv/EP6oyIuqgQcg/YQLQYj4HzD/95AwD5/vPP1kji7AF79E/jmGhYXDl0z+sZG6OleLVPx/TsSvX5Nc/pcXd6Jva2T8QnP4JjqDbP/uQRlf4Kt0/uHhL32Jn3j9oTT4u10DfP3KuxAXlmd8/rb6FsIqT4D8rswaWnHHgP4wzfdk2Wd8/EZ1KfncI3T/LeTMXd27ZPzL4LGtSMtY/3+r950Sa0z92S8Gz13vRP3gSpzdKmM8/Zk/iczUqzT+oqlqzzR7MP2fQ1fWpmdA/\",\"dtype\":\"float64\",\"shape\":[75]},\"y\":{\"__ndarray__\":\"GhExyth1ND/Sv8nbtpRIP2vylNV0PVE/aTum7souWD/At0SJ8fVgPw3Iuahxymc/MSNhhJWvcD/bTfBN02d3P2zb5nxnaoA/CD5h5MAGhz8NmeH1TyaQP+zrCsc9p5Y/LbKd76fGnz/bLW5ISEmmPww9YvTcQq8/JV2OstnstT8Er5Y7M8G+P0c+r3jqkcU/5h99k6ZBzj88bCIzFzjVP4enV8oyxN0//yH99nXg5D8qOpLLf0jtP5kqGJXUifQ/c9cS8kHP/D+/DpwzojQEQIEmwoanVwxA4lgXt9HgE0BSSZ2AJuIbQAMJih9jjiNA5q4l5INuK0AwTKYKRj0zQNv5fmq8/DpAaCJseHrtQkB/+zpwzoxKQM3MzMzMeFJAZmZmZmZqWEAAAAAAAFxeQM3MzMzMJmJAmpmZmZkfZUBmZmZmZhhoQDMzMzMzEWtAAAAAAAAKbkBmZmZmZoFwQM3MzMzM/XFAMzMzMzN6c0CamZmZmfZ0QAAAAAAAc3ZAZmZmZmbvd0DNzMzMzGt5QDMzMzMz6HpAmpmZmZlkfEAAAAAAAOF9QGZmZmZmXX9AZmZmZuZsgECamZmZGSuBQM3MzMxM6YFAAAAAAICngkAzMzMzs2WDQGZmZmbmI4RAmpmZmRnihEDNzMzMTKCFQAAAAACAXoZAMzMzM7Mch0BmZmZm5tqHQJqZmZkZmYhAzczMzExXiUAAAAAAgBWKQDMzMzOz04pAZmZmZuaRi0CamZmZGVCMQM3MzMxMDo1AAAAAAIDMjUAzMzMzs4qOQGZmZmbmSI9A\",\"dtype\":\"float64\",\"shape\":[75]}}},\"id\":\"7c551431-f9bf-4a34-af20-bef33dc084f8\",\"type\":\"ColumnDataSource\"},{\"attributes\":{},\"id\":\"50871848-0106-4442-be9c-11c859d07af5\",\"type\":\"BasicTickFormatter\"},{\"attributes\":{\"plot\":null,\"text\":\"Linear pressure scale\"},\"id\":\"5f15ea12-b41a-41df-a133-c85d61b27924\",\"type\":\"Title\"},{\"attributes\":{\"line_alpha\":0.1,\"line_color\":\"#1f77b4\",\"line_width\":1.5,\"x\":{\"field\":\"x\"},\"y\":{\"field\":\"y\"}},\"id\":\"6be66e75-161a-4944-a5c1-34030fbf9e18\",\"type\":\"Line\"},{\"attributes\":{\"data_source\":{\"id\":\"cac972d9-4a5f-4d93-8f4e-57dba5619c3f\",\"type\":\"ColumnDataSource\"},\"glyph\":{\"id\":\"68e01e2d-d671-466d-b8f3-afd7ffdb0688\",\"type\":\"Line\"},\"hover_glyph\":null,\"muted_glyph\":null,\"nonselection_glyph\":{\"id\":\"6be66e75-161a-4944-a5c1-34030fbf9e18\",\"type\":\"Line\"},\"selection_glyph\":null,\"view\":{\"id\":\"9d6138a6-3c5c-4c03-b917-e42c883f6d27\",\"type\":\"CDSView\"}},\"id\":\"824f2e8d-bf49-420d-91b3-358fd8ea9aa0\",\"type\":\"GlyphRenderer\"},{\"attributes\":{\"below\":[{\"id\":\"24ce72a6-d3b2-4993-8300-f2a940653394\",\"type\":\"LinearAxis\"}],\"left\":[{\"id\":\"06fb7b13-f58f-4545-880b-8e94be8fba32\",\"type\":\"LinearAxis\"}],\"plot_height\":500,\"plot_width\":400,\"renderers\":[{\"id\":\"24ce72a6-d3b2-4993-8300-f2a940653394\",\"type\":\"LinearAxis\"},{\"id\":\"e64c0d3b-4d7e-499a-bcbe-405d0e5fc473\",\"type\":\"Grid\"},{\"id\":\"06fb7b13-f58f-4545-880b-8e94be8fba32\",\"type\":\"LinearAxis\"},{\"id\":\"e5ebb5d7-72ca-4301-be3f-4810a130d096\",\"type\":\"Grid\"},{\"id\":\"cd916ad7-fdd3-406d-90f4-d22f526fa96c\",\"type\":\"BoxAnnotation\"},{\"id\":\"81377587-0b30-4cb1-91a1-c416f33d88bb\",\"type\":\"GlyphRenderer\"},{\"id\":\"f1c254bd-fe46-43bc-9f24-049fa3bb77eb\",\"type\":\"GlyphRenderer\"},{\"id\":\"8a907cc6-623b-45d7-ac62-95dc6e528bf6\",\"type\":\"GlyphRenderer\"},{\"id\":\"2fb17073-5d40-4177-9408-136d8ce9de70\",\"type\":\"GlyphRenderer\"},{\"id\":\"6d80d9e9-de7f-4fa8-9c8a-359430c5ab74\",\"type\":\"GlyphRenderer\"}],\"title\":{\"id\":\"5f15ea12-b41a-41df-a133-c85d61b27924\",\"type\":\"Title\"},\"toolbar\":{\"id\":\"3acce7f0-f379-4a15-9ed6-2b6655ac2006\",\"type\":\"Toolbar\"},\"toolbar_location\":null,\"x_range\":{\"id\":\"d6113137-5f96-41f0-8684-c4fb8acb9410\",\"type\":\"Range1d\"},\"x_scale\":{\"id\":\"69497cde-f034-4770-bb81-fa7404cd03ec\",\"type\":\"LinearScale\"},\"y_range\":{\"id\":\"0a47004f-0ed1-4a39-b0ea-3f4cb090a52d\",\"type\":\"Range1d\"},\"y_scale\":{\"id\":\"6dc801bc-4240-4152-be51-d9105cb7da2d\",\"type\":\"LinearScale\"}},\"id\":\"b96acea9-7ff0-4767-97b0-1714bcc69d0c\",\"subtype\":\"Figure\",\"type\":\"Plot\"},{\"attributes\":{\"source\":{\"id\":\"cac972d9-4a5f-4d93-8f4e-57dba5619c3f\",\"type\":\"ColumnDataSource\"}},\"id\":\"9d6138a6-3c5c-4c03-b917-e42c883f6d27\",\"type\":\"CDSView\"},{\"attributes\":{\"fill_alpha\":{\"value\":0.7},\"fill_color\":{\"value\":\"#4daf4a\"},\"line_alpha\":{\"value\":0.7},\"line_color\":{\"value\":\"#4daf4a\"},\"x\":{\"field\":\"x\"},\"y\":{\"field\":\"y\"}},\"id\":\"993d5ed8-1414-40d4-a14c-cea05269bd6c\",\"type\":\"Circle\"},{\"attributes\":{\"label\":{\"value\":\"CRD\"},\"renderers\":[{\"id\":\"4488c14a-1490-4555-8a0e-28c3a8f1d861\",\"type\":\"GlyphRenderer\"},{\"id\":\"824f2e8d-bf49-420d-91b3-358fd8ea9aa0\",\"type\":\"GlyphRenderer\"}]},\"id\":\"075ae22b-592b-4f06-91a1-af485f579404\",\"type\":\"LegendItem\"},{\"attributes\":{\"fill_alpha\":{\"value\":0.7},\"fill_color\":{\"value\":\"#984ea3\"},\"line_alpha\":{\"value\":0.7},\"line_color\":{\"value\":\"#984ea3\"},\"x\":{\"field\":\"x\"},\"y\":{\"field\":\"y\"}},\"id\":\"0f518ee9-379e-477c-b10a-b70cdc09d39d\",\"type\":\"Square\"},{\"attributes\":{\"callback\":null,\"end\":0.028134758247,\"start\":-0.004663672947},\"id\":\"187eb412-38a3-47ff-9cd9-20ce8a50277f\",\"type\":\"Range1d\"},{\"attributes\":{\"line_alpha\":0.1,\"line_color\":\"#1f77b4\",\"line_width\":1.5,\"x\":{\"field\":\"x\"},\"y\":{\"field\":\"y\"}},\"id\":\"b02efb65-ed9c-4456-aea3-f97326c467b7\",\"type\":\"Line\"},{\"attributes\":{\"source\":{\"id\":\"80dcd09b-a1da-4ab1-862f-b074eab660a9\",\"type\":\"ColumnDataSource\"}},\"id\":\"31517622-3c54-4c88-8b6a-856651ded95c\",\"type\":\"CDSView\"},{\"attributes\":{},\"id\":\"5774e62e-128b-4a27-b679-50c6d6c16752\",\"type\":\"BasicTicker\"},{\"attributes\":{\"line_alpha\":0.6,\"line_color\":\"#984ea3\",\"line_width\":3,\"x\":{\"field\":\"x\"},\"y\":{\"field\":\"y\"}},\"id\":\"ddaf27d5-c9fa-4ac2-9cd9-f04cc055c6a2\",\"type\":\"Line\"},{\"attributes\":{\"fill_alpha\":{\"value\":0.1},\"fill_color\":{\"value\":\"#1f77b4\"},\"line_alpha\":{\"value\":0.1},\"line_color\":{\"value\":\"#1f77b4\"},\"x\":{\"field\":\"x\"},\"y\":{\"field\":\"y\"}},\"id\":\"f298dadb-249f-4157-8641-84715a201e1e\",\"type\":\"Square\"},{\"attributes\":{\"data_source\":{\"id\":\"80dcd09b-a1da-4ab1-862f-b074eab660a9\",\"type\":\"ColumnDataSource\"},\"glyph\":{\"id\":\"0f518ee9-379e-477c-b10a-b70cdc09d39d\",\"type\":\"Square\"},\"hover_glyph\":null,\"muted_glyph\":null,\"nonselection_glyph\":{\"id\":\"f298dadb-249f-4157-8641-84715a201e1e\",\"type\":\"Square\"},\"selection_glyph\":null,\"view\":{\"id\":\"31517622-3c54-4c88-8b6a-856651ded95c\",\"type\":\"CDSView\"}},\"id\":\"0f86d042-42ec-43bf-ac45-b4d79f70e519\",\"type\":\"GlyphRenderer\"},{\"attributes\":{\"toolbar\":{\"id\":\"ce34c191-afa5-4b3c-8e6d-659ae4554f4a\",\"type\":\"ProxyToolbar\"},\"toolbar_location\":\"above\"},\"id\":\"b4504f0e-1e68-456c-85d7-a8565d5a30e9\",\"type\":\"ToolbarBox\"},{\"attributes\":{\"source\":{\"id\":\"7c551431-f9bf-4a34-af20-bef33dc084f8\",\"type\":\"ColumnDataSource\"}},\"id\":\"86e04fd4-c67e-4c3c-83d5-a5154c95a287\",\"type\":\"CDSView\"},{\"attributes\":{},\"id\":\"e73066b4-d208-441f-96bd-dadd2e75a367\",\"type\":\"HelpTool\"},{\"attributes\":{\"items\":[{\"id\":\"6fc4834b-de37-49b8-a0b0-60f234f2761f\",\"type\":\"LegendItem\"},{\"id\":\"075ae22b-592b-4f06-91a1-af485f579404\",\"type\":\"LegendItem\"},{\"id\":\"1578c4e7-b045-4807-ba07-ef51d1ede277\",\"type\":\"LegendItem\"}],\"label_text_font_size\":{\"value\":\"8pt\"},\"location\":[10,-30],\"plot\":{\"id\":\"7f5f731f-784b-4427-8ea0-f319323d39a3\",\"subtype\":\"Figure\",\"type\":\"Plot\"}},\"id\":\"39d44e2c-1498-4313-93cb-9c6d79a1ad8a\",\"type\":\"Legend\"},{\"attributes\":{\"overlay\":{\"id\":\"cd916ad7-fdd3-406d-90f4-d22f526fa96c\",\"type\":\"BoxAnnotation\"}},\"id\":\"28d55585-dcf6-4c98-b04f-7aebddc1c07f\",\"type\":\"BoxZoomTool\"},{\"attributes\":{},\"id\":\"e1095024-c125-4fe0-8bd4-457f4d4f87af\",\"type\":\"SaveTool\"},{\"attributes\":{\"line_alpha\":0.1,\"line_color\":\"#1f77b4\",\"line_width\":3,\"x\":{\"field\":\"x\"},\"y\":{\"field\":\"y\"}},\"id\":\"43f33072-2f05-4e1d-931c-51c5d03f7f58\",\"type\":\"Line\"},{\"attributes\":{\"data_source\":{\"id\":\"7c551431-f9bf-4a34-af20-bef33dc084f8\",\"type\":\"ColumnDataSource\"},\"glyph\":{\"id\":\"ddaf27d5-c9fa-4ac2-9cd9-f04cc055c6a2\",\"type\":\"Line\"},\"hover_glyph\":null,\"muted_glyph\":null,\"nonselection_glyph\":{\"id\":\"43f33072-2f05-4e1d-931c-51c5d03f7f58\",\"type\":\"Line\"},\"selection_glyph\":null,\"view\":{\"id\":\"86e04fd4-c67e-4c3c-83d5-a5154c95a287\",\"type\":\"CDSView\"}},\"id\":\"46a275b1-2f8c-46d6-bc1c-d0722d23d8a8\",\"type\":\"GlyphRenderer\"},{\"attributes\":{\"tools\":[{\"id\":\"2efac730-31b3-4f95-a129-b2b3b55c9018\",\"type\":\"PanTool\"},{\"id\":\"22d0c8a5-fea9-4900-b037-96c5c0b6b913\",\"type\":\"WheelZoomTool\"},{\"id\":\"28d55585-dcf6-4c98-b04f-7aebddc1c07f\",\"type\":\"BoxZoomTool\"},{\"id\":\"7b7dccae-2287-4b9a-ae29-646bea11d24d\",\"type\":\"SaveTool\"},{\"id\":\"b318259c-11f5-4002-81fc-4ee1c253deb3\",\"type\":\"ResetTool\"},{\"id\":\"5b84fb6d-c63c-4326-bff7-ea0bf15a762f\",\"type\":\"HelpTool\"},{\"id\":\"a7c562ef-2cdb-4aec-a6ef-6e53babd0382\",\"type\":\"PanTool\"},{\"id\":\"76feea63-3500-45fc-8579-684cf9ff2529\",\"type\":\"WheelZoomTool\"},{\"id\":\"0a48acaa-5131-4c8f-8970-a39656e23d84\",\"type\":\"BoxZoomTool\"},{\"id\":\"e1095024-c125-4fe0-8bd4-457f4d4f87af\",\"type\":\"SaveTool\"},{\"id\":\"f8eefeb5-4fdf-4c78-9ad3-d67c049ca8e1\",\"type\":\"ResetTool\"},{\"id\":\"e73066b4-d208-441f-96bd-dadd2e75a367\",\"type\":\"HelpTool\"}]},\"id\":\"ce34c191-afa5-4b3c-8e6d-659ae4554f4a\",\"type\":\"ProxyToolbar\"},{\"attributes\":{\"label\":{\"value\":\"CLIRAD `coolr_bands`\"},\"renderers\":[{\"id\":\"c1754de6-cb24-489f-b132-084efc3054bb\",\"type\":\"GlyphRenderer\"}]},\"id\":\"6fc4834b-de37-49b8-a0b0-60f234f2761f\",\"type\":\"LegendItem\"},{\"attributes\":{\"overlay\":{\"id\":\"15d6f656-47b5-4be7-89cc-6f92386b6968\",\"type\":\"BoxAnnotation\"}},\"id\":\"0a48acaa-5131-4c8f-8970-a39656e23d84\",\"type\":\"BoxZoomTool\"},{\"attributes\":{},\"id\":\"69497cde-f034-4770-bb81-fa7404cd03ec\",\"type\":\"LinearScale\"},{\"attributes\":{\"callback\":null,\"column_names\":[\"x\",\"y\"],\"data\":{\"x\":{\"__ndarray__\":\"AAAAAAAAAAAAAAAAAAAAAAAAAAAAAAAAfji63dqooD/iMSdbacGXvwAAAAAAAAAAAAAAAAAAAAAAAAAAAAAAAAAAAAAAAAAAIzfTXUp/cT8eZuYEmPKIPxeGteEKyXG/Q08ILcRbWT9H/zvBBhRyP+tNCB+oxkk/K80Do034dj9awKAe/Rx/PxyF6r7RgoE/UgNjAz1iiT8bctvanCyQP0LmtrzzPZU/weFM5jQYmj/JU3IoJf+bP5/g4cT3yJk/DN+kZJd6lj8K6TXlJkSSP94qsEl8w4w/PsU3NUxEhj8VYwlBCLWAP2X9tV9vAHg/dWiFn4AxcD8yrQL6Wl5kP/2f5tSstFc/xzJIHWXyRz/aT+rqwgcbP6t4vB7suDa/GtI1pWj/P79xZJLaXU01vxgJamt7Vhs/cVS5gPBGRz9p29MGxeVgP2VPV78mZ3w/0cE6Wy6FkT+YviOfYa6gP1q85sI5BKo/77bBP1s9sj9lKCQix5m4PzkTqgYnw74/vbxKiAMywT9JqM/EKpTDP5u/z9l+Ccc//yluP405yz8qDICnf3/PPw2ap4RxwdE/PfcWvfDW0z8zvvWCy/rVPzW6vYMjMdg/KzrthPJZ2j/jl9H6IVfcP3MCR8DwI94/JaMUvgik3z9metM+Z1zgP5yXeWEhqeA/RTj7PZCg4T96uVf/SpvhP9FBdmL/yuA/KAns3kjo3j8bBCUes6DaP9Kvxjyfv9Y/jakFQCaj0z/IUevDmzHRP0hvVWUhss4/FatIfUA9zD/NqUtjB1fLP6hH6KGVP9A/\",\"dtype\":\"float64\",\"shape\":[75]},\"y\":{\"__ndarray__\":\"S/O/Q+51ND/430zAtpRIP2vylNV0PVE/QxsjCssuWD/TR4Z78fVgP+inNsRxymc/OuuBfZWvcD/u3TFA02d3P2d3VoBnaoA/CD5h5MAGhz/1pA8HUCaQP+zrCsc9p5Y/Fb7LAKjGnz/nJ9c/SEmmPwBD+fzcQq8/FOZwv9nstT8Er5Y7M8G+P0c+r3jqkcU/yK72qKZBzj+tM989FzjVPxbgmr8yxN0/cOm5AXbg5D+5ctXAf0jtP5kqGJXUifQ/DsrqDELP/D8MCAhBojQEQDItVnmnVwxAiFXNvdHgE0BSSZ2AJuIbQAMJih9jjiNA5q4l5INuK0CPVN/5RT0zQHzxRXu8/DpAOZ7PgHrtQkAg8wGBzoxKQBSTN8DMeFJA2NmQf2ZqWEAAAAAAAFxeQEQX1LfMJmJAmpmZmZkfZUBmZmZmZhhoQLzoK0gzEWtAAAAAAAAKbkCiC+pbZoFwQAhyUMLM/XFA+I2vPTN6c0AQ5KCEmfZ0QAAAAAAAc3ZA8Btfe2bvd0AIclDCzGt5QPeNrz0z6HpAEOSghJlkfEAAAAAAAOF9QKML6ltmXX9ABTkoYeZsgED7xteeGSuBQAhyUMJM6YFAAAAAAICngkD4ja89s2WDQAU5KGHmI4RA+8bXnhnihEAIclDCTKCFQAAAAACAXoZA+I2vPbMch0AFOShh5tqHQPvG154ZmYhACHJQwkxXiUAAAAAAgBWKQPeNrz2z04pABTkoYeaRi0D7xteeGVCMQAlyUMJMDo1AAAAAAIDMjUD3ja89s4qOQGZmZmbmSI9A\",\"dtype\":\"float64\",\"shape\":[75]}}},\"id\":\"47849cfb-2367-4ea6-b6ce-e810c9bc012c\",\"type\":\"ColumnDataSource\"},{\"attributes\":{},\"id\":\"6dc801bc-4240-4152-be51-d9105cb7da2d\",\"type\":\"LinearScale\"},{\"attributes\":{\"axis_label\":\"cooling rate [K/day]\",\"formatter\":{\"id\":\"2af332f9-80cf-40c8-8bdf-dcc5e966d1d3\",\"type\":\"BasicTickFormatter\"},\"plot\":{\"id\":\"b96acea9-7ff0-4767-97b0-1714bcc69d0c\",\"subtype\":\"Figure\",\"type\":\"Plot\"},\"ticker\":{\"id\":\"f62a497b-d927-422f-aee4-78b818dc8cbf\",\"type\":\"BasicTicker\"}},\"id\":\"24ce72a6-d3b2-4993-8300-f2a940653394\",\"type\":\"LinearAxis\"},{\"attributes\":{\"source\":{\"id\":\"6c70cac2-33cb-402d-afee-c73a20fe8012\",\"type\":\"ColumnDataSource\"}},\"id\":\"11f9d576-c30d-45f0-8bb2-32b25d69eac8\",\"type\":\"CDSView\"},{\"attributes\":{\"axis_label\":\"pressure [mb]\",\"formatter\":{\"id\":\"fdc46655-1e33-4a8e-8d58-2e005d58192a\",\"type\":\"BasicTickFormatter\"},\"plot\":{\"id\":\"b96acea9-7ff0-4767-97b0-1714bcc69d0c\",\"subtype\":\"Figure\",\"type\":\"Plot\"},\"ticker\":{\"id\":\"5774e62e-128b-4a27-b679-50c6d6c16752\",\"type\":\"BasicTicker\"}},\"id\":\"06fb7b13-f58f-4545-880b-8e94be8fba32\",\"type\":\"LinearAxis\"},{\"attributes\":{\"callback\":null,\"end\":0.01,\"start\":1020},\"id\":\"0a47004f-0ed1-4a39-b0ea-3f4cb090a52d\",\"type\":\"Range1d\"},{\"attributes\":{},\"id\":\"a7c562ef-2cdb-4aec-a6ef-6e53babd0382\",\"type\":\"PanTool\"},{\"attributes\":{},\"id\":\"f62a497b-d927-422f-aee4-78b818dc8cbf\",\"type\":\"BasicTicker\"},{\"attributes\":{},\"id\":\"22d0c8a5-fea9-4900-b037-96c5c0b6b913\",\"type\":\"WheelZoomTool\"},{\"attributes\":{\"bottom_units\":\"screen\",\"fill_alpha\":{\"value\":0.5},\"fill_color\":{\"value\":\"lightgrey\"},\"left_units\":\"screen\",\"level\":\"overlay\",\"line_alpha\":{\"value\":1.0},\"line_color\":{\"value\":\"black\"},\"line_dash\":[4,4],\"line_width\":{\"value\":2},\"plot\":null,\"render_mode\":\"css\",\"right_units\":\"screen\",\"top_units\":\"screen\"},\"id\":\"cd916ad7-fdd3-406d-90f4-d22f526fa96c\",\"type\":\"BoxAnnotation\"},{\"attributes\":{\"children\":[{\"id\":\"b96acea9-7ff0-4767-97b0-1714bcc69d0c\",\"subtype\":\"Figure\",\"type\":\"Plot\"},{\"id\":\"7f5f731f-784b-4427-8ea0-f319323d39a3\",\"subtype\":\"Figure\",\"type\":\"Plot\"}]},\"id\":\"7bb27ba8-d599-4bd0-9b88-e4c2738592ad\",\"type\":\"Row\"},{\"attributes\":{\"active_drag\":\"auto\",\"active_inspect\":\"auto\",\"active_scroll\":\"auto\",\"active_tap\":\"auto\",\"tools\":[{\"id\":\"2efac730-31b3-4f95-a129-b2b3b55c9018\",\"type\":\"PanTool\"},{\"id\":\"22d0c8a5-fea9-4900-b037-96c5c0b6b913\",\"type\":\"WheelZoomTool\"},{\"id\":\"28d55585-dcf6-4c98-b04f-7aebddc1c07f\",\"type\":\"BoxZoomTool\"},{\"id\":\"7b7dccae-2287-4b9a-ae29-646bea11d24d\",\"type\":\"SaveTool\"},{\"id\":\"b318259c-11f5-4002-81fc-4ee1c253deb3\",\"type\":\"ResetTool\"},{\"id\":\"5b84fb6d-c63c-4326-bff7-ea0bf15a762f\",\"type\":\"HelpTool\"}]},\"id\":\"3acce7f0-f379-4a15-9ed6-2b6655ac2006\",\"type\":\"Toolbar\"},{\"attributes\":{},\"id\":\"f8eefeb5-4fdf-4c78-9ad3-d67c049ca8e1\",\"type\":\"ResetTool\"},{\"attributes\":{},\"id\":\"2efac730-31b3-4f95-a129-b2b3b55c9018\",\"type\":\"PanTool\"},{\"attributes\":{\"plot\":{\"id\":\"b96acea9-7ff0-4767-97b0-1714bcc69d0c\",\"subtype\":\"Figure\",\"type\":\"Plot\"},\"ticker\":{\"id\":\"f62a497b-d927-422f-aee4-78b818dc8cbf\",\"type\":\"BasicTicker\"}},\"id\":\"e64c0d3b-4d7e-499a-bcbe-405d0e5fc473\",\"type\":\"Grid\"},{\"attributes\":{\"source\":{\"id\":\"297be74e-040b-4d48-8426-fa1a961ede5c\",\"type\":\"ColumnDataSource\"}},\"id\":\"64ab32a7-852e-4f8a-b837-ed8aa8586ca6\",\"type\":\"CDSView\"},{\"attributes\":{},\"id\":\"7b7dccae-2287-4b9a-ae29-646bea11d24d\",\"type\":\"SaveTool\"},{\"attributes\":{\"dimension\":1,\"plot\":{\"id\":\"b96acea9-7ff0-4767-97b0-1714bcc69d0c\",\"subtype\":\"Figure\",\"type\":\"Plot\"},\"ticker\":{\"id\":\"5774e62e-128b-4a27-b679-50c6d6c16752\",\"type\":\"BasicTicker\"}},\"id\":\"e5ebb5d7-72ca-4301-be3f-4810a130d096\",\"type\":\"Grid\"}],\"root_ids\":[\"f099c5a4-a183-4c10-a4f1-d123490e2963\"]},\"title\":\"Bokeh Application\",\"version\":\"0.12.14\"}};\n",
       "  var render_items = [{\"docid\":\"7796090d-0cc0-4402-a1c9-812be7474133\",\"elementid\":\"b3513ce7-bd45-40da-91a8-27de53eef485\",\"modelid\":\"f099c5a4-a183-4c10-a4f1-d123490e2963\"}];\n",
       "  root.Bokeh.embed.embed_items_notebook(docs_json, render_items);\n",
       "\n",
       "  }\n",
       "  if (root.Bokeh !== undefined) {\n",
       "    embed_document(root);\n",
       "  } else {\n",
       "    var attempts = 0;\n",
       "    var timer = setInterval(function(root) {\n",
       "      if (root.Bokeh !== undefined) {\n",
       "        embed_document(root);\n",
       "        clearInterval(timer);\n",
       "      }\n",
       "      attempts++;\n",
       "      if (attempts > 100) {\n",
       "        console.log(\"Bokeh: ERROR: Unable to run BokehJS code because BokehJS library is missing\")\n",
       "        clearInterval(timer);\n",
       "      }\n",
       "    }, 10, root)\n",
       "  }\n",
       "})(window);"
      ],
      "application/vnd.bokehjs_exec.v0+json": ""
     },
     "metadata": {
      "application/vnd.bokehjs_exec.v0+json": {
       "id": "f099c5a4-a183-4c10-a4f1-d123490e2963"
      }
     },
     "output_type": "display_data"
    },
    {
     "name": "stdout",
     "output_type": "stream",
     "text": [
      "FIGURE. Cooling rate profiles.\n"
     ]
    },
    {
     "data": {
      "text/html": [
       "<a id=\"Flux_Comparison\"></a>"
      ],
      "text/plain": [
       "<IPython.core.display.HTML object>"
      ]
     },
     "metadata": {},
     "output_type": "display_data"
    },
    {
     "data": {
      "text/markdown": [
       "# Flux Comparison"
      ],
      "text/plain": [
       "<IPython.core.display.Markdown object>"
      ]
     },
     "metadata": {},
     "output_type": "display_data"
    },
    {
     "data": {
      "text/html": [
       "<div>\n",
       "<style>\n",
       "    .dataframe thead tr:only-child th {\n",
       "        text-align: right;\n",
       "    }\n",
       "\n",
       "    .dataframe thead th {\n",
       "        text-align: left;\n",
       "    }\n",
       "\n",
       "    .dataframe tbody tr th {\n",
       "        vertical-align: top;\n",
       "    }\n",
       "</style>\n",
       "<table border=\"1\" class=\"dataframe\">\n",
       "  <thead>\n",
       "    <tr style=\"text-align: right;\">\n",
       "      <th></th>\n",
       "      <th></th>\n",
       "      <th>flug</th>\n",
       "      <th>fldg</th>\n",
       "      <th>fnetg</th>\n",
       "    </tr>\n",
       "    <tr>\n",
       "      <th>pressure</th>\n",
       "      <th>level</th>\n",
       "      <th></th>\n",
       "      <th></th>\n",
       "      <th></th>\n",
       "    </tr>\n",
       "  </thead>\n",
       "  <tbody>\n",
       "    <tr>\n",
       "      <th>0.0000</th>\n",
       "      <th>1</th>\n",
       "      <td>-29.999447</td>\n",
       "      <td>0.000000</td>\n",
       "      <td>-29.999447</td>\n",
       "    </tr>\n",
       "    <tr>\n",
       "      <th>1.0685</th>\n",
       "      <th>24</th>\n",
       "      <td>-29.998932</td>\n",
       "      <td>0.001912</td>\n",
       "      <td>-29.997019</td>\n",
       "    </tr>\n",
       "    <tr>\n",
       "      <th>1013.0000</th>\n",
       "      <th>76</th>\n",
       "      <td>-38.491735</td>\n",
       "      <td>35.869918</td>\n",
       "      <td>-2.621816</td>\n",
       "    </tr>\n",
       "  </tbody>\n",
       "</table>\n",
       "</div>"
      ],
      "text/plain": [
       "                      flug       fldg      fnetg\n",
       "pressure  level                                 \n",
       "0.0000    1     -29.999447   0.000000 -29.999447\n",
       "1.0685    24    -29.998932   0.001912 -29.997019\n",
       "1013.0000 76    -38.491735  35.869918  -2.621816"
      ]
     },
     "metadata": {},
     "output_type": "display_data"
    },
    {
     "name": "stdout",
     "output_type": "stream",
     "text": [
      "Table. Fluxes. WGT igg=10 wgt_flux=1\n"
     ]
    },
    {
     "data": {
      "text/html": [
       "<div>\n",
       "<style>\n",
       "    .dataframe thead tr:only-child th {\n",
       "        text-align: right;\n",
       "    }\n",
       "\n",
       "    .dataframe thead th {\n",
       "        text-align: left;\n",
       "    }\n",
       "\n",
       "    .dataframe tbody tr th {\n",
       "        vertical-align: top;\n",
       "    }\n",
       "</style>\n",
       "<table border=\"1\" class=\"dataframe\">\n",
       "  <thead>\n",
       "    <tr style=\"text-align: right;\">\n",
       "      <th></th>\n",
       "      <th></th>\n",
       "      <th>flug</th>\n",
       "      <th>fldg</th>\n",
       "      <th>fnetg</th>\n",
       "    </tr>\n",
       "    <tr>\n",
       "      <th>pressure</th>\n",
       "      <th>level</th>\n",
       "      <th></th>\n",
       "      <th></th>\n",
       "      <th></th>\n",
       "    </tr>\n",
       "  </thead>\n",
       "  <tbody>\n",
       "    <tr>\n",
       "      <th>0.0000</th>\n",
       "      <th>1</th>\n",
       "      <td>-30.009778</td>\n",
       "      <td>0.000000</td>\n",
       "      <td>-30.009778</td>\n",
       "    </tr>\n",
       "    <tr>\n",
       "      <th>1.0685</th>\n",
       "      <th>24</th>\n",
       "      <td>-30.009411</td>\n",
       "      <td>0.002207</td>\n",
       "      <td>-30.007204</td>\n",
       "    </tr>\n",
       "    <tr>\n",
       "      <th>1013.0000</th>\n",
       "      <th>76</th>\n",
       "      <td>-38.491734</td>\n",
       "      <td>35.831584</td>\n",
       "      <td>-2.660150</td>\n",
       "    </tr>\n",
       "  </tbody>\n",
       "</table>\n",
       "</div>"
      ],
      "text/plain": [
       "                      flug       fldg      fnetg\n",
       "pressure  level                                 \n",
       "0.0000    1     -30.009778   0.000000 -30.009778\n",
       "1.0685    24    -30.009411   0.002207 -30.007204\n",
       "1013.0000 76    -38.491734  35.831584  -2.660150"
      ]
     },
     "metadata": {},
     "output_type": "display_data"
    },
    {
     "name": "stdout",
     "output_type": "stream",
     "text": [
      "Table. Fluxes. CRD\n"
     ]
    },
    {
     "data": {
      "text/html": [
       "<div>\n",
       "<style>\n",
       "    .dataframe thead tr:only-child th {\n",
       "        text-align: right;\n",
       "    }\n",
       "\n",
       "    .dataframe thead th {\n",
       "        text-align: left;\n",
       "    }\n",
       "\n",
       "    .dataframe tbody tr th {\n",
       "        vertical-align: top;\n",
       "    }\n",
       "</style>\n",
       "<table border=\"1\" class=\"dataframe\">\n",
       "  <thead>\n",
       "    <tr style=\"text-align: right;\">\n",
       "      <th></th>\n",
       "      <th></th>\n",
       "      <th>flug</th>\n",
       "      <th>fldg</th>\n",
       "      <th>fnetg</th>\n",
       "    </tr>\n",
       "    <tr>\n",
       "      <th>pressure</th>\n",
       "      <th>level</th>\n",
       "      <th></th>\n",
       "      <th></th>\n",
       "      <th></th>\n",
       "    </tr>\n",
       "  </thead>\n",
       "  <tbody>\n",
       "    <tr>\n",
       "      <th>1.000000e-08</th>\n",
       "      <th>1</th>\n",
       "      <td>-30.081854</td>\n",
       "      <td>0.000002</td>\n",
       "      <td>-30.081852</td>\n",
       "    </tr>\n",
       "    <tr>\n",
       "      <th>1.068500e+00</th>\n",
       "      <th>24</th>\n",
       "      <td>-30.081263</td>\n",
       "      <td>0.001901</td>\n",
       "      <td>-30.079361</td>\n",
       "    </tr>\n",
       "    <tr>\n",
       "      <th>1.013000e+03</th>\n",
       "      <th>76</th>\n",
       "      <td>-38.491730</td>\n",
       "      <td>36.224194</td>\n",
       "      <td>-2.267536</td>\n",
       "    </tr>\n",
       "  </tbody>\n",
       "</table>\n",
       "</div>"
      ],
      "text/plain": [
       "                         flug       fldg      fnetg\n",
       "pressure     level                                 \n",
       "1.000000e-08 1     -30.081854   0.000002 -30.081852\n",
       "1.068500e+00 24    -30.081263   0.001901 -30.079361\n",
       "1.013000e+03 76    -38.491730  36.224194  -2.267536"
      ]
     },
     "metadata": {},
     "output_type": "display_data"
    },
    {
     "name": "stdout",
     "output_type": "stream",
     "text": [
      "Table. Fluxes. CLIRAD\n"
     ]
    },
    {
     "data": {
      "text/html": [
       "<div>\n",
       "<style>\n",
       "    .dataframe thead tr:only-child th {\n",
       "        text-align: right;\n",
       "    }\n",
       "\n",
       "    .dataframe thead th {\n",
       "        text-align: left;\n",
       "    }\n",
       "\n",
       "    .dataframe tbody tr th {\n",
       "        vertical-align: top;\n",
       "    }\n",
       "</style>\n",
       "<table border=\"1\" class=\"dataframe\">\n",
       "  <thead>\n",
       "    <tr style=\"text-align: right;\">\n",
       "      <th></th>\n",
       "      <th></th>\n",
       "      <th>flug</th>\n",
       "      <th>fldg</th>\n",
       "      <th>fnetg</th>\n",
       "    </tr>\n",
       "    <tr>\n",
       "      <th>pressure</th>\n",
       "      <th>level</th>\n",
       "      <th></th>\n",
       "      <th></th>\n",
       "      <th></th>\n",
       "    </tr>\n",
       "  </thead>\n",
       "  <tbody>\n",
       "    <tr>\n",
       "      <th>0.0000</th>\n",
       "      <th>1</th>\n",
       "      <td>-1.033057e-02</td>\n",
       "      <td>0.000000</td>\n",
       "      <td>-0.010331</td>\n",
       "    </tr>\n",
       "    <tr>\n",
       "      <th>1.0685</th>\n",
       "      <th>24</th>\n",
       "      <td>-1.047910e-02</td>\n",
       "      <td>0.000295</td>\n",
       "      <td>-0.010185</td>\n",
       "    </tr>\n",
       "    <tr>\n",
       "      <th>1013.0000</th>\n",
       "      <th>76</th>\n",
       "      <td>5.600000e-07</td>\n",
       "      <td>-0.038334</td>\n",
       "      <td>-0.038334</td>\n",
       "    </tr>\n",
       "  </tbody>\n",
       "</table>\n",
       "</div>"
      ],
      "text/plain": [
       "                         flug      fldg     fnetg\n",
       "pressure  level                                  \n",
       "0.0000    1     -1.033057e-02  0.000000 -0.010331\n",
       "1.0685    24    -1.047910e-02  0.000295 -0.010185\n",
       "1013.0000 76     5.600000e-07 -0.038334 -0.038334"
      ]
     },
     "metadata": {},
     "output_type": "display_data"
    },
    {
     "name": "stdout",
     "output_type": "stream",
     "text": [
      "Table. Fluxes. (CRD) - (WGT igg=10 wgt_flux=1)\n"
     ]
    },
    {
     "data": {
      "text/html": [
       "<div>\n",
       "<style>\n",
       "    .dataframe thead tr:only-child th {\n",
       "        text-align: right;\n",
       "    }\n",
       "\n",
       "    .dataframe thead th {\n",
       "        text-align: left;\n",
       "    }\n",
       "\n",
       "    .dataframe tbody tr th {\n",
       "        vertical-align: top;\n",
       "    }\n",
       "</style>\n",
       "<table border=\"1\" class=\"dataframe\">\n",
       "  <thead>\n",
       "    <tr style=\"text-align: right;\">\n",
       "      <th></th>\n",
       "      <th></th>\n",
       "      <th>flug</th>\n",
       "      <th>fldg</th>\n",
       "      <th>fnetg</th>\n",
       "    </tr>\n",
       "    <tr>\n",
       "      <th>pressure</th>\n",
       "      <th>level</th>\n",
       "      <th></th>\n",
       "      <th></th>\n",
       "      <th></th>\n",
       "    </tr>\n",
       "  </thead>\n",
       "  <tbody>\n",
       "    <tr>\n",
       "      <th>0.0000</th>\n",
       "      <th>1</th>\n",
       "      <td>-0.082407</td>\n",
       "      <td>0.000002</td>\n",
       "      <td>-0.082405</td>\n",
       "    </tr>\n",
       "    <tr>\n",
       "      <th>1.0685</th>\n",
       "      <th>24</th>\n",
       "      <td>-0.082331</td>\n",
       "      <td>-0.000012</td>\n",
       "      <td>-0.082342</td>\n",
       "    </tr>\n",
       "    <tr>\n",
       "      <th>1013.0000</th>\n",
       "      <th>76</th>\n",
       "      <td>0.000005</td>\n",
       "      <td>0.354276</td>\n",
       "      <td>0.354280</td>\n",
       "    </tr>\n",
       "  </tbody>\n",
       "</table>\n",
       "</div>"
      ],
      "text/plain": [
       "                     flug      fldg     fnetg\n",
       "pressure  level                              \n",
       "0.0000    1     -0.082407  0.000002 -0.082405\n",
       "1.0685    24    -0.082331 -0.000012 -0.082342\n",
       "1013.0000 76     0.000005  0.354276  0.354280"
      ]
     },
     "metadata": {},
     "output_type": "display_data"
    },
    {
     "name": "stdout",
     "output_type": "stream",
     "text": [
      "Table. Fluxes. (CLIRAD) - (WGT igg=10 wgt_flux=1)\n"
     ]
    },
    {
     "data": {
      "text/html": [
       "<a id=\"Best-fit_Parameters\"></a>"
      ],
      "text/plain": [
       "<IPython.core.display.HTML object>"
      ]
     },
     "metadata": {},
     "output_type": "display_data"
    },
    {
     "data": {
      "text/markdown": [
       "# Best-fit Parameters"
      ],
      "text/plain": [
       "<IPython.core.display.Markdown object>"
      ]
     },
     "metadata": {},
     "output_type": "display_data"
    },
    {
     "name": "stdout",
     "output_type": "stream",
     "text": [
      "Best-fit values for each (gas, band)\n",
      "------------------------------------\n",
      "o h2o band3a\n",
      "  atmpro = mls\n",
      "  band = 3a\n",
      "  commitnumber = 5014a19\n",
      "  conc = None\n",
      "  dv = 0.01\n",
      "  klin = 0\n",
      "  molecule = h2o\n",
      "  ng_adju = [0, 0]\n",
      "  ng_refs = [2, 6]\n",
      "  nv = 100\n",
      "  option_compute_btable = 0\n",
      "  option_compute_ktable = 1\n",
      "  option_wgt_flux = 1\n",
      "  option_wgt_k = 1\n",
      "  ref_pts = [(10, 250), (600, 250)]\n",
      "  tsfc = 294\n",
      "  vmax = 620\n",
      "  vmin = 540\n",
      "  w_diffuse = [(1.9, 1.7), (1.4, 1.4, 1.4, 1.55, 1.6, 1.66)]\n",
      "  wgt = [(0.7, 0.7), (0.7, 0.5, 0.5, 0.5, 0.5, 0.5)]\n"
     ]
    }
   ],
   "source": [
    "script()"
   ]
  },
  {
   "cell_type": "code",
   "execution_count": 13,
   "metadata": {
    "collapsed": true
   },
   "outputs": [
    {
     "data": {
      "text/html": [
       "<script>\n",
       "code_show=true; \n",
       "function code_toggle() {\n",
       " if (code_show){\n",
       " $('div.input').hide();\n",
       " } else {\n",
       " $('div.input').show();\n",
       " }\n",
       " code_show = !code_show\n",
       "} \n",
       "$( document ).ready(code_toggle);\n",
       "</script>\n",
       "<form action=\"javascript:code_toggle()\"><input type=\"submit\" value=\"Click here to toggle on/off the raw code.\"></form>"
      ],
      "text/plain": [
       "<IPython.core.display.HTML object>"
      ]
     },
     "execution_count": 13,
     "metadata": {},
     "output_type": "execute_result"
    }
   ],
   "source": [
    "display.HTML('''<script>\n",
    "code_show=true; \n",
    "function code_toggle() {\n",
    " if (code_show){\n",
    " $('div.input').hide();\n",
    " } else {\n",
    " $('div.input').show();\n",
    " }\n",
    " code_show = !code_show\n",
    "} \n",
    "$( document ).ready(code_toggle);\n",
    "</script>\n",
    "<form action=\"javascript:code_toggle()\"><input type=\"submit\" value=\"Click here to toggle on/off the raw code.\"></form>''')"
   ]
  }
 ],
 "metadata": {
  "kernelspec": {
   "display_name": "Python 3",
   "language": "python",
   "name": "python3"
  },
  "language_info": {
   "codemirror_mode": {
    "name": "ipython",
    "version": 3
   },
   "file_extension": ".py",
   "mimetype": "text/x-python",
   "name": "python",
   "nbconvert_exporter": "python",
   "pygments_lexer": "ipython3",
   "version": "3.6.1"
  }
 },
 "nbformat": 4,
 "nbformat_minor": 2
}
