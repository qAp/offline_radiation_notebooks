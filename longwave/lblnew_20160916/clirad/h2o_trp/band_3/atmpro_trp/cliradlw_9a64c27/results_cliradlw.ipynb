{
 "cells": [
  {
   "cell_type": "code",
   "execution_count": 1,
   "metadata": {
    "collapsed": true
   },
   "outputs": [],
   "source": [
    "%matplotlib inline\n",
    "import os\n",
    "import re\n",
    "import io\n",
    "import itertools\n",
    "import pprint\n",
    "\n",
    "from bokeh.io import output_notebook, show\n",
    "from bokeh.layouts import gridplot\n",
    "from bokeh.plotting import figure\n",
    "from bokeh.models import Range1d, Legend\n",
    "from bokeh.palettes import all_palettes\n",
    "\n",
    "import matplotlib\n",
    "import matplotlib.pyplot as plt\n",
    "import numpy as np\n",
    "import pandas as pd\n",
    "import xarray as xr\n",
    "\n",
    "import climatools.lblnew.bestfit_params as bestfits\n",
    "from climatools.lblnew import setup_bestfit, setup_overlap\n",
    "import climatools.lblnew.pipeline as pipe_lblnew\n",
    "import climatools.cliradlw.setup as setup_cliradlw\n",
    "import climatools.cliradlw.pipeline as pipe_cliradlw\n",
    "\n",
    "import climatools.html.html as climahtml\n",
    "from climatools.lblnew.dataio import *\n",
    "from climatools.plot.plot import *\n",
    "\n",
    "\n",
    "import IPython.display as display"
   ]
  },
  {
   "cell_type": "code",
   "execution_count": 2,
   "metadata": {
    "collapsed": true
   },
   "outputs": [],
   "source": [
    "%run param.py"
   ]
  },
  {
   "cell_type": "code",
   "execution_count": 3,
   "metadata": {
    "collapsed": true
   },
   "outputs": [
    {
     "name": "stdout",
     "output_type": "stream",
     "text": [
      "The history saving thread hit an unexpected error (OperationalError('database is locked',)).History will not be written to the database.\n"
     ]
    }
   ],
   "source": [
    "def load_output_file(path_csv):\n",
    "    '''\n",
    "    Load lblnew output .csv file to xarray.Dataset\n",
    "    \n",
    "    Parameters\n",
    "    ----------\n",
    "    path_csv: str\n",
    "              Path to the .csv file to be loaded.\n",
    "    ds: xarray.Dataset\n",
    "        Data in the input file in the form of an xarray.Dataset.\n",
    "    '''\n",
    "    toindex = ['band', 'pressure', 'igg', 'g']    \n",
    "    df = pd.read_csv(path_csv, sep=r'\\s+')\n",
    "    df = df.set_index([i for i in toindex if i in df.columns])\n",
    "    df = df.rename(columns={'sfu': 'flug',\n",
    "                            'sfd': 'fldg',\n",
    "                            'fnet': 'fnetg',\n",
    "                            'coolr': 'coolrg'})\n",
    "    ds = xr.Dataset.from_dataframe(df)\n",
    "\n",
    "    for l in ('level', 'layer'):\n",
    "        if l in ds.data_vars:\n",
    "            if len(ds[l].dims) > 1:\n",
    "                surface = {d: 0 for d in ds.dims if d != 'pressure'}\n",
    "                coord_level = ds[l][surface]\n",
    "                ds.coords[l] = ('pressure', coord_level)\n",
    "            else:\n",
    "                ds.coords[l] = ('pressure', ds[l])\n",
    "    \n",
    "    return ds"
   ]
  },
  {
   "cell_type": "code",
   "execution_count": 4,
   "metadata": {
    "collapsed": true
   },
   "outputs": [],
   "source": [
    "def lblnew_setup(param=None):\n",
    "    if 'ng_refs' in param:\n",
    "        return {'setup': setup_bestfit,\n",
    "                'fname_flux_crd': 'output_flux.dat',\n",
    "                'fname_cool_crd': 'output_coolr.dat',\n",
    "                'fname_flux_wgt': 'output_wfluxg.dat',\n",
    "                'fname_cool_wgt': 'output_wcoolrg.dat'}\n",
    "    else:\n",
    "        return {'setup': setup_overlap,\n",
    "                'fname_flux_crd': 'output_flux.dat',\n",
    "                'fname_cool_crd': 'output_coolr.dat',\n",
    "                'fname_flux_wgt': 'output_wflux.dat',\n",
    "                'fname_cool_wgt': 'output_wcoolr.dat'}\n",
    "\n",
    "    \n",
    "def load_lblnew_data(param):\n",
    "    \n",
    "    fname_dsname = [('fname_flux_crd', 'ds_flux_crd'),\n",
    "                    ('fname_cool_crd', 'ds_cool_crd'),\n",
    "                    ('fname_flux_wgt', 'ds_flux_wgt'),\n",
    "                    ('fname_cool_wgt', 'ds_cool_wgt')]\n",
    "    \n",
    "    d = lblnew_setup(param)\n",
    "    dir_fortran = pipe_lblnew.get_dir_case(param, setup=d['setup'])\n",
    "    \n",
    "    data_dict = {}\n",
    "    for fname, dsname in fname_dsname:\n",
    "        fpath = os.path.join(dir_fortran, d[fname])\n",
    "        data_dict[dsname] = load_output_file(fpath)\n",
    "    return data_dict\n",
    "    \n",
    "\n",
    "    \n",
    "    "
   ]
  },
  {
   "cell_type": "code",
   "execution_count": 5,
   "metadata": {
    "collapsed": true
   },
   "outputs": [],
   "source": [
    "d = load_lblnew_data(PARAM_LBLNEW)\n",
    "\n",
    "DS_FLUX_CRD = d['ds_flux_crd']\n",
    "DS_COOL_CRD = d['ds_cool_crd']\n",
    "DS_FLUX_WGT = d['ds_flux_wgt']\n",
    "DS_COOL_WGT = d['ds_cool_wgt']"
   ]
  },
  {
   "cell_type": "code",
   "execution_count": 6,
   "metadata": {
    "collapsed": true
   },
   "outputs": [],
   "source": [
    "DIR_FORTRAN = pipe_cliradlw.get_fortran_dir(PARAM, \n",
    "                                            setup=setup_cliradlw)\n",
    "\n",
    "PATH_FLUX = os.path.join(DIR_FORTRAN, 'output_flux.dat')\n",
    "PATH_COOL = os.path.join(DIR_FORTRAN, 'output_coolr.dat')\n",
    "\n",
    "DS_FLUX = load_output_file(PATH_FLUX)\n",
    "DS_COOL = load_output_file(PATH_COOL)"
   ]
  },
  {
   "cell_type": "code",
   "execution_count": 7,
   "metadata": {
    "collapsed": true
   },
   "outputs": [
    {
     "data": {
      "text/html": [
       "\n",
       "    <div class=\"bk-root\">\n",
       "        <a href=\"https://bokeh.pydata.org\" target=\"_blank\" class=\"bk-logo bk-logo-small bk-logo-notebook\"></a>\n",
       "        <span id=\"9a5837f3-402a-41df-8d0a-34533428c470\">Loading BokehJS ...</span>\n",
       "    </div>"
      ]
     },
     "metadata": {},
     "output_type": "display_data"
    },
    {
     "data": {
      "application/javascript": [
       "\n",
       "(function(root) {\n",
       "  function now() {\n",
       "    return new Date();\n",
       "  }\n",
       "\n",
       "  var force = true;\n",
       "\n",
       "  if (typeof (root._bokeh_onload_callbacks) === \"undefined\" || force === true) {\n",
       "    root._bokeh_onload_callbacks = [];\n",
       "    root._bokeh_is_loading = undefined;\n",
       "  }\n",
       "\n",
       "  var JS_MIME_TYPE = 'application/javascript';\n",
       "  var HTML_MIME_TYPE = 'text/html';\n",
       "  var EXEC_MIME_TYPE = 'application/vnd.bokehjs_exec.v0+json';\n",
       "  var CLASS_NAME = 'output_bokeh rendered_html';\n",
       "\n",
       "  /**\n",
       "   * Render data to the DOM node\n",
       "   */\n",
       "  function render(props, node) {\n",
       "    var script = document.createElement(\"script\");\n",
       "    node.appendChild(script);\n",
       "  }\n",
       "\n",
       "  /**\n",
       "   * Handle when an output is cleared or removed\n",
       "   */\n",
       "  function handleClearOutput(event, handle) {\n",
       "    var cell = handle.cell;\n",
       "\n",
       "    var id = cell.output_area._bokeh_element_id;\n",
       "    var server_id = cell.output_area._bokeh_server_id;\n",
       "    // Clean up Bokeh references\n",
       "    if (id !== undefined) {\n",
       "      Bokeh.index[id].model.document.clear();\n",
       "      delete Bokeh.index[id];\n",
       "    }\n",
       "\n",
       "    if (server_id !== undefined) {\n",
       "      // Clean up Bokeh references\n",
       "      var cmd = \"from bokeh.io.state import curstate; print(curstate().uuid_to_server['\" + server_id + \"'].get_sessions()[0].document.roots[0]._id)\";\n",
       "      cell.notebook.kernel.execute(cmd, {\n",
       "        iopub: {\n",
       "          output: function(msg) {\n",
       "            var element_id = msg.content.text.trim();\n",
       "            Bokeh.index[element_id].model.document.clear();\n",
       "            delete Bokeh.index[element_id];\n",
       "          }\n",
       "        }\n",
       "      });\n",
       "      // Destroy server and session\n",
       "      var cmd = \"import bokeh.io.notebook as ion; ion.destroy_server('\" + server_id + \"')\";\n",
       "      cell.notebook.kernel.execute(cmd);\n",
       "    }\n",
       "  }\n",
       "\n",
       "  /**\n",
       "   * Handle when a new output is added\n",
       "   */\n",
       "  function handleAddOutput(event, handle) {\n",
       "    var output_area = handle.output_area;\n",
       "    var output = handle.output;\n",
       "\n",
       "    // limit handleAddOutput to display_data with EXEC_MIME_TYPE content only\n",
       "    if ((output.output_type != \"display_data\") || (!output.data.hasOwnProperty(EXEC_MIME_TYPE))) {\n",
       "      return\n",
       "    }\n",
       "\n",
       "    var toinsert = output_area.element.find(\".\" + CLASS_NAME.split(' ')[0]);\n",
       "\n",
       "    if (output.metadata[EXEC_MIME_TYPE][\"id\"] !== undefined) {\n",
       "      toinsert[0].firstChild.textContent = output.data[JS_MIME_TYPE];\n",
       "      // store reference to embed id on output_area\n",
       "      output_area._bokeh_element_id = output.metadata[EXEC_MIME_TYPE][\"id\"];\n",
       "    }\n",
       "    if (output.metadata[EXEC_MIME_TYPE][\"server_id\"] !== undefined) {\n",
       "      var bk_div = document.createElement(\"div\");\n",
       "      bk_div.innerHTML = output.data[HTML_MIME_TYPE];\n",
       "      var script_attrs = bk_div.children[0].attributes;\n",
       "      for (var i = 0; i < script_attrs.length; i++) {\n",
       "        toinsert[0].firstChild.setAttribute(script_attrs[i].name, script_attrs[i].value);\n",
       "      }\n",
       "      // store reference to server id on output_area\n",
       "      output_area._bokeh_server_id = output.metadata[EXEC_MIME_TYPE][\"server_id\"];\n",
       "    }\n",
       "  }\n",
       "\n",
       "  function register_renderer(events, OutputArea) {\n",
       "\n",
       "    function append_mime(data, metadata, element) {\n",
       "      // create a DOM node to render to\n",
       "      var toinsert = this.create_output_subarea(\n",
       "        metadata,\n",
       "        CLASS_NAME,\n",
       "        EXEC_MIME_TYPE\n",
       "      );\n",
       "      this.keyboard_manager.register_events(toinsert);\n",
       "      // Render to node\n",
       "      var props = {data: data, metadata: metadata[EXEC_MIME_TYPE]};\n",
       "      render(props, toinsert[0]);\n",
       "      element.append(toinsert);\n",
       "      return toinsert\n",
       "    }\n",
       "\n",
       "    /* Handle when an output is cleared or removed */\n",
       "    events.on('clear_output.CodeCell', handleClearOutput);\n",
       "    events.on('delete.Cell', handleClearOutput);\n",
       "\n",
       "    /* Handle when a new output is added */\n",
       "    events.on('output_added.OutputArea', handleAddOutput);\n",
       "\n",
       "    /**\n",
       "     * Register the mime type and append_mime function with output_area\n",
       "     */\n",
       "    OutputArea.prototype.register_mime_type(EXEC_MIME_TYPE, append_mime, {\n",
       "      /* Is output safe? */\n",
       "      safe: true,\n",
       "      /* Index of renderer in `output_area.display_order` */\n",
       "      index: 0\n",
       "    });\n",
       "  }\n",
       "\n",
       "  // register the mime type if in Jupyter Notebook environment and previously unregistered\n",
       "  if (root.Jupyter !== undefined) {\n",
       "    var events = require('base/js/events');\n",
       "    var OutputArea = require('notebook/js/outputarea').OutputArea;\n",
       "\n",
       "    if (OutputArea.prototype.mime_types().indexOf(EXEC_MIME_TYPE) == -1) {\n",
       "      register_renderer(events, OutputArea);\n",
       "    }\n",
       "  }\n",
       "\n",
       "  \n",
       "  if (typeof (root._bokeh_timeout) === \"undefined\" || force === true) {\n",
       "    root._bokeh_timeout = Date.now() + 5000;\n",
       "    root._bokeh_failed_load = false;\n",
       "  }\n",
       "\n",
       "  var NB_LOAD_WARNING = {'data': {'text/html':\n",
       "     \"<div style='background-color: #fdd'>\\n\"+\n",
       "     \"<p>\\n\"+\n",
       "     \"BokehJS does not appear to have successfully loaded. If loading BokehJS from CDN, this \\n\"+\n",
       "     \"may be due to a slow or bad network connection. Possible fixes:\\n\"+\n",
       "     \"</p>\\n\"+\n",
       "     \"<ul>\\n\"+\n",
       "     \"<li>re-rerun `output_notebook()` to attempt to load from CDN again, or</li>\\n\"+\n",
       "     \"<li>use INLINE resources instead, as so:</li>\\n\"+\n",
       "     \"</ul>\\n\"+\n",
       "     \"<code>\\n\"+\n",
       "     \"from bokeh.resources import INLINE\\n\"+\n",
       "     \"output_notebook(resources=INLINE)\\n\"+\n",
       "     \"</code>\\n\"+\n",
       "     \"</div>\"}};\n",
       "\n",
       "  function display_loaded() {\n",
       "    var el = document.getElementById(\"9a5837f3-402a-41df-8d0a-34533428c470\");\n",
       "    if (el != null) {\n",
       "      el.textContent = \"BokehJS is loading...\";\n",
       "    }\n",
       "    if (root.Bokeh !== undefined) {\n",
       "      if (el != null) {\n",
       "        el.textContent = \"BokehJS \" + root.Bokeh.version + \" successfully loaded.\";\n",
       "      }\n",
       "    } else if (Date.now() < root._bokeh_timeout) {\n",
       "      setTimeout(display_loaded, 100)\n",
       "    }\n",
       "  }\n",
       "\n",
       "\n",
       "  function run_callbacks() {\n",
       "    try {\n",
       "      root._bokeh_onload_callbacks.forEach(function(callback) { callback() });\n",
       "    }\n",
       "    finally {\n",
       "      delete root._bokeh_onload_callbacks\n",
       "    }\n",
       "    console.info(\"Bokeh: all callbacks have finished\");\n",
       "  }\n",
       "\n",
       "  function load_libs(js_urls, callback) {\n",
       "    root._bokeh_onload_callbacks.push(callback);\n",
       "    if (root._bokeh_is_loading > 0) {\n",
       "      console.log(\"Bokeh: BokehJS is being loaded, scheduling callback at\", now());\n",
       "      return null;\n",
       "    }\n",
       "    if (js_urls == null || js_urls.length === 0) {\n",
       "      run_callbacks();\n",
       "      return null;\n",
       "    }\n",
       "    console.log(\"Bokeh: BokehJS not loaded, scheduling load and callback at\", now());\n",
       "    root._bokeh_is_loading = js_urls.length;\n",
       "    for (var i = 0; i < js_urls.length; i++) {\n",
       "      var url = js_urls[i];\n",
       "      var s = document.createElement('script');\n",
       "      s.src = url;\n",
       "      s.async = false;\n",
       "      s.onreadystatechange = s.onload = function() {\n",
       "        root._bokeh_is_loading--;\n",
       "        if (root._bokeh_is_loading === 0) {\n",
       "          console.log(\"Bokeh: all BokehJS libraries loaded\");\n",
       "          run_callbacks()\n",
       "        }\n",
       "      };\n",
       "      s.onerror = function() {\n",
       "        console.warn(\"failed to load library \" + url);\n",
       "      };\n",
       "      console.log(\"Bokeh: injecting script tag for BokehJS library: \", url);\n",
       "      document.getElementsByTagName(\"head\")[0].appendChild(s);\n",
       "    }\n",
       "  };var element = document.getElementById(\"9a5837f3-402a-41df-8d0a-34533428c470\");\n",
       "  if (element == null) {\n",
       "    console.log(\"Bokeh: ERROR: autoload.js configured with elementid '9a5837f3-402a-41df-8d0a-34533428c470' but no matching script tag was found. \")\n",
       "    return false;\n",
       "  }\n",
       "\n",
       "  var js_urls = [\"https://cdn.pydata.org/bokeh/release/bokeh-0.12.14.min.js\", \"https://cdn.pydata.org/bokeh/release/bokeh-widgets-0.12.14.min.js\", \"https://cdn.pydata.org/bokeh/release/bokeh-tables-0.12.14.min.js\", \"https://cdn.pydata.org/bokeh/release/bokeh-gl-0.12.14.min.js\"];\n",
       "\n",
       "  var inline_js = [\n",
       "    function(Bokeh) {\n",
       "      Bokeh.set_log_level(\"info\");\n",
       "    },\n",
       "    \n",
       "    function(Bokeh) {\n",
       "      \n",
       "    },\n",
       "    function(Bokeh) {\n",
       "      console.log(\"Bokeh: injecting CSS: https://cdn.pydata.org/bokeh/release/bokeh-0.12.14.min.css\");\n",
       "      Bokeh.embed.inject_css(\"https://cdn.pydata.org/bokeh/release/bokeh-0.12.14.min.css\");\n",
       "      console.log(\"Bokeh: injecting CSS: https://cdn.pydata.org/bokeh/release/bokeh-widgets-0.12.14.min.css\");\n",
       "      Bokeh.embed.inject_css(\"https://cdn.pydata.org/bokeh/release/bokeh-widgets-0.12.14.min.css\");\n",
       "      console.log(\"Bokeh: injecting CSS: https://cdn.pydata.org/bokeh/release/bokeh-tables-0.12.14.min.css\");\n",
       "      Bokeh.embed.inject_css(\"https://cdn.pydata.org/bokeh/release/bokeh-tables-0.12.14.min.css\");\n",
       "    }\n",
       "  ];\n",
       "\n",
       "  function run_inline_js() {\n",
       "    \n",
       "    if ((root.Bokeh !== undefined) || (force === true)) {\n",
       "      for (var i = 0; i < inline_js.length; i++) {\n",
       "        inline_js[i].call(root, root.Bokeh);\n",
       "      }if (force === true) {\n",
       "        display_loaded();\n",
       "      }} else if (Date.now() < root._bokeh_timeout) {\n",
       "      setTimeout(run_inline_js, 100);\n",
       "    } else if (!root._bokeh_failed_load) {\n",
       "      console.log(\"Bokeh: BokehJS failed to load within specified timeout.\");\n",
       "      root._bokeh_failed_load = true;\n",
       "    } else if (force !== true) {\n",
       "      var cell = $(document.getElementById(\"9a5837f3-402a-41df-8d0a-34533428c470\")).parents('.cell').data().cell;\n",
       "      cell.output_area.append_execute_result(NB_LOAD_WARNING)\n",
       "    }\n",
       "\n",
       "  }\n",
       "\n",
       "  if (root._bokeh_is_loading === 0) {\n",
       "    console.log(\"Bokeh: BokehJS loaded, going straight to plotting\");\n",
       "    run_inline_js();\n",
       "  } else {\n",
       "    load_libs(js_urls, function() {\n",
       "      console.log(\"Bokeh: BokehJS plotting callback run at\", now());\n",
       "      run_inline_js();\n",
       "    });\n",
       "  }\n",
       "}(window));"
      ],
      "application/vnd.bokehjs_load.v0+json": "\n(function(root) {\n  function now() {\n    return new Date();\n  }\n\n  var force = true;\n\n  if (typeof (root._bokeh_onload_callbacks) === \"undefined\" || force === true) {\n    root._bokeh_onload_callbacks = [];\n    root._bokeh_is_loading = undefined;\n  }\n\n  \n\n  \n  if (typeof (root._bokeh_timeout) === \"undefined\" || force === true) {\n    root._bokeh_timeout = Date.now() + 5000;\n    root._bokeh_failed_load = false;\n  }\n\n  var NB_LOAD_WARNING = {'data': {'text/html':\n     \"<div style='background-color: #fdd'>\\n\"+\n     \"<p>\\n\"+\n     \"BokehJS does not appear to have successfully loaded. If loading BokehJS from CDN, this \\n\"+\n     \"may be due to a slow or bad network connection. Possible fixes:\\n\"+\n     \"</p>\\n\"+\n     \"<ul>\\n\"+\n     \"<li>re-rerun `output_notebook()` to attempt to load from CDN again, or</li>\\n\"+\n     \"<li>use INLINE resources instead, as so:</li>\\n\"+\n     \"</ul>\\n\"+\n     \"<code>\\n\"+\n     \"from bokeh.resources import INLINE\\n\"+\n     \"output_notebook(resources=INLINE)\\n\"+\n     \"</code>\\n\"+\n     \"</div>\"}};\n\n  function display_loaded() {\n    var el = document.getElementById(\"9a5837f3-402a-41df-8d0a-34533428c470\");\n    if (el != null) {\n      el.textContent = \"BokehJS is loading...\";\n    }\n    if (root.Bokeh !== undefined) {\n      if (el != null) {\n        el.textContent = \"BokehJS \" + root.Bokeh.version + \" successfully loaded.\";\n      }\n    } else if (Date.now() < root._bokeh_timeout) {\n      setTimeout(display_loaded, 100)\n    }\n  }\n\n\n  function run_callbacks() {\n    try {\n      root._bokeh_onload_callbacks.forEach(function(callback) { callback() });\n    }\n    finally {\n      delete root._bokeh_onload_callbacks\n    }\n    console.info(\"Bokeh: all callbacks have finished\");\n  }\n\n  function load_libs(js_urls, callback) {\n    root._bokeh_onload_callbacks.push(callback);\n    if (root._bokeh_is_loading > 0) {\n      console.log(\"Bokeh: BokehJS is being loaded, scheduling callback at\", now());\n      return null;\n    }\n    if (js_urls == null || js_urls.length === 0) {\n      run_callbacks();\n      return null;\n    }\n    console.log(\"Bokeh: BokehJS not loaded, scheduling load and callback at\", now());\n    root._bokeh_is_loading = js_urls.length;\n    for (var i = 0; i < js_urls.length; i++) {\n      var url = js_urls[i];\n      var s = document.createElement('script');\n      s.src = url;\n      s.async = false;\n      s.onreadystatechange = s.onload = function() {\n        root._bokeh_is_loading--;\n        if (root._bokeh_is_loading === 0) {\n          console.log(\"Bokeh: all BokehJS libraries loaded\");\n          run_callbacks()\n        }\n      };\n      s.onerror = function() {\n        console.warn(\"failed to load library \" + url);\n      };\n      console.log(\"Bokeh: injecting script tag for BokehJS library: \", url);\n      document.getElementsByTagName(\"head\")[0].appendChild(s);\n    }\n  };var element = document.getElementById(\"9a5837f3-402a-41df-8d0a-34533428c470\");\n  if (element == null) {\n    console.log(\"Bokeh: ERROR: autoload.js configured with elementid '9a5837f3-402a-41df-8d0a-34533428c470' but no matching script tag was found. \")\n    return false;\n  }\n\n  var js_urls = [\"https://cdn.pydata.org/bokeh/release/bokeh-0.12.14.min.js\", \"https://cdn.pydata.org/bokeh/release/bokeh-widgets-0.12.14.min.js\", \"https://cdn.pydata.org/bokeh/release/bokeh-tables-0.12.14.min.js\", \"https://cdn.pydata.org/bokeh/release/bokeh-gl-0.12.14.min.js\"];\n\n  var inline_js = [\n    function(Bokeh) {\n      Bokeh.set_log_level(\"info\");\n    },\n    \n    function(Bokeh) {\n      \n    },\n    function(Bokeh) {\n      console.log(\"Bokeh: injecting CSS: https://cdn.pydata.org/bokeh/release/bokeh-0.12.14.min.css\");\n      Bokeh.embed.inject_css(\"https://cdn.pydata.org/bokeh/release/bokeh-0.12.14.min.css\");\n      console.log(\"Bokeh: injecting CSS: https://cdn.pydata.org/bokeh/release/bokeh-widgets-0.12.14.min.css\");\n      Bokeh.embed.inject_css(\"https://cdn.pydata.org/bokeh/release/bokeh-widgets-0.12.14.min.css\");\n      console.log(\"Bokeh: injecting CSS: https://cdn.pydata.org/bokeh/release/bokeh-tables-0.12.14.min.css\");\n      Bokeh.embed.inject_css(\"https://cdn.pydata.org/bokeh/release/bokeh-tables-0.12.14.min.css\");\n    }\n  ];\n\n  function run_inline_js() {\n    \n    if ((root.Bokeh !== undefined) || (force === true)) {\n      for (var i = 0; i < inline_js.length; i++) {\n        inline_js[i].call(root, root.Bokeh);\n      }if (force === true) {\n        display_loaded();\n      }} else if (Date.now() < root._bokeh_timeout) {\n      setTimeout(run_inline_js, 100);\n    } else if (!root._bokeh_failed_load) {\n      console.log(\"Bokeh: BokehJS failed to load within specified timeout.\");\n      root._bokeh_failed_load = true;\n    } else if (force !== true) {\n      var cell = $(document.getElementById(\"9a5837f3-402a-41df-8d0a-34533428c470\")).parents('.cell').data().cell;\n      cell.output_area.append_execute_result(NB_LOAD_WARNING)\n    }\n\n  }\n\n  if (root._bokeh_is_loading === 0) {\n    console.log(\"Bokeh: BokehJS loaded, going straight to plotting\");\n    run_inline_js();\n  } else {\n    load_libs(js_urls, function() {\n      console.log(\"Bokeh: BokehJS plotting callback run at\", now());\n      run_inline_js();\n    });\n  }\n}(window));"
     },
     "metadata": {},
     "output_type": "display_data"
    }
   ],
   "source": [
    "output_notebook()"
   ]
  },
  {
   "cell_type": "code",
   "execution_count": 8,
   "metadata": {
    "collapsed": true
   },
   "outputs": [],
   "source": [
    "def fmt_cool(ds_in):\n",
    "    ds = ds_in.copy(deep=True)\n",
    "    if 'igg' in ds.dims:\n",
    "        ds = ds.sel(igg=1)\n",
    "\n",
    "    if 'g' in ds.dims:\n",
    "        ds = ds.sum('g')\n",
    "            \n",
    "    if 'band' in ds.dims:\n",
    "        try:\n",
    "            ds = ds.squeeze('band')\n",
    "        except ValueError:\n",
    "            ds = ds.sum('band')\n",
    "                \n",
    "    return ds['coolrg']\n",
    "\n",
    "\n",
    "def pltdata_cooling_1(ds_cool=None,\n",
    "                      ds_cool_crd=None, ds_cool_wgt=None):\n",
    "    \n",
    "\n",
    "\n",
    "    colors = all_palettes['Set1'][4]\n",
    "    data = [{'label': 'CLIRAD `coolr_bands`',\n",
    "             'srs': fmt_cool(ds_cool),\n",
    "             'line_dash': 'dashed', 'line_width': 5,\n",
    "             'color': colors[0], 'alpha': .6},\n",
    "            {'label': 'CRD',\n",
    "             'srs': fmt_cool(ds_cool_crd),\n",
    "             'line_dash': 'solid', 'line_width': 1.5,\n",
    "             'marker': 'circle', 'marker_size': 5,\n",
    "             'color': colors[2], 'alpha': 1,},\n",
    "            {'label': 'WGT igg=10 wgt_flux=2',\n",
    "             'srs': fmt_cool(ds_cool_wgt),\n",
    "             'line_dash': 'solid', 'line_width': 3,\n",
    "             'marker': 'square', 'marker_size': 5,\n",
    "             'color': colors[3], 'alpha': .6}]\n",
    "    return data\n",
    "\n",
    "\n",
    "def nice_xlims(pltdata=None, prange=None):\n",
    "    \n",
    "    def get_slice(srs):\n",
    "        return srs.sel(pressure=slice(*prange))\n",
    "    \n",
    "    srss = [d['srs'] for d in pltdata]\n",
    "    vmin = min([get_slice(srs).min() for srs in srss])\n",
    "    vmax = max([get_slice(srs).max() for srs in srss])\n",
    "    dv = (vmax - vmin) * .01\n",
    "    return float(vmin - dv), float(vmax + dv)\n",
    "    \n",
    "\n",
    "def plt_cooling_bokeh(pltdata=None):\n",
    "    '''\n",
    "    Plot a list of cooling rate profiles using bokeh.\n",
    "    '''\n",
    "    ymin = 1e-2 \n",
    "    ymax = 1020 \n",
    "        \n",
    "    p1 = figure(title=\"Linear pressure scale\", \n",
    "                plot_width=400)        \n",
    "    xmin, xmax = nice_xlims(pltdata, prange=(50, 1050))\n",
    "    for d in pltdata:\n",
    "        if 'marker' in d:\n",
    "            getattr(p1, d['marker'])(d['srs'].values, \n",
    "                    d['srs'].coords['pressure'].values,\n",
    "                    color=d['color'], alpha=.7)\n",
    "        p1.line(d['srs'].values, \n",
    "                d['srs'].coords['pressure'].values,\n",
    "                color=d['color'], alpha=d['alpha'], \n",
    "                line_width=d['line_width'], line_dash=d['line_dash'])\n",
    "    \n",
    "    p1.y_range = Range1d(ymax, ymin)\n",
    "    p1.yaxis.axis_label = 'pressure [mb]'   \n",
    "    p1.x_range = Range1d(xmin, xmax)\n",
    "    p1.xaxis.axis_label = 'cooling rate [K/day]'\n",
    "            \n",
    "    p2 = figure(title='Log pressure scale', y_axis_type='log',\n",
    "                plot_width=560)\n",
    "    xmin, xmax = nice_xlims(pltdata, prange=(.01, 200))\n",
    "    \n",
    "    rs = []\n",
    "    for d in pltdata:\n",
    "        rd = []\n",
    "        if 'marker' in d:\n",
    "            r_mark = getattr(p2, d['marker'])(d['srs'].values, \n",
    "                        d['srs'].coords['pressure'].values,\n",
    "                        color=d['color'], alpha=.7)\n",
    "            rd.append(r_mark)\n",
    "        r_line = p2.line(d['srs'].values, \n",
    "                    d['srs'].coords['pressure'].values,\n",
    "                    color=d['color'], alpha=d['alpha'], \n",
    "                    line_width=d['line_width'], line_dash=d['line_dash'])\n",
    "        rd.append(r_line)\n",
    "      \n",
    "        rs.append(rd)\n",
    "        \n",
    "    p2.y_range = Range1d(ymax, ymin)  \n",
    "    p2.yaxis.axis_label = 'pressure [mb]'\n",
    "    \n",
    "    p2.x_range = Range1d(xmin, xmax)\n",
    "    p2.xaxis.axis_label = 'cooling rate [K/day]'\n",
    "    \n",
    "    items = [(d['label'], r) for r, d in zip(rs, pltdata)]\n",
    "    legend = Legend(items=items, location=(10, -30))\n",
    "    legend.label_text_font_size = '8pt'\n",
    "    \n",
    "    p2.add_layout(legend, 'right')  \n",
    "    \n",
    "    show(gridplot(p1, p2, ncols=2, plot_height=500))\n",
    "    \n",
    "\n",
    "def script_plt_cooling():\n",
    "    pltdata = pltdata_cooling_1(\n",
    "        ds_cool=DS_COOL,\n",
    "        ds_cool_crd=DS_COOL_CRD,\n",
    "        ds_cool_wgt=DS_COOL_WGT)\n",
    "    plt_cooling_bokeh(pltdata=pltdata)\n",
    "    print('''FIGURE. Cooling rate profiles.''')"
   ]
  },
  {
   "cell_type": "code",
   "execution_count": 9,
   "metadata": {
    "collapsed": true
   },
   "outputs": [],
   "source": [
    "def fmt_flux(ds_in):\n",
    "    ds = ds_in.copy(deep=True)\n",
    "    \n",
    "    for l in ('level', 'layer'):\n",
    "        if l in ds.data_vars:\n",
    "            if len(ds[l].dims) > 1:\n",
    "                surface = {d: 0 for d in ds.dims if d != 'pressure'}\n",
    "                coord_level = ds[l][surface]\n",
    "                ds.coords[l] = ('pressure', coord_level)\n",
    "            else:\n",
    "                ds.coords[l] = ('pressure', ds[l])\n",
    "        \n",
    "    ds = ds.isel(pressure=[0, 23, -1])\n",
    "        \n",
    "    if 'igg' in ds.dims:\n",
    "        ds = ds.sel(igg=[1])\n",
    "        ds = ds.squeeze('igg').drop('igg')\n",
    "    \n",
    "    if 'g' in ds.dims:\n",
    "        ds = ds.sum('g')\n",
    "            \n",
    "    if 'band' in ds.dims:\n",
    "        try:\n",
    "            ds = ds.squeeze('band').drop('band')\n",
    "        except ValueError:\n",
    "            ds = ds.sum('band')\n",
    "                \n",
    "    df = ds.to_dataframe()\n",
    "    df = df.set_index('level', append=True)               \n",
    "    return df\n",
    "\n",
    "\n",
    "def tbdata_flux(ds_flux=None, ds_flux_crd=None, ds_flux_wgt=None):\n",
    "    ilevels = [0, 23, -1]\n",
    "            \n",
    "    benchmark = {'label': 'WGT igg=10 wgt_flux=1',\n",
    "                 'df': fmt_flux(ds_flux_wgt)}\n",
    "    \n",
    "    tbs = [{'label': 'CRD',\n",
    "            'df': fmt_flux(ds_flux_crd)},\n",
    "           {'label': 'CLIRAD',\n",
    "            'df': fmt_flux(ds_flux)}]\n",
    "    \n",
    "    data = {'benchmark': benchmark, 'others': tbs}\n",
    "    return data\n",
    "\n",
    "\n",
    "def tb_flux(tbdata=None):\n",
    "    benchmark = tbdata['benchmark']\n",
    "    others = tbdata['others']\n",
    "    \n",
    "    def show_tb(d=None):\n",
    "        display.display(d['df'])\n",
    "        print('Table.', 'Fluxes.', d['label'])\n",
    "        \n",
    "    def show_tbdiff(d0=None, d=None):\n",
    "        df = d['df']\n",
    "        df.index = d0['df'].index\n",
    "        display.display(df - d0['df'])\n",
    "        print('Table.', 'Fluxes.', \n",
    "              '({}) - ({})'.format(d['label'], d0['label']))\n",
    "        \n",
    "    show_tb(benchmark)\n",
    "    for d in others:\n",
    "        show_tb(d)\n",
    "        \n",
    "    for d in others:\n",
    "        show_tbdiff(d=d, d0=benchmark)\n",
    "        \n",
    "        \n",
    "def script_tb_flux():\n",
    "    data = tbdata_flux(ds_flux=DS_FLUX,\n",
    "                       ds_flux_crd=DS_FLUX_CRD,\n",
    "                       ds_flux_wgt=DS_FLUX_WGT)\n",
    "    tb_flux(tbdata=data)"
   ]
  },
  {
   "cell_type": "code",
   "execution_count": 10,
   "metadata": {
    "collapsed": true
   },
   "outputs": [],
   "source": [
    "def band_map():\n",
    "    '''\n",
    "    Maps spectral bands in lblnew to spectral bands in clirad.\n",
    "    '''\n",
    "    lblnew2clirad = {'1': '1',\n",
    "            '2': '2',\n",
    "            '3a': '3',\n",
    "            '3b': '4',\n",
    "            '3c': '5',\n",
    "            '4': '6', \n",
    "            '5': '7',\n",
    "            '6': '8',\n",
    "            '7': '9', \n",
    "            '8': '10',\n",
    "            '9': '11'}\n",
    "    \n",
    "    clirad2lblnew = {clirad: lblnew \n",
    "                     for lblnew, clirad in lblnew2clirad.items()}\n",
    "    return clirad2lblnew\n",
    "\n",
    "\n",
    "def gasbands():\n",
    "    bmap = band_map()\n",
    "    gases = list(PARAM['molecule'].keys())\n",
    "    \n",
    "    bands = [bmap[str(b)] for b in PARAM['band']]\n",
    "    return list(itertools.product(gases, bands))\n",
    "\n",
    "\n",
    "def print_bestfit_params():\n",
    "    print('Best-fit values for each (gas, band)')\n",
    "    print('------------------------------------')\n",
    "    for gas, band in gasbands():\n",
    "        print('o {} band{}'.format(gas, band))\n",
    "        param = bestfits.kdist_params(molecule=gas, band=band)\n",
    "        for name, value in sorted(param.items()):\n",
    "            print(2 * ' ' + '{} = {}'.format(name, value))\n",
    "\n",
    "        \n",
    "def print_input_param():        \n",
    "    for name, value in PARAM.items():\n",
    "        print('{} = {}'.format(name, value))\n",
    "        \n",
    "        \n",
    "def print_lblnew_param():\n",
    "    for name, value in sorted(PARAM_LBLNEW.items()):\n",
    "        print('{} = {}'.format(name, value))\n"
   ]
  },
  {
   "cell_type": "code",
   "execution_count": 11,
   "metadata": {
    "collapsed": true,
    "scrolled": false
   },
   "outputs": [],
   "source": [
    "def show_html(s):\n",
    "    display.display(display.HTML(s))\n",
    "\n",
    "    \n",
    "def show_markdown(s):\n",
    "    display.display(display.Markdown(s))\n",
    "\n",
    "    \n",
    "def script():\n",
    "    \n",
    "    title = '### CLIRAD-LW'\n",
    "    s_input = 'Input Parameters'\n",
    "    s_lblnew_param = 'LBLNEW case compaired against'\n",
    "    s_bestfits = 'Best-fit Parameters'\n",
    "    s_plt_cooling = 'Cooling Rate Profiles'\n",
    "    s_tb_flux = 'Flux Comparison'\n",
    "    \n",
    "    # title\n",
    "    show_markdown('### CLIRAD-LW')\n",
    "    \n",
    "    # TOC\n",
    "    show_markdown('### Table of Contents')\n",
    "    show_html(climahtml.getHTML_hrefanchor(s_input))\n",
    "    show_html(climahtml.getHTML_hrefanchor(s_lblnew_param))\n",
    "    show_html(climahtml.getHTML_hrefanchor(s_plt_cooling))\n",
    "    show_html(climahtml.getHTML_hrefanchor(s_tb_flux))\n",
    "    show_html(climahtml.getHTML_hrefanchor(s_bestfits))\n",
    "    \n",
    "    # Input parameters\n",
    "    show_html(climahtml.getHTML_idanchor(s_input))\n",
    "    show_markdown(climahtml.getMarkdown_sectitle(s_input))\n",
    "    print_input_param()\n",
    "    \n",
    "    # LBLNEW parameters \n",
    "    show_html(climahtml.getHTML_idanchor(s_lblnew_param))\n",
    "    show_markdown(climahtml.getMarkdown_sectitle(s_lblnew_param))\n",
    "    print_lblnew_param()\n",
    "    \n",
    "    # Cooling rate profiles\n",
    "    show_html(climahtml.getHTML_idanchor(s_plt_cooling))\n",
    "    show_markdown(climahtml.getMarkdown_sectitle(s_plt_cooling))\n",
    "    script_plt_cooling()\n",
    "    \n",
    "    # Flux comparison\n",
    "    show_html(climahtml.getHTML_idanchor(s_tb_flux))\n",
    "    show_markdown(climahtml.getMarkdown_sectitle(s_tb_flux))\n",
    "    script_tb_flux()\n",
    "    \n",
    "    # Best-fit values\n",
    "    show_html(climahtml.getHTML_idanchor(s_bestfits))\n",
    "    show_markdown(climahtml.getMarkdown_sectitle(s_bestfits))\n",
    "    print_bestfit_params()\n",
    "   \n",
    "    "
   ]
  },
  {
   "cell_type": "code",
   "execution_count": 12,
   "metadata": {
    "collapsed": true,
    "scrolled": false
   },
   "outputs": [
    {
     "data": {
      "text/markdown": [
       "### CLIRAD-LW"
      ],
      "text/plain": [
       "<IPython.core.display.Markdown object>"
      ]
     },
     "metadata": {},
     "output_type": "display_data"
    },
    {
     "data": {
      "text/markdown": [
       "### Table of Contents"
      ],
      "text/plain": [
       "<IPython.core.display.Markdown object>"
      ]
     },
     "metadata": {},
     "output_type": "display_data"
    },
    {
     "data": {
      "text/html": [
       "<a href=\"#Input_Parameters\">Input Parameters</a>"
      ],
      "text/plain": [
       "<IPython.core.display.HTML object>"
      ]
     },
     "metadata": {},
     "output_type": "display_data"
    },
    {
     "data": {
      "text/html": [
       "<a href=\"#LBLNEW_case_compaired_against\">LBLNEW case compaired against</a>"
      ],
      "text/plain": [
       "<IPython.core.display.HTML object>"
      ]
     },
     "metadata": {},
     "output_type": "display_data"
    },
    {
     "data": {
      "text/html": [
       "<a href=\"#Cooling_Rate_Profiles\">Cooling Rate Profiles</a>"
      ],
      "text/plain": [
       "<IPython.core.display.HTML object>"
      ]
     },
     "metadata": {},
     "output_type": "display_data"
    },
    {
     "data": {
      "text/html": [
       "<a href=\"#Flux_Comparison\">Flux Comparison</a>"
      ],
      "text/plain": [
       "<IPython.core.display.HTML object>"
      ]
     },
     "metadata": {},
     "output_type": "display_data"
    },
    {
     "data": {
      "text/html": [
       "<a href=\"#Best-fit_Parameters\">Best-fit Parameters</a>"
      ],
      "text/plain": [
       "<IPython.core.display.HTML object>"
      ]
     },
     "metadata": {},
     "output_type": "display_data"
    },
    {
     "data": {
      "text/html": [
       "<a id=\"Input_Parameters\"></a>"
      ],
      "text/plain": [
       "<IPython.core.display.HTML object>"
      ]
     },
     "metadata": {},
     "output_type": "display_data"
    },
    {
     "data": {
      "text/markdown": [
       "# Input Parameters"
      ],
      "text/plain": [
       "<IPython.core.display.Markdown object>"
      ]
     },
     "metadata": {},
     "output_type": "display_data"
    },
    {
     "name": "stdout",
     "output_type": "stream",
     "text": [
      "atmpro = trp\n",
      "band = [3]\n",
      "commitnumber = 9a64c27\n",
      "molecule = {'h2o': 'atmpro'}\n",
      "tsfc = 300\n"
     ]
    },
    {
     "data": {
      "text/html": [
       "<a id=\"LBLNEW_case_compaired_against\"></a>"
      ],
      "text/plain": [
       "<IPython.core.display.HTML object>"
      ]
     },
     "metadata": {},
     "output_type": "display_data"
    },
    {
     "data": {
      "text/markdown": [
       "# LBLNEW case compaired against"
      ],
      "text/plain": [
       "<IPython.core.display.Markdown object>"
      ]
     },
     "metadata": {},
     "output_type": "display_data"
    },
    {
     "name": "stdout",
     "output_type": "stream",
     "text": [
      "atmpro = trp\n",
      "band = 3a\n",
      "commitnumber = 2bd1f75\n",
      "conc = None\n",
      "dv = 0.01\n",
      "klin = 0\n",
      "molecule = h2o\n",
      "ng_adju = [0, 0]\n",
      "ng_refs = [2, 6]\n",
      "nv = 100\n",
      "option_compute_btable = 0\n",
      "option_compute_ktable = 0\n",
      "option_wgt_flux = 1\n",
      "option_wgt_k = 1\n",
      "ref_pts = [(10, 250), (600, 250)]\n",
      "tsfc = 300\n",
      "vmax = 620\n",
      "vmin = 540\n",
      "w_diffuse = [(1.9, 1.7), (1.4, 1.4, 1.4, 1.55, 1.6, 1.66)]\n",
      "wgt = [(0.7, 0.7), (0.7, 0.5, 0.5, 0.5, 0.5, 0.5)]\n"
     ]
    },
    {
     "data": {
      "text/html": [
       "<a id=\"Cooling_Rate_Profiles\"></a>"
      ],
      "text/plain": [
       "<IPython.core.display.HTML object>"
      ]
     },
     "metadata": {},
     "output_type": "display_data"
    },
    {
     "data": {
      "text/markdown": [
       "# Cooling Rate Profiles"
      ],
      "text/plain": [
       "<IPython.core.display.Markdown object>"
      ]
     },
     "metadata": {},
     "output_type": "display_data"
    },
    {
     "data": {
      "text/html": [
       "\n",
       "<div class=\"bk-root\">\n",
       "    <div class=\"bk-plotdiv\" id=\"faa6d5e6-5092-4080-be2e-ce5b42d6fb19\"></div>\n",
       "</div>"
      ]
     },
     "metadata": {},
     "output_type": "display_data"
    },
    {
     "data": {
      "application/javascript": [
       "(function(root) {\n",
       "  function embed_document(root) {\n",
       "    \n",
       "  var docs_json = {\"2ea33e86-946a-4d26-b984-5e239f28f567\":{\"roots\":{\"references\":[{\"attributes\":{\"source\":{\"id\":\"55123758-46d8-4994-8296-9bc9770c654f\",\"type\":\"ColumnDataSource\"}},\"id\":\"625bcf8c-8cec-4076-bcbf-9a06bc188142\",\"type\":\"CDSView\"},{\"attributes\":{\"ticker\":null},\"id\":\"d03516f5-7003-4da6-9b93-f41882ebd50b\",\"type\":\"LogTickFormatter\"},{\"attributes\":{\"data_source\":{\"id\":\"9a798b7b-2666-4130-b270-c3e6bba09c4e\",\"type\":\"ColumnDataSource\"},\"glyph\":{\"id\":\"97fd5d76-623a-45de-9b6c-23234b26f379\",\"type\":\"Line\"},\"hover_glyph\":null,\"muted_glyph\":null,\"nonselection_glyph\":{\"id\":\"e6d201cc-689f-46e2-bbe8-7ea3c330b514\",\"type\":\"Line\"},\"selection_glyph\":null,\"view\":{\"id\":\"250d58c7-0544-4391-9def-61fd2f05483c\",\"type\":\"CDSView\"}},\"id\":\"290b4638-7340-41e4-9e32-ff6819288530\",\"type\":\"GlyphRenderer\"},{\"attributes\":{\"fill_alpha\":{\"value\":0.7},\"fill_color\":{\"value\":\"#984ea3\"},\"line_alpha\":{\"value\":0.7},\"line_color\":{\"value\":\"#984ea3\"},\"x\":{\"field\":\"x\"},\"y\":{\"field\":\"y\"}},\"id\":\"8330a6e6-b4ce-4544-ba3e-e77762948223\",\"type\":\"Square\"},{\"attributes\":{},\"id\":\"3dd41354-0160-42da-8a81-30d0aa424eb5\",\"type\":\"BasicTickFormatter\"},{\"attributes\":{\"callback\":null,\"column_names\":[\"x\",\"y\"],\"data\":{\"x\":{\"__ndarray__\":\"TCk7HAF3Uj94nccPdCdTP8uvv82ylFQ/YiCOo0b7VT/8IuS49YFXP8zHd1/BE1k/hBj9LtWwWj/3XCtIq1lcPzd5nFlVDl4/SLMcemrNXz8BeOLcMstgP5R7ce6PuGE/vHQGcfmtYj8/ERxZq+pjP05aME+MfGg/6apV+CzIcT8HjINzObl5P/Ycg7Li84E/X9Tdn75DiD/3Ni3XUv+PP5KNl4/krZQ/L9E3NtSrmT+23bWYYDebP7yNABpE1pg/Hwjm74w+lT8lh6LOaA2RPwEdDQeVk4o/QSKsclxVhD8w/wSXE29+P8kRBj20JnY/NVOJAIUtbz+15uSNvhNlP7q7N0vIX1s/881i2mSoUD9bF5pEjFE4P++fsHmPBCm/VNcuM0GyO7/4A4gWV3Ivv4J2OuLSSDM/sKqR4hBeUT/tTv/q0tpmP9DGPmgqJ4I/n2fK4E8FlT8DVS+NuRujP7SwptUxPq0/8SX5kI1OtD8HlcpLtay6P2md1WrpZ8A/xKpKZ31vwj8BiJBmwv/EP6oyIuqgQcg/YQLQYj4HzD/95AwD5/vPP1kji7AF79E/jmGhYXDl0z+sZG6OleLVPx/TsSvX5Nc/pcXd6Jva2T8QnP4JjqDbP/uQRlf4Kt0/uHhL32Jn3j9oTT4u10DfP3KuxAXlmd8/rb6FsIqT4D8rswaWnHHgP4wzfdk2Wd8/EZ1KfncI3T/LeTMXd27ZPzL4LGtSMtY/3+r950Sa0z92S8Gz13vRP3gSpzdKmM8/Zk/iczUqzT+oqlqzzR7MP2fQ1fWpmdA/\",\"dtype\":\"float64\",\"shape\":[75]},\"y\":{\"__ndarray__\":\"GhExyth1ND/Sv8nbtpRIP2vylNV0PVE/aTum7souWD/At0SJ8fVgPw3Iuahxymc/MSNhhJWvcD/bTfBN02d3P2zb5nxnaoA/CD5h5MAGhz8NmeH1TyaQP+zrCsc9p5Y/LbKd76fGnz/bLW5ISEmmPww9YvTcQq8/JV2OstnstT8Er5Y7M8G+P0c+r3jqkcU/5h99k6ZBzj88bCIzFzjVP4enV8oyxN0//yH99nXg5D8qOpLLf0jtP5kqGJXUifQ/c9cS8kHP/D+/DpwzojQEQIEmwoanVwxA4lgXt9HgE0BSSZ2AJuIbQAMJih9jjiNA5q4l5INuK0AwTKYKRj0zQNv5fmq8/DpAaCJseHrtQkB/+zpwzoxKQM3MzMzMeFJAZmZmZmZqWEAAAAAAAFxeQM3MzMzMJmJAmpmZmZkfZUBmZmZmZhhoQDMzMzMzEWtAAAAAAAAKbkBmZmZmZoFwQM3MzMzM/XFAMzMzMzN6c0CamZmZmfZ0QAAAAAAAc3ZAZmZmZmbvd0DNzMzMzGt5QDMzMzMz6HpAmpmZmZlkfEAAAAAAAOF9QGZmZmZmXX9AZmZmZuZsgECamZmZGSuBQM3MzMxM6YFAAAAAAICngkAzMzMzs2WDQGZmZmbmI4RAmpmZmRnihEDNzMzMTKCFQAAAAACAXoZAMzMzM7Mch0BmZmZm5tqHQJqZmZkZmYhAzczMzExXiUAAAAAAgBWKQDMzMzOz04pAZmZmZuaRi0CamZmZGVCMQM3MzMxMDo1AAAAAAIDMjUAzMzMzs4qOQGZmZmbmSI9A\",\"dtype\":\"float64\",\"shape\":[75]}}},\"id\":\"cf0c7cf7-872e-4a69-b955-e42823e2b709\",\"type\":\"ColumnDataSource\"},{\"attributes\":{\"fill_alpha\":{\"value\":0.7},\"fill_color\":{\"value\":\"#4daf4a\"},\"line_alpha\":{\"value\":0.7},\"line_color\":{\"value\":\"#4daf4a\"},\"x\":{\"field\":\"x\"},\"y\":{\"field\":\"y\"}},\"id\":\"8bdcb66d-ceed-425a-bf89-df58c97f35da\",\"type\":\"Circle\"},{\"attributes\":{\"data_source\":{\"id\":\"cd6fb5f0-1e7a-4d75-b497-859169caf3eb\",\"type\":\"ColumnDataSource\"},\"glyph\":{\"id\":\"8bdcb66d-ceed-425a-bf89-df58c97f35da\",\"type\":\"Circle\"},\"hover_glyph\":null,\"muted_glyph\":null,\"nonselection_glyph\":{\"id\":\"a6314153-2316-49e4-b25f-2285450bf49f\",\"type\":\"Circle\"},\"selection_glyph\":null,\"view\":{\"id\":\"4408ed0c-cacf-481b-8e69-be46f0aaf18f\",\"type\":\"CDSView\"}},\"id\":\"89760495-e938-4157-9d6c-f4c668f08307\",\"type\":\"GlyphRenderer\"},{\"attributes\":{\"callback\":null,\"column_names\":[\"x\",\"y\"],\"data\":{\"x\":{\"__ndarray__\":\"T13RvDW0Qz/BXp+L4j5FP9BIl3qrXUg/hl/oanG8Sz9ezodb2DpPP/XSRaioalE/Wu5QPWdFUz+k+BO19i5VP8vdrN+aJFc/cJFWGD0gWT9eTN64OC5bP3eULCLoOl0/iOSCOLG1Xj/Dwdrn3KVgP/ePZiRypWU/YeuZr2AMcT8VWqegUzZ6P3ENbXFm44I/Nd4t+zv8iT/XAGg+LkSRP7sKWXi/U5Y/0pCO/tmHmz/O3nyXEHucPxjrDG2v7pg/8YWyuEtXlD8C4J1R+g+PP8I47WacP4c/Nj8xeyh0gT/V4IzJemR6Py9R4I3jCHQ/zz/CM884bj+st3sxg1VmP5bB8hKl/l8/ilFwZcuhVT/oIUdPtPpDP0O5mShKdA2/C0SmTi9rN7+vbdvbsjwov4E2LOQOtjg/gHViONpWUz8PbXf7ondoP+Qs3mN/zYI/KKDDW2sYlT9p9KqbedyiPygRsycZ6qw/2mKvXuIbtD/rME987066P98PiYxYVcA/W1W8sofNwj8ze4/pv73FP+MVyrpmD8k/IjIPDUm1zD8+vABeE1DQP2SYj3slVtI/clAld5Zo1D+6wnlA8nHWP2+E4hrhZdg/A2VsS5E62j8buyPn7d3bP31R7ZlGT90/Jxtqb0t/3j9D1Z5I5kffPy2f/hYRg98/ET6M94Bs4D/b9uIwPSbgP0UhVVbLhN4/MSfkWh8c3D9VnZtX8Z3YP8f/FeBYo9U/YkSqQftF0z+CIeUGx1XRP7i4W8yuf88/he4OAIcWzT8J/MDZ1uTLP2vobvDoc9A/\",\"dtype\":\"float64\",\"shape\":[75]},\"y\":{\"__ndarray__\":\"GhExyth1ND/Sv8nbtpRIP2vylNV0PVE/aTum7souWD/At0SJ8fVgPw3Iuahxymc/MSNhhJWvcD/bTfBN02d3P2zb5nxnaoA/CD5h5MAGhz8NmeH1TyaQP+zrCsc9p5Y/LbKd76fGnz/bLW5ISEmmPww9YvTcQq8/JV2OstnstT8Er5Y7M8G+P0c+r3jqkcU/5h99k6ZBzj88bCIzFzjVP4enV8oyxN0//yH99nXg5D8qOpLLf0jtP5kqGJXUifQ/c9cS8kHP/D+/DpwzojQEQIEmwoanVwxA4lgXt9HgE0BSSZ2AJuIbQAMJih9jjiNA5q4l5INuK0AwTKYKRj0zQNv5fmq8/DpAaCJseHrtQkB/+zpwzoxKQM3MzMzMeFJAZmZmZmZqWEAAAAAAAFxeQM3MzMzMJmJAmpmZmZkfZUBmZmZmZhhoQDMzMzMzEWtAAAAAAAAKbkBmZmZmZoFwQM3MzMzM/XFAMzMzMzN6c0CamZmZmfZ0QAAAAAAAc3ZAZmZmZmbvd0DNzMzMzGt5QDMzMzMz6HpAmpmZmZlkfEAAAAAAAOF9QGZmZmZmXX9AZmZmZuZsgECamZmZGSuBQM3MzMxM6YFAAAAAAICngkAzMzMzs2WDQGZmZmbmI4RAmpmZmRnihEDNzMzMTKCFQAAAAACAXoZAMzMzM7Mch0BmZmZm5tqHQJqZmZkZmYhAzczMzExXiUAAAAAAgBWKQDMzMzOz04pAZmZmZuaRi0CamZmZGVCMQM3MzMxMDo1AAAAAAIDMjUAzMzMzs4qOQGZmZmbmSI9A\",\"dtype\":\"float64\",\"shape\":[75]}}},\"id\":\"3d2c484c-e1ff-42c2-8d2d-9b05a0ac5153\",\"type\":\"ColumnDataSource\"},{\"attributes\":{\"data_source\":{\"id\":\"5b4dcf92-9877-432e-ac5f-c8ee485bbdb3\",\"type\":\"ColumnDataSource\"},\"glyph\":{\"id\":\"7abdf876-f475-4e12-b3f3-16dd08202a12\",\"type\":\"Line\"},\"hover_glyph\":null,\"muted_glyph\":null,\"nonselection_glyph\":{\"id\":\"dffabd29-2ea2-4d6a-b456-0f6992ee7d93\",\"type\":\"Line\"},\"selection_glyph\":null,\"view\":{\"id\":\"02ef7ee9-3126-4fbd-bc9a-50437c066c02\",\"type\":\"CDSView\"}},\"id\":\"2b667428-d68b-441f-93f2-10633d74f9da\",\"type\":\"GlyphRenderer\"},{\"attributes\":{\"callback\":null,\"column_names\":[\"x\",\"y\"],\"data\":{\"x\":{\"__ndarray__\":\"T13RvDW0Qz/BXp+L4j5FP9BIl3qrXUg/hl/oanG8Sz9ezodb2DpPP/XSRaioalE/Wu5QPWdFUz+k+BO19i5VP8vdrN+aJFc/cJFWGD0gWT9eTN64OC5bP3eULCLoOl0/iOSCOLG1Xj/Dwdrn3KVgP/ePZiRypWU/YeuZr2AMcT8VWqegUzZ6P3ENbXFm44I/Nd4t+zv8iT/XAGg+LkSRP7sKWXi/U5Y/0pCO/tmHmz/O3nyXEHucPxjrDG2v7pg/8YWyuEtXlD8C4J1R+g+PP8I47WacP4c/Nj8xeyh0gT/V4IzJemR6Py9R4I3jCHQ/zz/CM884bj+st3sxg1VmP5bB8hKl/l8/ilFwZcuhVT/oIUdPtPpDP0O5mShKdA2/C0SmTi9rN7+vbdvbsjwov4E2LOQOtjg/gHViONpWUz8PbXf7ondoP+Qs3mN/zYI/KKDDW2sYlT9p9KqbedyiPygRsycZ6qw/2mKvXuIbtD/rME987066P98PiYxYVcA/W1W8sofNwj8ze4/pv73FP+MVyrpmD8k/IjIPDUm1zD8+vABeE1DQP2SYj3slVtI/clAld5Zo1D+6wnlA8nHWP2+E4hrhZdg/A2VsS5E62j8buyPn7d3bP31R7ZlGT90/Jxtqb0t/3j9D1Z5I5kffPy2f/hYRg98/ET6M94Bs4D/b9uIwPSbgP0UhVVbLhN4/MSfkWh8c3D9VnZtX8Z3YP8f/FeBYo9U/YkSqQftF0z+CIeUGx1XRP7i4W8yuf88/he4OAIcWzT8J/MDZ1uTLP2vobvDoc9A/\",\"dtype\":\"float64\",\"shape\":[75]},\"y\":{\"__ndarray__\":\"GhExyth1ND/Sv8nbtpRIP2vylNV0PVE/aTum7souWD/At0SJ8fVgPw3Iuahxymc/MSNhhJWvcD/bTfBN02d3P2zb5nxnaoA/CD5h5MAGhz8NmeH1TyaQP+zrCsc9p5Y/LbKd76fGnz/bLW5ISEmmPww9YvTcQq8/JV2OstnstT8Er5Y7M8G+P0c+r3jqkcU/5h99k6ZBzj88bCIzFzjVP4enV8oyxN0//yH99nXg5D8qOpLLf0jtP5kqGJXUifQ/c9cS8kHP/D+/DpwzojQEQIEmwoanVwxA4lgXt9HgE0BSSZ2AJuIbQAMJih9jjiNA5q4l5INuK0AwTKYKRj0zQNv5fmq8/DpAaCJseHrtQkB/+zpwzoxKQM3MzMzMeFJAZmZmZmZqWEAAAAAAAFxeQM3MzMzMJmJAmpmZmZkfZUBmZmZmZhhoQDMzMzMzEWtAAAAAAAAKbkBmZmZmZoFwQM3MzMzM/XFAMzMzMzN6c0CamZmZmfZ0QAAAAAAAc3ZAZmZmZmbvd0DNzMzMzGt5QDMzMzMz6HpAmpmZmZlkfEAAAAAAAOF9QGZmZmZmXX9AZmZmZuZsgECamZmZGSuBQM3MzMxM6YFAAAAAAICngkAzMzMzs2WDQGZmZmbmI4RAmpmZmRnihEDNzMzMTKCFQAAAAACAXoZAMzMzM7Mch0BmZmZm5tqHQJqZmZkZmYhAzczMzExXiUAAAAAAgBWKQDMzMzOz04pAZmZmZuaRi0CamZmZGVCMQM3MzMxMDo1AAAAAAIDMjUAzMzMzs4qOQGZmZmbmSI9A\",\"dtype\":\"float64\",\"shape\":[75]}}},\"id\":\"cd6fb5f0-1e7a-4d75-b497-859169caf3eb\",\"type\":\"ColumnDataSource\"},{\"attributes\":{\"fill_alpha\":{\"value\":0.1},\"fill_color\":{\"value\":\"#1f77b4\"},\"line_alpha\":{\"value\":0.1},\"line_color\":{\"value\":\"#1f77b4\"},\"x\":{\"field\":\"x\"},\"y\":{\"field\":\"y\"}},\"id\":\"a6314153-2316-49e4-b25f-2285450bf49f\",\"type\":\"Circle\"},{\"attributes\":{\"source\":{\"id\":\"cd6fb5f0-1e7a-4d75-b497-859169caf3eb\",\"type\":\"ColumnDataSource\"}},\"id\":\"4408ed0c-cacf-481b-8e69-be46f0aaf18f\",\"type\":\"CDSView\"},{\"attributes\":{\"line_color\":\"#4daf4a\",\"line_width\":1.5,\"x\":{\"field\":\"x\"},\"y\":{\"field\":\"y\"}},\"id\":\"fc77fbca-2efb-4cfc-858b-a924d89b2015\",\"type\":\"Line\"},{\"attributes\":{\"callback\":null,\"column_names\":[\"x\",\"y\"],\"data\":{\"x\":{\"__ndarray__\":\"TCk7HAF3Uj94nccPdCdTP8uvv82ylFQ/YiCOo0b7VT/8IuS49YFXP8zHd1/BE1k/hBj9LtWwWj/3XCtIq1lcPzd5nFlVDl4/SLMcemrNXz8BeOLcMstgP5R7ce6PuGE/vHQGcfmtYj8/ERxZq+pjP05aME+MfGg/6apV+CzIcT8HjINzObl5P/Ycg7Li84E/X9Tdn75DiD/3Ni3XUv+PP5KNl4/krZQ/L9E3NtSrmT+23bWYYDebP7yNABpE1pg/Hwjm74w+lT8lh6LOaA2RPwEdDQeVk4o/QSKsclxVhD8w/wSXE29+P8kRBj20JnY/NVOJAIUtbz+15uSNvhNlP7q7N0vIX1s/881i2mSoUD9bF5pEjFE4P++fsHmPBCm/VNcuM0GyO7/4A4gWV3Ivv4J2OuLSSDM/sKqR4hBeUT/tTv/q0tpmP9DGPmgqJ4I/n2fK4E8FlT8DVS+NuRujP7SwptUxPq0/8SX5kI1OtD8HlcpLtay6P2md1WrpZ8A/xKpKZ31vwj8BiJBmwv/EP6oyIuqgQcg/YQLQYj4HzD/95AwD5/vPP1kji7AF79E/jmGhYXDl0z+sZG6OleLVPx/TsSvX5Nc/pcXd6Jva2T8QnP4JjqDbP/uQRlf4Kt0/uHhL32Jn3j9oTT4u10DfP3KuxAXlmd8/rb6FsIqT4D8rswaWnHHgP4wzfdk2Wd8/EZ1KfncI3T/LeTMXd27ZPzL4LGtSMtY/3+r950Sa0z92S8Gz13vRP3gSpzdKmM8/Zk/iczUqzT+oqlqzzR7MP2fQ1fWpmdA/\",\"dtype\":\"float64\",\"shape\":[75]},\"y\":{\"__ndarray__\":\"GhExyth1ND/Sv8nbtpRIP2vylNV0PVE/aTum7souWD/At0SJ8fVgPw3Iuahxymc/MSNhhJWvcD/bTfBN02d3P2zb5nxnaoA/CD5h5MAGhz8NmeH1TyaQP+zrCsc9p5Y/LbKd76fGnz/bLW5ISEmmPww9YvTcQq8/JV2OstnstT8Er5Y7M8G+P0c+r3jqkcU/5h99k6ZBzj88bCIzFzjVP4enV8oyxN0//yH99nXg5D8qOpLLf0jtP5kqGJXUifQ/c9cS8kHP/D+/DpwzojQEQIEmwoanVwxA4lgXt9HgE0BSSZ2AJuIbQAMJih9jjiNA5q4l5INuK0AwTKYKRj0zQNv5fmq8/DpAaCJseHrtQkB/+zpwzoxKQM3MzMzMeFJAZmZmZmZqWEAAAAAAAFxeQM3MzMzMJmJAmpmZmZkfZUBmZmZmZhhoQDMzMzMzEWtAAAAAAAAKbkBmZmZmZoFwQM3MzMzM/XFAMzMzMzN6c0CamZmZmfZ0QAAAAAAAc3ZAZmZmZmbvd0DNzMzMzGt5QDMzMzMz6HpAmpmZmZlkfEAAAAAAAOF9QGZmZmZmXX9AZmZmZuZsgECamZmZGSuBQM3MzMxM6YFAAAAAAICngkAzMzMzs2WDQGZmZmbmI4RAmpmZmRnihEDNzMzMTKCFQAAAAACAXoZAMzMzM7Mch0BmZmZm5tqHQJqZmZkZmYhAzczMzExXiUAAAAAAgBWKQDMzMzOz04pAZmZmZuaRi0CamZmZGVCMQM3MzMxMDo1AAAAAAIDMjUAzMzMzs4qOQGZmZmbmSI9A\",\"dtype\":\"float64\",\"shape\":[75]}}},\"id\":\"c557cefe-491b-4ba6-bba0-47a1ef12a429\",\"type\":\"ColumnDataSource\"},{\"attributes\":{\"line_alpha\":0.1,\"line_color\":\"#1f77b4\",\"line_width\":1.5,\"x\":{\"field\":\"x\"},\"y\":{\"field\":\"y\"}},\"id\":\"eb01d675-9407-4483-8d45-e1c55dcfb610\",\"type\":\"Line\"},{\"attributes\":{\"data_source\":{\"id\":\"3d2c484c-e1ff-42c2-8d2d-9b05a0ac5153\",\"type\":\"ColumnDataSource\"},\"glyph\":{\"id\":\"fc77fbca-2efb-4cfc-858b-a924d89b2015\",\"type\":\"Line\"},\"hover_glyph\":null,\"muted_glyph\":null,\"nonselection_glyph\":{\"id\":\"eb01d675-9407-4483-8d45-e1c55dcfb610\",\"type\":\"Line\"},\"selection_glyph\":null,\"view\":{\"id\":\"1c9db604-f079-4fb9-bf7b-4e86f6c59b80\",\"type\":\"CDSView\"}},\"id\":\"7dc8ea5e-b048-4d8b-a31a-8c7e4a9a6ce3\",\"type\":\"GlyphRenderer\"},{\"attributes\":{\"source\":{\"id\":\"5b4dcf92-9877-432e-ac5f-c8ee485bbdb3\",\"type\":\"ColumnDataSource\"}},\"id\":\"02ef7ee9-3126-4fbd-bc9a-50437c066c02\",\"type\":\"CDSView\"},{\"attributes\":{\"source\":{\"id\":\"3d2c484c-e1ff-42c2-8d2d-9b05a0ac5153\",\"type\":\"ColumnDataSource\"}},\"id\":\"1c9db604-f079-4fb9-bf7b-4e86f6c59b80\",\"type\":\"CDSView\"},{\"attributes\":{\"fill_alpha\":{\"value\":0.7},\"fill_color\":{\"value\":\"#984ea3\"},\"line_alpha\":{\"value\":0.7},\"line_color\":{\"value\":\"#984ea3\"},\"x\":{\"field\":\"x\"},\"y\":{\"field\":\"y\"}},\"id\":\"ef244124-b824-4744-bbb2-6707aa417ae5\",\"type\":\"Square\"},{\"attributes\":{\"callback\":null,\"end\":0.028113047648,\"start\":-0.002470902448},\"id\":\"5409ac44-a503-4ec1-9e48-f19df2890572\",\"type\":\"Range1d\"},{\"attributes\":{\"source\":{\"id\":\"cf0c7cf7-872e-4a69-b955-e42823e2b709\",\"type\":\"ColumnDataSource\"}},\"id\":\"d58fac89-7356-4426-b27d-7104c9764ef0\",\"type\":\"CDSView\"},{\"attributes\":{\"line_alpha\":0.6,\"line_color\":\"#984ea3\",\"line_width\":3,\"x\":{\"field\":\"x\"},\"y\":{\"field\":\"y\"}},\"id\":\"80286479-e323-46ae-8ea8-4e30c8f4eba9\",\"type\":\"Line\"},{\"attributes\":{\"fill_alpha\":{\"value\":0.1},\"fill_color\":{\"value\":\"#1f77b4\"},\"line_alpha\":{\"value\":0.1},\"line_color\":{\"value\":\"#1f77b4\"},\"x\":{\"field\":\"x\"},\"y\":{\"field\":\"y\"}},\"id\":\"6f165724-8f3d-4729-8455-fdcccd1fc0a1\",\"type\":\"Square\"},{\"attributes\":{\"data_source\":{\"id\":\"cf0c7cf7-872e-4a69-b955-e42823e2b709\",\"type\":\"ColumnDataSource\"},\"glyph\":{\"id\":\"ef244124-b824-4744-bbb2-6707aa417ae5\",\"type\":\"Square\"},\"hover_glyph\":null,\"muted_glyph\":null,\"nonselection_glyph\":{\"id\":\"6f165724-8f3d-4729-8455-fdcccd1fc0a1\",\"type\":\"Square\"},\"selection_glyph\":null,\"view\":{\"id\":\"d58fac89-7356-4426-b27d-7104c9764ef0\",\"type\":\"CDSView\"}},\"id\":\"14edad6d-c72a-4a0d-8d08-f89f6820da5c\",\"type\":\"GlyphRenderer\"},{\"attributes\":{\"callback\":null,\"column_names\":[\"x\",\"y\"],\"data\":{\"x\":{\"__ndarray__\":\"AAAAAAAAAAAAAAAAAAAAAAAAAAAAAAAAfji63dqooD8AAAAAAAAAAAAAAAAAAAAAAAAAAAAAAADGndaerjaBvzZwiv0Ti3i/HtNCYUp/gT+eYoX+8bWCPyFO1toKyWG/Q08ILcRbWb9H/zvBBhRyP2VKhR/+VGM/hx5FXlVEeT9Dc8ehkdZ7PxyF6r7RgoE/UgNjAz1iiT+rXrOZmVKQP8eWGN3XB5U/tGIdZuYEmj81euT4aSicP5/g4cT3yJk/DN+kZJd6lj/kRBl8Kj+SP3m0ZJpY/Iw/sNL7y5BYhj8VYwlBCLWAP2X9tV9vAHg/dWiFn4AxcD//4JQZtZJkP1CjHMUjvFc/whFX/i29Rz/ARDGvj/obPwzISVssHze/IcZ2Po1JQL9cHkXeD+E1v51J/P8lzho/30GCYYkqRz+q0TY98sdgP/yXCoPQh3w/ki8257+LkT8gAksEY6qgP7/oCYPm/qk/Xcem/yZAsj8aHs0hQaK4P4cf1vqm2b4/R/Gewa4/wT/77WeIlZfDP47gb0lIA8c/xQu3ts8uyz9Kq+fFBXfPP7acrpsQwtE/WLW9QL3X0z8sne7AKQHWPx9neaIUQtg/nAKyOuZ62j+YmsrDvnTcP99WF0N7Ld4/mubj+16a3z/MywY+q1HgP6olXwEznOA/54dT3nWT4T9orleB75DhP7ireJ+6xOA/gxyMv4rf3j9Sv+LbgZvaP8F9cICRvtY/rV3JRACm0z+BeF2/YDfRP1zY5DrXwc4/3DCnVwxPzD8R7ddb0mrLP+2t9QMmSdA/\",\"dtype\":\"float64\",\"shape\":[75]},\"y\":{\"__ndarray__\":\"S/O/Q+51ND/430zAtpRIP2vylNV0PVE/QxsjCssuWD/TR4Z78fVgP+inNsRxymc/OuuBfZWvcD/u3TFA02d3P2d3VoBnaoA/CD5h5MAGhz/1pA8HUCaQP+zrCsc9p5Y/Fb7LAKjGnz/nJ9c/SEmmPwBD+fzcQq8/FOZwv9nstT8Er5Y7M8G+P0c+r3jqkcU/yK72qKZBzj+tM989FzjVPxbgmr8yxN0/cOm5AXbg5D+5ctXAf0jtP5kqGJXUifQ/DsrqDELP/D8MCAhBojQEQDItVnmnVwxAiFXNvdHgE0BSSZ2AJuIbQAMJih9jjiNA5q4l5INuK0CPVN/5RT0zQHzxRXu8/DpAOZ7PgHrtQkAg8wGBzoxKQBSTN8DMeFJA2NmQf2ZqWEAAAAAAAFxeQEQX1LfMJmJAmpmZmZkfZUBmZmZmZhhoQLzoK0gzEWtAAAAAAAAKbkCiC+pbZoFwQAhyUMLM/XFA+I2vPTN6c0AQ5KCEmfZ0QAAAAAAAc3ZA8Btfe2bvd0AIclDCzGt5QPeNrz0z6HpAEOSghJlkfEAAAAAAAOF9QKML6ltmXX9ABTkoYeZsgED7xteeGSuBQAhyUMJM6YFAAAAAAICngkD4ja89s2WDQAU5KGHmI4RA+8bXnhnihEAIclDCTKCFQAAAAACAXoZA+I2vPbMch0AFOShh5tqHQPvG154ZmYhACHJQwkxXiUAAAAAAgBWKQPeNrz2z04pABTkoYeaRi0D7xteeGVCMQAlyUMJMDo1AAAAAAIDMjUD3ja89s4qOQGZmZmbmSI9A\",\"dtype\":\"float64\",\"shape\":[75]}}},\"id\":\"5b4dcf92-9877-432e-ac5f-c8ee485bbdb3\",\"type\":\"ColumnDataSource\"},{\"attributes\":{\"source\":{\"id\":\"c557cefe-491b-4ba6-bba0-47a1ef12a429\",\"type\":\"ColumnDataSource\"}},\"id\":\"3f26daf7-8570-40fa-815a-c4a5c4be1a3b\",\"type\":\"CDSView\"},{\"attributes\":{\"data_source\":{\"id\":\"7f613d15-8b48-4f57-be4e-2943d0ce7382\",\"type\":\"ColumnDataSource\"},\"glyph\":{\"id\":\"8330a6e6-b4ce-4544-ba3e-e77762948223\",\"type\":\"Square\"},\"hover_glyph\":null,\"muted_glyph\":null,\"nonselection_glyph\":{\"id\":\"8caa140e-849e-4abd-b8da-a89fcd34e4f4\",\"type\":\"Square\"},\"selection_glyph\":null,\"view\":{\"id\":\"06b813cc-be80-44ef-b216-f52f2be405a6\",\"type\":\"CDSView\"}},\"id\":\"28c24755-5714-4c84-905c-9f72bdec349e\",\"type\":\"GlyphRenderer\"},{\"attributes\":{\"items\":[{\"id\":\"01e2566a-03f1-4c3c-a3f5-021138510e7a\",\"type\":\"LegendItem\"},{\"id\":\"a5f8bdc4-b1fc-4350-808d-7d25ebf9cf3c\",\"type\":\"LegendItem\"},{\"id\":\"d4613ea7-f999-473f-9ef1-cd34f03d1aef\",\"type\":\"LegendItem\"}],\"label_text_font_size\":{\"value\":\"8pt\"},\"location\":[10,-30],\"plot\":{\"id\":\"db579421-c231-41cf-976a-bb0643b89a79\",\"subtype\":\"Figure\",\"type\":\"Plot\"}},\"id\":\"3950a00c-efef-417c-96a6-66f2dbe6a756\",\"type\":\"Legend\"},{\"attributes\":{\"callback\":null,\"column_names\":[\"x\",\"y\"],\"data\":{\"x\":{\"__ndarray__\":\"T13RvDW0Qz/BXp+L4j5FP9BIl3qrXUg/hl/oanG8Sz9ezodb2DpPP/XSRaioalE/Wu5QPWdFUz+k+BO19i5VP8vdrN+aJFc/cJFWGD0gWT9eTN64OC5bP3eULCLoOl0/iOSCOLG1Xj/Dwdrn3KVgP/ePZiRypWU/YeuZr2AMcT8VWqegUzZ6P3ENbXFm44I/Nd4t+zv8iT/XAGg+LkSRP7sKWXi/U5Y/0pCO/tmHmz/O3nyXEHucPxjrDG2v7pg/8YWyuEtXlD8C4J1R+g+PP8I47WacP4c/Nj8xeyh0gT/V4IzJemR6Py9R4I3jCHQ/zz/CM884bj+st3sxg1VmP5bB8hKl/l8/ilFwZcuhVT/oIUdPtPpDP0O5mShKdA2/C0SmTi9rN7+vbdvbsjwov4E2LOQOtjg/gHViONpWUz8PbXf7ondoP+Qs3mN/zYI/KKDDW2sYlT9p9KqbedyiPygRsycZ6qw/2mKvXuIbtD/rME987066P98PiYxYVcA/W1W8sofNwj8ze4/pv73FP+MVyrpmD8k/IjIPDUm1zD8+vABeE1DQP2SYj3slVtI/clAld5Zo1D+6wnlA8nHWP2+E4hrhZdg/A2VsS5E62j8buyPn7d3bP31R7ZlGT90/Jxtqb0t/3j9D1Z5I5kffPy2f/hYRg98/ET6M94Bs4D/b9uIwPSbgP0UhVVbLhN4/MSfkWh8c3D9VnZtX8Z3YP8f/FeBYo9U/YkSqQftF0z+CIeUGx1XRP7i4W8yuf88/he4OAIcWzT8J/MDZ1uTLP2vobvDoc9A/\",\"dtype\":\"float64\",\"shape\":[75]},\"y\":{\"__ndarray__\":\"GhExyth1ND/Sv8nbtpRIP2vylNV0PVE/aTum7souWD/At0SJ8fVgPw3Iuahxymc/MSNhhJWvcD/bTfBN02d3P2zb5nxnaoA/CD5h5MAGhz8NmeH1TyaQP+zrCsc9p5Y/LbKd76fGnz/bLW5ISEmmPww9YvTcQq8/JV2OstnstT8Er5Y7M8G+P0c+r3jqkcU/5h99k6ZBzj88bCIzFzjVP4enV8oyxN0//yH99nXg5D8qOpLLf0jtP5kqGJXUifQ/c9cS8kHP/D+/DpwzojQEQIEmwoanVwxA4lgXt9HgE0BSSZ2AJuIbQAMJih9jjiNA5q4l5INuK0AwTKYKRj0zQNv5fmq8/DpAaCJseHrtQkB/+zpwzoxKQM3MzMzMeFJAZmZmZmZqWEAAAAAAAFxeQM3MzMzMJmJAmpmZmZkfZUBmZmZmZhhoQDMzMzMzEWtAAAAAAAAKbkBmZmZmZoFwQM3MzMzM/XFAMzMzMzN6c0CamZmZmfZ0QAAAAAAAc3ZAZmZmZmbvd0DNzMzMzGt5QDMzMzMz6HpAmpmZmZlkfEAAAAAAAOF9QGZmZmZmXX9AZmZmZuZsgECamZmZGSuBQM3MzMxM6YFAAAAAAICngkAzMzMzs2WDQGZmZmbmI4RAmpmZmRnihEDNzMzMTKCFQAAAAACAXoZAMzMzM7Mch0BmZmZm5tqHQJqZmZkZmYhAzczMzExXiUAAAAAAgBWKQDMzMzOz04pAZmZmZuaRi0CamZmZGVCMQM3MzMxMDo1AAAAAAIDMjUAzMzMzs4qOQGZmZmbmSI9A\",\"dtype\":\"float64\",\"shape\":[75]}}},\"id\":\"9a798b7b-2666-4130-b270-c3e6bba09c4e\",\"type\":\"ColumnDataSource\"},{\"attributes\":{\"data_source\":{\"id\":\"55123758-46d8-4994-8296-9bc9770c654f\",\"type\":\"ColumnDataSource\"},\"glyph\":{\"id\":\"670d1eff-11dd-4308-b325-7550ff1da19c\",\"type\":\"Line\"},\"hover_glyph\":null,\"muted_glyph\":null,\"nonselection_glyph\":{\"id\":\"b849303f-2f2c-4727-bb48-1ecaa863994b\",\"type\":\"Line\"},\"selection_glyph\":null,\"view\":{\"id\":\"625bcf8c-8cec-4076-bcbf-9a06bc188142\",\"type\":\"CDSView\"}},\"id\":\"8143f78e-c261-43d5-b1e7-c89ede82514b\",\"type\":\"GlyphRenderer\"},{\"attributes\":{\"source\":{\"id\":\"98c58e21-dd21-4b03-be1b-bf2fdc1218ec\",\"type\":\"ColumnDataSource\"}},\"id\":\"2d6ce2cf-14ea-4d5c-bdfc-25ab7edbc01e\",\"type\":\"CDSView\"},{\"attributes\":{\"line_alpha\":0.1,\"line_color\":\"#1f77b4\",\"line_width\":3,\"x\":{\"field\":\"x\"},\"y\":{\"field\":\"y\"}},\"id\":\"2ccf25c3-b807-47a4-8344-48c9f2e4bb2b\",\"type\":\"Line\"},{\"attributes\":{\"data_source\":{\"id\":\"c557cefe-491b-4ba6-bba0-47a1ef12a429\",\"type\":\"ColumnDataSource\"},\"glyph\":{\"id\":\"80286479-e323-46ae-8ea8-4e30c8f4eba9\",\"type\":\"Line\"},\"hover_glyph\":null,\"muted_glyph\":null,\"nonselection_glyph\":{\"id\":\"2ccf25c3-b807-47a4-8344-48c9f2e4bb2b\",\"type\":\"Line\"},\"selection_glyph\":null,\"view\":{\"id\":\"3f26daf7-8570-40fa-815a-c4a5c4be1a3b\",\"type\":\"CDSView\"}},\"id\":\"98c09931-019c-41c2-8326-b606c0843723\",\"type\":\"GlyphRenderer\"},{\"attributes\":{\"children\":[{\"id\":\"960b51ae-c90e-44a1-bb4b-68b1c6d58077\",\"type\":\"ToolbarBox\"},{\"id\":\"ab98cc25-901b-456d-a70a-ded0489ba763\",\"type\":\"Column\"}]},\"id\":\"79e59d0d-c1d1-4bcc-b38c-6120a4b0d51c\",\"type\":\"Column\"},{\"attributes\":{\"fill_alpha\":{\"value\":0.1},\"fill_color\":{\"value\":\"#1f77b4\"},\"line_alpha\":{\"value\":0.1},\"line_color\":{\"value\":\"#1f77b4\"},\"x\":{\"field\":\"x\"},\"y\":{\"field\":\"y\"}},\"id\":\"8caa140e-849e-4abd-b8da-a89fcd34e4f4\",\"type\":\"Square\"},{\"attributes\":{\"toolbar\":{\"id\":\"e700ad6f-e068-4f0d-9e54-a2996e7f86cb\",\"type\":\"ProxyToolbar\"},\"toolbar_location\":\"above\"},\"id\":\"960b51ae-c90e-44a1-bb4b-68b1c6d58077\",\"type\":\"ToolbarBox\"},{\"attributes\":{\"line_alpha\":0.6,\"line_color\":\"#e41a1c\",\"line_dash\":[6],\"line_width\":5,\"x\":{\"field\":\"x\"},\"y\":{\"field\":\"y\"}},\"id\":\"670d1eff-11dd-4308-b325-7550ff1da19c\",\"type\":\"Line\"},{\"attributes\":{\"label\":{\"value\":\"CLIRAD `coolr_bands`\"},\"renderers\":[{\"id\":\"2b667428-d68b-441f-93f2-10633d74f9da\",\"type\":\"GlyphRenderer\"}]},\"id\":\"01e2566a-03f1-4c3c-a3f5-021138510e7a\",\"type\":\"LegendItem\"},{\"attributes\":{\"source\":{\"id\":\"9a798b7b-2666-4130-b270-c3e6bba09c4e\",\"type\":\"ColumnDataSource\"}},\"id\":\"250d58c7-0544-4391-9def-61fd2f05483c\",\"type\":\"CDSView\"},{\"attributes\":{\"line_alpha\":0.1,\"line_color\":\"#1f77b4\",\"line_width\":1.5,\"x\":{\"field\":\"x\"},\"y\":{\"field\":\"y\"}},\"id\":\"e6d201cc-689f-46e2-bbe8-7ea3c330b514\",\"type\":\"Line\"},{\"attributes\":{},\"id\":\"cbee1f5c-b887-4592-9d29-93789cc6321c\",\"type\":\"BasicTickFormatter\"},{\"attributes\":{\"line_color\":\"#4daf4a\",\"line_width\":1.5,\"x\":{\"field\":\"x\"},\"y\":{\"field\":\"y\"}},\"id\":\"97fd5d76-623a-45de-9b6c-23234b26f379\",\"type\":\"Line\"},{\"attributes\":{\"source\":{\"id\":\"7f613d15-8b48-4f57-be4e-2943d0ce7382\",\"type\":\"ColumnDataSource\"}},\"id\":\"06b813cc-be80-44ef-b216-f52f2be405a6\",\"type\":\"CDSView\"},{\"attributes\":{\"callback\":null,\"column_names\":[\"x\",\"y\"],\"data\":{\"x\":{\"__ndarray__\":\"TCk7HAF3Uj94nccPdCdTP8uvv82ylFQ/YiCOo0b7VT/8IuS49YFXP8zHd1/BE1k/hBj9LtWwWj/3XCtIq1lcPzd5nFlVDl4/SLMcemrNXz8BeOLcMstgP5R7ce6PuGE/vHQGcfmtYj8/ERxZq+pjP05aME+MfGg/6apV+CzIcT8HjINzObl5P/Ycg7Li84E/X9Tdn75DiD/3Ni3XUv+PP5KNl4/krZQ/L9E3NtSrmT+23bWYYDebP7yNABpE1pg/Hwjm74w+lT8lh6LOaA2RPwEdDQeVk4o/QSKsclxVhD8w/wSXE29+P8kRBj20JnY/NVOJAIUtbz+15uSNvhNlP7q7N0vIX1s/881i2mSoUD9bF5pEjFE4P++fsHmPBCm/VNcuM0GyO7/4A4gWV3Ivv4J2OuLSSDM/sKqR4hBeUT/tTv/q0tpmP9DGPmgqJ4I/n2fK4E8FlT8DVS+NuRujP7SwptUxPq0/8SX5kI1OtD8HlcpLtay6P2md1WrpZ8A/xKpKZ31vwj8BiJBmwv/EP6oyIuqgQcg/YQLQYj4HzD/95AwD5/vPP1kji7AF79E/jmGhYXDl0z+sZG6OleLVPx/TsSvX5Nc/pcXd6Jva2T8QnP4JjqDbP/uQRlf4Kt0/uHhL32Jn3j9oTT4u10DfP3KuxAXlmd8/rb6FsIqT4D8rswaWnHHgP4wzfdk2Wd8/EZ1KfncI3T/LeTMXd27ZPzL4LGtSMtY/3+r950Sa0z92S8Gz13vRP3gSpzdKmM8/Zk/iczUqzT+oqlqzzR7MP2fQ1fWpmdA/\",\"dtype\":\"float64\",\"shape\":[75]},\"y\":{\"__ndarray__\":\"GhExyth1ND/Sv8nbtpRIP2vylNV0PVE/aTum7souWD/At0SJ8fVgPw3Iuahxymc/MSNhhJWvcD/bTfBN02d3P2zb5nxnaoA/CD5h5MAGhz8NmeH1TyaQP+zrCsc9p5Y/LbKd76fGnz/bLW5ISEmmPww9YvTcQq8/JV2OstnstT8Er5Y7M8G+P0c+r3jqkcU/5h99k6ZBzj88bCIzFzjVP4enV8oyxN0//yH99nXg5D8qOpLLf0jtP5kqGJXUifQ/c9cS8kHP/D+/DpwzojQEQIEmwoanVwxA4lgXt9HgE0BSSZ2AJuIbQAMJih9jjiNA5q4l5INuK0AwTKYKRj0zQNv5fmq8/DpAaCJseHrtQkB/+zpwzoxKQM3MzMzMeFJAZmZmZmZqWEAAAAAAAFxeQM3MzMzMJmJAmpmZmZkfZUBmZmZmZhhoQDMzMzMzEWtAAAAAAAAKbkBmZmZmZoFwQM3MzMzM/XFAMzMzMzN6c0CamZmZmfZ0QAAAAAAAc3ZAZmZmZmbvd0DNzMzMzGt5QDMzMzMz6HpAmpmZmZlkfEAAAAAAAOF9QGZmZmZmXX9AZmZmZuZsgECamZmZGSuBQM3MzMxM6YFAAAAAAICngkAzMzMzs2WDQGZmZmbmI4RAmpmZmRnihEDNzMzMTKCFQAAAAACAXoZAMzMzM7Mch0BmZmZm5tqHQJqZmZkZmYhAzczMzExXiUAAAAAAgBWKQDMzMzOz04pAZmZmZuaRi0CamZmZGVCMQM3MzMxMDo1AAAAAAIDMjUAzMzMzs4qOQGZmZmbmSI9A\",\"dtype\":\"float64\",\"shape\":[75]}}},\"id\":\"7f613d15-8b48-4f57-be4e-2943d0ce7382\",\"type\":\"ColumnDataSource\"},{\"attributes\":{},\"id\":\"cfdd3d0d-1c1b-47bd-a4a9-365b4da322e4\",\"type\":\"BasicTicker\"},{\"attributes\":{\"callback\":null,\"column_names\":[\"x\",\"y\"],\"data\":{\"x\":{\"__ndarray__\":\"AAAAAAAAAAAAAAAAAAAAAAAAAAAAAAAAfji63dqooD8AAAAAAAAAAAAAAAAAAAAAAAAAAAAAAADGndaerjaBvzZwiv0Ti3i/HtNCYUp/gT+eYoX+8bWCPyFO1toKyWG/Q08ILcRbWb9H/zvBBhRyP2VKhR/+VGM/hx5FXlVEeT9Dc8ehkdZ7PxyF6r7RgoE/UgNjAz1iiT+rXrOZmVKQP8eWGN3XB5U/tGIdZuYEmj81euT4aSicP5/g4cT3yJk/DN+kZJd6lj/kRBl8Kj+SP3m0ZJpY/Iw/sNL7y5BYhj8VYwlBCLWAP2X9tV9vAHg/dWiFn4AxcD//4JQZtZJkP1CjHMUjvFc/whFX/i29Rz/ARDGvj/obPwzISVssHze/IcZ2Po1JQL9cHkXeD+E1v51J/P8lzho/30GCYYkqRz+q0TY98sdgP/yXCoPQh3w/ki8257+LkT8gAksEY6qgP7/oCYPm/qk/Xcem/yZAsj8aHs0hQaK4P4cf1vqm2b4/R/Gewa4/wT/77WeIlZfDP47gb0lIA8c/xQu3ts8uyz9Kq+fFBXfPP7acrpsQwtE/WLW9QL3X0z8sne7AKQHWPx9neaIUQtg/nAKyOuZ62j+YmsrDvnTcP99WF0N7Ld4/mubj+16a3z/MywY+q1HgP6olXwEznOA/54dT3nWT4T9orleB75DhP7ireJ+6xOA/gxyMv4rf3j9Sv+LbgZvaP8F9cICRvtY/rV3JRACm0z+BeF2/YDfRP1zY5DrXwc4/3DCnVwxPzD8R7ddb0mrLP+2t9QMmSdA/\",\"dtype\":\"float64\",\"shape\":[75]},\"y\":{\"__ndarray__\":\"S/O/Q+51ND/430zAtpRIP2vylNV0PVE/QxsjCssuWD/TR4Z78fVgP+inNsRxymc/OuuBfZWvcD/u3TFA02d3P2d3VoBnaoA/CD5h5MAGhz/1pA8HUCaQP+zrCsc9p5Y/Fb7LAKjGnz/nJ9c/SEmmPwBD+fzcQq8/FOZwv9nstT8Er5Y7M8G+P0c+r3jqkcU/yK72qKZBzj+tM989FzjVPxbgmr8yxN0/cOm5AXbg5D+5ctXAf0jtP5kqGJXUifQ/DsrqDELP/D8MCAhBojQEQDItVnmnVwxAiFXNvdHgE0BSSZ2AJuIbQAMJih9jjiNA5q4l5INuK0CPVN/5RT0zQHzxRXu8/DpAOZ7PgHrtQkAg8wGBzoxKQBSTN8DMeFJA2NmQf2ZqWEAAAAAAAFxeQEQX1LfMJmJAmpmZmZkfZUBmZmZmZhhoQLzoK0gzEWtAAAAAAAAKbkCiC+pbZoFwQAhyUMLM/XFA+I2vPTN6c0AQ5KCEmfZ0QAAAAAAAc3ZA8Btfe2bvd0AIclDCzGt5QPeNrz0z6HpAEOSghJlkfEAAAAAAAOF9QKML6ltmXX9ABTkoYeZsgED7xteeGSuBQAhyUMJM6YFAAAAAAICngkD4ja89s2WDQAU5KGHmI4RA+8bXnhnihEAIclDCTKCFQAAAAACAXoZA+I2vPbMch0AFOShh5tqHQPvG154ZmYhACHJQwkxXiUAAAAAAgBWKQPeNrz2z04pABTkoYeaRi0D7xteeGVCMQAlyUMJMDo1AAAAAAIDMjUD3ja89s4qOQGZmZmbmSI9A\",\"dtype\":\"float64\",\"shape\":[75]}}},\"id\":\"55123758-46d8-4994-8296-9bc9770c654f\",\"type\":\"ColumnDataSource\"},{\"attributes\":{},\"id\":\"49b50121-e33f-41ce-9a21-c23968963e0e\",\"type\":\"ResetTool\"},{\"attributes\":{\"line_alpha\":0.6,\"line_color\":\"#e41a1c\",\"line_dash\":[6],\"line_width\":5,\"x\":{\"field\":\"x\"},\"y\":{\"field\":\"y\"}},\"id\":\"7abdf876-f475-4e12-b3f3-16dd08202a12\",\"type\":\"Line\"},{\"attributes\":{\"below\":[{\"id\":\"dfa2f0c6-e302-4451-ab97-ba1e65f2fe2f\",\"type\":\"LinearAxis\"}],\"left\":[{\"id\":\"7c76a5e3-9c44-41de-8caf-d31ba6af6b55\",\"type\":\"LinearAxis\"}],\"plot_height\":500,\"plot_width\":400,\"renderers\":[{\"id\":\"dfa2f0c6-e302-4451-ab97-ba1e65f2fe2f\",\"type\":\"LinearAxis\"},{\"id\":\"ef9f0933-49c4-4535-bac5-53a4accdcadd\",\"type\":\"Grid\"},{\"id\":\"7c76a5e3-9c44-41de-8caf-d31ba6af6b55\",\"type\":\"LinearAxis\"},{\"id\":\"e1f27e6d-b6a5-41cf-be0a-f000ecbf7f72\",\"type\":\"Grid\"},{\"id\":\"f3fa0be4-8fdc-459f-9ae6-50c4315fe37a\",\"type\":\"BoxAnnotation\"},{\"id\":\"8143f78e-c261-43d5-b1e7-c89ede82514b\",\"type\":\"GlyphRenderer\"},{\"id\":\"a6497e15-a380-4e8d-9e08-ffb975b52820\",\"type\":\"GlyphRenderer\"},{\"id\":\"290b4638-7340-41e4-9e32-ff6819288530\",\"type\":\"GlyphRenderer\"},{\"id\":\"28c24755-5714-4c84-905c-9f72bdec349e\",\"type\":\"GlyphRenderer\"},{\"id\":\"b25bcdfd-00c0-4a8f-ad03-10a8b78b40f8\",\"type\":\"GlyphRenderer\"}],\"title\":{\"id\":\"791dda36-17d8-430e-a094-9bcdd2ff557c\",\"type\":\"Title\"},\"toolbar\":{\"id\":\"7ba64f5c-3b85-44a2-b445-07a960f2ad0d\",\"type\":\"Toolbar\"},\"toolbar_location\":null,\"x_range\":{\"id\":\"a388b21b-5cef-4075-895c-ea76e408a461\",\"type\":\"Range1d\"},\"x_scale\":{\"id\":\"92f864ef-663b-4b06-90b3-2eea07494f6d\",\"type\":\"LinearScale\"},\"y_range\":{\"id\":\"a2823f6c-aefb-4fb0-8fab-b74978d49581\",\"type\":\"Range1d\"},\"y_scale\":{\"id\":\"b5c7df3c-4868-48ba-adc1-b778d4e16d37\",\"type\":\"LinearScale\"}},\"id\":\"995093c6-967e-4f08-9c59-d76d125e6b25\",\"subtype\":\"Figure\",\"type\":\"Plot\"},{\"attributes\":{\"line_alpha\":0.1,\"line_color\":\"#1f77b4\",\"line_dash\":[6],\"line_width\":5,\"x\":{\"field\":\"x\"},\"y\":{\"field\":\"y\"}},\"id\":\"b849303f-2f2c-4727-bb48-1ecaa863994b\",\"type\":\"Line\"},{\"attributes\":{\"callback\":null,\"end\":0.01,\"start\":1020},\"id\":\"9d641b1e-103c-4ad7-b362-b228d7504c2c\",\"type\":\"Range1d\"},{\"attributes\":{\"fill_alpha\":{\"value\":0.7},\"fill_color\":{\"value\":\"#4daf4a\"},\"line_alpha\":{\"value\":0.7},\"line_color\":{\"value\":\"#4daf4a\"},\"x\":{\"field\":\"x\"},\"y\":{\"field\":\"y\"}},\"id\":\"86ca2233-5a3d-4ec2-a5ec-1b1839efcfa6\",\"type\":\"Circle\"},{\"attributes\":{},\"id\":\"a9b54b72-f2a7-4051-81f4-b55ad78eabe0\",\"type\":\"HelpTool\"},{\"attributes\":{\"active_drag\":\"auto\",\"active_inspect\":\"auto\",\"active_scroll\":\"auto\",\"active_tap\":\"auto\",\"tools\":[{\"id\":\"9eca3381-5466-4883-b636-59e5968b1827\",\"type\":\"PanTool\"},{\"id\":\"beda1021-a723-4536-a2ab-ba21912b0c8b\",\"type\":\"WheelZoomTool\"},{\"id\":\"64f388ac-ee72-4845-82e0-2c9592f7e619\",\"type\":\"BoxZoomTool\"},{\"id\":\"f152b530-ef7f-4613-bf52-38d4e9c9e3e6\",\"type\":\"SaveTool\"},{\"id\":\"49b50121-e33f-41ce-9a21-c23968963e0e\",\"type\":\"ResetTool\"},{\"id\":\"a9b54b72-f2a7-4051-81f4-b55ad78eabe0\",\"type\":\"HelpTool\"}]},\"id\":\"7ba64f5c-3b85-44a2-b445-07a960f2ad0d\",\"type\":\"Toolbar\"},{\"attributes\":{\"tools\":[{\"id\":\"9eca3381-5466-4883-b636-59e5968b1827\",\"type\":\"PanTool\"},{\"id\":\"beda1021-a723-4536-a2ab-ba21912b0c8b\",\"type\":\"WheelZoomTool\"},{\"id\":\"64f388ac-ee72-4845-82e0-2c9592f7e619\",\"type\":\"BoxZoomTool\"},{\"id\":\"f152b530-ef7f-4613-bf52-38d4e9c9e3e6\",\"type\":\"SaveTool\"},{\"id\":\"49b50121-e33f-41ce-9a21-c23968963e0e\",\"type\":\"ResetTool\"},{\"id\":\"a9b54b72-f2a7-4051-81f4-b55ad78eabe0\",\"type\":\"HelpTool\"},{\"id\":\"8faf76d3-4a66-4529-b69a-0b52e0748b95\",\"type\":\"PanTool\"},{\"id\":\"7dd80311-a46d-4fe8-a6f8-8d21293d6532\",\"type\":\"WheelZoomTool\"},{\"id\":\"b7a19a3f-d121-417c-a7af-ffd72ea64b78\",\"type\":\"BoxZoomTool\"},{\"id\":\"15555c48-536e-43b0-be6b-5f49072d1737\",\"type\":\"SaveTool\"},{\"id\":\"5c161e19-2e3b-4ecf-9c51-fe20abbad0cc\",\"type\":\"ResetTool\"},{\"id\":\"7adcede1-2b75-4f60-880a-6da8159ead35\",\"type\":\"HelpTool\"}]},\"id\":\"e700ad6f-e068-4f0d-9e54-a2996e7f86cb\",\"type\":\"ProxyToolbar\"},{\"attributes\":{},\"id\":\"9eca3381-5466-4883-b636-59e5968b1827\",\"type\":\"PanTool\"},{\"attributes\":{\"plot\":{\"id\":\"995093c6-967e-4f08-9c59-d76d125e6b25\",\"subtype\":\"Figure\",\"type\":\"Plot\"},\"ticker\":{\"id\":\"5748f363-1afb-4597-8528-c7d7953ae9d7\",\"type\":\"BasicTicker\"}},\"id\":\"ef9f0933-49c4-4535-bac5-53a4accdcadd\",\"type\":\"Grid\"},{\"attributes\":{\"callback\":null,\"column_names\":[\"x\",\"y\"],\"data\":{\"x\":{\"__ndarray__\":\"TCk7HAF3Uj94nccPdCdTP8uvv82ylFQ/YiCOo0b7VT/8IuS49YFXP8zHd1/BE1k/hBj9LtWwWj/3XCtIq1lcPzd5nFlVDl4/SLMcemrNXz8BeOLcMstgP5R7ce6PuGE/vHQGcfmtYj8/ERxZq+pjP05aME+MfGg/6apV+CzIcT8HjINzObl5P/Ycg7Li84E/X9Tdn75DiD/3Ni3XUv+PP5KNl4/krZQ/L9E3NtSrmT+23bWYYDebP7yNABpE1pg/Hwjm74w+lT8lh6LOaA2RPwEdDQeVk4o/QSKsclxVhD8w/wSXE29+P8kRBj20JnY/NVOJAIUtbz+15uSNvhNlP7q7N0vIX1s/881i2mSoUD9bF5pEjFE4P++fsHmPBCm/VNcuM0GyO7/4A4gWV3Ivv4J2OuLSSDM/sKqR4hBeUT/tTv/q0tpmP9DGPmgqJ4I/n2fK4E8FlT8DVS+NuRujP7SwptUxPq0/8SX5kI1OtD8HlcpLtay6P2md1WrpZ8A/xKpKZ31vwj8BiJBmwv/EP6oyIuqgQcg/YQLQYj4HzD/95AwD5/vPP1kji7AF79E/jmGhYXDl0z+sZG6OleLVPx/TsSvX5Nc/pcXd6Jva2T8QnP4JjqDbP/uQRlf4Kt0/uHhL32Jn3j9oTT4u10DfP3KuxAXlmd8/rb6FsIqT4D8rswaWnHHgP4wzfdk2Wd8/EZ1KfncI3T/LeTMXd27ZPzL4LGtSMtY/3+r950Sa0z92S8Gz13vRP3gSpzdKmM8/Zk/iczUqzT+oqlqzzR7MP2fQ1fWpmdA/\",\"dtype\":\"float64\",\"shape\":[75]},\"y\":{\"__ndarray__\":\"GhExyth1ND/Sv8nbtpRIP2vylNV0PVE/aTum7souWD/At0SJ8fVgPw3Iuahxymc/MSNhhJWvcD/bTfBN02d3P2zb5nxnaoA/CD5h5MAGhz8NmeH1TyaQP+zrCsc9p5Y/LbKd76fGnz/bLW5ISEmmPww9YvTcQq8/JV2OstnstT8Er5Y7M8G+P0c+r3jqkcU/5h99k6ZBzj88bCIzFzjVP4enV8oyxN0//yH99nXg5D8qOpLLf0jtP5kqGJXUifQ/c9cS8kHP/D+/DpwzojQEQIEmwoanVwxA4lgXt9HgE0BSSZ2AJuIbQAMJih9jjiNA5q4l5INuK0AwTKYKRj0zQNv5fmq8/DpAaCJseHrtQkB/+zpwzoxKQM3MzMzMeFJAZmZmZmZqWEAAAAAAAFxeQM3MzMzMJmJAmpmZmZkfZUBmZmZmZhhoQDMzMzMzEWtAAAAAAAAKbkBmZmZmZoFwQM3MzMzM/XFAMzMzMzN6c0CamZmZmfZ0QAAAAAAAc3ZAZmZmZmbvd0DNzMzMzGt5QDMzMzMz6HpAmpmZmZlkfEAAAAAAAOF9QGZmZmZmXX9AZmZmZuZsgECamZmZGSuBQM3MzMxM6YFAAAAAAICngkAzMzMzs2WDQGZmZmbmI4RAmpmZmRnihEDNzMzMTKCFQAAAAACAXoZAMzMzM7Mch0BmZmZm5tqHQJqZmZkZmYhAzczMzExXiUAAAAAAgBWKQDMzMzOz04pAZmZmZuaRi0CamZmZGVCMQM3MzMxMDo1AAAAAAIDMjUAzMzMzs4qOQGZmZmbmSI9A\",\"dtype\":\"float64\",\"shape\":[75]}}},\"id\":\"86ea72f2-4483-4177-9a83-91f50d2b45c9\",\"type\":\"ColumnDataSource\"},{\"attributes\":{\"line_alpha\":0.1,\"line_color\":\"#1f77b4\",\"line_width\":3,\"x\":{\"field\":\"x\"},\"y\":{\"field\":\"y\"}},\"id\":\"f94013c7-0b0b-4e78-96e9-6faf315bd17c\",\"type\":\"Line\"},{\"attributes\":{\"callback\":null,\"end\":0.01,\"start\":1020},\"id\":\"a2823f6c-aefb-4fb0-8fab-b74978d49581\",\"type\":\"Range1d\"},{\"attributes\":{},\"id\":\"f099f1c6-d35c-4e8d-91cc-f15456c1bf8e\",\"type\":\"BasicTickFormatter\"},{\"attributes\":{\"callback\":null,\"end\":0.5547480158929999,\"start\":-0.005994525193},\"id\":\"a388b21b-5cef-4075-895c-ea76e408a461\",\"type\":\"Range1d\"},{\"attributes\":{},\"id\":\"5c161e19-2e3b-4ecf-9c51-fe20abbad0cc\",\"type\":\"ResetTool\"},{\"attributes\":{\"line_alpha\":0.6,\"line_color\":\"#984ea3\",\"line_width\":3,\"x\":{\"field\":\"x\"},\"y\":{\"field\":\"y\"}},\"id\":\"a27d46a7-11db-4d5f-a36f-f0e6864d84f4\",\"type\":\"Line\"},{\"attributes\":{\"plot\":null,\"text\":\"Linear pressure scale\"},\"id\":\"791dda36-17d8-430e-a094-9bcdd2ff557c\",\"type\":\"Title\"},{\"attributes\":{\"below\":[{\"id\":\"5a7c1edd-2de0-4b85-82b1-12fb738ad19d\",\"type\":\"LinearAxis\"}],\"left\":[{\"id\":\"77439daf-a67d-4f79-9b4e-d535c218f0ae\",\"type\":\"LogAxis\"}],\"plot_height\":500,\"plot_width\":560,\"renderers\":[{\"id\":\"5a7c1edd-2de0-4b85-82b1-12fb738ad19d\",\"type\":\"LinearAxis\"},{\"id\":\"e0dca952-ce17-4f3a-960d-4c5ef74ca438\",\"type\":\"Grid\"},{\"id\":\"77439daf-a67d-4f79-9b4e-d535c218f0ae\",\"type\":\"LogAxis\"},{\"id\":\"2be030f6-37ba-430d-9e1a-f96c4c199c74\",\"type\":\"Grid\"},{\"id\":\"50885c04-9164-4bd6-91d9-9dae23b3a5fc\",\"type\":\"BoxAnnotation\"},{\"id\":\"2b667428-d68b-441f-93f2-10633d74f9da\",\"type\":\"GlyphRenderer\"},{\"id\":\"89760495-e938-4157-9d6c-f4c668f08307\",\"type\":\"GlyphRenderer\"},{\"id\":\"7dc8ea5e-b048-4d8b-a31a-8c7e4a9a6ce3\",\"type\":\"GlyphRenderer\"},{\"id\":\"14edad6d-c72a-4a0d-8d08-f89f6820da5c\",\"type\":\"GlyphRenderer\"},{\"id\":\"98c09931-019c-41c2-8326-b606c0843723\",\"type\":\"GlyphRenderer\"},{\"id\":\"3950a00c-efef-417c-96a6-66f2dbe6a756\",\"type\":\"Legend\"}],\"right\":[{\"id\":\"3950a00c-efef-417c-96a6-66f2dbe6a756\",\"type\":\"Legend\"}],\"title\":{\"id\":\"ddf9e04d-ea99-46a2-af2f-4bbfb0a1545f\",\"type\":\"Title\"},\"toolbar\":{\"id\":\"3b6afd03-04b4-4169-80e7-b9ad6d300cf4\",\"type\":\"Toolbar\"},\"toolbar_location\":null,\"x_range\":{\"id\":\"5409ac44-a503-4ec1-9e48-f19df2890572\",\"type\":\"Range1d\"},\"x_scale\":{\"id\":\"75f191ab-8337-4fc3-b440-7dc16477acc4\",\"type\":\"LinearScale\"},\"y_range\":{\"id\":\"9d641b1e-103c-4ad7-b362-b228d7504c2c\",\"type\":\"Range1d\"},\"y_scale\":{\"id\":\"389bfa6d-73ec-4220-9fba-6a2be5b289fe\",\"type\":\"LogScale\"}},\"id\":\"db579421-c231-41cf-976a-bb0643b89a79\",\"subtype\":\"Figure\",\"type\":\"Plot\"},{\"attributes\":{\"source\":{\"id\":\"86ea72f2-4483-4177-9a83-91f50d2b45c9\",\"type\":\"ColumnDataSource\"}},\"id\":\"45f5062e-4ffe-4d59-a013-51d40dcb7045\",\"type\":\"CDSView\"},{\"attributes\":{},\"id\":\"15555c48-536e-43b0-be6b-5f49072d1737\",\"type\":\"SaveTool\"},{\"attributes\":{\"overlay\":{\"id\":\"50885c04-9164-4bd6-91d9-9dae23b3a5fc\",\"type\":\"BoxAnnotation\"}},\"id\":\"b7a19a3f-d121-417c-a7af-ffd72ea64b78\",\"type\":\"BoxZoomTool\"},{\"attributes\":{\"dimension\":1,\"plot\":{\"id\":\"995093c6-967e-4f08-9c59-d76d125e6b25\",\"subtype\":\"Figure\",\"type\":\"Plot\"},\"ticker\":{\"id\":\"cfdd3d0d-1c1b-47bd-a4a9-365b4da322e4\",\"type\":\"BasicTicker\"}},\"id\":\"e1f27e6d-b6a5-41cf-be0a-f000ecbf7f72\",\"type\":\"Grid\"},{\"attributes\":{\"label\":{\"value\":\"CRD\"},\"renderers\":[{\"id\":\"89760495-e938-4157-9d6c-f4c668f08307\",\"type\":\"GlyphRenderer\"},{\"id\":\"7dc8ea5e-b048-4d8b-a31a-8c7e4a9a6ce3\",\"type\":\"GlyphRenderer\"}]},\"id\":\"a5f8bdc4-b1fc-4350-808d-7d25ebf9cf3c\",\"type\":\"LegendItem\"},{\"attributes\":{\"children\":[{\"id\":\"a983a7c1-acd6-469d-8f26-55f280cc2b3b\",\"type\":\"Row\"}]},\"id\":\"ab98cc25-901b-456d-a70a-ded0489ba763\",\"type\":\"Column\"},{\"attributes\":{},\"id\":\"389bfa6d-73ec-4220-9fba-6a2be5b289fe\",\"type\":\"LogScale\"},{\"attributes\":{\"callback\":null,\"column_names\":[\"x\",\"y\"],\"data\":{\"x\":{\"__ndarray__\":\"T13RvDW0Qz/BXp+L4j5FP9BIl3qrXUg/hl/oanG8Sz9ezodb2DpPP/XSRaioalE/Wu5QPWdFUz+k+BO19i5VP8vdrN+aJFc/cJFWGD0gWT9eTN64OC5bP3eULCLoOl0/iOSCOLG1Xj/Dwdrn3KVgP/ePZiRypWU/YeuZr2AMcT8VWqegUzZ6P3ENbXFm44I/Nd4t+zv8iT/XAGg+LkSRP7sKWXi/U5Y/0pCO/tmHmz/O3nyXEHucPxjrDG2v7pg/8YWyuEtXlD8C4J1R+g+PP8I47WacP4c/Nj8xeyh0gT/V4IzJemR6Py9R4I3jCHQ/zz/CM884bj+st3sxg1VmP5bB8hKl/l8/ilFwZcuhVT/oIUdPtPpDP0O5mShKdA2/C0SmTi9rN7+vbdvbsjwov4E2LOQOtjg/gHViONpWUz8PbXf7ondoP+Qs3mN/zYI/KKDDW2sYlT9p9KqbedyiPygRsycZ6qw/2mKvXuIbtD/rME987066P98PiYxYVcA/W1W8sofNwj8ze4/pv73FP+MVyrpmD8k/IjIPDUm1zD8+vABeE1DQP2SYj3slVtI/clAld5Zo1D+6wnlA8nHWP2+E4hrhZdg/A2VsS5E62j8buyPn7d3bP31R7ZlGT90/Jxtqb0t/3j9D1Z5I5kffPy2f/hYRg98/ET6M94Bs4D/b9uIwPSbgP0UhVVbLhN4/MSfkWh8c3D9VnZtX8Z3YP8f/FeBYo9U/YkSqQftF0z+CIeUGx1XRP7i4W8yuf88/he4OAIcWzT8J/MDZ1uTLP2vobvDoc9A/\",\"dtype\":\"float64\",\"shape\":[75]},\"y\":{\"__ndarray__\":\"GhExyth1ND/Sv8nbtpRIP2vylNV0PVE/aTum7souWD/At0SJ8fVgPw3Iuahxymc/MSNhhJWvcD/bTfBN02d3P2zb5nxnaoA/CD5h5MAGhz8NmeH1TyaQP+zrCsc9p5Y/LbKd76fGnz/bLW5ISEmmPww9YvTcQq8/JV2OstnstT8Er5Y7M8G+P0c+r3jqkcU/5h99k6ZBzj88bCIzFzjVP4enV8oyxN0//yH99nXg5D8qOpLLf0jtP5kqGJXUifQ/c9cS8kHP/D+/DpwzojQEQIEmwoanVwxA4lgXt9HgE0BSSZ2AJuIbQAMJih9jjiNA5q4l5INuK0AwTKYKRj0zQNv5fmq8/DpAaCJseHrtQkB/+zpwzoxKQM3MzMzMeFJAZmZmZmZqWEAAAAAAAFxeQM3MzMzMJmJAmpmZmZkfZUBmZmZmZhhoQDMzMzMzEWtAAAAAAAAKbkBmZmZmZoFwQM3MzMzM/XFAMzMzMzN6c0CamZmZmfZ0QAAAAAAAc3ZAZmZmZmbvd0DNzMzMzGt5QDMzMzMz6HpAmpmZmZlkfEAAAAAAAOF9QGZmZmZmXX9AZmZmZuZsgECamZmZGSuBQM3MzMxM6YFAAAAAAICngkAzMzMzs2WDQGZmZmbmI4RAmpmZmRnihEDNzMzMTKCFQAAAAACAXoZAMzMzM7Mch0BmZmZm5tqHQJqZmZkZmYhAzczMzExXiUAAAAAAgBWKQDMzMzOz04pAZmZmZuaRi0CamZmZGVCMQM3MzMxMDo1AAAAAAIDMjUAzMzMzs4qOQGZmZmbmSI9A\",\"dtype\":\"float64\",\"shape\":[75]}}},\"id\":\"98c58e21-dd21-4b03-be1b-bf2fdc1218ec\",\"type\":\"ColumnDataSource\"},{\"attributes\":{\"line_alpha\":0.1,\"line_color\":\"#1f77b4\",\"line_dash\":[6],\"line_width\":5,\"x\":{\"field\":\"x\"},\"y\":{\"field\":\"y\"}},\"id\":\"dffabd29-2ea2-4d6a-b456-0f6992ee7d93\",\"type\":\"Line\"},{\"attributes\":{\"axis_label\":\"cooling rate [K/day]\",\"formatter\":{\"id\":\"3dd41354-0160-42da-8a81-30d0aa424eb5\",\"type\":\"BasicTickFormatter\"},\"plot\":{\"id\":\"db579421-c231-41cf-976a-bb0643b89a79\",\"subtype\":\"Figure\",\"type\":\"Plot\"},\"ticker\":{\"id\":\"e6a3ed1d-04f4-4af4-9637-db927f6a60f4\",\"type\":\"BasicTicker\"}},\"id\":\"5a7c1edd-2de0-4b85-82b1-12fb738ad19d\",\"type\":\"LinearAxis\"},{\"attributes\":{},\"id\":\"f152b530-ef7f-4613-bf52-38d4e9c9e3e6\",\"type\":\"SaveTool\"},{\"attributes\":{},\"id\":\"e6a3ed1d-04f4-4af4-9637-db927f6a60f4\",\"type\":\"BasicTicker\"},{\"attributes\":{\"plot\":{\"id\":\"db579421-c231-41cf-976a-bb0643b89a79\",\"subtype\":\"Figure\",\"type\":\"Plot\"},\"ticker\":{\"id\":\"e6a3ed1d-04f4-4af4-9637-db927f6a60f4\",\"type\":\"BasicTicker\"}},\"id\":\"e0dca952-ce17-4f3a-960d-4c5ef74ca438\",\"type\":\"Grid\"},{\"attributes\":{},\"id\":\"92f864ef-663b-4b06-90b3-2eea07494f6d\",\"type\":\"LinearScale\"},{\"attributes\":{\"axis_label\":\"pressure [mb]\",\"formatter\":{\"id\":\"d03516f5-7003-4da6-9b93-f41882ebd50b\",\"type\":\"LogTickFormatter\"},\"plot\":{\"id\":\"db579421-c231-41cf-976a-bb0643b89a79\",\"subtype\":\"Figure\",\"type\":\"Plot\"},\"ticker\":{\"id\":\"e492bf92-73d4-4744-8333-9a80354e3c3f\",\"type\":\"LogTicker\"}},\"id\":\"77439daf-a67d-4f79-9b4e-d535c218f0ae\",\"type\":\"LogAxis\"},{\"attributes\":{},\"id\":\"beda1021-a723-4536-a2ab-ba21912b0c8b\",\"type\":\"WheelZoomTool\"},{\"attributes\":{\"dimension\":1,\"plot\":{\"id\":\"db579421-c231-41cf-976a-bb0643b89a79\",\"subtype\":\"Figure\",\"type\":\"Plot\"},\"ticker\":{\"id\":\"e492bf92-73d4-4744-8333-9a80354e3c3f\",\"type\":\"LogTicker\"}},\"id\":\"2be030f6-37ba-430d-9e1a-f96c4c199c74\",\"type\":\"Grid\"},{\"attributes\":{\"children\":[{\"id\":\"995093c6-967e-4f08-9c59-d76d125e6b25\",\"subtype\":\"Figure\",\"type\":\"Plot\"},{\"id\":\"db579421-c231-41cf-976a-bb0643b89a79\",\"subtype\":\"Figure\",\"type\":\"Plot\"}]},\"id\":\"a983a7c1-acd6-469d-8f26-55f280cc2b3b\",\"type\":\"Row\"},{\"attributes\":{\"bottom_units\":\"screen\",\"fill_alpha\":{\"value\":0.5},\"fill_color\":{\"value\":\"lightgrey\"},\"left_units\":\"screen\",\"level\":\"overlay\",\"line_alpha\":{\"value\":1.0},\"line_color\":{\"value\":\"black\"},\"line_dash\":[4,4],\"line_width\":{\"value\":2},\"plot\":null,\"render_mode\":\"css\",\"right_units\":\"screen\",\"top_units\":\"screen\"},\"id\":\"50885c04-9164-4bd6-91d9-9dae23b3a5fc\",\"type\":\"BoxAnnotation\"},{\"attributes\":{\"axis_label\":\"pressure [mb]\",\"formatter\":{\"id\":\"f099f1c6-d35c-4e8d-91cc-f15456c1bf8e\",\"type\":\"BasicTickFormatter\"},\"plot\":{\"id\":\"995093c6-967e-4f08-9c59-d76d125e6b25\",\"subtype\":\"Figure\",\"type\":\"Plot\"},\"ticker\":{\"id\":\"cfdd3d0d-1c1b-47bd-a4a9-365b4da322e4\",\"type\":\"BasicTicker\"}},\"id\":\"7c76a5e3-9c44-41de-8caf-d31ba6af6b55\",\"type\":\"LinearAxis\"},{\"attributes\":{\"num_minor_ticks\":10},\"id\":\"e492bf92-73d4-4744-8333-9a80354e3c3f\",\"type\":\"LogTicker\"},{\"attributes\":{},\"id\":\"8faf76d3-4a66-4529-b69a-0b52e0748b95\",\"type\":\"PanTool\"},{\"attributes\":{},\"id\":\"7dd80311-a46d-4fe8-a6f8-8d21293d6532\",\"type\":\"WheelZoomTool\"},{\"attributes\":{\"plot\":null,\"text\":\"Log pressure scale\"},\"id\":\"ddf9e04d-ea99-46a2-af2f-4bbfb0a1545f\",\"type\":\"Title\"},{\"attributes\":{},\"id\":\"7adcede1-2b75-4f60-880a-6da8159ead35\",\"type\":\"HelpTool\"},{\"attributes\":{\"data_source\":{\"id\":\"98c58e21-dd21-4b03-be1b-bf2fdc1218ec\",\"type\":\"ColumnDataSource\"},\"glyph\":{\"id\":\"86ca2233-5a3d-4ec2-a5ec-1b1839efcfa6\",\"type\":\"Circle\"},\"hover_glyph\":null,\"muted_glyph\":null,\"nonselection_glyph\":{\"id\":\"fd69cdda-8107-4d17-b8ae-5487861cf9dd\",\"type\":\"Circle\"},\"selection_glyph\":null,\"view\":{\"id\":\"2d6ce2cf-14ea-4d5c-bdfc-25ab7edbc01e\",\"type\":\"CDSView\"}},\"id\":\"a6497e15-a380-4e8d-9e08-ffb975b52820\",\"type\":\"GlyphRenderer\"},{\"attributes\":{\"data_source\":{\"id\":\"86ea72f2-4483-4177-9a83-91f50d2b45c9\",\"type\":\"ColumnDataSource\"},\"glyph\":{\"id\":\"a27d46a7-11db-4d5f-a36f-f0e6864d84f4\",\"type\":\"Line\"},\"hover_glyph\":null,\"muted_glyph\":null,\"nonselection_glyph\":{\"id\":\"f94013c7-0b0b-4e78-96e9-6faf315bd17c\",\"type\":\"Line\"},\"selection_glyph\":null,\"view\":{\"id\":\"45f5062e-4ffe-4d59-a013-51d40dcb7045\",\"type\":\"CDSView\"}},\"id\":\"b25bcdfd-00c0-4a8f-ad03-10a8b78b40f8\",\"type\":\"GlyphRenderer\"},{\"attributes\":{},\"id\":\"b5c7df3c-4868-48ba-adc1-b778d4e16d37\",\"type\":\"LinearScale\"},{\"attributes\":{\"label\":{\"value\":\"WGT igg=10 wgt_flux=2\"},\"renderers\":[{\"id\":\"14edad6d-c72a-4a0d-8d08-f89f6820da5c\",\"type\":\"GlyphRenderer\"},{\"id\":\"98c09931-019c-41c2-8326-b606c0843723\",\"type\":\"GlyphRenderer\"}]},\"id\":\"d4613ea7-f999-473f-9ef1-cd34f03d1aef\",\"type\":\"LegendItem\"},{\"attributes\":{},\"id\":\"5748f363-1afb-4597-8528-c7d7953ae9d7\",\"type\":\"BasicTicker\"},{\"attributes\":{\"axis_label\":\"cooling rate [K/day]\",\"formatter\":{\"id\":\"cbee1f5c-b887-4592-9d29-93789cc6321c\",\"type\":\"BasicTickFormatter\"},\"plot\":{\"id\":\"995093c6-967e-4f08-9c59-d76d125e6b25\",\"subtype\":\"Figure\",\"type\":\"Plot\"},\"ticker\":{\"id\":\"5748f363-1afb-4597-8528-c7d7953ae9d7\",\"type\":\"BasicTicker\"}},\"id\":\"dfa2f0c6-e302-4451-ab97-ba1e65f2fe2f\",\"type\":\"LinearAxis\"},{\"attributes\":{},\"id\":\"75f191ab-8337-4fc3-b440-7dc16477acc4\",\"type\":\"LinearScale\"},{\"attributes\":{\"fill_alpha\":{\"value\":0.1},\"fill_color\":{\"value\":\"#1f77b4\"},\"line_alpha\":{\"value\":0.1},\"line_color\":{\"value\":\"#1f77b4\"},\"x\":{\"field\":\"x\"},\"y\":{\"field\":\"y\"}},\"id\":\"fd69cdda-8107-4d17-b8ae-5487861cf9dd\",\"type\":\"Circle\"},{\"attributes\":{\"overlay\":{\"id\":\"f3fa0be4-8fdc-459f-9ae6-50c4315fe37a\",\"type\":\"BoxAnnotation\"}},\"id\":\"64f388ac-ee72-4845-82e0-2c9592f7e619\",\"type\":\"BoxZoomTool\"},{\"attributes\":{\"active_drag\":\"auto\",\"active_inspect\":\"auto\",\"active_scroll\":\"auto\",\"active_tap\":\"auto\",\"tools\":[{\"id\":\"8faf76d3-4a66-4529-b69a-0b52e0748b95\",\"type\":\"PanTool\"},{\"id\":\"7dd80311-a46d-4fe8-a6f8-8d21293d6532\",\"type\":\"WheelZoomTool\"},{\"id\":\"b7a19a3f-d121-417c-a7af-ffd72ea64b78\",\"type\":\"BoxZoomTool\"},{\"id\":\"15555c48-536e-43b0-be6b-5f49072d1737\",\"type\":\"SaveTool\"},{\"id\":\"5c161e19-2e3b-4ecf-9c51-fe20abbad0cc\",\"type\":\"ResetTool\"},{\"id\":\"7adcede1-2b75-4f60-880a-6da8159ead35\",\"type\":\"HelpTool\"}]},\"id\":\"3b6afd03-04b4-4169-80e7-b9ad6d300cf4\",\"type\":\"Toolbar\"},{\"attributes\":{\"bottom_units\":\"screen\",\"fill_alpha\":{\"value\":0.5},\"fill_color\":{\"value\":\"lightgrey\"},\"left_units\":\"screen\",\"level\":\"overlay\",\"line_alpha\":{\"value\":1.0},\"line_color\":{\"value\":\"black\"},\"line_dash\":[4,4],\"line_width\":{\"value\":2},\"plot\":null,\"render_mode\":\"css\",\"right_units\":\"screen\",\"top_units\":\"screen\"},\"id\":\"f3fa0be4-8fdc-459f-9ae6-50c4315fe37a\",\"type\":\"BoxAnnotation\"}],\"root_ids\":[\"79e59d0d-c1d1-4bcc-b38c-6120a4b0d51c\"]},\"title\":\"Bokeh Application\",\"version\":\"0.12.14\"}};\n",
       "  var render_items = [{\"docid\":\"2ea33e86-946a-4d26-b984-5e239f28f567\",\"elementid\":\"faa6d5e6-5092-4080-be2e-ce5b42d6fb19\",\"modelid\":\"79e59d0d-c1d1-4bcc-b38c-6120a4b0d51c\"}];\n",
       "  root.Bokeh.embed.embed_items_notebook(docs_json, render_items);\n",
       "\n",
       "  }\n",
       "  if (root.Bokeh !== undefined) {\n",
       "    embed_document(root);\n",
       "  } else {\n",
       "    var attempts = 0;\n",
       "    var timer = setInterval(function(root) {\n",
       "      if (root.Bokeh !== undefined) {\n",
       "        embed_document(root);\n",
       "        clearInterval(timer);\n",
       "      }\n",
       "      attempts++;\n",
       "      if (attempts > 100) {\n",
       "        console.log(\"Bokeh: ERROR: Unable to run BokehJS code because BokehJS library is missing\")\n",
       "        clearInterval(timer);\n",
       "      }\n",
       "    }, 10, root)\n",
       "  }\n",
       "})(window);"
      ],
      "application/vnd.bokehjs_exec.v0+json": ""
     },
     "metadata": {
      "application/vnd.bokehjs_exec.v0+json": {
       "id": "79e59d0d-c1d1-4bcc-b38c-6120a4b0d51c"
      }
     },
     "output_type": "display_data"
    },
    {
     "name": "stdout",
     "output_type": "stream",
     "text": [
      "FIGURE. Cooling rate profiles.\n"
     ]
    },
    {
     "data": {
      "text/html": [
       "<a id=\"Flux_Comparison\"></a>"
      ],
      "text/plain": [
       "<IPython.core.display.HTML object>"
      ]
     },
     "metadata": {},
     "output_type": "display_data"
    },
    {
     "data": {
      "text/markdown": [
       "# Flux Comparison"
      ],
      "text/plain": [
       "<IPython.core.display.Markdown object>"
      ]
     },
     "metadata": {},
     "output_type": "display_data"
    },
    {
     "data": {
      "text/html": [
       "<div>\n",
       "<style>\n",
       "    .dataframe thead tr:only-child th {\n",
       "        text-align: right;\n",
       "    }\n",
       "\n",
       "    .dataframe thead th {\n",
       "        text-align: left;\n",
       "    }\n",
       "\n",
       "    .dataframe tbody tr th {\n",
       "        vertical-align: top;\n",
       "    }\n",
       "</style>\n",
       "<table border=\"1\" class=\"dataframe\">\n",
       "  <thead>\n",
       "    <tr style=\"text-align: right;\">\n",
       "      <th></th>\n",
       "      <th></th>\n",
       "      <th>flug</th>\n",
       "      <th>fldg</th>\n",
       "      <th>fnetg</th>\n",
       "    </tr>\n",
       "    <tr>\n",
       "      <th>pressure</th>\n",
       "      <th>level</th>\n",
       "      <th></th>\n",
       "      <th></th>\n",
       "      <th></th>\n",
       "    </tr>\n",
       "  </thead>\n",
       "  <tbody>\n",
       "    <tr>\n",
       "      <th>0.0000</th>\n",
       "      <th>1</th>\n",
       "      <td>-29.999447</td>\n",
       "      <td>0.000000</td>\n",
       "      <td>-29.999447</td>\n",
       "    </tr>\n",
       "    <tr>\n",
       "      <th>1.0685</th>\n",
       "      <th>24</th>\n",
       "      <td>-29.998932</td>\n",
       "      <td>0.001912</td>\n",
       "      <td>-29.997019</td>\n",
       "    </tr>\n",
       "    <tr>\n",
       "      <th>1013.0000</th>\n",
       "      <th>76</th>\n",
       "      <td>-38.491735</td>\n",
       "      <td>35.869918</td>\n",
       "      <td>-2.621816</td>\n",
       "    </tr>\n",
       "  </tbody>\n",
       "</table>\n",
       "</div>"
      ],
      "text/plain": [
       "                      flug       fldg      fnetg\n",
       "pressure  level                                 \n",
       "0.0000    1     -29.999447   0.000000 -29.999447\n",
       "1.0685    24    -29.998932   0.001912 -29.997019\n",
       "1013.0000 76    -38.491735  35.869918  -2.621816"
      ]
     },
     "metadata": {},
     "output_type": "display_data"
    },
    {
     "name": "stdout",
     "output_type": "stream",
     "text": [
      "Table. Fluxes. WGT igg=10 wgt_flux=1\n"
     ]
    },
    {
     "data": {
      "text/html": [
       "<div>\n",
       "<style>\n",
       "    .dataframe thead tr:only-child th {\n",
       "        text-align: right;\n",
       "    }\n",
       "\n",
       "    .dataframe thead th {\n",
       "        text-align: left;\n",
       "    }\n",
       "\n",
       "    .dataframe tbody tr th {\n",
       "        vertical-align: top;\n",
       "    }\n",
       "</style>\n",
       "<table border=\"1\" class=\"dataframe\">\n",
       "  <thead>\n",
       "    <tr style=\"text-align: right;\">\n",
       "      <th></th>\n",
       "      <th></th>\n",
       "      <th>flug</th>\n",
       "      <th>fldg</th>\n",
       "      <th>fnetg</th>\n",
       "    </tr>\n",
       "    <tr>\n",
       "      <th>pressure</th>\n",
       "      <th>level</th>\n",
       "      <th></th>\n",
       "      <th></th>\n",
       "      <th></th>\n",
       "    </tr>\n",
       "  </thead>\n",
       "  <tbody>\n",
       "    <tr>\n",
       "      <th>0.0000</th>\n",
       "      <th>1</th>\n",
       "      <td>-30.009778</td>\n",
       "      <td>0.000000</td>\n",
       "      <td>-30.009778</td>\n",
       "    </tr>\n",
       "    <tr>\n",
       "      <th>1.0685</th>\n",
       "      <th>24</th>\n",
       "      <td>-30.009411</td>\n",
       "      <td>0.002207</td>\n",
       "      <td>-30.007204</td>\n",
       "    </tr>\n",
       "    <tr>\n",
       "      <th>1013.0000</th>\n",
       "      <th>76</th>\n",
       "      <td>-38.491734</td>\n",
       "      <td>35.831584</td>\n",
       "      <td>-2.660150</td>\n",
       "    </tr>\n",
       "  </tbody>\n",
       "</table>\n",
       "</div>"
      ],
      "text/plain": [
       "                      flug       fldg      fnetg\n",
       "pressure  level                                 \n",
       "0.0000    1     -30.009778   0.000000 -30.009778\n",
       "1.0685    24    -30.009411   0.002207 -30.007204\n",
       "1013.0000 76    -38.491734  35.831584  -2.660150"
      ]
     },
     "metadata": {},
     "output_type": "display_data"
    },
    {
     "name": "stdout",
     "output_type": "stream",
     "text": [
      "Table. Fluxes. CRD\n"
     ]
    },
    {
     "data": {
      "text/html": [
       "<div>\n",
       "<style>\n",
       "    .dataframe thead tr:only-child th {\n",
       "        text-align: right;\n",
       "    }\n",
       "\n",
       "    .dataframe thead th {\n",
       "        text-align: left;\n",
       "    }\n",
       "\n",
       "    .dataframe tbody tr th {\n",
       "        vertical-align: top;\n",
       "    }\n",
       "</style>\n",
       "<table border=\"1\" class=\"dataframe\">\n",
       "  <thead>\n",
       "    <tr style=\"text-align: right;\">\n",
       "      <th></th>\n",
       "      <th></th>\n",
       "      <th>flug</th>\n",
       "      <th>fldg</th>\n",
       "      <th>fnetg</th>\n",
       "    </tr>\n",
       "    <tr>\n",
       "      <th>pressure</th>\n",
       "      <th>level</th>\n",
       "      <th></th>\n",
       "      <th></th>\n",
       "      <th></th>\n",
       "    </tr>\n",
       "  </thead>\n",
       "  <tbody>\n",
       "    <tr>\n",
       "      <th>1.000000e-08</th>\n",
       "      <th>1</th>\n",
       "      <td>-30.078402</td>\n",
       "      <td>0.000002</td>\n",
       "      <td>-30.078400</td>\n",
       "    </tr>\n",
       "    <tr>\n",
       "      <th>1.068500e+00</th>\n",
       "      <th>24</th>\n",
       "      <td>-30.077808</td>\n",
       "      <td>0.001899</td>\n",
       "      <td>-30.075909</td>\n",
       "    </tr>\n",
       "    <tr>\n",
       "      <th>1.013000e+03</th>\n",
       "      <th>76</th>\n",
       "      <td>-38.491730</td>\n",
       "      <td>36.230015</td>\n",
       "      <td>-2.261715</td>\n",
       "    </tr>\n",
       "  </tbody>\n",
       "</table>\n",
       "</div>"
      ],
      "text/plain": [
       "                         flug       fldg      fnetg\n",
       "pressure     level                                 \n",
       "1.000000e-08 1     -30.078402   0.000002 -30.078400\n",
       "1.068500e+00 24    -30.077808   0.001899 -30.075909\n",
       "1.013000e+03 76    -38.491730  36.230015  -2.261715"
      ]
     },
     "metadata": {},
     "output_type": "display_data"
    },
    {
     "name": "stdout",
     "output_type": "stream",
     "text": [
      "Table. Fluxes. CLIRAD\n"
     ]
    },
    {
     "data": {
      "text/html": [
       "<div>\n",
       "<style>\n",
       "    .dataframe thead tr:only-child th {\n",
       "        text-align: right;\n",
       "    }\n",
       "\n",
       "    .dataframe thead th {\n",
       "        text-align: left;\n",
       "    }\n",
       "\n",
       "    .dataframe tbody tr th {\n",
       "        vertical-align: top;\n",
       "    }\n",
       "</style>\n",
       "<table border=\"1\" class=\"dataframe\">\n",
       "  <thead>\n",
       "    <tr style=\"text-align: right;\">\n",
       "      <th></th>\n",
       "      <th></th>\n",
       "      <th>flug</th>\n",
       "      <th>fldg</th>\n",
       "      <th>fnetg</th>\n",
       "    </tr>\n",
       "    <tr>\n",
       "      <th>pressure</th>\n",
       "      <th>level</th>\n",
       "      <th></th>\n",
       "      <th></th>\n",
       "      <th></th>\n",
       "    </tr>\n",
       "  </thead>\n",
       "  <tbody>\n",
       "    <tr>\n",
       "      <th>0.0000</th>\n",
       "      <th>1</th>\n",
       "      <td>-1.033057e-02</td>\n",
       "      <td>0.000000</td>\n",
       "      <td>-0.010331</td>\n",
       "    </tr>\n",
       "    <tr>\n",
       "      <th>1.0685</th>\n",
       "      <th>24</th>\n",
       "      <td>-1.047910e-02</td>\n",
       "      <td>0.000295</td>\n",
       "      <td>-0.010185</td>\n",
       "    </tr>\n",
       "    <tr>\n",
       "      <th>1013.0000</th>\n",
       "      <th>76</th>\n",
       "      <td>5.600000e-07</td>\n",
       "      <td>-0.038334</td>\n",
       "      <td>-0.038334</td>\n",
       "    </tr>\n",
       "  </tbody>\n",
       "</table>\n",
       "</div>"
      ],
      "text/plain": [
       "                         flug      fldg     fnetg\n",
       "pressure  level                                  \n",
       "0.0000    1     -1.033057e-02  0.000000 -0.010331\n",
       "1.0685    24    -1.047910e-02  0.000295 -0.010185\n",
       "1013.0000 76     5.600000e-07 -0.038334 -0.038334"
      ]
     },
     "metadata": {},
     "output_type": "display_data"
    },
    {
     "name": "stdout",
     "output_type": "stream",
     "text": [
      "Table. Fluxes. (CRD) - (WGT igg=10 wgt_flux=1)\n"
     ]
    },
    {
     "data": {
      "text/html": [
       "<div>\n",
       "<style>\n",
       "    .dataframe thead tr:only-child th {\n",
       "        text-align: right;\n",
       "    }\n",
       "\n",
       "    .dataframe thead th {\n",
       "        text-align: left;\n",
       "    }\n",
       "\n",
       "    .dataframe tbody tr th {\n",
       "        vertical-align: top;\n",
       "    }\n",
       "</style>\n",
       "<table border=\"1\" class=\"dataframe\">\n",
       "  <thead>\n",
       "    <tr style=\"text-align: right;\">\n",
       "      <th></th>\n",
       "      <th></th>\n",
       "      <th>flug</th>\n",
       "      <th>fldg</th>\n",
       "      <th>fnetg</th>\n",
       "    </tr>\n",
       "    <tr>\n",
       "      <th>pressure</th>\n",
       "      <th>level</th>\n",
       "      <th></th>\n",
       "      <th></th>\n",
       "      <th></th>\n",
       "    </tr>\n",
       "  </thead>\n",
       "  <tbody>\n",
       "    <tr>\n",
       "      <th>0.0000</th>\n",
       "      <th>1</th>\n",
       "      <td>-0.078955</td>\n",
       "      <td>0.000002</td>\n",
       "      <td>-0.078953</td>\n",
       "    </tr>\n",
       "    <tr>\n",
       "      <th>1.0685</th>\n",
       "      <th>24</th>\n",
       "      <td>-0.078876</td>\n",
       "      <td>-0.000014</td>\n",
       "      <td>-0.078890</td>\n",
       "    </tr>\n",
       "    <tr>\n",
       "      <th>1013.0000</th>\n",
       "      <th>76</th>\n",
       "      <td>0.000005</td>\n",
       "      <td>0.360097</td>\n",
       "      <td>0.360101</td>\n",
       "    </tr>\n",
       "  </tbody>\n",
       "</table>\n",
       "</div>"
      ],
      "text/plain": [
       "                     flug      fldg     fnetg\n",
       "pressure  level                              \n",
       "0.0000    1     -0.078955  0.000002 -0.078953\n",
       "1.0685    24    -0.078876 -0.000014 -0.078890\n",
       "1013.0000 76     0.000005  0.360097  0.360101"
      ]
     },
     "metadata": {},
     "output_type": "display_data"
    },
    {
     "name": "stdout",
     "output_type": "stream",
     "text": [
      "Table. Fluxes. (CLIRAD) - (WGT igg=10 wgt_flux=1)\n"
     ]
    },
    {
     "data": {
      "text/html": [
       "<a id=\"Best-fit_Parameters\"></a>"
      ],
      "text/plain": [
       "<IPython.core.display.HTML object>"
      ]
     },
     "metadata": {},
     "output_type": "display_data"
    },
    {
     "data": {
      "text/markdown": [
       "# Best-fit Parameters"
      ],
      "text/plain": [
       "<IPython.core.display.Markdown object>"
      ]
     },
     "metadata": {},
     "output_type": "display_data"
    },
    {
     "name": "stdout",
     "output_type": "stream",
     "text": [
      "Best-fit values for each (gas, band)\n",
      "------------------------------------\n",
      "o h2o band3a\n",
      "  atmpro = mls\n",
      "  band = 3a\n",
      "  commitnumber = 2bd1f75\n",
      "  conc = None\n",
      "  dv = 0.01\n",
      "  klin = 0\n",
      "  molecule = h2o\n",
      "  ng_adju = [0, 0]\n",
      "  ng_refs = [2, 6]\n",
      "  nv = 100\n",
      "  option_compute_btable = 0\n",
      "  option_compute_ktable = 1\n",
      "  option_wgt_flux = 1\n",
      "  option_wgt_k = 1\n",
      "  ref_pts = [(10, 250), (600, 250)]\n",
      "  tsfc = 294\n",
      "  vmax = 620\n",
      "  vmin = 540\n",
      "  w_diffuse = [(1.9, 1.7), (1.4, 1.4, 1.4, 1.55, 1.6, 1.66)]\n",
      "  wgt = [(0.7, 0.7), (0.7, 0.5, 0.5, 0.5, 0.5, 0.5)]\n"
     ]
    }
   ],
   "source": [
    "script()"
   ]
  },
  {
   "cell_type": "code",
   "execution_count": 13,
   "metadata": {
    "collapsed": true
   },
   "outputs": [
    {
     "data": {
      "text/html": [
       "<script>\n",
       "code_show=true; \n",
       "function code_toggle() {\n",
       " if (code_show){\n",
       " $('div.input').hide();\n",
       " } else {\n",
       " $('div.input').show();\n",
       " }\n",
       " code_show = !code_show\n",
       "} \n",
       "$( document ).ready(code_toggle);\n",
       "</script>\n",
       "<form action=\"javascript:code_toggle()\"><input type=\"submit\" value=\"Click here to toggle on/off the raw code.\"></form>"
      ],
      "text/plain": [
       "<IPython.core.display.HTML object>"
      ]
     },
     "execution_count": 13,
     "metadata": {},
     "output_type": "execute_result"
    }
   ],
   "source": [
    "display.HTML('''<script>\n",
    "code_show=true; \n",
    "function code_toggle() {\n",
    " if (code_show){\n",
    " $('div.input').hide();\n",
    " } else {\n",
    " $('div.input').show();\n",
    " }\n",
    " code_show = !code_show\n",
    "} \n",
    "$( document ).ready(code_toggle);\n",
    "</script>\n",
    "<form action=\"javascript:code_toggle()\"><input type=\"submit\" value=\"Click here to toggle on/off the raw code.\"></form>''')"
   ]
  }
 ],
 "metadata": {
  "kernelspec": {
   "display_name": "Python 3",
   "language": "python",
   "name": "python3"
  },
  "language_info": {
   "codemirror_mode": {
    "name": "ipython",
    "version": 3
   },
   "file_extension": ".py",
   "mimetype": "text/x-python",
   "name": "python",
   "nbconvert_exporter": "python",
   "pygments_lexer": "ipython3",
   "version": "3.6.1"
  }
 },
 "nbformat": 4,
 "nbformat_minor": 2
}
