{
 "cells": [
  {
   "cell_type": "code",
   "execution_count": 1,
   "metadata": {
    "collapsed": true
   },
   "outputs": [],
   "source": [
    "%matplotlib inline\n",
    "import os\n",
    "import re\n",
    "import io\n",
    "import itertools\n",
    "import pprint\n",
    "\n",
    "from bokeh.io import output_notebook, show\n",
    "from bokeh.layouts import gridplot\n",
    "from bokeh.plotting import figure\n",
    "from bokeh.models import Range1d, Legend\n",
    "from bokeh.palettes import all_palettes\n",
    "\n",
    "import matplotlib\n",
    "import matplotlib.pyplot as plt\n",
    "import numpy as np\n",
    "import pandas as pd\n",
    "import xarray as xr\n",
    "\n",
    "import climatools.lblnew.bestfit_params as bestfits\n",
    "from climatools.lblnew import setup_bestfit, setup_overlap\n",
    "import climatools.lblnew.pipeline as pipe_lblnew\n",
    "import climatools.cliradlw.setup as setup_cliradlw\n",
    "import climatools.cliradlw.pipeline as pipe_cliradlw\n",
    "\n",
    "import climatools.html.html as climahtml\n",
    "from climatools.lblnew.dataio import *\n",
    "from climatools.plot.plot import *\n",
    "\n",
    "\n",
    "import IPython.display as display"
   ]
  },
  {
   "cell_type": "code",
   "execution_count": 2,
   "metadata": {
    "collapsed": true
   },
   "outputs": [],
   "source": [
    "%run param.py"
   ]
  },
  {
   "cell_type": "code",
   "execution_count": 3,
   "metadata": {
    "collapsed": true
   },
   "outputs": [],
   "source": [
    "def load_output_file(path_csv):\n",
    "    '''\n",
    "    Load lblnew output .csv file to xarray.Dataset\n",
    "    \n",
    "    Parameters\n",
    "    ----------\n",
    "    path_csv: str\n",
    "              Path to the .csv file to be loaded.\n",
    "    ds: xarray.Dataset\n",
    "        Data in the input file in the form of an xarray.Dataset.\n",
    "    '''\n",
    "    toindex = ['band', 'pressure', 'igg', 'g']    \n",
    "    df = pd.read_csv(path_csv, sep=r'\\s+')\n",
    "    df = df.set_index([i for i in toindex if i in df.columns])\n",
    "    df = df.rename(columns={'sfu': 'flug',\n",
    "                            'sfd': 'fldg',\n",
    "                            'fnet': 'fnetg',\n",
    "                            'coolr': 'coolrg'})\n",
    "    ds = xr.Dataset.from_dataframe(df)\n",
    "\n",
    "    for l in ('level', 'layer'):\n",
    "        if l in ds.data_vars:\n",
    "            if len(ds[l].dims) > 1:\n",
    "                surface = {d: 0 for d in ds.dims if d != 'pressure'}\n",
    "                coord_level = ds[l][surface]\n",
    "                ds.coords[l] = ('pressure', coord_level)\n",
    "            else:\n",
    "                ds.coords[l] = ('pressure', ds[l])\n",
    "    \n",
    "    return ds"
   ]
  },
  {
   "cell_type": "code",
   "execution_count": 4,
   "metadata": {
    "collapsed": true
   },
   "outputs": [],
   "source": [
    "def lblnew_setup(param=None):\n",
    "    if 'ng_refs' in param:\n",
    "        return {'setup': setup_bestfit,\n",
    "                'fname_flux_crd': 'output_flux.dat',\n",
    "                'fname_cool_crd': 'output_coolr.dat',\n",
    "                'fname_flux_wgt': 'output_wfluxg.dat',\n",
    "                'fname_cool_wgt': 'output_wcoolrg.dat'}\n",
    "    else:\n",
    "        return {'setup': setup_overlap,\n",
    "                'fname_flux_crd': 'output_flux.dat',\n",
    "                'fname_cool_crd': 'output_coolr.dat',\n",
    "                'fname_flux_wgt': 'output_wflux.dat',\n",
    "                'fname_cool_wgt': 'output_wcoolr.dat'}\n",
    "\n",
    "    \n",
    "def load_lblnew_data(param):\n",
    "    \n",
    "    fname_dsname = [('fname_flux_crd', 'ds_flux_crd'),\n",
    "                    ('fname_cool_crd', 'ds_cool_crd'),\n",
    "                    ('fname_flux_wgt', 'ds_flux_wgt'),\n",
    "                    ('fname_cool_wgt', 'ds_cool_wgt')]\n",
    "    \n",
    "    d = lblnew_setup(param)\n",
    "    dir_fortran = pipe_lblnew.get_dir_case(param, setup=d['setup'])\n",
    "    \n",
    "    data_dict = {}\n",
    "    for fname, dsname in fname_dsname:\n",
    "        fpath = os.path.join(dir_fortran, d[fname])\n",
    "        data_dict[dsname] = load_output_file(fpath)\n",
    "    return data_dict\n",
    "    \n",
    "\n",
    "    \n",
    "    "
   ]
  },
  {
   "cell_type": "code",
   "execution_count": 5,
   "metadata": {
    "collapsed": true
   },
   "outputs": [],
   "source": [
    "d = load_lblnew_data(PARAM_LBLNEW)\n",
    "\n",
    "DS_FLUX_CRD = d['ds_flux_crd']\n",
    "DS_COOL_CRD = d['ds_cool_crd']\n",
    "DS_FLUX_WGT = d['ds_flux_wgt']\n",
    "DS_COOL_WGT = d['ds_cool_wgt']"
   ]
  },
  {
   "cell_type": "code",
   "execution_count": 6,
   "metadata": {
    "collapsed": true
   },
   "outputs": [],
   "source": [
    "DIR_FORTRAN = pipe_cliradlw.get_fortran_dir(PARAM, \n",
    "                                            setup=setup_cliradlw)\n",
    "\n",
    "PATH_FLUX = os.path.join(DIR_FORTRAN, 'output_flux.dat')\n",
    "PATH_COOL = os.path.join(DIR_FORTRAN, 'output_coolr.dat')\n",
    "\n",
    "DS_FLUX = load_output_file(PATH_FLUX)\n",
    "DS_COOL = load_output_file(PATH_COOL)"
   ]
  },
  {
   "cell_type": "code",
   "execution_count": 7,
   "metadata": {
    "collapsed": true
   },
   "outputs": [
    {
     "data": {
      "text/html": [
       "\n",
       "    <div class=\"bk-root\">\n",
       "        <a href=\"https://bokeh.pydata.org\" target=\"_blank\" class=\"bk-logo bk-logo-small bk-logo-notebook\"></a>\n",
       "        <span id=\"53c467bf-82ff-4307-ae3b-76af7ae73990\">Loading BokehJS ...</span>\n",
       "    </div>"
      ]
     },
     "metadata": {},
     "output_type": "display_data"
    },
    {
     "data": {
      "application/javascript": [
       "\n",
       "(function(root) {\n",
       "  function now() {\n",
       "    return new Date();\n",
       "  }\n",
       "\n",
       "  var force = true;\n",
       "\n",
       "  if (typeof (root._bokeh_onload_callbacks) === \"undefined\" || force === true) {\n",
       "    root._bokeh_onload_callbacks = [];\n",
       "    root._bokeh_is_loading = undefined;\n",
       "  }\n",
       "\n",
       "  var JS_MIME_TYPE = 'application/javascript';\n",
       "  var HTML_MIME_TYPE = 'text/html';\n",
       "  var EXEC_MIME_TYPE = 'application/vnd.bokehjs_exec.v0+json';\n",
       "  var CLASS_NAME = 'output_bokeh rendered_html';\n",
       "\n",
       "  /**\n",
       "   * Render data to the DOM node\n",
       "   */\n",
       "  function render(props, node) {\n",
       "    var script = document.createElement(\"script\");\n",
       "    node.appendChild(script);\n",
       "  }\n",
       "\n",
       "  /**\n",
       "   * Handle when an output is cleared or removed\n",
       "   */\n",
       "  function handleClearOutput(event, handle) {\n",
       "    var cell = handle.cell;\n",
       "\n",
       "    var id = cell.output_area._bokeh_element_id;\n",
       "    var server_id = cell.output_area._bokeh_server_id;\n",
       "    // Clean up Bokeh references\n",
       "    if (id !== undefined) {\n",
       "      Bokeh.index[id].model.document.clear();\n",
       "      delete Bokeh.index[id];\n",
       "    }\n",
       "\n",
       "    if (server_id !== undefined) {\n",
       "      // Clean up Bokeh references\n",
       "      var cmd = \"from bokeh.io.state import curstate; print(curstate().uuid_to_server['\" + server_id + \"'].get_sessions()[0].document.roots[0]._id)\";\n",
       "      cell.notebook.kernel.execute(cmd, {\n",
       "        iopub: {\n",
       "          output: function(msg) {\n",
       "            var element_id = msg.content.text.trim();\n",
       "            Bokeh.index[element_id].model.document.clear();\n",
       "            delete Bokeh.index[element_id];\n",
       "          }\n",
       "        }\n",
       "      });\n",
       "      // Destroy server and session\n",
       "      var cmd = \"import bokeh.io.notebook as ion; ion.destroy_server('\" + server_id + \"')\";\n",
       "      cell.notebook.kernel.execute(cmd);\n",
       "    }\n",
       "  }\n",
       "\n",
       "  /**\n",
       "   * Handle when a new output is added\n",
       "   */\n",
       "  function handleAddOutput(event, handle) {\n",
       "    var output_area = handle.output_area;\n",
       "    var output = handle.output;\n",
       "\n",
       "    // limit handleAddOutput to display_data with EXEC_MIME_TYPE content only\n",
       "    if ((output.output_type != \"display_data\") || (!output.data.hasOwnProperty(EXEC_MIME_TYPE))) {\n",
       "      return\n",
       "    }\n",
       "\n",
       "    var toinsert = output_area.element.find(\".\" + CLASS_NAME.split(' ')[0]);\n",
       "\n",
       "    if (output.metadata[EXEC_MIME_TYPE][\"id\"] !== undefined) {\n",
       "      toinsert[0].firstChild.textContent = output.data[JS_MIME_TYPE];\n",
       "      // store reference to embed id on output_area\n",
       "      output_area._bokeh_element_id = output.metadata[EXEC_MIME_TYPE][\"id\"];\n",
       "    }\n",
       "    if (output.metadata[EXEC_MIME_TYPE][\"server_id\"] !== undefined) {\n",
       "      var bk_div = document.createElement(\"div\");\n",
       "      bk_div.innerHTML = output.data[HTML_MIME_TYPE];\n",
       "      var script_attrs = bk_div.children[0].attributes;\n",
       "      for (var i = 0; i < script_attrs.length; i++) {\n",
       "        toinsert[0].firstChild.setAttribute(script_attrs[i].name, script_attrs[i].value);\n",
       "      }\n",
       "      // store reference to server id on output_area\n",
       "      output_area._bokeh_server_id = output.metadata[EXEC_MIME_TYPE][\"server_id\"];\n",
       "    }\n",
       "  }\n",
       "\n",
       "  function register_renderer(events, OutputArea) {\n",
       "\n",
       "    function append_mime(data, metadata, element) {\n",
       "      // create a DOM node to render to\n",
       "      var toinsert = this.create_output_subarea(\n",
       "        metadata,\n",
       "        CLASS_NAME,\n",
       "        EXEC_MIME_TYPE\n",
       "      );\n",
       "      this.keyboard_manager.register_events(toinsert);\n",
       "      // Render to node\n",
       "      var props = {data: data, metadata: metadata[EXEC_MIME_TYPE]};\n",
       "      render(props, toinsert[0]);\n",
       "      element.append(toinsert);\n",
       "      return toinsert\n",
       "    }\n",
       "\n",
       "    /* Handle when an output is cleared or removed */\n",
       "    events.on('clear_output.CodeCell', handleClearOutput);\n",
       "    events.on('delete.Cell', handleClearOutput);\n",
       "\n",
       "    /* Handle when a new output is added */\n",
       "    events.on('output_added.OutputArea', handleAddOutput);\n",
       "\n",
       "    /**\n",
       "     * Register the mime type and append_mime function with output_area\n",
       "     */\n",
       "    OutputArea.prototype.register_mime_type(EXEC_MIME_TYPE, append_mime, {\n",
       "      /* Is output safe? */\n",
       "      safe: true,\n",
       "      /* Index of renderer in `output_area.display_order` */\n",
       "      index: 0\n",
       "    });\n",
       "  }\n",
       "\n",
       "  // register the mime type if in Jupyter Notebook environment and previously unregistered\n",
       "  if (root.Jupyter !== undefined) {\n",
       "    var events = require('base/js/events');\n",
       "    var OutputArea = require('notebook/js/outputarea').OutputArea;\n",
       "\n",
       "    if (OutputArea.prototype.mime_types().indexOf(EXEC_MIME_TYPE) == -1) {\n",
       "      register_renderer(events, OutputArea);\n",
       "    }\n",
       "  }\n",
       "\n",
       "  \n",
       "  if (typeof (root._bokeh_timeout) === \"undefined\" || force === true) {\n",
       "    root._bokeh_timeout = Date.now() + 5000;\n",
       "    root._bokeh_failed_load = false;\n",
       "  }\n",
       "\n",
       "  var NB_LOAD_WARNING = {'data': {'text/html':\n",
       "     \"<div style='background-color: #fdd'>\\n\"+\n",
       "     \"<p>\\n\"+\n",
       "     \"BokehJS does not appear to have successfully loaded. If loading BokehJS from CDN, this \\n\"+\n",
       "     \"may be due to a slow or bad network connection. Possible fixes:\\n\"+\n",
       "     \"</p>\\n\"+\n",
       "     \"<ul>\\n\"+\n",
       "     \"<li>re-rerun `output_notebook()` to attempt to load from CDN again, or</li>\\n\"+\n",
       "     \"<li>use INLINE resources instead, as so:</li>\\n\"+\n",
       "     \"</ul>\\n\"+\n",
       "     \"<code>\\n\"+\n",
       "     \"from bokeh.resources import INLINE\\n\"+\n",
       "     \"output_notebook(resources=INLINE)\\n\"+\n",
       "     \"</code>\\n\"+\n",
       "     \"</div>\"}};\n",
       "\n",
       "  function display_loaded() {\n",
       "    var el = document.getElementById(\"53c467bf-82ff-4307-ae3b-76af7ae73990\");\n",
       "    if (el != null) {\n",
       "      el.textContent = \"BokehJS is loading...\";\n",
       "    }\n",
       "    if (root.Bokeh !== undefined) {\n",
       "      if (el != null) {\n",
       "        el.textContent = \"BokehJS \" + root.Bokeh.version + \" successfully loaded.\";\n",
       "      }\n",
       "    } else if (Date.now() < root._bokeh_timeout) {\n",
       "      setTimeout(display_loaded, 100)\n",
       "    }\n",
       "  }\n",
       "\n",
       "\n",
       "  function run_callbacks() {\n",
       "    try {\n",
       "      root._bokeh_onload_callbacks.forEach(function(callback) { callback() });\n",
       "    }\n",
       "    finally {\n",
       "      delete root._bokeh_onload_callbacks\n",
       "    }\n",
       "    console.info(\"Bokeh: all callbacks have finished\");\n",
       "  }\n",
       "\n",
       "  function load_libs(js_urls, callback) {\n",
       "    root._bokeh_onload_callbacks.push(callback);\n",
       "    if (root._bokeh_is_loading > 0) {\n",
       "      console.log(\"Bokeh: BokehJS is being loaded, scheduling callback at\", now());\n",
       "      return null;\n",
       "    }\n",
       "    if (js_urls == null || js_urls.length === 0) {\n",
       "      run_callbacks();\n",
       "      return null;\n",
       "    }\n",
       "    console.log(\"Bokeh: BokehJS not loaded, scheduling load and callback at\", now());\n",
       "    root._bokeh_is_loading = js_urls.length;\n",
       "    for (var i = 0; i < js_urls.length; i++) {\n",
       "      var url = js_urls[i];\n",
       "      var s = document.createElement('script');\n",
       "      s.src = url;\n",
       "      s.async = false;\n",
       "      s.onreadystatechange = s.onload = function() {\n",
       "        root._bokeh_is_loading--;\n",
       "        if (root._bokeh_is_loading === 0) {\n",
       "          console.log(\"Bokeh: all BokehJS libraries loaded\");\n",
       "          run_callbacks()\n",
       "        }\n",
       "      };\n",
       "      s.onerror = function() {\n",
       "        console.warn(\"failed to load library \" + url);\n",
       "      };\n",
       "      console.log(\"Bokeh: injecting script tag for BokehJS library: \", url);\n",
       "      document.getElementsByTagName(\"head\")[0].appendChild(s);\n",
       "    }\n",
       "  };var element = document.getElementById(\"53c467bf-82ff-4307-ae3b-76af7ae73990\");\n",
       "  if (element == null) {\n",
       "    console.log(\"Bokeh: ERROR: autoload.js configured with elementid '53c467bf-82ff-4307-ae3b-76af7ae73990' but no matching script tag was found. \")\n",
       "    return false;\n",
       "  }\n",
       "\n",
       "  var js_urls = [\"https://cdn.pydata.org/bokeh/release/bokeh-0.12.14.min.js\", \"https://cdn.pydata.org/bokeh/release/bokeh-widgets-0.12.14.min.js\", \"https://cdn.pydata.org/bokeh/release/bokeh-tables-0.12.14.min.js\", \"https://cdn.pydata.org/bokeh/release/bokeh-gl-0.12.14.min.js\"];\n",
       "\n",
       "  var inline_js = [\n",
       "    function(Bokeh) {\n",
       "      Bokeh.set_log_level(\"info\");\n",
       "    },\n",
       "    \n",
       "    function(Bokeh) {\n",
       "      \n",
       "    },\n",
       "    function(Bokeh) {\n",
       "      console.log(\"Bokeh: injecting CSS: https://cdn.pydata.org/bokeh/release/bokeh-0.12.14.min.css\");\n",
       "      Bokeh.embed.inject_css(\"https://cdn.pydata.org/bokeh/release/bokeh-0.12.14.min.css\");\n",
       "      console.log(\"Bokeh: injecting CSS: https://cdn.pydata.org/bokeh/release/bokeh-widgets-0.12.14.min.css\");\n",
       "      Bokeh.embed.inject_css(\"https://cdn.pydata.org/bokeh/release/bokeh-widgets-0.12.14.min.css\");\n",
       "      console.log(\"Bokeh: injecting CSS: https://cdn.pydata.org/bokeh/release/bokeh-tables-0.12.14.min.css\");\n",
       "      Bokeh.embed.inject_css(\"https://cdn.pydata.org/bokeh/release/bokeh-tables-0.12.14.min.css\");\n",
       "    }\n",
       "  ];\n",
       "\n",
       "  function run_inline_js() {\n",
       "    \n",
       "    if ((root.Bokeh !== undefined) || (force === true)) {\n",
       "      for (var i = 0; i < inline_js.length; i++) {\n",
       "        inline_js[i].call(root, root.Bokeh);\n",
       "      }if (force === true) {\n",
       "        display_loaded();\n",
       "      }} else if (Date.now() < root._bokeh_timeout) {\n",
       "      setTimeout(run_inline_js, 100);\n",
       "    } else if (!root._bokeh_failed_load) {\n",
       "      console.log(\"Bokeh: BokehJS failed to load within specified timeout.\");\n",
       "      root._bokeh_failed_load = true;\n",
       "    } else if (force !== true) {\n",
       "      var cell = $(document.getElementById(\"53c467bf-82ff-4307-ae3b-76af7ae73990\")).parents('.cell').data().cell;\n",
       "      cell.output_area.append_execute_result(NB_LOAD_WARNING)\n",
       "    }\n",
       "\n",
       "  }\n",
       "\n",
       "  if (root._bokeh_is_loading === 0) {\n",
       "    console.log(\"Bokeh: BokehJS loaded, going straight to plotting\");\n",
       "    run_inline_js();\n",
       "  } else {\n",
       "    load_libs(js_urls, function() {\n",
       "      console.log(\"Bokeh: BokehJS plotting callback run at\", now());\n",
       "      run_inline_js();\n",
       "    });\n",
       "  }\n",
       "}(window));"
      ],
      "application/vnd.bokehjs_load.v0+json": "\n(function(root) {\n  function now() {\n    return new Date();\n  }\n\n  var force = true;\n\n  if (typeof (root._bokeh_onload_callbacks) === \"undefined\" || force === true) {\n    root._bokeh_onload_callbacks = [];\n    root._bokeh_is_loading = undefined;\n  }\n\n  \n\n  \n  if (typeof (root._bokeh_timeout) === \"undefined\" || force === true) {\n    root._bokeh_timeout = Date.now() + 5000;\n    root._bokeh_failed_load = false;\n  }\n\n  var NB_LOAD_WARNING = {'data': {'text/html':\n     \"<div style='background-color: #fdd'>\\n\"+\n     \"<p>\\n\"+\n     \"BokehJS does not appear to have successfully loaded. If loading BokehJS from CDN, this \\n\"+\n     \"may be due to a slow or bad network connection. Possible fixes:\\n\"+\n     \"</p>\\n\"+\n     \"<ul>\\n\"+\n     \"<li>re-rerun `output_notebook()` to attempt to load from CDN again, or</li>\\n\"+\n     \"<li>use INLINE resources instead, as so:</li>\\n\"+\n     \"</ul>\\n\"+\n     \"<code>\\n\"+\n     \"from bokeh.resources import INLINE\\n\"+\n     \"output_notebook(resources=INLINE)\\n\"+\n     \"</code>\\n\"+\n     \"</div>\"}};\n\n  function display_loaded() {\n    var el = document.getElementById(\"53c467bf-82ff-4307-ae3b-76af7ae73990\");\n    if (el != null) {\n      el.textContent = \"BokehJS is loading...\";\n    }\n    if (root.Bokeh !== undefined) {\n      if (el != null) {\n        el.textContent = \"BokehJS \" + root.Bokeh.version + \" successfully loaded.\";\n      }\n    } else if (Date.now() < root._bokeh_timeout) {\n      setTimeout(display_loaded, 100)\n    }\n  }\n\n\n  function run_callbacks() {\n    try {\n      root._bokeh_onload_callbacks.forEach(function(callback) { callback() });\n    }\n    finally {\n      delete root._bokeh_onload_callbacks\n    }\n    console.info(\"Bokeh: all callbacks have finished\");\n  }\n\n  function load_libs(js_urls, callback) {\n    root._bokeh_onload_callbacks.push(callback);\n    if (root._bokeh_is_loading > 0) {\n      console.log(\"Bokeh: BokehJS is being loaded, scheduling callback at\", now());\n      return null;\n    }\n    if (js_urls == null || js_urls.length === 0) {\n      run_callbacks();\n      return null;\n    }\n    console.log(\"Bokeh: BokehJS not loaded, scheduling load and callback at\", now());\n    root._bokeh_is_loading = js_urls.length;\n    for (var i = 0; i < js_urls.length; i++) {\n      var url = js_urls[i];\n      var s = document.createElement('script');\n      s.src = url;\n      s.async = false;\n      s.onreadystatechange = s.onload = function() {\n        root._bokeh_is_loading--;\n        if (root._bokeh_is_loading === 0) {\n          console.log(\"Bokeh: all BokehJS libraries loaded\");\n          run_callbacks()\n        }\n      };\n      s.onerror = function() {\n        console.warn(\"failed to load library \" + url);\n      };\n      console.log(\"Bokeh: injecting script tag for BokehJS library: \", url);\n      document.getElementsByTagName(\"head\")[0].appendChild(s);\n    }\n  };var element = document.getElementById(\"53c467bf-82ff-4307-ae3b-76af7ae73990\");\n  if (element == null) {\n    console.log(\"Bokeh: ERROR: autoload.js configured with elementid '53c467bf-82ff-4307-ae3b-76af7ae73990' but no matching script tag was found. \")\n    return false;\n  }\n\n  var js_urls = [\"https://cdn.pydata.org/bokeh/release/bokeh-0.12.14.min.js\", \"https://cdn.pydata.org/bokeh/release/bokeh-widgets-0.12.14.min.js\", \"https://cdn.pydata.org/bokeh/release/bokeh-tables-0.12.14.min.js\", \"https://cdn.pydata.org/bokeh/release/bokeh-gl-0.12.14.min.js\"];\n\n  var inline_js = [\n    function(Bokeh) {\n      Bokeh.set_log_level(\"info\");\n    },\n    \n    function(Bokeh) {\n      \n    },\n    function(Bokeh) {\n      console.log(\"Bokeh: injecting CSS: https://cdn.pydata.org/bokeh/release/bokeh-0.12.14.min.css\");\n      Bokeh.embed.inject_css(\"https://cdn.pydata.org/bokeh/release/bokeh-0.12.14.min.css\");\n      console.log(\"Bokeh: injecting CSS: https://cdn.pydata.org/bokeh/release/bokeh-widgets-0.12.14.min.css\");\n      Bokeh.embed.inject_css(\"https://cdn.pydata.org/bokeh/release/bokeh-widgets-0.12.14.min.css\");\n      console.log(\"Bokeh: injecting CSS: https://cdn.pydata.org/bokeh/release/bokeh-tables-0.12.14.min.css\");\n      Bokeh.embed.inject_css(\"https://cdn.pydata.org/bokeh/release/bokeh-tables-0.12.14.min.css\");\n    }\n  ];\n\n  function run_inline_js() {\n    \n    if ((root.Bokeh !== undefined) || (force === true)) {\n      for (var i = 0; i < inline_js.length; i++) {\n        inline_js[i].call(root, root.Bokeh);\n      }if (force === true) {\n        display_loaded();\n      }} else if (Date.now() < root._bokeh_timeout) {\n      setTimeout(run_inline_js, 100);\n    } else if (!root._bokeh_failed_load) {\n      console.log(\"Bokeh: BokehJS failed to load within specified timeout.\");\n      root._bokeh_failed_load = true;\n    } else if (force !== true) {\n      var cell = $(document.getElementById(\"53c467bf-82ff-4307-ae3b-76af7ae73990\")).parents('.cell').data().cell;\n      cell.output_area.append_execute_result(NB_LOAD_WARNING)\n    }\n\n  }\n\n  if (root._bokeh_is_loading === 0) {\n    console.log(\"Bokeh: BokehJS loaded, going straight to plotting\");\n    run_inline_js();\n  } else {\n    load_libs(js_urls, function() {\n      console.log(\"Bokeh: BokehJS plotting callback run at\", now());\n      run_inline_js();\n    });\n  }\n}(window));"
     },
     "metadata": {},
     "output_type": "display_data"
    }
   ],
   "source": [
    "output_notebook()"
   ]
  },
  {
   "cell_type": "code",
   "execution_count": 8,
   "metadata": {
    "collapsed": true
   },
   "outputs": [],
   "source": [
    "def fmt_cool(ds_in):\n",
    "    ds = ds_in.copy(deep=True)\n",
    "    if 'igg' in ds.dims:\n",
    "        ds = ds.sel(igg=1)\n",
    "\n",
    "    if 'g' in ds.dims:\n",
    "        ds = ds.sum('g')\n",
    "            \n",
    "    if 'band' in ds.dims:\n",
    "        try:\n",
    "            ds = ds.squeeze('band')\n",
    "        except ValueError:\n",
    "            ds = ds.sum('band')\n",
    "                \n",
    "    return ds['coolrg']\n",
    "\n",
    "\n",
    "def pltdata_cooling_1(ds_cool=None,\n",
    "                      ds_cool_crd=None, ds_cool_wgt=None):\n",
    "    \n",
    "\n",
    "\n",
    "    colors = all_palettes['Set1'][4]\n",
    "    data = [{'label': 'CLIRAD `coolr_bands`',\n",
    "             'srs': fmt_cool(ds_cool),\n",
    "             'line_dash': 'dashed', 'line_width': 5,\n",
    "             'color': colors[0], 'alpha': .6},\n",
    "            {'label': 'CRD',\n",
    "             'srs': fmt_cool(ds_cool_crd),\n",
    "             'line_dash': 'solid', 'line_width': 1.5,\n",
    "             'marker': 'circle', 'marker_size': 5,\n",
    "             'color': colors[2], 'alpha': 1,},\n",
    "            {'label': 'WGT igg=10 wgt_flux=2',\n",
    "             'srs': fmt_cool(ds_cool_wgt),\n",
    "             'line_dash': 'solid', 'line_width': 3,\n",
    "             'marker': 'square', 'marker_size': 5,\n",
    "             'color': colors[3], 'alpha': .6}]\n",
    "    return data\n",
    "\n",
    "\n",
    "def nice_xlims(pltdata=None, prange=None):\n",
    "    \n",
    "    def get_slice(srs):\n",
    "        return srs.sel(pressure=slice(*prange))\n",
    "    \n",
    "    srss = [d['srs'] for d in pltdata]\n",
    "    vmin = min([get_slice(srs).min() for srs in srss])\n",
    "    vmax = max([get_slice(srs).max() for srs in srss])\n",
    "    dv = (vmax - vmin) * .01\n",
    "    return float(vmin - dv), float(vmax + dv)\n",
    "    \n",
    "\n",
    "def plt_cooling_bokeh(pltdata=None):\n",
    "    '''\n",
    "    Plot a list of cooling rate profiles using bokeh.\n",
    "    '''\n",
    "    ymin = 1e-2 \n",
    "    ymax = 1020 \n",
    "        \n",
    "    p1 = figure(title=\"Linear pressure scale\", \n",
    "                plot_width=400)        \n",
    "    xmin, xmax = nice_xlims(pltdata, prange=(50, 1050))\n",
    "    for d in pltdata:\n",
    "        if 'marker' in d:\n",
    "            getattr(p1, d['marker'])(d['srs'].values, \n",
    "                    d['srs'].coords['pressure'].values,\n",
    "                    color=d['color'], alpha=.7)\n",
    "        p1.line(d['srs'].values, \n",
    "                d['srs'].coords['pressure'].values,\n",
    "                color=d['color'], alpha=d['alpha'], \n",
    "                line_width=d['line_width'], line_dash=d['line_dash'])\n",
    "    \n",
    "    p1.y_range = Range1d(ymax, ymin)\n",
    "    p1.yaxis.axis_label = 'pressure [mb]'   \n",
    "    p1.x_range = Range1d(xmin, xmax)\n",
    "    p1.xaxis.axis_label = 'cooling rate [K/day]'\n",
    "            \n",
    "    p2 = figure(title='Log pressure scale', y_axis_type='log',\n",
    "                plot_width=560)\n",
    "    xmin, xmax = nice_xlims(pltdata, prange=(.01, 200))\n",
    "    \n",
    "    rs = []\n",
    "    for d in pltdata:\n",
    "        rd = []\n",
    "        if 'marker' in d:\n",
    "            r_mark = getattr(p2, d['marker'])(d['srs'].values, \n",
    "                        d['srs'].coords['pressure'].values,\n",
    "                        color=d['color'], alpha=.7)\n",
    "            rd.append(r_mark)\n",
    "        r_line = p2.line(d['srs'].values, \n",
    "                    d['srs'].coords['pressure'].values,\n",
    "                    color=d['color'], alpha=d['alpha'], \n",
    "                    line_width=d['line_width'], line_dash=d['line_dash'])\n",
    "        rd.append(r_line)\n",
    "      \n",
    "        rs.append(rd)\n",
    "        \n",
    "    p2.y_range = Range1d(ymax, ymin)  \n",
    "    p2.yaxis.axis_label = 'pressure [mb]'\n",
    "    \n",
    "    p2.x_range = Range1d(xmin, xmax)\n",
    "    p2.xaxis.axis_label = 'cooling rate [K/day]'\n",
    "    \n",
    "    items = [(d['label'], r) for r, d in zip(rs, pltdata)]\n",
    "    legend = Legend(items=items, location=(10, -30))\n",
    "    legend.label_text_font_size = '8pt'\n",
    "    \n",
    "    p2.add_layout(legend, 'right')  \n",
    "    \n",
    "    show(gridplot(p1, p2, ncols=2, plot_height=500))\n",
    "    \n",
    "\n",
    "def script_plt_cooling():\n",
    "    pltdata = pltdata_cooling_1(\n",
    "        ds_cool=DS_COOL,\n",
    "        ds_cool_crd=DS_COOL_CRD,\n",
    "        ds_cool_wgt=DS_COOL_WGT)\n",
    "    plt_cooling_bokeh(pltdata=pltdata)\n",
    "    print('''FIGURE. Cooling rate profiles.''')"
   ]
  },
  {
   "cell_type": "code",
   "execution_count": 9,
   "metadata": {
    "collapsed": true
   },
   "outputs": [],
   "source": [
    "def fmt_flux(ds_in):\n",
    "    ds = ds_in.copy(deep=True)\n",
    "    \n",
    "    for l in ('level', 'layer'):\n",
    "        if l in ds.data_vars:\n",
    "            if len(ds[l].dims) > 1:\n",
    "                surface = {d: 0 for d in ds.dims if d != 'pressure'}\n",
    "                coord_level = ds[l][surface]\n",
    "                ds.coords[l] = ('pressure', coord_level)\n",
    "            else:\n",
    "                ds.coords[l] = ('pressure', ds[l])\n",
    "        \n",
    "    ds = ds.isel(pressure=[0, 23, -1])\n",
    "        \n",
    "    if 'igg' in ds.dims:\n",
    "        ds = ds.sel(igg=[1])\n",
    "        ds = ds.squeeze('igg').drop('igg')\n",
    "    \n",
    "    if 'g' in ds.dims:\n",
    "        ds = ds.sum('g')\n",
    "            \n",
    "    if 'band' in ds.dims:\n",
    "        try:\n",
    "            ds = ds.squeeze('band').drop('band')\n",
    "        except ValueError:\n",
    "            ds = ds.sum('band')\n",
    "                \n",
    "    df = ds.to_dataframe()\n",
    "    df = df.set_index('level', append=True)               \n",
    "    return df\n",
    "\n",
    "\n",
    "def tbdata_flux(ds_flux=None, ds_flux_crd=None, ds_flux_wgt=None):\n",
    "    ilevels = [0, 23, -1]\n",
    "            \n",
    "    benchmark = {'label': 'WGT igg=10 wgt_flux=1',\n",
    "                 'df': fmt_flux(ds_flux_wgt)}\n",
    "    \n",
    "    tbs = [{'label': 'CRD',\n",
    "            'df': fmt_flux(ds_flux_crd)},\n",
    "           {'label': 'CLIRAD',\n",
    "            'df': fmt_flux(ds_flux)}]\n",
    "    \n",
    "    data = {'benchmark': benchmark, 'others': tbs}\n",
    "    return data\n",
    "\n",
    "\n",
    "def tb_flux(tbdata=None):\n",
    "    benchmark = tbdata['benchmark']\n",
    "    others = tbdata['others']\n",
    "    \n",
    "    def show_tb(d=None):\n",
    "        display.display(d['df'])\n",
    "        print('Table.', 'Fluxes.', d['label'])\n",
    "        \n",
    "    def show_tbdiff(d0=None, d=None):\n",
    "        df = d['df']\n",
    "        df.index = d0['df'].index\n",
    "        display.display(df - d0['df'])\n",
    "        print('Table.', 'Fluxes.', \n",
    "              '({}) - ({})'.format(d['label'], d0['label']))\n",
    "        \n",
    "    show_tb(benchmark)\n",
    "    for d in others:\n",
    "        show_tb(d)\n",
    "        \n",
    "    for d in others:\n",
    "        show_tbdiff(d=d, d0=benchmark)\n",
    "        \n",
    "        \n",
    "def script_tb_flux():\n",
    "    data = tbdata_flux(ds_flux=DS_FLUX,\n",
    "                       ds_flux_crd=DS_FLUX_CRD,\n",
    "                       ds_flux_wgt=DS_FLUX_WGT)\n",
    "    tb_flux(tbdata=data)"
   ]
  },
  {
   "cell_type": "code",
   "execution_count": 10,
   "metadata": {
    "collapsed": true
   },
   "outputs": [],
   "source": [
    "def band_map():\n",
    "    '''\n",
    "    Maps spectral bands in lblnew to spectral bands in clirad.\n",
    "    '''\n",
    "    lblnew2clirad = {'1': '1',\n",
    "            '2': '2',\n",
    "            '3a': '3',\n",
    "            '3b': '4',\n",
    "            '3c': '5',\n",
    "            '4': '6', \n",
    "            '5': '7',\n",
    "            '6': '8',\n",
    "            '7': '9', \n",
    "            '8': '10',\n",
    "            '9': '11'}\n",
    "    \n",
    "    clirad2lblnew = {clirad: lblnew \n",
    "                     for lblnew, clirad in lblnew2clirad.items()}\n",
    "    return clirad2lblnew\n",
    "\n",
    "\n",
    "def gasbands():\n",
    "    bmap = band_map()\n",
    "    gases = list(PARAM['molecule'].keys())\n",
    "    \n",
    "    bands = [bmap[str(b)] for b in PARAM['band']]\n",
    "    return list(itertools.product(gases, bands))\n",
    "\n",
    "\n",
    "def print_bestfit_params():\n",
    "    print('Best-fit values for each (gas, band)')\n",
    "    print('------------------------------------')\n",
    "    for gas, band in gasbands():\n",
    "        print('o {} band{}'.format(gas, band))\n",
    "        param = bestfits.kdist_params(molecule=gas, band=band)\n",
    "        for name, value in sorted(param.items()):\n",
    "            print(2 * ' ' + '{} = {}'.format(name, value))\n",
    "\n",
    "        \n",
    "def print_input_param():        \n",
    "    for name, value in PARAM.items():\n",
    "        print('{} = {}'.format(name, value))\n",
    "        \n",
    "        \n",
    "def print_lblnew_param():\n",
    "    for name, value in sorted(PARAM_LBLNEW.items()):\n",
    "        print('{} = {}'.format(name, value))\n"
   ]
  },
  {
   "cell_type": "code",
   "execution_count": 11,
   "metadata": {
    "collapsed": true,
    "scrolled": false
   },
   "outputs": [],
   "source": [
    "def show_html(s):\n",
    "    display.display(display.HTML(s))\n",
    "\n",
    "    \n",
    "def show_markdown(s):\n",
    "    display.display(display.Markdown(s))\n",
    "\n",
    "    \n",
    "def script():\n",
    "    \n",
    "    title = '### CLIRAD-LW'\n",
    "    s_input = 'Input Parameters'\n",
    "    s_lblnew_param = 'LBLNEW case compaired against'\n",
    "    s_bestfits = 'Best-fit Parameters'\n",
    "    s_plt_cooling = 'Cooling Rate Profiles'\n",
    "    s_tb_flux = 'Flux Comparison'\n",
    "    \n",
    "    # title\n",
    "    show_markdown('### CLIRAD-LW')\n",
    "    \n",
    "    # TOC\n",
    "    show_markdown('### Table of Contents')\n",
    "    show_html(climahtml.getHTML_hrefanchor(s_input))\n",
    "    show_html(climahtml.getHTML_hrefanchor(s_lblnew_param))\n",
    "    show_html(climahtml.getHTML_hrefanchor(s_plt_cooling))\n",
    "    show_html(climahtml.getHTML_hrefanchor(s_tb_flux))\n",
    "    show_html(climahtml.getHTML_hrefanchor(s_bestfits))\n",
    "    \n",
    "    # Input parameters\n",
    "    show_html(climahtml.getHTML_idanchor(s_input))\n",
    "    show_markdown(climahtml.getMarkdown_sectitle(s_input))\n",
    "    print_input_param()\n",
    "    \n",
    "    # LBLNEW parameters \n",
    "    show_html(climahtml.getHTML_idanchor(s_lblnew_param))\n",
    "    show_markdown(climahtml.getMarkdown_sectitle(s_lblnew_param))\n",
    "    print_lblnew_param()\n",
    "    \n",
    "    # Cooling rate profiles\n",
    "    show_html(climahtml.getHTML_idanchor(s_plt_cooling))\n",
    "    show_markdown(climahtml.getMarkdown_sectitle(s_plt_cooling))\n",
    "    script_plt_cooling()\n",
    "    \n",
    "    # Flux comparison\n",
    "    show_html(climahtml.getHTML_idanchor(s_tb_flux))\n",
    "    show_markdown(climahtml.getMarkdown_sectitle(s_tb_flux))\n",
    "    script_tb_flux()\n",
    "    \n",
    "    # Best-fit values\n",
    "    show_html(climahtml.getHTML_idanchor(s_bestfits))\n",
    "    show_markdown(climahtml.getMarkdown_sectitle(s_bestfits))\n",
    "    print_bestfit_params()\n",
    "   \n",
    "    "
   ]
  },
  {
   "cell_type": "code",
   "execution_count": 12,
   "metadata": {
    "collapsed": true,
    "scrolled": false
   },
   "outputs": [
    {
     "data": {
      "text/markdown": [
       "### CLIRAD-LW"
      ],
      "text/plain": [
       "<IPython.core.display.Markdown object>"
      ]
     },
     "metadata": {},
     "output_type": "display_data"
    },
    {
     "data": {
      "text/markdown": [
       "### Table of Contents"
      ],
      "text/plain": [
       "<IPython.core.display.Markdown object>"
      ]
     },
     "metadata": {},
     "output_type": "display_data"
    },
    {
     "data": {
      "text/html": [
       "<a href=\"#Input_Parameters\">Input Parameters</a>"
      ],
      "text/plain": [
       "<IPython.core.display.HTML object>"
      ]
     },
     "metadata": {},
     "output_type": "display_data"
    },
    {
     "data": {
      "text/html": [
       "<a href=\"#LBLNEW_case_compaired_against\">LBLNEW case compaired against</a>"
      ],
      "text/plain": [
       "<IPython.core.display.HTML object>"
      ]
     },
     "metadata": {},
     "output_type": "display_data"
    },
    {
     "data": {
      "text/html": [
       "<a href=\"#Cooling_Rate_Profiles\">Cooling Rate Profiles</a>"
      ],
      "text/plain": [
       "<IPython.core.display.HTML object>"
      ]
     },
     "metadata": {},
     "output_type": "display_data"
    },
    {
     "data": {
      "text/html": [
       "<a href=\"#Flux_Comparison\">Flux Comparison</a>"
      ],
      "text/plain": [
       "<IPython.core.display.HTML object>"
      ]
     },
     "metadata": {},
     "output_type": "display_data"
    },
    {
     "data": {
      "text/html": [
       "<a href=\"#Best-fit_Parameters\">Best-fit Parameters</a>"
      ],
      "text/plain": [
       "<IPython.core.display.HTML object>"
      ]
     },
     "metadata": {},
     "output_type": "display_data"
    },
    {
     "data": {
      "text/html": [
       "<a id=\"Input_Parameters\"></a>"
      ],
      "text/plain": [
       "<IPython.core.display.HTML object>"
      ]
     },
     "metadata": {},
     "output_type": "display_data"
    },
    {
     "data": {
      "text/markdown": [
       "# Input Parameters"
      ],
      "text/plain": [
       "<IPython.core.display.Markdown object>"
      ]
     },
     "metadata": {},
     "output_type": "display_data"
    },
    {
     "name": "stdout",
     "output_type": "stream",
     "text": [
      "atmpro = trp\n",
      "band = [3]\n",
      "commitnumber = 9a64c27\n",
      "molecule = {'h2o': 'atmpro'}\n",
      "tsfc = 300\n"
     ]
    },
    {
     "data": {
      "text/html": [
       "<a id=\"LBLNEW_case_compaired_against\"></a>"
      ],
      "text/plain": [
       "<IPython.core.display.HTML object>"
      ]
     },
     "metadata": {},
     "output_type": "display_data"
    },
    {
     "data": {
      "text/markdown": [
       "# LBLNEW case compaired against"
      ],
      "text/plain": [
       "<IPython.core.display.Markdown object>"
      ]
     },
     "metadata": {},
     "output_type": "display_data"
    },
    {
     "name": "stdout",
     "output_type": "stream",
     "text": [
      "atmpro = trp\n",
      "band = 3a\n",
      "commitnumber = 2bd1f75\n",
      "conc = None\n",
      "dv = 0.01\n",
      "klin = 0\n",
      "molecule = h2o\n",
      "ng_adju = [0, 0]\n",
      "ng_refs = [2, 6]\n",
      "nv = 100\n",
      "option_compute_btable = 0\n",
      "option_compute_ktable = 0\n",
      "option_wgt_flux = 1\n",
      "option_wgt_k = 1\n",
      "ref_pts = [(10, 250), (600, 250)]\n",
      "tsfc = 300\n",
      "vmax = 620\n",
      "vmin = 540\n",
      "w_diffuse = [(1.9, 1.7), (1.4, 1.4, 1.4, 1.55, 1.6, 1.66)]\n",
      "wgt = [(0.7, 0.7), (0.7, 0.5, 0.5, 0.5, 0.5, 0.5)]\n"
     ]
    },
    {
     "data": {
      "text/html": [
       "<a id=\"Cooling_Rate_Profiles\"></a>"
      ],
      "text/plain": [
       "<IPython.core.display.HTML object>"
      ]
     },
     "metadata": {},
     "output_type": "display_data"
    },
    {
     "data": {
      "text/markdown": [
       "# Cooling Rate Profiles"
      ],
      "text/plain": [
       "<IPython.core.display.Markdown object>"
      ]
     },
     "metadata": {},
     "output_type": "display_data"
    },
    {
     "data": {
      "text/html": [
       "\n",
       "<div class=\"bk-root\">\n",
       "    <div class=\"bk-plotdiv\" id=\"4ab7ece6-1811-44b5-94f1-7b64502a2dde\"></div>\n",
       "</div>"
      ]
     },
     "metadata": {},
     "output_type": "display_data"
    },
    {
     "data": {
      "application/javascript": [
       "(function(root) {\n",
       "  function embed_document(root) {\n",
       "    \n",
       "  var docs_json = {\"abd07576-334d-4e8c-b209-d65382f42917\":{\"roots\":{\"references\":[{\"attributes\":{\"line_color\":\"#4daf4a\",\"line_width\":1.5,\"x\":{\"field\":\"x\"},\"y\":{\"field\":\"y\"}},\"id\":\"5d16b93e-0b2e-45dd-b158-a4dd5000dc8a\",\"type\":\"Line\"},{\"attributes\":{\"callback\":null,\"end\":0.01,\"start\":1020},\"id\":\"bae9ec01-11c5-446e-a17d-0764c4ad4ca9\",\"type\":\"Range1d\"},{\"attributes\":{\"overlay\":{\"id\":\"988af9ce-ae33-4c7a-93ed-096bac4af739\",\"type\":\"BoxAnnotation\"}},\"id\":\"bbdf2133-41b9-4734-815c-19ac43e1fc25\",\"type\":\"BoxZoomTool\"},{\"attributes\":{},\"id\":\"df805990-b824-444c-9b68-adc31cab8cef\",\"type\":\"PanTool\"},{\"attributes\":{},\"id\":\"16aaee03-8d19-443c-aec0-42a331038647\",\"type\":\"BasicTickFormatter\"},{\"attributes\":{\"callback\":null,\"column_names\":[\"x\",\"y\"],\"data\":{\"x\":{\"__ndarray__\":\"T13RvDW0Qz/BXp+L4j5FP9BIl3qrXUg/hl/oanG8Sz9ezodb2DpPP/XSRaioalE/Wu5QPWdFUz+k+BO19i5VP8vdrN+aJFc/cJFWGD0gWT9eTN64OC5bP3eULCLoOl0/iOSCOLG1Xj/Dwdrn3KVgP/ePZiRypWU/YeuZr2AMcT8VWqegUzZ6P3ENbXFm44I/Nd4t+zv8iT/XAGg+LkSRP7sKWXi/U5Y/0pCO/tmHmz/O3nyXEHucPxjrDG2v7pg/8YWyuEtXlD8C4J1R+g+PP8I47WacP4c/Nj8xeyh0gT/V4IzJemR6Py9R4I3jCHQ/zz/CM884bj+st3sxg1VmP5bB8hKl/l8/ilFwZcuhVT/oIUdPtPpDP0O5mShKdA2/C0SmTi9rN7+vbdvbsjwov4E2LOQOtjg/gHViONpWUz8PbXf7ondoP+Qs3mN/zYI/KKDDW2sYlT9p9KqbedyiPygRsycZ6qw/2mKvXuIbtD/rME987066P98PiYxYVcA/W1W8sofNwj8ze4/pv73FP+MVyrpmD8k/IjIPDUm1zD8+vABeE1DQP2SYj3slVtI/clAld5Zo1D+6wnlA8nHWP2+E4hrhZdg/A2VsS5E62j8buyPn7d3bP31R7ZlGT90/Jxtqb0t/3j9D1Z5I5kffPy2f/hYRg98/ET6M94Bs4D/b9uIwPSbgP0UhVVbLhN4/MSfkWh8c3D9VnZtX8Z3YP8f/FeBYo9U/YkSqQftF0z+CIeUGx1XRP7i4W8yuf88/he4OAIcWzT8J/MDZ1uTLP2vobvDoc9A/\",\"dtype\":\"float64\",\"shape\":[75]},\"y\":{\"__ndarray__\":\"GhExyth1ND/Sv8nbtpRIP2vylNV0PVE/aTum7souWD/At0SJ8fVgPw3Iuahxymc/MSNhhJWvcD/bTfBN02d3P2zb5nxnaoA/CD5h5MAGhz8NmeH1TyaQP+zrCsc9p5Y/LbKd76fGnz/bLW5ISEmmPww9YvTcQq8/JV2OstnstT8Er5Y7M8G+P0c+r3jqkcU/5h99k6ZBzj88bCIzFzjVP4enV8oyxN0//yH99nXg5D8qOpLLf0jtP5kqGJXUifQ/c9cS8kHP/D+/DpwzojQEQIEmwoanVwxA4lgXt9HgE0BSSZ2AJuIbQAMJih9jjiNA5q4l5INuK0AwTKYKRj0zQNv5fmq8/DpAaCJseHrtQkB/+zpwzoxKQM3MzMzMeFJAZmZmZmZqWEAAAAAAAFxeQM3MzMzMJmJAmpmZmZkfZUBmZmZmZhhoQDMzMzMzEWtAAAAAAAAKbkBmZmZmZoFwQM3MzMzM/XFAMzMzMzN6c0CamZmZmfZ0QAAAAAAAc3ZAZmZmZmbvd0DNzMzMzGt5QDMzMzMz6HpAmpmZmZlkfEAAAAAAAOF9QGZmZmZmXX9AZmZmZuZsgECamZmZGSuBQM3MzMxM6YFAAAAAAICngkAzMzMzs2WDQGZmZmbmI4RAmpmZmRnihEDNzMzMTKCFQAAAAACAXoZAMzMzM7Mch0BmZmZm5tqHQJqZmZkZmYhAzczMzExXiUAAAAAAgBWKQDMzMzOz04pAZmZmZuaRi0CamZmZGVCMQM3MzMxMDo1AAAAAAIDMjUAzMzMzs4qOQGZmZmbmSI9A\",\"dtype\":\"float64\",\"shape\":[75]}}},\"id\":\"65e13047-c351-4341-8bf3-e740d0883d85\",\"type\":\"ColumnDataSource\"},{\"attributes\":{},\"id\":\"8560f1e5-1b7a-41f2-8e83-35d5c654d194\",\"type\":\"SaveTool\"},{\"attributes\":{\"line_alpha\":0.1,\"line_color\":\"#1f77b4\",\"line_dash\":[6],\"line_width\":5,\"x\":{\"field\":\"x\"},\"y\":{\"field\":\"y\"}},\"id\":\"156d1e44-b372-4851-a97e-15b0333c6134\",\"type\":\"Line\"},{\"attributes\":{\"children\":[{\"id\":\"dfdc398d-5efa-4767-909b-a8dfe123ac22\",\"type\":\"Row\"}]},\"id\":\"699a2bf5-1809-49d4-9dc8-e2d33ce5ae99\",\"type\":\"Column\"},{\"attributes\":{\"line_alpha\":0.6,\"line_color\":\"#e41a1c\",\"line_dash\":[6],\"line_width\":5,\"x\":{\"field\":\"x\"},\"y\":{\"field\":\"y\"}},\"id\":\"48158e3a-3523-472e-90c5-313b09cd2b17\",\"type\":\"Line\"},{\"attributes\":{\"callback\":null,\"column_names\":[\"x\",\"y\"],\"data\":{\"x\":{\"__ndarray__\":\"HWPfeDTaVT/V1z0xpxZVP+vzkGGAwVg/L8Zx9LlZWj9PmMslkPRbP0mvc3scmV0/5t0aEfpEXz+X+rH9735gP/gp+sPXXmE/3UpYX8lDYj+JHt97Cy1jP2PjsjStGWQ/pwUehZMHZT9Ulsn6UiJmP1EzGU860Wo/xVMSSDfxcj+zMqqk//l6P2IkmpFYioI/LpCy2+3OiD8fCU92oD+QP5SxN7dd9pQ/yb4fD2Eimj96MO+StPKbP1owbQ+t25k/xqC9QU50lj+cWLLzzlKSP5V2BQNR9Yw/K+rvTDhZhj+Z19LZCbOAPxWwLgFQ8nc/uPGUfSo6cD8SKNSvyodkP4ycCpu2xFc/LyNB5PCqRz93b5EGVQ8cPzv6tF2/8Da/DqPU6TZkQL+g3kuNdbc1vzf/9NtAoBo/TKa0uqUdRz8p0XG56s9gPxG5lez8hXw/yY7Ko9SLkT+jPX9WcKqgP0M2SVmq/qk/r4t6P3BAsj8VPPL416G4PzE3SiTy2b4/sETapZE/wT/s+dwBhZfDP8m8I51gA8c/4/mQ4Nsuyz/OabuuBHfPP+gE4cgLwtE/7mdGecXX0z9NEQEDGAHWP4MxhXsjQtg/xvCeJNl62j8/xIpDy3TcP4qD+H5yLd4/sV1v1VSa3z/1c3WNt1HgP/BEGFgqnOA/4wff4n6T4T8Rm34/65DhP6F3dG25xOA/7+OJnJXf3j9CSw0jc5vaP1QzMX6WvtY/p+C21/6l0z9GFpscXzfRP/GK2A7jwc4/bGzhP/5OzD8a52fR2GrLPw6c+fYqSdA/\",\"dtype\":\"float64\",\"shape\":[75]},\"y\":{\"__ndarray__\":\"S/O/Q+51ND/Sv8nbtpRIP2vylNV0PVE/aTum7souWD/At0SJ8fVgPw3Iuahxymc/MSNhhJWvcD/bTfBN02d3P2zb5nxnaoA/CD5h5MAGhz8NmeH1TyaQP+zrCsc9p5Y/LbKd76fGnz/bLW5ISEmmPww9YvTcQq8/JV2OstnstT8Er5Y7M8G+P0c+r3jqkcU/5h99k6ZBzj88bCIzFzjVP4enV8oyxN0//yH99nXg5D8qOpLLf0jtP5kqGJXUifQ/c9cS8kHP/D+/DpwzojQEQIEmwoanVwxA4lgXt9HgE0BSSZ2AJuIbQAMJih9jjiNA5q4l5INuK0AwTKYKRj0zQNv5fmq8/DpAaCJseHrtQkB/+zpwzoxKQM3MzMzMeFJAZmZmZmZqWEAAAAAAAFxeQM3MzMzMJmJAmpmZmZkfZUBmZmZmZhhoQDMzMzMzEWtAAAAAAAAKbkBmZmZmZoFwQM3MzMzM/XFAMzMzMzN6c0CamZmZmfZ0QAAAAAAAc3ZAZmZmZmbvd0DNzMzMzGt5QDMzMzMz6HpAmpmZmZlkfEAAAAAAAOF9QGZmZmZmXX9AZmZmZuZsgECamZmZGSuBQM3MzMxM6YFAAAAAAICngkAzMzMzs2WDQGZmZmbmI4RAmpmZmRnihEDNzMzMTKCFQAAAAACAXoZAMzMzM7Mch0BmZmZm5tqHQJqZmZkZmYhAzczMzExXiUAAAAAAgBWKQDMzMzOz04pAZmZmZuaRi0CamZmZGVCMQM3MzMxMDo1AAAAAAIDMjUAzMzMzs4qOQGZmZmbmSI9A\",\"dtype\":\"float64\",\"shape\":[75]}}},\"id\":\"19cea65d-0441-4b08-bd28-1c31200e60c3\",\"type\":\"ColumnDataSource\"},{\"attributes\":{\"line_alpha\":0.1,\"line_color\":\"#1f77b4\",\"line_width\":1.5,\"x\":{\"field\":\"x\"},\"y\":{\"field\":\"y\"}},\"id\":\"964f0412-e948-4d43-847f-3d91f780b44f\",\"type\":\"Line\"},{\"attributes\":{\"label\":{\"value\":\"CRD\"},\"renderers\":[{\"id\":\"9904b696-5985-49d8-9a0f-07bd7078a414\",\"type\":\"GlyphRenderer\"},{\"id\":\"11ad5af9-81c9-414a-98df-3153f32e1a54\",\"type\":\"GlyphRenderer\"}]},\"id\":\"3c92f3e5-d12d-427e-8cf7-f6311f563ba4\",\"type\":\"LegendItem\"},{\"attributes\":{\"overlay\":{\"id\":\"618c10a5-e589-469d-9a66-5e3abf98c0b4\",\"type\":\"BoxAnnotation\"}},\"id\":\"382ed7cb-16f4-4161-bf89-12b200d8c69c\",\"type\":\"BoxZoomTool\"},{\"attributes\":{},\"id\":\"a367bb35-ab2e-44e2-a8a2-9296c5db528f\",\"type\":\"ResetTool\"},{\"attributes\":{},\"id\":\"99c37d7d-eb8c-49e1-93c3-83058fe14302\",\"type\":\"WheelZoomTool\"},{\"attributes\":{},\"id\":\"3a411d44-b3ea-4d6d-8964-a1398eedc06d\",\"type\":\"LinearScale\"},{\"attributes\":{},\"id\":\"7b4b7d5b-83d8-4dfa-9789-9a8b1247e0ae\",\"type\":\"LinearScale\"},{\"attributes\":{\"below\":[{\"id\":\"41d3d83c-44dd-451e-b6db-8ded02d567de\",\"type\":\"LinearAxis\"}],\"left\":[{\"id\":\"068d8ba1-8253-4fb8-846b-b2437e3f72fe\",\"type\":\"LinearAxis\"}],\"plot_height\":500,\"plot_width\":400,\"renderers\":[{\"id\":\"41d3d83c-44dd-451e-b6db-8ded02d567de\",\"type\":\"LinearAxis\"},{\"id\":\"c0fba276-22fe-437e-bd2c-1680f27d9fb4\",\"type\":\"Grid\"},{\"id\":\"068d8ba1-8253-4fb8-846b-b2437e3f72fe\",\"type\":\"LinearAxis\"},{\"id\":\"9f2f59e2-b84c-44c1-808f-5d1199e09d62\",\"type\":\"Grid\"},{\"id\":\"988af9ce-ae33-4c7a-93ed-096bac4af739\",\"type\":\"BoxAnnotation\"},{\"id\":\"70044fdb-d7ce-4fc7-886d-450a027d7ac7\",\"type\":\"GlyphRenderer\"},{\"id\":\"090efc37-857c-4e56-a4c9-c9ae8d1f5e33\",\"type\":\"GlyphRenderer\"},{\"id\":\"83b99c23-1f1d-41c8-ba19-9cb8e53307bc\",\"type\":\"GlyphRenderer\"},{\"id\":\"57618140-a18a-46d8-af15-499509864b20\",\"type\":\"GlyphRenderer\"},{\"id\":\"ce7df053-2f4e-42e5-9ff6-11624d10aec2\",\"type\":\"GlyphRenderer\"}],\"title\":{\"id\":\"a6a4ecb1-e1e1-43ee-9ec4-4586c6793368\",\"type\":\"Title\"},\"toolbar\":{\"id\":\"e7b3e19a-f365-493f-8741-c26633dd4ca6\",\"type\":\"Toolbar\"},\"toolbar_location\":null,\"x_range\":{\"id\":\"2a997a55-a38e-4cb3-ae46-442af4ee5f86\",\"type\":\"Range1d\"},\"x_scale\":{\"id\":\"7b4b7d5b-83d8-4dfa-9789-9a8b1247e0ae\",\"type\":\"LinearScale\"},\"y_range\":{\"id\":\"bae9ec01-11c5-446e-a17d-0764c4ad4ca9\",\"type\":\"Range1d\"},\"y_scale\":{\"id\":\"3a411d44-b3ea-4d6d-8964-a1398eedc06d\",\"type\":\"LinearScale\"}},\"id\":\"63e23865-87e1-4d91-ad76-4e55c5c63358\",\"subtype\":\"Figure\",\"type\":\"Plot\"},{\"attributes\":{},\"id\":\"d3f18d49-5f6e-4864-9091-e9babca66cae\",\"type\":\"PanTool\"},{\"attributes\":{\"plot\":{\"id\":\"63e23865-87e1-4d91-ad76-4e55c5c63358\",\"subtype\":\"Figure\",\"type\":\"Plot\"},\"ticker\":{\"id\":\"d418399e-24c4-40bb-8016-cf3fbf5b1696\",\"type\":\"BasicTicker\"}},\"id\":\"c0fba276-22fe-437e-bd2c-1680f27d9fb4\",\"type\":\"Grid\"},{\"attributes\":{\"num_minor_ticks\":10},\"id\":\"3f9cf496-8412-4a15-996b-529ca8a589e6\",\"type\":\"LogTicker\"},{\"attributes\":{\"data_source\":{\"id\":\"f788680c-8d6f-4c0e-921c-2710e9c11028\",\"type\":\"ColumnDataSource\"},\"glyph\":{\"id\":\"d27d6737-7cd6-4ea9-806b-366b01ecde62\",\"type\":\"Circle\"},\"hover_glyph\":null,\"muted_glyph\":null,\"nonselection_glyph\":{\"id\":\"e606ee6c-438e-4896-aa10-d8c27ba96e50\",\"type\":\"Circle\"},\"selection_glyph\":null,\"view\":{\"id\":\"5bcb00ac-5b6c-4955-b52b-7f1ca4ceb4b9\",\"type\":\"CDSView\"}},\"id\":\"090efc37-857c-4e56-a4c9-c9ae8d1f5e33\",\"type\":\"GlyphRenderer\"},{\"attributes\":{},\"id\":\"ab3cfcef-5a98-4ce5-908b-5437cfed55f1\",\"type\":\"SaveTool\"},{\"attributes\":{},\"id\":\"185c80f5-eb57-466a-91a8-d87772a3dbfc\",\"type\":\"ResetTool\"},{\"attributes\":{\"axis_label\":\"pressure [mb]\",\"formatter\":{\"id\":\"16aaee03-8d19-443c-aec0-42a331038647\",\"type\":\"BasicTickFormatter\"},\"plot\":{\"id\":\"63e23865-87e1-4d91-ad76-4e55c5c63358\",\"subtype\":\"Figure\",\"type\":\"Plot\"},\"ticker\":{\"id\":\"914eb467-3059-4326-93e2-6dc479d1840b\",\"type\":\"BasicTicker\"}},\"id\":\"068d8ba1-8253-4fb8-846b-b2437e3f72fe\",\"type\":\"LinearAxis\"},{\"attributes\":{\"callback\":null,\"column_names\":[\"x\",\"y\"],\"data\":{\"x\":{\"__ndarray__\":\"T13RvDW0Qz/BXp+L4j5FP9BIl3qrXUg/hl/oanG8Sz9ezodb2DpPP/XSRaioalE/Wu5QPWdFUz+k+BO19i5VP8vdrN+aJFc/cJFWGD0gWT9eTN64OC5bP3eULCLoOl0/iOSCOLG1Xj/Dwdrn3KVgP/ePZiRypWU/YeuZr2AMcT8VWqegUzZ6P3ENbXFm44I/Nd4t+zv8iT/XAGg+LkSRP7sKWXi/U5Y/0pCO/tmHmz/O3nyXEHucPxjrDG2v7pg/8YWyuEtXlD8C4J1R+g+PP8I47WacP4c/Nj8xeyh0gT/V4IzJemR6Py9R4I3jCHQ/zz/CM884bj+st3sxg1VmP5bB8hKl/l8/ilFwZcuhVT/oIUdPtPpDP0O5mShKdA2/C0SmTi9rN7+vbdvbsjwov4E2LOQOtjg/gHViONpWUz8PbXf7ondoP+Qs3mN/zYI/KKDDW2sYlT9p9KqbedyiPygRsycZ6qw/2mKvXuIbtD/rME987066P98PiYxYVcA/W1W8sofNwj8ze4/pv73FP+MVyrpmD8k/IjIPDUm1zD8+vABeE1DQP2SYj3slVtI/clAld5Zo1D+6wnlA8nHWP2+E4hrhZdg/A2VsS5E62j8buyPn7d3bP31R7ZlGT90/Jxtqb0t/3j9D1Z5I5kffPy2f/hYRg98/ET6M94Bs4D/b9uIwPSbgP0UhVVbLhN4/MSfkWh8c3D9VnZtX8Z3YP8f/FeBYo9U/YkSqQftF0z+CIeUGx1XRP7i4W8yuf88/he4OAIcWzT8J/MDZ1uTLP2vobvDoc9A/\",\"dtype\":\"float64\",\"shape\":[75]},\"y\":{\"__ndarray__\":\"GhExyth1ND/Sv8nbtpRIP2vylNV0PVE/aTum7souWD/At0SJ8fVgPw3Iuahxymc/MSNhhJWvcD/bTfBN02d3P2zb5nxnaoA/CD5h5MAGhz8NmeH1TyaQP+zrCsc9p5Y/LbKd76fGnz/bLW5ISEmmPww9YvTcQq8/JV2OstnstT8Er5Y7M8G+P0c+r3jqkcU/5h99k6ZBzj88bCIzFzjVP4enV8oyxN0//yH99nXg5D8qOpLLf0jtP5kqGJXUifQ/c9cS8kHP/D+/DpwzojQEQIEmwoanVwxA4lgXt9HgE0BSSZ2AJuIbQAMJih9jjiNA5q4l5INuK0AwTKYKRj0zQNv5fmq8/DpAaCJseHrtQkB/+zpwzoxKQM3MzMzMeFJAZmZmZmZqWEAAAAAAAFxeQM3MzMzMJmJAmpmZmZkfZUBmZmZmZhhoQDMzMzMzEWtAAAAAAAAKbkBmZmZmZoFwQM3MzMzM/XFAMzMzMzN6c0CamZmZmfZ0QAAAAAAAc3ZAZmZmZmbvd0DNzMzMzGt5QDMzMzMz6HpAmpmZmZlkfEAAAAAAAOF9QGZmZmZmXX9AZmZmZuZsgECamZmZGSuBQM3MzMxM6YFAAAAAAICngkAzMzMzs2WDQGZmZmbmI4RAmpmZmRnihEDNzMzMTKCFQAAAAACAXoZAMzMzM7Mch0BmZmZm5tqHQJqZmZkZmYhAzczMzExXiUAAAAAAgBWKQDMzMzOz04pAZmZmZuaRi0CamZmZGVCMQM3MzMxMDo1AAAAAAIDMjUAzMzMzs4qOQGZmZmbmSI9A\",\"dtype\":\"float64\",\"shape\":[75]}}},\"id\":\"f788680c-8d6f-4c0e-921c-2710e9c11028\",\"type\":\"ColumnDataSource\"},{\"attributes\":{\"fill_alpha\":{\"value\":0.1},\"fill_color\":{\"value\":\"#1f77b4\"},\"line_alpha\":{\"value\":0.1},\"line_color\":{\"value\":\"#1f77b4\"},\"x\":{\"field\":\"x\"},\"y\":{\"field\":\"y\"}},\"id\":\"e606ee6c-438e-4896-aa10-d8c27ba96e50\",\"type\":\"Circle\"},{\"attributes\":{\"children\":[{\"id\":\"63e23865-87e1-4d91-ad76-4e55c5c63358\",\"subtype\":\"Figure\",\"type\":\"Plot\"},{\"id\":\"35f84939-d354-4264-89bc-d2455b28c0a5\",\"subtype\":\"Figure\",\"type\":\"Plot\"}]},\"id\":\"dfdc398d-5efa-4767-909b-a8dfe123ac22\",\"type\":\"Row\"},{\"attributes\":{\"plot\":null,\"text\":\"Linear pressure scale\"},\"id\":\"a6a4ecb1-e1e1-43ee-9ec4-4586c6793368\",\"type\":\"Title\"},{\"attributes\":{},\"id\":\"48b72834-3b13-47d0-bdd6-c513f84bdcb7\",\"type\":\"HelpTool\"},{\"attributes\":{\"dimension\":1,\"plot\":{\"id\":\"35f84939-d354-4264-89bc-d2455b28c0a5\",\"subtype\":\"Figure\",\"type\":\"Plot\"},\"ticker\":{\"id\":\"3f9cf496-8412-4a15-996b-529ca8a589e6\",\"type\":\"LogTicker\"}},\"id\":\"3d29522c-d9d7-46bd-98ea-25a0050ef5e8\",\"type\":\"Grid\"},{\"attributes\":{\"active_drag\":\"auto\",\"active_inspect\":\"auto\",\"active_scroll\":\"auto\",\"active_tap\":\"auto\",\"tools\":[{\"id\":\"df805990-b824-444c-9b68-adc31cab8cef\",\"type\":\"PanTool\"},{\"id\":\"d9c65fed-29cc-44f8-a666-009de21a0486\",\"type\":\"WheelZoomTool\"},{\"id\":\"bbdf2133-41b9-4734-815c-19ac43e1fc25\",\"type\":\"BoxZoomTool\"},{\"id\":\"8560f1e5-1b7a-41f2-8e83-35d5c654d194\",\"type\":\"SaveTool\"},{\"id\":\"a367bb35-ab2e-44e2-a8a2-9296c5db528f\",\"type\":\"ResetTool\"},{\"id\":\"94533f9e-3dfa-47f4-bd26-f57b1dc7583f\",\"type\":\"HelpTool\"}]},\"id\":\"e7b3e19a-f365-493f-8741-c26633dd4ca6\",\"type\":\"Toolbar\"},{\"attributes\":{},\"id\":\"d418399e-24c4-40bb-8016-cf3fbf5b1696\",\"type\":\"BasicTicker\"},{\"attributes\":{\"bottom_units\":\"screen\",\"fill_alpha\":{\"value\":0.5},\"fill_color\":{\"value\":\"lightgrey\"},\"left_units\":\"screen\",\"level\":\"overlay\",\"line_alpha\":{\"value\":1.0},\"line_color\":{\"value\":\"black\"},\"line_dash\":[4,4],\"line_width\":{\"value\":2},\"plot\":null,\"render_mode\":\"css\",\"right_units\":\"screen\",\"top_units\":\"screen\"},\"id\":\"618c10a5-e589-469d-9a66-5e3abf98c0b4\",\"type\":\"BoxAnnotation\"},{\"attributes\":{\"data_source\":{\"id\":\"19cea65d-0441-4b08-bd28-1c31200e60c3\",\"type\":\"ColumnDataSource\"},\"glyph\":{\"id\":\"2df438ac-530a-4dca-bcf4-55e711ebf4b9\",\"type\":\"Line\"},\"hover_glyph\":null,\"muted_glyph\":null,\"nonselection_glyph\":{\"id\":\"156d1e44-b372-4851-a97e-15b0333c6134\",\"type\":\"Line\"},\"selection_glyph\":null,\"view\":{\"id\":\"7fdd3483-e7f4-475b-8df4-daed4878b746\",\"type\":\"CDSView\"}},\"id\":\"70044fdb-d7ce-4fc7-886d-450a027d7ac7\",\"type\":\"GlyphRenderer\"},{\"attributes\":{\"data_source\":{\"id\":\"1bcda3e3-e92c-429a-8522-6440a9651b43\",\"type\":\"ColumnDataSource\"},\"glyph\":{\"id\":\"48158e3a-3523-472e-90c5-313b09cd2b17\",\"type\":\"Line\"},\"hover_glyph\":null,\"muted_glyph\":null,\"nonselection_glyph\":{\"id\":\"6050ce52-4930-4164-89d6-2295c1aaca25\",\"type\":\"Line\"},\"selection_glyph\":null,\"view\":{\"id\":\"46d2d777-29b9-4dcd-936f-f911e9742dd0\",\"type\":\"CDSView\"}},\"id\":\"cc038a66-4013-40c7-b744-60b00edd20e7\",\"type\":\"GlyphRenderer\"},{\"attributes\":{\"bottom_units\":\"screen\",\"fill_alpha\":{\"value\":0.5},\"fill_color\":{\"value\":\"lightgrey\"},\"left_units\":\"screen\",\"level\":\"overlay\",\"line_alpha\":{\"value\":1.0},\"line_color\":{\"value\":\"black\"},\"line_dash\":[4,4],\"line_width\":{\"value\":2},\"plot\":null,\"render_mode\":\"css\",\"right_units\":\"screen\",\"top_units\":\"screen\"},\"id\":\"988af9ce-ae33-4c7a-93ed-096bac4af739\",\"type\":\"BoxAnnotation\"},{\"attributes\":{\"dimension\":1,\"plot\":{\"id\":\"63e23865-87e1-4d91-ad76-4e55c5c63358\",\"subtype\":\"Figure\",\"type\":\"Plot\"},\"ticker\":{\"id\":\"914eb467-3059-4326-93e2-6dc479d1840b\",\"type\":\"BasicTicker\"}},\"id\":\"9f2f59e2-b84c-44c1-808f-5d1199e09d62\",\"type\":\"Grid\"},{\"attributes\":{},\"id\":\"914eb467-3059-4326-93e2-6dc479d1840b\",\"type\":\"BasicTicker\"},{\"attributes\":{\"line_alpha\":0.1,\"line_color\":\"#1f77b4\",\"line_dash\":[6],\"line_width\":5,\"x\":{\"field\":\"x\"},\"y\":{\"field\":\"y\"}},\"id\":\"6050ce52-4930-4164-89d6-2295c1aaca25\",\"type\":\"Line\"},{\"attributes\":{\"callback\":null,\"column_names\":[\"x\",\"y\"],\"data\":{\"x\":{\"__ndarray__\":\"HWPfeDTaVT/V1z0xpxZVP+vzkGGAwVg/L8Zx9LlZWj9PmMslkPRbP0mvc3scmV0/5t0aEfpEXz+X+rH9735gP/gp+sPXXmE/3UpYX8lDYj+JHt97Cy1jP2PjsjStGWQ/pwUehZMHZT9Ulsn6UiJmP1EzGU860Wo/xVMSSDfxcj+zMqqk//l6P2IkmpFYioI/LpCy2+3OiD8fCU92oD+QP5SxN7dd9pQ/yb4fD2Eimj96MO+StPKbP1owbQ+t25k/xqC9QU50lj+cWLLzzlKSP5V2BQNR9Yw/K+rvTDhZhj+Z19LZCbOAPxWwLgFQ8nc/uPGUfSo6cD8SKNSvyodkP4ycCpu2xFc/LyNB5PCqRz93b5EGVQ8cPzv6tF2/8Da/DqPU6TZkQL+g3kuNdbc1vzf/9NtAoBo/TKa0uqUdRz8p0XG56s9gPxG5lez8hXw/yY7Ko9SLkT+jPX9WcKqgP0M2SVmq/qk/r4t6P3BAsj8VPPL416G4PzE3SiTy2b4/sETapZE/wT/s+dwBhZfDP8m8I51gA8c/4/mQ4Nsuyz/OabuuBHfPP+gE4cgLwtE/7mdGecXX0z9NEQEDGAHWP4MxhXsjQtg/xvCeJNl62j8/xIpDy3TcP4qD+H5yLd4/sV1v1VSa3z/1c3WNt1HgP/BEGFgqnOA/4wff4n6T4T8Rm34/65DhP6F3dG25xOA/7+OJnJXf3j9CSw0jc5vaP1QzMX6WvtY/p+C21/6l0z9GFpscXzfRP/GK2A7jwc4/bGzhP/5OzD8a52fR2GrLPw6c+fYqSdA/\",\"dtype\":\"float64\",\"shape\":[75]},\"y\":{\"__ndarray__\":\"S/O/Q+51ND/Sv8nbtpRIP2vylNV0PVE/aTum7souWD/At0SJ8fVgPw3Iuahxymc/MSNhhJWvcD/bTfBN02d3P2zb5nxnaoA/CD5h5MAGhz8NmeH1TyaQP+zrCsc9p5Y/LbKd76fGnz/bLW5ISEmmPww9YvTcQq8/JV2OstnstT8Er5Y7M8G+P0c+r3jqkcU/5h99k6ZBzj88bCIzFzjVP4enV8oyxN0//yH99nXg5D8qOpLLf0jtP5kqGJXUifQ/c9cS8kHP/D+/DpwzojQEQIEmwoanVwxA4lgXt9HgE0BSSZ2AJuIbQAMJih9jjiNA5q4l5INuK0AwTKYKRj0zQNv5fmq8/DpAaCJseHrtQkB/+zpwzoxKQM3MzMzMeFJAZmZmZmZqWEAAAAAAAFxeQM3MzMzMJmJAmpmZmZkfZUBmZmZmZhhoQDMzMzMzEWtAAAAAAAAKbkBmZmZmZoFwQM3MzMzM/XFAMzMzMzN6c0CamZmZmfZ0QAAAAAAAc3ZAZmZmZmbvd0DNzMzMzGt5QDMzMzMz6HpAmpmZmZlkfEAAAAAAAOF9QGZmZmZmXX9AZmZmZuZsgECamZmZGSuBQM3MzMxM6YFAAAAAAICngkAzMzMzs2WDQGZmZmbmI4RAmpmZmRnihEDNzMzMTKCFQAAAAACAXoZAMzMzM7Mch0BmZmZm5tqHQJqZmZkZmYhAzczMzExXiUAAAAAAgBWKQDMzMzOz04pAZmZmZuaRi0CamZmZGVCMQM3MzMxMDo1AAAAAAIDMjUAzMzMzs4qOQGZmZmbmSI9A\",\"dtype\":\"float64\",\"shape\":[75]}}},\"id\":\"1bcda3e3-e92c-429a-8522-6440a9651b43\",\"type\":\"ColumnDataSource\"},{\"attributes\":{\"axis_label\":\"cooling rate [K/day]\",\"formatter\":{\"id\":\"5667521e-705e-467c-bd27-ad6a598856cc\",\"type\":\"BasicTickFormatter\"},\"plot\":{\"id\":\"63e23865-87e1-4d91-ad76-4e55c5c63358\",\"subtype\":\"Figure\",\"type\":\"Plot\"},\"ticker\":{\"id\":\"d418399e-24c4-40bb-8016-cf3fbf5b1696\",\"type\":\"BasicTicker\"}},\"id\":\"41d3d83c-44dd-451e-b6db-8ded02d567de\",\"type\":\"LinearAxis\"},{\"attributes\":{},\"id\":\"d9c65fed-29cc-44f8-a666-009de21a0486\",\"type\":\"WheelZoomTool\"},{\"attributes\":{\"label\":{\"value\":\"WGT igg=10 wgt_flux=2\"},\"renderers\":[{\"id\":\"4ca5fbdf-c2b4-4ab9-89ae-e03c0b329383\",\"type\":\"GlyphRenderer\"},{\"id\":\"4b4efed4-e668-407a-9434-8ec2d1a66c18\",\"type\":\"GlyphRenderer\"}]},\"id\":\"e4b78538-7e2d-4925-a3af-6e00a50eed00\",\"type\":\"LegendItem\"},{\"attributes\":{\"label\":{\"value\":\"CLIRAD `coolr_bands`\"},\"renderers\":[{\"id\":\"cc038a66-4013-40c7-b744-60b00edd20e7\",\"type\":\"GlyphRenderer\"}]},\"id\":\"a17ce0d4-06be-4483-8a03-d4bec44735b4\",\"type\":\"LegendItem\"},{\"attributes\":{},\"id\":\"94533f9e-3dfa-47f4-bd26-f57b1dc7583f\",\"type\":\"HelpTool\"},{\"attributes\":{\"data_source\":{\"id\":\"01f4bb43-8596-4fad-ae5f-d2a8728c2790\",\"type\":\"ColumnDataSource\"},\"glyph\":{\"id\":\"fc885d91-68ca-40e5-b806-28ebd6218f35\",\"type\":\"Circle\"},\"hover_glyph\":null,\"muted_glyph\":null,\"nonselection_glyph\":{\"id\":\"e2e67e70-1383-4d47-a18a-e2704f27e450\",\"type\":\"Circle\"},\"selection_glyph\":null,\"view\":{\"id\":\"914b94f8-9f54-4af9-aa56-4251369395e6\",\"type\":\"CDSView\"}},\"id\":\"9904b696-5985-49d8-9a0f-07bd7078a414\",\"type\":\"GlyphRenderer\"},{\"attributes\":{},\"id\":\"4ad97273-885c-4f77-b25b-b99e24343f24\",\"type\":\"LinearScale\"},{\"attributes\":{\"data_source\":{\"id\":\"65e13047-c351-4341-8bf3-e740d0883d85\",\"type\":\"ColumnDataSource\"},\"glyph\":{\"id\":\"5d16b93e-0b2e-45dd-b158-a4dd5000dc8a\",\"type\":\"Line\"},\"hover_glyph\":null,\"muted_glyph\":null,\"nonselection_glyph\":{\"id\":\"964f0412-e948-4d43-847f-3d91f780b44f\",\"type\":\"Line\"},\"selection_glyph\":null,\"view\":{\"id\":\"f53217c8-2ef1-46fd-a09e-a9f68fd8f987\",\"type\":\"CDSView\"}},\"id\":\"83b99c23-1f1d-41c8-ba19-9cb8e53307bc\",\"type\":\"GlyphRenderer\"},{\"attributes\":{\"source\":{\"id\":\"19cea65d-0441-4b08-bd28-1c31200e60c3\",\"type\":\"ColumnDataSource\"}},\"id\":\"7fdd3483-e7f4-475b-8df4-daed4878b746\",\"type\":\"CDSView\"},{\"attributes\":{\"callback\":null,\"column_names\":[\"x\",\"y\"],\"data\":{\"x\":{\"__ndarray__\":\"T13RvDW0Qz/BXp+L4j5FP9BIl3qrXUg/hl/oanG8Sz9ezodb2DpPP/XSRaioalE/Wu5QPWdFUz+k+BO19i5VP8vdrN+aJFc/cJFWGD0gWT9eTN64OC5bP3eULCLoOl0/iOSCOLG1Xj/Dwdrn3KVgP/ePZiRypWU/YeuZr2AMcT8VWqegUzZ6P3ENbXFm44I/Nd4t+zv8iT/XAGg+LkSRP7sKWXi/U5Y/0pCO/tmHmz/O3nyXEHucPxjrDG2v7pg/8YWyuEtXlD8C4J1R+g+PP8I47WacP4c/Nj8xeyh0gT/V4IzJemR6Py9R4I3jCHQ/zz/CM884bj+st3sxg1VmP5bB8hKl/l8/ilFwZcuhVT/oIUdPtPpDP0O5mShKdA2/C0SmTi9rN7+vbdvbsjwov4E2LOQOtjg/gHViONpWUz8PbXf7ondoP+Qs3mN/zYI/KKDDW2sYlT9p9KqbedyiPygRsycZ6qw/2mKvXuIbtD/rME987066P98PiYxYVcA/W1W8sofNwj8ze4/pv73FP+MVyrpmD8k/IjIPDUm1zD8+vABeE1DQP2SYj3slVtI/clAld5Zo1D+6wnlA8nHWP2+E4hrhZdg/A2VsS5E62j8buyPn7d3bP31R7ZlGT90/Jxtqb0t/3j9D1Z5I5kffPy2f/hYRg98/ET6M94Bs4D/b9uIwPSbgP0UhVVbLhN4/MSfkWh8c3D9VnZtX8Z3YP8f/FeBYo9U/YkSqQftF0z+CIeUGx1XRP7i4W8yuf88/he4OAIcWzT8J/MDZ1uTLP2vobvDoc9A/\",\"dtype\":\"float64\",\"shape\":[75]},\"y\":{\"__ndarray__\":\"GhExyth1ND/Sv8nbtpRIP2vylNV0PVE/aTum7souWD/At0SJ8fVgPw3Iuahxymc/MSNhhJWvcD/bTfBN02d3P2zb5nxnaoA/CD5h5MAGhz8NmeH1TyaQP+zrCsc9p5Y/LbKd76fGnz/bLW5ISEmmPww9YvTcQq8/JV2OstnstT8Er5Y7M8G+P0c+r3jqkcU/5h99k6ZBzj88bCIzFzjVP4enV8oyxN0//yH99nXg5D8qOpLLf0jtP5kqGJXUifQ/c9cS8kHP/D+/DpwzojQEQIEmwoanVwxA4lgXt9HgE0BSSZ2AJuIbQAMJih9jjiNA5q4l5INuK0AwTKYKRj0zQNv5fmq8/DpAaCJseHrtQkB/+zpwzoxKQM3MzMzMeFJAZmZmZmZqWEAAAAAAAFxeQM3MzMzMJmJAmpmZmZkfZUBmZmZmZhhoQDMzMzMzEWtAAAAAAAAKbkBmZmZmZoFwQM3MzMzM/XFAMzMzMzN6c0CamZmZmfZ0QAAAAAAAc3ZAZmZmZmbvd0DNzMzMzGt5QDMzMzMz6HpAmpmZmZlkfEAAAAAAAOF9QGZmZmZmXX9AZmZmZuZsgECamZmZGSuBQM3MzMxM6YFAAAAAAICngkAzMzMzs2WDQGZmZmbmI4RAmpmZmRnihEDNzMzMTKCFQAAAAACAXoZAMzMzM7Mch0BmZmZm5tqHQJqZmZkZmYhAzczMzExXiUAAAAAAgBWKQDMzMzOz04pAZmZmZuaRi0CamZmZGVCMQM3MzMxMDo1AAAAAAIDMjUAzMzMzs4qOQGZmZmbmSI9A\",\"dtype\":\"float64\",\"shape\":[75]}}},\"id\":\"6059e47c-9451-4297-8190-45888f1b0de2\",\"type\":\"ColumnDataSource\"},{\"attributes\":{\"fill_alpha\":{\"value\":0.1},\"fill_color\":{\"value\":\"#1f77b4\"},\"line_alpha\":{\"value\":0.1},\"line_color\":{\"value\":\"#1f77b4\"},\"x\":{\"field\":\"x\"},\"y\":{\"field\":\"y\"}},\"id\":\"e2e67e70-1383-4d47-a18a-e2704f27e450\",\"type\":\"Circle\"},{\"attributes\":{\"children\":[{\"id\":\"ebadaca8-a1a4-45ef-b67b-43502495a211\",\"type\":\"ToolbarBox\"},{\"id\":\"699a2bf5-1809-49d4-9dc8-e2d33ce5ae99\",\"type\":\"Column\"}]},\"id\":\"b3cb45f4-db96-464f-8e03-951a5342eca8\",\"type\":\"Column\"},{\"attributes\":{\"source\":{\"id\":\"1bcda3e3-e92c-429a-8522-6440a9651b43\",\"type\":\"ColumnDataSource\"}},\"id\":\"46d2d777-29b9-4dcd-936f-f911e9742dd0\",\"type\":\"CDSView\"},{\"attributes\":{\"callback\":null,\"column_names\":[\"x\",\"y\"],\"data\":{\"x\":{\"__ndarray__\":\"TCk7HAF3Uj94nccPdCdTP8uvv82ylFQ/YiCOo0b7VT/8IuS49YFXP8zHd1/BE1k/hBj9LtWwWj/3XCtIq1lcPzd5nFlVDl4/SLMcemrNXz8BeOLcMstgP5R7ce6PuGE/vHQGcfmtYj8/ERxZq+pjP05aME+MfGg/6apV+CzIcT8HjINzObl5P/Ycg7Li84E/X9Tdn75DiD/3Ni3XUv+PP5KNl4/krZQ/L9E3NtSrmT+23bWYYDebP7yNABpE1pg/Hwjm74w+lT8lh6LOaA2RPwEdDQeVk4o/QSKsclxVhD8w/wSXE29+P8kRBj20JnY/NVOJAIUtbz+15uSNvhNlP7q7N0vIX1s/881i2mSoUD9bF5pEjFE4P++fsHmPBCm/VNcuM0GyO7/4A4gWV3Ivv4J2OuLSSDM/sKqR4hBeUT/tTv/q0tpmP9DGPmgqJ4I/n2fK4E8FlT8DVS+NuRujP7SwptUxPq0/8SX5kI1OtD8HlcpLtay6P2md1WrpZ8A/xKpKZ31vwj8BiJBmwv/EP6oyIuqgQcg/YQLQYj4HzD/95AwD5/vPP1kji7AF79E/jmGhYXDl0z+sZG6OleLVPx/TsSvX5Nc/pcXd6Jva2T8QnP4JjqDbP/uQRlf4Kt0/uHhL32Jn3j9oTT4u10DfP3KuxAXlmd8/rb6FsIqT4D8rswaWnHHgP4wzfdk2Wd8/EZ1KfncI3T/LeTMXd27ZPzL4LGtSMtY/3+r950Sa0z92S8Gz13vRP3gSpzdKmM8/Zk/iczUqzT+oqlqzzR7MP2fQ1fWpmdA/\",\"dtype\":\"float64\",\"shape\":[75]},\"y\":{\"__ndarray__\":\"GhExyth1ND/Sv8nbtpRIP2vylNV0PVE/aTum7souWD/At0SJ8fVgPw3Iuahxymc/MSNhhJWvcD/bTfBN02d3P2zb5nxnaoA/CD5h5MAGhz8NmeH1TyaQP+zrCsc9p5Y/LbKd76fGnz/bLW5ISEmmPww9YvTcQq8/JV2OstnstT8Er5Y7M8G+P0c+r3jqkcU/5h99k6ZBzj88bCIzFzjVP4enV8oyxN0//yH99nXg5D8qOpLLf0jtP5kqGJXUifQ/c9cS8kHP/D+/DpwzojQEQIEmwoanVwxA4lgXt9HgE0BSSZ2AJuIbQAMJih9jjiNA5q4l5INuK0AwTKYKRj0zQNv5fmq8/DpAaCJseHrtQkB/+zpwzoxKQM3MzMzMeFJAZmZmZmZqWEAAAAAAAFxeQM3MzMzMJmJAmpmZmZkfZUBmZmZmZhhoQDMzMzMzEWtAAAAAAAAKbkBmZmZmZoFwQM3MzMzM/XFAMzMzMzN6c0CamZmZmfZ0QAAAAAAAc3ZAZmZmZmbvd0DNzMzMzGt5QDMzMzMz6HpAmpmZmZlkfEAAAAAAAOF9QGZmZmZmXX9AZmZmZuZsgECamZmZGSuBQM3MzMxM6YFAAAAAAICngkAzMzMzs2WDQGZmZmbmI4RAmpmZmRnihEDNzMzMTKCFQAAAAACAXoZAMzMzM7Mch0BmZmZm5tqHQJqZmZkZmYhAzczMzExXiUAAAAAAgBWKQDMzMzOz04pAZmZmZuaRi0CamZmZGVCMQM3MzMxMDo1AAAAAAIDMjUAzMzMzs4qOQGZmZmbmSI9A\",\"dtype\":\"float64\",\"shape\":[75]}}},\"id\":\"ceb84174-e520-4dce-8c16-ca8fe3426e4a\",\"type\":\"ColumnDataSource\"},{\"attributes\":{\"callback\":null,\"column_names\":[\"x\",\"y\"],\"data\":{\"x\":{\"__ndarray__\":\"T13RvDW0Qz/BXp+L4j5FP9BIl3qrXUg/hl/oanG8Sz9ezodb2DpPP/XSRaioalE/Wu5QPWdFUz+k+BO19i5VP8vdrN+aJFc/cJFWGD0gWT9eTN64OC5bP3eULCLoOl0/iOSCOLG1Xj/Dwdrn3KVgP/ePZiRypWU/YeuZr2AMcT8VWqegUzZ6P3ENbXFm44I/Nd4t+zv8iT/XAGg+LkSRP7sKWXi/U5Y/0pCO/tmHmz/O3nyXEHucPxjrDG2v7pg/8YWyuEtXlD8C4J1R+g+PP8I47WacP4c/Nj8xeyh0gT/V4IzJemR6Py9R4I3jCHQ/zz/CM884bj+st3sxg1VmP5bB8hKl/l8/ilFwZcuhVT/oIUdPtPpDP0O5mShKdA2/C0SmTi9rN7+vbdvbsjwov4E2LOQOtjg/gHViONpWUz8PbXf7ondoP+Qs3mN/zYI/KKDDW2sYlT9p9KqbedyiPygRsycZ6qw/2mKvXuIbtD/rME987066P98PiYxYVcA/W1W8sofNwj8ze4/pv73FP+MVyrpmD8k/IjIPDUm1zD8+vABeE1DQP2SYj3slVtI/clAld5Zo1D+6wnlA8nHWP2+E4hrhZdg/A2VsS5E62j8buyPn7d3bP31R7ZlGT90/Jxtqb0t/3j9D1Z5I5kffPy2f/hYRg98/ET6M94Bs4D/b9uIwPSbgP0UhVVbLhN4/MSfkWh8c3D9VnZtX8Z3YP8f/FeBYo9U/YkSqQftF0z+CIeUGx1XRP7i4W8yuf88/he4OAIcWzT8J/MDZ1uTLP2vobvDoc9A/\",\"dtype\":\"float64\",\"shape\":[75]},\"y\":{\"__ndarray__\":\"GhExyth1ND/Sv8nbtpRIP2vylNV0PVE/aTum7souWD/At0SJ8fVgPw3Iuahxymc/MSNhhJWvcD/bTfBN02d3P2zb5nxnaoA/CD5h5MAGhz8NmeH1TyaQP+zrCsc9p5Y/LbKd76fGnz/bLW5ISEmmPww9YvTcQq8/JV2OstnstT8Er5Y7M8G+P0c+r3jqkcU/5h99k6ZBzj88bCIzFzjVP4enV8oyxN0//yH99nXg5D8qOpLLf0jtP5kqGJXUifQ/c9cS8kHP/D+/DpwzojQEQIEmwoanVwxA4lgXt9HgE0BSSZ2AJuIbQAMJih9jjiNA5q4l5INuK0AwTKYKRj0zQNv5fmq8/DpAaCJseHrtQkB/+zpwzoxKQM3MzMzMeFJAZmZmZmZqWEAAAAAAAFxeQM3MzMzMJmJAmpmZmZkfZUBmZmZmZhhoQDMzMzMzEWtAAAAAAAAKbkBmZmZmZoFwQM3MzMzM/XFAMzMzMzN6c0CamZmZmfZ0QAAAAAAAc3ZAZmZmZmbvd0DNzMzMzGt5QDMzMzMz6HpAmpmZmZlkfEAAAAAAAOF9QGZmZmZmXX9AZmZmZuZsgECamZmZGSuBQM3MzMxM6YFAAAAAAICngkAzMzMzs2WDQGZmZmbmI4RAmpmZmRnihEDNzMzMTKCFQAAAAACAXoZAMzMzM7Mch0BmZmZm5tqHQJqZmZkZmYhAzczMzExXiUAAAAAAgBWKQDMzMzOz04pAZmZmZuaRi0CamZmZGVCMQM3MzMxMDo1AAAAAAIDMjUAzMzMzs4qOQGZmZmbmSI9A\",\"dtype\":\"float64\",\"shape\":[75]}}},\"id\":\"01f4bb43-8596-4fad-ae5f-d2a8728c2790\",\"type\":\"ColumnDataSource\"},{\"attributes\":{\"axis_label\":\"pressure [mb]\",\"formatter\":{\"id\":\"0c44640a-2a0b-4ed5-a5f8-eaf158358293\",\"type\":\"LogTickFormatter\"},\"plot\":{\"id\":\"35f84939-d354-4264-89bc-d2455b28c0a5\",\"subtype\":\"Figure\",\"type\":\"Plot\"},\"ticker\":{\"id\":\"3f9cf496-8412-4a15-996b-529ca8a589e6\",\"type\":\"LogTicker\"}},\"id\":\"ebc3fc77-499e-4a3d-bda5-fd2ccf1881a0\",\"type\":\"LogAxis\"},{\"attributes\":{\"ticker\":null},\"id\":\"0c44640a-2a0b-4ed5-a5f8-eaf158358293\",\"type\":\"LogTickFormatter\"},{\"attributes\":{\"data_source\":{\"id\":\"a7b6c5e9-ee89-449c-a510-2ace6c0ae375\",\"type\":\"ColumnDataSource\"},\"glyph\":{\"id\":\"09da9db1-4cd1-4fad-ae3d-3e938b910810\",\"type\":\"Square\"},\"hover_glyph\":null,\"muted_glyph\":null,\"nonselection_glyph\":{\"id\":\"0bdc0e5c-256c-4ca8-a736-329c0a6af22d\",\"type\":\"Square\"},\"selection_glyph\":null,\"view\":{\"id\":\"419c9c2e-9c7a-480d-8ff3-062a917d3e1e\",\"type\":\"CDSView\"}},\"id\":\"57618140-a18a-46d8-af15-499509864b20\",\"type\":\"GlyphRenderer\"},{\"attributes\":{},\"id\":\"b6a570e9-f81d-42fb-9e86-c09b51cd9043\",\"type\":\"BasicTicker\"},{\"attributes\":{\"fill_alpha\":{\"value\":0.7},\"fill_color\":{\"value\":\"#4daf4a\"},\"line_alpha\":{\"value\":0.7},\"line_color\":{\"value\":\"#4daf4a\"},\"x\":{\"field\":\"x\"},\"y\":{\"field\":\"y\"}},\"id\":\"fc885d91-68ca-40e5-b806-28ebd6218f35\",\"type\":\"Circle\"},{\"attributes\":{\"source\":{\"id\":\"01f4bb43-8596-4fad-ae5f-d2a8728c2790\",\"type\":\"ColumnDataSource\"}},\"id\":\"914b94f8-9f54-4af9-aa56-4251369395e6\",\"type\":\"CDSView\"},{\"attributes\":{\"axis_label\":\"cooling rate [K/day]\",\"formatter\":{\"id\":\"3c29e341-0598-43e6-81de-14c22d2d9171\",\"type\":\"BasicTickFormatter\"},\"plot\":{\"id\":\"35f84939-d354-4264-89bc-d2455b28c0a5\",\"subtype\":\"Figure\",\"type\":\"Plot\"},\"ticker\":{\"id\":\"b6a570e9-f81d-42fb-9e86-c09b51cd9043\",\"type\":\"BasicTicker\"}},\"id\":\"7805ac23-b330-49dd-8a57-b4848596936b\",\"type\":\"LinearAxis\"},{\"attributes\":{},\"id\":\"3c29e341-0598-43e6-81de-14c22d2d9171\",\"type\":\"BasicTickFormatter\"},{\"attributes\":{\"active_drag\":\"auto\",\"active_inspect\":\"auto\",\"active_scroll\":\"auto\",\"active_tap\":\"auto\",\"tools\":[{\"id\":\"d3f18d49-5f6e-4864-9091-e9babca66cae\",\"type\":\"PanTool\"},{\"id\":\"99c37d7d-eb8c-49e1-93c3-83058fe14302\",\"type\":\"WheelZoomTool\"},{\"id\":\"382ed7cb-16f4-4161-bf89-12b200d8c69c\",\"type\":\"BoxZoomTool\"},{\"id\":\"ab3cfcef-5a98-4ce5-908b-5437cfed55f1\",\"type\":\"SaveTool\"},{\"id\":\"185c80f5-eb57-466a-91a8-d87772a3dbfc\",\"type\":\"ResetTool\"},{\"id\":\"48b72834-3b13-47d0-bdd6-c513f84bdcb7\",\"type\":\"HelpTool\"}]},\"id\":\"fa7a660e-6013-472d-b6c5-f6f6535f2a3c\",\"type\":\"Toolbar\"},{\"attributes\":{\"data_source\":{\"id\":\"6059e47c-9451-4297-8190-45888f1b0de2\",\"type\":\"ColumnDataSource\"},\"glyph\":{\"id\":\"a7c43f37-43bb-424e-86d0-746181d9d435\",\"type\":\"Line\"},\"hover_glyph\":null,\"muted_glyph\":null,\"nonselection_glyph\":{\"id\":\"7bacb6a4-b3a0-4340-9e28-f810ed940a3c\",\"type\":\"Line\"},\"selection_glyph\":null,\"view\":{\"id\":\"90ae55a4-9fff-4b9d-8d13-9e763f35c1b3\",\"type\":\"CDSView\"}},\"id\":\"11ad5af9-81c9-414a-98df-3153f32e1a54\",\"type\":\"GlyphRenderer\"},{\"attributes\":{\"line_color\":\"#4daf4a\",\"line_width\":1.5,\"x\":{\"field\":\"x\"},\"y\":{\"field\":\"y\"}},\"id\":\"a7c43f37-43bb-424e-86d0-746181d9d435\",\"type\":\"Line\"},{\"attributes\":{\"line_alpha\":0.6,\"line_color\":\"#984ea3\",\"line_width\":3,\"x\":{\"field\":\"x\"},\"y\":{\"field\":\"y\"}},\"id\":\"25066b87-440d-489e-bddc-013d53cfda28\",\"type\":\"Line\"},{\"attributes\":{\"line_alpha\":0.1,\"line_color\":\"#1f77b4\",\"line_width\":1.5,\"x\":{\"field\":\"x\"},\"y\":{\"field\":\"y\"}},\"id\":\"7bacb6a4-b3a0-4340-9e28-f810ed940a3c\",\"type\":\"Line\"},{\"attributes\":{\"callback\":null,\"column_names\":[\"x\",\"y\"],\"data\":{\"x\":{\"__ndarray__\":\"TCk7HAF3Uj94nccPdCdTP8uvv82ylFQ/YiCOo0b7VT/8IuS49YFXP8zHd1/BE1k/hBj9LtWwWj/3XCtIq1lcPzd5nFlVDl4/SLMcemrNXz8BeOLcMstgP5R7ce6PuGE/vHQGcfmtYj8/ERxZq+pjP05aME+MfGg/6apV+CzIcT8HjINzObl5P/Ycg7Li84E/X9Tdn75DiD/3Ni3XUv+PP5KNl4/krZQ/L9E3NtSrmT+23bWYYDebP7yNABpE1pg/Hwjm74w+lT8lh6LOaA2RPwEdDQeVk4o/QSKsclxVhD8w/wSXE29+P8kRBj20JnY/NVOJAIUtbz+15uSNvhNlP7q7N0vIX1s/881i2mSoUD9bF5pEjFE4P++fsHmPBCm/VNcuM0GyO7/4A4gWV3Ivv4J2OuLSSDM/sKqR4hBeUT/tTv/q0tpmP9DGPmgqJ4I/n2fK4E8FlT8DVS+NuRujP7SwptUxPq0/8SX5kI1OtD8HlcpLtay6P2md1WrpZ8A/xKpKZ31vwj8BiJBmwv/EP6oyIuqgQcg/YQLQYj4HzD/95AwD5/vPP1kji7AF79E/jmGhYXDl0z+sZG6OleLVPx/TsSvX5Nc/pcXd6Jva2T8QnP4JjqDbP/uQRlf4Kt0/uHhL32Jn3j9oTT4u10DfP3KuxAXlmd8/rb6FsIqT4D8rswaWnHHgP4wzfdk2Wd8/EZ1KfncI3T/LeTMXd27ZPzL4LGtSMtY/3+r950Sa0z92S8Gz13vRP3gSpzdKmM8/Zk/iczUqzT+oqlqzzR7MP2fQ1fWpmdA/\",\"dtype\":\"float64\",\"shape\":[75]},\"y\":{\"__ndarray__\":\"GhExyth1ND/Sv8nbtpRIP2vylNV0PVE/aTum7souWD/At0SJ8fVgPw3Iuahxymc/MSNhhJWvcD/bTfBN02d3P2zb5nxnaoA/CD5h5MAGhz8NmeH1TyaQP+zrCsc9p5Y/LbKd76fGnz/bLW5ISEmmPww9YvTcQq8/JV2OstnstT8Er5Y7M8G+P0c+r3jqkcU/5h99k6ZBzj88bCIzFzjVP4enV8oyxN0//yH99nXg5D8qOpLLf0jtP5kqGJXUifQ/c9cS8kHP/D+/DpwzojQEQIEmwoanVwxA4lgXt9HgE0BSSZ2AJuIbQAMJih9jjiNA5q4l5INuK0AwTKYKRj0zQNv5fmq8/DpAaCJseHrtQkB/+zpwzoxKQM3MzMzMeFJAZmZmZmZqWEAAAAAAAFxeQM3MzMzMJmJAmpmZmZkfZUBmZmZmZhhoQDMzMzMzEWtAAAAAAAAKbkBmZmZmZoFwQM3MzMzM/XFAMzMzMzN6c0CamZmZmfZ0QAAAAAAAc3ZAZmZmZmbvd0DNzMzMzGt5QDMzMzMz6HpAmpmZmZlkfEAAAAAAAOF9QGZmZmZmXX9AZmZmZuZsgECamZmZGSuBQM3MzMxM6YFAAAAAAICngkAzMzMzs2WDQGZmZmbmI4RAmpmZmRnihEDNzMzMTKCFQAAAAACAXoZAMzMzM7Mch0BmZmZm5tqHQJqZmZkZmYhAzczMzExXiUAAAAAAgBWKQDMzMzOz04pAZmZmZuaRi0CamZmZGVCMQM3MzMxMDo1AAAAAAIDMjUAzMzMzs4qOQGZmZmbmSI9A\",\"dtype\":\"float64\",\"shape\":[75]}}},\"id\":\"232ab754-47ec-44ff-a572-a5bc40c38477\",\"type\":\"ColumnDataSource\"},{\"attributes\":{\"fill_alpha\":{\"value\":0.7},\"fill_color\":{\"value\":\"#4daf4a\"},\"line_alpha\":{\"value\":0.7},\"line_color\":{\"value\":\"#4daf4a\"},\"x\":{\"field\":\"x\"},\"y\":{\"field\":\"y\"}},\"id\":\"d27d6737-7cd6-4ea9-806b-366b01ecde62\",\"type\":\"Circle\"},{\"attributes\":{\"source\":{\"id\":\"a7b6c5e9-ee89-449c-a510-2ace6c0ae375\",\"type\":\"ColumnDataSource\"}},\"id\":\"419c9c2e-9c7a-480d-8ff3-062a917d3e1e\",\"type\":\"CDSView\"},{\"attributes\":{\"source\":{\"id\":\"6059e47c-9451-4297-8190-45888f1b0de2\",\"type\":\"ColumnDataSource\"}},\"id\":\"90ae55a4-9fff-4b9d-8d13-9e763f35c1b3\",\"type\":\"CDSView\"},{\"attributes\":{\"data_source\":{\"id\":\"d25f877c-4124-4f9d-af3e-de5366f028a3\",\"type\":\"ColumnDataSource\"},\"glyph\":{\"id\":\"3fa9433c-bdb4-4c23-9df8-b48531746488\",\"type\":\"Line\"},\"hover_glyph\":null,\"muted_glyph\":null,\"nonselection_glyph\":{\"id\":\"9f1e195c-acc2-4c84-82ac-47fddf340b7f\",\"type\":\"Line\"},\"selection_glyph\":null,\"view\":{\"id\":\"a0757807-fd84-4164-99b3-016e4d75a330\",\"type\":\"CDSView\"}},\"id\":\"ce7df053-2f4e-42e5-9ff6-11624d10aec2\",\"type\":\"GlyphRenderer\"},{\"attributes\":{\"fill_alpha\":{\"value\":0.7},\"fill_color\":{\"value\":\"#984ea3\"},\"line_alpha\":{\"value\":0.7},\"line_color\":{\"value\":\"#984ea3\"},\"x\":{\"field\":\"x\"},\"y\":{\"field\":\"y\"}},\"id\":\"2c36e7a6-fb72-46c4-bff2-1c3ff45d4c40\",\"type\":\"Square\"},{\"attributes\":{\"items\":[{\"id\":\"a17ce0d4-06be-4483-8a03-d4bec44735b4\",\"type\":\"LegendItem\"},{\"id\":\"3c92f3e5-d12d-427e-8cf7-f6311f563ba4\",\"type\":\"LegendItem\"},{\"id\":\"e4b78538-7e2d-4925-a3af-6e00a50eed00\",\"type\":\"LegendItem\"}],\"label_text_font_size\":{\"value\":\"8pt\"},\"location\":[10,-30],\"plot\":{\"id\":\"35f84939-d354-4264-89bc-d2455b28c0a5\",\"subtype\":\"Figure\",\"type\":\"Plot\"}},\"id\":\"ef295f18-d79e-48dc-af5b-8e56bb1bfb3d\",\"type\":\"Legend\"},{\"attributes\":{\"callback\":null,\"end\":0.01,\"start\":1020},\"id\":\"ebd80f3f-1699-479a-b884-01ecff76e778\",\"type\":\"Range1d\"},{\"attributes\":{\"line_alpha\":0.6,\"line_color\":\"#984ea3\",\"line_width\":3,\"x\":{\"field\":\"x\"},\"y\":{\"field\":\"y\"}},\"id\":\"3fa9433c-bdb4-4c23-9df8-b48531746488\",\"type\":\"Line\"},{\"attributes\":{\"source\":{\"id\":\"ceb84174-e520-4dce-8c16-ca8fe3426e4a\",\"type\":\"ColumnDataSource\"}},\"id\":\"5f205b7b-60b7-407c-8cca-63d18701b563\",\"type\":\"CDSView\"},{\"attributes\":{\"callback\":null,\"end\":0.0280963393275,\"start\":-0.0007833620775},\"id\":\"38fefc98-d340-453d-8d9e-7b949b24bb29\",\"type\":\"Range1d\"},{\"attributes\":{\"plot\":null,\"text\":\"Log pressure scale\"},\"id\":\"b490e601-cfc0-4260-a60c-8cbb1eab6c1d\",\"type\":\"Title\"},{\"attributes\":{\"fill_alpha\":{\"value\":0.1},\"fill_color\":{\"value\":\"#1f77b4\"},\"line_alpha\":{\"value\":0.1},\"line_color\":{\"value\":\"#1f77b4\"},\"x\":{\"field\":\"x\"},\"y\":{\"field\":\"y\"}},\"id\":\"a6eb4b1c-8310-44cf-9905-180e5250eb9a\",\"type\":\"Square\"},{\"attributes\":{\"data_source\":{\"id\":\"ceb84174-e520-4dce-8c16-ca8fe3426e4a\",\"type\":\"ColumnDataSource\"},\"glyph\":{\"id\":\"2c36e7a6-fb72-46c4-bff2-1c3ff45d4c40\",\"type\":\"Square\"},\"hover_glyph\":null,\"muted_glyph\":null,\"nonselection_glyph\":{\"id\":\"a6eb4b1c-8310-44cf-9905-180e5250eb9a\",\"type\":\"Square\"},\"selection_glyph\":null,\"view\":{\"id\":\"5f205b7b-60b7-407c-8cca-63d18701b563\",\"type\":\"CDSView\"}},\"id\":\"4ca5fbdf-c2b4-4ab9-89ae-e03c0b329383\",\"type\":\"GlyphRenderer\"},{\"attributes\":{\"below\":[{\"id\":\"7805ac23-b330-49dd-8a57-b4848596936b\",\"type\":\"LinearAxis\"}],\"left\":[{\"id\":\"ebc3fc77-499e-4a3d-bda5-fd2ccf1881a0\",\"type\":\"LogAxis\"}],\"plot_height\":500,\"plot_width\":560,\"renderers\":[{\"id\":\"7805ac23-b330-49dd-8a57-b4848596936b\",\"type\":\"LinearAxis\"},{\"id\":\"f6599069-4468-46f0-bcbe-0d8482e3a49c\",\"type\":\"Grid\"},{\"id\":\"ebc3fc77-499e-4a3d-bda5-fd2ccf1881a0\",\"type\":\"LogAxis\"},{\"id\":\"3d29522c-d9d7-46bd-98ea-25a0050ef5e8\",\"type\":\"Grid\"},{\"id\":\"618c10a5-e589-469d-9a66-5e3abf98c0b4\",\"type\":\"BoxAnnotation\"},{\"id\":\"cc038a66-4013-40c7-b744-60b00edd20e7\",\"type\":\"GlyphRenderer\"},{\"id\":\"9904b696-5985-49d8-9a0f-07bd7078a414\",\"type\":\"GlyphRenderer\"},{\"id\":\"11ad5af9-81c9-414a-98df-3153f32e1a54\",\"type\":\"GlyphRenderer\"},{\"id\":\"4ca5fbdf-c2b4-4ab9-89ae-e03c0b329383\",\"type\":\"GlyphRenderer\"},{\"id\":\"4b4efed4-e668-407a-9434-8ec2d1a66c18\",\"type\":\"GlyphRenderer\"},{\"id\":\"ef295f18-d79e-48dc-af5b-8e56bb1bfb3d\",\"type\":\"Legend\"}],\"right\":[{\"id\":\"ef295f18-d79e-48dc-af5b-8e56bb1bfb3d\",\"type\":\"Legend\"}],\"title\":{\"id\":\"b490e601-cfc0-4260-a60c-8cbb1eab6c1d\",\"type\":\"Title\"},\"toolbar\":{\"id\":\"fa7a660e-6013-472d-b6c5-f6f6535f2a3c\",\"type\":\"Toolbar\"},\"toolbar_location\":null,\"x_range\":{\"id\":\"38fefc98-d340-453d-8d9e-7b949b24bb29\",\"type\":\"Range1d\"},\"x_scale\":{\"id\":\"4ad97273-885c-4f77-b25b-b99e24343f24\",\"type\":\"LinearScale\"},\"y_range\":{\"id\":\"ebd80f3f-1699-479a-b884-01ecff76e778\",\"type\":\"Range1d\"},\"y_scale\":{\"id\":\"c0ef1e32-0b4b-44df-8805-8a88dcc8f223\",\"type\":\"LogScale\"}},\"id\":\"35f84939-d354-4264-89bc-d2455b28c0a5\",\"subtype\":\"Figure\",\"type\":\"Plot\"},{\"attributes\":{\"source\":{\"id\":\"232ab754-47ec-44ff-a572-a5bc40c38477\",\"type\":\"ColumnDataSource\"}},\"id\":\"1bf98bea-bae6-45e7-9898-c63472f40c73\",\"type\":\"CDSView\"},{\"attributes\":{\"toolbar\":{\"id\":\"7b0760d2-b0d7-4290-9171-cf0032cef6cb\",\"type\":\"ProxyToolbar\"},\"toolbar_location\":\"above\"},\"id\":\"ebadaca8-a1a4-45ef-b67b-43502495a211\",\"type\":\"ToolbarBox\"},{\"attributes\":{\"callback\":null,\"end\":0.5547523906775,\"start\":-0.005997778427500001},\"id\":\"2a997a55-a38e-4cb3-ae46-442af4ee5f86\",\"type\":\"Range1d\"},{\"attributes\":{\"line_alpha\":0.1,\"line_color\":\"#1f77b4\",\"line_width\":3,\"x\":{\"field\":\"x\"},\"y\":{\"field\":\"y\"}},\"id\":\"bccd50b6-4efd-4e62-8598-04bf8673bb26\",\"type\":\"Line\"},{\"attributes\":{\"data_source\":{\"id\":\"232ab754-47ec-44ff-a572-a5bc40c38477\",\"type\":\"ColumnDataSource\"},\"glyph\":{\"id\":\"25066b87-440d-489e-bddc-013d53cfda28\",\"type\":\"Line\"},\"hover_glyph\":null,\"muted_glyph\":null,\"nonselection_glyph\":{\"id\":\"bccd50b6-4efd-4e62-8598-04bf8673bb26\",\"type\":\"Line\"},\"selection_glyph\":null,\"view\":{\"id\":\"1bf98bea-bae6-45e7-9898-c63472f40c73\",\"type\":\"CDSView\"}},\"id\":\"4b4efed4-e668-407a-9434-8ec2d1a66c18\",\"type\":\"GlyphRenderer\"},{\"attributes\":{},\"id\":\"c0ef1e32-0b4b-44df-8805-8a88dcc8f223\",\"type\":\"LogScale\"},{\"attributes\":{\"tools\":[{\"id\":\"df805990-b824-444c-9b68-adc31cab8cef\",\"type\":\"PanTool\"},{\"id\":\"d9c65fed-29cc-44f8-a666-009de21a0486\",\"type\":\"WheelZoomTool\"},{\"id\":\"bbdf2133-41b9-4734-815c-19ac43e1fc25\",\"type\":\"BoxZoomTool\"},{\"id\":\"8560f1e5-1b7a-41f2-8e83-35d5c654d194\",\"type\":\"SaveTool\"},{\"id\":\"a367bb35-ab2e-44e2-a8a2-9296c5db528f\",\"type\":\"ResetTool\"},{\"id\":\"94533f9e-3dfa-47f4-bd26-f57b1dc7583f\",\"type\":\"HelpTool\"},{\"id\":\"d3f18d49-5f6e-4864-9091-e9babca66cae\",\"type\":\"PanTool\"},{\"id\":\"99c37d7d-eb8c-49e1-93c3-83058fe14302\",\"type\":\"WheelZoomTool\"},{\"id\":\"382ed7cb-16f4-4161-bf89-12b200d8c69c\",\"type\":\"BoxZoomTool\"},{\"id\":\"ab3cfcef-5a98-4ce5-908b-5437cfed55f1\",\"type\":\"SaveTool\"},{\"id\":\"185c80f5-eb57-466a-91a8-d87772a3dbfc\",\"type\":\"ResetTool\"},{\"id\":\"48b72834-3b13-47d0-bdd6-c513f84bdcb7\",\"type\":\"HelpTool\"}]},\"id\":\"7b0760d2-b0d7-4290-9171-cf0032cef6cb\",\"type\":\"ProxyToolbar\"},{\"attributes\":{},\"id\":\"5667521e-705e-467c-bd27-ad6a598856cc\",\"type\":\"BasicTickFormatter\"},{\"attributes\":{\"callback\":null,\"column_names\":[\"x\",\"y\"],\"data\":{\"x\":{\"__ndarray__\":\"TCk7HAF3Uj94nccPdCdTP8uvv82ylFQ/YiCOo0b7VT/8IuS49YFXP8zHd1/BE1k/hBj9LtWwWj/3XCtIq1lcPzd5nFlVDl4/SLMcemrNXz8BeOLcMstgP5R7ce6PuGE/vHQGcfmtYj8/ERxZq+pjP05aME+MfGg/6apV+CzIcT8HjINzObl5P/Ycg7Li84E/X9Tdn75DiD/3Ni3XUv+PP5KNl4/krZQ/L9E3NtSrmT+23bWYYDebP7yNABpE1pg/Hwjm74w+lT8lh6LOaA2RPwEdDQeVk4o/QSKsclxVhD8w/wSXE29+P8kRBj20JnY/NVOJAIUtbz+15uSNvhNlP7q7N0vIX1s/881i2mSoUD9bF5pEjFE4P++fsHmPBCm/VNcuM0GyO7/4A4gWV3Ivv4J2OuLSSDM/sKqR4hBeUT/tTv/q0tpmP9DGPmgqJ4I/n2fK4E8FlT8DVS+NuRujP7SwptUxPq0/8SX5kI1OtD8HlcpLtay6P2md1WrpZ8A/xKpKZ31vwj8BiJBmwv/EP6oyIuqgQcg/YQLQYj4HzD/95AwD5/vPP1kji7AF79E/jmGhYXDl0z+sZG6OleLVPx/TsSvX5Nc/pcXd6Jva2T8QnP4JjqDbP/uQRlf4Kt0/uHhL32Jn3j9oTT4u10DfP3KuxAXlmd8/rb6FsIqT4D8rswaWnHHgP4wzfdk2Wd8/EZ1KfncI3T/LeTMXd27ZPzL4LGtSMtY/3+r950Sa0z92S8Gz13vRP3gSpzdKmM8/Zk/iczUqzT+oqlqzzR7MP2fQ1fWpmdA/\",\"dtype\":\"float64\",\"shape\":[75]},\"y\":{\"__ndarray__\":\"GhExyth1ND/Sv8nbtpRIP2vylNV0PVE/aTum7souWD/At0SJ8fVgPw3Iuahxymc/MSNhhJWvcD/bTfBN02d3P2zb5nxnaoA/CD5h5MAGhz8NmeH1TyaQP+zrCsc9p5Y/LbKd76fGnz/bLW5ISEmmPww9YvTcQq8/JV2OstnstT8Er5Y7M8G+P0c+r3jqkcU/5h99k6ZBzj88bCIzFzjVP4enV8oyxN0//yH99nXg5D8qOpLLf0jtP5kqGJXUifQ/c9cS8kHP/D+/DpwzojQEQIEmwoanVwxA4lgXt9HgE0BSSZ2AJuIbQAMJih9jjiNA5q4l5INuK0AwTKYKRj0zQNv5fmq8/DpAaCJseHrtQkB/+zpwzoxKQM3MzMzMeFJAZmZmZmZqWEAAAAAAAFxeQM3MzMzMJmJAmpmZmZkfZUBmZmZmZhhoQDMzMzMzEWtAAAAAAAAKbkBmZmZmZoFwQM3MzMzM/XFAMzMzMzN6c0CamZmZmfZ0QAAAAAAAc3ZAZmZmZmbvd0DNzMzMzGt5QDMzMzMz6HpAmpmZmZlkfEAAAAAAAOF9QGZmZmZmXX9AZmZmZuZsgECamZmZGSuBQM3MzMxM6YFAAAAAAICngkAzMzMzs2WDQGZmZmbmI4RAmpmZmRnihEDNzMzMTKCFQAAAAACAXoZAMzMzM7Mch0BmZmZm5tqHQJqZmZkZmYhAzczMzExXiUAAAAAAgBWKQDMzMzOz04pAZmZmZuaRi0CamZmZGVCMQM3MzMxMDo1AAAAAAIDMjUAzMzMzs4qOQGZmZmbmSI9A\",\"dtype\":\"float64\",\"shape\":[75]}}},\"id\":\"d25f877c-4124-4f9d-af3e-de5366f028a3\",\"type\":\"ColumnDataSource\"},{\"attributes\":{\"source\":{\"id\":\"f788680c-8d6f-4c0e-921c-2710e9c11028\",\"type\":\"ColumnDataSource\"}},\"id\":\"5bcb00ac-5b6c-4955-b52b-7f1ca4ceb4b9\",\"type\":\"CDSView\"},{\"attributes\":{\"plot\":{\"id\":\"35f84939-d354-4264-89bc-d2455b28c0a5\",\"subtype\":\"Figure\",\"type\":\"Plot\"},\"ticker\":{\"id\":\"b6a570e9-f81d-42fb-9e86-c09b51cd9043\",\"type\":\"BasicTicker\"}},\"id\":\"f6599069-4468-46f0-bcbe-0d8482e3a49c\",\"type\":\"Grid\"},{\"attributes\":{\"fill_alpha\":{\"value\":0.7},\"fill_color\":{\"value\":\"#984ea3\"},\"line_alpha\":{\"value\":0.7},\"line_color\":{\"value\":\"#984ea3\"},\"x\":{\"field\":\"x\"},\"y\":{\"field\":\"y\"}},\"id\":\"09da9db1-4cd1-4fad-ae3d-3e938b910810\",\"type\":\"Square\"},{\"attributes\":{\"line_alpha\":0.6,\"line_color\":\"#e41a1c\",\"line_dash\":[6],\"line_width\":5,\"x\":{\"field\":\"x\"},\"y\":{\"field\":\"y\"}},\"id\":\"2df438ac-530a-4dca-bcf4-55e711ebf4b9\",\"type\":\"Line\"},{\"attributes\":{\"fill_alpha\":{\"value\":0.1},\"fill_color\":{\"value\":\"#1f77b4\"},\"line_alpha\":{\"value\":0.1},\"line_color\":{\"value\":\"#1f77b4\"},\"x\":{\"field\":\"x\"},\"y\":{\"field\":\"y\"}},\"id\":\"0bdc0e5c-256c-4ca8-a736-329c0a6af22d\",\"type\":\"Square\"},{\"attributes\":{\"source\":{\"id\":\"d25f877c-4124-4f9d-af3e-de5366f028a3\",\"type\":\"ColumnDataSource\"}},\"id\":\"a0757807-fd84-4164-99b3-016e4d75a330\",\"type\":\"CDSView\"},{\"attributes\":{\"callback\":null,\"column_names\":[\"x\",\"y\"],\"data\":{\"x\":{\"__ndarray__\":\"TCk7HAF3Uj94nccPdCdTP8uvv82ylFQ/YiCOo0b7VT/8IuS49YFXP8zHd1/BE1k/hBj9LtWwWj/3XCtIq1lcPzd5nFlVDl4/SLMcemrNXz8BeOLcMstgP5R7ce6PuGE/vHQGcfmtYj8/ERxZq+pjP05aME+MfGg/6apV+CzIcT8HjINzObl5P/Ycg7Li84E/X9Tdn75DiD/3Ni3XUv+PP5KNl4/krZQ/L9E3NtSrmT+23bWYYDebP7yNABpE1pg/Hwjm74w+lT8lh6LOaA2RPwEdDQeVk4o/QSKsclxVhD8w/wSXE29+P8kRBj20JnY/NVOJAIUtbz+15uSNvhNlP7q7N0vIX1s/881i2mSoUD9bF5pEjFE4P++fsHmPBCm/VNcuM0GyO7/4A4gWV3Ivv4J2OuLSSDM/sKqR4hBeUT/tTv/q0tpmP9DGPmgqJ4I/n2fK4E8FlT8DVS+NuRujP7SwptUxPq0/8SX5kI1OtD8HlcpLtay6P2md1WrpZ8A/xKpKZ31vwj8BiJBmwv/EP6oyIuqgQcg/YQLQYj4HzD/95AwD5/vPP1kji7AF79E/jmGhYXDl0z+sZG6OleLVPx/TsSvX5Nc/pcXd6Jva2T8QnP4JjqDbP/uQRlf4Kt0/uHhL32Jn3j9oTT4u10DfP3KuxAXlmd8/rb6FsIqT4D8rswaWnHHgP4wzfdk2Wd8/EZ1KfncI3T/LeTMXd27ZPzL4LGtSMtY/3+r950Sa0z92S8Gz13vRP3gSpzdKmM8/Zk/iczUqzT+oqlqzzR7MP2fQ1fWpmdA/\",\"dtype\":\"float64\",\"shape\":[75]},\"y\":{\"__ndarray__\":\"GhExyth1ND/Sv8nbtpRIP2vylNV0PVE/aTum7souWD/At0SJ8fVgPw3Iuahxymc/MSNhhJWvcD/bTfBN02d3P2zb5nxnaoA/CD5h5MAGhz8NmeH1TyaQP+zrCsc9p5Y/LbKd76fGnz/bLW5ISEmmPww9YvTcQq8/JV2OstnstT8Er5Y7M8G+P0c+r3jqkcU/5h99k6ZBzj88bCIzFzjVP4enV8oyxN0//yH99nXg5D8qOpLLf0jtP5kqGJXUifQ/c9cS8kHP/D+/DpwzojQEQIEmwoanVwxA4lgXt9HgE0BSSZ2AJuIbQAMJih9jjiNA5q4l5INuK0AwTKYKRj0zQNv5fmq8/DpAaCJseHrtQkB/+zpwzoxKQM3MzMzMeFJAZmZmZmZqWEAAAAAAAFxeQM3MzMzMJmJAmpmZmZkfZUBmZmZmZhhoQDMzMzMzEWtAAAAAAAAKbkBmZmZmZoFwQM3MzMzM/XFAMzMzMzN6c0CamZmZmfZ0QAAAAAAAc3ZAZmZmZmbvd0DNzMzMzGt5QDMzMzMz6HpAmpmZmZlkfEAAAAAAAOF9QGZmZmZmXX9AZmZmZuZsgECamZmZGSuBQM3MzMxM6YFAAAAAAICngkAzMzMzs2WDQGZmZmbmI4RAmpmZmRnihEDNzMzMTKCFQAAAAACAXoZAMzMzM7Mch0BmZmZm5tqHQJqZmZkZmYhAzczMzExXiUAAAAAAgBWKQDMzMzOz04pAZmZmZuaRi0CamZmZGVCMQM3MzMxMDo1AAAAAAIDMjUAzMzMzs4qOQGZmZmbmSI9A\",\"dtype\":\"float64\",\"shape\":[75]}}},\"id\":\"a7b6c5e9-ee89-449c-a510-2ace6c0ae375\",\"type\":\"ColumnDataSource\"},{\"attributes\":{\"line_alpha\":0.1,\"line_color\":\"#1f77b4\",\"line_width\":3,\"x\":{\"field\":\"x\"},\"y\":{\"field\":\"y\"}},\"id\":\"9f1e195c-acc2-4c84-82ac-47fddf340b7f\",\"type\":\"Line\"},{\"attributes\":{\"source\":{\"id\":\"65e13047-c351-4341-8bf3-e740d0883d85\",\"type\":\"ColumnDataSource\"}},\"id\":\"f53217c8-2ef1-46fd-a09e-a9f68fd8f987\",\"type\":\"CDSView\"}],\"root_ids\":[\"b3cb45f4-db96-464f-8e03-951a5342eca8\"]},\"title\":\"Bokeh Application\",\"version\":\"0.12.14\"}};\n",
       "  var render_items = [{\"docid\":\"abd07576-334d-4e8c-b209-d65382f42917\",\"elementid\":\"4ab7ece6-1811-44b5-94f1-7b64502a2dde\",\"modelid\":\"b3cb45f4-db96-464f-8e03-951a5342eca8\"}];\n",
       "  root.Bokeh.embed.embed_items_notebook(docs_json, render_items);\n",
       "\n",
       "  }\n",
       "  if (root.Bokeh !== undefined) {\n",
       "    embed_document(root);\n",
       "  } else {\n",
       "    var attempts = 0;\n",
       "    var timer = setInterval(function(root) {\n",
       "      if (root.Bokeh !== undefined) {\n",
       "        embed_document(root);\n",
       "        clearInterval(timer);\n",
       "      }\n",
       "      attempts++;\n",
       "      if (attempts > 100) {\n",
       "        console.log(\"Bokeh: ERROR: Unable to run BokehJS code because BokehJS library is missing\")\n",
       "        clearInterval(timer);\n",
       "      }\n",
       "    }, 10, root)\n",
       "  }\n",
       "})(window);"
      ],
      "application/vnd.bokehjs_exec.v0+json": ""
     },
     "metadata": {
      "application/vnd.bokehjs_exec.v0+json": {
       "id": "b3cb45f4-db96-464f-8e03-951a5342eca8"
      }
     },
     "output_type": "display_data"
    },
    {
     "name": "stdout",
     "output_type": "stream",
     "text": [
      "FIGURE. Cooling rate profiles.\n"
     ]
    },
    {
     "data": {
      "text/html": [
       "<a id=\"Flux_Comparison\"></a>"
      ],
      "text/plain": [
       "<IPython.core.display.HTML object>"
      ]
     },
     "metadata": {},
     "output_type": "display_data"
    },
    {
     "data": {
      "text/markdown": [
       "# Flux Comparison"
      ],
      "text/plain": [
       "<IPython.core.display.Markdown object>"
      ]
     },
     "metadata": {},
     "output_type": "display_data"
    },
    {
     "data": {
      "text/html": [
       "<div>\n",
       "<style>\n",
       "    .dataframe thead tr:only-child th {\n",
       "        text-align: right;\n",
       "    }\n",
       "\n",
       "    .dataframe thead th {\n",
       "        text-align: left;\n",
       "    }\n",
       "\n",
       "    .dataframe tbody tr th {\n",
       "        vertical-align: top;\n",
       "    }\n",
       "</style>\n",
       "<table border=\"1\" class=\"dataframe\">\n",
       "  <thead>\n",
       "    <tr style=\"text-align: right;\">\n",
       "      <th></th>\n",
       "      <th></th>\n",
       "      <th>flug</th>\n",
       "      <th>fldg</th>\n",
       "      <th>fnetg</th>\n",
       "    </tr>\n",
       "    <tr>\n",
       "      <th>pressure</th>\n",
       "      <th>level</th>\n",
       "      <th></th>\n",
       "      <th></th>\n",
       "      <th></th>\n",
       "    </tr>\n",
       "  </thead>\n",
       "  <tbody>\n",
       "    <tr>\n",
       "      <th>0.0000</th>\n",
       "      <th>1</th>\n",
       "      <td>-29.999447</td>\n",
       "      <td>0.000000</td>\n",
       "      <td>-29.999447</td>\n",
       "    </tr>\n",
       "    <tr>\n",
       "      <th>1.0685</th>\n",
       "      <th>24</th>\n",
       "      <td>-29.998932</td>\n",
       "      <td>0.001912</td>\n",
       "      <td>-29.997019</td>\n",
       "    </tr>\n",
       "    <tr>\n",
       "      <th>1013.0000</th>\n",
       "      <th>76</th>\n",
       "      <td>-38.491735</td>\n",
       "      <td>35.869918</td>\n",
       "      <td>-2.621816</td>\n",
       "    </tr>\n",
       "  </tbody>\n",
       "</table>\n",
       "</div>"
      ],
      "text/plain": [
       "                      flug       fldg      fnetg\n",
       "pressure  level                                 \n",
       "0.0000    1     -29.999447   0.000000 -29.999447\n",
       "1.0685    24    -29.998932   0.001912 -29.997019\n",
       "1013.0000 76    -38.491735  35.869918  -2.621816"
      ]
     },
     "metadata": {},
     "output_type": "display_data"
    },
    {
     "name": "stdout",
     "output_type": "stream",
     "text": [
      "Table. Fluxes. WGT igg=10 wgt_flux=1\n"
     ]
    },
    {
     "data": {
      "text/html": [
       "<div>\n",
       "<style>\n",
       "    .dataframe thead tr:only-child th {\n",
       "        text-align: right;\n",
       "    }\n",
       "\n",
       "    .dataframe thead th {\n",
       "        text-align: left;\n",
       "    }\n",
       "\n",
       "    .dataframe tbody tr th {\n",
       "        vertical-align: top;\n",
       "    }\n",
       "</style>\n",
       "<table border=\"1\" class=\"dataframe\">\n",
       "  <thead>\n",
       "    <tr style=\"text-align: right;\">\n",
       "      <th></th>\n",
       "      <th></th>\n",
       "      <th>flug</th>\n",
       "      <th>fldg</th>\n",
       "      <th>fnetg</th>\n",
       "    </tr>\n",
       "    <tr>\n",
       "      <th>pressure</th>\n",
       "      <th>level</th>\n",
       "      <th></th>\n",
       "      <th></th>\n",
       "      <th></th>\n",
       "    </tr>\n",
       "  </thead>\n",
       "  <tbody>\n",
       "    <tr>\n",
       "      <th>0.0000</th>\n",
       "      <th>1</th>\n",
       "      <td>-30.009778</td>\n",
       "      <td>0.000000</td>\n",
       "      <td>-30.009778</td>\n",
       "    </tr>\n",
       "    <tr>\n",
       "      <th>1.0685</th>\n",
       "      <th>24</th>\n",
       "      <td>-30.009411</td>\n",
       "      <td>0.002207</td>\n",
       "      <td>-30.007204</td>\n",
       "    </tr>\n",
       "    <tr>\n",
       "      <th>1013.0000</th>\n",
       "      <th>76</th>\n",
       "      <td>-38.491734</td>\n",
       "      <td>35.831584</td>\n",
       "      <td>-2.660150</td>\n",
       "    </tr>\n",
       "  </tbody>\n",
       "</table>\n",
       "</div>"
      ],
      "text/plain": [
       "                      flug       fldg      fnetg\n",
       "pressure  level                                 \n",
       "0.0000    1     -30.009778   0.000000 -30.009778\n",
       "1.0685    24    -30.009411   0.002207 -30.007204\n",
       "1013.0000 76    -38.491734  35.831584  -2.660150"
      ]
     },
     "metadata": {},
     "output_type": "display_data"
    },
    {
     "name": "stdout",
     "output_type": "stream",
     "text": [
      "Table. Fluxes. CRD\n"
     ]
    },
    {
     "data": {
      "text/html": [
       "<div>\n",
       "<style>\n",
       "    .dataframe thead tr:only-child th {\n",
       "        text-align: right;\n",
       "    }\n",
       "\n",
       "    .dataframe thead th {\n",
       "        text-align: left;\n",
       "    }\n",
       "\n",
       "    .dataframe tbody tr th {\n",
       "        vertical-align: top;\n",
       "    }\n",
       "</style>\n",
       "<table border=\"1\" class=\"dataframe\">\n",
       "  <thead>\n",
       "    <tr style=\"text-align: right;\">\n",
       "      <th></th>\n",
       "      <th></th>\n",
       "      <th>flug</th>\n",
       "      <th>fldg</th>\n",
       "      <th>fnetg</th>\n",
       "    </tr>\n",
       "    <tr>\n",
       "      <th>pressure</th>\n",
       "      <th>level</th>\n",
       "      <th></th>\n",
       "      <th></th>\n",
       "      <th></th>\n",
       "    </tr>\n",
       "  </thead>\n",
       "  <tbody>\n",
       "    <tr>\n",
       "      <th>1.000000e-08</th>\n",
       "      <th>1</th>\n",
       "      <td>-30.078400</td>\n",
       "      <td>0.000002</td>\n",
       "      <td>-30.078398</td>\n",
       "    </tr>\n",
       "    <tr>\n",
       "      <th>1.068500e+00</th>\n",
       "      <th>24</th>\n",
       "      <td>-30.077812</td>\n",
       "      <td>0.001898</td>\n",
       "      <td>-30.075914</td>\n",
       "    </tr>\n",
       "    <tr>\n",
       "      <th>1.013000e+03</th>\n",
       "      <th>76</th>\n",
       "      <td>-38.491730</td>\n",
       "      <td>36.230018</td>\n",
       "      <td>-2.261712</td>\n",
       "    </tr>\n",
       "  </tbody>\n",
       "</table>\n",
       "</div>"
      ],
      "text/plain": [
       "                         flug       fldg      fnetg\n",
       "pressure     level                                 \n",
       "1.000000e-08 1     -30.078400   0.000002 -30.078398\n",
       "1.068500e+00 24    -30.077812   0.001898 -30.075914\n",
       "1.013000e+03 76    -38.491730  36.230018  -2.261712"
      ]
     },
     "metadata": {},
     "output_type": "display_data"
    },
    {
     "name": "stdout",
     "output_type": "stream",
     "text": [
      "Table. Fluxes. CLIRAD\n"
     ]
    },
    {
     "data": {
      "text/html": [
       "<div>\n",
       "<style>\n",
       "    .dataframe thead tr:only-child th {\n",
       "        text-align: right;\n",
       "    }\n",
       "\n",
       "    .dataframe thead th {\n",
       "        text-align: left;\n",
       "    }\n",
       "\n",
       "    .dataframe tbody tr th {\n",
       "        vertical-align: top;\n",
       "    }\n",
       "</style>\n",
       "<table border=\"1\" class=\"dataframe\">\n",
       "  <thead>\n",
       "    <tr style=\"text-align: right;\">\n",
       "      <th></th>\n",
       "      <th></th>\n",
       "      <th>flug</th>\n",
       "      <th>fldg</th>\n",
       "      <th>fnetg</th>\n",
       "    </tr>\n",
       "    <tr>\n",
       "      <th>pressure</th>\n",
       "      <th>level</th>\n",
       "      <th></th>\n",
       "      <th></th>\n",
       "      <th></th>\n",
       "    </tr>\n",
       "  </thead>\n",
       "  <tbody>\n",
       "    <tr>\n",
       "      <th>0.0000</th>\n",
       "      <th>1</th>\n",
       "      <td>-1.033057e-02</td>\n",
       "      <td>0.000000</td>\n",
       "      <td>-0.010331</td>\n",
       "    </tr>\n",
       "    <tr>\n",
       "      <th>1.0685</th>\n",
       "      <th>24</th>\n",
       "      <td>-1.047910e-02</td>\n",
       "      <td>0.000295</td>\n",
       "      <td>-0.010185</td>\n",
       "    </tr>\n",
       "    <tr>\n",
       "      <th>1013.0000</th>\n",
       "      <th>76</th>\n",
       "      <td>5.600000e-07</td>\n",
       "      <td>-0.038334</td>\n",
       "      <td>-0.038334</td>\n",
       "    </tr>\n",
       "  </tbody>\n",
       "</table>\n",
       "</div>"
      ],
      "text/plain": [
       "                         flug      fldg     fnetg\n",
       "pressure  level                                  \n",
       "0.0000    1     -1.033057e-02  0.000000 -0.010331\n",
       "1.0685    24    -1.047910e-02  0.000295 -0.010185\n",
       "1013.0000 76     5.600000e-07 -0.038334 -0.038334"
      ]
     },
     "metadata": {},
     "output_type": "display_data"
    },
    {
     "name": "stdout",
     "output_type": "stream",
     "text": [
      "Table. Fluxes. (CRD) - (WGT igg=10 wgt_flux=1)\n"
     ]
    },
    {
     "data": {
      "text/html": [
       "<div>\n",
       "<style>\n",
       "    .dataframe thead tr:only-child th {\n",
       "        text-align: right;\n",
       "    }\n",
       "\n",
       "    .dataframe thead th {\n",
       "        text-align: left;\n",
       "    }\n",
       "\n",
       "    .dataframe tbody tr th {\n",
       "        vertical-align: top;\n",
       "    }\n",
       "</style>\n",
       "<table border=\"1\" class=\"dataframe\">\n",
       "  <thead>\n",
       "    <tr style=\"text-align: right;\">\n",
       "      <th></th>\n",
       "      <th></th>\n",
       "      <th>flug</th>\n",
       "      <th>fldg</th>\n",
       "      <th>fnetg</th>\n",
       "    </tr>\n",
       "    <tr>\n",
       "      <th>pressure</th>\n",
       "      <th>level</th>\n",
       "      <th></th>\n",
       "      <th></th>\n",
       "      <th></th>\n",
       "    </tr>\n",
       "  </thead>\n",
       "  <tbody>\n",
       "    <tr>\n",
       "      <th>0.0000</th>\n",
       "      <th>1</th>\n",
       "      <td>-0.078953</td>\n",
       "      <td>0.000002</td>\n",
       "      <td>-0.078951</td>\n",
       "    </tr>\n",
       "    <tr>\n",
       "      <th>1.0685</th>\n",
       "      <th>24</th>\n",
       "      <td>-0.078880</td>\n",
       "      <td>-0.000014</td>\n",
       "      <td>-0.078895</td>\n",
       "    </tr>\n",
       "    <tr>\n",
       "      <th>1013.0000</th>\n",
       "      <th>76</th>\n",
       "      <td>0.000005</td>\n",
       "      <td>0.360100</td>\n",
       "      <td>0.360104</td>\n",
       "    </tr>\n",
       "  </tbody>\n",
       "</table>\n",
       "</div>"
      ],
      "text/plain": [
       "                     flug      fldg     fnetg\n",
       "pressure  level                              \n",
       "0.0000    1     -0.078953  0.000002 -0.078951\n",
       "1.0685    24    -0.078880 -0.000014 -0.078895\n",
       "1013.0000 76     0.000005  0.360100  0.360104"
      ]
     },
     "metadata": {},
     "output_type": "display_data"
    },
    {
     "name": "stdout",
     "output_type": "stream",
     "text": [
      "Table. Fluxes. (CLIRAD) - (WGT igg=10 wgt_flux=1)\n"
     ]
    },
    {
     "data": {
      "text/html": [
       "<a id=\"Best-fit_Parameters\"></a>"
      ],
      "text/plain": [
       "<IPython.core.display.HTML object>"
      ]
     },
     "metadata": {},
     "output_type": "display_data"
    },
    {
     "data": {
      "text/markdown": [
       "# Best-fit Parameters"
      ],
      "text/plain": [
       "<IPython.core.display.Markdown object>"
      ]
     },
     "metadata": {},
     "output_type": "display_data"
    },
    {
     "name": "stdout",
     "output_type": "stream",
     "text": [
      "Best-fit values for each (gas, band)\n",
      "------------------------------------\n",
      "o h2o band3a\n",
      "  atmpro = mls\n",
      "  band = 3a\n",
      "  commitnumber = 2bd1f75\n",
      "  conc = None\n",
      "  dv = 0.01\n",
      "  klin = 0\n",
      "  molecule = h2o\n",
      "  ng_adju = [0, 0]\n",
      "  ng_refs = [2, 6]\n",
      "  nv = 100\n",
      "  option_compute_btable = 0\n",
      "  option_compute_ktable = 1\n",
      "  option_wgt_flux = 1\n",
      "  option_wgt_k = 1\n",
      "  ref_pts = [(10, 250), (600, 250)]\n",
      "  tsfc = 294\n",
      "  vmax = 620\n",
      "  vmin = 540\n",
      "  w_diffuse = [(1.9, 1.7), (1.4, 1.4, 1.4, 1.55, 1.6, 1.66)]\n",
      "  wgt = [(0.7, 0.7), (0.7, 0.5, 0.5, 0.5, 0.5, 0.5)]\n"
     ]
    }
   ],
   "source": [
    "script()"
   ]
  },
  {
   "cell_type": "code",
   "execution_count": 13,
   "metadata": {
    "collapsed": true
   },
   "outputs": [
    {
     "data": {
      "text/html": [
       "<script>\n",
       "code_show=true; \n",
       "function code_toggle() {\n",
       " if (code_show){\n",
       " $('div.input').hide();\n",
       " } else {\n",
       " $('div.input').show();\n",
       " }\n",
       " code_show = !code_show\n",
       "} \n",
       "$( document ).ready(code_toggle);\n",
       "</script>\n",
       "<form action=\"javascript:code_toggle()\"><input type=\"submit\" value=\"Click here to toggle on/off the raw code.\"></form>"
      ],
      "text/plain": [
       "<IPython.core.display.HTML object>"
      ]
     },
     "execution_count": 13,
     "metadata": {},
     "output_type": "execute_result"
    }
   ],
   "source": [
    "display.HTML('''<script>\n",
    "code_show=true; \n",
    "function code_toggle() {\n",
    " if (code_show){\n",
    " $('div.input').hide();\n",
    " } else {\n",
    " $('div.input').show();\n",
    " }\n",
    " code_show = !code_show\n",
    "} \n",
    "$( document ).ready(code_toggle);\n",
    "</script>\n",
    "<form action=\"javascript:code_toggle()\"><input type=\"submit\" value=\"Click here to toggle on/off the raw code.\"></form>''')"
   ]
  }
 ],
 "metadata": {
  "kernelspec": {
   "display_name": "Python 3",
   "language": "python",
   "name": "python3"
  },
  "language_info": {
   "codemirror_mode": {
    "name": "ipython",
    "version": 3
   },
   "file_extension": ".py",
   "mimetype": "text/x-python",
   "name": "python",
   "nbconvert_exporter": "python",
   "pygments_lexer": "ipython3",
   "version": "3.6.1"
  }
 },
 "nbformat": 4,
 "nbformat_minor": 2
}
