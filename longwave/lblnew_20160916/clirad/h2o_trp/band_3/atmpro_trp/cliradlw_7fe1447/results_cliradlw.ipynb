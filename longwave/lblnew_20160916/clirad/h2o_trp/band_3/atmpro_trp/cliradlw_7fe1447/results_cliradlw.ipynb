{
 "cells": [
  {
   "cell_type": "code",
   "execution_count": 1,
   "metadata": {
    "collapsed": true
   },
   "outputs": [],
   "source": [
    "%matplotlib inline\n",
    "import os\n",
    "import re\n",
    "import io\n",
    "import itertools\n",
    "import pprint\n",
    "\n",
    "from bokeh.io import output_notebook, show\n",
    "from bokeh.layouts import gridplot\n",
    "from bokeh.plotting import figure\n",
    "from bokeh.models import Range1d, Legend\n",
    "from bokeh.palettes import all_palettes\n",
    "\n",
    "import matplotlib\n",
    "import matplotlib.pyplot as plt\n",
    "import numpy as np\n",
    "import pandas as pd\n",
    "import xarray as xr\n",
    "\n",
    "import climatools.lblnew.bestfit_params as bestfits\n",
    "from climatools.lblnew import setup_bestfit, setup_overlap\n",
    "import climatools.lblnew.pipeline as pipe_lblnew\n",
    "import climatools.cliradlw.setup as setup_cliradlw\n",
    "import climatools.cliradlw.pipeline as pipe_cliradlw\n",
    "\n",
    "import climatools.html.html as climahtml\n",
    "from climatools.lblnew.dataio import *\n",
    "from climatools.plot.plot import *\n",
    "\n",
    "\n",
    "import IPython.display as display"
   ]
  },
  {
   "cell_type": "code",
   "execution_count": 2,
   "metadata": {
    "collapsed": true
   },
   "outputs": [],
   "source": [
    "%run param.py"
   ]
  },
  {
   "cell_type": "code",
   "execution_count": 3,
   "metadata": {
    "collapsed": true
   },
   "outputs": [],
   "source": [
    "def load_output_file(path_csv):\n",
    "    '''\n",
    "    Load lblnew output .csv file to xarray.Dataset\n",
    "    \n",
    "    Parameters\n",
    "    ----------\n",
    "    path_csv: str\n",
    "              Path to the .csv file to be loaded.\n",
    "    ds: xarray.Dataset\n",
    "        Data in the input file in the form of an xarray.Dataset.\n",
    "    '''\n",
    "    toindex = ['band', 'pressure', 'igg', 'g']    \n",
    "    df = pd.read_csv(path_csv, sep=r'\\s+')\n",
    "    df = df.set_index([i for i in toindex if i in df.columns])\n",
    "    df = df.rename(columns={'sfu': 'flug',\n",
    "                            'sfd': 'fldg',\n",
    "                            'fnet': 'fnetg',\n",
    "                            'coolr': 'coolrg'})\n",
    "    ds = xr.Dataset.from_dataframe(df)\n",
    "\n",
    "    for l in ('level', 'layer'):\n",
    "        if l in ds.data_vars:\n",
    "            if len(ds[l].dims) > 1:\n",
    "                surface = {d: 0 for d in ds.dims if d != 'pressure'}\n",
    "                coord_level = ds[l][surface]\n",
    "                ds.coords[l] = ('pressure', coord_level)\n",
    "            else:\n",
    "                ds.coords[l] = ('pressure', ds[l])\n",
    "    \n",
    "    return ds"
   ]
  },
  {
   "cell_type": "code",
   "execution_count": 4,
   "metadata": {
    "collapsed": true
   },
   "outputs": [],
   "source": [
    "def lblnew_setup(param=None):\n",
    "    if 'ng_refs' in param:\n",
    "        return {'setup': setup_bestfit,\n",
    "                'fname_flux_crd': 'output_flux.dat',\n",
    "                'fname_cool_crd': 'output_coolr.dat',\n",
    "                'fname_flux_wgt': 'output_wfluxg.dat',\n",
    "                'fname_cool_wgt': 'output_wcoolrg.dat'}\n",
    "    else:\n",
    "        return {'setup': setup_overlap,\n",
    "                'fname_flux_crd': 'output_flux.dat',\n",
    "                'fname_cool_crd': 'output_coolr.dat',\n",
    "                'fname_flux_wgt': 'output_wflux.dat',\n",
    "                'fname_cool_wgt': 'output_wcoolr.dat'}\n",
    "\n",
    "    \n",
    "def load_lblnew_data(param):\n",
    "    \n",
    "    fname_dsname = [('fname_flux_crd', 'ds_flux_crd'),\n",
    "                    ('fname_cool_crd', 'ds_cool_crd'),\n",
    "                    ('fname_flux_wgt', 'ds_flux_wgt'),\n",
    "                    ('fname_cool_wgt', 'ds_cool_wgt')]\n",
    "    \n",
    "    d = lblnew_setup(param)\n",
    "    dir_fortran = pipe_lblnew.get_dir_case(param, setup=d['setup'])\n",
    "    \n",
    "    data_dict = {}\n",
    "    for fname, dsname in fname_dsname:\n",
    "        fpath = os.path.join(dir_fortran, d[fname])\n",
    "        data_dict[dsname] = load_output_file(fpath)\n",
    "    return data_dict\n",
    "    \n",
    "\n",
    "    \n",
    "    "
   ]
  },
  {
   "cell_type": "code",
   "execution_count": 5,
   "metadata": {
    "collapsed": true
   },
   "outputs": [],
   "source": [
    "d = load_lblnew_data(PARAM_LBLNEW)\n",
    "\n",
    "DS_FLUX_CRD = d['ds_flux_crd']\n",
    "DS_COOL_CRD = d['ds_cool_crd']\n",
    "DS_FLUX_WGT = d['ds_flux_wgt']\n",
    "DS_COOL_WGT = d['ds_cool_wgt']"
   ]
  },
  {
   "cell_type": "code",
   "execution_count": 6,
   "metadata": {
    "collapsed": true
   },
   "outputs": [],
   "source": [
    "DIR_FORTRAN = pipe_cliradlw.get_fortran_dir(PARAM, \n",
    "                                            setup=setup_cliradlw)\n",
    "\n",
    "PATH_FLUX = os.path.join(DIR_FORTRAN, 'output_flux.dat')\n",
    "PATH_COOL = os.path.join(DIR_FORTRAN, 'output_coolr.dat')\n",
    "\n",
    "DS_FLUX = load_output_file(PATH_FLUX)\n",
    "DS_COOL = load_output_file(PATH_COOL)"
   ]
  },
  {
   "cell_type": "code",
   "execution_count": 7,
   "metadata": {
    "collapsed": true
   },
   "outputs": [
    {
     "data": {
      "text/html": [
       "\n",
       "    <div class=\"bk-root\">\n",
       "        <a href=\"https://bokeh.pydata.org\" target=\"_blank\" class=\"bk-logo bk-logo-small bk-logo-notebook\"></a>\n",
       "        <span id=\"1af79946-7aef-44c3-860d-171697f6b353\">Loading BokehJS ...</span>\n",
       "    </div>"
      ]
     },
     "metadata": {},
     "output_type": "display_data"
    },
    {
     "data": {
      "application/javascript": [
       "\n",
       "(function(root) {\n",
       "  function now() {\n",
       "    return new Date();\n",
       "  }\n",
       "\n",
       "  var force = true;\n",
       "\n",
       "  if (typeof (root._bokeh_onload_callbacks) === \"undefined\" || force === true) {\n",
       "    root._bokeh_onload_callbacks = [];\n",
       "    root._bokeh_is_loading = undefined;\n",
       "  }\n",
       "\n",
       "  var JS_MIME_TYPE = 'application/javascript';\n",
       "  var HTML_MIME_TYPE = 'text/html';\n",
       "  var EXEC_MIME_TYPE = 'application/vnd.bokehjs_exec.v0+json';\n",
       "  var CLASS_NAME = 'output_bokeh rendered_html';\n",
       "\n",
       "  /**\n",
       "   * Render data to the DOM node\n",
       "   */\n",
       "  function render(props, node) {\n",
       "    var script = document.createElement(\"script\");\n",
       "    node.appendChild(script);\n",
       "  }\n",
       "\n",
       "  /**\n",
       "   * Handle when an output is cleared or removed\n",
       "   */\n",
       "  function handleClearOutput(event, handle) {\n",
       "    var cell = handle.cell;\n",
       "\n",
       "    var id = cell.output_area._bokeh_element_id;\n",
       "    var server_id = cell.output_area._bokeh_server_id;\n",
       "    // Clean up Bokeh references\n",
       "    if (id !== undefined) {\n",
       "      Bokeh.index[id].model.document.clear();\n",
       "      delete Bokeh.index[id];\n",
       "    }\n",
       "\n",
       "    if (server_id !== undefined) {\n",
       "      // Clean up Bokeh references\n",
       "      var cmd = \"from bokeh.io.state import curstate; print(curstate().uuid_to_server['\" + server_id + \"'].get_sessions()[0].document.roots[0]._id)\";\n",
       "      cell.notebook.kernel.execute(cmd, {\n",
       "        iopub: {\n",
       "          output: function(msg) {\n",
       "            var element_id = msg.content.text.trim();\n",
       "            Bokeh.index[element_id].model.document.clear();\n",
       "            delete Bokeh.index[element_id];\n",
       "          }\n",
       "        }\n",
       "      });\n",
       "      // Destroy server and session\n",
       "      var cmd = \"import bokeh.io.notebook as ion; ion.destroy_server('\" + server_id + \"')\";\n",
       "      cell.notebook.kernel.execute(cmd);\n",
       "    }\n",
       "  }\n",
       "\n",
       "  /**\n",
       "   * Handle when a new output is added\n",
       "   */\n",
       "  function handleAddOutput(event, handle) {\n",
       "    var output_area = handle.output_area;\n",
       "    var output = handle.output;\n",
       "\n",
       "    // limit handleAddOutput to display_data with EXEC_MIME_TYPE content only\n",
       "    if ((output.output_type != \"display_data\") || (!output.data.hasOwnProperty(EXEC_MIME_TYPE))) {\n",
       "      return\n",
       "    }\n",
       "\n",
       "    var toinsert = output_area.element.find(\".\" + CLASS_NAME.split(' ')[0]);\n",
       "\n",
       "    if (output.metadata[EXEC_MIME_TYPE][\"id\"] !== undefined) {\n",
       "      toinsert[0].firstChild.textContent = output.data[JS_MIME_TYPE];\n",
       "      // store reference to embed id on output_area\n",
       "      output_area._bokeh_element_id = output.metadata[EXEC_MIME_TYPE][\"id\"];\n",
       "    }\n",
       "    if (output.metadata[EXEC_MIME_TYPE][\"server_id\"] !== undefined) {\n",
       "      var bk_div = document.createElement(\"div\");\n",
       "      bk_div.innerHTML = output.data[HTML_MIME_TYPE];\n",
       "      var script_attrs = bk_div.children[0].attributes;\n",
       "      for (var i = 0; i < script_attrs.length; i++) {\n",
       "        toinsert[0].firstChild.setAttribute(script_attrs[i].name, script_attrs[i].value);\n",
       "      }\n",
       "      // store reference to server id on output_area\n",
       "      output_area._bokeh_server_id = output.metadata[EXEC_MIME_TYPE][\"server_id\"];\n",
       "    }\n",
       "  }\n",
       "\n",
       "  function register_renderer(events, OutputArea) {\n",
       "\n",
       "    function append_mime(data, metadata, element) {\n",
       "      // create a DOM node to render to\n",
       "      var toinsert = this.create_output_subarea(\n",
       "        metadata,\n",
       "        CLASS_NAME,\n",
       "        EXEC_MIME_TYPE\n",
       "      );\n",
       "      this.keyboard_manager.register_events(toinsert);\n",
       "      // Render to node\n",
       "      var props = {data: data, metadata: metadata[EXEC_MIME_TYPE]};\n",
       "      render(props, toinsert[0]);\n",
       "      element.append(toinsert);\n",
       "      return toinsert\n",
       "    }\n",
       "\n",
       "    /* Handle when an output is cleared or removed */\n",
       "    events.on('clear_output.CodeCell', handleClearOutput);\n",
       "    events.on('delete.Cell', handleClearOutput);\n",
       "\n",
       "    /* Handle when a new output is added */\n",
       "    events.on('output_added.OutputArea', handleAddOutput);\n",
       "\n",
       "    /**\n",
       "     * Register the mime type and append_mime function with output_area\n",
       "     */\n",
       "    OutputArea.prototype.register_mime_type(EXEC_MIME_TYPE, append_mime, {\n",
       "      /* Is output safe? */\n",
       "      safe: true,\n",
       "      /* Index of renderer in `output_area.display_order` */\n",
       "      index: 0\n",
       "    });\n",
       "  }\n",
       "\n",
       "  // register the mime type if in Jupyter Notebook environment and previously unregistered\n",
       "  if (root.Jupyter !== undefined) {\n",
       "    var events = require('base/js/events');\n",
       "    var OutputArea = require('notebook/js/outputarea').OutputArea;\n",
       "\n",
       "    if (OutputArea.prototype.mime_types().indexOf(EXEC_MIME_TYPE) == -1) {\n",
       "      register_renderer(events, OutputArea);\n",
       "    }\n",
       "  }\n",
       "\n",
       "  \n",
       "  if (typeof (root._bokeh_timeout) === \"undefined\" || force === true) {\n",
       "    root._bokeh_timeout = Date.now() + 5000;\n",
       "    root._bokeh_failed_load = false;\n",
       "  }\n",
       "\n",
       "  var NB_LOAD_WARNING = {'data': {'text/html':\n",
       "     \"<div style='background-color: #fdd'>\\n\"+\n",
       "     \"<p>\\n\"+\n",
       "     \"BokehJS does not appear to have successfully loaded. If loading BokehJS from CDN, this \\n\"+\n",
       "     \"may be due to a slow or bad network connection. Possible fixes:\\n\"+\n",
       "     \"</p>\\n\"+\n",
       "     \"<ul>\\n\"+\n",
       "     \"<li>re-rerun `output_notebook()` to attempt to load from CDN again, or</li>\\n\"+\n",
       "     \"<li>use INLINE resources instead, as so:</li>\\n\"+\n",
       "     \"</ul>\\n\"+\n",
       "     \"<code>\\n\"+\n",
       "     \"from bokeh.resources import INLINE\\n\"+\n",
       "     \"output_notebook(resources=INLINE)\\n\"+\n",
       "     \"</code>\\n\"+\n",
       "     \"</div>\"}};\n",
       "\n",
       "  function display_loaded() {\n",
       "    var el = document.getElementById(\"1af79946-7aef-44c3-860d-171697f6b353\");\n",
       "    if (el != null) {\n",
       "      el.textContent = \"BokehJS is loading...\";\n",
       "    }\n",
       "    if (root.Bokeh !== undefined) {\n",
       "      if (el != null) {\n",
       "        el.textContent = \"BokehJS \" + root.Bokeh.version + \" successfully loaded.\";\n",
       "      }\n",
       "    } else if (Date.now() < root._bokeh_timeout) {\n",
       "      setTimeout(display_loaded, 100)\n",
       "    }\n",
       "  }\n",
       "\n",
       "\n",
       "  function run_callbacks() {\n",
       "    try {\n",
       "      root._bokeh_onload_callbacks.forEach(function(callback) { callback() });\n",
       "    }\n",
       "    finally {\n",
       "      delete root._bokeh_onload_callbacks\n",
       "    }\n",
       "    console.info(\"Bokeh: all callbacks have finished\");\n",
       "  }\n",
       "\n",
       "  function load_libs(js_urls, callback) {\n",
       "    root._bokeh_onload_callbacks.push(callback);\n",
       "    if (root._bokeh_is_loading > 0) {\n",
       "      console.log(\"Bokeh: BokehJS is being loaded, scheduling callback at\", now());\n",
       "      return null;\n",
       "    }\n",
       "    if (js_urls == null || js_urls.length === 0) {\n",
       "      run_callbacks();\n",
       "      return null;\n",
       "    }\n",
       "    console.log(\"Bokeh: BokehJS not loaded, scheduling load and callback at\", now());\n",
       "    root._bokeh_is_loading = js_urls.length;\n",
       "    for (var i = 0; i < js_urls.length; i++) {\n",
       "      var url = js_urls[i];\n",
       "      var s = document.createElement('script');\n",
       "      s.src = url;\n",
       "      s.async = false;\n",
       "      s.onreadystatechange = s.onload = function() {\n",
       "        root._bokeh_is_loading--;\n",
       "        if (root._bokeh_is_loading === 0) {\n",
       "          console.log(\"Bokeh: all BokehJS libraries loaded\");\n",
       "          run_callbacks()\n",
       "        }\n",
       "      };\n",
       "      s.onerror = function() {\n",
       "        console.warn(\"failed to load library \" + url);\n",
       "      };\n",
       "      console.log(\"Bokeh: injecting script tag for BokehJS library: \", url);\n",
       "      document.getElementsByTagName(\"head\")[0].appendChild(s);\n",
       "    }\n",
       "  };var element = document.getElementById(\"1af79946-7aef-44c3-860d-171697f6b353\");\n",
       "  if (element == null) {\n",
       "    console.log(\"Bokeh: ERROR: autoload.js configured with elementid '1af79946-7aef-44c3-860d-171697f6b353' but no matching script tag was found. \")\n",
       "    return false;\n",
       "  }\n",
       "\n",
       "  var js_urls = [\"https://cdn.pydata.org/bokeh/release/bokeh-0.12.14.min.js\", \"https://cdn.pydata.org/bokeh/release/bokeh-widgets-0.12.14.min.js\", \"https://cdn.pydata.org/bokeh/release/bokeh-tables-0.12.14.min.js\", \"https://cdn.pydata.org/bokeh/release/bokeh-gl-0.12.14.min.js\"];\n",
       "\n",
       "  var inline_js = [\n",
       "    function(Bokeh) {\n",
       "      Bokeh.set_log_level(\"info\");\n",
       "    },\n",
       "    \n",
       "    function(Bokeh) {\n",
       "      \n",
       "    },\n",
       "    function(Bokeh) {\n",
       "      console.log(\"Bokeh: injecting CSS: https://cdn.pydata.org/bokeh/release/bokeh-0.12.14.min.css\");\n",
       "      Bokeh.embed.inject_css(\"https://cdn.pydata.org/bokeh/release/bokeh-0.12.14.min.css\");\n",
       "      console.log(\"Bokeh: injecting CSS: https://cdn.pydata.org/bokeh/release/bokeh-widgets-0.12.14.min.css\");\n",
       "      Bokeh.embed.inject_css(\"https://cdn.pydata.org/bokeh/release/bokeh-widgets-0.12.14.min.css\");\n",
       "      console.log(\"Bokeh: injecting CSS: https://cdn.pydata.org/bokeh/release/bokeh-tables-0.12.14.min.css\");\n",
       "      Bokeh.embed.inject_css(\"https://cdn.pydata.org/bokeh/release/bokeh-tables-0.12.14.min.css\");\n",
       "    }\n",
       "  ];\n",
       "\n",
       "  function run_inline_js() {\n",
       "    \n",
       "    if ((root.Bokeh !== undefined) || (force === true)) {\n",
       "      for (var i = 0; i < inline_js.length; i++) {\n",
       "        inline_js[i].call(root, root.Bokeh);\n",
       "      }if (force === true) {\n",
       "        display_loaded();\n",
       "      }} else if (Date.now() < root._bokeh_timeout) {\n",
       "      setTimeout(run_inline_js, 100);\n",
       "    } else if (!root._bokeh_failed_load) {\n",
       "      console.log(\"Bokeh: BokehJS failed to load within specified timeout.\");\n",
       "      root._bokeh_failed_load = true;\n",
       "    } else if (force !== true) {\n",
       "      var cell = $(document.getElementById(\"1af79946-7aef-44c3-860d-171697f6b353\")).parents('.cell').data().cell;\n",
       "      cell.output_area.append_execute_result(NB_LOAD_WARNING)\n",
       "    }\n",
       "\n",
       "  }\n",
       "\n",
       "  if (root._bokeh_is_loading === 0) {\n",
       "    console.log(\"Bokeh: BokehJS loaded, going straight to plotting\");\n",
       "    run_inline_js();\n",
       "  } else {\n",
       "    load_libs(js_urls, function() {\n",
       "      console.log(\"Bokeh: BokehJS plotting callback run at\", now());\n",
       "      run_inline_js();\n",
       "    });\n",
       "  }\n",
       "}(window));"
      ],
      "application/vnd.bokehjs_load.v0+json": "\n(function(root) {\n  function now() {\n    return new Date();\n  }\n\n  var force = true;\n\n  if (typeof (root._bokeh_onload_callbacks) === \"undefined\" || force === true) {\n    root._bokeh_onload_callbacks = [];\n    root._bokeh_is_loading = undefined;\n  }\n\n  \n\n  \n  if (typeof (root._bokeh_timeout) === \"undefined\" || force === true) {\n    root._bokeh_timeout = Date.now() + 5000;\n    root._bokeh_failed_load = false;\n  }\n\n  var NB_LOAD_WARNING = {'data': {'text/html':\n     \"<div style='background-color: #fdd'>\\n\"+\n     \"<p>\\n\"+\n     \"BokehJS does not appear to have successfully loaded. If loading BokehJS from CDN, this \\n\"+\n     \"may be due to a slow or bad network connection. Possible fixes:\\n\"+\n     \"</p>\\n\"+\n     \"<ul>\\n\"+\n     \"<li>re-rerun `output_notebook()` to attempt to load from CDN again, or</li>\\n\"+\n     \"<li>use INLINE resources instead, as so:</li>\\n\"+\n     \"</ul>\\n\"+\n     \"<code>\\n\"+\n     \"from bokeh.resources import INLINE\\n\"+\n     \"output_notebook(resources=INLINE)\\n\"+\n     \"</code>\\n\"+\n     \"</div>\"}};\n\n  function display_loaded() {\n    var el = document.getElementById(\"1af79946-7aef-44c3-860d-171697f6b353\");\n    if (el != null) {\n      el.textContent = \"BokehJS is loading...\";\n    }\n    if (root.Bokeh !== undefined) {\n      if (el != null) {\n        el.textContent = \"BokehJS \" + root.Bokeh.version + \" successfully loaded.\";\n      }\n    } else if (Date.now() < root._bokeh_timeout) {\n      setTimeout(display_loaded, 100)\n    }\n  }\n\n\n  function run_callbacks() {\n    try {\n      root._bokeh_onload_callbacks.forEach(function(callback) { callback() });\n    }\n    finally {\n      delete root._bokeh_onload_callbacks\n    }\n    console.info(\"Bokeh: all callbacks have finished\");\n  }\n\n  function load_libs(js_urls, callback) {\n    root._bokeh_onload_callbacks.push(callback);\n    if (root._bokeh_is_loading > 0) {\n      console.log(\"Bokeh: BokehJS is being loaded, scheduling callback at\", now());\n      return null;\n    }\n    if (js_urls == null || js_urls.length === 0) {\n      run_callbacks();\n      return null;\n    }\n    console.log(\"Bokeh: BokehJS not loaded, scheduling load and callback at\", now());\n    root._bokeh_is_loading = js_urls.length;\n    for (var i = 0; i < js_urls.length; i++) {\n      var url = js_urls[i];\n      var s = document.createElement('script');\n      s.src = url;\n      s.async = false;\n      s.onreadystatechange = s.onload = function() {\n        root._bokeh_is_loading--;\n        if (root._bokeh_is_loading === 0) {\n          console.log(\"Bokeh: all BokehJS libraries loaded\");\n          run_callbacks()\n        }\n      };\n      s.onerror = function() {\n        console.warn(\"failed to load library \" + url);\n      };\n      console.log(\"Bokeh: injecting script tag for BokehJS library: \", url);\n      document.getElementsByTagName(\"head\")[0].appendChild(s);\n    }\n  };var element = document.getElementById(\"1af79946-7aef-44c3-860d-171697f6b353\");\n  if (element == null) {\n    console.log(\"Bokeh: ERROR: autoload.js configured with elementid '1af79946-7aef-44c3-860d-171697f6b353' but no matching script tag was found. \")\n    return false;\n  }\n\n  var js_urls = [\"https://cdn.pydata.org/bokeh/release/bokeh-0.12.14.min.js\", \"https://cdn.pydata.org/bokeh/release/bokeh-widgets-0.12.14.min.js\", \"https://cdn.pydata.org/bokeh/release/bokeh-tables-0.12.14.min.js\", \"https://cdn.pydata.org/bokeh/release/bokeh-gl-0.12.14.min.js\"];\n\n  var inline_js = [\n    function(Bokeh) {\n      Bokeh.set_log_level(\"info\");\n    },\n    \n    function(Bokeh) {\n      \n    },\n    function(Bokeh) {\n      console.log(\"Bokeh: injecting CSS: https://cdn.pydata.org/bokeh/release/bokeh-0.12.14.min.css\");\n      Bokeh.embed.inject_css(\"https://cdn.pydata.org/bokeh/release/bokeh-0.12.14.min.css\");\n      console.log(\"Bokeh: injecting CSS: https://cdn.pydata.org/bokeh/release/bokeh-widgets-0.12.14.min.css\");\n      Bokeh.embed.inject_css(\"https://cdn.pydata.org/bokeh/release/bokeh-widgets-0.12.14.min.css\");\n      console.log(\"Bokeh: injecting CSS: https://cdn.pydata.org/bokeh/release/bokeh-tables-0.12.14.min.css\");\n      Bokeh.embed.inject_css(\"https://cdn.pydata.org/bokeh/release/bokeh-tables-0.12.14.min.css\");\n    }\n  ];\n\n  function run_inline_js() {\n    \n    if ((root.Bokeh !== undefined) || (force === true)) {\n      for (var i = 0; i < inline_js.length; i++) {\n        inline_js[i].call(root, root.Bokeh);\n      }if (force === true) {\n        display_loaded();\n      }} else if (Date.now() < root._bokeh_timeout) {\n      setTimeout(run_inline_js, 100);\n    } else if (!root._bokeh_failed_load) {\n      console.log(\"Bokeh: BokehJS failed to load within specified timeout.\");\n      root._bokeh_failed_load = true;\n    } else if (force !== true) {\n      var cell = $(document.getElementById(\"1af79946-7aef-44c3-860d-171697f6b353\")).parents('.cell').data().cell;\n      cell.output_area.append_execute_result(NB_LOAD_WARNING)\n    }\n\n  }\n\n  if (root._bokeh_is_loading === 0) {\n    console.log(\"Bokeh: BokehJS loaded, going straight to plotting\");\n    run_inline_js();\n  } else {\n    load_libs(js_urls, function() {\n      console.log(\"Bokeh: BokehJS plotting callback run at\", now());\n      run_inline_js();\n    });\n  }\n}(window));"
     },
     "metadata": {},
     "output_type": "display_data"
    }
   ],
   "source": [
    "output_notebook()"
   ]
  },
  {
   "cell_type": "code",
   "execution_count": 8,
   "metadata": {
    "collapsed": true
   },
   "outputs": [],
   "source": [
    "def fmt_cool(ds_in):\n",
    "    ds = ds_in.copy(deep=True)\n",
    "    if 'igg' in ds.dims:\n",
    "        ds = ds.sel(igg=1)\n",
    "\n",
    "    if 'g' in ds.dims:\n",
    "        ds = ds.sum('g')\n",
    "            \n",
    "    if 'band' in ds.dims:\n",
    "        try:\n",
    "            ds = ds.squeeze('band')\n",
    "        except ValueError:\n",
    "            ds = ds.sum('band')\n",
    "                \n",
    "    return ds['coolrg']\n",
    "\n",
    "\n",
    "def pltdata_cooling_1(ds_cool=None,\n",
    "                      ds_cool_crd=None, ds_cool_wgt=None):\n",
    "    \n",
    "\n",
    "\n",
    "    colors = all_palettes['Set1'][4]\n",
    "    data = [{'label': 'CLIRAD `coolr_bands`',\n",
    "             'srs': fmt_cool(ds_cool),\n",
    "             'line_dash': 'dashed', 'line_width': 5,\n",
    "             'color': colors[0], 'alpha': .6},\n",
    "            {'label': 'CRD',\n",
    "             'srs': fmt_cool(ds_cool_crd),\n",
    "             'line_dash': 'solid', 'line_width': 1.5,\n",
    "             'marker': 'circle', 'marker_size': 5,\n",
    "             'color': colors[2], 'alpha': 1,},\n",
    "            {'label': 'WGT igg=10 wgt_flux=2',\n",
    "             'srs': fmt_cool(ds_cool_wgt),\n",
    "             'line_dash': 'solid', 'line_width': 3,\n",
    "             'marker': 'square', 'marker_size': 5,\n",
    "             'color': colors[3], 'alpha': .6}]\n",
    "    return data\n",
    "\n",
    "\n",
    "def nice_xlims(pltdata=None, prange=None):\n",
    "    \n",
    "    def get_slice(srs):\n",
    "        return srs.sel(pressure=slice(*prange))\n",
    "    \n",
    "    srss = [d['srs'] for d in pltdata]\n",
    "    vmin = min([get_slice(srs).min() for srs in srss])\n",
    "    vmax = max([get_slice(srs).max() for srs in srss])\n",
    "    dv = (vmax - vmin) * .01\n",
    "    return float(vmin - dv), float(vmax + dv)\n",
    "    \n",
    "\n",
    "def plt_cooling_bokeh(pltdata=None):\n",
    "    '''\n",
    "    Plot a list of cooling rate profiles using bokeh.\n",
    "    '''\n",
    "    ymin = 1e-2 \n",
    "    ymax = 1020 \n",
    "        \n",
    "    p1 = figure(title=\"Linear pressure scale\", \n",
    "                plot_width=400)        \n",
    "    xmin, xmax = nice_xlims(pltdata, prange=(50, 1050))\n",
    "    for d in pltdata:\n",
    "        if 'marker' in d:\n",
    "            getattr(p1, d['marker'])(d['srs'].values, \n",
    "                    d['srs'].coords['pressure'].values,\n",
    "                    color=d['color'], alpha=.7)\n",
    "        p1.line(d['srs'].values, \n",
    "                d['srs'].coords['pressure'].values,\n",
    "                color=d['color'], alpha=d['alpha'], \n",
    "                line_width=d['line_width'], line_dash=d['line_dash'])\n",
    "    \n",
    "    p1.y_range = Range1d(ymax, ymin)\n",
    "    p1.yaxis.axis_label = 'pressure [mb]'   \n",
    "    p1.x_range = Range1d(xmin, xmax)\n",
    "    p1.xaxis.axis_label = 'cooling rate [K/day]'\n",
    "            \n",
    "    p2 = figure(title='Log pressure scale', y_axis_type='log',\n",
    "                plot_width=560)\n",
    "    xmin, xmax = nice_xlims(pltdata, prange=(.01, 200))\n",
    "    \n",
    "    rs = []\n",
    "    for d in pltdata:\n",
    "        rd = []\n",
    "        if 'marker' in d:\n",
    "            r_mark = getattr(p2, d['marker'])(d['srs'].values, \n",
    "                        d['srs'].coords['pressure'].values,\n",
    "                        color=d['color'], alpha=.7)\n",
    "            rd.append(r_mark)\n",
    "        r_line = p2.line(d['srs'].values, \n",
    "                    d['srs'].coords['pressure'].values,\n",
    "                    color=d['color'], alpha=d['alpha'], \n",
    "                    line_width=d['line_width'], line_dash=d['line_dash'])\n",
    "        rd.append(r_line)\n",
    "      \n",
    "        rs.append(rd)\n",
    "        \n",
    "    p2.y_range = Range1d(ymax, ymin)  \n",
    "    p2.yaxis.axis_label = 'pressure [mb]'\n",
    "    \n",
    "    p2.x_range = Range1d(xmin, xmax)\n",
    "    p2.xaxis.axis_label = 'cooling rate [K/day]'\n",
    "    \n",
    "    items = [(d['label'], r) for r, d in zip(rs, pltdata)]\n",
    "    legend = Legend(items=items, location=(10, -30))\n",
    "    legend.label_text_font_size = '8pt'\n",
    "    \n",
    "    p2.add_layout(legend, 'right')  \n",
    "    \n",
    "    show(gridplot(p1, p2, ncols=2, plot_height=500))\n",
    "    \n",
    "\n",
    "def script_plt_cooling():\n",
    "    pltdata = pltdata_cooling_1(\n",
    "        ds_cool=DS_COOL,\n",
    "        ds_cool_crd=DS_COOL_CRD,\n",
    "        ds_cool_wgt=DS_COOL_WGT)\n",
    "    plt_cooling_bokeh(pltdata=pltdata)\n",
    "    print('''FIGURE. Cooling rate profiles.''')"
   ]
  },
  {
   "cell_type": "code",
   "execution_count": 9,
   "metadata": {
    "collapsed": true
   },
   "outputs": [],
   "source": [
    "def fmt_flux(ds_in):\n",
    "    ds = ds_in.copy(deep=True)\n",
    "    \n",
    "    for l in ('level', 'layer'):\n",
    "        if l in ds.data_vars:\n",
    "            if len(ds[l].dims) > 1:\n",
    "                surface = {d: 0 for d in ds.dims if d != 'pressure'}\n",
    "                coord_level = ds[l][surface]\n",
    "                ds.coords[l] = ('pressure', coord_level)\n",
    "            else:\n",
    "                ds.coords[l] = ('pressure', ds[l])\n",
    "        \n",
    "    ds = ds.isel(pressure=[0, 23, -1])\n",
    "        \n",
    "    if 'igg' in ds.dims:\n",
    "        ds = ds.sel(igg=[1])\n",
    "        ds = ds.squeeze('igg').drop('igg')\n",
    "    \n",
    "    if 'g' in ds.dims:\n",
    "        ds = ds.sum('g')\n",
    "            \n",
    "    if 'band' in ds.dims:\n",
    "        try:\n",
    "            ds = ds.squeeze('band').drop('band')\n",
    "        except ValueError:\n",
    "            ds = ds.sum('band')\n",
    "                \n",
    "    df = ds.to_dataframe()\n",
    "    df = df.set_index('level', append=True)               \n",
    "    return df\n",
    "\n",
    "\n",
    "def tbdata_flux(ds_flux=None, ds_flux_crd=None, ds_flux_wgt=None):\n",
    "    ilevels = [0, 23, -1]\n",
    "            \n",
    "    benchmark = {'label': 'WGT igg=10 wgt_flux=1',\n",
    "                 'df': fmt_flux(ds_flux_wgt)}\n",
    "    \n",
    "    tbs = [{'label': 'CRD',\n",
    "            'df': fmt_flux(ds_flux_crd)},\n",
    "           {'label': 'CLIRAD',\n",
    "            'df': fmt_flux(ds_flux)}]\n",
    "    \n",
    "    data = {'benchmark': benchmark, 'others': tbs}\n",
    "    return data\n",
    "\n",
    "\n",
    "def tb_flux(tbdata=None):\n",
    "    benchmark = tbdata['benchmark']\n",
    "    others = tbdata['others']\n",
    "    \n",
    "    def show_tb(d=None):\n",
    "        display.display(d['df'])\n",
    "        print('Table.', 'Fluxes.', d['label'])\n",
    "        \n",
    "    def show_tbdiff(d0=None, d=None):\n",
    "        df = d['df']\n",
    "        df.index = d0['df'].index\n",
    "        display.display(df - d0['df'])\n",
    "        print('Table.', 'Fluxes.', \n",
    "              '({}) - ({})'.format(d['label'], d0['label']))\n",
    "        \n",
    "    show_tb(benchmark)\n",
    "    for d in others:\n",
    "        show_tb(d)\n",
    "        \n",
    "    for d in others:\n",
    "        show_tbdiff(d=d, d0=benchmark)\n",
    "        \n",
    "        \n",
    "def script_tb_flux():\n",
    "    data = tbdata_flux(ds_flux=DS_FLUX,\n",
    "                       ds_flux_crd=DS_FLUX_CRD,\n",
    "                       ds_flux_wgt=DS_FLUX_WGT)\n",
    "    tb_flux(tbdata=data)"
   ]
  },
  {
   "cell_type": "code",
   "execution_count": 10,
   "metadata": {
    "collapsed": true
   },
   "outputs": [],
   "source": [
    "def band_map():\n",
    "    '''\n",
    "    Maps spectral bands in lblnew to spectral bands in clirad.\n",
    "    '''\n",
    "    lblnew2clirad = {'1': '1',\n",
    "            '2': '2',\n",
    "            '3a': '3',\n",
    "            '3b': '4',\n",
    "            '3c': '5',\n",
    "            '4': '6', \n",
    "            '5': '7',\n",
    "            '6': '8',\n",
    "            '7': '9', \n",
    "            '8': '10',\n",
    "            '9': '11'}\n",
    "    \n",
    "    clirad2lblnew = {clirad: lblnew \n",
    "                     for lblnew, clirad in lblnew2clirad.items()}\n",
    "    return clirad2lblnew\n",
    "\n",
    "\n",
    "def gasbands():\n",
    "    bmap = band_map()\n",
    "    gases = list(PARAM['molecule'].keys())\n",
    "    \n",
    "    bands = [bmap[str(b)] for b in PARAM['band']]\n",
    "    return list(itertools.product(gases, bands))\n",
    "\n",
    "\n",
    "def print_bestfit_params():\n",
    "    print('Best-fit values for each (gas, band)')\n",
    "    print('------------------------------------')\n",
    "    for gas, band in gasbands():\n",
    "        print('o {} band{}'.format(gas, band))\n",
    "        param = bestfits.kdist_params(molecule=gas, band=band)\n",
    "        for name, value in sorted(param.items()):\n",
    "            print(2 * ' ' + '{} = {}'.format(name, value))\n",
    "\n",
    "        \n",
    "def print_input_param():        \n",
    "    for name, value in PARAM.items():\n",
    "        print('{} = {}'.format(name, value))\n",
    "        \n",
    "        \n",
    "def print_lblnew_param():\n",
    "    for name, value in sorted(PARAM_LBLNEW.items()):\n",
    "        print('{} = {}'.format(name, value))\n"
   ]
  },
  {
   "cell_type": "code",
   "execution_count": 11,
   "metadata": {
    "collapsed": true,
    "scrolled": false
   },
   "outputs": [],
   "source": [
    "def show_html(s):\n",
    "    display.display(display.HTML(s))\n",
    "\n",
    "    \n",
    "def show_markdown(s):\n",
    "    display.display(display.Markdown(s))\n",
    "\n",
    "    \n",
    "def script():\n",
    "    \n",
    "    title = '### CLIRAD-LW'\n",
    "    s_input = 'Input Parameters'\n",
    "    s_lblnew_param = 'LBLNEW case compaired against'\n",
    "    s_bestfits = 'Best-fit Parameters'\n",
    "    s_plt_cooling = 'Cooling Rate Profiles'\n",
    "    s_tb_flux = 'Flux Comparison'\n",
    "    \n",
    "    # title\n",
    "    show_markdown('### CLIRAD-LW')\n",
    "    \n",
    "    # TOC\n",
    "    show_markdown('### Table of Contents')\n",
    "    show_html(climahtml.getHTML_hrefanchor(s_input))\n",
    "    show_html(climahtml.getHTML_hrefanchor(s_lblnew_param))\n",
    "    show_html(climahtml.getHTML_hrefanchor(s_plt_cooling))\n",
    "    show_html(climahtml.getHTML_hrefanchor(s_tb_flux))\n",
    "    show_html(climahtml.getHTML_hrefanchor(s_bestfits))\n",
    "    \n",
    "    # Input parameters\n",
    "    show_html(climahtml.getHTML_idanchor(s_input))\n",
    "    show_markdown(climahtml.getMarkdown_sectitle(s_input))\n",
    "    print_input_param()\n",
    "    \n",
    "    # LBLNEW parameters \n",
    "    show_html(climahtml.getHTML_idanchor(s_lblnew_param))\n",
    "    show_markdown(climahtml.getMarkdown_sectitle(s_lblnew_param))\n",
    "    print_lblnew_param()\n",
    "    \n",
    "    # Cooling rate profiles\n",
    "    show_html(climahtml.getHTML_idanchor(s_plt_cooling))\n",
    "    show_markdown(climahtml.getMarkdown_sectitle(s_plt_cooling))\n",
    "    script_plt_cooling()\n",
    "    \n",
    "    # Flux comparison\n",
    "    show_html(climahtml.getHTML_idanchor(s_tb_flux))\n",
    "    show_markdown(climahtml.getMarkdown_sectitle(s_tb_flux))\n",
    "    script_tb_flux()\n",
    "    \n",
    "    # Best-fit values\n",
    "    show_html(climahtml.getHTML_idanchor(s_bestfits))\n",
    "    show_markdown(climahtml.getMarkdown_sectitle(s_bestfits))\n",
    "    print_bestfit_params()\n",
    "   \n",
    "    "
   ]
  },
  {
   "cell_type": "code",
   "execution_count": 12,
   "metadata": {
    "collapsed": true,
    "scrolled": false
   },
   "outputs": [
    {
     "data": {
      "text/markdown": [
       "### CLIRAD-LW"
      ],
      "text/plain": [
       "<IPython.core.display.Markdown object>"
      ]
     },
     "metadata": {},
     "output_type": "display_data"
    },
    {
     "data": {
      "text/markdown": [
       "### Table of Contents"
      ],
      "text/plain": [
       "<IPython.core.display.Markdown object>"
      ]
     },
     "metadata": {},
     "output_type": "display_data"
    },
    {
     "data": {
      "text/html": [
       "<a href=\"#Input_Parameters\">Input Parameters</a>"
      ],
      "text/plain": [
       "<IPython.core.display.HTML object>"
      ]
     },
     "metadata": {},
     "output_type": "display_data"
    },
    {
     "data": {
      "text/html": [
       "<a href=\"#LBLNEW_case_compaired_against\">LBLNEW case compaired against</a>"
      ],
      "text/plain": [
       "<IPython.core.display.HTML object>"
      ]
     },
     "metadata": {},
     "output_type": "display_data"
    },
    {
     "data": {
      "text/html": [
       "<a href=\"#Cooling_Rate_Profiles\">Cooling Rate Profiles</a>"
      ],
      "text/plain": [
       "<IPython.core.display.HTML object>"
      ]
     },
     "metadata": {},
     "output_type": "display_data"
    },
    {
     "data": {
      "text/html": [
       "<a href=\"#Flux_Comparison\">Flux Comparison</a>"
      ],
      "text/plain": [
       "<IPython.core.display.HTML object>"
      ]
     },
     "metadata": {},
     "output_type": "display_data"
    },
    {
     "data": {
      "text/html": [
       "<a href=\"#Best-fit_Parameters\">Best-fit Parameters</a>"
      ],
      "text/plain": [
       "<IPython.core.display.HTML object>"
      ]
     },
     "metadata": {},
     "output_type": "display_data"
    },
    {
     "data": {
      "text/html": [
       "<a id=\"Input_Parameters\"></a>"
      ],
      "text/plain": [
       "<IPython.core.display.HTML object>"
      ]
     },
     "metadata": {},
     "output_type": "display_data"
    },
    {
     "data": {
      "text/markdown": [
       "# Input Parameters"
      ],
      "text/plain": [
       "<IPython.core.display.Markdown object>"
      ]
     },
     "metadata": {},
     "output_type": "display_data"
    },
    {
     "name": "stdout",
     "output_type": "stream",
     "text": [
      "atmpro = trp\n",
      "band = [3]\n",
      "commitnumber = 7fe1447\n",
      "molecule = {'h2o': 'atmpro'}\n",
      "tsfc = 300\n"
     ]
    },
    {
     "data": {
      "text/html": [
       "<a id=\"LBLNEW_case_compaired_against\"></a>"
      ],
      "text/plain": [
       "<IPython.core.display.HTML object>"
      ]
     },
     "metadata": {},
     "output_type": "display_data"
    },
    {
     "data": {
      "text/markdown": [
       "# LBLNEW case compaired against"
      ],
      "text/plain": [
       "<IPython.core.display.Markdown object>"
      ]
     },
     "metadata": {},
     "output_type": "display_data"
    },
    {
     "name": "stdout",
     "output_type": "stream",
     "text": [
      "atmpro = trp\n",
      "band = 3a\n",
      "commitnumber = a06b618\n",
      "conc = None\n",
      "dv = 0.001\n",
      "klin = 0\n",
      "molecule = h2o\n",
      "ng_adju = [0, 0]\n",
      "ng_refs = [2, 6]\n",
      "nv = 1000\n",
      "option_compute_btable = 0\n",
      "option_compute_ktable = 0\n",
      "option_wgt_flux = 1\n",
      "option_wgt_k = 1\n",
      "ref_pts = [(10, 250), (600, 250)]\n",
      "tsfc = 300\n",
      "vmax = 620\n",
      "vmin = 540\n",
      "w_diffuse = [(1.9, 1.7), (1.4, 1.4, 1.4, 1.55, 1.6, 1.66)]\n",
      "wgt = [(0.7, 0.7), (0.7, 0.5, 0.5, 0.5, 0.5, 0.5)]\n"
     ]
    },
    {
     "data": {
      "text/html": [
       "<a id=\"Cooling_Rate_Profiles\"></a>"
      ],
      "text/plain": [
       "<IPython.core.display.HTML object>"
      ]
     },
     "metadata": {},
     "output_type": "display_data"
    },
    {
     "data": {
      "text/markdown": [
       "# Cooling Rate Profiles"
      ],
      "text/plain": [
       "<IPython.core.display.Markdown object>"
      ]
     },
     "metadata": {},
     "output_type": "display_data"
    },
    {
     "data": {
      "text/html": [
       "\n",
       "<div class=\"bk-root\">\n",
       "    <div class=\"bk-plotdiv\" id=\"2a6ac2e8-fb19-47b9-9a85-918b2cf08daa\"></div>\n",
       "</div>"
      ]
     },
     "metadata": {},
     "output_type": "display_data"
    },
    {
     "data": {
      "application/javascript": [
       "(function(root) {\n",
       "  function embed_document(root) {\n",
       "    \n",
       "  var docs_json = {\"bd765b96-05a5-4055-94df-f755f585d9ab\":{\"roots\":{\"references\":[{\"attributes\":{\"active_drag\":\"auto\",\"active_inspect\":\"auto\",\"active_scroll\":\"auto\",\"active_tap\":\"auto\",\"tools\":[{\"id\":\"55146b27-e29c-420d-bce6-bb6ee359f238\",\"type\":\"PanTool\"},{\"id\":\"45be5052-196f-4249-871b-1b180987611f\",\"type\":\"WheelZoomTool\"},{\"id\":\"4447e129-e71b-43d3-acaa-74c66cfaa2e5\",\"type\":\"BoxZoomTool\"},{\"id\":\"c50a17dc-f5c2-4358-ac0e-c015b55b89f2\",\"type\":\"SaveTool\"},{\"id\":\"8a38666e-4638-47b2-93d4-85f0edf9587d\",\"type\":\"ResetTool\"},{\"id\":\"c7c18c7c-693b-4c7f-8536-24fc12e9f9d1\",\"type\":\"HelpTool\"}]},\"id\":\"910f3cff-b5b1-40ff-ad5d-4e0a1d158bc3\",\"type\":\"Toolbar\"},{\"attributes\":{\"children\":[{\"id\":\"9f787143-2e86-4760-b829-90c752009970\",\"subtype\":\"Figure\",\"type\":\"Plot\"},{\"id\":\"33d8bc63-8098-4f24-a3f8-de12c10ce848\",\"subtype\":\"Figure\",\"type\":\"Plot\"}]},\"id\":\"e8b26201-ca60-4124-805c-bcb8685a946e\",\"type\":\"Row\"},{\"attributes\":{\"callback\":null,\"column_names\":[\"x\",\"y\"],\"data\":{\"x\":{\"__ndarray__\":\"8ZOAf620Sz8NravujrdMP8/scxEOzk4/a9hPE2V9UD86yMA7aptRP1+NXgwowVI//J74Fr7uUz+E5DCbDyZVP1MSvmX8ZVY/Tc51ll+sVz9Y8tW7WvVYP9o11heeN1o/CHsO+TmbWz8HIB53n2NdP24CrAdGD2I/YPWdRXy2aT/bCoQ+MI5yP836jgeSunk/d1+gBF1GgT8fwQ9irqeGP14mbJMGKo0/goFrsK8Okj/N7LXrtyqTP2CZEUTfkpE/6S0hDg1Njj+Th31aPp+IP3zEtCmKh4M/uLfMVVaufj8glog+/uF3P36OLpSAcXI/N4cLZ484bD8aQ6bXvzJlPwlZ3P8T5F4/gzEHrH38VD/DM3HOtndDP4PNlnEUawu/uARTzRNpNr/hUP4XatQnv8qKxaiNvjY/wXOBKFZDUj9dZk7SNWtnPzBbVemKZII/3yJ+CuYelT/awEtqnhCjP55h4vbuFa0/aiYIKKo8tD+/ypWsn6a6P88roLOnZcA/vyTfbeFvwj9BHI38uAjFP/R6WBeEUcg/L8DYDskTzD/1yyN+k/zPP/0hDOJw6tE/GT7/LlTf0z9zHNjDFt/VP4LNeNxp5dc/ceJqzcrd2T9C08Tp2qPbP/cEuvLcLN0/yLSiIONo3j9iBGAn0kLfP98xvklcnd8/oRTZjY6W4D91YWdvZ3XgP3oX1NAXYN8/I0oatR4M3T+6Pz9/am3ZP0oaR0pwLtY/xkDaBEOU0z/ThcpzLHXRP20r9SLei88/TOXDODYgzT/Qll29AhjMP5ZDsHDil9A/\",\"dtype\":\"float64\",\"shape\":[75]},\"y\":{\"__ndarray__\":\"GhExyth1ND/Sv8nbtpRIP2vylNV0PVE/aTum7souWD/At0SJ8fVgPw3Iuahxymc/MSNhhJWvcD/bTfBN02d3P2zb5nxnaoA/CD5h5MAGhz8NmeH1TyaQP+zrCsc9p5Y/LbKd76fGnz/bLW5ISEmmPww9YvTcQq8/JV2OstnstT8Er5Y7M8G+P0c+r3jqkcU/5h99k6ZBzj88bCIzFzjVP4enV8oyxN0//yH99nXg5D8qOpLLf0jtP5kqGJXUifQ/c9cS8kHP/D+/DpwzojQEQIEmwoanVwxA4lgXt9HgE0BSSZ2AJuIbQAMJih9jjiNA5q4l5INuK0AwTKYKRj0zQNv5fmq8/DpAaCJseHrtQkB/+zpwzoxKQM3MzMzMeFJAZmZmZmZqWEAAAAAAAFxeQM3MzMzMJmJAmpmZmZkfZUBmZmZmZhhoQDMzMzMzEWtAAAAAAAAKbkBmZmZmZoFwQM3MzMzM/XFAMzMzMzN6c0CamZmZmfZ0QAAAAAAAc3ZAZmZmZmbvd0DNzMzMzGt5QDMzMzMz6HpAmpmZmZlkfEAAAAAAAOF9QGZmZmZmXX9AZmZmZuZsgECamZmZGSuBQM3MzMxM6YFAAAAAAICngkAzMzMzs2WDQGZmZmbmI4RAmpmZmRnihEDNzMzMTKCFQAAAAACAXoZAMzMzM7Mch0BmZmZm5tqHQJqZmZkZmYhAzczMzExXiUAAAAAAgBWKQDMzMzOz04pAZmZmZuaRi0CamZmZGVCMQM3MzMxMDo1AAAAAAIDMjUAzMzMzs4qOQGZmZmbmSI9A\",\"dtype\":\"float64\",\"shape\":[75]}}},\"id\":\"d5781dc3-8a66-4503-bca6-b0a0b32bcf1c\",\"type\":\"ColumnDataSource\"},{\"attributes\":{\"fill_alpha\":{\"value\":0.7},\"fill_color\":{\"value\":\"#4daf4a\"},\"line_alpha\":{\"value\":0.7},\"line_color\":{\"value\":\"#4daf4a\"},\"x\":{\"field\":\"x\"},\"y\":{\"field\":\"y\"}},\"id\":\"28d38e84-2f6b-4cdc-94f9-b74018f2dbeb\",\"type\":\"Circle\"},{\"attributes\":{\"line_alpha\":0.1,\"line_color\":\"#1f77b4\",\"line_width\":1.5,\"x\":{\"field\":\"x\"},\"y\":{\"field\":\"y\"}},\"id\":\"fe19dc8c-d20a-4a7d-89a3-4deca8559ca0\",\"type\":\"Line\"},{\"attributes\":{},\"id\":\"0f7e8dee-62e7-4091-a8db-94f28da1345e\",\"type\":\"BasicTickFormatter\"},{\"attributes\":{\"callback\":null,\"column_names\":[\"x\",\"y\"],\"data\":{\"x\":{\"__ndarray__\":\"8ZOAf620Sz8NravujrdMP8/scxEOzk4/a9hPE2V9UD86yMA7aptRP1+NXgwowVI//J74Fr7uUz+E5DCbDyZVP1MSvmX8ZVY/Tc51ll+sVz9Y8tW7WvVYP9o11heeN1o/CHsO+TmbWz8HIB53n2NdP24CrAdGD2I/YPWdRXy2aT/bCoQ+MI5yP836jgeSunk/d1+gBF1GgT8fwQ9irqeGP14mbJMGKo0/goFrsK8Okj/N7LXrtyqTP2CZEUTfkpE/6S0hDg1Njj+Th31aPp+IP3zEtCmKh4M/uLfMVVaufj8glog+/uF3P36OLpSAcXI/N4cLZ484bD8aQ6bXvzJlPwlZ3P8T5F4/gzEHrH38VD/DM3HOtndDP4PNlnEUawu/uARTzRNpNr/hUP4XatQnv8qKxaiNvjY/wXOBKFZDUj9dZk7SNWtnPzBbVemKZII/3yJ+CuYelT/awEtqnhCjP55h4vbuFa0/aiYIKKo8tD+/ypWsn6a6P88roLOnZcA/vyTfbeFvwj9BHI38uAjFP/R6WBeEUcg/L8DYDskTzD/1yyN+k/zPP/0hDOJw6tE/GT7/LlTf0z9zHNjDFt/VP4LNeNxp5dc/ceJqzcrd2T9C08Tp2qPbP/cEuvLcLN0/yLSiIONo3j9iBGAn0kLfP98xvklcnd8/oRTZjY6W4D91YWdvZ3XgP3oX1NAXYN8/I0oatR4M3T+6Pz9/am3ZP0oaR0pwLtY/xkDaBEOU0z/ThcpzLHXRP20r9SLei88/TOXDODYgzT/Qll29AhjMP5ZDsHDil9A/\",\"dtype\":\"float64\",\"shape\":[75]},\"y\":{\"__ndarray__\":\"GhExyth1ND/Sv8nbtpRIP2vylNV0PVE/aTum7souWD/At0SJ8fVgPw3Iuahxymc/MSNhhJWvcD/bTfBN02d3P2zb5nxnaoA/CD5h5MAGhz8NmeH1TyaQP+zrCsc9p5Y/LbKd76fGnz/bLW5ISEmmPww9YvTcQq8/JV2OstnstT8Er5Y7M8G+P0c+r3jqkcU/5h99k6ZBzj88bCIzFzjVP4enV8oyxN0//yH99nXg5D8qOpLLf0jtP5kqGJXUifQ/c9cS8kHP/D+/DpwzojQEQIEmwoanVwxA4lgXt9HgE0BSSZ2AJuIbQAMJih9jjiNA5q4l5INuK0AwTKYKRj0zQNv5fmq8/DpAaCJseHrtQkB/+zpwzoxKQM3MzMzMeFJAZmZmZmZqWEAAAAAAAFxeQM3MzMzMJmJAmpmZmZkfZUBmZmZmZhhoQDMzMzMzEWtAAAAAAAAKbkBmZmZmZoFwQM3MzMzM/XFAMzMzMzN6c0CamZmZmfZ0QAAAAAAAc3ZAZmZmZmbvd0DNzMzMzGt5QDMzMzMz6HpAmpmZmZlkfEAAAAAAAOF9QGZmZmZmXX9AZmZmZuZsgECamZmZGSuBQM3MzMxM6YFAAAAAAICngkAzMzMzs2WDQGZmZmbmI4RAmpmZmRnihEDNzMzMTKCFQAAAAACAXoZAMzMzM7Mch0BmZmZm5tqHQJqZmZkZmYhAzczMzExXiUAAAAAAgBWKQDMzMzOz04pAZmZmZuaRi0CamZmZGVCMQM3MzMxMDo1AAAAAAIDMjUAzMzMzs4qOQGZmZmbmSI9A\",\"dtype\":\"float64\",\"shape\":[75]}}},\"id\":\"24b08a15-55ed-4d97-83b4-1b66ffae7220\",\"type\":\"ColumnDataSource\"},{\"attributes\":{},\"id\":\"a5cdce6b-fe42-4c3b-a6db-2639d97bf9b6\",\"type\":\"BasicTickFormatter\"},{\"attributes\":{\"line_alpha\":0.1,\"line_color\":\"#1f77b4\",\"line_dash\":[6],\"line_width\":5,\"x\":{\"field\":\"x\"},\"y\":{\"field\":\"y\"}},\"id\":\"9eea867e-17f7-47f6-82ec-76fb3ccb0599\",\"type\":\"Line\"},{\"attributes\":{},\"id\":\"8a38666e-4638-47b2-93d4-85f0edf9587d\",\"type\":\"ResetTool\"},{\"attributes\":{\"source\":{\"id\":\"beeac93a-9aa6-445e-a74d-739ac593679c\",\"type\":\"ColumnDataSource\"}},\"id\":\"e690ef43-e406-4550-b3ce-324a3031e08f\",\"type\":\"CDSView\"},{\"attributes\":{\"plot\":{\"id\":\"33d8bc63-8098-4f24-a3f8-de12c10ce848\",\"subtype\":\"Figure\",\"type\":\"Plot\"},\"ticker\":{\"id\":\"948dd4c8-9f1d-47d6-89cd-3032f8b29933\",\"type\":\"BasicTicker\"}},\"id\":\"07f99bbe-9531-415f-96c6-8b1c82e78e21\",\"type\":\"Grid\"},{\"attributes\":{\"data_source\":{\"id\":\"1a9b1f1f-2b67-48fb-838b-895dbe05fb91\",\"type\":\"ColumnDataSource\"},\"glyph\":{\"id\":\"28d38e84-2f6b-4cdc-94f9-b74018f2dbeb\",\"type\":\"Circle\"},\"hover_glyph\":null,\"muted_glyph\":null,\"nonselection_glyph\":{\"id\":\"9065a234-c876-42cb-ac77-12eb0c70641e\",\"type\":\"Circle\"},\"selection_glyph\":null,\"view\":{\"id\":\"affc6853-b09d-413f-9273-13f67a43e2a2\",\"type\":\"CDSView\"}},\"id\":\"eb6cb32d-bb9b-4d88-b4aa-680f969d9adf\",\"type\":\"GlyphRenderer\"},{\"attributes\":{\"axis_label\":\"cooling rate [K/day]\",\"formatter\":{\"id\":\"a5cdce6b-fe42-4c3b-a6db-2639d97bf9b6\",\"type\":\"BasicTickFormatter\"},\"plot\":{\"id\":\"33d8bc63-8098-4f24-a3f8-de12c10ce848\",\"subtype\":\"Figure\",\"type\":\"Plot\"},\"ticker\":{\"id\":\"948dd4c8-9f1d-47d6-89cd-3032f8b29933\",\"type\":\"BasicTicker\"}},\"id\":\"53fae216-6690-42f5-a932-f57907468e74\",\"type\":\"LinearAxis\"},{\"attributes\":{},\"id\":\"948dd4c8-9f1d-47d6-89cd-3032f8b29933\",\"type\":\"BasicTicker\"},{\"attributes\":{\"callback\":null,\"column_names\":[\"x\",\"y\"],\"data\":{\"x\":{\"__ndarray__\":\"mRoZilFVRT9IfMRnHGtGP+hQhGBOukg/0XT4Nh8jSz8nzBZxg59NP923NfrpFFA/esN1vK1jUT81ezuhErlSPwL2KfQuGFQ/AYABEyiBVT/YDb136+tWP/o/gRsUUlg/06X+f/WfWT9fl305HGZbPytc8BAoVWE/no9wakD1aT8Cd/or5lNzPzj9+AqUTXs/xFyV9tSSgj+XgMq+TJCIP4N+ICXowo8/saEImrCskz8PinH0tKCUPyE020Uzd5I/nkfZ4wT0jj8gU+u7KmmIP/a20Wsw54I/PhJD6q5XfT+JRk7aKO92Pw6B2TwLFHI/AChOUDSfbD/iGJCYPIBmPyzq59vvQWE/9c8x8kLSWD9kn+WFoW5JP7o2OCQIjQg/xVLW+7KNM78UsrLKT6wiv4LvzqG0IDs/zVNt3SzqUz8OQIfWms9oP1IO5m5Q7YI/JsSebocjlT/EfYZlo9uiP0z2/Qts5Kw/TvkSVbgYtD+v2Jkh2Uy6P/mk0ezTVMA/iszYp07Nwj/fqmcYqb3FP4hFTldeD8k/mHlAE0C1zD8DWj67EVDQP89i7+YlVtI/K3Tzx5No1D8InJ3z8HHWP+XIsZLiZdg/zn+8FZE62j9Mowvi6t3bP01pmgNGT90/enGgj0t/3j9EVel65EffP7zXQQwRg98/uWpDan9s4D+OnQmwPCbgP4GDrF3JhN4/Cbw4lhwc3D9YGhlg9p3YPzJKwH1Xo9U/QFamTvZF0z91p+CVyVXRP19lyAyvf88/i2shbYgWzT+Puikn0uTLP1hxDeDrc9A/\",\"dtype\":\"float64\",\"shape\":[75]},\"y\":{\"__ndarray__\":\"GhExyth1ND/Sv8nbtpRIP2vylNV0PVE/aTum7souWD/At0SJ8fVgPw3Iuahxymc/MSNhhJWvcD/bTfBN02d3P2zb5nxnaoA/CD5h5MAGhz8NmeH1TyaQP+zrCsc9p5Y/LbKd76fGnz/bLW5ISEmmPww9YvTcQq8/JV2OstnstT8Er5Y7M8G+P0c+r3jqkcU/5h99k6ZBzj88bCIzFzjVP4enV8oyxN0//yH99nXg5D8qOpLLf0jtP5kqGJXUifQ/c9cS8kHP/D+/DpwzojQEQIEmwoanVwxA4lgXt9HgE0BSSZ2AJuIbQAMJih9jjiNA5q4l5INuK0AwTKYKRj0zQNv5fmq8/DpAaCJseHrtQkB/+zpwzoxKQM3MzMzMeFJAZmZmZmZqWEAAAAAAAFxeQM3MzMzMJmJAmpmZmZkfZUBmZmZmZhhoQDMzMzMzEWtAAAAAAAAKbkBmZmZmZoFwQM3MzMzM/XFAMzMzMzN6c0CamZmZmfZ0QAAAAAAAc3ZAZmZmZmbvd0DNzMzMzGt5QDMzMzMz6HpAmpmZmZlkfEAAAAAAAOF9QGZmZmZmXX9AZmZmZuZsgECamZmZGSuBQM3MzMxM6YFAAAAAAICngkAzMzMzs2WDQGZmZmbmI4RAmpmZmRnihEDNzMzMTKCFQAAAAACAXoZAMzMzM7Mch0BmZmZm5tqHQJqZmZkZmYhAzczMzExXiUAAAAAAgBWKQDMzMzOz04pAZmZmZuaRi0CamZmZGVCMQM3MzMxMDo1AAAAAAIDMjUAzMzMzs4qOQGZmZmbmSI9A\",\"dtype\":\"float64\",\"shape\":[75]}}},\"id\":\"1a9b1f1f-2b67-48fb-838b-895dbe05fb91\",\"type\":\"ColumnDataSource\"},{\"attributes\":{},\"id\":\"8ed510b5-7aff-4d4f-8bb7-0369e273bb7e\",\"type\":\"SaveTool\"},{\"attributes\":{\"axis_label\":\"pressure [mb]\",\"formatter\":{\"id\":\"008d5b75-2a59-45e4-8e29-ecb50c87e4d1\",\"type\":\"LogTickFormatter\"},\"plot\":{\"id\":\"33d8bc63-8098-4f24-a3f8-de12c10ce848\",\"subtype\":\"Figure\",\"type\":\"Plot\"},\"ticker\":{\"id\":\"f36cb284-4dfa-4c3b-b6c4-f34c973d82de\",\"type\":\"LogTicker\"}},\"id\":\"d070c2f4-500c-4d5f-aa81-6f4d010d6fed\",\"type\":\"LogAxis\"},{\"attributes\":{\"line_alpha\":0.1,\"line_color\":\"#1f77b4\",\"line_width\":3,\"x\":{\"field\":\"x\"},\"y\":{\"field\":\"y\"}},\"id\":\"e193af44-38c9-4fc5-b524-cdad989a59e4\",\"type\":\"Line\"},{\"attributes\":{\"callback\":null,\"column_names\":[\"x\",\"y\"],\"data\":{\"x\":{\"__ndarray__\":\"mRoZilFVRT9IfMRnHGtGP+hQhGBOukg/0XT4Nh8jSz8nzBZxg59NP923NfrpFFA/esN1vK1jUT81ezuhErlSPwL2KfQuGFQ/AYABEyiBVT/YDb136+tWP/o/gRsUUlg/06X+f/WfWT9fl305HGZbPytc8BAoVWE/no9wakD1aT8Cd/or5lNzPzj9+AqUTXs/xFyV9tSSgj+XgMq+TJCIP4N+ICXowo8/saEImrCskz8PinH0tKCUPyE020Uzd5I/nkfZ4wT0jj8gU+u7KmmIP/a20Wsw54I/PhJD6q5XfT+JRk7aKO92Pw6B2TwLFHI/AChOUDSfbD/iGJCYPIBmPyzq59vvQWE/9c8x8kLSWD9kn+WFoW5JP7o2OCQIjQg/xVLW+7KNM78UsrLKT6wiv4LvzqG0IDs/zVNt3SzqUz8OQIfWms9oP1IO5m5Q7YI/JsSebocjlT/EfYZlo9uiP0z2/Qts5Kw/TvkSVbgYtD+v2Jkh2Uy6P/mk0ezTVMA/iszYp07Nwj/fqmcYqb3FP4hFTldeD8k/mHlAE0C1zD8DWj67EVDQP89i7+YlVtI/K3Tzx5No1D8InJ3z8HHWP+XIsZLiZdg/zn+8FZE62j9Mowvi6t3bP01pmgNGT90/enGgj0t/3j9EVel65EffP7zXQQwRg98/uWpDan9s4D+OnQmwPCbgP4GDrF3JhN4/Cbw4lhwc3D9YGhlg9p3YPzJKwH1Xo9U/QFamTvZF0z91p+CVyVXRP19lyAyvf88/i2shbYgWzT+Puikn0uTLP1hxDeDrc9A/\",\"dtype\":\"float64\",\"shape\":[75]},\"y\":{\"__ndarray__\":\"GhExyth1ND/Sv8nbtpRIP2vylNV0PVE/aTum7souWD/At0SJ8fVgPw3Iuahxymc/MSNhhJWvcD/bTfBN02d3P2zb5nxnaoA/CD5h5MAGhz8NmeH1TyaQP+zrCsc9p5Y/LbKd76fGnz/bLW5ISEmmPww9YvTcQq8/JV2OstnstT8Er5Y7M8G+P0c+r3jqkcU/5h99k6ZBzj88bCIzFzjVP4enV8oyxN0//yH99nXg5D8qOpLLf0jtP5kqGJXUifQ/c9cS8kHP/D+/DpwzojQEQIEmwoanVwxA4lgXt9HgE0BSSZ2AJuIbQAMJih9jjiNA5q4l5INuK0AwTKYKRj0zQNv5fmq8/DpAaCJseHrtQkB/+zpwzoxKQM3MzMzMeFJAZmZmZmZqWEAAAAAAAFxeQM3MzMzMJmJAmpmZmZkfZUBmZmZmZhhoQDMzMzMzEWtAAAAAAAAKbkBmZmZmZoFwQM3MzMzM/XFAMzMzMzN6c0CamZmZmfZ0QAAAAAAAc3ZAZmZmZmbvd0DNzMzMzGt5QDMzMzMz6HpAmpmZmZlkfEAAAAAAAOF9QGZmZmZmXX9AZmZmZuZsgECamZmZGSuBQM3MzMxM6YFAAAAAAICngkAzMzMzs2WDQGZmZmbmI4RAmpmZmRnihEDNzMzMTKCFQAAAAACAXoZAMzMzM7Mch0BmZmZm5tqHQJqZmZkZmYhAzczMzExXiUAAAAAAgBWKQDMzMzOz04pAZmZmZuaRi0CamZmZGVCMQM3MzMxMDo1AAAAAAIDMjUAzMzMzs4qOQGZmZmbmSI9A\",\"dtype\":\"float64\",\"shape\":[75]}}},\"id\":\"6af59e35-04bf-41ee-a5e9-2472523d2ab4\",\"type\":\"ColumnDataSource\"},{\"attributes\":{\"data_source\":{\"id\":\"d5781dc3-8a66-4503-bca6-b0a0b32bcf1c\",\"type\":\"ColumnDataSource\"},\"glyph\":{\"id\":\"62fc028f-ff19-40c6-948c-3ed12152eb42\",\"type\":\"Line\"},\"hover_glyph\":null,\"muted_glyph\":null,\"nonselection_glyph\":{\"id\":\"e193af44-38c9-4fc5-b524-cdad989a59e4\",\"type\":\"Line\"},\"selection_glyph\":null,\"view\":{\"id\":\"f1d2d035-a657-42cc-8240-b458dc6fbebb\",\"type\":\"CDSView\"}},\"id\":\"f4897434-3376-4baf-bc8f-278e8c3a507b\",\"type\":\"GlyphRenderer\"},{\"attributes\":{\"ticker\":null},\"id\":\"008d5b75-2a59-45e4-8e29-ecb50c87e4d1\",\"type\":\"LogTickFormatter\"},{\"attributes\":{\"source\":{\"id\":\"abb6c424-340b-4c73-b242-1239b1c6c8f8\",\"type\":\"ColumnDataSource\"}},\"id\":\"fa37a670-b0a9-4671-a9b0-0aea70922525\",\"type\":\"CDSView\"},{\"attributes\":{\"fill_alpha\":{\"value\":0.1},\"fill_color\":{\"value\":\"#1f77b4\"},\"line_alpha\":{\"value\":0.1},\"line_color\":{\"value\":\"#1f77b4\"},\"x\":{\"field\":\"x\"},\"y\":{\"field\":\"y\"}},\"id\":\"9065a234-c876-42cb-ac77-12eb0c70641e\",\"type\":\"Circle\"},{\"attributes\":{\"source\":{\"id\":\"d5781dc3-8a66-4503-bca6-b0a0b32bcf1c\",\"type\":\"ColumnDataSource\"}},\"id\":\"f1d2d035-a657-42cc-8240-b458dc6fbebb\",\"type\":\"CDSView\"},{\"attributes\":{\"callback\":null,\"column_names\":[\"x\",\"y\"],\"data\":{\"x\":{\"__ndarray__\":\"8ZOAf620Sz8NravujrdMP8/scxEOzk4/a9hPE2V9UD86yMA7aptRP1+NXgwowVI//J74Fr7uUz+E5DCbDyZVP1MSvmX8ZVY/Tc51ll+sVz9Y8tW7WvVYP9o11heeN1o/CHsO+TmbWz8HIB53n2NdP24CrAdGD2I/YPWdRXy2aT/bCoQ+MI5yP836jgeSunk/d1+gBF1GgT8fwQ9irqeGP14mbJMGKo0/goFrsK8Okj/N7LXrtyqTP2CZEUTfkpE/6S0hDg1Njj+Th31aPp+IP3zEtCmKh4M/uLfMVVaufj8glog+/uF3P36OLpSAcXI/N4cLZ484bD8aQ6bXvzJlPwlZ3P8T5F4/gzEHrH38VD/DM3HOtndDP4PNlnEUawu/uARTzRNpNr/hUP4XatQnv8qKxaiNvjY/wXOBKFZDUj9dZk7SNWtnPzBbVemKZII/3yJ+CuYelT/awEtqnhCjP55h4vbuFa0/aiYIKKo8tD+/ypWsn6a6P88roLOnZcA/vyTfbeFvwj9BHI38uAjFP/R6WBeEUcg/L8DYDskTzD/1yyN+k/zPP/0hDOJw6tE/GT7/LlTf0z9zHNjDFt/VP4LNeNxp5dc/ceJqzcrd2T9C08Tp2qPbP/cEuvLcLN0/yLSiIONo3j9iBGAn0kLfP98xvklcnd8/oRTZjY6W4D91YWdvZ3XgP3oX1NAXYN8/I0oatR4M3T+6Pz9/am3ZP0oaR0pwLtY/xkDaBEOU0z/ThcpzLHXRP20r9SLei88/TOXDODYgzT/Qll29AhjMP5ZDsHDil9A/\",\"dtype\":\"float64\",\"shape\":[75]},\"y\":{\"__ndarray__\":\"GhExyth1ND/Sv8nbtpRIP2vylNV0PVE/aTum7souWD/At0SJ8fVgPw3Iuahxymc/MSNhhJWvcD/bTfBN02d3P2zb5nxnaoA/CD5h5MAGhz8NmeH1TyaQP+zrCsc9p5Y/LbKd76fGnz/bLW5ISEmmPww9YvTcQq8/JV2OstnstT8Er5Y7M8G+P0c+r3jqkcU/5h99k6ZBzj88bCIzFzjVP4enV8oyxN0//yH99nXg5D8qOpLLf0jtP5kqGJXUifQ/c9cS8kHP/D+/DpwzojQEQIEmwoanVwxA4lgXt9HgE0BSSZ2AJuIbQAMJih9jjiNA5q4l5INuK0AwTKYKRj0zQNv5fmq8/DpAaCJseHrtQkB/+zpwzoxKQM3MzMzMeFJAZmZmZmZqWEAAAAAAAFxeQM3MzMzMJmJAmpmZmZkfZUBmZmZmZhhoQDMzMzMzEWtAAAAAAAAKbkBmZmZmZoFwQM3MzMzM/XFAMzMzMzN6c0CamZmZmfZ0QAAAAAAAc3ZAZmZmZmbvd0DNzMzMzGt5QDMzMzMz6HpAmpmZmZlkfEAAAAAAAOF9QGZmZmZmXX9AZmZmZuZsgECamZmZGSuBQM3MzMxM6YFAAAAAAICngkAzMzMzs2WDQGZmZmbmI4RAmpmZmRnihEDNzMzMTKCFQAAAAACAXoZAMzMzM7Mch0BmZmZm5tqHQJqZmZkZmYhAzczMzExXiUAAAAAAgBWKQDMzMzOz04pAZmZmZuaRi0CamZmZGVCMQM3MzMxMDo1AAAAAAIDMjUAzMzMzs4qOQGZmZmbmSI9A\",\"dtype\":\"float64\",\"shape\":[75]}}},\"id\":\"96e2a2e1-a120-401c-b2fa-dbcef86ab4dc\",\"type\":\"ColumnDataSource\"},{\"attributes\":{\"children\":[{\"id\":\"e8b26201-ca60-4124-805c-bcb8685a946e\",\"type\":\"Row\"}]},\"id\":\"c6b133c6-5a58-44ff-ab31-560fdbe4643f\",\"type\":\"Column\"},{\"attributes\":{\"below\":[{\"id\":\"53fae216-6690-42f5-a932-f57907468e74\",\"type\":\"LinearAxis\"}],\"left\":[{\"id\":\"d070c2f4-500c-4d5f-aa81-6f4d010d6fed\",\"type\":\"LogAxis\"}],\"plot_height\":500,\"plot_width\":560,\"renderers\":[{\"id\":\"53fae216-6690-42f5-a932-f57907468e74\",\"type\":\"LinearAxis\"},{\"id\":\"07f99bbe-9531-415f-96c6-8b1c82e78e21\",\"type\":\"Grid\"},{\"id\":\"d070c2f4-500c-4d5f-aa81-6f4d010d6fed\",\"type\":\"LogAxis\"},{\"id\":\"82a431b7-09ae-40b4-93c4-0307269a9524\",\"type\":\"Grid\"},{\"id\":\"8f666c99-f7aa-4317-a1d1-e18dd4fced51\",\"type\":\"BoxAnnotation\"},{\"id\":\"66254890-2d21-4646-825f-c62f866f42fb\",\"type\":\"GlyphRenderer\"},{\"id\":\"eb6cb32d-bb9b-4d88-b4aa-680f969d9adf\",\"type\":\"GlyphRenderer\"},{\"id\":\"3963b7df-7d4a-49d7-95b7-9491e8f63669\",\"type\":\"GlyphRenderer\"},{\"id\":\"113c07c9-aa2f-41c1-a7b1-8559dcd00c35\",\"type\":\"GlyphRenderer\"},{\"id\":\"cfa6aae9-c5c1-408e-a562-e2513a851ed8\",\"type\":\"GlyphRenderer\"},{\"id\":\"f5e8f99e-e38c-458f-852a-918406ef333c\",\"type\":\"Legend\"}],\"right\":[{\"id\":\"f5e8f99e-e38c-458f-852a-918406ef333c\",\"type\":\"Legend\"}],\"title\":{\"id\":\"bc3cbe22-3a65-4182-8fd9-a30b9c552142\",\"type\":\"Title\"},\"toolbar\":{\"id\":\"910f3cff-b5b1-40ff-ad5d-4e0a1d158bc3\",\"type\":\"Toolbar\"},\"toolbar_location\":null,\"x_range\":{\"id\":\"f6da5121-8806-407b-8ecf-159b74f04f77\",\"type\":\"Range1d\"},\"x_scale\":{\"id\":\"fc0bf890-a269-4d69-aea6-4bf08b65e094\",\"type\":\"LinearScale\"},\"y_range\":{\"id\":\"df77d146-e72d-4912-9a34-8ffeb0be49b8\",\"type\":\"Range1d\"},\"y_scale\":{\"id\":\"8d25ca87-f94d-4bbd-9501-05e5f8e01d44\",\"type\":\"LogScale\"}},\"id\":\"33d8bc63-8098-4f24-a3f8-de12c10ce848\",\"subtype\":\"Figure\",\"type\":\"Plot\"},{\"attributes\":{\"source\":{\"id\":\"1a9b1f1f-2b67-48fb-838b-895dbe05fb91\",\"type\":\"ColumnDataSource\"}},\"id\":\"affc6853-b09d-413f-9273-13f67a43e2a2\",\"type\":\"CDSView\"},{\"attributes\":{\"plot\":null,\"text\":\"Log pressure scale\"},\"id\":\"bc3cbe22-3a65-4182-8fd9-a30b9c552142\",\"type\":\"Title\"},{\"attributes\":{\"line_color\":\"#4daf4a\",\"line_width\":1.5,\"x\":{\"field\":\"x\"},\"y\":{\"field\":\"y\"}},\"id\":\"002b4bcc-2b50-4fa3-b398-a09a5d610047\",\"type\":\"Line\"},{\"attributes\":{\"data_source\":{\"id\":\"6af59e35-04bf-41ee-a5e9-2472523d2ab4\",\"type\":\"ColumnDataSource\"},\"glyph\":{\"id\":\"002b4bcc-2b50-4fa3-b398-a09a5d610047\",\"type\":\"Line\"},\"hover_glyph\":null,\"muted_glyph\":null,\"nonselection_glyph\":{\"id\":\"fe19dc8c-d20a-4a7d-89a3-4deca8559ca0\",\"type\":\"Line\"},\"selection_glyph\":null,\"view\":{\"id\":\"137c8e85-f11b-43d8-bfbb-4430b0bc1946\",\"type\":\"CDSView\"}},\"id\":\"3963b7df-7d4a-49d7-95b7-9491e8f63669\",\"type\":\"GlyphRenderer\"},{\"attributes\":{\"fill_alpha\":{\"value\":0.1},\"fill_color\":{\"value\":\"#1f77b4\"},\"line_alpha\":{\"value\":0.1},\"line_color\":{\"value\":\"#1f77b4\"},\"x\":{\"field\":\"x\"},\"y\":{\"field\":\"y\"}},\"id\":\"dba93dc9-29b9-42bb-b38c-73afa2c74a15\",\"type\":\"Square\"},{\"attributes\":{\"line_alpha\":0.6,\"line_color\":\"#984ea3\",\"line_width\":3,\"x\":{\"field\":\"x\"},\"y\":{\"field\":\"y\"}},\"id\":\"6e849279-c0ce-4eb8-ba69-81d0d96acdde\",\"type\":\"Line\"},{\"attributes\":{\"data_source\":{\"id\":\"24b08a15-55ed-4d97-83b4-1b66ffae7220\",\"type\":\"ColumnDataSource\"},\"glyph\":{\"id\":\"51948e28-22f4-4713-98b3-4c48c31efcc8\",\"type\":\"Square\"},\"hover_glyph\":null,\"muted_glyph\":null,\"nonselection_glyph\":{\"id\":\"f35318df-3710-4bc3-b591-a187410b1944\",\"type\":\"Square\"},\"selection_glyph\":null,\"view\":{\"id\":\"661441f0-9948-4bf1-a626-0ce2dca79820\",\"type\":\"CDSView\"}},\"id\":\"113c07c9-aa2f-41c1-a7b1-8559dcd00c35\",\"type\":\"GlyphRenderer\"},{\"attributes\":{},\"id\":\"fc0bf890-a269-4d69-aea6-4bf08b65e094\",\"type\":\"LinearScale\"},{\"attributes\":{\"source\":{\"id\":\"6af59e35-04bf-41ee-a5e9-2472523d2ab4\",\"type\":\"ColumnDataSource\"}},\"id\":\"137c8e85-f11b-43d8-bfbb-4430b0bc1946\",\"type\":\"CDSView\"},{\"attributes\":{\"fill_alpha\":{\"value\":0.7},\"fill_color\":{\"value\":\"#984ea3\"},\"line_alpha\":{\"value\":0.7},\"line_color\":{\"value\":\"#984ea3\"},\"x\":{\"field\":\"x\"},\"y\":{\"field\":\"y\"}},\"id\":\"51948e28-22f4-4713-98b3-4c48c31efcc8\",\"type\":\"Square\"},{\"attributes\":{\"callback\":null,\"column_names\":[\"x\",\"y\"],\"data\":{\"x\":{\"__ndarray__\":\"mRoZilFVRT9IfMRnHGtGP+hQhGBOukg/0XT4Nh8jSz8nzBZxg59NP923NfrpFFA/esN1vK1jUT81ezuhErlSPwL2KfQuGFQ/AYABEyiBVT/YDb136+tWP/o/gRsUUlg/06X+f/WfWT9fl305HGZbPytc8BAoVWE/no9wakD1aT8Cd/or5lNzPzj9+AqUTXs/xFyV9tSSgj+XgMq+TJCIP4N+ICXowo8/saEImrCskz8PinH0tKCUPyE020Uzd5I/nkfZ4wT0jj8gU+u7KmmIP/a20Wsw54I/PhJD6q5XfT+JRk7aKO92Pw6B2TwLFHI/AChOUDSfbD/iGJCYPIBmPyzq59vvQWE/9c8x8kLSWD9kn+WFoW5JP7o2OCQIjQg/xVLW+7KNM78UsrLKT6wiv4LvzqG0IDs/zVNt3SzqUz8OQIfWms9oP1IO5m5Q7YI/JsSebocjlT/EfYZlo9uiP0z2/Qts5Kw/TvkSVbgYtD+v2Jkh2Uy6P/mk0ezTVMA/iszYp07Nwj/fqmcYqb3FP4hFTldeD8k/mHlAE0C1zD8DWj67EVDQP89i7+YlVtI/K3Tzx5No1D8InJ3z8HHWP+XIsZLiZdg/zn+8FZE62j9Mowvi6t3bP01pmgNGT90/enGgj0t/3j9EVel65EffP7zXQQwRg98/uWpDan9s4D+OnQmwPCbgP4GDrF3JhN4/Cbw4lhwc3D9YGhlg9p3YPzJKwH1Xo9U/QFamTvZF0z91p+CVyVXRP19lyAyvf88/i2shbYgWzT+Puikn0uTLP1hxDeDrc9A/\",\"dtype\":\"float64\",\"shape\":[75]},\"y\":{\"__ndarray__\":\"GhExyth1ND/Sv8nbtpRIP2vylNV0PVE/aTum7souWD/At0SJ8fVgPw3Iuahxymc/MSNhhJWvcD/bTfBN02d3P2zb5nxnaoA/CD5h5MAGhz8NmeH1TyaQP+zrCsc9p5Y/LbKd76fGnz/bLW5ISEmmPww9YvTcQq8/JV2OstnstT8Er5Y7M8G+P0c+r3jqkcU/5h99k6ZBzj88bCIzFzjVP4enV8oyxN0//yH99nXg5D8qOpLLf0jtP5kqGJXUifQ/c9cS8kHP/D+/DpwzojQEQIEmwoanVwxA4lgXt9HgE0BSSZ2AJuIbQAMJih9jjiNA5q4l5INuK0AwTKYKRj0zQNv5fmq8/DpAaCJseHrtQkB/+zpwzoxKQM3MzMzMeFJAZmZmZmZqWEAAAAAAAFxeQM3MzMzMJmJAmpmZmZkfZUBmZmZmZhhoQDMzMzMzEWtAAAAAAAAKbkBmZmZmZoFwQM3MzMzM/XFAMzMzMzN6c0CamZmZmfZ0QAAAAAAAc3ZAZmZmZmbvd0DNzMzMzGt5QDMzMzMz6HpAmpmZmZlkfEAAAAAAAOF9QGZmZmZmXX9AZmZmZuZsgECamZmZGSuBQM3MzMxM6YFAAAAAAICngkAzMzMzs2WDQGZmZmbmI4RAmpmZmRnihEDNzMzMTKCFQAAAAACAXoZAMzMzM7Mch0BmZmZm5tqHQJqZmZkZmYhAzczMzExXiUAAAAAAgBWKQDMzMzOz04pAZmZmZuaRi0CamZmZGVCMQM3MzMxMDo1AAAAAAIDMjUAzMzMzs4qOQGZmZmbmSI9A\",\"dtype\":\"float64\",\"shape\":[75]}}},\"id\":\"f7fd2286-f4bd-4c7f-9ff9-92a0269b5d98\",\"type\":\"ColumnDataSource\"},{\"attributes\":{\"callback\":null,\"end\":0.020349434292400003,\"start\":-0.0005744675323999999},\"id\":\"f6da5121-8806-407b-8ecf-159b74f04f77\",\"type\":\"Range1d\"},{\"attributes\":{\"fill_alpha\":{\"value\":0.7},\"fill_color\":{\"value\":\"#984ea3\"},\"line_alpha\":{\"value\":0.7},\"line_color\":{\"value\":\"#984ea3\"},\"x\":{\"field\":\"x\"},\"y\":{\"field\":\"y\"}},\"id\":\"b15617f7-6d03-4888-9bd4-c2b446a33240\",\"type\":\"Square\"},{\"attributes\":{\"items\":[{\"id\":\"e58e7db0-3c7b-4c4b-b7a4-c07a5c241cd7\",\"type\":\"LegendItem\"},{\"id\":\"1b9295ff-abaf-4227-86d4-001b621263a5\",\"type\":\"LegendItem\"},{\"id\":\"1bb670e0-79c5-4bcd-b04f-3df88501d6f7\",\"type\":\"LegendItem\"}],\"label_text_font_size\":{\"value\":\"8pt\"},\"location\":[10,-30],\"plot\":{\"id\":\"33d8bc63-8098-4f24-a3f8-de12c10ce848\",\"subtype\":\"Figure\",\"type\":\"Plot\"}},\"id\":\"f5e8f99e-e38c-458f-852a-918406ef333c\",\"type\":\"Legend\"},{\"attributes\":{\"label\":{\"value\":\"CRD\"},\"renderers\":[{\"id\":\"eb6cb32d-bb9b-4d88-b4aa-680f969d9adf\",\"type\":\"GlyphRenderer\"},{\"id\":\"3963b7df-7d4a-49d7-95b7-9491e8f63669\",\"type\":\"GlyphRenderer\"}]},\"id\":\"1b9295ff-abaf-4227-86d4-001b621263a5\",\"type\":\"LegendItem\"},{\"attributes\":{\"source\":{\"id\":\"96e2a2e1-a120-401c-b2fa-dbcef86ab4dc\",\"type\":\"ColumnDataSource\"}},\"id\":\"3f87d4ee-4cce-4ffb-af14-65b70ebc25d9\",\"type\":\"CDSView\"},{\"attributes\":{\"fill_alpha\":{\"value\":0.1},\"fill_color\":{\"value\":\"#1f77b4\"},\"line_alpha\":{\"value\":0.1},\"line_color\":{\"value\":\"#1f77b4\"},\"x\":{\"field\":\"x\"},\"y\":{\"field\":\"y\"}},\"id\":\"f35318df-3710-4bc3-b591-a187410b1944\",\"type\":\"Square\"},{\"attributes\":{\"below\":[{\"id\":\"cdaed94d-7c5c-4e59-a404-652acfbc6a42\",\"type\":\"LinearAxis\"}],\"left\":[{\"id\":\"42df0715-07bb-4cac-a881-57ba91d3906a\",\"type\":\"LinearAxis\"}],\"plot_height\":500,\"plot_width\":400,\"renderers\":[{\"id\":\"cdaed94d-7c5c-4e59-a404-652acfbc6a42\",\"type\":\"LinearAxis\"},{\"id\":\"e2815913-a75c-4e0a-9afe-8299967ebe89\",\"type\":\"Grid\"},{\"id\":\"42df0715-07bb-4cac-a881-57ba91d3906a\",\"type\":\"LinearAxis\"},{\"id\":\"995444d1-c099-4776-b1fe-a5d1e855f768\",\"type\":\"Grid\"},{\"id\":\"1124e758-7cff-418f-9761-bb19a8a2ed80\",\"type\":\"BoxAnnotation\"},{\"id\":\"26e20a23-2d8b-4528-831c-02f602788e2b\",\"type\":\"GlyphRenderer\"},{\"id\":\"99eafe58-3fd2-4153-b829-c3b7e42a7eb4\",\"type\":\"GlyphRenderer\"},{\"id\":\"f082a3ba-0e80-4fa8-9cfd-7396f86a74fe\",\"type\":\"GlyphRenderer\"},{\"id\":\"1554776b-b349-4061-ba37-af34526db338\",\"type\":\"GlyphRenderer\"},{\"id\":\"f4897434-3376-4baf-bc8f-278e8c3a507b\",\"type\":\"GlyphRenderer\"}],\"title\":{\"id\":\"71a4d320-c906-44ee-b520-4cb13d5926b8\",\"type\":\"Title\"},\"toolbar\":{\"id\":\"92f70378-5d9a-45d4-9fdb-88212859fcaa\",\"type\":\"Toolbar\"},\"toolbar_location\":null,\"x_range\":{\"id\":\"90f56e4b-646d-4bcb-83da-ee0066a86945\",\"type\":\"Range1d\"},\"x_scale\":{\"id\":\"db040b3f-eb8f-4bc9-9513-331ea3bd3bf0\",\"type\":\"LinearScale\"},\"y_range\":{\"id\":\"2a7c3f3b-cc54-4a08-9529-4dec30f05597\",\"type\":\"Range1d\"},\"y_scale\":{\"id\":\"b18a869f-e851-424a-8e9d-fd0532b506d6\",\"type\":\"LinearScale\"}},\"id\":\"9f787143-2e86-4760-b829-90c752009970\",\"subtype\":\"Figure\",\"type\":\"Plot\"},{\"attributes\":{\"source\":{\"id\":\"c863a04e-fbee-434a-90c0-d03230e1b008\",\"type\":\"ColumnDataSource\"}},\"id\":\"c3e34317-1eb1-439e-9e06-6f843cdb2198\",\"type\":\"CDSView\"},{\"attributes\":{\"source\":{\"id\":\"24b08a15-55ed-4d97-83b4-1b66ffae7220\",\"type\":\"ColumnDataSource\"}},\"id\":\"661441f0-9948-4bf1-a626-0ce2dca79820\",\"type\":\"CDSView\"},{\"attributes\":{\"label\":{\"value\":\"CLIRAD `coolr_bands`\"},\"renderers\":[{\"id\":\"66254890-2d21-4646-825f-c62f866f42fb\",\"type\":\"GlyphRenderer\"}]},\"id\":\"e58e7db0-3c7b-4c4b-b7a4-c07a5c241cd7\",\"type\":\"LegendItem\"},{\"attributes\":{\"tools\":[{\"id\":\"9104c411-03cc-4267-b000-bc099a5f8097\",\"type\":\"PanTool\"},{\"id\":\"0048aa88-9c91-45da-849f-558136d57a18\",\"type\":\"WheelZoomTool\"},{\"id\":\"4bc605cd-3224-40bc-b037-f57def919761\",\"type\":\"BoxZoomTool\"},{\"id\":\"8ed510b5-7aff-4d4f-8bb7-0369e273bb7e\",\"type\":\"SaveTool\"},{\"id\":\"57cb3b12-ccb0-48d9-9ab9-e01342e6ea40\",\"type\":\"ResetTool\"},{\"id\":\"26c05e81-95f6-4a01-a960-852ae26b410d\",\"type\":\"HelpTool\"},{\"id\":\"55146b27-e29c-420d-bce6-bb6ee359f238\",\"type\":\"PanTool\"},{\"id\":\"45be5052-196f-4249-871b-1b180987611f\",\"type\":\"WheelZoomTool\"},{\"id\":\"4447e129-e71b-43d3-acaa-74c66cfaa2e5\",\"type\":\"BoxZoomTool\"},{\"id\":\"c50a17dc-f5c2-4358-ac0e-c015b55b89f2\",\"type\":\"SaveTool\"},{\"id\":\"8a38666e-4638-47b2-93d4-85f0edf9587d\",\"type\":\"ResetTool\"},{\"id\":\"c7c18c7c-693b-4c7f-8536-24fc12e9f9d1\",\"type\":\"HelpTool\"}]},\"id\":\"ef029d8c-91a0-458c-9ee5-ab9e320b648d\",\"type\":\"ProxyToolbar\"},{\"attributes\":{\"line_alpha\":0.1,\"line_color\":\"#1f77b4\",\"line_width\":3,\"x\":{\"field\":\"x\"},\"y\":{\"field\":\"y\"}},\"id\":\"da64bf2c-8c3c-4ae4-bfc2-734ea18cc4a9\",\"type\":\"Line\"},{\"attributes\":{\"data_source\":{\"id\":\"96e2a2e1-a120-401c-b2fa-dbcef86ab4dc\",\"type\":\"ColumnDataSource\"},\"glyph\":{\"id\":\"6e849279-c0ce-4eb8-ba69-81d0d96acdde\",\"type\":\"Line\"},\"hover_glyph\":null,\"muted_glyph\":null,\"nonselection_glyph\":{\"id\":\"da64bf2c-8c3c-4ae4-bfc2-734ea18cc4a9\",\"type\":\"Line\"},\"selection_glyph\":null,\"view\":{\"id\":\"3f87d4ee-4cce-4ffb-af14-65b70ebc25d9\",\"type\":\"CDSView\"}},\"id\":\"cfa6aae9-c5c1-408e-a562-e2513a851ed8\",\"type\":\"GlyphRenderer\"},{\"attributes\":{\"line_alpha\":0.6,\"line_color\":\"#e41a1c\",\"line_dash\":[6],\"line_width\":5,\"x\":{\"field\":\"x\"},\"y\":{\"field\":\"y\"}},\"id\":\"d45585e7-f565-470c-bf07-b9ce723bccbe\",\"type\":\"Line\"},{\"attributes\":{\"toolbar\":{\"id\":\"ef029d8c-91a0-458c-9ee5-ab9e320b648d\",\"type\":\"ProxyToolbar\"},\"toolbar_location\":\"above\"},\"id\":\"07b3e251-b9e0-4ef1-8f34-2e88f20daa40\",\"type\":\"ToolbarBox\"},{\"attributes\":{\"children\":[{\"id\":\"07b3e251-b9e0-4ef1-8f34-2e88f20daa40\",\"type\":\"ToolbarBox\"},{\"id\":\"c6b133c6-5a58-44ff-ab31-560fdbe4643f\",\"type\":\"Column\"}]},\"id\":\"23419de4-32ac-4d0e-83bb-acfb7be380c4\",\"type\":\"Column\"},{\"attributes\":{\"data_source\":{\"id\":\"f7fd2286-f4bd-4c7f-9ff9-92a0269b5d98\",\"type\":\"ColumnDataSource\"},\"glyph\":{\"id\":\"2c87c317-3bad-4d2c-95f4-23db285d6b26\",\"type\":\"Circle\"},\"hover_glyph\":null,\"muted_glyph\":null,\"nonselection_glyph\":{\"id\":\"bd259698-b6be-4ad7-a1f8-33db87849a1c\",\"type\":\"Circle\"},\"selection_glyph\":null,\"view\":{\"id\":\"c3f08df2-0b9f-43ff-ba75-c9df9a056e61\",\"type\":\"CDSView\"}},\"id\":\"99eafe58-3fd2-4153-b829-c3b7e42a7eb4\",\"type\":\"GlyphRenderer\"},{\"attributes\":{},\"id\":\"55146b27-e29c-420d-bce6-bb6ee359f238\",\"type\":\"PanTool\"},{\"attributes\":{\"bottom_units\":\"screen\",\"fill_alpha\":{\"value\":0.5},\"fill_color\":{\"value\":\"lightgrey\"},\"left_units\":\"screen\",\"level\":\"overlay\",\"line_alpha\":{\"value\":1.0},\"line_color\":{\"value\":\"black\"},\"line_dash\":[4,4],\"line_width\":{\"value\":2},\"plot\":null,\"render_mode\":\"css\",\"right_units\":\"screen\",\"top_units\":\"screen\"},\"id\":\"8f666c99-f7aa-4317-a1d1-e18dd4fced51\",\"type\":\"BoxAnnotation\"},{\"attributes\":{\"line_alpha\":0.1,\"line_color\":\"#1f77b4\",\"line_dash\":[6],\"line_width\":5,\"x\":{\"field\":\"x\"},\"y\":{\"field\":\"y\"}},\"id\":\"173fddc5-5e75-4ed8-bfde-8e7eac1c92be\",\"type\":\"Line\"},{\"attributes\":{\"label\":{\"value\":\"WGT igg=10 wgt_flux=2\"},\"renderers\":[{\"id\":\"113c07c9-aa2f-41c1-a7b1-8559dcd00c35\",\"type\":\"GlyphRenderer\"},{\"id\":\"cfa6aae9-c5c1-408e-a562-e2513a851ed8\",\"type\":\"GlyphRenderer\"}]},\"id\":\"1bb670e0-79c5-4bcd-b04f-3df88501d6f7\",\"type\":\"LegendItem\"},{\"attributes\":{\"callback\":null,\"column_names\":[\"x\",\"y\"],\"data\":{\"x\":{\"__ndarray__\":\"8ZOAf620Sz8NravujrdMP8/scxEOzk4/a9hPE2V9UD86yMA7aptRP1+NXgwowVI//J74Fr7uUz+E5DCbDyZVP1MSvmX8ZVY/Tc51ll+sVz9Y8tW7WvVYP9o11heeN1o/CHsO+TmbWz8HIB53n2NdP24CrAdGD2I/YPWdRXy2aT/bCoQ+MI5yP836jgeSunk/d1+gBF1GgT8fwQ9irqeGP14mbJMGKo0/goFrsK8Okj/N7LXrtyqTP2CZEUTfkpE/6S0hDg1Njj+Th31aPp+IP3zEtCmKh4M/uLfMVVaufj8glog+/uF3P36OLpSAcXI/N4cLZ484bD8aQ6bXvzJlPwlZ3P8T5F4/gzEHrH38VD/DM3HOtndDP4PNlnEUawu/uARTzRNpNr/hUP4XatQnv8qKxaiNvjY/wXOBKFZDUj9dZk7SNWtnPzBbVemKZII/3yJ+CuYelT/awEtqnhCjP55h4vbuFa0/aiYIKKo8tD+/ypWsn6a6P88roLOnZcA/vyTfbeFvwj9BHI38uAjFP/R6WBeEUcg/L8DYDskTzD/1yyN+k/zPP/0hDOJw6tE/GT7/LlTf0z9zHNjDFt/VP4LNeNxp5dc/ceJqzcrd2T9C08Tp2qPbP/cEuvLcLN0/yLSiIONo3j9iBGAn0kLfP98xvklcnd8/oRTZjY6W4D91YWdvZ3XgP3oX1NAXYN8/I0oatR4M3T+6Pz9/am3ZP0oaR0pwLtY/xkDaBEOU0z/ThcpzLHXRP20r9SLei88/TOXDODYgzT/Qll29AhjMP5ZDsHDil9A/\",\"dtype\":\"float64\",\"shape\":[75]},\"y\":{\"__ndarray__\":\"GhExyth1ND/Sv8nbtpRIP2vylNV0PVE/aTum7souWD/At0SJ8fVgPw3Iuahxymc/MSNhhJWvcD/bTfBN02d3P2zb5nxnaoA/CD5h5MAGhz8NmeH1TyaQP+zrCsc9p5Y/LbKd76fGnz/bLW5ISEmmPww9YvTcQq8/JV2OstnstT8Er5Y7M8G+P0c+r3jqkcU/5h99k6ZBzj88bCIzFzjVP4enV8oyxN0//yH99nXg5D8qOpLLf0jtP5kqGJXUifQ/c9cS8kHP/D+/DpwzojQEQIEmwoanVwxA4lgXt9HgE0BSSZ2AJuIbQAMJih9jjiNA5q4l5INuK0AwTKYKRj0zQNv5fmq8/DpAaCJseHrtQkB/+zpwzoxKQM3MzMzMeFJAZmZmZmZqWEAAAAAAAFxeQM3MzMzMJmJAmpmZmZkfZUBmZmZmZhhoQDMzMzMzEWtAAAAAAAAKbkBmZmZmZoFwQM3MzMzM/XFAMzMzMzN6c0CamZmZmfZ0QAAAAAAAc3ZAZmZmZmbvd0DNzMzMzGt5QDMzMzMz6HpAmpmZmZlkfEAAAAAAAOF9QGZmZmZmXX9AZmZmZuZsgECamZmZGSuBQM3MzMxM6YFAAAAAAICngkAzMzMzs2WDQGZmZmbmI4RAmpmZmRnihEDNzMzMTKCFQAAAAACAXoZAMzMzM7Mch0BmZmZm5tqHQJqZmZkZmYhAzczMzExXiUAAAAAAgBWKQDMzMzOz04pAZmZmZuaRi0CamZmZGVCMQM3MzMxMDo1AAAAAAIDMjUAzMzMzs4qOQGZmZmbmSI9A\",\"dtype\":\"float64\",\"shape\":[75]}}},\"id\":\"5ed225d1-58b4-4950-8cb4-7e451d950dd8\",\"type\":\"ColumnDataSource\"},{\"attributes\":{\"callback\":null,\"column_names\":[\"x\",\"y\"],\"data\":{\"x\":{\"__ndarray__\":\"UNwvr/xqUD9TpORUcNFQP1aUjW2r91E/so6THFEVUz/FQqFkATpUP+5UsRKiZVU/glW1ILSXVj9gJ/UcStFXP7Pmr+feEFk/l2N9NPFWWj+Dk/xmLKNbP9ViROdb9Fw/aExdgmdMXj86d3bTWARgP7CNH0NzWGM/AaqCEXcVaz/JAiVLxiZzP/gl1196LHo/UqwZqLNrgT/9MISUhreGPxQiEErAMY0/NQqV9Domkj87L8eLgmmTP/aTAQW2AZI/6twQin1njz/CA5hsG8qJP5RhGXG6koQ/H8cM3bcdgD80qceLQ7x4P/ORT2nvlXI/JRFR/eBLaz9UYCkU531jP9u/fgX6llo/RRahQ11+UD+GhjRjyvw4P49Z3gRp7CO/h4ThmFk0OL/uIHkrzS8uv0PuN2vq9ig/rxmZgcbvST+8zYjDs7NhP/PfOyadTH0/3o0mkyq8kT/gCakaPpugPxuV+Rmnuak/YrtnnAcpsj9a1/bj56C4P/KU1XQ90b4/Uvmuc5k7wT+H53zjMaTDPycNXol6IMc/YQSmNuVIyz8KNzLyJn3PPwMmT92Fu9E/Q5wceJTO0z/IkIxqS/zVPwUZIiN3Q9g//dCz9sp+2j8dPRtFGHfcP28zkantLN4/P+Hs1jKZ3z8Tb3QAilLgP8yEuqNan+A/JnbpNhOZ4T+ycrvZF5fhP7ad+GLWyOA/ShyBkfrf3j86HyJebJTaP0qS72uHs9Y/+jwt3EWa0z8NS4d3Ti3RP8liD6tHs84/LE2E7EBGzD8rQtqUZWfLP19mM+JdSdA/\",\"dtype\":\"float64\",\"shape\":[75]},\"y\":{\"__ndarray__\":\"S/O/Q+51ND/Sv8nbtpRIP2vylNV0PVE/aTum7souWD/At0SJ8fVgPw3Iuahxymc/MSNhhJWvcD/bTfBN02d3P2zb5nxnaoA/CD5h5MAGhz8NmeH1TyaQP+zrCsc9p5Y/LbKd76fGnz/bLW5ISEmmPww9YvTcQq8/JV2OstnstT8Er5Y7M8G+P0c+r3jqkcU/5h99k6ZBzj88bCIzFzjVP4enV8oyxN0//yH99nXg5D8qOpLLf0jtP5kqGJXUifQ/c9cS8kHP/D+/DpwzojQEQIEmwoanVwxA4lgXt9HgE0BSSZ2AJuIbQAMJih9jjiNA5q4l5INuK0AwTKYKRj0zQNv5fmq8/DpAaCJseHrtQkB/+zpwzoxKQM3MzMzMeFJAZmZmZmZqWEAAAAAAAFxeQM3MzMzMJmJAmpmZmZkfZUBmZmZmZhhoQDMzMzMzEWtAAAAAAAAKbkBmZmZmZoFwQM3MzMzM/XFAMzMzMzN6c0CamZmZmfZ0QAAAAAAAc3ZAZmZmZmbvd0DNzMzMzGt5QDMzMzMz6HpAmpmZmZlkfEAAAAAAAOF9QGZmZmZmXX9AZmZmZuZsgECamZmZGSuBQM3MzMxM6YFAAAAAAICngkAzMzMzs2WDQGZmZmbmI4RAmpmZmRnihEDNzMzMTKCFQAAAAACAXoZAMzMzM7Mch0BmZmZm5tqHQJqZmZkZmYhAzczMzExXiUAAAAAAgBWKQDMzMzOz04pAZmZmZuaRi0CamZmZGVCMQM3MzMxMDo1AAAAAAIDMjUAzMzMzs4qOQGZmZmbmSI9A\",\"dtype\":\"float64\",\"shape\":[75]}}},\"id\":\"abb6c424-340b-4c73-b242-1239b1c6c8f8\",\"type\":\"ColumnDataSource\"},{\"attributes\":{\"callback\":null,\"end\":0.5554389725124,\"start\":-0.0058723837524},\"id\":\"90f56e4b-646d-4bcb-83da-ee0066a86945\",\"type\":\"Range1d\"},{\"attributes\":{\"data_source\":{\"id\":\"abb6c424-340b-4c73-b242-1239b1c6c8f8\",\"type\":\"ColumnDataSource\"},\"glyph\":{\"id\":\"d45585e7-f565-470c-bf07-b9ce723bccbe\",\"type\":\"Line\"},\"hover_glyph\":null,\"muted_glyph\":null,\"nonselection_glyph\":{\"id\":\"173fddc5-5e75-4ed8-bfde-8e7eac1c92be\",\"type\":\"Line\"},\"selection_glyph\":null,\"view\":{\"id\":\"fa37a670-b0a9-4671-a9b0-0aea70922525\",\"type\":\"CDSView\"}},\"id\":\"66254890-2d21-4646-825f-c62f866f42fb\",\"type\":\"GlyphRenderer\"},{\"attributes\":{\"num_minor_ticks\":10},\"id\":\"f36cb284-4dfa-4c3b-b6c4-f34c973d82de\",\"type\":\"LogTicker\"},{\"attributes\":{},\"id\":\"c7c18c7c-693b-4c7f-8536-24fc12e9f9d1\",\"type\":\"HelpTool\"},{\"attributes\":{},\"id\":\"c50a17dc-f5c2-4358-ac0e-c015b55b89f2\",\"type\":\"SaveTool\"},{\"attributes\":{\"source\":{\"id\":\"5ed225d1-58b4-4950-8cb4-7e451d950dd8\",\"type\":\"ColumnDataSource\"}},\"id\":\"333185b1-664d-499b-a159-f43c8d15e2fd\",\"type\":\"CDSView\"},{\"attributes\":{},\"id\":\"45be5052-196f-4249-871b-1b180987611f\",\"type\":\"WheelZoomTool\"},{\"attributes\":{\"data_source\":{\"id\":\"5ed225d1-58b4-4950-8cb4-7e451d950dd8\",\"type\":\"ColumnDataSource\"},\"glyph\":{\"id\":\"b15617f7-6d03-4888-9bd4-c2b446a33240\",\"type\":\"Square\"},\"hover_glyph\":null,\"muted_glyph\":null,\"nonselection_glyph\":{\"id\":\"dba93dc9-29b9-42bb-b38c-73afa2c74a15\",\"type\":\"Square\"},\"selection_glyph\":null,\"view\":{\"id\":\"333185b1-664d-499b-a159-f43c8d15e2fd\",\"type\":\"CDSView\"}},\"id\":\"1554776b-b349-4061-ba37-af34526db338\",\"type\":\"GlyphRenderer\"},{\"attributes\":{\"overlay\":{\"id\":\"8f666c99-f7aa-4317-a1d1-e18dd4fced51\",\"type\":\"BoxAnnotation\"}},\"id\":\"4447e129-e71b-43d3-acaa-74c66cfaa2e5\",\"type\":\"BoxZoomTool\"},{\"attributes\":{\"line_alpha\":0.6,\"line_color\":\"#984ea3\",\"line_width\":3,\"x\":{\"field\":\"x\"},\"y\":{\"field\":\"y\"}},\"id\":\"62fc028f-ff19-40c6-948c-3ed12152eb42\",\"type\":\"Line\"},{\"attributes\":{},\"id\":\"8d25ca87-f94d-4bbd-9501-05e5f8e01d44\",\"type\":\"LogScale\"},{\"attributes\":{},\"id\":\"57cb3b12-ccb0-48d9-9ab9-e01342e6ea40\",\"type\":\"ResetTool\"},{\"attributes\":{\"overlay\":{\"id\":\"1124e758-7cff-418f-9761-bb19a8a2ed80\",\"type\":\"BoxAnnotation\"}},\"id\":\"4bc605cd-3224-40bc-b037-f57def919761\",\"type\":\"BoxZoomTool\"},{\"attributes\":{\"data_source\":{\"id\":\"c863a04e-fbee-434a-90c0-d03230e1b008\",\"type\":\"ColumnDataSource\"},\"glyph\":{\"id\":\"9303b037-7ea0-4aeb-964d-61e44ad73b47\",\"type\":\"Line\"},\"hover_glyph\":null,\"muted_glyph\":null,\"nonselection_glyph\":{\"id\":\"9eea867e-17f7-47f6-82ec-76fb3ccb0599\",\"type\":\"Line\"},\"selection_glyph\":null,\"view\":{\"id\":\"c3e34317-1eb1-439e-9e06-6f843cdb2198\",\"type\":\"CDSView\"}},\"id\":\"26e20a23-2d8b-4528-831c-02f602788e2b\",\"type\":\"GlyphRenderer\"},{\"attributes\":{},\"id\":\"0048aa88-9c91-45da-849f-558136d57a18\",\"type\":\"WheelZoomTool\"},{\"attributes\":{\"callback\":null,\"column_names\":[\"x\",\"y\"],\"data\":{\"x\":{\"__ndarray__\":\"UNwvr/xqUD9TpORUcNFQP1aUjW2r91E/so6THFEVUz/FQqFkATpUP+5UsRKiZVU/glW1ILSXVj9gJ/UcStFXP7Pmr+feEFk/l2N9NPFWWj+Dk/xmLKNbP9ViROdb9Fw/aExdgmdMXj86d3bTWARgP7CNH0NzWGM/AaqCEXcVaz/JAiVLxiZzP/gl1196LHo/UqwZqLNrgT/9MISUhreGPxQiEErAMY0/NQqV9Domkj87L8eLgmmTP/aTAQW2AZI/6twQin1njz/CA5hsG8qJP5RhGXG6koQ/H8cM3bcdgD80qceLQ7x4P/ORT2nvlXI/JRFR/eBLaz9UYCkU531jP9u/fgX6llo/RRahQ11+UD+GhjRjyvw4P49Z3gRp7CO/h4ThmFk0OL/uIHkrzS8uv0PuN2vq9ig/rxmZgcbvST+8zYjDs7NhP/PfOyadTH0/3o0mkyq8kT/gCakaPpugPxuV+Rmnuak/YrtnnAcpsj9a1/bj56C4P/KU1XQ90b4/Uvmuc5k7wT+H53zjMaTDPycNXol6IMc/YQSmNuVIyz8KNzLyJn3PPwMmT92Fu9E/Q5wceJTO0z/IkIxqS/zVPwUZIiN3Q9g//dCz9sp+2j8dPRtFGHfcP28zkantLN4/P+Hs1jKZ3z8Tb3QAilLgP8yEuqNan+A/JnbpNhOZ4T+ycrvZF5fhP7ad+GLWyOA/ShyBkfrf3j86HyJebJTaP0qS72uHs9Y/+jwt3EWa0z8NS4d3Ti3RP8liD6tHs84/LE2E7EBGzD8rQtqUZWfLP19mM+JdSdA/\",\"dtype\":\"float64\",\"shape\":[75]},\"y\":{\"__ndarray__\":\"S/O/Q+51ND/Sv8nbtpRIP2vylNV0PVE/aTum7souWD/At0SJ8fVgPw3Iuahxymc/MSNhhJWvcD/bTfBN02d3P2zb5nxnaoA/CD5h5MAGhz8NmeH1TyaQP+zrCsc9p5Y/LbKd76fGnz/bLW5ISEmmPww9YvTcQq8/JV2OstnstT8Er5Y7M8G+P0c+r3jqkcU/5h99k6ZBzj88bCIzFzjVP4enV8oyxN0//yH99nXg5D8qOpLLf0jtP5kqGJXUifQ/c9cS8kHP/D+/DpwzojQEQIEmwoanVwxA4lgXt9HgE0BSSZ2AJuIbQAMJih9jjiNA5q4l5INuK0AwTKYKRj0zQNv5fmq8/DpAaCJseHrtQkB/+zpwzoxKQM3MzMzMeFJAZmZmZmZqWEAAAAAAAFxeQM3MzMzMJmJAmpmZmZkfZUBmZmZmZhhoQDMzMzMzEWtAAAAAAAAKbkBmZmZmZoFwQM3MzMzM/XFAMzMzMzN6c0CamZmZmfZ0QAAAAAAAc3ZAZmZmZmbvd0DNzMzMzGt5QDMzMzMz6HpAmpmZmZlkfEAAAAAAAOF9QGZmZmZmXX9AZmZmZuZsgECamZmZGSuBQM3MzMxM6YFAAAAAAICngkAzMzMzs2WDQGZmZmbmI4RAmpmZmRnihEDNzMzMTKCFQAAAAACAXoZAMzMzM7Mch0BmZmZm5tqHQJqZmZkZmYhAzczMzExXiUAAAAAAgBWKQDMzMzOz04pAZmZmZuaRi0CamZmZGVCMQM3MzMxMDo1AAAAAAIDMjUAzMzMzs4qOQGZmZmbmSI9A\",\"dtype\":\"float64\",\"shape\":[75]}}},\"id\":\"c863a04e-fbee-434a-90c0-d03230e1b008\",\"type\":\"ColumnDataSource\"},{\"attributes\":{\"data_source\":{\"id\":\"beeac93a-9aa6-445e-a74d-739ac593679c\",\"type\":\"ColumnDataSource\"},\"glyph\":{\"id\":\"1d21ba4d-4a2b-4d07-b45b-7a63c7586cba\",\"type\":\"Line\"},\"hover_glyph\":null,\"muted_glyph\":null,\"nonselection_glyph\":{\"id\":\"a15f6d6b-1ae5-43c3-b355-1818c8331c75\",\"type\":\"Line\"},\"selection_glyph\":null,\"view\":{\"id\":\"e690ef43-e406-4550-b3ce-324a3031e08f\",\"type\":\"CDSView\"}},\"id\":\"f082a3ba-0e80-4fa8-9cfd-7396f86a74fe\",\"type\":\"GlyphRenderer\"},{\"attributes\":{\"line_color\":\"#4daf4a\",\"line_width\":1.5,\"x\":{\"field\":\"x\"},\"y\":{\"field\":\"y\"}},\"id\":\"1d21ba4d-4a2b-4d07-b45b-7a63c7586cba\",\"type\":\"Line\"},{\"attributes\":{\"callback\":null,\"end\":0.01,\"start\":1020},\"id\":\"df77d146-e72d-4912-9a34-8ffeb0be49b8\",\"type\":\"Range1d\"},{\"attributes\":{\"source\":{\"id\":\"f7fd2286-f4bd-4c7f-9ff9-92a0269b5d98\",\"type\":\"ColumnDataSource\"}},\"id\":\"c3f08df2-0b9f-43ff-ba75-c9df9a056e61\",\"type\":\"CDSView\"},{\"attributes\":{\"fill_alpha\":{\"value\":0.1},\"fill_color\":{\"value\":\"#1f77b4\"},\"line_alpha\":{\"value\":0.1},\"line_color\":{\"value\":\"#1f77b4\"},\"x\":{\"field\":\"x\"},\"y\":{\"field\":\"y\"}},\"id\":\"bd259698-b6be-4ad7-a1f8-33db87849a1c\",\"type\":\"Circle\"},{\"attributes\":{},\"id\":\"b18a869f-e851-424a-8e9d-fd0532b506d6\",\"type\":\"LinearScale\"},{\"attributes\":{},\"id\":\"30129825-50f4-489d-a724-5cd13e574e5a\",\"type\":\"BasicTicker\"},{\"attributes\":{\"callback\":null,\"column_names\":[\"x\",\"y\"],\"data\":{\"x\":{\"__ndarray__\":\"mRoZilFVRT9IfMRnHGtGP+hQhGBOukg/0XT4Nh8jSz8nzBZxg59NP923NfrpFFA/esN1vK1jUT81ezuhErlSPwL2KfQuGFQ/AYABEyiBVT/YDb136+tWP/o/gRsUUlg/06X+f/WfWT9fl305HGZbPytc8BAoVWE/no9wakD1aT8Cd/or5lNzPzj9+AqUTXs/xFyV9tSSgj+XgMq+TJCIP4N+ICXowo8/saEImrCskz8PinH0tKCUPyE020Uzd5I/nkfZ4wT0jj8gU+u7KmmIP/a20Wsw54I/PhJD6q5XfT+JRk7aKO92Pw6B2TwLFHI/AChOUDSfbD/iGJCYPIBmPyzq59vvQWE/9c8x8kLSWD9kn+WFoW5JP7o2OCQIjQg/xVLW+7KNM78UsrLKT6wiv4LvzqG0IDs/zVNt3SzqUz8OQIfWms9oP1IO5m5Q7YI/JsSebocjlT/EfYZlo9uiP0z2/Qts5Kw/TvkSVbgYtD+v2Jkh2Uy6P/mk0ezTVMA/iszYp07Nwj/fqmcYqb3FP4hFTldeD8k/mHlAE0C1zD8DWj67EVDQP89i7+YlVtI/K3Tzx5No1D8InJ3z8HHWP+XIsZLiZdg/zn+8FZE62j9Mowvi6t3bP01pmgNGT90/enGgj0t/3j9EVel65EffP7zXQQwRg98/uWpDan9s4D+OnQmwPCbgP4GDrF3JhN4/Cbw4lhwc3D9YGhlg9p3YPzJKwH1Xo9U/QFamTvZF0z91p+CVyVXRP19lyAyvf88/i2shbYgWzT+Puikn0uTLP1hxDeDrc9A/\",\"dtype\":\"float64\",\"shape\":[75]},\"y\":{\"__ndarray__\":\"GhExyth1ND/Sv8nbtpRIP2vylNV0PVE/aTum7souWD/At0SJ8fVgPw3Iuahxymc/MSNhhJWvcD/bTfBN02d3P2zb5nxnaoA/CD5h5MAGhz8NmeH1TyaQP+zrCsc9p5Y/LbKd76fGnz/bLW5ISEmmPww9YvTcQq8/JV2OstnstT8Er5Y7M8G+P0c+r3jqkcU/5h99k6ZBzj88bCIzFzjVP4enV8oyxN0//yH99nXg5D8qOpLLf0jtP5kqGJXUifQ/c9cS8kHP/D+/DpwzojQEQIEmwoanVwxA4lgXt9HgE0BSSZ2AJuIbQAMJih9jjiNA5q4l5INuK0AwTKYKRj0zQNv5fmq8/DpAaCJseHrtQkB/+zpwzoxKQM3MzMzMeFJAZmZmZmZqWEAAAAAAAFxeQM3MzMzMJmJAmpmZmZkfZUBmZmZmZhhoQDMzMzMzEWtAAAAAAAAKbkBmZmZmZoFwQM3MzMzM/XFAMzMzMzN6c0CamZmZmfZ0QAAAAAAAc3ZAZmZmZmbvd0DNzMzMzGt5QDMzMzMz6HpAmpmZmZlkfEAAAAAAAOF9QGZmZmZmXX9AZmZmZuZsgECamZmZGSuBQM3MzMxM6YFAAAAAAICngkAzMzMzs2WDQGZmZmbmI4RAmpmZmRnihEDNzMzMTKCFQAAAAACAXoZAMzMzM7Mch0BmZmZm5tqHQJqZmZkZmYhAzczMzExXiUAAAAAAgBWKQDMzMzOz04pAZmZmZuaRi0CamZmZGVCMQM3MzMxMDo1AAAAAAIDMjUAzMzMzs4qOQGZmZmbmSI9A\",\"dtype\":\"float64\",\"shape\":[75]}}},\"id\":\"beeac93a-9aa6-445e-a74d-739ac593679c\",\"type\":\"ColumnDataSource\"},{\"attributes\":{\"dimension\":1,\"plot\":{\"id\":\"9f787143-2e86-4760-b829-90c752009970\",\"subtype\":\"Figure\",\"type\":\"Plot\"},\"ticker\":{\"id\":\"30129825-50f4-489d-a724-5cd13e574e5a\",\"type\":\"BasicTicker\"}},\"id\":\"995444d1-c099-4776-b1fe-a5d1e855f768\",\"type\":\"Grid\"},{\"attributes\":{\"plot\":{\"id\":\"9f787143-2e86-4760-b829-90c752009970\",\"subtype\":\"Figure\",\"type\":\"Plot\"},\"ticker\":{\"id\":\"c6c3e693-1653-4ad8-b713-938b5a28208a\",\"type\":\"BasicTicker\"}},\"id\":\"e2815913-a75c-4e0a-9afe-8299967ebe89\",\"type\":\"Grid\"},{\"attributes\":{\"callback\":null,\"end\":0.01,\"start\":1020},\"id\":\"2a7c3f3b-cc54-4a08-9529-4dec30f05597\",\"type\":\"Range1d\"},{\"attributes\":{\"active_drag\":\"auto\",\"active_inspect\":\"auto\",\"active_scroll\":\"auto\",\"active_tap\":\"auto\",\"tools\":[{\"id\":\"9104c411-03cc-4267-b000-bc099a5f8097\",\"type\":\"PanTool\"},{\"id\":\"0048aa88-9c91-45da-849f-558136d57a18\",\"type\":\"WheelZoomTool\"},{\"id\":\"4bc605cd-3224-40bc-b037-f57def919761\",\"type\":\"BoxZoomTool\"},{\"id\":\"8ed510b5-7aff-4d4f-8bb7-0369e273bb7e\",\"type\":\"SaveTool\"},{\"id\":\"57cb3b12-ccb0-48d9-9ab9-e01342e6ea40\",\"type\":\"ResetTool\"},{\"id\":\"26c05e81-95f6-4a01-a960-852ae26b410d\",\"type\":\"HelpTool\"}]},\"id\":\"92f70378-5d9a-45d4-9fdb-88212859fcaa\",\"type\":\"Toolbar\"},{\"attributes\":{\"axis_label\":\"cooling rate [K/day]\",\"formatter\":{\"id\":\"f41e2eab-82ff-4d20-bc5e-e982d1617fe8\",\"type\":\"BasicTickFormatter\"},\"plot\":{\"id\":\"9f787143-2e86-4760-b829-90c752009970\",\"subtype\":\"Figure\",\"type\":\"Plot\"},\"ticker\":{\"id\":\"c6c3e693-1653-4ad8-b713-938b5a28208a\",\"type\":\"BasicTicker\"}},\"id\":\"cdaed94d-7c5c-4e59-a404-652acfbc6a42\",\"type\":\"LinearAxis\"},{\"attributes\":{\"fill_alpha\":{\"value\":0.7},\"fill_color\":{\"value\":\"#4daf4a\"},\"line_alpha\":{\"value\":0.7},\"line_color\":{\"value\":\"#4daf4a\"},\"x\":{\"field\":\"x\"},\"y\":{\"field\":\"y\"}},\"id\":\"2c87c317-3bad-4d2c-95f4-23db285d6b26\",\"type\":\"Circle\"},{\"attributes\":{\"axis_label\":\"pressure [mb]\",\"formatter\":{\"id\":\"0f7e8dee-62e7-4091-a8db-94f28da1345e\",\"type\":\"BasicTickFormatter\"},\"plot\":{\"id\":\"9f787143-2e86-4760-b829-90c752009970\",\"subtype\":\"Figure\",\"type\":\"Plot\"},\"ticker\":{\"id\":\"30129825-50f4-489d-a724-5cd13e574e5a\",\"type\":\"BasicTicker\"}},\"id\":\"42df0715-07bb-4cac-a881-57ba91d3906a\",\"type\":\"LinearAxis\"},{\"attributes\":{\"dimension\":1,\"plot\":{\"id\":\"33d8bc63-8098-4f24-a3f8-de12c10ce848\",\"subtype\":\"Figure\",\"type\":\"Plot\"},\"ticker\":{\"id\":\"f36cb284-4dfa-4c3b-b6c4-f34c973d82de\",\"type\":\"LogTicker\"}},\"id\":\"82a431b7-09ae-40b4-93c4-0307269a9524\",\"type\":\"Grid\"},{\"attributes\":{},\"id\":\"db040b3f-eb8f-4bc9-9513-331ea3bd3bf0\",\"type\":\"LinearScale\"},{\"attributes\":{},\"id\":\"f41e2eab-82ff-4d20-bc5e-e982d1617fe8\",\"type\":\"BasicTickFormatter\"},{\"attributes\":{},\"id\":\"c6c3e693-1653-4ad8-b713-938b5a28208a\",\"type\":\"BasicTicker\"},{\"attributes\":{},\"id\":\"26c05e81-95f6-4a01-a960-852ae26b410d\",\"type\":\"HelpTool\"},{\"attributes\":{\"line_alpha\":0.6,\"line_color\":\"#e41a1c\",\"line_dash\":[6],\"line_width\":5,\"x\":{\"field\":\"x\"},\"y\":{\"field\":\"y\"}},\"id\":\"9303b037-7ea0-4aeb-964d-61e44ad73b47\",\"type\":\"Line\"},{\"attributes\":{\"line_alpha\":0.1,\"line_color\":\"#1f77b4\",\"line_width\":1.5,\"x\":{\"field\":\"x\"},\"y\":{\"field\":\"y\"}},\"id\":\"a15f6d6b-1ae5-43c3-b355-1818c8331c75\",\"type\":\"Line\"},{\"attributes\":{\"plot\":null,\"text\":\"Linear pressure scale\"},\"id\":\"71a4d320-c906-44ee-b520-4cb13d5926b8\",\"type\":\"Title\"},{\"attributes\":{},\"id\":\"9104c411-03cc-4267-b000-bc099a5f8097\",\"type\":\"PanTool\"},{\"attributes\":{\"bottom_units\":\"screen\",\"fill_alpha\":{\"value\":0.5},\"fill_color\":{\"value\":\"lightgrey\"},\"left_units\":\"screen\",\"level\":\"overlay\",\"line_alpha\":{\"value\":1.0},\"line_color\":{\"value\":\"black\"},\"line_dash\":[4,4],\"line_width\":{\"value\":2},\"plot\":null,\"render_mode\":\"css\",\"right_units\":\"screen\",\"top_units\":\"screen\"},\"id\":\"1124e758-7cff-418f-9761-bb19a8a2ed80\",\"type\":\"BoxAnnotation\"}],\"root_ids\":[\"23419de4-32ac-4d0e-83bb-acfb7be380c4\"]},\"title\":\"Bokeh Application\",\"version\":\"0.12.14\"}};\n",
       "  var render_items = [{\"docid\":\"bd765b96-05a5-4055-94df-f755f585d9ab\",\"elementid\":\"2a6ac2e8-fb19-47b9-9a85-918b2cf08daa\",\"modelid\":\"23419de4-32ac-4d0e-83bb-acfb7be380c4\"}];\n",
       "  root.Bokeh.embed.embed_items_notebook(docs_json, render_items);\n",
       "\n",
       "  }\n",
       "  if (root.Bokeh !== undefined) {\n",
       "    embed_document(root);\n",
       "  } else {\n",
       "    var attempts = 0;\n",
       "    var timer = setInterval(function(root) {\n",
       "      if (root.Bokeh !== undefined) {\n",
       "        embed_document(root);\n",
       "        clearInterval(timer);\n",
       "      }\n",
       "      attempts++;\n",
       "      if (attempts > 100) {\n",
       "        console.log(\"Bokeh: ERROR: Unable to run BokehJS code because BokehJS library is missing\")\n",
       "        clearInterval(timer);\n",
       "      }\n",
       "    }, 10, root)\n",
       "  }\n",
       "})(window);"
      ],
      "application/vnd.bokehjs_exec.v0+json": ""
     },
     "metadata": {
      "application/vnd.bokehjs_exec.v0+json": {
       "id": "23419de4-32ac-4d0e-83bb-acfb7be380c4"
      }
     },
     "output_type": "display_data"
    },
    {
     "name": "stdout",
     "output_type": "stream",
     "text": [
      "FIGURE. Cooling rate profiles.\n"
     ]
    },
    {
     "data": {
      "text/html": [
       "<a id=\"Flux_Comparison\"></a>"
      ],
      "text/plain": [
       "<IPython.core.display.HTML object>"
      ]
     },
     "metadata": {},
     "output_type": "display_data"
    },
    {
     "data": {
      "text/markdown": [
       "# Flux Comparison"
      ],
      "text/plain": [
       "<IPython.core.display.Markdown object>"
      ]
     },
     "metadata": {},
     "output_type": "display_data"
    },
    {
     "data": {
      "text/html": [
       "<div>\n",
       "<style>\n",
       "    .dataframe thead tr:only-child th {\n",
       "        text-align: right;\n",
       "    }\n",
       "\n",
       "    .dataframe thead th {\n",
       "        text-align: left;\n",
       "    }\n",
       "\n",
       "    .dataframe tbody tr th {\n",
       "        vertical-align: top;\n",
       "    }\n",
       "</style>\n",
       "<table border=\"1\" class=\"dataframe\">\n",
       "  <thead>\n",
       "    <tr style=\"text-align: right;\">\n",
       "      <th></th>\n",
       "      <th></th>\n",
       "      <th>flug</th>\n",
       "      <th>fldg</th>\n",
       "      <th>fnetg</th>\n",
       "    </tr>\n",
       "    <tr>\n",
       "      <th>pressure</th>\n",
       "      <th>level</th>\n",
       "      <th></th>\n",
       "      <th></th>\n",
       "      <th></th>\n",
       "    </tr>\n",
       "  </thead>\n",
       "  <tbody>\n",
       "    <tr>\n",
       "      <th>0.0000</th>\n",
       "      <th>1</th>\n",
       "      <td>-29.997328</td>\n",
       "      <td>0.000000</td>\n",
       "      <td>-29.997328</td>\n",
       "    </tr>\n",
       "    <tr>\n",
       "      <th>1.0685</th>\n",
       "      <th>24</th>\n",
       "      <td>-29.996963</td>\n",
       "      <td>0.001349</td>\n",
       "      <td>-29.995614</td>\n",
       "    </tr>\n",
       "    <tr>\n",
       "      <th>1013.0000</th>\n",
       "      <th>76</th>\n",
       "      <td>-38.491734</td>\n",
       "      <td>35.870686</td>\n",
       "      <td>-2.621049</td>\n",
       "    </tr>\n",
       "  </tbody>\n",
       "</table>\n",
       "</div>"
      ],
      "text/plain": [
       "                      flug       fldg      fnetg\n",
       "pressure  level                                 \n",
       "0.0000    1     -29.997328   0.000000 -29.997328\n",
       "1.0685    24    -29.996963   0.001349 -29.995614\n",
       "1013.0000 76    -38.491734  35.870686  -2.621049"
      ]
     },
     "metadata": {},
     "output_type": "display_data"
    },
    {
     "name": "stdout",
     "output_type": "stream",
     "text": [
      "Table. Fluxes. WGT igg=10 wgt_flux=1\n"
     ]
    },
    {
     "data": {
      "text/html": [
       "<div>\n",
       "<style>\n",
       "    .dataframe thead tr:only-child th {\n",
       "        text-align: right;\n",
       "    }\n",
       "\n",
       "    .dataframe thead th {\n",
       "        text-align: left;\n",
       "    }\n",
       "\n",
       "    .dataframe tbody tr th {\n",
       "        vertical-align: top;\n",
       "    }\n",
       "</style>\n",
       "<table border=\"1\" class=\"dataframe\">\n",
       "  <thead>\n",
       "    <tr style=\"text-align: right;\">\n",
       "      <th></th>\n",
       "      <th></th>\n",
       "      <th>flug</th>\n",
       "      <th>fldg</th>\n",
       "      <th>fnetg</th>\n",
       "    </tr>\n",
       "    <tr>\n",
       "      <th>pressure</th>\n",
       "      <th>level</th>\n",
       "      <th></th>\n",
       "      <th></th>\n",
       "      <th></th>\n",
       "    </tr>\n",
       "  </thead>\n",
       "  <tbody>\n",
       "    <tr>\n",
       "      <th>0.0000</th>\n",
       "      <th>1</th>\n",
       "      <td>-30.008535</td>\n",
       "      <td>0.000000</td>\n",
       "      <td>-30.008535</td>\n",
       "    </tr>\n",
       "    <tr>\n",
       "      <th>1.0685</th>\n",
       "      <th>24</th>\n",
       "      <td>-30.008217</td>\n",
       "      <td>0.001534</td>\n",
       "      <td>-30.006684</td>\n",
       "    </tr>\n",
       "    <tr>\n",
       "      <th>1013.0000</th>\n",
       "      <th>76</th>\n",
       "      <td>-38.491734</td>\n",
       "      <td>35.831583</td>\n",
       "      <td>-2.660152</td>\n",
       "    </tr>\n",
       "  </tbody>\n",
       "</table>\n",
       "</div>"
      ],
      "text/plain": [
       "                      flug       fldg      fnetg\n",
       "pressure  level                                 \n",
       "0.0000    1     -30.008535   0.000000 -30.008535\n",
       "1.0685    24    -30.008217   0.001534 -30.006684\n",
       "1013.0000 76    -38.491734  35.831583  -2.660152"
      ]
     },
     "metadata": {},
     "output_type": "display_data"
    },
    {
     "name": "stdout",
     "output_type": "stream",
     "text": [
      "Table. Fluxes. CRD\n"
     ]
    },
    {
     "data": {
      "text/html": [
       "<div>\n",
       "<style>\n",
       "    .dataframe thead tr:only-child th {\n",
       "        text-align: right;\n",
       "    }\n",
       "\n",
       "    .dataframe thead th {\n",
       "        text-align: left;\n",
       "    }\n",
       "\n",
       "    .dataframe tbody tr th {\n",
       "        vertical-align: top;\n",
       "    }\n",
       "</style>\n",
       "<table border=\"1\" class=\"dataframe\">\n",
       "  <thead>\n",
       "    <tr style=\"text-align: right;\">\n",
       "      <th></th>\n",
       "      <th></th>\n",
       "      <th>flug</th>\n",
       "      <th>fldg</th>\n",
       "      <th>fnetg</th>\n",
       "    </tr>\n",
       "    <tr>\n",
       "      <th>pressure</th>\n",
       "      <th>level</th>\n",
       "      <th></th>\n",
       "      <th></th>\n",
       "      <th></th>\n",
       "    </tr>\n",
       "  </thead>\n",
       "  <tbody>\n",
       "    <tr>\n",
       "      <th>1.000000e-08</th>\n",
       "      <th>1</th>\n",
       "      <td>-30.074835</td>\n",
       "      <td>0.000002</td>\n",
       "      <td>-30.074833</td>\n",
       "    </tr>\n",
       "    <tr>\n",
       "      <th>1.068500e+00</th>\n",
       "      <th>24</th>\n",
       "      <td>-30.074428</td>\n",
       "      <td>0.001325</td>\n",
       "      <td>-30.073103</td>\n",
       "    </tr>\n",
       "    <tr>\n",
       "      <th>1.013000e+03</th>\n",
       "      <th>76</th>\n",
       "      <td>-38.491730</td>\n",
       "      <td>36.231032</td>\n",
       "      <td>-2.260698</td>\n",
       "    </tr>\n",
       "  </tbody>\n",
       "</table>\n",
       "</div>"
      ],
      "text/plain": [
       "                         flug       fldg      fnetg\n",
       "pressure     level                                 \n",
       "1.000000e-08 1     -30.074835   0.000002 -30.074833\n",
       "1.068500e+00 24    -30.074428   0.001325 -30.073103\n",
       "1.013000e+03 76    -38.491730  36.231032  -2.260698"
      ]
     },
     "metadata": {},
     "output_type": "display_data"
    },
    {
     "name": "stdout",
     "output_type": "stream",
     "text": [
      "Table. Fluxes. CLIRAD\n"
     ]
    },
    {
     "data": {
      "text/html": [
       "<div>\n",
       "<style>\n",
       "    .dataframe thead tr:only-child th {\n",
       "        text-align: right;\n",
       "    }\n",
       "\n",
       "    .dataframe thead th {\n",
       "        text-align: left;\n",
       "    }\n",
       "\n",
       "    .dataframe tbody tr th {\n",
       "        vertical-align: top;\n",
       "    }\n",
       "</style>\n",
       "<table border=\"1\" class=\"dataframe\">\n",
       "  <thead>\n",
       "    <tr style=\"text-align: right;\">\n",
       "      <th></th>\n",
       "      <th></th>\n",
       "      <th>flug</th>\n",
       "      <th>fldg</th>\n",
       "      <th>fnetg</th>\n",
       "    </tr>\n",
       "    <tr>\n",
       "      <th>pressure</th>\n",
       "      <th>level</th>\n",
       "      <th></th>\n",
       "      <th></th>\n",
       "      <th></th>\n",
       "    </tr>\n",
       "  </thead>\n",
       "  <tbody>\n",
       "    <tr>\n",
       "      <th>0.0000</th>\n",
       "      <th>1</th>\n",
       "      <td>-1.120685e-02</td>\n",
       "      <td>0.000000</td>\n",
       "      <td>-0.011207</td>\n",
       "    </tr>\n",
       "    <tr>\n",
       "      <th>1.0685</th>\n",
       "      <th>24</th>\n",
       "      <td>-1.125435e-02</td>\n",
       "      <td>0.000185</td>\n",
       "      <td>-0.011070</td>\n",
       "    </tr>\n",
       "    <tr>\n",
       "      <th>1013.0000</th>\n",
       "      <th>76</th>\n",
       "      <td>-2.390000e-07</td>\n",
       "      <td>-0.039103</td>\n",
       "      <td>-0.039103</td>\n",
       "    </tr>\n",
       "  </tbody>\n",
       "</table>\n",
       "</div>"
      ],
      "text/plain": [
       "                         flug      fldg     fnetg\n",
       "pressure  level                                  \n",
       "0.0000    1     -1.120685e-02  0.000000 -0.011207\n",
       "1.0685    24    -1.125435e-02  0.000185 -0.011070\n",
       "1013.0000 76    -2.390000e-07 -0.039103 -0.039103"
      ]
     },
     "metadata": {},
     "output_type": "display_data"
    },
    {
     "name": "stdout",
     "output_type": "stream",
     "text": [
      "Table. Fluxes. (CRD) - (WGT igg=10 wgt_flux=1)\n"
     ]
    },
    {
     "data": {
      "text/html": [
       "<div>\n",
       "<style>\n",
       "    .dataframe thead tr:only-child th {\n",
       "        text-align: right;\n",
       "    }\n",
       "\n",
       "    .dataframe thead th {\n",
       "        text-align: left;\n",
       "    }\n",
       "\n",
       "    .dataframe tbody tr th {\n",
       "        vertical-align: top;\n",
       "    }\n",
       "</style>\n",
       "<table border=\"1\" class=\"dataframe\">\n",
       "  <thead>\n",
       "    <tr style=\"text-align: right;\">\n",
       "      <th></th>\n",
       "      <th></th>\n",
       "      <th>flug</th>\n",
       "      <th>fldg</th>\n",
       "      <th>fnetg</th>\n",
       "    </tr>\n",
       "    <tr>\n",
       "      <th>pressure</th>\n",
       "      <th>level</th>\n",
       "      <th></th>\n",
       "      <th></th>\n",
       "      <th></th>\n",
       "    </tr>\n",
       "  </thead>\n",
       "  <tbody>\n",
       "    <tr>\n",
       "      <th>0.0000</th>\n",
       "      <th>1</th>\n",
       "      <td>-0.077507</td>\n",
       "      <td>0.000002</td>\n",
       "      <td>-0.077505</td>\n",
       "    </tr>\n",
       "    <tr>\n",
       "      <th>1.0685</th>\n",
       "      <th>24</th>\n",
       "      <td>-0.077465</td>\n",
       "      <td>-0.000024</td>\n",
       "      <td>-0.077489</td>\n",
       "    </tr>\n",
       "    <tr>\n",
       "      <th>1013.0000</th>\n",
       "      <th>76</th>\n",
       "      <td>0.000004</td>\n",
       "      <td>0.360346</td>\n",
       "      <td>0.360351</td>\n",
       "    </tr>\n",
       "  </tbody>\n",
       "</table>\n",
       "</div>"
      ],
      "text/plain": [
       "                     flug      fldg     fnetg\n",
       "pressure  level                              \n",
       "0.0000    1     -0.077507  0.000002 -0.077505\n",
       "1.0685    24    -0.077465 -0.000024 -0.077489\n",
       "1013.0000 76     0.000004  0.360346  0.360351"
      ]
     },
     "metadata": {},
     "output_type": "display_data"
    },
    {
     "name": "stdout",
     "output_type": "stream",
     "text": [
      "Table. Fluxes. (CLIRAD) - (WGT igg=10 wgt_flux=1)\n"
     ]
    },
    {
     "data": {
      "text/html": [
       "<a id=\"Best-fit_Parameters\"></a>"
      ],
      "text/plain": [
       "<IPython.core.display.HTML object>"
      ]
     },
     "metadata": {},
     "output_type": "display_data"
    },
    {
     "data": {
      "text/markdown": [
       "# Best-fit Parameters"
      ],
      "text/plain": [
       "<IPython.core.display.Markdown object>"
      ]
     },
     "metadata": {},
     "output_type": "display_data"
    },
    {
     "name": "stdout",
     "output_type": "stream",
     "text": [
      "Best-fit values for each (gas, band)\n",
      "------------------------------------\n",
      "o h2o band3a\n",
      "  atmpro = mls\n",
      "  band = 3a\n",
      "  commitnumber = a06b618\n",
      "  conc = None\n",
      "  dv = 0.001\n",
      "  klin = 0\n",
      "  molecule = h2o\n",
      "  ng_adju = [0, 0]\n",
      "  ng_refs = [2, 6]\n",
      "  nv = 1000\n",
      "  option_compute_btable = 0\n",
      "  option_compute_ktable = 1\n",
      "  option_wgt_flux = 1\n",
      "  option_wgt_k = 1\n",
      "  ref_pts = [(10, 250), (600, 250)]\n",
      "  tsfc = 294\n",
      "  vmax = 620\n",
      "  vmin = 540\n",
      "  w_diffuse = [(1.9, 1.7), (1.4, 1.4, 1.4, 1.55, 1.6, 1.66)]\n",
      "  wgt = [(0.7, 0.7), (0.7, 0.5, 0.5, 0.5, 0.5, 0.5)]\n"
     ]
    }
   ],
   "source": [
    "script()"
   ]
  },
  {
   "cell_type": "code",
   "execution_count": 13,
   "metadata": {
    "collapsed": true
   },
   "outputs": [
    {
     "data": {
      "text/html": [
       "<script>\n",
       "code_show=true; \n",
       "function code_toggle() {\n",
       " if (code_show){\n",
       " $('div.input').hide();\n",
       " } else {\n",
       " $('div.input').show();\n",
       " }\n",
       " code_show = !code_show\n",
       "} \n",
       "$( document ).ready(code_toggle);\n",
       "</script>\n",
       "<form action=\"javascript:code_toggle()\"><input type=\"submit\" value=\"Click here to toggle on/off the raw code.\"></form>"
      ],
      "text/plain": [
       "<IPython.core.display.HTML object>"
      ]
     },
     "execution_count": 13,
     "metadata": {},
     "output_type": "execute_result"
    }
   ],
   "source": [
    "display.HTML('''<script>\n",
    "code_show=true; \n",
    "function code_toggle() {\n",
    " if (code_show){\n",
    " $('div.input').hide();\n",
    " } else {\n",
    " $('div.input').show();\n",
    " }\n",
    " code_show = !code_show\n",
    "} \n",
    "$( document ).ready(code_toggle);\n",
    "</script>\n",
    "<form action=\"javascript:code_toggle()\"><input type=\"submit\" value=\"Click here to toggle on/off the raw code.\"></form>''')"
   ]
  }
 ],
 "metadata": {
  "kernelspec": {
   "display_name": "Python 3",
   "language": "python",
   "name": "python3"
  },
  "language_info": {
   "codemirror_mode": {
    "name": "ipython",
    "version": 3
   },
   "file_extension": ".py",
   "mimetype": "text/x-python",
   "name": "python",
   "nbconvert_exporter": "python",
   "pygments_lexer": "ipython3",
   "version": "3.6.1"
  }
 },
 "nbformat": 4,
 "nbformat_minor": 2
}
