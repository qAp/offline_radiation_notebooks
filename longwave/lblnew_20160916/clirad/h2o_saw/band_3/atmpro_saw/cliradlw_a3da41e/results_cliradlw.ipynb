{
 "cells": [
  {
   "cell_type": "code",
   "execution_count": 1,
   "metadata": {
    "collapsed": true
   },
   "outputs": [],
   "source": [
    "%matplotlib inline\n",
    "import os\n",
    "import re\n",
    "import io\n",
    "import itertools\n",
    "import pprint\n",
    "\n",
    "from bokeh.io import output_notebook, show\n",
    "from bokeh.layouts import gridplot\n",
    "from bokeh.plotting import figure\n",
    "from bokeh.models import Range1d, Legend\n",
    "from bokeh.palettes import all_palettes\n",
    "\n",
    "import matplotlib\n",
    "import matplotlib.pyplot as plt\n",
    "import numpy as np\n",
    "import pandas as pd\n",
    "import xarray as xr\n",
    "\n",
    "import climatools.lblnew.bestfit_params as bestfits\n",
    "from climatools.lblnew import setup_bestfit, setup_overlap\n",
    "import climatools.lblnew.pipeline as pipe_lblnew\n",
    "import climatools.cliradlw.setup as setup_cliradlw\n",
    "import climatools.cliradlw.pipeline as pipe_cliradlw\n",
    "\n",
    "import climatools.html.html as climahtml\n",
    "from climatools.lblnew.dataio import *\n",
    "from climatools.plot.plot import *\n",
    "\n",
    "\n",
    "import IPython.display as display"
   ]
  },
  {
   "cell_type": "code",
   "execution_count": 2,
   "metadata": {
    "collapsed": true
   },
   "outputs": [],
   "source": [
    "%run param.py"
   ]
  },
  {
   "cell_type": "code",
   "execution_count": 3,
   "metadata": {
    "collapsed": true
   },
   "outputs": [],
   "source": [
    "def load_output_file(path_csv):\n",
    "    '''\n",
    "    Load lblnew output .csv file to xarray.Dataset\n",
    "    \n",
    "    Parameters\n",
    "    ----------\n",
    "    path_csv: str\n",
    "              Path to the .csv file to be loaded.\n",
    "    ds: xarray.Dataset\n",
    "        Data in the input file in the form of an xarray.Dataset.\n",
    "    '''\n",
    "    toindex = ['band', 'pressure', 'igg', 'g']    \n",
    "    df = pd.read_csv(path_csv, sep=r'\\s+')\n",
    "    df = df.set_index([i for i in toindex if i in df.columns])\n",
    "    df = df.rename(columns={'sfu': 'flug',\n",
    "                            'sfd': 'fldg',\n",
    "                            'fnet': 'fnetg',\n",
    "                            'coolr': 'coolrg'})\n",
    "    ds = xr.Dataset.from_dataframe(df)\n",
    "\n",
    "    for l in ('level', 'layer'):\n",
    "        if l in ds.data_vars:\n",
    "            if len(ds[l].dims) > 1:\n",
    "                surface = {d: 0 for d in ds.dims if d != 'pressure'}\n",
    "                coord_level = ds[l][surface]\n",
    "                ds.coords[l] = ('pressure', coord_level)\n",
    "            else:\n",
    "                ds.coords[l] = ('pressure', ds[l])\n",
    "    \n",
    "    return ds"
   ]
  },
  {
   "cell_type": "code",
   "execution_count": 4,
   "metadata": {
    "collapsed": true
   },
   "outputs": [],
   "source": [
    "def lblnew_setup(param=None):\n",
    "    if 'ng_refs' in param:\n",
    "        return {'setup': setup_bestfit,\n",
    "                'fname_flux_crd': 'output_flux.dat',\n",
    "                'fname_cool_crd': 'output_coolr.dat',\n",
    "                'fname_flux_wgt': 'output_wfluxg.dat',\n",
    "                'fname_cool_wgt': 'output_wcoolrg.dat'}\n",
    "    else:\n",
    "        return {'setup': setup_overlap,\n",
    "                'fname_flux_crd': 'output_flux.dat',\n",
    "                'fname_cool_crd': 'output_coolr.dat',\n",
    "                'fname_flux_wgt': 'output_wflux.dat',\n",
    "                'fname_cool_wgt': 'output_wcoolr.dat'}\n",
    "\n",
    "    \n",
    "def load_lblnew_data(param):\n",
    "    \n",
    "    fname_dsname = [('fname_flux_crd', 'ds_flux_crd'),\n",
    "                    ('fname_cool_crd', 'ds_cool_crd'),\n",
    "                    ('fname_flux_wgt', 'ds_flux_wgt'),\n",
    "                    ('fname_cool_wgt', 'ds_cool_wgt')]\n",
    "    \n",
    "    d = lblnew_setup(param)\n",
    "    dir_fortran = pipe_lblnew.get_dir_case(param, setup=d['setup'])\n",
    "    \n",
    "    data_dict = {}\n",
    "    for fname, dsname in fname_dsname:\n",
    "        fpath = os.path.join(dir_fortran, d[fname])\n",
    "        data_dict[dsname] = load_output_file(fpath)\n",
    "    return data_dict\n",
    "    \n",
    "\n",
    "    \n",
    "    "
   ]
  },
  {
   "cell_type": "code",
   "execution_count": 5,
   "metadata": {
    "collapsed": true
   },
   "outputs": [],
   "source": [
    "d = load_lblnew_data(PARAM_LBLNEW)\n",
    "\n",
    "DS_FLUX_CRD = d['ds_flux_crd']\n",
    "DS_COOL_CRD = d['ds_cool_crd']\n",
    "DS_FLUX_WGT = d['ds_flux_wgt']\n",
    "DS_COOL_WGT = d['ds_cool_wgt']"
   ]
  },
  {
   "cell_type": "code",
   "execution_count": 6,
   "metadata": {
    "collapsed": true
   },
   "outputs": [],
   "source": [
    "DIR_FORTRAN = pipe_cliradlw.get_fortran_dir(PARAM, \n",
    "                                            setup=setup_cliradlw)\n",
    "\n",
    "PATH_FLUX = os.path.join(DIR_FORTRAN, 'output_flux.dat')\n",
    "PATH_COOL = os.path.join(DIR_FORTRAN, 'output_coolr.dat')\n",
    "\n",
    "DS_FLUX = load_output_file(PATH_FLUX)\n",
    "DS_COOL = load_output_file(PATH_COOL)"
   ]
  },
  {
   "cell_type": "code",
   "execution_count": 7,
   "metadata": {
    "collapsed": true
   },
   "outputs": [
    {
     "data": {
      "text/html": [
       "\n",
       "    <div class=\"bk-root\">\n",
       "        <a href=\"https://bokeh.pydata.org\" target=\"_blank\" class=\"bk-logo bk-logo-small bk-logo-notebook\"></a>\n",
       "        <span id=\"04911b48-8425-40c4-8875-aff392062635\">Loading BokehJS ...</span>\n",
       "    </div>"
      ]
     },
     "metadata": {},
     "output_type": "display_data"
    },
    {
     "data": {
      "application/javascript": [
       "\n",
       "(function(root) {\n",
       "  function now() {\n",
       "    return new Date();\n",
       "  }\n",
       "\n",
       "  var force = true;\n",
       "\n",
       "  if (typeof (root._bokeh_onload_callbacks) === \"undefined\" || force === true) {\n",
       "    root._bokeh_onload_callbacks = [];\n",
       "    root._bokeh_is_loading = undefined;\n",
       "  }\n",
       "\n",
       "  var JS_MIME_TYPE = 'application/javascript';\n",
       "  var HTML_MIME_TYPE = 'text/html';\n",
       "  var EXEC_MIME_TYPE = 'application/vnd.bokehjs_exec.v0+json';\n",
       "  var CLASS_NAME = 'output_bokeh rendered_html';\n",
       "\n",
       "  /**\n",
       "   * Render data to the DOM node\n",
       "   */\n",
       "  function render(props, node) {\n",
       "    var script = document.createElement(\"script\");\n",
       "    node.appendChild(script);\n",
       "  }\n",
       "\n",
       "  /**\n",
       "   * Handle when an output is cleared or removed\n",
       "   */\n",
       "  function handleClearOutput(event, handle) {\n",
       "    var cell = handle.cell;\n",
       "\n",
       "    var id = cell.output_area._bokeh_element_id;\n",
       "    var server_id = cell.output_area._bokeh_server_id;\n",
       "    // Clean up Bokeh references\n",
       "    if (id !== undefined) {\n",
       "      Bokeh.index[id].model.document.clear();\n",
       "      delete Bokeh.index[id];\n",
       "    }\n",
       "\n",
       "    if (server_id !== undefined) {\n",
       "      // Clean up Bokeh references\n",
       "      var cmd = \"from bokeh.io.state import curstate; print(curstate().uuid_to_server['\" + server_id + \"'].get_sessions()[0].document.roots[0]._id)\";\n",
       "      cell.notebook.kernel.execute(cmd, {\n",
       "        iopub: {\n",
       "          output: function(msg) {\n",
       "            var element_id = msg.content.text.trim();\n",
       "            Bokeh.index[element_id].model.document.clear();\n",
       "            delete Bokeh.index[element_id];\n",
       "          }\n",
       "        }\n",
       "      });\n",
       "      // Destroy server and session\n",
       "      var cmd = \"import bokeh.io.notebook as ion; ion.destroy_server('\" + server_id + \"')\";\n",
       "      cell.notebook.kernel.execute(cmd);\n",
       "    }\n",
       "  }\n",
       "\n",
       "  /**\n",
       "   * Handle when a new output is added\n",
       "   */\n",
       "  function handleAddOutput(event, handle) {\n",
       "    var output_area = handle.output_area;\n",
       "    var output = handle.output;\n",
       "\n",
       "    // limit handleAddOutput to display_data with EXEC_MIME_TYPE content only\n",
       "    if ((output.output_type != \"display_data\") || (!output.data.hasOwnProperty(EXEC_MIME_TYPE))) {\n",
       "      return\n",
       "    }\n",
       "\n",
       "    var toinsert = output_area.element.find(\".\" + CLASS_NAME.split(' ')[0]);\n",
       "\n",
       "    if (output.metadata[EXEC_MIME_TYPE][\"id\"] !== undefined) {\n",
       "      toinsert[0].firstChild.textContent = output.data[JS_MIME_TYPE];\n",
       "      // store reference to embed id on output_area\n",
       "      output_area._bokeh_element_id = output.metadata[EXEC_MIME_TYPE][\"id\"];\n",
       "    }\n",
       "    if (output.metadata[EXEC_MIME_TYPE][\"server_id\"] !== undefined) {\n",
       "      var bk_div = document.createElement(\"div\");\n",
       "      bk_div.innerHTML = output.data[HTML_MIME_TYPE];\n",
       "      var script_attrs = bk_div.children[0].attributes;\n",
       "      for (var i = 0; i < script_attrs.length; i++) {\n",
       "        toinsert[0].firstChild.setAttribute(script_attrs[i].name, script_attrs[i].value);\n",
       "      }\n",
       "      // store reference to server id on output_area\n",
       "      output_area._bokeh_server_id = output.metadata[EXEC_MIME_TYPE][\"server_id\"];\n",
       "    }\n",
       "  }\n",
       "\n",
       "  function register_renderer(events, OutputArea) {\n",
       "\n",
       "    function append_mime(data, metadata, element) {\n",
       "      // create a DOM node to render to\n",
       "      var toinsert = this.create_output_subarea(\n",
       "        metadata,\n",
       "        CLASS_NAME,\n",
       "        EXEC_MIME_TYPE\n",
       "      );\n",
       "      this.keyboard_manager.register_events(toinsert);\n",
       "      // Render to node\n",
       "      var props = {data: data, metadata: metadata[EXEC_MIME_TYPE]};\n",
       "      render(props, toinsert[0]);\n",
       "      element.append(toinsert);\n",
       "      return toinsert\n",
       "    }\n",
       "\n",
       "    /* Handle when an output is cleared or removed */\n",
       "    events.on('clear_output.CodeCell', handleClearOutput);\n",
       "    events.on('delete.Cell', handleClearOutput);\n",
       "\n",
       "    /* Handle when a new output is added */\n",
       "    events.on('output_added.OutputArea', handleAddOutput);\n",
       "\n",
       "    /**\n",
       "     * Register the mime type and append_mime function with output_area\n",
       "     */\n",
       "    OutputArea.prototype.register_mime_type(EXEC_MIME_TYPE, append_mime, {\n",
       "      /* Is output safe? */\n",
       "      safe: true,\n",
       "      /* Index of renderer in `output_area.display_order` */\n",
       "      index: 0\n",
       "    });\n",
       "  }\n",
       "\n",
       "  // register the mime type if in Jupyter Notebook environment and previously unregistered\n",
       "  if (root.Jupyter !== undefined) {\n",
       "    var events = require('base/js/events');\n",
       "    var OutputArea = require('notebook/js/outputarea').OutputArea;\n",
       "\n",
       "    if (OutputArea.prototype.mime_types().indexOf(EXEC_MIME_TYPE) == -1) {\n",
       "      register_renderer(events, OutputArea);\n",
       "    }\n",
       "  }\n",
       "\n",
       "  \n",
       "  if (typeof (root._bokeh_timeout) === \"undefined\" || force === true) {\n",
       "    root._bokeh_timeout = Date.now() + 5000;\n",
       "    root._bokeh_failed_load = false;\n",
       "  }\n",
       "\n",
       "  var NB_LOAD_WARNING = {'data': {'text/html':\n",
       "     \"<div style='background-color: #fdd'>\\n\"+\n",
       "     \"<p>\\n\"+\n",
       "     \"BokehJS does not appear to have successfully loaded. If loading BokehJS from CDN, this \\n\"+\n",
       "     \"may be due to a slow or bad network connection. Possible fixes:\\n\"+\n",
       "     \"</p>\\n\"+\n",
       "     \"<ul>\\n\"+\n",
       "     \"<li>re-rerun `output_notebook()` to attempt to load from CDN again, or</li>\\n\"+\n",
       "     \"<li>use INLINE resources instead, as so:</li>\\n\"+\n",
       "     \"</ul>\\n\"+\n",
       "     \"<code>\\n\"+\n",
       "     \"from bokeh.resources import INLINE\\n\"+\n",
       "     \"output_notebook(resources=INLINE)\\n\"+\n",
       "     \"</code>\\n\"+\n",
       "     \"</div>\"}};\n",
       "\n",
       "  function display_loaded() {\n",
       "    var el = document.getElementById(\"04911b48-8425-40c4-8875-aff392062635\");\n",
       "    if (el != null) {\n",
       "      el.textContent = \"BokehJS is loading...\";\n",
       "    }\n",
       "    if (root.Bokeh !== undefined) {\n",
       "      if (el != null) {\n",
       "        el.textContent = \"BokehJS \" + root.Bokeh.version + \" successfully loaded.\";\n",
       "      }\n",
       "    } else if (Date.now() < root._bokeh_timeout) {\n",
       "      setTimeout(display_loaded, 100)\n",
       "    }\n",
       "  }\n",
       "\n",
       "\n",
       "  function run_callbacks() {\n",
       "    try {\n",
       "      root._bokeh_onload_callbacks.forEach(function(callback) { callback() });\n",
       "    }\n",
       "    finally {\n",
       "      delete root._bokeh_onload_callbacks\n",
       "    }\n",
       "    console.info(\"Bokeh: all callbacks have finished\");\n",
       "  }\n",
       "\n",
       "  function load_libs(js_urls, callback) {\n",
       "    root._bokeh_onload_callbacks.push(callback);\n",
       "    if (root._bokeh_is_loading > 0) {\n",
       "      console.log(\"Bokeh: BokehJS is being loaded, scheduling callback at\", now());\n",
       "      return null;\n",
       "    }\n",
       "    if (js_urls == null || js_urls.length === 0) {\n",
       "      run_callbacks();\n",
       "      return null;\n",
       "    }\n",
       "    console.log(\"Bokeh: BokehJS not loaded, scheduling load and callback at\", now());\n",
       "    root._bokeh_is_loading = js_urls.length;\n",
       "    for (var i = 0; i < js_urls.length; i++) {\n",
       "      var url = js_urls[i];\n",
       "      var s = document.createElement('script');\n",
       "      s.src = url;\n",
       "      s.async = false;\n",
       "      s.onreadystatechange = s.onload = function() {\n",
       "        root._bokeh_is_loading--;\n",
       "        if (root._bokeh_is_loading === 0) {\n",
       "          console.log(\"Bokeh: all BokehJS libraries loaded\");\n",
       "          run_callbacks()\n",
       "        }\n",
       "      };\n",
       "      s.onerror = function() {\n",
       "        console.warn(\"failed to load library \" + url);\n",
       "      };\n",
       "      console.log(\"Bokeh: injecting script tag for BokehJS library: \", url);\n",
       "      document.getElementsByTagName(\"head\")[0].appendChild(s);\n",
       "    }\n",
       "  };var element = document.getElementById(\"04911b48-8425-40c4-8875-aff392062635\");\n",
       "  if (element == null) {\n",
       "    console.log(\"Bokeh: ERROR: autoload.js configured with elementid '04911b48-8425-40c4-8875-aff392062635' but no matching script tag was found. \")\n",
       "    return false;\n",
       "  }\n",
       "\n",
       "  var js_urls = [\"https://cdn.pydata.org/bokeh/release/bokeh-0.12.14.min.js\", \"https://cdn.pydata.org/bokeh/release/bokeh-widgets-0.12.14.min.js\", \"https://cdn.pydata.org/bokeh/release/bokeh-tables-0.12.14.min.js\", \"https://cdn.pydata.org/bokeh/release/bokeh-gl-0.12.14.min.js\"];\n",
       "\n",
       "  var inline_js = [\n",
       "    function(Bokeh) {\n",
       "      Bokeh.set_log_level(\"info\");\n",
       "    },\n",
       "    \n",
       "    function(Bokeh) {\n",
       "      \n",
       "    },\n",
       "    function(Bokeh) {\n",
       "      console.log(\"Bokeh: injecting CSS: https://cdn.pydata.org/bokeh/release/bokeh-0.12.14.min.css\");\n",
       "      Bokeh.embed.inject_css(\"https://cdn.pydata.org/bokeh/release/bokeh-0.12.14.min.css\");\n",
       "      console.log(\"Bokeh: injecting CSS: https://cdn.pydata.org/bokeh/release/bokeh-widgets-0.12.14.min.css\");\n",
       "      Bokeh.embed.inject_css(\"https://cdn.pydata.org/bokeh/release/bokeh-widgets-0.12.14.min.css\");\n",
       "      console.log(\"Bokeh: injecting CSS: https://cdn.pydata.org/bokeh/release/bokeh-tables-0.12.14.min.css\");\n",
       "      Bokeh.embed.inject_css(\"https://cdn.pydata.org/bokeh/release/bokeh-tables-0.12.14.min.css\");\n",
       "    }\n",
       "  ];\n",
       "\n",
       "  function run_inline_js() {\n",
       "    \n",
       "    if ((root.Bokeh !== undefined) || (force === true)) {\n",
       "      for (var i = 0; i < inline_js.length; i++) {\n",
       "        inline_js[i].call(root, root.Bokeh);\n",
       "      }if (force === true) {\n",
       "        display_loaded();\n",
       "      }} else if (Date.now() < root._bokeh_timeout) {\n",
       "      setTimeout(run_inline_js, 100);\n",
       "    } else if (!root._bokeh_failed_load) {\n",
       "      console.log(\"Bokeh: BokehJS failed to load within specified timeout.\");\n",
       "      root._bokeh_failed_load = true;\n",
       "    } else if (force !== true) {\n",
       "      var cell = $(document.getElementById(\"04911b48-8425-40c4-8875-aff392062635\")).parents('.cell').data().cell;\n",
       "      cell.output_area.append_execute_result(NB_LOAD_WARNING)\n",
       "    }\n",
       "\n",
       "  }\n",
       "\n",
       "  if (root._bokeh_is_loading === 0) {\n",
       "    console.log(\"Bokeh: BokehJS loaded, going straight to plotting\");\n",
       "    run_inline_js();\n",
       "  } else {\n",
       "    load_libs(js_urls, function() {\n",
       "      console.log(\"Bokeh: BokehJS plotting callback run at\", now());\n",
       "      run_inline_js();\n",
       "    });\n",
       "  }\n",
       "}(window));"
      ],
      "application/vnd.bokehjs_load.v0+json": "\n(function(root) {\n  function now() {\n    return new Date();\n  }\n\n  var force = true;\n\n  if (typeof (root._bokeh_onload_callbacks) === \"undefined\" || force === true) {\n    root._bokeh_onload_callbacks = [];\n    root._bokeh_is_loading = undefined;\n  }\n\n  \n\n  \n  if (typeof (root._bokeh_timeout) === \"undefined\" || force === true) {\n    root._bokeh_timeout = Date.now() + 5000;\n    root._bokeh_failed_load = false;\n  }\n\n  var NB_LOAD_WARNING = {'data': {'text/html':\n     \"<div style='background-color: #fdd'>\\n\"+\n     \"<p>\\n\"+\n     \"BokehJS does not appear to have successfully loaded. If loading BokehJS from CDN, this \\n\"+\n     \"may be due to a slow or bad network connection. Possible fixes:\\n\"+\n     \"</p>\\n\"+\n     \"<ul>\\n\"+\n     \"<li>re-rerun `output_notebook()` to attempt to load from CDN again, or</li>\\n\"+\n     \"<li>use INLINE resources instead, as so:</li>\\n\"+\n     \"</ul>\\n\"+\n     \"<code>\\n\"+\n     \"from bokeh.resources import INLINE\\n\"+\n     \"output_notebook(resources=INLINE)\\n\"+\n     \"</code>\\n\"+\n     \"</div>\"}};\n\n  function display_loaded() {\n    var el = document.getElementById(\"04911b48-8425-40c4-8875-aff392062635\");\n    if (el != null) {\n      el.textContent = \"BokehJS is loading...\";\n    }\n    if (root.Bokeh !== undefined) {\n      if (el != null) {\n        el.textContent = \"BokehJS \" + root.Bokeh.version + \" successfully loaded.\";\n      }\n    } else if (Date.now() < root._bokeh_timeout) {\n      setTimeout(display_loaded, 100)\n    }\n  }\n\n\n  function run_callbacks() {\n    try {\n      root._bokeh_onload_callbacks.forEach(function(callback) { callback() });\n    }\n    finally {\n      delete root._bokeh_onload_callbacks\n    }\n    console.info(\"Bokeh: all callbacks have finished\");\n  }\n\n  function load_libs(js_urls, callback) {\n    root._bokeh_onload_callbacks.push(callback);\n    if (root._bokeh_is_loading > 0) {\n      console.log(\"Bokeh: BokehJS is being loaded, scheduling callback at\", now());\n      return null;\n    }\n    if (js_urls == null || js_urls.length === 0) {\n      run_callbacks();\n      return null;\n    }\n    console.log(\"Bokeh: BokehJS not loaded, scheduling load and callback at\", now());\n    root._bokeh_is_loading = js_urls.length;\n    for (var i = 0; i < js_urls.length; i++) {\n      var url = js_urls[i];\n      var s = document.createElement('script');\n      s.src = url;\n      s.async = false;\n      s.onreadystatechange = s.onload = function() {\n        root._bokeh_is_loading--;\n        if (root._bokeh_is_loading === 0) {\n          console.log(\"Bokeh: all BokehJS libraries loaded\");\n          run_callbacks()\n        }\n      };\n      s.onerror = function() {\n        console.warn(\"failed to load library \" + url);\n      };\n      console.log(\"Bokeh: injecting script tag for BokehJS library: \", url);\n      document.getElementsByTagName(\"head\")[0].appendChild(s);\n    }\n  };var element = document.getElementById(\"04911b48-8425-40c4-8875-aff392062635\");\n  if (element == null) {\n    console.log(\"Bokeh: ERROR: autoload.js configured with elementid '04911b48-8425-40c4-8875-aff392062635' but no matching script tag was found. \")\n    return false;\n  }\n\n  var js_urls = [\"https://cdn.pydata.org/bokeh/release/bokeh-0.12.14.min.js\", \"https://cdn.pydata.org/bokeh/release/bokeh-widgets-0.12.14.min.js\", \"https://cdn.pydata.org/bokeh/release/bokeh-tables-0.12.14.min.js\", \"https://cdn.pydata.org/bokeh/release/bokeh-gl-0.12.14.min.js\"];\n\n  var inline_js = [\n    function(Bokeh) {\n      Bokeh.set_log_level(\"info\");\n    },\n    \n    function(Bokeh) {\n      \n    },\n    function(Bokeh) {\n      console.log(\"Bokeh: injecting CSS: https://cdn.pydata.org/bokeh/release/bokeh-0.12.14.min.css\");\n      Bokeh.embed.inject_css(\"https://cdn.pydata.org/bokeh/release/bokeh-0.12.14.min.css\");\n      console.log(\"Bokeh: injecting CSS: https://cdn.pydata.org/bokeh/release/bokeh-widgets-0.12.14.min.css\");\n      Bokeh.embed.inject_css(\"https://cdn.pydata.org/bokeh/release/bokeh-widgets-0.12.14.min.css\");\n      console.log(\"Bokeh: injecting CSS: https://cdn.pydata.org/bokeh/release/bokeh-tables-0.12.14.min.css\");\n      Bokeh.embed.inject_css(\"https://cdn.pydata.org/bokeh/release/bokeh-tables-0.12.14.min.css\");\n    }\n  ];\n\n  function run_inline_js() {\n    \n    if ((root.Bokeh !== undefined) || (force === true)) {\n      for (var i = 0; i < inline_js.length; i++) {\n        inline_js[i].call(root, root.Bokeh);\n      }if (force === true) {\n        display_loaded();\n      }} else if (Date.now() < root._bokeh_timeout) {\n      setTimeout(run_inline_js, 100);\n    } else if (!root._bokeh_failed_load) {\n      console.log(\"Bokeh: BokehJS failed to load within specified timeout.\");\n      root._bokeh_failed_load = true;\n    } else if (force !== true) {\n      var cell = $(document.getElementById(\"04911b48-8425-40c4-8875-aff392062635\")).parents('.cell').data().cell;\n      cell.output_area.append_execute_result(NB_LOAD_WARNING)\n    }\n\n  }\n\n  if (root._bokeh_is_loading === 0) {\n    console.log(\"Bokeh: BokehJS loaded, going straight to plotting\");\n    run_inline_js();\n  } else {\n    load_libs(js_urls, function() {\n      console.log(\"Bokeh: BokehJS plotting callback run at\", now());\n      run_inline_js();\n    });\n  }\n}(window));"
     },
     "metadata": {},
     "output_type": "display_data"
    }
   ],
   "source": [
    "output_notebook()"
   ]
  },
  {
   "cell_type": "code",
   "execution_count": 8,
   "metadata": {
    "collapsed": true
   },
   "outputs": [],
   "source": [
    "def fmt_cool(ds_in):\n",
    "    ds = ds_in.copy(deep=True)\n",
    "    if 'igg' in ds.dims:\n",
    "        ds = ds.sel(igg=1)\n",
    "\n",
    "    if 'g' in ds.dims:\n",
    "        ds = ds.sum('g')\n",
    "            \n",
    "    if 'band' in ds.dims:\n",
    "        try:\n",
    "            ds = ds.squeeze('band')\n",
    "        except ValueError:\n",
    "            ds = ds.sum('band')\n",
    "                \n",
    "    return ds['coolrg']\n",
    "\n",
    "\n",
    "def pltdata_cooling_1(ds_cool=None,\n",
    "                      ds_cool_crd=None, ds_cool_wgt=None):\n",
    "    \n",
    "\n",
    "\n",
    "    colors = all_palettes['Set1'][4]\n",
    "    data = [{'label': 'CLIRAD `coolr_bands`',\n",
    "             'srs': fmt_cool(ds_cool),\n",
    "             'line_dash': 'dashed', 'line_width': 5,\n",
    "             'color': colors[0], 'alpha': .6},\n",
    "            {'label': 'CRD',\n",
    "             'srs': fmt_cool(ds_cool_crd),\n",
    "             'line_dash': 'solid', 'line_width': 1.5,\n",
    "             'marker': 'circle', 'marker_size': 5,\n",
    "             'color': colors[2], 'alpha': 1,},\n",
    "            {'label': 'WGT igg=10 wgt_flux=2',\n",
    "             'srs': fmt_cool(ds_cool_wgt),\n",
    "             'line_dash': 'solid', 'line_width': 3,\n",
    "             'marker': 'square', 'marker_size': 5,\n",
    "             'color': colors[3], 'alpha': .6}]\n",
    "    return data\n",
    "\n",
    "\n",
    "def nice_xlims(pltdata=None, prange=None):\n",
    "    \n",
    "    def get_slice(srs):\n",
    "        return srs.sel(pressure=slice(*prange))\n",
    "    \n",
    "    srss = [d['srs'] for d in pltdata]\n",
    "    vmin = min([get_slice(srs).min() for srs in srss])\n",
    "    vmax = max([get_slice(srs).max() for srs in srss])\n",
    "    dv = (vmax - vmin) * .01\n",
    "    return float(vmin - dv), float(vmax + dv)\n",
    "    \n",
    "\n",
    "def plt_cooling_bokeh(pltdata=None):\n",
    "    '''\n",
    "    Plot a list of cooling rate profiles using bokeh.\n",
    "    '''\n",
    "    ymin = 1e-2 \n",
    "    ymax = 1020 \n",
    "        \n",
    "    p1 = figure(title=\"Linear pressure scale\", \n",
    "                plot_width=400)        \n",
    "    xmin, xmax = nice_xlims(pltdata, prange=(50, 1050))\n",
    "    for d in pltdata:\n",
    "        if 'marker' in d:\n",
    "            getattr(p1, d['marker'])(d['srs'].values, \n",
    "                    d['srs'].coords['pressure'].values,\n",
    "                    color=d['color'], alpha=.7)\n",
    "        p1.line(d['srs'].values, \n",
    "                d['srs'].coords['pressure'].values,\n",
    "                color=d['color'], alpha=d['alpha'], \n",
    "                line_width=d['line_width'], line_dash=d['line_dash'])\n",
    "    \n",
    "    p1.y_range = Range1d(ymax, ymin)\n",
    "    p1.yaxis.axis_label = 'pressure [mb]'   \n",
    "    p1.x_range = Range1d(xmin, xmax)\n",
    "    p1.xaxis.axis_label = 'cooling rate [K/day]'\n",
    "            \n",
    "    p2 = figure(title='Log pressure scale', y_axis_type='log',\n",
    "                plot_width=560)\n",
    "    xmin, xmax = nice_xlims(pltdata, prange=(.01, 200))\n",
    "    \n",
    "    rs = []\n",
    "    for d in pltdata:\n",
    "        rd = []\n",
    "        if 'marker' in d:\n",
    "            r_mark = getattr(p2, d['marker'])(d['srs'].values, \n",
    "                        d['srs'].coords['pressure'].values,\n",
    "                        color=d['color'], alpha=.7)\n",
    "            rd.append(r_mark)\n",
    "        r_line = p2.line(d['srs'].values, \n",
    "                    d['srs'].coords['pressure'].values,\n",
    "                    color=d['color'], alpha=d['alpha'], \n",
    "                    line_width=d['line_width'], line_dash=d['line_dash'])\n",
    "        rd.append(r_line)\n",
    "      \n",
    "        rs.append(rd)\n",
    "        \n",
    "    p2.y_range = Range1d(ymax, ymin)  \n",
    "    p2.yaxis.axis_label = 'pressure [mb]'\n",
    "    \n",
    "    p2.x_range = Range1d(xmin, xmax)\n",
    "    p2.xaxis.axis_label = 'cooling rate [K/day]'\n",
    "    \n",
    "    items = [(d['label'], r) for r, d in zip(rs, pltdata)]\n",
    "    legend = Legend(items=items, location=(10, -30))\n",
    "    legend.label_text_font_size = '8pt'\n",
    "    \n",
    "    p2.add_layout(legend, 'right')  \n",
    "    \n",
    "    show(gridplot(p1, p2, ncols=2, plot_height=500))\n",
    "    \n",
    "\n",
    "def script_plt_cooling():\n",
    "    pltdata = pltdata_cooling_1(\n",
    "        ds_cool=DS_COOL,\n",
    "        ds_cool_crd=DS_COOL_CRD,\n",
    "        ds_cool_wgt=DS_COOL_WGT)\n",
    "    plt_cooling_bokeh(pltdata=pltdata)\n",
    "    print('''FIGURE. Cooling rate profiles.''')"
   ]
  },
  {
   "cell_type": "code",
   "execution_count": 9,
   "metadata": {
    "collapsed": true
   },
   "outputs": [],
   "source": [
    "def fmt_flux(ds_in):\n",
    "    ds = ds_in.copy(deep=True)\n",
    "    \n",
    "    for l in ('level', 'layer'):\n",
    "        if l in ds.data_vars:\n",
    "            if len(ds[l].dims) > 1:\n",
    "                surface = {d: 0 for d in ds.dims if d != 'pressure'}\n",
    "                coord_level = ds[l][surface]\n",
    "                ds.coords[l] = ('pressure', coord_level)\n",
    "            else:\n",
    "                ds.coords[l] = ('pressure', ds[l])\n",
    "        \n",
    "    ds = ds.isel(pressure=[0, 23, -1])\n",
    "        \n",
    "    if 'igg' in ds.dims:\n",
    "        ds = ds.sel(igg=[1])\n",
    "        ds = ds.squeeze('igg').drop('igg')\n",
    "    \n",
    "    if 'g' in ds.dims:\n",
    "        ds = ds.sum('g')\n",
    "            \n",
    "    if 'band' in ds.dims:\n",
    "        try:\n",
    "            ds = ds.squeeze('band').drop('band')\n",
    "        except ValueError:\n",
    "            ds = ds.sum('band')\n",
    "                \n",
    "    df = ds.to_dataframe()\n",
    "    df = df.set_index('level', append=True)               \n",
    "    return df\n",
    "\n",
    "\n",
    "def tbdata_flux(ds_flux=None, ds_flux_crd=None, ds_flux_wgt=None):\n",
    "    ilevels = [0, 23, -1]\n",
    "            \n",
    "    benchmark = {'label': 'WGT igg=10 wgt_flux=1',\n",
    "                 'df': fmt_flux(ds_flux_wgt)}\n",
    "    \n",
    "    tbs = [{'label': 'CRD',\n",
    "            'df': fmt_flux(ds_flux_crd)},\n",
    "           {'label': 'CLIRAD',\n",
    "            'df': fmt_flux(ds_flux)}]\n",
    "    \n",
    "    data = {'benchmark': benchmark, 'others': tbs}\n",
    "    return data\n",
    "\n",
    "\n",
    "def tb_flux(tbdata=None):\n",
    "    benchmark = tbdata['benchmark']\n",
    "    others = tbdata['others']\n",
    "    \n",
    "    def show_tb(d=None):\n",
    "        display.display(d['df'])\n",
    "        print('Table.', 'Fluxes.', d['label'])\n",
    "        \n",
    "    def show_tbdiff(d0=None, d=None):\n",
    "        df = d['df']\n",
    "        df.index = d0['df'].index\n",
    "        display.display(df - d0['df'])\n",
    "        print('Table.', 'Fluxes.', \n",
    "              '({}) - ({})'.format(d['label'], d0['label']))\n",
    "        \n",
    "    show_tb(benchmark)\n",
    "    for d in others:\n",
    "        show_tb(d)\n",
    "        \n",
    "    for d in others:\n",
    "        show_tbdiff(d=d, d0=benchmark)\n",
    "        \n",
    "        \n",
    "def script_tb_flux():\n",
    "    data = tbdata_flux(ds_flux=DS_FLUX,\n",
    "                       ds_flux_crd=DS_FLUX_CRD,\n",
    "                       ds_flux_wgt=DS_FLUX_WGT)\n",
    "    tb_flux(tbdata=data)"
   ]
  },
  {
   "cell_type": "code",
   "execution_count": 10,
   "metadata": {
    "collapsed": true
   },
   "outputs": [],
   "source": [
    "def band_map():\n",
    "    '''\n",
    "    Maps spectral bands in lblnew to spectral bands in clirad.\n",
    "    '''\n",
    "    lblnew2clirad = {'1': '1',\n",
    "            '2': '2',\n",
    "            '3a': '3',\n",
    "            '3b': '4',\n",
    "            '3c': '5',\n",
    "            '4': '6', \n",
    "            '5': '7',\n",
    "            '6': '8',\n",
    "            '7': '9', \n",
    "            '8': '10',\n",
    "            '9': '11'}\n",
    "    \n",
    "    clirad2lblnew = {clirad: lblnew \n",
    "                     for lblnew, clirad in lblnew2clirad.items()}\n",
    "    return clirad2lblnew\n",
    "\n",
    "\n",
    "def gasbands():\n",
    "    bmap = band_map()\n",
    "    gases = list(PARAM['molecule'].keys())\n",
    "    \n",
    "    bands = [bmap[str(b)] for b in PARAM['band']]\n",
    "    return list(itertools.product(gases, bands))\n",
    "\n",
    "\n",
    "def print_bestfit_params():\n",
    "    print('Best-fit values for each (gas, band)')\n",
    "    print('------------------------------------')\n",
    "    for gas, band in gasbands():\n",
    "        print('o {} band{}'.format(gas, band))\n",
    "        param = bestfits.kdist_params(molecule=gas, band=band)\n",
    "        for name, value in sorted(param.items()):\n",
    "            print(2 * ' ' + '{} = {}'.format(name, value))\n",
    "\n",
    "        \n",
    "def print_input_param():        \n",
    "    for name, value in PARAM.items():\n",
    "        print('{} = {}'.format(name, value))\n",
    "        \n",
    "        \n",
    "def print_lblnew_param():\n",
    "    for name, value in sorted(PARAM_LBLNEW.items()):\n",
    "        print('{} = {}'.format(name, value))\n"
   ]
  },
  {
   "cell_type": "code",
   "execution_count": 11,
   "metadata": {
    "collapsed": true,
    "scrolled": false
   },
   "outputs": [],
   "source": [
    "def show_html(s):\n",
    "    display.display(display.HTML(s))\n",
    "\n",
    "    \n",
    "def show_markdown(s):\n",
    "    display.display(display.Markdown(s))\n",
    "\n",
    "    \n",
    "def script():\n",
    "    \n",
    "    title = '### CLIRAD-LW'\n",
    "    s_input = 'Input Parameters'\n",
    "    s_lblnew_param = 'LBLNEW case compaired against'\n",
    "    s_bestfits = 'Best-fit Parameters'\n",
    "    s_plt_cooling = 'Cooling Rate Profiles'\n",
    "    s_tb_flux = 'Flux Comparison'\n",
    "    \n",
    "    # title\n",
    "    show_markdown('### CLIRAD-LW')\n",
    "    \n",
    "    # TOC\n",
    "    show_markdown('### Table of Contents')\n",
    "    show_html(climahtml.getHTML_hrefanchor(s_input))\n",
    "    show_html(climahtml.getHTML_hrefanchor(s_lblnew_param))\n",
    "    show_html(climahtml.getHTML_hrefanchor(s_plt_cooling))\n",
    "    show_html(climahtml.getHTML_hrefanchor(s_tb_flux))\n",
    "    show_html(climahtml.getHTML_hrefanchor(s_bestfits))\n",
    "    \n",
    "    # Input parameters\n",
    "    show_html(climahtml.getHTML_idanchor(s_input))\n",
    "    show_markdown(climahtml.getMarkdown_sectitle(s_input))\n",
    "    print_input_param()\n",
    "    \n",
    "    # LBLNEW parameters \n",
    "    show_html(climahtml.getHTML_idanchor(s_lblnew_param))\n",
    "    show_markdown(climahtml.getMarkdown_sectitle(s_lblnew_param))\n",
    "    print_lblnew_param()\n",
    "    \n",
    "    # Cooling rate profiles\n",
    "    show_html(climahtml.getHTML_idanchor(s_plt_cooling))\n",
    "    show_markdown(climahtml.getMarkdown_sectitle(s_plt_cooling))\n",
    "    script_plt_cooling()\n",
    "    \n",
    "    # Flux comparison\n",
    "    show_html(climahtml.getHTML_idanchor(s_tb_flux))\n",
    "    show_markdown(climahtml.getMarkdown_sectitle(s_tb_flux))\n",
    "    script_tb_flux()\n",
    "    \n",
    "    # Best-fit values\n",
    "    show_html(climahtml.getHTML_idanchor(s_bestfits))\n",
    "    show_markdown(climahtml.getMarkdown_sectitle(s_bestfits))\n",
    "    print_bestfit_params()\n",
    "   \n",
    "    "
   ]
  },
  {
   "cell_type": "code",
   "execution_count": 12,
   "metadata": {
    "collapsed": true,
    "scrolled": false
   },
   "outputs": [
    {
     "data": {
      "text/markdown": [
       "### CLIRAD-LW"
      ],
      "text/plain": [
       "<IPython.core.display.Markdown object>"
      ]
     },
     "metadata": {},
     "output_type": "display_data"
    },
    {
     "data": {
      "text/markdown": [
       "### Table of Contents"
      ],
      "text/plain": [
       "<IPython.core.display.Markdown object>"
      ]
     },
     "metadata": {},
     "output_type": "display_data"
    },
    {
     "data": {
      "text/html": [
       "<a href=\"#Input_Parameters\">Input Parameters</a>"
      ],
      "text/plain": [
       "<IPython.core.display.HTML object>"
      ]
     },
     "metadata": {},
     "output_type": "display_data"
    },
    {
     "data": {
      "text/html": [
       "<a href=\"#LBLNEW_case_compaired_against\">LBLNEW case compaired against</a>"
      ],
      "text/plain": [
       "<IPython.core.display.HTML object>"
      ]
     },
     "metadata": {},
     "output_type": "display_data"
    },
    {
     "data": {
      "text/html": [
       "<a href=\"#Cooling_Rate_Profiles\">Cooling Rate Profiles</a>"
      ],
      "text/plain": [
       "<IPython.core.display.HTML object>"
      ]
     },
     "metadata": {},
     "output_type": "display_data"
    },
    {
     "data": {
      "text/html": [
       "<a href=\"#Flux_Comparison\">Flux Comparison</a>"
      ],
      "text/plain": [
       "<IPython.core.display.HTML object>"
      ]
     },
     "metadata": {},
     "output_type": "display_data"
    },
    {
     "data": {
      "text/html": [
       "<a href=\"#Best-fit_Parameters\">Best-fit Parameters</a>"
      ],
      "text/plain": [
       "<IPython.core.display.HTML object>"
      ]
     },
     "metadata": {},
     "output_type": "display_data"
    },
    {
     "data": {
      "text/html": [
       "<a id=\"Input_Parameters\"></a>"
      ],
      "text/plain": [
       "<IPython.core.display.HTML object>"
      ]
     },
     "metadata": {},
     "output_type": "display_data"
    },
    {
     "data": {
      "text/markdown": [
       "# Input Parameters"
      ],
      "text/plain": [
       "<IPython.core.display.Markdown object>"
      ]
     },
     "metadata": {},
     "output_type": "display_data"
    },
    {
     "name": "stdout",
     "output_type": "stream",
     "text": [
      "atmpro = saw\n",
      "band = [3]\n",
      "commitnumber = a3da41e\n",
      "molecule = {'h2o': 'atmpro'}\n",
      "tsfc = 257\n"
     ]
    },
    {
     "data": {
      "text/html": [
       "<a id=\"LBLNEW_case_compaired_against\"></a>"
      ],
      "text/plain": [
       "<IPython.core.display.HTML object>"
      ]
     },
     "metadata": {},
     "output_type": "display_data"
    },
    {
     "data": {
      "text/markdown": [
       "# LBLNEW case compaired against"
      ],
      "text/plain": [
       "<IPython.core.display.Markdown object>"
      ]
     },
     "metadata": {},
     "output_type": "display_data"
    },
    {
     "name": "stdout",
     "output_type": "stream",
     "text": [
      "atmpro = saw\n",
      "band = 3a\n",
      "commitnumber = 5014a19\n",
      "conc = None\n",
      "dv = 0.01\n",
      "klin = 0\n",
      "molecule = h2o\n",
      "ng_adju = [0, 0]\n",
      "ng_refs = [2, 6]\n",
      "nv = 100\n",
      "option_compute_btable = 0\n",
      "option_compute_ktable = 0\n",
      "option_wgt_flux = 1\n",
      "option_wgt_k = 1\n",
      "ref_pts = [(10, 250), (600, 250)]\n",
      "tsfc = 257\n",
      "vmax = 620\n",
      "vmin = 540\n",
      "w_diffuse = [(1.9, 1.7), (1.4, 1.4, 1.4, 1.55, 1.6, 1.66)]\n",
      "wgt = [(0.7, 0.7), (0.7, 0.5, 0.5, 0.5, 0.5, 0.5)]\n"
     ]
    },
    {
     "data": {
      "text/html": [
       "<a id=\"Cooling_Rate_Profiles\"></a>"
      ],
      "text/plain": [
       "<IPython.core.display.HTML object>"
      ]
     },
     "metadata": {},
     "output_type": "display_data"
    },
    {
     "data": {
      "text/markdown": [
       "# Cooling Rate Profiles"
      ],
      "text/plain": [
       "<IPython.core.display.Markdown object>"
      ]
     },
     "metadata": {},
     "output_type": "display_data"
    },
    {
     "data": {
      "text/html": [
       "\n",
       "<div class=\"bk-root\">\n",
       "    <div class=\"bk-plotdiv\" id=\"2a92ebd8-5eaa-4c22-933d-8431f242318c\"></div>\n",
       "</div>"
      ]
     },
     "metadata": {},
     "output_type": "display_data"
    },
    {
     "data": {
      "application/javascript": [
       "(function(root) {\n",
       "  function embed_document(root) {\n",
       "    \n",
       "  var docs_json = {\"b4c9c771-b4dc-41d8-9311-8e1f218517c2\":{\"roots\":{\"references\":[{\"attributes\":{},\"id\":\"5f7ae5b1-d06e-4393-a13c-1bd325dcde8a\",\"type\":\"ResetTool\"},{\"attributes\":{},\"id\":\"231f3958-bfbe-4cfe-9d3a-f79215d0faa4\",\"type\":\"SaveTool\"},{\"attributes\":{},\"id\":\"4c49761e-c341-4997-a0fd-e37966d5f629\",\"type\":\"WheelZoomTool\"},{\"attributes\":{\"callback\":null,\"column_names\":[\"x\",\"y\"],\"data\":{\"x\":{\"__ndarray__\":\"h5gn5D7KZD/C0OaZl3pnP+jOzWeScm0/1bWMEZYjcj8sbkZHHvp1P57i2aJjR3o/j5kOFK0Zfz8spxqElDuCPzfegENmNoU/q3tIHqaCiD+oQ35orB6MP6xisDZU+Y8/9eKlSn0hkj82jNbffxyUP7Qz/t04spU/ph14Yd0Llz90oyjNb2OYP32MkaM7s5k/zlHf42D3mj+Zmx799yycPxyCQ6WaJJ0/PBx2Qlz3mj8xvih0cEaVP2fYg6SqZI8/WFNFMI+uhj/r4qFspAWAP7FCTdHqFHY/WEUAezpTbz8IP2z+I4BoPxgVd8+IMWQ/ADcgxSaZYD9gmsRO6F1bP8h5YkritFk/o0KIMrMSXD+qzn2JHldfP1B/B1CdWGE/jD2chVuMYj9AQtVvNPViPwY1m4Zqg2k/NsuO2YXibz9STO0rYBlzPxsqahsEt3Q/OYhiouS9dT+HyQtZs492P2RmgynaPnc/yeoYRwzKej9dgercAjuCP/1AVEL5gIk/bjsU1cAulT/9ghoUhi6hPyzhSCFCvKg/UnUJM99UsD/WNZK4UkW0PzhYNZFkGbg/TwTUSAnJuz/bWz5Qdky/P+1xEaXeT8E/+fv/F1PZwj/w82O8ezrEP/IQ3+yDasU/SNMsEgtjxj8dJF2WIyLHPzs4dXFdqcc/1ClNUrL/xz+7BI6h7zDIP3FY2Nt/R8g//Zv+iR1PyD93/khs0kjIP8nVXROxDMg/ViZfffpXxz8XFljX09TFP2VX1g1GssM/HTY24JiKwT/KeGvLRgi/P7NceFa57bo/\",\"dtype\":\"float64\",\"shape\":[75]},\"y\":{\"__ndarray__\":\"GhExyth1ND/Sv8nbtpRIP2vylNV0PVE/aTum7souWD/At0SJ8fVgPw3Iuahxymc/MSNhhJWvcD/bTfBN02d3P2zb5nxnaoA/CD5h5MAGhz8NmeH1TyaQP+zrCsc9p5Y/LbKd76fGnz/bLW5ISEmmPww9YvTcQq8/JV2OstnstT8Er5Y7M8G+P0c+r3jqkcU/5h99k6ZBzj88bCIzFzjVP4enV8oyxN0//yH99nXg5D8qOpLLf0jtP5kqGJXUifQ/c9cS8kHP/D+/DpwzojQEQIEmwoanVwxA4lgXt9HgE0BSSZ2AJuIbQAMJih9jjiNA5q4l5INuK0AwTKYKRj0zQNv5fmq8/DpAaCJseHrtQkB/+zpwzoxKQM3MzMzMeFJAZmZmZmZqWEAAAAAAAFxeQM3MzMzMJmJAmpmZmZkfZUBmZmZmZhhoQDMzMzMzEWtAAAAAAAAKbkBmZmZmZoFwQM3MzMzM/XFAMzMzMzN6c0CamZmZmfZ0QAAAAAAAc3ZAZmZmZmbvd0DNzMzMzGt5QDMzMzMz6HpAmpmZmZlkfEAAAAAAAOF9QGZmZmZmXX9AZmZmZuZsgECamZmZGSuBQM3MzMxM6YFAAAAAAICngkAzMzMzs2WDQGZmZmbmI4RAmpmZmRnihEDNzMzMTKCFQAAAAACAXoZAMzMzM7Mch0BmZmZm5tqHQJqZmZkZmYhAzczMzExXiUAAAAAAgBWKQDMzMzOz04pAZmZmZuaRi0CamZmZGVCMQM3MzMxMDo1AAAAAAIDMjUAzMzMzs4qOQGZmZmbmSI9A\",\"dtype\":\"float64\",\"shape\":[75]}}},\"id\":\"b05b91bc-6ef2-4e71-95a7-189c54f8b0c2\",\"type\":\"ColumnDataSource\"},{\"attributes\":{\"overlay\":{\"id\":\"0804f880-8610-4993-a6a1-e4a396f1e9c1\",\"type\":\"BoxAnnotation\"}},\"id\":\"b79c3e96-2941-4dfa-8fbd-3d79c76820bb\",\"type\":\"BoxZoomTool\"},{\"attributes\":{},\"id\":\"5d8ee7cd-47d2-417f-89de-14cb5e5b9526\",\"type\":\"HelpTool\"},{\"attributes\":{\"data_source\":{\"id\":\"489486c2-e984-4b3e-aee9-044535223174\",\"type\":\"ColumnDataSource\"},\"glyph\":{\"id\":\"d665846b-3dc8-4937-8553-f2dc8cd72d0b\",\"type\":\"Line\"},\"hover_glyph\":null,\"muted_glyph\":null,\"nonselection_glyph\":{\"id\":\"21d8bb3d-c8ba-4ca9-960c-857ea46d4acf\",\"type\":\"Line\"},\"selection_glyph\":null,\"view\":{\"id\":\"6458886e-0b19-4521-8b5b-d13d3c51b50e\",\"type\":\"CDSView\"}},\"id\":\"005ac519-fb6e-43cf-96ea-981cd6a8c8f7\",\"type\":\"GlyphRenderer\"},{\"attributes\":{\"callback\":null,\"column_names\":[\"x\",\"y\"],\"data\":{\"x\":{\"__ndarray__\":\"h5gn5D7KZD/C0OaZl3pnP+jOzWeScm0/1bWMEZYjcj8sbkZHHvp1P57i2aJjR3o/j5kOFK0Zfz8spxqElDuCPzfegENmNoU/q3tIHqaCiD+oQ35orB6MP6xisDZU+Y8/9eKlSn0hkj82jNbffxyUP7Qz/t04spU/ph14Yd0Llz90oyjNb2OYP32MkaM7s5k/zlHf42D3mj+Zmx799yycPxyCQ6WaJJ0/PBx2Qlz3mj8xvih0cEaVP2fYg6SqZI8/WFNFMI+uhj/r4qFspAWAP7FCTdHqFHY/WEUAezpTbz8IP2z+I4BoPxgVd8+IMWQ/ADcgxSaZYD9gmsRO6F1bP8h5YkritFk/o0KIMrMSXD+qzn2JHldfP1B/B1CdWGE/jD2chVuMYj9AQtVvNPViPwY1m4Zqg2k/NsuO2YXibz9STO0rYBlzPxsqahsEt3Q/OYhiouS9dT+HyQtZs492P2RmgynaPnc/yeoYRwzKej9dgercAjuCP/1AVEL5gIk/bjsU1cAulT/9ghoUhi6hPyzhSCFCvKg/UnUJM99UsD/WNZK4UkW0PzhYNZFkGbg/TwTUSAnJuz/bWz5Qdky/P+1xEaXeT8E/+fv/F1PZwj/w82O8ezrEP/IQ3+yDasU/SNMsEgtjxj8dJF2WIyLHPzs4dXFdqcc/1ClNUrL/xz+7BI6h7zDIP3FY2Nt/R8g//Zv+iR1PyD93/khs0kjIP8nVXROxDMg/ViZfffpXxz8XFljX09TFP2VX1g1GssM/HTY24JiKwT/KeGvLRgi/P7NceFa57bo/\",\"dtype\":\"float64\",\"shape\":[75]},\"y\":{\"__ndarray__\":\"GhExyth1ND/Sv8nbtpRIP2vylNV0PVE/aTum7souWD/At0SJ8fVgPw3Iuahxymc/MSNhhJWvcD/bTfBN02d3P2zb5nxnaoA/CD5h5MAGhz8NmeH1TyaQP+zrCsc9p5Y/LbKd76fGnz/bLW5ISEmmPww9YvTcQq8/JV2OstnstT8Er5Y7M8G+P0c+r3jqkcU/5h99k6ZBzj88bCIzFzjVP4enV8oyxN0//yH99nXg5D8qOpLLf0jtP5kqGJXUifQ/c9cS8kHP/D+/DpwzojQEQIEmwoanVwxA4lgXt9HgE0BSSZ2AJuIbQAMJih9jjiNA5q4l5INuK0AwTKYKRj0zQNv5fmq8/DpAaCJseHrtQkB/+zpwzoxKQM3MzMzMeFJAZmZmZmZqWEAAAAAAAFxeQM3MzMzMJmJAmpmZmZkfZUBmZmZmZhhoQDMzMzMzEWtAAAAAAAAKbkBmZmZmZoFwQM3MzMzM/XFAMzMzMzN6c0CamZmZmfZ0QAAAAAAAc3ZAZmZmZmbvd0DNzMzMzGt5QDMzMzMz6HpAmpmZmZlkfEAAAAAAAOF9QGZmZmZmXX9AZmZmZuZsgECamZmZGSuBQM3MzMxM6YFAAAAAAICngkAzMzMzs2WDQGZmZmbmI4RAmpmZmRnihEDNzMzMTKCFQAAAAACAXoZAMzMzM7Mch0BmZmZm5tqHQJqZmZkZmYhAzczMzExXiUAAAAAAgBWKQDMzMzOz04pAZmZmZuaRi0CamZmZGVCMQM3MzMxMDo1AAAAAAIDMjUAzMzMzs4qOQGZmZmbmSI9A\",\"dtype\":\"float64\",\"shape\":[75]}}},\"id\":\"d5f8bacc-852e-4f8d-b4e2-63715bd22119\",\"type\":\"ColumnDataSource\"},{\"attributes\":{\"callback\":null,\"column_names\":[\"x\",\"y\"],\"data\":{\"x\":{\"__ndarray__\":\"AAAAAAAAAAAAAAAAAAAAABQSFRzxc6M/AAAAAAAAAAAAAAAAAAAAAGcW4DxOMYw/AAAAAAAAAAAAAAAAAAAAAHRoy5gGbpQ/90tUvgohfT/4J0QCPiZ/PzeI8t9lgZI/ZN/qQKNiij8eniPH3e2QP83F8dnAcZM/5LrT5Pwpkj+N139Hm32WP17qv4V35JQ/HF2lu+tsmD+boCVG0S6ZP0PvAXgTlZo/quB2vFcamT+/Aud4RAaVP4Vu/ngShZA/+lGximdriT90gFI/9/aCP606GX4qRXs/38QqAyKbcz88EkukFkVtP0H0m/8b32U/jPoOAIg7Xz9J2CVV3HJVP1ZZAAAspVE/Q2Pbnu9SUj/58WNJSsxUP1m/IoqMuFc//p5cO18YWj+8gYlN2WFbP0B3HUCz6mI/XCxpJs9laD/KnH8bqCNuP36oqAGZ0nA/KS7NwM8Xcj9F9rGhoyVzP8xDFD5cLHQ/KVocQlN+dz+y1M6+X71/PzUJ3pBGBYY/O44pnABqkj86HqhdkFCeP90TXmFFNqY/HonefP/zrT/2nZk/Ku6yPwAAAAAAAAAACwvIQJmktj9B1pXHgfS5P5GK1rxwCL0/BaUmyYwawD8i2StFVcDBP580/adVU8M/bjNX/mO+xD9nVr6AweLFP8UHsKehtsY/geb3JhtJxz9iv+W516zHP+oYoek28sc/hQrtIJ8lyD9ueKzfbVrIP0p1hWfXd8g/eGomxs9SyD9HlXp5rq3HP8Gn3r8eOMY/Cu96gichxD9vVjMhnAXCPxrGevaeQsA/\",\"dtype\":\"float64\",\"shape\":[75]},\"y\":{\"__ndarray__\":\"MCRxoNFnQT9dcvo90IdNP+qWHeIftlQ/dNWXAFcNXT8NYIJ9MWBkP10nQT3OlGw/j4BJYrQLdD9jyv8cUR58P6d8Yj6UuIM/4k9uirCpiz98QnbexmaTPzw3+LjyNps/eYMeIE4Woz9zNWieEsaqP8rD9h4kx7I/FYYSdwZXuj8CvMP1QXnCPxYvFobI6ck/F35wPnUs0j/hCb3+JH7ZPwumL75H4eE/FK5H4XoU6T/Xo3A9CpfxPwaBlUOLrPg/ira+oyFOAUCgGi/dJEYIQBE2PL1SBhFAwE2QInzhF0B3TrNAu78gQPXb14FzfidA0ZFc/kN6MEAFo5I6AR03QHtLOV/sNUBAxAq3fCS9RkC8zob8M79PQCgmb4CZcVVAMzMzMzNjW0BmZmZmZqpgQLzoK0gzo2NAAAAAAACcZkBEF9S3zJRpQJqZmZmZjWxAZmZmZmaGb0AQ5KCEmT9xQAAAAAAAvHJA8Btfe2Y4dEAIclDCzLR1QPiNrz0zMXdAEOSghJmteEAAAAAAACp6QPAbX3tmpntACXJQwswifUD3ja89M59+QDeJQWDlSH9ACHJQwswNgEAAAAAAAMyAQPiNrz0zioFABTkoYWZIgkD7xteemQaDQAhyUMLMxINAAAAAAACDhED4ja89M0GFQAU5KGFm/4VA+8bXnpm9hkAIclDCzHuHQAAAAAAAOohA+I2vPTP4iEAFOShhZraJQPvG156ZdIpACXJQwswyi0AAAAAAAPGLQPeNrz0zr4xABTkoYWZtjUD7xteemSuOQHEDPj/M6Y5A\",\"dtype\":\"float64\",\"shape\":[75]}}},\"id\":\"489486c2-e984-4b3e-aee9-044535223174\",\"type\":\"ColumnDataSource\"},{\"attributes\":{\"line_alpha\":0.1,\"line_color\":\"#1f77b4\",\"line_width\":1.5,\"x\":{\"field\":\"x\"},\"y\":{\"field\":\"y\"}},\"id\":\"762bbb44-ec05-4cd6-8813-1075dc2320d8\",\"type\":\"Line\"},{\"attributes\":{},\"id\":\"0a0b9a6c-b9f6-4143-8a65-a017d1fd2365\",\"type\":\"LinearScale\"},{\"attributes\":{\"below\":[{\"id\":\"5ba2ed8e-5b4c-461e-ab2a-105b8d7e63e6\",\"type\":\"LinearAxis\"}],\"left\":[{\"id\":\"7ca20bce-2fdb-4a21-b767-e3ee2bdb08df\",\"type\":\"LinearAxis\"}],\"plot_height\":500,\"plot_width\":400,\"renderers\":[{\"id\":\"5ba2ed8e-5b4c-461e-ab2a-105b8d7e63e6\",\"type\":\"LinearAxis\"},{\"id\":\"c09ca246-7272-47f1-8691-52cb949dd086\",\"type\":\"Grid\"},{\"id\":\"7ca20bce-2fdb-4a21-b767-e3ee2bdb08df\",\"type\":\"LinearAxis\"},{\"id\":\"93b97539-17e3-47da-8b69-e34cb3604718\",\"type\":\"Grid\"},{\"id\":\"0804f880-8610-4993-a6a1-e4a396f1e9c1\",\"type\":\"BoxAnnotation\"},{\"id\":\"005ac519-fb6e-43cf-96ea-981cd6a8c8f7\",\"type\":\"GlyphRenderer\"},{\"id\":\"ea522dca-be1f-4774-8eca-ad4df10f877a\",\"type\":\"GlyphRenderer\"},{\"id\":\"c1ce000f-7e62-442e-afbb-5849970a859c\",\"type\":\"GlyphRenderer\"},{\"id\":\"08b0da7a-33ad-429d-8dd3-be7ab4950e34\",\"type\":\"GlyphRenderer\"},{\"id\":\"3e1b6cc8-cb55-4d6d-af90-719574992ecd\",\"type\":\"GlyphRenderer\"}],\"title\":{\"id\":\"23f584b7-a48c-4862-99b3-e682b9e5107d\",\"type\":\"Title\"},\"toolbar\":{\"id\":\"383fc314-0979-4f16-b54f-8d376fe54288\",\"type\":\"Toolbar\"},\"toolbar_location\":null,\"x_range\":{\"id\":\"5a8e4a5f-f9c7-414c-834d-a87c3a32e076\",\"type\":\"Range1d\"},\"x_scale\":{\"id\":\"2d88e76b-8567-4616-b6fd-7b4434a53c1b\",\"type\":\"LinearScale\"},\"y_range\":{\"id\":\"654707e8-bec5-42ef-b194-5de532e5ea5a\",\"type\":\"Range1d\"},\"y_scale\":{\"id\":\"0a0b9a6c-b9f6-4143-8a65-a017d1fd2365\",\"type\":\"LinearScale\"}},\"id\":\"300c8b58-8f7f-447f-aeb5-312af8381374\",\"subtype\":\"Figure\",\"type\":\"Plot\"},{\"attributes\":{\"source\":{\"id\":\"489486c2-e984-4b3e-aee9-044535223174\",\"type\":\"ColumnDataSource\"}},\"id\":\"6458886e-0b19-4521-8b5b-d13d3c51b50e\",\"type\":\"CDSView\"},{\"attributes\":{\"line_color\":\"#4daf4a\",\"line_width\":1.5,\"x\":{\"field\":\"x\"},\"y\":{\"field\":\"y\"}},\"id\":\"49eae2cc-f7d8-4b8a-8737-1c5faa273069\",\"type\":\"Line\"},{\"attributes\":{\"data_source\":{\"id\":\"b05b91bc-6ef2-4e71-95a7-189c54f8b0c2\",\"type\":\"ColumnDataSource\"},\"glyph\":{\"id\":\"1c90c179-8681-4acd-832f-ddaa0c315289\",\"type\":\"Circle\"},\"hover_glyph\":null,\"muted_glyph\":null,\"nonselection_glyph\":{\"id\":\"fb496b6e-1778-4ede-9d3d-b76450daaa23\",\"type\":\"Circle\"},\"selection_glyph\":null,\"view\":{\"id\":\"0e9defb3-3d02-4bf0-acca-8478ab956103\",\"type\":\"CDSView\"}},\"id\":\"ea522dca-be1f-4774-8eca-ad4df10f877a\",\"type\":\"GlyphRenderer\"},{\"attributes\":{\"plot\":{\"id\":\"300c8b58-8f7f-447f-aeb5-312af8381374\",\"subtype\":\"Figure\",\"type\":\"Plot\"},\"ticker\":{\"id\":\"a6c0cd54-6e7b-4b10-a634-1955b93734cd\",\"type\":\"BasicTicker\"}},\"id\":\"c09ca246-7272-47f1-8691-52cb949dd086\",\"type\":\"Grid\"},{\"attributes\":{\"label\":{\"value\":\"WGT igg=10 wgt_flux=2\"},\"renderers\":[{\"id\":\"4e981ccf-2544-4a27-8cd9-43e3aea3a125\",\"type\":\"GlyphRenderer\"},{\"id\":\"11fefcac-d553-409f-b201-49fa2a569652\",\"type\":\"GlyphRenderer\"}]},\"id\":\"7530050c-8148-48f0-9459-5eb1e197db11\",\"type\":\"LegendItem\"},{\"attributes\":{\"callback\":null,\"end\":0.01,\"start\":1020},\"id\":\"654707e8-bec5-42ef-b194-5de532e5ea5a\",\"type\":\"Range1d\"},{\"attributes\":{\"axis_label\":\"pressure [mb]\",\"formatter\":{\"id\":\"ad53892d-23cf-4b07-acd9-d534a172e1f3\",\"type\":\"BasicTickFormatter\"},\"plot\":{\"id\":\"300c8b58-8f7f-447f-aeb5-312af8381374\",\"subtype\":\"Figure\",\"type\":\"Plot\"},\"ticker\":{\"id\":\"f641116c-64d8-41ca-a2ef-9bfa46bdff96\",\"type\":\"BasicTicker\"}},\"id\":\"7ca20bce-2fdb-4a21-b767-e3ee2bdb08df\",\"type\":\"LinearAxis\"},{\"attributes\":{},\"id\":\"ad53892d-23cf-4b07-acd9-d534a172e1f3\",\"type\":\"BasicTickFormatter\"},{\"attributes\":{\"callback\":null,\"end\":0.01,\"start\":1020},\"id\":\"d67f5555-3cc8-4f56-960b-4d0e7a6cd238\",\"type\":\"Range1d\"},{\"attributes\":{\"children\":[{\"id\":\"a67d48f8-22cf-4ed7-9569-ae92182d911f\",\"type\":\"Row\"}]},\"id\":\"2b49b293-84a8-4f79-931a-98b5d952d06f\",\"type\":\"Column\"},{\"attributes\":{},\"id\":\"2d88e76b-8567-4616-b6fd-7b4434a53c1b\",\"type\":\"LinearScale\"},{\"attributes\":{\"active_drag\":\"auto\",\"active_inspect\":\"auto\",\"active_scroll\":\"auto\",\"active_tap\":\"auto\",\"tools\":[{\"id\":\"5bfab27c-f330-436e-843e-433e51d1d611\",\"type\":\"PanTool\"},{\"id\":\"4c49761e-c341-4997-a0fd-e37966d5f629\",\"type\":\"WheelZoomTool\"},{\"id\":\"b79c3e96-2941-4dfa-8fbd-3d79c76820bb\",\"type\":\"BoxZoomTool\"},{\"id\":\"231f3958-bfbe-4cfe-9d3a-f79215d0faa4\",\"type\":\"SaveTool\"},{\"id\":\"5f7ae5b1-d06e-4393-a13c-1bd325dcde8a\",\"type\":\"ResetTool\"},{\"id\":\"5d8ee7cd-47d2-417f-89de-14cb5e5b9526\",\"type\":\"HelpTool\"}]},\"id\":\"383fc314-0979-4f16-b54f-8d376fe54288\",\"type\":\"Toolbar\"},{\"attributes\":{\"axis_label\":\"cooling rate [K/day]\",\"formatter\":{\"id\":\"2fdd69fc-c6bd-443b-8555-a00e91a55e51\",\"type\":\"BasicTickFormatter\"},\"plot\":{\"id\":\"300c8b58-8f7f-447f-aeb5-312af8381374\",\"subtype\":\"Figure\",\"type\":\"Plot\"},\"ticker\":{\"id\":\"a6c0cd54-6e7b-4b10-a634-1955b93734cd\",\"type\":\"BasicTicker\"}},\"id\":\"5ba2ed8e-5b4c-461e-ab2a-105b8d7e63e6\",\"type\":\"LinearAxis\"},{\"attributes\":{\"source\":{\"id\":\"b05b91bc-6ef2-4e71-95a7-189c54f8b0c2\",\"type\":\"ColumnDataSource\"}},\"id\":\"0e9defb3-3d02-4bf0-acca-8478ab956103\",\"type\":\"CDSView\"},{\"attributes\":{},\"id\":\"2fdd69fc-c6bd-443b-8555-a00e91a55e51\",\"type\":\"BasicTickFormatter\"},{\"attributes\":{\"dimension\":1,\"plot\":{\"id\":\"9203cc47-60a8-4d9b-8d3b-47b57208f9fe\",\"subtype\":\"Figure\",\"type\":\"Plot\"},\"ticker\":{\"id\":\"bd449774-ddbd-4a50-b96a-f658f722408a\",\"type\":\"LogTicker\"}},\"id\":\"b72ef2ca-beca-4978-b1c9-1bbeed474839\",\"type\":\"Grid\"},{\"attributes\":{\"bottom_units\":\"screen\",\"fill_alpha\":{\"value\":0.5},\"fill_color\":{\"value\":\"lightgrey\"},\"left_units\":\"screen\",\"level\":\"overlay\",\"line_alpha\":{\"value\":1.0},\"line_color\":{\"value\":\"black\"},\"line_dash\":[4,4],\"line_width\":{\"value\":2},\"plot\":null,\"render_mode\":\"css\",\"right_units\":\"screen\",\"top_units\":\"screen\"},\"id\":\"0804f880-8610-4993-a6a1-e4a396f1e9c1\",\"type\":\"BoxAnnotation\"},{\"attributes\":{\"plot\":null,\"text\":\"Linear pressure scale\"},\"id\":\"23f584b7-a48c-4862-99b3-e682b9e5107d\",\"type\":\"Title\"},{\"attributes\":{\"line_alpha\":0.1,\"line_color\":\"#1f77b4\",\"line_dash\":[6],\"line_width\":5,\"x\":{\"field\":\"x\"},\"y\":{\"field\":\"y\"}},\"id\":\"21d8bb3d-c8ba-4ca9-960c-857ea46d4acf\",\"type\":\"Line\"},{\"attributes\":{\"line_alpha\":0.6,\"line_color\":\"#e41a1c\",\"line_dash\":[6],\"line_width\":5,\"x\":{\"field\":\"x\"},\"y\":{\"field\":\"y\"}},\"id\":\"d665846b-3dc8-4937-8553-f2dc8cd72d0b\",\"type\":\"Line\"},{\"attributes\":{},\"id\":\"f641116c-64d8-41ca-a2ef-9bfa46bdff96\",\"type\":\"BasicTicker\"},{\"attributes\":{\"dimension\":1,\"plot\":{\"id\":\"300c8b58-8f7f-447f-aeb5-312af8381374\",\"subtype\":\"Figure\",\"type\":\"Plot\"},\"ticker\":{\"id\":\"f641116c-64d8-41ca-a2ef-9bfa46bdff96\",\"type\":\"BasicTicker\"}},\"id\":\"93b97539-17e3-47da-8b69-e34cb3604718\",\"type\":\"Grid\"},{\"attributes\":{},\"id\":\"5bfab27c-f330-436e-843e-433e51d1d611\",\"type\":\"PanTool\"},{\"attributes\":{},\"id\":\"a6c0cd54-6e7b-4b10-a634-1955b93734cd\",\"type\":\"BasicTicker\"},{\"attributes\":{\"axis_label\":\"cooling rate [K/day]\",\"formatter\":{\"id\":\"a801e540-e6d8-4fc7-9c7d-d487e60aee58\",\"type\":\"BasicTickFormatter\"},\"plot\":{\"id\":\"9203cc47-60a8-4d9b-8d3b-47b57208f9fe\",\"subtype\":\"Figure\",\"type\":\"Plot\"},\"ticker\":{\"id\":\"828b8271-c111-434c-a43e-fe567bcb6252\",\"type\":\"BasicTicker\"}},\"id\":\"92071021-b1e9-477c-953a-fc56521634d5\",\"type\":\"LinearAxis\"},{\"attributes\":{\"fill_alpha\":{\"value\":0.7},\"fill_color\":{\"value\":\"#4daf4a\"},\"line_alpha\":{\"value\":0.7},\"line_color\":{\"value\":\"#4daf4a\"},\"x\":{\"field\":\"x\"},\"y\":{\"field\":\"y\"}},\"id\":\"bcb4e9d9-b0ec-4557-994b-9c29ec8c3613\",\"type\":\"Circle\"},{\"attributes\":{\"source\":{\"id\":\"fe4c2797-91b8-4884-8317-cf83c111abcf\",\"type\":\"ColumnDataSource\"}},\"id\":\"00b88dcf-9d20-4626-bc4b-b2b95ecde833\",\"type\":\"CDSView\"},{\"attributes\":{},\"id\":\"a801e540-e6d8-4fc7-9c7d-d487e60aee58\",\"type\":\"BasicTickFormatter\"},{\"attributes\":{\"fill_alpha\":{\"value\":0.7},\"fill_color\":{\"value\":\"#984ea3\"},\"line_alpha\":{\"value\":0.7},\"line_color\":{\"value\":\"#984ea3\"},\"x\":{\"field\":\"x\"},\"y\":{\"field\":\"y\"}},\"id\":\"33b49c73-7bda-4891-a5df-10a71293634c\",\"type\":\"Square\"},{\"attributes\":{\"source\":{\"id\":\"d5f8bacc-852e-4f8d-b4e2-63715bd22119\",\"type\":\"ColumnDataSource\"}},\"id\":\"4243131a-2984-4fa8-a130-614923c39bfc\",\"type\":\"CDSView\"},{\"attributes\":{\"fill_alpha\":{\"value\":0.1},\"fill_color\":{\"value\":\"#1f77b4\"},\"line_alpha\":{\"value\":0.1},\"line_color\":{\"value\":\"#1f77b4\"},\"x\":{\"field\":\"x\"},\"y\":{\"field\":\"y\"}},\"id\":\"fb496b6e-1778-4ede-9d3d-b76450daaa23\",\"type\":\"Circle\"},{\"attributes\":{},\"id\":\"056aa997-4bc7-4f49-84e9-953d5d26e1b6\",\"type\":\"PanTool\"},{\"attributes\":{\"below\":[{\"id\":\"92071021-b1e9-477c-953a-fc56521634d5\",\"type\":\"LinearAxis\"}],\"left\":[{\"id\":\"bb33935d-307d-47f4-8df3-9a3280857a5b\",\"type\":\"LogAxis\"}],\"plot_height\":500,\"plot_width\":560,\"renderers\":[{\"id\":\"92071021-b1e9-477c-953a-fc56521634d5\",\"type\":\"LinearAxis\"},{\"id\":\"a1dab8af-5297-46d8-9394-5e6be77d9634\",\"type\":\"Grid\"},{\"id\":\"bb33935d-307d-47f4-8df3-9a3280857a5b\",\"type\":\"LogAxis\"},{\"id\":\"b72ef2ca-beca-4978-b1c9-1bbeed474839\",\"type\":\"Grid\"},{\"id\":\"854673b2-5ecf-4ece-accb-99d5f8de4e63\",\"type\":\"BoxAnnotation\"},{\"id\":\"7a3e0ebc-c3bd-4e7c-af8d-f088b060fca8\",\"type\":\"GlyphRenderer\"},{\"id\":\"e9070405-42d8-4067-b2b4-3fc5c1086966\",\"type\":\"GlyphRenderer\"},{\"id\":\"97ceeb83-bc2f-4d00-b94e-f8a163a70404\",\"type\":\"GlyphRenderer\"},{\"id\":\"4e981ccf-2544-4a27-8cd9-43e3aea3a125\",\"type\":\"GlyphRenderer\"},{\"id\":\"11fefcac-d553-409f-b201-49fa2a569652\",\"type\":\"GlyphRenderer\"},{\"id\":\"8f99b5cb-7582-4147-8430-826673609c3f\",\"type\":\"Legend\"}],\"right\":[{\"id\":\"8f99b5cb-7582-4147-8430-826673609c3f\",\"type\":\"Legend\"}],\"title\":{\"id\":\"347a1b51-ccf5-438d-b6b2-158a00439e43\",\"type\":\"Title\"},\"toolbar\":{\"id\":\"eade94bf-83a4-4d65-b571-f2928db7d810\",\"type\":\"Toolbar\"},\"toolbar_location\":null,\"x_range\":{\"id\":\"c0eb6460-c61b-4ab3-ac98-0807fbda2182\",\"type\":\"Range1d\"},\"x_scale\":{\"id\":\"1f5625f5-d5e3-4017-b37c-7cc1a1c05194\",\"type\":\"LinearScale\"},\"y_range\":{\"id\":\"d67f5555-3cc8-4f56-960b-4d0e7a6cd238\",\"type\":\"Range1d\"},\"y_scale\":{\"id\":\"3aa93c69-c5f0-4fba-bbe3-968f1e8ec2b5\",\"type\":\"LogScale\"}},\"id\":\"9203cc47-60a8-4d9b-8d3b-47b57208f9fe\",\"subtype\":\"Figure\",\"type\":\"Plot\"},{\"attributes\":{\"source\":{\"id\":\"ba64dd88-7b84-4df5-bf29-4d56450f5c8c\",\"type\":\"ColumnDataSource\"}},\"id\":\"0bcab4a6-bf9b-4e80-8fa4-8c3615f0f8dc\",\"type\":\"CDSView\"},{\"attributes\":{\"overlay\":{\"id\":\"854673b2-5ecf-4ece-accb-99d5f8de4e63\",\"type\":\"BoxAnnotation\"}},\"id\":\"c5c228a0-f702-45f0-b83b-1850cc828a9d\",\"type\":\"BoxZoomTool\"},{\"attributes\":{\"data_source\":{\"id\":\"fe4c2797-91b8-4884-8317-cf83c111abcf\",\"type\":\"ColumnDataSource\"},\"glyph\":{\"id\":\"33b49c73-7bda-4891-a5df-10a71293634c\",\"type\":\"Square\"},\"hover_glyph\":null,\"muted_glyph\":null,\"nonselection_glyph\":{\"id\":\"00dfb112-92c3-4974-894f-3d8f105881e0\",\"type\":\"Square\"},\"selection_glyph\":null,\"view\":{\"id\":\"00b88dcf-9d20-4626-bc4b-b2b95ecde833\",\"type\":\"CDSView\"}},\"id\":\"08b0da7a-33ad-429d-8dd3-be7ab4950e34\",\"type\":\"GlyphRenderer\"},{\"attributes\":{\"callback\":null,\"column_names\":[\"x\",\"y\"],\"data\":{\"x\":{\"__ndarray__\":\"h5gn5D7KZD/C0OaZl3pnP+jOzWeScm0/1bWMEZYjcj8sbkZHHvp1P57i2aJjR3o/j5kOFK0Zfz8spxqElDuCPzfegENmNoU/q3tIHqaCiD+oQ35orB6MP6xisDZU+Y8/9eKlSn0hkj82jNbffxyUP7Qz/t04spU/ph14Yd0Llz90oyjNb2OYP32MkaM7s5k/zlHf42D3mj+Zmx799yycPxyCQ6WaJJ0/PBx2Qlz3mj8xvih0cEaVP2fYg6SqZI8/WFNFMI+uhj/r4qFspAWAP7FCTdHqFHY/WEUAezpTbz8IP2z+I4BoPxgVd8+IMWQ/ADcgxSaZYD9gmsRO6F1bP8h5YkritFk/o0KIMrMSXD+qzn2JHldfP1B/B1CdWGE/jD2chVuMYj9AQtVvNPViPwY1m4Zqg2k/NsuO2YXibz9STO0rYBlzPxsqahsEt3Q/OYhiouS9dT+HyQtZs492P2RmgynaPnc/yeoYRwzKej9dgercAjuCP/1AVEL5gIk/bjsU1cAulT/9ghoUhi6hPyzhSCFCvKg/UnUJM99UsD/WNZK4UkW0PzhYNZFkGbg/TwTUSAnJuz/bWz5Qdky/P+1xEaXeT8E/+fv/F1PZwj/w82O8ezrEP/IQ3+yDasU/SNMsEgtjxj8dJF2WIyLHPzs4dXFdqcc/1ClNUrL/xz+7BI6h7zDIP3FY2Nt/R8g//Zv+iR1PyD93/khs0kjIP8nVXROxDMg/ViZfffpXxz8XFljX09TFP2VX1g1GssM/HTY24JiKwT/KeGvLRgi/P7NceFa57bo/\",\"dtype\":\"float64\",\"shape\":[75]},\"y\":{\"__ndarray__\":\"GhExyth1ND/Sv8nbtpRIP2vylNV0PVE/aTum7souWD/At0SJ8fVgPw3Iuahxymc/MSNhhJWvcD/bTfBN02d3P2zb5nxnaoA/CD5h5MAGhz8NmeH1TyaQP+zrCsc9p5Y/LbKd76fGnz/bLW5ISEmmPww9YvTcQq8/JV2OstnstT8Er5Y7M8G+P0c+r3jqkcU/5h99k6ZBzj88bCIzFzjVP4enV8oyxN0//yH99nXg5D8qOpLLf0jtP5kqGJXUifQ/c9cS8kHP/D+/DpwzojQEQIEmwoanVwxA4lgXt9HgE0BSSZ2AJuIbQAMJih9jjiNA5q4l5INuK0AwTKYKRj0zQNv5fmq8/DpAaCJseHrtQkB/+zpwzoxKQM3MzMzMeFJAZmZmZmZqWEAAAAAAAFxeQM3MzMzMJmJAmpmZmZkfZUBmZmZmZhhoQDMzMzMzEWtAAAAAAAAKbkBmZmZmZoFwQM3MzMzM/XFAMzMzMzN6c0CamZmZmfZ0QAAAAAAAc3ZAZmZmZmbvd0DNzMzMzGt5QDMzMzMz6HpAmpmZmZlkfEAAAAAAAOF9QGZmZmZmXX9AZmZmZuZsgECamZmZGSuBQM3MzMxM6YFAAAAAAICngkAzMzMzs2WDQGZmZmbmI4RAmpmZmRnihEDNzMzMTKCFQAAAAACAXoZAMzMzM7Mch0BmZmZm5tqHQJqZmZkZmYhAzczMzExXiUAAAAAAgBWKQDMzMzOz04pAZmZmZuaRi0CamZmZGVCMQM3MzMxMDo1AAAAAAIDMjUAzMzMzs4qOQGZmZmbmSI9A\",\"dtype\":\"float64\",\"shape\":[75]}}},\"id\":\"2bbd98f7-6b4a-43a6-adee-86d2cbf2163d\",\"type\":\"ColumnDataSource\"},{\"attributes\":{\"data_source\":{\"id\":\"2bbd98f7-6b4a-43a6-adee-86d2cbf2163d\",\"type\":\"ColumnDataSource\"},\"glyph\":{\"id\":\"bcb4e9d9-b0ec-4557-994b-9c29ec8c3613\",\"type\":\"Circle\"},\"hover_glyph\":null,\"muted_glyph\":null,\"nonselection_glyph\":{\"id\":\"9b50f30b-a1ee-4429-8556-a80fa6b50e76\",\"type\":\"Circle\"},\"selection_glyph\":null,\"view\":{\"id\":\"5ba0d4fe-8c78-4390-841c-c7f7ced158b1\",\"type\":\"CDSView\"}},\"id\":\"e9070405-42d8-4067-b2b4-3fc5c1086966\",\"type\":\"GlyphRenderer\"},{\"attributes\":{\"active_drag\":\"auto\",\"active_inspect\":\"auto\",\"active_scroll\":\"auto\",\"active_tap\":\"auto\",\"tools\":[{\"id\":\"056aa997-4bc7-4f49-84e9-953d5d26e1b6\",\"type\":\"PanTool\"},{\"id\":\"10026f7d-d9b7-40ed-9264-b733e9ffb7cf\",\"type\":\"WheelZoomTool\"},{\"id\":\"c5c228a0-f702-45f0-b83b-1850cc828a9d\",\"type\":\"BoxZoomTool\"},{\"id\":\"9714c24c-c972-4e5b-b7a3-02792a9069f1\",\"type\":\"SaveTool\"},{\"id\":\"2e6aab92-283a-4952-aa85-29eea3fa88b8\",\"type\":\"ResetTool\"},{\"id\":\"172a7c06-eef5-4486-b3a9-846260d66dca\",\"type\":\"HelpTool\"}]},\"id\":\"eade94bf-83a4-4d65-b571-f2928db7d810\",\"type\":\"Toolbar\"},{\"attributes\":{\"line_alpha\":0.1,\"line_color\":\"#1f77b4\",\"line_dash\":[6],\"line_width\":5,\"x\":{\"field\":\"x\"},\"y\":{\"field\":\"y\"}},\"id\":\"4add7c5a-92ce-4181-a885-174c38d6bab7\",\"type\":\"Line\"},{\"attributes\":{\"callback\":null,\"column_names\":[\"x\",\"y\"],\"data\":{\"x\":{\"__ndarray__\":\"VdYnLUnXZj9e0mihaiNpPyC6sld+Mm4/j4KhWKz3cT/DJyoCaCx1P16GbgcIv3g/d+Y4B6e3fD/KsNPPbpCAP0Kam6YHAIM/hEE/1ZOwhT8PT7hCv6eIP4GOj20064s/hOgQ8GR8jz+rFZacVXWRPz0LKzxWyZI/UehYhXYIlD8SmA0ji0iVPyF1Q2Q/mZY/6B+UO7nslz/XY9Ny2kuZP2Yk5gKZhpo/j9eLMvYjmT8klR0cn6eUP+5doquDAZA//tZiFTlciD+izPGdahuCP9UFZLisJHo/7OcbVlz6cj+BdDnu1wptP8J18JTymGY/S5TOWRIwYT/neyFwz/tZP8A+bMqO01Y/OqAqmoRpWD+Zt7v9Dn1bP4VWpSuNPl8/4vfj7CMqYT94zyA4eOxhPwp9rKRxl2g/f+WQMgpHbz/Epg/nwgBzP4g+hKhpznQ/fRi9lSH2dT9yc+93PNt2P0DYbNw5lXc/8o9Tbp0Qez8CaBWsQTyCP3EuYgyqUok/L7x4h0L4lD/Eva0nmf+gP1VWUkKdgag/BUejLfA2sD8DZU1heia0P9GFVukq27c/rBZid9REuz+p4b8i83m+PyABBnt70cA/eaHlqoVbwj/cKfWtzsjDP89P77jkAMU/qz/Zk6H4xT+IUs9oL6zGP4uc5dvwKcc/AfroAJV7xz+ZjfGHA6/HPwg2yQwZzcc/vMC4prffxz80XagAi+THP5DPs/Kossc/wwuj9Y8Ixz8KEXF8O5LFPyJ5y69mfcM/6EkJoZhhwT8HF4mt5cm+P2CelGOjyLo/\",\"dtype\":\"float64\",\"shape\":[75]},\"y\":{\"__ndarray__\":\"GhExyth1ND/Sv8nbtpRIP2vylNV0PVE/aTum7souWD/At0SJ8fVgPw3Iuahxymc/MSNhhJWvcD/bTfBN02d3P2zb5nxnaoA/CD5h5MAGhz8NmeH1TyaQP+zrCsc9p5Y/LbKd76fGnz/bLW5ISEmmPww9YvTcQq8/JV2OstnstT8Er5Y7M8G+P0c+r3jqkcU/5h99k6ZBzj88bCIzFzjVP4enV8oyxN0//yH99nXg5D8qOpLLf0jtP5kqGJXUifQ/c9cS8kHP/D+/DpwzojQEQIEmwoanVwxA4lgXt9HgE0BSSZ2AJuIbQAMJih9jjiNA5q4l5INuK0AwTKYKRj0zQNv5fmq8/DpAaCJseHrtQkB/+zpwzoxKQM3MzMzMeFJAZmZmZmZqWEAAAAAAAFxeQM3MzMzMJmJAmpmZmZkfZUBmZmZmZhhoQDMzMzMzEWtAAAAAAAAKbkBmZmZmZoFwQM3MzMzM/XFAMzMzMzN6c0CamZmZmfZ0QAAAAAAAc3ZAZmZmZmbvd0DNzMzMzGt5QDMzMzMz6HpAmpmZmZlkfEAAAAAAAOF9QGZmZmZmXX9AZmZmZuZsgECamZmZGSuBQM3MzMxM6YFAAAAAAICngkAzMzMzs2WDQGZmZmbmI4RAmpmZmRnihEDNzMzMTKCFQAAAAACAXoZAMzMzM7Mch0BmZmZm5tqHQJqZmZkZmYhAzczMzExXiUAAAAAAgBWKQDMzMzOz04pAZmZmZuaRi0CamZmZGVCMQM3MzMxMDo1AAAAAAIDMjUAzMzMzs4qOQGZmZmbmSI9A\",\"dtype\":\"float64\",\"shape\":[75]}}},\"id\":\"af794da8-15fb-4368-8075-3fb7931256c6\",\"type\":\"ColumnDataSource\"},{\"attributes\":{\"data_source\":{\"id\":\"17c39a54-6839-4bea-9c04-7abcc7cca405\",\"type\":\"ColumnDataSource\"},\"glyph\":{\"id\":\"c54a1060-85e9-41a4-9f46-6284229b4ac8\",\"type\":\"Line\"},\"hover_glyph\":null,\"muted_glyph\":null,\"nonselection_glyph\":{\"id\":\"e237c59d-0184-4163-b665-8a25756a1085\",\"type\":\"Line\"},\"selection_glyph\":null,\"view\":{\"id\":\"a89121ec-d472-48d4-8f1e-233034d077fa\",\"type\":\"CDSView\"}},\"id\":\"97ceeb83-bc2f-4d00-b94e-f8a163a70404\",\"type\":\"GlyphRenderer\"},{\"attributes\":{\"num_minor_ticks\":10},\"id\":\"bd449774-ddbd-4a50-b96a-f658f722408a\",\"type\":\"LogTicker\"},{\"attributes\":{\"line_alpha\":0.6,\"line_color\":\"#984ea3\",\"line_width\":3,\"x\":{\"field\":\"x\"},\"y\":{\"field\":\"y\"}},\"id\":\"ef2f733a-b216-4b76-bb22-97a3b9c6e3cb\",\"type\":\"Line\"},{\"attributes\":{\"callback\":null,\"column_names\":[\"x\",\"y\"],\"data\":{\"x\":{\"__ndarray__\":\"h5gn5D7KZD/C0OaZl3pnP+jOzWeScm0/1bWMEZYjcj8sbkZHHvp1P57i2aJjR3o/j5kOFK0Zfz8spxqElDuCPzfegENmNoU/q3tIHqaCiD+oQ35orB6MP6xisDZU+Y8/9eKlSn0hkj82jNbffxyUP7Qz/t04spU/ph14Yd0Llz90oyjNb2OYP32MkaM7s5k/zlHf42D3mj+Zmx799yycPxyCQ6WaJJ0/PBx2Qlz3mj8xvih0cEaVP2fYg6SqZI8/WFNFMI+uhj/r4qFspAWAP7FCTdHqFHY/WEUAezpTbz8IP2z+I4BoPxgVd8+IMWQ/ADcgxSaZYD9gmsRO6F1bP8h5YkritFk/o0KIMrMSXD+qzn2JHldfP1B/B1CdWGE/jD2chVuMYj9AQtVvNPViPwY1m4Zqg2k/NsuO2YXibz9STO0rYBlzPxsqahsEt3Q/OYhiouS9dT+HyQtZs492P2RmgynaPnc/yeoYRwzKej9dgercAjuCP/1AVEL5gIk/bjsU1cAulT/9ghoUhi6hPyzhSCFCvKg/UnUJM99UsD/WNZK4UkW0PzhYNZFkGbg/TwTUSAnJuz/bWz5Qdky/P+1xEaXeT8E/+fv/F1PZwj/w82O8ezrEP/IQ3+yDasU/SNMsEgtjxj8dJF2WIyLHPzs4dXFdqcc/1ClNUrL/xz+7BI6h7zDIP3FY2Nt/R8g//Zv+iR1PyD93/khs0kjIP8nVXROxDMg/ViZfffpXxz8XFljX09TFP2VX1g1GssM/HTY24JiKwT/KeGvLRgi/P7NceFa57bo/\",\"dtype\":\"float64\",\"shape\":[75]},\"y\":{\"__ndarray__\":\"GhExyth1ND/Sv8nbtpRIP2vylNV0PVE/aTum7souWD/At0SJ8fVgPw3Iuahxymc/MSNhhJWvcD/bTfBN02d3P2zb5nxnaoA/CD5h5MAGhz8NmeH1TyaQP+zrCsc9p5Y/LbKd76fGnz/bLW5ISEmmPww9YvTcQq8/JV2OstnstT8Er5Y7M8G+P0c+r3jqkcU/5h99k6ZBzj88bCIzFzjVP4enV8oyxN0//yH99nXg5D8qOpLLf0jtP5kqGJXUifQ/c9cS8kHP/D+/DpwzojQEQIEmwoanVwxA4lgXt9HgE0BSSZ2AJuIbQAMJih9jjiNA5q4l5INuK0AwTKYKRj0zQNv5fmq8/DpAaCJseHrtQkB/+zpwzoxKQM3MzMzMeFJAZmZmZmZqWEAAAAAAAFxeQM3MzMzMJmJAmpmZmZkfZUBmZmZmZhhoQDMzMzMzEWtAAAAAAAAKbkBmZmZmZoFwQM3MzMzM/XFAMzMzMzN6c0CamZmZmfZ0QAAAAAAAc3ZAZmZmZmbvd0DNzMzMzGt5QDMzMzMz6HpAmpmZmZlkfEAAAAAAAOF9QGZmZmZmXX9AZmZmZuZsgECamZmZGSuBQM3MzMxM6YFAAAAAAICngkAzMzMzs2WDQGZmZmbmI4RAmpmZmRnihEDNzMzMTKCFQAAAAACAXoZAMzMzM7Mch0BmZmZm5tqHQJqZmZkZmYhAzczMzExXiUAAAAAAgBWKQDMzMzOz04pAZmZmZuaRi0CamZmZGVCMQM3MzMxMDo1AAAAAAIDMjUAzMzMzs4qOQGZmZmbmSI9A\",\"dtype\":\"float64\",\"shape\":[75]}}},\"id\":\"17c39a54-6839-4bea-9c04-7abcc7cca405\",\"type\":\"ColumnDataSource\"},{\"attributes\":{},\"id\":\"10026f7d-d9b7-40ed-9264-b733e9ffb7cf\",\"type\":\"WheelZoomTool\"},{\"attributes\":{\"toolbar\":{\"id\":\"b4a4aa2c-4269-4a85-b38c-6399de0e53c0\",\"type\":\"ProxyToolbar\"},\"toolbar_location\":\"above\"},\"id\":\"40e943e1-708c-4292-aa23-5c46cb13e6d7\",\"type\":\"ToolbarBox\"},{\"attributes\":{\"ticker\":null},\"id\":\"58b12a22-cffb-46c4-ae97-696ebc03d2dc\",\"type\":\"LogTickFormatter\"},{\"attributes\":{},\"id\":\"2e6aab92-283a-4952-aa85-29eea3fa88b8\",\"type\":\"ResetTool\"},{\"attributes\":{},\"id\":\"3aa93c69-c5f0-4fba-bbe3-968f1e8ec2b5\",\"type\":\"LogScale\"},{\"attributes\":{\"callback\":null,\"column_names\":[\"x\",\"y\"],\"data\":{\"x\":{\"__ndarray__\":\"VdYnLUnXZj9e0mihaiNpPyC6sld+Mm4/j4KhWKz3cT/DJyoCaCx1P16GbgcIv3g/d+Y4B6e3fD/KsNPPbpCAP0Kam6YHAIM/hEE/1ZOwhT8PT7hCv6eIP4GOj20064s/hOgQ8GR8jz+rFZacVXWRPz0LKzxWyZI/UehYhXYIlD8SmA0ji0iVPyF1Q2Q/mZY/6B+UO7nslz/XY9Ny2kuZP2Yk5gKZhpo/j9eLMvYjmT8klR0cn6eUP+5doquDAZA//tZiFTlciD+izPGdahuCP9UFZLisJHo/7OcbVlz6cj+BdDnu1wptP8J18JTymGY/S5TOWRIwYT/neyFwz/tZP8A+bMqO01Y/OqAqmoRpWD+Zt7v9Dn1bP4VWpSuNPl8/4vfj7CMqYT94zyA4eOxhPwp9rKRxl2g/f+WQMgpHbz/Epg/nwgBzP4g+hKhpznQ/fRi9lSH2dT9yc+93PNt2P0DYbNw5lXc/8o9Tbp0Qez8CaBWsQTyCP3EuYgyqUok/L7x4h0L4lD/Eva0nmf+gP1VWUkKdgag/BUejLfA2sD8DZU1heia0P9GFVukq27c/rBZid9REuz+p4b8i83m+PyABBnt70cA/eaHlqoVbwj/cKfWtzsjDP89P77jkAMU/qz/Zk6H4xT+IUs9oL6zGP4uc5dvwKcc/AfroAJV7xz+ZjfGHA6/HPwg2yQwZzcc/vMC4prffxz80XagAi+THP5DPs/Kossc/wwuj9Y8Ixz8KEXF8O5LFPyJ5y69mfcM/6EkJoZhhwT8HF4mt5cm+P2CelGOjyLo/\",\"dtype\":\"float64\",\"shape\":[75]},\"y\":{\"__ndarray__\":\"GhExyth1ND/Sv8nbtpRIP2vylNV0PVE/aTum7souWD/At0SJ8fVgPw3Iuahxymc/MSNhhJWvcD/bTfBN02d3P2zb5nxnaoA/CD5h5MAGhz8NmeH1TyaQP+zrCsc9p5Y/LbKd76fGnz/bLW5ISEmmPww9YvTcQq8/JV2OstnstT8Er5Y7M8G+P0c+r3jqkcU/5h99k6ZBzj88bCIzFzjVP4enV8oyxN0//yH99nXg5D8qOpLLf0jtP5kqGJXUifQ/c9cS8kHP/D+/DpwzojQEQIEmwoanVwxA4lgXt9HgE0BSSZ2AJuIbQAMJih9jjiNA5q4l5INuK0AwTKYKRj0zQNv5fmq8/DpAaCJseHrtQkB/+zpwzoxKQM3MzMzMeFJAZmZmZmZqWEAAAAAAAFxeQM3MzMzMJmJAmpmZmZkfZUBmZmZmZhhoQDMzMzMzEWtAAAAAAAAKbkBmZmZmZoFwQM3MzMzM/XFAMzMzMzN6c0CamZmZmfZ0QAAAAAAAc3ZAZmZmZmbvd0DNzMzMzGt5QDMzMzMz6HpAmpmZmZlkfEAAAAAAAOF9QGZmZmZmXX9AZmZmZuZsgECamZmZGSuBQM3MzMxM6YFAAAAAAICngkAzMzMzs2WDQGZmZmbmI4RAmpmZmRnihEDNzMzMTKCFQAAAAACAXoZAMzMzM7Mch0BmZmZm5tqHQJqZmZkZmYhAzczMzExXiUAAAAAAgBWKQDMzMzOz04pAZmZmZuaRi0CamZmZGVCMQM3MzMxMDo1AAAAAAIDMjUAzMzMzs4qOQGZmZmbmSI9A\",\"dtype\":\"float64\",\"shape\":[75]}}},\"id\":\"64f52b9f-acae-4657-b4d6-ebcded7a3ae4\",\"type\":\"ColumnDataSource\"},{\"attributes\":{\"axis_label\":\"pressure [mb]\",\"formatter\":{\"id\":\"58b12a22-cffb-46c4-ae97-696ebc03d2dc\",\"type\":\"LogTickFormatter\"},\"plot\":{\"id\":\"9203cc47-60a8-4d9b-8d3b-47b57208f9fe\",\"subtype\":\"Figure\",\"type\":\"Plot\"},\"ticker\":{\"id\":\"bd449774-ddbd-4a50-b96a-f658f722408a\",\"type\":\"LogTicker\"}},\"id\":\"bb33935d-307d-47f4-8df3-9a3280857a5b\",\"type\":\"LogAxis\"},{\"attributes\":{\"fill_alpha\":{\"value\":0.1},\"fill_color\":{\"value\":\"#1f77b4\"},\"line_alpha\":{\"value\":0.1},\"line_color\":{\"value\":\"#1f77b4\"},\"x\":{\"field\":\"x\"},\"y\":{\"field\":\"y\"}},\"id\":\"9b50f30b-a1ee-4429-8556-a80fa6b50e76\",\"type\":\"Circle\"},{\"attributes\":{\"fill_alpha\":{\"value\":0.7},\"fill_color\":{\"value\":\"#4daf4a\"},\"line_alpha\":{\"value\":0.7},\"line_color\":{\"value\":\"#4daf4a\"},\"x\":{\"field\":\"x\"},\"y\":{\"field\":\"y\"}},\"id\":\"1c90c179-8681-4acd-832f-ddaa0c315289\",\"type\":\"Circle\"},{\"attributes\":{\"source\":{\"id\":\"2bbd98f7-6b4a-43a6-adee-86d2cbf2163d\",\"type\":\"ColumnDataSource\"}},\"id\":\"5ba0d4fe-8c78-4390-841c-c7f7ced158b1\",\"type\":\"CDSView\"},{\"attributes\":{\"data_source\":{\"id\":\"ba64dd88-7b84-4df5-bf29-4d56450f5c8c\",\"type\":\"ColumnDataSource\"},\"glyph\":{\"id\":\"fddaea50-9486-46d6-b033-2a4a1e6ca3d1\",\"type\":\"Line\"},\"hover_glyph\":null,\"muted_glyph\":null,\"nonselection_glyph\":{\"id\":\"4add7c5a-92ce-4181-a885-174c38d6bab7\",\"type\":\"Line\"},\"selection_glyph\":null,\"view\":{\"id\":\"0bcab4a6-bf9b-4e80-8fa4-8c3615f0f8dc\",\"type\":\"CDSView\"}},\"id\":\"7a3e0ebc-c3bd-4e7c-af8d-f088b060fca8\",\"type\":\"GlyphRenderer\"},{\"attributes\":{\"line_color\":\"#4daf4a\",\"line_width\":1.5,\"x\":{\"field\":\"x\"},\"y\":{\"field\":\"y\"}},\"id\":\"c54a1060-85e9-41a4-9f46-6284229b4ac8\",\"type\":\"Line\"},{\"attributes\":{\"source\":{\"id\":\"64f52b9f-acae-4657-b4d6-ebcded7a3ae4\",\"type\":\"ColumnDataSource\"}},\"id\":\"cb7329df-94a5-4b4c-a6a9-c3915a908854\",\"type\":\"CDSView\"},{\"attributes\":{\"line_alpha\":0.1,\"line_color\":\"#1f77b4\",\"line_width\":1.5,\"x\":{\"field\":\"x\"},\"y\":{\"field\":\"y\"}},\"id\":\"e237c59d-0184-4163-b665-8a25756a1085\",\"type\":\"Line\"},{\"attributes\":{},\"id\":\"172a7c06-eef5-4486-b3a9-846260d66dca\",\"type\":\"HelpTool\"},{\"attributes\":{\"data_source\":{\"id\":\"64f52b9f-acae-4657-b4d6-ebcded7a3ae4\",\"type\":\"ColumnDataSource\"},\"glyph\":{\"id\":\"ef2f733a-b216-4b76-bb22-97a3b9c6e3cb\",\"type\":\"Line\"},\"hover_glyph\":null,\"muted_glyph\":null,\"nonselection_glyph\":{\"id\":\"c95a1d01-374c-4546-b7c7-b0bd536cdc91\",\"type\":\"Line\"},\"selection_glyph\":null,\"view\":{\"id\":\"cb7329df-94a5-4b4c-a6a9-c3915a908854\",\"type\":\"CDSView\"}},\"id\":\"3e1b6cc8-cb55-4d6d-af90-719574992ecd\",\"type\":\"GlyphRenderer\"},{\"attributes\":{\"callback\":null,\"column_names\":[\"x\",\"y\"],\"data\":{\"x\":{\"__ndarray__\":\"VdYnLUnXZj9e0mihaiNpPyC6sld+Mm4/j4KhWKz3cT/DJyoCaCx1P16GbgcIv3g/d+Y4B6e3fD/KsNPPbpCAP0Kam6YHAIM/hEE/1ZOwhT8PT7hCv6eIP4GOj20064s/hOgQ8GR8jz+rFZacVXWRPz0LKzxWyZI/UehYhXYIlD8SmA0ji0iVPyF1Q2Q/mZY/6B+UO7nslz/XY9Ny2kuZP2Yk5gKZhpo/j9eLMvYjmT8klR0cn6eUP+5doquDAZA//tZiFTlciD+izPGdahuCP9UFZLisJHo/7OcbVlz6cj+BdDnu1wptP8J18JTymGY/S5TOWRIwYT/neyFwz/tZP8A+bMqO01Y/OqAqmoRpWD+Zt7v9Dn1bP4VWpSuNPl8/4vfj7CMqYT94zyA4eOxhPwp9rKRxl2g/f+WQMgpHbz/Epg/nwgBzP4g+hKhpznQ/fRi9lSH2dT9yc+93PNt2P0DYbNw5lXc/8o9Tbp0Qez8CaBWsQTyCP3EuYgyqUok/L7x4h0L4lD/Eva0nmf+gP1VWUkKdgag/BUejLfA2sD8DZU1heia0P9GFVukq27c/rBZid9REuz+p4b8i83m+PyABBnt70cA/eaHlqoVbwj/cKfWtzsjDP89P77jkAMU/qz/Zk6H4xT+IUs9oL6zGP4uc5dvwKcc/AfroAJV7xz+ZjfGHA6/HPwg2yQwZzcc/vMC4prffxz80XagAi+THP5DPs/Kossc/wwuj9Y8Ixz8KEXF8O5LFPyJ5y69mfcM/6EkJoZhhwT8HF4mt5cm+P2CelGOjyLo/\",\"dtype\":\"float64\",\"shape\":[75]},\"y\":{\"__ndarray__\":\"GhExyth1ND/Sv8nbtpRIP2vylNV0PVE/aTum7souWD/At0SJ8fVgPw3Iuahxymc/MSNhhJWvcD/bTfBN02d3P2zb5nxnaoA/CD5h5MAGhz8NmeH1TyaQP+zrCsc9p5Y/LbKd76fGnz/bLW5ISEmmPww9YvTcQq8/JV2OstnstT8Er5Y7M8G+P0c+r3jqkcU/5h99k6ZBzj88bCIzFzjVP4enV8oyxN0//yH99nXg5D8qOpLLf0jtP5kqGJXUifQ/c9cS8kHP/D+/DpwzojQEQIEmwoanVwxA4lgXt9HgE0BSSZ2AJuIbQAMJih9jjiNA5q4l5INuK0AwTKYKRj0zQNv5fmq8/DpAaCJseHrtQkB/+zpwzoxKQM3MzMzMeFJAZmZmZmZqWEAAAAAAAFxeQM3MzMzMJmJAmpmZmZkfZUBmZmZmZhhoQDMzMzMzEWtAAAAAAAAKbkBmZmZmZoFwQM3MzMzM/XFAMzMzMzN6c0CamZmZmfZ0QAAAAAAAc3ZAZmZmZmbvd0DNzMzMzGt5QDMzMzMz6HpAmpmZmZlkfEAAAAAAAOF9QGZmZmZmXX9AZmZmZuZsgECamZmZGSuBQM3MzMxM6YFAAAAAAICngkAzMzMzs2WDQGZmZmbmI4RAmpmZmRnihEDNzMzMTKCFQAAAAACAXoZAMzMzM7Mch0BmZmZm5tqHQJqZmZkZmYhAzczMzExXiUAAAAAAgBWKQDMzMzOz04pAZmZmZuaRi0CamZmZGVCMQM3MzMxMDo1AAAAAAIDMjUAzMzMzs4qOQGZmZmbmSI9A\",\"dtype\":\"float64\",\"shape\":[75]}}},\"id\":\"ad607d07-3fae-45f6-8eef-696d0147e045\",\"type\":\"ColumnDataSource\"},{\"attributes\":{},\"id\":\"9714c24c-c972-4e5b-b7a3-02792a9069f1\",\"type\":\"SaveTool\"},{\"attributes\":{\"source\":{\"id\":\"17c39a54-6839-4bea-9c04-7abcc7cca405\",\"type\":\"ColumnDataSource\"}},\"id\":\"a89121ec-d472-48d4-8f1e-233034d077fa\",\"type\":\"CDSView\"},{\"attributes\":{\"items\":[{\"id\":\"48d3b3a6-90a3-412e-9815-a7f2f7cf6bc5\",\"type\":\"LegendItem\"},{\"id\":\"75e93797-877e-46f9-950a-dd8e4046f94a\",\"type\":\"LegendItem\"},{\"id\":\"7530050c-8148-48f0-9459-5eb1e197db11\",\"type\":\"LegendItem\"}],\"label_text_font_size\":{\"value\":\"8pt\"},\"location\":[10,-30],\"plot\":{\"id\":\"9203cc47-60a8-4d9b-8d3b-47b57208f9fe\",\"subtype\":\"Figure\",\"type\":\"Plot\"}},\"id\":\"8f99b5cb-7582-4147-8430-826673609c3f\",\"type\":\"Legend\"},{\"attributes\":{\"fill_alpha\":{\"value\":0.7},\"fill_color\":{\"value\":\"#984ea3\"},\"line_alpha\":{\"value\":0.7},\"line_color\":{\"value\":\"#984ea3\"},\"x\":{\"field\":\"x\"},\"y\":{\"field\":\"y\"}},\"id\":\"0f098f08-0136-4349-91bf-52beebf0d387\",\"type\":\"Square\"},{\"attributes\":{\"callback\":null,\"end\":0.028733775683,\"start\":0.000803148017},\"id\":\"c0eb6460-c61b-4ab3-ac98-0807fbda2182\",\"type\":\"Range1d\"},{\"attributes\":{\"plot\":{\"id\":\"9203cc47-60a8-4d9b-8d3b-47b57208f9fe\",\"subtype\":\"Figure\",\"type\":\"Plot\"},\"ticker\":{\"id\":\"828b8271-c111-434c-a43e-fe567bcb6252\",\"type\":\"BasicTicker\"}},\"id\":\"a1dab8af-5297-46d8-9394-5e6be77d9634\",\"type\":\"Grid\"},{\"attributes\":{\"children\":[{\"id\":\"300c8b58-8f7f-447f-aeb5-312af8381374\",\"subtype\":\"Figure\",\"type\":\"Plot\"},{\"id\":\"9203cc47-60a8-4d9b-8d3b-47b57208f9fe\",\"subtype\":\"Figure\",\"type\":\"Plot\"}]},\"id\":\"a67d48f8-22cf-4ed7-9569-ae92182d911f\",\"type\":\"Row\"},{\"attributes\":{\"fill_alpha\":{\"value\":0.1},\"fill_color\":{\"value\":\"#1f77b4\"},\"line_alpha\":{\"value\":0.1},\"line_color\":{\"value\":\"#1f77b4\"},\"x\":{\"field\":\"x\"},\"y\":{\"field\":\"y\"}},\"id\":\"96516255-38c5-400b-a336-feaf3a364da0\",\"type\":\"Square\"},{\"attributes\":{\"data_source\":{\"id\":\"af794da8-15fb-4368-8075-3fb7931256c6\",\"type\":\"ColumnDataSource\"},\"glyph\":{\"id\":\"0f098f08-0136-4349-91bf-52beebf0d387\",\"type\":\"Square\"},\"hover_glyph\":null,\"muted_glyph\":null,\"nonselection_glyph\":{\"id\":\"96516255-38c5-400b-a336-feaf3a364da0\",\"type\":\"Square\"},\"selection_glyph\":null,\"view\":{\"id\":\"63a75ec9-d301-4f42-a408-b3c2160c3429\",\"type\":\"CDSView\"}},\"id\":\"4e981ccf-2544-4a27-8cd9-43e3aea3a125\",\"type\":\"GlyphRenderer\"},{\"attributes\":{\"source\":{\"id\":\"af794da8-15fb-4368-8075-3fb7931256c6\",\"type\":\"ColumnDataSource\"}},\"id\":\"63a75ec9-d301-4f42-a408-b3c2160c3429\",\"type\":\"CDSView\"},{\"attributes\":{\"line_alpha\":0.6,\"line_color\":\"#984ea3\",\"line_width\":3,\"x\":{\"field\":\"x\"},\"y\":{\"field\":\"y\"}},\"id\":\"799d720e-21d6-4930-869c-146d8eee4e46\",\"type\":\"Line\"},{\"attributes\":{\"label\":{\"value\":\"CRD\"},\"renderers\":[{\"id\":\"e9070405-42d8-4067-b2b4-3fc5c1086966\",\"type\":\"GlyphRenderer\"},{\"id\":\"97ceeb83-bc2f-4d00-b94e-f8a163a70404\",\"type\":\"GlyphRenderer\"}]},\"id\":\"75e93797-877e-46f9-950a-dd8e4046f94a\",\"type\":\"LegendItem\"},{\"attributes\":{\"line_alpha\":0.1,\"line_color\":\"#1f77b4\",\"line_width\":3,\"x\":{\"field\":\"x\"},\"y\":{\"field\":\"y\"}},\"id\":\"5b7dc896-e9f2-467d-a97d-b7fa569f549f\",\"type\":\"Line\"},{\"attributes\":{\"data_source\":{\"id\":\"ad607d07-3fae-45f6-8eef-696d0147e045\",\"type\":\"ColumnDataSource\"},\"glyph\":{\"id\":\"799d720e-21d6-4930-869c-146d8eee4e46\",\"type\":\"Line\"},\"hover_glyph\":null,\"muted_glyph\":null,\"nonselection_glyph\":{\"id\":\"5b7dc896-e9f2-467d-a97d-b7fa569f549f\",\"type\":\"Line\"},\"selection_glyph\":null,\"view\":{\"id\":\"c157bccf-2faa-4cb0-8e82-ca79e7b553c1\",\"type\":\"CDSView\"}},\"id\":\"11fefcac-d553-409f-b201-49fa2a569652\",\"type\":\"GlyphRenderer\"},{\"attributes\":{},\"id\":\"828b8271-c111-434c-a43e-fe567bcb6252\",\"type\":\"BasicTicker\"},{\"attributes\":{\"source\":{\"id\":\"ad607d07-3fae-45f6-8eef-696d0147e045\",\"type\":\"ColumnDataSource\"}},\"id\":\"c157bccf-2faa-4cb0-8e82-ca79e7b553c1\",\"type\":\"CDSView\"},{\"attributes\":{\"callback\":null,\"column_names\":[\"x\",\"y\"],\"data\":{\"x\":{\"__ndarray__\":\"VdYnLUnXZj9e0mihaiNpPyC6sld+Mm4/j4KhWKz3cT/DJyoCaCx1P16GbgcIv3g/d+Y4B6e3fD/KsNPPbpCAP0Kam6YHAIM/hEE/1ZOwhT8PT7hCv6eIP4GOj20064s/hOgQ8GR8jz+rFZacVXWRPz0LKzxWyZI/UehYhXYIlD8SmA0ji0iVPyF1Q2Q/mZY/6B+UO7nslz/XY9Ny2kuZP2Yk5gKZhpo/j9eLMvYjmT8klR0cn6eUP+5doquDAZA//tZiFTlciD+izPGdahuCP9UFZLisJHo/7OcbVlz6cj+BdDnu1wptP8J18JTymGY/S5TOWRIwYT/neyFwz/tZP8A+bMqO01Y/OqAqmoRpWD+Zt7v9Dn1bP4VWpSuNPl8/4vfj7CMqYT94zyA4eOxhPwp9rKRxl2g/f+WQMgpHbz/Epg/nwgBzP4g+hKhpznQ/fRi9lSH2dT9yc+93PNt2P0DYbNw5lXc/8o9Tbp0Qez8CaBWsQTyCP3EuYgyqUok/L7x4h0L4lD/Eva0nmf+gP1VWUkKdgag/BUejLfA2sD8DZU1heia0P9GFVukq27c/rBZid9REuz+p4b8i83m+PyABBnt70cA/eaHlqoVbwj/cKfWtzsjDP89P77jkAMU/qz/Zk6H4xT+IUs9oL6zGP4uc5dvwKcc/AfroAJV7xz+ZjfGHA6/HPwg2yQwZzcc/vMC4prffxz80XagAi+THP5DPs/Kossc/wwuj9Y8Ixz8KEXF8O5LFPyJ5y69mfcM/6EkJoZhhwT8HF4mt5cm+P2CelGOjyLo/\",\"dtype\":\"float64\",\"shape\":[75]},\"y\":{\"__ndarray__\":\"GhExyth1ND/Sv8nbtpRIP2vylNV0PVE/aTum7souWD/At0SJ8fVgPw3Iuahxymc/MSNhhJWvcD/bTfBN02d3P2zb5nxnaoA/CD5h5MAGhz8NmeH1TyaQP+zrCsc9p5Y/LbKd76fGnz/bLW5ISEmmPww9YvTcQq8/JV2OstnstT8Er5Y7M8G+P0c+r3jqkcU/5h99k6ZBzj88bCIzFzjVP4enV8oyxN0//yH99nXg5D8qOpLLf0jtP5kqGJXUifQ/c9cS8kHP/D+/DpwzojQEQIEmwoanVwxA4lgXt9HgE0BSSZ2AJuIbQAMJih9jjiNA5q4l5INuK0AwTKYKRj0zQNv5fmq8/DpAaCJseHrtQkB/+zpwzoxKQM3MzMzMeFJAZmZmZmZqWEAAAAAAAFxeQM3MzMzMJmJAmpmZmZkfZUBmZmZmZhhoQDMzMzMzEWtAAAAAAAAKbkBmZmZmZoFwQM3MzMzM/XFAMzMzMzN6c0CamZmZmfZ0QAAAAAAAc3ZAZmZmZmbvd0DNzMzMzGt5QDMzMzMz6HpAmpmZmZlkfEAAAAAAAOF9QGZmZmZmXX9AZmZmZuZsgECamZmZGSuBQM3MzMxM6YFAAAAAAICngkAzMzMzs2WDQGZmZmbmI4RAmpmZmRnihEDNzMzMTKCFQAAAAACAXoZAMzMzM7Mch0BmZmZm5tqHQJqZmZkZmYhAzczMzExXiUAAAAAAgBWKQDMzMzOz04pAZmZmZuaRi0CamZmZGVCMQM3MzMxMDo1AAAAAAIDMjUAzMzMzs4qOQGZmZmbmSI9A\",\"dtype\":\"float64\",\"shape\":[75]}}},\"id\":\"fe4c2797-91b8-4884-8317-cf83c111abcf\",\"type\":\"ColumnDataSource\"},{\"attributes\":{\"callback\":null,\"column_names\":[\"x\",\"y\"],\"data\":{\"x\":{\"__ndarray__\":\"AAAAAAAAAAAAAAAAAAAAABQSFRzxc6M/AAAAAAAAAAAAAAAAAAAAAGcW4DxOMYw/AAAAAAAAAAAAAAAAAAAAAHRoy5gGbpQ/90tUvgohfT/4J0QCPiZ/PzeI8t9lgZI/ZN/qQKNiij8eniPH3e2QP83F8dnAcZM/5LrT5Pwpkj+N139Hm32WP17qv4V35JQ/HF2lu+tsmD+boCVG0S6ZP0PvAXgTlZo/quB2vFcamT+/Aud4RAaVP4Vu/ngShZA/+lGximdriT90gFI/9/aCP606GX4qRXs/38QqAyKbcz88EkukFkVtP0H0m/8b32U/jPoOAIg7Xz9J2CVV3HJVP1ZZAAAspVE/Q2Pbnu9SUj/58WNJSsxUP1m/IoqMuFc//p5cO18YWj+8gYlN2WFbP0B3HUCz6mI/XCxpJs9laD/KnH8bqCNuP36oqAGZ0nA/KS7NwM8Xcj9F9rGhoyVzP8xDFD5cLHQ/KVocQlN+dz+y1M6+X71/PzUJ3pBGBYY/O44pnABqkj86HqhdkFCeP90TXmFFNqY/HonefP/zrT/2nZk/Ku6yPwAAAAAAAAAACwvIQJmktj9B1pXHgfS5P5GK1rxwCL0/BaUmyYwawD8i2StFVcDBP580/adVU8M/bjNX/mO+xD9nVr6AweLFP8UHsKehtsY/geb3JhtJxz9iv+W516zHP+oYoek28sc/hQrtIJ8lyD9ueKzfbVrIP0p1hWfXd8g/eGomxs9SyD9HlXp5rq3HP8Gn3r8eOMY/Cu96gichxD9vVjMhnAXCPxrGevaeQsA/\",\"dtype\":\"float64\",\"shape\":[75]},\"y\":{\"__ndarray__\":\"MCRxoNFnQT9dcvo90IdNP+qWHeIftlQ/dNWXAFcNXT8NYIJ9MWBkP10nQT3OlGw/j4BJYrQLdD9jyv8cUR58P6d8Yj6UuIM/4k9uirCpiz98QnbexmaTPzw3+LjyNps/eYMeIE4Woz9zNWieEsaqP8rD9h4kx7I/FYYSdwZXuj8CvMP1QXnCPxYvFobI6ck/F35wPnUs0j/hCb3+JH7ZPwumL75H4eE/FK5H4XoU6T/Xo3A9CpfxPwaBlUOLrPg/ira+oyFOAUCgGi/dJEYIQBE2PL1SBhFAwE2QInzhF0B3TrNAu78gQPXb14FzfidA0ZFc/kN6MEAFo5I6AR03QHtLOV/sNUBAxAq3fCS9RkC8zob8M79PQCgmb4CZcVVAMzMzMzNjW0BmZmZmZqpgQLzoK0gzo2NAAAAAAACcZkBEF9S3zJRpQJqZmZmZjWxAZmZmZmaGb0AQ5KCEmT9xQAAAAAAAvHJA8Btfe2Y4dEAIclDCzLR1QPiNrz0zMXdAEOSghJmteEAAAAAAACp6QPAbX3tmpntACXJQwswifUD3ja89M59+QDeJQWDlSH9ACHJQwswNgEAAAAAAAMyAQPiNrz0zioFABTkoYWZIgkD7xteemQaDQAhyUMLMxINAAAAAAACDhED4ja89M0GFQAU5KGFm/4VA+8bXnpm9hkAIclDCzHuHQAAAAAAAOohA+I2vPTP4iEAFOShhZraJQPvG156ZdIpACXJQwswyi0AAAAAAAPGLQPeNrz0zr4xABTkoYWZtjUD7xteemSuOQHEDPj/M6Y5A\",\"dtype\":\"float64\",\"shape\":[75]}}},\"id\":\"ba64dd88-7b84-4df5-bf29-4d56450f5c8c\",\"type\":\"ColumnDataSource\"},{\"attributes\":{\"children\":[{\"id\":\"40e943e1-708c-4292-aa23-5c46cb13e6d7\",\"type\":\"ToolbarBox\"},{\"id\":\"2b49b293-84a8-4f79-931a-98b5d952d06f\",\"type\":\"Column\"}]},\"id\":\"bab8ab2f-aabb-461f-8b09-95493849689a\",\"type\":\"Column\"},{\"attributes\":{\"label\":{\"value\":\"CLIRAD `coolr_bands`\"},\"renderers\":[{\"id\":\"7a3e0ebc-c3bd-4e7c-af8d-f088b060fca8\",\"type\":\"GlyphRenderer\"}]},\"id\":\"48d3b3a6-90a3-412e-9815-a7f2f7cf6bc5\",\"type\":\"LegendItem\"},{\"attributes\":{\"line_alpha\":0.6,\"line_color\":\"#e41a1c\",\"line_dash\":[6],\"line_width\":5,\"x\":{\"field\":\"x\"},\"y\":{\"field\":\"y\"}},\"id\":\"fddaea50-9486-46d6-b033-2a4a1e6ca3d1\",\"type\":\"Line\"},{\"attributes\":{\"callback\":null,\"end\":0.1930688427,\"start\":-0.0019115726999999999},\"id\":\"5a8e4a5f-f9c7-414c-834d-a87c3a32e076\",\"type\":\"Range1d\"},{\"attributes\":{\"fill_alpha\":{\"value\":0.1},\"fill_color\":{\"value\":\"#1f77b4\"},\"line_alpha\":{\"value\":0.1},\"line_color\":{\"value\":\"#1f77b4\"},\"x\":{\"field\":\"x\"},\"y\":{\"field\":\"y\"}},\"id\":\"00dfb112-92c3-4974-894f-3d8f105881e0\",\"type\":\"Square\"},{\"attributes\":{\"tools\":[{\"id\":\"5bfab27c-f330-436e-843e-433e51d1d611\",\"type\":\"PanTool\"},{\"id\":\"4c49761e-c341-4997-a0fd-e37966d5f629\",\"type\":\"WheelZoomTool\"},{\"id\":\"b79c3e96-2941-4dfa-8fbd-3d79c76820bb\",\"type\":\"BoxZoomTool\"},{\"id\":\"231f3958-bfbe-4cfe-9d3a-f79215d0faa4\",\"type\":\"SaveTool\"},{\"id\":\"5f7ae5b1-d06e-4393-a13c-1bd325dcde8a\",\"type\":\"ResetTool\"},{\"id\":\"5d8ee7cd-47d2-417f-89de-14cb5e5b9526\",\"type\":\"HelpTool\"},{\"id\":\"056aa997-4bc7-4f49-84e9-953d5d26e1b6\",\"type\":\"PanTool\"},{\"id\":\"10026f7d-d9b7-40ed-9264-b733e9ffb7cf\",\"type\":\"WheelZoomTool\"},{\"id\":\"c5c228a0-f702-45f0-b83b-1850cc828a9d\",\"type\":\"BoxZoomTool\"},{\"id\":\"9714c24c-c972-4e5b-b7a3-02792a9069f1\",\"type\":\"SaveTool\"},{\"id\":\"2e6aab92-283a-4952-aa85-29eea3fa88b8\",\"type\":\"ResetTool\"},{\"id\":\"172a7c06-eef5-4486-b3a9-846260d66dca\",\"type\":\"HelpTool\"}]},\"id\":\"b4a4aa2c-4269-4a85-b38c-6399de0e53c0\",\"type\":\"ProxyToolbar\"},{\"attributes\":{\"line_alpha\":0.1,\"line_color\":\"#1f77b4\",\"line_width\":3,\"x\":{\"field\":\"x\"},\"y\":{\"field\":\"y\"}},\"id\":\"c95a1d01-374c-4546-b7c7-b0bd536cdc91\",\"type\":\"Line\"},{\"attributes\":{\"bottom_units\":\"screen\",\"fill_alpha\":{\"value\":0.5},\"fill_color\":{\"value\":\"lightgrey\"},\"left_units\":\"screen\",\"level\":\"overlay\",\"line_alpha\":{\"value\":1.0},\"line_color\":{\"value\":\"black\"},\"line_dash\":[4,4],\"line_width\":{\"value\":2},\"plot\":null,\"render_mode\":\"css\",\"right_units\":\"screen\",\"top_units\":\"screen\"},\"id\":\"854673b2-5ecf-4ece-accb-99d5f8de4e63\",\"type\":\"BoxAnnotation\"},{\"attributes\":{\"data_source\":{\"id\":\"d5f8bacc-852e-4f8d-b4e2-63715bd22119\",\"type\":\"ColumnDataSource\"},\"glyph\":{\"id\":\"49eae2cc-f7d8-4b8a-8737-1c5faa273069\",\"type\":\"Line\"},\"hover_glyph\":null,\"muted_glyph\":null,\"nonselection_glyph\":{\"id\":\"762bbb44-ec05-4cd6-8813-1075dc2320d8\",\"type\":\"Line\"},\"selection_glyph\":null,\"view\":{\"id\":\"4243131a-2984-4fa8-a130-614923c39bfc\",\"type\":\"CDSView\"}},\"id\":\"c1ce000f-7e62-442e-afbb-5849970a859c\",\"type\":\"GlyphRenderer\"},{\"attributes\":{},\"id\":\"1f5625f5-d5e3-4017-b37c-7cc1a1c05194\",\"type\":\"LinearScale\"},{\"attributes\":{\"plot\":null,\"text\":\"Log pressure scale\"},\"id\":\"347a1b51-ccf5-438d-b6b2-158a00439e43\",\"type\":\"Title\"}],\"root_ids\":[\"bab8ab2f-aabb-461f-8b09-95493849689a\"]},\"title\":\"Bokeh Application\",\"version\":\"0.12.14\"}};\n",
       "  var render_items = [{\"docid\":\"b4c9c771-b4dc-41d8-9311-8e1f218517c2\",\"elementid\":\"2a92ebd8-5eaa-4c22-933d-8431f242318c\",\"modelid\":\"bab8ab2f-aabb-461f-8b09-95493849689a\"}];\n",
       "  root.Bokeh.embed.embed_items_notebook(docs_json, render_items);\n",
       "\n",
       "  }\n",
       "  if (root.Bokeh !== undefined) {\n",
       "    embed_document(root);\n",
       "  } else {\n",
       "    var attempts = 0;\n",
       "    var timer = setInterval(function(root) {\n",
       "      if (root.Bokeh !== undefined) {\n",
       "        embed_document(root);\n",
       "        clearInterval(timer);\n",
       "      }\n",
       "      attempts++;\n",
       "      if (attempts > 100) {\n",
       "        console.log(\"Bokeh: ERROR: Unable to run BokehJS code because BokehJS library is missing\")\n",
       "        clearInterval(timer);\n",
       "      }\n",
       "    }, 10, root)\n",
       "  }\n",
       "})(window);"
      ],
      "application/vnd.bokehjs_exec.v0+json": ""
     },
     "metadata": {
      "application/vnd.bokehjs_exec.v0+json": {
       "id": "bab8ab2f-aabb-461f-8b09-95493849689a"
      }
     },
     "output_type": "display_data"
    },
    {
     "name": "stdout",
     "output_type": "stream",
     "text": [
      "FIGURE. Cooling rate profiles.\n"
     ]
    },
    {
     "data": {
      "text/html": [
       "<a id=\"Flux_Comparison\"></a>"
      ],
      "text/plain": [
       "<IPython.core.display.HTML object>"
      ]
     },
     "metadata": {},
     "output_type": "display_data"
    },
    {
     "data": {
      "text/markdown": [
       "# Flux Comparison"
      ],
      "text/plain": [
       "<IPython.core.display.Markdown object>"
      ]
     },
     "metadata": {},
     "output_type": "display_data"
    },
    {
     "data": {
      "text/html": [
       "<div>\n",
       "<style>\n",
       "    .dataframe thead tr:only-child th {\n",
       "        text-align: right;\n",
       "    }\n",
       "\n",
       "    .dataframe thead th {\n",
       "        text-align: left;\n",
       "    }\n",
       "\n",
       "    .dataframe tbody tr th {\n",
       "        vertical-align: top;\n",
       "    }\n",
       "</style>\n",
       "<table border=\"1\" class=\"dataframe\">\n",
       "  <thead>\n",
       "    <tr style=\"text-align: right;\">\n",
       "      <th></th>\n",
       "      <th></th>\n",
       "      <th>flug</th>\n",
       "      <th>fldg</th>\n",
       "      <th>fnetg</th>\n",
       "    </tr>\n",
       "    <tr>\n",
       "      <th>pressure</th>\n",
       "      <th>level</th>\n",
       "      <th></th>\n",
       "      <th></th>\n",
       "      <th></th>\n",
       "    </tr>\n",
       "  </thead>\n",
       "  <tbody>\n",
       "    <tr>\n",
       "      <th>0.0000</th>\n",
       "      <th>1</th>\n",
       "      <td>-22.504215</td>\n",
       "      <td>0.000000</td>\n",
       "      <td>-22.504215</td>\n",
       "    </tr>\n",
       "    <tr>\n",
       "      <th>1.0685</th>\n",
       "      <th>24</th>\n",
       "      <td>-22.503419</td>\n",
       "      <td>0.002034</td>\n",
       "      <td>-22.501386</td>\n",
       "    </tr>\n",
       "    <tr>\n",
       "      <th>1013.0000</th>\n",
       "      <th>76</th>\n",
       "      <td>-23.591137</td>\n",
       "      <td>11.602302</td>\n",
       "      <td>-11.988836</td>\n",
       "    </tr>\n",
       "  </tbody>\n",
       "</table>\n",
       "</div>"
      ],
      "text/plain": [
       "                      flug       fldg      fnetg\n",
       "pressure  level                                 \n",
       "0.0000    1     -22.504215   0.000000 -22.504215\n",
       "1.0685    24    -22.503419   0.002034 -22.501386\n",
       "1013.0000 76    -23.591137  11.602302 -11.988836"
      ]
     },
     "metadata": {},
     "output_type": "display_data"
    },
    {
     "name": "stdout",
     "output_type": "stream",
     "text": [
      "Table. Fluxes. WGT igg=10 wgt_flux=1\n"
     ]
    },
    {
     "data": {
      "text/html": [
       "<div>\n",
       "<style>\n",
       "    .dataframe thead tr:only-child th {\n",
       "        text-align: right;\n",
       "    }\n",
       "\n",
       "    .dataframe thead th {\n",
       "        text-align: left;\n",
       "    }\n",
       "\n",
       "    .dataframe tbody tr th {\n",
       "        vertical-align: top;\n",
       "    }\n",
       "</style>\n",
       "<table border=\"1\" class=\"dataframe\">\n",
       "  <thead>\n",
       "    <tr style=\"text-align: right;\">\n",
       "      <th></th>\n",
       "      <th></th>\n",
       "      <th>flug</th>\n",
       "      <th>fldg</th>\n",
       "      <th>fnetg</th>\n",
       "    </tr>\n",
       "    <tr>\n",
       "      <th>pressure</th>\n",
       "      <th>level</th>\n",
       "      <th></th>\n",
       "      <th></th>\n",
       "      <th></th>\n",
       "    </tr>\n",
       "  </thead>\n",
       "  <tbody>\n",
       "    <tr>\n",
       "      <th>0.0000</th>\n",
       "      <th>1</th>\n",
       "      <td>-22.504461</td>\n",
       "      <td>0.000000</td>\n",
       "      <td>-22.504461</td>\n",
       "    </tr>\n",
       "    <tr>\n",
       "      <th>1.0685</th>\n",
       "      <th>24</th>\n",
       "      <td>-22.503683</td>\n",
       "      <td>0.002296</td>\n",
       "      <td>-22.501388</td>\n",
       "    </tr>\n",
       "    <tr>\n",
       "      <th>1013.0000</th>\n",
       "      <th>76</th>\n",
       "      <td>-23.591138</td>\n",
       "      <td>11.781512</td>\n",
       "      <td>-11.809626</td>\n",
       "    </tr>\n",
       "  </tbody>\n",
       "</table>\n",
       "</div>"
      ],
      "text/plain": [
       "                      flug       fldg      fnetg\n",
       "pressure  level                                 \n",
       "0.0000    1     -22.504461   0.000000 -22.504461\n",
       "1.0685    24    -22.503683   0.002296 -22.501388\n",
       "1013.0000 76    -23.591138  11.781512 -11.809626"
      ]
     },
     "metadata": {},
     "output_type": "display_data"
    },
    {
     "name": "stdout",
     "output_type": "stream",
     "text": [
      "Table. Fluxes. CRD\n"
     ]
    },
    {
     "data": {
      "text/html": [
       "<div>\n",
       "<style>\n",
       "    .dataframe thead tr:only-child th {\n",
       "        text-align: right;\n",
       "    }\n",
       "\n",
       "    .dataframe thead th {\n",
       "        text-align: left;\n",
       "    }\n",
       "\n",
       "    .dataframe tbody tr th {\n",
       "        vertical-align: top;\n",
       "    }\n",
       "</style>\n",
       "<table border=\"1\" class=\"dataframe\">\n",
       "  <thead>\n",
       "    <tr style=\"text-align: right;\">\n",
       "      <th></th>\n",
       "      <th></th>\n",
       "      <th>flug</th>\n",
       "      <th>fldg</th>\n",
       "      <th>fnetg</th>\n",
       "    </tr>\n",
       "    <tr>\n",
       "      <th>pressure</th>\n",
       "      <th>level</th>\n",
       "      <th></th>\n",
       "      <th></th>\n",
       "      <th></th>\n",
       "    </tr>\n",
       "  </thead>\n",
       "  <tbody>\n",
       "    <tr>\n",
       "      <th>0.0000</th>\n",
       "      <th>76</th>\n",
       "      <td>-23.591141</td>\n",
       "      <td>11.193611</td>\n",
       "      <td>-12.397530</td>\n",
       "    </tr>\n",
       "    <tr>\n",
       "      <th>0.9151</th>\n",
       "      <th>23</th>\n",
       "      <td>-22.574841</td>\n",
       "      <td>0.001793</td>\n",
       "      <td>-22.573048</td>\n",
       "    </tr>\n",
       "    <tr>\n",
       "      <th>1001.1120</th>\n",
       "      <th>75</th>\n",
       "      <td>-23.591141</td>\n",
       "      <td>11.193611</td>\n",
       "      <td>-12.397530</td>\n",
       "    </tr>\n",
       "  </tbody>\n",
       "</table>\n",
       "</div>"
      ],
      "text/plain": [
       "                      flug       fldg      fnetg\n",
       "pressure  level                                 \n",
       "0.0000    76    -23.591141  11.193611 -12.397530\n",
       "0.9151    23    -22.574841   0.001793 -22.573048\n",
       "1001.1120 75    -23.591141  11.193611 -12.397530"
      ]
     },
     "metadata": {},
     "output_type": "display_data"
    },
    {
     "name": "stdout",
     "output_type": "stream",
     "text": [
      "Table. Fluxes. CLIRAD\n"
     ]
    },
    {
     "data": {
      "text/html": [
       "<div>\n",
       "<style>\n",
       "    .dataframe thead tr:only-child th {\n",
       "        text-align: right;\n",
       "    }\n",
       "\n",
       "    .dataframe thead th {\n",
       "        text-align: left;\n",
       "    }\n",
       "\n",
       "    .dataframe tbody tr th {\n",
       "        vertical-align: top;\n",
       "    }\n",
       "</style>\n",
       "<table border=\"1\" class=\"dataframe\">\n",
       "  <thead>\n",
       "    <tr style=\"text-align: right;\">\n",
       "      <th></th>\n",
       "      <th></th>\n",
       "      <th>flug</th>\n",
       "      <th>fldg</th>\n",
       "      <th>fnetg</th>\n",
       "    </tr>\n",
       "    <tr>\n",
       "      <th>pressure</th>\n",
       "      <th>level</th>\n",
       "      <th></th>\n",
       "      <th></th>\n",
       "      <th></th>\n",
       "    </tr>\n",
       "  </thead>\n",
       "  <tbody>\n",
       "    <tr>\n",
       "      <th>0.0000</th>\n",
       "      <th>1</th>\n",
       "      <td>-2.457580e-04</td>\n",
       "      <td>0.000000</td>\n",
       "      <td>-0.000246</td>\n",
       "    </tr>\n",
       "    <tr>\n",
       "      <th>1.0685</th>\n",
       "      <th>24</th>\n",
       "      <td>-2.643440e-04</td>\n",
       "      <td>0.000262</td>\n",
       "      <td>-0.000002</td>\n",
       "    </tr>\n",
       "    <tr>\n",
       "      <th>1013.0000</th>\n",
       "      <th>76</th>\n",
       "      <td>-6.190000e-07</td>\n",
       "      <td>0.179210</td>\n",
       "      <td>0.179210</td>\n",
       "    </tr>\n",
       "  </tbody>\n",
       "</table>\n",
       "</div>"
      ],
      "text/plain": [
       "                         flug      fldg     fnetg\n",
       "pressure  level                                  \n",
       "0.0000    1     -2.457580e-04  0.000000 -0.000246\n",
       "1.0685    24    -2.643440e-04  0.000262 -0.000002\n",
       "1013.0000 76    -6.190000e-07  0.179210  0.179210"
      ]
     },
     "metadata": {},
     "output_type": "display_data"
    },
    {
     "name": "stdout",
     "output_type": "stream",
     "text": [
      "Table. Fluxes. (CRD) - (WGT igg=10 wgt_flux=1)\n"
     ]
    },
    {
     "data": {
      "text/html": [
       "<div>\n",
       "<style>\n",
       "    .dataframe thead tr:only-child th {\n",
       "        text-align: right;\n",
       "    }\n",
       "\n",
       "    .dataframe thead th {\n",
       "        text-align: left;\n",
       "    }\n",
       "\n",
       "    .dataframe tbody tr th {\n",
       "        vertical-align: top;\n",
       "    }\n",
       "</style>\n",
       "<table border=\"1\" class=\"dataframe\">\n",
       "  <thead>\n",
       "    <tr style=\"text-align: right;\">\n",
       "      <th></th>\n",
       "      <th></th>\n",
       "      <th>flug</th>\n",
       "      <th>fldg</th>\n",
       "      <th>fnetg</th>\n",
       "    </tr>\n",
       "    <tr>\n",
       "      <th>pressure</th>\n",
       "      <th>level</th>\n",
       "      <th></th>\n",
       "      <th></th>\n",
       "      <th></th>\n",
       "    </tr>\n",
       "  </thead>\n",
       "  <tbody>\n",
       "    <tr>\n",
       "      <th>0.0000</th>\n",
       "      <th>1</th>\n",
       "      <td>-1.086926</td>\n",
       "      <td>11.193611</td>\n",
       "      <td>10.106685</td>\n",
       "    </tr>\n",
       "    <tr>\n",
       "      <th>1.0685</th>\n",
       "      <th>24</th>\n",
       "      <td>-0.071422</td>\n",
       "      <td>-0.000241</td>\n",
       "      <td>-0.071662</td>\n",
       "    </tr>\n",
       "    <tr>\n",
       "      <th>1013.0000</th>\n",
       "      <th>76</th>\n",
       "      <td>-0.000004</td>\n",
       "      <td>-0.408691</td>\n",
       "      <td>-0.408694</td>\n",
       "    </tr>\n",
       "  </tbody>\n",
       "</table>\n",
       "</div>"
      ],
      "text/plain": [
       "                     flug       fldg      fnetg\n",
       "pressure  level                                \n",
       "0.0000    1     -1.086926  11.193611  10.106685\n",
       "1.0685    24    -0.071422  -0.000241  -0.071662\n",
       "1013.0000 76    -0.000004  -0.408691  -0.408694"
      ]
     },
     "metadata": {},
     "output_type": "display_data"
    },
    {
     "name": "stdout",
     "output_type": "stream",
     "text": [
      "Table. Fluxes. (CLIRAD) - (WGT igg=10 wgt_flux=1)\n"
     ]
    },
    {
     "data": {
      "text/html": [
       "<a id=\"Best-fit_Parameters\"></a>"
      ],
      "text/plain": [
       "<IPython.core.display.HTML object>"
      ]
     },
     "metadata": {},
     "output_type": "display_data"
    },
    {
     "data": {
      "text/markdown": [
       "# Best-fit Parameters"
      ],
      "text/plain": [
       "<IPython.core.display.Markdown object>"
      ]
     },
     "metadata": {},
     "output_type": "display_data"
    },
    {
     "name": "stdout",
     "output_type": "stream",
     "text": [
      "Best-fit values for each (gas, band)\n",
      "------------------------------------\n",
      "o h2o band3a\n",
      "  atmpro = mls\n",
      "  band = 3a\n",
      "  commitnumber = 5014a19\n",
      "  conc = None\n",
      "  dv = 0.01\n",
      "  klin = 0\n",
      "  molecule = h2o\n",
      "  ng_adju = [0, 0]\n",
      "  ng_refs = [2, 6]\n",
      "  nv = 100\n",
      "  option_compute_btable = 0\n",
      "  option_compute_ktable = 1\n",
      "  option_wgt_flux = 1\n",
      "  option_wgt_k = 1\n",
      "  ref_pts = [(10, 250), (600, 250)]\n",
      "  tsfc = 294\n",
      "  vmax = 620\n",
      "  vmin = 540\n",
      "  w_diffuse = [(1.9, 1.7), (1.4, 1.4, 1.4, 1.55, 1.6, 1.66)]\n",
      "  wgt = [(0.7, 0.7), (0.7, 0.5, 0.5, 0.5, 0.5, 0.5)]\n"
     ]
    }
   ],
   "source": [
    "script()"
   ]
  },
  {
   "cell_type": "code",
   "execution_count": 13,
   "metadata": {
    "collapsed": true
   },
   "outputs": [
    {
     "data": {
      "text/html": [
       "<script>\n",
       "code_show=true; \n",
       "function code_toggle() {\n",
       " if (code_show){\n",
       " $('div.input').hide();\n",
       " } else {\n",
       " $('div.input').show();\n",
       " }\n",
       " code_show = !code_show\n",
       "} \n",
       "$( document ).ready(code_toggle);\n",
       "</script>\n",
       "<form action=\"javascript:code_toggle()\"><input type=\"submit\" value=\"Click here to toggle on/off the raw code.\"></form>"
      ],
      "text/plain": [
       "<IPython.core.display.HTML object>"
      ]
     },
     "execution_count": 13,
     "metadata": {},
     "output_type": "execute_result"
    }
   ],
   "source": [
    "display.HTML('''<script>\n",
    "code_show=true; \n",
    "function code_toggle() {\n",
    " if (code_show){\n",
    " $('div.input').hide();\n",
    " } else {\n",
    " $('div.input').show();\n",
    " }\n",
    " code_show = !code_show\n",
    "} \n",
    "$( document ).ready(code_toggle);\n",
    "</script>\n",
    "<form action=\"javascript:code_toggle()\"><input type=\"submit\" value=\"Click here to toggle on/off the raw code.\"></form>''')"
   ]
  }
 ],
 "metadata": {
  "kernelspec": {
   "display_name": "Python 3",
   "language": "python",
   "name": "python3"
  },
  "language_info": {
   "codemirror_mode": {
    "name": "ipython",
    "version": 3
   },
   "file_extension": ".py",
   "mimetype": "text/x-python",
   "name": "python",
   "nbconvert_exporter": "python",
   "pygments_lexer": "ipython3",
   "version": "3.6.1"
  }
 },
 "nbformat": 4,
 "nbformat_minor": 2
}
