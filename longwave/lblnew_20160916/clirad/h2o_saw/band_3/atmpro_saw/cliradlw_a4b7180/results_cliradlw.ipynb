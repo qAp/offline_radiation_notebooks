{
 "cells": [
  {
   "cell_type": "code",
   "execution_count": 1,
   "metadata": {
    "collapsed": true
   },
   "outputs": [],
   "source": [
    "%matplotlib inline\n",
    "import os\n",
    "import re\n",
    "import io\n",
    "import itertools\n",
    "import pprint\n",
    "\n",
    "from bokeh.io import output_notebook, show\n",
    "from bokeh.layouts import gridplot\n",
    "from bokeh.plotting import figure\n",
    "from bokeh.models import Range1d, Legend\n",
    "from bokeh.palettes import all_palettes\n",
    "\n",
    "import matplotlib\n",
    "import matplotlib.pyplot as plt\n",
    "import numpy as np\n",
    "import pandas as pd\n",
    "import xarray as xr\n",
    "\n",
    "import climatools.lblnew.bestfit_params as bestfits\n",
    "from climatools.lblnew import setup_bestfit, setup_overlap\n",
    "import climatools.lblnew.pipeline as pipe_lblnew\n",
    "import climatools.cliradlw.setup as setup_cliradlw\n",
    "import climatools.cliradlw.pipeline as pipe_cliradlw\n",
    "\n",
    "import climatools.html.html as climahtml\n",
    "from climatools.lblnew.dataio import *\n",
    "from climatools.plot.plot import *\n",
    "\n",
    "\n",
    "import IPython.display as display"
   ]
  },
  {
   "cell_type": "code",
   "execution_count": 2,
   "metadata": {
    "collapsed": true
   },
   "outputs": [],
   "source": [
    "%run param.py"
   ]
  },
  {
   "cell_type": "code",
   "execution_count": 3,
   "metadata": {
    "collapsed": true
   },
   "outputs": [],
   "source": [
    "def load_output_file(path_csv):\n",
    "    '''\n",
    "    Load lblnew output .csv file to xarray.Dataset\n",
    "    \n",
    "    Parameters\n",
    "    ----------\n",
    "    path_csv: str\n",
    "              Path to the .csv file to be loaded.\n",
    "    ds: xarray.Dataset\n",
    "        Data in the input file in the form of an xarray.Dataset.\n",
    "    '''\n",
    "    toindex = ['band', 'pressure', 'igg', 'g']    \n",
    "    df = pd.read_csv(path_csv, sep=r'\\s+')\n",
    "    df = df.set_index([i for i in toindex if i in df.columns])\n",
    "    df = df.rename(columns={'sfu': 'flug',\n",
    "                            'sfd': 'fldg',\n",
    "                            'fnet': 'fnetg',\n",
    "                            'coolr': 'coolrg'})\n",
    "    ds = xr.Dataset.from_dataframe(df)\n",
    "\n",
    "    for l in ('level', 'layer'):\n",
    "        if l in ds.data_vars:\n",
    "            if len(ds[l].dims) > 1:\n",
    "                surface = {d: 0 for d in ds.dims if d != 'pressure'}\n",
    "                coord_level = ds[l][surface]\n",
    "                ds.coords[l] = ('pressure', coord_level)\n",
    "            else:\n",
    "                ds.coords[l] = ('pressure', ds[l])\n",
    "    \n",
    "    return ds"
   ]
  },
  {
   "cell_type": "code",
   "execution_count": 4,
   "metadata": {
    "collapsed": true
   },
   "outputs": [],
   "source": [
    "def lblnew_setup(param=None):\n",
    "    if 'ng_refs' in param:\n",
    "        return {'setup': setup_bestfit,\n",
    "                'fname_flux_crd': 'output_flux.dat',\n",
    "                'fname_cool_crd': 'output_coolr.dat',\n",
    "                'fname_flux_wgt': 'output_wfluxg.dat',\n",
    "                'fname_cool_wgt': 'output_wcoolrg.dat'}\n",
    "    else:\n",
    "        return {'setup': setup_overlap,\n",
    "                'fname_flux_crd': 'output_flux.dat',\n",
    "                'fname_cool_crd': 'output_coolr.dat',\n",
    "                'fname_flux_wgt': 'output_wflux.dat',\n",
    "                'fname_cool_wgt': 'output_wcoolr.dat'}\n",
    "\n",
    "    \n",
    "def load_lblnew_data(param):\n",
    "    \n",
    "    fname_dsname = [('fname_flux_crd', 'ds_flux_crd'),\n",
    "                    ('fname_cool_crd', 'ds_cool_crd'),\n",
    "                    ('fname_flux_wgt', 'ds_flux_wgt'),\n",
    "                    ('fname_cool_wgt', 'ds_cool_wgt')]\n",
    "    \n",
    "    d = lblnew_setup(param)\n",
    "    dir_fortran = pipe_lblnew.get_dir_case(param, setup=d['setup'])\n",
    "    \n",
    "    data_dict = {}\n",
    "    for fname, dsname in fname_dsname:\n",
    "        fpath = os.path.join(dir_fortran, d[fname])\n",
    "        data_dict[dsname] = load_output_file(fpath)\n",
    "    return data_dict\n",
    "    \n",
    "\n",
    "    \n",
    "    "
   ]
  },
  {
   "cell_type": "code",
   "execution_count": 5,
   "metadata": {
    "collapsed": true
   },
   "outputs": [],
   "source": [
    "d = load_lblnew_data(PARAM_LBLNEW)\n",
    "\n",
    "DS_FLUX_CRD = d['ds_flux_crd']\n",
    "DS_COOL_CRD = d['ds_cool_crd']\n",
    "DS_FLUX_WGT = d['ds_flux_wgt']\n",
    "DS_COOL_WGT = d['ds_cool_wgt']"
   ]
  },
  {
   "cell_type": "code",
   "execution_count": 6,
   "metadata": {
    "collapsed": true
   },
   "outputs": [],
   "source": [
    "DIR_FORTRAN = pipe_cliradlw.get_fortran_dir(PARAM, \n",
    "                                            setup=setup_cliradlw)\n",
    "\n",
    "PATH_FLUX = os.path.join(DIR_FORTRAN, 'output_flux.dat')\n",
    "PATH_COOL = os.path.join(DIR_FORTRAN, 'output_coolr.dat')\n",
    "\n",
    "DS_FLUX = load_output_file(PATH_FLUX)\n",
    "DS_COOL = load_output_file(PATH_COOL)"
   ]
  },
  {
   "cell_type": "code",
   "execution_count": 7,
   "metadata": {
    "collapsed": true
   },
   "outputs": [
    {
     "data": {
      "text/html": [
       "\n",
       "    <div class=\"bk-root\">\n",
       "        <a href=\"https://bokeh.pydata.org\" target=\"_blank\" class=\"bk-logo bk-logo-small bk-logo-notebook\"></a>\n",
       "        <span id=\"3f6180e0-cf59-4b57-9ccc-b29da047f194\">Loading BokehJS ...</span>\n",
       "    </div>"
      ]
     },
     "metadata": {},
     "output_type": "display_data"
    },
    {
     "data": {
      "application/javascript": [
       "\n",
       "(function(root) {\n",
       "  function now() {\n",
       "    return new Date();\n",
       "  }\n",
       "\n",
       "  var force = true;\n",
       "\n",
       "  if (typeof (root._bokeh_onload_callbacks) === \"undefined\" || force === true) {\n",
       "    root._bokeh_onload_callbacks = [];\n",
       "    root._bokeh_is_loading = undefined;\n",
       "  }\n",
       "\n",
       "  var JS_MIME_TYPE = 'application/javascript';\n",
       "  var HTML_MIME_TYPE = 'text/html';\n",
       "  var EXEC_MIME_TYPE = 'application/vnd.bokehjs_exec.v0+json';\n",
       "  var CLASS_NAME = 'output_bokeh rendered_html';\n",
       "\n",
       "  /**\n",
       "   * Render data to the DOM node\n",
       "   */\n",
       "  function render(props, node) {\n",
       "    var script = document.createElement(\"script\");\n",
       "    node.appendChild(script);\n",
       "  }\n",
       "\n",
       "  /**\n",
       "   * Handle when an output is cleared or removed\n",
       "   */\n",
       "  function handleClearOutput(event, handle) {\n",
       "    var cell = handle.cell;\n",
       "\n",
       "    var id = cell.output_area._bokeh_element_id;\n",
       "    var server_id = cell.output_area._bokeh_server_id;\n",
       "    // Clean up Bokeh references\n",
       "    if (id !== undefined) {\n",
       "      Bokeh.index[id].model.document.clear();\n",
       "      delete Bokeh.index[id];\n",
       "    }\n",
       "\n",
       "    if (server_id !== undefined) {\n",
       "      // Clean up Bokeh references\n",
       "      var cmd = \"from bokeh.io.state import curstate; print(curstate().uuid_to_server['\" + server_id + \"'].get_sessions()[0].document.roots[0]._id)\";\n",
       "      cell.notebook.kernel.execute(cmd, {\n",
       "        iopub: {\n",
       "          output: function(msg) {\n",
       "            var element_id = msg.content.text.trim();\n",
       "            Bokeh.index[element_id].model.document.clear();\n",
       "            delete Bokeh.index[element_id];\n",
       "          }\n",
       "        }\n",
       "      });\n",
       "      // Destroy server and session\n",
       "      var cmd = \"import bokeh.io.notebook as ion; ion.destroy_server('\" + server_id + \"')\";\n",
       "      cell.notebook.kernel.execute(cmd);\n",
       "    }\n",
       "  }\n",
       "\n",
       "  /**\n",
       "   * Handle when a new output is added\n",
       "   */\n",
       "  function handleAddOutput(event, handle) {\n",
       "    var output_area = handle.output_area;\n",
       "    var output = handle.output;\n",
       "\n",
       "    // limit handleAddOutput to display_data with EXEC_MIME_TYPE content only\n",
       "    if ((output.output_type != \"display_data\") || (!output.data.hasOwnProperty(EXEC_MIME_TYPE))) {\n",
       "      return\n",
       "    }\n",
       "\n",
       "    var toinsert = output_area.element.find(\".\" + CLASS_NAME.split(' ')[0]);\n",
       "\n",
       "    if (output.metadata[EXEC_MIME_TYPE][\"id\"] !== undefined) {\n",
       "      toinsert[0].firstChild.textContent = output.data[JS_MIME_TYPE];\n",
       "      // store reference to embed id on output_area\n",
       "      output_area._bokeh_element_id = output.metadata[EXEC_MIME_TYPE][\"id\"];\n",
       "    }\n",
       "    if (output.metadata[EXEC_MIME_TYPE][\"server_id\"] !== undefined) {\n",
       "      var bk_div = document.createElement(\"div\");\n",
       "      bk_div.innerHTML = output.data[HTML_MIME_TYPE];\n",
       "      var script_attrs = bk_div.children[0].attributes;\n",
       "      for (var i = 0; i < script_attrs.length; i++) {\n",
       "        toinsert[0].firstChild.setAttribute(script_attrs[i].name, script_attrs[i].value);\n",
       "      }\n",
       "      // store reference to server id on output_area\n",
       "      output_area._bokeh_server_id = output.metadata[EXEC_MIME_TYPE][\"server_id\"];\n",
       "    }\n",
       "  }\n",
       "\n",
       "  function register_renderer(events, OutputArea) {\n",
       "\n",
       "    function append_mime(data, metadata, element) {\n",
       "      // create a DOM node to render to\n",
       "      var toinsert = this.create_output_subarea(\n",
       "        metadata,\n",
       "        CLASS_NAME,\n",
       "        EXEC_MIME_TYPE\n",
       "      );\n",
       "      this.keyboard_manager.register_events(toinsert);\n",
       "      // Render to node\n",
       "      var props = {data: data, metadata: metadata[EXEC_MIME_TYPE]};\n",
       "      render(props, toinsert[0]);\n",
       "      element.append(toinsert);\n",
       "      return toinsert\n",
       "    }\n",
       "\n",
       "    /* Handle when an output is cleared or removed */\n",
       "    events.on('clear_output.CodeCell', handleClearOutput);\n",
       "    events.on('delete.Cell', handleClearOutput);\n",
       "\n",
       "    /* Handle when a new output is added */\n",
       "    events.on('output_added.OutputArea', handleAddOutput);\n",
       "\n",
       "    /**\n",
       "     * Register the mime type and append_mime function with output_area\n",
       "     */\n",
       "    OutputArea.prototype.register_mime_type(EXEC_MIME_TYPE, append_mime, {\n",
       "      /* Is output safe? */\n",
       "      safe: true,\n",
       "      /* Index of renderer in `output_area.display_order` */\n",
       "      index: 0\n",
       "    });\n",
       "  }\n",
       "\n",
       "  // register the mime type if in Jupyter Notebook environment and previously unregistered\n",
       "  if (root.Jupyter !== undefined) {\n",
       "    var events = require('base/js/events');\n",
       "    var OutputArea = require('notebook/js/outputarea').OutputArea;\n",
       "\n",
       "    if (OutputArea.prototype.mime_types().indexOf(EXEC_MIME_TYPE) == -1) {\n",
       "      register_renderer(events, OutputArea);\n",
       "    }\n",
       "  }\n",
       "\n",
       "  \n",
       "  if (typeof (root._bokeh_timeout) === \"undefined\" || force === true) {\n",
       "    root._bokeh_timeout = Date.now() + 5000;\n",
       "    root._bokeh_failed_load = false;\n",
       "  }\n",
       "\n",
       "  var NB_LOAD_WARNING = {'data': {'text/html':\n",
       "     \"<div style='background-color: #fdd'>\\n\"+\n",
       "     \"<p>\\n\"+\n",
       "     \"BokehJS does not appear to have successfully loaded. If loading BokehJS from CDN, this \\n\"+\n",
       "     \"may be due to a slow or bad network connection. Possible fixes:\\n\"+\n",
       "     \"</p>\\n\"+\n",
       "     \"<ul>\\n\"+\n",
       "     \"<li>re-rerun `output_notebook()` to attempt to load from CDN again, or</li>\\n\"+\n",
       "     \"<li>use INLINE resources instead, as so:</li>\\n\"+\n",
       "     \"</ul>\\n\"+\n",
       "     \"<code>\\n\"+\n",
       "     \"from bokeh.resources import INLINE\\n\"+\n",
       "     \"output_notebook(resources=INLINE)\\n\"+\n",
       "     \"</code>\\n\"+\n",
       "     \"</div>\"}};\n",
       "\n",
       "  function display_loaded() {\n",
       "    var el = document.getElementById(\"3f6180e0-cf59-4b57-9ccc-b29da047f194\");\n",
       "    if (el != null) {\n",
       "      el.textContent = \"BokehJS is loading...\";\n",
       "    }\n",
       "    if (root.Bokeh !== undefined) {\n",
       "      if (el != null) {\n",
       "        el.textContent = \"BokehJS \" + root.Bokeh.version + \" successfully loaded.\";\n",
       "      }\n",
       "    } else if (Date.now() < root._bokeh_timeout) {\n",
       "      setTimeout(display_loaded, 100)\n",
       "    }\n",
       "  }\n",
       "\n",
       "\n",
       "  function run_callbacks() {\n",
       "    try {\n",
       "      root._bokeh_onload_callbacks.forEach(function(callback) { callback() });\n",
       "    }\n",
       "    finally {\n",
       "      delete root._bokeh_onload_callbacks\n",
       "    }\n",
       "    console.info(\"Bokeh: all callbacks have finished\");\n",
       "  }\n",
       "\n",
       "  function load_libs(js_urls, callback) {\n",
       "    root._bokeh_onload_callbacks.push(callback);\n",
       "    if (root._bokeh_is_loading > 0) {\n",
       "      console.log(\"Bokeh: BokehJS is being loaded, scheduling callback at\", now());\n",
       "      return null;\n",
       "    }\n",
       "    if (js_urls == null || js_urls.length === 0) {\n",
       "      run_callbacks();\n",
       "      return null;\n",
       "    }\n",
       "    console.log(\"Bokeh: BokehJS not loaded, scheduling load and callback at\", now());\n",
       "    root._bokeh_is_loading = js_urls.length;\n",
       "    for (var i = 0; i < js_urls.length; i++) {\n",
       "      var url = js_urls[i];\n",
       "      var s = document.createElement('script');\n",
       "      s.src = url;\n",
       "      s.async = false;\n",
       "      s.onreadystatechange = s.onload = function() {\n",
       "        root._bokeh_is_loading--;\n",
       "        if (root._bokeh_is_loading === 0) {\n",
       "          console.log(\"Bokeh: all BokehJS libraries loaded\");\n",
       "          run_callbacks()\n",
       "        }\n",
       "      };\n",
       "      s.onerror = function() {\n",
       "        console.warn(\"failed to load library \" + url);\n",
       "      };\n",
       "      console.log(\"Bokeh: injecting script tag for BokehJS library: \", url);\n",
       "      document.getElementsByTagName(\"head\")[0].appendChild(s);\n",
       "    }\n",
       "  };var element = document.getElementById(\"3f6180e0-cf59-4b57-9ccc-b29da047f194\");\n",
       "  if (element == null) {\n",
       "    console.log(\"Bokeh: ERROR: autoload.js configured with elementid '3f6180e0-cf59-4b57-9ccc-b29da047f194' but no matching script tag was found. \")\n",
       "    return false;\n",
       "  }\n",
       "\n",
       "  var js_urls = [\"https://cdn.pydata.org/bokeh/release/bokeh-0.12.14.min.js\", \"https://cdn.pydata.org/bokeh/release/bokeh-widgets-0.12.14.min.js\", \"https://cdn.pydata.org/bokeh/release/bokeh-tables-0.12.14.min.js\", \"https://cdn.pydata.org/bokeh/release/bokeh-gl-0.12.14.min.js\"];\n",
       "\n",
       "  var inline_js = [\n",
       "    function(Bokeh) {\n",
       "      Bokeh.set_log_level(\"info\");\n",
       "    },\n",
       "    \n",
       "    function(Bokeh) {\n",
       "      \n",
       "    },\n",
       "    function(Bokeh) {\n",
       "      console.log(\"Bokeh: injecting CSS: https://cdn.pydata.org/bokeh/release/bokeh-0.12.14.min.css\");\n",
       "      Bokeh.embed.inject_css(\"https://cdn.pydata.org/bokeh/release/bokeh-0.12.14.min.css\");\n",
       "      console.log(\"Bokeh: injecting CSS: https://cdn.pydata.org/bokeh/release/bokeh-widgets-0.12.14.min.css\");\n",
       "      Bokeh.embed.inject_css(\"https://cdn.pydata.org/bokeh/release/bokeh-widgets-0.12.14.min.css\");\n",
       "      console.log(\"Bokeh: injecting CSS: https://cdn.pydata.org/bokeh/release/bokeh-tables-0.12.14.min.css\");\n",
       "      Bokeh.embed.inject_css(\"https://cdn.pydata.org/bokeh/release/bokeh-tables-0.12.14.min.css\");\n",
       "    }\n",
       "  ];\n",
       "\n",
       "  function run_inline_js() {\n",
       "    \n",
       "    if ((root.Bokeh !== undefined) || (force === true)) {\n",
       "      for (var i = 0; i < inline_js.length; i++) {\n",
       "        inline_js[i].call(root, root.Bokeh);\n",
       "      }if (force === true) {\n",
       "        display_loaded();\n",
       "      }} else if (Date.now() < root._bokeh_timeout) {\n",
       "      setTimeout(run_inline_js, 100);\n",
       "    } else if (!root._bokeh_failed_load) {\n",
       "      console.log(\"Bokeh: BokehJS failed to load within specified timeout.\");\n",
       "      root._bokeh_failed_load = true;\n",
       "    } else if (force !== true) {\n",
       "      var cell = $(document.getElementById(\"3f6180e0-cf59-4b57-9ccc-b29da047f194\")).parents('.cell').data().cell;\n",
       "      cell.output_area.append_execute_result(NB_LOAD_WARNING)\n",
       "    }\n",
       "\n",
       "  }\n",
       "\n",
       "  if (root._bokeh_is_loading === 0) {\n",
       "    console.log(\"Bokeh: BokehJS loaded, going straight to plotting\");\n",
       "    run_inline_js();\n",
       "  } else {\n",
       "    load_libs(js_urls, function() {\n",
       "      console.log(\"Bokeh: BokehJS plotting callback run at\", now());\n",
       "      run_inline_js();\n",
       "    });\n",
       "  }\n",
       "}(window));"
      ],
      "application/vnd.bokehjs_load.v0+json": "\n(function(root) {\n  function now() {\n    return new Date();\n  }\n\n  var force = true;\n\n  if (typeof (root._bokeh_onload_callbacks) === \"undefined\" || force === true) {\n    root._bokeh_onload_callbacks = [];\n    root._bokeh_is_loading = undefined;\n  }\n\n  \n\n  \n  if (typeof (root._bokeh_timeout) === \"undefined\" || force === true) {\n    root._bokeh_timeout = Date.now() + 5000;\n    root._bokeh_failed_load = false;\n  }\n\n  var NB_LOAD_WARNING = {'data': {'text/html':\n     \"<div style='background-color: #fdd'>\\n\"+\n     \"<p>\\n\"+\n     \"BokehJS does not appear to have successfully loaded. If loading BokehJS from CDN, this \\n\"+\n     \"may be due to a slow or bad network connection. Possible fixes:\\n\"+\n     \"</p>\\n\"+\n     \"<ul>\\n\"+\n     \"<li>re-rerun `output_notebook()` to attempt to load from CDN again, or</li>\\n\"+\n     \"<li>use INLINE resources instead, as so:</li>\\n\"+\n     \"</ul>\\n\"+\n     \"<code>\\n\"+\n     \"from bokeh.resources import INLINE\\n\"+\n     \"output_notebook(resources=INLINE)\\n\"+\n     \"</code>\\n\"+\n     \"</div>\"}};\n\n  function display_loaded() {\n    var el = document.getElementById(\"3f6180e0-cf59-4b57-9ccc-b29da047f194\");\n    if (el != null) {\n      el.textContent = \"BokehJS is loading...\";\n    }\n    if (root.Bokeh !== undefined) {\n      if (el != null) {\n        el.textContent = \"BokehJS \" + root.Bokeh.version + \" successfully loaded.\";\n      }\n    } else if (Date.now() < root._bokeh_timeout) {\n      setTimeout(display_loaded, 100)\n    }\n  }\n\n\n  function run_callbacks() {\n    try {\n      root._bokeh_onload_callbacks.forEach(function(callback) { callback() });\n    }\n    finally {\n      delete root._bokeh_onload_callbacks\n    }\n    console.info(\"Bokeh: all callbacks have finished\");\n  }\n\n  function load_libs(js_urls, callback) {\n    root._bokeh_onload_callbacks.push(callback);\n    if (root._bokeh_is_loading > 0) {\n      console.log(\"Bokeh: BokehJS is being loaded, scheduling callback at\", now());\n      return null;\n    }\n    if (js_urls == null || js_urls.length === 0) {\n      run_callbacks();\n      return null;\n    }\n    console.log(\"Bokeh: BokehJS not loaded, scheduling load and callback at\", now());\n    root._bokeh_is_loading = js_urls.length;\n    for (var i = 0; i < js_urls.length; i++) {\n      var url = js_urls[i];\n      var s = document.createElement('script');\n      s.src = url;\n      s.async = false;\n      s.onreadystatechange = s.onload = function() {\n        root._bokeh_is_loading--;\n        if (root._bokeh_is_loading === 0) {\n          console.log(\"Bokeh: all BokehJS libraries loaded\");\n          run_callbacks()\n        }\n      };\n      s.onerror = function() {\n        console.warn(\"failed to load library \" + url);\n      };\n      console.log(\"Bokeh: injecting script tag for BokehJS library: \", url);\n      document.getElementsByTagName(\"head\")[0].appendChild(s);\n    }\n  };var element = document.getElementById(\"3f6180e0-cf59-4b57-9ccc-b29da047f194\");\n  if (element == null) {\n    console.log(\"Bokeh: ERROR: autoload.js configured with elementid '3f6180e0-cf59-4b57-9ccc-b29da047f194' but no matching script tag was found. \")\n    return false;\n  }\n\n  var js_urls = [\"https://cdn.pydata.org/bokeh/release/bokeh-0.12.14.min.js\", \"https://cdn.pydata.org/bokeh/release/bokeh-widgets-0.12.14.min.js\", \"https://cdn.pydata.org/bokeh/release/bokeh-tables-0.12.14.min.js\", \"https://cdn.pydata.org/bokeh/release/bokeh-gl-0.12.14.min.js\"];\n\n  var inline_js = [\n    function(Bokeh) {\n      Bokeh.set_log_level(\"info\");\n    },\n    \n    function(Bokeh) {\n      \n    },\n    function(Bokeh) {\n      console.log(\"Bokeh: injecting CSS: https://cdn.pydata.org/bokeh/release/bokeh-0.12.14.min.css\");\n      Bokeh.embed.inject_css(\"https://cdn.pydata.org/bokeh/release/bokeh-0.12.14.min.css\");\n      console.log(\"Bokeh: injecting CSS: https://cdn.pydata.org/bokeh/release/bokeh-widgets-0.12.14.min.css\");\n      Bokeh.embed.inject_css(\"https://cdn.pydata.org/bokeh/release/bokeh-widgets-0.12.14.min.css\");\n      console.log(\"Bokeh: injecting CSS: https://cdn.pydata.org/bokeh/release/bokeh-tables-0.12.14.min.css\");\n      Bokeh.embed.inject_css(\"https://cdn.pydata.org/bokeh/release/bokeh-tables-0.12.14.min.css\");\n    }\n  ];\n\n  function run_inline_js() {\n    \n    if ((root.Bokeh !== undefined) || (force === true)) {\n      for (var i = 0; i < inline_js.length; i++) {\n        inline_js[i].call(root, root.Bokeh);\n      }if (force === true) {\n        display_loaded();\n      }} else if (Date.now() < root._bokeh_timeout) {\n      setTimeout(run_inline_js, 100);\n    } else if (!root._bokeh_failed_load) {\n      console.log(\"Bokeh: BokehJS failed to load within specified timeout.\");\n      root._bokeh_failed_load = true;\n    } else if (force !== true) {\n      var cell = $(document.getElementById(\"3f6180e0-cf59-4b57-9ccc-b29da047f194\")).parents('.cell').data().cell;\n      cell.output_area.append_execute_result(NB_LOAD_WARNING)\n    }\n\n  }\n\n  if (root._bokeh_is_loading === 0) {\n    console.log(\"Bokeh: BokehJS loaded, going straight to plotting\");\n    run_inline_js();\n  } else {\n    load_libs(js_urls, function() {\n      console.log(\"Bokeh: BokehJS plotting callback run at\", now());\n      run_inline_js();\n    });\n  }\n}(window));"
     },
     "metadata": {},
     "output_type": "display_data"
    }
   ],
   "source": [
    "output_notebook()"
   ]
  },
  {
   "cell_type": "code",
   "execution_count": 8,
   "metadata": {
    "collapsed": true
   },
   "outputs": [],
   "source": [
    "def fmt_cool(ds_in):\n",
    "    ds = ds_in.copy(deep=True)\n",
    "    if 'igg' in ds.dims:\n",
    "        ds = ds.sel(igg=1)\n",
    "\n",
    "    if 'g' in ds.dims:\n",
    "        ds = ds.sum('g')\n",
    "            \n",
    "    if 'band' in ds.dims:\n",
    "        try:\n",
    "            ds = ds.squeeze('band')\n",
    "        except ValueError:\n",
    "            ds = ds.sum('band')\n",
    "                \n",
    "    return ds['coolrg']\n",
    "\n",
    "\n",
    "def pltdata_cooling_1(ds_cool=None,\n",
    "                      ds_cool_crd=None, ds_cool_wgt=None):\n",
    "    \n",
    "\n",
    "\n",
    "    colors = all_palettes['Set1'][4]\n",
    "    data = [{'label': 'CLIRAD `coolr_bands`',\n",
    "             'srs': fmt_cool(ds_cool),\n",
    "             'line_dash': 'dashed', 'line_width': 5,\n",
    "             'color': colors[0], 'alpha': .6},\n",
    "            {'label': 'CRD',\n",
    "             'srs': fmt_cool(ds_cool_crd),\n",
    "             'line_dash': 'solid', 'line_width': 1.5,\n",
    "             'marker': 'circle', 'marker_size': 5,\n",
    "             'color': colors[2], 'alpha': 1,},\n",
    "            {'label': 'WGT igg=10 wgt_flux=2',\n",
    "             'srs': fmt_cool(ds_cool_wgt),\n",
    "             'line_dash': 'solid', 'line_width': 3,\n",
    "             'marker': 'square', 'marker_size': 5,\n",
    "             'color': colors[3], 'alpha': .6}]\n",
    "    return data\n",
    "\n",
    "\n",
    "def nice_xlims(pltdata=None, prange=None):\n",
    "    \n",
    "    def get_slice(srs):\n",
    "        return srs.sel(pressure=slice(*prange))\n",
    "    \n",
    "    srss = [d['srs'] for d in pltdata]\n",
    "    vmin = min([get_slice(srs).min() for srs in srss])\n",
    "    vmax = max([get_slice(srs).max() for srs in srss])\n",
    "    dv = (vmax - vmin) * .01\n",
    "    return float(vmin - dv), float(vmax + dv)\n",
    "    \n",
    "\n",
    "def plt_cooling_bokeh(pltdata=None):\n",
    "    '''\n",
    "    Plot a list of cooling rate profiles using bokeh.\n",
    "    '''\n",
    "    ymin = 1e-2 \n",
    "    ymax = 1020 \n",
    "        \n",
    "    p1 = figure(title=\"Linear pressure scale\", \n",
    "                plot_width=400)        \n",
    "    xmin, xmax = nice_xlims(pltdata, prange=(50, 1050))\n",
    "    for d in pltdata:\n",
    "        if 'marker' in d:\n",
    "            getattr(p1, d['marker'])(d['srs'].values, \n",
    "                    d['srs'].coords['pressure'].values,\n",
    "                    color=d['color'], alpha=.7)\n",
    "        p1.line(d['srs'].values, \n",
    "                d['srs'].coords['pressure'].values,\n",
    "                color=d['color'], alpha=d['alpha'], \n",
    "                line_width=d['line_width'], line_dash=d['line_dash'])\n",
    "    \n",
    "    p1.y_range = Range1d(ymax, ymin)\n",
    "    p1.yaxis.axis_label = 'pressure [mb]'   \n",
    "    p1.x_range = Range1d(xmin, xmax)\n",
    "    p1.xaxis.axis_label = 'cooling rate [K/day]'\n",
    "            \n",
    "    p2 = figure(title='Log pressure scale', y_axis_type='log',\n",
    "                plot_width=560)\n",
    "    xmin, xmax = nice_xlims(pltdata, prange=(.01, 200))\n",
    "    \n",
    "    rs = []\n",
    "    for d in pltdata:\n",
    "        rd = []\n",
    "        if 'marker' in d:\n",
    "            r_mark = getattr(p2, d['marker'])(d['srs'].values, \n",
    "                        d['srs'].coords['pressure'].values,\n",
    "                        color=d['color'], alpha=.7)\n",
    "            rd.append(r_mark)\n",
    "        r_line = p2.line(d['srs'].values, \n",
    "                    d['srs'].coords['pressure'].values,\n",
    "                    color=d['color'], alpha=d['alpha'], \n",
    "                    line_width=d['line_width'], line_dash=d['line_dash'])\n",
    "        rd.append(r_line)\n",
    "      \n",
    "        rs.append(rd)\n",
    "        \n",
    "    p2.y_range = Range1d(ymax, ymin)  \n",
    "    p2.yaxis.axis_label = 'pressure [mb]'\n",
    "    \n",
    "    p2.x_range = Range1d(xmin, xmax)\n",
    "    p2.xaxis.axis_label = 'cooling rate [K/day]'\n",
    "    \n",
    "    items = [(d['label'], r) for r, d in zip(rs, pltdata)]\n",
    "    legend = Legend(items=items, location=(10, -30))\n",
    "    legend.label_text_font_size = '8pt'\n",
    "    \n",
    "    p2.add_layout(legend, 'right')  \n",
    "    \n",
    "    show(gridplot(p1, p2, ncols=2, plot_height=500))\n",
    "    \n",
    "\n",
    "def script_plt_cooling():\n",
    "    pltdata = pltdata_cooling_1(\n",
    "        ds_cool=DS_COOL,\n",
    "        ds_cool_crd=DS_COOL_CRD,\n",
    "        ds_cool_wgt=DS_COOL_WGT)\n",
    "    plt_cooling_bokeh(pltdata=pltdata)\n",
    "    print('''FIGURE. Cooling rate profiles.''')"
   ]
  },
  {
   "cell_type": "code",
   "execution_count": 9,
   "metadata": {
    "collapsed": true
   },
   "outputs": [],
   "source": [
    "def fmt_flux(ds_in):\n",
    "    ds = ds_in.copy(deep=True)\n",
    "    \n",
    "    for l in ('level', 'layer'):\n",
    "        if l in ds.data_vars:\n",
    "            if len(ds[l].dims) > 1:\n",
    "                surface = {d: 0 for d in ds.dims if d != 'pressure'}\n",
    "                coord_level = ds[l][surface]\n",
    "                ds.coords[l] = ('pressure', coord_level)\n",
    "            else:\n",
    "                ds.coords[l] = ('pressure', ds[l])\n",
    "        \n",
    "    ds = ds.isel(pressure=[0, 23, -1])\n",
    "        \n",
    "    if 'igg' in ds.dims:\n",
    "        ds = ds.sel(igg=[1])\n",
    "        ds = ds.squeeze('igg').drop('igg')\n",
    "    \n",
    "    if 'g' in ds.dims:\n",
    "        ds = ds.sum('g')\n",
    "            \n",
    "    if 'band' in ds.dims:\n",
    "        try:\n",
    "            ds = ds.squeeze('band').drop('band')\n",
    "        except ValueError:\n",
    "            ds = ds.sum('band')\n",
    "                \n",
    "    df = ds.to_dataframe()\n",
    "    df = df.set_index('level', append=True)               \n",
    "    return df\n",
    "\n",
    "\n",
    "def tbdata_flux(ds_flux=None, ds_flux_crd=None, ds_flux_wgt=None):\n",
    "    ilevels = [0, 23, -1]\n",
    "            \n",
    "    benchmark = {'label': 'WGT igg=10 wgt_flux=1',\n",
    "                 'df': fmt_flux(ds_flux_wgt)}\n",
    "    \n",
    "    tbs = [{'label': 'CRD',\n",
    "            'df': fmt_flux(ds_flux_crd)},\n",
    "           {'label': 'CLIRAD',\n",
    "            'df': fmt_flux(ds_flux)}]\n",
    "    \n",
    "    data = {'benchmark': benchmark, 'others': tbs}\n",
    "    return data\n",
    "\n",
    "\n",
    "def tb_flux(tbdata=None):\n",
    "    benchmark = tbdata['benchmark']\n",
    "    others = tbdata['others']\n",
    "    \n",
    "    def show_tb(d=None):\n",
    "        display.display(d['df'])\n",
    "        print('Table.', 'Fluxes.', d['label'])\n",
    "        \n",
    "    def show_tbdiff(d0=None, d=None):\n",
    "        df = d['df']\n",
    "        df.index = d0['df'].index\n",
    "        display.display(df - d0['df'])\n",
    "        print('Table.', 'Fluxes.', \n",
    "              '({}) - ({})'.format(d['label'], d0['label']))\n",
    "        \n",
    "    show_tb(benchmark)\n",
    "    for d in others:\n",
    "        show_tb(d)\n",
    "        \n",
    "    for d in others:\n",
    "        show_tbdiff(d=d, d0=benchmark)\n",
    "        \n",
    "        \n",
    "def script_tb_flux():\n",
    "    data = tbdata_flux(ds_flux=DS_FLUX,\n",
    "                       ds_flux_crd=DS_FLUX_CRD,\n",
    "                       ds_flux_wgt=DS_FLUX_WGT)\n",
    "    tb_flux(tbdata=data)"
   ]
  },
  {
   "cell_type": "code",
   "execution_count": 10,
   "metadata": {
    "collapsed": true
   },
   "outputs": [],
   "source": [
    "def band_map():\n",
    "    '''\n",
    "    Maps spectral bands in lblnew to spectral bands in clirad.\n",
    "    '''\n",
    "    lblnew2clirad = {'1': '1',\n",
    "            '2': '2',\n",
    "            '3a': '3',\n",
    "            '3b': '4',\n",
    "            '3c': '5',\n",
    "            '4': '6', \n",
    "            '5': '7',\n",
    "            '6': '8',\n",
    "            '7': '9', \n",
    "            '8': '10',\n",
    "            '9': '11'}\n",
    "    \n",
    "    clirad2lblnew = {clirad: lblnew \n",
    "                     for lblnew, clirad in lblnew2clirad.items()}\n",
    "    return clirad2lblnew\n",
    "\n",
    "\n",
    "def gasbands():\n",
    "    bmap = band_map()\n",
    "    gases = list(PARAM['molecule'].keys())\n",
    "    \n",
    "    bands = [bmap[str(b)] for b in PARAM['band']]\n",
    "    return list(itertools.product(gases, bands))\n",
    "\n",
    "\n",
    "def print_bestfit_params():\n",
    "    print('Best-fit values for each (gas, band)')\n",
    "    print('------------------------------------')\n",
    "    for gas, band in gasbands():\n",
    "        print('o {} band{}'.format(gas, band))\n",
    "        param = bestfits.kdist_params(molecule=gas, band=band)\n",
    "        for name, value in sorted(param.items()):\n",
    "            print(2 * ' ' + '{} = {}'.format(name, value))\n",
    "\n",
    "        \n",
    "def print_input_param():        \n",
    "    for name, value in PARAM.items():\n",
    "        print('{} = {}'.format(name, value))\n",
    "        \n",
    "        \n",
    "def print_lblnew_param():\n",
    "    for name, value in sorted(PARAM_LBLNEW.items()):\n",
    "        print('{} = {}'.format(name, value))\n"
   ]
  },
  {
   "cell_type": "code",
   "execution_count": 11,
   "metadata": {
    "collapsed": true,
    "scrolled": false
   },
   "outputs": [],
   "source": [
    "def show_html(s):\n",
    "    display.display(display.HTML(s))\n",
    "\n",
    "    \n",
    "def show_markdown(s):\n",
    "    display.display(display.Markdown(s))\n",
    "\n",
    "    \n",
    "def script():\n",
    "    \n",
    "    title = '### CLIRAD-LW'\n",
    "    s_input = 'Input Parameters'\n",
    "    s_lblnew_param = 'LBLNEW case compaired against'\n",
    "    s_bestfits = 'Best-fit Parameters'\n",
    "    s_plt_cooling = 'Cooling Rate Profiles'\n",
    "    s_tb_flux = 'Flux Comparison'\n",
    "    \n",
    "    # title\n",
    "    show_markdown('### CLIRAD-LW')\n",
    "    \n",
    "    # TOC\n",
    "    show_markdown('### Table of Contents')\n",
    "    show_html(climahtml.getHTML_hrefanchor(s_input))\n",
    "    show_html(climahtml.getHTML_hrefanchor(s_lblnew_param))\n",
    "    show_html(climahtml.getHTML_hrefanchor(s_plt_cooling))\n",
    "    show_html(climahtml.getHTML_hrefanchor(s_tb_flux))\n",
    "    show_html(climahtml.getHTML_hrefanchor(s_bestfits))\n",
    "    \n",
    "    # Input parameters\n",
    "    show_html(climahtml.getHTML_idanchor(s_input))\n",
    "    show_markdown(climahtml.getMarkdown_sectitle(s_input))\n",
    "    print_input_param()\n",
    "    \n",
    "    # LBLNEW parameters \n",
    "    show_html(climahtml.getHTML_idanchor(s_lblnew_param))\n",
    "    show_markdown(climahtml.getMarkdown_sectitle(s_lblnew_param))\n",
    "    print_lblnew_param()\n",
    "    \n",
    "    # Cooling rate profiles\n",
    "    show_html(climahtml.getHTML_idanchor(s_plt_cooling))\n",
    "    show_markdown(climahtml.getMarkdown_sectitle(s_plt_cooling))\n",
    "    script_plt_cooling()\n",
    "    \n",
    "    # Flux comparison\n",
    "    show_html(climahtml.getHTML_idanchor(s_tb_flux))\n",
    "    show_markdown(climahtml.getMarkdown_sectitle(s_tb_flux))\n",
    "    script_tb_flux()\n",
    "    \n",
    "    # Best-fit values\n",
    "    show_html(climahtml.getHTML_idanchor(s_bestfits))\n",
    "    show_markdown(climahtml.getMarkdown_sectitle(s_bestfits))\n",
    "    print_bestfit_params()\n",
    "   \n",
    "    "
   ]
  },
  {
   "cell_type": "code",
   "execution_count": 12,
   "metadata": {
    "collapsed": true,
    "scrolled": false
   },
   "outputs": [
    {
     "data": {
      "text/markdown": [
       "### CLIRAD-LW"
      ],
      "text/plain": [
       "<IPython.core.display.Markdown object>"
      ]
     },
     "metadata": {},
     "output_type": "display_data"
    },
    {
     "data": {
      "text/markdown": [
       "### Table of Contents"
      ],
      "text/plain": [
       "<IPython.core.display.Markdown object>"
      ]
     },
     "metadata": {},
     "output_type": "display_data"
    },
    {
     "data": {
      "text/html": [
       "<a href=\"#Input_Parameters\">Input Parameters</a>"
      ],
      "text/plain": [
       "<IPython.core.display.HTML object>"
      ]
     },
     "metadata": {},
     "output_type": "display_data"
    },
    {
     "data": {
      "text/html": [
       "<a href=\"#LBLNEW_case_compaired_against\">LBLNEW case compaired against</a>"
      ],
      "text/plain": [
       "<IPython.core.display.HTML object>"
      ]
     },
     "metadata": {},
     "output_type": "display_data"
    },
    {
     "data": {
      "text/html": [
       "<a href=\"#Cooling_Rate_Profiles\">Cooling Rate Profiles</a>"
      ],
      "text/plain": [
       "<IPython.core.display.HTML object>"
      ]
     },
     "metadata": {},
     "output_type": "display_data"
    },
    {
     "data": {
      "text/html": [
       "<a href=\"#Flux_Comparison\">Flux Comparison</a>"
      ],
      "text/plain": [
       "<IPython.core.display.HTML object>"
      ]
     },
     "metadata": {},
     "output_type": "display_data"
    },
    {
     "data": {
      "text/html": [
       "<a href=\"#Best-fit_Parameters\">Best-fit Parameters</a>"
      ],
      "text/plain": [
       "<IPython.core.display.HTML object>"
      ]
     },
     "metadata": {},
     "output_type": "display_data"
    },
    {
     "data": {
      "text/html": [
       "<a id=\"Input_Parameters\"></a>"
      ],
      "text/plain": [
       "<IPython.core.display.HTML object>"
      ]
     },
     "metadata": {},
     "output_type": "display_data"
    },
    {
     "data": {
      "text/markdown": [
       "# Input Parameters"
      ],
      "text/plain": [
       "<IPython.core.display.Markdown object>"
      ]
     },
     "metadata": {},
     "output_type": "display_data"
    },
    {
     "name": "stdout",
     "output_type": "stream",
     "text": [
      "atmpro = saw\n",
      "band = [3]\n",
      "commitnumber = a4b7180\n",
      "molecule = {'h2o': 'atmpro'}\n",
      "tsfc = 257\n"
     ]
    },
    {
     "data": {
      "text/html": [
       "<a id=\"LBLNEW_case_compaired_against\"></a>"
      ],
      "text/plain": [
       "<IPython.core.display.HTML object>"
      ]
     },
     "metadata": {},
     "output_type": "display_data"
    },
    {
     "data": {
      "text/markdown": [
       "# LBLNEW case compaired against"
      ],
      "text/plain": [
       "<IPython.core.display.Markdown object>"
      ]
     },
     "metadata": {},
     "output_type": "display_data"
    },
    {
     "name": "stdout",
     "output_type": "stream",
     "text": [
      "atmpro = saw\n",
      "band = 3a\n",
      "commitnumber = 2bd1f75\n",
      "conc = None\n",
      "dv = 0.01\n",
      "klin = 0\n",
      "molecule = h2o\n",
      "ng_adju = [0, 0]\n",
      "ng_refs = [2, 6]\n",
      "nv = 100\n",
      "option_compute_btable = 0\n",
      "option_compute_ktable = 0\n",
      "option_wgt_flux = 1\n",
      "option_wgt_k = 1\n",
      "ref_pts = [(10, 250), (600, 250)]\n",
      "tsfc = 257\n",
      "vmax = 620\n",
      "vmin = 540\n",
      "w_diffuse = [(1.9, 1.7), (1.4, 1.4, 1.4, 1.55, 1.6, 1.66)]\n",
      "wgt = [(0.7, 0.7), (0.7, 0.5, 0.5, 0.5, 0.5, 0.5)]\n"
     ]
    },
    {
     "data": {
      "text/html": [
       "<a id=\"Cooling_Rate_Profiles\"></a>"
      ],
      "text/plain": [
       "<IPython.core.display.HTML object>"
      ]
     },
     "metadata": {},
     "output_type": "display_data"
    },
    {
     "data": {
      "text/markdown": [
       "# Cooling Rate Profiles"
      ],
      "text/plain": [
       "<IPython.core.display.Markdown object>"
      ]
     },
     "metadata": {},
     "output_type": "display_data"
    },
    {
     "data": {
      "text/html": [
       "\n",
       "<div class=\"bk-root\">\n",
       "    <div class=\"bk-plotdiv\" id=\"741c31a1-c637-4c40-9e99-0b56dab6cc50\"></div>\n",
       "</div>"
      ]
     },
     "metadata": {},
     "output_type": "display_data"
    },
    {
     "data": {
      "application/javascript": [
       "(function(root) {\n",
       "  function embed_document(root) {\n",
       "    \n",
       "  var docs_json = {\"d0b0851e-f53d-4179-bc5d-c8a6119a7051\":{\"roots\":{\"references\":[{\"attributes\":{\"label\":{\"value\":\"CLIRAD `coolr_bands`\"},\"renderers\":[{\"id\":\"6853cb84-1555-4829-91bf-d107601b1a40\",\"type\":\"GlyphRenderer\"}]},\"id\":\"ed38f4b4-0cf9-4626-b3f1-2a5d05259175\",\"type\":\"LegendItem\"},{\"attributes\":{\"plot\":null,\"text\":\"Log pressure scale\"},\"id\":\"9dec822d-3ed1-4543-8e1c-4e42f7a9376d\",\"type\":\"Title\"},{\"attributes\":{\"callback\":null,\"column_names\":[\"x\",\"y\"],\"data\":{\"x\":{\"__ndarray__\":\"VdYnLUnXZj9e0mihaiNpPyC6sld+Mm4/j4KhWKz3cT/DJyoCaCx1P16GbgcIv3g/d+Y4B6e3fD/KsNPPbpCAP0Kam6YHAIM/hEE/1ZOwhT8PT7hCv6eIP4GOj20064s/hOgQ8GR8jz+rFZacVXWRPz0LKzxWyZI/UehYhXYIlD8SmA0ji0iVPyF1Q2Q/mZY/6B+UO7nslz/XY9Ny2kuZP2Yk5gKZhpo/j9eLMvYjmT8klR0cn6eUP+5doquDAZA//tZiFTlciD+izPGdahuCP9UFZLisJHo/7OcbVlz6cj+BdDnu1wptP8J18JTymGY/S5TOWRIwYT/neyFwz/tZP8A+bMqO01Y/OqAqmoRpWD+Zt7v9Dn1bP4VWpSuNPl8/4vfj7CMqYT94zyA4eOxhPwp9rKRxl2g/f+WQMgpHbz/Epg/nwgBzP4g+hKhpznQ/fRi9lSH2dT9yc+93PNt2P0DYbNw5lXc/8o9Tbp0Qez8CaBWsQTyCP3EuYgyqUok/L7x4h0L4lD/Eva0nmf+gP1VWUkKdgag/BUejLfA2sD8DZU1heia0P9GFVukq27c/rBZid9REuz+p4b8i83m+PyABBnt70cA/eaHlqoVbwj/cKfWtzsjDP89P77jkAMU/qz/Zk6H4xT+IUs9oL6zGP4uc5dvwKcc/AfroAJV7xz+ZjfGHA6/HPwg2yQwZzcc/vMC4prffxz80XagAi+THP5DPs/Kossc/wwuj9Y8Ixz8KEXF8O5LFPyJ5y69mfcM/6EkJoZhhwT8HF4mt5cm+P2CelGOjyLo/\",\"dtype\":\"float64\",\"shape\":[75]},\"y\":{\"__ndarray__\":\"GhExyth1ND/Sv8nbtpRIP2vylNV0PVE/aTum7souWD/At0SJ8fVgPw3Iuahxymc/MSNhhJWvcD/bTfBN02d3P2zb5nxnaoA/CD5h5MAGhz8NmeH1TyaQP+zrCsc9p5Y/LbKd76fGnz/bLW5ISEmmPww9YvTcQq8/JV2OstnstT8Er5Y7M8G+P0c+r3jqkcU/5h99k6ZBzj88bCIzFzjVP4enV8oyxN0//yH99nXg5D8qOpLLf0jtP5kqGJXUifQ/c9cS8kHP/D+/DpwzojQEQIEmwoanVwxA4lgXt9HgE0BSSZ2AJuIbQAMJih9jjiNA5q4l5INuK0AwTKYKRj0zQNv5fmq8/DpAaCJseHrtQkB/+zpwzoxKQM3MzMzMeFJAZmZmZmZqWEAAAAAAAFxeQM3MzMzMJmJAmpmZmZkfZUBmZmZmZhhoQDMzMzMzEWtAAAAAAAAKbkBmZmZmZoFwQM3MzMzM/XFAMzMzMzN6c0CamZmZmfZ0QAAAAAAAc3ZAZmZmZmbvd0DNzMzMzGt5QDMzMzMz6HpAmpmZmZlkfEAAAAAAAOF9QGZmZmZmXX9AZmZmZuZsgECamZmZGSuBQM3MzMxM6YFAAAAAAICngkAzMzMzs2WDQGZmZmbmI4RAmpmZmRnihEDNzMzMTKCFQAAAAACAXoZAMzMzM7Mch0BmZmZm5tqHQJqZmZkZmYhAzczMzExXiUAAAAAAgBWKQDMzMzOz04pAZmZmZuaRi0CamZmZGVCMQM3MzMxMDo1AAAAAAIDMjUAzMzMzs4qOQGZmZmbmSI9A\",\"dtype\":\"float64\",\"shape\":[75]}}},\"id\":\"e4c10335-2b50-40e4-a5fd-8d0a1e2c2a95\",\"type\":\"ColumnDataSource\"},{\"attributes\":{\"data_source\":{\"id\":\"dea2faf3-d597-44ef-bc48-7770b1c2a0b4\",\"type\":\"ColumnDataSource\"},\"glyph\":{\"id\":\"a5e92c21-6b5b-4310-951a-3469f7ac81c6\",\"type\":\"Line\"},\"hover_glyph\":null,\"muted_glyph\":null,\"nonselection_glyph\":{\"id\":\"b6fccc0a-0ac1-4efb-bbee-446c4b2968a5\",\"type\":\"Line\"},\"selection_glyph\":null,\"view\":{\"id\":\"a4847d97-6b77-4739-a67c-d5873f485d52\",\"type\":\"CDSView\"}},\"id\":\"d3969c2d-0b44-45c6-a4ee-afd1dd4716a9\",\"type\":\"GlyphRenderer\"},{\"attributes\":{},\"id\":\"9dbf45ca-991d-431b-b168-12dde8dad63c\",\"type\":\"LinearScale\"},{\"attributes\":{\"line_alpha\":0.1,\"line_color\":\"#1f77b4\",\"line_width\":3,\"x\":{\"field\":\"x\"},\"y\":{\"field\":\"y\"}},\"id\":\"21e872ab-997b-48de-885b-3727c12c4914\",\"type\":\"Line\"},{\"attributes\":{\"dimension\":1,\"plot\":{\"id\":\"592377bc-16b9-4291-8f18-9548b93a875c\",\"subtype\":\"Figure\",\"type\":\"Plot\"},\"ticker\":{\"id\":\"d9d574bf-0644-40b8-a9f9-060a9c06d9c2\",\"type\":\"LogTicker\"}},\"id\":\"e1501857-9afe-4540-8530-d8611a0e0dcf\",\"type\":\"Grid\"},{\"attributes\":{\"source\":{\"id\":\"146f299d-b270-445b-8a24-a95b7403d2e9\",\"type\":\"ColumnDataSource\"}},\"id\":\"a5373170-19bb-41b3-ae6f-8d4c1d82e372\",\"type\":\"CDSView\"},{\"attributes\":{\"callback\":null,\"end\":0.01,\"start\":1020},\"id\":\"3d17dc50-ef29-4125-80e6-9577c5b56999\",\"type\":\"Range1d\"},{\"attributes\":{\"line_alpha\":0.1,\"line_color\":\"#1f77b4\",\"line_width\":1.5,\"x\":{\"field\":\"x\"},\"y\":{\"field\":\"y\"}},\"id\":\"a610cb4f-8a3e-420f-933c-fb40c70dbec8\",\"type\":\"Line\"},{\"attributes\":{\"num_minor_ticks\":10},\"id\":\"d9d574bf-0644-40b8-a9f9-060a9c06d9c2\",\"type\":\"LogTicker\"},{\"attributes\":{\"data_source\":{\"id\":\"e4c10335-2b50-40e4-a5fd-8d0a1e2c2a95\",\"type\":\"ColumnDataSource\"},\"glyph\":{\"id\":\"d55f10e4-5511-43c5-8d44-484b638a9010\",\"type\":\"Line\"},\"hover_glyph\":null,\"muted_glyph\":null,\"nonselection_glyph\":{\"id\":\"21e872ab-997b-48de-885b-3727c12c4914\",\"type\":\"Line\"},\"selection_glyph\":null,\"view\":{\"id\":\"85cd44e3-e1e4-4710-b5dd-9e941b5d0dfb\",\"type\":\"CDSView\"}},\"id\":\"83f63ed6-7609-4f79-a368-8e56b0a27426\",\"type\":\"GlyphRenderer\"},{\"attributes\":{\"active_drag\":\"auto\",\"active_inspect\":\"auto\",\"active_scroll\":\"auto\",\"active_tap\":\"auto\",\"tools\":[{\"id\":\"98564ab6-5421-4260-8120-35021fc7fcee\",\"type\":\"PanTool\"},{\"id\":\"c663e300-d8a6-422f-8ec0-dc7528157a26\",\"type\":\"WheelZoomTool\"},{\"id\":\"dcc79806-7a2d-43f7-afb6-f4d480d1caea\",\"type\":\"BoxZoomTool\"},{\"id\":\"f3df5722-d96a-42e0-bd03-45ac8f0a9fcb\",\"type\":\"SaveTool\"},{\"id\":\"a2f49dee-6614-4813-8e90-1de0f2f284ad\",\"type\":\"ResetTool\"},{\"id\":\"cb9b00e7-cc58-475f-9f23-3a8c63da2778\",\"type\":\"HelpTool\"}]},\"id\":\"9609174f-9570-4dea-8900-545cdd20d241\",\"type\":\"Toolbar\"},{\"attributes\":{},\"id\":\"35da1f9b-0959-4d48-8e43-48774ed11463\",\"type\":\"LogScale\"},{\"attributes\":{\"axis_label\":\"cooling rate [K/day]\",\"formatter\":{\"id\":\"33a55909-986d-4082-993f-e3a73e42e33e\",\"type\":\"BasicTickFormatter\"},\"plot\":{\"id\":\"592377bc-16b9-4291-8f18-9548b93a875c\",\"subtype\":\"Figure\",\"type\":\"Plot\"},\"ticker\":{\"id\":\"c3e693f8-ae35-4aaa-b568-15ebba6461f9\",\"type\":\"BasicTicker\"}},\"id\":\"87a1213a-b7cc-4096-9f5d-2ef3c5d36605\",\"type\":\"LinearAxis\"},{\"attributes\":{\"plot\":{\"id\":\"592377bc-16b9-4291-8f18-9548b93a875c\",\"subtype\":\"Figure\",\"type\":\"Plot\"},\"ticker\":{\"id\":\"c3e693f8-ae35-4aaa-b568-15ebba6461f9\",\"type\":\"BasicTicker\"}},\"id\":\"20c549eb-44df-4f6b-844c-36018505af8f\",\"type\":\"Grid\"},{\"attributes\":{\"label\":{\"value\":\"CRD\"},\"renderers\":[{\"id\":\"7cbedc63-45e6-4f80-837d-1cd8fcc2ef20\",\"type\":\"GlyphRenderer\"},{\"id\":\"fa91e1b4-0904-4bce-a5ee-3c7aa9c3cd2f\",\"type\":\"GlyphRenderer\"}]},\"id\":\"922ded12-8bfd-463c-be9b-61fba6eb4bfe\",\"type\":\"LegendItem\"},{\"attributes\":{\"callback\":null,\"column_names\":[\"x\",\"y\"],\"data\":{\"x\":{\"__ndarray__\":\"AAAAAAAAAAAAAAAAAAAAAAAAAAAAAAAAAAAAAAAAAAAAAAAAAAAAAAAAAAAAAAAAVUB+jyoliD/GndaerjaBPx8MBwVPaJI/AAAAAAAAAAAeZuYEmPKYPxeGteEKyYE/hsl6iEswlj8Mu8wJCh6LP3I5R+Vy+Jg/3Kdz3UWslD+Jbn5CxG2bP1pmWF85T5w/29wrAoKKoD/rbdhbb0CiP9ldDUHvPKQ/F0xzYHaloz/RSuXjljOgP8ymeje4opg/b2w5QeLxkT9IF0oPCwGJP9Y3mcHrfYA/mhln3xaddT8wACk6pvhtP7oM00SFzWQ/dMu2pgziWz/3qB71hwlSPyyE0OGvCk0/q7tofut5TT8V+Rdh7T1QP0zU23J4wFE/ustbPJdFUz9ybCM4UzxVP+E0Z7ZQll8/ZayS3UfUZT8GMkYid8NsPySry/+l+XA/26+AH5wqcz+HsSBj4lV1P/+/WEHGenc/Y7llAwkDfD+W8dPe/mGDP6Ni6k56Vos/ochqJTrslj/Hac//h8iiP2QZMZ/rfKs/q5CAPoJ8sj/EVwHf6SW3P7m0EqGuQbs/u7dkTRNTvz8zD2gCqNbBP8p7SSGYPMQ/Dnc/uEyXxj/lCca5NJvIP+SLMCSrS8o/F+axJEi+yz+LfysbzuPMP0GIv4Ekx80/g/58OqJrzj/44Pdn7dPOP6VpcUL4As8/ZIpih2sUzz/Pq1NIpgHPP3tfx0XWls4/We2rvC6NzT9n28Qkt4HLPxcWN8nqscg/ggto2N7dxT+AH2FazDbDP5wW/gT+jcA/\",\"dtype\":\"float64\",\"shape\":[75]},\"y\":{\"__ndarray__\":\"S/O/Q+51ND/430zAtpRIP2vylNV0PVE/QxsjCssuWD/TR4Z78fVgP+inNsRxymc/OuuBfZWvcD/u3TFA02d3P2d3VoBnaoA/CD5h5MAGhz/1pA8HUCaQP+zrCsc9p5Y/Fb7LAKjGnz/nJ9c/SEmmPwBD+fzcQq8/FOZwv9nstT8Er5Y7M8G+P0c+r3jqkcU/yK72qKZBzj+tM989FzjVPxbgmr8yxN0/cOm5AXbg5D+5ctXAf0jtP5kqGJXUifQ/DsrqDELP/D8MCAhBojQEQDItVnmnVwxAiFXNvdHgE0BSSZ2AJuIbQAMJih9jjiNA5q4l5INuK0CPVN/5RT0zQHzxRXu8/DpAOZ7PgHrtQkAg8wGBzoxKQBSTN8DMeFJA2NmQf2ZqWEAAAAAAAFxeQEQX1LfMJmJAmpmZmZkfZUBmZmZmZhhoQLzoK0gzEWtAAAAAAAAKbkCiC+pbZoFwQAhyUMLM/XFA+I2vPTN6c0AQ5KCEmfZ0QAAAAAAAc3ZA8Btfe2bvd0AIclDCzGt5QPeNrz0z6HpAEOSghJlkfEAAAAAAAOF9QKML6ltmXX9ABTkoYeZsgED7xteeGSuBQAhyUMJM6YFAAAAAAICngkD4ja89s2WDQAU5KGHmI4RA+8bXnhnihEAIclDCTKCFQAAAAACAXoZA+I2vPbMch0AFOShh5tqHQPvG154ZmYhACHJQwkxXiUAAAAAAgBWKQPeNrz2z04pABTkoYeaRi0D7xteeGVCMQAlyUMJMDo1AAAAAAIDMjUD3ja89s4qOQGZmZmbmSI9A\",\"dtype\":\"float64\",\"shape\":[75]}}},\"id\":\"e2a46f9e-dd25-4c71-9171-0666617f6af8\",\"type\":\"ColumnDataSource\"},{\"attributes\":{\"axis_label\":\"pressure [mb]\",\"formatter\":{\"id\":\"85a93ba4-33ee-4bd0-acbf-b22041d5c264\",\"type\":\"LogTickFormatter\"},\"plot\":{\"id\":\"592377bc-16b9-4291-8f18-9548b93a875c\",\"subtype\":\"Figure\",\"type\":\"Plot\"},\"ticker\":{\"id\":\"d9d574bf-0644-40b8-a9f9-060a9c06d9c2\",\"type\":\"LogTicker\"}},\"id\":\"a6ed3497-8abd-489f-8d4d-7c4f8a76d8f6\",\"type\":\"LogAxis\"},{\"attributes\":{\"fill_alpha\":{\"value\":0.1},\"fill_color\":{\"value\":\"#1f77b4\"},\"line_alpha\":{\"value\":0.1},\"line_color\":{\"value\":\"#1f77b4\"},\"x\":{\"field\":\"x\"},\"y\":{\"field\":\"y\"}},\"id\":\"56fae874-e678-4d9e-8467-ba44ff101af3\",\"type\":\"Square\"},{\"attributes\":{},\"id\":\"c3e693f8-ae35-4aaa-b568-15ebba6461f9\",\"type\":\"BasicTicker\"},{\"attributes\":{\"line_alpha\":0.6,\"line_color\":\"#e41a1c\",\"line_dash\":[6],\"line_width\":5,\"x\":{\"field\":\"x\"},\"y\":{\"field\":\"y\"}},\"id\":\"f4cc76b6-a0b8-48fd-b1eb-fa1679e0f28c\",\"type\":\"Line\"},{\"attributes\":{\"children\":[{\"id\":\"f93058c0-67c6-4cde-958f-68f261ab7e1c\",\"type\":\"Row\"}]},\"id\":\"c8bc829b-5672-4088-8b6e-ea94adaaf57a\",\"type\":\"Column\"},{\"attributes\":{\"below\":[{\"id\":\"87a1213a-b7cc-4096-9f5d-2ef3c5d36605\",\"type\":\"LinearAxis\"}],\"left\":[{\"id\":\"a6ed3497-8abd-489f-8d4d-7c4f8a76d8f6\",\"type\":\"LogAxis\"}],\"plot_height\":500,\"plot_width\":560,\"renderers\":[{\"id\":\"87a1213a-b7cc-4096-9f5d-2ef3c5d36605\",\"type\":\"LinearAxis\"},{\"id\":\"20c549eb-44df-4f6b-844c-36018505af8f\",\"type\":\"Grid\"},{\"id\":\"a6ed3497-8abd-489f-8d4d-7c4f8a76d8f6\",\"type\":\"LogAxis\"},{\"id\":\"e1501857-9afe-4540-8530-d8611a0e0dcf\",\"type\":\"Grid\"},{\"id\":\"5e4dcb3b-17fe-434e-b8a8-7bc1368b1667\",\"type\":\"BoxAnnotation\"},{\"id\":\"6853cb84-1555-4829-91bf-d107601b1a40\",\"type\":\"GlyphRenderer\"},{\"id\":\"7cbedc63-45e6-4f80-837d-1cd8fcc2ef20\",\"type\":\"GlyphRenderer\"},{\"id\":\"fa91e1b4-0904-4bce-a5ee-3c7aa9c3cd2f\",\"type\":\"GlyphRenderer\"},{\"id\":\"4b5a4274-88ae-43dc-89ee-ee8687b2891d\",\"type\":\"GlyphRenderer\"},{\"id\":\"d1b45335-5c10-4be4-ac51-fc70a826088d\",\"type\":\"GlyphRenderer\"},{\"id\":\"048d865f-b5d7-4349-919c-75fb8e1e1803\",\"type\":\"Legend\"}],\"right\":[{\"id\":\"048d865f-b5d7-4349-919c-75fb8e1e1803\",\"type\":\"Legend\"}],\"title\":{\"id\":\"9dec822d-3ed1-4543-8e1c-4e42f7a9376d\",\"type\":\"Title\"},\"toolbar\":{\"id\":\"9609174f-9570-4dea-8900-545cdd20d241\",\"type\":\"Toolbar\"},\"toolbar_location\":null,\"x_range\":{\"id\":\"d154cb77-e28c-425e-a680-0215766c3dfa\",\"type\":\"Range1d\"},\"x_scale\":{\"id\":\"9dbf45ca-991d-431b-b168-12dde8dad63c\",\"type\":\"LinearScale\"},\"y_range\":{\"id\":\"3d17dc50-ef29-4125-80e6-9577c5b56999\",\"type\":\"Range1d\"},\"y_scale\":{\"id\":\"35da1f9b-0959-4d48-8e43-48774ed11463\",\"type\":\"LogScale\"}},\"id\":\"592377bc-16b9-4291-8f18-9548b93a875c\",\"subtype\":\"Figure\",\"type\":\"Plot\"},{\"attributes\":{\"bottom_units\":\"screen\",\"fill_alpha\":{\"value\":0.5},\"fill_color\":{\"value\":\"lightgrey\"},\"left_units\":\"screen\",\"level\":\"overlay\",\"line_alpha\":{\"value\":1.0},\"line_color\":{\"value\":\"black\"},\"line_dash\":[4,4],\"line_width\":{\"value\":2},\"plot\":null,\"render_mode\":\"css\",\"right_units\":\"screen\",\"top_units\":\"screen\"},\"id\":\"5e4dcb3b-17fe-434e-b8a8-7bc1368b1667\",\"type\":\"BoxAnnotation\"},{\"attributes\":{},\"id\":\"5d26ae99-9c41-4dea-98d4-dc8454146c68\",\"type\":\"BasicTickFormatter\"},{\"attributes\":{\"fill_alpha\":{\"value\":0.7},\"fill_color\":{\"value\":\"#4daf4a\"},\"line_alpha\":{\"value\":0.7},\"line_color\":{\"value\":\"#4daf4a\"},\"x\":{\"field\":\"x\"},\"y\":{\"field\":\"y\"}},\"id\":\"02cc3239-11b8-40ec-bb99-f3cc8ed9894e\",\"type\":\"Circle\"},{\"attributes\":{\"fill_alpha\":{\"value\":0.7},\"fill_color\":{\"value\":\"#984ea3\"},\"line_alpha\":{\"value\":0.7},\"line_color\":{\"value\":\"#984ea3\"},\"x\":{\"field\":\"x\"},\"y\":{\"field\":\"y\"}},\"id\":\"a06cac2c-8a67-435a-87ab-50fa811bedae\",\"type\":\"Square\"},{\"attributes\":{},\"id\":\"c663e300-d8a6-422f-8ec0-dc7528157a26\",\"type\":\"WheelZoomTool\"},{\"attributes\":{\"data_source\":{\"id\":\"66373a1e-3938-43ff-8e16-c3e736be54b1\",\"type\":\"ColumnDataSource\"},\"glyph\":{\"id\":\"a06cac2c-8a67-435a-87ab-50fa811bedae\",\"type\":\"Square\"},\"hover_glyph\":null,\"muted_glyph\":null,\"nonselection_glyph\":{\"id\":\"56fae874-e678-4d9e-8467-ba44ff101af3\",\"type\":\"Square\"},\"selection_glyph\":null,\"view\":{\"id\":\"45b64f47-0ec6-4d14-8908-3e9c4b732a96\",\"type\":\"CDSView\"}},\"id\":\"868bab3d-c14f-4668-8a49-2e27db3ed185\",\"type\":\"GlyphRenderer\"},{\"attributes\":{\"overlay\":{\"id\":\"5e4dcb3b-17fe-434e-b8a8-7bc1368b1667\",\"type\":\"BoxAnnotation\"}},\"id\":\"dcc79806-7a2d-43f7-afb6-f4d480d1caea\",\"type\":\"BoxZoomTool\"},{\"attributes\":{\"line_alpha\":0.1,\"line_color\":\"#1f77b4\",\"line_dash\":[6],\"line_width\":5,\"x\":{\"field\":\"x\"},\"y\":{\"field\":\"y\"}},\"id\":\"71db67a5-11d9-424e-a98a-748b96b8e9f9\",\"type\":\"Line\"},{\"attributes\":{},\"id\":\"98564ab6-5421-4260-8120-35021fc7fcee\",\"type\":\"PanTool\"},{\"attributes\":{},\"id\":\"f3df5722-d96a-42e0-bd03-45ac8f0a9fcb\",\"type\":\"SaveTool\"},{\"attributes\":{\"data_source\":{\"id\":\"146f299d-b270-445b-8a24-a95b7403d2e9\",\"type\":\"ColumnDataSource\"},\"glyph\":{\"id\":\"0a4495e7-c9ec-4c3a-84df-6be2a401fb7b\",\"type\":\"Line\"},\"hover_glyph\":null,\"muted_glyph\":null,\"nonselection_glyph\":{\"id\":\"a610cb4f-8a3e-420f-933c-fb40c70dbec8\",\"type\":\"Line\"},\"selection_glyph\":null,\"view\":{\"id\":\"a5373170-19bb-41b3-ae6f-8d4c1d82e372\",\"type\":\"CDSView\"}},\"id\":\"a31890df-e382-409f-ac84-c1aa8de8d287\",\"type\":\"GlyphRenderer\"},{\"attributes\":{},\"id\":\"cb9b00e7-cc58-475f-9f23-3a8c63da2778\",\"type\":\"HelpTool\"},{\"attributes\":{\"line_alpha\":0.6,\"line_color\":\"#984ea3\",\"line_width\":3,\"x\":{\"field\":\"x\"},\"y\":{\"field\":\"y\"}},\"id\":\"d55f10e4-5511-43c5-8d44-484b638a9010\",\"type\":\"Line\"},{\"attributes\":{},\"id\":\"a2f49dee-6614-4813-8e90-1de0f2f284ad\",\"type\":\"ResetTool\"},{\"attributes\":{\"callback\":null,\"column_names\":[\"x\",\"y\"],\"data\":{\"x\":{\"__ndarray__\":\"h5gn5D7KZD/C0OaZl3pnP+jOzWeScm0/1bWMEZYjcj8sbkZHHvp1P57i2aJjR3o/j5kOFK0Zfz8spxqElDuCPzfegENmNoU/q3tIHqaCiD+oQ35orB6MP6xisDZU+Y8/9eKlSn0hkj82jNbffxyUP7Qz/t04spU/ph14Yd0Llz90oyjNb2OYP32MkaM7s5k/zlHf42D3mj+Zmx799yycPxyCQ6WaJJ0/PBx2Qlz3mj8xvih0cEaVP2fYg6SqZI8/WFNFMI+uhj/r4qFspAWAP7FCTdHqFHY/WEUAezpTbz8IP2z+I4BoPxgVd8+IMWQ/ADcgxSaZYD9gmsRO6F1bP8h5YkritFk/o0KIMrMSXD+qzn2JHldfP1B/B1CdWGE/jD2chVuMYj9AQtVvNPViPwY1m4Zqg2k/NsuO2YXibz9STO0rYBlzPxsqahsEt3Q/OYhiouS9dT+HyQtZs492P2RmgynaPnc/yeoYRwzKej9dgercAjuCP/1AVEL5gIk/bjsU1cAulT/9ghoUhi6hPyzhSCFCvKg/UnUJM99UsD/WNZK4UkW0PzhYNZFkGbg/TwTUSAnJuz/bWz5Qdky/P+1xEaXeT8E/+fv/F1PZwj/w82O8ezrEP/IQ3+yDasU/SNMsEgtjxj8dJF2WIyLHPzs4dXFdqcc/1ClNUrL/xz+7BI6h7zDIP3FY2Nt/R8g//Zv+iR1PyD93/khs0kjIP8nVXROxDMg/ViZfffpXxz8XFljX09TFP2VX1g1GssM/HTY24JiKwT/KeGvLRgi/P7NceFa57bo/\",\"dtype\":\"float64\",\"shape\":[75]},\"y\":{\"__ndarray__\":\"GhExyth1ND/Sv8nbtpRIP2vylNV0PVE/aTum7souWD/At0SJ8fVgPw3Iuahxymc/MSNhhJWvcD/bTfBN02d3P2zb5nxnaoA/CD5h5MAGhz8NmeH1TyaQP+zrCsc9p5Y/LbKd76fGnz/bLW5ISEmmPww9YvTcQq8/JV2OstnstT8Er5Y7M8G+P0c+r3jqkcU/5h99k6ZBzj88bCIzFzjVP4enV8oyxN0//yH99nXg5D8qOpLLf0jtP5kqGJXUifQ/c9cS8kHP/D+/DpwzojQEQIEmwoanVwxA4lgXt9HgE0BSSZ2AJuIbQAMJih9jjiNA5q4l5INuK0AwTKYKRj0zQNv5fmq8/DpAaCJseHrtQkB/+zpwzoxKQM3MzMzMeFJAZmZmZmZqWEAAAAAAAFxeQM3MzMzMJmJAmpmZmZkfZUBmZmZmZhhoQDMzMzMzEWtAAAAAAAAKbkBmZmZmZoFwQM3MzMzM/XFAMzMzMzN6c0CamZmZmfZ0QAAAAAAAc3ZAZmZmZmbvd0DNzMzMzGt5QDMzMzMz6HpAmpmZmZlkfEAAAAAAAOF9QGZmZmZmXX9AZmZmZuZsgECamZmZGSuBQM3MzMxM6YFAAAAAAICngkAzMzMzs2WDQGZmZmbmI4RAmpmZmRnihEDNzMzMTKCFQAAAAACAXoZAMzMzM7Mch0BmZmZm5tqHQJqZmZkZmYhAzczMzExXiUAAAAAAgBWKQDMzMzOz04pAZmZmZuaRi0CamZmZGVCMQM3MzMxMDo1AAAAAAIDMjUAzMzMzs4qOQGZmZmbmSI9A\",\"dtype\":\"float64\",\"shape\":[75]}}},\"id\":\"34972326-0356-46c1-b079-081dc30fac5d\",\"type\":\"ColumnDataSource\"},{\"attributes\":{\"label\":{\"value\":\"WGT igg=10 wgt_flux=2\"},\"renderers\":[{\"id\":\"4b5a4274-88ae-43dc-89ee-ee8687b2891d\",\"type\":\"GlyphRenderer\"},{\"id\":\"d1b45335-5c10-4be4-ac51-fc70a826088d\",\"type\":\"GlyphRenderer\"}]},\"id\":\"94a6eff8-85fc-455e-8a81-a5154b109480\",\"type\":\"LegendItem\"},{\"attributes\":{\"source\":{\"id\":\"e4c10335-2b50-40e4-a5fd-8d0a1e2c2a95\",\"type\":\"ColumnDataSource\"}},\"id\":\"85cd44e3-e1e4-4710-b5dd-9e941b5d0dfb\",\"type\":\"CDSView\"},{\"attributes\":{\"source\":{\"id\":\"66373a1e-3938-43ff-8e16-c3e736be54b1\",\"type\":\"ColumnDataSource\"}},\"id\":\"45b64f47-0ec6-4d14-8908-3e9c4b732a96\",\"type\":\"CDSView\"},{\"attributes\":{\"callback\":null,\"end\":0.24522886342890002,\"start\":-0.0014268663189},\"id\":\"720d8306-ff52-4599-96a0-328703b53235\",\"type\":\"Range1d\"},{\"attributes\":{\"callback\":null,\"column_names\":[\"x\",\"y\"],\"data\":{\"x\":{\"__ndarray__\":\"VdYnLUnXZj9e0mihaiNpPyC6sld+Mm4/j4KhWKz3cT/DJyoCaCx1P16GbgcIv3g/d+Y4B6e3fD/KsNPPbpCAP0Kam6YHAIM/hEE/1ZOwhT8PT7hCv6eIP4GOj20064s/hOgQ8GR8jz+rFZacVXWRPz0LKzxWyZI/UehYhXYIlD8SmA0ji0iVPyF1Q2Q/mZY/6B+UO7nslz/XY9Ny2kuZP2Yk5gKZhpo/j9eLMvYjmT8klR0cn6eUP+5doquDAZA//tZiFTlciD+izPGdahuCP9UFZLisJHo/7OcbVlz6cj+BdDnu1wptP8J18JTymGY/S5TOWRIwYT/neyFwz/tZP8A+bMqO01Y/OqAqmoRpWD+Zt7v9Dn1bP4VWpSuNPl8/4vfj7CMqYT94zyA4eOxhPwp9rKRxl2g/f+WQMgpHbz/Epg/nwgBzP4g+hKhpznQ/fRi9lSH2dT9yc+93PNt2P0DYbNw5lXc/8o9Tbp0Qez8CaBWsQTyCP3EuYgyqUok/L7x4h0L4lD/Eva0nmf+gP1VWUkKdgag/BUejLfA2sD8DZU1heia0P9GFVukq27c/rBZid9REuz+p4b8i83m+PyABBnt70cA/eaHlqoVbwj/cKfWtzsjDP89P77jkAMU/qz/Zk6H4xT+IUs9oL6zGP4uc5dvwKcc/AfroAJV7xz+ZjfGHA6/HPwg2yQwZzcc/vMC4prffxz80XagAi+THP5DPs/Kossc/wwuj9Y8Ixz8KEXF8O5LFPyJ5y69mfcM/6EkJoZhhwT8HF4mt5cm+P2CelGOjyLo/\",\"dtype\":\"float64\",\"shape\":[75]},\"y\":{\"__ndarray__\":\"GhExyth1ND/Sv8nbtpRIP2vylNV0PVE/aTum7souWD/At0SJ8fVgPw3Iuahxymc/MSNhhJWvcD/bTfBN02d3P2zb5nxnaoA/CD5h5MAGhz8NmeH1TyaQP+zrCsc9p5Y/LbKd76fGnz/bLW5ISEmmPww9YvTcQq8/JV2OstnstT8Er5Y7M8G+P0c+r3jqkcU/5h99k6ZBzj88bCIzFzjVP4enV8oyxN0//yH99nXg5D8qOpLLf0jtP5kqGJXUifQ/c9cS8kHP/D+/DpwzojQEQIEmwoanVwxA4lgXt9HgE0BSSZ2AJuIbQAMJih9jjiNA5q4l5INuK0AwTKYKRj0zQNv5fmq8/DpAaCJseHrtQkB/+zpwzoxKQM3MzMzMeFJAZmZmZmZqWEAAAAAAAFxeQM3MzMzMJmJAmpmZmZkfZUBmZmZmZhhoQDMzMzMzEWtAAAAAAAAKbkBmZmZmZoFwQM3MzMzM/XFAMzMzMzN6c0CamZmZmfZ0QAAAAAAAc3ZAZmZmZmbvd0DNzMzMzGt5QDMzMzMz6HpAmpmZmZlkfEAAAAAAAOF9QGZmZmZmXX9AZmZmZuZsgECamZmZGSuBQM3MzMxM6YFAAAAAAICngkAzMzMzs2WDQGZmZmbmI4RAmpmZmRnihEDNzMzMTKCFQAAAAACAXoZAMzMzM7Mch0BmZmZm5tqHQJqZmZkZmYhAzczMzExXiUAAAAAAgBWKQDMzMzOz04pAZmZmZuaRi0CamZmZGVCMQM3MzMxMDo1AAAAAAIDMjUAzMzMzs4qOQGZmZmbmSI9A\",\"dtype\":\"float64\",\"shape\":[75]}}},\"id\":\"dac11fc9-cc36-4a69-a9eb-f804c776e7a1\",\"type\":\"ColumnDataSource\"},{\"attributes\":{},\"id\":\"13e6b25f-ac30-48b2-ab96-7c1e82bae64e\",\"type\":\"LinearScale\"},{\"attributes\":{\"ticker\":null},\"id\":\"85a93ba4-33ee-4bd0-acbf-b22041d5c264\",\"type\":\"LogTickFormatter\"},{\"attributes\":{\"data_source\":{\"id\":\"34972326-0356-46c1-b079-081dc30fac5d\",\"type\":\"ColumnDataSource\"},\"glyph\":{\"id\":\"02cc3239-11b8-40ec-bb99-f3cc8ed9894e\",\"type\":\"Circle\"},\"hover_glyph\":null,\"muted_glyph\":null,\"nonselection_glyph\":{\"id\":\"23f47661-6f4b-4412-9d89-e35f27b4663f\",\"type\":\"Circle\"},\"selection_glyph\":null,\"view\":{\"id\":\"20aa45e4-124d-48fb-8cbf-d2d39258e8e7\",\"type\":\"CDSView\"}},\"id\":\"d41c3fc6-4091-4f41-968e-0fd5966e1205\",\"type\":\"GlyphRenderer\"},{\"attributes\":{\"toolbar\":{\"id\":\"19567a82-9a9e-4d92-bb3c-757da77ad24d\",\"type\":\"ProxyToolbar\"},\"toolbar_location\":\"above\"},\"id\":\"ba75ceef-5d86-4fbd-bacc-5b4fbe3f4ca9\",\"type\":\"ToolbarBox\"},{\"attributes\":{\"callback\":null,\"column_names\":[\"x\",\"y\"],\"data\":{\"x\":{\"__ndarray__\":\"h5gn5D7KZD/C0OaZl3pnP+jOzWeScm0/1bWMEZYjcj8sbkZHHvp1P57i2aJjR3o/j5kOFK0Zfz8spxqElDuCPzfegENmNoU/q3tIHqaCiD+oQ35orB6MP6xisDZU+Y8/9eKlSn0hkj82jNbffxyUP7Qz/t04spU/ph14Yd0Llz90oyjNb2OYP32MkaM7s5k/zlHf42D3mj+Zmx799yycPxyCQ6WaJJ0/PBx2Qlz3mj8xvih0cEaVP2fYg6SqZI8/WFNFMI+uhj/r4qFspAWAP7FCTdHqFHY/WEUAezpTbz8IP2z+I4BoPxgVd8+IMWQ/ADcgxSaZYD9gmsRO6F1bP8h5YkritFk/o0KIMrMSXD+qzn2JHldfP1B/B1CdWGE/jD2chVuMYj9AQtVvNPViPwY1m4Zqg2k/NsuO2YXibz9STO0rYBlzPxsqahsEt3Q/OYhiouS9dT+HyQtZs492P2RmgynaPnc/yeoYRwzKej9dgercAjuCP/1AVEL5gIk/bjsU1cAulT/9ghoUhi6hPyzhSCFCvKg/UnUJM99UsD/WNZK4UkW0PzhYNZFkGbg/TwTUSAnJuz/bWz5Qdky/P+1xEaXeT8E/+fv/F1PZwj/w82O8ezrEP/IQ3+yDasU/SNMsEgtjxj8dJF2WIyLHPzs4dXFdqcc/1ClNUrL/xz+7BI6h7zDIP3FY2Nt/R8g//Zv+iR1PyD93/khs0kjIP8nVXROxDMg/ViZfffpXxz8XFljX09TFP2VX1g1GssM/HTY24JiKwT/KeGvLRgi/P7NceFa57bo/\",\"dtype\":\"float64\",\"shape\":[75]},\"y\":{\"__ndarray__\":\"GhExyth1ND/Sv8nbtpRIP2vylNV0PVE/aTum7souWD/At0SJ8fVgPw3Iuahxymc/MSNhhJWvcD/bTfBN02d3P2zb5nxnaoA/CD5h5MAGhz8NmeH1TyaQP+zrCsc9p5Y/LbKd76fGnz/bLW5ISEmmPww9YvTcQq8/JV2OstnstT8Er5Y7M8G+P0c+r3jqkcU/5h99k6ZBzj88bCIzFzjVP4enV8oyxN0//yH99nXg5D8qOpLLf0jtP5kqGJXUifQ/c9cS8kHP/D+/DpwzojQEQIEmwoanVwxA4lgXt9HgE0BSSZ2AJuIbQAMJih9jjiNA5q4l5INuK0AwTKYKRj0zQNv5fmq8/DpAaCJseHrtQkB/+zpwzoxKQM3MzMzMeFJAZmZmZmZqWEAAAAAAAFxeQM3MzMzMJmJAmpmZmZkfZUBmZmZmZhhoQDMzMzMzEWtAAAAAAAAKbkBmZmZmZoFwQM3MzMzM/XFAMzMzMzN6c0CamZmZmfZ0QAAAAAAAc3ZAZmZmZmbvd0DNzMzMzGt5QDMzMzMz6HpAmpmZmZlkfEAAAAAAAOF9QGZmZmZmXX9AZmZmZuZsgECamZmZGSuBQM3MzMxM6YFAAAAAAICngkAzMzMzs2WDQGZmZmbmI4RAmpmZmRnihEDNzMzMTKCFQAAAAACAXoZAMzMzM7Mch0BmZmZm5tqHQJqZmZkZmYhAzczMzExXiUAAAAAAgBWKQDMzMzOz04pAZmZmZuaRi0CamZmZGVCMQM3MzMxMDo1AAAAAAIDMjUAzMzMzs4qOQGZmZmbmSI9A\",\"dtype\":\"float64\",\"shape\":[75]}}},\"id\":\"fae5fd8a-97e4-499f-ae39-9e1ef9421f26\",\"type\":\"ColumnDataSource\"},{\"attributes\":{\"line_color\":\"#4daf4a\",\"line_width\":1.5,\"x\":{\"field\":\"x\"},\"y\":{\"field\":\"y\"}},\"id\":\"0a4495e7-c9ec-4c3a-84df-6be2a401fb7b\",\"type\":\"Line\"},{\"attributes\":{},\"id\":\"954a5700-8388-497e-a793-77cdab0316a4\",\"type\":\"LinearScale\"},{\"attributes\":{\"active_drag\":\"auto\",\"active_inspect\":\"auto\",\"active_scroll\":\"auto\",\"active_tap\":\"auto\",\"tools\":[{\"id\":\"bf04e9e2-7b8c-45a6-91cb-eaa73fb974a0\",\"type\":\"PanTool\"},{\"id\":\"4cd27a4b-e0f8-43a1-9bfb-622233c8e450\",\"type\":\"WheelZoomTool\"},{\"id\":\"a1db21ce-37d0-4e34-af0c-a3babb96a428\",\"type\":\"BoxZoomTool\"},{\"id\":\"a6c4b00a-7f75-4af8-93e3-5949bf0d1a2d\",\"type\":\"SaveTool\"},{\"id\":\"99c6cd3e-9d04-4c93-8602-5c3586316957\",\"type\":\"ResetTool\"},{\"id\":\"a99ec9e1-9861-4c1c-87ea-ffd4ea4d2b17\",\"type\":\"HelpTool\"}]},\"id\":\"8feee858-e138-4cf8-a23a-ac776360ada4\",\"type\":\"Toolbar\"},{\"attributes\":{},\"id\":\"33a55909-986d-4082-993f-e3a73e42e33e\",\"type\":\"BasicTickFormatter\"},{\"attributes\":{\"axis_label\":\"cooling rate [K/day]\",\"formatter\":{\"id\":\"5d26ae99-9c41-4dea-98d4-dc8454146c68\",\"type\":\"BasicTickFormatter\"},\"plot\":{\"id\":\"33165c32-3083-4c08-b743-79fba841c0ec\",\"subtype\":\"Figure\",\"type\":\"Plot\"},\"ticker\":{\"id\":\"12a97e7d-2a97-4acf-be6e-8420bc75d433\",\"type\":\"BasicTicker\"}},\"id\":\"82086875-410d-439a-8e22-6a6a2a029aa5\",\"type\":\"LinearAxis\"},{\"attributes\":{\"callback\":null,\"column_names\":[\"x\",\"y\"],\"data\":{\"x\":{\"__ndarray__\":\"h5gn5D7KZD/C0OaZl3pnP+jOzWeScm0/1bWMEZYjcj8sbkZHHvp1P57i2aJjR3o/j5kOFK0Zfz8spxqElDuCPzfegENmNoU/q3tIHqaCiD+oQ35orB6MP6xisDZU+Y8/9eKlSn0hkj82jNbffxyUP7Qz/t04spU/ph14Yd0Llz90oyjNb2OYP32MkaM7s5k/zlHf42D3mj+Zmx799yycPxyCQ6WaJJ0/PBx2Qlz3mj8xvih0cEaVP2fYg6SqZI8/WFNFMI+uhj/r4qFspAWAP7FCTdHqFHY/WEUAezpTbz8IP2z+I4BoPxgVd8+IMWQ/ADcgxSaZYD9gmsRO6F1bP8h5YkritFk/o0KIMrMSXD+qzn2JHldfP1B/B1CdWGE/jD2chVuMYj9AQtVvNPViPwY1m4Zqg2k/NsuO2YXibz9STO0rYBlzPxsqahsEt3Q/OYhiouS9dT+HyQtZs492P2RmgynaPnc/yeoYRwzKej9dgercAjuCP/1AVEL5gIk/bjsU1cAulT/9ghoUhi6hPyzhSCFCvKg/UnUJM99UsD/WNZK4UkW0PzhYNZFkGbg/TwTUSAnJuz/bWz5Qdky/P+1xEaXeT8E/+fv/F1PZwj/w82O8ezrEP/IQ3+yDasU/SNMsEgtjxj8dJF2WIyLHPzs4dXFdqcc/1ClNUrL/xz+7BI6h7zDIP3FY2Nt/R8g//Zv+iR1PyD93/khs0kjIP8nVXROxDMg/ViZfffpXxz8XFljX09TFP2VX1g1GssM/HTY24JiKwT/KeGvLRgi/P7NceFa57bo/\",\"dtype\":\"float64\",\"shape\":[75]},\"y\":{\"__ndarray__\":\"GhExyth1ND/Sv8nbtpRIP2vylNV0PVE/aTum7souWD/At0SJ8fVgPw3Iuahxymc/MSNhhJWvcD/bTfBN02d3P2zb5nxnaoA/CD5h5MAGhz8NmeH1TyaQP+zrCsc9p5Y/LbKd76fGnz/bLW5ISEmmPww9YvTcQq8/JV2OstnstT8Er5Y7M8G+P0c+r3jqkcU/5h99k6ZBzj88bCIzFzjVP4enV8oyxN0//yH99nXg5D8qOpLLf0jtP5kqGJXUifQ/c9cS8kHP/D+/DpwzojQEQIEmwoanVwxA4lgXt9HgE0BSSZ2AJuIbQAMJih9jjiNA5q4l5INuK0AwTKYKRj0zQNv5fmq8/DpAaCJseHrtQkB/+zpwzoxKQM3MzMzMeFJAZmZmZmZqWEAAAAAAAFxeQM3MzMzMJmJAmpmZmZkfZUBmZmZmZhhoQDMzMzMzEWtAAAAAAAAKbkBmZmZmZoFwQM3MzMzM/XFAMzMzMzN6c0CamZmZmfZ0QAAAAAAAc3ZAZmZmZmbvd0DNzMzMzGt5QDMzMzMz6HpAmpmZmZlkfEAAAAAAAOF9QGZmZmZmXX9AZmZmZuZsgECamZmZGSuBQM3MzMxM6YFAAAAAAICngkAzMzMzs2WDQGZmZmbmI4RAmpmZmRnihEDNzMzMTKCFQAAAAACAXoZAMzMzM7Mch0BmZmZm5tqHQJqZmZkZmYhAzczMzExXiUAAAAAAgBWKQDMzMzOz04pAZmZmZuaRi0CamZmZGVCMQM3MzMxMDo1AAAAAAIDMjUAzMzMzs4qOQGZmZmbmSI9A\",\"dtype\":\"float64\",\"shape\":[75]}}},\"id\":\"e03a2074-83ce-427e-823f-164b76f219e6\",\"type\":\"ColumnDataSource\"},{\"attributes\":{\"fill_alpha\":{\"value\":0.1},\"fill_color\":{\"value\":\"#1f77b4\"},\"line_alpha\":{\"value\":0.1},\"line_color\":{\"value\":\"#1f77b4\"},\"x\":{\"field\":\"x\"},\"y\":{\"field\":\"y\"}},\"id\":\"702051fe-bc27-47d5-9bcb-6f13f9a8098f\",\"type\":\"Circle\"},{\"attributes\":{\"data_source\":{\"id\":\"e2a46f9e-dd25-4c71-9171-0666617f6af8\",\"type\":\"ColumnDataSource\"},\"glyph\":{\"id\":\"f4cc76b6-a0b8-48fd-b1eb-fa1679e0f28c\",\"type\":\"Line\"},\"hover_glyph\":null,\"muted_glyph\":null,\"nonselection_glyph\":{\"id\":\"71db67a5-11d9-424e-a98a-748b96b8e9f9\",\"type\":\"Line\"},\"selection_glyph\":null,\"view\":{\"id\":\"8fda510a-7fef-403e-beca-de5d3d51aadf\",\"type\":\"CDSView\"}},\"id\":\"6853cb84-1555-4829-91bf-d107601b1a40\",\"type\":\"GlyphRenderer\"},{\"attributes\":{\"plot\":null,\"text\":\"Linear pressure scale\"},\"id\":\"5cf85820-77d3-4dab-860a-683478c08c82\",\"type\":\"Title\"},{\"attributes\":{\"fill_alpha\":{\"value\":0.7},\"fill_color\":{\"value\":\"#4daf4a\"},\"line_alpha\":{\"value\":0.7},\"line_color\":{\"value\":\"#4daf4a\"},\"x\":{\"field\":\"x\"},\"y\":{\"field\":\"y\"}},\"id\":\"0f0cf875-f0ee-4088-b533-d7c9513b25e6\",\"type\":\"Circle\"},{\"attributes\":{\"source\":{\"id\":\"34972326-0356-46c1-b079-081dc30fac5d\",\"type\":\"ColumnDataSource\"}},\"id\":\"20aa45e4-124d-48fb-8cbf-d2d39258e8e7\",\"type\":\"CDSView\"},{\"attributes\":{\"callback\":null,\"column_names\":[\"x\",\"y\"],\"data\":{\"x\":{\"__ndarray__\":\"VdYnLUnXZj9e0mihaiNpPyC6sld+Mm4/j4KhWKz3cT/DJyoCaCx1P16GbgcIv3g/d+Y4B6e3fD/KsNPPbpCAP0Kam6YHAIM/hEE/1ZOwhT8PT7hCv6eIP4GOj20064s/hOgQ8GR8jz+rFZacVXWRPz0LKzxWyZI/UehYhXYIlD8SmA0ji0iVPyF1Q2Q/mZY/6B+UO7nslz/XY9Ny2kuZP2Yk5gKZhpo/j9eLMvYjmT8klR0cn6eUP+5doquDAZA//tZiFTlciD+izPGdahuCP9UFZLisJHo/7OcbVlz6cj+BdDnu1wptP8J18JTymGY/S5TOWRIwYT/neyFwz/tZP8A+bMqO01Y/OqAqmoRpWD+Zt7v9Dn1bP4VWpSuNPl8/4vfj7CMqYT94zyA4eOxhPwp9rKRxl2g/f+WQMgpHbz/Epg/nwgBzP4g+hKhpznQ/fRi9lSH2dT9yc+93PNt2P0DYbNw5lXc/8o9Tbp0Qez8CaBWsQTyCP3EuYgyqUok/L7x4h0L4lD/Eva0nmf+gP1VWUkKdgag/BUejLfA2sD8DZU1heia0P9GFVukq27c/rBZid9REuz+p4b8i83m+PyABBnt70cA/eaHlqoVbwj/cKfWtzsjDP89P77jkAMU/qz/Zk6H4xT+IUs9oL6zGP4uc5dvwKcc/AfroAJV7xz+ZjfGHA6/HPwg2yQwZzcc/vMC4prffxz80XagAi+THP5DPs/Kossc/wwuj9Y8Ixz8KEXF8O5LFPyJ5y69mfcM/6EkJoZhhwT8HF4mt5cm+P2CelGOjyLo/\",\"dtype\":\"float64\",\"shape\":[75]},\"y\":{\"__ndarray__\":\"GhExyth1ND/Sv8nbtpRIP2vylNV0PVE/aTum7souWD/At0SJ8fVgPw3Iuahxymc/MSNhhJWvcD/bTfBN02d3P2zb5nxnaoA/CD5h5MAGhz8NmeH1TyaQP+zrCsc9p5Y/LbKd76fGnz/bLW5ISEmmPww9YvTcQq8/JV2OstnstT8Er5Y7M8G+P0c+r3jqkcU/5h99k6ZBzj88bCIzFzjVP4enV8oyxN0//yH99nXg5D8qOpLLf0jtP5kqGJXUifQ/c9cS8kHP/D+/DpwzojQEQIEmwoanVwxA4lgXt9HgE0BSSZ2AJuIbQAMJih9jjiNA5q4l5INuK0AwTKYKRj0zQNv5fmq8/DpAaCJseHrtQkB/+zpwzoxKQM3MzMzMeFJAZmZmZmZqWEAAAAAAAFxeQM3MzMzMJmJAmpmZmZkfZUBmZmZmZhhoQDMzMzMzEWtAAAAAAAAKbkBmZmZmZoFwQM3MzMzM/XFAMzMzMzN6c0CamZmZmfZ0QAAAAAAAc3ZAZmZmZmbvd0DNzMzMzGt5QDMzMzMz6HpAmpmZmZlkfEAAAAAAAOF9QGZmZmZmXX9AZmZmZuZsgECamZmZGSuBQM3MzMxM6YFAAAAAAICngkAzMzMzs2WDQGZmZmbmI4RAmpmZmRnihEDNzMzMTKCFQAAAAACAXoZAMzMzM7Mch0BmZmZm5tqHQJqZmZkZmYhAzczMzExXiUAAAAAAgBWKQDMzMzOz04pAZmZmZuaRi0CamZmZGVCMQM3MzMxMDo1AAAAAAIDMjUAzMzMzs4qOQGZmZmbmSI9A\",\"dtype\":\"float64\",\"shape\":[75]}}},\"id\":\"7aa12cd7-88db-43b0-9524-722671db081c\",\"type\":\"ColumnDataSource\"},{\"attributes\":{\"below\":[{\"id\":\"82086875-410d-439a-8e22-6a6a2a029aa5\",\"type\":\"LinearAxis\"}],\"left\":[{\"id\":\"977ee16f-d7c9-4db5-8330-9e5a21348c74\",\"type\":\"LinearAxis\"}],\"plot_height\":500,\"plot_width\":400,\"renderers\":[{\"id\":\"82086875-410d-439a-8e22-6a6a2a029aa5\",\"type\":\"LinearAxis\"},{\"id\":\"5e7d9a84-f982-4a77-91b2-7e7973b88785\",\"type\":\"Grid\"},{\"id\":\"977ee16f-d7c9-4db5-8330-9e5a21348c74\",\"type\":\"LinearAxis\"},{\"id\":\"15490c96-123e-45f9-aac6-d5c274f73df1\",\"type\":\"Grid\"},{\"id\":\"61e7623a-de6b-4d54-b79a-35a6ef772c61\",\"type\":\"BoxAnnotation\"},{\"id\":\"d3969c2d-0b44-45c6-a4ee-afd1dd4716a9\",\"type\":\"GlyphRenderer\"},{\"id\":\"d41c3fc6-4091-4f41-968e-0fd5966e1205\",\"type\":\"GlyphRenderer\"},{\"id\":\"a31890df-e382-409f-ac84-c1aa8de8d287\",\"type\":\"GlyphRenderer\"},{\"id\":\"868bab3d-c14f-4668-8a49-2e27db3ed185\",\"type\":\"GlyphRenderer\"},{\"id\":\"83f63ed6-7609-4f79-a368-8e56b0a27426\",\"type\":\"GlyphRenderer\"}],\"title\":{\"id\":\"5cf85820-77d3-4dab-860a-683478c08c82\",\"type\":\"Title\"},\"toolbar\":{\"id\":\"8feee858-e138-4cf8-a23a-ac776360ada4\",\"type\":\"Toolbar\"},\"toolbar_location\":null,\"x_range\":{\"id\":\"720d8306-ff52-4599-96a0-328703b53235\",\"type\":\"Range1d\"},\"x_scale\":{\"id\":\"954a5700-8388-497e-a793-77cdab0316a4\",\"type\":\"LinearScale\"},\"y_range\":{\"id\":\"3cbff80d-dc1e-4663-97fa-1a7d1ffd3e67\",\"type\":\"Range1d\"},\"y_scale\":{\"id\":\"13e6b25f-ac30-48b2-ab96-7c1e82bae64e\",\"type\":\"LinearScale\"}},\"id\":\"33165c32-3083-4c08-b743-79fba841c0ec\",\"subtype\":\"Figure\",\"type\":\"Plot\"},{\"attributes\":{\"source\":{\"id\":\"e2a46f9e-dd25-4c71-9171-0666617f6af8\",\"type\":\"ColumnDataSource\"}},\"id\":\"8fda510a-7fef-403e-beca-de5d3d51aadf\",\"type\":\"CDSView\"},{\"attributes\":{\"data_source\":{\"id\":\"e03a2074-83ce-427e-823f-164b76f219e6\",\"type\":\"ColumnDataSource\"},\"glyph\":{\"id\":\"0f0cf875-f0ee-4088-b533-d7c9513b25e6\",\"type\":\"Circle\"},\"hover_glyph\":null,\"muted_glyph\":null,\"nonselection_glyph\":{\"id\":\"702051fe-bc27-47d5-9bcb-6f13f9a8098f\",\"type\":\"Circle\"},\"selection_glyph\":null,\"view\":{\"id\":\"22116df6-f2ee-46c2-a1d4-753733aa80b7\",\"type\":\"CDSView\"}},\"id\":\"7cbedc63-45e6-4f80-837d-1cd8fcc2ef20\",\"type\":\"GlyphRenderer\"},{\"attributes\":{\"source\":{\"id\":\"e03a2074-83ce-427e-823f-164b76f219e6\",\"type\":\"ColumnDataSource\"}},\"id\":\"22116df6-f2ee-46c2-a1d4-753733aa80b7\",\"type\":\"CDSView\"},{\"attributes\":{\"source\":{\"id\":\"dea2faf3-d597-44ef-bc48-7770b1c2a0b4\",\"type\":\"ColumnDataSource\"}},\"id\":\"a4847d97-6b77-4739-a67c-d5873f485d52\",\"type\":\"CDSView\"},{\"attributes\":{\"line_color\":\"#4daf4a\",\"line_width\":1.5,\"x\":{\"field\":\"x\"},\"y\":{\"field\":\"y\"}},\"id\":\"1fea4530-c24d-4f8d-be9f-4b2f94339a92\",\"type\":\"Line\"},{\"attributes\":{\"line_alpha\":0.1,\"line_color\":\"#1f77b4\",\"line_width\":1.5,\"x\":{\"field\":\"x\"},\"y\":{\"field\":\"y\"}},\"id\":\"2e4d504a-cee6-4b95-8bd0-86a30965e367\",\"type\":\"Line\"},{\"attributes\":{\"callback\":null,\"end\":0.03992266794,\"start\":-0.00039527394},\"id\":\"d154cb77-e28c-425e-a680-0215766c3dfa\",\"type\":\"Range1d\"},{\"attributes\":{\"data_source\":{\"id\":\"fae5fd8a-97e4-499f-ae39-9e1ef9421f26\",\"type\":\"ColumnDataSource\"},\"glyph\":{\"id\":\"1fea4530-c24d-4f8d-be9f-4b2f94339a92\",\"type\":\"Line\"},\"hover_glyph\":null,\"muted_glyph\":null,\"nonselection_glyph\":{\"id\":\"2e4d504a-cee6-4b95-8bd0-86a30965e367\",\"type\":\"Line\"},\"selection_glyph\":null,\"view\":{\"id\":\"66e4c890-727e-4c84-9e9f-fcce49f1615b\",\"type\":\"CDSView\"}},\"id\":\"fa91e1b4-0904-4bce-a5ee-3c7aa9c3cd2f\",\"type\":\"GlyphRenderer\"},{\"attributes\":{\"source\":{\"id\":\"fae5fd8a-97e4-499f-ae39-9e1ef9421f26\",\"type\":\"ColumnDataSource\"}},\"id\":\"66e4c890-727e-4c84-9e9f-fcce49f1615b\",\"type\":\"CDSView\"},{\"attributes\":{},\"id\":\"a99ec9e1-9861-4c1c-87ea-ffd4ea4d2b17\",\"type\":\"HelpTool\"},{\"attributes\":{\"fill_alpha\":{\"value\":0.7},\"fill_color\":{\"value\":\"#984ea3\"},\"line_alpha\":{\"value\":0.7},\"line_color\":{\"value\":\"#984ea3\"},\"x\":{\"field\":\"x\"},\"y\":{\"field\":\"y\"}},\"id\":\"e7fa0061-9f78-4919-bda8-022d04fdd091\",\"type\":\"Square\"},{\"attributes\":{},\"id\":\"4cd27a4b-e0f8-43a1-9bfb-622233c8e450\",\"type\":\"WheelZoomTool\"},{\"attributes\":{},\"id\":\"a461d08d-ba30-475e-8e32-1e245b834e5c\",\"type\":\"BasicTickFormatter\"},{\"attributes\":{\"source\":{\"id\":\"dac11fc9-cc36-4a69-a9eb-f804c776e7a1\",\"type\":\"ColumnDataSource\"}},\"id\":\"bbbc0f11-3133-4777-9c87-1827a5e5603e\",\"type\":\"CDSView\"},{\"attributes\":{\"fill_alpha\":{\"value\":0.1},\"fill_color\":{\"value\":\"#1f77b4\"},\"line_alpha\":{\"value\":0.1},\"line_color\":{\"value\":\"#1f77b4\"},\"x\":{\"field\":\"x\"},\"y\":{\"field\":\"y\"}},\"id\":\"23f47661-6f4b-4412-9d89-e35f27b4663f\",\"type\":\"Circle\"},{\"attributes\":{},\"id\":\"bf04e9e2-7b8c-45a6-91cb-eaa73fb974a0\",\"type\":\"PanTool\"},{\"attributes\":{\"line_alpha\":0.6,\"line_color\":\"#984ea3\",\"line_width\":3,\"x\":{\"field\":\"x\"},\"y\":{\"field\":\"y\"}},\"id\":\"d1a14d03-7795-445f-a1be-c00b1e2d06fc\",\"type\":\"Line\"},{\"attributes\":{},\"id\":\"12a97e7d-2a97-4acf-be6e-8420bc75d433\",\"type\":\"BasicTicker\"},{\"attributes\":{\"fill_alpha\":{\"value\":0.1},\"fill_color\":{\"value\":\"#1f77b4\"},\"line_alpha\":{\"value\":0.1},\"line_color\":{\"value\":\"#1f77b4\"},\"x\":{\"field\":\"x\"},\"y\":{\"field\":\"y\"}},\"id\":\"488f8bbb-4537-4963-8727-9739cb425f93\",\"type\":\"Square\"},{\"attributes\":{\"bottom_units\":\"screen\",\"fill_alpha\":{\"value\":0.5},\"fill_color\":{\"value\":\"lightgrey\"},\"left_units\":\"screen\",\"level\":\"overlay\",\"line_alpha\":{\"value\":1.0},\"line_color\":{\"value\":\"black\"},\"line_dash\":[4,4],\"line_width\":{\"value\":2},\"plot\":null,\"render_mode\":\"css\",\"right_units\":\"screen\",\"top_units\":\"screen\"},\"id\":\"61e7623a-de6b-4d54-b79a-35a6ef772c61\",\"type\":\"BoxAnnotation\"},{\"attributes\":{\"data_source\":{\"id\":\"dac11fc9-cc36-4a69-a9eb-f804c776e7a1\",\"type\":\"ColumnDataSource\"},\"glyph\":{\"id\":\"e7fa0061-9f78-4919-bda8-022d04fdd091\",\"type\":\"Square\"},\"hover_glyph\":null,\"muted_glyph\":null,\"nonselection_glyph\":{\"id\":\"488f8bbb-4537-4963-8727-9739cb425f93\",\"type\":\"Square\"},\"selection_glyph\":null,\"view\":{\"id\":\"bbbc0f11-3133-4777-9c87-1827a5e5603e\",\"type\":\"CDSView\"}},\"id\":\"4b5a4274-88ae-43dc-89ee-ee8687b2891d\",\"type\":\"GlyphRenderer\"},{\"attributes\":{},\"id\":\"99c6cd3e-9d04-4c93-8602-5c3586316957\",\"type\":\"ResetTool\"},{\"attributes\":{\"source\":{\"id\":\"7aa12cd7-88db-43b0-9524-722671db081c\",\"type\":\"ColumnDataSource\"}},\"id\":\"1401cb4d-db93-4644-99c6-294149dc6696\",\"type\":\"CDSView\"},{\"attributes\":{\"children\":[{\"id\":\"ba75ceef-5d86-4fbd-bacc-5b4fbe3f4ca9\",\"type\":\"ToolbarBox\"},{\"id\":\"c8bc829b-5672-4088-8b6e-ea94adaaf57a\",\"type\":\"Column\"}]},\"id\":\"4c308e7a-d48d-4dbd-ad14-81c4fc549323\",\"type\":\"Column\"},{\"attributes\":{\"overlay\":{\"id\":\"61e7623a-de6b-4d54-b79a-35a6ef772c61\",\"type\":\"BoxAnnotation\"}},\"id\":\"a1db21ce-37d0-4e34-af0c-a3babb96a428\",\"type\":\"BoxZoomTool\"},{\"attributes\":{},\"id\":\"a6c4b00a-7f75-4af8-93e3-5949bf0d1a2d\",\"type\":\"SaveTool\"},{\"attributes\":{\"items\":[{\"id\":\"ed38f4b4-0cf9-4626-b3f1-2a5d05259175\",\"type\":\"LegendItem\"},{\"id\":\"922ded12-8bfd-463c-be9b-61fba6eb4bfe\",\"type\":\"LegendItem\"},{\"id\":\"94a6eff8-85fc-455e-8a81-a5154b109480\",\"type\":\"LegendItem\"}],\"label_text_font_size\":{\"value\":\"8pt\"},\"location\":[10,-30],\"plot\":{\"id\":\"592377bc-16b9-4291-8f18-9548b93a875c\",\"subtype\":\"Figure\",\"type\":\"Plot\"}},\"id\":\"048d865f-b5d7-4349-919c-75fb8e1e1803\",\"type\":\"Legend\"},{\"attributes\":{\"callback\":null,\"end\":0.01,\"start\":1020},\"id\":\"3cbff80d-dc1e-4663-97fa-1a7d1ffd3e67\",\"type\":\"Range1d\"},{\"attributes\":{\"line_alpha\":0.1,\"line_color\":\"#1f77b4\",\"line_width\":3,\"x\":{\"field\":\"x\"},\"y\":{\"field\":\"y\"}},\"id\":\"82214920-513b-4367-837d-6f8feb843e93\",\"type\":\"Line\"},{\"attributes\":{\"plot\":{\"id\":\"33165c32-3083-4c08-b743-79fba841c0ec\",\"subtype\":\"Figure\",\"type\":\"Plot\"},\"ticker\":{\"id\":\"12a97e7d-2a97-4acf-be6e-8420bc75d433\",\"type\":\"BasicTicker\"}},\"id\":\"5e7d9a84-f982-4a77-91b2-7e7973b88785\",\"type\":\"Grid\"},{\"attributes\":{\"data_source\":{\"id\":\"7aa12cd7-88db-43b0-9524-722671db081c\",\"type\":\"ColumnDataSource\"},\"glyph\":{\"id\":\"d1a14d03-7795-445f-a1be-c00b1e2d06fc\",\"type\":\"Line\"},\"hover_glyph\":null,\"muted_glyph\":null,\"nonselection_glyph\":{\"id\":\"82214920-513b-4367-837d-6f8feb843e93\",\"type\":\"Line\"},\"selection_glyph\":null,\"view\":{\"id\":\"1401cb4d-db93-4644-99c6-294149dc6696\",\"type\":\"CDSView\"}},\"id\":\"d1b45335-5c10-4be4-ac51-fc70a826088d\",\"type\":\"GlyphRenderer\"},{\"attributes\":{\"children\":[{\"id\":\"33165c32-3083-4c08-b743-79fba841c0ec\",\"subtype\":\"Figure\",\"type\":\"Plot\"},{\"id\":\"592377bc-16b9-4291-8f18-9548b93a875c\",\"subtype\":\"Figure\",\"type\":\"Plot\"}]},\"id\":\"f93058c0-67c6-4cde-958f-68f261ab7e1c\",\"type\":\"Row\"},{\"attributes\":{\"axis_label\":\"pressure [mb]\",\"formatter\":{\"id\":\"a461d08d-ba30-475e-8e32-1e245b834e5c\",\"type\":\"BasicTickFormatter\"},\"plot\":{\"id\":\"33165c32-3083-4c08-b743-79fba841c0ec\",\"subtype\":\"Figure\",\"type\":\"Plot\"},\"ticker\":{\"id\":\"3214197b-0a2b-462b-81d1-79ec628c3798\",\"type\":\"BasicTicker\"}},\"id\":\"977ee16f-d7c9-4db5-8330-9e5a21348c74\",\"type\":\"LinearAxis\"},{\"attributes\":{\"tools\":[{\"id\":\"bf04e9e2-7b8c-45a6-91cb-eaa73fb974a0\",\"type\":\"PanTool\"},{\"id\":\"4cd27a4b-e0f8-43a1-9bfb-622233c8e450\",\"type\":\"WheelZoomTool\"},{\"id\":\"a1db21ce-37d0-4e34-af0c-a3babb96a428\",\"type\":\"BoxZoomTool\"},{\"id\":\"a6c4b00a-7f75-4af8-93e3-5949bf0d1a2d\",\"type\":\"SaveTool\"},{\"id\":\"99c6cd3e-9d04-4c93-8602-5c3586316957\",\"type\":\"ResetTool\"},{\"id\":\"a99ec9e1-9861-4c1c-87ea-ffd4ea4d2b17\",\"type\":\"HelpTool\"},{\"id\":\"98564ab6-5421-4260-8120-35021fc7fcee\",\"type\":\"PanTool\"},{\"id\":\"c663e300-d8a6-422f-8ec0-dc7528157a26\",\"type\":\"WheelZoomTool\"},{\"id\":\"dcc79806-7a2d-43f7-afb6-f4d480d1caea\",\"type\":\"BoxZoomTool\"},{\"id\":\"f3df5722-d96a-42e0-bd03-45ac8f0a9fcb\",\"type\":\"SaveTool\"},{\"id\":\"a2f49dee-6614-4813-8e90-1de0f2f284ad\",\"type\":\"ResetTool\"},{\"id\":\"cb9b00e7-cc58-475f-9f23-3a8c63da2778\",\"type\":\"HelpTool\"}]},\"id\":\"19567a82-9a9e-4d92-bb3c-757da77ad24d\",\"type\":\"ProxyToolbar\"},{\"attributes\":{},\"id\":\"3214197b-0a2b-462b-81d1-79ec628c3798\",\"type\":\"BasicTicker\"},{\"attributes\":{\"dimension\":1,\"plot\":{\"id\":\"33165c32-3083-4c08-b743-79fba841c0ec\",\"subtype\":\"Figure\",\"type\":\"Plot\"},\"ticker\":{\"id\":\"3214197b-0a2b-462b-81d1-79ec628c3798\",\"type\":\"BasicTicker\"}},\"id\":\"15490c96-123e-45f9-aac6-d5c274f73df1\",\"type\":\"Grid\"},{\"attributes\":{\"callback\":null,\"column_names\":[\"x\",\"y\"],\"data\":{\"x\":{\"__ndarray__\":\"VdYnLUnXZj9e0mihaiNpPyC6sld+Mm4/j4KhWKz3cT/DJyoCaCx1P16GbgcIv3g/d+Y4B6e3fD/KsNPPbpCAP0Kam6YHAIM/hEE/1ZOwhT8PT7hCv6eIP4GOj20064s/hOgQ8GR8jz+rFZacVXWRPz0LKzxWyZI/UehYhXYIlD8SmA0ji0iVPyF1Q2Q/mZY/6B+UO7nslz/XY9Ny2kuZP2Yk5gKZhpo/j9eLMvYjmT8klR0cn6eUP+5doquDAZA//tZiFTlciD+izPGdahuCP9UFZLisJHo/7OcbVlz6cj+BdDnu1wptP8J18JTymGY/S5TOWRIwYT/neyFwz/tZP8A+bMqO01Y/OqAqmoRpWD+Zt7v9Dn1bP4VWpSuNPl8/4vfj7CMqYT94zyA4eOxhPwp9rKRxl2g/f+WQMgpHbz/Epg/nwgBzP4g+hKhpznQ/fRi9lSH2dT9yc+93PNt2P0DYbNw5lXc/8o9Tbp0Qez8CaBWsQTyCP3EuYgyqUok/L7x4h0L4lD/Eva0nmf+gP1VWUkKdgag/BUejLfA2sD8DZU1heia0P9GFVukq27c/rBZid9REuz+p4b8i83m+PyABBnt70cA/eaHlqoVbwj/cKfWtzsjDP89P77jkAMU/qz/Zk6H4xT+IUs9oL6zGP4uc5dvwKcc/AfroAJV7xz+ZjfGHA6/HPwg2yQwZzcc/vMC4prffxz80XagAi+THP5DPs/Kossc/wwuj9Y8Ixz8KEXF8O5LFPyJ5y69mfcM/6EkJoZhhwT8HF4mt5cm+P2CelGOjyLo/\",\"dtype\":\"float64\",\"shape\":[75]},\"y\":{\"__ndarray__\":\"GhExyth1ND/Sv8nbtpRIP2vylNV0PVE/aTum7souWD/At0SJ8fVgPw3Iuahxymc/MSNhhJWvcD/bTfBN02d3P2zb5nxnaoA/CD5h5MAGhz8NmeH1TyaQP+zrCsc9p5Y/LbKd76fGnz/bLW5ISEmmPww9YvTcQq8/JV2OstnstT8Er5Y7M8G+P0c+r3jqkcU/5h99k6ZBzj88bCIzFzjVP4enV8oyxN0//yH99nXg5D8qOpLLf0jtP5kqGJXUifQ/c9cS8kHP/D+/DpwzojQEQIEmwoanVwxA4lgXt9HgE0BSSZ2AJuIbQAMJih9jjiNA5q4l5INuK0AwTKYKRj0zQNv5fmq8/DpAaCJseHrtQkB/+zpwzoxKQM3MzMzMeFJAZmZmZmZqWEAAAAAAAFxeQM3MzMzMJmJAmpmZmZkfZUBmZmZmZhhoQDMzMzMzEWtAAAAAAAAKbkBmZmZmZoFwQM3MzMzM/XFAMzMzMzN6c0CamZmZmfZ0QAAAAAAAc3ZAZmZmZmbvd0DNzMzMzGt5QDMzMzMz6HpAmpmZmZlkfEAAAAAAAOF9QGZmZmZmXX9AZmZmZuZsgECamZmZGSuBQM3MzMxM6YFAAAAAAICngkAzMzMzs2WDQGZmZmbmI4RAmpmZmRnihEDNzMzMTKCFQAAAAACAXoZAMzMzM7Mch0BmZmZm5tqHQJqZmZkZmYhAzczMzExXiUAAAAAAgBWKQDMzMzOz04pAZmZmZuaRi0CamZmZGVCMQM3MzMxMDo1AAAAAAIDMjUAzMzMzs4qOQGZmZmbmSI9A\",\"dtype\":\"float64\",\"shape\":[75]}}},\"id\":\"66373a1e-3938-43ff-8e16-c3e736be54b1\",\"type\":\"ColumnDataSource\"},{\"attributes\":{\"line_alpha\":0.6,\"line_color\":\"#e41a1c\",\"line_dash\":[6],\"line_width\":5,\"x\":{\"field\":\"x\"},\"y\":{\"field\":\"y\"}},\"id\":\"a5e92c21-6b5b-4310-951a-3469f7ac81c6\",\"type\":\"Line\"},{\"attributes\":{\"callback\":null,\"column_names\":[\"x\",\"y\"],\"data\":{\"x\":{\"__ndarray__\":\"AAAAAAAAAAAAAAAAAAAAAAAAAAAAAAAAAAAAAAAAAAAAAAAAAAAAAAAAAAAAAAAAVUB+jyoliD/GndaerjaBPx8MBwVPaJI/AAAAAAAAAAAeZuYEmPKYPxeGteEKyYE/hsl6iEswlj8Mu8wJCh6LP3I5R+Vy+Jg/3Kdz3UWslD+Jbn5CxG2bP1pmWF85T5w/29wrAoKKoD/rbdhbb0CiP9ldDUHvPKQ/F0xzYHaloz/RSuXjljOgP8ymeje4opg/b2w5QeLxkT9IF0oPCwGJP9Y3mcHrfYA/mhln3xaddT8wACk6pvhtP7oM00SFzWQ/dMu2pgziWz/3qB71hwlSPyyE0OGvCk0/q7tofut5TT8V+Rdh7T1QP0zU23J4wFE/ustbPJdFUz9ybCM4UzxVP+E0Z7ZQll8/ZayS3UfUZT8GMkYid8NsPySry/+l+XA/26+AH5wqcz+HsSBj4lV1P/+/WEHGenc/Y7llAwkDfD+W8dPe/mGDP6Ni6k56Vos/ochqJTrslj/Hac//h8iiP2QZMZ/rfKs/q5CAPoJ8sj/EVwHf6SW3P7m0EqGuQbs/u7dkTRNTvz8zD2gCqNbBP8p7SSGYPMQ/Dnc/uEyXxj/lCca5NJvIP+SLMCSrS8o/F+axJEi+yz+LfysbzuPMP0GIv4Ekx80/g/58OqJrzj/44Pdn7dPOP6VpcUL4As8/ZIpih2sUzz/Pq1NIpgHPP3tfx0XWls4/We2rvC6NzT9n28Qkt4HLPxcWN8nqscg/ggto2N7dxT+AH2FazDbDP5wW/gT+jcA/\",\"dtype\":\"float64\",\"shape\":[75]},\"y\":{\"__ndarray__\":\"S/O/Q+51ND/430zAtpRIP2vylNV0PVE/QxsjCssuWD/TR4Z78fVgP+inNsRxymc/OuuBfZWvcD/u3TFA02d3P2d3VoBnaoA/CD5h5MAGhz/1pA8HUCaQP+zrCsc9p5Y/Fb7LAKjGnz/nJ9c/SEmmPwBD+fzcQq8/FOZwv9nstT8Er5Y7M8G+P0c+r3jqkcU/yK72qKZBzj+tM989FzjVPxbgmr8yxN0/cOm5AXbg5D+5ctXAf0jtP5kqGJXUifQ/DsrqDELP/D8MCAhBojQEQDItVnmnVwxAiFXNvdHgE0BSSZ2AJuIbQAMJih9jjiNA5q4l5INuK0CPVN/5RT0zQHzxRXu8/DpAOZ7PgHrtQkAg8wGBzoxKQBSTN8DMeFJA2NmQf2ZqWEAAAAAAAFxeQEQX1LfMJmJAmpmZmZkfZUBmZmZmZhhoQLzoK0gzEWtAAAAAAAAKbkCiC+pbZoFwQAhyUMLM/XFA+I2vPTN6c0AQ5KCEmfZ0QAAAAAAAc3ZA8Btfe2bvd0AIclDCzGt5QPeNrz0z6HpAEOSghJlkfEAAAAAAAOF9QKML6ltmXX9ABTkoYeZsgED7xteeGSuBQAhyUMJM6YFAAAAAAICngkD4ja89s2WDQAU5KGHmI4RA+8bXnhnihEAIclDCTKCFQAAAAACAXoZA+I2vPbMch0AFOShh5tqHQPvG154ZmYhACHJQwkxXiUAAAAAAgBWKQPeNrz2z04pABTkoYeaRi0D7xteeGVCMQAlyUMJMDo1AAAAAAIDMjUD3ja89s4qOQGZmZmbmSI9A\",\"dtype\":\"float64\",\"shape\":[75]}}},\"id\":\"dea2faf3-d597-44ef-bc48-7770b1c2a0b4\",\"type\":\"ColumnDataSource\"},{\"attributes\":{\"callback\":null,\"column_names\":[\"x\",\"y\"],\"data\":{\"x\":{\"__ndarray__\":\"h5gn5D7KZD/C0OaZl3pnP+jOzWeScm0/1bWMEZYjcj8sbkZHHvp1P57i2aJjR3o/j5kOFK0Zfz8spxqElDuCPzfegENmNoU/q3tIHqaCiD+oQ35orB6MP6xisDZU+Y8/9eKlSn0hkj82jNbffxyUP7Qz/t04spU/ph14Yd0Llz90oyjNb2OYP32MkaM7s5k/zlHf42D3mj+Zmx799yycPxyCQ6WaJJ0/PBx2Qlz3mj8xvih0cEaVP2fYg6SqZI8/WFNFMI+uhj/r4qFspAWAP7FCTdHqFHY/WEUAezpTbz8IP2z+I4BoPxgVd8+IMWQ/ADcgxSaZYD9gmsRO6F1bP8h5YkritFk/o0KIMrMSXD+qzn2JHldfP1B/B1CdWGE/jD2chVuMYj9AQtVvNPViPwY1m4Zqg2k/NsuO2YXibz9STO0rYBlzPxsqahsEt3Q/OYhiouS9dT+HyQtZs492P2RmgynaPnc/yeoYRwzKej9dgercAjuCP/1AVEL5gIk/bjsU1cAulT/9ghoUhi6hPyzhSCFCvKg/UnUJM99UsD/WNZK4UkW0PzhYNZFkGbg/TwTUSAnJuz/bWz5Qdky/P+1xEaXeT8E/+fv/F1PZwj/w82O8ezrEP/IQ3+yDasU/SNMsEgtjxj8dJF2WIyLHPzs4dXFdqcc/1ClNUrL/xz+7BI6h7zDIP3FY2Nt/R8g//Zv+iR1PyD93/khs0kjIP8nVXROxDMg/ViZfffpXxz8XFljX09TFP2VX1g1GssM/HTY24JiKwT/KeGvLRgi/P7NceFa57bo/\",\"dtype\":\"float64\",\"shape\":[75]},\"y\":{\"__ndarray__\":\"GhExyth1ND/Sv8nbtpRIP2vylNV0PVE/aTum7souWD/At0SJ8fVgPw3Iuahxymc/MSNhhJWvcD/bTfBN02d3P2zb5nxnaoA/CD5h5MAGhz8NmeH1TyaQP+zrCsc9p5Y/LbKd76fGnz/bLW5ISEmmPww9YvTcQq8/JV2OstnstT8Er5Y7M8G+P0c+r3jqkcU/5h99k6ZBzj88bCIzFzjVP4enV8oyxN0//yH99nXg5D8qOpLLf0jtP5kqGJXUifQ/c9cS8kHP/D+/DpwzojQEQIEmwoanVwxA4lgXt9HgE0BSSZ2AJuIbQAMJih9jjiNA5q4l5INuK0AwTKYKRj0zQNv5fmq8/DpAaCJseHrtQkB/+zpwzoxKQM3MzMzMeFJAZmZmZmZqWEAAAAAAAFxeQM3MzMzMJmJAmpmZmZkfZUBmZmZmZhhoQDMzMzMzEWtAAAAAAAAKbkBmZmZmZoFwQM3MzMzM/XFAMzMzMzN6c0CamZmZmfZ0QAAAAAAAc3ZAZmZmZmbvd0DNzMzMzGt5QDMzMzMz6HpAmpmZmZlkfEAAAAAAAOF9QGZmZmZmXX9AZmZmZuZsgECamZmZGSuBQM3MzMxM6YFAAAAAAICngkAzMzMzs2WDQGZmZmbmI4RAmpmZmRnihEDNzMzMTKCFQAAAAACAXoZAMzMzM7Mch0BmZmZm5tqHQJqZmZkZmYhAzczMzExXiUAAAAAAgBWKQDMzMzOz04pAZmZmZuaRi0CamZmZGVCMQM3MzMxMDo1AAAAAAIDMjUAzMzMzs4qOQGZmZmbmSI9A\",\"dtype\":\"float64\",\"shape\":[75]}}},\"id\":\"146f299d-b270-445b-8a24-a95b7403d2e9\",\"type\":\"ColumnDataSource\"},{\"attributes\":{\"line_alpha\":0.1,\"line_color\":\"#1f77b4\",\"line_dash\":[6],\"line_width\":5,\"x\":{\"field\":\"x\"},\"y\":{\"field\":\"y\"}},\"id\":\"b6fccc0a-0ac1-4efb-bbee-446c4b2968a5\",\"type\":\"Line\"}],\"root_ids\":[\"4c308e7a-d48d-4dbd-ad14-81c4fc549323\"]},\"title\":\"Bokeh Application\",\"version\":\"0.12.14\"}};\n",
       "  var render_items = [{\"docid\":\"d0b0851e-f53d-4179-bc5d-c8a6119a7051\",\"elementid\":\"741c31a1-c637-4c40-9e99-0b56dab6cc50\",\"modelid\":\"4c308e7a-d48d-4dbd-ad14-81c4fc549323\"}];\n",
       "  root.Bokeh.embed.embed_items_notebook(docs_json, render_items);\n",
       "\n",
       "  }\n",
       "  if (root.Bokeh !== undefined) {\n",
       "    embed_document(root);\n",
       "  } else {\n",
       "    var attempts = 0;\n",
       "    var timer = setInterval(function(root) {\n",
       "      if (root.Bokeh !== undefined) {\n",
       "        embed_document(root);\n",
       "        clearInterval(timer);\n",
       "      }\n",
       "      attempts++;\n",
       "      if (attempts > 100) {\n",
       "        console.log(\"Bokeh: ERROR: Unable to run BokehJS code because BokehJS library is missing\")\n",
       "        clearInterval(timer);\n",
       "      }\n",
       "    }, 10, root)\n",
       "  }\n",
       "})(window);"
      ],
      "application/vnd.bokehjs_exec.v0+json": ""
     },
     "metadata": {
      "application/vnd.bokehjs_exec.v0+json": {
       "id": "4c308e7a-d48d-4dbd-ad14-81c4fc549323"
      }
     },
     "output_type": "display_data"
    },
    {
     "name": "stdout",
     "output_type": "stream",
     "text": [
      "FIGURE. Cooling rate profiles.\n"
     ]
    },
    {
     "data": {
      "text/html": [
       "<a id=\"Flux_Comparison\"></a>"
      ],
      "text/plain": [
       "<IPython.core.display.HTML object>"
      ]
     },
     "metadata": {},
     "output_type": "display_data"
    },
    {
     "data": {
      "text/markdown": [
       "# Flux Comparison"
      ],
      "text/plain": [
       "<IPython.core.display.Markdown object>"
      ]
     },
     "metadata": {},
     "output_type": "display_data"
    },
    {
     "data": {
      "text/html": [
       "<div>\n",
       "<style>\n",
       "    .dataframe thead tr:only-child th {\n",
       "        text-align: right;\n",
       "    }\n",
       "\n",
       "    .dataframe thead th {\n",
       "        text-align: left;\n",
       "    }\n",
       "\n",
       "    .dataframe tbody tr th {\n",
       "        vertical-align: top;\n",
       "    }\n",
       "</style>\n",
       "<table border=\"1\" class=\"dataframe\">\n",
       "  <thead>\n",
       "    <tr style=\"text-align: right;\">\n",
       "      <th></th>\n",
       "      <th></th>\n",
       "      <th>flug</th>\n",
       "      <th>fldg</th>\n",
       "      <th>fnetg</th>\n",
       "    </tr>\n",
       "    <tr>\n",
       "      <th>pressure</th>\n",
       "      <th>level</th>\n",
       "      <th></th>\n",
       "      <th></th>\n",
       "      <th></th>\n",
       "    </tr>\n",
       "  </thead>\n",
       "  <tbody>\n",
       "    <tr>\n",
       "      <th>0.0000</th>\n",
       "      <th>1</th>\n",
       "      <td>-22.504215</td>\n",
       "      <td>0.000000</td>\n",
       "      <td>-22.504215</td>\n",
       "    </tr>\n",
       "    <tr>\n",
       "      <th>1.0685</th>\n",
       "      <th>24</th>\n",
       "      <td>-22.503419</td>\n",
       "      <td>0.002034</td>\n",
       "      <td>-22.501386</td>\n",
       "    </tr>\n",
       "    <tr>\n",
       "      <th>1013.0000</th>\n",
       "      <th>76</th>\n",
       "      <td>-23.591137</td>\n",
       "      <td>11.602302</td>\n",
       "      <td>-11.988836</td>\n",
       "    </tr>\n",
       "  </tbody>\n",
       "</table>\n",
       "</div>"
      ],
      "text/plain": [
       "                      flug       fldg      fnetg\n",
       "pressure  level                                 \n",
       "0.0000    1     -22.504215   0.000000 -22.504215\n",
       "1.0685    24    -22.503419   0.002034 -22.501386\n",
       "1013.0000 76    -23.591137  11.602302 -11.988836"
      ]
     },
     "metadata": {},
     "output_type": "display_data"
    },
    {
     "name": "stdout",
     "output_type": "stream",
     "text": [
      "Table. Fluxes. WGT igg=10 wgt_flux=1\n"
     ]
    },
    {
     "data": {
      "text/html": [
       "<div>\n",
       "<style>\n",
       "    .dataframe thead tr:only-child th {\n",
       "        text-align: right;\n",
       "    }\n",
       "\n",
       "    .dataframe thead th {\n",
       "        text-align: left;\n",
       "    }\n",
       "\n",
       "    .dataframe tbody tr th {\n",
       "        vertical-align: top;\n",
       "    }\n",
       "</style>\n",
       "<table border=\"1\" class=\"dataframe\">\n",
       "  <thead>\n",
       "    <tr style=\"text-align: right;\">\n",
       "      <th></th>\n",
       "      <th></th>\n",
       "      <th>flug</th>\n",
       "      <th>fldg</th>\n",
       "      <th>fnetg</th>\n",
       "    </tr>\n",
       "    <tr>\n",
       "      <th>pressure</th>\n",
       "      <th>level</th>\n",
       "      <th></th>\n",
       "      <th></th>\n",
       "      <th></th>\n",
       "    </tr>\n",
       "  </thead>\n",
       "  <tbody>\n",
       "    <tr>\n",
       "      <th>0.0000</th>\n",
       "      <th>1</th>\n",
       "      <td>-22.504461</td>\n",
       "      <td>0.000000</td>\n",
       "      <td>-22.504461</td>\n",
       "    </tr>\n",
       "    <tr>\n",
       "      <th>1.0685</th>\n",
       "      <th>24</th>\n",
       "      <td>-22.503683</td>\n",
       "      <td>0.002296</td>\n",
       "      <td>-22.501388</td>\n",
       "    </tr>\n",
       "    <tr>\n",
       "      <th>1013.0000</th>\n",
       "      <th>76</th>\n",
       "      <td>-23.591138</td>\n",
       "      <td>11.781512</td>\n",
       "      <td>-11.809626</td>\n",
       "    </tr>\n",
       "  </tbody>\n",
       "</table>\n",
       "</div>"
      ],
      "text/plain": [
       "                      flug       fldg      fnetg\n",
       "pressure  level                                 \n",
       "0.0000    1     -22.504461   0.000000 -22.504461\n",
       "1.0685    24    -22.503683   0.002296 -22.501388\n",
       "1013.0000 76    -23.591138  11.781512 -11.809626"
      ]
     },
     "metadata": {},
     "output_type": "display_data"
    },
    {
     "name": "stdout",
     "output_type": "stream",
     "text": [
      "Table. Fluxes. CRD\n"
     ]
    },
    {
     "data": {
      "text/html": [
       "<div>\n",
       "<style>\n",
       "    .dataframe thead tr:only-child th {\n",
       "        text-align: right;\n",
       "    }\n",
       "\n",
       "    .dataframe thead th {\n",
       "        text-align: left;\n",
       "    }\n",
       "\n",
       "    .dataframe tbody tr th {\n",
       "        vertical-align: top;\n",
       "    }\n",
       "</style>\n",
       "<table border=\"1\" class=\"dataframe\">\n",
       "  <thead>\n",
       "    <tr style=\"text-align: right;\">\n",
       "      <th></th>\n",
       "      <th></th>\n",
       "      <th>flug</th>\n",
       "      <th>fldg</th>\n",
       "      <th>fnetg</th>\n",
       "    </tr>\n",
       "    <tr>\n",
       "      <th>pressure</th>\n",
       "      <th>level</th>\n",
       "      <th></th>\n",
       "      <th></th>\n",
       "      <th></th>\n",
       "    </tr>\n",
       "  </thead>\n",
       "  <tbody>\n",
       "    <tr>\n",
       "      <th>1.000000e-08</th>\n",
       "      <th>1</th>\n",
       "      <td>-22.383915</td>\n",
       "      <td>9.536743e-07</td>\n",
       "      <td>-22.383915</td>\n",
       "    </tr>\n",
       "    <tr>\n",
       "      <th>1.068500e+00</th>\n",
       "      <th>24</th>\n",
       "      <td>-22.382730</td>\n",
       "      <td>2.985954e-03</td>\n",
       "      <td>-22.379745</td>\n",
       "    </tr>\n",
       "    <tr>\n",
       "      <th>1.013000e+03</th>\n",
       "      <th>76</th>\n",
       "      <td>-23.591141</td>\n",
       "      <td>1.431082e+01</td>\n",
       "      <td>-9.280319</td>\n",
       "    </tr>\n",
       "  </tbody>\n",
       "</table>\n",
       "</div>"
      ],
      "text/plain": [
       "                         flug          fldg      fnetg\n",
       "pressure     level                                    \n",
       "1.000000e-08 1     -22.383915  9.536743e-07 -22.383915\n",
       "1.068500e+00 24    -22.382730  2.985954e-03 -22.379745\n",
       "1.013000e+03 76    -23.591141  1.431082e+01  -9.280319"
      ]
     },
     "metadata": {},
     "output_type": "display_data"
    },
    {
     "name": "stdout",
     "output_type": "stream",
     "text": [
      "Table. Fluxes. CLIRAD\n"
     ]
    },
    {
     "data": {
      "text/html": [
       "<div>\n",
       "<style>\n",
       "    .dataframe thead tr:only-child th {\n",
       "        text-align: right;\n",
       "    }\n",
       "\n",
       "    .dataframe thead th {\n",
       "        text-align: left;\n",
       "    }\n",
       "\n",
       "    .dataframe tbody tr th {\n",
       "        vertical-align: top;\n",
       "    }\n",
       "</style>\n",
       "<table border=\"1\" class=\"dataframe\">\n",
       "  <thead>\n",
       "    <tr style=\"text-align: right;\">\n",
       "      <th></th>\n",
       "      <th></th>\n",
       "      <th>flug</th>\n",
       "      <th>fldg</th>\n",
       "      <th>fnetg</th>\n",
       "    </tr>\n",
       "    <tr>\n",
       "      <th>pressure</th>\n",
       "      <th>level</th>\n",
       "      <th></th>\n",
       "      <th></th>\n",
       "      <th></th>\n",
       "    </tr>\n",
       "  </thead>\n",
       "  <tbody>\n",
       "    <tr>\n",
       "      <th>0.0000</th>\n",
       "      <th>1</th>\n",
       "      <td>-2.457580e-04</td>\n",
       "      <td>0.000000</td>\n",
       "      <td>-0.000246</td>\n",
       "    </tr>\n",
       "    <tr>\n",
       "      <th>1.0685</th>\n",
       "      <th>24</th>\n",
       "      <td>-2.643440e-04</td>\n",
       "      <td>0.000262</td>\n",
       "      <td>-0.000002</td>\n",
       "    </tr>\n",
       "    <tr>\n",
       "      <th>1013.0000</th>\n",
       "      <th>76</th>\n",
       "      <td>-6.190000e-07</td>\n",
       "      <td>0.179210</td>\n",
       "      <td>0.179210</td>\n",
       "    </tr>\n",
       "  </tbody>\n",
       "</table>\n",
       "</div>"
      ],
      "text/plain": [
       "                         flug      fldg     fnetg\n",
       "pressure  level                                  \n",
       "0.0000    1     -2.457580e-04  0.000000 -0.000246\n",
       "1.0685    24    -2.643440e-04  0.000262 -0.000002\n",
       "1013.0000 76    -6.190000e-07  0.179210  0.179210"
      ]
     },
     "metadata": {},
     "output_type": "display_data"
    },
    {
     "name": "stdout",
     "output_type": "stream",
     "text": [
      "Table. Fluxes. (CRD) - (WGT igg=10 wgt_flux=1)\n"
     ]
    },
    {
     "data": {
      "text/html": [
       "<div>\n",
       "<style>\n",
       "    .dataframe thead tr:only-child th {\n",
       "        text-align: right;\n",
       "    }\n",
       "\n",
       "    .dataframe thead th {\n",
       "        text-align: left;\n",
       "    }\n",
       "\n",
       "    .dataframe tbody tr th {\n",
       "        vertical-align: top;\n",
       "    }\n",
       "</style>\n",
       "<table border=\"1\" class=\"dataframe\">\n",
       "  <thead>\n",
       "    <tr style=\"text-align: right;\">\n",
       "      <th></th>\n",
       "      <th></th>\n",
       "      <th>flug</th>\n",
       "      <th>fldg</th>\n",
       "      <th>fnetg</th>\n",
       "    </tr>\n",
       "    <tr>\n",
       "      <th>pressure</th>\n",
       "      <th>level</th>\n",
       "      <th></th>\n",
       "      <th></th>\n",
       "      <th></th>\n",
       "    </tr>\n",
       "  </thead>\n",
       "  <tbody>\n",
       "    <tr>\n",
       "      <th>0.0000</th>\n",
       "      <th>1</th>\n",
       "      <td>0.120300</td>\n",
       "      <td>9.536743e-07</td>\n",
       "      <td>0.120300</td>\n",
       "    </tr>\n",
       "    <tr>\n",
       "      <th>1.0685</th>\n",
       "      <th>24</th>\n",
       "      <td>0.120689</td>\n",
       "      <td>9.522943e-04</td>\n",
       "      <td>0.121641</td>\n",
       "    </tr>\n",
       "    <tr>\n",
       "      <th>1013.0000</th>\n",
       "      <th>76</th>\n",
       "      <td>-0.000004</td>\n",
       "      <td>2.708520e+00</td>\n",
       "      <td>2.708517</td>\n",
       "    </tr>\n",
       "  </tbody>\n",
       "</table>\n",
       "</div>"
      ],
      "text/plain": [
       "                     flug          fldg     fnetg\n",
       "pressure  level                                  \n",
       "0.0000    1      0.120300  9.536743e-07  0.120300\n",
       "1.0685    24     0.120689  9.522943e-04  0.121641\n",
       "1013.0000 76    -0.000004  2.708520e+00  2.708517"
      ]
     },
     "metadata": {},
     "output_type": "display_data"
    },
    {
     "name": "stdout",
     "output_type": "stream",
     "text": [
      "Table. Fluxes. (CLIRAD) - (WGT igg=10 wgt_flux=1)\n"
     ]
    },
    {
     "data": {
      "text/html": [
       "<a id=\"Best-fit_Parameters\"></a>"
      ],
      "text/plain": [
       "<IPython.core.display.HTML object>"
      ]
     },
     "metadata": {},
     "output_type": "display_data"
    },
    {
     "data": {
      "text/markdown": [
       "# Best-fit Parameters"
      ],
      "text/plain": [
       "<IPython.core.display.Markdown object>"
      ]
     },
     "metadata": {},
     "output_type": "display_data"
    },
    {
     "name": "stdout",
     "output_type": "stream",
     "text": [
      "Best-fit values for each (gas, band)\n",
      "------------------------------------\n",
      "o h2o band3a\n",
      "  atmpro = mls\n",
      "  band = 3a\n",
      "  commitnumber = 2bd1f75\n",
      "  conc = None\n",
      "  dv = 0.01\n",
      "  klin = 0\n",
      "  molecule = h2o\n",
      "  ng_adju = [0, 0]\n",
      "  ng_refs = [2, 6]\n",
      "  nv = 100\n",
      "  option_compute_btable = 0\n",
      "  option_compute_ktable = 1\n",
      "  option_wgt_flux = 1\n",
      "  option_wgt_k = 1\n",
      "  ref_pts = [(10, 250), (600, 250)]\n",
      "  tsfc = 294\n",
      "  vmax = 620\n",
      "  vmin = 540\n",
      "  w_diffuse = [(1.9, 1.7), (1.4, 1.4, 1.4, 1.55, 1.6, 1.66)]\n",
      "  wgt = [(0.7, 0.7), (0.7, 0.5, 0.5, 0.5, 0.5, 0.5)]\n"
     ]
    }
   ],
   "source": [
    "script()"
   ]
  },
  {
   "cell_type": "code",
   "execution_count": 13,
   "metadata": {
    "collapsed": true
   },
   "outputs": [
    {
     "data": {
      "text/html": [
       "<script>\n",
       "code_show=true; \n",
       "function code_toggle() {\n",
       " if (code_show){\n",
       " $('div.input').hide();\n",
       " } else {\n",
       " $('div.input').show();\n",
       " }\n",
       " code_show = !code_show\n",
       "} \n",
       "$( document ).ready(code_toggle);\n",
       "</script>\n",
       "<form action=\"javascript:code_toggle()\"><input type=\"submit\" value=\"Click here to toggle on/off the raw code.\"></form>"
      ],
      "text/plain": [
       "<IPython.core.display.HTML object>"
      ]
     },
     "execution_count": 13,
     "metadata": {},
     "output_type": "execute_result"
    }
   ],
   "source": [
    "display.HTML('''<script>\n",
    "code_show=true; \n",
    "function code_toggle() {\n",
    " if (code_show){\n",
    " $('div.input').hide();\n",
    " } else {\n",
    " $('div.input').show();\n",
    " }\n",
    " code_show = !code_show\n",
    "} \n",
    "$( document ).ready(code_toggle);\n",
    "</script>\n",
    "<form action=\"javascript:code_toggle()\"><input type=\"submit\" value=\"Click here to toggle on/off the raw code.\"></form>''')"
   ]
  }
 ],
 "metadata": {
  "kernelspec": {
   "display_name": "Python 3",
   "language": "python",
   "name": "python3"
  },
  "language_info": {
   "codemirror_mode": {
    "name": "ipython",
    "version": 3
   },
   "file_extension": ".py",
   "mimetype": "text/x-python",
   "name": "python",
   "nbconvert_exporter": "python",
   "pygments_lexer": "ipython3",
   "version": "3.6.1"
  }
 },
 "nbformat": 4,
 "nbformat_minor": 2
}
