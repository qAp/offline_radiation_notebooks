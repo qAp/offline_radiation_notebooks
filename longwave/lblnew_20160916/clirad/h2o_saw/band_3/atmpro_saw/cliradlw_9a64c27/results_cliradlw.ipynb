{
 "cells": [
  {
   "cell_type": "code",
   "execution_count": 1,
   "metadata": {
    "collapsed": true
   },
   "outputs": [],
   "source": [
    "%matplotlib inline\n",
    "import os\n",
    "import re\n",
    "import io\n",
    "import itertools\n",
    "import pprint\n",
    "\n",
    "from bokeh.io import output_notebook, show\n",
    "from bokeh.layouts import gridplot\n",
    "from bokeh.plotting import figure\n",
    "from bokeh.models import Range1d, Legend\n",
    "from bokeh.palettes import all_palettes\n",
    "\n",
    "import matplotlib\n",
    "import matplotlib.pyplot as plt\n",
    "import numpy as np\n",
    "import pandas as pd\n",
    "import xarray as xr\n",
    "\n",
    "import climatools.lblnew.bestfit_params as bestfits\n",
    "from climatools.lblnew import setup_bestfit, setup_overlap\n",
    "import climatools.lblnew.pipeline as pipe_lblnew\n",
    "import climatools.cliradlw.setup as setup_cliradlw\n",
    "import climatools.cliradlw.pipeline as pipe_cliradlw\n",
    "\n",
    "import climatools.html.html as climahtml\n",
    "from climatools.lblnew.dataio import *\n",
    "from climatools.plot.plot import *\n",
    "\n",
    "\n",
    "import IPython.display as display"
   ]
  },
  {
   "cell_type": "code",
   "execution_count": 2,
   "metadata": {
    "collapsed": true
   },
   "outputs": [],
   "source": [
    "%run param.py"
   ]
  },
  {
   "cell_type": "code",
   "execution_count": 3,
   "metadata": {
    "collapsed": true
   },
   "outputs": [],
   "source": [
    "def load_output_file(path_csv):\n",
    "    '''\n",
    "    Load lblnew output .csv file to xarray.Dataset\n",
    "    \n",
    "    Parameters\n",
    "    ----------\n",
    "    path_csv: str\n",
    "              Path to the .csv file to be loaded.\n",
    "    ds: xarray.Dataset\n",
    "        Data in the input file in the form of an xarray.Dataset.\n",
    "    '''\n",
    "    toindex = ['band', 'pressure', 'igg', 'g']    \n",
    "    df = pd.read_csv(path_csv, sep=r'\\s+')\n",
    "    df = df.set_index([i for i in toindex if i in df.columns])\n",
    "    df = df.rename(columns={'sfu': 'flug',\n",
    "                            'sfd': 'fldg',\n",
    "                            'fnet': 'fnetg',\n",
    "                            'coolr': 'coolrg'})\n",
    "    ds = xr.Dataset.from_dataframe(df)\n",
    "\n",
    "    for l in ('level', 'layer'):\n",
    "        if l in ds.data_vars:\n",
    "            if len(ds[l].dims) > 1:\n",
    "                surface = {d: 0 for d in ds.dims if d != 'pressure'}\n",
    "                coord_level = ds[l][surface]\n",
    "                ds.coords[l] = ('pressure', coord_level)\n",
    "            else:\n",
    "                ds.coords[l] = ('pressure', ds[l])\n",
    "    \n",
    "    return ds"
   ]
  },
  {
   "cell_type": "code",
   "execution_count": 4,
   "metadata": {
    "collapsed": true
   },
   "outputs": [],
   "source": [
    "def lblnew_setup(param=None):\n",
    "    if 'ng_refs' in param:\n",
    "        return {'setup': setup_bestfit,\n",
    "                'fname_flux_crd': 'output_flux.dat',\n",
    "                'fname_cool_crd': 'output_coolr.dat',\n",
    "                'fname_flux_wgt': 'output_wfluxg.dat',\n",
    "                'fname_cool_wgt': 'output_wcoolrg.dat'}\n",
    "    else:\n",
    "        return {'setup': setup_overlap,\n",
    "                'fname_flux_crd': 'output_flux.dat',\n",
    "                'fname_cool_crd': 'output_coolr.dat',\n",
    "                'fname_flux_wgt': 'output_wflux.dat',\n",
    "                'fname_cool_wgt': 'output_wcoolr.dat'}\n",
    "\n",
    "    \n",
    "def load_lblnew_data(param):\n",
    "    \n",
    "    fname_dsname = [('fname_flux_crd', 'ds_flux_crd'),\n",
    "                    ('fname_cool_crd', 'ds_cool_crd'),\n",
    "                    ('fname_flux_wgt', 'ds_flux_wgt'),\n",
    "                    ('fname_cool_wgt', 'ds_cool_wgt')]\n",
    "    \n",
    "    d = lblnew_setup(param)\n",
    "    dir_fortran = pipe_lblnew.get_dir_case(param, setup=d['setup'])\n",
    "    \n",
    "    data_dict = {}\n",
    "    for fname, dsname in fname_dsname:\n",
    "        fpath = os.path.join(dir_fortran, d[fname])\n",
    "        data_dict[dsname] = load_output_file(fpath)\n",
    "    return data_dict\n",
    "    \n",
    "\n",
    "    \n",
    "    "
   ]
  },
  {
   "cell_type": "code",
   "execution_count": 5,
   "metadata": {
    "collapsed": true
   },
   "outputs": [],
   "source": [
    "d = load_lblnew_data(PARAM_LBLNEW)\n",
    "\n",
    "DS_FLUX_CRD = d['ds_flux_crd']\n",
    "DS_COOL_CRD = d['ds_cool_crd']\n",
    "DS_FLUX_WGT = d['ds_flux_wgt']\n",
    "DS_COOL_WGT = d['ds_cool_wgt']"
   ]
  },
  {
   "cell_type": "code",
   "execution_count": 6,
   "metadata": {
    "collapsed": true
   },
   "outputs": [],
   "source": [
    "DIR_FORTRAN = pipe_cliradlw.get_fortran_dir(PARAM, \n",
    "                                            setup=setup_cliradlw)\n",
    "\n",
    "PATH_FLUX = os.path.join(DIR_FORTRAN, 'output_flux.dat')\n",
    "PATH_COOL = os.path.join(DIR_FORTRAN, 'output_coolr.dat')\n",
    "\n",
    "DS_FLUX = load_output_file(PATH_FLUX)\n",
    "DS_COOL = load_output_file(PATH_COOL)"
   ]
  },
  {
   "cell_type": "code",
   "execution_count": 7,
   "metadata": {
    "collapsed": true
   },
   "outputs": [
    {
     "data": {
      "text/html": [
       "\n",
       "    <div class=\"bk-root\">\n",
       "        <a href=\"https://bokeh.pydata.org\" target=\"_blank\" class=\"bk-logo bk-logo-small bk-logo-notebook\"></a>\n",
       "        <span id=\"2f6c12db-42f5-478e-b564-8cf70cda473f\">Loading BokehJS ...</span>\n",
       "    </div>"
      ]
     },
     "metadata": {},
     "output_type": "display_data"
    },
    {
     "data": {
      "application/javascript": [
       "\n",
       "(function(root) {\n",
       "  function now() {\n",
       "    return new Date();\n",
       "  }\n",
       "\n",
       "  var force = true;\n",
       "\n",
       "  if (typeof (root._bokeh_onload_callbacks) === \"undefined\" || force === true) {\n",
       "    root._bokeh_onload_callbacks = [];\n",
       "    root._bokeh_is_loading = undefined;\n",
       "  }\n",
       "\n",
       "  var JS_MIME_TYPE = 'application/javascript';\n",
       "  var HTML_MIME_TYPE = 'text/html';\n",
       "  var EXEC_MIME_TYPE = 'application/vnd.bokehjs_exec.v0+json';\n",
       "  var CLASS_NAME = 'output_bokeh rendered_html';\n",
       "\n",
       "  /**\n",
       "   * Render data to the DOM node\n",
       "   */\n",
       "  function render(props, node) {\n",
       "    var script = document.createElement(\"script\");\n",
       "    node.appendChild(script);\n",
       "  }\n",
       "\n",
       "  /**\n",
       "   * Handle when an output is cleared or removed\n",
       "   */\n",
       "  function handleClearOutput(event, handle) {\n",
       "    var cell = handle.cell;\n",
       "\n",
       "    var id = cell.output_area._bokeh_element_id;\n",
       "    var server_id = cell.output_area._bokeh_server_id;\n",
       "    // Clean up Bokeh references\n",
       "    if (id !== undefined) {\n",
       "      Bokeh.index[id].model.document.clear();\n",
       "      delete Bokeh.index[id];\n",
       "    }\n",
       "\n",
       "    if (server_id !== undefined) {\n",
       "      // Clean up Bokeh references\n",
       "      var cmd = \"from bokeh.io.state import curstate; print(curstate().uuid_to_server['\" + server_id + \"'].get_sessions()[0].document.roots[0]._id)\";\n",
       "      cell.notebook.kernel.execute(cmd, {\n",
       "        iopub: {\n",
       "          output: function(msg) {\n",
       "            var element_id = msg.content.text.trim();\n",
       "            Bokeh.index[element_id].model.document.clear();\n",
       "            delete Bokeh.index[element_id];\n",
       "          }\n",
       "        }\n",
       "      });\n",
       "      // Destroy server and session\n",
       "      var cmd = \"import bokeh.io.notebook as ion; ion.destroy_server('\" + server_id + \"')\";\n",
       "      cell.notebook.kernel.execute(cmd);\n",
       "    }\n",
       "  }\n",
       "\n",
       "  /**\n",
       "   * Handle when a new output is added\n",
       "   */\n",
       "  function handleAddOutput(event, handle) {\n",
       "    var output_area = handle.output_area;\n",
       "    var output = handle.output;\n",
       "\n",
       "    // limit handleAddOutput to display_data with EXEC_MIME_TYPE content only\n",
       "    if ((output.output_type != \"display_data\") || (!output.data.hasOwnProperty(EXEC_MIME_TYPE))) {\n",
       "      return\n",
       "    }\n",
       "\n",
       "    var toinsert = output_area.element.find(\".\" + CLASS_NAME.split(' ')[0]);\n",
       "\n",
       "    if (output.metadata[EXEC_MIME_TYPE][\"id\"] !== undefined) {\n",
       "      toinsert[0].firstChild.textContent = output.data[JS_MIME_TYPE];\n",
       "      // store reference to embed id on output_area\n",
       "      output_area._bokeh_element_id = output.metadata[EXEC_MIME_TYPE][\"id\"];\n",
       "    }\n",
       "    if (output.metadata[EXEC_MIME_TYPE][\"server_id\"] !== undefined) {\n",
       "      var bk_div = document.createElement(\"div\");\n",
       "      bk_div.innerHTML = output.data[HTML_MIME_TYPE];\n",
       "      var script_attrs = bk_div.children[0].attributes;\n",
       "      for (var i = 0; i < script_attrs.length; i++) {\n",
       "        toinsert[0].firstChild.setAttribute(script_attrs[i].name, script_attrs[i].value);\n",
       "      }\n",
       "      // store reference to server id on output_area\n",
       "      output_area._bokeh_server_id = output.metadata[EXEC_MIME_TYPE][\"server_id\"];\n",
       "    }\n",
       "  }\n",
       "\n",
       "  function register_renderer(events, OutputArea) {\n",
       "\n",
       "    function append_mime(data, metadata, element) {\n",
       "      // create a DOM node to render to\n",
       "      var toinsert = this.create_output_subarea(\n",
       "        metadata,\n",
       "        CLASS_NAME,\n",
       "        EXEC_MIME_TYPE\n",
       "      );\n",
       "      this.keyboard_manager.register_events(toinsert);\n",
       "      // Render to node\n",
       "      var props = {data: data, metadata: metadata[EXEC_MIME_TYPE]};\n",
       "      render(props, toinsert[0]);\n",
       "      element.append(toinsert);\n",
       "      return toinsert\n",
       "    }\n",
       "\n",
       "    /* Handle when an output is cleared or removed */\n",
       "    events.on('clear_output.CodeCell', handleClearOutput);\n",
       "    events.on('delete.Cell', handleClearOutput);\n",
       "\n",
       "    /* Handle when a new output is added */\n",
       "    events.on('output_added.OutputArea', handleAddOutput);\n",
       "\n",
       "    /**\n",
       "     * Register the mime type and append_mime function with output_area\n",
       "     */\n",
       "    OutputArea.prototype.register_mime_type(EXEC_MIME_TYPE, append_mime, {\n",
       "      /* Is output safe? */\n",
       "      safe: true,\n",
       "      /* Index of renderer in `output_area.display_order` */\n",
       "      index: 0\n",
       "    });\n",
       "  }\n",
       "\n",
       "  // register the mime type if in Jupyter Notebook environment and previously unregistered\n",
       "  if (root.Jupyter !== undefined) {\n",
       "    var events = require('base/js/events');\n",
       "    var OutputArea = require('notebook/js/outputarea').OutputArea;\n",
       "\n",
       "    if (OutputArea.prototype.mime_types().indexOf(EXEC_MIME_TYPE) == -1) {\n",
       "      register_renderer(events, OutputArea);\n",
       "    }\n",
       "  }\n",
       "\n",
       "  \n",
       "  if (typeof (root._bokeh_timeout) === \"undefined\" || force === true) {\n",
       "    root._bokeh_timeout = Date.now() + 5000;\n",
       "    root._bokeh_failed_load = false;\n",
       "  }\n",
       "\n",
       "  var NB_LOAD_WARNING = {'data': {'text/html':\n",
       "     \"<div style='background-color: #fdd'>\\n\"+\n",
       "     \"<p>\\n\"+\n",
       "     \"BokehJS does not appear to have successfully loaded. If loading BokehJS from CDN, this \\n\"+\n",
       "     \"may be due to a slow or bad network connection. Possible fixes:\\n\"+\n",
       "     \"</p>\\n\"+\n",
       "     \"<ul>\\n\"+\n",
       "     \"<li>re-rerun `output_notebook()` to attempt to load from CDN again, or</li>\\n\"+\n",
       "     \"<li>use INLINE resources instead, as so:</li>\\n\"+\n",
       "     \"</ul>\\n\"+\n",
       "     \"<code>\\n\"+\n",
       "     \"from bokeh.resources import INLINE\\n\"+\n",
       "     \"output_notebook(resources=INLINE)\\n\"+\n",
       "     \"</code>\\n\"+\n",
       "     \"</div>\"}};\n",
       "\n",
       "  function display_loaded() {\n",
       "    var el = document.getElementById(\"2f6c12db-42f5-478e-b564-8cf70cda473f\");\n",
       "    if (el != null) {\n",
       "      el.textContent = \"BokehJS is loading...\";\n",
       "    }\n",
       "    if (root.Bokeh !== undefined) {\n",
       "      if (el != null) {\n",
       "        el.textContent = \"BokehJS \" + root.Bokeh.version + \" successfully loaded.\";\n",
       "      }\n",
       "    } else if (Date.now() < root._bokeh_timeout) {\n",
       "      setTimeout(display_loaded, 100)\n",
       "    }\n",
       "  }\n",
       "\n",
       "\n",
       "  function run_callbacks() {\n",
       "    try {\n",
       "      root._bokeh_onload_callbacks.forEach(function(callback) { callback() });\n",
       "    }\n",
       "    finally {\n",
       "      delete root._bokeh_onload_callbacks\n",
       "    }\n",
       "    console.info(\"Bokeh: all callbacks have finished\");\n",
       "  }\n",
       "\n",
       "  function load_libs(js_urls, callback) {\n",
       "    root._bokeh_onload_callbacks.push(callback);\n",
       "    if (root._bokeh_is_loading > 0) {\n",
       "      console.log(\"Bokeh: BokehJS is being loaded, scheduling callback at\", now());\n",
       "      return null;\n",
       "    }\n",
       "    if (js_urls == null || js_urls.length === 0) {\n",
       "      run_callbacks();\n",
       "      return null;\n",
       "    }\n",
       "    console.log(\"Bokeh: BokehJS not loaded, scheduling load and callback at\", now());\n",
       "    root._bokeh_is_loading = js_urls.length;\n",
       "    for (var i = 0; i < js_urls.length; i++) {\n",
       "      var url = js_urls[i];\n",
       "      var s = document.createElement('script');\n",
       "      s.src = url;\n",
       "      s.async = false;\n",
       "      s.onreadystatechange = s.onload = function() {\n",
       "        root._bokeh_is_loading--;\n",
       "        if (root._bokeh_is_loading === 0) {\n",
       "          console.log(\"Bokeh: all BokehJS libraries loaded\");\n",
       "          run_callbacks()\n",
       "        }\n",
       "      };\n",
       "      s.onerror = function() {\n",
       "        console.warn(\"failed to load library \" + url);\n",
       "      };\n",
       "      console.log(\"Bokeh: injecting script tag for BokehJS library: \", url);\n",
       "      document.getElementsByTagName(\"head\")[0].appendChild(s);\n",
       "    }\n",
       "  };var element = document.getElementById(\"2f6c12db-42f5-478e-b564-8cf70cda473f\");\n",
       "  if (element == null) {\n",
       "    console.log(\"Bokeh: ERROR: autoload.js configured with elementid '2f6c12db-42f5-478e-b564-8cf70cda473f' but no matching script tag was found. \")\n",
       "    return false;\n",
       "  }\n",
       "\n",
       "  var js_urls = [\"https://cdn.pydata.org/bokeh/release/bokeh-0.12.14.min.js\", \"https://cdn.pydata.org/bokeh/release/bokeh-widgets-0.12.14.min.js\", \"https://cdn.pydata.org/bokeh/release/bokeh-tables-0.12.14.min.js\", \"https://cdn.pydata.org/bokeh/release/bokeh-gl-0.12.14.min.js\"];\n",
       "\n",
       "  var inline_js = [\n",
       "    function(Bokeh) {\n",
       "      Bokeh.set_log_level(\"info\");\n",
       "    },\n",
       "    \n",
       "    function(Bokeh) {\n",
       "      \n",
       "    },\n",
       "    function(Bokeh) {\n",
       "      console.log(\"Bokeh: injecting CSS: https://cdn.pydata.org/bokeh/release/bokeh-0.12.14.min.css\");\n",
       "      Bokeh.embed.inject_css(\"https://cdn.pydata.org/bokeh/release/bokeh-0.12.14.min.css\");\n",
       "      console.log(\"Bokeh: injecting CSS: https://cdn.pydata.org/bokeh/release/bokeh-widgets-0.12.14.min.css\");\n",
       "      Bokeh.embed.inject_css(\"https://cdn.pydata.org/bokeh/release/bokeh-widgets-0.12.14.min.css\");\n",
       "      console.log(\"Bokeh: injecting CSS: https://cdn.pydata.org/bokeh/release/bokeh-tables-0.12.14.min.css\");\n",
       "      Bokeh.embed.inject_css(\"https://cdn.pydata.org/bokeh/release/bokeh-tables-0.12.14.min.css\");\n",
       "    }\n",
       "  ];\n",
       "\n",
       "  function run_inline_js() {\n",
       "    \n",
       "    if ((root.Bokeh !== undefined) || (force === true)) {\n",
       "      for (var i = 0; i < inline_js.length; i++) {\n",
       "        inline_js[i].call(root, root.Bokeh);\n",
       "      }if (force === true) {\n",
       "        display_loaded();\n",
       "      }} else if (Date.now() < root._bokeh_timeout) {\n",
       "      setTimeout(run_inline_js, 100);\n",
       "    } else if (!root._bokeh_failed_load) {\n",
       "      console.log(\"Bokeh: BokehJS failed to load within specified timeout.\");\n",
       "      root._bokeh_failed_load = true;\n",
       "    } else if (force !== true) {\n",
       "      var cell = $(document.getElementById(\"2f6c12db-42f5-478e-b564-8cf70cda473f\")).parents('.cell').data().cell;\n",
       "      cell.output_area.append_execute_result(NB_LOAD_WARNING)\n",
       "    }\n",
       "\n",
       "  }\n",
       "\n",
       "  if (root._bokeh_is_loading === 0) {\n",
       "    console.log(\"Bokeh: BokehJS loaded, going straight to plotting\");\n",
       "    run_inline_js();\n",
       "  } else {\n",
       "    load_libs(js_urls, function() {\n",
       "      console.log(\"Bokeh: BokehJS plotting callback run at\", now());\n",
       "      run_inline_js();\n",
       "    });\n",
       "  }\n",
       "}(window));"
      ],
      "application/vnd.bokehjs_load.v0+json": "\n(function(root) {\n  function now() {\n    return new Date();\n  }\n\n  var force = true;\n\n  if (typeof (root._bokeh_onload_callbacks) === \"undefined\" || force === true) {\n    root._bokeh_onload_callbacks = [];\n    root._bokeh_is_loading = undefined;\n  }\n\n  \n\n  \n  if (typeof (root._bokeh_timeout) === \"undefined\" || force === true) {\n    root._bokeh_timeout = Date.now() + 5000;\n    root._bokeh_failed_load = false;\n  }\n\n  var NB_LOAD_WARNING = {'data': {'text/html':\n     \"<div style='background-color: #fdd'>\\n\"+\n     \"<p>\\n\"+\n     \"BokehJS does not appear to have successfully loaded. If loading BokehJS from CDN, this \\n\"+\n     \"may be due to a slow or bad network connection. Possible fixes:\\n\"+\n     \"</p>\\n\"+\n     \"<ul>\\n\"+\n     \"<li>re-rerun `output_notebook()` to attempt to load from CDN again, or</li>\\n\"+\n     \"<li>use INLINE resources instead, as so:</li>\\n\"+\n     \"</ul>\\n\"+\n     \"<code>\\n\"+\n     \"from bokeh.resources import INLINE\\n\"+\n     \"output_notebook(resources=INLINE)\\n\"+\n     \"</code>\\n\"+\n     \"</div>\"}};\n\n  function display_loaded() {\n    var el = document.getElementById(\"2f6c12db-42f5-478e-b564-8cf70cda473f\");\n    if (el != null) {\n      el.textContent = \"BokehJS is loading...\";\n    }\n    if (root.Bokeh !== undefined) {\n      if (el != null) {\n        el.textContent = \"BokehJS \" + root.Bokeh.version + \" successfully loaded.\";\n      }\n    } else if (Date.now() < root._bokeh_timeout) {\n      setTimeout(display_loaded, 100)\n    }\n  }\n\n\n  function run_callbacks() {\n    try {\n      root._bokeh_onload_callbacks.forEach(function(callback) { callback() });\n    }\n    finally {\n      delete root._bokeh_onload_callbacks\n    }\n    console.info(\"Bokeh: all callbacks have finished\");\n  }\n\n  function load_libs(js_urls, callback) {\n    root._bokeh_onload_callbacks.push(callback);\n    if (root._bokeh_is_loading > 0) {\n      console.log(\"Bokeh: BokehJS is being loaded, scheduling callback at\", now());\n      return null;\n    }\n    if (js_urls == null || js_urls.length === 0) {\n      run_callbacks();\n      return null;\n    }\n    console.log(\"Bokeh: BokehJS not loaded, scheduling load and callback at\", now());\n    root._bokeh_is_loading = js_urls.length;\n    for (var i = 0; i < js_urls.length; i++) {\n      var url = js_urls[i];\n      var s = document.createElement('script');\n      s.src = url;\n      s.async = false;\n      s.onreadystatechange = s.onload = function() {\n        root._bokeh_is_loading--;\n        if (root._bokeh_is_loading === 0) {\n          console.log(\"Bokeh: all BokehJS libraries loaded\");\n          run_callbacks()\n        }\n      };\n      s.onerror = function() {\n        console.warn(\"failed to load library \" + url);\n      };\n      console.log(\"Bokeh: injecting script tag for BokehJS library: \", url);\n      document.getElementsByTagName(\"head\")[0].appendChild(s);\n    }\n  };var element = document.getElementById(\"2f6c12db-42f5-478e-b564-8cf70cda473f\");\n  if (element == null) {\n    console.log(\"Bokeh: ERROR: autoload.js configured with elementid '2f6c12db-42f5-478e-b564-8cf70cda473f' but no matching script tag was found. \")\n    return false;\n  }\n\n  var js_urls = [\"https://cdn.pydata.org/bokeh/release/bokeh-0.12.14.min.js\", \"https://cdn.pydata.org/bokeh/release/bokeh-widgets-0.12.14.min.js\", \"https://cdn.pydata.org/bokeh/release/bokeh-tables-0.12.14.min.js\", \"https://cdn.pydata.org/bokeh/release/bokeh-gl-0.12.14.min.js\"];\n\n  var inline_js = [\n    function(Bokeh) {\n      Bokeh.set_log_level(\"info\");\n    },\n    \n    function(Bokeh) {\n      \n    },\n    function(Bokeh) {\n      console.log(\"Bokeh: injecting CSS: https://cdn.pydata.org/bokeh/release/bokeh-0.12.14.min.css\");\n      Bokeh.embed.inject_css(\"https://cdn.pydata.org/bokeh/release/bokeh-0.12.14.min.css\");\n      console.log(\"Bokeh: injecting CSS: https://cdn.pydata.org/bokeh/release/bokeh-widgets-0.12.14.min.css\");\n      Bokeh.embed.inject_css(\"https://cdn.pydata.org/bokeh/release/bokeh-widgets-0.12.14.min.css\");\n      console.log(\"Bokeh: injecting CSS: https://cdn.pydata.org/bokeh/release/bokeh-tables-0.12.14.min.css\");\n      Bokeh.embed.inject_css(\"https://cdn.pydata.org/bokeh/release/bokeh-tables-0.12.14.min.css\");\n    }\n  ];\n\n  function run_inline_js() {\n    \n    if ((root.Bokeh !== undefined) || (force === true)) {\n      for (var i = 0; i < inline_js.length; i++) {\n        inline_js[i].call(root, root.Bokeh);\n      }if (force === true) {\n        display_loaded();\n      }} else if (Date.now() < root._bokeh_timeout) {\n      setTimeout(run_inline_js, 100);\n    } else if (!root._bokeh_failed_load) {\n      console.log(\"Bokeh: BokehJS failed to load within specified timeout.\");\n      root._bokeh_failed_load = true;\n    } else if (force !== true) {\n      var cell = $(document.getElementById(\"2f6c12db-42f5-478e-b564-8cf70cda473f\")).parents('.cell').data().cell;\n      cell.output_area.append_execute_result(NB_LOAD_WARNING)\n    }\n\n  }\n\n  if (root._bokeh_is_loading === 0) {\n    console.log(\"Bokeh: BokehJS loaded, going straight to plotting\");\n    run_inline_js();\n  } else {\n    load_libs(js_urls, function() {\n      console.log(\"Bokeh: BokehJS plotting callback run at\", now());\n      run_inline_js();\n    });\n  }\n}(window));"
     },
     "metadata": {},
     "output_type": "display_data"
    }
   ],
   "source": [
    "output_notebook()"
   ]
  },
  {
   "cell_type": "code",
   "execution_count": 8,
   "metadata": {
    "collapsed": true
   },
   "outputs": [],
   "source": [
    "def fmt_cool(ds_in):\n",
    "    ds = ds_in.copy(deep=True)\n",
    "    if 'igg' in ds.dims:\n",
    "        ds = ds.sel(igg=1)\n",
    "\n",
    "    if 'g' in ds.dims:\n",
    "        ds = ds.sum('g')\n",
    "            \n",
    "    if 'band' in ds.dims:\n",
    "        try:\n",
    "            ds = ds.squeeze('band')\n",
    "        except ValueError:\n",
    "            ds = ds.sum('band')\n",
    "                \n",
    "    return ds['coolrg']\n",
    "\n",
    "\n",
    "def pltdata_cooling_1(ds_cool=None,\n",
    "                      ds_cool_crd=None, ds_cool_wgt=None):\n",
    "    \n",
    "\n",
    "\n",
    "    colors = all_palettes['Set1'][4]\n",
    "    data = [{'label': 'CLIRAD `coolr_bands`',\n",
    "             'srs': fmt_cool(ds_cool),\n",
    "             'line_dash': 'dashed', 'line_width': 5,\n",
    "             'color': colors[0], 'alpha': .6},\n",
    "            {'label': 'CRD',\n",
    "             'srs': fmt_cool(ds_cool_crd),\n",
    "             'line_dash': 'solid', 'line_width': 1.5,\n",
    "             'marker': 'circle', 'marker_size': 5,\n",
    "             'color': colors[2], 'alpha': 1,},\n",
    "            {'label': 'WGT igg=10 wgt_flux=2',\n",
    "             'srs': fmt_cool(ds_cool_wgt),\n",
    "             'line_dash': 'solid', 'line_width': 3,\n",
    "             'marker': 'square', 'marker_size': 5,\n",
    "             'color': colors[3], 'alpha': .6}]\n",
    "    return data\n",
    "\n",
    "\n",
    "def nice_xlims(pltdata=None, prange=None):\n",
    "    \n",
    "    def get_slice(srs):\n",
    "        return srs.sel(pressure=slice(*prange))\n",
    "    \n",
    "    srss = [d['srs'] for d in pltdata]\n",
    "    vmin = min([get_slice(srs).min() for srs in srss])\n",
    "    vmax = max([get_slice(srs).max() for srs in srss])\n",
    "    dv = (vmax - vmin) * .01\n",
    "    return float(vmin - dv), float(vmax + dv)\n",
    "    \n",
    "\n",
    "def plt_cooling_bokeh(pltdata=None):\n",
    "    '''\n",
    "    Plot a list of cooling rate profiles using bokeh.\n",
    "    '''\n",
    "    ymin = 1e-2 \n",
    "    ymax = 1020 \n",
    "        \n",
    "    p1 = figure(title=\"Linear pressure scale\", \n",
    "                plot_width=400)        \n",
    "    xmin, xmax = nice_xlims(pltdata, prange=(50, 1050))\n",
    "    for d in pltdata:\n",
    "        if 'marker' in d:\n",
    "            getattr(p1, d['marker'])(d['srs'].values, \n",
    "                    d['srs'].coords['pressure'].values,\n",
    "                    color=d['color'], alpha=.7)\n",
    "        p1.line(d['srs'].values, \n",
    "                d['srs'].coords['pressure'].values,\n",
    "                color=d['color'], alpha=d['alpha'], \n",
    "                line_width=d['line_width'], line_dash=d['line_dash'])\n",
    "    \n",
    "    p1.y_range = Range1d(ymax, ymin)\n",
    "    p1.yaxis.axis_label = 'pressure [mb]'   \n",
    "    p1.x_range = Range1d(xmin, xmax)\n",
    "    p1.xaxis.axis_label = 'cooling rate [K/day]'\n",
    "            \n",
    "    p2 = figure(title='Log pressure scale', y_axis_type='log',\n",
    "                plot_width=560)\n",
    "    xmin, xmax = nice_xlims(pltdata, prange=(.01, 200))\n",
    "    \n",
    "    rs = []\n",
    "    for d in pltdata:\n",
    "        rd = []\n",
    "        if 'marker' in d:\n",
    "            r_mark = getattr(p2, d['marker'])(d['srs'].values, \n",
    "                        d['srs'].coords['pressure'].values,\n",
    "                        color=d['color'], alpha=.7)\n",
    "            rd.append(r_mark)\n",
    "        r_line = p2.line(d['srs'].values, \n",
    "                    d['srs'].coords['pressure'].values,\n",
    "                    color=d['color'], alpha=d['alpha'], \n",
    "                    line_width=d['line_width'], line_dash=d['line_dash'])\n",
    "        rd.append(r_line)\n",
    "      \n",
    "        rs.append(rd)\n",
    "        \n",
    "    p2.y_range = Range1d(ymax, ymin)  \n",
    "    p2.yaxis.axis_label = 'pressure [mb]'\n",
    "    \n",
    "    p2.x_range = Range1d(xmin, xmax)\n",
    "    p2.xaxis.axis_label = 'cooling rate [K/day]'\n",
    "    \n",
    "    items = [(d['label'], r) for r, d in zip(rs, pltdata)]\n",
    "    legend = Legend(items=items, location=(10, -30))\n",
    "    legend.label_text_font_size = '8pt'\n",
    "    \n",
    "    p2.add_layout(legend, 'right')  \n",
    "    \n",
    "    show(gridplot(p1, p2, ncols=2, plot_height=500))\n",
    "    \n",
    "\n",
    "def script_plt_cooling():\n",
    "    pltdata = pltdata_cooling_1(\n",
    "        ds_cool=DS_COOL,\n",
    "        ds_cool_crd=DS_COOL_CRD,\n",
    "        ds_cool_wgt=DS_COOL_WGT)\n",
    "    plt_cooling_bokeh(pltdata=pltdata)\n",
    "    print('''FIGURE. Cooling rate profiles.''')"
   ]
  },
  {
   "cell_type": "code",
   "execution_count": 9,
   "metadata": {
    "collapsed": true
   },
   "outputs": [],
   "source": [
    "def fmt_flux(ds_in):\n",
    "    ds = ds_in.copy(deep=True)\n",
    "    \n",
    "    for l in ('level', 'layer'):\n",
    "        if l in ds.data_vars:\n",
    "            if len(ds[l].dims) > 1:\n",
    "                surface = {d: 0 for d in ds.dims if d != 'pressure'}\n",
    "                coord_level = ds[l][surface]\n",
    "                ds.coords[l] = ('pressure', coord_level)\n",
    "            else:\n",
    "                ds.coords[l] = ('pressure', ds[l])\n",
    "        \n",
    "    ds = ds.isel(pressure=[0, 23, -1])\n",
    "        \n",
    "    if 'igg' in ds.dims:\n",
    "        ds = ds.sel(igg=[1])\n",
    "        ds = ds.squeeze('igg').drop('igg')\n",
    "    \n",
    "    if 'g' in ds.dims:\n",
    "        ds = ds.sum('g')\n",
    "            \n",
    "    if 'band' in ds.dims:\n",
    "        try:\n",
    "            ds = ds.squeeze('band').drop('band')\n",
    "        except ValueError:\n",
    "            ds = ds.sum('band')\n",
    "                \n",
    "    df = ds.to_dataframe()\n",
    "    df = df.set_index('level', append=True)               \n",
    "    return df\n",
    "\n",
    "\n",
    "def tbdata_flux(ds_flux=None, ds_flux_crd=None, ds_flux_wgt=None):\n",
    "    ilevels = [0, 23, -1]\n",
    "            \n",
    "    benchmark = {'label': 'WGT igg=10 wgt_flux=1',\n",
    "                 'df': fmt_flux(ds_flux_wgt)}\n",
    "    \n",
    "    tbs = [{'label': 'CRD',\n",
    "            'df': fmt_flux(ds_flux_crd)},\n",
    "           {'label': 'CLIRAD',\n",
    "            'df': fmt_flux(ds_flux)}]\n",
    "    \n",
    "    data = {'benchmark': benchmark, 'others': tbs}\n",
    "    return data\n",
    "\n",
    "\n",
    "def tb_flux(tbdata=None):\n",
    "    benchmark = tbdata['benchmark']\n",
    "    others = tbdata['others']\n",
    "    \n",
    "    def show_tb(d=None):\n",
    "        display.display(d['df'])\n",
    "        print('Table.', 'Fluxes.', d['label'])\n",
    "        \n",
    "    def show_tbdiff(d0=None, d=None):\n",
    "        df = d['df']\n",
    "        df.index = d0['df'].index\n",
    "        display.display(df - d0['df'])\n",
    "        print('Table.', 'Fluxes.', \n",
    "              '({}) - ({})'.format(d['label'], d0['label']))\n",
    "        \n",
    "    show_tb(benchmark)\n",
    "    for d in others:\n",
    "        show_tb(d)\n",
    "        \n",
    "    for d in others:\n",
    "        show_tbdiff(d=d, d0=benchmark)\n",
    "        \n",
    "        \n",
    "def script_tb_flux():\n",
    "    data = tbdata_flux(ds_flux=DS_FLUX,\n",
    "                       ds_flux_crd=DS_FLUX_CRD,\n",
    "                       ds_flux_wgt=DS_FLUX_WGT)\n",
    "    tb_flux(tbdata=data)"
   ]
  },
  {
   "cell_type": "code",
   "execution_count": 10,
   "metadata": {
    "collapsed": true
   },
   "outputs": [],
   "source": [
    "def band_map():\n",
    "    '''\n",
    "    Maps spectral bands in lblnew to spectral bands in clirad.\n",
    "    '''\n",
    "    lblnew2clirad = {'1': '1',\n",
    "            '2': '2',\n",
    "            '3a': '3',\n",
    "            '3b': '4',\n",
    "            '3c': '5',\n",
    "            '4': '6', \n",
    "            '5': '7',\n",
    "            '6': '8',\n",
    "            '7': '9', \n",
    "            '8': '10',\n",
    "            '9': '11'}\n",
    "    \n",
    "    clirad2lblnew = {clirad: lblnew \n",
    "                     for lblnew, clirad in lblnew2clirad.items()}\n",
    "    return clirad2lblnew\n",
    "\n",
    "\n",
    "def gasbands():\n",
    "    bmap = band_map()\n",
    "    gases = list(PARAM['molecule'].keys())\n",
    "    \n",
    "    bands = [bmap[str(b)] for b in PARAM['band']]\n",
    "    return list(itertools.product(gases, bands))\n",
    "\n",
    "\n",
    "def print_bestfit_params():\n",
    "    print('Best-fit values for each (gas, band)')\n",
    "    print('------------------------------------')\n",
    "    for gas, band in gasbands():\n",
    "        print('o {} band{}'.format(gas, band))\n",
    "        param = bestfits.kdist_params(molecule=gas, band=band)\n",
    "        for name, value in sorted(param.items()):\n",
    "            print(2 * ' ' + '{} = {}'.format(name, value))\n",
    "\n",
    "        \n",
    "def print_input_param():        \n",
    "    for name, value in PARAM.items():\n",
    "        print('{} = {}'.format(name, value))\n",
    "        \n",
    "        \n",
    "def print_lblnew_param():\n",
    "    for name, value in sorted(PARAM_LBLNEW.items()):\n",
    "        print('{} = {}'.format(name, value))\n"
   ]
  },
  {
   "cell_type": "code",
   "execution_count": 11,
   "metadata": {
    "collapsed": true,
    "scrolled": false
   },
   "outputs": [],
   "source": [
    "def show_html(s):\n",
    "    display.display(display.HTML(s))\n",
    "\n",
    "    \n",
    "def show_markdown(s):\n",
    "    display.display(display.Markdown(s))\n",
    "\n",
    "    \n",
    "def script():\n",
    "    \n",
    "    title = '### CLIRAD-LW'\n",
    "    s_input = 'Input Parameters'\n",
    "    s_lblnew_param = 'LBLNEW case compaired against'\n",
    "    s_bestfits = 'Best-fit Parameters'\n",
    "    s_plt_cooling = 'Cooling Rate Profiles'\n",
    "    s_tb_flux = 'Flux Comparison'\n",
    "    \n",
    "    # title\n",
    "    show_markdown('### CLIRAD-LW')\n",
    "    \n",
    "    # TOC\n",
    "    show_markdown('### Table of Contents')\n",
    "    show_html(climahtml.getHTML_hrefanchor(s_input))\n",
    "    show_html(climahtml.getHTML_hrefanchor(s_lblnew_param))\n",
    "    show_html(climahtml.getHTML_hrefanchor(s_plt_cooling))\n",
    "    show_html(climahtml.getHTML_hrefanchor(s_tb_flux))\n",
    "    show_html(climahtml.getHTML_hrefanchor(s_bestfits))\n",
    "    \n",
    "    # Input parameters\n",
    "    show_html(climahtml.getHTML_idanchor(s_input))\n",
    "    show_markdown(climahtml.getMarkdown_sectitle(s_input))\n",
    "    print_input_param()\n",
    "    \n",
    "    # LBLNEW parameters \n",
    "    show_html(climahtml.getHTML_idanchor(s_lblnew_param))\n",
    "    show_markdown(climahtml.getMarkdown_sectitle(s_lblnew_param))\n",
    "    print_lblnew_param()\n",
    "    \n",
    "    # Cooling rate profiles\n",
    "    show_html(climahtml.getHTML_idanchor(s_plt_cooling))\n",
    "    show_markdown(climahtml.getMarkdown_sectitle(s_plt_cooling))\n",
    "    script_plt_cooling()\n",
    "    \n",
    "    # Flux comparison\n",
    "    show_html(climahtml.getHTML_idanchor(s_tb_flux))\n",
    "    show_markdown(climahtml.getMarkdown_sectitle(s_tb_flux))\n",
    "    script_tb_flux()\n",
    "    \n",
    "    # Best-fit values\n",
    "    show_html(climahtml.getHTML_idanchor(s_bestfits))\n",
    "    show_markdown(climahtml.getMarkdown_sectitle(s_bestfits))\n",
    "    print_bestfit_params()\n",
    "   \n",
    "    "
   ]
  },
  {
   "cell_type": "code",
   "execution_count": 12,
   "metadata": {
    "collapsed": true,
    "scrolled": false
   },
   "outputs": [
    {
     "data": {
      "text/markdown": [
       "### CLIRAD-LW"
      ],
      "text/plain": [
       "<IPython.core.display.Markdown object>"
      ]
     },
     "metadata": {},
     "output_type": "display_data"
    },
    {
     "data": {
      "text/markdown": [
       "### Table of Contents"
      ],
      "text/plain": [
       "<IPython.core.display.Markdown object>"
      ]
     },
     "metadata": {},
     "output_type": "display_data"
    },
    {
     "data": {
      "text/html": [
       "<a href=\"#Input_Parameters\">Input Parameters</a>"
      ],
      "text/plain": [
       "<IPython.core.display.HTML object>"
      ]
     },
     "metadata": {},
     "output_type": "display_data"
    },
    {
     "data": {
      "text/html": [
       "<a href=\"#LBLNEW_case_compaired_against\">LBLNEW case compaired against</a>"
      ],
      "text/plain": [
       "<IPython.core.display.HTML object>"
      ]
     },
     "metadata": {},
     "output_type": "display_data"
    },
    {
     "data": {
      "text/html": [
       "<a href=\"#Cooling_Rate_Profiles\">Cooling Rate Profiles</a>"
      ],
      "text/plain": [
       "<IPython.core.display.HTML object>"
      ]
     },
     "metadata": {},
     "output_type": "display_data"
    },
    {
     "data": {
      "text/html": [
       "<a href=\"#Flux_Comparison\">Flux Comparison</a>"
      ],
      "text/plain": [
       "<IPython.core.display.HTML object>"
      ]
     },
     "metadata": {},
     "output_type": "display_data"
    },
    {
     "data": {
      "text/html": [
       "<a href=\"#Best-fit_Parameters\">Best-fit Parameters</a>"
      ],
      "text/plain": [
       "<IPython.core.display.HTML object>"
      ]
     },
     "metadata": {},
     "output_type": "display_data"
    },
    {
     "data": {
      "text/html": [
       "<a id=\"Input_Parameters\"></a>"
      ],
      "text/plain": [
       "<IPython.core.display.HTML object>"
      ]
     },
     "metadata": {},
     "output_type": "display_data"
    },
    {
     "data": {
      "text/markdown": [
       "# Input Parameters"
      ],
      "text/plain": [
       "<IPython.core.display.Markdown object>"
      ]
     },
     "metadata": {},
     "output_type": "display_data"
    },
    {
     "name": "stdout",
     "output_type": "stream",
     "text": [
      "atmpro = saw\n",
      "band = [3]\n",
      "commitnumber = 9a64c27\n",
      "molecule = {'h2o': 'atmpro'}\n",
      "tsfc = 257\n"
     ]
    },
    {
     "data": {
      "text/html": [
       "<a id=\"LBLNEW_case_compaired_against\"></a>"
      ],
      "text/plain": [
       "<IPython.core.display.HTML object>"
      ]
     },
     "metadata": {},
     "output_type": "display_data"
    },
    {
     "data": {
      "text/markdown": [
       "# LBLNEW case compaired against"
      ],
      "text/plain": [
       "<IPython.core.display.Markdown object>"
      ]
     },
     "metadata": {},
     "output_type": "display_data"
    },
    {
     "name": "stdout",
     "output_type": "stream",
     "text": [
      "atmpro = saw\n",
      "band = 3a\n",
      "commitnumber = 2bd1f75\n",
      "conc = None\n",
      "dv = 0.01\n",
      "klin = 0\n",
      "molecule = h2o\n",
      "ng_adju = [0, 0]\n",
      "ng_refs = [2, 6]\n",
      "nv = 100\n",
      "option_compute_btable = 0\n",
      "option_compute_ktable = 0\n",
      "option_wgt_flux = 1\n",
      "option_wgt_k = 1\n",
      "ref_pts = [(10, 250), (600, 250)]\n",
      "tsfc = 257\n",
      "vmax = 620\n",
      "vmin = 540\n",
      "w_diffuse = [(1.9, 1.7), (1.4, 1.4, 1.4, 1.55, 1.6, 1.66)]\n",
      "wgt = [(0.7, 0.7), (0.7, 0.5, 0.5, 0.5, 0.5, 0.5)]\n"
     ]
    },
    {
     "data": {
      "text/html": [
       "<a id=\"Cooling_Rate_Profiles\"></a>"
      ],
      "text/plain": [
       "<IPython.core.display.HTML object>"
      ]
     },
     "metadata": {},
     "output_type": "display_data"
    },
    {
     "data": {
      "text/markdown": [
       "# Cooling Rate Profiles"
      ],
      "text/plain": [
       "<IPython.core.display.Markdown object>"
      ]
     },
     "metadata": {},
     "output_type": "display_data"
    },
    {
     "data": {
      "text/html": [
       "\n",
       "<div class=\"bk-root\">\n",
       "    <div class=\"bk-plotdiv\" id=\"5018b13b-3245-4abb-9c8e-a7424fc5c350\"></div>\n",
       "</div>"
      ]
     },
     "metadata": {},
     "output_type": "display_data"
    },
    {
     "data": {
      "application/javascript": [
       "(function(root) {\n",
       "  function embed_document(root) {\n",
       "    \n",
       "  var docs_json = {\"268be655-0ce8-4f6d-a3a3-6d6a52ede276\":{\"roots\":{\"references\":[{\"attributes\":{\"callback\":null,\"end\":0.01,\"start\":1020},\"id\":\"899566bb-a438-4224-a0f8-82af778a5de9\",\"type\":\"Range1d\"},{\"attributes\":{\"callback\":null,\"column_names\":[\"x\",\"y\"],\"data\":{\"x\":{\"__ndarray__\":\"rEw55kqyZj+A41Y04nFlP+22DRfAqm8/l9c4vFPKcj8atxhEKwV2P4DkqCPRmXk/Va11wPaOfT8lr6FnefaAP+lyO14+XoM/DavlvyEDhj8RrJ1t3emIP3dlR0XEFow/jb3u34KNjz9yuzeJuG6RP8lQQ4vUypI/KjjGkpUGlD8Y2IF4/02VP2OEPPcooJY/gqKTVI/8lz+obQVF2mOZPy5gDCliuJo/xbJhmfOWmT9IZ5PVClmVP/0KuDhB05A/yepE7I0Gij/6kzivkauDP7eOm2kc1Hw/Af/yUjMgdT9e7fwo0ApwPxsYmh7dV2g/WwArY+KfYT92+vOEFKlYP+whiFV2mFM/v9ohGm5bUz+oOLi7oQVVP4CqP7Z0olc/Sg7/waz9WT8wChUriT1bP0xsfoCVymI/TC+gxYE4aD8zCKqJ8P1tP3FnHjnEynA/JapZ3tMgcj+QXYSS0j9zP0YqwkT5RnQ/VD2zQbqhdz8GX/DfN9t/P5ZaNg1mIIY/vMePtPhtkj8zAwSPSSiePzHdy005/qU/zbNkHpGgrT+ESju5z7+yP2VyWITccbY/gFo1nde3uT84gSvRQMm8Px0+RP70+r8/1Zz2c46qwT/2gR5JzUfDPyLmq0eOssQ/Ok2wScjRxT8Tifg9oKLGP4YJHyE1M8c/dn0wOmqWxz/5uJl+R9zHP+HV7i6CDMg/AEevxAs7yD/9VJHh41nIP2Yxsfm4Nsg/4GzOHO2Txz9XhA/jPSDGP0tsJRFtCcQ/fon8I6HnwT8B1pHAcsa/P9D/m6yLurs/\",\"dtype\":\"float64\",\"shape\":[75]},\"y\":{\"__ndarray__\":\"S/O/Q+51ND/Sv8nbtpRIP2vylNV0PVE/aTum7souWD/At0SJ8fVgPw3Iuahxymc/MSNhhJWvcD/bTfBN02d3P2zb5nxnaoA/CD5h5MAGhz8NmeH1TyaQP+zrCsc9p5Y/LbKd76fGnz/bLW5ISEmmPww9YvTcQq8/JV2OstnstT8Er5Y7M8G+P0c+r3jqkcU/5h99k6ZBzj88bCIzFzjVP4enV8oyxN0//yH99nXg5D8qOpLLf0jtP5kqGJXUifQ/c9cS8kHP/D+/DpwzojQEQIEmwoanVwxA4lgXt9HgE0BSSZ2AJuIbQAMJih9jjiNA5q4l5INuK0AwTKYKRj0zQNv5fmq8/DpAaCJseHrtQkB/+zpwzoxKQM3MzMzMeFJAZmZmZmZqWEAAAAAAAFxeQM3MzMzMJmJAmpmZmZkfZUBmZmZmZhhoQDMzMzMzEWtAAAAAAAAKbkBmZmZmZoFwQM3MzMzM/XFAMzMzMzN6c0CamZmZmfZ0QAAAAAAAc3ZAZmZmZmbvd0DNzMzMzGt5QDMzMzMz6HpAmpmZmZlkfEAAAAAAAOF9QGZmZmZmXX9AZmZmZuZsgECamZmZGSuBQM3MzMxM6YFAAAAAAICngkAzMzMzs2WDQGZmZmbmI4RAmpmZmRnihEDNzMzMTKCFQAAAAACAXoZAMzMzM7Mch0BmZmZm5tqHQJqZmZkZmYhAzczMzExXiUAAAAAAgBWKQDMzMzOz04pAZmZmZuaRi0CamZmZGVCMQM3MzMxMDo1AAAAAAIDMjUAzMzMzs4qOQGZmZmbmSI9A\",\"dtype\":\"float64\",\"shape\":[75]}}},\"id\":\"2b177443-8b7b-43d9-9d46-5220759074c2\",\"type\":\"ColumnDataSource\"},{\"attributes\":{\"children\":[{\"id\":\"b914cfc6-e4a8-4b83-8be5-63aca2773213\",\"subtype\":\"Figure\",\"type\":\"Plot\"},{\"id\":\"1dd1a717-0d62-4e2d-9dd5-a481d682be94\",\"subtype\":\"Figure\",\"type\":\"Plot\"}]},\"id\":\"2dfe869a-9da0-4a44-89e7-2f661581ece9\",\"type\":\"Row\"},{\"attributes\":{\"data_source\":{\"id\":\"44d4fbfe-d311-4be9-aa24-50d83ab1124c\",\"type\":\"ColumnDataSource\"},\"glyph\":{\"id\":\"d525ac46-66f1-4f1d-9219-03e91cac01c2\",\"type\":\"Line\"},\"hover_glyph\":null,\"muted_glyph\":null,\"nonselection_glyph\":{\"id\":\"d9889847-7fbc-405c-b03a-1444357d9984\",\"type\":\"Line\"},\"selection_glyph\":null,\"view\":{\"id\":\"4d553d48-aa0b-43be-b05c-1323fd6cd6b4\",\"type\":\"CDSView\"}},\"id\":\"b8be601a-86c3-45f0-992b-435689a50bfe\",\"type\":\"GlyphRenderer\"},{\"attributes\":{\"source\":{\"id\":\"b36ac4bf-07db-4362-be12-c50f369b1b2a\",\"type\":\"ColumnDataSource\"}},\"id\":\"2e23f2eb-0722-4664-8dea-49df8ed3527a\",\"type\":\"CDSView\"},{\"attributes\":{\"items\":[{\"id\":\"81797e83-034a-413d-a9e7-d970c93d0998\",\"type\":\"LegendItem\"},{\"id\":\"736ec695-3969-4695-8e3c-86f78d3874fe\",\"type\":\"LegendItem\"},{\"id\":\"998602cd-d551-4fbb-9c80-852ea99dd67e\",\"type\":\"LegendItem\"}],\"label_text_font_size\":{\"value\":\"8pt\"},\"location\":[10,-30],\"plot\":{\"id\":\"1dd1a717-0d62-4e2d-9dd5-a481d682be94\",\"subtype\":\"Figure\",\"type\":\"Plot\"}},\"id\":\"7c9518b4-680f-4584-b3d4-16506121480e\",\"type\":\"Legend\"},{\"attributes\":{\"label\":{\"value\":\"CRD\"},\"renderers\":[{\"id\":\"125c643b-8f66-474c-b52e-f5570b1033ce\",\"type\":\"GlyphRenderer\"},{\"id\":\"884df8d4-61f6-4d95-a367-2a8c41ff9d10\",\"type\":\"GlyphRenderer\"}]},\"id\":\"736ec695-3969-4695-8e3c-86f78d3874fe\",\"type\":\"LegendItem\"},{\"attributes\":{\"line_alpha\":0.1,\"line_color\":\"#1f77b4\",\"line_dash\":[6],\"line_width\":5,\"x\":{\"field\":\"x\"},\"y\":{\"field\":\"y\"}},\"id\":\"9dc9a9d2-f0b9-43f4-b5d9-7acd0b04b437\",\"type\":\"Line\"},{\"attributes\":{\"below\":[{\"id\":\"8fc162f9-2038-4333-8d48-620495270946\",\"type\":\"LinearAxis\"}],\"left\":[{\"id\":\"7df55a40-3bb5-419b-adbc-14f3e3f2fb8c\",\"type\":\"LogAxis\"}],\"plot_height\":500,\"plot_width\":560,\"renderers\":[{\"id\":\"8fc162f9-2038-4333-8d48-620495270946\",\"type\":\"LinearAxis\"},{\"id\":\"708bd943-e20b-497d-ad4b-9919e5b08d02\",\"type\":\"Grid\"},{\"id\":\"7df55a40-3bb5-419b-adbc-14f3e3f2fb8c\",\"type\":\"LogAxis\"},{\"id\":\"c6a8df27-3977-4daa-979f-8590fcc36532\",\"type\":\"Grid\"},{\"id\":\"5d5ecd0c-ac60-4054-9ecf-7d0f20b81fea\",\"type\":\"BoxAnnotation\"},{\"id\":\"999c3442-05f5-4298-b39e-d7c58096f173\",\"type\":\"GlyphRenderer\"},{\"id\":\"125c643b-8f66-474c-b52e-f5570b1033ce\",\"type\":\"GlyphRenderer\"},{\"id\":\"884df8d4-61f6-4d95-a367-2a8c41ff9d10\",\"type\":\"GlyphRenderer\"},{\"id\":\"86af4b24-393e-48d3-9a12-da250c4fa096\",\"type\":\"GlyphRenderer\"},{\"id\":\"e0579519-af33-4e9b-a54b-2f5a93fdea3d\",\"type\":\"GlyphRenderer\"},{\"id\":\"7c9518b4-680f-4584-b3d4-16506121480e\",\"type\":\"Legend\"}],\"right\":[{\"id\":\"7c9518b4-680f-4584-b3d4-16506121480e\",\"type\":\"Legend\"}],\"title\":{\"id\":\"95aa9416-1656-4485-85c6-17c439abf174\",\"type\":\"Title\"},\"toolbar\":{\"id\":\"1538d760-fd02-4fd6-b1c5-addd5e67492f\",\"type\":\"Toolbar\"},\"toolbar_location\":null,\"x_range\":{\"id\":\"0816b789-c871-4993-8989-8ae6fffea524\",\"type\":\"Range1d\"},\"x_scale\":{\"id\":\"ad3f29b6-2934-4363-a677-2bc76f55aeb2\",\"type\":\"LinearScale\"},\"y_range\":{\"id\":\"899566bb-a438-4224-a0f8-82af778a5de9\",\"type\":\"Range1d\"},\"y_scale\":{\"id\":\"8f459e91-19e3-4127-b13c-83e2a1625528\",\"type\":\"LogScale\"}},\"id\":\"1dd1a717-0d62-4e2d-9dd5-a481d682be94\",\"subtype\":\"Figure\",\"type\":\"Plot\"},{\"attributes\":{\"data_source\":{\"id\":\"3fbaf460-06b7-4f3d-937f-aeb34cf5ce9d\",\"type\":\"ColumnDataSource\"},\"glyph\":{\"id\":\"a1a26173-3c0d-48f2-8dda-7e8b90576ea7\",\"type\":\"Line\"},\"hover_glyph\":null,\"muted_glyph\":null,\"nonselection_glyph\":{\"id\":\"b2a9cd6d-938f-44a1-81bf-7106beadbbe6\",\"type\":\"Line\"},\"selection_glyph\":null,\"view\":{\"id\":\"b308f5d5-93ab-4008-8db4-b95a47000a61\",\"type\":\"CDSView\"}},\"id\":\"ae369871-53ce-4d32-ae84-9e8091cb1adc\",\"type\":\"GlyphRenderer\"},{\"attributes\":{\"callback\":null,\"column_names\":[\"x\",\"y\"],\"data\":{\"x\":{\"__ndarray__\":\"rEw55kqyZj+A41Y04nFlP+22DRfAqm8/l9c4vFPKcj8atxhEKwV2P4DkqCPRmXk/Va11wPaOfT8lr6FnefaAP+lyO14+XoM/DavlvyEDhj8RrJ1t3emIP3dlR0XEFow/jb3u34KNjz9yuzeJuG6RP8lQQ4vUypI/KjjGkpUGlD8Y2IF4/02VP2OEPPcooJY/gqKTVI/8lz+obQVF2mOZPy5gDCliuJo/xbJhmfOWmT9IZ5PVClmVP/0KuDhB05A/yepE7I0Gij/6kzivkauDP7eOm2kc1Hw/Af/yUjMgdT9e7fwo0ApwPxsYmh7dV2g/WwArY+KfYT92+vOEFKlYP+whiFV2mFM/v9ohGm5bUz+oOLi7oQVVP4CqP7Z0olc/Sg7/waz9WT8wChUriT1bP0xsfoCVymI/TC+gxYE4aD8zCKqJ8P1tP3FnHjnEynA/JapZ3tMgcj+QXYSS0j9zP0YqwkT5RnQ/VD2zQbqhdz8GX/DfN9t/P5ZaNg1mIIY/vMePtPhtkj8zAwSPSSiePzHdy005/qU/zbNkHpGgrT+ESju5z7+yP2VyWITccbY/gFo1nde3uT84gSvRQMm8Px0+RP70+r8/1Zz2c46qwT/2gR5JzUfDPyLmq0eOssQ/Ok2wScjRxT8Tifg9oKLGP4YJHyE1M8c/dn0wOmqWxz/5uJl+R9zHP+HV7i6CDMg/AEevxAs7yD/9VJHh41nIP2Yxsfm4Nsg/4GzOHO2Txz9XhA/jPSDGP0tsJRFtCcQ/fon8I6HnwT8B1pHAcsa/P9D/m6yLurs/\",\"dtype\":\"float64\",\"shape\":[75]},\"y\":{\"__ndarray__\":\"S/O/Q+51ND/Sv8nbtpRIP2vylNV0PVE/aTum7souWD/At0SJ8fVgPw3Iuahxymc/MSNhhJWvcD/bTfBN02d3P2zb5nxnaoA/CD5h5MAGhz8NmeH1TyaQP+zrCsc9p5Y/LbKd76fGnz/bLW5ISEmmPww9YvTcQq8/JV2OstnstT8Er5Y7M8G+P0c+r3jqkcU/5h99k6ZBzj88bCIzFzjVP4enV8oyxN0//yH99nXg5D8qOpLLf0jtP5kqGJXUifQ/c9cS8kHP/D+/DpwzojQEQIEmwoanVwxA4lgXt9HgE0BSSZ2AJuIbQAMJih9jjiNA5q4l5INuK0AwTKYKRj0zQNv5fmq8/DpAaCJseHrtQkB/+zpwzoxKQM3MzMzMeFJAZmZmZmZqWEAAAAAAAFxeQM3MzMzMJmJAmpmZmZkfZUBmZmZmZhhoQDMzMzMzEWtAAAAAAAAKbkBmZmZmZoFwQM3MzMzM/XFAMzMzMzN6c0CamZmZmfZ0QAAAAAAAc3ZAZmZmZmbvd0DNzMzMzGt5QDMzMzMz6HpAmpmZmZlkfEAAAAAAAOF9QGZmZmZmXX9AZmZmZuZsgECamZmZGSuBQM3MzMxM6YFAAAAAAICngkAzMzMzs2WDQGZmZmbmI4RAmpmZmRnihEDNzMzMTKCFQAAAAACAXoZAMzMzM7Mch0BmZmZm5tqHQJqZmZkZmYhAzczMzExXiUAAAAAAgBWKQDMzMzOz04pAZmZmZuaRi0CamZmZGVCMQM3MzMxMDo1AAAAAAIDMjUAzMzMzs4qOQGZmZmbmSI9A\",\"dtype\":\"float64\",\"shape\":[75]}}},\"id\":\"44d4fbfe-d311-4be9-aa24-50d83ab1124c\",\"type\":\"ColumnDataSource\"},{\"attributes\":{\"line_alpha\":0.6,\"line_color\":\"#984ea3\",\"line_width\":3,\"x\":{\"field\":\"x\"},\"y\":{\"field\":\"y\"}},\"id\":\"a1a26173-3c0d-48f2-8dda-7e8b90576ea7\",\"type\":\"Line\"},{\"attributes\":{\"fill_alpha\":{\"value\":0.1},\"fill_color\":{\"value\":\"#1f77b4\"},\"line_alpha\":{\"value\":0.1},\"line_color\":{\"value\":\"#1f77b4\"},\"x\":{\"field\":\"x\"},\"y\":{\"field\":\"y\"}},\"id\":\"e9932e06-e539-476f-ab19-cfc919be558f\",\"type\":\"Circle\"},{\"attributes\":{\"callback\":null,\"end\":0.01,\"start\":1020},\"id\":\"1e16709e-0e16-4908-adad-a40c0580c310\",\"type\":\"Range1d\"},{\"attributes\":{},\"id\":\"ad3f29b6-2934-4363-a677-2bc76f55aeb2\",\"type\":\"LinearScale\"},{\"attributes\":{\"plot\":null,\"text\":\"Log pressure scale\"},\"id\":\"95aa9416-1656-4485-85c6-17c439abf174\",\"type\":\"Title\"},{\"attributes\":{\"data_source\":{\"id\":\"b36ac4bf-07db-4362-be12-c50f369b1b2a\",\"type\":\"ColumnDataSource\"},\"glyph\":{\"id\":\"bd647cbb-752a-4591-be90-e886a078205f\",\"type\":\"Circle\"},\"hover_glyph\":null,\"muted_glyph\":null,\"nonselection_glyph\":{\"id\":\"e9932e06-e539-476f-ab19-cfc919be558f\",\"type\":\"Circle\"},\"selection_glyph\":null,\"view\":{\"id\":\"2e23f2eb-0722-4664-8dea-49df8ed3527a\",\"type\":\"CDSView\"}},\"id\":\"43c73aef-fd89-42ed-bd04-cddf7d8b01b5\",\"type\":\"GlyphRenderer\"},{\"attributes\":{\"source\":{\"id\":\"3fbaf460-06b7-4f3d-937f-aeb34cf5ce9d\",\"type\":\"ColumnDataSource\"}},\"id\":\"b308f5d5-93ab-4008-8db4-b95a47000a61\",\"type\":\"CDSView\"},{\"attributes\":{\"line_alpha\":0.1,\"line_color\":\"#1f77b4\",\"line_width\":3,\"x\":{\"field\":\"x\"},\"y\":{\"field\":\"y\"}},\"id\":\"b2a9cd6d-938f-44a1-81bf-7106beadbbe6\",\"type\":\"Line\"},{\"attributes\":{},\"id\":\"ff4dee41-aa7e-4a4d-bf8f-ecc40b31dbc7\",\"type\":\"HelpTool\"},{\"attributes\":{\"overlay\":{\"id\":\"c7f518ae-5b12-463f-afa4-a24a47fb82df\",\"type\":\"BoxAnnotation\"}},\"id\":\"2f51ef79-3b65-4542-bd6b-5b0d4b231b9e\",\"type\":\"BoxZoomTool\"},{\"attributes\":{\"source\":{\"id\":\"2b177443-8b7b-43d9-9d46-5220759074c2\",\"type\":\"ColumnDataSource\"}},\"id\":\"53b4fb0f-11ba-42a5-86ee-5e7b77aaeaec\",\"type\":\"CDSView\"},{\"attributes\":{\"dimension\":1,\"plot\":{\"id\":\"1dd1a717-0d62-4e2d-9dd5-a481d682be94\",\"subtype\":\"Figure\",\"type\":\"Plot\"},\"ticker\":{\"id\":\"59123467-8e1c-4881-8d64-824c6c1e9ec2\",\"type\":\"LogTicker\"}},\"id\":\"c6a8df27-3977-4daa-979f-8590fcc36532\",\"type\":\"Grid\"},{\"attributes\":{},\"id\":\"9495b1a6-2aa4-4468-bbd7-31818a14fe81\",\"type\":\"HelpTool\"},{\"attributes\":{},\"id\":\"88f34062-4044-49db-a87e-0f04be6359ad\",\"type\":\"ResetTool\"},{\"attributes\":{},\"id\":\"8f459e91-19e3-4127-b13c-83e2a1625528\",\"type\":\"LogScale\"},{\"attributes\":{\"callback\":null,\"column_names\":[\"x\",\"y\"],\"data\":{\"x\":{\"__ndarray__\":\"h5gn5D7KZD/C0OaZl3pnP+jOzWeScm0/1bWMEZYjcj8sbkZHHvp1P57i2aJjR3o/j5kOFK0Zfz8spxqElDuCPzfegENmNoU/q3tIHqaCiD+oQ35orB6MP6xisDZU+Y8/9eKlSn0hkj82jNbffxyUP7Qz/t04spU/ph14Yd0Llz90oyjNb2OYP32MkaM7s5k/zlHf42D3mj+Zmx799yycPxyCQ6WaJJ0/PBx2Qlz3mj8xvih0cEaVP2fYg6SqZI8/WFNFMI+uhj/r4qFspAWAP7FCTdHqFHY/WEUAezpTbz8IP2z+I4BoPxgVd8+IMWQ/ADcgxSaZYD9gmsRO6F1bP8h5YkritFk/o0KIMrMSXD+qzn2JHldfP1B/B1CdWGE/jD2chVuMYj9AQtVvNPViPwY1m4Zqg2k/NsuO2YXibz9STO0rYBlzPxsqahsEt3Q/OYhiouS9dT+HyQtZs492P2RmgynaPnc/yeoYRwzKej9dgercAjuCP/1AVEL5gIk/bjsU1cAulT/9ghoUhi6hPyzhSCFCvKg/UnUJM99UsD/WNZK4UkW0PzhYNZFkGbg/TwTUSAnJuz/bWz5Qdky/P+1xEaXeT8E/+fv/F1PZwj/w82O8ezrEP/IQ3+yDasU/SNMsEgtjxj8dJF2WIyLHPzs4dXFdqcc/1ClNUrL/xz+7BI6h7zDIP3FY2Nt/R8g//Zv+iR1PyD93/khs0kjIP8nVXROxDMg/ViZfffpXxz8XFljX09TFP2VX1g1GssM/HTY24JiKwT/KeGvLRgi/P7NceFa57bo/\",\"dtype\":\"float64\",\"shape\":[75]},\"y\":{\"__ndarray__\":\"GhExyth1ND/Sv8nbtpRIP2vylNV0PVE/aTum7souWD/At0SJ8fVgPw3Iuahxymc/MSNhhJWvcD/bTfBN02d3P2zb5nxnaoA/CD5h5MAGhz8NmeH1TyaQP+zrCsc9p5Y/LbKd76fGnz/bLW5ISEmmPww9YvTcQq8/JV2OstnstT8Er5Y7M8G+P0c+r3jqkcU/5h99k6ZBzj88bCIzFzjVP4enV8oyxN0//yH99nXg5D8qOpLLf0jtP5kqGJXUifQ/c9cS8kHP/D+/DpwzojQEQIEmwoanVwxA4lgXt9HgE0BSSZ2AJuIbQAMJih9jjiNA5q4l5INuK0AwTKYKRj0zQNv5fmq8/DpAaCJseHrtQkB/+zpwzoxKQM3MzMzMeFJAZmZmZmZqWEAAAAAAAFxeQM3MzMzMJmJAmpmZmZkfZUBmZmZmZhhoQDMzMzMzEWtAAAAAAAAKbkBmZmZmZoFwQM3MzMzM/XFAMzMzMzN6c0CamZmZmfZ0QAAAAAAAc3ZAZmZmZmbvd0DNzMzMzGt5QDMzMzMz6HpAmpmZmZlkfEAAAAAAAOF9QGZmZmZmXX9AZmZmZuZsgECamZmZGSuBQM3MzMxM6YFAAAAAAICngkAzMzMzs2WDQGZmZmbmI4RAmpmZmRnihEDNzMzMTKCFQAAAAACAXoZAMzMzM7Mch0BmZmZm5tqHQJqZmZkZmYhAzczMzExXiUAAAAAAgBWKQDMzMzOz04pAZmZmZuaRi0CamZmZGVCMQM3MzMxMDo1AAAAAAIDMjUAzMzMzs4qOQGZmZmbmSI9A\",\"dtype\":\"float64\",\"shape\":[75]}}},\"id\":\"b36ac4bf-07db-4362-be12-c50f369b1b2a\",\"type\":\"ColumnDataSource\"},{\"attributes\":{\"bottom_units\":\"screen\",\"fill_alpha\":{\"value\":0.5},\"fill_color\":{\"value\":\"lightgrey\"},\"left_units\":\"screen\",\"level\":\"overlay\",\"line_alpha\":{\"value\":1.0},\"line_color\":{\"value\":\"black\"},\"line_dash\":[4,4],\"line_width\":{\"value\":2},\"plot\":null,\"render_mode\":\"css\",\"right_units\":\"screen\",\"top_units\":\"screen\"},\"id\":\"5d5ecd0c-ac60-4054-9ecf-7d0f20b81fea\",\"type\":\"BoxAnnotation\"},{\"attributes\":{},\"id\":\"0ffd8255-c214-4c3d-9b82-16f01a39cd01\",\"type\":\"SaveTool\"},{\"attributes\":{\"ticker\":null},\"id\":\"05cebaf8-9fe0-44ec-bf18-1bd64374dcbb\",\"type\":\"LogTickFormatter\"},{\"attributes\":{},\"id\":\"b135b1a3-c85a-40c7-8c9b-0cb8fcec301f\",\"type\":\"PanTool\"},{\"attributes\":{},\"id\":\"5a6f1084-defd-4669-9a1b-69ec2255d626\",\"type\":\"WheelZoomTool\"},{\"attributes\":{\"axis_label\":\"cooling rate [K/day]\",\"formatter\":{\"id\":\"55942511-ce83-4229-9159-e90a73a3cdbe\",\"type\":\"BasicTickFormatter\"},\"plot\":{\"id\":\"1dd1a717-0d62-4e2d-9dd5-a481d682be94\",\"subtype\":\"Figure\",\"type\":\"Plot\"},\"ticker\":{\"id\":\"6c5e221f-58a1-4643-ac17-a74c9f4f1d09\",\"type\":\"BasicTicker\"}},\"id\":\"8fc162f9-2038-4333-8d48-620495270946\",\"type\":\"LinearAxis\"},{\"attributes\":{\"overlay\":{\"id\":\"5d5ecd0c-ac60-4054-9ecf-7d0f20b81fea\",\"type\":\"BoxAnnotation\"}},\"id\":\"ba91e0d2-550b-467b-9bce-d54fbd1a2817\",\"type\":\"BoxZoomTool\"},{\"attributes\":{},\"id\":\"7108c5e0-420f-421d-ae72-4d039af30cc3\",\"type\":\"SaveTool\"},{\"attributes\":{},\"id\":\"6c5e221f-58a1-4643-ac17-a74c9f4f1d09\",\"type\":\"BasicTicker\"},{\"attributes\":{},\"id\":\"43269281-aed2-40dc-ac35-fd3eb411f0db\",\"type\":\"WheelZoomTool\"},{\"attributes\":{\"tools\":[{\"id\":\"f08e8564-34a3-4da7-adbb-1e766c1f6ccc\",\"type\":\"PanTool\"},{\"id\":\"43269281-aed2-40dc-ac35-fd3eb411f0db\",\"type\":\"WheelZoomTool\"},{\"id\":\"2f51ef79-3b65-4542-bd6b-5b0d4b231b9e\",\"type\":\"BoxZoomTool\"},{\"id\":\"7108c5e0-420f-421d-ae72-4d039af30cc3\",\"type\":\"SaveTool\"},{\"id\":\"88f34062-4044-49db-a87e-0f04be6359ad\",\"type\":\"ResetTool\"},{\"id\":\"ff4dee41-aa7e-4a4d-bf8f-ecc40b31dbc7\",\"type\":\"HelpTool\"},{\"id\":\"b135b1a3-c85a-40c7-8c9b-0cb8fcec301f\",\"type\":\"PanTool\"},{\"id\":\"5a6f1084-defd-4669-9a1b-69ec2255d626\",\"type\":\"WheelZoomTool\"},{\"id\":\"ba91e0d2-550b-467b-9bce-d54fbd1a2817\",\"type\":\"BoxZoomTool\"},{\"id\":\"0ffd8255-c214-4c3d-9b82-16f01a39cd01\",\"type\":\"SaveTool\"},{\"id\":\"8123774d-98b2-4b89-8402-483bf0a71225\",\"type\":\"ResetTool\"},{\"id\":\"9495b1a6-2aa4-4468-bbd7-31818a14fe81\",\"type\":\"HelpTool\"}]},\"id\":\"c43f9064-d84d-43c7-a276-0e784ae8ecdd\",\"type\":\"ProxyToolbar\"},{\"attributes\":{\"active_drag\":\"auto\",\"active_inspect\":\"auto\",\"active_scroll\":\"auto\",\"active_tap\":\"auto\",\"tools\":[{\"id\":\"b135b1a3-c85a-40c7-8c9b-0cb8fcec301f\",\"type\":\"PanTool\"},{\"id\":\"5a6f1084-defd-4669-9a1b-69ec2255d626\",\"type\":\"WheelZoomTool\"},{\"id\":\"ba91e0d2-550b-467b-9bce-d54fbd1a2817\",\"type\":\"BoxZoomTool\"},{\"id\":\"0ffd8255-c214-4c3d-9b82-16f01a39cd01\",\"type\":\"SaveTool\"},{\"id\":\"8123774d-98b2-4b89-8402-483bf0a71225\",\"type\":\"ResetTool\"},{\"id\":\"9495b1a6-2aa4-4468-bbd7-31818a14fe81\",\"type\":\"HelpTool\"}]},\"id\":\"1538d760-fd02-4fd6-b1c5-addd5e67492f\",\"type\":\"Toolbar\"},{\"attributes\":{\"data_source\":{\"id\":\"2b177443-8b7b-43d9-9d46-5220759074c2\",\"type\":\"ColumnDataSource\"},\"glyph\":{\"id\":\"81903480-bd1e-439b-8a39-e9f9c63fa2e8\",\"type\":\"Line\"},\"hover_glyph\":null,\"muted_glyph\":null,\"nonselection_glyph\":{\"id\":\"9dc9a9d2-f0b9-43f4-b5d9-7acd0b04b437\",\"type\":\"Line\"},\"selection_glyph\":null,\"view\":{\"id\":\"53b4fb0f-11ba-42a5-86ee-5e7b77aaeaec\",\"type\":\"CDSView\"}},\"id\":\"999c3442-05f5-4298-b39e-d7c58096f173\",\"type\":\"GlyphRenderer\"},{\"attributes\":{},\"id\":\"8123774d-98b2-4b89-8402-483bf0a71225\",\"type\":\"ResetTool\"},{\"attributes\":{},\"id\":\"f08e8564-34a3-4da7-adbb-1e766c1f6ccc\",\"type\":\"PanTool\"},{\"attributes\":{\"plot\":{\"id\":\"1dd1a717-0d62-4e2d-9dd5-a481d682be94\",\"subtype\":\"Figure\",\"type\":\"Plot\"},\"ticker\":{\"id\":\"6c5e221f-58a1-4643-ac17-a74c9f4f1d09\",\"type\":\"BasicTicker\"}},\"id\":\"708bd943-e20b-497d-ad4b-9919e5b08d02\",\"type\":\"Grid\"},{\"attributes\":{\"label\":{\"value\":\"CLIRAD `coolr_bands`\"},\"renderers\":[{\"id\":\"999c3442-05f5-4298-b39e-d7c58096f173\",\"type\":\"GlyphRenderer\"}]},\"id\":\"81797e83-034a-413d-a9e7-d970c93d0998\",\"type\":\"LegendItem\"},{\"attributes\":{\"line_alpha\":0.6,\"line_color\":\"#e41a1c\",\"line_dash\":[6],\"line_width\":5,\"x\":{\"field\":\"x\"},\"y\":{\"field\":\"y\"}},\"id\":\"81903480-bd1e-439b-8a39-e9f9c63fa2e8\",\"type\":\"Line\"},{\"attributes\":{\"line_color\":\"#4daf4a\",\"line_width\":1.5,\"x\":{\"field\":\"x\"},\"y\":{\"field\":\"y\"}},\"id\":\"14ce9121-59f6-42a3-bad8-58c0b51734e1\",\"type\":\"Line\"},{\"attributes\":{\"plot\":{\"id\":\"b914cfc6-e4a8-4b83-8be5-63aca2773213\",\"subtype\":\"Figure\",\"type\":\"Plot\"},\"ticker\":{\"id\":\"dd65acb4-896f-4c4a-919f-610c45b84008\",\"type\":\"BasicTicker\"}},\"id\":\"f1459063-795b-43bb-b991-aea7fc07249f\",\"type\":\"Grid\"},{\"attributes\":{},\"id\":\"c5bedf00-7d9e-4770-a946-e56d7b335082\",\"type\":\"LinearScale\"},{\"attributes\":{},\"id\":\"bad69306-88c8-4331-84ea-82f84e1f4056\",\"type\":\"BasicTickFormatter\"},{\"attributes\":{\"label\":{\"value\":\"WGT igg=10 wgt_flux=2\"},\"renderers\":[{\"id\":\"86af4b24-393e-48d3-9a12-da250c4fa096\",\"type\":\"GlyphRenderer\"},{\"id\":\"e0579519-af33-4e9b-a54b-2f5a93fdea3d\",\"type\":\"GlyphRenderer\"}]},\"id\":\"998602cd-d551-4fbb-9c80-852ea99dd67e\",\"type\":\"LegendItem\"},{\"attributes\":{\"axis_label\":\"cooling rate [K/day]\",\"formatter\":{\"id\":\"8563a6ae-e7fe-4a48-8fc1-f3fd557ffc60\",\"type\":\"BasicTickFormatter\"},\"plot\":{\"id\":\"b914cfc6-e4a8-4b83-8be5-63aca2773213\",\"subtype\":\"Figure\",\"type\":\"Plot\"},\"ticker\":{\"id\":\"dd65acb4-896f-4c4a-919f-610c45b84008\",\"type\":\"BasicTicker\"}},\"id\":\"3cc3203a-7633-4805-a54b-290b59fbb675\",\"type\":\"LinearAxis\"},{\"attributes\":{\"line_alpha\":0.1,\"line_color\":\"#1f77b4\",\"line_dash\":[6],\"line_width\":5,\"x\":{\"field\":\"x\"},\"y\":{\"field\":\"y\"}},\"id\":\"d9889847-7fbc-405c-b03a-1444357d9984\",\"type\":\"Line\"},{\"attributes\":{\"callback\":null,\"column_names\":[\"x\",\"y\"],\"data\":{\"x\":{\"__ndarray__\":\"h5gn5D7KZD/C0OaZl3pnP+jOzWeScm0/1bWMEZYjcj8sbkZHHvp1P57i2aJjR3o/j5kOFK0Zfz8spxqElDuCPzfegENmNoU/q3tIHqaCiD+oQ35orB6MP6xisDZU+Y8/9eKlSn0hkj82jNbffxyUP7Qz/t04spU/ph14Yd0Llz90oyjNb2OYP32MkaM7s5k/zlHf42D3mj+Zmx799yycPxyCQ6WaJJ0/PBx2Qlz3mj8xvih0cEaVP2fYg6SqZI8/WFNFMI+uhj/r4qFspAWAP7FCTdHqFHY/WEUAezpTbz8IP2z+I4BoPxgVd8+IMWQ/ADcgxSaZYD9gmsRO6F1bP8h5YkritFk/o0KIMrMSXD+qzn2JHldfP1B/B1CdWGE/jD2chVuMYj9AQtVvNPViPwY1m4Zqg2k/NsuO2YXibz9STO0rYBlzPxsqahsEt3Q/OYhiouS9dT+HyQtZs492P2RmgynaPnc/yeoYRwzKej9dgercAjuCP/1AVEL5gIk/bjsU1cAulT/9ghoUhi6hPyzhSCFCvKg/UnUJM99UsD/WNZK4UkW0PzhYNZFkGbg/TwTUSAnJuz/bWz5Qdky/P+1xEaXeT8E/+fv/F1PZwj/w82O8ezrEP/IQ3+yDasU/SNMsEgtjxj8dJF2WIyLHPzs4dXFdqcc/1ClNUrL/xz+7BI6h7zDIP3FY2Nt/R8g//Zv+iR1PyD93/khs0kjIP8nVXROxDMg/ViZfffpXxz8XFljX09TFP2VX1g1GssM/HTY24JiKwT/KeGvLRgi/P7NceFa57bo/\",\"dtype\":\"float64\",\"shape\":[75]},\"y\":{\"__ndarray__\":\"GhExyth1ND/Sv8nbtpRIP2vylNV0PVE/aTum7souWD/At0SJ8fVgPw3Iuahxymc/MSNhhJWvcD/bTfBN02d3P2zb5nxnaoA/CD5h5MAGhz8NmeH1TyaQP+zrCsc9p5Y/LbKd76fGnz/bLW5ISEmmPww9YvTcQq8/JV2OstnstT8Er5Y7M8G+P0c+r3jqkcU/5h99k6ZBzj88bCIzFzjVP4enV8oyxN0//yH99nXg5D8qOpLLf0jtP5kqGJXUifQ/c9cS8kHP/D+/DpwzojQEQIEmwoanVwxA4lgXt9HgE0BSSZ2AJuIbQAMJih9jjiNA5q4l5INuK0AwTKYKRj0zQNv5fmq8/DpAaCJseHrtQkB/+zpwzoxKQM3MzMzMeFJAZmZmZmZqWEAAAAAAAFxeQM3MzMzMJmJAmpmZmZkfZUBmZmZmZhhoQDMzMzMzEWtAAAAAAAAKbkBmZmZmZoFwQM3MzMzM/XFAMzMzMzN6c0CamZmZmfZ0QAAAAAAAc3ZAZmZmZmbvd0DNzMzMzGt5QDMzMzMz6HpAmpmZmZlkfEAAAAAAAOF9QGZmZmZmXX9AZmZmZuZsgECamZmZGSuBQM3MzMxM6YFAAAAAAICngkAzMzMzs2WDQGZmZmbmI4RAmpmZmRnihEDNzMzMTKCFQAAAAACAXoZAMzMzM7Mch0BmZmZm5tqHQJqZmZkZmYhAzczMzExXiUAAAAAAgBWKQDMzMzOz04pAZmZmZuaRi0CamZmZGVCMQM3MzMxMDo1AAAAAAIDMjUAzMzMzs4qOQGZmZmbmSI9A\",\"dtype\":\"float64\",\"shape\":[75]}}},\"id\":\"a432d17f-cf03-4ab5-8306-723adfbfbd7e\",\"type\":\"ColumnDataSource\"},{\"attributes\":{\"bottom_units\":\"screen\",\"fill_alpha\":{\"value\":0.5},\"fill_color\":{\"value\":\"lightgrey\"},\"left_units\":\"screen\",\"level\":\"overlay\",\"line_alpha\":{\"value\":1.0},\"line_color\":{\"value\":\"black\"},\"line_dash\":[4,4],\"line_width\":{\"value\":2},\"plot\":null,\"render_mode\":\"css\",\"right_units\":\"screen\",\"top_units\":\"screen\"},\"id\":\"c7f518ae-5b12-463f-afa4-a24a47fb82df\",\"type\":\"BoxAnnotation\"},{\"attributes\":{\"data_source\":{\"id\":\"846abb24-8add-40ad-95ab-7e8d31019632\",\"type\":\"ColumnDataSource\"},\"glyph\":{\"id\":\"17ff6103-f43c-4dfc-809f-ca55ddeea4f8\",\"type\":\"Circle\"},\"hover_glyph\":null,\"muted_glyph\":null,\"nonselection_glyph\":{\"id\":\"e3513d64-a55f-4c9a-8173-bb2968586e0e\",\"type\":\"Circle\"},\"selection_glyph\":null,\"view\":{\"id\":\"61c29974-d5d0-414b-a15b-64c2f0a7d2d9\",\"type\":\"CDSView\"}},\"id\":\"125c643b-8f66-474c-b52e-f5570b1033ce\",\"type\":\"GlyphRenderer\"},{\"attributes\":{\"callback\":null,\"column_names\":[\"x\",\"y\"],\"data\":{\"x\":{\"__ndarray__\":\"h5gn5D7KZD/C0OaZl3pnP+jOzWeScm0/1bWMEZYjcj8sbkZHHvp1P57i2aJjR3o/j5kOFK0Zfz8spxqElDuCPzfegENmNoU/q3tIHqaCiD+oQ35orB6MP6xisDZU+Y8/9eKlSn0hkj82jNbffxyUP7Qz/t04spU/ph14Yd0Llz90oyjNb2OYP32MkaM7s5k/zlHf42D3mj+Zmx799yycPxyCQ6WaJJ0/PBx2Qlz3mj8xvih0cEaVP2fYg6SqZI8/WFNFMI+uhj/r4qFspAWAP7FCTdHqFHY/WEUAezpTbz8IP2z+I4BoPxgVd8+IMWQ/ADcgxSaZYD9gmsRO6F1bP8h5YkritFk/o0KIMrMSXD+qzn2JHldfP1B/B1CdWGE/jD2chVuMYj9AQtVvNPViPwY1m4Zqg2k/NsuO2YXibz9STO0rYBlzPxsqahsEt3Q/OYhiouS9dT+HyQtZs492P2RmgynaPnc/yeoYRwzKej9dgercAjuCP/1AVEL5gIk/bjsU1cAulT/9ghoUhi6hPyzhSCFCvKg/UnUJM99UsD/WNZK4UkW0PzhYNZFkGbg/TwTUSAnJuz/bWz5Qdky/P+1xEaXeT8E/+fv/F1PZwj/w82O8ezrEP/IQ3+yDasU/SNMsEgtjxj8dJF2WIyLHPzs4dXFdqcc/1ClNUrL/xz+7BI6h7zDIP3FY2Nt/R8g//Zv+iR1PyD93/khs0kjIP8nVXROxDMg/ViZfffpXxz8XFljX09TFP2VX1g1GssM/HTY24JiKwT/KeGvLRgi/P7NceFa57bo/\",\"dtype\":\"float64\",\"shape\":[75]},\"y\":{\"__ndarray__\":\"GhExyth1ND/Sv8nbtpRIP2vylNV0PVE/aTum7souWD/At0SJ8fVgPw3Iuahxymc/MSNhhJWvcD/bTfBN02d3P2zb5nxnaoA/CD5h5MAGhz8NmeH1TyaQP+zrCsc9p5Y/LbKd76fGnz/bLW5ISEmmPww9YvTcQq8/JV2OstnstT8Er5Y7M8G+P0c+r3jqkcU/5h99k6ZBzj88bCIzFzjVP4enV8oyxN0//yH99nXg5D8qOpLLf0jtP5kqGJXUifQ/c9cS8kHP/D+/DpwzojQEQIEmwoanVwxA4lgXt9HgE0BSSZ2AJuIbQAMJih9jjiNA5q4l5INuK0AwTKYKRj0zQNv5fmq8/DpAaCJseHrtQkB/+zpwzoxKQM3MzMzMeFJAZmZmZmZqWEAAAAAAAFxeQM3MzMzMJmJAmpmZmZkfZUBmZmZmZhhoQDMzMzMzEWtAAAAAAAAKbkBmZmZmZoFwQM3MzMzM/XFAMzMzMzN6c0CamZmZmfZ0QAAAAAAAc3ZAZmZmZmbvd0DNzMzMzGt5QDMzMzMz6HpAmpmZmZlkfEAAAAAAAOF9QGZmZmZmXX9AZmZmZuZsgECamZmZGSuBQM3MzMxM6YFAAAAAAICngkAzMzMzs2WDQGZmZmbmI4RAmpmZmRnihEDNzMzMTKCFQAAAAACAXoZAMzMzM7Mch0BmZmZm5tqHQJqZmZkZmYhAzczMzExXiUAAAAAAgBWKQDMzMzOz04pAZmZmZuaRi0CamZmZGVCMQM3MzMxMDo1AAAAAAIDMjUAzMzMzs4qOQGZmZmbmSI9A\",\"dtype\":\"float64\",\"shape\":[75]}}},\"id\":\"846abb24-8add-40ad-95ab-7e8d31019632\",\"type\":\"ColumnDataSource\"},{\"attributes\":{\"fill_alpha\":{\"value\":0.1},\"fill_color\":{\"value\":\"#1f77b4\"},\"line_alpha\":{\"value\":0.1},\"line_color\":{\"value\":\"#1f77b4\"},\"x\":{\"field\":\"x\"},\"y\":{\"field\":\"y\"}},\"id\":\"e3513d64-a55f-4c9a-8173-bb2968586e0e\",\"type\":\"Circle\"},{\"attributes\":{\"data_source\":{\"id\":\"874730ce-74ed-47fd-bbc6-7b889f0767f0\",\"type\":\"ColumnDataSource\"},\"glyph\":{\"id\":\"596f52fb-3d3a-4819-9ad1-47877f426ffb\",\"type\":\"Square\"},\"hover_glyph\":null,\"muted_glyph\":null,\"nonselection_glyph\":{\"id\":\"fbff9e73-1106-4e24-8959-e3b09c76d362\",\"type\":\"Square\"},\"selection_glyph\":null,\"view\":{\"id\":\"e0808f37-fc14-40d5-ac88-02075e4886ab\",\"type\":\"CDSView\"}},\"id\":\"86af4b24-393e-48d3-9a12-da250c4fa096\",\"type\":\"GlyphRenderer\"},{\"attributes\":{\"callback\":null,\"column_names\":[\"x\",\"y\"],\"data\":{\"x\":{\"__ndarray__\":\"h5gn5D7KZD/C0OaZl3pnP+jOzWeScm0/1bWMEZYjcj8sbkZHHvp1P57i2aJjR3o/j5kOFK0Zfz8spxqElDuCPzfegENmNoU/q3tIHqaCiD+oQ35orB6MP6xisDZU+Y8/9eKlSn0hkj82jNbffxyUP7Qz/t04spU/ph14Yd0Llz90oyjNb2OYP32MkaM7s5k/zlHf42D3mj+Zmx799yycPxyCQ6WaJJ0/PBx2Qlz3mj8xvih0cEaVP2fYg6SqZI8/WFNFMI+uhj/r4qFspAWAP7FCTdHqFHY/WEUAezpTbz8IP2z+I4BoPxgVd8+IMWQ/ADcgxSaZYD9gmsRO6F1bP8h5YkritFk/o0KIMrMSXD+qzn2JHldfP1B/B1CdWGE/jD2chVuMYj9AQtVvNPViPwY1m4Zqg2k/NsuO2YXibz9STO0rYBlzPxsqahsEt3Q/OYhiouS9dT+HyQtZs492P2RmgynaPnc/yeoYRwzKej9dgercAjuCP/1AVEL5gIk/bjsU1cAulT/9ghoUhi6hPyzhSCFCvKg/UnUJM99UsD/WNZK4UkW0PzhYNZFkGbg/TwTUSAnJuz/bWz5Qdky/P+1xEaXeT8E/+fv/F1PZwj/w82O8ezrEP/IQ3+yDasU/SNMsEgtjxj8dJF2WIyLHPzs4dXFdqcc/1ClNUrL/xz+7BI6h7zDIP3FY2Nt/R8g//Zv+iR1PyD93/khs0kjIP8nVXROxDMg/ViZfffpXxz8XFljX09TFP2VX1g1GssM/HTY24JiKwT/KeGvLRgi/P7NceFa57bo/\",\"dtype\":\"float64\",\"shape\":[75]},\"y\":{\"__ndarray__\":\"GhExyth1ND/Sv8nbtpRIP2vylNV0PVE/aTum7souWD/At0SJ8fVgPw3Iuahxymc/MSNhhJWvcD/bTfBN02d3P2zb5nxnaoA/CD5h5MAGhz8NmeH1TyaQP+zrCsc9p5Y/LbKd76fGnz/bLW5ISEmmPww9YvTcQq8/JV2OstnstT8Er5Y7M8G+P0c+r3jqkcU/5h99k6ZBzj88bCIzFzjVP4enV8oyxN0//yH99nXg5D8qOpLLf0jtP5kqGJXUifQ/c9cS8kHP/D+/DpwzojQEQIEmwoanVwxA4lgXt9HgE0BSSZ2AJuIbQAMJih9jjiNA5q4l5INuK0AwTKYKRj0zQNv5fmq8/DpAaCJseHrtQkB/+zpwzoxKQM3MzMzMeFJAZmZmZmZqWEAAAAAAAFxeQM3MzMzMJmJAmpmZmZkfZUBmZmZmZhhoQDMzMzMzEWtAAAAAAAAKbkBmZmZmZoFwQM3MzMzM/XFAMzMzMzN6c0CamZmZmfZ0QAAAAAAAc3ZAZmZmZmbvd0DNzMzMzGt5QDMzMzMz6HpAmpmZmZlkfEAAAAAAAOF9QGZmZmZmXX9AZmZmZuZsgECamZmZGSuBQM3MzMxM6YFAAAAAAICngkAzMzMzs2WDQGZmZmbmI4RAmpmZmRnihEDNzMzMTKCFQAAAAACAXoZAMzMzM7Mch0BmZmZm5tqHQJqZmZkZmYhAzczMzExXiUAAAAAAgBWKQDMzMzOz04pAZmZmZuaRi0CamZmZGVCMQM3MzMxMDo1AAAAAAIDMjUAzMzMzs4qOQGZmZmbmSI9A\",\"dtype\":\"float64\",\"shape\":[75]}}},\"id\":\"6dae1899-0f20-4b1f-ae1d-75e4955b7111\",\"type\":\"ColumnDataSource\"},{\"attributes\":{},\"id\":\"55942511-ce83-4229-9159-e90a73a3cdbe\",\"type\":\"BasicTickFormatter\"},{\"attributes\":{\"line_alpha\":0.1,\"line_color\":\"#1f77b4\",\"line_width\":1.5,\"x\":{\"field\":\"x\"},\"y\":{\"field\":\"y\"}},\"id\":\"e3ee1b8e-047c-4e3d-80bc-5701d15d2891\",\"type\":\"Line\"},{\"attributes\":{\"callback\":null,\"column_names\":[\"x\",\"y\"],\"data\":{\"x\":{\"__ndarray__\":\"VdYnLUnXZj9e0mihaiNpPyC6sld+Mm4/j4KhWKz3cT/DJyoCaCx1P16GbgcIv3g/d+Y4B6e3fD/KsNPPbpCAP0Kam6YHAIM/hEE/1ZOwhT8PT7hCv6eIP4GOj20064s/hOgQ8GR8jz+rFZacVXWRPz0LKzxWyZI/UehYhXYIlD8SmA0ji0iVPyF1Q2Q/mZY/6B+UO7nslz/XY9Ny2kuZP2Yk5gKZhpo/j9eLMvYjmT8klR0cn6eUP+5doquDAZA//tZiFTlciD+izPGdahuCP9UFZLisJHo/7OcbVlz6cj+BdDnu1wptP8J18JTymGY/S5TOWRIwYT/neyFwz/tZP8A+bMqO01Y/OqAqmoRpWD+Zt7v9Dn1bP4VWpSuNPl8/4vfj7CMqYT94zyA4eOxhPwp9rKRxl2g/f+WQMgpHbz/Epg/nwgBzP4g+hKhpznQ/fRi9lSH2dT9yc+93PNt2P0DYbNw5lXc/8o9Tbp0Qez8CaBWsQTyCP3EuYgyqUok/L7x4h0L4lD/Eva0nmf+gP1VWUkKdgag/BUejLfA2sD8DZU1heia0P9GFVukq27c/rBZid9REuz+p4b8i83m+PyABBnt70cA/eaHlqoVbwj/cKfWtzsjDP89P77jkAMU/qz/Zk6H4xT+IUs9oL6zGP4uc5dvwKcc/AfroAJV7xz+ZjfGHA6/HPwg2yQwZzcc/vMC4prffxz80XagAi+THP5DPs/Kossc/wwuj9Y8Ixz8KEXF8O5LFPyJ5y69mfcM/6EkJoZhhwT8HF4mt5cm+P2CelGOjyLo/\",\"dtype\":\"float64\",\"shape\":[75]},\"y\":{\"__ndarray__\":\"GhExyth1ND/Sv8nbtpRIP2vylNV0PVE/aTum7souWD/At0SJ8fVgPw3Iuahxymc/MSNhhJWvcD/bTfBN02d3P2zb5nxnaoA/CD5h5MAGhz8NmeH1TyaQP+zrCsc9p5Y/LbKd76fGnz/bLW5ISEmmPww9YvTcQq8/JV2OstnstT8Er5Y7M8G+P0c+r3jqkcU/5h99k6ZBzj88bCIzFzjVP4enV8oyxN0//yH99nXg5D8qOpLLf0jtP5kqGJXUifQ/c9cS8kHP/D+/DpwzojQEQIEmwoanVwxA4lgXt9HgE0BSSZ2AJuIbQAMJih9jjiNA5q4l5INuK0AwTKYKRj0zQNv5fmq8/DpAaCJseHrtQkB/+zpwzoxKQM3MzMzMeFJAZmZmZmZqWEAAAAAAAFxeQM3MzMzMJmJAmpmZmZkfZUBmZmZmZhhoQDMzMzMzEWtAAAAAAAAKbkBmZmZmZoFwQM3MzMzM/XFAMzMzMzN6c0CamZmZmfZ0QAAAAAAAc3ZAZmZmZmbvd0DNzMzMzGt5QDMzMzMz6HpAmpmZmZlkfEAAAAAAAOF9QGZmZmZmXX9AZmZmZuZsgECamZmZGSuBQM3MzMxM6YFAAAAAAICngkAzMzMzs2WDQGZmZmbmI4RAmpmZmRnihEDNzMzMTKCFQAAAAACAXoZAMzMzM7Mch0BmZmZm5tqHQJqZmZkZmYhAzczMzExXiUAAAAAAgBWKQDMzMzOz04pAZmZmZuaRi0CamZmZGVCMQM3MzMxMDo1AAAAAAIDMjUAzMzMzs4qOQGZmZmbmSI9A\",\"dtype\":\"float64\",\"shape\":[75]}}},\"id\":\"874730ce-74ed-47fd-bbc6-7b889f0767f0\",\"type\":\"ColumnDataSource\"},{\"attributes\":{\"fill_alpha\":{\"value\":0.7},\"fill_color\":{\"value\":\"#984ea3\"},\"line_alpha\":{\"value\":0.7},\"line_color\":{\"value\":\"#984ea3\"},\"x\":{\"field\":\"x\"},\"y\":{\"field\":\"y\"}},\"id\":\"2ced333e-8292-4ee4-bcb9-f94a1e1b2288\",\"type\":\"Square\"},{\"attributes\":{\"source\":{\"id\":\"846abb24-8add-40ad-95ab-7e8d31019632\",\"type\":\"ColumnDataSource\"}},\"id\":\"61c29974-d5d0-414b-a15b-64c2f0a7d2d9\",\"type\":\"CDSView\"},{\"attributes\":{\"fill_alpha\":{\"value\":0.7},\"fill_color\":{\"value\":\"#4daf4a\"},\"line_alpha\":{\"value\":0.7},\"line_color\":{\"value\":\"#4daf4a\"},\"x\":{\"field\":\"x\"},\"y\":{\"field\":\"y\"}},\"id\":\"17ff6103-f43c-4dfc-809f-ca55ddeea4f8\",\"type\":\"Circle\"},{\"attributes\":{\"plot\":null,\"text\":\"Linear pressure scale\"},\"id\":\"eda53598-3f50-4f79-9555-ce9563a62d3d\",\"type\":\"Title\"},{\"attributes\":{\"line_color\":\"#4daf4a\",\"line_width\":1.5,\"x\":{\"field\":\"x\"},\"y\":{\"field\":\"y\"}},\"id\":\"78599837-64c7-4459-8f8e-7c5bc54a1de2\",\"type\":\"Line\"},{\"attributes\":{\"callback\":null,\"column_names\":[\"x\",\"y\"],\"data\":{\"x\":{\"__ndarray__\":\"VdYnLUnXZj9e0mihaiNpPyC6sld+Mm4/j4KhWKz3cT/DJyoCaCx1P16GbgcIv3g/d+Y4B6e3fD/KsNPPbpCAP0Kam6YHAIM/hEE/1ZOwhT8PT7hCv6eIP4GOj20064s/hOgQ8GR8jz+rFZacVXWRPz0LKzxWyZI/UehYhXYIlD8SmA0ji0iVPyF1Q2Q/mZY/6B+UO7nslz/XY9Ny2kuZP2Yk5gKZhpo/j9eLMvYjmT8klR0cn6eUP+5doquDAZA//tZiFTlciD+izPGdahuCP9UFZLisJHo/7OcbVlz6cj+BdDnu1wptP8J18JTymGY/S5TOWRIwYT/neyFwz/tZP8A+bMqO01Y/OqAqmoRpWD+Zt7v9Dn1bP4VWpSuNPl8/4vfj7CMqYT94zyA4eOxhPwp9rKRxl2g/f+WQMgpHbz/Epg/nwgBzP4g+hKhpznQ/fRi9lSH2dT9yc+93PNt2P0DYbNw5lXc/8o9Tbp0Qez8CaBWsQTyCP3EuYgyqUok/L7x4h0L4lD/Eva0nmf+gP1VWUkKdgag/BUejLfA2sD8DZU1heia0P9GFVukq27c/rBZid9REuz+p4b8i83m+PyABBnt70cA/eaHlqoVbwj/cKfWtzsjDP89P77jkAMU/qz/Zk6H4xT+IUs9oL6zGP4uc5dvwKcc/AfroAJV7xz+ZjfGHA6/HPwg2yQwZzcc/vMC4prffxz80XagAi+THP5DPs/Kossc/wwuj9Y8Ixz8KEXF8O5LFPyJ5y69mfcM/6EkJoZhhwT8HF4mt5cm+P2CelGOjyLo/\",\"dtype\":\"float64\",\"shape\":[75]},\"y\":{\"__ndarray__\":\"GhExyth1ND/Sv8nbtpRIP2vylNV0PVE/aTum7souWD/At0SJ8fVgPw3Iuahxymc/MSNhhJWvcD/bTfBN02d3P2zb5nxnaoA/CD5h5MAGhz8NmeH1TyaQP+zrCsc9p5Y/LbKd76fGnz/bLW5ISEmmPww9YvTcQq8/JV2OstnstT8Er5Y7M8G+P0c+r3jqkcU/5h99k6ZBzj88bCIzFzjVP4enV8oyxN0//yH99nXg5D8qOpLLf0jtP5kqGJXUifQ/c9cS8kHP/D+/DpwzojQEQIEmwoanVwxA4lgXt9HgE0BSSZ2AJuIbQAMJih9jjiNA5q4l5INuK0AwTKYKRj0zQNv5fmq8/DpAaCJseHrtQkB/+zpwzoxKQM3MzMzMeFJAZmZmZmZqWEAAAAAAAFxeQM3MzMzMJmJAmpmZmZkfZUBmZmZmZhhoQDMzMzMzEWtAAAAAAAAKbkBmZmZmZoFwQM3MzMzM/XFAMzMzMzN6c0CamZmZmfZ0QAAAAAAAc3ZAZmZmZmbvd0DNzMzMzGt5QDMzMzMz6HpAmpmZmZlkfEAAAAAAAOF9QGZmZmZmXX9AZmZmZuZsgECamZmZGSuBQM3MzMxM6YFAAAAAAICngkAzMzMzs2WDQGZmZmbmI4RAmpmZmRnihEDNzMzMTKCFQAAAAACAXoZAMzMzM7Mch0BmZmZm5tqHQJqZmZkZmYhAzczMzExXiUAAAAAAgBWKQDMzMzOz04pAZmZmZuaRi0CamZmZGVCMQM3MzMxMDo1AAAAAAIDMjUAzMzMzs4qOQGZmZmbmSI9A\",\"dtype\":\"float64\",\"shape\":[75]}}},\"id\":\"c92ff4ee-106f-4d28-9007-53bca542f05b\",\"type\":\"ColumnDataSource\"},{\"attributes\":{\"line_alpha\":0.1,\"line_color\":\"#1f77b4\",\"line_width\":1.5,\"x\":{\"field\":\"x\"},\"y\":{\"field\":\"y\"}},\"id\":\"8d628305-a6c9-4ab8-8919-1fa00073e54f\",\"type\":\"Line\"},{\"attributes\":{\"data_source\":{\"id\":\"a432d17f-cf03-4ab5-8306-723adfbfbd7e\",\"type\":\"ColumnDataSource\"},\"glyph\":{\"id\":\"78599837-64c7-4459-8f8e-7c5bc54a1de2\",\"type\":\"Line\"},\"hover_glyph\":null,\"muted_glyph\":null,\"nonselection_glyph\":{\"id\":\"8d628305-a6c9-4ab8-8919-1fa00073e54f\",\"type\":\"Line\"},\"selection_glyph\":null,\"view\":{\"id\":\"2e203f9b-8ccd-4331-be02-a0114546166d\",\"type\":\"CDSView\"}},\"id\":\"884df8d4-61f6-4d95-a367-2a8c41ff9d10\",\"type\":\"GlyphRenderer\"},{\"attributes\":{\"children\":[{\"id\":\"2dfe869a-9da0-4a44-89e7-2f661581ece9\",\"type\":\"Row\"}]},\"id\":\"86b00842-85c9-45e2-bc28-9fb68c71f2b8\",\"type\":\"Column\"},{\"attributes\":{\"source\":{\"id\":\"a432d17f-cf03-4ab5-8306-723adfbfbd7e\",\"type\":\"ColumnDataSource\"}},\"id\":\"2e203f9b-8ccd-4331-be02-a0114546166d\",\"type\":\"CDSView\"},{\"attributes\":{\"source\":{\"id\":\"6dae1899-0f20-4b1f-ae1d-75e4955b7111\",\"type\":\"ColumnDataSource\"}},\"id\":\"c9db1dfd-5573-4230-b6e4-4dc895613d62\",\"type\":\"CDSView\"},{\"attributes\":{\"num_minor_ticks\":10},\"id\":\"59123467-8e1c-4881-8d64-824c6c1e9ec2\",\"type\":\"LogTicker\"},{\"attributes\":{\"fill_alpha\":{\"value\":0.7},\"fill_color\":{\"value\":\"#984ea3\"},\"line_alpha\":{\"value\":0.7},\"line_color\":{\"value\":\"#984ea3\"},\"x\":{\"field\":\"x\"},\"y\":{\"field\":\"y\"}},\"id\":\"596f52fb-3d3a-4819-9ad1-47877f426ffb\",\"type\":\"Square\"},{\"attributes\":{\"fill_alpha\":{\"value\":0.1},\"fill_color\":{\"value\":\"#1f77b4\"},\"line_alpha\":{\"value\":0.1},\"line_color\":{\"value\":\"#1f77b4\"},\"x\":{\"field\":\"x\"},\"y\":{\"field\":\"y\"}},\"id\":\"fbff9e73-1106-4e24-8959-e3b09c76d362\",\"type\":\"Square\"},{\"attributes\":{\"active_drag\":\"auto\",\"active_inspect\":\"auto\",\"active_scroll\":\"auto\",\"active_tap\":\"auto\",\"tools\":[{\"id\":\"f08e8564-34a3-4da7-adbb-1e766c1f6ccc\",\"type\":\"PanTool\"},{\"id\":\"43269281-aed2-40dc-ac35-fd3eb411f0db\",\"type\":\"WheelZoomTool\"},{\"id\":\"2f51ef79-3b65-4542-bd6b-5b0d4b231b9e\",\"type\":\"BoxZoomTool\"},{\"id\":\"7108c5e0-420f-421d-ae72-4d039af30cc3\",\"type\":\"SaveTool\"},{\"id\":\"88f34062-4044-49db-a87e-0f04be6359ad\",\"type\":\"ResetTool\"},{\"id\":\"ff4dee41-aa7e-4a4d-bf8f-ecc40b31dbc7\",\"type\":\"HelpTool\"}]},\"id\":\"b62a1ced-a868-4b15-b459-74da6ff67542\",\"type\":\"Toolbar\"},{\"attributes\":{\"callback\":null,\"end\":0.028732730794,\"start\":0.000908681806},\"id\":\"0816b789-c871-4993-8989-8ae6fffea524\",\"type\":\"Range1d\"},{\"attributes\":{\"data_source\":{\"id\":\"c92ff4ee-106f-4d28-9007-53bca542f05b\",\"type\":\"ColumnDataSource\"},\"glyph\":{\"id\":\"e395a66d-68b0-455c-8919-85f95d057fa2\",\"type\":\"Line\"},\"hover_glyph\":null,\"muted_glyph\":null,\"nonselection_glyph\":{\"id\":\"2b63c52d-27d4-409d-bb86-b0e7409ef4bd\",\"type\":\"Line\"},\"selection_glyph\":null,\"view\":{\"id\":\"e6c6e187-154a-4f34-8e8c-567a003de4aa\",\"type\":\"CDSView\"}},\"id\":\"e0579519-af33-4e9b-a54b-2f5a93fdea3d\",\"type\":\"GlyphRenderer\"},{\"attributes\":{\"source\":{\"id\":\"874730ce-74ed-47fd-bbc6-7b889f0767f0\",\"type\":\"ColumnDataSource\"}},\"id\":\"e0808f37-fc14-40d5-ac88-02075e4886ab\",\"type\":\"CDSView\"},{\"attributes\":{\"line_alpha\":0.6,\"line_color\":\"#984ea3\",\"line_width\":3,\"x\":{\"field\":\"x\"},\"y\":{\"field\":\"y\"}},\"id\":\"e395a66d-68b0-455c-8919-85f95d057fa2\",\"type\":\"Line\"},{\"attributes\":{\"line_alpha\":0.1,\"line_color\":\"#1f77b4\",\"line_width\":3,\"x\":{\"field\":\"x\"},\"y\":{\"field\":\"y\"}},\"id\":\"2b63c52d-27d4-409d-bb86-b0e7409ef4bd\",\"type\":\"Line\"},{\"attributes\":{\"axis_label\":\"pressure [mb]\",\"formatter\":{\"id\":\"bad69306-88c8-4331-84ea-82f84e1f4056\",\"type\":\"BasicTickFormatter\"},\"plot\":{\"id\":\"b914cfc6-e4a8-4b83-8be5-63aca2773213\",\"subtype\":\"Figure\",\"type\":\"Plot\"},\"ticker\":{\"id\":\"274417e7-f634-4d5a-ae5f-1d3f51a9b1d9\",\"type\":\"BasicTicker\"}},\"id\":\"a3038c58-ed22-466b-a04a-2a324b532d67\",\"type\":\"LinearAxis\"},{\"attributes\":{\"children\":[{\"id\":\"fb41424e-1d2b-4d4a-bb12-02151fa0fb34\",\"type\":\"ToolbarBox\"},{\"id\":\"86b00842-85c9-45e2-bc28-9fb68c71f2b8\",\"type\":\"Column\"}]},\"id\":\"e095888d-d922-4b2c-8472-330c5ade7c05\",\"type\":\"Column\"},{\"attributes\":{},\"id\":\"0a83f97e-2dde-480d-a595-03a75f11609d\",\"type\":\"LinearScale\"},{\"attributes\":{\"fill_alpha\":{\"value\":0.1},\"fill_color\":{\"value\":\"#1f77b4\"},\"line_alpha\":{\"value\":0.1},\"line_color\":{\"value\":\"#1f77b4\"},\"x\":{\"field\":\"x\"},\"y\":{\"field\":\"y\"}},\"id\":\"6c9339e0-cc69-4dd1-842d-6163c2851d9e\",\"type\":\"Square\"},{\"attributes\":{\"source\":{\"id\":\"c92ff4ee-106f-4d28-9007-53bca542f05b\",\"type\":\"ColumnDataSource\"}},\"id\":\"e6c6e187-154a-4f34-8e8c-567a003de4aa\",\"type\":\"CDSView\"},{\"attributes\":{\"source\":{\"id\":\"44d4fbfe-d311-4be9-aa24-50d83ab1124c\",\"type\":\"ColumnDataSource\"}},\"id\":\"4d553d48-aa0b-43be-b05c-1323fd6cd6b4\",\"type\":\"CDSView\"},{\"attributes\":{\"toolbar\":{\"id\":\"c43f9064-d84d-43c7-a276-0e784ae8ecdd\",\"type\":\"ProxyToolbar\"},\"toolbar_location\":\"above\"},\"id\":\"fb41424e-1d2b-4d4a-bb12-02151fa0fb34\",\"type\":\"ToolbarBox\"},{\"attributes\":{\"callback\":null,\"column_names\":[\"x\",\"y\"],\"data\":{\"x\":{\"__ndarray__\":\"VdYnLUnXZj9e0mihaiNpPyC6sld+Mm4/j4KhWKz3cT/DJyoCaCx1P16GbgcIv3g/d+Y4B6e3fD/KsNPPbpCAP0Kam6YHAIM/hEE/1ZOwhT8PT7hCv6eIP4GOj20064s/hOgQ8GR8jz+rFZacVXWRPz0LKzxWyZI/UehYhXYIlD8SmA0ji0iVPyF1Q2Q/mZY/6B+UO7nslz/XY9Ny2kuZP2Yk5gKZhpo/j9eLMvYjmT8klR0cn6eUP+5doquDAZA//tZiFTlciD+izPGdahuCP9UFZLisJHo/7OcbVlz6cj+BdDnu1wptP8J18JTymGY/S5TOWRIwYT/neyFwz/tZP8A+bMqO01Y/OqAqmoRpWD+Zt7v9Dn1bP4VWpSuNPl8/4vfj7CMqYT94zyA4eOxhPwp9rKRxl2g/f+WQMgpHbz/Epg/nwgBzP4g+hKhpznQ/fRi9lSH2dT9yc+93PNt2P0DYbNw5lXc/8o9Tbp0Qez8CaBWsQTyCP3EuYgyqUok/L7x4h0L4lD/Eva0nmf+gP1VWUkKdgag/BUejLfA2sD8DZU1heia0P9GFVukq27c/rBZid9REuz+p4b8i83m+PyABBnt70cA/eaHlqoVbwj/cKfWtzsjDP89P77jkAMU/qz/Zk6H4xT+IUs9oL6zGP4uc5dvwKcc/AfroAJV7xz+ZjfGHA6/HPwg2yQwZzcc/vMC4prffxz80XagAi+THP5DPs/Kossc/wwuj9Y8Ixz8KEXF8O5LFPyJ5y69mfcM/6EkJoZhhwT8HF4mt5cm+P2CelGOjyLo/\",\"dtype\":\"float64\",\"shape\":[75]},\"y\":{\"__ndarray__\":\"GhExyth1ND/Sv8nbtpRIP2vylNV0PVE/aTum7souWD/At0SJ8fVgPw3Iuahxymc/MSNhhJWvcD/bTfBN02d3P2zb5nxnaoA/CD5h5MAGhz8NmeH1TyaQP+zrCsc9p5Y/LbKd76fGnz/bLW5ISEmmPww9YvTcQq8/JV2OstnstT8Er5Y7M8G+P0c+r3jqkcU/5h99k6ZBzj88bCIzFzjVP4enV8oyxN0//yH99nXg5D8qOpLLf0jtP5kqGJXUifQ/c9cS8kHP/D+/DpwzojQEQIEmwoanVwxA4lgXt9HgE0BSSZ2AJuIbQAMJih9jjiNA5q4l5INuK0AwTKYKRj0zQNv5fmq8/DpAaCJseHrtQkB/+zpwzoxKQM3MzMzMeFJAZmZmZmZqWEAAAAAAAFxeQM3MzMzMJmJAmpmZmZkfZUBmZmZmZhhoQDMzMzMzEWtAAAAAAAAKbkBmZmZmZoFwQM3MzMzM/XFAMzMzMzN6c0CamZmZmfZ0QAAAAAAAc3ZAZmZmZmbvd0DNzMzMzGt5QDMzMzMz6HpAmpmZmZlkfEAAAAAAAOF9QGZmZmZmXX9AZmZmZuZsgECamZmZGSuBQM3MzMxM6YFAAAAAAICngkAzMzMzs2WDQGZmZmbmI4RAmpmZmRnihEDNzMzMTKCFQAAAAACAXoZAMzMzM7Mch0BmZmZm5tqHQJqZmZkZmYhAzczMzExXiUAAAAAAgBWKQDMzMzOz04pAZmZmZuaRi0CamZmZGVCMQM3MzMxMDo1AAAAAAIDMjUAzMzMzs4qOQGZmZmbmSI9A\",\"dtype\":\"float64\",\"shape\":[75]}}},\"id\":\"20b6cc9f-e46b-41a3-a6b5-543f1ffa6790\",\"type\":\"ColumnDataSource\"},{\"attributes\":{\"data_source\":{\"id\":\"20b6cc9f-e46b-41a3-a6b5-543f1ffa6790\",\"type\":\"ColumnDataSource\"},\"glyph\":{\"id\":\"2ced333e-8292-4ee4-bcb9-f94a1e1b2288\",\"type\":\"Square\"},\"hover_glyph\":null,\"muted_glyph\":null,\"nonselection_glyph\":{\"id\":\"6c9339e0-cc69-4dd1-842d-6163c2851d9e\",\"type\":\"Square\"},\"selection_glyph\":null,\"view\":{\"id\":\"c8b0dbfd-eaff-4478-945a-1ce2d0626e27\",\"type\":\"CDSView\"}},\"id\":\"cbb3d7b5-d294-41f3-9e8c-ad272ce1373c\",\"type\":\"GlyphRenderer\"},{\"attributes\":{\"below\":[{\"id\":\"3cc3203a-7633-4805-a54b-290b59fbb675\",\"type\":\"LinearAxis\"}],\"left\":[{\"id\":\"a3038c58-ed22-466b-a04a-2a324b532d67\",\"type\":\"LinearAxis\"}],\"plot_height\":500,\"plot_width\":400,\"renderers\":[{\"id\":\"3cc3203a-7633-4805-a54b-290b59fbb675\",\"type\":\"LinearAxis\"},{\"id\":\"f1459063-795b-43bb-b991-aea7fc07249f\",\"type\":\"Grid\"},{\"id\":\"a3038c58-ed22-466b-a04a-2a324b532d67\",\"type\":\"LinearAxis\"},{\"id\":\"f659eda0-f8cc-4f75-817b-d95b8d834874\",\"type\":\"Grid\"},{\"id\":\"c7f518ae-5b12-463f-afa4-a24a47fb82df\",\"type\":\"BoxAnnotation\"},{\"id\":\"b8be601a-86c3-45f0-992b-435689a50bfe\",\"type\":\"GlyphRenderer\"},{\"id\":\"43c73aef-fd89-42ed-bd04-cddf7d8b01b5\",\"type\":\"GlyphRenderer\"},{\"id\":\"03701325-b0d8-472b-9a2a-e184fe6f90c3\",\"type\":\"GlyphRenderer\"},{\"id\":\"cbb3d7b5-d294-41f3-9e8c-ad272ce1373c\",\"type\":\"GlyphRenderer\"},{\"id\":\"ae369871-53ce-4d32-ae84-9e8091cb1adc\",\"type\":\"GlyphRenderer\"}],\"title\":{\"id\":\"eda53598-3f50-4f79-9555-ce9563a62d3d\",\"type\":\"Title\"},\"toolbar\":{\"id\":\"b62a1ced-a868-4b15-b459-74da6ff67542\",\"type\":\"Toolbar\"},\"toolbar_location\":null,\"x_range\":{\"id\":\"b9caba78-23b7-4d44-baf2-7f5c14b54653\",\"type\":\"Range1d\"},\"x_scale\":{\"id\":\"c5bedf00-7d9e-4770-a946-e56d7b335082\",\"type\":\"LinearScale\"},\"y_range\":{\"id\":\"1e16709e-0e16-4908-adad-a40c0580c310\",\"type\":\"Range1d\"},\"y_scale\":{\"id\":\"0a83f97e-2dde-480d-a595-03a75f11609d\",\"type\":\"LinearScale\"}},\"id\":\"b914cfc6-e4a8-4b83-8be5-63aca2773213\",\"subtype\":\"Figure\",\"type\":\"Plot\"},{\"attributes\":{},\"id\":\"8563a6ae-e7fe-4a48-8fc1-f3fd557ffc60\",\"type\":\"BasicTickFormatter\"},{\"attributes\":{\"callback\":null,\"column_names\":[\"x\",\"y\"],\"data\":{\"x\":{\"__ndarray__\":\"VdYnLUnXZj9e0mihaiNpPyC6sld+Mm4/j4KhWKz3cT/DJyoCaCx1P16GbgcIv3g/d+Y4B6e3fD/KsNPPbpCAP0Kam6YHAIM/hEE/1ZOwhT8PT7hCv6eIP4GOj20064s/hOgQ8GR8jz+rFZacVXWRPz0LKzxWyZI/UehYhXYIlD8SmA0ji0iVPyF1Q2Q/mZY/6B+UO7nslz/XY9Ny2kuZP2Yk5gKZhpo/j9eLMvYjmT8klR0cn6eUP+5doquDAZA//tZiFTlciD+izPGdahuCP9UFZLisJHo/7OcbVlz6cj+BdDnu1wptP8J18JTymGY/S5TOWRIwYT/neyFwz/tZP8A+bMqO01Y/OqAqmoRpWD+Zt7v9Dn1bP4VWpSuNPl8/4vfj7CMqYT94zyA4eOxhPwp9rKRxl2g/f+WQMgpHbz/Epg/nwgBzP4g+hKhpznQ/fRi9lSH2dT9yc+93PNt2P0DYbNw5lXc/8o9Tbp0Qez8CaBWsQTyCP3EuYgyqUok/L7x4h0L4lD/Eva0nmf+gP1VWUkKdgag/BUejLfA2sD8DZU1heia0P9GFVukq27c/rBZid9REuz+p4b8i83m+PyABBnt70cA/eaHlqoVbwj/cKfWtzsjDP89P77jkAMU/qz/Zk6H4xT+IUs9oL6zGP4uc5dvwKcc/AfroAJV7xz+ZjfGHA6/HPwg2yQwZzcc/vMC4prffxz80XagAi+THP5DPs/Kossc/wwuj9Y8Ixz8KEXF8O5LFPyJ5y69mfcM/6EkJoZhhwT8HF4mt5cm+P2CelGOjyLo/\",\"dtype\":\"float64\",\"shape\":[75]},\"y\":{\"__ndarray__\":\"GhExyth1ND/Sv8nbtpRIP2vylNV0PVE/aTum7souWD/At0SJ8fVgPw3Iuahxymc/MSNhhJWvcD/bTfBN02d3P2zb5nxnaoA/CD5h5MAGhz8NmeH1TyaQP+zrCsc9p5Y/LbKd76fGnz/bLW5ISEmmPww9YvTcQq8/JV2OstnstT8Er5Y7M8G+P0c+r3jqkcU/5h99k6ZBzj88bCIzFzjVP4enV8oyxN0//yH99nXg5D8qOpLLf0jtP5kqGJXUifQ/c9cS8kHP/D+/DpwzojQEQIEmwoanVwxA4lgXt9HgE0BSSZ2AJuIbQAMJih9jjiNA5q4l5INuK0AwTKYKRj0zQNv5fmq8/DpAaCJseHrtQkB/+zpwzoxKQM3MzMzMeFJAZmZmZmZqWEAAAAAAAFxeQM3MzMzMJmJAmpmZmZkfZUBmZmZmZhhoQDMzMzMzEWtAAAAAAAAKbkBmZmZmZoFwQM3MzMzM/XFAMzMzMzN6c0CamZmZmfZ0QAAAAAAAc3ZAZmZmZmbvd0DNzMzMzGt5QDMzMzMz6HpAmpmZmZlkfEAAAAAAAOF9QGZmZmZmXX9AZmZmZuZsgECamZmZGSuBQM3MzMxM6YFAAAAAAICngkAzMzMzs2WDQGZmZmbmI4RAmpmZmRnihEDNzMzMTKCFQAAAAACAXoZAMzMzM7Mch0BmZmZm5tqHQJqZmZkZmYhAzczMzExXiUAAAAAAgBWKQDMzMzOz04pAZmZmZuaRi0CamZmZGVCMQM3MzMxMDo1AAAAAAIDMjUAzMzMzs4qOQGZmZmbmSI9A\",\"dtype\":\"float64\",\"shape\":[75]}}},\"id\":\"3fbaf460-06b7-4f3d-937f-aeb34cf5ce9d\",\"type\":\"ColumnDataSource\"},{\"attributes\":{\"data_source\":{\"id\":\"6dae1899-0f20-4b1f-ae1d-75e4955b7111\",\"type\":\"ColumnDataSource\"},\"glyph\":{\"id\":\"14ce9121-59f6-42a3-bad8-58c0b51734e1\",\"type\":\"Line\"},\"hover_glyph\":null,\"muted_glyph\":null,\"nonselection_glyph\":{\"id\":\"e3ee1b8e-047c-4e3d-80bc-5701d15d2891\",\"type\":\"Line\"},\"selection_glyph\":null,\"view\":{\"id\":\"c9db1dfd-5573-4230-b6e4-4dc895613d62\",\"type\":\"CDSView\"}},\"id\":\"03701325-b0d8-472b-9a2a-e184fe6f90c3\",\"type\":\"GlyphRenderer\"},{\"attributes\":{},\"id\":\"274417e7-f634-4d5a-ae5f-1d3f51a9b1d9\",\"type\":\"BasicTicker\"},{\"attributes\":{\"line_alpha\":0.6,\"line_color\":\"#e41a1c\",\"line_dash\":[6],\"line_width\":5,\"x\":{\"field\":\"x\"},\"y\":{\"field\":\"y\"}},\"id\":\"d525ac46-66f1-4f1d-9219-03e91cac01c2\",\"type\":\"Line\"},{\"attributes\":{\"dimension\":1,\"plot\":{\"id\":\"b914cfc6-e4a8-4b83-8be5-63aca2773213\",\"subtype\":\"Figure\",\"type\":\"Plot\"},\"ticker\":{\"id\":\"274417e7-f634-4d5a-ae5f-1d3f51a9b1d9\",\"type\":\"BasicTicker\"}},\"id\":\"f659eda0-f8cc-4f75-817b-d95b8d834874\",\"type\":\"Grid\"},{\"attributes\":{\"source\":{\"id\":\"20b6cc9f-e46b-41a3-a6b5-543f1ffa6790\",\"type\":\"ColumnDataSource\"}},\"id\":\"c8b0dbfd-eaff-4478-945a-1ce2d0626e27\",\"type\":\"CDSView\"},{\"attributes\":{\"callback\":null,\"end\":0.19213283149000002,\"start\":-0.0006065204900000001},\"id\":\"b9caba78-23b7-4d44-baf2-7f5c14b54653\",\"type\":\"Range1d\"},{\"attributes\":{\"fill_alpha\":{\"value\":0.7},\"fill_color\":{\"value\":\"#4daf4a\"},\"line_alpha\":{\"value\":0.7},\"line_color\":{\"value\":\"#4daf4a\"},\"x\":{\"field\":\"x\"},\"y\":{\"field\":\"y\"}},\"id\":\"bd647cbb-752a-4591-be90-e886a078205f\",\"type\":\"Circle\"},{\"attributes\":{},\"id\":\"dd65acb4-896f-4c4a-919f-610c45b84008\",\"type\":\"BasicTicker\"},{\"attributes\":{\"axis_label\":\"pressure [mb]\",\"formatter\":{\"id\":\"05cebaf8-9fe0-44ec-bf18-1bd64374dcbb\",\"type\":\"LogTickFormatter\"},\"plot\":{\"id\":\"1dd1a717-0d62-4e2d-9dd5-a481d682be94\",\"subtype\":\"Figure\",\"type\":\"Plot\"},\"ticker\":{\"id\":\"59123467-8e1c-4881-8d64-824c6c1e9ec2\",\"type\":\"LogTicker\"}},\"id\":\"7df55a40-3bb5-419b-adbc-14f3e3f2fb8c\",\"type\":\"LogAxis\"}],\"root_ids\":[\"e095888d-d922-4b2c-8472-330c5ade7c05\"]},\"title\":\"Bokeh Application\",\"version\":\"0.12.14\"}};\n",
       "  var render_items = [{\"docid\":\"268be655-0ce8-4f6d-a3a3-6d6a52ede276\",\"elementid\":\"5018b13b-3245-4abb-9c8e-a7424fc5c350\",\"modelid\":\"e095888d-d922-4b2c-8472-330c5ade7c05\"}];\n",
       "  root.Bokeh.embed.embed_items_notebook(docs_json, render_items);\n",
       "\n",
       "  }\n",
       "  if (root.Bokeh !== undefined) {\n",
       "    embed_document(root);\n",
       "  } else {\n",
       "    var attempts = 0;\n",
       "    var timer = setInterval(function(root) {\n",
       "      if (root.Bokeh !== undefined) {\n",
       "        embed_document(root);\n",
       "        clearInterval(timer);\n",
       "      }\n",
       "      attempts++;\n",
       "      if (attempts > 100) {\n",
       "        console.log(\"Bokeh: ERROR: Unable to run BokehJS code because BokehJS library is missing\")\n",
       "        clearInterval(timer);\n",
       "      }\n",
       "    }, 10, root)\n",
       "  }\n",
       "})(window);"
      ],
      "application/vnd.bokehjs_exec.v0+json": ""
     },
     "metadata": {
      "application/vnd.bokehjs_exec.v0+json": {
       "id": "e095888d-d922-4b2c-8472-330c5ade7c05"
      }
     },
     "output_type": "display_data"
    },
    {
     "name": "stdout",
     "output_type": "stream",
     "text": [
      "FIGURE. Cooling rate profiles.\n"
     ]
    },
    {
     "data": {
      "text/html": [
       "<a id=\"Flux_Comparison\"></a>"
      ],
      "text/plain": [
       "<IPython.core.display.HTML object>"
      ]
     },
     "metadata": {},
     "output_type": "display_data"
    },
    {
     "data": {
      "text/markdown": [
       "# Flux Comparison"
      ],
      "text/plain": [
       "<IPython.core.display.Markdown object>"
      ]
     },
     "metadata": {},
     "output_type": "display_data"
    },
    {
     "data": {
      "text/html": [
       "<div>\n",
       "<style>\n",
       "    .dataframe thead tr:only-child th {\n",
       "        text-align: right;\n",
       "    }\n",
       "\n",
       "    .dataframe thead th {\n",
       "        text-align: left;\n",
       "    }\n",
       "\n",
       "    .dataframe tbody tr th {\n",
       "        vertical-align: top;\n",
       "    }\n",
       "</style>\n",
       "<table border=\"1\" class=\"dataframe\">\n",
       "  <thead>\n",
       "    <tr style=\"text-align: right;\">\n",
       "      <th></th>\n",
       "      <th></th>\n",
       "      <th>flug</th>\n",
       "      <th>fldg</th>\n",
       "      <th>fnetg</th>\n",
       "    </tr>\n",
       "    <tr>\n",
       "      <th>pressure</th>\n",
       "      <th>level</th>\n",
       "      <th></th>\n",
       "      <th></th>\n",
       "      <th></th>\n",
       "    </tr>\n",
       "  </thead>\n",
       "  <tbody>\n",
       "    <tr>\n",
       "      <th>0.0000</th>\n",
       "      <th>1</th>\n",
       "      <td>-22.504215</td>\n",
       "      <td>0.000000</td>\n",
       "      <td>-22.504215</td>\n",
       "    </tr>\n",
       "    <tr>\n",
       "      <th>1.0685</th>\n",
       "      <th>24</th>\n",
       "      <td>-22.503419</td>\n",
       "      <td>0.002034</td>\n",
       "      <td>-22.501386</td>\n",
       "    </tr>\n",
       "    <tr>\n",
       "      <th>1013.0000</th>\n",
       "      <th>76</th>\n",
       "      <td>-23.591137</td>\n",
       "      <td>11.602302</td>\n",
       "      <td>-11.988836</td>\n",
       "    </tr>\n",
       "  </tbody>\n",
       "</table>\n",
       "</div>"
      ],
      "text/plain": [
       "                      flug       fldg      fnetg\n",
       "pressure  level                                 \n",
       "0.0000    1     -22.504215   0.000000 -22.504215\n",
       "1.0685    24    -22.503419   0.002034 -22.501386\n",
       "1013.0000 76    -23.591137  11.602302 -11.988836"
      ]
     },
     "metadata": {},
     "output_type": "display_data"
    },
    {
     "name": "stdout",
     "output_type": "stream",
     "text": [
      "Table. Fluxes. WGT igg=10 wgt_flux=1\n"
     ]
    },
    {
     "data": {
      "text/html": [
       "<div>\n",
       "<style>\n",
       "    .dataframe thead tr:only-child th {\n",
       "        text-align: right;\n",
       "    }\n",
       "\n",
       "    .dataframe thead th {\n",
       "        text-align: left;\n",
       "    }\n",
       "\n",
       "    .dataframe tbody tr th {\n",
       "        vertical-align: top;\n",
       "    }\n",
       "</style>\n",
       "<table border=\"1\" class=\"dataframe\">\n",
       "  <thead>\n",
       "    <tr style=\"text-align: right;\">\n",
       "      <th></th>\n",
       "      <th></th>\n",
       "      <th>flug</th>\n",
       "      <th>fldg</th>\n",
       "      <th>fnetg</th>\n",
       "    </tr>\n",
       "    <tr>\n",
       "      <th>pressure</th>\n",
       "      <th>level</th>\n",
       "      <th></th>\n",
       "      <th></th>\n",
       "      <th></th>\n",
       "    </tr>\n",
       "  </thead>\n",
       "  <tbody>\n",
       "    <tr>\n",
       "      <th>0.0000</th>\n",
       "      <th>1</th>\n",
       "      <td>-22.504461</td>\n",
       "      <td>0.000000</td>\n",
       "      <td>-22.504461</td>\n",
       "    </tr>\n",
       "    <tr>\n",
       "      <th>1.0685</th>\n",
       "      <th>24</th>\n",
       "      <td>-22.503683</td>\n",
       "      <td>0.002296</td>\n",
       "      <td>-22.501388</td>\n",
       "    </tr>\n",
       "    <tr>\n",
       "      <th>1013.0000</th>\n",
       "      <th>76</th>\n",
       "      <td>-23.591138</td>\n",
       "      <td>11.781512</td>\n",
       "      <td>-11.809626</td>\n",
       "    </tr>\n",
       "  </tbody>\n",
       "</table>\n",
       "</div>"
      ],
      "text/plain": [
       "                      flug       fldg      fnetg\n",
       "pressure  level                                 \n",
       "0.0000    1     -22.504461   0.000000 -22.504461\n",
       "1.0685    24    -22.503683   0.002296 -22.501388\n",
       "1013.0000 76    -23.591138  11.781512 -11.809626"
      ]
     },
     "metadata": {},
     "output_type": "display_data"
    },
    {
     "name": "stdout",
     "output_type": "stream",
     "text": [
      "Table. Fluxes. CRD\n"
     ]
    },
    {
     "data": {
      "text/html": [
       "<div>\n",
       "<style>\n",
       "    .dataframe thead tr:only-child th {\n",
       "        text-align: right;\n",
       "    }\n",
       "\n",
       "    .dataframe thead th {\n",
       "        text-align: left;\n",
       "    }\n",
       "\n",
       "    .dataframe tbody tr th {\n",
       "        vertical-align: top;\n",
       "    }\n",
       "</style>\n",
       "<table border=\"1\" class=\"dataframe\">\n",
       "  <thead>\n",
       "    <tr style=\"text-align: right;\">\n",
       "      <th></th>\n",
       "      <th></th>\n",
       "      <th>flug</th>\n",
       "      <th>fldg</th>\n",
       "      <th>fnetg</th>\n",
       "    </tr>\n",
       "    <tr>\n",
       "      <th>pressure</th>\n",
       "      <th>level</th>\n",
       "      <th></th>\n",
       "      <th></th>\n",
       "      <th></th>\n",
       "    </tr>\n",
       "  </thead>\n",
       "  <tbody>\n",
       "    <tr>\n",
       "      <th>1.000000e-08</th>\n",
       "      <th>1</th>\n",
       "      <td>-22.585634</td>\n",
       "      <td>0.000002</td>\n",
       "      <td>-22.585631</td>\n",
       "    </tr>\n",
       "    <tr>\n",
       "      <th>1.068500e+00</th>\n",
       "      <th>24</th>\n",
       "      <td>-22.584796</td>\n",
       "      <td>0.002037</td>\n",
       "      <td>-22.582759</td>\n",
       "    </tr>\n",
       "    <tr>\n",
       "      <th>1.013000e+03</th>\n",
       "      <th>76</th>\n",
       "      <td>-23.591140</td>\n",
       "      <td>11.431477</td>\n",
       "      <td>-12.159663</td>\n",
       "    </tr>\n",
       "  </tbody>\n",
       "</table>\n",
       "</div>"
      ],
      "text/plain": [
       "                         flug       fldg      fnetg\n",
       "pressure     level                                 \n",
       "1.000000e-08 1     -22.585634   0.000002 -22.585631\n",
       "1.068500e+00 24    -22.584796   0.002037 -22.582759\n",
       "1.013000e+03 76    -23.591140  11.431477 -12.159663"
      ]
     },
     "metadata": {},
     "output_type": "display_data"
    },
    {
     "name": "stdout",
     "output_type": "stream",
     "text": [
      "Table. Fluxes. CLIRAD\n"
     ]
    },
    {
     "data": {
      "text/html": [
       "<div>\n",
       "<style>\n",
       "    .dataframe thead tr:only-child th {\n",
       "        text-align: right;\n",
       "    }\n",
       "\n",
       "    .dataframe thead th {\n",
       "        text-align: left;\n",
       "    }\n",
       "\n",
       "    .dataframe tbody tr th {\n",
       "        vertical-align: top;\n",
       "    }\n",
       "</style>\n",
       "<table border=\"1\" class=\"dataframe\">\n",
       "  <thead>\n",
       "    <tr style=\"text-align: right;\">\n",
       "      <th></th>\n",
       "      <th></th>\n",
       "      <th>flug</th>\n",
       "      <th>fldg</th>\n",
       "      <th>fnetg</th>\n",
       "    </tr>\n",
       "    <tr>\n",
       "      <th>pressure</th>\n",
       "      <th>level</th>\n",
       "      <th></th>\n",
       "      <th></th>\n",
       "      <th></th>\n",
       "    </tr>\n",
       "  </thead>\n",
       "  <tbody>\n",
       "    <tr>\n",
       "      <th>0.0000</th>\n",
       "      <th>1</th>\n",
       "      <td>-2.457580e-04</td>\n",
       "      <td>0.000000</td>\n",
       "      <td>-0.000246</td>\n",
       "    </tr>\n",
       "    <tr>\n",
       "      <th>1.0685</th>\n",
       "      <th>24</th>\n",
       "      <td>-2.643440e-04</td>\n",
       "      <td>0.000262</td>\n",
       "      <td>-0.000002</td>\n",
       "    </tr>\n",
       "    <tr>\n",
       "      <th>1013.0000</th>\n",
       "      <th>76</th>\n",
       "      <td>-6.190000e-07</td>\n",
       "      <td>0.179210</td>\n",
       "      <td>0.179210</td>\n",
       "    </tr>\n",
       "  </tbody>\n",
       "</table>\n",
       "</div>"
      ],
      "text/plain": [
       "                         flug      fldg     fnetg\n",
       "pressure  level                                  \n",
       "0.0000    1     -2.457580e-04  0.000000 -0.000246\n",
       "1.0685    24    -2.643440e-04  0.000262 -0.000002\n",
       "1013.0000 76    -6.190000e-07  0.179210  0.179210"
      ]
     },
     "metadata": {},
     "output_type": "display_data"
    },
    {
     "name": "stdout",
     "output_type": "stream",
     "text": [
      "Table. Fluxes. (CRD) - (WGT igg=10 wgt_flux=1)\n"
     ]
    },
    {
     "data": {
      "text/html": [
       "<div>\n",
       "<style>\n",
       "    .dataframe thead tr:only-child th {\n",
       "        text-align: right;\n",
       "    }\n",
       "\n",
       "    .dataframe thead th {\n",
       "        text-align: left;\n",
       "    }\n",
       "\n",
       "    .dataframe tbody tr th {\n",
       "        vertical-align: top;\n",
       "    }\n",
       "</style>\n",
       "<table border=\"1\" class=\"dataframe\">\n",
       "  <thead>\n",
       "    <tr style=\"text-align: right;\">\n",
       "      <th></th>\n",
       "      <th></th>\n",
       "      <th>flug</th>\n",
       "      <th>fldg</th>\n",
       "      <th>fnetg</th>\n",
       "    </tr>\n",
       "    <tr>\n",
       "      <th>pressure</th>\n",
       "      <th>level</th>\n",
       "      <th></th>\n",
       "      <th></th>\n",
       "      <th></th>\n",
       "    </tr>\n",
       "  </thead>\n",
       "  <tbody>\n",
       "    <tr>\n",
       "      <th>0.0000</th>\n",
       "      <th>1</th>\n",
       "      <td>-0.081419</td>\n",
       "      <td>0.000002</td>\n",
       "      <td>-0.081416</td>\n",
       "    </tr>\n",
       "    <tr>\n",
       "      <th>1.0685</th>\n",
       "      <th>24</th>\n",
       "      <td>-0.081377</td>\n",
       "      <td>0.000003</td>\n",
       "      <td>-0.081373</td>\n",
       "    </tr>\n",
       "    <tr>\n",
       "      <th>1013.0000</th>\n",
       "      <th>76</th>\n",
       "      <td>-0.000003</td>\n",
       "      <td>-0.170825</td>\n",
       "      <td>-0.170827</td>\n",
       "    </tr>\n",
       "  </tbody>\n",
       "</table>\n",
       "</div>"
      ],
      "text/plain": [
       "                     flug      fldg     fnetg\n",
       "pressure  level                              \n",
       "0.0000    1     -0.081419  0.000002 -0.081416\n",
       "1.0685    24    -0.081377  0.000003 -0.081373\n",
       "1013.0000 76    -0.000003 -0.170825 -0.170827"
      ]
     },
     "metadata": {},
     "output_type": "display_data"
    },
    {
     "name": "stdout",
     "output_type": "stream",
     "text": [
      "Table. Fluxes. (CLIRAD) - (WGT igg=10 wgt_flux=1)\n"
     ]
    },
    {
     "data": {
      "text/html": [
       "<a id=\"Best-fit_Parameters\"></a>"
      ],
      "text/plain": [
       "<IPython.core.display.HTML object>"
      ]
     },
     "metadata": {},
     "output_type": "display_data"
    },
    {
     "data": {
      "text/markdown": [
       "# Best-fit Parameters"
      ],
      "text/plain": [
       "<IPython.core.display.Markdown object>"
      ]
     },
     "metadata": {},
     "output_type": "display_data"
    },
    {
     "name": "stdout",
     "output_type": "stream",
     "text": [
      "Best-fit values for each (gas, band)\n",
      "------------------------------------\n",
      "o h2o band3a\n",
      "  atmpro = mls\n",
      "  band = 3a\n",
      "  commitnumber = 2bd1f75\n",
      "  conc = None\n",
      "  dv = 0.01\n",
      "  klin = 0\n",
      "  molecule = h2o\n",
      "  ng_adju = [0, 0]\n",
      "  ng_refs = [2, 6]\n",
      "  nv = 100\n",
      "  option_compute_btable = 0\n",
      "  option_compute_ktable = 1\n",
      "  option_wgt_flux = 1\n",
      "  option_wgt_k = 1\n",
      "  ref_pts = [(10, 250), (600, 250)]\n",
      "  tsfc = 294\n",
      "  vmax = 620\n",
      "  vmin = 540\n",
      "  w_diffuse = [(1.9, 1.7), (1.4, 1.4, 1.4, 1.55, 1.6, 1.66)]\n",
      "  wgt = [(0.7, 0.7), (0.7, 0.5, 0.5, 0.5, 0.5, 0.5)]\n"
     ]
    }
   ],
   "source": [
    "script()"
   ]
  },
  {
   "cell_type": "code",
   "execution_count": 13,
   "metadata": {
    "collapsed": true
   },
   "outputs": [
    {
     "data": {
      "text/html": [
       "<script>\n",
       "code_show=true; \n",
       "function code_toggle() {\n",
       " if (code_show){\n",
       " $('div.input').hide();\n",
       " } else {\n",
       " $('div.input').show();\n",
       " }\n",
       " code_show = !code_show\n",
       "} \n",
       "$( document ).ready(code_toggle);\n",
       "</script>\n",
       "<form action=\"javascript:code_toggle()\"><input type=\"submit\" value=\"Click here to toggle on/off the raw code.\"></form>"
      ],
      "text/plain": [
       "<IPython.core.display.HTML object>"
      ]
     },
     "execution_count": 13,
     "metadata": {},
     "output_type": "execute_result"
    }
   ],
   "source": [
    "display.HTML('''<script>\n",
    "code_show=true; \n",
    "function code_toggle() {\n",
    " if (code_show){\n",
    " $('div.input').hide();\n",
    " } else {\n",
    " $('div.input').show();\n",
    " }\n",
    " code_show = !code_show\n",
    "} \n",
    "$( document ).ready(code_toggle);\n",
    "</script>\n",
    "<form action=\"javascript:code_toggle()\"><input type=\"submit\" value=\"Click here to toggle on/off the raw code.\"></form>''')"
   ]
  }
 ],
 "metadata": {
  "kernelspec": {
   "display_name": "Python 3",
   "language": "python",
   "name": "python3"
  },
  "language_info": {
   "codemirror_mode": {
    "name": "ipython",
    "version": 3
   },
   "file_extension": ".py",
   "mimetype": "text/x-python",
   "name": "python",
   "nbconvert_exporter": "python",
   "pygments_lexer": "ipython3",
   "version": "3.6.1"
  }
 },
 "nbformat": 4,
 "nbformat_minor": 2
}
