{
 "cells": [
  {
   "cell_type": "code",
   "execution_count": 1,
   "metadata": {
    "collapsed": true
   },
   "outputs": [],
   "source": [
    "%matplotlib inline\n",
    "import os\n",
    "import re\n",
    "import io\n",
    "import itertools\n",
    "import pprint\n",
    "\n",
    "from bokeh.io import output_notebook, show\n",
    "from bokeh.layouts import gridplot\n",
    "from bokeh.plotting import figure\n",
    "from bokeh.models import Range1d, Legend\n",
    "from bokeh.palettes import all_palettes\n",
    "\n",
    "import matplotlib\n",
    "import matplotlib.pyplot as plt\n",
    "import numpy as np\n",
    "import pandas as pd\n",
    "import xarray as xr\n",
    "\n",
    "import climatools.lblnew.bestfit_params as bestfits\n",
    "from climatools.lblnew import setup_bestfit, setup_overlap\n",
    "import climatools.lblnew.pipeline as pipe_lblnew\n",
    "import climatools.cliradlw.setup as setup_cliradlw\n",
    "import climatools.cliradlw.pipeline as pipe_cliradlw\n",
    "\n",
    "import climatools.html.html as climahtml\n",
    "from climatools.lblnew.dataio import *\n",
    "from climatools.plot.plot import *\n",
    "\n",
    "\n",
    "import IPython.display as display"
   ]
  },
  {
   "cell_type": "code",
   "execution_count": 2,
   "metadata": {
    "collapsed": true
   },
   "outputs": [],
   "source": [
    "%run param.py"
   ]
  },
  {
   "cell_type": "code",
   "execution_count": 3,
   "metadata": {
    "collapsed": true
   },
   "outputs": [],
   "source": [
    "def load_output_file(path_csv):\n",
    "    '''\n",
    "    Load lblnew output .csv file to xarray.Dataset\n",
    "    \n",
    "    Parameters\n",
    "    ----------\n",
    "    path_csv: str\n",
    "              Path to the .csv file to be loaded.\n",
    "    ds: xarray.Dataset\n",
    "        Data in the input file in the form of an xarray.Dataset.\n",
    "    '''\n",
    "    toindex = ['band', 'pressure', 'igg', 'g']    \n",
    "    df = pd.read_csv(path_csv, sep=r'\\s+')\n",
    "    df = df.set_index([i for i in toindex if i in df.columns])\n",
    "    df = df.rename(columns={'sfu': 'flug',\n",
    "                            'sfd': 'fldg',\n",
    "                            'fnet': 'fnetg',\n",
    "                            'coolr': 'coolrg'})\n",
    "    ds = xr.Dataset.from_dataframe(df)\n",
    "\n",
    "    for l in ('level', 'layer'):\n",
    "        if l in ds.data_vars:\n",
    "            if len(ds[l].dims) > 1:\n",
    "                surface = {d: 0 for d in ds.dims if d != 'pressure'}\n",
    "                coord_level = ds[l][surface]\n",
    "                ds.coords[l] = ('pressure', coord_level)\n",
    "            else:\n",
    "                ds.coords[l] = ('pressure', ds[l])\n",
    "    \n",
    "    return ds"
   ]
  },
  {
   "cell_type": "code",
   "execution_count": 4,
   "metadata": {
    "collapsed": true
   },
   "outputs": [],
   "source": [
    "def lblnew_setup(param=None):\n",
    "    if 'ng_refs' in param:\n",
    "        return {'setup': setup_bestfit,\n",
    "                'fname_flux_crd': 'output_flux.dat',\n",
    "                'fname_cool_crd': 'output_coolr.dat',\n",
    "                'fname_flux_wgt': 'output_wfluxg.dat',\n",
    "                'fname_cool_wgt': 'output_wcoolrg.dat'}\n",
    "    else:\n",
    "        return {'setup': setup_overlap,\n",
    "                'fname_flux_crd': 'output_flux.dat',\n",
    "                'fname_cool_crd': 'output_coolr.dat',\n",
    "                'fname_flux_wgt': 'output_wflux.dat',\n",
    "                'fname_cool_wgt': 'output_wcoolr.dat'}\n",
    "\n",
    "    \n",
    "def load_lblnew_data(param):\n",
    "    \n",
    "    fname_dsname = [('fname_flux_crd', 'ds_flux_crd'),\n",
    "                    ('fname_cool_crd', 'ds_cool_crd'),\n",
    "                    ('fname_flux_wgt', 'ds_flux_wgt'),\n",
    "                    ('fname_cool_wgt', 'ds_cool_wgt')]\n",
    "    \n",
    "    d = lblnew_setup(param)\n",
    "    dir_fortran = pipe_lblnew.get_dir_case(param, setup=d['setup'])\n",
    "    \n",
    "    data_dict = {}\n",
    "    for fname, dsname in fname_dsname:\n",
    "        fpath = os.path.join(dir_fortran, d[fname])\n",
    "        data_dict[dsname] = load_output_file(fpath)\n",
    "    return data_dict\n",
    "    \n",
    "\n",
    "    \n",
    "    "
   ]
  },
  {
   "cell_type": "code",
   "execution_count": 5,
   "metadata": {
    "collapsed": true
   },
   "outputs": [],
   "source": [
    "d = load_lblnew_data(PARAM_LBLNEW)\n",
    "\n",
    "DS_FLUX_CRD = d['ds_flux_crd']\n",
    "DS_COOL_CRD = d['ds_cool_crd']\n",
    "DS_FLUX_WGT = d['ds_flux_wgt']\n",
    "DS_COOL_WGT = d['ds_cool_wgt']"
   ]
  },
  {
   "cell_type": "code",
   "execution_count": 6,
   "metadata": {
    "collapsed": true
   },
   "outputs": [],
   "source": [
    "DIR_FORTRAN = pipe_cliradlw.get_fortran_dir(PARAM, \n",
    "                                            setup=setup_cliradlw)\n",
    "\n",
    "PATH_FLUX = os.path.join(DIR_FORTRAN, 'output_flux.dat')\n",
    "PATH_COOL = os.path.join(DIR_FORTRAN, 'output_coolr.dat')\n",
    "\n",
    "DS_FLUX = load_output_file(PATH_FLUX)\n",
    "DS_COOL = load_output_file(PATH_COOL)"
   ]
  },
  {
   "cell_type": "code",
   "execution_count": 7,
   "metadata": {
    "collapsed": true
   },
   "outputs": [
    {
     "data": {
      "text/html": [
       "\n",
       "    <div class=\"bk-root\">\n",
       "        <a href=\"https://bokeh.pydata.org\" target=\"_blank\" class=\"bk-logo bk-logo-small bk-logo-notebook\"></a>\n",
       "        <span id=\"e477bce7-a658-4d93-a566-818fc21ad702\">Loading BokehJS ...</span>\n",
       "    </div>"
      ]
     },
     "metadata": {},
     "output_type": "display_data"
    },
    {
     "data": {
      "application/javascript": [
       "\n",
       "(function(root) {\n",
       "  function now() {\n",
       "    return new Date();\n",
       "  }\n",
       "\n",
       "  var force = true;\n",
       "\n",
       "  if (typeof (root._bokeh_onload_callbacks) === \"undefined\" || force === true) {\n",
       "    root._bokeh_onload_callbacks = [];\n",
       "    root._bokeh_is_loading = undefined;\n",
       "  }\n",
       "\n",
       "  var JS_MIME_TYPE = 'application/javascript';\n",
       "  var HTML_MIME_TYPE = 'text/html';\n",
       "  var EXEC_MIME_TYPE = 'application/vnd.bokehjs_exec.v0+json';\n",
       "  var CLASS_NAME = 'output_bokeh rendered_html';\n",
       "\n",
       "  /**\n",
       "   * Render data to the DOM node\n",
       "   */\n",
       "  function render(props, node) {\n",
       "    var script = document.createElement(\"script\");\n",
       "    node.appendChild(script);\n",
       "  }\n",
       "\n",
       "  /**\n",
       "   * Handle when an output is cleared or removed\n",
       "   */\n",
       "  function handleClearOutput(event, handle) {\n",
       "    var cell = handle.cell;\n",
       "\n",
       "    var id = cell.output_area._bokeh_element_id;\n",
       "    var server_id = cell.output_area._bokeh_server_id;\n",
       "    // Clean up Bokeh references\n",
       "    if (id !== undefined) {\n",
       "      Bokeh.index[id].model.document.clear();\n",
       "      delete Bokeh.index[id];\n",
       "    }\n",
       "\n",
       "    if (server_id !== undefined) {\n",
       "      // Clean up Bokeh references\n",
       "      var cmd = \"from bokeh.io.state import curstate; print(curstate().uuid_to_server['\" + server_id + \"'].get_sessions()[0].document.roots[0]._id)\";\n",
       "      cell.notebook.kernel.execute(cmd, {\n",
       "        iopub: {\n",
       "          output: function(msg) {\n",
       "            var element_id = msg.content.text.trim();\n",
       "            Bokeh.index[element_id].model.document.clear();\n",
       "            delete Bokeh.index[element_id];\n",
       "          }\n",
       "        }\n",
       "      });\n",
       "      // Destroy server and session\n",
       "      var cmd = \"import bokeh.io.notebook as ion; ion.destroy_server('\" + server_id + \"')\";\n",
       "      cell.notebook.kernel.execute(cmd);\n",
       "    }\n",
       "  }\n",
       "\n",
       "  /**\n",
       "   * Handle when a new output is added\n",
       "   */\n",
       "  function handleAddOutput(event, handle) {\n",
       "    var output_area = handle.output_area;\n",
       "    var output = handle.output;\n",
       "\n",
       "    // limit handleAddOutput to display_data with EXEC_MIME_TYPE content only\n",
       "    if ((output.output_type != \"display_data\") || (!output.data.hasOwnProperty(EXEC_MIME_TYPE))) {\n",
       "      return\n",
       "    }\n",
       "\n",
       "    var toinsert = output_area.element.find(\".\" + CLASS_NAME.split(' ')[0]);\n",
       "\n",
       "    if (output.metadata[EXEC_MIME_TYPE][\"id\"] !== undefined) {\n",
       "      toinsert[0].firstChild.textContent = output.data[JS_MIME_TYPE];\n",
       "      // store reference to embed id on output_area\n",
       "      output_area._bokeh_element_id = output.metadata[EXEC_MIME_TYPE][\"id\"];\n",
       "    }\n",
       "    if (output.metadata[EXEC_MIME_TYPE][\"server_id\"] !== undefined) {\n",
       "      var bk_div = document.createElement(\"div\");\n",
       "      bk_div.innerHTML = output.data[HTML_MIME_TYPE];\n",
       "      var script_attrs = bk_div.children[0].attributes;\n",
       "      for (var i = 0; i < script_attrs.length; i++) {\n",
       "        toinsert[0].firstChild.setAttribute(script_attrs[i].name, script_attrs[i].value);\n",
       "      }\n",
       "      // store reference to server id on output_area\n",
       "      output_area._bokeh_server_id = output.metadata[EXEC_MIME_TYPE][\"server_id\"];\n",
       "    }\n",
       "  }\n",
       "\n",
       "  function register_renderer(events, OutputArea) {\n",
       "\n",
       "    function append_mime(data, metadata, element) {\n",
       "      // create a DOM node to render to\n",
       "      var toinsert = this.create_output_subarea(\n",
       "        metadata,\n",
       "        CLASS_NAME,\n",
       "        EXEC_MIME_TYPE\n",
       "      );\n",
       "      this.keyboard_manager.register_events(toinsert);\n",
       "      // Render to node\n",
       "      var props = {data: data, metadata: metadata[EXEC_MIME_TYPE]};\n",
       "      render(props, toinsert[0]);\n",
       "      element.append(toinsert);\n",
       "      return toinsert\n",
       "    }\n",
       "\n",
       "    /* Handle when an output is cleared or removed */\n",
       "    events.on('clear_output.CodeCell', handleClearOutput);\n",
       "    events.on('delete.Cell', handleClearOutput);\n",
       "\n",
       "    /* Handle when a new output is added */\n",
       "    events.on('output_added.OutputArea', handleAddOutput);\n",
       "\n",
       "    /**\n",
       "     * Register the mime type and append_mime function with output_area\n",
       "     */\n",
       "    OutputArea.prototype.register_mime_type(EXEC_MIME_TYPE, append_mime, {\n",
       "      /* Is output safe? */\n",
       "      safe: true,\n",
       "      /* Index of renderer in `output_area.display_order` */\n",
       "      index: 0\n",
       "    });\n",
       "  }\n",
       "\n",
       "  // register the mime type if in Jupyter Notebook environment and previously unregistered\n",
       "  if (root.Jupyter !== undefined) {\n",
       "    var events = require('base/js/events');\n",
       "    var OutputArea = require('notebook/js/outputarea').OutputArea;\n",
       "\n",
       "    if (OutputArea.prototype.mime_types().indexOf(EXEC_MIME_TYPE) == -1) {\n",
       "      register_renderer(events, OutputArea);\n",
       "    }\n",
       "  }\n",
       "\n",
       "  \n",
       "  if (typeof (root._bokeh_timeout) === \"undefined\" || force === true) {\n",
       "    root._bokeh_timeout = Date.now() + 5000;\n",
       "    root._bokeh_failed_load = false;\n",
       "  }\n",
       "\n",
       "  var NB_LOAD_WARNING = {'data': {'text/html':\n",
       "     \"<div style='background-color: #fdd'>\\n\"+\n",
       "     \"<p>\\n\"+\n",
       "     \"BokehJS does not appear to have successfully loaded. If loading BokehJS from CDN, this \\n\"+\n",
       "     \"may be due to a slow or bad network connection. Possible fixes:\\n\"+\n",
       "     \"</p>\\n\"+\n",
       "     \"<ul>\\n\"+\n",
       "     \"<li>re-rerun `output_notebook()` to attempt to load from CDN again, or</li>\\n\"+\n",
       "     \"<li>use INLINE resources instead, as so:</li>\\n\"+\n",
       "     \"</ul>\\n\"+\n",
       "     \"<code>\\n\"+\n",
       "     \"from bokeh.resources import INLINE\\n\"+\n",
       "     \"output_notebook(resources=INLINE)\\n\"+\n",
       "     \"</code>\\n\"+\n",
       "     \"</div>\"}};\n",
       "\n",
       "  function display_loaded() {\n",
       "    var el = document.getElementById(\"e477bce7-a658-4d93-a566-818fc21ad702\");\n",
       "    if (el != null) {\n",
       "      el.textContent = \"BokehJS is loading...\";\n",
       "    }\n",
       "    if (root.Bokeh !== undefined) {\n",
       "      if (el != null) {\n",
       "        el.textContent = \"BokehJS \" + root.Bokeh.version + \" successfully loaded.\";\n",
       "      }\n",
       "    } else if (Date.now() < root._bokeh_timeout) {\n",
       "      setTimeout(display_loaded, 100)\n",
       "    }\n",
       "  }\n",
       "\n",
       "\n",
       "  function run_callbacks() {\n",
       "    try {\n",
       "      root._bokeh_onload_callbacks.forEach(function(callback) { callback() });\n",
       "    }\n",
       "    finally {\n",
       "      delete root._bokeh_onload_callbacks\n",
       "    }\n",
       "    console.info(\"Bokeh: all callbacks have finished\");\n",
       "  }\n",
       "\n",
       "  function load_libs(js_urls, callback) {\n",
       "    root._bokeh_onload_callbacks.push(callback);\n",
       "    if (root._bokeh_is_loading > 0) {\n",
       "      console.log(\"Bokeh: BokehJS is being loaded, scheduling callback at\", now());\n",
       "      return null;\n",
       "    }\n",
       "    if (js_urls == null || js_urls.length === 0) {\n",
       "      run_callbacks();\n",
       "      return null;\n",
       "    }\n",
       "    console.log(\"Bokeh: BokehJS not loaded, scheduling load and callback at\", now());\n",
       "    root._bokeh_is_loading = js_urls.length;\n",
       "    for (var i = 0; i < js_urls.length; i++) {\n",
       "      var url = js_urls[i];\n",
       "      var s = document.createElement('script');\n",
       "      s.src = url;\n",
       "      s.async = false;\n",
       "      s.onreadystatechange = s.onload = function() {\n",
       "        root._bokeh_is_loading--;\n",
       "        if (root._bokeh_is_loading === 0) {\n",
       "          console.log(\"Bokeh: all BokehJS libraries loaded\");\n",
       "          run_callbacks()\n",
       "        }\n",
       "      };\n",
       "      s.onerror = function() {\n",
       "        console.warn(\"failed to load library \" + url);\n",
       "      };\n",
       "      console.log(\"Bokeh: injecting script tag for BokehJS library: \", url);\n",
       "      document.getElementsByTagName(\"head\")[0].appendChild(s);\n",
       "    }\n",
       "  };var element = document.getElementById(\"e477bce7-a658-4d93-a566-818fc21ad702\");\n",
       "  if (element == null) {\n",
       "    console.log(\"Bokeh: ERROR: autoload.js configured with elementid 'e477bce7-a658-4d93-a566-818fc21ad702' but no matching script tag was found. \")\n",
       "    return false;\n",
       "  }\n",
       "\n",
       "  var js_urls = [\"https://cdn.pydata.org/bokeh/release/bokeh-0.12.14.min.js\", \"https://cdn.pydata.org/bokeh/release/bokeh-widgets-0.12.14.min.js\", \"https://cdn.pydata.org/bokeh/release/bokeh-tables-0.12.14.min.js\", \"https://cdn.pydata.org/bokeh/release/bokeh-gl-0.12.14.min.js\"];\n",
       "\n",
       "  var inline_js = [\n",
       "    function(Bokeh) {\n",
       "      Bokeh.set_log_level(\"info\");\n",
       "    },\n",
       "    \n",
       "    function(Bokeh) {\n",
       "      \n",
       "    },\n",
       "    function(Bokeh) {\n",
       "      console.log(\"Bokeh: injecting CSS: https://cdn.pydata.org/bokeh/release/bokeh-0.12.14.min.css\");\n",
       "      Bokeh.embed.inject_css(\"https://cdn.pydata.org/bokeh/release/bokeh-0.12.14.min.css\");\n",
       "      console.log(\"Bokeh: injecting CSS: https://cdn.pydata.org/bokeh/release/bokeh-widgets-0.12.14.min.css\");\n",
       "      Bokeh.embed.inject_css(\"https://cdn.pydata.org/bokeh/release/bokeh-widgets-0.12.14.min.css\");\n",
       "      console.log(\"Bokeh: injecting CSS: https://cdn.pydata.org/bokeh/release/bokeh-tables-0.12.14.min.css\");\n",
       "      Bokeh.embed.inject_css(\"https://cdn.pydata.org/bokeh/release/bokeh-tables-0.12.14.min.css\");\n",
       "    }\n",
       "  ];\n",
       "\n",
       "  function run_inline_js() {\n",
       "    \n",
       "    if ((root.Bokeh !== undefined) || (force === true)) {\n",
       "      for (var i = 0; i < inline_js.length; i++) {\n",
       "        inline_js[i].call(root, root.Bokeh);\n",
       "      }if (force === true) {\n",
       "        display_loaded();\n",
       "      }} else if (Date.now() < root._bokeh_timeout) {\n",
       "      setTimeout(run_inline_js, 100);\n",
       "    } else if (!root._bokeh_failed_load) {\n",
       "      console.log(\"Bokeh: BokehJS failed to load within specified timeout.\");\n",
       "      root._bokeh_failed_load = true;\n",
       "    } else if (force !== true) {\n",
       "      var cell = $(document.getElementById(\"e477bce7-a658-4d93-a566-818fc21ad702\")).parents('.cell').data().cell;\n",
       "      cell.output_area.append_execute_result(NB_LOAD_WARNING)\n",
       "    }\n",
       "\n",
       "  }\n",
       "\n",
       "  if (root._bokeh_is_loading === 0) {\n",
       "    console.log(\"Bokeh: BokehJS loaded, going straight to plotting\");\n",
       "    run_inline_js();\n",
       "  } else {\n",
       "    load_libs(js_urls, function() {\n",
       "      console.log(\"Bokeh: BokehJS plotting callback run at\", now());\n",
       "      run_inline_js();\n",
       "    });\n",
       "  }\n",
       "}(window));"
      ],
      "application/vnd.bokehjs_load.v0+json": "\n(function(root) {\n  function now() {\n    return new Date();\n  }\n\n  var force = true;\n\n  if (typeof (root._bokeh_onload_callbacks) === \"undefined\" || force === true) {\n    root._bokeh_onload_callbacks = [];\n    root._bokeh_is_loading = undefined;\n  }\n\n  \n\n  \n  if (typeof (root._bokeh_timeout) === \"undefined\" || force === true) {\n    root._bokeh_timeout = Date.now() + 5000;\n    root._bokeh_failed_load = false;\n  }\n\n  var NB_LOAD_WARNING = {'data': {'text/html':\n     \"<div style='background-color: #fdd'>\\n\"+\n     \"<p>\\n\"+\n     \"BokehJS does not appear to have successfully loaded. If loading BokehJS from CDN, this \\n\"+\n     \"may be due to a slow or bad network connection. Possible fixes:\\n\"+\n     \"</p>\\n\"+\n     \"<ul>\\n\"+\n     \"<li>re-rerun `output_notebook()` to attempt to load from CDN again, or</li>\\n\"+\n     \"<li>use INLINE resources instead, as so:</li>\\n\"+\n     \"</ul>\\n\"+\n     \"<code>\\n\"+\n     \"from bokeh.resources import INLINE\\n\"+\n     \"output_notebook(resources=INLINE)\\n\"+\n     \"</code>\\n\"+\n     \"</div>\"}};\n\n  function display_loaded() {\n    var el = document.getElementById(\"e477bce7-a658-4d93-a566-818fc21ad702\");\n    if (el != null) {\n      el.textContent = \"BokehJS is loading...\";\n    }\n    if (root.Bokeh !== undefined) {\n      if (el != null) {\n        el.textContent = \"BokehJS \" + root.Bokeh.version + \" successfully loaded.\";\n      }\n    } else if (Date.now() < root._bokeh_timeout) {\n      setTimeout(display_loaded, 100)\n    }\n  }\n\n\n  function run_callbacks() {\n    try {\n      root._bokeh_onload_callbacks.forEach(function(callback) { callback() });\n    }\n    finally {\n      delete root._bokeh_onload_callbacks\n    }\n    console.info(\"Bokeh: all callbacks have finished\");\n  }\n\n  function load_libs(js_urls, callback) {\n    root._bokeh_onload_callbacks.push(callback);\n    if (root._bokeh_is_loading > 0) {\n      console.log(\"Bokeh: BokehJS is being loaded, scheduling callback at\", now());\n      return null;\n    }\n    if (js_urls == null || js_urls.length === 0) {\n      run_callbacks();\n      return null;\n    }\n    console.log(\"Bokeh: BokehJS not loaded, scheduling load and callback at\", now());\n    root._bokeh_is_loading = js_urls.length;\n    for (var i = 0; i < js_urls.length; i++) {\n      var url = js_urls[i];\n      var s = document.createElement('script');\n      s.src = url;\n      s.async = false;\n      s.onreadystatechange = s.onload = function() {\n        root._bokeh_is_loading--;\n        if (root._bokeh_is_loading === 0) {\n          console.log(\"Bokeh: all BokehJS libraries loaded\");\n          run_callbacks()\n        }\n      };\n      s.onerror = function() {\n        console.warn(\"failed to load library \" + url);\n      };\n      console.log(\"Bokeh: injecting script tag for BokehJS library: \", url);\n      document.getElementsByTagName(\"head\")[0].appendChild(s);\n    }\n  };var element = document.getElementById(\"e477bce7-a658-4d93-a566-818fc21ad702\");\n  if (element == null) {\n    console.log(\"Bokeh: ERROR: autoload.js configured with elementid 'e477bce7-a658-4d93-a566-818fc21ad702' but no matching script tag was found. \")\n    return false;\n  }\n\n  var js_urls = [\"https://cdn.pydata.org/bokeh/release/bokeh-0.12.14.min.js\", \"https://cdn.pydata.org/bokeh/release/bokeh-widgets-0.12.14.min.js\", \"https://cdn.pydata.org/bokeh/release/bokeh-tables-0.12.14.min.js\", \"https://cdn.pydata.org/bokeh/release/bokeh-gl-0.12.14.min.js\"];\n\n  var inline_js = [\n    function(Bokeh) {\n      Bokeh.set_log_level(\"info\");\n    },\n    \n    function(Bokeh) {\n      \n    },\n    function(Bokeh) {\n      console.log(\"Bokeh: injecting CSS: https://cdn.pydata.org/bokeh/release/bokeh-0.12.14.min.css\");\n      Bokeh.embed.inject_css(\"https://cdn.pydata.org/bokeh/release/bokeh-0.12.14.min.css\");\n      console.log(\"Bokeh: injecting CSS: https://cdn.pydata.org/bokeh/release/bokeh-widgets-0.12.14.min.css\");\n      Bokeh.embed.inject_css(\"https://cdn.pydata.org/bokeh/release/bokeh-widgets-0.12.14.min.css\");\n      console.log(\"Bokeh: injecting CSS: https://cdn.pydata.org/bokeh/release/bokeh-tables-0.12.14.min.css\");\n      Bokeh.embed.inject_css(\"https://cdn.pydata.org/bokeh/release/bokeh-tables-0.12.14.min.css\");\n    }\n  ];\n\n  function run_inline_js() {\n    \n    if ((root.Bokeh !== undefined) || (force === true)) {\n      for (var i = 0; i < inline_js.length; i++) {\n        inline_js[i].call(root, root.Bokeh);\n      }if (force === true) {\n        display_loaded();\n      }} else if (Date.now() < root._bokeh_timeout) {\n      setTimeout(run_inline_js, 100);\n    } else if (!root._bokeh_failed_load) {\n      console.log(\"Bokeh: BokehJS failed to load within specified timeout.\");\n      root._bokeh_failed_load = true;\n    } else if (force !== true) {\n      var cell = $(document.getElementById(\"e477bce7-a658-4d93-a566-818fc21ad702\")).parents('.cell').data().cell;\n      cell.output_area.append_execute_result(NB_LOAD_WARNING)\n    }\n\n  }\n\n  if (root._bokeh_is_loading === 0) {\n    console.log(\"Bokeh: BokehJS loaded, going straight to plotting\");\n    run_inline_js();\n  } else {\n    load_libs(js_urls, function() {\n      console.log(\"Bokeh: BokehJS plotting callback run at\", now());\n      run_inline_js();\n    });\n  }\n}(window));"
     },
     "metadata": {},
     "output_type": "display_data"
    }
   ],
   "source": [
    "output_notebook()"
   ]
  },
  {
   "cell_type": "code",
   "execution_count": 8,
   "metadata": {
    "collapsed": true
   },
   "outputs": [],
   "source": [
    "def fmt_cool(ds_in):\n",
    "    ds = ds_in.copy(deep=True)\n",
    "    if 'igg' in ds.dims:\n",
    "        ds = ds.sel(igg=1)\n",
    "\n",
    "    if 'g' in ds.dims:\n",
    "        ds = ds.sum('g')\n",
    "            \n",
    "    if 'band' in ds.dims:\n",
    "        try:\n",
    "            ds = ds.squeeze('band')\n",
    "        except ValueError:\n",
    "            ds = ds.sum('band')\n",
    "                \n",
    "    return ds['coolrg']\n",
    "\n",
    "\n",
    "def pltdata_cooling_1(ds_cool=None,\n",
    "                      ds_cool_crd=None, ds_cool_wgt=None):\n",
    "    \n",
    "\n",
    "\n",
    "    colors = all_palettes['Set1'][4]\n",
    "    data = [{'label': 'CLIRAD `coolr_bands`',\n",
    "             'srs': fmt_cool(ds_cool),\n",
    "             'line_dash': 'dashed', 'line_width': 5,\n",
    "             'color': colors[0], 'alpha': .6},\n",
    "            {'label': 'CRD',\n",
    "             'srs': fmt_cool(ds_cool_crd),\n",
    "             'line_dash': 'solid', 'line_width': 1.5,\n",
    "             'marker': 'circle', 'marker_size': 5,\n",
    "             'color': colors[2], 'alpha': 1,},\n",
    "            {'label': 'WGT igg=10 wgt_flux=2',\n",
    "             'srs': fmt_cool(ds_cool_wgt),\n",
    "             'line_dash': 'solid', 'line_width': 3,\n",
    "             'marker': 'square', 'marker_size': 5,\n",
    "             'color': colors[3], 'alpha': .6}]\n",
    "    return data\n",
    "\n",
    "\n",
    "def nice_xlims(pltdata=None, prange=None):\n",
    "    \n",
    "    def get_slice(srs):\n",
    "        return srs.sel(pressure=slice(*prange))\n",
    "    \n",
    "    srss = [d['srs'] for d in pltdata]\n",
    "    vmin = min([get_slice(srs).min() for srs in srss])\n",
    "    vmax = max([get_slice(srs).max() for srs in srss])\n",
    "    dv = (vmax - vmin) * .01\n",
    "    return float(vmin - dv), float(vmax + dv)\n",
    "    \n",
    "\n",
    "def plt_cooling_bokeh(pltdata=None):\n",
    "    '''\n",
    "    Plot a list of cooling rate profiles using bokeh.\n",
    "    '''\n",
    "    ymin = 1e-2 \n",
    "    ymax = 1020 \n",
    "        \n",
    "    p1 = figure(title=\"Linear pressure scale\", \n",
    "                plot_width=400)        \n",
    "    xmin, xmax = nice_xlims(pltdata, prange=(50, 1050))\n",
    "    for d in pltdata:\n",
    "        if 'marker' in d:\n",
    "            getattr(p1, d['marker'])(d['srs'].values, \n",
    "                    d['srs'].coords['pressure'].values,\n",
    "                    color=d['color'], alpha=.7)\n",
    "        p1.line(d['srs'].values, \n",
    "                d['srs'].coords['pressure'].values,\n",
    "                color=d['color'], alpha=d['alpha'], \n",
    "                line_width=d['line_width'], line_dash=d['line_dash'])\n",
    "    \n",
    "    p1.y_range = Range1d(ymax, ymin)\n",
    "    p1.yaxis.axis_label = 'pressure [mb]'   \n",
    "    p1.x_range = Range1d(xmin, xmax)\n",
    "    p1.xaxis.axis_label = 'cooling rate [K/day]'\n",
    "            \n",
    "    p2 = figure(title='Log pressure scale', y_axis_type='log',\n",
    "                plot_width=560)\n",
    "    xmin, xmax = nice_xlims(pltdata, prange=(.01, 200))\n",
    "    \n",
    "    rs = []\n",
    "    for d in pltdata:\n",
    "        rd = []\n",
    "        if 'marker' in d:\n",
    "            r_mark = getattr(p2, d['marker'])(d['srs'].values, \n",
    "                        d['srs'].coords['pressure'].values,\n",
    "                        color=d['color'], alpha=.7)\n",
    "            rd.append(r_mark)\n",
    "        r_line = p2.line(d['srs'].values, \n",
    "                    d['srs'].coords['pressure'].values,\n",
    "                    color=d['color'], alpha=d['alpha'], \n",
    "                    line_width=d['line_width'], line_dash=d['line_dash'])\n",
    "        rd.append(r_line)\n",
    "      \n",
    "        rs.append(rd)\n",
    "        \n",
    "    p2.y_range = Range1d(ymax, ymin)  \n",
    "    p2.yaxis.axis_label = 'pressure [mb]'\n",
    "    \n",
    "    p2.x_range = Range1d(xmin, xmax)\n",
    "    p2.xaxis.axis_label = 'cooling rate [K/day]'\n",
    "    \n",
    "    items = [(d['label'], r) for r, d in zip(rs, pltdata)]\n",
    "    legend = Legend(items=items, location=(10, -30))\n",
    "    legend.label_text_font_size = '8pt'\n",
    "    \n",
    "    p2.add_layout(legend, 'right')  \n",
    "    \n",
    "    show(gridplot(p1, p2, ncols=2, plot_height=500))\n",
    "    \n",
    "\n",
    "def script_plt_cooling():\n",
    "    pltdata = pltdata_cooling_1(\n",
    "        ds_cool=DS_COOL,\n",
    "        ds_cool_crd=DS_COOL_CRD,\n",
    "        ds_cool_wgt=DS_COOL_WGT)\n",
    "    plt_cooling_bokeh(pltdata=pltdata)\n",
    "    print('''FIGURE. Cooling rate profiles.''')"
   ]
  },
  {
   "cell_type": "code",
   "execution_count": 9,
   "metadata": {
    "collapsed": true
   },
   "outputs": [],
   "source": [
    "def fmt_flux(ds_in):\n",
    "    ds = ds_in.copy(deep=True)\n",
    "    \n",
    "    for l in ('level', 'layer'):\n",
    "        if l in ds.data_vars:\n",
    "            if len(ds[l].dims) > 1:\n",
    "                surface = {d: 0 for d in ds.dims if d != 'pressure'}\n",
    "                coord_level = ds[l][surface]\n",
    "                ds.coords[l] = ('pressure', coord_level)\n",
    "            else:\n",
    "                ds.coords[l] = ('pressure', ds[l])\n",
    "        \n",
    "    ds = ds.isel(pressure=[0, 23, -1])\n",
    "        \n",
    "    if 'igg' in ds.dims:\n",
    "        ds = ds.sel(igg=[1])\n",
    "        ds = ds.squeeze('igg').drop('igg')\n",
    "    \n",
    "    if 'g' in ds.dims:\n",
    "        ds = ds.sum('g')\n",
    "            \n",
    "    if 'band' in ds.dims:\n",
    "        try:\n",
    "            ds = ds.squeeze('band').drop('band')\n",
    "        except ValueError:\n",
    "            ds = ds.sum('band')\n",
    "                \n",
    "    df = ds.to_dataframe()\n",
    "    df = df.set_index('level', append=True)               \n",
    "    return df\n",
    "\n",
    "\n",
    "def tbdata_flux(ds_flux=None, ds_flux_crd=None, ds_flux_wgt=None):\n",
    "    ilevels = [0, 23, -1]\n",
    "            \n",
    "    benchmark = {'label': 'WGT igg=10 wgt_flux=1',\n",
    "                 'df': fmt_flux(ds_flux_wgt)}\n",
    "    \n",
    "    tbs = [{'label': 'CRD',\n",
    "            'df': fmt_flux(ds_flux_crd)},\n",
    "           {'label': 'CLIRAD',\n",
    "            'df': fmt_flux(ds_flux)}]\n",
    "    \n",
    "    data = {'benchmark': benchmark, 'others': tbs}\n",
    "    return data\n",
    "\n",
    "\n",
    "def tb_flux(tbdata=None):\n",
    "    benchmark = tbdata['benchmark']\n",
    "    others = tbdata['others']\n",
    "    \n",
    "    def show_tb(d=None):\n",
    "        display.display(d['df'])\n",
    "        print('Table.', 'Fluxes.', d['label'])\n",
    "        \n",
    "    def show_tbdiff(d0=None, d=None):\n",
    "        df = d['df']\n",
    "        df.index = d0['df'].index\n",
    "        display.display(df - d0['df'])\n",
    "        print('Table.', 'Fluxes.', \n",
    "              '({}) - ({})'.format(d['label'], d0['label']))\n",
    "        \n",
    "    show_tb(benchmark)\n",
    "    for d in others:\n",
    "        show_tb(d)\n",
    "        \n",
    "    for d in others:\n",
    "        show_tbdiff(d=d, d0=benchmark)\n",
    "        \n",
    "        \n",
    "def script_tb_flux():\n",
    "    data = tbdata_flux(ds_flux=DS_FLUX,\n",
    "                       ds_flux_crd=DS_FLUX_CRD,\n",
    "                       ds_flux_wgt=DS_FLUX_WGT)\n",
    "    tb_flux(tbdata=data)"
   ]
  },
  {
   "cell_type": "code",
   "execution_count": 10,
   "metadata": {
    "collapsed": true
   },
   "outputs": [],
   "source": [
    "def band_map():\n",
    "    '''\n",
    "    Maps spectral bands in lblnew to spectral bands in clirad.\n",
    "    '''\n",
    "    lblnew2clirad = {'1': '1',\n",
    "            '2': '2',\n",
    "            '3a': '3',\n",
    "            '3b': '4',\n",
    "            '3c': '5',\n",
    "            '4': '6', \n",
    "            '5': '7',\n",
    "            '6': '8',\n",
    "            '7': '9', \n",
    "            '8': '10',\n",
    "            '9': '11'}\n",
    "    \n",
    "    clirad2lblnew = {clirad: lblnew \n",
    "                     for lblnew, clirad in lblnew2clirad.items()}\n",
    "    return clirad2lblnew\n",
    "\n",
    "\n",
    "def gasbands():\n",
    "    bmap = band_map()\n",
    "    gases = list(PARAM['molecule'].keys())\n",
    "    \n",
    "    bands = [bmap[str(b)] for b in PARAM['band']]\n",
    "    return list(itertools.product(gases, bands))\n",
    "\n",
    "\n",
    "def print_bestfit_params():\n",
    "    print('Best-fit values for each (gas, band)')\n",
    "    print('------------------------------------')\n",
    "    for gas, band in gasbands():\n",
    "        print('o {} band{}'.format(gas, band))\n",
    "        param = bestfits.kdist_params(molecule=gas, band=band)\n",
    "        for name, value in sorted(param.items()):\n",
    "            print(2 * ' ' + '{} = {}'.format(name, value))\n",
    "\n",
    "        \n",
    "def print_input_param():        \n",
    "    for name, value in PARAM.items():\n",
    "        print('{} = {}'.format(name, value))\n",
    "        \n",
    "        \n",
    "def print_lblnew_param():\n",
    "    for name, value in sorted(PARAM_LBLNEW.items()):\n",
    "        print('{} = {}'.format(name, value))\n"
   ]
  },
  {
   "cell_type": "code",
   "execution_count": 11,
   "metadata": {
    "collapsed": true,
    "scrolled": false
   },
   "outputs": [],
   "source": [
    "def show_html(s):\n",
    "    display.display(display.HTML(s))\n",
    "\n",
    "    \n",
    "def show_markdown(s):\n",
    "    display.display(display.Markdown(s))\n",
    "\n",
    "    \n",
    "def script():\n",
    "    \n",
    "    title = '### CLIRAD-LW'\n",
    "    s_input = 'Input Parameters'\n",
    "    s_lblnew_param = 'LBLNEW case compaired against'\n",
    "    s_bestfits = 'Best-fit Parameters'\n",
    "    s_plt_cooling = 'Cooling Rate Profiles'\n",
    "    s_tb_flux = 'Flux Comparison'\n",
    "    \n",
    "    # title\n",
    "    show_markdown('### CLIRAD-LW')\n",
    "    \n",
    "    # TOC\n",
    "    show_markdown('### Table of Contents')\n",
    "    show_html(climahtml.getHTML_hrefanchor(s_input))\n",
    "    show_html(climahtml.getHTML_hrefanchor(s_lblnew_param))\n",
    "    show_html(climahtml.getHTML_hrefanchor(s_plt_cooling))\n",
    "    show_html(climahtml.getHTML_hrefanchor(s_tb_flux))\n",
    "    show_html(climahtml.getHTML_hrefanchor(s_bestfits))\n",
    "    \n",
    "    # Input parameters\n",
    "    show_html(climahtml.getHTML_idanchor(s_input))\n",
    "    show_markdown(climahtml.getMarkdown_sectitle(s_input))\n",
    "    print_input_param()\n",
    "    \n",
    "    # LBLNEW parameters \n",
    "    show_html(climahtml.getHTML_idanchor(s_lblnew_param))\n",
    "    show_markdown(climahtml.getMarkdown_sectitle(s_lblnew_param))\n",
    "    print_lblnew_param()\n",
    "    \n",
    "    # Cooling rate profiles\n",
    "    show_html(climahtml.getHTML_idanchor(s_plt_cooling))\n",
    "    show_markdown(climahtml.getMarkdown_sectitle(s_plt_cooling))\n",
    "    script_plt_cooling()\n",
    "    \n",
    "    # Flux comparison\n",
    "    show_html(climahtml.getHTML_idanchor(s_tb_flux))\n",
    "    show_markdown(climahtml.getMarkdown_sectitle(s_tb_flux))\n",
    "    script_tb_flux()\n",
    "    \n",
    "    # Best-fit values\n",
    "    show_html(climahtml.getHTML_idanchor(s_bestfits))\n",
    "    show_markdown(climahtml.getMarkdown_sectitle(s_bestfits))\n",
    "    print_bestfit_params()\n",
    "   \n",
    "    "
   ]
  },
  {
   "cell_type": "code",
   "execution_count": 12,
   "metadata": {
    "collapsed": true,
    "scrolled": false
   },
   "outputs": [
    {
     "data": {
      "text/markdown": [
       "### CLIRAD-LW"
      ],
      "text/plain": [
       "<IPython.core.display.Markdown object>"
      ]
     },
     "metadata": {},
     "output_type": "display_data"
    },
    {
     "data": {
      "text/markdown": [
       "### Table of Contents"
      ],
      "text/plain": [
       "<IPython.core.display.Markdown object>"
      ]
     },
     "metadata": {},
     "output_type": "display_data"
    },
    {
     "data": {
      "text/html": [
       "<a href=\"#Input_Parameters\">Input Parameters</a>"
      ],
      "text/plain": [
       "<IPython.core.display.HTML object>"
      ]
     },
     "metadata": {},
     "output_type": "display_data"
    },
    {
     "data": {
      "text/html": [
       "<a href=\"#LBLNEW_case_compaired_against\">LBLNEW case compaired against</a>"
      ],
      "text/plain": [
       "<IPython.core.display.HTML object>"
      ]
     },
     "metadata": {},
     "output_type": "display_data"
    },
    {
     "data": {
      "text/html": [
       "<a href=\"#Cooling_Rate_Profiles\">Cooling Rate Profiles</a>"
      ],
      "text/plain": [
       "<IPython.core.display.HTML object>"
      ]
     },
     "metadata": {},
     "output_type": "display_data"
    },
    {
     "data": {
      "text/html": [
       "<a href=\"#Flux_Comparison\">Flux Comparison</a>"
      ],
      "text/plain": [
       "<IPython.core.display.HTML object>"
      ]
     },
     "metadata": {},
     "output_type": "display_data"
    },
    {
     "data": {
      "text/html": [
       "<a href=\"#Best-fit_Parameters\">Best-fit Parameters</a>"
      ],
      "text/plain": [
       "<IPython.core.display.HTML object>"
      ]
     },
     "metadata": {},
     "output_type": "display_data"
    },
    {
     "data": {
      "text/html": [
       "<a id=\"Input_Parameters\"></a>"
      ],
      "text/plain": [
       "<IPython.core.display.HTML object>"
      ]
     },
     "metadata": {},
     "output_type": "display_data"
    },
    {
     "data": {
      "text/markdown": [
       "# Input Parameters"
      ],
      "text/plain": [
       "<IPython.core.display.Markdown object>"
      ]
     },
     "metadata": {},
     "output_type": "display_data"
    },
    {
     "name": "stdout",
     "output_type": "stream",
     "text": [
      "atmpro = saw\n",
      "band = [3]\n",
      "commitnumber = 9a64c27\n",
      "molecule = {'h2o': 'atmpro'}\n",
      "tsfc = 257\n"
     ]
    },
    {
     "data": {
      "text/html": [
       "<a id=\"LBLNEW_case_compaired_against\"></a>"
      ],
      "text/plain": [
       "<IPython.core.display.HTML object>"
      ]
     },
     "metadata": {},
     "output_type": "display_data"
    },
    {
     "data": {
      "text/markdown": [
       "# LBLNEW case compaired against"
      ],
      "text/plain": [
       "<IPython.core.display.Markdown object>"
      ]
     },
     "metadata": {},
     "output_type": "display_data"
    },
    {
     "name": "stdout",
     "output_type": "stream",
     "text": [
      "atmpro = saw\n",
      "band = 3a\n",
      "commitnumber = 2bd1f75\n",
      "conc = None\n",
      "dv = 0.01\n",
      "klin = 0\n",
      "molecule = h2o\n",
      "ng_adju = [0, 0]\n",
      "ng_refs = [2, 6]\n",
      "nv = 100\n",
      "option_compute_btable = 0\n",
      "option_compute_ktable = 0\n",
      "option_wgt_flux = 1\n",
      "option_wgt_k = 1\n",
      "ref_pts = [(10, 250), (600, 250)]\n",
      "tsfc = 257\n",
      "vmax = 620\n",
      "vmin = 540\n",
      "w_diffuse = [(1.9, 1.7), (1.4, 1.4, 1.4, 1.55, 1.6, 1.66)]\n",
      "wgt = [(0.7, 0.7), (0.7, 0.5, 0.5, 0.5, 0.5, 0.5)]\n"
     ]
    },
    {
     "data": {
      "text/html": [
       "<a id=\"Cooling_Rate_Profiles\"></a>"
      ],
      "text/plain": [
       "<IPython.core.display.HTML object>"
      ]
     },
     "metadata": {},
     "output_type": "display_data"
    },
    {
     "data": {
      "text/markdown": [
       "# Cooling Rate Profiles"
      ],
      "text/plain": [
       "<IPython.core.display.Markdown object>"
      ]
     },
     "metadata": {},
     "output_type": "display_data"
    },
    {
     "data": {
      "text/html": [
       "\n",
       "<div class=\"bk-root\">\n",
       "    <div class=\"bk-plotdiv\" id=\"9f2b3ea5-5175-465a-a895-378242fe3f72\"></div>\n",
       "</div>"
      ]
     },
     "metadata": {},
     "output_type": "display_data"
    },
    {
     "data": {
      "application/javascript": [
       "(function(root) {\n",
       "  function embed_document(root) {\n",
       "    \n",
       "  var docs_json = {\"e544c5f5-6467-4d1a-b617-2122c951226a\":{\"roots\":{\"references\":[{\"attributes\":{\"callback\":null,\"column_names\":[\"x\",\"y\"],\"data\":{\"x\":{\"__ndarray__\":\"AAAAAAAAAAAAAAAAAAAAAAAAAAAAAAAAfji63dqooD8AAAAAAAAAAAAAAAAAAAAAVUB+jyoliL8AAAAAAAAAAEkAzO8Ti4g/J5tjWkp/kT9UHJUIRdSVPzs9YkGQrXo/afLeYo+alD8Mu8wJCh6LP0gftp5o8ZQ/3Kdz3UWslD+ewunbhKaTP14cPONgDpc/5NnTeGPtlz/UrMQg1jmZP04g+T6thpo/IgmQ2w6RmT+Jr/DaF2OVPwlqwyQGyJA/IN3uNoY4ij+Ni4keD7WDP+o/bKMh7nw/hjBmonsjdT9J/QCiowdwP6bKYN79V2g/UVw3oAOdYT91NF5gtb5YP9hEsry1kFM/hdWze01qUz9YZKLmvuxUP7OY4cmqpFc/4AlNPKYBWj86r1MjckVbP2z3At2dyGI/lorcv/E2aD/KQ1V+KABuP+BMkH1+y3A/5QcfI8gccj8rRqlCVEFzP7DcsIBZR3Q/BaJXnmigdz9C6WX+U91/P/E2IFZAIIY/FP1Yw3Bukj8zM7wkkSeeP3KzHEFa/qU/OYTMw3mgrT+yLJM/6r+yP6TR4mHhcbY/buNo8da3uT9maekCRcm8PyC1aIUS+78/XN6g5nmqwT/ljf5dwEfDPznaimCQssQ/P8rCtsnRxT+xNXyHsqLGP0EtgtYuM8c/en1aA2OWxz/RTe65RNzHP6Xz4VmCDMg/NCloBxo7yD99GZSC0VnIP8375pvANsg/UDftteKTxz8/De+kSyDGPx0Bux51CcQ/ZJtMw43nwT8Oyofihsa/P7SOqiaIurs/\",\"dtype\":\"float64\",\"shape\":[75]},\"y\":{\"__ndarray__\":\"S/O/Q+51ND/430zAtpRIP2vylNV0PVE/QxsjCssuWD/TR4Z78fVgP+inNsRxymc/OuuBfZWvcD/u3TFA02d3P2d3VoBnaoA/CD5h5MAGhz/1pA8HUCaQP+zrCsc9p5Y/Fb7LAKjGnz/nJ9c/SEmmPwBD+fzcQq8/FOZwv9nstT8Er5Y7M8G+P0c+r3jqkcU/yK72qKZBzj+tM989FzjVPxbgmr8yxN0/cOm5AXbg5D+5ctXAf0jtP5kqGJXUifQ/DsrqDELP/D8MCAhBojQEQDItVnmnVwxAiFXNvdHgE0BSSZ2AJuIbQAMJih9jjiNA5q4l5INuK0CPVN/5RT0zQHzxRXu8/DpAOZ7PgHrtQkAg8wGBzoxKQBSTN8DMeFJA2NmQf2ZqWEAAAAAAAFxeQEQX1LfMJmJAmpmZmZkfZUBmZmZmZhhoQLzoK0gzEWtAAAAAAAAKbkCiC+pbZoFwQAhyUMLM/XFA+I2vPTN6c0AQ5KCEmfZ0QAAAAAAAc3ZA8Btfe2bvd0AIclDCzGt5QPeNrz0z6HpAEOSghJlkfEAAAAAAAOF9QKML6ltmXX9ABTkoYeZsgED7xteeGSuBQAhyUMJM6YFAAAAAAICngkD4ja89s2WDQAU5KGHmI4RA+8bXnhnihEAIclDCTKCFQAAAAACAXoZA+I2vPbMch0AFOShh5tqHQPvG154ZmYhACHJQwkxXiUAAAAAAgBWKQPeNrz2z04pABTkoYeaRi0D7xteeGVCMQAlyUMJMDo1AAAAAAIDMjUD3ja89s4qOQGZmZmbmSI9A\",\"dtype\":\"float64\",\"shape\":[75]}}},\"id\":\"e6f63ffb-f878-467b-8f51-ff46108174ef\",\"type\":\"ColumnDataSource\"},{\"attributes\":{},\"id\":\"c0b31599-be1b-40f2-8e82-0b3a84d6e88e\",\"type\":\"BasicTickFormatter\"},{\"attributes\":{\"ticker\":null},\"id\":\"954631b6-e994-49ba-9005-bd598852b44f\",\"type\":\"LogTickFormatter\"},{\"attributes\":{\"source\":{\"id\":\"c57032d8-5ba2-490d-ab53-034a3553057d\",\"type\":\"ColumnDataSource\"}},\"id\":\"7c555e3a-83c2-4986-842a-e727f5c8a7d4\",\"type\":\"CDSView\"},{\"attributes\":{\"line_alpha\":0.6,\"line_color\":\"#e41a1c\",\"line_dash\":[6],\"line_width\":5,\"x\":{\"field\":\"x\"},\"y\":{\"field\":\"y\"}},\"id\":\"b58df08e-e39a-4164-9946-d219b974b830\",\"type\":\"Line\"},{\"attributes\":{\"line_alpha\":0.1,\"line_color\":\"#1f77b4\",\"line_dash\":[6],\"line_width\":5,\"x\":{\"field\":\"x\"},\"y\":{\"field\":\"y\"}},\"id\":\"59917848-61dc-45c7-9e1e-56c422cdaba9\",\"type\":\"Line\"},{\"attributes\":{},\"id\":\"ffe5cd9b-15b3-4802-82f8-56da83663b99\",\"type\":\"BasicTicker\"},{\"attributes\":{\"source\":{\"id\":\"73c44f0c-fa3f-4d73-8c4f-194e0573887b\",\"type\":\"ColumnDataSource\"}},\"id\":\"2ec21d55-8513-4b25-9a4e-e6384232cddd\",\"type\":\"CDSView\"},{\"attributes\":{\"callback\":null,\"column_names\":[\"x\",\"y\"],\"data\":{\"x\":{\"__ndarray__\":\"h5gn5D7KZD/C0OaZl3pnP+jOzWeScm0/1bWMEZYjcj8sbkZHHvp1P57i2aJjR3o/j5kOFK0Zfz8spxqElDuCPzfegENmNoU/q3tIHqaCiD+oQ35orB6MP6xisDZU+Y8/9eKlSn0hkj82jNbffxyUP7Qz/t04spU/ph14Yd0Llz90oyjNb2OYP32MkaM7s5k/zlHf42D3mj+Zmx799yycPxyCQ6WaJJ0/PBx2Qlz3mj8xvih0cEaVP2fYg6SqZI8/WFNFMI+uhj/r4qFspAWAP7FCTdHqFHY/WEUAezpTbz8IP2z+I4BoPxgVd8+IMWQ/ADcgxSaZYD9gmsRO6F1bP8h5YkritFk/o0KIMrMSXD+qzn2JHldfP1B/B1CdWGE/jD2chVuMYj9AQtVvNPViPwY1m4Zqg2k/NsuO2YXibz9STO0rYBlzPxsqahsEt3Q/OYhiouS9dT+HyQtZs492P2RmgynaPnc/yeoYRwzKej9dgercAjuCP/1AVEL5gIk/bjsU1cAulT/9ghoUhi6hPyzhSCFCvKg/UnUJM99UsD/WNZK4UkW0PzhYNZFkGbg/TwTUSAnJuz/bWz5Qdky/P+1xEaXeT8E/+fv/F1PZwj/w82O8ezrEP/IQ3+yDasU/SNMsEgtjxj8dJF2WIyLHPzs4dXFdqcc/1ClNUrL/xz+7BI6h7zDIP3FY2Nt/R8g//Zv+iR1PyD93/khs0kjIP8nVXROxDMg/ViZfffpXxz8XFljX09TFP2VX1g1GssM/HTY24JiKwT/KeGvLRgi/P7NceFa57bo/\",\"dtype\":\"float64\",\"shape\":[75]},\"y\":{\"__ndarray__\":\"GhExyth1ND/Sv8nbtpRIP2vylNV0PVE/aTum7souWD/At0SJ8fVgPw3Iuahxymc/MSNhhJWvcD/bTfBN02d3P2zb5nxnaoA/CD5h5MAGhz8NmeH1TyaQP+zrCsc9p5Y/LbKd76fGnz/bLW5ISEmmPww9YvTcQq8/JV2OstnstT8Er5Y7M8G+P0c+r3jqkcU/5h99k6ZBzj88bCIzFzjVP4enV8oyxN0//yH99nXg5D8qOpLLf0jtP5kqGJXUifQ/c9cS8kHP/D+/DpwzojQEQIEmwoanVwxA4lgXt9HgE0BSSZ2AJuIbQAMJih9jjiNA5q4l5INuK0AwTKYKRj0zQNv5fmq8/DpAaCJseHrtQkB/+zpwzoxKQM3MzMzMeFJAZmZmZmZqWEAAAAAAAFxeQM3MzMzMJmJAmpmZmZkfZUBmZmZmZhhoQDMzMzMzEWtAAAAAAAAKbkBmZmZmZoFwQM3MzMzM/XFAMzMzMzN6c0CamZmZmfZ0QAAAAAAAc3ZAZmZmZmbvd0DNzMzMzGt5QDMzMzMz6HpAmpmZmZlkfEAAAAAAAOF9QGZmZmZmXX9AZmZmZuZsgECamZmZGSuBQM3MzMxM6YFAAAAAAICngkAzMzMzs2WDQGZmZmbmI4RAmpmZmRnihEDNzMzMTKCFQAAAAACAXoZAMzMzM7Mch0BmZmZm5tqHQJqZmZkZmYhAzczMzExXiUAAAAAAgBWKQDMzMzOz04pAZmZmZuaRi0CamZmZGVCMQM3MzMxMDo1AAAAAAIDMjUAzMzMzs4qOQGZmZmbmSI9A\",\"dtype\":\"float64\",\"shape\":[75]}}},\"id\":\"955771cb-07e6-4265-9186-a30c12cde968\",\"type\":\"ColumnDataSource\"},{\"attributes\":{},\"id\":\"b36dcf01-3526-4ca5-ac1d-554324aca052\",\"type\":\"LogScale\"},{\"attributes\":{\"callback\":null,\"column_names\":[\"x\",\"y\"],\"data\":{\"x\":{\"__ndarray__\":\"VdYnLUnXZj9e0mihaiNpPyC6sld+Mm4/j4KhWKz3cT/DJyoCaCx1P16GbgcIv3g/d+Y4B6e3fD/KsNPPbpCAP0Kam6YHAIM/hEE/1ZOwhT8PT7hCv6eIP4GOj20064s/hOgQ8GR8jz+rFZacVXWRPz0LKzxWyZI/UehYhXYIlD8SmA0ji0iVPyF1Q2Q/mZY/6B+UO7nslz/XY9Ny2kuZP2Yk5gKZhpo/j9eLMvYjmT8klR0cn6eUP+5doquDAZA//tZiFTlciD+izPGdahuCP9UFZLisJHo/7OcbVlz6cj+BdDnu1wptP8J18JTymGY/S5TOWRIwYT/neyFwz/tZP8A+bMqO01Y/OqAqmoRpWD+Zt7v9Dn1bP4VWpSuNPl8/4vfj7CMqYT94zyA4eOxhPwp9rKRxl2g/f+WQMgpHbz/Epg/nwgBzP4g+hKhpznQ/fRi9lSH2dT9yc+93PNt2P0DYbNw5lXc/8o9Tbp0Qez8CaBWsQTyCP3EuYgyqUok/L7x4h0L4lD/Eva0nmf+gP1VWUkKdgag/BUejLfA2sD8DZU1heia0P9GFVukq27c/rBZid9REuz+p4b8i83m+PyABBnt70cA/eaHlqoVbwj/cKfWtzsjDP89P77jkAMU/qz/Zk6H4xT+IUs9oL6zGP4uc5dvwKcc/AfroAJV7xz+ZjfGHA6/HPwg2yQwZzcc/vMC4prffxz80XagAi+THP5DPs/Kossc/wwuj9Y8Ixz8KEXF8O5LFPyJ5y69mfcM/6EkJoZhhwT8HF4mt5cm+P2CelGOjyLo/\",\"dtype\":\"float64\",\"shape\":[75]},\"y\":{\"__ndarray__\":\"GhExyth1ND/Sv8nbtpRIP2vylNV0PVE/aTum7souWD/At0SJ8fVgPw3Iuahxymc/MSNhhJWvcD/bTfBN02d3P2zb5nxnaoA/CD5h5MAGhz8NmeH1TyaQP+zrCsc9p5Y/LbKd76fGnz/bLW5ISEmmPww9YvTcQq8/JV2OstnstT8Er5Y7M8G+P0c+r3jqkcU/5h99k6ZBzj88bCIzFzjVP4enV8oyxN0//yH99nXg5D8qOpLLf0jtP5kqGJXUifQ/c9cS8kHP/D+/DpwzojQEQIEmwoanVwxA4lgXt9HgE0BSSZ2AJuIbQAMJih9jjiNA5q4l5INuK0AwTKYKRj0zQNv5fmq8/DpAaCJseHrtQkB/+zpwzoxKQM3MzMzMeFJAZmZmZmZqWEAAAAAAAFxeQM3MzMzMJmJAmpmZmZkfZUBmZmZmZhhoQDMzMzMzEWtAAAAAAAAKbkBmZmZmZoFwQM3MzMzM/XFAMzMzMzN6c0CamZmZmfZ0QAAAAAAAc3ZAZmZmZmbvd0DNzMzMzGt5QDMzMzMz6HpAmpmZmZlkfEAAAAAAAOF9QGZmZmZmXX9AZmZmZuZsgECamZmZGSuBQM3MzMxM6YFAAAAAAICngkAzMzMzs2WDQGZmZmbmI4RAmpmZmRnihEDNzMzMTKCFQAAAAACAXoZAMzMzM7Mch0BmZmZm5tqHQJqZmZkZmYhAzczMzExXiUAAAAAAgBWKQDMzMzOz04pAZmZmZuaRi0CamZmZGVCMQM3MzMxMDo1AAAAAAIDMjUAzMzMzs4qOQGZmZmbmSI9A\",\"dtype\":\"float64\",\"shape\":[75]}}},\"id\":\"c3630742-97c6-42f0-ab95-b12ea4128f93\",\"type\":\"ColumnDataSource\"},{\"attributes\":{\"fill_alpha\":{\"value\":0.1},\"fill_color\":{\"value\":\"#1f77b4\"},\"line_alpha\":{\"value\":0.1},\"line_color\":{\"value\":\"#1f77b4\"},\"x\":{\"field\":\"x\"},\"y\":{\"field\":\"y\"}},\"id\":\"e7407d2c-71be-4c76-81fd-fdcc770ee220\",\"type\":\"Square\"},{\"attributes\":{\"callback\":null,\"column_names\":[\"x\",\"y\"],\"data\":{\"x\":{\"__ndarray__\":\"VdYnLUnXZj9e0mihaiNpPyC6sld+Mm4/j4KhWKz3cT/DJyoCaCx1P16GbgcIv3g/d+Y4B6e3fD/KsNPPbpCAP0Kam6YHAIM/hEE/1ZOwhT8PT7hCv6eIP4GOj20064s/hOgQ8GR8jz+rFZacVXWRPz0LKzxWyZI/UehYhXYIlD8SmA0ji0iVPyF1Q2Q/mZY/6B+UO7nslz/XY9Ny2kuZP2Yk5gKZhpo/j9eLMvYjmT8klR0cn6eUP+5doquDAZA//tZiFTlciD+izPGdahuCP9UFZLisJHo/7OcbVlz6cj+BdDnu1wptP8J18JTymGY/S5TOWRIwYT/neyFwz/tZP8A+bMqO01Y/OqAqmoRpWD+Zt7v9Dn1bP4VWpSuNPl8/4vfj7CMqYT94zyA4eOxhPwp9rKRxl2g/f+WQMgpHbz/Epg/nwgBzP4g+hKhpznQ/fRi9lSH2dT9yc+93PNt2P0DYbNw5lXc/8o9Tbp0Qez8CaBWsQTyCP3EuYgyqUok/L7x4h0L4lD/Eva0nmf+gP1VWUkKdgag/BUejLfA2sD8DZU1heia0P9GFVukq27c/rBZid9REuz+p4b8i83m+PyABBnt70cA/eaHlqoVbwj/cKfWtzsjDP89P77jkAMU/qz/Zk6H4xT+IUs9oL6zGP4uc5dvwKcc/AfroAJV7xz+ZjfGHA6/HPwg2yQwZzcc/vMC4prffxz80XagAi+THP5DPs/Kossc/wwuj9Y8Ixz8KEXF8O5LFPyJ5y69mfcM/6EkJoZhhwT8HF4mt5cm+P2CelGOjyLo/\",\"dtype\":\"float64\",\"shape\":[75]},\"y\":{\"__ndarray__\":\"GhExyth1ND/Sv8nbtpRIP2vylNV0PVE/aTum7souWD/At0SJ8fVgPw3Iuahxymc/MSNhhJWvcD/bTfBN02d3P2zb5nxnaoA/CD5h5MAGhz8NmeH1TyaQP+zrCsc9p5Y/LbKd76fGnz/bLW5ISEmmPww9YvTcQq8/JV2OstnstT8Er5Y7M8G+P0c+r3jqkcU/5h99k6ZBzj88bCIzFzjVP4enV8oyxN0//yH99nXg5D8qOpLLf0jtP5kqGJXUifQ/c9cS8kHP/D+/DpwzojQEQIEmwoanVwxA4lgXt9HgE0BSSZ2AJuIbQAMJih9jjiNA5q4l5INuK0AwTKYKRj0zQNv5fmq8/DpAaCJseHrtQkB/+zpwzoxKQM3MzMzMeFJAZmZmZmZqWEAAAAAAAFxeQM3MzMzMJmJAmpmZmZkfZUBmZmZmZhhoQDMzMzMzEWtAAAAAAAAKbkBmZmZmZoFwQM3MzMzM/XFAMzMzMzN6c0CamZmZmfZ0QAAAAAAAc3ZAZmZmZmbvd0DNzMzMzGt5QDMzMzMz6HpAmpmZmZlkfEAAAAAAAOF9QGZmZmZmXX9AZmZmZuZsgECamZmZGSuBQM3MzMxM6YFAAAAAAICngkAzMzMzs2WDQGZmZmbmI4RAmpmZmRnihEDNzMzMTKCFQAAAAACAXoZAMzMzM7Mch0BmZmZm5tqHQJqZmZkZmYhAzczMzExXiUAAAAAAgBWKQDMzMzOz04pAZmZmZuaRi0CamZmZGVCMQM3MzMxMDo1AAAAAAIDMjUAzMzMzs4qOQGZmZmbmSI9A\",\"dtype\":\"float64\",\"shape\":[75]}}},\"id\":\"77d3a5b6-ed3c-41b0-b9a1-e159e3eb7147\",\"type\":\"ColumnDataSource\"},{\"attributes\":{\"label\":{\"value\":\"CRD\"},\"renderers\":[{\"id\":\"1da3c6fb-35c4-4d39-9a90-a65d804168c1\",\"type\":\"GlyphRenderer\"},{\"id\":\"b44bea7e-d3a8-4480-b90f-53363f5b3c82\",\"type\":\"GlyphRenderer\"}]},\"id\":\"804320b4-ea8d-431f-9431-d51473e095a3\",\"type\":\"LegendItem\"},{\"attributes\":{},\"id\":\"76d2e725-06a1-4ba5-8c71-0f30e23c0ecd\",\"type\":\"SaveTool\"},{\"attributes\":{\"data_source\":{\"id\":\"0bc284ef-3a0f-4dc9-8e18-5cb1bdea5525\",\"type\":\"ColumnDataSource\"},\"glyph\":{\"id\":\"e6635b41-921a-4f60-9784-ed26a0a6b7e8\",\"type\":\"Circle\"},\"hover_glyph\":null,\"muted_glyph\":null,\"nonselection_glyph\":{\"id\":\"2687043e-5c8c-4498-a625-32a4e2b48787\",\"type\":\"Circle\"},\"selection_glyph\":null,\"view\":{\"id\":\"e929b111-ddd2-422c-9d7c-881b10e7620d\",\"type\":\"CDSView\"}},\"id\":\"1da3c6fb-35c4-4d39-9a90-a65d804168c1\",\"type\":\"GlyphRenderer\"},{\"attributes\":{\"fill_alpha\":{\"value\":0.1},\"fill_color\":{\"value\":\"#1f77b4\"},\"line_alpha\":{\"value\":0.1},\"line_color\":{\"value\":\"#1f77b4\"},\"x\":{\"field\":\"x\"},\"y\":{\"field\":\"y\"}},\"id\":\"2687043e-5c8c-4498-a625-32a4e2b48787\",\"type\":\"Circle\"},{\"attributes\":{\"callback\":null,\"column_names\":[\"x\",\"y\"],\"data\":{\"x\":{\"__ndarray__\":\"VdYnLUnXZj9e0mihaiNpPyC6sld+Mm4/j4KhWKz3cT/DJyoCaCx1P16GbgcIv3g/d+Y4B6e3fD/KsNPPbpCAP0Kam6YHAIM/hEE/1ZOwhT8PT7hCv6eIP4GOj20064s/hOgQ8GR8jz+rFZacVXWRPz0LKzxWyZI/UehYhXYIlD8SmA0ji0iVPyF1Q2Q/mZY/6B+UO7nslz/XY9Ny2kuZP2Yk5gKZhpo/j9eLMvYjmT8klR0cn6eUP+5doquDAZA//tZiFTlciD+izPGdahuCP9UFZLisJHo/7OcbVlz6cj+BdDnu1wptP8J18JTymGY/S5TOWRIwYT/neyFwz/tZP8A+bMqO01Y/OqAqmoRpWD+Zt7v9Dn1bP4VWpSuNPl8/4vfj7CMqYT94zyA4eOxhPwp9rKRxl2g/f+WQMgpHbz/Epg/nwgBzP4g+hKhpznQ/fRi9lSH2dT9yc+93PNt2P0DYbNw5lXc/8o9Tbp0Qez8CaBWsQTyCP3EuYgyqUok/L7x4h0L4lD/Eva0nmf+gP1VWUkKdgag/BUejLfA2sD8DZU1heia0P9GFVukq27c/rBZid9REuz+p4b8i83m+PyABBnt70cA/eaHlqoVbwj/cKfWtzsjDP89P77jkAMU/qz/Zk6H4xT+IUs9oL6zGP4uc5dvwKcc/AfroAJV7xz+ZjfGHA6/HPwg2yQwZzcc/vMC4prffxz80XagAi+THP5DPs/Kossc/wwuj9Y8Ixz8KEXF8O5LFPyJ5y69mfcM/6EkJoZhhwT8HF4mt5cm+P2CelGOjyLo/\",\"dtype\":\"float64\",\"shape\":[75]},\"y\":{\"__ndarray__\":\"GhExyth1ND/Sv8nbtpRIP2vylNV0PVE/aTum7souWD/At0SJ8fVgPw3Iuahxymc/MSNhhJWvcD/bTfBN02d3P2zb5nxnaoA/CD5h5MAGhz8NmeH1TyaQP+zrCsc9p5Y/LbKd76fGnz/bLW5ISEmmPww9YvTcQq8/JV2OstnstT8Er5Y7M8G+P0c+r3jqkcU/5h99k6ZBzj88bCIzFzjVP4enV8oyxN0//yH99nXg5D8qOpLLf0jtP5kqGJXUifQ/c9cS8kHP/D+/DpwzojQEQIEmwoanVwxA4lgXt9HgE0BSSZ2AJuIbQAMJih9jjiNA5q4l5INuK0AwTKYKRj0zQNv5fmq8/DpAaCJseHrtQkB/+zpwzoxKQM3MzMzMeFJAZmZmZmZqWEAAAAAAAFxeQM3MzMzMJmJAmpmZmZkfZUBmZmZmZhhoQDMzMzMzEWtAAAAAAAAKbkBmZmZmZoFwQM3MzMzM/XFAMzMzMzN6c0CamZmZmfZ0QAAAAAAAc3ZAZmZmZmbvd0DNzMzMzGt5QDMzMzMz6HpAmpmZmZlkfEAAAAAAAOF9QGZmZmZmXX9AZmZmZuZsgECamZmZGSuBQM3MzMxM6YFAAAAAAICngkAzMzMzs2WDQGZmZmbmI4RAmpmZmRnihEDNzMzMTKCFQAAAAACAXoZAMzMzM7Mch0BmZmZm5tqHQJqZmZkZmYhAzczMzExXiUAAAAAAgBWKQDMzMzOz04pAZmZmZuaRi0CamZmZGVCMQM3MzMxMDo1AAAAAAIDMjUAzMzMzs4qOQGZmZmbmSI9A\",\"dtype\":\"float64\",\"shape\":[75]}}},\"id\":\"2255d4e9-2c82-4e08-b437-c0586b2db03d\",\"type\":\"ColumnDataSource\"},{\"attributes\":{\"callback\":null,\"column_names\":[\"x\",\"y\"],\"data\":{\"x\":{\"__ndarray__\":\"VdYnLUnXZj9e0mihaiNpPyC6sld+Mm4/j4KhWKz3cT/DJyoCaCx1P16GbgcIv3g/d+Y4B6e3fD/KsNPPbpCAP0Kam6YHAIM/hEE/1ZOwhT8PT7hCv6eIP4GOj20064s/hOgQ8GR8jz+rFZacVXWRPz0LKzxWyZI/UehYhXYIlD8SmA0ji0iVPyF1Q2Q/mZY/6B+UO7nslz/XY9Ny2kuZP2Yk5gKZhpo/j9eLMvYjmT8klR0cn6eUP+5doquDAZA//tZiFTlciD+izPGdahuCP9UFZLisJHo/7OcbVlz6cj+BdDnu1wptP8J18JTymGY/S5TOWRIwYT/neyFwz/tZP8A+bMqO01Y/OqAqmoRpWD+Zt7v9Dn1bP4VWpSuNPl8/4vfj7CMqYT94zyA4eOxhPwp9rKRxl2g/f+WQMgpHbz/Epg/nwgBzP4g+hKhpznQ/fRi9lSH2dT9yc+93PNt2P0DYbNw5lXc/8o9Tbp0Qez8CaBWsQTyCP3EuYgyqUok/L7x4h0L4lD/Eva0nmf+gP1VWUkKdgag/BUejLfA2sD8DZU1heia0P9GFVukq27c/rBZid9REuz+p4b8i83m+PyABBnt70cA/eaHlqoVbwj/cKfWtzsjDP89P77jkAMU/qz/Zk6H4xT+IUs9oL6zGP4uc5dvwKcc/AfroAJV7xz+ZjfGHA6/HPwg2yQwZzcc/vMC4prffxz80XagAi+THP5DPs/Kossc/wwuj9Y8Ixz8KEXF8O5LFPyJ5y69mfcM/6EkJoZhhwT8HF4mt5cm+P2CelGOjyLo/\",\"dtype\":\"float64\",\"shape\":[75]},\"y\":{\"__ndarray__\":\"GhExyth1ND/Sv8nbtpRIP2vylNV0PVE/aTum7souWD/At0SJ8fVgPw3Iuahxymc/MSNhhJWvcD/bTfBN02d3P2zb5nxnaoA/CD5h5MAGhz8NmeH1TyaQP+zrCsc9p5Y/LbKd76fGnz/bLW5ISEmmPww9YvTcQq8/JV2OstnstT8Er5Y7M8G+P0c+r3jqkcU/5h99k6ZBzj88bCIzFzjVP4enV8oyxN0//yH99nXg5D8qOpLLf0jtP5kqGJXUifQ/c9cS8kHP/D+/DpwzojQEQIEmwoanVwxA4lgXt9HgE0BSSZ2AJuIbQAMJih9jjiNA5q4l5INuK0AwTKYKRj0zQNv5fmq8/DpAaCJseHrtQkB/+zpwzoxKQM3MzMzMeFJAZmZmZmZqWEAAAAAAAFxeQM3MzMzMJmJAmpmZmZkfZUBmZmZmZhhoQDMzMzMzEWtAAAAAAAAKbkBmZmZmZoFwQM3MzMzM/XFAMzMzMzN6c0CamZmZmfZ0QAAAAAAAc3ZAZmZmZmbvd0DNzMzMzGt5QDMzMzMz6HpAmpmZmZlkfEAAAAAAAOF9QGZmZmZmXX9AZmZmZuZsgECamZmZGSuBQM3MzMxM6YFAAAAAAICngkAzMzMzs2WDQGZmZmbmI4RAmpmZmRnihEDNzMzMTKCFQAAAAACAXoZAMzMzM7Mch0BmZmZm5tqHQJqZmZkZmYhAzczMzExXiUAAAAAAgBWKQDMzMzOz04pAZmZmZuaRi0CamZmZGVCMQM3MzMxMDo1AAAAAAIDMjUAzMzMzs4qOQGZmZmbmSI9A\",\"dtype\":\"float64\",\"shape\":[75]}}},\"id\":\"73c44f0c-fa3f-4d73-8c4f-194e0573887b\",\"type\":\"ColumnDataSource\"},{\"attributes\":{\"fill_alpha\":{\"value\":0.7},\"fill_color\":{\"value\":\"#4daf4a\"},\"line_alpha\":{\"value\":0.7},\"line_color\":{\"value\":\"#4daf4a\"},\"x\":{\"field\":\"x\"},\"y\":{\"field\":\"y\"}},\"id\":\"e6635b41-921a-4f60-9784-ed26a0a6b7e8\",\"type\":\"Circle\"},{\"attributes\":{\"callback\":null,\"end\":0.01,\"start\":1020},\"id\":\"e2de77c3-232b-45ab-b624-62ed1051e4e9\",\"type\":\"Range1d\"},{\"attributes\":{\"callback\":null,\"column_names\":[\"x\",\"y\"],\"data\":{\"x\":{\"__ndarray__\":\"h5gn5D7KZD/C0OaZl3pnP+jOzWeScm0/1bWMEZYjcj8sbkZHHvp1P57i2aJjR3o/j5kOFK0Zfz8spxqElDuCPzfegENmNoU/q3tIHqaCiD+oQ35orB6MP6xisDZU+Y8/9eKlSn0hkj82jNbffxyUP7Qz/t04spU/ph14Yd0Llz90oyjNb2OYP32MkaM7s5k/zlHf42D3mj+Zmx799yycPxyCQ6WaJJ0/PBx2Qlz3mj8xvih0cEaVP2fYg6SqZI8/WFNFMI+uhj/r4qFspAWAP7FCTdHqFHY/WEUAezpTbz8IP2z+I4BoPxgVd8+IMWQ/ADcgxSaZYD9gmsRO6F1bP8h5YkritFk/o0KIMrMSXD+qzn2JHldfP1B/B1CdWGE/jD2chVuMYj9AQtVvNPViPwY1m4Zqg2k/NsuO2YXibz9STO0rYBlzPxsqahsEt3Q/OYhiouS9dT+HyQtZs492P2RmgynaPnc/yeoYRwzKej9dgercAjuCP/1AVEL5gIk/bjsU1cAulT/9ghoUhi6hPyzhSCFCvKg/UnUJM99UsD/WNZK4UkW0PzhYNZFkGbg/TwTUSAnJuz/bWz5Qdky/P+1xEaXeT8E/+fv/F1PZwj/w82O8ezrEP/IQ3+yDasU/SNMsEgtjxj8dJF2WIyLHPzs4dXFdqcc/1ClNUrL/xz+7BI6h7zDIP3FY2Nt/R8g//Zv+iR1PyD93/khs0kjIP8nVXROxDMg/ViZfffpXxz8XFljX09TFP2VX1g1GssM/HTY24JiKwT/KeGvLRgi/P7NceFa57bo/\",\"dtype\":\"float64\",\"shape\":[75]},\"y\":{\"__ndarray__\":\"GhExyth1ND/Sv8nbtpRIP2vylNV0PVE/aTum7souWD/At0SJ8fVgPw3Iuahxymc/MSNhhJWvcD/bTfBN02d3P2zb5nxnaoA/CD5h5MAGhz8NmeH1TyaQP+zrCsc9p5Y/LbKd76fGnz/bLW5ISEmmPww9YvTcQq8/JV2OstnstT8Er5Y7M8G+P0c+r3jqkcU/5h99k6ZBzj88bCIzFzjVP4enV8oyxN0//yH99nXg5D8qOpLLf0jtP5kqGJXUifQ/c9cS8kHP/D+/DpwzojQEQIEmwoanVwxA4lgXt9HgE0BSSZ2AJuIbQAMJih9jjiNA5q4l5INuK0AwTKYKRj0zQNv5fmq8/DpAaCJseHrtQkB/+zpwzoxKQM3MzMzMeFJAZmZmZmZqWEAAAAAAAFxeQM3MzMzMJmJAmpmZmZkfZUBmZmZmZhhoQDMzMzMzEWtAAAAAAAAKbkBmZmZmZoFwQM3MzMzM/XFAMzMzMzN6c0CamZmZmfZ0QAAAAAAAc3ZAZmZmZmbvd0DNzMzMzGt5QDMzMzMz6HpAmpmZmZlkfEAAAAAAAOF9QGZmZmZmXX9AZmZmZuZsgECamZmZGSuBQM3MzMxM6YFAAAAAAICngkAzMzMzs2WDQGZmZmbmI4RAmpmZmRnihEDNzMzMTKCFQAAAAACAXoZAMzMzM7Mch0BmZmZm5tqHQJqZmZkZmYhAzczMzExXiUAAAAAAgBWKQDMzMzOz04pAZmZmZuaRi0CamZmZGVCMQM3MzMxMDo1AAAAAAIDMjUAzMzMzs4qOQGZmZmbmSI9A\",\"dtype\":\"float64\",\"shape\":[75]}}},\"id\":\"0bc284ef-3a0f-4dc9-8e18-5cb1bdea5525\",\"type\":\"ColumnDataSource\"},{\"attributes\":{\"source\":{\"id\":\"0bc284ef-3a0f-4dc9-8e18-5cb1bdea5525\",\"type\":\"ColumnDataSource\"}},\"id\":\"e929b111-ddd2-422c-9d7c-881b10e7620d\",\"type\":\"CDSView\"},{\"attributes\":{\"label\":{\"value\":\"WGT igg=10 wgt_flux=2\"},\"renderers\":[{\"id\":\"71507df4-41bc-403c-af7d-71fb93b5cace\",\"type\":\"GlyphRenderer\"},{\"id\":\"0aeeef8e-9194-4190-bdf8-e5ab4ad24b1f\",\"type\":\"GlyphRenderer\"}]},\"id\":\"77a1501c-0a5c-48b0-a595-0980d5fe99d8\",\"type\":\"LegendItem\"},{\"attributes\":{},\"id\":\"57b3d361-d0c3-4d9b-98f0-74b370d2ba94\",\"type\":\"BasicTickFormatter\"},{\"attributes\":{\"line_color\":\"#4daf4a\",\"line_width\":1.5,\"x\":{\"field\":\"x\"},\"y\":{\"field\":\"y\"}},\"id\":\"61cc3f7f-4e9b-4291-894f-38570df2f93a\",\"type\":\"Line\"},{\"attributes\":{},\"id\":\"ce2c8630-79d8-4529-810f-316bf148ed01\",\"type\":\"LinearScale\"},{\"attributes\":{\"source\":{\"id\":\"85d3cefb-8909-43c5-8f80-2e42b47605bc\",\"type\":\"ColumnDataSource\"}},\"id\":\"dacd2fe8-b94f-4e07-b81d-b4745d83e5be\",\"type\":\"CDSView\"},{\"attributes\":{\"line_alpha\":0.1,\"line_color\":\"#1f77b4\",\"line_width\":1.5,\"x\":{\"field\":\"x\"},\"y\":{\"field\":\"y\"}},\"id\":\"328883d8-99b8-4fc4-88b9-f6c334280b4d\",\"type\":\"Line\"},{\"attributes\":{\"fill_alpha\":{\"value\":0.1},\"fill_color\":{\"value\":\"#1f77b4\"},\"line_alpha\":{\"value\":0.1},\"line_color\":{\"value\":\"#1f77b4\"},\"x\":{\"field\":\"x\"},\"y\":{\"field\":\"y\"}},\"id\":\"a89b6d1c-8198-4df3-984c-294546a30627\",\"type\":\"Square\"},{\"attributes\":{\"data_source\":{\"id\":\"955771cb-07e6-4265-9186-a30c12cde968\",\"type\":\"ColumnDataSource\"},\"glyph\":{\"id\":\"61cc3f7f-4e9b-4291-894f-38570df2f93a\",\"type\":\"Line\"},\"hover_glyph\":null,\"muted_glyph\":null,\"nonselection_glyph\":{\"id\":\"328883d8-99b8-4fc4-88b9-f6c334280b4d\",\"type\":\"Line\"},\"selection_glyph\":null,\"view\":{\"id\":\"3dbaf8f1-236f-44b4-9c7e-aaa756cceecc\",\"type\":\"CDSView\"}},\"id\":\"b44bea7e-d3a8-4480-b90f-53363f5b3c82\",\"type\":\"GlyphRenderer\"},{\"attributes\":{\"source\":{\"id\":\"955771cb-07e6-4265-9186-a30c12cde968\",\"type\":\"ColumnDataSource\"}},\"id\":\"3dbaf8f1-236f-44b4-9c7e-aaa756cceecc\",\"type\":\"CDSView\"},{\"attributes\":{\"fill_alpha\":{\"value\":0.7},\"fill_color\":{\"value\":\"#984ea3\"},\"line_alpha\":{\"value\":0.7},\"line_color\":{\"value\":\"#984ea3\"},\"x\":{\"field\":\"x\"},\"y\":{\"field\":\"y\"}},\"id\":\"55b6d87a-aa09-45e2-9c88-26a252d8fb9a\",\"type\":\"Square\"},{\"attributes\":{\"callback\":null,\"end\":0.028732695335,\"start\":0.000912263165},\"id\":\"eb88e58d-4602-4766-8b51-f81a98429bd5\",\"type\":\"Range1d\"},{\"attributes\":{\"below\":[{\"id\":\"b3cda38f-3e5e-4381-a27f-6f569531b82d\",\"type\":\"LinearAxis\"}],\"left\":[{\"id\":\"e8606f2e-32d2-4035-b6c2-d652cb9c88f8\",\"type\":\"LogAxis\"}],\"plot_height\":500,\"plot_width\":560,\"renderers\":[{\"id\":\"b3cda38f-3e5e-4381-a27f-6f569531b82d\",\"type\":\"LinearAxis\"},{\"id\":\"129b0755-dbf5-4c3e-8d1b-3b11ac1ac392\",\"type\":\"Grid\"},{\"id\":\"e8606f2e-32d2-4035-b6c2-d652cb9c88f8\",\"type\":\"LogAxis\"},{\"id\":\"51618465-f3a5-4d0f-9d11-4e8d5986996f\",\"type\":\"Grid\"},{\"id\":\"4350b546-73db-494e-ad2b-134517ab6ae9\",\"type\":\"BoxAnnotation\"},{\"id\":\"12b6cff0-3d37-44fd-883c-ed01fd3add49\",\"type\":\"GlyphRenderer\"},{\"id\":\"1da3c6fb-35c4-4d39-9a90-a65d804168c1\",\"type\":\"GlyphRenderer\"},{\"id\":\"b44bea7e-d3a8-4480-b90f-53363f5b3c82\",\"type\":\"GlyphRenderer\"},{\"id\":\"71507df4-41bc-403c-af7d-71fb93b5cace\",\"type\":\"GlyphRenderer\"},{\"id\":\"0aeeef8e-9194-4190-bdf8-e5ab4ad24b1f\",\"type\":\"GlyphRenderer\"},{\"id\":\"9af53ea2-4950-4bfc-bc3f-7d2e0ec61e02\",\"type\":\"Legend\"}],\"right\":[{\"id\":\"9af53ea2-4950-4bfc-bc3f-7d2e0ec61e02\",\"type\":\"Legend\"}],\"title\":{\"id\":\"eb9567dd-b792-4274-877d-a2438ed719a9\",\"type\":\"Title\"},\"toolbar\":{\"id\":\"1de9dcd3-5abf-4dde-ab3d-63686edc12ce\",\"type\":\"Toolbar\"},\"toolbar_location\":null,\"x_range\":{\"id\":\"eb88e58d-4602-4766-8b51-f81a98429bd5\",\"type\":\"Range1d\"},\"x_scale\":{\"id\":\"ce2c8630-79d8-4529-810f-316bf148ed01\",\"type\":\"LinearScale\"},\"y_range\":{\"id\":\"e2de77c3-232b-45ab-b624-62ed1051e4e9\",\"type\":\"Range1d\"},\"y_scale\":{\"id\":\"b36dcf01-3526-4ca5-ac1d-554324aca052\",\"type\":\"LogScale\"}},\"id\":\"6ad6f053-bbf7-4d97-b67f-fe13b0621ca1\",\"subtype\":\"Figure\",\"type\":\"Plot\"},{\"attributes\":{\"data_source\":{\"id\":\"c3630742-97c6-42f0-ab95-b12ea4128f93\",\"type\":\"ColumnDataSource\"},\"glyph\":{\"id\":\"55b6d87a-aa09-45e2-9c88-26a252d8fb9a\",\"type\":\"Square\"},\"hover_glyph\":null,\"muted_glyph\":null,\"nonselection_glyph\":{\"id\":\"a89b6d1c-8198-4df3-984c-294546a30627\",\"type\":\"Square\"},\"selection_glyph\":null,\"view\":{\"id\":\"3ec15598-3123-4156-89b5-51199c0b89c1\",\"type\":\"CDSView\"}},\"id\":\"71507df4-41bc-403c-af7d-71fb93b5cace\",\"type\":\"GlyphRenderer\"},{\"attributes\":{\"line_alpha\":0.1,\"line_color\":\"#1f77b4\",\"line_dash\":[6],\"line_width\":5,\"x\":{\"field\":\"x\"},\"y\":{\"field\":\"y\"}},\"id\":\"002fe268-097f-4f14-b431-996f5048dc89\",\"type\":\"Line\"},{\"attributes\":{\"line_alpha\":0.1,\"line_color\":\"#1f77b4\",\"line_width\":3,\"x\":{\"field\":\"x\"},\"y\":{\"field\":\"y\"}},\"id\":\"0ee82dd2-1fa2-4a24-884f-eead3a4598af\",\"type\":\"Line\"},{\"attributes\":{\"source\":{\"id\":\"c3630742-97c6-42f0-ab95-b12ea4128f93\",\"type\":\"ColumnDataSource\"}},\"id\":\"3ec15598-3123-4156-89b5-51199c0b89c1\",\"type\":\"CDSView\"},{\"attributes\":{\"line_alpha\":0.6,\"line_color\":\"#984ea3\",\"line_width\":3,\"x\":{\"field\":\"x\"},\"y\":{\"field\":\"y\"}},\"id\":\"d8bdcb95-e34d-47dd-997e-743e60317109\",\"type\":\"Line\"},{\"attributes\":{\"children\":[{\"id\":\"512e5eef-8566-4a55-b4da-056f12ea65e2\",\"type\":\"ToolbarBox\"},{\"id\":\"c9128143-9dd2-4249-a291-1fbd44f5ee08\",\"type\":\"Column\"}]},\"id\":\"8e285136-31f7-479c-b6ed-ba8fc6c7a6f2\",\"type\":\"Column\"},{\"attributes\":{},\"id\":\"4b003abb-c16e-486e-9af9-c64b3330fa50\",\"type\":\"PanTool\"},{\"attributes\":{\"data_source\":{\"id\":\"77d3a5b6-ed3c-41b0-b9a1-e159e3eb7147\",\"type\":\"ColumnDataSource\"},\"glyph\":{\"id\":\"d8bdcb95-e34d-47dd-997e-743e60317109\",\"type\":\"Line\"},\"hover_glyph\":null,\"muted_glyph\":null,\"nonselection_glyph\":{\"id\":\"0ee82dd2-1fa2-4a24-884f-eead3a4598af\",\"type\":\"Line\"},\"selection_glyph\":null,\"view\":{\"id\":\"5bf894f7-4690-4578-a51a-96806005130b\",\"type\":\"CDSView\"}},\"id\":\"0aeeef8e-9194-4190-bdf8-e5ab4ad24b1f\",\"type\":\"GlyphRenderer\"},{\"attributes\":{\"children\":[{\"id\":\"e65cb28c-305b-4965-a336-87c22f1f5f13\",\"type\":\"Row\"}]},\"id\":\"c9128143-9dd2-4249-a291-1fbd44f5ee08\",\"type\":\"Column\"},{\"attributes\":{\"source\":{\"id\":\"2255d4e9-2c82-4e08-b437-c0586b2db03d\",\"type\":\"ColumnDataSource\"}},\"id\":\"ca597eec-eabd-4b2a-ad08-dd147eea5365\",\"type\":\"CDSView\"},{\"attributes\":{\"axis_label\":\"pressure [mb]\",\"formatter\":{\"id\":\"954631b6-e994-49ba-9005-bd598852b44f\",\"type\":\"LogTickFormatter\"},\"plot\":{\"id\":\"6ad6f053-bbf7-4d97-b67f-fe13b0621ca1\",\"subtype\":\"Figure\",\"type\":\"Plot\"},\"ticker\":{\"id\":\"75d0a730-f419-4cdd-be3b-05fa61398079\",\"type\":\"LogTicker\"}},\"id\":\"e8606f2e-32d2-4035-b6c2-d652cb9c88f8\",\"type\":\"LogAxis\"},{\"attributes\":{},\"id\":\"8b651856-3b2c-497f-8c75-6bd7bd7b616e\",\"type\":\"BasicTickFormatter\"},{\"attributes\":{\"source\":{\"id\":\"77d3a5b6-ed3c-41b0-b9a1-e159e3eb7147\",\"type\":\"ColumnDataSource\"}},\"id\":\"5bf894f7-4690-4578-a51a-96806005130b\",\"type\":\"CDSView\"},{\"attributes\":{\"items\":[{\"id\":\"982e6188-fb0e-4f54-be15-4cf598cee474\",\"type\":\"LegendItem\"},{\"id\":\"804320b4-ea8d-431f-9431-d51473e095a3\",\"type\":\"LegendItem\"},{\"id\":\"77a1501c-0a5c-48b0-a595-0980d5fe99d8\",\"type\":\"LegendItem\"}],\"label_text_font_size\":{\"value\":\"8pt\"},\"location\":[10,-30],\"plot\":{\"id\":\"6ad6f053-bbf7-4d97-b67f-fe13b0621ca1\",\"subtype\":\"Figure\",\"type\":\"Plot\"}},\"id\":\"9af53ea2-4950-4bfc-bc3f-7d2e0ec61e02\",\"type\":\"Legend\"},{\"attributes\":{\"active_drag\":\"auto\",\"active_inspect\":\"auto\",\"active_scroll\":\"auto\",\"active_tap\":\"auto\",\"tools\":[{\"id\":\"4b003abb-c16e-486e-9af9-c64b3330fa50\",\"type\":\"PanTool\"},{\"id\":\"42215ad4-a54c-4852-8c55-d10fdf1581fd\",\"type\":\"WheelZoomTool\"},{\"id\":\"298bd8a8-bb59-46fc-af29-a699e7a6a22d\",\"type\":\"BoxZoomTool\"},{\"id\":\"76d2e725-06a1-4ba5-8c71-0f30e23c0ecd\",\"type\":\"SaveTool\"},{\"id\":\"f4063678-3f9b-4a24-b148-e8877e4f83f0\",\"type\":\"ResetTool\"},{\"id\":\"3a41cb7c-1f91-4ca5-9a2f-4b6bf0d1606e\",\"type\":\"HelpTool\"}]},\"id\":\"1de9dcd3-5abf-4dde-ab3d-63686edc12ce\",\"type\":\"Toolbar\"},{\"attributes\":{\"tools\":[{\"id\":\"ea813e73-4d2b-49dc-9bcd-34ee5c0eae4c\",\"type\":\"PanTool\"},{\"id\":\"256a1b30-3c69-4e8c-a7fe-1e554ddb70ef\",\"type\":\"WheelZoomTool\"},{\"id\":\"6aea9c50-5b77-4a3a-85fd-93032fc808be\",\"type\":\"BoxZoomTool\"},{\"id\":\"695a315e-0dde-4096-ad8a-c8c965e8cae0\",\"type\":\"SaveTool\"},{\"id\":\"fb1c8370-43c9-46ee-85e0-120a67878af6\",\"type\":\"ResetTool\"},{\"id\":\"a49a7b08-b4dd-49bc-b51a-d8d3093d22b4\",\"type\":\"HelpTool\"},{\"id\":\"4b003abb-c16e-486e-9af9-c64b3330fa50\",\"type\":\"PanTool\"},{\"id\":\"42215ad4-a54c-4852-8c55-d10fdf1581fd\",\"type\":\"WheelZoomTool\"},{\"id\":\"298bd8a8-bb59-46fc-af29-a699e7a6a22d\",\"type\":\"BoxZoomTool\"},{\"id\":\"76d2e725-06a1-4ba5-8c71-0f30e23c0ecd\",\"type\":\"SaveTool\"},{\"id\":\"f4063678-3f9b-4a24-b148-e8877e4f83f0\",\"type\":\"ResetTool\"},{\"id\":\"3a41cb7c-1f91-4ca5-9a2f-4b6bf0d1606e\",\"type\":\"HelpTool\"}]},\"id\":\"1efad72a-05ce-4082-a53b-f35d40ad66b5\",\"type\":\"ProxyToolbar\"},{\"attributes\":{\"callback\":null,\"column_names\":[\"x\",\"y\"],\"data\":{\"x\":{\"__ndarray__\":\"h5gn5D7KZD/C0OaZl3pnP+jOzWeScm0/1bWMEZYjcj8sbkZHHvp1P57i2aJjR3o/j5kOFK0Zfz8spxqElDuCPzfegENmNoU/q3tIHqaCiD+oQ35orB6MP6xisDZU+Y8/9eKlSn0hkj82jNbffxyUP7Qz/t04spU/ph14Yd0Llz90oyjNb2OYP32MkaM7s5k/zlHf42D3mj+Zmx799yycPxyCQ6WaJJ0/PBx2Qlz3mj8xvih0cEaVP2fYg6SqZI8/WFNFMI+uhj/r4qFspAWAP7FCTdHqFHY/WEUAezpTbz8IP2z+I4BoPxgVd8+IMWQ/ADcgxSaZYD9gmsRO6F1bP8h5YkritFk/o0KIMrMSXD+qzn2JHldfP1B/B1CdWGE/jD2chVuMYj9AQtVvNPViPwY1m4Zqg2k/NsuO2YXibz9STO0rYBlzPxsqahsEt3Q/OYhiouS9dT+HyQtZs492P2RmgynaPnc/yeoYRwzKej9dgercAjuCP/1AVEL5gIk/bjsU1cAulT/9ghoUhi6hPyzhSCFCvKg/UnUJM99UsD/WNZK4UkW0PzhYNZFkGbg/TwTUSAnJuz/bWz5Qdky/P+1xEaXeT8E/+fv/F1PZwj/w82O8ezrEP/IQ3+yDasU/SNMsEgtjxj8dJF2WIyLHPzs4dXFdqcc/1ClNUrL/xz+7BI6h7zDIP3FY2Nt/R8g//Zv+iR1PyD93/khs0kjIP8nVXROxDMg/ViZfffpXxz8XFljX09TFP2VX1g1GssM/HTY24JiKwT/KeGvLRgi/P7NceFa57bo/\",\"dtype\":\"float64\",\"shape\":[75]},\"y\":{\"__ndarray__\":\"GhExyth1ND/Sv8nbtpRIP2vylNV0PVE/aTum7souWD/At0SJ8fVgPw3Iuahxymc/MSNhhJWvcD/bTfBN02d3P2zb5nxnaoA/CD5h5MAGhz8NmeH1TyaQP+zrCsc9p5Y/LbKd76fGnz/bLW5ISEmmPww9YvTcQq8/JV2OstnstT8Er5Y7M8G+P0c+r3jqkcU/5h99k6ZBzj88bCIzFzjVP4enV8oyxN0//yH99nXg5D8qOpLLf0jtP5kqGJXUifQ/c9cS8kHP/D+/DpwzojQEQIEmwoanVwxA4lgXt9HgE0BSSZ2AJuIbQAMJih9jjiNA5q4l5INuK0AwTKYKRj0zQNv5fmq8/DpAaCJseHrtQkB/+zpwzoxKQM3MzMzMeFJAZmZmZmZqWEAAAAAAAFxeQM3MzMzMJmJAmpmZmZkfZUBmZmZmZhhoQDMzMzMzEWtAAAAAAAAKbkBmZmZmZoFwQM3MzMzM/XFAMzMzMzN6c0CamZmZmfZ0QAAAAAAAc3ZAZmZmZmbvd0DNzMzMzGt5QDMzMzMz6HpAmpmZmZlkfEAAAAAAAOF9QGZmZmZmXX9AZmZmZuZsgECamZmZGSuBQM3MzMxM6YFAAAAAAICngkAzMzMzs2WDQGZmZmbmI4RAmpmZmRnihEDNzMzMTKCFQAAAAACAXoZAMzMzM7Mch0BmZmZm5tqHQJqZmZkZmYhAzczMzExXiUAAAAAAgBWKQDMzMzOz04pAZmZmZuaRi0CamZmZGVCMQM3MzMxMDo1AAAAAAIDMjUAzMzMzs4qOQGZmZmbmSI9A\",\"dtype\":\"float64\",\"shape\":[75]}}},\"id\":\"85d3cefb-8909-43c5-8f80-2e42b47605bc\",\"type\":\"ColumnDataSource\"},{\"attributes\":{\"plot\":null,\"text\":\"Linear pressure scale\"},\"id\":\"467efa8a-e947-4241-9dae-4adaab95a8d8\",\"type\":\"Title\"},{\"attributes\":{\"toolbar\":{\"id\":\"1efad72a-05ce-4082-a53b-f35d40ad66b5\",\"type\":\"ProxyToolbar\"},\"toolbar_location\":\"above\"},\"id\":\"512e5eef-8566-4a55-b4da-056f12ea65e2\",\"type\":\"ToolbarBox\"},{\"attributes\":{\"num_minor_ticks\":10},\"id\":\"75d0a730-f419-4cdd-be3b-05fa61398079\",\"type\":\"LogTicker\"},{\"attributes\":{\"data_source\":{\"id\":\"85d3cefb-8909-43c5-8f80-2e42b47605bc\",\"type\":\"ColumnDataSource\"},\"glyph\":{\"id\":\"b10b729c-bb9c-4a29-9055-1da1c1a0b823\",\"type\":\"Circle\"},\"hover_glyph\":null,\"muted_glyph\":null,\"nonselection_glyph\":{\"id\":\"08eaddf1-f29d-499d-8656-a512b7308e4a\",\"type\":\"Circle\"},\"selection_glyph\":null,\"view\":{\"id\":\"dacd2fe8-b94f-4e07-b81d-b4745d83e5be\",\"type\":\"CDSView\"}},\"id\":\"3bd1e709-423b-415f-9cff-59d68a2a6171\",\"type\":\"GlyphRenderer\"},{\"attributes\":{\"label\":{\"value\":\"CLIRAD `coolr_bands`\"},\"renderers\":[{\"id\":\"12b6cff0-3d37-44fd-883c-ed01fd3add49\",\"type\":\"GlyphRenderer\"}]},\"id\":\"982e6188-fb0e-4f54-be15-4cf598cee474\",\"type\":\"LegendItem\"},{\"attributes\":{},\"id\":\"3a41cb7c-1f91-4ca5-9a2f-4b6bf0d1606e\",\"type\":\"HelpTool\"},{\"attributes\":{\"data_source\":{\"id\":\"c35cf84e-b23f-465b-a767-7b4b7f68bb01\",\"type\":\"ColumnDataSource\"},\"glyph\":{\"id\":\"095f34ce-b7fb-4484-ba5f-9b657e94dd68\",\"type\":\"Line\"},\"hover_glyph\":null,\"muted_glyph\":null,\"nonselection_glyph\":{\"id\":\"59917848-61dc-45c7-9e1e-56c422cdaba9\",\"type\":\"Line\"},\"selection_glyph\":null,\"view\":{\"id\":\"000dc72a-613e-4586-b21f-4166de9bab14\",\"type\":\"CDSView\"}},\"id\":\"cc106d3f-174b-4edc-ba71-40e881f76f77\",\"type\":\"GlyphRenderer\"},{\"attributes\":{\"callback\":null,\"column_names\":[\"x\",\"y\"],\"data\":{\"x\":{\"__ndarray__\":\"AAAAAAAAAAAAAAAAAAAAAAAAAAAAAAAAfji63dqooD8AAAAAAAAAAAAAAAAAAAAAVUB+jyoliL8AAAAAAAAAAEkAzO8Ti4g/J5tjWkp/kT9UHJUIRdSVPzs9YkGQrXo/afLeYo+alD8Mu8wJCh6LP0gftp5o8ZQ/3Kdz3UWslD+ewunbhKaTP14cPONgDpc/5NnTeGPtlz/UrMQg1jmZP04g+T6thpo/IgmQ2w6RmT+Jr/DaF2OVPwlqwyQGyJA/IN3uNoY4ij+Ni4keD7WDP+o/bKMh7nw/hjBmonsjdT9J/QCiowdwP6bKYN79V2g/UVw3oAOdYT91NF5gtb5YP9hEsry1kFM/hdWze01qUz9YZKLmvuxUP7OY4cmqpFc/4AlNPKYBWj86r1MjckVbP2z3At2dyGI/lorcv/E2aD/KQ1V+KABuP+BMkH1+y3A/5QcfI8gccj8rRqlCVEFzP7DcsIBZR3Q/BaJXnmigdz9C6WX+U91/P/E2IFZAIIY/FP1Yw3Bukj8zM7wkkSeeP3KzHEFa/qU/OYTMw3mgrT+yLJM/6r+yP6TR4mHhcbY/buNo8da3uT9maekCRcm8PyC1aIUS+78/XN6g5nmqwT/ljf5dwEfDPznaimCQssQ/P8rCtsnRxT+xNXyHsqLGP0EtgtYuM8c/en1aA2OWxz/RTe65RNzHP6Xz4VmCDMg/NCloBxo7yD99GZSC0VnIP8375pvANsg/UDftteKTxz8/De+kSyDGPx0Bux51CcQ/ZJtMw43nwT8Oyofihsa/P7SOqiaIurs/\",\"dtype\":\"float64\",\"shape\":[75]},\"y\":{\"__ndarray__\":\"S/O/Q+51ND/430zAtpRIP2vylNV0PVE/QxsjCssuWD/TR4Z78fVgP+inNsRxymc/OuuBfZWvcD/u3TFA02d3P2d3VoBnaoA/CD5h5MAGhz/1pA8HUCaQP+zrCsc9p5Y/Fb7LAKjGnz/nJ9c/SEmmPwBD+fzcQq8/FOZwv9nstT8Er5Y7M8G+P0c+r3jqkcU/yK72qKZBzj+tM989FzjVPxbgmr8yxN0/cOm5AXbg5D+5ctXAf0jtP5kqGJXUifQ/DsrqDELP/D8MCAhBojQEQDItVnmnVwxAiFXNvdHgE0BSSZ2AJuIbQAMJih9jjiNA5q4l5INuK0CPVN/5RT0zQHzxRXu8/DpAOZ7PgHrtQkAg8wGBzoxKQBSTN8DMeFJA2NmQf2ZqWEAAAAAAAFxeQEQX1LfMJmJAmpmZmZkfZUBmZmZmZhhoQLzoK0gzEWtAAAAAAAAKbkCiC+pbZoFwQAhyUMLM/XFA+I2vPTN6c0AQ5KCEmfZ0QAAAAAAAc3ZA8Btfe2bvd0AIclDCzGt5QPeNrz0z6HpAEOSghJlkfEAAAAAAAOF9QKML6ltmXX9ABTkoYeZsgED7xteeGSuBQAhyUMJM6YFAAAAAAICngkD4ja89s2WDQAU5KGHmI4RA+8bXnhnihEAIclDCTKCFQAAAAACAXoZA+I2vPbMch0AFOShh5tqHQPvG154ZmYhACHJQwkxXiUAAAAAAgBWKQPeNrz2z04pABTkoYeaRi0D7xteeGVCMQAlyUMJMDo1AAAAAAIDMjUD3ja89s4qOQGZmZmbmSI9A\",\"dtype\":\"float64\",\"shape\":[75]}}},\"id\":\"c35cf84e-b23f-465b-a767-7b4b7f68bb01\",\"type\":\"ColumnDataSource\"},{\"attributes\":{\"line_alpha\":0.1,\"line_color\":\"#1f77b4\",\"line_width\":3,\"x\":{\"field\":\"x\"},\"y\":{\"field\":\"y\"}},\"id\":\"48401865-1181-4fcf-b2b7-50c331e04b75\",\"type\":\"Line\"},{\"attributes\":{\"fill_alpha\":{\"value\":0.7},\"fill_color\":{\"value\":\"#984ea3\"},\"line_alpha\":{\"value\":0.7},\"line_color\":{\"value\":\"#984ea3\"},\"x\":{\"field\":\"x\"},\"y\":{\"field\":\"y\"}},\"id\":\"9d6e5f99-9c35-4542-b260-624024027492\",\"type\":\"Square\"},{\"attributes\":{\"axis_label\":\"cooling rate [K/day]\",\"formatter\":{\"id\":\"57b3d361-d0c3-4d9b-98f0-74b370d2ba94\",\"type\":\"BasicTickFormatter\"},\"plot\":{\"id\":\"6ad6f053-bbf7-4d97-b67f-fe13b0621ca1\",\"subtype\":\"Figure\",\"type\":\"Plot\"},\"ticker\":{\"id\":\"ffe5cd9b-15b3-4802-82f8-56da83663b99\",\"type\":\"BasicTicker\"}},\"id\":\"b3cda38f-3e5e-4381-a27f-6f569531b82d\",\"type\":\"LinearAxis\"},{\"attributes\":{\"fill_alpha\":{\"value\":0.1},\"fill_color\":{\"value\":\"#1f77b4\"},\"line_alpha\":{\"value\":0.1},\"line_color\":{\"value\":\"#1f77b4\"},\"x\":{\"field\":\"x\"},\"y\":{\"field\":\"y\"}},\"id\":\"08eaddf1-f29d-499d-8656-a512b7308e4a\",\"type\":\"Circle\"},{\"attributes\":{\"source\":{\"id\":\"e6f63ffb-f878-467b-8f51-ff46108174ef\",\"type\":\"ColumnDataSource\"}},\"id\":\"e326fa74-4e49-4160-bdd4-6898a00c89f5\",\"type\":\"CDSView\"},{\"attributes\":{\"plot\":{\"id\":\"6ad6f053-bbf7-4d97-b67f-fe13b0621ca1\",\"subtype\":\"Figure\",\"type\":\"Plot\"},\"ticker\":{\"id\":\"ffe5cd9b-15b3-4802-82f8-56da83663b99\",\"type\":\"BasicTicker\"}},\"id\":\"129b0755-dbf5-4c3e-8d1b-3b11ac1ac392\",\"type\":\"Grid\"},{\"attributes\":{\"active_drag\":\"auto\",\"active_inspect\":\"auto\",\"active_scroll\":\"auto\",\"active_tap\":\"auto\",\"tools\":[{\"id\":\"ea813e73-4d2b-49dc-9bcd-34ee5c0eae4c\",\"type\":\"PanTool\"},{\"id\":\"256a1b30-3c69-4e8c-a7fe-1e554ddb70ef\",\"type\":\"WheelZoomTool\"},{\"id\":\"6aea9c50-5b77-4a3a-85fd-93032fc808be\",\"type\":\"BoxZoomTool\"},{\"id\":\"695a315e-0dde-4096-ad8a-c8c965e8cae0\",\"type\":\"SaveTool\"},{\"id\":\"fb1c8370-43c9-46ee-85e0-120a67878af6\",\"type\":\"ResetTool\"},{\"id\":\"a49a7b08-b4dd-49bc-b51a-d8d3093d22b4\",\"type\":\"HelpTool\"}]},\"id\":\"57c1afaf-2e1f-4fe0-99a5-49ad4294a8c3\",\"type\":\"Toolbar\"},{\"attributes\":{\"dimension\":1,\"plot\":{\"id\":\"6ad6f053-bbf7-4d97-b67f-fe13b0621ca1\",\"subtype\":\"Figure\",\"type\":\"Plot\"},\"ticker\":{\"id\":\"75d0a730-f419-4cdd-be3b-05fa61398079\",\"type\":\"LogTicker\"}},\"id\":\"51618465-f3a5-4d0f-9d11-4e8d5986996f\",\"type\":\"Grid\"},{\"attributes\":{\"data_source\":{\"id\":\"e6f63ffb-f878-467b-8f51-ff46108174ef\",\"type\":\"ColumnDataSource\"},\"glyph\":{\"id\":\"b58df08e-e39a-4164-9946-d219b974b830\",\"type\":\"Line\"},\"hover_glyph\":null,\"muted_glyph\":null,\"nonselection_glyph\":{\"id\":\"002fe268-097f-4f14-b431-996f5048dc89\",\"type\":\"Line\"},\"selection_glyph\":null,\"view\":{\"id\":\"e326fa74-4e49-4160-bdd4-6898a00c89f5\",\"type\":\"CDSView\"}},\"id\":\"12b6cff0-3d37-44fd-883c-ed01fd3add49\",\"type\":\"GlyphRenderer\"},{\"attributes\":{\"plot\":null,\"text\":\"Log pressure scale\"},\"id\":\"eb9567dd-b792-4274-877d-a2438ed719a9\",\"type\":\"Title\"},{\"attributes\":{\"callback\":null,\"end\":0.192130678923,\"start\":-0.0006124912229999999},\"id\":\"dbc2e4eb-393f-4d17-a87c-fb3c7b9a3183\",\"type\":\"Range1d\"},{\"attributes\":{},\"id\":\"42215ad4-a54c-4852-8c55-d10fdf1581fd\",\"type\":\"WheelZoomTool\"},{\"attributes\":{\"below\":[{\"id\":\"3cc54ae3-ddd8-4146-b054-fd58a639343a\",\"type\":\"LinearAxis\"}],\"left\":[{\"id\":\"76b5101f-2e31-45eb-9a3c-859a3e35e17d\",\"type\":\"LinearAxis\"}],\"plot_height\":500,\"plot_width\":400,\"renderers\":[{\"id\":\"3cc54ae3-ddd8-4146-b054-fd58a639343a\",\"type\":\"LinearAxis\"},{\"id\":\"fc0e546b-3748-42d1-aff7-545ce9f56915\",\"type\":\"Grid\"},{\"id\":\"76b5101f-2e31-45eb-9a3c-859a3e35e17d\",\"type\":\"LinearAxis\"},{\"id\":\"0a79c967-4238-4cb8-bbc9-1d0131567ab0\",\"type\":\"Grid\"},{\"id\":\"448f5a6c-286a-44a8-8549-8327e3c296db\",\"type\":\"BoxAnnotation\"},{\"id\":\"cc106d3f-174b-4edc-ba71-40e881f76f77\",\"type\":\"GlyphRenderer\"},{\"id\":\"3bd1e709-423b-415f-9cff-59d68a2a6171\",\"type\":\"GlyphRenderer\"},{\"id\":\"a0744178-420a-4bfb-8c66-595feb4d74f7\",\"type\":\"GlyphRenderer\"},{\"id\":\"869db28b-3aad-453a-9c5a-5b7cfd9f4e8b\",\"type\":\"GlyphRenderer\"},{\"id\":\"6c0d16fb-d016-4220-9b8a-ae89c58ed7b7\",\"type\":\"GlyphRenderer\"}],\"title\":{\"id\":\"467efa8a-e947-4241-9dae-4adaab95a8d8\",\"type\":\"Title\"},\"toolbar\":{\"id\":\"57c1afaf-2e1f-4fe0-99a5-49ad4294a8c3\",\"type\":\"Toolbar\"},\"toolbar_location\":null,\"x_range\":{\"id\":\"dbc2e4eb-393f-4d17-a87c-fb3c7b9a3183\",\"type\":\"Range1d\"},\"x_scale\":{\"id\":\"523131a4-d2ab-4fd1-993c-cd9d0264d3e1\",\"type\":\"LinearScale\"},\"y_range\":{\"id\":\"ceeab51e-7d77-46b2-b1ca-c52478bc30c3\",\"type\":\"Range1d\"},\"y_scale\":{\"id\":\"13a9cf07-68bf-4317-98dd-316be97d3443\",\"type\":\"LinearScale\"}},\"id\":\"c2f2a97e-94f8-4467-aea8-a2e05d4bcd57\",\"subtype\":\"Figure\",\"type\":\"Plot\"},{\"attributes\":{\"line_alpha\":0.6,\"line_color\":\"#984ea3\",\"line_width\":3,\"x\":{\"field\":\"x\"},\"y\":{\"field\":\"y\"}},\"id\":\"69362bc0-5606-4d1f-85a6-fea97613c356\",\"type\":\"Line\"},{\"attributes\":{\"bottom_units\":\"screen\",\"fill_alpha\":{\"value\":0.5},\"fill_color\":{\"value\":\"lightgrey\"},\"left_units\":\"screen\",\"level\":\"overlay\",\"line_alpha\":{\"value\":1.0},\"line_color\":{\"value\":\"black\"},\"line_dash\":[4,4],\"line_width\":{\"value\":2},\"plot\":null,\"render_mode\":\"css\",\"right_units\":\"screen\",\"top_units\":\"screen\"},\"id\":\"4350b546-73db-494e-ad2b-134517ab6ae9\",\"type\":\"BoxAnnotation\"},{\"attributes\":{\"overlay\":{\"id\":\"4350b546-73db-494e-ad2b-134517ab6ae9\",\"type\":\"BoxAnnotation\"}},\"id\":\"298bd8a8-bb59-46fc-af29-a699e7a6a22d\",\"type\":\"BoxZoomTool\"},{\"attributes\":{\"data_source\":{\"id\":\"2255d4e9-2c82-4e08-b437-c0586b2db03d\",\"type\":\"ColumnDataSource\"},\"glyph\":{\"id\":\"69362bc0-5606-4d1f-85a6-fea97613c356\",\"type\":\"Line\"},\"hover_glyph\":null,\"muted_glyph\":null,\"nonselection_glyph\":{\"id\":\"48401865-1181-4fcf-b2b7-50c331e04b75\",\"type\":\"Line\"},\"selection_glyph\":null,\"view\":{\"id\":\"ca597eec-eabd-4b2a-ad08-dd147eea5365\",\"type\":\"CDSView\"}},\"id\":\"6c0d16fb-d016-4220-9b8a-ae89c58ed7b7\",\"type\":\"GlyphRenderer\"},{\"attributes\":{},\"id\":\"f4063678-3f9b-4a24-b148-e8877e4f83f0\",\"type\":\"ResetTool\"},{\"attributes\":{\"callback\":null,\"end\":0.01,\"start\":1020},\"id\":\"ceeab51e-7d77-46b2-b1ca-c52478bc30c3\",\"type\":\"Range1d\"},{\"attributes\":{\"data_source\":{\"id\":\"73c44f0c-fa3f-4d73-8c4f-194e0573887b\",\"type\":\"ColumnDataSource\"},\"glyph\":{\"id\":\"9d6e5f99-9c35-4542-b260-624024027492\",\"type\":\"Square\"},\"hover_glyph\":null,\"muted_glyph\":null,\"nonselection_glyph\":{\"id\":\"e7407d2c-71be-4c76-81fd-fdcc770ee220\",\"type\":\"Square\"},\"selection_glyph\":null,\"view\":{\"id\":\"2ec21d55-8513-4b25-9a4e-e6384232cddd\",\"type\":\"CDSView\"}},\"id\":\"869db28b-3aad-453a-9c5a-5b7cfd9f4e8b\",\"type\":\"GlyphRenderer\"},{\"attributes\":{},\"id\":\"523131a4-d2ab-4fd1-993c-cd9d0264d3e1\",\"type\":\"LinearScale\"},{\"attributes\":{\"source\":{\"id\":\"c35cf84e-b23f-465b-a767-7b4b7f68bb01\",\"type\":\"ColumnDataSource\"}},\"id\":\"000dc72a-613e-4586-b21f-4166de9bab14\",\"type\":\"CDSView\"},{\"attributes\":{\"line_alpha\":0.1,\"line_color\":\"#1f77b4\",\"line_width\":1.5,\"x\":{\"field\":\"x\"},\"y\":{\"field\":\"y\"}},\"id\":\"089cc4c3-e127-4311-b194-9ea33c2f67b9\",\"type\":\"Line\"},{\"attributes\":{\"data_source\":{\"id\":\"c57032d8-5ba2-490d-ab53-034a3553057d\",\"type\":\"ColumnDataSource\"},\"glyph\":{\"id\":\"83abc0c1-b0ea-429a-8622-778326c3a4e8\",\"type\":\"Line\"},\"hover_glyph\":null,\"muted_glyph\":null,\"nonselection_glyph\":{\"id\":\"089cc4c3-e127-4311-b194-9ea33c2f67b9\",\"type\":\"Line\"},\"selection_glyph\":null,\"view\":{\"id\":\"7c555e3a-83c2-4986-842a-e727f5c8a7d4\",\"type\":\"CDSView\"}},\"id\":\"a0744178-420a-4bfb-8c66-595feb4d74f7\",\"type\":\"GlyphRenderer\"},{\"attributes\":{},\"id\":\"d699caa2-152e-4afb-abbb-fb2ca3fd7275\",\"type\":\"BasicTicker\"},{\"attributes\":{\"plot\":{\"id\":\"c2f2a97e-94f8-4467-aea8-a2e05d4bcd57\",\"subtype\":\"Figure\",\"type\":\"Plot\"},\"ticker\":{\"id\":\"d699caa2-152e-4afb-abbb-fb2ca3fd7275\",\"type\":\"BasicTicker\"}},\"id\":\"fc0e546b-3748-42d1-aff7-545ce9f56915\",\"type\":\"Grid\"},{\"attributes\":{\"fill_alpha\":{\"value\":0.7},\"fill_color\":{\"value\":\"#4daf4a\"},\"line_alpha\":{\"value\":0.7},\"line_color\":{\"value\":\"#4daf4a\"},\"x\":{\"field\":\"x\"},\"y\":{\"field\":\"y\"}},\"id\":\"b10b729c-bb9c-4a29-9055-1da1c1a0b823\",\"type\":\"Circle\"},{\"attributes\":{\"axis_label\":\"cooling rate [K/day]\",\"formatter\":{\"id\":\"8b651856-3b2c-497f-8c75-6bd7bd7b616e\",\"type\":\"BasicTickFormatter\"},\"plot\":{\"id\":\"c2f2a97e-94f8-4467-aea8-a2e05d4bcd57\",\"subtype\":\"Figure\",\"type\":\"Plot\"},\"ticker\":{\"id\":\"d699caa2-152e-4afb-abbb-fb2ca3fd7275\",\"type\":\"BasicTicker\"}},\"id\":\"3cc54ae3-ddd8-4146-b054-fd58a639343a\",\"type\":\"LinearAxis\"},{\"attributes\":{},\"id\":\"fb1c8370-43c9-46ee-85e0-120a67878af6\",\"type\":\"ResetTool\"},{\"attributes\":{\"children\":[{\"id\":\"c2f2a97e-94f8-4467-aea8-a2e05d4bcd57\",\"subtype\":\"Figure\",\"type\":\"Plot\"},{\"id\":\"6ad6f053-bbf7-4d97-b67f-fe13b0621ca1\",\"subtype\":\"Figure\",\"type\":\"Plot\"}]},\"id\":\"e65cb28c-305b-4965-a336-87c22f1f5f13\",\"type\":\"Row\"},{\"attributes\":{\"dimension\":1,\"plot\":{\"id\":\"c2f2a97e-94f8-4467-aea8-a2e05d4bcd57\",\"subtype\":\"Figure\",\"type\":\"Plot\"},\"ticker\":{\"id\":\"9ff54e5b-5412-4b72-9e71-1fb12f3bb974\",\"type\":\"BasicTicker\"}},\"id\":\"0a79c967-4238-4cb8-bbc9-1d0131567ab0\",\"type\":\"Grid\"},{\"attributes\":{\"bottom_units\":\"screen\",\"fill_alpha\":{\"value\":0.5},\"fill_color\":{\"value\":\"lightgrey\"},\"left_units\":\"screen\",\"level\":\"overlay\",\"line_alpha\":{\"value\":1.0},\"line_color\":{\"value\":\"black\"},\"line_dash\":[4,4],\"line_width\":{\"value\":2},\"plot\":null,\"render_mode\":\"css\",\"right_units\":\"screen\",\"top_units\":\"screen\"},\"id\":\"448f5a6c-286a-44a8-8549-8327e3c296db\",\"type\":\"BoxAnnotation\"},{\"attributes\":{},\"id\":\"9ff54e5b-5412-4b72-9e71-1fb12f3bb974\",\"type\":\"BasicTicker\"},{\"attributes\":{\"line_color\":\"#4daf4a\",\"line_width\":1.5,\"x\":{\"field\":\"x\"},\"y\":{\"field\":\"y\"}},\"id\":\"83abc0c1-b0ea-429a-8622-778326c3a4e8\",\"type\":\"Line\"},{\"attributes\":{},\"id\":\"ea813e73-4d2b-49dc-9bcd-34ee5c0eae4c\",\"type\":\"PanTool\"},{\"attributes\":{},\"id\":\"256a1b30-3c69-4e8c-a7fe-1e554ddb70ef\",\"type\":\"WheelZoomTool\"},{\"attributes\":{},\"id\":\"13a9cf07-68bf-4317-98dd-316be97d3443\",\"type\":\"LinearScale\"},{\"attributes\":{\"axis_label\":\"pressure [mb]\",\"formatter\":{\"id\":\"c0b31599-be1b-40f2-8e82-0b3a84d6e88e\",\"type\":\"BasicTickFormatter\"},\"plot\":{\"id\":\"c2f2a97e-94f8-4467-aea8-a2e05d4bcd57\",\"subtype\":\"Figure\",\"type\":\"Plot\"},\"ticker\":{\"id\":\"9ff54e5b-5412-4b72-9e71-1fb12f3bb974\",\"type\":\"BasicTicker\"}},\"id\":\"76b5101f-2e31-45eb-9a3c-859a3e35e17d\",\"type\":\"LinearAxis\"},{\"attributes\":{\"line_alpha\":0.6,\"line_color\":\"#e41a1c\",\"line_dash\":[6],\"line_width\":5,\"x\":{\"field\":\"x\"},\"y\":{\"field\":\"y\"}},\"id\":\"095f34ce-b7fb-4484-ba5f-9b657e94dd68\",\"type\":\"Line\"},{\"attributes\":{},\"id\":\"695a315e-0dde-4096-ad8a-c8c965e8cae0\",\"type\":\"SaveTool\"},{\"attributes\":{},\"id\":\"a49a7b08-b4dd-49bc-b51a-d8d3093d22b4\",\"type\":\"HelpTool\"},{\"attributes\":{\"callback\":null,\"column_names\":[\"x\",\"y\"],\"data\":{\"x\":{\"__ndarray__\":\"h5gn5D7KZD/C0OaZl3pnP+jOzWeScm0/1bWMEZYjcj8sbkZHHvp1P57i2aJjR3o/j5kOFK0Zfz8spxqElDuCPzfegENmNoU/q3tIHqaCiD+oQ35orB6MP6xisDZU+Y8/9eKlSn0hkj82jNbffxyUP7Qz/t04spU/ph14Yd0Llz90oyjNb2OYP32MkaM7s5k/zlHf42D3mj+Zmx799yycPxyCQ6WaJJ0/PBx2Qlz3mj8xvih0cEaVP2fYg6SqZI8/WFNFMI+uhj/r4qFspAWAP7FCTdHqFHY/WEUAezpTbz8IP2z+I4BoPxgVd8+IMWQ/ADcgxSaZYD9gmsRO6F1bP8h5YkritFk/o0KIMrMSXD+qzn2JHldfP1B/B1CdWGE/jD2chVuMYj9AQtVvNPViPwY1m4Zqg2k/NsuO2YXibz9STO0rYBlzPxsqahsEt3Q/OYhiouS9dT+HyQtZs492P2RmgynaPnc/yeoYRwzKej9dgercAjuCP/1AVEL5gIk/bjsU1cAulT/9ghoUhi6hPyzhSCFCvKg/UnUJM99UsD/WNZK4UkW0PzhYNZFkGbg/TwTUSAnJuz/bWz5Qdky/P+1xEaXeT8E/+fv/F1PZwj/w82O8ezrEP/IQ3+yDasU/SNMsEgtjxj8dJF2WIyLHPzs4dXFdqcc/1ClNUrL/xz+7BI6h7zDIP3FY2Nt/R8g//Zv+iR1PyD93/khs0kjIP8nVXROxDMg/ViZfffpXxz8XFljX09TFP2VX1g1GssM/HTY24JiKwT/KeGvLRgi/P7NceFa57bo/\",\"dtype\":\"float64\",\"shape\":[75]},\"y\":{\"__ndarray__\":\"GhExyth1ND/Sv8nbtpRIP2vylNV0PVE/aTum7souWD/At0SJ8fVgPw3Iuahxymc/MSNhhJWvcD/bTfBN02d3P2zb5nxnaoA/CD5h5MAGhz8NmeH1TyaQP+zrCsc9p5Y/LbKd76fGnz/bLW5ISEmmPww9YvTcQq8/JV2OstnstT8Er5Y7M8G+P0c+r3jqkcU/5h99k6ZBzj88bCIzFzjVP4enV8oyxN0//yH99nXg5D8qOpLLf0jtP5kqGJXUifQ/c9cS8kHP/D+/DpwzojQEQIEmwoanVwxA4lgXt9HgE0BSSZ2AJuIbQAMJih9jjiNA5q4l5INuK0AwTKYKRj0zQNv5fmq8/DpAaCJseHrtQkB/+zpwzoxKQM3MzMzMeFJAZmZmZmZqWEAAAAAAAFxeQM3MzMzMJmJAmpmZmZkfZUBmZmZmZhhoQDMzMzMzEWtAAAAAAAAKbkBmZmZmZoFwQM3MzMzM/XFAMzMzMzN6c0CamZmZmfZ0QAAAAAAAc3ZAZmZmZmbvd0DNzMzMzGt5QDMzMzMz6HpAmpmZmZlkfEAAAAAAAOF9QGZmZmZmXX9AZmZmZuZsgECamZmZGSuBQM3MzMxM6YFAAAAAAICngkAzMzMzs2WDQGZmZmbmI4RAmpmZmRnihEDNzMzMTKCFQAAAAACAXoZAMzMzM7Mch0BmZmZm5tqHQJqZmZkZmYhAzczMzExXiUAAAAAAgBWKQDMzMzOz04pAZmZmZuaRi0CamZmZGVCMQM3MzMxMDo1AAAAAAIDMjUAzMzMzs4qOQGZmZmbmSI9A\",\"dtype\":\"float64\",\"shape\":[75]}}},\"id\":\"c57032d8-5ba2-490d-ab53-034a3553057d\",\"type\":\"ColumnDataSource\"},{\"attributes\":{\"overlay\":{\"id\":\"448f5a6c-286a-44a8-8549-8327e3c296db\",\"type\":\"BoxAnnotation\"}},\"id\":\"6aea9c50-5b77-4a3a-85fd-93032fc808be\",\"type\":\"BoxZoomTool\"}],\"root_ids\":[\"8e285136-31f7-479c-b6ed-ba8fc6c7a6f2\"]},\"title\":\"Bokeh Application\",\"version\":\"0.12.14\"}};\n",
       "  var render_items = [{\"docid\":\"e544c5f5-6467-4d1a-b617-2122c951226a\",\"elementid\":\"9f2b3ea5-5175-465a-a895-378242fe3f72\",\"modelid\":\"8e285136-31f7-479c-b6ed-ba8fc6c7a6f2\"}];\n",
       "  root.Bokeh.embed.embed_items_notebook(docs_json, render_items);\n",
       "\n",
       "  }\n",
       "  if (root.Bokeh !== undefined) {\n",
       "    embed_document(root);\n",
       "  } else {\n",
       "    var attempts = 0;\n",
       "    var timer = setInterval(function(root) {\n",
       "      if (root.Bokeh !== undefined) {\n",
       "        embed_document(root);\n",
       "        clearInterval(timer);\n",
       "      }\n",
       "      attempts++;\n",
       "      if (attempts > 100) {\n",
       "        console.log(\"Bokeh: ERROR: Unable to run BokehJS code because BokehJS library is missing\")\n",
       "        clearInterval(timer);\n",
       "      }\n",
       "    }, 10, root)\n",
       "  }\n",
       "})(window);"
      ],
      "application/vnd.bokehjs_exec.v0+json": ""
     },
     "metadata": {
      "application/vnd.bokehjs_exec.v0+json": {
       "id": "8e285136-31f7-479c-b6ed-ba8fc6c7a6f2"
      }
     },
     "output_type": "display_data"
    },
    {
     "name": "stdout",
     "output_type": "stream",
     "text": [
      "FIGURE. Cooling rate profiles.\n"
     ]
    },
    {
     "data": {
      "text/html": [
       "<a id=\"Flux_Comparison\"></a>"
      ],
      "text/plain": [
       "<IPython.core.display.HTML object>"
      ]
     },
     "metadata": {},
     "output_type": "display_data"
    },
    {
     "data": {
      "text/markdown": [
       "# Flux Comparison"
      ],
      "text/plain": [
       "<IPython.core.display.Markdown object>"
      ]
     },
     "metadata": {},
     "output_type": "display_data"
    },
    {
     "data": {
      "text/html": [
       "<div>\n",
       "<style>\n",
       "    .dataframe thead tr:only-child th {\n",
       "        text-align: right;\n",
       "    }\n",
       "\n",
       "    .dataframe thead th {\n",
       "        text-align: left;\n",
       "    }\n",
       "\n",
       "    .dataframe tbody tr th {\n",
       "        vertical-align: top;\n",
       "    }\n",
       "</style>\n",
       "<table border=\"1\" class=\"dataframe\">\n",
       "  <thead>\n",
       "    <tr style=\"text-align: right;\">\n",
       "      <th></th>\n",
       "      <th></th>\n",
       "      <th>flug</th>\n",
       "      <th>fldg</th>\n",
       "      <th>fnetg</th>\n",
       "    </tr>\n",
       "    <tr>\n",
       "      <th>pressure</th>\n",
       "      <th>level</th>\n",
       "      <th></th>\n",
       "      <th></th>\n",
       "      <th></th>\n",
       "    </tr>\n",
       "  </thead>\n",
       "  <tbody>\n",
       "    <tr>\n",
       "      <th>0.0000</th>\n",
       "      <th>1</th>\n",
       "      <td>-22.504215</td>\n",
       "      <td>0.000000</td>\n",
       "      <td>-22.504215</td>\n",
       "    </tr>\n",
       "    <tr>\n",
       "      <th>1.0685</th>\n",
       "      <th>24</th>\n",
       "      <td>-22.503419</td>\n",
       "      <td>0.002034</td>\n",
       "      <td>-22.501386</td>\n",
       "    </tr>\n",
       "    <tr>\n",
       "      <th>1013.0000</th>\n",
       "      <th>76</th>\n",
       "      <td>-23.591137</td>\n",
       "      <td>11.602302</td>\n",
       "      <td>-11.988836</td>\n",
       "    </tr>\n",
       "  </tbody>\n",
       "</table>\n",
       "</div>"
      ],
      "text/plain": [
       "                      flug       fldg      fnetg\n",
       "pressure  level                                 \n",
       "0.0000    1     -22.504215   0.000000 -22.504215\n",
       "1.0685    24    -22.503419   0.002034 -22.501386\n",
       "1013.0000 76    -23.591137  11.602302 -11.988836"
      ]
     },
     "metadata": {},
     "output_type": "display_data"
    },
    {
     "name": "stdout",
     "output_type": "stream",
     "text": [
      "Table. Fluxes. WGT igg=10 wgt_flux=1\n"
     ]
    },
    {
     "data": {
      "text/html": [
       "<div>\n",
       "<style>\n",
       "    .dataframe thead tr:only-child th {\n",
       "        text-align: right;\n",
       "    }\n",
       "\n",
       "    .dataframe thead th {\n",
       "        text-align: left;\n",
       "    }\n",
       "\n",
       "    .dataframe tbody tr th {\n",
       "        vertical-align: top;\n",
       "    }\n",
       "</style>\n",
       "<table border=\"1\" class=\"dataframe\">\n",
       "  <thead>\n",
       "    <tr style=\"text-align: right;\">\n",
       "      <th></th>\n",
       "      <th></th>\n",
       "      <th>flug</th>\n",
       "      <th>fldg</th>\n",
       "      <th>fnetg</th>\n",
       "    </tr>\n",
       "    <tr>\n",
       "      <th>pressure</th>\n",
       "      <th>level</th>\n",
       "      <th></th>\n",
       "      <th></th>\n",
       "      <th></th>\n",
       "    </tr>\n",
       "  </thead>\n",
       "  <tbody>\n",
       "    <tr>\n",
       "      <th>0.0000</th>\n",
       "      <th>1</th>\n",
       "      <td>-22.504461</td>\n",
       "      <td>0.000000</td>\n",
       "      <td>-22.504461</td>\n",
       "    </tr>\n",
       "    <tr>\n",
       "      <th>1.0685</th>\n",
       "      <th>24</th>\n",
       "      <td>-22.503683</td>\n",
       "      <td>0.002296</td>\n",
       "      <td>-22.501388</td>\n",
       "    </tr>\n",
       "    <tr>\n",
       "      <th>1013.0000</th>\n",
       "      <th>76</th>\n",
       "      <td>-23.591138</td>\n",
       "      <td>11.781512</td>\n",
       "      <td>-11.809626</td>\n",
       "    </tr>\n",
       "  </tbody>\n",
       "</table>\n",
       "</div>"
      ],
      "text/plain": [
       "                      flug       fldg      fnetg\n",
       "pressure  level                                 \n",
       "0.0000    1     -22.504461   0.000000 -22.504461\n",
       "1.0685    24    -22.503683   0.002296 -22.501388\n",
       "1013.0000 76    -23.591138  11.781512 -11.809626"
      ]
     },
     "metadata": {},
     "output_type": "display_data"
    },
    {
     "name": "stdout",
     "output_type": "stream",
     "text": [
      "Table. Fluxes. CRD\n"
     ]
    },
    {
     "data": {
      "text/html": [
       "<div>\n",
       "<style>\n",
       "    .dataframe thead tr:only-child th {\n",
       "        text-align: right;\n",
       "    }\n",
       "\n",
       "    .dataframe thead th {\n",
       "        text-align: left;\n",
       "    }\n",
       "\n",
       "    .dataframe tbody tr th {\n",
       "        vertical-align: top;\n",
       "    }\n",
       "</style>\n",
       "<table border=\"1\" class=\"dataframe\">\n",
       "  <thead>\n",
       "    <tr style=\"text-align: right;\">\n",
       "      <th></th>\n",
       "      <th></th>\n",
       "      <th>flug</th>\n",
       "      <th>fldg</th>\n",
       "      <th>fnetg</th>\n",
       "    </tr>\n",
       "    <tr>\n",
       "      <th>pressure</th>\n",
       "      <th>level</th>\n",
       "      <th></th>\n",
       "      <th></th>\n",
       "      <th></th>\n",
       "    </tr>\n",
       "  </thead>\n",
       "  <tbody>\n",
       "    <tr>\n",
       "      <th>1.000000e-08</th>\n",
       "      <th>1</th>\n",
       "      <td>-22.585638</td>\n",
       "      <td>0.000002</td>\n",
       "      <td>-22.585636</td>\n",
       "    </tr>\n",
       "    <tr>\n",
       "      <th>1.068500e+00</th>\n",
       "      <th>24</th>\n",
       "      <td>-22.584803</td>\n",
       "      <td>0.002033</td>\n",
       "      <td>-22.582769</td>\n",
       "    </tr>\n",
       "    <tr>\n",
       "      <th>1.013000e+03</th>\n",
       "      <th>76</th>\n",
       "      <td>-23.591141</td>\n",
       "      <td>11.431478</td>\n",
       "      <td>-12.159663</td>\n",
       "    </tr>\n",
       "  </tbody>\n",
       "</table>\n",
       "</div>"
      ],
      "text/plain": [
       "                         flug       fldg      fnetg\n",
       "pressure     level                                 \n",
       "1.000000e-08 1     -22.585638   0.000002 -22.585636\n",
       "1.068500e+00 24    -22.584803   0.002033 -22.582769\n",
       "1.013000e+03 76    -23.591141  11.431478 -12.159663"
      ]
     },
     "metadata": {},
     "output_type": "display_data"
    },
    {
     "name": "stdout",
     "output_type": "stream",
     "text": [
      "Table. Fluxes. CLIRAD\n"
     ]
    },
    {
     "data": {
      "text/html": [
       "<div>\n",
       "<style>\n",
       "    .dataframe thead tr:only-child th {\n",
       "        text-align: right;\n",
       "    }\n",
       "\n",
       "    .dataframe thead th {\n",
       "        text-align: left;\n",
       "    }\n",
       "\n",
       "    .dataframe tbody tr th {\n",
       "        vertical-align: top;\n",
       "    }\n",
       "</style>\n",
       "<table border=\"1\" class=\"dataframe\">\n",
       "  <thead>\n",
       "    <tr style=\"text-align: right;\">\n",
       "      <th></th>\n",
       "      <th></th>\n",
       "      <th>flug</th>\n",
       "      <th>fldg</th>\n",
       "      <th>fnetg</th>\n",
       "    </tr>\n",
       "    <tr>\n",
       "      <th>pressure</th>\n",
       "      <th>level</th>\n",
       "      <th></th>\n",
       "      <th></th>\n",
       "      <th></th>\n",
       "    </tr>\n",
       "  </thead>\n",
       "  <tbody>\n",
       "    <tr>\n",
       "      <th>0.0000</th>\n",
       "      <th>1</th>\n",
       "      <td>-2.457580e-04</td>\n",
       "      <td>0.000000</td>\n",
       "      <td>-0.000246</td>\n",
       "    </tr>\n",
       "    <tr>\n",
       "      <th>1.0685</th>\n",
       "      <th>24</th>\n",
       "      <td>-2.643440e-04</td>\n",
       "      <td>0.000262</td>\n",
       "      <td>-0.000002</td>\n",
       "    </tr>\n",
       "    <tr>\n",
       "      <th>1013.0000</th>\n",
       "      <th>76</th>\n",
       "      <td>-6.190000e-07</td>\n",
       "      <td>0.179210</td>\n",
       "      <td>0.179210</td>\n",
       "    </tr>\n",
       "  </tbody>\n",
       "</table>\n",
       "</div>"
      ],
      "text/plain": [
       "                         flug      fldg     fnetg\n",
       "pressure  level                                  \n",
       "0.0000    1     -2.457580e-04  0.000000 -0.000246\n",
       "1.0685    24    -2.643440e-04  0.000262 -0.000002\n",
       "1013.0000 76    -6.190000e-07  0.179210  0.179210"
      ]
     },
     "metadata": {},
     "output_type": "display_data"
    },
    {
     "name": "stdout",
     "output_type": "stream",
     "text": [
      "Table. Fluxes. (CRD) - (WGT igg=10 wgt_flux=1)\n"
     ]
    },
    {
     "data": {
      "text/html": [
       "<div>\n",
       "<style>\n",
       "    .dataframe thead tr:only-child th {\n",
       "        text-align: right;\n",
       "    }\n",
       "\n",
       "    .dataframe thead th {\n",
       "        text-align: left;\n",
       "    }\n",
       "\n",
       "    .dataframe tbody tr th {\n",
       "        vertical-align: top;\n",
       "    }\n",
       "</style>\n",
       "<table border=\"1\" class=\"dataframe\">\n",
       "  <thead>\n",
       "    <tr style=\"text-align: right;\">\n",
       "      <th></th>\n",
       "      <th></th>\n",
       "      <th>flug</th>\n",
       "      <th>fldg</th>\n",
       "      <th>fnetg</th>\n",
       "    </tr>\n",
       "    <tr>\n",
       "      <th>pressure</th>\n",
       "      <th>level</th>\n",
       "      <th></th>\n",
       "      <th></th>\n",
       "      <th></th>\n",
       "    </tr>\n",
       "  </thead>\n",
       "  <tbody>\n",
       "    <tr>\n",
       "      <th>0.0000</th>\n",
       "      <th>1</th>\n",
       "      <td>-0.081423</td>\n",
       "      <td>0.000002</td>\n",
       "      <td>-0.081421</td>\n",
       "    </tr>\n",
       "    <tr>\n",
       "      <th>1.0685</th>\n",
       "      <th>24</th>\n",
       "      <td>-0.081384</td>\n",
       "      <td>-0.000001</td>\n",
       "      <td>-0.081383</td>\n",
       "    </tr>\n",
       "    <tr>\n",
       "      <th>1013.0000</th>\n",
       "      <th>76</th>\n",
       "      <td>-0.000004</td>\n",
       "      <td>-0.170824</td>\n",
       "      <td>-0.170827</td>\n",
       "    </tr>\n",
       "  </tbody>\n",
       "</table>\n",
       "</div>"
      ],
      "text/plain": [
       "                     flug      fldg     fnetg\n",
       "pressure  level                              \n",
       "0.0000    1     -0.081423  0.000002 -0.081421\n",
       "1.0685    24    -0.081384 -0.000001 -0.081383\n",
       "1013.0000 76    -0.000004 -0.170824 -0.170827"
      ]
     },
     "metadata": {},
     "output_type": "display_data"
    },
    {
     "name": "stdout",
     "output_type": "stream",
     "text": [
      "Table. Fluxes. (CLIRAD) - (WGT igg=10 wgt_flux=1)\n"
     ]
    },
    {
     "data": {
      "text/html": [
       "<a id=\"Best-fit_Parameters\"></a>"
      ],
      "text/plain": [
       "<IPython.core.display.HTML object>"
      ]
     },
     "metadata": {},
     "output_type": "display_data"
    },
    {
     "data": {
      "text/markdown": [
       "# Best-fit Parameters"
      ],
      "text/plain": [
       "<IPython.core.display.Markdown object>"
      ]
     },
     "metadata": {},
     "output_type": "display_data"
    },
    {
     "name": "stdout",
     "output_type": "stream",
     "text": [
      "Best-fit values for each (gas, band)\n",
      "------------------------------------\n",
      "o h2o band3a\n",
      "  atmpro = mls\n",
      "  band = 3a\n",
      "  commitnumber = 2bd1f75\n",
      "  conc = None\n",
      "  dv = 0.01\n",
      "  klin = 0\n",
      "  molecule = h2o\n",
      "  ng_adju = [0, 0]\n",
      "  ng_refs = [2, 6]\n",
      "  nv = 100\n",
      "  option_compute_btable = 0\n",
      "  option_compute_ktable = 1\n",
      "  option_wgt_flux = 1\n",
      "  option_wgt_k = 1\n",
      "  ref_pts = [(10, 250), (600, 250)]\n",
      "  tsfc = 294\n",
      "  vmax = 620\n",
      "  vmin = 540\n",
      "  w_diffuse = [(1.9, 1.7), (1.4, 1.4, 1.4, 1.55, 1.6, 1.66)]\n",
      "  wgt = [(0.7, 0.7), (0.7, 0.5, 0.5, 0.5, 0.5, 0.5)]\n"
     ]
    }
   ],
   "source": [
    "script()"
   ]
  },
  {
   "cell_type": "code",
   "execution_count": 13,
   "metadata": {
    "collapsed": true
   },
   "outputs": [
    {
     "data": {
      "text/html": [
       "<script>\n",
       "code_show=true; \n",
       "function code_toggle() {\n",
       " if (code_show){\n",
       " $('div.input').hide();\n",
       " } else {\n",
       " $('div.input').show();\n",
       " }\n",
       " code_show = !code_show\n",
       "} \n",
       "$( document ).ready(code_toggle);\n",
       "</script>\n",
       "<form action=\"javascript:code_toggle()\"><input type=\"submit\" value=\"Click here to toggle on/off the raw code.\"></form>"
      ],
      "text/plain": [
       "<IPython.core.display.HTML object>"
      ]
     },
     "execution_count": 13,
     "metadata": {},
     "output_type": "execute_result"
    }
   ],
   "source": [
    "display.HTML('''<script>\n",
    "code_show=true; \n",
    "function code_toggle() {\n",
    " if (code_show){\n",
    " $('div.input').hide();\n",
    " } else {\n",
    " $('div.input').show();\n",
    " }\n",
    " code_show = !code_show\n",
    "} \n",
    "$( document ).ready(code_toggle);\n",
    "</script>\n",
    "<form action=\"javascript:code_toggle()\"><input type=\"submit\" value=\"Click here to toggle on/off the raw code.\"></form>''')"
   ]
  }
 ],
 "metadata": {
  "kernelspec": {
   "display_name": "Python 3",
   "language": "python",
   "name": "python3"
  },
  "language_info": {
   "codemirror_mode": {
    "name": "ipython",
    "version": 3
   },
   "file_extension": ".py",
   "mimetype": "text/x-python",
   "name": "python",
   "nbconvert_exporter": "python",
   "pygments_lexer": "ipython3",
   "version": "3.6.1"
  }
 },
 "nbformat": 4,
 "nbformat_minor": 2
}
