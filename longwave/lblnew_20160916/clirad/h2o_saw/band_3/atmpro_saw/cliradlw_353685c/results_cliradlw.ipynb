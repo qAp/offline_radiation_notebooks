{
 "cells": [
  {
   "cell_type": "code",
   "execution_count": 1,
   "metadata": {
    "collapsed": true
   },
   "outputs": [],
   "source": [
    "%matplotlib inline\n",
    "import os\n",
    "import re\n",
    "import io\n",
    "import itertools\n",
    "import pprint\n",
    "\n",
    "from bokeh.io import output_notebook, show\n",
    "from bokeh.layouts import gridplot\n",
    "from bokeh.plotting import figure\n",
    "from bokeh.models import Range1d, Legend\n",
    "from bokeh.palettes import all_palettes\n",
    "\n",
    "import matplotlib\n",
    "import matplotlib.pyplot as plt\n",
    "import numpy as np\n",
    "import pandas as pd\n",
    "import xarray as xr\n",
    "\n",
    "import climatools.lblnew.bestfit_params as bestfits\n",
    "from climatools.lblnew import setup_bestfit, setup_overlap\n",
    "import climatools.lblnew.pipeline as pipe_lblnew\n",
    "import climatools.cliradlw.setup as setup_cliradlw\n",
    "import climatools.cliradlw.pipeline as pipe_cliradlw\n",
    "\n",
    "import climatools.html.html as climahtml\n",
    "from climatools.lblnew.dataio import *\n",
    "from climatools.plot.plot import *\n",
    "\n",
    "\n",
    "import IPython.display as display"
   ]
  },
  {
   "cell_type": "code",
   "execution_count": 2,
   "metadata": {
    "collapsed": true
   },
   "outputs": [],
   "source": [
    "%run param.py"
   ]
  },
  {
   "cell_type": "code",
   "execution_count": 3,
   "metadata": {
    "collapsed": true
   },
   "outputs": [],
   "source": [
    "def load_output_file(path_csv):\n",
    "    '''\n",
    "    Load lblnew output .csv file to xarray.Dataset\n",
    "    \n",
    "    Parameters\n",
    "    ----------\n",
    "    path_csv: str\n",
    "              Path to the .csv file to be loaded.\n",
    "    ds: xarray.Dataset\n",
    "        Data in the input file in the form of an xarray.Dataset.\n",
    "    '''\n",
    "    toindex = ['band', 'pressure', 'igg', 'g']    \n",
    "    df = pd.read_csv(path_csv, sep=r'\\s+')\n",
    "    df = df.set_index([i for i in toindex if i in df.columns])\n",
    "    df = df.rename(columns={'sfu': 'flug',\n",
    "                            'sfd': 'fldg',\n",
    "                            'fnet': 'fnetg',\n",
    "                            'coolr': 'coolrg'})\n",
    "    ds = xr.Dataset.from_dataframe(df)\n",
    "\n",
    "    for l in ('level', 'layer'):\n",
    "        if l in ds.data_vars:\n",
    "            if len(ds[l].dims) > 1:\n",
    "                surface = {d: 0 for d in ds.dims if d != 'pressure'}\n",
    "                coord_level = ds[l][surface]\n",
    "                ds.coords[l] = ('pressure', coord_level)\n",
    "            else:\n",
    "                ds.coords[l] = ('pressure', ds[l])\n",
    "    \n",
    "    return ds"
   ]
  },
  {
   "cell_type": "code",
   "execution_count": 4,
   "metadata": {
    "collapsed": true
   },
   "outputs": [],
   "source": [
    "def lblnew_setup(param=None):\n",
    "    if 'ng_refs' in param:\n",
    "        return {'setup': setup_bestfit,\n",
    "                'fname_flux_crd': 'output_flux.dat',\n",
    "                'fname_cool_crd': 'output_coolr.dat',\n",
    "                'fname_flux_wgt': 'output_wfluxg.dat',\n",
    "                'fname_cool_wgt': 'output_wcoolrg.dat'}\n",
    "    else:\n",
    "        return {'setup': setup_overlap,\n",
    "                'fname_flux_crd': 'output_flux.dat',\n",
    "                'fname_cool_crd': 'output_coolr.dat',\n",
    "                'fname_flux_wgt': 'output_wflux.dat',\n",
    "                'fname_cool_wgt': 'output_wcoolr.dat'}\n",
    "\n",
    "    \n",
    "def load_lblnew_data(param):\n",
    "    \n",
    "    fname_dsname = [('fname_flux_crd', 'ds_flux_crd'),\n",
    "                    ('fname_cool_crd', 'ds_cool_crd'),\n",
    "                    ('fname_flux_wgt', 'ds_flux_wgt'),\n",
    "                    ('fname_cool_wgt', 'ds_cool_wgt')]\n",
    "    \n",
    "    d = lblnew_setup(param)\n",
    "    dir_fortran = pipe_lblnew.get_dir_case(param, setup=d['setup'])\n",
    "    \n",
    "    data_dict = {}\n",
    "    for fname, dsname in fname_dsname:\n",
    "        fpath = os.path.join(dir_fortran, d[fname])\n",
    "        data_dict[dsname] = load_output_file(fpath)\n",
    "    return data_dict\n",
    "    \n",
    "\n",
    "    \n",
    "    "
   ]
  },
  {
   "cell_type": "code",
   "execution_count": 5,
   "metadata": {
    "collapsed": true
   },
   "outputs": [],
   "source": [
    "d = load_lblnew_data(PARAM_LBLNEW)\n",
    "\n",
    "DS_FLUX_CRD = d['ds_flux_crd']\n",
    "DS_COOL_CRD = d['ds_cool_crd']\n",
    "DS_FLUX_WGT = d['ds_flux_wgt']\n",
    "DS_COOL_WGT = d['ds_cool_wgt']"
   ]
  },
  {
   "cell_type": "code",
   "execution_count": 6,
   "metadata": {
    "collapsed": true
   },
   "outputs": [],
   "source": [
    "DIR_FORTRAN = pipe_cliradlw.get_fortran_dir(PARAM, \n",
    "                                            setup=setup_cliradlw)\n",
    "\n",
    "PATH_FLUX = os.path.join(DIR_FORTRAN, 'output_flux.dat')\n",
    "PATH_COOL = os.path.join(DIR_FORTRAN, 'output_coolr.dat')\n",
    "\n",
    "DS_FLUX = load_output_file(PATH_FLUX)\n",
    "DS_COOL = load_output_file(PATH_COOL)"
   ]
  },
  {
   "cell_type": "code",
   "execution_count": 7,
   "metadata": {
    "collapsed": true
   },
   "outputs": [
    {
     "data": {
      "text/html": [
       "\n",
       "    <div class=\"bk-root\">\n",
       "        <a href=\"https://bokeh.pydata.org\" target=\"_blank\" class=\"bk-logo bk-logo-small bk-logo-notebook\"></a>\n",
       "        <span id=\"ffb27f52-1ce1-4814-be29-06d34d081a7b\">Loading BokehJS ...</span>\n",
       "    </div>"
      ]
     },
     "metadata": {},
     "output_type": "display_data"
    },
    {
     "data": {
      "application/javascript": [
       "\n",
       "(function(root) {\n",
       "  function now() {\n",
       "    return new Date();\n",
       "  }\n",
       "\n",
       "  var force = true;\n",
       "\n",
       "  if (typeof (root._bokeh_onload_callbacks) === \"undefined\" || force === true) {\n",
       "    root._bokeh_onload_callbacks = [];\n",
       "    root._bokeh_is_loading = undefined;\n",
       "  }\n",
       "\n",
       "  var JS_MIME_TYPE = 'application/javascript';\n",
       "  var HTML_MIME_TYPE = 'text/html';\n",
       "  var EXEC_MIME_TYPE = 'application/vnd.bokehjs_exec.v0+json';\n",
       "  var CLASS_NAME = 'output_bokeh rendered_html';\n",
       "\n",
       "  /**\n",
       "   * Render data to the DOM node\n",
       "   */\n",
       "  function render(props, node) {\n",
       "    var script = document.createElement(\"script\");\n",
       "    node.appendChild(script);\n",
       "  }\n",
       "\n",
       "  /**\n",
       "   * Handle when an output is cleared or removed\n",
       "   */\n",
       "  function handleClearOutput(event, handle) {\n",
       "    var cell = handle.cell;\n",
       "\n",
       "    var id = cell.output_area._bokeh_element_id;\n",
       "    var server_id = cell.output_area._bokeh_server_id;\n",
       "    // Clean up Bokeh references\n",
       "    if (id !== undefined) {\n",
       "      Bokeh.index[id].model.document.clear();\n",
       "      delete Bokeh.index[id];\n",
       "    }\n",
       "\n",
       "    if (server_id !== undefined) {\n",
       "      // Clean up Bokeh references\n",
       "      var cmd = \"from bokeh.io.state import curstate; print(curstate().uuid_to_server['\" + server_id + \"'].get_sessions()[0].document.roots[0]._id)\";\n",
       "      cell.notebook.kernel.execute(cmd, {\n",
       "        iopub: {\n",
       "          output: function(msg) {\n",
       "            var element_id = msg.content.text.trim();\n",
       "            Bokeh.index[element_id].model.document.clear();\n",
       "            delete Bokeh.index[element_id];\n",
       "          }\n",
       "        }\n",
       "      });\n",
       "      // Destroy server and session\n",
       "      var cmd = \"import bokeh.io.notebook as ion; ion.destroy_server('\" + server_id + \"')\";\n",
       "      cell.notebook.kernel.execute(cmd);\n",
       "    }\n",
       "  }\n",
       "\n",
       "  /**\n",
       "   * Handle when a new output is added\n",
       "   */\n",
       "  function handleAddOutput(event, handle) {\n",
       "    var output_area = handle.output_area;\n",
       "    var output = handle.output;\n",
       "\n",
       "    // limit handleAddOutput to display_data with EXEC_MIME_TYPE content only\n",
       "    if ((output.output_type != \"display_data\") || (!output.data.hasOwnProperty(EXEC_MIME_TYPE))) {\n",
       "      return\n",
       "    }\n",
       "\n",
       "    var toinsert = output_area.element.find(\".\" + CLASS_NAME.split(' ')[0]);\n",
       "\n",
       "    if (output.metadata[EXEC_MIME_TYPE][\"id\"] !== undefined) {\n",
       "      toinsert[0].firstChild.textContent = output.data[JS_MIME_TYPE];\n",
       "      // store reference to embed id on output_area\n",
       "      output_area._bokeh_element_id = output.metadata[EXEC_MIME_TYPE][\"id\"];\n",
       "    }\n",
       "    if (output.metadata[EXEC_MIME_TYPE][\"server_id\"] !== undefined) {\n",
       "      var bk_div = document.createElement(\"div\");\n",
       "      bk_div.innerHTML = output.data[HTML_MIME_TYPE];\n",
       "      var script_attrs = bk_div.children[0].attributes;\n",
       "      for (var i = 0; i < script_attrs.length; i++) {\n",
       "        toinsert[0].firstChild.setAttribute(script_attrs[i].name, script_attrs[i].value);\n",
       "      }\n",
       "      // store reference to server id on output_area\n",
       "      output_area._bokeh_server_id = output.metadata[EXEC_MIME_TYPE][\"server_id\"];\n",
       "    }\n",
       "  }\n",
       "\n",
       "  function register_renderer(events, OutputArea) {\n",
       "\n",
       "    function append_mime(data, metadata, element) {\n",
       "      // create a DOM node to render to\n",
       "      var toinsert = this.create_output_subarea(\n",
       "        metadata,\n",
       "        CLASS_NAME,\n",
       "        EXEC_MIME_TYPE\n",
       "      );\n",
       "      this.keyboard_manager.register_events(toinsert);\n",
       "      // Render to node\n",
       "      var props = {data: data, metadata: metadata[EXEC_MIME_TYPE]};\n",
       "      render(props, toinsert[0]);\n",
       "      element.append(toinsert);\n",
       "      return toinsert\n",
       "    }\n",
       "\n",
       "    /* Handle when an output is cleared or removed */\n",
       "    events.on('clear_output.CodeCell', handleClearOutput);\n",
       "    events.on('delete.Cell', handleClearOutput);\n",
       "\n",
       "    /* Handle when a new output is added */\n",
       "    events.on('output_added.OutputArea', handleAddOutput);\n",
       "\n",
       "    /**\n",
       "     * Register the mime type and append_mime function with output_area\n",
       "     */\n",
       "    OutputArea.prototype.register_mime_type(EXEC_MIME_TYPE, append_mime, {\n",
       "      /* Is output safe? */\n",
       "      safe: true,\n",
       "      /* Index of renderer in `output_area.display_order` */\n",
       "      index: 0\n",
       "    });\n",
       "  }\n",
       "\n",
       "  // register the mime type if in Jupyter Notebook environment and previously unregistered\n",
       "  if (root.Jupyter !== undefined) {\n",
       "    var events = require('base/js/events');\n",
       "    var OutputArea = require('notebook/js/outputarea').OutputArea;\n",
       "\n",
       "    if (OutputArea.prototype.mime_types().indexOf(EXEC_MIME_TYPE) == -1) {\n",
       "      register_renderer(events, OutputArea);\n",
       "    }\n",
       "  }\n",
       "\n",
       "  \n",
       "  if (typeof (root._bokeh_timeout) === \"undefined\" || force === true) {\n",
       "    root._bokeh_timeout = Date.now() + 5000;\n",
       "    root._bokeh_failed_load = false;\n",
       "  }\n",
       "\n",
       "  var NB_LOAD_WARNING = {'data': {'text/html':\n",
       "     \"<div style='background-color: #fdd'>\\n\"+\n",
       "     \"<p>\\n\"+\n",
       "     \"BokehJS does not appear to have successfully loaded. If loading BokehJS from CDN, this \\n\"+\n",
       "     \"may be due to a slow or bad network connection. Possible fixes:\\n\"+\n",
       "     \"</p>\\n\"+\n",
       "     \"<ul>\\n\"+\n",
       "     \"<li>re-rerun `output_notebook()` to attempt to load from CDN again, or</li>\\n\"+\n",
       "     \"<li>use INLINE resources instead, as so:</li>\\n\"+\n",
       "     \"</ul>\\n\"+\n",
       "     \"<code>\\n\"+\n",
       "     \"from bokeh.resources import INLINE\\n\"+\n",
       "     \"output_notebook(resources=INLINE)\\n\"+\n",
       "     \"</code>\\n\"+\n",
       "     \"</div>\"}};\n",
       "\n",
       "  function display_loaded() {\n",
       "    var el = document.getElementById(\"ffb27f52-1ce1-4814-be29-06d34d081a7b\");\n",
       "    if (el != null) {\n",
       "      el.textContent = \"BokehJS is loading...\";\n",
       "    }\n",
       "    if (root.Bokeh !== undefined) {\n",
       "      if (el != null) {\n",
       "        el.textContent = \"BokehJS \" + root.Bokeh.version + \" successfully loaded.\";\n",
       "      }\n",
       "    } else if (Date.now() < root._bokeh_timeout) {\n",
       "      setTimeout(display_loaded, 100)\n",
       "    }\n",
       "  }\n",
       "\n",
       "\n",
       "  function run_callbacks() {\n",
       "    try {\n",
       "      root._bokeh_onload_callbacks.forEach(function(callback) { callback() });\n",
       "    }\n",
       "    finally {\n",
       "      delete root._bokeh_onload_callbacks\n",
       "    }\n",
       "    console.info(\"Bokeh: all callbacks have finished\");\n",
       "  }\n",
       "\n",
       "  function load_libs(js_urls, callback) {\n",
       "    root._bokeh_onload_callbacks.push(callback);\n",
       "    if (root._bokeh_is_loading > 0) {\n",
       "      console.log(\"Bokeh: BokehJS is being loaded, scheduling callback at\", now());\n",
       "      return null;\n",
       "    }\n",
       "    if (js_urls == null || js_urls.length === 0) {\n",
       "      run_callbacks();\n",
       "      return null;\n",
       "    }\n",
       "    console.log(\"Bokeh: BokehJS not loaded, scheduling load and callback at\", now());\n",
       "    root._bokeh_is_loading = js_urls.length;\n",
       "    for (var i = 0; i < js_urls.length; i++) {\n",
       "      var url = js_urls[i];\n",
       "      var s = document.createElement('script');\n",
       "      s.src = url;\n",
       "      s.async = false;\n",
       "      s.onreadystatechange = s.onload = function() {\n",
       "        root._bokeh_is_loading--;\n",
       "        if (root._bokeh_is_loading === 0) {\n",
       "          console.log(\"Bokeh: all BokehJS libraries loaded\");\n",
       "          run_callbacks()\n",
       "        }\n",
       "      };\n",
       "      s.onerror = function() {\n",
       "        console.warn(\"failed to load library \" + url);\n",
       "      };\n",
       "      console.log(\"Bokeh: injecting script tag for BokehJS library: \", url);\n",
       "      document.getElementsByTagName(\"head\")[0].appendChild(s);\n",
       "    }\n",
       "  };var element = document.getElementById(\"ffb27f52-1ce1-4814-be29-06d34d081a7b\");\n",
       "  if (element == null) {\n",
       "    console.log(\"Bokeh: ERROR: autoload.js configured with elementid 'ffb27f52-1ce1-4814-be29-06d34d081a7b' but no matching script tag was found. \")\n",
       "    return false;\n",
       "  }\n",
       "\n",
       "  var js_urls = [\"https://cdn.pydata.org/bokeh/release/bokeh-0.12.14.min.js\", \"https://cdn.pydata.org/bokeh/release/bokeh-widgets-0.12.14.min.js\", \"https://cdn.pydata.org/bokeh/release/bokeh-tables-0.12.14.min.js\", \"https://cdn.pydata.org/bokeh/release/bokeh-gl-0.12.14.min.js\"];\n",
       "\n",
       "  var inline_js = [\n",
       "    function(Bokeh) {\n",
       "      Bokeh.set_log_level(\"info\");\n",
       "    },\n",
       "    \n",
       "    function(Bokeh) {\n",
       "      \n",
       "    },\n",
       "    function(Bokeh) {\n",
       "      console.log(\"Bokeh: injecting CSS: https://cdn.pydata.org/bokeh/release/bokeh-0.12.14.min.css\");\n",
       "      Bokeh.embed.inject_css(\"https://cdn.pydata.org/bokeh/release/bokeh-0.12.14.min.css\");\n",
       "      console.log(\"Bokeh: injecting CSS: https://cdn.pydata.org/bokeh/release/bokeh-widgets-0.12.14.min.css\");\n",
       "      Bokeh.embed.inject_css(\"https://cdn.pydata.org/bokeh/release/bokeh-widgets-0.12.14.min.css\");\n",
       "      console.log(\"Bokeh: injecting CSS: https://cdn.pydata.org/bokeh/release/bokeh-tables-0.12.14.min.css\");\n",
       "      Bokeh.embed.inject_css(\"https://cdn.pydata.org/bokeh/release/bokeh-tables-0.12.14.min.css\");\n",
       "    }\n",
       "  ];\n",
       "\n",
       "  function run_inline_js() {\n",
       "    \n",
       "    if ((root.Bokeh !== undefined) || (force === true)) {\n",
       "      for (var i = 0; i < inline_js.length; i++) {\n",
       "        inline_js[i].call(root, root.Bokeh);\n",
       "      }if (force === true) {\n",
       "        display_loaded();\n",
       "      }} else if (Date.now() < root._bokeh_timeout) {\n",
       "      setTimeout(run_inline_js, 100);\n",
       "    } else if (!root._bokeh_failed_load) {\n",
       "      console.log(\"Bokeh: BokehJS failed to load within specified timeout.\");\n",
       "      root._bokeh_failed_load = true;\n",
       "    } else if (force !== true) {\n",
       "      var cell = $(document.getElementById(\"ffb27f52-1ce1-4814-be29-06d34d081a7b\")).parents('.cell').data().cell;\n",
       "      cell.output_area.append_execute_result(NB_LOAD_WARNING)\n",
       "    }\n",
       "\n",
       "  }\n",
       "\n",
       "  if (root._bokeh_is_loading === 0) {\n",
       "    console.log(\"Bokeh: BokehJS loaded, going straight to plotting\");\n",
       "    run_inline_js();\n",
       "  } else {\n",
       "    load_libs(js_urls, function() {\n",
       "      console.log(\"Bokeh: BokehJS plotting callback run at\", now());\n",
       "      run_inline_js();\n",
       "    });\n",
       "  }\n",
       "}(window));"
      ],
      "application/vnd.bokehjs_load.v0+json": "\n(function(root) {\n  function now() {\n    return new Date();\n  }\n\n  var force = true;\n\n  if (typeof (root._bokeh_onload_callbacks) === \"undefined\" || force === true) {\n    root._bokeh_onload_callbacks = [];\n    root._bokeh_is_loading = undefined;\n  }\n\n  \n\n  \n  if (typeof (root._bokeh_timeout) === \"undefined\" || force === true) {\n    root._bokeh_timeout = Date.now() + 5000;\n    root._bokeh_failed_load = false;\n  }\n\n  var NB_LOAD_WARNING = {'data': {'text/html':\n     \"<div style='background-color: #fdd'>\\n\"+\n     \"<p>\\n\"+\n     \"BokehJS does not appear to have successfully loaded. If loading BokehJS from CDN, this \\n\"+\n     \"may be due to a slow or bad network connection. Possible fixes:\\n\"+\n     \"</p>\\n\"+\n     \"<ul>\\n\"+\n     \"<li>re-rerun `output_notebook()` to attempt to load from CDN again, or</li>\\n\"+\n     \"<li>use INLINE resources instead, as so:</li>\\n\"+\n     \"</ul>\\n\"+\n     \"<code>\\n\"+\n     \"from bokeh.resources import INLINE\\n\"+\n     \"output_notebook(resources=INLINE)\\n\"+\n     \"</code>\\n\"+\n     \"</div>\"}};\n\n  function display_loaded() {\n    var el = document.getElementById(\"ffb27f52-1ce1-4814-be29-06d34d081a7b\");\n    if (el != null) {\n      el.textContent = \"BokehJS is loading...\";\n    }\n    if (root.Bokeh !== undefined) {\n      if (el != null) {\n        el.textContent = \"BokehJS \" + root.Bokeh.version + \" successfully loaded.\";\n      }\n    } else if (Date.now() < root._bokeh_timeout) {\n      setTimeout(display_loaded, 100)\n    }\n  }\n\n\n  function run_callbacks() {\n    try {\n      root._bokeh_onload_callbacks.forEach(function(callback) { callback() });\n    }\n    finally {\n      delete root._bokeh_onload_callbacks\n    }\n    console.info(\"Bokeh: all callbacks have finished\");\n  }\n\n  function load_libs(js_urls, callback) {\n    root._bokeh_onload_callbacks.push(callback);\n    if (root._bokeh_is_loading > 0) {\n      console.log(\"Bokeh: BokehJS is being loaded, scheduling callback at\", now());\n      return null;\n    }\n    if (js_urls == null || js_urls.length === 0) {\n      run_callbacks();\n      return null;\n    }\n    console.log(\"Bokeh: BokehJS not loaded, scheduling load and callback at\", now());\n    root._bokeh_is_loading = js_urls.length;\n    for (var i = 0; i < js_urls.length; i++) {\n      var url = js_urls[i];\n      var s = document.createElement('script');\n      s.src = url;\n      s.async = false;\n      s.onreadystatechange = s.onload = function() {\n        root._bokeh_is_loading--;\n        if (root._bokeh_is_loading === 0) {\n          console.log(\"Bokeh: all BokehJS libraries loaded\");\n          run_callbacks()\n        }\n      };\n      s.onerror = function() {\n        console.warn(\"failed to load library \" + url);\n      };\n      console.log(\"Bokeh: injecting script tag for BokehJS library: \", url);\n      document.getElementsByTagName(\"head\")[0].appendChild(s);\n    }\n  };var element = document.getElementById(\"ffb27f52-1ce1-4814-be29-06d34d081a7b\");\n  if (element == null) {\n    console.log(\"Bokeh: ERROR: autoload.js configured with elementid 'ffb27f52-1ce1-4814-be29-06d34d081a7b' but no matching script tag was found. \")\n    return false;\n  }\n\n  var js_urls = [\"https://cdn.pydata.org/bokeh/release/bokeh-0.12.14.min.js\", \"https://cdn.pydata.org/bokeh/release/bokeh-widgets-0.12.14.min.js\", \"https://cdn.pydata.org/bokeh/release/bokeh-tables-0.12.14.min.js\", \"https://cdn.pydata.org/bokeh/release/bokeh-gl-0.12.14.min.js\"];\n\n  var inline_js = [\n    function(Bokeh) {\n      Bokeh.set_log_level(\"info\");\n    },\n    \n    function(Bokeh) {\n      \n    },\n    function(Bokeh) {\n      console.log(\"Bokeh: injecting CSS: https://cdn.pydata.org/bokeh/release/bokeh-0.12.14.min.css\");\n      Bokeh.embed.inject_css(\"https://cdn.pydata.org/bokeh/release/bokeh-0.12.14.min.css\");\n      console.log(\"Bokeh: injecting CSS: https://cdn.pydata.org/bokeh/release/bokeh-widgets-0.12.14.min.css\");\n      Bokeh.embed.inject_css(\"https://cdn.pydata.org/bokeh/release/bokeh-widgets-0.12.14.min.css\");\n      console.log(\"Bokeh: injecting CSS: https://cdn.pydata.org/bokeh/release/bokeh-tables-0.12.14.min.css\");\n      Bokeh.embed.inject_css(\"https://cdn.pydata.org/bokeh/release/bokeh-tables-0.12.14.min.css\");\n    }\n  ];\n\n  function run_inline_js() {\n    \n    if ((root.Bokeh !== undefined) || (force === true)) {\n      for (var i = 0; i < inline_js.length; i++) {\n        inline_js[i].call(root, root.Bokeh);\n      }if (force === true) {\n        display_loaded();\n      }} else if (Date.now() < root._bokeh_timeout) {\n      setTimeout(run_inline_js, 100);\n    } else if (!root._bokeh_failed_load) {\n      console.log(\"Bokeh: BokehJS failed to load within specified timeout.\");\n      root._bokeh_failed_load = true;\n    } else if (force !== true) {\n      var cell = $(document.getElementById(\"ffb27f52-1ce1-4814-be29-06d34d081a7b\")).parents('.cell').data().cell;\n      cell.output_area.append_execute_result(NB_LOAD_WARNING)\n    }\n\n  }\n\n  if (root._bokeh_is_loading === 0) {\n    console.log(\"Bokeh: BokehJS loaded, going straight to plotting\");\n    run_inline_js();\n  } else {\n    load_libs(js_urls, function() {\n      console.log(\"Bokeh: BokehJS plotting callback run at\", now());\n      run_inline_js();\n    });\n  }\n}(window));"
     },
     "metadata": {},
     "output_type": "display_data"
    }
   ],
   "source": [
    "output_notebook()"
   ]
  },
  {
   "cell_type": "code",
   "execution_count": 8,
   "metadata": {
    "collapsed": true
   },
   "outputs": [],
   "source": [
    "def fmt_cool(ds_in):\n",
    "    ds = ds_in.copy(deep=True)\n",
    "    if 'igg' in ds.dims:\n",
    "        ds = ds.sel(igg=1)\n",
    "\n",
    "    if 'g' in ds.dims:\n",
    "        ds = ds.sum('g')\n",
    "            \n",
    "    if 'band' in ds.dims:\n",
    "        try:\n",
    "            ds = ds.squeeze('band')\n",
    "        except ValueError:\n",
    "            ds = ds.sum('band')\n",
    "                \n",
    "    return ds['coolrg']\n",
    "\n",
    "\n",
    "def pltdata_cooling_1(ds_cool=None,\n",
    "                      ds_cool_crd=None, ds_cool_wgt=None):\n",
    "    \n",
    "\n",
    "\n",
    "    colors = all_palettes['Set1'][4]\n",
    "    data = [{'label': 'CLIRAD `coolr_bands`',\n",
    "             'srs': fmt_cool(ds_cool),\n",
    "             'line_dash': 'dashed', 'line_width': 5,\n",
    "             'color': colors[0], 'alpha': .6},\n",
    "            {'label': 'CRD',\n",
    "             'srs': fmt_cool(ds_cool_crd),\n",
    "             'line_dash': 'solid', 'line_width': 1.5,\n",
    "             'marker': 'circle', 'marker_size': 5,\n",
    "             'color': colors[2], 'alpha': 1,},\n",
    "            {'label': 'WGT igg=10 wgt_flux=2',\n",
    "             'srs': fmt_cool(ds_cool_wgt),\n",
    "             'line_dash': 'solid', 'line_width': 3,\n",
    "             'marker': 'square', 'marker_size': 5,\n",
    "             'color': colors[3], 'alpha': .6}]\n",
    "    return data\n",
    "\n",
    "\n",
    "def nice_xlims(pltdata=None, prange=None):\n",
    "    \n",
    "    def get_slice(srs):\n",
    "        return srs.sel(pressure=slice(*prange))\n",
    "    \n",
    "    srss = [d['srs'] for d in pltdata]\n",
    "    vmin = min([get_slice(srs).min() for srs in srss])\n",
    "    vmax = max([get_slice(srs).max() for srs in srss])\n",
    "    dv = (vmax - vmin) * .01\n",
    "    return float(vmin - dv), float(vmax + dv)\n",
    "    \n",
    "\n",
    "def plt_cooling_bokeh(pltdata=None):\n",
    "    '''\n",
    "    Plot a list of cooling rate profiles using bokeh.\n",
    "    '''\n",
    "    ymin = 1e-2 \n",
    "    ymax = 1020 \n",
    "        \n",
    "    p1 = figure(title=\"Linear pressure scale\", \n",
    "                plot_width=400)        \n",
    "    xmin, xmax = nice_xlims(pltdata, prange=(50, 1050))\n",
    "    for d in pltdata:\n",
    "        if 'marker' in d:\n",
    "            getattr(p1, d['marker'])(d['srs'].values, \n",
    "                    d['srs'].coords['pressure'].values,\n",
    "                    color=d['color'], alpha=.7)\n",
    "        p1.line(d['srs'].values, \n",
    "                d['srs'].coords['pressure'].values,\n",
    "                color=d['color'], alpha=d['alpha'], \n",
    "                line_width=d['line_width'], line_dash=d['line_dash'])\n",
    "    \n",
    "    p1.y_range = Range1d(ymax, ymin)\n",
    "    p1.yaxis.axis_label = 'pressure [mb]'   \n",
    "    p1.x_range = Range1d(xmin, xmax)\n",
    "    p1.xaxis.axis_label = 'cooling rate [K/day]'\n",
    "            \n",
    "    p2 = figure(title='Log pressure scale', y_axis_type='log',\n",
    "                plot_width=560)\n",
    "    xmin, xmax = nice_xlims(pltdata, prange=(.01, 200))\n",
    "    \n",
    "    rs = []\n",
    "    for d in pltdata:\n",
    "        rd = []\n",
    "        if 'marker' in d:\n",
    "            r_mark = getattr(p2, d['marker'])(d['srs'].values, \n",
    "                        d['srs'].coords['pressure'].values,\n",
    "                        color=d['color'], alpha=.7)\n",
    "            rd.append(r_mark)\n",
    "        r_line = p2.line(d['srs'].values, \n",
    "                    d['srs'].coords['pressure'].values,\n",
    "                    color=d['color'], alpha=d['alpha'], \n",
    "                    line_width=d['line_width'], line_dash=d['line_dash'])\n",
    "        rd.append(r_line)\n",
    "      \n",
    "        rs.append(rd)\n",
    "        \n",
    "    p2.y_range = Range1d(ymax, ymin)  \n",
    "    p2.yaxis.axis_label = 'pressure [mb]'\n",
    "    \n",
    "    p2.x_range = Range1d(xmin, xmax)\n",
    "    p2.xaxis.axis_label = 'cooling rate [K/day]'\n",
    "    \n",
    "    items = [(d['label'], r) for r, d in zip(rs, pltdata)]\n",
    "    legend = Legend(items=items, location=(10, -30))\n",
    "    legend.label_text_font_size = '8pt'\n",
    "    \n",
    "    p2.add_layout(legend, 'right')  \n",
    "    \n",
    "    show(gridplot(p1, p2, ncols=2, plot_height=500))\n",
    "    \n",
    "\n",
    "def script_plt_cooling():\n",
    "    pltdata = pltdata_cooling_1(\n",
    "        ds_cool=DS_COOL,\n",
    "        ds_cool_crd=DS_COOL_CRD,\n",
    "        ds_cool_wgt=DS_COOL_WGT)\n",
    "    plt_cooling_bokeh(pltdata=pltdata)\n",
    "    print('''FIGURE. Cooling rate profiles.''')"
   ]
  },
  {
   "cell_type": "code",
   "execution_count": 9,
   "metadata": {
    "collapsed": true
   },
   "outputs": [],
   "source": [
    "def fmt_flux(ds_in):\n",
    "    ds = ds_in.copy(deep=True)\n",
    "    \n",
    "    for l in ('level', 'layer'):\n",
    "        if l in ds.data_vars:\n",
    "            if len(ds[l].dims) > 1:\n",
    "                surface = {d: 0 for d in ds.dims if d != 'pressure'}\n",
    "                coord_level = ds[l][surface]\n",
    "                ds.coords[l] = ('pressure', coord_level)\n",
    "            else:\n",
    "                ds.coords[l] = ('pressure', ds[l])\n",
    "        \n",
    "    ds = ds.isel(pressure=[0, 23, -1])\n",
    "        \n",
    "    if 'igg' in ds.dims:\n",
    "        ds = ds.sel(igg=[1])\n",
    "        ds = ds.squeeze('igg').drop('igg')\n",
    "    \n",
    "    if 'g' in ds.dims:\n",
    "        ds = ds.sum('g')\n",
    "            \n",
    "    if 'band' in ds.dims:\n",
    "        try:\n",
    "            ds = ds.squeeze('band').drop('band')\n",
    "        except ValueError:\n",
    "            ds = ds.sum('band')\n",
    "                \n",
    "    df = ds.to_dataframe()\n",
    "    df = df.set_index('level', append=True)               \n",
    "    return df\n",
    "\n",
    "\n",
    "def tbdata_flux(ds_flux=None, ds_flux_crd=None, ds_flux_wgt=None):\n",
    "    ilevels = [0, 23, -1]\n",
    "            \n",
    "    benchmark = {'label': 'WGT igg=10 wgt_flux=1',\n",
    "                 'df': fmt_flux(ds_flux_wgt)}\n",
    "    \n",
    "    tbs = [{'label': 'CRD',\n",
    "            'df': fmt_flux(ds_flux_crd)},\n",
    "           {'label': 'CLIRAD',\n",
    "            'df': fmt_flux(ds_flux)}]\n",
    "    \n",
    "    data = {'benchmark': benchmark, 'others': tbs}\n",
    "    return data\n",
    "\n",
    "\n",
    "def tb_flux(tbdata=None):\n",
    "    benchmark = tbdata['benchmark']\n",
    "    others = tbdata['others']\n",
    "    \n",
    "    def show_tb(d=None):\n",
    "        display.display(d['df'])\n",
    "        print('Table.', 'Fluxes.', d['label'])\n",
    "        \n",
    "    def show_tbdiff(d0=None, d=None):\n",
    "        df = d['df']\n",
    "        df.index = d0['df'].index\n",
    "        display.display(df - d0['df'])\n",
    "        print('Table.', 'Fluxes.', \n",
    "              '({}) - ({})'.format(d['label'], d0['label']))\n",
    "        \n",
    "    show_tb(benchmark)\n",
    "    for d in others:\n",
    "        show_tb(d)\n",
    "        \n",
    "    for d in others:\n",
    "        show_tbdiff(d=d, d0=benchmark)\n",
    "        \n",
    "        \n",
    "def script_tb_flux():\n",
    "    data = tbdata_flux(ds_flux=DS_FLUX,\n",
    "                       ds_flux_crd=DS_FLUX_CRD,\n",
    "                       ds_flux_wgt=DS_FLUX_WGT)\n",
    "    tb_flux(tbdata=data)"
   ]
  },
  {
   "cell_type": "code",
   "execution_count": 10,
   "metadata": {
    "collapsed": true
   },
   "outputs": [],
   "source": [
    "def band_map():\n",
    "    '''\n",
    "    Maps spectral bands in lblnew to spectral bands in clirad.\n",
    "    '''\n",
    "    lblnew2clirad = {'1': '1',\n",
    "            '2': '2',\n",
    "            '3a': '3',\n",
    "            '3b': '4',\n",
    "            '3c': '5',\n",
    "            '4': '6', \n",
    "            '5': '7',\n",
    "            '6': '8',\n",
    "            '7': '9', \n",
    "            '8': '10',\n",
    "            '9': '11'}\n",
    "    \n",
    "    clirad2lblnew = {clirad: lblnew \n",
    "                     for lblnew, clirad in lblnew2clirad.items()}\n",
    "    return clirad2lblnew\n",
    "\n",
    "\n",
    "def gasbands():\n",
    "    bmap = band_map()\n",
    "    gases = list(PARAM['molecule'].keys())\n",
    "    \n",
    "    bands = [bmap[str(b)] for b in PARAM['band']]\n",
    "    return list(itertools.product(gases, bands))\n",
    "\n",
    "\n",
    "def print_bestfit_params():\n",
    "    print('Best-fit values for each (gas, band)')\n",
    "    print('------------------------------------')\n",
    "    for gas, band in gasbands():\n",
    "        print('o {} band{}'.format(gas, band))\n",
    "        param = bestfits.kdist_params(molecule=gas, band=band)\n",
    "        for name, value in sorted(param.items()):\n",
    "            print(2 * ' ' + '{} = {}'.format(name, value))\n",
    "\n",
    "        \n",
    "def print_input_param():        \n",
    "    for name, value in PARAM.items():\n",
    "        print('{} = {}'.format(name, value))\n",
    "        \n",
    "        \n",
    "def print_lblnew_param():\n",
    "    for name, value in sorted(PARAM_LBLNEW.items()):\n",
    "        print('{} = {}'.format(name, value))\n"
   ]
  },
  {
   "cell_type": "code",
   "execution_count": 11,
   "metadata": {
    "collapsed": true,
    "scrolled": false
   },
   "outputs": [],
   "source": [
    "def show_html(s):\n",
    "    display.display(display.HTML(s))\n",
    "\n",
    "    \n",
    "def show_markdown(s):\n",
    "    display.display(display.Markdown(s))\n",
    "\n",
    "    \n",
    "def script():\n",
    "    \n",
    "    title = '### CLIRAD-LW'\n",
    "    s_input = 'Input Parameters'\n",
    "    s_lblnew_param = 'LBLNEW case compaired against'\n",
    "    s_bestfits = 'Best-fit Parameters'\n",
    "    s_plt_cooling = 'Cooling Rate Profiles'\n",
    "    s_tb_flux = 'Flux Comparison'\n",
    "    \n",
    "    # title\n",
    "    show_markdown('### CLIRAD-LW')\n",
    "    \n",
    "    # TOC\n",
    "    show_markdown('### Table of Contents')\n",
    "    show_html(climahtml.getHTML_hrefanchor(s_input))\n",
    "    show_html(climahtml.getHTML_hrefanchor(s_lblnew_param))\n",
    "    show_html(climahtml.getHTML_hrefanchor(s_plt_cooling))\n",
    "    show_html(climahtml.getHTML_hrefanchor(s_tb_flux))\n",
    "    show_html(climahtml.getHTML_hrefanchor(s_bestfits))\n",
    "    \n",
    "    # Input parameters\n",
    "    show_html(climahtml.getHTML_idanchor(s_input))\n",
    "    show_markdown(climahtml.getMarkdown_sectitle(s_input))\n",
    "    print_input_param()\n",
    "    \n",
    "    # LBLNEW parameters \n",
    "    show_html(climahtml.getHTML_idanchor(s_lblnew_param))\n",
    "    show_markdown(climahtml.getMarkdown_sectitle(s_lblnew_param))\n",
    "    print_lblnew_param()\n",
    "    \n",
    "    # Cooling rate profiles\n",
    "    show_html(climahtml.getHTML_idanchor(s_plt_cooling))\n",
    "    show_markdown(climahtml.getMarkdown_sectitle(s_plt_cooling))\n",
    "    script_plt_cooling()\n",
    "    \n",
    "    # Flux comparison\n",
    "    show_html(climahtml.getHTML_idanchor(s_tb_flux))\n",
    "    show_markdown(climahtml.getMarkdown_sectitle(s_tb_flux))\n",
    "    script_tb_flux()\n",
    "    \n",
    "    # Best-fit values\n",
    "    show_html(climahtml.getHTML_idanchor(s_bestfits))\n",
    "    show_markdown(climahtml.getMarkdown_sectitle(s_bestfits))\n",
    "    print_bestfit_params()\n",
    "   \n",
    "    "
   ]
  },
  {
   "cell_type": "code",
   "execution_count": 12,
   "metadata": {
    "collapsed": true,
    "scrolled": false
   },
   "outputs": [
    {
     "data": {
      "text/markdown": [
       "### CLIRAD-LW"
      ],
      "text/plain": [
       "<IPython.core.display.Markdown object>"
      ]
     },
     "metadata": {},
     "output_type": "display_data"
    },
    {
     "data": {
      "text/markdown": [
       "### Table of Contents"
      ],
      "text/plain": [
       "<IPython.core.display.Markdown object>"
      ]
     },
     "metadata": {},
     "output_type": "display_data"
    },
    {
     "data": {
      "text/html": [
       "<a href=\"#Input_Parameters\">Input Parameters</a>"
      ],
      "text/plain": [
       "<IPython.core.display.HTML object>"
      ]
     },
     "metadata": {},
     "output_type": "display_data"
    },
    {
     "data": {
      "text/html": [
       "<a href=\"#LBLNEW_case_compaired_against\">LBLNEW case compaired against</a>"
      ],
      "text/plain": [
       "<IPython.core.display.HTML object>"
      ]
     },
     "metadata": {},
     "output_type": "display_data"
    },
    {
     "data": {
      "text/html": [
       "<a href=\"#Cooling_Rate_Profiles\">Cooling Rate Profiles</a>"
      ],
      "text/plain": [
       "<IPython.core.display.HTML object>"
      ]
     },
     "metadata": {},
     "output_type": "display_data"
    },
    {
     "data": {
      "text/html": [
       "<a href=\"#Flux_Comparison\">Flux Comparison</a>"
      ],
      "text/plain": [
       "<IPython.core.display.HTML object>"
      ]
     },
     "metadata": {},
     "output_type": "display_data"
    },
    {
     "data": {
      "text/html": [
       "<a href=\"#Best-fit_Parameters\">Best-fit Parameters</a>"
      ],
      "text/plain": [
       "<IPython.core.display.HTML object>"
      ]
     },
     "metadata": {},
     "output_type": "display_data"
    },
    {
     "data": {
      "text/html": [
       "<a id=\"Input_Parameters\"></a>"
      ],
      "text/plain": [
       "<IPython.core.display.HTML object>"
      ]
     },
     "metadata": {},
     "output_type": "display_data"
    },
    {
     "data": {
      "text/markdown": [
       "# Input Parameters"
      ],
      "text/plain": [
       "<IPython.core.display.Markdown object>"
      ]
     },
     "metadata": {},
     "output_type": "display_data"
    },
    {
     "name": "stdout",
     "output_type": "stream",
     "text": [
      "atmpro = saw\n",
      "band = [3]\n",
      "commitnumber = 353685c\n",
      "molecule = {'h2o': 'atmpro'}\n",
      "tsfc = 257\n"
     ]
    },
    {
     "data": {
      "text/html": [
       "<a id=\"LBLNEW_case_compaired_against\"></a>"
      ],
      "text/plain": [
       "<IPython.core.display.HTML object>"
      ]
     },
     "metadata": {},
     "output_type": "display_data"
    },
    {
     "data": {
      "text/markdown": [
       "# LBLNEW case compaired against"
      ],
      "text/plain": [
       "<IPython.core.display.Markdown object>"
      ]
     },
     "metadata": {},
     "output_type": "display_data"
    },
    {
     "name": "stdout",
     "output_type": "stream",
     "text": [
      "atmpro = saw\n",
      "band = 3a\n",
      "commitnumber = 2bd1f75\n",
      "conc = None\n",
      "dv = 0.01\n",
      "klin = 0\n",
      "molecule = h2o\n",
      "ng_adju = [0, 0]\n",
      "ng_refs = [2, 6]\n",
      "nv = 100\n",
      "option_compute_btable = 0\n",
      "option_compute_ktable = 0\n",
      "option_wgt_flux = 1\n",
      "option_wgt_k = 1\n",
      "ref_pts = [(10, 250), (600, 250)]\n",
      "tsfc = 257\n",
      "vmax = 620\n",
      "vmin = 540\n",
      "w_diffuse = [(1.9, 1.7), (1.4, 1.4, 1.4, 1.55, 1.6, 1.66)]\n",
      "wgt = [(0.7, 0.7), (0.7, 0.5, 0.5, 0.5, 0.5, 0.5)]\n"
     ]
    },
    {
     "data": {
      "text/html": [
       "<a id=\"Cooling_Rate_Profiles\"></a>"
      ],
      "text/plain": [
       "<IPython.core.display.HTML object>"
      ]
     },
     "metadata": {},
     "output_type": "display_data"
    },
    {
     "data": {
      "text/markdown": [
       "# Cooling Rate Profiles"
      ],
      "text/plain": [
       "<IPython.core.display.Markdown object>"
      ]
     },
     "metadata": {},
     "output_type": "display_data"
    },
    {
     "data": {
      "text/html": [
       "\n",
       "<div class=\"bk-root\">\n",
       "    <div class=\"bk-plotdiv\" id=\"715b6de2-6c93-40d6-a481-609ea31de67d\"></div>\n",
       "</div>"
      ]
     },
     "metadata": {},
     "output_type": "display_data"
    },
    {
     "data": {
      "application/javascript": [
       "(function(root) {\n",
       "  function embed_document(root) {\n",
       "    \n",
       "  var docs_json = {\"4a4fc7f8-927d-4d8d-8d65-7912f2bfc4a5\":{\"roots\":{\"references\":[{\"attributes\":{},\"id\":\"053fecf9-4448-47cf-b64c-fb91c645f3f3\",\"type\":\"BasicTickFormatter\"},{\"attributes\":{},\"id\":\"eea8901c-e886-45ed-9821-1fe4e74b1992\",\"type\":\"BasicTickFormatter\"},{\"attributes\":{\"callback\":null,\"column_names\":[\"x\",\"y\"],\"data\":{\"x\":{\"__ndarray__\":\"h5gn5D7KZD/C0OaZl3pnP+jOzWeScm0/1bWMEZYjcj8sbkZHHvp1P57i2aJjR3o/j5kOFK0Zfz8spxqElDuCPzfegENmNoU/q3tIHqaCiD+oQ35orB6MP6xisDZU+Y8/9eKlSn0hkj82jNbffxyUP7Qz/t04spU/ph14Yd0Llz90oyjNb2OYP32MkaM7s5k/zlHf42D3mj+Zmx799yycPxyCQ6WaJJ0/PBx2Qlz3mj8xvih0cEaVP2fYg6SqZI8/WFNFMI+uhj/r4qFspAWAP7FCTdHqFHY/WEUAezpTbz8IP2z+I4BoPxgVd8+IMWQ/ADcgxSaZYD9gmsRO6F1bP8h5YkritFk/o0KIMrMSXD+qzn2JHldfP1B/B1CdWGE/jD2chVuMYj9AQtVvNPViPwY1m4Zqg2k/NsuO2YXibz9STO0rYBlzPxsqahsEt3Q/OYhiouS9dT+HyQtZs492P2RmgynaPnc/yeoYRwzKej9dgercAjuCP/1AVEL5gIk/bjsU1cAulT/9ghoUhi6hPyzhSCFCvKg/UnUJM99UsD/WNZK4UkW0PzhYNZFkGbg/TwTUSAnJuz/bWz5Qdky/P+1xEaXeT8E/+fv/F1PZwj/w82O8ezrEP/IQ3+yDasU/SNMsEgtjxj8dJF2WIyLHPzs4dXFdqcc/1ClNUrL/xz+7BI6h7zDIP3FY2Nt/R8g//Zv+iR1PyD93/khs0kjIP8nVXROxDMg/ViZfffpXxz8XFljX09TFP2VX1g1GssM/HTY24JiKwT/KeGvLRgi/P7NceFa57bo/\",\"dtype\":\"float64\",\"shape\":[75]},\"y\":{\"__ndarray__\":\"GhExyth1ND/Sv8nbtpRIP2vylNV0PVE/aTum7souWD/At0SJ8fVgPw3Iuahxymc/MSNhhJWvcD/bTfBN02d3P2zb5nxnaoA/CD5h5MAGhz8NmeH1TyaQP+zrCsc9p5Y/LbKd76fGnz/bLW5ISEmmPww9YvTcQq8/JV2OstnstT8Er5Y7M8G+P0c+r3jqkcU/5h99k6ZBzj88bCIzFzjVP4enV8oyxN0//yH99nXg5D8qOpLLf0jtP5kqGJXUifQ/c9cS8kHP/D+/DpwzojQEQIEmwoanVwxA4lgXt9HgE0BSSZ2AJuIbQAMJih9jjiNA5q4l5INuK0AwTKYKRj0zQNv5fmq8/DpAaCJseHrtQkB/+zpwzoxKQM3MzMzMeFJAZmZmZmZqWEAAAAAAAFxeQM3MzMzMJmJAmpmZmZkfZUBmZmZmZhhoQDMzMzMzEWtAAAAAAAAKbkBmZmZmZoFwQM3MzMzM/XFAMzMzMzN6c0CamZmZmfZ0QAAAAAAAc3ZAZmZmZmbvd0DNzMzMzGt5QDMzMzMz6HpAmpmZmZlkfEAAAAAAAOF9QGZmZmZmXX9AZmZmZuZsgECamZmZGSuBQM3MzMxM6YFAAAAAAICngkAzMzMzs2WDQGZmZmbmI4RAmpmZmRnihEDNzMzMTKCFQAAAAACAXoZAMzMzM7Mch0BmZmZm5tqHQJqZmZkZmYhAzczMzExXiUAAAAAAgBWKQDMzMzOz04pAZmZmZuaRi0CamZmZGVCMQM3MzMxMDo1AAAAAAIDMjUAzMzMzs4qOQGZmZmbmSI9A\",\"dtype\":\"float64\",\"shape\":[75]}}},\"id\":\"33724210-a0d6-44b5-8eea-da05ca2cfb4b\",\"type\":\"ColumnDataSource\"},{\"attributes\":{\"callback\":null,\"column_names\":[\"x\",\"y\"],\"data\":{\"x\":{\"__ndarray__\":\"VdYnLUnXZj9e0mihaiNpPyC6sld+Mm4/j4KhWKz3cT/DJyoCaCx1P16GbgcIv3g/d+Y4B6e3fD/KsNPPbpCAP0Kam6YHAIM/hEE/1ZOwhT8PT7hCv6eIP4GOj20064s/hOgQ8GR8jz+rFZacVXWRPz0LKzxWyZI/UehYhXYIlD8SmA0ji0iVPyF1Q2Q/mZY/6B+UO7nslz/XY9Ny2kuZP2Yk5gKZhpo/j9eLMvYjmT8klR0cn6eUP+5doquDAZA//tZiFTlciD+izPGdahuCP9UFZLisJHo/7OcbVlz6cj+BdDnu1wptP8J18JTymGY/S5TOWRIwYT/neyFwz/tZP8A+bMqO01Y/OqAqmoRpWD+Zt7v9Dn1bP4VWpSuNPl8/4vfj7CMqYT94zyA4eOxhPwp9rKRxl2g/f+WQMgpHbz/Epg/nwgBzP4g+hKhpznQ/fRi9lSH2dT9yc+93PNt2P0DYbNw5lXc/8o9Tbp0Qez8CaBWsQTyCP3EuYgyqUok/L7x4h0L4lD/Eva0nmf+gP1VWUkKdgag/BUejLfA2sD8DZU1heia0P9GFVukq27c/rBZid9REuz+p4b8i83m+PyABBnt70cA/eaHlqoVbwj/cKfWtzsjDP89P77jkAMU/qz/Zk6H4xT+IUs9oL6zGP4uc5dvwKcc/AfroAJV7xz+ZjfGHA6/HPwg2yQwZzcc/vMC4prffxz80XagAi+THP5DPs/Kossc/wwuj9Y8Ixz8KEXF8O5LFPyJ5y69mfcM/6EkJoZhhwT8HF4mt5cm+P2CelGOjyLo/\",\"dtype\":\"float64\",\"shape\":[75]},\"y\":{\"__ndarray__\":\"GhExyth1ND/Sv8nbtpRIP2vylNV0PVE/aTum7souWD/At0SJ8fVgPw3Iuahxymc/MSNhhJWvcD/bTfBN02d3P2zb5nxnaoA/CD5h5MAGhz8NmeH1TyaQP+zrCsc9p5Y/LbKd76fGnz/bLW5ISEmmPww9YvTcQq8/JV2OstnstT8Er5Y7M8G+P0c+r3jqkcU/5h99k6ZBzj88bCIzFzjVP4enV8oyxN0//yH99nXg5D8qOpLLf0jtP5kqGJXUifQ/c9cS8kHP/D+/DpwzojQEQIEmwoanVwxA4lgXt9HgE0BSSZ2AJuIbQAMJih9jjiNA5q4l5INuK0AwTKYKRj0zQNv5fmq8/DpAaCJseHrtQkB/+zpwzoxKQM3MzMzMeFJAZmZmZmZqWEAAAAAAAFxeQM3MzMzMJmJAmpmZmZkfZUBmZmZmZhhoQDMzMzMzEWtAAAAAAAAKbkBmZmZmZoFwQM3MzMzM/XFAMzMzMzN6c0CamZmZmfZ0QAAAAAAAc3ZAZmZmZmbvd0DNzMzMzGt5QDMzMzMz6HpAmpmZmZlkfEAAAAAAAOF9QGZmZmZmXX9AZmZmZuZsgECamZmZGSuBQM3MzMxM6YFAAAAAAICngkAzMzMzs2WDQGZmZmbmI4RAmpmZmRnihEDNzMzMTKCFQAAAAACAXoZAMzMzM7Mch0BmZmZm5tqHQJqZmZkZmYhAzczMzExXiUAAAAAAgBWKQDMzMzOz04pAZmZmZuaRi0CamZmZGVCMQM3MzMxMDo1AAAAAAIDMjUAzMzMzs4qOQGZmZmbmSI9A\",\"dtype\":\"float64\",\"shape\":[75]}}},\"id\":\"744de14e-aabb-4ce0-8732-693c2c013747\",\"type\":\"ColumnDataSource\"},{\"attributes\":{\"data_source\":{\"id\":\"33724210-a0d6-44b5-8eea-da05ca2cfb4b\",\"type\":\"ColumnDataSource\"},\"glyph\":{\"id\":\"16a1813c-a7f1-4142-9b3b-0edb638d0017\",\"type\":\"Circle\"},\"hover_glyph\":null,\"muted_glyph\":null,\"nonselection_glyph\":{\"id\":\"25da0c58-e123-4ad8-bc5b-4b53941c5763\",\"type\":\"Circle\"},\"selection_glyph\":null,\"view\":{\"id\":\"a46fc0dd-1145-4638-96ee-c140e02668d4\",\"type\":\"CDSView\"}},\"id\":\"dc158a1e-6da4-4c49-9ff4-84725616f92b\",\"type\":\"GlyphRenderer\"},{\"attributes\":{\"line_alpha\":0.1,\"line_color\":\"#1f77b4\",\"line_dash\":[6],\"line_width\":5,\"x\":{\"field\":\"x\"},\"y\":{\"field\":\"y\"}},\"id\":\"8fca66f3-f6ab-48db-b0f5-cbb2a480d6da\",\"type\":\"Line\"},{\"attributes\":{\"callback\":null,\"column_names\":[\"x\",\"y\"],\"data\":{\"x\":{\"__ndarray__\":\"h5gn5D7KZD/C0OaZl3pnP+jOzWeScm0/1bWMEZYjcj8sbkZHHvp1P57i2aJjR3o/j5kOFK0Zfz8spxqElDuCPzfegENmNoU/q3tIHqaCiD+oQ35orB6MP6xisDZU+Y8/9eKlSn0hkj82jNbffxyUP7Qz/t04spU/ph14Yd0Llz90oyjNb2OYP32MkaM7s5k/zlHf42D3mj+Zmx799yycPxyCQ6WaJJ0/PBx2Qlz3mj8xvih0cEaVP2fYg6SqZI8/WFNFMI+uhj/r4qFspAWAP7FCTdHqFHY/WEUAezpTbz8IP2z+I4BoPxgVd8+IMWQ/ADcgxSaZYD9gmsRO6F1bP8h5YkritFk/o0KIMrMSXD+qzn2JHldfP1B/B1CdWGE/jD2chVuMYj9AQtVvNPViPwY1m4Zqg2k/NsuO2YXibz9STO0rYBlzPxsqahsEt3Q/OYhiouS9dT+HyQtZs492P2RmgynaPnc/yeoYRwzKej9dgercAjuCP/1AVEL5gIk/bjsU1cAulT/9ghoUhi6hPyzhSCFCvKg/UnUJM99UsD/WNZK4UkW0PzhYNZFkGbg/TwTUSAnJuz/bWz5Qdky/P+1xEaXeT8E/+fv/F1PZwj/w82O8ezrEP/IQ3+yDasU/SNMsEgtjxj8dJF2WIyLHPzs4dXFdqcc/1ClNUrL/xz+7BI6h7zDIP3FY2Nt/R8g//Zv+iR1PyD93/khs0kjIP8nVXROxDMg/ViZfffpXxz8XFljX09TFP2VX1g1GssM/HTY24JiKwT/KeGvLRgi/P7NceFa57bo/\",\"dtype\":\"float64\",\"shape\":[75]},\"y\":{\"__ndarray__\":\"GhExyth1ND/Sv8nbtpRIP2vylNV0PVE/aTum7souWD/At0SJ8fVgPw3Iuahxymc/MSNhhJWvcD/bTfBN02d3P2zb5nxnaoA/CD5h5MAGhz8NmeH1TyaQP+zrCsc9p5Y/LbKd76fGnz/bLW5ISEmmPww9YvTcQq8/JV2OstnstT8Er5Y7M8G+P0c+r3jqkcU/5h99k6ZBzj88bCIzFzjVP4enV8oyxN0//yH99nXg5D8qOpLLf0jtP5kqGJXUifQ/c9cS8kHP/D+/DpwzojQEQIEmwoanVwxA4lgXt9HgE0BSSZ2AJuIbQAMJih9jjiNA5q4l5INuK0AwTKYKRj0zQNv5fmq8/DpAaCJseHrtQkB/+zpwzoxKQM3MzMzMeFJAZmZmZmZqWEAAAAAAAFxeQM3MzMzMJmJAmpmZmZkfZUBmZmZmZhhoQDMzMzMzEWtAAAAAAAAKbkBmZmZmZoFwQM3MzMzM/XFAMzMzMzN6c0CamZmZmfZ0QAAAAAAAc3ZAZmZmZmbvd0DNzMzMzGt5QDMzMzMz6HpAmpmZmZlkfEAAAAAAAOF9QGZmZmZmXX9AZmZmZuZsgECamZmZGSuBQM3MzMxM6YFAAAAAAICngkAzMzMzs2WDQGZmZmbmI4RAmpmZmRnihEDNzMzMTKCFQAAAAACAXoZAMzMzM7Mch0BmZmZm5tqHQJqZmZkZmYhAzczMzExXiUAAAAAAgBWKQDMzMzOz04pAZmZmZuaRi0CamZmZGVCMQM3MzMxMDo1AAAAAAIDMjUAzMzMzs4qOQGZmZmbmSI9A\",\"dtype\":\"float64\",\"shape\":[75]}}},\"id\":\"24a3a02b-b15b-4a58-bd0a-a0813b629734\",\"type\":\"ColumnDataSource\"},{\"attributes\":{\"data_source\":{\"id\":\"24a3a02b-b15b-4a58-bd0a-a0813b629734\",\"type\":\"ColumnDataSource\"},\"glyph\":{\"id\":\"f48cbd99-3eaa-4bae-9ae8-0264886e1177\",\"type\":\"Line\"},\"hover_glyph\":null,\"muted_glyph\":null,\"nonselection_glyph\":{\"id\":\"1349e7fa-f5c3-4007-9d5f-dd0595d114d5\",\"type\":\"Line\"},\"selection_glyph\":null,\"view\":{\"id\":\"2266e8e2-e2cd-4c80-9790-f02799939890\",\"type\":\"CDSView\"}},\"id\":\"2ab6d383-7cd6-4eda-9763-5648dd064253\",\"type\":\"GlyphRenderer\"},{\"attributes\":{\"fill_alpha\":{\"value\":0.7},\"fill_color\":{\"value\":\"#4daf4a\"},\"line_alpha\":{\"value\":0.7},\"line_color\":{\"value\":\"#4daf4a\"},\"x\":{\"field\":\"x\"},\"y\":{\"field\":\"y\"}},\"id\":\"16a1813c-a7f1-4142-9b3b-0edb638d0017\",\"type\":\"Circle\"},{\"attributes\":{\"ticker\":null},\"id\":\"4da30058-92cc-4f90-a158-f5803cdb0e44\",\"type\":\"LogTickFormatter\"},{\"attributes\":{\"fill_alpha\":{\"value\":0.1},\"fill_color\":{\"value\":\"#1f77b4\"},\"line_alpha\":{\"value\":0.1},\"line_color\":{\"value\":\"#1f77b4\"},\"x\":{\"field\":\"x\"},\"y\":{\"field\":\"y\"}},\"id\":\"25da0c58-e123-4ad8-bc5b-4b53941c5763\",\"type\":\"Circle\"},{\"attributes\":{\"source\":{\"id\":\"33724210-a0d6-44b5-8eea-da05ca2cfb4b\",\"type\":\"ColumnDataSource\"}},\"id\":\"a46fc0dd-1145-4638-96ee-c140e02668d4\",\"type\":\"CDSView\"},{\"attributes\":{\"line_color\":\"#4daf4a\",\"line_width\":1.5,\"x\":{\"field\":\"x\"},\"y\":{\"field\":\"y\"}},\"id\":\"f48cbd99-3eaa-4bae-9ae8-0264886e1177\",\"type\":\"Line\"},{\"attributes\":{\"line_alpha\":0.1,\"line_color\":\"#1f77b4\",\"line_width\":1.5,\"x\":{\"field\":\"x\"},\"y\":{\"field\":\"y\"}},\"id\":\"1349e7fa-f5c3-4007-9d5f-dd0595d114d5\",\"type\":\"Line\"},{\"attributes\":{\"callback\":null,\"column_names\":[\"x\",\"y\"],\"data\":{\"x\":{\"__ndarray__\":\"VdYnLUnXZj9e0mihaiNpPyC6sld+Mm4/j4KhWKz3cT/DJyoCaCx1P16GbgcIv3g/d+Y4B6e3fD/KsNPPbpCAP0Kam6YHAIM/hEE/1ZOwhT8PT7hCv6eIP4GOj20064s/hOgQ8GR8jz+rFZacVXWRPz0LKzxWyZI/UehYhXYIlD8SmA0ji0iVPyF1Q2Q/mZY/6B+UO7nslz/XY9Ny2kuZP2Yk5gKZhpo/j9eLMvYjmT8klR0cn6eUP+5doquDAZA//tZiFTlciD+izPGdahuCP9UFZLisJHo/7OcbVlz6cj+BdDnu1wptP8J18JTymGY/S5TOWRIwYT/neyFwz/tZP8A+bMqO01Y/OqAqmoRpWD+Zt7v9Dn1bP4VWpSuNPl8/4vfj7CMqYT94zyA4eOxhPwp9rKRxl2g/f+WQMgpHbz/Epg/nwgBzP4g+hKhpznQ/fRi9lSH2dT9yc+93PNt2P0DYbNw5lXc/8o9Tbp0Qez8CaBWsQTyCP3EuYgyqUok/L7x4h0L4lD/Eva0nmf+gP1VWUkKdgag/BUejLfA2sD8DZU1heia0P9GFVukq27c/rBZid9REuz+p4b8i83m+PyABBnt70cA/eaHlqoVbwj/cKfWtzsjDP89P77jkAMU/qz/Zk6H4xT+IUs9oL6zGP4uc5dvwKcc/AfroAJV7xz+ZjfGHA6/HPwg2yQwZzcc/vMC4prffxz80XagAi+THP5DPs/Kossc/wwuj9Y8Ixz8KEXF8O5LFPyJ5y69mfcM/6EkJoZhhwT8HF4mt5cm+P2CelGOjyLo/\",\"dtype\":\"float64\",\"shape\":[75]},\"y\":{\"__ndarray__\":\"GhExyth1ND/Sv8nbtpRIP2vylNV0PVE/aTum7souWD/At0SJ8fVgPw3Iuahxymc/MSNhhJWvcD/bTfBN02d3P2zb5nxnaoA/CD5h5MAGhz8NmeH1TyaQP+zrCsc9p5Y/LbKd76fGnz/bLW5ISEmmPww9YvTcQq8/JV2OstnstT8Er5Y7M8G+P0c+r3jqkcU/5h99k6ZBzj88bCIzFzjVP4enV8oyxN0//yH99nXg5D8qOpLLf0jtP5kqGJXUifQ/c9cS8kHP/D+/DpwzojQEQIEmwoanVwxA4lgXt9HgE0BSSZ2AJuIbQAMJih9jjiNA5q4l5INuK0AwTKYKRj0zQNv5fmq8/DpAaCJseHrtQkB/+zpwzoxKQM3MzMzMeFJAZmZmZmZqWEAAAAAAAFxeQM3MzMzMJmJAmpmZmZkfZUBmZmZmZhhoQDMzMzMzEWtAAAAAAAAKbkBmZmZmZoFwQM3MzMzM/XFAMzMzMzN6c0CamZmZmfZ0QAAAAAAAc3ZAZmZmZmbvd0DNzMzMzGt5QDMzMzMz6HpAmpmZmZlkfEAAAAAAAOF9QGZmZmZmXX9AZmZmZuZsgECamZmZGSuBQM3MzMxM6YFAAAAAAICngkAzMzMzs2WDQGZmZmbmI4RAmpmZmRnihEDNzMzMTKCFQAAAAACAXoZAMzMzM7Mch0BmZmZm5tqHQJqZmZkZmYhAzczMzExXiUAAAAAAgBWKQDMzMzOz04pAZmZmZuaRi0CamZmZGVCMQM3MzMxMDo1AAAAAAIDMjUAzMzMzs4qOQGZmZmbmSI9A\",\"dtype\":\"float64\",\"shape\":[75]}}},\"id\":\"00211d5c-c537-4c10-b995-026a680b73f6\",\"type\":\"ColumnDataSource\"},{\"attributes\":{\"line_alpha\":0.6,\"line_color\":\"#984ea3\",\"line_width\":3,\"x\":{\"field\":\"x\"},\"y\":{\"field\":\"y\"}},\"id\":\"f53a58d3-e504-4bf1-9310-113187a4da60\",\"type\":\"Line\"},{\"attributes\":{\"source\":{\"id\":\"24a3a02b-b15b-4a58-bd0a-a0813b629734\",\"type\":\"ColumnDataSource\"}},\"id\":\"2266e8e2-e2cd-4c80-9790-f02799939890\",\"type\":\"CDSView\"},{\"attributes\":{\"fill_alpha\":{\"value\":0.7},\"fill_color\":{\"value\":\"#984ea3\"},\"line_alpha\":{\"value\":0.7},\"line_color\":{\"value\":\"#984ea3\"},\"x\":{\"field\":\"x\"},\"y\":{\"field\":\"y\"}},\"id\":\"ec34dbbe-c464-43af-8a1a-70bca023eb34\",\"type\":\"Square\"},{\"attributes\":{\"source\":{\"id\":\"744de14e-aabb-4ce0-8732-693c2c013747\",\"type\":\"ColumnDataSource\"}},\"id\":\"342ea653-2aed-42af-9e7a-b88fe0dea29e\",\"type\":\"CDSView\"},{\"attributes\":{\"callback\":null,\"end\":0.03573926593258094,\"start\":0.0010531528093250598},\"id\":\"fde6cbc5-5b93-4af7-a4f4-71529174e8fd\",\"type\":\"Range1d\"},{\"attributes\":{\"items\":[{\"id\":\"0b002a8b-77a9-41b5-a3a8-8a3a8d82f3cd\",\"type\":\"LegendItem\"},{\"id\":\"ccf6033f-b414-49e0-8cb9-417f4788fe75\",\"type\":\"LegendItem\"},{\"id\":\"e56ce492-5a0a-46c9-8438-dc43da668ec2\",\"type\":\"LegendItem\"}],\"label_text_font_size\":{\"value\":\"8pt\"},\"location\":[10,-30],\"plot\":{\"id\":\"c53ffdc3-f9b5-4dec-a262-c8ca6f60558c\",\"subtype\":\"Figure\",\"type\":\"Plot\"}},\"id\":\"ef80fa1e-96bf-4034-973b-b198dcc911eb\",\"type\":\"Legend\"},{\"attributes\":{\"fill_alpha\":{\"value\":0.1},\"fill_color\":{\"value\":\"#1f77b4\"},\"line_alpha\":{\"value\":0.1},\"line_color\":{\"value\":\"#1f77b4\"},\"x\":{\"field\":\"x\"},\"y\":{\"field\":\"y\"}},\"id\":\"ca22b978-df9e-4d8d-97a6-9413d8a8d8d7\",\"type\":\"Square\"},{\"attributes\":{\"data_source\":{\"id\":\"744de14e-aabb-4ce0-8732-693c2c013747\",\"type\":\"ColumnDataSource\"},\"glyph\":{\"id\":\"ec34dbbe-c464-43af-8a1a-70bca023eb34\",\"type\":\"Square\"},\"hover_glyph\":null,\"muted_glyph\":null,\"nonselection_glyph\":{\"id\":\"ca22b978-df9e-4d8d-97a6-9413d8a8d8d7\",\"type\":\"Square\"},\"selection_glyph\":null,\"view\":{\"id\":\"342ea653-2aed-42af-9e7a-b88fe0dea29e\",\"type\":\"CDSView\"}},\"id\":\"b6563c12-0fc9-4f5c-8fad-836d2100f765\",\"type\":\"GlyphRenderer\"},{\"attributes\":{\"source\":{\"id\":\"0a8942b6-1ca9-4c24-ad6c-02c75409b904\",\"type\":\"ColumnDataSource\"}},\"id\":\"0e99be7f-b026-4d76-9d66-858fe062b703\",\"type\":\"CDSView\"},{\"attributes\":{\"source\":{\"id\":\"00211d5c-c537-4c10-b995-026a680b73f6\",\"type\":\"ColumnDataSource\"}},\"id\":\"8c7edd84-08db-4b7b-8cbb-6493906197bd\",\"type\":\"CDSView\"},{\"attributes\":{\"tools\":[{\"id\":\"48bdc894-399f-47ba-8e4a-c5ab0d879baa\",\"type\":\"PanTool\"},{\"id\":\"cfe7c9e1-8fa1-4b48-a0a0-ae665a5a35d5\",\"type\":\"WheelZoomTool\"},{\"id\":\"5c31f00e-2f36-4b30-8916-0ad3ccd44943\",\"type\":\"BoxZoomTool\"},{\"id\":\"985123a0-27cb-4ba5-a1b7-ac7a87bda6b1\",\"type\":\"SaveTool\"},{\"id\":\"bcf03d97-9258-407b-8b8c-6a1bd1f2bcd2\",\"type\":\"ResetTool\"},{\"id\":\"96c6944f-f60d-4f07-9ba8-ebf09a8f5990\",\"type\":\"HelpTool\"},{\"id\":\"989376f5-a7a4-4f95-acba-297b8ff3ee73\",\"type\":\"PanTool\"},{\"id\":\"dc00d22f-9838-41d7-9073-4ffbc37c9643\",\"type\":\"WheelZoomTool\"},{\"id\":\"094d8908-b8b2-455a-afe2-da062bd98194\",\"type\":\"BoxZoomTool\"},{\"id\":\"8b60fddd-8230-4952-96db-3a0c8ecad7a3\",\"type\":\"SaveTool\"},{\"id\":\"f2317113-466a-4a6a-904b-b892dd632336\",\"type\":\"ResetTool\"},{\"id\":\"57c91c83-c82e-411b-a0b6-ca1f7af5f723\",\"type\":\"HelpTool\"}]},\"id\":\"908bfe6a-6adf-4830-aecf-648444b64a0f\",\"type\":\"ProxyToolbar\"},{\"attributes\":{\"line_alpha\":0.1,\"line_color\":\"#1f77b4\",\"line_width\":3,\"x\":{\"field\":\"x\"},\"y\":{\"field\":\"y\"}},\"id\":\"0d9a2710-9d9b-429d-96a1-b85382acbaf0\",\"type\":\"Line\"},{\"attributes\":{\"data_source\":{\"id\":\"00211d5c-c537-4c10-b995-026a680b73f6\",\"type\":\"ColumnDataSource\"},\"glyph\":{\"id\":\"f53a58d3-e504-4bf1-9310-113187a4da60\",\"type\":\"Line\"},\"hover_glyph\":null,\"muted_glyph\":null,\"nonselection_glyph\":{\"id\":\"0d9a2710-9d9b-429d-96a1-b85382acbaf0\",\"type\":\"Line\"},\"selection_glyph\":null,\"view\":{\"id\":\"8c7edd84-08db-4b7b-8cbb-6493906197bd\",\"type\":\"CDSView\"}},\"id\":\"22492e42-c2bd-4fa7-b691-7bbeccd383f7\",\"type\":\"GlyphRenderer\"},{\"attributes\":{\"children\":[{\"id\":\"f483f80a-8fa4-4c52-9588-65c705d138b5\",\"subtype\":\"Figure\",\"type\":\"Plot\"},{\"id\":\"c53ffdc3-f9b5-4dec-a262-c8ca6f60558c\",\"subtype\":\"Figure\",\"type\":\"Plot\"}]},\"id\":\"9529837e-c054-4bb9-8913-8e96bd738995\",\"type\":\"Row\"},{\"attributes\":{\"fill_alpha\":{\"value\":0.7},\"fill_color\":{\"value\":\"#4daf4a\"},\"line_alpha\":{\"value\":0.7},\"line_color\":{\"value\":\"#4daf4a\"},\"x\":{\"field\":\"x\"},\"y\":{\"field\":\"y\"}},\"id\":\"a64c9ea5-e235-4092-808f-688b151d2a4d\",\"type\":\"Circle\"},{\"attributes\":{\"toolbar\":{\"id\":\"908bfe6a-6adf-4830-aecf-648444b64a0f\",\"type\":\"ProxyToolbar\"},\"toolbar_location\":\"above\"},\"id\":\"d389fcba-a59e-4ee5-bde0-e0393423c22a\",\"type\":\"ToolbarBox\"},{\"attributes\":{},\"id\":\"eb999382-e979-447c-a9d0-3defccf1bf92\",\"type\":\"BasicTickFormatter\"},{\"attributes\":{\"callback\":null,\"column_names\":[\"x\",\"y\"],\"data\":{\"x\":{\"__ndarray__\":\"h5gn5D7KZD/C0OaZl3pnP+jOzWeScm0/1bWMEZYjcj8sbkZHHvp1P57i2aJjR3o/j5kOFK0Zfz8spxqElDuCPzfegENmNoU/q3tIHqaCiD+oQ35orB6MP6xisDZU+Y8/9eKlSn0hkj82jNbffxyUP7Qz/t04spU/ph14Yd0Llz90oyjNb2OYP32MkaM7s5k/zlHf42D3mj+Zmx799yycPxyCQ6WaJJ0/PBx2Qlz3mj8xvih0cEaVP2fYg6SqZI8/WFNFMI+uhj/r4qFspAWAP7FCTdHqFHY/WEUAezpTbz8IP2z+I4BoPxgVd8+IMWQ/ADcgxSaZYD9gmsRO6F1bP8h5YkritFk/o0KIMrMSXD+qzn2JHldfP1B/B1CdWGE/jD2chVuMYj9AQtVvNPViPwY1m4Zqg2k/NsuO2YXibz9STO0rYBlzPxsqahsEt3Q/OYhiouS9dT+HyQtZs492P2RmgynaPnc/yeoYRwzKej9dgercAjuCP/1AVEL5gIk/bjsU1cAulT/9ghoUhi6hPyzhSCFCvKg/UnUJM99UsD/WNZK4UkW0PzhYNZFkGbg/TwTUSAnJuz/bWz5Qdky/P+1xEaXeT8E/+fv/F1PZwj/w82O8ezrEP/IQ3+yDasU/SNMsEgtjxj8dJF2WIyLHPzs4dXFdqcc/1ClNUrL/xz+7BI6h7zDIP3FY2Nt/R8g//Zv+iR1PyD93/khs0kjIP8nVXROxDMg/ViZfffpXxz8XFljX09TFP2VX1g1GssM/HTY24JiKwT/KeGvLRgi/P7NceFa57bo/\",\"dtype\":\"float64\",\"shape\":[75]},\"y\":{\"__ndarray__\":\"GhExyth1ND/Sv8nbtpRIP2vylNV0PVE/aTum7souWD/At0SJ8fVgPw3Iuahxymc/MSNhhJWvcD/bTfBN02d3P2zb5nxnaoA/CD5h5MAGhz8NmeH1TyaQP+zrCsc9p5Y/LbKd76fGnz/bLW5ISEmmPww9YvTcQq8/JV2OstnstT8Er5Y7M8G+P0c+r3jqkcU/5h99k6ZBzj88bCIzFzjVP4enV8oyxN0//yH99nXg5D8qOpLLf0jtP5kqGJXUifQ/c9cS8kHP/D+/DpwzojQEQIEmwoanVwxA4lgXt9HgE0BSSZ2AJuIbQAMJih9jjiNA5q4l5INuK0AwTKYKRj0zQNv5fmq8/DpAaCJseHrtQkB/+zpwzoxKQM3MzMzMeFJAZmZmZmZqWEAAAAAAAFxeQM3MzMzMJmJAmpmZmZkfZUBmZmZmZhhoQDMzMzMzEWtAAAAAAAAKbkBmZmZmZoFwQM3MzMzM/XFAMzMzMzN6c0CamZmZmfZ0QAAAAAAAc3ZAZmZmZmbvd0DNzMzMzGt5QDMzMzMz6HpAmpmZmZlkfEAAAAAAAOF9QGZmZmZmXX9AZmZmZuZsgECamZmZGSuBQM3MzMxM6YFAAAAAAICngkAzMzMzs2WDQGZmZmbmI4RAmpmZmRnihEDNzMzMTKCFQAAAAACAXoZAMzMzM7Mch0BmZmZm5tqHQJqZmZkZmYhAzczMzExXiUAAAAAAgBWKQDMzMzOz04pAZmZmZuaRi0CamZmZGVCMQM3MzMxMDo1AAAAAAIDMjUAzMzMzs4qOQGZmZmbmSI9A\",\"dtype\":\"float64\",\"shape\":[75]}}},\"id\":\"1fc17b76-f3b9-4d16-9eb9-5ce85e284a63\",\"type\":\"ColumnDataSource\"},{\"attributes\":{\"source\":{\"id\":\"1fc17b76-f3b9-4d16-9eb9-5ce85e284a63\",\"type\":\"ColumnDataSource\"}},\"id\":\"096dfe3d-8f9d-4fa4-8f01-c22b47e3f517\",\"type\":\"CDSView\"},{\"attributes\":{},\"id\":\"bcf03d97-9258-407b-8b8c-6a1bd1f2bcd2\",\"type\":\"ResetTool\"},{\"attributes\":{\"fill_alpha\":{\"value\":0.7},\"fill_color\":{\"value\":\"#984ea3\"},\"line_alpha\":{\"value\":0.7},\"line_color\":{\"value\":\"#984ea3\"},\"x\":{\"field\":\"x\"},\"y\":{\"field\":\"y\"}},\"id\":\"f90b5850-2dbd-4c15-a677-8e3835a2ef87\",\"type\":\"Square\"},{\"attributes\":{\"overlay\":{\"id\":\"068810ec-43f9-4589-9137-22c47ed3df7d\",\"type\":\"BoxAnnotation\"}},\"id\":\"5c31f00e-2f36-4b30-8916-0ad3ccd44943\",\"type\":\"BoxZoomTool\"},{\"attributes\":{\"source\":{\"id\":\"860269d6-af55-4a9a-acfc-56577f34aa2f\",\"type\":\"ColumnDataSource\"}},\"id\":\"eb9550f5-c78b-4ffe-b246-e058f5a47733\",\"type\":\"CDSView\"},{\"attributes\":{\"label\":{\"value\":\"CRD\"},\"renderers\":[{\"id\":\"dc158a1e-6da4-4c49-9ff4-84725616f92b\",\"type\":\"GlyphRenderer\"},{\"id\":\"2ab6d383-7cd6-4eda-9763-5648dd064253\",\"type\":\"GlyphRenderer\"}]},\"id\":\"ccf6033f-b414-49e0-8cb9-417f4788fe75\",\"type\":\"LegendItem\"},{\"attributes\":{\"data_source\":{\"id\":\"0a8942b6-1ca9-4c24-ad6c-02c75409b904\",\"type\":\"ColumnDataSource\"},\"glyph\":{\"id\":\"521d2406-0886-43ca-84b9-db48b2cc5bcb\",\"type\":\"Line\"},\"hover_glyph\":null,\"muted_glyph\":null,\"nonselection_glyph\":{\"id\":\"8fca66f3-f6ab-48db-b0f5-cbb2a480d6da\",\"type\":\"Line\"},\"selection_glyph\":null,\"view\":{\"id\":\"0e99be7f-b026-4d76-9d66-858fe062b703\",\"type\":\"CDSView\"}},\"id\":\"64178254-ceaa-4ebf-b971-a4b2fda416a0\",\"type\":\"GlyphRenderer\"},{\"attributes\":{\"callback\":null,\"column_names\":[\"x\",\"y\"],\"data\":{\"x\":{\"__ndarray__\":\"AAAAAAAAAAAAAAAAAAAAAAAAAAAAAAAAAAAAAAAAAAAAAAAAAAAAAJ55vSRj75A/VUB+jyoliD/GndaerjaBPzZwiv0Ti3g/f9J5IsKenj+ixhX78bWSPxIiJeUKyZE/FGNKOLWyjz8McXeZC6OfP/6cZqc9Kpg/K//EQllqmj9VXBAi/RyfP74hQ32BD54/XVdSQj5VoD/39fAjhjahP24TJkDYH6I/klmX/EpFoT9v+sy8yS2dP9Bghtj2/JY/RYQmWezOkT+O/z+kmOmKP2dmTYCmhIM/el3APD3eez/NaEQdmIt0P0AmPf+CTG4/DDJ7OekGZT824RXDAIJcP0rC8fyq41Y/mEgOfRxyWD8K+m352D5cP8bfb111iWA/4HuQQY2LYj/qqwu+AKljP5wn2189N2s/Yc32oYGKcT+KSnkdkIx1P7LYliAryHc/xEa8oDUreT8ISH+hIw96P5zOYqEOlno/zgJrIM8Kfj9GVRchkf6DP59Ml1YnjYs/QKHyPZCtlj8WigxcMk+iPxO/wn9Dc6o/4l5rf/+XsT9F0wcCzMu1PwtikUAyhrk/xHgw1vUTvT+RZzRFwm/AP2tZKcrGf8I/8z5MyvaExD9STg9lA0TGP6Cm+dewrsc/KnD0Ka7HyD+sYwkpR5rJPx1uC79pNMo/7x5e36Cgyj9+40rBQ+bKPyDM1MFNCMs/YjLR94Udyz++XYKVOxrLPwV6NBewy8o/dzcF6K3wyT/g1CigYDHIP2jjLfyFw8U/ILP1BHBQwz8Ge9mX6APBP7dQhYHfbb0/\",\"dtype\":\"float64\",\"shape\":[75]},\"y\":{\"__ndarray__\":\"S/O/Q+51ND/430zAtpRIP2vylNV0PVE/QxsjCssuWD/TR4Z78fVgP+inNsRxymc/OuuBfZWvcD/u3TFA02d3P2d3VoBnaoA/CD5h5MAGhz/1pA8HUCaQP+zrCsc9p5Y/Fb7LAKjGnz/nJ9c/SEmmPwBD+fzcQq8/FOZwv9nstT8Er5Y7M8G+P0c+r3jqkcU/yK72qKZBzj+tM989FzjVPxbgmr8yxN0/cOm5AXbg5D+5ctXAf0jtP5kqGJXUifQ/DsrqDELP/D8MCAhBojQEQDItVnmnVwxAiFXNvdHgE0BSSZ2AJuIbQAMJih9jjiNA5q4l5INuK0CPVN/5RT0zQHzxRXu8/DpAOZ7PgHrtQkAg8wGBzoxKQBSTN8DMeFJA2NmQf2ZqWEAAAAAAAFxeQEQX1LfMJmJAmpmZmZkfZUBmZmZmZhhoQLzoK0gzEWtAAAAAAAAKbkCiC+pbZoFwQAhyUMLM/XFA+I2vPTN6c0AQ5KCEmfZ0QAAAAAAAc3ZA8Btfe2bvd0AIclDCzGt5QPeNrz0z6HpAEOSghJlkfEAAAAAAAOF9QKML6ltmXX9ABTkoYeZsgED7xteeGSuBQAhyUMJM6YFAAAAAAICngkD4ja89s2WDQAU5KGHmI4RA+8bXnhnihEAIclDCTKCFQAAAAACAXoZA+I2vPbMch0AFOShh5tqHQPvG154ZmYhACHJQwkxXiUAAAAAAgBWKQPeNrz2z04pABTkoYeaRi0D7xteeGVCMQAlyUMJMDo1AAAAAAIDMjUD3ja89s4qOQGZmZmbmSI9A\",\"dtype\":\"float64\",\"shape\":[75]}}},\"id\":\"c29fda13-9407-4a9a-b61e-537448e6f2fc\",\"type\":\"ColumnDataSource\"},{\"attributes\":{\"callback\":null,\"end\":0.01,\"start\":1020},\"id\":\"44aa6d6e-d176-4707-a2aa-f70ff373e1dc\",\"type\":\"Range1d\"},{\"attributes\":{\"data_source\":{\"id\":\"c29fda13-9407-4a9a-b61e-537448e6f2fc\",\"type\":\"ColumnDataSource\"},\"glyph\":{\"id\":\"8891b24a-b244-4258-8b74-8718c8304dc9\",\"type\":\"Line\"},\"hover_glyph\":null,\"muted_glyph\":null,\"nonselection_glyph\":{\"id\":\"f600f0f3-91c4-4f27-ae28-60ab286cb240\",\"type\":\"Line\"},\"selection_glyph\":null,\"view\":{\"id\":\"093c5943-3593-46df-a709-726bb554a55d\",\"type\":\"CDSView\"}},\"id\":\"4b2fefef-d831-412c-9c4a-7ded3ecac6c6\",\"type\":\"GlyphRenderer\"},{\"attributes\":{\"label\":{\"value\":\"CLIRAD `coolr_bands`\"},\"renderers\":[{\"id\":\"4b2fefef-d831-412c-9c4a-7ded3ecac6c6\",\"type\":\"GlyphRenderer\"}]},\"id\":\"0b002a8b-77a9-41b5-a3a8-8a3a8d82f3cd\",\"type\":\"LegendItem\"},{\"attributes\":{\"line_alpha\":0.1,\"line_color\":\"#1f77b4\",\"line_dash\":[6],\"line_width\":5,\"x\":{\"field\":\"x\"},\"y\":{\"field\":\"y\"}},\"id\":\"f600f0f3-91c4-4f27-ae28-60ab286cb240\",\"type\":\"Line\"},{\"attributes\":{\"callback\":null,\"end\":0.01,\"start\":1020},\"id\":\"98ae3ab1-a32b-48de-bdd6-f3758434819b\",\"type\":\"Range1d\"},{\"attributes\":{\"line_alpha\":0.1,\"line_color\":\"#1f77b4\",\"line_width\":3,\"x\":{\"field\":\"x\"},\"y\":{\"field\":\"y\"}},\"id\":\"1b8e75d6-7f22-4709-a3fc-59f85027e3a3\",\"type\":\"Line\"},{\"attributes\":{\"callback\":null,\"end\":0.2139400871449727,\"start\":-0.00042384164224270053},\"id\":\"5e29fc33-57ca-4fde-9211-844d1433a59a\",\"type\":\"Range1d\"},{\"attributes\":{\"callback\":null,\"column_names\":[\"x\",\"y\"],\"data\":{\"x\":{\"__ndarray__\":\"AAAAAAAAAAAAAAAAAAAAAAAAAAAAAAAAAAAAAAAAAAAAAAAAAAAAAJ55vSRj75A/VUB+jyoliD/GndaerjaBPzZwiv0Ti3g/f9J5IsKenj+ixhX78bWSPxIiJeUKyZE/FGNKOLWyjz8McXeZC6OfP/6cZqc9Kpg/K//EQllqmj9VXBAi/RyfP74hQ32BD54/XVdSQj5VoD/39fAjhjahP24TJkDYH6I/klmX/EpFoT9v+sy8yS2dP9Bghtj2/JY/RYQmWezOkT+O/z+kmOmKP2dmTYCmhIM/el3APD3eez/NaEQdmIt0P0AmPf+CTG4/DDJ7OekGZT824RXDAIJcP0rC8fyq41Y/mEgOfRxyWD8K+m352D5cP8bfb111iWA/4HuQQY2LYj/qqwu+AKljP5wn2189N2s/Yc32oYGKcT+KSnkdkIx1P7LYliAryHc/xEa8oDUreT8ISH+hIw96P5zOYqEOlno/zgJrIM8Kfj9GVRchkf6DP59Ml1YnjYs/QKHyPZCtlj8WigxcMk+iPxO/wn9Dc6o/4l5rf/+XsT9F0wcCzMu1PwtikUAyhrk/xHgw1vUTvT+RZzRFwm/AP2tZKcrGf8I/8z5MyvaExD9STg9lA0TGP6Cm+dewrsc/KnD0Ka7HyD+sYwkpR5rJPx1uC79pNMo/7x5e36Cgyj9+40rBQ+bKPyDM1MFNCMs/YjLR94Udyz++XYKVOxrLPwV6NBewy8o/dzcF6K3wyT/g1CigYDHIP2jjLfyFw8U/ILP1BHBQwz8Ge9mX6APBP7dQhYHfbb0/\",\"dtype\":\"float64\",\"shape\":[75]},\"y\":{\"__ndarray__\":\"S/O/Q+51ND/430zAtpRIP2vylNV0PVE/QxsjCssuWD/TR4Z78fVgP+inNsRxymc/OuuBfZWvcD/u3TFA02d3P2d3VoBnaoA/CD5h5MAGhz/1pA8HUCaQP+zrCsc9p5Y/Fb7LAKjGnz/nJ9c/SEmmPwBD+fzcQq8/FOZwv9nstT8Er5Y7M8G+P0c+r3jqkcU/yK72qKZBzj+tM989FzjVPxbgmr8yxN0/cOm5AXbg5D+5ctXAf0jtP5kqGJXUifQ/DsrqDELP/D8MCAhBojQEQDItVnmnVwxAiFXNvdHgE0BSSZ2AJuIbQAMJih9jjiNA5q4l5INuK0CPVN/5RT0zQHzxRXu8/DpAOZ7PgHrtQkAg8wGBzoxKQBSTN8DMeFJA2NmQf2ZqWEAAAAAAAFxeQEQX1LfMJmJAmpmZmZkfZUBmZmZmZhhoQLzoK0gzEWtAAAAAAAAKbkCiC+pbZoFwQAhyUMLM/XFA+I2vPTN6c0AQ5KCEmfZ0QAAAAAAAc3ZA8Btfe2bvd0AIclDCzGt5QPeNrz0z6HpAEOSghJlkfEAAAAAAAOF9QKML6ltmXX9ABTkoYeZsgED7xteeGSuBQAhyUMJM6YFAAAAAAICngkD4ja89s2WDQAU5KGHmI4RA+8bXnhnihEAIclDCTKCFQAAAAACAXoZA+I2vPbMch0AFOShh5tqHQPvG154ZmYhACHJQwkxXiUAAAAAAgBWKQPeNrz2z04pABTkoYeaRi0D7xteeGVCMQAlyUMJMDo1AAAAAAIDMjUD3ja89s4qOQGZmZmbmSI9A\",\"dtype\":\"float64\",\"shape\":[75]}}},\"id\":\"0a8942b6-1ca9-4c24-ad6c-02c75409b904\",\"type\":\"ColumnDataSource\"},{\"attributes\":{\"line_alpha\":0.6,\"line_color\":\"#984ea3\",\"line_width\":3,\"x\":{\"field\":\"x\"},\"y\":{\"field\":\"y\"}},\"id\":\"15c6de4f-257a-4de0-b8e3-cccd01ab27c5\",\"type\":\"Line\"},{\"attributes\":{},\"id\":\"8b60fddd-8230-4952-96db-3a0c8ecad7a3\",\"type\":\"SaveTool\"},{\"attributes\":{\"callback\":null,\"column_names\":[\"x\",\"y\"],\"data\":{\"x\":{\"__ndarray__\":\"h5gn5D7KZD/C0OaZl3pnP+jOzWeScm0/1bWMEZYjcj8sbkZHHvp1P57i2aJjR3o/j5kOFK0Zfz8spxqElDuCPzfegENmNoU/q3tIHqaCiD+oQ35orB6MP6xisDZU+Y8/9eKlSn0hkj82jNbffxyUP7Qz/t04spU/ph14Yd0Llz90oyjNb2OYP32MkaM7s5k/zlHf42D3mj+Zmx799yycPxyCQ6WaJJ0/PBx2Qlz3mj8xvih0cEaVP2fYg6SqZI8/WFNFMI+uhj/r4qFspAWAP7FCTdHqFHY/WEUAezpTbz8IP2z+I4BoPxgVd8+IMWQ/ADcgxSaZYD9gmsRO6F1bP8h5YkritFk/o0KIMrMSXD+qzn2JHldfP1B/B1CdWGE/jD2chVuMYj9AQtVvNPViPwY1m4Zqg2k/NsuO2YXibz9STO0rYBlzPxsqahsEt3Q/OYhiouS9dT+HyQtZs492P2RmgynaPnc/yeoYRwzKej9dgercAjuCP/1AVEL5gIk/bjsU1cAulT/9ghoUhi6hPyzhSCFCvKg/UnUJM99UsD/WNZK4UkW0PzhYNZFkGbg/TwTUSAnJuz/bWz5Qdky/P+1xEaXeT8E/+fv/F1PZwj/w82O8ezrEP/IQ3+yDasU/SNMsEgtjxj8dJF2WIyLHPzs4dXFdqcc/1ClNUrL/xz+7BI6h7zDIP3FY2Nt/R8g//Zv+iR1PyD93/khs0kjIP8nVXROxDMg/ViZfffpXxz8XFljX09TFP2VX1g1GssM/HTY24JiKwT/KeGvLRgi/P7NceFa57bo/\",\"dtype\":\"float64\",\"shape\":[75]},\"y\":{\"__ndarray__\":\"GhExyth1ND/Sv8nbtpRIP2vylNV0PVE/aTum7souWD/At0SJ8fVgPw3Iuahxymc/MSNhhJWvcD/bTfBN02d3P2zb5nxnaoA/CD5h5MAGhz8NmeH1TyaQP+zrCsc9p5Y/LbKd76fGnz/bLW5ISEmmPww9YvTcQq8/JV2OstnstT8Er5Y7M8G+P0c+r3jqkcU/5h99k6ZBzj88bCIzFzjVP4enV8oyxN0//yH99nXg5D8qOpLLf0jtP5kqGJXUifQ/c9cS8kHP/D+/DpwzojQEQIEmwoanVwxA4lgXt9HgE0BSSZ2AJuIbQAMJih9jjiNA5q4l5INuK0AwTKYKRj0zQNv5fmq8/DpAaCJseHrtQkB/+zpwzoxKQM3MzMzMeFJAZmZmZmZqWEAAAAAAAFxeQM3MzMzMJmJAmpmZmZkfZUBmZmZmZhhoQDMzMzMzEWtAAAAAAAAKbkBmZmZmZoFwQM3MzMzM/XFAMzMzMzN6c0CamZmZmfZ0QAAAAAAAc3ZAZmZmZmbvd0DNzMzMzGt5QDMzMzMz6HpAmpmZmZlkfEAAAAAAAOF9QGZmZmZmXX9AZmZmZuZsgECamZmZGSuBQM3MzMxM6YFAAAAAAICngkAzMzMzs2WDQGZmZmbmI4RAmpmZmRnihEDNzMzMTKCFQAAAAACAXoZAMzMzM7Mch0BmZmZm5tqHQJqZmZkZmYhAzczMzExXiUAAAAAAgBWKQDMzMzOz04pAZmZmZuaRi0CamZmZGVCMQM3MzMxMDo1AAAAAAIDMjUAzMzMzs4qOQGZmZmbmSI9A\",\"dtype\":\"float64\",\"shape\":[75]}}},\"id\":\"4eaed123-4671-4e25-bb0b-981ca377492a\",\"type\":\"ColumnDataSource\"},{\"attributes\":{\"below\":[{\"id\":\"737d2bbc-5d65-4e7f-a4a5-7a7990a263f7\",\"type\":\"LinearAxis\"}],\"left\":[{\"id\":\"9cc7cd18-40df-42aa-8e52-0425e2a5884e\",\"type\":\"LogAxis\"}],\"plot_height\":500,\"plot_width\":560,\"renderers\":[{\"id\":\"737d2bbc-5d65-4e7f-a4a5-7a7990a263f7\",\"type\":\"LinearAxis\"},{\"id\":\"1532102f-2ef7-4a2b-86ee-469c1f9047d9\",\"type\":\"Grid\"},{\"id\":\"9cc7cd18-40df-42aa-8e52-0425e2a5884e\",\"type\":\"LogAxis\"},{\"id\":\"e5c66d02-9c24-4889-9b0e-9a866396bcc3\",\"type\":\"Grid\"},{\"id\":\"492e61ac-c39c-4d98-a5d4-f8b71fbe20a8\",\"type\":\"BoxAnnotation\"},{\"id\":\"4b2fefef-d831-412c-9c4a-7ded3ecac6c6\",\"type\":\"GlyphRenderer\"},{\"id\":\"dc158a1e-6da4-4c49-9ff4-84725616f92b\",\"type\":\"GlyphRenderer\"},{\"id\":\"2ab6d383-7cd6-4eda-9763-5648dd064253\",\"type\":\"GlyphRenderer\"},{\"id\":\"b6563c12-0fc9-4f5c-8fad-836d2100f765\",\"type\":\"GlyphRenderer\"},{\"id\":\"22492e42-c2bd-4fa7-b691-7bbeccd383f7\",\"type\":\"GlyphRenderer\"},{\"id\":\"ef80fa1e-96bf-4034-973b-b198dcc911eb\",\"type\":\"Legend\"}],\"right\":[{\"id\":\"ef80fa1e-96bf-4034-973b-b198dcc911eb\",\"type\":\"Legend\"}],\"title\":{\"id\":\"fa365f74-6550-452a-8a56-75f5f81b4f5b\",\"type\":\"Title\"},\"toolbar\":{\"id\":\"72341d7c-a733-46a1-bba6-c7a87704b48a\",\"type\":\"Toolbar\"},\"toolbar_location\":null,\"x_range\":{\"id\":\"fde6cbc5-5b93-4af7-a4f4-71529174e8fd\",\"type\":\"Range1d\"},\"x_scale\":{\"id\":\"9ba85a8c-fe66-4e12-b0eb-eca5cb7ac5b5\",\"type\":\"LinearScale\"},\"y_range\":{\"id\":\"44aa6d6e-d176-4707-a2aa-f70ff373e1dc\",\"type\":\"Range1d\"},\"y_scale\":{\"id\":\"205b4a1e-b630-43e3-a9af-9314e287b199\",\"type\":\"LogScale\"}},\"id\":\"c53ffdc3-f9b5-4dec-a262-c8ca6f60558c\",\"subtype\":\"Figure\",\"type\":\"Plot\"},{\"attributes\":{\"overlay\":{\"id\":\"492e61ac-c39c-4d98-a5d4-f8b71fbe20a8\",\"type\":\"BoxAnnotation\"}},\"id\":\"094d8908-b8b2-455a-afe2-da062bd98194\",\"type\":\"BoxZoomTool\"},{\"attributes\":{\"data_source\":{\"id\":\"4eaed123-4671-4e25-bb0b-981ca377492a\",\"type\":\"ColumnDataSource\"},\"glyph\":{\"id\":\"7fd6ba47-082a-451e-8f49-a33da6db7bc0\",\"type\":\"Line\"},\"hover_glyph\":null,\"muted_glyph\":null,\"nonselection_glyph\":{\"id\":\"86e38ee9-5402-412b-a989-bdc7fe273155\",\"type\":\"Line\"},\"selection_glyph\":null,\"view\":{\"id\":\"5c98bd75-8482-4849-8f45-4b8adc6bd09d\",\"type\":\"CDSView\"}},\"id\":\"eccab590-8d06-4568-bb00-5a9d74dd2c96\",\"type\":\"GlyphRenderer\"},{\"attributes\":{},\"id\":\"205b4a1e-b630-43e3-a9af-9314e287b199\",\"type\":\"LogScale\"},{\"attributes\":{\"callback\":null,\"column_names\":[\"x\",\"y\"],\"data\":{\"x\":{\"__ndarray__\":\"VdYnLUnXZj9e0mihaiNpPyC6sld+Mm4/j4KhWKz3cT/DJyoCaCx1P16GbgcIv3g/d+Y4B6e3fD/KsNPPbpCAP0Kam6YHAIM/hEE/1ZOwhT8PT7hCv6eIP4GOj20064s/hOgQ8GR8jz+rFZacVXWRPz0LKzxWyZI/UehYhXYIlD8SmA0ji0iVPyF1Q2Q/mZY/6B+UO7nslz/XY9Ny2kuZP2Yk5gKZhpo/j9eLMvYjmT8klR0cn6eUP+5doquDAZA//tZiFTlciD+izPGdahuCP9UFZLisJHo/7OcbVlz6cj+BdDnu1wptP8J18JTymGY/S5TOWRIwYT/neyFwz/tZP8A+bMqO01Y/OqAqmoRpWD+Zt7v9Dn1bP4VWpSuNPl8/4vfj7CMqYT94zyA4eOxhPwp9rKRxl2g/f+WQMgpHbz/Epg/nwgBzP4g+hKhpznQ/fRi9lSH2dT9yc+93PNt2P0DYbNw5lXc/8o9Tbp0Qez8CaBWsQTyCP3EuYgyqUok/L7x4h0L4lD/Eva0nmf+gP1VWUkKdgag/BUejLfA2sD8DZU1heia0P9GFVukq27c/rBZid9REuz+p4b8i83m+PyABBnt70cA/eaHlqoVbwj/cKfWtzsjDP89P77jkAMU/qz/Zk6H4xT+IUs9oL6zGP4uc5dvwKcc/AfroAJV7xz+ZjfGHA6/HPwg2yQwZzcc/vMC4prffxz80XagAi+THP5DPs/Kossc/wwuj9Y8Ixz8KEXF8O5LFPyJ5y69mfcM/6EkJoZhhwT8HF4mt5cm+P2CelGOjyLo/\",\"dtype\":\"float64\",\"shape\":[75]},\"y\":{\"__ndarray__\":\"GhExyth1ND/Sv8nbtpRIP2vylNV0PVE/aTum7souWD/At0SJ8fVgPw3Iuahxymc/MSNhhJWvcD/bTfBN02d3P2zb5nxnaoA/CD5h5MAGhz8NmeH1TyaQP+zrCsc9p5Y/LbKd76fGnz/bLW5ISEmmPww9YvTcQq8/JV2OstnstT8Er5Y7M8G+P0c+r3jqkcU/5h99k6ZBzj88bCIzFzjVP4enV8oyxN0//yH99nXg5D8qOpLLf0jtP5kqGJXUifQ/c9cS8kHP/D+/DpwzojQEQIEmwoanVwxA4lgXt9HgE0BSSZ2AJuIbQAMJih9jjiNA5q4l5INuK0AwTKYKRj0zQNv5fmq8/DpAaCJseHrtQkB/+zpwzoxKQM3MzMzMeFJAZmZmZmZqWEAAAAAAAFxeQM3MzMzMJmJAmpmZmZkfZUBmZmZmZhhoQDMzMzMzEWtAAAAAAAAKbkBmZmZmZoFwQM3MzMzM/XFAMzMzMzN6c0CamZmZmfZ0QAAAAAAAc3ZAZmZmZmbvd0DNzMzMzGt5QDMzMzMz6HpAmpmZmZlkfEAAAAAAAOF9QGZmZmZmXX9AZmZmZuZsgECamZmZGSuBQM3MzMxM6YFAAAAAAICngkAzMzMzs2WDQGZmZmbmI4RAmpmZmRnihEDNzMzMTKCFQAAAAACAXoZAMzMzM7Mch0BmZmZm5tqHQJqZmZkZmYhAzczMzExXiUAAAAAAgBWKQDMzMzOz04pAZmZmZuaRi0CamZmZGVCMQM3MzMxMDo1AAAAAAIDMjUAzMzMzs4qOQGZmZmbmSI9A\",\"dtype\":\"float64\",\"shape\":[75]}}},\"id\":\"ff684c66-745a-48ee-a174-ce0139e3a2a8\",\"type\":\"ColumnDataSource\"},{\"attributes\":{\"line_color\":\"#4daf4a\",\"line_width\":1.5,\"x\":{\"field\":\"x\"},\"y\":{\"field\":\"y\"}},\"id\":\"7fd6ba47-082a-451e-8f49-a33da6db7bc0\",\"type\":\"Line\"},{\"attributes\":{\"source\":{\"id\":\"4eaed123-4671-4e25-bb0b-981ca377492a\",\"type\":\"ColumnDataSource\"}},\"id\":\"5c98bd75-8482-4849-8f45-4b8adc6bd09d\",\"type\":\"CDSView\"},{\"attributes\":{\"fill_alpha\":{\"value\":0.1},\"fill_color\":{\"value\":\"#1f77b4\"},\"line_alpha\":{\"value\":0.1},\"line_color\":{\"value\":\"#1f77b4\"},\"x\":{\"field\":\"x\"},\"y\":{\"field\":\"y\"}},\"id\":\"9116c08a-e864-449a-975c-f4d0f962e3ad\",\"type\":\"Circle\"},{\"attributes\":{\"data_source\":{\"id\":\"ff684c66-745a-48ee-a174-ce0139e3a2a8\",\"type\":\"ColumnDataSource\"},\"glyph\":{\"id\":\"f90b5850-2dbd-4c15-a677-8e3835a2ef87\",\"type\":\"Square\"},\"hover_glyph\":null,\"muted_glyph\":null,\"nonselection_glyph\":{\"id\":\"f8f1be88-8a09-4daa-83d0-6d5ae0a3deb8\",\"type\":\"Square\"},\"selection_glyph\":null,\"view\":{\"id\":\"1eeb740f-003a-4d50-91f7-c3fb7747b76f\",\"type\":\"CDSView\"}},\"id\":\"435e2803-85a1-4264-92cb-ef439d4621f4\",\"type\":\"GlyphRenderer\"},{\"attributes\":{},\"id\":\"2112ec03-6053-4e28-bd18-8749d160a417\",\"type\":\"BasicTicker\"},{\"attributes\":{\"line_alpha\":0.1,\"line_color\":\"#1f77b4\",\"line_width\":1.5,\"x\":{\"field\":\"x\"},\"y\":{\"field\":\"y\"}},\"id\":\"86e38ee9-5402-412b-a989-bdc7fe273155\",\"type\":\"Line\"},{\"attributes\":{\"children\":[{\"id\":\"9529837e-c054-4bb9-8913-8e96bd738995\",\"type\":\"Row\"}]},\"id\":\"d584ecc6-e428-43fa-ad10-8cbc3e4b44e5\",\"type\":\"Column\"},{\"attributes\":{},\"id\":\"f2317113-466a-4a6a-904b-b892dd632336\",\"type\":\"ResetTool\"},{\"attributes\":{\"plot\":null,\"text\":\"Log pressure scale\"},\"id\":\"fa365f74-6550-452a-8a56-75f5f81b4f5b\",\"type\":\"Title\"},{\"attributes\":{\"plot\":{\"id\":\"c53ffdc3-f9b5-4dec-a262-c8ca6f60558c\",\"subtype\":\"Figure\",\"type\":\"Plot\"},\"ticker\":{\"id\":\"7ea753fa-57fd-48d9-9d77-83e83bfc5dcc\",\"type\":\"BasicTicker\"}},\"id\":\"1532102f-2ef7-4a2b-86ee-469c1f9047d9\",\"type\":\"Grid\"},{\"attributes\":{},\"id\":\"57c91c83-c82e-411b-a0b6-ca1f7af5f723\",\"type\":\"HelpTool\"},{\"attributes\":{\"data_source\":{\"id\":\"860269d6-af55-4a9a-acfc-56577f34aa2f\",\"type\":\"ColumnDataSource\"},\"glyph\":{\"id\":\"15c6de4f-257a-4de0-b8e3-cccd01ab27c5\",\"type\":\"Line\"},\"hover_glyph\":null,\"muted_glyph\":null,\"nonselection_glyph\":{\"id\":\"1b8e75d6-7f22-4709-a3fc-59f85027e3a3\",\"type\":\"Line\"},\"selection_glyph\":null,\"view\":{\"id\":\"eb9550f5-c78b-4ffe-b246-e058f5a47733\",\"type\":\"CDSView\"}},\"id\":\"75cdf791-6ae8-4780-ac06-1983c9bd7490\",\"type\":\"GlyphRenderer\"},{\"attributes\":{\"num_minor_ticks\":10},\"id\":\"06b38136-fe66-4a75-957e-2e592766e401\",\"type\":\"LogTicker\"},{\"attributes\":{\"data_source\":{\"id\":\"1fc17b76-f3b9-4d16-9eb9-5ce85e284a63\",\"type\":\"ColumnDataSource\"},\"glyph\":{\"id\":\"a64c9ea5-e235-4092-808f-688b151d2a4d\",\"type\":\"Circle\"},\"hover_glyph\":null,\"muted_glyph\":null,\"nonselection_glyph\":{\"id\":\"9116c08a-e864-449a-975c-f4d0f962e3ad\",\"type\":\"Circle\"},\"selection_glyph\":null,\"view\":{\"id\":\"096dfe3d-8f9d-4fa4-8f01-c22b47e3f517\",\"type\":\"CDSView\"}},\"id\":\"70596eb4-da6b-48af-bf0f-f3dd4a9e754c\",\"type\":\"GlyphRenderer\"},{\"attributes\":{\"active_drag\":\"auto\",\"active_inspect\":\"auto\",\"active_scroll\":\"auto\",\"active_tap\":\"auto\",\"tools\":[{\"id\":\"48bdc894-399f-47ba-8e4a-c5ab0d879baa\",\"type\":\"PanTool\"},{\"id\":\"cfe7c9e1-8fa1-4b48-a0a0-ae665a5a35d5\",\"type\":\"WheelZoomTool\"},{\"id\":\"5c31f00e-2f36-4b30-8916-0ad3ccd44943\",\"type\":\"BoxZoomTool\"},{\"id\":\"985123a0-27cb-4ba5-a1b7-ac7a87bda6b1\",\"type\":\"SaveTool\"},{\"id\":\"bcf03d97-9258-407b-8b8c-6a1bd1f2bcd2\",\"type\":\"ResetTool\"},{\"id\":\"96c6944f-f60d-4f07-9ba8-ebf09a8f5990\",\"type\":\"HelpTool\"}]},\"id\":\"480e3ab3-d07f-40af-b73b-625f62489790\",\"type\":\"Toolbar\"},{\"attributes\":{\"children\":[{\"id\":\"d389fcba-a59e-4ee5-bde0-e0393423c22a\",\"type\":\"ToolbarBox\"},{\"id\":\"d584ecc6-e428-43fa-ad10-8cbc3e4b44e5\",\"type\":\"Column\"}]},\"id\":\"a5015fe7-9974-4b94-9f17-3c677eb7a14f\",\"type\":\"Column\"},{\"attributes\":{\"axis_label\":\"cooling rate [K/day]\",\"formatter\":{\"id\":\"eea8901c-e886-45ed-9821-1fe4e74b1992\",\"type\":\"BasicTickFormatter\"},\"plot\":{\"id\":\"f483f80a-8fa4-4c52-9588-65c705d138b5\",\"subtype\":\"Figure\",\"type\":\"Plot\"},\"ticker\":{\"id\":\"2112ec03-6053-4e28-bd18-8749d160a417\",\"type\":\"BasicTicker\"}},\"id\":\"a83f14c7-e86a-4dcd-a818-8b3804372061\",\"type\":\"LinearAxis\"},{\"attributes\":{},\"id\":\"989376f5-a7a4-4f95-acba-297b8ff3ee73\",\"type\":\"PanTool\"},{\"attributes\":{\"active_drag\":\"auto\",\"active_inspect\":\"auto\",\"active_scroll\":\"auto\",\"active_tap\":\"auto\",\"tools\":[{\"id\":\"989376f5-a7a4-4f95-acba-297b8ff3ee73\",\"type\":\"PanTool\"},{\"id\":\"dc00d22f-9838-41d7-9073-4ffbc37c9643\",\"type\":\"WheelZoomTool\"},{\"id\":\"094d8908-b8b2-455a-afe2-da062bd98194\",\"type\":\"BoxZoomTool\"},{\"id\":\"8b60fddd-8230-4952-96db-3a0c8ecad7a3\",\"type\":\"SaveTool\"},{\"id\":\"f2317113-466a-4a6a-904b-b892dd632336\",\"type\":\"ResetTool\"},{\"id\":\"57c91c83-c82e-411b-a0b6-ca1f7af5f723\",\"type\":\"HelpTool\"}]},\"id\":\"72341d7c-a733-46a1-bba6-c7a87704b48a\",\"type\":\"Toolbar\"},{\"attributes\":{\"axis_label\":\"cooling rate [K/day]\",\"formatter\":{\"id\":\"053fecf9-4448-47cf-b64c-fb91c645f3f3\",\"type\":\"BasicTickFormatter\"},\"plot\":{\"id\":\"c53ffdc3-f9b5-4dec-a262-c8ca6f60558c\",\"subtype\":\"Figure\",\"type\":\"Plot\"},\"ticker\":{\"id\":\"7ea753fa-57fd-48d9-9d77-83e83bfc5dcc\",\"type\":\"BasicTicker\"}},\"id\":\"737d2bbc-5d65-4e7f-a4a5-7a7990a263f7\",\"type\":\"LinearAxis\"},{\"attributes\":{\"dimension\":1,\"plot\":{\"id\":\"c53ffdc3-f9b5-4dec-a262-c8ca6f60558c\",\"subtype\":\"Figure\",\"type\":\"Plot\"},\"ticker\":{\"id\":\"06b38136-fe66-4a75-957e-2e592766e401\",\"type\":\"LogTicker\"}},\"id\":\"e5c66d02-9c24-4889-9b0e-9a866396bcc3\",\"type\":\"Grid\"},{\"attributes\":{},\"id\":\"dc00d22f-9838-41d7-9073-4ffbc37c9643\",\"type\":\"WheelZoomTool\"},{\"attributes\":{},\"id\":\"8ecced2c-4a73-47e6-9d0c-704c3d8dfa4f\",\"type\":\"BasicTicker\"},{\"attributes\":{\"source\":{\"id\":\"c29fda13-9407-4a9a-b61e-537448e6f2fc\",\"type\":\"ColumnDataSource\"}},\"id\":\"093c5943-3593-46df-a709-726bb554a55d\",\"type\":\"CDSView\"},{\"attributes\":{},\"id\":\"96c6944f-f60d-4f07-9ba8-ebf09a8f5990\",\"type\":\"HelpTool\"},{\"attributes\":{},\"id\":\"cfe7c9e1-8fa1-4b48-a0a0-ae665a5a35d5\",\"type\":\"WheelZoomTool\"},{\"attributes\":{},\"id\":\"7ea753fa-57fd-48d9-9d77-83e83bfc5dcc\",\"type\":\"BasicTicker\"},{\"attributes\":{},\"id\":\"9ba85a8c-fe66-4e12-b0eb-eca5cb7ac5b5\",\"type\":\"LinearScale\"},{\"attributes\":{\"fill_alpha\":{\"value\":0.1},\"fill_color\":{\"value\":\"#1f77b4\"},\"line_alpha\":{\"value\":0.1},\"line_color\":{\"value\":\"#1f77b4\"},\"x\":{\"field\":\"x\"},\"y\":{\"field\":\"y\"}},\"id\":\"f8f1be88-8a09-4daa-83d0-6d5ae0a3deb8\",\"type\":\"Square\"},{\"attributes\":{\"axis_label\":\"pressure [mb]\",\"formatter\":{\"id\":\"eb999382-e979-447c-a9d0-3defccf1bf92\",\"type\":\"BasicTickFormatter\"},\"plot\":{\"id\":\"f483f80a-8fa4-4c52-9588-65c705d138b5\",\"subtype\":\"Figure\",\"type\":\"Plot\"},\"ticker\":{\"id\":\"8ecced2c-4a73-47e6-9d0c-704c3d8dfa4f\",\"type\":\"BasicTicker\"}},\"id\":\"b7970faf-e6b1-4932-bd5e-33ac3c87d8ec\",\"type\":\"LinearAxis\"},{\"attributes\":{\"line_alpha\":0.6,\"line_color\":\"#e41a1c\",\"line_dash\":[6],\"line_width\":5,\"x\":{\"field\":\"x\"},\"y\":{\"field\":\"y\"}},\"id\":\"8891b24a-b244-4258-8b74-8718c8304dc9\",\"type\":\"Line\"},{\"attributes\":{\"bottom_units\":\"screen\",\"fill_alpha\":{\"value\":0.5},\"fill_color\":{\"value\":\"lightgrey\"},\"left_units\":\"screen\",\"level\":\"overlay\",\"line_alpha\":{\"value\":1.0},\"line_color\":{\"value\":\"black\"},\"line_dash\":[4,4],\"line_width\":{\"value\":2},\"plot\":null,\"render_mode\":\"css\",\"right_units\":\"screen\",\"top_units\":\"screen\"},\"id\":\"492e61ac-c39c-4d98-a5d4-f8b71fbe20a8\",\"type\":\"BoxAnnotation\"},{\"attributes\":{\"line_alpha\":0.6,\"line_color\":\"#e41a1c\",\"line_dash\":[6],\"line_width\":5,\"x\":{\"field\":\"x\"},\"y\":{\"field\":\"y\"}},\"id\":\"521d2406-0886-43ca-84b9-db48b2cc5bcb\",\"type\":\"Line\"},{\"attributes\":{},\"id\":\"48bdc894-399f-47ba-8e4a-c5ab0d879baa\",\"type\":\"PanTool\"},{\"attributes\":{\"bottom_units\":\"screen\",\"fill_alpha\":{\"value\":0.5},\"fill_color\":{\"value\":\"lightgrey\"},\"left_units\":\"screen\",\"level\":\"overlay\",\"line_alpha\":{\"value\":1.0},\"line_color\":{\"value\":\"black\"},\"line_dash\":[4,4],\"line_width\":{\"value\":2},\"plot\":null,\"render_mode\":\"css\",\"right_units\":\"screen\",\"top_units\":\"screen\"},\"id\":\"068810ec-43f9-4589-9137-22c47ed3df7d\",\"type\":\"BoxAnnotation\"},{\"attributes\":{\"source\":{\"id\":\"ff684c66-745a-48ee-a174-ce0139e3a2a8\",\"type\":\"ColumnDataSource\"}},\"id\":\"1eeb740f-003a-4d50-91f7-c3fb7747b76f\",\"type\":\"CDSView\"},{\"attributes\":{\"plot\":null,\"text\":\"Linear pressure scale\"},\"id\":\"9236ed62-8a1a-4942-9f71-82e9bc9f10b6\",\"type\":\"Title\"},{\"attributes\":{\"dimension\":1,\"plot\":{\"id\":\"f483f80a-8fa4-4c52-9588-65c705d138b5\",\"subtype\":\"Figure\",\"type\":\"Plot\"},\"ticker\":{\"id\":\"8ecced2c-4a73-47e6-9d0c-704c3d8dfa4f\",\"type\":\"BasicTicker\"}},\"id\":\"3e33b61c-09ae-4897-92e0-20f176c42628\",\"type\":\"Grid\"},{\"attributes\":{\"below\":[{\"id\":\"a83f14c7-e86a-4dcd-a818-8b3804372061\",\"type\":\"LinearAxis\"}],\"left\":[{\"id\":\"b7970faf-e6b1-4932-bd5e-33ac3c87d8ec\",\"type\":\"LinearAxis\"}],\"plot_height\":500,\"plot_width\":400,\"renderers\":[{\"id\":\"a83f14c7-e86a-4dcd-a818-8b3804372061\",\"type\":\"LinearAxis\"},{\"id\":\"f6aff532-2516-40cf-a42a-5fcea9ad0c46\",\"type\":\"Grid\"},{\"id\":\"b7970faf-e6b1-4932-bd5e-33ac3c87d8ec\",\"type\":\"LinearAxis\"},{\"id\":\"3e33b61c-09ae-4897-92e0-20f176c42628\",\"type\":\"Grid\"},{\"id\":\"068810ec-43f9-4589-9137-22c47ed3df7d\",\"type\":\"BoxAnnotation\"},{\"id\":\"64178254-ceaa-4ebf-b971-a4b2fda416a0\",\"type\":\"GlyphRenderer\"},{\"id\":\"70596eb4-da6b-48af-bf0f-f3dd4a9e754c\",\"type\":\"GlyphRenderer\"},{\"id\":\"eccab590-8d06-4568-bb00-5a9d74dd2c96\",\"type\":\"GlyphRenderer\"},{\"id\":\"435e2803-85a1-4264-92cb-ef439d4621f4\",\"type\":\"GlyphRenderer\"},{\"id\":\"75cdf791-6ae8-4780-ac06-1983c9bd7490\",\"type\":\"GlyphRenderer\"}],\"title\":{\"id\":\"9236ed62-8a1a-4942-9f71-82e9bc9f10b6\",\"type\":\"Title\"},\"toolbar\":{\"id\":\"480e3ab3-d07f-40af-b73b-625f62489790\",\"type\":\"Toolbar\"},\"toolbar_location\":null,\"x_range\":{\"id\":\"5e29fc33-57ca-4fde-9211-844d1433a59a\",\"type\":\"Range1d\"},\"x_scale\":{\"id\":\"62a1dd8c-c792-417a-b4ea-b5181de61167\",\"type\":\"LinearScale\"},\"y_range\":{\"id\":\"98ae3ab1-a32b-48de-bdd6-f3758434819b\",\"type\":\"Range1d\"},\"y_scale\":{\"id\":\"e502a27a-0657-4aff-8079-e9cd7d14854f\",\"type\":\"LinearScale\"}},\"id\":\"f483f80a-8fa4-4c52-9588-65c705d138b5\",\"subtype\":\"Figure\",\"type\":\"Plot\"},{\"attributes\":{\"axis_label\":\"pressure [mb]\",\"formatter\":{\"id\":\"4da30058-92cc-4f90-a158-f5803cdb0e44\",\"type\":\"LogTickFormatter\"},\"plot\":{\"id\":\"c53ffdc3-f9b5-4dec-a262-c8ca6f60558c\",\"subtype\":\"Figure\",\"type\":\"Plot\"},\"ticker\":{\"id\":\"06b38136-fe66-4a75-957e-2e592766e401\",\"type\":\"LogTicker\"}},\"id\":\"9cc7cd18-40df-42aa-8e52-0425e2a5884e\",\"type\":\"LogAxis\"},{\"attributes\":{},\"id\":\"62a1dd8c-c792-417a-b4ea-b5181de61167\",\"type\":\"LinearScale\"},{\"attributes\":{},\"id\":\"985123a0-27cb-4ba5-a1b7-ac7a87bda6b1\",\"type\":\"SaveTool\"},{\"attributes\":{\"plot\":{\"id\":\"f483f80a-8fa4-4c52-9588-65c705d138b5\",\"subtype\":\"Figure\",\"type\":\"Plot\"},\"ticker\":{\"id\":\"2112ec03-6053-4e28-bd18-8749d160a417\",\"type\":\"BasicTicker\"}},\"id\":\"f6aff532-2516-40cf-a42a-5fcea9ad0c46\",\"type\":\"Grid\"},{\"attributes\":{\"callback\":null,\"column_names\":[\"x\",\"y\"],\"data\":{\"x\":{\"__ndarray__\":\"VdYnLUnXZj9e0mihaiNpPyC6sld+Mm4/j4KhWKz3cT/DJyoCaCx1P16GbgcIv3g/d+Y4B6e3fD/KsNPPbpCAP0Kam6YHAIM/hEE/1ZOwhT8PT7hCv6eIP4GOj20064s/hOgQ8GR8jz+rFZacVXWRPz0LKzxWyZI/UehYhXYIlD8SmA0ji0iVPyF1Q2Q/mZY/6B+UO7nslz/XY9Ny2kuZP2Yk5gKZhpo/j9eLMvYjmT8klR0cn6eUP+5doquDAZA//tZiFTlciD+izPGdahuCP9UFZLisJHo/7OcbVlz6cj+BdDnu1wptP8J18JTymGY/S5TOWRIwYT/neyFwz/tZP8A+bMqO01Y/OqAqmoRpWD+Zt7v9Dn1bP4VWpSuNPl8/4vfj7CMqYT94zyA4eOxhPwp9rKRxl2g/f+WQMgpHbz/Epg/nwgBzP4g+hKhpznQ/fRi9lSH2dT9yc+93PNt2P0DYbNw5lXc/8o9Tbp0Qez8CaBWsQTyCP3EuYgyqUok/L7x4h0L4lD/Eva0nmf+gP1VWUkKdgag/BUejLfA2sD8DZU1heia0P9GFVukq27c/rBZid9REuz+p4b8i83m+PyABBnt70cA/eaHlqoVbwj/cKfWtzsjDP89P77jkAMU/qz/Zk6H4xT+IUs9oL6zGP4uc5dvwKcc/AfroAJV7xz+ZjfGHA6/HPwg2yQwZzcc/vMC4prffxz80XagAi+THP5DPs/Kossc/wwuj9Y8Ixz8KEXF8O5LFPyJ5y69mfcM/6EkJoZhhwT8HF4mt5cm+P2CelGOjyLo/\",\"dtype\":\"float64\",\"shape\":[75]},\"y\":{\"__ndarray__\":\"GhExyth1ND/Sv8nbtpRIP2vylNV0PVE/aTum7souWD/At0SJ8fVgPw3Iuahxymc/MSNhhJWvcD/bTfBN02d3P2zb5nxnaoA/CD5h5MAGhz8NmeH1TyaQP+zrCsc9p5Y/LbKd76fGnz/bLW5ISEmmPww9YvTcQq8/JV2OstnstT8Er5Y7M8G+P0c+r3jqkcU/5h99k6ZBzj88bCIzFzjVP4enV8oyxN0//yH99nXg5D8qOpLLf0jtP5kqGJXUifQ/c9cS8kHP/D+/DpwzojQEQIEmwoanVwxA4lgXt9HgE0BSSZ2AJuIbQAMJih9jjiNA5q4l5INuK0AwTKYKRj0zQNv5fmq8/DpAaCJseHrtQkB/+zpwzoxKQM3MzMzMeFJAZmZmZmZqWEAAAAAAAFxeQM3MzMzMJmJAmpmZmZkfZUBmZmZmZhhoQDMzMzMzEWtAAAAAAAAKbkBmZmZmZoFwQM3MzMzM/XFAMzMzMzN6c0CamZmZmfZ0QAAAAAAAc3ZAZmZmZmbvd0DNzMzMzGt5QDMzMzMz6HpAmpmZmZlkfEAAAAAAAOF9QGZmZmZmXX9AZmZmZuZsgECamZmZGSuBQM3MzMxM6YFAAAAAAICngkAzMzMzs2WDQGZmZmbmI4RAmpmZmRnihEDNzMzMTKCFQAAAAACAXoZAMzMzM7Mch0BmZmZm5tqHQJqZmZkZmYhAzczMzExXiUAAAAAAgBWKQDMzMzOz04pAZmZmZuaRi0CamZmZGVCMQM3MzMxMDo1AAAAAAIDMjUAzMzMzs4qOQGZmZmbmSI9A\",\"dtype\":\"float64\",\"shape\":[75]}}},\"id\":\"860269d6-af55-4a9a-acfc-56577f34aa2f\",\"type\":\"ColumnDataSource\"},{\"attributes\":{},\"id\":\"e502a27a-0657-4aff-8079-e9cd7d14854f\",\"type\":\"LinearScale\"},{\"attributes\":{\"label\":{\"value\":\"WGT igg=10 wgt_flux=2\"},\"renderers\":[{\"id\":\"b6563c12-0fc9-4f5c-8fad-836d2100f765\",\"type\":\"GlyphRenderer\"},{\"id\":\"22492e42-c2bd-4fa7-b691-7bbeccd383f7\",\"type\":\"GlyphRenderer\"}]},\"id\":\"e56ce492-5a0a-46c9-8438-dc43da668ec2\",\"type\":\"LegendItem\"}],\"root_ids\":[\"a5015fe7-9974-4b94-9f17-3c677eb7a14f\"]},\"title\":\"Bokeh Application\",\"version\":\"0.12.14\"}};\n",
       "  var render_items = [{\"docid\":\"4a4fc7f8-927d-4d8d-8d65-7912f2bfc4a5\",\"elementid\":\"715b6de2-6c93-40d6-a481-609ea31de67d\",\"modelid\":\"a5015fe7-9974-4b94-9f17-3c677eb7a14f\"}];\n",
       "  root.Bokeh.embed.embed_items_notebook(docs_json, render_items);\n",
       "\n",
       "  }\n",
       "  if (root.Bokeh !== undefined) {\n",
       "    embed_document(root);\n",
       "  } else {\n",
       "    var attempts = 0;\n",
       "    var timer = setInterval(function(root) {\n",
       "      if (root.Bokeh !== undefined) {\n",
       "        embed_document(root);\n",
       "        clearInterval(timer);\n",
       "      }\n",
       "      attempts++;\n",
       "      if (attempts > 100) {\n",
       "        console.log(\"Bokeh: ERROR: Unable to run BokehJS code because BokehJS library is missing\")\n",
       "        clearInterval(timer);\n",
       "      }\n",
       "    }, 10, root)\n",
       "  }\n",
       "})(window);"
      ],
      "application/vnd.bokehjs_exec.v0+json": ""
     },
     "metadata": {
      "application/vnd.bokehjs_exec.v0+json": {
       "id": "a5015fe7-9974-4b94-9f17-3c677eb7a14f"
      }
     },
     "output_type": "display_data"
    },
    {
     "name": "stdout",
     "output_type": "stream",
     "text": [
      "FIGURE. Cooling rate profiles.\n"
     ]
    },
    {
     "data": {
      "text/html": [
       "<a id=\"Flux_Comparison\"></a>"
      ],
      "text/plain": [
       "<IPython.core.display.HTML object>"
      ]
     },
     "metadata": {},
     "output_type": "display_data"
    },
    {
     "data": {
      "text/markdown": [
       "# Flux Comparison"
      ],
      "text/plain": [
       "<IPython.core.display.Markdown object>"
      ]
     },
     "metadata": {},
     "output_type": "display_data"
    },
    {
     "data": {
      "text/html": [
       "<div>\n",
       "<style>\n",
       "    .dataframe thead tr:only-child th {\n",
       "        text-align: right;\n",
       "    }\n",
       "\n",
       "    .dataframe thead th {\n",
       "        text-align: left;\n",
       "    }\n",
       "\n",
       "    .dataframe tbody tr th {\n",
       "        vertical-align: top;\n",
       "    }\n",
       "</style>\n",
       "<table border=\"1\" class=\"dataframe\">\n",
       "  <thead>\n",
       "    <tr style=\"text-align: right;\">\n",
       "      <th></th>\n",
       "      <th></th>\n",
       "      <th>flug</th>\n",
       "      <th>fldg</th>\n",
       "      <th>fnetg</th>\n",
       "    </tr>\n",
       "    <tr>\n",
       "      <th>pressure</th>\n",
       "      <th>level</th>\n",
       "      <th></th>\n",
       "      <th></th>\n",
       "      <th></th>\n",
       "    </tr>\n",
       "  </thead>\n",
       "  <tbody>\n",
       "    <tr>\n",
       "      <th>0.0000</th>\n",
       "      <th>1</th>\n",
       "      <td>-22.504215</td>\n",
       "      <td>0.000000</td>\n",
       "      <td>-22.504215</td>\n",
       "    </tr>\n",
       "    <tr>\n",
       "      <th>1.0685</th>\n",
       "      <th>24</th>\n",
       "      <td>-22.503419</td>\n",
       "      <td>0.002034</td>\n",
       "      <td>-22.501386</td>\n",
       "    </tr>\n",
       "    <tr>\n",
       "      <th>1013.0000</th>\n",
       "      <th>76</th>\n",
       "      <td>-23.591137</td>\n",
       "      <td>11.602302</td>\n",
       "      <td>-11.988836</td>\n",
       "    </tr>\n",
       "  </tbody>\n",
       "</table>\n",
       "</div>"
      ],
      "text/plain": [
       "                      flug       fldg      fnetg\n",
       "pressure  level                                 \n",
       "0.0000    1     -22.504215   0.000000 -22.504215\n",
       "1.0685    24    -22.503419   0.002034 -22.501386\n",
       "1013.0000 76    -23.591137  11.602302 -11.988836"
      ]
     },
     "metadata": {},
     "output_type": "display_data"
    },
    {
     "name": "stdout",
     "output_type": "stream",
     "text": [
      "Table. Fluxes. WGT igg=10 wgt_flux=1\n"
     ]
    },
    {
     "data": {
      "text/html": [
       "<div>\n",
       "<style>\n",
       "    .dataframe thead tr:only-child th {\n",
       "        text-align: right;\n",
       "    }\n",
       "\n",
       "    .dataframe thead th {\n",
       "        text-align: left;\n",
       "    }\n",
       "\n",
       "    .dataframe tbody tr th {\n",
       "        vertical-align: top;\n",
       "    }\n",
       "</style>\n",
       "<table border=\"1\" class=\"dataframe\">\n",
       "  <thead>\n",
       "    <tr style=\"text-align: right;\">\n",
       "      <th></th>\n",
       "      <th></th>\n",
       "      <th>flug</th>\n",
       "      <th>fldg</th>\n",
       "      <th>fnetg</th>\n",
       "    </tr>\n",
       "    <tr>\n",
       "      <th>pressure</th>\n",
       "      <th>level</th>\n",
       "      <th></th>\n",
       "      <th></th>\n",
       "      <th></th>\n",
       "    </tr>\n",
       "  </thead>\n",
       "  <tbody>\n",
       "    <tr>\n",
       "      <th>0.0000</th>\n",
       "      <th>1</th>\n",
       "      <td>-22.504461</td>\n",
       "      <td>0.000000</td>\n",
       "      <td>-22.504461</td>\n",
       "    </tr>\n",
       "    <tr>\n",
       "      <th>1.0685</th>\n",
       "      <th>24</th>\n",
       "      <td>-22.503683</td>\n",
       "      <td>0.002296</td>\n",
       "      <td>-22.501388</td>\n",
       "    </tr>\n",
       "    <tr>\n",
       "      <th>1013.0000</th>\n",
       "      <th>76</th>\n",
       "      <td>-23.591138</td>\n",
       "      <td>11.781512</td>\n",
       "      <td>-11.809626</td>\n",
       "    </tr>\n",
       "  </tbody>\n",
       "</table>\n",
       "</div>"
      ],
      "text/plain": [
       "                      flug       fldg      fnetg\n",
       "pressure  level                                 \n",
       "0.0000    1     -22.504461   0.000000 -22.504461\n",
       "1.0685    24    -22.503683   0.002296 -22.501388\n",
       "1013.0000 76    -23.591138  11.781512 -11.809626"
      ]
     },
     "metadata": {},
     "output_type": "display_data"
    },
    {
     "name": "stdout",
     "output_type": "stream",
     "text": [
      "Table. Fluxes. CRD\n"
     ]
    },
    {
     "data": {
      "text/html": [
       "<div>\n",
       "<style>\n",
       "    .dataframe thead tr:only-child th {\n",
       "        text-align: right;\n",
       "    }\n",
       "\n",
       "    .dataframe thead th {\n",
       "        text-align: left;\n",
       "    }\n",
       "\n",
       "    .dataframe tbody tr th {\n",
       "        vertical-align: top;\n",
       "    }\n",
       "</style>\n",
       "<table border=\"1\" class=\"dataframe\">\n",
       "  <thead>\n",
       "    <tr style=\"text-align: right;\">\n",
       "      <th></th>\n",
       "      <th></th>\n",
       "      <th>flug</th>\n",
       "      <th>fldg</th>\n",
       "      <th>fnetg</th>\n",
       "    </tr>\n",
       "    <tr>\n",
       "      <th>pressure</th>\n",
       "      <th>level</th>\n",
       "      <th></th>\n",
       "      <th></th>\n",
       "      <th></th>\n",
       "    </tr>\n",
       "  </thead>\n",
       "  <tbody>\n",
       "    <tr>\n",
       "      <th>1.000000e-08</th>\n",
       "      <th>1</th>\n",
       "      <td>-22.393188</td>\n",
       "      <td>0.000003</td>\n",
       "      <td>-22.393185</td>\n",
       "    </tr>\n",
       "    <tr>\n",
       "      <th>1.068500e+00</th>\n",
       "      <th>24</th>\n",
       "      <td>-22.392075</td>\n",
       "      <td>0.002802</td>\n",
       "      <td>-22.389273</td>\n",
       "    </tr>\n",
       "    <tr>\n",
       "      <th>1.013000e+03</th>\n",
       "      <th>76</th>\n",
       "      <td>-23.591141</td>\n",
       "      <td>12.952195</td>\n",
       "      <td>-10.638946</td>\n",
       "    </tr>\n",
       "  </tbody>\n",
       "</table>\n",
       "</div>"
      ],
      "text/plain": [
       "                         flug       fldg      fnetg\n",
       "pressure     level                                 \n",
       "1.000000e-08 1     -22.393188   0.000003 -22.393185\n",
       "1.068500e+00 24    -22.392075   0.002802 -22.389273\n",
       "1.013000e+03 76    -23.591141  12.952195 -10.638946"
      ]
     },
     "metadata": {},
     "output_type": "display_data"
    },
    {
     "name": "stdout",
     "output_type": "stream",
     "text": [
      "Table. Fluxes. CLIRAD\n"
     ]
    },
    {
     "data": {
      "text/html": [
       "<div>\n",
       "<style>\n",
       "    .dataframe thead tr:only-child th {\n",
       "        text-align: right;\n",
       "    }\n",
       "\n",
       "    .dataframe thead th {\n",
       "        text-align: left;\n",
       "    }\n",
       "\n",
       "    .dataframe tbody tr th {\n",
       "        vertical-align: top;\n",
       "    }\n",
       "</style>\n",
       "<table border=\"1\" class=\"dataframe\">\n",
       "  <thead>\n",
       "    <tr style=\"text-align: right;\">\n",
       "      <th></th>\n",
       "      <th></th>\n",
       "      <th>flug</th>\n",
       "      <th>fldg</th>\n",
       "      <th>fnetg</th>\n",
       "    </tr>\n",
       "    <tr>\n",
       "      <th>pressure</th>\n",
       "      <th>level</th>\n",
       "      <th></th>\n",
       "      <th></th>\n",
       "      <th></th>\n",
       "    </tr>\n",
       "  </thead>\n",
       "  <tbody>\n",
       "    <tr>\n",
       "      <th>0.0000</th>\n",
       "      <th>1</th>\n",
       "      <td>-2.457580e-04</td>\n",
       "      <td>0.000000</td>\n",
       "      <td>-0.000246</td>\n",
       "    </tr>\n",
       "    <tr>\n",
       "      <th>1.0685</th>\n",
       "      <th>24</th>\n",
       "      <td>-2.643440e-04</td>\n",
       "      <td>0.000262</td>\n",
       "      <td>-0.000002</td>\n",
       "    </tr>\n",
       "    <tr>\n",
       "      <th>1013.0000</th>\n",
       "      <th>76</th>\n",
       "      <td>-6.190000e-07</td>\n",
       "      <td>0.179210</td>\n",
       "      <td>0.179210</td>\n",
       "    </tr>\n",
       "  </tbody>\n",
       "</table>\n",
       "</div>"
      ],
      "text/plain": [
       "                         flug      fldg     fnetg\n",
       "pressure  level                                  \n",
       "0.0000    1     -2.457580e-04  0.000000 -0.000246\n",
       "1.0685    24    -2.643440e-04  0.000262 -0.000002\n",
       "1013.0000 76    -6.190000e-07  0.179210  0.179210"
      ]
     },
     "metadata": {},
     "output_type": "display_data"
    },
    {
     "name": "stdout",
     "output_type": "stream",
     "text": [
      "Table. Fluxes. (CRD) - (WGT igg=10 wgt_flux=1)\n"
     ]
    },
    {
     "data": {
      "text/html": [
       "<div>\n",
       "<style>\n",
       "    .dataframe thead tr:only-child th {\n",
       "        text-align: right;\n",
       "    }\n",
       "\n",
       "    .dataframe thead th {\n",
       "        text-align: left;\n",
       "    }\n",
       "\n",
       "    .dataframe tbody tr th {\n",
       "        vertical-align: top;\n",
       "    }\n",
       "</style>\n",
       "<table border=\"1\" class=\"dataframe\">\n",
       "  <thead>\n",
       "    <tr style=\"text-align: right;\">\n",
       "      <th></th>\n",
       "      <th></th>\n",
       "      <th>flug</th>\n",
       "      <th>fldg</th>\n",
       "      <th>fnetg</th>\n",
       "    </tr>\n",
       "    <tr>\n",
       "      <th>pressure</th>\n",
       "      <th>level</th>\n",
       "      <th></th>\n",
       "      <th></th>\n",
       "      <th></th>\n",
       "    </tr>\n",
       "  </thead>\n",
       "  <tbody>\n",
       "    <tr>\n",
       "      <th>0.0000</th>\n",
       "      <th>1</th>\n",
       "      <td>0.111027</td>\n",
       "      <td>0.000003</td>\n",
       "      <td>0.111030</td>\n",
       "    </tr>\n",
       "    <tr>\n",
       "      <th>1.0685</th>\n",
       "      <th>24</th>\n",
       "      <td>0.111344</td>\n",
       "      <td>0.000769</td>\n",
       "      <td>0.112113</td>\n",
       "    </tr>\n",
       "    <tr>\n",
       "      <th>1013.0000</th>\n",
       "      <th>76</th>\n",
       "      <td>-0.000004</td>\n",
       "      <td>1.349893</td>\n",
       "      <td>1.349890</td>\n",
       "    </tr>\n",
       "  </tbody>\n",
       "</table>\n",
       "</div>"
      ],
      "text/plain": [
       "                     flug      fldg     fnetg\n",
       "pressure  level                              \n",
       "0.0000    1      0.111027  0.000003  0.111030\n",
       "1.0685    24     0.111344  0.000769  0.112113\n",
       "1013.0000 76    -0.000004  1.349893  1.349890"
      ]
     },
     "metadata": {},
     "output_type": "display_data"
    },
    {
     "name": "stdout",
     "output_type": "stream",
     "text": [
      "Table. Fluxes. (CLIRAD) - (WGT igg=10 wgt_flux=1)\n"
     ]
    },
    {
     "data": {
      "text/html": [
       "<a id=\"Best-fit_Parameters\"></a>"
      ],
      "text/plain": [
       "<IPython.core.display.HTML object>"
      ]
     },
     "metadata": {},
     "output_type": "display_data"
    },
    {
     "data": {
      "text/markdown": [
       "# Best-fit Parameters"
      ],
      "text/plain": [
       "<IPython.core.display.Markdown object>"
      ]
     },
     "metadata": {},
     "output_type": "display_data"
    },
    {
     "name": "stdout",
     "output_type": "stream",
     "text": [
      "Best-fit values for each (gas, band)\n",
      "------------------------------------\n",
      "o h2o band3a\n",
      "  atmpro = mls\n",
      "  band = 3a\n",
      "  commitnumber = 2bd1f75\n",
      "  conc = None\n",
      "  dv = 0.01\n",
      "  klin = 0\n",
      "  molecule = h2o\n",
      "  ng_adju = [0, 0]\n",
      "  ng_refs = [2, 6]\n",
      "  nv = 100\n",
      "  option_compute_btable = 0\n",
      "  option_compute_ktable = 1\n",
      "  option_wgt_flux = 1\n",
      "  option_wgt_k = 1\n",
      "  ref_pts = [(10, 250), (600, 250)]\n",
      "  tsfc = 294\n",
      "  vmax = 620\n",
      "  vmin = 540\n",
      "  w_diffuse = [(1.9, 1.7), (1.4, 1.4, 1.4, 1.55, 1.6, 1.66)]\n",
      "  wgt = [(0.7, 0.7), (0.7, 0.5, 0.5, 0.5, 0.5, 0.5)]\n"
     ]
    }
   ],
   "source": [
    "script()"
   ]
  },
  {
   "cell_type": "code",
   "execution_count": 13,
   "metadata": {
    "collapsed": true
   },
   "outputs": [
    {
     "data": {
      "text/html": [
       "<script>\n",
       "code_show=true; \n",
       "function code_toggle() {\n",
       " if (code_show){\n",
       " $('div.input').hide();\n",
       " } else {\n",
       " $('div.input').show();\n",
       " }\n",
       " code_show = !code_show\n",
       "} \n",
       "$( document ).ready(code_toggle);\n",
       "</script>\n",
       "<form action=\"javascript:code_toggle()\"><input type=\"submit\" value=\"Click here to toggle on/off the raw code.\"></form>"
      ],
      "text/plain": [
       "<IPython.core.display.HTML object>"
      ]
     },
     "execution_count": 13,
     "metadata": {},
     "output_type": "execute_result"
    }
   ],
   "source": [
    "display.HTML('''<script>\n",
    "code_show=true; \n",
    "function code_toggle() {\n",
    " if (code_show){\n",
    " $('div.input').hide();\n",
    " } else {\n",
    " $('div.input').show();\n",
    " }\n",
    " code_show = !code_show\n",
    "} \n",
    "$( document ).ready(code_toggle);\n",
    "</script>\n",
    "<form action=\"javascript:code_toggle()\"><input type=\"submit\" value=\"Click here to toggle on/off the raw code.\"></form>''')"
   ]
  }
 ],
 "metadata": {
  "kernelspec": {
   "display_name": "Python 3",
   "language": "python",
   "name": "python3"
  },
  "language_info": {
   "codemirror_mode": {
    "name": "ipython",
    "version": 3
   },
   "file_extension": ".py",
   "mimetype": "text/x-python",
   "name": "python",
   "nbconvert_exporter": "python",
   "pygments_lexer": "ipython3",
   "version": "3.6.1"
  }
 },
 "nbformat": 4,
 "nbformat_minor": 2
}
