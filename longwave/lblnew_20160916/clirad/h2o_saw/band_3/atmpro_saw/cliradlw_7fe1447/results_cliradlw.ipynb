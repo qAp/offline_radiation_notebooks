{
 "cells": [
  {
   "cell_type": "code",
   "execution_count": 1,
   "metadata": {
    "collapsed": true
   },
   "outputs": [],
   "source": [
    "%matplotlib inline\n",
    "import os\n",
    "import re\n",
    "import io\n",
    "import itertools\n",
    "import pprint\n",
    "\n",
    "from bokeh.io import output_notebook, show\n",
    "from bokeh.layouts import gridplot\n",
    "from bokeh.plotting import figure\n",
    "from bokeh.models import Range1d, Legend\n",
    "from bokeh.palettes import all_palettes\n",
    "\n",
    "import matplotlib\n",
    "import matplotlib.pyplot as plt\n",
    "import numpy as np\n",
    "import pandas as pd\n",
    "import xarray as xr\n",
    "\n",
    "import climatools.lblnew.bestfit_params as bestfits\n",
    "from climatools.lblnew import setup_bestfit, setup_overlap\n",
    "import climatools.lblnew.pipeline as pipe_lblnew\n",
    "import climatools.cliradlw.setup as setup_cliradlw\n",
    "import climatools.cliradlw.pipeline as pipe_cliradlw\n",
    "\n",
    "import climatools.html.html as climahtml\n",
    "from climatools.lblnew.dataio import *\n",
    "from climatools.plot.plot import *\n",
    "\n",
    "\n",
    "import IPython.display as display"
   ]
  },
  {
   "cell_type": "code",
   "execution_count": 2,
   "metadata": {
    "collapsed": true
   },
   "outputs": [],
   "source": [
    "%run param.py"
   ]
  },
  {
   "cell_type": "code",
   "execution_count": 3,
   "metadata": {
    "collapsed": true
   },
   "outputs": [],
   "source": [
    "def load_output_file(path_csv):\n",
    "    '''\n",
    "    Load lblnew output .csv file to xarray.Dataset\n",
    "    \n",
    "    Parameters\n",
    "    ----------\n",
    "    path_csv: str\n",
    "              Path to the .csv file to be loaded.\n",
    "    ds: xarray.Dataset\n",
    "        Data in the input file in the form of an xarray.Dataset.\n",
    "    '''\n",
    "    toindex = ['band', 'pressure', 'igg', 'g']    \n",
    "    df = pd.read_csv(path_csv, sep=r'\\s+')\n",
    "    df = df.set_index([i for i in toindex if i in df.columns])\n",
    "    df = df.rename(columns={'sfu': 'flug',\n",
    "                            'sfd': 'fldg',\n",
    "                            'fnet': 'fnetg',\n",
    "                            'coolr': 'coolrg'})\n",
    "    ds = xr.Dataset.from_dataframe(df)\n",
    "\n",
    "    for l in ('level', 'layer'):\n",
    "        if l in ds.data_vars:\n",
    "            if len(ds[l].dims) > 1:\n",
    "                surface = {d: 0 for d in ds.dims if d != 'pressure'}\n",
    "                coord_level = ds[l][surface]\n",
    "                ds.coords[l] = ('pressure', coord_level)\n",
    "            else:\n",
    "                ds.coords[l] = ('pressure', ds[l])\n",
    "    \n",
    "    return ds"
   ]
  },
  {
   "cell_type": "code",
   "execution_count": 4,
   "metadata": {
    "collapsed": true
   },
   "outputs": [],
   "source": [
    "def lblnew_setup(param=None):\n",
    "    if 'ng_refs' in param:\n",
    "        return {'setup': setup_bestfit,\n",
    "                'fname_flux_crd': 'output_flux.dat',\n",
    "                'fname_cool_crd': 'output_coolr.dat',\n",
    "                'fname_flux_wgt': 'output_wfluxg.dat',\n",
    "                'fname_cool_wgt': 'output_wcoolrg.dat'}\n",
    "    else:\n",
    "        return {'setup': setup_overlap,\n",
    "                'fname_flux_crd': 'output_flux.dat',\n",
    "                'fname_cool_crd': 'output_coolr.dat',\n",
    "                'fname_flux_wgt': 'output_wflux.dat',\n",
    "                'fname_cool_wgt': 'output_wcoolr.dat'}\n",
    "\n",
    "    \n",
    "def load_lblnew_data(param):\n",
    "    \n",
    "    fname_dsname = [('fname_flux_crd', 'ds_flux_crd'),\n",
    "                    ('fname_cool_crd', 'ds_cool_crd'),\n",
    "                    ('fname_flux_wgt', 'ds_flux_wgt'),\n",
    "                    ('fname_cool_wgt', 'ds_cool_wgt')]\n",
    "    \n",
    "    d = lblnew_setup(param)\n",
    "    dir_fortran = pipe_lblnew.get_dir_case(param, setup=d['setup'])\n",
    "    \n",
    "    data_dict = {}\n",
    "    for fname, dsname in fname_dsname:\n",
    "        fpath = os.path.join(dir_fortran, d[fname])\n",
    "        data_dict[dsname] = load_output_file(fpath)\n",
    "    return data_dict\n",
    "    \n",
    "\n",
    "    \n",
    "    "
   ]
  },
  {
   "cell_type": "code",
   "execution_count": 5,
   "metadata": {
    "collapsed": true
   },
   "outputs": [],
   "source": [
    "d = load_lblnew_data(PARAM_LBLNEW)\n",
    "\n",
    "DS_FLUX_CRD = d['ds_flux_crd']\n",
    "DS_COOL_CRD = d['ds_cool_crd']\n",
    "DS_FLUX_WGT = d['ds_flux_wgt']\n",
    "DS_COOL_WGT = d['ds_cool_wgt']"
   ]
  },
  {
   "cell_type": "code",
   "execution_count": 6,
   "metadata": {
    "collapsed": true
   },
   "outputs": [],
   "source": [
    "DIR_FORTRAN = pipe_cliradlw.get_fortran_dir(PARAM, \n",
    "                                            setup=setup_cliradlw)\n",
    "\n",
    "PATH_FLUX = os.path.join(DIR_FORTRAN, 'output_flux.dat')\n",
    "PATH_COOL = os.path.join(DIR_FORTRAN, 'output_coolr.dat')\n",
    "\n",
    "DS_FLUX = load_output_file(PATH_FLUX)\n",
    "DS_COOL = load_output_file(PATH_COOL)"
   ]
  },
  {
   "cell_type": "code",
   "execution_count": 7,
   "metadata": {
    "collapsed": true
   },
   "outputs": [
    {
     "data": {
      "text/html": [
       "\n",
       "    <div class=\"bk-root\">\n",
       "        <a href=\"https://bokeh.pydata.org\" target=\"_blank\" class=\"bk-logo bk-logo-small bk-logo-notebook\"></a>\n",
       "        <span id=\"9b06ab7d-38fb-4d56-9a55-fc88c5f42c43\">Loading BokehJS ...</span>\n",
       "    </div>"
      ]
     },
     "metadata": {},
     "output_type": "display_data"
    },
    {
     "data": {
      "application/javascript": [
       "\n",
       "(function(root) {\n",
       "  function now() {\n",
       "    return new Date();\n",
       "  }\n",
       "\n",
       "  var force = true;\n",
       "\n",
       "  if (typeof (root._bokeh_onload_callbacks) === \"undefined\" || force === true) {\n",
       "    root._bokeh_onload_callbacks = [];\n",
       "    root._bokeh_is_loading = undefined;\n",
       "  }\n",
       "\n",
       "  var JS_MIME_TYPE = 'application/javascript';\n",
       "  var HTML_MIME_TYPE = 'text/html';\n",
       "  var EXEC_MIME_TYPE = 'application/vnd.bokehjs_exec.v0+json';\n",
       "  var CLASS_NAME = 'output_bokeh rendered_html';\n",
       "\n",
       "  /**\n",
       "   * Render data to the DOM node\n",
       "   */\n",
       "  function render(props, node) {\n",
       "    var script = document.createElement(\"script\");\n",
       "    node.appendChild(script);\n",
       "  }\n",
       "\n",
       "  /**\n",
       "   * Handle when an output is cleared or removed\n",
       "   */\n",
       "  function handleClearOutput(event, handle) {\n",
       "    var cell = handle.cell;\n",
       "\n",
       "    var id = cell.output_area._bokeh_element_id;\n",
       "    var server_id = cell.output_area._bokeh_server_id;\n",
       "    // Clean up Bokeh references\n",
       "    if (id !== undefined) {\n",
       "      Bokeh.index[id].model.document.clear();\n",
       "      delete Bokeh.index[id];\n",
       "    }\n",
       "\n",
       "    if (server_id !== undefined) {\n",
       "      // Clean up Bokeh references\n",
       "      var cmd = \"from bokeh.io.state import curstate; print(curstate().uuid_to_server['\" + server_id + \"'].get_sessions()[0].document.roots[0]._id)\";\n",
       "      cell.notebook.kernel.execute(cmd, {\n",
       "        iopub: {\n",
       "          output: function(msg) {\n",
       "            var element_id = msg.content.text.trim();\n",
       "            Bokeh.index[element_id].model.document.clear();\n",
       "            delete Bokeh.index[element_id];\n",
       "          }\n",
       "        }\n",
       "      });\n",
       "      // Destroy server and session\n",
       "      var cmd = \"import bokeh.io.notebook as ion; ion.destroy_server('\" + server_id + \"')\";\n",
       "      cell.notebook.kernel.execute(cmd);\n",
       "    }\n",
       "  }\n",
       "\n",
       "  /**\n",
       "   * Handle when a new output is added\n",
       "   */\n",
       "  function handleAddOutput(event, handle) {\n",
       "    var output_area = handle.output_area;\n",
       "    var output = handle.output;\n",
       "\n",
       "    // limit handleAddOutput to display_data with EXEC_MIME_TYPE content only\n",
       "    if ((output.output_type != \"display_data\") || (!output.data.hasOwnProperty(EXEC_MIME_TYPE))) {\n",
       "      return\n",
       "    }\n",
       "\n",
       "    var toinsert = output_area.element.find(\".\" + CLASS_NAME.split(' ')[0]);\n",
       "\n",
       "    if (output.metadata[EXEC_MIME_TYPE][\"id\"] !== undefined) {\n",
       "      toinsert[0].firstChild.textContent = output.data[JS_MIME_TYPE];\n",
       "      // store reference to embed id on output_area\n",
       "      output_area._bokeh_element_id = output.metadata[EXEC_MIME_TYPE][\"id\"];\n",
       "    }\n",
       "    if (output.metadata[EXEC_MIME_TYPE][\"server_id\"] !== undefined) {\n",
       "      var bk_div = document.createElement(\"div\");\n",
       "      bk_div.innerHTML = output.data[HTML_MIME_TYPE];\n",
       "      var script_attrs = bk_div.children[0].attributes;\n",
       "      for (var i = 0; i < script_attrs.length; i++) {\n",
       "        toinsert[0].firstChild.setAttribute(script_attrs[i].name, script_attrs[i].value);\n",
       "      }\n",
       "      // store reference to server id on output_area\n",
       "      output_area._bokeh_server_id = output.metadata[EXEC_MIME_TYPE][\"server_id\"];\n",
       "    }\n",
       "  }\n",
       "\n",
       "  function register_renderer(events, OutputArea) {\n",
       "\n",
       "    function append_mime(data, metadata, element) {\n",
       "      // create a DOM node to render to\n",
       "      var toinsert = this.create_output_subarea(\n",
       "        metadata,\n",
       "        CLASS_NAME,\n",
       "        EXEC_MIME_TYPE\n",
       "      );\n",
       "      this.keyboard_manager.register_events(toinsert);\n",
       "      // Render to node\n",
       "      var props = {data: data, metadata: metadata[EXEC_MIME_TYPE]};\n",
       "      render(props, toinsert[0]);\n",
       "      element.append(toinsert);\n",
       "      return toinsert\n",
       "    }\n",
       "\n",
       "    /* Handle when an output is cleared or removed */\n",
       "    events.on('clear_output.CodeCell', handleClearOutput);\n",
       "    events.on('delete.Cell', handleClearOutput);\n",
       "\n",
       "    /* Handle when a new output is added */\n",
       "    events.on('output_added.OutputArea', handleAddOutput);\n",
       "\n",
       "    /**\n",
       "     * Register the mime type and append_mime function with output_area\n",
       "     */\n",
       "    OutputArea.prototype.register_mime_type(EXEC_MIME_TYPE, append_mime, {\n",
       "      /* Is output safe? */\n",
       "      safe: true,\n",
       "      /* Index of renderer in `output_area.display_order` */\n",
       "      index: 0\n",
       "    });\n",
       "  }\n",
       "\n",
       "  // register the mime type if in Jupyter Notebook environment and previously unregistered\n",
       "  if (root.Jupyter !== undefined) {\n",
       "    var events = require('base/js/events');\n",
       "    var OutputArea = require('notebook/js/outputarea').OutputArea;\n",
       "\n",
       "    if (OutputArea.prototype.mime_types().indexOf(EXEC_MIME_TYPE) == -1) {\n",
       "      register_renderer(events, OutputArea);\n",
       "    }\n",
       "  }\n",
       "\n",
       "  \n",
       "  if (typeof (root._bokeh_timeout) === \"undefined\" || force === true) {\n",
       "    root._bokeh_timeout = Date.now() + 5000;\n",
       "    root._bokeh_failed_load = false;\n",
       "  }\n",
       "\n",
       "  var NB_LOAD_WARNING = {'data': {'text/html':\n",
       "     \"<div style='background-color: #fdd'>\\n\"+\n",
       "     \"<p>\\n\"+\n",
       "     \"BokehJS does not appear to have successfully loaded. If loading BokehJS from CDN, this \\n\"+\n",
       "     \"may be due to a slow or bad network connection. Possible fixes:\\n\"+\n",
       "     \"</p>\\n\"+\n",
       "     \"<ul>\\n\"+\n",
       "     \"<li>re-rerun `output_notebook()` to attempt to load from CDN again, or</li>\\n\"+\n",
       "     \"<li>use INLINE resources instead, as so:</li>\\n\"+\n",
       "     \"</ul>\\n\"+\n",
       "     \"<code>\\n\"+\n",
       "     \"from bokeh.resources import INLINE\\n\"+\n",
       "     \"output_notebook(resources=INLINE)\\n\"+\n",
       "     \"</code>\\n\"+\n",
       "     \"</div>\"}};\n",
       "\n",
       "  function display_loaded() {\n",
       "    var el = document.getElementById(\"9b06ab7d-38fb-4d56-9a55-fc88c5f42c43\");\n",
       "    if (el != null) {\n",
       "      el.textContent = \"BokehJS is loading...\";\n",
       "    }\n",
       "    if (root.Bokeh !== undefined) {\n",
       "      if (el != null) {\n",
       "        el.textContent = \"BokehJS \" + root.Bokeh.version + \" successfully loaded.\";\n",
       "      }\n",
       "    } else if (Date.now() < root._bokeh_timeout) {\n",
       "      setTimeout(display_loaded, 100)\n",
       "    }\n",
       "  }\n",
       "\n",
       "\n",
       "  function run_callbacks() {\n",
       "    try {\n",
       "      root._bokeh_onload_callbacks.forEach(function(callback) { callback() });\n",
       "    }\n",
       "    finally {\n",
       "      delete root._bokeh_onload_callbacks\n",
       "    }\n",
       "    console.info(\"Bokeh: all callbacks have finished\");\n",
       "  }\n",
       "\n",
       "  function load_libs(js_urls, callback) {\n",
       "    root._bokeh_onload_callbacks.push(callback);\n",
       "    if (root._bokeh_is_loading > 0) {\n",
       "      console.log(\"Bokeh: BokehJS is being loaded, scheduling callback at\", now());\n",
       "      return null;\n",
       "    }\n",
       "    if (js_urls == null || js_urls.length === 0) {\n",
       "      run_callbacks();\n",
       "      return null;\n",
       "    }\n",
       "    console.log(\"Bokeh: BokehJS not loaded, scheduling load and callback at\", now());\n",
       "    root._bokeh_is_loading = js_urls.length;\n",
       "    for (var i = 0; i < js_urls.length; i++) {\n",
       "      var url = js_urls[i];\n",
       "      var s = document.createElement('script');\n",
       "      s.src = url;\n",
       "      s.async = false;\n",
       "      s.onreadystatechange = s.onload = function() {\n",
       "        root._bokeh_is_loading--;\n",
       "        if (root._bokeh_is_loading === 0) {\n",
       "          console.log(\"Bokeh: all BokehJS libraries loaded\");\n",
       "          run_callbacks()\n",
       "        }\n",
       "      };\n",
       "      s.onerror = function() {\n",
       "        console.warn(\"failed to load library \" + url);\n",
       "      };\n",
       "      console.log(\"Bokeh: injecting script tag for BokehJS library: \", url);\n",
       "      document.getElementsByTagName(\"head\")[0].appendChild(s);\n",
       "    }\n",
       "  };var element = document.getElementById(\"9b06ab7d-38fb-4d56-9a55-fc88c5f42c43\");\n",
       "  if (element == null) {\n",
       "    console.log(\"Bokeh: ERROR: autoload.js configured with elementid '9b06ab7d-38fb-4d56-9a55-fc88c5f42c43' but no matching script tag was found. \")\n",
       "    return false;\n",
       "  }\n",
       "\n",
       "  var js_urls = [\"https://cdn.pydata.org/bokeh/release/bokeh-0.12.14.min.js\", \"https://cdn.pydata.org/bokeh/release/bokeh-widgets-0.12.14.min.js\", \"https://cdn.pydata.org/bokeh/release/bokeh-tables-0.12.14.min.js\", \"https://cdn.pydata.org/bokeh/release/bokeh-gl-0.12.14.min.js\"];\n",
       "\n",
       "  var inline_js = [\n",
       "    function(Bokeh) {\n",
       "      Bokeh.set_log_level(\"info\");\n",
       "    },\n",
       "    \n",
       "    function(Bokeh) {\n",
       "      \n",
       "    },\n",
       "    function(Bokeh) {\n",
       "      console.log(\"Bokeh: injecting CSS: https://cdn.pydata.org/bokeh/release/bokeh-0.12.14.min.css\");\n",
       "      Bokeh.embed.inject_css(\"https://cdn.pydata.org/bokeh/release/bokeh-0.12.14.min.css\");\n",
       "      console.log(\"Bokeh: injecting CSS: https://cdn.pydata.org/bokeh/release/bokeh-widgets-0.12.14.min.css\");\n",
       "      Bokeh.embed.inject_css(\"https://cdn.pydata.org/bokeh/release/bokeh-widgets-0.12.14.min.css\");\n",
       "      console.log(\"Bokeh: injecting CSS: https://cdn.pydata.org/bokeh/release/bokeh-tables-0.12.14.min.css\");\n",
       "      Bokeh.embed.inject_css(\"https://cdn.pydata.org/bokeh/release/bokeh-tables-0.12.14.min.css\");\n",
       "    }\n",
       "  ];\n",
       "\n",
       "  function run_inline_js() {\n",
       "    \n",
       "    if ((root.Bokeh !== undefined) || (force === true)) {\n",
       "      for (var i = 0; i < inline_js.length; i++) {\n",
       "        inline_js[i].call(root, root.Bokeh);\n",
       "      }if (force === true) {\n",
       "        display_loaded();\n",
       "      }} else if (Date.now() < root._bokeh_timeout) {\n",
       "      setTimeout(run_inline_js, 100);\n",
       "    } else if (!root._bokeh_failed_load) {\n",
       "      console.log(\"Bokeh: BokehJS failed to load within specified timeout.\");\n",
       "      root._bokeh_failed_load = true;\n",
       "    } else if (force !== true) {\n",
       "      var cell = $(document.getElementById(\"9b06ab7d-38fb-4d56-9a55-fc88c5f42c43\")).parents('.cell').data().cell;\n",
       "      cell.output_area.append_execute_result(NB_LOAD_WARNING)\n",
       "    }\n",
       "\n",
       "  }\n",
       "\n",
       "  if (root._bokeh_is_loading === 0) {\n",
       "    console.log(\"Bokeh: BokehJS loaded, going straight to plotting\");\n",
       "    run_inline_js();\n",
       "  } else {\n",
       "    load_libs(js_urls, function() {\n",
       "      console.log(\"Bokeh: BokehJS plotting callback run at\", now());\n",
       "      run_inline_js();\n",
       "    });\n",
       "  }\n",
       "}(window));"
      ],
      "application/vnd.bokehjs_load.v0+json": "\n(function(root) {\n  function now() {\n    return new Date();\n  }\n\n  var force = true;\n\n  if (typeof (root._bokeh_onload_callbacks) === \"undefined\" || force === true) {\n    root._bokeh_onload_callbacks = [];\n    root._bokeh_is_loading = undefined;\n  }\n\n  \n\n  \n  if (typeof (root._bokeh_timeout) === \"undefined\" || force === true) {\n    root._bokeh_timeout = Date.now() + 5000;\n    root._bokeh_failed_load = false;\n  }\n\n  var NB_LOAD_WARNING = {'data': {'text/html':\n     \"<div style='background-color: #fdd'>\\n\"+\n     \"<p>\\n\"+\n     \"BokehJS does not appear to have successfully loaded. If loading BokehJS from CDN, this \\n\"+\n     \"may be due to a slow or bad network connection. Possible fixes:\\n\"+\n     \"</p>\\n\"+\n     \"<ul>\\n\"+\n     \"<li>re-rerun `output_notebook()` to attempt to load from CDN again, or</li>\\n\"+\n     \"<li>use INLINE resources instead, as so:</li>\\n\"+\n     \"</ul>\\n\"+\n     \"<code>\\n\"+\n     \"from bokeh.resources import INLINE\\n\"+\n     \"output_notebook(resources=INLINE)\\n\"+\n     \"</code>\\n\"+\n     \"</div>\"}};\n\n  function display_loaded() {\n    var el = document.getElementById(\"9b06ab7d-38fb-4d56-9a55-fc88c5f42c43\");\n    if (el != null) {\n      el.textContent = \"BokehJS is loading...\";\n    }\n    if (root.Bokeh !== undefined) {\n      if (el != null) {\n        el.textContent = \"BokehJS \" + root.Bokeh.version + \" successfully loaded.\";\n      }\n    } else if (Date.now() < root._bokeh_timeout) {\n      setTimeout(display_loaded, 100)\n    }\n  }\n\n\n  function run_callbacks() {\n    try {\n      root._bokeh_onload_callbacks.forEach(function(callback) { callback() });\n    }\n    finally {\n      delete root._bokeh_onload_callbacks\n    }\n    console.info(\"Bokeh: all callbacks have finished\");\n  }\n\n  function load_libs(js_urls, callback) {\n    root._bokeh_onload_callbacks.push(callback);\n    if (root._bokeh_is_loading > 0) {\n      console.log(\"Bokeh: BokehJS is being loaded, scheduling callback at\", now());\n      return null;\n    }\n    if (js_urls == null || js_urls.length === 0) {\n      run_callbacks();\n      return null;\n    }\n    console.log(\"Bokeh: BokehJS not loaded, scheduling load and callback at\", now());\n    root._bokeh_is_loading = js_urls.length;\n    for (var i = 0; i < js_urls.length; i++) {\n      var url = js_urls[i];\n      var s = document.createElement('script');\n      s.src = url;\n      s.async = false;\n      s.onreadystatechange = s.onload = function() {\n        root._bokeh_is_loading--;\n        if (root._bokeh_is_loading === 0) {\n          console.log(\"Bokeh: all BokehJS libraries loaded\");\n          run_callbacks()\n        }\n      };\n      s.onerror = function() {\n        console.warn(\"failed to load library \" + url);\n      };\n      console.log(\"Bokeh: injecting script tag for BokehJS library: \", url);\n      document.getElementsByTagName(\"head\")[0].appendChild(s);\n    }\n  };var element = document.getElementById(\"9b06ab7d-38fb-4d56-9a55-fc88c5f42c43\");\n  if (element == null) {\n    console.log(\"Bokeh: ERROR: autoload.js configured with elementid '9b06ab7d-38fb-4d56-9a55-fc88c5f42c43' but no matching script tag was found. \")\n    return false;\n  }\n\n  var js_urls = [\"https://cdn.pydata.org/bokeh/release/bokeh-0.12.14.min.js\", \"https://cdn.pydata.org/bokeh/release/bokeh-widgets-0.12.14.min.js\", \"https://cdn.pydata.org/bokeh/release/bokeh-tables-0.12.14.min.js\", \"https://cdn.pydata.org/bokeh/release/bokeh-gl-0.12.14.min.js\"];\n\n  var inline_js = [\n    function(Bokeh) {\n      Bokeh.set_log_level(\"info\");\n    },\n    \n    function(Bokeh) {\n      \n    },\n    function(Bokeh) {\n      console.log(\"Bokeh: injecting CSS: https://cdn.pydata.org/bokeh/release/bokeh-0.12.14.min.css\");\n      Bokeh.embed.inject_css(\"https://cdn.pydata.org/bokeh/release/bokeh-0.12.14.min.css\");\n      console.log(\"Bokeh: injecting CSS: https://cdn.pydata.org/bokeh/release/bokeh-widgets-0.12.14.min.css\");\n      Bokeh.embed.inject_css(\"https://cdn.pydata.org/bokeh/release/bokeh-widgets-0.12.14.min.css\");\n      console.log(\"Bokeh: injecting CSS: https://cdn.pydata.org/bokeh/release/bokeh-tables-0.12.14.min.css\");\n      Bokeh.embed.inject_css(\"https://cdn.pydata.org/bokeh/release/bokeh-tables-0.12.14.min.css\");\n    }\n  ];\n\n  function run_inline_js() {\n    \n    if ((root.Bokeh !== undefined) || (force === true)) {\n      for (var i = 0; i < inline_js.length; i++) {\n        inline_js[i].call(root, root.Bokeh);\n      }if (force === true) {\n        display_loaded();\n      }} else if (Date.now() < root._bokeh_timeout) {\n      setTimeout(run_inline_js, 100);\n    } else if (!root._bokeh_failed_load) {\n      console.log(\"Bokeh: BokehJS failed to load within specified timeout.\");\n      root._bokeh_failed_load = true;\n    } else if (force !== true) {\n      var cell = $(document.getElementById(\"9b06ab7d-38fb-4d56-9a55-fc88c5f42c43\")).parents('.cell').data().cell;\n      cell.output_area.append_execute_result(NB_LOAD_WARNING)\n    }\n\n  }\n\n  if (root._bokeh_is_loading === 0) {\n    console.log(\"Bokeh: BokehJS loaded, going straight to plotting\");\n    run_inline_js();\n  } else {\n    load_libs(js_urls, function() {\n      console.log(\"Bokeh: BokehJS plotting callback run at\", now());\n      run_inline_js();\n    });\n  }\n}(window));"
     },
     "metadata": {},
     "output_type": "display_data"
    }
   ],
   "source": [
    "output_notebook()"
   ]
  },
  {
   "cell_type": "code",
   "execution_count": 8,
   "metadata": {
    "collapsed": true
   },
   "outputs": [],
   "source": [
    "def fmt_cool(ds_in):\n",
    "    ds = ds_in.copy(deep=True)\n",
    "    if 'igg' in ds.dims:\n",
    "        ds = ds.sel(igg=1)\n",
    "\n",
    "    if 'g' in ds.dims:\n",
    "        ds = ds.sum('g')\n",
    "            \n",
    "    if 'band' in ds.dims:\n",
    "        try:\n",
    "            ds = ds.squeeze('band')\n",
    "        except ValueError:\n",
    "            ds = ds.sum('band')\n",
    "                \n",
    "    return ds['coolrg']\n",
    "\n",
    "\n",
    "def pltdata_cooling_1(ds_cool=None,\n",
    "                      ds_cool_crd=None, ds_cool_wgt=None):\n",
    "    \n",
    "\n",
    "\n",
    "    colors = all_palettes['Set1'][4]\n",
    "    data = [{'label': 'CLIRAD `coolr_bands`',\n",
    "             'srs': fmt_cool(ds_cool),\n",
    "             'line_dash': 'dashed', 'line_width': 5,\n",
    "             'color': colors[0], 'alpha': .6},\n",
    "            {'label': 'CRD',\n",
    "             'srs': fmt_cool(ds_cool_crd),\n",
    "             'line_dash': 'solid', 'line_width': 1.5,\n",
    "             'marker': 'circle', 'marker_size': 5,\n",
    "             'color': colors[2], 'alpha': 1,},\n",
    "            {'label': 'WGT igg=10 wgt_flux=2',\n",
    "             'srs': fmt_cool(ds_cool_wgt),\n",
    "             'line_dash': 'solid', 'line_width': 3,\n",
    "             'marker': 'square', 'marker_size': 5,\n",
    "             'color': colors[3], 'alpha': .6}]\n",
    "    return data\n",
    "\n",
    "\n",
    "def nice_xlims(pltdata=None, prange=None):\n",
    "    \n",
    "    def get_slice(srs):\n",
    "        return srs.sel(pressure=slice(*prange))\n",
    "    \n",
    "    srss = [d['srs'] for d in pltdata]\n",
    "    vmin = min([get_slice(srs).min() for srs in srss])\n",
    "    vmax = max([get_slice(srs).max() for srs in srss])\n",
    "    dv = (vmax - vmin) * .01\n",
    "    return float(vmin - dv), float(vmax + dv)\n",
    "    \n",
    "\n",
    "def plt_cooling_bokeh(pltdata=None):\n",
    "    '''\n",
    "    Plot a list of cooling rate profiles using bokeh.\n",
    "    '''\n",
    "    ymin = 1e-2 \n",
    "    ymax = 1020 \n",
    "        \n",
    "    p1 = figure(title=\"Linear pressure scale\", \n",
    "                plot_width=400)        \n",
    "    xmin, xmax = nice_xlims(pltdata, prange=(50, 1050))\n",
    "    for d in pltdata:\n",
    "        if 'marker' in d:\n",
    "            getattr(p1, d['marker'])(d['srs'].values, \n",
    "                    d['srs'].coords['pressure'].values,\n",
    "                    color=d['color'], alpha=.7)\n",
    "        p1.line(d['srs'].values, \n",
    "                d['srs'].coords['pressure'].values,\n",
    "                color=d['color'], alpha=d['alpha'], \n",
    "                line_width=d['line_width'], line_dash=d['line_dash'])\n",
    "    \n",
    "    p1.y_range = Range1d(ymax, ymin)\n",
    "    p1.yaxis.axis_label = 'pressure [mb]'   \n",
    "    p1.x_range = Range1d(xmin, xmax)\n",
    "    p1.xaxis.axis_label = 'cooling rate [K/day]'\n",
    "            \n",
    "    p2 = figure(title='Log pressure scale', y_axis_type='log',\n",
    "                plot_width=560)\n",
    "    xmin, xmax = nice_xlims(pltdata, prange=(.01, 200))\n",
    "    \n",
    "    rs = []\n",
    "    for d in pltdata:\n",
    "        rd = []\n",
    "        if 'marker' in d:\n",
    "            r_mark = getattr(p2, d['marker'])(d['srs'].values, \n",
    "                        d['srs'].coords['pressure'].values,\n",
    "                        color=d['color'], alpha=.7)\n",
    "            rd.append(r_mark)\n",
    "        r_line = p2.line(d['srs'].values, \n",
    "                    d['srs'].coords['pressure'].values,\n",
    "                    color=d['color'], alpha=d['alpha'], \n",
    "                    line_width=d['line_width'], line_dash=d['line_dash'])\n",
    "        rd.append(r_line)\n",
    "      \n",
    "        rs.append(rd)\n",
    "        \n",
    "    p2.y_range = Range1d(ymax, ymin)  \n",
    "    p2.yaxis.axis_label = 'pressure [mb]'\n",
    "    \n",
    "    p2.x_range = Range1d(xmin, xmax)\n",
    "    p2.xaxis.axis_label = 'cooling rate [K/day]'\n",
    "    \n",
    "    items = [(d['label'], r) for r, d in zip(rs, pltdata)]\n",
    "    legend = Legend(items=items, location=(10, -30))\n",
    "    legend.label_text_font_size = '8pt'\n",
    "    \n",
    "    p2.add_layout(legend, 'right')  \n",
    "    \n",
    "    show(gridplot(p1, p2, ncols=2, plot_height=500))\n",
    "    \n",
    "\n",
    "def script_plt_cooling():\n",
    "    pltdata = pltdata_cooling_1(\n",
    "        ds_cool=DS_COOL,\n",
    "        ds_cool_crd=DS_COOL_CRD,\n",
    "        ds_cool_wgt=DS_COOL_WGT)\n",
    "    plt_cooling_bokeh(pltdata=pltdata)\n",
    "    print('''FIGURE. Cooling rate profiles.''')"
   ]
  },
  {
   "cell_type": "code",
   "execution_count": 9,
   "metadata": {
    "collapsed": true
   },
   "outputs": [],
   "source": [
    "def fmt_flux(ds_in):\n",
    "    ds = ds_in.copy(deep=True)\n",
    "    \n",
    "    for l in ('level', 'layer'):\n",
    "        if l in ds.data_vars:\n",
    "            if len(ds[l].dims) > 1:\n",
    "                surface = {d: 0 for d in ds.dims if d != 'pressure'}\n",
    "                coord_level = ds[l][surface]\n",
    "                ds.coords[l] = ('pressure', coord_level)\n",
    "            else:\n",
    "                ds.coords[l] = ('pressure', ds[l])\n",
    "        \n",
    "    ds = ds.isel(pressure=[0, 23, -1])\n",
    "        \n",
    "    if 'igg' in ds.dims:\n",
    "        ds = ds.sel(igg=[1])\n",
    "        ds = ds.squeeze('igg').drop('igg')\n",
    "    \n",
    "    if 'g' in ds.dims:\n",
    "        ds = ds.sum('g')\n",
    "            \n",
    "    if 'band' in ds.dims:\n",
    "        try:\n",
    "            ds = ds.squeeze('band').drop('band')\n",
    "        except ValueError:\n",
    "            ds = ds.sum('band')\n",
    "                \n",
    "    df = ds.to_dataframe()\n",
    "    df = df.set_index('level', append=True)               \n",
    "    return df\n",
    "\n",
    "\n",
    "def tbdata_flux(ds_flux=None, ds_flux_crd=None, ds_flux_wgt=None):\n",
    "    ilevels = [0, 23, -1]\n",
    "            \n",
    "    benchmark = {'label': 'WGT igg=10 wgt_flux=1',\n",
    "                 'df': fmt_flux(ds_flux_wgt)}\n",
    "    \n",
    "    tbs = [{'label': 'CRD',\n",
    "            'df': fmt_flux(ds_flux_crd)},\n",
    "           {'label': 'CLIRAD',\n",
    "            'df': fmt_flux(ds_flux)}]\n",
    "    \n",
    "    data = {'benchmark': benchmark, 'others': tbs}\n",
    "    return data\n",
    "\n",
    "\n",
    "def tb_flux(tbdata=None):\n",
    "    benchmark = tbdata['benchmark']\n",
    "    others = tbdata['others']\n",
    "    \n",
    "    def show_tb(d=None):\n",
    "        display.display(d['df'])\n",
    "        print('Table.', 'Fluxes.', d['label'])\n",
    "        \n",
    "    def show_tbdiff(d0=None, d=None):\n",
    "        df = d['df']\n",
    "        df.index = d0['df'].index\n",
    "        display.display(df - d0['df'])\n",
    "        print('Table.', 'Fluxes.', \n",
    "              '({}) - ({})'.format(d['label'], d0['label']))\n",
    "        \n",
    "    show_tb(benchmark)\n",
    "    for d in others:\n",
    "        show_tb(d)\n",
    "        \n",
    "    for d in others:\n",
    "        show_tbdiff(d=d, d0=benchmark)\n",
    "        \n",
    "        \n",
    "def script_tb_flux():\n",
    "    data = tbdata_flux(ds_flux=DS_FLUX,\n",
    "                       ds_flux_crd=DS_FLUX_CRD,\n",
    "                       ds_flux_wgt=DS_FLUX_WGT)\n",
    "    tb_flux(tbdata=data)"
   ]
  },
  {
   "cell_type": "code",
   "execution_count": 10,
   "metadata": {
    "collapsed": true
   },
   "outputs": [],
   "source": [
    "def band_map():\n",
    "    '''\n",
    "    Maps spectral bands in lblnew to spectral bands in clirad.\n",
    "    '''\n",
    "    lblnew2clirad = {'1': '1',\n",
    "            '2': '2',\n",
    "            '3a': '3',\n",
    "            '3b': '4',\n",
    "            '3c': '5',\n",
    "            '4': '6', \n",
    "            '5': '7',\n",
    "            '6': '8',\n",
    "            '7': '9', \n",
    "            '8': '10',\n",
    "            '9': '11'}\n",
    "    \n",
    "    clirad2lblnew = {clirad: lblnew \n",
    "                     for lblnew, clirad in lblnew2clirad.items()}\n",
    "    return clirad2lblnew\n",
    "\n",
    "\n",
    "def gasbands():\n",
    "    bmap = band_map()\n",
    "    gases = list(PARAM['molecule'].keys())\n",
    "    \n",
    "    bands = [bmap[str(b)] for b in PARAM['band']]\n",
    "    return list(itertools.product(gases, bands))\n",
    "\n",
    "\n",
    "def print_bestfit_params():\n",
    "    print('Best-fit values for each (gas, band)')\n",
    "    print('------------------------------------')\n",
    "    for gas, band in gasbands():\n",
    "        print('o {} band{}'.format(gas, band))\n",
    "        param = bestfits.kdist_params(molecule=gas, band=band)\n",
    "        for name, value in sorted(param.items()):\n",
    "            print(2 * ' ' + '{} = {}'.format(name, value))\n",
    "\n",
    "        \n",
    "def print_input_param():        \n",
    "    for name, value in PARAM.items():\n",
    "        print('{} = {}'.format(name, value))\n",
    "        \n",
    "        \n",
    "def print_lblnew_param():\n",
    "    for name, value in sorted(PARAM_LBLNEW.items()):\n",
    "        print('{} = {}'.format(name, value))\n"
   ]
  },
  {
   "cell_type": "code",
   "execution_count": 11,
   "metadata": {
    "collapsed": true,
    "scrolled": false
   },
   "outputs": [],
   "source": [
    "def show_html(s):\n",
    "    display.display(display.HTML(s))\n",
    "\n",
    "    \n",
    "def show_markdown(s):\n",
    "    display.display(display.Markdown(s))\n",
    "\n",
    "    \n",
    "def script():\n",
    "    \n",
    "    title = '### CLIRAD-LW'\n",
    "    s_input = 'Input Parameters'\n",
    "    s_lblnew_param = 'LBLNEW case compaired against'\n",
    "    s_bestfits = 'Best-fit Parameters'\n",
    "    s_plt_cooling = 'Cooling Rate Profiles'\n",
    "    s_tb_flux = 'Flux Comparison'\n",
    "    \n",
    "    # title\n",
    "    show_markdown('### CLIRAD-LW')\n",
    "    \n",
    "    # TOC\n",
    "    show_markdown('### Table of Contents')\n",
    "    show_html(climahtml.getHTML_hrefanchor(s_input))\n",
    "    show_html(climahtml.getHTML_hrefanchor(s_lblnew_param))\n",
    "    show_html(climahtml.getHTML_hrefanchor(s_plt_cooling))\n",
    "    show_html(climahtml.getHTML_hrefanchor(s_tb_flux))\n",
    "    show_html(climahtml.getHTML_hrefanchor(s_bestfits))\n",
    "    \n",
    "    # Input parameters\n",
    "    show_html(climahtml.getHTML_idanchor(s_input))\n",
    "    show_markdown(climahtml.getMarkdown_sectitle(s_input))\n",
    "    print_input_param()\n",
    "    \n",
    "    # LBLNEW parameters \n",
    "    show_html(climahtml.getHTML_idanchor(s_lblnew_param))\n",
    "    show_markdown(climahtml.getMarkdown_sectitle(s_lblnew_param))\n",
    "    print_lblnew_param()\n",
    "    \n",
    "    # Cooling rate profiles\n",
    "    show_html(climahtml.getHTML_idanchor(s_plt_cooling))\n",
    "    show_markdown(climahtml.getMarkdown_sectitle(s_plt_cooling))\n",
    "    script_plt_cooling()\n",
    "    \n",
    "    # Flux comparison\n",
    "    show_html(climahtml.getHTML_idanchor(s_tb_flux))\n",
    "    show_markdown(climahtml.getMarkdown_sectitle(s_tb_flux))\n",
    "    script_tb_flux()\n",
    "    \n",
    "    # Best-fit values\n",
    "    show_html(climahtml.getHTML_idanchor(s_bestfits))\n",
    "    show_markdown(climahtml.getMarkdown_sectitle(s_bestfits))\n",
    "    print_bestfit_params()\n",
    "   \n",
    "    "
   ]
  },
  {
   "cell_type": "code",
   "execution_count": 12,
   "metadata": {
    "collapsed": true,
    "scrolled": false
   },
   "outputs": [
    {
     "data": {
      "text/markdown": [
       "### CLIRAD-LW"
      ],
      "text/plain": [
       "<IPython.core.display.Markdown object>"
      ]
     },
     "metadata": {},
     "output_type": "display_data"
    },
    {
     "data": {
      "text/markdown": [
       "### Table of Contents"
      ],
      "text/plain": [
       "<IPython.core.display.Markdown object>"
      ]
     },
     "metadata": {},
     "output_type": "display_data"
    },
    {
     "data": {
      "text/html": [
       "<a href=\"#Input_Parameters\">Input Parameters</a>"
      ],
      "text/plain": [
       "<IPython.core.display.HTML object>"
      ]
     },
     "metadata": {},
     "output_type": "display_data"
    },
    {
     "data": {
      "text/html": [
       "<a href=\"#LBLNEW_case_compaired_against\">LBLNEW case compaired against</a>"
      ],
      "text/plain": [
       "<IPython.core.display.HTML object>"
      ]
     },
     "metadata": {},
     "output_type": "display_data"
    },
    {
     "data": {
      "text/html": [
       "<a href=\"#Cooling_Rate_Profiles\">Cooling Rate Profiles</a>"
      ],
      "text/plain": [
       "<IPython.core.display.HTML object>"
      ]
     },
     "metadata": {},
     "output_type": "display_data"
    },
    {
     "data": {
      "text/html": [
       "<a href=\"#Flux_Comparison\">Flux Comparison</a>"
      ],
      "text/plain": [
       "<IPython.core.display.HTML object>"
      ]
     },
     "metadata": {},
     "output_type": "display_data"
    },
    {
     "data": {
      "text/html": [
       "<a href=\"#Best-fit_Parameters\">Best-fit Parameters</a>"
      ],
      "text/plain": [
       "<IPython.core.display.HTML object>"
      ]
     },
     "metadata": {},
     "output_type": "display_data"
    },
    {
     "data": {
      "text/html": [
       "<a id=\"Input_Parameters\"></a>"
      ],
      "text/plain": [
       "<IPython.core.display.HTML object>"
      ]
     },
     "metadata": {},
     "output_type": "display_data"
    },
    {
     "data": {
      "text/markdown": [
       "# Input Parameters"
      ],
      "text/plain": [
       "<IPython.core.display.Markdown object>"
      ]
     },
     "metadata": {},
     "output_type": "display_data"
    },
    {
     "name": "stdout",
     "output_type": "stream",
     "text": [
      "atmpro = saw\n",
      "band = [3]\n",
      "commitnumber = 7fe1447\n",
      "molecule = {'h2o': 'atmpro'}\n",
      "tsfc = 257\n"
     ]
    },
    {
     "data": {
      "text/html": [
       "<a id=\"LBLNEW_case_compaired_against\"></a>"
      ],
      "text/plain": [
       "<IPython.core.display.HTML object>"
      ]
     },
     "metadata": {},
     "output_type": "display_data"
    },
    {
     "data": {
      "text/markdown": [
       "# LBLNEW case compaired against"
      ],
      "text/plain": [
       "<IPython.core.display.Markdown object>"
      ]
     },
     "metadata": {},
     "output_type": "display_data"
    },
    {
     "name": "stdout",
     "output_type": "stream",
     "text": [
      "atmpro = saw\n",
      "band = 3a\n",
      "commitnumber = a06b618\n",
      "conc = None\n",
      "dv = 0.001\n",
      "klin = 0\n",
      "molecule = h2o\n",
      "ng_adju = [0, 0]\n",
      "ng_refs = [2, 6]\n",
      "nv = 1000\n",
      "option_compute_btable = 0\n",
      "option_compute_ktable = 0\n",
      "option_wgt_flux = 1\n",
      "option_wgt_k = 1\n",
      "ref_pts = [(10, 250), (600, 250)]\n",
      "tsfc = 257\n",
      "vmax = 620\n",
      "vmin = 540\n",
      "w_diffuse = [(1.9, 1.7), (1.4, 1.4, 1.4, 1.55, 1.6, 1.66)]\n",
      "wgt = [(0.7, 0.7), (0.7, 0.5, 0.5, 0.5, 0.5, 0.5)]\n"
     ]
    },
    {
     "data": {
      "text/html": [
       "<a id=\"Cooling_Rate_Profiles\"></a>"
      ],
      "text/plain": [
       "<IPython.core.display.HTML object>"
      ]
     },
     "metadata": {},
     "output_type": "display_data"
    },
    {
     "data": {
      "text/markdown": [
       "# Cooling Rate Profiles"
      ],
      "text/plain": [
       "<IPython.core.display.Markdown object>"
      ]
     },
     "metadata": {},
     "output_type": "display_data"
    },
    {
     "data": {
      "text/html": [
       "\n",
       "<div class=\"bk-root\">\n",
       "    <div class=\"bk-plotdiv\" id=\"b2191109-0a45-40a9-bca5-af0fefbce202\"></div>\n",
       "</div>"
      ]
     },
     "metadata": {},
     "output_type": "display_data"
    },
    {
     "data": {
      "application/javascript": [
       "(function(root) {\n",
       "  function embed_document(root) {\n",
       "    \n",
       "  var docs_json = {\"12117e40-d357-45bf-96af-9527ccd6427d\":{\"roots\":{\"references\":[{\"attributes\":{\"bottom_units\":\"screen\",\"fill_alpha\":{\"value\":0.5},\"fill_color\":{\"value\":\"lightgrey\"},\"left_units\":\"screen\",\"level\":\"overlay\",\"line_alpha\":{\"value\":1.0},\"line_color\":{\"value\":\"black\"},\"line_dash\":[4,4],\"line_width\":{\"value\":2},\"plot\":null,\"render_mode\":\"css\",\"right_units\":\"screen\",\"top_units\":\"screen\"},\"id\":\"6258406c-e5fc-4c34-8c7d-36e93df05574\",\"type\":\"BoxAnnotation\"},{\"attributes\":{\"callback\":null,\"end\":0.19217918122900002,\"start\":-0.00032860412900000027},\"id\":\"053a8f4e-f1a0-459e-804e-52c7f59c850a\",\"type\":\"Range1d\"},{\"attributes\":{\"callback\":null,\"column_names\":[\"x\",\"y\"],\"data\":{\"x\":{\"__ndarray__\":\"AT4XxELYYT/JOtIYqjRjPyXx1fpZJmc/GQ5noY06az+fRO5jsb9vP3Vca7k8YHI//VfvkiUjdT9I7CqThy14P7JvqbYbhXs/aa3gpmMvfz+D0L86VZmBP1ZlTvw5yoM/YqisbkErhj94ctkquXGIP+mU7H1PUYo/wapZ67QDjD/+mjVDbcWNP+/cdP7/lY8/kSnT82S6kD8kNC6OXbGRP5Ck2Xlxm5I/4Q57cUfXkT86zrSXSeGNP9tPXhW8qYc/viItiftlgj86ZkzFrvt7P0nWCNXysHQ/zuExt0/Lbj/jGyljTBZoP9ucJ/drTWM/RoIBsdnLXj+ed59/VOVYPy4zOhGVrlY/oDccrDSvVz8tsb56xolZP/THjibLi1s/lLPw52YHXT+wn7i6YItdP6HIYyI282M/3Fq2AHNAaT+Vub9Sy8puP1pdh9gLBnE/UWUmxqowcj8QgPcPmyhzP5LUUfQRD3Q/yGldYYBPdz+X4nue/nV/P/w0p/jj6YU/+OO5aA9Okj8VFIArSweePwFVqccg8aU/tKvk8SGZrT97sfXhYLyyP3vnnhUbarY/4R3oulOuuT/ZzhhizMi8PxSYLd1NBcA/zq1KAe23wT+edZUHTFTDPzQ2bEL3uMQ/o03drvrQxT8GjAXw3JzGP+U8jN7jK8c/8dNdfkyQxz+wSelfs9jHP3lNOIl7C8g/8JkVH9k7yD/TADm8e1vIP/WJlwItOMg/C6gFaaWUxz93hPSQACDGP0W6An5LCMQ/+MUh8sjlwT8VAneov8G/P3v8nIpttbs/\",\"dtype\":\"float64\",\"shape\":[75]},\"y\":{\"__ndarray__\":\"S/O/Q+51ND/Sv8nbtpRIP2vylNV0PVE/aTum7souWD/At0SJ8fVgPw3Iuahxymc/MSNhhJWvcD/bTfBN02d3P2zb5nxnaoA/CD5h5MAGhz8NmeH1TyaQP+zrCsc9p5Y/LbKd76fGnz/bLW5ISEmmPww9YvTcQq8/JV2OstnstT8Er5Y7M8G+P0c+r3jqkcU/5h99k6ZBzj88bCIzFzjVP4enV8oyxN0//yH99nXg5D8qOpLLf0jtP5kqGJXUifQ/c9cS8kHP/D+/DpwzojQEQIEmwoanVwxA4lgXt9HgE0BSSZ2AJuIbQAMJih9jjiNA5q4l5INuK0AwTKYKRj0zQNv5fmq8/DpAaCJseHrtQkB/+zpwzoxKQM3MzMzMeFJAZmZmZmZqWEAAAAAAAFxeQM3MzMzMJmJAmpmZmZkfZUBmZmZmZhhoQDMzMzMzEWtAAAAAAAAKbkBmZmZmZoFwQM3MzMzM/XFAMzMzMzN6c0CamZmZmfZ0QAAAAAAAc3ZAZmZmZmbvd0DNzMzMzGt5QDMzMzMz6HpAmpmZmZlkfEAAAAAAAOF9QGZmZmZmXX9AZmZmZuZsgECamZmZGSuBQM3MzMxM6YFAAAAAAICngkAzMzMzs2WDQGZmZmbmI4RAmpmZmRnihEDNzMzMTKCFQAAAAACAXoZAMzMzM7Mch0BmZmZm5tqHQJqZmZkZmYhAzczMzExXiUAAAAAAgBWKQDMzMzOz04pAZmZmZuaRi0CamZmZGVCMQM3MzMxMDo1AAAAAAIDMjUAzMzMzs4qOQGZmZmbmSI9A\",\"dtype\":\"float64\",\"shape\":[75]}}},\"id\":\"914bb64a-03cf-47a3-a826-f91a7bd30b9b\",\"type\":\"ColumnDataSource\"},{\"attributes\":{\"source\":{\"id\":\"82f427f2-d2ab-4e3d-948a-d8ac47b11c0c\",\"type\":\"ColumnDataSource\"}},\"id\":\"851c1897-2502-410c-9bc0-2972ab69f9d9\",\"type\":\"CDSView\"},{\"attributes\":{},\"id\":\"0b4ea9d8-4cf3-426d-a92b-63f1ccec7923\",\"type\":\"BasicTicker\"},{\"attributes\":{\"children\":[{\"id\":\"c4ad947d-f6c1-4409-9c8a-6af8d7b7ac8e\",\"type\":\"Row\"}]},\"id\":\"99ceb5f1-dc12-420c-97a6-35733784837c\",\"type\":\"Column\"},{\"attributes\":{\"below\":[{\"id\":\"3b66d627-5737-4092-ac82-80673627f722\",\"type\":\"LinearAxis\"}],\"left\":[{\"id\":\"58ec3f48-6448-49fc-bb1d-49b041117510\",\"type\":\"LinearAxis\"}],\"plot_height\":500,\"plot_width\":400,\"renderers\":[{\"id\":\"3b66d627-5737-4092-ac82-80673627f722\",\"type\":\"LinearAxis\"},{\"id\":\"9088abb8-9c1f-4aa9-995a-5d4406d2dac6\",\"type\":\"Grid\"},{\"id\":\"58ec3f48-6448-49fc-bb1d-49b041117510\",\"type\":\"LinearAxis\"},{\"id\":\"2fd5b4e2-544d-45d4-90b4-c2e4b4f5878d\",\"type\":\"Grid\"},{\"id\":\"6258406c-e5fc-4c34-8c7d-36e93df05574\",\"type\":\"BoxAnnotation\"},{\"id\":\"013bbfdc-f32b-450f-b6c3-77ebc0fd457f\",\"type\":\"GlyphRenderer\"},{\"id\":\"9d8984b3-7841-4388-aca4-50c8db2c7fbd\",\"type\":\"GlyphRenderer\"},{\"id\":\"cfc5bc8d-4a84-457e-8e1e-851cca40b3d3\",\"type\":\"GlyphRenderer\"},{\"id\":\"717d9482-5694-41c2-94b4-6f005d36a4f4\",\"type\":\"GlyphRenderer\"},{\"id\":\"a99ef98e-fec5-41f2-9275-fff33fa75dc9\",\"type\":\"GlyphRenderer\"}],\"title\":{\"id\":\"8946065c-2523-443b-9386-03d0ffafae98\",\"type\":\"Title\"},\"toolbar\":{\"id\":\"833fc0f3-5b94-426f-a3ff-08eb1a9fbb79\",\"type\":\"Toolbar\"},\"toolbar_location\":null,\"x_range\":{\"id\":\"053a8f4e-f1a0-459e-804e-52c7f59c850a\",\"type\":\"Range1d\"},\"x_scale\":{\"id\":\"49f1dd38-201a-45c7-9b4a-dabd7a05d55b\",\"type\":\"LinearScale\"},\"y_range\":{\"id\":\"22eefc58-5dde-4625-af01-293d5ce524cb\",\"type\":\"Range1d\"},\"y_scale\":{\"id\":\"41de7f0a-038c-4074-8df1-60a25a07e196\",\"type\":\"LinearScale\"}},\"id\":\"a16014d3-3de4-46ea-bbaf-68d0e3e36759\",\"subtype\":\"Figure\",\"type\":\"Plot\"},{\"attributes\":{\"line_alpha\":0.1,\"line_color\":\"#1f77b4\",\"line_dash\":[6],\"line_width\":5,\"x\":{\"field\":\"x\"},\"y\":{\"field\":\"y\"}},\"id\":\"7b13d93a-2bf8-42ea-8716-1534aa375db9\",\"type\":\"Line\"},{\"attributes\":{\"line_color\":\"#4daf4a\",\"line_width\":1.5,\"x\":{\"field\":\"x\"},\"y\":{\"field\":\"y\"}},\"id\":\"bca41d71-baef-4cfc-bbd7-c9d27d1d3553\",\"type\":\"Line\"},{\"attributes\":{\"data_source\":{\"id\":\"825f177d-443f-497a-8e6c-9e1a78b1fe05\",\"type\":\"ColumnDataSource\"},\"glyph\":{\"id\":\"66824601-139a-4b99-9a9d-c1516b8a9322\",\"type\":\"Line\"},\"hover_glyph\":null,\"muted_glyph\":null,\"nonselection_glyph\":{\"id\":\"c6ed812f-4004-45d3-a935-c9d56ce90fcc\",\"type\":\"Line\"},\"selection_glyph\":null,\"view\":{\"id\":\"2ea6a511-d7a9-4d5e-9621-555f2c705d0b\",\"type\":\"CDSView\"}},\"id\":\"a99ef98e-fec5-41f2-9275-fff33fa75dc9\",\"type\":\"GlyphRenderer\"},{\"attributes\":{\"callback\":null,\"end\":0.01,\"start\":1020},\"id\":\"22eefc58-5dde-4625-af01-293d5ce524cb\",\"type\":\"Range1d\"},{\"attributes\":{\"axis_label\":\"cooling rate [K/day]\",\"formatter\":{\"id\":\"910e995e-ef10-45f4-a085-29ae1f464468\",\"type\":\"BasicTickFormatter\"},\"plot\":{\"id\":\"a16014d3-3de4-46ea-bbaf-68d0e3e36759\",\"subtype\":\"Figure\",\"type\":\"Plot\"},\"ticker\":{\"id\":\"b7d817fc-ee44-49c6-be3d-a2df3af004da\",\"type\":\"BasicTicker\"}},\"id\":\"3b66d627-5737-4092-ac82-80673627f722\",\"type\":\"LinearAxis\"},{\"attributes\":{\"source\":{\"id\":\"55e0445c-6417-441b-a52c-2b0ea5c2e57c\",\"type\":\"ColumnDataSource\"}},\"id\":\"d3f6bd61-559f-433f-a0fc-df0a54cbeeea\",\"type\":\"CDSView\"},{\"attributes\":{},\"id\":\"f76e7abe-cd92-4d32-99bc-1563d6934a3d\",\"type\":\"ResetTool\"},{\"attributes\":{},\"id\":\"49f1dd38-201a-45c7-9b4a-dabd7a05d55b\",\"type\":\"LinearScale\"},{\"attributes\":{\"callback\":null,\"end\":0.01,\"start\":1020},\"id\":\"5989d40c-2664-4aba-98fa-c9d36ce1c859\",\"type\":\"Range1d\"},{\"attributes\":{},\"id\":\"f6b4c32f-3c15-44f2-b958-337523aca529\",\"type\":\"BasicTicker\"},{\"attributes\":{\"plot\":null,\"text\":\"Linear pressure scale\"},\"id\":\"8946065c-2523-443b-9386-03d0ffafae98\",\"type\":\"Title\"},{\"attributes\":{\"active_drag\":\"auto\",\"active_inspect\":\"auto\",\"active_scroll\":\"auto\",\"active_tap\":\"auto\",\"tools\":[{\"id\":\"06bb712c-4be8-4917-ae84-9f452e28e39d\",\"type\":\"PanTool\"},{\"id\":\"6b05ce5e-4c98-4627-beb2-44c907dc42da\",\"type\":\"WheelZoomTool\"},{\"id\":\"9175f933-4a78-4682-b2e6-285f4139a733\",\"type\":\"BoxZoomTool\"},{\"id\":\"56bd5940-2e27-4658-a919-462799fabea9\",\"type\":\"SaveTool\"},{\"id\":\"2e060147-13f3-4c03-bb97-c2def9f71b2b\",\"type\":\"ResetTool\"},{\"id\":\"23ea9a99-8aa8-42fb-be12-701423ef1667\",\"type\":\"HelpTool\"}]},\"id\":\"8518f51a-cbeb-4e4e-9219-3cdac03191a0\",\"type\":\"Toolbar\"},{\"attributes\":{},\"id\":\"3e57080e-d07b-47fc-9804-29dce1d89923\",\"type\":\"HelpTool\"},{\"attributes\":{\"axis_label\":\"pressure [mb]\",\"formatter\":{\"id\":\"688490b9-5a2a-4bb4-b62d-8d9129fa225c\",\"type\":\"LogTickFormatter\"},\"plot\":{\"id\":\"706ccd7a-baea-46de-a80e-aec6b9012ece\",\"subtype\":\"Figure\",\"type\":\"Plot\"},\"ticker\":{\"id\":\"da75a779-3642-4151-97d2-83fb1b8ba2b8\",\"type\":\"LogTicker\"}},\"id\":\"2cfd7224-bd05-4662-a7ad-ca611316787d\",\"type\":\"LogAxis\"},{\"attributes\":{\"dimension\":1,\"plot\":{\"id\":\"706ccd7a-baea-46de-a80e-aec6b9012ece\",\"subtype\":\"Figure\",\"type\":\"Plot\"},\"ticker\":{\"id\":\"da75a779-3642-4151-97d2-83fb1b8ba2b8\",\"type\":\"LogTicker\"}},\"id\":\"9f904582-ec66-4296-b2ca-f4b7f55411bb\",\"type\":\"Grid\"},{\"attributes\":{\"plot\":{\"id\":\"a16014d3-3de4-46ea-bbaf-68d0e3e36759\",\"subtype\":\"Figure\",\"type\":\"Plot\"},\"ticker\":{\"id\":\"b7d817fc-ee44-49c6-be3d-a2df3af004da\",\"type\":\"BasicTicker\"}},\"id\":\"9088abb8-9c1f-4aa9-995a-5d4406d2dac6\",\"type\":\"Grid\"},{\"attributes\":{\"callback\":null,\"column_names\":[\"x\",\"y\"],\"data\":{\"x\":{\"__ndarray__\":\"dy43cMvgYD+rlmvi4IpiP0Kbh9tzMWY/wtN6MzxQaj+bFUHjiOVuP+XOV9bg+3E/zh3q0RfMdD+9dr6KK+h3P56PElXBVXs/jQY8HOMafz+IcmTnQ6KBP8cVUAE46oM/lfMHk9phhj/cTrlFwsGIPwgvMP/Rkoo/bY4V6G5QjD+QIU69gQ2OPzvBIrKi2Y8/JToYyKrakD9MYYkZTs6RPz+UykP2q5I/BYACJjC9kT9tG56gJEuNPz4nZdqW4oY/+/PFpOCTgT9Nw3YO7Xp6P36ociQ0e3M/ik37EloYbT+UJahYWDlnPwwEKGU0QWM/lloRd18NYD9Fl2ch7DBbP/rpCWul7Vk/ut0d1dsgXD/gIkh+XhlfP79h08KTEWE/NzGPZHg0Yj//IRJYzKdiP1fCVB8CRWk/4uZFQWPQbz+DkZep0S1zP/P5BVAf4nQ/1PG8R97wdT8z9FdUvsJ2Pxrcy5LBbnc/YxkmgF3hej/5gl4fnSGCP8NVTq9mOok/YbpG3znrlD8AJCVgivigP+XnP5KKeqg/5CxtM7wysD86Xbqv3iC0P6Sim9sC1Lc/hVuP6tg+uz+q3jWizXm+P9Te9TYt1cA/UMr66Gxhwj/JCr0Y4s3DP5xaf1n1AsU/bnqr1Q73xT/b1/xlV6jGP2HPWTxmJcc/yCP3sdl3xz9Ddbs8n6zHP8EOCJKQzMc/FAXXFyngxz8eXKNRsOXHP99FGXUEtMc/RxM5eNwJxz+asZ3tNJPFP3u+HEfifcM/cFls+aBhwT96gQgzdcm+P5Vqnwcux7o/\",\"dtype\":\"float64\",\"shape\":[75]},\"y\":{\"__ndarray__\":\"GhExyth1ND/Sv8nbtpRIP2vylNV0PVE/aTum7souWD/At0SJ8fVgPw3Iuahxymc/MSNhhJWvcD/bTfBN02d3P2zb5nxnaoA/CD5h5MAGhz8NmeH1TyaQP+zrCsc9p5Y/LbKd76fGnz/bLW5ISEmmPww9YvTcQq8/JV2OstnstT8Er5Y7M8G+P0c+r3jqkcU/5h99k6ZBzj88bCIzFzjVP4enV8oyxN0//yH99nXg5D8qOpLLf0jtP5kqGJXUifQ/c9cS8kHP/D+/DpwzojQEQIEmwoanVwxA4lgXt9HgE0BSSZ2AJuIbQAMJih9jjiNA5q4l5INuK0AwTKYKRj0zQNv5fmq8/DpAaCJseHrtQkB/+zpwzoxKQM3MzMzMeFJAZmZmZmZqWEAAAAAAAFxeQM3MzMzMJmJAmpmZmZkfZUBmZmZmZhhoQDMzMzMzEWtAAAAAAAAKbkBmZmZmZoFwQM3MzMzM/XFAMzMzMzN6c0CamZmZmfZ0QAAAAAAAc3ZAZmZmZmbvd0DNzMzMzGt5QDMzMzMz6HpAmpmZmZlkfEAAAAAAAOF9QGZmZmZmXX9AZmZmZuZsgECamZmZGSuBQM3MzMxM6YFAAAAAAICngkAzMzMzs2WDQGZmZmbmI4RAmpmZmRnihEDNzMzMTKCFQAAAAACAXoZAMzMzM7Mch0BmZmZm5tqHQJqZmZkZmYhAzczMzExXiUAAAAAAgBWKQDMzMzOz04pAZmZmZuaRi0CamZmZGVCMQM3MzMxMDo1AAAAAAIDMjUAzMzMzs4qOQGZmZmbmSI9A\",\"dtype\":\"float64\",\"shape\":[75]}}},\"id\":\"825f177d-443f-497a-8e6c-9e1a78b1fe05\",\"type\":\"ColumnDataSource\"},{\"attributes\":{\"fill_alpha\":{\"value\":0.1},\"fill_color\":{\"value\":\"#1f77b4\"},\"line_alpha\":{\"value\":0.1},\"line_color\":{\"value\":\"#1f77b4\"},\"x\":{\"field\":\"x\"},\"y\":{\"field\":\"y\"}},\"id\":\"476d1258-0ad4-4d01-93f0-a5b49649a36b\",\"type\":\"Square\"},{\"attributes\":{\"overlay\":{\"id\":\"6258406c-e5fc-4c34-8c7d-36e93df05574\",\"type\":\"BoxAnnotation\"}},\"id\":\"3d5b0cc7-365d-4744-aba3-829378597f4e\",\"type\":\"BoxZoomTool\"},{\"attributes\":{\"axis_label\":\"cooling rate [K/day]\",\"formatter\":{\"id\":\"9556ae82-cedc-4e06-b060-e3d128aedcab\",\"type\":\"BasicTickFormatter\"},\"plot\":{\"id\":\"706ccd7a-baea-46de-a80e-aec6b9012ece\",\"subtype\":\"Figure\",\"type\":\"Plot\"},\"ticker\":{\"id\":\"f6b4c32f-3c15-44f2-b958-337523aca529\",\"type\":\"BasicTicker\"}},\"id\":\"ed8f2f4c-b42f-458e-9955-4306d0b4e70e\",\"type\":\"LinearAxis\"},{\"attributes\":{\"fill_alpha\":{\"value\":0.7},\"fill_color\":{\"value\":\"#984ea3\"},\"line_alpha\":{\"value\":0.7},\"line_color\":{\"value\":\"#984ea3\"},\"x\":{\"field\":\"x\"},\"y\":{\"field\":\"y\"}},\"id\":\"bedcaed8-d938-45be-b1cc-561b9cd7536e\",\"type\":\"Square\"},{\"attributes\":{\"num_minor_ticks\":10},\"id\":\"da75a779-3642-4151-97d2-83fb1b8ba2b8\",\"type\":\"LogTicker\"},{\"attributes\":{\"source\":{\"id\":\"825f177d-443f-497a-8e6c-9e1a78b1fe05\",\"type\":\"ColumnDataSource\"}},\"id\":\"2ea6a511-d7a9-4d5e-9621-555f2c705d0b\",\"type\":\"CDSView\"},{\"attributes\":{},\"id\":\"b2391cd9-5069-4922-a179-784500757355\",\"type\":\"LinearScale\"},{\"attributes\":{},\"id\":\"7bf1b60d-ec1c-4986-8683-71e9985633e7\",\"type\":\"PanTool\"},{\"attributes\":{\"below\":[{\"id\":\"ed8f2f4c-b42f-458e-9955-4306d0b4e70e\",\"type\":\"LinearAxis\"}],\"left\":[{\"id\":\"2cfd7224-bd05-4662-a7ad-ca611316787d\",\"type\":\"LogAxis\"}],\"plot_height\":500,\"plot_width\":560,\"renderers\":[{\"id\":\"ed8f2f4c-b42f-458e-9955-4306d0b4e70e\",\"type\":\"LinearAxis\"},{\"id\":\"449dc3f9-06eb-458f-af15-88d93ce7295c\",\"type\":\"Grid\"},{\"id\":\"2cfd7224-bd05-4662-a7ad-ca611316787d\",\"type\":\"LogAxis\"},{\"id\":\"9f904582-ec66-4296-b2ca-f4b7f55411bb\",\"type\":\"Grid\"},{\"id\":\"1820845d-2ba7-4a68-a123-0cf207b7f02a\",\"type\":\"BoxAnnotation\"},{\"id\":\"8182fa51-e051-4258-a5a5-8fca17d8b329\",\"type\":\"GlyphRenderer\"},{\"id\":\"16fa4ef9-9e28-4652-a130-9a70175f79fa\",\"type\":\"GlyphRenderer\"},{\"id\":\"0ac1525e-32f5-47a2-abcd-f6bd7ad689f4\",\"type\":\"GlyphRenderer\"},{\"id\":\"f85176d7-55a3-410e-a714-75c523843474\",\"type\":\"GlyphRenderer\"},{\"id\":\"67eced95-6df0-4b64-b166-196bc3b6f27e\",\"type\":\"GlyphRenderer\"},{\"id\":\"0f207c19-1c56-46c8-afed-68f21ffeeac0\",\"type\":\"Legend\"}],\"right\":[{\"id\":\"0f207c19-1c56-46c8-afed-68f21ffeeac0\",\"type\":\"Legend\"}],\"title\":{\"id\":\"55ea5b7f-6292-402e-b7d1-68407cec52a2\",\"type\":\"Title\"},\"toolbar\":{\"id\":\"8518f51a-cbeb-4e4e-9219-3cdac03191a0\",\"type\":\"Toolbar\"},\"toolbar_location\":null,\"x_range\":{\"id\":\"315e925d-1828-4def-bd3a-a6c887ff183c\",\"type\":\"Range1d\"},\"x_scale\":{\"id\":\"b2391cd9-5069-4922-a179-784500757355\",\"type\":\"LinearScale\"},\"y_range\":{\"id\":\"5989d40c-2664-4aba-98fa-c9d36ce1c859\",\"type\":\"Range1d\"},\"y_scale\":{\"id\":\"c9df5b67-3ce2-46c5-ae8a-abb067150261\",\"type\":\"LogScale\"}},\"id\":\"706ccd7a-baea-46de-a80e-aec6b9012ece\",\"subtype\":\"Figure\",\"type\":\"Plot\"},{\"attributes\":{\"dimension\":1,\"plot\":{\"id\":\"a16014d3-3de4-46ea-bbaf-68d0e3e36759\",\"subtype\":\"Figure\",\"type\":\"Plot\"},\"ticker\":{\"id\":\"0b4ea9d8-4cf3-426d-a92b-63f1ccec7923\",\"type\":\"BasicTicker\"}},\"id\":\"2fd5b4e2-544d-45d4-90b4-c2e4b4f5878d\",\"type\":\"Grid\"},{\"attributes\":{\"plot\":null,\"text\":\"Log pressure scale\"},\"id\":\"55ea5b7f-6292-402e-b7d1-68407cec52a2\",\"type\":\"Title\"},{\"attributes\":{\"fill_alpha\":{\"value\":0.1},\"fill_color\":{\"value\":\"#1f77b4\"},\"line_alpha\":{\"value\":0.1},\"line_color\":{\"value\":\"#1f77b4\"},\"x\":{\"field\":\"x\"},\"y\":{\"field\":\"y\"}},\"id\":\"e118a088-7846-4dce-8d77-46bd314ecc49\",\"type\":\"Circle\"},{\"attributes\":{},\"id\":\"d09e7fb0-f387-48c5-ae63-d30246ac14b1\",\"type\":\"SaveTool\"},{\"attributes\":{\"callback\":null,\"column_names\":[\"x\",\"y\"],\"data\":{\"x\":{\"__ndarray__\":\"lecMkJlgYD8MTK9UJT9iPyz599gfYWY/jQy8W1wRaz+yVdmhoCdwP4RX1KHIE3M/n5hwBV9Tdj9XjFpksu15PyBFhfjs6n0/FwW8c0EpgT8ZSS4DtpGDP9m8+ELLMYY/5gsd5acLiT+T9px6+MCLP5ALlDVm6Y0/dNioR03Njz9c78eFtNqQPwHR5zE30JE/cJXyHabEkj+BE5UD+baTP7JtAiCvhpQ/H+quVGY2kz/ZYnWzWO2OP37buGpDaoc/F2mlusdsgT87ExF8V3Z5P8aFEEtbQHI/87yUrBX1aj99GgQROsxlP//LZUYnomI/YlZYwvQjYD/IrLNhGnRcP6HrGqPw9ls/+ctgaMu7Xj/jphmisOpgP1wcid/qQ2I/nTT0oyYgYz9uh160u09jP4hYsBX8y2k/hxMdrLQKcD84znGfcSlzP+nnfcdfv3Q/C/TGVkLBdT92M7UCyY92P1I0kOCmPHc/8ESDqg7Gej/xcOvIMjiCP6Xddg5WfYk/6DCmMwwslT8OfodHhyyhP2dlK8rNuag/frHJqqBTsD8PYJFfP0S0P/Iu/ZyZGLg/o/5A2nvIuz9APhnKJky/P+n6V7nET8E/DfYN6UPZwj8x1i+/cDrEPxn/oQ1+asU/EPFJBgRjxj95d4W6HyLHPzE+UJdaqcc/urjwMKv/xz8a1TPO8DDIP/qTvjGAR8g/qsUSnBtPyD/1Pwroz0jIP0+UxmCsDMg/02eLlPtXxz/bM0sC1NTFPxOB6h9EssM/iACWS5mKwT+kDVVrQAi/P8HTGjnB7bo/\",\"dtype\":\"float64\",\"shape\":[75]},\"y\":{\"__ndarray__\":\"GhExyth1ND/Sv8nbtpRIP2vylNV0PVE/aTum7souWD/At0SJ8fVgPw3Iuahxymc/MSNhhJWvcD/bTfBN02d3P2zb5nxnaoA/CD5h5MAGhz8NmeH1TyaQP+zrCsc9p5Y/LbKd76fGnz/bLW5ISEmmPww9YvTcQq8/JV2OstnstT8Er5Y7M8G+P0c+r3jqkcU/5h99k6ZBzj88bCIzFzjVP4enV8oyxN0//yH99nXg5D8qOpLLf0jtP5kqGJXUifQ/c9cS8kHP/D+/DpwzojQEQIEmwoanVwxA4lgXt9HgE0BSSZ2AJuIbQAMJih9jjiNA5q4l5INuK0AwTKYKRj0zQNv5fmq8/DpAaCJseHrtQkB/+zpwzoxKQM3MzMzMeFJAZmZmZmZqWEAAAAAAAFxeQM3MzMzMJmJAmpmZmZkfZUBmZmZmZhhoQDMzMzMzEWtAAAAAAAAKbkBmZmZmZoFwQM3MzMzM/XFAMzMzMzN6c0CamZmZmfZ0QAAAAAAAc3ZAZmZmZmbvd0DNzMzMzGt5QDMzMzMz6HpAmpmZmZlkfEAAAAAAAOF9QGZmZmZmXX9AZmZmZuZsgECamZmZGSuBQM3MzMxM6YFAAAAAAICngkAzMzMzs2WDQGZmZmbmI4RAmpmZmRnihEDNzMzMTKCFQAAAAACAXoZAMzMzM7Mch0BmZmZm5tqHQJqZmZkZmYhAzczMzExXiUAAAAAAgBWKQDMzMzOz04pAZmZmZuaRi0CamZmZGVCMQM3MzMxMDo1AAAAAAIDMjUAzMzMzs4qOQGZmZmbmSI9A\",\"dtype\":\"float64\",\"shape\":[75]}}},\"id\":\"997e1c1b-a972-4abc-ada6-5bfae9481097\",\"type\":\"ColumnDataSource\"},{\"attributes\":{\"callback\":null,\"column_names\":[\"x\",\"y\"],\"data\":{\"x\":{\"__ndarray__\":\"AT4XxELYYT/JOtIYqjRjPyXx1fpZJmc/GQ5noY06az+fRO5jsb9vP3Vca7k8YHI//VfvkiUjdT9I7CqThy14P7JvqbYbhXs/aa3gpmMvfz+D0L86VZmBP1ZlTvw5yoM/YqisbkErhj94ctkquXGIP+mU7H1PUYo/wapZ67QDjD/+mjVDbcWNP+/cdP7/lY8/kSnT82S6kD8kNC6OXbGRP5Ck2Xlxm5I/4Q57cUfXkT86zrSXSeGNP9tPXhW8qYc/viItiftlgj86ZkzFrvt7P0nWCNXysHQ/zuExt0/Lbj/jGyljTBZoP9ucJ/drTWM/RoIBsdnLXj+ed59/VOVYPy4zOhGVrlY/oDccrDSvVz8tsb56xolZP/THjibLi1s/lLPw52YHXT+wn7i6YItdP6HIYyI282M/3Fq2AHNAaT+Vub9Sy8puP1pdh9gLBnE/UWUmxqowcj8QgPcPmyhzP5LUUfQRD3Q/yGldYYBPdz+X4nue/nV/P/w0p/jj6YU/+OO5aA9Okj8VFIArSweePwFVqccg8aU/tKvk8SGZrT97sfXhYLyyP3vnnhUbarY/4R3oulOuuT/ZzhhizMi8PxSYLd1NBcA/zq1KAe23wT+edZUHTFTDPzQ2bEL3uMQ/o03drvrQxT8GjAXw3JzGP+U8jN7jK8c/8dNdfkyQxz+wSelfs9jHP3lNOIl7C8g/8JkVH9k7yD/TADm8e1vIP/WJlwItOMg/C6gFaaWUxz93hPSQACDGP0W6An5LCMQ/+MUh8sjlwT8VAneov8G/P3v8nIpttbs/\",\"dtype\":\"float64\",\"shape\":[75]},\"y\":{\"__ndarray__\":\"S/O/Q+51ND/Sv8nbtpRIP2vylNV0PVE/aTum7souWD/At0SJ8fVgPw3Iuahxymc/MSNhhJWvcD/bTfBN02d3P2zb5nxnaoA/CD5h5MAGhz8NmeH1TyaQP+zrCsc9p5Y/LbKd76fGnz/bLW5ISEmmPww9YvTcQq8/JV2OstnstT8Er5Y7M8G+P0c+r3jqkcU/5h99k6ZBzj88bCIzFzjVP4enV8oyxN0//yH99nXg5D8qOpLLf0jtP5kqGJXUifQ/c9cS8kHP/D+/DpwzojQEQIEmwoanVwxA4lgXt9HgE0BSSZ2AJuIbQAMJih9jjiNA5q4l5INuK0AwTKYKRj0zQNv5fmq8/DpAaCJseHrtQkB/+zpwzoxKQM3MzMzMeFJAZmZmZmZqWEAAAAAAAFxeQM3MzMzMJmJAmpmZmZkfZUBmZmZmZhhoQDMzMzMzEWtAAAAAAAAKbkBmZmZmZoFwQM3MzMzM/XFAMzMzMzN6c0CamZmZmfZ0QAAAAAAAc3ZAZmZmZmbvd0DNzMzMzGt5QDMzMzMz6HpAmpmZmZlkfEAAAAAAAOF9QGZmZmZmXX9AZmZmZuZsgECamZmZGSuBQM3MzMxM6YFAAAAAAICngkAzMzMzs2WDQGZmZmbmI4RAmpmZmRnihEDNzMzMTKCFQAAAAACAXoZAMzMzM7Mch0BmZmZm5tqHQJqZmZkZmYhAzczMzExXiUAAAAAAgBWKQDMzMzOz04pAZmZmZuaRi0CamZmZGVCMQM3MzMxMDo1AAAAAAIDMjUAzMzMzs4qOQGZmZmbmSI9A\",\"dtype\":\"float64\",\"shape\":[75]}}},\"id\":\"c5ed3486-035a-4963-b394-f41298599e6e\",\"type\":\"ColumnDataSource\"},{\"attributes\":{\"source\":{\"id\":\"997e1c1b-a972-4abc-ada6-5bfae9481097\",\"type\":\"ColumnDataSource\"}},\"id\":\"c9ed5aac-c8fd-4379-8cca-df319714f601\",\"type\":\"CDSView\"},{\"attributes\":{},\"id\":\"87d02d27-3ed2-4c8e-aad3-cdeb608a4645\",\"type\":\"WheelZoomTool\"},{\"attributes\":{\"data_source\":{\"id\":\"914bb64a-03cf-47a3-a826-f91a7bd30b9b\",\"type\":\"ColumnDataSource\"},\"glyph\":{\"id\":\"13d52edf-405a-467f-af7d-75a359e0be2e\",\"type\":\"Line\"},\"hover_glyph\":null,\"muted_glyph\":null,\"nonselection_glyph\":{\"id\":\"7b13d93a-2bf8-42ea-8716-1534aa375db9\",\"type\":\"Line\"},\"selection_glyph\":null,\"view\":{\"id\":\"d6d0e8f6-d7fa-47f6-a0b6-3dd2266e75e9\",\"type\":\"CDSView\"}},\"id\":\"013bbfdc-f32b-450f-b6c3-77ebc0fd457f\",\"type\":\"GlyphRenderer\"},{\"attributes\":{},\"id\":\"41de7f0a-038c-4074-8df1-60a25a07e196\",\"type\":\"LinearScale\"},{\"attributes\":{\"callback\":null,\"column_names\":[\"x\",\"y\"],\"data\":{\"x\":{\"__ndarray__\":\"lecMkJlgYD8MTK9UJT9iPyz599gfYWY/jQy8W1wRaz+yVdmhoCdwP4RX1KHIE3M/n5hwBV9Tdj9XjFpksu15PyBFhfjs6n0/FwW8c0EpgT8ZSS4DtpGDP9m8+ELLMYY/5gsd5acLiT+T9px6+MCLP5ALlDVm6Y0/dNioR03Njz9c78eFtNqQPwHR5zE30JE/cJXyHabEkj+BE5UD+baTP7JtAiCvhpQ/H+quVGY2kz/ZYnWzWO2OP37buGpDaoc/F2mlusdsgT87ExF8V3Z5P8aFEEtbQHI/87yUrBX1aj99GgQROsxlP//LZUYnomI/YlZYwvQjYD/IrLNhGnRcP6HrGqPw9ls/+ctgaMu7Xj/jphmisOpgP1wcid/qQ2I/nTT0oyYgYz9uh160u09jP4hYsBX8y2k/hxMdrLQKcD84znGfcSlzP+nnfcdfv3Q/C/TGVkLBdT92M7UCyY92P1I0kOCmPHc/8ESDqg7Gej/xcOvIMjiCP6Xddg5WfYk/6DCmMwwslT8OfodHhyyhP2dlK8rNuag/frHJqqBTsD8PYJFfP0S0P/Iu/ZyZGLg/o/5A2nvIuz9APhnKJky/P+n6V7nET8E/DfYN6UPZwj8x1i+/cDrEPxn/oQ1+asU/EPFJBgRjxj95d4W6HyLHPzE+UJdaqcc/urjwMKv/xz8a1TPO8DDIP/qTvjGAR8g/qsUSnBtPyD/1Pwroz0jIP0+UxmCsDMg/02eLlPtXxz/bM0sC1NTFPxOB6h9EssM/iACWS5mKwT+kDVVrQAi/P8HTGjnB7bo/\",\"dtype\":\"float64\",\"shape\":[75]},\"y\":{\"__ndarray__\":\"GhExyth1ND/Sv8nbtpRIP2vylNV0PVE/aTum7souWD/At0SJ8fVgPw3Iuahxymc/MSNhhJWvcD/bTfBN02d3P2zb5nxnaoA/CD5h5MAGhz8NmeH1TyaQP+zrCsc9p5Y/LbKd76fGnz/bLW5ISEmmPww9YvTcQq8/JV2OstnstT8Er5Y7M8G+P0c+r3jqkcU/5h99k6ZBzj88bCIzFzjVP4enV8oyxN0//yH99nXg5D8qOpLLf0jtP5kqGJXUifQ/c9cS8kHP/D+/DpwzojQEQIEmwoanVwxA4lgXt9HgE0BSSZ2AJuIbQAMJih9jjiNA5q4l5INuK0AwTKYKRj0zQNv5fmq8/DpAaCJseHrtQkB/+zpwzoxKQM3MzMzMeFJAZmZmZmZqWEAAAAAAAFxeQM3MzMzMJmJAmpmZmZkfZUBmZmZmZhhoQDMzMzMzEWtAAAAAAAAKbkBmZmZmZoFwQM3MzMzM/XFAMzMzMzN6c0CamZmZmfZ0QAAAAAAAc3ZAZmZmZmbvd0DNzMzMzGt5QDMzMzMz6HpAmpmZmZlkfEAAAAAAAOF9QGZmZmZmXX9AZmZmZuZsgECamZmZGSuBQM3MzMxM6YFAAAAAAICngkAzMzMzs2WDQGZmZmbmI4RAmpmZmRnihEDNzMzMTKCFQAAAAACAXoZAMzMzM7Mch0BmZmZm5tqHQJqZmZkZmYhAzczMzExXiUAAAAAAgBWKQDMzMzOz04pAZmZmZuaRi0CamZmZGVCMQM3MzMxMDo1AAAAAAIDMjUAzMzMzs4qOQGZmZmbmSI9A\",\"dtype\":\"float64\",\"shape\":[75]}}},\"id\":\"82f427f2-d2ab-4e3d-948a-d8ac47b11c0c\",\"type\":\"ColumnDataSource\"},{\"attributes\":{\"active_drag\":\"auto\",\"active_inspect\":\"auto\",\"active_scroll\":\"auto\",\"active_tap\":\"auto\",\"tools\":[{\"id\":\"7bf1b60d-ec1c-4986-8683-71e9985633e7\",\"type\":\"PanTool\"},{\"id\":\"87d02d27-3ed2-4c8e-aad3-cdeb608a4645\",\"type\":\"WheelZoomTool\"},{\"id\":\"3d5b0cc7-365d-4744-aba3-829378597f4e\",\"type\":\"BoxZoomTool\"},{\"id\":\"d09e7fb0-f387-48c5-ae63-d30246ac14b1\",\"type\":\"SaveTool\"},{\"id\":\"f76e7abe-cd92-4d32-99bc-1563d6934a3d\",\"type\":\"ResetTool\"},{\"id\":\"3e57080e-d07b-47fc-9804-29dce1d89923\",\"type\":\"HelpTool\"}]},\"id\":\"833fc0f3-5b94-426f-a3ff-08eb1a9fbb79\",\"type\":\"Toolbar\"},{\"attributes\":{},\"id\":\"b7d817fc-ee44-49c6-be3d-a2df3af004da\",\"type\":\"BasicTicker\"},{\"attributes\":{\"data_source\":{\"id\":\"82f427f2-d2ab-4e3d-948a-d8ac47b11c0c\",\"type\":\"ColumnDataSource\"},\"glyph\":{\"id\":\"bca41d71-baef-4cfc-bbd7-c9d27d1d3553\",\"type\":\"Line\"},\"hover_glyph\":null,\"muted_glyph\":null,\"nonselection_glyph\":{\"id\":\"6fe6b38b-859f-48a6-83f5-cdb13ab28462\",\"type\":\"Line\"},\"selection_glyph\":null,\"view\":{\"id\":\"851c1897-2502-410c-9bc0-2972ab69f9d9\",\"type\":\"CDSView\"}},\"id\":\"cfc5bc8d-4a84-457e-8e1e-851cca40b3d3\",\"type\":\"GlyphRenderer\"},{\"attributes\":{\"data_source\":{\"id\":\"997e1c1b-a972-4abc-ada6-5bfae9481097\",\"type\":\"ColumnDataSource\"},\"glyph\":{\"id\":\"fa5afa0d-0a9a-41ff-8a23-26461e145c48\",\"type\":\"Circle\"},\"hover_glyph\":null,\"muted_glyph\":null,\"nonselection_glyph\":{\"id\":\"e118a088-7846-4dce-8d77-46bd314ecc49\",\"type\":\"Circle\"},\"selection_glyph\":null,\"view\":{\"id\":\"c9ed5aac-c8fd-4379-8cca-df319714f601\",\"type\":\"CDSView\"}},\"id\":\"9d8984b3-7841-4388-aca4-50c8db2c7fbd\",\"type\":\"GlyphRenderer\"},{\"attributes\":{\"line_alpha\":0.1,\"line_color\":\"#1f77b4\",\"line_width\":1.5,\"x\":{\"field\":\"x\"},\"y\":{\"field\":\"y\"}},\"id\":\"6fe6b38b-859f-48a6-83f5-cdb13ab28462\",\"type\":\"Line\"},{\"attributes\":{\"axis_label\":\"pressure [mb]\",\"formatter\":{\"id\":\"dbbdd0ed-f6bf-4f63-b32d-47178633b13d\",\"type\":\"BasicTickFormatter\"},\"plot\":{\"id\":\"a16014d3-3de4-46ea-bbaf-68d0e3e36759\",\"subtype\":\"Figure\",\"type\":\"Plot\"},\"ticker\":{\"id\":\"0b4ea9d8-4cf3-426d-a92b-63f1ccec7923\",\"type\":\"BasicTicker\"}},\"id\":\"58ec3f48-6448-49fc-bb1d-49b041117510\",\"type\":\"LinearAxis\"},{\"attributes\":{\"data_source\":{\"id\":\"55e0445c-6417-441b-a52c-2b0ea5c2e57c\",\"type\":\"ColumnDataSource\"},\"glyph\":{\"id\":\"bedcaed8-d938-45be-b1cc-561b9cd7536e\",\"type\":\"Square\"},\"hover_glyph\":null,\"muted_glyph\":null,\"nonselection_glyph\":{\"id\":\"476d1258-0ad4-4d01-93f0-a5b49649a36b\",\"type\":\"Square\"},\"selection_glyph\":null,\"view\":{\"id\":\"d3f6bd61-559f-433f-a0fc-df0a54cbeeea\",\"type\":\"CDSView\"}},\"id\":\"717d9482-5694-41c2-94b4-6f005d36a4f4\",\"type\":\"GlyphRenderer\"},{\"attributes\":{\"line_alpha\":0.1,\"line_color\":\"#1f77b4\",\"line_width\":3,\"x\":{\"field\":\"x\"},\"y\":{\"field\":\"y\"}},\"id\":\"c6ed812f-4004-45d3-a935-c9d56ce90fcc\",\"type\":\"Line\"},{\"attributes\":{\"line_alpha\":0.6,\"line_color\":\"#984ea3\",\"line_width\":3,\"x\":{\"field\":\"x\"},\"y\":{\"field\":\"y\"}},\"id\":\"66824601-139a-4b99-9a9d-c1516b8a9322\",\"type\":\"Line\"},{\"attributes\":{\"fill_alpha\":{\"value\":0.7},\"fill_color\":{\"value\":\"#4daf4a\"},\"line_alpha\":{\"value\":0.7},\"line_color\":{\"value\":\"#4daf4a\"},\"x\":{\"field\":\"x\"},\"y\":{\"field\":\"y\"}},\"id\":\"fa5afa0d-0a9a-41ff-8a23-26461e145c48\",\"type\":\"Circle\"},{\"attributes\":{\"callback\":null,\"column_names\":[\"x\",\"y\"],\"data\":{\"x\":{\"__ndarray__\":\"dy43cMvgYD+rlmvi4IpiP0Kbh9tzMWY/wtN6MzxQaj+bFUHjiOVuP+XOV9bg+3E/zh3q0RfMdD+9dr6KK+h3P56PElXBVXs/jQY8HOMafz+IcmTnQ6KBP8cVUAE46oM/lfMHk9phhj/cTrlFwsGIPwgvMP/Rkoo/bY4V6G5QjD+QIU69gQ2OPzvBIrKi2Y8/JToYyKrakD9MYYkZTs6RPz+UykP2q5I/BYACJjC9kT9tG56gJEuNPz4nZdqW4oY/+/PFpOCTgT9Nw3YO7Xp6P36ociQ0e3M/ik37EloYbT+UJahYWDlnPwwEKGU0QWM/lloRd18NYD9Fl2ch7DBbP/rpCWul7Vk/ut0d1dsgXD/gIkh+XhlfP79h08KTEWE/NzGPZHg0Yj//IRJYzKdiP1fCVB8CRWk/4uZFQWPQbz+DkZep0S1zP/P5BVAf4nQ/1PG8R97wdT8z9FdUvsJ2Pxrcy5LBbnc/YxkmgF3hej/5gl4fnSGCP8NVTq9mOok/YbpG3znrlD8AJCVgivigP+XnP5KKeqg/5CxtM7wysD86Xbqv3iC0P6Sim9sC1Lc/hVuP6tg+uz+q3jWizXm+P9Te9TYt1cA/UMr66Gxhwj/JCr0Y4s3DP5xaf1n1AsU/bnqr1Q73xT/b1/xlV6jGP2HPWTxmJcc/yCP3sdl3xz9Ddbs8n6zHP8EOCJKQzMc/FAXXFyngxz8eXKNRsOXHP99FGXUEtMc/RxM5eNwJxz+asZ3tNJPFP3u+HEfifcM/cFls+aBhwT96gQgzdcm+P5Vqnwcux7o/\",\"dtype\":\"float64\",\"shape\":[75]},\"y\":{\"__ndarray__\":\"GhExyth1ND/Sv8nbtpRIP2vylNV0PVE/aTum7souWD/At0SJ8fVgPw3Iuahxymc/MSNhhJWvcD/bTfBN02d3P2zb5nxnaoA/CD5h5MAGhz8NmeH1TyaQP+zrCsc9p5Y/LbKd76fGnz/bLW5ISEmmPww9YvTcQq8/JV2OstnstT8Er5Y7M8G+P0c+r3jqkcU/5h99k6ZBzj88bCIzFzjVP4enV8oyxN0//yH99nXg5D8qOpLLf0jtP5kqGJXUifQ/c9cS8kHP/D+/DpwzojQEQIEmwoanVwxA4lgXt9HgE0BSSZ2AJuIbQAMJih9jjiNA5q4l5INuK0AwTKYKRj0zQNv5fmq8/DpAaCJseHrtQkB/+zpwzoxKQM3MzMzMeFJAZmZmZmZqWEAAAAAAAFxeQM3MzMzMJmJAmpmZmZkfZUBmZmZmZhhoQDMzMzMzEWtAAAAAAAAKbkBmZmZmZoFwQM3MzMzM/XFAMzMzMzN6c0CamZmZmfZ0QAAAAAAAc3ZAZmZmZmbvd0DNzMzMzGt5QDMzMzMz6HpAmpmZmZlkfEAAAAAAAOF9QGZmZmZmXX9AZmZmZuZsgECamZmZGSuBQM3MzMxM6YFAAAAAAICngkAzMzMzs2WDQGZmZmbmI4RAmpmZmRnihEDNzMzMTKCFQAAAAACAXoZAMzMzM7Mch0BmZmZm5tqHQJqZmZkZmYhAzczMzExXiUAAAAAAgBWKQDMzMzOz04pAZmZmZuaRi0CamZmZGVCMQM3MzMxMDo1AAAAAAIDMjUAzMzMzs4qOQGZmZmbmSI9A\",\"dtype\":\"float64\",\"shape\":[75]}}},\"id\":\"55e0445c-6417-441b-a52c-2b0ea5c2e57c\",\"type\":\"ColumnDataSource\"},{\"attributes\":{\"line_alpha\":0.6,\"line_color\":\"#e41a1c\",\"line_dash\":[6],\"line_width\":5,\"x\":{\"field\":\"x\"},\"y\":{\"field\":\"y\"}},\"id\":\"dbcacff3-4c2b-4295-9006-b2d923119521\",\"type\":\"Line\"},{\"attributes\":{\"source\":{\"id\":\"c5ed3486-035a-4963-b394-f41298599e6e\",\"type\":\"ColumnDataSource\"}},\"id\":\"6227837a-aa1e-44c5-8777-437526685245\",\"type\":\"CDSView\"},{\"attributes\":{\"callback\":null,\"column_names\":[\"x\",\"y\"],\"data\":{\"x\":{\"__ndarray__\":\"lecMkJlgYD8MTK9UJT9iPyz599gfYWY/jQy8W1wRaz+yVdmhoCdwP4RX1KHIE3M/n5hwBV9Tdj9XjFpksu15PyBFhfjs6n0/FwW8c0EpgT8ZSS4DtpGDP9m8+ELLMYY/5gsd5acLiT+T9px6+MCLP5ALlDVm6Y0/dNioR03Njz9c78eFtNqQPwHR5zE30JE/cJXyHabEkj+BE5UD+baTP7JtAiCvhpQ/H+quVGY2kz/ZYnWzWO2OP37buGpDaoc/F2mlusdsgT87ExF8V3Z5P8aFEEtbQHI/87yUrBX1aj99GgQROsxlP//LZUYnomI/YlZYwvQjYD/IrLNhGnRcP6HrGqPw9ls/+ctgaMu7Xj/jphmisOpgP1wcid/qQ2I/nTT0oyYgYz9uh160u09jP4hYsBX8y2k/hxMdrLQKcD84znGfcSlzP+nnfcdfv3Q/C/TGVkLBdT92M7UCyY92P1I0kOCmPHc/8ESDqg7Gej/xcOvIMjiCP6Xddg5WfYk/6DCmMwwslT8OfodHhyyhP2dlK8rNuag/frHJqqBTsD8PYJFfP0S0P/Iu/ZyZGLg/o/5A2nvIuz9APhnKJky/P+n6V7nET8E/DfYN6UPZwj8x1i+/cDrEPxn/oQ1+asU/EPFJBgRjxj95d4W6HyLHPzE+UJdaqcc/urjwMKv/xz8a1TPO8DDIP/qTvjGAR8g/qsUSnBtPyD/1Pwroz0jIP0+UxmCsDMg/02eLlPtXxz/bM0sC1NTFPxOB6h9EssM/iACWS5mKwT+kDVVrQAi/P8HTGjnB7bo/\",\"dtype\":\"float64\",\"shape\":[75]},\"y\":{\"__ndarray__\":\"GhExyth1ND/Sv8nbtpRIP2vylNV0PVE/aTum7souWD/At0SJ8fVgPw3Iuahxymc/MSNhhJWvcD/bTfBN02d3P2zb5nxnaoA/CD5h5MAGhz8NmeH1TyaQP+zrCsc9p5Y/LbKd76fGnz/bLW5ISEmmPww9YvTcQq8/JV2OstnstT8Er5Y7M8G+P0c+r3jqkcU/5h99k6ZBzj88bCIzFzjVP4enV8oyxN0//yH99nXg5D8qOpLLf0jtP5kqGJXUifQ/c9cS8kHP/D+/DpwzojQEQIEmwoanVwxA4lgXt9HgE0BSSZ2AJuIbQAMJih9jjiNA5q4l5INuK0AwTKYKRj0zQNv5fmq8/DpAaCJseHrtQkB/+zpwzoxKQM3MzMzMeFJAZmZmZmZqWEAAAAAAAFxeQM3MzMzMJmJAmpmZmZkfZUBmZmZmZhhoQDMzMzMzEWtAAAAAAAAKbkBmZmZmZoFwQM3MzMzM/XFAMzMzMzN6c0CamZmZmfZ0QAAAAAAAc3ZAZmZmZmbvd0DNzMzMzGt5QDMzMzMz6HpAmpmZmZlkfEAAAAAAAOF9QGZmZmZmXX9AZmZmZuZsgECamZmZGSuBQM3MzMxM6YFAAAAAAICngkAzMzMzs2WDQGZmZmbmI4RAmpmZmRnihEDNzMzMTKCFQAAAAACAXoZAMzMzM7Mch0BmZmZm5tqHQJqZmZkZmYhAzczMzExXiUAAAAAAgBWKQDMzMzOz04pAZmZmZuaRi0CamZmZGVCMQM3MzMxMDo1AAAAAAIDMjUAzMzMzs4qOQGZmZmbmSI9A\",\"dtype\":\"float64\",\"shape\":[75]}}},\"id\":\"90457dcb-ef09-4003-bef3-bf7fffc53ce1\",\"type\":\"ColumnDataSource\"},{\"attributes\":{\"data_source\":{\"id\":\"c5ed3486-035a-4963-b394-f41298599e6e\",\"type\":\"ColumnDataSource\"},\"glyph\":{\"id\":\"dbcacff3-4c2b-4295-9006-b2d923119521\",\"type\":\"Line\"},\"hover_glyph\":null,\"muted_glyph\":null,\"nonselection_glyph\":{\"id\":\"e3ee8c1e-e018-4adf-aa9b-25805b52e9aa\",\"type\":\"Line\"},\"selection_glyph\":null,\"view\":{\"id\":\"6227837a-aa1e-44c5-8777-437526685245\",\"type\":\"CDSView\"}},\"id\":\"8182fa51-e051-4258-a5a5-8fca17d8b329\",\"type\":\"GlyphRenderer\"},{\"attributes\":{\"source\":{\"id\":\"914bb64a-03cf-47a3-a826-f91a7bd30b9b\",\"type\":\"ColumnDataSource\"}},\"id\":\"d6d0e8f6-d7fa-47f6-a0b6-3dd2266e75e9\",\"type\":\"CDSView\"},{\"attributes\":{\"fill_alpha\":{\"value\":0.7},\"fill_color\":{\"value\":\"#4daf4a\"},\"line_alpha\":{\"value\":0.7},\"line_color\":{\"value\":\"#4daf4a\"},\"x\":{\"field\":\"x\"},\"y\":{\"field\":\"y\"}},\"id\":\"17508a16-2b36-4285-8b54-f755d859456f\",\"type\":\"Circle\"},{\"attributes\":{\"fill_alpha\":{\"value\":0.1},\"fill_color\":{\"value\":\"#1f77b4\"},\"line_alpha\":{\"value\":0.1},\"line_color\":{\"value\":\"#1f77b4\"},\"x\":{\"field\":\"x\"},\"y\":{\"field\":\"y\"}},\"id\":\"5ac5cb4e-25e5-47f7-9ca3-280f44f6f5a8\",\"type\":\"Circle\"},{\"attributes\":{\"callback\":null,\"column_names\":[\"x\",\"y\"],\"data\":{\"x\":{\"__ndarray__\":\"dy43cMvgYD+rlmvi4IpiP0Kbh9tzMWY/wtN6MzxQaj+bFUHjiOVuP+XOV9bg+3E/zh3q0RfMdD+9dr6KK+h3P56PElXBVXs/jQY8HOMafz+IcmTnQ6KBP8cVUAE46oM/lfMHk9phhj/cTrlFwsGIPwgvMP/Rkoo/bY4V6G5QjD+QIU69gQ2OPzvBIrKi2Y8/JToYyKrakD9MYYkZTs6RPz+UykP2q5I/BYACJjC9kT9tG56gJEuNPz4nZdqW4oY/+/PFpOCTgT9Nw3YO7Xp6P36ociQ0e3M/ik37EloYbT+UJahYWDlnPwwEKGU0QWM/lloRd18NYD9Fl2ch7DBbP/rpCWul7Vk/ut0d1dsgXD/gIkh+XhlfP79h08KTEWE/NzGPZHg0Yj//IRJYzKdiP1fCVB8CRWk/4uZFQWPQbz+DkZep0S1zP/P5BVAf4nQ/1PG8R97wdT8z9FdUvsJ2Pxrcy5LBbnc/YxkmgF3hej/5gl4fnSGCP8NVTq9mOok/YbpG3znrlD8AJCVgivigP+XnP5KKeqg/5CxtM7wysD86Xbqv3iC0P6Sim9sC1Lc/hVuP6tg+uz+q3jWizXm+P9Te9TYt1cA/UMr66Gxhwj/JCr0Y4s3DP5xaf1n1AsU/bnqr1Q73xT/b1/xlV6jGP2HPWTxmJcc/yCP3sdl3xz9Ddbs8n6zHP8EOCJKQzMc/FAXXFyngxz8eXKNRsOXHP99FGXUEtMc/RxM5eNwJxz+asZ3tNJPFP3u+HEfifcM/cFls+aBhwT96gQgzdcm+P5Vqnwcux7o/\",\"dtype\":\"float64\",\"shape\":[75]},\"y\":{\"__ndarray__\":\"GhExyth1ND/Sv8nbtpRIP2vylNV0PVE/aTum7souWD/At0SJ8fVgPw3Iuahxymc/MSNhhJWvcD/bTfBN02d3P2zb5nxnaoA/CD5h5MAGhz8NmeH1TyaQP+zrCsc9p5Y/LbKd76fGnz/bLW5ISEmmPww9YvTcQq8/JV2OstnstT8Er5Y7M8G+P0c+r3jqkcU/5h99k6ZBzj88bCIzFzjVP4enV8oyxN0//yH99nXg5D8qOpLLf0jtP5kqGJXUifQ/c9cS8kHP/D+/DpwzojQEQIEmwoanVwxA4lgXt9HgE0BSSZ2AJuIbQAMJih9jjiNA5q4l5INuK0AwTKYKRj0zQNv5fmq8/DpAaCJseHrtQkB/+zpwzoxKQM3MzMzMeFJAZmZmZmZqWEAAAAAAAFxeQM3MzMzMJmJAmpmZmZkfZUBmZmZmZhhoQDMzMzMzEWtAAAAAAAAKbkBmZmZmZoFwQM3MzMzM/XFAMzMzMzN6c0CamZmZmfZ0QAAAAAAAc3ZAZmZmZmbvd0DNzMzMzGt5QDMzMzMz6HpAmpmZmZlkfEAAAAAAAOF9QGZmZmZmXX9AZmZmZuZsgECamZmZGSuBQM3MzMxM6YFAAAAAAICngkAzMzMzs2WDQGZmZmbmI4RAmpmZmRnihEDNzMzMTKCFQAAAAACAXoZAMzMzM7Mch0BmZmZm5tqHQJqZmZkZmYhAzczMzExXiUAAAAAAgBWKQDMzMzOz04pAZmZmZuaRi0CamZmZGVCMQM3MzMxMDo1AAAAAAIDMjUAzMzMzs4qOQGZmZmbmSI9A\",\"dtype\":\"float64\",\"shape\":[75]}}},\"id\":\"84503be7-f5d7-4b99-b6d7-0c26ddea9717\",\"type\":\"ColumnDataSource\"},{\"attributes\":{\"source\":{\"id\":\"90457dcb-ef09-4003-bef3-bf7fffc53ce1\",\"type\":\"ColumnDataSource\"}},\"id\":\"3dd5d73a-2759-4605-b477-ebeed41f9dfb\",\"type\":\"CDSView\"},{\"attributes\":{\"ticker\":null},\"id\":\"688490b9-5a2a-4bb4-b62d-8d9129fa225c\",\"type\":\"LogTickFormatter\"},{\"attributes\":{\"data_source\":{\"id\":\"90457dcb-ef09-4003-bef3-bf7fffc53ce1\",\"type\":\"ColumnDataSource\"},\"glyph\":{\"id\":\"17508a16-2b36-4285-8b54-f755d859456f\",\"type\":\"Circle\"},\"hover_glyph\":null,\"muted_glyph\":null,\"nonselection_glyph\":{\"id\":\"5ac5cb4e-25e5-47f7-9ca3-280f44f6f5a8\",\"type\":\"Circle\"},\"selection_glyph\":null,\"view\":{\"id\":\"3dd5d73a-2759-4605-b477-ebeed41f9dfb\",\"type\":\"CDSView\"}},\"id\":\"16fa4ef9-9e28-4652-a130-9a70175f79fa\",\"type\":\"GlyphRenderer\"},{\"attributes\":{\"line_alpha\":0.1,\"line_color\":\"#1f77b4\",\"line_width\":1.5,\"x\":{\"field\":\"x\"},\"y\":{\"field\":\"y\"}},\"id\":\"fff5c549-cb61-4410-b0dc-a8e181c90495\",\"type\":\"Line\"},{\"attributes\":{\"label\":{\"value\":\"WGT igg=10 wgt_flux=2\"},\"renderers\":[{\"id\":\"f85176d7-55a3-410e-a714-75c523843474\",\"type\":\"GlyphRenderer\"},{\"id\":\"67eced95-6df0-4b64-b166-196bc3b6f27e\",\"type\":\"GlyphRenderer\"}]},\"id\":\"929ee883-94e2-4f93-adaf-d6c5a83625c0\",\"type\":\"LegendItem\"},{\"attributes\":{\"bottom_units\":\"screen\",\"fill_alpha\":{\"value\":0.5},\"fill_color\":{\"value\":\"lightgrey\"},\"left_units\":\"screen\",\"level\":\"overlay\",\"line_alpha\":{\"value\":1.0},\"line_color\":{\"value\":\"black\"},\"line_dash\":[4,4],\"line_width\":{\"value\":2},\"plot\":null,\"render_mode\":\"css\",\"right_units\":\"screen\",\"top_units\":\"screen\"},\"id\":\"1820845d-2ba7-4a68-a123-0cf207b7f02a\",\"type\":\"BoxAnnotation\"},{\"attributes\":{\"callback\":null,\"column_names\":[\"x\",\"y\"],\"data\":{\"x\":{\"__ndarray__\":\"lecMkJlgYD8MTK9UJT9iPyz599gfYWY/jQy8W1wRaz+yVdmhoCdwP4RX1KHIE3M/n5hwBV9Tdj9XjFpksu15PyBFhfjs6n0/FwW8c0EpgT8ZSS4DtpGDP9m8+ELLMYY/5gsd5acLiT+T9px6+MCLP5ALlDVm6Y0/dNioR03Njz9c78eFtNqQPwHR5zE30JE/cJXyHabEkj+BE5UD+baTP7JtAiCvhpQ/H+quVGY2kz/ZYnWzWO2OP37buGpDaoc/F2mlusdsgT87ExF8V3Z5P8aFEEtbQHI/87yUrBX1aj99GgQROsxlP//LZUYnomI/YlZYwvQjYD/IrLNhGnRcP6HrGqPw9ls/+ctgaMu7Xj/jphmisOpgP1wcid/qQ2I/nTT0oyYgYz9uh160u09jP4hYsBX8y2k/hxMdrLQKcD84znGfcSlzP+nnfcdfv3Q/C/TGVkLBdT92M7UCyY92P1I0kOCmPHc/8ESDqg7Gej/xcOvIMjiCP6Xddg5WfYk/6DCmMwwslT8OfodHhyyhP2dlK8rNuag/frHJqqBTsD8PYJFfP0S0P/Iu/ZyZGLg/o/5A2nvIuz9APhnKJky/P+n6V7nET8E/DfYN6UPZwj8x1i+/cDrEPxn/oQ1+asU/EPFJBgRjxj95d4W6HyLHPzE+UJdaqcc/urjwMKv/xz8a1TPO8DDIP/qTvjGAR8g/qsUSnBtPyD/1Pwroz0jIP0+UxmCsDMg/02eLlPtXxz/bM0sC1NTFPxOB6h9EssM/iACWS5mKwT+kDVVrQAi/P8HTGjnB7bo/\",\"dtype\":\"float64\",\"shape\":[75]},\"y\":{\"__ndarray__\":\"GhExyth1ND/Sv8nbtpRIP2vylNV0PVE/aTum7souWD/At0SJ8fVgPw3Iuahxymc/MSNhhJWvcD/bTfBN02d3P2zb5nxnaoA/CD5h5MAGhz8NmeH1TyaQP+zrCsc9p5Y/LbKd76fGnz/bLW5ISEmmPww9YvTcQq8/JV2OstnstT8Er5Y7M8G+P0c+r3jqkcU/5h99k6ZBzj88bCIzFzjVP4enV8oyxN0//yH99nXg5D8qOpLLf0jtP5kqGJXUifQ/c9cS8kHP/D+/DpwzojQEQIEmwoanVwxA4lgXt9HgE0BSSZ2AJuIbQAMJih9jjiNA5q4l5INuK0AwTKYKRj0zQNv5fmq8/DpAaCJseHrtQkB/+zpwzoxKQM3MzMzMeFJAZmZmZmZqWEAAAAAAAFxeQM3MzMzMJmJAmpmZmZkfZUBmZmZmZhhoQDMzMzMzEWtAAAAAAAAKbkBmZmZmZoFwQM3MzMzM/XFAMzMzMzN6c0CamZmZmfZ0QAAAAAAAc3ZAZmZmZmbvd0DNzMzMzGt5QDMzMzMz6HpAmpmZmZlkfEAAAAAAAOF9QGZmZmZmXX9AZmZmZuZsgECamZmZGSuBQM3MzMxM6YFAAAAAAICngkAzMzMzs2WDQGZmZmbmI4RAmpmZmRnihEDNzMzMTKCFQAAAAACAXoZAMzMzM7Mch0BmZmZm5tqHQJqZmZkZmYhAzczMzExXiUAAAAAAgBWKQDMzMzOz04pAZmZmZuaRi0CamZmZGVCMQM3MzMxMDo1AAAAAAIDMjUAzMzMzs4qOQGZmZmbmSI9A\",\"dtype\":\"float64\",\"shape\":[75]}}},\"id\":\"193a9476-70f5-4854-811d-4b171ac1e2c6\",\"type\":\"ColumnDataSource\"},{\"attributes\":{\"line_color\":\"#4daf4a\",\"line_width\":1.5,\"x\":{\"field\":\"x\"},\"y\":{\"field\":\"y\"}},\"id\":\"fbaec872-a46e-4381-a635-70fd3871e7d0\",\"type\":\"Line\"},{\"attributes\":{\"callback\":null,\"column_names\":[\"x\",\"y\"],\"data\":{\"x\":{\"__ndarray__\":\"dy43cMvgYD+rlmvi4IpiP0Kbh9tzMWY/wtN6MzxQaj+bFUHjiOVuP+XOV9bg+3E/zh3q0RfMdD+9dr6KK+h3P56PElXBVXs/jQY8HOMafz+IcmTnQ6KBP8cVUAE46oM/lfMHk9phhj/cTrlFwsGIPwgvMP/Rkoo/bY4V6G5QjD+QIU69gQ2OPzvBIrKi2Y8/JToYyKrakD9MYYkZTs6RPz+UykP2q5I/BYACJjC9kT9tG56gJEuNPz4nZdqW4oY/+/PFpOCTgT9Nw3YO7Xp6P36ociQ0e3M/ik37EloYbT+UJahYWDlnPwwEKGU0QWM/lloRd18NYD9Fl2ch7DBbP/rpCWul7Vk/ut0d1dsgXD/gIkh+XhlfP79h08KTEWE/NzGPZHg0Yj//IRJYzKdiP1fCVB8CRWk/4uZFQWPQbz+DkZep0S1zP/P5BVAf4nQ/1PG8R97wdT8z9FdUvsJ2Pxrcy5LBbnc/YxkmgF3hej/5gl4fnSGCP8NVTq9mOok/YbpG3znrlD8AJCVgivigP+XnP5KKeqg/5CxtM7wysD86Xbqv3iC0P6Sim9sC1Lc/hVuP6tg+uz+q3jWizXm+P9Te9TYt1cA/UMr66Gxhwj/JCr0Y4s3DP5xaf1n1AsU/bnqr1Q73xT/b1/xlV6jGP2HPWTxmJcc/yCP3sdl3xz9Ddbs8n6zHP8EOCJKQzMc/FAXXFyngxz8eXKNRsOXHP99FGXUEtMc/RxM5eNwJxz+asZ3tNJPFP3u+HEfifcM/cFls+aBhwT96gQgzdcm+P5Vqnwcux7o/\",\"dtype\":\"float64\",\"shape\":[75]},\"y\":{\"__ndarray__\":\"GhExyth1ND/Sv8nbtpRIP2vylNV0PVE/aTum7souWD/At0SJ8fVgPw3Iuahxymc/MSNhhJWvcD/bTfBN02d3P2zb5nxnaoA/CD5h5MAGhz8NmeH1TyaQP+zrCsc9p5Y/LbKd76fGnz/bLW5ISEmmPww9YvTcQq8/JV2OstnstT8Er5Y7M8G+P0c+r3jqkcU/5h99k6ZBzj88bCIzFzjVP4enV8oyxN0//yH99nXg5D8qOpLLf0jtP5kqGJXUifQ/c9cS8kHP/D+/DpwzojQEQIEmwoanVwxA4lgXt9HgE0BSSZ2AJuIbQAMJih9jjiNA5q4l5INuK0AwTKYKRj0zQNv5fmq8/DpAaCJseHrtQkB/+zpwzoxKQM3MzMzMeFJAZmZmZmZqWEAAAAAAAFxeQM3MzMzMJmJAmpmZmZkfZUBmZmZmZhhoQDMzMzMzEWtAAAAAAAAKbkBmZmZmZoFwQM3MzMzM/XFAMzMzMzN6c0CamZmZmfZ0QAAAAAAAc3ZAZmZmZmbvd0DNzMzMzGt5QDMzMzMz6HpAmpmZmZlkfEAAAAAAAOF9QGZmZmZmXX9AZmZmZuZsgECamZmZGSuBQM3MzMxM6YFAAAAAAICngkAzMzMzs2WDQGZmZmbmI4RAmpmZmRnihEDNzMzMTKCFQAAAAACAXoZAMzMzM7Mch0BmZmZm5tqHQJqZmZkZmYhAzczMzExXiUAAAAAAgBWKQDMzMzOz04pAZmZmZuaRi0CamZmZGVCMQM3MzMxMDo1AAAAAAIDMjUAzMzMzs4qOQGZmZmbmSI9A\",\"dtype\":\"float64\",\"shape\":[75]}}},\"id\":\"145f33d9-db16-4d03-b468-1a801c8ae7b7\",\"type\":\"ColumnDataSource\"},{\"attributes\":{},\"id\":\"06bb712c-4be8-4917-ae84-9f452e28e39d\",\"type\":\"PanTool\"},{\"attributes\":{\"fill_alpha\":{\"value\":0.1},\"fill_color\":{\"value\":\"#1f77b4\"},\"line_alpha\":{\"value\":0.1},\"line_color\":{\"value\":\"#1f77b4\"},\"x\":{\"field\":\"x\"},\"y\":{\"field\":\"y\"}},\"id\":\"ae68d7f9-1ab2-427a-b990-27eccb58d1b2\",\"type\":\"Square\"},{\"attributes\":{\"plot\":{\"id\":\"706ccd7a-baea-46de-a80e-aec6b9012ece\",\"subtype\":\"Figure\",\"type\":\"Plot\"},\"ticker\":{\"id\":\"f6b4c32f-3c15-44f2-b958-337523aca529\",\"type\":\"BasicTicker\"}},\"id\":\"449dc3f9-06eb-458f-af15-88d93ce7295c\",\"type\":\"Grid\"},{\"attributes\":{\"data_source\":{\"id\":\"193a9476-70f5-4854-811d-4b171ac1e2c6\",\"type\":\"ColumnDataSource\"},\"glyph\":{\"id\":\"fbaec872-a46e-4381-a635-70fd3871e7d0\",\"type\":\"Line\"},\"hover_glyph\":null,\"muted_glyph\":null,\"nonselection_glyph\":{\"id\":\"fff5c549-cb61-4410-b0dc-a8e181c90495\",\"type\":\"Line\"},\"selection_glyph\":null,\"view\":{\"id\":\"815102d7-0fc5-45c2-80fd-e1cf46cee5d4\",\"type\":\"CDSView\"}},\"id\":\"0ac1525e-32f5-47a2-abcd-f6bd7ad689f4\",\"type\":\"GlyphRenderer\"},{\"attributes\":{},\"id\":\"dbbdd0ed-f6bf-4f63-b32d-47178633b13d\",\"type\":\"BasicTickFormatter\"},{\"attributes\":{\"source\":{\"id\":\"193a9476-70f5-4854-811d-4b171ac1e2c6\",\"type\":\"ColumnDataSource\"}},\"id\":\"815102d7-0fc5-45c2-80fd-e1cf46cee5d4\",\"type\":\"CDSView\"},{\"attributes\":{\"fill_alpha\":{\"value\":0.7},\"fill_color\":{\"value\":\"#984ea3\"},\"line_alpha\":{\"value\":0.7},\"line_color\":{\"value\":\"#984ea3\"},\"x\":{\"field\":\"x\"},\"y\":{\"field\":\"y\"}},\"id\":\"8708fda9-74cf-462e-9969-f49aad5a4029\",\"type\":\"Square\"},{\"attributes\":{\"callback\":null,\"end\":0.020231635318999998,\"start\":0.001197790781},\"id\":\"315e925d-1828-4def-bd3a-a6c887ff183c\",\"type\":\"Range1d\"},{\"attributes\":{\"data_source\":{\"id\":\"145f33d9-db16-4d03-b468-1a801c8ae7b7\",\"type\":\"ColumnDataSource\"},\"glyph\":{\"id\":\"8708fda9-74cf-462e-9969-f49aad5a4029\",\"type\":\"Square\"},\"hover_glyph\":null,\"muted_glyph\":null,\"nonselection_glyph\":{\"id\":\"ae68d7f9-1ab2-427a-b990-27eccb58d1b2\",\"type\":\"Square\"},\"selection_glyph\":null,\"view\":{\"id\":\"30415ffd-7c2a-41ae-8a0f-a098ae276d02\",\"type\":\"CDSView\"}},\"id\":\"f85176d7-55a3-410e-a714-75c523843474\",\"type\":\"GlyphRenderer\"},{\"attributes\":{},\"id\":\"6b05ce5e-4c98-4627-beb2-44c907dc42da\",\"type\":\"WheelZoomTool\"},{\"attributes\":{\"line_alpha\":0.1,\"line_color\":\"#1f77b4\",\"line_width\":3,\"x\":{\"field\":\"x\"},\"y\":{\"field\":\"y\"}},\"id\":\"7e04e811-8a1b-4db9-86d6-62495e35f9f9\",\"type\":\"Line\"},{\"attributes\":{},\"id\":\"c9df5b67-3ce2-46c5-ae8a-abb067150261\",\"type\":\"LogScale\"},{\"attributes\":{},\"id\":\"910e995e-ef10-45f4-a085-29ae1f464468\",\"type\":\"BasicTickFormatter\"},{\"attributes\":{\"source\":{\"id\":\"145f33d9-db16-4d03-b468-1a801c8ae7b7\",\"type\":\"ColumnDataSource\"}},\"id\":\"30415ffd-7c2a-41ae-8a0f-a098ae276d02\",\"type\":\"CDSView\"},{\"attributes\":{\"children\":[{\"id\":\"a16014d3-3de4-46ea-bbaf-68d0e3e36759\",\"subtype\":\"Figure\",\"type\":\"Plot\"},{\"id\":\"706ccd7a-baea-46de-a80e-aec6b9012ece\",\"subtype\":\"Figure\",\"type\":\"Plot\"}]},\"id\":\"c4ad947d-f6c1-4409-9c8a-6af8d7b7ac8e\",\"type\":\"Row\"},{\"attributes\":{\"line_alpha\":0.6,\"line_color\":\"#984ea3\",\"line_width\":3,\"x\":{\"field\":\"x\"},\"y\":{\"field\":\"y\"}},\"id\":\"43cf66e9-e022-487c-b27b-e7a3da08240b\",\"type\":\"Line\"},{\"attributes\":{\"data_source\":{\"id\":\"84503be7-f5d7-4b99-b6d7-0c26ddea9717\",\"type\":\"ColumnDataSource\"},\"glyph\":{\"id\":\"43cf66e9-e022-487c-b27b-e7a3da08240b\",\"type\":\"Line\"},\"hover_glyph\":null,\"muted_glyph\":null,\"nonselection_glyph\":{\"id\":\"7e04e811-8a1b-4db9-86d6-62495e35f9f9\",\"type\":\"Line\"},\"selection_glyph\":null,\"view\":{\"id\":\"de65b799-017f-4325-9eb9-443da2e02a0f\",\"type\":\"CDSView\"}},\"id\":\"67eced95-6df0-4b64-b166-196bc3b6f27e\",\"type\":\"GlyphRenderer\"},{\"attributes\":{\"source\":{\"id\":\"84503be7-f5d7-4b99-b6d7-0c26ddea9717\",\"type\":\"ColumnDataSource\"}},\"id\":\"de65b799-017f-4325-9eb9-443da2e02a0f\",\"type\":\"CDSView\"},{\"attributes\":{\"items\":[{\"id\":\"0ed12fc7-f4bb-45d6-8d9e-b999d0ac0578\",\"type\":\"LegendItem\"},{\"id\":\"2b4707e2-5359-4b9e-b973-721140eca981\",\"type\":\"LegendItem\"},{\"id\":\"929ee883-94e2-4f93-adaf-d6c5a83625c0\",\"type\":\"LegendItem\"}],\"label_text_font_size\":{\"value\":\"8pt\"},\"location\":[10,-30],\"plot\":{\"id\":\"706ccd7a-baea-46de-a80e-aec6b9012ece\",\"subtype\":\"Figure\",\"type\":\"Plot\"}},\"id\":\"0f207c19-1c56-46c8-afed-68f21ffeeac0\",\"type\":\"Legend\"},{\"attributes\":{\"toolbar\":{\"id\":\"4f5d9853-c35a-4f14-bea9-8d3134cdad51\",\"type\":\"ProxyToolbar\"},\"toolbar_location\":\"above\"},\"id\":\"16b450d3-1251-45c4-8e0d-49e23c56a6ed\",\"type\":\"ToolbarBox\"},{\"attributes\":{\"children\":[{\"id\":\"16b450d3-1251-45c4-8e0d-49e23c56a6ed\",\"type\":\"ToolbarBox\"},{\"id\":\"99ceb5f1-dc12-420c-97a6-35733784837c\",\"type\":\"Column\"}]},\"id\":\"8306eed0-3477-489c-8ecd-ebb859eeb362\",\"type\":\"Column\"},{\"attributes\":{\"line_alpha\":0.1,\"line_color\":\"#1f77b4\",\"line_dash\":[6],\"line_width\":5,\"x\":{\"field\":\"x\"},\"y\":{\"field\":\"y\"}},\"id\":\"e3ee8c1e-e018-4adf-aa9b-25805b52e9aa\",\"type\":\"Line\"},{\"attributes\":{},\"id\":\"9556ae82-cedc-4e06-b060-e3d128aedcab\",\"type\":\"BasicTickFormatter\"},{\"attributes\":{},\"id\":\"23ea9a99-8aa8-42fb-be12-701423ef1667\",\"type\":\"HelpTool\"},{\"attributes\":{\"label\":{\"value\":\"CRD\"},\"renderers\":[{\"id\":\"16fa4ef9-9e28-4652-a130-9a70175f79fa\",\"type\":\"GlyphRenderer\"},{\"id\":\"0ac1525e-32f5-47a2-abcd-f6bd7ad689f4\",\"type\":\"GlyphRenderer\"}]},\"id\":\"2b4707e2-5359-4b9e-b973-721140eca981\",\"type\":\"LegendItem\"},{\"attributes\":{},\"id\":\"2e060147-13f3-4c03-bb97-c2def9f71b2b\",\"type\":\"ResetTool\"},{\"attributes\":{},\"id\":\"56bd5940-2e27-4658-a919-462799fabea9\",\"type\":\"SaveTool\"},{\"attributes\":{\"line_alpha\":0.6,\"line_color\":\"#e41a1c\",\"line_dash\":[6],\"line_width\":5,\"x\":{\"field\":\"x\"},\"y\":{\"field\":\"y\"}},\"id\":\"13d52edf-405a-467f-af7d-75a359e0be2e\",\"type\":\"Line\"},{\"attributes\":{\"tools\":[{\"id\":\"7bf1b60d-ec1c-4986-8683-71e9985633e7\",\"type\":\"PanTool\"},{\"id\":\"87d02d27-3ed2-4c8e-aad3-cdeb608a4645\",\"type\":\"WheelZoomTool\"},{\"id\":\"3d5b0cc7-365d-4744-aba3-829378597f4e\",\"type\":\"BoxZoomTool\"},{\"id\":\"d09e7fb0-f387-48c5-ae63-d30246ac14b1\",\"type\":\"SaveTool\"},{\"id\":\"f76e7abe-cd92-4d32-99bc-1563d6934a3d\",\"type\":\"ResetTool\"},{\"id\":\"3e57080e-d07b-47fc-9804-29dce1d89923\",\"type\":\"HelpTool\"},{\"id\":\"06bb712c-4be8-4917-ae84-9f452e28e39d\",\"type\":\"PanTool\"},{\"id\":\"6b05ce5e-4c98-4627-beb2-44c907dc42da\",\"type\":\"WheelZoomTool\"},{\"id\":\"9175f933-4a78-4682-b2e6-285f4139a733\",\"type\":\"BoxZoomTool\"},{\"id\":\"56bd5940-2e27-4658-a919-462799fabea9\",\"type\":\"SaveTool\"},{\"id\":\"2e060147-13f3-4c03-bb97-c2def9f71b2b\",\"type\":\"ResetTool\"},{\"id\":\"23ea9a99-8aa8-42fb-be12-701423ef1667\",\"type\":\"HelpTool\"}]},\"id\":\"4f5d9853-c35a-4f14-bea9-8d3134cdad51\",\"type\":\"ProxyToolbar\"},{\"attributes\":{\"label\":{\"value\":\"CLIRAD `coolr_bands`\"},\"renderers\":[{\"id\":\"8182fa51-e051-4258-a5a5-8fca17d8b329\",\"type\":\"GlyphRenderer\"}]},\"id\":\"0ed12fc7-f4bb-45d6-8d9e-b999d0ac0578\",\"type\":\"LegendItem\"},{\"attributes\":{\"overlay\":{\"id\":\"1820845d-2ba7-4a68-a123-0cf207b7f02a\",\"type\":\"BoxAnnotation\"}},\"id\":\"9175f933-4a78-4682-b2e6-285f4139a733\",\"type\":\"BoxZoomTool\"}],\"root_ids\":[\"8306eed0-3477-489c-8ecd-ebb859eeb362\"]},\"title\":\"Bokeh Application\",\"version\":\"0.12.14\"}};\n",
       "  var render_items = [{\"docid\":\"12117e40-d357-45bf-96af-9527ccd6427d\",\"elementid\":\"b2191109-0a45-40a9-bca5-af0fefbce202\",\"modelid\":\"8306eed0-3477-489c-8ecd-ebb859eeb362\"}];\n",
       "  root.Bokeh.embed.embed_items_notebook(docs_json, render_items);\n",
       "\n",
       "  }\n",
       "  if (root.Bokeh !== undefined) {\n",
       "    embed_document(root);\n",
       "  } else {\n",
       "    var attempts = 0;\n",
       "    var timer = setInterval(function(root) {\n",
       "      if (root.Bokeh !== undefined) {\n",
       "        embed_document(root);\n",
       "        clearInterval(timer);\n",
       "      }\n",
       "      attempts++;\n",
       "      if (attempts > 100) {\n",
       "        console.log(\"Bokeh: ERROR: Unable to run BokehJS code because BokehJS library is missing\")\n",
       "        clearInterval(timer);\n",
       "      }\n",
       "    }, 10, root)\n",
       "  }\n",
       "})(window);"
      ],
      "application/vnd.bokehjs_exec.v0+json": ""
     },
     "metadata": {
      "application/vnd.bokehjs_exec.v0+json": {
       "id": "8306eed0-3477-489c-8ecd-ebb859eeb362"
      }
     },
     "output_type": "display_data"
    },
    {
     "name": "stdout",
     "output_type": "stream",
     "text": [
      "FIGURE. Cooling rate profiles.\n"
     ]
    },
    {
     "data": {
      "text/html": [
       "<a id=\"Flux_Comparison\"></a>"
      ],
      "text/plain": [
       "<IPython.core.display.HTML object>"
      ]
     },
     "metadata": {},
     "output_type": "display_data"
    },
    {
     "data": {
      "text/markdown": [
       "# Flux Comparison"
      ],
      "text/plain": [
       "<IPython.core.display.Markdown object>"
      ]
     },
     "metadata": {},
     "output_type": "display_data"
    },
    {
     "data": {
      "text/html": [
       "<div>\n",
       "<style>\n",
       "    .dataframe thead tr:only-child th {\n",
       "        text-align: right;\n",
       "    }\n",
       "\n",
       "    .dataframe thead th {\n",
       "        text-align: left;\n",
       "    }\n",
       "\n",
       "    .dataframe tbody tr th {\n",
       "        vertical-align: top;\n",
       "    }\n",
       "</style>\n",
       "<table border=\"1\" class=\"dataframe\">\n",
       "  <thead>\n",
       "    <tr style=\"text-align: right;\">\n",
       "      <th></th>\n",
       "      <th></th>\n",
       "      <th>flug</th>\n",
       "      <th>fldg</th>\n",
       "      <th>fnetg</th>\n",
       "    </tr>\n",
       "    <tr>\n",
       "      <th>pressure</th>\n",
       "      <th>level</th>\n",
       "      <th></th>\n",
       "      <th></th>\n",
       "      <th></th>\n",
       "    </tr>\n",
       "  </thead>\n",
       "  <tbody>\n",
       "    <tr>\n",
       "      <th>0.0000</th>\n",
       "      <th>1</th>\n",
       "      <td>-22.503938</td>\n",
       "      <td>0.000000</td>\n",
       "      <td>-22.503938</td>\n",
       "    </tr>\n",
       "    <tr>\n",
       "      <th>1.0685</th>\n",
       "      <th>24</th>\n",
       "      <td>-22.503379</td>\n",
       "      <td>0.001439</td>\n",
       "      <td>-22.501940</td>\n",
       "    </tr>\n",
       "    <tr>\n",
       "      <th>1013.0000</th>\n",
       "      <th>76</th>\n",
       "      <td>-23.591137</td>\n",
       "      <td>11.601337</td>\n",
       "      <td>-11.989801</td>\n",
       "    </tr>\n",
       "  </tbody>\n",
       "</table>\n",
       "</div>"
      ],
      "text/plain": [
       "                      flug       fldg      fnetg\n",
       "pressure  level                                 \n",
       "0.0000    1     -22.503938   0.000000 -22.503938\n",
       "1.0685    24    -22.503379   0.001439 -22.501940\n",
       "1013.0000 76    -23.591137  11.601337 -11.989801"
      ]
     },
     "metadata": {},
     "output_type": "display_data"
    },
    {
     "name": "stdout",
     "output_type": "stream",
     "text": [
      "Table. Fluxes. WGT igg=10 wgt_flux=1\n"
     ]
    },
    {
     "data": {
      "text/html": [
       "<div>\n",
       "<style>\n",
       "    .dataframe thead tr:only-child th {\n",
       "        text-align: right;\n",
       "    }\n",
       "\n",
       "    .dataframe thead th {\n",
       "        text-align: left;\n",
       "    }\n",
       "\n",
       "    .dataframe tbody tr th {\n",
       "        vertical-align: top;\n",
       "    }\n",
       "</style>\n",
       "<table border=\"1\" class=\"dataframe\">\n",
       "  <thead>\n",
       "    <tr style=\"text-align: right;\">\n",
       "      <th></th>\n",
       "      <th></th>\n",
       "      <th>flug</th>\n",
       "      <th>fldg</th>\n",
       "      <th>fnetg</th>\n",
       "    </tr>\n",
       "    <tr>\n",
       "      <th>pressure</th>\n",
       "      <th>level</th>\n",
       "      <th></th>\n",
       "      <th></th>\n",
       "      <th></th>\n",
       "    </tr>\n",
       "  </thead>\n",
       "  <tbody>\n",
       "    <tr>\n",
       "      <th>0.0000</th>\n",
       "      <th>1</th>\n",
       "      <td>-22.503850</td>\n",
       "      <td>0.000000</td>\n",
       "      <td>-22.503850</td>\n",
       "    </tr>\n",
       "    <tr>\n",
       "      <th>1.0685</th>\n",
       "      <th>24</th>\n",
       "      <td>-22.503284</td>\n",
       "      <td>0.001611</td>\n",
       "      <td>-22.501673</td>\n",
       "    </tr>\n",
       "    <tr>\n",
       "      <th>1013.0000</th>\n",
       "      <th>76</th>\n",
       "      <td>-23.591138</td>\n",
       "      <td>11.781515</td>\n",
       "      <td>-11.809623</td>\n",
       "    </tr>\n",
       "  </tbody>\n",
       "</table>\n",
       "</div>"
      ],
      "text/plain": [
       "                      flug       fldg      fnetg\n",
       "pressure  level                                 \n",
       "0.0000    1     -22.503850   0.000000 -22.503850\n",
       "1.0685    24    -22.503284   0.001611 -22.501673\n",
       "1013.0000 76    -23.591138  11.781515 -11.809623"
      ]
     },
     "metadata": {},
     "output_type": "display_data"
    },
    {
     "name": "stdout",
     "output_type": "stream",
     "text": [
      "Table. Fluxes. CRD\n"
     ]
    },
    {
     "data": {
      "text/html": [
       "<div>\n",
       "<style>\n",
       "    .dataframe thead tr:only-child th {\n",
       "        text-align: right;\n",
       "    }\n",
       "\n",
       "    .dataframe thead th {\n",
       "        text-align: left;\n",
       "    }\n",
       "\n",
       "    .dataframe tbody tr th {\n",
       "        vertical-align: top;\n",
       "    }\n",
       "</style>\n",
       "<table border=\"1\" class=\"dataframe\">\n",
       "  <thead>\n",
       "    <tr style=\"text-align: right;\">\n",
       "      <th></th>\n",
       "      <th></th>\n",
       "      <th>flug</th>\n",
       "      <th>fldg</th>\n",
       "      <th>fnetg</th>\n",
       "    </tr>\n",
       "    <tr>\n",
       "      <th>pressure</th>\n",
       "      <th>level</th>\n",
       "      <th></th>\n",
       "      <th></th>\n",
       "      <th></th>\n",
       "    </tr>\n",
       "  </thead>\n",
       "  <tbody>\n",
       "    <tr>\n",
       "      <th>1.000000e-08</th>\n",
       "      <th>1</th>\n",
       "      <td>-22.584901</td>\n",
       "      <td>0.000002</td>\n",
       "      <td>-22.584899</td>\n",
       "    </tr>\n",
       "    <tr>\n",
       "      <th>1.068500e+00</th>\n",
       "      <th>24</th>\n",
       "      <td>-22.584320</td>\n",
       "      <td>0.001426</td>\n",
       "      <td>-22.582894</td>\n",
       "    </tr>\n",
       "    <tr>\n",
       "      <th>1.013000e+03</th>\n",
       "      <th>76</th>\n",
       "      <td>-23.591140</td>\n",
       "      <td>11.431329</td>\n",
       "      <td>-12.159811</td>\n",
       "    </tr>\n",
       "  </tbody>\n",
       "</table>\n",
       "</div>"
      ],
      "text/plain": [
       "                         flug       fldg      fnetg\n",
       "pressure     level                                 \n",
       "1.000000e-08 1     -22.584901   0.000002 -22.584899\n",
       "1.068500e+00 24    -22.584320   0.001426 -22.582894\n",
       "1.013000e+03 76    -23.591140  11.431329 -12.159811"
      ]
     },
     "metadata": {},
     "output_type": "display_data"
    },
    {
     "name": "stdout",
     "output_type": "stream",
     "text": [
      "Table. Fluxes. CLIRAD\n"
     ]
    },
    {
     "data": {
      "text/html": [
       "<div>\n",
       "<style>\n",
       "    .dataframe thead tr:only-child th {\n",
       "        text-align: right;\n",
       "    }\n",
       "\n",
       "    .dataframe thead th {\n",
       "        text-align: left;\n",
       "    }\n",
       "\n",
       "    .dataframe tbody tr th {\n",
       "        vertical-align: top;\n",
       "    }\n",
       "</style>\n",
       "<table border=\"1\" class=\"dataframe\">\n",
       "  <thead>\n",
       "    <tr style=\"text-align: right;\">\n",
       "      <th></th>\n",
       "      <th></th>\n",
       "      <th>flug</th>\n",
       "      <th>fldg</th>\n",
       "      <th>fnetg</th>\n",
       "    </tr>\n",
       "    <tr>\n",
       "      <th>pressure</th>\n",
       "      <th>level</th>\n",
       "      <th></th>\n",
       "      <th></th>\n",
       "      <th></th>\n",
       "    </tr>\n",
       "  </thead>\n",
       "  <tbody>\n",
       "    <tr>\n",
       "      <th>0.0000</th>\n",
       "      <th>1</th>\n",
       "      <td>8.848490e-05</td>\n",
       "      <td>0.000000</td>\n",
       "      <td>0.000088</td>\n",
       "    </tr>\n",
       "    <tr>\n",
       "      <th>1.0685</th>\n",
       "      <th>24</th>\n",
       "      <td>9.461710e-05</td>\n",
       "      <td>0.000173</td>\n",
       "      <td>0.000267</td>\n",
       "    </tr>\n",
       "    <tr>\n",
       "      <th>1013.0000</th>\n",
       "      <th>76</th>\n",
       "      <td>-6.810000e-07</td>\n",
       "      <td>0.180178</td>\n",
       "      <td>0.180178</td>\n",
       "    </tr>\n",
       "  </tbody>\n",
       "</table>\n",
       "</div>"
      ],
      "text/plain": [
       "                         flug      fldg     fnetg\n",
       "pressure  level                                  \n",
       "0.0000    1      8.848490e-05  0.000000  0.000088\n",
       "1.0685    24     9.461710e-05  0.000173  0.000267\n",
       "1013.0000 76    -6.810000e-07  0.180178  0.180178"
      ]
     },
     "metadata": {},
     "output_type": "display_data"
    },
    {
     "name": "stdout",
     "output_type": "stream",
     "text": [
      "Table. Fluxes. (CRD) - (WGT igg=10 wgt_flux=1)\n"
     ]
    },
    {
     "data": {
      "text/html": [
       "<div>\n",
       "<style>\n",
       "    .dataframe thead tr:only-child th {\n",
       "        text-align: right;\n",
       "    }\n",
       "\n",
       "    .dataframe thead th {\n",
       "        text-align: left;\n",
       "    }\n",
       "\n",
       "    .dataframe tbody tr th {\n",
       "        vertical-align: top;\n",
       "    }\n",
       "</style>\n",
       "<table border=\"1\" class=\"dataframe\">\n",
       "  <thead>\n",
       "    <tr style=\"text-align: right;\">\n",
       "      <th></th>\n",
       "      <th></th>\n",
       "      <th>flug</th>\n",
       "      <th>fldg</th>\n",
       "      <th>fnetg</th>\n",
       "    </tr>\n",
       "    <tr>\n",
       "      <th>pressure</th>\n",
       "      <th>level</th>\n",
       "      <th></th>\n",
       "      <th></th>\n",
       "      <th></th>\n",
       "    </tr>\n",
       "  </thead>\n",
       "  <tbody>\n",
       "    <tr>\n",
       "      <th>0.0000</th>\n",
       "      <th>1</th>\n",
       "      <td>-0.080963</td>\n",
       "      <td>0.000002</td>\n",
       "      <td>-0.080961</td>\n",
       "    </tr>\n",
       "    <tr>\n",
       "      <th>1.0685</th>\n",
       "      <th>24</th>\n",
       "      <td>-0.080941</td>\n",
       "      <td>-0.000013</td>\n",
       "      <td>-0.080954</td>\n",
       "    </tr>\n",
       "    <tr>\n",
       "      <th>1013.0000</th>\n",
       "      <th>76</th>\n",
       "      <td>-0.000003</td>\n",
       "      <td>-0.170008</td>\n",
       "      <td>-0.170010</td>\n",
       "    </tr>\n",
       "  </tbody>\n",
       "</table>\n",
       "</div>"
      ],
      "text/plain": [
       "                     flug      fldg     fnetg\n",
       "pressure  level                              \n",
       "0.0000    1     -0.080963  0.000002 -0.080961\n",
       "1.0685    24    -0.080941 -0.000013 -0.080954\n",
       "1013.0000 76    -0.000003 -0.170008 -0.170010"
      ]
     },
     "metadata": {},
     "output_type": "display_data"
    },
    {
     "name": "stdout",
     "output_type": "stream",
     "text": [
      "Table. Fluxes. (CLIRAD) - (WGT igg=10 wgt_flux=1)\n"
     ]
    },
    {
     "data": {
      "text/html": [
       "<a id=\"Best-fit_Parameters\"></a>"
      ],
      "text/plain": [
       "<IPython.core.display.HTML object>"
      ]
     },
     "metadata": {},
     "output_type": "display_data"
    },
    {
     "data": {
      "text/markdown": [
       "# Best-fit Parameters"
      ],
      "text/plain": [
       "<IPython.core.display.Markdown object>"
      ]
     },
     "metadata": {},
     "output_type": "display_data"
    },
    {
     "name": "stdout",
     "output_type": "stream",
     "text": [
      "Best-fit values for each (gas, band)\n",
      "------------------------------------\n",
      "o h2o band3a\n",
      "  atmpro = mls\n",
      "  band = 3a\n",
      "  commitnumber = a06b618\n",
      "  conc = None\n",
      "  dv = 0.001\n",
      "  klin = 0\n",
      "  molecule = h2o\n",
      "  ng_adju = [0, 0]\n",
      "  ng_refs = [2, 6]\n",
      "  nv = 1000\n",
      "  option_compute_btable = 0\n",
      "  option_compute_ktable = 1\n",
      "  option_wgt_flux = 1\n",
      "  option_wgt_k = 1\n",
      "  ref_pts = [(10, 250), (600, 250)]\n",
      "  tsfc = 294\n",
      "  vmax = 620\n",
      "  vmin = 540\n",
      "  w_diffuse = [(1.9, 1.7), (1.4, 1.4, 1.4, 1.55, 1.6, 1.66)]\n",
      "  wgt = [(0.7, 0.7), (0.7, 0.5, 0.5, 0.5, 0.5, 0.5)]\n"
     ]
    }
   ],
   "source": [
    "script()"
   ]
  },
  {
   "cell_type": "code",
   "execution_count": 13,
   "metadata": {
    "collapsed": true
   },
   "outputs": [
    {
     "data": {
      "text/html": [
       "<script>\n",
       "code_show=true; \n",
       "function code_toggle() {\n",
       " if (code_show){\n",
       " $('div.input').hide();\n",
       " } else {\n",
       " $('div.input').show();\n",
       " }\n",
       " code_show = !code_show\n",
       "} \n",
       "$( document ).ready(code_toggle);\n",
       "</script>\n",
       "<form action=\"javascript:code_toggle()\"><input type=\"submit\" value=\"Click here to toggle on/off the raw code.\"></form>"
      ],
      "text/plain": [
       "<IPython.core.display.HTML object>"
      ]
     },
     "execution_count": 13,
     "metadata": {},
     "output_type": "execute_result"
    }
   ],
   "source": [
    "display.HTML('''<script>\n",
    "code_show=true; \n",
    "function code_toggle() {\n",
    " if (code_show){\n",
    " $('div.input').hide();\n",
    " } else {\n",
    " $('div.input').show();\n",
    " }\n",
    " code_show = !code_show\n",
    "} \n",
    "$( document ).ready(code_toggle);\n",
    "</script>\n",
    "<form action=\"javascript:code_toggle()\"><input type=\"submit\" value=\"Click here to toggle on/off the raw code.\"></form>''')"
   ]
  }
 ],
 "metadata": {
  "kernelspec": {
   "display_name": "Python 3",
   "language": "python",
   "name": "python3"
  },
  "language_info": {
   "codemirror_mode": {
    "name": "ipython",
    "version": 3
   },
   "file_extension": ".py",
   "mimetype": "text/x-python",
   "name": "python",
   "nbconvert_exporter": "python",
   "pygments_lexer": "ipython3",
   "version": "3.6.1"
  }
 },
 "nbformat": 4,
 "nbformat_minor": 2
}
