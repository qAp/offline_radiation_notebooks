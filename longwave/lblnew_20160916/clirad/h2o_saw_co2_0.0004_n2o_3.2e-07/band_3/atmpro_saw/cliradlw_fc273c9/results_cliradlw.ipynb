{
 "cells": [
  {
   "cell_type": "code",
   "execution_count": 1,
   "metadata": {
    "collapsed": true
   },
   "outputs": [],
   "source": [
    "%matplotlib inline\n",
    "import os\n",
    "import re\n",
    "import io\n",
    "import itertools\n",
    "import pprint\n",
    "\n",
    "from bokeh.io import output_notebook, show\n",
    "from bokeh.layouts import gridplot\n",
    "from bokeh.plotting import figure\n",
    "from bokeh.models import Range1d, Legend\n",
    "from bokeh.palettes import all_palettes\n",
    "\n",
    "import matplotlib\n",
    "import matplotlib.pyplot as plt\n",
    "import numpy as np\n",
    "import pandas as pd\n",
    "import xarray as xr\n",
    "\n",
    "import climatools.lblnew.bestfit_params as bestfits\n",
    "from climatools.lblnew import setup_bestfit, setup_overlap\n",
    "import climatools.lblnew.pipeline as pipe_lblnew\n",
    "import climatools.cliradlw.setup as setup_cliradlw\n",
    "import climatools.cliradlw.pipeline as pipe_cliradlw\n",
    "\n",
    "import climatools.html.html as climahtml\n",
    "from climatools.lblnew.dataio import *\n",
    "from climatools.plot.plot import *\n",
    "\n",
    "\n",
    "import IPython.display as display"
   ]
  },
  {
   "cell_type": "code",
   "execution_count": 2,
   "metadata": {
    "collapsed": true
   },
   "outputs": [],
   "source": [
    "%run param.py"
   ]
  },
  {
   "cell_type": "code",
   "execution_count": 3,
   "metadata": {
    "collapsed": true
   },
   "outputs": [],
   "source": [
    "def load_output_file(path_csv):\n",
    "    '''\n",
    "    Load lblnew output .csv file to xarray.Dataset\n",
    "    \n",
    "    Parameters\n",
    "    ----------\n",
    "    path_csv: str\n",
    "              Path to the .csv file to be loaded.\n",
    "    ds: xarray.Dataset\n",
    "        Data in the input file in the form of an xarray.Dataset.\n",
    "    '''\n",
    "    toindex = ['band', 'pressure', 'igg', 'g']    \n",
    "    df = pd.read_csv(path_csv, sep=r'\\s+')\n",
    "    df = df.set_index([i for i in toindex if i in df.columns])\n",
    "    df = df.rename(columns={'sfu': 'flug',\n",
    "                            'sfd': 'fldg',\n",
    "                            'fnet': 'fnetg',\n",
    "                            'coolr': 'coolrg'})\n",
    "    ds = xr.Dataset.from_dataframe(df)\n",
    "\n",
    "    for l in ('level', 'layer'):\n",
    "        if l in ds.data_vars:\n",
    "            if len(ds[l].dims) > 1:\n",
    "                surface = {d: 0 for d in ds.dims if d != 'pressure'}\n",
    "                coord_level = ds[l][surface]\n",
    "                ds.coords[l] = ('pressure', coord_level)\n",
    "            else:\n",
    "                ds.coords[l] = ('pressure', ds[l])\n",
    "    \n",
    "    return ds"
   ]
  },
  {
   "cell_type": "code",
   "execution_count": 4,
   "metadata": {
    "collapsed": true
   },
   "outputs": [],
   "source": [
    "def lblnew_setup(param=None):\n",
    "    if 'ng_refs' in param:\n",
    "        return {'setup': setup_bestfit,\n",
    "                'fname_flux_crd': 'output_flux.dat',\n",
    "                'fname_cool_crd': 'output_coolr.dat',\n",
    "                'fname_flux_wgt': 'output_wfluxg.dat',\n",
    "                'fname_cool_wgt': 'output_wcoolrg.dat'}\n",
    "    else:\n",
    "        return {'setup': setup_overlap,\n",
    "                'fname_flux_crd': 'output_flux.dat',\n",
    "                'fname_cool_crd': 'output_coolr.dat',\n",
    "                'fname_flux_wgt': 'output_wflux.dat',\n",
    "                'fname_cool_wgt': 'output_wcoolr.dat'}\n",
    "\n",
    "    \n",
    "def load_lblnew_data(param):\n",
    "    \n",
    "    fname_dsname = [('fname_flux_crd', 'ds_flux_crd'),\n",
    "                    ('fname_cool_crd', 'ds_cool_crd'),\n",
    "                    ('fname_flux_wgt', 'ds_flux_wgt'),\n",
    "                    ('fname_cool_wgt', 'ds_cool_wgt')]\n",
    "    \n",
    "    d = lblnew_setup(param)\n",
    "    dir_fortran = pipe_lblnew.get_dir_case(param, setup=d['setup'])\n",
    "    \n",
    "    data_dict = {}\n",
    "    for fname, dsname in fname_dsname:\n",
    "        fpath = os.path.join(dir_fortran, d[fname])\n",
    "        data_dict[dsname] = load_output_file(fpath)\n",
    "    return data_dict\n",
    "    \n",
    "\n",
    "    \n",
    "    "
   ]
  },
  {
   "cell_type": "code",
   "execution_count": 5,
   "metadata": {
    "collapsed": true
   },
   "outputs": [],
   "source": [
    "d = load_lblnew_data(PARAM_LBLNEW)\n",
    "\n",
    "DS_FLUX_CRD = d['ds_flux_crd']\n",
    "DS_COOL_CRD = d['ds_cool_crd']\n",
    "DS_FLUX_WGT = d['ds_flux_wgt']\n",
    "DS_COOL_WGT = d['ds_cool_wgt']"
   ]
  },
  {
   "cell_type": "code",
   "execution_count": 6,
   "metadata": {
    "collapsed": true
   },
   "outputs": [],
   "source": [
    "DIR_FORTRAN = pipe_cliradlw.get_fortran_dir(PARAM, \n",
    "                                            setup=setup_cliradlw)\n",
    "\n",
    "PATH_FLUX = os.path.join(DIR_FORTRAN, 'output_flux.dat')\n",
    "PATH_COOL = os.path.join(DIR_FORTRAN, 'output_coolr.dat')\n",
    "\n",
    "DS_FLUX = load_output_file(PATH_FLUX)\n",
    "DS_COOL = load_output_file(PATH_COOL)"
   ]
  },
  {
   "cell_type": "code",
   "execution_count": 7,
   "metadata": {
    "collapsed": true
   },
   "outputs": [
    {
     "data": {
      "text/html": [
       "\n",
       "    <div class=\"bk-root\">\n",
       "        <a href=\"https://bokeh.pydata.org\" target=\"_blank\" class=\"bk-logo bk-logo-small bk-logo-notebook\"></a>\n",
       "        <span id=\"e6b51a52-af8f-4595-a127-716292b362e4\">Loading BokehJS ...</span>\n",
       "    </div>"
      ]
     },
     "metadata": {},
     "output_type": "display_data"
    },
    {
     "data": {
      "application/javascript": [
       "\n",
       "(function(root) {\n",
       "  function now() {\n",
       "    return new Date();\n",
       "  }\n",
       "\n",
       "  var force = true;\n",
       "\n",
       "  if (typeof (root._bokeh_onload_callbacks) === \"undefined\" || force === true) {\n",
       "    root._bokeh_onload_callbacks = [];\n",
       "    root._bokeh_is_loading = undefined;\n",
       "  }\n",
       "\n",
       "  var JS_MIME_TYPE = 'application/javascript';\n",
       "  var HTML_MIME_TYPE = 'text/html';\n",
       "  var EXEC_MIME_TYPE = 'application/vnd.bokehjs_exec.v0+json';\n",
       "  var CLASS_NAME = 'output_bokeh rendered_html';\n",
       "\n",
       "  /**\n",
       "   * Render data to the DOM node\n",
       "   */\n",
       "  function render(props, node) {\n",
       "    var script = document.createElement(\"script\");\n",
       "    node.appendChild(script);\n",
       "  }\n",
       "\n",
       "  /**\n",
       "   * Handle when an output is cleared or removed\n",
       "   */\n",
       "  function handleClearOutput(event, handle) {\n",
       "    var cell = handle.cell;\n",
       "\n",
       "    var id = cell.output_area._bokeh_element_id;\n",
       "    var server_id = cell.output_area._bokeh_server_id;\n",
       "    // Clean up Bokeh references\n",
       "    if (id !== undefined) {\n",
       "      Bokeh.index[id].model.document.clear();\n",
       "      delete Bokeh.index[id];\n",
       "    }\n",
       "\n",
       "    if (server_id !== undefined) {\n",
       "      // Clean up Bokeh references\n",
       "      var cmd = \"from bokeh.io.state import curstate; print(curstate().uuid_to_server['\" + server_id + \"'].get_sessions()[0].document.roots[0]._id)\";\n",
       "      cell.notebook.kernel.execute(cmd, {\n",
       "        iopub: {\n",
       "          output: function(msg) {\n",
       "            var element_id = msg.content.text.trim();\n",
       "            Bokeh.index[element_id].model.document.clear();\n",
       "            delete Bokeh.index[element_id];\n",
       "          }\n",
       "        }\n",
       "      });\n",
       "      // Destroy server and session\n",
       "      var cmd = \"import bokeh.io.notebook as ion; ion.destroy_server('\" + server_id + \"')\";\n",
       "      cell.notebook.kernel.execute(cmd);\n",
       "    }\n",
       "  }\n",
       "\n",
       "  /**\n",
       "   * Handle when a new output is added\n",
       "   */\n",
       "  function handleAddOutput(event, handle) {\n",
       "    var output_area = handle.output_area;\n",
       "    var output = handle.output;\n",
       "\n",
       "    // limit handleAddOutput to display_data with EXEC_MIME_TYPE content only\n",
       "    if ((output.output_type != \"display_data\") || (!output.data.hasOwnProperty(EXEC_MIME_TYPE))) {\n",
       "      return\n",
       "    }\n",
       "\n",
       "    var toinsert = output_area.element.find(\".\" + CLASS_NAME.split(' ')[0]);\n",
       "\n",
       "    if (output.metadata[EXEC_MIME_TYPE][\"id\"] !== undefined) {\n",
       "      toinsert[0].firstChild.textContent = output.data[JS_MIME_TYPE];\n",
       "      // store reference to embed id on output_area\n",
       "      output_area._bokeh_element_id = output.metadata[EXEC_MIME_TYPE][\"id\"];\n",
       "    }\n",
       "    if (output.metadata[EXEC_MIME_TYPE][\"server_id\"] !== undefined) {\n",
       "      var bk_div = document.createElement(\"div\");\n",
       "      bk_div.innerHTML = output.data[HTML_MIME_TYPE];\n",
       "      var script_attrs = bk_div.children[0].attributes;\n",
       "      for (var i = 0; i < script_attrs.length; i++) {\n",
       "        toinsert[0].firstChild.setAttribute(script_attrs[i].name, script_attrs[i].value);\n",
       "      }\n",
       "      // store reference to server id on output_area\n",
       "      output_area._bokeh_server_id = output.metadata[EXEC_MIME_TYPE][\"server_id\"];\n",
       "    }\n",
       "  }\n",
       "\n",
       "  function register_renderer(events, OutputArea) {\n",
       "\n",
       "    function append_mime(data, metadata, element) {\n",
       "      // create a DOM node to render to\n",
       "      var toinsert = this.create_output_subarea(\n",
       "        metadata,\n",
       "        CLASS_NAME,\n",
       "        EXEC_MIME_TYPE\n",
       "      );\n",
       "      this.keyboard_manager.register_events(toinsert);\n",
       "      // Render to node\n",
       "      var props = {data: data, metadata: metadata[EXEC_MIME_TYPE]};\n",
       "      render(props, toinsert[0]);\n",
       "      element.append(toinsert);\n",
       "      return toinsert\n",
       "    }\n",
       "\n",
       "    /* Handle when an output is cleared or removed */\n",
       "    events.on('clear_output.CodeCell', handleClearOutput);\n",
       "    events.on('delete.Cell', handleClearOutput);\n",
       "\n",
       "    /* Handle when a new output is added */\n",
       "    events.on('output_added.OutputArea', handleAddOutput);\n",
       "\n",
       "    /**\n",
       "     * Register the mime type and append_mime function with output_area\n",
       "     */\n",
       "    OutputArea.prototype.register_mime_type(EXEC_MIME_TYPE, append_mime, {\n",
       "      /* Is output safe? */\n",
       "      safe: true,\n",
       "      /* Index of renderer in `output_area.display_order` */\n",
       "      index: 0\n",
       "    });\n",
       "  }\n",
       "\n",
       "  // register the mime type if in Jupyter Notebook environment and previously unregistered\n",
       "  if (root.Jupyter !== undefined) {\n",
       "    var events = require('base/js/events');\n",
       "    var OutputArea = require('notebook/js/outputarea').OutputArea;\n",
       "\n",
       "    if (OutputArea.prototype.mime_types().indexOf(EXEC_MIME_TYPE) == -1) {\n",
       "      register_renderer(events, OutputArea);\n",
       "    }\n",
       "  }\n",
       "\n",
       "  \n",
       "  if (typeof (root._bokeh_timeout) === \"undefined\" || force === true) {\n",
       "    root._bokeh_timeout = Date.now() + 5000;\n",
       "    root._bokeh_failed_load = false;\n",
       "  }\n",
       "\n",
       "  var NB_LOAD_WARNING = {'data': {'text/html':\n",
       "     \"<div style='background-color: #fdd'>\\n\"+\n",
       "     \"<p>\\n\"+\n",
       "     \"BokehJS does not appear to have successfully loaded. If loading BokehJS from CDN, this \\n\"+\n",
       "     \"may be due to a slow or bad network connection. Possible fixes:\\n\"+\n",
       "     \"</p>\\n\"+\n",
       "     \"<ul>\\n\"+\n",
       "     \"<li>re-rerun `output_notebook()` to attempt to load from CDN again, or</li>\\n\"+\n",
       "     \"<li>use INLINE resources instead, as so:</li>\\n\"+\n",
       "     \"</ul>\\n\"+\n",
       "     \"<code>\\n\"+\n",
       "     \"from bokeh.resources import INLINE\\n\"+\n",
       "     \"output_notebook(resources=INLINE)\\n\"+\n",
       "     \"</code>\\n\"+\n",
       "     \"</div>\"}};\n",
       "\n",
       "  function display_loaded() {\n",
       "    var el = document.getElementById(\"e6b51a52-af8f-4595-a127-716292b362e4\");\n",
       "    if (el != null) {\n",
       "      el.textContent = \"BokehJS is loading...\";\n",
       "    }\n",
       "    if (root.Bokeh !== undefined) {\n",
       "      if (el != null) {\n",
       "        el.textContent = \"BokehJS \" + root.Bokeh.version + \" successfully loaded.\";\n",
       "      }\n",
       "    } else if (Date.now() < root._bokeh_timeout) {\n",
       "      setTimeout(display_loaded, 100)\n",
       "    }\n",
       "  }\n",
       "\n",
       "\n",
       "  function run_callbacks() {\n",
       "    try {\n",
       "      root._bokeh_onload_callbacks.forEach(function(callback) { callback() });\n",
       "    }\n",
       "    finally {\n",
       "      delete root._bokeh_onload_callbacks\n",
       "    }\n",
       "    console.info(\"Bokeh: all callbacks have finished\");\n",
       "  }\n",
       "\n",
       "  function load_libs(js_urls, callback) {\n",
       "    root._bokeh_onload_callbacks.push(callback);\n",
       "    if (root._bokeh_is_loading > 0) {\n",
       "      console.log(\"Bokeh: BokehJS is being loaded, scheduling callback at\", now());\n",
       "      return null;\n",
       "    }\n",
       "    if (js_urls == null || js_urls.length === 0) {\n",
       "      run_callbacks();\n",
       "      return null;\n",
       "    }\n",
       "    console.log(\"Bokeh: BokehJS not loaded, scheduling load and callback at\", now());\n",
       "    root._bokeh_is_loading = js_urls.length;\n",
       "    for (var i = 0; i < js_urls.length; i++) {\n",
       "      var url = js_urls[i];\n",
       "      var s = document.createElement('script');\n",
       "      s.src = url;\n",
       "      s.async = false;\n",
       "      s.onreadystatechange = s.onload = function() {\n",
       "        root._bokeh_is_loading--;\n",
       "        if (root._bokeh_is_loading === 0) {\n",
       "          console.log(\"Bokeh: all BokehJS libraries loaded\");\n",
       "          run_callbacks()\n",
       "        }\n",
       "      };\n",
       "      s.onerror = function() {\n",
       "        console.warn(\"failed to load library \" + url);\n",
       "      };\n",
       "      console.log(\"Bokeh: injecting script tag for BokehJS library: \", url);\n",
       "      document.getElementsByTagName(\"head\")[0].appendChild(s);\n",
       "    }\n",
       "  };var element = document.getElementById(\"e6b51a52-af8f-4595-a127-716292b362e4\");\n",
       "  if (element == null) {\n",
       "    console.log(\"Bokeh: ERROR: autoload.js configured with elementid 'e6b51a52-af8f-4595-a127-716292b362e4' but no matching script tag was found. \")\n",
       "    return false;\n",
       "  }\n",
       "\n",
       "  var js_urls = [\"https://cdn.pydata.org/bokeh/release/bokeh-0.12.14.min.js\", \"https://cdn.pydata.org/bokeh/release/bokeh-widgets-0.12.14.min.js\", \"https://cdn.pydata.org/bokeh/release/bokeh-tables-0.12.14.min.js\", \"https://cdn.pydata.org/bokeh/release/bokeh-gl-0.12.14.min.js\"];\n",
       "\n",
       "  var inline_js = [\n",
       "    function(Bokeh) {\n",
       "      Bokeh.set_log_level(\"info\");\n",
       "    },\n",
       "    \n",
       "    function(Bokeh) {\n",
       "      \n",
       "    },\n",
       "    function(Bokeh) {\n",
       "      console.log(\"Bokeh: injecting CSS: https://cdn.pydata.org/bokeh/release/bokeh-0.12.14.min.css\");\n",
       "      Bokeh.embed.inject_css(\"https://cdn.pydata.org/bokeh/release/bokeh-0.12.14.min.css\");\n",
       "      console.log(\"Bokeh: injecting CSS: https://cdn.pydata.org/bokeh/release/bokeh-widgets-0.12.14.min.css\");\n",
       "      Bokeh.embed.inject_css(\"https://cdn.pydata.org/bokeh/release/bokeh-widgets-0.12.14.min.css\");\n",
       "      console.log(\"Bokeh: injecting CSS: https://cdn.pydata.org/bokeh/release/bokeh-tables-0.12.14.min.css\");\n",
       "      Bokeh.embed.inject_css(\"https://cdn.pydata.org/bokeh/release/bokeh-tables-0.12.14.min.css\");\n",
       "    }\n",
       "  ];\n",
       "\n",
       "  function run_inline_js() {\n",
       "    \n",
       "    if ((root.Bokeh !== undefined) || (force === true)) {\n",
       "      for (var i = 0; i < inline_js.length; i++) {\n",
       "        inline_js[i].call(root, root.Bokeh);\n",
       "      }if (force === true) {\n",
       "        display_loaded();\n",
       "      }} else if (Date.now() < root._bokeh_timeout) {\n",
       "      setTimeout(run_inline_js, 100);\n",
       "    } else if (!root._bokeh_failed_load) {\n",
       "      console.log(\"Bokeh: BokehJS failed to load within specified timeout.\");\n",
       "      root._bokeh_failed_load = true;\n",
       "    } else if (force !== true) {\n",
       "      var cell = $(document.getElementById(\"e6b51a52-af8f-4595-a127-716292b362e4\")).parents('.cell').data().cell;\n",
       "      cell.output_area.append_execute_result(NB_LOAD_WARNING)\n",
       "    }\n",
       "\n",
       "  }\n",
       "\n",
       "  if (root._bokeh_is_loading === 0) {\n",
       "    console.log(\"Bokeh: BokehJS loaded, going straight to plotting\");\n",
       "    run_inline_js();\n",
       "  } else {\n",
       "    load_libs(js_urls, function() {\n",
       "      console.log(\"Bokeh: BokehJS plotting callback run at\", now());\n",
       "      run_inline_js();\n",
       "    });\n",
       "  }\n",
       "}(window));"
      ],
      "application/vnd.bokehjs_load.v0+json": "\n(function(root) {\n  function now() {\n    return new Date();\n  }\n\n  var force = true;\n\n  if (typeof (root._bokeh_onload_callbacks) === \"undefined\" || force === true) {\n    root._bokeh_onload_callbacks = [];\n    root._bokeh_is_loading = undefined;\n  }\n\n  \n\n  \n  if (typeof (root._bokeh_timeout) === \"undefined\" || force === true) {\n    root._bokeh_timeout = Date.now() + 5000;\n    root._bokeh_failed_load = false;\n  }\n\n  var NB_LOAD_WARNING = {'data': {'text/html':\n     \"<div style='background-color: #fdd'>\\n\"+\n     \"<p>\\n\"+\n     \"BokehJS does not appear to have successfully loaded. If loading BokehJS from CDN, this \\n\"+\n     \"may be due to a slow or bad network connection. Possible fixes:\\n\"+\n     \"</p>\\n\"+\n     \"<ul>\\n\"+\n     \"<li>re-rerun `output_notebook()` to attempt to load from CDN again, or</li>\\n\"+\n     \"<li>use INLINE resources instead, as so:</li>\\n\"+\n     \"</ul>\\n\"+\n     \"<code>\\n\"+\n     \"from bokeh.resources import INLINE\\n\"+\n     \"output_notebook(resources=INLINE)\\n\"+\n     \"</code>\\n\"+\n     \"</div>\"}};\n\n  function display_loaded() {\n    var el = document.getElementById(\"e6b51a52-af8f-4595-a127-716292b362e4\");\n    if (el != null) {\n      el.textContent = \"BokehJS is loading...\";\n    }\n    if (root.Bokeh !== undefined) {\n      if (el != null) {\n        el.textContent = \"BokehJS \" + root.Bokeh.version + \" successfully loaded.\";\n      }\n    } else if (Date.now() < root._bokeh_timeout) {\n      setTimeout(display_loaded, 100)\n    }\n  }\n\n\n  function run_callbacks() {\n    try {\n      root._bokeh_onload_callbacks.forEach(function(callback) { callback() });\n    }\n    finally {\n      delete root._bokeh_onload_callbacks\n    }\n    console.info(\"Bokeh: all callbacks have finished\");\n  }\n\n  function load_libs(js_urls, callback) {\n    root._bokeh_onload_callbacks.push(callback);\n    if (root._bokeh_is_loading > 0) {\n      console.log(\"Bokeh: BokehJS is being loaded, scheduling callback at\", now());\n      return null;\n    }\n    if (js_urls == null || js_urls.length === 0) {\n      run_callbacks();\n      return null;\n    }\n    console.log(\"Bokeh: BokehJS not loaded, scheduling load and callback at\", now());\n    root._bokeh_is_loading = js_urls.length;\n    for (var i = 0; i < js_urls.length; i++) {\n      var url = js_urls[i];\n      var s = document.createElement('script');\n      s.src = url;\n      s.async = false;\n      s.onreadystatechange = s.onload = function() {\n        root._bokeh_is_loading--;\n        if (root._bokeh_is_loading === 0) {\n          console.log(\"Bokeh: all BokehJS libraries loaded\");\n          run_callbacks()\n        }\n      };\n      s.onerror = function() {\n        console.warn(\"failed to load library \" + url);\n      };\n      console.log(\"Bokeh: injecting script tag for BokehJS library: \", url);\n      document.getElementsByTagName(\"head\")[0].appendChild(s);\n    }\n  };var element = document.getElementById(\"e6b51a52-af8f-4595-a127-716292b362e4\");\n  if (element == null) {\n    console.log(\"Bokeh: ERROR: autoload.js configured with elementid 'e6b51a52-af8f-4595-a127-716292b362e4' but no matching script tag was found. \")\n    return false;\n  }\n\n  var js_urls = [\"https://cdn.pydata.org/bokeh/release/bokeh-0.12.14.min.js\", \"https://cdn.pydata.org/bokeh/release/bokeh-widgets-0.12.14.min.js\", \"https://cdn.pydata.org/bokeh/release/bokeh-tables-0.12.14.min.js\", \"https://cdn.pydata.org/bokeh/release/bokeh-gl-0.12.14.min.js\"];\n\n  var inline_js = [\n    function(Bokeh) {\n      Bokeh.set_log_level(\"info\");\n    },\n    \n    function(Bokeh) {\n      \n    },\n    function(Bokeh) {\n      console.log(\"Bokeh: injecting CSS: https://cdn.pydata.org/bokeh/release/bokeh-0.12.14.min.css\");\n      Bokeh.embed.inject_css(\"https://cdn.pydata.org/bokeh/release/bokeh-0.12.14.min.css\");\n      console.log(\"Bokeh: injecting CSS: https://cdn.pydata.org/bokeh/release/bokeh-widgets-0.12.14.min.css\");\n      Bokeh.embed.inject_css(\"https://cdn.pydata.org/bokeh/release/bokeh-widgets-0.12.14.min.css\");\n      console.log(\"Bokeh: injecting CSS: https://cdn.pydata.org/bokeh/release/bokeh-tables-0.12.14.min.css\");\n      Bokeh.embed.inject_css(\"https://cdn.pydata.org/bokeh/release/bokeh-tables-0.12.14.min.css\");\n    }\n  ];\n\n  function run_inline_js() {\n    \n    if ((root.Bokeh !== undefined) || (force === true)) {\n      for (var i = 0; i < inline_js.length; i++) {\n        inline_js[i].call(root, root.Bokeh);\n      }if (force === true) {\n        display_loaded();\n      }} else if (Date.now() < root._bokeh_timeout) {\n      setTimeout(run_inline_js, 100);\n    } else if (!root._bokeh_failed_load) {\n      console.log(\"Bokeh: BokehJS failed to load within specified timeout.\");\n      root._bokeh_failed_load = true;\n    } else if (force !== true) {\n      var cell = $(document.getElementById(\"e6b51a52-af8f-4595-a127-716292b362e4\")).parents('.cell').data().cell;\n      cell.output_area.append_execute_result(NB_LOAD_WARNING)\n    }\n\n  }\n\n  if (root._bokeh_is_loading === 0) {\n    console.log(\"Bokeh: BokehJS loaded, going straight to plotting\");\n    run_inline_js();\n  } else {\n    load_libs(js_urls, function() {\n      console.log(\"Bokeh: BokehJS plotting callback run at\", now());\n      run_inline_js();\n    });\n  }\n}(window));"
     },
     "metadata": {},
     "output_type": "display_data"
    }
   ],
   "source": [
    "output_notebook()"
   ]
  },
  {
   "cell_type": "code",
   "execution_count": 8,
   "metadata": {
    "collapsed": true
   },
   "outputs": [],
   "source": [
    "def fmt_cool(ds_in):\n",
    "    ds = ds_in.copy(deep=True)\n",
    "    if 'igg' in ds.dims:\n",
    "        ds = ds.sel(igg=1)\n",
    "\n",
    "    if 'g' in ds.dims:\n",
    "        ds = ds.sum('g')\n",
    "            \n",
    "    if 'band' in ds.dims:\n",
    "        try:\n",
    "            ds = ds.squeeze('band')\n",
    "        except ValueError:\n",
    "            ds = ds.sum('band')\n",
    "                \n",
    "    return ds['coolrg']\n",
    "\n",
    "\n",
    "def pltdata_cooling_1(ds_cool=None,\n",
    "                      ds_cool_crd=None, ds_cool_wgt=None):\n",
    "    \n",
    "\n",
    "\n",
    "    colors = all_palettes['Set1'][4]\n",
    "    data = [{'label': 'CLIRAD `coolr_bands`',\n",
    "             'srs': fmt_cool(ds_cool),\n",
    "             'line_dash': 'dashed', 'line_width': 5,\n",
    "             'color': colors[0], 'alpha': .6},\n",
    "            {'label': 'CRD',\n",
    "             'srs': fmt_cool(ds_cool_crd),\n",
    "             'line_dash': 'solid', 'line_width': 1.5,\n",
    "             'marker': 'circle', 'marker_size': 5,\n",
    "             'color': colors[2], 'alpha': 1,},\n",
    "            {'label': 'WGT igg=10 wgt_flux=2',\n",
    "             'srs': fmt_cool(ds_cool_wgt),\n",
    "             'line_dash': 'solid', 'line_width': 3,\n",
    "             'marker': 'square', 'marker_size': 5,\n",
    "             'color': colors[3], 'alpha': .6}]\n",
    "    return data\n",
    "\n",
    "\n",
    "def nice_xlims(pltdata=None, prange=None):\n",
    "    \n",
    "    def get_slice(srs):\n",
    "        return srs.sel(pressure=slice(*prange))\n",
    "    \n",
    "    srss = [d['srs'] for d in pltdata]\n",
    "    vmin = min([get_slice(srs).min() for srs in srss])\n",
    "    vmax = max([get_slice(srs).max() for srs in srss])\n",
    "    dv = (vmax - vmin) * .01\n",
    "    return float(vmin - dv), float(vmax + dv)\n",
    "    \n",
    "\n",
    "def plt_cooling_bokeh(pltdata=None):\n",
    "    '''\n",
    "    Plot a list of cooling rate profiles using bokeh.\n",
    "    '''\n",
    "    ymin = 1e-2 \n",
    "    ymax = 1020 \n",
    "        \n",
    "    p1 = figure(title=\"Linear pressure scale\", \n",
    "                plot_width=400)        \n",
    "    xmin, xmax = nice_xlims(pltdata, prange=(50, 1050))\n",
    "    for d in pltdata:\n",
    "        if 'marker' in d:\n",
    "            getattr(p1, d['marker'])(d['srs'].values, \n",
    "                    d['srs'].coords['pressure'].values,\n",
    "                    color=d['color'], alpha=.7)\n",
    "        p1.line(d['srs'].values, \n",
    "                d['srs'].coords['pressure'].values,\n",
    "                color=d['color'], alpha=d['alpha'], \n",
    "                line_width=d['line_width'], line_dash=d['line_dash'])\n",
    "    \n",
    "    p1.y_range = Range1d(ymax, ymin)\n",
    "    p1.yaxis.axis_label = 'pressure [mb]'   \n",
    "    p1.x_range = Range1d(xmin, xmax)\n",
    "    p1.xaxis.axis_label = 'cooling rate [K/day]'\n",
    "            \n",
    "    p2 = figure(title='Log pressure scale', y_axis_type='log',\n",
    "                plot_width=560)\n",
    "    xmin, xmax = nice_xlims(pltdata, prange=(.01, 200))\n",
    "    \n",
    "    rs = []\n",
    "    for d in pltdata:\n",
    "        rd = []\n",
    "        if 'marker' in d:\n",
    "            r_mark = getattr(p2, d['marker'])(d['srs'].values, \n",
    "                        d['srs'].coords['pressure'].values,\n",
    "                        color=d['color'], alpha=.7)\n",
    "            rd.append(r_mark)\n",
    "        r_line = p2.line(d['srs'].values, \n",
    "                    d['srs'].coords['pressure'].values,\n",
    "                    color=d['color'], alpha=d['alpha'], \n",
    "                    line_width=d['line_width'], line_dash=d['line_dash'])\n",
    "        rd.append(r_line)\n",
    "      \n",
    "        rs.append(rd)\n",
    "        \n",
    "    p2.y_range = Range1d(ymax, ymin)  \n",
    "    p2.yaxis.axis_label = 'pressure [mb]'\n",
    "    \n",
    "    p2.x_range = Range1d(xmin, xmax)\n",
    "    p2.xaxis.axis_label = 'cooling rate [K/day]'\n",
    "    \n",
    "    items = [(d['label'], r) for r, d in zip(rs, pltdata)]\n",
    "    legend = Legend(items=items, location=(10, -30))\n",
    "    legend.label_text_font_size = '8pt'\n",
    "    \n",
    "    p2.add_layout(legend, 'right')  \n",
    "    \n",
    "    show(gridplot(p1, p2, ncols=2, plot_height=500))\n",
    "    \n",
    "\n",
    "def script_plt_cooling():\n",
    "    pltdata = pltdata_cooling_1(\n",
    "        ds_cool=DS_COOL,\n",
    "        ds_cool_crd=DS_COOL_CRD,\n",
    "        ds_cool_wgt=DS_COOL_WGT)\n",
    "    plt_cooling_bokeh(pltdata=pltdata)\n",
    "    print('''FIGURE. Cooling rate profiles.''')"
   ]
  },
  {
   "cell_type": "code",
   "execution_count": 9,
   "metadata": {
    "collapsed": true
   },
   "outputs": [],
   "source": [
    "def fmt_flux(ds_in):\n",
    "    ds = ds_in.copy(deep=True)\n",
    "    \n",
    "    for l in ('level', 'layer'):\n",
    "        if l in ds.data_vars:\n",
    "            if len(ds[l].dims) > 1:\n",
    "                surface = {d: 0 for d in ds.dims if d != 'pressure'}\n",
    "                coord_level = ds[l][surface]\n",
    "                ds.coords[l] = ('pressure', coord_level)\n",
    "            else:\n",
    "                ds.coords[l] = ('pressure', ds[l])\n",
    "        \n",
    "    ds = ds.isel(pressure=[0, 23, -1])\n",
    "        \n",
    "    if 'igg' in ds.dims:\n",
    "        ds = ds.sel(igg=[1])\n",
    "        ds = ds.squeeze('igg').drop('igg')\n",
    "    \n",
    "    if 'g' in ds.dims:\n",
    "        ds = ds.sum('g')\n",
    "            \n",
    "    if 'band' in ds.dims:\n",
    "        try:\n",
    "            ds = ds.squeeze('band').drop('band')\n",
    "        except ValueError:\n",
    "            ds = ds.sum('band')\n",
    "                \n",
    "    df = ds.to_dataframe()\n",
    "    df = df.set_index('level', append=True)               \n",
    "    return df\n",
    "\n",
    "\n",
    "def tbdata_flux(ds_flux=None, ds_flux_crd=None, ds_flux_wgt=None):\n",
    "    ilevels = [0, 23, -1]\n",
    "            \n",
    "    benchmark = {'label': 'WGT igg=10 wgt_flux=1',\n",
    "                 'df': fmt_flux(ds_flux_wgt)}\n",
    "    \n",
    "    tbs = [{'label': 'CRD',\n",
    "            'df': fmt_flux(ds_flux_crd)},\n",
    "           {'label': 'CLIRAD',\n",
    "            'df': fmt_flux(ds_flux)}]\n",
    "    \n",
    "    data = {'benchmark': benchmark, 'others': tbs}\n",
    "    return data\n",
    "\n",
    "\n",
    "def tb_flux(tbdata=None):\n",
    "    benchmark = tbdata['benchmark']\n",
    "    others = tbdata['others']\n",
    "    \n",
    "    def show_tb(d=None):\n",
    "        display.display(d['df'])\n",
    "        print('Table.', 'Fluxes.', d['label'])\n",
    "        \n",
    "    def show_tbdiff(d0=None, d=None):\n",
    "        df = d['df']\n",
    "        df.index = d0['df'].index\n",
    "        display.display(df - d0['df'])\n",
    "        print('Table.', 'Fluxes.', \n",
    "              '({}) - ({})'.format(d['label'], d0['label']))\n",
    "        \n",
    "    show_tb(benchmark)\n",
    "    for d in others:\n",
    "        show_tb(d)\n",
    "        \n",
    "    for d in others:\n",
    "        show_tbdiff(d=d, d0=benchmark)\n",
    "        \n",
    "        \n",
    "def script_tb_flux():\n",
    "    data = tbdata_flux(ds_flux=DS_FLUX,\n",
    "                       ds_flux_crd=DS_FLUX_CRD,\n",
    "                       ds_flux_wgt=DS_FLUX_WGT)\n",
    "    tb_flux(tbdata=data)"
   ]
  },
  {
   "cell_type": "code",
   "execution_count": 10,
   "metadata": {
    "collapsed": true
   },
   "outputs": [],
   "source": [
    "def band_map():\n",
    "    '''\n",
    "    Maps spectral bands in lblnew to spectral bands in clirad.\n",
    "    '''\n",
    "    lblnew2clirad = {'1': '1',\n",
    "            '2': '2',\n",
    "            '3a': '3',\n",
    "            '3b': '4',\n",
    "            '3c': '5',\n",
    "            '4': '6', \n",
    "            '5': '7',\n",
    "            '6': '8',\n",
    "            '7': '9', \n",
    "            '8': '10',\n",
    "            '9': '11'}\n",
    "    \n",
    "    clirad2lblnew = {clirad: lblnew \n",
    "                     for lblnew, clirad in lblnew2clirad.items()}\n",
    "    return clirad2lblnew\n",
    "\n",
    "\n",
    "def gasbands():\n",
    "    bmap = band_map()\n",
    "    gases = list(PARAM['molecule'].keys())\n",
    "    \n",
    "    bands = [bmap[str(b)] for b in PARAM['band']]\n",
    "    return list(itertools.product(gases, bands))\n",
    "\n",
    "\n",
    "def print_bestfit_params():\n",
    "    print('Best-fit values for each (gas, band)')\n",
    "    print('------------------------------------')\n",
    "    for gas, band in gasbands():\n",
    "        print('o {} band{}'.format(gas, band))\n",
    "        param = bestfits.kdist_params(molecule=gas, band=band)\n",
    "        for name, value in sorted(param.items()):\n",
    "            print(2 * ' ' + '{} = {}'.format(name, value))\n",
    "\n",
    "        \n",
    "def print_input_param():        \n",
    "    for name, value in PARAM.items():\n",
    "        print('{} = {}'.format(name, value))\n",
    "        \n",
    "        \n",
    "def print_lblnew_param():\n",
    "    for name, value in sorted(PARAM_LBLNEW.items()):\n",
    "        print('{} = {}'.format(name, value))\n"
   ]
  },
  {
   "cell_type": "code",
   "execution_count": 11,
   "metadata": {
    "collapsed": true,
    "scrolled": false
   },
   "outputs": [],
   "source": [
    "def show_html(s):\n",
    "    display.display(display.HTML(s))\n",
    "\n",
    "    \n",
    "def show_markdown(s):\n",
    "    display.display(display.Markdown(s))\n",
    "\n",
    "    \n",
    "def script():\n",
    "    \n",
    "    title = '### CLIRAD-LW'\n",
    "    s_input = 'Input Parameters'\n",
    "    s_lblnew_param = 'LBLNEW case compaired against'\n",
    "    s_bestfits = 'Best-fit Parameters'\n",
    "    s_plt_cooling = 'Cooling Rate Profiles'\n",
    "    s_tb_flux = 'Flux Comparison'\n",
    "    \n",
    "    # title\n",
    "    show_markdown('### CLIRAD-LW')\n",
    "    \n",
    "    # TOC\n",
    "    show_markdown('### Table of Contents')\n",
    "    show_html(climahtml.getHTML_hrefanchor(s_input))\n",
    "    show_html(climahtml.getHTML_hrefanchor(s_lblnew_param))\n",
    "    show_html(climahtml.getHTML_hrefanchor(s_plt_cooling))\n",
    "    show_html(climahtml.getHTML_hrefanchor(s_tb_flux))\n",
    "    show_html(climahtml.getHTML_hrefanchor(s_bestfits))\n",
    "    \n",
    "    # Input parameters\n",
    "    show_html(climahtml.getHTML_idanchor(s_input))\n",
    "    show_markdown(climahtml.getMarkdown_sectitle(s_input))\n",
    "    print_input_param()\n",
    "    \n",
    "    # LBLNEW parameters \n",
    "    show_html(climahtml.getHTML_idanchor(s_lblnew_param))\n",
    "    show_markdown(climahtml.getMarkdown_sectitle(s_lblnew_param))\n",
    "    print_lblnew_param()\n",
    "    \n",
    "    # Cooling rate profiles\n",
    "    show_html(climahtml.getHTML_idanchor(s_plt_cooling))\n",
    "    show_markdown(climahtml.getMarkdown_sectitle(s_plt_cooling))\n",
    "    script_plt_cooling()\n",
    "    \n",
    "    # Flux comparison\n",
    "    show_html(climahtml.getHTML_idanchor(s_tb_flux))\n",
    "    show_markdown(climahtml.getMarkdown_sectitle(s_tb_flux))\n",
    "    script_tb_flux()\n",
    "    \n",
    "    # Best-fit values\n",
    "    show_html(climahtml.getHTML_idanchor(s_bestfits))\n",
    "    show_markdown(climahtml.getMarkdown_sectitle(s_bestfits))\n",
    "    print_bestfit_params()\n",
    "   \n",
    "    "
   ]
  },
  {
   "cell_type": "code",
   "execution_count": 12,
   "metadata": {
    "collapsed": true,
    "scrolled": false
   },
   "outputs": [
    {
     "data": {
      "text/markdown": [
       "### CLIRAD-LW"
      ],
      "text/plain": [
       "<IPython.core.display.Markdown object>"
      ]
     },
     "metadata": {},
     "output_type": "display_data"
    },
    {
     "data": {
      "text/markdown": [
       "### Table of Contents"
      ],
      "text/plain": [
       "<IPython.core.display.Markdown object>"
      ]
     },
     "metadata": {},
     "output_type": "display_data"
    },
    {
     "data": {
      "text/html": [
       "<a href=\"#Input_Parameters\">Input Parameters</a>"
      ],
      "text/plain": [
       "<IPython.core.display.HTML object>"
      ]
     },
     "metadata": {},
     "output_type": "display_data"
    },
    {
     "data": {
      "text/html": [
       "<a href=\"#LBLNEW_case_compaired_against\">LBLNEW case compaired against</a>"
      ],
      "text/plain": [
       "<IPython.core.display.HTML object>"
      ]
     },
     "metadata": {},
     "output_type": "display_data"
    },
    {
     "data": {
      "text/html": [
       "<a href=\"#Cooling_Rate_Profiles\">Cooling Rate Profiles</a>"
      ],
      "text/plain": [
       "<IPython.core.display.HTML object>"
      ]
     },
     "metadata": {},
     "output_type": "display_data"
    },
    {
     "data": {
      "text/html": [
       "<a href=\"#Flux_Comparison\">Flux Comparison</a>"
      ],
      "text/plain": [
       "<IPython.core.display.HTML object>"
      ]
     },
     "metadata": {},
     "output_type": "display_data"
    },
    {
     "data": {
      "text/html": [
       "<a href=\"#Best-fit_Parameters\">Best-fit Parameters</a>"
      ],
      "text/plain": [
       "<IPython.core.display.HTML object>"
      ]
     },
     "metadata": {},
     "output_type": "display_data"
    },
    {
     "data": {
      "text/html": [
       "<a id=\"Input_Parameters\"></a>"
      ],
      "text/plain": [
       "<IPython.core.display.HTML object>"
      ]
     },
     "metadata": {},
     "output_type": "display_data"
    },
    {
     "data": {
      "text/markdown": [
       "# Input Parameters"
      ],
      "text/plain": [
       "<IPython.core.display.Markdown object>"
      ]
     },
     "metadata": {},
     "output_type": "display_data"
    },
    {
     "name": "stdout",
     "output_type": "stream",
     "text": [
      "atmpro = saw\n",
      "band = [3]\n",
      "commitnumber = fc273c9\n",
      "molecule = {'co2': 0.0004, 'h2o': 'atmpro', 'n2o': 3.2e-07}\n",
      "tsfc = 257\n"
     ]
    },
    {
     "data": {
      "text/html": [
       "<a id=\"LBLNEW_case_compaired_against\"></a>"
      ],
      "text/plain": [
       "<IPython.core.display.HTML object>"
      ]
     },
     "metadata": {},
     "output_type": "display_data"
    },
    {
     "data": {
      "text/markdown": [
       "# LBLNEW case compaired against"
      ],
      "text/plain": [
       "<IPython.core.display.Markdown object>"
      ]
     },
     "metadata": {},
     "output_type": "display_data"
    },
    {
     "name": "stdout",
     "output_type": "stream",
     "text": [
      "atmpro = saw\n",
      "band = 3a\n",
      "commitnumber = 5014a19\n",
      "dv = 0.01\n",
      "molecule = {'co2': 0.0004, 'h2o': 'atmpro', 'n2o': 3.2e-07}\n",
      "nv = 100\n",
      "tsfc = 257\n"
     ]
    },
    {
     "data": {
      "text/html": [
       "<a id=\"Cooling_Rate_Profiles\"></a>"
      ],
      "text/plain": [
       "<IPython.core.display.HTML object>"
      ]
     },
     "metadata": {},
     "output_type": "display_data"
    },
    {
     "data": {
      "text/markdown": [
       "# Cooling Rate Profiles"
      ],
      "text/plain": [
       "<IPython.core.display.Markdown object>"
      ]
     },
     "metadata": {},
     "output_type": "display_data"
    },
    {
     "data": {
      "text/html": [
       "\n",
       "<div class=\"bk-root\">\n",
       "    <div class=\"bk-plotdiv\" id=\"d746c22b-4457-4554-b1e8-25073664bbdc\"></div>\n",
       "</div>"
      ]
     },
     "metadata": {},
     "output_type": "display_data"
    },
    {
     "data": {
      "application/javascript": [
       "(function(root) {\n",
       "  function embed_document(root) {\n",
       "    \n",
       "  var docs_json = {\"2c697a22-3696-4d0c-b7ed-538fcdba72d3\":{\"roots\":{\"references\":[{\"attributes\":{\"callback\":null,\"column_names\":[\"x\",\"y\"],\"data\":{\"x\":{\"__ndarray__\":\"3ikVO7fczT88icbiUGLQP89XXizrQtU/fxCP5dl82j/QtbPYu/nfPyqck80LxuI/KPud3KWD5T/xBZi/YxToP8UqlDsiVeo/EDkBdgMf7D80fPJNJlDtP/e7JIxu1u0/VfKYHqC97T8qF89F6IzsP33+/yh/Eeo/ABrGWeh15z8nBP4yEJLlP4Fo3ljtbeQ/iDQB8YDz4z8sILyPBiTkP7JI8uAXTOU/m7nyH/Pd4z8Uu2wqQfXeP4BoYpGRudc/yPN0CeKX0j+nN2k7IrbMP+z/VpFVOsU/L1jktgHIvz+qWtrCVn26PzUNeANGQ7c/6naglU4AtD+CbrOhMGKwP9xkhFLcOq0/zKrIG3LJrT/5JOJzSOatP0d2ljp3pK0/U6VlWFAOrT+Udd8BA+CqP7NPpFTyTKg/P0GhH78Xpj+U7h4I3+ejP4mZFTsua6E/Dg8sCmUonT/vY5/cwxmWP+k6sMNou4k/ADc/icUrhT9e53ST9/WUP6D2ctfGY6E/WIkwgBsiqT/61NzKRQ6xPzAcnS3/pbU/2xZlNsgkuj/iiWpb3ma+PzkvZxlWL8E/jM5kxZEDwz/YMFyAKqzEP3g/VSLcJsY/WxAltatrxz8A0cQiI3PIP+pgu4PxNsk/KEqd29+0yT97Ac1SePHJP5TPG7zp9ck/Fvr97l/RyT9vpjrLyZfJP2d9yjFZXMk/yg8BLJcyyT8tjD4wkRzJPy5eRakx38g/YdWsddoByD/IJUwgPhPGP2YOzWU4WMM/LbbmGqiEwD+Al758V6m7P17XoS32/bU/\",\"dtype\":\"float64\",\"shape\":[75]},\"y\":{\"__ndarray__\":\"GhExyth1ND/Sv8nbtpRIP2vylNV0PVE/aTum7souWD/At0SJ8fVgPw3Iuahxymc/MSNhhJWvcD/bTfBN02d3P2zb5nxnaoA/CD5h5MAGhz8NmeH1TyaQP+zrCsc9p5Y/LbKd76fGnz/bLW5ISEmmPww9YvTcQq8/JV2OstnstT8Er5Y7M8G+P0c+r3jqkcU/5h99k6ZBzj88bCIzFzjVP4enV8oyxN0//yH99nXg5D8qOpLLf0jtP5kqGJXUifQ/c9cS8kHP/D+/DpwzojQEQIEmwoanVwxA4lgXt9HgE0BSSZ2AJuIbQAMJih9jjiNA5q4l5INuK0AwTKYKRj0zQNv5fmq8/DpAaCJseHrtQkB/+zpwzoxKQM3MzMzMeFJAZmZmZmZqWEAAAAAAAFxeQM3MzMzMJmJAmpmZmZkfZUBmZmZmZhhoQDMzMzMzEWtAAAAAAAAKbkBmZmZmZoFwQM3MzMzM/XFAMzMzMzN6c0CamZmZmfZ0QAAAAAAAc3ZAZmZmZmbvd0DNzMzMzGt5QDMzMzMz6HpAmpmZmZlkfEAAAAAAAOF9QGZmZmZmXX9AZmZmZuZsgECamZmZGSuBQM3MzMxM6YFAAAAAAICngkAzMzMzs2WDQGZmZmbmI4RAmpmZmRnihEDNzMzMTKCFQAAAAACAXoZAMzMzM7Mch0BmZmZm5tqHQJqZmZkZmYhAzczMzExXiUAAAAAAgBWKQDMzMzOz04pAZmZmZuaRi0CamZmZGVCMQM3MzMxMDo1AAAAAAIDMjUAzMzMzs4qOQGZmZmbmSI9A\",\"dtype\":\"float64\",\"shape\":[75]}}},\"id\":\"ec042af5-d920-441d-a7de-79c11bce4ca7\",\"type\":\"ColumnDataSource\"},{\"attributes\":{\"line_alpha\":0.6,\"line_color\":\"#e41a1c\",\"line_dash\":[6],\"line_width\":5,\"x\":{\"field\":\"x\"},\"y\":{\"field\":\"y\"}},\"id\":\"b1db04a2-d287-460d-a7e4-1c91eca7d57e\",\"type\":\"Line\"},{\"attributes\":{\"fill_alpha\":{\"value\":0.7},\"fill_color\":{\"value\":\"#4daf4a\"},\"line_alpha\":{\"value\":0.7},\"line_color\":{\"value\":\"#4daf4a\"},\"x\":{\"field\":\"x\"},\"y\":{\"field\":\"y\"}},\"id\":\"bad7b450-2a70-4cb4-aa91-e64c699b5ba1\",\"type\":\"Circle\"},{\"attributes\":{\"source\":{\"id\":\"56a1ef43-fd0a-4478-8e5e-7c40ed3db1c0\",\"type\":\"ColumnDataSource\"}},\"id\":\"7c3849bf-4dee-4a88-8e69-f7313ea8af33\",\"type\":\"CDSView\"},{\"attributes\":{\"tools\":[{\"id\":\"27da8c77-29a3-4e76-ae5f-4aec9b201fe7\",\"type\":\"PanTool\"},{\"id\":\"78271318-268a-4165-92ba-4813257e2bb0\",\"type\":\"WheelZoomTool\"},{\"id\":\"ee6d938d-351c-4ed5-a2c9-def68778fb76\",\"type\":\"BoxZoomTool\"},{\"id\":\"9891a9c8-3690-4f2e-9bb7-8c742b3a5688\",\"type\":\"SaveTool\"},{\"id\":\"b3177279-8dad-4651-b5ed-572a4a3ab3ad\",\"type\":\"ResetTool\"},{\"id\":\"5ceab648-8a35-4d1e-8a8f-36f49cf0d430\",\"type\":\"HelpTool\"},{\"id\":\"e09a49bc-77b7-4dc4-8eb7-08a6cba2d2ce\",\"type\":\"PanTool\"},{\"id\":\"4f339a20-4132-4405-b951-c8c1ee15fa46\",\"type\":\"WheelZoomTool\"},{\"id\":\"cf84480c-b2c1-402c-bc78-2bf2206ed520\",\"type\":\"BoxZoomTool\"},{\"id\":\"d26585b2-5550-40e6-8c06-38456d47f48f\",\"type\":\"SaveTool\"},{\"id\":\"77627dde-98d2-4329-896e-378bf9cb4490\",\"type\":\"ResetTool\"},{\"id\":\"ab1d38c4-e2d1-4549-b075-994bf9351449\",\"type\":\"HelpTool\"}]},\"id\":\"302d4f61-df00-464e-893d-214fbbaf2ae2\",\"type\":\"ProxyToolbar\"},{\"attributes\":{\"line_alpha\":0.1,\"line_color\":\"#1f77b4\",\"line_dash\":[6],\"line_width\":5,\"x\":{\"field\":\"x\"},\"y\":{\"field\":\"y\"}},\"id\":\"ddf63c79-9b72-41ce-a04e-8254606eb5da\",\"type\":\"Line\"},{\"attributes\":{\"fill_alpha\":{\"value\":0.1},\"fill_color\":{\"value\":\"#1f77b4\"},\"line_alpha\":{\"value\":0.1},\"line_color\":{\"value\":\"#1f77b4\"},\"x\":{\"field\":\"x\"},\"y\":{\"field\":\"y\"}},\"id\":\"049cd2d5-76e6-41e0-8de0-3f3e8732ea4f\",\"type\":\"Circle\"},{\"attributes\":{\"callback\":null,\"column_names\":[\"x\",\"y\"],\"data\":{\"x\":{\"__ndarray__\":\"3ikVO7fczT88icbiUGLQP89XXizrQtU/fxCP5dl82j/QtbPYu/nfPyqck80LxuI/KPud3KWD5T/xBZi/YxToP8UqlDsiVeo/EDkBdgMf7D80fPJNJlDtP/e7JIxu1u0/VfKYHqC97T8qF89F6IzsP33+/yh/Eeo/ABrGWeh15z8nBP4yEJLlP4Fo3ljtbeQ/iDQB8YDz4z8sILyPBiTkP7JI8uAXTOU/m7nyH/Pd4z8Uu2wqQfXeP4BoYpGRudc/yPN0CeKX0j+nN2k7IrbMP+z/VpFVOsU/L1jktgHIvz+qWtrCVn26PzUNeANGQ7c/6naglU4AtD+CbrOhMGKwP9xkhFLcOq0/zKrIG3LJrT/5JOJzSOatP0d2ljp3pK0/U6VlWFAOrT+Udd8BA+CqP7NPpFTyTKg/P0GhH78Xpj+U7h4I3+ejP4mZFTsua6E/Dg8sCmUonT/vY5/cwxmWP+k6sMNou4k/ADc/icUrhT9e53ST9/WUP6D2ctfGY6E/WIkwgBsiqT/61NzKRQ6xPzAcnS3/pbU/2xZlNsgkuj/iiWpb3ma+PzkvZxlWL8E/jM5kxZEDwz/YMFyAKqzEP3g/VSLcJsY/WxAltatrxz8A0cQiI3PIP+pgu4PxNsk/KEqd29+0yT97Ac1SePHJP5TPG7zp9ck/Fvr97l/RyT9vpjrLyZfJP2d9yjFZXMk/yg8BLJcyyT8tjD4wkRzJPy5eRakx38g/YdWsddoByD/IJUwgPhPGP2YOzWU4WMM/LbbmGqiEwD+Al758V6m7P17XoS32/bU/\",\"dtype\":\"float64\",\"shape\":[75]},\"y\":{\"__ndarray__\":\"GhExyth1ND/Sv8nbtpRIP2vylNV0PVE/aTum7souWD/At0SJ8fVgPw3Iuahxymc/MSNhhJWvcD/bTfBN02d3P2zb5nxnaoA/CD5h5MAGhz8NmeH1TyaQP+zrCsc9p5Y/LbKd76fGnz/bLW5ISEmmPww9YvTcQq8/JV2OstnstT8Er5Y7M8G+P0c+r3jqkcU/5h99k6ZBzj88bCIzFzjVP4enV8oyxN0//yH99nXg5D8qOpLLf0jtP5kqGJXUifQ/c9cS8kHP/D+/DpwzojQEQIEmwoanVwxA4lgXt9HgE0BSSZ2AJuIbQAMJih9jjiNA5q4l5INuK0AwTKYKRj0zQNv5fmq8/DpAaCJseHrtQkB/+zpwzoxKQM3MzMzMeFJAZmZmZmZqWEAAAAAAAFxeQM3MzMzMJmJAmpmZmZkfZUBmZmZmZhhoQDMzMzMzEWtAAAAAAAAKbkBmZmZmZoFwQM3MzMzM/XFAMzMzMzN6c0CamZmZmfZ0QAAAAAAAc3ZAZmZmZmbvd0DNzMzMzGt5QDMzMzMz6HpAmpmZmZlkfEAAAAAAAOF9QGZmZmZmXX9AZmZmZuZsgECamZmZGSuBQM3MzMxM6YFAAAAAAICngkAzMzMzs2WDQGZmZmbmI4RAmpmZmRnihEDNzMzMTKCFQAAAAACAXoZAMzMzM7Mch0BmZmZm5tqHQJqZmZkZmYhAzczMzExXiUAAAAAAgBWKQDMzMzOz04pAZmZmZuaRi0CamZmZGVCMQM3MzMxMDo1AAAAAAIDMjUAzMzMzs4qOQGZmZmbmSI9A\",\"dtype\":\"float64\",\"shape\":[75]}}},\"id\":\"56a1ef43-fd0a-4478-8e5e-7c40ed3db1c0\",\"type\":\"ColumnDataSource\"},{\"attributes\":{\"children\":[{\"id\":\"4325cd68-a021-4532-8015-e3f595e5191f\",\"type\":\"Row\"}]},\"id\":\"830882e6-5eed-45c9-a3bd-71cba68fbd9a\",\"type\":\"Column\"},{\"attributes\":{\"source\":{\"id\":\"35ddd17a-2a82-4abf-bbed-ad9f815897b1\",\"type\":\"ColumnDataSource\"}},\"id\":\"4d7455ed-d6e9-4198-9531-345bba99a8e8\",\"type\":\"CDSView\"},{\"attributes\":{},\"id\":\"4f339a20-4132-4405-b951-c8c1ee15fa46\",\"type\":\"WheelZoomTool\"},{\"attributes\":{\"line_alpha\":0.1,\"line_color\":\"#1f77b4\",\"line_width\":1.5,\"x\":{\"field\":\"x\"},\"y\":{\"field\":\"y\"}},\"id\":\"93d50a6d-9203-4822-aa8a-5e8bf3fd79bb\",\"type\":\"Line\"},{\"attributes\":{\"callback\":null,\"column_names\":[\"x\",\"y\"],\"data\":{\"x\":{\"__ndarray__\":\"lAUCU7yAxz/MLUpcCdXKP57eOVKFmNE/E8RxxzhS1j/MlqyKcFPbP1eTCtdhVOA/hrDYLoYV4z8BMrYIc9jlP/kbSHJUieg/NJ5rDPgE6z/WdD3RdSHtPzAA4BrQue4/Z+Edpp6h7z/pt23nFCfvP4y5EFCGz+w/knFzx+6E6T86ie9hgjzmP7lG0/JmgeM/4hdFrFHR4T/96AbQEIrhP5JpI43A7uI/XKvBJCpO4j/ZM/i5qZrdP4tzDn37Y9c/WQIAMjrB0j/uiLeMowvOP6UbF8T2ycc/IleHL1Vhwz9XKE7F+PbAP6FRNryLvb0/sPZZYO16uD9vi70N7cCyP1LV8m07Ga8/WGf2JY1krj9Tted2UgavP0vv3vtiibA/3XGzDRYtsT/BYBOm40KwP3EtPCpcYa0/Gz2BJ2JOqj/V6ZEdUyunP8XEwBw4xaM/k0XZ3EoPoD+w4PPNelSXP4yAr40d+Yg/OoxZGKHdgj8w1sqTiheUP36sXH99OqE/rrWKDfz5qD+12WWze9awP8WIgQR+OrU/cbRueWh8uT+zyMBLune9P8yXeorahcA/w1foQUkawj8/w7xDYYLDP/PUl2OByMQ/mbagc47sxT8J88OtJ9/GPxhvEiCWj8c/IcEaiOH6xz++nxov3STIP57SXtCEHsg/rQPWYND4xz8vsjJUpMbHP3ONQ7sSmsc/87ufCQOFxz8w5hnB54PHP6m2xF/NYMc/H6a3Hgmkxj+VA6hvuuHEPxLR+Tq6W8I/OtQIYHd4vz8ksCBqLnm6P91D4wXoKbU/\",\"dtype\":\"float64\",\"shape\":[75]},\"y\":{\"__ndarray__\":\"GhExyth1ND/Sv8nbtpRIP2vylNV0PVE/aTum7souWD/At0SJ8fVgPw3Iuahxymc/MSNhhJWvcD/bTfBN02d3P2zb5nxnaoA/CD5h5MAGhz8NmeH1TyaQP+zrCsc9p5Y/LbKd76fGnz/bLW5ISEmmPww9YvTcQq8/JV2OstnstT8Er5Y7M8G+P0c+r3jqkcU/5h99k6ZBzj88bCIzFzjVP4enV8oyxN0//yH99nXg5D8qOpLLf0jtP5kqGJXUifQ/c9cS8kHP/D+/DpwzojQEQIEmwoanVwxA4lgXt9HgE0BSSZ2AJuIbQAMJih9jjiNA5q4l5INuK0AwTKYKRj0zQNv5fmq8/DpAaCJseHrtQkB/+zpwzoxKQM3MzMzMeFJAZmZmZmZqWEAAAAAAAFxeQM3MzMzMJmJAmpmZmZkfZUBmZmZmZhhoQDMzMzMzEWtAAAAAAAAKbkBmZmZmZoFwQM3MzMzM/XFAMzMzMzN6c0CamZmZmfZ0QAAAAAAAc3ZAZmZmZmbvd0DNzMzMzGt5QDMzMzMz6HpAmpmZmZlkfEAAAAAAAOF9QGZmZmZmXX9AZmZmZuZsgECamZmZGSuBQM3MzMxM6YFAAAAAAICngkAzMzMzs2WDQGZmZmbmI4RAmpmZmRnihEDNzMzMTKCFQAAAAACAXoZAMzMzM7Mch0BmZmZm5tqHQJqZmZkZmYhAzczMzExXiUAAAAAAgBWKQDMzMzOz04pAZmZmZuaRi0CamZmZGVCMQM3MzMxMDo1AAAAAAIDMjUAzMzMzs4qOQGZmZmbmSI9A\",\"dtype\":\"float64\",\"shape\":[75]}}},\"id\":\"8202a0dd-acb3-4e09-a90f-020c3f60e814\",\"type\":\"ColumnDataSource\"},{\"attributes\":{\"data_source\":{\"id\":\"56a1ef43-fd0a-4478-8e5e-7c40ed3db1c0\",\"type\":\"ColumnDataSource\"},\"glyph\":{\"id\":\"c5246cfe-5c55-4c3c-b592-60f04a27b1e5\",\"type\":\"Line\"},\"hover_glyph\":null,\"muted_glyph\":null,\"nonselection_glyph\":{\"id\":\"93d50a6d-9203-4822-aa8a-5e8bf3fd79bb\",\"type\":\"Line\"},\"selection_glyph\":null,\"view\":{\"id\":\"7c3849bf-4dee-4a88-8e69-f7313ea8af33\",\"type\":\"CDSView\"}},\"id\":\"4cb1c9bd-9dc8-421b-920b-8ae2be199867\",\"type\":\"GlyphRenderer\"},{\"attributes\":{\"callback\":null,\"column_names\":[\"x\",\"y\"],\"data\":{\"x\":{\"__ndarray__\":\"lAUCU7yAxz/MLUpcCdXKP57eOVKFmNE/E8RxxzhS1j/MlqyKcFPbP1eTCtdhVOA/hrDYLoYV4z8BMrYIc9jlP/kbSHJUieg/NJ5rDPgE6z/WdD3RdSHtPzAA4BrQue4/Z+Edpp6h7z/pt23nFCfvP4y5EFCGz+w/knFzx+6E6T86ie9hgjzmP7lG0/JmgeM/4hdFrFHR4T/96AbQEIrhP5JpI43A7uI/XKvBJCpO4j/ZM/i5qZrdP4tzDn37Y9c/WQIAMjrB0j/uiLeMowvOP6UbF8T2ycc/IleHL1Vhwz9XKE7F+PbAP6FRNryLvb0/sPZZYO16uD9vi70N7cCyP1LV8m07Ga8/WGf2JY1krj9Tted2UgavP0vv3vtiibA/3XGzDRYtsT/BYBOm40KwP3EtPCpcYa0/Gz2BJ2JOqj/V6ZEdUyunP8XEwBw4xaM/k0XZ3EoPoD+w4PPNelSXP4yAr40d+Yg/OoxZGKHdgj8w1sqTiheUP36sXH99OqE/rrWKDfz5qD+12WWze9awP8WIgQR+OrU/cbRueWh8uT+zyMBLune9P8yXeorahcA/w1foQUkawj8/w7xDYYLDP/PUl2OByMQ/mbagc47sxT8J88OtJ9/GPxhvEiCWj8c/IcEaiOH6xz++nxov3STIP57SXtCEHsg/rQPWYND4xz8vsjJUpMbHP3ONQ7sSmsc/87ufCQOFxz8w5hnB54PHP6m2xF/NYMc/H6a3Hgmkxj+VA6hvuuHEPxLR+Tq6W8I/OtQIYHd4vz8ksCBqLnm6P91D4wXoKbU/\",\"dtype\":\"float64\",\"shape\":[75]},\"y\":{\"__ndarray__\":\"GhExyth1ND/Sv8nbtpRIP2vylNV0PVE/aTum7souWD/At0SJ8fVgPw3Iuahxymc/MSNhhJWvcD/bTfBN02d3P2zb5nxnaoA/CD5h5MAGhz8NmeH1TyaQP+zrCsc9p5Y/LbKd76fGnz/bLW5ISEmmPww9YvTcQq8/JV2OstnstT8Er5Y7M8G+P0c+r3jqkcU/5h99k6ZBzj88bCIzFzjVP4enV8oyxN0//yH99nXg5D8qOpLLf0jtP5kqGJXUifQ/c9cS8kHP/D+/DpwzojQEQIEmwoanVwxA4lgXt9HgE0BSSZ2AJuIbQAMJih9jjiNA5q4l5INuK0AwTKYKRj0zQNv5fmq8/DpAaCJseHrtQkB/+zpwzoxKQM3MzMzMeFJAZmZmZmZqWEAAAAAAAFxeQM3MzMzMJmJAmpmZmZkfZUBmZmZmZhhoQDMzMzMzEWtAAAAAAAAKbkBmZmZmZoFwQM3MzMzM/XFAMzMzMzN6c0CamZmZmfZ0QAAAAAAAc3ZAZmZmZmbvd0DNzMzMzGt5QDMzMzMz6HpAmpmZmZlkfEAAAAAAAOF9QGZmZmZmXX9AZmZmZuZsgECamZmZGSuBQM3MzMxM6YFAAAAAAICngkAzMzMzs2WDQGZmZmbmI4RAmpmZmRnihEDNzMzMTKCFQAAAAACAXoZAMzMzM7Mch0BmZmZm5tqHQJqZmZkZmYhAzczMzExXiUAAAAAAgBWKQDMzMzOz04pAZmZmZuaRi0CamZmZGVCMQM3MzMxMDo1AAAAAAIDMjUAzMzMzs4qOQGZmZmbmSI9A\",\"dtype\":\"float64\",\"shape\":[75]}}},\"id\":\"1ec5dc74-2cbf-4e48-8f38-468f16259e2e\",\"type\":\"ColumnDataSource\"},{\"attributes\":{\"callback\":null,\"column_names\":[\"x\",\"y\"],\"data\":{\"x\":{\"__ndarray__\":\"lAUCU7yAxz/MLUpcCdXKP57eOVKFmNE/E8RxxzhS1j/MlqyKcFPbP1eTCtdhVOA/hrDYLoYV4z8BMrYIc9jlP/kbSHJUieg/NJ5rDPgE6z/WdD3RdSHtPzAA4BrQue4/Z+Edpp6h7z/pt23nFCfvP4y5EFCGz+w/knFzx+6E6T86ie9hgjzmP7lG0/JmgeM/4hdFrFHR4T/96AbQEIrhP5JpI43A7uI/XKvBJCpO4j/ZM/i5qZrdP4tzDn37Y9c/WQIAMjrB0j/uiLeMowvOP6UbF8T2ycc/IleHL1Vhwz9XKE7F+PbAP6FRNryLvb0/sPZZYO16uD9vi70N7cCyP1LV8m07Ga8/WGf2JY1krj9Tted2UgavP0vv3vtiibA/3XGzDRYtsT/BYBOm40KwP3EtPCpcYa0/Gz2BJ2JOqj/V6ZEdUyunP8XEwBw4xaM/k0XZ3EoPoD+w4PPNelSXP4yAr40d+Yg/OoxZGKHdgj8w1sqTiheUP36sXH99OqE/rrWKDfz5qD+12WWze9awP8WIgQR+OrU/cbRueWh8uT+zyMBLune9P8yXeorahcA/w1foQUkawj8/w7xDYYLDP/PUl2OByMQ/mbagc47sxT8J88OtJ9/GPxhvEiCWj8c/IcEaiOH6xz++nxov3STIP57SXtCEHsg/rQPWYND4xz8vsjJUpMbHP3ONQ7sSmsc/87ufCQOFxz8w5hnB54PHP6m2xF/NYMc/H6a3Hgmkxj+VA6hvuuHEPxLR+Tq6W8I/OtQIYHd4vz8ksCBqLnm6P91D4wXoKbU/\",\"dtype\":\"float64\",\"shape\":[75]},\"y\":{\"__ndarray__\":\"GhExyth1ND/Sv8nbtpRIP2vylNV0PVE/aTum7souWD/At0SJ8fVgPw3Iuahxymc/MSNhhJWvcD/bTfBN02d3P2zb5nxnaoA/CD5h5MAGhz8NmeH1TyaQP+zrCsc9p5Y/LbKd76fGnz/bLW5ISEmmPww9YvTcQq8/JV2OstnstT8Er5Y7M8G+P0c+r3jqkcU/5h99k6ZBzj88bCIzFzjVP4enV8oyxN0//yH99nXg5D8qOpLLf0jtP5kqGJXUifQ/c9cS8kHP/D+/DpwzojQEQIEmwoanVwxA4lgXt9HgE0BSSZ2AJuIbQAMJih9jjiNA5q4l5INuK0AwTKYKRj0zQNv5fmq8/DpAaCJseHrtQkB/+zpwzoxKQM3MzMzMeFJAZmZmZmZqWEAAAAAAAFxeQM3MzMzMJmJAmpmZmZkfZUBmZmZmZhhoQDMzMzMzEWtAAAAAAAAKbkBmZmZmZoFwQM3MzMzM/XFAMzMzMzN6c0CamZmZmfZ0QAAAAAAAc3ZAZmZmZmbvd0DNzMzMzGt5QDMzMzMz6HpAmpmZmZlkfEAAAAAAAOF9QGZmZmZmXX9AZmZmZuZsgECamZmZGSuBQM3MzMxM6YFAAAAAAICngkAzMzMzs2WDQGZmZmbmI4RAmpmZmRnihEDNzMzMTKCFQAAAAACAXoZAMzMzM7Mch0BmZmZm5tqHQJqZmZkZmYhAzczMzExXiUAAAAAAgBWKQDMzMzOz04pAZmZmZuaRi0CamZmZGVCMQM3MzMxMDo1AAAAAAIDMjUAzMzMzs4qOQGZmZmbmSI9A\",\"dtype\":\"float64\",\"shape\":[75]}}},\"id\":\"88e748a8-dd27-4842-afef-33085a64f6ed\",\"type\":\"ColumnDataSource\"},{\"attributes\":{\"line_color\":\"#4daf4a\",\"line_width\":1.5,\"x\":{\"field\":\"x\"},\"y\":{\"field\":\"y\"}},\"id\":\"c5246cfe-5c55-4c3c-b592-60f04a27b1e5\",\"type\":\"Line\"},{\"attributes\":{\"fill_alpha\":{\"value\":0.7},\"fill_color\":{\"value\":\"#984ea3\"},\"line_alpha\":{\"value\":0.7},\"line_color\":{\"value\":\"#984ea3\"},\"x\":{\"field\":\"x\"},\"y\":{\"field\":\"y\"}},\"id\":\"1d4576c4-386c-479a-bd19-1410cd5f2823\",\"type\":\"Square\"},{\"attributes\":{\"callback\":null,\"end\":0.9979749755799999,\"start\":0.02938240642},\"id\":\"43525f05-39ca-4ef3-9e6e-9c8da839b1e9\",\"type\":\"Range1d\"},{\"attributes\":{\"source\":{\"id\":\"1ec5dc74-2cbf-4e48-8f38-468f16259e2e\",\"type\":\"ColumnDataSource\"}},\"id\":\"1a8d6fa8-d298-4ac7-aa3c-69d0f24588fb\",\"type\":\"CDSView\"},{\"attributes\":{\"callback\":null,\"column_names\":[\"x\",\"y\"],\"data\":{\"x\":{\"__ndarray__\":\"3ikVO7fczT88icbiUGLQP89XXizrQtU/fxCP5dl82j/QtbPYu/nfPyqck80LxuI/KPud3KWD5T/xBZi/YxToP8UqlDsiVeo/EDkBdgMf7D80fPJNJlDtP/e7JIxu1u0/VfKYHqC97T8qF89F6IzsP33+/yh/Eeo/ABrGWeh15z8nBP4yEJLlP4Fo3ljtbeQ/iDQB8YDz4z8sILyPBiTkP7JI8uAXTOU/m7nyH/Pd4z8Uu2wqQfXeP4BoYpGRudc/yPN0CeKX0j+nN2k7IrbMP+z/VpFVOsU/L1jktgHIvz+qWtrCVn26PzUNeANGQ7c/6naglU4AtD+CbrOhMGKwP9xkhFLcOq0/zKrIG3LJrT/5JOJzSOatP0d2ljp3pK0/U6VlWFAOrT+Udd8BA+CqP7NPpFTyTKg/P0GhH78Xpj+U7h4I3+ejP4mZFTsua6E/Dg8sCmUonT/vY5/cwxmWP+k6sMNou4k/ADc/icUrhT9e53ST9/WUP6D2ctfGY6E/WIkwgBsiqT/61NzKRQ6xPzAcnS3/pbU/2xZlNsgkuj/iiWpb3ma+PzkvZxlWL8E/jM5kxZEDwz/YMFyAKqzEP3g/VSLcJsY/WxAltatrxz8A0cQiI3PIP+pgu4PxNsk/KEqd29+0yT97Ac1SePHJP5TPG7zp9ck/Fvr97l/RyT9vpjrLyZfJP2d9yjFZXMk/yg8BLJcyyT8tjD4wkRzJPy5eRakx38g/YdWsddoByD/IJUwgPhPGP2YOzWU4WMM/LbbmGqiEwD+Al758V6m7P17XoS32/bU/\",\"dtype\":\"float64\",\"shape\":[75]},\"y\":{\"__ndarray__\":\"GhExyth1ND/Sv8nbtpRIP2vylNV0PVE/aTum7souWD/At0SJ8fVgPw3Iuahxymc/MSNhhJWvcD/bTfBN02d3P2zb5nxnaoA/CD5h5MAGhz8NmeH1TyaQP+zrCsc9p5Y/LbKd76fGnz/bLW5ISEmmPww9YvTcQq8/JV2OstnstT8Er5Y7M8G+P0c+r3jqkcU/5h99k6ZBzj88bCIzFzjVP4enV8oyxN0//yH99nXg5D8qOpLLf0jtP5kqGJXUifQ/c9cS8kHP/D+/DpwzojQEQIEmwoanVwxA4lgXt9HgE0BSSZ2AJuIbQAMJih9jjiNA5q4l5INuK0AwTKYKRj0zQNv5fmq8/DpAaCJseHrtQkB/+zpwzoxKQM3MzMzMeFJAZmZmZmZqWEAAAAAAAFxeQM3MzMzMJmJAmpmZmZkfZUBmZmZmZhhoQDMzMzMzEWtAAAAAAAAKbkBmZmZmZoFwQM3MzMzM/XFAMzMzMzN6c0CamZmZmfZ0QAAAAAAAc3ZAZmZmZmbvd0DNzMzMzGt5QDMzMzMz6HpAmpmZmZlkfEAAAAAAAOF9QGZmZmZmXX9AZmZmZuZsgECamZmZGSuBQM3MzMxM6YFAAAAAAICngkAzMzMzs2WDQGZmZmbmI4RAmpmZmRnihEDNzMzMTKCFQAAAAACAXoZAMzMzM7Mch0BmZmZm5tqHQJqZmZkZmYhAzczMzExXiUAAAAAAgBWKQDMzMzOz04pAZmZmZuaRi0CamZmZGVCMQM3MzMxMDo1AAAAAAIDMjUAzMzMzs4qOQGZmZmbmSI9A\",\"dtype\":\"float64\",\"shape\":[75]}}},\"id\":\"35ddd17a-2a82-4abf-bbed-ad9f815897b1\",\"type\":\"ColumnDataSource\"},{\"attributes\":{\"line_alpha\":0.6,\"line_color\":\"#984ea3\",\"line_width\":3,\"x\":{\"field\":\"x\"},\"y\":{\"field\":\"y\"}},\"id\":\"2a4e9f2a-2ee8-48ac-a3c0-dec6917e7fb7\",\"type\":\"Line\"},{\"attributes\":{\"source\":{\"id\":\"8202a0dd-acb3-4e09-a90f-020c3f60e814\",\"type\":\"ColumnDataSource\"}},\"id\":\"ed4dd85f-97d0-487a-978c-2d991b0df755\",\"type\":\"CDSView\"},{\"attributes\":{\"callback\":null,\"end\":0.204764367549,\"start\":0.006150217551},\"id\":\"23c479c7-d22e-4450-96da-64ecfda19d3c\",\"type\":\"Range1d\"},{\"attributes\":{\"line_alpha\":0.6,\"line_color\":\"#984ea3\",\"line_width\":3,\"x\":{\"field\":\"x\"},\"y\":{\"field\":\"y\"}},\"id\":\"f917e6ef-e5ec-4a20-b9f1-c5f6997dd292\",\"type\":\"Line\"},{\"attributes\":{\"fill_alpha\":{\"value\":0.1},\"fill_color\":{\"value\":\"#1f77b4\"},\"line_alpha\":{\"value\":0.1},\"line_color\":{\"value\":\"#1f77b4\"},\"x\":{\"field\":\"x\"},\"y\":{\"field\":\"y\"}},\"id\":\"36a1f2f6-b2f7-404e-a325-0867a8b3715c\",\"type\":\"Square\"},{\"attributes\":{\"data_source\":{\"id\":\"8202a0dd-acb3-4e09-a90f-020c3f60e814\",\"type\":\"ColumnDataSource\"},\"glyph\":{\"id\":\"1d4576c4-386c-479a-bd19-1410cd5f2823\",\"type\":\"Square\"},\"hover_glyph\":null,\"muted_glyph\":null,\"nonselection_glyph\":{\"id\":\"36a1f2f6-b2f7-404e-a325-0867a8b3715c\",\"type\":\"Square\"},\"selection_glyph\":null,\"view\":{\"id\":\"ed4dd85f-97d0-487a-978c-2d991b0df755\",\"type\":\"CDSView\"}},\"id\":\"316e27b4-72ff-4c7d-a061-99105a478671\",\"type\":\"GlyphRenderer\"},{\"attributes\":{\"data_source\":{\"id\":\"ec042af5-d920-441d-a7de-79c11bce4ca7\",\"type\":\"ColumnDataSource\"},\"glyph\":{\"id\":\"5fab8850-6dcc-4386-8181-0ea01a205f75\",\"type\":\"Line\"},\"hover_glyph\":null,\"muted_glyph\":null,\"nonselection_glyph\":{\"id\":\"8e54e4b2-9b27-4e2c-82de-4dd46b000b02\",\"type\":\"Line\"},\"selection_glyph\":null,\"view\":{\"id\":\"e932efbf-3d11-46a3-adeb-c23579c633f2\",\"type\":\"CDSView\"}},\"id\":\"ac2ce46e-fa4e-48bf-adf7-a78be82dcbd9\",\"type\":\"GlyphRenderer\"},{\"attributes\":{\"line_alpha\":0.1,\"line_color\":\"#1f77b4\",\"line_width\":3,\"x\":{\"field\":\"x\"},\"y\":{\"field\":\"y\"}},\"id\":\"6709e389-3ecd-4a01-bade-747d3a4a1f94\",\"type\":\"Line\"},{\"attributes\":{\"below\":[{\"id\":\"a44b14f3-ab1a-4e3e-ae0e-63dfa74116cc\",\"type\":\"LinearAxis\"}],\"left\":[{\"id\":\"1f22ed8f-0618-4712-9f64-efa9a82786fb\",\"type\":\"LogAxis\"}],\"plot_height\":500,\"plot_width\":560,\"renderers\":[{\"id\":\"a44b14f3-ab1a-4e3e-ae0e-63dfa74116cc\",\"type\":\"LinearAxis\"},{\"id\":\"c724cf15-e892-4e3a-87e3-dd3440bf321b\",\"type\":\"Grid\"},{\"id\":\"1f22ed8f-0618-4712-9f64-efa9a82786fb\",\"type\":\"LogAxis\"},{\"id\":\"8f80a5e0-a6e9-4058-8822-c5a29a597c3c\",\"type\":\"Grid\"},{\"id\":\"34b49426-c93f-44a2-8249-7cd9da6648f8\",\"type\":\"BoxAnnotation\"},{\"id\":\"53edf1a3-d72f-479d-9ffb-34cea0b8e1af\",\"type\":\"GlyphRenderer\"},{\"id\":\"849833b2-56bd-4f47-b19a-3fb33daaaa84\",\"type\":\"GlyphRenderer\"},{\"id\":\"4cb1c9bd-9dc8-421b-920b-8ae2be199867\",\"type\":\"GlyphRenderer\"},{\"id\":\"316e27b4-72ff-4c7d-a061-99105a478671\",\"type\":\"GlyphRenderer\"},{\"id\":\"8202aa1c-3388-4609-917d-f6e64504dfca\",\"type\":\"GlyphRenderer\"},{\"id\":\"03e30efa-8c2e-4daf-a8bc-b18b0b77ca1d\",\"type\":\"Legend\"}],\"right\":[{\"id\":\"03e30efa-8c2e-4daf-a8bc-b18b0b77ca1d\",\"type\":\"Legend\"}],\"title\":{\"id\":\"432d428d-b409-4fd7-8600-018f4dae90c9\",\"type\":\"Title\"},\"toolbar\":{\"id\":\"01184eb8-fe08-481c-a9ea-5fc11350c9bc\",\"type\":\"Toolbar\"},\"toolbar_location\":null,\"x_range\":{\"id\":\"43525f05-39ca-4ef3-9e6e-9c8da839b1e9\",\"type\":\"Range1d\"},\"x_scale\":{\"id\":\"6ccf3915-834b-4916-9fac-9ea0cf7911f4\",\"type\":\"LinearScale\"},\"y_range\":{\"id\":\"4b39e440-c1bc-439c-b659-1af1a5137360\",\"type\":\"Range1d\"},\"y_scale\":{\"id\":\"8358e67d-4b20-4b7f-b4eb-d6976f052854\",\"type\":\"LogScale\"}},\"id\":\"7f041c18-b263-4b26-a491-b3c03066bb59\",\"subtype\":\"Figure\",\"type\":\"Plot\"},{\"attributes\":{\"source\":{\"id\":\"88e748a8-dd27-4842-afef-33085a64f6ed\",\"type\":\"ColumnDataSource\"}},\"id\":\"ed5a8bf7-4633-4193-8791-d33526c5e57f\",\"type\":\"CDSView\"},{\"attributes\":{\"line_alpha\":0.1,\"line_color\":\"#1f77b4\",\"line_width\":3,\"x\":{\"field\":\"x\"},\"y\":{\"field\":\"y\"}},\"id\":\"75a683e1-fb1e-4219-bf09-440998dfd337\",\"type\":\"Line\"},{\"attributes\":{},\"id\":\"d26585b2-5550-40e6-8c06-38456d47f48f\",\"type\":\"SaveTool\"},{\"attributes\":{\"data_source\":{\"id\":\"88e748a8-dd27-4842-afef-33085a64f6ed\",\"type\":\"ColumnDataSource\"},\"glyph\":{\"id\":\"f917e6ef-e5ec-4a20-b9f1-c5f6997dd292\",\"type\":\"Line\"},\"hover_glyph\":null,\"muted_glyph\":null,\"nonselection_glyph\":{\"id\":\"75a683e1-fb1e-4219-bf09-440998dfd337\",\"type\":\"Line\"},\"selection_glyph\":null,\"view\":{\"id\":\"ed5a8bf7-4633-4193-8791-d33526c5e57f\",\"type\":\"CDSView\"}},\"id\":\"8202aa1c-3388-4609-917d-f6e64504dfca\",\"type\":\"GlyphRenderer\"},{\"attributes\":{\"children\":[{\"id\":\"04bd6ba5-ff0b-4373-8907-67e914b07951\",\"type\":\"ToolbarBox\"},{\"id\":\"830882e6-5eed-45c9-a3bd-71cba68fbd9a\",\"type\":\"Column\"}]},\"id\":\"52392eff-2ab6-4330-afc6-d89be7b83b82\",\"type\":\"Column\"},{\"attributes\":{\"dimension\":1,\"plot\":{\"id\":\"7f041c18-b263-4b26-a491-b3c03066bb59\",\"subtype\":\"Figure\",\"type\":\"Plot\"},\"ticker\":{\"id\":\"18884074-d8eb-41a2-b3ef-b0e43876db31\",\"type\":\"LogTicker\"}},\"id\":\"8f80a5e0-a6e9-4058-8822-c5a29a597c3c\",\"type\":\"Grid\"},{\"attributes\":{\"label\":{\"value\":\"WGT igg=10 wgt_flux=2\"},\"renderers\":[{\"id\":\"316e27b4-72ff-4c7d-a061-99105a478671\",\"type\":\"GlyphRenderer\"},{\"id\":\"8202aa1c-3388-4609-917d-f6e64504dfca\",\"type\":\"GlyphRenderer\"}]},\"id\":\"f7b9b826-69e4-40e7-8882-2fa056eea478\",\"type\":\"LegendItem\"},{\"attributes\":{\"toolbar\":{\"id\":\"302d4f61-df00-464e-893d-214fbbaf2ae2\",\"type\":\"ProxyToolbar\"},\"toolbar_location\":\"above\"},\"id\":\"04bd6ba5-ff0b-4373-8907-67e914b07951\",\"type\":\"ToolbarBox\"},{\"attributes\":{\"callback\":null,\"end\":0.01,\"start\":1020},\"id\":\"7469d28f-ea58-477d-91f1-1001f1ed8009\",\"type\":\"Range1d\"},{\"attributes\":{\"plot\":{\"id\":\"7f041c18-b263-4b26-a491-b3c03066bb59\",\"subtype\":\"Figure\",\"type\":\"Plot\"},\"ticker\":{\"id\":\"e19c81ed-0c07-4efa-9bee-72ac7b8868a4\",\"type\":\"BasicTicker\"}},\"id\":\"c724cf15-e892-4e3a-87e3-dd3440bf321b\",\"type\":\"Grid\"},{\"attributes\":{\"axis_label\":\"cooling rate [K/day]\",\"formatter\":{\"id\":\"2c1a77a4-06d6-429d-98e6-c83542432377\",\"type\":\"BasicTickFormatter\"},\"plot\":{\"id\":\"7f041c18-b263-4b26-a491-b3c03066bb59\",\"subtype\":\"Figure\",\"type\":\"Plot\"},\"ticker\":{\"id\":\"e19c81ed-0c07-4efa-9bee-72ac7b8868a4\",\"type\":\"BasicTicker\"}},\"id\":\"a44b14f3-ab1a-4e3e-ae0e-63dfa74116cc\",\"type\":\"LinearAxis\"},{\"attributes\":{},\"id\":\"8358e67d-4b20-4b7f-b4eb-d6976f052854\",\"type\":\"LogScale\"},{\"attributes\":{\"source\":{\"id\":\"9d0f9dbc-c252-45b9-b7af-ce3f8999ba08\",\"type\":\"ColumnDataSource\"}},\"id\":\"4dc8f76f-fc6f-4e82-897f-f6f6d29462fd\",\"type\":\"CDSView\"},{\"attributes\":{},\"id\":\"e19c81ed-0c07-4efa-9bee-72ac7b8868a4\",\"type\":\"BasicTicker\"},{\"attributes\":{\"bottom_units\":\"screen\",\"fill_alpha\":{\"value\":0.5},\"fill_color\":{\"value\":\"lightgrey\"},\"left_units\":\"screen\",\"level\":\"overlay\",\"line_alpha\":{\"value\":1.0},\"line_color\":{\"value\":\"black\"},\"line_dash\":[4,4],\"line_width\":{\"value\":2},\"plot\":null,\"render_mode\":\"css\",\"right_units\":\"screen\",\"top_units\":\"screen\"},\"id\":\"34b49426-c93f-44a2-8249-7cd9da6648f8\",\"type\":\"BoxAnnotation\"},{\"attributes\":{\"plot\":null,\"text\":\"Log pressure scale\"},\"id\":\"432d428d-b409-4fd7-8600-018f4dae90c9\",\"type\":\"Title\"},{\"attributes\":{\"source\":{\"id\":\"0e9732ba-2d46-42fc-b625-75aaab5dfb42\",\"type\":\"ColumnDataSource\"}},\"id\":\"5ced7c99-572b-4667-9a05-526bbec36d1e\",\"type\":\"CDSView\"},{\"attributes\":{\"line_alpha\":0.1,\"line_color\":\"#1f77b4\",\"line_width\":1.5,\"x\":{\"field\":\"x\"},\"y\":{\"field\":\"y\"}},\"id\":\"8e54e4b2-9b27-4e2c-82de-4dd46b000b02\",\"type\":\"Line\"},{\"attributes\":{},\"id\":\"e09a49bc-77b7-4dc4-8eb7-08a6cba2d2ce\",\"type\":\"PanTool\"},{\"attributes\":{\"callback\":null,\"column_names\":[\"x\",\"y\"],\"data\":{\"x\":{\"__ndarray__\":\"lGIuRrCzvz/djMMuxMnCP+FOO19gFMo/QTHsDxgU0T/DLLRzmoXVP/bBKsUrXNo/YiIQdUCO3z8OMPMd/ITiP1HOQPpgWOU/ieykOvQo6D+iL7WMcdHqP9htBm6TIO0/5qP3UwTU7j+i7JAPOBrvP25fME1LS+0/CZSHZEwK6j+lHlhEA0fmP4tRtswS0uI/HIUcQjKQ4D8qd/qcFhfgP1PGZBZGn+E/DEnaSyJ04T+Q9v2jiO/cP/+Gu0BqT9c/zvgA1Sbr0j/ouOAtDGjOP2k/StM9Psg/Api2qOTWwz9KuwtzBm/BP+yATrXUSb4/amD1kaWguD9opDZVHZCyPzXXcxYZxK0/eai8Cf3Nqz8zdJihhKisP6wQKeKBvK8/Vp095u+dsD+g2nOoxTGvPzpkyIZ1sKs/XvkVMw5qqD850kSY1U2lPywrJ4OeK6I/MuHr+QeCnT80Hy4+p06VP0cVFPKAM4Y/HQhLqGCVgD8Q2drXjp2SP1hvFielPaA/nEakt4mkpz+NyiJUduivP3A22ePeLLQ/m1itOhVquD8Sqg6YC4W8P/Tq84OAHcA/tyzbXj20wT9/JDZpZCHDP7aOgadWgMQ/uX3iQhbQxT/Tpof0HfTGP5JdSAvA1Mc/21WCpNNjyD/HDmyN76jIPz2YNS2Is8g/UxB2aUeayD9p0fGHVXLIP64Io/4fTMg/aTnxUVY+yD/mMAwWVkPIP5lLaJrJGsg/1ryRFrpUxz+Y9QdvtIjFP60nwp9E+MI/ScGugQhMwD9d422EyX27PwHHa0zyHbY/\",\"dtype\":\"float64\",\"shape\":[75]},\"y\":{\"__ndarray__\":\"S/O/Q+51ND/Sv8nbtpRIP2vylNV0PVE/aTum7souWD/At0SJ8fVgPw3Iuahxymc/MSNhhJWvcD/bTfBN02d3P2zb5nxnaoA/CD5h5MAGhz8NmeH1TyaQP+zrCsc9p5Y/LbKd76fGnz/bLW5ISEmmPww9YvTcQq8/JV2OstnstT8Er5Y7M8G+P0c+r3jqkcU/5h99k6ZBzj88bCIzFzjVP4enV8oyxN0//yH99nXg5D8qOpLLf0jtP5kqGJXUifQ/c9cS8kHP/D+/DpwzojQEQIEmwoanVwxA4lgXt9HgE0BSSZ2AJuIbQAMJih9jjiNA5q4l5INuK0AwTKYKRj0zQNv5fmq8/DpAaCJseHrtQkB/+zpwzoxKQM3MzMzMeFJAZmZmZmZqWEAAAAAAAFxeQM3MzMzMJmJAmpmZmZkfZUBmZmZmZhhoQDMzMzMzEWtAAAAAAAAKbkBmZmZmZoFwQM3MzMzM/XFAMzMzMzN6c0CamZmZmfZ0QAAAAAAAc3ZAZmZmZmbvd0DNzMzMzGt5QDMzMzMz6HpAmpmZmZlkfEAAAAAAAOF9QGZmZmZmXX9AZmZmZuZsgECamZmZGSuBQM3MzMxM6YFAAAAAAICngkAzMzMzs2WDQGZmZmbmI4RAmpmZmRnihEDNzMzMTKCFQAAAAACAXoZAMzMzM7Mch0BmZmZm5tqHQJqZmZkZmYhAzczMzExXiUAAAAAAgBWKQDMzMzOz04pAZmZmZuaRi0CamZmZGVCMQM3MzMxMDo1AAAAAAIDMjUAzMzMzs4qOQGZmZmbmSI9A\",\"dtype\":\"float64\",\"shape\":[75]}}},\"id\":\"0e9732ba-2d46-42fc-b625-75aaab5dfb42\",\"type\":\"ColumnDataSource\"},{\"attributes\":{\"label\":{\"value\":\"CLIRAD `coolr_bands`\"},\"renderers\":[{\"id\":\"53edf1a3-d72f-479d-9ffb-34cea0b8e1af\",\"type\":\"GlyphRenderer\"}]},\"id\":\"4d6ad1fa-fb84-47e3-81ef-54396dcc9b69\",\"type\":\"LegendItem\"},{\"attributes\":{\"fill_alpha\":{\"value\":0.1},\"fill_color\":{\"value\":\"#1f77b4\"},\"line_alpha\":{\"value\":0.1},\"line_color\":{\"value\":\"#1f77b4\"},\"x\":{\"field\":\"x\"},\"y\":{\"field\":\"y\"}},\"id\":\"34df09e5-4a8f-4d71-85c6-2574bb31bc20\",\"type\":\"Circle\"},{\"attributes\":{},\"id\":\"ab1d38c4-e2d1-4549-b075-994bf9351449\",\"type\":\"HelpTool\"},{\"attributes\":{\"fill_alpha\":{\"value\":0.7},\"fill_color\":{\"value\":\"#4daf4a\"},\"line_alpha\":{\"value\":0.7},\"line_color\":{\"value\":\"#4daf4a\"},\"x\":{\"field\":\"x\"},\"y\":{\"field\":\"y\"}},\"id\":\"877b2913-941b-4141-b1ce-49b0553b08b5\",\"type\":\"Circle\"},{\"attributes\":{\"label\":{\"value\":\"CRD\"},\"renderers\":[{\"id\":\"849833b2-56bd-4f47-b19a-3fb33daaaa84\",\"type\":\"GlyphRenderer\"},{\"id\":\"4cb1c9bd-9dc8-421b-920b-8ae2be199867\",\"type\":\"GlyphRenderer\"}]},\"id\":\"22f96375-736b-4b2b-81bf-47e18ccfbf3f\",\"type\":\"LegendItem\"},{\"attributes\":{\"data_source\":{\"id\":\"1ec5dc74-2cbf-4e48-8f38-468f16259e2e\",\"type\":\"ColumnDataSource\"},\"glyph\":{\"id\":\"2a4e9f2a-2ee8-48ac-a3c0-dec6917e7fb7\",\"type\":\"Line\"},\"hover_glyph\":null,\"muted_glyph\":null,\"nonselection_glyph\":{\"id\":\"6709e389-3ecd-4a01-bade-747d3a4a1f94\",\"type\":\"Line\"},\"selection_glyph\":null,\"view\":{\"id\":\"1a8d6fa8-d298-4ac7-aa3c-69d0f24588fb\",\"type\":\"CDSView\"}},\"id\":\"b560e5dc-0c37-475e-8a8b-a975608e4b13\",\"type\":\"GlyphRenderer\"},{\"attributes\":{},\"id\":\"5ceab648-8a35-4d1e-8a8f-36f49cf0d430\",\"type\":\"HelpTool\"},{\"attributes\":{\"callback\":null,\"column_names\":[\"x\",\"y\"],\"data\":{\"x\":{\"__ndarray__\":\"3ikVO7fczT88icbiUGLQP89XXizrQtU/fxCP5dl82j/QtbPYu/nfPyqck80LxuI/KPud3KWD5T/xBZi/YxToP8UqlDsiVeo/EDkBdgMf7D80fPJNJlDtP/e7JIxu1u0/VfKYHqC97T8qF89F6IzsP33+/yh/Eeo/ABrGWeh15z8nBP4yEJLlP4Fo3ljtbeQ/iDQB8YDz4z8sILyPBiTkP7JI8uAXTOU/m7nyH/Pd4z8Uu2wqQfXeP4BoYpGRudc/yPN0CeKX0j+nN2k7IrbMP+z/VpFVOsU/L1jktgHIvz+qWtrCVn26PzUNeANGQ7c/6naglU4AtD+CbrOhMGKwP9xkhFLcOq0/zKrIG3LJrT/5JOJzSOatP0d2ljp3pK0/U6VlWFAOrT+Udd8BA+CqP7NPpFTyTKg/P0GhH78Xpj+U7h4I3+ejP4mZFTsua6E/Dg8sCmUonT/vY5/cwxmWP+k6sMNou4k/ADc/icUrhT9e53ST9/WUP6D2ctfGY6E/WIkwgBsiqT/61NzKRQ6xPzAcnS3/pbU/2xZlNsgkuj/iiWpb3ma+PzkvZxlWL8E/jM5kxZEDwz/YMFyAKqzEP3g/VSLcJsY/WxAltatrxz8A0cQiI3PIP+pgu4PxNsk/KEqd29+0yT97Ac1SePHJP5TPG7zp9ck/Fvr97l/RyT9vpjrLyZfJP2d9yjFZXMk/yg8BLJcyyT8tjD4wkRzJPy5eRakx38g/YdWsddoByD/IJUwgPhPGP2YOzWU4WMM/LbbmGqiEwD+Al758V6m7P17XoS32/bU/\",\"dtype\":\"float64\",\"shape\":[75]},\"y\":{\"__ndarray__\":\"GhExyth1ND/Sv8nbtpRIP2vylNV0PVE/aTum7souWD/At0SJ8fVgPw3Iuahxymc/MSNhhJWvcD/bTfBN02d3P2zb5nxnaoA/CD5h5MAGhz8NmeH1TyaQP+zrCsc9p5Y/LbKd76fGnz/bLW5ISEmmPww9YvTcQq8/JV2OstnstT8Er5Y7M8G+P0c+r3jqkcU/5h99k6ZBzj88bCIzFzjVP4enV8oyxN0//yH99nXg5D8qOpLLf0jtP5kqGJXUifQ/c9cS8kHP/D+/DpwzojQEQIEmwoanVwxA4lgXt9HgE0BSSZ2AJuIbQAMJih9jjiNA5q4l5INuK0AwTKYKRj0zQNv5fmq8/DpAaCJseHrtQkB/+zpwzoxKQM3MzMzMeFJAZmZmZmZqWEAAAAAAAFxeQM3MzMzMJmJAmpmZmZkfZUBmZmZmZhhoQDMzMzMzEWtAAAAAAAAKbkBmZmZmZoFwQM3MzMzM/XFAMzMzMzN6c0CamZmZmfZ0QAAAAAAAc3ZAZmZmZmbvd0DNzMzMzGt5QDMzMzMz6HpAmpmZmZlkfEAAAAAAAOF9QGZmZmZmXX9AZmZmZuZsgECamZmZGSuBQM3MzMxM6YFAAAAAAICngkAzMzMzs2WDQGZmZmbmI4RAmpmZmRnihEDNzMzMTKCFQAAAAACAXoZAMzMzM7Mch0BmZmZm5tqHQJqZmZkZmYhAzczMzExXiUAAAAAAgBWKQDMzMzOz04pAZmZmZuaRi0CamZmZGVCMQM3MzMxMDo1AAAAAAIDMjUAzMzMzs4qOQGZmZmbmSI9A\",\"dtype\":\"float64\",\"shape\":[75]}}},\"id\":\"918b6e11-8518-457f-9cd5-eddb8ff4c9b6\",\"type\":\"ColumnDataSource\"},{\"attributes\":{\"overlay\":{\"id\":\"34b49426-c93f-44a2-8249-7cd9da6648f8\",\"type\":\"BoxAnnotation\"}},\"id\":\"cf84480c-b2c1-402c-bc78-2bf2206ed520\",\"type\":\"BoxZoomTool\"},{\"attributes\":{\"callback\":null,\"end\":0.01,\"start\":1020},\"id\":\"4b39e440-c1bc-439c-b659-1af1a5137360\",\"type\":\"Range1d\"},{\"attributes\":{\"items\":[{\"id\":\"4d6ad1fa-fb84-47e3-81ef-54396dcc9b69\",\"type\":\"LegendItem\"},{\"id\":\"22f96375-736b-4b2b-81bf-47e18ccfbf3f\",\"type\":\"LegendItem\"},{\"id\":\"f7b9b826-69e4-40e7-8882-2fa056eea478\",\"type\":\"LegendItem\"}],\"label_text_font_size\":{\"value\":\"8pt\"},\"location\":[10,-30],\"plot\":{\"id\":\"7f041c18-b263-4b26-a491-b3c03066bb59\",\"subtype\":\"Figure\",\"type\":\"Plot\"}},\"id\":\"03e30efa-8c2e-4daf-a8bc-b18b0b77ca1d\",\"type\":\"Legend\"},{\"attributes\":{\"data_source\":{\"id\":\"35ddd17a-2a82-4abf-bbed-ad9f815897b1\",\"type\":\"ColumnDataSource\"},\"glyph\":{\"id\":\"bad7b450-2a70-4cb4-aa91-e64c699b5ba1\",\"type\":\"Circle\"},\"hover_glyph\":null,\"muted_glyph\":null,\"nonselection_glyph\":{\"id\":\"34df09e5-4a8f-4d71-85c6-2574bb31bc20\",\"type\":\"Circle\"},\"selection_glyph\":null,\"view\":{\"id\":\"4d7455ed-d6e9-4198-9531-345bba99a8e8\",\"type\":\"CDSView\"}},\"id\":\"849833b2-56bd-4f47-b19a-3fb33daaaa84\",\"type\":\"GlyphRenderer\"},{\"attributes\":{\"line_alpha\":0.6,\"line_color\":\"#e41a1c\",\"line_dash\":[6],\"line_width\":5,\"x\":{\"field\":\"x\"},\"y\":{\"field\":\"y\"}},\"id\":\"25fe7a89-246d-4ae1-ab57-3d4ee7cc1222\",\"type\":\"Line\"},{\"attributes\":{\"line_alpha\":0.1,\"line_color\":\"#1f77b4\",\"line_dash\":[6],\"line_width\":5,\"x\":{\"field\":\"x\"},\"y\":{\"field\":\"y\"}},\"id\":\"0f733651-40b8-47bd-9be3-f87fc7fca383\",\"type\":\"Line\"},{\"attributes\":{\"data_source\":{\"id\":\"918b6e11-8518-457f-9cd5-eddb8ff4c9b6\",\"type\":\"ColumnDataSource\"},\"glyph\":{\"id\":\"877b2913-941b-4141-b1ce-49b0553b08b5\",\"type\":\"Circle\"},\"hover_glyph\":null,\"muted_glyph\":null,\"nonselection_glyph\":{\"id\":\"049cd2d5-76e6-41e0-8de0-3f3e8732ea4f\",\"type\":\"Circle\"},\"selection_glyph\":null,\"view\":{\"id\":\"aa27a2a3-4be6-434d-bafc-40406c282dbe\",\"type\":\"CDSView\"}},\"id\":\"f7c0ae93-29e9-4481-940e-6e44ec12ebdd\",\"type\":\"GlyphRenderer\"},{\"attributes\":{},\"id\":\"6ccf3915-834b-4916-9fac-9ea0cf7911f4\",\"type\":\"LinearScale\"},{\"attributes\":{},\"id\":\"2c1a77a4-06d6-429d-98e6-c83542432377\",\"type\":\"BasicTickFormatter\"},{\"attributes\":{\"children\":[{\"id\":\"09317b99-d091-4e11-8552-147d32907c23\",\"subtype\":\"Figure\",\"type\":\"Plot\"},{\"id\":\"7f041c18-b263-4b26-a491-b3c03066bb59\",\"subtype\":\"Figure\",\"type\":\"Plot\"}]},\"id\":\"4325cd68-a021-4532-8015-e3f595e5191f\",\"type\":\"Row\"},{\"attributes\":{\"active_drag\":\"auto\",\"active_inspect\":\"auto\",\"active_scroll\":\"auto\",\"active_tap\":\"auto\",\"tools\":[{\"id\":\"e09a49bc-77b7-4dc4-8eb7-08a6cba2d2ce\",\"type\":\"PanTool\"},{\"id\":\"4f339a20-4132-4405-b951-c8c1ee15fa46\",\"type\":\"WheelZoomTool\"},{\"id\":\"cf84480c-b2c1-402c-bc78-2bf2206ed520\",\"type\":\"BoxZoomTool\"},{\"id\":\"d26585b2-5550-40e6-8c06-38456d47f48f\",\"type\":\"SaveTool\"},{\"id\":\"77627dde-98d2-4329-896e-378bf9cb4490\",\"type\":\"ResetTool\"},{\"id\":\"ab1d38c4-e2d1-4549-b075-994bf9351449\",\"type\":\"HelpTool\"}]},\"id\":\"01184eb8-fe08-481c-a9ea-5fc11350c9bc\",\"type\":\"Toolbar\"},{\"attributes\":{\"callback\":null,\"column_names\":[\"x\",\"y\"],\"data\":{\"x\":{\"__ndarray__\":\"lGIuRrCzvz/djMMuxMnCP+FOO19gFMo/QTHsDxgU0T/DLLRzmoXVP/bBKsUrXNo/YiIQdUCO3z8OMPMd/ITiP1HOQPpgWOU/ieykOvQo6D+iL7WMcdHqP9htBm6TIO0/5qP3UwTU7j+i7JAPOBrvP25fME1LS+0/CZSHZEwK6j+lHlhEA0fmP4tRtswS0uI/HIUcQjKQ4D8qd/qcFhfgP1PGZBZGn+E/DEnaSyJ04T+Q9v2jiO/cP/+Gu0BqT9c/zvgA1Sbr0j/ouOAtDGjOP2k/StM9Psg/Api2qOTWwz9KuwtzBm/BP+yATrXUSb4/amD1kaWguD9opDZVHZCyPzXXcxYZxK0/eai8Cf3Nqz8zdJihhKisP6wQKeKBvK8/Vp095u+dsD+g2nOoxTGvPzpkyIZ1sKs/XvkVMw5qqD850kSY1U2lPywrJ4OeK6I/MuHr+QeCnT80Hy4+p06VP0cVFPKAM4Y/HQhLqGCVgD8Q2drXjp2SP1hvFielPaA/nEakt4mkpz+NyiJUduivP3A22ePeLLQ/m1itOhVquD8Sqg6YC4W8P/Tq84OAHcA/tyzbXj20wT9/JDZpZCHDP7aOgadWgMQ/uX3iQhbQxT/Tpof0HfTGP5JdSAvA1Mc/21WCpNNjyD/HDmyN76jIPz2YNS2Is8g/UxB2aUeayD9p0fGHVXLIP64Io/4fTMg/aTnxUVY+yD/mMAwWVkPIP5lLaJrJGsg/1ryRFrpUxz+Y9QdvtIjFP60nwp9E+MI/ScGugQhMwD9d422EyX27PwHHa0zyHbY/\",\"dtype\":\"float64\",\"shape\":[75]},\"y\":{\"__ndarray__\":\"S/O/Q+51ND/Sv8nbtpRIP2vylNV0PVE/aTum7souWD/At0SJ8fVgPw3Iuahxymc/MSNhhJWvcD/bTfBN02d3P2zb5nxnaoA/CD5h5MAGhz8NmeH1TyaQP+zrCsc9p5Y/LbKd76fGnz/bLW5ISEmmPww9YvTcQq8/JV2OstnstT8Er5Y7M8G+P0c+r3jqkcU/5h99k6ZBzj88bCIzFzjVP4enV8oyxN0//yH99nXg5D8qOpLLf0jtP5kqGJXUifQ/c9cS8kHP/D+/DpwzojQEQIEmwoanVwxA4lgXt9HgE0BSSZ2AJuIbQAMJih9jjiNA5q4l5INuK0AwTKYKRj0zQNv5fmq8/DpAaCJseHrtQkB/+zpwzoxKQM3MzMzMeFJAZmZmZmZqWEAAAAAAAFxeQM3MzMzMJmJAmpmZmZkfZUBmZmZmZhhoQDMzMzMzEWtAAAAAAAAKbkBmZmZmZoFwQM3MzMzM/XFAMzMzMzN6c0CamZmZmfZ0QAAAAAAAc3ZAZmZmZmbvd0DNzMzMzGt5QDMzMzMz6HpAmpmZmZlkfEAAAAAAAOF9QGZmZmZmXX9AZmZmZuZsgECamZmZGSuBQM3MzMxM6YFAAAAAAICngkAzMzMzs2WDQGZmZmbmI4RAmpmZmRnihEDNzMzMTKCFQAAAAACAXoZAMzMzM7Mch0BmZmZm5tqHQJqZmZkZmYhAzczMzExXiUAAAAAAgBWKQDMzMzOz04pAZmZmZuaRi0CamZmZGVCMQM3MzMxMDo1AAAAAAIDMjUAzMzMzs4qOQGZmZmbmSI9A\",\"dtype\":\"float64\",\"shape\":[75]}}},\"id\":\"9d0f9dbc-c252-45b9-b7af-ce3f8999ba08\",\"type\":\"ColumnDataSource\"},{\"attributes\":{},\"id\":\"77627dde-98d2-4329-896e-378bf9cb4490\",\"type\":\"ResetTool\"},{\"attributes\":{\"line_color\":\"#4daf4a\",\"line_width\":1.5,\"x\":{\"field\":\"x\"},\"y\":{\"field\":\"y\"}},\"id\":\"5fab8850-6dcc-4386-8181-0ea01a205f75\",\"type\":\"Line\"},{\"attributes\":{\"source\":{\"id\":\"918b6e11-8518-457f-9cd5-eddb8ff4c9b6\",\"type\":\"ColumnDataSource\"}},\"id\":\"aa27a2a3-4be6-434d-bafc-40406c282dbe\",\"type\":\"CDSView\"},{\"attributes\":{\"ticker\":null},\"id\":\"0d7c6b50-b466-4e1a-ab0c-a6cb4d128013\",\"type\":\"LogTickFormatter\"},{\"attributes\":{},\"id\":\"63666df2-8e86-4ee6-986a-428214397fc9\",\"type\":\"BasicTickFormatter\"},{\"attributes\":{\"data_source\":{\"id\":\"9d0f9dbc-c252-45b9-b7af-ce3f8999ba08\",\"type\":\"ColumnDataSource\"},\"glyph\":{\"id\":\"b1db04a2-d287-460d-a7e4-1c91eca7d57e\",\"type\":\"Line\"},\"hover_glyph\":null,\"muted_glyph\":null,\"nonselection_glyph\":{\"id\":\"0f733651-40b8-47bd-9be3-f87fc7fca383\",\"type\":\"Line\"},\"selection_glyph\":null,\"view\":{\"id\":\"4dc8f76f-fc6f-4e82-897f-f6f6d29462fd\",\"type\":\"CDSView\"}},\"id\":\"53edf1a3-d72f-479d-9ffb-34cea0b8e1af\",\"type\":\"GlyphRenderer\"},{\"attributes\":{\"dimension\":1,\"plot\":{\"id\":\"09317b99-d091-4e11-8552-147d32907c23\",\"subtype\":\"Figure\",\"type\":\"Plot\"},\"ticker\":{\"id\":\"8bff57a5-e5a4-408a-b893-f82e6a005470\",\"type\":\"BasicTicker\"}},\"id\":\"8dc833c7-8ae0-4b47-b999-4d9416cf3d85\",\"type\":\"Grid\"},{\"attributes\":{\"data_source\":{\"id\":\"0e9732ba-2d46-42fc-b625-75aaab5dfb42\",\"type\":\"ColumnDataSource\"},\"glyph\":{\"id\":\"25fe7a89-246d-4ae1-ab57-3d4ee7cc1222\",\"type\":\"Line\"},\"hover_glyph\":null,\"muted_glyph\":null,\"nonselection_glyph\":{\"id\":\"ddf63c79-9b72-41ce-a04e-8254606eb5da\",\"type\":\"Line\"},\"selection_glyph\":null,\"view\":{\"id\":\"5ced7c99-572b-4667-9a05-526bbec36d1e\",\"type\":\"CDSView\"}},\"id\":\"e885afb9-183e-45c9-91b0-f015f65a521c\",\"type\":\"GlyphRenderer\"},{\"attributes\":{},\"id\":\"b8f4cf9a-200c-440d-bf43-72a3b6c8d4aa\",\"type\":\"BasicTicker\"},{\"attributes\":{\"source\":{\"id\":\"ec042af5-d920-441d-a7de-79c11bce4ca7\",\"type\":\"ColumnDataSource\"}},\"id\":\"e932efbf-3d11-46a3-adeb-c23579c633f2\",\"type\":\"CDSView\"},{\"attributes\":{\"plot\":null,\"text\":\"Linear pressure scale\"},\"id\":\"cf8b4fbd-9e5d-4111-945b-efea4be2ac24\",\"type\":\"Title\"},{\"attributes\":{\"fill_alpha\":{\"value\":0.1},\"fill_color\":{\"value\":\"#1f77b4\"},\"line_alpha\":{\"value\":0.1},\"line_color\":{\"value\":\"#1f77b4\"},\"x\":{\"field\":\"x\"},\"y\":{\"field\":\"y\"}},\"id\":\"4bf424ef-dabf-4840-98a3-2d91a5b2e46a\",\"type\":\"Square\"},{\"attributes\":{\"below\":[{\"id\":\"ee9bac33-e28b-449a-a5e0-be301ace3969\",\"type\":\"LinearAxis\"}],\"left\":[{\"id\":\"9a9fd979-a6c9-4a8a-8c71-149c9d110db0\",\"type\":\"LinearAxis\"}],\"plot_height\":500,\"plot_width\":400,\"renderers\":[{\"id\":\"ee9bac33-e28b-449a-a5e0-be301ace3969\",\"type\":\"LinearAxis\"},{\"id\":\"13453629-ef5f-49bf-8a4d-5e3a7b6c3c1c\",\"type\":\"Grid\"},{\"id\":\"9a9fd979-a6c9-4a8a-8c71-149c9d110db0\",\"type\":\"LinearAxis\"},{\"id\":\"8dc833c7-8ae0-4b47-b999-4d9416cf3d85\",\"type\":\"Grid\"},{\"id\":\"e0ff0150-b12e-4b19-b71e-c0806fbe8ed1\",\"type\":\"BoxAnnotation\"},{\"id\":\"e885afb9-183e-45c9-91b0-f015f65a521c\",\"type\":\"GlyphRenderer\"},{\"id\":\"f7c0ae93-29e9-4481-940e-6e44ec12ebdd\",\"type\":\"GlyphRenderer\"},{\"id\":\"ac2ce46e-fa4e-48bf-adf7-a78be82dcbd9\",\"type\":\"GlyphRenderer\"},{\"id\":\"56e60614-d421-4bcf-a8b8-9ef82c890c8e\",\"type\":\"GlyphRenderer\"},{\"id\":\"b560e5dc-0c37-475e-8a8b-a975608e4b13\",\"type\":\"GlyphRenderer\"}],\"title\":{\"id\":\"cf8b4fbd-9e5d-4111-945b-efea4be2ac24\",\"type\":\"Title\"},\"toolbar\":{\"id\":\"b88e6bee-1e86-4087-9444-2f44897b3a6e\",\"type\":\"Toolbar\"},\"toolbar_location\":null,\"x_range\":{\"id\":\"23c479c7-d22e-4450-96da-64ecfda19d3c\",\"type\":\"Range1d\"},\"x_scale\":{\"id\":\"9a9e73c3-53cf-41a6-86b7-d591c98e1ab7\",\"type\":\"LinearScale\"},\"y_range\":{\"id\":\"7469d28f-ea58-477d-91f1-1001f1ed8009\",\"type\":\"Range1d\"},\"y_scale\":{\"id\":\"099f025d-e5ed-437d-b180-1b5fabc7d303\",\"type\":\"LinearScale\"}},\"id\":\"09317b99-d091-4e11-8552-147d32907c23\",\"subtype\":\"Figure\",\"type\":\"Plot\"},{\"attributes\":{\"callback\":null,\"column_names\":[\"x\",\"y\"],\"data\":{\"x\":{\"__ndarray__\":\"lAUCU7yAxz/MLUpcCdXKP57eOVKFmNE/E8RxxzhS1j/MlqyKcFPbP1eTCtdhVOA/hrDYLoYV4z8BMrYIc9jlP/kbSHJUieg/NJ5rDPgE6z/WdD3RdSHtPzAA4BrQue4/Z+Edpp6h7z/pt23nFCfvP4y5EFCGz+w/knFzx+6E6T86ie9hgjzmP7lG0/JmgeM/4hdFrFHR4T/96AbQEIrhP5JpI43A7uI/XKvBJCpO4j/ZM/i5qZrdP4tzDn37Y9c/WQIAMjrB0j/uiLeMowvOP6UbF8T2ycc/IleHL1Vhwz9XKE7F+PbAP6FRNryLvb0/sPZZYO16uD9vi70N7cCyP1LV8m07Ga8/WGf2JY1krj9Tted2UgavP0vv3vtiibA/3XGzDRYtsT/BYBOm40KwP3EtPCpcYa0/Gz2BJ2JOqj/V6ZEdUyunP8XEwBw4xaM/k0XZ3EoPoD+w4PPNelSXP4yAr40d+Yg/OoxZGKHdgj8w1sqTiheUP36sXH99OqE/rrWKDfz5qD+12WWze9awP8WIgQR+OrU/cbRueWh8uT+zyMBLune9P8yXeorahcA/w1foQUkawj8/w7xDYYLDP/PUl2OByMQ/mbagc47sxT8J88OtJ9/GPxhvEiCWj8c/IcEaiOH6xz++nxov3STIP57SXtCEHsg/rQPWYND4xz8vsjJUpMbHP3ONQ7sSmsc/87ufCQOFxz8w5hnB54PHP6m2xF/NYMc/H6a3Hgmkxj+VA6hvuuHEPxLR+Tq6W8I/OtQIYHd4vz8ksCBqLnm6P91D4wXoKbU/\",\"dtype\":\"float64\",\"shape\":[75]},\"y\":{\"__ndarray__\":\"GhExyth1ND/Sv8nbtpRIP2vylNV0PVE/aTum7souWD/At0SJ8fVgPw3Iuahxymc/MSNhhJWvcD/bTfBN02d3P2zb5nxnaoA/CD5h5MAGhz8NmeH1TyaQP+zrCsc9p5Y/LbKd76fGnz/bLW5ISEmmPww9YvTcQq8/JV2OstnstT8Er5Y7M8G+P0c+r3jqkcU/5h99k6ZBzj88bCIzFzjVP4enV8oyxN0//yH99nXg5D8qOpLLf0jtP5kqGJXUifQ/c9cS8kHP/D+/DpwzojQEQIEmwoanVwxA4lgXt9HgE0BSSZ2AJuIbQAMJih9jjiNA5q4l5INuK0AwTKYKRj0zQNv5fmq8/DpAaCJseHrtQkB/+zpwzoxKQM3MzMzMeFJAZmZmZmZqWEAAAAAAAFxeQM3MzMzMJmJAmpmZmZkfZUBmZmZmZhhoQDMzMzMzEWtAAAAAAAAKbkBmZmZmZoFwQM3MzMzM/XFAMzMzMzN6c0CamZmZmfZ0QAAAAAAAc3ZAZmZmZmbvd0DNzMzMzGt5QDMzMzMz6HpAmpmZmZlkfEAAAAAAAOF9QGZmZmZmXX9AZmZmZuZsgECamZmZGSuBQM3MzMxM6YFAAAAAAICngkAzMzMzs2WDQGZmZmbmI4RAmpmZmRnihEDNzMzMTKCFQAAAAACAXoZAMzMzM7Mch0BmZmZm5tqHQJqZmZkZmYhAzczMzExXiUAAAAAAgBWKQDMzMzOz04pAZmZmZuaRi0CamZmZGVCMQM3MzMxMDo1AAAAAAIDMjUAzMzMzs4qOQGZmZmbmSI9A\",\"dtype\":\"float64\",\"shape\":[75]}}},\"id\":\"937366bb-cafa-4afc-8fa2-0b96eae04298\",\"type\":\"ColumnDataSource\"},{\"attributes\":{\"source\":{\"id\":\"937366bb-cafa-4afc-8fa2-0b96eae04298\",\"type\":\"ColumnDataSource\"}},\"id\":\"87048f48-a48d-4e8f-93c3-9c5a3e077e31\",\"type\":\"CDSView\"},{\"attributes\":{\"num_minor_ticks\":10},\"id\":\"18884074-d8eb-41a2-b3ef-b0e43876db31\",\"type\":\"LogTicker\"},{\"attributes\":{\"bottom_units\":\"screen\",\"fill_alpha\":{\"value\":0.5},\"fill_color\":{\"value\":\"lightgrey\"},\"left_units\":\"screen\",\"level\":\"overlay\",\"line_alpha\":{\"value\":1.0},\"line_color\":{\"value\":\"black\"},\"line_dash\":[4,4],\"line_width\":{\"value\":2},\"plot\":null,\"render_mode\":\"css\",\"right_units\":\"screen\",\"top_units\":\"screen\"},\"id\":\"e0ff0150-b12e-4b19-b71e-c0806fbe8ed1\",\"type\":\"BoxAnnotation\"},{\"attributes\":{},\"id\":\"099f025d-e5ed-437d-b180-1b5fabc7d303\",\"type\":\"LinearScale\"},{\"attributes\":{},\"id\":\"13e01c4b-6b99-4867-9f58-f0a9a5ce6964\",\"type\":\"BasicTickFormatter\"},{\"attributes\":{\"plot\":{\"id\":\"09317b99-d091-4e11-8552-147d32907c23\",\"subtype\":\"Figure\",\"type\":\"Plot\"},\"ticker\":{\"id\":\"b8f4cf9a-200c-440d-bf43-72a3b6c8d4aa\",\"type\":\"BasicTicker\"}},\"id\":\"13453629-ef5f-49bf-8a4d-5e3a7b6c3c1c\",\"type\":\"Grid\"},{\"attributes\":{\"axis_label\":\"pressure [mb]\",\"formatter\":{\"id\":\"0d7c6b50-b466-4e1a-ab0c-a6cb4d128013\",\"type\":\"LogTickFormatter\"},\"plot\":{\"id\":\"7f041c18-b263-4b26-a491-b3c03066bb59\",\"subtype\":\"Figure\",\"type\":\"Plot\"},\"ticker\":{\"id\":\"18884074-d8eb-41a2-b3ef-b0e43876db31\",\"type\":\"LogTicker\"}},\"id\":\"1f22ed8f-0618-4712-9f64-efa9a82786fb\",\"type\":\"LogAxis\"},{\"attributes\":{},\"id\":\"78271318-268a-4165-92ba-4813257e2bb0\",\"type\":\"WheelZoomTool\"},{\"attributes\":{\"axis_label\":\"pressure [mb]\",\"formatter\":{\"id\":\"13e01c4b-6b99-4867-9f58-f0a9a5ce6964\",\"type\":\"BasicTickFormatter\"},\"plot\":{\"id\":\"09317b99-d091-4e11-8552-147d32907c23\",\"subtype\":\"Figure\",\"type\":\"Plot\"},\"ticker\":{\"id\":\"8bff57a5-e5a4-408a-b893-f82e6a005470\",\"type\":\"BasicTicker\"}},\"id\":\"9a9fd979-a6c9-4a8a-8c71-149c9d110db0\",\"type\":\"LinearAxis\"},{\"attributes\":{\"overlay\":{\"id\":\"e0ff0150-b12e-4b19-b71e-c0806fbe8ed1\",\"type\":\"BoxAnnotation\"}},\"id\":\"ee6d938d-351c-4ed5-a2c9-def68778fb76\",\"type\":\"BoxZoomTool\"},{\"attributes\":{},\"id\":\"8bff57a5-e5a4-408a-b893-f82e6a005470\",\"type\":\"BasicTicker\"},{\"attributes\":{\"data_source\":{\"id\":\"937366bb-cafa-4afc-8fa2-0b96eae04298\",\"type\":\"ColumnDataSource\"},\"glyph\":{\"id\":\"e3530f67-f3b0-415f-a08f-442587e53af3\",\"type\":\"Square\"},\"hover_glyph\":null,\"muted_glyph\":null,\"nonselection_glyph\":{\"id\":\"4bf424ef-dabf-4840-98a3-2d91a5b2e46a\",\"type\":\"Square\"},\"selection_glyph\":null,\"view\":{\"id\":\"87048f48-a48d-4e8f-93c3-9c5a3e077e31\",\"type\":\"CDSView\"}},\"id\":\"56e60614-d421-4bcf-a8b8-9ef82c890c8e\",\"type\":\"GlyphRenderer\"},{\"attributes\":{},\"id\":\"b3177279-8dad-4651-b5ed-572a4a3ab3ad\",\"type\":\"ResetTool\"},{\"attributes\":{\"fill_alpha\":{\"value\":0.7},\"fill_color\":{\"value\":\"#984ea3\"},\"line_alpha\":{\"value\":0.7},\"line_color\":{\"value\":\"#984ea3\"},\"x\":{\"field\":\"x\"},\"y\":{\"field\":\"y\"}},\"id\":\"e3530f67-f3b0-415f-a08f-442587e53af3\",\"type\":\"Square\"},{\"attributes\":{},\"id\":\"9a9e73c3-53cf-41a6-86b7-d591c98e1ab7\",\"type\":\"LinearScale\"},{\"attributes\":{\"axis_label\":\"cooling rate [K/day]\",\"formatter\":{\"id\":\"63666df2-8e86-4ee6-986a-428214397fc9\",\"type\":\"BasicTickFormatter\"},\"plot\":{\"id\":\"09317b99-d091-4e11-8552-147d32907c23\",\"subtype\":\"Figure\",\"type\":\"Plot\"},\"ticker\":{\"id\":\"b8f4cf9a-200c-440d-bf43-72a3b6c8d4aa\",\"type\":\"BasicTicker\"}},\"id\":\"ee9bac33-e28b-449a-a5e0-be301ace3969\",\"type\":\"LinearAxis\"},{\"attributes\":{},\"id\":\"9891a9c8-3690-4f2e-9bb7-8c742b3a5688\",\"type\":\"SaveTool\"},{\"attributes\":{\"active_drag\":\"auto\",\"active_inspect\":\"auto\",\"active_scroll\":\"auto\",\"active_tap\":\"auto\",\"tools\":[{\"id\":\"27da8c77-29a3-4e76-ae5f-4aec9b201fe7\",\"type\":\"PanTool\"},{\"id\":\"78271318-268a-4165-92ba-4813257e2bb0\",\"type\":\"WheelZoomTool\"},{\"id\":\"ee6d938d-351c-4ed5-a2c9-def68778fb76\",\"type\":\"BoxZoomTool\"},{\"id\":\"9891a9c8-3690-4f2e-9bb7-8c742b3a5688\",\"type\":\"SaveTool\"},{\"id\":\"b3177279-8dad-4651-b5ed-572a4a3ab3ad\",\"type\":\"ResetTool\"},{\"id\":\"5ceab648-8a35-4d1e-8a8f-36f49cf0d430\",\"type\":\"HelpTool\"}]},\"id\":\"b88e6bee-1e86-4087-9444-2f44897b3a6e\",\"type\":\"Toolbar\"},{\"attributes\":{},\"id\":\"27da8c77-29a3-4e76-ae5f-4aec9b201fe7\",\"type\":\"PanTool\"}],\"root_ids\":[\"52392eff-2ab6-4330-afc6-d89be7b83b82\"]},\"title\":\"Bokeh Application\",\"version\":\"0.12.14\"}};\n",
       "  var render_items = [{\"docid\":\"2c697a22-3696-4d0c-b7ed-538fcdba72d3\",\"elementid\":\"d746c22b-4457-4554-b1e8-25073664bbdc\",\"modelid\":\"52392eff-2ab6-4330-afc6-d89be7b83b82\"}];\n",
       "  root.Bokeh.embed.embed_items_notebook(docs_json, render_items);\n",
       "\n",
       "  }\n",
       "  if (root.Bokeh !== undefined) {\n",
       "    embed_document(root);\n",
       "  } else {\n",
       "    var attempts = 0;\n",
       "    var timer = setInterval(function(root) {\n",
       "      if (root.Bokeh !== undefined) {\n",
       "        embed_document(root);\n",
       "        clearInterval(timer);\n",
       "      }\n",
       "      attempts++;\n",
       "      if (attempts > 100) {\n",
       "        console.log(\"Bokeh: ERROR: Unable to run BokehJS code because BokehJS library is missing\")\n",
       "        clearInterval(timer);\n",
       "      }\n",
       "    }, 10, root)\n",
       "  }\n",
       "})(window);"
      ],
      "application/vnd.bokehjs_exec.v0+json": ""
     },
     "metadata": {
      "application/vnd.bokehjs_exec.v0+json": {
       "id": "52392eff-2ab6-4330-afc6-d89be7b83b82"
      }
     },
     "output_type": "display_data"
    },
    {
     "name": "stdout",
     "output_type": "stream",
     "text": [
      "FIGURE. Cooling rate profiles.\n"
     ]
    },
    {
     "data": {
      "text/html": [
       "<a id=\"Flux_Comparison\"></a>"
      ],
      "text/plain": [
       "<IPython.core.display.HTML object>"
      ]
     },
     "metadata": {},
     "output_type": "display_data"
    },
    {
     "data": {
      "text/markdown": [
       "# Flux Comparison"
      ],
      "text/plain": [
       "<IPython.core.display.Markdown object>"
      ]
     },
     "metadata": {},
     "output_type": "display_data"
    },
    {
     "data": {
      "text/html": [
       "<div>\n",
       "<style>\n",
       "    .dataframe thead tr:only-child th {\n",
       "        text-align: right;\n",
       "    }\n",
       "\n",
       "    .dataframe thead th {\n",
       "        text-align: left;\n",
       "    }\n",
       "\n",
       "    .dataframe tbody tr th {\n",
       "        vertical-align: top;\n",
       "    }\n",
       "</style>\n",
       "<table border=\"1\" class=\"dataframe\">\n",
       "  <thead>\n",
       "    <tr style=\"text-align: right;\">\n",
       "      <th></th>\n",
       "      <th></th>\n",
       "      <th>flug</th>\n",
       "      <th>fldg</th>\n",
       "      <th>fnetg</th>\n",
       "    </tr>\n",
       "    <tr>\n",
       "      <th>pressure</th>\n",
       "      <th>level</th>\n",
       "      <th></th>\n",
       "      <th></th>\n",
       "      <th></th>\n",
       "    </tr>\n",
       "  </thead>\n",
       "  <tbody>\n",
       "    <tr>\n",
       "      <th>0.0000</th>\n",
       "      <th>1</th>\n",
       "      <td>-19.649536</td>\n",
       "      <td>0.000000</td>\n",
       "      <td>-19.649536</td>\n",
       "    </tr>\n",
       "    <tr>\n",
       "      <th>1.0685</th>\n",
       "      <th>24</th>\n",
       "      <td>-19.634852</td>\n",
       "      <td>0.057933</td>\n",
       "      <td>-19.576918</td>\n",
       "    </tr>\n",
       "    <tr>\n",
       "      <th>1013.0000</th>\n",
       "      <th>76</th>\n",
       "      <td>-23.591138</td>\n",
       "      <td>17.313984</td>\n",
       "      <td>-6.277154</td>\n",
       "    </tr>\n",
       "  </tbody>\n",
       "</table>\n",
       "</div>"
      ],
      "text/plain": [
       "                      flug       fldg      fnetg\n",
       "pressure  level                                 \n",
       "0.0000    1     -19.649536   0.000000 -19.649536\n",
       "1.0685    24    -19.634852   0.057933 -19.576918\n",
       "1013.0000 76    -23.591138  17.313984  -6.277154"
      ]
     },
     "metadata": {},
     "output_type": "display_data"
    },
    {
     "name": "stdout",
     "output_type": "stream",
     "text": [
      "Table. Fluxes. WGT igg=10 wgt_flux=1\n"
     ]
    },
    {
     "data": {
      "text/html": [
       "<div>\n",
       "<style>\n",
       "    .dataframe thead tr:only-child th {\n",
       "        text-align: right;\n",
       "    }\n",
       "\n",
       "    .dataframe thead th {\n",
       "        text-align: left;\n",
       "    }\n",
       "\n",
       "    .dataframe tbody tr th {\n",
       "        vertical-align: top;\n",
       "    }\n",
       "</style>\n",
       "<table border=\"1\" class=\"dataframe\">\n",
       "  <thead>\n",
       "    <tr style=\"text-align: right;\">\n",
       "      <th></th>\n",
       "      <th></th>\n",
       "      <th>flug</th>\n",
       "      <th>fldg</th>\n",
       "      <th>fnetg</th>\n",
       "    </tr>\n",
       "    <tr>\n",
       "      <th>pressure</th>\n",
       "      <th>level</th>\n",
       "      <th></th>\n",
       "      <th></th>\n",
       "      <th></th>\n",
       "    </tr>\n",
       "  </thead>\n",
       "  <tbody>\n",
       "    <tr>\n",
       "      <th>0.0000</th>\n",
       "      <th>1</th>\n",
       "      <td>-19.706173</td>\n",
       "      <td>0.000000</td>\n",
       "      <td>-19.706173</td>\n",
       "    </tr>\n",
       "    <tr>\n",
       "      <th>1.0685</th>\n",
       "      <th>24</th>\n",
       "      <td>-19.690942</td>\n",
       "      <td>0.062001</td>\n",
       "      <td>-19.628941</td>\n",
       "    </tr>\n",
       "    <tr>\n",
       "      <th>1013.0000</th>\n",
       "      <th>76</th>\n",
       "      <td>-23.591138</td>\n",
       "      <td>17.722380</td>\n",
       "      <td>-5.868758</td>\n",
       "    </tr>\n",
       "  </tbody>\n",
       "</table>\n",
       "</div>"
      ],
      "text/plain": [
       "                      flug       fldg      fnetg\n",
       "pressure  level                                 \n",
       "0.0000    1     -19.706173   0.000000 -19.706173\n",
       "1.0685    24    -19.690942   0.062001 -19.628941\n",
       "1013.0000 76    -23.591138  17.722380  -5.868758"
      ]
     },
     "metadata": {},
     "output_type": "display_data"
    },
    {
     "name": "stdout",
     "output_type": "stream",
     "text": [
      "Table. Fluxes. CRD\n"
     ]
    },
    {
     "data": {
      "text/html": [
       "<div>\n",
       "<style>\n",
       "    .dataframe thead tr:only-child th {\n",
       "        text-align: right;\n",
       "    }\n",
       "\n",
       "    .dataframe thead th {\n",
       "        text-align: left;\n",
       "    }\n",
       "\n",
       "    .dataframe tbody tr th {\n",
       "        vertical-align: top;\n",
       "    }\n",
       "</style>\n",
       "<table border=\"1\" class=\"dataframe\">\n",
       "  <thead>\n",
       "    <tr style=\"text-align: right;\">\n",
       "      <th></th>\n",
       "      <th></th>\n",
       "      <th>flug</th>\n",
       "      <th>fldg</th>\n",
       "      <th>fnetg</th>\n",
       "    </tr>\n",
       "    <tr>\n",
       "      <th>pressure</th>\n",
       "      <th>level</th>\n",
       "      <th></th>\n",
       "      <th></th>\n",
       "      <th></th>\n",
       "    </tr>\n",
       "  </thead>\n",
       "  <tbody>\n",
       "    <tr>\n",
       "      <th>1.000000e-08</th>\n",
       "      <th>1</th>\n",
       "      <td>-19.771152</td>\n",
       "      <td>0.000002</td>\n",
       "      <td>-19.771149</td>\n",
       "    </tr>\n",
       "    <tr>\n",
       "      <th>1.068500e+00</th>\n",
       "      <th>24</th>\n",
       "      <td>-19.756753</td>\n",
       "      <td>0.055127</td>\n",
       "      <td>-19.701627</td>\n",
       "    </tr>\n",
       "    <tr>\n",
       "      <th>1.013000e+03</th>\n",
       "      <th>76</th>\n",
       "      <td>-23.591140</td>\n",
       "      <td>17.209628</td>\n",
       "      <td>-6.381512</td>\n",
       "    </tr>\n",
       "  </tbody>\n",
       "</table>\n",
       "</div>"
      ],
      "text/plain": [
       "                         flug       fldg      fnetg\n",
       "pressure     level                                 \n",
       "1.000000e-08 1     -19.771152   0.000002 -19.771149\n",
       "1.068500e+00 24    -19.756753   0.055127 -19.701627\n",
       "1.013000e+03 76    -23.591140  17.209628  -6.381512"
      ]
     },
     "metadata": {},
     "output_type": "display_data"
    },
    {
     "name": "stdout",
     "output_type": "stream",
     "text": [
      "Table. Fluxes. CLIRAD\n"
     ]
    },
    {
     "data": {
      "text/html": [
       "<div>\n",
       "<style>\n",
       "    .dataframe thead tr:only-child th {\n",
       "        text-align: right;\n",
       "    }\n",
       "\n",
       "    .dataframe thead th {\n",
       "        text-align: left;\n",
       "    }\n",
       "\n",
       "    .dataframe tbody tr th {\n",
       "        vertical-align: top;\n",
       "    }\n",
       "</style>\n",
       "<table border=\"1\" class=\"dataframe\">\n",
       "  <thead>\n",
       "    <tr style=\"text-align: right;\">\n",
       "      <th></th>\n",
       "      <th></th>\n",
       "      <th>flug</th>\n",
       "      <th>fldg</th>\n",
       "      <th>fnetg</th>\n",
       "    </tr>\n",
       "    <tr>\n",
       "      <th>pressure</th>\n",
       "      <th>level</th>\n",
       "      <th></th>\n",
       "      <th></th>\n",
       "      <th></th>\n",
       "    </tr>\n",
       "  </thead>\n",
       "  <tbody>\n",
       "    <tr>\n",
       "      <th>0.0000</th>\n",
       "      <th>1</th>\n",
       "      <td>-0.056637</td>\n",
       "      <td>0.000000</td>\n",
       "      <td>-0.056637</td>\n",
       "    </tr>\n",
       "    <tr>\n",
       "      <th>1.0685</th>\n",
       "      <th>24</th>\n",
       "      <td>-0.056090</td>\n",
       "      <td>0.004068</td>\n",
       "      <td>-0.052023</td>\n",
       "    </tr>\n",
       "    <tr>\n",
       "      <th>1013.0000</th>\n",
       "      <th>76</th>\n",
       "      <td>0.000000</td>\n",
       "      <td>0.408396</td>\n",
       "      <td>0.408396</td>\n",
       "    </tr>\n",
       "  </tbody>\n",
       "</table>\n",
       "</div>"
      ],
      "text/plain": [
       "                     flug      fldg     fnetg\n",
       "pressure  level                              \n",
       "0.0000    1     -0.056637  0.000000 -0.056637\n",
       "1.0685    24    -0.056090  0.004068 -0.052023\n",
       "1013.0000 76     0.000000  0.408396  0.408396"
      ]
     },
     "metadata": {},
     "output_type": "display_data"
    },
    {
     "name": "stdout",
     "output_type": "stream",
     "text": [
      "Table. Fluxes. (CRD) - (WGT igg=10 wgt_flux=1)\n"
     ]
    },
    {
     "data": {
      "text/html": [
       "<div>\n",
       "<style>\n",
       "    .dataframe thead tr:only-child th {\n",
       "        text-align: right;\n",
       "    }\n",
       "\n",
       "    .dataframe thead th {\n",
       "        text-align: left;\n",
       "    }\n",
       "\n",
       "    .dataframe tbody tr th {\n",
       "        vertical-align: top;\n",
       "    }\n",
       "</style>\n",
       "<table border=\"1\" class=\"dataframe\">\n",
       "  <thead>\n",
       "    <tr style=\"text-align: right;\">\n",
       "      <th></th>\n",
       "      <th></th>\n",
       "      <th>flug</th>\n",
       "      <th>fldg</th>\n",
       "      <th>fnetg</th>\n",
       "    </tr>\n",
       "    <tr>\n",
       "      <th>pressure</th>\n",
       "      <th>level</th>\n",
       "      <th></th>\n",
       "      <th></th>\n",
       "      <th></th>\n",
       "    </tr>\n",
       "  </thead>\n",
       "  <tbody>\n",
       "    <tr>\n",
       "      <th>0.0000</th>\n",
       "      <th>1</th>\n",
       "      <td>-0.121616</td>\n",
       "      <td>0.000002</td>\n",
       "      <td>-0.121613</td>\n",
       "    </tr>\n",
       "    <tr>\n",
       "      <th>1.0685</th>\n",
       "      <th>24</th>\n",
       "      <td>-0.121901</td>\n",
       "      <td>-0.002807</td>\n",
       "      <td>-0.124709</td>\n",
       "    </tr>\n",
       "    <tr>\n",
       "      <th>1013.0000</th>\n",
       "      <th>76</th>\n",
       "      <td>-0.000002</td>\n",
       "      <td>-0.104356</td>\n",
       "      <td>-0.104358</td>\n",
       "    </tr>\n",
       "  </tbody>\n",
       "</table>\n",
       "</div>"
      ],
      "text/plain": [
       "                     flug      fldg     fnetg\n",
       "pressure  level                              \n",
       "0.0000    1     -0.121616  0.000002 -0.121613\n",
       "1.0685    24    -0.121901 -0.002807 -0.124709\n",
       "1013.0000 76    -0.000002 -0.104356 -0.104358"
      ]
     },
     "metadata": {},
     "output_type": "display_data"
    },
    {
     "name": "stdout",
     "output_type": "stream",
     "text": [
      "Table. Fluxes. (CLIRAD) - (WGT igg=10 wgt_flux=1)\n"
     ]
    },
    {
     "data": {
      "text/html": [
       "<a id=\"Best-fit_Parameters\"></a>"
      ],
      "text/plain": [
       "<IPython.core.display.HTML object>"
      ]
     },
     "metadata": {},
     "output_type": "display_data"
    },
    {
     "data": {
      "text/markdown": [
       "# Best-fit Parameters"
      ],
      "text/plain": [
       "<IPython.core.display.Markdown object>"
      ]
     },
     "metadata": {},
     "output_type": "display_data"
    },
    {
     "name": "stdout",
     "output_type": "stream",
     "text": [
      "Best-fit values for each (gas, band)\n",
      "------------------------------------\n",
      "o co2 band3a\n",
      "  atmpro = mls\n",
      "  band = 3a\n",
      "  commitnumber = 2bd1f75\n",
      "  conc = 0.0004\n",
      "  dv = 0.01\n",
      "  klin = 6.375563e-24\n",
      "  molecule = co2\n",
      "  ng_adju = [0, 0, 0]\n",
      "  ng_refs = [3, 2, 4]\n",
      "  nv = 100\n",
      "  option_compute_btable = 0\n",
      "  option_compute_ktable = 1\n",
      "  option_wgt_flux = 1\n",
      "  option_wgt_k = 1\n",
      "  ref_pts = [(1, 250), (10, 250), (500, 250)]\n",
      "  tsfc = 294\n",
      "  vmax = 620\n",
      "  vmin = 540\n",
      "  w_diffuse = [(1.6, 1.6, 1.7), (1.75, 1.75), (1.55, 1.55, 1.6, 1.85)]\n",
      "  wgt = [(0.7, 0.3, 0.7), (0.7, 0.6), (0.4, 0.5, 0.8, 0.95)]\n",
      "o h2o band3a\n",
      "  atmpro = mls\n",
      "  band = 3a\n",
      "  commitnumber = 2bd1f75\n",
      "  conc = None\n",
      "  dv = 0.01\n",
      "  klin = 0\n",
      "  molecule = h2o\n",
      "  ng_adju = [0, 0]\n",
      "  ng_refs = [2, 6]\n",
      "  nv = 100\n",
      "  option_compute_btable = 0\n",
      "  option_compute_ktable = 1\n",
      "  option_wgt_flux = 1\n",
      "  option_wgt_k = 1\n",
      "  ref_pts = [(10, 250), (600, 250)]\n",
      "  tsfc = 294\n",
      "  vmax = 620\n",
      "  vmin = 540\n",
      "  w_diffuse = [(1.9, 1.7), (1.4, 1.4, 1.4, 1.55, 1.6, 1.66)]\n",
      "  wgt = [(0.7, 0.7), (0.7, 0.5, 0.5, 0.5, 0.5, 0.5)]\n",
      "o n2o band3a\n",
      "  atmpro = mls\n",
      "  band = 3a\n",
      "  commitnumber = 2bd1f75\n",
      "  conc = 3.2e-07\n",
      "  dv = 0.01\n",
      "  klin = 2.22e-20\n",
      "  molecule = n2o\n",
      "  ng_adju = [0, 0]\n",
      "  ng_refs = [1, 2]\n",
      "  nv = 100\n",
      "  option_compute_btable = 0\n",
      "  option_compute_ktable = 1\n",
      "  option_wgt_flux = 1\n",
      "  option_wgt_k = 1\n",
      "  ref_pts = [(1, 250), (500, 250)]\n",
      "  tsfc = 294\n",
      "  vmax = 620\n",
      "  vmin = 540\n",
      "  w_diffuse = [(1.8,), (1.66, 1.8)]\n",
      "  wgt = [(0.9,), (0.5, 0.95)]\n"
     ]
    }
   ],
   "source": [
    "script()"
   ]
  },
  {
   "cell_type": "code",
   "execution_count": 13,
   "metadata": {
    "collapsed": true
   },
   "outputs": [
    {
     "data": {
      "text/html": [
       "<script>\n",
       "code_show=true; \n",
       "function code_toggle() {\n",
       " if (code_show){\n",
       " $('div.input').hide();\n",
       " } else {\n",
       " $('div.input').show();\n",
       " }\n",
       " code_show = !code_show\n",
       "} \n",
       "$( document ).ready(code_toggle);\n",
       "</script>\n",
       "<form action=\"javascript:code_toggle()\"><input type=\"submit\" value=\"Click here to toggle on/off the raw code.\"></form>"
      ],
      "text/plain": [
       "<IPython.core.display.HTML object>"
      ]
     },
     "execution_count": 13,
     "metadata": {},
     "output_type": "execute_result"
    }
   ],
   "source": [
    "display.HTML('''<script>\n",
    "code_show=true; \n",
    "function code_toggle() {\n",
    " if (code_show){\n",
    " $('div.input').hide();\n",
    " } else {\n",
    " $('div.input').show();\n",
    " }\n",
    " code_show = !code_show\n",
    "} \n",
    "$( document ).ready(code_toggle);\n",
    "</script>\n",
    "<form action=\"javascript:code_toggle()\"><input type=\"submit\" value=\"Click here to toggle on/off the raw code.\"></form>''')"
   ]
  }
 ],
 "metadata": {
  "kernelspec": {
   "display_name": "Python 3",
   "language": "python",
   "name": "python3"
  },
  "language_info": {
   "codemirror_mode": {
    "name": "ipython",
    "version": 3
   },
   "file_extension": ".py",
   "mimetype": "text/x-python",
   "name": "python",
   "nbconvert_exporter": "python",
   "pygments_lexer": "ipython3",
   "version": "3.6.1"
  }
 },
 "nbformat": 4,
 "nbformat_minor": 2
}
