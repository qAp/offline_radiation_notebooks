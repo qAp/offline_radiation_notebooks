{
 "cells": [
  {
   "cell_type": "code",
   "execution_count": 1,
   "metadata": {
    "collapsed": true
   },
   "outputs": [
    {
     "name": "stdout",
     "output_type": "stream",
     "text": [
      "The history saving thread hit an unexpected error (OperationalError('database is locked',)).History will not be written to the database.\n"
     ]
    }
   ],
   "source": [
    "%matplotlib inline\n",
    "import os\n",
    "import re\n",
    "import io\n",
    "import itertools\n",
    "import pprint\n",
    "\n",
    "from bokeh.io import output_notebook, show\n",
    "from bokeh.layouts import gridplot\n",
    "from bokeh.plotting import figure\n",
    "from bokeh.models import Range1d, Legend\n",
    "from bokeh.palettes import all_palettes\n",
    "\n",
    "import matplotlib\n",
    "import matplotlib.pyplot as plt\n",
    "import numpy as np\n",
    "import pandas as pd\n",
    "import xarray as xr\n",
    "\n",
    "import climatools.lblnew.bestfit_params as bestfits\n",
    "from climatools.lblnew import setup_bestfit, setup_overlap\n",
    "import climatools.lblnew.pipeline as pipe_lblnew\n",
    "import climatools.cliradlw.setup as setup_cliradlw\n",
    "import climatools.cliradlw.pipeline as pipe_cliradlw\n",
    "\n",
    "import climatools.html.html as climahtml\n",
    "from climatools.lblnew.dataio import *\n",
    "from climatools.plot.plot import *\n",
    "\n",
    "\n",
    "import IPython.display as display"
   ]
  },
  {
   "cell_type": "code",
   "execution_count": 2,
   "metadata": {
    "collapsed": true
   },
   "outputs": [],
   "source": [
    "%run param.py"
   ]
  },
  {
   "cell_type": "code",
   "execution_count": 3,
   "metadata": {
    "collapsed": true
   },
   "outputs": [],
   "source": [
    "def load_output_file(path_csv):\n",
    "    '''\n",
    "    Load lblnew output .csv file to xarray.Dataset\n",
    "    \n",
    "    Parameters\n",
    "    ----------\n",
    "    path_csv: str\n",
    "              Path to the .csv file to be loaded.\n",
    "    ds: xarray.Dataset\n",
    "        Data in the input file in the form of an xarray.Dataset.\n",
    "    '''\n",
    "    toindex = ['band', 'pressure', 'igg', 'g']    \n",
    "    df = pd.read_csv(path_csv, sep=r'\\s+')\n",
    "    df = df.set_index([i for i in toindex if i in df.columns])\n",
    "    df = df.rename(columns={'sfu': 'flug',\n",
    "                            'sfd': 'fldg',\n",
    "                            'fnet': 'fnetg',\n",
    "                            'coolr': 'coolrg'})\n",
    "    ds = xr.Dataset.from_dataframe(df)\n",
    "\n",
    "    for l in ('level', 'layer'):\n",
    "        if l in ds.data_vars:\n",
    "            if len(ds[l].dims) > 1:\n",
    "                surface = {d: 0 for d in ds.dims if d != 'pressure'}\n",
    "                coord_level = ds[l][surface]\n",
    "                ds.coords[l] = ('pressure', coord_level)\n",
    "            else:\n",
    "                ds.coords[l] = ('pressure', ds[l])\n",
    "    \n",
    "    return ds"
   ]
  },
  {
   "cell_type": "code",
   "execution_count": 4,
   "metadata": {
    "collapsed": true
   },
   "outputs": [],
   "source": [
    "def lblnew_setup(param=None):\n",
    "    if 'ng_refs' in param:\n",
    "        return {'setup': setup_bestfit,\n",
    "                'fname_flux_crd': 'output_flux.dat',\n",
    "                'fname_cool_crd': 'output_coolr.dat',\n",
    "                'fname_flux_wgt': 'output_wfluxg.dat',\n",
    "                'fname_cool_wgt': 'output_wcoolrg.dat'}\n",
    "    else:\n",
    "        return {'setup': setup_overlap,\n",
    "                'fname_flux_crd': 'output_flux.dat',\n",
    "                'fname_cool_crd': 'output_coolr.dat',\n",
    "                'fname_flux_wgt': 'output_wflux.dat',\n",
    "                'fname_cool_wgt': 'output_wcoolr.dat'}\n",
    "\n",
    "    \n",
    "def load_lblnew_data(param):\n",
    "    \n",
    "    fname_dsname = [('fname_flux_crd', 'ds_flux_crd'),\n",
    "                    ('fname_cool_crd', 'ds_cool_crd'),\n",
    "                    ('fname_flux_wgt', 'ds_flux_wgt'),\n",
    "                    ('fname_cool_wgt', 'ds_cool_wgt')]\n",
    "    \n",
    "    d = lblnew_setup(param)\n",
    "    dir_fortran = pipe_lblnew.get_dir_case(param, setup=d['setup'])\n",
    "    \n",
    "    data_dict = {}\n",
    "    for fname, dsname in fname_dsname:\n",
    "        fpath = os.path.join(dir_fortran, d[fname])\n",
    "        data_dict[dsname] = load_output_file(fpath)\n",
    "    return data_dict\n",
    "    \n",
    "\n",
    "    \n",
    "    "
   ]
  },
  {
   "cell_type": "code",
   "execution_count": 5,
   "metadata": {
    "collapsed": true
   },
   "outputs": [],
   "source": [
    "d = load_lblnew_data(PARAM_LBLNEW)\n",
    "\n",
    "DS_FLUX_CRD = d['ds_flux_crd']\n",
    "DS_COOL_CRD = d['ds_cool_crd']\n",
    "DS_FLUX_WGT = d['ds_flux_wgt']\n",
    "DS_COOL_WGT = d['ds_cool_wgt']"
   ]
  },
  {
   "cell_type": "code",
   "execution_count": 6,
   "metadata": {
    "collapsed": true
   },
   "outputs": [],
   "source": [
    "DIR_FORTRAN = pipe_cliradlw.get_fortran_dir(PARAM, \n",
    "                                            setup=setup_cliradlw)\n",
    "\n",
    "PATH_FLUX = os.path.join(DIR_FORTRAN, 'output_flux.dat')\n",
    "PATH_COOL = os.path.join(DIR_FORTRAN, 'output_coolr.dat')\n",
    "\n",
    "DS_FLUX = load_output_file(PATH_FLUX)\n",
    "DS_COOL = load_output_file(PATH_COOL)"
   ]
  },
  {
   "cell_type": "code",
   "execution_count": 7,
   "metadata": {
    "collapsed": true
   },
   "outputs": [
    {
     "data": {
      "text/html": [
       "\n",
       "    <div class=\"bk-root\">\n",
       "        <a href=\"https://bokeh.pydata.org\" target=\"_blank\" class=\"bk-logo bk-logo-small bk-logo-notebook\"></a>\n",
       "        <span id=\"6d3e7949-c809-423d-95a4-01a5e2bb1e03\">Loading BokehJS ...</span>\n",
       "    </div>"
      ]
     },
     "metadata": {},
     "output_type": "display_data"
    },
    {
     "data": {
      "application/javascript": [
       "\n",
       "(function(root) {\n",
       "  function now() {\n",
       "    return new Date();\n",
       "  }\n",
       "\n",
       "  var force = true;\n",
       "\n",
       "  if (typeof (root._bokeh_onload_callbacks) === \"undefined\" || force === true) {\n",
       "    root._bokeh_onload_callbacks = [];\n",
       "    root._bokeh_is_loading = undefined;\n",
       "  }\n",
       "\n",
       "  var JS_MIME_TYPE = 'application/javascript';\n",
       "  var HTML_MIME_TYPE = 'text/html';\n",
       "  var EXEC_MIME_TYPE = 'application/vnd.bokehjs_exec.v0+json';\n",
       "  var CLASS_NAME = 'output_bokeh rendered_html';\n",
       "\n",
       "  /**\n",
       "   * Render data to the DOM node\n",
       "   */\n",
       "  function render(props, node) {\n",
       "    var script = document.createElement(\"script\");\n",
       "    node.appendChild(script);\n",
       "  }\n",
       "\n",
       "  /**\n",
       "   * Handle when an output is cleared or removed\n",
       "   */\n",
       "  function handleClearOutput(event, handle) {\n",
       "    var cell = handle.cell;\n",
       "\n",
       "    var id = cell.output_area._bokeh_element_id;\n",
       "    var server_id = cell.output_area._bokeh_server_id;\n",
       "    // Clean up Bokeh references\n",
       "    if (id !== undefined) {\n",
       "      Bokeh.index[id].model.document.clear();\n",
       "      delete Bokeh.index[id];\n",
       "    }\n",
       "\n",
       "    if (server_id !== undefined) {\n",
       "      // Clean up Bokeh references\n",
       "      var cmd = \"from bokeh.io.state import curstate; print(curstate().uuid_to_server['\" + server_id + \"'].get_sessions()[0].document.roots[0]._id)\";\n",
       "      cell.notebook.kernel.execute(cmd, {\n",
       "        iopub: {\n",
       "          output: function(msg) {\n",
       "            var element_id = msg.content.text.trim();\n",
       "            Bokeh.index[element_id].model.document.clear();\n",
       "            delete Bokeh.index[element_id];\n",
       "          }\n",
       "        }\n",
       "      });\n",
       "      // Destroy server and session\n",
       "      var cmd = \"import bokeh.io.notebook as ion; ion.destroy_server('\" + server_id + \"')\";\n",
       "      cell.notebook.kernel.execute(cmd);\n",
       "    }\n",
       "  }\n",
       "\n",
       "  /**\n",
       "   * Handle when a new output is added\n",
       "   */\n",
       "  function handleAddOutput(event, handle) {\n",
       "    var output_area = handle.output_area;\n",
       "    var output = handle.output;\n",
       "\n",
       "    // limit handleAddOutput to display_data with EXEC_MIME_TYPE content only\n",
       "    if ((output.output_type != \"display_data\") || (!output.data.hasOwnProperty(EXEC_MIME_TYPE))) {\n",
       "      return\n",
       "    }\n",
       "\n",
       "    var toinsert = output_area.element.find(\".\" + CLASS_NAME.split(' ')[0]);\n",
       "\n",
       "    if (output.metadata[EXEC_MIME_TYPE][\"id\"] !== undefined) {\n",
       "      toinsert[0].firstChild.textContent = output.data[JS_MIME_TYPE];\n",
       "      // store reference to embed id on output_area\n",
       "      output_area._bokeh_element_id = output.metadata[EXEC_MIME_TYPE][\"id\"];\n",
       "    }\n",
       "    if (output.metadata[EXEC_MIME_TYPE][\"server_id\"] !== undefined) {\n",
       "      var bk_div = document.createElement(\"div\");\n",
       "      bk_div.innerHTML = output.data[HTML_MIME_TYPE];\n",
       "      var script_attrs = bk_div.children[0].attributes;\n",
       "      for (var i = 0; i < script_attrs.length; i++) {\n",
       "        toinsert[0].firstChild.setAttribute(script_attrs[i].name, script_attrs[i].value);\n",
       "      }\n",
       "      // store reference to server id on output_area\n",
       "      output_area._bokeh_server_id = output.metadata[EXEC_MIME_TYPE][\"server_id\"];\n",
       "    }\n",
       "  }\n",
       "\n",
       "  function register_renderer(events, OutputArea) {\n",
       "\n",
       "    function append_mime(data, metadata, element) {\n",
       "      // create a DOM node to render to\n",
       "      var toinsert = this.create_output_subarea(\n",
       "        metadata,\n",
       "        CLASS_NAME,\n",
       "        EXEC_MIME_TYPE\n",
       "      );\n",
       "      this.keyboard_manager.register_events(toinsert);\n",
       "      // Render to node\n",
       "      var props = {data: data, metadata: metadata[EXEC_MIME_TYPE]};\n",
       "      render(props, toinsert[0]);\n",
       "      element.append(toinsert);\n",
       "      return toinsert\n",
       "    }\n",
       "\n",
       "    /* Handle when an output is cleared or removed */\n",
       "    events.on('clear_output.CodeCell', handleClearOutput);\n",
       "    events.on('delete.Cell', handleClearOutput);\n",
       "\n",
       "    /* Handle when a new output is added */\n",
       "    events.on('output_added.OutputArea', handleAddOutput);\n",
       "\n",
       "    /**\n",
       "     * Register the mime type and append_mime function with output_area\n",
       "     */\n",
       "    OutputArea.prototype.register_mime_type(EXEC_MIME_TYPE, append_mime, {\n",
       "      /* Is output safe? */\n",
       "      safe: true,\n",
       "      /* Index of renderer in `output_area.display_order` */\n",
       "      index: 0\n",
       "    });\n",
       "  }\n",
       "\n",
       "  // register the mime type if in Jupyter Notebook environment and previously unregistered\n",
       "  if (root.Jupyter !== undefined) {\n",
       "    var events = require('base/js/events');\n",
       "    var OutputArea = require('notebook/js/outputarea').OutputArea;\n",
       "\n",
       "    if (OutputArea.prototype.mime_types().indexOf(EXEC_MIME_TYPE) == -1) {\n",
       "      register_renderer(events, OutputArea);\n",
       "    }\n",
       "  }\n",
       "\n",
       "  \n",
       "  if (typeof (root._bokeh_timeout) === \"undefined\" || force === true) {\n",
       "    root._bokeh_timeout = Date.now() + 5000;\n",
       "    root._bokeh_failed_load = false;\n",
       "  }\n",
       "\n",
       "  var NB_LOAD_WARNING = {'data': {'text/html':\n",
       "     \"<div style='background-color: #fdd'>\\n\"+\n",
       "     \"<p>\\n\"+\n",
       "     \"BokehJS does not appear to have successfully loaded. If loading BokehJS from CDN, this \\n\"+\n",
       "     \"may be due to a slow or bad network connection. Possible fixes:\\n\"+\n",
       "     \"</p>\\n\"+\n",
       "     \"<ul>\\n\"+\n",
       "     \"<li>re-rerun `output_notebook()` to attempt to load from CDN again, or</li>\\n\"+\n",
       "     \"<li>use INLINE resources instead, as so:</li>\\n\"+\n",
       "     \"</ul>\\n\"+\n",
       "     \"<code>\\n\"+\n",
       "     \"from bokeh.resources import INLINE\\n\"+\n",
       "     \"output_notebook(resources=INLINE)\\n\"+\n",
       "     \"</code>\\n\"+\n",
       "     \"</div>\"}};\n",
       "\n",
       "  function display_loaded() {\n",
       "    var el = document.getElementById(\"6d3e7949-c809-423d-95a4-01a5e2bb1e03\");\n",
       "    if (el != null) {\n",
       "      el.textContent = \"BokehJS is loading...\";\n",
       "    }\n",
       "    if (root.Bokeh !== undefined) {\n",
       "      if (el != null) {\n",
       "        el.textContent = \"BokehJS \" + root.Bokeh.version + \" successfully loaded.\";\n",
       "      }\n",
       "    } else if (Date.now() < root._bokeh_timeout) {\n",
       "      setTimeout(display_loaded, 100)\n",
       "    }\n",
       "  }\n",
       "\n",
       "\n",
       "  function run_callbacks() {\n",
       "    try {\n",
       "      root._bokeh_onload_callbacks.forEach(function(callback) { callback() });\n",
       "    }\n",
       "    finally {\n",
       "      delete root._bokeh_onload_callbacks\n",
       "    }\n",
       "    console.info(\"Bokeh: all callbacks have finished\");\n",
       "  }\n",
       "\n",
       "  function load_libs(js_urls, callback) {\n",
       "    root._bokeh_onload_callbacks.push(callback);\n",
       "    if (root._bokeh_is_loading > 0) {\n",
       "      console.log(\"Bokeh: BokehJS is being loaded, scheduling callback at\", now());\n",
       "      return null;\n",
       "    }\n",
       "    if (js_urls == null || js_urls.length === 0) {\n",
       "      run_callbacks();\n",
       "      return null;\n",
       "    }\n",
       "    console.log(\"Bokeh: BokehJS not loaded, scheduling load and callback at\", now());\n",
       "    root._bokeh_is_loading = js_urls.length;\n",
       "    for (var i = 0; i < js_urls.length; i++) {\n",
       "      var url = js_urls[i];\n",
       "      var s = document.createElement('script');\n",
       "      s.src = url;\n",
       "      s.async = false;\n",
       "      s.onreadystatechange = s.onload = function() {\n",
       "        root._bokeh_is_loading--;\n",
       "        if (root._bokeh_is_loading === 0) {\n",
       "          console.log(\"Bokeh: all BokehJS libraries loaded\");\n",
       "          run_callbacks()\n",
       "        }\n",
       "      };\n",
       "      s.onerror = function() {\n",
       "        console.warn(\"failed to load library \" + url);\n",
       "      };\n",
       "      console.log(\"Bokeh: injecting script tag for BokehJS library: \", url);\n",
       "      document.getElementsByTagName(\"head\")[0].appendChild(s);\n",
       "    }\n",
       "  };var element = document.getElementById(\"6d3e7949-c809-423d-95a4-01a5e2bb1e03\");\n",
       "  if (element == null) {\n",
       "    console.log(\"Bokeh: ERROR: autoload.js configured with elementid '6d3e7949-c809-423d-95a4-01a5e2bb1e03' but no matching script tag was found. \")\n",
       "    return false;\n",
       "  }\n",
       "\n",
       "  var js_urls = [\"https://cdn.pydata.org/bokeh/release/bokeh-0.12.14.min.js\", \"https://cdn.pydata.org/bokeh/release/bokeh-widgets-0.12.14.min.js\", \"https://cdn.pydata.org/bokeh/release/bokeh-tables-0.12.14.min.js\", \"https://cdn.pydata.org/bokeh/release/bokeh-gl-0.12.14.min.js\"];\n",
       "\n",
       "  var inline_js = [\n",
       "    function(Bokeh) {\n",
       "      Bokeh.set_log_level(\"info\");\n",
       "    },\n",
       "    \n",
       "    function(Bokeh) {\n",
       "      \n",
       "    },\n",
       "    function(Bokeh) {\n",
       "      console.log(\"Bokeh: injecting CSS: https://cdn.pydata.org/bokeh/release/bokeh-0.12.14.min.css\");\n",
       "      Bokeh.embed.inject_css(\"https://cdn.pydata.org/bokeh/release/bokeh-0.12.14.min.css\");\n",
       "      console.log(\"Bokeh: injecting CSS: https://cdn.pydata.org/bokeh/release/bokeh-widgets-0.12.14.min.css\");\n",
       "      Bokeh.embed.inject_css(\"https://cdn.pydata.org/bokeh/release/bokeh-widgets-0.12.14.min.css\");\n",
       "      console.log(\"Bokeh: injecting CSS: https://cdn.pydata.org/bokeh/release/bokeh-tables-0.12.14.min.css\");\n",
       "      Bokeh.embed.inject_css(\"https://cdn.pydata.org/bokeh/release/bokeh-tables-0.12.14.min.css\");\n",
       "    }\n",
       "  ];\n",
       "\n",
       "  function run_inline_js() {\n",
       "    \n",
       "    if ((root.Bokeh !== undefined) || (force === true)) {\n",
       "      for (var i = 0; i < inline_js.length; i++) {\n",
       "        inline_js[i].call(root, root.Bokeh);\n",
       "      }if (force === true) {\n",
       "        display_loaded();\n",
       "      }} else if (Date.now() < root._bokeh_timeout) {\n",
       "      setTimeout(run_inline_js, 100);\n",
       "    } else if (!root._bokeh_failed_load) {\n",
       "      console.log(\"Bokeh: BokehJS failed to load within specified timeout.\");\n",
       "      root._bokeh_failed_load = true;\n",
       "    } else if (force !== true) {\n",
       "      var cell = $(document.getElementById(\"6d3e7949-c809-423d-95a4-01a5e2bb1e03\")).parents('.cell').data().cell;\n",
       "      cell.output_area.append_execute_result(NB_LOAD_WARNING)\n",
       "    }\n",
       "\n",
       "  }\n",
       "\n",
       "  if (root._bokeh_is_loading === 0) {\n",
       "    console.log(\"Bokeh: BokehJS loaded, going straight to plotting\");\n",
       "    run_inline_js();\n",
       "  } else {\n",
       "    load_libs(js_urls, function() {\n",
       "      console.log(\"Bokeh: BokehJS plotting callback run at\", now());\n",
       "      run_inline_js();\n",
       "    });\n",
       "  }\n",
       "}(window));"
      ],
      "application/vnd.bokehjs_load.v0+json": "\n(function(root) {\n  function now() {\n    return new Date();\n  }\n\n  var force = true;\n\n  if (typeof (root._bokeh_onload_callbacks) === \"undefined\" || force === true) {\n    root._bokeh_onload_callbacks = [];\n    root._bokeh_is_loading = undefined;\n  }\n\n  \n\n  \n  if (typeof (root._bokeh_timeout) === \"undefined\" || force === true) {\n    root._bokeh_timeout = Date.now() + 5000;\n    root._bokeh_failed_load = false;\n  }\n\n  var NB_LOAD_WARNING = {'data': {'text/html':\n     \"<div style='background-color: #fdd'>\\n\"+\n     \"<p>\\n\"+\n     \"BokehJS does not appear to have successfully loaded. If loading BokehJS from CDN, this \\n\"+\n     \"may be due to a slow or bad network connection. Possible fixes:\\n\"+\n     \"</p>\\n\"+\n     \"<ul>\\n\"+\n     \"<li>re-rerun `output_notebook()` to attempt to load from CDN again, or</li>\\n\"+\n     \"<li>use INLINE resources instead, as so:</li>\\n\"+\n     \"</ul>\\n\"+\n     \"<code>\\n\"+\n     \"from bokeh.resources import INLINE\\n\"+\n     \"output_notebook(resources=INLINE)\\n\"+\n     \"</code>\\n\"+\n     \"</div>\"}};\n\n  function display_loaded() {\n    var el = document.getElementById(\"6d3e7949-c809-423d-95a4-01a5e2bb1e03\");\n    if (el != null) {\n      el.textContent = \"BokehJS is loading...\";\n    }\n    if (root.Bokeh !== undefined) {\n      if (el != null) {\n        el.textContent = \"BokehJS \" + root.Bokeh.version + \" successfully loaded.\";\n      }\n    } else if (Date.now() < root._bokeh_timeout) {\n      setTimeout(display_loaded, 100)\n    }\n  }\n\n\n  function run_callbacks() {\n    try {\n      root._bokeh_onload_callbacks.forEach(function(callback) { callback() });\n    }\n    finally {\n      delete root._bokeh_onload_callbacks\n    }\n    console.info(\"Bokeh: all callbacks have finished\");\n  }\n\n  function load_libs(js_urls, callback) {\n    root._bokeh_onload_callbacks.push(callback);\n    if (root._bokeh_is_loading > 0) {\n      console.log(\"Bokeh: BokehJS is being loaded, scheduling callback at\", now());\n      return null;\n    }\n    if (js_urls == null || js_urls.length === 0) {\n      run_callbacks();\n      return null;\n    }\n    console.log(\"Bokeh: BokehJS not loaded, scheduling load and callback at\", now());\n    root._bokeh_is_loading = js_urls.length;\n    for (var i = 0; i < js_urls.length; i++) {\n      var url = js_urls[i];\n      var s = document.createElement('script');\n      s.src = url;\n      s.async = false;\n      s.onreadystatechange = s.onload = function() {\n        root._bokeh_is_loading--;\n        if (root._bokeh_is_loading === 0) {\n          console.log(\"Bokeh: all BokehJS libraries loaded\");\n          run_callbacks()\n        }\n      };\n      s.onerror = function() {\n        console.warn(\"failed to load library \" + url);\n      };\n      console.log(\"Bokeh: injecting script tag for BokehJS library: \", url);\n      document.getElementsByTagName(\"head\")[0].appendChild(s);\n    }\n  };var element = document.getElementById(\"6d3e7949-c809-423d-95a4-01a5e2bb1e03\");\n  if (element == null) {\n    console.log(\"Bokeh: ERROR: autoload.js configured with elementid '6d3e7949-c809-423d-95a4-01a5e2bb1e03' but no matching script tag was found. \")\n    return false;\n  }\n\n  var js_urls = [\"https://cdn.pydata.org/bokeh/release/bokeh-0.12.14.min.js\", \"https://cdn.pydata.org/bokeh/release/bokeh-widgets-0.12.14.min.js\", \"https://cdn.pydata.org/bokeh/release/bokeh-tables-0.12.14.min.js\", \"https://cdn.pydata.org/bokeh/release/bokeh-gl-0.12.14.min.js\"];\n\n  var inline_js = [\n    function(Bokeh) {\n      Bokeh.set_log_level(\"info\");\n    },\n    \n    function(Bokeh) {\n      \n    },\n    function(Bokeh) {\n      console.log(\"Bokeh: injecting CSS: https://cdn.pydata.org/bokeh/release/bokeh-0.12.14.min.css\");\n      Bokeh.embed.inject_css(\"https://cdn.pydata.org/bokeh/release/bokeh-0.12.14.min.css\");\n      console.log(\"Bokeh: injecting CSS: https://cdn.pydata.org/bokeh/release/bokeh-widgets-0.12.14.min.css\");\n      Bokeh.embed.inject_css(\"https://cdn.pydata.org/bokeh/release/bokeh-widgets-0.12.14.min.css\");\n      console.log(\"Bokeh: injecting CSS: https://cdn.pydata.org/bokeh/release/bokeh-tables-0.12.14.min.css\");\n      Bokeh.embed.inject_css(\"https://cdn.pydata.org/bokeh/release/bokeh-tables-0.12.14.min.css\");\n    }\n  ];\n\n  function run_inline_js() {\n    \n    if ((root.Bokeh !== undefined) || (force === true)) {\n      for (var i = 0; i < inline_js.length; i++) {\n        inline_js[i].call(root, root.Bokeh);\n      }if (force === true) {\n        display_loaded();\n      }} else if (Date.now() < root._bokeh_timeout) {\n      setTimeout(run_inline_js, 100);\n    } else if (!root._bokeh_failed_load) {\n      console.log(\"Bokeh: BokehJS failed to load within specified timeout.\");\n      root._bokeh_failed_load = true;\n    } else if (force !== true) {\n      var cell = $(document.getElementById(\"6d3e7949-c809-423d-95a4-01a5e2bb1e03\")).parents('.cell').data().cell;\n      cell.output_area.append_execute_result(NB_LOAD_WARNING)\n    }\n\n  }\n\n  if (root._bokeh_is_loading === 0) {\n    console.log(\"Bokeh: BokehJS loaded, going straight to plotting\");\n    run_inline_js();\n  } else {\n    load_libs(js_urls, function() {\n      console.log(\"Bokeh: BokehJS plotting callback run at\", now());\n      run_inline_js();\n    });\n  }\n}(window));"
     },
     "metadata": {},
     "output_type": "display_data"
    }
   ],
   "source": [
    "output_notebook()"
   ]
  },
  {
   "cell_type": "code",
   "execution_count": 8,
   "metadata": {
    "collapsed": true
   },
   "outputs": [],
   "source": [
    "def fmt_cool(ds_in):\n",
    "    ds = ds_in.copy(deep=True)\n",
    "    if 'igg' in ds.dims:\n",
    "        ds = ds.sel(igg=1)\n",
    "\n",
    "    if 'g' in ds.dims:\n",
    "        ds = ds.sum('g')\n",
    "            \n",
    "    if 'band' in ds.dims:\n",
    "        try:\n",
    "            ds = ds.squeeze('band')\n",
    "        except ValueError:\n",
    "            ds = ds.sum('band')\n",
    "                \n",
    "    return ds['coolrg']\n",
    "\n",
    "\n",
    "def pltdata_cooling_1(ds_cool=None,\n",
    "                      ds_cool_crd=None, ds_cool_wgt=None):\n",
    "    \n",
    "\n",
    "\n",
    "    colors = all_palettes['Set1'][4]\n",
    "    data = [{'label': 'CLIRAD `coolr_bands`',\n",
    "             'srs': fmt_cool(ds_cool),\n",
    "             'line_dash': 'dashed', 'line_width': 5,\n",
    "             'color': colors[0], 'alpha': .6},\n",
    "            {'label': 'CRD',\n",
    "             'srs': fmt_cool(ds_cool_crd),\n",
    "             'line_dash': 'solid', 'line_width': 1.5,\n",
    "             'marker': 'circle', 'marker_size': 5,\n",
    "             'color': colors[2], 'alpha': 1,},\n",
    "            {'label': 'WGT igg=10 wgt_flux=2',\n",
    "             'srs': fmt_cool(ds_cool_wgt),\n",
    "             'line_dash': 'solid', 'line_width': 3,\n",
    "             'marker': 'square', 'marker_size': 5,\n",
    "             'color': colors[3], 'alpha': .6}]\n",
    "    return data\n",
    "\n",
    "\n",
    "def nice_xlims(pltdata=None, prange=None):\n",
    "    \n",
    "    def get_slice(srs):\n",
    "        return srs.sel(pressure=slice(*prange))\n",
    "    \n",
    "    srss = [d['srs'] for d in pltdata]\n",
    "    vmin = min([get_slice(srs).min() for srs in srss])\n",
    "    vmax = max([get_slice(srs).max() for srs in srss])\n",
    "    dv = (vmax - vmin) * .01\n",
    "    return float(vmin - dv), float(vmax + dv)\n",
    "    \n",
    "\n",
    "def plt_cooling_bokeh(pltdata=None):\n",
    "    '''\n",
    "    Plot a list of cooling rate profiles using bokeh.\n",
    "    '''\n",
    "    ymin = 1e-2 \n",
    "    ymax = 1020 \n",
    "        \n",
    "    p1 = figure(title=\"Linear pressure scale\", \n",
    "                plot_width=400)        \n",
    "    xmin, xmax = nice_xlims(pltdata, prange=(50, 1050))\n",
    "    for d in pltdata:\n",
    "        if 'marker' in d:\n",
    "            getattr(p1, d['marker'])(d['srs'].values, \n",
    "                    d['srs'].coords['pressure'].values,\n",
    "                    color=d['color'], alpha=.7)\n",
    "        p1.line(d['srs'].values, \n",
    "                d['srs'].coords['pressure'].values,\n",
    "                color=d['color'], alpha=d['alpha'], \n",
    "                line_width=d['line_width'], line_dash=d['line_dash'])\n",
    "    \n",
    "    p1.y_range = Range1d(ymax, ymin)\n",
    "    p1.yaxis.axis_label = 'pressure [mb]'   \n",
    "    p1.x_range = Range1d(xmin, xmax)\n",
    "    p1.xaxis.axis_label = 'cooling rate [K/day]'\n",
    "            \n",
    "    p2 = figure(title='Log pressure scale', y_axis_type='log',\n",
    "                plot_width=560)\n",
    "    xmin, xmax = nice_xlims(pltdata, prange=(.01, 200))\n",
    "    \n",
    "    rs = []\n",
    "    for d in pltdata:\n",
    "        rd = []\n",
    "        if 'marker' in d:\n",
    "            r_mark = getattr(p2, d['marker'])(d['srs'].values, \n",
    "                        d['srs'].coords['pressure'].values,\n",
    "                        color=d['color'], alpha=.7)\n",
    "            rd.append(r_mark)\n",
    "        r_line = p2.line(d['srs'].values, \n",
    "                    d['srs'].coords['pressure'].values,\n",
    "                    color=d['color'], alpha=d['alpha'], \n",
    "                    line_width=d['line_width'], line_dash=d['line_dash'])\n",
    "        rd.append(r_line)\n",
    "      \n",
    "        rs.append(rd)\n",
    "        \n",
    "    p2.y_range = Range1d(ymax, ymin)  \n",
    "    p2.yaxis.axis_label = 'pressure [mb]'\n",
    "    \n",
    "    p2.x_range = Range1d(xmin, xmax)\n",
    "    p2.xaxis.axis_label = 'cooling rate [K/day]'\n",
    "    \n",
    "    items = [(d['label'], r) for r, d in zip(rs, pltdata)]\n",
    "    legend = Legend(items=items, location=(10, -30))\n",
    "    legend.label_text_font_size = '8pt'\n",
    "    \n",
    "    p2.add_layout(legend, 'right')  \n",
    "    \n",
    "    show(gridplot(p1, p2, ncols=2, plot_height=500))\n",
    "    \n",
    "\n",
    "def script_plt_cooling():\n",
    "    pltdata = pltdata_cooling_1(\n",
    "        ds_cool=DS_COOL,\n",
    "        ds_cool_crd=DS_COOL_CRD,\n",
    "        ds_cool_wgt=DS_COOL_WGT)\n",
    "    plt_cooling_bokeh(pltdata=pltdata)\n",
    "    print('''FIGURE. Cooling rate profiles.''')"
   ]
  },
  {
   "cell_type": "code",
   "execution_count": 9,
   "metadata": {
    "collapsed": true
   },
   "outputs": [],
   "source": [
    "def fmt_flux(ds_in):\n",
    "    ds = ds_in.copy(deep=True)\n",
    "    \n",
    "    for l in ('level', 'layer'):\n",
    "        if l in ds.data_vars:\n",
    "            if len(ds[l].dims) > 1:\n",
    "                surface = {d: 0 for d in ds.dims if d != 'pressure'}\n",
    "                coord_level = ds[l][surface]\n",
    "                ds.coords[l] = ('pressure', coord_level)\n",
    "            else:\n",
    "                ds.coords[l] = ('pressure', ds[l])\n",
    "        \n",
    "    ds = ds.isel(pressure=[0, 23, -1])\n",
    "        \n",
    "    if 'igg' in ds.dims:\n",
    "        ds = ds.sel(igg=[1])\n",
    "        ds = ds.squeeze('igg').drop('igg')\n",
    "    \n",
    "    if 'g' in ds.dims:\n",
    "        ds = ds.sum('g')\n",
    "            \n",
    "    if 'band' in ds.dims:\n",
    "        try:\n",
    "            ds = ds.squeeze('band').drop('band')\n",
    "        except ValueError:\n",
    "            ds = ds.sum('band')\n",
    "                \n",
    "    df = ds.to_dataframe()\n",
    "    df = df.set_index('level', append=True)               \n",
    "    return df\n",
    "\n",
    "\n",
    "def tbdata_flux(ds_flux=None, ds_flux_crd=None, ds_flux_wgt=None):\n",
    "    ilevels = [0, 23, -1]\n",
    "            \n",
    "    benchmark = {'label': 'WGT igg=10 wgt_flux=1',\n",
    "                 'df': fmt_flux(ds_flux_wgt)}\n",
    "    \n",
    "    tbs = [{'label': 'CRD',\n",
    "            'df': fmt_flux(ds_flux_crd)},\n",
    "           {'label': 'CLIRAD',\n",
    "            'df': fmt_flux(ds_flux)}]\n",
    "    \n",
    "    data = {'benchmark': benchmark, 'others': tbs}\n",
    "    return data\n",
    "\n",
    "\n",
    "def tb_flux(tbdata=None):\n",
    "    benchmark = tbdata['benchmark']\n",
    "    others = tbdata['others']\n",
    "    \n",
    "    def show_tb(d=None):\n",
    "        display.display(d['df'])\n",
    "        print('Table.', 'Fluxes.', d['label'])\n",
    "        \n",
    "    def show_tbdiff(d0=None, d=None):\n",
    "        df = d['df']\n",
    "        df.index = d0['df'].index\n",
    "        display.display(df - d0['df'])\n",
    "        print('Table.', 'Fluxes.', \n",
    "              '({}) - ({})'.format(d['label'], d0['label']))\n",
    "        \n",
    "    show_tb(benchmark)\n",
    "    for d in others:\n",
    "        show_tb(d)\n",
    "        \n",
    "    for d in others:\n",
    "        show_tbdiff(d=d, d0=benchmark)\n",
    "        \n",
    "        \n",
    "def script_tb_flux():\n",
    "    data = tbdata_flux(ds_flux=DS_FLUX,\n",
    "                       ds_flux_crd=DS_FLUX_CRD,\n",
    "                       ds_flux_wgt=DS_FLUX_WGT)\n",
    "    tb_flux(tbdata=data)"
   ]
  },
  {
   "cell_type": "code",
   "execution_count": 10,
   "metadata": {
    "collapsed": true
   },
   "outputs": [],
   "source": [
    "def band_map():\n",
    "    '''\n",
    "    Maps spectral bands in lblnew to spectral bands in clirad.\n",
    "    '''\n",
    "    lblnew2clirad = {'1': '1',\n",
    "            '2': '2',\n",
    "            '3a': '3',\n",
    "            '3b': '4',\n",
    "            '3c': '5',\n",
    "            '4': '6', \n",
    "            '5': '7',\n",
    "            '6': '8',\n",
    "            '7': '9', \n",
    "            '8': '10',\n",
    "            '9': '11'}\n",
    "    \n",
    "    clirad2lblnew = {clirad: lblnew \n",
    "                     for lblnew, clirad in lblnew2clirad.items()}\n",
    "    return clirad2lblnew\n",
    "\n",
    "\n",
    "def gasbands():\n",
    "    bmap = band_map()\n",
    "    gases = list(PARAM['molecule'].keys())\n",
    "    \n",
    "    bands = [bmap[str(b)] for b in PARAM['band']]\n",
    "    return list(itertools.product(gases, bands))\n",
    "\n",
    "\n",
    "def print_bestfit_params():\n",
    "    print('Best-fit values for each (gas, band)')\n",
    "    print('------------------------------------')\n",
    "    for gas, band in gasbands():\n",
    "        print('o {} band{}'.format(gas, band))\n",
    "        param = bestfits.kdist_params(molecule=gas, band=band)\n",
    "        for name, value in sorted(param.items()):\n",
    "            print(2 * ' ' + '{} = {}'.format(name, value))\n",
    "\n",
    "        \n",
    "def print_input_param():        \n",
    "    for name, value in PARAM.items():\n",
    "        print('{} = {}'.format(name, value))\n",
    "        \n",
    "        \n",
    "def print_lblnew_param():\n",
    "    for name, value in sorted(PARAM_LBLNEW.items()):\n",
    "        print('{} = {}'.format(name, value))\n"
   ]
  },
  {
   "cell_type": "code",
   "execution_count": 11,
   "metadata": {
    "collapsed": true,
    "scrolled": false
   },
   "outputs": [],
   "source": [
    "def show_html(s):\n",
    "    display.display(display.HTML(s))\n",
    "\n",
    "    \n",
    "def show_markdown(s):\n",
    "    display.display(display.Markdown(s))\n",
    "\n",
    "    \n",
    "def script():\n",
    "    \n",
    "    title = '### CLIRAD-LW'\n",
    "    s_input = 'Input Parameters'\n",
    "    s_lblnew_param = 'LBLNEW case compaired against'\n",
    "    s_bestfits = 'Best-fit Parameters'\n",
    "    s_plt_cooling = 'Cooling Rate Profiles'\n",
    "    s_tb_flux = 'Flux Comparison'\n",
    "    \n",
    "    # title\n",
    "    show_markdown('### CLIRAD-LW')\n",
    "    \n",
    "    # TOC\n",
    "    show_markdown('### Table of Contents')\n",
    "    show_html(climahtml.getHTML_hrefanchor(s_input))\n",
    "    show_html(climahtml.getHTML_hrefanchor(s_lblnew_param))\n",
    "    show_html(climahtml.getHTML_hrefanchor(s_plt_cooling))\n",
    "    show_html(climahtml.getHTML_hrefanchor(s_tb_flux))\n",
    "    show_html(climahtml.getHTML_hrefanchor(s_bestfits))\n",
    "    \n",
    "    # Input parameters\n",
    "    show_html(climahtml.getHTML_idanchor(s_input))\n",
    "    show_markdown(climahtml.getMarkdown_sectitle(s_input))\n",
    "    print_input_param()\n",
    "    \n",
    "    # LBLNEW parameters \n",
    "    show_html(climahtml.getHTML_idanchor(s_lblnew_param))\n",
    "    show_markdown(climahtml.getMarkdown_sectitle(s_lblnew_param))\n",
    "    print_lblnew_param()\n",
    "    \n",
    "    # Cooling rate profiles\n",
    "    show_html(climahtml.getHTML_idanchor(s_plt_cooling))\n",
    "    show_markdown(climahtml.getMarkdown_sectitle(s_plt_cooling))\n",
    "    script_plt_cooling()\n",
    "    \n",
    "    # Flux comparison\n",
    "    show_html(climahtml.getHTML_idanchor(s_tb_flux))\n",
    "    show_markdown(climahtml.getMarkdown_sectitle(s_tb_flux))\n",
    "    script_tb_flux()\n",
    "    \n",
    "    # Best-fit values\n",
    "    show_html(climahtml.getHTML_idanchor(s_bestfits))\n",
    "    show_markdown(climahtml.getMarkdown_sectitle(s_bestfits))\n",
    "    print_bestfit_params()\n",
    "   \n",
    "    "
   ]
  },
  {
   "cell_type": "code",
   "execution_count": 12,
   "metadata": {
    "collapsed": true,
    "scrolled": false
   },
   "outputs": [
    {
     "data": {
      "text/markdown": [
       "### CLIRAD-LW"
      ],
      "text/plain": [
       "<IPython.core.display.Markdown object>"
      ]
     },
     "metadata": {},
     "output_type": "display_data"
    },
    {
     "data": {
      "text/markdown": [
       "### Table of Contents"
      ],
      "text/plain": [
       "<IPython.core.display.Markdown object>"
      ]
     },
     "metadata": {},
     "output_type": "display_data"
    },
    {
     "data": {
      "text/html": [
       "<a href=\"#Input_Parameters\">Input Parameters</a>"
      ],
      "text/plain": [
       "<IPython.core.display.HTML object>"
      ]
     },
     "metadata": {},
     "output_type": "display_data"
    },
    {
     "data": {
      "text/html": [
       "<a href=\"#LBLNEW_case_compaired_against\">LBLNEW case compaired against</a>"
      ],
      "text/plain": [
       "<IPython.core.display.HTML object>"
      ]
     },
     "metadata": {},
     "output_type": "display_data"
    },
    {
     "data": {
      "text/html": [
       "<a href=\"#Cooling_Rate_Profiles\">Cooling Rate Profiles</a>"
      ],
      "text/plain": [
       "<IPython.core.display.HTML object>"
      ]
     },
     "metadata": {},
     "output_type": "display_data"
    },
    {
     "data": {
      "text/html": [
       "<a href=\"#Flux_Comparison\">Flux Comparison</a>"
      ],
      "text/plain": [
       "<IPython.core.display.HTML object>"
      ]
     },
     "metadata": {},
     "output_type": "display_data"
    },
    {
     "data": {
      "text/html": [
       "<a href=\"#Best-fit_Parameters\">Best-fit Parameters</a>"
      ],
      "text/plain": [
       "<IPython.core.display.HTML object>"
      ]
     },
     "metadata": {},
     "output_type": "display_data"
    },
    {
     "data": {
      "text/html": [
       "<a id=\"Input_Parameters\"></a>"
      ],
      "text/plain": [
       "<IPython.core.display.HTML object>"
      ]
     },
     "metadata": {},
     "output_type": "display_data"
    },
    {
     "data": {
      "text/markdown": [
       "# Input Parameters"
      ],
      "text/plain": [
       "<IPython.core.display.Markdown object>"
      ]
     },
     "metadata": {},
     "output_type": "display_data"
    },
    {
     "name": "stdout",
     "output_type": "stream",
     "text": [
      "atmpro = saw\n",
      "band = [3]\n",
      "commitnumber = 7e55b57\n",
      "molecule = {'co2': 0.0004, 'h2o': 'atmpro', 'n2o': 3.2e-07}\n",
      "tsfc = 257\n"
     ]
    },
    {
     "data": {
      "text/html": [
       "<a id=\"LBLNEW_case_compaired_against\"></a>"
      ],
      "text/plain": [
       "<IPython.core.display.HTML object>"
      ]
     },
     "metadata": {},
     "output_type": "display_data"
    },
    {
     "data": {
      "text/markdown": [
       "# LBLNEW case compaired against"
      ],
      "text/plain": [
       "<IPython.core.display.Markdown object>"
      ]
     },
     "metadata": {},
     "output_type": "display_data"
    },
    {
     "name": "stdout",
     "output_type": "stream",
     "text": [
      "atmpro = saw\n",
      "band = 3a\n",
      "commitnumber = 5014a19\n",
      "dv = 0.01\n",
      "molecule = {'co2': 0.0004, 'h2o': 'atmpro', 'n2o': 3.2e-07}\n",
      "nv = 100\n",
      "tsfc = 257\n"
     ]
    },
    {
     "data": {
      "text/html": [
       "<a id=\"Cooling_Rate_Profiles\"></a>"
      ],
      "text/plain": [
       "<IPython.core.display.HTML object>"
      ]
     },
     "metadata": {},
     "output_type": "display_data"
    },
    {
     "data": {
      "text/markdown": [
       "# Cooling Rate Profiles"
      ],
      "text/plain": [
       "<IPython.core.display.Markdown object>"
      ]
     },
     "metadata": {},
     "output_type": "display_data"
    },
    {
     "data": {
      "text/html": [
       "\n",
       "<div class=\"bk-root\">\n",
       "    <div class=\"bk-plotdiv\" id=\"232e5d31-9d0c-4235-8677-f8f0a0fcde14\"></div>\n",
       "</div>"
      ]
     },
     "metadata": {},
     "output_type": "display_data"
    },
    {
     "data": {
      "application/javascript": [
       "(function(root) {\n",
       "  function embed_document(root) {\n",
       "    \n",
       "  var docs_json = {\"f2f27abd-9f91-410e-a089-4fdc963b0b3d\":{\"roots\":{\"references\":[{\"attributes\":{\"callback\":null,\"end\":0.01,\"start\":1020},\"id\":\"5a4708d3-f657-441c-927d-2cd196fb6f5d\",\"type\":\"Range1d\"},{\"attributes\":{\"data_source\":{\"id\":\"ce47a9c2-2da1-4ffa-bf05-bdc4081a3266\",\"type\":\"ColumnDataSource\"},\"glyph\":{\"id\":\"acb4e163-c0dc-4133-8769-6eaa40942bcc\",\"type\":\"Circle\"},\"hover_glyph\":null,\"muted_glyph\":null,\"nonselection_glyph\":{\"id\":\"14ccd111-756b-4e4e-a5aa-187dc210a703\",\"type\":\"Circle\"},\"selection_glyph\":null,\"view\":{\"id\":\"05becf87-db09-451f-a037-d9cebd116094\",\"type\":\"CDSView\"}},\"id\":\"1c7da77a-2218-4c91-9744-20927c049820\",\"type\":\"GlyphRenderer\"},{\"attributes\":{\"callback\":null,\"column_names\":[\"x\",\"y\"],\"data\":{\"x\":{\"__ndarray__\":\"lAUCU7yAxz/MLUpcCdXKP57eOVKFmNE/E8RxxzhS1j/MlqyKcFPbP1eTCtdhVOA/hrDYLoYV4z8BMrYIc9jlP/kbSHJUieg/NJ5rDPgE6z/WdD3RdSHtPzAA4BrQue4/Z+Edpp6h7z/pt23nFCfvP4y5EFCGz+w/knFzx+6E6T86ie9hgjzmP7lG0/JmgeM/4hdFrFHR4T/96AbQEIrhP5JpI43A7uI/XKvBJCpO4j/ZM/i5qZrdP4tzDn37Y9c/WQIAMjrB0j/uiLeMowvOP6UbF8T2ycc/IleHL1Vhwz9XKE7F+PbAP6FRNryLvb0/sPZZYO16uD9vi70N7cCyP1LV8m07Ga8/WGf2JY1krj9Tted2UgavP0vv3vtiibA/3XGzDRYtsT/BYBOm40KwP3EtPCpcYa0/Gz2BJ2JOqj/V6ZEdUyunP8XEwBw4xaM/k0XZ3EoPoD+w4PPNelSXP4yAr40d+Yg/OoxZGKHdgj8w1sqTiheUP36sXH99OqE/rrWKDfz5qD+12WWze9awP8WIgQR+OrU/cbRueWh8uT+zyMBLune9P8yXeorahcA/w1foQUkawj8/w7xDYYLDP/PUl2OByMQ/mbagc47sxT8J88OtJ9/GPxhvEiCWj8c/IcEaiOH6xz++nxov3STIP57SXtCEHsg/rQPWYND4xz8vsjJUpMbHP3ONQ7sSmsc/87ufCQOFxz8w5hnB54PHP6m2xF/NYMc/H6a3Hgmkxj+VA6hvuuHEPxLR+Tq6W8I/OtQIYHd4vz8ksCBqLnm6P91D4wXoKbU/\",\"dtype\":\"float64\",\"shape\":[75]},\"y\":{\"__ndarray__\":\"GhExyth1ND/Sv8nbtpRIP2vylNV0PVE/aTum7souWD/At0SJ8fVgPw3Iuahxymc/MSNhhJWvcD/bTfBN02d3P2zb5nxnaoA/CD5h5MAGhz8NmeH1TyaQP+zrCsc9p5Y/LbKd76fGnz/bLW5ISEmmPww9YvTcQq8/JV2OstnstT8Er5Y7M8G+P0c+r3jqkcU/5h99k6ZBzj88bCIzFzjVP4enV8oyxN0//yH99nXg5D8qOpLLf0jtP5kqGJXUifQ/c9cS8kHP/D+/DpwzojQEQIEmwoanVwxA4lgXt9HgE0BSSZ2AJuIbQAMJih9jjiNA5q4l5INuK0AwTKYKRj0zQNv5fmq8/DpAaCJseHrtQkB/+zpwzoxKQM3MzMzMeFJAZmZmZmZqWEAAAAAAAFxeQM3MzMzMJmJAmpmZmZkfZUBmZmZmZhhoQDMzMzMzEWtAAAAAAAAKbkBmZmZmZoFwQM3MzMzM/XFAMzMzMzN6c0CamZmZmfZ0QAAAAAAAc3ZAZmZmZmbvd0DNzMzMzGt5QDMzMzMz6HpAmpmZmZlkfEAAAAAAAOF9QGZmZmZmXX9AZmZmZuZsgECamZmZGSuBQM3MzMxM6YFAAAAAAICngkAzMzMzs2WDQGZmZmbmI4RAmpmZmRnihEDNzMzMTKCFQAAAAACAXoZAMzMzM7Mch0BmZmZm5tqHQJqZmZkZmYhAzczMzExXiUAAAAAAgBWKQDMzMzOz04pAZmZmZuaRi0CamZmZGVCMQM3MzMxMDo1AAAAAAIDMjUAzMzMzs4qOQGZmZmbmSI9A\",\"dtype\":\"float64\",\"shape\":[75]}}},\"id\":\"918559f2-bcf4-4ffb-b79e-f7c4e716e828\",\"type\":\"ColumnDataSource\"},{\"attributes\":{},\"id\":\"c1711168-2814-4956-931e-309e0944f988\",\"type\":\"BasicTickFormatter\"},{\"attributes\":{\"source\":{\"id\":\"ce47a9c2-2da1-4ffa-bf05-bdc4081a3266\",\"type\":\"ColumnDataSource\"}},\"id\":\"05becf87-db09-451f-a037-d9cebd116094\",\"type\":\"CDSView\"},{\"attributes\":{\"fill_alpha\":{\"value\":0.7},\"fill_color\":{\"value\":\"#984ea3\"},\"line_alpha\":{\"value\":0.7},\"line_color\":{\"value\":\"#984ea3\"},\"x\":{\"field\":\"x\"},\"y\":{\"field\":\"y\"}},\"id\":\"083efed1-7507-4912-b5f3-5b695f666fa0\",\"type\":\"Square\"},{\"attributes\":{\"axis_label\":\"cooling rate [K/day]\",\"formatter\":{\"id\":\"e9384651-abcc-4932-b32b-3e0b05ee8e75\",\"type\":\"BasicTickFormatter\"},\"plot\":{\"id\":\"69a8acde-87fb-41aa-a034-951bd1dd33ab\",\"subtype\":\"Figure\",\"type\":\"Plot\"},\"ticker\":{\"id\":\"f060f61f-73e9-4d2f-bce7-1b35e5b5ac66\",\"type\":\"BasicTicker\"}},\"id\":\"933fee10-b371-4ea0-8ac3-0184ca96f598\",\"type\":\"LinearAxis\"},{\"attributes\":{\"source\":{\"id\":\"3d8d463b-569f-483e-bddc-4213848416c8\",\"type\":\"ColumnDataSource\"}},\"id\":\"b9f3af47-22aa-42b1-85ed-85135bb0f489\",\"type\":\"CDSView\"},{\"attributes\":{\"callback\":null,\"column_names\":[\"x\",\"y\"],\"data\":{\"x\":{\"__ndarray__\":\"lAUCU7yAxz/MLUpcCdXKP57eOVKFmNE/E8RxxzhS1j/MlqyKcFPbP1eTCtdhVOA/hrDYLoYV4z8BMrYIc9jlP/kbSHJUieg/NJ5rDPgE6z/WdD3RdSHtPzAA4BrQue4/Z+Edpp6h7z/pt23nFCfvP4y5EFCGz+w/knFzx+6E6T86ie9hgjzmP7lG0/JmgeM/4hdFrFHR4T/96AbQEIrhP5JpI43A7uI/XKvBJCpO4j/ZM/i5qZrdP4tzDn37Y9c/WQIAMjrB0j/uiLeMowvOP6UbF8T2ycc/IleHL1Vhwz9XKE7F+PbAP6FRNryLvb0/sPZZYO16uD9vi70N7cCyP1LV8m07Ga8/WGf2JY1krj9Tted2UgavP0vv3vtiibA/3XGzDRYtsT/BYBOm40KwP3EtPCpcYa0/Gz2BJ2JOqj/V6ZEdUyunP8XEwBw4xaM/k0XZ3EoPoD+w4PPNelSXP4yAr40d+Yg/OoxZGKHdgj8w1sqTiheUP36sXH99OqE/rrWKDfz5qD+12WWze9awP8WIgQR+OrU/cbRueWh8uT+zyMBLune9P8yXeorahcA/w1foQUkawj8/w7xDYYLDP/PUl2OByMQ/mbagc47sxT8J88OtJ9/GPxhvEiCWj8c/IcEaiOH6xz++nxov3STIP57SXtCEHsg/rQPWYND4xz8vsjJUpMbHP3ONQ7sSmsc/87ufCQOFxz8w5hnB54PHP6m2xF/NYMc/H6a3Hgmkxj+VA6hvuuHEPxLR+Tq6W8I/OtQIYHd4vz8ksCBqLnm6P91D4wXoKbU/\",\"dtype\":\"float64\",\"shape\":[75]},\"y\":{\"__ndarray__\":\"GhExyth1ND/Sv8nbtpRIP2vylNV0PVE/aTum7souWD/At0SJ8fVgPw3Iuahxymc/MSNhhJWvcD/bTfBN02d3P2zb5nxnaoA/CD5h5MAGhz8NmeH1TyaQP+zrCsc9p5Y/LbKd76fGnz/bLW5ISEmmPww9YvTcQq8/JV2OstnstT8Er5Y7M8G+P0c+r3jqkcU/5h99k6ZBzj88bCIzFzjVP4enV8oyxN0//yH99nXg5D8qOpLLf0jtP5kqGJXUifQ/c9cS8kHP/D+/DpwzojQEQIEmwoanVwxA4lgXt9HgE0BSSZ2AJuIbQAMJih9jjiNA5q4l5INuK0AwTKYKRj0zQNv5fmq8/DpAaCJseHrtQkB/+zpwzoxKQM3MzMzMeFJAZmZmZmZqWEAAAAAAAFxeQM3MzMzMJmJAmpmZmZkfZUBmZmZmZhhoQDMzMzMzEWtAAAAAAAAKbkBmZmZmZoFwQM3MzMzM/XFAMzMzMzN6c0CamZmZmfZ0QAAAAAAAc3ZAZmZmZmbvd0DNzMzMzGt5QDMzMzMz6HpAmpmZmZlkfEAAAAAAAOF9QGZmZmZmXX9AZmZmZuZsgECamZmZGSuBQM3MzMxM6YFAAAAAAICngkAzMzMzs2WDQGZmZmbmI4RAmpmZmRnihEDNzMzMTKCFQAAAAACAXoZAMzMzM7Mch0BmZmZm5tqHQJqZmZkZmYhAzczMzExXiUAAAAAAgBWKQDMzMzOz04pAZmZmZuaRi0CamZmZGVCMQM3MzMxMDo1AAAAAAIDMjUAzMzMzs4qOQGZmZmbmSI9A\",\"dtype\":\"float64\",\"shape\":[75]}}},\"id\":\"dc4b8509-4abe-4737-a3a5-700707e8eea0\",\"type\":\"ColumnDataSource\"},{\"attributes\":{\"line_alpha\":0.1,\"line_color\":\"#1f77b4\",\"line_dash\":[6],\"line_width\":5,\"x\":{\"field\":\"x\"},\"y\":{\"field\":\"y\"}},\"id\":\"badce76e-6b47-47c3-bf74-1903ef576432\",\"type\":\"Line\"},{\"attributes\":{\"line_alpha\":0.1,\"line_color\":\"#1f77b4\",\"line_width\":1.5,\"x\":{\"field\":\"x\"},\"y\":{\"field\":\"y\"}},\"id\":\"e9896bd5-18aa-4229-88c6-43c060078c16\",\"type\":\"Line\"},{\"attributes\":{\"callback\":null,\"column_names\":[\"x\",\"y\"],\"data\":{\"x\":{\"__ndarray__\":\"3ikVO7fczT88icbiUGLQP89XXizrQtU/fxCP5dl82j/QtbPYu/nfPyqck80LxuI/KPud3KWD5T/xBZi/YxToP8UqlDsiVeo/EDkBdgMf7D80fPJNJlDtP/e7JIxu1u0/VfKYHqC97T8qF89F6IzsP33+/yh/Eeo/ABrGWeh15z8nBP4yEJLlP4Fo3ljtbeQ/iDQB8YDz4z8sILyPBiTkP7JI8uAXTOU/m7nyH/Pd4z8Uu2wqQfXeP4BoYpGRudc/yPN0CeKX0j+nN2k7IrbMP+z/VpFVOsU/L1jktgHIvz+qWtrCVn26PzUNeANGQ7c/6naglU4AtD+CbrOhMGKwP9xkhFLcOq0/zKrIG3LJrT/5JOJzSOatP0d2ljp3pK0/U6VlWFAOrT+Udd8BA+CqP7NPpFTyTKg/P0GhH78Xpj+U7h4I3+ejP4mZFTsua6E/Dg8sCmUonT/vY5/cwxmWP+k6sMNou4k/ADc/icUrhT9e53ST9/WUP6D2ctfGY6E/WIkwgBsiqT/61NzKRQ6xPzAcnS3/pbU/2xZlNsgkuj/iiWpb3ma+PzkvZxlWL8E/jM5kxZEDwz/YMFyAKqzEP3g/VSLcJsY/WxAltatrxz8A0cQiI3PIP+pgu4PxNsk/KEqd29+0yT97Ac1SePHJP5TPG7zp9ck/Fvr97l/RyT9vpjrLyZfJP2d9yjFZXMk/yg8BLJcyyT8tjD4wkRzJPy5eRakx38g/YdWsddoByD/IJUwgPhPGP2YOzWU4WMM/LbbmGqiEwD+Al758V6m7P17XoS32/bU/\",\"dtype\":\"float64\",\"shape\":[75]},\"y\":{\"__ndarray__\":\"GhExyth1ND/Sv8nbtpRIP2vylNV0PVE/aTum7souWD/At0SJ8fVgPw3Iuahxymc/MSNhhJWvcD/bTfBN02d3P2zb5nxnaoA/CD5h5MAGhz8NmeH1TyaQP+zrCsc9p5Y/LbKd76fGnz/bLW5ISEmmPww9YvTcQq8/JV2OstnstT8Er5Y7M8G+P0c+r3jqkcU/5h99k6ZBzj88bCIzFzjVP4enV8oyxN0//yH99nXg5D8qOpLLf0jtP5kqGJXUifQ/c9cS8kHP/D+/DpwzojQEQIEmwoanVwxA4lgXt9HgE0BSSZ2AJuIbQAMJih9jjiNA5q4l5INuK0AwTKYKRj0zQNv5fmq8/DpAaCJseHrtQkB/+zpwzoxKQM3MzMzMeFJAZmZmZmZqWEAAAAAAAFxeQM3MzMzMJmJAmpmZmZkfZUBmZmZmZhhoQDMzMzMzEWtAAAAAAAAKbkBmZmZmZoFwQM3MzMzM/XFAMzMzMzN6c0CamZmZmfZ0QAAAAAAAc3ZAZmZmZmbvd0DNzMzMzGt5QDMzMzMz6HpAmpmZmZlkfEAAAAAAAOF9QGZmZmZmXX9AZmZmZuZsgECamZmZGSuBQM3MzMxM6YFAAAAAAICngkAzMzMzs2WDQGZmZmbmI4RAmpmZmRnihEDNzMzMTKCFQAAAAACAXoZAMzMzM7Mch0BmZmZm5tqHQJqZmZkZmYhAzczMzExXiUAAAAAAgBWKQDMzMzOz04pAZmZmZuaRi0CamZmZGVCMQM3MzMxMDo1AAAAAAIDMjUAzMzMzs4qOQGZmZmbmSI9A\",\"dtype\":\"float64\",\"shape\":[75]}}},\"id\":\"30c989af-8668-48fa-a3d8-9c002d0e2b09\",\"type\":\"ColumnDataSource\"},{\"attributes\":{\"callback\":null,\"column_names\":[\"x\",\"y\"],\"data\":{\"x\":{\"__ndarray__\":\"lAUCU7yAxz/MLUpcCdXKP57eOVKFmNE/E8RxxzhS1j/MlqyKcFPbP1eTCtdhVOA/hrDYLoYV4z8BMrYIc9jlP/kbSHJUieg/NJ5rDPgE6z/WdD3RdSHtPzAA4BrQue4/Z+Edpp6h7z/pt23nFCfvP4y5EFCGz+w/knFzx+6E6T86ie9hgjzmP7lG0/JmgeM/4hdFrFHR4T/96AbQEIrhP5JpI43A7uI/XKvBJCpO4j/ZM/i5qZrdP4tzDn37Y9c/WQIAMjrB0j/uiLeMowvOP6UbF8T2ycc/IleHL1Vhwz9XKE7F+PbAP6FRNryLvb0/sPZZYO16uD9vi70N7cCyP1LV8m07Ga8/WGf2JY1krj9Tted2UgavP0vv3vtiibA/3XGzDRYtsT/BYBOm40KwP3EtPCpcYa0/Gz2BJ2JOqj/V6ZEdUyunP8XEwBw4xaM/k0XZ3EoPoD+w4PPNelSXP4yAr40d+Yg/OoxZGKHdgj8w1sqTiheUP36sXH99OqE/rrWKDfz5qD+12WWze9awP8WIgQR+OrU/cbRueWh8uT+zyMBLune9P8yXeorahcA/w1foQUkawj8/w7xDYYLDP/PUl2OByMQ/mbagc47sxT8J88OtJ9/GPxhvEiCWj8c/IcEaiOH6xz++nxov3STIP57SXtCEHsg/rQPWYND4xz8vsjJUpMbHP3ONQ7sSmsc/87ufCQOFxz8w5hnB54PHP6m2xF/NYMc/H6a3Hgmkxj+VA6hvuuHEPxLR+Tq6W8I/OtQIYHd4vz8ksCBqLnm6P91D4wXoKbU/\",\"dtype\":\"float64\",\"shape\":[75]},\"y\":{\"__ndarray__\":\"GhExyth1ND/Sv8nbtpRIP2vylNV0PVE/aTum7souWD/At0SJ8fVgPw3Iuahxymc/MSNhhJWvcD/bTfBN02d3P2zb5nxnaoA/CD5h5MAGhz8NmeH1TyaQP+zrCsc9p5Y/LbKd76fGnz/bLW5ISEmmPww9YvTcQq8/JV2OstnstT8Er5Y7M8G+P0c+r3jqkcU/5h99k6ZBzj88bCIzFzjVP4enV8oyxN0//yH99nXg5D8qOpLLf0jtP5kqGJXUifQ/c9cS8kHP/D+/DpwzojQEQIEmwoanVwxA4lgXt9HgE0BSSZ2AJuIbQAMJih9jjiNA5q4l5INuK0AwTKYKRj0zQNv5fmq8/DpAaCJseHrtQkB/+zpwzoxKQM3MzMzMeFJAZmZmZmZqWEAAAAAAAFxeQM3MzMzMJmJAmpmZmZkfZUBmZmZmZhhoQDMzMzMzEWtAAAAAAAAKbkBmZmZmZoFwQM3MzMzM/XFAMzMzMzN6c0CamZmZmfZ0QAAAAAAAc3ZAZmZmZmbvd0DNzMzMzGt5QDMzMzMz6HpAmpmZmZlkfEAAAAAAAOF9QGZmZmZmXX9AZmZmZuZsgECamZmZGSuBQM3MzMxM6YFAAAAAAICngkAzMzMzs2WDQGZmZmbmI4RAmpmZmRnihEDNzMzMTKCFQAAAAACAXoZAMzMzM7Mch0BmZmZm5tqHQJqZmZkZmYhAzczMzExXiUAAAAAAgBWKQDMzMzOz04pAZmZmZuaRi0CamZmZGVCMQM3MzMxMDo1AAAAAAIDMjUAzMzMzs4qOQGZmZmbmSI9A\",\"dtype\":\"float64\",\"shape\":[75]}}},\"id\":\"1d265f8e-3c31-4712-8154-7b7cf1d86e0c\",\"type\":\"ColumnDataSource\"},{\"attributes\":{\"source\":{\"id\":\"cf444f97-777e-4563-a70c-8716eabddb54\",\"type\":\"ColumnDataSource\"}},\"id\":\"526e0e2f-13fe-4698-91e3-7987e2e007e8\",\"type\":\"CDSView\"},{\"attributes\":{\"line_color\":\"#4daf4a\",\"line_width\":1.5,\"x\":{\"field\":\"x\"},\"y\":{\"field\":\"y\"}},\"id\":\"5cc32ca2-cbbc-441d-867e-530993012128\",\"type\":\"Line\"},{\"attributes\":{\"source\":{\"id\":\"30c989af-8668-48fa-a3d8-9c002d0e2b09\",\"type\":\"ColumnDataSource\"}},\"id\":\"dccba137-41c4-4c3b-9a4d-33ae004c0567\",\"type\":\"CDSView\"},{\"attributes\":{\"source\":{\"id\":\"dc4b8509-4abe-4737-a3a5-700707e8eea0\",\"type\":\"ColumnDataSource\"}},\"id\":\"54a7ad69-b65b-4c81-93fe-2c3a1391a377\",\"type\":\"CDSView\"},{\"attributes\":{\"data_source\":{\"id\":\"30c989af-8668-48fa-a3d8-9c002d0e2b09\",\"type\":\"ColumnDataSource\"},\"glyph\":{\"id\":\"5cc32ca2-cbbc-441d-867e-530993012128\",\"type\":\"Line\"},\"hover_glyph\":null,\"muted_glyph\":null,\"nonselection_glyph\":{\"id\":\"e9896bd5-18aa-4229-88c6-43c060078c16\",\"type\":\"Line\"},\"selection_glyph\":null,\"view\":{\"id\":\"dccba137-41c4-4c3b-9a4d-33ae004c0567\",\"type\":\"CDSView\"}},\"id\":\"0066f68e-b6fc-46b2-9d6a-ab88e030b90a\",\"type\":\"GlyphRenderer\"},{\"attributes\":{},\"id\":\"21f20ec2-788d-4860-a178-ad901361d1e8\",\"type\":\"ResetTool\"},{\"attributes\":{\"line_alpha\":0.6,\"line_color\":\"#984ea3\",\"line_width\":3,\"x\":{\"field\":\"x\"},\"y\":{\"field\":\"y\"}},\"id\":\"0ff568cb-ad18-4200-9457-61a994b0bcc3\",\"type\":\"Line\"},{\"attributes\":{},\"id\":\"a12f9b84-515e-4619-980a-40313f9b3c3c\",\"type\":\"LinearScale\"},{\"attributes\":{\"callback\":null,\"column_names\":[\"x\",\"y\"],\"data\":{\"x\":{\"__ndarray__\":\"3ikVO7fczT88icbiUGLQP89XXizrQtU/fxCP5dl82j/QtbPYu/nfPyqck80LxuI/KPud3KWD5T/xBZi/YxToP8UqlDsiVeo/EDkBdgMf7D80fPJNJlDtP/e7JIxu1u0/VfKYHqC97T8qF89F6IzsP33+/yh/Eeo/ABrGWeh15z8nBP4yEJLlP4Fo3ljtbeQ/iDQB8YDz4z8sILyPBiTkP7JI8uAXTOU/m7nyH/Pd4z8Uu2wqQfXeP4BoYpGRudc/yPN0CeKX0j+nN2k7IrbMP+z/VpFVOsU/L1jktgHIvz+qWtrCVn26PzUNeANGQ7c/6naglU4AtD+CbrOhMGKwP9xkhFLcOq0/zKrIG3LJrT/5JOJzSOatP0d2ljp3pK0/U6VlWFAOrT+Udd8BA+CqP7NPpFTyTKg/P0GhH78Xpj+U7h4I3+ejP4mZFTsua6E/Dg8sCmUonT/vY5/cwxmWP+k6sMNou4k/ADc/icUrhT9e53ST9/WUP6D2ctfGY6E/WIkwgBsiqT/61NzKRQ6xPzAcnS3/pbU/2xZlNsgkuj/iiWpb3ma+PzkvZxlWL8E/jM5kxZEDwz/YMFyAKqzEP3g/VSLcJsY/WxAltatrxz8A0cQiI3PIP+pgu4PxNsk/KEqd29+0yT97Ac1SePHJP5TPG7zp9ck/Fvr97l/RyT9vpjrLyZfJP2d9yjFZXMk/yg8BLJcyyT8tjD4wkRzJPy5eRakx38g/YdWsddoByD/IJUwgPhPGP2YOzWU4WMM/LbbmGqiEwD+Al758V6m7P17XoS32/bU/\",\"dtype\":\"float64\",\"shape\":[75]},\"y\":{\"__ndarray__\":\"GhExyth1ND/Sv8nbtpRIP2vylNV0PVE/aTum7souWD/At0SJ8fVgPw3Iuahxymc/MSNhhJWvcD/bTfBN02d3P2zb5nxnaoA/CD5h5MAGhz8NmeH1TyaQP+zrCsc9p5Y/LbKd76fGnz/bLW5ISEmmPww9YvTcQq8/JV2OstnstT8Er5Y7M8G+P0c+r3jqkcU/5h99k6ZBzj88bCIzFzjVP4enV8oyxN0//yH99nXg5D8qOpLLf0jtP5kqGJXUifQ/c9cS8kHP/D+/DpwzojQEQIEmwoanVwxA4lgXt9HgE0BSSZ2AJuIbQAMJih9jjiNA5q4l5INuK0AwTKYKRj0zQNv5fmq8/DpAaCJseHrtQkB/+zpwzoxKQM3MzMzMeFJAZmZmZmZqWEAAAAAAAFxeQM3MzMzMJmJAmpmZmZkfZUBmZmZmZhhoQDMzMzMzEWtAAAAAAAAKbkBmZmZmZoFwQM3MzMzM/XFAMzMzMzN6c0CamZmZmfZ0QAAAAAAAc3ZAZmZmZmbvd0DNzMzMzGt5QDMzMzMz6HpAmpmZmZlkfEAAAAAAAOF9QGZmZmZmXX9AZmZmZuZsgECamZmZGSuBQM3MzMxM6YFAAAAAAICngkAzMzMzs2WDQGZmZmbmI4RAmpmZmRnihEDNzMzMTKCFQAAAAACAXoZAMzMzM7Mch0BmZmZm5tqHQJqZmZkZmYhAzczMzExXiUAAAAAAgBWKQDMzMzOz04pAZmZmZuaRi0CamZmZGVCMQM3MzMxMDo1AAAAAAIDMjUAzMzMzs4qOQGZmZmbmSI9A\",\"dtype\":\"float64\",\"shape\":[75]}}},\"id\":\"cf444f97-777e-4563-a70c-8716eabddb54\",\"type\":\"ColumnDataSource\"},{\"attributes\":{\"source\":{\"id\":\"1d265f8e-3c31-4712-8154-7b7cf1d86e0c\",\"type\":\"ColumnDataSource\"}},\"id\":\"46fb465e-16b5-4aca-af94-ee5c76339e42\",\"type\":\"CDSView\"},{\"attributes\":{\"callback\":null,\"end\":0.9979749755799999,\"start\":0.02938240642},\"id\":\"0e977478-0c3e-4ca9-83e1-f6b6f20c7e10\",\"type\":\"Range1d\"},{\"attributes\":{\"fill_alpha\":{\"value\":0.1},\"fill_color\":{\"value\":\"#1f77b4\"},\"line_alpha\":{\"value\":0.1},\"line_color\":{\"value\":\"#1f77b4\"},\"x\":{\"field\":\"x\"},\"y\":{\"field\":\"y\"}},\"id\":\"6723e00a-eb3f-4451-9d9d-f0668374ced1\",\"type\":\"Square\"},{\"attributes\":{\"data_source\":{\"id\":\"dc4b8509-4abe-4737-a3a5-700707e8eea0\",\"type\":\"ColumnDataSource\"},\"glyph\":{\"id\":\"083efed1-7507-4912-b5f3-5b695f666fa0\",\"type\":\"Square\"},\"hover_glyph\":null,\"muted_glyph\":null,\"nonselection_glyph\":{\"id\":\"6723e00a-eb3f-4451-9d9d-f0668374ced1\",\"type\":\"Square\"},\"selection_glyph\":null,\"view\":{\"id\":\"54a7ad69-b65b-4c81-93fe-2c3a1391a377\",\"type\":\"CDSView\"}},\"id\":\"8de1202d-caa4-4201-83e5-105808184e37\",\"type\":\"GlyphRenderer\"},{\"attributes\":{\"active_drag\":\"auto\",\"active_inspect\":\"auto\",\"active_scroll\":\"auto\",\"active_tap\":\"auto\",\"tools\":[{\"id\":\"fadc9f65-3db7-4275-a849-f4084b4cbe21\",\"type\":\"PanTool\"},{\"id\":\"7ed03bb5-1652-429f-bdf7-b7c6793d1b11\",\"type\":\"WheelZoomTool\"},{\"id\":\"b9efcc2d-a80d-4716-8156-ab076b175705\",\"type\":\"BoxZoomTool\"},{\"id\":\"eacb2988-b6fa-4a30-b09c-e6610a487e09\",\"type\":\"SaveTool\"},{\"id\":\"21f20ec2-788d-4860-a178-ad901361d1e8\",\"type\":\"ResetTool\"},{\"id\":\"04b9fe9a-15f9-4b67-86f9-328454cb1f98\",\"type\":\"HelpTool\"}]},\"id\":\"9ea02f37-72ff-4b10-a6b1-e5280d3487f7\",\"type\":\"Toolbar\"},{\"attributes\":{\"items\":[{\"id\":\"cdf0cfbc-b826-48dd-863d-fdfba221ca12\",\"type\":\"LegendItem\"},{\"id\":\"6360882f-08a4-4814-924e-247c84b5e375\",\"type\":\"LegendItem\"},{\"id\":\"263c4a2d-aa90-4799-9387-b30233c6fd6a\",\"type\":\"LegendItem\"}],\"label_text_font_size\":{\"value\":\"8pt\"},\"location\":[10,-30],\"plot\":{\"id\":\"1e0d71e5-3c0e-4982-8956-2ded09026b43\",\"subtype\":\"Figure\",\"type\":\"Plot\"}},\"id\":\"e89fec3a-9452-4492-90ab-07291e4ae63c\",\"type\":\"Legend\"},{\"attributes\":{\"toolbar\":{\"id\":\"ccb2d316-9334-44f1-9630-0ec9129460db\",\"type\":\"ProxyToolbar\"},\"toolbar_location\":\"above\"},\"id\":\"108f2fb6-33cf-42c6-8e5f-03ffd82fafb3\",\"type\":\"ToolbarBox\"},{\"attributes\":{},\"id\":\"fadc9f65-3db7-4275-a849-f4084b4cbe21\",\"type\":\"PanTool\"},{\"attributes\":{\"callback\":null,\"column_names\":[\"x\",\"y\"],\"data\":{\"x\":{\"__ndarray__\":\"3BMIYYzNsz8V8yD7KHzUP05SXgAhX7c/0btGBS3o1j983qaiJU3TP6pOQV0oSdc/McS5n7Za4T+FozceZMDhP/l7EJ/HquU/eHW3gAqm5z/4MpOgprPqP4EuEsHVLe0/OG1jP83B7j/nDFqCaxLvP8BNkCJ8Oe0/zeVIX+/b6T/spSkCnB7mP6FajqGttOI//mVSntSS4D84lE7iezjgP4+vd16uzuE/1WLov6SE4T8VPIVcqafcP5p4aqKNK9c/uxYEwanw0j+jPFadk2bOP1lhhggwE8g/M+56J26uwz/fO6T3EWjBP9N0j8/YVb4/W6JpPwi3uD91uyxg4aiyP7WRrkN8+q0/SeMnQNogrD8N6MSfWt2sP10M6PxJua8/EKrwQbGQsD/jTMrf6COvP1jGosMlwqs/TmjRvJWFqD/7ogL8WmSlPwaR7uJbKqI/VX/Tp5RYnT9gVNZfRBWVP1aaGLsSu4U/KwTTIHURgD++EiLCuk+SP0LCXeFQBKA/SKF7wlFzpz85VRcgbNmvPwLvcn57OLQ/WPxxvoJ7uD9s5etTCpG8P3Df1Ti8HMA/mlXpOMi1wT+TwGpV4B7DP+/PoPw4dcQ/m+4rxUS5xT/BElm1tc/GP7zjVjmbq8c/7qhaoBdNyD9v2JUayp7IPzCfzSaXscg/jixw5EedyD9T/t47pHfIP1EvGUMQUsg/Pqa92rRGyD9KqI2oWE7IP+z3J2UQJ8g/Wi1NnYlhxz8qYBKZf5XFP8rNR4QMBcM/7Jws1uxYwD/c4WU8AJi7P5G54WA3OLY/\",\"dtype\":\"float64\",\"shape\":[75]},\"y\":{\"__ndarray__\":\"S/O/Q+51ND/430zAtpRIP2vylNV0PVE/QxsjCssuWD/TR4Z78fVgP+inNsRxymc/OuuBfZWvcD/u3TFA02d3P2d3VoBnaoA/CD5h5MAGhz/1pA8HUCaQP+zrCsc9p5Y/Fb7LAKjGnz/nJ9c/SEmmPwBD+fzcQq8/FOZwv9nstT8Er5Y7M8G+P0c+r3jqkcU/yK72qKZBzj+tM989FzjVPxbgmr8yxN0/cOm5AXbg5D+5ctXAf0jtP5kqGJXUifQ/DsrqDELP/D8MCAhBojQEQDItVnmnVwxAiFXNvdHgE0BSSZ2AJuIbQAMJih9jjiNA5q4l5INuK0CPVN/5RT0zQHzxRXu8/DpAOZ7PgHrtQkAg8wGBzoxKQBSTN8DMeFJA2NmQf2ZqWEAAAAAAAFxeQEQX1LfMJmJAmpmZmZkfZUBmZmZmZhhoQLzoK0gzEWtAAAAAAAAKbkCiC+pbZoFwQAhyUMLM/XFA+I2vPTN6c0AQ5KCEmfZ0QAAAAAAAc3ZA8Btfe2bvd0AIclDCzGt5QPeNrz0z6HpAEOSghJlkfEAAAAAAAOF9QKML6ltmXX9ABTkoYeZsgED7xteeGSuBQAhyUMJM6YFAAAAAAICngkD4ja89s2WDQAU5KGHmI4RA+8bXnhnihEAIclDCTKCFQAAAAACAXoZA+I2vPbMch0AFOShh5tqHQPvG154ZmYhACHJQwkxXiUAAAAAAgBWKQPeNrz2z04pABTkoYeaRi0D7xteeGVCMQAlyUMJMDo1AAAAAAIDMjUD3ja89s4qOQGZmZmbmSI9A\",\"dtype\":\"float64\",\"shape\":[75]}}},\"id\":\"3d8d463b-569f-483e-bddc-4213848416c8\",\"type\":\"ColumnDataSource\"},{\"attributes\":{\"line_alpha\":0.1,\"line_color\":\"#1f77b4\",\"line_width\":3,\"x\":{\"field\":\"x\"},\"y\":{\"field\":\"y\"}},\"id\":\"fbefa280-1a01-48ac-aa2f-b54b0a146fa9\",\"type\":\"Line\"},{\"attributes\":{\"data_source\":{\"id\":\"cf444f97-777e-4563-a70c-8716eabddb54\",\"type\":\"ColumnDataSource\"},\"glyph\":{\"id\":\"bd0b5deb-3dca-4d3d-9c8e-1ca118239dc7\",\"type\":\"Line\"},\"hover_glyph\":null,\"muted_glyph\":null,\"nonselection_glyph\":{\"id\":\"516e30ad-20bb-48cc-b991-4566d8aa7852\",\"type\":\"Line\"},\"selection_glyph\":null,\"view\":{\"id\":\"526e0e2f-13fe-4698-91e3-7987e2e007e8\",\"type\":\"CDSView\"}},\"id\":\"2507210c-6702-4be5-b894-feea967c9619\",\"type\":\"GlyphRenderer\"},{\"attributes\":{\"data_source\":{\"id\":\"1d265f8e-3c31-4712-8154-7b7cf1d86e0c\",\"type\":\"ColumnDataSource\"},\"glyph\":{\"id\":\"0ff568cb-ad18-4200-9457-61a994b0bcc3\",\"type\":\"Line\"},\"hover_glyph\":null,\"muted_glyph\":null,\"nonselection_glyph\":{\"id\":\"fbefa280-1a01-48ac-aa2f-b54b0a146fa9\",\"type\":\"Line\"},\"selection_glyph\":null,\"view\":{\"id\":\"46fb465e-16b5-4aca-af94-ee5c76339e42\",\"type\":\"CDSView\"}},\"id\":\"7ddcf0ee-47d9-4080-a397-470b4c27bbd4\",\"type\":\"GlyphRenderer\"},{\"attributes\":{},\"id\":\"eacb2988-b6fa-4a30-b09c-e6610a487e09\",\"type\":\"SaveTool\"},{\"attributes\":{\"fill_alpha\":{\"value\":0.7},\"fill_color\":{\"value\":\"#4daf4a\"},\"line_alpha\":{\"value\":0.7},\"line_color\":{\"value\":\"#4daf4a\"},\"x\":{\"field\":\"x\"},\"y\":{\"field\":\"y\"}},\"id\":\"acb4e163-c0dc-4133-8769-6eaa40942bcc\",\"type\":\"Circle\"},{\"attributes\":{\"bottom_units\":\"screen\",\"fill_alpha\":{\"value\":0.5},\"fill_color\":{\"value\":\"lightgrey\"},\"left_units\":\"screen\",\"level\":\"overlay\",\"line_alpha\":{\"value\":1.0},\"line_color\":{\"value\":\"black\"},\"line_dash\":[4,4],\"line_width\":{\"value\":2},\"plot\":null,\"render_mode\":\"css\",\"right_units\":\"screen\",\"top_units\":\"screen\"},\"id\":\"4ba40bb5-998b-47b3-bfce-32c0fd818f58\",\"type\":\"BoxAnnotation\"},{\"attributes\":{\"children\":[{\"id\":\"865cd1dc-7a90-48fb-9527-05582abfbf8c\",\"type\":\"Row\"}]},\"id\":\"e7f559c0-40b5-491d-86a1-12052b4b4548\",\"type\":\"Column\"},{\"attributes\":{\"line_color\":\"#4daf4a\",\"line_width\":1.5,\"x\":{\"field\":\"x\"},\"y\":{\"field\":\"y\"}},\"id\":\"bd0b5deb-3dca-4d3d-9c8e-1ca118239dc7\",\"type\":\"Line\"},{\"attributes\":{\"axis_label\":\"pressure [mb]\",\"formatter\":{\"id\":\"c1711168-2814-4956-931e-309e0944f988\",\"type\":\"BasicTickFormatter\"},\"plot\":{\"id\":\"69a8acde-87fb-41aa-a034-951bd1dd33ab\",\"subtype\":\"Figure\",\"type\":\"Plot\"},\"ticker\":{\"id\":\"b95f4a45-4943-4684-9025-54b1ca4672d9\",\"type\":\"BasicTicker\"}},\"id\":\"df922589-fe56-47e4-aa27-d90b2fcafa18\",\"type\":\"LinearAxis\"},{\"attributes\":{\"children\":[{\"id\":\"108f2fb6-33cf-42c6-8e5f-03ffd82fafb3\",\"type\":\"ToolbarBox\"},{\"id\":\"e7f559c0-40b5-491d-86a1-12052b4b4548\",\"type\":\"Column\"}]},\"id\":\"f937ab17-8efc-4995-a6db-c9700e6c11ba\",\"type\":\"Column\"},{\"attributes\":{},\"id\":\"4062c586-bb7c-495a-8c8c-cce232fd85fb\",\"type\":\"BasicTickFormatter\"},{\"attributes\":{\"fill_alpha\":{\"value\":0.7},\"fill_color\":{\"value\":\"#984ea3\"},\"line_alpha\":{\"value\":0.7},\"line_color\":{\"value\":\"#984ea3\"},\"x\":{\"field\":\"x\"},\"y\":{\"field\":\"y\"}},\"id\":\"71d28c89-ffa3-4aff-86b7-2177630e7eed\",\"type\":\"Square\"},{\"attributes\":{\"overlay\":{\"id\":\"4ba40bb5-998b-47b3-bfce-32c0fd818f58\",\"type\":\"BoxAnnotation\"}},\"id\":\"b9efcc2d-a80d-4716-8156-ab076b175705\",\"type\":\"BoxZoomTool\"},{\"attributes\":{\"data_source\":{\"id\":\"3d8d463b-569f-483e-bddc-4213848416c8\",\"type\":\"ColumnDataSource\"},\"glyph\":{\"id\":\"076d663a-a1bf-465c-a989-177a7bdb2973\",\"type\":\"Line\"},\"hover_glyph\":null,\"muted_glyph\":null,\"nonselection_glyph\":{\"id\":\"2b1bc984-2bf7-479d-8851-f7865022df95\",\"type\":\"Line\"},\"selection_glyph\":null,\"view\":{\"id\":\"b9f3af47-22aa-42b1-85ed-85135bb0f489\",\"type\":\"CDSView\"}},\"id\":\"9e86b32d-67ca-4d2a-b9c7-03b8b32c7d90\",\"type\":\"GlyphRenderer\"},{\"attributes\":{\"line_alpha\":0.1,\"line_color\":\"#1f77b4\",\"line_width\":1.5,\"x\":{\"field\":\"x\"},\"y\":{\"field\":\"y\"}},\"id\":\"516e30ad-20bb-48cc-b991-4566d8aa7852\",\"type\":\"Line\"},{\"attributes\":{\"dimension\":1,\"plot\":{\"id\":\"69a8acde-87fb-41aa-a034-951bd1dd33ab\",\"subtype\":\"Figure\",\"type\":\"Plot\"},\"ticker\":{\"id\":\"b95f4a45-4943-4684-9025-54b1ca4672d9\",\"type\":\"BasicTicker\"}},\"id\":\"db36f586-4b02-413e-a2bd-e2b8a18686e5\",\"type\":\"Grid\"},{\"attributes\":{\"source\":{\"id\":\"15ce95cf-7d69-4779-9da8-21da6360bb3a\",\"type\":\"ColumnDataSource\"}},\"id\":\"1cbe9d63-f045-4ba2-b68d-14f9ef2c7c11\",\"type\":\"CDSView\"},{\"attributes\":{},\"id\":\"b95f4a45-4943-4684-9025-54b1ca4672d9\",\"type\":\"BasicTicker\"},{\"attributes\":{\"source\":{\"id\":\"144962dd-4812-4298-bb2a-26412c37eeeb\",\"type\":\"ColumnDataSource\"}},\"id\":\"c4629875-ac80-499c-a65c-d20a6fd41f58\",\"type\":\"CDSView\"},{\"attributes\":{\"callback\":null,\"column_names\":[\"x\",\"y\"],\"data\":{\"x\":{\"__ndarray__\":\"3BMIYYzNsz8V8yD7KHzUP05SXgAhX7c/0btGBS3o1j983qaiJU3TP6pOQV0oSdc/McS5n7Za4T+FozceZMDhP/l7EJ/HquU/eHW3gAqm5z/4MpOgprPqP4EuEsHVLe0/OG1jP83B7j/nDFqCaxLvP8BNkCJ8Oe0/zeVIX+/b6T/spSkCnB7mP6FajqGttOI//mVSntSS4D84lE7iezjgP4+vd16uzuE/1WLov6SE4T8VPIVcqafcP5p4aqKNK9c/uxYEwanw0j+jPFadk2bOP1lhhggwE8g/M+56J26uwz/fO6T3EWjBP9N0j8/YVb4/W6JpPwi3uD91uyxg4aiyP7WRrkN8+q0/SeMnQNogrD8N6MSfWt2sP10M6PxJua8/EKrwQbGQsD/jTMrf6COvP1jGosMlwqs/TmjRvJWFqD/7ogL8WmSlPwaR7uJbKqI/VX/Tp5RYnT9gVNZfRBWVP1aaGLsSu4U/KwTTIHURgD++EiLCuk+SP0LCXeFQBKA/SKF7wlFzpz85VRcgbNmvPwLvcn57OLQ/WPxxvoJ7uD9s5etTCpG8P3Df1Ti8HMA/mlXpOMi1wT+TwGpV4B7DP+/PoPw4dcQ/m+4rxUS5xT/BElm1tc/GP7zjVjmbq8c/7qhaoBdNyD9v2JUayp7IPzCfzSaXscg/jixw5EedyD9T/t47pHfIP1EvGUMQUsg/Pqa92rRGyD9KqI2oWE7IP+z3J2UQJ8g/Wi1NnYlhxz8qYBKZf5XFP8rNR4QMBcM/7Jws1uxYwD/c4WU8AJi7P5G54WA3OLY/\",\"dtype\":\"float64\",\"shape\":[75]},\"y\":{\"__ndarray__\":\"S/O/Q+51ND/430zAtpRIP2vylNV0PVE/QxsjCssuWD/TR4Z78fVgP+inNsRxymc/OuuBfZWvcD/u3TFA02d3P2d3VoBnaoA/CD5h5MAGhz/1pA8HUCaQP+zrCsc9p5Y/Fb7LAKjGnz/nJ9c/SEmmPwBD+fzcQq8/FOZwv9nstT8Er5Y7M8G+P0c+r3jqkcU/yK72qKZBzj+tM989FzjVPxbgmr8yxN0/cOm5AXbg5D+5ctXAf0jtP5kqGJXUifQ/DsrqDELP/D8MCAhBojQEQDItVnmnVwxAiFXNvdHgE0BSSZ2AJuIbQAMJih9jjiNA5q4l5INuK0CPVN/5RT0zQHzxRXu8/DpAOZ7PgHrtQkAg8wGBzoxKQBSTN8DMeFJA2NmQf2ZqWEAAAAAAAFxeQEQX1LfMJmJAmpmZmZkfZUBmZmZmZhhoQLzoK0gzEWtAAAAAAAAKbkCiC+pbZoFwQAhyUMLM/XFA+I2vPTN6c0AQ5KCEmfZ0QAAAAAAAc3ZA8Btfe2bvd0AIclDCzGt5QPeNrz0z6HpAEOSghJlkfEAAAAAAAOF9QKML6ltmXX9ABTkoYeZsgED7xteeGSuBQAhyUMJM6YFAAAAAAICngkD4ja89s2WDQAU5KGHmI4RA+8bXnhnihEAIclDCTKCFQAAAAACAXoZA+I2vPbMch0AFOShh5tqHQPvG154ZmYhACHJQwkxXiUAAAAAAgBWKQPeNrz2z04pABTkoYeaRi0D7xteeGVCMQAlyUMJMDo1AAAAAAIDMjUD3ja89s4qOQGZmZmbmSI9A\",\"dtype\":\"float64\",\"shape\":[75]}}},\"id\":\"15ce95cf-7d69-4779-9da8-21da6360bb3a\",\"type\":\"ColumnDataSource\"},{\"attributes\":{\"fill_alpha\":{\"value\":0.7},\"fill_color\":{\"value\":\"#4daf4a\"},\"line_alpha\":{\"value\":0.7},\"line_color\":{\"value\":\"#4daf4a\"},\"x\":{\"field\":\"x\"},\"y\":{\"field\":\"y\"}},\"id\":\"1ec087f7-93e9-4305-8409-89d3408ebd1a\",\"type\":\"Circle\"},{\"attributes\":{\"dimension\":1,\"plot\":{\"id\":\"1e0d71e5-3c0e-4982-8956-2ded09026b43\",\"subtype\":\"Figure\",\"type\":\"Plot\"},\"ticker\":{\"id\":\"b92334db-5748-4cce-b217-8e25314d4e4b\",\"type\":\"LogTicker\"}},\"id\":\"6add87e8-89aa-4203-8771-bdddea242eee\",\"type\":\"Grid\"},{\"attributes\":{\"fill_alpha\":{\"value\":0.1},\"fill_color\":{\"value\":\"#1f77b4\"},\"line_alpha\":{\"value\":0.1},\"line_color\":{\"value\":\"#1f77b4\"},\"x\":{\"field\":\"x\"},\"y\":{\"field\":\"y\"}},\"id\":\"8a1e2f32-563d-4b7a-989c-9d5fdb9b85dc\",\"type\":\"Circle\"},{\"attributes\":{\"plot\":{\"id\":\"69a8acde-87fb-41aa-a034-951bd1dd33ab\",\"subtype\":\"Figure\",\"type\":\"Plot\"},\"ticker\":{\"id\":\"f060f61f-73e9-4d2f-bce7-1b35e5b5ac66\",\"type\":\"BasicTicker\"}},\"id\":\"d1abf4af-3d7d-4f1b-92ba-435f17d29a50\",\"type\":\"Grid\"},{\"attributes\":{\"fill_alpha\":{\"value\":0.1},\"fill_color\":{\"value\":\"#1f77b4\"},\"line_alpha\":{\"value\":0.1},\"line_color\":{\"value\":\"#1f77b4\"},\"x\":{\"field\":\"x\"},\"y\":{\"field\":\"y\"}},\"id\":\"14ccd111-756b-4e4e-a5aa-187dc210a703\",\"type\":\"Circle\"},{\"attributes\":{\"line_alpha\":0.6,\"line_color\":\"#e41a1c\",\"line_dash\":[6],\"line_width\":5,\"x\":{\"field\":\"x\"},\"y\":{\"field\":\"y\"}},\"id\":\"9c9144ec-b5a1-46f0-a4e4-ca8b676ee06b\",\"type\":\"Line\"},{\"attributes\":{},\"id\":\"04b9fe9a-15f9-4b67-86f9-328454cb1f98\",\"type\":\"HelpTool\"},{\"attributes\":{},\"id\":\"f060f61f-73e9-4d2f-bce7-1b35e5b5ac66\",\"type\":\"BasicTicker\"},{\"attributes\":{\"data_source\":{\"id\":\"144962dd-4812-4298-bb2a-26412c37eeeb\",\"type\":\"ColumnDataSource\"},\"glyph\":{\"id\":\"1ec087f7-93e9-4305-8409-89d3408ebd1a\",\"type\":\"Circle\"},\"hover_glyph\":null,\"muted_glyph\":null,\"nonselection_glyph\":{\"id\":\"8a1e2f32-563d-4b7a-989c-9d5fdb9b85dc\",\"type\":\"Circle\"},\"selection_glyph\":null,\"view\":{\"id\":\"c4629875-ac80-499c-a65c-d20a6fd41f58\",\"type\":\"CDSView\"}},\"id\":\"598026b8-e17d-444b-a0f9-179897327188\",\"type\":\"GlyphRenderer\"},{\"attributes\":{},\"id\":\"7ed03bb5-1652-429f-bdf7-b7c6793d1b11\",\"type\":\"WheelZoomTool\"},{\"attributes\":{\"below\":[{\"id\":\"933fee10-b371-4ea0-8ac3-0184ca96f598\",\"type\":\"LinearAxis\"}],\"left\":[{\"id\":\"df922589-fe56-47e4-aa27-d90b2fcafa18\",\"type\":\"LinearAxis\"}],\"plot_height\":500,\"plot_width\":400,\"renderers\":[{\"id\":\"933fee10-b371-4ea0-8ac3-0184ca96f598\",\"type\":\"LinearAxis\"},{\"id\":\"d1abf4af-3d7d-4f1b-92ba-435f17d29a50\",\"type\":\"Grid\"},{\"id\":\"df922589-fe56-47e4-aa27-d90b2fcafa18\",\"type\":\"LinearAxis\"},{\"id\":\"db36f586-4b02-413e-a2bd-e2b8a18686e5\",\"type\":\"Grid\"},{\"id\":\"4ba40bb5-998b-47b3-bfce-32c0fd818f58\",\"type\":\"BoxAnnotation\"},{\"id\":\"c285dbb9-d3c1-4d53-b9a6-2dc8ff3b14ab\",\"type\":\"GlyphRenderer\"},{\"id\":\"598026b8-e17d-444b-a0f9-179897327188\",\"type\":\"GlyphRenderer\"},{\"id\":\"2507210c-6702-4be5-b894-feea967c9619\",\"type\":\"GlyphRenderer\"},{\"id\":\"b83cc6b8-8122-4065-af32-107a10f32ff4\",\"type\":\"GlyphRenderer\"},{\"id\":\"03895658-597f-4887-9ca1-e863957a34c3\",\"type\":\"GlyphRenderer\"}],\"title\":{\"id\":\"525c1cac-84a4-4da6-b766-a54136a81f26\",\"type\":\"Title\"},\"toolbar\":{\"id\":\"9ea02f37-72ff-4b10-a6b1-e5280d3487f7\",\"type\":\"Toolbar\"},\"toolbar_location\":null,\"x_range\":{\"id\":\"1d21ab68-99e0-4256-adbd-1c33fa154aa8\",\"type\":\"Range1d\"},\"x_scale\":{\"id\":\"a12f9b84-515e-4619-980a-40313f9b3c3c\",\"type\":\"LinearScale\"},\"y_range\":{\"id\":\"70f808b5-e986-4663-b0dd-962795564dbe\",\"type\":\"Range1d\"},\"y_scale\":{\"id\":\"ee8529fc-ea89-437a-8a29-babe1d992003\",\"type\":\"LinearScale\"}},\"id\":\"69a8acde-87fb-41aa-a034-951bd1dd33ab\",\"subtype\":\"Figure\",\"type\":\"Plot\"},{\"attributes\":{\"ticker\":null},\"id\":\"ddf932e6-4896-41d0-9c10-13c25539d71d\",\"type\":\"LogTickFormatter\"},{\"attributes\":{\"plot\":null,\"text\":\"Linear pressure scale\"},\"id\":\"525c1cac-84a4-4da6-b766-a54136a81f26\",\"type\":\"Title\"},{\"attributes\":{},\"id\":\"ee8529fc-ea89-437a-8a29-babe1d992003\",\"type\":\"LinearScale\"},{\"attributes\":{\"callback\":null,\"column_names\":[\"x\",\"y\"],\"data\":{\"x\":{\"__ndarray__\":\"3ikVO7fczT88icbiUGLQP89XXizrQtU/fxCP5dl82j/QtbPYu/nfPyqck80LxuI/KPud3KWD5T/xBZi/YxToP8UqlDsiVeo/EDkBdgMf7D80fPJNJlDtP/e7JIxu1u0/VfKYHqC97T8qF89F6IzsP33+/yh/Eeo/ABrGWeh15z8nBP4yEJLlP4Fo3ljtbeQ/iDQB8YDz4z8sILyPBiTkP7JI8uAXTOU/m7nyH/Pd4z8Uu2wqQfXeP4BoYpGRudc/yPN0CeKX0j+nN2k7IrbMP+z/VpFVOsU/L1jktgHIvz+qWtrCVn26PzUNeANGQ7c/6naglU4AtD+CbrOhMGKwP9xkhFLcOq0/zKrIG3LJrT/5JOJzSOatP0d2ljp3pK0/U6VlWFAOrT+Udd8BA+CqP7NPpFTyTKg/P0GhH78Xpj+U7h4I3+ejP4mZFTsua6E/Dg8sCmUonT/vY5/cwxmWP+k6sMNou4k/ADc/icUrhT9e53ST9/WUP6D2ctfGY6E/WIkwgBsiqT/61NzKRQ6xPzAcnS3/pbU/2xZlNsgkuj/iiWpb3ma+PzkvZxlWL8E/jM5kxZEDwz/YMFyAKqzEP3g/VSLcJsY/WxAltatrxz8A0cQiI3PIP+pgu4PxNsk/KEqd29+0yT97Ac1SePHJP5TPG7zp9ck/Fvr97l/RyT9vpjrLyZfJP2d9yjFZXMk/yg8BLJcyyT8tjD4wkRzJPy5eRakx38g/YdWsddoByD/IJUwgPhPGP2YOzWU4WMM/LbbmGqiEwD+Al758V6m7P17XoS32/bU/\",\"dtype\":\"float64\",\"shape\":[75]},\"y\":{\"__ndarray__\":\"GhExyth1ND/Sv8nbtpRIP2vylNV0PVE/aTum7souWD/At0SJ8fVgPw3Iuahxymc/MSNhhJWvcD/bTfBN02d3P2zb5nxnaoA/CD5h5MAGhz8NmeH1TyaQP+zrCsc9p5Y/LbKd76fGnz/bLW5ISEmmPww9YvTcQq8/JV2OstnstT8Er5Y7M8G+P0c+r3jqkcU/5h99k6ZBzj88bCIzFzjVP4enV8oyxN0//yH99nXg5D8qOpLLf0jtP5kqGJXUifQ/c9cS8kHP/D+/DpwzojQEQIEmwoanVwxA4lgXt9HgE0BSSZ2AJuIbQAMJih9jjiNA5q4l5INuK0AwTKYKRj0zQNv5fmq8/DpAaCJseHrtQkB/+zpwzoxKQM3MzMzMeFJAZmZmZmZqWEAAAAAAAFxeQM3MzMzMJmJAmpmZmZkfZUBmZmZmZhhoQDMzMzMzEWtAAAAAAAAKbkBmZmZmZoFwQM3MzMzM/XFAMzMzMzN6c0CamZmZmfZ0QAAAAAAAc3ZAZmZmZmbvd0DNzMzMzGt5QDMzMzMz6HpAmpmZmZlkfEAAAAAAAOF9QGZmZmZmXX9AZmZmZuZsgECamZmZGSuBQM3MzMxM6YFAAAAAAICngkAzMzMzs2WDQGZmZmbmI4RAmpmZmRnihEDNzMzMTKCFQAAAAACAXoZAMzMzM7Mch0BmZmZm5tqHQJqZmZkZmYhAzczMzExXiUAAAAAAgBWKQDMzMzOz04pAZmZmZuaRi0CamZmZGVCMQM3MzMxMDo1AAAAAAIDMjUAzMzMzs4qOQGZmZmbmSI9A\",\"dtype\":\"float64\",\"shape\":[75]}}},\"id\":\"ce47a9c2-2da1-4ffa-bf05-bdc4081a3266\",\"type\":\"ColumnDataSource\"},{\"attributes\":{\"label\":{\"value\":\"CLIRAD `coolr_bands`\"},\"renderers\":[{\"id\":\"9e86b32d-67ca-4d2a-b9c7-03b8b32c7d90\",\"type\":\"GlyphRenderer\"}]},\"id\":\"cdf0cfbc-b826-48dd-863d-fdfba221ca12\",\"type\":\"LegendItem\"},{\"attributes\":{\"label\":{\"value\":\"CRD\"},\"renderers\":[{\"id\":\"1c7da77a-2218-4c91-9744-20927c049820\",\"type\":\"GlyphRenderer\"},{\"id\":\"0066f68e-b6fc-46b2-9d6a-ab88e030b90a\",\"type\":\"GlyphRenderer\"}]},\"id\":\"6360882f-08a4-4814-924e-247c84b5e375\",\"type\":\"LegendItem\"},{\"attributes\":{\"data_source\":{\"id\":\"15ce95cf-7d69-4779-9da8-21da6360bb3a\",\"type\":\"ColumnDataSource\"},\"glyph\":{\"id\":\"9c9144ec-b5a1-46f0-a4e4-ca8b676ee06b\",\"type\":\"Line\"},\"hover_glyph\":null,\"muted_glyph\":null,\"nonselection_glyph\":{\"id\":\"badce76e-6b47-47c3-bf74-1903ef576432\",\"type\":\"Line\"},\"selection_glyph\":null,\"view\":{\"id\":\"1cbe9d63-f045-4ba2-b68d-14f9ef2c7c11\",\"type\":\"CDSView\"}},\"id\":\"c285dbb9-d3c1-4d53-b9a6-2dc8ff3b14ab\",\"type\":\"GlyphRenderer\"},{\"attributes\":{\"source\":{\"id\":\"918559f2-bcf4-4ffb-b79e-f7c4e716e828\",\"type\":\"ColumnDataSource\"}},\"id\":\"1705859c-897a-4850-8268-4bbd06cdb38e\",\"type\":\"CDSView\"},{\"attributes\":{\"fill_alpha\":{\"value\":0.1},\"fill_color\":{\"value\":\"#1f77b4\"},\"line_alpha\":{\"value\":0.1},\"line_color\":{\"value\":\"#1f77b4\"},\"x\":{\"field\":\"x\"},\"y\":{\"field\":\"y\"}},\"id\":\"8fabd225-c315-4aa3-a3d3-df67e7b32a08\",\"type\":\"Square\"},{\"attributes\":{\"callback\":null,\"end\":0.20476688372399998,\"start\":0.005896083876000002},\"id\":\"1d21ab68-99e0-4256-adbd-1c33fa154aa8\",\"type\":\"Range1d\"},{\"attributes\":{\"children\":[{\"id\":\"69a8acde-87fb-41aa-a034-951bd1dd33ab\",\"subtype\":\"Figure\",\"type\":\"Plot\"},{\"id\":\"1e0d71e5-3c0e-4982-8956-2ded09026b43\",\"subtype\":\"Figure\",\"type\":\"Plot\"}]},\"id\":\"865cd1dc-7a90-48fb-9527-05582abfbf8c\",\"type\":\"Row\"},{\"attributes\":{\"data_source\":{\"id\":\"918559f2-bcf4-4ffb-b79e-f7c4e716e828\",\"type\":\"ColumnDataSource\"},\"glyph\":{\"id\":\"71d28c89-ffa3-4aff-86b7-2177630e7eed\",\"type\":\"Square\"},\"hover_glyph\":null,\"muted_glyph\":null,\"nonselection_glyph\":{\"id\":\"8fabd225-c315-4aa3-a3d3-df67e7b32a08\",\"type\":\"Square\"},\"selection_glyph\":null,\"view\":{\"id\":\"1705859c-897a-4850-8268-4bbd06cdb38e\",\"type\":\"CDSView\"}},\"id\":\"b83cc6b8-8122-4065-af32-107a10f32ff4\",\"type\":\"GlyphRenderer\"},{\"attributes\":{\"callback\":null,\"column_names\":[\"x\",\"y\"],\"data\":{\"x\":{\"__ndarray__\":\"lAUCU7yAxz/MLUpcCdXKP57eOVKFmNE/E8RxxzhS1j/MlqyKcFPbP1eTCtdhVOA/hrDYLoYV4z8BMrYIc9jlP/kbSHJUieg/NJ5rDPgE6z/WdD3RdSHtPzAA4BrQue4/Z+Edpp6h7z/pt23nFCfvP4y5EFCGz+w/knFzx+6E6T86ie9hgjzmP7lG0/JmgeM/4hdFrFHR4T/96AbQEIrhP5JpI43A7uI/XKvBJCpO4j/ZM/i5qZrdP4tzDn37Y9c/WQIAMjrB0j/uiLeMowvOP6UbF8T2ycc/IleHL1Vhwz9XKE7F+PbAP6FRNryLvb0/sPZZYO16uD9vi70N7cCyP1LV8m07Ga8/WGf2JY1krj9Tted2UgavP0vv3vtiibA/3XGzDRYtsT/BYBOm40KwP3EtPCpcYa0/Gz2BJ2JOqj/V6ZEdUyunP8XEwBw4xaM/k0XZ3EoPoD+w4PPNelSXP4yAr40d+Yg/OoxZGKHdgj8w1sqTiheUP36sXH99OqE/rrWKDfz5qD+12WWze9awP8WIgQR+OrU/cbRueWh8uT+zyMBLune9P8yXeorahcA/w1foQUkawj8/w7xDYYLDP/PUl2OByMQ/mbagc47sxT8J88OtJ9/GPxhvEiCWj8c/IcEaiOH6xz++nxov3STIP57SXtCEHsg/rQPWYND4xz8vsjJUpMbHP3ONQ7sSmsc/87ufCQOFxz8w5hnB54PHP6m2xF/NYMc/H6a3Hgmkxj+VA6hvuuHEPxLR+Tq6W8I/OtQIYHd4vz8ksCBqLnm6P91D4wXoKbU/\",\"dtype\":\"float64\",\"shape\":[75]},\"y\":{\"__ndarray__\":\"GhExyth1ND/Sv8nbtpRIP2vylNV0PVE/aTum7souWD/At0SJ8fVgPw3Iuahxymc/MSNhhJWvcD/bTfBN02d3P2zb5nxnaoA/CD5h5MAGhz8NmeH1TyaQP+zrCsc9p5Y/LbKd76fGnz/bLW5ISEmmPww9YvTcQq8/JV2OstnstT8Er5Y7M8G+P0c+r3jqkcU/5h99k6ZBzj88bCIzFzjVP4enV8oyxN0//yH99nXg5D8qOpLLf0jtP5kqGJXUifQ/c9cS8kHP/D+/DpwzojQEQIEmwoanVwxA4lgXt9HgE0BSSZ2AJuIbQAMJih9jjiNA5q4l5INuK0AwTKYKRj0zQNv5fmq8/DpAaCJseHrtQkB/+zpwzoxKQM3MzMzMeFJAZmZmZmZqWEAAAAAAAFxeQM3MzMzMJmJAmpmZmZkfZUBmZmZmZhhoQDMzMzMzEWtAAAAAAAAKbkBmZmZmZoFwQM3MzMzM/XFAMzMzMzN6c0CamZmZmfZ0QAAAAAAAc3ZAZmZmZmbvd0DNzMzMzGt5QDMzMzMz6HpAmpmZmZlkfEAAAAAAAOF9QGZmZmZmXX9AZmZmZuZsgECamZmZGSuBQM3MzMxM6YFAAAAAAICngkAzMzMzs2WDQGZmZmbmI4RAmpmZmRnihEDNzMzMTKCFQAAAAACAXoZAMzMzM7Mch0BmZmZm5tqHQJqZmZkZmYhAzczMzExXiUAAAAAAgBWKQDMzMzOz04pAZmZmZuaRi0CamZmZGVCMQM3MzMxMDo1AAAAAAIDMjUAzMzMzs4qOQGZmZmbmSI9A\",\"dtype\":\"float64\",\"shape\":[75]}}},\"id\":\"244efe49-fee0-407b-b453-53cc06c6834b\",\"type\":\"ColumnDataSource\"},{\"attributes\":{\"tools\":[{\"id\":\"fadc9f65-3db7-4275-a849-f4084b4cbe21\",\"type\":\"PanTool\"},{\"id\":\"7ed03bb5-1652-429f-bdf7-b7c6793d1b11\",\"type\":\"WheelZoomTool\"},{\"id\":\"b9efcc2d-a80d-4716-8156-ab076b175705\",\"type\":\"BoxZoomTool\"},{\"id\":\"eacb2988-b6fa-4a30-b09c-e6610a487e09\",\"type\":\"SaveTool\"},{\"id\":\"21f20ec2-788d-4860-a178-ad901361d1e8\",\"type\":\"ResetTool\"},{\"id\":\"04b9fe9a-15f9-4b67-86f9-328454cb1f98\",\"type\":\"HelpTool\"},{\"id\":\"5d8a34a0-bb8c-4d05-b659-c631bfaefc10\",\"type\":\"PanTool\"},{\"id\":\"884b17f3-8add-48e5-a7ce-a8f4b2ca516a\",\"type\":\"WheelZoomTool\"},{\"id\":\"fa0480c8-b9db-42d7-87bd-e134e4df00cb\",\"type\":\"BoxZoomTool\"},{\"id\":\"b5ac8a5e-0d8c-4a3e-87c9-0cee51fa74b0\",\"type\":\"SaveTool\"},{\"id\":\"e62f9ce9-1e97-4abb-bd0c-3adcf7754f5f\",\"type\":\"ResetTool\"},{\"id\":\"f1b7b2a0-b7a7-4eda-8587-812dfc739eb0\",\"type\":\"HelpTool\"}]},\"id\":\"ccb2d316-9334-44f1-9630-0ec9129460db\",\"type\":\"ProxyToolbar\"},{\"attributes\":{\"axis_label\":\"pressure [mb]\",\"formatter\":{\"id\":\"ddf932e6-4896-41d0-9c10-13c25539d71d\",\"type\":\"LogTickFormatter\"},\"plot\":{\"id\":\"1e0d71e5-3c0e-4982-8956-2ded09026b43\",\"subtype\":\"Figure\",\"type\":\"Plot\"},\"ticker\":{\"id\":\"b92334db-5748-4cce-b217-8e25314d4e4b\",\"type\":\"LogTicker\"}},\"id\":\"a5906026-556d-4c28-a645-9751d1caef9b\",\"type\":\"LogAxis\"},{\"attributes\":{\"label\":{\"value\":\"WGT igg=10 wgt_flux=2\"},\"renderers\":[{\"id\":\"8de1202d-caa4-4201-83e5-105808184e37\",\"type\":\"GlyphRenderer\"},{\"id\":\"7ddcf0ee-47d9-4080-a397-470b4c27bbd4\",\"type\":\"GlyphRenderer\"}]},\"id\":\"263c4a2d-aa90-4799-9387-b30233c6fd6a\",\"type\":\"LegendItem\"},{\"attributes\":{\"line_alpha\":0.1,\"line_color\":\"#1f77b4\",\"line_dash\":[6],\"line_width\":5,\"x\":{\"field\":\"x\"},\"y\":{\"field\":\"y\"}},\"id\":\"2b1bc984-2bf7-479d-8851-f7865022df95\",\"type\":\"Line\"},{\"attributes\":{\"data_source\":{\"id\":\"244efe49-fee0-407b-b453-53cc06c6834b\",\"type\":\"ColumnDataSource\"},\"glyph\":{\"id\":\"4089a666-a908-497a-9807-fa7f414d4fb1\",\"type\":\"Line\"},\"hover_glyph\":null,\"muted_glyph\":null,\"nonselection_glyph\":{\"id\":\"87faa905-6782-4c1b-a2c2-7d0f6714e754\",\"type\":\"Line\"},\"selection_glyph\":null,\"view\":{\"id\":\"b2dab799-b0cb-4ba9-8c4f-741792d7593b\",\"type\":\"CDSView\"}},\"id\":\"03895658-597f-4887-9ca1-e863957a34c3\",\"type\":\"GlyphRenderer\"},{\"attributes\":{\"plot\":{\"id\":\"1e0d71e5-3c0e-4982-8956-2ded09026b43\",\"subtype\":\"Figure\",\"type\":\"Plot\"},\"ticker\":{\"id\":\"b093a518-625f-406a-9fdc-7ba06627e5af\",\"type\":\"BasicTicker\"}},\"id\":\"a6164458-0230-4d8d-aeaf-2df44dc48122\",\"type\":\"Grid\"},{\"attributes\":{},\"id\":\"e9384651-abcc-4932-b32b-3e0b05ee8e75\",\"type\":\"BasicTickFormatter\"},{\"attributes\":{},\"id\":\"c3cf9874-6fb7-4d73-8342-5d24c0daa0e6\",\"type\":\"LinearScale\"},{\"attributes\":{\"num_minor_ticks\":10},\"id\":\"b92334db-5748-4cce-b217-8e25314d4e4b\",\"type\":\"LogTicker\"},{\"attributes\":{\"active_drag\":\"auto\",\"active_inspect\":\"auto\",\"active_scroll\":\"auto\",\"active_tap\":\"auto\",\"tools\":[{\"id\":\"5d8a34a0-bb8c-4d05-b659-c631bfaefc10\",\"type\":\"PanTool\"},{\"id\":\"884b17f3-8add-48e5-a7ce-a8f4b2ca516a\",\"type\":\"WheelZoomTool\"},{\"id\":\"fa0480c8-b9db-42d7-87bd-e134e4df00cb\",\"type\":\"BoxZoomTool\"},{\"id\":\"b5ac8a5e-0d8c-4a3e-87c9-0cee51fa74b0\",\"type\":\"SaveTool\"},{\"id\":\"e62f9ce9-1e97-4abb-bd0c-3adcf7754f5f\",\"type\":\"ResetTool\"},{\"id\":\"f1b7b2a0-b7a7-4eda-8587-812dfc739eb0\",\"type\":\"HelpTool\"}]},\"id\":\"d3118807-e52e-444f-b8b0-14cdceaa4673\",\"type\":\"Toolbar\"},{\"attributes\":{\"axis_label\":\"cooling rate [K/day]\",\"formatter\":{\"id\":\"4062c586-bb7c-495a-8c8c-cce232fd85fb\",\"type\":\"BasicTickFormatter\"},\"plot\":{\"id\":\"1e0d71e5-3c0e-4982-8956-2ded09026b43\",\"subtype\":\"Figure\",\"type\":\"Plot\"},\"ticker\":{\"id\":\"b093a518-625f-406a-9fdc-7ba06627e5af\",\"type\":\"BasicTicker\"}},\"id\":\"ec7ed868-18d3-40e3-9e69-ddf2fe05cd37\",\"type\":\"LinearAxis\"},{\"attributes\":{\"line_alpha\":0.1,\"line_color\":\"#1f77b4\",\"line_width\":3,\"x\":{\"field\":\"x\"},\"y\":{\"field\":\"y\"}},\"id\":\"87faa905-6782-4c1b-a2c2-7d0f6714e754\",\"type\":\"Line\"},{\"attributes\":{},\"id\":\"b093a518-625f-406a-9fdc-7ba06627e5af\",\"type\":\"BasicTicker\"},{\"attributes\":{},\"id\":\"7fa5bc12-cf9d-49e0-8351-5445eeb958a8\",\"type\":\"LogScale\"},{\"attributes\":{\"source\":{\"id\":\"244efe49-fee0-407b-b453-53cc06c6834b\",\"type\":\"ColumnDataSource\"}},\"id\":\"b2dab799-b0cb-4ba9-8c4f-741792d7593b\",\"type\":\"CDSView\"},{\"attributes\":{\"line_alpha\":0.6,\"line_color\":\"#984ea3\",\"line_width\":3,\"x\":{\"field\":\"x\"},\"y\":{\"field\":\"y\"}},\"id\":\"4089a666-a908-497a-9807-fa7f414d4fb1\",\"type\":\"Line\"},{\"attributes\":{\"callback\":null,\"column_names\":[\"x\",\"y\"],\"data\":{\"x\":{\"__ndarray__\":\"3ikVO7fczT88icbiUGLQP89XXizrQtU/fxCP5dl82j/QtbPYu/nfPyqck80LxuI/KPud3KWD5T/xBZi/YxToP8UqlDsiVeo/EDkBdgMf7D80fPJNJlDtP/e7JIxu1u0/VfKYHqC97T8qF89F6IzsP33+/yh/Eeo/ABrGWeh15z8nBP4yEJLlP4Fo3ljtbeQ/iDQB8YDz4z8sILyPBiTkP7JI8uAXTOU/m7nyH/Pd4z8Uu2wqQfXeP4BoYpGRudc/yPN0CeKX0j+nN2k7IrbMP+z/VpFVOsU/L1jktgHIvz+qWtrCVn26PzUNeANGQ7c/6naglU4AtD+CbrOhMGKwP9xkhFLcOq0/zKrIG3LJrT/5JOJzSOatP0d2ljp3pK0/U6VlWFAOrT+Udd8BA+CqP7NPpFTyTKg/P0GhH78Xpj+U7h4I3+ejP4mZFTsua6E/Dg8sCmUonT/vY5/cwxmWP+k6sMNou4k/ADc/icUrhT9e53ST9/WUP6D2ctfGY6E/WIkwgBsiqT/61NzKRQ6xPzAcnS3/pbU/2xZlNsgkuj/iiWpb3ma+PzkvZxlWL8E/jM5kxZEDwz/YMFyAKqzEP3g/VSLcJsY/WxAltatrxz8A0cQiI3PIP+pgu4PxNsk/KEqd29+0yT97Ac1SePHJP5TPG7zp9ck/Fvr97l/RyT9vpjrLyZfJP2d9yjFZXMk/yg8BLJcyyT8tjD4wkRzJPy5eRakx38g/YdWsddoByD/IJUwgPhPGP2YOzWU4WMM/LbbmGqiEwD+Al758V6m7P17XoS32/bU/\",\"dtype\":\"float64\",\"shape\":[75]},\"y\":{\"__ndarray__\":\"GhExyth1ND/Sv8nbtpRIP2vylNV0PVE/aTum7souWD/At0SJ8fVgPw3Iuahxymc/MSNhhJWvcD/bTfBN02d3P2zb5nxnaoA/CD5h5MAGhz8NmeH1TyaQP+zrCsc9p5Y/LbKd76fGnz/bLW5ISEmmPww9YvTcQq8/JV2OstnstT8Er5Y7M8G+P0c+r3jqkcU/5h99k6ZBzj88bCIzFzjVP4enV8oyxN0//yH99nXg5D8qOpLLf0jtP5kqGJXUifQ/c9cS8kHP/D+/DpwzojQEQIEmwoanVwxA4lgXt9HgE0BSSZ2AJuIbQAMJih9jjiNA5q4l5INuK0AwTKYKRj0zQNv5fmq8/DpAaCJseHrtQkB/+zpwzoxKQM3MzMzMeFJAZmZmZmZqWEAAAAAAAFxeQM3MzMzMJmJAmpmZmZkfZUBmZmZmZhhoQDMzMzMzEWtAAAAAAAAKbkBmZmZmZoFwQM3MzMzM/XFAMzMzMzN6c0CamZmZmfZ0QAAAAAAAc3ZAZmZmZmbvd0DNzMzMzGt5QDMzMzMz6HpAmpmZmZlkfEAAAAAAAOF9QGZmZmZmXX9AZmZmZuZsgECamZmZGSuBQM3MzMxM6YFAAAAAAICngkAzMzMzs2WDQGZmZmbmI4RAmpmZmRnihEDNzMzMTKCFQAAAAACAXoZAMzMzM7Mch0BmZmZm5tqHQJqZmZkZmYhAzczMzExXiUAAAAAAgBWKQDMzMzOz04pAZmZmZuaRi0CamZmZGVCMQM3MzMxMDo1AAAAAAIDMjUAzMzMzs4qOQGZmZmbmSI9A\",\"dtype\":\"float64\",\"shape\":[75]}}},\"id\":\"144962dd-4812-4298-bb2a-26412c37eeeb\",\"type\":\"ColumnDataSource\"},{\"attributes\":{},\"id\":\"f1b7b2a0-b7a7-4eda-8587-812dfc739eb0\",\"type\":\"HelpTool\"},{\"attributes\":{\"callback\":null,\"end\":0.01,\"start\":1020},\"id\":\"70f808b5-e986-4663-b0dd-962795564dbe\",\"type\":\"Range1d\"},{\"attributes\":{\"plot\":null,\"text\":\"Log pressure scale\"},\"id\":\"08aaef90-3fdd-4329-b890-7065c78ce074\",\"type\":\"Title\"},{\"attributes\":{},\"id\":\"e62f9ce9-1e97-4abb-bd0c-3adcf7754f5f\",\"type\":\"ResetTool\"},{\"attributes\":{},\"id\":\"b5ac8a5e-0d8c-4a3e-87c9-0cee51fa74b0\",\"type\":\"SaveTool\"},{\"attributes\":{\"line_alpha\":0.6,\"line_color\":\"#e41a1c\",\"line_dash\":[6],\"line_width\":5,\"x\":{\"field\":\"x\"},\"y\":{\"field\":\"y\"}},\"id\":\"076d663a-a1bf-465c-a989-177a7bdb2973\",\"type\":\"Line\"},{\"attributes\":{\"below\":[{\"id\":\"ec7ed868-18d3-40e3-9e69-ddf2fe05cd37\",\"type\":\"LinearAxis\"}],\"left\":[{\"id\":\"a5906026-556d-4c28-a645-9751d1caef9b\",\"type\":\"LogAxis\"}],\"plot_height\":500,\"plot_width\":560,\"renderers\":[{\"id\":\"ec7ed868-18d3-40e3-9e69-ddf2fe05cd37\",\"type\":\"LinearAxis\"},{\"id\":\"a6164458-0230-4d8d-aeaf-2df44dc48122\",\"type\":\"Grid\"},{\"id\":\"a5906026-556d-4c28-a645-9751d1caef9b\",\"type\":\"LogAxis\"},{\"id\":\"6add87e8-89aa-4203-8771-bdddea242eee\",\"type\":\"Grid\"},{\"id\":\"41ec8de9-6745-454e-9225-7bbd08926f50\",\"type\":\"BoxAnnotation\"},{\"id\":\"9e86b32d-67ca-4d2a-b9c7-03b8b32c7d90\",\"type\":\"GlyphRenderer\"},{\"id\":\"1c7da77a-2218-4c91-9744-20927c049820\",\"type\":\"GlyphRenderer\"},{\"id\":\"0066f68e-b6fc-46b2-9d6a-ab88e030b90a\",\"type\":\"GlyphRenderer\"},{\"id\":\"8de1202d-caa4-4201-83e5-105808184e37\",\"type\":\"GlyphRenderer\"},{\"id\":\"7ddcf0ee-47d9-4080-a397-470b4c27bbd4\",\"type\":\"GlyphRenderer\"},{\"id\":\"e89fec3a-9452-4492-90ab-07291e4ae63c\",\"type\":\"Legend\"}],\"right\":[{\"id\":\"e89fec3a-9452-4492-90ab-07291e4ae63c\",\"type\":\"Legend\"}],\"title\":{\"id\":\"08aaef90-3fdd-4329-b890-7065c78ce074\",\"type\":\"Title\"},\"toolbar\":{\"id\":\"d3118807-e52e-444f-b8b0-14cdceaa4673\",\"type\":\"Toolbar\"},\"toolbar_location\":null,\"x_range\":{\"id\":\"0e977478-0c3e-4ca9-83e1-f6b6f20c7e10\",\"type\":\"Range1d\"},\"x_scale\":{\"id\":\"c3cf9874-6fb7-4d73-8342-5d24c0daa0e6\",\"type\":\"LinearScale\"},\"y_range\":{\"id\":\"5a4708d3-f657-441c-927d-2cd196fb6f5d\",\"type\":\"Range1d\"},\"y_scale\":{\"id\":\"7fa5bc12-cf9d-49e0-8351-5445eeb958a8\",\"type\":\"LogScale\"}},\"id\":\"1e0d71e5-3c0e-4982-8956-2ded09026b43\",\"subtype\":\"Figure\",\"type\":\"Plot\"},{\"attributes\":{\"bottom_units\":\"screen\",\"fill_alpha\":{\"value\":0.5},\"fill_color\":{\"value\":\"lightgrey\"},\"left_units\":\"screen\",\"level\":\"overlay\",\"line_alpha\":{\"value\":1.0},\"line_color\":{\"value\":\"black\"},\"line_dash\":[4,4],\"line_width\":{\"value\":2},\"plot\":null,\"render_mode\":\"css\",\"right_units\":\"screen\",\"top_units\":\"screen\"},\"id\":\"41ec8de9-6745-454e-9225-7bbd08926f50\",\"type\":\"BoxAnnotation\"},{\"attributes\":{},\"id\":\"884b17f3-8add-48e5-a7ce-a8f4b2ca516a\",\"type\":\"WheelZoomTool\"},{\"attributes\":{},\"id\":\"5d8a34a0-bb8c-4d05-b659-c631bfaefc10\",\"type\":\"PanTool\"},{\"attributes\":{\"overlay\":{\"id\":\"41ec8de9-6745-454e-9225-7bbd08926f50\",\"type\":\"BoxAnnotation\"}},\"id\":\"fa0480c8-b9db-42d7-87bd-e134e4df00cb\",\"type\":\"BoxZoomTool\"}],\"root_ids\":[\"f937ab17-8efc-4995-a6db-c9700e6c11ba\"]},\"title\":\"Bokeh Application\",\"version\":\"0.12.14\"}};\n",
       "  var render_items = [{\"docid\":\"f2f27abd-9f91-410e-a089-4fdc963b0b3d\",\"elementid\":\"232e5d31-9d0c-4235-8677-f8f0a0fcde14\",\"modelid\":\"f937ab17-8efc-4995-a6db-c9700e6c11ba\"}];\n",
       "  root.Bokeh.embed.embed_items_notebook(docs_json, render_items);\n",
       "\n",
       "  }\n",
       "  if (root.Bokeh !== undefined) {\n",
       "    embed_document(root);\n",
       "  } else {\n",
       "    var attempts = 0;\n",
       "    var timer = setInterval(function(root) {\n",
       "      if (root.Bokeh !== undefined) {\n",
       "        embed_document(root);\n",
       "        clearInterval(timer);\n",
       "      }\n",
       "      attempts++;\n",
       "      if (attempts > 100) {\n",
       "        console.log(\"Bokeh: ERROR: Unable to run BokehJS code because BokehJS library is missing\")\n",
       "        clearInterval(timer);\n",
       "      }\n",
       "    }, 10, root)\n",
       "  }\n",
       "})(window);"
      ],
      "application/vnd.bokehjs_exec.v0+json": ""
     },
     "metadata": {
      "application/vnd.bokehjs_exec.v0+json": {
       "id": "f937ab17-8efc-4995-a6db-c9700e6c11ba"
      }
     },
     "output_type": "display_data"
    },
    {
     "name": "stdout",
     "output_type": "stream",
     "text": [
      "FIGURE. Cooling rate profiles.\n"
     ]
    },
    {
     "data": {
      "text/html": [
       "<a id=\"Flux_Comparison\"></a>"
      ],
      "text/plain": [
       "<IPython.core.display.HTML object>"
      ]
     },
     "metadata": {},
     "output_type": "display_data"
    },
    {
     "data": {
      "text/markdown": [
       "# Flux Comparison"
      ],
      "text/plain": [
       "<IPython.core.display.Markdown object>"
      ]
     },
     "metadata": {},
     "output_type": "display_data"
    },
    {
     "data": {
      "text/html": [
       "<div>\n",
       "<style>\n",
       "    .dataframe thead tr:only-child th {\n",
       "        text-align: right;\n",
       "    }\n",
       "\n",
       "    .dataframe thead th {\n",
       "        text-align: left;\n",
       "    }\n",
       "\n",
       "    .dataframe tbody tr th {\n",
       "        vertical-align: top;\n",
       "    }\n",
       "</style>\n",
       "<table border=\"1\" class=\"dataframe\">\n",
       "  <thead>\n",
       "    <tr style=\"text-align: right;\">\n",
       "      <th></th>\n",
       "      <th></th>\n",
       "      <th>flug</th>\n",
       "      <th>fldg</th>\n",
       "      <th>fnetg</th>\n",
       "    </tr>\n",
       "    <tr>\n",
       "      <th>pressure</th>\n",
       "      <th>level</th>\n",
       "      <th></th>\n",
       "      <th></th>\n",
       "      <th></th>\n",
       "    </tr>\n",
       "  </thead>\n",
       "  <tbody>\n",
       "    <tr>\n",
       "      <th>0.0000</th>\n",
       "      <th>1</th>\n",
       "      <td>-19.649536</td>\n",
       "      <td>0.000000</td>\n",
       "      <td>-19.649536</td>\n",
       "    </tr>\n",
       "    <tr>\n",
       "      <th>1.0685</th>\n",
       "      <th>24</th>\n",
       "      <td>-19.634852</td>\n",
       "      <td>0.057933</td>\n",
       "      <td>-19.576918</td>\n",
       "    </tr>\n",
       "    <tr>\n",
       "      <th>1013.0000</th>\n",
       "      <th>76</th>\n",
       "      <td>-23.591138</td>\n",
       "      <td>17.313984</td>\n",
       "      <td>-6.277154</td>\n",
       "    </tr>\n",
       "  </tbody>\n",
       "</table>\n",
       "</div>"
      ],
      "text/plain": [
       "                      flug       fldg      fnetg\n",
       "pressure  level                                 \n",
       "0.0000    1     -19.649536   0.000000 -19.649536\n",
       "1.0685    24    -19.634852   0.057933 -19.576918\n",
       "1013.0000 76    -23.591138  17.313984  -6.277154"
      ]
     },
     "metadata": {},
     "output_type": "display_data"
    },
    {
     "name": "stdout",
     "output_type": "stream",
     "text": [
      "Table. Fluxes. WGT igg=10 wgt_flux=1\n"
     ]
    },
    {
     "data": {
      "text/html": [
       "<div>\n",
       "<style>\n",
       "    .dataframe thead tr:only-child th {\n",
       "        text-align: right;\n",
       "    }\n",
       "\n",
       "    .dataframe thead th {\n",
       "        text-align: left;\n",
       "    }\n",
       "\n",
       "    .dataframe tbody tr th {\n",
       "        vertical-align: top;\n",
       "    }\n",
       "</style>\n",
       "<table border=\"1\" class=\"dataframe\">\n",
       "  <thead>\n",
       "    <tr style=\"text-align: right;\">\n",
       "      <th></th>\n",
       "      <th></th>\n",
       "      <th>flug</th>\n",
       "      <th>fldg</th>\n",
       "      <th>fnetg</th>\n",
       "    </tr>\n",
       "    <tr>\n",
       "      <th>pressure</th>\n",
       "      <th>level</th>\n",
       "      <th></th>\n",
       "      <th></th>\n",
       "      <th></th>\n",
       "    </tr>\n",
       "  </thead>\n",
       "  <tbody>\n",
       "    <tr>\n",
       "      <th>0.0000</th>\n",
       "      <th>1</th>\n",
       "      <td>-19.706173</td>\n",
       "      <td>0.000000</td>\n",
       "      <td>-19.706173</td>\n",
       "    </tr>\n",
       "    <tr>\n",
       "      <th>1.0685</th>\n",
       "      <th>24</th>\n",
       "      <td>-19.690942</td>\n",
       "      <td>0.062001</td>\n",
       "      <td>-19.628941</td>\n",
       "    </tr>\n",
       "    <tr>\n",
       "      <th>1013.0000</th>\n",
       "      <th>76</th>\n",
       "      <td>-23.591138</td>\n",
       "      <td>17.722380</td>\n",
       "      <td>-5.868758</td>\n",
       "    </tr>\n",
       "  </tbody>\n",
       "</table>\n",
       "</div>"
      ],
      "text/plain": [
       "                      flug       fldg      fnetg\n",
       "pressure  level                                 \n",
       "0.0000    1     -19.706173   0.000000 -19.706173\n",
       "1.0685    24    -19.690942   0.062001 -19.628941\n",
       "1013.0000 76    -23.591138  17.722380  -5.868758"
      ]
     },
     "metadata": {},
     "output_type": "display_data"
    },
    {
     "name": "stdout",
     "output_type": "stream",
     "text": [
      "Table. Fluxes. CRD\n"
     ]
    },
    {
     "data": {
      "text/html": [
       "<div>\n",
       "<style>\n",
       "    .dataframe thead tr:only-child th {\n",
       "        text-align: right;\n",
       "    }\n",
       "\n",
       "    .dataframe thead th {\n",
       "        text-align: left;\n",
       "    }\n",
       "\n",
       "    .dataframe tbody tr th {\n",
       "        vertical-align: top;\n",
       "    }\n",
       "</style>\n",
       "<table border=\"1\" class=\"dataframe\">\n",
       "  <thead>\n",
       "    <tr style=\"text-align: right;\">\n",
       "      <th></th>\n",
       "      <th></th>\n",
       "      <th>flug</th>\n",
       "      <th>fldg</th>\n",
       "      <th>fnetg</th>\n",
       "    </tr>\n",
       "    <tr>\n",
       "      <th>pressure</th>\n",
       "      <th>level</th>\n",
       "      <th></th>\n",
       "      <th></th>\n",
       "      <th></th>\n",
       "    </tr>\n",
       "  </thead>\n",
       "  <tbody>\n",
       "    <tr>\n",
       "      <th>1.000000e-08</th>\n",
       "      <th>1</th>\n",
       "      <td>-19.772005</td>\n",
       "      <td>0.000002</td>\n",
       "      <td>-19.772003</td>\n",
       "    </tr>\n",
       "    <tr>\n",
       "      <th>1.068500e+00</th>\n",
       "      <th>24</th>\n",
       "      <td>-19.757605</td>\n",
       "      <td>0.055096</td>\n",
       "      <td>-19.702509</td>\n",
       "    </tr>\n",
       "    <tr>\n",
       "      <th>1.013000e+03</th>\n",
       "      <th>76</th>\n",
       "      <td>-23.591141</td>\n",
       "      <td>17.205231</td>\n",
       "      <td>-6.385910</td>\n",
       "    </tr>\n",
       "  </tbody>\n",
       "</table>\n",
       "</div>"
      ],
      "text/plain": [
       "                         flug       fldg      fnetg\n",
       "pressure     level                                 \n",
       "1.000000e-08 1     -19.772005   0.000002 -19.772003\n",
       "1.068500e+00 24    -19.757605   0.055096 -19.702509\n",
       "1.013000e+03 76    -23.591141  17.205231  -6.385910"
      ]
     },
     "metadata": {},
     "output_type": "display_data"
    },
    {
     "name": "stdout",
     "output_type": "stream",
     "text": [
      "Table. Fluxes. CLIRAD\n"
     ]
    },
    {
     "data": {
      "text/html": [
       "<div>\n",
       "<style>\n",
       "    .dataframe thead tr:only-child th {\n",
       "        text-align: right;\n",
       "    }\n",
       "\n",
       "    .dataframe thead th {\n",
       "        text-align: left;\n",
       "    }\n",
       "\n",
       "    .dataframe tbody tr th {\n",
       "        vertical-align: top;\n",
       "    }\n",
       "</style>\n",
       "<table border=\"1\" class=\"dataframe\">\n",
       "  <thead>\n",
       "    <tr style=\"text-align: right;\">\n",
       "      <th></th>\n",
       "      <th></th>\n",
       "      <th>flug</th>\n",
       "      <th>fldg</th>\n",
       "      <th>fnetg</th>\n",
       "    </tr>\n",
       "    <tr>\n",
       "      <th>pressure</th>\n",
       "      <th>level</th>\n",
       "      <th></th>\n",
       "      <th></th>\n",
       "      <th></th>\n",
       "    </tr>\n",
       "  </thead>\n",
       "  <tbody>\n",
       "    <tr>\n",
       "      <th>0.0000</th>\n",
       "      <th>1</th>\n",
       "      <td>-0.056637</td>\n",
       "      <td>0.000000</td>\n",
       "      <td>-0.056637</td>\n",
       "    </tr>\n",
       "    <tr>\n",
       "      <th>1.0685</th>\n",
       "      <th>24</th>\n",
       "      <td>-0.056090</td>\n",
       "      <td>0.004068</td>\n",
       "      <td>-0.052023</td>\n",
       "    </tr>\n",
       "    <tr>\n",
       "      <th>1013.0000</th>\n",
       "      <th>76</th>\n",
       "      <td>0.000000</td>\n",
       "      <td>0.408396</td>\n",
       "      <td>0.408396</td>\n",
       "    </tr>\n",
       "  </tbody>\n",
       "</table>\n",
       "</div>"
      ],
      "text/plain": [
       "                     flug      fldg     fnetg\n",
       "pressure  level                              \n",
       "0.0000    1     -0.056637  0.000000 -0.056637\n",
       "1.0685    24    -0.056090  0.004068 -0.052023\n",
       "1013.0000 76     0.000000  0.408396  0.408396"
      ]
     },
     "metadata": {},
     "output_type": "display_data"
    },
    {
     "name": "stdout",
     "output_type": "stream",
     "text": [
      "Table. Fluxes. (CRD) - (WGT igg=10 wgt_flux=1)\n"
     ]
    },
    {
     "data": {
      "text/html": [
       "<div>\n",
       "<style>\n",
       "    .dataframe thead tr:only-child th {\n",
       "        text-align: right;\n",
       "    }\n",
       "\n",
       "    .dataframe thead th {\n",
       "        text-align: left;\n",
       "    }\n",
       "\n",
       "    .dataframe tbody tr th {\n",
       "        vertical-align: top;\n",
       "    }\n",
       "</style>\n",
       "<table border=\"1\" class=\"dataframe\">\n",
       "  <thead>\n",
       "    <tr style=\"text-align: right;\">\n",
       "      <th></th>\n",
       "      <th></th>\n",
       "      <th>flug</th>\n",
       "      <th>fldg</th>\n",
       "      <th>fnetg</th>\n",
       "    </tr>\n",
       "    <tr>\n",
       "      <th>pressure</th>\n",
       "      <th>level</th>\n",
       "      <th></th>\n",
       "      <th></th>\n",
       "      <th></th>\n",
       "    </tr>\n",
       "  </thead>\n",
       "  <tbody>\n",
       "    <tr>\n",
       "      <th>0.0000</th>\n",
       "      <th>1</th>\n",
       "      <td>-0.122469</td>\n",
       "      <td>0.000002</td>\n",
       "      <td>-0.122467</td>\n",
       "    </tr>\n",
       "    <tr>\n",
       "      <th>1.0685</th>\n",
       "      <th>24</th>\n",
       "      <td>-0.122753</td>\n",
       "      <td>-0.002838</td>\n",
       "      <td>-0.125591</td>\n",
       "    </tr>\n",
       "    <tr>\n",
       "      <th>1013.0000</th>\n",
       "      <th>76</th>\n",
       "      <td>-0.000003</td>\n",
       "      <td>-0.108753</td>\n",
       "      <td>-0.108756</td>\n",
       "    </tr>\n",
       "  </tbody>\n",
       "</table>\n",
       "</div>"
      ],
      "text/plain": [
       "                     flug      fldg     fnetg\n",
       "pressure  level                              \n",
       "0.0000    1     -0.122469  0.000002 -0.122467\n",
       "1.0685    24    -0.122753 -0.002838 -0.125591\n",
       "1013.0000 76    -0.000003 -0.108753 -0.108756"
      ]
     },
     "metadata": {},
     "output_type": "display_data"
    },
    {
     "name": "stdout",
     "output_type": "stream",
     "text": [
      "Table. Fluxes. (CLIRAD) - (WGT igg=10 wgt_flux=1)\n"
     ]
    },
    {
     "data": {
      "text/html": [
       "<a id=\"Best-fit_Parameters\"></a>"
      ],
      "text/plain": [
       "<IPython.core.display.HTML object>"
      ]
     },
     "metadata": {},
     "output_type": "display_data"
    },
    {
     "data": {
      "text/markdown": [
       "# Best-fit Parameters"
      ],
      "text/plain": [
       "<IPython.core.display.Markdown object>"
      ]
     },
     "metadata": {},
     "output_type": "display_data"
    },
    {
     "name": "stdout",
     "output_type": "stream",
     "text": [
      "Best-fit values for each (gas, band)\n",
      "------------------------------------\n",
      "o co2 band3a\n",
      "  atmpro = mls\n",
      "  band = 3a\n",
      "  commitnumber = 5014a19\n",
      "  conc = 0.0004\n",
      "  dv = 0.01\n",
      "  klin = 6.375563e-24\n",
      "  molecule = co2\n",
      "  ng_adju = [0, 0, 0]\n",
      "  ng_refs = [3, 2, 4]\n",
      "  nv = 100\n",
      "  option_compute_btable = 0\n",
      "  option_compute_ktable = 1\n",
      "  option_wgt_flux = 1\n",
      "  option_wgt_k = 1\n",
      "  ref_pts = [(1, 250), (10, 250), (500, 250)]\n",
      "  tsfc = 294\n",
      "  vmax = 620\n",
      "  vmin = 540\n",
      "  w_diffuse = [(1.6, 1.6, 1.7), (1.75, 1.75), (1.55, 1.55, 1.6, 1.85)]\n",
      "  wgt = [(0.7, 0.3, 0.7), (0.7, 0.6), (0.4, 0.5, 0.8, 0.95)]\n",
      "o h2o band3a\n",
      "  atmpro = mls\n",
      "  band = 3a\n",
      "  commitnumber = 5014a19\n",
      "  conc = None\n",
      "  dv = 0.01\n",
      "  klin = 0\n",
      "  molecule = h2o\n",
      "  ng_adju = [0, 0]\n",
      "  ng_refs = [2, 6]\n",
      "  nv = 100\n",
      "  option_compute_btable = 0\n",
      "  option_compute_ktable = 1\n",
      "  option_wgt_flux = 1\n",
      "  option_wgt_k = 1\n",
      "  ref_pts = [(10, 250), (600, 250)]\n",
      "  tsfc = 294\n",
      "  vmax = 620\n",
      "  vmin = 540\n",
      "  w_diffuse = [(1.9, 1.7), (1.4, 1.4, 1.4, 1.55, 1.6, 1.66)]\n",
      "  wgt = [(0.7, 0.7), (0.7, 0.5, 0.5, 0.5, 0.5, 0.5)]\n",
      "o n2o band3a\n",
      "  atmpro = mls\n",
      "  band = 3a\n",
      "  commitnumber = 5014a19\n",
      "  conc = 3.2e-07\n",
      "  dv = 0.01\n",
      "  klin = 2.22e-20\n",
      "  molecule = n2o\n",
      "  ng_adju = [0, 0]\n",
      "  ng_refs = [1, 2]\n",
      "  nv = 100\n",
      "  option_compute_btable = 0\n",
      "  option_compute_ktable = 1\n",
      "  option_wgt_flux = 1\n",
      "  option_wgt_k = 1\n",
      "  ref_pts = [(1, 250), (500, 250)]\n",
      "  tsfc = 294\n",
      "  vmax = 620\n",
      "  vmin = 540\n",
      "  w_diffuse = [(1.8,), (1.66, 1.8)]\n",
      "  wgt = [(0.9,), (0.5, 0.95)]\n"
     ]
    }
   ],
   "source": [
    "script()"
   ]
  },
  {
   "cell_type": "code",
   "execution_count": 13,
   "metadata": {
    "collapsed": true
   },
   "outputs": [
    {
     "data": {
      "text/html": [
       "<script>\n",
       "code_show=true; \n",
       "function code_toggle() {\n",
       " if (code_show){\n",
       " $('div.input').hide();\n",
       " } else {\n",
       " $('div.input').show();\n",
       " }\n",
       " code_show = !code_show\n",
       "} \n",
       "$( document ).ready(code_toggle);\n",
       "</script>\n",
       "<form action=\"javascript:code_toggle()\"><input type=\"submit\" value=\"Click here to toggle on/off the raw code.\"></form>"
      ],
      "text/plain": [
       "<IPython.core.display.HTML object>"
      ]
     },
     "execution_count": 13,
     "metadata": {},
     "output_type": "execute_result"
    }
   ],
   "source": [
    "display.HTML('''<script>\n",
    "code_show=true; \n",
    "function code_toggle() {\n",
    " if (code_show){\n",
    " $('div.input').hide();\n",
    " } else {\n",
    " $('div.input').show();\n",
    " }\n",
    " code_show = !code_show\n",
    "} \n",
    "$( document ).ready(code_toggle);\n",
    "</script>\n",
    "<form action=\"javascript:code_toggle()\"><input type=\"submit\" value=\"Click here to toggle on/off the raw code.\"></form>''')"
   ]
  }
 ],
 "metadata": {
  "kernelspec": {
   "display_name": "Python 3",
   "language": "python",
   "name": "python3"
  },
  "language_info": {
   "codemirror_mode": {
    "name": "ipython",
    "version": 3
   },
   "file_extension": ".py",
   "mimetype": "text/x-python",
   "name": "python",
   "nbconvert_exporter": "python",
   "pygments_lexer": "ipython3",
   "version": "3.6.1"
  }
 },
 "nbformat": 4,
 "nbformat_minor": 2
}
