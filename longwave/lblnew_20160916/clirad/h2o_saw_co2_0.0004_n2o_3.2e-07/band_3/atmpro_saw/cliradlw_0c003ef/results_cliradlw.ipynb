{
 "cells": [
  {
   "cell_type": "code",
   "execution_count": 1,
   "metadata": {
    "collapsed": true
   },
   "outputs": [],
   "source": [
    "%matplotlib inline\n",
    "import os\n",
    "import re\n",
    "import io\n",
    "import itertools\n",
    "import pprint\n",
    "\n",
    "from bokeh.io import output_notebook, show\n",
    "from bokeh.layouts import gridplot\n",
    "from bokeh.plotting import figure\n",
    "from bokeh.models import Range1d, Legend\n",
    "from bokeh.palettes import all_palettes\n",
    "\n",
    "import matplotlib\n",
    "import matplotlib.pyplot as plt\n",
    "import numpy as np\n",
    "import pandas as pd\n",
    "import xarray as xr\n",
    "\n",
    "import climatools.lblnew.bestfit_params as bestfits\n",
    "from climatools.lblnew import setup_bestfit, setup_overlap\n",
    "import climatools.lblnew.pipeline as pipe_lblnew\n",
    "import climatools.cliradlw.setup as setup_cliradlw\n",
    "import climatools.cliradlw.pipeline as pipe_cliradlw\n",
    "\n",
    "import climatools.html.html as climahtml\n",
    "from climatools.lblnew.dataio import *\n",
    "from climatools.plot.plot import *\n",
    "\n",
    "\n",
    "import IPython.display as display"
   ]
  },
  {
   "cell_type": "code",
   "execution_count": 2,
   "metadata": {
    "collapsed": true
   },
   "outputs": [],
   "source": [
    "%run param.py"
   ]
  },
  {
   "cell_type": "code",
   "execution_count": 3,
   "metadata": {
    "collapsed": true
   },
   "outputs": [],
   "source": [
    "def load_output_file(path_csv):\n",
    "    '''\n",
    "    Load lblnew output .csv file to xarray.Dataset\n",
    "    \n",
    "    Parameters\n",
    "    ----------\n",
    "    path_csv: str\n",
    "              Path to the .csv file to be loaded.\n",
    "    ds: xarray.Dataset\n",
    "        Data in the input file in the form of an xarray.Dataset.\n",
    "    '''\n",
    "    toindex = ['band', 'pressure', 'igg', 'g']    \n",
    "    df = pd.read_csv(path_csv, sep=r'\\s+')\n",
    "    df = df.set_index([i for i in toindex if i in df.columns])\n",
    "    df = df.rename(columns={'sfu': 'flug',\n",
    "                            'sfd': 'fldg',\n",
    "                            'fnet': 'fnetg',\n",
    "                            'coolr': 'coolrg'})\n",
    "    ds = xr.Dataset.from_dataframe(df)\n",
    "\n",
    "    for l in ('level', 'layer'):\n",
    "        if l in ds.data_vars:\n",
    "            if len(ds[l].dims) > 1:\n",
    "                surface = {d: 0 for d in ds.dims if d != 'pressure'}\n",
    "                coord_level = ds[l][surface]\n",
    "                ds.coords[l] = ('pressure', coord_level)\n",
    "            else:\n",
    "                ds.coords[l] = ('pressure', ds[l])\n",
    "    \n",
    "    return ds"
   ]
  },
  {
   "cell_type": "code",
   "execution_count": 4,
   "metadata": {
    "collapsed": true
   },
   "outputs": [],
   "source": [
    "def lblnew_setup(param=None):\n",
    "    if 'ng_refs' in param:\n",
    "        return {'setup': setup_bestfit,\n",
    "                'fname_flux_crd': 'output_flux.dat',\n",
    "                'fname_cool_crd': 'output_coolr.dat',\n",
    "                'fname_flux_wgt': 'output_wfluxg.dat',\n",
    "                'fname_cool_wgt': 'output_wcoolrg.dat'}\n",
    "    else:\n",
    "        return {'setup': setup_overlap,\n",
    "                'fname_flux_crd': 'output_flux.dat',\n",
    "                'fname_cool_crd': 'output_coolr.dat',\n",
    "                'fname_flux_wgt': 'output_wflux.dat',\n",
    "                'fname_cool_wgt': 'output_wcoolr.dat'}\n",
    "\n",
    "    \n",
    "def load_lblnew_data(param):\n",
    "    \n",
    "    fname_dsname = [('fname_flux_crd', 'ds_flux_crd'),\n",
    "                    ('fname_cool_crd', 'ds_cool_crd'),\n",
    "                    ('fname_flux_wgt', 'ds_flux_wgt'),\n",
    "                    ('fname_cool_wgt', 'ds_cool_wgt')]\n",
    "    \n",
    "    d = lblnew_setup(param)\n",
    "    dir_fortran = pipe_lblnew.get_dir_case(param, setup=d['setup'])\n",
    "    \n",
    "    data_dict = {}\n",
    "    for fname, dsname in fname_dsname:\n",
    "        fpath = os.path.join(dir_fortran, d[fname])\n",
    "        data_dict[dsname] = load_output_file(fpath)\n",
    "    return data_dict\n",
    "    \n",
    "\n",
    "    \n",
    "    "
   ]
  },
  {
   "cell_type": "code",
   "execution_count": 5,
   "metadata": {
    "collapsed": true
   },
   "outputs": [],
   "source": [
    "d = load_lblnew_data(PARAM_LBLNEW)\n",
    "\n",
    "DS_FLUX_CRD = d['ds_flux_crd']\n",
    "DS_COOL_CRD = d['ds_cool_crd']\n",
    "DS_FLUX_WGT = d['ds_flux_wgt']\n",
    "DS_COOL_WGT = d['ds_cool_wgt']"
   ]
  },
  {
   "cell_type": "code",
   "execution_count": 6,
   "metadata": {
    "collapsed": true
   },
   "outputs": [],
   "source": [
    "DIR_FORTRAN = pipe_cliradlw.get_fortran_dir(PARAM, \n",
    "                                            setup=setup_cliradlw)\n",
    "\n",
    "PATH_FLUX = os.path.join(DIR_FORTRAN, 'output_flux.dat')\n",
    "PATH_COOL = os.path.join(DIR_FORTRAN, 'output_coolr.dat')\n",
    "\n",
    "DS_FLUX = load_output_file(PATH_FLUX)\n",
    "DS_COOL = load_output_file(PATH_COOL)"
   ]
  },
  {
   "cell_type": "code",
   "execution_count": 7,
   "metadata": {
    "collapsed": true
   },
   "outputs": [
    {
     "data": {
      "text/html": [
       "\n",
       "    <div class=\"bk-root\">\n",
       "        <a href=\"https://bokeh.pydata.org\" target=\"_blank\" class=\"bk-logo bk-logo-small bk-logo-notebook\"></a>\n",
       "        <span id=\"ca249838-f918-4589-b972-7bbb499c8456\">Loading BokehJS ...</span>\n",
       "    </div>"
      ]
     },
     "metadata": {},
     "output_type": "display_data"
    },
    {
     "data": {
      "application/javascript": [
       "\n",
       "(function(root) {\n",
       "  function now() {\n",
       "    return new Date();\n",
       "  }\n",
       "\n",
       "  var force = true;\n",
       "\n",
       "  if (typeof (root._bokeh_onload_callbacks) === \"undefined\" || force === true) {\n",
       "    root._bokeh_onload_callbacks = [];\n",
       "    root._bokeh_is_loading = undefined;\n",
       "  }\n",
       "\n",
       "  var JS_MIME_TYPE = 'application/javascript';\n",
       "  var HTML_MIME_TYPE = 'text/html';\n",
       "  var EXEC_MIME_TYPE = 'application/vnd.bokehjs_exec.v0+json';\n",
       "  var CLASS_NAME = 'output_bokeh rendered_html';\n",
       "\n",
       "  /**\n",
       "   * Render data to the DOM node\n",
       "   */\n",
       "  function render(props, node) {\n",
       "    var script = document.createElement(\"script\");\n",
       "    node.appendChild(script);\n",
       "  }\n",
       "\n",
       "  /**\n",
       "   * Handle when an output is cleared or removed\n",
       "   */\n",
       "  function handleClearOutput(event, handle) {\n",
       "    var cell = handle.cell;\n",
       "\n",
       "    var id = cell.output_area._bokeh_element_id;\n",
       "    var server_id = cell.output_area._bokeh_server_id;\n",
       "    // Clean up Bokeh references\n",
       "    if (id !== undefined) {\n",
       "      Bokeh.index[id].model.document.clear();\n",
       "      delete Bokeh.index[id];\n",
       "    }\n",
       "\n",
       "    if (server_id !== undefined) {\n",
       "      // Clean up Bokeh references\n",
       "      var cmd = \"from bokeh.io.state import curstate; print(curstate().uuid_to_server['\" + server_id + \"'].get_sessions()[0].document.roots[0]._id)\";\n",
       "      cell.notebook.kernel.execute(cmd, {\n",
       "        iopub: {\n",
       "          output: function(msg) {\n",
       "            var element_id = msg.content.text.trim();\n",
       "            Bokeh.index[element_id].model.document.clear();\n",
       "            delete Bokeh.index[element_id];\n",
       "          }\n",
       "        }\n",
       "      });\n",
       "      // Destroy server and session\n",
       "      var cmd = \"import bokeh.io.notebook as ion; ion.destroy_server('\" + server_id + \"')\";\n",
       "      cell.notebook.kernel.execute(cmd);\n",
       "    }\n",
       "  }\n",
       "\n",
       "  /**\n",
       "   * Handle when a new output is added\n",
       "   */\n",
       "  function handleAddOutput(event, handle) {\n",
       "    var output_area = handle.output_area;\n",
       "    var output = handle.output;\n",
       "\n",
       "    // limit handleAddOutput to display_data with EXEC_MIME_TYPE content only\n",
       "    if ((output.output_type != \"display_data\") || (!output.data.hasOwnProperty(EXEC_MIME_TYPE))) {\n",
       "      return\n",
       "    }\n",
       "\n",
       "    var toinsert = output_area.element.find(\".\" + CLASS_NAME.split(' ')[0]);\n",
       "\n",
       "    if (output.metadata[EXEC_MIME_TYPE][\"id\"] !== undefined) {\n",
       "      toinsert[0].firstChild.textContent = output.data[JS_MIME_TYPE];\n",
       "      // store reference to embed id on output_area\n",
       "      output_area._bokeh_element_id = output.metadata[EXEC_MIME_TYPE][\"id\"];\n",
       "    }\n",
       "    if (output.metadata[EXEC_MIME_TYPE][\"server_id\"] !== undefined) {\n",
       "      var bk_div = document.createElement(\"div\");\n",
       "      bk_div.innerHTML = output.data[HTML_MIME_TYPE];\n",
       "      var script_attrs = bk_div.children[0].attributes;\n",
       "      for (var i = 0; i < script_attrs.length; i++) {\n",
       "        toinsert[0].firstChild.setAttribute(script_attrs[i].name, script_attrs[i].value);\n",
       "      }\n",
       "      // store reference to server id on output_area\n",
       "      output_area._bokeh_server_id = output.metadata[EXEC_MIME_TYPE][\"server_id\"];\n",
       "    }\n",
       "  }\n",
       "\n",
       "  function register_renderer(events, OutputArea) {\n",
       "\n",
       "    function append_mime(data, metadata, element) {\n",
       "      // create a DOM node to render to\n",
       "      var toinsert = this.create_output_subarea(\n",
       "        metadata,\n",
       "        CLASS_NAME,\n",
       "        EXEC_MIME_TYPE\n",
       "      );\n",
       "      this.keyboard_manager.register_events(toinsert);\n",
       "      // Render to node\n",
       "      var props = {data: data, metadata: metadata[EXEC_MIME_TYPE]};\n",
       "      render(props, toinsert[0]);\n",
       "      element.append(toinsert);\n",
       "      return toinsert\n",
       "    }\n",
       "\n",
       "    /* Handle when an output is cleared or removed */\n",
       "    events.on('clear_output.CodeCell', handleClearOutput);\n",
       "    events.on('delete.Cell', handleClearOutput);\n",
       "\n",
       "    /* Handle when a new output is added */\n",
       "    events.on('output_added.OutputArea', handleAddOutput);\n",
       "\n",
       "    /**\n",
       "     * Register the mime type and append_mime function with output_area\n",
       "     */\n",
       "    OutputArea.prototype.register_mime_type(EXEC_MIME_TYPE, append_mime, {\n",
       "      /* Is output safe? */\n",
       "      safe: true,\n",
       "      /* Index of renderer in `output_area.display_order` */\n",
       "      index: 0\n",
       "    });\n",
       "  }\n",
       "\n",
       "  // register the mime type if in Jupyter Notebook environment and previously unregistered\n",
       "  if (root.Jupyter !== undefined) {\n",
       "    var events = require('base/js/events');\n",
       "    var OutputArea = require('notebook/js/outputarea').OutputArea;\n",
       "\n",
       "    if (OutputArea.prototype.mime_types().indexOf(EXEC_MIME_TYPE) == -1) {\n",
       "      register_renderer(events, OutputArea);\n",
       "    }\n",
       "  }\n",
       "\n",
       "  \n",
       "  if (typeof (root._bokeh_timeout) === \"undefined\" || force === true) {\n",
       "    root._bokeh_timeout = Date.now() + 5000;\n",
       "    root._bokeh_failed_load = false;\n",
       "  }\n",
       "\n",
       "  var NB_LOAD_WARNING = {'data': {'text/html':\n",
       "     \"<div style='background-color: #fdd'>\\n\"+\n",
       "     \"<p>\\n\"+\n",
       "     \"BokehJS does not appear to have successfully loaded. If loading BokehJS from CDN, this \\n\"+\n",
       "     \"may be due to a slow or bad network connection. Possible fixes:\\n\"+\n",
       "     \"</p>\\n\"+\n",
       "     \"<ul>\\n\"+\n",
       "     \"<li>re-rerun `output_notebook()` to attempt to load from CDN again, or</li>\\n\"+\n",
       "     \"<li>use INLINE resources instead, as so:</li>\\n\"+\n",
       "     \"</ul>\\n\"+\n",
       "     \"<code>\\n\"+\n",
       "     \"from bokeh.resources import INLINE\\n\"+\n",
       "     \"output_notebook(resources=INLINE)\\n\"+\n",
       "     \"</code>\\n\"+\n",
       "     \"</div>\"}};\n",
       "\n",
       "  function display_loaded() {\n",
       "    var el = document.getElementById(\"ca249838-f918-4589-b972-7bbb499c8456\");\n",
       "    if (el != null) {\n",
       "      el.textContent = \"BokehJS is loading...\";\n",
       "    }\n",
       "    if (root.Bokeh !== undefined) {\n",
       "      if (el != null) {\n",
       "        el.textContent = \"BokehJS \" + root.Bokeh.version + \" successfully loaded.\";\n",
       "      }\n",
       "    } else if (Date.now() < root._bokeh_timeout) {\n",
       "      setTimeout(display_loaded, 100)\n",
       "    }\n",
       "  }\n",
       "\n",
       "\n",
       "  function run_callbacks() {\n",
       "    try {\n",
       "      root._bokeh_onload_callbacks.forEach(function(callback) { callback() });\n",
       "    }\n",
       "    finally {\n",
       "      delete root._bokeh_onload_callbacks\n",
       "    }\n",
       "    console.info(\"Bokeh: all callbacks have finished\");\n",
       "  }\n",
       "\n",
       "  function load_libs(js_urls, callback) {\n",
       "    root._bokeh_onload_callbacks.push(callback);\n",
       "    if (root._bokeh_is_loading > 0) {\n",
       "      console.log(\"Bokeh: BokehJS is being loaded, scheduling callback at\", now());\n",
       "      return null;\n",
       "    }\n",
       "    if (js_urls == null || js_urls.length === 0) {\n",
       "      run_callbacks();\n",
       "      return null;\n",
       "    }\n",
       "    console.log(\"Bokeh: BokehJS not loaded, scheduling load and callback at\", now());\n",
       "    root._bokeh_is_loading = js_urls.length;\n",
       "    for (var i = 0; i < js_urls.length; i++) {\n",
       "      var url = js_urls[i];\n",
       "      var s = document.createElement('script');\n",
       "      s.src = url;\n",
       "      s.async = false;\n",
       "      s.onreadystatechange = s.onload = function() {\n",
       "        root._bokeh_is_loading--;\n",
       "        if (root._bokeh_is_loading === 0) {\n",
       "          console.log(\"Bokeh: all BokehJS libraries loaded\");\n",
       "          run_callbacks()\n",
       "        }\n",
       "      };\n",
       "      s.onerror = function() {\n",
       "        console.warn(\"failed to load library \" + url);\n",
       "      };\n",
       "      console.log(\"Bokeh: injecting script tag for BokehJS library: \", url);\n",
       "      document.getElementsByTagName(\"head\")[0].appendChild(s);\n",
       "    }\n",
       "  };var element = document.getElementById(\"ca249838-f918-4589-b972-7bbb499c8456\");\n",
       "  if (element == null) {\n",
       "    console.log(\"Bokeh: ERROR: autoload.js configured with elementid 'ca249838-f918-4589-b972-7bbb499c8456' but no matching script tag was found. \")\n",
       "    return false;\n",
       "  }\n",
       "\n",
       "  var js_urls = [\"https://cdn.pydata.org/bokeh/release/bokeh-0.12.14.min.js\", \"https://cdn.pydata.org/bokeh/release/bokeh-widgets-0.12.14.min.js\", \"https://cdn.pydata.org/bokeh/release/bokeh-tables-0.12.14.min.js\", \"https://cdn.pydata.org/bokeh/release/bokeh-gl-0.12.14.min.js\"];\n",
       "\n",
       "  var inline_js = [\n",
       "    function(Bokeh) {\n",
       "      Bokeh.set_log_level(\"info\");\n",
       "    },\n",
       "    \n",
       "    function(Bokeh) {\n",
       "      \n",
       "    },\n",
       "    function(Bokeh) {\n",
       "      console.log(\"Bokeh: injecting CSS: https://cdn.pydata.org/bokeh/release/bokeh-0.12.14.min.css\");\n",
       "      Bokeh.embed.inject_css(\"https://cdn.pydata.org/bokeh/release/bokeh-0.12.14.min.css\");\n",
       "      console.log(\"Bokeh: injecting CSS: https://cdn.pydata.org/bokeh/release/bokeh-widgets-0.12.14.min.css\");\n",
       "      Bokeh.embed.inject_css(\"https://cdn.pydata.org/bokeh/release/bokeh-widgets-0.12.14.min.css\");\n",
       "      console.log(\"Bokeh: injecting CSS: https://cdn.pydata.org/bokeh/release/bokeh-tables-0.12.14.min.css\");\n",
       "      Bokeh.embed.inject_css(\"https://cdn.pydata.org/bokeh/release/bokeh-tables-0.12.14.min.css\");\n",
       "    }\n",
       "  ];\n",
       "\n",
       "  function run_inline_js() {\n",
       "    \n",
       "    if ((root.Bokeh !== undefined) || (force === true)) {\n",
       "      for (var i = 0; i < inline_js.length; i++) {\n",
       "        inline_js[i].call(root, root.Bokeh);\n",
       "      }if (force === true) {\n",
       "        display_loaded();\n",
       "      }} else if (Date.now() < root._bokeh_timeout) {\n",
       "      setTimeout(run_inline_js, 100);\n",
       "    } else if (!root._bokeh_failed_load) {\n",
       "      console.log(\"Bokeh: BokehJS failed to load within specified timeout.\");\n",
       "      root._bokeh_failed_load = true;\n",
       "    } else if (force !== true) {\n",
       "      var cell = $(document.getElementById(\"ca249838-f918-4589-b972-7bbb499c8456\")).parents('.cell').data().cell;\n",
       "      cell.output_area.append_execute_result(NB_LOAD_WARNING)\n",
       "    }\n",
       "\n",
       "  }\n",
       "\n",
       "  if (root._bokeh_is_loading === 0) {\n",
       "    console.log(\"Bokeh: BokehJS loaded, going straight to plotting\");\n",
       "    run_inline_js();\n",
       "  } else {\n",
       "    load_libs(js_urls, function() {\n",
       "      console.log(\"Bokeh: BokehJS plotting callback run at\", now());\n",
       "      run_inline_js();\n",
       "    });\n",
       "  }\n",
       "}(window));"
      ],
      "application/vnd.bokehjs_load.v0+json": "\n(function(root) {\n  function now() {\n    return new Date();\n  }\n\n  var force = true;\n\n  if (typeof (root._bokeh_onload_callbacks) === \"undefined\" || force === true) {\n    root._bokeh_onload_callbacks = [];\n    root._bokeh_is_loading = undefined;\n  }\n\n  \n\n  \n  if (typeof (root._bokeh_timeout) === \"undefined\" || force === true) {\n    root._bokeh_timeout = Date.now() + 5000;\n    root._bokeh_failed_load = false;\n  }\n\n  var NB_LOAD_WARNING = {'data': {'text/html':\n     \"<div style='background-color: #fdd'>\\n\"+\n     \"<p>\\n\"+\n     \"BokehJS does not appear to have successfully loaded. If loading BokehJS from CDN, this \\n\"+\n     \"may be due to a slow or bad network connection. Possible fixes:\\n\"+\n     \"</p>\\n\"+\n     \"<ul>\\n\"+\n     \"<li>re-rerun `output_notebook()` to attempt to load from CDN again, or</li>\\n\"+\n     \"<li>use INLINE resources instead, as so:</li>\\n\"+\n     \"</ul>\\n\"+\n     \"<code>\\n\"+\n     \"from bokeh.resources import INLINE\\n\"+\n     \"output_notebook(resources=INLINE)\\n\"+\n     \"</code>\\n\"+\n     \"</div>\"}};\n\n  function display_loaded() {\n    var el = document.getElementById(\"ca249838-f918-4589-b972-7bbb499c8456\");\n    if (el != null) {\n      el.textContent = \"BokehJS is loading...\";\n    }\n    if (root.Bokeh !== undefined) {\n      if (el != null) {\n        el.textContent = \"BokehJS \" + root.Bokeh.version + \" successfully loaded.\";\n      }\n    } else if (Date.now() < root._bokeh_timeout) {\n      setTimeout(display_loaded, 100)\n    }\n  }\n\n\n  function run_callbacks() {\n    try {\n      root._bokeh_onload_callbacks.forEach(function(callback) { callback() });\n    }\n    finally {\n      delete root._bokeh_onload_callbacks\n    }\n    console.info(\"Bokeh: all callbacks have finished\");\n  }\n\n  function load_libs(js_urls, callback) {\n    root._bokeh_onload_callbacks.push(callback);\n    if (root._bokeh_is_loading > 0) {\n      console.log(\"Bokeh: BokehJS is being loaded, scheduling callback at\", now());\n      return null;\n    }\n    if (js_urls == null || js_urls.length === 0) {\n      run_callbacks();\n      return null;\n    }\n    console.log(\"Bokeh: BokehJS not loaded, scheduling load and callback at\", now());\n    root._bokeh_is_loading = js_urls.length;\n    for (var i = 0; i < js_urls.length; i++) {\n      var url = js_urls[i];\n      var s = document.createElement('script');\n      s.src = url;\n      s.async = false;\n      s.onreadystatechange = s.onload = function() {\n        root._bokeh_is_loading--;\n        if (root._bokeh_is_loading === 0) {\n          console.log(\"Bokeh: all BokehJS libraries loaded\");\n          run_callbacks()\n        }\n      };\n      s.onerror = function() {\n        console.warn(\"failed to load library \" + url);\n      };\n      console.log(\"Bokeh: injecting script tag for BokehJS library: \", url);\n      document.getElementsByTagName(\"head\")[0].appendChild(s);\n    }\n  };var element = document.getElementById(\"ca249838-f918-4589-b972-7bbb499c8456\");\n  if (element == null) {\n    console.log(\"Bokeh: ERROR: autoload.js configured with elementid 'ca249838-f918-4589-b972-7bbb499c8456' but no matching script tag was found. \")\n    return false;\n  }\n\n  var js_urls = [\"https://cdn.pydata.org/bokeh/release/bokeh-0.12.14.min.js\", \"https://cdn.pydata.org/bokeh/release/bokeh-widgets-0.12.14.min.js\", \"https://cdn.pydata.org/bokeh/release/bokeh-tables-0.12.14.min.js\", \"https://cdn.pydata.org/bokeh/release/bokeh-gl-0.12.14.min.js\"];\n\n  var inline_js = [\n    function(Bokeh) {\n      Bokeh.set_log_level(\"info\");\n    },\n    \n    function(Bokeh) {\n      \n    },\n    function(Bokeh) {\n      console.log(\"Bokeh: injecting CSS: https://cdn.pydata.org/bokeh/release/bokeh-0.12.14.min.css\");\n      Bokeh.embed.inject_css(\"https://cdn.pydata.org/bokeh/release/bokeh-0.12.14.min.css\");\n      console.log(\"Bokeh: injecting CSS: https://cdn.pydata.org/bokeh/release/bokeh-widgets-0.12.14.min.css\");\n      Bokeh.embed.inject_css(\"https://cdn.pydata.org/bokeh/release/bokeh-widgets-0.12.14.min.css\");\n      console.log(\"Bokeh: injecting CSS: https://cdn.pydata.org/bokeh/release/bokeh-tables-0.12.14.min.css\");\n      Bokeh.embed.inject_css(\"https://cdn.pydata.org/bokeh/release/bokeh-tables-0.12.14.min.css\");\n    }\n  ];\n\n  function run_inline_js() {\n    \n    if ((root.Bokeh !== undefined) || (force === true)) {\n      for (var i = 0; i < inline_js.length; i++) {\n        inline_js[i].call(root, root.Bokeh);\n      }if (force === true) {\n        display_loaded();\n      }} else if (Date.now() < root._bokeh_timeout) {\n      setTimeout(run_inline_js, 100);\n    } else if (!root._bokeh_failed_load) {\n      console.log(\"Bokeh: BokehJS failed to load within specified timeout.\");\n      root._bokeh_failed_load = true;\n    } else if (force !== true) {\n      var cell = $(document.getElementById(\"ca249838-f918-4589-b972-7bbb499c8456\")).parents('.cell').data().cell;\n      cell.output_area.append_execute_result(NB_LOAD_WARNING)\n    }\n\n  }\n\n  if (root._bokeh_is_loading === 0) {\n    console.log(\"Bokeh: BokehJS loaded, going straight to plotting\");\n    run_inline_js();\n  } else {\n    load_libs(js_urls, function() {\n      console.log(\"Bokeh: BokehJS plotting callback run at\", now());\n      run_inline_js();\n    });\n  }\n}(window));"
     },
     "metadata": {},
     "output_type": "display_data"
    }
   ],
   "source": [
    "output_notebook()"
   ]
  },
  {
   "cell_type": "code",
   "execution_count": 8,
   "metadata": {
    "collapsed": true
   },
   "outputs": [],
   "source": [
    "def fmt_cool(ds_in):\n",
    "    ds = ds_in.copy(deep=True)\n",
    "    if 'igg' in ds.dims:\n",
    "        ds = ds.sel(igg=1)\n",
    "\n",
    "    if 'g' in ds.dims:\n",
    "        ds = ds.sum('g')\n",
    "            \n",
    "    if 'band' in ds.dims:\n",
    "        try:\n",
    "            ds = ds.squeeze('band')\n",
    "        except ValueError:\n",
    "            ds = ds.sum('band')\n",
    "                \n",
    "    return ds['coolrg']\n",
    "\n",
    "\n",
    "def pltdata_cooling_1(ds_cool=None,\n",
    "                      ds_cool_crd=None, ds_cool_wgt=None):\n",
    "    \n",
    "\n",
    "\n",
    "    colors = all_palettes['Set1'][4]\n",
    "    data = [{'label': 'CLIRAD `coolr_bands`',\n",
    "             'srs': fmt_cool(ds_cool),\n",
    "             'line_dash': 'dashed', 'line_width': 5,\n",
    "             'color': colors[0], 'alpha': .6},\n",
    "            {'label': 'CRD',\n",
    "             'srs': fmt_cool(ds_cool_crd),\n",
    "             'line_dash': 'solid', 'line_width': 1.5,\n",
    "             'marker': 'circle', 'marker_size': 5,\n",
    "             'color': colors[2], 'alpha': 1,},\n",
    "            {'label': 'WGT igg=10 wgt_flux=2',\n",
    "             'srs': fmt_cool(ds_cool_wgt),\n",
    "             'line_dash': 'solid', 'line_width': 3,\n",
    "             'marker': 'square', 'marker_size': 5,\n",
    "             'color': colors[3], 'alpha': .6}]\n",
    "    return data\n",
    "\n",
    "\n",
    "def nice_xlims(pltdata=None, prange=None):\n",
    "    \n",
    "    def get_slice(srs):\n",
    "        return srs.sel(pressure=slice(*prange))\n",
    "    \n",
    "    srss = [d['srs'] for d in pltdata]\n",
    "    vmin = min([get_slice(srs).min() for srs in srss])\n",
    "    vmax = max([get_slice(srs).max() for srs in srss])\n",
    "    dv = (vmax - vmin) * .01\n",
    "    return float(vmin - dv), float(vmax + dv)\n",
    "    \n",
    "\n",
    "def plt_cooling_bokeh(pltdata=None):\n",
    "    '''\n",
    "    Plot a list of cooling rate profiles using bokeh.\n",
    "    '''\n",
    "    ymin = 1e-2 \n",
    "    ymax = 1020 \n",
    "        \n",
    "    p1 = figure(title=\"Linear pressure scale\", \n",
    "                plot_width=400)        \n",
    "    xmin, xmax = nice_xlims(pltdata, prange=(50, 1050))\n",
    "    for d in pltdata:\n",
    "        if 'marker' in d:\n",
    "            getattr(p1, d['marker'])(d['srs'].values, \n",
    "                    d['srs'].coords['pressure'].values,\n",
    "                    color=d['color'], alpha=.7)\n",
    "        p1.line(d['srs'].values, \n",
    "                d['srs'].coords['pressure'].values,\n",
    "                color=d['color'], alpha=d['alpha'], \n",
    "                line_width=d['line_width'], line_dash=d['line_dash'])\n",
    "    \n",
    "    p1.y_range = Range1d(ymax, ymin)\n",
    "    p1.yaxis.axis_label = 'pressure [mb]'   \n",
    "    p1.x_range = Range1d(xmin, xmax)\n",
    "    p1.xaxis.axis_label = 'cooling rate [K/day]'\n",
    "            \n",
    "    p2 = figure(title='Log pressure scale', y_axis_type='log',\n",
    "                plot_width=560)\n",
    "    xmin, xmax = nice_xlims(pltdata, prange=(.01, 200))\n",
    "    \n",
    "    rs = []\n",
    "    for d in pltdata:\n",
    "        rd = []\n",
    "        if 'marker' in d:\n",
    "            r_mark = getattr(p2, d['marker'])(d['srs'].values, \n",
    "                        d['srs'].coords['pressure'].values,\n",
    "                        color=d['color'], alpha=.7)\n",
    "            rd.append(r_mark)\n",
    "        r_line = p2.line(d['srs'].values, \n",
    "                    d['srs'].coords['pressure'].values,\n",
    "                    color=d['color'], alpha=d['alpha'], \n",
    "                    line_width=d['line_width'], line_dash=d['line_dash'])\n",
    "        rd.append(r_line)\n",
    "      \n",
    "        rs.append(rd)\n",
    "        \n",
    "    p2.y_range = Range1d(ymax, ymin)  \n",
    "    p2.yaxis.axis_label = 'pressure [mb]'\n",
    "    \n",
    "    p2.x_range = Range1d(xmin, xmax)\n",
    "    p2.xaxis.axis_label = 'cooling rate [K/day]'\n",
    "    \n",
    "    items = [(d['label'], r) for r, d in zip(rs, pltdata)]\n",
    "    legend = Legend(items=items, location=(10, -30))\n",
    "    legend.label_text_font_size = '8pt'\n",
    "    \n",
    "    p2.add_layout(legend, 'right')  \n",
    "    \n",
    "    show(gridplot(p1, p2, ncols=2, plot_height=500))\n",
    "    \n",
    "\n",
    "def script_plt_cooling():\n",
    "    pltdata = pltdata_cooling_1(\n",
    "        ds_cool=DS_COOL,\n",
    "        ds_cool_crd=DS_COOL_CRD,\n",
    "        ds_cool_wgt=DS_COOL_WGT)\n",
    "    plt_cooling_bokeh(pltdata=pltdata)\n",
    "    print('''FIGURE. Cooling rate profiles.''')"
   ]
  },
  {
   "cell_type": "code",
   "execution_count": 9,
   "metadata": {
    "collapsed": true
   },
   "outputs": [],
   "source": [
    "def fmt_flux(ds_in):\n",
    "    ds = ds_in.copy(deep=True)\n",
    "    \n",
    "    for l in ('level', 'layer'):\n",
    "        if l in ds.data_vars:\n",
    "            if len(ds[l].dims) > 1:\n",
    "                surface = {d: 0 for d in ds.dims if d != 'pressure'}\n",
    "                coord_level = ds[l][surface]\n",
    "                ds.coords[l] = ('pressure', coord_level)\n",
    "            else:\n",
    "                ds.coords[l] = ('pressure', ds[l])\n",
    "        \n",
    "    ds = ds.isel(pressure=[0, 23, -1])\n",
    "        \n",
    "    if 'igg' in ds.dims:\n",
    "        ds = ds.sel(igg=[1])\n",
    "        ds = ds.squeeze('igg').drop('igg')\n",
    "    \n",
    "    if 'g' in ds.dims:\n",
    "        ds = ds.sum('g')\n",
    "            \n",
    "    if 'band' in ds.dims:\n",
    "        try:\n",
    "            ds = ds.squeeze('band').drop('band')\n",
    "        except ValueError:\n",
    "            ds = ds.sum('band')\n",
    "                \n",
    "    df = ds.to_dataframe()\n",
    "    df = df.set_index('level', append=True)               \n",
    "    return df\n",
    "\n",
    "\n",
    "def tbdata_flux(ds_flux=None, ds_flux_crd=None, ds_flux_wgt=None):\n",
    "    ilevels = [0, 23, -1]\n",
    "            \n",
    "    benchmark = {'label': 'WGT igg=10 wgt_flux=1',\n",
    "                 'df': fmt_flux(ds_flux_wgt)}\n",
    "    \n",
    "    tbs = [{'label': 'CRD',\n",
    "            'df': fmt_flux(ds_flux_crd)},\n",
    "           {'label': 'CLIRAD',\n",
    "            'df': fmt_flux(ds_flux)}]\n",
    "    \n",
    "    data = {'benchmark': benchmark, 'others': tbs}\n",
    "    return data\n",
    "\n",
    "\n",
    "def tb_flux(tbdata=None):\n",
    "    benchmark = tbdata['benchmark']\n",
    "    others = tbdata['others']\n",
    "    \n",
    "    def show_tb(d=None):\n",
    "        display.display(d['df'])\n",
    "        print('Table.', 'Fluxes.', d['label'])\n",
    "        \n",
    "    def show_tbdiff(d0=None, d=None):\n",
    "        df = d['df']\n",
    "        df.index = d0['df'].index\n",
    "        display.display(df - d0['df'])\n",
    "        print('Table.', 'Fluxes.', \n",
    "              '({}) - ({})'.format(d['label'], d0['label']))\n",
    "        \n",
    "    show_tb(benchmark)\n",
    "    for d in others:\n",
    "        show_tb(d)\n",
    "        \n",
    "    for d in others:\n",
    "        show_tbdiff(d=d, d0=benchmark)\n",
    "        \n",
    "        \n",
    "def script_tb_flux():\n",
    "    data = tbdata_flux(ds_flux=DS_FLUX,\n",
    "                       ds_flux_crd=DS_FLUX_CRD,\n",
    "                       ds_flux_wgt=DS_FLUX_WGT)\n",
    "    tb_flux(tbdata=data)"
   ]
  },
  {
   "cell_type": "code",
   "execution_count": 10,
   "metadata": {
    "collapsed": true
   },
   "outputs": [],
   "source": [
    "def band_map():\n",
    "    '''\n",
    "    Maps spectral bands in lblnew to spectral bands in clirad.\n",
    "    '''\n",
    "    lblnew2clirad = {'1': '1',\n",
    "            '2': '2',\n",
    "            '3a': '3',\n",
    "            '3b': '4',\n",
    "            '3c': '5',\n",
    "            '4': '6', \n",
    "            '5': '7',\n",
    "            '6': '8',\n",
    "            '7': '9', \n",
    "            '8': '10',\n",
    "            '9': '11'}\n",
    "    \n",
    "    clirad2lblnew = {clirad: lblnew \n",
    "                     for lblnew, clirad in lblnew2clirad.items()}\n",
    "    return clirad2lblnew\n",
    "\n",
    "\n",
    "def gasbands():\n",
    "    bmap = band_map()\n",
    "    gases = list(PARAM['molecule'].keys())\n",
    "    \n",
    "    bands = [bmap[str(b)] for b in PARAM['band']]\n",
    "    return list(itertools.product(gases, bands))\n",
    "\n",
    "\n",
    "def print_bestfit_params():\n",
    "    print('Best-fit values for each (gas, band)')\n",
    "    print('------------------------------------')\n",
    "    for gas, band in gasbands():\n",
    "        print('o {} band{}'.format(gas, band))\n",
    "        param = bestfits.kdist_params(molecule=gas, band=band)\n",
    "        for name, value in sorted(param.items()):\n",
    "            print(2 * ' ' + '{} = {}'.format(name, value))\n",
    "\n",
    "        \n",
    "def print_input_param():        \n",
    "    for name, value in PARAM.items():\n",
    "        print('{} = {}'.format(name, value))\n",
    "        \n",
    "        \n",
    "def print_lblnew_param():\n",
    "    for name, value in sorted(PARAM_LBLNEW.items()):\n",
    "        print('{} = {}'.format(name, value))\n"
   ]
  },
  {
   "cell_type": "code",
   "execution_count": 11,
   "metadata": {
    "collapsed": true,
    "scrolled": false
   },
   "outputs": [],
   "source": [
    "def show_html(s):\n",
    "    display.display(display.HTML(s))\n",
    "\n",
    "    \n",
    "def show_markdown(s):\n",
    "    display.display(display.Markdown(s))\n",
    "\n",
    "    \n",
    "def script():\n",
    "    \n",
    "    title = '### CLIRAD-LW'\n",
    "    s_input = 'Input Parameters'\n",
    "    s_lblnew_param = 'LBLNEW case compaired against'\n",
    "    s_bestfits = 'Best-fit Parameters'\n",
    "    s_plt_cooling = 'Cooling Rate Profiles'\n",
    "    s_tb_flux = 'Flux Comparison'\n",
    "    \n",
    "    # title\n",
    "    show_markdown('### CLIRAD-LW')\n",
    "    \n",
    "    # TOC\n",
    "    show_markdown('### Table of Contents')\n",
    "    show_html(climahtml.getHTML_hrefanchor(s_input))\n",
    "    show_html(climahtml.getHTML_hrefanchor(s_lblnew_param))\n",
    "    show_html(climahtml.getHTML_hrefanchor(s_plt_cooling))\n",
    "    show_html(climahtml.getHTML_hrefanchor(s_tb_flux))\n",
    "    show_html(climahtml.getHTML_hrefanchor(s_bestfits))\n",
    "    \n",
    "    # Input parameters\n",
    "    show_html(climahtml.getHTML_idanchor(s_input))\n",
    "    show_markdown(climahtml.getMarkdown_sectitle(s_input))\n",
    "    print_input_param()\n",
    "    \n",
    "    # LBLNEW parameters \n",
    "    show_html(climahtml.getHTML_idanchor(s_lblnew_param))\n",
    "    show_markdown(climahtml.getMarkdown_sectitle(s_lblnew_param))\n",
    "    print_lblnew_param()\n",
    "    \n",
    "    # Cooling rate profiles\n",
    "    show_html(climahtml.getHTML_idanchor(s_plt_cooling))\n",
    "    show_markdown(climahtml.getMarkdown_sectitle(s_plt_cooling))\n",
    "    script_plt_cooling()\n",
    "    \n",
    "    # Flux comparison\n",
    "    show_html(climahtml.getHTML_idanchor(s_tb_flux))\n",
    "    show_markdown(climahtml.getMarkdown_sectitle(s_tb_flux))\n",
    "    script_tb_flux()\n",
    "    \n",
    "    # Best-fit values\n",
    "    show_html(climahtml.getHTML_idanchor(s_bestfits))\n",
    "    show_markdown(climahtml.getMarkdown_sectitle(s_bestfits))\n",
    "    print_bestfit_params()\n",
    "   \n",
    "    "
   ]
  },
  {
   "cell_type": "code",
   "execution_count": 12,
   "metadata": {
    "collapsed": true,
    "scrolled": false
   },
   "outputs": [
    {
     "data": {
      "text/markdown": [
       "### CLIRAD-LW"
      ],
      "text/plain": [
       "<IPython.core.display.Markdown object>"
      ]
     },
     "metadata": {},
     "output_type": "display_data"
    },
    {
     "data": {
      "text/markdown": [
       "### Table of Contents"
      ],
      "text/plain": [
       "<IPython.core.display.Markdown object>"
      ]
     },
     "metadata": {},
     "output_type": "display_data"
    },
    {
     "data": {
      "text/html": [
       "<a href=\"#Input_Parameters\">Input Parameters</a>"
      ],
      "text/plain": [
       "<IPython.core.display.HTML object>"
      ]
     },
     "metadata": {},
     "output_type": "display_data"
    },
    {
     "data": {
      "text/html": [
       "<a href=\"#LBLNEW_case_compaired_against\">LBLNEW case compaired against</a>"
      ],
      "text/plain": [
       "<IPython.core.display.HTML object>"
      ]
     },
     "metadata": {},
     "output_type": "display_data"
    },
    {
     "data": {
      "text/html": [
       "<a href=\"#Cooling_Rate_Profiles\">Cooling Rate Profiles</a>"
      ],
      "text/plain": [
       "<IPython.core.display.HTML object>"
      ]
     },
     "metadata": {},
     "output_type": "display_data"
    },
    {
     "data": {
      "text/html": [
       "<a href=\"#Flux_Comparison\">Flux Comparison</a>"
      ],
      "text/plain": [
       "<IPython.core.display.HTML object>"
      ]
     },
     "metadata": {},
     "output_type": "display_data"
    },
    {
     "data": {
      "text/html": [
       "<a href=\"#Best-fit_Parameters\">Best-fit Parameters</a>"
      ],
      "text/plain": [
       "<IPython.core.display.HTML object>"
      ]
     },
     "metadata": {},
     "output_type": "display_data"
    },
    {
     "data": {
      "text/html": [
       "<a id=\"Input_Parameters\"></a>"
      ],
      "text/plain": [
       "<IPython.core.display.HTML object>"
      ]
     },
     "metadata": {},
     "output_type": "display_data"
    },
    {
     "data": {
      "text/markdown": [
       "# Input Parameters"
      ],
      "text/plain": [
       "<IPython.core.display.Markdown object>"
      ]
     },
     "metadata": {},
     "output_type": "display_data"
    },
    {
     "name": "stdout",
     "output_type": "stream",
     "text": [
      "atmpro = saw\n",
      "band = [3]\n",
      "commitnumber = 0c003ef\n",
      "molecule = {'co2': 0.0004, 'h2o': 'atmpro', 'n2o': 3.2e-07}\n",
      "tsfc = 257\n"
     ]
    },
    {
     "data": {
      "text/html": [
       "<a id=\"LBLNEW_case_compaired_against\"></a>"
      ],
      "text/plain": [
       "<IPython.core.display.HTML object>"
      ]
     },
     "metadata": {},
     "output_type": "display_data"
    },
    {
     "data": {
      "text/markdown": [
       "# LBLNEW case compaired against"
      ],
      "text/plain": [
       "<IPython.core.display.Markdown object>"
      ]
     },
     "metadata": {},
     "output_type": "display_data"
    },
    {
     "name": "stdout",
     "output_type": "stream",
     "text": [
      "atmpro = saw\n",
      "band = 3a\n",
      "commitnumber = 5014a19\n",
      "dv = 0.01\n",
      "molecule = {'co2': 0.0004, 'h2o': 'atmpro', 'n2o': 3.2e-07}\n",
      "nv = 100\n",
      "tsfc = 257\n"
     ]
    },
    {
     "data": {
      "text/html": [
       "<a id=\"Cooling_Rate_Profiles\"></a>"
      ],
      "text/plain": [
       "<IPython.core.display.HTML object>"
      ]
     },
     "metadata": {},
     "output_type": "display_data"
    },
    {
     "data": {
      "text/markdown": [
       "# Cooling Rate Profiles"
      ],
      "text/plain": [
       "<IPython.core.display.Markdown object>"
      ]
     },
     "metadata": {},
     "output_type": "display_data"
    },
    {
     "data": {
      "text/html": [
       "\n",
       "<div class=\"bk-root\">\n",
       "    <div class=\"bk-plotdiv\" id=\"b5f8296f-b965-4e7b-9fa8-d3d82221ccb3\"></div>\n",
       "</div>"
      ]
     },
     "metadata": {},
     "output_type": "display_data"
    },
    {
     "data": {
      "application/javascript": [
       "(function(root) {\n",
       "  function embed_document(root) {\n",
       "    \n",
       "  var docs_json = {\"e1e49fd0-359e-4e8b-82b1-57ebe1f3d3fb\":{\"roots\":{\"references\":[{\"attributes\":{\"children\":[{\"id\":\"3587b69c-9991-4c24-9dd9-084c6f6f59dc\",\"subtype\":\"Figure\",\"type\":\"Plot\"},{\"id\":\"5f9fa147-c4ff-4372-bc40-3e403156702b\",\"subtype\":\"Figure\",\"type\":\"Plot\"}]},\"id\":\"4affb691-14dd-4f22-802b-13a07d992e8e\",\"type\":\"Row\"},{\"attributes\":{\"fill_alpha\":{\"value\":0.1},\"fill_color\":{\"value\":\"#1f77b4\"},\"line_alpha\":{\"value\":0.1},\"line_color\":{\"value\":\"#1f77b4\"},\"x\":{\"field\":\"x\"},\"y\":{\"field\":\"y\"}},\"id\":\"2a7d9f88-3834-4220-92da-f9993f147deb\",\"type\":\"Circle\"},{\"attributes\":{\"callback\":null,\"column_names\":[\"x\",\"y\"],\"data\":{\"x\":{\"__ndarray__\":\"lAUCU7yAxz/MLUpcCdXKP57eOVKFmNE/E8RxxzhS1j/MlqyKcFPbP1eTCtdhVOA/hrDYLoYV4z8BMrYIc9jlP/kbSHJUieg/NJ5rDPgE6z/WdD3RdSHtPzAA4BrQue4/Z+Edpp6h7z/pt23nFCfvP4y5EFCGz+w/knFzx+6E6T86ie9hgjzmP7lG0/JmgeM/4hdFrFHR4T/96AbQEIrhP5JpI43A7uI/XKvBJCpO4j/ZM/i5qZrdP4tzDn37Y9c/WQIAMjrB0j/uiLeMowvOP6UbF8T2ycc/IleHL1Vhwz9XKE7F+PbAP6FRNryLvb0/sPZZYO16uD9vi70N7cCyP1LV8m07Ga8/WGf2JY1krj9Tted2UgavP0vv3vtiibA/3XGzDRYtsT/BYBOm40KwP3EtPCpcYa0/Gz2BJ2JOqj/V6ZEdUyunP8XEwBw4xaM/k0XZ3EoPoD+w4PPNelSXP4yAr40d+Yg/OoxZGKHdgj8w1sqTiheUP36sXH99OqE/rrWKDfz5qD+12WWze9awP8WIgQR+OrU/cbRueWh8uT+zyMBLune9P8yXeorahcA/w1foQUkawj8/w7xDYYLDP/PUl2OByMQ/mbagc47sxT8J88OtJ9/GPxhvEiCWj8c/IcEaiOH6xz++nxov3STIP57SXtCEHsg/rQPWYND4xz8vsjJUpMbHP3ONQ7sSmsc/87ufCQOFxz8w5hnB54PHP6m2xF/NYMc/H6a3Hgmkxj+VA6hvuuHEPxLR+Tq6W8I/OtQIYHd4vz8ksCBqLnm6P91D4wXoKbU/\",\"dtype\":\"float64\",\"shape\":[75]},\"y\":{\"__ndarray__\":\"GhExyth1ND/Sv8nbtpRIP2vylNV0PVE/aTum7souWD/At0SJ8fVgPw3Iuahxymc/MSNhhJWvcD/bTfBN02d3P2zb5nxnaoA/CD5h5MAGhz8NmeH1TyaQP+zrCsc9p5Y/LbKd76fGnz/bLW5ISEmmPww9YvTcQq8/JV2OstnstT8Er5Y7M8G+P0c+r3jqkcU/5h99k6ZBzj88bCIzFzjVP4enV8oyxN0//yH99nXg5D8qOpLLf0jtP5kqGJXUifQ/c9cS8kHP/D+/DpwzojQEQIEmwoanVwxA4lgXt9HgE0BSSZ2AJuIbQAMJih9jjiNA5q4l5INuK0AwTKYKRj0zQNv5fmq8/DpAaCJseHrtQkB/+zpwzoxKQM3MzMzMeFJAZmZmZmZqWEAAAAAAAFxeQM3MzMzMJmJAmpmZmZkfZUBmZmZmZhhoQDMzMzMzEWtAAAAAAAAKbkBmZmZmZoFwQM3MzMzM/XFAMzMzMzN6c0CamZmZmfZ0QAAAAAAAc3ZAZmZmZmbvd0DNzMzMzGt5QDMzMzMz6HpAmpmZmZlkfEAAAAAAAOF9QGZmZmZmXX9AZmZmZuZsgECamZmZGSuBQM3MzMxM6YFAAAAAAICngkAzMzMzs2WDQGZmZmbmI4RAmpmZmRnihEDNzMzMTKCFQAAAAACAXoZAMzMzM7Mch0BmZmZm5tqHQJqZmZkZmYhAzczMzExXiUAAAAAAgBWKQDMzMzOz04pAZmZmZuaRi0CamZmZGVCMQM3MzMxMDo1AAAAAAIDMjUAzMzMzs4qOQGZmZmbmSI9A\",\"dtype\":\"float64\",\"shape\":[75]}}},\"id\":\"a6211567-09a4-4340-a686-d03659c3a035\",\"type\":\"ColumnDataSource\"},{\"attributes\":{},\"id\":\"11b4236a-078c-4709-b5d4-6f23a3c1cc05\",\"type\":\"BasicTicker\"},{\"attributes\":{\"source\":{\"id\":\"1c25ba42-ad0a-4a7a-af71-97a77f49f471\",\"type\":\"ColumnDataSource\"}},\"id\":\"ab8197aa-587b-40fb-9892-7a5403acc8cd\",\"type\":\"CDSView\"},{\"attributes\":{\"fill_alpha\":{\"value\":0.7},\"fill_color\":{\"value\":\"#4daf4a\"},\"line_alpha\":{\"value\":0.7},\"line_color\":{\"value\":\"#4daf4a\"},\"x\":{\"field\":\"x\"},\"y\":{\"field\":\"y\"}},\"id\":\"5bf9ef59-20a2-48b4-9141-8ed1d9825d0f\",\"type\":\"Circle\"},{\"attributes\":{\"data_source\":{\"id\":\"3eb03cce-0f18-4c46-a08a-e39565f93adb\",\"type\":\"ColumnDataSource\"},\"glyph\":{\"id\":\"783c4b25-dc26-4721-8f34-e0c6916ec845\",\"type\":\"Line\"},\"hover_glyph\":null,\"muted_glyph\":null,\"nonselection_glyph\":{\"id\":\"fd6d377e-6f6b-445f-8193-e395c9d88c34\",\"type\":\"Line\"},\"selection_glyph\":null,\"view\":{\"id\":\"c979483b-076a-4dd2-8e41-3c1080c95154\",\"type\":\"CDSView\"}},\"id\":\"d222e3af-0d6f-4539-a172-e4046ae0e1e8\",\"type\":\"GlyphRenderer\"},{\"attributes\":{},\"id\":\"d6f84b10-3b40-444e-aefb-69db37d07e09\",\"type\":\"LinearScale\"},{\"attributes\":{\"callback\":null,\"column_names\":[\"x\",\"y\"],\"data\":{\"x\":{\"__ndarray__\":\"3ikVO7fczT88icbiUGLQP89XXizrQtU/fxCP5dl82j/QtbPYu/nfPyqck80LxuI/KPud3KWD5T/xBZi/YxToP8UqlDsiVeo/EDkBdgMf7D80fPJNJlDtP/e7JIxu1u0/VfKYHqC97T8qF89F6IzsP33+/yh/Eeo/ABrGWeh15z8nBP4yEJLlP4Fo3ljtbeQ/iDQB8YDz4z8sILyPBiTkP7JI8uAXTOU/m7nyH/Pd4z8Uu2wqQfXeP4BoYpGRudc/yPN0CeKX0j+nN2k7IrbMP+z/VpFVOsU/L1jktgHIvz+qWtrCVn26PzUNeANGQ7c/6naglU4AtD+CbrOhMGKwP9xkhFLcOq0/zKrIG3LJrT/5JOJzSOatP0d2ljp3pK0/U6VlWFAOrT+Udd8BA+CqP7NPpFTyTKg/P0GhH78Xpj+U7h4I3+ejP4mZFTsua6E/Dg8sCmUonT/vY5/cwxmWP+k6sMNou4k/ADc/icUrhT9e53ST9/WUP6D2ctfGY6E/WIkwgBsiqT/61NzKRQ6xPzAcnS3/pbU/2xZlNsgkuj/iiWpb3ma+PzkvZxlWL8E/jM5kxZEDwz/YMFyAKqzEP3g/VSLcJsY/WxAltatrxz8A0cQiI3PIP+pgu4PxNsk/KEqd29+0yT97Ac1SePHJP5TPG7zp9ck/Fvr97l/RyT9vpjrLyZfJP2d9yjFZXMk/yg8BLJcyyT8tjD4wkRzJPy5eRakx38g/YdWsddoByD/IJUwgPhPGP2YOzWU4WMM/LbbmGqiEwD+Al758V6m7P17XoS32/bU/\",\"dtype\":\"float64\",\"shape\":[75]},\"y\":{\"__ndarray__\":\"GhExyth1ND/Sv8nbtpRIP2vylNV0PVE/aTum7souWD/At0SJ8fVgPw3Iuahxymc/MSNhhJWvcD/bTfBN02d3P2zb5nxnaoA/CD5h5MAGhz8NmeH1TyaQP+zrCsc9p5Y/LbKd76fGnz/bLW5ISEmmPww9YvTcQq8/JV2OstnstT8Er5Y7M8G+P0c+r3jqkcU/5h99k6ZBzj88bCIzFzjVP4enV8oyxN0//yH99nXg5D8qOpLLf0jtP5kqGJXUifQ/c9cS8kHP/D+/DpwzojQEQIEmwoanVwxA4lgXt9HgE0BSSZ2AJuIbQAMJih9jjiNA5q4l5INuK0AwTKYKRj0zQNv5fmq8/DpAaCJseHrtQkB/+zpwzoxKQM3MzMzMeFJAZmZmZmZqWEAAAAAAAFxeQM3MzMzMJmJAmpmZmZkfZUBmZmZmZhhoQDMzMzMzEWtAAAAAAAAKbkBmZmZmZoFwQM3MzMzM/XFAMzMzMzN6c0CamZmZmfZ0QAAAAAAAc3ZAZmZmZmbvd0DNzMzMzGt5QDMzMzMz6HpAmpmZmZlkfEAAAAAAAOF9QGZmZmZmXX9AZmZmZuZsgECamZmZGSuBQM3MzMxM6YFAAAAAAICngkAzMzMzs2WDQGZmZmbmI4RAmpmZmRnihEDNzMzMTKCFQAAAAACAXoZAMzMzM7Mch0BmZmZm5tqHQJqZmZkZmYhAzczMzExXiUAAAAAAgBWKQDMzMzOz04pAZmZmZuaRi0CamZmZGVCMQM3MzMxMDo1AAAAAAIDMjUAzMzMzs4qOQGZmZmbmSI9A\",\"dtype\":\"float64\",\"shape\":[75]}}},\"id\":\"1c25ba42-ad0a-4a7a-af71-97a77f49f471\",\"type\":\"ColumnDataSource\"},{\"attributes\":{\"callback\":null,\"column_names\":[\"x\",\"y\"],\"data\":{\"x\":{\"__ndarray__\":\"3ikVO7fczT88icbiUGLQP89XXizrQtU/fxCP5dl82j/QtbPYu/nfPyqck80LxuI/KPud3KWD5T/xBZi/YxToP8UqlDsiVeo/EDkBdgMf7D80fPJNJlDtP/e7JIxu1u0/VfKYHqC97T8qF89F6IzsP33+/yh/Eeo/ABrGWeh15z8nBP4yEJLlP4Fo3ljtbeQ/iDQB8YDz4z8sILyPBiTkP7JI8uAXTOU/m7nyH/Pd4z8Uu2wqQfXeP4BoYpGRudc/yPN0CeKX0j+nN2k7IrbMP+z/VpFVOsU/L1jktgHIvz+qWtrCVn26PzUNeANGQ7c/6naglU4AtD+CbrOhMGKwP9xkhFLcOq0/zKrIG3LJrT/5JOJzSOatP0d2ljp3pK0/U6VlWFAOrT+Udd8BA+CqP7NPpFTyTKg/P0GhH78Xpj+U7h4I3+ejP4mZFTsua6E/Dg8sCmUonT/vY5/cwxmWP+k6sMNou4k/ADc/icUrhT9e53ST9/WUP6D2ctfGY6E/WIkwgBsiqT/61NzKRQ6xPzAcnS3/pbU/2xZlNsgkuj/iiWpb3ma+PzkvZxlWL8E/jM5kxZEDwz/YMFyAKqzEP3g/VSLcJsY/WxAltatrxz8A0cQiI3PIP+pgu4PxNsk/KEqd29+0yT97Ac1SePHJP5TPG7zp9ck/Fvr97l/RyT9vpjrLyZfJP2d9yjFZXMk/yg8BLJcyyT8tjD4wkRzJPy5eRakx38g/YdWsddoByD/IJUwgPhPGP2YOzWU4WMM/LbbmGqiEwD+Al758V6m7P17XoS32/bU/\",\"dtype\":\"float64\",\"shape\":[75]},\"y\":{\"__ndarray__\":\"GhExyth1ND/Sv8nbtpRIP2vylNV0PVE/aTum7souWD/At0SJ8fVgPw3Iuahxymc/MSNhhJWvcD/bTfBN02d3P2zb5nxnaoA/CD5h5MAGhz8NmeH1TyaQP+zrCsc9p5Y/LbKd76fGnz/bLW5ISEmmPww9YvTcQq8/JV2OstnstT8Er5Y7M8G+P0c+r3jqkcU/5h99k6ZBzj88bCIzFzjVP4enV8oyxN0//yH99nXg5D8qOpLLf0jtP5kqGJXUifQ/c9cS8kHP/D+/DpwzojQEQIEmwoanVwxA4lgXt9HgE0BSSZ2AJuIbQAMJih9jjiNA5q4l5INuK0AwTKYKRj0zQNv5fmq8/DpAaCJseHrtQkB/+zpwzoxKQM3MzMzMeFJAZmZmZmZqWEAAAAAAAFxeQM3MzMzMJmJAmpmZmZkfZUBmZmZmZhhoQDMzMzMzEWtAAAAAAAAKbkBmZmZmZoFwQM3MzMzM/XFAMzMzMzN6c0CamZmZmfZ0QAAAAAAAc3ZAZmZmZmbvd0DNzMzMzGt5QDMzMzMz6HpAmpmZmZlkfEAAAAAAAOF9QGZmZmZmXX9AZmZmZuZsgECamZmZGSuBQM3MzMxM6YFAAAAAAICngkAzMzMzs2WDQGZmZmbmI4RAmpmZmRnihEDNzMzMTKCFQAAAAACAXoZAMzMzM7Mch0BmZmZm5tqHQJqZmZkZmYhAzczMzExXiUAAAAAAgBWKQDMzMzOz04pAZmZmZuaRi0CamZmZGVCMQM3MzMxMDo1AAAAAAIDMjUAzMzMzs4qOQGZmZmbmSI9A\",\"dtype\":\"float64\",\"shape\":[75]}}},\"id\":\"1c6a925a-8c71-45f9-a1b9-4a53bdb7fd49\",\"type\":\"ColumnDataSource\"},{\"attributes\":{\"source\":{\"id\":\"1ddc39bf-9266-4b2e-8fd0-d89c329ead5b\",\"type\":\"ColumnDataSource\"}},\"id\":\"e05fa939-fdad-4042-9a08-1ee2231451e3\",\"type\":\"CDSView\"},{\"attributes\":{\"axis_label\":\"pressure [mb]\",\"formatter\":{\"id\":\"616bb4bc-a57e-405a-bc99-d31e064bbe38\",\"type\":\"BasicTickFormatter\"},\"plot\":{\"id\":\"3587b69c-9991-4c24-9dd9-084c6f6f59dc\",\"subtype\":\"Figure\",\"type\":\"Plot\"},\"ticker\":{\"id\":\"02c56f7a-c244-4824-b1a0-51eb7a8d5f02\",\"type\":\"BasicTicker\"}},\"id\":\"87339042-fec4-4c72-8d9d-e70c1719426a\",\"type\":\"LinearAxis\"},{\"attributes\":{},\"id\":\"784929e1-872c-4a4a-951d-bc9de1f9dbd9\",\"type\":\"LinearScale\"},{\"attributes\":{\"data_source\":{\"id\":\"1ddc39bf-9266-4b2e-8fd0-d89c329ead5b\",\"type\":\"ColumnDataSource\"},\"glyph\":{\"id\":\"5bf9ef59-20a2-48b4-9141-8ed1d9825d0f\",\"type\":\"Circle\"},\"hover_glyph\":null,\"muted_glyph\":null,\"nonselection_glyph\":{\"id\":\"2a7d9f88-3834-4220-92da-f9993f147deb\",\"type\":\"Circle\"},\"selection_glyph\":null,\"view\":{\"id\":\"e05fa939-fdad-4042-9a08-1ee2231451e3\",\"type\":\"CDSView\"}},\"id\":\"e4742020-7634-4bb9-912a-b3dc80a918f2\",\"type\":\"GlyphRenderer\"},{\"attributes\":{\"source\":{\"id\":\"489a567a-93d0-474b-91f7-dc5066097c5e\",\"type\":\"ColumnDataSource\"}},\"id\":\"f9775982-3019-48b2-bb9d-794866294dce\",\"type\":\"CDSView\"},{\"attributes\":{\"line_color\":\"#4daf4a\",\"line_width\":1.5,\"x\":{\"field\":\"x\"},\"y\":{\"field\":\"y\"}},\"id\":\"86bd4ed2-a0be-4f3f-9ec6-6692805f30b6\",\"type\":\"Line\"},{\"attributes\":{},\"id\":\"94129488-0423-497c-9464-6f48471d9c6c\",\"type\":\"WheelZoomTool\"},{\"attributes\":{\"line_color\":\"#4daf4a\",\"line_width\":1.5,\"x\":{\"field\":\"x\"},\"y\":{\"field\":\"y\"}},\"id\":\"9f10ec2e-eff3-498a-afbf-45355b3bbd4e\",\"type\":\"Line\"},{\"attributes\":{\"line_alpha\":0.1,\"line_color\":\"#1f77b4\",\"line_width\":1.5,\"x\":{\"field\":\"x\"},\"y\":{\"field\":\"y\"}},\"id\":\"8f9635d8-3fe5-4a9b-831a-8d6a3dbbbe76\",\"type\":\"Line\"},{\"attributes\":{\"callback\":null,\"column_names\":[\"x\",\"y\"],\"data\":{\"x\":{\"__ndarray__\":\"3ikVO7fczT88icbiUGLQP89XXizrQtU/fxCP5dl82j/QtbPYu/nfPyqck80LxuI/KPud3KWD5T/xBZi/YxToP8UqlDsiVeo/EDkBdgMf7D80fPJNJlDtP/e7JIxu1u0/VfKYHqC97T8qF89F6IzsP33+/yh/Eeo/ABrGWeh15z8nBP4yEJLlP4Fo3ljtbeQ/iDQB8YDz4z8sILyPBiTkP7JI8uAXTOU/m7nyH/Pd4z8Uu2wqQfXeP4BoYpGRudc/yPN0CeKX0j+nN2k7IrbMP+z/VpFVOsU/L1jktgHIvz+qWtrCVn26PzUNeANGQ7c/6naglU4AtD+CbrOhMGKwP9xkhFLcOq0/zKrIG3LJrT/5JOJzSOatP0d2ljp3pK0/U6VlWFAOrT+Udd8BA+CqP7NPpFTyTKg/P0GhH78Xpj+U7h4I3+ejP4mZFTsua6E/Dg8sCmUonT/vY5/cwxmWP+k6sMNou4k/ADc/icUrhT9e53ST9/WUP6D2ctfGY6E/WIkwgBsiqT/61NzKRQ6xPzAcnS3/pbU/2xZlNsgkuj/iiWpb3ma+PzkvZxlWL8E/jM5kxZEDwz/YMFyAKqzEP3g/VSLcJsY/WxAltatrxz8A0cQiI3PIP+pgu4PxNsk/KEqd29+0yT97Ac1SePHJP5TPG7zp9ck/Fvr97l/RyT9vpjrLyZfJP2d9yjFZXMk/yg8BLJcyyT8tjD4wkRzJPy5eRakx38g/YdWsddoByD/IJUwgPhPGP2YOzWU4WMM/LbbmGqiEwD+Al758V6m7P17XoS32/bU/\",\"dtype\":\"float64\",\"shape\":[75]},\"y\":{\"__ndarray__\":\"GhExyth1ND/Sv8nbtpRIP2vylNV0PVE/aTum7souWD/At0SJ8fVgPw3Iuahxymc/MSNhhJWvcD/bTfBN02d3P2zb5nxnaoA/CD5h5MAGhz8NmeH1TyaQP+zrCsc9p5Y/LbKd76fGnz/bLW5ISEmmPww9YvTcQq8/JV2OstnstT8Er5Y7M8G+P0c+r3jqkcU/5h99k6ZBzj88bCIzFzjVP4enV8oyxN0//yH99nXg5D8qOpLLf0jtP5kqGJXUifQ/c9cS8kHP/D+/DpwzojQEQIEmwoanVwxA4lgXt9HgE0BSSZ2AJuIbQAMJih9jjiNA5q4l5INuK0AwTKYKRj0zQNv5fmq8/DpAaCJseHrtQkB/+zpwzoxKQM3MzMzMeFJAZmZmZmZqWEAAAAAAAFxeQM3MzMzMJmJAmpmZmZkfZUBmZmZmZhhoQDMzMzMzEWtAAAAAAAAKbkBmZmZmZoFwQM3MzMzM/XFAMzMzMzN6c0CamZmZmfZ0QAAAAAAAc3ZAZmZmZmbvd0DNzMzMzGt5QDMzMzMz6HpAmpmZmZlkfEAAAAAAAOF9QGZmZmZmXX9AZmZmZuZsgECamZmZGSuBQM3MzMxM6YFAAAAAAICngkAzMzMzs2WDQGZmZmbmI4RAmpmZmRnihEDNzMzMTKCFQAAAAACAXoZAMzMzM7Mch0BmZmZm5tqHQJqZmZkZmYhAzczMzExXiUAAAAAAgBWKQDMzMzOz04pAZmZmZuaRi0CamZmZGVCMQM3MzMxMDo1AAAAAAIDMjUAzMzMzs4qOQGZmZmbmSI9A\",\"dtype\":\"float64\",\"shape\":[75]}}},\"id\":\"1ddc39bf-9266-4b2e-8fd0-d89c329ead5b\",\"type\":\"ColumnDataSource\"},{\"attributes\":{\"bottom_units\":\"screen\",\"fill_alpha\":{\"value\":0.5},\"fill_color\":{\"value\":\"lightgrey\"},\"left_units\":\"screen\",\"level\":\"overlay\",\"line_alpha\":{\"value\":1.0},\"line_color\":{\"value\":\"black\"},\"line_dash\":[4,4],\"line_width\":{\"value\":2},\"plot\":null,\"render_mode\":\"css\",\"right_units\":\"screen\",\"top_units\":\"screen\"},\"id\":\"d6c667fc-145b-4f33-a08f-4453a3a1e6d7\",\"type\":\"BoxAnnotation\"},{\"attributes\":{\"data_source\":{\"id\":\"1c25ba42-ad0a-4a7a-af71-97a77f49f471\",\"type\":\"ColumnDataSource\"},\"glyph\":{\"id\":\"86bd4ed2-a0be-4f3f-9ec6-6692805f30b6\",\"type\":\"Line\"},\"hover_glyph\":null,\"muted_glyph\":null,\"nonselection_glyph\":{\"id\":\"8f9635d8-3fe5-4a9b-831a-8d6a3dbbbe76\",\"type\":\"Line\"},\"selection_glyph\":null,\"view\":{\"id\":\"ab8197aa-587b-40fb-9892-7a5403acc8cd\",\"type\":\"CDSView\"}},\"id\":\"5214c6fa-0a2c-4200-9d01-f1d4cb076f79\",\"type\":\"GlyphRenderer\"},{\"attributes\":{\"callback\":null,\"column_names\":[\"x\",\"y\"],\"data\":{\"x\":{\"__ndarray__\":\"lAUCU7yAxz/MLUpcCdXKP57eOVKFmNE/E8RxxzhS1j/MlqyKcFPbP1eTCtdhVOA/hrDYLoYV4z8BMrYIc9jlP/kbSHJUieg/NJ5rDPgE6z/WdD3RdSHtPzAA4BrQue4/Z+Edpp6h7z/pt23nFCfvP4y5EFCGz+w/knFzx+6E6T86ie9hgjzmP7lG0/JmgeM/4hdFrFHR4T/96AbQEIrhP5JpI43A7uI/XKvBJCpO4j/ZM/i5qZrdP4tzDn37Y9c/WQIAMjrB0j/uiLeMowvOP6UbF8T2ycc/IleHL1Vhwz9XKE7F+PbAP6FRNryLvb0/sPZZYO16uD9vi70N7cCyP1LV8m07Ga8/WGf2JY1krj9Tted2UgavP0vv3vtiibA/3XGzDRYtsT/BYBOm40KwP3EtPCpcYa0/Gz2BJ2JOqj/V6ZEdUyunP8XEwBw4xaM/k0XZ3EoPoD+w4PPNelSXP4yAr40d+Yg/OoxZGKHdgj8w1sqTiheUP36sXH99OqE/rrWKDfz5qD+12WWze9awP8WIgQR+OrU/cbRueWh8uT+zyMBLune9P8yXeorahcA/w1foQUkawj8/w7xDYYLDP/PUl2OByMQ/mbagc47sxT8J88OtJ9/GPxhvEiCWj8c/IcEaiOH6xz++nxov3STIP57SXtCEHsg/rQPWYND4xz8vsjJUpMbHP3ONQ7sSmsc/87ufCQOFxz8w5hnB54PHP6m2xF/NYMc/H6a3Hgmkxj+VA6hvuuHEPxLR+Tq6W8I/OtQIYHd4vz8ksCBqLnm6P91D4wXoKbU/\",\"dtype\":\"float64\",\"shape\":[75]},\"y\":{\"__ndarray__\":\"GhExyth1ND/Sv8nbtpRIP2vylNV0PVE/aTum7souWD/At0SJ8fVgPw3Iuahxymc/MSNhhJWvcD/bTfBN02d3P2zb5nxnaoA/CD5h5MAGhz8NmeH1TyaQP+zrCsc9p5Y/LbKd76fGnz/bLW5ISEmmPww9YvTcQq8/JV2OstnstT8Er5Y7M8G+P0c+r3jqkcU/5h99k6ZBzj88bCIzFzjVP4enV8oyxN0//yH99nXg5D8qOpLLf0jtP5kqGJXUifQ/c9cS8kHP/D+/DpwzojQEQIEmwoanVwxA4lgXt9HgE0BSSZ2AJuIbQAMJih9jjiNA5q4l5INuK0AwTKYKRj0zQNv5fmq8/DpAaCJseHrtQkB/+zpwzoxKQM3MzMzMeFJAZmZmZmZqWEAAAAAAAFxeQM3MzMzMJmJAmpmZmZkfZUBmZmZmZhhoQDMzMzMzEWtAAAAAAAAKbkBmZmZmZoFwQM3MzMzM/XFAMzMzMzN6c0CamZmZmfZ0QAAAAAAAc3ZAZmZmZmbvd0DNzMzMzGt5QDMzMzMz6HpAmpmZmZlkfEAAAAAAAOF9QGZmZmZmXX9AZmZmZuZsgECamZmZGSuBQM3MzMxM6YFAAAAAAICngkAzMzMzs2WDQGZmZmbmI4RAmpmZmRnihEDNzMzMTKCFQAAAAACAXoZAMzMzM7Mch0BmZmZm5tqHQJqZmZkZmYhAzczMzExXiUAAAAAAgBWKQDMzMzOz04pAZmZmZuaRi0CamZmZGVCMQM3MzMxMDo1AAAAAAIDMjUAzMzMzs4qOQGZmZmbmSI9A\",\"dtype\":\"float64\",\"shape\":[75]}}},\"id\":\"36b564d2-6e89-4fca-a92e-d4442aa36687\",\"type\":\"ColumnDataSource\"},{\"attributes\":{\"data_source\":{\"id\":\"36b564d2-6e89-4fca-a92e-d4442aa36687\",\"type\":\"ColumnDataSource\"},\"glyph\":{\"id\":\"5101aa96-87a0-41cd-9685-f2ec6ebc977f\",\"type\":\"Square\"},\"hover_glyph\":null,\"muted_glyph\":null,\"nonselection_glyph\":{\"id\":\"f57b282b-8437-40e8-b0ea-6f6aea86d096\",\"type\":\"Square\"},\"selection_glyph\":null,\"view\":{\"id\":\"4989fab3-e64d-4789-898a-0769ac8d1a7e\",\"type\":\"CDSView\"}},\"id\":\"c53377a8-cf3e-41be-9b9b-cd9d6212dcb0\",\"type\":\"GlyphRenderer\"},{\"attributes\":{\"fill_alpha\":{\"value\":0.7},\"fill_color\":{\"value\":\"#984ea3\"},\"line_alpha\":{\"value\":0.7},\"line_color\":{\"value\":\"#984ea3\"},\"x\":{\"field\":\"x\"},\"y\":{\"field\":\"y\"}},\"id\":\"5101aa96-87a0-41cd-9685-f2ec6ebc977f\",\"type\":\"Square\"},{\"attributes\":{\"fill_alpha\":{\"value\":0.1},\"fill_color\":{\"value\":\"#1f77b4\"},\"line_alpha\":{\"value\":0.1},\"line_color\":{\"value\":\"#1f77b4\"},\"x\":{\"field\":\"x\"},\"y\":{\"field\":\"y\"}},\"id\":\"f57b282b-8437-40e8-b0ea-6f6aea86d096\",\"type\":\"Square\"},{\"attributes\":{\"label\":{\"value\":\"CRD\"},\"renderers\":[{\"id\":\"e4742020-7634-4bb9-912a-b3dc80a918f2\",\"type\":\"GlyphRenderer\"},{\"id\":\"5214c6fa-0a2c-4200-9d01-f1d4cb076f79\",\"type\":\"GlyphRenderer\"}]},\"id\":\"458c8618-81e5-4fbb-bd19-b7abc96e579e\",\"type\":\"LegendItem\"},{\"attributes\":{},\"id\":\"e990122c-2de8-4fcd-8cc8-68fc3a84a67a\",\"type\":\"SaveTool\"},{\"attributes\":{\"data_source\":{\"id\":\"a6211567-09a4-4340-a686-d03659c3a035\",\"type\":\"ColumnDataSource\"},\"glyph\":{\"id\":\"5a1debef-047b-4dc3-ac9d-656ae044f2fa\",\"type\":\"Line\"},\"hover_glyph\":null,\"muted_glyph\":null,\"nonselection_glyph\":{\"id\":\"b3083e5a-b480-4bfe-81f3-e1afb1d9cd04\",\"type\":\"Line\"},\"selection_glyph\":null,\"view\":{\"id\":\"3dd995b8-a41d-4454-8beb-1decdea9a889\",\"type\":\"CDSView\"}},\"id\":\"d26fa1df-ed9f-44e4-b7f6-0447cea3f5b4\",\"type\":\"GlyphRenderer\"},{\"attributes\":{},\"id\":\"a197b7c1-0eab-4cb8-981b-5dff06be1704\",\"type\":\"PanTool\"},{\"attributes\":{\"source\":{\"id\":\"36b564d2-6e89-4fca-a92e-d4442aa36687\",\"type\":\"ColumnDataSource\"}},\"id\":\"4989fab3-e64d-4789-898a-0769ac8d1a7e\",\"type\":\"CDSView\"},{\"attributes\":{\"line_alpha\":0.6,\"line_color\":\"#984ea3\",\"line_width\":3,\"x\":{\"field\":\"x\"},\"y\":{\"field\":\"y\"}},\"id\":\"5a1debef-047b-4dc3-ac9d-656ae044f2fa\",\"type\":\"Line\"},{\"attributes\":{\"line_alpha\":0.1,\"line_color\":\"#1f77b4\",\"line_width\":3,\"x\":{\"field\":\"x\"},\"y\":{\"field\":\"y\"}},\"id\":\"b3083e5a-b480-4bfe-81f3-e1afb1d9cd04\",\"type\":\"Line\"},{\"attributes\":{},\"id\":\"3aba8cfa-25ce-4f86-a517-aa3c0cf42826\",\"type\":\"HelpTool\"},{\"attributes\":{\"callback\":null,\"column_names\":[\"x\",\"y\"],\"data\":{\"x\":{\"__ndarray__\":\"3BMIYYzNsz8TDXP+/ZTIP7VAksRYh9E/YuQbwBHT1D/gp6Jf+FTQP9SUS4Dtot0/3JcaPnUu3j8LXldAX6LjP2dLb+JYteQ/4Krj3wQy6D/bUoNAmczqP/c0L6B6+Ow/2OZSnnGo7j9niq1eTffuP9lN3yF7c+0/Oobw/UcF6j99+4T96EXmP7/btAAK4eI/oDrz/oGK4D+bn7D+rhPgP1bRxOAGoeE/P4m2AMBz4T8xuWoBTu3cPxBxOX+PUdc/7C6zfBvq0j+sZZ230mfOP+9cc6K4Psg/U5drVTvYwz/r9oLk127BPyEKoPdKSb4/p0hOvoqguD/iAxB+r4+yP2St8htexK0/iagGvd7Nqz8d07rdMKmsP/t1+IJOvK8/goUIQvadsD9hh7UhlDGvP7AWNR7AsKs/A6ykAftpqD+FlghjKk6lP7sTbUDkKqI/ep9wl3mCnT/+MGWHyE6VP08tiGwTM4Y/4CL+wJiWgD8Y/bw385ySPxUQYoCnPaA/eNVen5Skpz+H0CdDbOivP2a5+h7mLLQ/pFKbIR1quD9AFXmKA4W8P4qdfLyIHcA/Russoya0wT/Y9BxocCHDPz/KZ/1WgMQ/kgxzYSjQxT9MazYDGvTGP6fUPoC51Mc/fn8YW+djyD+PLImB6KjIPx6qxp5/s8g/q2nNRTKayD8P+7EHYnLIPwfZif0rTMg/iS25YUY+yD+qy1KAYkPIP2tjqmjFGsg/l9paeMFUxz/O3a6XpojFP8uYSIpE+MI/ScGugQhMwD/iHioR0X27P7ptokDmHbY/\",\"dtype\":\"float64\",\"shape\":[75]},\"y\":{\"__ndarray__\":\"S/O/Q+51ND/430zAtpRIP2vylNV0PVE/QxsjCssuWD/TR4Z78fVgP+inNsRxymc/OuuBfZWvcD/u3TFA02d3P2d3VoBnaoA/CD5h5MAGhz/1pA8HUCaQP+zrCsc9p5Y/Fb7LAKjGnz/nJ9c/SEmmPwBD+fzcQq8/FOZwv9nstT8Er5Y7M8G+P0c+r3jqkcU/yK72qKZBzj+tM989FzjVPxbgmr8yxN0/cOm5AXbg5D+5ctXAf0jtP5kqGJXUifQ/DsrqDELP/D8MCAhBojQEQDItVnmnVwxAiFXNvdHgE0BSSZ2AJuIbQAMJih9jjiNA5q4l5INuK0CPVN/5RT0zQHzxRXu8/DpAOZ7PgHrtQkAg8wGBzoxKQBSTN8DMeFJA2NmQf2ZqWEAAAAAAAFxeQEQX1LfMJmJAmpmZmZkfZUBmZmZmZhhoQLzoK0gzEWtAAAAAAAAKbkCiC+pbZoFwQAhyUMLM/XFA+I2vPTN6c0AQ5KCEmfZ0QAAAAAAAc3ZA8Btfe2bvd0AIclDCzGt5QPeNrz0z6HpAEOSghJlkfEAAAAAAAOF9QKML6ltmXX9ABTkoYeZsgED7xteeGSuBQAhyUMJM6YFAAAAAAICngkD4ja89s2WDQAU5KGHmI4RA+8bXnhnihEAIclDCTKCFQAAAAACAXoZA+I2vPbMch0AFOShh5tqHQPvG154ZmYhACHJQwkxXiUAAAAAAgBWKQPeNrz2z04pABTkoYeaRi0D7xteeGVCMQAlyUMJMDo1AAAAAAIDMjUD3ja89s4qOQGZmZmbmSI9A\",\"dtype\":\"float64\",\"shape\":[75]}}},\"id\":\"3eb03cce-0f18-4c46-a08a-e39565f93adb\",\"type\":\"ColumnDataSource\"},{\"attributes\":{\"source\":{\"id\":\"a6211567-09a4-4340-a686-d03659c3a035\",\"type\":\"ColumnDataSource\"}},\"id\":\"3dd995b8-a41d-4454-8beb-1decdea9a889\",\"type\":\"CDSView\"},{\"attributes\":{\"fill_alpha\":{\"value\":0.1},\"fill_color\":{\"value\":\"#1f77b4\"},\"line_alpha\":{\"value\":0.1},\"line_color\":{\"value\":\"#1f77b4\"},\"x\":{\"field\":\"x\"},\"y\":{\"field\":\"y\"}},\"id\":\"822366ad-bd11-4f43-8ab9-d06c18247381\",\"type\":\"Circle\"},{\"attributes\":{},\"id\":\"61d15569-1e2f-416f-b9a5-82a52a781516\",\"type\":\"ResetTool\"},{\"attributes\":{\"data_source\":{\"id\":\"489a567a-93d0-474b-91f7-dc5066097c5e\",\"type\":\"ColumnDataSource\"},\"glyph\":{\"id\":\"7f9476e2-0fb0-444d-b842-3afc291394da\",\"type\":\"Circle\"},\"hover_glyph\":null,\"muted_glyph\":null,\"nonselection_glyph\":{\"id\":\"822366ad-bd11-4f43-8ab9-d06c18247381\",\"type\":\"Circle\"},\"selection_glyph\":null,\"view\":{\"id\":\"f9775982-3019-48b2-bb9d-794866294dce\",\"type\":\"CDSView\"}},\"id\":\"7b862ac0-4665-4075-a5e7-e6bd89241557\",\"type\":\"GlyphRenderer\"},{\"attributes\":{\"label\":{\"value\":\"WGT igg=10 wgt_flux=2\"},\"renderers\":[{\"id\":\"c53377a8-cf3e-41be-9b9b-cd9d6212dcb0\",\"type\":\"GlyphRenderer\"},{\"id\":\"d26fa1df-ed9f-44e4-b7f6-0447cea3f5b4\",\"type\":\"GlyphRenderer\"}]},\"id\":\"7a17b189-d673-4ca9-ae02-273902b93145\",\"type\":\"LegendItem\"},{\"attributes\":{\"children\":[{\"id\":\"6b410abb-c246-4524-bb30-7ed863ec9bce\",\"type\":\"ToolbarBox\"},{\"id\":\"24872e8f-4865-40d6-9d9f-af1b1e1fe523\",\"type\":\"Column\"}]},\"id\":\"c1f89a57-bfe2-4689-bb4e-95e1004323d3\",\"type\":\"Column\"},{\"attributes\":{\"source\":{\"id\":\"048d0532-a86d-4586-9871-423cb988208c\",\"type\":\"ColumnDataSource\"}},\"id\":\"2b0b1911-38fc-43ec-baf8-4694ae1d737b\",\"type\":\"CDSView\"},{\"attributes\":{\"children\":[{\"id\":\"4affb691-14dd-4f22-802b-13a07d992e8e\",\"type\":\"Row\"}]},\"id\":\"24872e8f-4865-40d6-9d9f-af1b1e1fe523\",\"type\":\"Column\"},{\"attributes\":{\"active_drag\":\"auto\",\"active_inspect\":\"auto\",\"active_scroll\":\"auto\",\"active_tap\":\"auto\",\"tools\":[{\"id\":\"a197b7c1-0eab-4cb8-981b-5dff06be1704\",\"type\":\"PanTool\"},{\"id\":\"94129488-0423-497c-9464-6f48471d9c6c\",\"type\":\"WheelZoomTool\"},{\"id\":\"f4aac7fa-553b-43ef-b9d0-926e4e2caf4a\",\"type\":\"BoxZoomTool\"},{\"id\":\"e990122c-2de8-4fcd-8cc8-68fc3a84a67a\",\"type\":\"SaveTool\"},{\"id\":\"61d15569-1e2f-416f-b9a5-82a52a781516\",\"type\":\"ResetTool\"},{\"id\":\"3aba8cfa-25ce-4f86-a517-aa3c0cf42826\",\"type\":\"HelpTool\"}]},\"id\":\"e5797410-a47a-42e4-ba0e-a522263af5aa\",\"type\":\"Toolbar\"},{\"attributes\":{\"plot\":{\"id\":\"5f9fa147-c4ff-4372-bc40-3e403156702b\",\"subtype\":\"Figure\",\"type\":\"Plot\"},\"ticker\":{\"id\":\"8fd079f3-ebb8-4886-a073-733a26e2c372\",\"type\":\"BasicTicker\"}},\"id\":\"5913affa-e402-4482-b1b7-7d914e7338ae\",\"type\":\"Grid\"},{\"attributes\":{\"line_alpha\":0.1,\"line_color\":\"#1f77b4\",\"line_width\":1.5,\"x\":{\"field\":\"x\"},\"y\":{\"field\":\"y\"}},\"id\":\"090c3b52-c631-48cf-af76-a7cc161c4c84\",\"type\":\"Line\"},{\"attributes\":{\"label\":{\"value\":\"CLIRAD `coolr_bands`\"},\"renderers\":[{\"id\":\"17b7efac-d581-4616-b363-cef5b9715a6d\",\"type\":\"GlyphRenderer\"}]},\"id\":\"1ab32836-0b2b-40e9-965b-0956baee5a15\",\"type\":\"LegendItem\"},{\"attributes\":{\"axis_label\":\"cooling rate [K/day]\",\"formatter\":{\"id\":\"55496ab0-6bba-4d7a-a7e6-d8cd28530677\",\"type\":\"BasicTickFormatter\"},\"plot\":{\"id\":\"5f9fa147-c4ff-4372-bc40-3e403156702b\",\"subtype\":\"Figure\",\"type\":\"Plot\"},\"ticker\":{\"id\":\"8fd079f3-ebb8-4886-a073-733a26e2c372\",\"type\":\"BasicTicker\"}},\"id\":\"4be8b455-6359-4ee1-b6da-cf9bf3b86cdc\",\"type\":\"LinearAxis\"},{\"attributes\":{\"axis_label\":\"pressure [mb]\",\"formatter\":{\"id\":\"9129a482-1691-4a88-bd45-c1b3b1f85bc1\",\"type\":\"LogTickFormatter\"},\"plot\":{\"id\":\"5f9fa147-c4ff-4372-bc40-3e403156702b\",\"subtype\":\"Figure\",\"type\":\"Plot\"},\"ticker\":{\"id\":\"54297153-98f0-4f78-8e02-98706684b9a7\",\"type\":\"LogTicker\"}},\"id\":\"3886cc10-81b3-4d52-977d-b9c5aeb8f546\",\"type\":\"LogAxis\"},{\"attributes\":{\"overlay\":{\"id\":\"0bb6ca5b-982b-4ec0-b217-ac5f98d9f547\",\"type\":\"BoxAnnotation\"}},\"id\":\"57a33189-4572-400d-b21d-2d9e1cceee65\",\"type\":\"BoxZoomTool\"},{\"attributes\":{\"callback\":null,\"end\":0.01,\"start\":1020},\"id\":\"2a2db140-21aa-4de9-9346-d2f568a1bd19\",\"type\":\"Range1d\"},{\"attributes\":{},\"id\":\"02c56f7a-c244-4824-b1a0-51eb7a8d5f02\",\"type\":\"BasicTicker\"},{\"attributes\":{\"callback\":null,\"end\":0.9979749755799999,\"start\":0.02938240642},\"id\":\"d0248321-2164-455b-81ea-85328bc2334e\",\"type\":\"Range1d\"},{\"attributes\":{},\"id\":\"acd072a4-7e83-4bd4-a9ac-3334ab41720c\",\"type\":\"LinearScale\"},{\"attributes\":{},\"id\":\"8fd079f3-ebb8-4886-a073-733a26e2c372\",\"type\":\"BasicTicker\"},{\"attributes\":{\"callback\":null,\"column_names\":[\"x\",\"y\"],\"data\":{\"x\":{\"__ndarray__\":\"3ikVO7fczT88icbiUGLQP89XXizrQtU/fxCP5dl82j/QtbPYu/nfPyqck80LxuI/KPud3KWD5T/xBZi/YxToP8UqlDsiVeo/EDkBdgMf7D80fPJNJlDtP/e7JIxu1u0/VfKYHqC97T8qF89F6IzsP33+/yh/Eeo/ABrGWeh15z8nBP4yEJLlP4Fo3ljtbeQ/iDQB8YDz4z8sILyPBiTkP7JI8uAXTOU/m7nyH/Pd4z8Uu2wqQfXeP4BoYpGRudc/yPN0CeKX0j+nN2k7IrbMP+z/VpFVOsU/L1jktgHIvz+qWtrCVn26PzUNeANGQ7c/6naglU4AtD+CbrOhMGKwP9xkhFLcOq0/zKrIG3LJrT/5JOJzSOatP0d2ljp3pK0/U6VlWFAOrT+Udd8BA+CqP7NPpFTyTKg/P0GhH78Xpj+U7h4I3+ejP4mZFTsua6E/Dg8sCmUonT/vY5/cwxmWP+k6sMNou4k/ADc/icUrhT9e53ST9/WUP6D2ctfGY6E/WIkwgBsiqT/61NzKRQ6xPzAcnS3/pbU/2xZlNsgkuj/iiWpb3ma+PzkvZxlWL8E/jM5kxZEDwz/YMFyAKqzEP3g/VSLcJsY/WxAltatrxz8A0cQiI3PIP+pgu4PxNsk/KEqd29+0yT97Ac1SePHJP5TPG7zp9ck/Fvr97l/RyT9vpjrLyZfJP2d9yjFZXMk/yg8BLJcyyT8tjD4wkRzJPy5eRakx38g/YdWsddoByD/IJUwgPhPGP2YOzWU4WMM/LbbmGqiEwD+Al758V6m7P17XoS32/bU/\",\"dtype\":\"float64\",\"shape\":[75]},\"y\":{\"__ndarray__\":\"GhExyth1ND/Sv8nbtpRIP2vylNV0PVE/aTum7souWD/At0SJ8fVgPw3Iuahxymc/MSNhhJWvcD/bTfBN02d3P2zb5nxnaoA/CD5h5MAGhz8NmeH1TyaQP+zrCsc9p5Y/LbKd76fGnz/bLW5ISEmmPww9YvTcQq8/JV2OstnstT8Er5Y7M8G+P0c+r3jqkcU/5h99k6ZBzj88bCIzFzjVP4enV8oyxN0//yH99nXg5D8qOpLLf0jtP5kqGJXUifQ/c9cS8kHP/D+/DpwzojQEQIEmwoanVwxA4lgXt9HgE0BSSZ2AJuIbQAMJih9jjiNA5q4l5INuK0AwTKYKRj0zQNv5fmq8/DpAaCJseHrtQkB/+zpwzoxKQM3MzMzMeFJAZmZmZmZqWEAAAAAAAFxeQM3MzMzMJmJAmpmZmZkfZUBmZmZmZhhoQDMzMzMzEWtAAAAAAAAKbkBmZmZmZoFwQM3MzMzM/XFAMzMzMzN6c0CamZmZmfZ0QAAAAAAAc3ZAZmZmZmbvd0DNzMzMzGt5QDMzMzMz6HpAmpmZmZlkfEAAAAAAAOF9QGZmZmZmXX9AZmZmZuZsgECamZmZGSuBQM3MzMxM6YFAAAAAAICngkAzMzMzs2WDQGZmZmbmI4RAmpmZmRnihEDNzMzMTKCFQAAAAACAXoZAMzMzM7Mch0BmZmZm5tqHQJqZmZkZmYhAzczMzExXiUAAAAAAgBWKQDMzMzOz04pAZmZmZuaRi0CamZmZGVCMQM3MzMxMDo1AAAAAAIDMjUAzMzMzs4qOQGZmZmbmSI9A\",\"dtype\":\"float64\",\"shape\":[75]}}},\"id\":\"489a567a-93d0-474b-91f7-dc5066097c5e\",\"type\":\"ColumnDataSource\"},{\"attributes\":{\"below\":[{\"id\":\"1eb39a60-28b4-473f-8668-3ee0b3f4833d\",\"type\":\"LinearAxis\"}],\"left\":[{\"id\":\"87339042-fec4-4c72-8d9d-e70c1719426a\",\"type\":\"LinearAxis\"}],\"plot_height\":500,\"plot_width\":400,\"renderers\":[{\"id\":\"1eb39a60-28b4-473f-8668-3ee0b3f4833d\",\"type\":\"LinearAxis\"},{\"id\":\"08c8cbb1-ada4-4478-939f-9636d4db7fe9\",\"type\":\"Grid\"},{\"id\":\"87339042-fec4-4c72-8d9d-e70c1719426a\",\"type\":\"LinearAxis\"},{\"id\":\"9c1b0e93-f3d9-48f8-856e-551d902b7b2a\",\"type\":\"Grid\"},{\"id\":\"d6c667fc-145b-4f33-a08f-4453a3a1e6d7\",\"type\":\"BoxAnnotation\"},{\"id\":\"d222e3af-0d6f-4539-a172-e4046ae0e1e8\",\"type\":\"GlyphRenderer\"},{\"id\":\"7b862ac0-4665-4075-a5e7-e6bd89241557\",\"type\":\"GlyphRenderer\"},{\"id\":\"ac77e112-83c2-4f25-9710-bfe5d36430fa\",\"type\":\"GlyphRenderer\"},{\"id\":\"d158f082-282d-47c3-b83f-b9458ccf3e44\",\"type\":\"GlyphRenderer\"},{\"id\":\"2da517d2-1e0b-428f-bca7-7583ab1d19ae\",\"type\":\"GlyphRenderer\"}],\"title\":{\"id\":\"164b6b22-21d0-4aad-af8d-06105e5c5b20\",\"type\":\"Title\"},\"toolbar\":{\"id\":\"e5797410-a47a-42e4-ba0e-a522263af5aa\",\"type\":\"Toolbar\"},\"toolbar_location\":null,\"x_range\":{\"id\":\"18b7f7ca-dd3e-40da-881a-5ab768bdbd6d\",\"type\":\"Range1d\"},\"x_scale\":{\"id\":\"d6f84b10-3b40-444e-aefb-69db37d07e09\",\"type\":\"LinearScale\"},\"y_range\":{\"id\":\"e7872b24-896a-4de2-8f8b-a12dc3963f1c\",\"type\":\"Range1d\"},\"y_scale\":{\"id\":\"784929e1-872c-4a4a-951d-bc9de1f9dbd9\",\"type\":\"LinearScale\"}},\"id\":\"3587b69c-9991-4c24-9dd9-084c6f6f59dc\",\"subtype\":\"Figure\",\"type\":\"Plot\"},{\"attributes\":{\"callback\":null,\"end\":0.01,\"start\":1020},\"id\":\"e7872b24-896a-4de2-8f8b-a12dc3963f1c\",\"type\":\"Range1d\"},{\"attributes\":{\"dimension\":1,\"plot\":{\"id\":\"3587b69c-9991-4c24-9dd9-084c6f6f59dc\",\"subtype\":\"Figure\",\"type\":\"Plot\"},\"ticker\":{\"id\":\"02c56f7a-c244-4824-b1a0-51eb7a8d5f02\",\"type\":\"BasicTicker\"}},\"id\":\"9c1b0e93-f3d9-48f8-856e-551d902b7b2a\",\"type\":\"Grid\"},{\"attributes\":{\"plot\":{\"id\":\"3587b69c-9991-4c24-9dd9-084c6f6f59dc\",\"subtype\":\"Figure\",\"type\":\"Plot\"},\"ticker\":{\"id\":\"11b4236a-078c-4709-b5d4-6f23a3c1cc05\",\"type\":\"BasicTicker\"}},\"id\":\"08c8cbb1-ada4-4478-939f-9636d4db7fe9\",\"type\":\"Grid\"},{\"attributes\":{\"dimension\":1,\"plot\":{\"id\":\"5f9fa147-c4ff-4372-bc40-3e403156702b\",\"subtype\":\"Figure\",\"type\":\"Plot\"},\"ticker\":{\"id\":\"54297153-98f0-4f78-8e02-98706684b9a7\",\"type\":\"LogTicker\"}},\"id\":\"c4b25ea1-9e93-4b39-9baf-0b6bb331acb0\",\"type\":\"Grid\"},{\"attributes\":{\"axis_label\":\"cooling rate [K/day]\",\"formatter\":{\"id\":\"6635c8a3-ac27-4244-8d07-2bebd9574e44\",\"type\":\"BasicTickFormatter\"},\"plot\":{\"id\":\"3587b69c-9991-4c24-9dd9-084c6f6f59dc\",\"subtype\":\"Figure\",\"type\":\"Plot\"},\"ticker\":{\"id\":\"11b4236a-078c-4709-b5d4-6f23a3c1cc05\",\"type\":\"BasicTicker\"}},\"id\":\"1eb39a60-28b4-473f-8668-3ee0b3f4833d\",\"type\":\"LinearAxis\"},{\"attributes\":{},\"id\":\"66b750ff-4cbd-4cc8-a7a8-1aa479d359ed\",\"type\":\"LogScale\"},{\"attributes\":{\"overlay\":{\"id\":\"d6c667fc-145b-4f33-a08f-4453a3a1e6d7\",\"type\":\"BoxAnnotation\"}},\"id\":\"f4aac7fa-553b-43ef-b9d0-926e4e2caf4a\",\"type\":\"BoxZoomTool\"},{\"attributes\":{\"line_alpha\":0.6,\"line_color\":\"#e41a1c\",\"line_dash\":[6],\"line_width\":5,\"x\":{\"field\":\"x\"},\"y\":{\"field\":\"y\"}},\"id\":\"783c4b25-dc26-4721-8f34-e0c6916ec845\",\"type\":\"Line\"},{\"attributes\":{\"num_minor_ticks\":10},\"id\":\"54297153-98f0-4f78-8e02-98706684b9a7\",\"type\":\"LogTicker\"},{\"attributes\":{\"plot\":null,\"text\":\"Linear pressure scale\"},\"id\":\"164b6b22-21d0-4aad-af8d-06105e5c5b20\",\"type\":\"Title\"},{\"attributes\":{},\"id\":\"55496ab0-6bba-4d7a-a7e6-d8cd28530677\",\"type\":\"BasicTickFormatter\"},{\"attributes\":{},\"id\":\"34b2b716-df11-4454-907b-8a2c197e1378\",\"type\":\"PanTool\"},{\"attributes\":{\"ticker\":null},\"id\":\"9129a482-1691-4a88-bd45-c1b3b1f85bc1\",\"type\":\"LogTickFormatter\"},{\"attributes\":{\"plot\":null,\"text\":\"Log pressure scale\"},\"id\":\"02384eef-d2de-46b9-b7be-147002a822d5\",\"type\":\"Title\"},{\"attributes\":{\"callback\":null,\"column_names\":[\"x\",\"y\"],\"data\":{\"x\":{\"__ndarray__\":\"3BMIYYzNsz8TDXP+/ZTIP7VAksRYh9E/YuQbwBHT1D/gp6Jf+FTQP9SUS4Dtot0/3JcaPnUu3j8LXldAX6LjP2dLb+JYteQ/4Krj3wQy6D/bUoNAmczqP/c0L6B6+Ow/2OZSnnGo7j9niq1eTffuP9lN3yF7c+0/Oobw/UcF6j99+4T96EXmP7/btAAK4eI/oDrz/oGK4D+bn7D+rhPgP1bRxOAGoeE/P4m2AMBz4T8xuWoBTu3cPxBxOX+PUdc/7C6zfBvq0j+sZZ230mfOP+9cc6K4Psg/U5drVTvYwz/r9oLk127BPyEKoPdKSb4/p0hOvoqguD/iAxB+r4+yP2St8htexK0/iagGvd7Nqz8d07rdMKmsP/t1+IJOvK8/goUIQvadsD9hh7UhlDGvP7AWNR7AsKs/A6ykAftpqD+FlghjKk6lP7sTbUDkKqI/ep9wl3mCnT/+MGWHyE6VP08tiGwTM4Y/4CL+wJiWgD8Y/bw385ySPxUQYoCnPaA/eNVen5Skpz+H0CdDbOivP2a5+h7mLLQ/pFKbIR1quD9AFXmKA4W8P4qdfLyIHcA/Russoya0wT/Y9BxocCHDPz/KZ/1WgMQ/kgxzYSjQxT9MazYDGvTGP6fUPoC51Mc/fn8YW+djyD+PLImB6KjIPx6qxp5/s8g/q2nNRTKayD8P+7EHYnLIPwfZif0rTMg/iS25YUY+yD+qy1KAYkPIP2tjqmjFGsg/l9paeMFUxz/O3a6XpojFP8uYSIpE+MI/ScGugQhMwD/iHioR0X27P7ptokDmHbY/\",\"dtype\":\"float64\",\"shape\":[75]},\"y\":{\"__ndarray__\":\"S/O/Q+51ND/430zAtpRIP2vylNV0PVE/QxsjCssuWD/TR4Z78fVgP+inNsRxymc/OuuBfZWvcD/u3TFA02d3P2d3VoBnaoA/CD5h5MAGhz/1pA8HUCaQP+zrCsc9p5Y/Fb7LAKjGnz/nJ9c/SEmmPwBD+fzcQq8/FOZwv9nstT8Er5Y7M8G+P0c+r3jqkcU/yK72qKZBzj+tM989FzjVPxbgmr8yxN0/cOm5AXbg5D+5ctXAf0jtP5kqGJXUifQ/DsrqDELP/D8MCAhBojQEQDItVnmnVwxAiFXNvdHgE0BSSZ2AJuIbQAMJih9jjiNA5q4l5INuK0CPVN/5RT0zQHzxRXu8/DpAOZ7PgHrtQkAg8wGBzoxKQBSTN8DMeFJA2NmQf2ZqWEAAAAAAAFxeQEQX1LfMJmJAmpmZmZkfZUBmZmZmZhhoQLzoK0gzEWtAAAAAAAAKbkCiC+pbZoFwQAhyUMLM/XFA+I2vPTN6c0AQ5KCEmfZ0QAAAAAAAc3ZA8Btfe2bvd0AIclDCzGt5QPeNrz0z6HpAEOSghJlkfEAAAAAAAOF9QKML6ltmXX9ABTkoYeZsgED7xteeGSuBQAhyUMJM6YFAAAAAAICngkD4ja89s2WDQAU5KGHmI4RA+8bXnhnihEAIclDCTKCFQAAAAACAXoZA+I2vPbMch0AFOShh5tqHQPvG154ZmYhACHJQwkxXiUAAAAAAgBWKQPeNrz2z04pABTkoYeaRi0D7xteeGVCMQAlyUMJMDo1AAAAAAIDMjUD3ja89s4qOQGZmZmbmSI9A\",\"dtype\":\"float64\",\"shape\":[75]}}},\"id\":\"048d0532-a86d-4586-9871-423cb988208c\",\"type\":\"ColumnDataSource\"},{\"attributes\":{\"active_drag\":\"auto\",\"active_inspect\":\"auto\",\"active_scroll\":\"auto\",\"active_tap\":\"auto\",\"tools\":[{\"id\":\"34b2b716-df11-4454-907b-8a2c197e1378\",\"type\":\"PanTool\"},{\"id\":\"3b667df1-4414-43df-ad0c-a25ceade8ebe\",\"type\":\"WheelZoomTool\"},{\"id\":\"57a33189-4572-400d-b21d-2d9e1cceee65\",\"type\":\"BoxZoomTool\"},{\"id\":\"5c03d211-ccaf-4d1f-94ab-82064012b97b\",\"type\":\"SaveTool\"},{\"id\":\"b341a38e-c088-4221-ba57-ef1b9f2fc57f\",\"type\":\"ResetTool\"},{\"id\":\"9b3969d7-7525-4d06-bc69-b100e7915803\",\"type\":\"HelpTool\"}]},\"id\":\"57ff5564-9729-4965-8003-2af37cf7d6fa\",\"type\":\"Toolbar\"},{\"attributes\":{},\"id\":\"6635c8a3-ac27-4244-8d07-2bebd9574e44\",\"type\":\"BasicTickFormatter\"},{\"attributes\":{\"source\":{\"id\":\"246fcf33-f394-429b-90b2-07ebdd0d2306\",\"type\":\"ColumnDataSource\"}},\"id\":\"d794e83e-27ef-4414-b1d6-373b0cc74bf4\",\"type\":\"CDSView\"},{\"attributes\":{\"below\":[{\"id\":\"4be8b455-6359-4ee1-b6da-cf9bf3b86cdc\",\"type\":\"LinearAxis\"}],\"left\":[{\"id\":\"3886cc10-81b3-4d52-977d-b9c5aeb8f546\",\"type\":\"LogAxis\"}],\"plot_height\":500,\"plot_width\":560,\"renderers\":[{\"id\":\"4be8b455-6359-4ee1-b6da-cf9bf3b86cdc\",\"type\":\"LinearAxis\"},{\"id\":\"5913affa-e402-4482-b1b7-7d914e7338ae\",\"type\":\"Grid\"},{\"id\":\"3886cc10-81b3-4d52-977d-b9c5aeb8f546\",\"type\":\"LogAxis\"},{\"id\":\"c4b25ea1-9e93-4b39-9baf-0b6bb331acb0\",\"type\":\"Grid\"},{\"id\":\"0bb6ca5b-982b-4ec0-b217-ac5f98d9f547\",\"type\":\"BoxAnnotation\"},{\"id\":\"17b7efac-d581-4616-b363-cef5b9715a6d\",\"type\":\"GlyphRenderer\"},{\"id\":\"e4742020-7634-4bb9-912a-b3dc80a918f2\",\"type\":\"GlyphRenderer\"},{\"id\":\"5214c6fa-0a2c-4200-9d01-f1d4cb076f79\",\"type\":\"GlyphRenderer\"},{\"id\":\"c53377a8-cf3e-41be-9b9b-cd9d6212dcb0\",\"type\":\"GlyphRenderer\"},{\"id\":\"d26fa1df-ed9f-44e4-b7f6-0447cea3f5b4\",\"type\":\"GlyphRenderer\"},{\"id\":\"3d227c55-d3cf-4ef2-85b3-24b14fe9cf1f\",\"type\":\"Legend\"}],\"right\":[{\"id\":\"3d227c55-d3cf-4ef2-85b3-24b14fe9cf1f\",\"type\":\"Legend\"}],\"title\":{\"id\":\"02384eef-d2de-46b9-b7be-147002a822d5\",\"type\":\"Title\"},\"toolbar\":{\"id\":\"57ff5564-9729-4965-8003-2af37cf7d6fa\",\"type\":\"Toolbar\"},\"toolbar_location\":null,\"x_range\":{\"id\":\"d0248321-2164-455b-81ea-85328bc2334e\",\"type\":\"Range1d\"},\"x_scale\":{\"id\":\"acd072a4-7e83-4bd4-a9ac-3334ab41720c\",\"type\":\"LinearScale\"},\"y_range\":{\"id\":\"2a2db140-21aa-4de9-9346-d2f568a1bd19\",\"type\":\"Range1d\"},\"y_scale\":{\"id\":\"66b750ff-4cbd-4cc8-a7a8-1aa479d359ed\",\"type\":\"LogScale\"}},\"id\":\"5f9fa147-c4ff-4372-bc40-3e403156702b\",\"subtype\":\"Figure\",\"type\":\"Plot\"},{\"attributes\":{\"tools\":[{\"id\":\"a197b7c1-0eab-4cb8-981b-5dff06be1704\",\"type\":\"PanTool\"},{\"id\":\"94129488-0423-497c-9464-6f48471d9c6c\",\"type\":\"WheelZoomTool\"},{\"id\":\"f4aac7fa-553b-43ef-b9d0-926e4e2caf4a\",\"type\":\"BoxZoomTool\"},{\"id\":\"e990122c-2de8-4fcd-8cc8-68fc3a84a67a\",\"type\":\"SaveTool\"},{\"id\":\"61d15569-1e2f-416f-b9a5-82a52a781516\",\"type\":\"ResetTool\"},{\"id\":\"3aba8cfa-25ce-4f86-a517-aa3c0cf42826\",\"type\":\"HelpTool\"},{\"id\":\"34b2b716-df11-4454-907b-8a2c197e1378\",\"type\":\"PanTool\"},{\"id\":\"3b667df1-4414-43df-ad0c-a25ceade8ebe\",\"type\":\"WheelZoomTool\"},{\"id\":\"57a33189-4572-400d-b21d-2d9e1cceee65\",\"type\":\"BoxZoomTool\"},{\"id\":\"5c03d211-ccaf-4d1f-94ab-82064012b97b\",\"type\":\"SaveTool\"},{\"id\":\"b341a38e-c088-4221-ba57-ef1b9f2fc57f\",\"type\":\"ResetTool\"},{\"id\":\"9b3969d7-7525-4d06-bc69-b100e7915803\",\"type\":\"HelpTool\"}]},\"id\":\"7ddf2d6d-ed7a-4dd6-8dbc-dc04756d1bc0\",\"type\":\"ProxyToolbar\"},{\"attributes\":{\"line_alpha\":0.1,\"line_color\":\"#1f77b4\",\"line_dash\":[6],\"line_width\":5,\"x\":{\"field\":\"x\"},\"y\":{\"field\":\"y\"}},\"id\":\"3049c09d-490b-4570-944b-e39404d553ed\",\"type\":\"Line\"},{\"attributes\":{},\"id\":\"3b667df1-4414-43df-ad0c-a25ceade8ebe\",\"type\":\"WheelZoomTool\"},{\"attributes\":{\"line_alpha\":0.1,\"line_color\":\"#1f77b4\",\"line_dash\":[6],\"line_width\":5,\"x\":{\"field\":\"x\"},\"y\":{\"field\":\"y\"}},\"id\":\"fd6d377e-6f6b-445f-8193-e395c9d88c34\",\"type\":\"Line\"},{\"attributes\":{\"source\":{\"id\":\"1c6a925a-8c71-45f9-a1b9-4a53bdb7fd49\",\"type\":\"ColumnDataSource\"}},\"id\":\"0dc7796e-7dbb-4f77-b9cc-a852e8e22453\",\"type\":\"CDSView\"},{\"attributes\":{\"line_alpha\":0.1,\"line_color\":\"#1f77b4\",\"line_width\":3,\"x\":{\"field\":\"x\"},\"y\":{\"field\":\"y\"}},\"id\":\"f9508205-aa27-4d6a-a889-498d17acf65e\",\"type\":\"Line\"},{\"attributes\":{\"fill_alpha\":{\"value\":0.7},\"fill_color\":{\"value\":\"#984ea3\"},\"line_alpha\":{\"value\":0.7},\"line_color\":{\"value\":\"#984ea3\"},\"x\":{\"field\":\"x\"},\"y\":{\"field\":\"y\"}},\"id\":\"96fa4fd2-b9f3-47b8-b7df-615310ee5f9c\",\"type\":\"Square\"},{\"attributes\":{\"data_source\":{\"id\":\"048d0532-a86d-4586-9871-423cb988208c\",\"type\":\"ColumnDataSource\"},\"glyph\":{\"id\":\"238738e8-b15a-4718-85c4-26dea320b9df\",\"type\":\"Line\"},\"hover_glyph\":null,\"muted_glyph\":null,\"nonselection_glyph\":{\"id\":\"3049c09d-490b-4570-944b-e39404d553ed\",\"type\":\"Line\"},\"selection_glyph\":null,\"view\":{\"id\":\"2b0b1911-38fc-43ec-baf8-4694ae1d737b\",\"type\":\"CDSView\"}},\"id\":\"17b7efac-d581-4616-b363-cef5b9715a6d\",\"type\":\"GlyphRenderer\"},{\"attributes\":{\"line_alpha\":0.6,\"line_color\":\"#984ea3\",\"line_width\":3,\"x\":{\"field\":\"x\"},\"y\":{\"field\":\"y\"}},\"id\":\"ede9bc7f-aa46-4b30-8b2a-6e69598d4192\",\"type\":\"Line\"},{\"attributes\":{\"data_source\":{\"id\":\"1c7ad973-e911-4d98-89c2-d8a14c7770bc\",\"type\":\"ColumnDataSource\"},\"glyph\":{\"id\":\"96fa4fd2-b9f3-47b8-b7df-615310ee5f9c\",\"type\":\"Square\"},\"hover_glyph\":null,\"muted_glyph\":null,\"nonselection_glyph\":{\"id\":\"13cb3828-a639-425f-8b25-c3a460d16eaf\",\"type\":\"Square\"},\"selection_glyph\":null,\"view\":{\"id\":\"d11938b1-47bd-43f0-afa4-b10ccb464e64\",\"type\":\"CDSView\"}},\"id\":\"d158f082-282d-47c3-b83f-b9458ccf3e44\",\"type\":\"GlyphRenderer\"},{\"attributes\":{\"callback\":null,\"end\":0.204764344296,\"start\":0.0061525661039999995},\"id\":\"18b7f7ca-dd3e-40da-881a-5ab768bdbd6d\",\"type\":\"Range1d\"},{\"attributes\":{\"source\":{\"id\":\"3eb03cce-0f18-4c46-a08a-e39565f93adb\",\"type\":\"ColumnDataSource\"}},\"id\":\"c979483b-076a-4dd2-8e41-3c1080c95154\",\"type\":\"CDSView\"},{\"attributes\":{\"fill_alpha\":{\"value\":0.7},\"fill_color\":{\"value\":\"#4daf4a\"},\"line_alpha\":{\"value\":0.7},\"line_color\":{\"value\":\"#4daf4a\"},\"x\":{\"field\":\"x\"},\"y\":{\"field\":\"y\"}},\"id\":\"7f9476e2-0fb0-444d-b842-3afc291394da\",\"type\":\"Circle\"},{\"attributes\":{\"source\":{\"id\":\"1c7ad973-e911-4d98-89c2-d8a14c7770bc\",\"type\":\"ColumnDataSource\"}},\"id\":\"d11938b1-47bd-43f0-afa4-b10ccb464e64\",\"type\":\"CDSView\"},{\"attributes\":{\"bottom_units\":\"screen\",\"fill_alpha\":{\"value\":0.5},\"fill_color\":{\"value\":\"lightgrey\"},\"left_units\":\"screen\",\"level\":\"overlay\",\"line_alpha\":{\"value\":1.0},\"line_color\":{\"value\":\"black\"},\"line_dash\":[4,4],\"line_width\":{\"value\":2},\"plot\":null,\"render_mode\":\"css\",\"right_units\":\"screen\",\"top_units\":\"screen\"},\"id\":\"0bb6ca5b-982b-4ec0-b217-ac5f98d9f547\",\"type\":\"BoxAnnotation\"},{\"attributes\":{\"toolbar\":{\"id\":\"7ddf2d6d-ed7a-4dd6-8dbc-dc04756d1bc0\",\"type\":\"ProxyToolbar\"},\"toolbar_location\":\"above\"},\"id\":\"6b410abb-c246-4524-bb30-7ed863ec9bce\",\"type\":\"ToolbarBox\"},{\"attributes\":{\"items\":[{\"id\":\"1ab32836-0b2b-40e9-965b-0956baee5a15\",\"type\":\"LegendItem\"},{\"id\":\"458c8618-81e5-4fbb-bd19-b7abc96e579e\",\"type\":\"LegendItem\"},{\"id\":\"7a17b189-d673-4ca9-ae02-273902b93145\",\"type\":\"LegendItem\"}],\"label_text_font_size\":{\"value\":\"8pt\"},\"location\":[10,-30],\"plot\":{\"id\":\"5f9fa147-c4ff-4372-bc40-3e403156702b\",\"subtype\":\"Figure\",\"type\":\"Plot\"}},\"id\":\"3d227c55-d3cf-4ef2-85b3-24b14fe9cf1f\",\"type\":\"Legend\"},{\"attributes\":{\"line_alpha\":0.6,\"line_color\":\"#e41a1c\",\"line_dash\":[6],\"line_width\":5,\"x\":{\"field\":\"x\"},\"y\":{\"field\":\"y\"}},\"id\":\"238738e8-b15a-4718-85c4-26dea320b9df\",\"type\":\"Line\"},{\"attributes\":{},\"id\":\"616bb4bc-a57e-405a-bc99-d31e064bbe38\",\"type\":\"BasicTickFormatter\"},{\"attributes\":{},\"id\":\"9b3969d7-7525-4d06-bc69-b100e7915803\",\"type\":\"HelpTool\"},{\"attributes\":{\"data_source\":{\"id\":\"246fcf33-f394-429b-90b2-07ebdd0d2306\",\"type\":\"ColumnDataSource\"},\"glyph\":{\"id\":\"ede9bc7f-aa46-4b30-8b2a-6e69598d4192\",\"type\":\"Line\"},\"hover_glyph\":null,\"muted_glyph\":null,\"nonselection_glyph\":{\"id\":\"f9508205-aa27-4d6a-a889-498d17acf65e\",\"type\":\"Line\"},\"selection_glyph\":null,\"view\":{\"id\":\"d794e83e-27ef-4414-b1d6-373b0cc74bf4\",\"type\":\"CDSView\"}},\"id\":\"2da517d2-1e0b-428f-bca7-7583ab1d19ae\",\"type\":\"GlyphRenderer\"},{\"attributes\":{\"fill_alpha\":{\"value\":0.1},\"fill_color\":{\"value\":\"#1f77b4\"},\"line_alpha\":{\"value\":0.1},\"line_color\":{\"value\":\"#1f77b4\"},\"x\":{\"field\":\"x\"},\"y\":{\"field\":\"y\"}},\"id\":\"13cb3828-a639-425f-8b25-c3a460d16eaf\",\"type\":\"Square\"},{\"attributes\":{},\"id\":\"5c03d211-ccaf-4d1f-94ab-82064012b97b\",\"type\":\"SaveTool\"},{\"attributes\":{\"data_source\":{\"id\":\"1c6a925a-8c71-45f9-a1b9-4a53bdb7fd49\",\"type\":\"ColumnDataSource\"},\"glyph\":{\"id\":\"9f10ec2e-eff3-498a-afbf-45355b3bbd4e\",\"type\":\"Line\"},\"hover_glyph\":null,\"muted_glyph\":null,\"nonselection_glyph\":{\"id\":\"090c3b52-c631-48cf-af76-a7cc161c4c84\",\"type\":\"Line\"},\"selection_glyph\":null,\"view\":{\"id\":\"0dc7796e-7dbb-4f77-b9cc-a852e8e22453\",\"type\":\"CDSView\"}},\"id\":\"ac77e112-83c2-4f25-9710-bfe5d36430fa\",\"type\":\"GlyphRenderer\"},{\"attributes\":{},\"id\":\"b341a38e-c088-4221-ba57-ef1b9f2fc57f\",\"type\":\"ResetTool\"},{\"attributes\":{\"callback\":null,\"column_names\":[\"x\",\"y\"],\"data\":{\"x\":{\"__ndarray__\":\"lAUCU7yAxz/MLUpcCdXKP57eOVKFmNE/E8RxxzhS1j/MlqyKcFPbP1eTCtdhVOA/hrDYLoYV4z8BMrYIc9jlP/kbSHJUieg/NJ5rDPgE6z/WdD3RdSHtPzAA4BrQue4/Z+Edpp6h7z/pt23nFCfvP4y5EFCGz+w/knFzx+6E6T86ie9hgjzmP7lG0/JmgeM/4hdFrFHR4T/96AbQEIrhP5JpI43A7uI/XKvBJCpO4j/ZM/i5qZrdP4tzDn37Y9c/WQIAMjrB0j/uiLeMowvOP6UbF8T2ycc/IleHL1Vhwz9XKE7F+PbAP6FRNryLvb0/sPZZYO16uD9vi70N7cCyP1LV8m07Ga8/WGf2JY1krj9Tted2UgavP0vv3vtiibA/3XGzDRYtsT/BYBOm40KwP3EtPCpcYa0/Gz2BJ2JOqj/V6ZEdUyunP8XEwBw4xaM/k0XZ3EoPoD+w4PPNelSXP4yAr40d+Yg/OoxZGKHdgj8w1sqTiheUP36sXH99OqE/rrWKDfz5qD+12WWze9awP8WIgQR+OrU/cbRueWh8uT+zyMBLune9P8yXeorahcA/w1foQUkawj8/w7xDYYLDP/PUl2OByMQ/mbagc47sxT8J88OtJ9/GPxhvEiCWj8c/IcEaiOH6xz++nxov3STIP57SXtCEHsg/rQPWYND4xz8vsjJUpMbHP3ONQ7sSmsc/87ufCQOFxz8w5hnB54PHP6m2xF/NYMc/H6a3Hgmkxj+VA6hvuuHEPxLR+Tq6W8I/OtQIYHd4vz8ksCBqLnm6P91D4wXoKbU/\",\"dtype\":\"float64\",\"shape\":[75]},\"y\":{\"__ndarray__\":\"GhExyth1ND/Sv8nbtpRIP2vylNV0PVE/aTum7souWD/At0SJ8fVgPw3Iuahxymc/MSNhhJWvcD/bTfBN02d3P2zb5nxnaoA/CD5h5MAGhz8NmeH1TyaQP+zrCsc9p5Y/LbKd76fGnz/bLW5ISEmmPww9YvTcQq8/JV2OstnstT8Er5Y7M8G+P0c+r3jqkcU/5h99k6ZBzj88bCIzFzjVP4enV8oyxN0//yH99nXg5D8qOpLLf0jtP5kqGJXUifQ/c9cS8kHP/D+/DpwzojQEQIEmwoanVwxA4lgXt9HgE0BSSZ2AJuIbQAMJih9jjiNA5q4l5INuK0AwTKYKRj0zQNv5fmq8/DpAaCJseHrtQkB/+zpwzoxKQM3MzMzMeFJAZmZmZmZqWEAAAAAAAFxeQM3MzMzMJmJAmpmZmZkfZUBmZmZmZhhoQDMzMzMzEWtAAAAAAAAKbkBmZmZmZoFwQM3MzMzM/XFAMzMzMzN6c0CamZmZmfZ0QAAAAAAAc3ZAZmZmZmbvd0DNzMzMzGt5QDMzMzMz6HpAmpmZmZlkfEAAAAAAAOF9QGZmZmZmXX9AZmZmZuZsgECamZmZGSuBQM3MzMxM6YFAAAAAAICngkAzMzMzs2WDQGZmZmbmI4RAmpmZmRnihEDNzMzMTKCFQAAAAACAXoZAMzMzM7Mch0BmZmZm5tqHQJqZmZkZmYhAzczMzExXiUAAAAAAgBWKQDMzMzOz04pAZmZmZuaRi0CamZmZGVCMQM3MzMxMDo1AAAAAAIDMjUAzMzMzs4qOQGZmZmbmSI9A\",\"dtype\":\"float64\",\"shape\":[75]}}},\"id\":\"1c7ad973-e911-4d98-89c2-d8a14c7770bc\",\"type\":\"ColumnDataSource\"},{\"attributes\":{\"callback\":null,\"column_names\":[\"x\",\"y\"],\"data\":{\"x\":{\"__ndarray__\":\"lAUCU7yAxz/MLUpcCdXKP57eOVKFmNE/E8RxxzhS1j/MlqyKcFPbP1eTCtdhVOA/hrDYLoYV4z8BMrYIc9jlP/kbSHJUieg/NJ5rDPgE6z/WdD3RdSHtPzAA4BrQue4/Z+Edpp6h7z/pt23nFCfvP4y5EFCGz+w/knFzx+6E6T86ie9hgjzmP7lG0/JmgeM/4hdFrFHR4T/96AbQEIrhP5JpI43A7uI/XKvBJCpO4j/ZM/i5qZrdP4tzDn37Y9c/WQIAMjrB0j/uiLeMowvOP6UbF8T2ycc/IleHL1Vhwz9XKE7F+PbAP6FRNryLvb0/sPZZYO16uD9vi70N7cCyP1LV8m07Ga8/WGf2JY1krj9Tted2UgavP0vv3vtiibA/3XGzDRYtsT/BYBOm40KwP3EtPCpcYa0/Gz2BJ2JOqj/V6ZEdUyunP8XEwBw4xaM/k0XZ3EoPoD+w4PPNelSXP4yAr40d+Yg/OoxZGKHdgj8w1sqTiheUP36sXH99OqE/rrWKDfz5qD+12WWze9awP8WIgQR+OrU/cbRueWh8uT+zyMBLune9P8yXeorahcA/w1foQUkawj8/w7xDYYLDP/PUl2OByMQ/mbagc47sxT8J88OtJ9/GPxhvEiCWj8c/IcEaiOH6xz++nxov3STIP57SXtCEHsg/rQPWYND4xz8vsjJUpMbHP3ONQ7sSmsc/87ufCQOFxz8w5hnB54PHP6m2xF/NYMc/H6a3Hgmkxj+VA6hvuuHEPxLR+Tq6W8I/OtQIYHd4vz8ksCBqLnm6P91D4wXoKbU/\",\"dtype\":\"float64\",\"shape\":[75]},\"y\":{\"__ndarray__\":\"GhExyth1ND/Sv8nbtpRIP2vylNV0PVE/aTum7souWD/At0SJ8fVgPw3Iuahxymc/MSNhhJWvcD/bTfBN02d3P2zb5nxnaoA/CD5h5MAGhz8NmeH1TyaQP+zrCsc9p5Y/LbKd76fGnz/bLW5ISEmmPww9YvTcQq8/JV2OstnstT8Er5Y7M8G+P0c+r3jqkcU/5h99k6ZBzj88bCIzFzjVP4enV8oyxN0//yH99nXg5D8qOpLLf0jtP5kqGJXUifQ/c9cS8kHP/D+/DpwzojQEQIEmwoanVwxA4lgXt9HgE0BSSZ2AJuIbQAMJih9jjiNA5q4l5INuK0AwTKYKRj0zQNv5fmq8/DpAaCJseHrtQkB/+zpwzoxKQM3MzMzMeFJAZmZmZmZqWEAAAAAAAFxeQM3MzMzMJmJAmpmZmZkfZUBmZmZmZhhoQDMzMzMzEWtAAAAAAAAKbkBmZmZmZoFwQM3MzMzM/XFAMzMzMzN6c0CamZmZmfZ0QAAAAAAAc3ZAZmZmZmbvd0DNzMzMzGt5QDMzMzMz6HpAmpmZmZlkfEAAAAAAAOF9QGZmZmZmXX9AZmZmZuZsgECamZmZGSuBQM3MzMxM6YFAAAAAAICngkAzMzMzs2WDQGZmZmbmI4RAmpmZmRnihEDNzMzMTKCFQAAAAACAXoZAMzMzM7Mch0BmZmZm5tqHQJqZmZkZmYhAzczMzExXiUAAAAAAgBWKQDMzMzOz04pAZmZmZuaRi0CamZmZGVCMQM3MzMxMDo1AAAAAAIDMjUAzMzMzs4qOQGZmZmbmSI9A\",\"dtype\":\"float64\",\"shape\":[75]}}},\"id\":\"246fcf33-f394-429b-90b2-07ebdd0d2306\",\"type\":\"ColumnDataSource\"}],\"root_ids\":[\"c1f89a57-bfe2-4689-bb4e-95e1004323d3\"]},\"title\":\"Bokeh Application\",\"version\":\"0.12.14\"}};\n",
       "  var render_items = [{\"docid\":\"e1e49fd0-359e-4e8b-82b1-57ebe1f3d3fb\",\"elementid\":\"b5f8296f-b965-4e7b-9fa8-d3d82221ccb3\",\"modelid\":\"c1f89a57-bfe2-4689-bb4e-95e1004323d3\"}];\n",
       "  root.Bokeh.embed.embed_items_notebook(docs_json, render_items);\n",
       "\n",
       "  }\n",
       "  if (root.Bokeh !== undefined) {\n",
       "    embed_document(root);\n",
       "  } else {\n",
       "    var attempts = 0;\n",
       "    var timer = setInterval(function(root) {\n",
       "      if (root.Bokeh !== undefined) {\n",
       "        embed_document(root);\n",
       "        clearInterval(timer);\n",
       "      }\n",
       "      attempts++;\n",
       "      if (attempts > 100) {\n",
       "        console.log(\"Bokeh: ERROR: Unable to run BokehJS code because BokehJS library is missing\")\n",
       "        clearInterval(timer);\n",
       "      }\n",
       "    }, 10, root)\n",
       "  }\n",
       "})(window);"
      ],
      "application/vnd.bokehjs_exec.v0+json": ""
     },
     "metadata": {
      "application/vnd.bokehjs_exec.v0+json": {
       "id": "c1f89a57-bfe2-4689-bb4e-95e1004323d3"
      }
     },
     "output_type": "display_data"
    },
    {
     "name": "stdout",
     "output_type": "stream",
     "text": [
      "FIGURE. Cooling rate profiles.\n"
     ]
    },
    {
     "data": {
      "text/html": [
       "<a id=\"Flux_Comparison\"></a>"
      ],
      "text/plain": [
       "<IPython.core.display.HTML object>"
      ]
     },
     "metadata": {},
     "output_type": "display_data"
    },
    {
     "data": {
      "text/markdown": [
       "# Flux Comparison"
      ],
      "text/plain": [
       "<IPython.core.display.Markdown object>"
      ]
     },
     "metadata": {},
     "output_type": "display_data"
    },
    {
     "data": {
      "text/html": [
       "<div>\n",
       "<style>\n",
       "    .dataframe thead tr:only-child th {\n",
       "        text-align: right;\n",
       "    }\n",
       "\n",
       "    .dataframe thead th {\n",
       "        text-align: left;\n",
       "    }\n",
       "\n",
       "    .dataframe tbody tr th {\n",
       "        vertical-align: top;\n",
       "    }\n",
       "</style>\n",
       "<table border=\"1\" class=\"dataframe\">\n",
       "  <thead>\n",
       "    <tr style=\"text-align: right;\">\n",
       "      <th></th>\n",
       "      <th></th>\n",
       "      <th>flug</th>\n",
       "      <th>fldg</th>\n",
       "      <th>fnetg</th>\n",
       "    </tr>\n",
       "    <tr>\n",
       "      <th>pressure</th>\n",
       "      <th>level</th>\n",
       "      <th></th>\n",
       "      <th></th>\n",
       "      <th></th>\n",
       "    </tr>\n",
       "  </thead>\n",
       "  <tbody>\n",
       "    <tr>\n",
       "      <th>0.0000</th>\n",
       "      <th>1</th>\n",
       "      <td>-19.649536</td>\n",
       "      <td>0.000000</td>\n",
       "      <td>-19.649536</td>\n",
       "    </tr>\n",
       "    <tr>\n",
       "      <th>1.0685</th>\n",
       "      <th>24</th>\n",
       "      <td>-19.634852</td>\n",
       "      <td>0.057933</td>\n",
       "      <td>-19.576918</td>\n",
       "    </tr>\n",
       "    <tr>\n",
       "      <th>1013.0000</th>\n",
       "      <th>76</th>\n",
       "      <td>-23.591138</td>\n",
       "      <td>17.313984</td>\n",
       "      <td>-6.277154</td>\n",
       "    </tr>\n",
       "  </tbody>\n",
       "</table>\n",
       "</div>"
      ],
      "text/plain": [
       "                      flug       fldg      fnetg\n",
       "pressure  level                                 \n",
       "0.0000    1     -19.649536   0.000000 -19.649536\n",
       "1.0685    24    -19.634852   0.057933 -19.576918\n",
       "1013.0000 76    -23.591138  17.313984  -6.277154"
      ]
     },
     "metadata": {},
     "output_type": "display_data"
    },
    {
     "name": "stdout",
     "output_type": "stream",
     "text": [
      "Table. Fluxes. WGT igg=10 wgt_flux=1\n"
     ]
    },
    {
     "data": {
      "text/html": [
       "<div>\n",
       "<style>\n",
       "    .dataframe thead tr:only-child th {\n",
       "        text-align: right;\n",
       "    }\n",
       "\n",
       "    .dataframe thead th {\n",
       "        text-align: left;\n",
       "    }\n",
       "\n",
       "    .dataframe tbody tr th {\n",
       "        vertical-align: top;\n",
       "    }\n",
       "</style>\n",
       "<table border=\"1\" class=\"dataframe\">\n",
       "  <thead>\n",
       "    <tr style=\"text-align: right;\">\n",
       "      <th></th>\n",
       "      <th></th>\n",
       "      <th>flug</th>\n",
       "      <th>fldg</th>\n",
       "      <th>fnetg</th>\n",
       "    </tr>\n",
       "    <tr>\n",
       "      <th>pressure</th>\n",
       "      <th>level</th>\n",
       "      <th></th>\n",
       "      <th></th>\n",
       "      <th></th>\n",
       "    </tr>\n",
       "  </thead>\n",
       "  <tbody>\n",
       "    <tr>\n",
       "      <th>0.0000</th>\n",
       "      <th>1</th>\n",
       "      <td>-19.706173</td>\n",
       "      <td>0.000000</td>\n",
       "      <td>-19.706173</td>\n",
       "    </tr>\n",
       "    <tr>\n",
       "      <th>1.0685</th>\n",
       "      <th>24</th>\n",
       "      <td>-19.690942</td>\n",
       "      <td>0.062001</td>\n",
       "      <td>-19.628941</td>\n",
       "    </tr>\n",
       "    <tr>\n",
       "      <th>1013.0000</th>\n",
       "      <th>76</th>\n",
       "      <td>-23.591138</td>\n",
       "      <td>17.722380</td>\n",
       "      <td>-5.868758</td>\n",
       "    </tr>\n",
       "  </tbody>\n",
       "</table>\n",
       "</div>"
      ],
      "text/plain": [
       "                      flug       fldg      fnetg\n",
       "pressure  level                                 \n",
       "0.0000    1     -19.706173   0.000000 -19.706173\n",
       "1.0685    24    -19.690942   0.062001 -19.628941\n",
       "1013.0000 76    -23.591138  17.722380  -5.868758"
      ]
     },
     "metadata": {},
     "output_type": "display_data"
    },
    {
     "name": "stdout",
     "output_type": "stream",
     "text": [
      "Table. Fluxes. CRD\n"
     ]
    },
    {
     "data": {
      "text/html": [
       "<div>\n",
       "<style>\n",
       "    .dataframe thead tr:only-child th {\n",
       "        text-align: right;\n",
       "    }\n",
       "\n",
       "    .dataframe thead th {\n",
       "        text-align: left;\n",
       "    }\n",
       "\n",
       "    .dataframe tbody tr th {\n",
       "        vertical-align: top;\n",
       "    }\n",
       "</style>\n",
       "<table border=\"1\" class=\"dataframe\">\n",
       "  <thead>\n",
       "    <tr style=\"text-align: right;\">\n",
       "      <th></th>\n",
       "      <th></th>\n",
       "      <th>flug</th>\n",
       "      <th>fldg</th>\n",
       "      <th>fnetg</th>\n",
       "    </tr>\n",
       "    <tr>\n",
       "      <th>pressure</th>\n",
       "      <th>level</th>\n",
       "      <th></th>\n",
       "      <th></th>\n",
       "      <th></th>\n",
       "    </tr>\n",
       "  </thead>\n",
       "  <tbody>\n",
       "    <tr>\n",
       "      <th>1.000000e-08</th>\n",
       "      <th>1</th>\n",
       "      <td>-19.771149</td>\n",
       "      <td>0.000002</td>\n",
       "      <td>-19.771147</td>\n",
       "    </tr>\n",
       "    <tr>\n",
       "      <th>1.068500e+00</th>\n",
       "      <th>24</th>\n",
       "      <td>-19.756754</td>\n",
       "      <td>0.055120</td>\n",
       "      <td>-19.701633</td>\n",
       "    </tr>\n",
       "    <tr>\n",
       "      <th>1.013000e+03</th>\n",
       "      <th>76</th>\n",
       "      <td>-23.591141</td>\n",
       "      <td>17.209627</td>\n",
       "      <td>-6.381514</td>\n",
       "    </tr>\n",
       "  </tbody>\n",
       "</table>\n",
       "</div>"
      ],
      "text/plain": [
       "                         flug       fldg      fnetg\n",
       "pressure     level                                 \n",
       "1.000000e-08 1     -19.771149   0.000002 -19.771147\n",
       "1.068500e+00 24    -19.756754   0.055120 -19.701633\n",
       "1.013000e+03 76    -23.591141  17.209627  -6.381514"
      ]
     },
     "metadata": {},
     "output_type": "display_data"
    },
    {
     "name": "stdout",
     "output_type": "stream",
     "text": [
      "Table. Fluxes. CLIRAD\n"
     ]
    },
    {
     "data": {
      "text/html": [
       "<div>\n",
       "<style>\n",
       "    .dataframe thead tr:only-child th {\n",
       "        text-align: right;\n",
       "    }\n",
       "\n",
       "    .dataframe thead th {\n",
       "        text-align: left;\n",
       "    }\n",
       "\n",
       "    .dataframe tbody tr th {\n",
       "        vertical-align: top;\n",
       "    }\n",
       "</style>\n",
       "<table border=\"1\" class=\"dataframe\">\n",
       "  <thead>\n",
       "    <tr style=\"text-align: right;\">\n",
       "      <th></th>\n",
       "      <th></th>\n",
       "      <th>flug</th>\n",
       "      <th>fldg</th>\n",
       "      <th>fnetg</th>\n",
       "    </tr>\n",
       "    <tr>\n",
       "      <th>pressure</th>\n",
       "      <th>level</th>\n",
       "      <th></th>\n",
       "      <th></th>\n",
       "      <th></th>\n",
       "    </tr>\n",
       "  </thead>\n",
       "  <tbody>\n",
       "    <tr>\n",
       "      <th>0.0000</th>\n",
       "      <th>1</th>\n",
       "      <td>-0.056637</td>\n",
       "      <td>0.000000</td>\n",
       "      <td>-0.056637</td>\n",
       "    </tr>\n",
       "    <tr>\n",
       "      <th>1.0685</th>\n",
       "      <th>24</th>\n",
       "      <td>-0.056090</td>\n",
       "      <td>0.004068</td>\n",
       "      <td>-0.052023</td>\n",
       "    </tr>\n",
       "    <tr>\n",
       "      <th>1013.0000</th>\n",
       "      <th>76</th>\n",
       "      <td>0.000000</td>\n",
       "      <td>0.408396</td>\n",
       "      <td>0.408396</td>\n",
       "    </tr>\n",
       "  </tbody>\n",
       "</table>\n",
       "</div>"
      ],
      "text/plain": [
       "                     flug      fldg     fnetg\n",
       "pressure  level                              \n",
       "0.0000    1     -0.056637  0.000000 -0.056637\n",
       "1.0685    24    -0.056090  0.004068 -0.052023\n",
       "1013.0000 76     0.000000  0.408396  0.408396"
      ]
     },
     "metadata": {},
     "output_type": "display_data"
    },
    {
     "name": "stdout",
     "output_type": "stream",
     "text": [
      "Table. Fluxes. (CRD) - (WGT igg=10 wgt_flux=1)\n"
     ]
    },
    {
     "data": {
      "text/html": [
       "<div>\n",
       "<style>\n",
       "    .dataframe thead tr:only-child th {\n",
       "        text-align: right;\n",
       "    }\n",
       "\n",
       "    .dataframe thead th {\n",
       "        text-align: left;\n",
       "    }\n",
       "\n",
       "    .dataframe tbody tr th {\n",
       "        vertical-align: top;\n",
       "    }\n",
       "</style>\n",
       "<table border=\"1\" class=\"dataframe\">\n",
       "  <thead>\n",
       "    <tr style=\"text-align: right;\">\n",
       "      <th></th>\n",
       "      <th></th>\n",
       "      <th>flug</th>\n",
       "      <th>fldg</th>\n",
       "      <th>fnetg</th>\n",
       "    </tr>\n",
       "    <tr>\n",
       "      <th>pressure</th>\n",
       "      <th>level</th>\n",
       "      <th></th>\n",
       "      <th></th>\n",
       "      <th></th>\n",
       "    </tr>\n",
       "  </thead>\n",
       "  <tbody>\n",
       "    <tr>\n",
       "      <th>0.0000</th>\n",
       "      <th>1</th>\n",
       "      <td>-0.121613</td>\n",
       "      <td>0.000002</td>\n",
       "      <td>-0.121611</td>\n",
       "    </tr>\n",
       "    <tr>\n",
       "      <th>1.0685</th>\n",
       "      <th>24</th>\n",
       "      <td>-0.121902</td>\n",
       "      <td>-0.002813</td>\n",
       "      <td>-0.124715</td>\n",
       "    </tr>\n",
       "    <tr>\n",
       "      <th>1013.0000</th>\n",
       "      <th>76</th>\n",
       "      <td>-0.000003</td>\n",
       "      <td>-0.104357</td>\n",
       "      <td>-0.104360</td>\n",
       "    </tr>\n",
       "  </tbody>\n",
       "</table>\n",
       "</div>"
      ],
      "text/plain": [
       "                     flug      fldg     fnetg\n",
       "pressure  level                              \n",
       "0.0000    1     -0.121613  0.000002 -0.121611\n",
       "1.0685    24    -0.121902 -0.002813 -0.124715\n",
       "1013.0000 76    -0.000003 -0.104357 -0.104360"
      ]
     },
     "metadata": {},
     "output_type": "display_data"
    },
    {
     "name": "stdout",
     "output_type": "stream",
     "text": [
      "Table. Fluxes. (CLIRAD) - (WGT igg=10 wgt_flux=1)\n"
     ]
    },
    {
     "data": {
      "text/html": [
       "<a id=\"Best-fit_Parameters\"></a>"
      ],
      "text/plain": [
       "<IPython.core.display.HTML object>"
      ]
     },
     "metadata": {},
     "output_type": "display_data"
    },
    {
     "data": {
      "text/markdown": [
       "# Best-fit Parameters"
      ],
      "text/plain": [
       "<IPython.core.display.Markdown object>"
      ]
     },
     "metadata": {},
     "output_type": "display_data"
    },
    {
     "name": "stdout",
     "output_type": "stream",
     "text": [
      "Best-fit values for each (gas, band)\n",
      "------------------------------------\n",
      "o co2 band3a\n",
      "  atmpro = mls\n",
      "  band = 3a\n",
      "  commitnumber = 2bd1f75\n",
      "  conc = 0.0004\n",
      "  dv = 0.01\n",
      "  klin = 6.375563e-24\n",
      "  molecule = co2\n",
      "  ng_adju = [0, 0, 0]\n",
      "  ng_refs = [3, 2, 4]\n",
      "  nv = 100\n",
      "  option_compute_btable = 0\n",
      "  option_compute_ktable = 1\n",
      "  option_wgt_flux = 1\n",
      "  option_wgt_k = 1\n",
      "  ref_pts = [(1, 250), (10, 250), (500, 250)]\n",
      "  tsfc = 294\n",
      "  vmax = 620\n",
      "  vmin = 540\n",
      "  w_diffuse = [(1.6, 1.6, 1.7), (1.75, 1.75), (1.55, 1.55, 1.6, 1.85)]\n",
      "  wgt = [(0.7, 0.3, 0.7), (0.7, 0.6), (0.4, 0.5, 0.8, 0.95)]\n",
      "o h2o band3a\n",
      "  atmpro = mls\n",
      "  band = 3a\n",
      "  commitnumber = 2bd1f75\n",
      "  conc = None\n",
      "  dv = 0.01\n",
      "  klin = 0\n",
      "  molecule = h2o\n",
      "  ng_adju = [0, 0]\n",
      "  ng_refs = [2, 6]\n",
      "  nv = 100\n",
      "  option_compute_btable = 0\n",
      "  option_compute_ktable = 1\n",
      "  option_wgt_flux = 1\n",
      "  option_wgt_k = 1\n",
      "  ref_pts = [(10, 250), (600, 250)]\n",
      "  tsfc = 294\n",
      "  vmax = 620\n",
      "  vmin = 540\n",
      "  w_diffuse = [(1.9, 1.7), (1.4, 1.4, 1.4, 1.55, 1.6, 1.66)]\n",
      "  wgt = [(0.7, 0.7), (0.7, 0.5, 0.5, 0.5, 0.5, 0.5)]\n",
      "o n2o band3a\n",
      "  atmpro = mls\n",
      "  band = 3a\n",
      "  commitnumber = 2bd1f75\n",
      "  conc = 3.2e-07\n",
      "  dv = 0.01\n",
      "  klin = 2.22e-20\n",
      "  molecule = n2o\n",
      "  ng_adju = [0, 0]\n",
      "  ng_refs = [1, 2]\n",
      "  nv = 100\n",
      "  option_compute_btable = 0\n",
      "  option_compute_ktable = 1\n",
      "  option_wgt_flux = 1\n",
      "  option_wgt_k = 1\n",
      "  ref_pts = [(1, 250), (500, 250)]\n",
      "  tsfc = 294\n",
      "  vmax = 620\n",
      "  vmin = 540\n",
      "  w_diffuse = [(1.8,), (1.66, 1.8)]\n",
      "  wgt = [(0.9,), (0.5, 0.95)]\n"
     ]
    }
   ],
   "source": [
    "script()"
   ]
  },
  {
   "cell_type": "code",
   "execution_count": 13,
   "metadata": {
    "collapsed": true
   },
   "outputs": [
    {
     "data": {
      "text/html": [
       "<script>\n",
       "code_show=true; \n",
       "function code_toggle() {\n",
       " if (code_show){\n",
       " $('div.input').hide();\n",
       " } else {\n",
       " $('div.input').show();\n",
       " }\n",
       " code_show = !code_show\n",
       "} \n",
       "$( document ).ready(code_toggle);\n",
       "</script>\n",
       "<form action=\"javascript:code_toggle()\"><input type=\"submit\" value=\"Click here to toggle on/off the raw code.\"></form>"
      ],
      "text/plain": [
       "<IPython.core.display.HTML object>"
      ]
     },
     "execution_count": 13,
     "metadata": {},
     "output_type": "execute_result"
    }
   ],
   "source": [
    "display.HTML('''<script>\n",
    "code_show=true; \n",
    "function code_toggle() {\n",
    " if (code_show){\n",
    " $('div.input').hide();\n",
    " } else {\n",
    " $('div.input').show();\n",
    " }\n",
    " code_show = !code_show\n",
    "} \n",
    "$( document ).ready(code_toggle);\n",
    "</script>\n",
    "<form action=\"javascript:code_toggle()\"><input type=\"submit\" value=\"Click here to toggle on/off the raw code.\"></form>''')"
   ]
  }
 ],
 "metadata": {
  "kernelspec": {
   "display_name": "Python 3",
   "language": "python",
   "name": "python3"
  },
  "language_info": {
   "codemirror_mode": {
    "name": "ipython",
    "version": 3
   },
   "file_extension": ".py",
   "mimetype": "text/x-python",
   "name": "python",
   "nbconvert_exporter": "python",
   "pygments_lexer": "ipython3",
   "version": "3.6.1"
  }
 },
 "nbformat": 4,
 "nbformat_minor": 2
}
