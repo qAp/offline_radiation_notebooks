{
 "cells": [
  {
   "cell_type": "code",
   "execution_count": 1,
   "metadata": {
    "collapsed": true
   },
   "outputs": [
    {
     "name": "stdout",
     "output_type": "stream",
     "text": [
      "The history saving thread hit an unexpected error (OperationalError('database is locked',)).History will not be written to the database.\n"
     ]
    }
   ],
   "source": [
    "%matplotlib inline\n",
    "import os\n",
    "import re\n",
    "import io\n",
    "import itertools\n",
    "import pprint\n",
    "\n",
    "from bokeh.io import output_notebook, show\n",
    "from bokeh.layouts import gridplot\n",
    "from bokeh.plotting import figure\n",
    "from bokeh.models import Range1d, Legend\n",
    "from bokeh.palettes import all_palettes\n",
    "\n",
    "import matplotlib\n",
    "import matplotlib.pyplot as plt\n",
    "import numpy as np\n",
    "import pandas as pd\n",
    "import xarray as xr\n",
    "\n",
    "import climatools.lblnew.bestfit_params as bestfits\n",
    "from climatools.lblnew import setup_bestfit, setup_overlap\n",
    "import climatools.lblnew.pipeline as pipe_lblnew\n",
    "import climatools.cliradlw.setup as setup_cliradlw\n",
    "import climatools.cliradlw.pipeline as pipe_cliradlw\n",
    "\n",
    "import climatools.html.html as climahtml\n",
    "from climatools.lblnew.dataio import *\n",
    "from climatools.plot.plot import *\n",
    "\n",
    "\n",
    "import IPython.display as display"
   ]
  },
  {
   "cell_type": "code",
   "execution_count": 2,
   "metadata": {
    "collapsed": true
   },
   "outputs": [],
   "source": [
    "%run param.py"
   ]
  },
  {
   "cell_type": "code",
   "execution_count": 3,
   "metadata": {
    "collapsed": true
   },
   "outputs": [],
   "source": [
    "def load_output_file(path_csv):\n",
    "    '''\n",
    "    Load lblnew output .csv file to xarray.Dataset\n",
    "    \n",
    "    Parameters\n",
    "    ----------\n",
    "    path_csv: str\n",
    "              Path to the .csv file to be loaded.\n",
    "    ds: xarray.Dataset\n",
    "        Data in the input file in the form of an xarray.Dataset.\n",
    "    '''\n",
    "    toindex = ['band', 'pressure', 'igg', 'g']    \n",
    "    df = pd.read_csv(path_csv, sep=r'\\s+')\n",
    "    df = df.set_index([i for i in toindex if i in df.columns])\n",
    "    df = df.rename(columns={'sfu': 'flug',\n",
    "                            'sfd': 'fldg',\n",
    "                            'fnet': 'fnetg',\n",
    "                            'coolr': 'coolrg'})\n",
    "    ds = xr.Dataset.from_dataframe(df)\n",
    "\n",
    "    for l in ('level', 'layer'):\n",
    "        if l in ds.data_vars:\n",
    "            if len(ds[l].dims) > 1:\n",
    "                surface = {d: 0 for d in ds.dims if d != 'pressure'}\n",
    "                coord_level = ds[l][surface]\n",
    "                ds.coords[l] = ('pressure', coord_level)\n",
    "            else:\n",
    "                ds.coords[l] = ('pressure', ds[l])\n",
    "    \n",
    "    return ds"
   ]
  },
  {
   "cell_type": "code",
   "execution_count": 4,
   "metadata": {
    "collapsed": true
   },
   "outputs": [],
   "source": [
    "def lblnew_setup(param=None):\n",
    "    if 'ng_refs' in param:\n",
    "        return {'setup': setup_bestfit,\n",
    "                'fname_flux_crd': 'output_flux.dat',\n",
    "                'fname_cool_crd': 'output_coolr.dat',\n",
    "                'fname_flux_wgt': 'output_wfluxg.dat',\n",
    "                'fname_cool_wgt': 'output_wcoolrg.dat'}\n",
    "    else:\n",
    "        return {'setup': setup_overlap,\n",
    "                'fname_flux_crd': 'output_flux.dat',\n",
    "                'fname_cool_crd': 'output_coolr.dat',\n",
    "                'fname_flux_wgt': 'output_wflux.dat',\n",
    "                'fname_cool_wgt': 'output_wcoolr.dat'}\n",
    "\n",
    "    \n",
    "def load_lblnew_data(param):\n",
    "    \n",
    "    fname_dsname = [('fname_flux_crd', 'ds_flux_crd'),\n",
    "                    ('fname_cool_crd', 'ds_cool_crd'),\n",
    "                    ('fname_flux_wgt', 'ds_flux_wgt'),\n",
    "                    ('fname_cool_wgt', 'ds_cool_wgt')]\n",
    "    \n",
    "    d = lblnew_setup(param)\n",
    "    dir_fortran = pipe_lblnew.get_dir_case(param, setup=d['setup'])\n",
    "    \n",
    "    data_dict = {}\n",
    "    for fname, dsname in fname_dsname:\n",
    "        fpath = os.path.join(dir_fortran, d[fname])\n",
    "        data_dict[dsname] = load_output_file(fpath)\n",
    "    return data_dict\n",
    "    \n",
    "\n",
    "    \n",
    "    "
   ]
  },
  {
   "cell_type": "code",
   "execution_count": 5,
   "metadata": {
    "collapsed": true
   },
   "outputs": [],
   "source": [
    "d = load_lblnew_data(PARAM_LBLNEW)\n",
    "\n",
    "DS_FLUX_CRD = d['ds_flux_crd']\n",
    "DS_COOL_CRD = d['ds_cool_crd']\n",
    "DS_FLUX_WGT = d['ds_flux_wgt']\n",
    "DS_COOL_WGT = d['ds_cool_wgt']"
   ]
  },
  {
   "cell_type": "code",
   "execution_count": 6,
   "metadata": {
    "collapsed": true
   },
   "outputs": [],
   "source": [
    "DIR_FORTRAN = pipe_cliradlw.get_fortran_dir(PARAM, \n",
    "                                            setup=setup_cliradlw)\n",
    "\n",
    "PATH_FLUX = os.path.join(DIR_FORTRAN, 'output_flux.dat')\n",
    "PATH_COOL = os.path.join(DIR_FORTRAN, 'output_coolr.dat')\n",
    "\n",
    "DS_FLUX = load_output_file(PATH_FLUX)\n",
    "DS_COOL = load_output_file(PATH_COOL)"
   ]
  },
  {
   "cell_type": "code",
   "execution_count": 7,
   "metadata": {
    "collapsed": true
   },
   "outputs": [
    {
     "data": {
      "text/html": [
       "\n",
       "    <div class=\"bk-root\">\n",
       "        <a href=\"https://bokeh.pydata.org\" target=\"_blank\" class=\"bk-logo bk-logo-small bk-logo-notebook\"></a>\n",
       "        <span id=\"2e3a9231-6663-4cfe-a90e-2d890a36ec44\">Loading BokehJS ...</span>\n",
       "    </div>"
      ]
     },
     "metadata": {},
     "output_type": "display_data"
    },
    {
     "data": {
      "application/javascript": [
       "\n",
       "(function(root) {\n",
       "  function now() {\n",
       "    return new Date();\n",
       "  }\n",
       "\n",
       "  var force = true;\n",
       "\n",
       "  if (typeof (root._bokeh_onload_callbacks) === \"undefined\" || force === true) {\n",
       "    root._bokeh_onload_callbacks = [];\n",
       "    root._bokeh_is_loading = undefined;\n",
       "  }\n",
       "\n",
       "  var JS_MIME_TYPE = 'application/javascript';\n",
       "  var HTML_MIME_TYPE = 'text/html';\n",
       "  var EXEC_MIME_TYPE = 'application/vnd.bokehjs_exec.v0+json';\n",
       "  var CLASS_NAME = 'output_bokeh rendered_html';\n",
       "\n",
       "  /**\n",
       "   * Render data to the DOM node\n",
       "   */\n",
       "  function render(props, node) {\n",
       "    var script = document.createElement(\"script\");\n",
       "    node.appendChild(script);\n",
       "  }\n",
       "\n",
       "  /**\n",
       "   * Handle when an output is cleared or removed\n",
       "   */\n",
       "  function handleClearOutput(event, handle) {\n",
       "    var cell = handle.cell;\n",
       "\n",
       "    var id = cell.output_area._bokeh_element_id;\n",
       "    var server_id = cell.output_area._bokeh_server_id;\n",
       "    // Clean up Bokeh references\n",
       "    if (id !== undefined) {\n",
       "      Bokeh.index[id].model.document.clear();\n",
       "      delete Bokeh.index[id];\n",
       "    }\n",
       "\n",
       "    if (server_id !== undefined) {\n",
       "      // Clean up Bokeh references\n",
       "      var cmd = \"from bokeh.io.state import curstate; print(curstate().uuid_to_server['\" + server_id + \"'].get_sessions()[0].document.roots[0]._id)\";\n",
       "      cell.notebook.kernel.execute(cmd, {\n",
       "        iopub: {\n",
       "          output: function(msg) {\n",
       "            var element_id = msg.content.text.trim();\n",
       "            Bokeh.index[element_id].model.document.clear();\n",
       "            delete Bokeh.index[element_id];\n",
       "          }\n",
       "        }\n",
       "      });\n",
       "      // Destroy server and session\n",
       "      var cmd = \"import bokeh.io.notebook as ion; ion.destroy_server('\" + server_id + \"')\";\n",
       "      cell.notebook.kernel.execute(cmd);\n",
       "    }\n",
       "  }\n",
       "\n",
       "  /**\n",
       "   * Handle when a new output is added\n",
       "   */\n",
       "  function handleAddOutput(event, handle) {\n",
       "    var output_area = handle.output_area;\n",
       "    var output = handle.output;\n",
       "\n",
       "    // limit handleAddOutput to display_data with EXEC_MIME_TYPE content only\n",
       "    if ((output.output_type != \"display_data\") || (!output.data.hasOwnProperty(EXEC_MIME_TYPE))) {\n",
       "      return\n",
       "    }\n",
       "\n",
       "    var toinsert = output_area.element.find(\".\" + CLASS_NAME.split(' ')[0]);\n",
       "\n",
       "    if (output.metadata[EXEC_MIME_TYPE][\"id\"] !== undefined) {\n",
       "      toinsert[0].firstChild.textContent = output.data[JS_MIME_TYPE];\n",
       "      // store reference to embed id on output_area\n",
       "      output_area._bokeh_element_id = output.metadata[EXEC_MIME_TYPE][\"id\"];\n",
       "    }\n",
       "    if (output.metadata[EXEC_MIME_TYPE][\"server_id\"] !== undefined) {\n",
       "      var bk_div = document.createElement(\"div\");\n",
       "      bk_div.innerHTML = output.data[HTML_MIME_TYPE];\n",
       "      var script_attrs = bk_div.children[0].attributes;\n",
       "      for (var i = 0; i < script_attrs.length; i++) {\n",
       "        toinsert[0].firstChild.setAttribute(script_attrs[i].name, script_attrs[i].value);\n",
       "      }\n",
       "      // store reference to server id on output_area\n",
       "      output_area._bokeh_server_id = output.metadata[EXEC_MIME_TYPE][\"server_id\"];\n",
       "    }\n",
       "  }\n",
       "\n",
       "  function register_renderer(events, OutputArea) {\n",
       "\n",
       "    function append_mime(data, metadata, element) {\n",
       "      // create a DOM node to render to\n",
       "      var toinsert = this.create_output_subarea(\n",
       "        metadata,\n",
       "        CLASS_NAME,\n",
       "        EXEC_MIME_TYPE\n",
       "      );\n",
       "      this.keyboard_manager.register_events(toinsert);\n",
       "      // Render to node\n",
       "      var props = {data: data, metadata: metadata[EXEC_MIME_TYPE]};\n",
       "      render(props, toinsert[0]);\n",
       "      element.append(toinsert);\n",
       "      return toinsert\n",
       "    }\n",
       "\n",
       "    /* Handle when an output is cleared or removed */\n",
       "    events.on('clear_output.CodeCell', handleClearOutput);\n",
       "    events.on('delete.Cell', handleClearOutput);\n",
       "\n",
       "    /* Handle when a new output is added */\n",
       "    events.on('output_added.OutputArea', handleAddOutput);\n",
       "\n",
       "    /**\n",
       "     * Register the mime type and append_mime function with output_area\n",
       "     */\n",
       "    OutputArea.prototype.register_mime_type(EXEC_MIME_TYPE, append_mime, {\n",
       "      /* Is output safe? */\n",
       "      safe: true,\n",
       "      /* Index of renderer in `output_area.display_order` */\n",
       "      index: 0\n",
       "    });\n",
       "  }\n",
       "\n",
       "  // register the mime type if in Jupyter Notebook environment and previously unregistered\n",
       "  if (root.Jupyter !== undefined) {\n",
       "    var events = require('base/js/events');\n",
       "    var OutputArea = require('notebook/js/outputarea').OutputArea;\n",
       "\n",
       "    if (OutputArea.prototype.mime_types().indexOf(EXEC_MIME_TYPE) == -1) {\n",
       "      register_renderer(events, OutputArea);\n",
       "    }\n",
       "  }\n",
       "\n",
       "  \n",
       "  if (typeof (root._bokeh_timeout) === \"undefined\" || force === true) {\n",
       "    root._bokeh_timeout = Date.now() + 5000;\n",
       "    root._bokeh_failed_load = false;\n",
       "  }\n",
       "\n",
       "  var NB_LOAD_WARNING = {'data': {'text/html':\n",
       "     \"<div style='background-color: #fdd'>\\n\"+\n",
       "     \"<p>\\n\"+\n",
       "     \"BokehJS does not appear to have successfully loaded. If loading BokehJS from CDN, this \\n\"+\n",
       "     \"may be due to a slow or bad network connection. Possible fixes:\\n\"+\n",
       "     \"</p>\\n\"+\n",
       "     \"<ul>\\n\"+\n",
       "     \"<li>re-rerun `output_notebook()` to attempt to load from CDN again, or</li>\\n\"+\n",
       "     \"<li>use INLINE resources instead, as so:</li>\\n\"+\n",
       "     \"</ul>\\n\"+\n",
       "     \"<code>\\n\"+\n",
       "     \"from bokeh.resources import INLINE\\n\"+\n",
       "     \"output_notebook(resources=INLINE)\\n\"+\n",
       "     \"</code>\\n\"+\n",
       "     \"</div>\"}};\n",
       "\n",
       "  function display_loaded() {\n",
       "    var el = document.getElementById(\"2e3a9231-6663-4cfe-a90e-2d890a36ec44\");\n",
       "    if (el != null) {\n",
       "      el.textContent = \"BokehJS is loading...\";\n",
       "    }\n",
       "    if (root.Bokeh !== undefined) {\n",
       "      if (el != null) {\n",
       "        el.textContent = \"BokehJS \" + root.Bokeh.version + \" successfully loaded.\";\n",
       "      }\n",
       "    } else if (Date.now() < root._bokeh_timeout) {\n",
       "      setTimeout(display_loaded, 100)\n",
       "    }\n",
       "  }\n",
       "\n",
       "\n",
       "  function run_callbacks() {\n",
       "    try {\n",
       "      root._bokeh_onload_callbacks.forEach(function(callback) { callback() });\n",
       "    }\n",
       "    finally {\n",
       "      delete root._bokeh_onload_callbacks\n",
       "    }\n",
       "    console.info(\"Bokeh: all callbacks have finished\");\n",
       "  }\n",
       "\n",
       "  function load_libs(js_urls, callback) {\n",
       "    root._bokeh_onload_callbacks.push(callback);\n",
       "    if (root._bokeh_is_loading > 0) {\n",
       "      console.log(\"Bokeh: BokehJS is being loaded, scheduling callback at\", now());\n",
       "      return null;\n",
       "    }\n",
       "    if (js_urls == null || js_urls.length === 0) {\n",
       "      run_callbacks();\n",
       "      return null;\n",
       "    }\n",
       "    console.log(\"Bokeh: BokehJS not loaded, scheduling load and callback at\", now());\n",
       "    root._bokeh_is_loading = js_urls.length;\n",
       "    for (var i = 0; i < js_urls.length; i++) {\n",
       "      var url = js_urls[i];\n",
       "      var s = document.createElement('script');\n",
       "      s.src = url;\n",
       "      s.async = false;\n",
       "      s.onreadystatechange = s.onload = function() {\n",
       "        root._bokeh_is_loading--;\n",
       "        if (root._bokeh_is_loading === 0) {\n",
       "          console.log(\"Bokeh: all BokehJS libraries loaded\");\n",
       "          run_callbacks()\n",
       "        }\n",
       "      };\n",
       "      s.onerror = function() {\n",
       "        console.warn(\"failed to load library \" + url);\n",
       "      };\n",
       "      console.log(\"Bokeh: injecting script tag for BokehJS library: \", url);\n",
       "      document.getElementsByTagName(\"head\")[0].appendChild(s);\n",
       "    }\n",
       "  };var element = document.getElementById(\"2e3a9231-6663-4cfe-a90e-2d890a36ec44\");\n",
       "  if (element == null) {\n",
       "    console.log(\"Bokeh: ERROR: autoload.js configured with elementid '2e3a9231-6663-4cfe-a90e-2d890a36ec44' but no matching script tag was found. \")\n",
       "    return false;\n",
       "  }\n",
       "\n",
       "  var js_urls = [\"https://cdn.pydata.org/bokeh/release/bokeh-0.12.14.min.js\", \"https://cdn.pydata.org/bokeh/release/bokeh-widgets-0.12.14.min.js\", \"https://cdn.pydata.org/bokeh/release/bokeh-tables-0.12.14.min.js\", \"https://cdn.pydata.org/bokeh/release/bokeh-gl-0.12.14.min.js\"];\n",
       "\n",
       "  var inline_js = [\n",
       "    function(Bokeh) {\n",
       "      Bokeh.set_log_level(\"info\");\n",
       "    },\n",
       "    \n",
       "    function(Bokeh) {\n",
       "      \n",
       "    },\n",
       "    function(Bokeh) {\n",
       "      console.log(\"Bokeh: injecting CSS: https://cdn.pydata.org/bokeh/release/bokeh-0.12.14.min.css\");\n",
       "      Bokeh.embed.inject_css(\"https://cdn.pydata.org/bokeh/release/bokeh-0.12.14.min.css\");\n",
       "      console.log(\"Bokeh: injecting CSS: https://cdn.pydata.org/bokeh/release/bokeh-widgets-0.12.14.min.css\");\n",
       "      Bokeh.embed.inject_css(\"https://cdn.pydata.org/bokeh/release/bokeh-widgets-0.12.14.min.css\");\n",
       "      console.log(\"Bokeh: injecting CSS: https://cdn.pydata.org/bokeh/release/bokeh-tables-0.12.14.min.css\");\n",
       "      Bokeh.embed.inject_css(\"https://cdn.pydata.org/bokeh/release/bokeh-tables-0.12.14.min.css\");\n",
       "    }\n",
       "  ];\n",
       "\n",
       "  function run_inline_js() {\n",
       "    \n",
       "    if ((root.Bokeh !== undefined) || (force === true)) {\n",
       "      for (var i = 0; i < inline_js.length; i++) {\n",
       "        inline_js[i].call(root, root.Bokeh);\n",
       "      }if (force === true) {\n",
       "        display_loaded();\n",
       "      }} else if (Date.now() < root._bokeh_timeout) {\n",
       "      setTimeout(run_inline_js, 100);\n",
       "    } else if (!root._bokeh_failed_load) {\n",
       "      console.log(\"Bokeh: BokehJS failed to load within specified timeout.\");\n",
       "      root._bokeh_failed_load = true;\n",
       "    } else if (force !== true) {\n",
       "      var cell = $(document.getElementById(\"2e3a9231-6663-4cfe-a90e-2d890a36ec44\")).parents('.cell').data().cell;\n",
       "      cell.output_area.append_execute_result(NB_LOAD_WARNING)\n",
       "    }\n",
       "\n",
       "  }\n",
       "\n",
       "  if (root._bokeh_is_loading === 0) {\n",
       "    console.log(\"Bokeh: BokehJS loaded, going straight to plotting\");\n",
       "    run_inline_js();\n",
       "  } else {\n",
       "    load_libs(js_urls, function() {\n",
       "      console.log(\"Bokeh: BokehJS plotting callback run at\", now());\n",
       "      run_inline_js();\n",
       "    });\n",
       "  }\n",
       "}(window));"
      ],
      "application/vnd.bokehjs_load.v0+json": "\n(function(root) {\n  function now() {\n    return new Date();\n  }\n\n  var force = true;\n\n  if (typeof (root._bokeh_onload_callbacks) === \"undefined\" || force === true) {\n    root._bokeh_onload_callbacks = [];\n    root._bokeh_is_loading = undefined;\n  }\n\n  \n\n  \n  if (typeof (root._bokeh_timeout) === \"undefined\" || force === true) {\n    root._bokeh_timeout = Date.now() + 5000;\n    root._bokeh_failed_load = false;\n  }\n\n  var NB_LOAD_WARNING = {'data': {'text/html':\n     \"<div style='background-color: #fdd'>\\n\"+\n     \"<p>\\n\"+\n     \"BokehJS does not appear to have successfully loaded. If loading BokehJS from CDN, this \\n\"+\n     \"may be due to a slow or bad network connection. Possible fixes:\\n\"+\n     \"</p>\\n\"+\n     \"<ul>\\n\"+\n     \"<li>re-rerun `output_notebook()` to attempt to load from CDN again, or</li>\\n\"+\n     \"<li>use INLINE resources instead, as so:</li>\\n\"+\n     \"</ul>\\n\"+\n     \"<code>\\n\"+\n     \"from bokeh.resources import INLINE\\n\"+\n     \"output_notebook(resources=INLINE)\\n\"+\n     \"</code>\\n\"+\n     \"</div>\"}};\n\n  function display_loaded() {\n    var el = document.getElementById(\"2e3a9231-6663-4cfe-a90e-2d890a36ec44\");\n    if (el != null) {\n      el.textContent = \"BokehJS is loading...\";\n    }\n    if (root.Bokeh !== undefined) {\n      if (el != null) {\n        el.textContent = \"BokehJS \" + root.Bokeh.version + \" successfully loaded.\";\n      }\n    } else if (Date.now() < root._bokeh_timeout) {\n      setTimeout(display_loaded, 100)\n    }\n  }\n\n\n  function run_callbacks() {\n    try {\n      root._bokeh_onload_callbacks.forEach(function(callback) { callback() });\n    }\n    finally {\n      delete root._bokeh_onload_callbacks\n    }\n    console.info(\"Bokeh: all callbacks have finished\");\n  }\n\n  function load_libs(js_urls, callback) {\n    root._bokeh_onload_callbacks.push(callback);\n    if (root._bokeh_is_loading > 0) {\n      console.log(\"Bokeh: BokehJS is being loaded, scheduling callback at\", now());\n      return null;\n    }\n    if (js_urls == null || js_urls.length === 0) {\n      run_callbacks();\n      return null;\n    }\n    console.log(\"Bokeh: BokehJS not loaded, scheduling load and callback at\", now());\n    root._bokeh_is_loading = js_urls.length;\n    for (var i = 0; i < js_urls.length; i++) {\n      var url = js_urls[i];\n      var s = document.createElement('script');\n      s.src = url;\n      s.async = false;\n      s.onreadystatechange = s.onload = function() {\n        root._bokeh_is_loading--;\n        if (root._bokeh_is_loading === 0) {\n          console.log(\"Bokeh: all BokehJS libraries loaded\");\n          run_callbacks()\n        }\n      };\n      s.onerror = function() {\n        console.warn(\"failed to load library \" + url);\n      };\n      console.log(\"Bokeh: injecting script tag for BokehJS library: \", url);\n      document.getElementsByTagName(\"head\")[0].appendChild(s);\n    }\n  };var element = document.getElementById(\"2e3a9231-6663-4cfe-a90e-2d890a36ec44\");\n  if (element == null) {\n    console.log(\"Bokeh: ERROR: autoload.js configured with elementid '2e3a9231-6663-4cfe-a90e-2d890a36ec44' but no matching script tag was found. \")\n    return false;\n  }\n\n  var js_urls = [\"https://cdn.pydata.org/bokeh/release/bokeh-0.12.14.min.js\", \"https://cdn.pydata.org/bokeh/release/bokeh-widgets-0.12.14.min.js\", \"https://cdn.pydata.org/bokeh/release/bokeh-tables-0.12.14.min.js\", \"https://cdn.pydata.org/bokeh/release/bokeh-gl-0.12.14.min.js\"];\n\n  var inline_js = [\n    function(Bokeh) {\n      Bokeh.set_log_level(\"info\");\n    },\n    \n    function(Bokeh) {\n      \n    },\n    function(Bokeh) {\n      console.log(\"Bokeh: injecting CSS: https://cdn.pydata.org/bokeh/release/bokeh-0.12.14.min.css\");\n      Bokeh.embed.inject_css(\"https://cdn.pydata.org/bokeh/release/bokeh-0.12.14.min.css\");\n      console.log(\"Bokeh: injecting CSS: https://cdn.pydata.org/bokeh/release/bokeh-widgets-0.12.14.min.css\");\n      Bokeh.embed.inject_css(\"https://cdn.pydata.org/bokeh/release/bokeh-widgets-0.12.14.min.css\");\n      console.log(\"Bokeh: injecting CSS: https://cdn.pydata.org/bokeh/release/bokeh-tables-0.12.14.min.css\");\n      Bokeh.embed.inject_css(\"https://cdn.pydata.org/bokeh/release/bokeh-tables-0.12.14.min.css\");\n    }\n  ];\n\n  function run_inline_js() {\n    \n    if ((root.Bokeh !== undefined) || (force === true)) {\n      for (var i = 0; i < inline_js.length; i++) {\n        inline_js[i].call(root, root.Bokeh);\n      }if (force === true) {\n        display_loaded();\n      }} else if (Date.now() < root._bokeh_timeout) {\n      setTimeout(run_inline_js, 100);\n    } else if (!root._bokeh_failed_load) {\n      console.log(\"Bokeh: BokehJS failed to load within specified timeout.\");\n      root._bokeh_failed_load = true;\n    } else if (force !== true) {\n      var cell = $(document.getElementById(\"2e3a9231-6663-4cfe-a90e-2d890a36ec44\")).parents('.cell').data().cell;\n      cell.output_area.append_execute_result(NB_LOAD_WARNING)\n    }\n\n  }\n\n  if (root._bokeh_is_loading === 0) {\n    console.log(\"Bokeh: BokehJS loaded, going straight to plotting\");\n    run_inline_js();\n  } else {\n    load_libs(js_urls, function() {\n      console.log(\"Bokeh: BokehJS plotting callback run at\", now());\n      run_inline_js();\n    });\n  }\n}(window));"
     },
     "metadata": {},
     "output_type": "display_data"
    }
   ],
   "source": [
    "output_notebook()"
   ]
  },
  {
   "cell_type": "code",
   "execution_count": 8,
   "metadata": {
    "collapsed": true
   },
   "outputs": [],
   "source": [
    "def fmt_cool(ds_in):\n",
    "    ds = ds_in.copy(deep=True)\n",
    "    if 'igg' in ds.dims:\n",
    "        ds = ds.sel(igg=1)\n",
    "\n",
    "    if 'g' in ds.dims:\n",
    "        ds = ds.sum('g')\n",
    "            \n",
    "    if 'band' in ds.dims:\n",
    "        try:\n",
    "            ds = ds.squeeze('band')\n",
    "        except ValueError:\n",
    "            ds = ds.sum('band')\n",
    "                \n",
    "    return ds['coolrg']\n",
    "\n",
    "\n",
    "def pltdata_cooling_1(ds_cool=None,\n",
    "                      ds_cool_crd=None, ds_cool_wgt=None):\n",
    "    \n",
    "\n",
    "\n",
    "    colors = all_palettes['Set1'][4]\n",
    "    data = [{'label': 'CLIRAD `coolr_bands`',\n",
    "             'srs': fmt_cool(ds_cool),\n",
    "             'line_dash': 'dashed', 'line_width': 5,\n",
    "             'color': colors[0], 'alpha': .6},\n",
    "            {'label': 'CRD',\n",
    "             'srs': fmt_cool(ds_cool_crd),\n",
    "             'line_dash': 'solid', 'line_width': 1.5,\n",
    "             'marker': 'circle', 'marker_size': 5,\n",
    "             'color': colors[2], 'alpha': 1,},\n",
    "            {'label': 'WGT igg=10 wgt_flux=2',\n",
    "             'srs': fmt_cool(ds_cool_wgt),\n",
    "             'line_dash': 'solid', 'line_width': 3,\n",
    "             'marker': 'square', 'marker_size': 5,\n",
    "             'color': colors[3], 'alpha': .6}]\n",
    "    return data\n",
    "\n",
    "\n",
    "def nice_xlims(pltdata=None, prange=None):\n",
    "    \n",
    "    def get_slice(srs):\n",
    "        return srs.sel(pressure=slice(*prange))\n",
    "    \n",
    "    srss = [d['srs'] for d in pltdata]\n",
    "    vmin = min([get_slice(srs).min() for srs in srss])\n",
    "    vmax = max([get_slice(srs).max() for srs in srss])\n",
    "    dv = (vmax - vmin) * .01\n",
    "    return float(vmin - dv), float(vmax + dv)\n",
    "    \n",
    "\n",
    "def plt_cooling_bokeh(pltdata=None):\n",
    "    '''\n",
    "    Plot a list of cooling rate profiles using bokeh.\n",
    "    '''\n",
    "    ymin = 1e-2 \n",
    "    ymax = 1020 \n",
    "        \n",
    "    p1 = figure(title=\"Linear pressure scale\", \n",
    "                plot_width=400)        \n",
    "    xmin, xmax = nice_xlims(pltdata, prange=(50, 1050))\n",
    "    for d in pltdata:\n",
    "        if 'marker' in d:\n",
    "            getattr(p1, d['marker'])(d['srs'].values, \n",
    "                    d['srs'].coords['pressure'].values,\n",
    "                    color=d['color'], alpha=.7)\n",
    "        p1.line(d['srs'].values, \n",
    "                d['srs'].coords['pressure'].values,\n",
    "                color=d['color'], alpha=d['alpha'], \n",
    "                line_width=d['line_width'], line_dash=d['line_dash'])\n",
    "    \n",
    "    p1.y_range = Range1d(ymax, ymin)\n",
    "    p1.yaxis.axis_label = 'pressure [mb]'   \n",
    "    p1.x_range = Range1d(xmin, xmax)\n",
    "    p1.xaxis.axis_label = 'cooling rate [K/day]'\n",
    "            \n",
    "    p2 = figure(title='Log pressure scale', y_axis_type='log',\n",
    "                plot_width=560)\n",
    "    xmin, xmax = nice_xlims(pltdata, prange=(.01, 200))\n",
    "    \n",
    "    rs = []\n",
    "    for d in pltdata:\n",
    "        rd = []\n",
    "        if 'marker' in d:\n",
    "            r_mark = getattr(p2, d['marker'])(d['srs'].values, \n",
    "                        d['srs'].coords['pressure'].values,\n",
    "                        color=d['color'], alpha=.7)\n",
    "            rd.append(r_mark)\n",
    "        r_line = p2.line(d['srs'].values, \n",
    "                    d['srs'].coords['pressure'].values,\n",
    "                    color=d['color'], alpha=d['alpha'], \n",
    "                    line_width=d['line_width'], line_dash=d['line_dash'])\n",
    "        rd.append(r_line)\n",
    "      \n",
    "        rs.append(rd)\n",
    "        \n",
    "    p2.y_range = Range1d(ymax, ymin)  \n",
    "    p2.yaxis.axis_label = 'pressure [mb]'\n",
    "    \n",
    "    p2.x_range = Range1d(xmin, xmax)\n",
    "    p2.xaxis.axis_label = 'cooling rate [K/day]'\n",
    "    \n",
    "    items = [(d['label'], r) for r, d in zip(rs, pltdata)]\n",
    "    legend = Legend(items=items, location=(10, -30))\n",
    "    legend.label_text_font_size = '8pt'\n",
    "    \n",
    "    p2.add_layout(legend, 'right')  \n",
    "    \n",
    "    show(gridplot(p1, p2, ncols=2, plot_height=500))\n",
    "    \n",
    "\n",
    "def script_plt_cooling():\n",
    "    pltdata = pltdata_cooling_1(\n",
    "        ds_cool=DS_COOL,\n",
    "        ds_cool_crd=DS_COOL_CRD,\n",
    "        ds_cool_wgt=DS_COOL_WGT)\n",
    "    plt_cooling_bokeh(pltdata=pltdata)\n",
    "    print('''FIGURE. Cooling rate profiles.''')"
   ]
  },
  {
   "cell_type": "code",
   "execution_count": 9,
   "metadata": {
    "collapsed": true
   },
   "outputs": [],
   "source": [
    "def fmt_flux(ds_in):\n",
    "    ds = ds_in.copy(deep=True)\n",
    "    \n",
    "    for l in ('level', 'layer'):\n",
    "        if l in ds.data_vars:\n",
    "            if len(ds[l].dims) > 1:\n",
    "                surface = {d: 0 for d in ds.dims if d != 'pressure'}\n",
    "                coord_level = ds[l][surface]\n",
    "                ds.coords[l] = ('pressure', coord_level)\n",
    "            else:\n",
    "                ds.coords[l] = ('pressure', ds[l])\n",
    "        \n",
    "    ds = ds.isel(pressure=[0, 23, -1])\n",
    "        \n",
    "    if 'igg' in ds.dims:\n",
    "        ds = ds.sel(igg=[1])\n",
    "        ds = ds.squeeze('igg').drop('igg')\n",
    "    \n",
    "    if 'g' in ds.dims:\n",
    "        ds = ds.sum('g')\n",
    "            \n",
    "    if 'band' in ds.dims:\n",
    "        try:\n",
    "            ds = ds.squeeze('band').drop('band')\n",
    "        except ValueError:\n",
    "            ds = ds.sum('band')\n",
    "                \n",
    "    df = ds.to_dataframe()\n",
    "    df = df.set_index('level', append=True)               \n",
    "    return df\n",
    "\n",
    "\n",
    "def tbdata_flux(ds_flux=None, ds_flux_crd=None, ds_flux_wgt=None):\n",
    "    ilevels = [0, 23, -1]\n",
    "            \n",
    "    benchmark = {'label': 'WGT igg=10 wgt_flux=1',\n",
    "                 'df': fmt_flux(ds_flux_wgt)}\n",
    "    \n",
    "    tbs = [{'label': 'CRD',\n",
    "            'df': fmt_flux(ds_flux_crd)},\n",
    "           {'label': 'CLIRAD',\n",
    "            'df': fmt_flux(ds_flux)}]\n",
    "    \n",
    "    data = {'benchmark': benchmark, 'others': tbs}\n",
    "    return data\n",
    "\n",
    "\n",
    "def tb_flux(tbdata=None):\n",
    "    benchmark = tbdata['benchmark']\n",
    "    others = tbdata['others']\n",
    "    \n",
    "    def show_tb(d=None):\n",
    "        display.display(d['df'])\n",
    "        print('Table.', 'Fluxes.', d['label'])\n",
    "        \n",
    "    def show_tbdiff(d0=None, d=None):\n",
    "        df = d['df']\n",
    "        df.index = d0['df'].index\n",
    "        display.display(df - d0['df'])\n",
    "        print('Table.', 'Fluxes.', \n",
    "              '({}) - ({})'.format(d['label'], d0['label']))\n",
    "        \n",
    "    show_tb(benchmark)\n",
    "    for d in others:\n",
    "        show_tb(d)\n",
    "        \n",
    "    for d in others:\n",
    "        show_tbdiff(d=d, d0=benchmark)\n",
    "        \n",
    "        \n",
    "def script_tb_flux():\n",
    "    data = tbdata_flux(ds_flux=DS_FLUX,\n",
    "                       ds_flux_crd=DS_FLUX_CRD,\n",
    "                       ds_flux_wgt=DS_FLUX_WGT)\n",
    "    tb_flux(tbdata=data)"
   ]
  },
  {
   "cell_type": "code",
   "execution_count": 10,
   "metadata": {
    "collapsed": true
   },
   "outputs": [],
   "source": [
    "def band_map():\n",
    "    '''\n",
    "    Maps spectral bands in lblnew to spectral bands in clirad.\n",
    "    '''\n",
    "    lblnew2clirad = {'1': '1',\n",
    "            '2': '2',\n",
    "            '3a': '3',\n",
    "            '3b': '4',\n",
    "            '3c': '5',\n",
    "            '4': '6', \n",
    "            '5': '7',\n",
    "            '6': '8',\n",
    "            '7': '9', \n",
    "            '8': '10',\n",
    "            '9': '11'}\n",
    "    \n",
    "    clirad2lblnew = {clirad: lblnew \n",
    "                     for lblnew, clirad in lblnew2clirad.items()}\n",
    "    return clirad2lblnew\n",
    "\n",
    "\n",
    "def gasbands():\n",
    "    bmap = band_map()\n",
    "    gases = list(PARAM['molecule'].keys())\n",
    "    \n",
    "    bands = [bmap[str(b)] for b in PARAM['band']]\n",
    "    return list(itertools.product(gases, bands))\n",
    "\n",
    "\n",
    "def print_bestfit_params():\n",
    "    print('Best-fit values for each (gas, band)')\n",
    "    print('------------------------------------')\n",
    "    for gas, band in gasbands():\n",
    "        print('o {} band{}'.format(gas, band))\n",
    "        param = bestfits.kdist_params(molecule=gas, band=band)\n",
    "        for name, value in sorted(param.items()):\n",
    "            print(2 * ' ' + '{} = {}'.format(name, value))\n",
    "\n",
    "        \n",
    "def print_input_param():        \n",
    "    for name, value in PARAM.items():\n",
    "        print('{} = {}'.format(name, value))\n",
    "        \n",
    "        \n",
    "def print_lblnew_param():\n",
    "    for name, value in sorted(PARAM_LBLNEW.items()):\n",
    "        print('{} = {}'.format(name, value))\n"
   ]
  },
  {
   "cell_type": "code",
   "execution_count": 11,
   "metadata": {
    "collapsed": true,
    "scrolled": false
   },
   "outputs": [],
   "source": [
    "def show_html(s):\n",
    "    display.display(display.HTML(s))\n",
    "\n",
    "    \n",
    "def show_markdown(s):\n",
    "    display.display(display.Markdown(s))\n",
    "\n",
    "    \n",
    "def script():\n",
    "    \n",
    "    title = '### CLIRAD-LW'\n",
    "    s_input = 'Input Parameters'\n",
    "    s_lblnew_param = 'LBLNEW case compaired against'\n",
    "    s_bestfits = 'Best-fit Parameters'\n",
    "    s_plt_cooling = 'Cooling Rate Profiles'\n",
    "    s_tb_flux = 'Flux Comparison'\n",
    "    \n",
    "    # title\n",
    "    show_markdown('### CLIRAD-LW')\n",
    "    \n",
    "    # TOC\n",
    "    show_markdown('### Table of Contents')\n",
    "    show_html(climahtml.getHTML_hrefanchor(s_input))\n",
    "    show_html(climahtml.getHTML_hrefanchor(s_lblnew_param))\n",
    "    show_html(climahtml.getHTML_hrefanchor(s_plt_cooling))\n",
    "    show_html(climahtml.getHTML_hrefanchor(s_tb_flux))\n",
    "    show_html(climahtml.getHTML_hrefanchor(s_bestfits))\n",
    "    \n",
    "    # Input parameters\n",
    "    show_html(climahtml.getHTML_idanchor(s_input))\n",
    "    show_markdown(climahtml.getMarkdown_sectitle(s_input))\n",
    "    print_input_param()\n",
    "    \n",
    "    # LBLNEW parameters \n",
    "    show_html(climahtml.getHTML_idanchor(s_lblnew_param))\n",
    "    show_markdown(climahtml.getMarkdown_sectitle(s_lblnew_param))\n",
    "    print_lblnew_param()\n",
    "    \n",
    "    # Cooling rate profiles\n",
    "    show_html(climahtml.getHTML_idanchor(s_plt_cooling))\n",
    "    show_markdown(climahtml.getMarkdown_sectitle(s_plt_cooling))\n",
    "    script_plt_cooling()\n",
    "    \n",
    "    # Flux comparison\n",
    "    show_html(climahtml.getHTML_idanchor(s_tb_flux))\n",
    "    show_markdown(climahtml.getMarkdown_sectitle(s_tb_flux))\n",
    "    script_tb_flux()\n",
    "    \n",
    "    # Best-fit values\n",
    "    show_html(climahtml.getHTML_idanchor(s_bestfits))\n",
    "    show_markdown(climahtml.getMarkdown_sectitle(s_bestfits))\n",
    "    print_bestfit_params()\n",
    "   \n",
    "    "
   ]
  },
  {
   "cell_type": "code",
   "execution_count": 12,
   "metadata": {
    "collapsed": true,
    "scrolled": false
   },
   "outputs": [
    {
     "data": {
      "text/markdown": [
       "### CLIRAD-LW"
      ],
      "text/plain": [
       "<IPython.core.display.Markdown object>"
      ]
     },
     "metadata": {},
     "output_type": "display_data"
    },
    {
     "data": {
      "text/markdown": [
       "### Table of Contents"
      ],
      "text/plain": [
       "<IPython.core.display.Markdown object>"
      ]
     },
     "metadata": {},
     "output_type": "display_data"
    },
    {
     "data": {
      "text/html": [
       "<a href=\"#Input_Parameters\">Input Parameters</a>"
      ],
      "text/plain": [
       "<IPython.core.display.HTML object>"
      ]
     },
     "metadata": {},
     "output_type": "display_data"
    },
    {
     "data": {
      "text/html": [
       "<a href=\"#LBLNEW_case_compaired_against\">LBLNEW case compaired against</a>"
      ],
      "text/plain": [
       "<IPython.core.display.HTML object>"
      ]
     },
     "metadata": {},
     "output_type": "display_data"
    },
    {
     "data": {
      "text/html": [
       "<a href=\"#Cooling_Rate_Profiles\">Cooling Rate Profiles</a>"
      ],
      "text/plain": [
       "<IPython.core.display.HTML object>"
      ]
     },
     "metadata": {},
     "output_type": "display_data"
    },
    {
     "data": {
      "text/html": [
       "<a href=\"#Flux_Comparison\">Flux Comparison</a>"
      ],
      "text/plain": [
       "<IPython.core.display.HTML object>"
      ]
     },
     "metadata": {},
     "output_type": "display_data"
    },
    {
     "data": {
      "text/html": [
       "<a href=\"#Best-fit_Parameters\">Best-fit Parameters</a>"
      ],
      "text/plain": [
       "<IPython.core.display.HTML object>"
      ]
     },
     "metadata": {},
     "output_type": "display_data"
    },
    {
     "data": {
      "text/html": [
       "<a id=\"Input_Parameters\"></a>"
      ],
      "text/plain": [
       "<IPython.core.display.HTML object>"
      ]
     },
     "metadata": {},
     "output_type": "display_data"
    },
    {
     "data": {
      "text/markdown": [
       "# Input Parameters"
      ],
      "text/plain": [
       "<IPython.core.display.Markdown object>"
      ]
     },
     "metadata": {},
     "output_type": "display_data"
    },
    {
     "name": "stdout",
     "output_type": "stream",
     "text": [
      "atmpro = saw\n",
      "band = [3]\n",
      "commitnumber = 9a64c27\n",
      "molecule = {'co2': 0.0004, 'h2o': 'atmpro', 'n2o': 3.2e-07}\n",
      "tsfc = 257\n"
     ]
    },
    {
     "data": {
      "text/html": [
       "<a id=\"LBLNEW_case_compaired_against\"></a>"
      ],
      "text/plain": [
       "<IPython.core.display.HTML object>"
      ]
     },
     "metadata": {},
     "output_type": "display_data"
    },
    {
     "data": {
      "text/markdown": [
       "# LBLNEW case compaired against"
      ],
      "text/plain": [
       "<IPython.core.display.Markdown object>"
      ]
     },
     "metadata": {},
     "output_type": "display_data"
    },
    {
     "name": "stdout",
     "output_type": "stream",
     "text": [
      "atmpro = saw\n",
      "band = 3a\n",
      "commitnumber = 5014a19\n",
      "dv = 0.01\n",
      "molecule = {'co2': 0.0004, 'h2o': 'atmpro', 'n2o': 3.2e-07}\n",
      "nv = 100\n",
      "tsfc = 257\n"
     ]
    },
    {
     "data": {
      "text/html": [
       "<a id=\"Cooling_Rate_Profiles\"></a>"
      ],
      "text/plain": [
       "<IPython.core.display.HTML object>"
      ]
     },
     "metadata": {},
     "output_type": "display_data"
    },
    {
     "data": {
      "text/markdown": [
       "# Cooling Rate Profiles"
      ],
      "text/plain": [
       "<IPython.core.display.Markdown object>"
      ]
     },
     "metadata": {},
     "output_type": "display_data"
    },
    {
     "data": {
      "text/html": [
       "\n",
       "<div class=\"bk-root\">\n",
       "    <div class=\"bk-plotdiv\" id=\"c5ffc86e-c334-4b9f-9a1e-a28a43e5a8c5\"></div>\n",
       "</div>"
      ]
     },
     "metadata": {},
     "output_type": "display_data"
    },
    {
     "data": {
      "application/javascript": [
       "(function(root) {\n",
       "  function embed_document(root) {\n",
       "    \n",
       "  var docs_json = {\"4d0bef8b-ae8a-4fc3-aa89-773b315b17d5\":{\"roots\":{\"references\":[{\"attributes\":{\"data_source\":{\"id\":\"636445f1-9eb3-4ed9-b3d6-7efa6e5cfc40\",\"type\":\"ColumnDataSource\"},\"glyph\":{\"id\":\"071dfbb9-d058-4c82-a578-7c06fc1b81d1\",\"type\":\"Square\"},\"hover_glyph\":null,\"muted_glyph\":null,\"nonselection_glyph\":{\"id\":\"9fc0531f-ae7e-4ba2-853a-8e250f686c2f\",\"type\":\"Square\"},\"selection_glyph\":null,\"view\":{\"id\":\"924badab-bdfa-4244-a8f4-a340c544b1f9\",\"type\":\"CDSView\"}},\"id\":\"bd6bfc28-ca49-4d9d-ae9b-58a9d757b5e8\",\"type\":\"GlyphRenderer\"},{\"attributes\":{\"dimension\":1,\"plot\":{\"id\":\"046583d9-9839-4174-941a-f767b9c1327f\",\"subtype\":\"Figure\",\"type\":\"Plot\"},\"ticker\":{\"id\":\"38b3883a-890b-410c-a8c8-36273e08be8e\",\"type\":\"LogTicker\"}},\"id\":\"ba95500f-0df4-4a46-9f17-4f669f433327\",\"type\":\"Grid\"},{\"attributes\":{\"source\":{\"id\":\"322aeff2-bd76-449a-8b92-609f7fdc05e4\",\"type\":\"ColumnDataSource\"}},\"id\":\"8d838015-8f2c-438d-a496-c3bd6a44d1b7\",\"type\":\"CDSView\"},{\"attributes\":{\"callback\":null,\"column_names\":[\"x\",\"y\"],\"data\":{\"x\":{\"__ndarray__\":\"lAUCU7yAxz/MLUpcCdXKP57eOVKFmNE/E8RxxzhS1j/MlqyKcFPbP1eTCtdhVOA/hrDYLoYV4z8BMrYIc9jlP/kbSHJUieg/NJ5rDPgE6z/WdD3RdSHtPzAA4BrQue4/Z+Edpp6h7z/pt23nFCfvP4y5EFCGz+w/knFzx+6E6T86ie9hgjzmP7lG0/JmgeM/4hdFrFHR4T/96AbQEIrhP5JpI43A7uI/XKvBJCpO4j/ZM/i5qZrdP4tzDn37Y9c/WQIAMjrB0j/uiLeMowvOP6UbF8T2ycc/IleHL1Vhwz9XKE7F+PbAP6FRNryLvb0/sPZZYO16uD9vi70N7cCyP1LV8m07Ga8/WGf2JY1krj9Tted2UgavP0vv3vtiibA/3XGzDRYtsT/BYBOm40KwP3EtPCpcYa0/Gz2BJ2JOqj/V6ZEdUyunP8XEwBw4xaM/k0XZ3EoPoD+w4PPNelSXP4yAr40d+Yg/OoxZGKHdgj8w1sqTiheUP36sXH99OqE/rrWKDfz5qD+12WWze9awP8WIgQR+OrU/cbRueWh8uT+zyMBLune9P8yXeorahcA/w1foQUkawj8/w7xDYYLDP/PUl2OByMQ/mbagc47sxT8J88OtJ9/GPxhvEiCWj8c/IcEaiOH6xz++nxov3STIP57SXtCEHsg/rQPWYND4xz8vsjJUpMbHP3ONQ7sSmsc/87ufCQOFxz8w5hnB54PHP6m2xF/NYMc/H6a3Hgmkxj+VA6hvuuHEPxLR+Tq6W8I/OtQIYHd4vz8ksCBqLnm6P91D4wXoKbU/\",\"dtype\":\"float64\",\"shape\":[75]},\"y\":{\"__ndarray__\":\"GhExyth1ND/Sv8nbtpRIP2vylNV0PVE/aTum7souWD/At0SJ8fVgPw3Iuahxymc/MSNhhJWvcD/bTfBN02d3P2zb5nxnaoA/CD5h5MAGhz8NmeH1TyaQP+zrCsc9p5Y/LbKd76fGnz/bLW5ISEmmPww9YvTcQq8/JV2OstnstT8Er5Y7M8G+P0c+r3jqkcU/5h99k6ZBzj88bCIzFzjVP4enV8oyxN0//yH99nXg5D8qOpLLf0jtP5kqGJXUifQ/c9cS8kHP/D+/DpwzojQEQIEmwoanVwxA4lgXt9HgE0BSSZ2AJuIbQAMJih9jjiNA5q4l5INuK0AwTKYKRj0zQNv5fmq8/DpAaCJseHrtQkB/+zpwzoxKQM3MzMzMeFJAZmZmZmZqWEAAAAAAAFxeQM3MzMzMJmJAmpmZmZkfZUBmZmZmZhhoQDMzMzMzEWtAAAAAAAAKbkBmZmZmZoFwQM3MzMzM/XFAMzMzMzN6c0CamZmZmfZ0QAAAAAAAc3ZAZmZmZmbvd0DNzMzMzGt5QDMzMzMz6HpAmpmZmZlkfEAAAAAAAOF9QGZmZmZmXX9AZmZmZuZsgECamZmZGSuBQM3MzMxM6YFAAAAAAICngkAzMzMzs2WDQGZmZmbmI4RAmpmZmRnihEDNzMzMTKCFQAAAAACAXoZAMzMzM7Mch0BmZmZm5tqHQJqZmZkZmYhAzczMzExXiUAAAAAAgBWKQDMzMzOz04pAZmZmZuaRi0CamZmZGVCMQM3MzMxMDo1AAAAAAIDMjUAzMzMzs4qOQGZmZmbmSI9A\",\"dtype\":\"float64\",\"shape\":[75]}}},\"id\":\"636445f1-9eb3-4ed9-b3d6-7efa6e5cfc40\",\"type\":\"ColumnDataSource\"},{\"attributes\":{\"source\":{\"id\":\"ffa4e627-0413-42f4-83dd-0fffc63f8625\",\"type\":\"ColumnDataSource\"}},\"id\":\"e96160c2-45a5-43bb-a4ff-2ab77474a46c\",\"type\":\"CDSView\"},{\"attributes\":{\"data_source\":{\"id\":\"9956498d-8473-4a44-972f-7a382f6358e0\",\"type\":\"ColumnDataSource\"},\"glyph\":{\"id\":\"ff8e8a5c-1112-47f0-8065-2e589e805577\",\"type\":\"Line\"},\"hover_glyph\":null,\"muted_glyph\":null,\"nonselection_glyph\":{\"id\":\"1be507be-2da7-487b-aa5a-30877b53884a\",\"type\":\"Line\"},\"selection_glyph\":null,\"view\":{\"id\":\"8554607a-5f90-47f6-8c55-424434e549cf\",\"type\":\"CDSView\"}},\"id\":\"f8e9eacd-134f-4084-871e-9dd6f2ebd195\",\"type\":\"GlyphRenderer\"},{\"attributes\":{\"line_alpha\":0.1,\"line_color\":\"#1f77b4\",\"line_width\":1.5,\"x\":{\"field\":\"x\"},\"y\":{\"field\":\"y\"}},\"id\":\"11ebaa92-fdb9-4c2d-8f85-580a54d9f339\",\"type\":\"Line\"},{\"attributes\":{\"callback\":null,\"column_names\":[\"x\",\"y\"],\"data\":{\"x\":{\"__ndarray__\":\"3ikVO7fczT88icbiUGLQP89XXizrQtU/fxCP5dl82j/QtbPYu/nfPyqck80LxuI/KPud3KWD5T/xBZi/YxToP8UqlDsiVeo/EDkBdgMf7D80fPJNJlDtP/e7JIxu1u0/VfKYHqC97T8qF89F6IzsP33+/yh/Eeo/ABrGWeh15z8nBP4yEJLlP4Fo3ljtbeQ/iDQB8YDz4z8sILyPBiTkP7JI8uAXTOU/m7nyH/Pd4z8Uu2wqQfXeP4BoYpGRudc/yPN0CeKX0j+nN2k7IrbMP+z/VpFVOsU/L1jktgHIvz+qWtrCVn26PzUNeANGQ7c/6naglU4AtD+CbrOhMGKwP9xkhFLcOq0/zKrIG3LJrT/5JOJzSOatP0d2ljp3pK0/U6VlWFAOrT+Udd8BA+CqP7NPpFTyTKg/P0GhH78Xpj+U7h4I3+ejP4mZFTsua6E/Dg8sCmUonT/vY5/cwxmWP+k6sMNou4k/ADc/icUrhT9e53ST9/WUP6D2ctfGY6E/WIkwgBsiqT/61NzKRQ6xPzAcnS3/pbU/2xZlNsgkuj/iiWpb3ma+PzkvZxlWL8E/jM5kxZEDwz/YMFyAKqzEP3g/VSLcJsY/WxAltatrxz8A0cQiI3PIP+pgu4PxNsk/KEqd29+0yT97Ac1SePHJP5TPG7zp9ck/Fvr97l/RyT9vpjrLyZfJP2d9yjFZXMk/yg8BLJcyyT8tjD4wkRzJPy5eRakx38g/YdWsddoByD/IJUwgPhPGP2YOzWU4WMM/LbbmGqiEwD+Al758V6m7P17XoS32/bU/\",\"dtype\":\"float64\",\"shape\":[75]},\"y\":{\"__ndarray__\":\"GhExyth1ND/Sv8nbtpRIP2vylNV0PVE/aTum7souWD/At0SJ8fVgPw3Iuahxymc/MSNhhJWvcD/bTfBN02d3P2zb5nxnaoA/CD5h5MAGhz8NmeH1TyaQP+zrCsc9p5Y/LbKd76fGnz/bLW5ISEmmPww9YvTcQq8/JV2OstnstT8Er5Y7M8G+P0c+r3jqkcU/5h99k6ZBzj88bCIzFzjVP4enV8oyxN0//yH99nXg5D8qOpLLf0jtP5kqGJXUifQ/c9cS8kHP/D+/DpwzojQEQIEmwoanVwxA4lgXt9HgE0BSSZ2AJuIbQAMJih9jjiNA5q4l5INuK0AwTKYKRj0zQNv5fmq8/DpAaCJseHrtQkB/+zpwzoxKQM3MzMzMeFJAZmZmZmZqWEAAAAAAAFxeQM3MzMzMJmJAmpmZmZkfZUBmZmZmZhhoQDMzMzMzEWtAAAAAAAAKbkBmZmZmZoFwQM3MzMzM/XFAMzMzMzN6c0CamZmZmfZ0QAAAAAAAc3ZAZmZmZmbvd0DNzMzMzGt5QDMzMzMz6HpAmpmZmZlkfEAAAAAAAOF9QGZmZmZmXX9AZmZmZuZsgECamZmZGSuBQM3MzMxM6YFAAAAAAICngkAzMzMzs2WDQGZmZmbmI4RAmpmZmRnihEDNzMzMTKCFQAAAAACAXoZAMzMzM7Mch0BmZmZm5tqHQJqZmZkZmYhAzczMzExXiUAAAAAAgBWKQDMzMzOz04pAZmZmZuaRi0CamZmZGVCMQM3MzMxMDo1AAAAAAIDMjUAzMzMzs4qOQGZmZmbmSI9A\",\"dtype\":\"float64\",\"shape\":[75]}}},\"id\":\"322aeff2-bd76-449a-8b92-609f7fdc05e4\",\"type\":\"ColumnDataSource\"},{\"attributes\":{\"data_source\":{\"id\":\"322aeff2-bd76-449a-8b92-609f7fdc05e4\",\"type\":\"ColumnDataSource\"},\"glyph\":{\"id\":\"12861a88-9089-4f77-a27c-b047c003c019\",\"type\":\"Line\"},\"hover_glyph\":null,\"muted_glyph\":null,\"nonselection_glyph\":{\"id\":\"11ebaa92-fdb9-4c2d-8f85-580a54d9f339\",\"type\":\"Line\"},\"selection_glyph\":null,\"view\":{\"id\":\"8d838015-8f2c-438d-a496-c3bd6a44d1b7\",\"type\":\"CDSView\"}},\"id\":\"f70dc00b-2842-4934-8d59-cf01261ea486\",\"type\":\"GlyphRenderer\"},{\"attributes\":{\"callback\":null,\"column_names\":[\"x\",\"y\"],\"data\":{\"x\":{\"__ndarray__\":\"lAUCU7yAxz/MLUpcCdXKP57eOVKFmNE/E8RxxzhS1j/MlqyKcFPbP1eTCtdhVOA/hrDYLoYV4z8BMrYIc9jlP/kbSHJUieg/NJ5rDPgE6z/WdD3RdSHtPzAA4BrQue4/Z+Edpp6h7z/pt23nFCfvP4y5EFCGz+w/knFzx+6E6T86ie9hgjzmP7lG0/JmgeM/4hdFrFHR4T/96AbQEIrhP5JpI43A7uI/XKvBJCpO4j/ZM/i5qZrdP4tzDn37Y9c/WQIAMjrB0j/uiLeMowvOP6UbF8T2ycc/IleHL1Vhwz9XKE7F+PbAP6FRNryLvb0/sPZZYO16uD9vi70N7cCyP1LV8m07Ga8/WGf2JY1krj9Tted2UgavP0vv3vtiibA/3XGzDRYtsT/BYBOm40KwP3EtPCpcYa0/Gz2BJ2JOqj/V6ZEdUyunP8XEwBw4xaM/k0XZ3EoPoD+w4PPNelSXP4yAr40d+Yg/OoxZGKHdgj8w1sqTiheUP36sXH99OqE/rrWKDfz5qD+12WWze9awP8WIgQR+OrU/cbRueWh8uT+zyMBLune9P8yXeorahcA/w1foQUkawj8/w7xDYYLDP/PUl2OByMQ/mbagc47sxT8J88OtJ9/GPxhvEiCWj8c/IcEaiOH6xz++nxov3STIP57SXtCEHsg/rQPWYND4xz8vsjJUpMbHP3ONQ7sSmsc/87ufCQOFxz8w5hnB54PHP6m2xF/NYMc/H6a3Hgmkxj+VA6hvuuHEPxLR+Tq6W8I/OtQIYHd4vz8ksCBqLnm6P91D4wXoKbU/\",\"dtype\":\"float64\",\"shape\":[75]},\"y\":{\"__ndarray__\":\"GhExyth1ND/Sv8nbtpRIP2vylNV0PVE/aTum7souWD/At0SJ8fVgPw3Iuahxymc/MSNhhJWvcD/bTfBN02d3P2zb5nxnaoA/CD5h5MAGhz8NmeH1TyaQP+zrCsc9p5Y/LbKd76fGnz/bLW5ISEmmPww9YvTcQq8/JV2OstnstT8Er5Y7M8G+P0c+r3jqkcU/5h99k6ZBzj88bCIzFzjVP4enV8oyxN0//yH99nXg5D8qOpLLf0jtP5kqGJXUifQ/c9cS8kHP/D+/DpwzojQEQIEmwoanVwxA4lgXt9HgE0BSSZ2AJuIbQAMJih9jjiNA5q4l5INuK0AwTKYKRj0zQNv5fmq8/DpAaCJseHrtQkB/+zpwzoxKQM3MzMzMeFJAZmZmZmZqWEAAAAAAAFxeQM3MzMzMJmJAmpmZmZkfZUBmZmZmZhhoQDMzMzMzEWtAAAAAAAAKbkBmZmZmZoFwQM3MzMzM/XFAMzMzMzN6c0CamZmZmfZ0QAAAAAAAc3ZAZmZmZmbvd0DNzMzMzGt5QDMzMzMz6HpAmpmZmZlkfEAAAAAAAOF9QGZmZmZmXX9AZmZmZuZsgECamZmZGSuBQM3MzMxM6YFAAAAAAICngkAzMzMzs2WDQGZmZmbmI4RAmpmZmRnihEDNzMzMTKCFQAAAAACAXoZAMzMzM7Mch0BmZmZm5tqHQJqZmZkZmYhAzczMzExXiUAAAAAAgBWKQDMzMzOz04pAZmZmZuaRi0CamZmZGVCMQM3MzMxMDo1AAAAAAIDMjUAzMzMzs4qOQGZmZmbmSI9A\",\"dtype\":\"float64\",\"shape\":[75]}}},\"id\":\"6052b8c2-020c-41e4-a248-f5a989a87c8f\",\"type\":\"ColumnDataSource\"},{\"attributes\":{\"line_color\":\"#4daf4a\",\"line_width\":1.5,\"x\":{\"field\":\"x\"},\"y\":{\"field\":\"y\"}},\"id\":\"12861a88-9089-4f77-a27c-b047c003c019\",\"type\":\"Line\"},{\"attributes\":{\"fill_alpha\":{\"value\":0.7},\"fill_color\":{\"value\":\"#984ea3\"},\"line_alpha\":{\"value\":0.7},\"line_color\":{\"value\":\"#984ea3\"},\"x\":{\"field\":\"x\"},\"y\":{\"field\":\"y\"}},\"id\":\"071dfbb9-d058-4c82-a578-7c06fc1b81d1\",\"type\":\"Square\"},{\"attributes\":{\"fill_alpha\":{\"value\":0.1},\"fill_color\":{\"value\":\"#1f77b4\"},\"line_alpha\":{\"value\":0.1},\"line_color\":{\"value\":\"#1f77b4\"},\"x\":{\"field\":\"x\"},\"y\":{\"field\":\"y\"}},\"id\":\"9fc0531f-ae7e-4ba2-853a-8e250f686c2f\",\"type\":\"Square\"},{\"attributes\":{\"callback\":null,\"end\":0.9979749755799999,\"start\":0.02938240642},\"id\":\"4d9f3335-574b-47fb-b48e-e7bffce5b89e\",\"type\":\"Range1d\"},{\"attributes\":{\"data_source\":{\"id\":\"6052b8c2-020c-41e4-a248-f5a989a87c8f\",\"type\":\"ColumnDataSource\"},\"glyph\":{\"id\":\"9be1fbbd-0db0-424b-97fd-40ace311ceea\",\"type\":\"Line\"},\"hover_glyph\":null,\"muted_glyph\":null,\"nonselection_glyph\":{\"id\":\"8adecaa6-b0fc-4346-bcf2-78427daeb444\",\"type\":\"Line\"},\"selection_glyph\":null,\"view\":{\"id\":\"39f0fd55-afa8-4a81-8b62-16ccff90b458\",\"type\":\"CDSView\"}},\"id\":\"86238cce-c23f-47ce-8da2-4fa11c14867c\",\"type\":\"GlyphRenderer\"},{\"attributes\":{\"source\":{\"id\":\"636445f1-9eb3-4ed9-b3d6-7efa6e5cfc40\",\"type\":\"ColumnDataSource\"}},\"id\":\"924badab-bdfa-4244-a8f4-a340c544b1f9\",\"type\":\"CDSView\"},{\"attributes\":{\"line_alpha\":0.6,\"line_color\":\"#984ea3\",\"line_width\":3,\"x\":{\"field\":\"x\"},\"y\":{\"field\":\"y\"}},\"id\":\"9be1fbbd-0db0-424b-97fd-40ace311ceea\",\"type\":\"Line\"},{\"attributes\":{\"line_alpha\":0.1,\"line_color\":\"#1f77b4\",\"line_width\":3,\"x\":{\"field\":\"x\"},\"y\":{\"field\":\"y\"}},\"id\":\"8adecaa6-b0fc-4346-bcf2-78427daeb444\",\"type\":\"Line\"},{\"attributes\":{\"toolbar\":{\"id\":\"8a162262-2e30-4c9f-a005-f3a2dd8433be\",\"type\":\"ProxyToolbar\"},\"toolbar_location\":\"above\"},\"id\":\"9c445496-7583-4bc2-9ae7-ef45b7f191c3\",\"type\":\"ToolbarBox\"},{\"attributes\":{\"children\":[{\"id\":\"9c445496-7583-4bc2-9ae7-ef45b7f191c3\",\"type\":\"ToolbarBox\"},{\"id\":\"e38fe30a-52d2-44e6-90be-ffb3d1e2000d\",\"type\":\"Column\"}]},\"id\":\"9c7cbe81-d90c-4c65-8a26-17a65ba65c1a\",\"type\":\"Column\"},{\"attributes\":{\"source\":{\"id\":\"6052b8c2-020c-41e4-a248-f5a989a87c8f\",\"type\":\"ColumnDataSource\"}},\"id\":\"39f0fd55-afa8-4a81-8b62-16ccff90b458\",\"type\":\"CDSView\"},{\"attributes\":{\"items\":[{\"id\":\"531292c0-e760-421e-bf98-8e087a3cdf7b\",\"type\":\"LegendItem\"},{\"id\":\"8aa47ad1-1eaa-4889-9e49-bc25a2f876fe\",\"type\":\"LegendItem\"},{\"id\":\"a1935d31-087a-4ff4-9cae-40cb3c872661\",\"type\":\"LegendItem\"}],\"label_text_font_size\":{\"value\":\"8pt\"},\"location\":[10,-30],\"plot\":{\"id\":\"046583d9-9839-4174-941a-f767b9c1327f\",\"subtype\":\"Figure\",\"type\":\"Plot\"}},\"id\":\"2a1a26a3-baf4-4364-8364-2d7398f9f91d\",\"type\":\"Legend\"},{\"attributes\":{\"tools\":[{\"id\":\"f3846f58-dd58-4864-a2d4-48742425dfa7\",\"type\":\"PanTool\"},{\"id\":\"e2cb6658-cfb5-4e2d-955e-1b779dc1947f\",\"type\":\"WheelZoomTool\"},{\"id\":\"1cb8d55f-8e36-412b-bdde-251fb5380744\",\"type\":\"BoxZoomTool\"},{\"id\":\"187fff46-da8f-4018-9784-044d0127bc9e\",\"type\":\"SaveTool\"},{\"id\":\"4c767b56-b54e-432f-853f-d833939cdb6f\",\"type\":\"ResetTool\"},{\"id\":\"95eac58c-bd57-4f59-b0ba-97314297111e\",\"type\":\"HelpTool\"},{\"id\":\"3d1c1683-bb8c-43db-bbcc-d76521eb652a\",\"type\":\"PanTool\"},{\"id\":\"65ff4411-273f-4088-b32a-ac5743cb9e6b\",\"type\":\"WheelZoomTool\"},{\"id\":\"cd619815-3a36-4b61-8516-6d25b719974d\",\"type\":\"BoxZoomTool\"},{\"id\":\"53944766-4bb6-4029-963f-ce5e7ce9b9b0\",\"type\":\"SaveTool\"},{\"id\":\"9d64038c-625a-4b58-a3b1-c4b140173334\",\"type\":\"ResetTool\"},{\"id\":\"3991ca80-4bdb-4bbe-a858-e7ea19ae694e\",\"type\":\"HelpTool\"}]},\"id\":\"8a162262-2e30-4c9f-a005-f3a2dd8433be\",\"type\":\"ProxyToolbar\"},{\"attributes\":{},\"id\":\"908efd30-793b-482b-9b1c-9a1f296b2347\",\"type\":\"BasicTickFormatter\"},{\"attributes\":{},\"id\":\"9d64038c-625a-4b58-a3b1-c4b140173334\",\"type\":\"ResetTool\"},{\"attributes\":{\"data_source\":{\"id\":\"c51adf5d-21db-4e6d-b9f2-5a179898ec1d\",\"type\":\"ColumnDataSource\"},\"glyph\":{\"id\":\"3ce86764-dc3c-4e24-9c5d-a952d944acae\",\"type\":\"Line\"},\"hover_glyph\":null,\"muted_glyph\":null,\"nonselection_glyph\":{\"id\":\"e981904a-d512-4767-a989-439a75bceba4\",\"type\":\"Line\"},\"selection_glyph\":null,\"view\":{\"id\":\"c4fea2f9-e4e4-4f6e-88e2-bab50b3821ee\",\"type\":\"CDSView\"}},\"id\":\"1fab342b-8c3b-4e2e-8003-233cb5b96ff9\",\"type\":\"GlyphRenderer\"},{\"attributes\":{\"active_drag\":\"auto\",\"active_inspect\":\"auto\",\"active_scroll\":\"auto\",\"active_tap\":\"auto\",\"tools\":[{\"id\":\"f3846f58-dd58-4864-a2d4-48742425dfa7\",\"type\":\"PanTool\"},{\"id\":\"e2cb6658-cfb5-4e2d-955e-1b779dc1947f\",\"type\":\"WheelZoomTool\"},{\"id\":\"1cb8d55f-8e36-412b-bdde-251fb5380744\",\"type\":\"BoxZoomTool\"},{\"id\":\"187fff46-da8f-4018-9784-044d0127bc9e\",\"type\":\"SaveTool\"},{\"id\":\"4c767b56-b54e-432f-853f-d833939cdb6f\",\"type\":\"ResetTool\"},{\"id\":\"95eac58c-bd57-4f59-b0ba-97314297111e\",\"type\":\"HelpTool\"}]},\"id\":\"14a7088d-3e92-45c6-92a1-7d979a0d9592\",\"type\":\"Toolbar\"},{\"attributes\":{},\"id\":\"283075d2-e825-4ae2-87e3-abae847abc34\",\"type\":\"BasicTickFormatter\"},{\"attributes\":{\"label\":{\"value\":\"CRD\"},\"renderers\":[{\"id\":\"1ad76a86-5b03-4115-b0c5-0c206a376404\",\"type\":\"GlyphRenderer\"},{\"id\":\"f70dc00b-2842-4934-8d59-cf01261ea486\",\"type\":\"GlyphRenderer\"}]},\"id\":\"8aa47ad1-1eaa-4889-9e49-bc25a2f876fe\",\"type\":\"LegendItem\"},{\"attributes\":{\"callback\":null,\"column_names\":[\"x\",\"y\"],\"data\":{\"x\":{\"__ndarray__\":\"3BMIYYzNsz8TDXP+/ZTIP7VAksRYh9E/YuQbwBHT1D/gp6Jf+FTQP9SUS4Dtot0/3JcaPnUu3j8LXldAX6LjP2dLb+JYteQ/4Krj3wQy6D/bUoNAmczqP/c0L6B6+Ow/2OZSnnGo7j85zQpeVwDvPw0d2H0Jbe0/Oobw/UcF6j99+4T96EXmP7/btAAK4eI/oDrz/oGK4D+bn7D+rhPgP1bRxOAGoeE/P4m2AMBz4T8xuWoBTu3cPxBxOX+PUdc/7C6zfBvq0j+sZZ230mfOP+9cc6K4Psg/U5drVTvYwz/r9oLk127BPyEKoPdKSb4/p0hOvoqguD/iAxB+r4+yP2St8htexK0/iagGvd7Nqz8d07rdMKmsP/t1+IJOvK8/goUIQvadsD9hh7UhlDGvP7AWNR7AsKs/A6ykAftpqD+FlghjKk6lP7sTbUDkKqI/ep9wl3mCnT/+MGWHyE6VP08tiGwTM4Y/4CL+wJiWgD8Y/bw385ySPxUQYoCnPaA/eNVen5Skpz+H0CdDbOivP2a5+h7mLLQ/pFKbIR1quD9AFXmKA4W8P4qdfLyIHcA/Russoya0wT/Y9BxocCHDPz/KZ/1WgMQ/kgxzYSjQxT9MazYDGvTGP6fUPoC51Mc/fn8YW+djyD+PLImB6KjIPx6qxp5/s8g/q2nNRTKayD8P+7EHYnLIPwfZif0rTMg/iS25YUY+yD+qy1KAYkPIP2tjqmjFGsg/l9paeMFUxz/O3a6XpojFP8uYSIpE+MI/ScGugQhMwD/iHioR0X27P7ptokDmHbY/\",\"dtype\":\"float64\",\"shape\":[75]},\"y\":{\"__ndarray__\":\"S/O/Q+51ND/430zAtpRIP2vylNV0PVE/QxsjCssuWD/TR4Z78fVgP+inNsRxymc/OuuBfZWvcD/u3TFA02d3P2d3VoBnaoA/CD5h5MAGhz/1pA8HUCaQP+zrCsc9p5Y/Fb7LAKjGnz/nJ9c/SEmmPwBD+fzcQq8/FOZwv9nstT8Er5Y7M8G+P0c+r3jqkcU/yK72qKZBzj+tM989FzjVPxbgmr8yxN0/cOm5AXbg5D+5ctXAf0jtP5kqGJXUifQ/DsrqDELP/D8MCAhBojQEQDItVnmnVwxAiFXNvdHgE0BSSZ2AJuIbQAMJih9jjiNA5q4l5INuK0CPVN/5RT0zQHzxRXu8/DpAOZ7PgHrtQkAg8wGBzoxKQBSTN8DMeFJA2NmQf2ZqWEAAAAAAAFxeQEQX1LfMJmJAmpmZmZkfZUBmZmZmZhhoQLzoK0gzEWtAAAAAAAAKbkCiC+pbZoFwQAhyUMLM/XFA+I2vPTN6c0AQ5KCEmfZ0QAAAAAAAc3ZA8Btfe2bvd0AIclDCzGt5QPeNrz0z6HpAEOSghJlkfEAAAAAAAOF9QKML6ltmXX9ABTkoYeZsgED7xteeGSuBQAhyUMJM6YFAAAAAAICngkD4ja89s2WDQAU5KGHmI4RA+8bXnhnihEAIclDCTKCFQAAAAACAXoZA+I2vPbMch0AFOShh5tqHQPvG154ZmYhACHJQwkxXiUAAAAAAgBWKQPeNrz2z04pABTkoYeaRi0D7xteeGVCMQAlyUMJMDo1AAAAAAIDMjUD3ja89s4qOQGZmZmbmSI9A\",\"dtype\":\"float64\",\"shape\":[75]}}},\"id\":\"9956498d-8473-4a44-972f-7a382f6358e0\",\"type\":\"ColumnDataSource\"},{\"attributes\":{\"line_alpha\":0.1,\"line_color\":\"#1f77b4\",\"line_dash\":[6],\"line_width\":5,\"x\":{\"field\":\"x\"},\"y\":{\"field\":\"y\"}},\"id\":\"1be507be-2da7-487b-aa5a-30877b53884a\",\"type\":\"Line\"},{\"attributes\":{\"source\":{\"id\":\"f3e43413-ead1-4545-9894-e4a74a91e778\",\"type\":\"ColumnDataSource\"}},\"id\":\"8c09521b-293d-48fc-bb1b-4d5079fb77cf\",\"type\":\"CDSView\"},{\"attributes\":{},\"id\":\"7562b29d-f8ff-4453-87bd-476190112011\",\"type\":\"BasicTicker\"},{\"attributes\":{\"source\":{\"id\":\"6d2e7980-126e-440a-a862-c52a80e657c8\",\"type\":\"ColumnDataSource\"}},\"id\":\"3d26049d-e984-47c5-ab82-e57e75580e10\",\"type\":\"CDSView\"},{\"attributes\":{\"callback\":null,\"column_names\":[\"x\",\"y\"],\"data\":{\"x\":{\"__ndarray__\":\"lAUCU7yAxz/MLUpcCdXKP57eOVKFmNE/E8RxxzhS1j/MlqyKcFPbP1eTCtdhVOA/hrDYLoYV4z8BMrYIc9jlP/kbSHJUieg/NJ5rDPgE6z/WdD3RdSHtPzAA4BrQue4/Z+Edpp6h7z/pt23nFCfvP4y5EFCGz+w/knFzx+6E6T86ie9hgjzmP7lG0/JmgeM/4hdFrFHR4T/96AbQEIrhP5JpI43A7uI/XKvBJCpO4j/ZM/i5qZrdP4tzDn37Y9c/WQIAMjrB0j/uiLeMowvOP6UbF8T2ycc/IleHL1Vhwz9XKE7F+PbAP6FRNryLvb0/sPZZYO16uD9vi70N7cCyP1LV8m07Ga8/WGf2JY1krj9Tted2UgavP0vv3vtiibA/3XGzDRYtsT/BYBOm40KwP3EtPCpcYa0/Gz2BJ2JOqj/V6ZEdUyunP8XEwBw4xaM/k0XZ3EoPoD+w4PPNelSXP4yAr40d+Yg/OoxZGKHdgj8w1sqTiheUP36sXH99OqE/rrWKDfz5qD+12WWze9awP8WIgQR+OrU/cbRueWh8uT+zyMBLune9P8yXeorahcA/w1foQUkawj8/w7xDYYLDP/PUl2OByMQ/mbagc47sxT8J88OtJ9/GPxhvEiCWj8c/IcEaiOH6xz++nxov3STIP57SXtCEHsg/rQPWYND4xz8vsjJUpMbHP3ONQ7sSmsc/87ufCQOFxz8w5hnB54PHP6m2xF/NYMc/H6a3Hgmkxj+VA6hvuuHEPxLR+Tq6W8I/OtQIYHd4vz8ksCBqLnm6P91D4wXoKbU/\",\"dtype\":\"float64\",\"shape\":[75]},\"y\":{\"__ndarray__\":\"GhExyth1ND/Sv8nbtpRIP2vylNV0PVE/aTum7souWD/At0SJ8fVgPw3Iuahxymc/MSNhhJWvcD/bTfBN02d3P2zb5nxnaoA/CD5h5MAGhz8NmeH1TyaQP+zrCsc9p5Y/LbKd76fGnz/bLW5ISEmmPww9YvTcQq8/JV2OstnstT8Er5Y7M8G+P0c+r3jqkcU/5h99k6ZBzj88bCIzFzjVP4enV8oyxN0//yH99nXg5D8qOpLLf0jtP5kqGJXUifQ/c9cS8kHP/D+/DpwzojQEQIEmwoanVwxA4lgXt9HgE0BSSZ2AJuIbQAMJih9jjiNA5q4l5INuK0AwTKYKRj0zQNv5fmq8/DpAaCJseHrtQkB/+zpwzoxKQM3MzMzMeFJAZmZmZmZqWEAAAAAAAFxeQM3MzMzMJmJAmpmZmZkfZUBmZmZmZhhoQDMzMzMzEWtAAAAAAAAKbkBmZmZmZoFwQM3MzMzM/XFAMzMzMzN6c0CamZmZmfZ0QAAAAAAAc3ZAZmZmZmbvd0DNzMzMzGt5QDMzMzMz6HpAmpmZmZlkfEAAAAAAAOF9QGZmZmZmXX9AZmZmZuZsgECamZmZGSuBQM3MzMxM6YFAAAAAAICngkAzMzMzs2WDQGZmZmbmI4RAmpmZmRnihEDNzMzMTKCFQAAAAACAXoZAMzMzM7Mch0BmZmZm5tqHQJqZmZkZmYhAzczMzExXiUAAAAAAgBWKQDMzMzOz04pAZmZmZuaRi0CamZmZGVCMQM3MzMxMDo1AAAAAAIDMjUAzMzMzs4qOQGZmZmbmSI9A\",\"dtype\":\"float64\",\"shape\":[75]}}},\"id\":\"6d2e7980-126e-440a-a862-c52a80e657c8\",\"type\":\"ColumnDataSource\"},{\"attributes\":{\"label\":{\"value\":\"CLIRAD `coolr_bands`\"},\"renderers\":[{\"id\":\"d1ec01cb-6019-495d-8cae-1d49f2e3c7dd\",\"type\":\"GlyphRenderer\"}]},\"id\":\"531292c0-e760-421e-bf98-8e087a3cdf7b\",\"type\":\"LegendItem\"},{\"attributes\":{\"axis_label\":\"cooling rate [K/day]\",\"formatter\":{\"id\":\"908efd30-793b-482b-9b1c-9a1f296b2347\",\"type\":\"BasicTickFormatter\"},\"plot\":{\"id\":\"9d5f3c1d-15ba-4ec6-b69f-59bbc0048ca0\",\"subtype\":\"Figure\",\"type\":\"Plot\"},\"ticker\":{\"id\":\"7562b29d-f8ff-4453-87bd-476190112011\",\"type\":\"BasicTicker\"}},\"id\":\"6357a0f5-34d6-44af-a80a-57837249d8ff\",\"type\":\"LinearAxis\"},{\"attributes\":{\"callback\":null,\"column_names\":[\"x\",\"y\"],\"data\":{\"x\":{\"__ndarray__\":\"3ikVO7fczT88icbiUGLQP89XXizrQtU/fxCP5dl82j/QtbPYu/nfPyqck80LxuI/KPud3KWD5T/xBZi/YxToP8UqlDsiVeo/EDkBdgMf7D80fPJNJlDtP/e7JIxu1u0/VfKYHqC97T8qF89F6IzsP33+/yh/Eeo/ABrGWeh15z8nBP4yEJLlP4Fo3ljtbeQ/iDQB8YDz4z8sILyPBiTkP7JI8uAXTOU/m7nyH/Pd4z8Uu2wqQfXeP4BoYpGRudc/yPN0CeKX0j+nN2k7IrbMP+z/VpFVOsU/L1jktgHIvz+qWtrCVn26PzUNeANGQ7c/6naglU4AtD+CbrOhMGKwP9xkhFLcOq0/zKrIG3LJrT/5JOJzSOatP0d2ljp3pK0/U6VlWFAOrT+Udd8BA+CqP7NPpFTyTKg/P0GhH78Xpj+U7h4I3+ejP4mZFTsua6E/Dg8sCmUonT/vY5/cwxmWP+k6sMNou4k/ADc/icUrhT9e53ST9/WUP6D2ctfGY6E/WIkwgBsiqT/61NzKRQ6xPzAcnS3/pbU/2xZlNsgkuj/iiWpb3ma+PzkvZxlWL8E/jM5kxZEDwz/YMFyAKqzEP3g/VSLcJsY/WxAltatrxz8A0cQiI3PIP+pgu4PxNsk/KEqd29+0yT97Ac1SePHJP5TPG7zp9ck/Fvr97l/RyT9vpjrLyZfJP2d9yjFZXMk/yg8BLJcyyT8tjD4wkRzJPy5eRakx38g/YdWsddoByD/IJUwgPhPGP2YOzWU4WMM/LbbmGqiEwD+Al758V6m7P17XoS32/bU/\",\"dtype\":\"float64\",\"shape\":[75]},\"y\":{\"__ndarray__\":\"GhExyth1ND/Sv8nbtpRIP2vylNV0PVE/aTum7souWD/At0SJ8fVgPw3Iuahxymc/MSNhhJWvcD/bTfBN02d3P2zb5nxnaoA/CD5h5MAGhz8NmeH1TyaQP+zrCsc9p5Y/LbKd76fGnz/bLW5ISEmmPww9YvTcQq8/JV2OstnstT8Er5Y7M8G+P0c+r3jqkcU/5h99k6ZBzj88bCIzFzjVP4enV8oyxN0//yH99nXg5D8qOpLLf0jtP5kqGJXUifQ/c9cS8kHP/D+/DpwzojQEQIEmwoanVwxA4lgXt9HgE0BSSZ2AJuIbQAMJih9jjiNA5q4l5INuK0AwTKYKRj0zQNv5fmq8/DpAaCJseHrtQkB/+zpwzoxKQM3MzMzMeFJAZmZmZmZqWEAAAAAAAFxeQM3MzMzMJmJAmpmZmZkfZUBmZmZmZhhoQDMzMzMzEWtAAAAAAAAKbkBmZmZmZoFwQM3MzMzM/XFAMzMzMzN6c0CamZmZmfZ0QAAAAAAAc3ZAZmZmZmbvd0DNzMzMzGt5QDMzMzMz6HpAmpmZmZlkfEAAAAAAAOF9QGZmZmZmXX9AZmZmZuZsgECamZmZGSuBQM3MzMxM6YFAAAAAAICngkAzMzMzs2WDQGZmZmbmI4RAmpmZmRnihEDNzMzMTKCFQAAAAACAXoZAMzMzM7Mch0BmZmZm5tqHQJqZmZkZmYhAzczMzExXiUAAAAAAgBWKQDMzMzOz04pAZmZmZuaRi0CamZmZGVCMQM3MzMxMDo1AAAAAAIDMjUAzMzMzs4qOQGZmZmbmSI9A\",\"dtype\":\"float64\",\"shape\":[75]}}},\"id\":\"ffa4e627-0413-42f4-83dd-0fffc63f8625\",\"type\":\"ColumnDataSource\"},{\"attributes\":{\"data_source\":{\"id\":\"6d2e7980-126e-440a-a862-c52a80e657c8\",\"type\":\"ColumnDataSource\"},\"glyph\":{\"id\":\"04264633-0d40-45f1-9aaf-db0f126edf94\",\"type\":\"Square\"},\"hover_glyph\":null,\"muted_glyph\":null,\"nonselection_glyph\":{\"id\":\"c41b6fd2-f18e-4551-9cb0-ea3296f95e94\",\"type\":\"Square\"},\"selection_glyph\":null,\"view\":{\"id\":\"3d26049d-e984-47c5-ab82-e57e75580e10\",\"type\":\"CDSView\"}},\"id\":\"c9e6d5a3-d693-42de-b238-b393e33af67d\",\"type\":\"GlyphRenderer\"},{\"attributes\":{\"fill_alpha\":{\"value\":0.1},\"fill_color\":{\"value\":\"#1f77b4\"},\"line_alpha\":{\"value\":0.1},\"line_color\":{\"value\":\"#1f77b4\"},\"x\":{\"field\":\"x\"},\"y\":{\"field\":\"y\"}},\"id\":\"c41b6fd2-f18e-4551-9cb0-ea3296f95e94\",\"type\":\"Square\"},{\"attributes\":{\"callback\":null,\"end\":0.01,\"start\":1020},\"id\":\"f9ee04a8-efbc-431b-85c1-fdc6fa01a1d5\",\"type\":\"Range1d\"},{\"attributes\":{\"line_alpha\":0.1,\"line_color\":\"#1f77b4\",\"line_dash\":[6],\"line_width\":5,\"x\":{\"field\":\"x\"},\"y\":{\"field\":\"y\"}},\"id\":\"9a19aeb8-5de0-4aa1-9a11-73df2e363b29\",\"type\":\"Line\"},{\"attributes\":{\"data_source\":{\"id\":\"80ca0641-c275-4f28-a9e4-242b1b79941f\",\"type\":\"ColumnDataSource\"},\"glyph\":{\"id\":\"ca6e4367-f883-4103-a94f-26ae1d4686ca\",\"type\":\"Line\"},\"hover_glyph\":null,\"muted_glyph\":null,\"nonselection_glyph\":{\"id\":\"616f0b44-f3cf-4222-a2e0-87d6c1e0aa12\",\"type\":\"Line\"},\"selection_glyph\":null,\"view\":{\"id\":\"a49636a3-2043-4bff-8548-62f4b2a2803b\",\"type\":\"CDSView\"}},\"id\":\"1d36c868-4012-4afd-a6a2-71146d765b0a\",\"type\":\"GlyphRenderer\"},{\"attributes\":{\"source\":{\"id\":\"c51adf5d-21db-4e6d-b9f2-5a179898ec1d\",\"type\":\"ColumnDataSource\"}},\"id\":\"c4fea2f9-e4e4-4f6e-88e2-bab50b3821ee\",\"type\":\"CDSView\"},{\"attributes\":{},\"id\":\"d4e4572b-7b9f-4ef4-a440-392abacba864\",\"type\":\"BasicTicker\"},{\"attributes\":{\"callback\":null,\"column_names\":[\"x\",\"y\"],\"data\":{\"x\":{\"__ndarray__\":\"lAUCU7yAxz/MLUpcCdXKP57eOVKFmNE/E8RxxzhS1j/MlqyKcFPbP1eTCtdhVOA/hrDYLoYV4z8BMrYIc9jlP/kbSHJUieg/NJ5rDPgE6z/WdD3RdSHtPzAA4BrQue4/Z+Edpp6h7z/pt23nFCfvP4y5EFCGz+w/knFzx+6E6T86ie9hgjzmP7lG0/JmgeM/4hdFrFHR4T/96AbQEIrhP5JpI43A7uI/XKvBJCpO4j/ZM/i5qZrdP4tzDn37Y9c/WQIAMjrB0j/uiLeMowvOP6UbF8T2ycc/IleHL1Vhwz9XKE7F+PbAP6FRNryLvb0/sPZZYO16uD9vi70N7cCyP1LV8m07Ga8/WGf2JY1krj9Tted2UgavP0vv3vtiibA/3XGzDRYtsT/BYBOm40KwP3EtPCpcYa0/Gz2BJ2JOqj/V6ZEdUyunP8XEwBw4xaM/k0XZ3EoPoD+w4PPNelSXP4yAr40d+Yg/OoxZGKHdgj8w1sqTiheUP36sXH99OqE/rrWKDfz5qD+12WWze9awP8WIgQR+OrU/cbRueWh8uT+zyMBLune9P8yXeorahcA/w1foQUkawj8/w7xDYYLDP/PUl2OByMQ/mbagc47sxT8J88OtJ9/GPxhvEiCWj8c/IcEaiOH6xz++nxov3STIP57SXtCEHsg/rQPWYND4xz8vsjJUpMbHP3ONQ7sSmsc/87ufCQOFxz8w5hnB54PHP6m2xF/NYMc/H6a3Hgmkxj+VA6hvuuHEPxLR+Tq6W8I/OtQIYHd4vz8ksCBqLnm6P91D4wXoKbU/\",\"dtype\":\"float64\",\"shape\":[75]},\"y\":{\"__ndarray__\":\"GhExyth1ND/Sv8nbtpRIP2vylNV0PVE/aTum7souWD/At0SJ8fVgPw3Iuahxymc/MSNhhJWvcD/bTfBN02d3P2zb5nxnaoA/CD5h5MAGhz8NmeH1TyaQP+zrCsc9p5Y/LbKd76fGnz/bLW5ISEmmPww9YvTcQq8/JV2OstnstT8Er5Y7M8G+P0c+r3jqkcU/5h99k6ZBzj88bCIzFzjVP4enV8oyxN0//yH99nXg5D8qOpLLf0jtP5kqGJXUifQ/c9cS8kHP/D+/DpwzojQEQIEmwoanVwxA4lgXt9HgE0BSSZ2AJuIbQAMJih9jjiNA5q4l5INuK0AwTKYKRj0zQNv5fmq8/DpAaCJseHrtQkB/+zpwzoxKQM3MzMzMeFJAZmZmZmZqWEAAAAAAAFxeQM3MzMzMJmJAmpmZmZkfZUBmZmZmZhhoQDMzMzMzEWtAAAAAAAAKbkBmZmZmZoFwQM3MzMzM/XFAMzMzMzN6c0CamZmZmfZ0QAAAAAAAc3ZAZmZmZmbvd0DNzMzMzGt5QDMzMzMz6HpAmpmZmZlkfEAAAAAAAOF9QGZmZmZmXX9AZmZmZuZsgECamZmZGSuBQM3MzMxM6YFAAAAAAICngkAzMzMzs2WDQGZmZmbmI4RAmpmZmRnihEDNzMzMTKCFQAAAAACAXoZAMzMzM7Mch0BmZmZm5tqHQJqZmZkZmYhAzczMzExXiUAAAAAAgBWKQDMzMzOz04pAZmZmZuaRi0CamZmZGVCMQM3MzMxMDo1AAAAAAIDMjUAzMzMzs4qOQGZmZmbmSI9A\",\"dtype\":\"float64\",\"shape\":[75]}}},\"id\":\"80ca0641-c275-4f28-a9e4-242b1b79941f\",\"type\":\"ColumnDataSource\"},{\"attributes\":{\"line_alpha\":0.6,\"line_color\":\"#984ea3\",\"line_width\":3,\"x\":{\"field\":\"x\"},\"y\":{\"field\":\"y\"}},\"id\":\"ca6e4367-f883-4103-a94f-26ae1d4686ca\",\"type\":\"Line\"},{\"attributes\":{},\"id\":\"b734a864-9b7a-409d-aa1a-40b10aaf7ce2\",\"type\":\"LogScale\"},{\"attributes\":{\"label\":{\"value\":\"WGT igg=10 wgt_flux=2\"},\"renderers\":[{\"id\":\"bd6bfc28-ca49-4d9d-ae9b-58a9d757b5e8\",\"type\":\"GlyphRenderer\"},{\"id\":\"86238cce-c23f-47ce-8da2-4fa11c14867c\",\"type\":\"GlyphRenderer\"}]},\"id\":\"a1935d31-087a-4ff4-9cae-40cb3c872661\",\"type\":\"LegendItem\"},{\"attributes\":{\"axis_label\":\"pressure [mb]\",\"formatter\":{\"id\":\"cafefcf9-3b82-448d-8efd-861d0a6677b9\",\"type\":\"LogTickFormatter\"},\"plot\":{\"id\":\"046583d9-9839-4174-941a-f767b9c1327f\",\"subtype\":\"Figure\",\"type\":\"Plot\"},\"ticker\":{\"id\":\"38b3883a-890b-410c-a8c8-36273e08be8e\",\"type\":\"LogTicker\"}},\"id\":\"f74b9bcc-5029-447d-8681-0c6b8ce4fae4\",\"type\":\"LogAxis\"},{\"attributes\":{\"below\":[{\"id\":\"9d4ad712-b8f5-4d91-8444-8b3fb6c77149\",\"type\":\"LinearAxis\"}],\"left\":[{\"id\":\"f74b9bcc-5029-447d-8681-0c6b8ce4fae4\",\"type\":\"LogAxis\"}],\"plot_height\":500,\"plot_width\":560,\"renderers\":[{\"id\":\"9d4ad712-b8f5-4d91-8444-8b3fb6c77149\",\"type\":\"LinearAxis\"},{\"id\":\"995abf39-f89f-48b7-88f4-23174935fcbd\",\"type\":\"Grid\"},{\"id\":\"f74b9bcc-5029-447d-8681-0c6b8ce4fae4\",\"type\":\"LogAxis\"},{\"id\":\"ba95500f-0df4-4a46-9f17-4f669f433327\",\"type\":\"Grid\"},{\"id\":\"95d3215f-9c11-4e4b-a37d-e07632f0aea5\",\"type\":\"BoxAnnotation\"},{\"id\":\"d1ec01cb-6019-495d-8cae-1d49f2e3c7dd\",\"type\":\"GlyphRenderer\"},{\"id\":\"1ad76a86-5b03-4115-b0c5-0c206a376404\",\"type\":\"GlyphRenderer\"},{\"id\":\"f70dc00b-2842-4934-8d59-cf01261ea486\",\"type\":\"GlyphRenderer\"},{\"id\":\"bd6bfc28-ca49-4d9d-ae9b-58a9d757b5e8\",\"type\":\"GlyphRenderer\"},{\"id\":\"86238cce-c23f-47ce-8da2-4fa11c14867c\",\"type\":\"GlyphRenderer\"},{\"id\":\"2a1a26a3-baf4-4364-8364-2d7398f9f91d\",\"type\":\"Legend\"}],\"right\":[{\"id\":\"2a1a26a3-baf4-4364-8364-2d7398f9f91d\",\"type\":\"Legend\"}],\"title\":{\"id\":\"f3ab3017-79a5-4d0f-b2e2-02193dd0c980\",\"type\":\"Title\"},\"toolbar\":{\"id\":\"185db6c2-01e6-4724-86e7-ee5a4df5e4fb\",\"type\":\"Toolbar\"},\"toolbar_location\":null,\"x_range\":{\"id\":\"4d9f3335-574b-47fb-b48e-e7bffce5b89e\",\"type\":\"Range1d\"},\"x_scale\":{\"id\":\"f91c1ee4-9a96-4c3a-a4e7-d99e01f776b1\",\"type\":\"LinearScale\"},\"y_range\":{\"id\":\"f9ee04a8-efbc-431b-85c1-fdc6fa01a1d5\",\"type\":\"Range1d\"},\"y_scale\":{\"id\":\"b734a864-9b7a-409d-aa1a-40b10aaf7ce2\",\"type\":\"LogScale\"}},\"id\":\"046583d9-9839-4174-941a-f767b9c1327f\",\"subtype\":\"Figure\",\"type\":\"Plot\"},{\"attributes\":{\"data_source\":{\"id\":\"ffa4e627-0413-42f4-83dd-0fffc63f8625\",\"type\":\"ColumnDataSource\"},\"glyph\":{\"id\":\"58bec569-5745-4494-9608-ab0615c9abee\",\"type\":\"Circle\"},\"hover_glyph\":null,\"muted_glyph\":null,\"nonselection_glyph\":{\"id\":\"dd757014-f06e-4f92-98d0-193e3ed5afbe\",\"type\":\"Circle\"},\"selection_glyph\":null,\"view\":{\"id\":\"e96160c2-45a5-43bb-a4ff-2ab77474a46c\",\"type\":\"CDSView\"}},\"id\":\"1ad76a86-5b03-4115-b0c5-0c206a376404\",\"type\":\"GlyphRenderer\"},{\"attributes\":{},\"id\":\"f91c1ee4-9a96-4c3a-a4e7-d99e01f776b1\",\"type\":\"LinearScale\"},{\"attributes\":{\"children\":[{\"id\":\"9d5f3c1d-15ba-4ec6-b69f-59bbc0048ca0\",\"subtype\":\"Figure\",\"type\":\"Plot\"},{\"id\":\"046583d9-9839-4174-941a-f767b9c1327f\",\"subtype\":\"Figure\",\"type\":\"Plot\"}]},\"id\":\"3a2a96e7-9d6d-4f9d-a726-05ffcec4a5c5\",\"type\":\"Row\"},{\"attributes\":{},\"id\":\"4c767b56-b54e-432f-853f-d833939cdb6f\",\"type\":\"ResetTool\"},{\"attributes\":{\"plot\":null,\"text\":\"Log pressure scale\"},\"id\":\"f3ab3017-79a5-4d0f-b2e2-02193dd0c980\",\"type\":\"Title\"},{\"attributes\":{\"active_drag\":\"auto\",\"active_inspect\":\"auto\",\"active_scroll\":\"auto\",\"active_tap\":\"auto\",\"tools\":[{\"id\":\"3d1c1683-bb8c-43db-bbcc-d76521eb652a\",\"type\":\"PanTool\"},{\"id\":\"65ff4411-273f-4088-b32a-ac5743cb9e6b\",\"type\":\"WheelZoomTool\"},{\"id\":\"cd619815-3a36-4b61-8516-6d25b719974d\",\"type\":\"BoxZoomTool\"},{\"id\":\"53944766-4bb6-4029-963f-ce5e7ce9b9b0\",\"type\":\"SaveTool\"},{\"id\":\"9d64038c-625a-4b58-a3b1-c4b140173334\",\"type\":\"ResetTool\"},{\"id\":\"3991ca80-4bdb-4bbe-a858-e7ea19ae694e\",\"type\":\"HelpTool\"}]},\"id\":\"185db6c2-01e6-4724-86e7-ee5a4df5e4fb\",\"type\":\"Toolbar\"},{\"attributes\":{\"num_minor_ticks\":10},\"id\":\"38b3883a-890b-410c-a8c8-36273e08be8e\",\"type\":\"LogTicker\"},{\"attributes\":{},\"id\":\"dfcd6814-e628-41e4-9c3c-f43c868218f6\",\"type\":\"LinearScale\"},{\"attributes\":{\"plot\":{\"id\":\"046583d9-9839-4174-941a-f767b9c1327f\",\"subtype\":\"Figure\",\"type\":\"Plot\"},\"ticker\":{\"id\":\"d4e4572b-7b9f-4ef4-a440-392abacba864\",\"type\":\"BasicTicker\"}},\"id\":\"995abf39-f89f-48b7-88f4-23174935fcbd\",\"type\":\"Grid\"},{\"attributes\":{\"bottom_units\":\"screen\",\"fill_alpha\":{\"value\":0.5},\"fill_color\":{\"value\":\"lightgrey\"},\"left_units\":\"screen\",\"level\":\"overlay\",\"line_alpha\":{\"value\":1.0},\"line_color\":{\"value\":\"black\"},\"line_dash\":[4,4],\"line_width\":{\"value\":2},\"plot\":null,\"render_mode\":\"css\",\"right_units\":\"screen\",\"top_units\":\"screen\"},\"id\":\"0835a046-6691-4703-b27c-f1d930574e0b\",\"type\":\"BoxAnnotation\"},{\"attributes\":{\"axis_label\":\"cooling rate [K/day]\",\"formatter\":{\"id\":\"ea0b6765-f674-4513-b7e3-3d81e3e787d8\",\"type\":\"BasicTickFormatter\"},\"plot\":{\"id\":\"046583d9-9839-4174-941a-f767b9c1327f\",\"subtype\":\"Figure\",\"type\":\"Plot\"},\"ticker\":{\"id\":\"d4e4572b-7b9f-4ef4-a440-392abacba864\",\"type\":\"BasicTicker\"}},\"id\":\"9d4ad712-b8f5-4d91-8444-8b3fb6c77149\",\"type\":\"LinearAxis\"},{\"attributes\":{\"fill_alpha\":{\"value\":0.7},\"fill_color\":{\"value\":\"#984ea3\"},\"line_alpha\":{\"value\":0.7},\"line_color\":{\"value\":\"#984ea3\"},\"x\":{\"field\":\"x\"},\"y\":{\"field\":\"y\"}},\"id\":\"04264633-0d40-45f1-9aaf-db0f126edf94\",\"type\":\"Square\"},{\"attributes\":{\"source\":{\"id\":\"80ca0641-c275-4f28-a9e4-242b1b79941f\",\"type\":\"ColumnDataSource\"}},\"id\":\"a49636a3-2043-4bff-8548-62f4b2a2803b\",\"type\":\"CDSView\"},{\"attributes\":{\"callback\":null,\"column_names\":[\"x\",\"y\"],\"data\":{\"x\":{\"__ndarray__\":\"3BMIYYzNsz8TDXP+/ZTIP7VAksRYh9E/YuQbwBHT1D/gp6Jf+FTQP9SUS4Dtot0/3JcaPnUu3j8LXldAX6LjP2dLb+JYteQ/4Krj3wQy6D/bUoNAmczqP/c0L6B6+Ow/2OZSnnGo7j85zQpeVwDvPw0d2H0Jbe0/Oobw/UcF6j99+4T96EXmP7/btAAK4eI/oDrz/oGK4D+bn7D+rhPgP1bRxOAGoeE/P4m2AMBz4T8xuWoBTu3cPxBxOX+PUdc/7C6zfBvq0j+sZZ230mfOP+9cc6K4Psg/U5drVTvYwz/r9oLk127BPyEKoPdKSb4/p0hOvoqguD/iAxB+r4+yP2St8htexK0/iagGvd7Nqz8d07rdMKmsP/t1+IJOvK8/goUIQvadsD9hh7UhlDGvP7AWNR7AsKs/A6ykAftpqD+FlghjKk6lP7sTbUDkKqI/ep9wl3mCnT/+MGWHyE6VP08tiGwTM4Y/4CL+wJiWgD8Y/bw385ySPxUQYoCnPaA/eNVen5Skpz+H0CdDbOivP2a5+h7mLLQ/pFKbIR1quD9AFXmKA4W8P4qdfLyIHcA/Russoya0wT/Y9BxocCHDPz/KZ/1WgMQ/kgxzYSjQxT9MazYDGvTGP6fUPoC51Mc/fn8YW+djyD+PLImB6KjIPx6qxp5/s8g/q2nNRTKayD8P+7EHYnLIPwfZif0rTMg/iS25YUY+yD+qy1KAYkPIP2tjqmjFGsg/l9paeMFUxz/O3a6XpojFP8uYSIpE+MI/ScGugQhMwD/iHioR0X27P7ptokDmHbY/\",\"dtype\":\"float64\",\"shape\":[75]},\"y\":{\"__ndarray__\":\"S/O/Q+51ND/430zAtpRIP2vylNV0PVE/QxsjCssuWD/TR4Z78fVgP+inNsRxymc/OuuBfZWvcD/u3TFA02d3P2d3VoBnaoA/CD5h5MAGhz/1pA8HUCaQP+zrCsc9p5Y/Fb7LAKjGnz/nJ9c/SEmmPwBD+fzcQq8/FOZwv9nstT8Er5Y7M8G+P0c+r3jqkcU/yK72qKZBzj+tM989FzjVPxbgmr8yxN0/cOm5AXbg5D+5ctXAf0jtP5kqGJXUifQ/DsrqDELP/D8MCAhBojQEQDItVnmnVwxAiFXNvdHgE0BSSZ2AJuIbQAMJih9jjiNA5q4l5INuK0CPVN/5RT0zQHzxRXu8/DpAOZ7PgHrtQkAg8wGBzoxKQBSTN8DMeFJA2NmQf2ZqWEAAAAAAAFxeQEQX1LfMJmJAmpmZmZkfZUBmZmZmZhhoQLzoK0gzEWtAAAAAAAAKbkCiC+pbZoFwQAhyUMLM/XFA+I2vPTN6c0AQ5KCEmfZ0QAAAAAAAc3ZA8Btfe2bvd0AIclDCzGt5QPeNrz0z6HpAEOSghJlkfEAAAAAAAOF9QKML6ltmXX9ABTkoYeZsgED7xteeGSuBQAhyUMJM6YFAAAAAAICngkD4ja89s2WDQAU5KGHmI4RA+8bXnhnihEAIclDCTKCFQAAAAACAXoZA+I2vPbMch0AFOShh5tqHQPvG154ZmYhACHJQwkxXiUAAAAAAgBWKQPeNrz2z04pABTkoYeaRi0D7xteeGVCMQAlyUMJMDo1AAAAAAIDMjUD3ja89s4qOQGZmZmbmSI9A\",\"dtype\":\"float64\",\"shape\":[75]}}},\"id\":\"f3e43413-ead1-4545-9894-e4a74a91e778\",\"type\":\"ColumnDataSource\"},{\"attributes\":{\"source\":{\"id\":\"9956498d-8473-4a44-972f-7a382f6358e0\",\"type\":\"ColumnDataSource\"}},\"id\":\"8554607a-5f90-47f6-8c55-424434e549cf\",\"type\":\"CDSView\"},{\"attributes\":{},\"id\":\"187fff46-da8f-4018-9784-044d0127bc9e\",\"type\":\"SaveTool\"},{\"attributes\":{\"callback\":null,\"end\":0.01,\"start\":1020},\"id\":\"18dc28ab-749b-4d95-a736-70710a5e51f3\",\"type\":\"Range1d\"},{\"attributes\":{\"fill_alpha\":{\"value\":0.1},\"fill_color\":{\"value\":\"#1f77b4\"},\"line_alpha\":{\"value\":0.1},\"line_color\":{\"value\":\"#1f77b4\"},\"x\":{\"field\":\"x\"},\"y\":{\"field\":\"y\"}},\"id\":\"dd757014-f06e-4f92-98d0-193e3ed5afbe\",\"type\":\"Circle\"},{\"attributes\":{\"children\":[{\"id\":\"3a2a96e7-9d6d-4f9d-a726-05ffcec4a5c5\",\"type\":\"Row\"}]},\"id\":\"e38fe30a-52d2-44e6-90be-ffb3d1e2000d\",\"type\":\"Column\"},{\"attributes\":{\"callback\":null,\"end\":0.204764344296,\"start\":0.0061525661039999995},\"id\":\"3e7b7834-8cac-45e3-81ac-9a2b6835ac3c\",\"type\":\"Range1d\"},{\"attributes\":{\"fill_alpha\":{\"value\":0.1},\"fill_color\":{\"value\":\"#1f77b4\"},\"line_alpha\":{\"value\":0.1},\"line_color\":{\"value\":\"#1f77b4\"},\"x\":{\"field\":\"x\"},\"y\":{\"field\":\"y\"}},\"id\":\"34723083-5bc8-4881-a2cc-5c92dab54f69\",\"type\":\"Circle\"},{\"attributes\":{},\"id\":\"95eac58c-bd57-4f59-b0ba-97314297111e\",\"type\":\"HelpTool\"},{\"attributes\":{\"overlay\":{\"id\":\"0835a046-6691-4703-b27c-f1d930574e0b\",\"type\":\"BoxAnnotation\"}},\"id\":\"1cb8d55f-8e36-412b-bdde-251fb5380744\",\"type\":\"BoxZoomTool\"},{\"attributes\":{\"bottom_units\":\"screen\",\"fill_alpha\":{\"value\":0.5},\"fill_color\":{\"value\":\"lightgrey\"},\"left_units\":\"screen\",\"level\":\"overlay\",\"line_alpha\":{\"value\":1.0},\"line_color\":{\"value\":\"black\"},\"line_dash\":[4,4],\"line_width\":{\"value\":2},\"plot\":null,\"render_mode\":\"css\",\"right_units\":\"screen\",\"top_units\":\"screen\"},\"id\":\"95d3215f-9c11-4e4b-a37d-e07632f0aea5\",\"type\":\"BoxAnnotation\"},{\"attributes\":{\"fill_alpha\":{\"value\":0.7},\"fill_color\":{\"value\":\"#4daf4a\"},\"line_alpha\":{\"value\":0.7},\"line_color\":{\"value\":\"#4daf4a\"},\"x\":{\"field\":\"x\"},\"y\":{\"field\":\"y\"}},\"id\":\"c152ba41-4d15-496b-9295-b640f860e798\",\"type\":\"Circle\"},{\"attributes\":{},\"id\":\"7fc3c471-4000-4d54-81b1-eaf517baf2aa\",\"type\":\"BasicTicker\"},{\"attributes\":{\"line_alpha\":0.1,\"line_color\":\"#1f77b4\",\"line_width\":3,\"x\":{\"field\":\"x\"},\"y\":{\"field\":\"y\"}},\"id\":\"616f0b44-f3cf-4222-a2e0-87d6c1e0aa12\",\"type\":\"Line\"},{\"attributes\":{},\"id\":\"e2cb6658-cfb5-4e2d-955e-1b779dc1947f\",\"type\":\"WheelZoomTool\"},{\"attributes\":{\"data_source\":{\"id\":\"be85ec97-5c28-4cfb-bf92-a9c64b5eb3d7\",\"type\":\"ColumnDataSource\"},\"glyph\":{\"id\":\"c152ba41-4d15-496b-9295-b640f860e798\",\"type\":\"Circle\"},\"hover_glyph\":null,\"muted_glyph\":null,\"nonselection_glyph\":{\"id\":\"34723083-5bc8-4881-a2cc-5c92dab54f69\",\"type\":\"Circle\"},\"selection_glyph\":null,\"view\":{\"id\":\"aa595506-621a-450b-a827-3bbdef29016c\",\"type\":\"CDSView\"}},\"id\":\"083bd23f-be4a-43e4-b696-92989ef14643\",\"type\":\"GlyphRenderer\"},{\"attributes\":{},\"id\":\"3991ca80-4bdb-4bbe-a858-e7ea19ae694e\",\"type\":\"HelpTool\"},{\"attributes\":{},\"id\":\"f3846f58-dd58-4864-a2d4-48742425dfa7\",\"type\":\"PanTool\"},{\"attributes\":{\"plot\":null,\"text\":\"Linear pressure scale\"},\"id\":\"f920bdc9-903d-4710-a3b5-c1580e50f7cf\",\"type\":\"Title\"},{\"attributes\":{},\"id\":\"3d1c1683-bb8c-43db-bbcc-d76521eb652a\",\"type\":\"PanTool\"},{\"attributes\":{},\"id\":\"65ff4411-273f-4088-b32a-ac5743cb9e6b\",\"type\":\"WheelZoomTool\"},{\"attributes\":{\"line_alpha\":0.6,\"line_color\":\"#e41a1c\",\"line_dash\":[6],\"line_width\":5,\"x\":{\"field\":\"x\"},\"y\":{\"field\":\"y\"}},\"id\":\"ff8e8a5c-1112-47f0-8065-2e589e805577\",\"type\":\"Line\"},{\"attributes\":{\"line_color\":\"#4daf4a\",\"line_width\":1.5,\"x\":{\"field\":\"x\"},\"y\":{\"field\":\"y\"}},\"id\":\"3ce86764-dc3c-4e24-9c5d-a952d944acae\",\"type\":\"Line\"},{\"attributes\":{\"callback\":null,\"column_names\":[\"x\",\"y\"],\"data\":{\"x\":{\"__ndarray__\":\"3ikVO7fczT88icbiUGLQP89XXizrQtU/fxCP5dl82j/QtbPYu/nfPyqck80LxuI/KPud3KWD5T/xBZi/YxToP8UqlDsiVeo/EDkBdgMf7D80fPJNJlDtP/e7JIxu1u0/VfKYHqC97T8qF89F6IzsP33+/yh/Eeo/ABrGWeh15z8nBP4yEJLlP4Fo3ljtbeQ/iDQB8YDz4z8sILyPBiTkP7JI8uAXTOU/m7nyH/Pd4z8Uu2wqQfXeP4BoYpGRudc/yPN0CeKX0j+nN2k7IrbMP+z/VpFVOsU/L1jktgHIvz+qWtrCVn26PzUNeANGQ7c/6naglU4AtD+CbrOhMGKwP9xkhFLcOq0/zKrIG3LJrT/5JOJzSOatP0d2ljp3pK0/U6VlWFAOrT+Udd8BA+CqP7NPpFTyTKg/P0GhH78Xpj+U7h4I3+ejP4mZFTsua6E/Dg8sCmUonT/vY5/cwxmWP+k6sMNou4k/ADc/icUrhT9e53ST9/WUP6D2ctfGY6E/WIkwgBsiqT/61NzKRQ6xPzAcnS3/pbU/2xZlNsgkuj/iiWpb3ma+PzkvZxlWL8E/jM5kxZEDwz/YMFyAKqzEP3g/VSLcJsY/WxAltatrxz8A0cQiI3PIP+pgu4PxNsk/KEqd29+0yT97Ac1SePHJP5TPG7zp9ck/Fvr97l/RyT9vpjrLyZfJP2d9yjFZXMk/yg8BLJcyyT8tjD4wkRzJPy5eRakx38g/YdWsddoByD/IJUwgPhPGP2YOzWU4WMM/LbbmGqiEwD+Al758V6m7P17XoS32/bU/\",\"dtype\":\"float64\",\"shape\":[75]},\"y\":{\"__ndarray__\":\"GhExyth1ND/Sv8nbtpRIP2vylNV0PVE/aTum7souWD/At0SJ8fVgPw3Iuahxymc/MSNhhJWvcD/bTfBN02d3P2zb5nxnaoA/CD5h5MAGhz8NmeH1TyaQP+zrCsc9p5Y/LbKd76fGnz/bLW5ISEmmPww9YvTcQq8/JV2OstnstT8Er5Y7M8G+P0c+r3jqkcU/5h99k6ZBzj88bCIzFzjVP4enV8oyxN0//yH99nXg5D8qOpLLf0jtP5kqGJXUifQ/c9cS8kHP/D+/DpwzojQEQIEmwoanVwxA4lgXt9HgE0BSSZ2AJuIbQAMJih9jjiNA5q4l5INuK0AwTKYKRj0zQNv5fmq8/DpAaCJseHrtQkB/+zpwzoxKQM3MzMzMeFJAZmZmZmZqWEAAAAAAAFxeQM3MzMzMJmJAmpmZmZkfZUBmZmZmZhhoQDMzMzMzEWtAAAAAAAAKbkBmZmZmZoFwQM3MzMzM/XFAMzMzMzN6c0CamZmZmfZ0QAAAAAAAc3ZAZmZmZmbvd0DNzMzMzGt5QDMzMzMz6HpAmpmZmZlkfEAAAAAAAOF9QGZmZmZmXX9AZmZmZuZsgECamZmZGSuBQM3MzMxM6YFAAAAAAICngkAzMzMzs2WDQGZmZmbmI4RAmpmZmRnihEDNzMzMTKCFQAAAAACAXoZAMzMzM7Mch0BmZmZm5tqHQJqZmZkZmYhAzczMzExXiUAAAAAAgBWKQDMzMzOz04pAZmZmZuaRi0CamZmZGVCMQM3MzMxMDo1AAAAAAIDMjUAzMzMzs4qOQGZmZmbmSI9A\",\"dtype\":\"float64\",\"shape\":[75]}}},\"id\":\"c51adf5d-21db-4e6d-b9f2-5a179898ec1d\",\"type\":\"ColumnDataSource\"},{\"attributes\":{\"below\":[{\"id\":\"6357a0f5-34d6-44af-a80a-57837249d8ff\",\"type\":\"LinearAxis\"}],\"left\":[{\"id\":\"0d8e4944-2ef0-434f-b43d-26ac36b4ac3d\",\"type\":\"LinearAxis\"}],\"plot_height\":500,\"plot_width\":400,\"renderers\":[{\"id\":\"6357a0f5-34d6-44af-a80a-57837249d8ff\",\"type\":\"LinearAxis\"},{\"id\":\"b01b548c-03cb-4881-a0d2-cb78ce47cb35\",\"type\":\"Grid\"},{\"id\":\"0d8e4944-2ef0-434f-b43d-26ac36b4ac3d\",\"type\":\"LinearAxis\"},{\"id\":\"841682ab-619a-4b9a-b633-0cec9f5d6bd9\",\"type\":\"Grid\"},{\"id\":\"0835a046-6691-4703-b27c-f1d930574e0b\",\"type\":\"BoxAnnotation\"},{\"id\":\"f8e9eacd-134f-4084-871e-9dd6f2ebd195\",\"type\":\"GlyphRenderer\"},{\"id\":\"083bd23f-be4a-43e4-b696-92989ef14643\",\"type\":\"GlyphRenderer\"},{\"id\":\"1fab342b-8c3b-4e2e-8003-233cb5b96ff9\",\"type\":\"GlyphRenderer\"},{\"id\":\"c9e6d5a3-d693-42de-b238-b393e33af67d\",\"type\":\"GlyphRenderer\"},{\"id\":\"1d36c868-4012-4afd-a6a2-71146d765b0a\",\"type\":\"GlyphRenderer\"}],\"title\":{\"id\":\"f920bdc9-903d-4710-a3b5-c1580e50f7cf\",\"type\":\"Title\"},\"toolbar\":{\"id\":\"14a7088d-3e92-45c6-92a1-7d979a0d9592\",\"type\":\"Toolbar\"},\"toolbar_location\":null,\"x_range\":{\"id\":\"3e7b7834-8cac-45e3-81ac-9a2b6835ac3c\",\"type\":\"Range1d\"},\"x_scale\":{\"id\":\"dfcd6814-e628-41e4-9c3c-f43c868218f6\",\"type\":\"LinearScale\"},\"y_range\":{\"id\":\"18dc28ab-749b-4d95-a736-70710a5e51f3\",\"type\":\"Range1d\"},\"y_scale\":{\"id\":\"5ad65a21-3af5-4c01-be62-377dc90a8511\",\"type\":\"LinearScale\"}},\"id\":\"9d5f3c1d-15ba-4ec6-b69f-59bbc0048ca0\",\"subtype\":\"Figure\",\"type\":\"Plot\"},{\"attributes\":{\"data_source\":{\"id\":\"f3e43413-ead1-4545-9894-e4a74a91e778\",\"type\":\"ColumnDataSource\"},\"glyph\":{\"id\":\"87c5f830-132b-4a61-ab88-c395efb5dbb5\",\"type\":\"Line\"},\"hover_glyph\":null,\"muted_glyph\":null,\"nonselection_glyph\":{\"id\":\"9a19aeb8-5de0-4aa1-9a11-73df2e363b29\",\"type\":\"Line\"},\"selection_glyph\":null,\"view\":{\"id\":\"8c09521b-293d-48fc-bb1b-4d5079fb77cf\",\"type\":\"CDSView\"}},\"id\":\"d1ec01cb-6019-495d-8cae-1d49f2e3c7dd\",\"type\":\"GlyphRenderer\"},{\"attributes\":{},\"id\":\"5ad65a21-3af5-4c01-be62-377dc90a8511\",\"type\":\"LinearScale\"},{\"attributes\":{},\"id\":\"ea0b6765-f674-4513-b7e3-3d81e3e787d8\",\"type\":\"BasicTickFormatter\"},{\"attributes\":{},\"id\":\"53944766-4bb6-4029-963f-ce5e7ce9b9b0\",\"type\":\"SaveTool\"},{\"attributes\":{\"axis_label\":\"pressure [mb]\",\"formatter\":{\"id\":\"283075d2-e825-4ae2-87e3-abae847abc34\",\"type\":\"BasicTickFormatter\"},\"plot\":{\"id\":\"9d5f3c1d-15ba-4ec6-b69f-59bbc0048ca0\",\"subtype\":\"Figure\",\"type\":\"Plot\"},\"ticker\":{\"id\":\"7fc3c471-4000-4d54-81b1-eaf517baf2aa\",\"type\":\"BasicTicker\"}},\"id\":\"0d8e4944-2ef0-434f-b43d-26ac36b4ac3d\",\"type\":\"LinearAxis\"},{\"attributes\":{\"line_alpha\":0.6,\"line_color\":\"#e41a1c\",\"line_dash\":[6],\"line_width\":5,\"x\":{\"field\":\"x\"},\"y\":{\"field\":\"y\"}},\"id\":\"87c5f830-132b-4a61-ab88-c395efb5dbb5\",\"type\":\"Line\"},{\"attributes\":{\"overlay\":{\"id\":\"95d3215f-9c11-4e4b-a37d-e07632f0aea5\",\"type\":\"BoxAnnotation\"}},\"id\":\"cd619815-3a36-4b61-8516-6d25b719974d\",\"type\":\"BoxZoomTool\"},{\"attributes\":{\"callback\":null,\"column_names\":[\"x\",\"y\"],\"data\":{\"x\":{\"__ndarray__\":\"3ikVO7fczT88icbiUGLQP89XXizrQtU/fxCP5dl82j/QtbPYu/nfPyqck80LxuI/KPud3KWD5T/xBZi/YxToP8UqlDsiVeo/EDkBdgMf7D80fPJNJlDtP/e7JIxu1u0/VfKYHqC97T8qF89F6IzsP33+/yh/Eeo/ABrGWeh15z8nBP4yEJLlP4Fo3ljtbeQ/iDQB8YDz4z8sILyPBiTkP7JI8uAXTOU/m7nyH/Pd4z8Uu2wqQfXeP4BoYpGRudc/yPN0CeKX0j+nN2k7IrbMP+z/VpFVOsU/L1jktgHIvz+qWtrCVn26PzUNeANGQ7c/6naglU4AtD+CbrOhMGKwP9xkhFLcOq0/zKrIG3LJrT/5JOJzSOatP0d2ljp3pK0/U6VlWFAOrT+Udd8BA+CqP7NPpFTyTKg/P0GhH78Xpj+U7h4I3+ejP4mZFTsua6E/Dg8sCmUonT/vY5/cwxmWP+k6sMNou4k/ADc/icUrhT9e53ST9/WUP6D2ctfGY6E/WIkwgBsiqT/61NzKRQ6xPzAcnS3/pbU/2xZlNsgkuj/iiWpb3ma+PzkvZxlWL8E/jM5kxZEDwz/YMFyAKqzEP3g/VSLcJsY/WxAltatrxz8A0cQiI3PIP+pgu4PxNsk/KEqd29+0yT97Ac1SePHJP5TPG7zp9ck/Fvr97l/RyT9vpjrLyZfJP2d9yjFZXMk/yg8BLJcyyT8tjD4wkRzJPy5eRakx38g/YdWsddoByD/IJUwgPhPGP2YOzWU4WMM/LbbmGqiEwD+Al758V6m7P17XoS32/bU/\",\"dtype\":\"float64\",\"shape\":[75]},\"y\":{\"__ndarray__\":\"GhExyth1ND/Sv8nbtpRIP2vylNV0PVE/aTum7souWD/At0SJ8fVgPw3Iuahxymc/MSNhhJWvcD/bTfBN02d3P2zb5nxnaoA/CD5h5MAGhz8NmeH1TyaQP+zrCsc9p5Y/LbKd76fGnz/bLW5ISEmmPww9YvTcQq8/JV2OstnstT8Er5Y7M8G+P0c+r3jqkcU/5h99k6ZBzj88bCIzFzjVP4enV8oyxN0//yH99nXg5D8qOpLLf0jtP5kqGJXUifQ/c9cS8kHP/D+/DpwzojQEQIEmwoanVwxA4lgXt9HgE0BSSZ2AJuIbQAMJih9jjiNA5q4l5INuK0AwTKYKRj0zQNv5fmq8/DpAaCJseHrtQkB/+zpwzoxKQM3MzMzMeFJAZmZmZmZqWEAAAAAAAFxeQM3MzMzMJmJAmpmZmZkfZUBmZmZmZhhoQDMzMzMzEWtAAAAAAAAKbkBmZmZmZoFwQM3MzMzM/XFAMzMzMzN6c0CamZmZmfZ0QAAAAAAAc3ZAZmZmZmbvd0DNzMzMzGt5QDMzMzMz6HpAmpmZmZlkfEAAAAAAAOF9QGZmZmZmXX9AZmZmZuZsgECamZmZGSuBQM3MzMxM6YFAAAAAAICngkAzMzMzs2WDQGZmZmbmI4RAmpmZmRnihEDNzMzMTKCFQAAAAACAXoZAMzMzM7Mch0BmZmZm5tqHQJqZmZkZmYhAzczMzExXiUAAAAAAgBWKQDMzMzOz04pAZmZmZuaRi0CamZmZGVCMQM3MzMxMDo1AAAAAAIDMjUAzMzMzs4qOQGZmZmbmSI9A\",\"dtype\":\"float64\",\"shape\":[75]}}},\"id\":\"be85ec97-5c28-4cfb-bf92-a9c64b5eb3d7\",\"type\":\"ColumnDataSource\"},{\"attributes\":{\"dimension\":1,\"plot\":{\"id\":\"9d5f3c1d-15ba-4ec6-b69f-59bbc0048ca0\",\"subtype\":\"Figure\",\"type\":\"Plot\"},\"ticker\":{\"id\":\"7fc3c471-4000-4d54-81b1-eaf517baf2aa\",\"type\":\"BasicTicker\"}},\"id\":\"841682ab-619a-4b9a-b633-0cec9f5d6bd9\",\"type\":\"Grid\"},{\"attributes\":{\"plot\":{\"id\":\"9d5f3c1d-15ba-4ec6-b69f-59bbc0048ca0\",\"subtype\":\"Figure\",\"type\":\"Plot\"},\"ticker\":{\"id\":\"7562b29d-f8ff-4453-87bd-476190112011\",\"type\":\"BasicTicker\"}},\"id\":\"b01b548c-03cb-4881-a0d2-cb78ce47cb35\",\"type\":\"Grid\"},{\"attributes\":{\"line_alpha\":0.1,\"line_color\":\"#1f77b4\",\"line_width\":1.5,\"x\":{\"field\":\"x\"},\"y\":{\"field\":\"y\"}},\"id\":\"e981904a-d512-4767-a989-439a75bceba4\",\"type\":\"Line\"},{\"attributes\":{\"ticker\":null},\"id\":\"cafefcf9-3b82-448d-8efd-861d0a6677b9\",\"type\":\"LogTickFormatter\"},{\"attributes\":{\"fill_alpha\":{\"value\":0.7},\"fill_color\":{\"value\":\"#4daf4a\"},\"line_alpha\":{\"value\":0.7},\"line_color\":{\"value\":\"#4daf4a\"},\"x\":{\"field\":\"x\"},\"y\":{\"field\":\"y\"}},\"id\":\"58bec569-5745-4494-9608-ab0615c9abee\",\"type\":\"Circle\"},{\"attributes\":{\"source\":{\"id\":\"be85ec97-5c28-4cfb-bf92-a9c64b5eb3d7\",\"type\":\"ColumnDataSource\"}},\"id\":\"aa595506-621a-450b-a827-3bbdef29016c\",\"type\":\"CDSView\"}],\"root_ids\":[\"9c7cbe81-d90c-4c65-8a26-17a65ba65c1a\"]},\"title\":\"Bokeh Application\",\"version\":\"0.12.14\"}};\n",
       "  var render_items = [{\"docid\":\"4d0bef8b-ae8a-4fc3-aa89-773b315b17d5\",\"elementid\":\"c5ffc86e-c334-4b9f-9a1e-a28a43e5a8c5\",\"modelid\":\"9c7cbe81-d90c-4c65-8a26-17a65ba65c1a\"}];\n",
       "  root.Bokeh.embed.embed_items_notebook(docs_json, render_items);\n",
       "\n",
       "  }\n",
       "  if (root.Bokeh !== undefined) {\n",
       "    embed_document(root);\n",
       "  } else {\n",
       "    var attempts = 0;\n",
       "    var timer = setInterval(function(root) {\n",
       "      if (root.Bokeh !== undefined) {\n",
       "        embed_document(root);\n",
       "        clearInterval(timer);\n",
       "      }\n",
       "      attempts++;\n",
       "      if (attempts > 100) {\n",
       "        console.log(\"Bokeh: ERROR: Unable to run BokehJS code because BokehJS library is missing\")\n",
       "        clearInterval(timer);\n",
       "      }\n",
       "    }, 10, root)\n",
       "  }\n",
       "})(window);"
      ],
      "application/vnd.bokehjs_exec.v0+json": ""
     },
     "metadata": {
      "application/vnd.bokehjs_exec.v0+json": {
       "id": "9c7cbe81-d90c-4c65-8a26-17a65ba65c1a"
      }
     },
     "output_type": "display_data"
    },
    {
     "name": "stdout",
     "output_type": "stream",
     "text": [
      "FIGURE. Cooling rate profiles.\n"
     ]
    },
    {
     "data": {
      "text/html": [
       "<a id=\"Flux_Comparison\"></a>"
      ],
      "text/plain": [
       "<IPython.core.display.HTML object>"
      ]
     },
     "metadata": {},
     "output_type": "display_data"
    },
    {
     "data": {
      "text/markdown": [
       "# Flux Comparison"
      ],
      "text/plain": [
       "<IPython.core.display.Markdown object>"
      ]
     },
     "metadata": {},
     "output_type": "display_data"
    },
    {
     "data": {
      "text/html": [
       "<div>\n",
       "<style>\n",
       "    .dataframe thead tr:only-child th {\n",
       "        text-align: right;\n",
       "    }\n",
       "\n",
       "    .dataframe thead th {\n",
       "        text-align: left;\n",
       "    }\n",
       "\n",
       "    .dataframe tbody tr th {\n",
       "        vertical-align: top;\n",
       "    }\n",
       "</style>\n",
       "<table border=\"1\" class=\"dataframe\">\n",
       "  <thead>\n",
       "    <tr style=\"text-align: right;\">\n",
       "      <th></th>\n",
       "      <th></th>\n",
       "      <th>flug</th>\n",
       "      <th>fldg</th>\n",
       "      <th>fnetg</th>\n",
       "    </tr>\n",
       "    <tr>\n",
       "      <th>pressure</th>\n",
       "      <th>level</th>\n",
       "      <th></th>\n",
       "      <th></th>\n",
       "      <th></th>\n",
       "    </tr>\n",
       "  </thead>\n",
       "  <tbody>\n",
       "    <tr>\n",
       "      <th>0.0000</th>\n",
       "      <th>1</th>\n",
       "      <td>-19.649536</td>\n",
       "      <td>0.000000</td>\n",
       "      <td>-19.649536</td>\n",
       "    </tr>\n",
       "    <tr>\n",
       "      <th>1.0685</th>\n",
       "      <th>24</th>\n",
       "      <td>-19.634852</td>\n",
       "      <td>0.057933</td>\n",
       "      <td>-19.576918</td>\n",
       "    </tr>\n",
       "    <tr>\n",
       "      <th>1013.0000</th>\n",
       "      <th>76</th>\n",
       "      <td>-23.591138</td>\n",
       "      <td>17.313984</td>\n",
       "      <td>-6.277154</td>\n",
       "    </tr>\n",
       "  </tbody>\n",
       "</table>\n",
       "</div>"
      ],
      "text/plain": [
       "                      flug       fldg      fnetg\n",
       "pressure  level                                 \n",
       "0.0000    1     -19.649536   0.000000 -19.649536\n",
       "1.0685    24    -19.634852   0.057933 -19.576918\n",
       "1013.0000 76    -23.591138  17.313984  -6.277154"
      ]
     },
     "metadata": {},
     "output_type": "display_data"
    },
    {
     "name": "stdout",
     "output_type": "stream",
     "text": [
      "Table. Fluxes. WGT igg=10 wgt_flux=1\n"
     ]
    },
    {
     "data": {
      "text/html": [
       "<div>\n",
       "<style>\n",
       "    .dataframe thead tr:only-child th {\n",
       "        text-align: right;\n",
       "    }\n",
       "\n",
       "    .dataframe thead th {\n",
       "        text-align: left;\n",
       "    }\n",
       "\n",
       "    .dataframe tbody tr th {\n",
       "        vertical-align: top;\n",
       "    }\n",
       "</style>\n",
       "<table border=\"1\" class=\"dataframe\">\n",
       "  <thead>\n",
       "    <tr style=\"text-align: right;\">\n",
       "      <th></th>\n",
       "      <th></th>\n",
       "      <th>flug</th>\n",
       "      <th>fldg</th>\n",
       "      <th>fnetg</th>\n",
       "    </tr>\n",
       "    <tr>\n",
       "      <th>pressure</th>\n",
       "      <th>level</th>\n",
       "      <th></th>\n",
       "      <th></th>\n",
       "      <th></th>\n",
       "    </tr>\n",
       "  </thead>\n",
       "  <tbody>\n",
       "    <tr>\n",
       "      <th>0.0000</th>\n",
       "      <th>1</th>\n",
       "      <td>-19.706173</td>\n",
       "      <td>0.000000</td>\n",
       "      <td>-19.706173</td>\n",
       "    </tr>\n",
       "    <tr>\n",
       "      <th>1.0685</th>\n",
       "      <th>24</th>\n",
       "      <td>-19.690942</td>\n",
       "      <td>0.062001</td>\n",
       "      <td>-19.628941</td>\n",
       "    </tr>\n",
       "    <tr>\n",
       "      <th>1013.0000</th>\n",
       "      <th>76</th>\n",
       "      <td>-23.591138</td>\n",
       "      <td>17.722380</td>\n",
       "      <td>-5.868758</td>\n",
       "    </tr>\n",
       "  </tbody>\n",
       "</table>\n",
       "</div>"
      ],
      "text/plain": [
       "                      flug       fldg      fnetg\n",
       "pressure  level                                 \n",
       "0.0000    1     -19.706173   0.000000 -19.706173\n",
       "1.0685    24    -19.690942   0.062001 -19.628941\n",
       "1013.0000 76    -23.591138  17.722380  -5.868758"
      ]
     },
     "metadata": {},
     "output_type": "display_data"
    },
    {
     "name": "stdout",
     "output_type": "stream",
     "text": [
      "Table. Fluxes. CRD\n"
     ]
    },
    {
     "data": {
      "text/html": [
       "<div>\n",
       "<style>\n",
       "    .dataframe thead tr:only-child th {\n",
       "        text-align: right;\n",
       "    }\n",
       "\n",
       "    .dataframe thead th {\n",
       "        text-align: left;\n",
       "    }\n",
       "\n",
       "    .dataframe tbody tr th {\n",
       "        vertical-align: top;\n",
       "    }\n",
       "</style>\n",
       "<table border=\"1\" class=\"dataframe\">\n",
       "  <thead>\n",
       "    <tr style=\"text-align: right;\">\n",
       "      <th></th>\n",
       "      <th></th>\n",
       "      <th>flug</th>\n",
       "      <th>fldg</th>\n",
       "      <th>fnetg</th>\n",
       "    </tr>\n",
       "    <tr>\n",
       "      <th>pressure</th>\n",
       "      <th>level</th>\n",
       "      <th></th>\n",
       "      <th></th>\n",
       "      <th></th>\n",
       "    </tr>\n",
       "  </thead>\n",
       "  <tbody>\n",
       "    <tr>\n",
       "      <th>1.000000e-08</th>\n",
       "      <th>1</th>\n",
       "      <td>-19.771149</td>\n",
       "      <td>0.000002</td>\n",
       "      <td>-19.771147</td>\n",
       "    </tr>\n",
       "    <tr>\n",
       "      <th>1.068500e+00</th>\n",
       "      <th>24</th>\n",
       "      <td>-19.756754</td>\n",
       "      <td>0.055120</td>\n",
       "      <td>-19.701633</td>\n",
       "    </tr>\n",
       "    <tr>\n",
       "      <th>1.013000e+03</th>\n",
       "      <th>76</th>\n",
       "      <td>-23.591141</td>\n",
       "      <td>17.209627</td>\n",
       "      <td>-6.381514</td>\n",
       "    </tr>\n",
       "  </tbody>\n",
       "</table>\n",
       "</div>"
      ],
      "text/plain": [
       "                         flug       fldg      fnetg\n",
       "pressure     level                                 \n",
       "1.000000e-08 1     -19.771149   0.000002 -19.771147\n",
       "1.068500e+00 24    -19.756754   0.055120 -19.701633\n",
       "1.013000e+03 76    -23.591141  17.209627  -6.381514"
      ]
     },
     "metadata": {},
     "output_type": "display_data"
    },
    {
     "name": "stdout",
     "output_type": "stream",
     "text": [
      "Table. Fluxes. CLIRAD\n"
     ]
    },
    {
     "data": {
      "text/html": [
       "<div>\n",
       "<style>\n",
       "    .dataframe thead tr:only-child th {\n",
       "        text-align: right;\n",
       "    }\n",
       "\n",
       "    .dataframe thead th {\n",
       "        text-align: left;\n",
       "    }\n",
       "\n",
       "    .dataframe tbody tr th {\n",
       "        vertical-align: top;\n",
       "    }\n",
       "</style>\n",
       "<table border=\"1\" class=\"dataframe\">\n",
       "  <thead>\n",
       "    <tr style=\"text-align: right;\">\n",
       "      <th></th>\n",
       "      <th></th>\n",
       "      <th>flug</th>\n",
       "      <th>fldg</th>\n",
       "      <th>fnetg</th>\n",
       "    </tr>\n",
       "    <tr>\n",
       "      <th>pressure</th>\n",
       "      <th>level</th>\n",
       "      <th></th>\n",
       "      <th></th>\n",
       "      <th></th>\n",
       "    </tr>\n",
       "  </thead>\n",
       "  <tbody>\n",
       "    <tr>\n",
       "      <th>0.0000</th>\n",
       "      <th>1</th>\n",
       "      <td>-0.056637</td>\n",
       "      <td>0.000000</td>\n",
       "      <td>-0.056637</td>\n",
       "    </tr>\n",
       "    <tr>\n",
       "      <th>1.0685</th>\n",
       "      <th>24</th>\n",
       "      <td>-0.056090</td>\n",
       "      <td>0.004068</td>\n",
       "      <td>-0.052023</td>\n",
       "    </tr>\n",
       "    <tr>\n",
       "      <th>1013.0000</th>\n",
       "      <th>76</th>\n",
       "      <td>0.000000</td>\n",
       "      <td>0.408396</td>\n",
       "      <td>0.408396</td>\n",
       "    </tr>\n",
       "  </tbody>\n",
       "</table>\n",
       "</div>"
      ],
      "text/plain": [
       "                     flug      fldg     fnetg\n",
       "pressure  level                              \n",
       "0.0000    1     -0.056637  0.000000 -0.056637\n",
       "1.0685    24    -0.056090  0.004068 -0.052023\n",
       "1013.0000 76     0.000000  0.408396  0.408396"
      ]
     },
     "metadata": {},
     "output_type": "display_data"
    },
    {
     "name": "stdout",
     "output_type": "stream",
     "text": [
      "Table. Fluxes. (CRD) - (WGT igg=10 wgt_flux=1)\n"
     ]
    },
    {
     "data": {
      "text/html": [
       "<div>\n",
       "<style>\n",
       "    .dataframe thead tr:only-child th {\n",
       "        text-align: right;\n",
       "    }\n",
       "\n",
       "    .dataframe thead th {\n",
       "        text-align: left;\n",
       "    }\n",
       "\n",
       "    .dataframe tbody tr th {\n",
       "        vertical-align: top;\n",
       "    }\n",
       "</style>\n",
       "<table border=\"1\" class=\"dataframe\">\n",
       "  <thead>\n",
       "    <tr style=\"text-align: right;\">\n",
       "      <th></th>\n",
       "      <th></th>\n",
       "      <th>flug</th>\n",
       "      <th>fldg</th>\n",
       "      <th>fnetg</th>\n",
       "    </tr>\n",
       "    <tr>\n",
       "      <th>pressure</th>\n",
       "      <th>level</th>\n",
       "      <th></th>\n",
       "      <th></th>\n",
       "      <th></th>\n",
       "    </tr>\n",
       "  </thead>\n",
       "  <tbody>\n",
       "    <tr>\n",
       "      <th>0.0000</th>\n",
       "      <th>1</th>\n",
       "      <td>-0.121613</td>\n",
       "      <td>0.000002</td>\n",
       "      <td>-0.121611</td>\n",
       "    </tr>\n",
       "    <tr>\n",
       "      <th>1.0685</th>\n",
       "      <th>24</th>\n",
       "      <td>-0.121902</td>\n",
       "      <td>-0.002813</td>\n",
       "      <td>-0.124715</td>\n",
       "    </tr>\n",
       "    <tr>\n",
       "      <th>1013.0000</th>\n",
       "      <th>76</th>\n",
       "      <td>-0.000003</td>\n",
       "      <td>-0.104357</td>\n",
       "      <td>-0.104360</td>\n",
       "    </tr>\n",
       "  </tbody>\n",
       "</table>\n",
       "</div>"
      ],
      "text/plain": [
       "                     flug      fldg     fnetg\n",
       "pressure  level                              \n",
       "0.0000    1     -0.121613  0.000002 -0.121611\n",
       "1.0685    24    -0.121902 -0.002813 -0.124715\n",
       "1013.0000 76    -0.000003 -0.104357 -0.104360"
      ]
     },
     "metadata": {},
     "output_type": "display_data"
    },
    {
     "name": "stdout",
     "output_type": "stream",
     "text": [
      "Table. Fluxes. (CLIRAD) - (WGT igg=10 wgt_flux=1)\n"
     ]
    },
    {
     "data": {
      "text/html": [
       "<a id=\"Best-fit_Parameters\"></a>"
      ],
      "text/plain": [
       "<IPython.core.display.HTML object>"
      ]
     },
     "metadata": {},
     "output_type": "display_data"
    },
    {
     "data": {
      "text/markdown": [
       "# Best-fit Parameters"
      ],
      "text/plain": [
       "<IPython.core.display.Markdown object>"
      ]
     },
     "metadata": {},
     "output_type": "display_data"
    },
    {
     "name": "stdout",
     "output_type": "stream",
     "text": [
      "Best-fit values for each (gas, band)\n",
      "------------------------------------\n",
      "o co2 band3a\n",
      "  atmpro = mls\n",
      "  band = 3a\n",
      "  commitnumber = 2bd1f75\n",
      "  conc = 0.0004\n",
      "  dv = 0.01\n",
      "  klin = 6.375563e-24\n",
      "  molecule = co2\n",
      "  ng_adju = [0, 0, 0]\n",
      "  ng_refs = [3, 2, 4]\n",
      "  nv = 100\n",
      "  option_compute_btable = 0\n",
      "  option_compute_ktable = 1\n",
      "  option_wgt_flux = 1\n",
      "  option_wgt_k = 1\n",
      "  ref_pts = [(1, 250), (10, 250), (500, 250)]\n",
      "  tsfc = 294\n",
      "  vmax = 620\n",
      "  vmin = 540\n",
      "  w_diffuse = [(1.6, 1.6, 1.7), (1.75, 1.75), (1.55, 1.55, 1.6, 1.85)]\n",
      "  wgt = [(0.7, 0.3, 0.7), (0.7, 0.6), (0.4, 0.5, 0.8, 0.95)]\n",
      "o h2o band3a\n",
      "  atmpro = mls\n",
      "  band = 3a\n",
      "  commitnumber = 2bd1f75\n",
      "  conc = None\n",
      "  dv = 0.01\n",
      "  klin = 0\n",
      "  molecule = h2o\n",
      "  ng_adju = [0, 0]\n",
      "  ng_refs = [2, 6]\n",
      "  nv = 100\n",
      "  option_compute_btable = 0\n",
      "  option_compute_ktable = 1\n",
      "  option_wgt_flux = 1\n",
      "  option_wgt_k = 1\n",
      "  ref_pts = [(10, 250), (600, 250)]\n",
      "  tsfc = 294\n",
      "  vmax = 620\n",
      "  vmin = 540\n",
      "  w_diffuse = [(1.9, 1.7), (1.4, 1.4, 1.4, 1.55, 1.6, 1.66)]\n",
      "  wgt = [(0.7, 0.7), (0.7, 0.5, 0.5, 0.5, 0.5, 0.5)]\n",
      "o n2o band3a\n",
      "  atmpro = mls\n",
      "  band = 3a\n",
      "  commitnumber = 2bd1f75\n",
      "  conc = 3.2e-07\n",
      "  dv = 0.01\n",
      "  klin = 2.22e-20\n",
      "  molecule = n2o\n",
      "  ng_adju = [0, 0]\n",
      "  ng_refs = [1, 2]\n",
      "  nv = 100\n",
      "  option_compute_btable = 0\n",
      "  option_compute_ktable = 1\n",
      "  option_wgt_flux = 1\n",
      "  option_wgt_k = 1\n",
      "  ref_pts = [(1, 250), (500, 250)]\n",
      "  tsfc = 294\n",
      "  vmax = 620\n",
      "  vmin = 540\n",
      "  w_diffuse = [(1.8,), (1.66, 1.8)]\n",
      "  wgt = [(0.9,), (0.5, 0.95)]\n"
     ]
    }
   ],
   "source": [
    "script()"
   ]
  },
  {
   "cell_type": "code",
   "execution_count": 13,
   "metadata": {
    "collapsed": true
   },
   "outputs": [
    {
     "data": {
      "text/html": [
       "<script>\n",
       "code_show=true; \n",
       "function code_toggle() {\n",
       " if (code_show){\n",
       " $('div.input').hide();\n",
       " } else {\n",
       " $('div.input').show();\n",
       " }\n",
       " code_show = !code_show\n",
       "} \n",
       "$( document ).ready(code_toggle);\n",
       "</script>\n",
       "<form action=\"javascript:code_toggle()\"><input type=\"submit\" value=\"Click here to toggle on/off the raw code.\"></form>"
      ],
      "text/plain": [
       "<IPython.core.display.HTML object>"
      ]
     },
     "execution_count": 13,
     "metadata": {},
     "output_type": "execute_result"
    }
   ],
   "source": [
    "display.HTML('''<script>\n",
    "code_show=true; \n",
    "function code_toggle() {\n",
    " if (code_show){\n",
    " $('div.input').hide();\n",
    " } else {\n",
    " $('div.input').show();\n",
    " }\n",
    " code_show = !code_show\n",
    "} \n",
    "$( document ).ready(code_toggle);\n",
    "</script>\n",
    "<form action=\"javascript:code_toggle()\"><input type=\"submit\" value=\"Click here to toggle on/off the raw code.\"></form>''')"
   ]
  }
 ],
 "metadata": {
  "kernelspec": {
   "display_name": "Python 3",
   "language": "python",
   "name": "python3"
  },
  "language_info": {
   "codemirror_mode": {
    "name": "ipython",
    "version": 3
   },
   "file_extension": ".py",
   "mimetype": "text/x-python",
   "name": "python",
   "nbconvert_exporter": "python",
   "pygments_lexer": "ipython3",
   "version": "3.6.1"
  }
 },
 "nbformat": 4,
 "nbformat_minor": 2
}
