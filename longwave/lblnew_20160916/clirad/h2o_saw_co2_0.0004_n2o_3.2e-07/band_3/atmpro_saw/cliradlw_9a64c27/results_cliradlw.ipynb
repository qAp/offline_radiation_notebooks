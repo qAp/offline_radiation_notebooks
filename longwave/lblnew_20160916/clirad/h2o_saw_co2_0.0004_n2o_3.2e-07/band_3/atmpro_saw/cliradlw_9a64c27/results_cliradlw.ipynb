{
 "cells": [
  {
   "cell_type": "code",
   "execution_count": 1,
   "metadata": {
    "collapsed": true
   },
   "outputs": [],
   "source": [
    "%matplotlib inline\n",
    "import os\n",
    "import re\n",
    "import io\n",
    "import itertools\n",
    "import pprint\n",
    "\n",
    "from bokeh.io import output_notebook, show\n",
    "from bokeh.layouts import gridplot\n",
    "from bokeh.plotting import figure\n",
    "from bokeh.models import Range1d, Legend\n",
    "from bokeh.palettes import all_palettes\n",
    "\n",
    "import matplotlib\n",
    "import matplotlib.pyplot as plt\n",
    "import numpy as np\n",
    "import pandas as pd\n",
    "import xarray as xr\n",
    "\n",
    "import climatools.lblnew.bestfit_params as bestfits\n",
    "from climatools.lblnew import setup_bestfit, setup_overlap\n",
    "import climatools.lblnew.pipeline as pipe_lblnew\n",
    "import climatools.cliradlw.setup as setup_cliradlw\n",
    "import climatools.cliradlw.pipeline as pipe_cliradlw\n",
    "\n",
    "import climatools.html.html as climahtml\n",
    "from climatools.lblnew.dataio import *\n",
    "from climatools.plot.plot import *\n",
    "\n",
    "\n",
    "import IPython.display as display"
   ]
  },
  {
   "cell_type": "code",
   "execution_count": 2,
   "metadata": {
    "collapsed": true
   },
   "outputs": [],
   "source": [
    "%run param.py"
   ]
  },
  {
   "cell_type": "code",
   "execution_count": 3,
   "metadata": {
    "collapsed": true
   },
   "outputs": [],
   "source": [
    "def load_output_file(path_csv):\n",
    "    '''\n",
    "    Load lblnew output .csv file to xarray.Dataset\n",
    "    \n",
    "    Parameters\n",
    "    ----------\n",
    "    path_csv: str\n",
    "              Path to the .csv file to be loaded.\n",
    "    ds: xarray.Dataset\n",
    "        Data in the input file in the form of an xarray.Dataset.\n",
    "    '''\n",
    "    toindex = ['band', 'pressure', 'igg', 'g']    \n",
    "    df = pd.read_csv(path_csv, sep=r'\\s+')\n",
    "    df = df.set_index([i for i in toindex if i in df.columns])\n",
    "    df = df.rename(columns={'sfu': 'flug',\n",
    "                            'sfd': 'fldg',\n",
    "                            'fnet': 'fnetg',\n",
    "                            'coolr': 'coolrg'})\n",
    "    ds = xr.Dataset.from_dataframe(df)\n",
    "\n",
    "    for l in ('level', 'layer'):\n",
    "        if l in ds.data_vars:\n",
    "            if len(ds[l].dims) > 1:\n",
    "                surface = {d: 0 for d in ds.dims if d != 'pressure'}\n",
    "                coord_level = ds[l][surface]\n",
    "                ds.coords[l] = ('pressure', coord_level)\n",
    "            else:\n",
    "                ds.coords[l] = ('pressure', ds[l])\n",
    "    \n",
    "    return ds"
   ]
  },
  {
   "cell_type": "code",
   "execution_count": 4,
   "metadata": {
    "collapsed": true
   },
   "outputs": [],
   "source": [
    "def lblnew_setup(param=None):\n",
    "    if 'ng_refs' in param:\n",
    "        return {'setup': setup_bestfit,\n",
    "                'fname_flux_crd': 'output_flux.dat',\n",
    "                'fname_cool_crd': 'output_coolr.dat',\n",
    "                'fname_flux_wgt': 'output_wfluxg.dat',\n",
    "                'fname_cool_wgt': 'output_wcoolrg.dat'}\n",
    "    else:\n",
    "        return {'setup': setup_overlap,\n",
    "                'fname_flux_crd': 'output_flux.dat',\n",
    "                'fname_cool_crd': 'output_coolr.dat',\n",
    "                'fname_flux_wgt': 'output_wflux.dat',\n",
    "                'fname_cool_wgt': 'output_wcoolr.dat'}\n",
    "\n",
    "    \n",
    "def load_lblnew_data(param):\n",
    "    \n",
    "    fname_dsname = [('fname_flux_crd', 'ds_flux_crd'),\n",
    "                    ('fname_cool_crd', 'ds_cool_crd'),\n",
    "                    ('fname_flux_wgt', 'ds_flux_wgt'),\n",
    "                    ('fname_cool_wgt', 'ds_cool_wgt')]\n",
    "    \n",
    "    d = lblnew_setup(param)\n",
    "    dir_fortran = pipe_lblnew.get_dir_case(param, setup=d['setup'])\n",
    "    \n",
    "    data_dict = {}\n",
    "    for fname, dsname in fname_dsname:\n",
    "        fpath = os.path.join(dir_fortran, d[fname])\n",
    "        data_dict[dsname] = load_output_file(fpath)\n",
    "    return data_dict\n",
    "    \n",
    "\n",
    "    \n",
    "    "
   ]
  },
  {
   "cell_type": "code",
   "execution_count": 5,
   "metadata": {
    "collapsed": true
   },
   "outputs": [],
   "source": [
    "d = load_lblnew_data(PARAM_LBLNEW)\n",
    "\n",
    "DS_FLUX_CRD = d['ds_flux_crd']\n",
    "DS_COOL_CRD = d['ds_cool_crd']\n",
    "DS_FLUX_WGT = d['ds_flux_wgt']\n",
    "DS_COOL_WGT = d['ds_cool_wgt']"
   ]
  },
  {
   "cell_type": "code",
   "execution_count": 6,
   "metadata": {
    "collapsed": true
   },
   "outputs": [],
   "source": [
    "DIR_FORTRAN = pipe_cliradlw.get_fortran_dir(PARAM, \n",
    "                                            setup=setup_cliradlw)\n",
    "\n",
    "PATH_FLUX = os.path.join(DIR_FORTRAN, 'output_flux.dat')\n",
    "PATH_COOL = os.path.join(DIR_FORTRAN, 'output_coolr.dat')\n",
    "\n",
    "DS_FLUX = load_output_file(PATH_FLUX)\n",
    "DS_COOL = load_output_file(PATH_COOL)"
   ]
  },
  {
   "cell_type": "code",
   "execution_count": 7,
   "metadata": {
    "collapsed": true
   },
   "outputs": [
    {
     "data": {
      "text/html": [
       "\n",
       "    <div class=\"bk-root\">\n",
       "        <a href=\"https://bokeh.pydata.org\" target=\"_blank\" class=\"bk-logo bk-logo-small bk-logo-notebook\"></a>\n",
       "        <span id=\"842156d6-0083-4e3c-96a1-b9f43004baa0\">Loading BokehJS ...</span>\n",
       "    </div>"
      ]
     },
     "metadata": {},
     "output_type": "display_data"
    },
    {
     "data": {
      "application/javascript": [
       "\n",
       "(function(root) {\n",
       "  function now() {\n",
       "    return new Date();\n",
       "  }\n",
       "\n",
       "  var force = true;\n",
       "\n",
       "  if (typeof (root._bokeh_onload_callbacks) === \"undefined\" || force === true) {\n",
       "    root._bokeh_onload_callbacks = [];\n",
       "    root._bokeh_is_loading = undefined;\n",
       "  }\n",
       "\n",
       "  var JS_MIME_TYPE = 'application/javascript';\n",
       "  var HTML_MIME_TYPE = 'text/html';\n",
       "  var EXEC_MIME_TYPE = 'application/vnd.bokehjs_exec.v0+json';\n",
       "  var CLASS_NAME = 'output_bokeh rendered_html';\n",
       "\n",
       "  /**\n",
       "   * Render data to the DOM node\n",
       "   */\n",
       "  function render(props, node) {\n",
       "    var script = document.createElement(\"script\");\n",
       "    node.appendChild(script);\n",
       "  }\n",
       "\n",
       "  /**\n",
       "   * Handle when an output is cleared or removed\n",
       "   */\n",
       "  function handleClearOutput(event, handle) {\n",
       "    var cell = handle.cell;\n",
       "\n",
       "    var id = cell.output_area._bokeh_element_id;\n",
       "    var server_id = cell.output_area._bokeh_server_id;\n",
       "    // Clean up Bokeh references\n",
       "    if (id !== undefined) {\n",
       "      Bokeh.index[id].model.document.clear();\n",
       "      delete Bokeh.index[id];\n",
       "    }\n",
       "\n",
       "    if (server_id !== undefined) {\n",
       "      // Clean up Bokeh references\n",
       "      var cmd = \"from bokeh.io.state import curstate; print(curstate().uuid_to_server['\" + server_id + \"'].get_sessions()[0].document.roots[0]._id)\";\n",
       "      cell.notebook.kernel.execute(cmd, {\n",
       "        iopub: {\n",
       "          output: function(msg) {\n",
       "            var element_id = msg.content.text.trim();\n",
       "            Bokeh.index[element_id].model.document.clear();\n",
       "            delete Bokeh.index[element_id];\n",
       "          }\n",
       "        }\n",
       "      });\n",
       "      // Destroy server and session\n",
       "      var cmd = \"import bokeh.io.notebook as ion; ion.destroy_server('\" + server_id + \"')\";\n",
       "      cell.notebook.kernel.execute(cmd);\n",
       "    }\n",
       "  }\n",
       "\n",
       "  /**\n",
       "   * Handle when a new output is added\n",
       "   */\n",
       "  function handleAddOutput(event, handle) {\n",
       "    var output_area = handle.output_area;\n",
       "    var output = handle.output;\n",
       "\n",
       "    // limit handleAddOutput to display_data with EXEC_MIME_TYPE content only\n",
       "    if ((output.output_type != \"display_data\") || (!output.data.hasOwnProperty(EXEC_MIME_TYPE))) {\n",
       "      return\n",
       "    }\n",
       "\n",
       "    var toinsert = output_area.element.find(\".\" + CLASS_NAME.split(' ')[0]);\n",
       "\n",
       "    if (output.metadata[EXEC_MIME_TYPE][\"id\"] !== undefined) {\n",
       "      toinsert[0].firstChild.textContent = output.data[JS_MIME_TYPE];\n",
       "      // store reference to embed id on output_area\n",
       "      output_area._bokeh_element_id = output.metadata[EXEC_MIME_TYPE][\"id\"];\n",
       "    }\n",
       "    if (output.metadata[EXEC_MIME_TYPE][\"server_id\"] !== undefined) {\n",
       "      var bk_div = document.createElement(\"div\");\n",
       "      bk_div.innerHTML = output.data[HTML_MIME_TYPE];\n",
       "      var script_attrs = bk_div.children[0].attributes;\n",
       "      for (var i = 0; i < script_attrs.length; i++) {\n",
       "        toinsert[0].firstChild.setAttribute(script_attrs[i].name, script_attrs[i].value);\n",
       "      }\n",
       "      // store reference to server id on output_area\n",
       "      output_area._bokeh_server_id = output.metadata[EXEC_MIME_TYPE][\"server_id\"];\n",
       "    }\n",
       "  }\n",
       "\n",
       "  function register_renderer(events, OutputArea) {\n",
       "\n",
       "    function append_mime(data, metadata, element) {\n",
       "      // create a DOM node to render to\n",
       "      var toinsert = this.create_output_subarea(\n",
       "        metadata,\n",
       "        CLASS_NAME,\n",
       "        EXEC_MIME_TYPE\n",
       "      );\n",
       "      this.keyboard_manager.register_events(toinsert);\n",
       "      // Render to node\n",
       "      var props = {data: data, metadata: metadata[EXEC_MIME_TYPE]};\n",
       "      render(props, toinsert[0]);\n",
       "      element.append(toinsert);\n",
       "      return toinsert\n",
       "    }\n",
       "\n",
       "    /* Handle when an output is cleared or removed */\n",
       "    events.on('clear_output.CodeCell', handleClearOutput);\n",
       "    events.on('delete.Cell', handleClearOutput);\n",
       "\n",
       "    /* Handle when a new output is added */\n",
       "    events.on('output_added.OutputArea', handleAddOutput);\n",
       "\n",
       "    /**\n",
       "     * Register the mime type and append_mime function with output_area\n",
       "     */\n",
       "    OutputArea.prototype.register_mime_type(EXEC_MIME_TYPE, append_mime, {\n",
       "      /* Is output safe? */\n",
       "      safe: true,\n",
       "      /* Index of renderer in `output_area.display_order` */\n",
       "      index: 0\n",
       "    });\n",
       "  }\n",
       "\n",
       "  // register the mime type if in Jupyter Notebook environment and previously unregistered\n",
       "  if (root.Jupyter !== undefined) {\n",
       "    var events = require('base/js/events');\n",
       "    var OutputArea = require('notebook/js/outputarea').OutputArea;\n",
       "\n",
       "    if (OutputArea.prototype.mime_types().indexOf(EXEC_MIME_TYPE) == -1) {\n",
       "      register_renderer(events, OutputArea);\n",
       "    }\n",
       "  }\n",
       "\n",
       "  \n",
       "  if (typeof (root._bokeh_timeout) === \"undefined\" || force === true) {\n",
       "    root._bokeh_timeout = Date.now() + 5000;\n",
       "    root._bokeh_failed_load = false;\n",
       "  }\n",
       "\n",
       "  var NB_LOAD_WARNING = {'data': {'text/html':\n",
       "     \"<div style='background-color: #fdd'>\\n\"+\n",
       "     \"<p>\\n\"+\n",
       "     \"BokehJS does not appear to have successfully loaded. If loading BokehJS from CDN, this \\n\"+\n",
       "     \"may be due to a slow or bad network connection. Possible fixes:\\n\"+\n",
       "     \"</p>\\n\"+\n",
       "     \"<ul>\\n\"+\n",
       "     \"<li>re-rerun `output_notebook()` to attempt to load from CDN again, or</li>\\n\"+\n",
       "     \"<li>use INLINE resources instead, as so:</li>\\n\"+\n",
       "     \"</ul>\\n\"+\n",
       "     \"<code>\\n\"+\n",
       "     \"from bokeh.resources import INLINE\\n\"+\n",
       "     \"output_notebook(resources=INLINE)\\n\"+\n",
       "     \"</code>\\n\"+\n",
       "     \"</div>\"}};\n",
       "\n",
       "  function display_loaded() {\n",
       "    var el = document.getElementById(\"842156d6-0083-4e3c-96a1-b9f43004baa0\");\n",
       "    if (el != null) {\n",
       "      el.textContent = \"BokehJS is loading...\";\n",
       "    }\n",
       "    if (root.Bokeh !== undefined) {\n",
       "      if (el != null) {\n",
       "        el.textContent = \"BokehJS \" + root.Bokeh.version + \" successfully loaded.\";\n",
       "      }\n",
       "    } else if (Date.now() < root._bokeh_timeout) {\n",
       "      setTimeout(display_loaded, 100)\n",
       "    }\n",
       "  }\n",
       "\n",
       "\n",
       "  function run_callbacks() {\n",
       "    try {\n",
       "      root._bokeh_onload_callbacks.forEach(function(callback) { callback() });\n",
       "    }\n",
       "    finally {\n",
       "      delete root._bokeh_onload_callbacks\n",
       "    }\n",
       "    console.info(\"Bokeh: all callbacks have finished\");\n",
       "  }\n",
       "\n",
       "  function load_libs(js_urls, callback) {\n",
       "    root._bokeh_onload_callbacks.push(callback);\n",
       "    if (root._bokeh_is_loading > 0) {\n",
       "      console.log(\"Bokeh: BokehJS is being loaded, scheduling callback at\", now());\n",
       "      return null;\n",
       "    }\n",
       "    if (js_urls == null || js_urls.length === 0) {\n",
       "      run_callbacks();\n",
       "      return null;\n",
       "    }\n",
       "    console.log(\"Bokeh: BokehJS not loaded, scheduling load and callback at\", now());\n",
       "    root._bokeh_is_loading = js_urls.length;\n",
       "    for (var i = 0; i < js_urls.length; i++) {\n",
       "      var url = js_urls[i];\n",
       "      var s = document.createElement('script');\n",
       "      s.src = url;\n",
       "      s.async = false;\n",
       "      s.onreadystatechange = s.onload = function() {\n",
       "        root._bokeh_is_loading--;\n",
       "        if (root._bokeh_is_loading === 0) {\n",
       "          console.log(\"Bokeh: all BokehJS libraries loaded\");\n",
       "          run_callbacks()\n",
       "        }\n",
       "      };\n",
       "      s.onerror = function() {\n",
       "        console.warn(\"failed to load library \" + url);\n",
       "      };\n",
       "      console.log(\"Bokeh: injecting script tag for BokehJS library: \", url);\n",
       "      document.getElementsByTagName(\"head\")[0].appendChild(s);\n",
       "    }\n",
       "  };var element = document.getElementById(\"842156d6-0083-4e3c-96a1-b9f43004baa0\");\n",
       "  if (element == null) {\n",
       "    console.log(\"Bokeh: ERROR: autoload.js configured with elementid '842156d6-0083-4e3c-96a1-b9f43004baa0' but no matching script tag was found. \")\n",
       "    return false;\n",
       "  }\n",
       "\n",
       "  var js_urls = [\"https://cdn.pydata.org/bokeh/release/bokeh-0.12.14.min.js\", \"https://cdn.pydata.org/bokeh/release/bokeh-widgets-0.12.14.min.js\", \"https://cdn.pydata.org/bokeh/release/bokeh-tables-0.12.14.min.js\", \"https://cdn.pydata.org/bokeh/release/bokeh-gl-0.12.14.min.js\"];\n",
       "\n",
       "  var inline_js = [\n",
       "    function(Bokeh) {\n",
       "      Bokeh.set_log_level(\"info\");\n",
       "    },\n",
       "    \n",
       "    function(Bokeh) {\n",
       "      \n",
       "    },\n",
       "    function(Bokeh) {\n",
       "      console.log(\"Bokeh: injecting CSS: https://cdn.pydata.org/bokeh/release/bokeh-0.12.14.min.css\");\n",
       "      Bokeh.embed.inject_css(\"https://cdn.pydata.org/bokeh/release/bokeh-0.12.14.min.css\");\n",
       "      console.log(\"Bokeh: injecting CSS: https://cdn.pydata.org/bokeh/release/bokeh-widgets-0.12.14.min.css\");\n",
       "      Bokeh.embed.inject_css(\"https://cdn.pydata.org/bokeh/release/bokeh-widgets-0.12.14.min.css\");\n",
       "      console.log(\"Bokeh: injecting CSS: https://cdn.pydata.org/bokeh/release/bokeh-tables-0.12.14.min.css\");\n",
       "      Bokeh.embed.inject_css(\"https://cdn.pydata.org/bokeh/release/bokeh-tables-0.12.14.min.css\");\n",
       "    }\n",
       "  ];\n",
       "\n",
       "  function run_inline_js() {\n",
       "    \n",
       "    if ((root.Bokeh !== undefined) || (force === true)) {\n",
       "      for (var i = 0; i < inline_js.length; i++) {\n",
       "        inline_js[i].call(root, root.Bokeh);\n",
       "      }if (force === true) {\n",
       "        display_loaded();\n",
       "      }} else if (Date.now() < root._bokeh_timeout) {\n",
       "      setTimeout(run_inline_js, 100);\n",
       "    } else if (!root._bokeh_failed_load) {\n",
       "      console.log(\"Bokeh: BokehJS failed to load within specified timeout.\");\n",
       "      root._bokeh_failed_load = true;\n",
       "    } else if (force !== true) {\n",
       "      var cell = $(document.getElementById(\"842156d6-0083-4e3c-96a1-b9f43004baa0\")).parents('.cell').data().cell;\n",
       "      cell.output_area.append_execute_result(NB_LOAD_WARNING)\n",
       "    }\n",
       "\n",
       "  }\n",
       "\n",
       "  if (root._bokeh_is_loading === 0) {\n",
       "    console.log(\"Bokeh: BokehJS loaded, going straight to plotting\");\n",
       "    run_inline_js();\n",
       "  } else {\n",
       "    load_libs(js_urls, function() {\n",
       "      console.log(\"Bokeh: BokehJS plotting callback run at\", now());\n",
       "      run_inline_js();\n",
       "    });\n",
       "  }\n",
       "}(window));"
      ],
      "application/vnd.bokehjs_load.v0+json": "\n(function(root) {\n  function now() {\n    return new Date();\n  }\n\n  var force = true;\n\n  if (typeof (root._bokeh_onload_callbacks) === \"undefined\" || force === true) {\n    root._bokeh_onload_callbacks = [];\n    root._bokeh_is_loading = undefined;\n  }\n\n  \n\n  \n  if (typeof (root._bokeh_timeout) === \"undefined\" || force === true) {\n    root._bokeh_timeout = Date.now() + 5000;\n    root._bokeh_failed_load = false;\n  }\n\n  var NB_LOAD_WARNING = {'data': {'text/html':\n     \"<div style='background-color: #fdd'>\\n\"+\n     \"<p>\\n\"+\n     \"BokehJS does not appear to have successfully loaded. If loading BokehJS from CDN, this \\n\"+\n     \"may be due to a slow or bad network connection. Possible fixes:\\n\"+\n     \"</p>\\n\"+\n     \"<ul>\\n\"+\n     \"<li>re-rerun `output_notebook()` to attempt to load from CDN again, or</li>\\n\"+\n     \"<li>use INLINE resources instead, as so:</li>\\n\"+\n     \"</ul>\\n\"+\n     \"<code>\\n\"+\n     \"from bokeh.resources import INLINE\\n\"+\n     \"output_notebook(resources=INLINE)\\n\"+\n     \"</code>\\n\"+\n     \"</div>\"}};\n\n  function display_loaded() {\n    var el = document.getElementById(\"842156d6-0083-4e3c-96a1-b9f43004baa0\");\n    if (el != null) {\n      el.textContent = \"BokehJS is loading...\";\n    }\n    if (root.Bokeh !== undefined) {\n      if (el != null) {\n        el.textContent = \"BokehJS \" + root.Bokeh.version + \" successfully loaded.\";\n      }\n    } else if (Date.now() < root._bokeh_timeout) {\n      setTimeout(display_loaded, 100)\n    }\n  }\n\n\n  function run_callbacks() {\n    try {\n      root._bokeh_onload_callbacks.forEach(function(callback) { callback() });\n    }\n    finally {\n      delete root._bokeh_onload_callbacks\n    }\n    console.info(\"Bokeh: all callbacks have finished\");\n  }\n\n  function load_libs(js_urls, callback) {\n    root._bokeh_onload_callbacks.push(callback);\n    if (root._bokeh_is_loading > 0) {\n      console.log(\"Bokeh: BokehJS is being loaded, scheduling callback at\", now());\n      return null;\n    }\n    if (js_urls == null || js_urls.length === 0) {\n      run_callbacks();\n      return null;\n    }\n    console.log(\"Bokeh: BokehJS not loaded, scheduling load and callback at\", now());\n    root._bokeh_is_loading = js_urls.length;\n    for (var i = 0; i < js_urls.length; i++) {\n      var url = js_urls[i];\n      var s = document.createElement('script');\n      s.src = url;\n      s.async = false;\n      s.onreadystatechange = s.onload = function() {\n        root._bokeh_is_loading--;\n        if (root._bokeh_is_loading === 0) {\n          console.log(\"Bokeh: all BokehJS libraries loaded\");\n          run_callbacks()\n        }\n      };\n      s.onerror = function() {\n        console.warn(\"failed to load library \" + url);\n      };\n      console.log(\"Bokeh: injecting script tag for BokehJS library: \", url);\n      document.getElementsByTagName(\"head\")[0].appendChild(s);\n    }\n  };var element = document.getElementById(\"842156d6-0083-4e3c-96a1-b9f43004baa0\");\n  if (element == null) {\n    console.log(\"Bokeh: ERROR: autoload.js configured with elementid '842156d6-0083-4e3c-96a1-b9f43004baa0' but no matching script tag was found. \")\n    return false;\n  }\n\n  var js_urls = [\"https://cdn.pydata.org/bokeh/release/bokeh-0.12.14.min.js\", \"https://cdn.pydata.org/bokeh/release/bokeh-widgets-0.12.14.min.js\", \"https://cdn.pydata.org/bokeh/release/bokeh-tables-0.12.14.min.js\", \"https://cdn.pydata.org/bokeh/release/bokeh-gl-0.12.14.min.js\"];\n\n  var inline_js = [\n    function(Bokeh) {\n      Bokeh.set_log_level(\"info\");\n    },\n    \n    function(Bokeh) {\n      \n    },\n    function(Bokeh) {\n      console.log(\"Bokeh: injecting CSS: https://cdn.pydata.org/bokeh/release/bokeh-0.12.14.min.css\");\n      Bokeh.embed.inject_css(\"https://cdn.pydata.org/bokeh/release/bokeh-0.12.14.min.css\");\n      console.log(\"Bokeh: injecting CSS: https://cdn.pydata.org/bokeh/release/bokeh-widgets-0.12.14.min.css\");\n      Bokeh.embed.inject_css(\"https://cdn.pydata.org/bokeh/release/bokeh-widgets-0.12.14.min.css\");\n      console.log(\"Bokeh: injecting CSS: https://cdn.pydata.org/bokeh/release/bokeh-tables-0.12.14.min.css\");\n      Bokeh.embed.inject_css(\"https://cdn.pydata.org/bokeh/release/bokeh-tables-0.12.14.min.css\");\n    }\n  ];\n\n  function run_inline_js() {\n    \n    if ((root.Bokeh !== undefined) || (force === true)) {\n      for (var i = 0; i < inline_js.length; i++) {\n        inline_js[i].call(root, root.Bokeh);\n      }if (force === true) {\n        display_loaded();\n      }} else if (Date.now() < root._bokeh_timeout) {\n      setTimeout(run_inline_js, 100);\n    } else if (!root._bokeh_failed_load) {\n      console.log(\"Bokeh: BokehJS failed to load within specified timeout.\");\n      root._bokeh_failed_load = true;\n    } else if (force !== true) {\n      var cell = $(document.getElementById(\"842156d6-0083-4e3c-96a1-b9f43004baa0\")).parents('.cell').data().cell;\n      cell.output_area.append_execute_result(NB_LOAD_WARNING)\n    }\n\n  }\n\n  if (root._bokeh_is_loading === 0) {\n    console.log(\"Bokeh: BokehJS loaded, going straight to plotting\");\n    run_inline_js();\n  } else {\n    load_libs(js_urls, function() {\n      console.log(\"Bokeh: BokehJS plotting callback run at\", now());\n      run_inline_js();\n    });\n  }\n}(window));"
     },
     "metadata": {},
     "output_type": "display_data"
    }
   ],
   "source": [
    "output_notebook()"
   ]
  },
  {
   "cell_type": "code",
   "execution_count": 8,
   "metadata": {
    "collapsed": true
   },
   "outputs": [],
   "source": [
    "def fmt_cool(ds_in):\n",
    "    ds = ds_in.copy(deep=True)\n",
    "    if 'igg' in ds.dims:\n",
    "        ds = ds.sel(igg=1)\n",
    "\n",
    "    if 'g' in ds.dims:\n",
    "        ds = ds.sum('g')\n",
    "            \n",
    "    if 'band' in ds.dims:\n",
    "        try:\n",
    "            ds = ds.squeeze('band')\n",
    "        except ValueError:\n",
    "            ds = ds.sum('band')\n",
    "                \n",
    "    return ds['coolrg']\n",
    "\n",
    "\n",
    "def pltdata_cooling_1(ds_cool=None,\n",
    "                      ds_cool_crd=None, ds_cool_wgt=None):\n",
    "    \n",
    "\n",
    "\n",
    "    colors = all_palettes['Set1'][4]\n",
    "    data = [{'label': 'CLIRAD `coolr_bands`',\n",
    "             'srs': fmt_cool(ds_cool),\n",
    "             'line_dash': 'dashed', 'line_width': 5,\n",
    "             'color': colors[0], 'alpha': .6},\n",
    "            {'label': 'CRD',\n",
    "             'srs': fmt_cool(ds_cool_crd),\n",
    "             'line_dash': 'solid', 'line_width': 1.5,\n",
    "             'marker': 'circle', 'marker_size': 5,\n",
    "             'color': colors[2], 'alpha': 1,},\n",
    "            {'label': 'WGT igg=10 wgt_flux=2',\n",
    "             'srs': fmt_cool(ds_cool_wgt),\n",
    "             'line_dash': 'solid', 'line_width': 3,\n",
    "             'marker': 'square', 'marker_size': 5,\n",
    "             'color': colors[3], 'alpha': .6}]\n",
    "    return data\n",
    "\n",
    "\n",
    "def nice_xlims(pltdata=None, prange=None):\n",
    "    \n",
    "    def get_slice(srs):\n",
    "        return srs.sel(pressure=slice(*prange))\n",
    "    \n",
    "    srss = [d['srs'] for d in pltdata]\n",
    "    vmin = min([get_slice(srs).min() for srs in srss])\n",
    "    vmax = max([get_slice(srs).max() for srs in srss])\n",
    "    dv = (vmax - vmin) * .01\n",
    "    return float(vmin - dv), float(vmax + dv)\n",
    "    \n",
    "\n",
    "def plt_cooling_bokeh(pltdata=None):\n",
    "    '''\n",
    "    Plot a list of cooling rate profiles using bokeh.\n",
    "    '''\n",
    "    ymin = 1e-2 \n",
    "    ymax = 1020 \n",
    "        \n",
    "    p1 = figure(title=\"Linear pressure scale\", \n",
    "                plot_width=400)        \n",
    "    xmin, xmax = nice_xlims(pltdata, prange=(50, 1050))\n",
    "    for d in pltdata:\n",
    "        if 'marker' in d:\n",
    "            getattr(p1, d['marker'])(d['srs'].values, \n",
    "                    d['srs'].coords['pressure'].values,\n",
    "                    color=d['color'], alpha=.7)\n",
    "        p1.line(d['srs'].values, \n",
    "                d['srs'].coords['pressure'].values,\n",
    "                color=d['color'], alpha=d['alpha'], \n",
    "                line_width=d['line_width'], line_dash=d['line_dash'])\n",
    "    \n",
    "    p1.y_range = Range1d(ymax, ymin)\n",
    "    p1.yaxis.axis_label = 'pressure [mb]'   \n",
    "    p1.x_range = Range1d(xmin, xmax)\n",
    "    p1.xaxis.axis_label = 'cooling rate [K/day]'\n",
    "            \n",
    "    p2 = figure(title='Log pressure scale', y_axis_type='log',\n",
    "                plot_width=560)\n",
    "    xmin, xmax = nice_xlims(pltdata, prange=(.01, 200))\n",
    "    \n",
    "    rs = []\n",
    "    for d in pltdata:\n",
    "        rd = []\n",
    "        if 'marker' in d:\n",
    "            r_mark = getattr(p2, d['marker'])(d['srs'].values, \n",
    "                        d['srs'].coords['pressure'].values,\n",
    "                        color=d['color'], alpha=.7)\n",
    "            rd.append(r_mark)\n",
    "        r_line = p2.line(d['srs'].values, \n",
    "                    d['srs'].coords['pressure'].values,\n",
    "                    color=d['color'], alpha=d['alpha'], \n",
    "                    line_width=d['line_width'], line_dash=d['line_dash'])\n",
    "        rd.append(r_line)\n",
    "      \n",
    "        rs.append(rd)\n",
    "        \n",
    "    p2.y_range = Range1d(ymax, ymin)  \n",
    "    p2.yaxis.axis_label = 'pressure [mb]'\n",
    "    \n",
    "    p2.x_range = Range1d(xmin, xmax)\n",
    "    p2.xaxis.axis_label = 'cooling rate [K/day]'\n",
    "    \n",
    "    items = [(d['label'], r) for r, d in zip(rs, pltdata)]\n",
    "    legend = Legend(items=items, location=(10, -30))\n",
    "    legend.label_text_font_size = '8pt'\n",
    "    \n",
    "    p2.add_layout(legend, 'right')  \n",
    "    \n",
    "    show(gridplot(p1, p2, ncols=2, plot_height=500))\n",
    "    \n",
    "\n",
    "def script_plt_cooling():\n",
    "    pltdata = pltdata_cooling_1(\n",
    "        ds_cool=DS_COOL,\n",
    "        ds_cool_crd=DS_COOL_CRD,\n",
    "        ds_cool_wgt=DS_COOL_WGT)\n",
    "    plt_cooling_bokeh(pltdata=pltdata)\n",
    "    print('''FIGURE. Cooling rate profiles.''')"
   ]
  },
  {
   "cell_type": "code",
   "execution_count": 9,
   "metadata": {
    "collapsed": true
   },
   "outputs": [],
   "source": [
    "def fmt_flux(ds_in):\n",
    "    ds = ds_in.copy(deep=True)\n",
    "    \n",
    "    for l in ('level', 'layer'):\n",
    "        if l in ds.data_vars:\n",
    "            if len(ds[l].dims) > 1:\n",
    "                surface = {d: 0 for d in ds.dims if d != 'pressure'}\n",
    "                coord_level = ds[l][surface]\n",
    "                ds.coords[l] = ('pressure', coord_level)\n",
    "            else:\n",
    "                ds.coords[l] = ('pressure', ds[l])\n",
    "        \n",
    "    ds = ds.isel(pressure=[0, 23, -1])\n",
    "        \n",
    "    if 'igg' in ds.dims:\n",
    "        ds = ds.sel(igg=[1])\n",
    "        ds = ds.squeeze('igg').drop('igg')\n",
    "    \n",
    "    if 'g' in ds.dims:\n",
    "        ds = ds.sum('g')\n",
    "            \n",
    "    if 'band' in ds.dims:\n",
    "        try:\n",
    "            ds = ds.squeeze('band').drop('band')\n",
    "        except ValueError:\n",
    "            ds = ds.sum('band')\n",
    "                \n",
    "    df = ds.to_dataframe()\n",
    "    df = df.set_index('level', append=True)               \n",
    "    return df\n",
    "\n",
    "\n",
    "def tbdata_flux(ds_flux=None, ds_flux_crd=None, ds_flux_wgt=None):\n",
    "    ilevels = [0, 23, -1]\n",
    "            \n",
    "    benchmark = {'label': 'WGT igg=10 wgt_flux=1',\n",
    "                 'df': fmt_flux(ds_flux_wgt)}\n",
    "    \n",
    "    tbs = [{'label': 'CRD',\n",
    "            'df': fmt_flux(ds_flux_crd)},\n",
    "           {'label': 'CLIRAD',\n",
    "            'df': fmt_flux(ds_flux)}]\n",
    "    \n",
    "    data = {'benchmark': benchmark, 'others': tbs}\n",
    "    return data\n",
    "\n",
    "\n",
    "def tb_flux(tbdata=None):\n",
    "    benchmark = tbdata['benchmark']\n",
    "    others = tbdata['others']\n",
    "    \n",
    "    def show_tb(d=None):\n",
    "        display.display(d['df'])\n",
    "        print('Table.', 'Fluxes.', d['label'])\n",
    "        \n",
    "    def show_tbdiff(d0=None, d=None):\n",
    "        df = d['df']\n",
    "        df.index = d0['df'].index\n",
    "        display.display(df - d0['df'])\n",
    "        print('Table.', 'Fluxes.', \n",
    "              '({}) - ({})'.format(d['label'], d0['label']))\n",
    "        \n",
    "    show_tb(benchmark)\n",
    "    for d in others:\n",
    "        show_tb(d)\n",
    "        \n",
    "    for d in others:\n",
    "        show_tbdiff(d=d, d0=benchmark)\n",
    "        \n",
    "        \n",
    "def script_tb_flux():\n",
    "    data = tbdata_flux(ds_flux=DS_FLUX,\n",
    "                       ds_flux_crd=DS_FLUX_CRD,\n",
    "                       ds_flux_wgt=DS_FLUX_WGT)\n",
    "    tb_flux(tbdata=data)"
   ]
  },
  {
   "cell_type": "code",
   "execution_count": 10,
   "metadata": {
    "collapsed": true
   },
   "outputs": [],
   "source": [
    "def band_map():\n",
    "    '''\n",
    "    Maps spectral bands in lblnew to spectral bands in clirad.\n",
    "    '''\n",
    "    lblnew2clirad = {'1': '1',\n",
    "            '2': '2',\n",
    "            '3a': '3',\n",
    "            '3b': '4',\n",
    "            '3c': '5',\n",
    "            '4': '6', \n",
    "            '5': '7',\n",
    "            '6': '8',\n",
    "            '7': '9', \n",
    "            '8': '10',\n",
    "            '9': '11'}\n",
    "    \n",
    "    clirad2lblnew = {clirad: lblnew \n",
    "                     for lblnew, clirad in lblnew2clirad.items()}\n",
    "    return clirad2lblnew\n",
    "\n",
    "\n",
    "def gasbands():\n",
    "    bmap = band_map()\n",
    "    gases = list(PARAM['molecule'].keys())\n",
    "    \n",
    "    bands = [bmap[str(b)] for b in PARAM['band']]\n",
    "    return list(itertools.product(gases, bands))\n",
    "\n",
    "\n",
    "def print_bestfit_params():\n",
    "    print('Best-fit values for each (gas, band)')\n",
    "    print('------------------------------------')\n",
    "    for gas, band in gasbands():\n",
    "        print('o {} band{}'.format(gas, band))\n",
    "        param = bestfits.kdist_params(molecule=gas, band=band)\n",
    "        for name, value in sorted(param.items()):\n",
    "            print(2 * ' ' + '{} = {}'.format(name, value))\n",
    "\n",
    "        \n",
    "def print_input_param():        \n",
    "    for name, value in PARAM.items():\n",
    "        print('{} = {}'.format(name, value))\n",
    "        \n",
    "        \n",
    "def print_lblnew_param():\n",
    "    for name, value in sorted(PARAM_LBLNEW.items()):\n",
    "        print('{} = {}'.format(name, value))\n"
   ]
  },
  {
   "cell_type": "code",
   "execution_count": 11,
   "metadata": {
    "collapsed": true,
    "scrolled": false
   },
   "outputs": [],
   "source": [
    "def show_html(s):\n",
    "    display.display(display.HTML(s))\n",
    "\n",
    "    \n",
    "def show_markdown(s):\n",
    "    display.display(display.Markdown(s))\n",
    "\n",
    "    \n",
    "def script():\n",
    "    \n",
    "    title = '### CLIRAD-LW'\n",
    "    s_input = 'Input Parameters'\n",
    "    s_lblnew_param = 'LBLNEW case compaired against'\n",
    "    s_bestfits = 'Best-fit Parameters'\n",
    "    s_plt_cooling = 'Cooling Rate Profiles'\n",
    "    s_tb_flux = 'Flux Comparison'\n",
    "    \n",
    "    # title\n",
    "    show_markdown('### CLIRAD-LW')\n",
    "    \n",
    "    # TOC\n",
    "    show_markdown('### Table of Contents')\n",
    "    show_html(climahtml.getHTML_hrefanchor(s_input))\n",
    "    show_html(climahtml.getHTML_hrefanchor(s_lblnew_param))\n",
    "    show_html(climahtml.getHTML_hrefanchor(s_plt_cooling))\n",
    "    show_html(climahtml.getHTML_hrefanchor(s_tb_flux))\n",
    "    show_html(climahtml.getHTML_hrefanchor(s_bestfits))\n",
    "    \n",
    "    # Input parameters\n",
    "    show_html(climahtml.getHTML_idanchor(s_input))\n",
    "    show_markdown(climahtml.getMarkdown_sectitle(s_input))\n",
    "    print_input_param()\n",
    "    \n",
    "    # LBLNEW parameters \n",
    "    show_html(climahtml.getHTML_idanchor(s_lblnew_param))\n",
    "    show_markdown(climahtml.getMarkdown_sectitle(s_lblnew_param))\n",
    "    print_lblnew_param()\n",
    "    \n",
    "    # Cooling rate profiles\n",
    "    show_html(climahtml.getHTML_idanchor(s_plt_cooling))\n",
    "    show_markdown(climahtml.getMarkdown_sectitle(s_plt_cooling))\n",
    "    script_plt_cooling()\n",
    "    \n",
    "    # Flux comparison\n",
    "    show_html(climahtml.getHTML_idanchor(s_tb_flux))\n",
    "    show_markdown(climahtml.getMarkdown_sectitle(s_tb_flux))\n",
    "    script_tb_flux()\n",
    "    \n",
    "    # Best-fit values\n",
    "    show_html(climahtml.getHTML_idanchor(s_bestfits))\n",
    "    show_markdown(climahtml.getMarkdown_sectitle(s_bestfits))\n",
    "    print_bestfit_params()\n",
    "   \n",
    "    "
   ]
  },
  {
   "cell_type": "code",
   "execution_count": 12,
   "metadata": {
    "collapsed": true,
    "scrolled": false
   },
   "outputs": [
    {
     "data": {
      "text/markdown": [
       "### CLIRAD-LW"
      ],
      "text/plain": [
       "<IPython.core.display.Markdown object>"
      ]
     },
     "metadata": {},
     "output_type": "display_data"
    },
    {
     "data": {
      "text/markdown": [
       "### Table of Contents"
      ],
      "text/plain": [
       "<IPython.core.display.Markdown object>"
      ]
     },
     "metadata": {},
     "output_type": "display_data"
    },
    {
     "data": {
      "text/html": [
       "<a href=\"#Input_Parameters\">Input Parameters</a>"
      ],
      "text/plain": [
       "<IPython.core.display.HTML object>"
      ]
     },
     "metadata": {},
     "output_type": "display_data"
    },
    {
     "data": {
      "text/html": [
       "<a href=\"#LBLNEW_case_compaired_against\">LBLNEW case compaired against</a>"
      ],
      "text/plain": [
       "<IPython.core.display.HTML object>"
      ]
     },
     "metadata": {},
     "output_type": "display_data"
    },
    {
     "data": {
      "text/html": [
       "<a href=\"#Cooling_Rate_Profiles\">Cooling Rate Profiles</a>"
      ],
      "text/plain": [
       "<IPython.core.display.HTML object>"
      ]
     },
     "metadata": {},
     "output_type": "display_data"
    },
    {
     "data": {
      "text/html": [
       "<a href=\"#Flux_Comparison\">Flux Comparison</a>"
      ],
      "text/plain": [
       "<IPython.core.display.HTML object>"
      ]
     },
     "metadata": {},
     "output_type": "display_data"
    },
    {
     "data": {
      "text/html": [
       "<a href=\"#Best-fit_Parameters\">Best-fit Parameters</a>"
      ],
      "text/plain": [
       "<IPython.core.display.HTML object>"
      ]
     },
     "metadata": {},
     "output_type": "display_data"
    },
    {
     "data": {
      "text/html": [
       "<a id=\"Input_Parameters\"></a>"
      ],
      "text/plain": [
       "<IPython.core.display.HTML object>"
      ]
     },
     "metadata": {},
     "output_type": "display_data"
    },
    {
     "data": {
      "text/markdown": [
       "# Input Parameters"
      ],
      "text/plain": [
       "<IPython.core.display.Markdown object>"
      ]
     },
     "metadata": {},
     "output_type": "display_data"
    },
    {
     "name": "stdout",
     "output_type": "stream",
     "text": [
      "atmpro = saw\n",
      "band = [3]\n",
      "commitnumber = 9a64c27\n",
      "molecule = {'co2': 0.0004, 'h2o': 'atmpro', 'n2o': 3.2e-07}\n",
      "tsfc = 257\n"
     ]
    },
    {
     "data": {
      "text/html": [
       "<a id=\"LBLNEW_case_compaired_against\"></a>"
      ],
      "text/plain": [
       "<IPython.core.display.HTML object>"
      ]
     },
     "metadata": {},
     "output_type": "display_data"
    },
    {
     "data": {
      "text/markdown": [
       "# LBLNEW case compaired against"
      ],
      "text/plain": [
       "<IPython.core.display.Markdown object>"
      ]
     },
     "metadata": {},
     "output_type": "display_data"
    },
    {
     "name": "stdout",
     "output_type": "stream",
     "text": [
      "atmpro = saw\n",
      "band = 3a\n",
      "commitnumber = 5014a19\n",
      "dv = 0.01\n",
      "molecule = {'co2': 0.0004, 'h2o': 'atmpro', 'n2o': 3.2e-07}\n",
      "nv = 100\n",
      "tsfc = 257\n"
     ]
    },
    {
     "data": {
      "text/html": [
       "<a id=\"Cooling_Rate_Profiles\"></a>"
      ],
      "text/plain": [
       "<IPython.core.display.HTML object>"
      ]
     },
     "metadata": {},
     "output_type": "display_data"
    },
    {
     "data": {
      "text/markdown": [
       "# Cooling Rate Profiles"
      ],
      "text/plain": [
       "<IPython.core.display.Markdown object>"
      ]
     },
     "metadata": {},
     "output_type": "display_data"
    },
    {
     "data": {
      "text/html": [
       "\n",
       "<div class=\"bk-root\">\n",
       "    <div class=\"bk-plotdiv\" id=\"aba2476d-d119-4675-b4b1-09aaf2def4db\"></div>\n",
       "</div>"
      ]
     },
     "metadata": {},
     "output_type": "display_data"
    },
    {
     "data": {
      "application/javascript": [
       "(function(root) {\n",
       "  function embed_document(root) {\n",
       "    \n",
       "  var docs_json = {\"948ba2ec-9814-41de-b808-bbcb742784fe\":{\"roots\":{\"references\":[{\"attributes\":{\"children\":[{\"id\":\"533ea220-ed7a-4bdf-92b6-485f37e17475\",\"type\":\"Row\"}]},\"id\":\"f54d54c7-2feb-429c-83bd-d8b0598bbe7f\",\"type\":\"Column\"},{\"attributes\":{},\"id\":\"e60ed443-67d8-49e3-bcdb-33441ac5f14a\",\"type\":\"BasicTickFormatter\"},{\"attributes\":{\"data_source\":{\"id\":\"f59d37ff-b173-4384-8ab3-a39012aad18c\",\"type\":\"ColumnDataSource\"},\"glyph\":{\"id\":\"e4dcc014-379e-4a9a-ba9e-314e37178b46\",\"type\":\"Line\"},\"hover_glyph\":null,\"muted_glyph\":null,\"nonselection_glyph\":{\"id\":\"f4b4586b-9760-4f74-8745-46cf6fee81ae\",\"type\":\"Line\"},\"selection_glyph\":null,\"view\":{\"id\":\"af062f40-e0b7-44ea-9ec0-9d35aeea1eef\",\"type\":\"CDSView\"}},\"id\":\"f9d60f7b-27cc-4076-9ce9-8979c617c8dd\",\"type\":\"GlyphRenderer\"},{\"attributes\":{\"line_alpha\":0.1,\"line_color\":\"#1f77b4\",\"line_dash\":[6],\"line_width\":5,\"x\":{\"field\":\"x\"},\"y\":{\"field\":\"y\"}},\"id\":\"9a782940-e692-4e00-9a12-cee35b14d707\",\"type\":\"Line\"},{\"attributes\":{},\"id\":\"6efbdd0f-dd63-40d3-ae70-b81a9fb13ad9\",\"type\":\"BasicTickFormatter\"},{\"attributes\":{\"items\":[{\"id\":\"dbec5062-9997-4a6c-a41e-06062d7a3ea9\",\"type\":\"LegendItem\"},{\"id\":\"5a4485d7-07cd-43c1-9aad-bc944e59aff5\",\"type\":\"LegendItem\"},{\"id\":\"b585cea1-aa20-45f1-9ba5-8249ae727b8c\",\"type\":\"LegendItem\"}],\"label_text_font_size\":{\"value\":\"8pt\"},\"location\":[10,-30],\"plot\":{\"id\":\"bcd8dcdd-d310-4713-99fc-5730a5b5a994\",\"subtype\":\"Figure\",\"type\":\"Plot\"}},\"id\":\"1f410f76-1a8a-420c-b3f0-66dfc3fbd126\",\"type\":\"Legend\"},{\"attributes\":{\"source\":{\"id\":\"15582c87-5e92-4149-9d50-7c8d50f083f5\",\"type\":\"ColumnDataSource\"}},\"id\":\"fe53909f-ad32-4463-9575-f03f0d096a12\",\"type\":\"CDSView\"},{\"attributes\":{\"ticker\":null},\"id\":\"315c4858-c9ea-4f29-8200-894fd74fad32\",\"type\":\"LogTickFormatter\"},{\"attributes\":{\"callback\":null,\"column_names\":[\"x\",\"y\"],\"data\":{\"x\":{\"__ndarray__\":\"3ikVO7fczT88icbiUGLQP89XXizrQtU/fxCP5dl82j/QtbPYu/nfPyqck80LxuI/KPud3KWD5T/xBZi/YxToP8UqlDsiVeo/EDkBdgMf7D80fPJNJlDtP/e7JIxu1u0/VfKYHqC97T8qF89F6IzsP33+/yh/Eeo/ABrGWeh15z8nBP4yEJLlP4Fo3ljtbeQ/iDQB8YDz4z8sILyPBiTkP7JI8uAXTOU/m7nyH/Pd4z8Uu2wqQfXeP4BoYpGRudc/yPN0CeKX0j+nN2k7IrbMP+z/VpFVOsU/L1jktgHIvz+qWtrCVn26PzUNeANGQ7c/6naglU4AtD+CbrOhMGKwP9xkhFLcOq0/zKrIG3LJrT/5JOJzSOatP0d2ljp3pK0/U6VlWFAOrT+Udd8BA+CqP7NPpFTyTKg/P0GhH78Xpj+U7h4I3+ejP4mZFTsua6E/Dg8sCmUonT/vY5/cwxmWP+k6sMNou4k/ADc/icUrhT9e53ST9/WUP6D2ctfGY6E/WIkwgBsiqT/61NzKRQ6xPzAcnS3/pbU/2xZlNsgkuj/iiWpb3ma+PzkvZxlWL8E/jM5kxZEDwz/YMFyAKqzEP3g/VSLcJsY/WxAltatrxz8A0cQiI3PIP+pgu4PxNsk/KEqd29+0yT97Ac1SePHJP5TPG7zp9ck/Fvr97l/RyT9vpjrLyZfJP2d9yjFZXMk/yg8BLJcyyT8tjD4wkRzJPy5eRakx38g/YdWsddoByD/IJUwgPhPGP2YOzWU4WMM/LbbmGqiEwD+Al758V6m7P17XoS32/bU/\",\"dtype\":\"float64\",\"shape\":[75]},\"y\":{\"__ndarray__\":\"GhExyth1ND/Sv8nbtpRIP2vylNV0PVE/aTum7souWD/At0SJ8fVgPw3Iuahxymc/MSNhhJWvcD/bTfBN02d3P2zb5nxnaoA/CD5h5MAGhz8NmeH1TyaQP+zrCsc9p5Y/LbKd76fGnz/bLW5ISEmmPww9YvTcQq8/JV2OstnstT8Er5Y7M8G+P0c+r3jqkcU/5h99k6ZBzj88bCIzFzjVP4enV8oyxN0//yH99nXg5D8qOpLLf0jtP5kqGJXUifQ/c9cS8kHP/D+/DpwzojQEQIEmwoanVwxA4lgXt9HgE0BSSZ2AJuIbQAMJih9jjiNA5q4l5INuK0AwTKYKRj0zQNv5fmq8/DpAaCJseHrtQkB/+zpwzoxKQM3MzMzMeFJAZmZmZmZqWEAAAAAAAFxeQM3MzMzMJmJAmpmZmZkfZUBmZmZmZhhoQDMzMzMzEWtAAAAAAAAKbkBmZmZmZoFwQM3MzMzM/XFAMzMzMzN6c0CamZmZmfZ0QAAAAAAAc3ZAZmZmZmbvd0DNzMzMzGt5QDMzMzMz6HpAmpmZmZlkfEAAAAAAAOF9QGZmZmZmXX9AZmZmZuZsgECamZmZGSuBQM3MzMxM6YFAAAAAAICngkAzMzMzs2WDQGZmZmbmI4RAmpmZmRnihEDNzMzMTKCFQAAAAACAXoZAMzMzM7Mch0BmZmZm5tqHQJqZmZkZmYhAzczMzExXiUAAAAAAgBWKQDMzMzOz04pAZmZmZuaRi0CamZmZGVCMQM3MzMxMDo1AAAAAAIDMjUAzMzMzs4qOQGZmZmbmSI9A\",\"dtype\":\"float64\",\"shape\":[75]}}},\"id\":\"9d595d45-83dd-4c24-bfd3-3c3525f47b97\",\"type\":\"ColumnDataSource\"},{\"attributes\":{\"callback\":null,\"column_names\":[\"x\",\"y\"],\"data\":{\"x\":{\"__ndarray__\":\"3ikVO7fczT88icbiUGLQP89XXizrQtU/fxCP5dl82j/QtbPYu/nfPyqck80LxuI/KPud3KWD5T/xBZi/YxToP8UqlDsiVeo/EDkBdgMf7D80fPJNJlDtP/e7JIxu1u0/VfKYHqC97T8qF89F6IzsP33+/yh/Eeo/ABrGWeh15z8nBP4yEJLlP4Fo3ljtbeQ/iDQB8YDz4z8sILyPBiTkP7JI8uAXTOU/m7nyH/Pd4z8Uu2wqQfXeP4BoYpGRudc/yPN0CeKX0j+nN2k7IrbMP+z/VpFVOsU/L1jktgHIvz+qWtrCVn26PzUNeANGQ7c/6naglU4AtD+CbrOhMGKwP9xkhFLcOq0/zKrIG3LJrT/5JOJzSOatP0d2ljp3pK0/U6VlWFAOrT+Udd8BA+CqP7NPpFTyTKg/P0GhH78Xpj+U7h4I3+ejP4mZFTsua6E/Dg8sCmUonT/vY5/cwxmWP+k6sMNou4k/ADc/icUrhT9e53ST9/WUP6D2ctfGY6E/WIkwgBsiqT/61NzKRQ6xPzAcnS3/pbU/2xZlNsgkuj/iiWpb3ma+PzkvZxlWL8E/jM5kxZEDwz/YMFyAKqzEP3g/VSLcJsY/WxAltatrxz8A0cQiI3PIP+pgu4PxNsk/KEqd29+0yT97Ac1SePHJP5TPG7zp9ck/Fvr97l/RyT9vpjrLyZfJP2d9yjFZXMk/yg8BLJcyyT8tjD4wkRzJPy5eRakx38g/YdWsddoByD/IJUwgPhPGP2YOzWU4WMM/LbbmGqiEwD+Al758V6m7P17XoS32/bU/\",\"dtype\":\"float64\",\"shape\":[75]},\"y\":{\"__ndarray__\":\"GhExyth1ND/Sv8nbtpRIP2vylNV0PVE/aTum7souWD/At0SJ8fVgPw3Iuahxymc/MSNhhJWvcD/bTfBN02d3P2zb5nxnaoA/CD5h5MAGhz8NmeH1TyaQP+zrCsc9p5Y/LbKd76fGnz/bLW5ISEmmPww9YvTcQq8/JV2OstnstT8Er5Y7M8G+P0c+r3jqkcU/5h99k6ZBzj88bCIzFzjVP4enV8oyxN0//yH99nXg5D8qOpLLf0jtP5kqGJXUifQ/c9cS8kHP/D+/DpwzojQEQIEmwoanVwxA4lgXt9HgE0BSSZ2AJuIbQAMJih9jjiNA5q4l5INuK0AwTKYKRj0zQNv5fmq8/DpAaCJseHrtQkB/+zpwzoxKQM3MzMzMeFJAZmZmZmZqWEAAAAAAAFxeQM3MzMzMJmJAmpmZmZkfZUBmZmZmZhhoQDMzMzMzEWtAAAAAAAAKbkBmZmZmZoFwQM3MzMzM/XFAMzMzMzN6c0CamZmZmfZ0QAAAAAAAc3ZAZmZmZmbvd0DNzMzMzGt5QDMzMzMz6HpAmpmZmZlkfEAAAAAAAOF9QGZmZmZmXX9AZmZmZuZsgECamZmZGSuBQM3MzMxM6YFAAAAAAICngkAzMzMzs2WDQGZmZmbmI4RAmpmZmRnihEDNzMzMTKCFQAAAAACAXoZAMzMzM7Mch0BmZmZm5tqHQJqZmZkZmYhAzczMzExXiUAAAAAAgBWKQDMzMzOz04pAZmZmZuaRi0CamZmZGVCMQM3MzMxMDo1AAAAAAIDMjUAzMzMzs4qOQGZmZmbmSI9A\",\"dtype\":\"float64\",\"shape\":[75]}}},\"id\":\"78b4fedc-0529-425f-bf55-f643251ac7a2\",\"type\":\"ColumnDataSource\"},{\"attributes\":{\"callback\":null,\"end\":0.01,\"start\":1020},\"id\":\"4417abfb-4cf5-4536-9af7-c04b9e3e3286\",\"type\":\"Range1d\"},{\"attributes\":{\"line_alpha\":0.6,\"line_color\":\"#e41a1c\",\"line_dash\":[6],\"line_width\":5,\"x\":{\"field\":\"x\"},\"y\":{\"field\":\"y\"}},\"id\":\"7f0353fe-2f62-42f7-ba54-a0a8e0d90848\",\"type\":\"Line\"},{\"attributes\":{\"callback\":null,\"end\":0.9979749755799999,\"start\":0.02938240642},\"id\":\"240a8434-c3af-4ec8-bd86-c1abdd353f1c\",\"type\":\"Range1d\"},{\"attributes\":{\"source\":{\"id\":\"f59d37ff-b173-4384-8ab3-a39012aad18c\",\"type\":\"ColumnDataSource\"}},\"id\":\"af062f40-e0b7-44ea-9ec0-9d35aeea1eef\",\"type\":\"CDSView\"},{\"attributes\":{\"line_alpha\":0.1,\"line_color\":\"#1f77b4\",\"line_dash\":[6],\"line_width\":5,\"x\":{\"field\":\"x\"},\"y\":{\"field\":\"y\"}},\"id\":\"f4b4586b-9760-4f74-8745-46cf6fee81ae\",\"type\":\"Line\"},{\"attributes\":{\"fill_alpha\":{\"value\":0.1},\"fill_color\":{\"value\":\"#1f77b4\"},\"line_alpha\":{\"value\":0.1},\"line_color\":{\"value\":\"#1f77b4\"},\"x\":{\"field\":\"x\"},\"y\":{\"field\":\"y\"}},\"id\":\"e5b1ef6e-eb00-4ebc-ada7-8c25a15951cd\",\"type\":\"Circle\"},{\"attributes\":{\"line_alpha\":0.6,\"line_color\":\"#e41a1c\",\"line_dash\":[6],\"line_width\":5,\"x\":{\"field\":\"x\"},\"y\":{\"field\":\"y\"}},\"id\":\"e4dcc014-379e-4a9a-ba9e-314e37178b46\",\"type\":\"Line\"},{\"attributes\":{\"line_color\":\"#4daf4a\",\"line_width\":1.5,\"x\":{\"field\":\"x\"},\"y\":{\"field\":\"y\"}},\"id\":\"b3fc57d1-0b67-4c90-8db7-38bba285a0c7\",\"type\":\"Line\"},{\"attributes\":{\"callback\":null,\"column_names\":[\"x\",\"y\"],\"data\":{\"x\":{\"__ndarray__\":\"lAUCU7yAxz/MLUpcCdXKP57eOVKFmNE/E8RxxzhS1j/MlqyKcFPbP1eTCtdhVOA/hrDYLoYV4z8BMrYIc9jlP/kbSHJUieg/NJ5rDPgE6z/WdD3RdSHtPzAA4BrQue4/Z+Edpp6h7z/pt23nFCfvP4y5EFCGz+w/knFzx+6E6T86ie9hgjzmP7lG0/JmgeM/4hdFrFHR4T/96AbQEIrhP5JpI43A7uI/XKvBJCpO4j/ZM/i5qZrdP4tzDn37Y9c/WQIAMjrB0j/uiLeMowvOP6UbF8T2ycc/IleHL1Vhwz9XKE7F+PbAP6FRNryLvb0/sPZZYO16uD9vi70N7cCyP1LV8m07Ga8/WGf2JY1krj9Tted2UgavP0vv3vtiibA/3XGzDRYtsT/BYBOm40KwP3EtPCpcYa0/Gz2BJ2JOqj/V6ZEdUyunP8XEwBw4xaM/k0XZ3EoPoD+w4PPNelSXP4yAr40d+Yg/OoxZGKHdgj8w1sqTiheUP36sXH99OqE/rrWKDfz5qD+12WWze9awP8WIgQR+OrU/cbRueWh8uT+zyMBLune9P8yXeorahcA/w1foQUkawj8/w7xDYYLDP/PUl2OByMQ/mbagc47sxT8J88OtJ9/GPxhvEiCWj8c/IcEaiOH6xz++nxov3STIP57SXtCEHsg/rQPWYND4xz8vsjJUpMbHP3ONQ7sSmsc/87ufCQOFxz8w5hnB54PHP6m2xF/NYMc/H6a3Hgmkxj+VA6hvuuHEPxLR+Tq6W8I/OtQIYHd4vz8ksCBqLnm6P91D4wXoKbU/\",\"dtype\":\"float64\",\"shape\":[75]},\"y\":{\"__ndarray__\":\"GhExyth1ND/Sv8nbtpRIP2vylNV0PVE/aTum7souWD/At0SJ8fVgPw3Iuahxymc/MSNhhJWvcD/bTfBN02d3P2zb5nxnaoA/CD5h5MAGhz8NmeH1TyaQP+zrCsc9p5Y/LbKd76fGnz/bLW5ISEmmPww9YvTcQq8/JV2OstnstT8Er5Y7M8G+P0c+r3jqkcU/5h99k6ZBzj88bCIzFzjVP4enV8oyxN0//yH99nXg5D8qOpLLf0jtP5kqGJXUifQ/c9cS8kHP/D+/DpwzojQEQIEmwoanVwxA4lgXt9HgE0BSSZ2AJuIbQAMJih9jjiNA5q4l5INuK0AwTKYKRj0zQNv5fmq8/DpAaCJseHrtQkB/+zpwzoxKQM3MzMzMeFJAZmZmZmZqWEAAAAAAAFxeQM3MzMzMJmJAmpmZmZkfZUBmZmZmZhhoQDMzMzMzEWtAAAAAAAAKbkBmZmZmZoFwQM3MzMzM/XFAMzMzMzN6c0CamZmZmfZ0QAAAAAAAc3ZAZmZmZmbvd0DNzMzMzGt5QDMzMzMz6HpAmpmZmZlkfEAAAAAAAOF9QGZmZmZmXX9AZmZmZuZsgECamZmZGSuBQM3MzMxM6YFAAAAAAICngkAzMzMzs2WDQGZmZmbmI4RAmpmZmRnihEDNzMzMTKCFQAAAAACAXoZAMzMzM7Mch0BmZmZm5tqHQJqZmZkZmYhAzczMzExXiUAAAAAAgBWKQDMzMzOz04pAZmZmZuaRi0CamZmZGVCMQM3MzMxMDo1AAAAAAIDMjUAzMzMzs4qOQGZmZmbmSI9A\",\"dtype\":\"float64\",\"shape\":[75]}}},\"id\":\"d48e11b9-8525-460f-a56c-29cb223d8271\",\"type\":\"ColumnDataSource\"},{\"attributes\":{\"data_source\":{\"id\":\"cace6d88-d0cb-4393-8519-bc1c3dc0722f\",\"type\":\"ColumnDataSource\"},\"glyph\":{\"id\":\"424639ee-5a35-4232-9ebf-f25fdd36f8d2\",\"type\":\"Square\"},\"hover_glyph\":null,\"muted_glyph\":null,\"nonselection_glyph\":{\"id\":\"ae63be25-a33a-4fd3-af6b-3ff688fc2d06\",\"type\":\"Square\"},\"selection_glyph\":null,\"view\":{\"id\":\"8193c45b-787d-41f5-99c3-9bd19fa53a2e\",\"type\":\"CDSView\"}},\"id\":\"07638f6b-2fd2-4b1b-b054-11c446ae0f75\",\"type\":\"GlyphRenderer\"},{\"attributes\":{\"callback\":null,\"column_names\":[\"x\",\"y\"],\"data\":{\"x\":{\"__ndarray__\":\"lAUCU7yAxz/MLUpcCdXKP57eOVKFmNE/E8RxxzhS1j/MlqyKcFPbP1eTCtdhVOA/hrDYLoYV4z8BMrYIc9jlP/kbSHJUieg/NJ5rDPgE6z/WdD3RdSHtPzAA4BrQue4/Z+Edpp6h7z/pt23nFCfvP4y5EFCGz+w/knFzx+6E6T86ie9hgjzmP7lG0/JmgeM/4hdFrFHR4T/96AbQEIrhP5JpI43A7uI/XKvBJCpO4j/ZM/i5qZrdP4tzDn37Y9c/WQIAMjrB0j/uiLeMowvOP6UbF8T2ycc/IleHL1Vhwz9XKE7F+PbAP6FRNryLvb0/sPZZYO16uD9vi70N7cCyP1LV8m07Ga8/WGf2JY1krj9Tted2UgavP0vv3vtiibA/3XGzDRYtsT/BYBOm40KwP3EtPCpcYa0/Gz2BJ2JOqj/V6ZEdUyunP8XEwBw4xaM/k0XZ3EoPoD+w4PPNelSXP4yAr40d+Yg/OoxZGKHdgj8w1sqTiheUP36sXH99OqE/rrWKDfz5qD+12WWze9awP8WIgQR+OrU/cbRueWh8uT+zyMBLune9P8yXeorahcA/w1foQUkawj8/w7xDYYLDP/PUl2OByMQ/mbagc47sxT8J88OtJ9/GPxhvEiCWj8c/IcEaiOH6xz++nxov3STIP57SXtCEHsg/rQPWYND4xz8vsjJUpMbHP3ONQ7sSmsc/87ufCQOFxz8w5hnB54PHP6m2xF/NYMc/H6a3Hgmkxj+VA6hvuuHEPxLR+Tq6W8I/OtQIYHd4vz8ksCBqLnm6P91D4wXoKbU/\",\"dtype\":\"float64\",\"shape\":[75]},\"y\":{\"__ndarray__\":\"GhExyth1ND/Sv8nbtpRIP2vylNV0PVE/aTum7souWD/At0SJ8fVgPw3Iuahxymc/MSNhhJWvcD/bTfBN02d3P2zb5nxnaoA/CD5h5MAGhz8NmeH1TyaQP+zrCsc9p5Y/LbKd76fGnz/bLW5ISEmmPww9YvTcQq8/JV2OstnstT8Er5Y7M8G+P0c+r3jqkcU/5h99k6ZBzj88bCIzFzjVP4enV8oyxN0//yH99nXg5D8qOpLLf0jtP5kqGJXUifQ/c9cS8kHP/D+/DpwzojQEQIEmwoanVwxA4lgXt9HgE0BSSZ2AJuIbQAMJih9jjiNA5q4l5INuK0AwTKYKRj0zQNv5fmq8/DpAaCJseHrtQkB/+zpwzoxKQM3MzMzMeFJAZmZmZmZqWEAAAAAAAFxeQM3MzMzMJmJAmpmZmZkfZUBmZmZmZhhoQDMzMzMzEWtAAAAAAAAKbkBmZmZmZoFwQM3MzMzM/XFAMzMzMzN6c0CamZmZmfZ0QAAAAAAAc3ZAZmZmZmbvd0DNzMzMzGt5QDMzMzMz6HpAmpmZmZlkfEAAAAAAAOF9QGZmZmZmXX9AZmZmZuZsgECamZmZGSuBQM3MzMxM6YFAAAAAAICngkAzMzMzs2WDQGZmZmbmI4RAmpmZmRnihEDNzMzMTKCFQAAAAACAXoZAMzMzM7Mch0BmZmZm5tqHQJqZmZkZmYhAzczMzExXiUAAAAAAgBWKQDMzMzOz04pAZmZmZuaRi0CamZmZGVCMQM3MzMxMDo1AAAAAAIDMjUAzMzMzs4qOQGZmZmbmSI9A\",\"dtype\":\"float64\",\"shape\":[75]}}},\"id\":\"cace6d88-d0cb-4393-8519-bc1c3dc0722f\",\"type\":\"ColumnDataSource\"},{\"attributes\":{\"data_source\":{\"id\":\"72902980-2fcb-48fa-9983-cce3a677e854\",\"type\":\"ColumnDataSource\"},\"glyph\":{\"id\":\"b3fc57d1-0b67-4c90-8db7-38bba285a0c7\",\"type\":\"Line\"},\"hover_glyph\":null,\"muted_glyph\":null,\"nonselection_glyph\":{\"id\":\"86547b90-8964-4f32-ac6e-e4d2131c477f\",\"type\":\"Line\"},\"selection_glyph\":null,\"view\":{\"id\":\"80a25485-d6d4-42b9-b1ba-608e06611b61\",\"type\":\"CDSView\"}},\"id\":\"d387fdcb-3f4c-4bcb-9c10-a832107bd1b9\",\"type\":\"GlyphRenderer\"},{\"attributes\":{},\"id\":\"5c9e30f0-0996-4a2e-b6f5-4bf7205eaca5\",\"type\":\"LinearScale\"},{\"attributes\":{\"data_source\":{\"id\":\"15582c87-5e92-4149-9d50-7c8d50f083f5\",\"type\":\"ColumnDataSource\"},\"glyph\":{\"id\":\"7f0353fe-2f62-42f7-ba54-a0a8e0d90848\",\"type\":\"Line\"},\"hover_glyph\":null,\"muted_glyph\":null,\"nonselection_glyph\":{\"id\":\"9a782940-e692-4e00-9a12-cee35b14d707\",\"type\":\"Line\"},\"selection_glyph\":null,\"view\":{\"id\":\"fe53909f-ad32-4463-9575-f03f0d096a12\",\"type\":\"CDSView\"}},\"id\":\"86c14551-8cf9-4378-b7d6-078cbbd0dac9\",\"type\":\"GlyphRenderer\"},{\"attributes\":{},\"id\":\"5b2a9fa1-45b5-4b2e-8072-10130ebabf3f\",\"type\":\"SaveTool\"},{\"attributes\":{\"data_source\":{\"id\":\"9d595d45-83dd-4c24-bfd3-3c3525f47b97\",\"type\":\"ColumnDataSource\"},\"glyph\":{\"id\":\"1e468ea2-e36f-4279-8823-5144d951d3d2\",\"type\":\"Circle\"},\"hover_glyph\":null,\"muted_glyph\":null,\"nonselection_glyph\":{\"id\":\"f0a39a9f-124c-417b-8203-434aa37eba42\",\"type\":\"Circle\"},\"selection_glyph\":null,\"view\":{\"id\":\"7e843b71-2049-4c33-9c51-aeddc4d47b9c\",\"type\":\"CDSView\"}},\"id\":\"5cb05b88-86df-4081-9988-b02176279433\",\"type\":\"GlyphRenderer\"},{\"attributes\":{\"fill_alpha\":{\"value\":0.7},\"fill_color\":{\"value\":\"#4daf4a\"},\"line_alpha\":{\"value\":0.7},\"line_color\":{\"value\":\"#4daf4a\"},\"x\":{\"field\":\"x\"},\"y\":{\"field\":\"y\"}},\"id\":\"43e278ed-7d66-4596-b742-0d3ee09f9ff5\",\"type\":\"Circle\"},{\"attributes\":{\"line_alpha\":0.1,\"line_color\":\"#1f77b4\",\"line_width\":1.5,\"x\":{\"field\":\"x\"},\"y\":{\"field\":\"y\"}},\"id\":\"86547b90-8964-4f32-ac6e-e4d2131c477f\",\"type\":\"Line\"},{\"attributes\":{\"line_color\":\"#4daf4a\",\"line_width\":1.5,\"x\":{\"field\":\"x\"},\"y\":{\"field\":\"y\"}},\"id\":\"1d4a1e0d-97aa-42c1-9fdb-aece8affc8ba\",\"type\":\"Line\"},{\"attributes\":{\"callback\":null,\"column_names\":[\"x\",\"y\"],\"data\":{\"x\":{\"__ndarray__\":\"3ikVO7fczT88icbiUGLQP89XXizrQtU/fxCP5dl82j/QtbPYu/nfPyqck80LxuI/KPud3KWD5T/xBZi/YxToP8UqlDsiVeo/EDkBdgMf7D80fPJNJlDtP/e7JIxu1u0/VfKYHqC97T8qF89F6IzsP33+/yh/Eeo/ABrGWeh15z8nBP4yEJLlP4Fo3ljtbeQ/iDQB8YDz4z8sILyPBiTkP7JI8uAXTOU/m7nyH/Pd4z8Uu2wqQfXeP4BoYpGRudc/yPN0CeKX0j+nN2k7IrbMP+z/VpFVOsU/L1jktgHIvz+qWtrCVn26PzUNeANGQ7c/6naglU4AtD+CbrOhMGKwP9xkhFLcOq0/zKrIG3LJrT/5JOJzSOatP0d2ljp3pK0/U6VlWFAOrT+Udd8BA+CqP7NPpFTyTKg/P0GhH78Xpj+U7h4I3+ejP4mZFTsua6E/Dg8sCmUonT/vY5/cwxmWP+k6sMNou4k/ADc/icUrhT9e53ST9/WUP6D2ctfGY6E/WIkwgBsiqT/61NzKRQ6xPzAcnS3/pbU/2xZlNsgkuj/iiWpb3ma+PzkvZxlWL8E/jM5kxZEDwz/YMFyAKqzEP3g/VSLcJsY/WxAltatrxz8A0cQiI3PIP+pgu4PxNsk/KEqd29+0yT97Ac1SePHJP5TPG7zp9ck/Fvr97l/RyT9vpjrLyZfJP2d9yjFZXMk/yg8BLJcyyT8tjD4wkRzJPy5eRakx38g/YdWsddoByD/IJUwgPhPGP2YOzWU4WMM/LbbmGqiEwD+Al758V6m7P17XoS32/bU/\",\"dtype\":\"float64\",\"shape\":[75]},\"y\":{\"__ndarray__\":\"GhExyth1ND/Sv8nbtpRIP2vylNV0PVE/aTum7souWD/At0SJ8fVgPw3Iuahxymc/MSNhhJWvcD/bTfBN02d3P2zb5nxnaoA/CD5h5MAGhz8NmeH1TyaQP+zrCsc9p5Y/LbKd76fGnz/bLW5ISEmmPww9YvTcQq8/JV2OstnstT8Er5Y7M8G+P0c+r3jqkcU/5h99k6ZBzj88bCIzFzjVP4enV8oyxN0//yH99nXg5D8qOpLLf0jtP5kqGJXUifQ/c9cS8kHP/D+/DpwzojQEQIEmwoanVwxA4lgXt9HgE0BSSZ2AJuIbQAMJih9jjiNA5q4l5INuK0AwTKYKRj0zQNv5fmq8/DpAaCJseHrtQkB/+zpwzoxKQM3MzMzMeFJAZmZmZmZqWEAAAAAAAFxeQM3MzMzMJmJAmpmZmZkfZUBmZmZmZhhoQDMzMzMzEWtAAAAAAAAKbkBmZmZmZoFwQM3MzMzM/XFAMzMzMzN6c0CamZmZmfZ0QAAAAAAAc3ZAZmZmZmbvd0DNzMzMzGt5QDMzMzMz6HpAmpmZmZlkfEAAAAAAAOF9QGZmZmZmXX9AZmZmZuZsgECamZmZGSuBQM3MzMxM6YFAAAAAAICngkAzMzMzs2WDQGZmZmbmI4RAmpmZmRnihEDNzMzMTKCFQAAAAACAXoZAMzMzM7Mch0BmZmZm5tqHQJqZmZkZmYhAzczMzExXiUAAAAAAgBWKQDMzMzOz04pAZmZmZuaRi0CamZmZGVCMQM3MzMxMDo1AAAAAAIDMjUAzMzMzs4qOQGZmZmbmSI9A\",\"dtype\":\"float64\",\"shape\":[75]}}},\"id\":\"72902980-2fcb-48fa-9983-cce3a677e854\",\"type\":\"ColumnDataSource\"},{\"attributes\":{\"plot\":null,\"text\":\"Linear pressure scale\"},\"id\":\"d1f3a717-f9bf-45b3-b5e2-fcf9d830245e\",\"type\":\"Title\"},{\"attributes\":{\"source\":{\"id\":\"72902980-2fcb-48fa-9983-cce3a677e854\",\"type\":\"ColumnDataSource\"}},\"id\":\"80a25485-d6d4-42b9-b1ba-608e06611b61\",\"type\":\"CDSView\"},{\"attributes\":{\"below\":[{\"id\":\"c1a2b411-57d9-4ecd-a01d-5254dc5e3c10\",\"type\":\"LinearAxis\"}],\"left\":[{\"id\":\"26f2417f-dad9-4d89-a1c3-b9e0240185f6\",\"type\":\"LogAxis\"}],\"plot_height\":500,\"plot_width\":560,\"renderers\":[{\"id\":\"c1a2b411-57d9-4ecd-a01d-5254dc5e3c10\",\"type\":\"LinearAxis\"},{\"id\":\"2e64478f-c184-4dd4-b00d-36180b3f4215\",\"type\":\"Grid\"},{\"id\":\"26f2417f-dad9-4d89-a1c3-b9e0240185f6\",\"type\":\"LogAxis\"},{\"id\":\"f8f8a745-ad61-4636-930e-6858c211aef1\",\"type\":\"Grid\"},{\"id\":\"4099d0d0-2c3f-4118-8b93-1462c11d8258\",\"type\":\"BoxAnnotation\"},{\"id\":\"f9d60f7b-27cc-4076-9ce9-8979c617c8dd\",\"type\":\"GlyphRenderer\"},{\"id\":\"5cb05b88-86df-4081-9988-b02176279433\",\"type\":\"GlyphRenderer\"},{\"id\":\"d387fdcb-3f4c-4bcb-9c10-a832107bd1b9\",\"type\":\"GlyphRenderer\"},{\"id\":\"07638f6b-2fd2-4b1b-b054-11c446ae0f75\",\"type\":\"GlyphRenderer\"},{\"id\":\"2e258a75-ba4f-4446-9687-33655aedfe7b\",\"type\":\"GlyphRenderer\"},{\"id\":\"1f410f76-1a8a-420c-b3f0-66dfc3fbd126\",\"type\":\"Legend\"}],\"right\":[{\"id\":\"1f410f76-1a8a-420c-b3f0-66dfc3fbd126\",\"type\":\"Legend\"}],\"title\":{\"id\":\"437af55e-e8ef-405b-adfb-f8e8870b8c73\",\"type\":\"Title\"},\"toolbar\":{\"id\":\"07a98ddd-5006-4bfd-b347-85d54cd123f3\",\"type\":\"Toolbar\"},\"toolbar_location\":null,\"x_range\":{\"id\":\"240a8434-c3af-4ec8-bd86-c1abdd353f1c\",\"type\":\"Range1d\"},\"x_scale\":{\"id\":\"59105922-d12c-4c25-920a-c10396c21864\",\"type\":\"LinearScale\"},\"y_range\":{\"id\":\"4417abfb-4cf5-4536-9af7-c04b9e3e3286\",\"type\":\"Range1d\"},\"y_scale\":{\"id\":\"8eba6fe9-ed25-43ba-a0b4-320db5ac1dac\",\"type\":\"LogScale\"}},\"id\":\"bcd8dcdd-d310-4713-99fc-5730a5b5a994\",\"subtype\":\"Figure\",\"type\":\"Plot\"},{\"attributes\":{\"source\":{\"id\":\"9d595d45-83dd-4c24-bfd3-3c3525f47b97\",\"type\":\"ColumnDataSource\"}},\"id\":\"7e843b71-2049-4c33-9c51-aeddc4d47b9c\",\"type\":\"CDSView\"},{\"attributes\":{\"fill_alpha\":{\"value\":0.7},\"fill_color\":{\"value\":\"#984ea3\"},\"line_alpha\":{\"value\":0.7},\"line_color\":{\"value\":\"#984ea3\"},\"x\":{\"field\":\"x\"},\"y\":{\"field\":\"y\"}},\"id\":\"424639ee-5a35-4232-9ebf-f25fdd36f8d2\",\"type\":\"Square\"},{\"attributes\":{\"label\":{\"value\":\"CLIRAD `coolr_bands`\"},\"renderers\":[{\"id\":\"f9d60f7b-27cc-4076-9ce9-8979c617c8dd\",\"type\":\"GlyphRenderer\"}]},\"id\":\"dbec5062-9997-4a6c-a41e-06062d7a3ea9\",\"type\":\"LegendItem\"},{\"attributes\":{\"bottom_units\":\"screen\",\"fill_alpha\":{\"value\":0.5},\"fill_color\":{\"value\":\"lightgrey\"},\"left_units\":\"screen\",\"level\":\"overlay\",\"line_alpha\":{\"value\":1.0},\"line_color\":{\"value\":\"black\"},\"line_dash\":[4,4],\"line_width\":{\"value\":2},\"plot\":null,\"render_mode\":\"css\",\"right_units\":\"screen\",\"top_units\":\"screen\"},\"id\":\"9a119b05-422e-42da-99a6-8a8d9ae46594\",\"type\":\"BoxAnnotation\"},{\"attributes\":{\"source\":{\"id\":\"a056cbc3-2f93-450b-8759-0740ca29b7c8\",\"type\":\"ColumnDataSource\"}},\"id\":\"2e543740-ae0c-4801-9944-be076cb41c0a\",\"type\":\"CDSView\"},{\"attributes\":{\"fill_alpha\":{\"value\":0.7},\"fill_color\":{\"value\":\"#4daf4a\"},\"line_alpha\":{\"value\":0.7},\"line_color\":{\"value\":\"#4daf4a\"},\"x\":{\"field\":\"x\"},\"y\":{\"field\":\"y\"}},\"id\":\"1e468ea2-e36f-4279-8823-5144d951d3d2\",\"type\":\"Circle\"},{\"attributes\":{\"fill_alpha\":{\"value\":0.1},\"fill_color\":{\"value\":\"#1f77b4\"},\"line_alpha\":{\"value\":0.1},\"line_color\":{\"value\":\"#1f77b4\"},\"x\":{\"field\":\"x\"},\"y\":{\"field\":\"y\"}},\"id\":\"f0a39a9f-124c-417b-8203-434aa37eba42\",\"type\":\"Circle\"},{\"attributes\":{\"source\":{\"id\":\"17fd5d83-2be4-44d5-8d41-14bcb9a664f2\",\"type\":\"ColumnDataSource\"}},\"id\":\"3a8eee38-339d-4e6d-bd7c-ad571631728e\",\"type\":\"CDSView\"},{\"attributes\":{\"label\":{\"value\":\"CRD\"},\"renderers\":[{\"id\":\"5cb05b88-86df-4081-9988-b02176279433\",\"type\":\"GlyphRenderer\"},{\"id\":\"d387fdcb-3f4c-4bcb-9c10-a832107bd1b9\",\"type\":\"GlyphRenderer\"}]},\"id\":\"5a4485d7-07cd-43c1-9aad-bc944e59aff5\",\"type\":\"LegendItem\"},{\"attributes\":{},\"id\":\"b1f3ee72-7d18-4683-8533-9325cdbd26ea\",\"type\":\"HelpTool\"},{\"attributes\":{\"fill_alpha\":{\"value\":0.1},\"fill_color\":{\"value\":\"#1f77b4\"},\"line_alpha\":{\"value\":0.1},\"line_color\":{\"value\":\"#1f77b4\"},\"x\":{\"field\":\"x\"},\"y\":{\"field\":\"y\"}},\"id\":\"ae63be25-a33a-4fd3-af6b-3ff688fc2d06\",\"type\":\"Square\"},{\"attributes\":{\"line_alpha\":0.6,\"line_color\":\"#984ea3\",\"line_width\":3,\"x\":{\"field\":\"x\"},\"y\":{\"field\":\"y\"}},\"id\":\"02b2073a-72f4-49a9-90f9-f0eb3f92f2ab\",\"type\":\"Line\"},{\"attributes\":{\"fill_alpha\":{\"value\":0.7},\"fill_color\":{\"value\":\"#984ea3\"},\"line_alpha\":{\"value\":0.7},\"line_color\":{\"value\":\"#984ea3\"},\"x\":{\"field\":\"x\"},\"y\":{\"field\":\"y\"}},\"id\":\"7d018ca3-fbe6-4337-9913-e5ca65e08a82\",\"type\":\"Square\"},{\"attributes\":{\"source\":{\"id\":\"cace6d88-d0cb-4393-8519-bc1c3dc0722f\",\"type\":\"ColumnDataSource\"}},\"id\":\"8193c45b-787d-41f5-99c3-9bd19fa53a2e\",\"type\":\"CDSView\"},{\"attributes\":{},\"id\":\"277dad3b-412a-49c7-8745-7a0ab1130497\",\"type\":\"ResetTool\"},{\"attributes\":{\"source\":{\"id\":\"aec023ba-3315-440a-b80e-5366add0f78b\",\"type\":\"ColumnDataSource\"}},\"id\":\"a4e83bd4-85da-4b48-ab38-c2f72f9e1fac\",\"type\":\"CDSView\"},{\"attributes\":{\"line_alpha\":0.6,\"line_color\":\"#984ea3\",\"line_width\":3,\"x\":{\"field\":\"x\"},\"y\":{\"field\":\"y\"}},\"id\":\"ba423e81-1b89-4f00-aa78-c9db21210eb0\",\"type\":\"Line\"},{\"attributes\":{\"axis_label\":\"pressure [mb]\",\"formatter\":{\"id\":\"315c4858-c9ea-4f29-8200-894fd74fad32\",\"type\":\"LogTickFormatter\"},\"plot\":{\"id\":\"bcd8dcdd-d310-4713-99fc-5730a5b5a994\",\"subtype\":\"Figure\",\"type\":\"Plot\"},\"ticker\":{\"id\":\"03518d34-7a42-40aa-806d-8e9c781bdf37\",\"type\":\"LogTicker\"}},\"id\":\"26f2417f-dad9-4d89-a1c3-b9e0240185f6\",\"type\":\"LogAxis\"},{\"attributes\":{\"data_source\":{\"id\":\"d48e11b9-8525-460f-a56c-29cb223d8271\",\"type\":\"ColumnDataSource\"},\"glyph\":{\"id\":\"ba423e81-1b89-4f00-aa78-c9db21210eb0\",\"type\":\"Line\"},\"hover_glyph\":null,\"muted_glyph\":null,\"nonselection_glyph\":{\"id\":\"ccbdcae8-34a3-4b25-ae5b-6fccd1fc2bf8\",\"type\":\"Line\"},\"selection_glyph\":null,\"view\":{\"id\":\"687e6e8c-a15f-4019-98f0-7468f8c25938\",\"type\":\"CDSView\"}},\"id\":\"2e258a75-ba4f-4446-9687-33655aedfe7b\",\"type\":\"GlyphRenderer\"},{\"attributes\":{\"children\":[{\"id\":\"14bef7ad-0a8d-49e2-95f8-95257d0e4cc1\",\"subtype\":\"Figure\",\"type\":\"Plot\"},{\"id\":\"bcd8dcdd-d310-4713-99fc-5730a5b5a994\",\"subtype\":\"Figure\",\"type\":\"Plot\"}]},\"id\":\"533ea220-ed7a-4bdf-92b6-485f37e17475\",\"type\":\"Row\"},{\"attributes\":{\"line_alpha\":0.1,\"line_color\":\"#1f77b4\",\"line_width\":3,\"x\":{\"field\":\"x\"},\"y\":{\"field\":\"y\"}},\"id\":\"ccbdcae8-34a3-4b25-ae5b-6fccd1fc2bf8\",\"type\":\"Line\"},{\"attributes\":{\"overlay\":{\"id\":\"9a119b05-422e-42da-99a6-8a8d9ae46594\",\"type\":\"BoxAnnotation\"}},\"id\":\"52c41164-5e45-4cb7-bac3-b5864104c211\",\"type\":\"BoxZoomTool\"},{\"attributes\":{\"source\":{\"id\":\"d48e11b9-8525-460f-a56c-29cb223d8271\",\"type\":\"ColumnDataSource\"}},\"id\":\"687e6e8c-a15f-4019-98f0-7468f8c25938\",\"type\":\"CDSView\"},{\"attributes\":{},\"id\":\"5e18c0c9-da31-406f-97d6-527ba1075d52\",\"type\":\"BasicTickFormatter\"},{\"attributes\":{\"label\":{\"value\":\"WGT igg=10 wgt_flux=2\"},\"renderers\":[{\"id\":\"07638f6b-2fd2-4b1b-b054-11c446ae0f75\",\"type\":\"GlyphRenderer\"},{\"id\":\"2e258a75-ba4f-4446-9687-33655aedfe7b\",\"type\":\"GlyphRenderer\"}]},\"id\":\"b585cea1-aa20-45f1-9ba5-8249ae727b8c\",\"type\":\"LegendItem\"},{\"attributes\":{\"toolbar\":{\"id\":\"aa766dc0-fccf-432f-858a-80f328a5d498\",\"type\":\"ProxyToolbar\"},\"toolbar_location\":\"above\"},\"id\":\"26d9dc6b-0fc1-40d9-b51d-76fd90054a37\",\"type\":\"ToolbarBox\"},{\"attributes\":{\"callback\":null,\"end\":0.204764367549,\"start\":0.006150217551},\"id\":\"c65ddb73-9a33-45c2-bf6a-56747c72c2c4\",\"type\":\"Range1d\"},{\"attributes\":{\"children\":[{\"id\":\"26d9dc6b-0fc1-40d9-b51d-76fd90054a37\",\"type\":\"ToolbarBox\"},{\"id\":\"f54d54c7-2feb-429c-83bd-d8b0598bbe7f\",\"type\":\"Column\"}]},\"id\":\"dd64d4a0-cd2b-42c9-a16b-2277df0f7082\",\"type\":\"Column\"},{\"attributes\":{\"data_source\":{\"id\":\"17fd5d83-2be4-44d5-8d41-14bcb9a664f2\",\"type\":\"ColumnDataSource\"},\"glyph\":{\"id\":\"02b2073a-72f4-49a9-90f9-f0eb3f92f2ab\",\"type\":\"Line\"},\"hover_glyph\":null,\"muted_glyph\":null,\"nonselection_glyph\":{\"id\":\"18e8c666-23e1-494c-afa4-7122fcd02e7e\",\"type\":\"Line\"},\"selection_glyph\":null,\"view\":{\"id\":\"3a8eee38-339d-4e6d-bd7c-ad571631728e\",\"type\":\"CDSView\"}},\"id\":\"ece476f4-68a4-41d4-8c70-2d07e8021000\",\"type\":\"GlyphRenderer\"},{\"attributes\":{\"callback\":null,\"column_names\":[\"x\",\"y\"],\"data\":{\"x\":{\"__ndarray__\":\"lAUCU7yAxz/MLUpcCdXKP57eOVKFmNE/E8RxxzhS1j/MlqyKcFPbP1eTCtdhVOA/hrDYLoYV4z8BMrYIc9jlP/kbSHJUieg/NJ5rDPgE6z/WdD3RdSHtPzAA4BrQue4/Z+Edpp6h7z/pt23nFCfvP4y5EFCGz+w/knFzx+6E6T86ie9hgjzmP7lG0/JmgeM/4hdFrFHR4T/96AbQEIrhP5JpI43A7uI/XKvBJCpO4j/ZM/i5qZrdP4tzDn37Y9c/WQIAMjrB0j/uiLeMowvOP6UbF8T2ycc/IleHL1Vhwz9XKE7F+PbAP6FRNryLvb0/sPZZYO16uD9vi70N7cCyP1LV8m07Ga8/WGf2JY1krj9Tted2UgavP0vv3vtiibA/3XGzDRYtsT/BYBOm40KwP3EtPCpcYa0/Gz2BJ2JOqj/V6ZEdUyunP8XEwBw4xaM/k0XZ3EoPoD+w4PPNelSXP4yAr40d+Yg/OoxZGKHdgj8w1sqTiheUP36sXH99OqE/rrWKDfz5qD+12WWze9awP8WIgQR+OrU/cbRueWh8uT+zyMBLune9P8yXeorahcA/w1foQUkawj8/w7xDYYLDP/PUl2OByMQ/mbagc47sxT8J88OtJ9/GPxhvEiCWj8c/IcEaiOH6xz++nxov3STIP57SXtCEHsg/rQPWYND4xz8vsjJUpMbHP3ONQ7sSmsc/87ufCQOFxz8w5hnB54PHP6m2xF/NYMc/H6a3Hgmkxj+VA6hvuuHEPxLR+Tq6W8I/OtQIYHd4vz8ksCBqLnm6P91D4wXoKbU/\",\"dtype\":\"float64\",\"shape\":[75]},\"y\":{\"__ndarray__\":\"GhExyth1ND/Sv8nbtpRIP2vylNV0PVE/aTum7souWD/At0SJ8fVgPw3Iuahxymc/MSNhhJWvcD/bTfBN02d3P2zb5nxnaoA/CD5h5MAGhz8NmeH1TyaQP+zrCsc9p5Y/LbKd76fGnz/bLW5ISEmmPww9YvTcQq8/JV2OstnstT8Er5Y7M8G+P0c+r3jqkcU/5h99k6ZBzj88bCIzFzjVP4enV8oyxN0//yH99nXg5D8qOpLLf0jtP5kqGJXUifQ/c9cS8kHP/D+/DpwzojQEQIEmwoanVwxA4lgXt9HgE0BSSZ2AJuIbQAMJih9jjiNA5q4l5INuK0AwTKYKRj0zQNv5fmq8/DpAaCJseHrtQkB/+zpwzoxKQM3MzMzMeFJAZmZmZmZqWEAAAAAAAFxeQM3MzMzMJmJAmpmZmZkfZUBmZmZmZhhoQDMzMzMzEWtAAAAAAAAKbkBmZmZmZoFwQM3MzMzM/XFAMzMzMzN6c0CamZmZmfZ0QAAAAAAAc3ZAZmZmZmbvd0DNzMzMzGt5QDMzMzMz6HpAmpmZmZlkfEAAAAAAAOF9QGZmZmZmXX9AZmZmZuZsgECamZmZGSuBQM3MzMxM6YFAAAAAAICngkAzMzMzs2WDQGZmZmbmI4RAmpmZmRnihEDNzMzMTKCFQAAAAACAXoZAMzMzM7Mch0BmZmZm5tqHQJqZmZkZmYhAzczMzExXiUAAAAAAgBWKQDMzMzOz04pAZmZmZuaRi0CamZmZGVCMQM3MzMxMDo1AAAAAAIDMjUAzMzMzs4qOQGZmZmbmSI9A\",\"dtype\":\"float64\",\"shape\":[75]}}},\"id\":\"17fd5d83-2be4-44d5-8d41-14bcb9a664f2\",\"type\":\"ColumnDataSource\"},{\"attributes\":{\"active_drag\":\"auto\",\"active_inspect\":\"auto\",\"active_scroll\":\"auto\",\"active_tap\":\"auto\",\"tools\":[{\"id\":\"9423b720-2626-4f38-8018-63e38a534fef\",\"type\":\"PanTool\"},{\"id\":\"ed1fad01-65ec-4121-a0c4-3abdfd5b2cfa\",\"type\":\"WheelZoomTool\"},{\"id\":\"52c41164-5e45-4cb7-bac3-b5864104c211\",\"type\":\"BoxZoomTool\"},{\"id\":\"5b2a9fa1-45b5-4b2e-8072-10130ebabf3f\",\"type\":\"SaveTool\"},{\"id\":\"277dad3b-412a-49c7-8745-7a0ab1130497\",\"type\":\"ResetTool\"},{\"id\":\"b1f3ee72-7d18-4683-8533-9325cdbd26ea\",\"type\":\"HelpTool\"}]},\"id\":\"9f156044-aff5-4ec4-8638-d3c4c158b104\",\"type\":\"Toolbar\"},{\"attributes\":{},\"id\":\"b8bb0a7d-6ee5-4330-8b27-c20c00787479\",\"type\":\"LinearScale\"},{\"attributes\":{\"line_alpha\":0.1,\"line_color\":\"#1f77b4\",\"line_width\":3,\"x\":{\"field\":\"x\"},\"y\":{\"field\":\"y\"}},\"id\":\"18e8c666-23e1-494c-afa4-7122fcd02e7e\",\"type\":\"Line\"},{\"attributes\":{\"plot\":null,\"text\":\"Log pressure scale\"},\"id\":\"437af55e-e8ef-405b-adfb-f8e8870b8c73\",\"type\":\"Title\"},{\"attributes\":{\"data_source\":{\"id\":\"aec023ba-3315-440a-b80e-5366add0f78b\",\"type\":\"ColumnDataSource\"},\"glyph\":{\"id\":\"7d018ca3-fbe6-4337-9913-e5ca65e08a82\",\"type\":\"Square\"},\"hover_glyph\":null,\"muted_glyph\":null,\"nonselection_glyph\":{\"id\":\"077a4a80-21a3-4169-9d9e-35aee70ad008\",\"type\":\"Square\"},\"selection_glyph\":null,\"view\":{\"id\":\"a4e83bd4-85da-4b48-ab38-c2f72f9e1fac\",\"type\":\"CDSView\"}},\"id\":\"04b23993-546d-4ab9-924d-69d433dfbe47\",\"type\":\"GlyphRenderer\"},{\"attributes\":{\"active_drag\":\"auto\",\"active_inspect\":\"auto\",\"active_scroll\":\"auto\",\"active_tap\":\"auto\",\"tools\":[{\"id\":\"4d1cc599-4274-4834-a8f9-7fa6d193d692\",\"type\":\"PanTool\"},{\"id\":\"590fc826-339f-401b-97ad-12172b2fb5bf\",\"type\":\"WheelZoomTool\"},{\"id\":\"e6a7a999-9670-43c9-ad87-ce29161c2d23\",\"type\":\"BoxZoomTool\"},{\"id\":\"922c3677-ae63-4b63-be6b-f3426cd20e09\",\"type\":\"SaveTool\"},{\"id\":\"aaaec5dd-6543-454f-a69a-093bce635cfc\",\"type\":\"ResetTool\"},{\"id\":\"084737c3-8858-4a47-a206-8a3d0d725ed4\",\"type\":\"HelpTool\"}]},\"id\":\"07a98ddd-5006-4bfd-b347-85d54cd123f3\",\"type\":\"Toolbar\"},{\"attributes\":{\"below\":[{\"id\":\"96c89d89-38bf-4c48-9b44-bc71287a4318\",\"type\":\"LinearAxis\"}],\"left\":[{\"id\":\"9937a0cc-0564-4831-9b7e-1789398d0f2b\",\"type\":\"LinearAxis\"}],\"plot_height\":500,\"plot_width\":400,\"renderers\":[{\"id\":\"96c89d89-38bf-4c48-9b44-bc71287a4318\",\"type\":\"LinearAxis\"},{\"id\":\"7ac1abb0-c0f6-4a9d-ab0c-08a22a11b951\",\"type\":\"Grid\"},{\"id\":\"9937a0cc-0564-4831-9b7e-1789398d0f2b\",\"type\":\"LinearAxis\"},{\"id\":\"a1b5dc37-446e-49ea-9c32-8d6b1d7fa180\",\"type\":\"Grid\"},{\"id\":\"9a119b05-422e-42da-99a6-8a8d9ae46594\",\"type\":\"BoxAnnotation\"},{\"id\":\"86c14551-8cf9-4378-b7d6-078cbbd0dac9\",\"type\":\"GlyphRenderer\"},{\"id\":\"13f9d101-20b9-438b-83b0-5e98943c03c6\",\"type\":\"GlyphRenderer\"},{\"id\":\"9b68a696-f780-4add-89d0-b19fcb71bf3f\",\"type\":\"GlyphRenderer\"},{\"id\":\"04b23993-546d-4ab9-924d-69d433dfbe47\",\"type\":\"GlyphRenderer\"},{\"id\":\"ece476f4-68a4-41d4-8c70-2d07e8021000\",\"type\":\"GlyphRenderer\"}],\"title\":{\"id\":\"d1f3a717-f9bf-45b3-b5e2-fcf9d830245e\",\"type\":\"Title\"},\"toolbar\":{\"id\":\"9f156044-aff5-4ec4-8638-d3c4c158b104\",\"type\":\"Toolbar\"},\"toolbar_location\":null,\"x_range\":{\"id\":\"c65ddb73-9a33-45c2-bf6a-56747c72c2c4\",\"type\":\"Range1d\"},\"x_scale\":{\"id\":\"5c9e30f0-0996-4a2e-b6f5-4bf7205eaca5\",\"type\":\"LinearScale\"},\"y_range\":{\"id\":\"4ca49695-d6a5-4030-b75e-adafe9ffd91d\",\"type\":\"Range1d\"},\"y_scale\":{\"id\":\"b8bb0a7d-6ee5-4330-8b27-c20c00787479\",\"type\":\"LinearScale\"}},\"id\":\"14bef7ad-0a8d-49e2-95f8-95257d0e4cc1\",\"subtype\":\"Figure\",\"type\":\"Plot\"},{\"attributes\":{\"axis_label\":\"cooling rate [K/day]\",\"formatter\":{\"id\":\"6efbdd0f-dd63-40d3-ae70-b81a9fb13ad9\",\"type\":\"BasicTickFormatter\"},\"plot\":{\"id\":\"bcd8dcdd-d310-4713-99fc-5730a5b5a994\",\"subtype\":\"Figure\",\"type\":\"Plot\"},\"ticker\":{\"id\":\"e1ba04a7-5f70-4f07-84c3-a81dd9668d4f\",\"type\":\"BasicTicker\"}},\"id\":\"c1a2b411-57d9-4ecd-a01d-5254dc5e3c10\",\"type\":\"LinearAxis\"},{\"attributes\":{},\"id\":\"59105922-d12c-4c25-920a-c10396c21864\",\"type\":\"LinearScale\"},{\"attributes\":{\"fill_alpha\":{\"value\":0.1},\"fill_color\":{\"value\":\"#1f77b4\"},\"line_alpha\":{\"value\":0.1},\"line_color\":{\"value\":\"#1f77b4\"},\"x\":{\"field\":\"x\"},\"y\":{\"field\":\"y\"}},\"id\":\"077a4a80-21a3-4169-9d9e-35aee70ad008\",\"type\":\"Square\"},{\"attributes\":{\"source\":{\"id\":\"78b4fedc-0529-425f-bf55-f643251ac7a2\",\"type\":\"ColumnDataSource\"}},\"id\":\"6d06d042-a5aa-4388-81a5-8afc2c5a67e0\",\"type\":\"CDSView\"},{\"attributes\":{\"callback\":null,\"column_names\":[\"x\",\"y\"],\"data\":{\"x\":{\"__ndarray__\":\"lGIuRrCzvz/djMMuxMnCP+FOO19gFMo/QTHsDxgU0T/DLLRzmoXVP/bBKsUrXNo/YiIQdUCO3z8OMPMd/ITiP1HOQPpgWOU/ieykOvQo6D+iL7WMcdHqP9htBm6TIO0/5qP3UwTU7j+i7JAPOBrvP25fME1LS+0/CZSHZEwK6j+lHlhEA0fmP4tRtswS0uI/HIUcQjKQ4D8qd/qcFhfgP1PGZBZGn+E/DEnaSyJ04T+Q9v2jiO/cP/+Gu0BqT9c/zvgA1Sbr0j/ouOAtDGjOP2k/StM9Psg/Api2qOTWwz9KuwtzBm/BP+yATrXUSb4/amD1kaWguD9opDZVHZCyPzXXcxYZxK0/eai8Cf3Nqz8zdJihhKisP6wQKeKBvK8/Vp095u+dsD+g2nOoxTGvPzpkyIZ1sKs/XvkVMw5qqD850kSY1U2lPywrJ4OeK6I/MuHr+QeCnT80Hy4+p06VP0cVFPKAM4Y/HQhLqGCVgD8Q2drXjp2SP1hvFielPaA/nEakt4mkpz+NyiJUduivP3A22ePeLLQ/m1itOhVquD8Sqg6YC4W8P/Tq84OAHcA/tyzbXj20wT9/JDZpZCHDP7aOgadWgMQ/uX3iQhbQxT/Tpof0HfTGP5JdSAvA1Mc/21WCpNNjyD/HDmyN76jIPz2YNS2Is8g/UxB2aUeayD9p0fGHVXLIP64Io/4fTMg/aTnxUVY+yD/mMAwWVkPIP5lLaJrJGsg/1ryRFrpUxz+Y9QdvtIjFP60nwp9E+MI/ScGugQhMwD9d422EyX27PwHHa0zyHbY/\",\"dtype\":\"float64\",\"shape\":[75]},\"y\":{\"__ndarray__\":\"S/O/Q+51ND/Sv8nbtpRIP2vylNV0PVE/aTum7souWD/At0SJ8fVgPw3Iuahxymc/MSNhhJWvcD/bTfBN02d3P2zb5nxnaoA/CD5h5MAGhz8NmeH1TyaQP+zrCsc9p5Y/LbKd76fGnz/bLW5ISEmmPww9YvTcQq8/JV2OstnstT8Er5Y7M8G+P0c+r3jqkcU/5h99k6ZBzj88bCIzFzjVP4enV8oyxN0//yH99nXg5D8qOpLLf0jtP5kqGJXUifQ/c9cS8kHP/D+/DpwzojQEQIEmwoanVwxA4lgXt9HgE0BSSZ2AJuIbQAMJih9jjiNA5q4l5INuK0AwTKYKRj0zQNv5fmq8/DpAaCJseHrtQkB/+zpwzoxKQM3MzMzMeFJAZmZmZmZqWEAAAAAAAFxeQM3MzMzMJmJAmpmZmZkfZUBmZmZmZhhoQDMzMzMzEWtAAAAAAAAKbkBmZmZmZoFwQM3MzMzM/XFAMzMzMzN6c0CamZmZmfZ0QAAAAAAAc3ZAZmZmZmbvd0DNzMzMzGt5QDMzMzMz6HpAmpmZmZlkfEAAAAAAAOF9QGZmZmZmXX9AZmZmZuZsgECamZmZGSuBQM3MzMxM6YFAAAAAAICngkAzMzMzs2WDQGZmZmbmI4RAmpmZmRnihEDNzMzMTKCFQAAAAACAXoZAMzMzM7Mch0BmZmZm5tqHQJqZmZkZmYhAzczMzExXiUAAAAAAgBWKQDMzMzOz04pAZmZmZuaRi0CamZmZGVCMQM3MzMxMDo1AAAAAAIDMjUAzMzMzs4qOQGZmZmbmSI9A\",\"dtype\":\"float64\",\"shape\":[75]}}},\"id\":\"f59d37ff-b173-4384-8ab3-a39012aad18c\",\"type\":\"ColumnDataSource\"},{\"attributes\":{\"dimension\":1,\"plot\":{\"id\":\"bcd8dcdd-d310-4713-99fc-5730a5b5a994\",\"subtype\":\"Figure\",\"type\":\"Plot\"},\"ticker\":{\"id\":\"03518d34-7a42-40aa-806d-8e9c781bdf37\",\"type\":\"LogTicker\"}},\"id\":\"f8f8a745-ad61-4636-930e-6858c211aef1\",\"type\":\"Grid\"},{\"attributes\":{\"line_alpha\":0.1,\"line_color\":\"#1f77b4\",\"line_width\":1.5,\"x\":{\"field\":\"x\"},\"y\":{\"field\":\"y\"}},\"id\":\"97960d11-2b04-4df7-86cd-6b0297652929\",\"type\":\"Line\"},{\"attributes\":{\"bottom_units\":\"screen\",\"fill_alpha\":{\"value\":0.5},\"fill_color\":{\"value\":\"lightgrey\"},\"left_units\":\"screen\",\"level\":\"overlay\",\"line_alpha\":{\"value\":1.0},\"line_color\":{\"value\":\"black\"},\"line_dash\":[4,4],\"line_width\":{\"value\":2},\"plot\":null,\"render_mode\":\"css\",\"right_units\":\"screen\",\"top_units\":\"screen\"},\"id\":\"4099d0d0-2c3f-4118-8b93-1462c11d8258\",\"type\":\"BoxAnnotation\"},{\"attributes\":{\"plot\":{\"id\":\"14bef7ad-0a8d-49e2-95f8-95257d0e4cc1\",\"subtype\":\"Figure\",\"type\":\"Plot\"},\"ticker\":{\"id\":\"23f5ed72-a76b-4858-a33a-443ec9bea03a\",\"type\":\"BasicTicker\"}},\"id\":\"7ac1abb0-c0f6-4a9d-ab0c-08a22a11b951\",\"type\":\"Grid\"},{\"attributes\":{\"overlay\":{\"id\":\"4099d0d0-2c3f-4118-8b93-1462c11d8258\",\"type\":\"BoxAnnotation\"}},\"id\":\"e6a7a999-9670-43c9-ad87-ce29161c2d23\",\"type\":\"BoxZoomTool\"},{\"attributes\":{},\"id\":\"ed1fad01-65ec-4121-a0c4-3abdfd5b2cfa\",\"type\":\"WheelZoomTool\"},{\"attributes\":{\"callback\":null,\"end\":0.01,\"start\":1020},\"id\":\"4ca49695-d6a5-4030-b75e-adafe9ffd91d\",\"type\":\"Range1d\"},{\"attributes\":{},\"id\":\"e1ba04a7-5f70-4f07-84c3-a81dd9668d4f\",\"type\":\"BasicTicker\"},{\"attributes\":{\"dimension\":1,\"plot\":{\"id\":\"14bef7ad-0a8d-49e2-95f8-95257d0e4cc1\",\"subtype\":\"Figure\",\"type\":\"Plot\"},\"ticker\":{\"id\":\"badbab7e-d467-49b0-9878-5d7791d048b8\",\"type\":\"BasicTicker\"}},\"id\":\"a1b5dc37-446e-49ea-9c32-8d6b1d7fa180\",\"type\":\"Grid\"},{\"attributes\":{\"num_minor_ticks\":10},\"id\":\"03518d34-7a42-40aa-806d-8e9c781bdf37\",\"type\":\"LogTicker\"},{\"attributes\":{\"data_source\":{\"id\":\"a056cbc3-2f93-450b-8759-0740ca29b7c8\",\"type\":\"ColumnDataSource\"},\"glyph\":{\"id\":\"1d4a1e0d-97aa-42c1-9fdb-aece8affc8ba\",\"type\":\"Line\"},\"hover_glyph\":null,\"muted_glyph\":null,\"nonselection_glyph\":{\"id\":\"97960d11-2b04-4df7-86cd-6b0297652929\",\"type\":\"Line\"},\"selection_glyph\":null,\"view\":{\"id\":\"2e543740-ae0c-4801-9944-be076cb41c0a\",\"type\":\"CDSView\"}},\"id\":\"9b68a696-f780-4add-89d0-b19fcb71bf3f\",\"type\":\"GlyphRenderer\"},{\"attributes\":{},\"id\":\"922c3677-ae63-4b63-be6b-f3426cd20e09\",\"type\":\"SaveTool\"},{\"attributes\":{},\"id\":\"badbab7e-d467-49b0-9878-5d7791d048b8\",\"type\":\"BasicTicker\"},{\"attributes\":{},\"id\":\"9423b720-2626-4f38-8018-63e38a534fef\",\"type\":\"PanTool\"},{\"attributes\":{},\"id\":\"084737c3-8858-4a47-a206-8a3d0d725ed4\",\"type\":\"HelpTool\"},{\"attributes\":{\"axis_label\":\"pressure [mb]\",\"formatter\":{\"id\":\"e60ed443-67d8-49e3-bcdb-33441ac5f14a\",\"type\":\"BasicTickFormatter\"},\"plot\":{\"id\":\"14bef7ad-0a8d-49e2-95f8-95257d0e4cc1\",\"subtype\":\"Figure\",\"type\":\"Plot\"},\"ticker\":{\"id\":\"badbab7e-d467-49b0-9878-5d7791d048b8\",\"type\":\"BasicTicker\"}},\"id\":\"9937a0cc-0564-4831-9b7e-1789398d0f2b\",\"type\":\"LinearAxis\"},{\"attributes\":{},\"id\":\"23f5ed72-a76b-4858-a33a-443ec9bea03a\",\"type\":\"BasicTicker\"},{\"attributes\":{},\"id\":\"4d1cc599-4274-4834-a8f9-7fa6d193d692\",\"type\":\"PanTool\"},{\"attributes\":{\"axis_label\":\"cooling rate [K/day]\",\"formatter\":{\"id\":\"5e18c0c9-da31-406f-97d6-527ba1075d52\",\"type\":\"BasicTickFormatter\"},\"plot\":{\"id\":\"14bef7ad-0a8d-49e2-95f8-95257d0e4cc1\",\"subtype\":\"Figure\",\"type\":\"Plot\"},\"ticker\":{\"id\":\"23f5ed72-a76b-4858-a33a-443ec9bea03a\",\"type\":\"BasicTicker\"}},\"id\":\"96c89d89-38bf-4c48-9b44-bc71287a4318\",\"type\":\"LinearAxis\"},{\"attributes\":{\"callback\":null,\"column_names\":[\"x\",\"y\"],\"data\":{\"x\":{\"__ndarray__\":\"lGIuRrCzvz/djMMuxMnCP+FOO19gFMo/QTHsDxgU0T/DLLRzmoXVP/bBKsUrXNo/YiIQdUCO3z8OMPMd/ITiP1HOQPpgWOU/ieykOvQo6D+iL7WMcdHqP9htBm6TIO0/5qP3UwTU7j+i7JAPOBrvP25fME1LS+0/CZSHZEwK6j+lHlhEA0fmP4tRtswS0uI/HIUcQjKQ4D8qd/qcFhfgP1PGZBZGn+E/DEnaSyJ04T+Q9v2jiO/cP/+Gu0BqT9c/zvgA1Sbr0j/ouOAtDGjOP2k/StM9Psg/Api2qOTWwz9KuwtzBm/BP+yATrXUSb4/amD1kaWguD9opDZVHZCyPzXXcxYZxK0/eai8Cf3Nqz8zdJihhKisP6wQKeKBvK8/Vp095u+dsD+g2nOoxTGvPzpkyIZ1sKs/XvkVMw5qqD850kSY1U2lPywrJ4OeK6I/MuHr+QeCnT80Hy4+p06VP0cVFPKAM4Y/HQhLqGCVgD8Q2drXjp2SP1hvFielPaA/nEakt4mkpz+NyiJUduivP3A22ePeLLQ/m1itOhVquD8Sqg6YC4W8P/Tq84OAHcA/tyzbXj20wT9/JDZpZCHDP7aOgadWgMQ/uX3iQhbQxT/Tpof0HfTGP5JdSAvA1Mc/21WCpNNjyD/HDmyN76jIPz2YNS2Is8g/UxB2aUeayD9p0fGHVXLIP64Io/4fTMg/aTnxUVY+yD/mMAwWVkPIP5lLaJrJGsg/1ryRFrpUxz+Y9QdvtIjFP60nwp9E+MI/ScGugQhMwD9d422EyX27PwHHa0zyHbY/\",\"dtype\":\"float64\",\"shape\":[75]},\"y\":{\"__ndarray__\":\"S/O/Q+51ND/Sv8nbtpRIP2vylNV0PVE/aTum7souWD/At0SJ8fVgPw3Iuahxymc/MSNhhJWvcD/bTfBN02d3P2zb5nxnaoA/CD5h5MAGhz8NmeH1TyaQP+zrCsc9p5Y/LbKd76fGnz/bLW5ISEmmPww9YvTcQq8/JV2OstnstT8Er5Y7M8G+P0c+r3jqkcU/5h99k6ZBzj88bCIzFzjVP4enV8oyxN0//yH99nXg5D8qOpLLf0jtP5kqGJXUifQ/c9cS8kHP/D+/DpwzojQEQIEmwoanVwxA4lgXt9HgE0BSSZ2AJuIbQAMJih9jjiNA5q4l5INuK0AwTKYKRj0zQNv5fmq8/DpAaCJseHrtQkB/+zpwzoxKQM3MzMzMeFJAZmZmZmZqWEAAAAAAAFxeQM3MzMzMJmJAmpmZmZkfZUBmZmZmZhhoQDMzMzMzEWtAAAAAAAAKbkBmZmZmZoFwQM3MzMzM/XFAMzMzMzN6c0CamZmZmfZ0QAAAAAAAc3ZAZmZmZmbvd0DNzMzMzGt5QDMzMzMz6HpAmpmZmZlkfEAAAAAAAOF9QGZmZmZmXX9AZmZmZuZsgECamZmZGSuBQM3MzMxM6YFAAAAAAICngkAzMzMzs2WDQGZmZmbmI4RAmpmZmRnihEDNzMzMTKCFQAAAAACAXoZAMzMzM7Mch0BmZmZm5tqHQJqZmZkZmYhAzczMzExXiUAAAAAAgBWKQDMzMzOz04pAZmZmZuaRi0CamZmZGVCMQM3MzMxMDo1AAAAAAIDMjUAzMzMzs4qOQGZmZmbmSI9A\",\"dtype\":\"float64\",\"shape\":[75]}}},\"id\":\"15582c87-5e92-4149-9d50-7c8d50f083f5\",\"type\":\"ColumnDataSource\"},{\"attributes\":{},\"id\":\"590fc826-339f-401b-97ad-12172b2fb5bf\",\"type\":\"WheelZoomTool\"},{\"attributes\":{\"callback\":null,\"column_names\":[\"x\",\"y\"],\"data\":{\"x\":{\"__ndarray__\":\"3ikVO7fczT88icbiUGLQP89XXizrQtU/fxCP5dl82j/QtbPYu/nfPyqck80LxuI/KPud3KWD5T/xBZi/YxToP8UqlDsiVeo/EDkBdgMf7D80fPJNJlDtP/e7JIxu1u0/VfKYHqC97T8qF89F6IzsP33+/yh/Eeo/ABrGWeh15z8nBP4yEJLlP4Fo3ljtbeQ/iDQB8YDz4z8sILyPBiTkP7JI8uAXTOU/m7nyH/Pd4z8Uu2wqQfXeP4BoYpGRudc/yPN0CeKX0j+nN2k7IrbMP+z/VpFVOsU/L1jktgHIvz+qWtrCVn26PzUNeANGQ7c/6naglU4AtD+CbrOhMGKwP9xkhFLcOq0/zKrIG3LJrT/5JOJzSOatP0d2ljp3pK0/U6VlWFAOrT+Udd8BA+CqP7NPpFTyTKg/P0GhH78Xpj+U7h4I3+ejP4mZFTsua6E/Dg8sCmUonT/vY5/cwxmWP+k6sMNou4k/ADc/icUrhT9e53ST9/WUP6D2ctfGY6E/WIkwgBsiqT/61NzKRQ6xPzAcnS3/pbU/2xZlNsgkuj/iiWpb3ma+PzkvZxlWL8E/jM5kxZEDwz/YMFyAKqzEP3g/VSLcJsY/WxAltatrxz8A0cQiI3PIP+pgu4PxNsk/KEqd29+0yT97Ac1SePHJP5TPG7zp9ck/Fvr97l/RyT9vpjrLyZfJP2d9yjFZXMk/yg8BLJcyyT8tjD4wkRzJPy5eRakx38g/YdWsddoByD/IJUwgPhPGP2YOzWU4WMM/LbbmGqiEwD+Al758V6m7P17XoS32/bU/\",\"dtype\":\"float64\",\"shape\":[75]},\"y\":{\"__ndarray__\":\"GhExyth1ND/Sv8nbtpRIP2vylNV0PVE/aTum7souWD/At0SJ8fVgPw3Iuahxymc/MSNhhJWvcD/bTfBN02d3P2zb5nxnaoA/CD5h5MAGhz8NmeH1TyaQP+zrCsc9p5Y/LbKd76fGnz/bLW5ISEmmPww9YvTcQq8/JV2OstnstT8Er5Y7M8G+P0c+r3jqkcU/5h99k6ZBzj88bCIzFzjVP4enV8oyxN0//yH99nXg5D8qOpLLf0jtP5kqGJXUifQ/c9cS8kHP/D+/DpwzojQEQIEmwoanVwxA4lgXt9HgE0BSSZ2AJuIbQAMJih9jjiNA5q4l5INuK0AwTKYKRj0zQNv5fmq8/DpAaCJseHrtQkB/+zpwzoxKQM3MzMzMeFJAZmZmZmZqWEAAAAAAAFxeQM3MzMzMJmJAmpmZmZkfZUBmZmZmZhhoQDMzMzMzEWtAAAAAAAAKbkBmZmZmZoFwQM3MzMzM/XFAMzMzMzN6c0CamZmZmfZ0QAAAAAAAc3ZAZmZmZmbvd0DNzMzMzGt5QDMzMzMz6HpAmpmZmZlkfEAAAAAAAOF9QGZmZmZmXX9AZmZmZuZsgECamZmZGSuBQM3MzMxM6YFAAAAAAICngkAzMzMzs2WDQGZmZmbmI4RAmpmZmRnihEDNzMzMTKCFQAAAAACAXoZAMzMzM7Mch0BmZmZm5tqHQJqZmZkZmYhAzczMzExXiUAAAAAAgBWKQDMzMzOz04pAZmZmZuaRi0CamZmZGVCMQM3MzMxMDo1AAAAAAIDMjUAzMzMzs4qOQGZmZmbmSI9A\",\"dtype\":\"float64\",\"shape\":[75]}}},\"id\":\"a056cbc3-2f93-450b-8759-0740ca29b7c8\",\"type\":\"ColumnDataSource\"},{\"attributes\":{},\"id\":\"aaaec5dd-6543-454f-a69a-093bce635cfc\",\"type\":\"ResetTool\"},{\"attributes\":{},\"id\":\"8eba6fe9-ed25-43ba-a0b4-320db5ac1dac\",\"type\":\"LogScale\"},{\"attributes\":{\"data_source\":{\"id\":\"78b4fedc-0529-425f-bf55-f643251ac7a2\",\"type\":\"ColumnDataSource\"},\"glyph\":{\"id\":\"43e278ed-7d66-4596-b742-0d3ee09f9ff5\",\"type\":\"Circle\"},\"hover_glyph\":null,\"muted_glyph\":null,\"nonselection_glyph\":{\"id\":\"e5b1ef6e-eb00-4ebc-ada7-8c25a15951cd\",\"type\":\"Circle\"},\"selection_glyph\":null,\"view\":{\"id\":\"6d06d042-a5aa-4388-81a5-8afc2c5a67e0\",\"type\":\"CDSView\"}},\"id\":\"13f9d101-20b9-438b-83b0-5e98943c03c6\",\"type\":\"GlyphRenderer\"},{\"attributes\":{\"callback\":null,\"column_names\":[\"x\",\"y\"],\"data\":{\"x\":{\"__ndarray__\":\"lAUCU7yAxz/MLUpcCdXKP57eOVKFmNE/E8RxxzhS1j/MlqyKcFPbP1eTCtdhVOA/hrDYLoYV4z8BMrYIc9jlP/kbSHJUieg/NJ5rDPgE6z/WdD3RdSHtPzAA4BrQue4/Z+Edpp6h7z/pt23nFCfvP4y5EFCGz+w/knFzx+6E6T86ie9hgjzmP7lG0/JmgeM/4hdFrFHR4T/96AbQEIrhP5JpI43A7uI/XKvBJCpO4j/ZM/i5qZrdP4tzDn37Y9c/WQIAMjrB0j/uiLeMowvOP6UbF8T2ycc/IleHL1Vhwz9XKE7F+PbAP6FRNryLvb0/sPZZYO16uD9vi70N7cCyP1LV8m07Ga8/WGf2JY1krj9Tted2UgavP0vv3vtiibA/3XGzDRYtsT/BYBOm40KwP3EtPCpcYa0/Gz2BJ2JOqj/V6ZEdUyunP8XEwBw4xaM/k0XZ3EoPoD+w4PPNelSXP4yAr40d+Yg/OoxZGKHdgj8w1sqTiheUP36sXH99OqE/rrWKDfz5qD+12WWze9awP8WIgQR+OrU/cbRueWh8uT+zyMBLune9P8yXeorahcA/w1foQUkawj8/w7xDYYLDP/PUl2OByMQ/mbagc47sxT8J88OtJ9/GPxhvEiCWj8c/IcEaiOH6xz++nxov3STIP57SXtCEHsg/rQPWYND4xz8vsjJUpMbHP3ONQ7sSmsc/87ufCQOFxz8w5hnB54PHP6m2xF/NYMc/H6a3Hgmkxj+VA6hvuuHEPxLR+Tq6W8I/OtQIYHd4vz8ksCBqLnm6P91D4wXoKbU/\",\"dtype\":\"float64\",\"shape\":[75]},\"y\":{\"__ndarray__\":\"GhExyth1ND/Sv8nbtpRIP2vylNV0PVE/aTum7souWD/At0SJ8fVgPw3Iuahxymc/MSNhhJWvcD/bTfBN02d3P2zb5nxnaoA/CD5h5MAGhz8NmeH1TyaQP+zrCsc9p5Y/LbKd76fGnz/bLW5ISEmmPww9YvTcQq8/JV2OstnstT8Er5Y7M8G+P0c+r3jqkcU/5h99k6ZBzj88bCIzFzjVP4enV8oyxN0//yH99nXg5D8qOpLLf0jtP5kqGJXUifQ/c9cS8kHP/D+/DpwzojQEQIEmwoanVwxA4lgXt9HgE0BSSZ2AJuIbQAMJih9jjiNA5q4l5INuK0AwTKYKRj0zQNv5fmq8/DpAaCJseHrtQkB/+zpwzoxKQM3MzMzMeFJAZmZmZmZqWEAAAAAAAFxeQM3MzMzMJmJAmpmZmZkfZUBmZmZmZhhoQDMzMzMzEWtAAAAAAAAKbkBmZmZmZoFwQM3MzMzM/XFAMzMzMzN6c0CamZmZmfZ0QAAAAAAAc3ZAZmZmZmbvd0DNzMzMzGt5QDMzMzMz6HpAmpmZmZlkfEAAAAAAAOF9QGZmZmZmXX9AZmZmZuZsgECamZmZGSuBQM3MzMxM6YFAAAAAAICngkAzMzMzs2WDQGZmZmbmI4RAmpmZmRnihEDNzMzMTKCFQAAAAACAXoZAMzMzM7Mch0BmZmZm5tqHQJqZmZkZmYhAzczMzExXiUAAAAAAgBWKQDMzMzOz04pAZmZmZuaRi0CamZmZGVCMQM3MzMxMDo1AAAAAAIDMjUAzMzMzs4qOQGZmZmbmSI9A\",\"dtype\":\"float64\",\"shape\":[75]}}},\"id\":\"aec023ba-3315-440a-b80e-5366add0f78b\",\"type\":\"ColumnDataSource\"},{\"attributes\":{\"tools\":[{\"id\":\"9423b720-2626-4f38-8018-63e38a534fef\",\"type\":\"PanTool\"},{\"id\":\"ed1fad01-65ec-4121-a0c4-3abdfd5b2cfa\",\"type\":\"WheelZoomTool\"},{\"id\":\"52c41164-5e45-4cb7-bac3-b5864104c211\",\"type\":\"BoxZoomTool\"},{\"id\":\"5b2a9fa1-45b5-4b2e-8072-10130ebabf3f\",\"type\":\"SaveTool\"},{\"id\":\"277dad3b-412a-49c7-8745-7a0ab1130497\",\"type\":\"ResetTool\"},{\"id\":\"b1f3ee72-7d18-4683-8533-9325cdbd26ea\",\"type\":\"HelpTool\"},{\"id\":\"4d1cc599-4274-4834-a8f9-7fa6d193d692\",\"type\":\"PanTool\"},{\"id\":\"590fc826-339f-401b-97ad-12172b2fb5bf\",\"type\":\"WheelZoomTool\"},{\"id\":\"e6a7a999-9670-43c9-ad87-ce29161c2d23\",\"type\":\"BoxZoomTool\"},{\"id\":\"922c3677-ae63-4b63-be6b-f3426cd20e09\",\"type\":\"SaveTool\"},{\"id\":\"aaaec5dd-6543-454f-a69a-093bce635cfc\",\"type\":\"ResetTool\"},{\"id\":\"084737c3-8858-4a47-a206-8a3d0d725ed4\",\"type\":\"HelpTool\"}]},\"id\":\"aa766dc0-fccf-432f-858a-80f328a5d498\",\"type\":\"ProxyToolbar\"},{\"attributes\":{\"plot\":{\"id\":\"bcd8dcdd-d310-4713-99fc-5730a5b5a994\",\"subtype\":\"Figure\",\"type\":\"Plot\"},\"ticker\":{\"id\":\"e1ba04a7-5f70-4f07-84c3-a81dd9668d4f\",\"type\":\"BasicTicker\"}},\"id\":\"2e64478f-c184-4dd4-b00d-36180b3f4215\",\"type\":\"Grid\"}],\"root_ids\":[\"dd64d4a0-cd2b-42c9-a16b-2277df0f7082\"]},\"title\":\"Bokeh Application\",\"version\":\"0.12.14\"}};\n",
       "  var render_items = [{\"docid\":\"948ba2ec-9814-41de-b808-bbcb742784fe\",\"elementid\":\"aba2476d-d119-4675-b4b1-09aaf2def4db\",\"modelid\":\"dd64d4a0-cd2b-42c9-a16b-2277df0f7082\"}];\n",
       "  root.Bokeh.embed.embed_items_notebook(docs_json, render_items);\n",
       "\n",
       "  }\n",
       "  if (root.Bokeh !== undefined) {\n",
       "    embed_document(root);\n",
       "  } else {\n",
       "    var attempts = 0;\n",
       "    var timer = setInterval(function(root) {\n",
       "      if (root.Bokeh !== undefined) {\n",
       "        embed_document(root);\n",
       "        clearInterval(timer);\n",
       "      }\n",
       "      attempts++;\n",
       "      if (attempts > 100) {\n",
       "        console.log(\"Bokeh: ERROR: Unable to run BokehJS code because BokehJS library is missing\")\n",
       "        clearInterval(timer);\n",
       "      }\n",
       "    }, 10, root)\n",
       "  }\n",
       "})(window);"
      ],
      "application/vnd.bokehjs_exec.v0+json": ""
     },
     "metadata": {
      "application/vnd.bokehjs_exec.v0+json": {
       "id": "dd64d4a0-cd2b-42c9-a16b-2277df0f7082"
      }
     },
     "output_type": "display_data"
    },
    {
     "name": "stdout",
     "output_type": "stream",
     "text": [
      "FIGURE. Cooling rate profiles.\n"
     ]
    },
    {
     "data": {
      "text/html": [
       "<a id=\"Flux_Comparison\"></a>"
      ],
      "text/plain": [
       "<IPython.core.display.HTML object>"
      ]
     },
     "metadata": {},
     "output_type": "display_data"
    },
    {
     "data": {
      "text/markdown": [
       "# Flux Comparison"
      ],
      "text/plain": [
       "<IPython.core.display.Markdown object>"
      ]
     },
     "metadata": {},
     "output_type": "display_data"
    },
    {
     "data": {
      "text/html": [
       "<div>\n",
       "<style>\n",
       "    .dataframe thead tr:only-child th {\n",
       "        text-align: right;\n",
       "    }\n",
       "\n",
       "    .dataframe thead th {\n",
       "        text-align: left;\n",
       "    }\n",
       "\n",
       "    .dataframe tbody tr th {\n",
       "        vertical-align: top;\n",
       "    }\n",
       "</style>\n",
       "<table border=\"1\" class=\"dataframe\">\n",
       "  <thead>\n",
       "    <tr style=\"text-align: right;\">\n",
       "      <th></th>\n",
       "      <th></th>\n",
       "      <th>flug</th>\n",
       "      <th>fldg</th>\n",
       "      <th>fnetg</th>\n",
       "    </tr>\n",
       "    <tr>\n",
       "      <th>pressure</th>\n",
       "      <th>level</th>\n",
       "      <th></th>\n",
       "      <th></th>\n",
       "      <th></th>\n",
       "    </tr>\n",
       "  </thead>\n",
       "  <tbody>\n",
       "    <tr>\n",
       "      <th>0.0000</th>\n",
       "      <th>1</th>\n",
       "      <td>-19.649536</td>\n",
       "      <td>0.000000</td>\n",
       "      <td>-19.649536</td>\n",
       "    </tr>\n",
       "    <tr>\n",
       "      <th>1.0685</th>\n",
       "      <th>24</th>\n",
       "      <td>-19.634852</td>\n",
       "      <td>0.057933</td>\n",
       "      <td>-19.576918</td>\n",
       "    </tr>\n",
       "    <tr>\n",
       "      <th>1013.0000</th>\n",
       "      <th>76</th>\n",
       "      <td>-23.591138</td>\n",
       "      <td>17.313984</td>\n",
       "      <td>-6.277154</td>\n",
       "    </tr>\n",
       "  </tbody>\n",
       "</table>\n",
       "</div>"
      ],
      "text/plain": [
       "                      flug       fldg      fnetg\n",
       "pressure  level                                 \n",
       "0.0000    1     -19.649536   0.000000 -19.649536\n",
       "1.0685    24    -19.634852   0.057933 -19.576918\n",
       "1013.0000 76    -23.591138  17.313984  -6.277154"
      ]
     },
     "metadata": {},
     "output_type": "display_data"
    },
    {
     "name": "stdout",
     "output_type": "stream",
     "text": [
      "Table. Fluxes. WGT igg=10 wgt_flux=1\n"
     ]
    },
    {
     "data": {
      "text/html": [
       "<div>\n",
       "<style>\n",
       "    .dataframe thead tr:only-child th {\n",
       "        text-align: right;\n",
       "    }\n",
       "\n",
       "    .dataframe thead th {\n",
       "        text-align: left;\n",
       "    }\n",
       "\n",
       "    .dataframe tbody tr th {\n",
       "        vertical-align: top;\n",
       "    }\n",
       "</style>\n",
       "<table border=\"1\" class=\"dataframe\">\n",
       "  <thead>\n",
       "    <tr style=\"text-align: right;\">\n",
       "      <th></th>\n",
       "      <th></th>\n",
       "      <th>flug</th>\n",
       "      <th>fldg</th>\n",
       "      <th>fnetg</th>\n",
       "    </tr>\n",
       "    <tr>\n",
       "      <th>pressure</th>\n",
       "      <th>level</th>\n",
       "      <th></th>\n",
       "      <th></th>\n",
       "      <th></th>\n",
       "    </tr>\n",
       "  </thead>\n",
       "  <tbody>\n",
       "    <tr>\n",
       "      <th>0.0000</th>\n",
       "      <th>1</th>\n",
       "      <td>-19.706173</td>\n",
       "      <td>0.000000</td>\n",
       "      <td>-19.706173</td>\n",
       "    </tr>\n",
       "    <tr>\n",
       "      <th>1.0685</th>\n",
       "      <th>24</th>\n",
       "      <td>-19.690942</td>\n",
       "      <td>0.062001</td>\n",
       "      <td>-19.628941</td>\n",
       "    </tr>\n",
       "    <tr>\n",
       "      <th>1013.0000</th>\n",
       "      <th>76</th>\n",
       "      <td>-23.591138</td>\n",
       "      <td>17.722380</td>\n",
       "      <td>-5.868758</td>\n",
       "    </tr>\n",
       "  </tbody>\n",
       "</table>\n",
       "</div>"
      ],
      "text/plain": [
       "                      flug       fldg      fnetg\n",
       "pressure  level                                 \n",
       "0.0000    1     -19.706173   0.000000 -19.706173\n",
       "1.0685    24    -19.690942   0.062001 -19.628941\n",
       "1013.0000 76    -23.591138  17.722380  -5.868758"
      ]
     },
     "metadata": {},
     "output_type": "display_data"
    },
    {
     "name": "stdout",
     "output_type": "stream",
     "text": [
      "Table. Fluxes. CRD\n"
     ]
    },
    {
     "data": {
      "text/html": [
       "<div>\n",
       "<style>\n",
       "    .dataframe thead tr:only-child th {\n",
       "        text-align: right;\n",
       "    }\n",
       "\n",
       "    .dataframe thead th {\n",
       "        text-align: left;\n",
       "    }\n",
       "\n",
       "    .dataframe tbody tr th {\n",
       "        vertical-align: top;\n",
       "    }\n",
       "</style>\n",
       "<table border=\"1\" class=\"dataframe\">\n",
       "  <thead>\n",
       "    <tr style=\"text-align: right;\">\n",
       "      <th></th>\n",
       "      <th></th>\n",
       "      <th>flug</th>\n",
       "      <th>fldg</th>\n",
       "      <th>fnetg</th>\n",
       "    </tr>\n",
       "    <tr>\n",
       "      <th>pressure</th>\n",
       "      <th>level</th>\n",
       "      <th></th>\n",
       "      <th></th>\n",
       "      <th></th>\n",
       "    </tr>\n",
       "  </thead>\n",
       "  <tbody>\n",
       "    <tr>\n",
       "      <th>1.000000e-08</th>\n",
       "      <th>1</th>\n",
       "      <td>-19.771152</td>\n",
       "      <td>0.000002</td>\n",
       "      <td>-19.771149</td>\n",
       "    </tr>\n",
       "    <tr>\n",
       "      <th>1.068500e+00</th>\n",
       "      <th>24</th>\n",
       "      <td>-19.756753</td>\n",
       "      <td>0.055127</td>\n",
       "      <td>-19.701627</td>\n",
       "    </tr>\n",
       "    <tr>\n",
       "      <th>1.013000e+03</th>\n",
       "      <th>76</th>\n",
       "      <td>-23.591140</td>\n",
       "      <td>17.209628</td>\n",
       "      <td>-6.381512</td>\n",
       "    </tr>\n",
       "  </tbody>\n",
       "</table>\n",
       "</div>"
      ],
      "text/plain": [
       "                         flug       fldg      fnetg\n",
       "pressure     level                                 \n",
       "1.000000e-08 1     -19.771152   0.000002 -19.771149\n",
       "1.068500e+00 24    -19.756753   0.055127 -19.701627\n",
       "1.013000e+03 76    -23.591140  17.209628  -6.381512"
      ]
     },
     "metadata": {},
     "output_type": "display_data"
    },
    {
     "name": "stdout",
     "output_type": "stream",
     "text": [
      "Table. Fluxes. CLIRAD\n"
     ]
    },
    {
     "data": {
      "text/html": [
       "<div>\n",
       "<style>\n",
       "    .dataframe thead tr:only-child th {\n",
       "        text-align: right;\n",
       "    }\n",
       "\n",
       "    .dataframe thead th {\n",
       "        text-align: left;\n",
       "    }\n",
       "\n",
       "    .dataframe tbody tr th {\n",
       "        vertical-align: top;\n",
       "    }\n",
       "</style>\n",
       "<table border=\"1\" class=\"dataframe\">\n",
       "  <thead>\n",
       "    <tr style=\"text-align: right;\">\n",
       "      <th></th>\n",
       "      <th></th>\n",
       "      <th>flug</th>\n",
       "      <th>fldg</th>\n",
       "      <th>fnetg</th>\n",
       "    </tr>\n",
       "    <tr>\n",
       "      <th>pressure</th>\n",
       "      <th>level</th>\n",
       "      <th></th>\n",
       "      <th></th>\n",
       "      <th></th>\n",
       "    </tr>\n",
       "  </thead>\n",
       "  <tbody>\n",
       "    <tr>\n",
       "      <th>0.0000</th>\n",
       "      <th>1</th>\n",
       "      <td>-0.056637</td>\n",
       "      <td>0.000000</td>\n",
       "      <td>-0.056637</td>\n",
       "    </tr>\n",
       "    <tr>\n",
       "      <th>1.0685</th>\n",
       "      <th>24</th>\n",
       "      <td>-0.056090</td>\n",
       "      <td>0.004068</td>\n",
       "      <td>-0.052023</td>\n",
       "    </tr>\n",
       "    <tr>\n",
       "      <th>1013.0000</th>\n",
       "      <th>76</th>\n",
       "      <td>0.000000</td>\n",
       "      <td>0.408396</td>\n",
       "      <td>0.408396</td>\n",
       "    </tr>\n",
       "  </tbody>\n",
       "</table>\n",
       "</div>"
      ],
      "text/plain": [
       "                     flug      fldg     fnetg\n",
       "pressure  level                              \n",
       "0.0000    1     -0.056637  0.000000 -0.056637\n",
       "1.0685    24    -0.056090  0.004068 -0.052023\n",
       "1013.0000 76     0.000000  0.408396  0.408396"
      ]
     },
     "metadata": {},
     "output_type": "display_data"
    },
    {
     "name": "stdout",
     "output_type": "stream",
     "text": [
      "Table. Fluxes. (CRD) - (WGT igg=10 wgt_flux=1)\n"
     ]
    },
    {
     "data": {
      "text/html": [
       "<div>\n",
       "<style>\n",
       "    .dataframe thead tr:only-child th {\n",
       "        text-align: right;\n",
       "    }\n",
       "\n",
       "    .dataframe thead th {\n",
       "        text-align: left;\n",
       "    }\n",
       "\n",
       "    .dataframe tbody tr th {\n",
       "        vertical-align: top;\n",
       "    }\n",
       "</style>\n",
       "<table border=\"1\" class=\"dataframe\">\n",
       "  <thead>\n",
       "    <tr style=\"text-align: right;\">\n",
       "      <th></th>\n",
       "      <th></th>\n",
       "      <th>flug</th>\n",
       "      <th>fldg</th>\n",
       "      <th>fnetg</th>\n",
       "    </tr>\n",
       "    <tr>\n",
       "      <th>pressure</th>\n",
       "      <th>level</th>\n",
       "      <th></th>\n",
       "      <th></th>\n",
       "      <th></th>\n",
       "    </tr>\n",
       "  </thead>\n",
       "  <tbody>\n",
       "    <tr>\n",
       "      <th>0.0000</th>\n",
       "      <th>1</th>\n",
       "      <td>-0.121616</td>\n",
       "      <td>0.000002</td>\n",
       "      <td>-0.121613</td>\n",
       "    </tr>\n",
       "    <tr>\n",
       "      <th>1.0685</th>\n",
       "      <th>24</th>\n",
       "      <td>-0.121901</td>\n",
       "      <td>-0.002807</td>\n",
       "      <td>-0.124709</td>\n",
       "    </tr>\n",
       "    <tr>\n",
       "      <th>1013.0000</th>\n",
       "      <th>76</th>\n",
       "      <td>-0.000002</td>\n",
       "      <td>-0.104356</td>\n",
       "      <td>-0.104358</td>\n",
       "    </tr>\n",
       "  </tbody>\n",
       "</table>\n",
       "</div>"
      ],
      "text/plain": [
       "                     flug      fldg     fnetg\n",
       "pressure  level                              \n",
       "0.0000    1     -0.121616  0.000002 -0.121613\n",
       "1.0685    24    -0.121901 -0.002807 -0.124709\n",
       "1013.0000 76    -0.000002 -0.104356 -0.104358"
      ]
     },
     "metadata": {},
     "output_type": "display_data"
    },
    {
     "name": "stdout",
     "output_type": "stream",
     "text": [
      "Table. Fluxes. (CLIRAD) - (WGT igg=10 wgt_flux=1)\n"
     ]
    },
    {
     "data": {
      "text/html": [
       "<a id=\"Best-fit_Parameters\"></a>"
      ],
      "text/plain": [
       "<IPython.core.display.HTML object>"
      ]
     },
     "metadata": {},
     "output_type": "display_data"
    },
    {
     "data": {
      "text/markdown": [
       "# Best-fit Parameters"
      ],
      "text/plain": [
       "<IPython.core.display.Markdown object>"
      ]
     },
     "metadata": {},
     "output_type": "display_data"
    },
    {
     "name": "stdout",
     "output_type": "stream",
     "text": [
      "Best-fit values for each (gas, band)\n",
      "------------------------------------\n",
      "o co2 band3a\n",
      "  atmpro = mls\n",
      "  band = 3a\n",
      "  commitnumber = 2bd1f75\n",
      "  conc = 0.0004\n",
      "  dv = 0.01\n",
      "  klin = 6.375563e-24\n",
      "  molecule = co2\n",
      "  ng_adju = [0, 0, 0]\n",
      "  ng_refs = [3, 2, 4]\n",
      "  nv = 100\n",
      "  option_compute_btable = 0\n",
      "  option_compute_ktable = 1\n",
      "  option_wgt_flux = 1\n",
      "  option_wgt_k = 1\n",
      "  ref_pts = [(1, 250), (10, 250), (500, 250)]\n",
      "  tsfc = 294\n",
      "  vmax = 620\n",
      "  vmin = 540\n",
      "  w_diffuse = [(1.6, 1.6, 1.7), (1.75, 1.75), (1.55, 1.55, 1.6, 1.85)]\n",
      "  wgt = [(0.7, 0.3, 0.7), (0.7, 0.6), (0.4, 0.5, 0.8, 0.95)]\n",
      "o h2o band3a\n",
      "  atmpro = mls\n",
      "  band = 3a\n",
      "  commitnumber = 2bd1f75\n",
      "  conc = None\n",
      "  dv = 0.01\n",
      "  klin = 0\n",
      "  molecule = h2o\n",
      "  ng_adju = [0, 0]\n",
      "  ng_refs = [2, 6]\n",
      "  nv = 100\n",
      "  option_compute_btable = 0\n",
      "  option_compute_ktable = 1\n",
      "  option_wgt_flux = 1\n",
      "  option_wgt_k = 1\n",
      "  ref_pts = [(10, 250), (600, 250)]\n",
      "  tsfc = 294\n",
      "  vmax = 620\n",
      "  vmin = 540\n",
      "  w_diffuse = [(1.9, 1.7), (1.4, 1.4, 1.4, 1.55, 1.6, 1.66)]\n",
      "  wgt = [(0.7, 0.7), (0.7, 0.5, 0.5, 0.5, 0.5, 0.5)]\n",
      "o n2o band3a\n",
      "  atmpro = mls\n",
      "  band = 3a\n",
      "  commitnumber = 2bd1f75\n",
      "  conc = 3.2e-07\n",
      "  dv = 0.01\n",
      "  klin = 2.22e-20\n",
      "  molecule = n2o\n",
      "  ng_adju = [0, 0]\n",
      "  ng_refs = [1, 2]\n",
      "  nv = 100\n",
      "  option_compute_btable = 0\n",
      "  option_compute_ktable = 1\n",
      "  option_wgt_flux = 1\n",
      "  option_wgt_k = 1\n",
      "  ref_pts = [(1, 250), (500, 250)]\n",
      "  tsfc = 294\n",
      "  vmax = 620\n",
      "  vmin = 540\n",
      "  w_diffuse = [(1.8,), (1.66, 1.8)]\n",
      "  wgt = [(0.9,), (0.5, 0.95)]\n"
     ]
    }
   ],
   "source": [
    "script()"
   ]
  },
  {
   "cell_type": "code",
   "execution_count": 13,
   "metadata": {
    "collapsed": true
   },
   "outputs": [
    {
     "data": {
      "text/html": [
       "<script>\n",
       "code_show=true; \n",
       "function code_toggle() {\n",
       " if (code_show){\n",
       " $('div.input').hide();\n",
       " } else {\n",
       " $('div.input').show();\n",
       " }\n",
       " code_show = !code_show\n",
       "} \n",
       "$( document ).ready(code_toggle);\n",
       "</script>\n",
       "<form action=\"javascript:code_toggle()\"><input type=\"submit\" value=\"Click here to toggle on/off the raw code.\"></form>"
      ],
      "text/plain": [
       "<IPython.core.display.HTML object>"
      ]
     },
     "execution_count": 13,
     "metadata": {},
     "output_type": "execute_result"
    }
   ],
   "source": [
    "display.HTML('''<script>\n",
    "code_show=true; \n",
    "function code_toggle() {\n",
    " if (code_show){\n",
    " $('div.input').hide();\n",
    " } else {\n",
    " $('div.input').show();\n",
    " }\n",
    " code_show = !code_show\n",
    "} \n",
    "$( document ).ready(code_toggle);\n",
    "</script>\n",
    "<form action=\"javascript:code_toggle()\"><input type=\"submit\" value=\"Click here to toggle on/off the raw code.\"></form>''')"
   ]
  }
 ],
 "metadata": {
  "kernelspec": {
   "display_name": "Python 3",
   "language": "python",
   "name": "python3"
  },
  "language_info": {
   "codemirror_mode": {
    "name": "ipython",
    "version": 3
   },
   "file_extension": ".py",
   "mimetype": "text/x-python",
   "name": "python",
   "nbconvert_exporter": "python",
   "pygments_lexer": "ipython3",
   "version": "3.6.1"
  }
 },
 "nbformat": 4,
 "nbformat_minor": 2
}
