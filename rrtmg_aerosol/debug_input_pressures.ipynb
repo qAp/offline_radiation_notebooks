{
 "cells": [
  {
   "cell_type": "code",
   "execution_count": 113,
   "metadata": {
    "collapsed": true
   },
   "outputs": [],
   "source": [
    "%matplotlib inline\n",
    "import os\n",
    "import imp\n",
    "\n",
    "import numpy as np\n",
    "import pandas as pd\n",
    "import xarray as xr\n",
    "from IPython import display\n",
    "\n",
    "import matplotlib\n",
    "import matplotlib.pyplot as plt\n",
    "\n",
    "import climatools.viz as climaviz\n",
    "import climatools.io.cesm as climaio\n",
    "import climatools.units as climaunits\n",
    "import climatools.aerosol.aerosol as climaaerosol"
   ]
  },
  {
   "cell_type": "markdown",
   "metadata": {},
   "source": [
    "## Debug: pressure inputs in RRTMG column model\n",
    "\n",
    "\n",
    "In the input to RRTMG column model, pressures for atmosphere boundaries  need to be provided by the user.  In addition to these, two pressures, one for the surface (HBOUND) and one for the top of the atmosphere (HTOA), and the altitude for the lowest atmosphere boundary (ZM(0)), also need to be provided by the user.  \n",
    "\n",
    "However, it is not clear how HBOUND, HTOA and ZM(0) should be chosen, because from experience, not all combinations of atmosphere boundary pressures, HBOUND, HTOA and ZM(0) allow RRTMG to complete, and could run into one of the following errors:\n",
    "\n",
    "    BOUNDARIES ARE OUTSIDE THE RANGE OF THE ATMOSPHERE\n",
    "    BOUNDARY = XXX, ATMOSPHERE = XXX\n",
    "    RESET BOUNDARY GT THAN ATMOSPHERE\n",
    "    COMPUTED ALTITUDE VALUE OF H2 IS NEGATIVE\n",
    "    \n",
    "or\n",
    "\n",
    "    BOUNDARIES ARE OUTSIDE THE RANGE OF THE ATMOSPHERE\n",
    "    BOUNDARY = XXX, ATMOSPHERE = XXX\n",
    "    RESET BOUNDARY GT THAN ATMOSPHERE\n",
    "    BOUNDARIES OUTSIDE OF ATMOS\n",
    "    \n",
    "\n",
    "This notebook sets out to find out why these errors are raised.\n"
   ]
  },
  {
   "cell_type": "code",
   "execution_count": 104,
   "metadata": {
    "collapsed": false
   },
   "outputs": [],
   "source": [
    "class PressureCase(object):\n",
    "    \n",
    "    def __init__(self, \n",
    "                 ipressure=None, \n",
    "                 ialt=None,\n",
    "                 hbound=None, htoa=None):\n",
    "        self._ipressure = ipressure\n",
    "        self._ialt = ialt\n",
    "        self._hbound = hbound\n",
    "        self._htoa = htoa\n",
    "    \n",
    "    def ipressure(self):\n",
    "        return self._ipressure\n",
    "    \n",
    "    def ialt(self):\n",
    "        return self._ialt\n",
    "    \n",
    "    def hbound(self):\n",
    "        return self._hbound\n",
    "    \n",
    "    def htoa(self):\n",
    "        return self._htoa\n",
    "    \n",
    "\n",
    "def case_1():\n",
    "    '''\n",
    "    CAM history.  Doesn't work.\n",
    "    '''\n",
    "    dir_camhist = '/nuwa_cluster/home/jackyu/radiation/radiation_notebooks/rrtmg_aerosol'\n",
    "    file_camhist = 'f19_g16.B1850.std.cam2.h0.0001-06.nc'\n",
    "    path_camhist = os.path.join(dir_camhist, file_camhist)\n",
    "    \n",
    "    ds = climaio.load_camhistory(path_camhist)\n",
    "    ds = climaunits.hybrid2mbar(ds)\n",
    "    \n",
    "    ds = climaaerosol.interp_layers2levels(ds, vars=['Z3'])\n",
    "    \n",
    "    surface = dict(time=0, lat=0, lon=0)\n",
    "    \n",
    "    ipressure = ds['ipressure'].isel(**surface).to_pandas()\n",
    "    ipressure.index = range(len(ipressure))[::-1]\n",
    "    \n",
    "    ialt = 1e-3 * ds['iZ3'].isel(**surface).to_pandas()\n",
    "    ialt.index = range(len(ialt))[::-1]\n",
    "    \n",
    "    case = PressureCase(ipressure=ipressure,\n",
    "                        ialt=ialt,\n",
    "                        hbound=670, htoa=2.3)\n",
    "    return case\n",
    "\n",
    "\n",
    "def case_2():\n",
    "    '''\n",
    "    Prof. Chou's mid-latitude summer 71 levels.  Works.\n",
    "\n",
    "    HBOUND = 1013\n",
    "    HTOA = 1e-3\n",
    "    '''\n",
    "    hbound, htoa = 1013, 1e-3\n",
    "    \n",
    "    dir_examples = '/nuwa_cluster/home/jackyu/radiation/rrtmg/SW/examples'\n",
    "    file_atmpro = 'mls_71lvls_H2O/atmpro_mls70.h5'\n",
    "    path_atmpro = os.path.join(dir_examples, file_atmpro)\n",
    "    \n",
    "    with pd.HDFStore(path_atmpro) as store:\n",
    "        atmpro = store['atmpro']\n",
    "    \n",
    "    case = PressureCase(ipressure=atmpro['pressure'],\n",
    "                        ialt=atmpro['altitude'],\n",
    "                        hbound=hbound, htoa=htoa)\n",
    "    return case\n",
    "\n",
    "\n",
    "def case_3():\n",
    "    '''\n",
    "    Prof. Chou's mid-latitude summer 36/71 levels.  Works.\n",
    "\n",
    "    The 36 levels cover a range close to that covered by the 31 levels \n",
    "    of CAM history.\n",
    "\n",
    "    HBOUND = 656\n",
    "    HTOA = 2.2\n",
    "    '''    \n",
    "    hbound, htoa = 656, 2.2\n",
    "    \n",
    "    dir_examples = '/nuwa_cluster/home/jackyu/radiation/rrtmg/SW/examples'\n",
    "    file_atmpro = 'mls_71lvls_H2O_subset/atmpro_mls70.h5'\n",
    "    path_atmpro = os.path.join(dir_examples, file_atmpro)\n",
    "    \n",
    "    with pd.HDFStore(path_atmpro) as store:\n",
    "        atmpro = store['atmpro']\n",
    "\n",
    "    case = PressureCase(ipressure=atmpro['pressure'],\n",
    "                        ialt=atmpro['altitude'],\n",
    "                        hbound=hbound, htoa=htoa)\n",
    "    return case"
   ]
  },
  {
   "cell_type": "code",
   "execution_count": 111,
   "metadata": {
    "collapsed": false,
    "scrolled": false
   },
   "outputs": [],
   "source": [
    "def plot_case_1_case_2():\n",
    "    cases = [case_1(), case_3()]\n",
    "    outcomes = ['Does not work.', 'Works']\n",
    "    \n",
    "    fig, axs = plt.subplots(nrows=1, ncols=2,\n",
    "                            figsize=(14, 7),\n",
    "                            sharey=True)\n",
    "    \n",
    "    for ax, case, outcome in zip(axs, cases, outcomes):\n",
    "        case.ipressure().plot(ax=ax, \n",
    "                              linestyle='None', marker='o',\n",
    "                              title='{} (ZM(0) = {:6.2f} km)'\\\n",
    "                              .format(outcome, case.ialt()[0]),\n",
    "                              logy=True,\n",
    "                              logx=False,\n",
    "                              grid=True)\n",
    "                \n",
    "        ax.set_xlabel('level index')\n",
    "        \n",
    "        ax.axhline(y=case.hbound(), color='r')        \n",
    "        ax.axhline(y=case.htoa(), color='r')\n",
    "        \n",
    "        ax.set_ylabel('pressure [mb]')"
   ]
  },
  {
   "cell_type": "code",
   "execution_count": 112,
   "metadata": {
    "collapsed": false,
    "scrolled": false
   },
   "outputs": [
    {
     "data": {
      "image/png": "[encoded data removed]",
      "text/plain": [
       "<matplotlib.figure.Figure at 0x2aad63277240>"
      ]
     },
     "metadata": {},
     "output_type": "display_data"
    }
   ],
   "source": [
    "plot_case_1_case_2()"
   ]
  },
  {
   "cell_type": "markdown",
   "metadata": {},
   "source": [
    "In the above figure are plots of boundary index versus pressure at atmosphere boundary.  \n",
    "\n",
    "In the left panel, the blue dots are CAM history's boundary pressures that have been computed from `hyai`, `hybi`, `PS` and `P0`.  The red lines indicate the HBOUND and HTOA chosen, while the altitude for the first atmosphere boundary is set to 2.85 km; this value is obtained by first linearly interpolating `Z3` to the atmosphere boundaries and then selecting the value of the lowest boundary.  \n",
    "\n",
    "In the right panel, the blue dots are the boundary pressures from Prof. Chou's \"mls75\" atmosphere profile within a pressure range as close to that of the CAM history as possible; there are 36 boundaries.  The red lines are HBOUND and HTOA.  The altitude for the first atmosphere boundary is set to 3.62 km; this values is obtained by first applying the hydrostatic equation to find altitudes of the original 76 boundaries, with the altitude of the lowest set to 0 km, then selecting the altitude of the lowest boundary amongst the selected 36 boundaries.\n",
    "\n",
    "For the case that does not work above, the error message is:\n",
    "\n",
    "     BOUNDARIES ARE OUTSIDE THE RANGE OF THE ATMOSPHERE\n",
    "     BOUNDARY =       2.85 ATMOSPHERE =      2.85\n",
    "     RESET BOUNDARY GT THAN ATMOSPHERE\n",
    "     BOUNDARIES OUTSIDE OF ATMOS\n",
    "     \n",
    "Note that the profile in the left panel is close to the pole, while it is at mid-latitude summer in the right panel."
   ]
  },
  {
   "cell_type": "code",
   "execution_count": 114,
   "metadata": {
    "collapsed": false
   },
   "outputs": [
    {
     "data": {
      "text/html": [
       "<script>\n",
       "code_show=true; \n",
       "function code_toggle() {\n",
       " if (code_show){\n",
       " $('div.input').hide();\n",
       " } else {\n",
       " $('div.input').show();\n",
       " }\n",
       " code_show = !code_show\n",
       "} \n",
       "$( document ).ready(code_toggle);\n",
       "</script>\n",
       "<form action=\"javascript:code_toggle()\"><input type=\"submit\" value=\"Click here to toggle on/off the raw code.\"></form>"
      ],
      "text/plain": [
       "<IPython.core.display.HTML object>"
      ]
     },
     "execution_count": 114,
     "metadata": {},
     "output_type": "execute_result"
    }
   ],
   "source": [
    "display.HTML('''<script>\n",
    "code_show=true; \n",
    "function code_toggle() {\n",
    " if (code_show){\n",
    " $('div.input').hide();\n",
    " } else {\n",
    " $('div.input').show();\n",
    " }\n",
    " code_show = !code_show\n",
    "} \n",
    "$( document ).ready(code_toggle);\n",
    "</script>\n",
    "<form action=\"javascript:code_toggle()\"><input type=\"submit\" value=\"Click here to toggle on/off the raw code.\"></form>''')"
   ]
  },
  {
   "cell_type": "code",
   "execution_count": null,
   "metadata": {
    "collapsed": true
   },
   "outputs": [],
   "source": []
  }
 ],
 "metadata": {
  "kernelspec": {
   "display_name": "Python 3",
   "language": "python",
   "name": "python3"
  },
  "language_info": {
   "codemirror_mode": {
    "name": "ipython",
    "version": 3
   },
   "file_extension": ".py",
   "mimetype": "text/x-python",
   "name": "python",
   "nbconvert_exporter": "python",
   "pygments_lexer": "ipython3",
   "version": "3.4.4"
  }
 },
 "nbformat": 4,
 "nbformat_minor": 0
}
