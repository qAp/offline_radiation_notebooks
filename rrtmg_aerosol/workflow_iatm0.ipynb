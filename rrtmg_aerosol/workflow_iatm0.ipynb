{
 "cells": [
  {
   "cell_type": "code",
   "execution_count": 1,
   "metadata": {
    "collapsed": false
   },
   "outputs": [
    {
     "data": {
      "text/plain": [
       "<module 'climatools.units' from '/nuwa_cluster/home/jackyu/climatools/climatools/units.py'>"
      ]
     },
     "execution_count": 1,
     "metadata": {},
     "output_type": "execute_result"
    }
   ],
   "source": [
    "%matplotlib inline\n",
    "\n",
    "import os\n",
    "import sys\n",
    "import random\n",
    "import imp\n",
    "\n",
    "\n",
    "import numpy as np\n",
    "import pandas as pd\n",
    "import xarray as xr\n",
    "\n",
    "\n",
    "import climatools.aerosol.aerosol as climaaerosol\n",
    "import climatools.io.cesm as climaio\n",
    "import climatools.aerosol.aerosol_constants as aeroconst\n",
    "import climatools.rrtmg.column_model as rrtmg_column\n",
    "import climatools.units as climaunits\n",
    "\n",
    "\n",
    "imp.reload(climaaerosol)\n",
    "imp.reload(climaio)\n",
    "imp.reload(aeroconst)\n",
    "imp.reload(rrtmg_column)\n",
    "imp.reload(climaunits)"
   ]
  },
  {
   "cell_type": "markdown",
   "metadata": {},
   "source": [
    "### General workflow"
   ]
  },
  {
   "cell_type": "code",
   "execution_count": 2,
   "metadata": {
    "collapsed": true
   },
   "outputs": [],
   "source": [
    "## where are the CAM history files\n",
    "dir_camhist = '/scratch/lupin/cesm1/archive/f19_g16.B1850.std/atm/hist'"
   ]
  },
  {
   "cell_type": "code",
   "execution_count": 3,
   "metadata": {
    "collapsed": false
   },
   "outputs": [],
   "source": [
    "## Prep o3 concentration data\n",
    "\n",
    "ds_o3 = climaaerosol.OZONE_DATASET\n",
    "da_o3 = ds_o3['O3']\n",
    "\n",
    "# interpolate o3 concentration along lev\n",
    "levinterpfunc_da_o3 = climaaerosol.get_interpfunc(da_o3, dim='lev')\n",
    "\n",
    "# evaluate o3 concentration at the 30 levs of CAM history\n",
    "filepath_camhist = os.path.join(dir_camhist,\n",
    "                                random.choice(os.listdir(dir_camhist)))\n",
    "ds_camhist = xr.open_dataset(filepath_camhist, decode_cf=False)\n",
    "\n",
    "da_o3_levinterp = levinterpfunc_da_o3(coords=ds_camhist.coords['lev'])\n",
    "\n",
    "\n",
    "# interpolate o3 concentration along time\n",
    "timeinterpfunc_o3 = climaaerosol.get_interpfunc(da_o3_levinterp,\n",
    "                                                dim='time')"
   ]
  },
  {
   "cell_type": "code",
   "execution_count": 4,
   "metadata": {
    "collapsed": false
   },
   "outputs": [
    {
     "name": "stdout",
     "output_type": "stream",
     "text": [
      "load a CAM history file from some previous global run\n",
      "convert hybrid levels/layers to pressure levels/layers\n",
      "get pressure difference for layer mass\n",
      "interpolate layer values to levels for: T\n",
      "get ozone concentration for the time in this CAM history file\n",
      "get o2 concentration\n"
     ]
    }
   ],
   "source": [
    "# use this cell if IATM = 0 (i.e skipping RRTATM) \n",
    "\n",
    "aerosol = False\n",
    "\n",
    "print(\"load a CAM history file from some previous global run\")\n",
    "ds = climaio.load_camhistory(readfrom='f19_g16.B1850.std.cam2.h0.0001-06.nc')\n",
    "\n",
    "print(\"convert hybrid levels/layers to pressure levels/layers\")\n",
    "ds = climaunits.hybrid2mbar(ds)\n",
    "\n",
    "print(\"get pressure difference for layer mass\")\n",
    "ds = climaaerosol.get_pressure_difference(ds)\n",
    "\n",
    "print(\"interpolate layer values to levels for: T\")\n",
    "ds = climaaerosol.interp_layers2levels(ds, vars=['T'])\n",
    "\n",
    "print(\"get ozone concentration for the time in this CAM history file\")\n",
    "ds = climaaerosol.get_o3_concentration(ds, interpfunc=timeinterpfunc_o3)\n",
    "\n",
    "print(\"get o2 concentration\")\n",
    "ds = climaaerosol.get_o2_concentration(ds)\n",
    "\n",
    "if aerosol:\n",
    "    print('You asked for aerosol. You got it.')\n",
    "    # gather aerosol species mmr into a new variable in the dataset    \n",
    "    ds = climaaerosol.aerosol_species_mmr(ds)\n",
    "\n",
    "    # aerosol water uptake. computes qaerwat, dgncur_awet, wetdens. add to ds\n",
    "    ds = climaaerosol.wateruptake(ds)\n",
    "    \n",
    "    # compute and add to ds modal aerosol optical properties \n",
    "    ds = climaaerosol.modal_aero_sw(ds)\n",
    "\n",
    "stackdims = ('time', 'lat', 'lon')\n",
    "\n",
    "#cols = ds['RELHUM'].stack(cols=stackdims).coords['cols']\n",
    "\n",
    "#print()\n",
    "\n",
    "#for time, lat, lon in cols.values[:1]:\n",
    "#    print(\"Working on column at time {}, lat {}, lon {}\".format(time, lat, lon))\n",
    "#    print(\"write input tapes for RRTMG column model\")\n",
    "#    rrtmg_column.write_input_rrtm(ds_col, aerosol=aerosol, iatm=0)\n",
    "#    rrtmg_column.write_sw_inputfiles(ds,\n",
    "#                                     time=time, lat=lat, lon=lon,\n",
    "#                                     aerosol=aerosol)\n",
    "\n",
    "#    print(\"execute RRTMG\")\n",
    "#    assert os.system('./rrtmg.exe') == 0\n",
    "\n",
    "#    print(\"this dataset contains things like flux down, up and heating rates\")\n",
    "#    ds_rrtmg_col = climarrtmg.load_OUTPUT_RRTM(readfrom='OUTPUT_RRTM', \n",
    "#                                               signed_fluxes=True)\n",
    "#    ds_rrtmg.loc[dict(time=time, lat=lat, lon=lon)] = ds_rrtmg_col\n",
    "\n",
    "#    print(\"write RRTMG output to netCDF file\")\n",
    "#    ds_rrtmg.to_netcdf('RRTMG_f19_g16.B1850.std.cam2.h0.0001-06.nc')\n",
    "    \n",
    "#    print()\n",
    "\n",
    "\n"
   ]
  },
  {
   "cell_type": "code",
   "execution_count": 5,
   "metadata": {
    "collapsed": true
   },
   "outputs": [],
   "source": [
    "# constants\n",
    "\n",
    "AMD = 28.9660\n",
    "AMW = 18.0160\n",
    "AVOGAD = 6.02214199e23\n",
    "\n",
    "GRAV = 9.8066"
   ]
  },
  {
   "cell_type": "code",
   "execution_count": 6,
   "metadata": {
    "collapsed": true
   },
   "outputs": [],
   "source": [
    "def column_density_dryair(h2o=None, pdp=None):\n",
    "    '''\n",
    "    Parameters\n",
    "    ----------\n",
    "    h2o: H2o volume mixing ratio\n",
    "    pdp: layer pressure difference [hPa, mb]\n",
    "    coldry: dry air column density [molecules/cm**2]\n",
    "    '''\n",
    "    dims = ('time', 'lat', 'lon', '')\n",
    "    amm = (1 - h2o) * AMD + h2o * AMW\n",
    "    coldry = pdp * 1e3 * AVOGAD / (1e2 * GRAV * amm * (1 + h2o))\n",
    "    return coldry    "
   ]
  },
  {
   "cell_type": "code",
   "execution_count": 7,
   "metadata": {
    "collapsed": false
   },
   "outputs": [],
   "source": [
    "# select a single (time, lat, lon)\n",
    "ds_col = ds.sel(time=0, lat=45, lon=0, method='nearest')"
   ]
  },
  {
   "cell_type": "code",
   "execution_count": 8,
   "metadata": {
    "collapsed": true
   },
   "outputs": [],
   "source": [
    "# import only the needed data variables to begin with\n",
    "ds_col = ds_col[['ilev', 'lev',\n",
    "                 'level_pressure', 'layer_pressure', 'dpressure',\n",
    "                 'iT', 'T',\n",
    "                 'Q', 'co2vmr', 'O3', 'n2ovmr', 'ch4vmr', 'o2mmr']]"
   ]
  },
  {
   "cell_type": "code",
   "execution_count": 9,
   "metadata": {
    "collapsed": true
   },
   "outputs": [],
   "source": [
    "ds_col = ds_col.rename({'T': 'layer_temperature',\n",
    "                        'iT': 'level_temperature'})"
   ]
  },
  {
   "cell_type": "code",
   "execution_count": 10,
   "metadata": {
    "collapsed": false
   },
   "outputs": [],
   "source": [
    "# H2O: Convert [kg/kg] to [l/l]\n",
    "layer_vmr_h2o = climaunits\\\n",
    "                .mixingratio_mass2volume(substance_name='H2O', \n",
    "                                          mass_mix=ds_col['Q'])\n",
    "ds_col['layer_vmr_h2o'] = (('lev',), \n",
    "                            layer_vmr_h2o,\n",
    "                            {'units': 'vmr',\n",
    "                             'long_name': 'h2o mixing ratio by volume'})"
   ]
  },
  {
   "cell_type": "code",
   "execution_count": 11,
   "metadata": {
    "collapsed": false
   },
   "outputs": [],
   "source": [
    "# CO2: broadcast co2vmr to all layers and name it layer_vmr_co2\n",
    "\n",
    "layer_vmr_co2 = ds_col['co2vmr'].values * np.ones((ds_col.dims['lev']))\n",
    "ds_col['layer_vmr_co2'] = (('lev', ),\n",
    "                           layer_vmr_co2,\n",
    "                            {'units': 'l/l',\n",
    "                             'long_name': 'co2 mixing ratio by volume'})"
   ]
  },
  {
   "cell_type": "code",
   "execution_count": 12,
   "metadata": {
    "collapsed": false
   },
   "outputs": [],
   "source": [
    "# O3: rename O3 to layer_vmr_o3\n",
    "\n",
    "layer_vmr_o3 = ds_col['O3'].values * np.ones((ds_col.dims['lev']))\n",
    "ds_col['layer_vmr_o3'] = (('lev', ),\n",
    "                          layer_vmr_o3,\n",
    "                          {'units': 'l/l',\n",
    "                           'long_name': 'o3 mixing ratio by volume'})"
   ]
  },
  {
   "cell_type": "code",
   "execution_count": 13,
   "metadata": {
    "collapsed": false
   },
   "outputs": [],
   "source": [
    "# N2O: rename n2ovmr to layer_vmr_n2o\n",
    "\n",
    "layer_vmr_n2o = ds_col['n2ovmr'].values * np.ones((ds_col.dims['lev']))\n",
    "ds_col['layer_vmr_n2o'] = (('lev', ),\n",
    "                           layer_vmr_n2o,\n",
    "                           {'units': 'l/l',\n",
    "                            'long_name': 'n2o mixing ratio by volume'})"
   ]
  },
  {
   "cell_type": "code",
   "execution_count": 14,
   "metadata": {
    "collapsed": false
   },
   "outputs": [],
   "source": [
    "# CO: set to zero\n",
    "ds_col['layer_vmr_co'] = (('lev',),\n",
    "                           np.zeros((ds_col.dims['lev'])),\n",
    "                           {'units': 'l/l', \n",
    "                            'long_name': 'co mixing ratio by volume'})"
   ]
  },
  {
   "cell_type": "code",
   "execution_count": 15,
   "metadata": {
    "collapsed": false
   },
   "outputs": [],
   "source": [
    "# CH4: convert [l/l] to [ppmv]\n",
    "layer_vmr_ch4 = ds_col['ch4vmr'].values * np.ones((ds_col.dims['lev']))\n",
    "ds_col['layer_vmr_ch4'] = (('lev', ),\n",
    "                           layer_vmr_ch4,\n",
    "                           {'units': 'l/l',\n",
    "                            'long_name': 'ch4 mixing ratio by volume'})"
   ]
  },
  {
   "cell_type": "code",
   "execution_count": 16,
   "metadata": {
    "collapsed": false
   },
   "outputs": [],
   "source": [
    "# O2: convert [g/g] to [vmr] and broadcast to all layers\n",
    "layer_vmr_o2 = climaunits.mixingratio_mass2volume(substance_name='O2',\n",
    "                                                  mass_mix=ds_col['o2mmr'])\n",
    "layer_vmr_o2 = layer_vmr_o2.values * np.ones((ds_col.dims['lev'],))\n",
    "ds_col['layer_vmr_o2'] = (('lev',),\n",
    "                          layer_vmr_o2,\n",
    "                           {'units': 'l/l',\n",
    "                            'long_name': 'o2 mixing ratio by volumne'})"
   ]
  },
  {
   "cell_type": "code",
   "execution_count": 17,
   "metadata": {
    "collapsed": false
   },
   "outputs": [],
   "source": [
    "# reset layer and level index to integer values starting from 1\n",
    "ds_col.coords['lev'] = range(1, ds.dims['lev'] + 1)\n",
    "ds_col.coords['ilev'] = range(1, ds.dims['ilev'] + 1)"
   ]
  },
  {
   "cell_type": "code",
   "execution_count": 18,
   "metadata": {
    "collapsed": false
   },
   "outputs": [],
   "source": [
    "# reindex layer and level with an additional index number\n",
    "ds_col = ds_col.reindex(lev=range(ds.dims['lev'] + 1))\n",
    "ds_col = ds_col.reindex(ilev=range(ds.dims['ilev'] + 1))"
   ]
  },
  {
   "cell_type": "code",
   "execution_count": 19,
   "metadata": {
    "collapsed": false
   },
   "outputs": [],
   "source": [
    "# assign top layer and level pressures\n",
    "ds_col['layer_pressure'][dict(lev=0)] = (.5 * ds_col['level_pressure']\n",
    "                                         .isel(ilev=1))\n",
    "ds_col['level_pressure'][dict(ilev=0)] = 1e-4"
   ]
  },
  {
   "cell_type": "code",
   "execution_count": 20,
   "metadata": {
    "collapsed": false
   },
   "outputs": [],
   "source": [
    "# assign top layer and level temperatures\n",
    "ds_col['layer_temperature'][dict(lev=0)] = (ds_col['layer_temperature']\n",
    "                                            [dict(lev=1)])\n",
    "ds_col['level_temperature'][dict(ilev=1)] = (.5 * \n",
    "                                             sum(ds_col['layer_temperature']\n",
    "                                                 [dict(lev=[0,1])]))\n",
    "ds_col['level_temperature'][dict(ilev=0)] = (ds_col['level_temperature']\n",
    "                                             [dict(ilev=1)])"
   ]
  },
  {
   "cell_type": "code",
   "execution_count": 21,
   "metadata": {
    "collapsed": false
   },
   "outputs": [],
   "source": [
    "# assign top layer molecule densities\n",
    "names_molecules = ['h2o', 'co2', 'o3', 'n2o', 'co', 'ch4', 'o2']\n",
    "for molecule in names_molecules:\n",
    "    name_var = 'layer_vmr_' + molecule\n",
    "    ds_col[name_var][dict(lev=0)] = ds_col[name_var][dict(lev=1)]"
   ]
  },
  {
   "cell_type": "code",
   "execution_count": 22,
   "metadata": {
    "collapsed": false
   },
   "outputs": [],
   "source": [
    "# compute layer pressure difference\n",
    "ds_col = climaaerosol.get_pressure_difference(ds_col)"
   ]
  },
  {
   "cell_type": "code",
   "execution_count": 23,
   "metadata": {
    "collapsed": false
   },
   "outputs": [],
   "source": [
    "ds_col = ds_col.drop(['Q', 'co2vmr', 'O3', 'n2ovmr', 'ch4vmr', 'o2mmr'])"
   ]
  },
  {
   "cell_type": "code",
   "execution_count": 24,
   "metadata": {
    "collapsed": false
   },
   "outputs": [],
   "source": [
    "# calculate column density of dry air\n",
    "coldens_dryair = column_density_dryair(h2o=ds_col['layer_vmr_h2o'],\n",
    "                                       pdp=ds_col['dpressure'])\n",
    "ds_col['layer_coldens_dryair'] = (('lev',), coldens_dryair)\n",
    "\n",
    "h2o_lev1 = ds_col['layer_vmr_h2o'][dict(lev=1)]\n",
    "amm = (1 - h2o_lev1) * AMD + h2o_lev1 * AMW\n",
    "ds_col['layer_coldens_dryair'][dict(lev=0)] = (ds_col['level_pressure'][dict(ilev=1)]\n",
    "                                               * 1e3 * AVOGAD / \n",
    "                                               (1e2 * GRAV * amm * (1 + h2o_lev1)))"
   ]
  },
  {
   "cell_type": "code",
   "execution_count": 25,
   "metadata": {
    "collapsed": false
   },
   "outputs": [],
   "source": [
    "# convert molecule densities from vmr to column density\n",
    "names_molecules = ['h2o', 'co2', 'o3', 'n2o', 'co', 'ch4', 'o2']\n",
    "for name in names_molecules:\n",
    "    ds_col['layer_coldens_' + name] = (ds_col['layer_vmr_' + name]\n",
    "                                       * ds_col['layer_coldens_dryair'])"
   ]
  },
  {
   "cell_type": "code",
   "execution_count": 26,
   "metadata": {
    "collapsed": true
   },
   "outputs": [],
   "source": [
    "# drop data variables for molecule densities in vmr\n",
    "ds_col = ds_col.drop([name for name in ds.data_vars if '_vmr_' in name])"
   ]
  },
  {
   "cell_type": "code",
   "execution_count": 27,
   "metadata": {
    "collapsed": true
   },
   "outputs": [],
   "source": [
    "ds_col['juldat'] = ((), 0., {'long_name': 'Julian day associated with calculation',\n",
    "                             'units': 'days'})\n",
    "ds_col['sza'] = ((), 60, {'long_name': 'solar zenith angle in degrees',\n",
    "                          'units': 'degrees'})"
   ]
  },
  {
   "cell_type": "code",
   "execution_count": 28,
   "metadata": {
    "collapsed": true
   },
   "outputs": [],
   "source": [
    "rrtmg_column.write_input_rrtm(ds=ds_col, aerosol=False, iatm=0)"
   ]
  },
  {
   "cell_type": "markdown",
   "metadata": {},
   "source": [
    "### Plot too see if results are reasonable"
   ]
  },
  {
   "cell_type": "code",
   "execution_count": 29,
   "metadata": {
    "collapsed": false
   },
   "outputs": [
    {
     "data": {
      "text/plain": [
       "<module 'rtmtools.clirad.sw.analyse' from '/nuwa_cluster/home/jackyu/radiation/rtmtools/rtmtools/clirad/sw/analyse.py'>"
      ]
     },
     "execution_count": 29,
     "metadata": {},
     "output_type": "execute_result"
    }
   ],
   "source": [
    "from IPython import display\n",
    "\n",
    "import matplotlib.pyplot as plt\n",
    "\n",
    "import rtmtools.lblrtm.aerutils as aerutils\n",
    "import rtmtools.lblrtm.aeranalyse as aeranalyse\n",
    "import rtmtools.lblrtm.visualisation as viz\n",
    "import rtmtools.rrtmg.sw.wrangle as rrtmgwrangle\n",
    "import rtmtools.rrtmg.sw.analyse as rrtmganalyse\n",
    "import rtmtools.clirad.sw.wrangle as cliradwrangle\n",
    "import rtmtools.clirad.sw.analyse as cliradanalyse\n",
    "\n",
    "\n",
    "imp.reload(aerutils)\n",
    "imp.reload(aeranalyse)\n",
    "imp.reload(viz)\n",
    "\n",
    "imp.reload(rrtmgwrangle)\n",
    "imp.reload(rrtmganalyse)\n",
    "imp.reload(cliradwrangle)\n",
    "imp.reload(cliradanalyse)"
   ]
  },
  {
   "cell_type": "code",
   "execution_count": 30,
   "metadata": {
    "collapsed": true
   },
   "outputs": [],
   "source": [
    "pnl_rrtmg_iatm0 = rrtmgwrangle.\\\n",
    "                  OUTPUT_RRTM_to_pandasPanel(readfrom='OUTPUT_RRTM',\n",
    "                                             cooling_rate=False,\n",
    "                                             signed_fluxes=True)"
   ]
  },
  {
   "cell_type": "code",
   "execution_count": 31,
   "metadata": {
    "collapsed": true
   },
   "outputs": [],
   "source": [
    "name_molecule = r'$H_{2}O$'\n",
    "\n",
    "def plot_total_heating_rates(infos_wavenumber = None, infos_spectralband = None):\n",
    "    global name_molecule, xlim_linear\n",
    "    atm_levels = [30, 15, 0]\n",
    "\n",
    "    if infos_wavenumber:\n",
    "        (names_wavenumber, colours_wavenumber, \n",
    "         linestyles_wavenumber, pnls_wavenumber) = map(list, zip(*infos_wavenumber))\n",
    "    \n",
    "        dfs_wavenumber = [aeranalyse.\\\n",
    "                          sum_OUTPUT_RADSUM_over_wbands(pnl, V1 = 1000, V2 = 25000) \\\n",
    "                          for pnl in pnls_wavenumber]\n",
    "    else:\n",
    "        (dfs_wavenumber, names_wavenumber, \n",
    "         colours_wavenumber, linestyles_wavenumber) = ([], [], [], [])\n",
    "        \n",
    "    if infos_spectralband:\n",
    "        (names_spectralband, colours_spectralband, \n",
    "         linestyles_spectralband, pnls_spectralband) = map(list, zip(*infos_spectralband))\n",
    "    \n",
    "        dfs_spectralband = [cliradanalyse.\\\n",
    "                            sum_OUTPUT_CLIRAD_over_wbands(pnl, \n",
    "                                                          wbands = range(1, 11))\n",
    "                            for pnl in pnls_spectralband]\n",
    "    else:\n",
    "        (dfs_spectralband, names_spectralband,\n",
    "         colours_spectralband, linestyles_spectralband) = ([], [], [], [])\n",
    "\n",
    "    dfs = dfs_wavenumber + dfs_spectralband\n",
    "    names = names_wavenumber + names_spectralband\n",
    "    colours = colours_wavenumber + colours_spectralband\n",
    "    linestyles = linestyles_wavenumber + linestyles_spectralband    \n",
    "    \n",
    "    dfs_atm_levels = [df.loc[atm_levels, :] for df in dfs]\n",
    "    \n",
    "    viz.tabulate_difference(dfs = dfs_atm_levels, \n",
    "                            names = names,\n",
    "                            title = 'Total heating rate. {}'.format(name_molecule))    \n",
    "    \n",
    "    max_cr = max([df['heating_rate'].max() for df in dfs])\n",
    "    \n",
    "    viz.plot_pres_vs_hrcr(dfs = dfs_wavenumber + dfs_spectralband,\n",
    "                          names = names_wavenumber + names_spectralband,\n",
    "                          linestyles = linestyles_wavenumber + linestyles_spectralband, \n",
    "                          colours = colours_wavenumber + colours_spectralband,\n",
    "                          title = 'Total heating rate. {}'.format(name_molecule),\n",
    "                          cooling_rate = False,\n",
    "                          xlim_linear = None,\n",
    "                          xlim_log = None)\n",
    "    \n",
    "    display.display(plt.gcf()); plt.close()"
   ]
  },
  {
   "cell_type": "code",
   "execution_count": 32,
   "metadata": {
    "collapsed": false
   },
   "outputs": [
    {
     "name": "stdout",
     "output_type": "stream",
     "text": [
      "\n",
      "Total heating rate. $H_{2}O$\n",
      "\n",
      "RRTMG iatm0\n",
      "    pressure  flux_up  flux_difdown  flux_dirdown  flux_down  net_flux  \\\n",
      "30     2.255        0             0      592.0032   592.0032  592.0032   \n",
      "15   292.800        0             0      570.7669   570.7669  570.7669   \n",
      "0    976.100        0             0      471.0411   471.0411  471.0411   \n",
      "\n",
      "    heating_rate  \n",
      "30       2.78555  \n",
      "15       0.66427  \n",
      "0        1.05065  \n",
      "\n"
     ]
    },
    {
     "data": {
      "image/png": "[encoded data removed]",
      "text/plain": [
       "<matplotlib.figure.Figure at 0x2aad35737d68>"
      ]
     },
     "metadata": {},
     "output_type": "display_data"
    }
   ],
   "source": [
    "plot_total_heating_rates(infos_wavenumber=[('RRTMG iatm0', 'g', '--', pnl_rrtmg_iatm0)])"
   ]
  },
  {
   "cell_type": "code",
   "execution_count": 33,
   "metadata": {
    "collapsed": false
   },
   "outputs": [
    {
     "data": {
      "text/html": [
       "<script>\n",
       "code_show=true; \n",
       "function code_toggle() {\n",
       " if (code_show){\n",
       " $('div.input').hide();\n",
       " } else {\n",
       " $('div.input').show();\n",
       " }\n",
       " code_show = !code_show\n",
       "} \n",
       "$( document ).ready(code_toggle);\n",
       "</script>\n",
       "<form action=\"javascript:code_toggle()\"><input type=\"submit\" value=\"Click here to toggle on/off the raw code.\"></form>"
      ],
      "text/plain": [
       "<IPython.core.display.HTML object>"
      ]
     },
     "execution_count": 33,
     "metadata": {},
     "output_type": "execute_result"
    }
   ],
   "source": [
    "display.HTML('''<script>\n",
    "code_show=true; \n",
    "function code_toggle() {\n",
    " if (code_show){\n",
    " $('div.input').hide();\n",
    " } else {\n",
    " $('div.input').show();\n",
    " }\n",
    " code_show = !code_show\n",
    "} \n",
    "$( document ).ready(code_toggle);\n",
    "</script>\n",
    "<form action=\"javascript:code_toggle()\"><input type=\"submit\" value=\"Click here to toggle on/off the raw code.\"></form>''')"
   ]
  },
  {
   "cell_type": "code",
   "execution_count": null,
   "metadata": {
    "collapsed": true
   },
   "outputs": [],
   "source": []
  },
  {
   "cell_type": "code",
   "execution_count": null,
   "metadata": {
    "collapsed": true
   },
   "outputs": [],
   "source": []
  }
 ],
 "metadata": {
  "kernelspec": {
   "display_name": "Python 3",
   "language": "python",
   "name": "python3"
  },
  "language_info": {
   "codemirror_mode": {
    "name": "ipython",
    "version": 3
   },
   "file_extension": ".py",
   "mimetype": "text/x-python",
   "name": "python",
   "nbconvert_exporter": "python",
   "pygments_lexer": "ipython3",
   "version": "3.4.4"
  }
 },
 "nbformat": 4,
 "nbformat_minor": 0
}
