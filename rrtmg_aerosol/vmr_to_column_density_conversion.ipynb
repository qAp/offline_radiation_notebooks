{
 "cells": [
  {
   "cell_type": "markdown",
   "metadata": {},
   "source": [
    "# Converting volumn mixing ratio to column density\n",
    "\n",
    "In running RRTMG column model, if `IATM = 1` in the INPUT_RRTM, then molecule concentrations can be given in a variety of units listed in Table II in the instructions.  Choosing `IATM = 1` also means that RRTATM, a \"ray-tracing program\" originally from LBLRTM, will be used.  It is in this program that, if the user-specified atmosphere profile pressures and altitudes are not appropriately accurate, errors such as \n",
    "\n",
    "     BOUNDARIES ARE OUTSIDE THE RANGE OF THE ATMOSPHERE\n",
    "     BOUNDARY =       2.85 ATMOSPHERE =      2.85\n",
    "     RESET BOUNDARY GT THAN ATMOSPHERE\n",
    "     BOUNDARIES OUTSIDE OF ATMOS\n",
    "     \n",
    "might be raised.  \n",
    "\n",
    "If IATM = 0, the molecule concentrations need to be as column densities, with units of `molecules/cm**2`.  It is these column densities that are input into the subroutine `setcoef_sw()`, which is the earliest common subroutine between the the global version and the column version of RRTMG.  In the global model, before `setcoef_sw` is called, another subroutine, `inatm_sw` is called.  In this subroutine, amongst other things, the input molecules densities in volumne mixing ratio are converted to column densities in `molecules/cm**2`.  `inatm_sw` is not included in the column model, which calls its own `readprof()` before `setcoef_sw()`.  `readprof()` simply reads whatever values are in INPUT_RRTM and pass them to `setcoef_sw()`.  \n",
    "\n",
    "Therefore, if we want to use `IATM = 0` and we only have molecule densities as mixing ratios to begin with, we need to use the appropriate part of `inatm_sw` to convert mixing ratios to column densities before writing them to INPUT_RRTM.\n",
    "\n",
    "Instead of compiling `inatm_sw()` with f2py3, the relevant expressions will be extracted and tranlated into Python, because `inatm_sw()` also does many other things and require other input variables, which, in turn, need to be looked for. "
   ]
  },
  {
   "cell_type": "code",
   "execution_count": null,
   "metadata": {
    "collapsed": true
   },
   "outputs": [],
   "source": []
  }
 ],
 "metadata": {
  "kernelspec": {
   "display_name": "Python 3",
   "language": "python",
   "name": "python3"
  },
  "language_info": {
   "codemirror_mode": {
    "name": "ipython",
    "version": 3
   },
   "file_extension": ".py",
   "mimetype": "text/x-python",
   "name": "python",
   "nbconvert_exporter": "python",
   "pygments_lexer": "ipython3",
   "version": "3.4.4"
  }
 },
 "nbformat": 4,
 "nbformat_minor": 0
}
