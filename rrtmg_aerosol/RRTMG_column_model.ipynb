{
 "cells": [
  {
   "cell_type": "code",
   "execution_count": 4,
   "metadata": {
    "collapsed": false
   },
   "outputs": [],
   "source": [
    "import os\n",
    "import sys\n",
    "import pandas as pd\n",
    "import xray\n",
    "\n",
    "import IPython.display as display"
   ]
  },
  {
   "cell_type": "markdown",
   "metadata": {},
   "source": [
    "## Definitions of input parameters"
   ]
  },
  {
   "cell_type": "markdown",
   "metadata": {},
   "source": [
    "### SW\n",
    "\n",
    "<span style=\"color: green\">LAY</span>\n",
    "\n",
    "              LAY      layer number of aerosol layer.  (The layer numbering refers to the                                                                             \n",
    "                       ordering for the upward radiative transfer, i.e. bottom to top.                                                                                \n",
    "                       For IATM = 0 (Record 1.2), each layer\\'s number is equal to the                                                                                \n",
    "                       position of its Record 2.1.1 in the grouping of these records.                                                                                 \n",
    "                       For example, the second Record 2.1.1 occurring after Record 2.1                                                                                \n",
    "                       corresponds to the second layer.  For IATM = 1 (Record 1.2) and                                                                                \n",
    "                       IBMAX > 0 (Record 3.1), layer n corresponds to the region between      -                                                                        \n",
    "                       altitudes n and n+1 in the list of layer boundaries in Record 3.3B.                                                                            \n",
    "                       For IATM = 1 (Record 1.2) and IBMAX = 0 (Record 3.1), the layer                                                                                \n",
    "                       numbers can be determined by running RRTM for the cloudless case                                                                               \n",
    "                       and examining the TAPE6 output from this run.(\n",
    "                       \n",
    "                  \n",
    "                       \n",
    "\n",
    "        \n",
    "     \n",
    "<span style=\"color: green\">AERPAR</span>\n",
    "\n",
    "\n",
    "      AERPAR  (only used if IAOD = 0) array of parameters for obtaining aerosol optical depth as a                                                                    \n",
    "              function of wavelength, as described below:                                                                                                             \n",
    "                                                                                                                                                                      \n",
    "        AOD = AOD1 * (AERPAR(2) + AERPAR(3) * (lambda/lambda1)) /                                                                                                     \n",
    "                       ((AERPAR(2) + AERPAR(3) - 1) + (lambda/lambda1)**AERPAR(1))                                                                                    \n",
    "              where                                                                                                                                                   \n",
    "                  lambda = wavelength in microns                                                                                                                      \n",
    "                  lambda1 = 1 micron                                                                                                                                  \n",
    "                  AOD = aerosol optical depth at wavelength lambda                                                                                                    \n",
    "                  AOD1 = aerosol optical depth at 1 micron (see Record A2.1.1).                                                                                       \n",
    "                                                                                                                                                                      \n",
    "        This is a version of Eq. 13 from  Molineaux et al, Appl. Optics, 1998.  The default values of                                                                 \n",
    "        AERPAR(1), AERPAR(2), and AERPAR(3), which are 0, 1, and 0, respectively, yield an aerosol                                                                    \n",
    "        with spectrally grey extinction.                                                                                                                              \n",
    "                                                                                                                                                                      \n",
    "        (Note:  To obtain Angstrom relation, set AERPAR(2)=1., AERPAR(3)=0., and AERPAR(1) equal to                                                                   \n",
    "        Angstrom exponent.)\n",
    "                                "
   ]
  },
  {
   "cell_type": "code",
   "execution_count": 2,
   "metadata": {
    "collapsed": true
   },
   "outputs": [],
   "source": [
    "def aer_dir():\n",
    "    return '/nuwa_data/data/cesm1/inputdata/atm/cam/physprops/'\n",
    "\n",
    "def nc_files_read_in_physprop_init():\n",
    "    print( '(file name, optics method, fileindex)' )\n",
    "    filelist = [('mam3_mode1_rrtmg_c110318.nc', 'modal', 1),\n",
    "                ('mam3_mode2_rrtmg_c110318.nc', 'modal', 2),\n",
    "                ('mam3_mode3_rrtmg_c110318.nc', 'modal', 3),\n",
    "                ('sulfate_rrtmg_c080918.nc', 'hygroscopic', 4),\n",
    "                ('ocpho_rrtmg_c101112.nc', 'insoluble', 5),\n",
    "                ('ocphi_rrtmg_c100508.nc', 'hygroscopic', 6),\n",
    "                ('bcpho_rrtmg_c100508.nc', 'insoluble', 7),\n",
    "                ('dust4_rrtmg_c090521.nc', 'insoluble', 8),\n",
    "                ('ssam_rrtmg_c100508.nc', 'hygroscopic', 9)]\n",
    "    return filelist"
   ]
  },
  {
   "cell_type": "markdown",
   "metadata": {},
   "source": [
    "## Contents of cesm1/inputdata/atm/cam/physprops/bcpho_rrtmg_c100508.nc"
   ]
  },
  {
   "cell_type": "code",
   "execution_count": 6,
   "metadata": {
    "collapsed": true
   },
   "outputs": [],
   "source": [
    "ds = xray.open_dataset(os.path.join(aer_dir(), 'bcpho_rrtmg_c100508.nc'))"
   ]
  },
  {
   "cell_type": "code",
   "execution_count": 8,
   "metadata": {
    "collapsed": false
   },
   "outputs": [
    {
     "data": {
      "text/plain": [
       "<xray.Dataset>\n",
       "Dimensions:                      (lw_band: 16, near-ir_band: 44, rh_idx: 1, sw_band: 14)\n",
       "Coordinates:\n",
       "  * lw_band                      (lw_band) int64 0 1 2 3 4 5 6 7 8 9 10 11 ...\n",
       "  * near-ir_band                 (near-ir_band) int64 0 1 2 3 4 5 6 7 8 9 10 ...\n",
       "  * rh_idx                       (rh_idx) int64 0\n",
       "  * sw_band                      (sw_band) int64 0 1 2 3 4 5 6 7 8 9 10 11 12 13\n",
       "Data variables:\n",
       "    opticstype                   |S12 b'insoluble   '\n",
       "    refindex_im_aer_lw           (lw_band) float64 -0.79 -0.79 -0.79 -0.79 ...\n",
       "    dryrad                       float64 1.18e-08\n",
       "    num_to_mass_ratio            float64 1.672e+19\n",
       "    refindex_im_water_lw         (lw_band) float64 -0.336 -0.36 -0.4262 ...\n",
       "    radmin_aer                   float64 6.606e-10\n",
       "    abs_nir                      (near-ir_band, rh_idx) float64 4.576e+03 ...\n",
       "    refindex_real_water_lw       (lw_band) float64 1.532 1.524 1.42 1.274 ...\n",
       "    refindex_real_aer_sw         (sw_band) float64 1.95 1.95 1.95 1.95 1.95 ...\n",
       "    refindex_im_aer_sw           (sw_band) float64 -0.79 -0.79 -0.79 -0.79 ...\n",
       "    refindex_im_aer_near-ir      (near-ir_band) float64 -0.79 -0.79 -0.79 ...\n",
       "    radmax_aer                   float64 5.51e-07\n",
       "    refindex_real_aer_lw         (lw_band) float64 1.95 1.95 1.95 1.95 1.95 ...\n",
       "    asym_lw                      (lw_band, rh_idx) float64 1.644e-06 ...\n",
       "    name                         |S32 b'BCPHO                           '\n",
       "    abs_lw                       (lw_band, rh_idx) float64 5.184 109.8 148.8 ...\n",
       "    scat_lw                      (lw_band, rh_idx) float64 9.618e-09 ...\n",
       "    refindex_im_water_near-ir    (near-ir_band) float64 -3.595e-08 ...\n",
       "    hygroscopicity               float64 1e-10\n",
       "    rh                           (rh_idx) float64 0.0\n",
       "    abs_sw                       (sw_band, rh_idx) float64 787.8 988.6 ...\n",
       "    ssa_sw                       (sw_band, rh_idx) float64 0.006076 0.01113 ...\n",
       "    asym_nir                     (near-ir_band, rh_idx) float64 0.2427 ...\n",
       "    wavelength_near-ir           (near-ir_band) float64 7.01e-07 7.095e-07 ...\n",
       "    aername                      |S20 b'bcpho               '\n",
       "    opticsmethod                 |S32 b'insoluble                       '\n",
       "    density                      float64 1.7e+03\n",
       "    ssa_nir                      (near-ir_band, rh_idx) float64 0.1652 0.163 ...\n",
       "    sigma_logr                   float64 2.0\n",
       "    refindex_real_water_near-ir  (near-ir_band) float64 1.331 1.331 1.331 ...\n",
       "    ext_sw                       (sw_band, rh_idx) float64 792.7 999.8 ...\n",
       "    refindex_real_aer_near-ir    (near-ir_band) float64 1.95 1.95 1.95 1.95 ...\n",
       "    asm_sw                       (sw_band, rh_idx) float64 0.0465 0.06675 ...\n",
       "    refindex_im_water_sw         (sw_band) float64 -0.0142 -0.1577 -0.001516 ...\n",
       "    refindex_real_water_sw       (sw_band) float64 1.408 1.324 1.277 1.302 ...\n",
       "    ext_nir                      (near-ir_band, rh_idx) float64 5.481e+03 ...\n",
       "Attributes:\n",
       "    source: OPAC + miev0\n",
       "    history: Mon May 10 11:00:25 2010: ncks -A bcpho_density_3mode.nc bcpho_rrtmg_c100508.nc\n",
       "Tue Mar 10 15:30:27 2009: ncks -v abs_lw,scat_lw,asym_lw,asm_sw,ext_sw,abs_sw,ssa_sw,ext_nir,abs_nir,ssa_nir,asym_nir bcpho_rrtmg.nc bcpho_rrtmg_c090310.nc\n",
       "Tue Mar 10 15:25:14 2009: ncrename -v asym_sw,asm_sw bcpho_rrtmg.nc\n",
       "Water uptake from Kohler theory"
      ]
     },
     "execution_count": 8,
     "metadata": {},
     "output_type": "execute_result"
    }
   ],
   "source": [
    "ds"
   ]
  },
  {
   "cell_type": "markdown",
   "metadata": {},
   "source": [
    "# IN_AER_RRTM\n",
    "\n",
    "Problems:\n",
    "\n",
    "1. ssa and asy output by modal_aero_sw() have dimensions *layers* and *spectral bands*, but they only have dimensions *spectral bands* in IN_AER_RRTM.  What should be done about the *layers* dimension?\n",
    "\n",
    "2. In modal_aero_sw(), the following variables from *model state* are required:\n",
    "\n",
    "   1. layer mass, *mass(pcols, pver)*\n",
    "   2. air density, *air_density(pcols, pver)*\n",
    "   3. species mass mixing ratio, *specmmr(pcols, pver: m, l)*\n",
    "   \n",
    "3. In modal_aero_sw(), the following variables from physical buffer are required:\n",
    "\n",
    "   1. number mode wet diameter for all modes, *dgnumwet_m(pcols, pver, nmodes)*\n",
    "   2. aerosol water for all modes, *qaerwat_m(pcols, pver, nmodes)*\n",
    "   3. species mass mixing ratio, *specmmr(pcols, pver: m, l)*"
   ]
  },
  {
   "cell_type": "code",
   "execution_count": 10,
   "metadata": {
    "collapsed": false
   },
   "outputs": [
    {
     "data": {
      "text/html": [
       "\n",
       "<script>\n",
       "show_code = true;\n",
       "function code_toggle() {\n",
       "if (show_code) {$('div.input').hide();} else {$('div.input').show();}\n",
       "show_code = !show_code\n",
       "}\n",
       "$( document ).ready(code_toggle);\n",
       "</script>\n",
       "<form action=\"javascript:code_toggle()\"><input type=\"submit\" value=\"Click here to toggle on/off the raw code\"></form>\n"
      ],
      "text/plain": [
       "<IPython.core.display.HTML object>"
      ]
     },
     "execution_count": 10,
     "metadata": {},
     "output_type": "execute_result"
    }
   ],
   "source": [
    "display.HTML('''\n",
    "<script>\n",
    "show_code = true;\n",
    "function code_toggle() {\n",
    "if (show_code) {$('div.input').hide();} else {$('div.input').show();}\n",
    "show_code = !show_code\n",
    "}\n",
    "$( document ).ready(code_toggle);\n",
    "</script>\n",
    "<form action=\"javascript:code_toggle()\"><input type=\"submit\" value=\"Click here to toggle on/off the raw code\"></form>\n",
    "''')"
   ]
  },
  {
   "cell_type": "code",
   "execution_count": null,
   "metadata": {
    "collapsed": true
   },
   "outputs": [],
   "source": []
  }
 ],
 "metadata": {
  "kernelspec": {
   "display_name": "Python 3",
   "language": "python",
   "name": "python3"
  },
  "language_info": {
   "codemirror_mode": {
    "name": "ipython",
    "version": 3
   },
   "file_extension": ".py",
   "mimetype": "text/x-python",
   "name": "python",
   "nbconvert_exporter": "python",
   "pygments_lexer": "ipython3",
   "version": "3.4.3"
  }
 },
 "nbformat": 4,
 "nbformat_minor": 0
}
