{
 "cells": [
  {
   "cell_type": "code",
   "execution_count": 232,
   "metadata": {
    "collapsed": false
   },
   "outputs": [
    {
     "data": {
      "text/plain": [
       "<module 'climatools.aerosol.aerosol' from '/nuwa_cluster/home/jackyu/climatools/climatools/aerosol/aerosol.py'>"
      ]
     },
     "execution_count": 232,
     "metadata": {},
     "output_type": "execute_result"
    }
   ],
   "source": [
    "#%load_ext autoreload\n",
    "#%autoreload 2\n",
    "%matplotlib inline\n",
    "\n",
    "import os\n",
    "import sys\n",
    "import imp\n",
    "\n",
    "import numpy as np\n",
    "import pandas as pd\n",
    "import xray\n",
    "from numba.decorators import jit, autojit\n",
    "\n",
    "import climatools.aerosol.f2py3_modal_aero_wateruptake as aerowateruptake\n",
    "import climatools.aerosol.aerosol as climaaerosol\n",
    "import climatools.io.cesm as climaio\n",
    "import climatools.rrtmg as climarrtmg\n",
    "\n",
    "imp.reload(climaaerosol)"
   ]
  },
  {
   "cell_type": "code",
   "execution_count": 78,
   "metadata": {
    "collapsed": false
   },
   "outputs": [],
   "source": [
    "# load a CAM history file from some previous global run\n",
    "filedir = '/nuwa_cluster/home/jackyu/climatools/climatools/aerosol'\n",
    "filepath = os.path.join(filedir, 'f19_g16.B1850.std.cam2.h0.0001-06.nc')\n",
    "ds = climaio.load_camhistory(readfrom=filepath)"
   ]
  },
  {
   "cell_type": "code",
   "execution_count": 77,
   "metadata": {
    "collapsed": false
   },
   "outputs": [],
   "source": [
    "ILON, ILAT = 70, 90\n",
    "ITIME = 0"
   ]
  },
  {
   "cell_type": "code",
   "execution_count": 55,
   "metadata": {
    "collapsed": true
   },
   "outputs": [],
   "source": [
    "LON, LAT = ds['lon'][ILON].values, ds['lat'][ILAT].values\n",
    "TIME = ds['time'][ITIME].values"
   ]
  },
  {
   "cell_type": "markdown",
   "metadata": {},
   "source": [
    "### timeit: aerowateruptake.modal_aer_wateruptake_sub()"
   ]
  },
  {
   "cell_type": "code",
   "execution_count": 208,
   "metadata": {
    "collapsed": true
   },
   "outputs": [],
   "source": [
    "pcols, pver, ntot_amode, max_nspec_amode = 1, 30, 3, 6\n",
    "args_isel = {'time':ITIME, 'lon':ILON, 'lat':ILAT}\n",
    "modes = [1, 2, 3]\n",
    "\n",
    "try:\n",
    "    relative_humidity = ds['RELHUM'].isel(**args_isel)\n",
    "    cloud_fraction = ds['CLOUD'].isel(**args_isel)\n",
    "    species_mmr = climaaerosol.get_raer(ds, **args_isel)\n",
    "    \n",
    "    relative_humidity = relative_humidity.values.reshape((pcols, pver))\n",
    "    cloud_fraction = cloud_fraction.values.reshape((pcols, pver))\n",
    "except KeyError as e:\n",
    "    print('Needed variables missing from CAM history.')\n",
    "    raise e"
   ]
  },
  {
   "cell_type": "code",
   "execution_count": 210,
   "metadata": {
    "collapsed": false
   },
   "outputs": [
    {
     "name": "stdout",
     "output_type": "stream",
     "text": [
      "10000 loops, best of 3: 101 µs per loop\n"
     ]
    }
   ],
   "source": [
    "%timeit aerowateruptake.modal_aero_wateruptake_sub(ncol=1,\\\n",
    "            cldn=cloud_fraction,\\\n",
    "            relative_humidity=relative_humidity,\\\n",
    "            raer=species_mmr)"
   ]
  },
  {
   "cell_type": "markdown",
   "metadata": {},
   "source": [
    "### timeit: get_aer()"
   ]
  },
  {
   "cell_type": "code",
   "execution_count": 264,
   "metadata": {
    "collapsed": false
   },
   "outputs": [
    {
     "name": "stdout",
     "output_type": "stream",
     "text": [
      "100 loops, best of 3: 7.22 ms per loop\n"
     ]
    }
   ],
   "source": [
    "%timeit climaaerosol.get_raer(ds, lon=ILON, lat=ILAT)"
   ]
  },
  {
   "cell_type": "markdown",
   "metadata": {},
   "source": [
    "### timeit: climaaerosol.wateruptake_column()"
   ]
  },
  {
   "cell_type": "code",
   "execution_count": 265,
   "metadata": {
    "collapsed": false,
    "scrolled": true
   },
   "outputs": [
    {
     "name": "stdout",
     "output_type": "stream",
     "text": [
      "100 loops, best of 3: 9.21 ms per loop\n"
     ]
    }
   ],
   "source": [
    "%timeit climaaerosol.wateruptake_column(ds, ilon=ILON, ilat=ILAT)"
   ]
  },
  {
   "cell_type": "markdown",
   "metadata": {},
   "source": [
    "### timeit: climaaerosol.wateruptake_column() inside loops"
   ]
  },
  {
   "cell_type": "code",
   "execution_count": 266,
   "metadata": {
    "collapsed": false
   },
   "outputs": [
    {
     "name": "stdout",
     "output_type": "stream",
     "text": [
      "1 loops, best of 3: 2min 38s per loop\n"
     ]
    }
   ],
   "source": [
    "\n",
    "def runthis():\n",
    "    for _ in range(96):\n",
    "        for _ in range(180):\n",
    "            climaaerosol.wateruptake_column(ds, ilon=ILON, ilat=ILAT)    \n",
    "            \n",
    "%timeit runthis()"
   ]
  },
  {
   "cell_type": "code",
   "execution_count": 240,
   "metadata": {
    "collapsed": false
   },
   "outputs": [
    {
     "data": {
      "text/plain": [
       "2.3040000000000003"
      ]
     },
     "execution_count": 240,
     "metadata": {},
     "output_type": "execute_result"
    }
   ],
   "source": [
    "144 * 96 * 10e-3 / (60)"
   ]
  },
  {
   "cell_type": "code",
   "execution_count": 257,
   "metadata": {
    "collapsed": false
   },
   "outputs": [],
   "source": [
    "#%timeit climaaerosol.wateruptake(ds)"
   ]
  },
  {
   "cell_type": "code",
   "execution_count": null,
   "metadata": {
    "collapsed": true
   },
   "outputs": [],
   "source": []
  }
 ],
 "metadata": {
  "kernelspec": {
   "display_name": "Python 3",
   "language": "python",
   "name": "python3"
  },
  "language_info": {
   "codemirror_mode": {
    "name": "ipython",
    "version": 3
   },
   "file_extension": ".py",
   "mimetype": "text/x-python",
   "name": "python",
   "nbconvert_exporter": "python",
   "pygments_lexer": "ipython3",
   "version": "3.4.4"
  }
 },
 "nbformat": 4,
 "nbformat_minor": 0
}
