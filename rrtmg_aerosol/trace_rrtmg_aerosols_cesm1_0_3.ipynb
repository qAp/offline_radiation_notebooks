{
 "cells": [
  {
   "cell_type": "code",
   "execution_count": 1,
   "metadata": {
    "collapsed": false
   },
   "outputs": [
    {
     "data": {
      "text/plain": [
       "<module 'climatools.misc' from '/nuwa_cluster/home/jackyu/climatools/climatools/misc.py'>"
      ]
     },
     "execution_count": 1,
     "metadata": {},
     "output_type": "execute_result"
    }
   ],
   "source": [
    "import os\n",
    "import sys\n",
    "import pprint\n",
    "import imp\n",
    "\n",
    "import climatools.misc as climamisc\n",
    "\n",
    "imp.reload(climamisc)"
   ]
  },
  {
   "cell_type": "code",
   "execution_count": 9,
   "metadata": {
    "collapsed": true
   },
   "outputs": [],
   "source": [
    "def fortran_files():\n",
    "    dir_cam = '/nuwa_cluster/home/jackyu/climate_models/cesm1_0_3/models/atm/cam/src/physics/cam'\n",
    "    cam_files = ['modal_aer_opt.F90']\n",
    "    \n",
    "    dir_rrtmg = '/nuwa_cluster/home/jackyu/climate_models/cesm1_0_3/models/atm/cam/src/physics/rrtmg'\n",
    "    rrtmg_files = ['radiation.F90']\n",
    "    \n",
    "    fpaths = [os.path.join(dir_cam, file) for file in cam_files]\n",
    "    return fpaths"
   ]
  },
  {
   "cell_type": "code",
   "execution_count": 10,
   "metadata": {
    "collapsed": false
   },
   "outputs": [
    {
     "name": "stdout",
     "output_type": "stream",
     "text": [
      "{'binterp': {'childs': [], 'parents': ['modal_aero_lw', 'modal_aero_sw']},\n",
      " 'modal_aer_opt_init': {'childs': ['read_modal_optics',\n",
      "                                   'add_default',\n",
      "                                   'addfld',\n",
      "                                   'getfil',\n",
      "                                   'read_water_refindex'],\n",
      "                        'parents': []},\n",
      " 'modal_aer_opt_readnl': {'childs': ['find_group_name',\n",
      "                                     'endrun',\n",
      "                                     'mpibcast',\n",
      "                                     'freeunit'],\n",
      "                          'parents': []},\n",
      " 'modal_aero_lw': {'childs': ['binterp',\n",
      "                              'endrun',\n",
      "                              'rad_cnst_get_aer_mmr',\n",
      "                              'rad_cnst_get_aer_props'],\n",
      "                   'parents': []},\n",
      " 'modal_aero_sw': {'childs': ['endrun',\n",
      "                              'rad_cnst_get_aer_mmr',\n",
      "                              'rad_cnst_get_aer_props',\n",
      "                              'binterp',\n",
      "                              'modal_size_parameters',\n",
      "                              'outfld'],\n",
      "                   'parents': []},\n",
      " 'modal_size_parameters': {'childs': [], 'parents': ['modal_aero_sw']},\n",
      " 'read_modal_optics': {'childs': ['endrun',\n",
      "                                  'pio_closefile',\n",
      "                                  'cam_pio_openfile'],\n",
      "                       'parents': ['modal_aer_opt_init']},\n",
      " 'read_water_refindex': {'childs': ['endrun',\n",
      "                                    'pio_closefile',\n",
      "                                    'cam_pio_openfile'],\n",
      "                         'parents': ['modal_aer_opt_init']}}\n"
     ]
    }
   ],
   "source": [
    "pprint.pprint(climamisc.Fortran_subroutine_relations_from_files(paths_fortran=fortran_files()))"
   ]
  },
  {
   "cell_type": "code",
   "execution_count": null,
   "metadata": {
    "collapsed": true
   },
   "outputs": [],
   "source": []
  }
 ],
 "metadata": {
  "kernelspec": {
   "display_name": "Python 3",
   "language": "python",
   "name": "python3"
  },
  "language_info": {
   "codemirror_mode": {
    "name": "ipython",
    "version": 3
   },
   "file_extension": ".py",
   "mimetype": "text/x-python",
   "name": "python",
   "nbconvert_exporter": "python",
   "pygments_lexer": "ipython3",
   "version": "3.4.4"
  }
 },
 "nbformat": 4,
 "nbformat_minor": 0
}
