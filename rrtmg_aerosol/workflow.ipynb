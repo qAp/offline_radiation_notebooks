{
 "cells": [
  {
   "cell_type": "code",
   "execution_count": 11,
   "metadata": {
    "collapsed": false
   },
   "outputs": [
    {
     "data": {
      "text/plain": [
       "<module 'climatools.rrtmg' (namespace)>"
      ]
     },
     "execution_count": 11,
     "metadata": {},
     "output_type": "execute_result"
    }
   ],
   "source": [
    "%matplotlib inline\n",
    "\n",
    "import os\n",
    "import sys\n",
    "import random\n",
    "import imp\n",
    "\n",
    "\n",
    "import numpy as np\n",
    "import pandas as pd\n",
    "import xarray as xr\n",
    "\n",
    "import climatools.aerosol.f2py3_modal_aero_wateruptake as aerowateruptake\n",
    "import climatools.aerosol.aerosol as climaaerosol\n",
    "import climatools.io.cesm as climaio\n",
    "import climatools.aerosol.aerosol_constants as aeroconst\n",
    "import climatools.rrtmg as climarrtmg\n",
    "\n",
    "\n",
    "imp.reload(climaaerosol)\n",
    "imp.reload(climaio)\n",
    "imp.reload(aeroconst)\n",
    "imp.reload(climarrtmg)"
   ]
  },
  {
   "cell_type": "markdown",
   "metadata": {},
   "source": [
    "### General workflow"
   ]
  },
  {
   "cell_type": "code",
   "execution_count": 12,
   "metadata": {
    "collapsed": true
   },
   "outputs": [],
   "source": [
    "## where are the CAM history files\n",
    "dir_camhist = '/scratch/lupin/cesm1/archive/f19_g16.B1850.std/atm/hist'"
   ]
  },
  {
   "cell_type": "code",
   "execution_count": 14,
   "metadata": {
    "collapsed": false
   },
   "outputs": [],
   "source": [
    "## Prep o3 concentration data\n",
    "\n",
    "ds_o3 = climaaerosol.OZONE_DATASET\n",
    "da_o3 = ds_o3['O3']\n",
    "\n",
    "# interpolate o3 concentration along lev\n",
    "levinterpfunc_da_o3 = climaaerosol.get_interpfunc(da_o3, dim='lev')\n",
    "\n",
    "# evaluate o3 concentration at the 30 levs of CAM history\n",
    "filepath_camhist = os.path.join(dir_camhist,\n",
    "                                random.choice(os.listdir(dir_camhist)))\n",
    "ds_camhist = xr.open_dataset(filepath_camhist, decode_cf=False)\n",
    "\n",
    "da_o3_levinterp = levinterpfunc_da_o3(coords=ds_camhist.coords['lev'])\n",
    "\n",
    "\n",
    "# interpolate o3 concentration along time\n",
    "timeinterpfunc_o3 = climaaerosol.get_interpfunc(da_o3_levinterp,\n",
    "                                                dim='time')"
   ]
  },
  {
   "cell_type": "code",
   "execution_count": 2,
   "metadata": {
    "collapsed": false
   },
   "outputs": [
    {
     "ename": "NameError",
     "evalue": "name 'climaio' is not defined",
     "output_type": "error",
     "traceback": [
      "\u001b[1;31m---------------------------------------------------------------------------\u001b[0m",
      "\u001b[1;31mNameError\u001b[0m                                 Traceback (most recent call last)",
      "\u001b[1;32m<ipython-input-2-d9029a16fdbf>\u001b[0m in \u001b[0;36m<module>\u001b[1;34m()\u001b[0m\n\u001b[0;32m      1\u001b[0m \u001b[1;31m# load a CAM history file from some previous global run\u001b[0m\u001b[1;33m\u001b[0m\u001b[1;33m\u001b[0m\u001b[0m\n\u001b[1;32m----> 2\u001b[1;33m \u001b[0mds\u001b[0m \u001b[1;33m=\u001b[0m \u001b[0mclimaio\u001b[0m\u001b[1;33m.\u001b[0m\u001b[0mload_camhistory\u001b[0m\u001b[1;33m(\u001b[0m\u001b[0mreadfrom\u001b[0m\u001b[1;33m=\u001b[0m\u001b[1;34m'f19_g16.B1850.std.cam2.h0.0001-06.nc'\u001b[0m\u001b[1;33m)\u001b[0m\u001b[1;33m\u001b[0m\u001b[0m\n\u001b[0m\u001b[0;32m      3\u001b[0m \u001b[1;33m\u001b[0m\u001b[0m\n\u001b[0;32m      4\u001b[0m \u001b[1;31m# compute and add to ds modal aerosol water and wet radii\u001b[0m\u001b[1;33m\u001b[0m\u001b[1;33m\u001b[0m\u001b[0m\n\u001b[0;32m      5\u001b[0m \u001b[0mds\u001b[0m \u001b[1;33m=\u001b[0m \u001b[0mclimaaerosol\u001b[0m\u001b[1;33m.\u001b[0m\u001b[0mwateruptake\u001b[0m\u001b[1;33m(\u001b[0m\u001b[0mdataset\u001b[0m\u001b[1;33m=\u001b[0m\u001b[0mds\u001b[0m\u001b[1;33m,\u001b[0m \u001b[0mspectral_region\u001b[0m\u001b[1;33m=\u001b[0m\u001b[1;34m'sw'\u001b[0m\u001b[1;33m)\u001b[0m\u001b[1;33m\u001b[0m\u001b[0m\n",
      "\u001b[1;31mNameError\u001b[0m: name 'climaio' is not defined"
     ]
    }
   ],
   "source": [
    "aerosol = True\n",
    "\n",
    "# load a CAM history file from some previous global run\n",
    "ds = climaio.load_camhistory(readfrom='f19_g16.B1850.std.cam2.h0.0001-06.nc',\n",
    "                             decode_cf=False)\n",
    "\n",
    "# convert hybrid levels/layers to pressure levels/layers\n",
    "ds = climaunits.hybrid2mbar(ds)\n",
    "\n",
    "# get ozone concentration for the time in this CAM history file\n",
    "ds = climaaerosol.get_o3_concentration(ds, interpfunc=timeinterpfunc_o3)\n",
    "\n",
    "# interpolate layer values to levels for: T, Q and O3\n",
    "ds = climaaerosol.interp_layers2levels(ds, variables=['T', 'Q', 'O3'])\n",
    "\n",
    "if aerosol:\n",
    "    # gather aerosol species mmr into a new variable in the dataset\n",
    "    ds = climaaerosol.get_raer(ds)\n",
    "\n",
    "    # aerosol water uptake. computes qaerwat, dgncur_awet, wetdens. add to ds\n",
    "    ds = climaaerosol.wateruptake(ds)\n",
    "\n",
    "    # compute and add to ds modal aerosol optical properties \n",
    "    ds = climaaerosol.modal_aero_sw(ds)\n",
    "\n",
    "stackdims = ('time', 'lat', 'lon')\n",
    "\n",
    "cols = ds['RELHUM'].stack(cols=stackdims).coords['cols']\n",
    "\n",
    "for time, lat, lon in cols:\n",
    "    # write input tapes for RRTMG column model\n",
    "    climarrtmg.write_sw_inputfiles(ds,\n",
    "                                   time=time, lat=lat, lon=lon,\n",
    "                                   aerosol=aerosol)\n",
    "\n",
    "    # execute RRTMG\n",
    "    assert os.system('./rrtmg_lksdokw') == 0\n",
    "\n",
    "    # this dataset contains things like flux down, up and heating rates\n",
    "    ds_rrtmg_col = climarrtmg.load_OUTPUT_RRTM(readfrom='OUTPUT_RRTM', \n",
    "                                               signed_fluxes=True)\n",
    "    ds_rrtmg.loc[dict(time=time, lat=lat, lon=lon)] = ds_rrtmg_col\n",
    "\n",
    "    # write RRTMG output to netCDF file\n",
    "    ds_rrtmg.to_netcdf('RRTMG_f19_g16.B1850.std.cam2.h0.0001-06.nc')\n",
    "\n",
    "\n"
   ]
  },
  {
   "cell_type": "code",
   "execution_count": null,
   "metadata": {
    "collapsed": true
   },
   "outputs": [],
   "source": [
    "def write_sw_inputfiles(ds, \n",
    "                        time=181, lat=-90, lon=0, \n",
    "                        aerosol=False):\n",
    "    \n",
    "    write_input_rrtm(ds, \n",
    "                     time=time, lat=lat, lon=lon, \n",
    "                     aerosol=aerosol)\n",
    "    if aerosol:\n",
    "        write_in_aer_rrtm(ds, time=time, lat=lat, lon=lon)\n",
    "\n",
    "        \n",
    "def write_input_rrtm(ds, \n",
    "                     time=181, lat=-90, lon=0,\n",
    "                     aerosol=False):\n",
    "    if aerosol:\n",
    "        iaer = 10\n",
    "    else:\n",
    "        iaer = 0\n",
    "    \n",
    "    content = collections.deque([])\n",
    "    \n",
    "    content.append(swin.record_1_1(cxid))\n",
    "    content.append(swin.record_1_2(iaer=iaer))\n",
    "    ...\n",
    "    with open('INPUT_RRTM', mode='w', encoding='utf-8') as file:\n",
    "        file.write('\\n'.join(content))\n",
    "        \n",
    "\n",
    "def write_in_aer_rrtm(ds, time=181, lat=-90, lon=0):\n",
    "    \n",
    "    content = collections.deque([])\n",
    "    \n",
    "    # record A1.1\n",
    "    content.append(swin.record_a1_1(naer=1))\n",
    "    \n",
    "    # record A2.1\n",
    "    content.append(swin.record_a2_1(nlay=,\n",
    "                                    iaod=1,\n",
    "                                    issa=1,\n",
    "                                    ipha=1))\n",
    "    \n",
    "    # record A2.1.1 for all layers\n",
    "    for lev in ds.coords['lev']:\n",
    "        lay = lev2lay(lev)\n",
    "        aod = ds['tauxar'].sel(time=time, lat=lat, lon=lon, lev=lev)\n",
    "        content.append(swin.record_a2_1_1(lay=lay, aod=aod))\n",
    "    \n",
    "    # record A2.2\n",
    "    ssa = ds['wa'].sel(time=time, lat=lat, lon=lon).isel(lev=0)\n",
    "    content.append(swin.record_a2_2(ssa=ssa))\n",
    "    \n",
    "    # record A2.3\n",
    "    phase = ds['ga'].sel(time=time, lat=lat, lon=lon).isel(lev=0)\n",
    "    content.append(swin.record_a2_3(phase=phase))\n",
    "    \n",
    "    with open('IN_AER_RRTM', mode='w', encoding='utf-8') as file:\n",
    "        file.write('\\n'.join(content))\n",
    "    \n",
    "    "
   ]
  },
  {
   "cell_type": "code",
   "execution_count": 200,
   "metadata": {
    "collapsed": true
   },
   "outputs": [],
   "source": [
    "def func1(a, b):\n",
    "    return a + b\n",
    "\n",
    "\n",
    "def method1(ds):\n",
    "    ds = ds.copy(deep=True)\n",
    "    ds['C'] = func1(ds['A'], ds['B'])\n",
    "    return ds\n",
    "    \n",
    "\n",
    "def method2(ds):\n",
    "    ds = ds.copy(deep=True)\n",
    "    ds['C'] = xray.DataArray.from_series(\n",
    "        ds.to_dataframe().apply(lambda x: func1(x['A'], x['B']), axis=1))\n",
    "    return ds\n"
   ]
  },
  {
   "cell_type": "code",
   "execution_count": 291,
   "metadata": {
    "collapsed": false
   },
   "outputs": [],
   "source": [
    "nx1, nx2, nx3 = 5, 3, 6\n",
    "\n",
    "ds = xray.Dataset()\n",
    "ds.coords.update({'x1': ('x1', range(nx1)), \n",
    "                  'x2': ('x2', range(nx2)), \n",
    "                  'x3': ('x3', range(nx3))})\n",
    "\n",
    "ds['A'] = (['x1', 'x2', 'x3'], np.arange(nx1*nx2*nx3).reshape((nx1, nx2, nx3)))\n",
    "ds['B'] = (['x1', 'x2', 'x3'], np.arange(nx1*nx2*nx3).reshape((nx1, nx2, nx3)) + 100) \n",
    "\n"
   ]
  },
  {
   "cell_type": "code",
   "execution_count": 290,
   "metadata": {
    "collapsed": false
   },
   "outputs": [],
   "source": [
    "\n",
    "def method1(ds):\n",
    "    \n",
    "    def func(a, b):\n",
    "        a = np.roll(a, 1, axis=2)\n",
    "        b = np.fft.fft(b, axis=2)\n",
    "        return a + b\n",
    "    \n",
    "    ds = ds.copy(deep=True)\n",
    "    ds.update({'C': (['x1', 'x2', 'x3'], func(ds['A'], ds['B']))})\n",
    "    return ds\n",
    "\n",
    "\n",
    "def method2(ds):\n",
    "    ds = ds.copy(deep=True)\n",
    "    df = ds.to_dataframe()\n",
    "    \n",
    "    srsAA = srsA.unstack(2)\\\n",
    "    .apply(lambda x: np.roll(x, 1), axis=1).stack()\n",
    "\n",
    "    srsBB = srsB.unstack(2)\\\n",
    "    .apply(lambda x: np.fft.fft(x), axis=1).stack()\n",
    "\n",
    "    srsC = srsAA + srsBB\n",
    "\n",
    "    df = pd.concat([df['A'], df['B'], srsC], \n",
    "                   axis=1, keys=['A', 'B', 'C'])\n",
    "\n",
    "    ds = xray.Dataset.from_dataframe(df)\n",
    "    return ds\n",
    "  "
   ]
  },
  {
   "cell_type": "code",
   "execution_count": 292,
   "metadata": {
    "collapsed": false
   },
   "outputs": [
    {
     "data": {
      "text/plain": [
       "<xray.Dataset>\n",
       "Dimensions:  (x1: 5, x2: 3, x3: 6)\n",
       "Coordinates:\n",
       "  * x2       (x2) int64 0 1 2\n",
       "  * x1       (x1) int64 0 1 2 3 4\n",
       "  * x3       (x3) int64 0 1 2 3 4 5\n",
       "Data variables:\n",
       "    A        (x1, x2, x3) int64 0 1 2 3 4 5 6 7 8 9 10 11 12 13 14 15 16 17 ...\n",
       "    B        (x1, x2, x3) int64 100 101 102 103 104 105 106 107 108 109 110 ..."
      ]
     },
     "execution_count": 292,
     "metadata": {},
     "output_type": "execute_result"
    }
   ],
   "source": [
    "ds"
   ]
  },
  {
   "cell_type": "code",
   "execution_count": 293,
   "metadata": {
    "collapsed": false
   },
   "outputs": [],
   "source": [
    "ds1 = method1(ds)\n",
    "ds2 = method2(ds)"
   ]
  },
  {
   "cell_type": "code",
   "execution_count": 294,
   "metadata": {
    "collapsed": false
   },
   "outputs": [
    {
     "data": {
      "text/plain": [
       "<xray.Dataset>\n",
       "Dimensions:  (x1: 5, x2: 3, x3: 6)\n",
       "Coordinates:\n",
       "  * x2       (x2) int64 0 1 2\n",
       "  * x1       (x1) int64 0 1 2 3 4\n",
       "  * x3       (x3) int64 0 1 2 3 4 5\n",
       "Data variables:\n",
       "    A        (x1, x2, x3) int64 0 1 2 3 4 5 6 7 8 9 10 11 12 13 14 15 16 17 ...\n",
       "    B        (x1, x2, x3) int64 100 101 102 103 104 105 106 107 108 109 110 ...\n",
       "    C        (x1, x2, x3) complex128 (620+0j) (-3+5.19615242271j) ..."
      ]
     },
     "execution_count": 294,
     "metadata": {},
     "output_type": "execute_result"
    }
   ],
   "source": [
    "ds1"
   ]
  },
  {
   "cell_type": "code",
   "execution_count": 295,
   "metadata": {
    "collapsed": false
   },
   "outputs": [
    {
     "data": {
      "text/plain": [
       "<xray.Dataset>\n",
       "Dimensions:  (x1: 5, x2: 3, x3: 6)\n",
       "Coordinates:\n",
       "  * x1       (x1) int64 0 1 2 3 4\n",
       "  * x2       (x2) int64 0 1 2\n",
       "  * x3       (x3) int64 0 1 2 3 4 5\n",
       "Data variables:\n",
       "    A        (x1, x2, x3) int64 0 1 2 3 4 5 6 7 8 9 10 11 12 13 14 15 16 17 ...\n",
       "    B        (x1, x2, x3) int64 100 101 102 103 104 105 106 107 108 109 110 ...\n",
       "    C        (x1, x2, x3) complex128 (620+0j) (-3+5.19615242271j) ..."
      ]
     },
     "execution_count": 295,
     "metadata": {},
     "output_type": "execute_result"
    }
   ],
   "source": [
    "ds2"
   ]
  },
  {
   "cell_type": "code",
   "execution_count": 296,
   "metadata": {
    "collapsed": false
   },
   "outputs": [
    {
     "data": {
      "text/plain": [
       "True"
      ]
     },
     "execution_count": 296,
     "metadata": {},
     "output_type": "execute_result"
    }
   ],
   "source": [
    "all(ds1 == ds2)"
   ]
  },
  {
   "cell_type": "code",
   "execution_count": 300,
   "metadata": {
    "collapsed": false
   },
   "outputs": [
    {
     "name": "stdout",
     "output_type": "stream",
     "text": [
      "1000 loops, best of 3: 1.4 ms per loop\n"
     ]
    }
   ],
   "source": [
    "%timeit method1(ds)"
   ]
  },
  {
   "cell_type": "code",
   "execution_count": 299,
   "metadata": {
    "collapsed": false
   },
   "outputs": [
    {
     "name": "stdout",
     "output_type": "stream",
     "text": [
      "10 loops, best of 3: 20.1 ms per loop\n"
     ]
    }
   ],
   "source": [
    "%timeit method2(ds)"
   ]
  },
  {
   "cell_type": "markdown",
   "metadata": {},
   "source": [
    "### Modal_aero_wateruptake()"
   ]
  },
  {
   "cell_type": "code",
   "execution_count": null,
   "metadata": {
    "collapsed": true
   },
   "outputs": [],
   "source": []
  }
 ],
 "metadata": {
  "kernelspec": {
   "display_name": "Python 3",
   "language": "python",
   "name": "python3"
  },
  "language_info": {
   "codemirror_mode": {
    "name": "ipython",
    "version": 3
   },
   "file_extension": ".py",
   "mimetype": "text/x-python",
   "name": "python",
   "nbconvert_exporter": "python",
   "pygments_lexer": "ipython3",
   "version": "3.4.4"
  }
 },
 "nbformat": 4,
 "nbformat_minor": 0
}
