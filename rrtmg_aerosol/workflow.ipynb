{
 "cells": [
  {
   "cell_type": "code",
   "execution_count": 72,
   "metadata": {
    "collapsed": false
   },
   "outputs": [
    {
     "data": {
      "text/plain": [
       "<module 'climatools.units' from '/nuwa_cluster/home/jackyu/climatools/climatools/units.py'>"
      ]
     },
     "execution_count": 72,
     "metadata": {},
     "output_type": "execute_result"
    }
   ],
   "source": [
    "%matplotlib inline\n",
    "\n",
    "import os\n",
    "import sys\n",
    "import random\n",
    "import imp\n",
    "\n",
    "\n",
    "import numpy as np\n",
    "import pandas as pd\n",
    "import xarray as xr\n",
    "\n",
    "\n",
    "import climatools.aerosol.aerosol as climaaerosol\n",
    "import climatools.io.cesm as climaio\n",
    "import climatools.aerosol.aerosol_constants as aeroconst\n",
    "import climatools.rrtmg.column_model as rrtmg_column\n",
    "import climatools.units as climaunits\n",
    "\n",
    "\n",
    "imp.reload(climaaerosol)\n",
    "imp.reload(climaio)\n",
    "imp.reload(aeroconst)\n",
    "imp.reload(rrtmg_column)\n",
    "imp.reload(climaunits)"
   ]
  },
  {
   "cell_type": "markdown",
   "metadata": {},
   "source": [
    "### General workflow"
   ]
  },
  {
   "cell_type": "code",
   "execution_count": 48,
   "metadata": {
    "collapsed": true
   },
   "outputs": [],
   "source": [
    "## where are the CAM history files\n",
    "dir_camhist = '/scratch/lupin/cesm1/archive/f19_g16.B1850.std/atm/hist'"
   ]
  },
  {
   "cell_type": "code",
   "execution_count": 49,
   "metadata": {
    "collapsed": false
   },
   "outputs": [],
   "source": [
    "## Prep o3 concentration data\n",
    "\n",
    "ds_o3 = climaaerosol.OZONE_DATASET\n",
    "da_o3 = ds_o3['O3']\n",
    "\n",
    "# interpolate o3 concentration along lev\n",
    "levinterpfunc_da_o3 = climaaerosol.get_interpfunc(da_o3, dim='lev')\n",
    "\n",
    "# evaluate o3 concentration at the 30 levs of CAM history\n",
    "filepath_camhist = os.path.join(dir_camhist,\n",
    "                                random.choice(os.listdir(dir_camhist)))\n",
    "ds_camhist = xr.open_dataset(filepath_camhist, decode_cf=False)\n",
    "\n",
    "da_o3_levinterp = levinterpfunc_da_o3(coords=ds_camhist.coords['lev'])\n",
    "\n",
    "\n",
    "# interpolate o3 concentration along time\n",
    "timeinterpfunc_o3 = climaaerosol.get_interpfunc(da_o3_levinterp,\n",
    "                                                dim='time')"
   ]
  },
  {
   "cell_type": "code",
   "execution_count": 73,
   "metadata": {
    "collapsed": false,
    "scrolled": false
   },
   "outputs": [
    {
     "name": "stdout",
     "output_type": "stream",
     "text": [
      "load a CAM history file from some previous global run\n",
      "convert hybrid levels/layers to pressure levels/layers\n",
      "get ozone concentration for the time in this CAM history file\n",
      "get o2 concentration\n",
      "interpolate layer values to levels for: T, Q and O3\n",
      "You asked for aerosol. You got it.\n",
      "\n",
      "Working on column at time 181.0, lat -90.0, lon 0.0\n",
      "write input tapes for RRTMG column model\n",
      "execute RRTMG\n",
      "this dataset contains things like flux down, up and heating rates\n",
      "write RRTMG output to netCDF file\n",
      "\n",
      "Working on column at time 181.0, lat -90.0, lon 2.5\n",
      "write input tapes for RRTMG column model\n",
      "execute RRTMG\n",
      "this dataset contains things like flux down, up and heating rates\n",
      "write RRTMG output to netCDF file\n",
      "\n"
     ]
    }
   ],
   "source": [
    "aerosol = True\n",
    "\n",
    "print(\"load a CAM history file from some previous global run\")\n",
    "ds = climaio.load_camhistory(readfrom='f19_g16.B1850.std.cam2.h0.0001-06.nc')\n",
    "\n",
    "print(\"convert hybrid levels/layers to pressure levels/layers\")\n",
    "ds = climaunits.hybrid2mbar(ds)\n",
    "\n",
    "print(\"get ozone concentration for the time in this CAM history file\")\n",
    "ds = climaaerosol.get_o3_concentration(ds, interpfunc=timeinterpfunc_o3)\n",
    "\n",
    "print(\"get o2 concentration\")\n",
    "ds = climaaerosol.get_o2_concentration(ds)\n",
    "\n",
    "print(\"interpolate layer values to levels for: T, Q and O3\")\n",
    "ds = climaaerosol.interp_layers2levels(ds, vars=['T', 'Q', 'O3'])\n",
    "\n",
    "if aerosol:\n",
    "    print('You asked for aerosol. You got it.')\n",
    "    # gather aerosol species mmr into a new variable in the dataset\n",
    "    ds = climaaerosol.aerosol_species_mmr(ds)\n",
    "\n",
    "    # aerosol water uptake. computes qaerwat, dgncur_awet, wetdens. add to ds\n",
    "    ds = climaaerosol.wateruptake(ds)\n",
    "    \n",
    "    # get pressure difference for layer mass\n",
    "    ds = climaaerosol.get_pressure_difference(ds)\n",
    "\n",
    "    # compute and add to ds modal aerosol optical properties \n",
    "    ds = climaaerosol.modal_aero_sw(ds)\n",
    "\n",
    "stackdims = ('time', 'lat', 'lon')\n",
    "\n",
    "cols = ds['RELHUM'].stack(cols=stackdims).coords['cols']\n",
    "\n",
    "print()\n",
    "\n",
    "for time, lat, lon in cols.values[:2]:\n",
    "    print(\"Working on column at time {}, lat {}, lon {}\".format(time, lat, lon))\n",
    "    print(\"write input tapes for RRTMG column model\")\n",
    "    rrtmg_column.write_sw_inputfiles(ds,\n",
    "                                     time=time, lat=lat, lon=lon,\n",
    "                                     aerosol=aerosol)\n",
    "\n",
    "    print(\"execute RRTMG\")\n",
    "#    assert os.system('./rrtmg_lksdokw') == 0\n",
    "\n",
    "    print(\"this dataset contains things like flux down, up and heating rates\")\n",
    "#    ds_rrtmg_col = climarrtmg.load_OUTPUT_RRTM(readfrom='OUTPUT_RRTM', \n",
    "#                                               signed_fluxes=True)\n",
    "#    ds_rrtmg.loc[dict(time=time, lat=lat, lon=lon)] = ds_rrtmg_col\n",
    "\n",
    "    print(\"write RRTMG output to netCDF file\")\n",
    "#    ds_rrtmg.to_netcdf('RRTMG_f19_g16.B1850.std.cam2.h0.0001-06.nc')\n",
    "    \n",
    "    print()\n",
    "\n",
    "\n"
   ]
  },
  {
   "cell_type": "code",
   "execution_count": 45,
   "metadata": {
    "collapsed": true
   },
   "outputs": [
    {
     "name": "stdout",
     "output_type": "stream",
     "text": [
      "$ CXID                                                                          \r\n",
      "                  10                             1                                1     98   00   00\r\n",
      "            181   60.0000                                                                           \r\n",
      "           0  0                                                                      \r\n",
      "    0       -31         0    7    0                                             \r\n",
      "   672.642     2.255\r\n",
      "   672.642   662.628   652.110   640.076   626.628   611.881   595.955   578.979\r\n",
      "   549.657   510.204   463.451   412.512   361.592   318.310   281.520   250.247\r\n",
      "   223.665   201.070   181.863   154.587   131.401   111.693    94.941    80.701\r\n",
      "    63.323    45.867    30.669    18.555    10.158     5.032     2.255        \r\n",
      "  -31(lat,lon) = (-90.0, 2.5)\r\n",
      " 0.000e+00 6.726e+02 2.117e+02     AA   CAAAAAC\r\n",
      "-1.410e-05 2.847e-04 2.320e-08 2.757e-07 0.000e+00 7.916e-07 2.314e-01\r\n",
      " 0.000e+00 6.626e+02 2.254e+02     AA   CAAAAAC\r\n",
      " 8.418e-05 2.847e-04 2.321e-08 2.757e-07 0.000e+00 7.916e-07 2.314e-01\r\n",
      " 0.000e+00 6.521e+02 2.341e+02     AA   CAAAAAC\r\n",
      " 1.487e-04 2.847e-04 2.322e-08 2.757e-07 0.000e+00 7.916e-07 2.314e-01\r\n",
      " 0.000e+00 6.401e+02 2.351e+02     AA   CAAAAAC\r\n",
      " 1.613e-04 2.847e-04 2.324e-08 2.757e-07 0.000e+00 7.916e-07 2.314e-01\r\n",
      " 0.000e+00 6.266e+02 2.355e+02     AA   CAAAAAC\r\n",
      " 1.664e-04 2.847e-04 2.326e-08 2.757e-07 0.000e+00 7.916e-07 2.314e-01\r\n",
      " 0.000e+00 6.119e+02 2.352e+02     AA   CAAAAAC\r\n",
      " 1.631e-04 2.847e-04 2.329e-08 2.757e-07 0.000e+00 7.916e-07 2.314e-01\r\n",
      " 0.000e+00 5.960e+02 2.347e+02     AA   CAAAAAC\r\n",
      " 1.556e-04 2.847e-04 2.335e-08 2.757e-07 0.000e+00 7.916e-07 2.314e-01\r\n",
      " 0.000e+00 5.790e+02 2.339e+02     AA   CAAAAAC\r\n",
      " 1.449e-04 2.847e-04 2.343e-08 2.757e-07 0.000e+00 7.916e-07 2.314e-01\r\n",
      " 0.000e+00 5.497e+02 2.321e+02     AA   CAAAAAC\r\n",
      " 1.230e-04 2.847e-04 2.363e-08 2.757e-07 0.000e+00 7.916e-07 2.314e-01\r\n",
      " 0.000e+00 5.102e+02 2.290e+02     AA   CAAAAAC\r\n",
      " 9.234e-05 2.847e-04 2.403e-08 2.757e-07 0.000e+00 7.916e-07 2.314e-01\r\n",
      " 0.000e+00 4.635e+02 2.247e+02     AA   CAAAAAC\r\n",
      " 6.242e-05 2.847e-04 2.487e-08 2.757e-07 0.000e+00 7.916e-07 2.314e-01\r\n",
      " 0.000e+00 4.125e+02 2.194e+02     AA   CAAAAAC\r\n",
      " 3.797e-05 2.847e-04 2.690e-08 2.757e-07 0.000e+00 7.916e-07 2.314e-01\r\n",
      " 0.000e+00 3.616e+02 2.137e+02     AA   CAAAAAC\r\n",
      " 2.218e-05 2.847e-04 3.184e-08 2.757e-07 0.000e+00 7.916e-07 2.314e-01\r\n",
      " 0.000e+00 3.183e+02 2.085e+02     AA   CAAAAAC\r\n",
      " 1.351e-05 2.847e-04 4.264e-08 2.757e-07 0.000e+00 7.916e-07 2.314e-01\r\n",
      " 0.000e+00 2.815e+02 2.040e+02     AA   CAAAAAC\r\n",
      " 8.483e-06 2.847e-04 6.677e-08 2.757e-07 0.000e+00 7.916e-07 2.314e-01\r\n",
      " 0.000e+00 2.502e+02 2.002e+02     AA   CAAAAAC\r\n",
      " 5.468e-06 2.847e-04 1.174e-07 2.757e-07 0.000e+00 7.916e-07 2.314e-01\r\n",
      " 0.000e+00 2.237e+02 1.974e+02     AA   CAAAAAC\r\n",
      " 3.817e-06 2.847e-04 2.101e-07 2.757e-07 0.000e+00 7.916e-07 2.314e-01\r\n",
      " 0.000e+00 2.011e+02 1.955e+02     AA   CAAAAAC\r\n",
      " 3.016e-06 2.847e-04 3.519e-07 2.757e-07 0.000e+00 7.916e-07 2.314e-01\r\n",
      " 0.000e+00 1.819e+02 1.943e+02     AA   CAAAAAC\r\n",
      " 2.774e-06 2.847e-04 5.350e-07 2.757e-07 0.000e+00 7.916e-07 2.314e-01\r\n",
      " 0.000e+00 1.546e+02 1.937e+02     AA   CAAAAAC\r\n",
      " 2.773e-06 2.847e-04 7.499e-07 2.757e-07 0.000e+00 7.916e-07 2.314e-01\r\n",
      " 0.000e+00 1.314e+02 1.934e+02     AA   CAAAAAC\r\n",
      " 2.476e-06 2.847e-04 1.002e-06 2.757e-07 0.000e+00 7.916e-07 2.314e-01\r\n",
      " 0.000e+00 1.117e+02 1.926e+02     AA   CAAAAAC\r\n",
      " 1.929e-06 2.847e-04 1.305e-06 2.757e-07 0.000e+00 7.916e-07 2.314e-01\r\n",
      " 0.000e+00 9.494e+01 1.910e+02     AA   CAAAAAC\r\n",
      " 1.597e-06 2.847e-04 1.654e-06 2.757e-07 0.000e+00 7.916e-07 2.314e-01\r\n",
      " 0.000e+00 8.070e+01 1.891e+02     AA   CAAAAAC\r\n",
      " 1.498e-06 2.847e-04 2.034e-06 2.757e-07 0.000e+00 7.916e-07 2.314e-01\r\n",
      " 0.000e+00 6.332e+01 1.863e+02     AA   CAAAAAC\r\n",
      " 1.446e-06 2.847e-04 2.447e-06 2.757e-07 0.000e+00 7.916e-07 2.314e-01\r\n",
      " 0.000e+00 4.587e+01 1.831e+02     AA   CAAAAAC\r\n",
      " 1.388e-06 2.847e-04 2.667e-06 2.757e-07 0.000e+00 7.916e-07 2.314e-01\r\n",
      " 0.000e+00 3.067e+01 1.809e+02     AA   CAAAAAC\r\n",
      " 1.399e-06 2.847e-04 2.954e-06 2.757e-07 0.000e+00 7.916e-07 2.314e-01\r\n",
      " 0.000e+00 1.856e+01 1.803e+02     AA   CAAAAAC\r\n",
      " 1.494e-06 2.847e-04 4.624e-06 2.757e-07 0.000e+00 7.916e-07 2.314e-01\r\n",
      " 0.000e+00 1.016e+01 1.828e+02     AA   CAAAAAC\r\n",
      " 1.550e-06 2.847e-04 7.585e-06 2.757e-07 0.000e+00 7.916e-07 2.314e-01\r\n",
      " 0.000e+00 5.032e+00 1.896e+02     AA   CAAAAAC\r\n",
      " 1.557e-06 2.847e-04 9.657e-06 2.757e-07 0.000e+00 7.916e-07 2.314e-01\r\n",
      " 0.000e+00 2.255e+00 1.952e+02     AA   CAAAAAC\r\n",
      " 1.558e-06 2.847e-04 1.062e-05 2.757e-07 0.000e+00 7.916e-07 2.314e-01"
     ]
    }
   ],
   "source": [
    "!cat INPUT_RRTM"
   ]
  },
  {
   "cell_type": "code",
   "execution_count": 18,
   "metadata": {
    "collapsed": false
   },
   "outputs": [
    {
     "ename": "SyntaxError",
     "evalue": "invalid syntax (<ipython-input-18-3b280e15781a>, line 37)",
     "output_type": "error",
     "traceback": [
      "\u001b[1;36m  File \u001b[1;32m\"<ipython-input-18-3b280e15781a>\"\u001b[1;36m, line \u001b[1;32m37\u001b[0m\n\u001b[1;33m    content.append(swin.record_a2_1(nlay=,\u001b[0m\n\u001b[1;37m                                         ^\u001b[0m\n\u001b[1;31mSyntaxError\u001b[0m\u001b[1;31m:\u001b[0m invalid syntax\n"
     ]
    }
   ],
   "source": [
    "def write_sw_inputfiles(ds, \n",
    "                        time=181, lat=-90, lon=0, \n",
    "                        aerosol=False):\n",
    "    \n",
    "    write_input_rrtm(ds, \n",
    "                     time=time, lat=lat, lon=lon, \n",
    "                     aerosol=aerosol)\n",
    "    if aerosol:\n",
    "        write_in_aer_rrtm(ds, time=time, lat=lat, lon=lon)\n",
    "\n",
    "        \n",
    "def write_input_rrtm(ds, \n",
    "                     time=181, lat=-90, lon=0,\n",
    "                     aerosol=False):\n",
    "    if aerosol:\n",
    "        iaer = 10\n",
    "    else:\n",
    "        iaer = 0\n",
    "    \n",
    "    content = collections.deque([])\n",
    "    \n",
    "    content.append(swin.record_1_1(cxid))\n",
    "    content.append(swin.record_1_2(iaer=iaer))\n",
    "    ...\n",
    "    with open('INPUT_RRTM', mode='w', encoding='utf-8') as file:\n",
    "        file.write('\\n'.join(content))\n",
    "        \n",
    "\n",
    "def write_in_aer_rrtm(ds, time=181, lat=-90, lon=0):\n",
    "    \n",
    "    content = collections.deque([])\n",
    "    \n",
    "    # record A1.1\n",
    "    content.append(swin.record_a1_1(naer=1))\n",
    "    \n",
    "    # record A2.1\n",
    "    content.append(swin.record_a2_1(nlay=,\n",
    "                                    iaod=1,\n",
    "                                    issa=1,\n",
    "                                    ipha=1))\n",
    "    \n",
    "    # record A2.1.1 for all layers\n",
    "    for lev in ds.coords['lev']:\n",
    "        lay = lev2lay(lev)\n",
    "        aod = ds['tauxar'].sel(time=time, lat=lat, lon=lon, lev=lev)\n",
    "        content.append(swin.record_a2_1_1(lay=lay, aod=aod))\n",
    "    \n",
    "    # record A2.2\n",
    "    ssa = ds['wa'].sel(time=time, lat=lat, lon=lon).isel(lev=0)\n",
    "    content.append(swin.record_a2_2(ssa=ssa))\n",
    "    \n",
    "    # record A2.3\n",
    "    phase = ds['ga'].sel(time=time, lat=lat, lon=lon).isel(lev=0)\n",
    "    content.append(swin.record_a2_3(phase=phase))\n",
    "    \n",
    "    with open('IN_AER_RRTM', mode='w', encoding='utf-8') as file:\n",
    "        file.write('\\n'.join(content))\n",
    "    \n",
    "    "
   ]
  },
  {
   "cell_type": "code",
   "execution_count": 200,
   "metadata": {
    "collapsed": true
   },
   "outputs": [],
   "source": [
    "def func1(a, b):\n",
    "    return a + b\n",
    "\n",
    "\n",
    "def method1(ds):\n",
    "    ds = ds.copy(deep=True)\n",
    "    ds['C'] = func1(ds['A'], ds['B'])\n",
    "    return ds\n",
    "    \n",
    "\n",
    "def method2(ds):\n",
    "    ds = ds.copy(deep=True)\n",
    "    ds['C'] = xray.DataArray.from_series(\n",
    "        ds.to_dataframe().apply(lambda x: func1(x['A'], x['B']), axis=1))\n",
    "    return ds\n"
   ]
  },
  {
   "cell_type": "code",
   "execution_count": 291,
   "metadata": {
    "collapsed": false
   },
   "outputs": [],
   "source": [
    "nx1, nx2, nx3 = 5, 3, 6\n",
    "\n",
    "ds = xray.Dataset()\n",
    "ds.coords.update({'x1': ('x1', range(nx1)), \n",
    "                  'x2': ('x2', range(nx2)), \n",
    "                  'x3': ('x3', range(nx3))})\n",
    "\n",
    "ds['A'] = (['x1', 'x2', 'x3'], np.arange(nx1*nx2*nx3).reshape((nx1, nx2, nx3)))\n",
    "ds['B'] = (['x1', 'x2', 'x3'], np.arange(nx1*nx2*nx3).reshape((nx1, nx2, nx3)) + 100) \n",
    "\n"
   ]
  },
  {
   "cell_type": "code",
   "execution_count": 290,
   "metadata": {
    "collapsed": false
   },
   "outputs": [],
   "source": [
    "\n",
    "def method1(ds):\n",
    "    \n",
    "    def func(a, b):\n",
    "        a = np.roll(a, 1, axis=2)\n",
    "        b = np.fft.fft(b, axis=2)\n",
    "        return a + b\n",
    "    \n",
    "    ds = ds.copy(deep=True)\n",
    "    ds.update({'C': (['x1', 'x2', 'x3'], func(ds['A'], ds['B']))})\n",
    "    return ds\n",
    "\n",
    "\n",
    "def method2(ds):\n",
    "    ds = ds.copy(deep=True)\n",
    "    df = ds.to_dataframe()\n",
    "    \n",
    "    srsAA = srsA.unstack(2)\\\n",
    "    .apply(lambda x: np.roll(x, 1), axis=1).stack()\n",
    "\n",
    "    srsBB = srsB.unstack(2)\\\n",
    "    .apply(lambda x: np.fft.fft(x), axis=1).stack()\n",
    "\n",
    "    srsC = srsAA + srsBB\n",
    "\n",
    "    df = pd.concat([df['A'], df['B'], srsC], \n",
    "                   axis=1, keys=['A', 'B', 'C'])\n",
    "\n",
    "    ds = xray.Dataset.from_dataframe(df)\n",
    "    return ds\n",
    "  "
   ]
  },
  {
   "cell_type": "code",
   "execution_count": 292,
   "metadata": {
    "collapsed": false
   },
   "outputs": [
    {
     "data": {
      "text/plain": [
       "<xray.Dataset>\n",
       "Dimensions:  (x1: 5, x2: 3, x3: 6)\n",
       "Coordinates:\n",
       "  * x2       (x2) int64 0 1 2\n",
       "  * x1       (x1) int64 0 1 2 3 4\n",
       "  * x3       (x3) int64 0 1 2 3 4 5\n",
       "Data variables:\n",
       "    A        (x1, x2, x3) int64 0 1 2 3 4 5 6 7 8 9 10 11 12 13 14 15 16 17 ...\n",
       "    B        (x1, x2, x3) int64 100 101 102 103 104 105 106 107 108 109 110 ..."
      ]
     },
     "execution_count": 292,
     "metadata": {},
     "output_type": "execute_result"
    }
   ],
   "source": [
    "ds"
   ]
  },
  {
   "cell_type": "code",
   "execution_count": 293,
   "metadata": {
    "collapsed": false
   },
   "outputs": [],
   "source": [
    "ds1 = method1(ds)\n",
    "ds2 = method2(ds)"
   ]
  },
  {
   "cell_type": "code",
   "execution_count": 294,
   "metadata": {
    "collapsed": false
   },
   "outputs": [
    {
     "data": {
      "text/plain": [
       "<xray.Dataset>\n",
       "Dimensions:  (x1: 5, x2: 3, x3: 6)\n",
       "Coordinates:\n",
       "  * x2       (x2) int64 0 1 2\n",
       "  * x1       (x1) int64 0 1 2 3 4\n",
       "  * x3       (x3) int64 0 1 2 3 4 5\n",
       "Data variables:\n",
       "    A        (x1, x2, x3) int64 0 1 2 3 4 5 6 7 8 9 10 11 12 13 14 15 16 17 ...\n",
       "    B        (x1, x2, x3) int64 100 101 102 103 104 105 106 107 108 109 110 ...\n",
       "    C        (x1, x2, x3) complex128 (620+0j) (-3+5.19615242271j) ..."
      ]
     },
     "execution_count": 294,
     "metadata": {},
     "output_type": "execute_result"
    }
   ],
   "source": [
    "ds1"
   ]
  },
  {
   "cell_type": "code",
   "execution_count": 295,
   "metadata": {
    "collapsed": false
   },
   "outputs": [
    {
     "data": {
      "text/plain": [
       "<xray.Dataset>\n",
       "Dimensions:  (x1: 5, x2: 3, x3: 6)\n",
       "Coordinates:\n",
       "  * x1       (x1) int64 0 1 2 3 4\n",
       "  * x2       (x2) int64 0 1 2\n",
       "  * x3       (x3) int64 0 1 2 3 4 5\n",
       "Data variables:\n",
       "    A        (x1, x2, x3) int64 0 1 2 3 4 5 6 7 8 9 10 11 12 13 14 15 16 17 ...\n",
       "    B        (x1, x2, x3) int64 100 101 102 103 104 105 106 107 108 109 110 ...\n",
       "    C        (x1, x2, x3) complex128 (620+0j) (-3+5.19615242271j) ..."
      ]
     },
     "execution_count": 295,
     "metadata": {},
     "output_type": "execute_result"
    }
   ],
   "source": [
    "ds2"
   ]
  },
  {
   "cell_type": "code",
   "execution_count": 296,
   "metadata": {
    "collapsed": false
   },
   "outputs": [
    {
     "data": {
      "text/plain": [
       "True"
      ]
     },
     "execution_count": 296,
     "metadata": {},
     "output_type": "execute_result"
    }
   ],
   "source": [
    "all(ds1 == ds2)"
   ]
  },
  {
   "cell_type": "code",
   "execution_count": 300,
   "metadata": {
    "collapsed": false
   },
   "outputs": [
    {
     "name": "stdout",
     "output_type": "stream",
     "text": [
      "1000 loops, best of 3: 1.4 ms per loop\n"
     ]
    }
   ],
   "source": [
    "%timeit method1(ds)"
   ]
  },
  {
   "cell_type": "code",
   "execution_count": 299,
   "metadata": {
    "collapsed": false
   },
   "outputs": [
    {
     "name": "stdout",
     "output_type": "stream",
     "text": [
      "10 loops, best of 3: 20.1 ms per loop\n"
     ]
    }
   ],
   "source": [
    "%timeit method2(ds)"
   ]
  },
  {
   "cell_type": "markdown",
   "metadata": {},
   "source": [
    "### Modal_aero_wateruptake()"
   ]
  },
  {
   "cell_type": "code",
   "execution_count": null,
   "metadata": {
    "collapsed": true
   },
   "outputs": [],
   "source": []
  }
 ],
 "metadata": {
  "kernelspec": {
   "display_name": "Python 3",
   "language": "python",
   "name": "python3"
  },
  "language_info": {
   "codemirror_mode": {
    "name": "ipython",
    "version": 3
   },
   "file_extension": ".py",
   "mimetype": "text/x-python",
   "name": "python",
   "nbconvert_exporter": "python",
   "pygments_lexer": "ipython3",
   "version": "3.4.4"
  }
 },
 "nbformat": 4,
 "nbformat_minor": 0
}
