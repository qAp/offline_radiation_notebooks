{
 "cells": [
  {
   "cell_type": "code",
   "execution_count": 150,
   "metadata": {
    "collapsed": false
   },
   "outputs": [
    {
     "data": {
      "text/plain": [
       "<module 'climatools.units' from '/nuwa_cluster/home/jackyu/climatools/climatools/units.py'>"
      ]
     },
     "execution_count": 150,
     "metadata": {},
     "output_type": "execute_result"
    }
   ],
   "source": [
    "%matplotlib inline\n",
    "\n",
    "import os\n",
    "import sys\n",
    "import random\n",
    "import imp\n",
    "\n",
    "from IPython import display\n",
    "\n",
    "\n",
    "import numpy as np\n",
    "import pandas as pd\n",
    "import xarray as xr\n",
    "\n",
    "\n",
    "import climatools.aerosol.aerosol as climaaerosol\n",
    "import climatools.io.cesm as climaio\n",
    "import climatools.aerosol.aerosol_constants as aeroconst\n",
    "import climatools.rrtmg.column_model as rrtmg_column\n",
    "import climatools.units as climaunits\n",
    "\n",
    "\n",
    "imp.reload(climaaerosol)\n",
    "imp.reload(climaio)\n",
    "imp.reload(aeroconst)\n",
    "imp.reload(rrtmg_column)\n",
    "imp.reload(climaunits)"
   ]
  },
  {
   "cell_type": "markdown",
   "metadata": {},
   "source": [
    "### General workflow"
   ]
  },
  {
   "cell_type": "code",
   "execution_count": 131,
   "metadata": {
    "collapsed": true
   },
   "outputs": [],
   "source": [
    "## where are the CAM history files\n",
    "dir_camhist = '/scratch/lupin/cesm1/archive/f19_g16.B1850.std/atm/hist'"
   ]
  },
  {
   "cell_type": "code",
   "execution_count": 132,
   "metadata": {
    "collapsed": false
   },
   "outputs": [],
   "source": [
    "## Prep o3 concentration data\n",
    "\n",
    "ds_o3 = climaaerosol.OZONE_DATASET\n",
    "da_o3 = ds_o3['O3']\n",
    "\n",
    "# interpolate o3 concentration along lev\n",
    "levinterpfunc_da_o3 = climaaerosol.get_interpfunc(da_o3, dim='lev')\n",
    "\n",
    "# evaluate o3 concentration at the 30 levs of CAM history\n",
    "filepath_camhist = os.path.join(dir_camhist,\n",
    "                                random.choice(os.listdir(dir_camhist)))\n",
    "ds_camhist = xr.open_dataset(filepath_camhist, decode_cf=False)\n",
    "\n",
    "da_o3_levinterp = levinterpfunc_da_o3(coords=ds_camhist.coords['lev'])\n",
    "\n",
    "\n",
    "# interpolate o3 concentration along time\n",
    "timeinterpfunc_o3 = climaaerosol.get_interpfunc(da_o3_levinterp,\n",
    "                                                dim='time')"
   ]
  },
  {
   "cell_type": "code",
   "execution_count": 133,
   "metadata": {
    "collapsed": false
   },
   "outputs": [
    {
     "name": "stdout",
     "output_type": "stream",
     "text": [
      "load a CAM history file from some previous global run\n",
      "convert hybrid levels/layers to pressure levels/layers\n",
      "get ozone concentration for the time in this CAM history file\n",
      "get o2 concentration\n",
      "interpolate layer values to levels for: T, Q and O3\n"
     ]
    }
   ],
   "source": [
    "# use this cell if IATM = 1 (i.e using RRTATM) but currently this raises an error, need to \n",
    "# provide altitude and pressure very carefully\n",
    "\n",
    "\n",
    "aerosol = False\n",
    "\n",
    "print(\"load a CAM history file from some previous global run\")\n",
    "ds = climaio.load_camhistory(readfrom='f19_g16.B1850.std.cam2.h0.0001-06.nc')\n",
    "\n",
    "print(\"convert hybrid levels/layers to pressure levels/layers\")\n",
    "ds = climaunits.hybrid2mbar(ds)\n",
    "\n",
    "print(\"get ozone concentration for the time in this CAM history file\")\n",
    "ds = climaaerosol.get_o3_concentration(ds, interpfunc=timeinterpfunc_o3)\n",
    "\n",
    "print(\"get o2 concentration\")\n",
    "ds = climaaerosol.get_o2_concentration(ds)\n",
    "\n",
    "print(\"interpolate layer values to levels for: T, Q and O3\")\n",
    "ds = climaaerosol.interp_layers2levels(ds, vars=['T', 'Q', 'O3', 'Z3'])\n",
    "\n",
    "if aerosol:\n",
    "    print('You asked for aerosol. You got it.')\n",
    "    # gather aerosol species mmr into a new variable in the dataset\n",
    "    ds = climaaerosol.aerosol_species_mmr(ds)\n",
    "\n",
    "    # aerosol water uptake. computes qaerwat, dgncur_awet, wetdens. add to ds\n",
    "    ds = climaaerosol.wateruptake(ds)\n",
    "    \n",
    "    # get pressure difference for layer mass\n",
    "    ds = climaaerosol.get_pressure_difference(ds)\n",
    "\n",
    "    # compute and add to ds modal aerosol optical properties \n",
    "    ds = climaaerosol.modal_aero_sw(ds)\n",
    "\n",
    "stackdims = ('time', 'lat', 'lon')\n",
    "\n",
    "\n",
    "#for time, lat, lon in cols.values[:1]:\n",
    "#    print(\"Working on column at time {}, lat {}, lon {}\".format(time, lat, lon))\n",
    "#    print(\"write input tapes for RRTMG column model\")\n",
    "#    rrtmg_column.write_sw_inputfiles(ds,\n",
    "#                                     time=time, lat=lat, lon=lon,\n",
    "#                                     aerosol=aerosol)\n",
    "\n",
    "#    print(\"execute RRTMG\")\n",
    "#    assert os.system('./rrtmg.exe') == 0\n",
    "\n",
    "#    print(\"this dataset contains things like flux down, up and heating rates\")\n",
    "#    ds_rrtmg_col = climarrtmg.load_OUTPUT_RRTM(readfrom='OUTPUT_RRTM', \n",
    "#                                               signed_fluxes=True)\n",
    "#    ds_rrtmg.loc[dict(time=time, lat=lat, lon=lon)] = ds_rrtmg_col\n",
    "\n",
    "#    print(\"write RRTMG output to netCDF file\")\n",
    "#    ds_rrtmg.to_netcdf('RRTMG_f19_g16.B1850.std.cam2.h0.0001-06.nc')\n",
    "    \n",
    "#    print()\n",
    "\n",
    "\n"
   ]
  },
  {
   "cell_type": "code",
   "execution_count": 152,
   "metadata": {
    "collapsed": false,
    "scrolled": true
   },
   "outputs": [],
   "source": [
    "# select a single (time, lat, lon)\n",
    "ds_col = ds.sel(time=0, lat=90, lon=0, method='nearest')"
   ]
  },
  {
   "cell_type": "code",
   "execution_count": 153,
   "metadata": {
    "collapsed": false
   },
   "outputs": [],
   "source": [
    "# keep only the needed data variables to begin with\n",
    "ds_col = ds_col[['ilev', 'lev',\n",
    "                 'level_pressure', 'layer_pressure', 'PS',\n",
    "                 'iZ3', 'Z3',\n",
    "                 'iT', 'T',\n",
    "                 'iQ', 'Q', \n",
    "                 'co2vmr', \n",
    "                 'iO3', 'O3', \n",
    "                 'n2ovmr', 'ch4vmr', 'o2mmr']]"
   ]
  },
  {
   "cell_type": "code",
   "execution_count": 154,
   "metadata": {
    "collapsed": false
   },
   "outputs": [],
   "source": [
    "ds_col = ds_col.rename({'T': 'layer_temperature',\n",
    "                        'iT': 'level_temperature'})"
   ]
  },
  {
   "cell_type": "code",
   "execution_count": 155,
   "metadata": {
    "collapsed": false
   },
   "outputs": [],
   "source": [
    "ds_col = ds_col.rename({'Z3': 'layer_altitude',\n",
    "                        'iZ3': 'level_altitude'})"
   ]
  },
  {
   "cell_type": "code",
   "execution_count": 156,
   "metadata": {
    "collapsed": false
   },
   "outputs": [],
   "source": [
    "# H2O: rename iQ level_mmr_h2o\n",
    "ds_col = ds_col.rename({'iQ': 'level_mmr_h2o'})"
   ]
  },
  {
   "cell_type": "code",
   "execution_count": 157,
   "metadata": {
    "collapsed": true
   },
   "outputs": [],
   "source": [
    "# CO2: broadcast co2vmr to all levels and name it level_vmr_co2\n",
    "level_vmr_co2 = (ds_col['co2vmr'].values \n",
    "                 * np.ones((ds_col.dims['ilev'])))\n",
    "ds_col['level_vmr_co2'] = (('ilev',),\n",
    "                           level_vmr_co2,\n",
    "                           {'units': 'l/l',\n",
    "                            'long_name': \n",
    "                            'co2 mixing ratio by volume'})"
   ]
  },
  {
   "cell_type": "code",
   "execution_count": 158,
   "metadata": {
    "collapsed": false
   },
   "outputs": [],
   "source": [
    "# O3: rename iO3 to level_vmr_o3\n",
    "level_vmr_o3 = (ds_col['iO3'].values \n",
    "                * np.ones((ds_col.dims['ilev'])))\n",
    "ds_col['level_vmr_o3'] = (('ilev', ),\n",
    "                          level_vmr_o3,\n",
    "                          {'units': 'l/l',\n",
    "                           'long_name':\n",
    "                           'o3 mixing ratio by volume'})"
   ]
  },
  {
   "cell_type": "code",
   "execution_count": 159,
   "metadata": {
    "collapsed": false
   },
   "outputs": [],
   "source": [
    "# N2O: broadcast n2ovmr to levels and name it level_vmr_n2o\n",
    "level_vmr_n2o = (ds_col['n2ovmr'].values \n",
    "                 * np.ones((ds_col.dims['ilev'])))\n",
    "ds_col['level_vmr_n2o'] = (('ilev',),\n",
    "                           level_vmr_n2o,\n",
    "                           {'units': 'l/l',\n",
    "                            'long_name': \n",
    "                            'n2o mixing ratio by volume'})\n"
   ]
  },
  {
   "cell_type": "code",
   "execution_count": 160,
   "metadata": {
    "collapsed": true
   },
   "outputs": [],
   "source": [
    "# CO: set to zero at all levels\n",
    "ds_col['level_vmr_co'] = (('ilev', ),\n",
    "                          np.zeros((ds_col.dims['ilev'])),\n",
    "                          {'units': 'l/l', \n",
    "                           'long_name':\n",
    "                           'co mixing ratio by volume'})"
   ]
  },
  {
   "cell_type": "code",
   "execution_count": 161,
   "metadata": {
    "collapsed": false
   },
   "outputs": [],
   "source": [
    "# CH4: broadcast ch4vmr to all levels and name it level_vmr_ch4\n",
    "level_vmr_ch4 = (ds_col['ch4vmr'].values \n",
    "                 * np.ones((ds_col.dims['ilev'])))\n",
    "ds_col['level_vmr_ch4'] = (('ilev',),\n",
    "                           level_vmr_ch4,\n",
    "                           {'units': 'l/l',\n",
    "                            'long_name':\n",
    "                            'ch4 mixing ratio by volume'})"
   ]
  },
  {
   "cell_type": "code",
   "execution_count": 162,
   "metadata": {
    "collapsed": false
   },
   "outputs": [],
   "source": [
    "# O2: broadcast o2mmr to all levels and name level_mmr_o2\n",
    "level_mmr_o2 = (ds_col['o2mmr'].values\n",
    "                * np.ones((ds_col.dims['ilev'])))\n",
    "ds_col['level_mmr_o2'] = (('ilev',),\n",
    "                          level_mmr_o2,\n",
    "                          {'units': 'l/l',\n",
    "                           'long_name': \n",
    "                           'o2 mixing ratio by mass'})"
   ]
  },
  {
   "cell_type": "code",
   "execution_count": 163,
   "metadata": {
    "collapsed": true
   },
   "outputs": [],
   "source": [
    "ds_col['juldat'] = ((), 0., \n",
    "                    {'long_name':\n",
    "                     'Julian day associated with calculation',\n",
    "                     'units': 'days'})\n",
    "\n",
    "ds_col['sza'] = ((), 60,\n",
    "                 {'long_name':\n",
    "                  'solar zenith angle in degrees',\n",
    "                  'units': 'degrees'})"
   ]
  },
  {
   "cell_type": "code",
   "execution_count": 164,
   "metadata": {
    "collapsed": false
   },
   "outputs": [],
   "source": [
    "ds_col = ds_col.drop(['Q', 'co2vmr', 'O3', \n",
    "                      'n2ovmr', 'ch4vmr', 'o2mmr'])"
   ]
  },
  {
   "cell_type": "code",
   "execution_count": 165,
   "metadata": {
    "collapsed": false
   },
   "outputs": [],
   "source": [
    "rrtmg_column.write_input_rrtm(ds=ds_col, aerosol=False, iatm=1)"
   ]
  },
  {
   "cell_type": "code",
   "execution_count": 151,
   "metadata": {
    "collapsed": false
   },
   "outputs": [
    {
     "data": {
      "text/html": [
       "<script>\n",
       "code_show=true; \n",
       "function code_toggle() {\n",
       " if (code_show){\n",
       " $('div.input').hide();\n",
       " } else {\n",
       " $('div.input').show();\n",
       " }\n",
       " code_show = !code_show\n",
       "} \n",
       "$( document ).ready(code_toggle);\n",
       "</script>\n",
       "<form action=\"javascript:code_toggle()\"><input type=\"submit\" value=\"Click here to toggle on/off the raw code.\"></form>"
      ],
      "text/plain": [
       "<IPython.core.display.HTML object>"
      ]
     },
     "execution_count": 151,
     "metadata": {},
     "output_type": "execute_result"
    }
   ],
   "source": [
    "display.HTML('''<script>\n",
    "code_show=true; \n",
    "function code_toggle() {\n",
    " if (code_show){\n",
    " $('div.input').hide();\n",
    " } else {\n",
    " $('div.input').show();\n",
    " }\n",
    " code_show = !code_show\n",
    "} \n",
    "$( document ).ready(code_toggle);\n",
    "</script>\n",
    "<form action=\"javascript:code_toggle()\"><input type=\"submit\" value=\"Click here to toggle on/off the raw code.\"></form>''')"
   ]
  },
  {
   "cell_type": "code",
   "execution_count": null,
   "metadata": {
    "collapsed": true
   },
   "outputs": [],
   "source": []
  },
  {
   "cell_type": "code",
   "execution_count": null,
   "metadata": {
    "collapsed": true
   },
   "outputs": [],
   "source": []
  }
 ],
 "metadata": {
  "kernelspec": {
   "display_name": "Python 3",
   "language": "python",
   "name": "python3"
  },
  "language_info": {
   "codemirror_mode": {
    "name": "ipython",
    "version": 3
   },
   "file_extension": ".py",
   "mimetype": "text/x-python",
   "name": "python",
   "nbconvert_exporter": "python",
   "pygments_lexer": "ipython3",
   "version": "3.4.4"
  }
 },
 "nbformat": 4,
 "nbformat_minor": 0
}
