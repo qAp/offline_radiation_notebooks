{
 "cells": [
  {
   "cell_type": "markdown",
   "metadata": {},
   "source": [
    "## Test RRTMG column model with IATM=0 option\n",
    "\n",
    "The IATM=0 option requires a different INPUT_RRTM format to IATM=1.  In this notebook, this option is tested by comparing the results with previous IATM=1 results.  On the way, useful routines will be stored in the `climatools` library."
   ]
  },
  {
   "cell_type": "code",
   "execution_count": 310,
   "metadata": {
    "collapsed": false
   },
   "outputs": [
    {
     "data": {
      "text/plain": [
       "<module 'climatools.aerosol.aerosol' from '/nuwa_cluster/home/jackyu/climatools/climatools/aerosol/aerosol.py'>"
      ]
     },
     "execution_count": 310,
     "metadata": {},
     "output_type": "execute_result"
    }
   ],
   "source": [
    "%matplotlib inline\n",
    "import os\n",
    "import imp\n",
    "\n",
    "import numpy as np\n",
    "import pandas as pd\n",
    "import xarray as xr\n",
    "\n",
    "import climatools.rrtmg.column_model as rrtmg\n",
    "import climatools.units as climaunits\n",
    "import climatools.aerosol.aerosol as climaaerosol\n",
    "\n",
    "imp.reload(rrtmg)\n",
    "imp.reload(climaunits)\n",
    "imp.reload(climaaerosol)"
   ]
  },
  {
   "cell_type": "code",
   "execution_count": 311,
   "metadata": {
    "collapsed": true
   },
   "outputs": [],
   "source": [
    "# constants\n",
    "\n",
    "AMD = 28.9660\n",
    "AMW = 18.0160\n",
    "AVOGAD = 6.02214199e23\n",
    "\n",
    "GRAV = 9.8066"
   ]
  },
  {
   "cell_type": "code",
   "execution_count": 312,
   "metadata": {
    "collapsed": true
   },
   "outputs": [],
   "source": [
    "def column_density_dryair(h2o=None, pdp=None):\n",
    "    '''\n",
    "    Parameters\n",
    "    ----------\n",
    "    h2o: H2o volume mixing ratio\n",
    "    pdp: layer pressure difference [hPa, mb]\n",
    "    coldry: dry air column density [molecules/cm**2]\n",
    "    '''\n",
    "    dims = ('time', 'lat', 'lon', '')\n",
    "    amm = (1 - h2o) * AMD + h2o * AMW\n",
    "    coldry = pdp * 1e3 * AVOGAD / (1e2 * GRAV * amm * (1 + h2o))\n",
    "    return coldry    "
   ]
  },
  {
   "cell_type": "code",
   "execution_count": 313,
   "metadata": {
    "collapsed": true
   },
   "outputs": [],
   "source": [
    "dir_examples = '/nuwa_cluster/home/jackyu/radiation/rrtmg/SW/examples'\n",
    "dir_atm1 = 'mls_71lvls_H2O'\n",
    "dir_atm0 = 'mls_71lvls_H2O_iatm0'\n",
    "file_atmproh5 = 'atmpro_mls70.h5'"
   ]
  },
  {
   "cell_type": "code",
   "execution_count": 314,
   "metadata": {
    "collapsed": false
   },
   "outputs": [
    {
     "data": {
      "text/plain": [
       "['rrtmg_sw.py',\n",
       " 'atmpro_mls70.h5',\n",
       " 'rrtmg_sw.py~',\n",
       " 'INPUT_RRTM',\n",
       " 'rrtmg_sw_v3.9_linux_pgi',\n",
       " 'OUTPUT_RRTM',\n",
       " 'tape6']"
      ]
     },
     "execution_count": 314,
     "metadata": {},
     "output_type": "execute_result"
    }
   ],
   "source": [
    "os.listdir(os.path.join(dir_examples, dir_atm1))"
   ]
  },
  {
   "cell_type": "code",
   "execution_count": 315,
   "metadata": {
    "collapsed": false
   },
   "outputs": [
    {
     "data": {
      "text/html": [
       "<div>\n",
       "<table border=\"1\" class=\"dataframe\">\n",
       "  <thead>\n",
       "    <tr style=\"text-align: right;\">\n",
       "      <th></th>\n",
       "      <th>altitude</th>\n",
       "      <th>pressure</th>\n",
       "      <th>temperature</th>\n",
       "      <th>H2O</th>\n",
       "      <th>CO2</th>\n",
       "      <th>O3</th>\n",
       "      <th>N2O</th>\n",
       "      <th>CO</th>\n",
       "      <th>CH4</th>\n",
       "      <th>O2</th>\n",
       "    </tr>\n",
       "    <tr>\n",
       "      <th>ilev</th>\n",
       "      <th></th>\n",
       "      <th></th>\n",
       "      <th></th>\n",
       "      <th></th>\n",
       "      <th></th>\n",
       "      <th></th>\n",
       "      <th></th>\n",
       "      <th></th>\n",
       "      <th></th>\n",
       "      <th></th>\n",
       "    </tr>\n",
       "  </thead>\n",
       "  <tbody>\n",
       "    <tr>\n",
       "      <th>0</th>\n",
       "      <td>89.60800</td>\n",
       "      <td>0.00242</td>\n",
       "      <td>212.06955</td>\n",
       "      <td>6.4321</td>\n",
       "      <td>0</td>\n",
       "      <td>0</td>\n",
       "      <td>0</td>\n",
       "      <td>0</td>\n",
       "      <td>0</td>\n",
       "      <td>0</td>\n",
       "    </tr>\n",
       "    <tr>\n",
       "      <th>1</th>\n",
       "      <td>87.50455</td>\n",
       "      <td>0.00339</td>\n",
       "      <td>212.61195</td>\n",
       "      <td>6.4321</td>\n",
       "      <td>0</td>\n",
       "      <td>0</td>\n",
       "      <td>0</td>\n",
       "      <td>0</td>\n",
       "      <td>0</td>\n",
       "      <td>0</td>\n",
       "    </tr>\n",
       "    <tr>\n",
       "      <th>2</th>\n",
       "      <td>85.39563</td>\n",
       "      <td>0.00476</td>\n",
       "      <td>213.15535</td>\n",
       "      <td>6.4321</td>\n",
       "      <td>0</td>\n",
       "      <td>0</td>\n",
       "      <td>0</td>\n",
       "      <td>0</td>\n",
       "      <td>0</td>\n",
       "      <td>0</td>\n",
       "    </tr>\n",
       "    <tr>\n",
       "      <th>3</th>\n",
       "      <td>83.28138</td>\n",
       "      <td>0.00667</td>\n",
       "      <td>213.69980</td>\n",
       "      <td>6.4321</td>\n",
       "      <td>0</td>\n",
       "      <td>0</td>\n",
       "      <td>0</td>\n",
       "      <td>0</td>\n",
       "      <td>0</td>\n",
       "      <td>0</td>\n",
       "    </tr>\n",
       "    <tr>\n",
       "      <th>4</th>\n",
       "      <td>81.16173</td>\n",
       "      <td>0.00936</td>\n",
       "      <td>214.24530</td>\n",
       "      <td>6.4321</td>\n",
       "      <td>0</td>\n",
       "      <td>0</td>\n",
       "      <td>0</td>\n",
       "      <td>0</td>\n",
       "      <td>0</td>\n",
       "      <td>0</td>\n",
       "    </tr>\n",
       "  </tbody>\n",
       "</table>\n",
       "</div>"
      ],
      "text/plain": [
       "      altitude  pressure  temperature     H2O  CO2  O3  N2O  CO  CH4  O2\n",
       "ilev                                                                    \n",
       "0     89.60800   0.00242    212.06955  6.4321    0   0    0   0    0   0\n",
       "1     87.50455   0.00339    212.61195  6.4321    0   0    0   0    0   0\n",
       "2     85.39563   0.00476    213.15535  6.4321    0   0    0   0    0   0\n",
       "3     83.28138   0.00667    213.69980  6.4321    0   0    0   0    0   0\n",
       "4     81.16173   0.00936    214.24530  6.4321    0   0    0   0    0   0"
      ]
     },
     "execution_count": 315,
     "metadata": {},
     "output_type": "execute_result"
    }
   ],
   "source": [
    "store = pd.HDFStore(os.path.join(dir_examples, dir_atm1, file_atmproh5))\n",
    "df_atmpro = store['atmpro']\n",
    "store.close()\n",
    "\n",
    "df_atmpro = df_atmpro.reset_index().drop('index', axis=1)\n",
    "df_atmpro.index.names = ['ilev']\n",
    "df_atmpro.head()"
   ]
  },
  {
   "cell_type": "code",
   "execution_count": 316,
   "metadata": {
    "collapsed": false
   },
   "outputs": [],
   "source": [
    "# convert pandas.DataFrame to xarray.Dataset\n",
    "ds = xr.Dataset.from_dataframe(df_atmpro)    "
   ]
  },
  {
   "cell_type": "code",
   "execution_count": 317,
   "metadata": {
    "collapsed": false
   },
   "outputs": [],
   "source": [
    "# rename the data arrays\n",
    "ds = ds.rename({'pressure': 'level_pressure',\n",
    "                'altitude': 'level_altitude',\n",
    "                'temperature': 'level_temperature',\n",
    "                'H2O': 'level_ppmv_h2o',\n",
    "                'CO2': 'level_ppmv_co2',\n",
    "                'O3': 'level_ppmv_o3',\n",
    "                'N2O': 'level_ppmv_n2o',\n",
    "                'CO': 'level_ppmv_co',\n",
    "                'CH4': 'level_ppmv_ch4',\n",
    "                'O2': 'level_ppmv_o2'})"
   ]
  },
  {
   "cell_type": "code",
   "execution_count": 318,
   "metadata": {
    "collapsed": false,
    "scrolled": false
   },
   "outputs": [],
   "source": [
    "# compute layer values for all variables\n",
    "for name in ds.data_vars:\n",
    "    layer_data = .5 * (ds[name][:-1].values + ds[name][1:].values)\n",
    "    ds[name.replace('level', 'layer')] = (('lev',), layer_data)"
   ]
  },
  {
   "cell_type": "code",
   "execution_count": 319,
   "metadata": {
    "collapsed": false
   },
   "outputs": [],
   "source": [
    "# increase layer and level index numbers by 1\n",
    "ds.coords['lev'] = range(1, ds.dims['lev'] + 1)\n",
    "ds.coords['ilev'] = range(1, ds.dims['ilev'] + 1)"
   ]
  },
  {
   "cell_type": "code",
   "execution_count": 320,
   "metadata": {
    "collapsed": false
   },
   "outputs": [],
   "source": [
    "# reindex layer and level with an additional index number\n",
    "ds = ds.reindex(lev=range(ds.dims['lev'] + 1))\n",
    "ds = ds.reindex(ilev=range(ds.dims['ilev'] + 1))"
   ]
  },
  {
   "cell_type": "code",
   "execution_count": 321,
   "metadata": {
    "collapsed": false
   },
   "outputs": [],
   "source": [
    "# assign top layer and leve pressures\n",
    "ds['layer_pressure'][dict(lev=0)] = (.5 * ds['level_pressure']\n",
    "                                     .isel(ilev=1))\n",
    "ds['level_pressure'][dict(ilev=0)] = 1e-4"
   ]
  },
  {
   "cell_type": "code",
   "execution_count": 322,
   "metadata": {
    "collapsed": false
   },
   "outputs": [],
   "source": [
    "# assign top layer and level temperatures\n",
    "ds['layer_temperature'][dict(lev=0)] = (ds['layer_temperature']\n",
    "                                        [dict(lev=1)])\n",
    "ds['level_temperature'][dict(ilev=1)] = (.5 * \n",
    "                                         sum(ds['layer_temperature']\n",
    "                                             [dict(lev=[0, 1])]))\n",
    "ds['level_temperature'][dict(ilev=0)] = (ds['level_temperature']\n",
    "                                         [dict(ilev=1)])"
   ]
  },
  {
   "cell_type": "code",
   "execution_count": 323,
   "metadata": {
    "collapsed": false
   },
   "outputs": [],
   "source": [
    "# assign top layer molecule densities\n",
    "names_molecules = ['h2o', 'co2', 'o3', 'n2o', 'co', 'ch4', 'o2']\n",
    "for molecule in names_molecules:\n",
    "    name_var = 'layer_ppmv_' + molecule\n",
    "    ds[name_var][dict(lev=0)] = ds[name_var][dict(lev=1)]"
   ]
  },
  {
   "cell_type": "code",
   "execution_count": 324,
   "metadata": {
    "collapsed": false
   },
   "outputs": [],
   "source": [
    "# set layer and lever pressure as coordinate variables\n",
    "ds = ds.set_coords(['layer_pressure', 'level_pressure'])"
   ]
  },
  {
   "cell_type": "code",
   "execution_count": 325,
   "metadata": {
    "collapsed": false
   },
   "outputs": [],
   "source": [
    "# compute layer pressure difference\n",
    "ds = climaaerosol.get_pressure_difference(ds)"
   ]
  },
  {
   "cell_type": "code",
   "execution_count": 326,
   "metadata": {
    "collapsed": true
   },
   "outputs": [],
   "source": [
    "# convert molecules densities from ppmv to vmr\n",
    "names_molecules = ['h2o', 'co2', 'o3', 'n2o', 'co', 'ch4', 'o2']\n",
    "for molecule in names_molecules:\n",
    "    name_ppmv = 'layer_ppmv_' + molecule\n",
    "    name_vmr = name_ppmv.replace('ppmv', 'vmr')\n",
    "    ds[name_vmr] = 1e-6 * ds[name_ppmv]\n"
   ]
  },
  {
   "cell_type": "code",
   "execution_count": 327,
   "metadata": {
    "collapsed": false
   },
   "outputs": [],
   "source": [
    "# drop data variables for molecule densities in ppmv\n",
    "ds = ds.drop([name for name in ds.data_vars if '_ppmv_' in name])"
   ]
  },
  {
   "cell_type": "code",
   "execution_count": 328,
   "metadata": {
    "collapsed": false
   },
   "outputs": [],
   "source": [
    "# calculate column density of dry air \n",
    "coldens_dryair = column_density_dryair(h2o=ds['layer_vmr_h2o'],\n",
    "                                       pdp=ds['dpressure'])\n",
    "ds['layer_coldens_dryair'] = (('lev',), coldens_dryair)\n",
    "\n",
    "h2o_lev1 = ds['layer_vmr_h2o'][dict(lev=1)]\n",
    "amm = (1 - h2o_lev1) * AMD + h2o_lev1 * AMW\n",
    "ds['layer_coldens_dryair'][dict(lev=0)] = (ds['level_pressure'][dict(ilev=1)] \n",
    "                                           * 1e3 * AVOGAD / \n",
    "                                           (1e2 * GRAV * amm * (1 + h2o_lev1)))"
   ]
  },
  {
   "cell_type": "code",
   "execution_count": 329,
   "metadata": {
    "collapsed": false
   },
   "outputs": [],
   "source": [
    "# convert molecule densities from vmr to column density\n",
    "names_molecules = ['h2o', 'co2', 'o3', 'n2o', 'co', 'ch4', 'o2']\n",
    "for name in names_molecules:\n",
    "    ds['layer_coldens_' + name] = (ds['layer_vmr_' + name] \n",
    "                                   * ds['layer_coldens_dryair'])"
   ]
  },
  {
   "cell_type": "code",
   "execution_count": 330,
   "metadata": {
    "collapsed": false
   },
   "outputs": [],
   "source": [
    "# drop data variables for molecule densities in vmr\n",
    "ds = ds.drop([name for name in ds.data_vars if '_vmr_' in name])"
   ]
  },
  {
   "cell_type": "code",
   "execution_count": 331,
   "metadata": {
    "collapsed": false
   },
   "outputs": [],
   "source": [
    "ds['juldat'] = ((), 0., {'long_name': 'Julian day associated with calculation', \n",
    "                         'units': 'days'})\n",
    "\n",
    "ds['sza'] = ((), 60, {'long_name': 'solar zenith angle in degrees',\n",
    "                      'units': 'degrees'})"
   ]
  },
  {
   "cell_type": "code",
   "execution_count": 332,
   "metadata": {
    "collapsed": false
   },
   "outputs": [
    {
     "data": {
      "text/plain": [
       "<xarray.DataArray 'layer_coldens_h2o' (lev: 71)>\n",
       "array([  3.29997325e+14,   1.32271655e+14,   1.86816668e+14,\n",
       "         2.60452434e+14,   3.66815209e+14,   5.14086742e+14,\n",
       "         7.19994164e+14,   1.01180998e+15,   1.41817032e+15,\n",
       "         1.98952933e+15,   2.79134101e+15,   3.91496827e+15,\n",
       "         5.49131913e+15,   7.70311938e+15,   1.08053670e+16,\n",
       "         1.51498772e+16,   2.12725549e+16,   2.98088493e+16,\n",
       "         4.18360245e+16,   5.86767971e+16,   8.23084238e+16,\n",
       "         1.15444519e+17,   1.61944142e+17,   2.27166341e+17,\n",
       "         3.18638326e+17,   4.46969104e+17,   6.26954009e+17,\n",
       "         8.79442872e+17,   1.23360364e+18,   1.73038597e+18,\n",
       "         2.42723942e+18,   3.24201918e+18,   3.24201918e+18,\n",
       "         3.24262402e+18,   3.27767968e+18,   3.79698699e+18,\n",
       "         6.88564962e+18,   1.60044486e+19,   3.46537505e+19,\n",
       "         6.70369938e+19,   1.11168292e+20,   1.58058625e+20,\n",
       "         2.06482594e+20,   2.61970464e+20,   3.27211261e+20,\n",
       "         4.03086508e+20,   4.87528681e+20,   5.76538582e+20,\n",
       "         6.71479410e+20,   7.77063356e+20,   8.95746471e+20,\n",
       "         1.02884960e+21,   1.19414951e+21,   1.41431092e+21,\n",
       "         1.68116333e+21,   1.97828850e+21,   2.30258800e+21,\n",
       "         2.65299549e+21,   3.02866826e+21,   3.42851202e+21,\n",
       "         3.85063347e+21,   4.29316819e+21,   4.75425661e+21,\n",
       "         5.23147255e+21,   5.72177773e+21,   6.22271779e+21,\n",
       "         6.73222118e+21,   7.24827552e+21,   7.76986718e+21,\n",
       "         8.29499958e+21,   8.68872028e+21])\n",
       "Coordinates:\n",
       "  * lev             (lev) int64 0 1 2 3 4 5 6 7 8 9 10 11 12 13 14 15 16 17 ...\n",
       "    layer_pressure  (lev) float64 0.00121 0.002905 0.004075 0.005715 ..."
      ]
     },
     "execution_count": 332,
     "metadata": {},
     "output_type": "execute_result"
    }
   ],
   "source": [
    "ds['layer_coldens_h2o']"
   ]
  },
  {
   "cell_type": "code",
   "execution_count": 333,
   "metadata": {
    "collapsed": false,
    "scrolled": false
   },
   "outputs": [],
   "source": [
    "os.chdir(os.path.join(dir_examples, dir_atm0))\n",
    "\n",
    "rrtmg.write_input_rrtm(ds=ds, aerosol=False, iatm=0)"
   ]
  },
  {
   "cell_type": "code",
   "execution_count": 307,
   "metadata": {
    "collapsed": false
   },
   "outputs": [
    {
     "data": {
      "text/plain": [
       "1"
      ]
     },
     "execution_count": 307,
     "metadata": {},
     "output_type": "execute_result"
    }
   ],
   "source": [
    "1"
   ]
  },
  {
   "cell_type": "code",
   "execution_count": null,
   "metadata": {
    "collapsed": true
   },
   "outputs": [],
   "source": []
  }
 ],
 "metadata": {
  "kernelspec": {
   "display_name": "Python 3",
   "language": "python",
   "name": "python3"
  },
  "language_info": {
   "codemirror_mode": {
    "name": "ipython",
    "version": 3
   },
   "file_extension": ".py",
   "mimetype": "text/x-python",
   "name": "python",
   "nbconvert_exporter": "python",
   "pygments_lexer": "ipython3",
   "version": "3.4.4"
  }
 },
 "nbformat": 4,
 "nbformat_minor": 0
}
