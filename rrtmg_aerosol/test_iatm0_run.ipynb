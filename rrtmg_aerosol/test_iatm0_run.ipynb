{
 "cells": [
  {
   "cell_type": "markdown",
   "metadata": {},
   "source": [
    "## Test RRTMG column model with IATM=0 option\n",
    "\n",
    "The IATM=0 option requires a different INPUT_RRTM format to IATM=1.  In this notebook, this option is tested by comparing the results with previous IATM=1 results.  On the way, useful routines will be stored in the `climatools` library."
   ]
  },
  {
   "cell_type": "code",
   "execution_count": 379,
   "metadata": {
    "collapsed": false
   },
   "outputs": [
    {
     "data": {
      "text/plain": [
       "<module 'rtmtools.clirad.sw.analyse' from '/nuwa_cluster/home/jackyu/radiation/rtmtools/rtmtools/clirad/sw/analyse.py'>"
      ]
     },
     "execution_count": 379,
     "metadata": {},
     "output_type": "execute_result"
    }
   ],
   "source": [
    "%matplotlib inline\n",
    "import os\n",
    "import imp\n",
    "from IPython import display\n",
    "\n",
    "import numpy as np\n",
    "import pandas as pd\n",
    "import xarray as xr\n",
    "import matplotlib.pyplot as plt\n",
    "\n",
    "import climatools.rrtmg.column_model as rrtmg\n",
    "import climatools.units as climaunits\n",
    "import climatools.aerosol.aerosol as climaaerosol\n",
    "\n",
    "import rtmtools.lblrtm.aerutils as aerutils\n",
    "import rtmtools.lblrtm.aeranalyse as aeranalyse\n",
    "import rtmtools.lblrtm.visualisation as viz\n",
    "import rtmtools.rrtmg.sw.wrangle as rrtmgwrangle\n",
    "import rtmtools.rrtmg.sw.analyse as rrtmganalyse\n",
    "import rtmtools.clirad.sw.wrangle as cliradwrangle\n",
    "import rtmtools.clirad.sw.analyse as cliradanalyse\n",
    "\n",
    "\n",
    "imp.reload(aerutils)\n",
    "imp.reload(aeranalyse)\n",
    "imp.reload(viz)\n",
    "\n",
    "imp.reload(rrtmg)\n",
    "imp.reload(climaunits)\n",
    "imp.reload(climaaerosol)\n",
    "\n",
    "imp.reload(rrtmgwrangle)\n",
    "imp.reload(rrtmganalyse)\n",
    "imp.reload(cliradwrangle)\n",
    "imp.reload(cliradanalyse)"
   ]
  },
  {
   "cell_type": "code",
   "execution_count": 311,
   "metadata": {
    "collapsed": true
   },
   "outputs": [],
   "source": [
    "# constants\n",
    "\n",
    "AMD = 28.9660\n",
    "AMW = 18.0160\n",
    "AVOGAD = 6.02214199e23\n",
    "\n",
    "GRAV = 9.8066"
   ]
  },
  {
   "cell_type": "code",
   "execution_count": 312,
   "metadata": {
    "collapsed": true
   },
   "outputs": [],
   "source": [
    "def column_density_dryair(h2o=None, pdp=None):\n",
    "    '''\n",
    "    Parameters\n",
    "    ----------\n",
    "    h2o: H2o volume mixing ratio\n",
    "    pdp: layer pressure difference [hPa, mb]\n",
    "    coldry: dry air column density [molecules/cm**2]\n",
    "    '''\n",
    "    dims = ('time', 'lat', 'lon', '')\n",
    "    amm = (1 - h2o) * AMD + h2o * AMW\n",
    "    coldry = pdp * 1e3 * AVOGAD / (1e2 * GRAV * amm * (1 + h2o))\n",
    "    return coldry    "
   ]
  },
  {
   "cell_type": "code",
   "execution_count": 313,
   "metadata": {
    "collapsed": true
   },
   "outputs": [],
   "source": [
    "dir_examples = '/nuwa_cluster/home/jackyu/radiation/rrtmg/SW/examples'\n",
    "dir_atm1 = 'mls_71lvls_H2O'\n",
    "dir_atm0 = 'mls_71lvls_H2O_iatm0'\n",
    "file_atmproh5 = 'atmpro_mls70.h5'"
   ]
  },
  {
   "cell_type": "code",
   "execution_count": 314,
   "metadata": {
    "collapsed": false
   },
   "outputs": [
    {
     "data": {
      "text/plain": [
       "['rrtmg_sw.py',\n",
       " 'atmpro_mls70.h5',\n",
       " 'rrtmg_sw.py~',\n",
       " 'INPUT_RRTM',\n",
       " 'rrtmg_sw_v3.9_linux_pgi',\n",
       " 'OUTPUT_RRTM',\n",
       " 'tape6']"
      ]
     },
     "execution_count": 314,
     "metadata": {},
     "output_type": "execute_result"
    }
   ],
   "source": [
    "os.listdir(os.path.join(dir_examples, dir_atm1))"
   ]
  },
  {
   "cell_type": "code",
   "execution_count": 315,
   "metadata": {
    "collapsed": false
   },
   "outputs": [
    {
     "data": {
      "text/html": [
       "<div>\n",
       "<table border=\"1\" class=\"dataframe\">\n",
       "  <thead>\n",
       "    <tr style=\"text-align: right;\">\n",
       "      <th></th>\n",
       "      <th>altitude</th>\n",
       "      <th>pressure</th>\n",
       "      <th>temperature</th>\n",
       "      <th>H2O</th>\n",
       "      <th>CO2</th>\n",
       "      <th>O3</th>\n",
       "      <th>N2O</th>\n",
       "      <th>CO</th>\n",
       "      <th>CH4</th>\n",
       "      <th>O2</th>\n",
       "    </tr>\n",
       "    <tr>\n",
       "      <th>ilev</th>\n",
       "      <th></th>\n",
       "      <th></th>\n",
       "      <th></th>\n",
       "      <th></th>\n",
       "      <th></th>\n",
       "      <th></th>\n",
       "      <th></th>\n",
       "      <th></th>\n",
       "      <th></th>\n",
       "      <th></th>\n",
       "    </tr>\n",
       "  </thead>\n",
       "  <tbody>\n",
       "    <tr>\n",
       "      <th>0</th>\n",
       "      <td>89.60800</td>\n",
       "      <td>0.00242</td>\n",
       "      <td>212.06955</td>\n",
       "      <td>6.4321</td>\n",
       "      <td>0</td>\n",
       "      <td>0</td>\n",
       "      <td>0</td>\n",
       "      <td>0</td>\n",
       "      <td>0</td>\n",
       "      <td>0</td>\n",
       "    </tr>\n",
       "    <tr>\n",
       "      <th>1</th>\n",
       "      <td>87.50455</td>\n",
       "      <td>0.00339</td>\n",
       "      <td>212.61195</td>\n",
       "      <td>6.4321</td>\n",
       "      <td>0</td>\n",
       "      <td>0</td>\n",
       "      <td>0</td>\n",
       "      <td>0</td>\n",
       "      <td>0</td>\n",
       "      <td>0</td>\n",
       "    </tr>\n",
       "    <tr>\n",
       "      <th>2</th>\n",
       "      <td>85.39563</td>\n",
       "      <td>0.00476</td>\n",
       "      <td>213.15535</td>\n",
       "      <td>6.4321</td>\n",
       "      <td>0</td>\n",
       "      <td>0</td>\n",
       "      <td>0</td>\n",
       "      <td>0</td>\n",
       "      <td>0</td>\n",
       "      <td>0</td>\n",
       "    </tr>\n",
       "    <tr>\n",
       "      <th>3</th>\n",
       "      <td>83.28138</td>\n",
       "      <td>0.00667</td>\n",
       "      <td>213.69980</td>\n",
       "      <td>6.4321</td>\n",
       "      <td>0</td>\n",
       "      <td>0</td>\n",
       "      <td>0</td>\n",
       "      <td>0</td>\n",
       "      <td>0</td>\n",
       "      <td>0</td>\n",
       "    </tr>\n",
       "    <tr>\n",
       "      <th>4</th>\n",
       "      <td>81.16173</td>\n",
       "      <td>0.00936</td>\n",
       "      <td>214.24530</td>\n",
       "      <td>6.4321</td>\n",
       "      <td>0</td>\n",
       "      <td>0</td>\n",
       "      <td>0</td>\n",
       "      <td>0</td>\n",
       "      <td>0</td>\n",
       "      <td>0</td>\n",
       "    </tr>\n",
       "  </tbody>\n",
       "</table>\n",
       "</div>"
      ],
      "text/plain": [
       "      altitude  pressure  temperature     H2O  CO2  O3  N2O  CO  CH4  O2\n",
       "ilev                                                                    \n",
       "0     89.60800   0.00242    212.06955  6.4321    0   0    0   0    0   0\n",
       "1     87.50455   0.00339    212.61195  6.4321    0   0    0   0    0   0\n",
       "2     85.39563   0.00476    213.15535  6.4321    0   0    0   0    0   0\n",
       "3     83.28138   0.00667    213.69980  6.4321    0   0    0   0    0   0\n",
       "4     81.16173   0.00936    214.24530  6.4321    0   0    0   0    0   0"
      ]
     },
     "execution_count": 315,
     "metadata": {},
     "output_type": "execute_result"
    }
   ],
   "source": [
    "store = pd.HDFStore(os.path.join(dir_examples, dir_atm1, file_atmproh5))\n",
    "df_atmpro = store['atmpro']\n",
    "store.close()\n",
    "\n",
    "df_atmpro = df_atmpro.reset_index().drop('index', axis=1)\n",
    "df_atmpro.index.names = ['ilev']\n",
    "df_atmpro.head()"
   ]
  },
  {
   "cell_type": "code",
   "execution_count": 316,
   "metadata": {
    "collapsed": false
   },
   "outputs": [],
   "source": [
    "# convert pandas.DataFrame to xarray.Dataset\n",
    "ds = xr.Dataset.from_dataframe(df_atmpro)    "
   ]
  },
  {
   "cell_type": "code",
   "execution_count": 317,
   "metadata": {
    "collapsed": false
   },
   "outputs": [],
   "source": [
    "# rename the data arrays\n",
    "ds = ds.rename({'pressure': 'level_pressure',\n",
    "                'altitude': 'level_altitude',\n",
    "                'temperature': 'level_temperature',\n",
    "                'H2O': 'level_ppmv_h2o',\n",
    "                'CO2': 'level_ppmv_co2',\n",
    "                'O3': 'level_ppmv_o3',\n",
    "                'N2O': 'level_ppmv_n2o',\n",
    "                'CO': 'level_ppmv_co',\n",
    "                'CH4': 'level_ppmv_ch4',\n",
    "                'O2': 'level_ppmv_o2'})"
   ]
  },
  {
   "cell_type": "code",
   "execution_count": 318,
   "metadata": {
    "collapsed": false,
    "scrolled": false
   },
   "outputs": [],
   "source": [
    "# compute layer values for all variables\n",
    "for name in ds.data_vars:\n",
    "    layer_data = .5 * (ds[name][:-1].values + ds[name][1:].values)\n",
    "    ds[name.replace('level', 'layer')] = (('lev',), layer_data)"
   ]
  },
  {
   "cell_type": "code",
   "execution_count": 319,
   "metadata": {
    "collapsed": false
   },
   "outputs": [],
   "source": [
    "# increase layer and level index numbers by 1\n",
    "ds.coords['lev'] = range(1, ds.dims['lev'] + 1)\n",
    "ds.coords['ilev'] = range(1, ds.dims['ilev'] + 1)"
   ]
  },
  {
   "cell_type": "code",
   "execution_count": 320,
   "metadata": {
    "collapsed": false
   },
   "outputs": [],
   "source": [
    "# reindex layer and level with an additional index number\n",
    "ds = ds.reindex(lev=range(ds.dims['lev'] + 1))\n",
    "ds = ds.reindex(ilev=range(ds.dims['ilev'] + 1))"
   ]
  },
  {
   "cell_type": "code",
   "execution_count": 321,
   "metadata": {
    "collapsed": false
   },
   "outputs": [],
   "source": [
    "# assign top layer and leve pressures\n",
    "ds['layer_pressure'][dict(lev=0)] = (.5 * ds['level_pressure']\n",
    "                                     .isel(ilev=1))\n",
    "ds['level_pressure'][dict(ilev=0)] = 1e-4"
   ]
  },
  {
   "cell_type": "code",
   "execution_count": 322,
   "metadata": {
    "collapsed": false
   },
   "outputs": [],
   "source": [
    "# assign top layer and level temperatures\n",
    "ds['layer_temperature'][dict(lev=0)] = (ds['layer_temperature']\n",
    "                                        [dict(lev=1)])\n",
    "ds['level_temperature'][dict(ilev=1)] = (.5 * \n",
    "                                         sum(ds['layer_temperature']\n",
    "                                             [dict(lev=[0, 1])]))\n",
    "ds['level_temperature'][dict(ilev=0)] = (ds['level_temperature']\n",
    "                                         [dict(ilev=1)])"
   ]
  },
  {
   "cell_type": "code",
   "execution_count": 323,
   "metadata": {
    "collapsed": false
   },
   "outputs": [],
   "source": [
    "# assign top layer molecule densities\n",
    "names_molecules = ['h2o', 'co2', 'o3', 'n2o', 'co', 'ch4', 'o2']\n",
    "for molecule in names_molecules:\n",
    "    name_var = 'layer_ppmv_' + molecule\n",
    "    ds[name_var][dict(lev=0)] = ds[name_var][dict(lev=1)]"
   ]
  },
  {
   "cell_type": "code",
   "execution_count": 324,
   "metadata": {
    "collapsed": false
   },
   "outputs": [],
   "source": [
    "# set layer and lever pressure as coordinate variables\n",
    "ds = ds.set_coords(['layer_pressure', 'level_pressure'])"
   ]
  },
  {
   "cell_type": "code",
   "execution_count": 325,
   "metadata": {
    "collapsed": false
   },
   "outputs": [],
   "source": [
    "# compute layer pressure difference\n",
    "ds = climaaerosol.get_pressure_difference(ds)"
   ]
  },
  {
   "cell_type": "code",
   "execution_count": 326,
   "metadata": {
    "collapsed": true
   },
   "outputs": [],
   "source": [
    "# convert molecules densities from ppmv to vmr\n",
    "names_molecules = ['h2o', 'co2', 'o3', 'n2o', 'co', 'ch4', 'o2']\n",
    "for molecule in names_molecules:\n",
    "    name_ppmv = 'layer_ppmv_' + molecule\n",
    "    name_vmr = name_ppmv.replace('ppmv', 'vmr')\n",
    "    ds[name_vmr] = 1e-6 * ds[name_ppmv]\n"
   ]
  },
  {
   "cell_type": "code",
   "execution_count": 327,
   "metadata": {
    "collapsed": false
   },
   "outputs": [],
   "source": [
    "# drop data variables for molecule densities in ppmv\n",
    "ds = ds.drop([name for name in ds.data_vars if '_ppmv_' in name])"
   ]
  },
  {
   "cell_type": "code",
   "execution_count": 328,
   "metadata": {
    "collapsed": false
   },
   "outputs": [],
   "source": [
    "# calculate column density of dry air \n",
    "coldens_dryair = column_density_dryair(h2o=ds['layer_vmr_h2o'],\n",
    "                                       pdp=ds['dpressure'])\n",
    "ds['layer_coldens_dryair'] = (('lev',), coldens_dryair)\n",
    "\n",
    "h2o_lev1 = ds['layer_vmr_h2o'][dict(lev=1)]\n",
    "amm = (1 - h2o_lev1) * AMD + h2o_lev1 * AMW\n",
    "ds['layer_coldens_dryair'][dict(lev=0)] = (ds['level_pressure'][dict(ilev=1)] \n",
    "                                           * 1e3 * AVOGAD / \n",
    "                                           (1e2 * GRAV * amm * (1 + h2o_lev1)))"
   ]
  },
  {
   "cell_type": "code",
   "execution_count": 329,
   "metadata": {
    "collapsed": false
   },
   "outputs": [],
   "source": [
    "# convert molecule densities from vmr to column density\n",
    "names_molecules = ['h2o', 'co2', 'o3', 'n2o', 'co', 'ch4', 'o2']\n",
    "for name in names_molecules:\n",
    "    ds['layer_coldens_' + name] = (ds['layer_vmr_' + name] \n",
    "                                   * ds['layer_coldens_dryair'])"
   ]
  },
  {
   "cell_type": "code",
   "execution_count": 330,
   "metadata": {
    "collapsed": false
   },
   "outputs": [],
   "source": [
    "# drop data variables for molecule densities in vmr\n",
    "ds = ds.drop([name for name in ds.data_vars if '_vmr_' in name])"
   ]
  },
  {
   "cell_type": "code",
   "execution_count": 331,
   "metadata": {
    "collapsed": false
   },
   "outputs": [],
   "source": [
    "ds['juldat'] = ((), 0., {'long_name': 'Julian day associated with calculation', \n",
    "                         'units': 'days'})\n",
    "\n",
    "ds['sza'] = ((), 60, {'long_name': 'solar zenith angle in degrees',\n",
    "                      'units': 'degrees'})"
   ]
  },
  {
   "cell_type": "code",
   "execution_count": 352,
   "metadata": {
    "collapsed": false,
    "scrolled": false
   },
   "outputs": [],
   "source": [
    "os.chdir(os.path.join(dir_examples, dir_atm0))\n",
    "\n",
    "rrtmg.write_input_rrtm(ds=ds, aerosol=False, iatm=0)"
   ]
  },
  {
   "cell_type": "code",
   "execution_count": 353,
   "metadata": {
    "collapsed": false
   },
   "outputs": [
    {
     "name": "stdout",
     "output_type": "stream",
     "text": [
      "INPUT_RRTM  OUTPUT_RRTM  rrtmg.exe\r\n"
     ]
    }
   ],
   "source": [
    "!ls"
   ]
  },
  {
   "cell_type": "markdown",
   "metadata": {},
   "source": [
    "### Plot to see if results are reasonable"
   ]
  },
  {
   "cell_type": "code",
   "execution_count": 381,
   "metadata": {
    "collapsed": false
   },
   "outputs": [],
   "source": [
    "pnl_rrtmg_iatm0 = rrtmgwrangle.\\\n",
    "                  OUTPUT_RRTM_to_pandasPanel(readfrom='OUTPUT_RRTM',\n",
    "                                             cooling_rate=False,\n",
    "                                             signed_fluxes=True)"
   ]
  },
  {
   "cell_type": "code",
   "execution_count": 382,
   "metadata": {
    "collapsed": true
   },
   "outputs": [],
   "source": [
    "pnl_rrtmg_iatm1 = rrtmgwrangle.\\\n",
    "                  OUTPUT_RRTM_to_pandasPanel(readfrom=os.path.join(dir_examples,\n",
    "                                                                   dir_atm1,\n",
    "                                                                   'OUTPUT_RRTM'),\n",
    "                                             cooling_rate=False,\n",
    "                                             signed_fluxes=True)"
   ]
  },
  {
   "cell_type": "code",
   "execution_count": 376,
   "metadata": {
    "collapsed": false
   },
   "outputs": [],
   "source": [
    "# Load CLIRAD results\n",
    "pathout_clirad = '/nuwa_cluster/home/jackyu/radiation/clirad/SW/examples/mls75_H2O/OUTPUT_CLIRAD.dat'\n",
    "pnl_clirad = cliradwrangle.\\\n",
    "             OUTPUT_CLIRAD_to_PandasPanel(readfrom=pathout_clirad, \n",
    "                                          signed_fluxes=True)"
   ]
  },
  {
   "cell_type": "code",
   "execution_count": 386,
   "metadata": {
    "collapsed": false
   },
   "outputs": [],
   "source": [
    "name_molecule = r'$H_{2}O$'\n",
    "\n",
    "def plot_total_heating_rates(infos_wavenumber = None, infos_spectralband = None):\n",
    "    global name_molecule, xlim_linear\n",
    "    atm_levels = [70, 30, 0]\n",
    "\n",
    "    if infos_wavenumber:\n",
    "        (names_wavenumber, colours_wavenumber, \n",
    "         linestyles_wavenumber, pnls_wavenumber) = map(list, zip(*infos_wavenumber))\n",
    "    \n",
    "        dfs_wavenumber = [aeranalyse.\\\n",
    "                          sum_OUTPUT_RADSUM_over_wbands(pnl, V1 = 1000, V2 = 25000) \\\n",
    "                          for pnl in pnls_wavenumber]\n",
    "    else:\n",
    "        (dfs_wavenumber, names_wavenumber, \n",
    "         colours_wavenumber, linestyles_wavenumber) = ([], [], [], [])\n",
    "        \n",
    "    if infos_spectralband:\n",
    "        (names_spectralband, colours_spectralband, \n",
    "         linestyles_spectralband, pnls_spectralband) = map(list, zip(*infos_spectralband))\n",
    "    \n",
    "        dfs_spectralband = [cliradanalyse.\\\n",
    "                            sum_OUTPUT_CLIRAD_over_wbands(pnl, \n",
    "                                                          wbands = range(1, 11))\n",
    "                            for pnl in pnls_spectralband]\n",
    "    else:\n",
    "        (dfs_spectralband, names_spectralband,\n",
    "         colours_spectralband, linestyles_spectralband) = ([], [], [], [])\n",
    "\n",
    "    dfs = dfs_wavenumber + dfs_spectralband\n",
    "    names = names_wavenumber + names_spectralband\n",
    "    colours = colours_wavenumber + colours_spectralband\n",
    "    linestyles = linestyles_wavenumber + linestyles_spectralband    \n",
    "    \n",
    "    dfs_atm_levels = [df.loc[atm_levels, :] for df in dfs]\n",
    "    \n",
    "    viz.tabulate_difference(dfs = dfs_atm_levels, \n",
    "                            names = names,\n",
    "                            title = 'Total heating rate. {}'.format(name_molecule))    \n",
    "    \n",
    "    max_cr = max([df['heating_rate'].max() for df in dfs])\n",
    "    \n",
    "    viz.plot_pres_vs_hrcr(dfs = dfs_wavenumber + dfs_spectralband,\n",
    "                          names = names_wavenumber + names_spectralband,\n",
    "                          linestyles = linestyles_wavenumber + linestyles_spectralband, \n",
    "                          colours = colours_wavenumber + colours_spectralband,\n",
    "                          title = 'Total heating rate. {}'.format(name_molecule),\n",
    "                          cooling_rate = False,\n",
    "                          xlim_linear = None,\n",
    "                          xlim_log = None)\n",
    "    \n",
    "    display.display(plt.gcf()); plt.close()"
   ]
  },
  {
   "cell_type": "code",
   "execution_count": 387,
   "metadata": {
    "collapsed": false
   },
   "outputs": [
    {
     "name": "stdout",
     "output_type": "stream",
     "text": [
      "\n",
      "Total heating rate. $H_{2}O$\n",
      "\n",
      "RRTMG iatm0\n",
      "    pressure  flux_up  flux_difdown  flux_dirdown  flux_down  net_flux  \\\n",
      "70     0.002  -0.0002             0      592.7477   592.7477  592.7475   \n",
      "30   299.800  -0.0001             0      581.9248   581.9248  581.9247   \n",
      "0   1013.000   0.0000             0      477.2950   477.2950  477.2950   \n",
      "\n",
      "    heating_rate  \n",
      "70       0.57144  \n",
      "30       1.01014  \n",
      "0        1.22188  \n",
      "\n",
      "RRTMG iatm1\n",
      "      pressure  flux_up  flux_difdown  flux_dirdown  flux_down  net_flux  \\\n",
      "70     0.00242  -0.0002             0      592.7477   592.7477  592.7475   \n",
      "30   299.70000  -0.0001             0      582.0274   582.0274  582.0273   \n",
      "0   1013.00000   0.0000             0      477.3102   477.3102  477.3102   \n",
      "\n",
      "    heating_rate  \n",
      "70       0.00000  \n",
      "30       1.01312  \n",
      "0        1.22063  \n",
      "\n",
      "RRTMG iatm0 - RRTMG iatm1\n",
      "    pressure  flux_up  flux_difdown  flux_dirdown  flux_down  net_flux  \\\n",
      "70  -0.00042        0             0        0.0000     0.0000    0.0000   \n",
      "30   0.10000        0             0       -0.1026    -0.1026   -0.1026   \n",
      "0    0.00000        0             0       -0.0152    -0.0152   -0.0152   \n",
      "\n",
      "    heating_rate  \n",
      "70       0.57144  \n",
      "30      -0.00298  \n",
      "0        0.00125  \n",
      "\n"
     ]
    },
    {
     "data": {
      "image/png": "[encoded data removed]",
      "text/plain": [
       "<matplotlib.figure.Figure at 0x2aad6c9007f0>"
      ]
     },
     "metadata": {},
     "output_type": "display_data"
    }
   ],
   "source": [
    "plot_total_heating_rates(infos_wavenumber=[('RRTMG iatm0', 'g', '--', pnl_rrtmg_iatm0),\n",
    "                                           ('RRTMG iatm1', 'r', '-.', pnl_rrtmg_iatm1)])#,\n",
    "#                         infos_spectralband=[('CLIRAD', 'b', '--', pnl_clirad)])"
   ]
  },
  {
   "cell_type": "markdown",
   "metadata": {},
   "source": [
    "### Conclusion\n",
    "\n",
    "Following the steps in this notebook, it is possible to load the atmosphere profile from HDF5 file and convert it to a valid IN_RRTM with IATM=0.  This means that the LBLRTM ray-tracing program RRTATM can be skipped in running RRTMG-SW column model."
   ]
  },
  {
   "cell_type": "code",
   "execution_count": 388,
   "metadata": {
    "collapsed": false
   },
   "outputs": [
    {
     "data": {
      "text/html": [
       "<script>\n",
       "code_show=true; \n",
       "function code_toggle() {\n",
       " if (code_show){\n",
       " $('div.input').hide();\n",
       " } else {\n",
       " $('div.input').show();\n",
       " }\n",
       " code_show = !code_show\n",
       "} \n",
       "$( document ).ready(code_toggle);\n",
       "</script>\n",
       "<form action=\"javascript:code_toggle()\"><input type=\"submit\" value=\"Click here to toggle on/off the raw code.\"></form>"
      ],
      "text/plain": [
       "<IPython.core.display.HTML object>"
      ]
     },
     "execution_count": 388,
     "metadata": {},
     "output_type": "execute_result"
    }
   ],
   "source": [
    "display.HTML('''<script>\n",
    "code_show=true; \n",
    "function code_toggle() {\n",
    " if (code_show){\n",
    " $('div.input').hide();\n",
    " } else {\n",
    " $('div.input').show();\n",
    " }\n",
    " code_show = !code_show\n",
    "} \n",
    "$( document ).ready(code_toggle);\n",
    "</script>\n",
    "<form action=\"javascript:code_toggle()\"><input type=\"submit\" value=\"Click here to toggle on/off the raw code.\"></form>''')"
   ]
  },
  {
   "cell_type": "code",
   "execution_count": null,
   "metadata": {
    "collapsed": true
   },
   "outputs": [],
   "source": []
  }
 ],
 "metadata": {
  "kernelspec": {
   "display_name": "Python 3",
   "language": "python",
   "name": "python3"
  },
  "language_info": {
   "codemirror_mode": {
    "name": "ipython",
    "version": 3
   },
   "file_extension": ".py",
   "mimetype": "text/x-python",
   "name": "python",
   "nbconvert_exporter": "python",
   "pygments_lexer": "ipython3",
   "version": "3.4.4"
  }
 },
 "nbformat": 4,
 "nbformat_minor": 0
}
