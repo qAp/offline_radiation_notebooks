{
 "cells": [
  {
   "cell_type": "code",
   "execution_count": 138,
   "metadata": {
    "collapsed": false
   },
   "outputs": [
    {
     "ename": "SyntaxError",
     "evalue": "invalid syntax (aerosol.py, line 27)",
     "output_type": "error",
     "traceback": [
      "\u001b[1;36m  File \u001b[1;32m\"/nuwa_cluster/home/jackyu/climatools/climatools/aerosol/aerosol.py\"\u001b[1;36m, line \u001b[1;32m27\u001b[0m\n\u001b[1;33m    p    args_isel = dict(lon=lon, lat=lat, time=time)\u001b[0m\n\u001b[1;37m                 ^\u001b[0m\n\u001b[1;31mSyntaxError\u001b[0m\u001b[1;31m:\u001b[0m invalid syntax\n"
     ]
    }
   ],
   "source": [
    "import os\n",
    "import imp\n",
    "\n",
    "import numpy as np\n",
    "import pandas as pd\n",
    "import xarray as xr\n",
    "\n",
    "import climatools.io.cesm as climaio\n",
    "import climatools.aerosol.modal_aero_sw as aerosw\n",
    "import climatools.aerosol.aerosol_constants as aeroconst\n",
    "import climatools.aerosol.aerosol as climaerosol\n",
    "\n",
    "imp.reload(aerosw)\n",
    "imp.reload(aeroconst)\n",
    "imp.reload(climaerosol)"
   ]
  },
  {
   "cell_type": "code",
   "execution_count": 126,
   "metadata": {
    "collapsed": true
   },
   "outputs": [],
   "source": [
    "aerosw.modal_aero_sw?"
   ]
  },
  {
   "cell_type": "markdown",
   "metadata": {},
   "source": [
    "### timeit: getting the constants\n",
    "\n",
    "Data saved on the netCDF files in the relevant namelists are loaded by xarray when *climatools.aerosol.aerosol_constants* is imported.\n",
    "\n",
    "These then have to be reshaped or combined into arrays that are compatible with the f2py3-compiled subroutine *modal_aero_sw()*."
   ]
  },
  {
   "cell_type": "code",
   "execution_count": 86,
   "metadata": {
    "collapsed": false,
    "scrolled": false
   },
   "outputs": [
    {
     "name": "stdout",
     "output_type": "stream",
     "text": [
      "100 loops, best of 3: 6.08 ms per loop\n"
     ]
    }
   ],
   "source": [
    "%timeit aeroconst.get_specdens()"
   ]
  },
  {
   "cell_type": "code",
   "execution_count": 85,
   "metadata": {
    "collapsed": false,
    "scrolled": false
   },
   "outputs": [
    {
     "name": "stdout",
     "output_type": "stream",
     "text": [
      "10 loops, best of 3: 35.2 ms per loop\n"
     ]
    }
   ],
   "source": [
    "%timeit aeroconst.get_specrefindex()"
   ]
  },
  {
   "cell_type": "code",
   "execution_count": 101,
   "metadata": {
    "collapsed": false
   },
   "outputs": [
    {
     "name": "stdout",
     "output_type": "stream",
     "text": [
      "1000 loops, best of 3: 162 µs per loop\n"
     ]
    }
   ],
   "source": [
    "%timeit aeroconst.get_extpsw()"
   ]
  },
  {
   "cell_type": "code",
   "execution_count": 105,
   "metadata": {
    "collapsed": false,
    "scrolled": false
   },
   "outputs": [
    {
     "name": "stdout",
     "output_type": "stream",
     "text": [
      "1000 loops, best of 3: 162 µs per loop\n"
     ]
    }
   ],
   "source": [
    "%timeit aeroconst.get_abspsw()"
   ]
  },
  {
   "cell_type": "code",
   "execution_count": 109,
   "metadata": {
    "collapsed": false
   },
   "outputs": [
    {
     "name": "stdout",
     "output_type": "stream",
     "text": [
      "1000 loops, best of 3: 163 µs per loop\n"
     ]
    }
   ],
   "source": [
    "%timeit aeroconst.get_asmpsw()"
   ]
  },
  {
   "cell_type": "code",
   "execution_count": 114,
   "metadata": {
    "collapsed": false
   },
   "outputs": [
    {
     "name": "stdout",
     "output_type": "stream",
     "text": [
      "10000 loops, best of 3: 146 µs per loop\n"
     ]
    }
   ],
   "source": [
    "%timeit aeroconst.get_refrtabsw()"
   ]
  },
  {
   "cell_type": "code",
   "execution_count": 121,
   "metadata": {
    "collapsed": false
   },
   "outputs": [
    {
     "name": "stdout",
     "output_type": "stream",
     "text": [
      "1000 loops, best of 3: 168 µs per loop\n"
     ]
    }
   ],
   "source": [
    "%timeit  aeroconst.get_refitabsw()"
   ]
  },
  {
   "cell_type": "code",
   "execution_count": 119,
   "metadata": {
    "collapsed": false
   },
   "outputs": [
    {
     "name": "stdout",
     "output_type": "stream",
     "text": [
      "100 loops, best of 3: 3.18 ms per loop\n"
     ]
    }
   ],
   "source": [
    "%timeit aeroconst.get_crefwsw()"
   ]
  },
  {
   "cell_type": "code",
   "execution_count": 122,
   "metadata": {
    "collapsed": false
   },
   "outputs": [
    {
     "name": "stdout",
     "output_type": "stream",
     "text": [
      "10 loops, best of 3: 44.7 ms per loop\n"
     ]
    }
   ],
   "source": [
    "%%timeit\n",
    "\n",
    "import climatools.aerosol.aerosol_constants as aeroconst\n",
    "\n",
    "aeroconst.get_specdens()\n",
    "aeroconst.get_specrefindex()\n",
    "aeroconst.get_extpsw()\n",
    "aeroconst.get_abspsw()\n",
    "aeroconst.get_asmpsw()\n",
    "aeroconst.get_refrtabsw()\n",
    "aeroconst.get_refitabsw()\n",
    "aeroconst.get_crefwsw()"
   ]
  },
  {
   "cell_type": "markdown",
   "metadata": {},
   "source": [
    "### timeit: dynamic data"
   ]
  },
  {
   "cell_type": "code",
   "execution_count": 131,
   "metadata": {
    "collapsed": false
   },
   "outputs": [],
   "source": [
    "# load a CAM history file from some previous global run\n",
    "filedir = '/nuwa_cluster/home/jackyu/climatools/climatools/aerosol'\n",
    "filepath = os.path.join(filedir, 'f19_g16.B1850.std.cam2.h0.0001-06.nc')\n",
    "ds = climaio.load_camhistory(readfrom=filepath)"
   ]
  },
  {
   "cell_type": "code",
   "execution_count": 136,
   "metadata": {
    "collapsed": false
   },
   "outputs": [
    {
     "name": "stdout",
     "output_type": "stream",
     "text": [
      "1 loops, best of 3: 369 ms per loop\n"
     ]
    }
   ],
   "source": [
    "%timeit climaerosol.get_raer(ds)"
   ]
  },
  {
   "cell_type": "code",
   "execution_count": 137,
   "metadata": {
    "collapsed": false
   },
   "outputs": [
    {
     "name": "stdout",
     "output_type": "stream",
     "text": [
      "1 loops, best of 3: 2.01 s per loop\n"
     ]
    }
   ],
   "source": [
    "%timeit climaerosol.wateruptake(ds)"
   ]
  },
  {
   "cell_type": "markdown",
   "metadata": {},
   "source": [
    "### timeit: with fake random data"
   ]
  },
  {
   "cell_type": "code",
   "execution_count": 8,
   "metadata": {
    "collapsed": false
   },
   "outputs": [
    {
     "data": {
      "text/plain": [
       "array([ 0.04399301,  0.08889587,  0.32317629,  0.2495431 ,  0.51951521,\n",
       "        0.90977068,  0.66340565,  0.70196632])"
      ]
     },
     "execution_count": 8,
     "metadata": {},
     "output_type": "execute_result"
    }
   ],
   "source": [
    "np.random.random(8)"
   ]
  },
  {
   "cell_type": "code",
   "execution_count": 25,
   "metadata": {
    "collapsed": false,
    "scrolled": false
   },
   "outputs": [],
   "source": [
    "def generate_fake_random_data(pcols=1):\n",
    "    pver = 30\n",
    "    ntot_amode = 3\n",
    "    nspec_max = 6\n",
    "    ncoef = 5\n",
    "    prefr = 7\n",
    "    prefi = 10\n",
    "    nswbands = 14\n",
    "    \n",
    "    mass = np.random.random((pcols, pver))\n",
    "    specmmr = np.random.random((nspec_max, ntot_amode, pcols, pver))\n",
    "    dgnumwet = np.random.random((pcols, pver, ntot_amode))\n",
    "    qaerwat = np.random.random((pcols, pver, ntot_amode))\n",
    "    specdens = np.random.random((nspec_max, ntot_amode))\n",
    "    specrefindex = np.random.random((nspec_max, ntot_amode, nswbands)) \n",
    "    extpsw = np.random.random((ncoef, prefr, prefi, ntot_amode, nswbands))\n",
    "    abspsw = np.random.random((ncoef, prefr, prefi, ntot_amode, nswbands))\n",
    "    asmpsw = np.random.random((ncoef, prefr, prefi, ntot_amode, nswbands))\n",
    "    refrtabsw = np.random.random((prefr, nswbands))\n",
    "    refitabsw = np.random.random((prefi, nswbands))\n",
    "    crefwsw = np.random.random((nswbands,)) + 1j * np.random.random((nswbands,))\n",
    "    \n",
    "    return mass, specmmr, dgnumwet, qaerwat, specdens, specrefindex, \\\n",
    "           extpsw, abspsw, asmpsw, refrtabsw, refitabsw, crefwsw\n",
    "    \n",
    "\n",
    "  "
   ]
  },
  {
   "cell_type": "code",
   "execution_count": 27,
   "metadata": {
    "collapsed": false
   },
   "outputs": [
    {
     "name": "stdout",
     "output_type": "stream",
     "text": [
      "1 loops, best of 3: 7.67 s per loop\n"
     ]
    }
   ],
   "source": [
    "%timeit aerosw.modal_aero_sw(*generate_fake_random_data(pcols=180*96))  "
   ]
  },
  {
   "cell_type": "code",
   "execution_count": 146,
   "metadata": {
    "collapsed": false,
    "scrolled": false
   },
   "outputs": [
    {
     "data": {
      "text/plain": [
       "<xarray.Dataset>\n",
       "Dimensions:              (chars: 8, ilev: 31, lat: 96, lev: 30, lon: 144, mode: 3, nbnd: 2, slat: 95, slon: 144, species: 6, time: 1)\n",
       "Coordinates:\n",
       "  * lev                  (lev) float64 3.643 7.595 14.36 24.61 38.27 54.6 ...\n",
       "  * ilev                 (ilev) float64 2.255 5.032 10.16 18.56 30.67 45.87 ...\n",
       "  * time                 (time) float64 181.0\n",
       "  * lat                  (lat) float64 -90.0 -88.11 -86.21 -84.32 -82.42 ...\n",
       "  * lon                  (lon) float64 0.0 2.5 5.0 7.5 10.0 12.5 15.0 17.5 ...\n",
       "  * slat                 (slat) float64 -89.05 -87.16 -85.26 -83.37 -81.47 ...\n",
       "  * slon                 (slon) float64 -1.25 1.25 3.75 6.25 8.75 11.25 ...\n",
       "  * chars                (chars) int64 0 1 2 3 4 5 6 7\n",
       "  * nbnd                 (nbnd) int64 0 1\n",
       "  * mode                 (mode) int64 1 2 3\n",
       "  * species              (species) int64 1 2 3 4 5 6\n",
       "Data variables:\n",
       "    hyam                 (lev) float64 0.003643 0.007595 0.01436 0.02461 ...\n",
       "    hybm                 (lev) float64 0.0 0.0 0.0 0.0 0.0 0.0 0.0 0.0 0.0 ...\n",
       "    hyai                 (ilev) float64 0.002255 0.005032 0.01016 0.01856 ...\n",
       "    hybi                 (ilev) float64 0.0 0.0 0.0 0.0 0.0 0.0 0.0 0.0 0.0 ...\n",
       "    P0                   float64 1e+05\n",
       "    date                 (time) int32 10701\n",
       "    datesec              (time) int32 0\n",
       "    w_stag               (slat) float64 0.0005467 0.00164 0.002731 0.003819 ...\n",
       "    time_bnds            (time, nbnd) float64 151.0 181.0\n",
       "    date_written         (time, chars) |S1 b'0' b'8' b'/' b'2' b'7' b'/' ...\n",
       "    time_written         (time, chars) |S1 b'1' b'1' b':' b'0' b'4' b':' ...\n",
       "    ntrm                 int64 1\n",
       "    ntrn                 int64 1\n",
       "    ntrk                 int64 1\n",
       "    ndbase               int64 0\n",
       "    nsbase               int64 0\n",
       "    nbdate               int64 10101\n",
       "    nbsec                int64 0\n",
       "    mdt                  int64 1800\n",
       "    nlon                 (lat) int32 144 144 144 144 144 144 144 144 144 144 ...\n",
       "    wnummax              (lat) int32 1 1 1 1 1 1 1 1 1 1 1 1 1 1 1 1 1 1 1 1 ...\n",
       "    gw                   (lat) float64 0.0001367 0.001093 0.002185 0.003275 ...\n",
       "    ndcur                (time) int32 181\n",
       "    nscur                (time) int32 0\n",
       "    co2vmr               (time) float64 0.0002847\n",
       "    ch4vmr               (time) float64 7.916e-07\n",
       "    n2ovmr               (time) float64 2.757e-07\n",
       "    f11vmr               (time) float64 1.248e-11\n",
       "    f12vmr               (time) float64 0.0\n",
       "    sol_tsi              (time) float64 -1.0\n",
       "    nsteph               (time) int32 8688\n",
       "    ABSORB               (time, lev, lat, lon) float32 1e+36 1e+36 1e+36 ...\n",
       "    AEROD_v              (time, lat, lon) float32 1e+36 1e+36 1e+36 1e+36 ...\n",
       "    ANRAIN               (time, lev, lat, lon) float32 0.0 0.0 0.0 0.0 0.0 ...\n",
       "    ANSNOW               (time, lev, lat, lon) float32 0.0 0.0 0.0 0.0 0.0 ...\n",
       "    AODABS               (time, lat, lon) float32 1e+36 1e+36 1e+36 1e+36 ...\n",
       "    AODDUST1             (time, lat, lon) float32 1e+36 1e+36 1e+36 1e+36 ...\n",
       "    AODDUST2             (time, lat, lon) float32 1e+36 1e+36 1e+36 1e+36 ...\n",
       "    AODDUST3             (time, lat, lon) float32 1e+36 1e+36 1e+36 1e+36 ...\n",
       "    AODMODE1             (time, lat, lon) float32 1e+36 1e+36 1e+36 1e+36 ...\n",
       "    AODMODE2             (time, lat, lon) float32 1e+36 1e+36 1e+36 1e+36 ...\n",
       "    AODMODE3             (time, lat, lon) float32 1e+36 1e+36 1e+36 1e+36 ...\n",
       "    AODVIS               (time, lat, lon) float32 1e+36 1e+36 1e+36 1e+36 ...\n",
       "    AQRAIN               (time, lev, lat, lon) float32 0.0 0.0 0.0 0.0 0.0 ...\n",
       "    AQSNOW               (time, lev, lat, lon) float32 0.0 0.0 0.0 0.0 0.0 ...\n",
       "    AREI                 (time, lev, lat, lon) float32 0.0 0.0 0.0 0.0 0.0 ...\n",
       "    AREL                 (time, lev, lat, lon) float32 0.0 0.0 0.0 0.0 0.0 ...\n",
       "    ATMEINT              (time, lat, lon) float32 1.63859e+09 1.63859e+09 ...\n",
       "    AWNC                 (time, lev, lat, lon) float32 0.0 0.0 0.0 0.0 0.0 ...\n",
       "    AWNI                 (time, lev, lat, lon) float32 0.0 0.0 0.0 0.0 0.0 ...\n",
       "    BURDEN1              (time, lat, lon) float32 1e+36 1e+36 1e+36 1e+36 ...\n",
       "    BURDEN2              (time, lat, lon) float32 1e+36 1e+36 1e+36 1e+36 ...\n",
       "    BURDEN3              (time, lat, lon) float32 1e+36 1e+36 1e+36 1e+36 ...\n",
       "    CCN3                 (time, lev, lat, lon) float32 1.80545e-06 ...\n",
       "    CDNUMC               (time, lat, lon) float32 0.48414 0.484142 0.484143 ...\n",
       "    CLDFSNOW             (time, lev, lat, lon) float32 0.0 0.0 0.0 0.0 0.0 ...\n",
       "    CLDHGH               (time, lat, lon) float32 0.496957 0.496957 0.496957 ...\n",
       "    CLDICE               (time, lev, lat, lon) float32 0.0 0.0 0.0 0.0 0.0 ...\n",
       "    CLDLIQ               (time, lev, lat, lon) float32 0.0 0.0 0.0 0.0 0.0 ...\n",
       "    CLDLOW               (time, lat, lon) float32 0.0 0.0 0.0 0.0 0.0 0.0 ...\n",
       "    CLDMED               (time, lat, lon) float32 0.722962 0.722962 0.722962 ...\n",
       "    CLDTOT               (time, lat, lon) float32 0.774977 0.774977 0.774977 ...\n",
       "    CLOUD                (time, lev, lat, lon) float32 0.0 0.0 0.0 0.0 0.0 ...\n",
       "    CMFDQ                (time, lev, lat, lon) float32 0.0 0.0 0.0 0.0 0.0 ...\n",
       "    CMFDQR               (time, lev, lat, lon) float32 0.0 0.0 0.0 0.0 0.0 ...\n",
       "    CMFDT                (time, lev, lat, lon) float32 0.0 0.0 0.0 0.0 0.0 ...\n",
       "    CMFMC                (time, ilev, lat, lon) float32 0.0 0.0 0.0 0.0 0.0 ...\n",
       "    CMFMCDZM             (time, ilev, lat, lon) float32 0.0 0.0 0.0 0.0 0.0 ...\n",
       "    CONCLD               (time, lev, lat, lon) float32 0.0 0.0 0.0 0.0 0.0 ...\n",
       "    DCQ                  (time, lev, lat, lon) float32 0.0 0.0 0.0 0.0 0.0 ...\n",
       "    DMS                  (time, lev, lat, lon) float32 1.20916e-33 ...\n",
       "    DSTODXC              (time, lat, lon) float32 0.0 0.0 0.0 0.0 0.0 0.0 ...\n",
       "    DSTSFDRY             (time, lat, lon) float32 0.0 0.0 0.0 0.0 0.0 0.0 ...\n",
       "    DSTSFMBL             (time, lat, lon) float32 0.0 0.0 0.0 0.0 0.0 0.0 ...\n",
       "    DSTSFWET             (time, lat, lon) float32 0.0 0.0 0.0 0.0 0.0 0.0 ...\n",
       "    DTCOND               (time, lev, lat, lon) float32 0.0 0.0 0.0 0.0 0.0 ...\n",
       "    DTV                  (time, lev, lat, lon) float32 0.0 0.0 0.0 0.0 0.0 ...\n",
       "    EXTINCT              (time, lev, lat, lon) float32 1e+36 1e+36 1e+36 ...\n",
       "    FICE                 (time, lev, lat, lon) float32 0.0 0.0 0.0 0.0 0.0 ...\n",
       "    FLDS                 (time, lat, lon) float32 82.8737 82.8726 82.8717 ...\n",
       "    FLNS                 (time, lat, lon) float32 32.4418 32.4185 32.4016 ...\n",
       "    FLNSC                (time, lat, lon) float32 39.7193 39.696 39.6791 ...\n",
       "    FLNT                 (time, lat, lon) float32 114.663 114.649 114.64 ...\n",
       "    FLNTC                (time, lat, lon) float32 113.084 113.071 113.061 ...\n",
       "    FLUT                 (time, lat, lon) float32 115.032 115.018 115.009 ...\n",
       "    FLUTC                (time, lat, lon) float32 113.453 113.439 113.43 ...\n",
       "    FREQI                (time, lev, lat, lon) float32 0.0 0.0 0.0 0.0 0.0 ...\n",
       "    FREQL                (time, lev, lat, lon) float32 0.0 0.0 0.0 0.0 0.0 ...\n",
       "    FREQR                (time, lev, lat, lon) float32 0.0 0.0 0.0 0.0 0.0 ...\n",
       "    FREQS                (time, lev, lat, lon) float32 0.0 0.0 0.0 0.0 0.0 ...\n",
       "    FREQSH               (time, lat, lon) float32 1.0 1.0 1.0 1.0 1.0 1.0 ...\n",
       "    FREQZM               (time, lat, lon) float32 0.0 0.0 0.0 0.0 0.0 0.0 ...\n",
       "    FSDS                 (time, lat, lon) float32 0.0 0.0 0.0 0.0 0.0 0.0 ...\n",
       "    FSDSC                (time, lat, lon) float32 0.0 0.0 0.0 0.0 0.0 0.0 ...\n",
       "    FSNS                 (time, lat, lon) float32 0.0 0.0 0.0 0.0 0.0 0.0 ...\n",
       "    FSNSC                (time, lat, lon) float32 0.0 0.0 0.0 0.0 0.0 0.0 ...\n",
       "    FSNT                 (time, lat, lon) float32 0.0 0.0 0.0 0.0 0.0 0.0 ...\n",
       "    FSNTC                (time, lat, lon) float32 0.0 0.0 0.0 0.0 0.0 0.0 ...\n",
       "    FSNTOA               (time, lat, lon) float32 0.0 0.0 0.0 0.0 0.0 0.0 ...\n",
       "    FSNTOAC              (time, lat, lon) float32 0.0 0.0 0.0 0.0 0.0 0.0 ...\n",
       "    FSUTOA               (time, lat, lon) float32 0.0 0.0 0.0 0.0 0.0 0.0 ...\n",
       "    H2O2                 (time, lev, lat, lon) float32 2.62572e-11 ...\n",
       "    H2SO4                (time, lev, lat, lon) float32 2.6678e-17 2.6678e-17 ...\n",
       "    ICEFRAC              (time, lat, lon) float32 0.0 0.0 0.0 0.0 0.0 0.0 ...\n",
       "    ICIMR                (time, lev, lat, lon) float32 0.0 0.0 0.0 0.0 0.0 ...\n",
       "    ICWMR                (time, lev, lat, lon) float32 0.0 0.0 0.0 0.0 0.0 ...\n",
       "    IWC                  (time, lev, lat, lon) float32 0.0 0.0 0.0 0.0 0.0 ...\n",
       "    KVH                  (time, ilev, lat, lon) float32 0.0 0.0 0.0 0.0 0.0 ...\n",
       "    KVM                  (time, ilev, lat, lon) float32 0.0 0.0 0.0 0.0 0.0 ...\n",
       "    LANDFRAC             (time, lat, lon) float32 1.0 1.0 1.0 1.0 1.0 1.0 ...\n",
       "    LCLOUD               (time, lev, lat, lon) float32 0.0 0.0 0.0 0.0 0.0 ...\n",
       "    LHFLX                (time, lat, lon) float32 -0.23862 -0.238659 ...\n",
       "    LND_MBL              (time, lat, lon) float32 0.0 0.0 0.0 0.0 0.0 0.0 ...\n",
       "    LWCF                 (time, lat, lon) float32 -1.57823 -1.57814 -1.57946 ...\n",
       "    NUMICE               (time, lev, lat, lon) float32 1e-12 1e-12 1e-12 ...\n",
       "    NUMLIQ               (time, lev, lat, lon) float32 1e-12 1e-12 1e-12 ...\n",
       "    OCNFRAC              (time, lat, lon) float32 0.0 0.0 0.0 0.0 0.0 0.0 ...\n",
       "    OMEGA                (time, lev, lat, lon) float32 -8.16279e-05 ...\n",
       "    OMEGAT               (time, lev, lat, lon) float32 -0.0157263 -0.0157263 ...\n",
       "    ORO                  (time, lat, lon) float32 0.0 0.0 0.0 0.0 0.0 0.0 ...\n",
       "    PBLH                 (time, lat, lon) float32 47.8638 47.8971 47.8638 ...\n",
       "    PCONVB               (time, lat, lon) float32 67264.2 67264.2 67264.2 ...\n",
       "    PCONVT               (time, lat, lon) float32 67264.2 67264.2 67264.2 ...\n",
       "    PHIS                 (time, lat, lon) float32 27964.6 27964.6 27964.6 ...\n",
       "    PRECC                (time, lat, lon) float32 0.0 0.0 0.0 0.0 0.0 0.0 ...\n",
       "    PRECCDZM             (time, lat, lon) float32 0.0 0.0 0.0 0.0 0.0 0.0 ...\n",
       "    PRECL                (time, lat, lon) float32 1.39986e-09 1.39986e-09 ...\n",
       "    PRECSC               (time, lat, lon) float32 0.0 0.0 0.0 0.0 0.0 0.0 ...\n",
       "    PRECSH               (time, lat, lon) float32 0.0 0.0 0.0 0.0 0.0 0.0 ...\n",
       "    PRECSL               (time, lat, lon) float32 1.39986e-09 1.39986e-09 ...\n",
       "    PRECT                (time, lat, lon) float32 1.39986e-09 1.39986e-09 ...\n",
       "    PS                   (time, lat, lon) float32 67264.2 67264.2 67264.2 ...\n",
       "    PSL                  (time, lat, lon) float32 99943.0 99943.0 99943.0 ...\n",
       "    Q                    (time, lev, lat, lon) float32 1.55721e-06 ...\n",
       "    QC                   (time, lev, lat, lon) float32 0.0 0.0 0.0 0.0 0.0 ...\n",
       "    QFLX                 (time, lat, lon) float32 -8.41782e-08 -8.4192e-08 ...\n",
       "    QREFHT               (time, lat, lon) float32 2.05463e-05 2.05399e-05 ...\n",
       "    QRL                  (time, lev, lat, lon) float32 -1.67604e-05 ...\n",
       "    QRS                  (time, lev, lat, lon) float32 0.0 0.0 0.0 0.0 0.0 ...\n",
       "    QT                   (time, lev, lat, lon) float32 1.55721e-06 ...\n",
       "    QTFLX                (time, ilev, lat, lon) float32 0.0 0.0 0.0 0.0 0.0 ...\n",
       "    RELHUM               (time, lev, lat, lon) float32 1.96276 1.96276 ...\n",
       "    RHREFHT              (time, lat, lon) float32 133.058 133.111 133.149 ...\n",
       "    SFCLDICE             (time, lat, lon) float32 0.0 0.0 0.0 0.0 0.0 0.0 ...\n",
       "    SFCLDLIQ             (time, lat, lon) float32 0.0 0.0 0.0 0.0 0.0 0.0 ...\n",
       "    SFNUMICE             (time, lat, lon) float32 0.0 0.0 0.0 0.0 0.0 0.0 ...\n",
       "    SFNUMLIQ             (time, lat, lon) float32 0.0 0.0 0.0 0.0 0.0 0.0 ...\n",
       "    SHFLX                (time, lat, lon) float32 -24.5021 -24.5402 -24.5651 ...\n",
       "    SL                   (time, lev, lat, lon) float32 511051.0 511051.0 ...\n",
       "    SLFLX                (time, ilev, lat, lon) float32 0.0 0.0 0.0 0.0 0.0 ...\n",
       "    SLV                  (time, lev, lat, lon) float32 511052.0 511052.0 ...\n",
       "    SNOWHICE             (time, lat, lon) float32 0.0 0.0 0.0 0.0 0.0 0.0 ...\n",
       "    SNOWHLND             (time, lat, lon) float32 1.00003 1.00001 1.00006 ...\n",
       "    SO2                  (time, lev, lat, lon) float32 2.28178e-20 ...\n",
       "    SOAG                 (time, lev, lat, lon) float32 1.55983e-12 ...\n",
       "    SOLIN                (time, lat, lon) float32 0.0 0.0 0.0 0.0 0.0 0.0 ...\n",
       "    SRFRAD               (time, lat, lon) float32 82.8737 82.8726 82.8717 ...\n",
       "    SSAVIS               (time, lat, lon) float32 1e+36 1e+36 1e+36 1e+36 ...\n",
       "    SSTODXC              (time, lat, lon) float32 0.0 0.0 0.0 0.0 0.0 0.0 ...\n",
       "    SSTSFDRY             (time, lat, lon) float32 0.0 0.0 0.0 0.0 0.0 0.0 ...\n",
       "    SSTSFMBL             (time, lat, lon) float32 0.0 0.0 0.0 0.0 0.0 0.0 ...\n",
       "    SSTSFWET             (time, lat, lon) float32 0.0 0.0 0.0 0.0 0.0 0.0 ...\n",
       "    SWCF                 (time, lat, lon) float32 0.0 0.0 0.0 0.0 0.0 0.0 ...\n",
       "    T                    (time, lev, lat, lon) float32 192.383 192.383 ...\n",
       "    T700                 (time, lat, lon) float32 218.546 218.546 218.546 ...\n",
       "    T850                 (time, lat, lon) float32 218.546 218.546 218.546 ...\n",
       "    TAUTMSX              (time, lat, lon) float32 0.0105824 0.00956182 ...\n",
       "    TAUTMSY              (time, lat, lon) float32 0.0235433 0.0240129 ...\n",
       "    TAUX                 (time, lat, lon) float32 0.0190905 0.0177686 ...\n",
       "    TAUY                 (time, lat, lon) float32 0.029128 0.0299052 ...\n",
       "    TGCLDCWP             (time, lat, lon) float32 0.00322559 0.00322559 ...\n",
       "    TGCLDIWP             (time, lat, lon) float32 0.00322559 0.00322559 ...\n",
       "    TGCLDLWP             (time, lat, lon) float32 2.51478e-15 2.51479e-15 ...\n",
       "    TKE                  (time, ilev, lat, lon) float32 0.0 0.0 0.0 0.0 0.0 ...\n",
       "    TMQ                  (time, lat, lon) float32 0.317568 0.317568 0.317568 ...\n",
       "    TOT_CLD_VISTAU       (time, lev, lat, lon) float32 1e+36 1e+36 1e+36 ...\n",
       "    TOT_ICLD_VISTAU      (time, lev, lat, lon) float32 1e+36 1e+36 1e+36 ...\n",
       "    TREFHT               (time, lat, lon) float32 215.277 215.27 215.265 ...\n",
       "    TREFMNAV             (time, lat, lon) float32 214.175 214.164 214.16 ...\n",
       "    TREFMXAV             (time, lat, lon) float32 216.538 216.533 216.527 ...\n",
       "    TROP_P               (time, lat, lon) float32 19526.4 19526.4 19526.4 ...\n",
       "    TROP_T               (time, lat, lon) float32 194.897 194.897 194.897 ...\n",
       "    TROP_Z               (time, lat, lon) float32 7782.53 7782.53 7782.53 ...\n",
       "    TS                   (time, lat, lon) float32 212.243 212.231 212.223 ...\n",
       "    TSMN                 (time, lat, lon) float32 207.95 207.929 207.924 ...\n",
       "    TSMX                 (time, lat, lon) float32 225.697 225.73 225.712 ...\n",
       "    U                    (time, lev, lat, lon) float32 -22.6621 -23.2272 ...\n",
       "    U10                  (time, lat, lon) float32 4.56066 4.55968 4.55874 ...\n",
       "    UFLX                 (time, ilev, lat, lon) float32 0.0 0.0 0.0 0.0 0.0 ...\n",
       "    US                   (time, lev, slat, lon) float32 -18.8441 -19.4134 ...\n",
       "    UU                   (time, lev, lat, lon) float32 657.286 685.884 ...\n",
       "    V                    (time, lev, lat, lon) float32 13.4483 12.447 11.422 ...\n",
       "    VD01                 (time, lev, lat, lon) float32 0.0 0.0 0.0 0.0 0.0 ...\n",
       "    VFLX                 (time, ilev, lat, lon) float32 0.0 0.0 0.0 0.0 0.0 ...\n",
       "    VQ                   (time, lev, lat, lon) float32 2.09369e-05 ...\n",
       "    VS                   (time, lev, lat, slon) float32 13.9463 12.9578 ...\n",
       "    VT                   (time, lev, lat, lon) float32 2592.51 2399.5 ...\n",
       "    VU                   (time, lev, lat, lon) float32 -337.153 -317.834 ...\n",
       "    VV                   (time, lev, lat, lon) float32 243.404 214.806 ...\n",
       "    WGUSTD               (time, lat, lon) float32 0.0 0.000316989 0.0 0.0 ...\n",
       "    WSUB                 (time, lev, lat, lon) float32 0.2 0.2 0.2 0.2 0.2 ...\n",
       "    WTKE                 (time, lev, lat, lon) float32 0.2 0.2 0.2 0.2 0.2 ...\n",
       "    Z3                   (time, lev, lat, lon) float32 32408.8 32408.8 ...\n",
       "    bc_a1                (time, lev, lat, lon) float32 1.10972e-16 ...\n",
       "    dst_a1               (time, lev, lat, lon) float32 8.36558e-15 ...\n",
       "    dst_a1SF             (time, lat, lon) float32 0.0 0.0 0.0 0.0 0.0 0.0 ...\n",
       "    dst_a3               (time, lev, lat, lon) float32 2.43093e-35 ...\n",
       "    dst_a3SF             (time, lat, lon) float32 0.0 0.0 0.0 0.0 0.0 0.0 ...\n",
       "    ncl_a1               (time, lev, lat, lon) float32 1.34182e-15 ...\n",
       "    ncl_a2               (time, lev, lat, lon) float32 1.17313e-14 ...\n",
       "    ncl_a3               (time, lev, lat, lon) float32 6.41919e-34 ...\n",
       "    num_a1               (time, lev, lat, lon) float32 93369.0 93369.0 ...\n",
       "    num_a2               (time, lev, lat, lon) float32 1.6778e+07 1.6778e+07 ...\n",
       "    num_a3               (time, lev, lat, lon) float32 1.1975e-06 1.1975e-06 ...\n",
       "    pom_a1               (time, lev, lat, lon) float32 1.04504e-15 ...\n",
       "    so4_a1               (time, lev, lat, lon) float32 2.3685e-14 2.3685e-14 ...\n",
       "    so4_a2               (time, lev, lat, lon) float32 4.6802e-13 4.6802e-13 ...\n",
       "    so4_a3               (time, lev, lat, lon) float32 7.2332e-19 7.2332e-19 ...\n",
       "    soa_a1               (time, lev, lat, lon) float32 8.49523e-15 ...\n",
       "    soa_a2               (time, lev, lat, lon) float32 1.03452e-13 ...\n",
       "    aerosol_species_mmr  (time, lev, lat, lon, mode, species) float64 2.369e-14 ...\n",
       "Attributes:\n",
       "    Conventions: CF-1.0\n",
       "    source: CAM\n",
       "    case: f19_g16.B1850.std\n",
       "    title: UNSET\n",
       "    logname: lupin\n",
       "    host: nuwacn240\n",
       "    Version: $Name$\n",
       "    revision_Id: $Id$\n",
       "    initial_file: b40_1850_2d_b18c5cn_156jp.cam2.i.0059-01-01-00000.nc\n",
       "    topography_file: /nuwa_data/data/cesm1/inputdata/atm/cam/topo/USGS-gtopo30_1.9x2.5_remap_c050602.nc"
      ]
     },
     "execution_count": 146,
     "metadata": {},
     "output_type": "execute_result"
    }
   ],
   "source": [
    "ds"
   ]
  },
  {
   "cell_type": "code",
   "execution_count": null,
   "metadata": {
    "collapsed": true
   },
   "outputs": [],
   "source": []
  }
 ],
 "metadata": {
  "kernelspec": {
   "display_name": "Python 3",
   "language": "python",
   "name": "python3"
  },
  "language_info": {
   "codemirror_mode": {
    "name": "ipython",
    "version": 3
   },
   "file_extension": ".py",
   "mimetype": "text/x-python",
   "name": "python",
   "nbconvert_exporter": "python",
   "pygments_lexer": "ipython3",
   "version": "3.4.4"
  }
 },
 "nbformat": 4,
 "nbformat_minor": 0
}
