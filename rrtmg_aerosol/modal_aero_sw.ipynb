{
 "cells": [
  {
   "cell_type": "code",
   "execution_count": 9,
   "metadata": {
    "collapsed": false
   },
   "outputs": [
    {
     "data": {
      "text/plain": [
       "<module 'climatools.units' from '/nuwa_cluster/home/jackyu/climatools/climatools/units.py'>"
      ]
     },
     "execution_count": 9,
     "metadata": {},
     "output_type": "execute_result"
    }
   ],
   "source": [
    "import os\n",
    "import imp\n",
    "\n",
    "import numpy as np\n",
    "import pandas as pd\n",
    "import xarray as xr\n",
    "\n",
    "import climatools.io.cesm as climaio\n",
    "import climatools.aerosol.modal_aero_sw as aerosw\n",
    "import climatools.aerosol.aerosol_constants as aeroconst\n",
    "import climatools.aerosol.aerosol as climaerosol\n",
    "import climatools.units as climaunits\n",
    "\n",
    "imp.reload(aerosw)\n",
    "imp.reload(aeroconst)\n",
    "imp.reload(climaerosol)\n",
    "imp.reload(climaunits)"
   ]
  },
  {
   "cell_type": "markdown",
   "metadata": {},
   "source": [
    "### timeit: getting the constants\n",
    "\n",
    "Data saved on the netCDF files in the relevant namelists are loaded by xarray when *climatools.aerosol.aerosol_constants* is imported.\n",
    "\n",
    "These then have to be reshaped or combined into arrays that are compatible with the f2py3-compiled subroutine *modal_aero_sw()*."
   ]
  },
  {
   "cell_type": "code",
   "execution_count": 86,
   "metadata": {
    "collapsed": false,
    "scrolled": false
   },
   "outputs": [
    {
     "name": "stdout",
     "output_type": "stream",
     "text": [
      "100 loops, best of 3: 6.08 ms per loop\n"
     ]
    }
   ],
   "source": [
    "%timeit aeroconst.get_specdens()"
   ]
  },
  {
   "cell_type": "code",
   "execution_count": 85,
   "metadata": {
    "collapsed": false,
    "scrolled": false
   },
   "outputs": [
    {
     "name": "stdout",
     "output_type": "stream",
     "text": [
      "10 loops, best of 3: 35.2 ms per loop\n"
     ]
    }
   ],
   "source": [
    "%timeit aeroconst.get_specrefindex()"
   ]
  },
  {
   "cell_type": "code",
   "execution_count": 101,
   "metadata": {
    "collapsed": false
   },
   "outputs": [
    {
     "name": "stdout",
     "output_type": "stream",
     "text": [
      "1000 loops, best of 3: 162 µs per loop\n"
     ]
    }
   ],
   "source": [
    "%timeit aeroconst.get_extpsw()"
   ]
  },
  {
   "cell_type": "code",
   "execution_count": 105,
   "metadata": {
    "collapsed": false,
    "scrolled": false
   },
   "outputs": [
    {
     "name": "stdout",
     "output_type": "stream",
     "text": [
      "1000 loops, best of 3: 162 µs per loop\n"
     ]
    }
   ],
   "source": [
    "%timeit aeroconst.get_abspsw()"
   ]
  },
  {
   "cell_type": "code",
   "execution_count": 109,
   "metadata": {
    "collapsed": false
   },
   "outputs": [
    {
     "name": "stdout",
     "output_type": "stream",
     "text": [
      "1000 loops, best of 3: 163 µs per loop\n"
     ]
    }
   ],
   "source": [
    "%timeit aeroconst.get_asmpsw()"
   ]
  },
  {
   "cell_type": "code",
   "execution_count": 114,
   "metadata": {
    "collapsed": false
   },
   "outputs": [
    {
     "name": "stdout",
     "output_type": "stream",
     "text": [
      "10000 loops, best of 3: 146 µs per loop\n"
     ]
    }
   ],
   "source": [
    "%timeit aeroconst.get_refrtabsw()"
   ]
  },
  {
   "cell_type": "code",
   "execution_count": 121,
   "metadata": {
    "collapsed": false
   },
   "outputs": [
    {
     "name": "stdout",
     "output_type": "stream",
     "text": [
      "1000 loops, best of 3: 168 µs per loop\n"
     ]
    }
   ],
   "source": [
    "%timeit  aeroconst.get_refitabsw()"
   ]
  },
  {
   "cell_type": "code",
   "execution_count": 119,
   "metadata": {
    "collapsed": false
   },
   "outputs": [
    {
     "name": "stdout",
     "output_type": "stream",
     "text": [
      "100 loops, best of 3: 3.18 ms per loop\n"
     ]
    }
   ],
   "source": [
    "%timeit aeroconst.get_crefwsw()"
   ]
  },
  {
   "cell_type": "code",
   "execution_count": 122,
   "metadata": {
    "collapsed": false
   },
   "outputs": [
    {
     "name": "stdout",
     "output_type": "stream",
     "text": [
      "10 loops, best of 3: 44.7 ms per loop\n"
     ]
    }
   ],
   "source": [
    "%%timeit\n",
    "\n",
    "import climatools.aerosol.aerosol_constants as aeroconst\n",
    "\n",
    "aeroconst.get_specdens()\n",
    "aeroconst.get_specrefindex()\n",
    "aeroconst.get_extpsw()\n",
    "aeroconst.get_abspsw()\n",
    "aeroconst.get_asmpsw()\n",
    "aeroconst.get_refrtabsw()\n",
    "aeroconst.get_refitabsw()\n",
    "aeroconst.get_crefwsw()"
   ]
  },
  {
   "cell_type": "markdown",
   "metadata": {},
   "source": [
    "### timeit: dynamic data"
   ]
  },
  {
   "cell_type": "code",
   "execution_count": 2,
   "metadata": {
    "collapsed": false
   },
   "outputs": [],
   "source": [
    "# load a CAM history file from some previous global run\n",
    "filedir = '/nuwa_cluster/home/jackyu/radiation/radiation_notebooks/rrtmg_aerosol/'\n",
    "filepath = os.path.join(filedir, 'f19_g16.B1850.std.cam2.h0.0001-06.nc')\n",
    "ds = climaio.load_camhistory(readfrom=filepath)"
   ]
  },
  {
   "cell_type": "code",
   "execution_count": 3,
   "metadata": {
    "collapsed": true
   },
   "outputs": [],
   "source": [
    "ds = climaunits.hybrid2mbar(ds)"
   ]
  },
  {
   "cell_type": "code",
   "execution_count": 14,
   "metadata": {
    "collapsed": false
   },
   "outputs": [
    {
     "name": "stdout",
     "output_type": "stream",
     "text": [
      "10 loops, best of 3: 45.9 ms per loop\n"
     ]
    }
   ],
   "source": [
    "%timeit climaunits.hybrid2mbar(ds)"
   ]
  },
  {
   "cell_type": "code",
   "execution_count": 4,
   "metadata": {
    "collapsed": true
   },
   "outputs": [],
   "source": [
    "ds = climaerosol.aerosol_species_mmr(ds)"
   ]
  },
  {
   "cell_type": "code",
   "execution_count": 9,
   "metadata": {
    "collapsed": false
   },
   "outputs": [
    {
     "name": "stdout",
     "output_type": "stream",
     "text": [
      "1 loop, best of 3: 399 ms per loop\n"
     ]
    }
   ],
   "source": [
    "%timeit climaerosol.aerosol_species_mmr(ds)"
   ]
  },
  {
   "cell_type": "code",
   "execution_count": 6,
   "metadata": {
    "collapsed": false
   },
   "outputs": [],
   "source": [
    "ds = climaerosol.wateruptake(ds)"
   ]
  },
  {
   "cell_type": "code",
   "execution_count": 10,
   "metadata": {
    "collapsed": false
   },
   "outputs": [
    {
     "name": "stdout",
     "output_type": "stream",
     "text": [
      "1 loop, best of 3: 1.62 s per loop\n"
     ]
    }
   ],
   "source": [
    "%timeit climaerosol.wateruptake(ds)"
   ]
  },
  {
   "cell_type": "code",
   "execution_count": 7,
   "metadata": {
    "collapsed": true
   },
   "outputs": [],
   "source": [
    "ds = climaerosol.get_pressure_difference(ds)"
   ]
  },
  {
   "cell_type": "code",
   "execution_count": 16,
   "metadata": {
    "collapsed": false
   },
   "outputs": [
    {
     "name": "stdout",
     "output_type": "stream",
     "text": [
      "10 loops, best of 3: 22.6 ms per loop\n"
     ]
    }
   ],
   "source": [
    "%timeit climaerosol.get_pressure_difference(ds)"
   ]
  },
  {
   "cell_type": "code",
   "execution_count": 10,
   "metadata": {
    "collapsed": false
   },
   "outputs": [],
   "source": [
    "ds = climaerosol.modal_aero_sw(ds)"
   ]
  },
  {
   "cell_type": "code",
   "execution_count": 11,
   "metadata": {
    "collapsed": false
   },
   "outputs": [
    {
     "name": "stdout",
     "output_type": "stream",
     "text": [
      "1 loop, best of 3: 6.01 s per loop\n"
     ]
    }
   ],
   "source": [
    "%timeit climaerosol.modal_aero_sw(ds)"
   ]
  },
  {
   "cell_type": "markdown",
   "metadata": {},
   "source": [
    "### timeit: with fake random data"
   ]
  },
  {
   "cell_type": "code",
   "execution_count": 8,
   "metadata": {
    "collapsed": false
   },
   "outputs": [
    {
     "data": {
      "text/plain": [
       "array([ 0.04399301,  0.08889587,  0.32317629,  0.2495431 ,  0.51951521,\n",
       "        0.90977068,  0.66340565,  0.70196632])"
      ]
     },
     "execution_count": 8,
     "metadata": {},
     "output_type": "execute_result"
    }
   ],
   "source": [
    "np.random.random(8)"
   ]
  },
  {
   "cell_type": "code",
   "execution_count": 25,
   "metadata": {
    "collapsed": false,
    "scrolled": false
   },
   "outputs": [],
   "source": [
    "def generate_fake_random_data(pcols=1):\n",
    "    pver = 30\n",
    "    ntot_amode = 3\n",
    "    nspec_max = 6\n",
    "    ncoef = 5\n",
    "    prefr = 7\n",
    "    prefi = 10\n",
    "    nswbands = 14\n",
    "    \n",
    "    mass = np.random.random((pcols, pver))\n",
    "    specmmr = np.random.random((nspec_max, ntot_amode, pcols, pver))\n",
    "    dgnumwet = np.random.random((pcols, pver, ntot_amode))\n",
    "    qaerwat = np.random.random((pcols, pver, ntot_amode))\n",
    "    specdens = np.random.random((nspec_max, ntot_amode))\n",
    "    specrefindex = np.random.random((nspec_max, ntot_amode, nswbands)) \n",
    "    extpsw = np.random.random((ncoef, prefr, prefi, ntot_amode, nswbands))\n",
    "    abspsw = np.random.random((ncoef, prefr, prefi, ntot_amode, nswbands))\n",
    "    asmpsw = np.random.random((ncoef, prefr, prefi, ntot_amode, nswbands))\n",
    "    refrtabsw = np.random.random((prefr, nswbands))\n",
    "    refitabsw = np.random.random((prefi, nswbands))\n",
    "    crefwsw = np.random.random((nswbands,)) + 1j * np.random.random((nswbands,))\n",
    "    \n",
    "    return mass, specmmr, dgnumwet, qaerwat, specdens, specrefindex, \\\n",
    "           extpsw, abspsw, asmpsw, refrtabsw, refitabsw, crefwsw\n",
    "    \n",
    "\n",
    "  "
   ]
  },
  {
   "cell_type": "code",
   "execution_count": 27,
   "metadata": {
    "collapsed": false
   },
   "outputs": [
    {
     "name": "stdout",
     "output_type": "stream",
     "text": [
      "1 loops, best of 3: 7.67 s per loop\n"
     ]
    }
   ],
   "source": [
    "%timeit aerosw.modal_aero_sw(*generate_fake_random_data(pcols=180*96))  "
   ]
  },
  {
   "cell_type": "code",
   "execution_count": null,
   "metadata": {
    "collapsed": true
   },
   "outputs": [],
   "source": []
  }
 ],
 "metadata": {
  "kernelspec": {
   "display_name": "Python 3",
   "language": "python",
   "name": "python3"
  },
  "language_info": {
   "codemirror_mode": {
    "name": "ipython",
    "version": 3
   },
   "file_extension": ".py",
   "mimetype": "text/x-python",
   "name": "python",
   "nbconvert_exporter": "python",
   "pygments_lexer": "ipython3",
   "version": "3.4.4"
  }
 },
 "nbformat": 4,
 "nbformat_minor": 0
}
