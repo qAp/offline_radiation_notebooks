{
 "metadata": {
  "name": "",
  "signature": "sha256:0f3fde6d9c9d83949dd9bcc294ee9671cd3f40eff39e85bf319b19abd44a7001"
 },
 "nbformat": 3,
 "nbformat_minor": 0,
 "worksheets": [
  {
   "cells": [
    {
     "cell_type": "markdown",
     "metadata": {},
     "source": [
      "## The integral terms in expressions for $F^{\\downarrow}$ and $F^{\\uparrow}$ in C(3.1) and C(3.2)  \n",
      "\n",
      "C(3.1) denotes equation (3.1) in Prof. Chou's technical memo, which will be referred to as LWTM.\n",
      "\n",
      "Take the term for $F^{\\uparrow}$.\n",
      "\n",
      "In a spectral band of width $\\Delta \\nu$\n",
      "\n",
      "\\begin{align}\n",
      "F^{\\uparrow}(p) & \\sim & \\int_{\\Delta\\nu} d\\nu \\int_{p_{s}}^{p} dp' B_{\\nu}(\\theta') \\frac{\\partial T_{\\nu}(p, p')}{\\partial p'} \\\\\n",
      "& = & \\int_{p_{s}}^{p} dp' B(\\theta') \\frac{1}{B(\\theta')} \\int_{\\Delta\\nu} d\\nu B_{\\nu}(\\theta') \\frac{\\partial T_{\\nu}(p, p')}{\\partial p'} \\; .\n",
      "\\end{align}\n",
      "Here, \n",
      "\\begin{equation}\n",
      "B(\\theta) = \\int_{\\Delta\\nu} d\\nu B_{\\nu}(\\theta)\n",
      "\\end{equation}\n",
      "is the Planck's flux integrated over the spectral band."
     ]
    },
    {
     "cell_type": "markdown",
     "metadata": {},
     "source": [
      "\n",
      "On page 6 of LWTM, it is said that when either\n",
      "\n",
      "* the range of $B_{\\nu}$ is sufficiently small \n",
      "\n",
      "or\n",
      "\n",
      "* the sahpe of $B_{\\nu}$ is sufficiently independent of temperature\n",
      "\n",
      "the following approximation can be made:\n",
      "\n",
      "\\begin{align}\n",
      "&& \\int_{p_{s}}^{p} dp' B(\\theta') \\frac{1}{B(\\theta')} \\int_{\\Delta\\nu} d\\nu B_{\\nu}(\\theta') \\frac{\\partial T_{\\nu}(p, p')}{\\partial p'} \\\\\n",
      "&& \\approx \\int_{p_{s}}^{p} dp' B(\\theta') \\frac{1}{B(\\theta_0)} \\int_{\\Delta\\nu} d\\nu B_{\\nu}(\\theta_0) \\frac{\\partial T_{\\nu}(p, p')}{\\partial p'} \\;,\n",
      "\\end{align}\n",
      "where $\\theta_{0}$ is some reference temperature for the whole atmosphere, taken to be $250 K$ here.\n",
      "\n",
      "**Q** Why is the first $\\theta'$ not set to $\\theta_0$?\n"
     ]
    },
    {
     "cell_type": "markdown",
     "metadata": {},
     "source": [
      "### $T_{\\nu}(p, p')$\n",
      "\n",
      "This is the *flux transmittance*.\n",
      "\n",
      "\\begin{align}\n",
      "T_{\\nu}(p, p') \n",
      "& = & 2 \\int_{0}^{1} d\\mu \\: \\mu \\exp\\left[- \\frac{\\tau_{\\nu}(p, p')}{\\mu}\\right] \\\\\n",
      "& = & 2 \\int_{0}^{1} d\\mu \\: \\mu \\exp\\left[- \\frac{1}{\\mu} k_{\\nu}(p_{r}, \\theta_{r}) w(p, p') \\right]\n",
      "\\end{align}"
     ]
    },
    {
     "cell_type": "markdown",
     "metadata": {},
     "source": [
      "In the k-domain, the flux transmittance is (C(4.8))\n",
      "\n",
      "\\begin{equation}\n",
      "T_{k}(p, p') = 2 \\int_{0}^{1} d\\mu \\: \\mu \\exp\\left[ - \\frac{1}{\\mu} k w(p, p') \\right]\n",
      "\\end{equation}\n",
      "\n",
      "All the $\\nu$ have disappeared because they have been transformed to $k$.  So the subscript $\\nu$ of $k$ is gone.  But what about $(p_{r}, \\theta_{r})$?  **Q** Should it still be associated with $k$, or is it only associated with f(k), the k-distribution function?\n"
     ]
    },
    {
     "cell_type": "markdown",
     "metadata": {},
     "source": [
      "**Q**  Not sure how to justify the 2 points made about the calcaultion being faster on page 12.  \n",
      "\n",
      "Why is it $L^{2}/2$ versus $L$ for the number of exponentiations?  If it is \n",
      "\n",
      "\\begin{equation}\n",
      "2 \\int_{0}^{1} d\\mu \\: \\mu \\exp\\left[- \\frac{k_{n} w}{\\mu} \\right] \\hspace{1cm} \\mathrm{versus} \\hspace{1cm}  \\exp\\left[- \\frac{k_{n} w}{ \\bar{\\mu}} \\right]\n",
      "\\end{equation}\n",
      "\n",
      "should it not be\n",
      "\n",
      "\\begin{equation}\n",
      "L \\times N_{\\mu} \\hspace{1cm} \\mathrm{versus} \\hspace{1cm} L  \\; ?\n",
      "\\end{equation}\n",
      "where $L$ and $N_{\\mu}$ are the number of layers and number of angles (in integration over the hemisphere).\n",
      "\n",
      "Why does it only invole $\\sim 3$ multiplications when calculating the exponential term from that of the previous layer? $\\eta$ ranges from $6$ to $16$.  \n",
      "\n",
      "When $\\eta = 6$, it does take 3 multiplications.  \n",
      "\n",
      "\\begin{equation}\n",
      "\\exp[k_{n + 1}] = \\exp[\\eta k_{n}] = (\\exp[k_{n}])^{\\eta}\n",
      "\\end{equation}\n",
      "So this is equivalent to computing $x^{6}$ from x, which by doing $(x \\cdot x \\cdot x) \\cdot (x \\cdot x \\cdot x)$, takes 3 multiplications."
     ]
    },
    {
     "cell_type": "code",
     "collapsed": false,
     "input": [],
     "language": "python",
     "metadata": {},
     "outputs": []
    }
   ],
   "metadata": {}
  }
 ]
}