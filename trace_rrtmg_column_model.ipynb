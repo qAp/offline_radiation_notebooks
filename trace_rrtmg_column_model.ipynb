{
 "cells": [
  {
   "cell_type": "code",
   "execution_count": 13,
   "metadata": {
    "collapsed": true
   },
   "outputs": [],
   "source": [
    "import os\n",
    "import sys\n",
    "import climatools.misc as climamisc\n",
    "import glob\n",
    "import pprint"
   ]
  },
  {
   "cell_type": "code",
   "execution_count": 19,
   "metadata": {
    "collapsed": true
   },
   "outputs": [],
   "source": [
    "def fortran_files():\n",
    "    rootdir = '/nuwa_cluster/home/jackyu/radiation/rrtmg/LW/rrtmg_lw_v4.85/column_model/src/'\n",
    "    filetypes = ('.f90', '.f')\n",
    "    fpaths = [os.path.join(rootdir, name) for name in os.listdir(rootdir) if name.endswith(filetypes)]\n",
    "    return fpaths"
   ]
  },
  {
   "cell_type": "code",
   "execution_count": 23,
   "metadata": {
    "collapsed": false
   },
   "outputs": [
    {
     "name": "stdout",
     "output_type": "stream",
     "text": [
      "{'cldprmc': {'childs': [], 'parents': []},\n",
      " 'cldprop': {'childs': [], 'parents': []},\n",
      " 'cmbgb1': {'childs': [], 'parents': []},\n",
      " 'cmbgb10': {'childs': [], 'parents': []},\n",
      " 'cmbgb11': {'childs': [], 'parents': []},\n",
      " 'cmbgb12': {'childs': [], 'parents': []},\n",
      " 'cmbgb13': {'childs': [], 'parents': []},\n",
      " 'cmbgb14': {'childs': [], 'parents': []},\n",
      " 'cmbgb15': {'childs': [], 'parents': []},\n",
      " 'cmbgb16': {'childs': [], 'parents': []},\n",
      " 'cmbgb2': {'childs': [], 'parents': []},\n",
      " 'cmbgb3': {'childs': [], 'parents': []},\n",
      " 'cmbgb4': {'childs': [], 'parents': []},\n",
      " 'cmbgb5': {'childs': [], 'parents': []},\n",
      " 'cmbgb6': {'childs': [], 'parents': []},\n",
      " 'cmbgb7': {'childs': [], 'parents': []},\n",
      " 'cmbgb8': {'childs': [], 'parents': []},\n",
      " 'cmbgb9': {'childs': [], 'parents': []},\n",
      " 'finalize_RandomNumberSequence': {'childs': [], 'parents': []},\n",
      " 'generate_stochastic_clouds': {'childs': ['kissvec'],\n",
      "                                'parents': ['mcica_subcol_lw']},\n",
      " 'getRandomInt': {'childs': [], 'parents': []},\n",
      " 'getRandomNumber_1D': {'childs': [], 'parents': ['getRandomNumber_2D']},\n",
      " 'getRandomNumber_2D': {'childs': ['getRandomNumber_1D'], 'parents': []},\n",
      " 'getRandomNumber_Scalar': {'childs': [], 'parents': []},\n",
      " 'getRandomPositiveInt': {'childs': [], 'parents': []},\n",
      " 'getRandomReal': {'childs': [], 'parents': []},\n",
      " 'initializeRandomNumberStream_S': {'childs': [], 'parents': []},\n",
      " 'initializeRandomNumberStream_V': {'childs': [], 'parents': []},\n",
      " 'initialize_scalar': {'childs': [], 'parents': []},\n",
      " 'initialize_vector': {'childs': [], 'parents': []},\n",
      " 'kissvec': {'childs': [], 'parents': ['generate_stochastic_clouds']},\n",
      " 'lw_kgb01': {'childs': ['getAbsorberIndex'], 'parents': []},\n",
      " 'lw_kgb02': {'childs': [], 'parents': []},\n",
      " 'lw_kgb03': {'childs': ['getAbsorberIndex'], 'parents': []},\n",
      " 'lw_kgb04': {'childs': [], 'parents': []},\n",
      " 'lw_kgb05': {'childs': ['getAbsorberIndex'], 'parents': []},\n",
      " 'lw_kgb06': {'childs': ['getAbsorberIndex'], 'parents': []},\n",
      " 'lw_kgb07': {'childs': ['getAbsorberIndex'], 'parents': []},\n",
      " 'lw_kgb08': {'childs': ['getAbsorberIndex'], 'parents': []},\n",
      " 'lw_kgb09': {'childs': ['getAbsorberIndex'], 'parents': []},\n",
      " 'lw_kgb10': {'childs': [], 'parents': []},\n",
      " 'lw_kgb11': {'childs': ['getAbsorberIndex'], 'parents': []},\n",
      " 'lw_kgb12': {'childs': [], 'parents': []},\n",
      " 'lw_kgb13': {'childs': ['getAbsorberIndex'], 'parents': []},\n",
      " 'lw_kgb14': {'childs': [], 'parents': []},\n",
      " 'lw_kgb15': {'childs': ['getAbsorberIndex'], 'parents': []},\n",
      " 'lw_kgb16': {'childs': [], 'parents': []},\n",
      " 'lwatmref': {'childs': [], 'parents': []},\n",
      " 'lwavplank': {'childs': [], 'parents': []},\n",
      " 'lwavplankderiv': {'childs': [], 'parents': []},\n",
      " 'lwcldpr': {'childs': [], 'parents': []},\n",
      " 'lwcmbdat': {'childs': [], 'parents': []},\n",
      " 'lwdatinit': {'childs': [], 'parents': ['rrtmg_lw_ini']},\n",
      " 'mcica_subcol_lw': {'childs': ['generate_stochastic_clouds'], 'parents': []},\n",
      " 'mixbits': {'childs': [], 'parents': []},\n",
      " 'nextState': {'childs': [], 'parents': []},\n",
      " 'readaer': {'childs': [], 'parents': []},\n",
      " 'readcld': {'childs': [], 'parents': []},\n",
      " 'readprof': {'childs': ['xsident'], 'parents': []},\n",
      " 'rrtmg_lw_ini': {'childs': ['lwdatinit'], 'parents': []},\n",
      " 'rtrn': {'childs': [], 'parents': []},\n",
      " 'rtrnmc': {'childs': [], 'parents': []},\n",
      " 'rtrnmr': {'childs': [], 'parents': []},\n",
      " 'setcoef': {'childs': [], 'parents': []},\n",
      " 'taugb1': {'childs': [], 'parents': []},\n",
      " 'taugb10': {'childs': [], 'parents': []},\n",
      " 'taugb11': {'childs': [], 'parents': []},\n",
      " 'taugb12': {'childs': [], 'parents': []},\n",
      " 'taugb13': {'childs': [], 'parents': []},\n",
      " 'taugb14': {'childs': [], 'parents': []},\n",
      " 'taugb15': {'childs': [], 'parents': []},\n",
      " 'taugb16': {'childs': [], 'parents': []},\n",
      " 'taugb2': {'childs': [], 'parents': []},\n",
      " 'taugb3': {'childs': [], 'parents': []},\n",
      " 'taugb4': {'childs': [], 'parents': []},\n",
      " 'taugb5': {'childs': [], 'parents': []},\n",
      " 'taugb6': {'childs': [], 'parents': []},\n",
      " 'taugb7': {'childs': [], 'parents': []},\n",
      " 'taugb8': {'childs': [], 'parents': []},\n",
      " 'taugb9': {'childs': [], 'parents': []},\n",
      " 'taumol': {'childs': [], 'parents': []},\n",
      " 'twist': {'childs': [], 'parents': []},\n",
      " 'xsident': {'childs': ['cljust'], 'parents': ['readprof']}}\n"
     ]
    }
   ],
   "source": [
    "pprint.pprint(climamisc.Fortran_subroutine_relations_from_files(paths_fortran = fortran_files()))"
   ]
  },
  {
   "cell_type": "code",
   "execution_count": null,
   "metadata": {
    "collapsed": true
   },
   "outputs": [],
   "source": []
  }
 ],
 "metadata": {
  "kernelspec": {
   "display_name": "Python 3",
   "language": "python",
   "name": "python3"
  },
  "language_info": {
   "codemirror_mode": {
    "name": "ipython",
    "version": 3
   },
   "file_extension": ".py",
   "mimetype": "text/x-python",
   "name": "python",
   "nbconvert_exporter": "python",
   "pygments_lexer": "ipython3",
   "version": "3.4.3"
  }
 },
 "nbformat": 4,
 "nbformat_minor": 0
}
