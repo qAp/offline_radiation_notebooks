{
 "cells": [
  {
   "cell_type": "code",
   "execution_count": 47,
   "metadata": {
    "collapsed": true
   },
   "outputs": [],
   "source": [
    "%matplotlib inline\n",
    "import os\n",
    "\n",
    "import pandas as pd\n",
    "import xarray as xr\n",
    "\n",
    "import rtmtools.clirad.sw.wrangle as swwrangle\n",
    "import rtmtools.lblrtm.visualisation as viz"
   ]
  },
  {
   "cell_type": "code",
   "execution_count": 6,
   "metadata": {
    "collapsed": true
   },
   "outputs": [],
   "source": [
    "def filepath():\n",
    "    path_CLIRAD_OUTPUT_gpts = '/nuwa_cluster/home/jackyu/radiation/clirad/LW/examples/mls75_H2O_gpts/OUTPUT_CLIRAD_gpts.dat'\n",
    "    return path_CLIRAD_OUTPUT_gpts"
   ]
  },
  {
   "cell_type": "code",
   "execution_count": 45,
   "metadata": {
    "collapsed": false
   },
   "outputs": [],
   "source": [
    "def plot_pressure_VS_dTdt_linearlog(ds, whichrate = 'heating_rate', ib = 7):\n",
    "    \n",
    "    Nik = 6\n",
    "    \n",
    "    srss = [ds[whichrate].sel(ib = ib, ik = ik).to_pandas() for ik in range(1, Nik + 1)]\n",
    "    names = ['(ib, ik) = ({}, {})'.format(ib, ik) for ik in range(1, Nik + 1)]\n",
    "        \n",
    "    #colours, linestyles = zip(*unique_colour_linestyle_pairs(Npairs = Nik))\n",
    "    colours, linestyles = zip(*viz.matplotlib_colour_linestyle_tuples(N = Nik))\n",
    "    \n",
    "    ylabel, xlabel = 'pressure [mbar]', '{} [deg/day]'.format(whichrate)\n",
    "    title = 'Band {}'.format(ib)\n",
    "    figsize = (15, 10)\n",
    "    \n",
    "    fig = viz.plot_pdseries_indexVSvalues_linearlog(srss = srss,\\\n",
    "                                                names = names,\n",
    "                                                colours = colours,\n",
    "                                                linestyles = linestyles,\n",
    "                                                ylabel = ylabel,\n",
    "                                                xlabel = xlabel,\n",
    "                                                figsize = figsize,\n",
    "                                                title = title)\n",
    "    return fig"
   ]
  },
  {
   "cell_type": "code",
   "execution_count": 22,
   "metadata": {
    "collapsed": false
   },
   "outputs": [],
   "source": [
    "ds = swwrangle.load_clirad_solirgpts(fpath=filepath(),\n",
    "                                     signed_fluxes=True,\n",
    "                                     cooling_rate=True)"
   ]
  },
  {
   "cell_type": "code",
   "execution_count": 82,
   "metadata": {
    "collapsed": false
   },
   "outputs": [
    {
     "data": {
      "image/png": "[encoded data removed]",
      "text/plain": [
       "<matplotlib.figure.Figure at 0x2aad19815320>"
      ]
     },
     "metadata": {},
     "output_type": "display_data"
    }
   ],
   "source": [
    "srs = ds['cooling_rate'].sum(dim=['ib', 'ik']).to_pandas()\n",
    "\n",
    "names = ['total']\n",
    "colours = ['b']\n",
    "linestyles = ['-']\n",
    "ylabel = 'pressure [mbar]'\n",
    "xlabel = 'cooling rate [deg/day]'\n",
    "figsize = (8, 6)\n",
    "title = 'mls H2O'\n",
    "\n",
    "fig = viz.plot_pdseries_indexVSvalues_linearlog(srss=[srs],\n",
    "                                                names=names,\n",
    "                                                colours=colours,\n",
    "                                                linestyles=linestyles,\n",
    "                                                ylabel=ylabel,\n",
    "                                                xlabel=xlabel,\n",
    "                                                figsize=figsize,\n",
    "                                                title=title)"
   ]
  },
  {
   "cell_type": "code",
   "execution_count": 86,
   "metadata": {
    "collapsed": false
   },
   "outputs": [
    {
     "data": {
      "text/plain": [
       "<xray.Dataset>\n",
       "Dimensions:    (pressure: 76)\n",
       "Coordinates:\n",
       "  * pressure   (pressure) float64 0.0 0.0006244 0.0008759 0.001229 0.001723 ...\n",
       "    ib         int64 9\n",
       "    ik         int64 1\n",
       "Data variables:\n",
       "    flux_up    (pressure) float64 0.9585 0.9585 0.9585 0.9585 0.9585 0.9585 ...\n",
       "    flux_down  (pressure) float64 0.0 0.0 0.0 0.0 0.0 0.0 0.0 0.0 0.0 0.0 ..."
      ]
     },
     "execution_count": 86,
     "metadata": {},
     "output_type": "execute_result"
    }
   ],
   "source": [
    "ds.sel(ib=9, ik=1)[['flux_up', 'flux_down']]"
   ]
  },
  {
   "cell_type": "code",
   "execution_count": 107,
   "metadata": {
    "collapsed": false,
    "scrolled": false
   },
   "outputs": [],
   "source": [
    "ds['cooling_rate'].to_dataframe().unstack(['ib', 'ik']).to_excel('mls_H2O_gpts.xlsx')"
   ]
  },
  {
   "cell_type": "code",
   "execution_count": null,
   "metadata": {
    "collapsed": true
   },
   "outputs": [],
   "source": []
  }
 ],
 "metadata": {
  "kernelspec": {
   "display_name": "Python 3",
   "language": "python",
   "name": "python3"
  },
  "language_info": {
   "codemirror_mode": {
    "name": "ipython",
    "version": 3
   },
   "file_extension": ".py",
   "mimetype": "text/x-python",
   "name": "python",
   "nbconvert_exporter": "python",
   "pygments_lexer": "ipython3",
   "version": "3.4.4"
  }
 },
 "nbformat": 4,
 "nbformat_minor": 0
}
