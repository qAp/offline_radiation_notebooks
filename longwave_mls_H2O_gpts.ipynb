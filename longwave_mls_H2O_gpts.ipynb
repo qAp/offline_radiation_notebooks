{
 "cells": [
  {
   "cell_type": "code",
   "execution_count": 2,
   "metadata": {
    "collapsed": true
   },
   "outputs": [],
   "source": [
    "%matplotlib inline\n",
    "import os\n",
    "\n",
    "import pandas as pd\n",
    "import xarray as xr\n",
    "\n",
    "import rtmtools.clirad.sw.wrangle as swwrangle\n",
    "import rtmtools.lblrtm.visualisation as viz"
   ]
  },
  {
   "cell_type": "code",
   "execution_count": 3,
   "metadata": {
    "collapsed": true
   },
   "outputs": [],
   "source": [
    "dir_run = '/nuwa_cluster/home/jackyu/radiation/clirad/LW/examples/mls75_H2O_gpts'"
   ]
  },
  {
   "cell_type": "code",
   "execution_count": 27,
   "metadata": {
    "collapsed": true
   },
   "outputs": [],
   "source": [
    "def filepath():\n",
    "    path_CLIRAD_OUTPUT_gpts = '/nuwa_cluster/home/jackyu/radiation/clirad/LW/examples/mls75_H2O_gpts/OUTPUT_CLIRAD_gpts.dat'\n",
    "    return path_CLIRAD_OUTPUT_gpts\n",
    "\n",
    "\n",
    "def filepath_trank():\n",
    "    rundir = '/nuwa_cluster/home/jackyu/radiation/clirad/LW/examples/mls75_H2O_gpts'\n",
    "    filename = 'trank.dat'\n",
    "    return os.path.join(rundir, filename)\n",
    "\n",
    "\n",
    "def load_trank_data(filepath='trank.dat'):\n",
    "    df = pd.read_csv(filepath,\n",
    "                     sep=r'\\s+')\n",
    "    return df\n",
    "\n",
    "\n",
    "def organise_th2o():\n",
    "    df = pd.read_csv(os.path.join(dir_run, 'th2o.dat'), sep=r'\\s+')\n",
    "    df = df.drop('i', axis=1)\n",
    "    df = df.set_index(['k1', 'k2', 'ibn', 'ik'])\n",
    "    df = df.unstack(['ibn', 'ik'])\n",
    "    return df\n",
    "\n",
    "\n",
    "def export_to_excel():\n",
    "    with pd.ExcelWriter('mls_H2O_gpts.xlsx') as writer:\n",
    "        \n",
    "        df_coolingrate = ds['cooling_rate']\\\n",
    "                             .to_dataframe()\\\n",
    "                             .unstack(['ib', 'ik'])\n",
    "                \n",
    "        df_fluxes = ds[['flux_up', 'flux_down']]\\\n",
    "                        .to_dataframe()\\\n",
    "                        .stack().unstack([0, 1, 3])\n",
    "        \n",
    "        df_h2o = organise_th2o()\n",
    "        \n",
    "        df_coolingrate.to_excel(writer, sheet_name='cooling_rate')\n",
    "        df_fluxes.to_excel(writer, sheet_name='fluxes')\n",
    "        df_h2o.to_excel(writer, sheet_name='th2o')"
   ]
  },
  {
   "cell_type": "code",
   "execution_count": 21,
   "metadata": {
    "collapsed": false
   },
   "outputs": [],
   "source": [
    "def plot_pressure_VS_dTdt_linearlog(ds, whichrate = 'heating_rate', ib = 7):\n",
    "    \n",
    "    Nik = 6\n",
    "    \n",
    "    srss = [ds[whichrate].sel(ib = ib, ik = ik).to_pandas() for ik in range(1, Nik + 1)]\n",
    "    names = ['(ib, ik) = ({}, {})'.format(ib, ik) for ik in range(1, Nik + 1)]\n",
    "        \n",
    "    #colours, linestyles = zip(*unique_colour_linestyle_pairs(Npairs = Nik))\n",
    "    colours, linestyles = zip(*viz.matplotlib_colour_linestyle_tuples(N = Nik))\n",
    "    \n",
    "    ylabel, xlabel = 'pressure [mbar]', '{} [deg/day]'.format(whichrate)\n",
    "    title = 'Band {}'.format(ib)\n",
    "    figsize = (15, 10)\n",
    "    \n",
    "    fig = viz.plot_pdseries_indexVSvalues_linearlog(srss = srss,\\\n",
    "                                                names = names,\n",
    "                                                colours = colours,\n",
    "                                                linestyles = linestyles,\n",
    "                                                ylabel = ylabel,\n",
    "                                                xlabel = xlabel,\n",
    "                                                figsize = figsize,\n",
    "                                                title = title)\n",
    "    return fig"
   ]
  },
  {
   "cell_type": "code",
   "execution_count": 28,
   "metadata": {
    "collapsed": false
   },
   "outputs": [],
   "source": [
    "ds = swwrangle.load_clirad_solirgpts(fpath=filepath(),\n",
    "                                     signed_fluxes=True,\n",
    "                                     cooling_rate=True)"
   ]
  },
  {
   "cell_type": "code",
   "execution_count": 29,
   "metadata": {
    "collapsed": true
   },
   "outputs": [],
   "source": [
    "def export_to_excel():\n",
    "    with pd.ExcelWriter('mls_H2O_gpts.xlsx') as writer:\n",
    "        \n",
    "        df_coolingrate = ds['cooling_rate']\\\n",
    "                             .to_dataframe()\\\n",
    "                             .unstack(['ib', 'ik'])\n",
    "                \n",
    "        df_fluxes = ds[['flux_up', 'flux_down']]\\\n",
    "                        .to_dataframe()\\\n",
    "                        .stack().unstack([0, 1, 3])\n",
    "        \n",
    "        df_h2o = organise_th2o()\n",
    "        \n",
    "        df_coolingrate.to_excel(writer, sheet_name='cooling_rate')\n",
    "        df_fluxes.to_excel(writer, sheet_name='fluxes')\n",
    "        df_h2o.to_excel(writer, sheet_name='th2o')"
   ]
  },
  {
   "cell_type": "code",
   "execution_count": 30,
   "metadata": {
    "collapsed": false
   },
   "outputs": [],
   "source": [
    "export_to_excel()"
   ]
  },
  {
   "cell_type": "code",
   "execution_count": 125,
   "metadata": {
    "collapsed": false
   },
   "outputs": [
    {
     "data": {
      "image/png": "[encoded data removed]",
      "text/plain": [
       "<matplotlib.figure.Figure at 0x2aad1c1d2668>"
      ]
     },
     "metadata": {},
     "output_type": "display_data"
    }
   ],
   "source": [
    "srs = ds['cooling_rate'].sum(dim=['ib', 'ik']).to_pandas()\n",
    "\n",
    "names = ['total']\n",
    "colours = ['b']\n",
    "linestyles = ['-']\n",
    "ylabel = 'pressure [mbar]'\n",
    "xlabel = 'cooling rate [deg/day]'\n",
    "figsize = (8, 6)\n",
    "title = 'mls H2O'\n",
    "\n",
    "fig = viz.plot_pdseries_indexVSvalues_linearlog(srss=[srs],\n",
    "                                                names=names,\n",
    "                                                colours=colours,\n",
    "                                                linestyles=linestyles,\n",
    "                                                ylabel=ylabel,\n",
    "                                                xlabel=xlabel,\n",
    "                                                figsize=figsize,\n",
    "                                                title=title)"
   ]
  },
  {
   "cell_type": "code",
   "execution_count": 15,
   "metadata": {
    "collapsed": false
   },
   "outputs": [
    {
     "name": "stdout",
     "output_type": "stream",
     "text": [
      "atmpro_mls70_CH4.h5\r\n",
      "atmpro_mls70_H2O_CO2.h5\r\n",
      "atmpro_mls70_H2O_CO2_O3.h5\r\n",
      "atmpro_mls70_H2O_O3.h5\r\n",
      "atmpro_mls70_N2O.h5\r\n",
      "atmpro_preparation.ipynb\r\n",
      "integrated_line_intensity_comparisons.xlsx\r\n",
      "lblrtm_solar_TAPE13.ipynb\r\n",
      "line_by_line_absorption_data.ipynb\r\n",
      "linestrength_comparison.ipynb\r\n",
      "linestrength_varying_temperature.ipynb\r\n",
      "longwave_mls_CH4.ipynb\r\n",
      "longwave_mls_CO2.ipynb\r\n",
      "longwave_mls_H2O_CO2.ipynb\r\n",
      "longwave_mls_H2O_CO2_O3_cont.ipynb\r\n",
      "longwave_mls_H2O_CO2_O3.ipynb\r\n",
      "longwave_mls_H2O_gpts.ipynb\r\n",
      "longwave_mls_H2O.ipynb\r\n",
      "longwave_mls_H2O_O3.ipynb\r\n",
      "longwave_mls_N2O.ipynb\r\n",
      "longwave_mls_O3.ipynb\r\n",
      "longwave_write_out_result_summaries.ipynb\r\n",
      "mls_H2O_gpts.xlsx\r\n",
      "notes_-_CLIRAD_LW.ipynb\r\n",
      "O3_abs.ipynb\r\n",
      "results_summary\r\n",
      "rrtmg_aerosol\r\n",
      "shortwave_mls75_H2O_solzen_xs_H2012.ipynb\r\n",
      "shortwave_mls_CO2.ipynb\r\n",
      "shortwave_mls_H2O.ipynb\r\n",
      "shortwave_mls_H2O_solir_gpts.ipynb\r\n",
      "shortwave_mls_H2O_solir_gpts_newparams.ipynb\r\n",
      "shortwave_mls_O3.ipynb\r\n",
      "shortwave_write_out_result_summaries.ipynb\r\n",
      "solar_spectral_irradiance.ipynb\r\n",
      "trace_rrtmg_column_model.ipynb\r\n",
      "Untitled.ipynb\r\n"
     ]
    }
   ],
   "source": [
    "!ls"
   ]
  },
  {
   "cell_type": "code",
   "execution_count": 25,
   "metadata": {
    "collapsed": false
   },
   "outputs": [],
   "source": [
    "organise_th2o??"
   ]
  },
  {
   "cell_type": "code",
   "execution_count": null,
   "metadata": {
    "collapsed": true
   },
   "outputs": [],
   "source": []
  }
 ],
 "metadata": {
  "kernelspec": {
   "display_name": "Python 3",
   "language": "python",
   "name": "python3"
  },
  "language_info": {
   "codemirror_mode": {
    "name": "ipython",
    "version": 3
   },
   "file_extension": ".py",
   "mimetype": "text/x-python",
   "name": "python",
   "nbconvert_exporter": "python",
   "pygments_lexer": "ipython3",
   "version": "3.4.4"
  }
 },
 "nbformat": 4,
 "nbformat_minor": 0
}
