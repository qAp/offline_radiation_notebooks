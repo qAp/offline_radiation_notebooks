{
 "cells": [
  {
   "cell_type": "markdown",
   "metadata": {},
   "source": [
    "### Convert coefficients of parameterization from F77 to F90\n",
    "\n",
    "Coefficients are originally declared in the offline code, which is in F77.  In order to use these in the global model, they need to be re-expressed in F90, before being inserted into the global model source code."
   ]
  },
  {
   "cell_type": "code",
   "execution_count": 21,
   "metadata": {
    "collapsed": true
   },
   "outputs": [],
   "source": [
    "import os\n",
    "import io\n",
    "import collections\n",
    "import re\n",
    "import itertools\n",
    "\n",
    "import numpy as np\n",
    "import pandas as pd\n",
    "import xarray as xr"
   ]
  },
  {
   "cell_type": "code",
   "execution_count": 192,
   "metadata": {
    "collapsed": true
   },
   "outputs": [],
   "source": [
    "dir_f77 = '/nuwa_cluster/home/jackyu/radiation/clirad/LW/src'\n",
    "files_trans = {'h2o': 'h2o_tran3.F',\n",
    "               'co2': 'co2_tran4.F',\n",
    "               'o3': 'o3_tran3.F'}\n",
    "\n",
    "band1_trans = dict(h2o=[1, 2, 8], co2=[1], o3=[1])\n",
    "band2_trans = dict(h2o=[1, 2, 3], co2=[1, 2, 3], o3=[1, 2, 3])\n",
    "num_pressures_trans = dict(h2o=26, co2=26, o3=26)\n",
    "num_amounts_trans = dict(h2o=31, co2=30, o3=21)"
   ]
  },
  {
   "cell_type": "code",
   "execution_count": 221,
   "metadata": {
    "collapsed": true
   },
   "outputs": [],
   "source": [
    "gas = 'o3'"
   ]
  },
  {
   "cell_type": "code",
   "execution_count": 233,
   "metadata": {
    "collapsed": true
   },
   "outputs": [],
   "source": [
    "def load_gas_trans(gas='h2o', dir_f77='./'):\n",
    "    '''\n",
    "    Get gas transmission values from CLIRAD-LW offline model and\n",
    "    store them in xarray.DataArray\n",
    "    \n",
    "    Parameters\n",
    "    ----------\n",
    "    gas: name of the gas: h2o, co2, or o3\n",
    "    dir_f77: directory containing F77 files containing transmissions\n",
    "    '''\n",
    "    with open(os.path.join(dir_f77, files_trans[gas]), \n",
    "              encoding='utf-8', mode='r') as file:\n",
    "        content = file.read()\n",
    "        \n",
    "    lines_data = (l for l in content.split('\\n') if '&' in l)\n",
    "    str_data = ''.join(lines_data)\n",
    "    str_data = str_data.replace('&', '').replace('/', '')\\\n",
    "               .replace(',', '')\n",
    "    \n",
    "    df = pd.read_csv(io.StringIO(str_data), sep=r'\\s+', header=None)\n",
    "    data = np.squeeze(df).values\n",
    "    \n",
    "    num_band1s = len(band1_trans[gas])\n",
    "    num_band2s = len(band2_trans[gas])\n",
    "    num_pressures = num_pressures_trans[gas]\n",
    "    num_amounts = num_amounts_trans[gas]\n",
    "    \n",
    "    data_ibs = data.reshape(num_band1s, int(data.shape[0] / num_band1s))\n",
    "    \n",
    "    pressure = range(1, num_pressures + 1)\n",
    "    amount = range(1, num_amounts + 1)\n",
    "\n",
    "    list_da_band1s = [xr.DataArray(data_ib.reshape(num_pressures, \n",
    "                                                   num_band2s, \n",
    "                                                   num_amounts),\n",
    "                                   dims=['pressure', 'band2', 'amount'],\n",
    "                                   coords=[pressure, \n",
    "                                           band2_trans[gas], \n",
    "                                           amount]) \n",
    "                      for data_ib in data_ibs]\n",
    "\n",
    "    da = xr.concat(list_da_band1s, dim='band1')\n",
    "    da.coords['band1'] = ('band1', band1_trans[gas])\n",
    "    return da"
   ]
  },
  {
   "cell_type": "code",
   "execution_count": 247,
   "metadata": {
    "collapsed": false,
    "scrolled": false
   },
   "outputs": [],
   "source": [
    "da_h2o = load_gas_trans(gas='h2o', dir_f77=dir_f77)"
   ]
  },
  {
   "cell_type": "code",
   "execution_count": 236,
   "metadata": {
    "collapsed": false
   },
   "outputs": [],
   "source": [
    "da_co2 = load_gas_trans(gas='co2', dir_f77=dir_f77)"
   ]
  },
  {
   "cell_type": "code",
   "execution_count": 240,
   "metadata": {
    "collapsed": true
   },
   "outputs": [],
   "source": [
    "da_o3 = load_gas_trans(gas='o3', dir_f77=dir_f77)"
   ]
  },
  {
   "cell_type": "code",
   "execution_count": 255,
   "metadata": {
    "collapsed": false
   },
   "outputs": [],
   "source": [
    "writedata = da_o3.sel(pressure=3, band2=3, band1=1).values.copy()"
   ]
  },
  {
   "cell_type": "code",
   "execution_count": 256,
   "metadata": {
    "collapsed": false
   },
   "outputs": [],
   "source": [
    "writedata.resize((5, 5))"
   ]
  },
  {
   "cell_type": "code",
   "execution_count": 257,
   "metadata": {
    "collapsed": false
   },
   "outputs": [
    {
     "data": {
      "text/plain": [
       "array([[ -2.43300000e-11,  -4.81500000e-11,  -9.45300000e-11,\n",
       "         -1.82500000e-10,  -3.40000000e-10],\n",
       "       [ -6.21500000e-10,  -1.00700000e-09,  -1.41500000e-09,\n",
       "         -1.25300000e-09,   8.14300000e-10],\n",
       "       [  6.26900000e-09,   1.18600000e-08,   2.60400000e-09,\n",
       "         -4.06700000e-08,  -1.26400000e-07],\n",
       "       [ -2.57900000e-07,  -4.32100000e-07,  -6.22900000e-07,\n",
       "         -7.73200000e-07,  -8.27700000e-07],\n",
       "       [ -7.75200000e-07,   0.00000000e+00,   0.00000000e+00,\n",
       "          0.00000000e+00,   0.00000000e+00]])"
      ]
     },
     "execution_count": 257,
     "metadata": {},
     "output_type": "execute_result"
    }
   ],
   "source": [
    "writedata"
   ]
  },
  {
   "cell_type": "code",
   "execution_count": null,
   "metadata": {
    "collapsed": true
   },
   "outputs": [],
   "source": []
  }
 ],
 "metadata": {
  "kernelspec": {
   "display_name": "Python 3",
   "language": "python",
   "name": "python3"
  },
  "language_info": {
   "codemirror_mode": {
    "name": "ipython",
    "version": 3
   },
   "file_extension": ".py",
   "mimetype": "text/x-python",
   "name": "python",
   "nbconvert_exporter": "python",
   "pygments_lexer": "ipython3",
   "version": "3.4.4"
  }
 },
 "nbformat": 4,
 "nbformat_minor": 0
}
