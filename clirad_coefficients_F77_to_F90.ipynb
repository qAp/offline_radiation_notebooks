{
 "cells": [
  {
   "cell_type": "markdown",
   "metadata": {},
   "source": [
    "### Convert coefficients of parameterization from F77 to F90\n",
    "\n",
    "Coefficients are originally declared in the offline code, which is in F77.  In order to use these in the global model, they need to be re-expressed in F90, before being inserted into the global model source code."
   ]
  },
  {
   "cell_type": "code",
   "execution_count": 21,
   "metadata": {
    "collapsed": true
   },
   "outputs": [],
   "source": [
    "import os\n",
    "import io\n",
    "import collections\n",
    "import re\n",
    "import itertools\n",
    "\n",
    "import numpy as np\n",
    "import pandas as pd\n",
    "import xarray as xr"
   ]
  },
  {
   "cell_type": "code",
   "execution_count": 192,
   "metadata": {
    "collapsed": true
   },
   "outputs": [],
   "source": [
    "dir_f77 = '/nuwa_cluster/home/jackyu/radiation/clirad/LW/src'\n",
    "files_trans = {'h2o': 'h2o_tran3.F',\n",
    "               'co2': 'co2_tran4.F',\n",
    "               'o3': 'o3_tran3.F'}\n",
    "\n",
    "band1_trans = dict(h2o=[1, 2, 8], co2=[1], o3=[1])\n",
    "band2_trans = dict(h2o=[1, 2, 3], co2=[1, 2, 3], o3=[1, 2, 3])\n",
    "num_pressures_trans = dict(h2o=26, co2=26, o3=26)\n",
    "num_amounts_trans = dict(h2o=31, co2=30, o3=21)"
   ]
  },
  {
   "cell_type": "code",
   "execution_count": 221,
   "metadata": {
    "collapsed": true
   },
   "outputs": [],
   "source": [
    "gas = 'o3'"
   ]
  },
  {
   "cell_type": "code",
   "execution_count": 233,
   "metadata": {
    "collapsed": true
   },
   "outputs": [],
   "source": [
    "def load_gas_trans(gas='h2o', dir_f77='./'):\n",
    "    '''\n",
    "    Get gas transmission values from CLIRAD-LW offline model and\n",
    "    store them in xarray.DataArray\n",
    "    \n",
    "    Parameters\n",
    "    ----------\n",
    "    gas: name of the gas: h2o, co2, or o3\n",
    "    dir_f77: directory containing F77 files containing transmissions\n",
    "    '''\n",
    "    with open(os.path.join(dir_f77, files_trans[gas]), \n",
    "              encoding='utf-8', mode='r') as file:\n",
    "        content = file.read()\n",
    "        \n",
    "    lines_data = (l for l in content.split('\\n') if '&' in l)\n",
    "    str_data = ''.join(lines_data)\n",
    "    str_data = str_data.replace('&', '').replace('/', '')\\\n",
    "               .replace(',', '')\n",
    "    \n",
    "    df = pd.read_csv(io.StringIO(str_data), sep=r'\\s+', header=None)\n",
    "    data = np.squeeze(df).values\n",
    "    \n",
    "    num_band1s = len(band1_trans[gas])\n",
    "    num_band2s = len(band2_trans[gas])\n",
    "    num_pressures = num_pressures_trans[gas]\n",
    "    num_amounts = num_amounts_trans[gas]\n",
    "    \n",
    "    data_ibs = data.reshape(num_band1s, int(data.shape[0] / num_band1s))\n",
    "    \n",
    "    pressure = range(1, num_pressures + 1)\n",
    "    amount = range(1, num_amounts + 1)\n",
    "\n",
    "    list_da_band1s = [xr.DataArray(data_ib.reshape(num_pressures, \n",
    "                                                   num_band2s, \n",
    "                                                   num_amounts),\n",
    "                                   dims=['pressure', 'band2', 'amount'],\n",
    "                                   coords=[pressure, \n",
    "                                           band2_trans[gas], \n",
    "                                           amount]) \n",
    "                      for data_ib in data_ibs]\n",
    "\n",
    "    da = xr.concat(list_da_band1s, dim='band1')\n",
    "    da.coords['band1'] = ('band1', band1_trans[gas])\n",
    "    return da"
   ]
  },
  {
   "cell_type": "code",
   "execution_count": 247,
   "metadata": {
    "collapsed": false,
    "scrolled": false
   },
   "outputs": [],
   "source": [
    "da_h2o = load_gas_trans(gas='h2o', dir_f77=dir_f77)"
   ]
  },
  {
   "cell_type": "code",
   "execution_count": 236,
   "metadata": {
    "collapsed": false
   },
   "outputs": [],
   "source": [
    "da_co2 = load_gas_trans(gas='co2', dir_f77=dir_f77)"
   ]
  },
  {
   "cell_type": "code",
   "execution_count": 240,
   "metadata": {
    "collapsed": true
   },
   "outputs": [],
   "source": [
    "da_o3 = load_gas_trans(gas='o3', dir_f77=dir_f77)"
   ]
  },
  {
   "cell_type": "code",
   "execution_count": 418,
   "metadata": {
    "collapsed": false
   },
   "outputs": [],
   "source": [
    "def str_iw(da=None, gas='h2o', band1=1, band2=1, pressure=1):\n",
    "    '''\n",
    "    Returns string for gas transmittance for some gas, band1, band2\n",
    "    and pressure in F90 syntax.\n",
    "    \n",
    "    Parameters\n",
    "    ----------\n",
    "    da: xarray.DataArray containing transmittance for gas.\n",
    "    gas: name of the gas corresponding to da.\n",
    "    band1: band 1. Can be 1, 2, or 8 for h2o.  \n",
    "           Can only be 1 for co2 and o3.\n",
    "    band2: band 2.  Can be 1, 2, or 3.\n",
    "    pressure: pressure interval.\n",
    "    '''\n",
    "    writedata = list(da.sel(band1=band1, \n",
    "                            band2=band2,\n",
    "                            pressure=pressure).values)\n",
    "\n",
    "    fmt_num = ' {:> 12e}_r8'\n",
    "\n",
    "    if gas == 'h2o':\n",
    "        str_gas = 'h{band1}{band2}'.format(band1=band1, band2=band2)\n",
    "    elif gas == 'co2':\n",
    "        str_gas = 'c{band2}'.format(band2=band2)\n",
    "    elif gas == 'o3':\n",
    "        str_gas = 'o{band2}'.format(band2=band2)\n",
    "    \n",
    "    numbers_lines = []\n",
    "    while True:\n",
    "        numbers = []\n",
    "        try:\n",
    "            for _ in range(3):\n",
    "                numbers.append(writedata.pop(0))\n",
    "        except IndexError:\n",
    "                if numbers:\n",
    "                    numbers_lines.append(numbers)\n",
    "                break\n",
    "        else:\n",
    "            numbers_lines.append(numbers)\n",
    "\n",
    "\n",
    "    str_lines = []        \n",
    "    for nums in numbers_lines[:-1]:\n",
    "        str_line = ','.join(fmt_num.format(num) for num in nums)\n",
    "        str_line += ', &'\n",
    "        str_lines.append(str_line)\n",
    "\n",
    "    str_line = ','.join(fmt_num.format(num) for num in numbers_lines[-1])\n",
    "    str_line += '/)'\n",
    "    str_lines.append(str_line)\n",
    "\n",
    "    str_line = '{} ({:2d}, :) = (/ &'.format(str_gas, pressure)\n",
    "    str_lines.insert(0, str_line)    \n",
    "    \n",
    "    return '\\n'.join(str_lines)"
   ]
  },
  {
   "cell_type": "code",
   "execution_count": 422,
   "metadata": {
    "collapsed": false
   },
   "outputs": [
    {
     "name": "stdout",
     "output_type": "stream",
     "text": [
      "h81 (21, :) = (/ &\n",
      "  9.999864e-01_r8,  9.999729e-01_r8,  9.999461e-01_r8, &\n",
      "  9.998930e-01_r8,  9.997890e-01_r8,  9.995871e-01_r8, &\n",
      "  9.992027e-01_r8,  9.984920e-01_r8,  9.972310e-01_r8, &\n",
      "  9.951140e-01_r8,  9.917710e-01_r8,  9.867800e-01_r8, &\n",
      "  9.796300e-01_r8,  9.696200e-01_r8,  9.557300e-01_r8, &\n",
      "  9.365800e-01_r8,  9.103700e-01_r8,  8.750000e-01_r8, &\n",
      "  8.280000e-01_r8,  7.673000e-01_r8,  6.911000e-01_r8, &\n",
      "  5.993000e-01_r8,  4.948000e-01_r8,  3.837000e-01_r8, &\n",
      "  2.759000e-01_r8,  1.821000e-01_r8,  1.095000e-01_r8, &\n",
      "  5.919999e-02_r8,  2.800000e-02_r8,  1.130003e-02_r8, &\n",
      "  3.899990e-03_r8/)\n"
     ]
    }
   ],
   "source": [
    "print(str_iw(da_h2o, band1=8, band2=1, pressure=21))"
   ]
  },
  {
   "cell_type": "code",
   "execution_count": null,
   "metadata": {
    "collapsed": true
   },
   "outputs": [],
   "source": []
  }
 ],
 "metadata": {
  "kernelspec": {
   "display_name": "Python 3",
   "language": "python",
   "name": "python3"
  },
  "language_info": {
   "codemirror_mode": {
    "name": "ipython",
    "version": 3
   },
   "file_extension": ".py",
   "mimetype": "text/x-python",
   "name": "python",
   "nbconvert_exporter": "python",
   "pygments_lexer": "ipython3",
   "version": "3.4.4"
  }
 },
 "nbformat": 4,
 "nbformat_minor": 0
}
