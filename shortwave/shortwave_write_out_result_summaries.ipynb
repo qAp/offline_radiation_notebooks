{
 "metadata": {
  "name": "",
  "signature": "sha256:8926f3c480bb1851ae9740da94ac9f9adcfaea120aa38604feda05ad55194b0a"
 },
 "nbformat": 3,
 "nbformat_minor": 0,
 "worksheets": [
  {
   "cells": [
    {
     "cell_type": "code",
     "collapsed": false,
     "input": [
      "%pylab inline\n",
      "from IPython import display\n",
      "import os\n",
      "import io\n",
      "import itertools\n",
      "import collections\n",
      "import matplotlib.pyplot as plt\n",
      "import numpy as np\n",
      "import pandas as pd\n",
      "import importlib\n",
      "\n",
      "import rtmtools.lblrtm.aerutils as aerutils\n",
      "import rtmtools.lblrtm.aeranalyse as aeranalyse\n",
      "import rtmtools.lblrtm.visualisation as viz\n",
      "\n",
      "import rtmtools.clirad.sw.wrangle as cliradwrangle\n",
      "import rtmtools.clirad.sw.analyse as cliradanalyse\n",
      "import rtmtools.clirad.sw.info\n",
      "\n",
      "import rtmtools.rrtmg.sw.wrangle as rrtmgwrangle\n",
      "import rtmtools.rrtmg.sw.analyse as rrtmganalyse\n",
      "\n",
      "\n",
      "\n",
      "importlib.reload(aerutils)\n",
      "importlib.reload(aeranalyse)\n",
      "importlib.reload(viz)\n",
      "\n",
      "importlib.reload(cliradwrangle)\n",
      "importlib.reload(cliradanalyse)\n",
      "importlib.reload(rtmtools.clirad.sw.info)\n",
      "\n",
      "importlib.reload(rrtmgwrangle)\n",
      "importlib.reload(rrtmganalyse)\n"
     ],
     "language": "python",
     "metadata": {},
     "outputs": [
      {
       "output_type": "stream",
       "stream": "stdout",
       "text": [
        "Populating the interactive namespace from numpy and matplotlib\n"
       ]
      },
      {
       "metadata": {},
       "output_type": "pyout",
       "prompt_number": 2,
       "text": [
        "<module 'rtmtools.rrtmg.sw.analyse' from '/nuwa_cluster/home/jackyu/radiation/rtmtools/rtmtools/rrtmg/sw/analyse.py'>"
       ]
      }
     ],
     "prompt_number": 2
    },
    {
     "cell_type": "markdown",
     "metadata": {},
     "source": [
      "#### Load all available results"
     ]
    },
    {
     "cell_type": "code",
     "collapsed": false,
     "input": [
      "molecule_names = ['H2O', 'CO2', 'O3']\n",
      "model_names = ['CRD', 'CLIRAD', 'RRTMG']"
     ],
     "language": "python",
     "metadata": {},
     "outputs": [],
     "prompt_number": 93
    },
    {
     "cell_type": "code",
     "collapsed": false,
     "input": [
      "# load CRD results"
     ],
     "language": "python",
     "metadata": {},
     "outputs": [],
     "prompt_number": 4
    },
    {
     "cell_type": "code",
     "collapsed": false,
     "input": [
      "path_crd_H2O = '/nuwa_cluster/home/jackyu/radiation/crd/SW/examples/mls75_H2O/OUTPUT_CRD.dat'"
     ],
     "language": "python",
     "metadata": {},
     "outputs": [],
     "prompt_number": 5
    },
    {
     "cell_type": "code",
     "collapsed": false,
     "input": [
      "pnl_crd = aerutils.OUTPUT_RADSUM_to_pandasPanel(readfrom = path_crd_H2O, signed_fluxes = True)"
     ],
     "language": "python",
     "metadata": {},
     "outputs": [],
     "prompt_number": 6
    },
    {
     "cell_type": "code",
     "collapsed": false,
     "input": [
      "pnl_crd_H2O = pnl_crd"
     ],
     "language": "python",
     "metadata": {},
     "outputs": [],
     "prompt_number": 7
    },
    {
     "cell_type": "code",
     "collapsed": false,
     "input": [
      "path_crd_CO2 = '/nuwa_cluster/home/jackyu/radiation/crd/SW/examples/mls75_CO2/OUTPUT_CRD.dat'"
     ],
     "language": "python",
     "metadata": {},
     "outputs": [],
     "prompt_number": 68
    },
    {
     "cell_type": "code",
     "collapsed": false,
     "input": [
      "pnl_crd_CO2 = aerutils.OUTPUT_RADSUM_to_pandasPanel(readfrom = path_crd_CO2, signed_fluxes = True)"
     ],
     "language": "python",
     "metadata": {},
     "outputs": [],
     "prompt_number": 69
    },
    {
     "cell_type": "code",
     "collapsed": false,
     "input": [
      "path_crd_O3 = '/nuwa_cluster/home/jackyu/radiation/crd/SW/examples/mls75_O3/OUTPUT_CRD.dat'"
     ],
     "language": "python",
     "metadata": {},
     "outputs": [],
     "prompt_number": 8
    },
    {
     "cell_type": "code",
     "collapsed": false,
     "input": [
      "pnl_crd_O3 = aerutils.OUTPUT_RADSUM_to_pandasPanel(readfrom = path_crd_O3, signed_fluxes = True)"
     ],
     "language": "python",
     "metadata": {},
     "outputs": [],
     "prompt_number": 9
    },
    {
     "cell_type": "code",
     "collapsed": false,
     "input": [
      "pnls_crd = [pnl_crd_H2O, pnl_crd_CO2, pnl_crd_O3]"
     ],
     "language": "python",
     "metadata": {},
     "outputs": [],
     "prompt_number": 70
    },
    {
     "cell_type": "code",
     "collapsed": false,
     "input": [
      "# load CLIRAD results"
     ],
     "language": "python",
     "metadata": {},
     "outputs": [],
     "prompt_number": 11
    },
    {
     "cell_type": "code",
     "collapsed": false,
     "input": [
      "paths_clirad = ['/nuwa_cluster/home/jackyu/radiation/clirad/SW/examples/mls75_{}/OUTPUT_CLIRAD.dat'.format(name) \\\n",
      "                for name in molecule_names]"
     ],
     "language": "python",
     "metadata": {},
     "outputs": [],
     "prompt_number": 95
    },
    {
     "cell_type": "code",
     "collapsed": false,
     "input": [
      "pnls_clirad = [cliradwrangle.OUTPUT_CLIRAD_to_PandasPanel(readfrom = path, signed_fluxes = True)\\\n",
      "               for path in paths_clirad]"
     ],
     "language": "python",
     "metadata": {},
     "outputs": [],
     "prompt_number": 96
    },
    {
     "cell_type": "code",
     "collapsed": false,
     "input": [
      "# load RRTMG results"
     ],
     "language": "python",
     "metadata": {},
     "outputs": [],
     "prompt_number": 14
    },
    {
     "cell_type": "code",
     "collapsed": false,
     "input": [
      "paths_rrtmg = ['/nuwa_cluster/home/jackyu/radiation/rrtmg/SW/examples/mls_71lvls_{}/OUTPUT_RRTM'.format(name)\\\n",
      "               for name in molecule_names]"
     ],
     "language": "python",
     "metadata": {},
     "outputs": [],
     "prompt_number": 97
    },
    {
     "cell_type": "code",
     "collapsed": false,
     "input": [
      "pnls_rrtmg = [rrtmgwrangle.OUTPUT_RRTM_to_pandasPanel(readfrom = path, signed_fluxes = True)\\\n",
      "              for path in paths_rrtmg]"
     ],
     "language": "python",
     "metadata": {},
     "outputs": [],
     "prompt_number": 98
    },
    {
     "cell_type": "markdown",
     "metadata": {},
     "source": [
      "#### Sum over 1000 ~ 50000 cm-1 or all wave number bands"
     ]
    },
    {
     "cell_type": "code",
     "collapsed": false,
     "input": [
      "v1, v2 = 1000., 50000\n",
      "wbands = range(1, 8 + 1)"
     ],
     "language": "python",
     "metadata": {},
     "outputs": [],
     "prompt_number": 99
    },
    {
     "cell_type": "code",
     "collapsed": false,
     "input": [
      "dfs_crd = [aeranalyse.sum_OUTPUT_RADSUM_over_wbands(pnl, V1 = 1000., V2 = 50000.) for pnl in pnls_crd]"
     ],
     "language": "python",
     "metadata": {},
     "outputs": [],
     "prompt_number": 100
    },
    {
     "cell_type": "code",
     "collapsed": false,
     "input": [
      "dfs_clirad = [cliradanalyse.sum_OUTPUT_CLIRAD_over_wbands(pnl, wbands = range(1, 8 + 1)) for pnl in pnls_clirad]"
     ],
     "language": "python",
     "metadata": {},
     "outputs": [],
     "prompt_number": 101
    },
    {
     "cell_type": "code",
     "collapsed": false,
     "input": [
      "dfs_rrtmg = [aeranalyse.sum_OUTPUT_RADSUM_over_wbands(pnl, V1 = v1, V2 = v2) for pnl in pnls_rrtmg]"
     ],
     "language": "python",
     "metadata": {},
     "outputs": [],
     "prompt_number": 102
    },
    {
     "cell_type": "markdown",
     "metadata": {},
     "source": [
      "#### Normalise fluxes to TOA downward flux in CRD"
     ]
    },
    {
     "cell_type": "code",
     "collapsed": false,
     "input": [
      "def normalise_TOA_flux_down(df, normalise_to):\n",
      "    df.loc[:, ['flux_up', 'flux_down', 'net_flux']] *= \\\n",
      "    (normalise_to.loc[df.index[0], 'flux_down'] / \\\n",
      "     df.loc[df.index[0], 'flux_down'])\n",
      "    return df"
     ],
     "language": "python",
     "metadata": {},
     "outputs": [],
     "prompt_number": 79
    },
    {
     "cell_type": "code",
     "collapsed": false,
     "input": [
      "dfs_clirad = [normalise_TOA_flux_down(df_clirad, normalise_to = df_crd) \\\n",
      "              for df_clirad, df_crd in zip(dfs_clirad, dfs_crd)]\n",
      "dfs_rrtmg = [normalise_TOA_flux_down(df_rrtmg, normalise_to = df_crd) \\\n",
      "             for df_rrtmg, df_crd in zip(dfs_rrtmg, dfs_crd)]"
     ],
     "language": "python",
     "metadata": {},
     "outputs": [],
     "prompt_number": 103
    },
    {
     "cell_type": "markdown",
     "metadata": {},
     "source": [
      "#### Define functions \n",
      "\n",
      "to calculate the atmosphere heating rate\n",
      "\n",
      "and to get a series (TOA flux_down, TRP flux_down, surface flux_down, heating rate) for each case"
     ]
    },
    {
     "cell_type": "code",
     "collapsed": false,
     "input": [
      "def atmosphere_heating_rate(df):\n",
      "    return 8.4410 * (df.loc[df.index[0], 'net_flux'] - df.loc[df.index[-1], 'net_flux']) / \\\n",
      "(df.loc[df.index[-1], 'pressure'] - df.loc[df.index[0], 'pressure'])\n",
      "\n",
      "def case_flux_hr_summary(df):\n",
      "    level_TOA, level_TROP, level_surface = 70, 30, 0\n",
      "    var_names = ['TOA flux_down', 'TRP flux_down', 'SFC flux_down']\n",
      "    srs = pd.Series([df.loc[level_TOA, 'flux_down'],\n",
      "                     df.loc[level_TROP, 'flux_down'],\n",
      "                     df.loc[level_surface, 'flux_down']], index = var_names)\n",
      "    srs['ATM heating_rate'] = atmosphere_heating_rate(df)\n",
      "    return srs"
     ],
     "language": "python",
     "metadata": {},
     "outputs": [],
     "prompt_number": 81
    },
    {
     "cell_type": "code",
     "collapsed": false,
     "input": [
      "df_crd = pd.concat([case_flux_hr_summary(df) for df in dfs_crd], keys = molecule_names, names = ['molecule', 'variable'])\n",
      "df_clirad = pd.concat([case_flux_hr_summary(df) for df in dfs_clirad], keys = molecule_names, names = ['molecule', 'variable'])\n",
      "df_rrtmg = pd.concat([case_flux_hr_summary(df) for df in dfs_rrtmg], keys = molecule_names, names = ['molecule', 'variable'])"
     ],
     "language": "python",
     "metadata": {},
     "outputs": [],
     "prompt_number": 104
    },
    {
     "cell_type": "code",
     "collapsed": false,
     "input": [
      "df_summary = pd.concat([df_crd, df_clirad, df_rrtmg], keys = model_names, names = ['model']).unstack(2)"
     ],
     "language": "python",
     "metadata": {},
     "outputs": [],
     "prompt_number": 105
    },
    {
     "cell_type": "code",
     "collapsed": false,
     "input": [
      "df_summary.to_csv('SW_results_summary.csv')"
     ],
     "language": "python",
     "metadata": {},
     "outputs": [],
     "prompt_number": 107
    },
    {
     "cell_type": "markdown",
     "metadata": {},
     "source": [
      "### Maggie's tables"
     ]
    },
    {
     "cell_type": "code",
     "collapsed": false,
     "input": [
      " df_summary['absorbed'] = df_summary['TOA flux_down'] - df_summary['SFC flux_down']"
     ],
     "language": "python",
     "metadata": {},
     "outputs": [],
     "prompt_number": 109
    },
    {
     "cell_type": "code",
     "collapsed": false,
     "input": [
      "df_summary = df_summary[['TOA flux_down', 'SFC flux_down', 'absorbed']]"
     ],
     "language": "python",
     "metadata": {},
     "outputs": [],
     "prompt_number": 111
    },
    {
     "cell_type": "code",
     "collapsed": false,
     "input": [
      "df_summary.to_csv('SW_maggies_tables.csv')"
     ],
     "language": "python",
     "metadata": {},
     "outputs": [],
     "prompt_number": 113
    },
    {
     "cell_type": "code",
     "collapsed": false,
     "input": [],
     "language": "python",
     "metadata": {},
     "outputs": []
    }
   ],
   "metadata": {}
  }
 ]
}