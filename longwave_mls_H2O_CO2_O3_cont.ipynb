{
 "cells": [
  {
   "cell_type": "code",
   "execution_count": 1,
   "metadata": {
    "collapsed": false
   },
   "outputs": [
    {
     "data": {
      "text/plain": [
       "<module 'rtmtools.rrtmg.sw.analyse' from '/nuwa_cluster/home/jackyu/radiation/rtmtools/rtmtools/rrtmg/sw/analyse.py'>"
      ]
     },
     "execution_count": 1,
     "metadata": {},
     "output_type": "execute_result"
    }
   ],
   "source": [
    "%matplotlib inline\n",
    "from IPython import display\n",
    "import os\n",
    "import io\n",
    "import itertools\n",
    "import collections\n",
    "import matplotlib.pyplot as plt\n",
    "import numpy as np\n",
    "import pandas as pd\n",
    "import importlib\n",
    "\n",
    "import rtmtools.lblrtm.aerutils as aerutils\n",
    "import rtmtools.lblrtm.aeranalyse as aeranalyse\n",
    "import rtmtools.lblrtm.visualisation as viz\n",
    "\n",
    "import rtmtools.clirad.sw.wrangle as cliradwrangle\n",
    "import rtmtools.clirad.sw.analyse as cliradanalyse\n",
    "import rtmtools.clirad.lw.info\n",
    "\n",
    "import rtmtools.rrtmg.lw.wrangle as rrtmgwrangle\n",
    "import rtmtools.rrtmg.sw.analyse as rrtmganalyse\n",
    "\n",
    "\n",
    "\n",
    "importlib.reload(aerutils)\n",
    "importlib.reload(aeranalyse)\n",
    "importlib.reload(viz)\n",
    "\n",
    "importlib.reload(cliradwrangle)\n",
    "importlib.reload(cliradanalyse)\n",
    "importlib.reload(rtmtools.clirad.lw.info)\n",
    "\n",
    "importlib.reload(rrtmgwrangle)\n",
    "importlib.reload(rrtmganalyse)"
   ]
  },
  {
   "cell_type": "code",
   "execution_count": 2,
   "metadata": {
    "collapsed": true
   },
   "outputs": [],
   "source": [
    "name_molecule = r'$H_{2}O + CO_2 + O_{3} + cont$'"
   ]
  },
  {
   "cell_type": "markdown",
   "metadata": {},
   "source": [
    "#### Load CRD results"
   ]
  },
  {
   "cell_type": "code",
   "execution_count": 19,
   "metadata": {
    "collapsed": false
   },
   "outputs": [],
   "source": [
    "# Get lbl line-by-line results\n",
    "pathout_crd = '/nuwa_cluster/home/jackyu/radiation/crd/LW/examples/lbl_H2008_H2O_O3_cut25/OUTPUT_RADSUM'\n",
    "pnl_crd = aerutils.OUTPUT_RADSUM_to_pandasPanel(readfrom = pathout_crd, cooling_rate = True, signed_fluxes = True)\n"
   ]
  },
  {
   "cell_type": "code",
   "execution_count": 13,
   "metadata": {
    "collapsed": false
   },
   "outputs": [],
   "source": [
    "# H1996 cutoff = 10 cm-1\n",
    "pathout_crd1 = '/nuwa_cluster/home/jackyu/radiation/crd/LW/examples/lbl_H1996_CO2_cut10/OUTPUT_RADSUM'\n",
    "pnl_crd1 = aerutils.OUTPUT_RADSUM_to_pandasPanel(readfrom = pathout_crd1, cooling_rate = True, signed_fluxes = True)\n"
   ]
  },
  {
   "cell_type": "markdown",
   "metadata": {},
   "source": [
    "#### Load CLIRAD results"
   ]
  },
  {
   "cell_type": "code",
   "execution_count": 3,
   "metadata": {
    "collapsed": false
   },
   "outputs": [],
   "source": [
    "# Read OUTPUT_CLIRAD.dat\n",
    "pathout_clirad = '/nuwa_cluster/home/jackyu/radiation/clirad/LW/examples/mls75_H2O_CO2_O3_cont_H2012/OUTPUT_CLIRAD.dat'\n",
    "pnl_clirad = cliradwrangle.OUTPUT_CLIRAD_to_PandasPanel(readfrom = pathout_clirad, cooling_rate = True, signed_fluxes= True)\n"
   ]
  },
  {
   "cell_type": "code",
   "execution_count": 11,
   "metadata": {
    "collapsed": false
   },
   "outputs": [],
   "source": [
    "pathout_clirad_96 = '/nuwa_cluster/home/jackyu/radiation/clirad/LW/examples/mls75_H2O_O3/OUTPUT_CLIRAD.dat'\n",
    "pnl_clirad_96 = cliradwrangle.OUTPUT_CLIRAD_to_PandasPanel(readfrom = pathout_clirad_96, cooling_rate = True, signed_fluxes= True)"
   ]
  },
  {
   "cell_type": "code",
   "execution_count": 15,
   "metadata": {
    "collapsed": false
   },
   "outputs": [],
   "source": [
    "# prepare results Hitran 2012 updated version\n",
    "def path_cliradlw_h2012():\n",
    "    return '../clirad/LW/examples/mls75_CO2_H2012/CLIRAD_IR_output.dat'\n",
    "\n",
    "\n",
    "def get_rateT(df, ratename = 'cooling rates'):\n",
    "    return pd.DataFrame({'pressure': .5 * (df['p'].values[1:] + df['p'].values[: -1]),\n",
    "                    ratename: df[ratename].values[1:]})\n",
    "\n",
    "\n",
    "df = cliradwrangle.output_txtfile_to_DataFrame(path_cliradlw_h2012())\n",
    "\n",
    "rateT_clirad2012 = get_rateT(df, ratename = 'cooling rates')"
   ]
  },
  {
   "cell_type": "markdown",
   "metadata": {},
   "source": [
    "#### Load LBLRTM results"
   ]
  },
  {
   "cell_type": "code",
   "execution_count": 5,
   "metadata": {
    "collapsed": false
   },
   "outputs": [],
   "source": [
    "# Get AER line-by-line results\n",
    "pathout_lblrtm = '/nuwa_cluster/home/jackyu/line_by_line/aerlbl_v12.2_package/runs/LW/run_mls70pro_H2O_O3/OUTPUT_RADSUM'\n",
    "pnl_lblrtm = aerutils.OUTPUT_RADSUM_to_pandasPanel(readfrom = pathout_lblrtm, signed_fluxes = True, cooling_rate = True)\n",
    "\n"
   ]
  },
  {
   "cell_type": "markdown",
   "metadata": {},
   "source": [
    "#### Load RRTMG results"
   ]
  },
  {
   "cell_type": "code",
   "execution_count": 4,
   "metadata": {
    "collapsed": false
   },
   "outputs": [],
   "source": [
    "pathout_rrtmg = '/nuwa_cluster/home/jackyu/radiation/rrtmg/LW/examples/mls70_H2O_CO2_O3_cont/OUTPUT_RRTM'\n",
    "pnl_rrtmg = rrtmgwrangle.OUTPUT_RRTM_to_pandasPanel(readfrom = pathout_rrtmg, signed_fluxes = True, cooling_rate = True)\n",
    "\n"
   ]
  },
  {
   "cell_type": "markdown",
   "metadata": {},
   "source": [
    "# Total cooling rates"
   ]
  },
  {
   "cell_type": "code",
   "execution_count": 5,
   "metadata": {
    "collapsed": true
   },
   "outputs": [],
   "source": [
    "xlim_linear = (- 0.5, 3)"
   ]
  },
  {
   "cell_type": "code",
   "execution_count": 6,
   "metadata": {
    "collapsed": false
   },
   "outputs": [],
   "source": [
    "def plot_total_cooling_rates(infos_wavenumber = None, infos_spectralband = None):\n",
    "    global molecule_name, xlim_linear\n",
    "    \n",
    "    levels_atm = [70, 30, 0]\n",
    "    \n",
    "    names, colours, linestyles, dfs = [], [], [], []\n",
    "    \n",
    "    if infos_wavenumber:\n",
    "        names_wavenumber, colours_wavenumber, linestyles_wavenumber, pnls_wavenumber = \\\n",
    "        map(list, zip(*infos_wavenumber))\n",
    "        dfs_wavenumber = [aeranalyse.sum_OUTPUT_RADSUM_over_wbands(pnl, V1 = 0, V2 = 3000) \\\n",
    "                          for pnl in pnls_wavenumber]        \n",
    "        \n",
    "        names.extend(names_wavenumber)\n",
    "        colours.extend(colours_wavenumber)\n",
    "        linestyles.extend(linestyles_wavenumber)\n",
    "        dfs.extend(dfs_wavenumber)\n",
    "        \n",
    "        \n",
    "    if infos_spectralband:\n",
    "        names_spectralband, colours_spectralband, linestyles_spectralband, pnls_spectralband = \\\n",
    "        map(list, zip(*infos_spectralband))\n",
    "        dfs_spectralband = [cliradanalyse.sum_OUTPUT_CLIRAD_over_wbands(pnl, wbands = range(1, 11))\\\n",
    "                            for pnl in pnls_spectralband]\n",
    "        \n",
    "        names.extend(names_spectralband)\n",
    "        colours.extend(colours_spectralband)\n",
    "        linestyles.extend(linestyles_spectralband)\n",
    "        dfs.extend(dfs_spectralband)\n",
    "        \n",
    "    \n",
    "    if infos_wavenumber or infos_spectralband:\n",
    "        dfs_atm = [df.loc[levels_atm, :] for df in dfs]\n",
    "        viz.tabulate_difference(dfs = dfs_atm, \n",
    "                                names = names,\n",
    "                                title = 'Total cooling rate. {}'.format(name_molecule))         \n",
    " \n",
    "        max_cr = max([df['cooling_rate'].max() for df in dfs])\n",
    "\n",
    "        viz.plot_pres_vs_hrcr(dfs = dfs,\n",
    "                              names = names,\n",
    "                              linestyles = linestyles, \n",
    "                              colours = colours,\n",
    "                              title = 'Total cooling rate. {}'.format(name_molecule),\n",
    "                              cooling_rate = True,\n",
    "                             xlim_linear = xlim_linear, \n",
    "                              xlim_log = (- .1, 20) if max_cr >= 20 else None)\n",
    "    \n",
    "        display.display(plt.gcf()); plt.close()\n",
    "    "
   ]
  },
  {
   "cell_type": "code",
   "execution_count": 7,
   "metadata": {
    "collapsed": false,
    "scrolled": false
   },
   "outputs": [
    {
     "name": "stdout",
     "output_type": "stream",
     "text": [
      "\n",
      "Total cooling rate. $H_{2}O + CO_2 + O_{3} + cont$\n",
      "\n",
      "RRTMG\n",
      "      pressure   flux_up  flux_down  net_flux  cooling_rate\n",
      "70     0.00242 -286.3098     0.0000 -286.3098       0.00000\n",
      "30   299.70000 -304.5116    56.5623 -247.9493       2.20413\n",
      "0   1013.00000 -423.5981   344.9286  -78.6695       2.58607\n",
      "\n",
      "CLIRAD\n",
      "       pressure     flux_up   flux_down    net_flux  cooling_rate\n",
      "70     0.002417 -290.127406    0.013619 -290.113787     25.587309\n",
      "30   299.800000 -307.388536   54.155222 -253.233314      2.275346\n",
      "0   1013.000000 -423.786188  347.831471  -75.954717      2.768789\n",
      "\n",
      "RRTMG - CLIRAD\n",
      "    pressure   flux_up  flux_down  net_flux  cooling_rate\n",
      "70  0.000003  3.817606  -0.013619  3.803987    -25.587309\n",
      "30 -0.100000  2.876936   2.407078  5.284014     -0.071216\n",
      "0   0.000000  0.188088  -2.902871 -2.714783     -0.182719\n",
      "\n"
     ]
    },
    {
     "data": {
      "image/png": "[encoded data removed]",
      "text/plain": [
       "<matplotlib.figure.Figure at 0x2aabf029cb38>"
      ]
     },
     "metadata": {},
     "output_type": "display_data"
    }
   ],
   "source": [
    "plot_total_cooling_rates(infos_wavenumber = [('RRTMG', 'g', '--', pnl_rrtmg)],\\\n",
    "                        infos_spectralband = [('CLIRAD', 'b', '--', pnl_clirad)])"
   ]
  },
  {
   "cell_type": "code",
   "execution_count": 24,
   "metadata": {
    "collapsed": true
   },
   "outputs": [],
   "source": [
    "xlim_linear = (-.5, 2)"
   ]
  },
  {
   "cell_type": "code",
   "execution_count": 14,
   "metadata": {
    "collapsed": false
   },
   "outputs": [
    {
     "data": {
      "text/html": [
       "<script>\n",
       "code_show=true; \n",
       "function code_toggle() {\n",
       " if (code_show){\n",
       " $('div.input').hide();\n",
       " } else {\n",
       " $('div.input').show();\n",
       " }\n",
       " code_show = !code_show\n",
       "} \n",
       "$( document ).ready(code_toggle);\n",
       "</script>\n",
       "<form action=\"javascript:code_toggle()\"><input type=\"submit\" value=\"Click here to toggle on/off the raw code.\"></form>"
      ],
      "text/plain": [
       "<IPython.core.display.HTML object>"
      ]
     },
     "execution_count": 14,
     "metadata": {},
     "output_type": "execute_result"
    }
   ],
   "source": [
    "display.HTML('''<script>\n",
    "code_show=true; \n",
    "function code_toggle() {\n",
    " if (code_show){\n",
    " $('div.input').hide();\n",
    " } else {\n",
    " $('div.input').show();\n",
    " }\n",
    " code_show = !code_show\n",
    "} \n",
    "$( document ).ready(code_toggle);\n",
    "</script>\n",
    "<form action=\"javascript:code_toggle()\"><input type=\"submit\" value=\"Click here to toggle on/off the raw code.\"></form>''')"
   ]
  },
  {
   "cell_type": "code",
   "execution_count": null,
   "metadata": {
    "collapsed": true
   },
   "outputs": [],
   "source": []
  }
 ],
 "metadata": {
  "kernelspec": {
   "display_name": "Python 3",
   "language": "python",
   "name": "python3"
  },
  "language_info": {
   "codemirror_mode": {
    "name": "ipython",
    "version": 3
   },
   "file_extension": ".py",
   "mimetype": "text/x-python",
   "name": "python",
   "nbconvert_exporter": "python",
   "pygments_lexer": "ipython3",
   "version": "3.4.3"
  }
 },
 "nbformat": 4,
 "nbformat_minor": 0
}
