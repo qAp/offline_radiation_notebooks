{
 "cells": [
  {
   "cell_type": "markdown",
   "metadata": {},
   "source": [
    "# $H_{2}O$ continuum in RRTMG-LW"
   ]
  },
  {
   "cell_type": "markdown",
   "metadata": {},
   "source": [
    "### First steps"
   ]
  },
  {
   "cell_type": "markdown",
   "metadata": {},
   "source": [
    "In RRTMG-LW, four factors/terms are needed in order to calculate the absorption coefficient due to $H_2O$ continuum.  These, in the source code, are:\n",
    "\n",
    "`forfac`  \n",
    "`forfrac`  \n",
    "`selffac`  \n",
    "`selffrac`  \n",
    "\n",
    "The '`for`' is for foreign-continuum, and the '`self`' is for self-continuum.\n",
    "\n",
    "These four terms are calculated in 'rrtmg_lw_setcoef.f90'."
   ]
  },
  {
   "cell_type": "markdown",
   "metadata": {},
   "source": [
    "First, the variable `water` is calculated via:"
   ]
  },
  {
   "cell_type": "markdown",
   "metadata": {},
   "source": [
    "```\n",
    "water = wkl(1,lay)/coldry(lay)\n",
    "```"
   ]
  },
  {
   "cell_type": "markdown",
   "metadata": {},
   "source": [
    "`wkl`: molecule amount for water $[mol\\: cm^{-2}]$  \n",
    "`coldry`: dry air column density $[mol\\: cm^{-2}]$"
   ]
  },
  {
   "cell_type": "markdown",
   "metadata": {},
   "source": [
    "Then, `scalefac` is calculated via:"
   ]
  },
  {
   "cell_type": "markdown",
   "metadata": {},
   "source": [
    "```\n",
    "scalefac = pavel(lay) * stpfac / tavel(lay)\n",
    "```"
   ]
  },
  {
   "cell_type": "markdown",
   "metadata": {},
   "source": [
    "`stpfac`: $296 / 1013$  \n",
    "`pavel`: layer pressure [mbar]  \n",
    "`tavel`: layer temperature [K]   "
   ]
  },
  {
   "cell_type": "markdown",
   "metadata": {},
   "source": [
    "Using `water` and `scalefac`, `forfac`, `forfrac`, `selffac` and `selffrac` can now be obtained.  But how this is obtained depends on whether the atmosphere layer is below or above the tropopause ($\\sim 100$  mbar)."
   ]
  },
  {
   "cell_type": "markdown",
   "metadata": {},
   "source": [
    "Below tropopause, `forfac`, `forfrac`, `selffac` and `selffrac` are obtained via:"
   ]
  },
  {
   "cell_type": "markdown",
   "metadata": {},
   "source": [
    "```\n",
    "         forfac(lay) = scalefac / (1.+water)\n",
    "         factor = (332.0_rb-tavel(lay))/36.0_rb\n",
    "         indfor(lay) = min(2, max(1, int(factor)))\n",
    "         forfrac(lay) = factor - real(indfor(lay))\n",
    "         \n",
    "         \n",
    "!  Set up factors needed to separately include the water vapor                                                          \n",
    "!  self-continuum in the calculation of absorption coefficient.                                                         \n",
    "         selffac(lay) = water * forfac(lay)\n",
    "         factor = (tavel(lay)-188.0_rb)/7.2_rb\n",
    "         indself(lay) = min(9, max(1, int(factor)-7))\n",
    "         selffrac(lay) = factor - real(indself(lay) + 7)\n",
    "```"
   ]
  },
  {
   "cell_type": "markdown",
   "metadata": {},
   "source": [
    "Above tropopause, `forfac`, `forfrac` and `selffac` are obtained via (note there is no `selffrac`):"
   ]
  },
  {
   "cell_type": "markdown",
   "metadata": {},
   "source": [
    "```\n",
    "         forfac(lay) = scalefac / (1.+water)\n",
    "         factor = (tavel(lay)-188.0_rb)/36.0_rb\n",
    "         indfor(lay) = 3\n",
    "         forfrac(lay) = factor - 1.0_rb\n",
    "\n",
    "!  Set up factors needed to separately include the water vapor                                                          \n",
    "!  self-continuum in the calculation of absorption coefficient.                                                         \n",
    "         selffac(lay) = water * forfac(lay)\n",
    "```"
   ]
  },
  {
   "cell_type": "code",
   "execution_count": null,
   "metadata": {
    "collapsed": true
   },
   "outputs": [],
   "source": []
  }
 ],
 "metadata": {
  "kernelspec": {
   "display_name": "Python 3",
   "language": "python",
   "name": "python3"
  },
  "language_info": {
   "codemirror_mode": {
    "name": "ipython",
    "version": 3
   },
   "file_extension": ".py",
   "mimetype": "text/x-python",
   "name": "python",
   "nbconvert_exporter": "python",
   "pygments_lexer": "ipython3",
   "version": "3.4.4"
  }
 },
 "nbformat": 4,
 "nbformat_minor": 0
}
