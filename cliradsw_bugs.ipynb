{
 "cells": [
  {
   "cell_type": "markdown",
   "metadata": {},
   "source": [
    "## Floating errors"
   ]
  },
  {
   "cell_type": "markdown",
   "metadata": {},
   "source": [
    "Documented here are some bugs found while compiling and running CLIRAD-SW using different combinations of the compiler's debug flags."
   ]
  },
  {
   "cell_type": "markdown",
   "metadata": {},
   "source": [
    "The compiler used here is:"
   ]
  },
  {
   "cell_type": "code",
   "execution_count": 19,
   "metadata": {
    "collapsed": false
   },
   "outputs": [
    {
     "name": "stdout",
     "output_type": "stream",
     "text": [
      "Version 11.1 \r\n"
     ]
    }
   ],
   "source": [
    "!ifort -v"
   ]
  },
  {
   "cell_type": "markdown",
   "metadata": {},
   "source": [
    "These are the files containing the code and the data:"
   ]
  },
  {
   "cell_type": "code",
   "execution_count": 22,
   "metadata": {
    "collapsed": false
   },
   "outputs": [
    {
     "name": "stdout",
     "output_type": "stream",
     "text": [
      "cah.data.f\t     coa.data.f     mls75.pro\t\tsolar_code.f\r\n",
      "cldreff.f\t     fort.9.txt     mls75_pro.f\r\n",
      "cldreff.f~\t     mainsw_2008.f  ReadMe_SW code.txt\r\n",
      "cliradsw_bugs.ipynb  mcai.data.f    sfcref.f\r\n"
     ]
    }
   ],
   "source": [
    "!ls"
   ]
  },
  {
   "cell_type": "markdown",
   "metadata": {},
   "source": [
    "A simple compilation gives no errors and clirad returns legible numbers:"
   ]
  },
  {
   "cell_type": "code",
   "execution_count": 23,
   "metadata": {
    "collapsed": true
   },
   "outputs": [],
   "source": [
    "!ifort sfcref.f cldreff.f solar_code.f mainsw_2008.f -o clirad.exe"
   ]
  },
  {
   "cell_type": "code",
   "execution_count": 24,
   "metadata": {
    "collapsed": true
   },
   "outputs": [],
   "source": [
    "!./clirad.exe"
   ]
  },
  {
   "cell_type": "code",
   "execution_count": 25,
   "metadata": {
    "collapsed": false
   },
   "outputs": [
    {
     "name": "stdout",
     "output_type": "stream",
     "text": [
      "                                          1.502\r\n",
      "  71  894.1250  201.5172   406.7708\r\n",
      "                                          0.589\r\n",
      "  72  917.9000  199.8582   402.8219\r\n",
      "                                          0.593\r\n",
      "  73  941.6750  198.1888   398.8942\r\n",
      "                                          0.592\r\n",
      "  74  965.4500  196.5212   395.0023\r\n",
      "                                          0.588\r\n",
      "  75  989.2250  194.8641   391.1545\r\n",
      "                                          0.597\r\n",
      "  76 1013.0000  193.1818   387.2902\r\n",
      "\r\n",
      "\r\n",
      " fdiruv  =    2.49\r\n",
      " fdifuv  =   13.59\r\n",
      " fdirpar =   40.37\r\n",
      " fdifpar =   79.88\r\n",
      " fdirir  =   44.93\r\n",
      " fdifir  =   61.90\r\n"
     ]
    }
   ],
   "source": [
    "!tail -n 20 fort.9"
   ]
  },
  {
   "cell_type": "markdown",
   "metadata": {},
   "source": [
    "However, if debugging flags are used to check for floating point errors, an error is raised and is traced back to line 335 in solar_code.f:"
   ]
  },
  {
   "cell_type": "code",
   "execution_count": 26,
   "metadata": {
    "collapsed": true
   },
   "outputs": [],
   "source": [
    "!ifort -O0 -g -traceback -check all -fpe0 sfcref.f cldreff.f solar_code.f mainsw_2008.f -o clirad.exe"
   ]
  },
  {
   "cell_type": "code",
   "execution_count": 27,
   "metadata": {
    "collapsed": false
   },
   "outputs": [
    {
     "name": "stdout",
     "output_type": "stream",
     "text": [
      "forrtl: error (73): floating divide by zero\r\n",
      "Image              PC                Routine            Line        Source             \r\n",
      "clirad.exe         00000000005314BA  Unknown               Unknown  Unknown\r\n",
      "clirad.exe         000000000041A1CB  sorad_                    335  solar_code.f\r\n",
      "clirad.exe         00000000004BBD47  MAIN__                    319  mainsw_2008.f\r\n",
      "clirad.exe         000000000040322C  Unknown               Unknown  Unknown\r\n",
      "libc.so.6          0000003705A1D994  Unknown               Unknown  Unknown\r\n",
      "clirad.exe         0000000000403139  Unknown               Unknown  Unknown\r\n"
     ]
    }
   ],
   "source": [
    "!./clirad.exe"
   ]
  },
  {
   "cell_type": "markdown",
   "metadata": {},
   "source": [
    "That line is:"
   ]
  },
  {
   "cell_type": "code",
   "execution_count": 15,
   "metadata": {
    "collapsed": false
   },
   "outputs": [
    {
     "name": "stdout",
     "output_type": "stream",
     "text": [
      "          swh(i,k)=log10(pl(i,k))\r\n"
     ]
    }
   ],
   "source": [
    "!sed -n '335, 335p' solar_code.f"
   ]
  },
  {
   "cell_type": "markdown",
   "metadata": {},
   "source": [
    "### Forcing all reals to be of double precision at time of compilation\n",
    "\n",
    "By using the `-r8` flag at compilation, all real variables are forced to have double precision, regardless of their declared precision in the code.  Here shows what happens when this is used."
   ]
  },
  {
   "cell_type": "markdown",
   "metadata": {},
   "source": [
    "If we do not check for floating point errors, clirad compiles fine but returns NaN values:"
   ]
  },
  {
   "cell_type": "code",
   "execution_count": 28,
   "metadata": {
    "collapsed": true
   },
   "outputs": [],
   "source": [
    "!ifort -O0 -g -traceback -check all -r8 sfcref.f cldreff.f solar_code.f mainsw_2008.f -o clirad.exe"
   ]
  },
  {
   "cell_type": "code",
   "execution_count": 29,
   "metadata": {
    "collapsed": true
   },
   "outputs": [],
   "source": [
    "!./clirad.exe"
   ]
  },
  {
   "cell_type": "code",
   "execution_count": 30,
   "metadata": {
    "collapsed": false
   },
   "outputs": [
    {
     "name": "stdout",
     "output_type": "stream",
     "text": [
      "                                            NaN\r\n",
      "  71  894.1250       NaN        NaN\r\n",
      "                                            NaN\r\n",
      "  72  917.9000       NaN        NaN\r\n",
      "                                            NaN\r\n",
      "  73  941.6750       NaN        NaN\r\n",
      "                                            NaN\r\n",
      "  74  965.4500       NaN        NaN\r\n",
      "                                            NaN\r\n",
      "  75  989.2250       NaN        NaN\r\n",
      "                                            NaN\r\n",
      "  76 1013.0000       NaN        NaN\r\n",
      "\r\n",
      "\r\n",
      " fdiruv  =    0.00\r\n",
      " fdifuv  =     NaN\r\n",
      " fdirpar =    0.00\r\n",
      " fdifpar =     NaN\r\n",
      " fdirir  =     NaN\r\n",
      " fdifir  =     NaN\r\n"
     ]
    }
   ],
   "source": [
    "!tail -n 20 fort.9"
   ]
  },
  {
   "cell_type": "markdown",
   "metadata": {},
   "source": [
    "If we do check for floating point errors, then an error is raised and traced to line 1626 in solar_code.f:"
   ]
  },
  {
   "cell_type": "code",
   "execution_count": 31,
   "metadata": {
    "collapsed": true
   },
   "outputs": [],
   "source": [
    "!ifort -O0 -g -traceback -check all -fpe0 -r8 sfcref.f cldreff.f solar_code.f mainsw_2008.f -o clirad.exe"
   ]
  },
  {
   "cell_type": "code",
   "execution_count": 32,
   "metadata": {
    "collapsed": false
   },
   "outputs": [
    {
     "name": "stdout",
     "output_type": "stream",
     "text": [
      "forrtl: error (65): floating invalid\r\n",
      "Image              PC                Routine            Line        Source             \r\n",
      "clirad.exe         000000000046D285  deledd_                  1626  solar_code.f\r\n",
      "clirad.exe         0000000000433491  soluv_                    726  solar_code.f\r\n",
      "clirad.exe         0000000000415290  sorad_                    231  solar_code.f\r\n",
      "clirad.exe         00000000004BBD5F  MAIN__                    319  mainsw_2008.f\r\n",
      "clirad.exe         000000000040314C  Unknown               Unknown  Unknown\r\n",
      "libc.so.6          0000003705A1D994  Unknown               Unknown  Unknown\r\n",
      "clirad.exe         0000000000403059  Unknown               Unknown  Unknown\r\n"
     ]
    }
   ],
   "source": [
    "!./clirad.exe"
   ]
  },
  {
   "cell_type": "markdown",
   "metadata": {},
   "source": [
    "That line is:"
   ]
  },
  {
   "cell_type": "code",
   "execution_count": 16,
   "metadata": {
    "collapsed": false
   },
   "outputs": [
    {
     "name": "stdout",
     "output_type": "stream",
     "text": [
      "\ttau(i,k) = dble(tau1(i,k))\r\n"
     ]
    }
   ],
   "source": [
    "!sed -n '1626, 1626p' solar_code.f"
   ]
  },
  {
   "cell_type": "code",
   "execution_count": null,
   "metadata": {
    "collapsed": true
   },
   "outputs": [],
   "source": []
  }
 ],
 "metadata": {
  "kernelspec": {
   "display_name": "Python 3",
   "language": "python",
   "name": "python3"
  },
  "language_info": {
   "codemirror_mode": {
    "name": "ipython",
    "version": 3
   },
   "file_extension": ".py",
   "mimetype": "text/x-python",
   "name": "python",
   "nbconvert_exporter": "python",
   "pygments_lexer": "ipython3",
   "version": "3.4.4"
  }
 },
 "nbformat": 4,
 "nbformat_minor": 0
}
