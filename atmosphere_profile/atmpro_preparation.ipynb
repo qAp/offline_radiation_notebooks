{
 "cells": [
  {
   "cell_type": "code",
   "execution_count": 1,
   "metadata": {
    "collapsed": true
   },
   "outputs": [],
   "source": [
    "%matplotlib inline\n",
    "import pandas as pd\n",
    "import rtmtools.lblrtm.aerutils as aerutils"
   ]
  },
  {
   "cell_type": "code",
   "execution_count": 2,
   "metadata": {
    "collapsed": true
   },
   "outputs": [],
   "source": [
    "def load_working_atmproh5_RRTMG(case = 'H2O'):\n",
    "    if case == 'H2O':\n",
    "        h5path = '/nuwa_cluster/home/jackyu/radiation/rrtmg/LW/examples/mls70_H2O/atmpro_mls70.h5'\n",
    "    elif case == 'CO2':\n",
    "        h5path = '/nuwa_cluster/home/jackyu/radiation/rrtmg/LW/examples/mls70_CO2/atmpro_mls70_CO2.h5'\n",
    "    elif case == 'O3':\n",
    "        h5path = '/nuwa_cluster/home/jackyu/radiation/rrtmg/LW/examples/mls70_O3/atmpro_mls70_O3.h5'\n",
    "    \n",
    "    store = pd.get_store(h5path)\n",
    "    df = store['atmpro']\n",
    "    store.close()\n",
    "    return df\n",
    "        "
   ]
  },
  {
   "cell_type": "code",
   "execution_count": 10,
   "metadata": {
    "collapsed": false
   },
   "outputs": [],
   "source": [
    "atmpro_h2o = load_working_atmproh5_RRTMG(case = 'H2O')\n",
    "atmpro_co2 = load_working_atmproh5_RRTMG(case = 'CO2')\n",
    "atmpro_o3  = load_working_atmproh5_RRTMG(case = 'O3')"
   ]
  },
  {
   "cell_type": "code",
   "execution_count": 11,
   "metadata": {
    "collapsed": false
   },
   "outputs": [
    {
     "data": {
      "text/html": [
       "<div style=\"max-height:1000px;max-width:1500px;overflow:auto;\">\n",
       "<table border=\"1\" class=\"dataframe\">\n",
       "  <thead>\n",
       "    <tr style=\"text-align: right;\">\n",
       "      <th></th>\n",
       "      <th>altitude</th>\n",
       "      <th>pressure</th>\n",
       "      <th>temperature</th>\n",
       "      <th>H2O</th>\n",
       "      <th>CO2</th>\n",
       "      <th>O3</th>\n",
       "      <th>N2O</th>\n",
       "      <th>CO</th>\n",
       "      <th>CH4</th>\n",
       "      <th>O2</th>\n",
       "    </tr>\n",
       "  </thead>\n",
       "  <tbody>\n",
       "    <tr>\n",
       "      <th>70</th>\n",
       "      <td>89.60800</td>\n",
       "      <td>0.00242</td>\n",
       "      <td>212.06955</td>\n",
       "      <td>6.4321</td>\n",
       "      <td>0</td>\n",
       "      <td>0</td>\n",
       "      <td>0</td>\n",
       "      <td>0</td>\n",
       "      <td>0</td>\n",
       "      <td>0</td>\n",
       "    </tr>\n",
       "    <tr>\n",
       "      <th>69</th>\n",
       "      <td>87.50455</td>\n",
       "      <td>0.00339</td>\n",
       "      <td>212.61195</td>\n",
       "      <td>6.4321</td>\n",
       "      <td>0</td>\n",
       "      <td>0</td>\n",
       "      <td>0</td>\n",
       "      <td>0</td>\n",
       "      <td>0</td>\n",
       "      <td>0</td>\n",
       "    </tr>\n",
       "    <tr>\n",
       "      <th>68</th>\n",
       "      <td>85.39563</td>\n",
       "      <td>0.00476</td>\n",
       "      <td>213.15535</td>\n",
       "      <td>6.4321</td>\n",
       "      <td>0</td>\n",
       "      <td>0</td>\n",
       "      <td>0</td>\n",
       "      <td>0</td>\n",
       "      <td>0</td>\n",
       "      <td>0</td>\n",
       "    </tr>\n",
       "    <tr>\n",
       "      <th>67</th>\n",
       "      <td>83.28138</td>\n",
       "      <td>0.00667</td>\n",
       "      <td>213.69980</td>\n",
       "      <td>6.4321</td>\n",
       "      <td>0</td>\n",
       "      <td>0</td>\n",
       "      <td>0</td>\n",
       "      <td>0</td>\n",
       "      <td>0</td>\n",
       "      <td>0</td>\n",
       "    </tr>\n",
       "    <tr>\n",
       "      <th>66</th>\n",
       "      <td>81.16173</td>\n",
       "      <td>0.00936</td>\n",
       "      <td>214.24530</td>\n",
       "      <td>6.4321</td>\n",
       "      <td>0</td>\n",
       "      <td>0</td>\n",
       "      <td>0</td>\n",
       "      <td>0</td>\n",
       "      <td>0</td>\n",
       "      <td>0</td>\n",
       "    </tr>\n",
       "  </tbody>\n",
       "</table>\n",
       "</div>"
      ],
      "text/plain": [
       "    altitude  pressure  temperature     H2O  CO2  O3  N2O  CO  CH4  O2\n",
       "70  89.60800   0.00242    212.06955  6.4321    0   0    0   0    0   0\n",
       "69  87.50455   0.00339    212.61195  6.4321    0   0    0   0    0   0\n",
       "68  85.39563   0.00476    213.15535  6.4321    0   0    0   0    0   0\n",
       "67  83.28138   0.00667    213.69980  6.4321    0   0    0   0    0   0\n",
       "66  81.16173   0.00936    214.24530  6.4321    0   0    0   0    0   0"
      ]
     },
     "execution_count": 11,
     "metadata": {},
     "output_type": "execute_result"
    }
   ],
   "source": [
    "atmpro_h2o.head()"
   ]
  },
  {
   "cell_type": "code",
   "execution_count": 13,
   "metadata": {
    "collapsed": false
   },
   "outputs": [
    {
     "data": {
      "text/html": [
       "<div style=\"max-height:1000px;max-width:1500px;overflow:auto;\">\n",
       "<table border=\"1\" class=\"dataframe\">\n",
       "  <thead>\n",
       "    <tr style=\"text-align: right;\">\n",
       "      <th></th>\n",
       "      <th>altitude</th>\n",
       "      <th>pressure</th>\n",
       "      <th>temperature</th>\n",
       "      <th>H2O</th>\n",
       "      <th>CO2</th>\n",
       "      <th>O3</th>\n",
       "      <th>N2O</th>\n",
       "      <th>CO</th>\n",
       "      <th>CH4</th>\n",
       "      <th>O2</th>\n",
       "    </tr>\n",
       "  </thead>\n",
       "  <tbody>\n",
       "    <tr>\n",
       "      <th>70</th>\n",
       "      <td>89.60800</td>\n",
       "      <td>0.00242</td>\n",
       "      <td>212.06955</td>\n",
       "      <td>0</td>\n",
       "      <td>350</td>\n",
       "      <td>0</td>\n",
       "      <td>0</td>\n",
       "      <td>0</td>\n",
       "      <td>0</td>\n",
       "      <td>0</td>\n",
       "    </tr>\n",
       "    <tr>\n",
       "      <th>69</th>\n",
       "      <td>87.50455</td>\n",
       "      <td>0.00339</td>\n",
       "      <td>212.61195</td>\n",
       "      <td>0</td>\n",
       "      <td>350</td>\n",
       "      <td>0</td>\n",
       "      <td>0</td>\n",
       "      <td>0</td>\n",
       "      <td>0</td>\n",
       "      <td>0</td>\n",
       "    </tr>\n",
       "    <tr>\n",
       "      <th>68</th>\n",
       "      <td>85.39563</td>\n",
       "      <td>0.00476</td>\n",
       "      <td>213.15535</td>\n",
       "      <td>0</td>\n",
       "      <td>350</td>\n",
       "      <td>0</td>\n",
       "      <td>0</td>\n",
       "      <td>0</td>\n",
       "      <td>0</td>\n",
       "      <td>0</td>\n",
       "    </tr>\n",
       "    <tr>\n",
       "      <th>67</th>\n",
       "      <td>83.28138</td>\n",
       "      <td>0.00667</td>\n",
       "      <td>213.69980</td>\n",
       "      <td>0</td>\n",
       "      <td>350</td>\n",
       "      <td>0</td>\n",
       "      <td>0</td>\n",
       "      <td>0</td>\n",
       "      <td>0</td>\n",
       "      <td>0</td>\n",
       "    </tr>\n",
       "    <tr>\n",
       "      <th>66</th>\n",
       "      <td>81.16173</td>\n",
       "      <td>0.00936</td>\n",
       "      <td>214.24530</td>\n",
       "      <td>0</td>\n",
       "      <td>350</td>\n",
       "      <td>0</td>\n",
       "      <td>0</td>\n",
       "      <td>0</td>\n",
       "      <td>0</td>\n",
       "      <td>0</td>\n",
       "    </tr>\n",
       "  </tbody>\n",
       "</table>\n",
       "</div>"
      ],
      "text/plain": [
       "    altitude  pressure  temperature  H2O  CO2  O3  N2O  CO  CH4  O2\n",
       "70  89.60800   0.00242    212.06955    0  350   0    0   0    0   0\n",
       "69  87.50455   0.00339    212.61195    0  350   0    0   0    0   0\n",
       "68  85.39563   0.00476    213.15535    0  350   0    0   0    0   0\n",
       "67  83.28138   0.00667    213.69980    0  350   0    0   0    0   0\n",
       "66  81.16173   0.00936    214.24530    0  350   0    0   0    0   0"
      ]
     },
     "execution_count": 13,
     "metadata": {},
     "output_type": "execute_result"
    }
   ],
   "source": [
    "atmpro_co2.head()"
   ]
  },
  {
   "cell_type": "code",
   "execution_count": 14,
   "metadata": {
    "collapsed": false
   },
   "outputs": [
    {
     "data": {
      "text/html": [
       "<div style=\"max-height:1000px;max-width:1500px;overflow:auto;\">\n",
       "<table border=\"1\" class=\"dataframe\">\n",
       "  <thead>\n",
       "    <tr style=\"text-align: right;\">\n",
       "      <th></th>\n",
       "      <th>altitude</th>\n",
       "      <th>pressure</th>\n",
       "      <th>temperature</th>\n",
       "      <th>H2O</th>\n",
       "      <th>CO2</th>\n",
       "      <th>O3</th>\n",
       "      <th>N2O</th>\n",
       "      <th>CO</th>\n",
       "      <th>CH4</th>\n",
       "      <th>O2</th>\n",
       "    </tr>\n",
       "  </thead>\n",
       "  <tbody>\n",
       "    <tr>\n",
       "      <th>70</th>\n",
       "      <td>89.60800</td>\n",
       "      <td>0.00242</td>\n",
       "      <td>212.06955</td>\n",
       "      <td>0</td>\n",
       "      <td>0</td>\n",
       "      <td>0.21399</td>\n",
       "      <td>0</td>\n",
       "      <td>0</td>\n",
       "      <td>0</td>\n",
       "      <td>0</td>\n",
       "    </tr>\n",
       "    <tr>\n",
       "      <th>69</th>\n",
       "      <td>87.50455</td>\n",
       "      <td>0.00339</td>\n",
       "      <td>212.61195</td>\n",
       "      <td>0</td>\n",
       "      <td>0</td>\n",
       "      <td>0.24078</td>\n",
       "      <td>0</td>\n",
       "      <td>0</td>\n",
       "      <td>0</td>\n",
       "      <td>0</td>\n",
       "    </tr>\n",
       "    <tr>\n",
       "      <th>68</th>\n",
       "      <td>85.39563</td>\n",
       "      <td>0.00476</td>\n",
       "      <td>213.15535</td>\n",
       "      <td>0</td>\n",
       "      <td>0</td>\n",
       "      <td>0.26770</td>\n",
       "      <td>0</td>\n",
       "      <td>0</td>\n",
       "      <td>0</td>\n",
       "      <td>0</td>\n",
       "    </tr>\n",
       "    <tr>\n",
       "      <th>67</th>\n",
       "      <td>83.28138</td>\n",
       "      <td>0.00667</td>\n",
       "      <td>213.69980</td>\n",
       "      <td>0</td>\n",
       "      <td>0</td>\n",
       "      <td>0.29474</td>\n",
       "      <td>0</td>\n",
       "      <td>0</td>\n",
       "      <td>0</td>\n",
       "      <td>0</td>\n",
       "    </tr>\n",
       "    <tr>\n",
       "      <th>66</th>\n",
       "      <td>81.16173</td>\n",
       "      <td>0.00936</td>\n",
       "      <td>214.24530</td>\n",
       "      <td>0</td>\n",
       "      <td>0</td>\n",
       "      <td>0.32190</td>\n",
       "      <td>0</td>\n",
       "      <td>0</td>\n",
       "      <td>0</td>\n",
       "      <td>0</td>\n",
       "    </tr>\n",
       "  </tbody>\n",
       "</table>\n",
       "</div>"
      ],
      "text/plain": [
       "    altitude  pressure  temperature  H2O  CO2       O3  N2O  CO  CH4  O2\n",
       "70  89.60800   0.00242    212.06955    0    0  0.21399    0   0    0   0\n",
       "69  87.50455   0.00339    212.61195    0    0  0.24078    0   0    0   0\n",
       "68  85.39563   0.00476    213.15535    0    0  0.26770    0   0    0   0\n",
       "67  83.28138   0.00667    213.69980    0    0  0.29474    0   0    0   0\n",
       "66  81.16173   0.00936    214.24530    0    0  0.32190    0   0    0   0"
      ]
     },
     "execution_count": 14,
     "metadata": {},
     "output_type": "execute_result"
    }
   ],
   "source": [
    "atmpro_o3.head()"
   ]
  },
  {
   "cell_type": "code",
   "execution_count": 17,
   "metadata": {
    "collapsed": true
   },
   "outputs": [],
   "source": [
    "def make_h2o_co2_atmproh5(atmpro_h2o, atmpro_co2):\n",
    "    atmpro = atmpro_h2o.copy(deep = True)\n",
    "    atmpro['CO2'] = atmpro_co2['CO2'].copy(deep = True)\n",
    "    return atmpro"
   ]
  },
  {
   "cell_type": "code",
   "execution_count": 19,
   "metadata": {
    "collapsed": false
   },
   "outputs": [],
   "source": [
    "atmpro_h2o_co2 = make_h2o_co2_atmproh5(atmpro_h2o, atmpro_co2)"
   ]
  },
  {
   "cell_type": "code",
   "execution_count": 20,
   "metadata": {
    "collapsed": false
   },
   "outputs": [
    {
     "data": {
      "text/html": [
       "<div style=\"max-height:1000px;max-width:1500px;overflow:auto;\">\n",
       "<table border=\"1\" class=\"dataframe\">\n",
       "  <thead>\n",
       "    <tr style=\"text-align: right;\">\n",
       "      <th></th>\n",
       "      <th>altitude</th>\n",
       "      <th>pressure</th>\n",
       "      <th>temperature</th>\n",
       "      <th>H2O</th>\n",
       "      <th>CO2</th>\n",
       "      <th>O3</th>\n",
       "      <th>N2O</th>\n",
       "      <th>CO</th>\n",
       "      <th>CH4</th>\n",
       "      <th>O2</th>\n",
       "    </tr>\n",
       "  </thead>\n",
       "  <tbody>\n",
       "    <tr>\n",
       "      <th>70</th>\n",
       "      <td>89.60800</td>\n",
       "      <td>0.00242</td>\n",
       "      <td>212.06955</td>\n",
       "      <td>6.4321</td>\n",
       "      <td>350</td>\n",
       "      <td>0</td>\n",
       "      <td>0</td>\n",
       "      <td>0</td>\n",
       "      <td>0</td>\n",
       "      <td>0</td>\n",
       "    </tr>\n",
       "    <tr>\n",
       "      <th>69</th>\n",
       "      <td>87.50455</td>\n",
       "      <td>0.00339</td>\n",
       "      <td>212.61195</td>\n",
       "      <td>6.4321</td>\n",
       "      <td>350</td>\n",
       "      <td>0</td>\n",
       "      <td>0</td>\n",
       "      <td>0</td>\n",
       "      <td>0</td>\n",
       "      <td>0</td>\n",
       "    </tr>\n",
       "    <tr>\n",
       "      <th>68</th>\n",
       "      <td>85.39563</td>\n",
       "      <td>0.00476</td>\n",
       "      <td>213.15535</td>\n",
       "      <td>6.4321</td>\n",
       "      <td>350</td>\n",
       "      <td>0</td>\n",
       "      <td>0</td>\n",
       "      <td>0</td>\n",
       "      <td>0</td>\n",
       "      <td>0</td>\n",
       "    </tr>\n",
       "    <tr>\n",
       "      <th>67</th>\n",
       "      <td>83.28138</td>\n",
       "      <td>0.00667</td>\n",
       "      <td>213.69980</td>\n",
       "      <td>6.4321</td>\n",
       "      <td>350</td>\n",
       "      <td>0</td>\n",
       "      <td>0</td>\n",
       "      <td>0</td>\n",
       "      <td>0</td>\n",
       "      <td>0</td>\n",
       "    </tr>\n",
       "    <tr>\n",
       "      <th>66</th>\n",
       "      <td>81.16173</td>\n",
       "      <td>0.00936</td>\n",
       "      <td>214.24530</td>\n",
       "      <td>6.4321</td>\n",
       "      <td>350</td>\n",
       "      <td>0</td>\n",
       "      <td>0</td>\n",
       "      <td>0</td>\n",
       "      <td>0</td>\n",
       "      <td>0</td>\n",
       "    </tr>\n",
       "  </tbody>\n",
       "</table>\n",
       "</div>"
      ],
      "text/plain": [
       "    altitude  pressure  temperature     H2O  CO2  O3  N2O  CO  CH4  O2\n",
       "70  89.60800   0.00242    212.06955  6.4321  350   0    0   0    0   0\n",
       "69  87.50455   0.00339    212.61195  6.4321  350   0    0   0    0   0\n",
       "68  85.39563   0.00476    213.15535  6.4321  350   0    0   0    0   0\n",
       "67  83.28138   0.00667    213.69980  6.4321  350   0    0   0    0   0\n",
       "66  81.16173   0.00936    214.24530  6.4321  350   0    0   0    0   0"
      ]
     },
     "execution_count": 20,
     "metadata": {},
     "output_type": "execute_result"
    }
   ],
   "source": [
    "atmpro_h2o_co2.head()"
   ]
  },
  {
   "cell_type": "code",
   "execution_count": 21,
   "metadata": {
    "collapsed": true
   },
   "outputs": [],
   "source": [
    "def write_atmpro_h2o_co2_to_h5(atmpro_h2o_co2):\n",
    "    store = pd.HDFStore('atmpro_mls70_H2O_CO2.h5', mode = 'w')\n",
    "    store.append('atmpro', atmpro_h2o_co2)\n",
    "    store.close()"
   ]
  },
  {
   "cell_type": "code",
   "execution_count": 22,
   "metadata": {
    "collapsed": true
   },
   "outputs": [],
   "source": [
    "write_atmpro_h2o_co2_to_h5(atmpro_h2o_co2)"
   ]
  },
  {
   "cell_type": "code",
   "execution_count": 23,
   "metadata": {
    "collapsed": false
   },
   "outputs": [
    {
     "name": "stdout",
     "output_type": "stream",
     "text": [
      "atmpro_mls70_H2O_CO2.h5     longwave_write_out_result_summaries.ipynb\r\n",
      "atmpro_preparation.ipynb    notes_-_CLIRAD_LW.ipynb\r\n",
      "lblrtm_solar_TAPE13.ipynb   O3_abs.ipynb\r\n",
      "longwave_mls_CO2.ipynb\t    results_summary\r\n",
      "longwave_mls_CO2_tmp.ipynb  shortwave_mls_CO2.ipynb\r\n",
      "longwave_mls_H2O_CO2.ipynb  shortwave_mls_H2O.ipynb\r\n",
      "longwave_mls_H2O.ipynb\t    shortwave_mls_O3.ipynb\r\n",
      "longwave_mls_H2O_tmp.ipynb  shortwave_write_out_result_summaries.ipynb\r\n",
      "longwave_mls_O3.ipynb\t    solar_spectral_irradiance.ipynb\r\n",
      "longwave_mls_O3_tmp.ipynb\r\n"
     ]
    }
   ],
   "source": [
    "!ls"
   ]
  },
  {
   "cell_type": "code",
   "execution_count": null,
   "metadata": {
    "collapsed": true
   },
   "outputs": [],
   "source": []
  }
 ],
 "metadata": {
  "kernelspec": {
   "display_name": "Python 3",
   "language": "python",
   "name": "python3"
  },
  "language_info": {
   "codemirror_mode": {
    "name": "ipython",
    "version": 3
   },
   "file_extension": ".py",
   "mimetype": "text/x-python",
   "name": "python",
   "nbconvert_exporter": "python",
   "pygments_lexer": "ipython3",
   "version": "3.4.3"
  }
 },
 "nbformat": 4,
 "nbformat_minor": 0
}
