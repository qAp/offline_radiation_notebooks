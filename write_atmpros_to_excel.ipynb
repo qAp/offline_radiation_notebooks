{
 "cells": [
  {
   "cell_type": "code",
   "execution_count": 803,
   "metadata": {
    "collapsed": false
   },
   "outputs": [
    {
     "data": {
      "text/plain": [
       "<module 'climatools.fortran.read' from '/nuwa_cluster/home/jackyu/climatools/climatools/fortran/read.py'>"
      ]
     },
     "execution_count": 803,
     "metadata": {},
     "output_type": "execute_result"
    }
   ],
   "source": [
    "%matplotlib inline \n",
    "import os\n",
    "import re\n",
    "import numpy as np\n",
    "import pandas as pd\n",
    "import IPython.display as display\n",
    "\n",
    "import rtmtools.lblrtm.aerutils as aerutils\n",
    "import climatools.fortran.read as fortran_read\n",
    "\n",
    "import imp\n",
    "imp.reload(aerutils)\n",
    "imp.reload(fortran_read)\n",
    "\n"
   ]
  },
  {
   "cell_type": "code",
   "execution_count": 794,
   "metadata": {
    "collapsed": false
   },
   "outputs": [],
   "source": [
    "dir_atmpros = os.path.join('/nuwa_cluster/home/jackyu',\n",
    "                           'radiation',\n",
    "                           'crd/atmosphere_profiles')\n",
    "\n",
    "profiles = ['mls', 'saw', 'trp']\n",
    "\n",
    "varnames = ['plevel', 'tlayer', 'wlayer', 'olayer']"
   ]
  },
  {
   "cell_type": "code",
   "execution_count": 808,
   "metadata": {
    "collapsed": false
   },
   "outputs": [],
   "source": [
    "for profile in profiles:\n",
    "    \n",
    "    with open(os.path.join(dir_atmpros, profile + '75_r8.pro'), \n",
    "              encoding='utf-8', mode='r') as f:\n",
    "        s = f.read()\n",
    "        \n",
    "    m_data = fortran_read.data(s=s)\n",
    "    \n",
    "    # first data statment corresponds to plevel\n",
    "    _, plevel = m_data[0]\n",
    "    plevel = np.array([float(v) \n",
    "                       for v in fortran_read.numbers(plevel)])\n",
    "    plevel = pd.DataFrame(plevel, columns=['plevel'])\n",
    "    \n",
    "    # the remaining are the layer variables\n",
    "    _, layervars = zip(*m_data[1:])   \n",
    "    layervars = [np.array([float(v)\n",
    "                           for v in fortran_read.numbers(layervar)]) \n",
    "                 for layervar in layervars]    \n",
    "    layervars = pd.DataFrame.from_items(zip(varnames[1:], \n",
    "                                            layervars))\n",
    "    \n",
    "    # write to excel file\n",
    "    writer = pd.ExcelWriter(profile + '75_r8.xlsx')\n",
    "    \n",
    "    plevel.to_excel(writer, 'level variables')\n",
    "    layervars.to_excel(writer, 'layer variables')\n",
    "    writer.close()\n",
    "        \n",
    "    "
   ]
  },
  {
   "cell_type": "code",
   "execution_count": 809,
   "metadata": {
    "collapsed": false
   },
   "outputs": [
    {
     "name": "stdout",
     "output_type": "stream",
     "text": [
      "O3_abs.ipynb\t\t\t\tnotes_-_CLIRAD_LW.ipynb\r\n",
      "__pycache__\t\t\t\tprojectpage.py~\r\n",
      "atmosphere_profile\t\t\tresults_summary\r\n",
      "clirad_coefficients_F77_to_F90.ipynb\trrtmg_aerosol\r\n",
      "clirad_gpts.py~\t\t\t\trrtmg_continuum_study.py~\r\n",
      "cliradsw_bugs.ipynb\t\t\trrtmg_h2ocont\r\n",
      "data_clirad_gpts.py~\t\t\tsaw75_r8.xlsx\r\n",
      "data_model_compare.py~\t\t\tshortwave\r\n",
      "line_by_line_absorption_data.ipynb\tsolar_spectral_irradiance.ipynb\r\n",
      "linestrength_comparison.ipynb\t\ttemplates\r\n",
      "linestrength_varying_temperature.ipynb\ttrace_rrtmg\r\n",
      "longwave\t\t\t\ttrp75_r8.xlsx\r\n",
      "mls75_r8.xlsx\t\t\t\twrite_atmpros_to_excel.ipynb\r\n",
      "model_compare.py~\r\n"
     ]
    }
   ],
   "source": [
    "!ls"
   ]
  },
  {
   "cell_type": "code",
   "execution_count": null,
   "metadata": {
    "collapsed": true
   },
   "outputs": [],
   "source": []
  }
 ],
 "metadata": {
  "kernelspec": {
   "display_name": "Python 3",
   "language": "python",
   "name": "python3"
  },
  "language_info": {
   "codemirror_mode": {
    "name": "ipython",
    "version": 3
   },
   "file_extension": ".py",
   "mimetype": "text/x-python",
   "name": "python",
   "nbconvert_exporter": "python",
   "pygments_lexer": "ipython3",
   "version": "3.4.4"
  }
 },
 "nbformat": 4,
 "nbformat_minor": 0
}
