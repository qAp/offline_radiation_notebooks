{
 "cells": [
  {
   "cell_type": "code",
   "execution_count": 1,
   "metadata": {
    "collapsed": false
   },
   "outputs": [
    {
     "data": {
      "text/plain": [
       "<module 'climatools.misc' from '/nuwa_cluster/home/jackyu/climatools/climatools/misc.py'>"
      ]
     },
     "execution_count": 1,
     "metadata": {},
     "output_type": "execute_result"
    }
   ],
   "source": [
    "import os\n",
    "import sys\n",
    "import pprint\n",
    "import glob\n",
    "import imp\n",
    "import subprocess\n",
    "\n",
    "from IPython import display\n",
    "import chardet\n",
    "\n",
    "import climatools.misc as misc\n",
    "\n",
    "imp.reload(misc)\n"
   ]
  },
  {
   "cell_type": "markdown",
   "metadata": {},
   "source": [
    "## Lowercase whole source code\n",
    "\n",
    "The original LBLRTM code is written in Fortran 77, and all in block capitals!  Here, it is converted to lowercase.  Maybe this will make it more legible."
   ]
  },
  {
   "cell_type": "code",
   "execution_count": 2,
   "metadata": {
    "collapsed": true
   },
   "outputs": [],
   "source": [
    "def dir_src_lblrtm():\n",
    "    dir_lblrtm = os.path.join('/nuwa_cluster/home/jackyu', \n",
    "                              'line_by_line/aerlbl_v12.2_package',\n",
    "                              'lblrtm/src')\n",
    "    return dir_lblrtm\n",
    "\n",
    "\n",
    "def fortran_files():\n",
    "    dir_lblrtm = dir_src_lblrtm()\n",
    "    \n",
    "#    files = [name for name in os.listdir(dir_lblrtm) \n",
    "#             if name.endswith('.f90')]\n",
    "    files = ['lblrtm.f90',]\n",
    "    paths = [os.path.join(dir_lblrtm, file) for file in files]\n",
    "    return paths"
   ]
  },
  {
   "cell_type": "code",
   "execution_count": 3,
   "metadata": {
    "collapsed": false
   },
   "outputs": [],
   "source": [
    "def detect_encoding(readfrom=None):\n",
    "    '''\n",
    "    Use the *chardet* module to determine the encoding\n",
    "    of a file.\n",
    "    \n",
    "    Parameters\n",
    "    ----------\n",
    "    readfrom: path to file whose encoding is to be determined\n",
    "    '''\n",
    "    proc = subprocess.Popen(['chardetect', readfrom], \n",
    "                            stdout=subprocess.PIPE)\n",
    "    out = proc.communicate()[0]\n",
    "    encoding = out.decode('utf-8').split()[1]\n",
    "    return encoding\n",
    "\n",
    "\n",
    "\n",
    "def get_filecontent(readfrom=None):\n",
    "    '''\n",
    "    Determine encoding of file first, then open it, read it\n",
    "    and return its content\n",
    "    \n",
    "    Parameters\n",
    "    ----------\n",
    "    readfrom: path to file whose content is to be returned\n",
    "    '''\n",
    "    encoding = detect_encoding(readfrom=readfrom)\n",
    "    with open(readfrom, mode='r', encoding=encoding) as f:\n",
    "        c = f.read()\n",
    "    return c\n",
    "\n",
    "\n",
    "\n",
    "def lowercase_fortran(readfrom=None, chname='lowercase'):\n",
    "    '''\n",
    "    Turn all content of file into lowercase\n",
    "    \n",
    "    Parameters\n",
    "    ----------\n",
    "    readfrom: path to file whose content is to be turned into lowercase\n",
    "    '''\n",
    "    basename = os.path.basename(readfrom)\n",
    "    filename, extension = os.path.splitext(basename)\n",
    "    c = get_filecontent(readfrom=readfrom)\n",
    "    \n",
    "    if chname:\n",
    "        name_insert = '_{}'.format(chname)\n",
    "    else:\n",
    "        name_insert = ''\n",
    "        \n",
    "    with open(filename + name_insert + extension, \n",
    "              mode='w', encoding='utf-8') as f:\n",
    "        f.write(c.lower())\n"
   ]
  },
  {
   "cell_type": "code",
   "execution_count": 4,
   "metadata": {
    "collapsed": true
   },
   "outputs": [],
   "source": [
    "os.chdir(dir_src_lblrtm())"
   ]
  },
  {
   "cell_type": "code",
   "execution_count": 5,
   "metadata": {
    "collapsed": false
   },
   "outputs": [
    {
     "name": "stdout",
     "output_type": "stream",
     "text": [
      "fftscn.f90\n",
      "util_linux_pgi.f90\n",
      "ncargks.f90\n",
      "util_gfortran.f90\n",
      "lbllow.f90\n",
      "contnm.f90\n",
      "util_aix.f90\n",
      "util_OS_X_absoft.f90\n",
      "planet_mars.f90\n",
      "planet_earth.f90\n",
      "lblatm.f90\n",
      "phys_consts.f90\n",
      "util_OS_X_ifort.f90\n",
      "util_sgi.f90\n",
      "xmerge.f90\n",
      "pltlbl.f90\n",
      "util_OS_X_ibm_xl.f90\n",
      "util_linux_intel.f90\n",
      "lblrtm.f90\n",
      "util_cray.f90\n",
      "util_dos.f90\n",
      "postsub.f90\n",
      "nonlte.f90\n",
      "oprop.f90\n",
      "util_hp.f90\n",
      "fftscn_dbl.f90\n",
      "util_alpha.f90\n",
      "struct_types.f90\n",
      "testmm.f90\n",
      "lblparams.f90\n",
      "util_sun.f90\n",
      "util_OS_X_g95.f90\n",
      "lbldum.f90\n",
      "solar.f90\n"
     ]
    }
   ],
   "source": [
    "for name in os.listdir():\n",
    "    if name.endswith('.f90'):\n",
    "        print(name)\n",
    "        lowercase_fortran(readfrom=name, chname='')"
   ]
  },
  {
   "cell_type": "markdown",
   "metadata": {},
   "source": [
    "## LBLRTM main program"
   ]
  },
  {
   "cell_type": "code",
   "execution_count": 18,
   "metadata": {
    "collapsed": true
   },
   "outputs": [],
   "source": [
    "def dir_example():\n",
    "    directory = os.path.join('/nuwa_cluster/home/jackyu',\n",
    "                             'line_by_line/aerlbl_v12.2_package', \n",
    "                             'runs/LW',\n",
    "                             'run_mls70pro_H2O_cont')\n",
    "    return directory\n",
    "\n",
    "\n",
    "\n",
    "def get_signposts(readfrom='out.log'):\n",
    "    '''\n",
    "    Return the set of unique tuples of (signpost number, statement)\n",
    "    that are evaluated in the lblrtm run.  From this set, it can be\n",
    "    seen if certain signpost numbers or statements are reused;\n",
    "    each signpost number should have a unique statement.\n",
    "    \n",
    "    Parameters\n",
    "    ----------\n",
    "    readfrom: path to file which contains the output of `write`\n",
    "              statements which have been placed in the source code\n",
    "              as markers\n",
    "    '''\n",
    "    with open(readfrom, mode='r', encoding='utf-8') as f:\n",
    "        lines = f.readlines()\n",
    "        \n",
    "    lines = [l.strip() for l in lines \n",
    "             if l.strip().startswith('signpost')]\n",
    "    \n",
    "    lst_sgnpost_sgn = [l.split(' ', 1) for l in lines]\n",
    "    \n",
    "    lst_sgnpost_sgn = [(int(sgnpost\n",
    "                            .split('signpost')[1]\n",
    "                            .split('.')[0]),\n",
    "                        sgn)\n",
    "                       for sgnpost, sgn in lst_sgnpost_sgn]\n",
    "    \n",
    "    return set(lst_sgnpost_sgn)"
   ]
  },
  {
   "cell_type": "markdown",
   "metadata": {},
   "source": [
    "The LBLRTM main program contains numerous `if` statements and statement labels (e.g. `10 continue`).  Depending on the type of calculation specified by the input parametres in TAPE5, not all of these are executed in each LBLRTM run.  By placing `write` statements that write to the standard output just *inside* all top-level `if` statements, or immediately after *continue* statements, it is possible to determine the ones that a particular LBLRTM run goes through (or evaluates).\n",
    "\n",
    "For a typical longwave flux calculation run that I have been using, these are all the unique `if` and `continue` statements that are evaluated.  Some of them are evaluated more than once.  To see the exact sequence in which they are evaluated, see the 'out.log' file that is created when the `write` statements are placed in the source code.  "
   ]
  },
  {
   "cell_type": "code",
   "execution_count": 16,
   "metadata": {
    "collapsed": false
   },
   "outputs": [
    {
     "data": {
      "text/plain": [
       "{(1, 'elseif (icntnm.eq.1) then'),\n",
       " (2, 'if (ihirac.gt.0) then'),\n",
       " (3, 'else read (cmrg(2),930) imrg'),\n",
       " (4, 'if (ihirac.eq.1.or.ihirac.eq.4.or.ilblf4.ge.1) then'),\n",
       " (5, 'if (icntnm.ne.0) then'),\n",
       " (6, 'if ((ihirac+iaersl+iemit+iatm+ilas).gt.0) then'),\n",
       " (7, '40 continue'),\n",
       " (8, 'if (iod.eq.0) then'),\n",
       " (9, 'if (ihirac+iatm+imrg.gt.0) then'),\n",
       " (10, 'if (imrg.eq.1) then'),\n",
       " (11, '60 continue'),\n",
       " (12, '70 continue'),\n",
       " (13, 'if (icntnm.eq.0) then'),\n",
       " (14, 'if (mmrg.ge.3) then'),\n",
       " (15, 'if (iemit.gt.0) then'),\n",
       " (16, 'if ((mmrg.ge.3).and.(mmrg.ne.9)) then'),\n",
       " (17, 'if (cxida(1).eq.cprcnt) then'),\n",
       " (18, '90 conitnue')}"
      ]
     },
     "execution_count": 16,
     "metadata": {},
     "output_type": "execute_result"
    }
   ],
   "source": [
    "get_signposts(readfrom=os.path.join(dir_example(), 'out.log'))"
   ]
  },
  {
   "cell_type": "code",
   "execution_count": 17,
   "metadata": {
    "collapsed": false
   },
   "outputs": [
    {
     "data": {
      "text/html": [
       "<script>\n",
       "code_show=true; \n",
       "function code_toggle() {\n",
       " if (code_show){\n",
       " $('div.input').hide();\n",
       " } else {\n",
       " $('div.input').show();\n",
       " }\n",
       " code_show = !code_show\n",
       "} \n",
       "$( document ).ready(code_toggle);\n",
       "</script>\n",
       "<form action=\"javascript:code_toggle()\"><input type=\"submit\" value=\"Click here to toggle on/off the raw code.\"></form>"
      ],
      "text/plain": [
       "<IPython.core.display.HTML object>"
      ]
     },
     "execution_count": 17,
     "metadata": {},
     "output_type": "execute_result"
    }
   ],
   "source": [
    "display.HTML('''<script>\n",
    "code_show=true; \n",
    "function code_toggle() {\n",
    " if (code_show){\n",
    " $('div.input').hide();\n",
    " } else {\n",
    " $('div.input').show();\n",
    " }\n",
    " code_show = !code_show\n",
    "} \n",
    "$( document ).ready(code_toggle);\n",
    "</script>\n",
    "<form action=\"javascript:code_toggle()\"><input type=\"submit\" value=\"Click here to toggle on/off the raw code.\"></form>''')"
   ]
  },
  {
   "cell_type": "code",
   "execution_count": null,
   "metadata": {
    "collapsed": true
   },
   "outputs": [],
   "source": []
  }
 ],
 "metadata": {
  "kernelspec": {
   "display_name": "Python 3",
   "language": "python",
   "name": "python3"
  },
  "language_info": {
   "codemirror_mode": {
    "name": "ipython",
    "version": 3
   },
   "file_extension": ".py",
   "mimetype": "text/x-python",
   "name": "python",
   "nbconvert_exporter": "python",
   "pygments_lexer": "ipython3",
   "version": "3.4.4"
  }
 },
 "nbformat": 4,
 "nbformat_minor": 0
}
